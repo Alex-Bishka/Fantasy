{
 "cells": [
  {
   "cell_type": "markdown",
   "id": "fbfa5cf2",
   "metadata": {},
   "source": [
    "# Imports"
   ]
  },
  {
   "cell_type": "code",
   "execution_count": 1,
   "id": "3984a115",
   "metadata": {},
   "outputs": [],
   "source": [
    "from utils.utils import grab_data\n",
    "from utils.clustering import (create_vectors_advanced, get_candidate_cluster_n_values,\n",
    "create_clusters_advanced, create_cluster_df, graph_pair_plot, graph_pair_plot_plotly)"
   ]
  },
  {
   "cell_type": "markdown",
   "id": "109b58a1",
   "metadata": {},
   "source": [
    "# Grabbing Data"
   ]
  },
  {
   "cell_type": "code",
   "execution_count": 2,
   "id": "4a1bece7",
   "metadata": {},
   "outputs": [
    {
     "data": {
      "text/html": [
       "<div>\n",
       "<style scoped>\n",
       "    .dataframe tbody tr th:only-of-type {\n",
       "        vertical-align: middle;\n",
       "    }\n",
       "\n",
       "    .dataframe tbody tr th {\n",
       "        vertical-align: top;\n",
       "    }\n",
       "\n",
       "    .dataframe thead th {\n",
       "        text-align: right;\n",
       "    }\n",
       "</style>\n",
       "<table border=\"1\" class=\"dataframe\">\n",
       "  <thead>\n",
       "    <tr style=\"text-align: right;\">\n",
       "      <th></th>\n",
       "      <th>Index</th>\n",
       "      <th>season</th>\n",
       "      <th>season_type</th>\n",
       "      <th>completions</th>\n",
       "      <th>attempts</th>\n",
       "      <th>passing_yards</th>\n",
       "      <th>passing_tds</th>\n",
       "      <th>interceptions</th>\n",
       "      <th>sacks</th>\n",
       "      <th>sack_yards</th>\n",
       "      <th>...</th>\n",
       "      <th>wopr_x per game</th>\n",
       "      <th>special_teams_tds per game</th>\n",
       "      <th>fantasy_points per game</th>\n",
       "      <th>fantasy_points_ppr per game</th>\n",
       "      <th>tgt_sh per game</th>\n",
       "      <th>wopr_y per game</th>\n",
       "      <th>dom per game</th>\n",
       "      <th>w8dom per game</th>\n",
       "      <th>yptmpa per game</th>\n",
       "      <th>total_epa per game</th>\n",
       "    </tr>\n",
       "  </thead>\n",
       "  <tbody>\n",
       "    <tr>\n",
       "      <th>0</th>\n",
       "      <td>2</td>\n",
       "      <td>2023</td>\n",
       "      <td>REG</td>\n",
       "      <td>166</td>\n",
       "      <td>278</td>\n",
       "      <td>2070.0</td>\n",
       "      <td>8</td>\n",
       "      <td>7.0</td>\n",
       "      <td>19.0</td>\n",
       "      <td>145.0</td>\n",
       "      <td>...</td>\n",
       "      <td>0.0</td>\n",
       "      <td>0.0</td>\n",
       "      <td>13.95</td>\n",
       "      <td>13.95</td>\n",
       "      <td>0.0</td>\n",
       "      <td>0.0</td>\n",
       "      <td>0.0</td>\n",
       "      <td>0.0</td>\n",
       "      <td>0.0</td>\n",
       "      <td>2.377215</td>\n",
       "    </tr>\n",
       "  </tbody>\n",
       "</table>\n",
       "<p>1 rows × 107 columns</p>\n",
       "</div>"
      ],
      "text/plain": [
       "   Index  season season_type  completions  attempts  passing_yards  \\\n",
       "0      2    2023         REG          166       278         2070.0   \n",
       "\n",
       "   passing_tds  interceptions  sacks  sack_yards  ...  wopr_x per game  \\\n",
       "0            8            7.0   19.0       145.0  ...              0.0   \n",
       "\n",
       "   special_teams_tds per game  fantasy_points per game  \\\n",
       "0                         0.0                    13.95   \n",
       "\n",
       "   fantasy_points_ppr per game  tgt_sh per game  wopr_y per game  \\\n",
       "0                        13.95              0.0              0.0   \n",
       "\n",
       "   dom per game  w8dom per game  yptmpa per game  total_epa per game  \n",
       "0           0.0             0.0              0.0            2.377215  \n",
       "\n",
       "[1 rows x 107 columns]"
      ]
     },
     "execution_count": 2,
     "metadata": {},
     "output_type": "execute_result"
    }
   ],
   "source": [
    "import pandas as pd\n",
    "\n",
    "base_path = \"FantasyData/advanced-stats\"\n",
    "file_path = f\"{base_path}/QB/2023.csv\"\n",
    "\n",
    "df = pd.read_csv(file_path, index_col=0)\n",
    "df.head(1)"
   ]
  },
  {
   "cell_type": "code",
   "execution_count": 3,
   "id": "51404f59",
   "metadata": {},
   "outputs": [],
   "source": [
    "position = \"QB\"\n",
    "chosen_cluster_number = 6\n",
    "\n",
    "font_size = 10\n",
    "marker_size = 6\n",
    "dim = 1000"
   ]
  },
  {
   "cell_type": "markdown",
   "id": "0c3a639d",
   "metadata": {},
   "source": [
    "# Testing Function"
   ]
  },
  {
   "cell_type": "code",
   "execution_count": 4,
   "id": "ce7db340",
   "metadata": {},
   "outputs": [
    {
     "data": {
      "text/plain": [
       "Index(['Index', 'season', 'season_type', 'completions', 'attempts',\n",
       "       'passing_yards', 'passing_tds', 'interceptions', 'sacks', 'sack_yards',\n",
       "       ...\n",
       "       'wopr_x per game', 'special_teams_tds per game',\n",
       "       'fantasy_points per game', 'fantasy_points_ppr per game',\n",
       "       'tgt_sh per game', 'wopr_y per game', 'dom per game', 'w8dom per game',\n",
       "       'yptmpa per game', 'total_epa per game'],\n",
       "      dtype='object', length=107)"
      ]
     },
     "execution_count": 4,
     "metadata": {},
     "output_type": "execute_result"
    }
   ],
   "source": [
    "df.columns"
   ]
  },
  {
   "cell_type": "code",
   "execution_count": 5,
   "id": "6cbf4301",
   "metadata": {},
   "outputs": [
    {
     "data": {
      "text/html": [
       "<div>\n",
       "<style scoped>\n",
       "    .dataframe tbody tr th:only-of-type {\n",
       "        vertical-align: middle;\n",
       "    }\n",
       "\n",
       "    .dataframe tbody tr th {\n",
       "        vertical-align: top;\n",
       "    }\n",
       "\n",
       "    .dataframe thead th {\n",
       "        text-align: right;\n",
       "    }\n",
       "</style>\n",
       "<table border=\"1\" class=\"dataframe\">\n",
       "  <thead>\n",
       "    <tr style=\"text-align: right;\">\n",
       "      <th></th>\n",
       "      <th>dakota</th>\n",
       "      <th>passing_epa</th>\n",
       "      <th>fantasy_points</th>\n",
       "      <th>total_epa</th>\n",
       "      <th>rushing_epa</th>\n",
       "    </tr>\n",
       "  </thead>\n",
       "  <tbody>\n",
       "    <tr>\n",
       "      <th>0</th>\n",
       "      <td>0.368248</td>\n",
       "      <td>10.725585</td>\n",
       "      <td>111.6</td>\n",
       "      <td>19.017716</td>\n",
       "      <td>8.292132</td>\n",
       "    </tr>\n",
       "  </tbody>\n",
       "</table>\n",
       "</div>"
      ],
      "text/plain": [
       "     dakota  passing_epa  fantasy_points  total_epa  rushing_epa\n",
       "0  0.368248    10.725585           111.6  19.017716     8.292132"
      ]
     },
     "execution_count": 5,
     "metadata": {},
     "output_type": "execute_result"
    }
   ],
   "source": [
    "suffix = \"advanced-\"\n",
    "\n",
    "# subset_cols = [\"dakota\", \"pacr\", \"passing_epa\", \"passing_air_yards\"]\n",
    "# subset_cols = [\"dakota per game\", \"pacr per game\", \"passing_epa per game\", \"passing_air_yards per game\"]\n",
    "\n",
    "subset_cols = [\"dakota\", \"passing_epa\", \"fantasy_points\", \"total_epa\", \"rushing_epa\"]\n",
    "# subset_cols = [\"dakota per game\", \"passing_epa per game\", \"fantasy_points per game\", \"total_epa per game\"]\n",
    "\n",
    "subset_df = df[subset_cols]\n",
    "subset_df.head(1)"
   ]
  },
  {
   "cell_type": "markdown",
   "id": "c187182c",
   "metadata": {},
   "source": [
    "# Cluster Work"
   ]
  },
  {
   "cell_type": "markdown",
   "id": "d904da63",
   "metadata": {},
   "source": [
    "## Generating X"
   ]
  },
  {
   "cell_type": "code",
   "execution_count": 6,
   "id": "631104ed",
   "metadata": {},
   "outputs": [],
   "source": [
    "X, X_scaled = create_vectors_advanced(subset_df)"
   ]
  },
  {
   "cell_type": "markdown",
   "id": "91daa342",
   "metadata": {},
   "source": [
    "## Finding Optimal N Value"
   ]
  },
  {
   "cell_type": "code",
   "execution_count": 7,
   "id": "96b28d48",
   "metadata": {},
   "outputs": [
    {
     "data": {
      "image/png": "[encoded data removed]",
      "text/plain": [
       "<Figure size 432x288 with 1 Axes>"
      ]
     },
     "metadata": {
      "needs_background": "light"
     },
     "output_type": "display_data"
    },
    {
     "data": {
      "text/html": [
       "<style>#sk-container-id-1 {color: black;}#sk-container-id-1 pre{padding: 0;}#sk-container-id-1 div.sk-toggleable {background-color: white;}#sk-container-id-1 label.sk-toggleable__label {cursor: pointer;display: block;width: 100%;margin-bottom: 0;padding: 0.3em;box-sizing: border-box;text-align: center;}#sk-container-id-1 label.sk-toggleable__label-arrow:before {content: \"▸\";float: left;margin-right: 0.25em;color: #696969;}#sk-container-id-1 label.sk-toggleable__label-arrow:hover:before {color: black;}#sk-container-id-1 div.sk-estimator:hover label.sk-toggleable__label-arrow:before {color: black;}#sk-container-id-1 div.sk-toggleable__content {max-height: 0;max-width: 0;overflow: hidden;text-align: left;background-color: #f0f8ff;}#sk-container-id-1 div.sk-toggleable__content pre {margin: 0.2em;color: black;border-radius: 0.25em;background-color: #f0f8ff;}#sk-container-id-1 input.sk-toggleable__control:checked~div.sk-toggleable__content {max-height: 200px;max-width: 100%;overflow: auto;}#sk-container-id-1 input.sk-toggleable__control:checked~label.sk-toggleable__label-arrow:before {content: \"▾\";}#sk-container-id-1 div.sk-estimator input.sk-toggleable__control:checked~label.sk-toggleable__label {background-color: #d4ebff;}#sk-container-id-1 div.sk-label input.sk-toggleable__control:checked~label.sk-toggleable__label {background-color: #d4ebff;}#sk-container-id-1 input.sk-hidden--visually {border: 0;clip: rect(1px 1px 1px 1px);clip: rect(1px, 1px, 1px, 1px);height: 1px;margin: -1px;overflow: hidden;padding: 0;position: absolute;width: 1px;}#sk-container-id-1 div.sk-estimator {font-family: monospace;background-color: #f0f8ff;border: 1px dotted black;border-radius: 0.25em;box-sizing: border-box;margin-bottom: 0.5em;}#sk-container-id-1 div.sk-estimator:hover {background-color: #d4ebff;}#sk-container-id-1 div.sk-parallel-item::after {content: \"\";width: 100%;border-bottom: 1px solid gray;flex-grow: 1;}#sk-container-id-1 div.sk-label:hover label.sk-toggleable__label {background-color: #d4ebff;}#sk-container-id-1 div.sk-serial::before {content: \"\";position: absolute;border-left: 1px solid gray;box-sizing: border-box;top: 0;bottom: 0;left: 50%;z-index: 0;}#sk-container-id-1 div.sk-serial {display: flex;flex-direction: column;align-items: center;background-color: white;padding-right: 0.2em;padding-left: 0.2em;position: relative;}#sk-container-id-1 div.sk-item {position: relative;z-index: 1;}#sk-container-id-1 div.sk-parallel {display: flex;align-items: stretch;justify-content: center;background-color: white;position: relative;}#sk-container-id-1 div.sk-item::before, #sk-container-id-1 div.sk-parallel-item::before {content: \"\";position: absolute;border-left: 1px solid gray;box-sizing: border-box;top: 0;bottom: 0;left: 50%;z-index: -1;}#sk-container-id-1 div.sk-parallel-item {display: flex;flex-direction: column;z-index: 1;position: relative;background-color: white;}#sk-container-id-1 div.sk-parallel-item:first-child::after {align-self: flex-end;width: 50%;}#sk-container-id-1 div.sk-parallel-item:last-child::after {align-self: flex-start;width: 50%;}#sk-container-id-1 div.sk-parallel-item:only-child::after {width: 0;}#sk-container-id-1 div.sk-dashed-wrapped {border: 1px dashed gray;margin: 0 0.4em 0.5em 0.4em;box-sizing: border-box;padding-bottom: 0.4em;background-color: white;}#sk-container-id-1 div.sk-label label {font-family: monospace;font-weight: bold;display: inline-block;line-height: 1.2em;}#sk-container-id-1 div.sk-label-container {text-align: center;}#sk-container-id-1 div.sk-container {/* jupyter's `normalize.less` sets `[hidden] { display: none; }` but bootstrap.min.css set `[hidden] { display: none !important; }` so we also need the `!important` here to be able to override the default hidden behavior on the sphinx rendered scikit-learn.org. See: https://github.com/scikit-learn/scikit-learn/issues/21755 */display: inline-block !important;position: relative;}#sk-container-id-1 div.sk-text-repr-fallback {display: none;}</style><div id=\"sk-container-id-1\" class=\"sk-top-container\"><div class=\"sk-text-repr-fallback\"><pre>KMeans(algorithm=&#x27;elkan&#x27;, n_clusters=10, n_init=10)</pre><b>In a Jupyter environment, please rerun this cell to show the HTML representation or trust the notebook. <br />On GitHub, the HTML representation is unable to render, please try loading this page with nbviewer.org.</b></div><div class=\"sk-container\" hidden><div class=\"sk-item\"><div class=\"sk-estimator sk-toggleable\"><input class=\"sk-toggleable__control sk-hidden--visually\" id=\"sk-estimator-id-1\" type=\"checkbox\" checked><label for=\"sk-estimator-id-1\" class=\"sk-toggleable__label sk-toggleable__label-arrow\">KMeans</label><div class=\"sk-toggleable__content\"><pre>KMeans(algorithm=&#x27;elkan&#x27;, n_clusters=10, n_init=10)</pre></div></div></div></div></div>"
      ],
      "text/plain": [
       "KMeans(algorithm='elkan', n_clusters=10, n_init=10)"
      ]
     },
     "execution_count": 7,
     "metadata": {},
     "output_type": "execute_result"
    }
   ],
   "source": [
    "get_candidate_cluster_n_values(X_scaled=X_scaled)"
   ]
  },
  {
   "cell_type": "markdown",
   "id": "9e6d0e66",
   "metadata": {},
   "source": [
    "## Creating Clusters"
   ]
  },
  {
   "cell_type": "code",
   "execution_count": 8,
   "id": "2046b08a",
   "metadata": {},
   "outputs": [],
   "source": [
    "labels, cluster_ranking = create_clusters_advanced(cluster_num=chosen_cluster_number, X_scaled=X_scaled, df=df)"
   ]
  },
  {
   "cell_type": "markdown",
   "id": "eca95e7a",
   "metadata": {},
   "source": [
    "## Creating Cluster DF"
   ]
  },
  {
   "cell_type": "code",
   "execution_count": 9,
   "id": "5df718cf",
   "metadata": {},
   "outputs": [],
   "source": [
    "cluster_df = create_cluster_df(labels=labels, X=X, stats=subset_cols)"
   ]
  },
  {
   "cell_type": "code",
   "execution_count": 10,
   "id": "23d169ec",
   "metadata": {},
   "outputs": [
    {
     "data": {
      "text/html": [
       "<div>\n",
       "<style scoped>\n",
       "    .dataframe tbody tr th:only-of-type {\n",
       "        vertical-align: middle;\n",
       "    }\n",
       "\n",
       "    .dataframe tbody tr th {\n",
       "        vertical-align: top;\n",
       "    }\n",
       "\n",
       "    .dataframe thead th {\n",
       "        text-align: right;\n",
       "    }\n",
       "</style>\n",
       "<table border=\"1\" class=\"dataframe\">\n",
       "  <thead>\n",
       "    <tr style=\"text-align: right;\">\n",
       "      <th></th>\n",
       "      <th>dakota</th>\n",
       "      <th>passing_epa</th>\n",
       "      <th>fantasy_points</th>\n",
       "      <th>total_epa</th>\n",
       "      <th>rushing_epa</th>\n",
       "      <th>Cluster</th>\n",
       "    </tr>\n",
       "  </thead>\n",
       "  <tbody>\n",
       "    <tr>\n",
       "      <th>0</th>\n",
       "      <td>0.368248</td>\n",
       "      <td>10.725585</td>\n",
       "      <td>111.6</td>\n",
       "      <td>19.017716</td>\n",
       "      <td>8.292132</td>\n",
       "      <td>4</td>\n",
       "    </tr>\n",
       "  </tbody>\n",
       "</table>\n",
       "</div>"
      ],
      "text/plain": [
       "     dakota  passing_epa  fantasy_points  total_epa  rushing_epa Cluster\n",
       "0  0.368248    10.725585           111.6  19.017716     8.292132       4"
      ]
     },
     "execution_count": 10,
     "metadata": {},
     "output_type": "execute_result"
    }
   ],
   "source": [
    "cluster_df.head(1)"
   ]
  },
  {
   "cell_type": "markdown",
   "id": "bc2b5b54",
   "metadata": {},
   "source": [
    "## Graphing Clusters"
   ]
  },
  {
   "cell_type": "code",
   "execution_count": 18,
   "id": "2ddd1000",
   "metadata": {},
   "outputs": [
    {
     "data": {
      "application/vnd.plotly.v1+json": {
       "config": {
        "plotlyServerURL": "https://plot.ly"
       },
       "data": [
        {
         "diagonal": {
          "visible": false
         },
         "dimensions": [
          {
           "axis": {
            "matches": true
           },
           "label": "dakota",
           "values": [
            0.3682484607697661,
            0.9928613979378744,
            0,
            0.6466365185109302,
            0.7274523198897783,
            0.4310340291087192,
            0.8733505997641917,
            0.2292945854143272
           ]
          },
          {
           "axis": {
            "matches": true
           },
           "label": "passing_epa",
           "values": [
            10.725584671534822,
            -7.331117471724933,
            3.749527665786445,
            -52.53598259725132,
            -2.258517931442473,
            -22.82352604599237,
            -27.48922541512704,
            -23.398139111774302
           ]
          },
          {
           "axis": {
            "matches": true
           },
           "label": "fantasy_points",
           "values": [
            111.6,
            134.62,
            70.58000000000001,
            151.48000000000002,
            133.9,
            105.74,
            158.54000000000002,
            45.58
           ]
          },
          {
           "axis": {
            "matches": true
           },
           "label": "total_epa",
           "values": [
            19.01771634350786,
            9.200210381312209,
            17.26269386632257,
            -40.073275987709536,
            2.7603114732250127,
            -13.624222342642865,
            -12.304912690856982,
            -11.009252150386835
           ]
          },
          {
           "axis": {
            "matches": true
           },
           "label": "rushing_epa",
           "values": [
            8.292131671973038,
            16.53132785303714,
            13.513166200536125,
            12.462706609541785,
            5.0188294046674855,
            9.199303703349509,
            15.18431272427006,
            12.38888696138747
           ]
          }
         ],
         "hovertemplate": "<b>%{hovertext}</b><br><br>Cluster=4<br>%{xaxis.title.text}=%{x}<br>%{yaxis.title.text}=%{y}<extra></extra>",
         "hovertext": [
          "Matthew Stafford",
          "Russell Wilson",
          "Taysom Hill",
          "Joshua Dobbs",
          "Jordan Love",
          "Justin Fields",
          "Sam Howell",
          "Tyson Bagent"
         ],
         "legendgroup": "4",
         "marker": {
          "color": "#636efa",
          "size": 6,
          "symbol": "circle"
         },
         "name": "4",
         "showlegend": true,
         "showupperhalf": false,
         "type": "splom"
        },
        {
         "diagonal": {
          "visible": false
         },
         "dimensions": [
          {
           "axis": {
            "matches": true
           },
           "label": "dakota",
           "values": [
            0.1840162964022598,
            0.0633122045620053,
            0.4506306986276533,
            -0.0053011715559731,
            0.1470720155162256,
            -0.077470844433734,
            0.2126014832282865,
            0,
            -0.075140933105789,
            0,
            0,
            0,
            0,
            -0.1531146085632459,
            0.3209788243344781,
            -0.1188696780205886,
            0.1434356379779179,
            -0.1719140103707918,
            0.315648154570637,
            -0.0312382630832397,
            -0.0155052945466174,
            0.2574159881318005,
            0.1936333114243632,
            0.2241944468760002
           ]
          },
          {
           "axis": {
            "matches": true
           },
           "label": "passing_epa",
           "values": [
            -8.780772753364403,
            4.548329591227218,
            -6.304451055643384,
            -5.341544220702232,
            4.559364769967704,
            -23.282820675185352,
            -18.757813386578903,
            -4.763626132335048,
            -8.76727187942015,
            0.4268732601776719,
            -4.286713795969263,
            0,
            -1.055569262010977,
            -19.72529150741344,
            4.248786957614357,
            -10.563140670667524,
            -0.068276936013552,
            -21.8299683596706,
            -0.1702205615341547,
            -34.74954317265656,
            -26.66715145729284,
            2.3156480597390328,
            2.284306902127876,
            4.587791287072113
           ]
          },
          {
           "axis": {
            "matches": true
           },
           "label": "fantasy_points",
           "values": [
            4.94,
            23.64,
            40.96,
            1.64,
            27.12,
            19.82,
            70.58,
            0.54,
            8.04,
            0.1599999999999999,
            4.18,
            -0.7000000000000001,
            -0.46,
            6.78,
            7.119999999999999,
            3.16,
            3.06,
            15.86,
            23.18,
            -0.7199999999999999,
            1.6,
            3.040000000000001,
            35.3,
            72.68
           ]
          },
          {
           "axis": {
            "matches": true
           },
           "label": "total_epa",
           "values": [
            -10.596118293716104,
            5.976789555221319,
            -6.161049751383487,
            -9.812014239852758,
            6.207545777444228,
            -28.534383510878904,
            -13.807620045467583,
            -12.157253984420096,
            -7.7808816257165745,
            -0.64209521911107,
            -8.186839252273785,
            -2.33477472566301,
            -4.528874509414891,
            -18.389185069980392,
            -0.2199554858379997,
            -10.563140670667524,
            -7.0366066116838,
            -22.23436582274735,
            -0.6086754391775351,
            -34.33291766408365,
            -26.453687824204447,
            0.2361512718905487,
            -1.266352976051555,
            5.017895626334584
           ]
          },
          {
           "axis": {
            "matches": true
           },
           "label": "rushing_epa",
           "values": [
            -1.8153455403517,
            1.4284599639941007,
            0.1434013042598962,
            -4.470470019150525,
            1.6481810074765235,
            -5.251562835693553,
            4.950193341111321,
            -7.3936278520850465,
            0.9863902537035756,
            -1.068968479288742,
            -3.900125456304522,
            -2.33477472566301,
            -3.473305247403914,
            1.3361064374330454,
            -4.468742443452356,
            0,
            -6.968329675670248,
            -0.4043974630767479,
            -0.4384548776433803,
            0.4166255085729062,
            0.213463633088395,
            -2.079496787848484,
            -3.550659878179431,
            0.4301043392624706
           ]
          }
         ],
         "hovertemplate": "<b>%{hovertext}</b><br><br>Cluster=0<br>%{xaxis.title.text}=%{x}<br>%{yaxis.title.text}=%{y}<extra></extra>",
         "hovertext": [
          "Brian Hoyer",
          "Andy Dalton",
          "Tyrod Taylor",
          "Jameis Winston",
          "Taylor Heinicke",
          "P.J. Walker",
          "Deshaun Watson",
          "Cooper Rush",
          "Mitchell Trubisky",
          "C.J. Beathard",
          "Mike White",
          "Kyle Allen",
          "Sam Darnold",
          "Brett Rypien",
          "Tyler Huntley",
          "Bailey Zappe",
          "Malik Willis",
          "Tommy DeVito",
          "Aidan O'Connell",
          "Clayton Tune",
          "Dorian Thompson-Robinson",
          "Jaren Hall",
          "Will Levis",
          "Anthony Richardson"
         ],
         "legendgroup": "0",
         "marker": {
          "color": "#EF553B",
          "size": 6,
          "symbol": "circle"
         },
         "name": "0",
         "showlegend": true,
         "showupperhalf": false,
         "type": "splom"
        },
        {
         "diagonal": {
          "visible": false
         },
         "dimensions": [
          {
           "axis": {
            "matches": true
           },
           "label": "dakota",
           "values": [
            1.0611103338147518,
            1.151329083881798,
            1.0575076934688783,
            1.1661270991485972,
            0.8988681330443147,
            1.502274062347405,
            0.742473580815316,
            0.965447144384748
           ]
          },
          {
           "axis": {
            "matches": true
           },
           "label": "passing_epa",
           "values": [
            37.10304547110406,
            33.63137152429786,
            33.593029619613084,
            17.316285691768957,
            25.353070706135934,
            84.77890557690783,
            36.65909856927584,
            54.16918844082156
           ]
          },
          {
           "axis": {
            "matches": true
           },
           "label": "fantasy_points",
           "values": [
            149.74,
            140.24,
            138.26000000000002,
            170.16000000000005,
            130.8,
            165.66,
            155.84,
            155.6
           ]
          },
          {
           "axis": {
            "matches": true
           },
           "label": "total_epa",
           "values": [
            38.79041409571489,
            41.16689530288218,
            24.62992008764937,
            23.996719892380213,
            22.386798744780965,
            58.06078032774101,
            40.74681847671318,
            57.41960915112631
           ]
          },
          {
           "axis": {
            "matches": true
           },
           "label": "rushing_epa",
           "values": [
            1.6873686246108264,
            7.53552377858432,
            -8.96310953196371,
            6.680434200611254,
            -2.966271961354972,
            -26.718125249166818,
            4.087719907437337,
            3.250420710304752
           ]
          }
         ],
         "hovertemplate": "<b>%{hovertext}</b><br><br>Cluster=1<br>%{xaxis.title.text}=%{x}<br>%{yaxis.title.text}=%{y}<extra></extra>",
         "hovertext": [
          "Kirk Cousins",
          "Dak Prescott",
          "Jared Goff",
          "Lamar Jackson",
          "Baker Mayfield",
          "Tua Tagovailoa",
          "Justin Herbert",
          "C.J. Stroud"
         ],
         "legendgroup": "1",
         "marker": {
          "color": "#00cc96",
          "size": 6,
          "symbol": "circle"
         },
         "name": "1",
         "showlegend": true,
         "showupperhalf": false,
         "type": "splom"
        },
        {
         "diagonal": {
          "visible": false
         },
         "dimensions": [
          {
           "axis": {
            "matches": true
           },
           "label": "dakota",
           "values": [
            0.5071118308767872,
            0.6875801575493811,
            0.7950302906198758,
            0.4281019083343923,
            0.7714772587305241,
            0.7118079522700166,
            0.8296614007828869
           ]
          },
          {
           "axis": {
            "matches": true
           },
           "label": "passing_epa",
           "values": [
            -18.62460762289768,
            -1.7453550250176129,
            -3.1470083310910746,
            -17.026532385594486,
            -10.772911280908222,
            -0.018734164904453,
            1.4030091006482277
           ]
          },
          {
           "axis": {
            "matches": true
           },
           "label": "fantasy_points",
           "values": [
            51.120000000000005,
            97.18,
            117.14,
            64.1,
            91.58,
            118.54,
            121
           ]
          },
          {
           "axis": {
            "matches": true
           },
           "label": "total_epa",
           "values": [
            -24.238739989186364,
            -11.652884210078025,
            -18.21625582350621,
            -19.737652622113977,
            -9.004114614266502,
            -2.6155612289923003,
            -3.4022365456354526
           ]
          },
          {
           "axis": {
            "matches": true
           },
           "label": "rushing_epa",
           "values": [
            -5.614132366288686,
            -9.907529185060412,
            -15.06924749241513,
            -2.7111202365194917,
            1.7687966666417196,
            -2.5968270640878472,
            -4.80524564628368
           ]
          }
         ],
         "hovertemplate": "<b>%{hovertext}</b><br><br>Cluster=5<br>%{xaxis.title.text}=%{x}<br>%{yaxis.title.text}=%{y}<extra></extra>",
         "hovertext": [
          "Ryan Tannehill",
          "Geno Smith",
          "Derek Carr",
          "Jimmy Garoppolo",
          "Gardner Minshew",
          "Joe Burrow",
          "Trevor Lawrence"
         ],
         "legendgroup": "5",
         "marker": {
          "color": "#ab63fa",
          "size": 6,
          "symbol": "circle"
         },
         "name": "5",
         "showlegend": true,
         "showupperhalf": false,
         "type": "splom"
        },
        {
         "diagonal": {
          "visible": false
         },
         "dimensions": [
          {
           "axis": {
            "matches": true
           },
           "label": "dakota",
           "values": [
            1.3277752174206912,
            1.6877339278361336,
            1.518847675044633,
            1.6298229322718014
           ]
          },
          {
           "axis": {
            "matches": true
           },
           "label": "passing_epa",
           "values": [
            57.70140786557731,
            69.35960598214503,
            44.07328643080449,
            62.38044246001773
           ]
          },
          {
           "axis": {
            "matches": true
           },
           "label": "fantasy_points",
           "values": [
            171.48000000000002,
            212.22,
            205.48,
            138.01999999999998
           ]
          },
          {
           "axis": {
            "matches": true
           },
           "label": "total_epa",
           "values": [
            69.59195986132751,
            97.5020360197721,
            60.79480661684346,
            75.63906752809565
           ]
          },
          {
           "axis": {
            "matches": true
           },
           "label": "rushing_epa",
           "values": [
            11.890551995750204,
            28.14243003762708,
            16.72152018603897,
            13.25862506807792
           ]
          }
         ],
         "hovertemplate": "<b>%{hovertext}</b><br><br>Cluster=3<br>%{xaxis.title.text}=%{x}<br>%{yaxis.title.text}=%{y}<extra></extra>",
         "hovertext": [
          "Patrick Mahomes",
          "Josh Allen",
          "Jalen Hurts",
          "Brock Purdy"
         ],
         "legendgroup": "3",
         "marker": {
          "color": "#FFA15A",
          "size": 6,
          "symbol": "circle"
         },
         "name": "3",
         "showlegend": true,
         "showupperhalf": false,
         "type": "splom"
        },
        {
         "diagonal": {
          "visible": false
         },
         "dimensions": [
          {
           "axis": {
            "matches": true
           },
           "label": "dakota",
           "values": [
            0.2803233114928483,
            0.3726088261862442,
            0.0858820548285263,
            0.4548645644171127,
            0.555559476893037,
            0.312525500622431
           ]
          },
          {
           "axis": {
            "matches": true
           },
           "label": "passing_epa",
           "values": [
            -60.45500420571695,
            -40.22292531071301,
            -83.5364097096218,
            -33.95929964660643,
            -33.16622210177564,
            -71.84103785485414
           ]
          },
          {
           "axis": {
            "matches": true
           },
           "label": "fantasy_points",
           "values": [
            56.96000000000001,
            99.54,
            81,
            83.7,
            105.34,
            82.7
           ]
          },
          {
           "axis": {
            "matches": true
           },
           "label": "total_epa",
           "values": [
            -54.62047638548314,
            -45.90672090084343,
            -97.07572903048263,
            -36.90131143346732,
            -35.92675928798612,
            -65.93744170291384
           ]
          },
          {
           "axis": {
            "matches": true
           },
           "label": "rushing_epa",
           "values": [
            5.834527820233806,
            -5.683795590130414,
            -13.539319320860836,
            -2.942011786860887,
            -2.7605371862104864,
            5.903596151940292
           ]
          }
         ],
         "hovertemplate": "<b>%{hovertext}</b><br><br>Cluster=2<br>%{xaxis.title.text}=%{x}<br>%{yaxis.title.text}=%{y}<extra></extra>",
         "hovertext": [
          "Daniel Jones",
          "Mac Jones",
          "Zach Wilson",
          "Kenny Pickett",
          "Desmond Ridder",
          "Bryce Young"
         ],
         "legendgroup": "2",
         "marker": {
          "color": "#19d3f3",
          "size": 6,
          "symbol": "circle"
         },
         "name": "2",
         "showlegend": true,
         "showupperhalf": false,
         "type": "splom"
        }
       ],
       "layout": {
        "dragmode": "select",
        "font": {
         "color": "black",
         "family": "Courier New, monospace",
         "size": 10
        },
        "height": 1000,
        "legend": {
         "font": {
          "size": 18
         },
         "title": {
          "text": "Cluster"
         },
         "tracegroupgap": 0
        },
        "margin": {
         "t": 60
        },
        "paper_bgcolor": "rgba(0,0,0,0)",
        "plot_bgcolor": "rgba(245, 245, 245, 1)",
        "showlegend": true,
        "template": {
         "data": {
          "bar": [
           {
            "error_x": {
             "color": "#2a3f5f"
            },
            "error_y": {
             "color": "#2a3f5f"
            },
            "marker": {
             "line": {
              "color": "#E5ECF6",
              "width": 0.5
             },
             "pattern": {
              "fillmode": "overlay",
              "size": 10,
              "solidity": 0.2
             }
            },
            "type": "bar"
           }
          ],
          "barpolar": [
           {
            "marker": {
             "line": {
              "color": "#E5ECF6",
              "width": 0.5
             },
             "pattern": {
              "fillmode": "overlay",
              "size": 10,
              "solidity": 0.2
             }
            },
            "type": "barpolar"
           }
          ],
          "carpet": [
           {
            "aaxis": {
             "endlinecolor": "#2a3f5f",
             "gridcolor": "white",
             "linecolor": "white",
             "minorgridcolor": "white",
             "startlinecolor": "#2a3f5f"
            },
            "baxis": {
             "endlinecolor": "#2a3f5f",
             "gridcolor": "white",
             "linecolor": "white",
             "minorgridcolor": "white",
             "startlinecolor": "#2a3f5f"
            },
            "type": "carpet"
           }
          ],
          "choropleth": [
           {
            "colorbar": {
             "outlinewidth": 0,
             "ticks": ""
            },
            "type": "choropleth"
           }
          ],
          "contour": [
           {
            "colorbar": {
             "outlinewidth": 0,
             "ticks": ""
            },
            "colorscale": [
             [
              0,
              "#0d0887"
             ],
             [
              0.1111111111111111,
              "#46039f"
             ],
             [
              0.2222222222222222,
              "#7201a8"
             ],
             [
              0.3333333333333333,
              "#9c179e"
             ],
             [
              0.4444444444444444,
              "#bd3786"
             ],
             [
              0.5555555555555556,
              "#d8576b"
             ],
             [
              0.6666666666666666,
              "#ed7953"
             ],
             [
              0.7777777777777778,
              "#fb9f3a"
             ],
             [
              0.8888888888888888,
              "#fdca26"
             ],
             [
              1,
              "#f0f921"
             ]
            ],
            "type": "contour"
           }
          ],
          "contourcarpet": [
           {
            "colorbar": {
             "outlinewidth": 0,
             "ticks": ""
            },
            "type": "contourcarpet"
           }
          ],
          "heatmap": [
           {
            "colorbar": {
             "outlinewidth": 0,
             "ticks": ""
            },
            "colorscale": [
             [
              0,
              "#0d0887"
             ],
             [
              0.1111111111111111,
              "#46039f"
             ],
             [
              0.2222222222222222,
              "#7201a8"
             ],
             [
              0.3333333333333333,
              "#9c179e"
             ],
             [
              0.4444444444444444,
              "#bd3786"
             ],
             [
              0.5555555555555556,
              "#d8576b"
             ],
             [
              0.6666666666666666,
              "#ed7953"
             ],
             [
              0.7777777777777778,
              "#fb9f3a"
             ],
             [
              0.8888888888888888,
              "#fdca26"
             ],
             [
              1,
              "#f0f921"
             ]
            ],
            "type": "heatmap"
           }
          ],
          "heatmapgl": [
           {
            "colorbar": {
             "outlinewidth": 0,
             "ticks": ""
            },
            "colorscale": [
             [
              0,
              "#0d0887"
             ],
             [
              0.1111111111111111,
              "#46039f"
             ],
             [
              0.2222222222222222,
              "#7201a8"
             ],
             [
              0.3333333333333333,
              "#9c179e"
             ],
             [
              0.4444444444444444,
              "#bd3786"
             ],
             [
              0.5555555555555556,
              "#d8576b"
             ],
             [
              0.6666666666666666,
              "#ed7953"
             ],
             [
              0.7777777777777778,
              "#fb9f3a"
             ],
             [
              0.8888888888888888,
              "#fdca26"
             ],
             [
              1,
              "#f0f921"
             ]
            ],
            "type": "heatmapgl"
           }
          ],
          "histogram": [
           {
            "marker": {
             "pattern": {
              "fillmode": "overlay",
              "size": 10,
              "solidity": 0.2
             }
            },
            "type": "histogram"
           }
          ],
          "histogram2d": [
           {
            "colorbar": {
             "outlinewidth": 0,
             "ticks": ""
            },
            "colorscale": [
             [
              0,
              "#0d0887"
             ],
             [
              0.1111111111111111,
              "#46039f"
             ],
             [
              0.2222222222222222,
              "#7201a8"
             ],
             [
              0.3333333333333333,
              "#9c179e"
             ],
             [
              0.4444444444444444,
              "#bd3786"
             ],
             [
              0.5555555555555556,
              "#d8576b"
             ],
             [
              0.6666666666666666,
              "#ed7953"
             ],
             [
              0.7777777777777778,
              "#fb9f3a"
             ],
             [
              0.8888888888888888,
              "#fdca26"
             ],
             [
              1,
              "#f0f921"
             ]
            ],
            "type": "histogram2d"
           }
          ],
          "histogram2dcontour": [
           {
            "colorbar": {
             "outlinewidth": 0,
             "ticks": ""
            },
            "colorscale": [
             [
              0,
              "#0d0887"
             ],
             [
              0.1111111111111111,
              "#46039f"
             ],
             [
              0.2222222222222222,
              "#7201a8"
             ],
             [
              0.3333333333333333,
              "#9c179e"
             ],
             [
              0.4444444444444444,
              "#bd3786"
             ],
             [
              0.5555555555555556,
              "#d8576b"
             ],
             [
              0.6666666666666666,
              "#ed7953"
             ],
             [
              0.7777777777777778,
              "#fb9f3a"
             ],
             [
              0.8888888888888888,
              "#fdca26"
             ],
             [
              1,
              "#f0f921"
             ]
            ],
            "type": "histogram2dcontour"
           }
          ],
          "mesh3d": [
           {
            "colorbar": {
             "outlinewidth": 0,
             "ticks": ""
            },
            "type": "mesh3d"
           }
          ],
          "parcoords": [
           {
            "line": {
             "colorbar": {
              "outlinewidth": 0,
              "ticks": ""
             }
            },
            "type": "parcoords"
           }
          ],
          "pie": [
           {
            "automargin": true,
            "type": "pie"
           }
          ],
          "scatter": [
           {
            "fillpattern": {
             "fillmode": "overlay",
             "size": 10,
             "solidity": 0.2
            },
            "type": "scatter"
           }
          ],
          "scatter3d": [
           {
            "line": {
             "colorbar": {
              "outlinewidth": 0,
              "ticks": ""
             }
            },
            "marker": {
             "colorbar": {
              "outlinewidth": 0,
              "ticks": ""
             }
            },
            "type": "scatter3d"
           }
          ],
          "scattercarpet": [
           {
            "marker": {
             "colorbar": {
              "outlinewidth": 0,
              "ticks": ""
             }
            },
            "type": "scattercarpet"
           }
          ],
          "scattergeo": [
           {
            "marker": {
             "colorbar": {
              "outlinewidth": 0,
              "ticks": ""
             }
            },
            "type": "scattergeo"
           }
          ],
          "scattergl": [
           {
            "marker": {
             "colorbar": {
              "outlinewidth": 0,
              "ticks": ""
             }
            },
            "type": "scattergl"
           }
          ],
          "scattermapbox": [
           {
            "marker": {
             "colorbar": {
              "outlinewidth": 0,
              "ticks": ""
             }
            },
            "type": "scattermapbox"
           }
          ],
          "scatterpolar": [
           {
            "marker": {
             "colorbar": {
              "outlinewidth": 0,
              "ticks": ""
             }
            },
            "type": "scatterpolar"
           }
          ],
          "scatterpolargl": [
           {
            "marker": {
             "colorbar": {
              "outlinewidth": 0,
              "ticks": ""
             }
            },
            "type": "scatterpolargl"
           }
          ],
          "scatterternary": [
           {
            "marker": {
             "colorbar": {
              "outlinewidth": 0,
              "ticks": ""
             }
            },
            "type": "scatterternary"
           }
          ],
          "surface": [
           {
            "colorbar": {
             "outlinewidth": 0,
             "ticks": ""
            },
            "colorscale": [
             [
              0,
              "#0d0887"
             ],
             [
              0.1111111111111111,
              "#46039f"
             ],
             [
              0.2222222222222222,
              "#7201a8"
             ],
             [
              0.3333333333333333,
              "#9c179e"
             ],
             [
              0.4444444444444444,
              "#bd3786"
             ],
             [
              0.5555555555555556,
              "#d8576b"
             ],
             [
              0.6666666666666666,
              "#ed7953"
             ],
             [
              0.7777777777777778,
              "#fb9f3a"
             ],
             [
              0.8888888888888888,
              "#fdca26"
             ],
             [
              1,
              "#f0f921"
             ]
            ],
            "type": "surface"
           }
          ],
          "table": [
           {
            "cells": {
             "fill": {
              "color": "#EBF0F8"
             },
             "line": {
              "color": "white"
             }
            },
            "header": {
             "fill": {
              "color": "#C8D4E3"
             },
             "line": {
              "color": "white"
             }
            },
            "type": "table"
           }
          ]
         },
         "layout": {
          "annotationdefaults": {
           "arrowcolor": "#2a3f5f",
           "arrowhead": 0,
           "arrowwidth": 1
          },
          "autotypenumbers": "strict",
          "coloraxis": {
           "colorbar": {
            "outlinewidth": 0,
            "ticks": ""
           }
          },
          "colorscale": {
           "diverging": [
            [
             0,
             "#8e0152"
            ],
            [
             0.1,
             "#c51b7d"
            ],
            [
             0.2,
             "#de77ae"
            ],
            [
             0.3,
             "#f1b6da"
            ],
            [
             0.4,
             "#fde0ef"
            ],
            [
             0.5,
             "#f7f7f7"
            ],
            [
             0.6,
             "#e6f5d0"
            ],
            [
             0.7,
             "#b8e186"
            ],
            [
             0.8,
             "#7fbc41"
            ],
            [
             0.9,
             "#4d9221"
            ],
            [
             1,
             "#276419"
            ]
           ],
           "sequential": [
            [
             0,
             "#0d0887"
            ],
            [
             0.1111111111111111,
             "#46039f"
            ],
            [
             0.2222222222222222,
             "#7201a8"
            ],
            [
             0.3333333333333333,
             "#9c179e"
            ],
            [
             0.4444444444444444,
             "#bd3786"
            ],
            [
             0.5555555555555556,
             "#d8576b"
            ],
            [
             0.6666666666666666,
             "#ed7953"
            ],
            [
             0.7777777777777778,
             "#fb9f3a"
            ],
            [
             0.8888888888888888,
             "#fdca26"
            ],
            [
             1,
             "#f0f921"
            ]
           ],
           "sequentialminus": [
            [
             0,
             "#0d0887"
            ],
            [
             0.1111111111111111,
             "#46039f"
            ],
            [
             0.2222222222222222,
             "#7201a8"
            ],
            [
             0.3333333333333333,
             "#9c179e"
            ],
            [
             0.4444444444444444,
             "#bd3786"
            ],
            [
             0.5555555555555556,
             "#d8576b"
            ],
            [
             0.6666666666666666,
             "#ed7953"
            ],
            [
             0.7777777777777778,
             "#fb9f3a"
            ],
            [
             0.8888888888888888,
             "#fdca26"
            ],
            [
             1,
             "#f0f921"
            ]
           ]
          },
          "colorway": [
           "#636efa",
           "#EF553B",
           "#00cc96",
           "#ab63fa",
           "#FFA15A",
           "#19d3f3",
           "#FF6692",
           "#B6E880",
           "#FF97FF",
           "#FECB52"
          ],
          "font": {
           "color": "#2a3f5f"
          },
          "geo": {
           "bgcolor": "white",
           "lakecolor": "white",
           "landcolor": "#E5ECF6",
           "showlakes": true,
           "showland": true,
           "subunitcolor": "white"
          },
          "hoverlabel": {
           "align": "left"
          },
          "hovermode": "closest",
          "mapbox": {
           "style": "light"
          },
          "paper_bgcolor": "white",
          "plot_bgcolor": "#E5ECF6",
          "polar": {
           "angularaxis": {
            "gridcolor": "white",
            "linecolor": "white",
            "ticks": ""
           },
           "bgcolor": "#E5ECF6",
           "radialaxis": {
            "gridcolor": "white",
            "linecolor": "white",
            "ticks": ""
           }
          },
          "scene": {
           "xaxis": {
            "backgroundcolor": "#E5ECF6",
            "gridcolor": "white",
            "gridwidth": 2,
            "linecolor": "white",
            "showbackground": true,
            "ticks": "",
            "zerolinecolor": "white"
           },
           "yaxis": {
            "backgroundcolor": "#E5ECF6",
            "gridcolor": "white",
            "gridwidth": 2,
            "linecolor": "white",
            "showbackground": true,
            "ticks": "",
            "zerolinecolor": "white"
           },
           "zaxis": {
            "backgroundcolor": "#E5ECF6",
            "gridcolor": "white",
            "gridwidth": 2,
            "linecolor": "white",
            "showbackground": true,
            "ticks": "",
            "zerolinecolor": "white"
           }
          },
          "shapedefaults": {
           "line": {
            "color": "#2a3f5f"
           }
          },
          "ternary": {
           "aaxis": {
            "gridcolor": "white",
            "linecolor": "white",
            "ticks": ""
           },
           "baxis": {
            "gridcolor": "white",
            "linecolor": "white",
            "ticks": ""
           },
           "bgcolor": "#E5ECF6",
           "caxis": {
            "gridcolor": "white",
            "linecolor": "white",
            "ticks": ""
           }
          },
          "title": {
           "x": 0.05
          },
          "xaxis": {
           "automargin": true,
           "gridcolor": "white",
           "linecolor": "white",
           "ticks": "",
           "title": {
            "standoff": 15
           },
           "zerolinecolor": "white",
           "zerolinewidth": 2
          },
          "yaxis": {
           "automargin": true,
           "gridcolor": "white",
           "linecolor": "white",
           "ticks": "",
           "title": {
            "standoff": 15
           },
           "zerolinecolor": "white",
           "zerolinewidth": 2
          }
         }
        },
        "width": 1000,
        "xaxis": {
         "gridcolor": "rgba(200, 200, 200, 0.5)",
         "gridwidth": 0.5,
         "showgrid": true
        },
        "yaxis": {
         "gridcolor": "rgba(200, 200, 200, 0.5)",
         "gridwidth": 0.5,
         "showgrid": true
        }
       }
      },
      "text/html": [
       "<div>                            <div id=\"9fc23a0a-3ca9-48e3-92d5-551b31ecaf79\" class=\"plotly-graph-div\" style=\"height:1000px; width:1000px;\"></div>            <script type=\"text/javascript\">                require([\"plotly\"], function(Plotly) {                    window.PLOTLYENV=window.PLOTLYENV || {};                                    if (document.getElementById(\"9fc23a0a-3ca9-48e3-92d5-551b31ecaf79\")) {                    Plotly.newPlot(                        \"9fc23a0a-3ca9-48e3-92d5-551b31ecaf79\",                        [{\"dimensions\":[{\"axis\":{\"matches\":true},\"label\":\"dakota\",\"values\":[0.3682484607697661,0.9928613979378744,0.0,0.6466365185109302,0.7274523198897783,0.4310340291087192,0.8733505997641917,0.2292945854143272]},{\"axis\":{\"matches\":true},\"label\":\"passing_epa\",\"values\":[10.725584671534822,-7.331117471724933,3.749527665786445,-52.53598259725132,-2.258517931442473,-22.82352604599237,-27.48922541512704,-23.398139111774302]},{\"axis\":{\"matches\":true},\"label\":\"fantasy_points\",\"values\":[111.6,134.62,70.58000000000001,151.48000000000002,133.9,105.74,158.54000000000002,45.58]},{\"axis\":{\"matches\":true},\"label\":\"total_epa\",\"values\":[19.01771634350786,9.200210381312209,17.26269386632257,-40.073275987709536,2.7603114732250127,-13.624222342642865,-12.304912690856982,-11.009252150386835]},{\"axis\":{\"matches\":true},\"label\":\"rushing_epa\",\"values\":[8.292131671973038,16.53132785303714,13.513166200536125,12.462706609541785,5.0188294046674855,9.199303703349509,15.18431272427006,12.38888696138747]}],\"hovertemplate\":\"\\u003cb\\u003e%{hovertext}\\u003c\\u002fb\\u003e\\u003cbr\\u003e\\u003cbr\\u003eCluster=4\\u003cbr\\u003e%{xaxis.title.text}=%{x}\\u003cbr\\u003e%{yaxis.title.text}=%{y}\\u003cextra\\u003e\\u003c\\u002fextra\\u003e\",\"hovertext\":[\"Matthew Stafford\",\"Russell Wilson\",\"Taysom Hill\",\"Joshua Dobbs\",\"Jordan Love\",\"Justin Fields\",\"Sam Howell\",\"Tyson Bagent\"],\"legendgroup\":\"4\",\"marker\":{\"color\":\"#636efa\",\"symbol\":\"circle\",\"size\":6},\"name\":\"4\",\"showlegend\":true,\"type\":\"splom\",\"diagonal\":{\"visible\":false},\"showupperhalf\":false},{\"dimensions\":[{\"axis\":{\"matches\":true},\"label\":\"dakota\",\"values\":[0.1840162964022598,0.0633122045620053,0.4506306986276533,-0.0053011715559731,0.1470720155162256,-0.077470844433734,0.2126014832282865,0.0,-0.075140933105789,0.0,0.0,0.0,0.0,-0.1531146085632459,0.3209788243344781,-0.1188696780205886,0.1434356379779179,-0.1719140103707918,0.315648154570637,-0.0312382630832397,-0.0155052945466174,0.2574159881318005,0.1936333114243632,0.2241944468760002]},{\"axis\":{\"matches\":true},\"label\":\"passing_epa\",\"values\":[-8.780772753364403,4.548329591227218,-6.304451055643384,-5.341544220702232,4.559364769967704,-23.282820675185352,-18.757813386578903,-4.763626132335048,-8.76727187942015,0.4268732601776719,-4.286713795969263,0.0,-1.055569262010977,-19.72529150741344,4.248786957614357,-10.563140670667524,-0.068276936013552,-21.8299683596706,-0.1702205615341547,-34.74954317265656,-26.66715145729284,2.3156480597390328,2.284306902127876,4.587791287072113]},{\"axis\":{\"matches\":true},\"label\":\"fantasy_points\",\"values\":[4.94,23.64,40.96,1.64,27.12,19.82,70.58,0.54,8.04,0.1599999999999999,4.18,-0.7000000000000001,-0.46,6.78,7.119999999999999,3.16,3.06,15.86,23.18,-0.7199999999999999,1.6,3.040000000000001,35.3,72.68]},{\"axis\":{\"matches\":true},\"label\":\"total_epa\",\"values\":[-10.596118293716104,5.976789555221319,-6.161049751383487,-9.812014239852758,6.207545777444228,-28.534383510878904,-13.807620045467583,-12.157253984420096,-7.7808816257165745,-0.64209521911107,-8.186839252273785,-2.33477472566301,-4.528874509414891,-18.389185069980392,-0.2199554858379997,-10.563140670667524,-7.0366066116838,-22.23436582274735,-0.6086754391775351,-34.33291766408365,-26.453687824204447,0.2361512718905487,-1.266352976051555,5.017895626334584]},{\"axis\":{\"matches\":true},\"label\":\"rushing_epa\",\"values\":[-1.8153455403517,1.4284599639941007,0.1434013042598962,-4.470470019150525,1.6481810074765235,-5.251562835693553,4.950193341111321,-7.3936278520850465,0.9863902537035756,-1.068968479288742,-3.900125456304522,-2.33477472566301,-3.473305247403914,1.3361064374330454,-4.468742443452356,0.0,-6.968329675670248,-0.4043974630767479,-0.4384548776433803,0.4166255085729062,0.213463633088395,-2.079496787848484,-3.550659878179431,0.4301043392624706]}],\"hovertemplate\":\"\\u003cb\\u003e%{hovertext}\\u003c\\u002fb\\u003e\\u003cbr\\u003e\\u003cbr\\u003eCluster=0\\u003cbr\\u003e%{xaxis.title.text}=%{x}\\u003cbr\\u003e%{yaxis.title.text}=%{y}\\u003cextra\\u003e\\u003c\\u002fextra\\u003e\",\"hovertext\":[\"Brian Hoyer\",\"Andy Dalton\",\"Tyrod Taylor\",\"Jameis Winston\",\"Taylor Heinicke\",\"P.J. Walker\",\"Deshaun Watson\",\"Cooper Rush\",\"Mitchell Trubisky\",\"C.J. Beathard\",\"Mike White\",\"Kyle Allen\",\"Sam Darnold\",\"Brett Rypien\",\"Tyler Huntley\",\"Bailey Zappe\",\"Malik Willis\",\"Tommy DeVito\",\"Aidan O'Connell\",\"Clayton Tune\",\"Dorian Thompson-Robinson\",\"Jaren Hall\",\"Will Levis\",\"Anthony Richardson\"],\"legendgroup\":\"0\",\"marker\":{\"color\":\"#EF553B\",\"symbol\":\"circle\",\"size\":6},\"name\":\"0\",\"showlegend\":true,\"type\":\"splom\",\"diagonal\":{\"visible\":false},\"showupperhalf\":false},{\"dimensions\":[{\"axis\":{\"matches\":true},\"label\":\"dakota\",\"values\":[1.0611103338147518,1.151329083881798,1.0575076934688783,1.1661270991485972,0.8988681330443147,1.502274062347405,0.742473580815316,0.965447144384748]},{\"axis\":{\"matches\":true},\"label\":\"passing_epa\",\"values\":[37.10304547110406,33.63137152429786,33.593029619613084,17.316285691768957,25.353070706135934,84.77890557690783,36.65909856927584,54.16918844082156]},{\"axis\":{\"matches\":true},\"label\":\"fantasy_points\",\"values\":[149.74,140.24,138.26000000000002,170.16000000000005,130.8,165.66,155.84,155.6]},{\"axis\":{\"matches\":true},\"label\":\"total_epa\",\"values\":[38.79041409571489,41.16689530288218,24.62992008764937,23.996719892380213,22.386798744780965,58.06078032774101,40.74681847671318,57.41960915112631]},{\"axis\":{\"matches\":true},\"label\":\"rushing_epa\",\"values\":[1.6873686246108264,7.53552377858432,-8.96310953196371,6.680434200611254,-2.966271961354972,-26.718125249166818,4.087719907437337,3.250420710304752]}],\"hovertemplate\":\"\\u003cb\\u003e%{hovertext}\\u003c\\u002fb\\u003e\\u003cbr\\u003e\\u003cbr\\u003eCluster=1\\u003cbr\\u003e%{xaxis.title.text}=%{x}\\u003cbr\\u003e%{yaxis.title.text}=%{y}\\u003cextra\\u003e\\u003c\\u002fextra\\u003e\",\"hovertext\":[\"Kirk Cousins\",\"Dak Prescott\",\"Jared Goff\",\"Lamar Jackson\",\"Baker Mayfield\",\"Tua Tagovailoa\",\"Justin Herbert\",\"C.J. Stroud\"],\"legendgroup\":\"1\",\"marker\":{\"color\":\"#00cc96\",\"symbol\":\"circle\",\"size\":6},\"name\":\"1\",\"showlegend\":true,\"type\":\"splom\",\"diagonal\":{\"visible\":false},\"showupperhalf\":false},{\"dimensions\":[{\"axis\":{\"matches\":true},\"label\":\"dakota\",\"values\":[0.5071118308767872,0.6875801575493811,0.7950302906198758,0.4281019083343923,0.7714772587305241,0.7118079522700166,0.8296614007828869]},{\"axis\":{\"matches\":true},\"label\":\"passing_epa\",\"values\":[-18.62460762289768,-1.7453550250176129,-3.1470083310910746,-17.026532385594486,-10.772911280908222,-0.018734164904453,1.4030091006482277]},{\"axis\":{\"matches\":true},\"label\":\"fantasy_points\",\"values\":[51.120000000000005,97.18,117.14,64.1,91.58,118.54,121.0]},{\"axis\":{\"matches\":true},\"label\":\"total_epa\",\"values\":[-24.238739989186364,-11.652884210078025,-18.21625582350621,-19.737652622113977,-9.004114614266502,-2.6155612289923003,-3.4022365456354526]},{\"axis\":{\"matches\":true},\"label\":\"rushing_epa\",\"values\":[-5.614132366288686,-9.907529185060412,-15.06924749241513,-2.7111202365194917,1.7687966666417196,-2.5968270640878472,-4.80524564628368]}],\"hovertemplate\":\"\\u003cb\\u003e%{hovertext}\\u003c\\u002fb\\u003e\\u003cbr\\u003e\\u003cbr\\u003eCluster=5\\u003cbr\\u003e%{xaxis.title.text}=%{x}\\u003cbr\\u003e%{yaxis.title.text}=%{y}\\u003cextra\\u003e\\u003c\\u002fextra\\u003e\",\"hovertext\":[\"Ryan Tannehill\",\"Geno Smith\",\"Derek Carr\",\"Jimmy Garoppolo\",\"Gardner Minshew\",\"Joe Burrow\",\"Trevor Lawrence\"],\"legendgroup\":\"5\",\"marker\":{\"color\":\"#ab63fa\",\"symbol\":\"circle\",\"size\":6},\"name\":\"5\",\"showlegend\":true,\"type\":\"splom\",\"diagonal\":{\"visible\":false},\"showupperhalf\":false},{\"dimensions\":[{\"axis\":{\"matches\":true},\"label\":\"dakota\",\"values\":[1.3277752174206912,1.6877339278361336,1.518847675044633,1.6298229322718014]},{\"axis\":{\"matches\":true},\"label\":\"passing_epa\",\"values\":[57.70140786557731,69.35960598214503,44.07328643080449,62.38044246001773]},{\"axis\":{\"matches\":true},\"label\":\"fantasy_points\",\"values\":[171.48000000000002,212.22,205.48,138.01999999999998]},{\"axis\":{\"matches\":true},\"label\":\"total_epa\",\"values\":[69.59195986132751,97.5020360197721,60.79480661684346,75.63906752809565]},{\"axis\":{\"matches\":true},\"label\":\"rushing_epa\",\"values\":[11.890551995750204,28.14243003762708,16.72152018603897,13.25862506807792]}],\"hovertemplate\":\"\\u003cb\\u003e%{hovertext}\\u003c\\u002fb\\u003e\\u003cbr\\u003e\\u003cbr\\u003eCluster=3\\u003cbr\\u003e%{xaxis.title.text}=%{x}\\u003cbr\\u003e%{yaxis.title.text}=%{y}\\u003cextra\\u003e\\u003c\\u002fextra\\u003e\",\"hovertext\":[\"Patrick Mahomes\",\"Josh Allen\",\"Jalen Hurts\",\"Brock Purdy\"],\"legendgroup\":\"3\",\"marker\":{\"color\":\"#FFA15A\",\"symbol\":\"circle\",\"size\":6},\"name\":\"3\",\"showlegend\":true,\"type\":\"splom\",\"diagonal\":{\"visible\":false},\"showupperhalf\":false},{\"dimensions\":[{\"axis\":{\"matches\":true},\"label\":\"dakota\",\"values\":[0.2803233114928483,0.3726088261862442,0.0858820548285263,0.4548645644171127,0.555559476893037,0.312525500622431]},{\"axis\":{\"matches\":true},\"label\":\"passing_epa\",\"values\":[-60.45500420571695,-40.22292531071301,-83.5364097096218,-33.95929964660643,-33.16622210177564,-71.84103785485414]},{\"axis\":{\"matches\":true},\"label\":\"fantasy_points\",\"values\":[56.96000000000001,99.54,81.0,83.7,105.34,82.7]},{\"axis\":{\"matches\":true},\"label\":\"total_epa\",\"values\":[-54.62047638548314,-45.90672090084343,-97.07572903048263,-36.90131143346732,-35.92675928798612,-65.93744170291384]},{\"axis\":{\"matches\":true},\"label\":\"rushing_epa\",\"values\":[5.834527820233806,-5.683795590130414,-13.539319320860836,-2.942011786860887,-2.7605371862104864,5.903596151940292]}],\"hovertemplate\":\"\\u003cb\\u003e%{hovertext}\\u003c\\u002fb\\u003e\\u003cbr\\u003e\\u003cbr\\u003eCluster=2\\u003cbr\\u003e%{xaxis.title.text}=%{x}\\u003cbr\\u003e%{yaxis.title.text}=%{y}\\u003cextra\\u003e\\u003c\\u002fextra\\u003e\",\"hovertext\":[\"Daniel Jones\",\"Mac Jones\",\"Zach Wilson\",\"Kenny Pickett\",\"Desmond Ridder\",\"Bryce Young\"],\"legendgroup\":\"2\",\"marker\":{\"color\":\"#19d3f3\",\"symbol\":\"circle\",\"size\":6},\"name\":\"2\",\"showlegend\":true,\"type\":\"splom\",\"diagonal\":{\"visible\":false},\"showupperhalf\":false}],                        {\"template\":{\"data\":{\"histogram2dcontour\":[{\"type\":\"histogram2dcontour\",\"colorbar\":{\"outlinewidth\":0,\"ticks\":\"\"},\"colorscale\":[[0.0,\"#0d0887\"],[0.1111111111111111,\"#46039f\"],[0.2222222222222222,\"#7201a8\"],[0.3333333333333333,\"#9c179e\"],[0.4444444444444444,\"#bd3786\"],[0.5555555555555556,\"#d8576b\"],[0.6666666666666666,\"#ed7953\"],[0.7777777777777778,\"#fb9f3a\"],[0.8888888888888888,\"#fdca26\"],[1.0,\"#f0f921\"]]}],\"choropleth\":[{\"type\":\"choropleth\",\"colorbar\":{\"outlinewidth\":0,\"ticks\":\"\"}}],\"histogram2d\":[{\"type\":\"histogram2d\",\"colorbar\":{\"outlinewidth\":0,\"ticks\":\"\"},\"colorscale\":[[0.0,\"#0d0887\"],[0.1111111111111111,\"#46039f\"],[0.2222222222222222,\"#7201a8\"],[0.3333333333333333,\"#9c179e\"],[0.4444444444444444,\"#bd3786\"],[0.5555555555555556,\"#d8576b\"],[0.6666666666666666,\"#ed7953\"],[0.7777777777777778,\"#fb9f3a\"],[0.8888888888888888,\"#fdca26\"],[1.0,\"#f0f921\"]]}],\"heatmap\":[{\"type\":\"heatmap\",\"colorbar\":{\"outlinewidth\":0,\"ticks\":\"\"},\"colorscale\":[[0.0,\"#0d0887\"],[0.1111111111111111,\"#46039f\"],[0.2222222222222222,\"#7201a8\"],[0.3333333333333333,\"#9c179e\"],[0.4444444444444444,\"#bd3786\"],[0.5555555555555556,\"#d8576b\"],[0.6666666666666666,\"#ed7953\"],[0.7777777777777778,\"#fb9f3a\"],[0.8888888888888888,\"#fdca26\"],[1.0,\"#f0f921\"]]}],\"heatmapgl\":[{\"type\":\"heatmapgl\",\"colorbar\":{\"outlinewidth\":0,\"ticks\":\"\"},\"colorscale\":[[0.0,\"#0d0887\"],[0.1111111111111111,\"#46039f\"],[0.2222222222222222,\"#7201a8\"],[0.3333333333333333,\"#9c179e\"],[0.4444444444444444,\"#bd3786\"],[0.5555555555555556,\"#d8576b\"],[0.6666666666666666,\"#ed7953\"],[0.7777777777777778,\"#fb9f3a\"],[0.8888888888888888,\"#fdca26\"],[1.0,\"#f0f921\"]]}],\"contourcarpet\":[{\"type\":\"contourcarpet\",\"colorbar\":{\"outlinewidth\":0,\"ticks\":\"\"}}],\"contour\":[{\"type\":\"contour\",\"colorbar\":{\"outlinewidth\":0,\"ticks\":\"\"},\"colorscale\":[[0.0,\"#0d0887\"],[0.1111111111111111,\"#46039f\"],[0.2222222222222222,\"#7201a8\"],[0.3333333333333333,\"#9c179e\"],[0.4444444444444444,\"#bd3786\"],[0.5555555555555556,\"#d8576b\"],[0.6666666666666666,\"#ed7953\"],[0.7777777777777778,\"#fb9f3a\"],[0.8888888888888888,\"#fdca26\"],[1.0,\"#f0f921\"]]}],\"surface\":[{\"type\":\"surface\",\"colorbar\":{\"outlinewidth\":0,\"ticks\":\"\"},\"colorscale\":[[0.0,\"#0d0887\"],[0.1111111111111111,\"#46039f\"],[0.2222222222222222,\"#7201a8\"],[0.3333333333333333,\"#9c179e\"],[0.4444444444444444,\"#bd3786\"],[0.5555555555555556,\"#d8576b\"],[0.6666666666666666,\"#ed7953\"],[0.7777777777777778,\"#fb9f3a\"],[0.8888888888888888,\"#fdca26\"],[1.0,\"#f0f921\"]]}],\"mesh3d\":[{\"type\":\"mesh3d\",\"colorbar\":{\"outlinewidth\":0,\"ticks\":\"\"}}],\"scatter\":[{\"fillpattern\":{\"fillmode\":\"overlay\",\"size\":10,\"solidity\":0.2},\"type\":\"scatter\"}],\"parcoords\":[{\"type\":\"parcoords\",\"line\":{\"colorbar\":{\"outlinewidth\":0,\"ticks\":\"\"}}}],\"scatterpolargl\":[{\"type\":\"scatterpolargl\",\"marker\":{\"colorbar\":{\"outlinewidth\":0,\"ticks\":\"\"}}}],\"bar\":[{\"error_x\":{\"color\":\"#2a3f5f\"},\"error_y\":{\"color\":\"#2a3f5f\"},\"marker\":{\"line\":{\"color\":\"#E5ECF6\",\"width\":0.5},\"pattern\":{\"fillmode\":\"overlay\",\"size\":10,\"solidity\":0.2}},\"type\":\"bar\"}],\"scattergeo\":[{\"type\":\"scattergeo\",\"marker\":{\"colorbar\":{\"outlinewidth\":0,\"ticks\":\"\"}}}],\"scatterpolar\":[{\"type\":\"scatterpolar\",\"marker\":{\"colorbar\":{\"outlinewidth\":0,\"ticks\":\"\"}}}],\"histogram\":[{\"marker\":{\"pattern\":{\"fillmode\":\"overlay\",\"size\":10,\"solidity\":0.2}},\"type\":\"histogram\"}],\"scattergl\":[{\"type\":\"scattergl\",\"marker\":{\"colorbar\":{\"outlinewidth\":0,\"ticks\":\"\"}}}],\"scatter3d\":[{\"type\":\"scatter3d\",\"line\":{\"colorbar\":{\"outlinewidth\":0,\"ticks\":\"\"}},\"marker\":{\"colorbar\":{\"outlinewidth\":0,\"ticks\":\"\"}}}],\"scattermapbox\":[{\"type\":\"scattermapbox\",\"marker\":{\"colorbar\":{\"outlinewidth\":0,\"ticks\":\"\"}}}],\"scatterternary\":[{\"type\":\"scatterternary\",\"marker\":{\"colorbar\":{\"outlinewidth\":0,\"ticks\":\"\"}}}],\"scattercarpet\":[{\"type\":\"scattercarpet\",\"marker\":{\"colorbar\":{\"outlinewidth\":0,\"ticks\":\"\"}}}],\"carpet\":[{\"aaxis\":{\"endlinecolor\":\"#2a3f5f\",\"gridcolor\":\"white\",\"linecolor\":\"white\",\"minorgridcolor\":\"white\",\"startlinecolor\":\"#2a3f5f\"},\"baxis\":{\"endlinecolor\":\"#2a3f5f\",\"gridcolor\":\"white\",\"linecolor\":\"white\",\"minorgridcolor\":\"white\",\"startlinecolor\":\"#2a3f5f\"},\"type\":\"carpet\"}],\"table\":[{\"cells\":{\"fill\":{\"color\":\"#EBF0F8\"},\"line\":{\"color\":\"white\"}},\"header\":{\"fill\":{\"color\":\"#C8D4E3\"},\"line\":{\"color\":\"white\"}},\"type\":\"table\"}],\"barpolar\":[{\"marker\":{\"line\":{\"color\":\"#E5ECF6\",\"width\":0.5},\"pattern\":{\"fillmode\":\"overlay\",\"size\":10,\"solidity\":0.2}},\"type\":\"barpolar\"}],\"pie\":[{\"automargin\":true,\"type\":\"pie\"}]},\"layout\":{\"autotypenumbers\":\"strict\",\"colorway\":[\"#636efa\",\"#EF553B\",\"#00cc96\",\"#ab63fa\",\"#FFA15A\",\"#19d3f3\",\"#FF6692\",\"#B6E880\",\"#FF97FF\",\"#FECB52\"],\"font\":{\"color\":\"#2a3f5f\"},\"hovermode\":\"closest\",\"hoverlabel\":{\"align\":\"left\"},\"paper_bgcolor\":\"white\",\"plot_bgcolor\":\"#E5ECF6\",\"polar\":{\"bgcolor\":\"#E5ECF6\",\"angularaxis\":{\"gridcolor\":\"white\",\"linecolor\":\"white\",\"ticks\":\"\"},\"radialaxis\":{\"gridcolor\":\"white\",\"linecolor\":\"white\",\"ticks\":\"\"}},\"ternary\":{\"bgcolor\":\"#E5ECF6\",\"aaxis\":{\"gridcolor\":\"white\",\"linecolor\":\"white\",\"ticks\":\"\"},\"baxis\":{\"gridcolor\":\"white\",\"linecolor\":\"white\",\"ticks\":\"\"},\"caxis\":{\"gridcolor\":\"white\",\"linecolor\":\"white\",\"ticks\":\"\"}},\"coloraxis\":{\"colorbar\":{\"outlinewidth\":0,\"ticks\":\"\"}},\"colorscale\":{\"sequential\":[[0.0,\"#0d0887\"],[0.1111111111111111,\"#46039f\"],[0.2222222222222222,\"#7201a8\"],[0.3333333333333333,\"#9c179e\"],[0.4444444444444444,\"#bd3786\"],[0.5555555555555556,\"#d8576b\"],[0.6666666666666666,\"#ed7953\"],[0.7777777777777778,\"#fb9f3a\"],[0.8888888888888888,\"#fdca26\"],[1.0,\"#f0f921\"]],\"sequentialminus\":[[0.0,\"#0d0887\"],[0.1111111111111111,\"#46039f\"],[0.2222222222222222,\"#7201a8\"],[0.3333333333333333,\"#9c179e\"],[0.4444444444444444,\"#bd3786\"],[0.5555555555555556,\"#d8576b\"],[0.6666666666666666,\"#ed7953\"],[0.7777777777777778,\"#fb9f3a\"],[0.8888888888888888,\"#fdca26\"],[1.0,\"#f0f921\"]],\"diverging\":[[0,\"#8e0152\"],[0.1,\"#c51b7d\"],[0.2,\"#de77ae\"],[0.3,\"#f1b6da\"],[0.4,\"#fde0ef\"],[0.5,\"#f7f7f7\"],[0.6,\"#e6f5d0\"],[0.7,\"#b8e186\"],[0.8,\"#7fbc41\"],[0.9,\"#4d9221\"],[1,\"#276419\"]]},\"xaxis\":{\"gridcolor\":\"white\",\"linecolor\":\"white\",\"ticks\":\"\",\"title\":{\"standoff\":15},\"zerolinecolor\":\"white\",\"automargin\":true,\"zerolinewidth\":2},\"yaxis\":{\"gridcolor\":\"white\",\"linecolor\":\"white\",\"ticks\":\"\",\"title\":{\"standoff\":15},\"zerolinecolor\":\"white\",\"automargin\":true,\"zerolinewidth\":2},\"scene\":{\"xaxis\":{\"backgroundcolor\":\"#E5ECF6\",\"gridcolor\":\"white\",\"linecolor\":\"white\",\"showbackground\":true,\"ticks\":\"\",\"zerolinecolor\":\"white\",\"gridwidth\":2},\"yaxis\":{\"backgroundcolor\":\"#E5ECF6\",\"gridcolor\":\"white\",\"linecolor\":\"white\",\"showbackground\":true,\"ticks\":\"\",\"zerolinecolor\":\"white\",\"gridwidth\":2},\"zaxis\":{\"backgroundcolor\":\"#E5ECF6\",\"gridcolor\":\"white\",\"linecolor\":\"white\",\"showbackground\":true,\"ticks\":\"\",\"zerolinecolor\":\"white\",\"gridwidth\":2}},\"shapedefaults\":{\"line\":{\"color\":\"#2a3f5f\"}},\"annotationdefaults\":{\"arrowcolor\":\"#2a3f5f\",\"arrowhead\":0,\"arrowwidth\":1},\"geo\":{\"bgcolor\":\"white\",\"landcolor\":\"#E5ECF6\",\"subunitcolor\":\"white\",\"showland\":true,\"showlakes\":true,\"lakecolor\":\"white\"},\"title\":{\"x\":0.05},\"mapbox\":{\"style\":\"light\"}}},\"legend\":{\"title\":{\"text\":\"Cluster\"},\"tracegroupgap\":0,\"font\":{\"size\":18}},\"margin\":{\"t\":60},\"dragmode\":\"select\",\"font\":{\"family\":\"Courier New, monospace\",\"size\":10,\"color\":\"black\"},\"paper_bgcolor\":\"rgba(0,0,0,0)\",\"plot_bgcolor\":\"rgba(245, 245, 245, 1)\",\"showlegend\":true,\"xaxis\":{\"showgrid\":true,\"gridwidth\":0.5,\"gridcolor\":\"rgba(200, 200, 200, 0.5)\"},\"yaxis\":{\"showgrid\":true,\"gridwidth\":0.5,\"gridcolor\":\"rgba(200, 200, 200, 0.5)\"},\"width\":1000,\"height\":1000},                        {\"responsive\": true}                    ).then(function(){\n",
       "                            \n",
       "var gd = document.getElementById('9fc23a0a-3ca9-48e3-92d5-551b31ecaf79');\n",
       "var x = new MutationObserver(function (mutations, observer) {{\n",
       "        var display = window.getComputedStyle(gd).display;\n",
       "        if (!display || display === 'none') {{\n",
       "            console.log([gd, 'removed!']);\n",
       "            Plotly.purge(gd);\n",
       "            observer.disconnect();\n",
       "        }}\n",
       "}});\n",
       "\n",
       "// Listen for the removal of the full notebook cells\n",
       "var notebookContainer = gd.closest('#notebook-container');\n",
       "if (notebookContainer) {{\n",
       "    x.observe(notebookContainer, {childList: true});\n",
       "}}\n",
       "\n",
       "// Listen for the clearing of the current output cell\n",
       "var outputEl = gd.closest('.output');\n",
       "if (outputEl) {{\n",
       "    x.observe(outputEl, {childList: true});\n",
       "}}\n",
       "\n",
       "                        })                };                });            </script>        </div>"
      ]
     },
     "metadata": {},
     "output_type": "display_data"
    }
   ],
   "source": [
    "graph_pair_plot_plotly(df=cluster_df, cluster_rankings=cluster_ranking,\n",
    "                       position=position, stats=subset_cols, \n",
    "                       save_suffix=suffix, font_size=font_size, marker_size=marker_size,\n",
    "                       height=dim, width=dim\n",
    "                      )"
   ]
  },
  {
   "cell_type": "code",
   "execution_count": 12,
   "id": "d0ce9667",
   "metadata": {},
   "outputs": [],
   "source": [
    "cluster_dict = dict()\n",
    "for key in cluster_ranking.keys():\n",
    "    cluster_num = cluster_ranking[key]\n",
    "    name = key\n",
    "    if cluster_num in cluster_dict:\n",
    "        cluster_dict[cluster_num].append(name)\n",
    "    else:\n",
    "        cluster_dict[cluster_num] = [name]"
   ]
  },
  {
   "cell_type": "code",
   "execution_count": 13,
   "id": "d44d585f",
   "metadata": {},
   "outputs": [
    {
     "data": {
      "text/plain": [
       "['Daniel Jones',\n",
       " 'Mac Jones',\n",
       " 'Zach Wilson',\n",
       " 'Kenny Pickett',\n",
       " 'Desmond Ridder',\n",
       " 'Bryce Young']"
      ]
     },
     "execution_count": 13,
     "metadata": {},
     "output_type": "execute_result"
    }
   ],
   "source": [
    "cluster_dict[2]"
   ]
  },
  {
   "cell_type": "code",
   "execution_count": 14,
   "id": "0f8c7f25",
   "metadata": {},
   "outputs": [
    {
     "data": {
      "text/plain": [
       "['Matthew Stafford',\n",
       " 'Russell Wilson',\n",
       " 'Taysom Hill',\n",
       " 'Joshua Dobbs',\n",
       " 'Jordan Love',\n",
       " 'Justin Fields',\n",
       " 'Sam Howell',\n",
       " 'Tyson Bagent']"
      ]
     },
     "execution_count": 14,
     "metadata": {},
     "output_type": "execute_result"
    }
   ],
   "source": [
    "cluster_dict[4]"
   ]
  },
  {
   "cell_type": "code",
   "execution_count": null,
   "id": "2ed1770b",
   "metadata": {},
   "outputs": [],
   "source": []
  }
 ],
 "metadata": {
  "kernelspec": {
   "display_name": "plotly",
   "language": "python",
   "name": "plotly"
  },
  "language_info": {
   "codemirror_mode": {
    "name": "ipython",
    "version": 3
   },
   "file_extension": ".py",
   "mimetype": "text/x-python",
   "name": "python",
   "nbconvert_exporter": "python",
   "pygments_lexer": "ipython3",
   "version": "3.9.7"
  }
 },
 "nbformat": 4,
 "nbformat_minor": 5
}
