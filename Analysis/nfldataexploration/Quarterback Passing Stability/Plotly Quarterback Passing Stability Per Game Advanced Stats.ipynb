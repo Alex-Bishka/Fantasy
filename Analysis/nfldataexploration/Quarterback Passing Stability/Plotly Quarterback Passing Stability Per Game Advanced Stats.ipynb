{
 "cells": [
  {
   "cell_type": "markdown",
   "id": "c113d051",
   "metadata": {},
   "source": [
    "# Imports"
   ]
  },
  {
   "cell_type": "code",
   "execution_count": 1,
   "id": "f497b671",
   "metadata": {},
   "outputs": [],
   "source": [
    "import plotly.express as px\n",
    "import pandas as pd"
   ]
  },
  {
   "cell_type": "code",
   "execution_count": 2,
   "id": "31558fe8",
   "metadata": {},
   "outputs": [],
   "source": [
    "from helpers import plot_correlation_matrix, create_correlation_matrix"
   ]
  },
  {
   "cell_type": "markdown",
   "id": "7a7e8db1",
   "metadata": {},
   "source": [
    "# Read Data"
   ]
  },
  {
   "cell_type": "markdown",
   "id": "49d17fd5",
   "metadata": {},
   "source": [
    "This data set takes into account passing data from 2012 - 2022. This data is unfiltered."
   ]
  },
  {
   "cell_type": "code",
   "execution_count": 3,
   "id": "faebc468",
   "metadata": {},
   "outputs": [],
   "source": [
    "file_path = \"../../interactive/QB/stability-passing/df_combined.pkl\""
   ]
  },
  {
   "cell_type": "code",
   "execution_count": 4,
   "id": "26ce2014",
   "metadata": {},
   "outputs": [
    {
     "data": {
      "text/html": [
       "<div>\n",
       "<style scoped>\n",
       "    .dataframe tbody tr th:only-of-type {\n",
       "        vertical-align: middle;\n",
       "    }\n",
       "\n",
       "    .dataframe tbody tr th {\n",
       "        vertical-align: top;\n",
       "    }\n",
       "\n",
       "    .dataframe thead th {\n",
       "        text-align: right;\n",
       "    }\n",
       "</style>\n",
       "<table border=\"1\" class=\"dataframe\">\n",
       "  <thead>\n",
       "    <tr style=\"text-align: right;\">\n",
       "      <th></th>\n",
       "      <th>passer_id</th>\n",
       "      <th>passer</th>\n",
       "      <th>season</th>\n",
       "      <th>passing_yards</th>\n",
       "      <th>passing_attempts</th>\n",
       "      <th>yards_per_pass</th>\n",
       "      <th>total_epa</th>\n",
       "      <th>passing_touchdowns</th>\n",
       "      <th>completions</th>\n",
       "      <th>games</th>\n",
       "      <th>...</th>\n",
       "      <th>completion_percentage_mean</th>\n",
       "      <th>completion_percentage_mean_last</th>\n",
       "      <th>expected_completion_percentage_mean</th>\n",
       "      <th>expected_completion_percentage_mean_last</th>\n",
       "      <th>completion_percentage_above_expectation_mean</th>\n",
       "      <th>completion_percentage_above_expectation_mean_last</th>\n",
       "      <th>avg_air_distance_mean</th>\n",
       "      <th>avg_air_distance_mean_last</th>\n",
       "      <th>max_air_distance_mean</th>\n",
       "      <th>max_air_distance_mean_last</th>\n",
       "    </tr>\n",
       "  </thead>\n",
       "  <tbody>\n",
       "    <tr>\n",
       "      <th>11</th>\n",
       "      <td>00-0019596</td>\n",
       "      <td>T.Brady</td>\n",
       "      <td>2018</td>\n",
       "      <td>4355.0</td>\n",
       "      <td>568</td>\n",
       "      <td>7.667253</td>\n",
       "      <td>125.592216</td>\n",
       "      <td>29.0</td>\n",
       "      <td>375.0</td>\n",
       "      <td>16.0</td>\n",
       "      <td>...</td>\n",
       "      <td>65.776652</td>\n",
       "      <td>66.115541</td>\n",
       "      <td>67.763737</td>\n",
       "      <td>64.926853</td>\n",
       "      <td>-1.987085</td>\n",
       "      <td>0.909055</td>\n",
       "      <td>20.552595</td>\n",
       "      <td>21.376685</td>\n",
       "      <td>48.604158</td>\n",
       "      <td>51.114926</td>\n",
       "    </tr>\n",
       "    <tr>\n",
       "      <th>12</th>\n",
       "      <td>00-0019596</td>\n",
       "      <td>T.Brady</td>\n",
       "      <td>2019</td>\n",
       "      <td>4057.0</td>\n",
       "      <td>613</td>\n",
       "      <td>6.618271</td>\n",
       "      <td>64.109032</td>\n",
       "      <td>24.0</td>\n",
       "      <td>373.0</td>\n",
       "      <td>16.0</td>\n",
       "      <td>...</td>\n",
       "      <td>60.474860</td>\n",
       "      <td>65.776652</td>\n",
       "      <td>64.023087</td>\n",
       "      <td>67.763737</td>\n",
       "      <td>-3.548227</td>\n",
       "      <td>-1.987085</td>\n",
       "      <td>20.601148</td>\n",
       "      <td>20.552595</td>\n",
       "      <td>46.929331</td>\n",
       "      <td>48.604158</td>\n",
       "    </tr>\n",
       "    <tr>\n",
       "      <th>13</th>\n",
       "      <td>00-0019596</td>\n",
       "      <td>T.Brady</td>\n",
       "      <td>2020</td>\n",
       "      <td>4633.0</td>\n",
       "      <td>606</td>\n",
       "      <td>7.645215</td>\n",
       "      <td>154.740570</td>\n",
       "      <td>40.0</td>\n",
       "      <td>401.0</td>\n",
       "      <td>16.0</td>\n",
       "      <td>...</td>\n",
       "      <td>64.754609</td>\n",
       "      <td>60.474860</td>\n",
       "      <td>63.954946</td>\n",
       "      <td>64.023087</td>\n",
       "      <td>0.799663</td>\n",
       "      <td>-3.548227</td>\n",
       "      <td>22.281251</td>\n",
       "      <td>20.601148</td>\n",
       "      <td>52.355251</td>\n",
       "      <td>46.929331</td>\n",
       "    </tr>\n",
       "    <tr>\n",
       "      <th>14</th>\n",
       "      <td>00-0019596</td>\n",
       "      <td>T.Brady</td>\n",
       "      <td>2021</td>\n",
       "      <td>5316.0</td>\n",
       "      <td>717</td>\n",
       "      <td>7.414226</td>\n",
       "      <td>178.601776</td>\n",
       "      <td>43.0</td>\n",
       "      <td>485.0</td>\n",
       "      <td>17.0</td>\n",
       "      <td>...</td>\n",
       "      <td>67.314116</td>\n",
       "      <td>64.754609</td>\n",
       "      <td>68.858282</td>\n",
       "      <td>63.954946</td>\n",
       "      <td>-1.544166</td>\n",
       "      <td>0.799663</td>\n",
       "      <td>20.585013</td>\n",
       "      <td>22.281251</td>\n",
       "      <td>50.405201</td>\n",
       "      <td>52.355251</td>\n",
       "    </tr>\n",
       "    <tr>\n",
       "      <th>15</th>\n",
       "      <td>00-0019596</td>\n",
       "      <td>T.Brady</td>\n",
       "      <td>2022</td>\n",
       "      <td>4694.0</td>\n",
       "      <td>730</td>\n",
       "      <td>6.430137</td>\n",
       "      <td>85.292320</td>\n",
       "      <td>25.0</td>\n",
       "      <td>490.0</td>\n",
       "      <td>17.0</td>\n",
       "      <td>...</td>\n",
       "      <td>66.485965</td>\n",
       "      <td>67.314116</td>\n",
       "      <td>67.866710</td>\n",
       "      <td>68.858282</td>\n",
       "      <td>-1.380745</td>\n",
       "      <td>-1.544166</td>\n",
       "      <td>20.160353</td>\n",
       "      <td>20.585013</td>\n",
       "      <td>49.659557</td>\n",
       "      <td>50.405201</td>\n",
       "    </tr>\n",
       "  </tbody>\n",
       "</table>\n",
       "<p>5 rows × 51 columns</p>\n",
       "</div>"
      ],
      "text/plain": [
       "     passer_id   passer  season  passing_yards  passing_attempts  \\\n",
       "11  00-0019596  T.Brady    2018         4355.0               568   \n",
       "12  00-0019596  T.Brady    2019         4057.0               613   \n",
       "13  00-0019596  T.Brady    2020         4633.0               606   \n",
       "14  00-0019596  T.Brady    2021         5316.0               717   \n",
       "15  00-0019596  T.Brady    2022         4694.0               730   \n",
       "\n",
       "    yards_per_pass   total_epa  passing_touchdowns  completions  games  ...  \\\n",
       "11        7.667253  125.592216                29.0        375.0   16.0  ...   \n",
       "12        6.618271   64.109032                24.0        373.0   16.0  ...   \n",
       "13        7.645215  154.740570                40.0        401.0   16.0  ...   \n",
       "14        7.414226  178.601776                43.0        485.0   17.0  ...   \n",
       "15        6.430137   85.292320                25.0        490.0   17.0  ...   \n",
       "\n",
       "    completion_percentage_mean  completion_percentage_mean_last  \\\n",
       "11                   65.776652                        66.115541   \n",
       "12                   60.474860                        65.776652   \n",
       "13                   64.754609                        60.474860   \n",
       "14                   67.314116                        64.754609   \n",
       "15                   66.485965                        67.314116   \n",
       "\n",
       "    expected_completion_percentage_mean  \\\n",
       "11                            67.763737   \n",
       "12                            64.023087   \n",
       "13                            63.954946   \n",
       "14                            68.858282   \n",
       "15                            67.866710   \n",
       "\n",
       "    expected_completion_percentage_mean_last  \\\n",
       "11                                 64.926853   \n",
       "12                                 67.763737   \n",
       "13                                 64.023087   \n",
       "14                                 63.954946   \n",
       "15                                 68.858282   \n",
       "\n",
       "    completion_percentage_above_expectation_mean  \\\n",
       "11                                     -1.987085   \n",
       "12                                     -3.548227   \n",
       "13                                      0.799663   \n",
       "14                                     -1.544166   \n",
       "15                                     -1.380745   \n",
       "\n",
       "    completion_percentage_above_expectation_mean_last  avg_air_distance_mean  \\\n",
       "11                                           0.909055              20.552595   \n",
       "12                                          -1.987085              20.601148   \n",
       "13                                          -3.548227              22.281251   \n",
       "14                                           0.799663              20.585013   \n",
       "15                                          -1.544166              20.160353   \n",
       "\n",
       "    avg_air_distance_mean_last  max_air_distance_mean  \\\n",
       "11                   21.376685              48.604158   \n",
       "12                   20.552595              46.929331   \n",
       "13                   20.601148              52.355251   \n",
       "14                   22.281251              50.405201   \n",
       "15                   20.585013              49.659557   \n",
       "\n",
       "    max_air_distance_mean_last  \n",
       "11                   51.114926  \n",
       "12                   48.604158  \n",
       "13                   46.929331  \n",
       "14                   52.355251  \n",
       "15                   50.405201  \n",
       "\n",
       "[5 rows x 51 columns]"
      ]
     },
     "execution_count": 4,
     "metadata": {},
     "output_type": "execute_result"
    }
   ],
   "source": [
    "df_combined = pd.read_pickle(file_path)\n",
    "df_combined.head()"
   ]
  },
  {
   "cell_type": "markdown",
   "id": "ba65a217",
   "metadata": {},
   "source": [
    "# Data Manipulations"
   ]
  },
  {
   "cell_type": "markdown",
   "id": "b5d62d61",
   "metadata": {},
   "source": [
    "Keep a copy of our unfiltered data so it is untouched if we need to reset our exploration."
   ]
  },
  {
   "cell_type": "code",
   "execution_count": 5,
   "id": "086fb1b2",
   "metadata": {},
   "outputs": [],
   "source": [
    "df_temp = df_combined.copy()"
   ]
  },
  {
   "cell_type": "code",
   "execution_count": 6,
   "id": "3e9a3801",
   "metadata": {},
   "outputs": [],
   "source": [
    "filter_query = \"\"\n",
    "if filter_query:\n",
    "    df_temp = df_temp.query(filter_query)"
   ]
  },
  {
   "cell_type": "markdown",
   "id": "7288ac8a",
   "metadata": {},
   "source": [
    "## Per Game Version"
   ]
  },
  {
   "cell_type": "code",
   "execution_count": 7,
   "id": "e1016b4a",
   "metadata": {},
   "outputs": [
    {
     "data": {
      "text/plain": [
       "Index(['passer_id', 'passer', 'season', 'passing_yards', 'passing_attempts',\n",
       "       'yards_per_pass', 'total_epa', 'passing_touchdowns', 'completions',\n",
       "       'games', 'fantasy_points', 'age', 'passing_yards_last',\n",
       "       'passing_attempts_last', 'yards_per_pass_last', 'total_epa_last',\n",
       "       'passing_touchdowns_last', 'completions_last', 'games_last',\n",
       "       'fantasy_points_last', 'age_last', 'avg_time_to_throw_mean',\n",
       "       'avg_time_to_throw_mean_last', 'avg_completed_air_yards_mean',\n",
       "       'avg_completed_air_yards_mean_last', 'avg_intended_air_yards_mean',\n",
       "       'avg_intended_air_yards_mean_last', 'avg_air_yards_differential_mean',\n",
       "       'avg_air_yards_differential_mean_last', 'aggressiveness_mean',\n",
       "       'aggressiveness_mean_last', 'max_completed_air_distance_mean',\n",
       "       'max_completed_air_distance_mean_last', 'avg_air_yards_to_sticks_mean',\n",
       "       'avg_air_yards_to_sticks_mean_last', 'attempts_mean',\n",
       "       'attempts_mean_last', 'pass_yards_mean', 'pass_yards_mean_last',\n",
       "       'passer_rating_mean', 'passer_rating_mean_last',\n",
       "       'completion_percentage_mean', 'completion_percentage_mean_last',\n",
       "       'expected_completion_percentage_mean',\n",
       "       'expected_completion_percentage_mean_last',\n",
       "       'completion_percentage_above_expectation_mean',\n",
       "       'completion_percentage_above_expectation_mean_last',\n",
       "       'avg_air_distance_mean', 'avg_air_distance_mean_last',\n",
       "       'max_air_distance_mean', 'max_air_distance_mean_last'],\n",
       "      dtype='object')"
      ]
     },
     "execution_count": 7,
     "metadata": {},
     "output_type": "execute_result"
    }
   ],
   "source": [
    "df_temp.columns"
   ]
  },
  {
   "cell_type": "code",
   "execution_count": 8,
   "id": "7c65d3ad",
   "metadata": {},
   "outputs": [],
   "source": [
    "filter_cols = [\"age\", \"yards_per_pass\", \"age_last\", \"yards_per_pass_last\", \"season\", \n",
    "               \"passer\", \"passer_id\", \"games\", \"games_last\"\n",
    "              ]\n",
    "\n",
    "per_game_cols = []\n",
    "for col in list(df_temp.columns):\n",
    "    if col not in filter_cols and \"mean\" not in col:\n",
    "        per_game_cols.append(col)"
   ]
  },
  {
   "cell_type": "code",
   "execution_count": 9,
   "id": "12d93519",
   "metadata": {},
   "outputs": [
    {
     "name": "stdout",
     "output_type": "stream",
     "text": [
      "['passing_yards', 'passing_attempts', 'total_epa', 'passing_touchdowns', 'completions', 'fantasy_points', 'passing_yards_last', 'passing_attempts_last', 'total_epa_last', 'passing_touchdowns_last', 'completions_last', 'fantasy_points_last']\n"
     ]
    }
   ],
   "source": [
    "print(per_game_cols)"
   ]
  },
  {
   "cell_type": "code",
   "execution_count": 10,
   "id": "6a910cd7",
   "metadata": {},
   "outputs": [],
   "source": [
    "df_per_game = df_temp\n",
    "for col in per_game_cols:\n",
    "    new_col = f\"{col}_per_game\"\n",
    "    df_per_game[new_col] = df_temp[col] / df_temp[\"games\"]"
   ]
  },
  {
   "cell_type": "code",
   "execution_count": 11,
   "id": "68dc606f",
   "metadata": {},
   "outputs": [
    {
     "data": {
      "text/html": [
       "<div>\n",
       "<style scoped>\n",
       "    .dataframe tbody tr th:only-of-type {\n",
       "        vertical-align: middle;\n",
       "    }\n",
       "\n",
       "    .dataframe tbody tr th {\n",
       "        vertical-align: top;\n",
       "    }\n",
       "\n",
       "    .dataframe thead th {\n",
       "        text-align: right;\n",
       "    }\n",
       "</style>\n",
       "<table border=\"1\" class=\"dataframe\">\n",
       "  <thead>\n",
       "    <tr style=\"text-align: right;\">\n",
       "      <th></th>\n",
       "      <th>passer_id</th>\n",
       "      <th>passer</th>\n",
       "      <th>season</th>\n",
       "      <th>passing_yards</th>\n",
       "      <th>passing_attempts</th>\n",
       "      <th>yards_per_pass</th>\n",
       "      <th>total_epa</th>\n",
       "      <th>passing_touchdowns</th>\n",
       "      <th>completions</th>\n",
       "      <th>games</th>\n",
       "      <th>...</th>\n",
       "      <th>total_epa_per_game</th>\n",
       "      <th>passing_touchdowns_per_game</th>\n",
       "      <th>completions_per_game</th>\n",
       "      <th>fantasy_points_per_game</th>\n",
       "      <th>passing_yards_last_per_game</th>\n",
       "      <th>passing_attempts_last_per_game</th>\n",
       "      <th>total_epa_last_per_game</th>\n",
       "      <th>passing_touchdowns_last_per_game</th>\n",
       "      <th>completions_last_per_game</th>\n",
       "      <th>fantasy_points_last_per_game</th>\n",
       "    </tr>\n",
       "  </thead>\n",
       "  <tbody>\n",
       "    <tr>\n",
       "      <th>11</th>\n",
       "      <td>00-0019596</td>\n",
       "      <td>T.Brady</td>\n",
       "      <td>2018</td>\n",
       "      <td>4355.0</td>\n",
       "      <td>568</td>\n",
       "      <td>7.667253</td>\n",
       "      <td>125.592216</td>\n",
       "      <td>29.0</td>\n",
       "      <td>375.0</td>\n",
       "      <td>16.0</td>\n",
       "      <td>...</td>\n",
       "      <td>7.849514</td>\n",
       "      <td>1.812500</td>\n",
       "      <td>23.437500</td>\n",
       "      <td>17.518750</td>\n",
       "      <td>286.062500</td>\n",
       "      <td>36.312500</td>\n",
       "      <td>12.566085</td>\n",
       "      <td>2.000000</td>\n",
       "      <td>24.062500</td>\n",
       "      <td>18.492500</td>\n",
       "    </tr>\n",
       "    <tr>\n",
       "      <th>12</th>\n",
       "      <td>00-0019596</td>\n",
       "      <td>T.Brady</td>\n",
       "      <td>2019</td>\n",
       "      <td>4057.0</td>\n",
       "      <td>613</td>\n",
       "      <td>6.618271</td>\n",
       "      <td>64.109032</td>\n",
       "      <td>24.0</td>\n",
       "      <td>373.0</td>\n",
       "      <td>16.0</td>\n",
       "      <td>...</td>\n",
       "      <td>4.006814</td>\n",
       "      <td>1.500000</td>\n",
       "      <td>23.312500</td>\n",
       "      <td>16.480000</td>\n",
       "      <td>272.187500</td>\n",
       "      <td>35.500000</td>\n",
       "      <td>7.849514</td>\n",
       "      <td>1.812500</td>\n",
       "      <td>23.437500</td>\n",
       "      <td>17.518750</td>\n",
       "    </tr>\n",
       "    <tr>\n",
       "      <th>13</th>\n",
       "      <td>00-0019596</td>\n",
       "      <td>T.Brady</td>\n",
       "      <td>2020</td>\n",
       "      <td>4633.0</td>\n",
       "      <td>606</td>\n",
       "      <td>7.645215</td>\n",
       "      <td>154.740570</td>\n",
       "      <td>40.0</td>\n",
       "      <td>401.0</td>\n",
       "      <td>16.0</td>\n",
       "      <td>...</td>\n",
       "      <td>9.671286</td>\n",
       "      <td>2.500000</td>\n",
       "      <td>25.062500</td>\n",
       "      <td>21.120000</td>\n",
       "      <td>253.562500</td>\n",
       "      <td>38.312500</td>\n",
       "      <td>4.006814</td>\n",
       "      <td>1.500000</td>\n",
       "      <td>23.312500</td>\n",
       "      <td>16.480000</td>\n",
       "    </tr>\n",
       "    <tr>\n",
       "      <th>14</th>\n",
       "      <td>00-0019596</td>\n",
       "      <td>T.Brady</td>\n",
       "      <td>2021</td>\n",
       "      <td>5316.0</td>\n",
       "      <td>717</td>\n",
       "      <td>7.414226</td>\n",
       "      <td>178.601776</td>\n",
       "      <td>43.0</td>\n",
       "      <td>485.0</td>\n",
       "      <td>17.0</td>\n",
       "      <td>...</td>\n",
       "      <td>10.505987</td>\n",
       "      <td>2.529412</td>\n",
       "      <td>28.529412</td>\n",
       "      <td>22.043529</td>\n",
       "      <td>272.529412</td>\n",
       "      <td>35.647059</td>\n",
       "      <td>9.102386</td>\n",
       "      <td>2.352941</td>\n",
       "      <td>23.588235</td>\n",
       "      <td>19.877647</td>\n",
       "    </tr>\n",
       "    <tr>\n",
       "      <th>15</th>\n",
       "      <td>00-0019596</td>\n",
       "      <td>T.Brady</td>\n",
       "      <td>2022</td>\n",
       "      <td>4694.0</td>\n",
       "      <td>730</td>\n",
       "      <td>6.430137</td>\n",
       "      <td>85.292320</td>\n",
       "      <td>25.0</td>\n",
       "      <td>490.0</td>\n",
       "      <td>17.0</td>\n",
       "      <td>...</td>\n",
       "      <td>5.017195</td>\n",
       "      <td>1.470588</td>\n",
       "      <td>28.823529</td>\n",
       "      <td>15.980000</td>\n",
       "      <td>312.705882</td>\n",
       "      <td>42.176471</td>\n",
       "      <td>10.505987</td>\n",
       "      <td>2.529412</td>\n",
       "      <td>28.529412</td>\n",
       "      <td>22.043529</td>\n",
       "    </tr>\n",
       "  </tbody>\n",
       "</table>\n",
       "<p>5 rows × 63 columns</p>\n",
       "</div>"
      ],
      "text/plain": [
       "     passer_id   passer  season  passing_yards  passing_attempts  \\\n",
       "11  00-0019596  T.Brady    2018         4355.0               568   \n",
       "12  00-0019596  T.Brady    2019         4057.0               613   \n",
       "13  00-0019596  T.Brady    2020         4633.0               606   \n",
       "14  00-0019596  T.Brady    2021         5316.0               717   \n",
       "15  00-0019596  T.Brady    2022         4694.0               730   \n",
       "\n",
       "    yards_per_pass   total_epa  passing_touchdowns  completions  games  ...  \\\n",
       "11        7.667253  125.592216                29.0        375.0   16.0  ...   \n",
       "12        6.618271   64.109032                24.0        373.0   16.0  ...   \n",
       "13        7.645215  154.740570                40.0        401.0   16.0  ...   \n",
       "14        7.414226  178.601776                43.0        485.0   17.0  ...   \n",
       "15        6.430137   85.292320                25.0        490.0   17.0  ...   \n",
       "\n",
       "    total_epa_per_game  passing_touchdowns_per_game  completions_per_game  \\\n",
       "11            7.849514                     1.812500             23.437500   \n",
       "12            4.006814                     1.500000             23.312500   \n",
       "13            9.671286                     2.500000             25.062500   \n",
       "14           10.505987                     2.529412             28.529412   \n",
       "15            5.017195                     1.470588             28.823529   \n",
       "\n",
       "    fantasy_points_per_game  passing_yards_last_per_game  \\\n",
       "11                17.518750                   286.062500   \n",
       "12                16.480000                   272.187500   \n",
       "13                21.120000                   253.562500   \n",
       "14                22.043529                   272.529412   \n",
       "15                15.980000                   312.705882   \n",
       "\n",
       "    passing_attempts_last_per_game  total_epa_last_per_game  \\\n",
       "11                       36.312500                12.566085   \n",
       "12                       35.500000                 7.849514   \n",
       "13                       38.312500                 4.006814   \n",
       "14                       35.647059                 9.102386   \n",
       "15                       42.176471                10.505987   \n",
       "\n",
       "    passing_touchdowns_last_per_game  completions_last_per_game  \\\n",
       "11                          2.000000                  24.062500   \n",
       "12                          1.812500                  23.437500   \n",
       "13                          1.500000                  23.312500   \n",
       "14                          2.352941                  23.588235   \n",
       "15                          2.529412                  28.529412   \n",
       "\n",
       "    fantasy_points_last_per_game  \n",
       "11                     18.492500  \n",
       "12                     17.518750  \n",
       "13                     16.480000  \n",
       "14                     19.877647  \n",
       "15                     22.043529  \n",
       "\n",
       "[5 rows x 63 columns]"
      ]
     },
     "execution_count": 11,
     "metadata": {},
     "output_type": "execute_result"
    }
   ],
   "source": [
    "df_per_game.head()"
   ]
  },
  {
   "cell_type": "code",
   "execution_count": 12,
   "id": "f4c45cf5",
   "metadata": {},
   "outputs": [],
   "source": [
    "df = df_per_game.copy()"
   ]
  },
  {
   "cell_type": "markdown",
   "id": "d773aa76",
   "metadata": {},
   "source": [
    "# Generate Graphs"
   ]
  },
  {
   "cell_type": "code",
   "execution_count": 13,
   "id": "f725b7ff",
   "metadata": {},
   "outputs": [
    {
     "data": {
      "text/html": [
       "<div>\n",
       "<style scoped>\n",
       "    .dataframe tbody tr th:only-of-type {\n",
       "        vertical-align: middle;\n",
       "    }\n",
       "\n",
       "    .dataframe tbody tr th {\n",
       "        vertical-align: top;\n",
       "    }\n",
       "\n",
       "    .dataframe thead th {\n",
       "        text-align: right;\n",
       "    }\n",
       "</style>\n",
       "<table border=\"1\" class=\"dataframe\">\n",
       "  <thead>\n",
       "    <tr style=\"text-align: right;\">\n",
       "      <th></th>\n",
       "      <th>passer_id</th>\n",
       "      <th>passer</th>\n",
       "      <th>season</th>\n",
       "      <th>passing_yards</th>\n",
       "      <th>passing_attempts</th>\n",
       "      <th>yards_per_pass</th>\n",
       "      <th>total_epa</th>\n",
       "      <th>passing_touchdowns</th>\n",
       "      <th>completions</th>\n",
       "      <th>games</th>\n",
       "      <th>...</th>\n",
       "      <th>total_epa_per_game</th>\n",
       "      <th>passing_touchdowns_per_game</th>\n",
       "      <th>completions_per_game</th>\n",
       "      <th>fantasy_points_per_game</th>\n",
       "      <th>passing_yards_last_per_game</th>\n",
       "      <th>passing_attempts_last_per_game</th>\n",
       "      <th>total_epa_last_per_game</th>\n",
       "      <th>passing_touchdowns_last_per_game</th>\n",
       "      <th>completions_last_per_game</th>\n",
       "      <th>fantasy_points_last_per_game</th>\n",
       "    </tr>\n",
       "  </thead>\n",
       "  <tbody>\n",
       "    <tr>\n",
       "      <th>11</th>\n",
       "      <td>00-0019596</td>\n",
       "      <td>T.Brady</td>\n",
       "      <td>2018</td>\n",
       "      <td>4355.0</td>\n",
       "      <td>568</td>\n",
       "      <td>7.667253</td>\n",
       "      <td>125.592216</td>\n",
       "      <td>29.0</td>\n",
       "      <td>375.0</td>\n",
       "      <td>16.0</td>\n",
       "      <td>...</td>\n",
       "      <td>7.849514</td>\n",
       "      <td>1.812500</td>\n",
       "      <td>23.437500</td>\n",
       "      <td>17.518750</td>\n",
       "      <td>286.062500</td>\n",
       "      <td>36.312500</td>\n",
       "      <td>12.566085</td>\n",
       "      <td>2.000000</td>\n",
       "      <td>24.062500</td>\n",
       "      <td>18.492500</td>\n",
       "    </tr>\n",
       "    <tr>\n",
       "      <th>12</th>\n",
       "      <td>00-0019596</td>\n",
       "      <td>T.Brady</td>\n",
       "      <td>2019</td>\n",
       "      <td>4057.0</td>\n",
       "      <td>613</td>\n",
       "      <td>6.618271</td>\n",
       "      <td>64.109032</td>\n",
       "      <td>24.0</td>\n",
       "      <td>373.0</td>\n",
       "      <td>16.0</td>\n",
       "      <td>...</td>\n",
       "      <td>4.006814</td>\n",
       "      <td>1.500000</td>\n",
       "      <td>23.312500</td>\n",
       "      <td>16.480000</td>\n",
       "      <td>272.187500</td>\n",
       "      <td>35.500000</td>\n",
       "      <td>7.849514</td>\n",
       "      <td>1.812500</td>\n",
       "      <td>23.437500</td>\n",
       "      <td>17.518750</td>\n",
       "    </tr>\n",
       "    <tr>\n",
       "      <th>13</th>\n",
       "      <td>00-0019596</td>\n",
       "      <td>T.Brady</td>\n",
       "      <td>2020</td>\n",
       "      <td>4633.0</td>\n",
       "      <td>606</td>\n",
       "      <td>7.645215</td>\n",
       "      <td>154.740570</td>\n",
       "      <td>40.0</td>\n",
       "      <td>401.0</td>\n",
       "      <td>16.0</td>\n",
       "      <td>...</td>\n",
       "      <td>9.671286</td>\n",
       "      <td>2.500000</td>\n",
       "      <td>25.062500</td>\n",
       "      <td>21.120000</td>\n",
       "      <td>253.562500</td>\n",
       "      <td>38.312500</td>\n",
       "      <td>4.006814</td>\n",
       "      <td>1.500000</td>\n",
       "      <td>23.312500</td>\n",
       "      <td>16.480000</td>\n",
       "    </tr>\n",
       "    <tr>\n",
       "      <th>14</th>\n",
       "      <td>00-0019596</td>\n",
       "      <td>T.Brady</td>\n",
       "      <td>2021</td>\n",
       "      <td>5316.0</td>\n",
       "      <td>717</td>\n",
       "      <td>7.414226</td>\n",
       "      <td>178.601776</td>\n",
       "      <td>43.0</td>\n",
       "      <td>485.0</td>\n",
       "      <td>17.0</td>\n",
       "      <td>...</td>\n",
       "      <td>10.505987</td>\n",
       "      <td>2.529412</td>\n",
       "      <td>28.529412</td>\n",
       "      <td>22.043529</td>\n",
       "      <td>272.529412</td>\n",
       "      <td>35.647059</td>\n",
       "      <td>9.102386</td>\n",
       "      <td>2.352941</td>\n",
       "      <td>23.588235</td>\n",
       "      <td>19.877647</td>\n",
       "    </tr>\n",
       "    <tr>\n",
       "      <th>15</th>\n",
       "      <td>00-0019596</td>\n",
       "      <td>T.Brady</td>\n",
       "      <td>2022</td>\n",
       "      <td>4694.0</td>\n",
       "      <td>730</td>\n",
       "      <td>6.430137</td>\n",
       "      <td>85.292320</td>\n",
       "      <td>25.0</td>\n",
       "      <td>490.0</td>\n",
       "      <td>17.0</td>\n",
       "      <td>...</td>\n",
       "      <td>5.017195</td>\n",
       "      <td>1.470588</td>\n",
       "      <td>28.823529</td>\n",
       "      <td>15.980000</td>\n",
       "      <td>312.705882</td>\n",
       "      <td>42.176471</td>\n",
       "      <td>10.505987</td>\n",
       "      <td>2.529412</td>\n",
       "      <td>28.529412</td>\n",
       "      <td>22.043529</td>\n",
       "    </tr>\n",
       "  </tbody>\n",
       "</table>\n",
       "<p>5 rows × 63 columns</p>\n",
       "</div>"
      ],
      "text/plain": [
       "     passer_id   passer  season  passing_yards  passing_attempts  \\\n",
       "11  00-0019596  T.Brady    2018         4355.0               568   \n",
       "12  00-0019596  T.Brady    2019         4057.0               613   \n",
       "13  00-0019596  T.Brady    2020         4633.0               606   \n",
       "14  00-0019596  T.Brady    2021         5316.0               717   \n",
       "15  00-0019596  T.Brady    2022         4694.0               730   \n",
       "\n",
       "    yards_per_pass   total_epa  passing_touchdowns  completions  games  ...  \\\n",
       "11        7.667253  125.592216                29.0        375.0   16.0  ...   \n",
       "12        6.618271   64.109032                24.0        373.0   16.0  ...   \n",
       "13        7.645215  154.740570                40.0        401.0   16.0  ...   \n",
       "14        7.414226  178.601776                43.0        485.0   17.0  ...   \n",
       "15        6.430137   85.292320                25.0        490.0   17.0  ...   \n",
       "\n",
       "    total_epa_per_game  passing_touchdowns_per_game  completions_per_game  \\\n",
       "11            7.849514                     1.812500             23.437500   \n",
       "12            4.006814                     1.500000             23.312500   \n",
       "13            9.671286                     2.500000             25.062500   \n",
       "14           10.505987                     2.529412             28.529412   \n",
       "15            5.017195                     1.470588             28.823529   \n",
       "\n",
       "    fantasy_points_per_game  passing_yards_last_per_game  \\\n",
       "11                17.518750                   286.062500   \n",
       "12                16.480000                   272.187500   \n",
       "13                21.120000                   253.562500   \n",
       "14                22.043529                   272.529412   \n",
       "15                15.980000                   312.705882   \n",
       "\n",
       "    passing_attempts_last_per_game  total_epa_last_per_game  \\\n",
       "11                       36.312500                12.566085   \n",
       "12                       35.500000                 7.849514   \n",
       "13                       38.312500                 4.006814   \n",
       "14                       35.647059                 9.102386   \n",
       "15                       42.176471                10.505987   \n",
       "\n",
       "    passing_touchdowns_last_per_game  completions_last_per_game  \\\n",
       "11                          2.000000                  24.062500   \n",
       "12                          1.812500                  23.437500   \n",
       "13                          1.500000                  23.312500   \n",
       "14                          2.352941                  23.588235   \n",
       "15                          2.529412                  28.529412   \n",
       "\n",
       "    fantasy_points_last_per_game  \n",
       "11                     18.492500  \n",
       "12                     17.518750  \n",
       "13                     16.480000  \n",
       "14                     19.877647  \n",
       "15                     22.043529  \n",
       "\n",
       "[5 rows x 63 columns]"
      ]
     },
     "execution_count": 13,
     "metadata": {},
     "output_type": "execute_result"
    }
   ],
   "source": [
    "df.head()"
   ]
  },
  {
   "cell_type": "markdown",
   "id": "b550ac8c",
   "metadata": {},
   "source": [
    "## Correlation Matrix"
   ]
  },
  {
   "cell_type": "code",
   "execution_count": 14,
   "id": "fe413734",
   "metadata": {},
   "outputs": [],
   "source": [
    "x = list()\n",
    "y = list()\n",
    "for col in list(df.columns)[3:]:\n",
    "    if \"last\" in col and (\"per_game\" in col or \"mean\" in col):\n",
    "        y.append(col)\n",
    "    elif \"per_game\" in col or \"mean\" in col:\n",
    "        x.append(col)"
   ]
  },
  {
   "cell_type": "code",
   "execution_count": 32,
   "id": "db3c44c4",
   "metadata": {},
   "outputs": [],
   "source": [
    "# x = [\n",
    "#     \"aggressiveness_mean\", \"aggressiveness_mean_last\",\n",
    "#     \"fantasy_points_per_game\", \"fantasy_points_last_per_game\"\n",
    "# ]\n",
    "x = list(df.columns[3:])"
   ]
  },
  {
   "cell_type": "code",
   "execution_count": 33,
   "id": "5e2d5069",
   "metadata": {},
   "outputs": [],
   "source": [
    "# y = [\n",
    "#     \"aggressiveness_mean\", \"aggressiveness_mean_last\",\n",
    "#     \"fantasy_points_per_game\", \"fantasy_points_last_per_game\"\n",
    "# ]\n",
    "y = list(df.columns[3:])"
   ]
  },
  {
   "cell_type": "code",
   "execution_count": 35,
   "id": "b1812731",
   "metadata": {},
   "outputs": [
    {
     "data": {
      "application/vnd.plotly.v1+json": {
       "config": {
        "plotlyServerURL": "https://plot.ly"
       },
       "data": [
        {
         "coloraxis": "coloraxis",
         "hovertemplate": "Current Season Stats: %{x}<br>Previous Season Stats: %{y}<br>color: %{z}<extra></extra>",
         "name": "0",
         "texttemplate": "%{z}",
         "type": "heatmap",
         "x": [
          "passing_yards",
          "passing_attempts",
          "yards_per_pass",
          "total_epa",
          "passing_touchdowns",
          "completions",
          "games",
          "fantasy_points",
          "age",
          "passing_yards_last",
          "passing_attempts_last",
          "yards_per_pass_last",
          "total_epa_last",
          "passing_touchdowns_last",
          "completions_last",
          "games_last",
          "fantasy_points_last",
          "age_last",
          "avg_time_to_throw_mean",
          "avg_time_to_throw_mean_last",
          "avg_completed_air_yards_mean",
          "avg_completed_air_yards_mean_last",
          "avg_intended_air_yards_mean",
          "avg_intended_air_yards_mean_last",
          "avg_air_yards_differential_mean",
          "avg_air_yards_differential_mean_last",
          "aggressiveness_mean",
          "aggressiveness_mean_last",
          "max_completed_air_distance_mean",
          "max_completed_air_distance_mean_last",
          "avg_air_yards_to_sticks_mean",
          "avg_air_yards_to_sticks_mean_last",
          "attempts_mean",
          "attempts_mean_last",
          "pass_yards_mean",
          "pass_yards_mean_last",
          "passer_rating_mean",
          "passer_rating_mean_last",
          "completion_percentage_mean",
          "completion_percentage_mean_last",
          "expected_completion_percentage_mean",
          "expected_completion_percentage_mean_last",
          "completion_percentage_above_expectation_mean",
          "completion_percentage_above_expectation_mean_last",
          "avg_air_distance_mean",
          "avg_air_distance_mean_last",
          "max_air_distance_mean",
          "max_air_distance_mean_last",
          "passing_yards_per_game",
          "passing_attempts_per_game",
          "total_epa_per_game",
          "passing_touchdowns_per_game",
          "completions_per_game",
          "fantasy_points_per_game",
          "passing_yards_last_per_game",
          "passing_attempts_last_per_game",
          "total_epa_last_per_game",
          "passing_touchdowns_last_per_game",
          "completions_last_per_game",
          "fantasy_points_last_per_game"
         ],
         "xaxis": "x",
         "y": [
          "passing_yards",
          "passing_attempts",
          "yards_per_pass",
          "total_epa",
          "passing_touchdowns",
          "completions",
          "games",
          "fantasy_points",
          "age",
          "passing_yards_last",
          "passing_attempts_last",
          "yards_per_pass_last",
          "total_epa_last",
          "passing_touchdowns_last",
          "completions_last",
          "games_last",
          "fantasy_points_last",
          "age_last",
          "avg_time_to_throw_mean",
          "avg_time_to_throw_mean_last",
          "avg_completed_air_yards_mean",
          "avg_completed_air_yards_mean_last",
          "avg_intended_air_yards_mean",
          "avg_intended_air_yards_mean_last",
          "avg_air_yards_differential_mean",
          "avg_air_yards_differential_mean_last",
          "aggressiveness_mean",
          "aggressiveness_mean_last",
          "max_completed_air_distance_mean",
          "max_completed_air_distance_mean_last",
          "avg_air_yards_to_sticks_mean",
          "avg_air_yards_to_sticks_mean_last",
          "attempts_mean",
          "attempts_mean_last",
          "pass_yards_mean",
          "pass_yards_mean_last",
          "passer_rating_mean",
          "passer_rating_mean_last",
          "completion_percentage_mean",
          "completion_percentage_mean_last",
          "expected_completion_percentage_mean",
          "expected_completion_percentage_mean_last",
          "completion_percentage_above_expectation_mean",
          "completion_percentage_above_expectation_mean_last",
          "avg_air_distance_mean",
          "avg_air_distance_mean_last",
          "max_air_distance_mean",
          "max_air_distance_mean_last",
          "passing_yards_per_game",
          "passing_attempts_per_game",
          "total_epa_per_game",
          "passing_touchdowns_per_game",
          "completions_per_game",
          "fantasy_points_per_game",
          "passing_yards_last_per_game",
          "passing_attempts_last_per_game",
          "total_epa_last_per_game",
          "passing_touchdowns_last_per_game",
          "completions_last_per_game",
          "fantasy_points_last_per_game"
         ],
         "yaxis": "y",
         "z": [
          [
           1,
           0.85,
           0.44,
           0.72,
           0.7,
           0.89,
           0.67,
           0.67,
           0.33,
           0.52,
           0.39,
           0.31,
           0.43,
           0.38,
           0.43,
           0.26,
           0.31,
           0.33,
           -0.08,
           -0.09,
           0.11,
           -0.08,
           -0.04,
           -0.13,
           0.29,
           0.11,
           -0.23,
           -0.19,
           0.39,
           0.19,
           0.07,
           -0.1,
           0.63,
           0.05,
           0.83,
           0.22,
           0.51,
           0.35,
           0.45,
           0.24,
           0.27,
           0.29,
           0.3,
           -0.02,
           0,
           -0.2,
           0.29,
           0.17,
           0.92,
           0.76,
           0.65,
           0.6,
           0.83,
           0.53,
           0.22,
           0.03,
           0.35,
           0.24,
           0.11,
           0.08
          ],
          [
           0.85,
           1,
           -0.09,
           0.34,
           0.49,
           0.96,
           0.75,
           0.46,
           0.39,
           0.55,
           0.52,
           0.16,
           0.33,
           0.38,
           0.53,
           0.27,
           0.27,
           0.39,
           -0.22,
           -0.21,
           -0.18,
           -0.13,
           -0.26,
           -0.16,
           0.15,
           0.08,
           -0.18,
           -0.11,
           0.15,
           0.18,
           -0.14,
           -0.11,
           0.8,
           0.23,
           0.62,
           0.33,
           0.12,
           0.24,
           0.22,
           0.18,
           0.26,
           0.26,
           0.04,
           -0.06,
           -0.14,
           -0.17,
           0.18,
           0.19,
           0.69,
           0.91,
           0.25,
           0.35,
           0.87,
           0.27,
           0.2,
           0.12,
           0.24,
           0.21,
           0.17,
           0.01
          ],
          [
           0.44,
           -0.09,
           1,
           0.79,
           0.51,
           0.06,
           -0.01,
           0.49,
           -0.02,
           0.08,
           -0.13,
           0.32,
           0.26,
           0.11,
           -0.06,
           0.04,
           0.14,
           -0.02,
           0.2,
           0.18,
           0.53,
           0.05,
           0.36,
           0.01,
           0.32,
           0.07,
           -0.14,
           -0.19,
           0.5,
           0.08,
           0.39,
           0,
           -0.18,
           -0.29,
           0.54,
           -0.13,
           0.8,
           0.25,
           0.5,
           0.18,
           0.07,
           0.13,
           0.52,
           0.07,
           0.26,
           -0.09,
           0.24,
           0,
           0.57,
           -0.11,
           0.82,
           0.56,
           0.1,
           0.55,
           0.1,
           -0.12,
           0.28,
           0.13,
           -0.05,
           0.16
          ],
          [
           0.72,
           0.34,
           0.79,
           1,
           0.8,
           0.46,
           0.3,
           0.76,
           0.13,
           0.27,
           0.12,
           0.28,
           0.36,
           0.26,
           0.16,
           0.18,
           0.29,
           0.13,
           0.16,
           0.15,
           0.36,
           -0.03,
           0.21,
           -0.02,
           0.29,
           -0.01,
           -0.29,
           -0.26,
           0.48,
           0.12,
           0.29,
           -0.04,
           0.11,
           -0.15,
           0.64,
           0,
           0.85,
           0.28,
           0.56,
           0.16,
           0.2,
           0.24,
           0.48,
           -0.06,
           0.17,
           -0.12,
           0.33,
           0.15,
           0.75,
           0.27,
           0.99,
           0.8,
           0.45,
           0.75,
           0.14,
           -0.04,
           0.34,
           0.2,
           0.02,
           0.2
          ],
          [
           0.7,
           0.49,
           0.51,
           0.8,
           1,
           0.55,
           0.45,
           0.85,
           0.24,
           0.33,
           0.24,
           0.23,
           0.37,
           0.35,
           0.26,
           0.25,
           0.39,
           0.24,
           0.1,
           0.11,
           0.3,
           -0.02,
           0.24,
           0.01,
           0.11,
           -0.06,
           -0.23,
           -0.26,
           0.53,
           0.28,
           0.37,
           -0.01,
           0.22,
           -0.01,
           0.54,
           0.12,
           0.76,
           0.35,
           0.38,
           0.18,
           0.07,
           0.16,
           0.39,
           0.04,
           0.31,
           0.04,
           0.48,
           0.31,
           0.66,
           0.39,
           0.76,
           0.97,
           0.49,
           0.8,
           0.13,
           0,
           0.32,
           0.26,
           0.06,
           0.24
          ],
          [
           0.89,
           0.96,
           0.06,
           0.46,
           0.55,
           1,
           0.74,
           0.53,
           0.41,
           0.56,
           0.5,
           0.2,
           0.35,
           0.39,
           0.55,
           0.31,
           0.31,
           0.41,
           -0.23,
           -0.21,
           -0.21,
           -0.18,
           -0.33,
           -0.23,
           0.24,
           0.12,
           -0.27,
           -0.17,
           0.19,
           0.16,
           -0.2,
           -0.19,
           0.74,
           0.17,
           0.67,
           0.29,
           0.3,
           0.29,
           0.48,
           0.27,
           0.38,
           0.35,
           0.24,
           -0.06,
           -0.19,
           -0.26,
           0.15,
           0.13,
           0.74,
           0.86,
           0.38,
           0.42,
           0.93,
           0.35,
           0.22,
           0.1,
           0.26,
           0.22,
           0.2,
           0.05
          ],
          [
           0.67,
           0.75,
           -0.01,
           0.3,
           0.45,
           0.74,
           1,
           0.46,
           0.35,
           0.4,
           0.34,
           0.18,
           0.28,
           0.32,
           0.37,
           0.33,
           0.3,
           0.35,
           -0.04,
           -0.06,
           -0.15,
           -0.01,
           -0.23,
           -0.08,
           0.16,
           0.14,
           -0.24,
           -0.15,
           0.09,
           0.2,
           -0.12,
           -0.05,
           0.28,
           0.12,
           0.22,
           0.22,
           0.16,
           0.3,
           0.24,
           0.18,
           0.21,
           0.11,
           0.1,
           0.08,
           -0.11,
           -0.04,
           0.1,
           0.16,
           0.32,
           0.4,
           0.18,
           0.24,
           0.44,
           0.19,
           -0.08,
           -0.21,
           0.15,
           0.09,
           -0.13,
           -0.05
          ],
          [
           0.67,
           0.46,
           0.49,
           0.76,
           0.85,
           0.53,
           0.46,
           1,
           0.02,
           0.22,
           0.12,
           0.21,
           0.33,
           0.29,
           0.13,
           0.24,
           0.52,
           0.02,
           0.23,
           0.27,
           0.3,
           0.05,
           0.21,
           0.07,
           0.15,
           -0.06,
           -0.31,
           -0.27,
           0.5,
           0.2,
           0.32,
           0.05,
           0.16,
           -0.11,
           0.47,
           0.01,
           0.68,
           0.3,
           0.39,
           0.09,
           0.11,
           0.14,
           0.37,
           -0.04,
           0.27,
           0.08,
           0.39,
           0.27,
           0.61,
           0.35,
           0.72,
           0.81,
           0.45,
           0.96,
           0,
           -0.13,
           0.28,
           0.19,
           -0.09,
           0.38
          ],
          [
           0.33,
           0.39,
           -0.02,
           0.13,
           0.24,
           0.41,
           0.35,
           0.02,
           1,
           0.4,
           0.39,
           0.11,
           0.24,
           0.32,
           0.43,
           0.24,
           0.09,
           1,
           -0.45,
           -0.43,
           -0.19,
           -0.08,
           -0.16,
           -0.08,
           -0.05,
           0.02,
           0.11,
           0,
           0.1,
           0.16,
           -0.11,
           -0.01,
           0.27,
           0.16,
           0.2,
           0.23,
           0.15,
           0.23,
           0.19,
           0.19,
           0.19,
           0.17,
           0.07,
           0.04,
           -0.12,
           -0.11,
           0.03,
           0.07,
           0.23,
           0.32,
           0.09,
           0.18,
           0.36,
           -0.08,
           0.25,
           0.2,
           0.2,
           0.24,
           0.27,
           -0.03
          ],
          [
           0.52,
           0.55,
           0.08,
           0.27,
           0.33,
           0.56,
           0.4,
           0.22,
           0.4,
           1,
           0.81,
           0.49,
           0.68,
           0.62,
           0.88,
           0.64,
           0.56,
           0.4,
           -0.16,
           -0.13,
           -0.14,
           0.1,
           -0.18,
           -0.05,
           0.08,
           0.27,
           -0.13,
           -0.18,
           0.11,
           0.39,
           -0.1,
           0,
           0.43,
           0.29,
           0.41,
           0.55,
           0.2,
           0.45,
           0.24,
           0.37,
           0.21,
           0.17,
           0.11,
           0.25,
           -0.15,
           -0.1,
           0.11,
           0.23,
           0.46,
           0.51,
           0.23,
           0.27,
           0.53,
           0.12,
           0.88,
           0.62,
           0.65,
           0.55,
           0.73,
           0.44
          ],
          [
           0.39,
           0.52,
           -0.13,
           0.12,
           0.24,
           0.5,
           0.34,
           0.12,
           0.39,
           0.81,
           1,
           -0.11,
           0.23,
           0.35,
           0.93,
           0.63,
           0.32,
           0.39,
           -0.28,
           -0.27,
           -0.26,
           -0.13,
           -0.29,
           -0.16,
           0.07,
           0.08,
           -0.06,
           -0.08,
           0.01,
           0.2,
           -0.19,
           -0.11,
           0.45,
           0.59,
           0.28,
           0.58,
           0.07,
           -0.02,
           0.13,
           0.07,
           0.22,
           0.12,
           -0.04,
           -0.04,
           -0.24,
           -0.14,
           0.02,
           0.18,
           0.31,
           0.5,
           0.09,
           0.18,
           0.48,
           0.03,
           0.71,
           0.84,
           0.2,
           0.28,
           0.81,
           0.21
          ],
          [
           0.31,
           0.16,
           0.32,
           0.28,
           0.23,
           0.2,
           0.18,
           0.21,
           0.11,
           0.49,
           -0.11,
           1,
           0.82,
           0.54,
           0.11,
           0.16,
           0.48,
           0.11,
           0.15,
           0.19,
           0.16,
           0.38,
           0.15,
           0.17,
           0.02,
           0.35,
           -0.12,
           -0.19,
           0.17,
           0.37,
           0.13,
           0.18,
           0.05,
           -0.38,
           0.27,
           0.08,
           0.25,
           0.8,
           0.21,
           0.53,
           0.01,
           0.1,
           0.24,
           0.49,
           0.1,
           0.05,
           0.16,
           0.12,
           0.31,
           0.1,
           0.27,
           0.21,
           0.17,
           0.18,
           0.43,
           -0.21,
           0.82,
           0.52,
           0.02,
           0.43
          ],
          [
           0.43,
           0.33,
           0.26,
           0.36,
           0.37,
           0.35,
           0.28,
           0.33,
           0.24,
           0.68,
           0.23,
           0.82,
           1,
           0.78,
           0.41,
           0.34,
           0.73,
           0.24,
           0.04,
           0.16,
           0.11,
           0.29,
           0.11,
           0.11,
           0.01,
           0.31,
           -0.12,
           -0.25,
           0.23,
           0.4,
           0.15,
           0.16,
           0.19,
           -0.22,
           0.35,
           0.17,
           0.33,
           0.85,
           0.22,
           0.53,
           0.14,
           0.17,
           0.14,
           0.42,
           0.06,
           0,
           0.23,
           0.17,
           0.4,
           0.28,
           0.34,
           0.34,
           0.32,
           0.28,
           0.6,
           0.09,
           0.99,
           0.75,
           0.29,
           0.66
          ],
          [
           0.38,
           0.38,
           0.11,
           0.26,
           0.35,
           0.39,
           0.32,
           0.29,
           0.32,
           0.62,
           0.35,
           0.54,
           0.78,
           1,
           0.45,
           0.32,
           0.8,
           0.32,
           -0.01,
           0.09,
           0.04,
           0.21,
           0.04,
           0.16,
           0,
           0.07,
           -0.11,
           -0.2,
           0.27,
           0.41,
           0.11,
           0.25,
           0.23,
           0.02,
           0.26,
           0.29,
           0.25,
           0.74,
           0.17,
           0.34,
           0.17,
           0.16,
           0.05,
           0.23,
           0.06,
           0.04,
           0.23,
           0.28,
           0.32,
           0.32,
           0.23,
           0.3,
           0.34,
           0.22,
           0.5,
           0.18,
           0.76,
           0.97,
           0.31,
           0.72
          ],
          [
           0.43,
           0.53,
           -0.06,
           0.16,
           0.26,
           0.55,
           0.37,
           0.13,
           0.43,
           0.88,
           0.93,
           0.11,
           0.41,
           0.45,
           1,
           0.62,
           0.41,
           0.43,
           -0.27,
           -0.29,
           -0.25,
           -0.2,
           -0.31,
           -0.31,
           0.12,
           0.23,
           -0.12,
           -0.23,
           0.08,
           0.24,
           -0.22,
           -0.24,
           0.46,
           0.46,
           0.34,
           0.54,
           0.16,
           0.24,
           0.27,
           0.42,
           0.28,
           0.31,
           0.08,
           0.17,
           -0.27,
           -0.28,
           0.04,
           0.13,
           0.36,
           0.5,
           0.12,
           0.2,
           0.53,
           0.04,
           0.77,
           0.76,
           0.38,
           0.38,
           0.87,
           0.3
          ],
          [
           0.26,
           0.27,
           0.04,
           0.18,
           0.25,
           0.31,
           0.33,
           0.24,
           0.24,
           0.64,
           0.63,
           0.16,
           0.34,
           0.32,
           0.62,
           1,
           0.45,
           0.24,
           -0.02,
           0.06,
           -0.09,
           0.07,
           -0.08,
           -0.03,
           -0.02,
           0.19,
           -0.11,
           -0.13,
           0.05,
           0.11,
           -0.02,
           -0.01,
           0.11,
           0.12,
           0.11,
           0.2,
           0.19,
           0.16,
           0.24,
           0.11,
           0.12,
           0.02,
           0.18,
           0.09,
           -0.01,
           -0.05,
           0.06,
           0.05,
           0.15,
           0.16,
           0.14,
           0.2,
           0.23,
           0.17,
           0.54,
           0.49,
           0.32,
           0.27,
           0.5,
           0.37
          ],
          [
           0.31,
           0.27,
           0.14,
           0.29,
           0.39,
           0.31,
           0.3,
           0.52,
           0.09,
           0.56,
           0.32,
           0.48,
           0.73,
           0.8,
           0.41,
           0.45,
           1,
           0.09,
           0.19,
           0.29,
           0.07,
           0.27,
           0.09,
           0.2,
           -0.04,
           0.1,
           -0.26,
           -0.26,
           0.3,
           0.41,
           0.14,
           0.27,
           0.06,
           -0.03,
           0.13,
           0.2,
           0.31,
           0.65,
           0.22,
           0.29,
           0.16,
           0.09,
           0.12,
           0.24,
           0.1,
           0.14,
           0.24,
           0.31,
           0.23,
           0.19,
           0.27,
           0.35,
           0.25,
           0.48,
           0.45,
           0.17,
           0.71,
           0.77,
           0.28,
           0.94
          ],
          [
           0.33,
           0.39,
           -0.02,
           0.13,
           0.24,
           0.41,
           0.35,
           0.02,
           1,
           0.4,
           0.39,
           0.11,
           0.24,
           0.32,
           0.43,
           0.24,
           0.09,
           1,
           -0.45,
           -0.43,
           -0.19,
           -0.08,
           -0.16,
           -0.08,
           -0.05,
           0.02,
           0.11,
           0,
           0.1,
           0.16,
           -0.11,
           -0.01,
           0.27,
           0.16,
           0.2,
           0.23,
           0.15,
           0.23,
           0.19,
           0.19,
           0.19,
           0.17,
           0.07,
           0.04,
           -0.12,
           -0.11,
           0.03,
           0.07,
           0.23,
           0.32,
           0.09,
           0.18,
           0.36,
           -0.08,
           0.25,
           0.2,
           0.2,
           0.24,
           0.27,
           -0.03
          ],
          [
           -0.08,
           -0.22,
           0.2,
           0.16,
           0.1,
           -0.23,
           -0.04,
           0.23,
           -0.45,
           -0.16,
           -0.28,
           0.15,
           0.04,
           -0.01,
           -0.27,
           -0.02,
           0.19,
           -0.45,
           1,
           0.7,
           0.44,
           0.28,
           0.44,
           0.25,
           -0.02,
           0.01,
           -0.24,
           -0.24,
           0.19,
           -0.01,
           0.4,
           0.17,
           -0.32,
           -0.22,
           -0.13,
           -0.16,
           0.1,
           0.11,
           -0.13,
           -0.07,
           -0.37,
           -0.09,
           0.15,
           0.02,
           0.37,
           0.18,
           0.23,
           0.12,
           -0.08,
           -0.28,
           0.16,
           0.11,
           -0.29,
           0.26,
           -0.14,
           -0.25,
           0.05,
           0,
           -0.25,
           0.21
          ],
          [
           -0.09,
           -0.21,
           0.18,
           0.15,
           0.11,
           -0.21,
           -0.06,
           0.27,
           -0.43,
           -0.13,
           -0.27,
           0.19,
           0.16,
           0.09,
           -0.29,
           0.06,
           0.29,
           -0.43,
           0.7,
           1,
           0.38,
           0.39,
           0.42,
           0.39,
           -0.08,
           -0.06,
           -0.22,
           -0.32,
           0.14,
           0.02,
           0.42,
           0.33,
           -0.31,
           -0.22,
           -0.13,
           -0.13,
           0.1,
           0.12,
           -0.1,
           -0.16,
           -0.27,
           -0.16,
           0.1,
           -0.02,
           0.39,
           0.31,
           0.2,
           0.13,
           -0.08,
           -0.25,
           0.15,
           0.13,
           -0.25,
           0.31,
           -0.1,
           -0.24,
           0.18,
           0.12,
           -0.27,
           0.33
          ],
          [
           0.11,
           -0.18,
           0.53,
           0.36,
           0.3,
           -0.21,
           -0.15,
           0.3,
           -0.19,
           -0.14,
           -0.26,
           0.16,
           0.11,
           0.04,
           -0.25,
           -0.09,
           0.07,
           -0.19,
           0.44,
           0.38,
           1,
           0.38,
           0.86,
           0.31,
           0.23,
           0.08,
           0.18,
           0.08,
           0.48,
           0.05,
           0.81,
           0.22,
           -0.16,
           -0.23,
           0.24,
           -0.17,
           0.3,
           0.09,
           -0.17,
           -0.03,
           -0.55,
           -0.2,
           0.26,
           0.16,
           0.64,
           0.17,
           0.35,
           0.03,
           0.23,
           -0.15,
           0.4,
           0.37,
           -0.19,
           0.38,
           -0.07,
           -0.17,
           0.14,
           0.09,
           -0.18,
           0.12
          ],
          [
           -0.08,
           -0.13,
           0.05,
           -0.03,
           -0.02,
           -0.18,
           -0.01,
           0.05,
           -0.08,
           0.1,
           -0.13,
           0.38,
           0.29,
           0.21,
           -0.2,
           0.07,
           0.27,
           -0.08,
           0.28,
           0.39,
           0.38,
           1,
           0.47,
           0.86,
           -0.19,
           0.12,
           0.15,
           0.25,
           0.01,
           0.4,
           0.39,
           0.81,
           -0.19,
           -0.09,
           -0.11,
           0.1,
           -0.13,
           0.16,
           -0.26,
           -0.28,
           -0.37,
           -0.65,
           0,
           0.34,
           0.36,
           0.68,
           0.08,
           0.31,
           -0.09,
           -0.17,
           -0.03,
           -0.03,
           -0.24,
           0.05,
           0.11,
           -0.13,
           0.3,
           0.23,
           -0.21,
           0.28
          ],
          [
           -0.04,
           -0.26,
           0.36,
           0.21,
           0.24,
           -0.33,
           -0.23,
           0.21,
           -0.16,
           -0.18,
           -0.29,
           0.15,
           0.11,
           0.04,
           -0.31,
           -0.08,
           0.09,
           -0.16,
           0.44,
           0.42,
           0.86,
           0.47,
           1,
           0.49,
           -0.29,
           -0.11,
           0.26,
           0.05,
           0.51,
           0.21,
           0.94,
           0.42,
           -0.2,
           -0.24,
           0.1,
           -0.19,
           0.17,
           0.1,
           -0.35,
           -0.1,
           -0.63,
           -0.3,
           0.11,
           0.19,
           0.81,
           0.41,
           0.57,
           0.23,
           0.07,
           -0.21,
           0.25,
           0.32,
           -0.31,
           0.31,
           -0.07,
           -0.15,
           0.15,
           0.11,
           -0.19,
           0.17
          ],
          [
           -0.13,
           -0.16,
           0.01,
           -0.02,
           0.01,
           -0.23,
           -0.08,
           0.07,
           -0.08,
           -0.05,
           -0.16,
           0.17,
           0.11,
           0.16,
           -0.31,
           -0.03,
           0.2,
           -0.08,
           0.25,
           0.39,
           0.31,
           0.86,
           0.49,
           1,
           -0.36,
           -0.4,
           0.16,
           0.3,
           0.07,
           0.41,
           0.42,
           0.95,
           -0.19,
           0.01,
           -0.14,
           0.09,
           -0.12,
           0,
           -0.34,
           -0.48,
           -0.33,
           -0.65,
           -0.12,
           0.11,
           0.4,
           0.82,
           0.22,
           0.52,
           -0.12,
           -0.16,
           -0.01,
           0.02,
           -0.26,
           0.1,
           -0.01,
           -0.12,
           0.13,
           0.19,
           -0.29,
           0.24
          ],
          [
           0.29,
           0.15,
           0.32,
           0.29,
           0.11,
           0.24,
           0.16,
           0.15,
           -0.05,
           0.08,
           0.07,
           0.02,
           0.01,
           0,
           0.12,
           -0.02,
           -0.04,
           -0.05,
           -0.02,
           -0.08,
           0.23,
           -0.19,
           -0.29,
           -0.36,
           1,
           0.37,
           -0.16,
           0.05,
           -0.07,
           -0.31,
           -0.27,
           -0.39,
           0.07,
           0.03,
           0.26,
           0.04,
           0.23,
           -0.02,
           0.35,
           0.13,
           0.16,
           0.2,
           0.27,
           -0.06,
           -0.35,
           -0.45,
           -0.43,
           -0.39,
           0.29,
           0.11,
           0.28,
           0.08,
           0.24,
           0.12,
           0,
           -0.02,
           -0.01,
           -0.04,
           0.04,
           -0.1
          ],
          [
           0.11,
           0.08,
           0.07,
           -0.01,
           -0.06,
           0.12,
           0.14,
           -0.06,
           0.02,
           0.27,
           0.08,
           0.35,
           0.31,
           0.07,
           0.23,
           0.19,
           0.1,
           0.02,
           0.01,
           -0.06,
           0.08,
           0.12,
           -0.11,
           -0.4,
           0.37,
           1,
           -0.05,
           -0.13,
           -0.11,
           -0.07,
           -0.12,
           -0.4,
           0.03,
           -0.18,
           0.08,
           -0.01,
           0.01,
           0.3,
           0.18,
           0.44,
           -0.03,
           0.1,
           0.23,
           0.4,
           -0.13,
           -0.37,
           -0.3,
           -0.46,
           0.06,
           0.02,
           -0.03,
           -0.09,
           0.08,
           -0.11,
           0.21,
           0,
           0.29,
           0.03,
           0.17,
           0.05
          ],
          [
           -0.23,
           -0.18,
           -0.14,
           -0.29,
           -0.23,
           -0.27,
           -0.24,
           -0.31,
           0.11,
           -0.13,
           -0.06,
           -0.12,
           -0.12,
           -0.11,
           -0.12,
           -0.11,
           -0.26,
           0.11,
           -0.24,
           -0.22,
           0.18,
           0.15,
           0.26,
           0.16,
           -0.16,
           -0.05,
           1,
           0.63,
           -0.08,
           0.07,
           0.19,
           0.17,
           0.04,
           0.02,
           -0.05,
           -0.07,
           -0.28,
           -0.14,
           -0.42,
           -0.17,
           -0.58,
           -0.44,
           0,
           0.24,
           0.11,
           0.14,
           -0.04,
           0.02,
           -0.16,
           -0.08,
           -0.25,
           -0.17,
           -0.23,
           -0.25,
           -0.01,
           0.1,
           -0.1,
           -0.05,
           0.01,
           -0.19
          ],
          [
           -0.19,
           -0.11,
           -0.19,
           -0.26,
           -0.26,
           -0.17,
           -0.15,
           -0.27,
           0,
           -0.18,
           -0.08,
           -0.19,
           -0.25,
           -0.2,
           -0.23,
           -0.13,
           -0.26,
           0,
           -0.24,
           -0.32,
           0.08,
           0.25,
           0.05,
           0.3,
           0.05,
           -0.13,
           0.63,
           1,
           -0.26,
           -0.01,
           0,
           0.28,
           0.02,
           0.09,
           -0.1,
           -0.03,
           -0.29,
           -0.29,
           -0.28,
           -0.44,
           -0.36,
           -0.65,
           -0.03,
           0.16,
           -0.06,
           0.23,
           -0.2,
           -0.09,
           -0.16,
           -0.05,
           -0.24,
           -0.24,
           -0.15,
           -0.24,
           -0.13,
           0,
           -0.24,
           -0.18,
           -0.16,
           -0.23
          ],
          [
           0.39,
           0.15,
           0.5,
           0.48,
           0.53,
           0.19,
           0.09,
           0.5,
           0.1,
           0.11,
           0.01,
           0.17,
           0.23,
           0.27,
           0.08,
           0.05,
           0.3,
           0.1,
           0.19,
           0.14,
           0.48,
           0.01,
           0.51,
           0.07,
           -0.07,
           -0.11,
           -0.08,
           -0.26,
           1,
           0.32,
           0.51,
           0.07,
           0.1,
           -0.18,
           0.42,
           -0.09,
           0.53,
           0.32,
           0.19,
           0.23,
           -0.08,
           0.18,
           0.29,
           0.07,
           0.58,
           0.1,
           0.74,
           0.31,
           0.45,
           0.15,
           0.49,
           0.56,
           0.2,
           0.53,
           0.07,
           -0.04,
           0.23,
           0.27,
           0.05,
           0.28
          ],
          [
           0.19,
           0.18,
           0.08,
           0.12,
           0.28,
           0.16,
           0.2,
           0.2,
           0.16,
           0.39,
           0.2,
           0.37,
           0.4,
           0.41,
           0.24,
           0.11,
           0.41,
           0.16,
           -0.01,
           0.02,
           0.05,
           0.4,
           0.21,
           0.41,
           -0.31,
           -0.07,
           0.07,
           -0.01,
           0.32,
           1,
           0.19,
           0.44,
           0.07,
           0.16,
           0.11,
           0.37,
           0.16,
           0.38,
           0.01,
           0.17,
           -0.12,
           -0.22,
           0.11,
           0.42,
           0.32,
           0.51,
           0.36,
           0.71,
           0.15,
           0.12,
           0.12,
           0.26,
           0.1,
           0.17,
           0.31,
           0.09,
           0.38,
           0.38,
           0.15,
           0.36
          ],
          [
           0.07,
           -0.14,
           0.39,
           0.29,
           0.37,
           -0.2,
           -0.12,
           0.32,
           -0.11,
           -0.1,
           -0.19,
           0.13,
           0.15,
           0.11,
           -0.22,
           -0.02,
           0.14,
           -0.11,
           0.4,
           0.42,
           0.81,
           0.39,
           0.94,
           0.42,
           -0.27,
           -0.12,
           0.19,
           0,
           0.51,
           0.19,
           1,
           0.38,
           -0.13,
           -0.18,
           0.17,
           -0.13,
           0.25,
           0.13,
           -0.26,
           -0.08,
           -0.51,
           -0.22,
           0.12,
           0.12,
           0.75,
           0.34,
           0.6,
           0.22,
           0.16,
           -0.12,
           0.32,
           0.44,
           -0.2,
           0.39,
           -0.04,
           -0.12,
           0.18,
           0.15,
           -0.16,
           0.18
          ],
          [
           -0.1,
           -0.11,
           0,
           -0.04,
           -0.01,
           -0.19,
           -0.05,
           0.05,
           -0.01,
           0,
           -0.11,
           0.18,
           0.16,
           0.25,
           -0.24,
           -0.01,
           0.27,
           -0.01,
           0.17,
           0.33,
           0.22,
           0.81,
           0.42,
           0.95,
           -0.39,
           -0.4,
           0.17,
           0.28,
           0.07,
           0.44,
           0.38,
           1,
           -0.15,
           0.05,
           -0.12,
           0.14,
           -0.12,
           0.05,
           -0.32,
           -0.42,
           -0.21,
           -0.58,
           -0.19,
           0.11,
           0.32,
           0.76,
           0.22,
           0.52,
           -0.1,
           -0.13,
           -0.04,
           0,
           -0.22,
           0.07,
           0.03,
           -0.09,
           0.18,
           0.28,
           -0.23,
           0.29
          ],
          [
           0.63,
           0.8,
           -0.18,
           0.11,
           0.22,
           0.74,
           0.28,
           0.16,
           0.27,
           0.43,
           0.45,
           0.05,
           0.19,
           0.23,
           0.46,
           0.11,
           0.06,
           0.27,
           -0.32,
           -0.31,
           -0.16,
           -0.19,
           -0.2,
           -0.19,
           0.07,
           0.03,
           0.04,
           0.02,
           0.1,
           0.07,
           -0.13,
           -0.15,
           1,
           0.23,
           0.73,
           0.29,
           -0.06,
           0.08,
           0.08,
           0.15,
           0.15,
           0.26,
           -0.02,
           -0.08,
           -0.16,
           -0.25,
           0.14,
           0.06,
           0.64,
           0.93,
           0.08,
           0.18,
           0.84,
           0.08,
           0.32,
           0.31,
           0.16,
           0.16,
           0.34,
           -0.05
          ],
          [
           0.05,
           0.23,
           -0.29,
           -0.15,
           -0.01,
           0.17,
           0.12,
           -0.11,
           0.16,
           0.29,
           0.59,
           -0.38,
           -0.22,
           0.02,
           0.46,
           0.12,
           -0.03,
           0.16,
           -0.22,
           -0.22,
           -0.23,
           -0.09,
           -0.24,
           0.01,
           0.03,
           -0.18,
           0.02,
           0.09,
           -0.18,
           0.16,
           -0.18,
           0.05,
           0.23,
           1,
           0,
           0.88,
           -0.19,
           -0.37,
           -0.15,
           -0.21,
           0.07,
           -0.09,
           -0.24,
           -0.15,
           -0.22,
           0.05,
           -0.1,
           0.2,
           0,
           0.24,
           -0.16,
           -0.04,
           0.16,
           -0.15,
           0.26,
           0.53,
           -0.24,
           0,
           0.42,
           -0.07
          ],
          [
           0.83,
           0.62,
           0.54,
           0.64,
           0.54,
           0.67,
           0.22,
           0.47,
           0.2,
           0.41,
           0.28,
           0.27,
           0.35,
           0.26,
           0.34,
           0.11,
           0.13,
           0.2,
           -0.13,
           -0.13,
           0.24,
           -0.11,
           0.1,
           -0.14,
           0.26,
           0.08,
           -0.05,
           -0.1,
           0.42,
           0.11,
           0.17,
           -0.12,
           0.73,
           0,
           1,
           0.15,
           0.49,
           0.24,
           0.4,
           0.25,
           0.16,
           0.29,
           0.33,
           0,
           0.05,
           -0.27,
           0.3,
           0.06,
           0.94,
           0.71,
           0.63,
           0.53,
           0.77,
           0.45,
           0.33,
           0.18,
           0.34,
           0.22,
           0.25,
           0.06
          ],
          [
           0.22,
           0.33,
           -0.13,
           0,
           0.12,
           0.29,
           0.22,
           0.01,
           0.23,
           0.55,
           0.58,
           0.08,
           0.17,
           0.29,
           0.54,
           0.2,
           0.2,
           0.23,
           -0.16,
           -0.13,
           -0.17,
           0.1,
           -0.19,
           0.09,
           0.04,
           -0.01,
           -0.07,
           -0.03,
           -0.09,
           0.37,
           -0.13,
           0.14,
           0.29,
           0.88,
           0.15,
           1,
           -0.06,
           0,
           -0.04,
           0.04,
           0.09,
           -0.03,
           -0.12,
           0.08,
           -0.16,
           0.09,
           -0.02,
           0.28,
           0.17,
           0.32,
           -0.02,
           0.09,
           0.27,
           -0.05,
           0.49,
           0.47,
           0.15,
           0.25,
           0.46,
           0.14
          ],
          [
           0.51,
           0.12,
           0.8,
           0.85,
           0.76,
           0.3,
           0.16,
           0.68,
           0.15,
           0.2,
           0.07,
           0.25,
           0.33,
           0.25,
           0.16,
           0.19,
           0.31,
           0.15,
           0.1,
           0.1,
           0.3,
           -0.13,
           0.17,
           -0.12,
           0.23,
           0.01,
           -0.28,
           -0.29,
           0.53,
           0.16,
           0.25,
           -0.12,
           -0.06,
           -0.19,
           0.49,
           -0.06,
           1,
           0.33,
           0.7,
           0.29,
           0.21,
           0.25,
           0.65,
           0.08,
           0.22,
           -0.11,
           0.33,
           0.11,
           0.57,
           0.07,
           0.86,
           0.79,
           0.32,
           0.71,
           0.15,
           -0.01,
           0.32,
           0.22,
           0.1,
           0.28
          ],
          [
           0.35,
           0.24,
           0.25,
           0.28,
           0.35,
           0.29,
           0.3,
           0.3,
           0.23,
           0.45,
           -0.02,
           0.8,
           0.85,
           0.74,
           0.24,
           0.16,
           0.65,
           0.23,
           0.11,
           0.12,
           0.09,
           0.16,
           0.1,
           0,
           -0.02,
           0.3,
           -0.14,
           -0.29,
           0.32,
           0.38,
           0.13,
           0.05,
           0.08,
           -0.37,
           0.24,
           0,
           0.33,
           1,
           0.27,
           0.69,
           0.12,
           0.23,
           0.22,
           0.54,
           0.1,
           -0.03,
           0.28,
           0.13,
           0.29,
           0.15,
           0.25,
           0.3,
           0.22,
           0.24,
           0.33,
           -0.18,
           0.83,
           0.7,
           0.1,
           0.57
          ],
          [
           0.45,
           0.22,
           0.5,
           0.56,
           0.38,
           0.48,
           0.24,
           0.39,
           0.19,
           0.24,
           0.13,
           0.21,
           0.22,
           0.17,
           0.27,
           0.24,
           0.22,
           0.19,
           -0.13,
           -0.1,
           -0.17,
           -0.26,
           -0.35,
           -0.34,
           0.35,
           0.18,
           -0.42,
           -0.28,
           0.19,
           0.01,
           -0.26,
           -0.32,
           0.08,
           -0.15,
           0.4,
           -0.04,
           0.7,
           0.27,
           1,
           0.41,
           0.53,
           0.43,
           0.72,
           0.03,
           -0.22,
           -0.36,
           -0.02,
           -0.1,
           0.45,
           0.15,
           0.55,
           0.36,
           0.51,
           0.36,
           0.14,
           0,
           0.2,
           0.11,
           0.16,
           0.15
          ],
          [
           0.24,
           0.18,
           0.18,
           0.16,
           0.18,
           0.27,
           0.18,
           0.09,
           0.19,
           0.37,
           0.07,
           0.53,
           0.53,
           0.34,
           0.42,
           0.11,
           0.29,
           0.19,
           -0.07,
           -0.16,
           -0.03,
           -0.28,
           -0.1,
           -0.48,
           0.13,
           0.44,
           -0.17,
           -0.44,
           0.23,
           0.17,
           -0.08,
           -0.42,
           0.15,
           -0.21,
           0.25,
           0.04,
           0.29,
           0.69,
           0.41,
           1,
           0.2,
           0.56,
           0.31,
           0.56,
           -0.1,
           -0.43,
           0.09,
           -0.1,
           0.22,
           0.13,
           0.15,
           0.15,
           0.26,
           0.05,
           0.31,
           -0.02,
           0.52,
           0.31,
           0.35,
           0.24
          ],
          [
           0.27,
           0.26,
           0.07,
           0.2,
           0.07,
           0.38,
           0.21,
           0.11,
           0.19,
           0.21,
           0.22,
           0.01,
           0.14,
           0.17,
           0.28,
           0.12,
           0.16,
           0.19,
           -0.37,
           -0.27,
           -0.55,
           -0.37,
           -0.63,
           -0.33,
           0.16,
           -0.03,
           -0.58,
           -0.36,
           -0.08,
           -0.12,
           -0.51,
           -0.21,
           0.15,
           0.07,
           0.16,
           0.09,
           0.21,
           0.12,
           0.53,
           0.2,
           1,
           0.56,
           -0.2,
           -0.33,
           -0.54,
           -0.39,
           -0.16,
           -0.07,
           0.22,
           0.21,
           0.17,
           0.01,
           0.38,
           0.04,
           0.11,
           0.09,
           0.12,
           0.12,
           0.17,
           0.1
          ],
          [
           0.29,
           0.26,
           0.13,
           0.24,
           0.16,
           0.35,
           0.11,
           0.14,
           0.17,
           0.17,
           0.12,
           0.1,
           0.17,
           0.16,
           0.31,
           0.02,
           0.09,
           0.17,
           -0.09,
           -0.16,
           -0.2,
           -0.65,
           -0.3,
           -0.65,
           0.2,
           0.1,
           -0.44,
           -0.65,
           0.18,
           -0.22,
           -0.22,
           -0.58,
           0.26,
           -0.09,
           0.29,
           -0.03,
           0.25,
           0.23,
           0.43,
           0.56,
           0.56,
           1,
           0.04,
           -0.37,
           -0.26,
           -0.67,
           0.03,
           -0.16,
           0.3,
           0.28,
           0.23,
           0.14,
           0.4,
           0.12,
           0.12,
           0.05,
           0.16,
           0.12,
           0.26,
           0.05
          ],
          [
           0.3,
           0.04,
           0.52,
           0.48,
           0.39,
           0.24,
           0.1,
           0.37,
           0.07,
           0.11,
           -0.04,
           0.24,
           0.14,
           0.05,
           0.08,
           0.18,
           0.12,
           0.07,
           0.15,
           0.1,
           0.26,
           0,
           0.11,
           -0.12,
           0.27,
           0.23,
           0,
           -0.03,
           0.29,
           0.11,
           0.12,
           -0.19,
           -0.02,
           -0.24,
           0.33,
           -0.12,
           0.65,
           0.22,
           0.72,
           0.31,
           -0.2,
           0.04,
           1,
           0.31,
           0.19,
           -0.09,
           0.11,
           -0.06,
           0.34,
           0,
           0.5,
           0.4,
           0.28,
           0.39,
           0.07,
           -0.08,
           0.13,
           0.03,
           0.05,
           0.09
          ],
          [
           -0.02,
           -0.06,
           0.07,
           -0.06,
           0.04,
           -0.06,
           0.08,
           -0.04,
           0.04,
           0.25,
           -0.04,
           0.49,
           0.42,
           0.23,
           0.17,
           0.09,
           0.24,
           0.04,
           0.02,
           -0.02,
           0.16,
           0.34,
           0.19,
           0.11,
           -0.06,
           0.4,
           0.24,
           0.16,
           0.07,
           0.42,
           0.12,
           0.11,
           -0.08,
           -0.15,
           0,
           0.08,
           0.08,
           0.54,
           0.03,
           0.56,
           -0.33,
           -0.37,
           0.31,
           1,
           0.15,
           0.19,
           0.07,
           0.05,
           -0.06,
           -0.13,
           -0.06,
           0.03,
           -0.11,
           -0.06,
           0.22,
           -0.08,
           0.42,
           0.22,
           0.14,
           0.22
          ],
          [
           0,
           -0.14,
           0.26,
           0.17,
           0.31,
           -0.19,
           -0.11,
           0.27,
           -0.12,
           -0.15,
           -0.24,
           0.1,
           0.06,
           0.06,
           -0.27,
           -0.01,
           0.1,
           -0.12,
           0.37,
           0.39,
           0.64,
           0.36,
           0.81,
           0.4,
           -0.35,
           -0.13,
           0.11,
           -0.06,
           0.58,
           0.32,
           0.75,
           0.32,
           -0.16,
           -0.22,
           0.05,
           -0.16,
           0.22,
           0.1,
           -0.22,
           -0.1,
           -0.54,
           -0.26,
           0.19,
           0.15,
           1,
           0.54,
           0.67,
           0.36,
           0.07,
           -0.12,
           0.2,
           0.37,
           -0.19,
           0.33,
           -0.1,
           -0.18,
           0.09,
           0.1,
           -0.21,
           0.14
          ],
          [
           -0.2,
           -0.17,
           -0.09,
           -0.12,
           0.04,
           -0.26,
           -0.04,
           0.08,
           -0.11,
           -0.1,
           -0.14,
           0.05,
           0,
           0.04,
           -0.28,
           -0.05,
           0.14,
           -0.11,
           0.18,
           0.31,
           0.17,
           0.68,
           0.41,
           0.82,
           -0.45,
           -0.37,
           0.14,
           0.23,
           0.1,
           0.51,
           0.34,
           0.76,
           -0.25,
           0.05,
           -0.27,
           0.09,
           -0.11,
           -0.03,
           -0.36,
           -0.43,
           -0.39,
           -0.67,
           -0.09,
           0.19,
           0.54,
           1,
           0.3,
           0.6,
           -0.22,
           -0.2,
           -0.11,
           0.05,
           -0.31,
           0.1,
           -0.09,
           -0.13,
           0,
           0.05,
           -0.27,
           0.16
          ],
          [
           0.29,
           0.18,
           0.24,
           0.33,
           0.48,
           0.15,
           0.1,
           0.39,
           0.03,
           0.11,
           0.02,
           0.16,
           0.23,
           0.23,
           0.04,
           0.06,
           0.24,
           0.03,
           0.23,
           0.2,
           0.35,
           0.08,
           0.57,
           0.22,
           -0.43,
           -0.3,
           -0.04,
           -0.2,
           0.74,
           0.36,
           0.6,
           0.22,
           0.14,
           -0.1,
           0.3,
           -0.02,
           0.33,
           0.28,
           -0.02,
           0.09,
           -0.16,
           0.03,
           0.11,
           0.07,
           0.67,
           0.3,
           1,
           0.5,
           0.32,
           0.18,
           0.33,
           0.5,
           0.15,
           0.4,
           0.08,
           -0.01,
           0.23,
           0.22,
           0.02,
           0.21
          ],
          [
           0.17,
           0.19,
           0,
           0.15,
           0.31,
           0.13,
           0.16,
           0.27,
           0.07,
           0.23,
           0.18,
           0.12,
           0.17,
           0.28,
           0.13,
           0.05,
           0.31,
           0.07,
           0.12,
           0.13,
           0.03,
           0.31,
           0.23,
           0.52,
           -0.39,
           -0.46,
           0.02,
           -0.09,
           0.31,
           0.71,
           0.22,
           0.52,
           0.06,
           0.2,
           0.06,
           0.28,
           0.11,
           0.13,
           -0.1,
           -0.1,
           -0.07,
           -0.16,
           -0.06,
           0.05,
           0.36,
           0.6,
           0.5,
           1,
           0.13,
           0.16,
           0.13,
           0.29,
           0.09,
           0.25,
           0.17,
           0.1,
           0.16,
           0.26,
           0.06,
           0.27
          ],
          [
           0.92,
           0.69,
           0.57,
           0.75,
           0.66,
           0.74,
           0.32,
           0.61,
           0.23,
           0.46,
           0.31,
           0.31,
           0.4,
           0.32,
           0.36,
           0.15,
           0.23,
           0.23,
           -0.08,
           -0.08,
           0.23,
           -0.09,
           0.07,
           -0.12,
           0.29,
           0.06,
           -0.16,
           -0.16,
           0.45,
           0.15,
           0.16,
           -0.1,
           0.64,
           0,
           0.94,
           0.17,
           0.57,
           0.29,
           0.45,
           0.22,
           0.22,
           0.3,
           0.34,
           -0.06,
           0.07,
           -0.22,
           0.32,
           0.13,
           1,
           0.75,
           0.73,
           0.64,
           0.82,
           0.58,
           0.33,
           0.15,
           0.37,
           0.26,
           0.22,
           0.13
          ],
          [
           0.76,
           0.91,
           -0.11,
           0.27,
           0.39,
           0.86,
           0.4,
           0.35,
           0.32,
           0.51,
           0.5,
           0.1,
           0.28,
           0.32,
           0.5,
           0.16,
           0.19,
           0.32,
           -0.28,
           -0.25,
           -0.15,
           -0.17,
           -0.21,
           -0.16,
           0.11,
           0.02,
           -0.08,
           -0.05,
           0.15,
           0.12,
           -0.12,
           -0.13,
           0.93,
           0.24,
           0.71,
           0.32,
           0.07,
           0.15,
           0.15,
           0.13,
           0.21,
           0.28,
           0,
           -0.13,
           -0.12,
           -0.2,
           0.18,
           0.16,
           0.75,
           1,
           0.23,
           0.33,
           0.92,
           0.25,
           0.34,
           0.29,
           0.23,
           0.23,
           0.32,
           0.04
          ],
          [
           0.65,
           0.25,
           0.82,
           0.99,
           0.76,
           0.38,
           0.18,
           0.72,
           0.09,
           0.23,
           0.09,
           0.27,
           0.34,
           0.23,
           0.12,
           0.14,
           0.27,
           0.09,
           0.16,
           0.15,
           0.4,
           -0.03,
           0.25,
           -0.01,
           0.28,
           -0.03,
           -0.25,
           -0.24,
           0.49,
           0.12,
           0.32,
           -0.04,
           0.08,
           -0.16,
           0.63,
           -0.02,
           0.86,
           0.25,
           0.55,
           0.15,
           0.17,
           0.23,
           0.5,
           -0.06,
           0.2,
           -0.11,
           0.33,
           0.13,
           0.73,
           0.23,
           1,
           0.79,
           0.41,
           0.75,
           0.16,
           0,
           0.34,
           0.19,
           0.05,
           0.22
          ],
          [
           0.6,
           0.35,
           0.56,
           0.8,
           0.97,
           0.42,
           0.24,
           0.81,
           0.18,
           0.27,
           0.18,
           0.21,
           0.34,
           0.3,
           0.2,
           0.2,
           0.35,
           0.18,
           0.11,
           0.13,
           0.37,
           -0.03,
           0.32,
           0.02,
           0.08,
           -0.09,
           -0.17,
           -0.24,
           0.56,
           0.26,
           0.44,
           0,
           0.18,
           -0.04,
           0.53,
           0.09,
           0.79,
           0.3,
           0.36,
           0.15,
           0.01,
           0.14,
           0.4,
           0.03,
           0.37,
           0.05,
           0.5,
           0.29,
           0.64,
           0.33,
           0.79,
           1,
           0.43,
           0.82,
           0.17,
           0.06,
           0.32,
           0.25,
           0.1,
           0.27
          ],
          [
           0.83,
           0.87,
           0.1,
           0.45,
           0.49,
           0.93,
           0.44,
           0.45,
           0.36,
           0.53,
           0.48,
           0.17,
           0.32,
           0.34,
           0.53,
           0.23,
           0.25,
           0.36,
           -0.29,
           -0.25,
           -0.19,
           -0.24,
           -0.31,
           -0.26,
           0.24,
           0.08,
           -0.23,
           -0.15,
           0.2,
           0.1,
           -0.2,
           -0.22,
           0.84,
           0.16,
           0.77,
           0.27,
           0.32,
           0.22,
           0.51,
           0.26,
           0.38,
           0.4,
           0.28,
           -0.11,
           -0.19,
           -0.31,
           0.15,
           0.09,
           0.82,
           0.92,
           0.41,
           0.43,
           1,
           0.36,
           0.34,
           0.25,
           0.27,
           0.24,
           0.33,
           0.1
          ],
          [
           0.53,
           0.27,
           0.55,
           0.75,
           0.8,
           0.35,
           0.19,
           0.96,
           -0.08,
           0.12,
           0.03,
           0.18,
           0.28,
           0.22,
           0.04,
           0.17,
           0.48,
           -0.08,
           0.26,
           0.31,
           0.38,
           0.05,
           0.31,
           0.1,
           0.12,
           -0.11,
           -0.25,
           -0.24,
           0.53,
           0.17,
           0.39,
           0.07,
           0.08,
           -0.15,
           0.45,
           -0.05,
           0.71,
           0.24,
           0.36,
           0.05,
           0.04,
           0.12,
           0.39,
           -0.06,
           0.33,
           0.1,
           0.4,
           0.25,
           0.58,
           0.25,
           0.75,
           0.82,
           0.36,
           1,
           0.03,
           -0.08,
           0.27,
           0.18,
           -0.05,
           0.44
          ],
          [
           0.22,
           0.2,
           0.1,
           0.14,
           0.13,
           0.22,
           -0.08,
           0,
           0.25,
           0.88,
           0.71,
           0.43,
           0.6,
           0.5,
           0.77,
           0.54,
           0.45,
           0.25,
           -0.14,
           -0.1,
           -0.07,
           0.11,
           -0.07,
           -0.01,
           0,
           0.21,
           -0.01,
           -0.13,
           0.07,
           0.31,
           -0.04,
           0.03,
           0.32,
           0.26,
           0.33,
           0.49,
           0.15,
           0.33,
           0.14,
           0.31,
           0.11,
           0.12,
           0.07,
           0.22,
           -0.1,
           -0.09,
           0.08,
           0.17,
           0.33,
           0.34,
           0.16,
           0.17,
           0.34,
           0.03,
           1,
           0.79,
           0.63,
           0.55,
           0.86,
           0.5
          ],
          [
           0.03,
           0.12,
           -0.12,
           -0.04,
           0,
           0.1,
           -0.21,
           -0.13,
           0.2,
           0.62,
           0.84,
           -0.21,
           0.09,
           0.18,
           0.76,
           0.49,
           0.17,
           0.2,
           -0.25,
           -0.24,
           -0.17,
           -0.13,
           -0.15,
           -0.12,
           -0.02,
           0,
           0.1,
           0,
           -0.04,
           0.09,
           -0.12,
           -0.09,
           0.31,
           0.53,
           0.18,
           0.47,
           -0.01,
           -0.18,
           0,
           -0.02,
           0.09,
           0.05,
           -0.08,
           -0.08,
           -0.18,
           -0.13,
           -0.01,
           0.1,
           0.15,
           0.29,
           0,
           0.06,
           0.25,
           -0.08,
           0.79,
           1,
           0.13,
           0.25,
           0.92,
           0.25
          ],
          [
           0.35,
           0.24,
           0.28,
           0.34,
           0.32,
           0.26,
           0.15,
           0.28,
           0.2,
           0.65,
           0.2,
           0.82,
           0.99,
           0.76,
           0.38,
           0.32,
           0.71,
           0.2,
           0.05,
           0.18,
           0.14,
           0.3,
           0.15,
           0.13,
           -0.01,
           0.29,
           -0.1,
           -0.24,
           0.23,
           0.38,
           0.18,
           0.18,
           0.16,
           -0.24,
           0.34,
           0.15,
           0.32,
           0.83,
           0.2,
           0.52,
           0.12,
           0.16,
           0.13,
           0.42,
           0.09,
           0,
           0.23,
           0.16,
           0.37,
           0.23,
           0.34,
           0.32,
           0.27,
           0.27,
           0.63,
           0.13,
           1,
           0.76,
           0.32,
           0.69
          ],
          [
           0.24,
           0.21,
           0.13,
           0.2,
           0.26,
           0.22,
           0.09,
           0.19,
           0.24,
           0.55,
           0.28,
           0.52,
           0.75,
           0.97,
           0.38,
           0.27,
           0.77,
           0.24,
           0,
           0.12,
           0.09,
           0.23,
           0.11,
           0.19,
           -0.04,
           0.03,
           -0.05,
           -0.18,
           0.27,
           0.38,
           0.15,
           0.28,
           0.16,
           0,
           0.22,
           0.25,
           0.22,
           0.7,
           0.11,
           0.31,
           0.12,
           0.12,
           0.03,
           0.22,
           0.1,
           0.05,
           0.22,
           0.26,
           0.26,
           0.23,
           0.19,
           0.25,
           0.24,
           0.18,
           0.55,
           0.25,
           0.76,
           1,
           0.36,
           0.77
          ],
          [
           0.11,
           0.17,
           -0.05,
           0.02,
           0.06,
           0.2,
           -0.13,
           -0.09,
           0.27,
           0.73,
           0.81,
           0.02,
           0.29,
           0.31,
           0.87,
           0.5,
           0.28,
           0.27,
           -0.25,
           -0.27,
           -0.18,
           -0.21,
           -0.19,
           -0.29,
           0.04,
           0.17,
           0.01,
           -0.16,
           0.05,
           0.15,
           -0.16,
           -0.23,
           0.34,
           0.42,
           0.25,
           0.46,
           0.1,
           0.1,
           0.16,
           0.35,
           0.17,
           0.26,
           0.05,
           0.14,
           -0.21,
           -0.27,
           0.02,
           0.06,
           0.22,
           0.32,
           0.05,
           0.1,
           0.33,
           -0.05,
           0.86,
           0.92,
           0.32,
           0.36,
           1,
           0.34
          ],
          [
           0.08,
           0.01,
           0.16,
           0.2,
           0.24,
           0.05,
           -0.05,
           0.38,
           -0.03,
           0.44,
           0.21,
           0.43,
           0.66,
           0.72,
           0.3,
           0.37,
           0.94,
           -0.03,
           0.21,
           0.33,
           0.12,
           0.28,
           0.17,
           0.24,
           -0.1,
           0.05,
           -0.19,
           -0.23,
           0.28,
           0.36,
           0.18,
           0.29,
           -0.05,
           -0.07,
           0.06,
           0.14,
           0.28,
           0.57,
           0.15,
           0.24,
           0.1,
           0.05,
           0.09,
           0.22,
           0.14,
           0.16,
           0.21,
           0.27,
           0.13,
           0.04,
           0.22,
           0.27,
           0.1,
           0.44,
           0.5,
           0.25,
           0.69,
           0.77,
           0.34,
           1
          ]
         ]
        }
       ],
       "layout": {
        "coloraxis": {
         "colorscale": [
          [
           0,
           "#0d0887"
          ],
          [
           0.1111111111111111,
           "#46039f"
          ],
          [
           0.2222222222222222,
           "#7201a8"
          ],
          [
           0.3333333333333333,
           "#9c179e"
          ],
          [
           0.4444444444444444,
           "#bd3786"
          ],
          [
           0.5555555555555556,
           "#d8576b"
          ],
          [
           0.6666666666666666,
           "#ed7953"
          ],
          [
           0.7777777777777778,
           "#fb9f3a"
          ],
          [
           0.8888888888888888,
           "#fdca26"
          ],
          [
           1,
           "#f0f921"
          ]
         ]
        },
        "margin": {
         "t": 60
        },
        "template": {
         "data": {
          "bar": [
           {
            "error_x": {
             "color": "#2a3f5f"
            },
            "error_y": {
             "color": "#2a3f5f"
            },
            "marker": {
             "line": {
              "color": "#E5ECF6",
              "width": 0.5
             },
             "pattern": {
              "fillmode": "overlay",
              "size": 10,
              "solidity": 0.2
             }
            },
            "type": "bar"
           }
          ],
          "barpolar": [
           {
            "marker": {
             "line": {
              "color": "#E5ECF6",
              "width": 0.5
             },
             "pattern": {
              "fillmode": "overlay",
              "size": 10,
              "solidity": 0.2
             }
            },
            "type": "barpolar"
           }
          ],
          "carpet": [
           {
            "aaxis": {
             "endlinecolor": "#2a3f5f",
             "gridcolor": "white",
             "linecolor": "white",
             "minorgridcolor": "white",
             "startlinecolor": "#2a3f5f"
            },
            "baxis": {
             "endlinecolor": "#2a3f5f",
             "gridcolor": "white",
             "linecolor": "white",
             "minorgridcolor": "white",
             "startlinecolor": "#2a3f5f"
            },
            "type": "carpet"
           }
          ],
          "choropleth": [
           {
            "colorbar": {
             "outlinewidth": 0,
             "ticks": ""
            },
            "type": "choropleth"
           }
          ],
          "contour": [
           {
            "colorbar": {
             "outlinewidth": 0,
             "ticks": ""
            },
            "colorscale": [
             [
              0,
              "#0d0887"
             ],
             [
              0.1111111111111111,
              "#46039f"
             ],
             [
              0.2222222222222222,
              "#7201a8"
             ],
             [
              0.3333333333333333,
              "#9c179e"
             ],
             [
              0.4444444444444444,
              "#bd3786"
             ],
             [
              0.5555555555555556,
              "#d8576b"
             ],
             [
              0.6666666666666666,
              "#ed7953"
             ],
             [
              0.7777777777777778,
              "#fb9f3a"
             ],
             [
              0.8888888888888888,
              "#fdca26"
             ],
             [
              1,
              "#f0f921"
             ]
            ],
            "type": "contour"
           }
          ],
          "contourcarpet": [
           {
            "colorbar": {
             "outlinewidth": 0,
             "ticks": ""
            },
            "type": "contourcarpet"
           }
          ],
          "heatmap": [
           {
            "colorbar": {
             "outlinewidth": 0,
             "ticks": ""
            },
            "colorscale": [
             [
              0,
              "#0d0887"
             ],
             [
              0.1111111111111111,
              "#46039f"
             ],
             [
              0.2222222222222222,
              "#7201a8"
             ],
             [
              0.3333333333333333,
              "#9c179e"
             ],
             [
              0.4444444444444444,
              "#bd3786"
             ],
             [
              0.5555555555555556,
              "#d8576b"
             ],
             [
              0.6666666666666666,
              "#ed7953"
             ],
             [
              0.7777777777777778,
              "#fb9f3a"
             ],
             [
              0.8888888888888888,
              "#fdca26"
             ],
             [
              1,
              "#f0f921"
             ]
            ],
            "type": "heatmap"
           }
          ],
          "heatmapgl": [
           {
            "colorbar": {
             "outlinewidth": 0,
             "ticks": ""
            },
            "colorscale": [
             [
              0,
              "#0d0887"
             ],
             [
              0.1111111111111111,
              "#46039f"
             ],
             [
              0.2222222222222222,
              "#7201a8"
             ],
             [
              0.3333333333333333,
              "#9c179e"
             ],
             [
              0.4444444444444444,
              "#bd3786"
             ],
             [
              0.5555555555555556,
              "#d8576b"
             ],
             [
              0.6666666666666666,
              "#ed7953"
             ],
             [
              0.7777777777777778,
              "#fb9f3a"
             ],
             [
              0.8888888888888888,
              "#fdca26"
             ],
             [
              1,
              "#f0f921"
             ]
            ],
            "type": "heatmapgl"
           }
          ],
          "histogram": [
           {
            "marker": {
             "pattern": {
              "fillmode": "overlay",
              "size": 10,
              "solidity": 0.2
             }
            },
            "type": "histogram"
           }
          ],
          "histogram2d": [
           {
            "colorbar": {
             "outlinewidth": 0,
             "ticks": ""
            },
            "colorscale": [
             [
              0,
              "#0d0887"
             ],
             [
              0.1111111111111111,
              "#46039f"
             ],
             [
              0.2222222222222222,
              "#7201a8"
             ],
             [
              0.3333333333333333,
              "#9c179e"
             ],
             [
              0.4444444444444444,
              "#bd3786"
             ],
             [
              0.5555555555555556,
              "#d8576b"
             ],
             [
              0.6666666666666666,
              "#ed7953"
             ],
             [
              0.7777777777777778,
              "#fb9f3a"
             ],
             [
              0.8888888888888888,
              "#fdca26"
             ],
             [
              1,
              "#f0f921"
             ]
            ],
            "type": "histogram2d"
           }
          ],
          "histogram2dcontour": [
           {
            "colorbar": {
             "outlinewidth": 0,
             "ticks": ""
            },
            "colorscale": [
             [
              0,
              "#0d0887"
             ],
             [
              0.1111111111111111,
              "#46039f"
             ],
             [
              0.2222222222222222,
              "#7201a8"
             ],
             [
              0.3333333333333333,
              "#9c179e"
             ],
             [
              0.4444444444444444,
              "#bd3786"
             ],
             [
              0.5555555555555556,
              "#d8576b"
             ],
             [
              0.6666666666666666,
              "#ed7953"
             ],
             [
              0.7777777777777778,
              "#fb9f3a"
             ],
             [
              0.8888888888888888,
              "#fdca26"
             ],
             [
              1,
              "#f0f921"
             ]
            ],
            "type": "histogram2dcontour"
           }
          ],
          "mesh3d": [
           {
            "colorbar": {
             "outlinewidth": 0,
             "ticks": ""
            },
            "type": "mesh3d"
           }
          ],
          "parcoords": [
           {
            "line": {
             "colorbar": {
              "outlinewidth": 0,
              "ticks": ""
             }
            },
            "type": "parcoords"
           }
          ],
          "pie": [
           {
            "automargin": true,
            "type": "pie"
           }
          ],
          "scatter": [
           {
            "fillpattern": {
             "fillmode": "overlay",
             "size": 10,
             "solidity": 0.2
            },
            "type": "scatter"
           }
          ],
          "scatter3d": [
           {
            "line": {
             "colorbar": {
              "outlinewidth": 0,
              "ticks": ""
             }
            },
            "marker": {
             "colorbar": {
              "outlinewidth": 0,
              "ticks": ""
             }
            },
            "type": "scatter3d"
           }
          ],
          "scattercarpet": [
           {
            "marker": {
             "colorbar": {
              "outlinewidth": 0,
              "ticks": ""
             }
            },
            "type": "scattercarpet"
           }
          ],
          "scattergeo": [
           {
            "marker": {
             "colorbar": {
              "outlinewidth": 0,
              "ticks": ""
             }
            },
            "type": "scattergeo"
           }
          ],
          "scattergl": [
           {
            "marker": {
             "colorbar": {
              "outlinewidth": 0,
              "ticks": ""
             }
            },
            "type": "scattergl"
           }
          ],
          "scattermapbox": [
           {
            "marker": {
             "colorbar": {
              "outlinewidth": 0,
              "ticks": ""
             }
            },
            "type": "scattermapbox"
           }
          ],
          "scatterpolar": [
           {
            "marker": {
             "colorbar": {
              "outlinewidth": 0,
              "ticks": ""
             }
            },
            "type": "scatterpolar"
           }
          ],
          "scatterpolargl": [
           {
            "marker": {
             "colorbar": {
              "outlinewidth": 0,
              "ticks": ""
             }
            },
            "type": "scatterpolargl"
           }
          ],
          "scatterternary": [
           {
            "marker": {
             "colorbar": {
              "outlinewidth": 0,
              "ticks": ""
             }
            },
            "type": "scatterternary"
           }
          ],
          "surface": [
           {
            "colorbar": {
             "outlinewidth": 0,
             "ticks": ""
            },
            "colorscale": [
             [
              0,
              "#0d0887"
             ],
             [
              0.1111111111111111,
              "#46039f"
             ],
             [
              0.2222222222222222,
              "#7201a8"
             ],
             [
              0.3333333333333333,
              "#9c179e"
             ],
             [
              0.4444444444444444,
              "#bd3786"
             ],
             [
              0.5555555555555556,
              "#d8576b"
             ],
             [
              0.6666666666666666,
              "#ed7953"
             ],
             [
              0.7777777777777778,
              "#fb9f3a"
             ],
             [
              0.8888888888888888,
              "#fdca26"
             ],
             [
              1,
              "#f0f921"
             ]
            ],
            "type": "surface"
           }
          ],
          "table": [
           {
            "cells": {
             "fill": {
              "color": "#EBF0F8"
             },
             "line": {
              "color": "white"
             }
            },
            "header": {
             "fill": {
              "color": "#C8D4E3"
             },
             "line": {
              "color": "white"
             }
            },
            "type": "table"
           }
          ]
         },
         "layout": {
          "annotationdefaults": {
           "arrowcolor": "#2a3f5f",
           "arrowhead": 0,
           "arrowwidth": 1
          },
          "autotypenumbers": "strict",
          "coloraxis": {
           "colorbar": {
            "outlinewidth": 0,
            "ticks": ""
           }
          },
          "colorscale": {
           "diverging": [
            [
             0,
             "#8e0152"
            ],
            [
             0.1,
             "#c51b7d"
            ],
            [
             0.2,
             "#de77ae"
            ],
            [
             0.3,
             "#f1b6da"
            ],
            [
             0.4,
             "#fde0ef"
            ],
            [
             0.5,
             "#f7f7f7"
            ],
            [
             0.6,
             "#e6f5d0"
            ],
            [
             0.7,
             "#b8e186"
            ],
            [
             0.8,
             "#7fbc41"
            ],
            [
             0.9,
             "#4d9221"
            ],
            [
             1,
             "#276419"
            ]
           ],
           "sequential": [
            [
             0,
             "#0d0887"
            ],
            [
             0.1111111111111111,
             "#46039f"
            ],
            [
             0.2222222222222222,
             "#7201a8"
            ],
            [
             0.3333333333333333,
             "#9c179e"
            ],
            [
             0.4444444444444444,
             "#bd3786"
            ],
            [
             0.5555555555555556,
             "#d8576b"
            ],
            [
             0.6666666666666666,
             "#ed7953"
            ],
            [
             0.7777777777777778,
             "#fb9f3a"
            ],
            [
             0.8888888888888888,
             "#fdca26"
            ],
            [
             1,
             "#f0f921"
            ]
           ],
           "sequentialminus": [
            [
             0,
             "#0d0887"
            ],
            [
             0.1111111111111111,
             "#46039f"
            ],
            [
             0.2222222222222222,
             "#7201a8"
            ],
            [
             0.3333333333333333,
             "#9c179e"
            ],
            [
             0.4444444444444444,
             "#bd3786"
            ],
            [
             0.5555555555555556,
             "#d8576b"
            ],
            [
             0.6666666666666666,
             "#ed7953"
            ],
            [
             0.7777777777777778,
             "#fb9f3a"
            ],
            [
             0.8888888888888888,
             "#fdca26"
            ],
            [
             1,
             "#f0f921"
            ]
           ]
          },
          "colorway": [
           "#636efa",
           "#EF553B",
           "#00cc96",
           "#ab63fa",
           "#FFA15A",
           "#19d3f3",
           "#FF6692",
           "#B6E880",
           "#FF97FF",
           "#FECB52"
          ],
          "font": {
           "color": "#2a3f5f"
          },
          "geo": {
           "bgcolor": "white",
           "lakecolor": "white",
           "landcolor": "#E5ECF6",
           "showlakes": true,
           "showland": true,
           "subunitcolor": "white"
          },
          "hoverlabel": {
           "align": "left"
          },
          "hovermode": "closest",
          "mapbox": {
           "style": "light"
          },
          "paper_bgcolor": "white",
          "plot_bgcolor": "#E5ECF6",
          "polar": {
           "angularaxis": {
            "gridcolor": "white",
            "linecolor": "white",
            "ticks": ""
           },
           "bgcolor": "#E5ECF6",
           "radialaxis": {
            "gridcolor": "white",
            "linecolor": "white",
            "ticks": ""
           }
          },
          "scene": {
           "xaxis": {
            "backgroundcolor": "#E5ECF6",
            "gridcolor": "white",
            "gridwidth": 2,
            "linecolor": "white",
            "showbackground": true,
            "ticks": "",
            "zerolinecolor": "white"
           },
           "yaxis": {
            "backgroundcolor": "#E5ECF6",
            "gridcolor": "white",
            "gridwidth": 2,
            "linecolor": "white",
            "showbackground": true,
            "ticks": "",
            "zerolinecolor": "white"
           },
           "zaxis": {
            "backgroundcolor": "#E5ECF6",
            "gridcolor": "white",
            "gridwidth": 2,
            "linecolor": "white",
            "showbackground": true,
            "ticks": "",
            "zerolinecolor": "white"
           }
          },
          "shapedefaults": {
           "line": {
            "color": "#2a3f5f"
           }
          },
          "ternary": {
           "aaxis": {
            "gridcolor": "white",
            "linecolor": "white",
            "ticks": ""
           },
           "baxis": {
            "gridcolor": "white",
            "linecolor": "white",
            "ticks": ""
           },
           "bgcolor": "#E5ECF6",
           "caxis": {
            "gridcolor": "white",
            "linecolor": "white",
            "ticks": ""
           }
          },
          "title": {
           "x": 0.05
          },
          "xaxis": {
           "automargin": true,
           "gridcolor": "white",
           "linecolor": "white",
           "ticks": "",
           "title": {
            "standoff": 15
           },
           "zerolinecolor": "white",
           "zerolinewidth": 2
          },
          "yaxis": {
           "automargin": true,
           "gridcolor": "white",
           "linecolor": "white",
           "ticks": "",
           "title": {
            "standoff": 15
           },
           "zerolinecolor": "white",
           "zerolinewidth": 2
          }
         }
        },
        "xaxis": {
         "anchor": "y",
         "constrain": "domain",
         "domain": [
          0,
          1
         ],
         "scaleanchor": "y",
         "title": {
          "text": "Current Season Stats"
         }
        },
        "yaxis": {
         "anchor": "x",
         "autorange": "reversed",
         "constrain": "domain",
         "domain": [
          0,
          1
         ],
         "title": {
          "text": "Previous Season Stats"
         }
        }
       }
      },
      "text/html": [
       "<div>                            <div id=\"dd0fb727-46d6-44c5-bf57-496917bb0442\" class=\"plotly-graph-div\" style=\"height:525px; width:100%;\"></div>            <script type=\"text/javascript\">                require([\"plotly\"], function(Plotly) {                    window.PLOTLYENV=window.PLOTLYENV || {};                                    if (document.getElementById(\"dd0fb727-46d6-44c5-bf57-496917bb0442\")) {                    Plotly.newPlot(                        \"dd0fb727-46d6-44c5-bf57-496917bb0442\",                        [{\"coloraxis\":\"coloraxis\",\"name\":\"0\",\"texttemplate\":\"%{z}\",\"x\":[\"passing_yards\",\"passing_attempts\",\"yards_per_pass\",\"total_epa\",\"passing_touchdowns\",\"completions\",\"games\",\"fantasy_points\",\"age\",\"passing_yards_last\",\"passing_attempts_last\",\"yards_per_pass_last\",\"total_epa_last\",\"passing_touchdowns_last\",\"completions_last\",\"games_last\",\"fantasy_points_last\",\"age_last\",\"avg_time_to_throw_mean\",\"avg_time_to_throw_mean_last\",\"avg_completed_air_yards_mean\",\"avg_completed_air_yards_mean_last\",\"avg_intended_air_yards_mean\",\"avg_intended_air_yards_mean_last\",\"avg_air_yards_differential_mean\",\"avg_air_yards_differential_mean_last\",\"aggressiveness_mean\",\"aggressiveness_mean_last\",\"max_completed_air_distance_mean\",\"max_completed_air_distance_mean_last\",\"avg_air_yards_to_sticks_mean\",\"avg_air_yards_to_sticks_mean_last\",\"attempts_mean\",\"attempts_mean_last\",\"pass_yards_mean\",\"pass_yards_mean_last\",\"passer_rating_mean\",\"passer_rating_mean_last\",\"completion_percentage_mean\",\"completion_percentage_mean_last\",\"expected_completion_percentage_mean\",\"expected_completion_percentage_mean_last\",\"completion_percentage_above_expectation_mean\",\"completion_percentage_above_expectation_mean_last\",\"avg_air_distance_mean\",\"avg_air_distance_mean_last\",\"max_air_distance_mean\",\"max_air_distance_mean_last\",\"passing_yards_per_game\",\"passing_attempts_per_game\",\"total_epa_per_game\",\"passing_touchdowns_per_game\",\"completions_per_game\",\"fantasy_points_per_game\",\"passing_yards_last_per_game\",\"passing_attempts_last_per_game\",\"total_epa_last_per_game\",\"passing_touchdowns_last_per_game\",\"completions_last_per_game\",\"fantasy_points_last_per_game\"],\"y\":[\"passing_yards\",\"passing_attempts\",\"yards_per_pass\",\"total_epa\",\"passing_touchdowns\",\"completions\",\"games\",\"fantasy_points\",\"age\",\"passing_yards_last\",\"passing_attempts_last\",\"yards_per_pass_last\",\"total_epa_last\",\"passing_touchdowns_last\",\"completions_last\",\"games_last\",\"fantasy_points_last\",\"age_last\",\"avg_time_to_throw_mean\",\"avg_time_to_throw_mean_last\",\"avg_completed_air_yards_mean\",\"avg_completed_air_yards_mean_last\",\"avg_intended_air_yards_mean\",\"avg_intended_air_yards_mean_last\",\"avg_air_yards_differential_mean\",\"avg_air_yards_differential_mean_last\",\"aggressiveness_mean\",\"aggressiveness_mean_last\",\"max_completed_air_distance_mean\",\"max_completed_air_distance_mean_last\",\"avg_air_yards_to_sticks_mean\",\"avg_air_yards_to_sticks_mean_last\",\"attempts_mean\",\"attempts_mean_last\",\"pass_yards_mean\",\"pass_yards_mean_last\",\"passer_rating_mean\",\"passer_rating_mean_last\",\"completion_percentage_mean\",\"completion_percentage_mean_last\",\"expected_completion_percentage_mean\",\"expected_completion_percentage_mean_last\",\"completion_percentage_above_expectation_mean\",\"completion_percentage_above_expectation_mean_last\",\"avg_air_distance_mean\",\"avg_air_distance_mean_last\",\"max_air_distance_mean\",\"max_air_distance_mean_last\",\"passing_yards_per_game\",\"passing_attempts_per_game\",\"total_epa_per_game\",\"passing_touchdowns_per_game\",\"completions_per_game\",\"fantasy_points_per_game\",\"passing_yards_last_per_game\",\"passing_attempts_last_per_game\",\"total_epa_last_per_game\",\"passing_touchdowns_last_per_game\",\"completions_last_per_game\",\"fantasy_points_last_per_game\"],\"z\":[[1.0,0.85,0.44,0.72,0.7,0.89,0.67,0.67,0.33,0.52,0.39,0.31,0.43,0.38,0.43,0.26,0.31,0.33,-0.08,-0.09,0.11,-0.08,-0.04,-0.13,0.29,0.11,-0.23,-0.19,0.39,0.19,0.07,-0.1,0.63,0.05,0.83,0.22,0.51,0.35,0.45,0.24,0.27,0.29,0.3,-0.02,0.0,-0.2,0.29,0.17,0.92,0.76,0.65,0.6,0.83,0.53,0.22,0.03,0.35,0.24,0.11,0.08],[0.85,1.0,-0.09,0.34,0.49,0.96,0.75,0.46,0.39,0.55,0.52,0.16,0.33,0.38,0.53,0.27,0.27,0.39,-0.22,-0.21,-0.18,-0.13,-0.26,-0.16,0.15,0.08,-0.18,-0.11,0.15,0.18,-0.14,-0.11,0.8,0.23,0.62,0.33,0.12,0.24,0.22,0.18,0.26,0.26,0.04,-0.06,-0.14,-0.17,0.18,0.19,0.69,0.91,0.25,0.35,0.87,0.27,0.2,0.12,0.24,0.21,0.17,0.01],[0.44,-0.09,1.0,0.79,0.51,0.06,-0.01,0.49,-0.02,0.08,-0.13,0.32,0.26,0.11,-0.06,0.04,0.14,-0.02,0.2,0.18,0.53,0.05,0.36,0.01,0.32,0.07,-0.14,-0.19,0.5,0.08,0.39,-0.0,-0.18,-0.29,0.54,-0.13,0.8,0.25,0.5,0.18,0.07,0.13,0.52,0.07,0.26,-0.09,0.24,0.0,0.57,-0.11,0.82,0.56,0.1,0.55,0.1,-0.12,0.28,0.13,-0.05,0.16],[0.72,0.34,0.79,1.0,0.8,0.46,0.3,0.76,0.13,0.27,0.12,0.28,0.36,0.26,0.16,0.18,0.29,0.13,0.16,0.15,0.36,-0.03,0.21,-0.02,0.29,-0.01,-0.29,-0.26,0.48,0.12,0.29,-0.04,0.11,-0.15,0.64,-0.0,0.85,0.28,0.56,0.16,0.2,0.24,0.48,-0.06,0.17,-0.12,0.33,0.15,0.75,0.27,0.99,0.8,0.45,0.75,0.14,-0.04,0.34,0.2,0.02,0.2],[0.7,0.49,0.51,0.8,1.0,0.55,0.45,0.85,0.24,0.33,0.24,0.23,0.37,0.35,0.26,0.25,0.39,0.24,0.1,0.11,0.3,-0.02,0.24,0.01,0.11,-0.06,-0.23,-0.26,0.53,0.28,0.37,-0.01,0.22,-0.01,0.54,0.12,0.76,0.35,0.38,0.18,0.07,0.16,0.39,0.04,0.31,0.04,0.48,0.31,0.66,0.39,0.76,0.97,0.49,0.8,0.13,0.0,0.32,0.26,0.06,0.24],[0.89,0.96,0.06,0.46,0.55,1.0,0.74,0.53,0.41,0.56,0.5,0.2,0.35,0.39,0.55,0.31,0.31,0.41,-0.23,-0.21,-0.21,-0.18,-0.33,-0.23,0.24,0.12,-0.27,-0.17,0.19,0.16,-0.2,-0.19,0.74,0.17,0.67,0.29,0.3,0.29,0.48,0.27,0.38,0.35,0.24,-0.06,-0.19,-0.26,0.15,0.13,0.74,0.86,0.38,0.42,0.93,0.35,0.22,0.1,0.26,0.22,0.2,0.05],[0.67,0.75,-0.01,0.3,0.45,0.74,1.0,0.46,0.35,0.4,0.34,0.18,0.28,0.32,0.37,0.33,0.3,0.35,-0.04,-0.06,-0.15,-0.01,-0.23,-0.08,0.16,0.14,-0.24,-0.15,0.09,0.2,-0.12,-0.05,0.28,0.12,0.22,0.22,0.16,0.3,0.24,0.18,0.21,0.11,0.1,0.08,-0.11,-0.04,0.1,0.16,0.32,0.4,0.18,0.24,0.44,0.19,-0.08,-0.21,0.15,0.09,-0.13,-0.05],[0.67,0.46,0.49,0.76,0.85,0.53,0.46,1.0,0.02,0.22,0.12,0.21,0.33,0.29,0.13,0.24,0.52,0.02,0.23,0.27,0.3,0.05,0.21,0.07,0.15,-0.06,-0.31,-0.27,0.5,0.2,0.32,0.05,0.16,-0.11,0.47,0.01,0.68,0.3,0.39,0.09,0.11,0.14,0.37,-0.04,0.27,0.08,0.39,0.27,0.61,0.35,0.72,0.81,0.45,0.96,0.0,-0.13,0.28,0.19,-0.09,0.38],[0.33,0.39,-0.02,0.13,0.24,0.41,0.35,0.02,1.0,0.4,0.39,0.11,0.24,0.32,0.43,0.24,0.09,1.0,-0.45,-0.43,-0.19,-0.08,-0.16,-0.08,-0.05,0.02,0.11,-0.0,0.1,0.16,-0.11,-0.01,0.27,0.16,0.2,0.23,0.15,0.23,0.19,0.19,0.19,0.17,0.07,0.04,-0.12,-0.11,0.03,0.07,0.23,0.32,0.09,0.18,0.36,-0.08,0.25,0.2,0.2,0.24,0.27,-0.03],[0.52,0.55,0.08,0.27,0.33,0.56,0.4,0.22,0.4,1.0,0.81,0.49,0.68,0.62,0.88,0.64,0.56,0.4,-0.16,-0.13,-0.14,0.1,-0.18,-0.05,0.08,0.27,-0.13,-0.18,0.11,0.39,-0.1,0.0,0.43,0.29,0.41,0.55,0.2,0.45,0.24,0.37,0.21,0.17,0.11,0.25,-0.15,-0.1,0.11,0.23,0.46,0.51,0.23,0.27,0.53,0.12,0.88,0.62,0.65,0.55,0.73,0.44],[0.39,0.52,-0.13,0.12,0.24,0.5,0.34,0.12,0.39,0.81,1.0,-0.11,0.23,0.35,0.93,0.63,0.32,0.39,-0.28,-0.27,-0.26,-0.13,-0.29,-0.16,0.07,0.08,-0.06,-0.08,0.01,0.2,-0.19,-0.11,0.45,0.59,0.28,0.58,0.07,-0.02,0.13,0.07,0.22,0.12,-0.04,-0.04,-0.24,-0.14,0.02,0.18,0.31,0.5,0.09,0.18,0.48,0.03,0.71,0.84,0.2,0.28,0.81,0.21],[0.31,0.16,0.32,0.28,0.23,0.2,0.18,0.21,0.11,0.49,-0.11,1.0,0.82,0.54,0.11,0.16,0.48,0.11,0.15,0.19,0.16,0.38,0.15,0.17,0.02,0.35,-0.12,-0.19,0.17,0.37,0.13,0.18,0.05,-0.38,0.27,0.08,0.25,0.8,0.21,0.53,0.01,0.1,0.24,0.49,0.1,0.05,0.16,0.12,0.31,0.1,0.27,0.21,0.17,0.18,0.43,-0.21,0.82,0.52,0.02,0.43],[0.43,0.33,0.26,0.36,0.37,0.35,0.28,0.33,0.24,0.68,0.23,0.82,1.0,0.78,0.41,0.34,0.73,0.24,0.04,0.16,0.11,0.29,0.11,0.11,0.01,0.31,-0.12,-0.25,0.23,0.4,0.15,0.16,0.19,-0.22,0.35,0.17,0.33,0.85,0.22,0.53,0.14,0.17,0.14,0.42,0.06,-0.0,0.23,0.17,0.4,0.28,0.34,0.34,0.32,0.28,0.6,0.09,0.99,0.75,0.29,0.66],[0.38,0.38,0.11,0.26,0.35,0.39,0.32,0.29,0.32,0.62,0.35,0.54,0.78,1.0,0.45,0.32,0.8,0.32,-0.01,0.09,0.04,0.21,0.04,0.16,-0.0,0.07,-0.11,-0.2,0.27,0.41,0.11,0.25,0.23,0.02,0.26,0.29,0.25,0.74,0.17,0.34,0.17,0.16,0.05,0.23,0.06,0.04,0.23,0.28,0.32,0.32,0.23,0.3,0.34,0.22,0.5,0.18,0.76,0.97,0.31,0.72],[0.43,0.53,-0.06,0.16,0.26,0.55,0.37,0.13,0.43,0.88,0.93,0.11,0.41,0.45,1.0,0.62,0.41,0.43,-0.27,-0.29,-0.25,-0.2,-0.31,-0.31,0.12,0.23,-0.12,-0.23,0.08,0.24,-0.22,-0.24,0.46,0.46,0.34,0.54,0.16,0.24,0.27,0.42,0.28,0.31,0.08,0.17,-0.27,-0.28,0.04,0.13,0.36,0.5,0.12,0.2,0.53,0.04,0.77,0.76,0.38,0.38,0.87,0.3],[0.26,0.27,0.04,0.18,0.25,0.31,0.33,0.24,0.24,0.64,0.63,0.16,0.34,0.32,0.62,1.0,0.45,0.24,-0.02,0.06,-0.09,0.07,-0.08,-0.03,-0.02,0.19,-0.11,-0.13,0.05,0.11,-0.02,-0.01,0.11,0.12,0.11,0.2,0.19,0.16,0.24,0.11,0.12,0.02,0.18,0.09,-0.01,-0.05,0.06,0.05,0.15,0.16,0.14,0.2,0.23,0.17,0.54,0.49,0.32,0.27,0.5,0.37],[0.31,0.27,0.14,0.29,0.39,0.31,0.3,0.52,0.09,0.56,0.32,0.48,0.73,0.8,0.41,0.45,1.0,0.09,0.19,0.29,0.07,0.27,0.09,0.2,-0.04,0.1,-0.26,-0.26,0.3,0.41,0.14,0.27,0.06,-0.03,0.13,0.2,0.31,0.65,0.22,0.29,0.16,0.09,0.12,0.24,0.1,0.14,0.24,0.31,0.23,0.19,0.27,0.35,0.25,0.48,0.45,0.17,0.71,0.77,0.28,0.94],[0.33,0.39,-0.02,0.13,0.24,0.41,0.35,0.02,1.0,0.4,0.39,0.11,0.24,0.32,0.43,0.24,0.09,1.0,-0.45,-0.43,-0.19,-0.08,-0.16,-0.08,-0.05,0.02,0.11,-0.0,0.1,0.16,-0.11,-0.01,0.27,0.16,0.2,0.23,0.15,0.23,0.19,0.19,0.19,0.17,0.07,0.04,-0.12,-0.11,0.03,0.07,0.23,0.32,0.09,0.18,0.36,-0.08,0.25,0.2,0.2,0.24,0.27,-0.03],[-0.08,-0.22,0.2,0.16,0.1,-0.23,-0.04,0.23,-0.45,-0.16,-0.28,0.15,0.04,-0.01,-0.27,-0.02,0.19,-0.45,1.0,0.7,0.44,0.28,0.44,0.25,-0.02,0.01,-0.24,-0.24,0.19,-0.01,0.4,0.17,-0.32,-0.22,-0.13,-0.16,0.1,0.11,-0.13,-0.07,-0.37,-0.09,0.15,0.02,0.37,0.18,0.23,0.12,-0.08,-0.28,0.16,0.11,-0.29,0.26,-0.14,-0.25,0.05,0.0,-0.25,0.21],[-0.09,-0.21,0.18,0.15,0.11,-0.21,-0.06,0.27,-0.43,-0.13,-0.27,0.19,0.16,0.09,-0.29,0.06,0.29,-0.43,0.7,1.0,0.38,0.39,0.42,0.39,-0.08,-0.06,-0.22,-0.32,0.14,0.02,0.42,0.33,-0.31,-0.22,-0.13,-0.13,0.1,0.12,-0.1,-0.16,-0.27,-0.16,0.1,-0.02,0.39,0.31,0.2,0.13,-0.08,-0.25,0.15,0.13,-0.25,0.31,-0.1,-0.24,0.18,0.12,-0.27,0.33],[0.11,-0.18,0.53,0.36,0.3,-0.21,-0.15,0.3,-0.19,-0.14,-0.26,0.16,0.11,0.04,-0.25,-0.09,0.07,-0.19,0.44,0.38,1.0,0.38,0.86,0.31,0.23,0.08,0.18,0.08,0.48,0.05,0.81,0.22,-0.16,-0.23,0.24,-0.17,0.3,0.09,-0.17,-0.03,-0.55,-0.2,0.26,0.16,0.64,0.17,0.35,0.03,0.23,-0.15,0.4,0.37,-0.19,0.38,-0.07,-0.17,0.14,0.09,-0.18,0.12],[-0.08,-0.13,0.05,-0.03,-0.02,-0.18,-0.01,0.05,-0.08,0.1,-0.13,0.38,0.29,0.21,-0.2,0.07,0.27,-0.08,0.28,0.39,0.38,1.0,0.47,0.86,-0.19,0.12,0.15,0.25,0.01,0.4,0.39,0.81,-0.19,-0.09,-0.11,0.1,-0.13,0.16,-0.26,-0.28,-0.37,-0.65,0.0,0.34,0.36,0.68,0.08,0.31,-0.09,-0.17,-0.03,-0.03,-0.24,0.05,0.11,-0.13,0.3,0.23,-0.21,0.28],[-0.04,-0.26,0.36,0.21,0.24,-0.33,-0.23,0.21,-0.16,-0.18,-0.29,0.15,0.11,0.04,-0.31,-0.08,0.09,-0.16,0.44,0.42,0.86,0.47,1.0,0.49,-0.29,-0.11,0.26,0.05,0.51,0.21,0.94,0.42,-0.2,-0.24,0.1,-0.19,0.17,0.1,-0.35,-0.1,-0.63,-0.3,0.11,0.19,0.81,0.41,0.57,0.23,0.07,-0.21,0.25,0.32,-0.31,0.31,-0.07,-0.15,0.15,0.11,-0.19,0.17],[-0.13,-0.16,0.01,-0.02,0.01,-0.23,-0.08,0.07,-0.08,-0.05,-0.16,0.17,0.11,0.16,-0.31,-0.03,0.2,-0.08,0.25,0.39,0.31,0.86,0.49,1.0,-0.36,-0.4,0.16,0.3,0.07,0.41,0.42,0.95,-0.19,0.01,-0.14,0.09,-0.12,-0.0,-0.34,-0.48,-0.33,-0.65,-0.12,0.11,0.4,0.82,0.22,0.52,-0.12,-0.16,-0.01,0.02,-0.26,0.1,-0.01,-0.12,0.13,0.19,-0.29,0.24],[0.29,0.15,0.32,0.29,0.11,0.24,0.16,0.15,-0.05,0.08,0.07,0.02,0.01,-0.0,0.12,-0.02,-0.04,-0.05,-0.02,-0.08,0.23,-0.19,-0.29,-0.36,1.0,0.37,-0.16,0.05,-0.07,-0.31,-0.27,-0.39,0.07,0.03,0.26,0.04,0.23,-0.02,0.35,0.13,0.16,0.2,0.27,-0.06,-0.35,-0.45,-0.43,-0.39,0.29,0.11,0.28,0.08,0.24,0.12,0.0,-0.02,-0.01,-0.04,0.04,-0.1],[0.11,0.08,0.07,-0.01,-0.06,0.12,0.14,-0.06,0.02,0.27,0.08,0.35,0.31,0.07,0.23,0.19,0.1,0.02,0.01,-0.06,0.08,0.12,-0.11,-0.4,0.37,1.0,-0.05,-0.13,-0.11,-0.07,-0.12,-0.4,0.03,-0.18,0.08,-0.01,0.01,0.3,0.18,0.44,-0.03,0.1,0.23,0.4,-0.13,-0.37,-0.3,-0.46,0.06,0.02,-0.03,-0.09,0.08,-0.11,0.21,0.0,0.29,0.03,0.17,0.05],[-0.23,-0.18,-0.14,-0.29,-0.23,-0.27,-0.24,-0.31,0.11,-0.13,-0.06,-0.12,-0.12,-0.11,-0.12,-0.11,-0.26,0.11,-0.24,-0.22,0.18,0.15,0.26,0.16,-0.16,-0.05,1.0,0.63,-0.08,0.07,0.19,0.17,0.04,0.02,-0.05,-0.07,-0.28,-0.14,-0.42,-0.17,-0.58,-0.44,-0.0,0.24,0.11,0.14,-0.04,0.02,-0.16,-0.08,-0.25,-0.17,-0.23,-0.25,-0.01,0.1,-0.1,-0.05,0.01,-0.19],[-0.19,-0.11,-0.19,-0.26,-0.26,-0.17,-0.15,-0.27,-0.0,-0.18,-0.08,-0.19,-0.25,-0.2,-0.23,-0.13,-0.26,-0.0,-0.24,-0.32,0.08,0.25,0.05,0.3,0.05,-0.13,0.63,1.0,-0.26,-0.01,-0.0,0.28,0.02,0.09,-0.1,-0.03,-0.29,-0.29,-0.28,-0.44,-0.36,-0.65,-0.03,0.16,-0.06,0.23,-0.2,-0.09,-0.16,-0.05,-0.24,-0.24,-0.15,-0.24,-0.13,0.0,-0.24,-0.18,-0.16,-0.23],[0.39,0.15,0.5,0.48,0.53,0.19,0.09,0.5,0.1,0.11,0.01,0.17,0.23,0.27,0.08,0.05,0.3,0.1,0.19,0.14,0.48,0.01,0.51,0.07,-0.07,-0.11,-0.08,-0.26,1.0,0.32,0.51,0.07,0.1,-0.18,0.42,-0.09,0.53,0.32,0.19,0.23,-0.08,0.18,0.29,0.07,0.58,0.1,0.74,0.31,0.45,0.15,0.49,0.56,0.2,0.53,0.07,-0.04,0.23,0.27,0.05,0.28],[0.19,0.18,0.08,0.12,0.28,0.16,0.2,0.2,0.16,0.39,0.2,0.37,0.4,0.41,0.24,0.11,0.41,0.16,-0.01,0.02,0.05,0.4,0.21,0.41,-0.31,-0.07,0.07,-0.01,0.32,1.0,0.19,0.44,0.07,0.16,0.11,0.37,0.16,0.38,0.01,0.17,-0.12,-0.22,0.11,0.42,0.32,0.51,0.36,0.71,0.15,0.12,0.12,0.26,0.1,0.17,0.31,0.09,0.38,0.38,0.15,0.36],[0.07,-0.14,0.39,0.29,0.37,-0.2,-0.12,0.32,-0.11,-0.1,-0.19,0.13,0.15,0.11,-0.22,-0.02,0.14,-0.11,0.4,0.42,0.81,0.39,0.94,0.42,-0.27,-0.12,0.19,-0.0,0.51,0.19,1.0,0.38,-0.13,-0.18,0.17,-0.13,0.25,0.13,-0.26,-0.08,-0.51,-0.22,0.12,0.12,0.75,0.34,0.6,0.22,0.16,-0.12,0.32,0.44,-0.2,0.39,-0.04,-0.12,0.18,0.15,-0.16,0.18],[-0.1,-0.11,-0.0,-0.04,-0.01,-0.19,-0.05,0.05,-0.01,0.0,-0.11,0.18,0.16,0.25,-0.24,-0.01,0.27,-0.01,0.17,0.33,0.22,0.81,0.42,0.95,-0.39,-0.4,0.17,0.28,0.07,0.44,0.38,1.0,-0.15,0.05,-0.12,0.14,-0.12,0.05,-0.32,-0.42,-0.21,-0.58,-0.19,0.11,0.32,0.76,0.22,0.52,-0.1,-0.13,-0.04,-0.0,-0.22,0.07,0.03,-0.09,0.18,0.28,-0.23,0.29],[0.63,0.8,-0.18,0.11,0.22,0.74,0.28,0.16,0.27,0.43,0.45,0.05,0.19,0.23,0.46,0.11,0.06,0.27,-0.32,-0.31,-0.16,-0.19,-0.2,-0.19,0.07,0.03,0.04,0.02,0.1,0.07,-0.13,-0.15,1.0,0.23,0.73,0.29,-0.06,0.08,0.08,0.15,0.15,0.26,-0.02,-0.08,-0.16,-0.25,0.14,0.06,0.64,0.93,0.08,0.18,0.84,0.08,0.32,0.31,0.16,0.16,0.34,-0.05],[0.05,0.23,-0.29,-0.15,-0.01,0.17,0.12,-0.11,0.16,0.29,0.59,-0.38,-0.22,0.02,0.46,0.12,-0.03,0.16,-0.22,-0.22,-0.23,-0.09,-0.24,0.01,0.03,-0.18,0.02,0.09,-0.18,0.16,-0.18,0.05,0.23,1.0,-0.0,0.88,-0.19,-0.37,-0.15,-0.21,0.07,-0.09,-0.24,-0.15,-0.22,0.05,-0.1,0.2,-0.0,0.24,-0.16,-0.04,0.16,-0.15,0.26,0.53,-0.24,-0.0,0.42,-0.07],[0.83,0.62,0.54,0.64,0.54,0.67,0.22,0.47,0.2,0.41,0.28,0.27,0.35,0.26,0.34,0.11,0.13,0.2,-0.13,-0.13,0.24,-0.11,0.1,-0.14,0.26,0.08,-0.05,-0.1,0.42,0.11,0.17,-0.12,0.73,-0.0,1.0,0.15,0.49,0.24,0.4,0.25,0.16,0.29,0.33,-0.0,0.05,-0.27,0.3,0.06,0.94,0.71,0.63,0.53,0.77,0.45,0.33,0.18,0.34,0.22,0.25,0.06],[0.22,0.33,-0.13,-0.0,0.12,0.29,0.22,0.01,0.23,0.55,0.58,0.08,0.17,0.29,0.54,0.2,0.2,0.23,-0.16,-0.13,-0.17,0.1,-0.19,0.09,0.04,-0.01,-0.07,-0.03,-0.09,0.37,-0.13,0.14,0.29,0.88,0.15,1.0,-0.06,-0.0,-0.04,0.04,0.09,-0.03,-0.12,0.08,-0.16,0.09,-0.02,0.28,0.17,0.32,-0.02,0.09,0.27,-0.05,0.49,0.47,0.15,0.25,0.46,0.14],[0.51,0.12,0.8,0.85,0.76,0.3,0.16,0.68,0.15,0.2,0.07,0.25,0.33,0.25,0.16,0.19,0.31,0.15,0.1,0.1,0.3,-0.13,0.17,-0.12,0.23,0.01,-0.28,-0.29,0.53,0.16,0.25,-0.12,-0.06,-0.19,0.49,-0.06,1.0,0.33,0.7,0.29,0.21,0.25,0.65,0.08,0.22,-0.11,0.33,0.11,0.57,0.07,0.86,0.79,0.32,0.71,0.15,-0.01,0.32,0.22,0.1,0.28],[0.35,0.24,0.25,0.28,0.35,0.29,0.3,0.3,0.23,0.45,-0.02,0.8,0.85,0.74,0.24,0.16,0.65,0.23,0.11,0.12,0.09,0.16,0.1,-0.0,-0.02,0.3,-0.14,-0.29,0.32,0.38,0.13,0.05,0.08,-0.37,0.24,-0.0,0.33,1.0,0.27,0.69,0.12,0.23,0.22,0.54,0.1,-0.03,0.28,0.13,0.29,0.15,0.25,0.3,0.22,0.24,0.33,-0.18,0.83,0.7,0.1,0.57],[0.45,0.22,0.5,0.56,0.38,0.48,0.24,0.39,0.19,0.24,0.13,0.21,0.22,0.17,0.27,0.24,0.22,0.19,-0.13,-0.1,-0.17,-0.26,-0.35,-0.34,0.35,0.18,-0.42,-0.28,0.19,0.01,-0.26,-0.32,0.08,-0.15,0.4,-0.04,0.7,0.27,1.0,0.41,0.53,0.43,0.72,0.03,-0.22,-0.36,-0.02,-0.1,0.45,0.15,0.55,0.36,0.51,0.36,0.14,-0.0,0.2,0.11,0.16,0.15],[0.24,0.18,0.18,0.16,0.18,0.27,0.18,0.09,0.19,0.37,0.07,0.53,0.53,0.34,0.42,0.11,0.29,0.19,-0.07,-0.16,-0.03,-0.28,-0.1,-0.48,0.13,0.44,-0.17,-0.44,0.23,0.17,-0.08,-0.42,0.15,-0.21,0.25,0.04,0.29,0.69,0.41,1.0,0.2,0.56,0.31,0.56,-0.1,-0.43,0.09,-0.1,0.22,0.13,0.15,0.15,0.26,0.05,0.31,-0.02,0.52,0.31,0.35,0.24],[0.27,0.26,0.07,0.2,0.07,0.38,0.21,0.11,0.19,0.21,0.22,0.01,0.14,0.17,0.28,0.12,0.16,0.19,-0.37,-0.27,-0.55,-0.37,-0.63,-0.33,0.16,-0.03,-0.58,-0.36,-0.08,-0.12,-0.51,-0.21,0.15,0.07,0.16,0.09,0.21,0.12,0.53,0.2,1.0,0.56,-0.2,-0.33,-0.54,-0.39,-0.16,-0.07,0.22,0.21,0.17,0.01,0.38,0.04,0.11,0.09,0.12,0.12,0.17,0.1],[0.29,0.26,0.13,0.24,0.16,0.35,0.11,0.14,0.17,0.17,0.12,0.1,0.17,0.16,0.31,0.02,0.09,0.17,-0.09,-0.16,-0.2,-0.65,-0.3,-0.65,0.2,0.1,-0.44,-0.65,0.18,-0.22,-0.22,-0.58,0.26,-0.09,0.29,-0.03,0.25,0.23,0.43,0.56,0.56,1.0,0.04,-0.37,-0.26,-0.67,0.03,-0.16,0.3,0.28,0.23,0.14,0.4,0.12,0.12,0.05,0.16,0.12,0.26,0.05],[0.3,0.04,0.52,0.48,0.39,0.24,0.1,0.37,0.07,0.11,-0.04,0.24,0.14,0.05,0.08,0.18,0.12,0.07,0.15,0.1,0.26,0.0,0.11,-0.12,0.27,0.23,-0.0,-0.03,0.29,0.11,0.12,-0.19,-0.02,-0.24,0.33,-0.12,0.65,0.22,0.72,0.31,-0.2,0.04,1.0,0.31,0.19,-0.09,0.11,-0.06,0.34,-0.0,0.5,0.4,0.28,0.39,0.07,-0.08,0.13,0.03,0.05,0.09],[-0.02,-0.06,0.07,-0.06,0.04,-0.06,0.08,-0.04,0.04,0.25,-0.04,0.49,0.42,0.23,0.17,0.09,0.24,0.04,0.02,-0.02,0.16,0.34,0.19,0.11,-0.06,0.4,0.24,0.16,0.07,0.42,0.12,0.11,-0.08,-0.15,-0.0,0.08,0.08,0.54,0.03,0.56,-0.33,-0.37,0.31,1.0,0.15,0.19,0.07,0.05,-0.06,-0.13,-0.06,0.03,-0.11,-0.06,0.22,-0.08,0.42,0.22,0.14,0.22],[0.0,-0.14,0.26,0.17,0.31,-0.19,-0.11,0.27,-0.12,-0.15,-0.24,0.1,0.06,0.06,-0.27,-0.01,0.1,-0.12,0.37,0.39,0.64,0.36,0.81,0.4,-0.35,-0.13,0.11,-0.06,0.58,0.32,0.75,0.32,-0.16,-0.22,0.05,-0.16,0.22,0.1,-0.22,-0.1,-0.54,-0.26,0.19,0.15,1.0,0.54,0.67,0.36,0.07,-0.12,0.2,0.37,-0.19,0.33,-0.1,-0.18,0.09,0.1,-0.21,0.14],[-0.2,-0.17,-0.09,-0.12,0.04,-0.26,-0.04,0.08,-0.11,-0.1,-0.14,0.05,-0.0,0.04,-0.28,-0.05,0.14,-0.11,0.18,0.31,0.17,0.68,0.41,0.82,-0.45,-0.37,0.14,0.23,0.1,0.51,0.34,0.76,-0.25,0.05,-0.27,0.09,-0.11,-0.03,-0.36,-0.43,-0.39,-0.67,-0.09,0.19,0.54,1.0,0.3,0.6,-0.22,-0.2,-0.11,0.05,-0.31,0.1,-0.09,-0.13,0.0,0.05,-0.27,0.16],[0.29,0.18,0.24,0.33,0.48,0.15,0.1,0.39,0.03,0.11,0.02,0.16,0.23,0.23,0.04,0.06,0.24,0.03,0.23,0.2,0.35,0.08,0.57,0.22,-0.43,-0.3,-0.04,-0.2,0.74,0.36,0.6,0.22,0.14,-0.1,0.3,-0.02,0.33,0.28,-0.02,0.09,-0.16,0.03,0.11,0.07,0.67,0.3,1.0,0.5,0.32,0.18,0.33,0.5,0.15,0.4,0.08,-0.01,0.23,0.22,0.02,0.21],[0.17,0.19,0.0,0.15,0.31,0.13,0.16,0.27,0.07,0.23,0.18,0.12,0.17,0.28,0.13,0.05,0.31,0.07,0.12,0.13,0.03,0.31,0.23,0.52,-0.39,-0.46,0.02,-0.09,0.31,0.71,0.22,0.52,0.06,0.2,0.06,0.28,0.11,0.13,-0.1,-0.1,-0.07,-0.16,-0.06,0.05,0.36,0.6,0.5,1.0,0.13,0.16,0.13,0.29,0.09,0.25,0.17,0.1,0.16,0.26,0.06,0.27],[0.92,0.69,0.57,0.75,0.66,0.74,0.32,0.61,0.23,0.46,0.31,0.31,0.4,0.32,0.36,0.15,0.23,0.23,-0.08,-0.08,0.23,-0.09,0.07,-0.12,0.29,0.06,-0.16,-0.16,0.45,0.15,0.16,-0.1,0.64,-0.0,0.94,0.17,0.57,0.29,0.45,0.22,0.22,0.3,0.34,-0.06,0.07,-0.22,0.32,0.13,1.0,0.75,0.73,0.64,0.82,0.58,0.33,0.15,0.37,0.26,0.22,0.13],[0.76,0.91,-0.11,0.27,0.39,0.86,0.4,0.35,0.32,0.51,0.5,0.1,0.28,0.32,0.5,0.16,0.19,0.32,-0.28,-0.25,-0.15,-0.17,-0.21,-0.16,0.11,0.02,-0.08,-0.05,0.15,0.12,-0.12,-0.13,0.93,0.24,0.71,0.32,0.07,0.15,0.15,0.13,0.21,0.28,-0.0,-0.13,-0.12,-0.2,0.18,0.16,0.75,1.0,0.23,0.33,0.92,0.25,0.34,0.29,0.23,0.23,0.32,0.04],[0.65,0.25,0.82,0.99,0.76,0.38,0.18,0.72,0.09,0.23,0.09,0.27,0.34,0.23,0.12,0.14,0.27,0.09,0.16,0.15,0.4,-0.03,0.25,-0.01,0.28,-0.03,-0.25,-0.24,0.49,0.12,0.32,-0.04,0.08,-0.16,0.63,-0.02,0.86,0.25,0.55,0.15,0.17,0.23,0.5,-0.06,0.2,-0.11,0.33,0.13,0.73,0.23,1.0,0.79,0.41,0.75,0.16,-0.0,0.34,0.19,0.05,0.22],[0.6,0.35,0.56,0.8,0.97,0.42,0.24,0.81,0.18,0.27,0.18,0.21,0.34,0.3,0.2,0.2,0.35,0.18,0.11,0.13,0.37,-0.03,0.32,0.02,0.08,-0.09,-0.17,-0.24,0.56,0.26,0.44,-0.0,0.18,-0.04,0.53,0.09,0.79,0.3,0.36,0.15,0.01,0.14,0.4,0.03,0.37,0.05,0.5,0.29,0.64,0.33,0.79,1.0,0.43,0.82,0.17,0.06,0.32,0.25,0.1,0.27],[0.83,0.87,0.1,0.45,0.49,0.93,0.44,0.45,0.36,0.53,0.48,0.17,0.32,0.34,0.53,0.23,0.25,0.36,-0.29,-0.25,-0.19,-0.24,-0.31,-0.26,0.24,0.08,-0.23,-0.15,0.2,0.1,-0.2,-0.22,0.84,0.16,0.77,0.27,0.32,0.22,0.51,0.26,0.38,0.4,0.28,-0.11,-0.19,-0.31,0.15,0.09,0.82,0.92,0.41,0.43,1.0,0.36,0.34,0.25,0.27,0.24,0.33,0.1],[0.53,0.27,0.55,0.75,0.8,0.35,0.19,0.96,-0.08,0.12,0.03,0.18,0.28,0.22,0.04,0.17,0.48,-0.08,0.26,0.31,0.38,0.05,0.31,0.1,0.12,-0.11,-0.25,-0.24,0.53,0.17,0.39,0.07,0.08,-0.15,0.45,-0.05,0.71,0.24,0.36,0.05,0.04,0.12,0.39,-0.06,0.33,0.1,0.4,0.25,0.58,0.25,0.75,0.82,0.36,1.0,0.03,-0.08,0.27,0.18,-0.05,0.44],[0.22,0.2,0.1,0.14,0.13,0.22,-0.08,0.0,0.25,0.88,0.71,0.43,0.6,0.5,0.77,0.54,0.45,0.25,-0.14,-0.1,-0.07,0.11,-0.07,-0.01,0.0,0.21,-0.01,-0.13,0.07,0.31,-0.04,0.03,0.32,0.26,0.33,0.49,0.15,0.33,0.14,0.31,0.11,0.12,0.07,0.22,-0.1,-0.09,0.08,0.17,0.33,0.34,0.16,0.17,0.34,0.03,1.0,0.79,0.63,0.55,0.86,0.5],[0.03,0.12,-0.12,-0.04,0.0,0.1,-0.21,-0.13,0.2,0.62,0.84,-0.21,0.09,0.18,0.76,0.49,0.17,0.2,-0.25,-0.24,-0.17,-0.13,-0.15,-0.12,-0.02,0.0,0.1,0.0,-0.04,0.09,-0.12,-0.09,0.31,0.53,0.18,0.47,-0.01,-0.18,-0.0,-0.02,0.09,0.05,-0.08,-0.08,-0.18,-0.13,-0.01,0.1,0.15,0.29,-0.0,0.06,0.25,-0.08,0.79,1.0,0.13,0.25,0.92,0.25],[0.35,0.24,0.28,0.34,0.32,0.26,0.15,0.28,0.2,0.65,0.2,0.82,0.99,0.76,0.38,0.32,0.71,0.2,0.05,0.18,0.14,0.3,0.15,0.13,-0.01,0.29,-0.1,-0.24,0.23,0.38,0.18,0.18,0.16,-0.24,0.34,0.15,0.32,0.83,0.2,0.52,0.12,0.16,0.13,0.42,0.09,0.0,0.23,0.16,0.37,0.23,0.34,0.32,0.27,0.27,0.63,0.13,1.0,0.76,0.32,0.69],[0.24,0.21,0.13,0.2,0.26,0.22,0.09,0.19,0.24,0.55,0.28,0.52,0.75,0.97,0.38,0.27,0.77,0.24,0.0,0.12,0.09,0.23,0.11,0.19,-0.04,0.03,-0.05,-0.18,0.27,0.38,0.15,0.28,0.16,-0.0,0.22,0.25,0.22,0.7,0.11,0.31,0.12,0.12,0.03,0.22,0.1,0.05,0.22,0.26,0.26,0.23,0.19,0.25,0.24,0.18,0.55,0.25,0.76,1.0,0.36,0.77],[0.11,0.17,-0.05,0.02,0.06,0.2,-0.13,-0.09,0.27,0.73,0.81,0.02,0.29,0.31,0.87,0.5,0.28,0.27,-0.25,-0.27,-0.18,-0.21,-0.19,-0.29,0.04,0.17,0.01,-0.16,0.05,0.15,-0.16,-0.23,0.34,0.42,0.25,0.46,0.1,0.1,0.16,0.35,0.17,0.26,0.05,0.14,-0.21,-0.27,0.02,0.06,0.22,0.32,0.05,0.1,0.33,-0.05,0.86,0.92,0.32,0.36,1.0,0.34],[0.08,0.01,0.16,0.2,0.24,0.05,-0.05,0.38,-0.03,0.44,0.21,0.43,0.66,0.72,0.3,0.37,0.94,-0.03,0.21,0.33,0.12,0.28,0.17,0.24,-0.1,0.05,-0.19,-0.23,0.28,0.36,0.18,0.29,-0.05,-0.07,0.06,0.14,0.28,0.57,0.15,0.24,0.1,0.05,0.09,0.22,0.14,0.16,0.21,0.27,0.13,0.04,0.22,0.27,0.1,0.44,0.5,0.25,0.69,0.77,0.34,1.0]],\"type\":\"heatmap\",\"xaxis\":\"x\",\"yaxis\":\"y\",\"hovertemplate\":\"Current Season Stats: %{x}\\u003cbr\\u003ePrevious Season Stats: %{y}\\u003cbr\\u003ecolor: %{z}\\u003cextra\\u003e\\u003c\\u002fextra\\u003e\"}],                        {\"template\":{\"data\":{\"histogram2dcontour\":[{\"type\":\"histogram2dcontour\",\"colorbar\":{\"outlinewidth\":0,\"ticks\":\"\"},\"colorscale\":[[0.0,\"#0d0887\"],[0.1111111111111111,\"#46039f\"],[0.2222222222222222,\"#7201a8\"],[0.3333333333333333,\"#9c179e\"],[0.4444444444444444,\"#bd3786\"],[0.5555555555555556,\"#d8576b\"],[0.6666666666666666,\"#ed7953\"],[0.7777777777777778,\"#fb9f3a\"],[0.8888888888888888,\"#fdca26\"],[1.0,\"#f0f921\"]]}],\"choropleth\":[{\"type\":\"choropleth\",\"colorbar\":{\"outlinewidth\":0,\"ticks\":\"\"}}],\"histogram2d\":[{\"type\":\"histogram2d\",\"colorbar\":{\"outlinewidth\":0,\"ticks\":\"\"},\"colorscale\":[[0.0,\"#0d0887\"],[0.1111111111111111,\"#46039f\"],[0.2222222222222222,\"#7201a8\"],[0.3333333333333333,\"#9c179e\"],[0.4444444444444444,\"#bd3786\"],[0.5555555555555556,\"#d8576b\"],[0.6666666666666666,\"#ed7953\"],[0.7777777777777778,\"#fb9f3a\"],[0.8888888888888888,\"#fdca26\"],[1.0,\"#f0f921\"]]}],\"heatmap\":[{\"type\":\"heatmap\",\"colorbar\":{\"outlinewidth\":0,\"ticks\":\"\"},\"colorscale\":[[0.0,\"#0d0887\"],[0.1111111111111111,\"#46039f\"],[0.2222222222222222,\"#7201a8\"],[0.3333333333333333,\"#9c179e\"],[0.4444444444444444,\"#bd3786\"],[0.5555555555555556,\"#d8576b\"],[0.6666666666666666,\"#ed7953\"],[0.7777777777777778,\"#fb9f3a\"],[0.8888888888888888,\"#fdca26\"],[1.0,\"#f0f921\"]]}],\"heatmapgl\":[{\"type\":\"heatmapgl\",\"colorbar\":{\"outlinewidth\":0,\"ticks\":\"\"},\"colorscale\":[[0.0,\"#0d0887\"],[0.1111111111111111,\"#46039f\"],[0.2222222222222222,\"#7201a8\"],[0.3333333333333333,\"#9c179e\"],[0.4444444444444444,\"#bd3786\"],[0.5555555555555556,\"#d8576b\"],[0.6666666666666666,\"#ed7953\"],[0.7777777777777778,\"#fb9f3a\"],[0.8888888888888888,\"#fdca26\"],[1.0,\"#f0f921\"]]}],\"contourcarpet\":[{\"type\":\"contourcarpet\",\"colorbar\":{\"outlinewidth\":0,\"ticks\":\"\"}}],\"contour\":[{\"type\":\"contour\",\"colorbar\":{\"outlinewidth\":0,\"ticks\":\"\"},\"colorscale\":[[0.0,\"#0d0887\"],[0.1111111111111111,\"#46039f\"],[0.2222222222222222,\"#7201a8\"],[0.3333333333333333,\"#9c179e\"],[0.4444444444444444,\"#bd3786\"],[0.5555555555555556,\"#d8576b\"],[0.6666666666666666,\"#ed7953\"],[0.7777777777777778,\"#fb9f3a\"],[0.8888888888888888,\"#fdca26\"],[1.0,\"#f0f921\"]]}],\"surface\":[{\"type\":\"surface\",\"colorbar\":{\"outlinewidth\":0,\"ticks\":\"\"},\"colorscale\":[[0.0,\"#0d0887\"],[0.1111111111111111,\"#46039f\"],[0.2222222222222222,\"#7201a8\"],[0.3333333333333333,\"#9c179e\"],[0.4444444444444444,\"#bd3786\"],[0.5555555555555556,\"#d8576b\"],[0.6666666666666666,\"#ed7953\"],[0.7777777777777778,\"#fb9f3a\"],[0.8888888888888888,\"#fdca26\"],[1.0,\"#f0f921\"]]}],\"mesh3d\":[{\"type\":\"mesh3d\",\"colorbar\":{\"outlinewidth\":0,\"ticks\":\"\"}}],\"scatter\":[{\"fillpattern\":{\"fillmode\":\"overlay\",\"size\":10,\"solidity\":0.2},\"type\":\"scatter\"}],\"parcoords\":[{\"type\":\"parcoords\",\"line\":{\"colorbar\":{\"outlinewidth\":0,\"ticks\":\"\"}}}],\"scatterpolargl\":[{\"type\":\"scatterpolargl\",\"marker\":{\"colorbar\":{\"outlinewidth\":0,\"ticks\":\"\"}}}],\"bar\":[{\"error_x\":{\"color\":\"#2a3f5f\"},\"error_y\":{\"color\":\"#2a3f5f\"},\"marker\":{\"line\":{\"color\":\"#E5ECF6\",\"width\":0.5},\"pattern\":{\"fillmode\":\"overlay\",\"size\":10,\"solidity\":0.2}},\"type\":\"bar\"}],\"scattergeo\":[{\"type\":\"scattergeo\",\"marker\":{\"colorbar\":{\"outlinewidth\":0,\"ticks\":\"\"}}}],\"scatterpolar\":[{\"type\":\"scatterpolar\",\"marker\":{\"colorbar\":{\"outlinewidth\":0,\"ticks\":\"\"}}}],\"histogram\":[{\"marker\":{\"pattern\":{\"fillmode\":\"overlay\",\"size\":10,\"solidity\":0.2}},\"type\":\"histogram\"}],\"scattergl\":[{\"type\":\"scattergl\",\"marker\":{\"colorbar\":{\"outlinewidth\":0,\"ticks\":\"\"}}}],\"scatter3d\":[{\"type\":\"scatter3d\",\"line\":{\"colorbar\":{\"outlinewidth\":0,\"ticks\":\"\"}},\"marker\":{\"colorbar\":{\"outlinewidth\":0,\"ticks\":\"\"}}}],\"scattermapbox\":[{\"type\":\"scattermapbox\",\"marker\":{\"colorbar\":{\"outlinewidth\":0,\"ticks\":\"\"}}}],\"scatterternary\":[{\"type\":\"scatterternary\",\"marker\":{\"colorbar\":{\"outlinewidth\":0,\"ticks\":\"\"}}}],\"scattercarpet\":[{\"type\":\"scattercarpet\",\"marker\":{\"colorbar\":{\"outlinewidth\":0,\"ticks\":\"\"}}}],\"carpet\":[{\"aaxis\":{\"endlinecolor\":\"#2a3f5f\",\"gridcolor\":\"white\",\"linecolor\":\"white\",\"minorgridcolor\":\"white\",\"startlinecolor\":\"#2a3f5f\"},\"baxis\":{\"endlinecolor\":\"#2a3f5f\",\"gridcolor\":\"white\",\"linecolor\":\"white\",\"minorgridcolor\":\"white\",\"startlinecolor\":\"#2a3f5f\"},\"type\":\"carpet\"}],\"table\":[{\"cells\":{\"fill\":{\"color\":\"#EBF0F8\"},\"line\":{\"color\":\"white\"}},\"header\":{\"fill\":{\"color\":\"#C8D4E3\"},\"line\":{\"color\":\"white\"}},\"type\":\"table\"}],\"barpolar\":[{\"marker\":{\"line\":{\"color\":\"#E5ECF6\",\"width\":0.5},\"pattern\":{\"fillmode\":\"overlay\",\"size\":10,\"solidity\":0.2}},\"type\":\"barpolar\"}],\"pie\":[{\"automargin\":true,\"type\":\"pie\"}]},\"layout\":{\"autotypenumbers\":\"strict\",\"colorway\":[\"#636efa\",\"#EF553B\",\"#00cc96\",\"#ab63fa\",\"#FFA15A\",\"#19d3f3\",\"#FF6692\",\"#B6E880\",\"#FF97FF\",\"#FECB52\"],\"font\":{\"color\":\"#2a3f5f\"},\"hovermode\":\"closest\",\"hoverlabel\":{\"align\":\"left\"},\"paper_bgcolor\":\"white\",\"plot_bgcolor\":\"#E5ECF6\",\"polar\":{\"bgcolor\":\"#E5ECF6\",\"angularaxis\":{\"gridcolor\":\"white\",\"linecolor\":\"white\",\"ticks\":\"\"},\"radialaxis\":{\"gridcolor\":\"white\",\"linecolor\":\"white\",\"ticks\":\"\"}},\"ternary\":{\"bgcolor\":\"#E5ECF6\",\"aaxis\":{\"gridcolor\":\"white\",\"linecolor\":\"white\",\"ticks\":\"\"},\"baxis\":{\"gridcolor\":\"white\",\"linecolor\":\"white\",\"ticks\":\"\"},\"caxis\":{\"gridcolor\":\"white\",\"linecolor\":\"white\",\"ticks\":\"\"}},\"coloraxis\":{\"colorbar\":{\"outlinewidth\":0,\"ticks\":\"\"}},\"colorscale\":{\"sequential\":[[0.0,\"#0d0887\"],[0.1111111111111111,\"#46039f\"],[0.2222222222222222,\"#7201a8\"],[0.3333333333333333,\"#9c179e\"],[0.4444444444444444,\"#bd3786\"],[0.5555555555555556,\"#d8576b\"],[0.6666666666666666,\"#ed7953\"],[0.7777777777777778,\"#fb9f3a\"],[0.8888888888888888,\"#fdca26\"],[1.0,\"#f0f921\"]],\"sequentialminus\":[[0.0,\"#0d0887\"],[0.1111111111111111,\"#46039f\"],[0.2222222222222222,\"#7201a8\"],[0.3333333333333333,\"#9c179e\"],[0.4444444444444444,\"#bd3786\"],[0.5555555555555556,\"#d8576b\"],[0.6666666666666666,\"#ed7953\"],[0.7777777777777778,\"#fb9f3a\"],[0.8888888888888888,\"#fdca26\"],[1.0,\"#f0f921\"]],\"diverging\":[[0,\"#8e0152\"],[0.1,\"#c51b7d\"],[0.2,\"#de77ae\"],[0.3,\"#f1b6da\"],[0.4,\"#fde0ef\"],[0.5,\"#f7f7f7\"],[0.6,\"#e6f5d0\"],[0.7,\"#b8e186\"],[0.8,\"#7fbc41\"],[0.9,\"#4d9221\"],[1,\"#276419\"]]},\"xaxis\":{\"gridcolor\":\"white\",\"linecolor\":\"white\",\"ticks\":\"\",\"title\":{\"standoff\":15},\"zerolinecolor\":\"white\",\"automargin\":true,\"zerolinewidth\":2},\"yaxis\":{\"gridcolor\":\"white\",\"linecolor\":\"white\",\"ticks\":\"\",\"title\":{\"standoff\":15},\"zerolinecolor\":\"white\",\"automargin\":true,\"zerolinewidth\":2},\"scene\":{\"xaxis\":{\"backgroundcolor\":\"#E5ECF6\",\"gridcolor\":\"white\",\"linecolor\":\"white\",\"showbackground\":true,\"ticks\":\"\",\"zerolinecolor\":\"white\",\"gridwidth\":2},\"yaxis\":{\"backgroundcolor\":\"#E5ECF6\",\"gridcolor\":\"white\",\"linecolor\":\"white\",\"showbackground\":true,\"ticks\":\"\",\"zerolinecolor\":\"white\",\"gridwidth\":2},\"zaxis\":{\"backgroundcolor\":\"#E5ECF6\",\"gridcolor\":\"white\",\"linecolor\":\"white\",\"showbackground\":true,\"ticks\":\"\",\"zerolinecolor\":\"white\",\"gridwidth\":2}},\"shapedefaults\":{\"line\":{\"color\":\"#2a3f5f\"}},\"annotationdefaults\":{\"arrowcolor\":\"#2a3f5f\",\"arrowhead\":0,\"arrowwidth\":1},\"geo\":{\"bgcolor\":\"white\",\"landcolor\":\"#E5ECF6\",\"subunitcolor\":\"white\",\"showland\":true,\"showlakes\":true,\"lakecolor\":\"white\"},\"title\":{\"x\":0.05},\"mapbox\":{\"style\":\"light\"}}},\"xaxis\":{\"anchor\":\"y\",\"domain\":[0.0,1.0],\"scaleanchor\":\"y\",\"constrain\":\"domain\",\"title\":{\"text\":\"Current Season Stats\"}},\"yaxis\":{\"anchor\":\"x\",\"domain\":[0.0,1.0],\"autorange\":\"reversed\",\"constrain\":\"domain\",\"title\":{\"text\":\"Previous Season Stats\"}},\"coloraxis\":{\"colorscale\":[[0.0,\"#0d0887\"],[0.1111111111111111,\"#46039f\"],[0.2222222222222222,\"#7201a8\"],[0.3333333333333333,\"#9c179e\"],[0.4444444444444444,\"#bd3786\"],[0.5555555555555556,\"#d8576b\"],[0.6666666666666666,\"#ed7953\"],[0.7777777777777778,\"#fb9f3a\"],[0.8888888888888888,\"#fdca26\"],[1.0,\"#f0f921\"]]},\"margin\":{\"t\":60}},                        {\"responsive\": true}                    ).then(function(){\n",
       "                            \n",
       "var gd = document.getElementById('dd0fb727-46d6-44c5-bf57-496917bb0442');\n",
       "var x = new MutationObserver(function (mutations, observer) {{\n",
       "        var display = window.getComputedStyle(gd).display;\n",
       "        if (!display || display === 'none') {{\n",
       "            console.log([gd, 'removed!']);\n",
       "            Plotly.purge(gd);\n",
       "            observer.disconnect();\n",
       "        }}\n",
       "}});\n",
       "\n",
       "// Listen for the removal of the full notebook cells\n",
       "var notebookContainer = gd.closest('#notebook-container');\n",
       "if (notebookContainer) {{\n",
       "    x.observe(notebookContainer, {childList: true});\n",
       "}}\n",
       "\n",
       "// Listen for the clearing of the current output cell\n",
       "var outputEl = gd.closest('.output');\n",
       "if (outputEl) {{\n",
       "    x.observe(outputEl, {childList: true});\n",
       "}}\n",
       "\n",
       "                        })                };                });            </script>        </div>"
      ]
     },
     "metadata": {},
     "output_type": "display_data"
    }
   ],
   "source": [
    "corr_mat, x, y = create_correlation_matrix(df, x, y)\n",
    "plot_correlation_matrix(corr_mat, x, y, \"/per-game/all\")"
   ]
  },
  {
   "cell_type": "markdown",
   "id": "a6bd469a",
   "metadata": {},
   "source": [
    "# Filtered DFs"
   ]
  },
  {
   "cell_type": "code",
   "execution_count": 90,
   "id": "b450403b",
   "metadata": {},
   "outputs": [],
   "source": [
    "def filter_df(df, query, x, y, title=\"\"):\n",
    "    # create filtered df\n",
    "    df_filter = df.copy()\n",
    "    df_filter[[\"games\", \"games_last\"]] = df_temp[[\"games\", \"games_last\"]]\n",
    "    \n",
    "    if query:\n",
    "        df_filter = df_filter.query(query)\n",
    "    \n",
    "    # create and show corr_mat\n",
    "    corr_mat, x, y = create_correlation_matrix(df_filter, x, y)\n",
    "    plot_correlation_matrix(corr_mat, x, y, title=f\"per-game/{title}\")\n",
    "    \n",
    "    # visualize highest correlation pairing\n",
    "    series = corr_mat.max().iloc[0:]\n",
    "    temp_arr = list(series)\n",
    "\n",
    "    max_series_value = series.max()\n",
    "    i = temp_arr.index(max_series_value)\n",
    "    col = list(corr_mat.columns)[i]\n",
    "    col_prev = col.replace(\"_per_game\", \"_last_per_game\")\n",
    "    print(col, col_prev)\n",
    "    \n",
    "    fig = px.scatter(df_filter, x=col_prev, y=col,\n",
    "                 hover_data=[\"passer\", \"season\", \"age\"]\n",
    "                )\n",
    "    if title:\n",
    "        path = f\"../../interactive/QB/stability-passing/per-game/{title}-scatter-{col}.html\"\n",
    "        fig.write_html(path)\n",
    "    fig.show()\n",
    "    \n",
    "    return df_filter"
   ]
  },
  {
   "cell_type": "markdown",
   "id": "fa87f6ca",
   "metadata": {},
   "source": [
    "## 12 Games 12 Games Last"
   ]
  },
  {
   "cell_type": "code",
   "execution_count": null,
   "id": "eef002c8",
   "metadata": {},
   "outputs": [],
   "source": [
    "query = \"games >= 12 and games_last >= 12\"\n",
    "filter_df(df, query, x, y)"
   ]
  },
  {
   "cell_type": "markdown",
   "id": "6e5d1936",
   "metadata": {},
   "source": [
    "## 12 Games; 12 Game Last  |  150 passing yards per game; 150 passing yards last per game"
   ]
  },
  {
   "cell_type": "code",
   "execution_count": null,
   "id": "8e65954b",
   "metadata": {},
   "outputs": [],
   "source": [
    "query = \"games >= 12 and games_last >= 12 and passing_yards_per_game >= 150 and passing_yards_last_per_game >= 150\"\n",
    "filter_df(df, query, x, y)"
   ]
  },
  {
   "cell_type": "markdown",
   "id": "951aa369",
   "metadata": {},
   "source": [
    "## Young"
   ]
  },
  {
   "cell_type": "code",
   "execution_count": null,
   "id": "6b078560",
   "metadata": {},
   "outputs": [],
   "source": [
    "query = \"games >= 12 and games_last >= 12 \\\n",
    "and passing_yards_per_game >= 150 and passing_yards_last_per_game >= 150 \\\n",
    "and age <= 30\"\n",
    "filter_df(df, query, x, y)"
   ]
  },
  {
   "cell_type": "markdown",
   "id": "6520004f",
   "metadata": {},
   "source": [
    "## Old"
   ]
  },
  {
   "cell_type": "code",
   "execution_count": null,
   "id": "eb7e7d32",
   "metadata": {},
   "outputs": [],
   "source": [
    "query = \"games >= 12 and games_last >= 12 \\\n",
    "and passing_yards_per_game >= 150 and passing_yards_last_per_game >= 150 \\\n",
    "and age_last >= 30\"\n",
    "filter_df(df, query, x, y)"
   ]
  },
  {
   "cell_type": "markdown",
   "id": "b40a9ea3",
   "metadata": {},
   "source": [
    "## Exploration"
   ]
  },
  {
   "cell_type": "code",
   "execution_count": null,
   "id": "26e42561",
   "metadata": {},
   "outputs": [],
   "source": [
    "query = \"games >= 12 and games_last >= 12 \\\n",
    "and passing_yards_per_game >= 200 and passing_yards_last_per_game >= 200\"\n",
    "filter_df(df, query, x, y)"
   ]
  },
  {
   "cell_type": "markdown",
   "id": "44fcd1ca",
   "metadata": {},
   "source": [
    "# Further Exploration"
   ]
  },
  {
   "cell_type": "code",
   "execution_count": 177,
   "id": "d93a1483",
   "metadata": {},
   "outputs": [
    {
     "data": {
      "application/vnd.plotly.v1+json": {
       "config": {
        "plotlyServerURL": "https://plot.ly"
       },
       "data": [
        {
         "coloraxis": "coloraxis",
         "hovertemplate": "Current Season Stats: %{x}<br>Previous Season Stats: %{y}<br>color: %{z}<extra></extra>",
         "name": "0",
         "texttemplate": "%{z}",
         "type": "heatmap",
         "x": [
          "fantasy_points_per_game",
          "fantasy_points",
          "passing_yards",
          "max_air_distance_mean",
          "completions",
          "passing_attempts"
         ],
         "xaxis": "x",
         "y": [
          "fantasy_points_last_per_game",
          "fantasy_points_last",
          "passing_yards_last",
          "max_air_distance_mean_last",
          "completions_last",
          "passing_attempts_last"
         ],
         "yaxis": "y",
         "z": [
          [
           0.44,
           0.38,
           0.08,
           0.21,
           0.05,
           0.01
          ],
          [
           0.48,
           0.52,
           0.31,
           0.24,
           0.31,
           0.27
          ],
          [
           0.12,
           0.22,
           0.52,
           0.11,
           0.56,
           0.55
          ],
          [
           0.25,
           0.27,
           0.17,
           0.5,
           0.13,
           0.19
          ],
          [
           0.04,
           0.13,
           0.43,
           0.04,
           0.55,
           0.53
          ],
          [
           0.03,
           0.12,
           0.39,
           0.02,
           0.5,
           0.52
          ]
         ]
        }
       ],
       "layout": {
        "coloraxis": {
         "colorscale": [
          [
           0,
           "#0d0887"
          ],
          [
           0.1111111111111111,
           "#46039f"
          ],
          [
           0.2222222222222222,
           "#7201a8"
          ],
          [
           0.3333333333333333,
           "#9c179e"
          ],
          [
           0.4444444444444444,
           "#bd3786"
          ],
          [
           0.5555555555555556,
           "#d8576b"
          ],
          [
           0.6666666666666666,
           "#ed7953"
          ],
          [
           0.7777777777777778,
           "#fb9f3a"
          ],
          [
           0.8888888888888888,
           "#fdca26"
          ],
          [
           1,
           "#f0f921"
          ]
         ]
        },
        "margin": {
         "t": 60
        },
        "template": {
         "data": {
          "bar": [
           {
            "error_x": {
             "color": "#2a3f5f"
            },
            "error_y": {
             "color": "#2a3f5f"
            },
            "marker": {
             "line": {
              "color": "#E5ECF6",
              "width": 0.5
             },
             "pattern": {
              "fillmode": "overlay",
              "size": 10,
              "solidity": 0.2
             }
            },
            "type": "bar"
           }
          ],
          "barpolar": [
           {
            "marker": {
             "line": {
              "color": "#E5ECF6",
              "width": 0.5
             },
             "pattern": {
              "fillmode": "overlay",
              "size": 10,
              "solidity": 0.2
             }
            },
            "type": "barpolar"
           }
          ],
          "carpet": [
           {
            "aaxis": {
             "endlinecolor": "#2a3f5f",
             "gridcolor": "white",
             "linecolor": "white",
             "minorgridcolor": "white",
             "startlinecolor": "#2a3f5f"
            },
            "baxis": {
             "endlinecolor": "#2a3f5f",
             "gridcolor": "white",
             "linecolor": "white",
             "minorgridcolor": "white",
             "startlinecolor": "#2a3f5f"
            },
            "type": "carpet"
           }
          ],
          "choropleth": [
           {
            "colorbar": {
             "outlinewidth": 0,
             "ticks": ""
            },
            "type": "choropleth"
           }
          ],
          "contour": [
           {
            "colorbar": {
             "outlinewidth": 0,
             "ticks": ""
            },
            "colorscale": [
             [
              0,
              "#0d0887"
             ],
             [
              0.1111111111111111,
              "#46039f"
             ],
             [
              0.2222222222222222,
              "#7201a8"
             ],
             [
              0.3333333333333333,
              "#9c179e"
             ],
             [
              0.4444444444444444,
              "#bd3786"
             ],
             [
              0.5555555555555556,
              "#d8576b"
             ],
             [
              0.6666666666666666,
              "#ed7953"
             ],
             [
              0.7777777777777778,
              "#fb9f3a"
             ],
             [
              0.8888888888888888,
              "#fdca26"
             ],
             [
              1,
              "#f0f921"
             ]
            ],
            "type": "contour"
           }
          ],
          "contourcarpet": [
           {
            "colorbar": {
             "outlinewidth": 0,
             "ticks": ""
            },
            "type": "contourcarpet"
           }
          ],
          "heatmap": [
           {
            "colorbar": {
             "outlinewidth": 0,
             "ticks": ""
            },
            "colorscale": [
             [
              0,
              "#0d0887"
             ],
             [
              0.1111111111111111,
              "#46039f"
             ],
             [
              0.2222222222222222,
              "#7201a8"
             ],
             [
              0.3333333333333333,
              "#9c179e"
             ],
             [
              0.4444444444444444,
              "#bd3786"
             ],
             [
              0.5555555555555556,
              "#d8576b"
             ],
             [
              0.6666666666666666,
              "#ed7953"
             ],
             [
              0.7777777777777778,
              "#fb9f3a"
             ],
             [
              0.8888888888888888,
              "#fdca26"
             ],
             [
              1,
              "#f0f921"
             ]
            ],
            "type": "heatmap"
           }
          ],
          "heatmapgl": [
           {
            "colorbar": {
             "outlinewidth": 0,
             "ticks": ""
            },
            "colorscale": [
             [
              0,
              "#0d0887"
             ],
             [
              0.1111111111111111,
              "#46039f"
             ],
             [
              0.2222222222222222,
              "#7201a8"
             ],
             [
              0.3333333333333333,
              "#9c179e"
             ],
             [
              0.4444444444444444,
              "#bd3786"
             ],
             [
              0.5555555555555556,
              "#d8576b"
             ],
             [
              0.6666666666666666,
              "#ed7953"
             ],
             [
              0.7777777777777778,
              "#fb9f3a"
             ],
             [
              0.8888888888888888,
              "#fdca26"
             ],
             [
              1,
              "#f0f921"
             ]
            ],
            "type": "heatmapgl"
           }
          ],
          "histogram": [
           {
            "marker": {
             "pattern": {
              "fillmode": "overlay",
              "size": 10,
              "solidity": 0.2
             }
            },
            "type": "histogram"
           }
          ],
          "histogram2d": [
           {
            "colorbar": {
             "outlinewidth": 0,
             "ticks": ""
            },
            "colorscale": [
             [
              0,
              "#0d0887"
             ],
             [
              0.1111111111111111,
              "#46039f"
             ],
             [
              0.2222222222222222,
              "#7201a8"
             ],
             [
              0.3333333333333333,
              "#9c179e"
             ],
             [
              0.4444444444444444,
              "#bd3786"
             ],
             [
              0.5555555555555556,
              "#d8576b"
             ],
             [
              0.6666666666666666,
              "#ed7953"
             ],
             [
              0.7777777777777778,
              "#fb9f3a"
             ],
             [
              0.8888888888888888,
              "#fdca26"
             ],
             [
              1,
              "#f0f921"
             ]
            ],
            "type": "histogram2d"
           }
          ],
          "histogram2dcontour": [
           {
            "colorbar": {
             "outlinewidth": 0,
             "ticks": ""
            },
            "colorscale": [
             [
              0,
              "#0d0887"
             ],
             [
              0.1111111111111111,
              "#46039f"
             ],
             [
              0.2222222222222222,
              "#7201a8"
             ],
             [
              0.3333333333333333,
              "#9c179e"
             ],
             [
              0.4444444444444444,
              "#bd3786"
             ],
             [
              0.5555555555555556,
              "#d8576b"
             ],
             [
              0.6666666666666666,
              "#ed7953"
             ],
             [
              0.7777777777777778,
              "#fb9f3a"
             ],
             [
              0.8888888888888888,
              "#fdca26"
             ],
             [
              1,
              "#f0f921"
             ]
            ],
            "type": "histogram2dcontour"
           }
          ],
          "mesh3d": [
           {
            "colorbar": {
             "outlinewidth": 0,
             "ticks": ""
            },
            "type": "mesh3d"
           }
          ],
          "parcoords": [
           {
            "line": {
             "colorbar": {
              "outlinewidth": 0,
              "ticks": ""
             }
            },
            "type": "parcoords"
           }
          ],
          "pie": [
           {
            "automargin": true,
            "type": "pie"
           }
          ],
          "scatter": [
           {
            "fillpattern": {
             "fillmode": "overlay",
             "size": 10,
             "solidity": 0.2
            },
            "type": "scatter"
           }
          ],
          "scatter3d": [
           {
            "line": {
             "colorbar": {
              "outlinewidth": 0,
              "ticks": ""
             }
            },
            "marker": {
             "colorbar": {
              "outlinewidth": 0,
              "ticks": ""
             }
            },
            "type": "scatter3d"
           }
          ],
          "scattercarpet": [
           {
            "marker": {
             "colorbar": {
              "outlinewidth": 0,
              "ticks": ""
             }
            },
            "type": "scattercarpet"
           }
          ],
          "scattergeo": [
           {
            "marker": {
             "colorbar": {
              "outlinewidth": 0,
              "ticks": ""
             }
            },
            "type": "scattergeo"
           }
          ],
          "scattergl": [
           {
            "marker": {
             "colorbar": {
              "outlinewidth": 0,
              "ticks": ""
             }
            },
            "type": "scattergl"
           }
          ],
          "scattermapbox": [
           {
            "marker": {
             "colorbar": {
              "outlinewidth": 0,
              "ticks": ""
             }
            },
            "type": "scattermapbox"
           }
          ],
          "scatterpolar": [
           {
            "marker": {
             "colorbar": {
              "outlinewidth": 0,
              "ticks": ""
             }
            },
            "type": "scatterpolar"
           }
          ],
          "scatterpolargl": [
           {
            "marker": {
             "colorbar": {
              "outlinewidth": 0,
              "ticks": ""
             }
            },
            "type": "scatterpolargl"
           }
          ],
          "scatterternary": [
           {
            "marker": {
             "colorbar": {
              "outlinewidth": 0,
              "ticks": ""
             }
            },
            "type": "scatterternary"
           }
          ],
          "surface": [
           {
            "colorbar": {
             "outlinewidth": 0,
             "ticks": ""
            },
            "colorscale": [
             [
              0,
              "#0d0887"
             ],
             [
              0.1111111111111111,
              "#46039f"
             ],
             [
              0.2222222222222222,
              "#7201a8"
             ],
             [
              0.3333333333333333,
              "#9c179e"
             ],
             [
              0.4444444444444444,
              "#bd3786"
             ],
             [
              0.5555555555555556,
              "#d8576b"
             ],
             [
              0.6666666666666666,
              "#ed7953"
             ],
             [
              0.7777777777777778,
              "#fb9f3a"
             ],
             [
              0.8888888888888888,
              "#fdca26"
             ],
             [
              1,
              "#f0f921"
             ]
            ],
            "type": "surface"
           }
          ],
          "table": [
           {
            "cells": {
             "fill": {
              "color": "#EBF0F8"
             },
             "line": {
              "color": "white"
             }
            },
            "header": {
             "fill": {
              "color": "#C8D4E3"
             },
             "line": {
              "color": "white"
             }
            },
            "type": "table"
           }
          ]
         },
         "layout": {
          "annotationdefaults": {
           "arrowcolor": "#2a3f5f",
           "arrowhead": 0,
           "arrowwidth": 1
          },
          "autotypenumbers": "strict",
          "coloraxis": {
           "colorbar": {
            "outlinewidth": 0,
            "ticks": ""
           }
          },
          "colorscale": {
           "diverging": [
            [
             0,
             "#8e0152"
            ],
            [
             0.1,
             "#c51b7d"
            ],
            [
             0.2,
             "#de77ae"
            ],
            [
             0.3,
             "#f1b6da"
            ],
            [
             0.4,
             "#fde0ef"
            ],
            [
             0.5,
             "#f7f7f7"
            ],
            [
             0.6,
             "#e6f5d0"
            ],
            [
             0.7,
             "#b8e186"
            ],
            [
             0.8,
             "#7fbc41"
            ],
            [
             0.9,
             "#4d9221"
            ],
            [
             1,
             "#276419"
            ]
           ],
           "sequential": [
            [
             0,
             "#0d0887"
            ],
            [
             0.1111111111111111,
             "#46039f"
            ],
            [
             0.2222222222222222,
             "#7201a8"
            ],
            [
             0.3333333333333333,
             "#9c179e"
            ],
            [
             0.4444444444444444,
             "#bd3786"
            ],
            [
             0.5555555555555556,
             "#d8576b"
            ],
            [
             0.6666666666666666,
             "#ed7953"
            ],
            [
             0.7777777777777778,
             "#fb9f3a"
            ],
            [
             0.8888888888888888,
             "#fdca26"
            ],
            [
             1,
             "#f0f921"
            ]
           ],
           "sequentialminus": [
            [
             0,
             "#0d0887"
            ],
            [
             0.1111111111111111,
             "#46039f"
            ],
            [
             0.2222222222222222,
             "#7201a8"
            ],
            [
             0.3333333333333333,
             "#9c179e"
            ],
            [
             0.4444444444444444,
             "#bd3786"
            ],
            [
             0.5555555555555556,
             "#d8576b"
            ],
            [
             0.6666666666666666,
             "#ed7953"
            ],
            [
             0.7777777777777778,
             "#fb9f3a"
            ],
            [
             0.8888888888888888,
             "#fdca26"
            ],
            [
             1,
             "#f0f921"
            ]
           ]
          },
          "colorway": [
           "#636efa",
           "#EF553B",
           "#00cc96",
           "#ab63fa",
           "#FFA15A",
           "#19d3f3",
           "#FF6692",
           "#B6E880",
           "#FF97FF",
           "#FECB52"
          ],
          "font": {
           "color": "#2a3f5f"
          },
          "geo": {
           "bgcolor": "white",
           "lakecolor": "white",
           "landcolor": "#E5ECF6",
           "showlakes": true,
           "showland": true,
           "subunitcolor": "white"
          },
          "hoverlabel": {
           "align": "left"
          },
          "hovermode": "closest",
          "mapbox": {
           "style": "light"
          },
          "paper_bgcolor": "white",
          "plot_bgcolor": "#E5ECF6",
          "polar": {
           "angularaxis": {
            "gridcolor": "white",
            "linecolor": "white",
            "ticks": ""
           },
           "bgcolor": "#E5ECF6",
           "radialaxis": {
            "gridcolor": "white",
            "linecolor": "white",
            "ticks": ""
           }
          },
          "scene": {
           "xaxis": {
            "backgroundcolor": "#E5ECF6",
            "gridcolor": "white",
            "gridwidth": 2,
            "linecolor": "white",
            "showbackground": true,
            "ticks": "",
            "zerolinecolor": "white"
           },
           "yaxis": {
            "backgroundcolor": "#E5ECF6",
            "gridcolor": "white",
            "gridwidth": 2,
            "linecolor": "white",
            "showbackground": true,
            "ticks": "",
            "zerolinecolor": "white"
           },
           "zaxis": {
            "backgroundcolor": "#E5ECF6",
            "gridcolor": "white",
            "gridwidth": 2,
            "linecolor": "white",
            "showbackground": true,
            "ticks": "",
            "zerolinecolor": "white"
           }
          },
          "shapedefaults": {
           "line": {
            "color": "#2a3f5f"
           }
          },
          "ternary": {
           "aaxis": {
            "gridcolor": "white",
            "linecolor": "white",
            "ticks": ""
           },
           "baxis": {
            "gridcolor": "white",
            "linecolor": "white",
            "ticks": ""
           },
           "bgcolor": "#E5ECF6",
           "caxis": {
            "gridcolor": "white",
            "linecolor": "white",
            "ticks": ""
           }
          },
          "title": {
           "x": 0.05
          },
          "xaxis": {
           "automargin": true,
           "gridcolor": "white",
           "linecolor": "white",
           "ticks": "",
           "title": {
            "standoff": 15
           },
           "zerolinecolor": "white",
           "zerolinewidth": 2
          },
          "yaxis": {
           "automargin": true,
           "gridcolor": "white",
           "linecolor": "white",
           "ticks": "",
           "title": {
            "standoff": 15
           },
           "zerolinecolor": "white",
           "zerolinewidth": 2
          }
         }
        },
        "xaxis": {
         "anchor": "y",
         "constrain": "domain",
         "domain": [
          0,
          1
         ],
         "scaleanchor": "y",
         "title": {
          "text": "Current Season Stats"
         }
        },
        "yaxis": {
         "anchor": "x",
         "autorange": "reversed",
         "constrain": "domain",
         "domain": [
          0,
          1
         ],
         "title": {
          "text": "Previous Season Stats"
         }
        }
       }
      },
      "text/html": [
       "<div>                            <div id=\"ec7ebaf2-8477-49eb-8ff1-5a8f12109b7a\" class=\"plotly-graph-div\" style=\"height:525px; width:100%;\"></div>            <script type=\"text/javascript\">                require([\"plotly\"], function(Plotly) {                    window.PLOTLYENV=window.PLOTLYENV || {};                                    if (document.getElementById(\"ec7ebaf2-8477-49eb-8ff1-5a8f12109b7a\")) {                    Plotly.newPlot(                        \"ec7ebaf2-8477-49eb-8ff1-5a8f12109b7a\",                        [{\"coloraxis\":\"coloraxis\",\"name\":\"0\",\"texttemplate\":\"%{z}\",\"x\":[\"fantasy_points_per_game\",\"fantasy_points\",\"passing_yards\",\"max_air_distance_mean\",\"completions\",\"passing_attempts\"],\"y\":[\"fantasy_points_last_per_game\",\"fantasy_points_last\",\"passing_yards_last\",\"max_air_distance_mean_last\",\"completions_last\",\"passing_attempts_last\"],\"z\":[[0.44,0.38,0.08,0.21,0.05,0.01],[0.48,0.52,0.31,0.24,0.31,0.27],[0.12,0.22,0.52,0.11,0.56,0.55],[0.25,0.27,0.17,0.5,0.13,0.19],[0.04,0.13,0.43,0.04,0.55,0.53],[0.03,0.12,0.39,0.02,0.5,0.52]],\"type\":\"heatmap\",\"xaxis\":\"x\",\"yaxis\":\"y\",\"hovertemplate\":\"Current Season Stats: %{x}\\u003cbr\\u003ePrevious Season Stats: %{y}\\u003cbr\\u003ecolor: %{z}\\u003cextra\\u003e\\u003c\\u002fextra\\u003e\"}],                        {\"template\":{\"data\":{\"histogram2dcontour\":[{\"type\":\"histogram2dcontour\",\"colorbar\":{\"outlinewidth\":0,\"ticks\":\"\"},\"colorscale\":[[0.0,\"#0d0887\"],[0.1111111111111111,\"#46039f\"],[0.2222222222222222,\"#7201a8\"],[0.3333333333333333,\"#9c179e\"],[0.4444444444444444,\"#bd3786\"],[0.5555555555555556,\"#d8576b\"],[0.6666666666666666,\"#ed7953\"],[0.7777777777777778,\"#fb9f3a\"],[0.8888888888888888,\"#fdca26\"],[1.0,\"#f0f921\"]]}],\"choropleth\":[{\"type\":\"choropleth\",\"colorbar\":{\"outlinewidth\":0,\"ticks\":\"\"}}],\"histogram2d\":[{\"type\":\"histogram2d\",\"colorbar\":{\"outlinewidth\":0,\"ticks\":\"\"},\"colorscale\":[[0.0,\"#0d0887\"],[0.1111111111111111,\"#46039f\"],[0.2222222222222222,\"#7201a8\"],[0.3333333333333333,\"#9c179e\"],[0.4444444444444444,\"#bd3786\"],[0.5555555555555556,\"#d8576b\"],[0.6666666666666666,\"#ed7953\"],[0.7777777777777778,\"#fb9f3a\"],[0.8888888888888888,\"#fdca26\"],[1.0,\"#f0f921\"]]}],\"heatmap\":[{\"type\":\"heatmap\",\"colorbar\":{\"outlinewidth\":0,\"ticks\":\"\"},\"colorscale\":[[0.0,\"#0d0887\"],[0.1111111111111111,\"#46039f\"],[0.2222222222222222,\"#7201a8\"],[0.3333333333333333,\"#9c179e\"],[0.4444444444444444,\"#bd3786\"],[0.5555555555555556,\"#d8576b\"],[0.6666666666666666,\"#ed7953\"],[0.7777777777777778,\"#fb9f3a\"],[0.8888888888888888,\"#fdca26\"],[1.0,\"#f0f921\"]]}],\"heatmapgl\":[{\"type\":\"heatmapgl\",\"colorbar\":{\"outlinewidth\":0,\"ticks\":\"\"},\"colorscale\":[[0.0,\"#0d0887\"],[0.1111111111111111,\"#46039f\"],[0.2222222222222222,\"#7201a8\"],[0.3333333333333333,\"#9c179e\"],[0.4444444444444444,\"#bd3786\"],[0.5555555555555556,\"#d8576b\"],[0.6666666666666666,\"#ed7953\"],[0.7777777777777778,\"#fb9f3a\"],[0.8888888888888888,\"#fdca26\"],[1.0,\"#f0f921\"]]}],\"contourcarpet\":[{\"type\":\"contourcarpet\",\"colorbar\":{\"outlinewidth\":0,\"ticks\":\"\"}}],\"contour\":[{\"type\":\"contour\",\"colorbar\":{\"outlinewidth\":0,\"ticks\":\"\"},\"colorscale\":[[0.0,\"#0d0887\"],[0.1111111111111111,\"#46039f\"],[0.2222222222222222,\"#7201a8\"],[0.3333333333333333,\"#9c179e\"],[0.4444444444444444,\"#bd3786\"],[0.5555555555555556,\"#d8576b\"],[0.6666666666666666,\"#ed7953\"],[0.7777777777777778,\"#fb9f3a\"],[0.8888888888888888,\"#fdca26\"],[1.0,\"#f0f921\"]]}],\"surface\":[{\"type\":\"surface\",\"colorbar\":{\"outlinewidth\":0,\"ticks\":\"\"},\"colorscale\":[[0.0,\"#0d0887\"],[0.1111111111111111,\"#46039f\"],[0.2222222222222222,\"#7201a8\"],[0.3333333333333333,\"#9c179e\"],[0.4444444444444444,\"#bd3786\"],[0.5555555555555556,\"#d8576b\"],[0.6666666666666666,\"#ed7953\"],[0.7777777777777778,\"#fb9f3a\"],[0.8888888888888888,\"#fdca26\"],[1.0,\"#f0f921\"]]}],\"mesh3d\":[{\"type\":\"mesh3d\",\"colorbar\":{\"outlinewidth\":0,\"ticks\":\"\"}}],\"scatter\":[{\"fillpattern\":{\"fillmode\":\"overlay\",\"size\":10,\"solidity\":0.2},\"type\":\"scatter\"}],\"parcoords\":[{\"type\":\"parcoords\",\"line\":{\"colorbar\":{\"outlinewidth\":0,\"ticks\":\"\"}}}],\"scatterpolargl\":[{\"type\":\"scatterpolargl\",\"marker\":{\"colorbar\":{\"outlinewidth\":0,\"ticks\":\"\"}}}],\"bar\":[{\"error_x\":{\"color\":\"#2a3f5f\"},\"error_y\":{\"color\":\"#2a3f5f\"},\"marker\":{\"line\":{\"color\":\"#E5ECF6\",\"width\":0.5},\"pattern\":{\"fillmode\":\"overlay\",\"size\":10,\"solidity\":0.2}},\"type\":\"bar\"}],\"scattergeo\":[{\"type\":\"scattergeo\",\"marker\":{\"colorbar\":{\"outlinewidth\":0,\"ticks\":\"\"}}}],\"scatterpolar\":[{\"type\":\"scatterpolar\",\"marker\":{\"colorbar\":{\"outlinewidth\":0,\"ticks\":\"\"}}}],\"histogram\":[{\"marker\":{\"pattern\":{\"fillmode\":\"overlay\",\"size\":10,\"solidity\":0.2}},\"type\":\"histogram\"}],\"scattergl\":[{\"type\":\"scattergl\",\"marker\":{\"colorbar\":{\"outlinewidth\":0,\"ticks\":\"\"}}}],\"scatter3d\":[{\"type\":\"scatter3d\",\"line\":{\"colorbar\":{\"outlinewidth\":0,\"ticks\":\"\"}},\"marker\":{\"colorbar\":{\"outlinewidth\":0,\"ticks\":\"\"}}}],\"scattermapbox\":[{\"type\":\"scattermapbox\",\"marker\":{\"colorbar\":{\"outlinewidth\":0,\"ticks\":\"\"}}}],\"scatterternary\":[{\"type\":\"scatterternary\",\"marker\":{\"colorbar\":{\"outlinewidth\":0,\"ticks\":\"\"}}}],\"scattercarpet\":[{\"type\":\"scattercarpet\",\"marker\":{\"colorbar\":{\"outlinewidth\":0,\"ticks\":\"\"}}}],\"carpet\":[{\"aaxis\":{\"endlinecolor\":\"#2a3f5f\",\"gridcolor\":\"white\",\"linecolor\":\"white\",\"minorgridcolor\":\"white\",\"startlinecolor\":\"#2a3f5f\"},\"baxis\":{\"endlinecolor\":\"#2a3f5f\",\"gridcolor\":\"white\",\"linecolor\":\"white\",\"minorgridcolor\":\"white\",\"startlinecolor\":\"#2a3f5f\"},\"type\":\"carpet\"}],\"table\":[{\"cells\":{\"fill\":{\"color\":\"#EBF0F8\"},\"line\":{\"color\":\"white\"}},\"header\":{\"fill\":{\"color\":\"#C8D4E3\"},\"line\":{\"color\":\"white\"}},\"type\":\"table\"}],\"barpolar\":[{\"marker\":{\"line\":{\"color\":\"#E5ECF6\",\"width\":0.5},\"pattern\":{\"fillmode\":\"overlay\",\"size\":10,\"solidity\":0.2}},\"type\":\"barpolar\"}],\"pie\":[{\"automargin\":true,\"type\":\"pie\"}]},\"layout\":{\"autotypenumbers\":\"strict\",\"colorway\":[\"#636efa\",\"#EF553B\",\"#00cc96\",\"#ab63fa\",\"#FFA15A\",\"#19d3f3\",\"#FF6692\",\"#B6E880\",\"#FF97FF\",\"#FECB52\"],\"font\":{\"color\":\"#2a3f5f\"},\"hovermode\":\"closest\",\"hoverlabel\":{\"align\":\"left\"},\"paper_bgcolor\":\"white\",\"plot_bgcolor\":\"#E5ECF6\",\"polar\":{\"bgcolor\":\"#E5ECF6\",\"angularaxis\":{\"gridcolor\":\"white\",\"linecolor\":\"white\",\"ticks\":\"\"},\"radialaxis\":{\"gridcolor\":\"white\",\"linecolor\":\"white\",\"ticks\":\"\"}},\"ternary\":{\"bgcolor\":\"#E5ECF6\",\"aaxis\":{\"gridcolor\":\"white\",\"linecolor\":\"white\",\"ticks\":\"\"},\"baxis\":{\"gridcolor\":\"white\",\"linecolor\":\"white\",\"ticks\":\"\"},\"caxis\":{\"gridcolor\":\"white\",\"linecolor\":\"white\",\"ticks\":\"\"}},\"coloraxis\":{\"colorbar\":{\"outlinewidth\":0,\"ticks\":\"\"}},\"colorscale\":{\"sequential\":[[0.0,\"#0d0887\"],[0.1111111111111111,\"#46039f\"],[0.2222222222222222,\"#7201a8\"],[0.3333333333333333,\"#9c179e\"],[0.4444444444444444,\"#bd3786\"],[0.5555555555555556,\"#d8576b\"],[0.6666666666666666,\"#ed7953\"],[0.7777777777777778,\"#fb9f3a\"],[0.8888888888888888,\"#fdca26\"],[1.0,\"#f0f921\"]],\"sequentialminus\":[[0.0,\"#0d0887\"],[0.1111111111111111,\"#46039f\"],[0.2222222222222222,\"#7201a8\"],[0.3333333333333333,\"#9c179e\"],[0.4444444444444444,\"#bd3786\"],[0.5555555555555556,\"#d8576b\"],[0.6666666666666666,\"#ed7953\"],[0.7777777777777778,\"#fb9f3a\"],[0.8888888888888888,\"#fdca26\"],[1.0,\"#f0f921\"]],\"diverging\":[[0,\"#8e0152\"],[0.1,\"#c51b7d\"],[0.2,\"#de77ae\"],[0.3,\"#f1b6da\"],[0.4,\"#fde0ef\"],[0.5,\"#f7f7f7\"],[0.6,\"#e6f5d0\"],[0.7,\"#b8e186\"],[0.8,\"#7fbc41\"],[0.9,\"#4d9221\"],[1,\"#276419\"]]},\"xaxis\":{\"gridcolor\":\"white\",\"linecolor\":\"white\",\"ticks\":\"\",\"title\":{\"standoff\":15},\"zerolinecolor\":\"white\",\"automargin\":true,\"zerolinewidth\":2},\"yaxis\":{\"gridcolor\":\"white\",\"linecolor\":\"white\",\"ticks\":\"\",\"title\":{\"standoff\":15},\"zerolinecolor\":\"white\",\"automargin\":true,\"zerolinewidth\":2},\"scene\":{\"xaxis\":{\"backgroundcolor\":\"#E5ECF6\",\"gridcolor\":\"white\",\"linecolor\":\"white\",\"showbackground\":true,\"ticks\":\"\",\"zerolinecolor\":\"white\",\"gridwidth\":2},\"yaxis\":{\"backgroundcolor\":\"#E5ECF6\",\"gridcolor\":\"white\",\"linecolor\":\"white\",\"showbackground\":true,\"ticks\":\"\",\"zerolinecolor\":\"white\",\"gridwidth\":2},\"zaxis\":{\"backgroundcolor\":\"#E5ECF6\",\"gridcolor\":\"white\",\"linecolor\":\"white\",\"showbackground\":true,\"ticks\":\"\",\"zerolinecolor\":\"white\",\"gridwidth\":2}},\"shapedefaults\":{\"line\":{\"color\":\"#2a3f5f\"}},\"annotationdefaults\":{\"arrowcolor\":\"#2a3f5f\",\"arrowhead\":0,\"arrowwidth\":1},\"geo\":{\"bgcolor\":\"white\",\"landcolor\":\"#E5ECF6\",\"subunitcolor\":\"white\",\"showland\":true,\"showlakes\":true,\"lakecolor\":\"white\"},\"title\":{\"x\":0.05},\"mapbox\":{\"style\":\"light\"}}},\"xaxis\":{\"anchor\":\"y\",\"domain\":[0.0,1.0],\"scaleanchor\":\"y\",\"constrain\":\"domain\",\"title\":{\"text\":\"Current Season Stats\"}},\"yaxis\":{\"anchor\":\"x\",\"domain\":[0.0,1.0],\"autorange\":\"reversed\",\"constrain\":\"domain\",\"title\":{\"text\":\"Previous Season Stats\"}},\"coloraxis\":{\"colorscale\":[[0.0,\"#0d0887\"],[0.1111111111111111,\"#46039f\"],[0.2222222222222222,\"#7201a8\"],[0.3333333333333333,\"#9c179e\"],[0.4444444444444444,\"#bd3786\"],[0.5555555555555556,\"#d8576b\"],[0.6666666666666666,\"#ed7953\"],[0.7777777777777778,\"#fb9f3a\"],[0.8888888888888888,\"#fdca26\"],[1.0,\"#f0f921\"]]},\"margin\":{\"t\":60}},                        {\"responsive\": true}                    ).then(function(){\n",
       "                            \n",
       "var gd = document.getElementById('ec7ebaf2-8477-49eb-8ff1-5a8f12109b7a');\n",
       "var x = new MutationObserver(function (mutations, observer) {{\n",
       "        var display = window.getComputedStyle(gd).display;\n",
       "        if (!display || display === 'none') {{\n",
       "            console.log([gd, 'removed!']);\n",
       "            Plotly.purge(gd);\n",
       "            observer.disconnect();\n",
       "        }}\n",
       "}});\n",
       "\n",
       "// Listen for the removal of the full notebook cells\n",
       "var notebookContainer = gd.closest('#notebook-container');\n",
       "if (notebookContainer) {{\n",
       "    x.observe(notebookContainer, {childList: true});\n",
       "}}\n",
       "\n",
       "// Listen for the clearing of the current output cell\n",
       "var outputEl = gd.closest('.output');\n",
       "if (outputEl) {{\n",
       "    x.observe(outputEl, {childList: true});\n",
       "}}\n",
       "\n",
       "                        })                };                });            </script>        </div>"
      ]
     },
     "metadata": {},
     "output_type": "display_data"
    },
    {
     "name": "stdout",
     "output_type": "stream",
     "text": [
      "completions completions\n"
     ]
    },
    {
     "data": {
      "application/vnd.plotly.v1+json": {
       "config": {
        "plotlyServerURL": "https://plot.ly"
       },
       "data": [
        {
         "customdata": [
          [
           "T.Brady",
           2018,
           41
          ],
          [
           "T.Brady",
           2019,
           42
          ],
          [
           "T.Brady",
           2020,
           43
          ],
          [
           "T.Brady",
           2021,
           44
          ],
          [
           "T.Brady",
           2022,
           45
          ],
          [
           "D.Brees",
           2017,
           38
          ],
          [
           "D.Brees",
           2018,
           39
          ],
          [
           "E.Manning",
           2017,
           36
          ],
          [
           "E.Manning",
           2018,
           37
          ],
          [
           "B.Roethlisberger",
           2017,
           35
          ],
          [
           "B.Roethlisberger",
           2018,
           36
          ],
          [
           "B.Roethlisberger",
           2021,
           39
          ],
          [
           "P.Rivers",
           2017,
           35
          ],
          [
           "P.Rivers",
           2018,
           36
          ],
          [
           "P.Rivers",
           2019,
           37
          ],
          [
           "P.Rivers",
           2020,
           38
          ],
          [
           "A.Smith",
           2017,
           33
          ],
          [
           "A.Rodgers",
           2019,
           35
          ],
          [
           "A.Rodgers",
           2020,
           36
          ],
          [
           "A.Rodgers",
           2021,
           37
          ],
          [
           "A.Rodgers",
           2022,
           38
          ],
          [
           "M.Ryan",
           2017,
           32
          ],
          [
           "M.Ryan",
           2018,
           33
          ],
          [
           "M.Ryan",
           2019,
           34
          ],
          [
           "M.Ryan",
           2020,
           35
          ],
          [
           "M.Ryan",
           2021,
           36
          ],
          [
           "J.Flacco",
           2017,
           32
          ],
          [
           "M.Stafford",
           2017,
           29
          ],
          [
           "M.Stafford",
           2018,
           30
          ],
          [
           "M.Stafford",
           2021,
           33
          ],
          [
           "C.Newton",
           2017,
           28
          ],
          [
           "C.Newton",
           2018,
           29
          ],
          [
           "A.Dalton",
           2017,
           29
          ],
          [
           "T.Taylor",
           2017,
           28
          ],
          [
           "C.Keenum",
           2018,
           30
          ],
          [
           "R.Wilson",
           2017,
           28
          ],
          [
           "R.Wilson",
           2018,
           29
          ],
          [
           "R.Wilson",
           2019,
           30
          ],
          [
           "R.Wilson",
           2020,
           31
          ],
          [
           "R.Wilson",
           2021,
           32
          ],
          [
           "R.Wilson",
           2022,
           33
          ],
          [
           "K.Cousins",
           2017,
           29
          ],
          [
           "K.Cousins",
           2018,
           30
          ],
          [
           "K.Cousins",
           2019,
           31
          ],
          [
           "K.Cousins",
           2020,
           32
          ],
          [
           "K.Cousins",
           2021,
           33
          ],
          [
           "K.Cousins",
           2022,
           34
          ],
          [
           "R.Tannehill",
           2021,
           33
          ],
          [
           "T.Bridgewater",
           2021,
           28
          ],
          [
           "D.Carr",
           2017,
           26
          ],
          [
           "D.Carr",
           2018,
           27
          ],
          [
           "D.Carr",
           2019,
           28
          ],
          [
           "D.Carr",
           2020,
           29
          ],
          [
           "D.Carr",
           2021,
           30
          ],
          [
           "D.Carr",
           2022,
           31
          ],
          [
           "B.Bortles",
           2017,
           25
          ],
          [
           "B.Bortles",
           2018,
           26
          ],
          [
           "J.Winston",
           2017,
           23
          ],
          [
           "M.Mariota",
           2017,
           23
          ],
          [
           "M.Mariota",
           2018,
           24
          ],
          [
           "C.Wentz",
           2017,
           24
          ],
          [
           "D.Prescott",
           2017,
           24
          ],
          [
           "D.Prescott",
           2018,
           25
          ],
          [
           "D.Prescott",
           2019,
           26
          ],
          [
           "J.Goff",
           2018,
           23
          ],
          [
           "J.Goff",
           2019,
           24
          ],
          [
           "J.Goff",
           2020,
           25
          ],
          [
           "J.Goff",
           2021,
           26
          ],
          [
           "J.Goff",
           2022,
           27
          ],
          [
           "D.Watson",
           2019,
           23
          ],
          [
           "D.Watson",
           2020,
           24
          ],
          [
           "M.Trubisky",
           2019,
           25
          ],
          [
           "P.Mahomes",
           2019,
           23
          ],
          [
           "P.Mahomes",
           2020,
           24
          ],
          [
           "P.Mahomes",
           2021,
           25
          ],
          [
           "P.Mahomes",
           2022,
           26
          ],
          [
           "L.Jackson",
           2020,
           23
          ],
          [
           "B.Mayfield",
           2019,
           24
          ],
          [
           "B.Mayfield",
           2020,
           25
          ],
          [
           "B.Mayfield",
           2021,
           26
          ],
          [
           "J.Allen",
           2020,
           24
          ],
          [
           "J.Allen",
           2021,
           25
          ],
          [
           "J.Allen",
           2022,
           26
          ],
          [
           "S.Darnold",
           2019,
           22
          ],
          [
           "K.Murray",
           2020,
           23
          ],
          [
           "K.Murray",
           2021,
           24
          ],
          [
           "D.Jones",
           2020,
           23
          ],
          [
           "T.Tagovailoa",
           2022,
           24
          ],
          [
           "J.Herbert",
           2021,
           23
          ],
          [
           "J.Herbert",
           2022,
           24
          ],
          [
           "J.Hurts",
           2022,
           24
          ],
          [
           "J.Burrow",
           2022,
           25
          ],
          [
           "D.Mills",
           2022,
           23
          ],
          [
           "T.Lawrence",
           2022,
           22
          ],
          [
           "M.Jones",
           2022,
           23
          ]
         ],
         "hovertemplate": "completions=%{y}<br>passer=%{customdata[0]}<br>season=%{customdata[1]}<br>age=%{customdata[2]}<extra></extra>",
         "legendgroup": "",
         "marker": {
          "color": "#636efa",
          "symbol": "circle"
         },
         "mode": "markers",
         "name": "",
         "orientation": "v",
         "showlegend": false,
         "type": "scatter",
         "x": [
          375,
          373,
          401,
          485,
          490,
          386,
          364,
          352,
          380,
          360,
          452,
          390,
          360,
          347,
          390,
          369,
          341,
          353,
          372,
          366,
          350,
          342,
          422,
          408,
          407,
          375,
          352,
          371,
          367,
          404,
          291,
          320,
          297,
          263,
          365,
          339,
          280,
          341,
          384,
          259,
          292,
          347,
          425,
          307,
          349,
          372,
          423,
          357,
          285,
          323,
          381,
          361,
          348,
          428,
          305,
          315,
          243,
          282,
          281,
          228,
          265,
          308,
          356,
          388,
          364,
          394,
          370,
          332,
          382,
          333,
          382,
          326,
          319,
          390,
          436,
          435,
          242,
          317,
          305,
          253,
          396,
          409,
          359,
          273,
          375,
          333,
          280,
          259,
          443,
          477,
          306,
          414,
          292,
          387,
          288
         ],
         "xaxis": "x",
         "y": [
          375,
          373,
          401,
          485,
          490,
          386,
          364,
          352,
          380,
          360,
          452,
          390,
          360,
          347,
          390,
          369,
          341,
          353,
          372,
          366,
          350,
          342,
          422,
          408,
          407,
          375,
          352,
          371,
          367,
          404,
          291,
          320,
          297,
          263,
          365,
          339,
          280,
          341,
          384,
          259,
          292,
          347,
          425,
          307,
          349,
          372,
          423,
          357,
          285,
          323,
          381,
          361,
          348,
          428,
          305,
          315,
          243,
          282,
          281,
          228,
          265,
          308,
          356,
          388,
          364,
          394,
          370,
          332,
          382,
          333,
          382,
          326,
          319,
          390,
          436,
          435,
          242,
          317,
          305,
          253,
          396,
          409,
          359,
          273,
          375,
          333,
          280,
          259,
          443,
          477,
          306,
          414,
          292,
          387,
          288
         ],
         "yaxis": "y"
        }
       ],
       "layout": {
        "legend": {
         "tracegroupgap": 0
        },
        "margin": {
         "t": 60
        },
        "template": {
         "data": {
          "bar": [
           {
            "error_x": {
             "color": "#2a3f5f"
            },
            "error_y": {
             "color": "#2a3f5f"
            },
            "marker": {
             "line": {
              "color": "#E5ECF6",
              "width": 0.5
             },
             "pattern": {
              "fillmode": "overlay",
              "size": 10,
              "solidity": 0.2
             }
            },
            "type": "bar"
           }
          ],
          "barpolar": [
           {
            "marker": {
             "line": {
              "color": "#E5ECF6",
              "width": 0.5
             },
             "pattern": {
              "fillmode": "overlay",
              "size": 10,
              "solidity": 0.2
             }
            },
            "type": "barpolar"
           }
          ],
          "carpet": [
           {
            "aaxis": {
             "endlinecolor": "#2a3f5f",
             "gridcolor": "white",
             "linecolor": "white",
             "minorgridcolor": "white",
             "startlinecolor": "#2a3f5f"
            },
            "baxis": {
             "endlinecolor": "#2a3f5f",
             "gridcolor": "white",
             "linecolor": "white",
             "minorgridcolor": "white",
             "startlinecolor": "#2a3f5f"
            },
            "type": "carpet"
           }
          ],
          "choropleth": [
           {
            "colorbar": {
             "outlinewidth": 0,
             "ticks": ""
            },
            "type": "choropleth"
           }
          ],
          "contour": [
           {
            "colorbar": {
             "outlinewidth": 0,
             "ticks": ""
            },
            "colorscale": [
             [
              0,
              "#0d0887"
             ],
             [
              0.1111111111111111,
              "#46039f"
             ],
             [
              0.2222222222222222,
              "#7201a8"
             ],
             [
              0.3333333333333333,
              "#9c179e"
             ],
             [
              0.4444444444444444,
              "#bd3786"
             ],
             [
              0.5555555555555556,
              "#d8576b"
             ],
             [
              0.6666666666666666,
              "#ed7953"
             ],
             [
              0.7777777777777778,
              "#fb9f3a"
             ],
             [
              0.8888888888888888,
              "#fdca26"
             ],
             [
              1,
              "#f0f921"
             ]
            ],
            "type": "contour"
           }
          ],
          "contourcarpet": [
           {
            "colorbar": {
             "outlinewidth": 0,
             "ticks": ""
            },
            "type": "contourcarpet"
           }
          ],
          "heatmap": [
           {
            "colorbar": {
             "outlinewidth": 0,
             "ticks": ""
            },
            "colorscale": [
             [
              0,
              "#0d0887"
             ],
             [
              0.1111111111111111,
              "#46039f"
             ],
             [
              0.2222222222222222,
              "#7201a8"
             ],
             [
              0.3333333333333333,
              "#9c179e"
             ],
             [
              0.4444444444444444,
              "#bd3786"
             ],
             [
              0.5555555555555556,
              "#d8576b"
             ],
             [
              0.6666666666666666,
              "#ed7953"
             ],
             [
              0.7777777777777778,
              "#fb9f3a"
             ],
             [
              0.8888888888888888,
              "#fdca26"
             ],
             [
              1,
              "#f0f921"
             ]
            ],
            "type": "heatmap"
           }
          ],
          "heatmapgl": [
           {
            "colorbar": {
             "outlinewidth": 0,
             "ticks": ""
            },
            "colorscale": [
             [
              0,
              "#0d0887"
             ],
             [
              0.1111111111111111,
              "#46039f"
             ],
             [
              0.2222222222222222,
              "#7201a8"
             ],
             [
              0.3333333333333333,
              "#9c179e"
             ],
             [
              0.4444444444444444,
              "#bd3786"
             ],
             [
              0.5555555555555556,
              "#d8576b"
             ],
             [
              0.6666666666666666,
              "#ed7953"
             ],
             [
              0.7777777777777778,
              "#fb9f3a"
             ],
             [
              0.8888888888888888,
              "#fdca26"
             ],
             [
              1,
              "#f0f921"
             ]
            ],
            "type": "heatmapgl"
           }
          ],
          "histogram": [
           {
            "marker": {
             "pattern": {
              "fillmode": "overlay",
              "size": 10,
              "solidity": 0.2
             }
            },
            "type": "histogram"
           }
          ],
          "histogram2d": [
           {
            "colorbar": {
             "outlinewidth": 0,
             "ticks": ""
            },
            "colorscale": [
             [
              0,
              "#0d0887"
             ],
             [
              0.1111111111111111,
              "#46039f"
             ],
             [
              0.2222222222222222,
              "#7201a8"
             ],
             [
              0.3333333333333333,
              "#9c179e"
             ],
             [
              0.4444444444444444,
              "#bd3786"
             ],
             [
              0.5555555555555556,
              "#d8576b"
             ],
             [
              0.6666666666666666,
              "#ed7953"
             ],
             [
              0.7777777777777778,
              "#fb9f3a"
             ],
             [
              0.8888888888888888,
              "#fdca26"
             ],
             [
              1,
              "#f0f921"
             ]
            ],
            "type": "histogram2d"
           }
          ],
          "histogram2dcontour": [
           {
            "colorbar": {
             "outlinewidth": 0,
             "ticks": ""
            },
            "colorscale": [
             [
              0,
              "#0d0887"
             ],
             [
              0.1111111111111111,
              "#46039f"
             ],
             [
              0.2222222222222222,
              "#7201a8"
             ],
             [
              0.3333333333333333,
              "#9c179e"
             ],
             [
              0.4444444444444444,
              "#bd3786"
             ],
             [
              0.5555555555555556,
              "#d8576b"
             ],
             [
              0.6666666666666666,
              "#ed7953"
             ],
             [
              0.7777777777777778,
              "#fb9f3a"
             ],
             [
              0.8888888888888888,
              "#fdca26"
             ],
             [
              1,
              "#f0f921"
             ]
            ],
            "type": "histogram2dcontour"
           }
          ],
          "mesh3d": [
           {
            "colorbar": {
             "outlinewidth": 0,
             "ticks": ""
            },
            "type": "mesh3d"
           }
          ],
          "parcoords": [
           {
            "line": {
             "colorbar": {
              "outlinewidth": 0,
              "ticks": ""
             }
            },
            "type": "parcoords"
           }
          ],
          "pie": [
           {
            "automargin": true,
            "type": "pie"
           }
          ],
          "scatter": [
           {
            "fillpattern": {
             "fillmode": "overlay",
             "size": 10,
             "solidity": 0.2
            },
            "type": "scatter"
           }
          ],
          "scatter3d": [
           {
            "line": {
             "colorbar": {
              "outlinewidth": 0,
              "ticks": ""
             }
            },
            "marker": {
             "colorbar": {
              "outlinewidth": 0,
              "ticks": ""
             }
            },
            "type": "scatter3d"
           }
          ],
          "scattercarpet": [
           {
            "marker": {
             "colorbar": {
              "outlinewidth": 0,
              "ticks": ""
             }
            },
            "type": "scattercarpet"
           }
          ],
          "scattergeo": [
           {
            "marker": {
             "colorbar": {
              "outlinewidth": 0,
              "ticks": ""
             }
            },
            "type": "scattergeo"
           }
          ],
          "scattergl": [
           {
            "marker": {
             "colorbar": {
              "outlinewidth": 0,
              "ticks": ""
             }
            },
            "type": "scattergl"
           }
          ],
          "scattermapbox": [
           {
            "marker": {
             "colorbar": {
              "outlinewidth": 0,
              "ticks": ""
             }
            },
            "type": "scattermapbox"
           }
          ],
          "scatterpolar": [
           {
            "marker": {
             "colorbar": {
              "outlinewidth": 0,
              "ticks": ""
             }
            },
            "type": "scatterpolar"
           }
          ],
          "scatterpolargl": [
           {
            "marker": {
             "colorbar": {
              "outlinewidth": 0,
              "ticks": ""
             }
            },
            "type": "scatterpolargl"
           }
          ],
          "scatterternary": [
           {
            "marker": {
             "colorbar": {
              "outlinewidth": 0,
              "ticks": ""
             }
            },
            "type": "scatterternary"
           }
          ],
          "surface": [
           {
            "colorbar": {
             "outlinewidth": 0,
             "ticks": ""
            },
            "colorscale": [
             [
              0,
              "#0d0887"
             ],
             [
              0.1111111111111111,
              "#46039f"
             ],
             [
              0.2222222222222222,
              "#7201a8"
             ],
             [
              0.3333333333333333,
              "#9c179e"
             ],
             [
              0.4444444444444444,
              "#bd3786"
             ],
             [
              0.5555555555555556,
              "#d8576b"
             ],
             [
              0.6666666666666666,
              "#ed7953"
             ],
             [
              0.7777777777777778,
              "#fb9f3a"
             ],
             [
              0.8888888888888888,
              "#fdca26"
             ],
             [
              1,
              "#f0f921"
             ]
            ],
            "type": "surface"
           }
          ],
          "table": [
           {
            "cells": {
             "fill": {
              "color": "#EBF0F8"
             },
             "line": {
              "color": "white"
             }
            },
            "header": {
             "fill": {
              "color": "#C8D4E3"
             },
             "line": {
              "color": "white"
             }
            },
            "type": "table"
           }
          ]
         },
         "layout": {
          "annotationdefaults": {
           "arrowcolor": "#2a3f5f",
           "arrowhead": 0,
           "arrowwidth": 1
          },
          "autotypenumbers": "strict",
          "coloraxis": {
           "colorbar": {
            "outlinewidth": 0,
            "ticks": ""
           }
          },
          "colorscale": {
           "diverging": [
            [
             0,
             "#8e0152"
            ],
            [
             0.1,
             "#c51b7d"
            ],
            [
             0.2,
             "#de77ae"
            ],
            [
             0.3,
             "#f1b6da"
            ],
            [
             0.4,
             "#fde0ef"
            ],
            [
             0.5,
             "#f7f7f7"
            ],
            [
             0.6,
             "#e6f5d0"
            ],
            [
             0.7,
             "#b8e186"
            ],
            [
             0.8,
             "#7fbc41"
            ],
            [
             0.9,
             "#4d9221"
            ],
            [
             1,
             "#276419"
            ]
           ],
           "sequential": [
            [
             0,
             "#0d0887"
            ],
            [
             0.1111111111111111,
             "#46039f"
            ],
            [
             0.2222222222222222,
             "#7201a8"
            ],
            [
             0.3333333333333333,
             "#9c179e"
            ],
            [
             0.4444444444444444,
             "#bd3786"
            ],
            [
             0.5555555555555556,
             "#d8576b"
            ],
            [
             0.6666666666666666,
             "#ed7953"
            ],
            [
             0.7777777777777778,
             "#fb9f3a"
            ],
            [
             0.8888888888888888,
             "#fdca26"
            ],
            [
             1,
             "#f0f921"
            ]
           ],
           "sequentialminus": [
            [
             0,
             "#0d0887"
            ],
            [
             0.1111111111111111,
             "#46039f"
            ],
            [
             0.2222222222222222,
             "#7201a8"
            ],
            [
             0.3333333333333333,
             "#9c179e"
            ],
            [
             0.4444444444444444,
             "#bd3786"
            ],
            [
             0.5555555555555556,
             "#d8576b"
            ],
            [
             0.6666666666666666,
             "#ed7953"
            ],
            [
             0.7777777777777778,
             "#fb9f3a"
            ],
            [
             0.8888888888888888,
             "#fdca26"
            ],
            [
             1,
             "#f0f921"
            ]
           ]
          },
          "colorway": [
           "#636efa",
           "#EF553B",
           "#00cc96",
           "#ab63fa",
           "#FFA15A",
           "#19d3f3",
           "#FF6692",
           "#B6E880",
           "#FF97FF",
           "#FECB52"
          ],
          "font": {
           "color": "#2a3f5f"
          },
          "geo": {
           "bgcolor": "white",
           "lakecolor": "white",
           "landcolor": "#E5ECF6",
           "showlakes": true,
           "showland": true,
           "subunitcolor": "white"
          },
          "hoverlabel": {
           "align": "left"
          },
          "hovermode": "closest",
          "mapbox": {
           "style": "light"
          },
          "paper_bgcolor": "white",
          "plot_bgcolor": "#E5ECF6",
          "polar": {
           "angularaxis": {
            "gridcolor": "white",
            "linecolor": "white",
            "ticks": ""
           },
           "bgcolor": "#E5ECF6",
           "radialaxis": {
            "gridcolor": "white",
            "linecolor": "white",
            "ticks": ""
           }
          },
          "scene": {
           "xaxis": {
            "backgroundcolor": "#E5ECF6",
            "gridcolor": "white",
            "gridwidth": 2,
            "linecolor": "white",
            "showbackground": true,
            "ticks": "",
            "zerolinecolor": "white"
           },
           "yaxis": {
            "backgroundcolor": "#E5ECF6",
            "gridcolor": "white",
            "gridwidth": 2,
            "linecolor": "white",
            "showbackground": true,
            "ticks": "",
            "zerolinecolor": "white"
           },
           "zaxis": {
            "backgroundcolor": "#E5ECF6",
            "gridcolor": "white",
            "gridwidth": 2,
            "linecolor": "white",
            "showbackground": true,
            "ticks": "",
            "zerolinecolor": "white"
           }
          },
          "shapedefaults": {
           "line": {
            "color": "#2a3f5f"
           }
          },
          "ternary": {
           "aaxis": {
            "gridcolor": "white",
            "linecolor": "white",
            "ticks": ""
           },
           "baxis": {
            "gridcolor": "white",
            "linecolor": "white",
            "ticks": ""
           },
           "bgcolor": "#E5ECF6",
           "caxis": {
            "gridcolor": "white",
            "linecolor": "white",
            "ticks": ""
           }
          },
          "title": {
           "x": 0.05
          },
          "xaxis": {
           "automargin": true,
           "gridcolor": "white",
           "linecolor": "white",
           "ticks": "",
           "title": {
            "standoff": 15
           },
           "zerolinecolor": "white",
           "zerolinewidth": 2
          },
          "yaxis": {
           "automargin": true,
           "gridcolor": "white",
           "linecolor": "white",
           "ticks": "",
           "title": {
            "standoff": 15
           },
           "zerolinecolor": "white",
           "zerolinewidth": 2
          }
         }
        },
        "xaxis": {
         "anchor": "y",
         "domain": [
          0,
          1
         ],
         "title": {
          "text": "completions"
         }
        },
        "yaxis": {
         "anchor": "x",
         "domain": [
          0,
          1
         ],
         "title": {
          "text": "completions"
         }
        }
       }
      },
      "text/html": [
       "<div>                            <div id=\"def8f6e9-ee98-4a00-ac58-27134e2243f0\" class=\"plotly-graph-div\" style=\"height:525px; width:100%;\"></div>            <script type=\"text/javascript\">                require([\"plotly\"], function(Plotly) {                    window.PLOTLYENV=window.PLOTLYENV || {};                                    if (document.getElementById(\"def8f6e9-ee98-4a00-ac58-27134e2243f0\")) {                    Plotly.newPlot(                        \"def8f6e9-ee98-4a00-ac58-27134e2243f0\",                        [{\"customdata\":[[\"T.Brady\",2018,41.0],[\"T.Brady\",2019,42.0],[\"T.Brady\",2020,43.0],[\"T.Brady\",2021,44.0],[\"T.Brady\",2022,45.0],[\"D.Brees\",2017,38.0],[\"D.Brees\",2018,39.0],[\"E.Manning\",2017,36.0],[\"E.Manning\",2018,37.0],[\"B.Roethlisberger\",2017,35.0],[\"B.Roethlisberger\",2018,36.0],[\"B.Roethlisberger\",2021,39.0],[\"P.Rivers\",2017,35.0],[\"P.Rivers\",2018,36.0],[\"P.Rivers\",2019,37.0],[\"P.Rivers\",2020,38.0],[\"A.Smith\",2017,33.0],[\"A.Rodgers\",2019,35.0],[\"A.Rodgers\",2020,36.0],[\"A.Rodgers\",2021,37.0],[\"A.Rodgers\",2022,38.0],[\"M.Ryan\",2017,32.0],[\"M.Ryan\",2018,33.0],[\"M.Ryan\",2019,34.0],[\"M.Ryan\",2020,35.0],[\"M.Ryan\",2021,36.0],[\"J.Flacco\",2017,32.0],[\"M.Stafford\",2017,29.0],[\"M.Stafford\",2018,30.0],[\"M.Stafford\",2021,33.0],[\"C.Newton\",2017,28.0],[\"C.Newton\",2018,29.0],[\"A.Dalton\",2017,29.0],[\"T.Taylor\",2017,28.0],[\"C.Keenum\",2018,30.0],[\"R.Wilson\",2017,28.0],[\"R.Wilson\",2018,29.0],[\"R.Wilson\",2019,30.0],[\"R.Wilson\",2020,31.0],[\"R.Wilson\",2021,32.0],[\"R.Wilson\",2022,33.0],[\"K.Cousins\",2017,29.0],[\"K.Cousins\",2018,30.0],[\"K.Cousins\",2019,31.0],[\"K.Cousins\",2020,32.0],[\"K.Cousins\",2021,33.0],[\"K.Cousins\",2022,34.0],[\"R.Tannehill\",2021,33.0],[\"T.Bridgewater\",2021,28.0],[\"D.Carr\",2017,26.0],[\"D.Carr\",2018,27.0],[\"D.Carr\",2019,28.0],[\"D.Carr\",2020,29.0],[\"D.Carr\",2021,30.0],[\"D.Carr\",2022,31.0],[\"B.Bortles\",2017,25.0],[\"B.Bortles\",2018,26.0],[\"J.Winston\",2017,23.0],[\"M.Mariota\",2017,23.0],[\"M.Mariota\",2018,24.0],[\"C.Wentz\",2017,24.0],[\"D.Prescott\",2017,24.0],[\"D.Prescott\",2018,25.0],[\"D.Prescott\",2019,26.0],[\"J.Goff\",2018,23.0],[\"J.Goff\",2019,24.0],[\"J.Goff\",2020,25.0],[\"J.Goff\",2021,26.0],[\"J.Goff\",2022,27.0],[\"D.Watson\",2019,23.0],[\"D.Watson\",2020,24.0],[\"M.Trubisky\",2019,25.0],[\"P.Mahomes\",2019,23.0],[\"P.Mahomes\",2020,24.0],[\"P.Mahomes\",2021,25.0],[\"P.Mahomes\",2022,26.0],[\"L.Jackson\",2020,23.0],[\"B.Mayfield\",2019,24.0],[\"B.Mayfield\",2020,25.0],[\"B.Mayfield\",2021,26.0],[\"J.Allen\",2020,24.0],[\"J.Allen\",2021,25.0],[\"J.Allen\",2022,26.0],[\"S.Darnold\",2019,22.0],[\"K.Murray\",2020,23.0],[\"K.Murray\",2021,24.0],[\"D.Jones\",2020,23.0],[\"T.Tagovailoa\",2022,24.0],[\"J.Herbert\",2021,23.0],[\"J.Herbert\",2022,24.0],[\"J.Hurts\",2022,24.0],[\"J.Burrow\",2022,25.0],[\"D.Mills\",2022,23.0],[\"T.Lawrence\",2022,22.0],[\"M.Jones\",2022,23.0]],\"hovertemplate\":\"completions=%{y}\\u003cbr\\u003epasser=%{customdata[0]}\\u003cbr\\u003eseason=%{customdata[1]}\\u003cbr\\u003eage=%{customdata[2]}\\u003cextra\\u003e\\u003c\\u002fextra\\u003e\",\"legendgroup\":\"\",\"marker\":{\"color\":\"#636efa\",\"symbol\":\"circle\"},\"mode\":\"markers\",\"name\":\"\",\"orientation\":\"v\",\"showlegend\":false,\"x\":[375.0,373.0,401.0,485.0,490.0,386.0,364.0,352.0,380.0,360.0,452.0,390.0,360.0,347.0,390.0,369.0,341.0,353.0,372.0,366.0,350.0,342.0,422.0,408.0,407.0,375.0,352.0,371.0,367.0,404.0,291.0,320.0,297.0,263.0,365.0,339.0,280.0,341.0,384.0,259.0,292.0,347.0,425.0,307.0,349.0,372.0,423.0,357.0,285.0,323.0,381.0,361.0,348.0,428.0,305.0,315.0,243.0,282.0,281.0,228.0,265.0,308.0,356.0,388.0,364.0,394.0,370.0,332.0,382.0,333.0,382.0,326.0,319.0,390.0,436.0,435.0,242.0,317.0,305.0,253.0,396.0,409.0,359.0,273.0,375.0,333.0,280.0,259.0,443.0,477.0,306.0,414.0,292.0,387.0,288.0],\"xaxis\":\"x\",\"y\":[375.0,373.0,401.0,485.0,490.0,386.0,364.0,352.0,380.0,360.0,452.0,390.0,360.0,347.0,390.0,369.0,341.0,353.0,372.0,366.0,350.0,342.0,422.0,408.0,407.0,375.0,352.0,371.0,367.0,404.0,291.0,320.0,297.0,263.0,365.0,339.0,280.0,341.0,384.0,259.0,292.0,347.0,425.0,307.0,349.0,372.0,423.0,357.0,285.0,323.0,381.0,361.0,348.0,428.0,305.0,315.0,243.0,282.0,281.0,228.0,265.0,308.0,356.0,388.0,364.0,394.0,370.0,332.0,382.0,333.0,382.0,326.0,319.0,390.0,436.0,435.0,242.0,317.0,305.0,253.0,396.0,409.0,359.0,273.0,375.0,333.0,280.0,259.0,443.0,477.0,306.0,414.0,292.0,387.0,288.0],\"yaxis\":\"y\",\"type\":\"scatter\"}],                        {\"template\":{\"data\":{\"histogram2dcontour\":[{\"type\":\"histogram2dcontour\",\"colorbar\":{\"outlinewidth\":0,\"ticks\":\"\"},\"colorscale\":[[0.0,\"#0d0887\"],[0.1111111111111111,\"#46039f\"],[0.2222222222222222,\"#7201a8\"],[0.3333333333333333,\"#9c179e\"],[0.4444444444444444,\"#bd3786\"],[0.5555555555555556,\"#d8576b\"],[0.6666666666666666,\"#ed7953\"],[0.7777777777777778,\"#fb9f3a\"],[0.8888888888888888,\"#fdca26\"],[1.0,\"#f0f921\"]]}],\"choropleth\":[{\"type\":\"choropleth\",\"colorbar\":{\"outlinewidth\":0,\"ticks\":\"\"}}],\"histogram2d\":[{\"type\":\"histogram2d\",\"colorbar\":{\"outlinewidth\":0,\"ticks\":\"\"},\"colorscale\":[[0.0,\"#0d0887\"],[0.1111111111111111,\"#46039f\"],[0.2222222222222222,\"#7201a8\"],[0.3333333333333333,\"#9c179e\"],[0.4444444444444444,\"#bd3786\"],[0.5555555555555556,\"#d8576b\"],[0.6666666666666666,\"#ed7953\"],[0.7777777777777778,\"#fb9f3a\"],[0.8888888888888888,\"#fdca26\"],[1.0,\"#f0f921\"]]}],\"heatmap\":[{\"type\":\"heatmap\",\"colorbar\":{\"outlinewidth\":0,\"ticks\":\"\"},\"colorscale\":[[0.0,\"#0d0887\"],[0.1111111111111111,\"#46039f\"],[0.2222222222222222,\"#7201a8\"],[0.3333333333333333,\"#9c179e\"],[0.4444444444444444,\"#bd3786\"],[0.5555555555555556,\"#d8576b\"],[0.6666666666666666,\"#ed7953\"],[0.7777777777777778,\"#fb9f3a\"],[0.8888888888888888,\"#fdca26\"],[1.0,\"#f0f921\"]]}],\"heatmapgl\":[{\"type\":\"heatmapgl\",\"colorbar\":{\"outlinewidth\":0,\"ticks\":\"\"},\"colorscale\":[[0.0,\"#0d0887\"],[0.1111111111111111,\"#46039f\"],[0.2222222222222222,\"#7201a8\"],[0.3333333333333333,\"#9c179e\"],[0.4444444444444444,\"#bd3786\"],[0.5555555555555556,\"#d8576b\"],[0.6666666666666666,\"#ed7953\"],[0.7777777777777778,\"#fb9f3a\"],[0.8888888888888888,\"#fdca26\"],[1.0,\"#f0f921\"]]}],\"contourcarpet\":[{\"type\":\"contourcarpet\",\"colorbar\":{\"outlinewidth\":0,\"ticks\":\"\"}}],\"contour\":[{\"type\":\"contour\",\"colorbar\":{\"outlinewidth\":0,\"ticks\":\"\"},\"colorscale\":[[0.0,\"#0d0887\"],[0.1111111111111111,\"#46039f\"],[0.2222222222222222,\"#7201a8\"],[0.3333333333333333,\"#9c179e\"],[0.4444444444444444,\"#bd3786\"],[0.5555555555555556,\"#d8576b\"],[0.6666666666666666,\"#ed7953\"],[0.7777777777777778,\"#fb9f3a\"],[0.8888888888888888,\"#fdca26\"],[1.0,\"#f0f921\"]]}],\"surface\":[{\"type\":\"surface\",\"colorbar\":{\"outlinewidth\":0,\"ticks\":\"\"},\"colorscale\":[[0.0,\"#0d0887\"],[0.1111111111111111,\"#46039f\"],[0.2222222222222222,\"#7201a8\"],[0.3333333333333333,\"#9c179e\"],[0.4444444444444444,\"#bd3786\"],[0.5555555555555556,\"#d8576b\"],[0.6666666666666666,\"#ed7953\"],[0.7777777777777778,\"#fb9f3a\"],[0.8888888888888888,\"#fdca26\"],[1.0,\"#f0f921\"]]}],\"mesh3d\":[{\"type\":\"mesh3d\",\"colorbar\":{\"outlinewidth\":0,\"ticks\":\"\"}}],\"scatter\":[{\"fillpattern\":{\"fillmode\":\"overlay\",\"size\":10,\"solidity\":0.2},\"type\":\"scatter\"}],\"parcoords\":[{\"type\":\"parcoords\",\"line\":{\"colorbar\":{\"outlinewidth\":0,\"ticks\":\"\"}}}],\"scatterpolargl\":[{\"type\":\"scatterpolargl\",\"marker\":{\"colorbar\":{\"outlinewidth\":0,\"ticks\":\"\"}}}],\"bar\":[{\"error_x\":{\"color\":\"#2a3f5f\"},\"error_y\":{\"color\":\"#2a3f5f\"},\"marker\":{\"line\":{\"color\":\"#E5ECF6\",\"width\":0.5},\"pattern\":{\"fillmode\":\"overlay\",\"size\":10,\"solidity\":0.2}},\"type\":\"bar\"}],\"scattergeo\":[{\"type\":\"scattergeo\",\"marker\":{\"colorbar\":{\"outlinewidth\":0,\"ticks\":\"\"}}}],\"scatterpolar\":[{\"type\":\"scatterpolar\",\"marker\":{\"colorbar\":{\"outlinewidth\":0,\"ticks\":\"\"}}}],\"histogram\":[{\"marker\":{\"pattern\":{\"fillmode\":\"overlay\",\"size\":10,\"solidity\":0.2}},\"type\":\"histogram\"}],\"scattergl\":[{\"type\":\"scattergl\",\"marker\":{\"colorbar\":{\"outlinewidth\":0,\"ticks\":\"\"}}}],\"scatter3d\":[{\"type\":\"scatter3d\",\"line\":{\"colorbar\":{\"outlinewidth\":0,\"ticks\":\"\"}},\"marker\":{\"colorbar\":{\"outlinewidth\":0,\"ticks\":\"\"}}}],\"scattermapbox\":[{\"type\":\"scattermapbox\",\"marker\":{\"colorbar\":{\"outlinewidth\":0,\"ticks\":\"\"}}}],\"scatterternary\":[{\"type\":\"scatterternary\",\"marker\":{\"colorbar\":{\"outlinewidth\":0,\"ticks\":\"\"}}}],\"scattercarpet\":[{\"type\":\"scattercarpet\",\"marker\":{\"colorbar\":{\"outlinewidth\":0,\"ticks\":\"\"}}}],\"carpet\":[{\"aaxis\":{\"endlinecolor\":\"#2a3f5f\",\"gridcolor\":\"white\",\"linecolor\":\"white\",\"minorgridcolor\":\"white\",\"startlinecolor\":\"#2a3f5f\"},\"baxis\":{\"endlinecolor\":\"#2a3f5f\",\"gridcolor\":\"white\",\"linecolor\":\"white\",\"minorgridcolor\":\"white\",\"startlinecolor\":\"#2a3f5f\"},\"type\":\"carpet\"}],\"table\":[{\"cells\":{\"fill\":{\"color\":\"#EBF0F8\"},\"line\":{\"color\":\"white\"}},\"header\":{\"fill\":{\"color\":\"#C8D4E3\"},\"line\":{\"color\":\"white\"}},\"type\":\"table\"}],\"barpolar\":[{\"marker\":{\"line\":{\"color\":\"#E5ECF6\",\"width\":0.5},\"pattern\":{\"fillmode\":\"overlay\",\"size\":10,\"solidity\":0.2}},\"type\":\"barpolar\"}],\"pie\":[{\"automargin\":true,\"type\":\"pie\"}]},\"layout\":{\"autotypenumbers\":\"strict\",\"colorway\":[\"#636efa\",\"#EF553B\",\"#00cc96\",\"#ab63fa\",\"#FFA15A\",\"#19d3f3\",\"#FF6692\",\"#B6E880\",\"#FF97FF\",\"#FECB52\"],\"font\":{\"color\":\"#2a3f5f\"},\"hovermode\":\"closest\",\"hoverlabel\":{\"align\":\"left\"},\"paper_bgcolor\":\"white\",\"plot_bgcolor\":\"#E5ECF6\",\"polar\":{\"bgcolor\":\"#E5ECF6\",\"angularaxis\":{\"gridcolor\":\"white\",\"linecolor\":\"white\",\"ticks\":\"\"},\"radialaxis\":{\"gridcolor\":\"white\",\"linecolor\":\"white\",\"ticks\":\"\"}},\"ternary\":{\"bgcolor\":\"#E5ECF6\",\"aaxis\":{\"gridcolor\":\"white\",\"linecolor\":\"white\",\"ticks\":\"\"},\"baxis\":{\"gridcolor\":\"white\",\"linecolor\":\"white\",\"ticks\":\"\"},\"caxis\":{\"gridcolor\":\"white\",\"linecolor\":\"white\",\"ticks\":\"\"}},\"coloraxis\":{\"colorbar\":{\"outlinewidth\":0,\"ticks\":\"\"}},\"colorscale\":{\"sequential\":[[0.0,\"#0d0887\"],[0.1111111111111111,\"#46039f\"],[0.2222222222222222,\"#7201a8\"],[0.3333333333333333,\"#9c179e\"],[0.4444444444444444,\"#bd3786\"],[0.5555555555555556,\"#d8576b\"],[0.6666666666666666,\"#ed7953\"],[0.7777777777777778,\"#fb9f3a\"],[0.8888888888888888,\"#fdca26\"],[1.0,\"#f0f921\"]],\"sequentialminus\":[[0.0,\"#0d0887\"],[0.1111111111111111,\"#46039f\"],[0.2222222222222222,\"#7201a8\"],[0.3333333333333333,\"#9c179e\"],[0.4444444444444444,\"#bd3786\"],[0.5555555555555556,\"#d8576b\"],[0.6666666666666666,\"#ed7953\"],[0.7777777777777778,\"#fb9f3a\"],[0.8888888888888888,\"#fdca26\"],[1.0,\"#f0f921\"]],\"diverging\":[[0,\"#8e0152\"],[0.1,\"#c51b7d\"],[0.2,\"#de77ae\"],[0.3,\"#f1b6da\"],[0.4,\"#fde0ef\"],[0.5,\"#f7f7f7\"],[0.6,\"#e6f5d0\"],[0.7,\"#b8e186\"],[0.8,\"#7fbc41\"],[0.9,\"#4d9221\"],[1,\"#276419\"]]},\"xaxis\":{\"gridcolor\":\"white\",\"linecolor\":\"white\",\"ticks\":\"\",\"title\":{\"standoff\":15},\"zerolinecolor\":\"white\",\"automargin\":true,\"zerolinewidth\":2},\"yaxis\":{\"gridcolor\":\"white\",\"linecolor\":\"white\",\"ticks\":\"\",\"title\":{\"standoff\":15},\"zerolinecolor\":\"white\",\"automargin\":true,\"zerolinewidth\":2},\"scene\":{\"xaxis\":{\"backgroundcolor\":\"#E5ECF6\",\"gridcolor\":\"white\",\"linecolor\":\"white\",\"showbackground\":true,\"ticks\":\"\",\"zerolinecolor\":\"white\",\"gridwidth\":2},\"yaxis\":{\"backgroundcolor\":\"#E5ECF6\",\"gridcolor\":\"white\",\"linecolor\":\"white\",\"showbackground\":true,\"ticks\":\"\",\"zerolinecolor\":\"white\",\"gridwidth\":2},\"zaxis\":{\"backgroundcolor\":\"#E5ECF6\",\"gridcolor\":\"white\",\"linecolor\":\"white\",\"showbackground\":true,\"ticks\":\"\",\"zerolinecolor\":\"white\",\"gridwidth\":2}},\"shapedefaults\":{\"line\":{\"color\":\"#2a3f5f\"}},\"annotationdefaults\":{\"arrowcolor\":\"#2a3f5f\",\"arrowhead\":0,\"arrowwidth\":1},\"geo\":{\"bgcolor\":\"white\",\"landcolor\":\"#E5ECF6\",\"subunitcolor\":\"white\",\"showland\":true,\"showlakes\":true,\"lakecolor\":\"white\"},\"title\":{\"x\":0.05},\"mapbox\":{\"style\":\"light\"}}},\"xaxis\":{\"anchor\":\"y\",\"domain\":[0.0,1.0],\"title\":{\"text\":\"completions\"}},\"yaxis\":{\"anchor\":\"x\",\"domain\":[0.0,1.0],\"title\":{\"text\":\"completions\"}},\"legend\":{\"tracegroupgap\":0},\"margin\":{\"t\":60}},                        {\"responsive\": true}                    ).then(function(){\n",
       "                            \n",
       "var gd = document.getElementById('def8f6e9-ee98-4a00-ac58-27134e2243f0');\n",
       "var x = new MutationObserver(function (mutations, observer) {{\n",
       "        var display = window.getComputedStyle(gd).display;\n",
       "        if (!display || display === 'none') {{\n",
       "            console.log([gd, 'removed!']);\n",
       "            Plotly.purge(gd);\n",
       "            observer.disconnect();\n",
       "        }}\n",
       "}});\n",
       "\n",
       "// Listen for the removal of the full notebook cells\n",
       "var notebookContainer = gd.closest('#notebook-container');\n",
       "if (notebookContainer) {{\n",
       "    x.observe(notebookContainer, {childList: true});\n",
       "}}\n",
       "\n",
       "// Listen for the clearing of the current output cell\n",
       "var outputEl = gd.closest('.output');\n",
       "if (outputEl) {{\n",
       "    x.observe(outputEl, {childList: true});\n",
       "}}\n",
       "\n",
       "                        })                };                });            </script>        </div>"
      ]
     },
     "metadata": {},
     "output_type": "display_data"
    }
   ],
   "source": [
    "query = \"games >= 12 and games_last >= 12 and passing_yards_per_game >= 150 and passing_yards_last_per_game >= 150\"\n",
    "explore_df = filter_df(df, query, x, y)"
   ]
  },
  {
   "cell_type": "code",
   "execution_count": 92,
   "id": "64e84f54",
   "metadata": {},
   "outputs": [],
   "source": [
    "col_dicts = {\n",
    "    'passing_yards': 'passing_yards_last',\n",
    "    'passing_attempts': 'passing_attempts_last',\n",
    "    'yards_per_pass': 'yards_per_pass_last',\n",
    "    'total_epa': 'total_epa_last',\n",
    "    'passing_touchdowns': 'passing_touchdowns_last',\n",
    "    'completions': 'completions_last',\n",
    "    'games': 'games_last',\n",
    "    'fantasy_points': 'fantasy_points_last',\n",
    "    'age': 'age_last',\n",
    "    'avg_time_to_throw_mean': 'avg_time_to_throw_mean_last',\n",
    "    'avg_completed_air_yards_mean': 'avg_completed_air_yards_mean_last',\n",
    "    'avg_intended_air_yards_mean': 'avg_intended_air_yards_mean_last',\n",
    "    'avg_air_yards_differential_mean': 'avg_air_yards_differential_mean_last',\n",
    "    'aggressiveness_mean': 'aggressiveness_mean_last',\n",
    "    'max_completed_air_distance_mean': 'max_completed_air_distance_mean_last',\n",
    "    'avg_air_yards_to_sticks_mean': 'avg_air_yards_to_sticks_mean_last',\n",
    "    'attempts_mean': 'attempts_mean_last',\n",
    "    'pass_yards_mean': 'pass_yards_mean_last',\n",
    "    'passer_rating_mean': 'passer_rating_mean_last',\n",
    "    'completion_percentage_mean': 'completion_percentage_mean_last',\n",
    "    'expected_completion_percentage_mean': 'expected_completion_percentage_mean_last',\n",
    "    'completion_percentage_above_expectation_mean': 'completion_percentage_above_expectation_mean_last',\n",
    "    'avg_air_distance_mean': 'avg_air_distance_mean_last',\n",
    "    'max_air_distance_mean': 'max_air_distance_mean_last'\n",
    "}"
   ]
  },
  {
   "cell_type": "code",
   "execution_count": 132,
   "id": "fc10b4dc",
   "metadata": {},
   "outputs": [],
   "source": [
    "corr_list = list()\n",
    "compare_col = \"fantasy_points\"\n",
    "for col in list(explore_df.columns[3:]):\n",
    "    corr_value = -100\n",
    "    corr_value_fantasy = -100\n",
    "    \n",
    "    if col != compare_col and \"fantasy_points\" not in col:\n",
    "        temp_corr_df = explore_df[[col, compare_col]].corr()    \n",
    "        corr_value_fantasy = temp_corr_df[col].iloc[1]\n",
    "        \n",
    "        if col in col_dicts:\n",
    "            temp_corr_df = explore_df[[col, col_dicts[col]]].corr()\n",
    "            corr_value = temp_corr_df[col].iloc[1]\n",
    "        \n",
    "        \n",
    "        corr_list.append((col, corr_value_fantasy, corr_value))"
   ]
  },
  {
   "cell_type": "code",
   "execution_count": 133,
   "id": "44edac78",
   "metadata": {},
   "outputs": [],
   "source": [
    "corr_list_sorted = sorted(corr_list, key = lambda x: x[1], reverse=True)"
   ]
  },
  {
   "cell_type": "code",
   "execution_count": 134,
   "id": "07c67663",
   "metadata": {},
   "outputs": [
    {
     "name": "stdout",
     "output_type": "stream",
     "text": [
      "passing_yards  |  0.6709649226938393  |  0.5219369792008731\n",
      "completions  |  0.5260358476397307  |  0.5509124166790051\n",
      "passing_attempts  |  0.46046787932670324  |  0.5216158035305932\n"
     ]
    }
   ],
   "source": [
    "for item in corr_list_sorted:\n",
    "    if item[1] > 0.4 and item[2] > 0.4:\n",
    "        print(f\"{item[0]}  |  {item[1]}  |  {item[2]}\")"
   ]
  },
  {
   "cell_type": "code",
   "execution_count": 210,
   "id": "399fe0e4",
   "metadata": {},
   "outputs": [],
   "source": [
    "x = [\n",
    "    \"passing_yards\",\n",
    "    \"max_air_distance_mean\",\n",
    "    \"completions\",\n",
    "    \"passing_attempts\"\n",
    "]"
   ]
  },
  {
   "cell_type": "code",
   "execution_count": 211,
   "id": "1a2a2f64",
   "metadata": {},
   "outputs": [],
   "source": [
    "y = [\n",
    "    \"fantasy_points_per_game\",\n",
    "    \"fantasy_points\",\n",
    "]"
   ]
  },
  {
   "cell_type": "code",
   "execution_count": 212,
   "id": "afd7979d",
   "metadata": {},
   "outputs": [],
   "source": [
    "query = \"age_last >= 30\""
   ]
  },
  {
   "cell_type": "code",
   "execution_count": 213,
   "id": "3a2719e2",
   "metadata": {},
   "outputs": [
    {
     "data": {
      "application/vnd.plotly.v1+json": {
       "config": {
        "plotlyServerURL": "https://plot.ly"
       },
       "data": [
        {
         "coloraxis": "coloraxis",
         "hovertemplate": "Current Season Stats: %{x}<br>Previous Season Stats: %{y}<br>color: %{z}<extra></extra>",
         "name": "0",
         "texttemplate": "%{z}",
         "type": "heatmap",
         "x": [
          "passing_yards",
          "max_air_distance_mean",
          "completions",
          "passing_attempts"
         ],
         "xaxis": "x",
         "y": [
          "fantasy_points_per_game",
          "fantasy_points"
         ],
         "yaxis": "y",
         "z": [
          [
           0.59,
           0.41,
           0.34,
           0.15
          ],
          [
           0.69,
           0.37,
           0.49,
           0.3
          ]
         ]
        }
       ],
       "layout": {
        "coloraxis": {
         "colorscale": [
          [
           0,
           "#0d0887"
          ],
          [
           0.1111111111111111,
           "#46039f"
          ],
          [
           0.2222222222222222,
           "#7201a8"
          ],
          [
           0.3333333333333333,
           "#9c179e"
          ],
          [
           0.4444444444444444,
           "#bd3786"
          ],
          [
           0.5555555555555556,
           "#d8576b"
          ],
          [
           0.6666666666666666,
           "#ed7953"
          ],
          [
           0.7777777777777778,
           "#fb9f3a"
          ],
          [
           0.8888888888888888,
           "#fdca26"
          ],
          [
           1,
           "#f0f921"
          ]
         ]
        },
        "margin": {
         "t": 60
        },
        "template": {
         "data": {
          "bar": [
           {
            "error_x": {
             "color": "#2a3f5f"
            },
            "error_y": {
             "color": "#2a3f5f"
            },
            "marker": {
             "line": {
              "color": "#E5ECF6",
              "width": 0.5
             },
             "pattern": {
              "fillmode": "overlay",
              "size": 10,
              "solidity": 0.2
             }
            },
            "type": "bar"
           }
          ],
          "barpolar": [
           {
            "marker": {
             "line": {
              "color": "#E5ECF6",
              "width": 0.5
             },
             "pattern": {
              "fillmode": "overlay",
              "size": 10,
              "solidity": 0.2
             }
            },
            "type": "barpolar"
           }
          ],
          "carpet": [
           {
            "aaxis": {
             "endlinecolor": "#2a3f5f",
             "gridcolor": "white",
             "linecolor": "white",
             "minorgridcolor": "white",
             "startlinecolor": "#2a3f5f"
            },
            "baxis": {
             "endlinecolor": "#2a3f5f",
             "gridcolor": "white",
             "linecolor": "white",
             "minorgridcolor": "white",
             "startlinecolor": "#2a3f5f"
            },
            "type": "carpet"
           }
          ],
          "choropleth": [
           {
            "colorbar": {
             "outlinewidth": 0,
             "ticks": ""
            },
            "type": "choropleth"
           }
          ],
          "contour": [
           {
            "colorbar": {
             "outlinewidth": 0,
             "ticks": ""
            },
            "colorscale": [
             [
              0,
              "#0d0887"
             ],
             [
              0.1111111111111111,
              "#46039f"
             ],
             [
              0.2222222222222222,
              "#7201a8"
             ],
             [
              0.3333333333333333,
              "#9c179e"
             ],
             [
              0.4444444444444444,
              "#bd3786"
             ],
             [
              0.5555555555555556,
              "#d8576b"
             ],
             [
              0.6666666666666666,
              "#ed7953"
             ],
             [
              0.7777777777777778,
              "#fb9f3a"
             ],
             [
              0.8888888888888888,
              "#fdca26"
             ],
             [
              1,
              "#f0f921"
             ]
            ],
            "type": "contour"
           }
          ],
          "contourcarpet": [
           {
            "colorbar": {
             "outlinewidth": 0,
             "ticks": ""
            },
            "type": "contourcarpet"
           }
          ],
          "heatmap": [
           {
            "colorbar": {
             "outlinewidth": 0,
             "ticks": ""
            },
            "colorscale": [
             [
              0,
              "#0d0887"
             ],
             [
              0.1111111111111111,
              "#46039f"
             ],
             [
              0.2222222222222222,
              "#7201a8"
             ],
             [
              0.3333333333333333,
              "#9c179e"
             ],
             [
              0.4444444444444444,
              "#bd3786"
             ],
             [
              0.5555555555555556,
              "#d8576b"
             ],
             [
              0.6666666666666666,
              "#ed7953"
             ],
             [
              0.7777777777777778,
              "#fb9f3a"
             ],
             [
              0.8888888888888888,
              "#fdca26"
             ],
             [
              1,
              "#f0f921"
             ]
            ],
            "type": "heatmap"
           }
          ],
          "heatmapgl": [
           {
            "colorbar": {
             "outlinewidth": 0,
             "ticks": ""
            },
            "colorscale": [
             [
              0,
              "#0d0887"
             ],
             [
              0.1111111111111111,
              "#46039f"
             ],
             [
              0.2222222222222222,
              "#7201a8"
             ],
             [
              0.3333333333333333,
              "#9c179e"
             ],
             [
              0.4444444444444444,
              "#bd3786"
             ],
             [
              0.5555555555555556,
              "#d8576b"
             ],
             [
              0.6666666666666666,
              "#ed7953"
             ],
             [
              0.7777777777777778,
              "#fb9f3a"
             ],
             [
              0.8888888888888888,
              "#fdca26"
             ],
             [
              1,
              "#f0f921"
             ]
            ],
            "type": "heatmapgl"
           }
          ],
          "histogram": [
           {
            "marker": {
             "pattern": {
              "fillmode": "overlay",
              "size": 10,
              "solidity": 0.2
             }
            },
            "type": "histogram"
           }
          ],
          "histogram2d": [
           {
            "colorbar": {
             "outlinewidth": 0,
             "ticks": ""
            },
            "colorscale": [
             [
              0,
              "#0d0887"
             ],
             [
              0.1111111111111111,
              "#46039f"
             ],
             [
              0.2222222222222222,
              "#7201a8"
             ],
             [
              0.3333333333333333,
              "#9c179e"
             ],
             [
              0.4444444444444444,
              "#bd3786"
             ],
             [
              0.5555555555555556,
              "#d8576b"
             ],
             [
              0.6666666666666666,
              "#ed7953"
             ],
             [
              0.7777777777777778,
              "#fb9f3a"
             ],
             [
              0.8888888888888888,
              "#fdca26"
             ],
             [
              1,
              "#f0f921"
             ]
            ],
            "type": "histogram2d"
           }
          ],
          "histogram2dcontour": [
           {
            "colorbar": {
             "outlinewidth": 0,
             "ticks": ""
            },
            "colorscale": [
             [
              0,
              "#0d0887"
             ],
             [
              0.1111111111111111,
              "#46039f"
             ],
             [
              0.2222222222222222,
              "#7201a8"
             ],
             [
              0.3333333333333333,
              "#9c179e"
             ],
             [
              0.4444444444444444,
              "#bd3786"
             ],
             [
              0.5555555555555556,
              "#d8576b"
             ],
             [
              0.6666666666666666,
              "#ed7953"
             ],
             [
              0.7777777777777778,
              "#fb9f3a"
             ],
             [
              0.8888888888888888,
              "#fdca26"
             ],
             [
              1,
              "#f0f921"
             ]
            ],
            "type": "histogram2dcontour"
           }
          ],
          "mesh3d": [
           {
            "colorbar": {
             "outlinewidth": 0,
             "ticks": ""
            },
            "type": "mesh3d"
           }
          ],
          "parcoords": [
           {
            "line": {
             "colorbar": {
              "outlinewidth": 0,
              "ticks": ""
             }
            },
            "type": "parcoords"
           }
          ],
          "pie": [
           {
            "automargin": true,
            "type": "pie"
           }
          ],
          "scatter": [
           {
            "fillpattern": {
             "fillmode": "overlay",
             "size": 10,
             "solidity": 0.2
            },
            "type": "scatter"
           }
          ],
          "scatter3d": [
           {
            "line": {
             "colorbar": {
              "outlinewidth": 0,
              "ticks": ""
             }
            },
            "marker": {
             "colorbar": {
              "outlinewidth": 0,
              "ticks": ""
             }
            },
            "type": "scatter3d"
           }
          ],
          "scattercarpet": [
           {
            "marker": {
             "colorbar": {
              "outlinewidth": 0,
              "ticks": ""
             }
            },
            "type": "scattercarpet"
           }
          ],
          "scattergeo": [
           {
            "marker": {
             "colorbar": {
              "outlinewidth": 0,
              "ticks": ""
             }
            },
            "type": "scattergeo"
           }
          ],
          "scattergl": [
           {
            "marker": {
             "colorbar": {
              "outlinewidth": 0,
              "ticks": ""
             }
            },
            "type": "scattergl"
           }
          ],
          "scattermapbox": [
           {
            "marker": {
             "colorbar": {
              "outlinewidth": 0,
              "ticks": ""
             }
            },
            "type": "scattermapbox"
           }
          ],
          "scatterpolar": [
           {
            "marker": {
             "colorbar": {
              "outlinewidth": 0,
              "ticks": ""
             }
            },
            "type": "scatterpolar"
           }
          ],
          "scatterpolargl": [
           {
            "marker": {
             "colorbar": {
              "outlinewidth": 0,
              "ticks": ""
             }
            },
            "type": "scatterpolargl"
           }
          ],
          "scatterternary": [
           {
            "marker": {
             "colorbar": {
              "outlinewidth": 0,
              "ticks": ""
             }
            },
            "type": "scatterternary"
           }
          ],
          "surface": [
           {
            "colorbar": {
             "outlinewidth": 0,
             "ticks": ""
            },
            "colorscale": [
             [
              0,
              "#0d0887"
             ],
             [
              0.1111111111111111,
              "#46039f"
             ],
             [
              0.2222222222222222,
              "#7201a8"
             ],
             [
              0.3333333333333333,
              "#9c179e"
             ],
             [
              0.4444444444444444,
              "#bd3786"
             ],
             [
              0.5555555555555556,
              "#d8576b"
             ],
             [
              0.6666666666666666,
              "#ed7953"
             ],
             [
              0.7777777777777778,
              "#fb9f3a"
             ],
             [
              0.8888888888888888,
              "#fdca26"
             ],
             [
              1,
              "#f0f921"
             ]
            ],
            "type": "surface"
           }
          ],
          "table": [
           {
            "cells": {
             "fill": {
              "color": "#EBF0F8"
             },
             "line": {
              "color": "white"
             }
            },
            "header": {
             "fill": {
              "color": "#C8D4E3"
             },
             "line": {
              "color": "white"
             }
            },
            "type": "table"
           }
          ]
         },
         "layout": {
          "annotationdefaults": {
           "arrowcolor": "#2a3f5f",
           "arrowhead": 0,
           "arrowwidth": 1
          },
          "autotypenumbers": "strict",
          "coloraxis": {
           "colorbar": {
            "outlinewidth": 0,
            "ticks": ""
           }
          },
          "colorscale": {
           "diverging": [
            [
             0,
             "#8e0152"
            ],
            [
             0.1,
             "#c51b7d"
            ],
            [
             0.2,
             "#de77ae"
            ],
            [
             0.3,
             "#f1b6da"
            ],
            [
             0.4,
             "#fde0ef"
            ],
            [
             0.5,
             "#f7f7f7"
            ],
            [
             0.6,
             "#e6f5d0"
            ],
            [
             0.7,
             "#b8e186"
            ],
            [
             0.8,
             "#7fbc41"
            ],
            [
             0.9,
             "#4d9221"
            ],
            [
             1,
             "#276419"
            ]
           ],
           "sequential": [
            [
             0,
             "#0d0887"
            ],
            [
             0.1111111111111111,
             "#46039f"
            ],
            [
             0.2222222222222222,
             "#7201a8"
            ],
            [
             0.3333333333333333,
             "#9c179e"
            ],
            [
             0.4444444444444444,
             "#bd3786"
            ],
            [
             0.5555555555555556,
             "#d8576b"
            ],
            [
             0.6666666666666666,
             "#ed7953"
            ],
            [
             0.7777777777777778,
             "#fb9f3a"
            ],
            [
             0.8888888888888888,
             "#fdca26"
            ],
            [
             1,
             "#f0f921"
            ]
           ],
           "sequentialminus": [
            [
             0,
             "#0d0887"
            ],
            [
             0.1111111111111111,
             "#46039f"
            ],
            [
             0.2222222222222222,
             "#7201a8"
            ],
            [
             0.3333333333333333,
             "#9c179e"
            ],
            [
             0.4444444444444444,
             "#bd3786"
            ],
            [
             0.5555555555555556,
             "#d8576b"
            ],
            [
             0.6666666666666666,
             "#ed7953"
            ],
            [
             0.7777777777777778,
             "#fb9f3a"
            ],
            [
             0.8888888888888888,
             "#fdca26"
            ],
            [
             1,
             "#f0f921"
            ]
           ]
          },
          "colorway": [
           "#636efa",
           "#EF553B",
           "#00cc96",
           "#ab63fa",
           "#FFA15A",
           "#19d3f3",
           "#FF6692",
           "#B6E880",
           "#FF97FF",
           "#FECB52"
          ],
          "font": {
           "color": "#2a3f5f"
          },
          "geo": {
           "bgcolor": "white",
           "lakecolor": "white",
           "landcolor": "#E5ECF6",
           "showlakes": true,
           "showland": true,
           "subunitcolor": "white"
          },
          "hoverlabel": {
           "align": "left"
          },
          "hovermode": "closest",
          "mapbox": {
           "style": "light"
          },
          "paper_bgcolor": "white",
          "plot_bgcolor": "#E5ECF6",
          "polar": {
           "angularaxis": {
            "gridcolor": "white",
            "linecolor": "white",
            "ticks": ""
           },
           "bgcolor": "#E5ECF6",
           "radialaxis": {
            "gridcolor": "white",
            "linecolor": "white",
            "ticks": ""
           }
          },
          "scene": {
           "xaxis": {
            "backgroundcolor": "#E5ECF6",
            "gridcolor": "white",
            "gridwidth": 2,
            "linecolor": "white",
            "showbackground": true,
            "ticks": "",
            "zerolinecolor": "white"
           },
           "yaxis": {
            "backgroundcolor": "#E5ECF6",
            "gridcolor": "white",
            "gridwidth": 2,
            "linecolor": "white",
            "showbackground": true,
            "ticks": "",
            "zerolinecolor": "white"
           },
           "zaxis": {
            "backgroundcolor": "#E5ECF6",
            "gridcolor": "white",
            "gridwidth": 2,
            "linecolor": "white",
            "showbackground": true,
            "ticks": "",
            "zerolinecolor": "white"
           }
          },
          "shapedefaults": {
           "line": {
            "color": "#2a3f5f"
           }
          },
          "ternary": {
           "aaxis": {
            "gridcolor": "white",
            "linecolor": "white",
            "ticks": ""
           },
           "baxis": {
            "gridcolor": "white",
            "linecolor": "white",
            "ticks": ""
           },
           "bgcolor": "#E5ECF6",
           "caxis": {
            "gridcolor": "white",
            "linecolor": "white",
            "ticks": ""
           }
          },
          "title": {
           "x": 0.05
          },
          "xaxis": {
           "automargin": true,
           "gridcolor": "white",
           "linecolor": "white",
           "ticks": "",
           "title": {
            "standoff": 15
           },
           "zerolinecolor": "white",
           "zerolinewidth": 2
          },
          "yaxis": {
           "automargin": true,
           "gridcolor": "white",
           "linecolor": "white",
           "ticks": "",
           "title": {
            "standoff": 15
           },
           "zerolinecolor": "white",
           "zerolinewidth": 2
          }
         }
        },
        "xaxis": {
         "anchor": "y",
         "constrain": "domain",
         "domain": [
          0,
          1
         ],
         "scaleanchor": "y",
         "title": {
          "text": "Current Season Stats"
         }
        },
        "yaxis": {
         "anchor": "x",
         "autorange": "reversed",
         "constrain": "domain",
         "domain": [
          0,
          1
         ],
         "title": {
          "text": "Previous Season Stats"
         }
        }
       }
      },
      "text/html": [
       "<div>                            <div id=\"bd5c1711-ff17-4471-a39a-d6097e5a9163\" class=\"plotly-graph-div\" style=\"height:525px; width:100%;\"></div>            <script type=\"text/javascript\">                require([\"plotly\"], function(Plotly) {                    window.PLOTLYENV=window.PLOTLYENV || {};                                    if (document.getElementById(\"bd5c1711-ff17-4471-a39a-d6097e5a9163\")) {                    Plotly.newPlot(                        \"bd5c1711-ff17-4471-a39a-d6097e5a9163\",                        [{\"coloraxis\":\"coloraxis\",\"name\":\"0\",\"texttemplate\":\"%{z}\",\"x\":[\"passing_yards\",\"max_air_distance_mean\",\"completions\",\"passing_attempts\"],\"y\":[\"fantasy_points_per_game\",\"fantasy_points\"],\"z\":[[0.59,0.41,0.34,0.15],[0.69,0.37,0.49,0.3]],\"type\":\"heatmap\",\"xaxis\":\"x\",\"yaxis\":\"y\",\"hovertemplate\":\"Current Season Stats: %{x}\\u003cbr\\u003ePrevious Season Stats: %{y}\\u003cbr\\u003ecolor: %{z}\\u003cextra\\u003e\\u003c\\u002fextra\\u003e\"}],                        {\"template\":{\"data\":{\"histogram2dcontour\":[{\"type\":\"histogram2dcontour\",\"colorbar\":{\"outlinewidth\":0,\"ticks\":\"\"},\"colorscale\":[[0.0,\"#0d0887\"],[0.1111111111111111,\"#46039f\"],[0.2222222222222222,\"#7201a8\"],[0.3333333333333333,\"#9c179e\"],[0.4444444444444444,\"#bd3786\"],[0.5555555555555556,\"#d8576b\"],[0.6666666666666666,\"#ed7953\"],[0.7777777777777778,\"#fb9f3a\"],[0.8888888888888888,\"#fdca26\"],[1.0,\"#f0f921\"]]}],\"choropleth\":[{\"type\":\"choropleth\",\"colorbar\":{\"outlinewidth\":0,\"ticks\":\"\"}}],\"histogram2d\":[{\"type\":\"histogram2d\",\"colorbar\":{\"outlinewidth\":0,\"ticks\":\"\"},\"colorscale\":[[0.0,\"#0d0887\"],[0.1111111111111111,\"#46039f\"],[0.2222222222222222,\"#7201a8\"],[0.3333333333333333,\"#9c179e\"],[0.4444444444444444,\"#bd3786\"],[0.5555555555555556,\"#d8576b\"],[0.6666666666666666,\"#ed7953\"],[0.7777777777777778,\"#fb9f3a\"],[0.8888888888888888,\"#fdca26\"],[1.0,\"#f0f921\"]]}],\"heatmap\":[{\"type\":\"heatmap\",\"colorbar\":{\"outlinewidth\":0,\"ticks\":\"\"},\"colorscale\":[[0.0,\"#0d0887\"],[0.1111111111111111,\"#46039f\"],[0.2222222222222222,\"#7201a8\"],[0.3333333333333333,\"#9c179e\"],[0.4444444444444444,\"#bd3786\"],[0.5555555555555556,\"#d8576b\"],[0.6666666666666666,\"#ed7953\"],[0.7777777777777778,\"#fb9f3a\"],[0.8888888888888888,\"#fdca26\"],[1.0,\"#f0f921\"]]}],\"heatmapgl\":[{\"type\":\"heatmapgl\",\"colorbar\":{\"outlinewidth\":0,\"ticks\":\"\"},\"colorscale\":[[0.0,\"#0d0887\"],[0.1111111111111111,\"#46039f\"],[0.2222222222222222,\"#7201a8\"],[0.3333333333333333,\"#9c179e\"],[0.4444444444444444,\"#bd3786\"],[0.5555555555555556,\"#d8576b\"],[0.6666666666666666,\"#ed7953\"],[0.7777777777777778,\"#fb9f3a\"],[0.8888888888888888,\"#fdca26\"],[1.0,\"#f0f921\"]]}],\"contourcarpet\":[{\"type\":\"contourcarpet\",\"colorbar\":{\"outlinewidth\":0,\"ticks\":\"\"}}],\"contour\":[{\"type\":\"contour\",\"colorbar\":{\"outlinewidth\":0,\"ticks\":\"\"},\"colorscale\":[[0.0,\"#0d0887\"],[0.1111111111111111,\"#46039f\"],[0.2222222222222222,\"#7201a8\"],[0.3333333333333333,\"#9c179e\"],[0.4444444444444444,\"#bd3786\"],[0.5555555555555556,\"#d8576b\"],[0.6666666666666666,\"#ed7953\"],[0.7777777777777778,\"#fb9f3a\"],[0.8888888888888888,\"#fdca26\"],[1.0,\"#f0f921\"]]}],\"surface\":[{\"type\":\"surface\",\"colorbar\":{\"outlinewidth\":0,\"ticks\":\"\"},\"colorscale\":[[0.0,\"#0d0887\"],[0.1111111111111111,\"#46039f\"],[0.2222222222222222,\"#7201a8\"],[0.3333333333333333,\"#9c179e\"],[0.4444444444444444,\"#bd3786\"],[0.5555555555555556,\"#d8576b\"],[0.6666666666666666,\"#ed7953\"],[0.7777777777777778,\"#fb9f3a\"],[0.8888888888888888,\"#fdca26\"],[1.0,\"#f0f921\"]]}],\"mesh3d\":[{\"type\":\"mesh3d\",\"colorbar\":{\"outlinewidth\":0,\"ticks\":\"\"}}],\"scatter\":[{\"fillpattern\":{\"fillmode\":\"overlay\",\"size\":10,\"solidity\":0.2},\"type\":\"scatter\"}],\"parcoords\":[{\"type\":\"parcoords\",\"line\":{\"colorbar\":{\"outlinewidth\":0,\"ticks\":\"\"}}}],\"scatterpolargl\":[{\"type\":\"scatterpolargl\",\"marker\":{\"colorbar\":{\"outlinewidth\":0,\"ticks\":\"\"}}}],\"bar\":[{\"error_x\":{\"color\":\"#2a3f5f\"},\"error_y\":{\"color\":\"#2a3f5f\"},\"marker\":{\"line\":{\"color\":\"#E5ECF6\",\"width\":0.5},\"pattern\":{\"fillmode\":\"overlay\",\"size\":10,\"solidity\":0.2}},\"type\":\"bar\"}],\"scattergeo\":[{\"type\":\"scattergeo\",\"marker\":{\"colorbar\":{\"outlinewidth\":0,\"ticks\":\"\"}}}],\"scatterpolar\":[{\"type\":\"scatterpolar\",\"marker\":{\"colorbar\":{\"outlinewidth\":0,\"ticks\":\"\"}}}],\"histogram\":[{\"marker\":{\"pattern\":{\"fillmode\":\"overlay\",\"size\":10,\"solidity\":0.2}},\"type\":\"histogram\"}],\"scattergl\":[{\"type\":\"scattergl\",\"marker\":{\"colorbar\":{\"outlinewidth\":0,\"ticks\":\"\"}}}],\"scatter3d\":[{\"type\":\"scatter3d\",\"line\":{\"colorbar\":{\"outlinewidth\":0,\"ticks\":\"\"}},\"marker\":{\"colorbar\":{\"outlinewidth\":0,\"ticks\":\"\"}}}],\"scattermapbox\":[{\"type\":\"scattermapbox\",\"marker\":{\"colorbar\":{\"outlinewidth\":0,\"ticks\":\"\"}}}],\"scatterternary\":[{\"type\":\"scatterternary\",\"marker\":{\"colorbar\":{\"outlinewidth\":0,\"ticks\":\"\"}}}],\"scattercarpet\":[{\"type\":\"scattercarpet\",\"marker\":{\"colorbar\":{\"outlinewidth\":0,\"ticks\":\"\"}}}],\"carpet\":[{\"aaxis\":{\"endlinecolor\":\"#2a3f5f\",\"gridcolor\":\"white\",\"linecolor\":\"white\",\"minorgridcolor\":\"white\",\"startlinecolor\":\"#2a3f5f\"},\"baxis\":{\"endlinecolor\":\"#2a3f5f\",\"gridcolor\":\"white\",\"linecolor\":\"white\",\"minorgridcolor\":\"white\",\"startlinecolor\":\"#2a3f5f\"},\"type\":\"carpet\"}],\"table\":[{\"cells\":{\"fill\":{\"color\":\"#EBF0F8\"},\"line\":{\"color\":\"white\"}},\"header\":{\"fill\":{\"color\":\"#C8D4E3\"},\"line\":{\"color\":\"white\"}},\"type\":\"table\"}],\"barpolar\":[{\"marker\":{\"line\":{\"color\":\"#E5ECF6\",\"width\":0.5},\"pattern\":{\"fillmode\":\"overlay\",\"size\":10,\"solidity\":0.2}},\"type\":\"barpolar\"}],\"pie\":[{\"automargin\":true,\"type\":\"pie\"}]},\"layout\":{\"autotypenumbers\":\"strict\",\"colorway\":[\"#636efa\",\"#EF553B\",\"#00cc96\",\"#ab63fa\",\"#FFA15A\",\"#19d3f3\",\"#FF6692\",\"#B6E880\",\"#FF97FF\",\"#FECB52\"],\"font\":{\"color\":\"#2a3f5f\"},\"hovermode\":\"closest\",\"hoverlabel\":{\"align\":\"left\"},\"paper_bgcolor\":\"white\",\"plot_bgcolor\":\"#E5ECF6\",\"polar\":{\"bgcolor\":\"#E5ECF6\",\"angularaxis\":{\"gridcolor\":\"white\",\"linecolor\":\"white\",\"ticks\":\"\"},\"radialaxis\":{\"gridcolor\":\"white\",\"linecolor\":\"white\",\"ticks\":\"\"}},\"ternary\":{\"bgcolor\":\"#E5ECF6\",\"aaxis\":{\"gridcolor\":\"white\",\"linecolor\":\"white\",\"ticks\":\"\"},\"baxis\":{\"gridcolor\":\"white\",\"linecolor\":\"white\",\"ticks\":\"\"},\"caxis\":{\"gridcolor\":\"white\",\"linecolor\":\"white\",\"ticks\":\"\"}},\"coloraxis\":{\"colorbar\":{\"outlinewidth\":0,\"ticks\":\"\"}},\"colorscale\":{\"sequential\":[[0.0,\"#0d0887\"],[0.1111111111111111,\"#46039f\"],[0.2222222222222222,\"#7201a8\"],[0.3333333333333333,\"#9c179e\"],[0.4444444444444444,\"#bd3786\"],[0.5555555555555556,\"#d8576b\"],[0.6666666666666666,\"#ed7953\"],[0.7777777777777778,\"#fb9f3a\"],[0.8888888888888888,\"#fdca26\"],[1.0,\"#f0f921\"]],\"sequentialminus\":[[0.0,\"#0d0887\"],[0.1111111111111111,\"#46039f\"],[0.2222222222222222,\"#7201a8\"],[0.3333333333333333,\"#9c179e\"],[0.4444444444444444,\"#bd3786\"],[0.5555555555555556,\"#d8576b\"],[0.6666666666666666,\"#ed7953\"],[0.7777777777777778,\"#fb9f3a\"],[0.8888888888888888,\"#fdca26\"],[1.0,\"#f0f921\"]],\"diverging\":[[0,\"#8e0152\"],[0.1,\"#c51b7d\"],[0.2,\"#de77ae\"],[0.3,\"#f1b6da\"],[0.4,\"#fde0ef\"],[0.5,\"#f7f7f7\"],[0.6,\"#e6f5d0\"],[0.7,\"#b8e186\"],[0.8,\"#7fbc41\"],[0.9,\"#4d9221\"],[1,\"#276419\"]]},\"xaxis\":{\"gridcolor\":\"white\",\"linecolor\":\"white\",\"ticks\":\"\",\"title\":{\"standoff\":15},\"zerolinecolor\":\"white\",\"automargin\":true,\"zerolinewidth\":2},\"yaxis\":{\"gridcolor\":\"white\",\"linecolor\":\"white\",\"ticks\":\"\",\"title\":{\"standoff\":15},\"zerolinecolor\":\"white\",\"automargin\":true,\"zerolinewidth\":2},\"scene\":{\"xaxis\":{\"backgroundcolor\":\"#E5ECF6\",\"gridcolor\":\"white\",\"linecolor\":\"white\",\"showbackground\":true,\"ticks\":\"\",\"zerolinecolor\":\"white\",\"gridwidth\":2},\"yaxis\":{\"backgroundcolor\":\"#E5ECF6\",\"gridcolor\":\"white\",\"linecolor\":\"white\",\"showbackground\":true,\"ticks\":\"\",\"zerolinecolor\":\"white\",\"gridwidth\":2},\"zaxis\":{\"backgroundcolor\":\"#E5ECF6\",\"gridcolor\":\"white\",\"linecolor\":\"white\",\"showbackground\":true,\"ticks\":\"\",\"zerolinecolor\":\"white\",\"gridwidth\":2}},\"shapedefaults\":{\"line\":{\"color\":\"#2a3f5f\"}},\"annotationdefaults\":{\"arrowcolor\":\"#2a3f5f\",\"arrowhead\":0,\"arrowwidth\":1},\"geo\":{\"bgcolor\":\"white\",\"landcolor\":\"#E5ECF6\",\"subunitcolor\":\"white\",\"showland\":true,\"showlakes\":true,\"lakecolor\":\"white\"},\"title\":{\"x\":0.05},\"mapbox\":{\"style\":\"light\"}}},\"xaxis\":{\"anchor\":\"y\",\"domain\":[0.0,1.0],\"scaleanchor\":\"y\",\"constrain\":\"domain\",\"title\":{\"text\":\"Current Season Stats\"}},\"yaxis\":{\"anchor\":\"x\",\"domain\":[0.0,1.0],\"autorange\":\"reversed\",\"constrain\":\"domain\",\"title\":{\"text\":\"Previous Season Stats\"}},\"coloraxis\":{\"colorscale\":[[0.0,\"#0d0887\"],[0.1111111111111111,\"#46039f\"],[0.2222222222222222,\"#7201a8\"],[0.3333333333333333,\"#9c179e\"],[0.4444444444444444,\"#bd3786\"],[0.5555555555555556,\"#d8576b\"],[0.6666666666666666,\"#ed7953\"],[0.7777777777777778,\"#fb9f3a\"],[0.8888888888888888,\"#fdca26\"],[1.0,\"#f0f921\"]]},\"margin\":{\"t\":60}},                        {\"responsive\": true}                    ).then(function(){\n",
       "                            \n",
       "var gd = document.getElementById('bd5c1711-ff17-4471-a39a-d6097e5a9163');\n",
       "var x = new MutationObserver(function (mutations, observer) {{\n",
       "        var display = window.getComputedStyle(gd).display;\n",
       "        if (!display || display === 'none') {{\n",
       "            console.log([gd, 'removed!']);\n",
       "            Plotly.purge(gd);\n",
       "            observer.disconnect();\n",
       "        }}\n",
       "}});\n",
       "\n",
       "// Listen for the removal of the full notebook cells\n",
       "var notebookContainer = gd.closest('#notebook-container');\n",
       "if (notebookContainer) {{\n",
       "    x.observe(notebookContainer, {childList: true});\n",
       "}}\n",
       "\n",
       "// Listen for the clearing of the current output cell\n",
       "var outputEl = gd.closest('.output');\n",
       "if (outputEl) {{\n",
       "    x.observe(outputEl, {childList: true});\n",
       "}}\n",
       "\n",
       "                        })                };                });            </script>        </div>"
      ]
     },
     "metadata": {},
     "output_type": "display_data"
    }
   ],
   "source": [
    "corr_mat, x, y = create_correlation_matrix(df.query(query), x, y)\n",
    "plot_correlation_matrix(corr_mat, x, y, \"per-game/old-best-stat-corr-fantasy\")"
   ]
  },
  {
   "cell_type": "code",
   "execution_count": 217,
   "id": "71ba7111",
   "metadata": {},
   "outputs": [],
   "source": [
    "x = [\n",
    "    \"passing_yards\",\n",
    "    \"max_air_distance_mean\",\n",
    "    \"completions\",\n",
    "    \"passing_attempts\"\n",
    "]"
   ]
  },
  {
   "cell_type": "code",
   "execution_count": 218,
   "id": "9e3a392a",
   "metadata": {},
   "outputs": [],
   "source": [
    "y = [\n",
    "    \"passing_yards_last\",\n",
    "    \"max_air_distance_mean_last\",\n",
    "    \"completions_last\",\n",
    "    \"passing_attempts_last\"\n",
    "]"
   ]
  },
  {
   "cell_type": "code",
   "execution_count": 219,
   "id": "808e143b",
   "metadata": {},
   "outputs": [
    {
     "data": {
      "application/vnd.plotly.v1+json": {
       "config": {
        "plotlyServerURL": "https://plot.ly"
       },
       "data": [
        {
         "coloraxis": "coloraxis",
         "hovertemplate": "Current Season Stats: %{x}<br>Previous Season Stats: %{y}<br>color: %{z}<extra></extra>",
         "name": "0",
         "texttemplate": "%{z}",
         "type": "heatmap",
         "x": [
          "passing_yards",
          "max_air_distance_mean",
          "completions",
          "passing_attempts"
         ],
         "xaxis": "x",
         "y": [
          "passing_yards_last",
          "max_air_distance_mean_last",
          "completions_last",
          "passing_attempts_last"
         ],
         "yaxis": "y",
         "z": [
          [
           0.22,
           -0.18,
           0.33,
           0.29
          ],
          [
           -0.23,
           0.6,
           -0.25,
           -0.16
          ],
          [
           -0.02,
           -0.26,
           0.29,
           0.25
          ],
          [
           0.05,
           -0.21,
           0.36,
           0.37
          ]
         ]
        }
       ],
       "layout": {
        "coloraxis": {
         "colorscale": [
          [
           0,
           "#0d0887"
          ],
          [
           0.1111111111111111,
           "#46039f"
          ],
          [
           0.2222222222222222,
           "#7201a8"
          ],
          [
           0.3333333333333333,
           "#9c179e"
          ],
          [
           0.4444444444444444,
           "#bd3786"
          ],
          [
           0.5555555555555556,
           "#d8576b"
          ],
          [
           0.6666666666666666,
           "#ed7953"
          ],
          [
           0.7777777777777778,
           "#fb9f3a"
          ],
          [
           0.8888888888888888,
           "#fdca26"
          ],
          [
           1,
           "#f0f921"
          ]
         ]
        },
        "margin": {
         "t": 60
        },
        "template": {
         "data": {
          "bar": [
           {
            "error_x": {
             "color": "#2a3f5f"
            },
            "error_y": {
             "color": "#2a3f5f"
            },
            "marker": {
             "line": {
              "color": "#E5ECF6",
              "width": 0.5
             },
             "pattern": {
              "fillmode": "overlay",
              "size": 10,
              "solidity": 0.2
             }
            },
            "type": "bar"
           }
          ],
          "barpolar": [
           {
            "marker": {
             "line": {
              "color": "#E5ECF6",
              "width": 0.5
             },
             "pattern": {
              "fillmode": "overlay",
              "size": 10,
              "solidity": 0.2
             }
            },
            "type": "barpolar"
           }
          ],
          "carpet": [
           {
            "aaxis": {
             "endlinecolor": "#2a3f5f",
             "gridcolor": "white",
             "linecolor": "white",
             "minorgridcolor": "white",
             "startlinecolor": "#2a3f5f"
            },
            "baxis": {
             "endlinecolor": "#2a3f5f",
             "gridcolor": "white",
             "linecolor": "white",
             "minorgridcolor": "white",
             "startlinecolor": "#2a3f5f"
            },
            "type": "carpet"
           }
          ],
          "choropleth": [
           {
            "colorbar": {
             "outlinewidth": 0,
             "ticks": ""
            },
            "type": "choropleth"
           }
          ],
          "contour": [
           {
            "colorbar": {
             "outlinewidth": 0,
             "ticks": ""
            },
            "colorscale": [
             [
              0,
              "#0d0887"
             ],
             [
              0.1111111111111111,
              "#46039f"
             ],
             [
              0.2222222222222222,
              "#7201a8"
             ],
             [
              0.3333333333333333,
              "#9c179e"
             ],
             [
              0.4444444444444444,
              "#bd3786"
             ],
             [
              0.5555555555555556,
              "#d8576b"
             ],
             [
              0.6666666666666666,
              "#ed7953"
             ],
             [
              0.7777777777777778,
              "#fb9f3a"
             ],
             [
              0.8888888888888888,
              "#fdca26"
             ],
             [
              1,
              "#f0f921"
             ]
            ],
            "type": "contour"
           }
          ],
          "contourcarpet": [
           {
            "colorbar": {
             "outlinewidth": 0,
             "ticks": ""
            },
            "type": "contourcarpet"
           }
          ],
          "heatmap": [
           {
            "colorbar": {
             "outlinewidth": 0,
             "ticks": ""
            },
            "colorscale": [
             [
              0,
              "#0d0887"
             ],
             [
              0.1111111111111111,
              "#46039f"
             ],
             [
              0.2222222222222222,
              "#7201a8"
             ],
             [
              0.3333333333333333,
              "#9c179e"
             ],
             [
              0.4444444444444444,
              "#bd3786"
             ],
             [
              0.5555555555555556,
              "#d8576b"
             ],
             [
              0.6666666666666666,
              "#ed7953"
             ],
             [
              0.7777777777777778,
              "#fb9f3a"
             ],
             [
              0.8888888888888888,
              "#fdca26"
             ],
             [
              1,
              "#f0f921"
             ]
            ],
            "type": "heatmap"
           }
          ],
          "heatmapgl": [
           {
            "colorbar": {
             "outlinewidth": 0,
             "ticks": ""
            },
            "colorscale": [
             [
              0,
              "#0d0887"
             ],
             [
              0.1111111111111111,
              "#46039f"
             ],
             [
              0.2222222222222222,
              "#7201a8"
             ],
             [
              0.3333333333333333,
              "#9c179e"
             ],
             [
              0.4444444444444444,
              "#bd3786"
             ],
             [
              0.5555555555555556,
              "#d8576b"
             ],
             [
              0.6666666666666666,
              "#ed7953"
             ],
             [
              0.7777777777777778,
              "#fb9f3a"
             ],
             [
              0.8888888888888888,
              "#fdca26"
             ],
             [
              1,
              "#f0f921"
             ]
            ],
            "type": "heatmapgl"
           }
          ],
          "histogram": [
           {
            "marker": {
             "pattern": {
              "fillmode": "overlay",
              "size": 10,
              "solidity": 0.2
             }
            },
            "type": "histogram"
           }
          ],
          "histogram2d": [
           {
            "colorbar": {
             "outlinewidth": 0,
             "ticks": ""
            },
            "colorscale": [
             [
              0,
              "#0d0887"
             ],
             [
              0.1111111111111111,
              "#46039f"
             ],
             [
              0.2222222222222222,
              "#7201a8"
             ],
             [
              0.3333333333333333,
              "#9c179e"
             ],
             [
              0.4444444444444444,
              "#bd3786"
             ],
             [
              0.5555555555555556,
              "#d8576b"
             ],
             [
              0.6666666666666666,
              "#ed7953"
             ],
             [
              0.7777777777777778,
              "#fb9f3a"
             ],
             [
              0.8888888888888888,
              "#fdca26"
             ],
             [
              1,
              "#f0f921"
             ]
            ],
            "type": "histogram2d"
           }
          ],
          "histogram2dcontour": [
           {
            "colorbar": {
             "outlinewidth": 0,
             "ticks": ""
            },
            "colorscale": [
             [
              0,
              "#0d0887"
             ],
             [
              0.1111111111111111,
              "#46039f"
             ],
             [
              0.2222222222222222,
              "#7201a8"
             ],
             [
              0.3333333333333333,
              "#9c179e"
             ],
             [
              0.4444444444444444,
              "#bd3786"
             ],
             [
              0.5555555555555556,
              "#d8576b"
             ],
             [
              0.6666666666666666,
              "#ed7953"
             ],
             [
              0.7777777777777778,
              "#fb9f3a"
             ],
             [
              0.8888888888888888,
              "#fdca26"
             ],
             [
              1,
              "#f0f921"
             ]
            ],
            "type": "histogram2dcontour"
           }
          ],
          "mesh3d": [
           {
            "colorbar": {
             "outlinewidth": 0,
             "ticks": ""
            },
            "type": "mesh3d"
           }
          ],
          "parcoords": [
           {
            "line": {
             "colorbar": {
              "outlinewidth": 0,
              "ticks": ""
             }
            },
            "type": "parcoords"
           }
          ],
          "pie": [
           {
            "automargin": true,
            "type": "pie"
           }
          ],
          "scatter": [
           {
            "fillpattern": {
             "fillmode": "overlay",
             "size": 10,
             "solidity": 0.2
            },
            "type": "scatter"
           }
          ],
          "scatter3d": [
           {
            "line": {
             "colorbar": {
              "outlinewidth": 0,
              "ticks": ""
             }
            },
            "marker": {
             "colorbar": {
              "outlinewidth": 0,
              "ticks": ""
             }
            },
            "type": "scatter3d"
           }
          ],
          "scattercarpet": [
           {
            "marker": {
             "colorbar": {
              "outlinewidth": 0,
              "ticks": ""
             }
            },
            "type": "scattercarpet"
           }
          ],
          "scattergeo": [
           {
            "marker": {
             "colorbar": {
              "outlinewidth": 0,
              "ticks": ""
             }
            },
            "type": "scattergeo"
           }
          ],
          "scattergl": [
           {
            "marker": {
             "colorbar": {
              "outlinewidth": 0,
              "ticks": ""
             }
            },
            "type": "scattergl"
           }
          ],
          "scattermapbox": [
           {
            "marker": {
             "colorbar": {
              "outlinewidth": 0,
              "ticks": ""
             }
            },
            "type": "scattermapbox"
           }
          ],
          "scatterpolar": [
           {
            "marker": {
             "colorbar": {
              "outlinewidth": 0,
              "ticks": ""
             }
            },
            "type": "scatterpolar"
           }
          ],
          "scatterpolargl": [
           {
            "marker": {
             "colorbar": {
              "outlinewidth": 0,
              "ticks": ""
             }
            },
            "type": "scatterpolargl"
           }
          ],
          "scatterternary": [
           {
            "marker": {
             "colorbar": {
              "outlinewidth": 0,
              "ticks": ""
             }
            },
            "type": "scatterternary"
           }
          ],
          "surface": [
           {
            "colorbar": {
             "outlinewidth": 0,
             "ticks": ""
            },
            "colorscale": [
             [
              0,
              "#0d0887"
             ],
             [
              0.1111111111111111,
              "#46039f"
             ],
             [
              0.2222222222222222,
              "#7201a8"
             ],
             [
              0.3333333333333333,
              "#9c179e"
             ],
             [
              0.4444444444444444,
              "#bd3786"
             ],
             [
              0.5555555555555556,
              "#d8576b"
             ],
             [
              0.6666666666666666,
              "#ed7953"
             ],
             [
              0.7777777777777778,
              "#fb9f3a"
             ],
             [
              0.8888888888888888,
              "#fdca26"
             ],
             [
              1,
              "#f0f921"
             ]
            ],
            "type": "surface"
           }
          ],
          "table": [
           {
            "cells": {
             "fill": {
              "color": "#EBF0F8"
             },
             "line": {
              "color": "white"
             }
            },
            "header": {
             "fill": {
              "color": "#C8D4E3"
             },
             "line": {
              "color": "white"
             }
            },
            "type": "table"
           }
          ]
         },
         "layout": {
          "annotationdefaults": {
           "arrowcolor": "#2a3f5f",
           "arrowhead": 0,
           "arrowwidth": 1
          },
          "autotypenumbers": "strict",
          "coloraxis": {
           "colorbar": {
            "outlinewidth": 0,
            "ticks": ""
           }
          },
          "colorscale": {
           "diverging": [
            [
             0,
             "#8e0152"
            ],
            [
             0.1,
             "#c51b7d"
            ],
            [
             0.2,
             "#de77ae"
            ],
            [
             0.3,
             "#f1b6da"
            ],
            [
             0.4,
             "#fde0ef"
            ],
            [
             0.5,
             "#f7f7f7"
            ],
            [
             0.6,
             "#e6f5d0"
            ],
            [
             0.7,
             "#b8e186"
            ],
            [
             0.8,
             "#7fbc41"
            ],
            [
             0.9,
             "#4d9221"
            ],
            [
             1,
             "#276419"
            ]
           ],
           "sequential": [
            [
             0,
             "#0d0887"
            ],
            [
             0.1111111111111111,
             "#46039f"
            ],
            [
             0.2222222222222222,
             "#7201a8"
            ],
            [
             0.3333333333333333,
             "#9c179e"
            ],
            [
             0.4444444444444444,
             "#bd3786"
            ],
            [
             0.5555555555555556,
             "#d8576b"
            ],
            [
             0.6666666666666666,
             "#ed7953"
            ],
            [
             0.7777777777777778,
             "#fb9f3a"
            ],
            [
             0.8888888888888888,
             "#fdca26"
            ],
            [
             1,
             "#f0f921"
            ]
           ],
           "sequentialminus": [
            [
             0,
             "#0d0887"
            ],
            [
             0.1111111111111111,
             "#46039f"
            ],
            [
             0.2222222222222222,
             "#7201a8"
            ],
            [
             0.3333333333333333,
             "#9c179e"
            ],
            [
             0.4444444444444444,
             "#bd3786"
            ],
            [
             0.5555555555555556,
             "#d8576b"
            ],
            [
             0.6666666666666666,
             "#ed7953"
            ],
            [
             0.7777777777777778,
             "#fb9f3a"
            ],
            [
             0.8888888888888888,
             "#fdca26"
            ],
            [
             1,
             "#f0f921"
            ]
           ]
          },
          "colorway": [
           "#636efa",
           "#EF553B",
           "#00cc96",
           "#ab63fa",
           "#FFA15A",
           "#19d3f3",
           "#FF6692",
           "#B6E880",
           "#FF97FF",
           "#FECB52"
          ],
          "font": {
           "color": "#2a3f5f"
          },
          "geo": {
           "bgcolor": "white",
           "lakecolor": "white",
           "landcolor": "#E5ECF6",
           "showlakes": true,
           "showland": true,
           "subunitcolor": "white"
          },
          "hoverlabel": {
           "align": "left"
          },
          "hovermode": "closest",
          "mapbox": {
           "style": "light"
          },
          "paper_bgcolor": "white",
          "plot_bgcolor": "#E5ECF6",
          "polar": {
           "angularaxis": {
            "gridcolor": "white",
            "linecolor": "white",
            "ticks": ""
           },
           "bgcolor": "#E5ECF6",
           "radialaxis": {
            "gridcolor": "white",
            "linecolor": "white",
            "ticks": ""
           }
          },
          "scene": {
           "xaxis": {
            "backgroundcolor": "#E5ECF6",
            "gridcolor": "white",
            "gridwidth": 2,
            "linecolor": "white",
            "showbackground": true,
            "ticks": "",
            "zerolinecolor": "white"
           },
           "yaxis": {
            "backgroundcolor": "#E5ECF6",
            "gridcolor": "white",
            "gridwidth": 2,
            "linecolor": "white",
            "showbackground": true,
            "ticks": "",
            "zerolinecolor": "white"
           },
           "zaxis": {
            "backgroundcolor": "#E5ECF6",
            "gridcolor": "white",
            "gridwidth": 2,
            "linecolor": "white",
            "showbackground": true,
            "ticks": "",
            "zerolinecolor": "white"
           }
          },
          "shapedefaults": {
           "line": {
            "color": "#2a3f5f"
           }
          },
          "ternary": {
           "aaxis": {
            "gridcolor": "white",
            "linecolor": "white",
            "ticks": ""
           },
           "baxis": {
            "gridcolor": "white",
            "linecolor": "white",
            "ticks": ""
           },
           "bgcolor": "#E5ECF6",
           "caxis": {
            "gridcolor": "white",
            "linecolor": "white",
            "ticks": ""
           }
          },
          "title": {
           "x": 0.05
          },
          "xaxis": {
           "automargin": true,
           "gridcolor": "white",
           "linecolor": "white",
           "ticks": "",
           "title": {
            "standoff": 15
           },
           "zerolinecolor": "white",
           "zerolinewidth": 2
          },
          "yaxis": {
           "automargin": true,
           "gridcolor": "white",
           "linecolor": "white",
           "ticks": "",
           "title": {
            "standoff": 15
           },
           "zerolinecolor": "white",
           "zerolinewidth": 2
          }
         }
        },
        "xaxis": {
         "anchor": "y",
         "constrain": "domain",
         "domain": [
          0,
          1
         ],
         "scaleanchor": "y",
         "title": {
          "text": "Current Season Stats"
         }
        },
        "yaxis": {
         "anchor": "x",
         "autorange": "reversed",
         "constrain": "domain",
         "domain": [
          0,
          1
         ],
         "title": {
          "text": "Previous Season Stats"
         }
        }
       }
      },
      "text/html": [
       "<div>                            <div id=\"66d41bd1-450a-4dbf-a5f2-f3cde189e885\" class=\"plotly-graph-div\" style=\"height:525px; width:100%;\"></div>            <script type=\"text/javascript\">                require([\"plotly\"], function(Plotly) {                    window.PLOTLYENV=window.PLOTLYENV || {};                                    if (document.getElementById(\"66d41bd1-450a-4dbf-a5f2-f3cde189e885\")) {                    Plotly.newPlot(                        \"66d41bd1-450a-4dbf-a5f2-f3cde189e885\",                        [{\"coloraxis\":\"coloraxis\",\"name\":\"0\",\"texttemplate\":\"%{z}\",\"x\":[\"passing_yards\",\"max_air_distance_mean\",\"completions\",\"passing_attempts\"],\"y\":[\"passing_yards_last\",\"max_air_distance_mean_last\",\"completions_last\",\"passing_attempts_last\"],\"z\":[[0.22,-0.18,0.33,0.29],[-0.23,0.6,-0.25,-0.16],[-0.02,-0.26,0.29,0.25],[0.05,-0.21,0.36,0.37]],\"type\":\"heatmap\",\"xaxis\":\"x\",\"yaxis\":\"y\",\"hovertemplate\":\"Current Season Stats: %{x}\\u003cbr\\u003ePrevious Season Stats: %{y}\\u003cbr\\u003ecolor: %{z}\\u003cextra\\u003e\\u003c\\u002fextra\\u003e\"}],                        {\"template\":{\"data\":{\"histogram2dcontour\":[{\"type\":\"histogram2dcontour\",\"colorbar\":{\"outlinewidth\":0,\"ticks\":\"\"},\"colorscale\":[[0.0,\"#0d0887\"],[0.1111111111111111,\"#46039f\"],[0.2222222222222222,\"#7201a8\"],[0.3333333333333333,\"#9c179e\"],[0.4444444444444444,\"#bd3786\"],[0.5555555555555556,\"#d8576b\"],[0.6666666666666666,\"#ed7953\"],[0.7777777777777778,\"#fb9f3a\"],[0.8888888888888888,\"#fdca26\"],[1.0,\"#f0f921\"]]}],\"choropleth\":[{\"type\":\"choropleth\",\"colorbar\":{\"outlinewidth\":0,\"ticks\":\"\"}}],\"histogram2d\":[{\"type\":\"histogram2d\",\"colorbar\":{\"outlinewidth\":0,\"ticks\":\"\"},\"colorscale\":[[0.0,\"#0d0887\"],[0.1111111111111111,\"#46039f\"],[0.2222222222222222,\"#7201a8\"],[0.3333333333333333,\"#9c179e\"],[0.4444444444444444,\"#bd3786\"],[0.5555555555555556,\"#d8576b\"],[0.6666666666666666,\"#ed7953\"],[0.7777777777777778,\"#fb9f3a\"],[0.8888888888888888,\"#fdca26\"],[1.0,\"#f0f921\"]]}],\"heatmap\":[{\"type\":\"heatmap\",\"colorbar\":{\"outlinewidth\":0,\"ticks\":\"\"},\"colorscale\":[[0.0,\"#0d0887\"],[0.1111111111111111,\"#46039f\"],[0.2222222222222222,\"#7201a8\"],[0.3333333333333333,\"#9c179e\"],[0.4444444444444444,\"#bd3786\"],[0.5555555555555556,\"#d8576b\"],[0.6666666666666666,\"#ed7953\"],[0.7777777777777778,\"#fb9f3a\"],[0.8888888888888888,\"#fdca26\"],[1.0,\"#f0f921\"]]}],\"heatmapgl\":[{\"type\":\"heatmapgl\",\"colorbar\":{\"outlinewidth\":0,\"ticks\":\"\"},\"colorscale\":[[0.0,\"#0d0887\"],[0.1111111111111111,\"#46039f\"],[0.2222222222222222,\"#7201a8\"],[0.3333333333333333,\"#9c179e\"],[0.4444444444444444,\"#bd3786\"],[0.5555555555555556,\"#d8576b\"],[0.6666666666666666,\"#ed7953\"],[0.7777777777777778,\"#fb9f3a\"],[0.8888888888888888,\"#fdca26\"],[1.0,\"#f0f921\"]]}],\"contourcarpet\":[{\"type\":\"contourcarpet\",\"colorbar\":{\"outlinewidth\":0,\"ticks\":\"\"}}],\"contour\":[{\"type\":\"contour\",\"colorbar\":{\"outlinewidth\":0,\"ticks\":\"\"},\"colorscale\":[[0.0,\"#0d0887\"],[0.1111111111111111,\"#46039f\"],[0.2222222222222222,\"#7201a8\"],[0.3333333333333333,\"#9c179e\"],[0.4444444444444444,\"#bd3786\"],[0.5555555555555556,\"#d8576b\"],[0.6666666666666666,\"#ed7953\"],[0.7777777777777778,\"#fb9f3a\"],[0.8888888888888888,\"#fdca26\"],[1.0,\"#f0f921\"]]}],\"surface\":[{\"type\":\"surface\",\"colorbar\":{\"outlinewidth\":0,\"ticks\":\"\"},\"colorscale\":[[0.0,\"#0d0887\"],[0.1111111111111111,\"#46039f\"],[0.2222222222222222,\"#7201a8\"],[0.3333333333333333,\"#9c179e\"],[0.4444444444444444,\"#bd3786\"],[0.5555555555555556,\"#d8576b\"],[0.6666666666666666,\"#ed7953\"],[0.7777777777777778,\"#fb9f3a\"],[0.8888888888888888,\"#fdca26\"],[1.0,\"#f0f921\"]]}],\"mesh3d\":[{\"type\":\"mesh3d\",\"colorbar\":{\"outlinewidth\":0,\"ticks\":\"\"}}],\"scatter\":[{\"fillpattern\":{\"fillmode\":\"overlay\",\"size\":10,\"solidity\":0.2},\"type\":\"scatter\"}],\"parcoords\":[{\"type\":\"parcoords\",\"line\":{\"colorbar\":{\"outlinewidth\":0,\"ticks\":\"\"}}}],\"scatterpolargl\":[{\"type\":\"scatterpolargl\",\"marker\":{\"colorbar\":{\"outlinewidth\":0,\"ticks\":\"\"}}}],\"bar\":[{\"error_x\":{\"color\":\"#2a3f5f\"},\"error_y\":{\"color\":\"#2a3f5f\"},\"marker\":{\"line\":{\"color\":\"#E5ECF6\",\"width\":0.5},\"pattern\":{\"fillmode\":\"overlay\",\"size\":10,\"solidity\":0.2}},\"type\":\"bar\"}],\"scattergeo\":[{\"type\":\"scattergeo\",\"marker\":{\"colorbar\":{\"outlinewidth\":0,\"ticks\":\"\"}}}],\"scatterpolar\":[{\"type\":\"scatterpolar\",\"marker\":{\"colorbar\":{\"outlinewidth\":0,\"ticks\":\"\"}}}],\"histogram\":[{\"marker\":{\"pattern\":{\"fillmode\":\"overlay\",\"size\":10,\"solidity\":0.2}},\"type\":\"histogram\"}],\"scattergl\":[{\"type\":\"scattergl\",\"marker\":{\"colorbar\":{\"outlinewidth\":0,\"ticks\":\"\"}}}],\"scatter3d\":[{\"type\":\"scatter3d\",\"line\":{\"colorbar\":{\"outlinewidth\":0,\"ticks\":\"\"}},\"marker\":{\"colorbar\":{\"outlinewidth\":0,\"ticks\":\"\"}}}],\"scattermapbox\":[{\"type\":\"scattermapbox\",\"marker\":{\"colorbar\":{\"outlinewidth\":0,\"ticks\":\"\"}}}],\"scatterternary\":[{\"type\":\"scatterternary\",\"marker\":{\"colorbar\":{\"outlinewidth\":0,\"ticks\":\"\"}}}],\"scattercarpet\":[{\"type\":\"scattercarpet\",\"marker\":{\"colorbar\":{\"outlinewidth\":0,\"ticks\":\"\"}}}],\"carpet\":[{\"aaxis\":{\"endlinecolor\":\"#2a3f5f\",\"gridcolor\":\"white\",\"linecolor\":\"white\",\"minorgridcolor\":\"white\",\"startlinecolor\":\"#2a3f5f\"},\"baxis\":{\"endlinecolor\":\"#2a3f5f\",\"gridcolor\":\"white\",\"linecolor\":\"white\",\"minorgridcolor\":\"white\",\"startlinecolor\":\"#2a3f5f\"},\"type\":\"carpet\"}],\"table\":[{\"cells\":{\"fill\":{\"color\":\"#EBF0F8\"},\"line\":{\"color\":\"white\"}},\"header\":{\"fill\":{\"color\":\"#C8D4E3\"},\"line\":{\"color\":\"white\"}},\"type\":\"table\"}],\"barpolar\":[{\"marker\":{\"line\":{\"color\":\"#E5ECF6\",\"width\":0.5},\"pattern\":{\"fillmode\":\"overlay\",\"size\":10,\"solidity\":0.2}},\"type\":\"barpolar\"}],\"pie\":[{\"automargin\":true,\"type\":\"pie\"}]},\"layout\":{\"autotypenumbers\":\"strict\",\"colorway\":[\"#636efa\",\"#EF553B\",\"#00cc96\",\"#ab63fa\",\"#FFA15A\",\"#19d3f3\",\"#FF6692\",\"#B6E880\",\"#FF97FF\",\"#FECB52\"],\"font\":{\"color\":\"#2a3f5f\"},\"hovermode\":\"closest\",\"hoverlabel\":{\"align\":\"left\"},\"paper_bgcolor\":\"white\",\"plot_bgcolor\":\"#E5ECF6\",\"polar\":{\"bgcolor\":\"#E5ECF6\",\"angularaxis\":{\"gridcolor\":\"white\",\"linecolor\":\"white\",\"ticks\":\"\"},\"radialaxis\":{\"gridcolor\":\"white\",\"linecolor\":\"white\",\"ticks\":\"\"}},\"ternary\":{\"bgcolor\":\"#E5ECF6\",\"aaxis\":{\"gridcolor\":\"white\",\"linecolor\":\"white\",\"ticks\":\"\"},\"baxis\":{\"gridcolor\":\"white\",\"linecolor\":\"white\",\"ticks\":\"\"},\"caxis\":{\"gridcolor\":\"white\",\"linecolor\":\"white\",\"ticks\":\"\"}},\"coloraxis\":{\"colorbar\":{\"outlinewidth\":0,\"ticks\":\"\"}},\"colorscale\":{\"sequential\":[[0.0,\"#0d0887\"],[0.1111111111111111,\"#46039f\"],[0.2222222222222222,\"#7201a8\"],[0.3333333333333333,\"#9c179e\"],[0.4444444444444444,\"#bd3786\"],[0.5555555555555556,\"#d8576b\"],[0.6666666666666666,\"#ed7953\"],[0.7777777777777778,\"#fb9f3a\"],[0.8888888888888888,\"#fdca26\"],[1.0,\"#f0f921\"]],\"sequentialminus\":[[0.0,\"#0d0887\"],[0.1111111111111111,\"#46039f\"],[0.2222222222222222,\"#7201a8\"],[0.3333333333333333,\"#9c179e\"],[0.4444444444444444,\"#bd3786\"],[0.5555555555555556,\"#d8576b\"],[0.6666666666666666,\"#ed7953\"],[0.7777777777777778,\"#fb9f3a\"],[0.8888888888888888,\"#fdca26\"],[1.0,\"#f0f921\"]],\"diverging\":[[0,\"#8e0152\"],[0.1,\"#c51b7d\"],[0.2,\"#de77ae\"],[0.3,\"#f1b6da\"],[0.4,\"#fde0ef\"],[0.5,\"#f7f7f7\"],[0.6,\"#e6f5d0\"],[0.7,\"#b8e186\"],[0.8,\"#7fbc41\"],[0.9,\"#4d9221\"],[1,\"#276419\"]]},\"xaxis\":{\"gridcolor\":\"white\",\"linecolor\":\"white\",\"ticks\":\"\",\"title\":{\"standoff\":15},\"zerolinecolor\":\"white\",\"automargin\":true,\"zerolinewidth\":2},\"yaxis\":{\"gridcolor\":\"white\",\"linecolor\":\"white\",\"ticks\":\"\",\"title\":{\"standoff\":15},\"zerolinecolor\":\"white\",\"automargin\":true,\"zerolinewidth\":2},\"scene\":{\"xaxis\":{\"backgroundcolor\":\"#E5ECF6\",\"gridcolor\":\"white\",\"linecolor\":\"white\",\"showbackground\":true,\"ticks\":\"\",\"zerolinecolor\":\"white\",\"gridwidth\":2},\"yaxis\":{\"backgroundcolor\":\"#E5ECF6\",\"gridcolor\":\"white\",\"linecolor\":\"white\",\"showbackground\":true,\"ticks\":\"\",\"zerolinecolor\":\"white\",\"gridwidth\":2},\"zaxis\":{\"backgroundcolor\":\"#E5ECF6\",\"gridcolor\":\"white\",\"linecolor\":\"white\",\"showbackground\":true,\"ticks\":\"\",\"zerolinecolor\":\"white\",\"gridwidth\":2}},\"shapedefaults\":{\"line\":{\"color\":\"#2a3f5f\"}},\"annotationdefaults\":{\"arrowcolor\":\"#2a3f5f\",\"arrowhead\":0,\"arrowwidth\":1},\"geo\":{\"bgcolor\":\"white\",\"landcolor\":\"#E5ECF6\",\"subunitcolor\":\"white\",\"showland\":true,\"showlakes\":true,\"lakecolor\":\"white\"},\"title\":{\"x\":0.05},\"mapbox\":{\"style\":\"light\"}}},\"xaxis\":{\"anchor\":\"y\",\"domain\":[0.0,1.0],\"scaleanchor\":\"y\",\"constrain\":\"domain\",\"title\":{\"text\":\"Current Season Stats\"}},\"yaxis\":{\"anchor\":\"x\",\"domain\":[0.0,1.0],\"autorange\":\"reversed\",\"constrain\":\"domain\",\"title\":{\"text\":\"Previous Season Stats\"}},\"coloraxis\":{\"colorscale\":[[0.0,\"#0d0887\"],[0.1111111111111111,\"#46039f\"],[0.2222222222222222,\"#7201a8\"],[0.3333333333333333,\"#9c179e\"],[0.4444444444444444,\"#bd3786\"],[0.5555555555555556,\"#d8576b\"],[0.6666666666666666,\"#ed7953\"],[0.7777777777777778,\"#fb9f3a\"],[0.8888888888888888,\"#fdca26\"],[1.0,\"#f0f921\"]]},\"margin\":{\"t\":60}},                        {\"responsive\": true}                    ).then(function(){\n",
       "                            \n",
       "var gd = document.getElementById('66d41bd1-450a-4dbf-a5f2-f3cde189e885');\n",
       "var x = new MutationObserver(function (mutations, observer) {{\n",
       "        var display = window.getComputedStyle(gd).display;\n",
       "        if (!display || display === 'none') {{\n",
       "            console.log([gd, 'removed!']);\n",
       "            Plotly.purge(gd);\n",
       "            observer.disconnect();\n",
       "        }}\n",
       "}});\n",
       "\n",
       "// Listen for the removal of the full notebook cells\n",
       "var notebookContainer = gd.closest('#notebook-container');\n",
       "if (notebookContainer) {{\n",
       "    x.observe(notebookContainer, {childList: true});\n",
       "}}\n",
       "\n",
       "// Listen for the clearing of the current output cell\n",
       "var outputEl = gd.closest('.output');\n",
       "if (outputEl) {{\n",
       "    x.observe(outputEl, {childList: true});\n",
       "}}\n",
       "\n",
       "                        })                };                });            </script>        </div>"
      ]
     },
     "metadata": {},
     "output_type": "display_data"
    }
   ],
   "source": [
    "corr_mat, x, y = create_correlation_matrix(df.query(query), x, y)\n",
    "plot_correlation_matrix(corr_mat, x, y)"
   ]
  },
  {
   "cell_type": "markdown",
   "id": "3e14206b",
   "metadata": {},
   "source": [
    "# Specific Player Checks"
   ]
  },
  {
   "cell_type": "code",
   "execution_count": 173,
   "id": "731ba38a",
   "metadata": {},
   "outputs": [],
   "source": [
    "x = [\n",
    "    \"fantasy_points_per_game\",\n",
    "    \"fantasy_points\",\n",
    "    \"passing_yards\",\n",
    "    \"max_air_distance_mean\",\n",
    "    \"completions\",\n",
    "    \"passing_attempts\"\n",
    "]"
   ]
  },
  {
   "cell_type": "code",
   "execution_count": 174,
   "id": "6a912562",
   "metadata": {},
   "outputs": [],
   "source": [
    "y = [\n",
    "    \"fantasy_points_last_per_game\",\n",
    "    \"fantasy_points_last\",\n",
    "    \"passing_yards_last\",\n",
    "    \"max_air_distance_mean_last\",\n",
    "    \"completions_last\",\n",
    "    \"passing_attempts_last\"\n",
    "]"
   ]
  },
  {
   "cell_type": "code",
   "execution_count": 180,
   "id": "e926ae1b",
   "metadata": {},
   "outputs": [
    {
     "data": {
      "application/vnd.plotly.v1+json": {
       "config": {
        "plotlyServerURL": "https://plot.ly"
       },
       "data": [
        {
         "coloraxis": "coloraxis",
         "hovertemplate": "Current Season Stats: %{x}<br>Previous Season Stats: %{y}<br>color: %{z}<extra></extra>",
         "name": "0",
         "texttemplate": "%{z}",
         "type": "heatmap",
         "x": [
          "fantasy_points_per_game",
          "fantasy_points",
          "passing_yards",
          "max_air_distance_mean",
          "completions",
          "passing_attempts"
         ],
         "xaxis": "x",
         "y": [
          "fantasy_points_last_per_game",
          "fantasy_points_last",
          "passing_yards_last",
          "max_air_distance_mean_last",
          "completions_last",
          "passing_attempts_last"
         ],
         "yaxis": "y",
         "z": [
          [
           -0.81,
           -0.86,
           -0.82,
           0.61,
           -0.79,
           -0.78
          ],
          [
           -0.84,
           -0.58,
           -0.46,
           0.38,
           -0.37,
           -0.37
          ],
          [
           -0.71,
           -0.42,
           -0.3,
           0.17,
           -0.26,
           -0.26
          ],
          [
           0.18,
           -0.41,
           -0.56,
           0.14,
           -0.79,
           -0.81
          ],
          [
           -0.18,
           0.27,
           0.38,
           -0.46,
           0.34,
           0.33
          ],
          [
           -0.17,
           0.27,
           0.38,
           -0.46,
           0.34,
           0.32
          ]
         ]
        }
       ],
       "layout": {
        "coloraxis": {
         "colorscale": [
          [
           0,
           "#0d0887"
          ],
          [
           0.1111111111111111,
           "#46039f"
          ],
          [
           0.2222222222222222,
           "#7201a8"
          ],
          [
           0.3333333333333333,
           "#9c179e"
          ],
          [
           0.4444444444444444,
           "#bd3786"
          ],
          [
           0.5555555555555556,
           "#d8576b"
          ],
          [
           0.6666666666666666,
           "#ed7953"
          ],
          [
           0.7777777777777778,
           "#fb9f3a"
          ],
          [
           0.8888888888888888,
           "#fdca26"
          ],
          [
           1,
           "#f0f921"
          ]
         ]
        },
        "margin": {
         "t": 60
        },
        "template": {
         "data": {
          "bar": [
           {
            "error_x": {
             "color": "#2a3f5f"
            },
            "error_y": {
             "color": "#2a3f5f"
            },
            "marker": {
             "line": {
              "color": "#E5ECF6",
              "width": 0.5
             },
             "pattern": {
              "fillmode": "overlay",
              "size": 10,
              "solidity": 0.2
             }
            },
            "type": "bar"
           }
          ],
          "barpolar": [
           {
            "marker": {
             "line": {
              "color": "#E5ECF6",
              "width": 0.5
             },
             "pattern": {
              "fillmode": "overlay",
              "size": 10,
              "solidity": 0.2
             }
            },
            "type": "barpolar"
           }
          ],
          "carpet": [
           {
            "aaxis": {
             "endlinecolor": "#2a3f5f",
             "gridcolor": "white",
             "linecolor": "white",
             "minorgridcolor": "white",
             "startlinecolor": "#2a3f5f"
            },
            "baxis": {
             "endlinecolor": "#2a3f5f",
             "gridcolor": "white",
             "linecolor": "white",
             "minorgridcolor": "white",
             "startlinecolor": "#2a3f5f"
            },
            "type": "carpet"
           }
          ],
          "choropleth": [
           {
            "colorbar": {
             "outlinewidth": 0,
             "ticks": ""
            },
            "type": "choropleth"
           }
          ],
          "contour": [
           {
            "colorbar": {
             "outlinewidth": 0,
             "ticks": ""
            },
            "colorscale": [
             [
              0,
              "#0d0887"
             ],
             [
              0.1111111111111111,
              "#46039f"
             ],
             [
              0.2222222222222222,
              "#7201a8"
             ],
             [
              0.3333333333333333,
              "#9c179e"
             ],
             [
              0.4444444444444444,
              "#bd3786"
             ],
             [
              0.5555555555555556,
              "#d8576b"
             ],
             [
              0.6666666666666666,
              "#ed7953"
             ],
             [
              0.7777777777777778,
              "#fb9f3a"
             ],
             [
              0.8888888888888888,
              "#fdca26"
             ],
             [
              1,
              "#f0f921"
             ]
            ],
            "type": "contour"
           }
          ],
          "contourcarpet": [
           {
            "colorbar": {
             "outlinewidth": 0,
             "ticks": ""
            },
            "type": "contourcarpet"
           }
          ],
          "heatmap": [
           {
            "colorbar": {
             "outlinewidth": 0,
             "ticks": ""
            },
            "colorscale": [
             [
              0,
              "#0d0887"
             ],
             [
              0.1111111111111111,
              "#46039f"
             ],
             [
              0.2222222222222222,
              "#7201a8"
             ],
             [
              0.3333333333333333,
              "#9c179e"
             ],
             [
              0.4444444444444444,
              "#bd3786"
             ],
             [
              0.5555555555555556,
              "#d8576b"
             ],
             [
              0.6666666666666666,
              "#ed7953"
             ],
             [
              0.7777777777777778,
              "#fb9f3a"
             ],
             [
              0.8888888888888888,
              "#fdca26"
             ],
             [
              1,
              "#f0f921"
             ]
            ],
            "type": "heatmap"
           }
          ],
          "heatmapgl": [
           {
            "colorbar": {
             "outlinewidth": 0,
             "ticks": ""
            },
            "colorscale": [
             [
              0,
              "#0d0887"
             ],
             [
              0.1111111111111111,
              "#46039f"
             ],
             [
              0.2222222222222222,
              "#7201a8"
             ],
             [
              0.3333333333333333,
              "#9c179e"
             ],
             [
              0.4444444444444444,
              "#bd3786"
             ],
             [
              0.5555555555555556,
              "#d8576b"
             ],
             [
              0.6666666666666666,
              "#ed7953"
             ],
             [
              0.7777777777777778,
              "#fb9f3a"
             ],
             [
              0.8888888888888888,
              "#fdca26"
             ],
             [
              1,
              "#f0f921"
             ]
            ],
            "type": "heatmapgl"
           }
          ],
          "histogram": [
           {
            "marker": {
             "pattern": {
              "fillmode": "overlay",
              "size": 10,
              "solidity": 0.2
             }
            },
            "type": "histogram"
           }
          ],
          "histogram2d": [
           {
            "colorbar": {
             "outlinewidth": 0,
             "ticks": ""
            },
            "colorscale": [
             [
              0,
              "#0d0887"
             ],
             [
              0.1111111111111111,
              "#46039f"
             ],
             [
              0.2222222222222222,
              "#7201a8"
             ],
             [
              0.3333333333333333,
              "#9c179e"
             ],
             [
              0.4444444444444444,
              "#bd3786"
             ],
             [
              0.5555555555555556,
              "#d8576b"
             ],
             [
              0.6666666666666666,
              "#ed7953"
             ],
             [
              0.7777777777777778,
              "#fb9f3a"
             ],
             [
              0.8888888888888888,
              "#fdca26"
             ],
             [
              1,
              "#f0f921"
             ]
            ],
            "type": "histogram2d"
           }
          ],
          "histogram2dcontour": [
           {
            "colorbar": {
             "outlinewidth": 0,
             "ticks": ""
            },
            "colorscale": [
             [
              0,
              "#0d0887"
             ],
             [
              0.1111111111111111,
              "#46039f"
             ],
             [
              0.2222222222222222,
              "#7201a8"
             ],
             [
              0.3333333333333333,
              "#9c179e"
             ],
             [
              0.4444444444444444,
              "#bd3786"
             ],
             [
              0.5555555555555556,
              "#d8576b"
             ],
             [
              0.6666666666666666,
              "#ed7953"
             ],
             [
              0.7777777777777778,
              "#fb9f3a"
             ],
             [
              0.8888888888888888,
              "#fdca26"
             ],
             [
              1,
              "#f0f921"
             ]
            ],
            "type": "histogram2dcontour"
           }
          ],
          "mesh3d": [
           {
            "colorbar": {
             "outlinewidth": 0,
             "ticks": ""
            },
            "type": "mesh3d"
           }
          ],
          "parcoords": [
           {
            "line": {
             "colorbar": {
              "outlinewidth": 0,
              "ticks": ""
             }
            },
            "type": "parcoords"
           }
          ],
          "pie": [
           {
            "automargin": true,
            "type": "pie"
           }
          ],
          "scatter": [
           {
            "fillpattern": {
             "fillmode": "overlay",
             "size": 10,
             "solidity": 0.2
            },
            "type": "scatter"
           }
          ],
          "scatter3d": [
           {
            "line": {
             "colorbar": {
              "outlinewidth": 0,
              "ticks": ""
             }
            },
            "marker": {
             "colorbar": {
              "outlinewidth": 0,
              "ticks": ""
             }
            },
            "type": "scatter3d"
           }
          ],
          "scattercarpet": [
           {
            "marker": {
             "colorbar": {
              "outlinewidth": 0,
              "ticks": ""
             }
            },
            "type": "scattercarpet"
           }
          ],
          "scattergeo": [
           {
            "marker": {
             "colorbar": {
              "outlinewidth": 0,
              "ticks": ""
             }
            },
            "type": "scattergeo"
           }
          ],
          "scattergl": [
           {
            "marker": {
             "colorbar": {
              "outlinewidth": 0,
              "ticks": ""
             }
            },
            "type": "scattergl"
           }
          ],
          "scattermapbox": [
           {
            "marker": {
             "colorbar": {
              "outlinewidth": 0,
              "ticks": ""
             }
            },
            "type": "scattermapbox"
           }
          ],
          "scatterpolar": [
           {
            "marker": {
             "colorbar": {
              "outlinewidth": 0,
              "ticks": ""
             }
            },
            "type": "scatterpolar"
           }
          ],
          "scatterpolargl": [
           {
            "marker": {
             "colorbar": {
              "outlinewidth": 0,
              "ticks": ""
             }
            },
            "type": "scatterpolargl"
           }
          ],
          "scatterternary": [
           {
            "marker": {
             "colorbar": {
              "outlinewidth": 0,
              "ticks": ""
             }
            },
            "type": "scatterternary"
           }
          ],
          "surface": [
           {
            "colorbar": {
             "outlinewidth": 0,
             "ticks": ""
            },
            "colorscale": [
             [
              0,
              "#0d0887"
             ],
             [
              0.1111111111111111,
              "#46039f"
             ],
             [
              0.2222222222222222,
              "#7201a8"
             ],
             [
              0.3333333333333333,
              "#9c179e"
             ],
             [
              0.4444444444444444,
              "#bd3786"
             ],
             [
              0.5555555555555556,
              "#d8576b"
             ],
             [
              0.6666666666666666,
              "#ed7953"
             ],
             [
              0.7777777777777778,
              "#fb9f3a"
             ],
             [
              0.8888888888888888,
              "#fdca26"
             ],
             [
              1,
              "#f0f921"
             ]
            ],
            "type": "surface"
           }
          ],
          "table": [
           {
            "cells": {
             "fill": {
              "color": "#EBF0F8"
             },
             "line": {
              "color": "white"
             }
            },
            "header": {
             "fill": {
              "color": "#C8D4E3"
             },
             "line": {
              "color": "white"
             }
            },
            "type": "table"
           }
          ]
         },
         "layout": {
          "annotationdefaults": {
           "arrowcolor": "#2a3f5f",
           "arrowhead": 0,
           "arrowwidth": 1
          },
          "autotypenumbers": "strict",
          "coloraxis": {
           "colorbar": {
            "outlinewidth": 0,
            "ticks": ""
           }
          },
          "colorscale": {
           "diverging": [
            [
             0,
             "#8e0152"
            ],
            [
             0.1,
             "#c51b7d"
            ],
            [
             0.2,
             "#de77ae"
            ],
            [
             0.3,
             "#f1b6da"
            ],
            [
             0.4,
             "#fde0ef"
            ],
            [
             0.5,
             "#f7f7f7"
            ],
            [
             0.6,
             "#e6f5d0"
            ],
            [
             0.7,
             "#b8e186"
            ],
            [
             0.8,
             "#7fbc41"
            ],
            [
             0.9,
             "#4d9221"
            ],
            [
             1,
             "#276419"
            ]
           ],
           "sequential": [
            [
             0,
             "#0d0887"
            ],
            [
             0.1111111111111111,
             "#46039f"
            ],
            [
             0.2222222222222222,
             "#7201a8"
            ],
            [
             0.3333333333333333,
             "#9c179e"
            ],
            [
             0.4444444444444444,
             "#bd3786"
            ],
            [
             0.5555555555555556,
             "#d8576b"
            ],
            [
             0.6666666666666666,
             "#ed7953"
            ],
            [
             0.7777777777777778,
             "#fb9f3a"
            ],
            [
             0.8888888888888888,
             "#fdca26"
            ],
            [
             1,
             "#f0f921"
            ]
           ],
           "sequentialminus": [
            [
             0,
             "#0d0887"
            ],
            [
             0.1111111111111111,
             "#46039f"
            ],
            [
             0.2222222222222222,
             "#7201a8"
            ],
            [
             0.3333333333333333,
             "#9c179e"
            ],
            [
             0.4444444444444444,
             "#bd3786"
            ],
            [
             0.5555555555555556,
             "#d8576b"
            ],
            [
             0.6666666666666666,
             "#ed7953"
            ],
            [
             0.7777777777777778,
             "#fb9f3a"
            ],
            [
             0.8888888888888888,
             "#fdca26"
            ],
            [
             1,
             "#f0f921"
            ]
           ]
          },
          "colorway": [
           "#636efa",
           "#EF553B",
           "#00cc96",
           "#ab63fa",
           "#FFA15A",
           "#19d3f3",
           "#FF6692",
           "#B6E880",
           "#FF97FF",
           "#FECB52"
          ],
          "font": {
           "color": "#2a3f5f"
          },
          "geo": {
           "bgcolor": "white",
           "lakecolor": "white",
           "landcolor": "#E5ECF6",
           "showlakes": true,
           "showland": true,
           "subunitcolor": "white"
          },
          "hoverlabel": {
           "align": "left"
          },
          "hovermode": "closest",
          "mapbox": {
           "style": "light"
          },
          "paper_bgcolor": "white",
          "plot_bgcolor": "#E5ECF6",
          "polar": {
           "angularaxis": {
            "gridcolor": "white",
            "linecolor": "white",
            "ticks": ""
           },
           "bgcolor": "#E5ECF6",
           "radialaxis": {
            "gridcolor": "white",
            "linecolor": "white",
            "ticks": ""
           }
          },
          "scene": {
           "xaxis": {
            "backgroundcolor": "#E5ECF6",
            "gridcolor": "white",
            "gridwidth": 2,
            "linecolor": "white",
            "showbackground": true,
            "ticks": "",
            "zerolinecolor": "white"
           },
           "yaxis": {
            "backgroundcolor": "#E5ECF6",
            "gridcolor": "white",
            "gridwidth": 2,
            "linecolor": "white",
            "showbackground": true,
            "ticks": "",
            "zerolinecolor": "white"
           },
           "zaxis": {
            "backgroundcolor": "#E5ECF6",
            "gridcolor": "white",
            "gridwidth": 2,
            "linecolor": "white",
            "showbackground": true,
            "ticks": "",
            "zerolinecolor": "white"
           }
          },
          "shapedefaults": {
           "line": {
            "color": "#2a3f5f"
           }
          },
          "ternary": {
           "aaxis": {
            "gridcolor": "white",
            "linecolor": "white",
            "ticks": ""
           },
           "baxis": {
            "gridcolor": "white",
            "linecolor": "white",
            "ticks": ""
           },
           "bgcolor": "#E5ECF6",
           "caxis": {
            "gridcolor": "white",
            "linecolor": "white",
            "ticks": ""
           }
          },
          "title": {
           "x": 0.05
          },
          "xaxis": {
           "automargin": true,
           "gridcolor": "white",
           "linecolor": "white",
           "ticks": "",
           "title": {
            "standoff": 15
           },
           "zerolinecolor": "white",
           "zerolinewidth": 2
          },
          "yaxis": {
           "automargin": true,
           "gridcolor": "white",
           "linecolor": "white",
           "ticks": "",
           "title": {
            "standoff": 15
           },
           "zerolinecolor": "white",
           "zerolinewidth": 2
          }
         }
        },
        "xaxis": {
         "anchor": "y",
         "constrain": "domain",
         "domain": [
          0,
          1
         ],
         "scaleanchor": "y",
         "title": {
          "text": "Current Season Stats"
         }
        },
        "yaxis": {
         "anchor": "x",
         "autorange": "reversed",
         "constrain": "domain",
         "domain": [
          0,
          1
         ],
         "title": {
          "text": "Previous Season Stats"
         }
        }
       }
      },
      "text/html": [
       "<div>                            <div id=\"1a388ddf-91e7-42fa-b7a4-f234beeec8fa\" class=\"plotly-graph-div\" style=\"height:525px; width:100%;\"></div>            <script type=\"text/javascript\">                require([\"plotly\"], function(Plotly) {                    window.PLOTLYENV=window.PLOTLYENV || {};                                    if (document.getElementById(\"1a388ddf-91e7-42fa-b7a4-f234beeec8fa\")) {                    Plotly.newPlot(                        \"1a388ddf-91e7-42fa-b7a4-f234beeec8fa\",                        [{\"coloraxis\":\"coloraxis\",\"name\":\"0\",\"texttemplate\":\"%{z}\",\"x\":[\"fantasy_points_per_game\",\"fantasy_points\",\"passing_yards\",\"max_air_distance_mean\",\"completions\",\"passing_attempts\"],\"y\":[\"fantasy_points_last_per_game\",\"fantasy_points_last\",\"passing_yards_last\",\"max_air_distance_mean_last\",\"completions_last\",\"passing_attempts_last\"],\"z\":[[-0.81,-0.86,-0.82,0.61,-0.79,-0.78],[-0.84,-0.58,-0.46,0.38,-0.37,-0.37],[-0.71,-0.42,-0.3,0.17,-0.26,-0.26],[0.18,-0.41,-0.56,0.14,-0.79,-0.81],[-0.18,0.27,0.38,-0.46,0.34,0.33],[-0.17,0.27,0.38,-0.46,0.34,0.32]],\"type\":\"heatmap\",\"xaxis\":\"x\",\"yaxis\":\"y\",\"hovertemplate\":\"Current Season Stats: %{x}\\u003cbr\\u003ePrevious Season Stats: %{y}\\u003cbr\\u003ecolor: %{z}\\u003cextra\\u003e\\u003c\\u002fextra\\u003e\"}],                        {\"template\":{\"data\":{\"histogram2dcontour\":[{\"type\":\"histogram2dcontour\",\"colorbar\":{\"outlinewidth\":0,\"ticks\":\"\"},\"colorscale\":[[0.0,\"#0d0887\"],[0.1111111111111111,\"#46039f\"],[0.2222222222222222,\"#7201a8\"],[0.3333333333333333,\"#9c179e\"],[0.4444444444444444,\"#bd3786\"],[0.5555555555555556,\"#d8576b\"],[0.6666666666666666,\"#ed7953\"],[0.7777777777777778,\"#fb9f3a\"],[0.8888888888888888,\"#fdca26\"],[1.0,\"#f0f921\"]]}],\"choropleth\":[{\"type\":\"choropleth\",\"colorbar\":{\"outlinewidth\":0,\"ticks\":\"\"}}],\"histogram2d\":[{\"type\":\"histogram2d\",\"colorbar\":{\"outlinewidth\":0,\"ticks\":\"\"},\"colorscale\":[[0.0,\"#0d0887\"],[0.1111111111111111,\"#46039f\"],[0.2222222222222222,\"#7201a8\"],[0.3333333333333333,\"#9c179e\"],[0.4444444444444444,\"#bd3786\"],[0.5555555555555556,\"#d8576b\"],[0.6666666666666666,\"#ed7953\"],[0.7777777777777778,\"#fb9f3a\"],[0.8888888888888888,\"#fdca26\"],[1.0,\"#f0f921\"]]}],\"heatmap\":[{\"type\":\"heatmap\",\"colorbar\":{\"outlinewidth\":0,\"ticks\":\"\"},\"colorscale\":[[0.0,\"#0d0887\"],[0.1111111111111111,\"#46039f\"],[0.2222222222222222,\"#7201a8\"],[0.3333333333333333,\"#9c179e\"],[0.4444444444444444,\"#bd3786\"],[0.5555555555555556,\"#d8576b\"],[0.6666666666666666,\"#ed7953\"],[0.7777777777777778,\"#fb9f3a\"],[0.8888888888888888,\"#fdca26\"],[1.0,\"#f0f921\"]]}],\"heatmapgl\":[{\"type\":\"heatmapgl\",\"colorbar\":{\"outlinewidth\":0,\"ticks\":\"\"},\"colorscale\":[[0.0,\"#0d0887\"],[0.1111111111111111,\"#46039f\"],[0.2222222222222222,\"#7201a8\"],[0.3333333333333333,\"#9c179e\"],[0.4444444444444444,\"#bd3786\"],[0.5555555555555556,\"#d8576b\"],[0.6666666666666666,\"#ed7953\"],[0.7777777777777778,\"#fb9f3a\"],[0.8888888888888888,\"#fdca26\"],[1.0,\"#f0f921\"]]}],\"contourcarpet\":[{\"type\":\"contourcarpet\",\"colorbar\":{\"outlinewidth\":0,\"ticks\":\"\"}}],\"contour\":[{\"type\":\"contour\",\"colorbar\":{\"outlinewidth\":0,\"ticks\":\"\"},\"colorscale\":[[0.0,\"#0d0887\"],[0.1111111111111111,\"#46039f\"],[0.2222222222222222,\"#7201a8\"],[0.3333333333333333,\"#9c179e\"],[0.4444444444444444,\"#bd3786\"],[0.5555555555555556,\"#d8576b\"],[0.6666666666666666,\"#ed7953\"],[0.7777777777777778,\"#fb9f3a\"],[0.8888888888888888,\"#fdca26\"],[1.0,\"#f0f921\"]]}],\"surface\":[{\"type\":\"surface\",\"colorbar\":{\"outlinewidth\":0,\"ticks\":\"\"},\"colorscale\":[[0.0,\"#0d0887\"],[0.1111111111111111,\"#46039f\"],[0.2222222222222222,\"#7201a8\"],[0.3333333333333333,\"#9c179e\"],[0.4444444444444444,\"#bd3786\"],[0.5555555555555556,\"#d8576b\"],[0.6666666666666666,\"#ed7953\"],[0.7777777777777778,\"#fb9f3a\"],[0.8888888888888888,\"#fdca26\"],[1.0,\"#f0f921\"]]}],\"mesh3d\":[{\"type\":\"mesh3d\",\"colorbar\":{\"outlinewidth\":0,\"ticks\":\"\"}}],\"scatter\":[{\"fillpattern\":{\"fillmode\":\"overlay\",\"size\":10,\"solidity\":0.2},\"type\":\"scatter\"}],\"parcoords\":[{\"type\":\"parcoords\",\"line\":{\"colorbar\":{\"outlinewidth\":0,\"ticks\":\"\"}}}],\"scatterpolargl\":[{\"type\":\"scatterpolargl\",\"marker\":{\"colorbar\":{\"outlinewidth\":0,\"ticks\":\"\"}}}],\"bar\":[{\"error_x\":{\"color\":\"#2a3f5f\"},\"error_y\":{\"color\":\"#2a3f5f\"},\"marker\":{\"line\":{\"color\":\"#E5ECF6\",\"width\":0.5},\"pattern\":{\"fillmode\":\"overlay\",\"size\":10,\"solidity\":0.2}},\"type\":\"bar\"}],\"scattergeo\":[{\"type\":\"scattergeo\",\"marker\":{\"colorbar\":{\"outlinewidth\":0,\"ticks\":\"\"}}}],\"scatterpolar\":[{\"type\":\"scatterpolar\",\"marker\":{\"colorbar\":{\"outlinewidth\":0,\"ticks\":\"\"}}}],\"histogram\":[{\"marker\":{\"pattern\":{\"fillmode\":\"overlay\",\"size\":10,\"solidity\":0.2}},\"type\":\"histogram\"}],\"scattergl\":[{\"type\":\"scattergl\",\"marker\":{\"colorbar\":{\"outlinewidth\":0,\"ticks\":\"\"}}}],\"scatter3d\":[{\"type\":\"scatter3d\",\"line\":{\"colorbar\":{\"outlinewidth\":0,\"ticks\":\"\"}},\"marker\":{\"colorbar\":{\"outlinewidth\":0,\"ticks\":\"\"}}}],\"scattermapbox\":[{\"type\":\"scattermapbox\",\"marker\":{\"colorbar\":{\"outlinewidth\":0,\"ticks\":\"\"}}}],\"scatterternary\":[{\"type\":\"scatterternary\",\"marker\":{\"colorbar\":{\"outlinewidth\":0,\"ticks\":\"\"}}}],\"scattercarpet\":[{\"type\":\"scattercarpet\",\"marker\":{\"colorbar\":{\"outlinewidth\":0,\"ticks\":\"\"}}}],\"carpet\":[{\"aaxis\":{\"endlinecolor\":\"#2a3f5f\",\"gridcolor\":\"white\",\"linecolor\":\"white\",\"minorgridcolor\":\"white\",\"startlinecolor\":\"#2a3f5f\"},\"baxis\":{\"endlinecolor\":\"#2a3f5f\",\"gridcolor\":\"white\",\"linecolor\":\"white\",\"minorgridcolor\":\"white\",\"startlinecolor\":\"#2a3f5f\"},\"type\":\"carpet\"}],\"table\":[{\"cells\":{\"fill\":{\"color\":\"#EBF0F8\"},\"line\":{\"color\":\"white\"}},\"header\":{\"fill\":{\"color\":\"#C8D4E3\"},\"line\":{\"color\":\"white\"}},\"type\":\"table\"}],\"barpolar\":[{\"marker\":{\"line\":{\"color\":\"#E5ECF6\",\"width\":0.5},\"pattern\":{\"fillmode\":\"overlay\",\"size\":10,\"solidity\":0.2}},\"type\":\"barpolar\"}],\"pie\":[{\"automargin\":true,\"type\":\"pie\"}]},\"layout\":{\"autotypenumbers\":\"strict\",\"colorway\":[\"#636efa\",\"#EF553B\",\"#00cc96\",\"#ab63fa\",\"#FFA15A\",\"#19d3f3\",\"#FF6692\",\"#B6E880\",\"#FF97FF\",\"#FECB52\"],\"font\":{\"color\":\"#2a3f5f\"},\"hovermode\":\"closest\",\"hoverlabel\":{\"align\":\"left\"},\"paper_bgcolor\":\"white\",\"plot_bgcolor\":\"#E5ECF6\",\"polar\":{\"bgcolor\":\"#E5ECF6\",\"angularaxis\":{\"gridcolor\":\"white\",\"linecolor\":\"white\",\"ticks\":\"\"},\"radialaxis\":{\"gridcolor\":\"white\",\"linecolor\":\"white\",\"ticks\":\"\"}},\"ternary\":{\"bgcolor\":\"#E5ECF6\",\"aaxis\":{\"gridcolor\":\"white\",\"linecolor\":\"white\",\"ticks\":\"\"},\"baxis\":{\"gridcolor\":\"white\",\"linecolor\":\"white\",\"ticks\":\"\"},\"caxis\":{\"gridcolor\":\"white\",\"linecolor\":\"white\",\"ticks\":\"\"}},\"coloraxis\":{\"colorbar\":{\"outlinewidth\":0,\"ticks\":\"\"}},\"colorscale\":{\"sequential\":[[0.0,\"#0d0887\"],[0.1111111111111111,\"#46039f\"],[0.2222222222222222,\"#7201a8\"],[0.3333333333333333,\"#9c179e\"],[0.4444444444444444,\"#bd3786\"],[0.5555555555555556,\"#d8576b\"],[0.6666666666666666,\"#ed7953\"],[0.7777777777777778,\"#fb9f3a\"],[0.8888888888888888,\"#fdca26\"],[1.0,\"#f0f921\"]],\"sequentialminus\":[[0.0,\"#0d0887\"],[0.1111111111111111,\"#46039f\"],[0.2222222222222222,\"#7201a8\"],[0.3333333333333333,\"#9c179e\"],[0.4444444444444444,\"#bd3786\"],[0.5555555555555556,\"#d8576b\"],[0.6666666666666666,\"#ed7953\"],[0.7777777777777778,\"#fb9f3a\"],[0.8888888888888888,\"#fdca26\"],[1.0,\"#f0f921\"]],\"diverging\":[[0,\"#8e0152\"],[0.1,\"#c51b7d\"],[0.2,\"#de77ae\"],[0.3,\"#f1b6da\"],[0.4,\"#fde0ef\"],[0.5,\"#f7f7f7\"],[0.6,\"#e6f5d0\"],[0.7,\"#b8e186\"],[0.8,\"#7fbc41\"],[0.9,\"#4d9221\"],[1,\"#276419\"]]},\"xaxis\":{\"gridcolor\":\"white\",\"linecolor\":\"white\",\"ticks\":\"\",\"title\":{\"standoff\":15},\"zerolinecolor\":\"white\",\"automargin\":true,\"zerolinewidth\":2},\"yaxis\":{\"gridcolor\":\"white\",\"linecolor\":\"white\",\"ticks\":\"\",\"title\":{\"standoff\":15},\"zerolinecolor\":\"white\",\"automargin\":true,\"zerolinewidth\":2},\"scene\":{\"xaxis\":{\"backgroundcolor\":\"#E5ECF6\",\"gridcolor\":\"white\",\"linecolor\":\"white\",\"showbackground\":true,\"ticks\":\"\",\"zerolinecolor\":\"white\",\"gridwidth\":2},\"yaxis\":{\"backgroundcolor\":\"#E5ECF6\",\"gridcolor\":\"white\",\"linecolor\":\"white\",\"showbackground\":true,\"ticks\":\"\",\"zerolinecolor\":\"white\",\"gridwidth\":2},\"zaxis\":{\"backgroundcolor\":\"#E5ECF6\",\"gridcolor\":\"white\",\"linecolor\":\"white\",\"showbackground\":true,\"ticks\":\"\",\"zerolinecolor\":\"white\",\"gridwidth\":2}},\"shapedefaults\":{\"line\":{\"color\":\"#2a3f5f\"}},\"annotationdefaults\":{\"arrowcolor\":\"#2a3f5f\",\"arrowhead\":0,\"arrowwidth\":1},\"geo\":{\"bgcolor\":\"white\",\"landcolor\":\"#E5ECF6\",\"subunitcolor\":\"white\",\"showland\":true,\"showlakes\":true,\"lakecolor\":\"white\"},\"title\":{\"x\":0.05},\"mapbox\":{\"style\":\"light\"}}},\"xaxis\":{\"anchor\":\"y\",\"domain\":[0.0,1.0],\"scaleanchor\":\"y\",\"constrain\":\"domain\",\"title\":{\"text\":\"Current Season Stats\"}},\"yaxis\":{\"anchor\":\"x\",\"domain\":[0.0,1.0],\"autorange\":\"reversed\",\"constrain\":\"domain\",\"title\":{\"text\":\"Previous Season Stats\"}},\"coloraxis\":{\"colorscale\":[[0.0,\"#0d0887\"],[0.1111111111111111,\"#46039f\"],[0.2222222222222222,\"#7201a8\"],[0.3333333333333333,\"#9c179e\"],[0.4444444444444444,\"#bd3786\"],[0.5555555555555556,\"#d8576b\"],[0.6666666666666666,\"#ed7953\"],[0.7777777777777778,\"#fb9f3a\"],[0.8888888888888888,\"#fdca26\"],[1.0,\"#f0f921\"]]},\"margin\":{\"t\":60}},                        {\"responsive\": true}                    ).then(function(){\n",
       "                            \n",
       "var gd = document.getElementById('1a388ddf-91e7-42fa-b7a4-f234beeec8fa');\n",
       "var x = new MutationObserver(function (mutations, observer) {{\n",
       "        var display = window.getComputedStyle(gd).display;\n",
       "        if (!display || display === 'none') {{\n",
       "            console.log([gd, 'removed!']);\n",
       "            Plotly.purge(gd);\n",
       "            observer.disconnect();\n",
       "        }}\n",
       "}});\n",
       "\n",
       "// Listen for the removal of the full notebook cells\n",
       "var notebookContainer = gd.closest('#notebook-container');\n",
       "if (notebookContainer) {{\n",
       "    x.observe(notebookContainer, {childList: true});\n",
       "}}\n",
       "\n",
       "// Listen for the clearing of the current output cell\n",
       "var outputEl = gd.closest('.output');\n",
       "if (outputEl) {{\n",
       "    x.observe(outputEl, {childList: true});\n",
       "}}\n",
       "\n",
       "                        })                };                });            </script>        </div>"
      ]
     },
     "metadata": {},
     "output_type": "display_data"
    },
    {
     "name": "stdout",
     "output_type": "stream",
     "text": [
      "max_air_distance_mean max_air_distance_mean\n"
     ]
    },
    {
     "data": {
      "application/vnd.plotly.v1+json": {
       "config": {
        "plotlyServerURL": "https://plot.ly"
       },
       "data": [
        {
         "customdata": [
          [
           "P.Mahomes",
           2019,
           23
          ],
          [
           "P.Mahomes",
           2020,
           24
          ],
          [
           "P.Mahomes",
           2021,
           25
          ],
          [
           "P.Mahomes",
           2022,
           26
          ]
         ],
         "hovertemplate": "max_air_distance_mean=%{y}<br>passer=%{customdata[0]}<br>season=%{customdata[1]}<br>age=%{customdata[2]}<extra></extra>",
         "legendgroup": "",
         "marker": {
          "color": "#636efa",
          "symbol": "circle"
         },
         "mode": "markers",
         "name": "",
         "orientation": "v",
         "showlegend": false,
         "type": "scatter",
         "x": [
          51.45745636168622,
          50.21380988119875,
          50.892429260280494,
          48.56307185646495
         ],
         "xaxis": "x",
         "y": [
          51.45745636168622,
          50.21380988119875,
          50.892429260280494,
          48.56307185646495
         ],
         "yaxis": "y"
        }
       ],
       "layout": {
        "legend": {
         "tracegroupgap": 0
        },
        "margin": {
         "t": 60
        },
        "template": {
         "data": {
          "bar": [
           {
            "error_x": {
             "color": "#2a3f5f"
            },
            "error_y": {
             "color": "#2a3f5f"
            },
            "marker": {
             "line": {
              "color": "#E5ECF6",
              "width": 0.5
             },
             "pattern": {
              "fillmode": "overlay",
              "size": 10,
              "solidity": 0.2
             }
            },
            "type": "bar"
           }
          ],
          "barpolar": [
           {
            "marker": {
             "line": {
              "color": "#E5ECF6",
              "width": 0.5
             },
             "pattern": {
              "fillmode": "overlay",
              "size": 10,
              "solidity": 0.2
             }
            },
            "type": "barpolar"
           }
          ],
          "carpet": [
           {
            "aaxis": {
             "endlinecolor": "#2a3f5f",
             "gridcolor": "white",
             "linecolor": "white",
             "minorgridcolor": "white",
             "startlinecolor": "#2a3f5f"
            },
            "baxis": {
             "endlinecolor": "#2a3f5f",
             "gridcolor": "white",
             "linecolor": "white",
             "minorgridcolor": "white",
             "startlinecolor": "#2a3f5f"
            },
            "type": "carpet"
           }
          ],
          "choropleth": [
           {
            "colorbar": {
             "outlinewidth": 0,
             "ticks": ""
            },
            "type": "choropleth"
           }
          ],
          "contour": [
           {
            "colorbar": {
             "outlinewidth": 0,
             "ticks": ""
            },
            "colorscale": [
             [
              0,
              "#0d0887"
             ],
             [
              0.1111111111111111,
              "#46039f"
             ],
             [
              0.2222222222222222,
              "#7201a8"
             ],
             [
              0.3333333333333333,
              "#9c179e"
             ],
             [
              0.4444444444444444,
              "#bd3786"
             ],
             [
              0.5555555555555556,
              "#d8576b"
             ],
             [
              0.6666666666666666,
              "#ed7953"
             ],
             [
              0.7777777777777778,
              "#fb9f3a"
             ],
             [
              0.8888888888888888,
              "#fdca26"
             ],
             [
              1,
              "#f0f921"
             ]
            ],
            "type": "contour"
           }
          ],
          "contourcarpet": [
           {
            "colorbar": {
             "outlinewidth": 0,
             "ticks": ""
            },
            "type": "contourcarpet"
           }
          ],
          "heatmap": [
           {
            "colorbar": {
             "outlinewidth": 0,
             "ticks": ""
            },
            "colorscale": [
             [
              0,
              "#0d0887"
             ],
             [
              0.1111111111111111,
              "#46039f"
             ],
             [
              0.2222222222222222,
              "#7201a8"
             ],
             [
              0.3333333333333333,
              "#9c179e"
             ],
             [
              0.4444444444444444,
              "#bd3786"
             ],
             [
              0.5555555555555556,
              "#d8576b"
             ],
             [
              0.6666666666666666,
              "#ed7953"
             ],
             [
              0.7777777777777778,
              "#fb9f3a"
             ],
             [
              0.8888888888888888,
              "#fdca26"
             ],
             [
              1,
              "#f0f921"
             ]
            ],
            "type": "heatmap"
           }
          ],
          "heatmapgl": [
           {
            "colorbar": {
             "outlinewidth": 0,
             "ticks": ""
            },
            "colorscale": [
             [
              0,
              "#0d0887"
             ],
             [
              0.1111111111111111,
              "#46039f"
             ],
             [
              0.2222222222222222,
              "#7201a8"
             ],
             [
              0.3333333333333333,
              "#9c179e"
             ],
             [
              0.4444444444444444,
              "#bd3786"
             ],
             [
              0.5555555555555556,
              "#d8576b"
             ],
             [
              0.6666666666666666,
              "#ed7953"
             ],
             [
              0.7777777777777778,
              "#fb9f3a"
             ],
             [
              0.8888888888888888,
              "#fdca26"
             ],
             [
              1,
              "#f0f921"
             ]
            ],
            "type": "heatmapgl"
           }
          ],
          "histogram": [
           {
            "marker": {
             "pattern": {
              "fillmode": "overlay",
              "size": 10,
              "solidity": 0.2
             }
            },
            "type": "histogram"
           }
          ],
          "histogram2d": [
           {
            "colorbar": {
             "outlinewidth": 0,
             "ticks": ""
            },
            "colorscale": [
             [
              0,
              "#0d0887"
             ],
             [
              0.1111111111111111,
              "#46039f"
             ],
             [
              0.2222222222222222,
              "#7201a8"
             ],
             [
              0.3333333333333333,
              "#9c179e"
             ],
             [
              0.4444444444444444,
              "#bd3786"
             ],
             [
              0.5555555555555556,
              "#d8576b"
             ],
             [
              0.6666666666666666,
              "#ed7953"
             ],
             [
              0.7777777777777778,
              "#fb9f3a"
             ],
             [
              0.8888888888888888,
              "#fdca26"
             ],
             [
              1,
              "#f0f921"
             ]
            ],
            "type": "histogram2d"
           }
          ],
          "histogram2dcontour": [
           {
            "colorbar": {
             "outlinewidth": 0,
             "ticks": ""
            },
            "colorscale": [
             [
              0,
              "#0d0887"
             ],
             [
              0.1111111111111111,
              "#46039f"
             ],
             [
              0.2222222222222222,
              "#7201a8"
             ],
             [
              0.3333333333333333,
              "#9c179e"
             ],
             [
              0.4444444444444444,
              "#bd3786"
             ],
             [
              0.5555555555555556,
              "#d8576b"
             ],
             [
              0.6666666666666666,
              "#ed7953"
             ],
             [
              0.7777777777777778,
              "#fb9f3a"
             ],
             [
              0.8888888888888888,
              "#fdca26"
             ],
             [
              1,
              "#f0f921"
             ]
            ],
            "type": "histogram2dcontour"
           }
          ],
          "mesh3d": [
           {
            "colorbar": {
             "outlinewidth": 0,
             "ticks": ""
            },
            "type": "mesh3d"
           }
          ],
          "parcoords": [
           {
            "line": {
             "colorbar": {
              "outlinewidth": 0,
              "ticks": ""
             }
            },
            "type": "parcoords"
           }
          ],
          "pie": [
           {
            "automargin": true,
            "type": "pie"
           }
          ],
          "scatter": [
           {
            "fillpattern": {
             "fillmode": "overlay",
             "size": 10,
             "solidity": 0.2
            },
            "type": "scatter"
           }
          ],
          "scatter3d": [
           {
            "line": {
             "colorbar": {
              "outlinewidth": 0,
              "ticks": ""
             }
            },
            "marker": {
             "colorbar": {
              "outlinewidth": 0,
              "ticks": ""
             }
            },
            "type": "scatter3d"
           }
          ],
          "scattercarpet": [
           {
            "marker": {
             "colorbar": {
              "outlinewidth": 0,
              "ticks": ""
             }
            },
            "type": "scattercarpet"
           }
          ],
          "scattergeo": [
           {
            "marker": {
             "colorbar": {
              "outlinewidth": 0,
              "ticks": ""
             }
            },
            "type": "scattergeo"
           }
          ],
          "scattergl": [
           {
            "marker": {
             "colorbar": {
              "outlinewidth": 0,
              "ticks": ""
             }
            },
            "type": "scattergl"
           }
          ],
          "scattermapbox": [
           {
            "marker": {
             "colorbar": {
              "outlinewidth": 0,
              "ticks": ""
             }
            },
            "type": "scattermapbox"
           }
          ],
          "scatterpolar": [
           {
            "marker": {
             "colorbar": {
              "outlinewidth": 0,
              "ticks": ""
             }
            },
            "type": "scatterpolar"
           }
          ],
          "scatterpolargl": [
           {
            "marker": {
             "colorbar": {
              "outlinewidth": 0,
              "ticks": ""
             }
            },
            "type": "scatterpolargl"
           }
          ],
          "scatterternary": [
           {
            "marker": {
             "colorbar": {
              "outlinewidth": 0,
              "ticks": ""
             }
            },
            "type": "scatterternary"
           }
          ],
          "surface": [
           {
            "colorbar": {
             "outlinewidth": 0,
             "ticks": ""
            },
            "colorscale": [
             [
              0,
              "#0d0887"
             ],
             [
              0.1111111111111111,
              "#46039f"
             ],
             [
              0.2222222222222222,
              "#7201a8"
             ],
             [
              0.3333333333333333,
              "#9c179e"
             ],
             [
              0.4444444444444444,
              "#bd3786"
             ],
             [
              0.5555555555555556,
              "#d8576b"
             ],
             [
              0.6666666666666666,
              "#ed7953"
             ],
             [
              0.7777777777777778,
              "#fb9f3a"
             ],
             [
              0.8888888888888888,
              "#fdca26"
             ],
             [
              1,
              "#f0f921"
             ]
            ],
            "type": "surface"
           }
          ],
          "table": [
           {
            "cells": {
             "fill": {
              "color": "#EBF0F8"
             },
             "line": {
              "color": "white"
             }
            },
            "header": {
             "fill": {
              "color": "#C8D4E3"
             },
             "line": {
              "color": "white"
             }
            },
            "type": "table"
           }
          ]
         },
         "layout": {
          "annotationdefaults": {
           "arrowcolor": "#2a3f5f",
           "arrowhead": 0,
           "arrowwidth": 1
          },
          "autotypenumbers": "strict",
          "coloraxis": {
           "colorbar": {
            "outlinewidth": 0,
            "ticks": ""
           }
          },
          "colorscale": {
           "diverging": [
            [
             0,
             "#8e0152"
            ],
            [
             0.1,
             "#c51b7d"
            ],
            [
             0.2,
             "#de77ae"
            ],
            [
             0.3,
             "#f1b6da"
            ],
            [
             0.4,
             "#fde0ef"
            ],
            [
             0.5,
             "#f7f7f7"
            ],
            [
             0.6,
             "#e6f5d0"
            ],
            [
             0.7,
             "#b8e186"
            ],
            [
             0.8,
             "#7fbc41"
            ],
            [
             0.9,
             "#4d9221"
            ],
            [
             1,
             "#276419"
            ]
           ],
           "sequential": [
            [
             0,
             "#0d0887"
            ],
            [
             0.1111111111111111,
             "#46039f"
            ],
            [
             0.2222222222222222,
             "#7201a8"
            ],
            [
             0.3333333333333333,
             "#9c179e"
            ],
            [
             0.4444444444444444,
             "#bd3786"
            ],
            [
             0.5555555555555556,
             "#d8576b"
            ],
            [
             0.6666666666666666,
             "#ed7953"
            ],
            [
             0.7777777777777778,
             "#fb9f3a"
            ],
            [
             0.8888888888888888,
             "#fdca26"
            ],
            [
             1,
             "#f0f921"
            ]
           ],
           "sequentialminus": [
            [
             0,
             "#0d0887"
            ],
            [
             0.1111111111111111,
             "#46039f"
            ],
            [
             0.2222222222222222,
             "#7201a8"
            ],
            [
             0.3333333333333333,
             "#9c179e"
            ],
            [
             0.4444444444444444,
             "#bd3786"
            ],
            [
             0.5555555555555556,
             "#d8576b"
            ],
            [
             0.6666666666666666,
             "#ed7953"
            ],
            [
             0.7777777777777778,
             "#fb9f3a"
            ],
            [
             0.8888888888888888,
             "#fdca26"
            ],
            [
             1,
             "#f0f921"
            ]
           ]
          },
          "colorway": [
           "#636efa",
           "#EF553B",
           "#00cc96",
           "#ab63fa",
           "#FFA15A",
           "#19d3f3",
           "#FF6692",
           "#B6E880",
           "#FF97FF",
           "#FECB52"
          ],
          "font": {
           "color": "#2a3f5f"
          },
          "geo": {
           "bgcolor": "white",
           "lakecolor": "white",
           "landcolor": "#E5ECF6",
           "showlakes": true,
           "showland": true,
           "subunitcolor": "white"
          },
          "hoverlabel": {
           "align": "left"
          },
          "hovermode": "closest",
          "mapbox": {
           "style": "light"
          },
          "paper_bgcolor": "white",
          "plot_bgcolor": "#E5ECF6",
          "polar": {
           "angularaxis": {
            "gridcolor": "white",
            "linecolor": "white",
            "ticks": ""
           },
           "bgcolor": "#E5ECF6",
           "radialaxis": {
            "gridcolor": "white",
            "linecolor": "white",
            "ticks": ""
           }
          },
          "scene": {
           "xaxis": {
            "backgroundcolor": "#E5ECF6",
            "gridcolor": "white",
            "gridwidth": 2,
            "linecolor": "white",
            "showbackground": true,
            "ticks": "",
            "zerolinecolor": "white"
           },
           "yaxis": {
            "backgroundcolor": "#E5ECF6",
            "gridcolor": "white",
            "gridwidth": 2,
            "linecolor": "white",
            "showbackground": true,
            "ticks": "",
            "zerolinecolor": "white"
           },
           "zaxis": {
            "backgroundcolor": "#E5ECF6",
            "gridcolor": "white",
            "gridwidth": 2,
            "linecolor": "white",
            "showbackground": true,
            "ticks": "",
            "zerolinecolor": "white"
           }
          },
          "shapedefaults": {
           "line": {
            "color": "#2a3f5f"
           }
          },
          "ternary": {
           "aaxis": {
            "gridcolor": "white",
            "linecolor": "white",
            "ticks": ""
           },
           "baxis": {
            "gridcolor": "white",
            "linecolor": "white",
            "ticks": ""
           },
           "bgcolor": "#E5ECF6",
           "caxis": {
            "gridcolor": "white",
            "linecolor": "white",
            "ticks": ""
           }
          },
          "title": {
           "x": 0.05
          },
          "xaxis": {
           "automargin": true,
           "gridcolor": "white",
           "linecolor": "white",
           "ticks": "",
           "title": {
            "standoff": 15
           },
           "zerolinecolor": "white",
           "zerolinewidth": 2
          },
          "yaxis": {
           "automargin": true,
           "gridcolor": "white",
           "linecolor": "white",
           "ticks": "",
           "title": {
            "standoff": 15
           },
           "zerolinecolor": "white",
           "zerolinewidth": 2
          }
         }
        },
        "xaxis": {
         "anchor": "y",
         "domain": [
          0,
          1
         ],
         "title": {
          "text": "max_air_distance_mean"
         }
        },
        "yaxis": {
         "anchor": "x",
         "domain": [
          0,
          1
         ],
         "title": {
          "text": "max_air_distance_mean"
         }
        }
       }
      },
      "text/html": [
       "<div>                            <div id=\"f29767fb-5d89-4bee-be0e-ddd0a40bd5fc\" class=\"plotly-graph-div\" style=\"height:525px; width:100%;\"></div>            <script type=\"text/javascript\">                require([\"plotly\"], function(Plotly) {                    window.PLOTLYENV=window.PLOTLYENV || {};                                    if (document.getElementById(\"f29767fb-5d89-4bee-be0e-ddd0a40bd5fc\")) {                    Plotly.newPlot(                        \"f29767fb-5d89-4bee-be0e-ddd0a40bd5fc\",                        [{\"customdata\":[[\"P.Mahomes\",2019,23.0],[\"P.Mahomes\",2020,24.0],[\"P.Mahomes\",2021,25.0],[\"P.Mahomes\",2022,26.0]],\"hovertemplate\":\"max_air_distance_mean=%{y}\\u003cbr\\u003epasser=%{customdata[0]}\\u003cbr\\u003eseason=%{customdata[1]}\\u003cbr\\u003eage=%{customdata[2]}\\u003cextra\\u003e\\u003c\\u002fextra\\u003e\",\"legendgroup\":\"\",\"marker\":{\"color\":\"#636efa\",\"symbol\":\"circle\"},\"mode\":\"markers\",\"name\":\"\",\"orientation\":\"v\",\"showlegend\":false,\"x\":[51.45745636168622,50.21380988119875,50.892429260280494,48.56307185646495],\"xaxis\":\"x\",\"y\":[51.45745636168622,50.21380988119875,50.892429260280494,48.56307185646495],\"yaxis\":\"y\",\"type\":\"scatter\"}],                        {\"template\":{\"data\":{\"histogram2dcontour\":[{\"type\":\"histogram2dcontour\",\"colorbar\":{\"outlinewidth\":0,\"ticks\":\"\"},\"colorscale\":[[0.0,\"#0d0887\"],[0.1111111111111111,\"#46039f\"],[0.2222222222222222,\"#7201a8\"],[0.3333333333333333,\"#9c179e\"],[0.4444444444444444,\"#bd3786\"],[0.5555555555555556,\"#d8576b\"],[0.6666666666666666,\"#ed7953\"],[0.7777777777777778,\"#fb9f3a\"],[0.8888888888888888,\"#fdca26\"],[1.0,\"#f0f921\"]]}],\"choropleth\":[{\"type\":\"choropleth\",\"colorbar\":{\"outlinewidth\":0,\"ticks\":\"\"}}],\"histogram2d\":[{\"type\":\"histogram2d\",\"colorbar\":{\"outlinewidth\":0,\"ticks\":\"\"},\"colorscale\":[[0.0,\"#0d0887\"],[0.1111111111111111,\"#46039f\"],[0.2222222222222222,\"#7201a8\"],[0.3333333333333333,\"#9c179e\"],[0.4444444444444444,\"#bd3786\"],[0.5555555555555556,\"#d8576b\"],[0.6666666666666666,\"#ed7953\"],[0.7777777777777778,\"#fb9f3a\"],[0.8888888888888888,\"#fdca26\"],[1.0,\"#f0f921\"]]}],\"heatmap\":[{\"type\":\"heatmap\",\"colorbar\":{\"outlinewidth\":0,\"ticks\":\"\"},\"colorscale\":[[0.0,\"#0d0887\"],[0.1111111111111111,\"#46039f\"],[0.2222222222222222,\"#7201a8\"],[0.3333333333333333,\"#9c179e\"],[0.4444444444444444,\"#bd3786\"],[0.5555555555555556,\"#d8576b\"],[0.6666666666666666,\"#ed7953\"],[0.7777777777777778,\"#fb9f3a\"],[0.8888888888888888,\"#fdca26\"],[1.0,\"#f0f921\"]]}],\"heatmapgl\":[{\"type\":\"heatmapgl\",\"colorbar\":{\"outlinewidth\":0,\"ticks\":\"\"},\"colorscale\":[[0.0,\"#0d0887\"],[0.1111111111111111,\"#46039f\"],[0.2222222222222222,\"#7201a8\"],[0.3333333333333333,\"#9c179e\"],[0.4444444444444444,\"#bd3786\"],[0.5555555555555556,\"#d8576b\"],[0.6666666666666666,\"#ed7953\"],[0.7777777777777778,\"#fb9f3a\"],[0.8888888888888888,\"#fdca26\"],[1.0,\"#f0f921\"]]}],\"contourcarpet\":[{\"type\":\"contourcarpet\",\"colorbar\":{\"outlinewidth\":0,\"ticks\":\"\"}}],\"contour\":[{\"type\":\"contour\",\"colorbar\":{\"outlinewidth\":0,\"ticks\":\"\"},\"colorscale\":[[0.0,\"#0d0887\"],[0.1111111111111111,\"#46039f\"],[0.2222222222222222,\"#7201a8\"],[0.3333333333333333,\"#9c179e\"],[0.4444444444444444,\"#bd3786\"],[0.5555555555555556,\"#d8576b\"],[0.6666666666666666,\"#ed7953\"],[0.7777777777777778,\"#fb9f3a\"],[0.8888888888888888,\"#fdca26\"],[1.0,\"#f0f921\"]]}],\"surface\":[{\"type\":\"surface\",\"colorbar\":{\"outlinewidth\":0,\"ticks\":\"\"},\"colorscale\":[[0.0,\"#0d0887\"],[0.1111111111111111,\"#46039f\"],[0.2222222222222222,\"#7201a8\"],[0.3333333333333333,\"#9c179e\"],[0.4444444444444444,\"#bd3786\"],[0.5555555555555556,\"#d8576b\"],[0.6666666666666666,\"#ed7953\"],[0.7777777777777778,\"#fb9f3a\"],[0.8888888888888888,\"#fdca26\"],[1.0,\"#f0f921\"]]}],\"mesh3d\":[{\"type\":\"mesh3d\",\"colorbar\":{\"outlinewidth\":0,\"ticks\":\"\"}}],\"scatter\":[{\"fillpattern\":{\"fillmode\":\"overlay\",\"size\":10,\"solidity\":0.2},\"type\":\"scatter\"}],\"parcoords\":[{\"type\":\"parcoords\",\"line\":{\"colorbar\":{\"outlinewidth\":0,\"ticks\":\"\"}}}],\"scatterpolargl\":[{\"type\":\"scatterpolargl\",\"marker\":{\"colorbar\":{\"outlinewidth\":0,\"ticks\":\"\"}}}],\"bar\":[{\"error_x\":{\"color\":\"#2a3f5f\"},\"error_y\":{\"color\":\"#2a3f5f\"},\"marker\":{\"line\":{\"color\":\"#E5ECF6\",\"width\":0.5},\"pattern\":{\"fillmode\":\"overlay\",\"size\":10,\"solidity\":0.2}},\"type\":\"bar\"}],\"scattergeo\":[{\"type\":\"scattergeo\",\"marker\":{\"colorbar\":{\"outlinewidth\":0,\"ticks\":\"\"}}}],\"scatterpolar\":[{\"type\":\"scatterpolar\",\"marker\":{\"colorbar\":{\"outlinewidth\":0,\"ticks\":\"\"}}}],\"histogram\":[{\"marker\":{\"pattern\":{\"fillmode\":\"overlay\",\"size\":10,\"solidity\":0.2}},\"type\":\"histogram\"}],\"scattergl\":[{\"type\":\"scattergl\",\"marker\":{\"colorbar\":{\"outlinewidth\":0,\"ticks\":\"\"}}}],\"scatter3d\":[{\"type\":\"scatter3d\",\"line\":{\"colorbar\":{\"outlinewidth\":0,\"ticks\":\"\"}},\"marker\":{\"colorbar\":{\"outlinewidth\":0,\"ticks\":\"\"}}}],\"scattermapbox\":[{\"type\":\"scattermapbox\",\"marker\":{\"colorbar\":{\"outlinewidth\":0,\"ticks\":\"\"}}}],\"scatterternary\":[{\"type\":\"scatterternary\",\"marker\":{\"colorbar\":{\"outlinewidth\":0,\"ticks\":\"\"}}}],\"scattercarpet\":[{\"type\":\"scattercarpet\",\"marker\":{\"colorbar\":{\"outlinewidth\":0,\"ticks\":\"\"}}}],\"carpet\":[{\"aaxis\":{\"endlinecolor\":\"#2a3f5f\",\"gridcolor\":\"white\",\"linecolor\":\"white\",\"minorgridcolor\":\"white\",\"startlinecolor\":\"#2a3f5f\"},\"baxis\":{\"endlinecolor\":\"#2a3f5f\",\"gridcolor\":\"white\",\"linecolor\":\"white\",\"minorgridcolor\":\"white\",\"startlinecolor\":\"#2a3f5f\"},\"type\":\"carpet\"}],\"table\":[{\"cells\":{\"fill\":{\"color\":\"#EBF0F8\"},\"line\":{\"color\":\"white\"}},\"header\":{\"fill\":{\"color\":\"#C8D4E3\"},\"line\":{\"color\":\"white\"}},\"type\":\"table\"}],\"barpolar\":[{\"marker\":{\"line\":{\"color\":\"#E5ECF6\",\"width\":0.5},\"pattern\":{\"fillmode\":\"overlay\",\"size\":10,\"solidity\":0.2}},\"type\":\"barpolar\"}],\"pie\":[{\"automargin\":true,\"type\":\"pie\"}]},\"layout\":{\"autotypenumbers\":\"strict\",\"colorway\":[\"#636efa\",\"#EF553B\",\"#00cc96\",\"#ab63fa\",\"#FFA15A\",\"#19d3f3\",\"#FF6692\",\"#B6E880\",\"#FF97FF\",\"#FECB52\"],\"font\":{\"color\":\"#2a3f5f\"},\"hovermode\":\"closest\",\"hoverlabel\":{\"align\":\"left\"},\"paper_bgcolor\":\"white\",\"plot_bgcolor\":\"#E5ECF6\",\"polar\":{\"bgcolor\":\"#E5ECF6\",\"angularaxis\":{\"gridcolor\":\"white\",\"linecolor\":\"white\",\"ticks\":\"\"},\"radialaxis\":{\"gridcolor\":\"white\",\"linecolor\":\"white\",\"ticks\":\"\"}},\"ternary\":{\"bgcolor\":\"#E5ECF6\",\"aaxis\":{\"gridcolor\":\"white\",\"linecolor\":\"white\",\"ticks\":\"\"},\"baxis\":{\"gridcolor\":\"white\",\"linecolor\":\"white\",\"ticks\":\"\"},\"caxis\":{\"gridcolor\":\"white\",\"linecolor\":\"white\",\"ticks\":\"\"}},\"coloraxis\":{\"colorbar\":{\"outlinewidth\":0,\"ticks\":\"\"}},\"colorscale\":{\"sequential\":[[0.0,\"#0d0887\"],[0.1111111111111111,\"#46039f\"],[0.2222222222222222,\"#7201a8\"],[0.3333333333333333,\"#9c179e\"],[0.4444444444444444,\"#bd3786\"],[0.5555555555555556,\"#d8576b\"],[0.6666666666666666,\"#ed7953\"],[0.7777777777777778,\"#fb9f3a\"],[0.8888888888888888,\"#fdca26\"],[1.0,\"#f0f921\"]],\"sequentialminus\":[[0.0,\"#0d0887\"],[0.1111111111111111,\"#46039f\"],[0.2222222222222222,\"#7201a8\"],[0.3333333333333333,\"#9c179e\"],[0.4444444444444444,\"#bd3786\"],[0.5555555555555556,\"#d8576b\"],[0.6666666666666666,\"#ed7953\"],[0.7777777777777778,\"#fb9f3a\"],[0.8888888888888888,\"#fdca26\"],[1.0,\"#f0f921\"]],\"diverging\":[[0,\"#8e0152\"],[0.1,\"#c51b7d\"],[0.2,\"#de77ae\"],[0.3,\"#f1b6da\"],[0.4,\"#fde0ef\"],[0.5,\"#f7f7f7\"],[0.6,\"#e6f5d0\"],[0.7,\"#b8e186\"],[0.8,\"#7fbc41\"],[0.9,\"#4d9221\"],[1,\"#276419\"]]},\"xaxis\":{\"gridcolor\":\"white\",\"linecolor\":\"white\",\"ticks\":\"\",\"title\":{\"standoff\":15},\"zerolinecolor\":\"white\",\"automargin\":true,\"zerolinewidth\":2},\"yaxis\":{\"gridcolor\":\"white\",\"linecolor\":\"white\",\"ticks\":\"\",\"title\":{\"standoff\":15},\"zerolinecolor\":\"white\",\"automargin\":true,\"zerolinewidth\":2},\"scene\":{\"xaxis\":{\"backgroundcolor\":\"#E5ECF6\",\"gridcolor\":\"white\",\"linecolor\":\"white\",\"showbackground\":true,\"ticks\":\"\",\"zerolinecolor\":\"white\",\"gridwidth\":2},\"yaxis\":{\"backgroundcolor\":\"#E5ECF6\",\"gridcolor\":\"white\",\"linecolor\":\"white\",\"showbackground\":true,\"ticks\":\"\",\"zerolinecolor\":\"white\",\"gridwidth\":2},\"zaxis\":{\"backgroundcolor\":\"#E5ECF6\",\"gridcolor\":\"white\",\"linecolor\":\"white\",\"showbackground\":true,\"ticks\":\"\",\"zerolinecolor\":\"white\",\"gridwidth\":2}},\"shapedefaults\":{\"line\":{\"color\":\"#2a3f5f\"}},\"annotationdefaults\":{\"arrowcolor\":\"#2a3f5f\",\"arrowhead\":0,\"arrowwidth\":1},\"geo\":{\"bgcolor\":\"white\",\"landcolor\":\"#E5ECF6\",\"subunitcolor\":\"white\",\"showland\":true,\"showlakes\":true,\"lakecolor\":\"white\"},\"title\":{\"x\":0.05},\"mapbox\":{\"style\":\"light\"}}},\"xaxis\":{\"anchor\":\"y\",\"domain\":[0.0,1.0],\"title\":{\"text\":\"max_air_distance_mean\"}},\"yaxis\":{\"anchor\":\"x\",\"domain\":[0.0,1.0],\"title\":{\"text\":\"max_air_distance_mean\"}},\"legend\":{\"tracegroupgap\":0},\"margin\":{\"t\":60}},                        {\"responsive\": true}                    ).then(function(){\n",
       "                            \n",
       "var gd = document.getElementById('f29767fb-5d89-4bee-be0e-ddd0a40bd5fc');\n",
       "var x = new MutationObserver(function (mutations, observer) {{\n",
       "        var display = window.getComputedStyle(gd).display;\n",
       "        if (!display || display === 'none') {{\n",
       "            console.log([gd, 'removed!']);\n",
       "            Plotly.purge(gd);\n",
       "            observer.disconnect();\n",
       "        }}\n",
       "}});\n",
       "\n",
       "// Listen for the removal of the full notebook cells\n",
       "var notebookContainer = gd.closest('#notebook-container');\n",
       "if (notebookContainer) {{\n",
       "    x.observe(notebookContainer, {childList: true});\n",
       "}}\n",
       "\n",
       "// Listen for the clearing of the current output cell\n",
       "var outputEl = gd.closest('.output');\n",
       "if (outputEl) {{\n",
       "    x.observe(outputEl, {childList: true});\n",
       "}}\n",
       "\n",
       "                        })                };                });            </script>        </div>"
      ]
     },
     "metadata": {},
     "output_type": "display_data"
    }
   ],
   "source": [
    "query = \"passer == 'P.Mahomes'\"\n",
    "player_df = filter_df(explore_df, query, x, y)"
   ]
  },
  {
   "cell_type": "code",
   "execution_count": null,
   "id": "f29df056",
   "metadata": {},
   "outputs": [],
   "source": []
  }
 ],
 "metadata": {
  "kernelspec": {
   "display_name": "plotly",
   "language": "python",
   "name": "plotly"
  },
  "language_info": {
   "codemirror_mode": {
    "name": "ipython",
    "version": 3
   },
   "file_extension": ".py",
   "mimetype": "text/x-python",
   "name": "python",
   "nbconvert_exporter": "python",
   "pygments_lexer": "ipython3",
   "version": "3.9.7"
  }
 },
 "nbformat": 4,
 "nbformat_minor": 5
}
