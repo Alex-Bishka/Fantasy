{
 "cells": [
  {
   "cell_type": "markdown",
   "id": "06b8ed2e",
   "metadata": {},
   "source": [
    "# Imports"
   ]
  },
  {
   "cell_type": "code",
   "execution_count": 1,
   "id": "7b9c64e2",
   "metadata": {},
   "outputs": [],
   "source": [
    "import statsmodels.formula.api as smf\n",
    "import matplotlib.pyplot as plt\n",
    "import seaborn as sns"
   ]
  },
  {
   "cell_type": "code",
   "execution_count": 2,
   "id": "d57e8d6c",
   "metadata": {},
   "outputs": [],
   "source": [
    "import pandas as pd\n",
    "import numpy as np"
   ]
  },
  {
   "cell_type": "code",
   "execution_count": 3,
   "id": "a9f5197d",
   "metadata": {},
   "outputs": [],
   "source": [
    "import nfl_data_py as nfl"
   ]
  },
  {
   "cell_type": "markdown",
   "id": "9e07cef3",
   "metadata": {},
   "source": [
    "# Grabbing Data"
   ]
  },
  {
   "cell_type": "code",
   "execution_count": 4,
   "id": "bba11841",
   "metadata": {},
   "outputs": [
    {
     "name": "stdout",
     "output_type": "stream",
     "text": [
      "2012 done.\n",
      "2013 done.\n",
      "2014 done.\n",
      "2015 done.\n",
      "2016 done.\n",
      "2017 done.\n",
      "2018 done.\n",
      "2019 done.\n",
      "2020 done.\n",
      "2021 done.\n",
      "2022 done.\n",
      "Downcasting floats.\n"
     ]
    }
   ],
   "source": [
    "seasons = range(2012, 2022 + 1)\n",
    "df_pbp = nfl.import_pbp_data(seasons) "
   ]
  },
  {
   "cell_type": "code",
   "execution_count": 5,
   "id": "d1159ec8",
   "metadata": {},
   "outputs": [],
   "source": [
    "df_seasonal = nfl.import_seasonal_data(seasons)"
   ]
  },
  {
   "cell_type": "code",
   "execution_count": 6,
   "id": "96a34ff0",
   "metadata": {},
   "outputs": [],
   "source": [
    "df_roster = nfl.import_seasonal_rosters(seasons)"
   ]
  },
  {
   "cell_type": "code",
   "execution_count": 7,
   "id": "ad842136",
   "metadata": {},
   "outputs": [],
   "source": [
    "df_ngs = nfl.import_ngs_data(stat_type=\"passing\", years=seasons)"
   ]
  },
  {
   "cell_type": "markdown",
   "id": "47158dca",
   "metadata": {},
   "source": [
    "## Saving dfs to pkl"
   ]
  },
  {
   "cell_type": "code",
   "execution_count": 19,
   "id": "2c41b291",
   "metadata": {},
   "outputs": [],
   "source": [
    "file_path = \"../../interactive/QB\""
   ]
  },
  {
   "cell_type": "code",
   "execution_count": 20,
   "id": "8e0a066f",
   "metadata": {},
   "outputs": [],
   "source": [
    "df_pbp.to_pickle(f\"{file_path}/df_pbp_2012_2022.pkl\")"
   ]
  },
  {
   "cell_type": "code",
   "execution_count": 21,
   "id": "9b35755a",
   "metadata": {},
   "outputs": [],
   "source": [
    "df_seasonal.to_pickle(f\"{file_path}/df_seasonal_2012_2022.pkl\")"
   ]
  },
  {
   "cell_type": "code",
   "execution_count": 22,
   "id": "fb5a0e8f",
   "metadata": {},
   "outputs": [],
   "source": [
    "df_roster.to_pickle(f\"{file_path}/df_roster_2012_2022.pkl\")"
   ]
  },
  {
   "cell_type": "code",
   "execution_count": 23,
   "id": "4676ae40",
   "metadata": {},
   "outputs": [],
   "source": [
    "df_ngs.to_pickle(f\"{file_path}/df_ngs_2012_2022.pkl\")"
   ]
  },
  {
   "cell_type": "markdown",
   "id": "81849616",
   "metadata": {},
   "source": [
    "# Grabbing Only Pass Data"
   ]
  },
  {
   "cell_type": "markdown",
   "id": "2ac9e294",
   "metadata": {},
   "source": [
    "Cleaning and creating our dedicated passing dataframe:"
   ]
  },
  {
   "cell_type": "code",
   "execution_count": 24,
   "id": "13fd3ef1",
   "metadata": {},
   "outputs": [],
   "source": [
    "df_passes = df_pbp.query(\"play_type == 'pass' & air_yards.notnull() & season_type == 'REG'\").reset_index()"
   ]
  },
  {
   "cell_type": "code",
   "execution_count": 25,
   "id": "d4c9c050",
   "metadata": {},
   "outputs": [
    {
     "data": {
      "text/html": [
       "<div>\n",
       "<style scoped>\n",
       "    .dataframe tbody tr th:only-of-type {\n",
       "        vertical-align: middle;\n",
       "    }\n",
       "\n",
       "    .dataframe tbody tr th {\n",
       "        vertical-align: top;\n",
       "    }\n",
       "\n",
       "    .dataframe thead th {\n",
       "        text-align: right;\n",
       "    }\n",
       "</style>\n",
       "<table border=\"1\" class=\"dataframe\">\n",
       "  <thead>\n",
       "    <tr style=\"text-align: right;\">\n",
       "      <th></th>\n",
       "      <th>index</th>\n",
       "      <th>play_id</th>\n",
       "      <th>game_id</th>\n",
       "      <th>old_game_id</th>\n",
       "      <th>home_team</th>\n",
       "      <th>away_team</th>\n",
       "      <th>season_type</th>\n",
       "      <th>week</th>\n",
       "      <th>posteam</th>\n",
       "      <th>posteam_type</th>\n",
       "      <th>...</th>\n",
       "      <th>offense_formation</th>\n",
       "      <th>offense_personnel</th>\n",
       "      <th>defenders_in_box</th>\n",
       "      <th>defense_personnel</th>\n",
       "      <th>number_of_pass_rushers</th>\n",
       "      <th>players_on_play</th>\n",
       "      <th>offense_players</th>\n",
       "      <th>defense_players</th>\n",
       "      <th>n_offense</th>\n",
       "      <th>n_defense</th>\n",
       "    </tr>\n",
       "  </thead>\n",
       "  <tbody>\n",
       "    <tr>\n",
       "      <th>0</th>\n",
       "      <td>4</td>\n",
       "      <td>95.0</td>\n",
       "      <td>2012_01_ATL_KC</td>\n",
       "      <td>2012090908</td>\n",
       "      <td>KC</td>\n",
       "      <td>ATL</td>\n",
       "      <td>REG</td>\n",
       "      <td>1</td>\n",
       "      <td>ATL</td>\n",
       "      <td>away</td>\n",
       "      <td>...</td>\n",
       "      <td>NaN</td>\n",
       "      <td>NaN</td>\n",
       "      <td>NaN</td>\n",
       "      <td>NaN</td>\n",
       "      <td>NaN</td>\n",
       "      <td>NaN</td>\n",
       "      <td>NaN</td>\n",
       "      <td>NaN</td>\n",
       "      <td>NaN</td>\n",
       "      <td>NaN</td>\n",
       "    </tr>\n",
       "    <tr>\n",
       "      <th>1</th>\n",
       "      <td>5</td>\n",
       "      <td>119.0</td>\n",
       "      <td>2012_01_ATL_KC</td>\n",
       "      <td>2012090908</td>\n",
       "      <td>KC</td>\n",
       "      <td>ATL</td>\n",
       "      <td>REG</td>\n",
       "      <td>1</td>\n",
       "      <td>ATL</td>\n",
       "      <td>away</td>\n",
       "      <td>...</td>\n",
       "      <td>NaN</td>\n",
       "      <td>NaN</td>\n",
       "      <td>NaN</td>\n",
       "      <td>NaN</td>\n",
       "      <td>NaN</td>\n",
       "      <td>NaN</td>\n",
       "      <td>NaN</td>\n",
       "      <td>NaN</td>\n",
       "      <td>NaN</td>\n",
       "      <td>NaN</td>\n",
       "    </tr>\n",
       "    <tr>\n",
       "      <th>2</th>\n",
       "      <td>6</td>\n",
       "      <td>143.0</td>\n",
       "      <td>2012_01_ATL_KC</td>\n",
       "      <td>2012090908</td>\n",
       "      <td>KC</td>\n",
       "      <td>ATL</td>\n",
       "      <td>REG</td>\n",
       "      <td>1</td>\n",
       "      <td>ATL</td>\n",
       "      <td>away</td>\n",
       "      <td>...</td>\n",
       "      <td>NaN</td>\n",
       "      <td>NaN</td>\n",
       "      <td>NaN</td>\n",
       "      <td>NaN</td>\n",
       "      <td>NaN</td>\n",
       "      <td>NaN</td>\n",
       "      <td>NaN</td>\n",
       "      <td>NaN</td>\n",
       "      <td>NaN</td>\n",
       "      <td>NaN</td>\n",
       "    </tr>\n",
       "    <tr>\n",
       "      <th>3</th>\n",
       "      <td>8</td>\n",
       "      <td>186.0</td>\n",
       "      <td>2012_01_ATL_KC</td>\n",
       "      <td>2012090908</td>\n",
       "      <td>KC</td>\n",
       "      <td>ATL</td>\n",
       "      <td>REG</td>\n",
       "      <td>1</td>\n",
       "      <td>ATL</td>\n",
       "      <td>away</td>\n",
       "      <td>...</td>\n",
       "      <td>NaN</td>\n",
       "      <td>NaN</td>\n",
       "      <td>NaN</td>\n",
       "      <td>NaN</td>\n",
       "      <td>NaN</td>\n",
       "      <td>NaN</td>\n",
       "      <td>NaN</td>\n",
       "      <td>NaN</td>\n",
       "      <td>NaN</td>\n",
       "      <td>NaN</td>\n",
       "    </tr>\n",
       "    <tr>\n",
       "      <th>4</th>\n",
       "      <td>9</td>\n",
       "      <td>210.0</td>\n",
       "      <td>2012_01_ATL_KC</td>\n",
       "      <td>2012090908</td>\n",
       "      <td>KC</td>\n",
       "      <td>ATL</td>\n",
       "      <td>REG</td>\n",
       "      <td>1</td>\n",
       "      <td>ATL</td>\n",
       "      <td>away</td>\n",
       "      <td>...</td>\n",
       "      <td>NaN</td>\n",
       "      <td>NaN</td>\n",
       "      <td>NaN</td>\n",
       "      <td>NaN</td>\n",
       "      <td>NaN</td>\n",
       "      <td>NaN</td>\n",
       "      <td>NaN</td>\n",
       "      <td>NaN</td>\n",
       "      <td>NaN</td>\n",
       "      <td>NaN</td>\n",
       "    </tr>\n",
       "  </tbody>\n",
       "</table>\n",
       "<p>5 rows × 385 columns</p>\n",
       "</div>"
      ],
      "text/plain": [
       "   index  play_id         game_id old_game_id home_team away_team season_type  \\\n",
       "0      4     95.0  2012_01_ATL_KC  2012090908        KC       ATL         REG   \n",
       "1      5    119.0  2012_01_ATL_KC  2012090908        KC       ATL         REG   \n",
       "2      6    143.0  2012_01_ATL_KC  2012090908        KC       ATL         REG   \n",
       "3      8    186.0  2012_01_ATL_KC  2012090908        KC       ATL         REG   \n",
       "4      9    210.0  2012_01_ATL_KC  2012090908        KC       ATL         REG   \n",
       "\n",
       "   week posteam posteam_type  ... offense_formation offense_personnel  \\\n",
       "0     1     ATL         away  ...               NaN               NaN   \n",
       "1     1     ATL         away  ...               NaN               NaN   \n",
       "2     1     ATL         away  ...               NaN               NaN   \n",
       "3     1     ATL         away  ...               NaN               NaN   \n",
       "4     1     ATL         away  ...               NaN               NaN   \n",
       "\n",
       "   defenders_in_box defense_personnel  number_of_pass_rushers  \\\n",
       "0               NaN               NaN                     NaN   \n",
       "1               NaN               NaN                     NaN   \n",
       "2               NaN               NaN                     NaN   \n",
       "3               NaN               NaN                     NaN   \n",
       "4               NaN               NaN                     NaN   \n",
       "\n",
       "   players_on_play  offense_players defense_players  n_offense  n_defense  \n",
       "0              NaN              NaN             NaN        NaN        NaN  \n",
       "1              NaN              NaN             NaN        NaN        NaN  \n",
       "2              NaN              NaN             NaN        NaN        NaN  \n",
       "3              NaN              NaN             NaN        NaN        NaN  \n",
       "4              NaN              NaN             NaN        NaN        NaN  \n",
       "\n",
       "[5 rows x 385 columns]"
      ]
     },
     "execution_count": 25,
     "metadata": {},
     "output_type": "execute_result"
    }
   ],
   "source": [
    "df_passes.head()"
   ]
  },
  {
   "cell_type": "markdown",
   "id": "3625ed70",
   "metadata": {},
   "source": [
    "Distinguishing between long and short passes."
   ]
  },
  {
   "cell_type": "code",
   "execution_count": 26,
   "id": "7dff531d",
   "metadata": {},
   "outputs": [],
   "source": [
    "df_passes[\"pass_length_air_yards\"] = np.where(\n",
    "      df_passes[\"air_yards\"] >= 20, \"long\", \"short\"\n",
    ")"
   ]
  },
  {
   "cell_type": "markdown",
   "id": "1aa83e08",
   "metadata": {},
   "source": [
    "Setting null yardage values to 0"
   ]
  },
  {
   "cell_type": "code",
   "execution_count": 27,
   "id": "24086014",
   "metadata": {},
   "outputs": [],
   "source": [
    "df_passes[\"passing_yards\"] = np.where(\n",
    "          df_passes[\"passing_yards\"].isnull(), 0,\n",
    "          df_passes[\"passing_yards\"]\n",
    "        )"
   ]
  },
  {
   "cell_type": "markdown",
   "id": "c5e6a8b0",
   "metadata": {},
   "source": [
    "Accumulating the play by play stats into season stats"
   ]
  },
  {
   "cell_type": "code",
   "execution_count": 28,
   "id": "d0193aff",
   "metadata": {},
   "outputs": [],
   "source": [
    "df_passing_yards_by_season = df_passes \\\n",
    "    .groupby([\"passer_id\", \"passer\", \"season\"]) \\\n",
    "    .agg({\"passing_yards\": [\"sum\", \"count\", \"mean\"], \"epa\": [\"sum\"],\n",
    "          \"pass_touchdown\": [\"sum\"], \"complete_pass\": [\"sum\"]}\n",
    "    )"
   ]
  },
  {
   "cell_type": "code",
   "execution_count": 29,
   "id": "87e2d855",
   "metadata": {},
   "outputs": [
    {
     "data": {
      "text/html": [
       "<div>\n",
       "<style scoped>\n",
       "    .dataframe tbody tr th:only-of-type {\n",
       "        vertical-align: middle;\n",
       "    }\n",
       "\n",
       "    .dataframe tbody tr th {\n",
       "        vertical-align: top;\n",
       "    }\n",
       "\n",
       "    .dataframe thead tr th {\n",
       "        text-align: left;\n",
       "    }\n",
       "\n",
       "    .dataframe thead tr:last-of-type th {\n",
       "        text-align: right;\n",
       "    }\n",
       "</style>\n",
       "<table border=\"1\" class=\"dataframe\">\n",
       "  <thead>\n",
       "    <tr>\n",
       "      <th></th>\n",
       "      <th></th>\n",
       "      <th></th>\n",
       "      <th colspan=\"3\" halign=\"left\">passing_yards</th>\n",
       "      <th>epa</th>\n",
       "      <th>pass_touchdown</th>\n",
       "      <th>complete_pass</th>\n",
       "    </tr>\n",
       "    <tr>\n",
       "      <th></th>\n",
       "      <th></th>\n",
       "      <th></th>\n",
       "      <th>sum</th>\n",
       "      <th>count</th>\n",
       "      <th>mean</th>\n",
       "      <th>sum</th>\n",
       "      <th>sum</th>\n",
       "      <th>sum</th>\n",
       "    </tr>\n",
       "    <tr>\n",
       "      <th>passer_id</th>\n",
       "      <th>passer</th>\n",
       "      <th>season</th>\n",
       "      <th></th>\n",
       "      <th></th>\n",
       "      <th></th>\n",
       "      <th></th>\n",
       "      <th></th>\n",
       "      <th></th>\n",
       "    </tr>\n",
       "  </thead>\n",
       "  <tbody>\n",
       "    <tr>\n",
       "      <th>00-0000865</th>\n",
       "      <th>C.Batch</th>\n",
       "      <th>2012</th>\n",
       "      <td>475.0</td>\n",
       "      <td>70</td>\n",
       "      <td>6.785714</td>\n",
       "      <td>-4.666173</td>\n",
       "      <td>1.0</td>\n",
       "      <td>45.0</td>\n",
       "    </tr>\n",
       "    <tr>\n",
       "      <th rowspan=\"4\" valign=\"top\">00-0007091</th>\n",
       "      <th rowspan=\"4\" valign=\"top\">M.Hasselbeck</th>\n",
       "      <th>2012</th>\n",
       "      <td>1367.0</td>\n",
       "      <td>221</td>\n",
       "      <td>6.185520</td>\n",
       "      <td>-3.358989</td>\n",
       "      <td>7.0</td>\n",
       "      <td>138.0</td>\n",
       "    </tr>\n",
       "    <tr>\n",
       "      <th>2013</th>\n",
       "      <td>130.0</td>\n",
       "      <td>12</td>\n",
       "      <td>10.833333</td>\n",
       "      <td>3.809972</td>\n",
       "      <td>0.0</td>\n",
       "      <td>7.0</td>\n",
       "    </tr>\n",
       "    <tr>\n",
       "      <th>2014</th>\n",
       "      <td>301.0</td>\n",
       "      <td>44</td>\n",
       "      <td>6.840909</td>\n",
       "      <td>6.072737</td>\n",
       "      <td>2.0</td>\n",
       "      <td>30.0</td>\n",
       "    </tr>\n",
       "    <tr>\n",
       "      <th>2015</th>\n",
       "      <td>1690.0</td>\n",
       "      <td>256</td>\n",
       "      <td>6.601562</td>\n",
       "      <td>31.047590</td>\n",
       "      <td>9.0</td>\n",
       "      <td>156.0</td>\n",
       "    </tr>\n",
       "  </tbody>\n",
       "</table>\n",
       "</div>"
      ],
      "text/plain": [
       "                               passing_yards                         epa  \\\n",
       "                                         sum count       mean        sum   \n",
       "passer_id  passer       season                                             \n",
       "00-0000865 C.Batch      2012           475.0    70   6.785714  -4.666173   \n",
       "00-0007091 M.Hasselbeck 2012          1367.0   221   6.185520  -3.358989   \n",
       "                        2013           130.0    12  10.833333   3.809972   \n",
       "                        2014           301.0    44   6.840909   6.072737   \n",
       "                        2015          1690.0   256   6.601562  31.047590   \n",
       "\n",
       "                               pass_touchdown complete_pass  \n",
       "                                          sum           sum  \n",
       "passer_id  passer       season                               \n",
       "00-0000865 C.Batch      2012              1.0          45.0  \n",
       "00-0007091 M.Hasselbeck 2012              7.0         138.0  \n",
       "                        2013              0.0           7.0  \n",
       "                        2014              2.0          30.0  \n",
       "                        2015              9.0         156.0  "
      ]
     },
     "execution_count": 29,
     "metadata": {},
     "output_type": "execute_result"
    }
   ],
   "source": [
    "df_passing_yards_by_season.head()"
   ]
  },
  {
   "cell_type": "code",
   "execution_count": 30,
   "id": "70203935",
   "metadata": {},
   "outputs": [],
   "source": [
    "df_passing_yards_by_season.columns = list(map(\"_\".join, df_passing_yards_by_season.columns))\n",
    "df_passing_yards_by_season.reset_index(inplace=True)"
   ]
  },
  {
   "cell_type": "code",
   "execution_count": 31,
   "id": "901770b1",
   "metadata": {},
   "outputs": [],
   "source": [
    "new_cols = [\"passer_id\", \"passer\", \"season\", \"passing_yards\", \"passing_attempts\", \"yards_per_pass\", \"total_epa\",\n",
    "            \"passing_touchdowns\", \"completions\"]\n",
    "df_passing_yards_by_season.columns = new_cols"
   ]
  },
  {
   "cell_type": "code",
   "execution_count": 32,
   "id": "084d44e3",
   "metadata": {},
   "outputs": [
    {
     "data": {
      "text/html": [
       "<div>\n",
       "<style scoped>\n",
       "    .dataframe tbody tr th:only-of-type {\n",
       "        vertical-align: middle;\n",
       "    }\n",
       "\n",
       "    .dataframe tbody tr th {\n",
       "        vertical-align: top;\n",
       "    }\n",
       "\n",
       "    .dataframe thead th {\n",
       "        text-align: right;\n",
       "    }\n",
       "</style>\n",
       "<table border=\"1\" class=\"dataframe\">\n",
       "  <thead>\n",
       "    <tr style=\"text-align: right;\">\n",
       "      <th></th>\n",
       "      <th>passer_id</th>\n",
       "      <th>passer</th>\n",
       "      <th>season</th>\n",
       "      <th>passing_yards</th>\n",
       "      <th>passing_attempts</th>\n",
       "      <th>yards_per_pass</th>\n",
       "      <th>total_epa</th>\n",
       "      <th>passing_touchdowns</th>\n",
       "      <th>completions</th>\n",
       "    </tr>\n",
       "  </thead>\n",
       "  <tbody>\n",
       "    <tr>\n",
       "      <th>0</th>\n",
       "      <td>00-0000865</td>\n",
       "      <td>C.Batch</td>\n",
       "      <td>2012</td>\n",
       "      <td>475.0</td>\n",
       "      <td>70</td>\n",
       "      <td>6.785714</td>\n",
       "      <td>-4.666173</td>\n",
       "      <td>1.0</td>\n",
       "      <td>45.0</td>\n",
       "    </tr>\n",
       "    <tr>\n",
       "      <th>1</th>\n",
       "      <td>00-0007091</td>\n",
       "      <td>M.Hasselbeck</td>\n",
       "      <td>2012</td>\n",
       "      <td>1367.0</td>\n",
       "      <td>221</td>\n",
       "      <td>6.185520</td>\n",
       "      <td>-3.358989</td>\n",
       "      <td>7.0</td>\n",
       "      <td>138.0</td>\n",
       "    </tr>\n",
       "    <tr>\n",
       "      <th>2</th>\n",
       "      <td>00-0007091</td>\n",
       "      <td>M.Hasselbeck</td>\n",
       "      <td>2013</td>\n",
       "      <td>130.0</td>\n",
       "      <td>12</td>\n",
       "      <td>10.833333</td>\n",
       "      <td>3.809972</td>\n",
       "      <td>0.0</td>\n",
       "      <td>7.0</td>\n",
       "    </tr>\n",
       "    <tr>\n",
       "      <th>3</th>\n",
       "      <td>00-0007091</td>\n",
       "      <td>M.Hasselbeck</td>\n",
       "      <td>2014</td>\n",
       "      <td>301.0</td>\n",
       "      <td>44</td>\n",
       "      <td>6.840909</td>\n",
       "      <td>6.072737</td>\n",
       "      <td>2.0</td>\n",
       "      <td>30.0</td>\n",
       "    </tr>\n",
       "    <tr>\n",
       "      <th>4</th>\n",
       "      <td>00-0007091</td>\n",
       "      <td>M.Hasselbeck</td>\n",
       "      <td>2015</td>\n",
       "      <td>1690.0</td>\n",
       "      <td>256</td>\n",
       "      <td>6.601562</td>\n",
       "      <td>31.047590</td>\n",
       "      <td>9.0</td>\n",
       "      <td>156.0</td>\n",
       "    </tr>\n",
       "  </tbody>\n",
       "</table>\n",
       "</div>"
      ],
      "text/plain": [
       "    passer_id        passer  season  passing_yards  passing_attempts  \\\n",
       "0  00-0000865       C.Batch    2012          475.0                70   \n",
       "1  00-0007091  M.Hasselbeck    2012         1367.0               221   \n",
       "2  00-0007091  M.Hasselbeck    2013          130.0                12   \n",
       "3  00-0007091  M.Hasselbeck    2014          301.0                44   \n",
       "4  00-0007091  M.Hasselbeck    2015         1690.0               256   \n",
       "\n",
       "   yards_per_pass  total_epa  passing_touchdowns  completions  \n",
       "0        6.785714  -4.666173                 1.0         45.0  \n",
       "1        6.185520  -3.358989                 7.0        138.0  \n",
       "2       10.833333   3.809972                 0.0          7.0  \n",
       "3        6.840909   6.072737                 2.0         30.0  \n",
       "4        6.601562  31.047590                 9.0        156.0  "
      ]
     },
     "execution_count": 32,
     "metadata": {},
     "output_type": "execute_result"
    }
   ],
   "source": [
    "df_passing_yards_by_season.head()"
   ]
  },
  {
   "cell_type": "code",
   "execution_count": 33,
   "id": "7df6e08b",
   "metadata": {},
   "outputs": [],
   "source": [
    "for i, row in df_passing_yards_by_season.iterrows():\n",
    "    r_id = row[\"passer_id\"]\n",
    "    season = row[\"season\"]\n",
    "    \n",
    "    seasonal_row = df_seasonal.query(f\"player_id == '{r_id}' & season == {season} & season_type == 'REG'\")\n",
    "    age = df_roster.query(f\"player_id == '{r_id}' & season == {season}\")[\"age\"]\n",
    "    \n",
    "    # from seasonal df\n",
    "    df_passing_yards_by_season.at[i, \"games\"] = seasonal_row[\"games\"].iloc[0]\n",
    "    df_passing_yards_by_season.at[i, \"fantasy_points\"] = seasonal_row[\"fantasy_points\"].iloc[0]\n",
    "    \n",
    "    \n",
    "    # from roster df\n",
    "    df_passing_yards_by_season.at[i, \"age\"] = age.iloc[0]"
   ]
  },
  {
   "cell_type": "code",
   "execution_count": 34,
   "id": "41b3595a",
   "metadata": {},
   "outputs": [],
   "source": [
    "# df_passing_yards_by_season = df_passing_yards_by_season.query(\"games >= 12 & passing_yards > 1000\")"
   ]
  },
  {
   "cell_type": "code",
   "execution_count": 35,
   "id": "7d3d6e84",
   "metadata": {},
   "outputs": [
    {
     "data": {
      "text/html": [
       "<div>\n",
       "<style scoped>\n",
       "    .dataframe tbody tr th:only-of-type {\n",
       "        vertical-align: middle;\n",
       "    }\n",
       "\n",
       "    .dataframe tbody tr th {\n",
       "        vertical-align: top;\n",
       "    }\n",
       "\n",
       "    .dataframe thead th {\n",
       "        text-align: right;\n",
       "    }\n",
       "</style>\n",
       "<table border=\"1\" class=\"dataframe\">\n",
       "  <thead>\n",
       "    <tr style=\"text-align: right;\">\n",
       "      <th></th>\n",
       "      <th>passer_id</th>\n",
       "      <th>passer</th>\n",
       "      <th>season</th>\n",
       "      <th>passing_yards</th>\n",
       "      <th>passing_attempts</th>\n",
       "      <th>yards_per_pass</th>\n",
       "      <th>total_epa</th>\n",
       "      <th>passing_touchdowns</th>\n",
       "      <th>completions</th>\n",
       "      <th>games</th>\n",
       "      <th>fantasy_points</th>\n",
       "      <th>age</th>\n",
       "    </tr>\n",
       "  </thead>\n",
       "  <tbody>\n",
       "    <tr>\n",
       "      <th>0</th>\n",
       "      <td>00-0000865</td>\n",
       "      <td>C.Batch</td>\n",
       "      <td>2012</td>\n",
       "      <td>475.0</td>\n",
       "      <td>70</td>\n",
       "      <td>6.785714</td>\n",
       "      <td>-4.666173</td>\n",
       "      <td>1.0</td>\n",
       "      <td>45.0</td>\n",
       "      <td>2.0</td>\n",
       "      <td>15.00</td>\n",
       "      <td>37.0</td>\n",
       "    </tr>\n",
       "    <tr>\n",
       "      <th>1</th>\n",
       "      <td>00-0007091</td>\n",
       "      <td>M.Hasselbeck</td>\n",
       "      <td>2012</td>\n",
       "      <td>1367.0</td>\n",
       "      <td>221</td>\n",
       "      <td>6.185520</td>\n",
       "      <td>-3.358989</td>\n",
       "      <td>7.0</td>\n",
       "      <td>138.0</td>\n",
       "      <td>8.0</td>\n",
       "      <td>76.48</td>\n",
       "      <td>36.0</td>\n",
       "    </tr>\n",
       "    <tr>\n",
       "      <th>2</th>\n",
       "      <td>00-0007091</td>\n",
       "      <td>M.Hasselbeck</td>\n",
       "      <td>2013</td>\n",
       "      <td>130.0</td>\n",
       "      <td>12</td>\n",
       "      <td>10.833333</td>\n",
       "      <td>3.809972</td>\n",
       "      <td>0.0</td>\n",
       "      <td>7.0</td>\n",
       "      <td>3.0</td>\n",
       "      <td>3.00</td>\n",
       "      <td>37.0</td>\n",
       "    </tr>\n",
       "    <tr>\n",
       "      <th>3</th>\n",
       "      <td>00-0007091</td>\n",
       "      <td>M.Hasselbeck</td>\n",
       "      <td>2014</td>\n",
       "      <td>301.0</td>\n",
       "      <td>44</td>\n",
       "      <td>6.840909</td>\n",
       "      <td>6.072737</td>\n",
       "      <td>2.0</td>\n",
       "      <td>30.0</td>\n",
       "      <td>4.0</td>\n",
       "      <td>16.94</td>\n",
       "      <td>38.0</td>\n",
       "    </tr>\n",
       "    <tr>\n",
       "      <th>4</th>\n",
       "      <td>00-0007091</td>\n",
       "      <td>M.Hasselbeck</td>\n",
       "      <td>2015</td>\n",
       "      <td>1690.0</td>\n",
       "      <td>256</td>\n",
       "      <td>6.601562</td>\n",
       "      <td>31.047590</td>\n",
       "      <td>9.0</td>\n",
       "      <td>156.0</td>\n",
       "      <td>8.0</td>\n",
       "      <td>91.10</td>\n",
       "      <td>39.0</td>\n",
       "    </tr>\n",
       "  </tbody>\n",
       "</table>\n",
       "</div>"
      ],
      "text/plain": [
       "    passer_id        passer  season  passing_yards  passing_attempts  \\\n",
       "0  00-0000865       C.Batch    2012          475.0                70   \n",
       "1  00-0007091  M.Hasselbeck    2012         1367.0               221   \n",
       "2  00-0007091  M.Hasselbeck    2013          130.0                12   \n",
       "3  00-0007091  M.Hasselbeck    2014          301.0                44   \n",
       "4  00-0007091  M.Hasselbeck    2015         1690.0               256   \n",
       "\n",
       "   yards_per_pass  total_epa  passing_touchdowns  completions  games  \\\n",
       "0        6.785714  -4.666173                 1.0         45.0    2.0   \n",
       "1        6.185520  -3.358989                 7.0        138.0    8.0   \n",
       "2       10.833333   3.809972                 0.0          7.0    3.0   \n",
       "3        6.840909   6.072737                 2.0         30.0    4.0   \n",
       "4        6.601562  31.047590                 9.0        156.0    8.0   \n",
       "\n",
       "   fantasy_points   age  \n",
       "0           15.00  37.0  \n",
       "1           76.48  36.0  \n",
       "2            3.00  37.0  \n",
       "3           16.94  38.0  \n",
       "4           91.10  39.0  "
      ]
     },
     "execution_count": 35,
     "metadata": {},
     "output_type": "execute_result"
    }
   ],
   "source": [
    "df_passing_yards_by_season.head()"
   ]
  },
  {
   "cell_type": "markdown",
   "id": "26cb507d",
   "metadata": {},
   "source": [
    "Creating a current and last year df to compare stats year over year:"
   ]
  },
  {
   "cell_type": "code",
   "execution_count": 36,
   "id": "0338768c",
   "metadata": {},
   "outputs": [],
   "source": [
    "df_now = df_passing_yards_by_season.copy()\n",
    "df_last = df_passing_yards_by_season.copy()"
   ]
  },
  {
   "cell_type": "code",
   "execution_count": 37,
   "id": "4d4ebfae",
   "metadata": {},
   "outputs": [],
   "source": [
    "df_last.rename(columns= {\n",
    "        'passing_yards': 'passing_yards_last',\n",
    "        'passing_attempts': 'passing_attempts_last',\n",
    "        'yards_per_pass': 'yards_per_pass_last',\n",
    "        'total_epa': 'total_epa_last',\n",
    "        'passing_touchdowns': 'passing_touchdowns_last',\n",
    "        'completions': 'completions_last',\n",
    "        'games': 'games_last',\n",
    "        'age': 'age_last',\n",
    "        'fantasy_points': 'fantasy_points_last'\n",
    "    }, inplace=True)"
   ]
  },
  {
   "cell_type": "code",
   "execution_count": 38,
   "id": "91993bc4",
   "metadata": {},
   "outputs": [],
   "source": [
    "df_last[\"season\"] += 1"
   ]
  },
  {
   "cell_type": "markdown",
   "id": "221b8c31",
   "metadata": {},
   "source": [
    "Merging the two for comparison purposes:"
   ]
  },
  {
   "cell_type": "code",
   "execution_count": 39,
   "id": "cb96055f",
   "metadata": {},
   "outputs": [],
   "source": [
    "df_lag = df_now.merge(df_last, how='inner', on=['passer_id', 'passer', 'season'])"
   ]
  },
  {
   "cell_type": "code",
   "execution_count": 40,
   "id": "be0abe66",
   "metadata": {},
   "outputs": [
    {
     "data": {
      "text/html": [
       "<div>\n",
       "<style scoped>\n",
       "    .dataframe tbody tr th:only-of-type {\n",
       "        vertical-align: middle;\n",
       "    }\n",
       "\n",
       "    .dataframe tbody tr th {\n",
       "        vertical-align: top;\n",
       "    }\n",
       "\n",
       "    .dataframe thead th {\n",
       "        text-align: right;\n",
       "    }\n",
       "</style>\n",
       "<table border=\"1\" class=\"dataframe\">\n",
       "  <thead>\n",
       "    <tr style=\"text-align: right;\">\n",
       "      <th></th>\n",
       "      <th>passer_id</th>\n",
       "      <th>passer</th>\n",
       "      <th>season</th>\n",
       "      <th>passing_yards</th>\n",
       "      <th>passing_attempts</th>\n",
       "      <th>yards_per_pass</th>\n",
       "      <th>total_epa</th>\n",
       "      <th>passing_touchdowns</th>\n",
       "      <th>completions</th>\n",
       "      <th>games</th>\n",
       "      <th>...</th>\n",
       "      <th>age</th>\n",
       "      <th>passing_yards_last</th>\n",
       "      <th>passing_attempts_last</th>\n",
       "      <th>yards_per_pass_last</th>\n",
       "      <th>total_epa_last</th>\n",
       "      <th>passing_touchdowns_last</th>\n",
       "      <th>completions_last</th>\n",
       "      <th>games_last</th>\n",
       "      <th>fantasy_points_last</th>\n",
       "      <th>age_last</th>\n",
       "    </tr>\n",
       "  </thead>\n",
       "  <tbody>\n",
       "    <tr>\n",
       "      <th>0</th>\n",
       "      <td>00-0007091</td>\n",
       "      <td>M.Hasselbeck</td>\n",
       "      <td>2013</td>\n",
       "      <td>130.0</td>\n",
       "      <td>12</td>\n",
       "      <td>10.833333</td>\n",
       "      <td>3.809972</td>\n",
       "      <td>0.0</td>\n",
       "      <td>7.0</td>\n",
       "      <td>3.0</td>\n",
       "      <td>...</td>\n",
       "      <td>37.0</td>\n",
       "      <td>1367.0</td>\n",
       "      <td>221</td>\n",
       "      <td>6.185520</td>\n",
       "      <td>-3.358989</td>\n",
       "      <td>7.0</td>\n",
       "      <td>138.0</td>\n",
       "      <td>8.0</td>\n",
       "      <td>76.48</td>\n",
       "      <td>36.0</td>\n",
       "    </tr>\n",
       "    <tr>\n",
       "      <th>1</th>\n",
       "      <td>00-0007091</td>\n",
       "      <td>M.Hasselbeck</td>\n",
       "      <td>2014</td>\n",
       "      <td>301.0</td>\n",
       "      <td>44</td>\n",
       "      <td>6.840909</td>\n",
       "      <td>6.072737</td>\n",
       "      <td>2.0</td>\n",
       "      <td>30.0</td>\n",
       "      <td>4.0</td>\n",
       "      <td>...</td>\n",
       "      <td>38.0</td>\n",
       "      <td>130.0</td>\n",
       "      <td>12</td>\n",
       "      <td>10.833333</td>\n",
       "      <td>3.809972</td>\n",
       "      <td>0.0</td>\n",
       "      <td>7.0</td>\n",
       "      <td>3.0</td>\n",
       "      <td>3.00</td>\n",
       "      <td>37.0</td>\n",
       "    </tr>\n",
       "    <tr>\n",
       "      <th>2</th>\n",
       "      <td>00-0007091</td>\n",
       "      <td>M.Hasselbeck</td>\n",
       "      <td>2015</td>\n",
       "      <td>1690.0</td>\n",
       "      <td>256</td>\n",
       "      <td>6.601562</td>\n",
       "      <td>31.047590</td>\n",
       "      <td>9.0</td>\n",
       "      <td>156.0</td>\n",
       "      <td>8.0</td>\n",
       "      <td>...</td>\n",
       "      <td>39.0</td>\n",
       "      <td>301.0</td>\n",
       "      <td>44</td>\n",
       "      <td>6.840909</td>\n",
       "      <td>6.072737</td>\n",
       "      <td>2.0</td>\n",
       "      <td>30.0</td>\n",
       "      <td>4.0</td>\n",
       "      <td>16.94</td>\n",
       "      <td>38.0</td>\n",
       "    </tr>\n",
       "    <tr>\n",
       "      <th>3</th>\n",
       "      <td>00-0010346</td>\n",
       "      <td>P.Manning</td>\n",
       "      <td>2013</td>\n",
       "      <td>5477.0</td>\n",
       "      <td>658</td>\n",
       "      <td>8.323709</td>\n",
       "      <td>289.987091</td>\n",
       "      <td>55.0</td>\n",
       "      <td>450.0</td>\n",
       "      <td>16.0</td>\n",
       "      <td>...</td>\n",
       "      <td>37.0</td>\n",
       "      <td>4659.0</td>\n",
       "      <td>580</td>\n",
       "      <td>8.032759</td>\n",
       "      <td>189.008911</td>\n",
       "      <td>37.0</td>\n",
       "      <td>400.0</td>\n",
       "      <td>16.0</td>\n",
       "      <td>310.96</td>\n",
       "      <td>36.0</td>\n",
       "    </tr>\n",
       "    <tr>\n",
       "      <th>4</th>\n",
       "      <td>00-0010346</td>\n",
       "      <td>P.Manning</td>\n",
       "      <td>2014</td>\n",
       "      <td>4727.0</td>\n",
       "      <td>595</td>\n",
       "      <td>7.944538</td>\n",
       "      <td>147.676483</td>\n",
       "      <td>39.0</td>\n",
       "      <td>395.0</td>\n",
       "      <td>16.0</td>\n",
       "      <td>...</td>\n",
       "      <td>38.0</td>\n",
       "      <td>5477.0</td>\n",
       "      <td>658</td>\n",
       "      <td>8.323709</td>\n",
       "      <td>289.987091</td>\n",
       "      <td>55.0</td>\n",
       "      <td>450.0</td>\n",
       "      <td>16.0</td>\n",
       "      <td>409.98</td>\n",
       "      <td>37.0</td>\n",
       "    </tr>\n",
       "  </tbody>\n",
       "</table>\n",
       "<p>5 rows × 21 columns</p>\n",
       "</div>"
      ],
      "text/plain": [
       "    passer_id        passer  season  passing_yards  passing_attempts  \\\n",
       "0  00-0007091  M.Hasselbeck    2013          130.0                12   \n",
       "1  00-0007091  M.Hasselbeck    2014          301.0                44   \n",
       "2  00-0007091  M.Hasselbeck    2015         1690.0               256   \n",
       "3  00-0010346     P.Manning    2013         5477.0               658   \n",
       "4  00-0010346     P.Manning    2014         4727.0               595   \n",
       "\n",
       "   yards_per_pass   total_epa  passing_touchdowns  completions  games  ...  \\\n",
       "0       10.833333    3.809972                 0.0          7.0    3.0  ...   \n",
       "1        6.840909    6.072737                 2.0         30.0    4.0  ...   \n",
       "2        6.601562   31.047590                 9.0        156.0    8.0  ...   \n",
       "3        8.323709  289.987091                55.0        450.0   16.0  ...   \n",
       "4        7.944538  147.676483                39.0        395.0   16.0  ...   \n",
       "\n",
       "    age  passing_yards_last  passing_attempts_last  yards_per_pass_last  \\\n",
       "0  37.0              1367.0                    221             6.185520   \n",
       "1  38.0               130.0                     12            10.833333   \n",
       "2  39.0               301.0                     44             6.840909   \n",
       "3  37.0              4659.0                    580             8.032759   \n",
       "4  38.0              5477.0                    658             8.323709   \n",
       "\n",
       "   total_epa_last  passing_touchdowns_last  completions_last  games_last  \\\n",
       "0       -3.358989                      7.0             138.0         8.0   \n",
       "1        3.809972                      0.0               7.0         3.0   \n",
       "2        6.072737                      2.0              30.0         4.0   \n",
       "3      189.008911                     37.0             400.0        16.0   \n",
       "4      289.987091                     55.0             450.0        16.0   \n",
       "\n",
       "   fantasy_points_last  age_last  \n",
       "0                76.48      36.0  \n",
       "1                 3.00      37.0  \n",
       "2                16.94      38.0  \n",
       "3               310.96      36.0  \n",
       "4               409.98      37.0  \n",
       "\n",
       "[5 rows x 21 columns]"
      ]
     },
     "execution_count": 40,
     "metadata": {},
     "output_type": "execute_result"
    }
   ],
   "source": [
    "df_lag.head()"
   ]
  },
  {
   "cell_type": "code",
   "execution_count": 41,
   "id": "88c42f0b",
   "metadata": {},
   "outputs": [],
   "source": [
    "df_lag.to_pickle(\"../../interactive/QB/stability-passing/df_lag_unfiltered.pkl\")"
   ]
  },
  {
   "cell_type": "code",
   "execution_count": null,
   "id": "254254da",
   "metadata": {},
   "outputs": [],
   "source": []
  },
  {
   "cell_type": "code",
   "execution_count": null,
   "id": "74633f3a",
   "metadata": {
    "scrolled": true
   },
   "outputs": [],
   "source": [
    "df_lag_150 = df_lag.query(\"completions > 150\").copy()\n",
    "df_lag_150[\"diff\"] = df_lag_150[\"passing_yards\"] - df_lag_150[\"passing_yards_last\"]\n",
    "df_lag_150.head()"
   ]
  },
  {
   "cell_type": "code",
   "execution_count": null,
   "id": "462ac69b",
   "metadata": {},
   "outputs": [],
   "source": [
    "df_lag_300 = df_lag.query(\"completions > 300\")\n",
    "df_lag_300.head()"
   ]
  },
  {
   "cell_type": "markdown",
   "id": "68b524dc",
   "metadata": {},
   "source": [
    "# Correlations"
   ]
  },
  {
   "cell_type": "markdown",
   "id": "a0bc76ac",
   "metadata": {},
   "source": [
    "## Completions"
   ]
  },
  {
   "cell_type": "code",
   "execution_count": null,
   "id": "fa0854a8",
   "metadata": {},
   "outputs": [],
   "source": [
    "df_lag[[\"completions\", \"completions_last\"]].corr()"
   ]
  },
  {
   "cell_type": "markdown",
   "id": "369c782d",
   "metadata": {},
   "source": [
    "## Attempts"
   ]
  },
  {
   "cell_type": "code",
   "execution_count": null,
   "id": "3f8c1049",
   "metadata": {},
   "outputs": [],
   "source": [
    "df_lag[[\"passing_attempts\", \"passing_attempts_last\"]].corr()"
   ]
  },
  {
   "cell_type": "markdown",
   "id": "ee4e63d2",
   "metadata": {},
   "source": [
    "## Yardage"
   ]
  },
  {
   "cell_type": "code",
   "execution_count": null,
   "id": "9963a0a4",
   "metadata": {},
   "outputs": [],
   "source": [
    "df_lag[[\"passing_yards\", \"passing_yards_last\"]].corr()"
   ]
  },
  {
   "cell_type": "markdown",
   "id": "03520749",
   "metadata": {},
   "source": [
    "## Touchdowns"
   ]
  },
  {
   "cell_type": "code",
   "execution_count": null,
   "id": "8e3a4ccc",
   "metadata": {},
   "outputs": [],
   "source": [
    "df_lag[[\"passing_touchdowns\", \"passing_touchdowns_last\"]].corr()"
   ]
  },
  {
   "cell_type": "markdown",
   "id": "f48280e6",
   "metadata": {},
   "source": [
    "## EPA"
   ]
  },
  {
   "cell_type": "code",
   "execution_count": null,
   "id": "e24a97a6",
   "metadata": {},
   "outputs": [],
   "source": [
    "df_lag[[\"total_epa\", \"total_epa_last\"]].corr()"
   ]
  },
  {
   "cell_type": "markdown",
   "id": "3b63be38",
   "metadata": {},
   "source": [
    "# Further Exploration"
   ]
  },
  {
   "cell_type": "code",
   "execution_count": null,
   "id": "31cacebc",
   "metadata": {},
   "outputs": [],
   "source": [
    "df_lag[\"completions\"].mean()"
   ]
  },
  {
   "cell_type": "code",
   "execution_count": null,
   "id": "6086aeea",
   "metadata": {},
   "outputs": [],
   "source": [
    "df_lag[\"completions\"].median()"
   ]
  },
  {
   "cell_type": "code",
   "execution_count": null,
   "id": "f1bf1cf2",
   "metadata": {},
   "outputs": [],
   "source": [
    "for thres in range(200, 460, 10):\n",
    "    df_lag_test = df_lag.query(f\"completions > {thres}\")\n",
    "    temp = df_lag_test[[\"completions\", \"completions_last\"]].corr()\n",
    "    \n",
    "    print(f\"\\nMin completions for season: {thres}\")\n",
    "    print(temp.to_string())"
   ]
  },
  {
   "cell_type": "code",
   "execution_count": null,
   "id": "a4f02807",
   "metadata": {},
   "outputs": [],
   "source": [
    "for thres in range(2000, 5500, 100):\n",
    "    df_lag_test = df_lag\n",
    "    df_lag_test[\"passing_yards\"] = df_lag_test[\"passing_yards\"]\n",
    "    df_lag_test = df_lag_test.query(f\"passing_yards > {thres}\")\n",
    "    temp = df_lag_test[[\"passing_yards\", \"passing_yards_last\"]].corr()\n",
    "    \n",
    "    print(f\"\\nMin yards for season: {thres}\")\n",
    "    print(temp.to_string())"
   ]
  },
  {
   "cell_type": "markdown",
   "id": "6ed6f3e2",
   "metadata": {},
   "source": [
    "## Plotting Merged Data"
   ]
  },
  {
   "cell_type": "code",
   "execution_count": 33,
   "id": "92b98d4f",
   "metadata": {},
   "outputs": [
    {
     "data": {
      "image/png": "[encoded data removed]",
      "text/plain": [
       "<Figure size 640x480 with 1 Axes>"
      ]
     },
     "metadata": {},
     "output_type": "display_data"
    }
   ],
   "source": [
    "sns.set_theme(style=\"whitegrid\", palette=\"colorblind\")\n",
    "sns.scatterplot(data=df_lag, x=\"passing_yards_last\", y=\"passing_yards\");\n",
    "plt.show();"
   ]
  },
  {
   "cell_type": "code",
   "execution_count": null,
   "id": "d11c7bba",
   "metadata": {},
   "outputs": [],
   "source": [
    "sns.regplot(data=df_lag, x=\"passing_yards_last\", y=\"passing_yards\");\n",
    "plt.show();"
   ]
  },
  {
   "cell_type": "code",
   "execution_count": null,
   "id": "073398cd",
   "metadata": {},
   "outputs": [],
   "source": [
    "df_lag_ols = smf.ols(formula='passing_yards ~ 1 + passing_yards_last', data=df_lag)\n",
    "print(df_lag_ols.fit().summary())"
   ]
  },
  {
   "cell_type": "markdown",
   "id": "8612f17a",
   "metadata": {},
   "source": [
    "## Looking at Small Changes"
   ]
  },
  {
   "cell_type": "code",
   "execution_count": null,
   "id": "49de4813",
   "metadata": {},
   "outputs": [],
   "source": [
    "df_small_change = df_lag_150[[\"passer\", \"season\", \"passing_yards\", \n",
    "                  \"passing_yards_last\", \"diff\", \"completions\"]\n",
    "                ].query(\"diff < 1000 & diff > -1000\")"
   ]
  },
  {
   "cell_type": "code",
   "execution_count": null,
   "id": "df8f7b9d",
   "metadata": {},
   "outputs": [],
   "source": [
    "df_small_change[[\"passing_yards\", \"passing_yards_last\"]].corr()"
   ]
  },
  {
   "cell_type": "markdown",
   "id": "9aa4d408",
   "metadata": {},
   "source": [
    "## Looking at Large Changes"
   ]
  },
  {
   "cell_type": "code",
   "execution_count": null,
   "id": "7ec979ab",
   "metadata": {},
   "outputs": [],
   "source": [
    "df_big_pos_del = df_lag_150[[\"passer\", \"season\", \"passing_yards\", \n",
    "                  \"passing_yards_last\", \"diff\", \"completions\"]\n",
    "                ].query(\"diff > 1000\")\n",
    "df_big_pos_del "
   ]
  },
  {
   "cell_type": "code",
   "execution_count": null,
   "id": "69f8df2e",
   "metadata": {},
   "outputs": [],
   "source": [
    "df_big_minus_del = df_lag_150[[\"passer\", \"season\", \"passing_yards\", \n",
    "                  \"passing_yards_last\", \"diff\", \"completions\"]\n",
    "                ].query(\"diff < -1000\")\n",
    "df_big_minus_del"
   ]
  },
  {
   "cell_type": "markdown",
   "id": "756de8ab",
   "metadata": {},
   "source": [
    "## Looking at healthy starters over two seasons"
   ]
  },
  {
   "cell_type": "code",
   "execution_count": null,
   "id": "8d7316f9",
   "metadata": {},
   "outputs": [],
   "source": [
    "df_starter = df_lag_150[[\"passer\", \"season\", \"passing_yards\", \n",
    "                  \"passing_yards_last\", \"diff\", \"completions\", \"games\", \"games_last\"]\n",
    "                ].query(\"games > 12 & games_last > 12\")\n",
    "df_starter"
   ]
  },
  {
   "cell_type": "code",
   "execution_count": null,
   "id": "2b395a0d",
   "metadata": {},
   "outputs": [],
   "source": [
    "df_starter[[\"passing_yards\", \"passing_yards_last\"]].corr()"
   ]
  },
  {
   "cell_type": "code",
   "execution_count": null,
   "id": "12390068",
   "metadata": {},
   "outputs": [],
   "source": [
    "sns.set_theme(style=\"whitegrid\", palette=\"colorblind\")\n",
    "sns.scatterplot(data=df_starter, x=\"passing_yards_last\", y=\"passing_yards\");\n",
    "plt.show();"
   ]
  },
  {
   "cell_type": "code",
   "execution_count": null,
   "id": "1269b026",
   "metadata": {},
   "outputs": [],
   "source": [
    "sns.regplot(data=df_starter, x=\"passing_yards_last\", y=\"passing_yards\");\n",
    "plt.show();"
   ]
  },
  {
   "cell_type": "code",
   "execution_count": null,
   "id": "c4d63102",
   "metadata": {},
   "outputs": [],
   "source": [
    "df_lag_ols = smf.ols(formula='passing_yards ~ 1 + passing_yards_last', data=df_starter)\n",
    "print(df_lag_ols.fit().summary())"
   ]
  },
  {
   "cell_type": "markdown",
   "id": "cc5ed2f4",
   "metadata": {},
   "source": [
    "## Starters with more than 2000 passing yards"
   ]
  },
  {
   "cell_type": "code",
   "execution_count": null,
   "id": "c1cb5a94",
   "metadata": {},
   "outputs": [],
   "source": [
    "df_starter_2000 = df_lag_150[[\"passer\", \"season\", \"passing_yards\", \n",
    "                  \"passing_yards_last\", \"diff\", \"completions\", \"games\", \"games_last\"]\n",
    "                ].query(\"games > 12 & games_last > 12 & passing_yards_last > 2000\")\n",
    "df_starter_2000"
   ]
  },
  {
   "cell_type": "code",
   "execution_count": null,
   "id": "e111c3c1",
   "metadata": {},
   "outputs": [],
   "source": [
    "sns.set_theme(style=\"whitegrid\", palette=\"colorblind\")\n",
    "sns.scatterplot(data=df_starter_2000, x=\"passing_yards_last\", y=\"passing_yards\");\n",
    "plt.show();"
   ]
  },
  {
   "cell_type": "code",
   "execution_count": null,
   "id": "30c42c89",
   "metadata": {},
   "outputs": [],
   "source": [
    "sns.regplot(data=df_starter_2000, x=\"passing_yards_last\", y=\"passing_yards\");\n",
    "plt.show();"
   ]
  },
  {
   "cell_type": "code",
   "execution_count": null,
   "id": "b49cc014",
   "metadata": {},
   "outputs": [],
   "source": [
    "df_lag_ols = smf.ols(formula='passing_yards ~ 1 + passing_yards_last', data=df_starter_2000)\n",
    "print(df_lag_ols.fit().summary())"
   ]
  },
  {
   "cell_type": "markdown",
   "id": "d06bf285",
   "metadata": {},
   "source": [
    "## Negative Delta"
   ]
  },
  {
   "cell_type": "code",
   "execution_count": null,
   "id": "b390d40e",
   "metadata": {},
   "outputs": [],
   "source": [
    "df_neg = df_lag_150[[\"passer\", \"season\", \"passing_yards\", \n",
    "                  \"passing_yards_last\", \"diff\", \"completions\", 'age', 'age_last']\n",
    "                ].query(\"diff < -400\")\n",
    "df_neg.head()"
   ]
  },
  {
   "cell_type": "code",
   "execution_count": null,
   "id": "805cb617",
   "metadata": {},
   "outputs": [],
   "source": [
    "df_neg[\"age\"].mean()"
   ]
  },
  {
   "cell_type": "code",
   "execution_count": null,
   "id": "4dd88664",
   "metadata": {},
   "outputs": [],
   "source": [
    "df_neg[\"age\"].median()"
   ]
  },
  {
   "cell_type": "markdown",
   "id": "2638340a",
   "metadata": {},
   "source": [
    "## Postive Delta"
   ]
  },
  {
   "cell_type": "code",
   "execution_count": null,
   "id": "f33d66c2",
   "metadata": {},
   "outputs": [],
   "source": [
    "df_pos = df_lag_150[[\"passer\", \"season\", \"passing_yards\", \n",
    "                  \"passing_yards_last\", \"diff\", \"completions\", 'age', 'age_last']\n",
    "                ].query(\"diff > 400\")\n",
    "df_pos.head()"
   ]
  },
  {
   "cell_type": "code",
   "execution_count": null,
   "id": "28d014ea",
   "metadata": {},
   "outputs": [],
   "source": [
    "df_pos[\"age\"].mean()"
   ]
  },
  {
   "cell_type": "code",
   "execution_count": null,
   "id": "33eef200",
   "metadata": {},
   "outputs": [],
   "source": [
    "df_pos[\"age\"].median()"
   ]
  },
  {
   "cell_type": "markdown",
   "id": "7b461629",
   "metadata": {},
   "source": [
    "# Olds QBs"
   ]
  },
  {
   "cell_type": "code",
   "execution_count": null,
   "id": "e74aa462",
   "metadata": {},
   "outputs": [],
   "source": [
    "df_old = df_lag.query('age_last >= 30')"
   ]
  },
  {
   "cell_type": "code",
   "execution_count": null,
   "id": "82fe215b",
   "metadata": {},
   "outputs": [],
   "source": [
    "sns.set_theme(style=\"whitegrid\", palette=\"colorblind\")\n",
    "sns.scatterplot(data=df_old, x=\"passing_yards_last\", y=\"passing_yards\");\n",
    "plt.show();"
   ]
  },
  {
   "cell_type": "code",
   "execution_count": null,
   "id": "9475d328",
   "metadata": {},
   "outputs": [],
   "source": [
    "sns.regplot(data=df_old, x=\"passing_yards_last\", y=\"passing_yards\");\n",
    "plt.show();"
   ]
  },
  {
   "cell_type": "code",
   "execution_count": null,
   "id": "18a6d310",
   "metadata": {},
   "outputs": [],
   "source": [
    "df_lag_ols = smf.ols(formula='passing_yards ~ 1 + passing_yards_last', data=df_lag)\n",
    "print(df_lag_ols.fit().summary())"
   ]
  },
  {
   "cell_type": "code",
   "execution_count": null,
   "id": "8cee23b5",
   "metadata": {},
   "outputs": [],
   "source": [
    "df_old[[\"passing_yards\", \"passing_yards_last\"]].corr()"
   ]
  },
  {
   "cell_type": "markdown",
   "id": "89b3ee34",
   "metadata": {},
   "source": [
    "# Young QBs"
   ]
  },
  {
   "cell_type": "code",
   "execution_count": null,
   "id": "ee858cbb",
   "metadata": {},
   "outputs": [],
   "source": [
    "df_young = df_lag.query('age <= 30')"
   ]
  },
  {
   "cell_type": "code",
   "execution_count": null,
   "id": "4b479f5a",
   "metadata": {},
   "outputs": [],
   "source": [
    "sns.set_theme(style=\"whitegrid\", palette=\"colorblind\")\n",
    "sns.scatterplot(data=df_young, x=\"passing_yards_last\", y=\"passing_yards\");\n",
    "plt.show();"
   ]
  },
  {
   "cell_type": "code",
   "execution_count": null,
   "id": "d42bf69b",
   "metadata": {},
   "outputs": [],
   "source": [
    "sns.regplot(data=df_young, x=\"passing_yards_last\", y=\"passing_yards\");\n",
    "plt.show();"
   ]
  },
  {
   "cell_type": "code",
   "execution_count": null,
   "id": "714a4aff",
   "metadata": {},
   "outputs": [],
   "source": [
    "df_lag_ols = smf.ols(formula='passing_yards ~ 1 + passing_yards_last', data=df_young)\n",
    "print(df_lag_ols.fit().summary())"
   ]
  },
  {
   "cell_type": "code",
   "execution_count": null,
   "id": "684b5db6",
   "metadata": {},
   "outputs": [],
   "source": [
    "df_young[[\"passing_yards\", \"passing_yards_last\"]].corr()"
   ]
  },
  {
   "cell_type": "markdown",
   "id": "ee1a759e",
   "metadata": {},
   "source": [
    "## Looking at the Diff Year-to-Year"
   ]
  },
  {
   "cell_type": "code",
   "execution_count": null,
   "id": "e129dbb8",
   "metadata": {},
   "outputs": [],
   "source": [
    "df_lag_150[\"diff\"].mean()"
   ]
  },
  {
   "cell_type": "code",
   "execution_count": null,
   "id": "37c0e5fa",
   "metadata": {},
   "outputs": [],
   "source": [
    "df_lag_150[\"diff\"].median()"
   ]
  },
  {
   "cell_type": "code",
   "execution_count": null,
   "id": "807d5fcc",
   "metadata": {},
   "outputs": [],
   "source": [
    "df_lag_150[\"diff\"].describe()"
   ]
  },
  {
   "cell_type": "markdown",
   "id": "a9b87dec",
   "metadata": {},
   "source": [
    "### Top 25 Percentile"
   ]
  },
  {
   "cell_type": "code",
   "execution_count": null,
   "id": "8b757e0b",
   "metadata": {},
   "outputs": [],
   "source": [
    "df_top_25 = df_lag_150.query(\"diff > 509.25\")\n",
    "df_top_25[[\"passer\", \"season\", \"age\", \"diff\"]].head()"
   ]
  },
  {
   "cell_type": "code",
   "execution_count": null,
   "id": "9d9e7d15",
   "metadata": {},
   "outputs": [],
   "source": [
    "df_top_25[\"age\"].mean()"
   ]
  },
  {
   "cell_type": "code",
   "execution_count": null,
   "id": "b87eef61",
   "metadata": {},
   "outputs": [],
   "source": [
    "df_top_25[\"age\"].median()"
   ]
  },
  {
   "cell_type": "code",
   "execution_count": null,
   "id": "4b5467e4",
   "metadata": {},
   "outputs": [],
   "source": [
    "df_top_25[[\"passing_yards\", \"passing_yards_last\"]].corr()"
   ]
  },
  {
   "cell_type": "code",
   "execution_count": null,
   "id": "d94b4a83",
   "metadata": {},
   "outputs": [],
   "source": [
    "sns.set_theme(style=\"whitegrid\", palette=\"colorblind\")\n",
    "sns.scatterplot(data=df_top_25, x=\"passing_yards_last\", y=\"passing_yards\");\n",
    "plt.show();"
   ]
  },
  {
   "cell_type": "code",
   "execution_count": null,
   "id": "79badac1",
   "metadata": {},
   "outputs": [],
   "source": [
    "sns.regplot(data=df_top_25, x=\"passing_yards_last\", y=\"passing_yards\");\n",
    "plt.show();"
   ]
  },
  {
   "cell_type": "code",
   "execution_count": null,
   "id": "faadb7e5",
   "metadata": {},
   "outputs": [],
   "source": [
    "df_lag_ols = smf.ols(formula='passing_yards ~ 1 + passing_yards_last', data=df_top_25)\n",
    "print(df_lag_ols.fit().summary())"
   ]
  },
  {
   "cell_type": "markdown",
   "id": "02d94827",
   "metadata": {},
   "source": [
    "### Bottom 25 Percentile"
   ]
  },
  {
   "cell_type": "code",
   "execution_count": null,
   "id": "70e9a5a7",
   "metadata": {},
   "outputs": [],
   "source": [
    "df_bot_25 = df_lag_150.query(\"diff < -438.5\")\n",
    "df_bot_25[[\"passer\", \"season\", \"age\", \"diff\"]].head()"
   ]
  },
  {
   "cell_type": "code",
   "execution_count": null,
   "id": "428608d6",
   "metadata": {},
   "outputs": [],
   "source": [
    "df_bot_25[\"age\"].mean()"
   ]
  },
  {
   "cell_type": "code",
   "execution_count": null,
   "id": "c2c12f49",
   "metadata": {},
   "outputs": [],
   "source": [
    "df_bot_25[\"age\"].median()"
   ]
  },
  {
   "cell_type": "code",
   "execution_count": null,
   "id": "7ad73c8c",
   "metadata": {},
   "outputs": [],
   "source": [
    "df_bot_25[[\"passing_yards\", \"passing_yards_last\"]].corr()"
   ]
  },
  {
   "cell_type": "code",
   "execution_count": null,
   "id": "941d226e",
   "metadata": {},
   "outputs": [],
   "source": [
    "sns.set_theme(style=\"whitegrid\", palette=\"colorblind\")\n",
    "sns.scatterplot(data=df_bot_25, x=\"passing_yards_last\", y=\"passing_yards\");\n",
    "plt.show();"
   ]
  },
  {
   "cell_type": "code",
   "execution_count": null,
   "id": "57d2056f",
   "metadata": {},
   "outputs": [],
   "source": [
    "sns.regplot(data=df_bot_25, x=\"passing_yards_last\", y=\"passing_yards\");\n",
    "plt.show();"
   ]
  },
  {
   "cell_type": "code",
   "execution_count": null,
   "id": "3f8fa7b9",
   "metadata": {},
   "outputs": [],
   "source": [
    "df_lag_ols = smf.ols(formula='passing_yards ~ 1 + passing_yards_last', data=df_bot_25)\n",
    "print(df_lag_ols.fit().summary())"
   ]
  },
  {
   "cell_type": "code",
   "execution_count": null,
   "id": "d6720859",
   "metadata": {},
   "outputs": [],
   "source": []
  }
 ],
 "metadata": {
  "kernelspec": {
   "display_name": "nfldata",
   "language": "python",
   "name": "nfldata"
  },
  "language_info": {
   "codemirror_mode": {
    "name": "ipython",
    "version": 3
   },
   "file_extension": ".py",
   "mimetype": "text/x-python",
   "name": "python",
   "nbconvert_exporter": "python",
   "pygments_lexer": "ipython3",
   "version": "3.9.7"
  }
 },
 "nbformat": 4,
 "nbformat_minor": 5
}
