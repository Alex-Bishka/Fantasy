{
 "cells": [
  {
   "cell_type": "markdown",
   "id": "c113d051",
   "metadata": {},
   "source": [
    "# Imports"
   ]
  },
  {
   "cell_type": "code",
   "execution_count": 1,
   "id": "f497b671",
   "metadata": {},
   "outputs": [],
   "source": [
    "import plotly.express as px\n",
    "import pandas as pd"
   ]
  },
  {
   "cell_type": "code",
   "execution_count": 2,
   "id": "31558fe8",
   "metadata": {},
   "outputs": [],
   "source": [
    "from helpers import plot_correlation_matrix, create_correlation_matrix"
   ]
  },
  {
   "cell_type": "markdown",
   "id": "7a7e8db1",
   "metadata": {},
   "source": [
    "# Read Data"
   ]
  },
  {
   "cell_type": "markdown",
   "id": "49d17fd5",
   "metadata": {},
   "source": [
    "This data set takes into account passing data from 2012 - 2022. This data is unfiltered."
   ]
  },
  {
   "cell_type": "code",
   "execution_count": 49,
   "id": "dd2ba63f",
   "metadata": {},
   "outputs": [],
   "source": [
    "df_roster = pd.read_pickle(\"../../interactive/df_roster_2012_2022.pkl\")"
   ]
  },
  {
   "cell_type": "code",
   "execution_count": 48,
   "id": "9c065d88",
   "metadata": {},
   "outputs": [],
   "source": [
    "df_seasonal = pd.read_pickle(\"../../interactive/df_seasonal_2012_2022.pkl\")"
   ]
  },
  {
   "cell_type": "code",
   "execution_count": 6,
   "id": "faebc468",
   "metadata": {},
   "outputs": [],
   "source": [
    "df_pbp = pd.read_pickle(\"../../interactive/df_pbp_2012_2022.pkl\")"
   ]
  },
  {
   "cell_type": "code",
   "execution_count": 7,
   "id": "26ce2014",
   "metadata": {},
   "outputs": [
    {
     "data": {
      "text/html": [
       "<div>\n",
       "<style scoped>\n",
       "    .dataframe tbody tr th:only-of-type {\n",
       "        vertical-align: middle;\n",
       "    }\n",
       "\n",
       "    .dataframe tbody tr th {\n",
       "        vertical-align: top;\n",
       "    }\n",
       "\n",
       "    .dataframe thead th {\n",
       "        text-align: right;\n",
       "    }\n",
       "</style>\n",
       "<table border=\"1\" class=\"dataframe\">\n",
       "  <thead>\n",
       "    <tr style=\"text-align: right;\">\n",
       "      <th></th>\n",
       "      <th>play_id</th>\n",
       "      <th>game_id</th>\n",
       "      <th>old_game_id</th>\n",
       "      <th>home_team</th>\n",
       "      <th>away_team</th>\n",
       "      <th>season_type</th>\n",
       "      <th>week</th>\n",
       "      <th>posteam</th>\n",
       "      <th>posteam_type</th>\n",
       "      <th>defteam</th>\n",
       "      <th>...</th>\n",
       "      <th>offense_formation</th>\n",
       "      <th>offense_personnel</th>\n",
       "      <th>defenders_in_box</th>\n",
       "      <th>defense_personnel</th>\n",
       "      <th>number_of_pass_rushers</th>\n",
       "      <th>players_on_play</th>\n",
       "      <th>offense_players</th>\n",
       "      <th>defense_players</th>\n",
       "      <th>n_offense</th>\n",
       "      <th>n_defense</th>\n",
       "    </tr>\n",
       "  </thead>\n",
       "  <tbody>\n",
       "    <tr>\n",
       "      <th>0</th>\n",
       "      <td>1.0</td>\n",
       "      <td>2012_01_ATL_KC</td>\n",
       "      <td>2012090908</td>\n",
       "      <td>KC</td>\n",
       "      <td>ATL</td>\n",
       "      <td>REG</td>\n",
       "      <td>1</td>\n",
       "      <td>None</td>\n",
       "      <td>None</td>\n",
       "      <td>None</td>\n",
       "      <td>...</td>\n",
       "      <td>NaN</td>\n",
       "      <td>NaN</td>\n",
       "      <td>NaN</td>\n",
       "      <td>NaN</td>\n",
       "      <td>NaN</td>\n",
       "      <td>NaN</td>\n",
       "      <td>NaN</td>\n",
       "      <td>NaN</td>\n",
       "      <td>NaN</td>\n",
       "      <td>NaN</td>\n",
       "    </tr>\n",
       "    <tr>\n",
       "      <th>1</th>\n",
       "      <td>35.0</td>\n",
       "      <td>2012_01_ATL_KC</td>\n",
       "      <td>2012090908</td>\n",
       "      <td>KC</td>\n",
       "      <td>ATL</td>\n",
       "      <td>REG</td>\n",
       "      <td>1</td>\n",
       "      <td>ATL</td>\n",
       "      <td>away</td>\n",
       "      <td>KC</td>\n",
       "      <td>...</td>\n",
       "      <td>NaN</td>\n",
       "      <td>NaN</td>\n",
       "      <td>NaN</td>\n",
       "      <td>NaN</td>\n",
       "      <td>NaN</td>\n",
       "      <td>NaN</td>\n",
       "      <td>NaN</td>\n",
       "      <td>NaN</td>\n",
       "      <td>NaN</td>\n",
       "      <td>NaN</td>\n",
       "    </tr>\n",
       "    <tr>\n",
       "      <th>2</th>\n",
       "      <td>53.0</td>\n",
       "      <td>2012_01_ATL_KC</td>\n",
       "      <td>2012090908</td>\n",
       "      <td>KC</td>\n",
       "      <td>ATL</td>\n",
       "      <td>REG</td>\n",
       "      <td>1</td>\n",
       "      <td>ATL</td>\n",
       "      <td>away</td>\n",
       "      <td>KC</td>\n",
       "      <td>...</td>\n",
       "      <td>NaN</td>\n",
       "      <td>NaN</td>\n",
       "      <td>NaN</td>\n",
       "      <td>NaN</td>\n",
       "      <td>NaN</td>\n",
       "      <td>NaN</td>\n",
       "      <td>NaN</td>\n",
       "      <td>NaN</td>\n",
       "      <td>NaN</td>\n",
       "      <td>NaN</td>\n",
       "    </tr>\n",
       "    <tr>\n",
       "      <th>3</th>\n",
       "      <td>74.0</td>\n",
       "      <td>2012_01_ATL_KC</td>\n",
       "      <td>2012090908</td>\n",
       "      <td>KC</td>\n",
       "      <td>ATL</td>\n",
       "      <td>REG</td>\n",
       "      <td>1</td>\n",
       "      <td>ATL</td>\n",
       "      <td>away</td>\n",
       "      <td>KC</td>\n",
       "      <td>...</td>\n",
       "      <td>NaN</td>\n",
       "      <td>NaN</td>\n",
       "      <td>NaN</td>\n",
       "      <td>NaN</td>\n",
       "      <td>NaN</td>\n",
       "      <td>NaN</td>\n",
       "      <td>NaN</td>\n",
       "      <td>NaN</td>\n",
       "      <td>NaN</td>\n",
       "      <td>NaN</td>\n",
       "    </tr>\n",
       "    <tr>\n",
       "      <th>4</th>\n",
       "      <td>95.0</td>\n",
       "      <td>2012_01_ATL_KC</td>\n",
       "      <td>2012090908</td>\n",
       "      <td>KC</td>\n",
       "      <td>ATL</td>\n",
       "      <td>REG</td>\n",
       "      <td>1</td>\n",
       "      <td>ATL</td>\n",
       "      <td>away</td>\n",
       "      <td>KC</td>\n",
       "      <td>...</td>\n",
       "      <td>NaN</td>\n",
       "      <td>NaN</td>\n",
       "      <td>NaN</td>\n",
       "      <td>NaN</td>\n",
       "      <td>NaN</td>\n",
       "      <td>NaN</td>\n",
       "      <td>NaN</td>\n",
       "      <td>NaN</td>\n",
       "      <td>NaN</td>\n",
       "      <td>NaN</td>\n",
       "    </tr>\n",
       "  </tbody>\n",
       "</table>\n",
       "<p>5 rows × 384 columns</p>\n",
       "</div>"
      ],
      "text/plain": [
       "   play_id         game_id old_game_id home_team away_team season_type  week  \\\n",
       "0      1.0  2012_01_ATL_KC  2012090908        KC       ATL         REG     1   \n",
       "1     35.0  2012_01_ATL_KC  2012090908        KC       ATL         REG     1   \n",
       "2     53.0  2012_01_ATL_KC  2012090908        KC       ATL         REG     1   \n",
       "3     74.0  2012_01_ATL_KC  2012090908        KC       ATL         REG     1   \n",
       "4     95.0  2012_01_ATL_KC  2012090908        KC       ATL         REG     1   \n",
       "\n",
       "  posteam posteam_type defteam  ... offense_formation  offense_personnel  \\\n",
       "0    None         None    None  ...               NaN                NaN   \n",
       "1     ATL         away      KC  ...               NaN                NaN   \n",
       "2     ATL         away      KC  ...               NaN                NaN   \n",
       "3     ATL         away      KC  ...               NaN                NaN   \n",
       "4     ATL         away      KC  ...               NaN                NaN   \n",
       "\n",
       "  defenders_in_box  defense_personnel  number_of_pass_rushers  \\\n",
       "0              NaN                NaN                     NaN   \n",
       "1              NaN                NaN                     NaN   \n",
       "2              NaN                NaN                     NaN   \n",
       "3              NaN                NaN                     NaN   \n",
       "4              NaN                NaN                     NaN   \n",
       "\n",
       "   players_on_play offense_players  defense_players  n_offense  n_defense  \n",
       "0              NaN             NaN              NaN        NaN        NaN  \n",
       "1              NaN             NaN              NaN        NaN        NaN  \n",
       "2              NaN             NaN              NaN        NaN        NaN  \n",
       "3              NaN             NaN              NaN        NaN        NaN  \n",
       "4              NaN             NaN              NaN        NaN        NaN  \n",
       "\n",
       "[5 rows x 384 columns]"
      ]
     },
     "execution_count": 7,
     "metadata": {},
     "output_type": "execute_result"
    }
   ],
   "source": [
    "df_pbp.head()"
   ]
  },
  {
   "cell_type": "markdown",
   "id": "21afb11a",
   "metadata": {},
   "source": [
    "# Creat Data Frame for Runs"
   ]
  },
  {
   "cell_type": "code",
   "execution_count": 11,
   "id": "6fc14688",
   "metadata": {},
   "outputs": [],
   "source": [
    "df_runs = df_pbp.query(\"play_type == 'run' and season_type == 'REG'\")"
   ]
  },
  {
   "cell_type": "code",
   "execution_count": 13,
   "id": "d138dbed",
   "metadata": {},
   "outputs": [
    {
     "data": {
      "text/html": [
       "<div>\n",
       "<style scoped>\n",
       "    .dataframe tbody tr th:only-of-type {\n",
       "        vertical-align: middle;\n",
       "    }\n",
       "\n",
       "    .dataframe tbody tr th {\n",
       "        vertical-align: top;\n",
       "    }\n",
       "\n",
       "    .dataframe thead th {\n",
       "        text-align: right;\n",
       "    }\n",
       "</style>\n",
       "<table border=\"1\" class=\"dataframe\">\n",
       "  <thead>\n",
       "    <tr style=\"text-align: right;\">\n",
       "      <th></th>\n",
       "      <th>play_id</th>\n",
       "      <th>game_id</th>\n",
       "      <th>old_game_id</th>\n",
       "      <th>home_team</th>\n",
       "      <th>away_team</th>\n",
       "      <th>season_type</th>\n",
       "      <th>week</th>\n",
       "      <th>posteam</th>\n",
       "      <th>posteam_type</th>\n",
       "      <th>defteam</th>\n",
       "      <th>...</th>\n",
       "      <th>offense_formation</th>\n",
       "      <th>offense_personnel</th>\n",
       "      <th>defenders_in_box</th>\n",
       "      <th>defense_personnel</th>\n",
       "      <th>number_of_pass_rushers</th>\n",
       "      <th>players_on_play</th>\n",
       "      <th>offense_players</th>\n",
       "      <th>defense_players</th>\n",
       "      <th>n_offense</th>\n",
       "      <th>n_defense</th>\n",
       "    </tr>\n",
       "  </thead>\n",
       "  <tbody>\n",
       "    <tr>\n",
       "      <th>2</th>\n",
       "      <td>53.0</td>\n",
       "      <td>2012_01_ATL_KC</td>\n",
       "      <td>2012090908</td>\n",
       "      <td>KC</td>\n",
       "      <td>ATL</td>\n",
       "      <td>REG</td>\n",
       "      <td>1</td>\n",
       "      <td>ATL</td>\n",
       "      <td>away</td>\n",
       "      <td>KC</td>\n",
       "      <td>...</td>\n",
       "      <td>NaN</td>\n",
       "      <td>NaN</td>\n",
       "      <td>NaN</td>\n",
       "      <td>NaN</td>\n",
       "      <td>NaN</td>\n",
       "      <td>NaN</td>\n",
       "      <td>NaN</td>\n",
       "      <td>NaN</td>\n",
       "      <td>NaN</td>\n",
       "      <td>NaN</td>\n",
       "    </tr>\n",
       "    <tr>\n",
       "      <th>3</th>\n",
       "      <td>74.0</td>\n",
       "      <td>2012_01_ATL_KC</td>\n",
       "      <td>2012090908</td>\n",
       "      <td>KC</td>\n",
       "      <td>ATL</td>\n",
       "      <td>REG</td>\n",
       "      <td>1</td>\n",
       "      <td>ATL</td>\n",
       "      <td>away</td>\n",
       "      <td>KC</td>\n",
       "      <td>...</td>\n",
       "      <td>NaN</td>\n",
       "      <td>NaN</td>\n",
       "      <td>NaN</td>\n",
       "      <td>NaN</td>\n",
       "      <td>NaN</td>\n",
       "      <td>NaN</td>\n",
       "      <td>NaN</td>\n",
       "      <td>NaN</td>\n",
       "      <td>NaN</td>\n",
       "      <td>NaN</td>\n",
       "    </tr>\n",
       "    <tr>\n",
       "      <th>7</th>\n",
       "      <td>165.0</td>\n",
       "      <td>2012_01_ATL_KC</td>\n",
       "      <td>2012090908</td>\n",
       "      <td>KC</td>\n",
       "      <td>ATL</td>\n",
       "      <td>REG</td>\n",
       "      <td>1</td>\n",
       "      <td>ATL</td>\n",
       "      <td>away</td>\n",
       "      <td>KC</td>\n",
       "      <td>...</td>\n",
       "      <td>NaN</td>\n",
       "      <td>NaN</td>\n",
       "      <td>NaN</td>\n",
       "      <td>NaN</td>\n",
       "      <td>NaN</td>\n",
       "      <td>NaN</td>\n",
       "      <td>NaN</td>\n",
       "      <td>NaN</td>\n",
       "      <td>NaN</td>\n",
       "      <td>NaN</td>\n",
       "    </tr>\n",
       "    <tr>\n",
       "      <th>11</th>\n",
       "      <td>256.0</td>\n",
       "      <td>2012_01_ATL_KC</td>\n",
       "      <td>2012090908</td>\n",
       "      <td>KC</td>\n",
       "      <td>ATL</td>\n",
       "      <td>REG</td>\n",
       "      <td>1</td>\n",
       "      <td>ATL</td>\n",
       "      <td>away</td>\n",
       "      <td>KC</td>\n",
       "      <td>...</td>\n",
       "      <td>NaN</td>\n",
       "      <td>NaN</td>\n",
       "      <td>NaN</td>\n",
       "      <td>NaN</td>\n",
       "      <td>NaN</td>\n",
       "      <td>NaN</td>\n",
       "      <td>NaN</td>\n",
       "      <td>NaN</td>\n",
       "      <td>NaN</td>\n",
       "      <td>NaN</td>\n",
       "    </tr>\n",
       "    <tr>\n",
       "      <th>16</th>\n",
       "      <td>359.0</td>\n",
       "      <td>2012_01_ATL_KC</td>\n",
       "      <td>2012090908</td>\n",
       "      <td>KC</td>\n",
       "      <td>ATL</td>\n",
       "      <td>REG</td>\n",
       "      <td>1</td>\n",
       "      <td>KC</td>\n",
       "      <td>home</td>\n",
       "      <td>ATL</td>\n",
       "      <td>...</td>\n",
       "      <td>NaN</td>\n",
       "      <td>NaN</td>\n",
       "      <td>NaN</td>\n",
       "      <td>NaN</td>\n",
       "      <td>NaN</td>\n",
       "      <td>NaN</td>\n",
       "      <td>NaN</td>\n",
       "      <td>NaN</td>\n",
       "      <td>NaN</td>\n",
       "      <td>NaN</td>\n",
       "    </tr>\n",
       "  </tbody>\n",
       "</table>\n",
       "<p>5 rows × 384 columns</p>\n",
       "</div>"
      ],
      "text/plain": [
       "    play_id         game_id old_game_id home_team away_team season_type  week  \\\n",
       "2      53.0  2012_01_ATL_KC  2012090908        KC       ATL         REG     1   \n",
       "3      74.0  2012_01_ATL_KC  2012090908        KC       ATL         REG     1   \n",
       "7     165.0  2012_01_ATL_KC  2012090908        KC       ATL         REG     1   \n",
       "11    256.0  2012_01_ATL_KC  2012090908        KC       ATL         REG     1   \n",
       "16    359.0  2012_01_ATL_KC  2012090908        KC       ATL         REG     1   \n",
       "\n",
       "   posteam posteam_type defteam  ... offense_formation  offense_personnel  \\\n",
       "2      ATL         away      KC  ...               NaN                NaN   \n",
       "3      ATL         away      KC  ...               NaN                NaN   \n",
       "7      ATL         away      KC  ...               NaN                NaN   \n",
       "11     ATL         away      KC  ...               NaN                NaN   \n",
       "16      KC         home     ATL  ...               NaN                NaN   \n",
       "\n",
       "   defenders_in_box  defense_personnel  number_of_pass_rushers  \\\n",
       "2               NaN                NaN                     NaN   \n",
       "3               NaN                NaN                     NaN   \n",
       "7               NaN                NaN                     NaN   \n",
       "11              NaN                NaN                     NaN   \n",
       "16              NaN                NaN                     NaN   \n",
       "\n",
       "    players_on_play offense_players  defense_players  n_offense  n_defense  \n",
       "2               NaN             NaN              NaN        NaN        NaN  \n",
       "3               NaN             NaN              NaN        NaN        NaN  \n",
       "7               NaN             NaN              NaN        NaN        NaN  \n",
       "11              NaN             NaN              NaN        NaN        NaN  \n",
       "16              NaN             NaN              NaN        NaN        NaN  \n",
       "\n",
       "[5 rows x 384 columns]"
      ]
     },
     "execution_count": 13,
     "metadata": {},
     "output_type": "execute_result"
    }
   ],
   "source": [
    "df_runs.head()"
   ]
  },
  {
   "cell_type": "code",
   "execution_count": 35,
   "id": "88351857",
   "metadata": {},
   "outputs": [],
   "source": [
    "for col in list(df_runs.columns):\n",
    "    if \"bro\" in col:\n",
    "        print(col)"
   ]
  },
  {
   "cell_type": "markdown",
   "id": "cd3f5883",
   "metadata": {},
   "source": [
    "# Creat DF for Rushing Stats by Season"
   ]
  },
  {
   "cell_type": "code",
   "execution_count": 40,
   "id": "1db31cd1",
   "metadata": {},
   "outputs": [],
   "source": [
    "df_rushing_yards_by_season = df_runs \\\n",
    "    .groupby([\"rusher_id\", \"rusher\", \"season\"]) \\\n",
    "    .agg({\n",
    "        \"rushing_yards\": [\"sum\", \"mean\"],\n",
    "        \"rush_attempt\": [\"sum\"],\n",
    "        \"fumble\": [\"sum\"],\n",
    "        \"rush_touchdown\": [\"sum\"],\n",
    "        \"tackled_for_loss\": [\"sum\"],\n",
    "        \"epa\": [\"sum\", \"mean\"],\n",
    "        \"success\": [\"sum\"]\n",
    "    })"
   ]
  },
  {
   "cell_type": "code",
   "execution_count": 41,
   "id": "7a43cdb7",
   "metadata": {},
   "outputs": [
    {
     "data": {
      "text/html": [
       "<div>\n",
       "<style scoped>\n",
       "    .dataframe tbody tr th:only-of-type {\n",
       "        vertical-align: middle;\n",
       "    }\n",
       "\n",
       "    .dataframe tbody tr th {\n",
       "        vertical-align: top;\n",
       "    }\n",
       "\n",
       "    .dataframe thead tr th {\n",
       "        text-align: left;\n",
       "    }\n",
       "\n",
       "    .dataframe thead tr:last-of-type th {\n",
       "        text-align: right;\n",
       "    }\n",
       "</style>\n",
       "<table border=\"1\" class=\"dataframe\">\n",
       "  <thead>\n",
       "    <tr>\n",
       "      <th></th>\n",
       "      <th></th>\n",
       "      <th></th>\n",
       "      <th colspan=\"2\" halign=\"left\">rushing_yards</th>\n",
       "      <th>rush_attempt</th>\n",
       "      <th>fumble</th>\n",
       "      <th>rush_touchdown</th>\n",
       "      <th>tackled_for_loss</th>\n",
       "      <th colspan=\"2\" halign=\"left\">epa</th>\n",
       "      <th>success</th>\n",
       "    </tr>\n",
       "    <tr>\n",
       "      <th></th>\n",
       "      <th></th>\n",
       "      <th></th>\n",
       "      <th>sum</th>\n",
       "      <th>mean</th>\n",
       "      <th>sum</th>\n",
       "      <th>sum</th>\n",
       "      <th>sum</th>\n",
       "      <th>sum</th>\n",
       "      <th>sum</th>\n",
       "      <th>mean</th>\n",
       "      <th>sum</th>\n",
       "    </tr>\n",
       "    <tr>\n",
       "      <th>rusher_id</th>\n",
       "      <th>rusher</th>\n",
       "      <th>season</th>\n",
       "      <th></th>\n",
       "      <th></th>\n",
       "      <th></th>\n",
       "      <th></th>\n",
       "      <th></th>\n",
       "      <th></th>\n",
       "      <th></th>\n",
       "      <th></th>\n",
       "      <th></th>\n",
       "    </tr>\n",
       "  </thead>\n",
       "  <tbody>\n",
       "    <tr>\n",
       "      <th rowspan=\"3\" valign=\"top\">00-0007091</th>\n",
       "      <th rowspan=\"3\" valign=\"top\">M.Hasselbeck</th>\n",
       "      <th>2012</th>\n",
       "      <td>0.0</td>\n",
       "      <td>0.0</td>\n",
       "      <td>1.0</td>\n",
       "      <td>1.0</td>\n",
       "      <td>0.0</td>\n",
       "      <td>0.0</td>\n",
       "      <td>-1.360733</td>\n",
       "      <td>-1.360733</td>\n",
       "      <td>0.0</td>\n",
       "    </tr>\n",
       "    <tr>\n",
       "      <th>2014</th>\n",
       "      <td>-5.0</td>\n",
       "      <td>-5.0</td>\n",
       "      <td>1.0</td>\n",
       "      <td>0.0</td>\n",
       "      <td>0.0</td>\n",
       "      <td>1.0</td>\n",
       "      <td>-1.280506</td>\n",
       "      <td>-1.280506</td>\n",
       "      <td>0.0</td>\n",
       "    </tr>\n",
       "    <tr>\n",
       "      <th>2015</th>\n",
       "      <td>4.0</td>\n",
       "      <td>4.0</td>\n",
       "      <td>1.0</td>\n",
       "      <td>0.0</td>\n",
       "      <td>0.0</td>\n",
       "      <td>0.0</td>\n",
       "      <td>-0.035615</td>\n",
       "      <td>-0.035615</td>\n",
       "      <td>0.0</td>\n",
       "    </tr>\n",
       "    <tr>\n",
       "      <th rowspan=\"2\" valign=\"top\">00-0010346</th>\n",
       "      <th rowspan=\"2\" valign=\"top\">P.Manning</th>\n",
       "      <th>2012</th>\n",
       "      <td>-2.0</td>\n",
       "      <td>-1.0</td>\n",
       "      <td>2.0</td>\n",
       "      <td>0.0</td>\n",
       "      <td>0.0</td>\n",
       "      <td>1.0</td>\n",
       "      <td>-0.817786</td>\n",
       "      <td>-0.408893</td>\n",
       "      <td>0.0</td>\n",
       "    </tr>\n",
       "    <tr>\n",
       "      <th>2013</th>\n",
       "      <td>-9.0</td>\n",
       "      <td>-0.9</td>\n",
       "      <td>10.0</td>\n",
       "      <td>5.0</td>\n",
       "      <td>1.0</td>\n",
       "      <td>2.0</td>\n",
       "      <td>-18.549723</td>\n",
       "      <td>-1.854972</td>\n",
       "      <td>1.0</td>\n",
       "    </tr>\n",
       "  </tbody>\n",
       "</table>\n",
       "</div>"
      ],
      "text/plain": [
       "                               rushing_yards      rush_attempt fumble  \\\n",
       "                                         sum mean          sum    sum   \n",
       "rusher_id  rusher       season                                          \n",
       "00-0007091 M.Hasselbeck 2012             0.0  0.0          1.0    1.0   \n",
       "                        2014            -5.0 -5.0          1.0    0.0   \n",
       "                        2015             4.0  4.0          1.0    0.0   \n",
       "00-0010346 P.Manning    2012            -2.0 -1.0          2.0    0.0   \n",
       "                        2013            -9.0 -0.9         10.0    5.0   \n",
       "\n",
       "                               rush_touchdown tackled_for_loss        epa  \\\n",
       "                                          sum              sum        sum   \n",
       "rusher_id  rusher       season                                              \n",
       "00-0007091 M.Hasselbeck 2012              0.0              0.0  -1.360733   \n",
       "                        2014              0.0              1.0  -1.280506   \n",
       "                        2015              0.0              0.0  -0.035615   \n",
       "00-0010346 P.Manning    2012              0.0              1.0  -0.817786   \n",
       "                        2013              1.0              2.0 -18.549723   \n",
       "\n",
       "                                         success  \n",
       "                                    mean     sum  \n",
       "rusher_id  rusher       season                    \n",
       "00-0007091 M.Hasselbeck 2012   -1.360733     0.0  \n",
       "                        2014   -1.280506     0.0  \n",
       "                        2015   -0.035615     0.0  \n",
       "00-0010346 P.Manning    2012   -0.408893     0.0  \n",
       "                        2013   -1.854972     1.0  "
      ]
     },
     "execution_count": 41,
     "metadata": {},
     "output_type": "execute_result"
    }
   ],
   "source": [
    "df_rushing_yards_by_season.head()"
   ]
  },
  {
   "cell_type": "code",
   "execution_count": 43,
   "id": "e1be7497",
   "metadata": {},
   "outputs": [],
   "source": [
    "df_rushing_yards_by_season.columns = list(map(\"_\".join, df_rushing_yards_by_season.columns))\n",
    "df_rushing_yards_by_season.reset_index(inplace=True)"
   ]
  },
  {
   "cell_type": "code",
   "execution_count": 61,
   "id": "d80f8dc0",
   "metadata": {},
   "outputs": [],
   "source": [
    "df_rushing_yards_by_season_cleaned = df_rushing_yards_by_season.dropna()"
   ]
  },
  {
   "cell_type": "code",
   "execution_count": 63,
   "id": "880490d9",
   "metadata": {},
   "outputs": [
    {
     "data": {
      "text/html": [
       "<div>\n",
       "<style scoped>\n",
       "    .dataframe tbody tr th:only-of-type {\n",
       "        vertical-align: middle;\n",
       "    }\n",
       "\n",
       "    .dataframe tbody tr th {\n",
       "        vertical-align: top;\n",
       "    }\n",
       "\n",
       "    .dataframe thead th {\n",
       "        text-align: right;\n",
       "    }\n",
       "</style>\n",
       "<table border=\"1\" class=\"dataframe\">\n",
       "  <thead>\n",
       "    <tr style=\"text-align: right;\">\n",
       "      <th></th>\n",
       "      <th>rusher_id</th>\n",
       "      <th>rusher</th>\n",
       "      <th>season</th>\n",
       "      <th>rushing_yards_sum</th>\n",
       "      <th>rushing_yards_mean</th>\n",
       "      <th>rush_attempt_sum</th>\n",
       "      <th>fumble_sum</th>\n",
       "      <th>rush_touchdown_sum</th>\n",
       "      <th>tackled_for_loss_sum</th>\n",
       "      <th>epa_sum</th>\n",
       "      <th>epa_mean</th>\n",
       "      <th>success_sum</th>\n",
       "      <th>games</th>\n",
       "      <th>fantasy_points</th>\n",
       "      <th>age</th>\n",
       "    </tr>\n",
       "  </thead>\n",
       "  <tbody>\n",
       "    <tr>\n",
       "      <th>0</th>\n",
       "      <td>00-0007091</td>\n",
       "      <td>M.Hasselbeck</td>\n",
       "      <td>2012</td>\n",
       "      <td>0.0</td>\n",
       "      <td>0.0</td>\n",
       "      <td>1.0</td>\n",
       "      <td>1.0</td>\n",
       "      <td>0.0</td>\n",
       "      <td>0.0</td>\n",
       "      <td>-1.360733</td>\n",
       "      <td>-1.360733</td>\n",
       "      <td>0.0</td>\n",
       "      <td>8.0</td>\n",
       "      <td>76.48</td>\n",
       "      <td>36.0</td>\n",
       "    </tr>\n",
       "    <tr>\n",
       "      <th>1</th>\n",
       "      <td>00-0007091</td>\n",
       "      <td>M.Hasselbeck</td>\n",
       "      <td>2014</td>\n",
       "      <td>-5.0</td>\n",
       "      <td>-5.0</td>\n",
       "      <td>1.0</td>\n",
       "      <td>0.0</td>\n",
       "      <td>0.0</td>\n",
       "      <td>1.0</td>\n",
       "      <td>-1.280506</td>\n",
       "      <td>-1.280506</td>\n",
       "      <td>0.0</td>\n",
       "      <td>4.0</td>\n",
       "      <td>16.94</td>\n",
       "      <td>38.0</td>\n",
       "    </tr>\n",
       "    <tr>\n",
       "      <th>2</th>\n",
       "      <td>00-0007091</td>\n",
       "      <td>M.Hasselbeck</td>\n",
       "      <td>2015</td>\n",
       "      <td>4.0</td>\n",
       "      <td>4.0</td>\n",
       "      <td>1.0</td>\n",
       "      <td>0.0</td>\n",
       "      <td>0.0</td>\n",
       "      <td>0.0</td>\n",
       "      <td>-0.035615</td>\n",
       "      <td>-0.035615</td>\n",
       "      <td>0.0</td>\n",
       "      <td>8.0</td>\n",
       "      <td>91.10</td>\n",
       "      <td>39.0</td>\n",
       "    </tr>\n",
       "    <tr>\n",
       "      <th>3</th>\n",
       "      <td>00-0010346</td>\n",
       "      <td>P.Manning</td>\n",
       "      <td>2012</td>\n",
       "      <td>-2.0</td>\n",
       "      <td>-1.0</td>\n",
       "      <td>2.0</td>\n",
       "      <td>0.0</td>\n",
       "      <td>0.0</td>\n",
       "      <td>1.0</td>\n",
       "      <td>-0.817786</td>\n",
       "      <td>-0.408893</td>\n",
       "      <td>0.0</td>\n",
       "      <td>16.0</td>\n",
       "      <td>310.96</td>\n",
       "      <td>36.0</td>\n",
       "    </tr>\n",
       "    <tr>\n",
       "      <th>4</th>\n",
       "      <td>00-0010346</td>\n",
       "      <td>P.Manning</td>\n",
       "      <td>2013</td>\n",
       "      <td>-9.0</td>\n",
       "      <td>-0.9</td>\n",
       "      <td>10.0</td>\n",
       "      <td>5.0</td>\n",
       "      <td>1.0</td>\n",
       "      <td>2.0</td>\n",
       "      <td>-18.549723</td>\n",
       "      <td>-1.854972</td>\n",
       "      <td>1.0</td>\n",
       "      <td>16.0</td>\n",
       "      <td>409.98</td>\n",
       "      <td>37.0</td>\n",
       "    </tr>\n",
       "  </tbody>\n",
       "</table>\n",
       "</div>"
      ],
      "text/plain": [
       "    rusher_id        rusher  season  rushing_yards_sum  rushing_yards_mean  \\\n",
       "0  00-0007091  M.Hasselbeck    2012                0.0                 0.0   \n",
       "1  00-0007091  M.Hasselbeck    2014               -5.0                -5.0   \n",
       "2  00-0007091  M.Hasselbeck    2015                4.0                 4.0   \n",
       "3  00-0010346     P.Manning    2012               -2.0                -1.0   \n",
       "4  00-0010346     P.Manning    2013               -9.0                -0.9   \n",
       "\n",
       "   rush_attempt_sum  fumble_sum  rush_touchdown_sum  tackled_for_loss_sum  \\\n",
       "0               1.0         1.0                 0.0                   0.0   \n",
       "1               1.0         0.0                 0.0                   1.0   \n",
       "2               1.0         0.0                 0.0                   0.0   \n",
       "3               2.0         0.0                 0.0                   1.0   \n",
       "4              10.0         5.0                 1.0                   2.0   \n",
       "\n",
       "     epa_sum  epa_mean  success_sum  games  fantasy_points   age  \n",
       "0  -1.360733 -1.360733          0.0    8.0           76.48  36.0  \n",
       "1  -1.280506 -1.280506          0.0    4.0           16.94  38.0  \n",
       "2  -0.035615 -0.035615          0.0    8.0           91.10  39.0  \n",
       "3  -0.817786 -0.408893          0.0   16.0          310.96  36.0  \n",
       "4 -18.549723 -1.854972          1.0   16.0          409.98  37.0  "
      ]
     },
     "execution_count": 63,
     "metadata": {},
     "output_type": "execute_result"
    }
   ],
   "source": [
    "df_rushing_yards_by_season_cleaned.head()"
   ]
  },
  {
   "cell_type": "code",
   "execution_count": 70,
   "id": "942e0860",
   "metadata": {},
   "outputs": [],
   "source": [
    "for i, row in df_rushing_yards_by_season_cleaned.copy().iterrows():\n",
    "    r_id = row[\"rusher_id\"]\n",
    "    season = row[\"season\"]\n",
    "    \n",
    "    seasonal_row = df_seasonal.query(f\"player_id == '{r_id}' & season == {season} & season_type == 'REG'\")\n",
    "    roster_row = df_roster.query(f\"player_id == '{r_id}' & season == {season}\")\n",
    "    \n",
    "    if seasonal_row.empty:\n",
    "        print(r_id)\n",
    "        print(season)\n",
    "        print(seasonal_row)\n",
    "    \n",
    "    # from seasonal df\n",
    "    df_rushing_yards_by_season_cleaned.at[i, \"games\"] = seasonal_row[\"games\"].iloc[0]\n",
    "    df_rushing_yards_by_season_cleaned.at[i, \"fantasy_points\"] = seasonal_row[\"fantasy_points\"].iloc[0]\n",
    "    \n",
    "    # from roster df\n",
    "    df_rushing_yards_by_season_cleaned.at[i, \"age\"] = roster_row[\"age\"].iloc[0]\n",
    "    df_rushing_yards_by_season_cleaned.at[i, \"position\"] = roster_row[\"position\"].iloc[0]"
   ]
  },
  {
   "cell_type": "code",
   "execution_count": 71,
   "id": "8143f4bd",
   "metadata": {},
   "outputs": [
    {
     "data": {
      "text/html": [
       "<div>\n",
       "<style scoped>\n",
       "    .dataframe tbody tr th:only-of-type {\n",
       "        vertical-align: middle;\n",
       "    }\n",
       "\n",
       "    .dataframe tbody tr th {\n",
       "        vertical-align: top;\n",
       "    }\n",
       "\n",
       "    .dataframe thead th {\n",
       "        text-align: right;\n",
       "    }\n",
       "</style>\n",
       "<table border=\"1\" class=\"dataframe\">\n",
       "  <thead>\n",
       "    <tr style=\"text-align: right;\">\n",
       "      <th></th>\n",
       "      <th>rusher_id</th>\n",
       "      <th>rusher</th>\n",
       "      <th>season</th>\n",
       "      <th>rushing_yards_sum</th>\n",
       "      <th>rushing_yards_mean</th>\n",
       "      <th>rush_attempt_sum</th>\n",
       "      <th>fumble_sum</th>\n",
       "      <th>rush_touchdown_sum</th>\n",
       "      <th>tackled_for_loss_sum</th>\n",
       "      <th>epa_sum</th>\n",
       "      <th>epa_mean</th>\n",
       "      <th>success_sum</th>\n",
       "      <th>games</th>\n",
       "      <th>fantasy_points</th>\n",
       "      <th>age</th>\n",
       "      <th>position</th>\n",
       "    </tr>\n",
       "  </thead>\n",
       "  <tbody>\n",
       "    <tr>\n",
       "      <th>0</th>\n",
       "      <td>00-0007091</td>\n",
       "      <td>M.Hasselbeck</td>\n",
       "      <td>2012</td>\n",
       "      <td>0.0</td>\n",
       "      <td>0.0</td>\n",
       "      <td>1.0</td>\n",
       "      <td>1.0</td>\n",
       "      <td>0.0</td>\n",
       "      <td>0.0</td>\n",
       "      <td>-1.360733</td>\n",
       "      <td>-1.360733</td>\n",
       "      <td>0.0</td>\n",
       "      <td>8.0</td>\n",
       "      <td>76.48</td>\n",
       "      <td>36.0</td>\n",
       "      <td>QB</td>\n",
       "    </tr>\n",
       "    <tr>\n",
       "      <th>1</th>\n",
       "      <td>00-0007091</td>\n",
       "      <td>M.Hasselbeck</td>\n",
       "      <td>2014</td>\n",
       "      <td>-5.0</td>\n",
       "      <td>-5.0</td>\n",
       "      <td>1.0</td>\n",
       "      <td>0.0</td>\n",
       "      <td>0.0</td>\n",
       "      <td>1.0</td>\n",
       "      <td>-1.280506</td>\n",
       "      <td>-1.280506</td>\n",
       "      <td>0.0</td>\n",
       "      <td>4.0</td>\n",
       "      <td>16.94</td>\n",
       "      <td>38.0</td>\n",
       "      <td>QB</td>\n",
       "    </tr>\n",
       "    <tr>\n",
       "      <th>2</th>\n",
       "      <td>00-0007091</td>\n",
       "      <td>M.Hasselbeck</td>\n",
       "      <td>2015</td>\n",
       "      <td>4.0</td>\n",
       "      <td>4.0</td>\n",
       "      <td>1.0</td>\n",
       "      <td>0.0</td>\n",
       "      <td>0.0</td>\n",
       "      <td>0.0</td>\n",
       "      <td>-0.035615</td>\n",
       "      <td>-0.035615</td>\n",
       "      <td>0.0</td>\n",
       "      <td>8.0</td>\n",
       "      <td>91.10</td>\n",
       "      <td>39.0</td>\n",
       "      <td>QB</td>\n",
       "    </tr>\n",
       "    <tr>\n",
       "      <th>3</th>\n",
       "      <td>00-0010346</td>\n",
       "      <td>P.Manning</td>\n",
       "      <td>2012</td>\n",
       "      <td>-2.0</td>\n",
       "      <td>-1.0</td>\n",
       "      <td>2.0</td>\n",
       "      <td>0.0</td>\n",
       "      <td>0.0</td>\n",
       "      <td>1.0</td>\n",
       "      <td>-0.817786</td>\n",
       "      <td>-0.408893</td>\n",
       "      <td>0.0</td>\n",
       "      <td>16.0</td>\n",
       "      <td>310.96</td>\n",
       "      <td>36.0</td>\n",
       "      <td>QB</td>\n",
       "    </tr>\n",
       "    <tr>\n",
       "      <th>4</th>\n",
       "      <td>00-0010346</td>\n",
       "      <td>P.Manning</td>\n",
       "      <td>2013</td>\n",
       "      <td>-9.0</td>\n",
       "      <td>-0.9</td>\n",
       "      <td>10.0</td>\n",
       "      <td>5.0</td>\n",
       "      <td>1.0</td>\n",
       "      <td>2.0</td>\n",
       "      <td>-18.549723</td>\n",
       "      <td>-1.854972</td>\n",
       "      <td>1.0</td>\n",
       "      <td>16.0</td>\n",
       "      <td>409.98</td>\n",
       "      <td>37.0</td>\n",
       "      <td>QB</td>\n",
       "    </tr>\n",
       "  </tbody>\n",
       "</table>\n",
       "</div>"
      ],
      "text/plain": [
       "    rusher_id        rusher  season  rushing_yards_sum  rushing_yards_mean  \\\n",
       "0  00-0007091  M.Hasselbeck    2012                0.0                 0.0   \n",
       "1  00-0007091  M.Hasselbeck    2014               -5.0                -5.0   \n",
       "2  00-0007091  M.Hasselbeck    2015                4.0                 4.0   \n",
       "3  00-0010346     P.Manning    2012               -2.0                -1.0   \n",
       "4  00-0010346     P.Manning    2013               -9.0                -0.9   \n",
       "\n",
       "   rush_attempt_sum  fumble_sum  rush_touchdown_sum  tackled_for_loss_sum  \\\n",
       "0               1.0         1.0                 0.0                   0.0   \n",
       "1               1.0         0.0                 0.0                   1.0   \n",
       "2               1.0         0.0                 0.0                   0.0   \n",
       "3               2.0         0.0                 0.0                   1.0   \n",
       "4              10.0         5.0                 1.0                   2.0   \n",
       "\n",
       "     epa_sum  epa_mean  success_sum  games  fantasy_points   age position  \n",
       "0  -1.360733 -1.360733          0.0    8.0           76.48  36.0       QB  \n",
       "1  -1.280506 -1.280506          0.0    4.0           16.94  38.0       QB  \n",
       "2  -0.035615 -0.035615          0.0    8.0           91.10  39.0       QB  \n",
       "3  -0.817786 -0.408893          0.0   16.0          310.96  36.0       QB  \n",
       "4 -18.549723 -1.854972          1.0   16.0          409.98  37.0       QB  "
      ]
     },
     "execution_count": 71,
     "metadata": {},
     "output_type": "execute_result"
    }
   ],
   "source": [
    "df_rushing_yards_by_season_cleaned.head()"
   ]
  },
  {
   "cell_type": "markdown",
   "id": "32c06f78",
   "metadata": {},
   "source": [
    "# Create Lag Version of Data"
   ]
  },
  {
   "cell_type": "code",
   "execution_count": 72,
   "id": "32c25e55",
   "metadata": {},
   "outputs": [],
   "source": [
    "df_now = df_rushing_yards_by_season.copy()\n",
    "df_last = df_rushing_yards_by_season.copy()"
   ]
  },
  {
   "cell_type": "code",
   "execution_count": 75,
   "id": "7f319b9a",
   "metadata": {},
   "outputs": [],
   "source": [
    "rename_dict = {}\n",
    "for col in list(df_last.columns[3:]):\n",
    "    rename_dict[col] = f\"{col}_last\""
   ]
  },
  {
   "cell_type": "code",
   "execution_count": 76,
   "id": "6ce7a8c8",
   "metadata": {},
   "outputs": [],
   "source": [
    "df_last.rename(columns=rename_dict, inplace=True)"
   ]
  },
  {
   "cell_type": "code",
   "execution_count": 77,
   "id": "8a325a33",
   "metadata": {},
   "outputs": [],
   "source": [
    "df_last[\"season\"] += 1"
   ]
  },
  {
   "cell_type": "code",
   "execution_count": 78,
   "id": "cfd357ad",
   "metadata": {},
   "outputs": [],
   "source": [
    "df_lag = df_now.merge(df_last, how='inner', on=['rusher_id', 'rusher', 'season'])"
   ]
  },
  {
   "cell_type": "code",
   "execution_count": 79,
   "id": "ee58e6e5",
   "metadata": {},
   "outputs": [
    {
     "data": {
      "text/html": [
       "<div>\n",
       "<style scoped>\n",
       "    .dataframe tbody tr th:only-of-type {\n",
       "        vertical-align: middle;\n",
       "    }\n",
       "\n",
       "    .dataframe tbody tr th {\n",
       "        vertical-align: top;\n",
       "    }\n",
       "\n",
       "    .dataframe thead th {\n",
       "        text-align: right;\n",
       "    }\n",
       "</style>\n",
       "<table border=\"1\" class=\"dataframe\">\n",
       "  <thead>\n",
       "    <tr style=\"text-align: right;\">\n",
       "      <th></th>\n",
       "      <th>rusher_id</th>\n",
       "      <th>rusher</th>\n",
       "      <th>season</th>\n",
       "      <th>rushing_yards_sum</th>\n",
       "      <th>rushing_yards_mean</th>\n",
       "      <th>rush_attempt_sum</th>\n",
       "      <th>fumble_sum</th>\n",
       "      <th>rush_touchdown_sum</th>\n",
       "      <th>tackled_for_loss_sum</th>\n",
       "      <th>epa_sum</th>\n",
       "      <th>...</th>\n",
       "      <th>rush_attempt_sum_last</th>\n",
       "      <th>fumble_sum_last</th>\n",
       "      <th>rush_touchdown_sum_last</th>\n",
       "      <th>tackled_for_loss_sum_last</th>\n",
       "      <th>epa_sum_last</th>\n",
       "      <th>epa_mean_last</th>\n",
       "      <th>success_sum_last</th>\n",
       "      <th>games_last</th>\n",
       "      <th>fantasy_points_last</th>\n",
       "      <th>age_last</th>\n",
       "    </tr>\n",
       "  </thead>\n",
       "  <tbody>\n",
       "    <tr>\n",
       "      <th>0</th>\n",
       "      <td>00-0007091</td>\n",
       "      <td>M.Hasselbeck</td>\n",
       "      <td>2015</td>\n",
       "      <td>4.0</td>\n",
       "      <td>4.000000</td>\n",
       "      <td>1.0</td>\n",
       "      <td>0.0</td>\n",
       "      <td>0.0</td>\n",
       "      <td>0.0</td>\n",
       "      <td>-0.035615</td>\n",
       "      <td>...</td>\n",
       "      <td>1.0</td>\n",
       "      <td>0.0</td>\n",
       "      <td>0.0</td>\n",
       "      <td>1.0</td>\n",
       "      <td>-1.280506</td>\n",
       "      <td>-1.280506</td>\n",
       "      <td>0.0</td>\n",
       "      <td>4.0</td>\n",
       "      <td>16.94</td>\n",
       "      <td>38.0</td>\n",
       "    </tr>\n",
       "    <tr>\n",
       "      <th>1</th>\n",
       "      <td>00-0010346</td>\n",
       "      <td>P.Manning</td>\n",
       "      <td>2013</td>\n",
       "      <td>-9.0</td>\n",
       "      <td>-0.900000</td>\n",
       "      <td>10.0</td>\n",
       "      <td>5.0</td>\n",
       "      <td>1.0</td>\n",
       "      <td>2.0</td>\n",
       "      <td>-18.549723</td>\n",
       "      <td>...</td>\n",
       "      <td>2.0</td>\n",
       "      <td>0.0</td>\n",
       "      <td>0.0</td>\n",
       "      <td>1.0</td>\n",
       "      <td>-0.817786</td>\n",
       "      <td>-0.408893</td>\n",
       "      <td>0.0</td>\n",
       "      <td>16.0</td>\n",
       "      <td>310.96</td>\n",
       "      <td>36.0</td>\n",
       "    </tr>\n",
       "    <tr>\n",
       "      <th>2</th>\n",
       "      <td>00-0010346</td>\n",
       "      <td>P.Manning</td>\n",
       "      <td>2014</td>\n",
       "      <td>-13.0</td>\n",
       "      <td>-1.857143</td>\n",
       "      <td>7.0</td>\n",
       "      <td>3.0</td>\n",
       "      <td>0.0</td>\n",
       "      <td>2.0</td>\n",
       "      <td>-12.568753</td>\n",
       "      <td>...</td>\n",
       "      <td>10.0</td>\n",
       "      <td>5.0</td>\n",
       "      <td>1.0</td>\n",
       "      <td>2.0</td>\n",
       "      <td>-18.549723</td>\n",
       "      <td>-1.854972</td>\n",
       "      <td>1.0</td>\n",
       "      <td>16.0</td>\n",
       "      <td>409.98</td>\n",
       "      <td>37.0</td>\n",
       "    </tr>\n",
       "    <tr>\n",
       "      <th>3</th>\n",
       "      <td>00-0019596</td>\n",
       "      <td>T.Brady</td>\n",
       "      <td>2013</td>\n",
       "      <td>13.0</td>\n",
       "      <td>1.083333</td>\n",
       "      <td>12.0</td>\n",
       "      <td>3.0</td>\n",
       "      <td>0.0</td>\n",
       "      <td>2.0</td>\n",
       "      <td>-9.026926</td>\n",
       "      <td>...</td>\n",
       "      <td>13.0</td>\n",
       "      <td>1.0</td>\n",
       "      <td>3.0</td>\n",
       "      <td>2.0</td>\n",
       "      <td>4.275997</td>\n",
       "      <td>0.328923</td>\n",
       "      <td>9.0</td>\n",
       "      <td>16.0</td>\n",
       "      <td>344.28</td>\n",
       "      <td>35.0</td>\n",
       "    </tr>\n",
       "    <tr>\n",
       "      <th>4</th>\n",
       "      <td>00-0019596</td>\n",
       "      <td>T.Brady</td>\n",
       "      <td>2014</td>\n",
       "      <td>20.0</td>\n",
       "      <td>1.428571</td>\n",
       "      <td>14.0</td>\n",
       "      <td>1.0</td>\n",
       "      <td>0.0</td>\n",
       "      <td>0.0</td>\n",
       "      <td>-2.157746</td>\n",
       "      <td>...</td>\n",
       "      <td>12.0</td>\n",
       "      <td>3.0</td>\n",
       "      <td>0.0</td>\n",
       "      <td>2.0</td>\n",
       "      <td>-9.026926</td>\n",
       "      <td>-0.752244</td>\n",
       "      <td>5.0</td>\n",
       "      <td>16.0</td>\n",
       "      <td>251.52</td>\n",
       "      <td>36.0</td>\n",
       "    </tr>\n",
       "  </tbody>\n",
       "</table>\n",
       "<p>5 rows × 27 columns</p>\n",
       "</div>"
      ],
      "text/plain": [
       "    rusher_id        rusher  season  rushing_yards_sum  rushing_yards_mean  \\\n",
       "0  00-0007091  M.Hasselbeck    2015                4.0            4.000000   \n",
       "1  00-0010346     P.Manning    2013               -9.0           -0.900000   \n",
       "2  00-0010346     P.Manning    2014              -13.0           -1.857143   \n",
       "3  00-0019596       T.Brady    2013               13.0            1.083333   \n",
       "4  00-0019596       T.Brady    2014               20.0            1.428571   \n",
       "\n",
       "   rush_attempt_sum  fumble_sum  rush_touchdown_sum  tackled_for_loss_sum  \\\n",
       "0               1.0         0.0                 0.0                   0.0   \n",
       "1              10.0         5.0                 1.0                   2.0   \n",
       "2               7.0         3.0                 0.0                   2.0   \n",
       "3              12.0         3.0                 0.0                   2.0   \n",
       "4              14.0         1.0                 0.0                   0.0   \n",
       "\n",
       "     epa_sum  ...  rush_attempt_sum_last  fumble_sum_last  \\\n",
       "0  -0.035615  ...                    1.0              0.0   \n",
       "1 -18.549723  ...                    2.0              0.0   \n",
       "2 -12.568753  ...                   10.0              5.0   \n",
       "3  -9.026926  ...                   13.0              1.0   \n",
       "4  -2.157746  ...                   12.0              3.0   \n",
       "\n",
       "   rush_touchdown_sum_last  tackled_for_loss_sum_last  epa_sum_last  \\\n",
       "0                      0.0                        1.0     -1.280506   \n",
       "1                      0.0                        1.0     -0.817786   \n",
       "2                      1.0                        2.0    -18.549723   \n",
       "3                      3.0                        2.0      4.275997   \n",
       "4                      0.0                        2.0     -9.026926   \n",
       "\n",
       "   epa_mean_last  success_sum_last  games_last  fantasy_points_last  age_last  \n",
       "0      -1.280506               0.0         4.0                16.94      38.0  \n",
       "1      -0.408893               0.0        16.0               310.96      36.0  \n",
       "2      -1.854972               1.0        16.0               409.98      37.0  \n",
       "3       0.328923               9.0        16.0               344.28      35.0  \n",
       "4      -0.752244               5.0        16.0               251.52      36.0  \n",
       "\n",
       "[5 rows x 27 columns]"
      ]
     },
     "execution_count": 79,
     "metadata": {},
     "output_type": "execute_result"
    }
   ],
   "source": [
    "df_lag.head()"
   ]
  },
  {
   "cell_type": "markdown",
   "id": "ab99c225",
   "metadata": {},
   "source": [
    "# Data Manipulations"
   ]
  },
  {
   "cell_type": "markdown",
   "id": "1777786b",
   "metadata": {},
   "source": [
    "Keep a copy of our unfiltered data so it is untouched if we need to reset our exploration."
   ]
  },
  {
   "cell_type": "code",
   "execution_count": 23,
   "id": "d510ac74",
   "metadata": {},
   "outputs": [],
   "source": [
    "df_temp = df_lag_unfiltered.copy()"
   ]
  },
  {
   "cell_type": "code",
   "execution_count": 24,
   "id": "a7cbafd7",
   "metadata": {},
   "outputs": [],
   "source": [
    "filter_query = \"\"\n",
    "if filter_query:\n",
    "    df_temp = df_temp.query(filter_query)"
   ]
  },
  {
   "cell_type": "markdown",
   "id": "20de48ad",
   "metadata": {},
   "source": [
    "## Per Game Version"
   ]
  },
  {
   "cell_type": "code",
   "execution_count": 25,
   "id": "7b4b3488",
   "metadata": {},
   "outputs": [],
   "source": [
    "filter_cols = [\"age\", \"yards_per_pass\", \"age_last\", \"yards_per_pass_last\", \"season\", \n",
    "               \"passer\", \"passer_id\", \"games\", \"games_last\"\n",
    "              ]\n",
    "\n",
    "per_game_cols = []\n",
    "for col in list(df_temp.columns):\n",
    "    if col not in filter_cols:\n",
    "        per_game_cols.append(col)"
   ]
  },
  {
   "cell_type": "code",
   "execution_count": 26,
   "id": "95bdd57c",
   "metadata": {},
   "outputs": [],
   "source": [
    "df_per_game = df_temp[[\"passer_id\", \"passer\", \"season\", \"age\", \"age_last\"]].copy()\n",
    "for col in per_game_cols:\n",
    "    new_col = f\"{col}_per_game\"\n",
    "    if \"last\" in col:\n",
    "        df_per_game[new_col] = df_temp[col] / df_temp[\"games_last\"]\n",
    "    else:\n",
    "        df_per_game[new_col] = df_temp[col] / df_temp[\"games\"]"
   ]
  },
  {
   "cell_type": "code",
   "execution_count": 27,
   "id": "de7d5924",
   "metadata": {},
   "outputs": [
    {
     "data": {
      "text/html": [
       "<div>\n",
       "<style scoped>\n",
       "    .dataframe tbody tr th:only-of-type {\n",
       "        vertical-align: middle;\n",
       "    }\n",
       "\n",
       "    .dataframe tbody tr th {\n",
       "        vertical-align: top;\n",
       "    }\n",
       "\n",
       "    .dataframe thead th {\n",
       "        text-align: right;\n",
       "    }\n",
       "</style>\n",
       "<table border=\"1\" class=\"dataframe\">\n",
       "  <thead>\n",
       "    <tr style=\"text-align: right;\">\n",
       "      <th></th>\n",
       "      <th>passer_id</th>\n",
       "      <th>passer</th>\n",
       "      <th>season</th>\n",
       "      <th>age</th>\n",
       "      <th>age_last</th>\n",
       "      <th>passing_yards_per_game</th>\n",
       "      <th>passing_attempts_per_game</th>\n",
       "      <th>total_epa_per_game</th>\n",
       "      <th>passing_touchdowns_per_game</th>\n",
       "      <th>completions_per_game</th>\n",
       "      <th>fantasy_points_per_game</th>\n",
       "      <th>passing_yards_last_per_game</th>\n",
       "      <th>passing_attempts_last_per_game</th>\n",
       "      <th>total_epa_last_per_game</th>\n",
       "      <th>passing_touchdowns_last_per_game</th>\n",
       "      <th>completions_last_per_game</th>\n",
       "      <th>fantasy_points_last_per_game</th>\n",
       "    </tr>\n",
       "  </thead>\n",
       "  <tbody>\n",
       "    <tr>\n",
       "      <th>0</th>\n",
       "      <td>00-0007091</td>\n",
       "      <td>M.Hasselbeck</td>\n",
       "      <td>2013</td>\n",
       "      <td>37.0</td>\n",
       "      <td>36.0</td>\n",
       "      <td>43.333333</td>\n",
       "      <td>4.0000</td>\n",
       "      <td>1.269991</td>\n",
       "      <td>0.0000</td>\n",
       "      <td>2.333333</td>\n",
       "      <td>1.00000</td>\n",
       "      <td>170.875000</td>\n",
       "      <td>27.625</td>\n",
       "      <td>-0.419874</td>\n",
       "      <td>0.8750</td>\n",
       "      <td>17.250000</td>\n",
       "      <td>9.56000</td>\n",
       "    </tr>\n",
       "    <tr>\n",
       "      <th>1</th>\n",
       "      <td>00-0007091</td>\n",
       "      <td>M.Hasselbeck</td>\n",
       "      <td>2014</td>\n",
       "      <td>38.0</td>\n",
       "      <td>37.0</td>\n",
       "      <td>75.250000</td>\n",
       "      <td>11.0000</td>\n",
       "      <td>1.518184</td>\n",
       "      <td>0.5000</td>\n",
       "      <td>7.500000</td>\n",
       "      <td>4.23500</td>\n",
       "      <td>43.333333</td>\n",
       "      <td>4.000</td>\n",
       "      <td>1.269991</td>\n",
       "      <td>0.0000</td>\n",
       "      <td>2.333333</td>\n",
       "      <td>1.00000</td>\n",
       "    </tr>\n",
       "    <tr>\n",
       "      <th>2</th>\n",
       "      <td>00-0007091</td>\n",
       "      <td>M.Hasselbeck</td>\n",
       "      <td>2015</td>\n",
       "      <td>39.0</td>\n",
       "      <td>38.0</td>\n",
       "      <td>211.250000</td>\n",
       "      <td>32.0000</td>\n",
       "      <td>3.880949</td>\n",
       "      <td>1.1250</td>\n",
       "      <td>19.500000</td>\n",
       "      <td>11.38750</td>\n",
       "      <td>75.250000</td>\n",
       "      <td>11.000</td>\n",
       "      <td>1.518184</td>\n",
       "      <td>0.5000</td>\n",
       "      <td>7.500000</td>\n",
       "      <td>4.23500</td>\n",
       "    </tr>\n",
       "    <tr>\n",
       "      <th>3</th>\n",
       "      <td>00-0010346</td>\n",
       "      <td>P.Manning</td>\n",
       "      <td>2013</td>\n",
       "      <td>37.0</td>\n",
       "      <td>36.0</td>\n",
       "      <td>342.312500</td>\n",
       "      <td>41.1250</td>\n",
       "      <td>18.124193</td>\n",
       "      <td>3.4375</td>\n",
       "      <td>28.125000</td>\n",
       "      <td>25.62375</td>\n",
       "      <td>291.187500</td>\n",
       "      <td>36.250</td>\n",
       "      <td>11.813057</td>\n",
       "      <td>2.3125</td>\n",
       "      <td>25.000000</td>\n",
       "      <td>19.43500</td>\n",
       "    </tr>\n",
       "    <tr>\n",
       "      <th>4</th>\n",
       "      <td>00-0010346</td>\n",
       "      <td>P.Manning</td>\n",
       "      <td>2014</td>\n",
       "      <td>38.0</td>\n",
       "      <td>37.0</td>\n",
       "      <td>295.437500</td>\n",
       "      <td>37.1875</td>\n",
       "      <td>9.229780</td>\n",
       "      <td>2.4375</td>\n",
       "      <td>24.687500</td>\n",
       "      <td>19.54250</td>\n",
       "      <td>342.312500</td>\n",
       "      <td>41.125</td>\n",
       "      <td>18.124193</td>\n",
       "      <td>3.4375</td>\n",
       "      <td>28.125000</td>\n",
       "      <td>25.62375</td>\n",
       "    </tr>\n",
       "  </tbody>\n",
       "</table>\n",
       "</div>"
      ],
      "text/plain": [
       "    passer_id        passer  season   age  age_last  passing_yards_per_game  \\\n",
       "0  00-0007091  M.Hasselbeck    2013  37.0      36.0               43.333333   \n",
       "1  00-0007091  M.Hasselbeck    2014  38.0      37.0               75.250000   \n",
       "2  00-0007091  M.Hasselbeck    2015  39.0      38.0              211.250000   \n",
       "3  00-0010346     P.Manning    2013  37.0      36.0              342.312500   \n",
       "4  00-0010346     P.Manning    2014  38.0      37.0              295.437500   \n",
       "\n",
       "   passing_attempts_per_game  total_epa_per_game  passing_touchdowns_per_game  \\\n",
       "0                     4.0000            1.269991                       0.0000   \n",
       "1                    11.0000            1.518184                       0.5000   \n",
       "2                    32.0000            3.880949                       1.1250   \n",
       "3                    41.1250           18.124193                       3.4375   \n",
       "4                    37.1875            9.229780                       2.4375   \n",
       "\n",
       "   completions_per_game  fantasy_points_per_game  passing_yards_last_per_game  \\\n",
       "0              2.333333                  1.00000                   170.875000   \n",
       "1              7.500000                  4.23500                    43.333333   \n",
       "2             19.500000                 11.38750                    75.250000   \n",
       "3             28.125000                 25.62375                   291.187500   \n",
       "4             24.687500                 19.54250                   342.312500   \n",
       "\n",
       "   passing_attempts_last_per_game  total_epa_last_per_game  \\\n",
       "0                          27.625                -0.419874   \n",
       "1                           4.000                 1.269991   \n",
       "2                          11.000                 1.518184   \n",
       "3                          36.250                11.813057   \n",
       "4                          41.125                18.124193   \n",
       "\n",
       "   passing_touchdowns_last_per_game  completions_last_per_game  \\\n",
       "0                            0.8750                  17.250000   \n",
       "1                            0.0000                   2.333333   \n",
       "2                            0.5000                   7.500000   \n",
       "3                            2.3125                  25.000000   \n",
       "4                            3.4375                  28.125000   \n",
       "\n",
       "   fantasy_points_last_per_game  \n",
       "0                       9.56000  \n",
       "1                       1.00000  \n",
       "2                       4.23500  \n",
       "3                      19.43500  \n",
       "4                      25.62375  "
      ]
     },
     "execution_count": 27,
     "metadata": {},
     "output_type": "execute_result"
    }
   ],
   "source": [
    "df_per_game.head()"
   ]
  },
  {
   "cell_type": "code",
   "execution_count": 28,
   "id": "806d5936",
   "metadata": {},
   "outputs": [],
   "source": [
    "df = df_per_game.copy()"
   ]
  },
  {
   "cell_type": "markdown",
   "id": "d773aa76",
   "metadata": {},
   "source": [
    "# Generate Graphs"
   ]
  },
  {
   "cell_type": "code",
   "execution_count": 29,
   "id": "433681c1",
   "metadata": {},
   "outputs": [
    {
     "data": {
      "text/html": [
       "<div>\n",
       "<style scoped>\n",
       "    .dataframe tbody tr th:only-of-type {\n",
       "        vertical-align: middle;\n",
       "    }\n",
       "\n",
       "    .dataframe tbody tr th {\n",
       "        vertical-align: top;\n",
       "    }\n",
       "\n",
       "    .dataframe thead th {\n",
       "        text-align: right;\n",
       "    }\n",
       "</style>\n",
       "<table border=\"1\" class=\"dataframe\">\n",
       "  <thead>\n",
       "    <tr style=\"text-align: right;\">\n",
       "      <th></th>\n",
       "      <th>passer_id</th>\n",
       "      <th>passer</th>\n",
       "      <th>season</th>\n",
       "      <th>age</th>\n",
       "      <th>age_last</th>\n",
       "      <th>passing_yards_per_game</th>\n",
       "      <th>passing_attempts_per_game</th>\n",
       "      <th>total_epa_per_game</th>\n",
       "      <th>passing_touchdowns_per_game</th>\n",
       "      <th>completions_per_game</th>\n",
       "      <th>fantasy_points_per_game</th>\n",
       "      <th>passing_yards_last_per_game</th>\n",
       "      <th>passing_attempts_last_per_game</th>\n",
       "      <th>total_epa_last_per_game</th>\n",
       "      <th>passing_touchdowns_last_per_game</th>\n",
       "      <th>completions_last_per_game</th>\n",
       "      <th>fantasy_points_last_per_game</th>\n",
       "    </tr>\n",
       "  </thead>\n",
       "  <tbody>\n",
       "    <tr>\n",
       "      <th>0</th>\n",
       "      <td>00-0007091</td>\n",
       "      <td>M.Hasselbeck</td>\n",
       "      <td>2013</td>\n",
       "      <td>37.0</td>\n",
       "      <td>36.0</td>\n",
       "      <td>43.333333</td>\n",
       "      <td>4.0000</td>\n",
       "      <td>1.269991</td>\n",
       "      <td>0.0000</td>\n",
       "      <td>2.333333</td>\n",
       "      <td>1.00000</td>\n",
       "      <td>170.875000</td>\n",
       "      <td>27.625</td>\n",
       "      <td>-0.419874</td>\n",
       "      <td>0.8750</td>\n",
       "      <td>17.250000</td>\n",
       "      <td>9.56000</td>\n",
       "    </tr>\n",
       "    <tr>\n",
       "      <th>1</th>\n",
       "      <td>00-0007091</td>\n",
       "      <td>M.Hasselbeck</td>\n",
       "      <td>2014</td>\n",
       "      <td>38.0</td>\n",
       "      <td>37.0</td>\n",
       "      <td>75.250000</td>\n",
       "      <td>11.0000</td>\n",
       "      <td>1.518184</td>\n",
       "      <td>0.5000</td>\n",
       "      <td>7.500000</td>\n",
       "      <td>4.23500</td>\n",
       "      <td>43.333333</td>\n",
       "      <td>4.000</td>\n",
       "      <td>1.269991</td>\n",
       "      <td>0.0000</td>\n",
       "      <td>2.333333</td>\n",
       "      <td>1.00000</td>\n",
       "    </tr>\n",
       "    <tr>\n",
       "      <th>2</th>\n",
       "      <td>00-0007091</td>\n",
       "      <td>M.Hasselbeck</td>\n",
       "      <td>2015</td>\n",
       "      <td>39.0</td>\n",
       "      <td>38.0</td>\n",
       "      <td>211.250000</td>\n",
       "      <td>32.0000</td>\n",
       "      <td>3.880949</td>\n",
       "      <td>1.1250</td>\n",
       "      <td>19.500000</td>\n",
       "      <td>11.38750</td>\n",
       "      <td>75.250000</td>\n",
       "      <td>11.000</td>\n",
       "      <td>1.518184</td>\n",
       "      <td>0.5000</td>\n",
       "      <td>7.500000</td>\n",
       "      <td>4.23500</td>\n",
       "    </tr>\n",
       "    <tr>\n",
       "      <th>3</th>\n",
       "      <td>00-0010346</td>\n",
       "      <td>P.Manning</td>\n",
       "      <td>2013</td>\n",
       "      <td>37.0</td>\n",
       "      <td>36.0</td>\n",
       "      <td>342.312500</td>\n",
       "      <td>41.1250</td>\n",
       "      <td>18.124193</td>\n",
       "      <td>3.4375</td>\n",
       "      <td>28.125000</td>\n",
       "      <td>25.62375</td>\n",
       "      <td>291.187500</td>\n",
       "      <td>36.250</td>\n",
       "      <td>11.813057</td>\n",
       "      <td>2.3125</td>\n",
       "      <td>25.000000</td>\n",
       "      <td>19.43500</td>\n",
       "    </tr>\n",
       "    <tr>\n",
       "      <th>4</th>\n",
       "      <td>00-0010346</td>\n",
       "      <td>P.Manning</td>\n",
       "      <td>2014</td>\n",
       "      <td>38.0</td>\n",
       "      <td>37.0</td>\n",
       "      <td>295.437500</td>\n",
       "      <td>37.1875</td>\n",
       "      <td>9.229780</td>\n",
       "      <td>2.4375</td>\n",
       "      <td>24.687500</td>\n",
       "      <td>19.54250</td>\n",
       "      <td>342.312500</td>\n",
       "      <td>41.125</td>\n",
       "      <td>18.124193</td>\n",
       "      <td>3.4375</td>\n",
       "      <td>28.125000</td>\n",
       "      <td>25.62375</td>\n",
       "    </tr>\n",
       "  </tbody>\n",
       "</table>\n",
       "</div>"
      ],
      "text/plain": [
       "    passer_id        passer  season   age  age_last  passing_yards_per_game  \\\n",
       "0  00-0007091  M.Hasselbeck    2013  37.0      36.0               43.333333   \n",
       "1  00-0007091  M.Hasselbeck    2014  38.0      37.0               75.250000   \n",
       "2  00-0007091  M.Hasselbeck    2015  39.0      38.0              211.250000   \n",
       "3  00-0010346     P.Manning    2013  37.0      36.0              342.312500   \n",
       "4  00-0010346     P.Manning    2014  38.0      37.0              295.437500   \n",
       "\n",
       "   passing_attempts_per_game  total_epa_per_game  passing_touchdowns_per_game  \\\n",
       "0                     4.0000            1.269991                       0.0000   \n",
       "1                    11.0000            1.518184                       0.5000   \n",
       "2                    32.0000            3.880949                       1.1250   \n",
       "3                    41.1250           18.124193                       3.4375   \n",
       "4                    37.1875            9.229780                       2.4375   \n",
       "\n",
       "   completions_per_game  fantasy_points_per_game  passing_yards_last_per_game  \\\n",
       "0              2.333333                  1.00000                   170.875000   \n",
       "1              7.500000                  4.23500                    43.333333   \n",
       "2             19.500000                 11.38750                    75.250000   \n",
       "3             28.125000                 25.62375                   291.187500   \n",
       "4             24.687500                 19.54250                   342.312500   \n",
       "\n",
       "   passing_attempts_last_per_game  total_epa_last_per_game  \\\n",
       "0                          27.625                -0.419874   \n",
       "1                           4.000                 1.269991   \n",
       "2                          11.000                 1.518184   \n",
       "3                          36.250                11.813057   \n",
       "4                          41.125                18.124193   \n",
       "\n",
       "   passing_touchdowns_last_per_game  completions_last_per_game  \\\n",
       "0                            0.8750                  17.250000   \n",
       "1                            0.0000                   2.333333   \n",
       "2                            0.5000                   7.500000   \n",
       "3                            2.3125                  25.000000   \n",
       "4                            3.4375                  28.125000   \n",
       "\n",
       "   fantasy_points_last_per_game  \n",
       "0                       9.56000  \n",
       "1                       1.00000  \n",
       "2                       4.23500  \n",
       "3                      19.43500  \n",
       "4                      25.62375  "
      ]
     },
     "execution_count": 29,
     "metadata": {},
     "output_type": "execute_result"
    }
   ],
   "source": [
    "df.head()"
   ]
  },
  {
   "cell_type": "code",
   "execution_count": 31,
   "id": "72afc486",
   "metadata": {},
   "outputs": [
    {
     "data": {
      "text/plain": [
       "371.2"
      ]
     },
     "execution_count": 31,
     "metadata": {},
     "output_type": "execute_result"
    }
   ],
   "source": [
    "df[\"passing_yards_per_game\"].max()"
   ]
  },
  {
   "cell_type": "code",
   "execution_count": 32,
   "id": "68c92c97",
   "metadata": {},
   "outputs": [
    {
     "data": {
      "text/plain": [
       "['passing_yards_per_game',\n",
       " 'passing_attempts_per_game',\n",
       " 'total_epa_per_game',\n",
       " 'passing_touchdowns_per_game',\n",
       " 'completions_per_game',\n",
       " 'fantasy_points_per_game',\n",
       " 'passing_yards_last_per_game',\n",
       " 'passing_attempts_last_per_game',\n",
       " 'total_epa_last_per_game',\n",
       " 'passing_touchdowns_last_per_game',\n",
       " 'completions_last_per_game',\n",
       " 'fantasy_points_last_per_game']"
      ]
     },
     "execution_count": 32,
     "metadata": {},
     "output_type": "execute_result"
    }
   ],
   "source": [
    "list(df.columns)[5:]"
   ]
  },
  {
   "cell_type": "markdown",
   "id": "b550ac8c",
   "metadata": {},
   "source": [
    "## Correlation Matrix"
   ]
  },
  {
   "cell_type": "code",
   "execution_count": 33,
   "id": "fc4553e9",
   "metadata": {},
   "outputs": [],
   "source": [
    "x = [\n",
    "    'passing_yards_per_game',\n",
    "    'passing_attempts_per_game',\n",
    "    'total_epa_per_game',\n",
    "    'passing_touchdowns_per_game',\n",
    "    'completions_per_game',\n",
    "    'fantasy_points_per_game'\n",
    "]"
   ]
  },
  {
   "cell_type": "code",
   "execution_count": 34,
   "id": "059edc7a",
   "metadata": {},
   "outputs": [],
   "source": [
    "y = [\n",
    "    'passing_yards_last_per_game',\n",
    "    'passing_attempts_last_per_game',\n",
    "    'total_epa_last_per_game',\n",
    "    'passing_touchdowns_last_per_game',\n",
    "    'completions_last_per_game',\n",
    "    'fantasy_points_last_per_game'\n",
    "]"
   ]
  },
  {
   "cell_type": "code",
   "execution_count": 35,
   "id": "b1812731",
   "metadata": {},
   "outputs": [
    {
     "data": {
      "application/vnd.plotly.v1+json": {
       "config": {
        "plotlyServerURL": "https://plot.ly"
       },
       "data": [
        {
         "coloraxis": "coloraxis",
         "hovertemplate": "Current Season Stats: %{x}<br>Previous Season Stats: %{y}<br>color: %{z}<extra></extra>",
         "name": "0",
         "texttemplate": "%{z}",
         "type": "heatmap",
         "x": [
          "passing_yards_per_game",
          "passing_attempts_per_game",
          "total_epa_per_game",
          "passing_touchdowns_per_game",
          "completions_per_game",
          "fantasy_points_per_game"
         ],
         "xaxis": "x",
         "y": [
          "passing_yards_last_per_game",
          "passing_attempts_last_per_game",
          "total_epa_last_per_game",
          "passing_touchdowns_last_per_game",
          "completions_last_per_game",
          "fantasy_points_last_per_game"
         ],
         "yaxis": "y",
         "z": [
          [
           0.75,
           0.73,
           0.49,
           0.7,
           0.73,
           0.62
          ],
          [
           0.72,
           0.71,
           0.44,
           0.66,
           0.71,
           0.57
          ],
          [
           0.57,
           0.52,
           0.51,
           0.56,
           0.54,
           0.54
          ],
          [
           0.73,
           0.7,
           0.5,
           0.69,
           0.71,
           0.62
          ],
          [
           0.73,
           0.71,
           0.47,
           0.67,
           0.72,
           0.59
          ],
          [
           0.65,
           0.62,
           0.51,
           0.64,
           0.63,
           0.7
          ]
         ]
        }
       ],
       "layout": {
        "coloraxis": {
         "colorscale": [
          [
           0,
           "#0d0887"
          ],
          [
           0.1111111111111111,
           "#46039f"
          ],
          [
           0.2222222222222222,
           "#7201a8"
          ],
          [
           0.3333333333333333,
           "#9c179e"
          ],
          [
           0.4444444444444444,
           "#bd3786"
          ],
          [
           0.5555555555555556,
           "#d8576b"
          ],
          [
           0.6666666666666666,
           "#ed7953"
          ],
          [
           0.7777777777777778,
           "#fb9f3a"
          ],
          [
           0.8888888888888888,
           "#fdca26"
          ],
          [
           1,
           "#f0f921"
          ]
         ]
        },
        "margin": {
         "t": 60
        },
        "template": {
         "data": {
          "bar": [
           {
            "error_x": {
             "color": "#2a3f5f"
            },
            "error_y": {
             "color": "#2a3f5f"
            },
            "marker": {
             "line": {
              "color": "#E5ECF6",
              "width": 0.5
             },
             "pattern": {
              "fillmode": "overlay",
              "size": 10,
              "solidity": 0.2
             }
            },
            "type": "bar"
           }
          ],
          "barpolar": [
           {
            "marker": {
             "line": {
              "color": "#E5ECF6",
              "width": 0.5
             },
             "pattern": {
              "fillmode": "overlay",
              "size": 10,
              "solidity": 0.2
             }
            },
            "type": "barpolar"
           }
          ],
          "carpet": [
           {
            "aaxis": {
             "endlinecolor": "#2a3f5f",
             "gridcolor": "white",
             "linecolor": "white",
             "minorgridcolor": "white",
             "startlinecolor": "#2a3f5f"
            },
            "baxis": {
             "endlinecolor": "#2a3f5f",
             "gridcolor": "white",
             "linecolor": "white",
             "minorgridcolor": "white",
             "startlinecolor": "#2a3f5f"
            },
            "type": "carpet"
           }
          ],
          "choropleth": [
           {
            "colorbar": {
             "outlinewidth": 0,
             "ticks": ""
            },
            "type": "choropleth"
           }
          ],
          "contour": [
           {
            "colorbar": {
             "outlinewidth": 0,
             "ticks": ""
            },
            "colorscale": [
             [
              0,
              "#0d0887"
             ],
             [
              0.1111111111111111,
              "#46039f"
             ],
             [
              0.2222222222222222,
              "#7201a8"
             ],
             [
              0.3333333333333333,
              "#9c179e"
             ],
             [
              0.4444444444444444,
              "#bd3786"
             ],
             [
              0.5555555555555556,
              "#d8576b"
             ],
             [
              0.6666666666666666,
              "#ed7953"
             ],
             [
              0.7777777777777778,
              "#fb9f3a"
             ],
             [
              0.8888888888888888,
              "#fdca26"
             ],
             [
              1,
              "#f0f921"
             ]
            ],
            "type": "contour"
           }
          ],
          "contourcarpet": [
           {
            "colorbar": {
             "outlinewidth": 0,
             "ticks": ""
            },
            "type": "contourcarpet"
           }
          ],
          "heatmap": [
           {
            "colorbar": {
             "outlinewidth": 0,
             "ticks": ""
            },
            "colorscale": [
             [
              0,
              "#0d0887"
             ],
             [
              0.1111111111111111,
              "#46039f"
             ],
             [
              0.2222222222222222,
              "#7201a8"
             ],
             [
              0.3333333333333333,
              "#9c179e"
             ],
             [
              0.4444444444444444,
              "#bd3786"
             ],
             [
              0.5555555555555556,
              "#d8576b"
             ],
             [
              0.6666666666666666,
              "#ed7953"
             ],
             [
              0.7777777777777778,
              "#fb9f3a"
             ],
             [
              0.8888888888888888,
              "#fdca26"
             ],
             [
              1,
              "#f0f921"
             ]
            ],
            "type": "heatmap"
           }
          ],
          "heatmapgl": [
           {
            "colorbar": {
             "outlinewidth": 0,
             "ticks": ""
            },
            "colorscale": [
             [
              0,
              "#0d0887"
             ],
             [
              0.1111111111111111,
              "#46039f"
             ],
             [
              0.2222222222222222,
              "#7201a8"
             ],
             [
              0.3333333333333333,
              "#9c179e"
             ],
             [
              0.4444444444444444,
              "#bd3786"
             ],
             [
              0.5555555555555556,
              "#d8576b"
             ],
             [
              0.6666666666666666,
              "#ed7953"
             ],
             [
              0.7777777777777778,
              "#fb9f3a"
             ],
             [
              0.8888888888888888,
              "#fdca26"
             ],
             [
              1,
              "#f0f921"
             ]
            ],
            "type": "heatmapgl"
           }
          ],
          "histogram": [
           {
            "marker": {
             "pattern": {
              "fillmode": "overlay",
              "size": 10,
              "solidity": 0.2
             }
            },
            "type": "histogram"
           }
          ],
          "histogram2d": [
           {
            "colorbar": {
             "outlinewidth": 0,
             "ticks": ""
            },
            "colorscale": [
             [
              0,
              "#0d0887"
             ],
             [
              0.1111111111111111,
              "#46039f"
             ],
             [
              0.2222222222222222,
              "#7201a8"
             ],
             [
              0.3333333333333333,
              "#9c179e"
             ],
             [
              0.4444444444444444,
              "#bd3786"
             ],
             [
              0.5555555555555556,
              "#d8576b"
             ],
             [
              0.6666666666666666,
              "#ed7953"
             ],
             [
              0.7777777777777778,
              "#fb9f3a"
             ],
             [
              0.8888888888888888,
              "#fdca26"
             ],
             [
              1,
              "#f0f921"
             ]
            ],
            "type": "histogram2d"
           }
          ],
          "histogram2dcontour": [
           {
            "colorbar": {
             "outlinewidth": 0,
             "ticks": ""
            },
            "colorscale": [
             [
              0,
              "#0d0887"
             ],
             [
              0.1111111111111111,
              "#46039f"
             ],
             [
              0.2222222222222222,
              "#7201a8"
             ],
             [
              0.3333333333333333,
              "#9c179e"
             ],
             [
              0.4444444444444444,
              "#bd3786"
             ],
             [
              0.5555555555555556,
              "#d8576b"
             ],
             [
              0.6666666666666666,
              "#ed7953"
             ],
             [
              0.7777777777777778,
              "#fb9f3a"
             ],
             [
              0.8888888888888888,
              "#fdca26"
             ],
             [
              1,
              "#f0f921"
             ]
            ],
            "type": "histogram2dcontour"
           }
          ],
          "mesh3d": [
           {
            "colorbar": {
             "outlinewidth": 0,
             "ticks": ""
            },
            "type": "mesh3d"
           }
          ],
          "parcoords": [
           {
            "line": {
             "colorbar": {
              "outlinewidth": 0,
              "ticks": ""
             }
            },
            "type": "parcoords"
           }
          ],
          "pie": [
           {
            "automargin": true,
            "type": "pie"
           }
          ],
          "scatter": [
           {
            "fillpattern": {
             "fillmode": "overlay",
             "size": 10,
             "solidity": 0.2
            },
            "type": "scatter"
           }
          ],
          "scatter3d": [
           {
            "line": {
             "colorbar": {
              "outlinewidth": 0,
              "ticks": ""
             }
            },
            "marker": {
             "colorbar": {
              "outlinewidth": 0,
              "ticks": ""
             }
            },
            "type": "scatter3d"
           }
          ],
          "scattercarpet": [
           {
            "marker": {
             "colorbar": {
              "outlinewidth": 0,
              "ticks": ""
             }
            },
            "type": "scattercarpet"
           }
          ],
          "scattergeo": [
           {
            "marker": {
             "colorbar": {
              "outlinewidth": 0,
              "ticks": ""
             }
            },
            "type": "scattergeo"
           }
          ],
          "scattergl": [
           {
            "marker": {
             "colorbar": {
              "outlinewidth": 0,
              "ticks": ""
             }
            },
            "type": "scattergl"
           }
          ],
          "scattermapbox": [
           {
            "marker": {
             "colorbar": {
              "outlinewidth": 0,
              "ticks": ""
             }
            },
            "type": "scattermapbox"
           }
          ],
          "scatterpolar": [
           {
            "marker": {
             "colorbar": {
              "outlinewidth": 0,
              "ticks": ""
             }
            },
            "type": "scatterpolar"
           }
          ],
          "scatterpolargl": [
           {
            "marker": {
             "colorbar": {
              "outlinewidth": 0,
              "ticks": ""
             }
            },
            "type": "scatterpolargl"
           }
          ],
          "scatterternary": [
           {
            "marker": {
             "colorbar": {
              "outlinewidth": 0,
              "ticks": ""
             }
            },
            "type": "scatterternary"
           }
          ],
          "surface": [
           {
            "colorbar": {
             "outlinewidth": 0,
             "ticks": ""
            },
            "colorscale": [
             [
              0,
              "#0d0887"
             ],
             [
              0.1111111111111111,
              "#46039f"
             ],
             [
              0.2222222222222222,
              "#7201a8"
             ],
             [
              0.3333333333333333,
              "#9c179e"
             ],
             [
              0.4444444444444444,
              "#bd3786"
             ],
             [
              0.5555555555555556,
              "#d8576b"
             ],
             [
              0.6666666666666666,
              "#ed7953"
             ],
             [
              0.7777777777777778,
              "#fb9f3a"
             ],
             [
              0.8888888888888888,
              "#fdca26"
             ],
             [
              1,
              "#f0f921"
             ]
            ],
            "type": "surface"
           }
          ],
          "table": [
           {
            "cells": {
             "fill": {
              "color": "#EBF0F8"
             },
             "line": {
              "color": "white"
             }
            },
            "header": {
             "fill": {
              "color": "#C8D4E3"
             },
             "line": {
              "color": "white"
             }
            },
            "type": "table"
           }
          ]
         },
         "layout": {
          "annotationdefaults": {
           "arrowcolor": "#2a3f5f",
           "arrowhead": 0,
           "arrowwidth": 1
          },
          "autotypenumbers": "strict",
          "coloraxis": {
           "colorbar": {
            "outlinewidth": 0,
            "ticks": ""
           }
          },
          "colorscale": {
           "diverging": [
            [
             0,
             "#8e0152"
            ],
            [
             0.1,
             "#c51b7d"
            ],
            [
             0.2,
             "#de77ae"
            ],
            [
             0.3,
             "#f1b6da"
            ],
            [
             0.4,
             "#fde0ef"
            ],
            [
             0.5,
             "#f7f7f7"
            ],
            [
             0.6,
             "#e6f5d0"
            ],
            [
             0.7,
             "#b8e186"
            ],
            [
             0.8,
             "#7fbc41"
            ],
            [
             0.9,
             "#4d9221"
            ],
            [
             1,
             "#276419"
            ]
           ],
           "sequential": [
            [
             0,
             "#0d0887"
            ],
            [
             0.1111111111111111,
             "#46039f"
            ],
            [
             0.2222222222222222,
             "#7201a8"
            ],
            [
             0.3333333333333333,
             "#9c179e"
            ],
            [
             0.4444444444444444,
             "#bd3786"
            ],
            [
             0.5555555555555556,
             "#d8576b"
            ],
            [
             0.6666666666666666,
             "#ed7953"
            ],
            [
             0.7777777777777778,
             "#fb9f3a"
            ],
            [
             0.8888888888888888,
             "#fdca26"
            ],
            [
             1,
             "#f0f921"
            ]
           ],
           "sequentialminus": [
            [
             0,
             "#0d0887"
            ],
            [
             0.1111111111111111,
             "#46039f"
            ],
            [
             0.2222222222222222,
             "#7201a8"
            ],
            [
             0.3333333333333333,
             "#9c179e"
            ],
            [
             0.4444444444444444,
             "#bd3786"
            ],
            [
             0.5555555555555556,
             "#d8576b"
            ],
            [
             0.6666666666666666,
             "#ed7953"
            ],
            [
             0.7777777777777778,
             "#fb9f3a"
            ],
            [
             0.8888888888888888,
             "#fdca26"
            ],
            [
             1,
             "#f0f921"
            ]
           ]
          },
          "colorway": [
           "#636efa",
           "#EF553B",
           "#00cc96",
           "#ab63fa",
           "#FFA15A",
           "#19d3f3",
           "#FF6692",
           "#B6E880",
           "#FF97FF",
           "#FECB52"
          ],
          "font": {
           "color": "#2a3f5f"
          },
          "geo": {
           "bgcolor": "white",
           "lakecolor": "white",
           "landcolor": "#E5ECF6",
           "showlakes": true,
           "showland": true,
           "subunitcolor": "white"
          },
          "hoverlabel": {
           "align": "left"
          },
          "hovermode": "closest",
          "mapbox": {
           "style": "light"
          },
          "paper_bgcolor": "white",
          "plot_bgcolor": "#E5ECF6",
          "polar": {
           "angularaxis": {
            "gridcolor": "white",
            "linecolor": "white",
            "ticks": ""
           },
           "bgcolor": "#E5ECF6",
           "radialaxis": {
            "gridcolor": "white",
            "linecolor": "white",
            "ticks": ""
           }
          },
          "scene": {
           "xaxis": {
            "backgroundcolor": "#E5ECF6",
            "gridcolor": "white",
            "gridwidth": 2,
            "linecolor": "white",
            "showbackground": true,
            "ticks": "",
            "zerolinecolor": "white"
           },
           "yaxis": {
            "backgroundcolor": "#E5ECF6",
            "gridcolor": "white",
            "gridwidth": 2,
            "linecolor": "white",
            "showbackground": true,
            "ticks": "",
            "zerolinecolor": "white"
           },
           "zaxis": {
            "backgroundcolor": "#E5ECF6",
            "gridcolor": "white",
            "gridwidth": 2,
            "linecolor": "white",
            "showbackground": true,
            "ticks": "",
            "zerolinecolor": "white"
           }
          },
          "shapedefaults": {
           "line": {
            "color": "#2a3f5f"
           }
          },
          "ternary": {
           "aaxis": {
            "gridcolor": "white",
            "linecolor": "white",
            "ticks": ""
           },
           "baxis": {
            "gridcolor": "white",
            "linecolor": "white",
            "ticks": ""
           },
           "bgcolor": "#E5ECF6",
           "caxis": {
            "gridcolor": "white",
            "linecolor": "white",
            "ticks": ""
           }
          },
          "title": {
           "x": 0.05
          },
          "xaxis": {
           "automargin": true,
           "gridcolor": "white",
           "linecolor": "white",
           "ticks": "",
           "title": {
            "standoff": 15
           },
           "zerolinecolor": "white",
           "zerolinewidth": 2
          },
          "yaxis": {
           "automargin": true,
           "gridcolor": "white",
           "linecolor": "white",
           "ticks": "",
           "title": {
            "standoff": 15
           },
           "zerolinecolor": "white",
           "zerolinewidth": 2
          }
         }
        },
        "xaxis": {
         "anchor": "y",
         "constrain": "domain",
         "domain": [
          0,
          1
         ],
         "scaleanchor": "y",
         "title": {
          "text": "Current Season Stats"
         }
        },
        "yaxis": {
         "anchor": "x",
         "autorange": "reversed",
         "constrain": "domain",
         "domain": [
          0,
          1
         ],
         "title": {
          "text": "Previous Season Stats"
         }
        }
       }
      },
      "text/html": [
       "<div>                            <div id=\"93de2519-f6f2-4c8c-9ac9-085719b5fda0\" class=\"plotly-graph-div\" style=\"height:525px; width:100%;\"></div>            <script type=\"text/javascript\">                require([\"plotly\"], function(Plotly) {                    window.PLOTLYENV=window.PLOTLYENV || {};                                    if (document.getElementById(\"93de2519-f6f2-4c8c-9ac9-085719b5fda0\")) {                    Plotly.newPlot(                        \"93de2519-f6f2-4c8c-9ac9-085719b5fda0\",                        [{\"coloraxis\":\"coloraxis\",\"name\":\"0\",\"texttemplate\":\"%{z}\",\"x\":[\"passing_yards_per_game\",\"passing_attempts_per_game\",\"total_epa_per_game\",\"passing_touchdowns_per_game\",\"completions_per_game\",\"fantasy_points_per_game\"],\"y\":[\"passing_yards_last_per_game\",\"passing_attempts_last_per_game\",\"total_epa_last_per_game\",\"passing_touchdowns_last_per_game\",\"completions_last_per_game\",\"fantasy_points_last_per_game\"],\"z\":[[0.75,0.73,0.49,0.7,0.73,0.62],[0.72,0.71,0.44,0.66,0.71,0.57],[0.57,0.52,0.51,0.56,0.54,0.54],[0.73,0.7,0.5,0.69,0.71,0.62],[0.73,0.71,0.47,0.67,0.72,0.59],[0.65,0.62,0.51,0.64,0.63,0.7]],\"type\":\"heatmap\",\"xaxis\":\"x\",\"yaxis\":\"y\",\"hovertemplate\":\"Current Season Stats: %{x}\\u003cbr\\u003ePrevious Season Stats: %{y}\\u003cbr\\u003ecolor: %{z}\\u003cextra\\u003e\\u003c\\u002fextra\\u003e\"}],                        {\"template\":{\"data\":{\"histogram2dcontour\":[{\"type\":\"histogram2dcontour\",\"colorbar\":{\"outlinewidth\":0,\"ticks\":\"\"},\"colorscale\":[[0.0,\"#0d0887\"],[0.1111111111111111,\"#46039f\"],[0.2222222222222222,\"#7201a8\"],[0.3333333333333333,\"#9c179e\"],[0.4444444444444444,\"#bd3786\"],[0.5555555555555556,\"#d8576b\"],[0.6666666666666666,\"#ed7953\"],[0.7777777777777778,\"#fb9f3a\"],[0.8888888888888888,\"#fdca26\"],[1.0,\"#f0f921\"]]}],\"choropleth\":[{\"type\":\"choropleth\",\"colorbar\":{\"outlinewidth\":0,\"ticks\":\"\"}}],\"histogram2d\":[{\"type\":\"histogram2d\",\"colorbar\":{\"outlinewidth\":0,\"ticks\":\"\"},\"colorscale\":[[0.0,\"#0d0887\"],[0.1111111111111111,\"#46039f\"],[0.2222222222222222,\"#7201a8\"],[0.3333333333333333,\"#9c179e\"],[0.4444444444444444,\"#bd3786\"],[0.5555555555555556,\"#d8576b\"],[0.6666666666666666,\"#ed7953\"],[0.7777777777777778,\"#fb9f3a\"],[0.8888888888888888,\"#fdca26\"],[1.0,\"#f0f921\"]]}],\"heatmap\":[{\"type\":\"heatmap\",\"colorbar\":{\"outlinewidth\":0,\"ticks\":\"\"},\"colorscale\":[[0.0,\"#0d0887\"],[0.1111111111111111,\"#46039f\"],[0.2222222222222222,\"#7201a8\"],[0.3333333333333333,\"#9c179e\"],[0.4444444444444444,\"#bd3786\"],[0.5555555555555556,\"#d8576b\"],[0.6666666666666666,\"#ed7953\"],[0.7777777777777778,\"#fb9f3a\"],[0.8888888888888888,\"#fdca26\"],[1.0,\"#f0f921\"]]}],\"heatmapgl\":[{\"type\":\"heatmapgl\",\"colorbar\":{\"outlinewidth\":0,\"ticks\":\"\"},\"colorscale\":[[0.0,\"#0d0887\"],[0.1111111111111111,\"#46039f\"],[0.2222222222222222,\"#7201a8\"],[0.3333333333333333,\"#9c179e\"],[0.4444444444444444,\"#bd3786\"],[0.5555555555555556,\"#d8576b\"],[0.6666666666666666,\"#ed7953\"],[0.7777777777777778,\"#fb9f3a\"],[0.8888888888888888,\"#fdca26\"],[1.0,\"#f0f921\"]]}],\"contourcarpet\":[{\"type\":\"contourcarpet\",\"colorbar\":{\"outlinewidth\":0,\"ticks\":\"\"}}],\"contour\":[{\"type\":\"contour\",\"colorbar\":{\"outlinewidth\":0,\"ticks\":\"\"},\"colorscale\":[[0.0,\"#0d0887\"],[0.1111111111111111,\"#46039f\"],[0.2222222222222222,\"#7201a8\"],[0.3333333333333333,\"#9c179e\"],[0.4444444444444444,\"#bd3786\"],[0.5555555555555556,\"#d8576b\"],[0.6666666666666666,\"#ed7953\"],[0.7777777777777778,\"#fb9f3a\"],[0.8888888888888888,\"#fdca26\"],[1.0,\"#f0f921\"]]}],\"surface\":[{\"type\":\"surface\",\"colorbar\":{\"outlinewidth\":0,\"ticks\":\"\"},\"colorscale\":[[0.0,\"#0d0887\"],[0.1111111111111111,\"#46039f\"],[0.2222222222222222,\"#7201a8\"],[0.3333333333333333,\"#9c179e\"],[0.4444444444444444,\"#bd3786\"],[0.5555555555555556,\"#d8576b\"],[0.6666666666666666,\"#ed7953\"],[0.7777777777777778,\"#fb9f3a\"],[0.8888888888888888,\"#fdca26\"],[1.0,\"#f0f921\"]]}],\"mesh3d\":[{\"type\":\"mesh3d\",\"colorbar\":{\"outlinewidth\":0,\"ticks\":\"\"}}],\"scatter\":[{\"fillpattern\":{\"fillmode\":\"overlay\",\"size\":10,\"solidity\":0.2},\"type\":\"scatter\"}],\"parcoords\":[{\"type\":\"parcoords\",\"line\":{\"colorbar\":{\"outlinewidth\":0,\"ticks\":\"\"}}}],\"scatterpolargl\":[{\"type\":\"scatterpolargl\",\"marker\":{\"colorbar\":{\"outlinewidth\":0,\"ticks\":\"\"}}}],\"bar\":[{\"error_x\":{\"color\":\"#2a3f5f\"},\"error_y\":{\"color\":\"#2a3f5f\"},\"marker\":{\"line\":{\"color\":\"#E5ECF6\",\"width\":0.5},\"pattern\":{\"fillmode\":\"overlay\",\"size\":10,\"solidity\":0.2}},\"type\":\"bar\"}],\"scattergeo\":[{\"type\":\"scattergeo\",\"marker\":{\"colorbar\":{\"outlinewidth\":0,\"ticks\":\"\"}}}],\"scatterpolar\":[{\"type\":\"scatterpolar\",\"marker\":{\"colorbar\":{\"outlinewidth\":0,\"ticks\":\"\"}}}],\"histogram\":[{\"marker\":{\"pattern\":{\"fillmode\":\"overlay\",\"size\":10,\"solidity\":0.2}},\"type\":\"histogram\"}],\"scattergl\":[{\"type\":\"scattergl\",\"marker\":{\"colorbar\":{\"outlinewidth\":0,\"ticks\":\"\"}}}],\"scatter3d\":[{\"type\":\"scatter3d\",\"line\":{\"colorbar\":{\"outlinewidth\":0,\"ticks\":\"\"}},\"marker\":{\"colorbar\":{\"outlinewidth\":0,\"ticks\":\"\"}}}],\"scattermapbox\":[{\"type\":\"scattermapbox\",\"marker\":{\"colorbar\":{\"outlinewidth\":0,\"ticks\":\"\"}}}],\"scatterternary\":[{\"type\":\"scatterternary\",\"marker\":{\"colorbar\":{\"outlinewidth\":0,\"ticks\":\"\"}}}],\"scattercarpet\":[{\"type\":\"scattercarpet\",\"marker\":{\"colorbar\":{\"outlinewidth\":0,\"ticks\":\"\"}}}],\"carpet\":[{\"aaxis\":{\"endlinecolor\":\"#2a3f5f\",\"gridcolor\":\"white\",\"linecolor\":\"white\",\"minorgridcolor\":\"white\",\"startlinecolor\":\"#2a3f5f\"},\"baxis\":{\"endlinecolor\":\"#2a3f5f\",\"gridcolor\":\"white\",\"linecolor\":\"white\",\"minorgridcolor\":\"white\",\"startlinecolor\":\"#2a3f5f\"},\"type\":\"carpet\"}],\"table\":[{\"cells\":{\"fill\":{\"color\":\"#EBF0F8\"},\"line\":{\"color\":\"white\"}},\"header\":{\"fill\":{\"color\":\"#C8D4E3\"},\"line\":{\"color\":\"white\"}},\"type\":\"table\"}],\"barpolar\":[{\"marker\":{\"line\":{\"color\":\"#E5ECF6\",\"width\":0.5},\"pattern\":{\"fillmode\":\"overlay\",\"size\":10,\"solidity\":0.2}},\"type\":\"barpolar\"}],\"pie\":[{\"automargin\":true,\"type\":\"pie\"}]},\"layout\":{\"autotypenumbers\":\"strict\",\"colorway\":[\"#636efa\",\"#EF553B\",\"#00cc96\",\"#ab63fa\",\"#FFA15A\",\"#19d3f3\",\"#FF6692\",\"#B6E880\",\"#FF97FF\",\"#FECB52\"],\"font\":{\"color\":\"#2a3f5f\"},\"hovermode\":\"closest\",\"hoverlabel\":{\"align\":\"left\"},\"paper_bgcolor\":\"white\",\"plot_bgcolor\":\"#E5ECF6\",\"polar\":{\"bgcolor\":\"#E5ECF6\",\"angularaxis\":{\"gridcolor\":\"white\",\"linecolor\":\"white\",\"ticks\":\"\"},\"radialaxis\":{\"gridcolor\":\"white\",\"linecolor\":\"white\",\"ticks\":\"\"}},\"ternary\":{\"bgcolor\":\"#E5ECF6\",\"aaxis\":{\"gridcolor\":\"white\",\"linecolor\":\"white\",\"ticks\":\"\"},\"baxis\":{\"gridcolor\":\"white\",\"linecolor\":\"white\",\"ticks\":\"\"},\"caxis\":{\"gridcolor\":\"white\",\"linecolor\":\"white\",\"ticks\":\"\"}},\"coloraxis\":{\"colorbar\":{\"outlinewidth\":0,\"ticks\":\"\"}},\"colorscale\":{\"sequential\":[[0.0,\"#0d0887\"],[0.1111111111111111,\"#46039f\"],[0.2222222222222222,\"#7201a8\"],[0.3333333333333333,\"#9c179e\"],[0.4444444444444444,\"#bd3786\"],[0.5555555555555556,\"#d8576b\"],[0.6666666666666666,\"#ed7953\"],[0.7777777777777778,\"#fb9f3a\"],[0.8888888888888888,\"#fdca26\"],[1.0,\"#f0f921\"]],\"sequentialminus\":[[0.0,\"#0d0887\"],[0.1111111111111111,\"#46039f\"],[0.2222222222222222,\"#7201a8\"],[0.3333333333333333,\"#9c179e\"],[0.4444444444444444,\"#bd3786\"],[0.5555555555555556,\"#d8576b\"],[0.6666666666666666,\"#ed7953\"],[0.7777777777777778,\"#fb9f3a\"],[0.8888888888888888,\"#fdca26\"],[1.0,\"#f0f921\"]],\"diverging\":[[0,\"#8e0152\"],[0.1,\"#c51b7d\"],[0.2,\"#de77ae\"],[0.3,\"#f1b6da\"],[0.4,\"#fde0ef\"],[0.5,\"#f7f7f7\"],[0.6,\"#e6f5d0\"],[0.7,\"#b8e186\"],[0.8,\"#7fbc41\"],[0.9,\"#4d9221\"],[1,\"#276419\"]]},\"xaxis\":{\"gridcolor\":\"white\",\"linecolor\":\"white\",\"ticks\":\"\",\"title\":{\"standoff\":15},\"zerolinecolor\":\"white\",\"automargin\":true,\"zerolinewidth\":2},\"yaxis\":{\"gridcolor\":\"white\",\"linecolor\":\"white\",\"ticks\":\"\",\"title\":{\"standoff\":15},\"zerolinecolor\":\"white\",\"automargin\":true,\"zerolinewidth\":2},\"scene\":{\"xaxis\":{\"backgroundcolor\":\"#E5ECF6\",\"gridcolor\":\"white\",\"linecolor\":\"white\",\"showbackground\":true,\"ticks\":\"\",\"zerolinecolor\":\"white\",\"gridwidth\":2},\"yaxis\":{\"backgroundcolor\":\"#E5ECF6\",\"gridcolor\":\"white\",\"linecolor\":\"white\",\"showbackground\":true,\"ticks\":\"\",\"zerolinecolor\":\"white\",\"gridwidth\":2},\"zaxis\":{\"backgroundcolor\":\"#E5ECF6\",\"gridcolor\":\"white\",\"linecolor\":\"white\",\"showbackground\":true,\"ticks\":\"\",\"zerolinecolor\":\"white\",\"gridwidth\":2}},\"shapedefaults\":{\"line\":{\"color\":\"#2a3f5f\"}},\"annotationdefaults\":{\"arrowcolor\":\"#2a3f5f\",\"arrowhead\":0,\"arrowwidth\":1},\"geo\":{\"bgcolor\":\"white\",\"landcolor\":\"#E5ECF6\",\"subunitcolor\":\"white\",\"showland\":true,\"showlakes\":true,\"lakecolor\":\"white\"},\"title\":{\"x\":0.05},\"mapbox\":{\"style\":\"light\"}}},\"xaxis\":{\"anchor\":\"y\",\"domain\":[0.0,1.0],\"scaleanchor\":\"y\",\"constrain\":\"domain\",\"title\":{\"text\":\"Current Season Stats\"}},\"yaxis\":{\"anchor\":\"x\",\"domain\":[0.0,1.0],\"autorange\":\"reversed\",\"constrain\":\"domain\",\"title\":{\"text\":\"Previous Season Stats\"}},\"coloraxis\":{\"colorscale\":[[0.0,\"#0d0887\"],[0.1111111111111111,\"#46039f\"],[0.2222222222222222,\"#7201a8\"],[0.3333333333333333,\"#9c179e\"],[0.4444444444444444,\"#bd3786\"],[0.5555555555555556,\"#d8576b\"],[0.6666666666666666,\"#ed7953\"],[0.7777777777777778,\"#fb9f3a\"],[0.8888888888888888,\"#fdca26\"],[1.0,\"#f0f921\"]]},\"margin\":{\"t\":60}},                        {\"responsive\": true}                    ).then(function(){\n",
       "                            \n",
       "var gd = document.getElementById('93de2519-f6f2-4c8c-9ac9-085719b5fda0');\n",
       "var x = new MutationObserver(function (mutations, observer) {{\n",
       "        var display = window.getComputedStyle(gd).display;\n",
       "        if (!display || display === 'none') {{\n",
       "            console.log([gd, 'removed!']);\n",
       "            Plotly.purge(gd);\n",
       "            observer.disconnect();\n",
       "        }}\n",
       "}});\n",
       "\n",
       "// Listen for the removal of the full notebook cells\n",
       "var notebookContainer = gd.closest('#notebook-container');\n",
       "if (notebookContainer) {{\n",
       "    x.observe(notebookContainer, {childList: true});\n",
       "}}\n",
       "\n",
       "// Listen for the clearing of the current output cell\n",
       "var outputEl = gd.closest('.output');\n",
       "if (outputEl) {{\n",
       "    x.observe(outputEl, {childList: true});\n",
       "}}\n",
       "\n",
       "                        })                };                });            </script>        </div>"
      ]
     },
     "metadata": {},
     "output_type": "display_data"
    }
   ],
   "source": [
    "corr_mat, x, y = create_correlation_matrix(df, x, y)\n",
    "plot_correlation_matrix(corr_mat, x, y)"
   ]
  },
  {
   "cell_type": "markdown",
   "id": "9a75c4a5",
   "metadata": {},
   "source": [
    "# Filtered DFs"
   ]
  },
  {
   "cell_type": "code",
   "execution_count": 48,
   "id": "5f09e355",
   "metadata": {},
   "outputs": [],
   "source": [
    "def filter_df(df, query, x, y, title=\"\"):\n",
    "    # create filtered df\n",
    "    df_filter = df.copy()\n",
    "    df_filter[[\"games\", \"games_last\"]] = df_temp[[\"games\", \"games_last\"]]\n",
    "    \n",
    "    if query:\n",
    "        df_filter = df_filter.query(query)\n",
    "    \n",
    "    # create and show corr_mat\n",
    "    corr_mat, x, y = create_correlation_matrix(df_filter, x, y)\n",
    "    plot_correlation_matrix(corr_mat, x, y, title=f\"per-game/{title}\")\n",
    "    \n",
    "    # visualize highest correlation pairing\n",
    "    series = corr_mat.max().iloc[0:]\n",
    "    temp_arr = list(series)\n",
    "\n",
    "    max_series_value = series.max()\n",
    "    i = temp_arr.index(max_series_value)\n",
    "    col = list(corr_mat.columns)[i]\n",
    "    col_prev = col.replace(\"_per_game\", \"_last_per_game\")\n",
    "    \n",
    "    fig = px.scatter(df_filter, x=col_prev, y=col,\n",
    "                 hover_data=[\"passer\", \"season\", \"age\"]\n",
    "                )\n",
    "    if title:\n",
    "        fig_name = f\"{title}-scatter-{col}\"\n",
    "        path = f\"../../interactive/QB/stability-passing/per-game/{fig_name}.html\"\n",
    "        print(f\"\\nSave path: {fig_name}\\n\")\n",
    "        fig.write_html(path)\n",
    "    fig.show()\n",
    "    \n",
    "    return df_filter"
   ]
  },
  {
   "cell_type": "markdown",
   "id": "76532db4",
   "metadata": {},
   "source": [
    "## No Filter"
   ]
  },
  {
   "cell_type": "code",
   "execution_count": 49,
   "id": "78de56cf",
   "metadata": {},
   "outputs": [
    {
     "data": {
      "application/vnd.plotly.v1+json": {
       "config": {
        "plotlyServerURL": "https://plot.ly"
       },
       "data": [
        {
         "coloraxis": "coloraxis",
         "hovertemplate": "Current Season Stats: %{x}<br>Previous Season Stats: %{y}<br>color: %{z}<extra></extra>",
         "name": "0",
         "texttemplate": "%{z}",
         "type": "heatmap",
         "x": [
          "passing_yards_per_game",
          "passing_attempts_per_game",
          "total_epa_per_game",
          "passing_touchdowns_per_game",
          "completions_per_game",
          "fantasy_points_per_game"
         ],
         "xaxis": "x",
         "y": [
          "passing_yards_last_per_game",
          "passing_attempts_last_per_game",
          "total_epa_last_per_game",
          "passing_touchdowns_last_per_game",
          "completions_last_per_game",
          "fantasy_points_last_per_game"
         ],
         "yaxis": "y",
         "z": [
          [
           0.75,
           0.73,
           0.49,
           0.7,
           0.73,
           0.62
          ],
          [
           0.72,
           0.71,
           0.44,
           0.66,
           0.71,
           0.57
          ],
          [
           0.57,
           0.52,
           0.51,
           0.56,
           0.54,
           0.54
          ],
          [
           0.73,
           0.7,
           0.5,
           0.69,
           0.71,
           0.62
          ],
          [
           0.73,
           0.71,
           0.47,
           0.67,
           0.72,
           0.59
          ],
          [
           0.65,
           0.62,
           0.51,
           0.64,
           0.63,
           0.7
          ]
         ]
        }
       ],
       "layout": {
        "coloraxis": {
         "colorscale": [
          [
           0,
           "#0d0887"
          ],
          [
           0.1111111111111111,
           "#46039f"
          ],
          [
           0.2222222222222222,
           "#7201a8"
          ],
          [
           0.3333333333333333,
           "#9c179e"
          ],
          [
           0.4444444444444444,
           "#bd3786"
          ],
          [
           0.5555555555555556,
           "#d8576b"
          ],
          [
           0.6666666666666666,
           "#ed7953"
          ],
          [
           0.7777777777777778,
           "#fb9f3a"
          ],
          [
           0.8888888888888888,
           "#fdca26"
          ],
          [
           1,
           "#f0f921"
          ]
         ]
        },
        "margin": {
         "t": 60
        },
        "template": {
         "data": {
          "bar": [
           {
            "error_x": {
             "color": "#2a3f5f"
            },
            "error_y": {
             "color": "#2a3f5f"
            },
            "marker": {
             "line": {
              "color": "#E5ECF6",
              "width": 0.5
             },
             "pattern": {
              "fillmode": "overlay",
              "size": 10,
              "solidity": 0.2
             }
            },
            "type": "bar"
           }
          ],
          "barpolar": [
           {
            "marker": {
             "line": {
              "color": "#E5ECF6",
              "width": 0.5
             },
             "pattern": {
              "fillmode": "overlay",
              "size": 10,
              "solidity": 0.2
             }
            },
            "type": "barpolar"
           }
          ],
          "carpet": [
           {
            "aaxis": {
             "endlinecolor": "#2a3f5f",
             "gridcolor": "white",
             "linecolor": "white",
             "minorgridcolor": "white",
             "startlinecolor": "#2a3f5f"
            },
            "baxis": {
             "endlinecolor": "#2a3f5f",
             "gridcolor": "white",
             "linecolor": "white",
             "minorgridcolor": "white",
             "startlinecolor": "#2a3f5f"
            },
            "type": "carpet"
           }
          ],
          "choropleth": [
           {
            "colorbar": {
             "outlinewidth": 0,
             "ticks": ""
            },
            "type": "choropleth"
           }
          ],
          "contour": [
           {
            "colorbar": {
             "outlinewidth": 0,
             "ticks": ""
            },
            "colorscale": [
             [
              0,
              "#0d0887"
             ],
             [
              0.1111111111111111,
              "#46039f"
             ],
             [
              0.2222222222222222,
              "#7201a8"
             ],
             [
              0.3333333333333333,
              "#9c179e"
             ],
             [
              0.4444444444444444,
              "#bd3786"
             ],
             [
              0.5555555555555556,
              "#d8576b"
             ],
             [
              0.6666666666666666,
              "#ed7953"
             ],
             [
              0.7777777777777778,
              "#fb9f3a"
             ],
             [
              0.8888888888888888,
              "#fdca26"
             ],
             [
              1,
              "#f0f921"
             ]
            ],
            "type": "contour"
           }
          ],
          "contourcarpet": [
           {
            "colorbar": {
             "outlinewidth": 0,
             "ticks": ""
            },
            "type": "contourcarpet"
           }
          ],
          "heatmap": [
           {
            "colorbar": {
             "outlinewidth": 0,
             "ticks": ""
            },
            "colorscale": [
             [
              0,
              "#0d0887"
             ],
             [
              0.1111111111111111,
              "#46039f"
             ],
             [
              0.2222222222222222,
              "#7201a8"
             ],
             [
              0.3333333333333333,
              "#9c179e"
             ],
             [
              0.4444444444444444,
              "#bd3786"
             ],
             [
              0.5555555555555556,
              "#d8576b"
             ],
             [
              0.6666666666666666,
              "#ed7953"
             ],
             [
              0.7777777777777778,
              "#fb9f3a"
             ],
             [
              0.8888888888888888,
              "#fdca26"
             ],
             [
              1,
              "#f0f921"
             ]
            ],
            "type": "heatmap"
           }
          ],
          "heatmapgl": [
           {
            "colorbar": {
             "outlinewidth": 0,
             "ticks": ""
            },
            "colorscale": [
             [
              0,
              "#0d0887"
             ],
             [
              0.1111111111111111,
              "#46039f"
             ],
             [
              0.2222222222222222,
              "#7201a8"
             ],
             [
              0.3333333333333333,
              "#9c179e"
             ],
             [
              0.4444444444444444,
              "#bd3786"
             ],
             [
              0.5555555555555556,
              "#d8576b"
             ],
             [
              0.6666666666666666,
              "#ed7953"
             ],
             [
              0.7777777777777778,
              "#fb9f3a"
             ],
             [
              0.8888888888888888,
              "#fdca26"
             ],
             [
              1,
              "#f0f921"
             ]
            ],
            "type": "heatmapgl"
           }
          ],
          "histogram": [
           {
            "marker": {
             "pattern": {
              "fillmode": "overlay",
              "size": 10,
              "solidity": 0.2
             }
            },
            "type": "histogram"
           }
          ],
          "histogram2d": [
           {
            "colorbar": {
             "outlinewidth": 0,
             "ticks": ""
            },
            "colorscale": [
             [
              0,
              "#0d0887"
             ],
             [
              0.1111111111111111,
              "#46039f"
             ],
             [
              0.2222222222222222,
              "#7201a8"
             ],
             [
              0.3333333333333333,
              "#9c179e"
             ],
             [
              0.4444444444444444,
              "#bd3786"
             ],
             [
              0.5555555555555556,
              "#d8576b"
             ],
             [
              0.6666666666666666,
              "#ed7953"
             ],
             [
              0.7777777777777778,
              "#fb9f3a"
             ],
             [
              0.8888888888888888,
              "#fdca26"
             ],
             [
              1,
              "#f0f921"
             ]
            ],
            "type": "histogram2d"
           }
          ],
          "histogram2dcontour": [
           {
            "colorbar": {
             "outlinewidth": 0,
             "ticks": ""
            },
            "colorscale": [
             [
              0,
              "#0d0887"
             ],
             [
              0.1111111111111111,
              "#46039f"
             ],
             [
              0.2222222222222222,
              "#7201a8"
             ],
             [
              0.3333333333333333,
              "#9c179e"
             ],
             [
              0.4444444444444444,
              "#bd3786"
             ],
             [
              0.5555555555555556,
              "#d8576b"
             ],
             [
              0.6666666666666666,
              "#ed7953"
             ],
             [
              0.7777777777777778,
              "#fb9f3a"
             ],
             [
              0.8888888888888888,
              "#fdca26"
             ],
             [
              1,
              "#f0f921"
             ]
            ],
            "type": "histogram2dcontour"
           }
          ],
          "mesh3d": [
           {
            "colorbar": {
             "outlinewidth": 0,
             "ticks": ""
            },
            "type": "mesh3d"
           }
          ],
          "parcoords": [
           {
            "line": {
             "colorbar": {
              "outlinewidth": 0,
              "ticks": ""
             }
            },
            "type": "parcoords"
           }
          ],
          "pie": [
           {
            "automargin": true,
            "type": "pie"
           }
          ],
          "scatter": [
           {
            "fillpattern": {
             "fillmode": "overlay",
             "size": 10,
             "solidity": 0.2
            },
            "type": "scatter"
           }
          ],
          "scatter3d": [
           {
            "line": {
             "colorbar": {
              "outlinewidth": 0,
              "ticks": ""
             }
            },
            "marker": {
             "colorbar": {
              "outlinewidth": 0,
              "ticks": ""
             }
            },
            "type": "scatter3d"
           }
          ],
          "scattercarpet": [
           {
            "marker": {
             "colorbar": {
              "outlinewidth": 0,
              "ticks": ""
             }
            },
            "type": "scattercarpet"
           }
          ],
          "scattergeo": [
           {
            "marker": {
             "colorbar": {
              "outlinewidth": 0,
              "ticks": ""
             }
            },
            "type": "scattergeo"
           }
          ],
          "scattergl": [
           {
            "marker": {
             "colorbar": {
              "outlinewidth": 0,
              "ticks": ""
             }
            },
            "type": "scattergl"
           }
          ],
          "scattermapbox": [
           {
            "marker": {
             "colorbar": {
              "outlinewidth": 0,
              "ticks": ""
             }
            },
            "type": "scattermapbox"
           }
          ],
          "scatterpolar": [
           {
            "marker": {
             "colorbar": {
              "outlinewidth": 0,
              "ticks": ""
             }
            },
            "type": "scatterpolar"
           }
          ],
          "scatterpolargl": [
           {
            "marker": {
             "colorbar": {
              "outlinewidth": 0,
              "ticks": ""
             }
            },
            "type": "scatterpolargl"
           }
          ],
          "scatterternary": [
           {
            "marker": {
             "colorbar": {
              "outlinewidth": 0,
              "ticks": ""
             }
            },
            "type": "scatterternary"
           }
          ],
          "surface": [
           {
            "colorbar": {
             "outlinewidth": 0,
             "ticks": ""
            },
            "colorscale": [
             [
              0,
              "#0d0887"
             ],
             [
              0.1111111111111111,
              "#46039f"
             ],
             [
              0.2222222222222222,
              "#7201a8"
             ],
             [
              0.3333333333333333,
              "#9c179e"
             ],
             [
              0.4444444444444444,
              "#bd3786"
             ],
             [
              0.5555555555555556,
              "#d8576b"
             ],
             [
              0.6666666666666666,
              "#ed7953"
             ],
             [
              0.7777777777777778,
              "#fb9f3a"
             ],
             [
              0.8888888888888888,
              "#fdca26"
             ],
             [
              1,
              "#f0f921"
             ]
            ],
            "type": "surface"
           }
          ],
          "table": [
           {
            "cells": {
             "fill": {
              "color": "#EBF0F8"
             },
             "line": {
              "color": "white"
             }
            },
            "header": {
             "fill": {
              "color": "#C8D4E3"
             },
             "line": {
              "color": "white"
             }
            },
            "type": "table"
           }
          ]
         },
         "layout": {
          "annotationdefaults": {
           "arrowcolor": "#2a3f5f",
           "arrowhead": 0,
           "arrowwidth": 1
          },
          "autotypenumbers": "strict",
          "coloraxis": {
           "colorbar": {
            "outlinewidth": 0,
            "ticks": ""
           }
          },
          "colorscale": {
           "diverging": [
            [
             0,
             "#8e0152"
            ],
            [
             0.1,
             "#c51b7d"
            ],
            [
             0.2,
             "#de77ae"
            ],
            [
             0.3,
             "#f1b6da"
            ],
            [
             0.4,
             "#fde0ef"
            ],
            [
             0.5,
             "#f7f7f7"
            ],
            [
             0.6,
             "#e6f5d0"
            ],
            [
             0.7,
             "#b8e186"
            ],
            [
             0.8,
             "#7fbc41"
            ],
            [
             0.9,
             "#4d9221"
            ],
            [
             1,
             "#276419"
            ]
           ],
           "sequential": [
            [
             0,
             "#0d0887"
            ],
            [
             0.1111111111111111,
             "#46039f"
            ],
            [
             0.2222222222222222,
             "#7201a8"
            ],
            [
             0.3333333333333333,
             "#9c179e"
            ],
            [
             0.4444444444444444,
             "#bd3786"
            ],
            [
             0.5555555555555556,
             "#d8576b"
            ],
            [
             0.6666666666666666,
             "#ed7953"
            ],
            [
             0.7777777777777778,
             "#fb9f3a"
            ],
            [
             0.8888888888888888,
             "#fdca26"
            ],
            [
             1,
             "#f0f921"
            ]
           ],
           "sequentialminus": [
            [
             0,
             "#0d0887"
            ],
            [
             0.1111111111111111,
             "#46039f"
            ],
            [
             0.2222222222222222,
             "#7201a8"
            ],
            [
             0.3333333333333333,
             "#9c179e"
            ],
            [
             0.4444444444444444,
             "#bd3786"
            ],
            [
             0.5555555555555556,
             "#d8576b"
            ],
            [
             0.6666666666666666,
             "#ed7953"
            ],
            [
             0.7777777777777778,
             "#fb9f3a"
            ],
            [
             0.8888888888888888,
             "#fdca26"
            ],
            [
             1,
             "#f0f921"
            ]
           ]
          },
          "colorway": [
           "#636efa",
           "#EF553B",
           "#00cc96",
           "#ab63fa",
           "#FFA15A",
           "#19d3f3",
           "#FF6692",
           "#B6E880",
           "#FF97FF",
           "#FECB52"
          ],
          "font": {
           "color": "#2a3f5f"
          },
          "geo": {
           "bgcolor": "white",
           "lakecolor": "white",
           "landcolor": "#E5ECF6",
           "showlakes": true,
           "showland": true,
           "subunitcolor": "white"
          },
          "hoverlabel": {
           "align": "left"
          },
          "hovermode": "closest",
          "mapbox": {
           "style": "light"
          },
          "paper_bgcolor": "white",
          "plot_bgcolor": "#E5ECF6",
          "polar": {
           "angularaxis": {
            "gridcolor": "white",
            "linecolor": "white",
            "ticks": ""
           },
           "bgcolor": "#E5ECF6",
           "radialaxis": {
            "gridcolor": "white",
            "linecolor": "white",
            "ticks": ""
           }
          },
          "scene": {
           "xaxis": {
            "backgroundcolor": "#E5ECF6",
            "gridcolor": "white",
            "gridwidth": 2,
            "linecolor": "white",
            "showbackground": true,
            "ticks": "",
            "zerolinecolor": "white"
           },
           "yaxis": {
            "backgroundcolor": "#E5ECF6",
            "gridcolor": "white",
            "gridwidth": 2,
            "linecolor": "white",
            "showbackground": true,
            "ticks": "",
            "zerolinecolor": "white"
           },
           "zaxis": {
            "backgroundcolor": "#E5ECF6",
            "gridcolor": "white",
            "gridwidth": 2,
            "linecolor": "white",
            "showbackground": true,
            "ticks": "",
            "zerolinecolor": "white"
           }
          },
          "shapedefaults": {
           "line": {
            "color": "#2a3f5f"
           }
          },
          "ternary": {
           "aaxis": {
            "gridcolor": "white",
            "linecolor": "white",
            "ticks": ""
           },
           "baxis": {
            "gridcolor": "white",
            "linecolor": "white",
            "ticks": ""
           },
           "bgcolor": "#E5ECF6",
           "caxis": {
            "gridcolor": "white",
            "linecolor": "white",
            "ticks": ""
           }
          },
          "title": {
           "x": 0.05
          },
          "xaxis": {
           "automargin": true,
           "gridcolor": "white",
           "linecolor": "white",
           "ticks": "",
           "title": {
            "standoff": 15
           },
           "zerolinecolor": "white",
           "zerolinewidth": 2
          },
          "yaxis": {
           "automargin": true,
           "gridcolor": "white",
           "linecolor": "white",
           "ticks": "",
           "title": {
            "standoff": 15
           },
           "zerolinecolor": "white",
           "zerolinewidth": 2
          }
         }
        },
        "xaxis": {
         "anchor": "y",
         "constrain": "domain",
         "domain": [
          0,
          1
         ],
         "scaleanchor": "y",
         "title": {
          "text": "Current Season Stats"
         }
        },
        "yaxis": {
         "anchor": "x",
         "autorange": "reversed",
         "constrain": "domain",
         "domain": [
          0,
          1
         ],
         "title": {
          "text": "Previous Season Stats"
         }
        }
       }
      },
      "text/html": [
       "<div>                            <div id=\"e129fc49-2276-4ae6-ab49-569e78f4d513\" class=\"plotly-graph-div\" style=\"height:525px; width:100%;\"></div>            <script type=\"text/javascript\">                require([\"plotly\"], function(Plotly) {                    window.PLOTLYENV=window.PLOTLYENV || {};                                    if (document.getElementById(\"e129fc49-2276-4ae6-ab49-569e78f4d513\")) {                    Plotly.newPlot(                        \"e129fc49-2276-4ae6-ab49-569e78f4d513\",                        [{\"coloraxis\":\"coloraxis\",\"name\":\"0\",\"texttemplate\":\"%{z}\",\"x\":[\"passing_yards_per_game\",\"passing_attempts_per_game\",\"total_epa_per_game\",\"passing_touchdowns_per_game\",\"completions_per_game\",\"fantasy_points_per_game\"],\"y\":[\"passing_yards_last_per_game\",\"passing_attempts_last_per_game\",\"total_epa_last_per_game\",\"passing_touchdowns_last_per_game\",\"completions_last_per_game\",\"fantasy_points_last_per_game\"],\"z\":[[0.75,0.73,0.49,0.7,0.73,0.62],[0.72,0.71,0.44,0.66,0.71,0.57],[0.57,0.52,0.51,0.56,0.54,0.54],[0.73,0.7,0.5,0.69,0.71,0.62],[0.73,0.71,0.47,0.67,0.72,0.59],[0.65,0.62,0.51,0.64,0.63,0.7]],\"type\":\"heatmap\",\"xaxis\":\"x\",\"yaxis\":\"y\",\"hovertemplate\":\"Current Season Stats: %{x}\\u003cbr\\u003ePrevious Season Stats: %{y}\\u003cbr\\u003ecolor: %{z}\\u003cextra\\u003e\\u003c\\u002fextra\\u003e\"}],                        {\"template\":{\"data\":{\"histogram2dcontour\":[{\"type\":\"histogram2dcontour\",\"colorbar\":{\"outlinewidth\":0,\"ticks\":\"\"},\"colorscale\":[[0.0,\"#0d0887\"],[0.1111111111111111,\"#46039f\"],[0.2222222222222222,\"#7201a8\"],[0.3333333333333333,\"#9c179e\"],[0.4444444444444444,\"#bd3786\"],[0.5555555555555556,\"#d8576b\"],[0.6666666666666666,\"#ed7953\"],[0.7777777777777778,\"#fb9f3a\"],[0.8888888888888888,\"#fdca26\"],[1.0,\"#f0f921\"]]}],\"choropleth\":[{\"type\":\"choropleth\",\"colorbar\":{\"outlinewidth\":0,\"ticks\":\"\"}}],\"histogram2d\":[{\"type\":\"histogram2d\",\"colorbar\":{\"outlinewidth\":0,\"ticks\":\"\"},\"colorscale\":[[0.0,\"#0d0887\"],[0.1111111111111111,\"#46039f\"],[0.2222222222222222,\"#7201a8\"],[0.3333333333333333,\"#9c179e\"],[0.4444444444444444,\"#bd3786\"],[0.5555555555555556,\"#d8576b\"],[0.6666666666666666,\"#ed7953\"],[0.7777777777777778,\"#fb9f3a\"],[0.8888888888888888,\"#fdca26\"],[1.0,\"#f0f921\"]]}],\"heatmap\":[{\"type\":\"heatmap\",\"colorbar\":{\"outlinewidth\":0,\"ticks\":\"\"},\"colorscale\":[[0.0,\"#0d0887\"],[0.1111111111111111,\"#46039f\"],[0.2222222222222222,\"#7201a8\"],[0.3333333333333333,\"#9c179e\"],[0.4444444444444444,\"#bd3786\"],[0.5555555555555556,\"#d8576b\"],[0.6666666666666666,\"#ed7953\"],[0.7777777777777778,\"#fb9f3a\"],[0.8888888888888888,\"#fdca26\"],[1.0,\"#f0f921\"]]}],\"heatmapgl\":[{\"type\":\"heatmapgl\",\"colorbar\":{\"outlinewidth\":0,\"ticks\":\"\"},\"colorscale\":[[0.0,\"#0d0887\"],[0.1111111111111111,\"#46039f\"],[0.2222222222222222,\"#7201a8\"],[0.3333333333333333,\"#9c179e\"],[0.4444444444444444,\"#bd3786\"],[0.5555555555555556,\"#d8576b\"],[0.6666666666666666,\"#ed7953\"],[0.7777777777777778,\"#fb9f3a\"],[0.8888888888888888,\"#fdca26\"],[1.0,\"#f0f921\"]]}],\"contourcarpet\":[{\"type\":\"contourcarpet\",\"colorbar\":{\"outlinewidth\":0,\"ticks\":\"\"}}],\"contour\":[{\"type\":\"contour\",\"colorbar\":{\"outlinewidth\":0,\"ticks\":\"\"},\"colorscale\":[[0.0,\"#0d0887\"],[0.1111111111111111,\"#46039f\"],[0.2222222222222222,\"#7201a8\"],[0.3333333333333333,\"#9c179e\"],[0.4444444444444444,\"#bd3786\"],[0.5555555555555556,\"#d8576b\"],[0.6666666666666666,\"#ed7953\"],[0.7777777777777778,\"#fb9f3a\"],[0.8888888888888888,\"#fdca26\"],[1.0,\"#f0f921\"]]}],\"surface\":[{\"type\":\"surface\",\"colorbar\":{\"outlinewidth\":0,\"ticks\":\"\"},\"colorscale\":[[0.0,\"#0d0887\"],[0.1111111111111111,\"#46039f\"],[0.2222222222222222,\"#7201a8\"],[0.3333333333333333,\"#9c179e\"],[0.4444444444444444,\"#bd3786\"],[0.5555555555555556,\"#d8576b\"],[0.6666666666666666,\"#ed7953\"],[0.7777777777777778,\"#fb9f3a\"],[0.8888888888888888,\"#fdca26\"],[1.0,\"#f0f921\"]]}],\"mesh3d\":[{\"type\":\"mesh3d\",\"colorbar\":{\"outlinewidth\":0,\"ticks\":\"\"}}],\"scatter\":[{\"fillpattern\":{\"fillmode\":\"overlay\",\"size\":10,\"solidity\":0.2},\"type\":\"scatter\"}],\"parcoords\":[{\"type\":\"parcoords\",\"line\":{\"colorbar\":{\"outlinewidth\":0,\"ticks\":\"\"}}}],\"scatterpolargl\":[{\"type\":\"scatterpolargl\",\"marker\":{\"colorbar\":{\"outlinewidth\":0,\"ticks\":\"\"}}}],\"bar\":[{\"error_x\":{\"color\":\"#2a3f5f\"},\"error_y\":{\"color\":\"#2a3f5f\"},\"marker\":{\"line\":{\"color\":\"#E5ECF6\",\"width\":0.5},\"pattern\":{\"fillmode\":\"overlay\",\"size\":10,\"solidity\":0.2}},\"type\":\"bar\"}],\"scattergeo\":[{\"type\":\"scattergeo\",\"marker\":{\"colorbar\":{\"outlinewidth\":0,\"ticks\":\"\"}}}],\"scatterpolar\":[{\"type\":\"scatterpolar\",\"marker\":{\"colorbar\":{\"outlinewidth\":0,\"ticks\":\"\"}}}],\"histogram\":[{\"marker\":{\"pattern\":{\"fillmode\":\"overlay\",\"size\":10,\"solidity\":0.2}},\"type\":\"histogram\"}],\"scattergl\":[{\"type\":\"scattergl\",\"marker\":{\"colorbar\":{\"outlinewidth\":0,\"ticks\":\"\"}}}],\"scatter3d\":[{\"type\":\"scatter3d\",\"line\":{\"colorbar\":{\"outlinewidth\":0,\"ticks\":\"\"}},\"marker\":{\"colorbar\":{\"outlinewidth\":0,\"ticks\":\"\"}}}],\"scattermapbox\":[{\"type\":\"scattermapbox\",\"marker\":{\"colorbar\":{\"outlinewidth\":0,\"ticks\":\"\"}}}],\"scatterternary\":[{\"type\":\"scatterternary\",\"marker\":{\"colorbar\":{\"outlinewidth\":0,\"ticks\":\"\"}}}],\"scattercarpet\":[{\"type\":\"scattercarpet\",\"marker\":{\"colorbar\":{\"outlinewidth\":0,\"ticks\":\"\"}}}],\"carpet\":[{\"aaxis\":{\"endlinecolor\":\"#2a3f5f\",\"gridcolor\":\"white\",\"linecolor\":\"white\",\"minorgridcolor\":\"white\",\"startlinecolor\":\"#2a3f5f\"},\"baxis\":{\"endlinecolor\":\"#2a3f5f\",\"gridcolor\":\"white\",\"linecolor\":\"white\",\"minorgridcolor\":\"white\",\"startlinecolor\":\"#2a3f5f\"},\"type\":\"carpet\"}],\"table\":[{\"cells\":{\"fill\":{\"color\":\"#EBF0F8\"},\"line\":{\"color\":\"white\"}},\"header\":{\"fill\":{\"color\":\"#C8D4E3\"},\"line\":{\"color\":\"white\"}},\"type\":\"table\"}],\"barpolar\":[{\"marker\":{\"line\":{\"color\":\"#E5ECF6\",\"width\":0.5},\"pattern\":{\"fillmode\":\"overlay\",\"size\":10,\"solidity\":0.2}},\"type\":\"barpolar\"}],\"pie\":[{\"automargin\":true,\"type\":\"pie\"}]},\"layout\":{\"autotypenumbers\":\"strict\",\"colorway\":[\"#636efa\",\"#EF553B\",\"#00cc96\",\"#ab63fa\",\"#FFA15A\",\"#19d3f3\",\"#FF6692\",\"#B6E880\",\"#FF97FF\",\"#FECB52\"],\"font\":{\"color\":\"#2a3f5f\"},\"hovermode\":\"closest\",\"hoverlabel\":{\"align\":\"left\"},\"paper_bgcolor\":\"white\",\"plot_bgcolor\":\"#E5ECF6\",\"polar\":{\"bgcolor\":\"#E5ECF6\",\"angularaxis\":{\"gridcolor\":\"white\",\"linecolor\":\"white\",\"ticks\":\"\"},\"radialaxis\":{\"gridcolor\":\"white\",\"linecolor\":\"white\",\"ticks\":\"\"}},\"ternary\":{\"bgcolor\":\"#E5ECF6\",\"aaxis\":{\"gridcolor\":\"white\",\"linecolor\":\"white\",\"ticks\":\"\"},\"baxis\":{\"gridcolor\":\"white\",\"linecolor\":\"white\",\"ticks\":\"\"},\"caxis\":{\"gridcolor\":\"white\",\"linecolor\":\"white\",\"ticks\":\"\"}},\"coloraxis\":{\"colorbar\":{\"outlinewidth\":0,\"ticks\":\"\"}},\"colorscale\":{\"sequential\":[[0.0,\"#0d0887\"],[0.1111111111111111,\"#46039f\"],[0.2222222222222222,\"#7201a8\"],[0.3333333333333333,\"#9c179e\"],[0.4444444444444444,\"#bd3786\"],[0.5555555555555556,\"#d8576b\"],[0.6666666666666666,\"#ed7953\"],[0.7777777777777778,\"#fb9f3a\"],[0.8888888888888888,\"#fdca26\"],[1.0,\"#f0f921\"]],\"sequentialminus\":[[0.0,\"#0d0887\"],[0.1111111111111111,\"#46039f\"],[0.2222222222222222,\"#7201a8\"],[0.3333333333333333,\"#9c179e\"],[0.4444444444444444,\"#bd3786\"],[0.5555555555555556,\"#d8576b\"],[0.6666666666666666,\"#ed7953\"],[0.7777777777777778,\"#fb9f3a\"],[0.8888888888888888,\"#fdca26\"],[1.0,\"#f0f921\"]],\"diverging\":[[0,\"#8e0152\"],[0.1,\"#c51b7d\"],[0.2,\"#de77ae\"],[0.3,\"#f1b6da\"],[0.4,\"#fde0ef\"],[0.5,\"#f7f7f7\"],[0.6,\"#e6f5d0\"],[0.7,\"#b8e186\"],[0.8,\"#7fbc41\"],[0.9,\"#4d9221\"],[1,\"#276419\"]]},\"xaxis\":{\"gridcolor\":\"white\",\"linecolor\":\"white\",\"ticks\":\"\",\"title\":{\"standoff\":15},\"zerolinecolor\":\"white\",\"automargin\":true,\"zerolinewidth\":2},\"yaxis\":{\"gridcolor\":\"white\",\"linecolor\":\"white\",\"ticks\":\"\",\"title\":{\"standoff\":15},\"zerolinecolor\":\"white\",\"automargin\":true,\"zerolinewidth\":2},\"scene\":{\"xaxis\":{\"backgroundcolor\":\"#E5ECF6\",\"gridcolor\":\"white\",\"linecolor\":\"white\",\"showbackground\":true,\"ticks\":\"\",\"zerolinecolor\":\"white\",\"gridwidth\":2},\"yaxis\":{\"backgroundcolor\":\"#E5ECF6\",\"gridcolor\":\"white\",\"linecolor\":\"white\",\"showbackground\":true,\"ticks\":\"\",\"zerolinecolor\":\"white\",\"gridwidth\":2},\"zaxis\":{\"backgroundcolor\":\"#E5ECF6\",\"gridcolor\":\"white\",\"linecolor\":\"white\",\"showbackground\":true,\"ticks\":\"\",\"zerolinecolor\":\"white\",\"gridwidth\":2}},\"shapedefaults\":{\"line\":{\"color\":\"#2a3f5f\"}},\"annotationdefaults\":{\"arrowcolor\":\"#2a3f5f\",\"arrowhead\":0,\"arrowwidth\":1},\"geo\":{\"bgcolor\":\"white\",\"landcolor\":\"#E5ECF6\",\"subunitcolor\":\"white\",\"showland\":true,\"showlakes\":true,\"lakecolor\":\"white\"},\"title\":{\"x\":0.05},\"mapbox\":{\"style\":\"light\"}}},\"xaxis\":{\"anchor\":\"y\",\"domain\":[0.0,1.0],\"scaleanchor\":\"y\",\"constrain\":\"domain\",\"title\":{\"text\":\"Current Season Stats\"}},\"yaxis\":{\"anchor\":\"x\",\"domain\":[0.0,1.0],\"autorange\":\"reversed\",\"constrain\":\"domain\",\"title\":{\"text\":\"Previous Season Stats\"}},\"coloraxis\":{\"colorscale\":[[0.0,\"#0d0887\"],[0.1111111111111111,\"#46039f\"],[0.2222222222222222,\"#7201a8\"],[0.3333333333333333,\"#9c179e\"],[0.4444444444444444,\"#bd3786\"],[0.5555555555555556,\"#d8576b\"],[0.6666666666666666,\"#ed7953\"],[0.7777777777777778,\"#fb9f3a\"],[0.8888888888888888,\"#fdca26\"],[1.0,\"#f0f921\"]]},\"margin\":{\"t\":60}},                        {\"responsive\": true}                    ).then(function(){\n",
       "                            \n",
       "var gd = document.getElementById('e129fc49-2276-4ae6-ab49-569e78f4d513');\n",
       "var x = new MutationObserver(function (mutations, observer) {{\n",
       "        var display = window.getComputedStyle(gd).display;\n",
       "        if (!display || display === 'none') {{\n",
       "            console.log([gd, 'removed!']);\n",
       "            Plotly.purge(gd);\n",
       "            observer.disconnect();\n",
       "        }}\n",
       "}});\n",
       "\n",
       "// Listen for the removal of the full notebook cells\n",
       "var notebookContainer = gd.closest('#notebook-container');\n",
       "if (notebookContainer) {{\n",
       "    x.observe(notebookContainer, {childList: true});\n",
       "}}\n",
       "\n",
       "// Listen for the clearing of the current output cell\n",
       "var outputEl = gd.closest('.output');\n",
       "if (outputEl) {{\n",
       "    x.observe(outputEl, {childList: true});\n",
       "}}\n",
       "\n",
       "                        })                };                });            </script>        </div>"
      ]
     },
     "metadata": {},
     "output_type": "display_data"
    },
    {
     "name": "stdout",
     "output_type": "stream",
     "text": [
      "\n",
      "Save path: unfiltered-scatter-passing_yards_per_game\n",
      "\n"
     ]
    },
    {
     "data": {
      "application/vnd.plotly.v1+json": {
       "config": {
        "plotlyServerURL": "https://plot.ly"
       },
       "data": [
        {
         "customdata": [
          [
           "M.Hasselbeck",
           2013,
           37
          ],
          [
           "M.Hasselbeck",
           2014,
           38
          ],
          [
           "M.Hasselbeck",
           2015,
           39
          ],
          [
           "P.Manning",
           2013,
           37
          ],
          [
           "P.Manning",
           2014,
           38
          ],
          [
           "P.Manning",
           2015,
           39
          ],
          [
           "T.Brady",
           2013,
           36
          ],
          [
           "T.Brady",
           2014,
           37
          ],
          [
           "T.Brady",
           2015,
           38
          ],
          [
           "T.Brady",
           2016,
           39
          ],
          [
           "T.Brady",
           2017,
           40
          ],
          [
           "T.Brady",
           2018,
           41
          ],
          [
           "T.Brady",
           2019,
           42
          ],
          [
           "T.Brady",
           2020,
           43
          ],
          [
           "T.Brady",
           2021,
           44
          ],
          [
           "T.Brady",
           2022,
           45
          ],
          [
           "M.Vick",
           2013,
           33
          ],
          [
           "M.Vick",
           2014,
           34
          ],
          [
           "M.Vick",
           2015,
           35
          ],
          [
           "D.Brees",
           2013,
           34
          ],
          [
           "D.Brees",
           2014,
           35
          ],
          [
           "D.Brees",
           2015,
           36
          ],
          [
           "D.Brees",
           2016,
           37
          ],
          [
           "D.Brees",
           2017,
           38
          ],
          [
           "D.Brees",
           2018,
           39
          ],
          [
           "D.Brees",
           2019,
           40
          ],
          [
           "D.Brees",
           2020,
           41
          ],
          [
           "S.Hill",
           2015,
           35
          ],
          [
           "S.Hill",
           2016,
           36
          ],
          [
           "J.McCown",
           2014,
           35
          ],
          [
           "J.McCown",
           2015,
           36
          ],
          [
           "J.McCown",
           2016,
           37
          ],
          [
           "J.McCown",
           2017,
           38
          ],
          [
           "J.McCown",
           2018,
           39
          ],
          [
           "J.McCown",
           2019,
           40
          ],
          [
           "C.Palmer",
           2013,
           33
          ],
          [
           "C.Palmer",
           2014,
           34
          ],
          [
           "C.Palmer",
           2015,
           35
          ],
          [
           "C.Palmer",
           2016,
           36
          ],
          [
           "C.Palmer",
           2017,
           37
          ],
          [
           "T.Romo",
           2013,
           33
          ],
          [
           "T.Romo",
           2014,
           34
          ],
          [
           "T.Romo",
           2015,
           35
          ],
          [
           "T.Romo",
           2016,
           36
          ],
          [
           "M.Schaub",
           2013,
           32
          ],
          [
           "M.Schaub",
           2014,
           33
          ],
          [
           "M.Schaub",
           2015,
           34
          ],
          [
           "M.Schaub",
           2016,
           35
          ],
          [
           "M.Schaub",
           2019,
           38
          ],
          [
           "E.Manning",
           2013,
           32
          ],
          [
           "E.Manning",
           2014,
           33
          ],
          [
           "E.Manning",
           2015,
           34
          ],
          [
           "E.Manning",
           2016,
           35
          ],
          [
           "E.Manning",
           2017,
           36
          ],
          [
           "E.Manning",
           2018,
           37
          ],
          [
           "E.Manning",
           2019,
           38
          ],
          [
           "A.Lee",
           2020,
           38
          ],
          [
           "L.Fitzgerald",
           2017,
           34
          ],
          [
           "L.Fitzgerald",
           2018,
           35
          ],
          [
           "B.Roethlisberger",
           2013,
           31
          ],
          [
           "B.Roethlisberger",
           2014,
           32
          ],
          [
           "B.Roethlisberger",
           2015,
           33
          ],
          [
           "B.Roethlisberger",
           2016,
           34
          ],
          [
           "B.Roethlisberger",
           2017,
           35
          ],
          [
           "B.Roethlisberger",
           2018,
           36
          ],
          [
           "B.Roethlisberger",
           2019,
           37
          ],
          [
           "B.Roethlisberger",
           2020,
           38
          ],
          [
           "B.Roethlisberger",
           2021,
           39
          ],
          [
           "P.Rivers",
           2013,
           31
          ],
          [
           "P.Rivers",
           2014,
           32
          ],
          [
           "P.Rivers",
           2015,
           33
          ],
          [
           "P.Rivers",
           2016,
           34
          ],
          [
           "P.Rivers",
           2017,
           35
          ],
          [
           "P.Rivers",
           2018,
           36
          ],
          [
           "P.Rivers",
           2019,
           37
          ],
          [
           "P.Rivers",
           2020,
           38
          ],
          [
           "A.Smith",
           2013,
           29
          ],
          [
           "A.Smith",
           2014,
           30
          ],
          [
           "A.Smith",
           2015,
           31
          ],
          [
           "A.Smith",
           2016,
           32
          ],
          [
           "A.Smith",
           2017,
           33
          ],
          [
           "A.Smith",
           2018,
           34
          ],
          [
           "A.Rodgers",
           2013,
           29
          ],
          [
           "A.Rodgers",
           2014,
           30
          ],
          [
           "A.Rodgers",
           2015,
           31
          ],
          [
           "A.Rodgers",
           2016,
           32
          ],
          [
           "A.Rodgers",
           2017,
           33
          ],
          [
           "A.Rodgers",
           2018,
           34
          ],
          [
           "A.Rodgers",
           2019,
           35
          ],
          [
           "A.Rodgers",
           2020,
           36
          ],
          [
           "A.Rodgers",
           2021,
           37
          ],
          [
           "A.Rodgers",
           2022,
           38
          ],
          [
           "J.Campbell",
           2013,
           31
          ],
          [
           "J.Campbell",
           2014,
           32
          ],
          [
           "K.Orton",
           2013,
           30
          ],
          [
           "K.Orton",
           2014,
           31
          ],
          [
           "D.Anderson",
           2015,
           32
          ],
          [
           "D.Anderson",
           2016,
           33
          ],
          [
           "D.Anderson",
           2017,
           34
          ],
          [
           "D.Anderson",
           2018,
           35
          ],
          [
           "M.Cassel",
           2013,
           31
          ],
          [
           "M.Cassel",
           2014,
           32
          ],
          [
           "M.Cassel",
           2015,
           33
          ],
          [
           "M.Cassel",
           2016,
           34
          ],
          [
           "M.Cassel",
           2017,
           35
          ],
          [
           "M.Cassel",
           2018,
           36
          ],
          [
           "R.Fitzpatrick",
           2013,
           30
          ],
          [
           "R.Fitzpatrick",
           2014,
           31
          ],
          [
           "R.Fitzpatrick",
           2015,
           32
          ],
          [
           "R.Fitzpatrick",
           2016,
           33
          ],
          [
           "R.Fitzpatrick",
           2017,
           34
          ],
          [
           "R.Fitzpatrick",
           2018,
           35
          ],
          [
           "R.Fitzpatrick",
           2019,
           36
          ],
          [
           "R.Fitzpatrick",
           2020,
           37
          ],
          [
           "R.Fitzpatrick",
           2021,
           38
          ],
          [
           "J.Ryan",
           2017,
           35
          ],
          [
           "J.Cutler",
           2013,
           30
          ],
          [
           "J.Cutler",
           2014,
           31
          ],
          [
           "J.Cutler",
           2015,
           32
          ],
          [
           "J.Cutler",
           2016,
           33
          ],
          [
           "J.Cutler",
           2017,
           34
          ],
          [
           "K.Clemens",
           2013,
           30
          ],
          [
           "K.Clemens",
           2014,
           31
          ],
          [
           "K.Clemens",
           2015,
           32
          ],
          [
           "K.Clemens",
           2016,
           33
          ],
          [
           "K.Clemens",
           2017,
           34
          ],
          [
           "T.Jackson",
           2014,
           31
          ],
          [
           "T.Jackson",
           2015,
           32
          ],
          [
           "C.Whitehurst",
           2015,
           33
          ],
          [
           "C.Whitehurst",
           2016,
           34
          ],
          [
           "B.Smith",
           2013,
           29
          ],
          [
           "S.Koch",
           2018,
           36
          ],
          [
           "S.Koch",
           2019,
           37
          ],
          [
           "S.Koch",
           2020,
           38
          ],
          [
           "S.Koch",
           2021,
           39
          ],
          [
           "D.Stanton",
           2015,
           31
          ],
          [
           "D.Stanton",
           2016,
           32
          ],
          [
           "D.Stanton",
           2017,
           33
          ],
          [
           "M.Moore",
           2013,
           29
          ],
          [
           "M.Moore",
           2014,
           30
          ],
          [
           "M.Moore",
           2015,
           31
          ],
          [
           "M.Moore",
           2016,
           32
          ],
          [
           "M.Moore",
           2017,
           33
          ],
          [
           "B.Kern",
           2020,
           34
          ],
          [
           "D.Amendola",
           2019,
           33
          ],
          [
           "M.Ryan",
           2013,
           28
          ],
          [
           "M.Ryan",
           2014,
           29
          ],
          [
           "M.Ryan",
           2015,
           30
          ],
          [
           "M.Ryan",
           2016,
           31
          ],
          [
           "M.Ryan",
           2017,
           32
          ],
          [
           "M.Ryan",
           2018,
           33
          ],
          [
           "M.Ryan",
           2019,
           34
          ],
          [
           "M.Ryan",
           2020,
           35
          ],
          [
           "M.Ryan",
           2021,
           36
          ],
          [
           "M.Ryan",
           2022,
           37
          ],
          [
           "D.McFadden",
           2014,
           27
          ],
          [
           "D.McFadden",
           2015,
           28
          ],
          [
           "J.Flacco",
           2013,
           28
          ],
          [
           "J.Flacco",
           2014,
           29
          ],
          [
           "J.Flacco",
           2015,
           30
          ],
          [
           "J.Flacco",
           2016,
           31
          ],
          [
           "J.Flacco",
           2017,
           32
          ],
          [
           "J.Flacco",
           2018,
           33
          ],
          [
           "J.Flacco",
           2019,
           34
          ],
          [
           "J.Flacco",
           2020,
           35
          ],
          [
           "J.Flacco",
           2021,
           36
          ],
          [
           "J.Flacco",
           2022,
           37
          ],
          [
           "C.Henne",
           2013,
           28
          ],
          [
           "C.Henne",
           2014,
           29
          ],
          [
           "C.Henne",
           2018,
           33
          ],
          [
           "C.Henne",
           2021,
           36
          ],
          [
           "C.Henne",
           2022,
           37
          ],
          [
           "J.Johnson",
           2022,
           36
          ],
          [
           "M.Flynn",
           2013,
           28
          ],
          [
           "M.Flynn",
           2014,
           29
          ],
          [
           "M.Stafford",
           2013,
           25
          ],
          [
           "M.Stafford",
           2014,
           26
          ],
          [
           "M.Stafford",
           2015,
           27
          ],
          [
           "M.Stafford",
           2016,
           28
          ],
          [
           "M.Stafford",
           2017,
           29
          ],
          [
           "M.Stafford",
           2018,
           30
          ],
          [
           "M.Stafford",
           2019,
           31
          ],
          [
           "M.Stafford",
           2020,
           32
          ],
          [
           "M.Stafford",
           2021,
           33
          ],
          [
           "M.Stafford",
           2022,
           34
          ],
          [
           "C.Daniel",
           2013,
           26
          ],
          [
           "C.Daniel",
           2014,
           27
          ],
          [
           "C.Daniel",
           2015,
           28
          ],
          [
           "C.Daniel",
           2016,
           29
          ],
          [
           "C.Daniel",
           2019,
           32
          ],
          [
           "C.Daniel",
           2020,
           33
          ],
          [
           "B.Hoyer",
           2013,
           27
          ],
          [
           "B.Hoyer",
           2014,
           28
          ],
          [
           "B.Hoyer",
           2015,
           29
          ],
          [
           "B.Hoyer",
           2016,
           30
          ],
          [
           "B.Hoyer",
           2017,
           31
          ],
          [
           "B.Hoyer",
           2018,
           32
          ],
          [
           "B.Hoyer",
           2019,
           33
          ],
          [
           "B.Hoyer",
           2020,
           34
          ],
          [
           "B.Hoyer",
           2021,
           35
          ],
          [
           "B.Hoyer",
           2022,
           36
          ],
          [
           "M.Sanchez",
           2015,
           28
          ],
          [
           "M.Sanchez",
           2016,
           29
          ],
          [
           "J.Freeman",
           2013,
           25
          ],
          [
           "J.Edelman",
           2019,
           33
          ],
          [
           "J.Edelman",
           2020,
           34
          ],
          [
           "T.Lewis",
           2013,
           25
          ],
          [
           "J.Clausen",
           2015,
           27
          ],
          [
           "E.Sanders",
           2019,
           32
          ],
          [
           "C.McCoy",
           2013,
           26
          ],
          [
           "C.McCoy",
           2014,
           27
          ],
          [
           "C.McCoy",
           2015,
           28
          ],
          [
           "C.McCoy",
           2019,
           32
          ],
          [
           "C.McCoy",
           2020,
           33
          ],
          [
           "C.McCoy",
           2021,
           34
          ],
          [
           "C.McCoy",
           2022,
           35
          ],
          [
           "A.Brown",
           2013,
           25
          ],
          [
           "A.Brown",
           2014,
           26
          ],
          [
           "S.Bradford",
           2013,
           25
          ],
          [
           "S.Bradford",
           2016,
           28
          ],
          [
           "S.Bradford",
           2017,
           29
          ],
          [
           "S.Bradford",
           2018,
           30
          ],
          [
           "C.Newton",
           2013,
           24
          ],
          [
           "C.Newton",
           2014,
           25
          ],
          [
           "C.Newton",
           2015,
           26
          ],
          [
           "C.Newton",
           2016,
           27
          ],
          [
           "C.Newton",
           2017,
           28
          ],
          [
           "C.Newton",
           2018,
           29
          ],
          [
           "C.Newton",
           2019,
           30
          ],
          [
           "C.Newton",
           2020,
           31
          ],
          [
           "C.Newton",
           2021,
           32
          ],
          [
           "J.Locker",
           2013,
           25
          ],
          [
           "J.Locker",
           2014,
           26
          ],
          [
           "B.Gabbert",
           2013,
           23
          ],
          [
           "B.Gabbert",
           2014,
           24
          ],
          [
           "B.Gabbert",
           2015,
           25
          ],
          [
           "B.Gabbert",
           2016,
           26
          ],
          [
           "B.Gabbert",
           2017,
           27
          ],
          [
           "B.Gabbert",
           2018,
           28
          ],
          [
           "B.Gabbert",
           2021,
           31
          ],
          [
           "B.Gabbert",
           2022,
           32
          ],
          [
           "C.Ponder",
           2013,
           25
          ],
          [
           "C.Ponder",
           2014,
           26
          ],
          [
           "A.Dalton",
           2013,
           25
          ],
          [
           "A.Dalton",
           2014,
           26
          ],
          [
           "A.Dalton",
           2015,
           27
          ],
          [
           "A.Dalton",
           2016,
           28
          ],
          [
           "A.Dalton",
           2017,
           29
          ],
          [
           "A.Dalton",
           2018,
           30
          ],
          [
           "A.Dalton",
           2019,
           31
          ],
          [
           "A.Dalton",
           2020,
           32
          ],
          [
           "A.Dalton",
           2021,
           33
          ],
          [
           "A.Dalton",
           2022,
           34
          ],
          [
           "C.Kaepernick",
           2013,
           25
          ],
          [
           "C.Kaepernick",
           2014,
           26
          ],
          [
           "C.Kaepernick",
           2015,
           27
          ],
          [
           "C.Kaepernick",
           2016,
           28
          ],
          [
           "R.Cobb",
           2020,
           30
          ],
          [
           "R.Mallett",
           2015,
           27
          ],
          [
           "R.Mallett",
           2016,
           28
          ],
          [
           "R.Mallett",
           2017,
           29
          ],
          [
           "T.Yates",
           2013,
           26
          ],
          [
           "T.Yates",
           2014,
           27
          ],
          [
           "T.Yates",
           2015,
           28
          ],
          [
           "J.Kerley",
           2013,
           24
          ],
          [
           "J.Kerley",
           2014,
           25
          ],
          [
           "T.Taylor",
           2013,
           24
          ],
          [
           "T.Taylor",
           2016,
           27
          ],
          [
           "T.Taylor",
           2017,
           28
          ],
          [
           "T.Taylor",
           2018,
           29
          ],
          [
           "T.Taylor",
           2019,
           30
          ],
          [
           "T.Taylor",
           2020,
           31
          ],
          [
           "T.Taylor",
           2021,
           32
          ],
          [
           "T.Taylor",
           2022,
           33
          ],
          [
           "S.Tolzien",
           2016,
           28
          ],
          [
           "S.Tolzien",
           2017,
           29
          ],
          [
           "T.Pryor",
           2013,
           24
          ],
          [
           "J.Hekker",
           2013,
           23
          ],
          [
           "J.Hekker",
           2014,
           24
          ],
          [
           "J.Hekker",
           2015,
           25
          ],
          [
           "J.Hekker",
           2016,
           26
          ],
          [
           "J.Hekker",
           2017,
           27
          ],
          [
           "J.Hekker",
           2018,
           28
          ],
          [
           "J.Hekker",
           2019,
           29
          ],
          [
           "A.Davis",
           2015,
           26
          ],
          [
           "C.Keenum",
           2014,
           26
          ],
          [
           "C.Keenum",
           2015,
           27
          ],
          [
           "C.Keenum",
           2016,
           28
          ],
          [
           "C.Keenum",
           2017,
           29
          ],
          [
           "C.Keenum",
           2018,
           30
          ],
          [
           "C.Keenum",
           2019,
           31
          ],
          [
           "C.Keenum",
           2020,
           32
          ],
          [
           "C.Keenum",
           2021,
           33
          ],
          [
           "C.Keenum",
           2022,
           34
          ],
          [
           "C.Beasley",
           2021,
           32
          ],
          [
           "M.Simms",
           2014,
           25
          ],
          [
           "R.Wilson",
           2013,
           24
          ],
          [
           "R.Wilson",
           2014,
           25
          ],
          [
           "R.Wilson",
           2015,
           26
          ],
          [
           "R.Wilson",
           2016,
           27
          ],
          [
           "R.Wilson",
           2017,
           28
          ],
          [
           "R.Wilson",
           2018,
           29
          ],
          [
           "R.Wilson",
           2019,
           30
          ],
          [
           "R.Wilson",
           2020,
           31
          ],
          [
           "R.Wilson",
           2021,
           32
          ],
          [
           "R.Wilson",
           2022,
           33
          ],
          [
           "B.Rainey",
           2014,
           26
          ],
          [
           "R.Lindley",
           2015,
           26
          ],
          [
           "N.Foles",
           2013,
           24
          ],
          [
           "N.Foles",
           2014,
           25
          ],
          [
           "N.Foles",
           2015,
           26
          ],
          [
           "N.Foles",
           2016,
           27
          ],
          [
           "N.Foles",
           2017,
           28
          ],
          [
           "N.Foles",
           2018,
           29
          ],
          [
           "N.Foles",
           2019,
           30
          ],
          [
           "N.Foles",
           2020,
           31
          ],
          [
           "N.Foles",
           2021,
           32
          ],
          [
           "N.Foles",
           2022,
           33
          ],
          [
           "K.Cousins",
           2013,
           25
          ],
          [
           "K.Cousins",
           2014,
           26
          ],
          [
           "K.Cousins",
           2015,
           27
          ],
          [
           "K.Cousins",
           2016,
           28
          ],
          [
           "K.Cousins",
           2017,
           29
          ],
          [
           "K.Cousins",
           2018,
           30
          ],
          [
           "K.Cousins",
           2019,
           31
          ],
          [
           "K.Cousins",
           2020,
           32
          ],
          [
           "K.Cousins",
           2021,
           33
          ],
          [
           "K.Cousins",
           2022,
           34
          ],
          [
           "M.Sanu",
           2013,
           24
          ],
          [
           "M.Sanu",
           2014,
           25
          ],
          [
           "M.Sanu",
           2018,
           29
          ],
          [
           "R.Griffin III",
           2013,
           23
          ],
          [
           "R.Griffin III",
           2014,
           24
          ],
          [
           "R.Griffin III",
           2019,
           29
          ],
          [
           "R.Griffin III",
           2020,
           30
          ],
          [
           "A.Luck",
           2013,
           23
          ],
          [
           "A.Luck",
           2014,
           24
          ],
          [
           "A.Luck",
           2015,
           25
          ],
          [
           "A.Luck",
           2016,
           26
          ],
          [
           "B.Weeden",
           2013,
           29
          ],
          [
           "B.Weeden",
           2014,
           30
          ],
          [
           "B.Weeden",
           2015,
           31
          ],
          [
           "B.Osweiler",
           2013,
           22
          ],
          [
           "B.Osweiler",
           2014,
           23
          ],
          [
           "B.Osweiler",
           2015,
           24
          ],
          [
           "B.Osweiler",
           2016,
           25
          ],
          [
           "B.Osweiler",
           2017,
           26
          ],
          [
           "B.Osweiler",
           2018,
           27
          ],
          [
           "R.Tannehill",
           2013,
           25
          ],
          [
           "R.Tannehill",
           2014,
           26
          ],
          [
           "R.Tannehill",
           2015,
           27
          ],
          [
           "R.Tannehill",
           2016,
           28
          ],
          [
           "R.Tannehill",
           2019,
           31
          ],
          [
           "R.Tannehill",
           2020,
           32
          ],
          [
           "R.Tannehill",
           2021,
           33
          ],
          [
           "R.Tannehill",
           2022,
           34
          ],
          [
           "K.Allen",
           2021,
           29
          ],
          [
           "R.Burkhead",
           2022,
           32
          ],
          [
           "M.McGloin",
           2014,
           24
          ],
          [
           "M.McGloin",
           2015,
           25
          ],
          [
           "M.McGloin",
           2016,
           26
          ],
          [
           "M.Glennon",
           2014,
           24
          ],
          [
           "M.Glennon",
           2017,
           27
          ],
          [
           "M.Glennon",
           2018,
           28
          ],
          [
           "M.Glennon",
           2019,
           29
          ],
          [
           "M.Glennon",
           2020,
           30
          ],
          [
           "M.Glennon",
           2021,
           31
          ],
          [
           "L.Jones",
           2016,
           27
          ],
          [
           "L.Jones",
           2017,
           28
          ],
          [
           "E.Manuel",
           2014,
           24
          ],
          [
           "E.Manuel",
           2015,
           25
          ],
          [
           "E.Manuel",
           2016,
           26
          ],
          [
           "E.Manuel",
           2017,
           27
          ],
          [
           "M.Barkley",
           2014,
           23
          ],
          [
           "M.Barkley",
           2019,
           28
          ],
          [
           "M.Barkley",
           2020,
           29
          ],
          [
           "D.Robinson",
           2014,
           23
          ],
          [
           "D.Hopkins",
           2019,
           27
          ],
          [
           "G.Smith",
           2014,
           23
          ],
          [
           "G.Smith",
           2015,
           24
          ],
          [
           "G.Smith",
           2016,
           25
          ],
          [
           "G.Smith",
           2017,
           26
          ],
          [
           "G.Smith",
           2018,
           27
          ],
          [
           "G.Smith",
           2021,
           30
          ],
          [
           "G.Smith",
           2022,
           31
          ],
          [
           "R.Nassib",
           2015,
           25
          ],
          [
           "A.Wilson",
           2019,
           27
          ],
          [
           "T.Savage",
           2017,
           27
          ],
          [
           "D.Fales",
           2017,
           26
          ],
          [
           "O.Beckham",
           2019,
           26
          ],
          [
           "O.Beckham",
           2020,
           27
          ],
          [
           "T.Bridgewater",
           2015,
           22
          ],
          [
           "T.Bridgewater",
           2018,
           25
          ],
          [
           "T.Bridgewater",
           2019,
           26
          ],
          [
           "T.Bridgewater",
           2020,
           27
          ],
          [
           "T.Bridgewater",
           2021,
           28
          ],
          [
           "T.Bridgewater",
           2022,
           29
          ],
          [
           "Z.Mettenberger",
           2015,
           24
          ],
          [
           "D.Carr",
           2015,
           24
          ],
          [
           "D.Carr",
           2016,
           25
          ],
          [
           "D.Carr",
           2017,
           26
          ],
          [
           "D.Carr",
           2018,
           27
          ],
          [
           "D.Carr",
           2019,
           28
          ],
          [
           "D.Carr",
           2020,
           29
          ],
          [
           "D.Carr",
           2021,
           30
          ],
          [
           "D.Carr",
           2022,
           31
          ],
          [
           "A.McCarron",
           2018,
           27
          ],
          [
           "A.McCarron",
           2019,
           28
          ],
          [
           "A.McCarron",
           2020,
           29
          ],
          [
           "J.Garoppolo",
           2015,
           23
          ],
          [
           "J.Garoppolo",
           2016,
           24
          ],
          [
           "J.Garoppolo",
           2017,
           25
          ],
          [
           "J.Garoppolo",
           2018,
           26
          ],
          [
           "J.Garoppolo",
           2019,
           27
          ],
          [
           "J.Garoppolo",
           2020,
           28
          ],
          [
           "J.Garoppolo",
           2021,
           29
          ],
          [
           "J.Garoppolo",
           2022,
           30
          ],
          [
           "J.Landry",
           2016,
           23
          ],
          [
           "J.Landry",
           2017,
           24
          ],
          [
           "J.Landry",
           2018,
           25
          ],
          [
           "G.Gilbert",
           2019,
           28
          ],
          [
           "G.Gilbert",
           2020,
           29
          ],
          [
           "G.Gilbert",
           2021,
           30
          ],
          [
           "B.Bortles",
           2015,
           23
          ],
          [
           "B.Bortles",
           2016,
           24
          ],
          [
           "B.Bortles",
           2017,
           25
          ],
          [
           "B.Bortles",
           2018,
           26
          ],
          [
           "B.Bortles",
           2019,
           27
          ],
          [
           "J.Manziel",
           2015,
           22
          ],
          [
           "M.Lee",
           2017,
           25
          ],
          [
           "J.Winston",
           2016,
           22
          ],
          [
           "J.Winston",
           2017,
           23
          ],
          [
           "J.Winston",
           2018,
           24
          ],
          [
           "J.Winston",
           2019,
           25
          ],
          [
           "J.Winston",
           2020,
           26
          ],
          [
           "J.Winston",
           2021,
           27
          ],
          [
           "J.Winston",
           2022,
           28
          ],
          [
           "B.Petty",
           2017,
           26
          ],
          [
           "B.Hundley",
           2017,
           24
          ],
          [
           "T.Heinicke",
           2018,
           25
          ],
          [
           "T.Heinicke",
           2021,
           28
          ],
          [
           "T.Heinicke",
           2022,
           29
          ],
          [
           "T.Siemian",
           2017,
           25
          ],
          [
           "T.Siemian",
           2022,
           30
          ],
          [
           "S.Mannion",
           2016,
           24
          ],
          [
           "S.Mannion",
           2017,
           25
          ],
          [
           "S.Mannion",
           2018,
           26
          ],
          [
           "S.Mannion",
           2019,
           27
          ],
          [
           "M.Mariota",
           2016,
           22
          ],
          [
           "M.Mariota",
           2017,
           23
          ],
          [
           "M.Mariota",
           2018,
           24
          ],
          [
           "M.Mariota",
           2019,
           25
          ],
          [
           "M.Mariota",
           2020,
           26
          ],
          [
           "M.Mariota",
           2021,
           27
          ],
          [
           "M.Mariota",
           2022,
           28
          ],
          [
           "B.Allen",
           2020,
           27
          ],
          [
           "B.Allen",
           2021,
           28
          ],
          [
           "B.Allen",
           2022,
           29
          ],
          [
           "J.Driskel",
           2019,
           26
          ],
          [
           "J.Driskel",
           2020,
           27
          ],
          [
           "T.McEvoy",
           2017,
           24
          ],
          [
           "A.Erickson",
           2020,
           27
          ],
          [
           "D.Henry",
           2022,
           28
          ],
          [
           "K.Hogan",
           2017,
           24
          ],
          [
           "N.Sudfeld",
           2018,
           24
          ],
          [
           "R.Dixon",
           2021,
           28
          ],
          [
           "R.Dixon",
           2022,
           29
          ],
          [
           "C.Wentz",
           2017,
           24
          ],
          [
           "C.Wentz",
           2018,
           25
          ],
          [
           "C.Wentz",
           2019,
           26
          ],
          [
           "C.Wentz",
           2020,
           27
          ],
          [
           "C.Wentz",
           2021,
           28
          ],
          [
           "C.Wentz",
           2022,
           29
          ],
          [
           "T.Boyd",
           2021,
           26
          ],
          [
           "T.Boyd",
           2022,
           27
          ],
          [
           "D.Prescott",
           2017,
           24
          ],
          [
           "D.Prescott",
           2018,
           25
          ],
          [
           "D.Prescott",
           2019,
           26
          ],
          [
           "D.Prescott",
           2020,
           27
          ],
          [
           "D.Prescott",
           2021,
           28
          ],
          [
           "D.Prescott",
           2022,
           29
          ],
          [
           "C.Kessler",
           2017,
           24
          ],
          [
           "C.Kessler",
           2018,
           25
          ],
          [
           "J.Goff",
           2017,
           22
          ],
          [
           "J.Goff",
           2018,
           23
          ],
          [
           "J.Goff",
           2019,
           24
          ],
          [
           "J.Goff",
           2020,
           25
          ],
          [
           "J.Goff",
           2021,
           26
          ],
          [
           "J.Goff",
           2022,
           27
          ],
          [
           "P.Lynch",
           2017,
           23
          ],
          [
           "J.Brissett",
           2017,
           24
          ],
          [
           "J.Brissett",
           2018,
           25
          ],
          [
           "J.Brissett",
           2019,
           26
          ],
          [
           "J.Brissett",
           2020,
           27
          ],
          [
           "J.Brissett",
           2021,
           28
          ],
          [
           "J.Brissett",
           2022,
           29
          ],
          [
           "Z.Pascal",
           2020,
           25
          ],
          [
           "P.Walker",
           2021,
           26
          ],
          [
           "P.Walker",
           2022,
           27
          ],
          [
           "C.McCaffrey",
           2019,
           23
          ],
          [
           "N.Mullens",
           2021,
           26
          ],
          [
           "N.Mullens",
           2022,
           27
          ],
          [
           "T.Hill",
           2019,
           29
          ],
          [
           "T.Hill",
           2020,
           30
          ],
          [
           "T.Hill",
           2021,
           31
          ],
          [
           "T.Hill",
           2022,
           32
          ],
          [
           "D.Watson",
           2018,
           22
          ],
          [
           "D.Watson",
           2019,
           23
          ],
          [
           "D.Watson",
           2020,
           24
          ],
          [
           "T.Cohen",
           2018,
           23
          ],
          [
           "C.Rush",
           2022,
           28
          ],
          [
           "G.Ward",
           2021,
           26
          ],
          [
           "L.Fournette",
           2022,
           27
          ],
          [
           "M.Trubisky",
           2018,
           24
          ],
          [
           "M.Trubisky",
           2019,
           25
          ],
          [
           "M.Trubisky",
           2020,
           26
          ],
          [
           "M.Trubisky",
           2021,
           27
          ],
          [
           "M.Trubisky",
           2022,
           28
          ],
          [
           "P.Mahomes",
           2018,
           22
          ],
          [
           "P.Mahomes",
           2019,
           23
          ],
          [
           "P.Mahomes",
           2020,
           24
          ],
          [
           "P.Mahomes",
           2021,
           25
          ],
          [
           "P.Mahomes",
           2022,
           26
          ],
          [
           "D.Kizer",
           2018,
           22
          ],
          [
           "C.Kupp",
           2022,
           29
          ],
          [
           "C.Beathard",
           2018,
           24
          ],
          [
           "C.Beathard",
           2021,
           27
          ],
          [
           "C.Beathard",
           2022,
           28
          ],
          [
           "N.Peterman",
           2018,
           24
          ],
          [
           "T.Boyle",
           2022,
           27
          ],
          [
           "J.Rosen",
           2019,
           22
          ],
          [
           "M.White",
           2022,
           27
          ],
          [
           "C.Wilson",
           2021,
           25
          ],
          [
           "L.Cooke",
           2019,
           24
          ],
          [
           "K.Allen",
           2019,
           23
          ],
          [
           "K.Allen",
           2020,
           24
          ],
          [
           "K.Allen",
           2021,
           25
          ],
          [
           "K.Allen",
           2022,
           26
          ],
          [
           "M.Rudolph",
           2020,
           25
          ],
          [
           "M.Rudolph",
           2021,
           26
          ],
          [
           "C.Kirk",
           2022,
           25
          ],
          [
           "L.Jackson",
           2019,
           22
          ],
          [
           "L.Jackson",
           2020,
           23
          ],
          [
           "L.Jackson",
           2021,
           24
          ],
          [
           "L.Jackson",
           2022,
           25
          ],
          [
           "B.Mayfield",
           2019,
           24
          ],
          [
           "B.Mayfield",
           2020,
           25
          ],
          [
           "B.Mayfield",
           2021,
           26
          ],
          [
           "B.Mayfield",
           2022,
           27
          ],
          [
           "J.Allen",
           2019,
           23
          ],
          [
           "J.Allen",
           2020,
           24
          ],
          [
           "J.Allen",
           2021,
           25
          ],
          [
           "J.Allen",
           2022,
           26
          ],
          [
           "S.Darnold",
           2019,
           22
          ],
          [
           "S.Darnold",
           2020,
           23
          ],
          [
           "S.Darnold",
           2021,
           24
          ],
          [
           "S.Darnold",
           2022,
           25
          ],
          [
           "J.Wolford",
           2021,
           25
          ],
          [
           "J.Wolford",
           2022,
           26
          ],
          [
           "B.Rypien",
           2021,
           25
          ],
          [
           "B.Rypien",
           2022,
           26
          ],
          [
           "J.Meyers",
           2021,
           24
          ],
          [
           "D.Blough",
           2020,
           25
          ],
          [
           "J.Fox",
           2022,
           25
          ],
          [
           "K.Murray",
           2020,
           23
          ],
          [
           "K.Murray",
           2021,
           24
          ],
          [
           "K.Murray",
           2022,
           25
          ],
          [
           "D.Haskins",
           2020,
           23
          ],
          [
           "J.Stidham",
           2020,
           24
          ],
          [
           "G.Minshew II",
           2020,
           24
          ],
          [
           "G.Minshew II",
           2021,
           25
          ],
          [
           "G.Minshew II",
           2022,
           26
          ],
          [
           "R.Finley",
           2020,
           25
          ],
          [
           "D.Lock",
           2020,
           23
          ],
          [
           "D.Lock",
           2021,
           24
          ],
          [
           "D.Jones",
           2020,
           23
          ],
          [
           "D.Jones",
           2021,
           24
          ],
          [
           "D.Jones",
           2022,
           25
          ],
          [
           "C.Streveler",
           2021,
           26
          ],
          [
           "C.Streveler",
           2022,
           27
          ],
          [
           "K.Hinton",
           2021,
           24
          ],
          [
           "T.Townsend",
           2021,
           24
          ],
          [
           "T.Townsend",
           2022,
           25
          ],
          [
           "T.Huntley",
           2021,
           23
          ],
          [
           "T.Huntley",
           2022,
           24
          ],
          [
           "T.Tagovailoa",
           2021,
           23
          ],
          [
           "T.Tagovailoa",
           2022,
           24
          ],
          [
           "J.Eason",
           2022,
           24
          ],
          [
           "J.Love",
           2022,
           23
          ],
          [
           "J.Jefferson",
           2022,
           23
          ],
          [
           "J.Herbert",
           2021,
           23
          ],
          [
           "J.Herbert",
           2022,
           24
          ],
          [
           "J.Hurts",
           2021,
           23
          ],
          [
           "J.Hurts",
           2022,
           24
          ],
          [
           "J.Burrow",
           2021,
           24
          ],
          [
           "J.Burrow",
           2022,
           25
          ],
          [
           "D.Mills",
           2022,
           23
          ],
          [
           "J.Fields",
           2022,
           23
          ],
          [
           "T.Lawrence",
           2022,
           22
          ],
          [
           "M.Jones",
           2022,
           23
          ],
          [
           "T.Lance",
           2022,
           22
          ],
          [
           "Z.Wilson",
           2022,
           23
          ]
         ],
         "hovertemplate": "passing_yards_last_per_game=%{x}<br>passing_yards_per_game=%{y}<br>passer=%{customdata[0]}<br>season=%{customdata[1]}<br>age=%{customdata[2]}<extra></extra>",
         "legendgroup": "",
         "marker": {
          "color": "#636efa",
          "symbol": "circle"
         },
         "mode": "markers",
         "name": "",
         "orientation": "v",
         "showlegend": false,
         "type": "scatter",
         "x": [
          170.875,
          43.333333333333336,
          75.25,
          291.1875,
          342.3125,
          295.4375,
          301.6875,
          271.4375,
          256.8125,
          298.125,
          296.1666666666667,
          286.0625,
          272.1875,
          253.5625,
          289.5625,
          312.70588235294116,
          236.2,
          173.57142857142858,
          67.11111111111111,
          323.5625,
          322.3125,
          309.5,
          324.6666666666667,
          325.5625,
          270.875,
          266.1333333333333,
          270.8181818181818,
          207.125,
          5,
          228.625,
          200.54545454545453,
          263.625,
          220,
          224.15384615384616,
          134.75,
          267.8666666666667,
          267.125,
          271,
          291.9375,
          282.2,
          306.4375,
          255.2,
          247,
          221,
          250.5,
          231,
          28.5,
          246,
          10,
          246.75,
          238.625,
          275.625,
          277,
          251.6875,
          231.2,
          268.6875,
          26,
          0,
          1.3125,
          251.15384615384616,
          266.3125,
          309.5,
          328.1666666666667,
          272.7857142857143,
          283.4,
          320.5625,
          175.5,
          253.53333333333333,
          225.375,
          279.875,
          267.875,
          299.0625,
          274.125,
          282.1875,
          269.25,
          288.4375,
          173.7,
          220.86666666666667,
          217.66666666666666,
          217.875,
          233.46666666666667,
          269.46666666666664,
          268.4375,
          281.77777777777777,
          273.8125,
          238.8125,
          276.75,
          239.28571428571428,
          277.625,
          250.125,
          268.6875,
          257.1875,
          53,
          222.11111111111111,
          89,
          199,
          140.2,
          12,
          113.25,
          5.666666666666667,
          199.55555555555554,
          200.77777777777777,
          141.66666666666666,
          159.5,
          71,
          81,
          212.5,
          223.0909090909091,
          206.91666666666666,
          244.0625,
          193.57142857142858,
          183.83333333333334,
          295.75,
          235.26666666666668,
          232.33333333333334,
          0,
          202.2,
          238.27272727272728,
          254.13333333333333,
          243.93333333333334,
          211.8,
          19.5,
          167.3,
          10,
          31.5,
          0,
          50.333333333333336,
          0,
          189.42857142857142,
          37.5,
          0,
          19,
          21,
          -2,
          15,
          190.11111111111111,
          17.333333333333332,
          38.4,
          65.5,
          53,
          10.5,
          14,
          180.25,
          3.6666666666666665,
          1.8666666666666667,
          294.6875,
          282.1875,
          293.375,
          286.9375,
          309,
          255.9375,
          307.75,
          297.73333333333335,
          286.3125,
          233.41176470588235,
          1.6,
          0,
          238.5625,
          244.3125,
          249.125,
          279.1,
          269.8125,
          196.3125,
          273.8888888888889,
          227.75,
          172.8,
          169,
          208.4,
          216.06666666666666,
          0,
          82.66666666666667,
          20.5,
          159.5,
          34,
          198.85714285714286,
          310.4375,
          290.625,
          266.0625,
          266.375,
          270.4375,
          277.875,
          236.0625,
          312.375,
          255.25,
          287.4117647058824,
          10,
          49.6,
          78.5,
          2,
          128.75,
          145,
          165,
          205,
          237.57142857142858,
          236.9090909090909,
          240.83333333333334,
          128.7,
          1.4,
          93,
          130,
          45.4,
          268.6666666666667,
          205.33333333333334,
          254.0625,
          3.5833333333333335,
          2.9375,
          204,
          55.75,
          2.3333333333333335,
          39.5,
          4.333333333333333,
          211.4,
          124,
          122,
          93.75,
          105.71428571428571,
          0,
          0.9375,
          231.375,
          266.07142857142856,
          258.46666666666664,
          191,
          241.8125,
          211.1875,
          223.35714285714286,
          239.8125,
          233.93333333333334,
          206.375,
          242.5,
          286,
          177.13333333333333,
          197.8181818181818,
          179.42857142857142,
          166.2,
          160.33333333333334,
          38,
          253.875,
          154.16666666666666,
          217.2,
          35.75,
          11.166666666666666,
          183.4375,
          183.11111111111111,
          229.3125,
          268.3125,
          212.375,
          250,
          262.875,
          207.5,
          233.27272727272728,
          268.7692307692308,
          197.27272727272728,
          189.375,
          139.53846153846155,
          199.8125,
          210.5625,
          179.44444444444446,
          0,
          133.33333333333334,
          190.85714285714286,
          6.5,
          12.666666666666666,
          56.5,
          64,
          2.625,
          0,
          35.8,
          216.5,
          201.53333333333333,
          186.6,
          118.25,
          8.25,
          208,
          161,
          2,
          108,
          51.666666666666664,
          14,
          0,
          12.333333333333334,
          5,
          2,
          11.333333333333334,
          3.8,
          220.33333333333334,
          220,
          217.5,
          165.6,
          220.1,
          236.46666666666667,
          243.125,
          170.7,
          46,
          92.4,
          1.3333333333333333,
          52,
          194.875,
          209.8125,
          217.1875,
          251.5,
          263.6875,
          248.9375,
          215.5,
          256.875,
          263.25,
          222.35714285714286,
          0,
          187.33333333333334,
          242.71428571428572,
          222.3846153846154,
          270.375,
          186.54545454545453,
          205,
          76.71428571428571,
          282.6,
          184,
          205.77777777777777,
          250,
          155.33333333333334,
          170.8,
          285,
          260.375,
          307.3125,
          255.8125,
          268.625,
          240.2,
          266.5625,
          263.8125,
          12.166666666666666,
          1.5625,
          3.4,
          213.33333333333334,
          246.3846153846154,
          10.5,
          37.5,
          273.375,
          238.875,
          297.5625,
          268.7142857142857,
          225.66666666666666,
          216.375,
          75.75,
          2.4,
          47.5,
          13,
          245.875,
          197.13333333333333,
          181.33333333333334,
          205.875,
          244.5625,
          252.8125,
          263,
          179.9090909090909,
          228.5,
          238.6875,
          219.64705882352942,
          0,
          0,
          221,
          129,
          71,
          200.6153846153846,
          75,
          208.25,
          87,
          28,
          214.4,
          73.28571428571429,
          79.71428571428571,
          197.2,
          209.5,
          140.25,
          26.2,
          100,
          232,
          179.5,
          0,
          0,
          190.375,
          180.35714285714286,
          265,
          63,
          106,
          33,
          175.5,
          30,
          7.428571428571429,
          153.66666666666666,
          22,
          8.833333333333334,
          1.25,
          224.53846153846155,
          0,
          29.5,
          153.77777777777777,
          248.86666666666667,
          218,
          201.71428571428572,
          204.375,
          249.1875,
          262.46666666666664,
          233.06666666666666,
          253.0625,
          253.375,
          256.4375,
          282.5882352941176,
          33,
          4,
          112.5,
          36.4,
          1.5,
          83.66666666666667,
          260,
          239.33333333333334,
          248.625,
          182.66666666666666,
          254,
          0.5625,
          0,
          0,
          40,
          0,
          243,
          207.71428571428572,
          276.75,
          244.0625,
          230.4375,
          209.07692307692307,
          43.75,
          1.25,
          252.625,
          255.625,
          269.53846153846155,
          272,
          319.3125,
          25,
          167.14285714285714,
          134.83333333333334,
          4.25,
          10,
          137,
          213.6875,
          242.92857142857142,
          192.33333333333334,
          31,
          19,
          37,
          7.666666666666667,
          234.83333333333334,
          228.4,
          215.46666666666667,
          180.57142857142858,
          171.85714285714286,
          226,
          0.5714285714285714,
          171.66666666666666,
          185,
          29.8,
          125.375,
          228.33333333333334,
          5.375,
          1.7333333333333334,
          0.625,
          34.666666666666664,
          134,
          0,
          0,
          236.375,
          253.53846153846155,
          279.45454545454544,
          252.4375,
          218.33333333333334,
          209.58823529411765,
          1.0666666666666667,
          2.875,
          229.1875,
          207.75,
          242.8125,
          306.375,
          371.2,
          278.0625,
          153.33333333333334,
          42,
          155.57142857142858,
          253.6,
          293,
          289.875,
          263.46666666666664,
          231.78571428571428,
          165.66666666666666,
          133.33333333333334,
          193.625,
          0.5,
          196.13333333333333,
          1.5454545454545454,
          128.3,
          0,
          92,
          72.4,
          3.125,
          243.7,
          147,
          4.923076923076923,
          3.4375,
          58,
          81.5,
          242.71428571428572,
          260.3125,
          256.8,
          1.3125,
          105.5,
          0.9375,
          0,
          182.75,
          230.21428571428572,
          209.2,
          205.5,
          8.6,
          284,
          318.5625,
          287.92857142857144,
          316,
          284.6470588235294,
          192.93333333333334,
          0,
          238.33333333333334,
          131.16666666666666,
          16.5,
          63,
          131.5,
          162.71428571428572,
          238.25,
          2.3,
          4,
          133,
          255.53846153846155,
          152.5,
          60,
          176.5,
          81,
          1.9411764705882353,
          75.0625,
          208.46666666666667,
          183.8,
          240.16666666666666,
          266.07142857142856,
          239.1875,
          222.6875,
          215,
          172.83333333333334,
          193.0625,
          284,
          259.2352941176471,
          220.3846153846154,
          232.6153846153846,
          184,
          210.41666666666666,
          231,
          2.5,
          147.5,
          0,
          3.5833333333333335,
          196.8,
          12.666666666666666,
          232.625,
          248.1875,
          270.5,
          151.66666666666666,
          4.666666666666667,
          233.64285714285714,
          251,
          146.33333333333334,
          158,
          204,
          225.6153846153846,
          232.84615384615384,
          210.21428571428572,
          220.72727272727272,
          52.5,
          18,
          13,
          13,
          16,
          7.5,
          154.42857142857142,
          181.4,
          204.07692307692307,
          25,
          68.5,
          2.0588235294117645,
          289.06666666666666,
          294.94117647058823,
          75.78571428571429,
          209.6,
          268.8,
          288.1875,
          204.92307692307693,
          155.83333333333334,
          213.35294117647058,
          223.58823529411765,
          100.5,
          179.53846153846155
         ],
         "xaxis": "x",
         "y": [
          43.333333333333336,
          75.25,
          211.25,
          342.3125,
          295.4375,
          224.9,
          271.4375,
          256.8125,
          298.125,
          296.1666666666667,
          286.0625,
          272.1875,
          253.5625,
          289.5625,
          312.70588235294116,
          276.11764705882354,
          173.57142857142858,
          67.11111111111111,
          74.2,
          322.3125,
          309.5,
          324.6666666666667,
          325.5625,
          270.875,
          266.1333333333333,
          270.8181818181818,
          245.16666666666666,
          5,
          80.66666666666667,
          200.54545454545453,
          263.625,
          220,
          224.15384615384616,
          134.75,
          12,
          267.125,
          271,
          291.9375,
          282.2,
          282.57142857142856,
          255.2,
          247,
          221,
          29,
          231,
          28.5,
          246,
          5.333333333333333,
          116,
          238.625,
          275.625,
          277,
          251.6875,
          231.2,
          268.6875,
          260.5,
          26,
          1.3125,
          2,
          266.3125,
          309.5,
          328.1666666666667,
          272.7857142857143,
          283.4,
          320.5625,
          175.5,
          253.53333333333333,
          233.75,
          279.875,
          267.875,
          299.0625,
          274.125,
          282.1875,
          269.25,
          288.4375,
          260.5625,
          220.86666666666667,
          217.66666666666666,
          217.875,
          233.46666666666667,
          269.46666666666664,
          218,
          281.77777777777777,
          273.8125,
          238.8125,
          276.75,
          239.28571428571428,
          277.625,
          250.125,
          268.6875,
          257.1875,
          217.35294117647058,
          222.11111111111111,
          18.5,
          199,
          251.5,
          12,
          113.25,
          5.666666666666667,
          232.5,
          200.77777777777777,
          141.66666666666666,
          159.5,
          71,
          81,
          29.5,
          223.0909090909091,
          206.91666666666666,
          244.0625,
          193.57142857142858,
          183.83333333333334,
          295.75,
          235.26666666666668,
          232.33333333333334,
          13,
          -4,
          238.27272727272728,
          254.13333333333333,
          243.93333333333334,
          211.8,
          190.42857142857142,
          167.3,
          10,
          31.5,
          0,
          12,
          0,
          9.25,
          37.5,
          182,
          0,
          21,
          -2,
          15,
          0,
          17.333333333333332,
          38.4,
          178.8,
          53,
          10.5,
          14,
          180.25,
          215.25,
          0,
          1.2666666666666666,
          282.1875,
          293.375,
          286.9375,
          309,
          255.9375,
          307.75,
          297.73333333333335,
          286.3125,
          233.41176470588235,
          254.75,
          0,
          0,
          244.3125,
          249.125,
          279.1,
          269.8125,
          196.3125,
          273.8888888888889,
          227.75,
          172.8,
          169,
          210.2,
          216.06666666666666,
          164,
          29,
          20.5,
          0,
          10,
          198.85714285714286,
          9.428571428571429,
          290.625,
          266.0625,
          266.375,
          270.4375,
          277.875,
          236.0625,
          312.375,
          255.25,
          287.4117647058824,
          231.88888888888889,
          49.6,
          78.5,
          2,
          16,
          145,
          66,
          205,
          237.57142857142858,
          236.9090909090909,
          240.83333333333334,
          128.7,
          1.4,
          93,
          130,
          45.4,
          37,
          205.33333333333334,
          46.5,
          190.25,
          2.9375,
          6.333333333333333,
          218.4,
          184.75,
          2.0588235294117645,
          4.333333333333333,
          211.4,
          128,
          122,
          93.75,
          105.71428571428571,
          195,
          0.9375,
          1.25,
          241,
          258.46666666666664,
          191,
          133.33333333333334,
          211.1875,
          223.35714285714286,
          239.8125,
          233.93333333333334,
          206.375,
          242.5,
          286,
          177.13333333333333,
          97.71428571428571,
          179.42857142857142,
          141.85714285714286,
          160.33333333333334,
          38,
          253.875,
          154.16666666666666,
          217.2,
          78.25,
          11.166666666666666,
          29,
          183.11111111111111,
          111,
          268.3125,
          212.375,
          250,
          262.875,
          207.5,
          233.27272727272728,
          268.7692307692308,
          197.27272727272728,
          189.375,
          205.07142857142858,
          199.8125,
          210.5625,
          179.44444444444446,
          203.72727272727272,
          0,
          190.85714285714286,
          6.5,
          28,
          56.5,
          64,
          92.5,
          0,
          0,
          0.6666666666666666,
          201.53333333333333,
          186.6,
          118.25,
          8.25,
          208,
          161,
          29,
          108,
          128,
          163.45454545454547,
          0,
          12.333333333333334,
          5,
          2,
          11.333333333333334,
          3.8,
          9.333333333333334,
          182.33333333333334,
          217.5,
          165.6,
          220.1,
          236.46666666666667,
          243.125,
          170.7,
          46,
          92.4,
          4,
          0,
          39,
          209.8125,
          217.1875,
          251.5,
          263.6875,
          248.9375,
          215.5,
          256.875,
          263.25,
          222.35714285714286,
          234.93333333333334,
          0,
          58,
          222.3846153846154,
          270.375,
          186.54545454545453,
          205,
          76.71428571428571,
          282.6,
          184,
          205.77777777777777,
          250,
          112,
          170.8,
          285,
          260.375,
          307.3125,
          255.8125,
          268.625,
          240.2,
          266.5625,
          263.8125,
          266.8235294117647,
          1.5625,
          4.9375,
          0.3125,
          246.3846153846154,
          188.22222222222223,
          37.5,
          10.5,
          238.875,
          297.5625,
          268.7142857142857,
          282.6666666666667,
          216.375,
          75.75,
          173.83333333333334,
          47.5,
          13,
          245.875,
          197.13333333333333,
          181.33333333333334,
          178.14285714285714,
          244.5625,
          252.8125,
          263,
          230.3846153846154,
          228.5,
          238.6875,
          219.64705882352942,
          211.33333333333334,
          0,
          0,
          129,
          71,
          16.666666666666668,
          236.16666666666666,
          208.25,
          87,
          28,
          214.4,
          131.66666666666666,
          79.71428571428571,
          79.66666666666667,
          209.5,
          140.25,
          26.2,
          132.5,
          0,
          179.5,
          49.25,
          0,
          0.4,
          180.35714285714286,
          265,
          63,
          106,
          2,
          175.5,
          251.88235294117646,
          68,
          1.5384615384615385,
          176.5,
          132.5,
          1.25,
          2.5714285714285716,
          201.9375,
          29.5,
          153.77777777777777,
          248.86666666666667,
          218,
          136.6,
          133.57142857142858,
          249.1875,
          262.46666666666664,
          233.06666666666666,
          253.0625,
          253.375,
          256.4375,
          282.5882352941176,
          234.8,
          4,
          112.5,
          10,
          1.5,
          83.66666666666667,
          260,
          239.33333333333334,
          248.625,
          182.66666666666666,
          254,
          221.54545454545453,
          0,
          0,
          3.9375,
          0,
          243,
          194,
          276.75,
          244.0625,
          230.4375,
          209.07692307692307,
          1.5,
          166.66666666666666,
          0,
          255.625,
          269.53846153846155,
          272,
          319.3125,
          25,
          167.14285714285714,
          286,
          136,
          166.9090909090909,
          64,
          213.6875,
          206.55555555555554,
          207.72727272727272,
          92,
          19,
          37,
          7.666666666666667,
          42,
          228.4,
          215.46666666666667,
          180.57142857142858,
          171.85714285714286,
          226,
          0.5714285714285714,
          170.69230769230768,
          185,
          29.8,
          22,
          228.33333333333334,
          144,
          0,
          0,
          0.25,
          129.25,
          11,
          0,
          9,
          253.53846153846155,
          279.45454545454544,
          252.4375,
          218.33333333333334,
          209.58823529411765,
          219.375,
          2.875,
          1.4375,
          207.75,
          242.8125,
          306.375,
          371.2,
          278.0625,
          238.33333333333334,
          42,
          141.8,
          253.6,
          293,
          289.875,
          263.46666666666664,
          231.78571428571428,
          261.05882352941177,
          147.5,
          193.625,
          0.5,
          196.13333333333333,
          1.5454545454545454,
          128.3,
          186.28571428571428,
          0,
          72.4,
          121.83333333333333,
          0,
          147,
          56,
          3.4375,
          58,
          81.5,
          15,
          260.3125,
          256.8,
          301.4375,
          0.0625,
          131.375,
          0.2857142857142857,
          0,
          230.21428571428572,
          209.2,
          205.5,
          8.6,
          178.85714285714286,
          318.5625,
          287.92857142857144,
          316,
          284.6470588235294,
          308.8235294117647,
          62.333333333333336,
          0,
          250.4,
          16.5,
          8.75,
          74,
          33,
          113.4,
          298,
          6.285714285714286,
          5.333333333333333,
          255.53846153846155,
          152.5,
          60,
          208,
          81,
          138.5,
          0,
          208.46666666666667,
          183.8,
          240.16666666666666,
          186.83333333333334,
          239.1875,
          222.6875,
          215,
          180.25,
          193.0625,
          284,
          259.2352941176471,
          267.6875,
          232.6153846153846,
          184,
          210.41666666666666,
          190.5,
          2.5,
          195,
          0,
          120.75,
          2.8125,
          49,
          6,
          248.1875,
          270.5,
          215.27272727272728,
          205.57142857142858,
          51.2,
          251,
          146.33333333333334,
          132.6,
          41,
          225.6153846153846,
          131.16666666666666,
          210.21428571428572,
          220.72727272727272,
          200.3125,
          18,
          90,
          0.1,
          16,
          0,
          154.42857142857142,
          131.6,
          204.07692307692307,
          272.9230769230769,
          59,
          48.75,
          2,
          294.94117647058823,
          278.7647058823529,
          209.6,
          246.73333333333332,
          288.1875,
          279.6875,
          207.86666666666667,
          149.46666666666667,
          241.94117647058823,
          214.07142857142858,
          97,
          187.55555555555554
         ],
         "yaxis": "y"
        }
       ],
       "layout": {
        "legend": {
         "tracegroupgap": 0
        },
        "margin": {
         "t": 60
        },
        "template": {
         "data": {
          "bar": [
           {
            "error_x": {
             "color": "#2a3f5f"
            },
            "error_y": {
             "color": "#2a3f5f"
            },
            "marker": {
             "line": {
              "color": "#E5ECF6",
              "width": 0.5
             },
             "pattern": {
              "fillmode": "overlay",
              "size": 10,
              "solidity": 0.2
             }
            },
            "type": "bar"
           }
          ],
          "barpolar": [
           {
            "marker": {
             "line": {
              "color": "#E5ECF6",
              "width": 0.5
             },
             "pattern": {
              "fillmode": "overlay",
              "size": 10,
              "solidity": 0.2
             }
            },
            "type": "barpolar"
           }
          ],
          "carpet": [
           {
            "aaxis": {
             "endlinecolor": "#2a3f5f",
             "gridcolor": "white",
             "linecolor": "white",
             "minorgridcolor": "white",
             "startlinecolor": "#2a3f5f"
            },
            "baxis": {
             "endlinecolor": "#2a3f5f",
             "gridcolor": "white",
             "linecolor": "white",
             "minorgridcolor": "white",
             "startlinecolor": "#2a3f5f"
            },
            "type": "carpet"
           }
          ],
          "choropleth": [
           {
            "colorbar": {
             "outlinewidth": 0,
             "ticks": ""
            },
            "type": "choropleth"
           }
          ],
          "contour": [
           {
            "colorbar": {
             "outlinewidth": 0,
             "ticks": ""
            },
            "colorscale": [
             [
              0,
              "#0d0887"
             ],
             [
              0.1111111111111111,
              "#46039f"
             ],
             [
              0.2222222222222222,
              "#7201a8"
             ],
             [
              0.3333333333333333,
              "#9c179e"
             ],
             [
              0.4444444444444444,
              "#bd3786"
             ],
             [
              0.5555555555555556,
              "#d8576b"
             ],
             [
              0.6666666666666666,
              "#ed7953"
             ],
             [
              0.7777777777777778,
              "#fb9f3a"
             ],
             [
              0.8888888888888888,
              "#fdca26"
             ],
             [
              1,
              "#f0f921"
             ]
            ],
            "type": "contour"
           }
          ],
          "contourcarpet": [
           {
            "colorbar": {
             "outlinewidth": 0,
             "ticks": ""
            },
            "type": "contourcarpet"
           }
          ],
          "heatmap": [
           {
            "colorbar": {
             "outlinewidth": 0,
             "ticks": ""
            },
            "colorscale": [
             [
              0,
              "#0d0887"
             ],
             [
              0.1111111111111111,
              "#46039f"
             ],
             [
              0.2222222222222222,
              "#7201a8"
             ],
             [
              0.3333333333333333,
              "#9c179e"
             ],
             [
              0.4444444444444444,
              "#bd3786"
             ],
             [
              0.5555555555555556,
              "#d8576b"
             ],
             [
              0.6666666666666666,
              "#ed7953"
             ],
             [
              0.7777777777777778,
              "#fb9f3a"
             ],
             [
              0.8888888888888888,
              "#fdca26"
             ],
             [
              1,
              "#f0f921"
             ]
            ],
            "type": "heatmap"
           }
          ],
          "heatmapgl": [
           {
            "colorbar": {
             "outlinewidth": 0,
             "ticks": ""
            },
            "colorscale": [
             [
              0,
              "#0d0887"
             ],
             [
              0.1111111111111111,
              "#46039f"
             ],
             [
              0.2222222222222222,
              "#7201a8"
             ],
             [
              0.3333333333333333,
              "#9c179e"
             ],
             [
              0.4444444444444444,
              "#bd3786"
             ],
             [
              0.5555555555555556,
              "#d8576b"
             ],
             [
              0.6666666666666666,
              "#ed7953"
             ],
             [
              0.7777777777777778,
              "#fb9f3a"
             ],
             [
              0.8888888888888888,
              "#fdca26"
             ],
             [
              1,
              "#f0f921"
             ]
            ],
            "type": "heatmapgl"
           }
          ],
          "histogram": [
           {
            "marker": {
             "pattern": {
              "fillmode": "overlay",
              "size": 10,
              "solidity": 0.2
             }
            },
            "type": "histogram"
           }
          ],
          "histogram2d": [
           {
            "colorbar": {
             "outlinewidth": 0,
             "ticks": ""
            },
            "colorscale": [
             [
              0,
              "#0d0887"
             ],
             [
              0.1111111111111111,
              "#46039f"
             ],
             [
              0.2222222222222222,
              "#7201a8"
             ],
             [
              0.3333333333333333,
              "#9c179e"
             ],
             [
              0.4444444444444444,
              "#bd3786"
             ],
             [
              0.5555555555555556,
              "#d8576b"
             ],
             [
              0.6666666666666666,
              "#ed7953"
             ],
             [
              0.7777777777777778,
              "#fb9f3a"
             ],
             [
              0.8888888888888888,
              "#fdca26"
             ],
             [
              1,
              "#f0f921"
             ]
            ],
            "type": "histogram2d"
           }
          ],
          "histogram2dcontour": [
           {
            "colorbar": {
             "outlinewidth": 0,
             "ticks": ""
            },
            "colorscale": [
             [
              0,
              "#0d0887"
             ],
             [
              0.1111111111111111,
              "#46039f"
             ],
             [
              0.2222222222222222,
              "#7201a8"
             ],
             [
              0.3333333333333333,
              "#9c179e"
             ],
             [
              0.4444444444444444,
              "#bd3786"
             ],
             [
              0.5555555555555556,
              "#d8576b"
             ],
             [
              0.6666666666666666,
              "#ed7953"
             ],
             [
              0.7777777777777778,
              "#fb9f3a"
             ],
             [
              0.8888888888888888,
              "#fdca26"
             ],
             [
              1,
              "#f0f921"
             ]
            ],
            "type": "histogram2dcontour"
           }
          ],
          "mesh3d": [
           {
            "colorbar": {
             "outlinewidth": 0,
             "ticks": ""
            },
            "type": "mesh3d"
           }
          ],
          "parcoords": [
           {
            "line": {
             "colorbar": {
              "outlinewidth": 0,
              "ticks": ""
             }
            },
            "type": "parcoords"
           }
          ],
          "pie": [
           {
            "automargin": true,
            "type": "pie"
           }
          ],
          "scatter": [
           {
            "fillpattern": {
             "fillmode": "overlay",
             "size": 10,
             "solidity": 0.2
            },
            "type": "scatter"
           }
          ],
          "scatter3d": [
           {
            "line": {
             "colorbar": {
              "outlinewidth": 0,
              "ticks": ""
             }
            },
            "marker": {
             "colorbar": {
              "outlinewidth": 0,
              "ticks": ""
             }
            },
            "type": "scatter3d"
           }
          ],
          "scattercarpet": [
           {
            "marker": {
             "colorbar": {
              "outlinewidth": 0,
              "ticks": ""
             }
            },
            "type": "scattercarpet"
           }
          ],
          "scattergeo": [
           {
            "marker": {
             "colorbar": {
              "outlinewidth": 0,
              "ticks": ""
             }
            },
            "type": "scattergeo"
           }
          ],
          "scattergl": [
           {
            "marker": {
             "colorbar": {
              "outlinewidth": 0,
              "ticks": ""
             }
            },
            "type": "scattergl"
           }
          ],
          "scattermapbox": [
           {
            "marker": {
             "colorbar": {
              "outlinewidth": 0,
              "ticks": ""
             }
            },
            "type": "scattermapbox"
           }
          ],
          "scatterpolar": [
           {
            "marker": {
             "colorbar": {
              "outlinewidth": 0,
              "ticks": ""
             }
            },
            "type": "scatterpolar"
           }
          ],
          "scatterpolargl": [
           {
            "marker": {
             "colorbar": {
              "outlinewidth": 0,
              "ticks": ""
             }
            },
            "type": "scatterpolargl"
           }
          ],
          "scatterternary": [
           {
            "marker": {
             "colorbar": {
              "outlinewidth": 0,
              "ticks": ""
             }
            },
            "type": "scatterternary"
           }
          ],
          "surface": [
           {
            "colorbar": {
             "outlinewidth": 0,
             "ticks": ""
            },
            "colorscale": [
             [
              0,
              "#0d0887"
             ],
             [
              0.1111111111111111,
              "#46039f"
             ],
             [
              0.2222222222222222,
              "#7201a8"
             ],
             [
              0.3333333333333333,
              "#9c179e"
             ],
             [
              0.4444444444444444,
              "#bd3786"
             ],
             [
              0.5555555555555556,
              "#d8576b"
             ],
             [
              0.6666666666666666,
              "#ed7953"
             ],
             [
              0.7777777777777778,
              "#fb9f3a"
             ],
             [
              0.8888888888888888,
              "#fdca26"
             ],
             [
              1,
              "#f0f921"
             ]
            ],
            "type": "surface"
           }
          ],
          "table": [
           {
            "cells": {
             "fill": {
              "color": "#EBF0F8"
             },
             "line": {
              "color": "white"
             }
            },
            "header": {
             "fill": {
              "color": "#C8D4E3"
             },
             "line": {
              "color": "white"
             }
            },
            "type": "table"
           }
          ]
         },
         "layout": {
          "annotationdefaults": {
           "arrowcolor": "#2a3f5f",
           "arrowhead": 0,
           "arrowwidth": 1
          },
          "autotypenumbers": "strict",
          "coloraxis": {
           "colorbar": {
            "outlinewidth": 0,
            "ticks": ""
           }
          },
          "colorscale": {
           "diverging": [
            [
             0,
             "#8e0152"
            ],
            [
             0.1,
             "#c51b7d"
            ],
            [
             0.2,
             "#de77ae"
            ],
            [
             0.3,
             "#f1b6da"
            ],
            [
             0.4,
             "#fde0ef"
            ],
            [
             0.5,
             "#f7f7f7"
            ],
            [
             0.6,
             "#e6f5d0"
            ],
            [
             0.7,
             "#b8e186"
            ],
            [
             0.8,
             "#7fbc41"
            ],
            [
             0.9,
             "#4d9221"
            ],
            [
             1,
             "#276419"
            ]
           ],
           "sequential": [
            [
             0,
             "#0d0887"
            ],
            [
             0.1111111111111111,
             "#46039f"
            ],
            [
             0.2222222222222222,
             "#7201a8"
            ],
            [
             0.3333333333333333,
             "#9c179e"
            ],
            [
             0.4444444444444444,
             "#bd3786"
            ],
            [
             0.5555555555555556,
             "#d8576b"
            ],
            [
             0.6666666666666666,
             "#ed7953"
            ],
            [
             0.7777777777777778,
             "#fb9f3a"
            ],
            [
             0.8888888888888888,
             "#fdca26"
            ],
            [
             1,
             "#f0f921"
            ]
           ],
           "sequentialminus": [
            [
             0,
             "#0d0887"
            ],
            [
             0.1111111111111111,
             "#46039f"
            ],
            [
             0.2222222222222222,
             "#7201a8"
            ],
            [
             0.3333333333333333,
             "#9c179e"
            ],
            [
             0.4444444444444444,
             "#bd3786"
            ],
            [
             0.5555555555555556,
             "#d8576b"
            ],
            [
             0.6666666666666666,
             "#ed7953"
            ],
            [
             0.7777777777777778,
             "#fb9f3a"
            ],
            [
             0.8888888888888888,
             "#fdca26"
            ],
            [
             1,
             "#f0f921"
            ]
           ]
          },
          "colorway": [
           "#636efa",
           "#EF553B",
           "#00cc96",
           "#ab63fa",
           "#FFA15A",
           "#19d3f3",
           "#FF6692",
           "#B6E880",
           "#FF97FF",
           "#FECB52"
          ],
          "font": {
           "color": "#2a3f5f"
          },
          "geo": {
           "bgcolor": "white",
           "lakecolor": "white",
           "landcolor": "#E5ECF6",
           "showlakes": true,
           "showland": true,
           "subunitcolor": "white"
          },
          "hoverlabel": {
           "align": "left"
          },
          "hovermode": "closest",
          "mapbox": {
           "style": "light"
          },
          "paper_bgcolor": "white",
          "plot_bgcolor": "#E5ECF6",
          "polar": {
           "angularaxis": {
            "gridcolor": "white",
            "linecolor": "white",
            "ticks": ""
           },
           "bgcolor": "#E5ECF6",
           "radialaxis": {
            "gridcolor": "white",
            "linecolor": "white",
            "ticks": ""
           }
          },
          "scene": {
           "xaxis": {
            "backgroundcolor": "#E5ECF6",
            "gridcolor": "white",
            "gridwidth": 2,
            "linecolor": "white",
            "showbackground": true,
            "ticks": "",
            "zerolinecolor": "white"
           },
           "yaxis": {
            "backgroundcolor": "#E5ECF6",
            "gridcolor": "white",
            "gridwidth": 2,
            "linecolor": "white",
            "showbackground": true,
            "ticks": "",
            "zerolinecolor": "white"
           },
           "zaxis": {
            "backgroundcolor": "#E5ECF6",
            "gridcolor": "white",
            "gridwidth": 2,
            "linecolor": "white",
            "showbackground": true,
            "ticks": "",
            "zerolinecolor": "white"
           }
          },
          "shapedefaults": {
           "line": {
            "color": "#2a3f5f"
           }
          },
          "ternary": {
           "aaxis": {
            "gridcolor": "white",
            "linecolor": "white",
            "ticks": ""
           },
           "baxis": {
            "gridcolor": "white",
            "linecolor": "white",
            "ticks": ""
           },
           "bgcolor": "#E5ECF6",
           "caxis": {
            "gridcolor": "white",
            "linecolor": "white",
            "ticks": ""
           }
          },
          "title": {
           "x": 0.05
          },
          "xaxis": {
           "automargin": true,
           "gridcolor": "white",
           "linecolor": "white",
           "ticks": "",
           "title": {
            "standoff": 15
           },
           "zerolinecolor": "white",
           "zerolinewidth": 2
          },
          "yaxis": {
           "automargin": true,
           "gridcolor": "white",
           "linecolor": "white",
           "ticks": "",
           "title": {
            "standoff": 15
           },
           "zerolinecolor": "white",
           "zerolinewidth": 2
          }
         }
        },
        "xaxis": {
         "anchor": "y",
         "domain": [
          0,
          1
         ],
         "title": {
          "text": "passing_yards_last_per_game"
         }
        },
        "yaxis": {
         "anchor": "x",
         "domain": [
          0,
          1
         ],
         "title": {
          "text": "passing_yards_per_game"
         }
        }
       }
      },
      "text/html": [
       "<div>                            <div id=\"cbfbbcd2-7e5a-45b0-9e8f-c383e624cbf5\" class=\"plotly-graph-div\" style=\"height:525px; width:100%;\"></div>            <script type=\"text/javascript\">                require([\"plotly\"], function(Plotly) {                    window.PLOTLYENV=window.PLOTLYENV || {};                                    if (document.getElementById(\"cbfbbcd2-7e5a-45b0-9e8f-c383e624cbf5\")) {                    Plotly.newPlot(                        \"cbfbbcd2-7e5a-45b0-9e8f-c383e624cbf5\",                        [{\"customdata\":[[\"M.Hasselbeck\",2013,37.0],[\"M.Hasselbeck\",2014,38.0],[\"M.Hasselbeck\",2015,39.0],[\"P.Manning\",2013,37.0],[\"P.Manning\",2014,38.0],[\"P.Manning\",2015,39.0],[\"T.Brady\",2013,36.0],[\"T.Brady\",2014,37.0],[\"T.Brady\",2015,38.0],[\"T.Brady\",2016,39.0],[\"T.Brady\",2017,40.0],[\"T.Brady\",2018,41.0],[\"T.Brady\",2019,42.0],[\"T.Brady\",2020,43.0],[\"T.Brady\",2021,44.0],[\"T.Brady\",2022,45.0],[\"M.Vick\",2013,33.0],[\"M.Vick\",2014,34.0],[\"M.Vick\",2015,35.0],[\"D.Brees\",2013,34.0],[\"D.Brees\",2014,35.0],[\"D.Brees\",2015,36.0],[\"D.Brees\",2016,37.0],[\"D.Brees\",2017,38.0],[\"D.Brees\",2018,39.0],[\"D.Brees\",2019,40.0],[\"D.Brees\",2020,41.0],[\"S.Hill\",2015,35.0],[\"S.Hill\",2016,36.0],[\"J.McCown\",2014,35.0],[\"J.McCown\",2015,36.0],[\"J.McCown\",2016,37.0],[\"J.McCown\",2017,38.0],[\"J.McCown\",2018,39.0],[\"J.McCown\",2019,40.0],[\"C.Palmer\",2013,33.0],[\"C.Palmer\",2014,34.0],[\"C.Palmer\",2015,35.0],[\"C.Palmer\",2016,36.0],[\"C.Palmer\",2017,37.0],[\"T.Romo\",2013,33.0],[\"T.Romo\",2014,34.0],[\"T.Romo\",2015,35.0],[\"T.Romo\",2016,36.0],[\"M.Schaub\",2013,32.0],[\"M.Schaub\",2014,33.0],[\"M.Schaub\",2015,34.0],[\"M.Schaub\",2016,35.0],[\"M.Schaub\",2019,38.0],[\"E.Manning\",2013,32.0],[\"E.Manning\",2014,33.0],[\"E.Manning\",2015,34.0],[\"E.Manning\",2016,35.0],[\"E.Manning\",2017,36.0],[\"E.Manning\",2018,37.0],[\"E.Manning\",2019,38.0],[\"A.Lee\",2020,38.0],[\"L.Fitzgerald\",2017,34.0],[\"L.Fitzgerald\",2018,35.0],[\"B.Roethlisberger\",2013,31.0],[\"B.Roethlisberger\",2014,32.0],[\"B.Roethlisberger\",2015,33.0],[\"B.Roethlisberger\",2016,34.0],[\"B.Roethlisberger\",2017,35.0],[\"B.Roethlisberger\",2018,36.0],[\"B.Roethlisberger\",2019,37.0],[\"B.Roethlisberger\",2020,38.0],[\"B.Roethlisberger\",2021,39.0],[\"P.Rivers\",2013,31.0],[\"P.Rivers\",2014,32.0],[\"P.Rivers\",2015,33.0],[\"P.Rivers\",2016,34.0],[\"P.Rivers\",2017,35.0],[\"P.Rivers\",2018,36.0],[\"P.Rivers\",2019,37.0],[\"P.Rivers\",2020,38.0],[\"A.Smith\",2013,29.0],[\"A.Smith\",2014,30.0],[\"A.Smith\",2015,31.0],[\"A.Smith\",2016,32.0],[\"A.Smith\",2017,33.0],[\"A.Smith\",2018,34.0],[\"A.Rodgers\",2013,29.0],[\"A.Rodgers\",2014,30.0],[\"A.Rodgers\",2015,31.0],[\"A.Rodgers\",2016,32.0],[\"A.Rodgers\",2017,33.0],[\"A.Rodgers\",2018,34.0],[\"A.Rodgers\",2019,35.0],[\"A.Rodgers\",2020,36.0],[\"A.Rodgers\",2021,37.0],[\"A.Rodgers\",2022,38.0],[\"J.Campbell\",2013,31.0],[\"J.Campbell\",2014,32.0],[\"K.Orton\",2013,30.0],[\"K.Orton\",2014,31.0],[\"D.Anderson\",2015,32.0],[\"D.Anderson\",2016,33.0],[\"D.Anderson\",2017,34.0],[\"D.Anderson\",2018,35.0],[\"M.Cassel\",2013,31.0],[\"M.Cassel\",2014,32.0],[\"M.Cassel\",2015,33.0],[\"M.Cassel\",2016,34.0],[\"M.Cassel\",2017,35.0],[\"M.Cassel\",2018,36.0],[\"R.Fitzpatrick\",2013,30.0],[\"R.Fitzpatrick\",2014,31.0],[\"R.Fitzpatrick\",2015,32.0],[\"R.Fitzpatrick\",2016,33.0],[\"R.Fitzpatrick\",2017,34.0],[\"R.Fitzpatrick\",2018,35.0],[\"R.Fitzpatrick\",2019,36.0],[\"R.Fitzpatrick\",2020,37.0],[\"R.Fitzpatrick\",2021,38.0],[\"J.Ryan\",2017,35.0],[\"J.Cutler\",2013,30.0],[\"J.Cutler\",2014,31.0],[\"J.Cutler\",2015,32.0],[\"J.Cutler\",2016,33.0],[\"J.Cutler\",2017,34.0],[\"K.Clemens\",2013,30.0],[\"K.Clemens\",2014,31.0],[\"K.Clemens\",2015,32.0],[\"K.Clemens\",2016,33.0],[\"K.Clemens\",2017,34.0],[\"T.Jackson\",2014,31.0],[\"T.Jackson\",2015,32.0],[\"C.Whitehurst\",2015,33.0],[\"C.Whitehurst\",2016,34.0],[\"B.Smith\",2013,29.0],[\"S.Koch\",2018,36.0],[\"S.Koch\",2019,37.0],[\"S.Koch\",2020,38.0],[\"S.Koch\",2021,39.0],[\"D.Stanton\",2015,31.0],[\"D.Stanton\",2016,32.0],[\"D.Stanton\",2017,33.0],[\"M.Moore\",2013,29.0],[\"M.Moore\",2014,30.0],[\"M.Moore\",2015,31.0],[\"M.Moore\",2016,32.0],[\"M.Moore\",2017,33.0],[\"B.Kern\",2020,34.0],[\"D.Amendola\",2019,33.0],[\"M.Ryan\",2013,28.0],[\"M.Ryan\",2014,29.0],[\"M.Ryan\",2015,30.0],[\"M.Ryan\",2016,31.0],[\"M.Ryan\",2017,32.0],[\"M.Ryan\",2018,33.0],[\"M.Ryan\",2019,34.0],[\"M.Ryan\",2020,35.0],[\"M.Ryan\",2021,36.0],[\"M.Ryan\",2022,37.0],[\"D.McFadden\",2014,27.0],[\"D.McFadden\",2015,28.0],[\"J.Flacco\",2013,28.0],[\"J.Flacco\",2014,29.0],[\"J.Flacco\",2015,30.0],[\"J.Flacco\",2016,31.0],[\"J.Flacco\",2017,32.0],[\"J.Flacco\",2018,33.0],[\"J.Flacco\",2019,34.0],[\"J.Flacco\",2020,35.0],[\"J.Flacco\",2021,36.0],[\"J.Flacco\",2022,37.0],[\"C.Henne\",2013,28.0],[\"C.Henne\",2014,29.0],[\"C.Henne\",2018,33.0],[\"C.Henne\",2021,36.0],[\"C.Henne\",2022,37.0],[\"J.Johnson\",2022,36.0],[\"M.Flynn\",2013,28.0],[\"M.Flynn\",2014,29.0],[\"M.Stafford\",2013,25.0],[\"M.Stafford\",2014,26.0],[\"M.Stafford\",2015,27.0],[\"M.Stafford\",2016,28.0],[\"M.Stafford\",2017,29.0],[\"M.Stafford\",2018,30.0],[\"M.Stafford\",2019,31.0],[\"M.Stafford\",2020,32.0],[\"M.Stafford\",2021,33.0],[\"M.Stafford\",2022,34.0],[\"C.Daniel\",2013,26.0],[\"C.Daniel\",2014,27.0],[\"C.Daniel\",2015,28.0],[\"C.Daniel\",2016,29.0],[\"C.Daniel\",2019,32.0],[\"C.Daniel\",2020,33.0],[\"B.Hoyer\",2013,27.0],[\"B.Hoyer\",2014,28.0],[\"B.Hoyer\",2015,29.0],[\"B.Hoyer\",2016,30.0],[\"B.Hoyer\",2017,31.0],[\"B.Hoyer\",2018,32.0],[\"B.Hoyer\",2019,33.0],[\"B.Hoyer\",2020,34.0],[\"B.Hoyer\",2021,35.0],[\"B.Hoyer\",2022,36.0],[\"M.Sanchez\",2015,28.0],[\"M.Sanchez\",2016,29.0],[\"J.Freeman\",2013,25.0],[\"J.Edelman\",2019,33.0],[\"J.Edelman\",2020,34.0],[\"T.Lewis\",2013,25.0],[\"J.Clausen\",2015,27.0],[\"E.Sanders\",2019,32.0],[\"C.McCoy\",2013,26.0],[\"C.McCoy\",2014,27.0],[\"C.McCoy\",2015,28.0],[\"C.McCoy\",2019,32.0],[\"C.McCoy\",2020,33.0],[\"C.McCoy\",2021,34.0],[\"C.McCoy\",2022,35.0],[\"A.Brown\",2013,25.0],[\"A.Brown\",2014,26.0],[\"S.Bradford\",2013,25.0],[\"S.Bradford\",2016,28.0],[\"S.Bradford\",2017,29.0],[\"S.Bradford\",2018,30.0],[\"C.Newton\",2013,24.0],[\"C.Newton\",2014,25.0],[\"C.Newton\",2015,26.0],[\"C.Newton\",2016,27.0],[\"C.Newton\",2017,28.0],[\"C.Newton\",2018,29.0],[\"C.Newton\",2019,30.0],[\"C.Newton\",2020,31.0],[\"C.Newton\",2021,32.0],[\"J.Locker\",2013,25.0],[\"J.Locker\",2014,26.0],[\"B.Gabbert\",2013,23.0],[\"B.Gabbert\",2014,24.0],[\"B.Gabbert\",2015,25.0],[\"B.Gabbert\",2016,26.0],[\"B.Gabbert\",2017,27.0],[\"B.Gabbert\",2018,28.0],[\"B.Gabbert\",2021,31.0],[\"B.Gabbert\",2022,32.0],[\"C.Ponder\",2013,25.0],[\"C.Ponder\",2014,26.0],[\"A.Dalton\",2013,25.0],[\"A.Dalton\",2014,26.0],[\"A.Dalton\",2015,27.0],[\"A.Dalton\",2016,28.0],[\"A.Dalton\",2017,29.0],[\"A.Dalton\",2018,30.0],[\"A.Dalton\",2019,31.0],[\"A.Dalton\",2020,32.0],[\"A.Dalton\",2021,33.0],[\"A.Dalton\",2022,34.0],[\"C.Kaepernick\",2013,25.0],[\"C.Kaepernick\",2014,26.0],[\"C.Kaepernick\",2015,27.0],[\"C.Kaepernick\",2016,28.0],[\"R.Cobb\",2020,30.0],[\"R.Mallett\",2015,27.0],[\"R.Mallett\",2016,28.0],[\"R.Mallett\",2017,29.0],[\"T.Yates\",2013,26.0],[\"T.Yates\",2014,27.0],[\"T.Yates\",2015,28.0],[\"J.Kerley\",2013,24.0],[\"J.Kerley\",2014,25.0],[\"T.Taylor\",2013,24.0],[\"T.Taylor\",2016,27.0],[\"T.Taylor\",2017,28.0],[\"T.Taylor\",2018,29.0],[\"T.Taylor\",2019,30.0],[\"T.Taylor\",2020,31.0],[\"T.Taylor\",2021,32.0],[\"T.Taylor\",2022,33.0],[\"S.Tolzien\",2016,28.0],[\"S.Tolzien\",2017,29.0],[\"T.Pryor\",2013,24.0],[\"J.Hekker\",2013,23.0],[\"J.Hekker\",2014,24.0],[\"J.Hekker\",2015,25.0],[\"J.Hekker\",2016,26.0],[\"J.Hekker\",2017,27.0],[\"J.Hekker\",2018,28.0],[\"J.Hekker\",2019,29.0],[\"A.Davis\",2015,26.0],[\"C.Keenum\",2014,26.0],[\"C.Keenum\",2015,27.0],[\"C.Keenum\",2016,28.0],[\"C.Keenum\",2017,29.0],[\"C.Keenum\",2018,30.0],[\"C.Keenum\",2019,31.0],[\"C.Keenum\",2020,32.0],[\"C.Keenum\",2021,33.0],[\"C.Keenum\",2022,34.0],[\"C.Beasley\",2021,32.0],[\"M.Simms\",2014,25.0],[\"R.Wilson\",2013,24.0],[\"R.Wilson\",2014,25.0],[\"R.Wilson\",2015,26.0],[\"R.Wilson\",2016,27.0],[\"R.Wilson\",2017,28.0],[\"R.Wilson\",2018,29.0],[\"R.Wilson\",2019,30.0],[\"R.Wilson\",2020,31.0],[\"R.Wilson\",2021,32.0],[\"R.Wilson\",2022,33.0],[\"B.Rainey\",2014,26.0],[\"R.Lindley\",2015,26.0],[\"N.Foles\",2013,24.0],[\"N.Foles\",2014,25.0],[\"N.Foles\",2015,26.0],[\"N.Foles\",2016,27.0],[\"N.Foles\",2017,28.0],[\"N.Foles\",2018,29.0],[\"N.Foles\",2019,30.0],[\"N.Foles\",2020,31.0],[\"N.Foles\",2021,32.0],[\"N.Foles\",2022,33.0],[\"K.Cousins\",2013,25.0],[\"K.Cousins\",2014,26.0],[\"K.Cousins\",2015,27.0],[\"K.Cousins\",2016,28.0],[\"K.Cousins\",2017,29.0],[\"K.Cousins\",2018,30.0],[\"K.Cousins\",2019,31.0],[\"K.Cousins\",2020,32.0],[\"K.Cousins\",2021,33.0],[\"K.Cousins\",2022,34.0],[\"M.Sanu\",2013,24.0],[\"M.Sanu\",2014,25.0],[\"M.Sanu\",2018,29.0],[\"R.Griffin III\",2013,23.0],[\"R.Griffin III\",2014,24.0],[\"R.Griffin III\",2019,29.0],[\"R.Griffin III\",2020,30.0],[\"A.Luck\",2013,23.0],[\"A.Luck\",2014,24.0],[\"A.Luck\",2015,25.0],[\"A.Luck\",2016,26.0],[\"B.Weeden\",2013,29.0],[\"B.Weeden\",2014,30.0],[\"B.Weeden\",2015,31.0],[\"B.Osweiler\",2013,22.0],[\"B.Osweiler\",2014,23.0],[\"B.Osweiler\",2015,24.0],[\"B.Osweiler\",2016,25.0],[\"B.Osweiler\",2017,26.0],[\"B.Osweiler\",2018,27.0],[\"R.Tannehill\",2013,25.0],[\"R.Tannehill\",2014,26.0],[\"R.Tannehill\",2015,27.0],[\"R.Tannehill\",2016,28.0],[\"R.Tannehill\",2019,31.0],[\"R.Tannehill\",2020,32.0],[\"R.Tannehill\",2021,33.0],[\"R.Tannehill\",2022,34.0],[\"K.Allen\",2021,29.0],[\"R.Burkhead\",2022,32.0],[\"M.McGloin\",2014,24.0],[\"M.McGloin\",2015,25.0],[\"M.McGloin\",2016,26.0],[\"M.Glennon\",2014,24.0],[\"M.Glennon\",2017,27.0],[\"M.Glennon\",2018,28.0],[\"M.Glennon\",2019,29.0],[\"M.Glennon\",2020,30.0],[\"M.Glennon\",2021,31.0],[\"L.Jones\",2016,27.0],[\"L.Jones\",2017,28.0],[\"E.Manuel\",2014,24.0],[\"E.Manuel\",2015,25.0],[\"E.Manuel\",2016,26.0],[\"E.Manuel\",2017,27.0],[\"M.Barkley\",2014,23.0],[\"M.Barkley\",2019,28.0],[\"M.Barkley\",2020,29.0],[\"D.Robinson\",2014,23.0],[\"D.Hopkins\",2019,27.0],[\"G.Smith\",2014,23.0],[\"G.Smith\",2015,24.0],[\"G.Smith\",2016,25.0],[\"G.Smith\",2017,26.0],[\"G.Smith\",2018,27.0],[\"G.Smith\",2021,30.0],[\"G.Smith\",2022,31.0],[\"R.Nassib\",2015,25.0],[\"A.Wilson\",2019,27.0],[\"T.Savage\",2017,27.0],[\"D.Fales\",2017,26.0],[\"O.Beckham\",2019,26.0],[\"O.Beckham\",2020,27.0],[\"T.Bridgewater\",2015,22.0],[\"T.Bridgewater\",2018,25.0],[\"T.Bridgewater\",2019,26.0],[\"T.Bridgewater\",2020,27.0],[\"T.Bridgewater\",2021,28.0],[\"T.Bridgewater\",2022,29.0],[\"Z.Mettenberger\",2015,24.0],[\"D.Carr\",2015,24.0],[\"D.Carr\",2016,25.0],[\"D.Carr\",2017,26.0],[\"D.Carr\",2018,27.0],[\"D.Carr\",2019,28.0],[\"D.Carr\",2020,29.0],[\"D.Carr\",2021,30.0],[\"D.Carr\",2022,31.0],[\"A.McCarron\",2018,27.0],[\"A.McCarron\",2019,28.0],[\"A.McCarron\",2020,29.0],[\"J.Garoppolo\",2015,23.0],[\"J.Garoppolo\",2016,24.0],[\"J.Garoppolo\",2017,25.0],[\"J.Garoppolo\",2018,26.0],[\"J.Garoppolo\",2019,27.0],[\"J.Garoppolo\",2020,28.0],[\"J.Garoppolo\",2021,29.0],[\"J.Garoppolo\",2022,30.0],[\"J.Landry\",2016,23.0],[\"J.Landry\",2017,24.0],[\"J.Landry\",2018,25.0],[\"G.Gilbert\",2019,28.0],[\"G.Gilbert\",2020,29.0],[\"G.Gilbert\",2021,30.0],[\"B.Bortles\",2015,23.0],[\"B.Bortles\",2016,24.0],[\"B.Bortles\",2017,25.0],[\"B.Bortles\",2018,26.0],[\"B.Bortles\",2019,27.0],[\"J.Manziel\",2015,22.0],[\"M.Lee\",2017,25.0],[\"J.Winston\",2016,22.0],[\"J.Winston\",2017,23.0],[\"J.Winston\",2018,24.0],[\"J.Winston\",2019,25.0],[\"J.Winston\",2020,26.0],[\"J.Winston\",2021,27.0],[\"J.Winston\",2022,28.0],[\"B.Petty\",2017,26.0],[\"B.Hundley\",2017,24.0],[\"T.Heinicke\",2018,25.0],[\"T.Heinicke\",2021,28.0],[\"T.Heinicke\",2022,29.0],[\"T.Siemian\",2017,25.0],[\"T.Siemian\",2022,30.0],[\"S.Mannion\",2016,24.0],[\"S.Mannion\",2017,25.0],[\"S.Mannion\",2018,26.0],[\"S.Mannion\",2019,27.0],[\"M.Mariota\",2016,22.0],[\"M.Mariota\",2017,23.0],[\"M.Mariota\",2018,24.0],[\"M.Mariota\",2019,25.0],[\"M.Mariota\",2020,26.0],[\"M.Mariota\",2021,27.0],[\"M.Mariota\",2022,28.0],[\"B.Allen\",2020,27.0],[\"B.Allen\",2021,28.0],[\"B.Allen\",2022,29.0],[\"J.Driskel\",2019,26.0],[\"J.Driskel\",2020,27.0],[\"T.McEvoy\",2017,24.0],[\"A.Erickson\",2020,27.0],[\"D.Henry\",2022,28.0],[\"K.Hogan\",2017,24.0],[\"N.Sudfeld\",2018,24.0],[\"R.Dixon\",2021,28.0],[\"R.Dixon\",2022,29.0],[\"C.Wentz\",2017,24.0],[\"C.Wentz\",2018,25.0],[\"C.Wentz\",2019,26.0],[\"C.Wentz\",2020,27.0],[\"C.Wentz\",2021,28.0],[\"C.Wentz\",2022,29.0],[\"T.Boyd\",2021,26.0],[\"T.Boyd\",2022,27.0],[\"D.Prescott\",2017,24.0],[\"D.Prescott\",2018,25.0],[\"D.Prescott\",2019,26.0],[\"D.Prescott\",2020,27.0],[\"D.Prescott\",2021,28.0],[\"D.Prescott\",2022,29.0],[\"C.Kessler\",2017,24.0],[\"C.Kessler\",2018,25.0],[\"J.Goff\",2017,22.0],[\"J.Goff\",2018,23.0],[\"J.Goff\",2019,24.0],[\"J.Goff\",2020,25.0],[\"J.Goff\",2021,26.0],[\"J.Goff\",2022,27.0],[\"P.Lynch\",2017,23.0],[\"J.Brissett\",2017,24.0],[\"J.Brissett\",2018,25.0],[\"J.Brissett\",2019,26.0],[\"J.Brissett\",2020,27.0],[\"J.Brissett\",2021,28.0],[\"J.Brissett\",2022,29.0],[\"Z.Pascal\",2020,25.0],[\"P.Walker\",2021,26.0],[\"P.Walker\",2022,27.0],[\"C.McCaffrey\",2019,23.0],[\"N.Mullens\",2021,26.0],[\"N.Mullens\",2022,27.0],[\"T.Hill\",2019,29.0],[\"T.Hill\",2020,30.0],[\"T.Hill\",2021,31.0],[\"T.Hill\",2022,32.0],[\"D.Watson\",2018,22.0],[\"D.Watson\",2019,23.0],[\"D.Watson\",2020,24.0],[\"T.Cohen\",2018,23.0],[\"C.Rush\",2022,28.0],[\"G.Ward\",2021,26.0],[\"L.Fournette\",2022,27.0],[\"M.Trubisky\",2018,24.0],[\"M.Trubisky\",2019,25.0],[\"M.Trubisky\",2020,26.0],[\"M.Trubisky\",2021,27.0],[\"M.Trubisky\",2022,28.0],[\"P.Mahomes\",2018,22.0],[\"P.Mahomes\",2019,23.0],[\"P.Mahomes\",2020,24.0],[\"P.Mahomes\",2021,25.0],[\"P.Mahomes\",2022,26.0],[\"D.Kizer\",2018,22.0],[\"C.Kupp\",2022,29.0],[\"C.Beathard\",2018,24.0],[\"C.Beathard\",2021,27.0],[\"C.Beathard\",2022,28.0],[\"N.Peterman\",2018,24.0],[\"T.Boyle\",2022,27.0],[\"J.Rosen\",2019,22.0],[\"M.White\",2022,27.0],[\"C.Wilson\",2021,25.0],[\"L.Cooke\",2019,24.0],[\"K.Allen\",2019,23.0],[\"K.Allen\",2020,24.0],[\"K.Allen\",2021,25.0],[\"K.Allen\",2022,26.0],[\"M.Rudolph\",2020,25.0],[\"M.Rudolph\",2021,26.0],[\"C.Kirk\",2022,25.0],[\"L.Jackson\",2019,22.0],[\"L.Jackson\",2020,23.0],[\"L.Jackson\",2021,24.0],[\"L.Jackson\",2022,25.0],[\"B.Mayfield\",2019,24.0],[\"B.Mayfield\",2020,25.0],[\"B.Mayfield\",2021,26.0],[\"B.Mayfield\",2022,27.0],[\"J.Allen\",2019,23.0],[\"J.Allen\",2020,24.0],[\"J.Allen\",2021,25.0],[\"J.Allen\",2022,26.0],[\"S.Darnold\",2019,22.0],[\"S.Darnold\",2020,23.0],[\"S.Darnold\",2021,24.0],[\"S.Darnold\",2022,25.0],[\"J.Wolford\",2021,25.0],[\"J.Wolford\",2022,26.0],[\"B.Rypien\",2021,25.0],[\"B.Rypien\",2022,26.0],[\"J.Meyers\",2021,24.0],[\"D.Blough\",2020,25.0],[\"J.Fox\",2022,25.0],[\"K.Murray\",2020,23.0],[\"K.Murray\",2021,24.0],[\"K.Murray\",2022,25.0],[\"D.Haskins\",2020,23.0],[\"J.Stidham\",2020,24.0],[\"G.Minshew II\",2020,24.0],[\"G.Minshew II\",2021,25.0],[\"G.Minshew II\",2022,26.0],[\"R.Finley\",2020,25.0],[\"D.Lock\",2020,23.0],[\"D.Lock\",2021,24.0],[\"D.Jones\",2020,23.0],[\"D.Jones\",2021,24.0],[\"D.Jones\",2022,25.0],[\"C.Streveler\",2021,26.0],[\"C.Streveler\",2022,27.0],[\"K.Hinton\",2021,24.0],[\"T.Townsend\",2021,24.0],[\"T.Townsend\",2022,25.0],[\"T.Huntley\",2021,23.0],[\"T.Huntley\",2022,24.0],[\"T.Tagovailoa\",2021,23.0],[\"T.Tagovailoa\",2022,24.0],[\"J.Eason\",2022,24.0],[\"J.Love\",2022,23.0],[\"J.Jefferson\",2022,23.0],[\"J.Herbert\",2021,23.0],[\"J.Herbert\",2022,24.0],[\"J.Hurts\",2021,23.0],[\"J.Hurts\",2022,24.0],[\"J.Burrow\",2021,24.0],[\"J.Burrow\",2022,25.0],[\"D.Mills\",2022,23.0],[\"J.Fields\",2022,23.0],[\"T.Lawrence\",2022,22.0],[\"M.Jones\",2022,23.0],[\"T.Lance\",2022,22.0],[\"Z.Wilson\",2022,23.0]],\"hovertemplate\":\"passing_yards_last_per_game=%{x}\\u003cbr\\u003epassing_yards_per_game=%{y}\\u003cbr\\u003epasser=%{customdata[0]}\\u003cbr\\u003eseason=%{customdata[1]}\\u003cbr\\u003eage=%{customdata[2]}\\u003cextra\\u003e\\u003c\\u002fextra\\u003e\",\"legendgroup\":\"\",\"marker\":{\"color\":\"#636efa\",\"symbol\":\"circle\"},\"mode\":\"markers\",\"name\":\"\",\"orientation\":\"v\",\"showlegend\":false,\"x\":[170.875,43.333333333333336,75.25,291.1875,342.3125,295.4375,301.6875,271.4375,256.8125,298.125,296.1666666666667,286.0625,272.1875,253.5625,289.5625,312.70588235294116,236.2,173.57142857142858,67.11111111111111,323.5625,322.3125,309.5,324.6666666666667,325.5625,270.875,266.1333333333333,270.8181818181818,207.125,5.0,228.625,200.54545454545453,263.625,220.0,224.15384615384616,134.75,267.8666666666667,267.125,271.0,291.9375,282.2,306.4375,255.2,247.0,221.0,250.5,231.0,28.5,246.0,10.0,246.75,238.625,275.625,277.0,251.6875,231.2,268.6875,26.0,0.0,1.3125,251.15384615384616,266.3125,309.5,328.1666666666667,272.7857142857143,283.4,320.5625,175.5,253.53333333333333,225.375,279.875,267.875,299.0625,274.125,282.1875,269.25,288.4375,173.7,220.86666666666667,217.66666666666666,217.875,233.46666666666667,269.46666666666664,268.4375,281.77777777777777,273.8125,238.8125,276.75,239.28571428571428,277.625,250.125,268.6875,257.1875,53.0,222.11111111111111,89.0,199.0,140.2,12.0,113.25,5.666666666666667,199.55555555555554,200.77777777777777,141.66666666666666,159.5,71.0,81.0,212.5,223.0909090909091,206.91666666666666,244.0625,193.57142857142858,183.83333333333334,295.75,235.26666666666668,232.33333333333334,0.0,202.2,238.27272727272728,254.13333333333333,243.93333333333334,211.8,19.5,167.3,10.0,31.5,0.0,50.333333333333336,0.0,189.42857142857142,37.5,0.0,19.0,21.0,-2.0,15.0,190.11111111111111,17.333333333333332,38.4,65.5,53.0,10.5,14.0,180.25,3.6666666666666665,1.8666666666666667,294.6875,282.1875,293.375,286.9375,309.0,255.9375,307.75,297.73333333333335,286.3125,233.41176470588235,1.6,0.0,238.5625,244.3125,249.125,279.1,269.8125,196.3125,273.8888888888889,227.75,172.8,169.0,208.4,216.06666666666666,0.0,82.66666666666667,20.5,159.5,34.0,198.85714285714286,310.4375,290.625,266.0625,266.375,270.4375,277.875,236.0625,312.375,255.25,287.4117647058824,10.0,49.6,78.5,2.0,128.75,145.0,165.0,205.0,237.57142857142858,236.9090909090909,240.83333333333334,128.7,1.4,93.0,130.0,45.4,268.6666666666667,205.33333333333334,254.0625,3.5833333333333335,2.9375,204.0,55.75,2.3333333333333335,39.5,4.333333333333333,211.4,124.0,122.0,93.75,105.71428571428571,0.0,0.9375,231.375,266.07142857142856,258.46666666666664,191.0,241.8125,211.1875,223.35714285714286,239.8125,233.93333333333334,206.375,242.5,286.0,177.13333333333333,197.8181818181818,179.42857142857142,166.2,160.33333333333334,38.0,253.875,154.16666666666666,217.2,35.75,11.166666666666666,183.4375,183.11111111111111,229.3125,268.3125,212.375,250.0,262.875,207.5,233.27272727272728,268.7692307692308,197.27272727272728,189.375,139.53846153846155,199.8125,210.5625,179.44444444444446,0.0,133.33333333333334,190.85714285714286,6.5,12.666666666666666,56.5,64.0,2.625,0.0,35.8,216.5,201.53333333333333,186.6,118.25,8.25,208.0,161.0,2.0,108.0,51.666666666666664,14.0,0.0,12.333333333333334,5.0,2.0,11.333333333333334,3.8,220.33333333333334,220.0,217.5,165.6,220.1,236.46666666666667,243.125,170.7,46.0,92.4,1.3333333333333333,52.0,194.875,209.8125,217.1875,251.5,263.6875,248.9375,215.5,256.875,263.25,222.35714285714286,0.0,187.33333333333334,242.71428571428572,222.3846153846154,270.375,186.54545454545453,205.0,76.71428571428571,282.6,184.0,205.77777777777777,250.0,155.33333333333334,170.8,285.0,260.375,307.3125,255.8125,268.625,240.2,266.5625,263.8125,12.166666666666666,1.5625,3.4,213.33333333333334,246.3846153846154,10.5,37.5,273.375,238.875,297.5625,268.7142857142857,225.66666666666666,216.375,75.75,2.4,47.5,13.0,245.875,197.13333333333333,181.33333333333334,205.875,244.5625,252.8125,263.0,179.9090909090909,228.5,238.6875,219.64705882352942,0.0,0.0,221.0,129.0,71.0,200.6153846153846,75.0,208.25,87.0,28.0,214.4,73.28571428571429,79.71428571428571,197.2,209.5,140.25,26.2,100.0,232.0,179.5,0.0,0.0,190.375,180.35714285714286,265.0,63.0,106.0,33.0,175.5,30.0,7.428571428571429,153.66666666666666,22.0,8.833333333333334,1.25,224.53846153846155,0.0,29.5,153.77777777777777,248.86666666666667,218.0,201.71428571428572,204.375,249.1875,262.46666666666664,233.06666666666666,253.0625,253.375,256.4375,282.5882352941176,33.0,4.0,112.5,36.4,1.5,83.66666666666667,260.0,239.33333333333334,248.625,182.66666666666666,254.0,0.5625,0.0,0.0,40.0,0.0,243.0,207.71428571428572,276.75,244.0625,230.4375,209.07692307692307,43.75,1.25,252.625,255.625,269.53846153846155,272.0,319.3125,25.0,167.14285714285714,134.83333333333334,4.25,10.0,137.0,213.6875,242.92857142857142,192.33333333333334,31.0,19.0,37.0,7.666666666666667,234.83333333333334,228.4,215.46666666666667,180.57142857142858,171.85714285714286,226.0,0.5714285714285714,171.66666666666666,185.0,29.8,125.375,228.33333333333334,5.375,1.7333333333333334,0.625,34.666666666666664,134.0,0.0,0.0,236.375,253.53846153846155,279.45454545454544,252.4375,218.33333333333334,209.58823529411765,1.0666666666666667,2.875,229.1875,207.75,242.8125,306.375,371.2,278.0625,153.33333333333334,42.0,155.57142857142858,253.6,293.0,289.875,263.46666666666664,231.78571428571428,165.66666666666666,133.33333333333334,193.625,0.5,196.13333333333333,1.5454545454545454,128.3,0.0,92.0,72.4,3.125,243.7,147.0,4.923076923076923,3.4375,58.0,81.5,242.71428571428572,260.3125,256.8,1.3125,105.5,0.9375,0.0,182.75,230.21428571428572,209.2,205.5,8.6,284.0,318.5625,287.92857142857144,316.0,284.6470588235294,192.93333333333334,0.0,238.33333333333334,131.16666666666666,16.5,63.0,131.5,162.71428571428572,238.25,2.3,4.0,133.0,255.53846153846155,152.5,60.0,176.5,81.0,1.9411764705882353,75.0625,208.46666666666667,183.8,240.16666666666666,266.07142857142856,239.1875,222.6875,215.0,172.83333333333334,193.0625,284.0,259.2352941176471,220.3846153846154,232.6153846153846,184.0,210.41666666666666,231.0,2.5,147.5,0.0,3.5833333333333335,196.8,12.666666666666666,232.625,248.1875,270.5,151.66666666666666,4.666666666666667,233.64285714285714,251.0,146.33333333333334,158.0,204.0,225.6153846153846,232.84615384615384,210.21428571428572,220.72727272727272,52.5,18.0,13.0,13.0,16.0,7.5,154.42857142857142,181.4,204.07692307692307,25.0,68.5,2.0588235294117645,289.06666666666666,294.94117647058823,75.78571428571429,209.6,268.8,288.1875,204.92307692307693,155.83333333333334,213.35294117647058,223.58823529411765,100.5,179.53846153846155],\"xaxis\":\"x\",\"y\":[43.333333333333336,75.25,211.25,342.3125,295.4375,224.9,271.4375,256.8125,298.125,296.1666666666667,286.0625,272.1875,253.5625,289.5625,312.70588235294116,276.11764705882354,173.57142857142858,67.11111111111111,74.2,322.3125,309.5,324.6666666666667,325.5625,270.875,266.1333333333333,270.8181818181818,245.16666666666666,5.0,80.66666666666667,200.54545454545453,263.625,220.0,224.15384615384616,134.75,12.0,267.125,271.0,291.9375,282.2,282.57142857142856,255.2,247.0,221.0,29.0,231.0,28.5,246.0,5.333333333333333,116.0,238.625,275.625,277.0,251.6875,231.2,268.6875,260.5,26.0,1.3125,2.0,266.3125,309.5,328.1666666666667,272.7857142857143,283.4,320.5625,175.5,253.53333333333333,233.75,279.875,267.875,299.0625,274.125,282.1875,269.25,288.4375,260.5625,220.86666666666667,217.66666666666666,217.875,233.46666666666667,269.46666666666664,218.0,281.77777777777777,273.8125,238.8125,276.75,239.28571428571428,277.625,250.125,268.6875,257.1875,217.35294117647058,222.11111111111111,18.5,199.0,251.5,12.0,113.25,5.666666666666667,232.5,200.77777777777777,141.66666666666666,159.5,71.0,81.0,29.5,223.0909090909091,206.91666666666666,244.0625,193.57142857142858,183.83333333333334,295.75,235.26666666666668,232.33333333333334,13.0,-4.0,238.27272727272728,254.13333333333333,243.93333333333334,211.8,190.42857142857142,167.3,10.0,31.5,0.0,12.0,0.0,9.25,37.5,182.0,0.0,21.0,-2.0,15.0,0.0,17.333333333333332,38.4,178.8,53.0,10.5,14.0,180.25,215.25,0.0,1.2666666666666666,282.1875,293.375,286.9375,309.0,255.9375,307.75,297.73333333333335,286.3125,233.41176470588235,254.75,0.0,0.0,244.3125,249.125,279.1,269.8125,196.3125,273.8888888888889,227.75,172.8,169.0,210.2,216.06666666666666,164.0,29.0,20.5,0.0,10.0,198.85714285714286,9.428571428571429,290.625,266.0625,266.375,270.4375,277.875,236.0625,312.375,255.25,287.4117647058824,231.88888888888889,49.6,78.5,2.0,16.0,145.0,66.0,205.0,237.57142857142858,236.9090909090909,240.83333333333334,128.7,1.4,93.0,130.0,45.4,37.0,205.33333333333334,46.5,190.25,2.9375,6.333333333333333,218.4,184.75,2.0588235294117645,4.333333333333333,211.4,128.0,122.0,93.75,105.71428571428571,195.0,0.9375,1.25,241.0,258.46666666666664,191.0,133.33333333333334,211.1875,223.35714285714286,239.8125,233.93333333333334,206.375,242.5,286.0,177.13333333333333,97.71428571428571,179.42857142857142,141.85714285714286,160.33333333333334,38.0,253.875,154.16666666666666,217.2,78.25,11.166666666666666,29.0,183.11111111111111,111.0,268.3125,212.375,250.0,262.875,207.5,233.27272727272728,268.7692307692308,197.27272727272728,189.375,205.07142857142858,199.8125,210.5625,179.44444444444446,203.72727272727272,0.0,190.85714285714286,6.5,28.0,56.5,64.0,92.5,0.0,0.0,0.6666666666666666,201.53333333333333,186.6,118.25,8.25,208.0,161.0,29.0,108.0,128.0,163.45454545454547,0.0,12.333333333333334,5.0,2.0,11.333333333333334,3.8,9.333333333333334,182.33333333333334,217.5,165.6,220.1,236.46666666666667,243.125,170.7,46.0,92.4,4.0,0.0,39.0,209.8125,217.1875,251.5,263.6875,248.9375,215.5,256.875,263.25,222.35714285714286,234.93333333333334,0.0,58.0,222.3846153846154,270.375,186.54545454545453,205.0,76.71428571428571,282.6,184.0,205.77777777777777,250.0,112.0,170.8,285.0,260.375,307.3125,255.8125,268.625,240.2,266.5625,263.8125,266.8235294117647,1.5625,4.9375,0.3125,246.3846153846154,188.22222222222223,37.5,10.5,238.875,297.5625,268.7142857142857,282.6666666666667,216.375,75.75,173.83333333333334,47.5,13.0,245.875,197.13333333333333,181.33333333333334,178.14285714285714,244.5625,252.8125,263.0,230.3846153846154,228.5,238.6875,219.64705882352942,211.33333333333334,0.0,0.0,129.0,71.0,16.666666666666668,236.16666666666666,208.25,87.0,28.0,214.4,131.66666666666666,79.71428571428571,79.66666666666667,209.5,140.25,26.2,132.5,0.0,179.5,49.25,0.0,0.4,180.35714285714286,265.0,63.0,106.0,2.0,175.5,251.88235294117646,68.0,1.5384615384615385,176.5,132.5,1.25,2.5714285714285716,201.9375,29.5,153.77777777777777,248.86666666666667,218.0,136.6,133.57142857142858,249.1875,262.46666666666664,233.06666666666666,253.0625,253.375,256.4375,282.5882352941176,234.8,4.0,112.5,10.0,1.5,83.66666666666667,260.0,239.33333333333334,248.625,182.66666666666666,254.0,221.54545454545453,0.0,0.0,3.9375,0.0,243.0,194.0,276.75,244.0625,230.4375,209.07692307692307,1.5,166.66666666666666,0.0,255.625,269.53846153846155,272.0,319.3125,25.0,167.14285714285714,286.0,136.0,166.9090909090909,64.0,213.6875,206.55555555555554,207.72727272727272,92.0,19.0,37.0,7.666666666666667,42.0,228.4,215.46666666666667,180.57142857142858,171.85714285714286,226.0,0.5714285714285714,170.69230769230768,185.0,29.8,22.0,228.33333333333334,144.0,0.0,0.0,0.25,129.25,11.0,0.0,9.0,253.53846153846155,279.45454545454544,252.4375,218.33333333333334,209.58823529411765,219.375,2.875,1.4375,207.75,242.8125,306.375,371.2,278.0625,238.33333333333334,42.0,141.8,253.6,293.0,289.875,263.46666666666664,231.78571428571428,261.05882352941177,147.5,193.625,0.5,196.13333333333333,1.5454545454545454,128.3,186.28571428571428,0.0,72.4,121.83333333333333,0.0,147.0,56.0,3.4375,58.0,81.5,15.0,260.3125,256.8,301.4375,0.0625,131.375,0.2857142857142857,0.0,230.21428571428572,209.2,205.5,8.6,178.85714285714286,318.5625,287.92857142857144,316.0,284.6470588235294,308.8235294117647,62.333333333333336,0.0,250.4,16.5,8.75,74.0,33.0,113.4,298.0,6.285714285714286,5.333333333333333,255.53846153846155,152.5,60.0,208.0,81.0,138.5,0.0,208.46666666666667,183.8,240.16666666666666,186.83333333333334,239.1875,222.6875,215.0,180.25,193.0625,284.0,259.2352941176471,267.6875,232.6153846153846,184.0,210.41666666666666,190.5,2.5,195.0,0.0,120.75,2.8125,49.0,6.0,248.1875,270.5,215.27272727272728,205.57142857142858,51.2,251.0,146.33333333333334,132.6,41.0,225.6153846153846,131.16666666666666,210.21428571428572,220.72727272727272,200.3125,18.0,90.0,0.1,16.0,0.0,154.42857142857142,131.6,204.07692307692307,272.9230769230769,59.0,48.75,2.0,294.94117647058823,278.7647058823529,209.6,246.73333333333332,288.1875,279.6875,207.86666666666667,149.46666666666667,241.94117647058823,214.07142857142858,97.0,187.55555555555554],\"yaxis\":\"y\",\"type\":\"scatter\"}],                        {\"template\":{\"data\":{\"histogram2dcontour\":[{\"type\":\"histogram2dcontour\",\"colorbar\":{\"outlinewidth\":0,\"ticks\":\"\"},\"colorscale\":[[0.0,\"#0d0887\"],[0.1111111111111111,\"#46039f\"],[0.2222222222222222,\"#7201a8\"],[0.3333333333333333,\"#9c179e\"],[0.4444444444444444,\"#bd3786\"],[0.5555555555555556,\"#d8576b\"],[0.6666666666666666,\"#ed7953\"],[0.7777777777777778,\"#fb9f3a\"],[0.8888888888888888,\"#fdca26\"],[1.0,\"#f0f921\"]]}],\"choropleth\":[{\"type\":\"choropleth\",\"colorbar\":{\"outlinewidth\":0,\"ticks\":\"\"}}],\"histogram2d\":[{\"type\":\"histogram2d\",\"colorbar\":{\"outlinewidth\":0,\"ticks\":\"\"},\"colorscale\":[[0.0,\"#0d0887\"],[0.1111111111111111,\"#46039f\"],[0.2222222222222222,\"#7201a8\"],[0.3333333333333333,\"#9c179e\"],[0.4444444444444444,\"#bd3786\"],[0.5555555555555556,\"#d8576b\"],[0.6666666666666666,\"#ed7953\"],[0.7777777777777778,\"#fb9f3a\"],[0.8888888888888888,\"#fdca26\"],[1.0,\"#f0f921\"]]}],\"heatmap\":[{\"type\":\"heatmap\",\"colorbar\":{\"outlinewidth\":0,\"ticks\":\"\"},\"colorscale\":[[0.0,\"#0d0887\"],[0.1111111111111111,\"#46039f\"],[0.2222222222222222,\"#7201a8\"],[0.3333333333333333,\"#9c179e\"],[0.4444444444444444,\"#bd3786\"],[0.5555555555555556,\"#d8576b\"],[0.6666666666666666,\"#ed7953\"],[0.7777777777777778,\"#fb9f3a\"],[0.8888888888888888,\"#fdca26\"],[1.0,\"#f0f921\"]]}],\"heatmapgl\":[{\"type\":\"heatmapgl\",\"colorbar\":{\"outlinewidth\":0,\"ticks\":\"\"},\"colorscale\":[[0.0,\"#0d0887\"],[0.1111111111111111,\"#46039f\"],[0.2222222222222222,\"#7201a8\"],[0.3333333333333333,\"#9c179e\"],[0.4444444444444444,\"#bd3786\"],[0.5555555555555556,\"#d8576b\"],[0.6666666666666666,\"#ed7953\"],[0.7777777777777778,\"#fb9f3a\"],[0.8888888888888888,\"#fdca26\"],[1.0,\"#f0f921\"]]}],\"contourcarpet\":[{\"type\":\"contourcarpet\",\"colorbar\":{\"outlinewidth\":0,\"ticks\":\"\"}}],\"contour\":[{\"type\":\"contour\",\"colorbar\":{\"outlinewidth\":0,\"ticks\":\"\"},\"colorscale\":[[0.0,\"#0d0887\"],[0.1111111111111111,\"#46039f\"],[0.2222222222222222,\"#7201a8\"],[0.3333333333333333,\"#9c179e\"],[0.4444444444444444,\"#bd3786\"],[0.5555555555555556,\"#d8576b\"],[0.6666666666666666,\"#ed7953\"],[0.7777777777777778,\"#fb9f3a\"],[0.8888888888888888,\"#fdca26\"],[1.0,\"#f0f921\"]]}],\"surface\":[{\"type\":\"surface\",\"colorbar\":{\"outlinewidth\":0,\"ticks\":\"\"},\"colorscale\":[[0.0,\"#0d0887\"],[0.1111111111111111,\"#46039f\"],[0.2222222222222222,\"#7201a8\"],[0.3333333333333333,\"#9c179e\"],[0.4444444444444444,\"#bd3786\"],[0.5555555555555556,\"#d8576b\"],[0.6666666666666666,\"#ed7953\"],[0.7777777777777778,\"#fb9f3a\"],[0.8888888888888888,\"#fdca26\"],[1.0,\"#f0f921\"]]}],\"mesh3d\":[{\"type\":\"mesh3d\",\"colorbar\":{\"outlinewidth\":0,\"ticks\":\"\"}}],\"scatter\":[{\"fillpattern\":{\"fillmode\":\"overlay\",\"size\":10,\"solidity\":0.2},\"type\":\"scatter\"}],\"parcoords\":[{\"type\":\"parcoords\",\"line\":{\"colorbar\":{\"outlinewidth\":0,\"ticks\":\"\"}}}],\"scatterpolargl\":[{\"type\":\"scatterpolargl\",\"marker\":{\"colorbar\":{\"outlinewidth\":0,\"ticks\":\"\"}}}],\"bar\":[{\"error_x\":{\"color\":\"#2a3f5f\"},\"error_y\":{\"color\":\"#2a3f5f\"},\"marker\":{\"line\":{\"color\":\"#E5ECF6\",\"width\":0.5},\"pattern\":{\"fillmode\":\"overlay\",\"size\":10,\"solidity\":0.2}},\"type\":\"bar\"}],\"scattergeo\":[{\"type\":\"scattergeo\",\"marker\":{\"colorbar\":{\"outlinewidth\":0,\"ticks\":\"\"}}}],\"scatterpolar\":[{\"type\":\"scatterpolar\",\"marker\":{\"colorbar\":{\"outlinewidth\":0,\"ticks\":\"\"}}}],\"histogram\":[{\"marker\":{\"pattern\":{\"fillmode\":\"overlay\",\"size\":10,\"solidity\":0.2}},\"type\":\"histogram\"}],\"scattergl\":[{\"type\":\"scattergl\",\"marker\":{\"colorbar\":{\"outlinewidth\":0,\"ticks\":\"\"}}}],\"scatter3d\":[{\"type\":\"scatter3d\",\"line\":{\"colorbar\":{\"outlinewidth\":0,\"ticks\":\"\"}},\"marker\":{\"colorbar\":{\"outlinewidth\":0,\"ticks\":\"\"}}}],\"scattermapbox\":[{\"type\":\"scattermapbox\",\"marker\":{\"colorbar\":{\"outlinewidth\":0,\"ticks\":\"\"}}}],\"scatterternary\":[{\"type\":\"scatterternary\",\"marker\":{\"colorbar\":{\"outlinewidth\":0,\"ticks\":\"\"}}}],\"scattercarpet\":[{\"type\":\"scattercarpet\",\"marker\":{\"colorbar\":{\"outlinewidth\":0,\"ticks\":\"\"}}}],\"carpet\":[{\"aaxis\":{\"endlinecolor\":\"#2a3f5f\",\"gridcolor\":\"white\",\"linecolor\":\"white\",\"minorgridcolor\":\"white\",\"startlinecolor\":\"#2a3f5f\"},\"baxis\":{\"endlinecolor\":\"#2a3f5f\",\"gridcolor\":\"white\",\"linecolor\":\"white\",\"minorgridcolor\":\"white\",\"startlinecolor\":\"#2a3f5f\"},\"type\":\"carpet\"}],\"table\":[{\"cells\":{\"fill\":{\"color\":\"#EBF0F8\"},\"line\":{\"color\":\"white\"}},\"header\":{\"fill\":{\"color\":\"#C8D4E3\"},\"line\":{\"color\":\"white\"}},\"type\":\"table\"}],\"barpolar\":[{\"marker\":{\"line\":{\"color\":\"#E5ECF6\",\"width\":0.5},\"pattern\":{\"fillmode\":\"overlay\",\"size\":10,\"solidity\":0.2}},\"type\":\"barpolar\"}],\"pie\":[{\"automargin\":true,\"type\":\"pie\"}]},\"layout\":{\"autotypenumbers\":\"strict\",\"colorway\":[\"#636efa\",\"#EF553B\",\"#00cc96\",\"#ab63fa\",\"#FFA15A\",\"#19d3f3\",\"#FF6692\",\"#B6E880\",\"#FF97FF\",\"#FECB52\"],\"font\":{\"color\":\"#2a3f5f\"},\"hovermode\":\"closest\",\"hoverlabel\":{\"align\":\"left\"},\"paper_bgcolor\":\"white\",\"plot_bgcolor\":\"#E5ECF6\",\"polar\":{\"bgcolor\":\"#E5ECF6\",\"angularaxis\":{\"gridcolor\":\"white\",\"linecolor\":\"white\",\"ticks\":\"\"},\"radialaxis\":{\"gridcolor\":\"white\",\"linecolor\":\"white\",\"ticks\":\"\"}},\"ternary\":{\"bgcolor\":\"#E5ECF6\",\"aaxis\":{\"gridcolor\":\"white\",\"linecolor\":\"white\",\"ticks\":\"\"},\"baxis\":{\"gridcolor\":\"white\",\"linecolor\":\"white\",\"ticks\":\"\"},\"caxis\":{\"gridcolor\":\"white\",\"linecolor\":\"white\",\"ticks\":\"\"}},\"coloraxis\":{\"colorbar\":{\"outlinewidth\":0,\"ticks\":\"\"}},\"colorscale\":{\"sequential\":[[0.0,\"#0d0887\"],[0.1111111111111111,\"#46039f\"],[0.2222222222222222,\"#7201a8\"],[0.3333333333333333,\"#9c179e\"],[0.4444444444444444,\"#bd3786\"],[0.5555555555555556,\"#d8576b\"],[0.6666666666666666,\"#ed7953\"],[0.7777777777777778,\"#fb9f3a\"],[0.8888888888888888,\"#fdca26\"],[1.0,\"#f0f921\"]],\"sequentialminus\":[[0.0,\"#0d0887\"],[0.1111111111111111,\"#46039f\"],[0.2222222222222222,\"#7201a8\"],[0.3333333333333333,\"#9c179e\"],[0.4444444444444444,\"#bd3786\"],[0.5555555555555556,\"#d8576b\"],[0.6666666666666666,\"#ed7953\"],[0.7777777777777778,\"#fb9f3a\"],[0.8888888888888888,\"#fdca26\"],[1.0,\"#f0f921\"]],\"diverging\":[[0,\"#8e0152\"],[0.1,\"#c51b7d\"],[0.2,\"#de77ae\"],[0.3,\"#f1b6da\"],[0.4,\"#fde0ef\"],[0.5,\"#f7f7f7\"],[0.6,\"#e6f5d0\"],[0.7,\"#b8e186\"],[0.8,\"#7fbc41\"],[0.9,\"#4d9221\"],[1,\"#276419\"]]},\"xaxis\":{\"gridcolor\":\"white\",\"linecolor\":\"white\",\"ticks\":\"\",\"title\":{\"standoff\":15},\"zerolinecolor\":\"white\",\"automargin\":true,\"zerolinewidth\":2},\"yaxis\":{\"gridcolor\":\"white\",\"linecolor\":\"white\",\"ticks\":\"\",\"title\":{\"standoff\":15},\"zerolinecolor\":\"white\",\"automargin\":true,\"zerolinewidth\":2},\"scene\":{\"xaxis\":{\"backgroundcolor\":\"#E5ECF6\",\"gridcolor\":\"white\",\"linecolor\":\"white\",\"showbackground\":true,\"ticks\":\"\",\"zerolinecolor\":\"white\",\"gridwidth\":2},\"yaxis\":{\"backgroundcolor\":\"#E5ECF6\",\"gridcolor\":\"white\",\"linecolor\":\"white\",\"showbackground\":true,\"ticks\":\"\",\"zerolinecolor\":\"white\",\"gridwidth\":2},\"zaxis\":{\"backgroundcolor\":\"#E5ECF6\",\"gridcolor\":\"white\",\"linecolor\":\"white\",\"showbackground\":true,\"ticks\":\"\",\"zerolinecolor\":\"white\",\"gridwidth\":2}},\"shapedefaults\":{\"line\":{\"color\":\"#2a3f5f\"}},\"annotationdefaults\":{\"arrowcolor\":\"#2a3f5f\",\"arrowhead\":0,\"arrowwidth\":1},\"geo\":{\"bgcolor\":\"white\",\"landcolor\":\"#E5ECF6\",\"subunitcolor\":\"white\",\"showland\":true,\"showlakes\":true,\"lakecolor\":\"white\"},\"title\":{\"x\":0.05},\"mapbox\":{\"style\":\"light\"}}},\"xaxis\":{\"anchor\":\"y\",\"domain\":[0.0,1.0],\"title\":{\"text\":\"passing_yards_last_per_game\"}},\"yaxis\":{\"anchor\":\"x\",\"domain\":[0.0,1.0],\"title\":{\"text\":\"passing_yards_per_game\"}},\"legend\":{\"tracegroupgap\":0},\"margin\":{\"t\":60}},                        {\"responsive\": true}                    ).then(function(){\n",
       "                            \n",
       "var gd = document.getElementById('cbfbbcd2-7e5a-45b0-9e8f-c383e624cbf5');\n",
       "var x = new MutationObserver(function (mutations, observer) {{\n",
       "        var display = window.getComputedStyle(gd).display;\n",
       "        if (!display || display === 'none') {{\n",
       "            console.log([gd, 'removed!']);\n",
       "            Plotly.purge(gd);\n",
       "            observer.disconnect();\n",
       "        }}\n",
       "}});\n",
       "\n",
       "// Listen for the removal of the full notebook cells\n",
       "var notebookContainer = gd.closest('#notebook-container');\n",
       "if (notebookContainer) {{\n",
       "    x.observe(notebookContainer, {childList: true});\n",
       "}}\n",
       "\n",
       "// Listen for the clearing of the current output cell\n",
       "var outputEl = gd.closest('.output');\n",
       "if (outputEl) {{\n",
       "    x.observe(outputEl, {childList: true});\n",
       "}}\n",
       "\n",
       "                        })                };                });            </script>        </div>"
      ]
     },
     "metadata": {},
     "output_type": "display_data"
    },
    {
     "data": {
      "text/html": [
       "<div>\n",
       "<style scoped>\n",
       "    .dataframe tbody tr th:only-of-type {\n",
       "        vertical-align: middle;\n",
       "    }\n",
       "\n",
       "    .dataframe tbody tr th {\n",
       "        vertical-align: top;\n",
       "    }\n",
       "\n",
       "    .dataframe thead th {\n",
       "        text-align: right;\n",
       "    }\n",
       "</style>\n",
       "<table border=\"1\" class=\"dataframe\">\n",
       "  <thead>\n",
       "    <tr style=\"text-align: right;\">\n",
       "      <th></th>\n",
       "      <th>passer_id</th>\n",
       "      <th>passer</th>\n",
       "      <th>season</th>\n",
       "      <th>age</th>\n",
       "      <th>age_last</th>\n",
       "      <th>passing_yards_per_game</th>\n",
       "      <th>passing_attempts_per_game</th>\n",
       "      <th>total_epa_per_game</th>\n",
       "      <th>passing_touchdowns_per_game</th>\n",
       "      <th>completions_per_game</th>\n",
       "      <th>fantasy_points_per_game</th>\n",
       "      <th>passing_yards_last_per_game</th>\n",
       "      <th>passing_attempts_last_per_game</th>\n",
       "      <th>total_epa_last_per_game</th>\n",
       "      <th>passing_touchdowns_last_per_game</th>\n",
       "      <th>completions_last_per_game</th>\n",
       "      <th>fantasy_points_last_per_game</th>\n",
       "      <th>games</th>\n",
       "      <th>games_last</th>\n",
       "    </tr>\n",
       "  </thead>\n",
       "  <tbody>\n",
       "    <tr>\n",
       "      <th>0</th>\n",
       "      <td>00-0007091</td>\n",
       "      <td>M.Hasselbeck</td>\n",
       "      <td>2013</td>\n",
       "      <td>37.0</td>\n",
       "      <td>36.0</td>\n",
       "      <td>43.333333</td>\n",
       "      <td>4.000000</td>\n",
       "      <td>1.269991</td>\n",
       "      <td>0.000000</td>\n",
       "      <td>2.333333</td>\n",
       "      <td>1.000000</td>\n",
       "      <td>170.875000</td>\n",
       "      <td>27.625000</td>\n",
       "      <td>-0.419874</td>\n",
       "      <td>0.875000</td>\n",
       "      <td>17.250000</td>\n",
       "      <td>9.560000</td>\n",
       "      <td>3.0</td>\n",
       "      <td>8.0</td>\n",
       "    </tr>\n",
       "    <tr>\n",
       "      <th>1</th>\n",
       "      <td>00-0007091</td>\n",
       "      <td>M.Hasselbeck</td>\n",
       "      <td>2014</td>\n",
       "      <td>38.0</td>\n",
       "      <td>37.0</td>\n",
       "      <td>75.250000</td>\n",
       "      <td>11.000000</td>\n",
       "      <td>1.518184</td>\n",
       "      <td>0.500000</td>\n",
       "      <td>7.500000</td>\n",
       "      <td>4.235000</td>\n",
       "      <td>43.333333</td>\n",
       "      <td>4.000000</td>\n",
       "      <td>1.269991</td>\n",
       "      <td>0.000000</td>\n",
       "      <td>2.333333</td>\n",
       "      <td>1.000000</td>\n",
       "      <td>4.0</td>\n",
       "      <td>3.0</td>\n",
       "    </tr>\n",
       "    <tr>\n",
       "      <th>2</th>\n",
       "      <td>00-0007091</td>\n",
       "      <td>M.Hasselbeck</td>\n",
       "      <td>2015</td>\n",
       "      <td>39.0</td>\n",
       "      <td>38.0</td>\n",
       "      <td>211.250000</td>\n",
       "      <td>32.000000</td>\n",
       "      <td>3.880949</td>\n",
       "      <td>1.125000</td>\n",
       "      <td>19.500000</td>\n",
       "      <td>11.387500</td>\n",
       "      <td>75.250000</td>\n",
       "      <td>11.000000</td>\n",
       "      <td>1.518184</td>\n",
       "      <td>0.500000</td>\n",
       "      <td>7.500000</td>\n",
       "      <td>4.235000</td>\n",
       "      <td>8.0</td>\n",
       "      <td>4.0</td>\n",
       "    </tr>\n",
       "    <tr>\n",
       "      <th>3</th>\n",
       "      <td>00-0010346</td>\n",
       "      <td>P.Manning</td>\n",
       "      <td>2013</td>\n",
       "      <td>37.0</td>\n",
       "      <td>36.0</td>\n",
       "      <td>342.312500</td>\n",
       "      <td>41.125000</td>\n",
       "      <td>18.124193</td>\n",
       "      <td>3.437500</td>\n",
       "      <td>28.125000</td>\n",
       "      <td>25.623750</td>\n",
       "      <td>291.187500</td>\n",
       "      <td>36.250000</td>\n",
       "      <td>11.813057</td>\n",
       "      <td>2.312500</td>\n",
       "      <td>25.000000</td>\n",
       "      <td>19.435000</td>\n",
       "      <td>16.0</td>\n",
       "      <td>16.0</td>\n",
       "    </tr>\n",
       "    <tr>\n",
       "      <th>4</th>\n",
       "      <td>00-0010346</td>\n",
       "      <td>P.Manning</td>\n",
       "      <td>2014</td>\n",
       "      <td>38.0</td>\n",
       "      <td>37.0</td>\n",
       "      <td>295.437500</td>\n",
       "      <td>37.187500</td>\n",
       "      <td>9.229780</td>\n",
       "      <td>2.437500</td>\n",
       "      <td>24.687500</td>\n",
       "      <td>19.542500</td>\n",
       "      <td>342.312500</td>\n",
       "      <td>41.125000</td>\n",
       "      <td>18.124193</td>\n",
       "      <td>3.437500</td>\n",
       "      <td>28.125000</td>\n",
       "      <td>25.623750</td>\n",
       "      <td>16.0</td>\n",
       "      <td>16.0</td>\n",
       "    </tr>\n",
       "    <tr>\n",
       "      <th>...</th>\n",
       "      <td>...</td>\n",
       "      <td>...</td>\n",
       "      <td>...</td>\n",
       "      <td>...</td>\n",
       "      <td>...</td>\n",
       "      <td>...</td>\n",
       "      <td>...</td>\n",
       "      <td>...</td>\n",
       "      <td>...</td>\n",
       "      <td>...</td>\n",
       "      <td>...</td>\n",
       "      <td>...</td>\n",
       "      <td>...</td>\n",
       "      <td>...</td>\n",
       "      <td>...</td>\n",
       "      <td>...</td>\n",
       "      <td>...</td>\n",
       "      <td>...</td>\n",
       "      <td>...</td>\n",
       "    </tr>\n",
       "    <tr>\n",
       "      <th>597</th>\n",
       "      <td>00-0036945</td>\n",
       "      <td>J.Fields</td>\n",
       "      <td>2022</td>\n",
       "      <td>23.0</td>\n",
       "      <td>22.0</td>\n",
       "      <td>149.466667</td>\n",
       "      <td>21.200000</td>\n",
       "      <td>0.334649</td>\n",
       "      <td>1.133333</td>\n",
       "      <td>12.800000</td>\n",
       "      <td>19.732000</td>\n",
       "      <td>155.833333</td>\n",
       "      <td>22.333333</td>\n",
       "      <td>0.922352</td>\n",
       "      <td>0.583333</td>\n",
       "      <td>13.250000</td>\n",
       "      <td>10.566667</td>\n",
       "      <td>15.0</td>\n",
       "      <td>12.0</td>\n",
       "    </tr>\n",
       "    <tr>\n",
       "      <th>598</th>\n",
       "      <td>00-0036971</td>\n",
       "      <td>T.Lawrence</td>\n",
       "      <td>2022</td>\n",
       "      <td>22.0</td>\n",
       "      <td>21.0</td>\n",
       "      <td>241.941176</td>\n",
       "      <td>34.235294</td>\n",
       "      <td>8.125579</td>\n",
       "      <td>1.470588</td>\n",
       "      <td>22.764706</td>\n",
       "      <td>17.389412</td>\n",
       "      <td>213.352941</td>\n",
       "      <td>35.176471</td>\n",
       "      <td>-0.338662</td>\n",
       "      <td>0.705882</td>\n",
       "      <td>21.058824</td>\n",
       "      <td>11.708235</td>\n",
       "      <td>17.0</td>\n",
       "      <td>17.0</td>\n",
       "    </tr>\n",
       "    <tr>\n",
       "      <th>599</th>\n",
       "      <td>00-0036972</td>\n",
       "      <td>M.Jones</td>\n",
       "      <td>2022</td>\n",
       "      <td>23.0</td>\n",
       "      <td>22.0</td>\n",
       "      <td>214.071429</td>\n",
       "      <td>31.428571</td>\n",
       "      <td>1.438546</td>\n",
       "      <td>1.000000</td>\n",
       "      <td>20.571429</td>\n",
       "      <td>12.148571</td>\n",
       "      <td>223.588235</td>\n",
       "      <td>30.588235</td>\n",
       "      <td>5.135010</td>\n",
       "      <td>1.294118</td>\n",
       "      <td>20.705882</td>\n",
       "      <td>13.231765</td>\n",
       "      <td>14.0</td>\n",
       "      <td>17.0</td>\n",
       "    </tr>\n",
       "    <tr>\n",
       "      <th>600</th>\n",
       "      <td>00-0037012</td>\n",
       "      <td>T.Lance</td>\n",
       "      <td>2022</td>\n",
       "      <td>22.0</td>\n",
       "      <td>21.0</td>\n",
       "      <td>97.000000</td>\n",
       "      <td>15.500000</td>\n",
       "      <td>-3.080925</td>\n",
       "      <td>0.000000</td>\n",
       "      <td>7.500000</td>\n",
       "      <td>6.230000</td>\n",
       "      <td>100.500000</td>\n",
       "      <td>11.833333</td>\n",
       "      <td>3.224023</td>\n",
       "      <td>0.833333</td>\n",
       "      <td>6.833333</td>\n",
       "      <td>10.820000</td>\n",
       "      <td>2.0</td>\n",
       "      <td>6.0</td>\n",
       "    </tr>\n",
       "    <tr>\n",
       "      <th>601</th>\n",
       "      <td>00-0037013</td>\n",
       "      <td>Z.Wilson</td>\n",
       "      <td>2022</td>\n",
       "      <td>23.0</td>\n",
       "      <td>22.0</td>\n",
       "      <td>187.555556</td>\n",
       "      <td>26.888889</td>\n",
       "      <td>0.204006</td>\n",
       "      <td>0.666667</td>\n",
       "      <td>14.666667</td>\n",
       "      <td>10.880000</td>\n",
       "      <td>179.538462</td>\n",
       "      <td>29.384615</td>\n",
       "      <td>-1.164747</td>\n",
       "      <td>0.692308</td>\n",
       "      <td>16.384615</td>\n",
       "      <td>11.681538</td>\n",
       "      <td>9.0</td>\n",
       "      <td>13.0</td>\n",
       "    </tr>\n",
       "  </tbody>\n",
       "</table>\n",
       "<p>602 rows × 19 columns</p>\n",
       "</div>"
      ],
      "text/plain": [
       "      passer_id        passer  season   age  age_last  passing_yards_per_game  \\\n",
       "0    00-0007091  M.Hasselbeck    2013  37.0      36.0               43.333333   \n",
       "1    00-0007091  M.Hasselbeck    2014  38.0      37.0               75.250000   \n",
       "2    00-0007091  M.Hasselbeck    2015  39.0      38.0              211.250000   \n",
       "3    00-0010346     P.Manning    2013  37.0      36.0              342.312500   \n",
       "4    00-0010346     P.Manning    2014  38.0      37.0              295.437500   \n",
       "..          ...           ...     ...   ...       ...                     ...   \n",
       "597  00-0036945      J.Fields    2022  23.0      22.0              149.466667   \n",
       "598  00-0036971    T.Lawrence    2022  22.0      21.0              241.941176   \n",
       "599  00-0036972       M.Jones    2022  23.0      22.0              214.071429   \n",
       "600  00-0037012       T.Lance    2022  22.0      21.0               97.000000   \n",
       "601  00-0037013      Z.Wilson    2022  23.0      22.0              187.555556   \n",
       "\n",
       "     passing_attempts_per_game  total_epa_per_game  \\\n",
       "0                     4.000000            1.269991   \n",
       "1                    11.000000            1.518184   \n",
       "2                    32.000000            3.880949   \n",
       "3                    41.125000           18.124193   \n",
       "4                    37.187500            9.229780   \n",
       "..                         ...                 ...   \n",
       "597                  21.200000            0.334649   \n",
       "598                  34.235294            8.125579   \n",
       "599                  31.428571            1.438546   \n",
       "600                  15.500000           -3.080925   \n",
       "601                  26.888889            0.204006   \n",
       "\n",
       "     passing_touchdowns_per_game  completions_per_game  \\\n",
       "0                       0.000000              2.333333   \n",
       "1                       0.500000              7.500000   \n",
       "2                       1.125000             19.500000   \n",
       "3                       3.437500             28.125000   \n",
       "4                       2.437500             24.687500   \n",
       "..                           ...                   ...   \n",
       "597                     1.133333             12.800000   \n",
       "598                     1.470588             22.764706   \n",
       "599                     1.000000             20.571429   \n",
       "600                     0.000000              7.500000   \n",
       "601                     0.666667             14.666667   \n",
       "\n",
       "     fantasy_points_per_game  passing_yards_last_per_game  \\\n",
       "0                   1.000000                   170.875000   \n",
       "1                   4.235000                    43.333333   \n",
       "2                  11.387500                    75.250000   \n",
       "3                  25.623750                   291.187500   \n",
       "4                  19.542500                   342.312500   \n",
       "..                       ...                          ...   \n",
       "597                19.732000                   155.833333   \n",
       "598                17.389412                   213.352941   \n",
       "599                12.148571                   223.588235   \n",
       "600                 6.230000                   100.500000   \n",
       "601                10.880000                   179.538462   \n",
       "\n",
       "     passing_attempts_last_per_game  total_epa_last_per_game  \\\n",
       "0                         27.625000                -0.419874   \n",
       "1                          4.000000                 1.269991   \n",
       "2                         11.000000                 1.518184   \n",
       "3                         36.250000                11.813057   \n",
       "4                         41.125000                18.124193   \n",
       "..                              ...                      ...   \n",
       "597                       22.333333                 0.922352   \n",
       "598                       35.176471                -0.338662   \n",
       "599                       30.588235                 5.135010   \n",
       "600                       11.833333                 3.224023   \n",
       "601                       29.384615                -1.164747   \n",
       "\n",
       "     passing_touchdowns_last_per_game  completions_last_per_game  \\\n",
       "0                            0.875000                  17.250000   \n",
       "1                            0.000000                   2.333333   \n",
       "2                            0.500000                   7.500000   \n",
       "3                            2.312500                  25.000000   \n",
       "4                            3.437500                  28.125000   \n",
       "..                                ...                        ...   \n",
       "597                          0.583333                  13.250000   \n",
       "598                          0.705882                  21.058824   \n",
       "599                          1.294118                  20.705882   \n",
       "600                          0.833333                   6.833333   \n",
       "601                          0.692308                  16.384615   \n",
       "\n",
       "     fantasy_points_last_per_game  games  games_last  \n",
       "0                        9.560000    3.0         8.0  \n",
       "1                        1.000000    4.0         3.0  \n",
       "2                        4.235000    8.0         4.0  \n",
       "3                       19.435000   16.0        16.0  \n",
       "4                       25.623750   16.0        16.0  \n",
       "..                            ...    ...         ...  \n",
       "597                     10.566667   15.0        12.0  \n",
       "598                     11.708235   17.0        17.0  \n",
       "599                     13.231765   14.0        17.0  \n",
       "600                     10.820000    2.0         6.0  \n",
       "601                     11.681538    9.0        13.0  \n",
       "\n",
       "[602 rows x 19 columns]"
      ]
     },
     "execution_count": 49,
     "metadata": {},
     "output_type": "execute_result"
    }
   ],
   "source": [
    "filter_df(df, \"\", x, y, title=\"unfiltered\")"
   ]
  },
  {
   "cell_type": "markdown",
   "id": "e444165e",
   "metadata": {},
   "source": [
    "## 12 Games 12 Games Last"
   ]
  },
  {
   "cell_type": "code",
   "execution_count": 52,
   "id": "e76f0a6a",
   "metadata": {},
   "outputs": [
    {
     "data": {
      "application/vnd.plotly.v1+json": {
       "config": {
        "plotlyServerURL": "https://plot.ly"
       },
       "data": [
        {
         "coloraxis": "coloraxis",
         "hovertemplate": "Current Season Stats: %{x}<br>Previous Season Stats: %{y}<br>color: %{z}<extra></extra>",
         "name": "0",
         "texttemplate": "%{z}",
         "type": "heatmap",
         "x": [
          "passing_yards_per_game",
          "passing_attempts_per_game",
          "total_epa_per_game",
          "passing_touchdowns_per_game",
          "completions_per_game",
          "fantasy_points_per_game"
         ],
         "xaxis": "x",
         "y": [
          "passing_yards_last_per_game",
          "passing_attempts_last_per_game",
          "total_epa_last_per_game",
          "passing_touchdowns_last_per_game",
          "completions_last_per_game",
          "fantasy_points_last_per_game"
         ],
         "yaxis": "y",
         "z": [
          [
           0.95,
           0.95,
           0.63,
           0.82,
           0.95,
           0.64
          ],
          [
           0.94,
           0.96,
           0.58,
           0.81,
           0.95,
           0.62
          ],
          [
           0.67,
           0.63,
           0.6,
           0.62,
           0.65,
           0.53
          ],
          [
           0.84,
           0.84,
           0.6,
           0.77,
           0.84,
           0.61
          ],
          [
           0.94,
           0.95,
           0.61,
           0.81,
           0.96,
           0.62
          ],
          [
           0.73,
           0.72,
           0.56,
           0.68,
           0.73,
           0.7
          ]
         ]
        }
       ],
       "layout": {
        "coloraxis": {
         "colorscale": [
          [
           0,
           "#0d0887"
          ],
          [
           0.1111111111111111,
           "#46039f"
          ],
          [
           0.2222222222222222,
           "#7201a8"
          ],
          [
           0.3333333333333333,
           "#9c179e"
          ],
          [
           0.4444444444444444,
           "#bd3786"
          ],
          [
           0.5555555555555556,
           "#d8576b"
          ],
          [
           0.6666666666666666,
           "#ed7953"
          ],
          [
           0.7777777777777778,
           "#fb9f3a"
          ],
          [
           0.8888888888888888,
           "#fdca26"
          ],
          [
           1,
           "#f0f921"
          ]
         ]
        },
        "margin": {
         "t": 60
        },
        "template": {
         "data": {
          "bar": [
           {
            "error_x": {
             "color": "#2a3f5f"
            },
            "error_y": {
             "color": "#2a3f5f"
            },
            "marker": {
             "line": {
              "color": "#E5ECF6",
              "width": 0.5
             },
             "pattern": {
              "fillmode": "overlay",
              "size": 10,
              "solidity": 0.2
             }
            },
            "type": "bar"
           }
          ],
          "barpolar": [
           {
            "marker": {
             "line": {
              "color": "#E5ECF6",
              "width": 0.5
             },
             "pattern": {
              "fillmode": "overlay",
              "size": 10,
              "solidity": 0.2
             }
            },
            "type": "barpolar"
           }
          ],
          "carpet": [
           {
            "aaxis": {
             "endlinecolor": "#2a3f5f",
             "gridcolor": "white",
             "linecolor": "white",
             "minorgridcolor": "white",
             "startlinecolor": "#2a3f5f"
            },
            "baxis": {
             "endlinecolor": "#2a3f5f",
             "gridcolor": "white",
             "linecolor": "white",
             "minorgridcolor": "white",
             "startlinecolor": "#2a3f5f"
            },
            "type": "carpet"
           }
          ],
          "choropleth": [
           {
            "colorbar": {
             "outlinewidth": 0,
             "ticks": ""
            },
            "type": "choropleth"
           }
          ],
          "contour": [
           {
            "colorbar": {
             "outlinewidth": 0,
             "ticks": ""
            },
            "colorscale": [
             [
              0,
              "#0d0887"
             ],
             [
              0.1111111111111111,
              "#46039f"
             ],
             [
              0.2222222222222222,
              "#7201a8"
             ],
             [
              0.3333333333333333,
              "#9c179e"
             ],
             [
              0.4444444444444444,
              "#bd3786"
             ],
             [
              0.5555555555555556,
              "#d8576b"
             ],
             [
              0.6666666666666666,
              "#ed7953"
             ],
             [
              0.7777777777777778,
              "#fb9f3a"
             ],
             [
              0.8888888888888888,
              "#fdca26"
             ],
             [
              1,
              "#f0f921"
             ]
            ],
            "type": "contour"
           }
          ],
          "contourcarpet": [
           {
            "colorbar": {
             "outlinewidth": 0,
             "ticks": ""
            },
            "type": "contourcarpet"
           }
          ],
          "heatmap": [
           {
            "colorbar": {
             "outlinewidth": 0,
             "ticks": ""
            },
            "colorscale": [
             [
              0,
              "#0d0887"
             ],
             [
              0.1111111111111111,
              "#46039f"
             ],
             [
              0.2222222222222222,
              "#7201a8"
             ],
             [
              0.3333333333333333,
              "#9c179e"
             ],
             [
              0.4444444444444444,
              "#bd3786"
             ],
             [
              0.5555555555555556,
              "#d8576b"
             ],
             [
              0.6666666666666666,
              "#ed7953"
             ],
             [
              0.7777777777777778,
              "#fb9f3a"
             ],
             [
              0.8888888888888888,
              "#fdca26"
             ],
             [
              1,
              "#f0f921"
             ]
            ],
            "type": "heatmap"
           }
          ],
          "heatmapgl": [
           {
            "colorbar": {
             "outlinewidth": 0,
             "ticks": ""
            },
            "colorscale": [
             [
              0,
              "#0d0887"
             ],
             [
              0.1111111111111111,
              "#46039f"
             ],
             [
              0.2222222222222222,
              "#7201a8"
             ],
             [
              0.3333333333333333,
              "#9c179e"
             ],
             [
              0.4444444444444444,
              "#bd3786"
             ],
             [
              0.5555555555555556,
              "#d8576b"
             ],
             [
              0.6666666666666666,
              "#ed7953"
             ],
             [
              0.7777777777777778,
              "#fb9f3a"
             ],
             [
              0.8888888888888888,
              "#fdca26"
             ],
             [
              1,
              "#f0f921"
             ]
            ],
            "type": "heatmapgl"
           }
          ],
          "histogram": [
           {
            "marker": {
             "pattern": {
              "fillmode": "overlay",
              "size": 10,
              "solidity": 0.2
             }
            },
            "type": "histogram"
           }
          ],
          "histogram2d": [
           {
            "colorbar": {
             "outlinewidth": 0,
             "ticks": ""
            },
            "colorscale": [
             [
              0,
              "#0d0887"
             ],
             [
              0.1111111111111111,
              "#46039f"
             ],
             [
              0.2222222222222222,
              "#7201a8"
             ],
             [
              0.3333333333333333,
              "#9c179e"
             ],
             [
              0.4444444444444444,
              "#bd3786"
             ],
             [
              0.5555555555555556,
              "#d8576b"
             ],
             [
              0.6666666666666666,
              "#ed7953"
             ],
             [
              0.7777777777777778,
              "#fb9f3a"
             ],
             [
              0.8888888888888888,
              "#fdca26"
             ],
             [
              1,
              "#f0f921"
             ]
            ],
            "type": "histogram2d"
           }
          ],
          "histogram2dcontour": [
           {
            "colorbar": {
             "outlinewidth": 0,
             "ticks": ""
            },
            "colorscale": [
             [
              0,
              "#0d0887"
             ],
             [
              0.1111111111111111,
              "#46039f"
             ],
             [
              0.2222222222222222,
              "#7201a8"
             ],
             [
              0.3333333333333333,
              "#9c179e"
             ],
             [
              0.4444444444444444,
              "#bd3786"
             ],
             [
              0.5555555555555556,
              "#d8576b"
             ],
             [
              0.6666666666666666,
              "#ed7953"
             ],
             [
              0.7777777777777778,
              "#fb9f3a"
             ],
             [
              0.8888888888888888,
              "#fdca26"
             ],
             [
              1,
              "#f0f921"
             ]
            ],
            "type": "histogram2dcontour"
           }
          ],
          "mesh3d": [
           {
            "colorbar": {
             "outlinewidth": 0,
             "ticks": ""
            },
            "type": "mesh3d"
           }
          ],
          "parcoords": [
           {
            "line": {
             "colorbar": {
              "outlinewidth": 0,
              "ticks": ""
             }
            },
            "type": "parcoords"
           }
          ],
          "pie": [
           {
            "automargin": true,
            "type": "pie"
           }
          ],
          "scatter": [
           {
            "fillpattern": {
             "fillmode": "overlay",
             "size": 10,
             "solidity": 0.2
            },
            "type": "scatter"
           }
          ],
          "scatter3d": [
           {
            "line": {
             "colorbar": {
              "outlinewidth": 0,
              "ticks": ""
             }
            },
            "marker": {
             "colorbar": {
              "outlinewidth": 0,
              "ticks": ""
             }
            },
            "type": "scatter3d"
           }
          ],
          "scattercarpet": [
           {
            "marker": {
             "colorbar": {
              "outlinewidth": 0,
              "ticks": ""
             }
            },
            "type": "scattercarpet"
           }
          ],
          "scattergeo": [
           {
            "marker": {
             "colorbar": {
              "outlinewidth": 0,
              "ticks": ""
             }
            },
            "type": "scattergeo"
           }
          ],
          "scattergl": [
           {
            "marker": {
             "colorbar": {
              "outlinewidth": 0,
              "ticks": ""
             }
            },
            "type": "scattergl"
           }
          ],
          "scattermapbox": [
           {
            "marker": {
             "colorbar": {
              "outlinewidth": 0,
              "ticks": ""
             }
            },
            "type": "scattermapbox"
           }
          ],
          "scatterpolar": [
           {
            "marker": {
             "colorbar": {
              "outlinewidth": 0,
              "ticks": ""
             }
            },
            "type": "scatterpolar"
           }
          ],
          "scatterpolargl": [
           {
            "marker": {
             "colorbar": {
              "outlinewidth": 0,
              "ticks": ""
             }
            },
            "type": "scatterpolargl"
           }
          ],
          "scatterternary": [
           {
            "marker": {
             "colorbar": {
              "outlinewidth": 0,
              "ticks": ""
             }
            },
            "type": "scatterternary"
           }
          ],
          "surface": [
           {
            "colorbar": {
             "outlinewidth": 0,
             "ticks": ""
            },
            "colorscale": [
             [
              0,
              "#0d0887"
             ],
             [
              0.1111111111111111,
              "#46039f"
             ],
             [
              0.2222222222222222,
              "#7201a8"
             ],
             [
              0.3333333333333333,
              "#9c179e"
             ],
             [
              0.4444444444444444,
              "#bd3786"
             ],
             [
              0.5555555555555556,
              "#d8576b"
             ],
             [
              0.6666666666666666,
              "#ed7953"
             ],
             [
              0.7777777777777778,
              "#fb9f3a"
             ],
             [
              0.8888888888888888,
              "#fdca26"
             ],
             [
              1,
              "#f0f921"
             ]
            ],
            "type": "surface"
           }
          ],
          "table": [
           {
            "cells": {
             "fill": {
              "color": "#EBF0F8"
             },
             "line": {
              "color": "white"
             }
            },
            "header": {
             "fill": {
              "color": "#C8D4E3"
             },
             "line": {
              "color": "white"
             }
            },
            "type": "table"
           }
          ]
         },
         "layout": {
          "annotationdefaults": {
           "arrowcolor": "#2a3f5f",
           "arrowhead": 0,
           "arrowwidth": 1
          },
          "autotypenumbers": "strict",
          "coloraxis": {
           "colorbar": {
            "outlinewidth": 0,
            "ticks": ""
           }
          },
          "colorscale": {
           "diverging": [
            [
             0,
             "#8e0152"
            ],
            [
             0.1,
             "#c51b7d"
            ],
            [
             0.2,
             "#de77ae"
            ],
            [
             0.3,
             "#f1b6da"
            ],
            [
             0.4,
             "#fde0ef"
            ],
            [
             0.5,
             "#f7f7f7"
            ],
            [
             0.6,
             "#e6f5d0"
            ],
            [
             0.7,
             "#b8e186"
            ],
            [
             0.8,
             "#7fbc41"
            ],
            [
             0.9,
             "#4d9221"
            ],
            [
             1,
             "#276419"
            ]
           ],
           "sequential": [
            [
             0,
             "#0d0887"
            ],
            [
             0.1111111111111111,
             "#46039f"
            ],
            [
             0.2222222222222222,
             "#7201a8"
            ],
            [
             0.3333333333333333,
             "#9c179e"
            ],
            [
             0.4444444444444444,
             "#bd3786"
            ],
            [
             0.5555555555555556,
             "#d8576b"
            ],
            [
             0.6666666666666666,
             "#ed7953"
            ],
            [
             0.7777777777777778,
             "#fb9f3a"
            ],
            [
             0.8888888888888888,
             "#fdca26"
            ],
            [
             1,
             "#f0f921"
            ]
           ],
           "sequentialminus": [
            [
             0,
             "#0d0887"
            ],
            [
             0.1111111111111111,
             "#46039f"
            ],
            [
             0.2222222222222222,
             "#7201a8"
            ],
            [
             0.3333333333333333,
             "#9c179e"
            ],
            [
             0.4444444444444444,
             "#bd3786"
            ],
            [
             0.5555555555555556,
             "#d8576b"
            ],
            [
             0.6666666666666666,
             "#ed7953"
            ],
            [
             0.7777777777777778,
             "#fb9f3a"
            ],
            [
             0.8888888888888888,
             "#fdca26"
            ],
            [
             1,
             "#f0f921"
            ]
           ]
          },
          "colorway": [
           "#636efa",
           "#EF553B",
           "#00cc96",
           "#ab63fa",
           "#FFA15A",
           "#19d3f3",
           "#FF6692",
           "#B6E880",
           "#FF97FF",
           "#FECB52"
          ],
          "font": {
           "color": "#2a3f5f"
          },
          "geo": {
           "bgcolor": "white",
           "lakecolor": "white",
           "landcolor": "#E5ECF6",
           "showlakes": true,
           "showland": true,
           "subunitcolor": "white"
          },
          "hoverlabel": {
           "align": "left"
          },
          "hovermode": "closest",
          "mapbox": {
           "style": "light"
          },
          "paper_bgcolor": "white",
          "plot_bgcolor": "#E5ECF6",
          "polar": {
           "angularaxis": {
            "gridcolor": "white",
            "linecolor": "white",
            "ticks": ""
           },
           "bgcolor": "#E5ECF6",
           "radialaxis": {
            "gridcolor": "white",
            "linecolor": "white",
            "ticks": ""
           }
          },
          "scene": {
           "xaxis": {
            "backgroundcolor": "#E5ECF6",
            "gridcolor": "white",
            "gridwidth": 2,
            "linecolor": "white",
            "showbackground": true,
            "ticks": "",
            "zerolinecolor": "white"
           },
           "yaxis": {
            "backgroundcolor": "#E5ECF6",
            "gridcolor": "white",
            "gridwidth": 2,
            "linecolor": "white",
            "showbackground": true,
            "ticks": "",
            "zerolinecolor": "white"
           },
           "zaxis": {
            "backgroundcolor": "#E5ECF6",
            "gridcolor": "white",
            "gridwidth": 2,
            "linecolor": "white",
            "showbackground": true,
            "ticks": "",
            "zerolinecolor": "white"
           }
          },
          "shapedefaults": {
           "line": {
            "color": "#2a3f5f"
           }
          },
          "ternary": {
           "aaxis": {
            "gridcolor": "white",
            "linecolor": "white",
            "ticks": ""
           },
           "baxis": {
            "gridcolor": "white",
            "linecolor": "white",
            "ticks": ""
           },
           "bgcolor": "#E5ECF6",
           "caxis": {
            "gridcolor": "white",
            "linecolor": "white",
            "ticks": ""
           }
          },
          "title": {
           "x": 0.05
          },
          "xaxis": {
           "automargin": true,
           "gridcolor": "white",
           "linecolor": "white",
           "ticks": "",
           "title": {
            "standoff": 15
           },
           "zerolinecolor": "white",
           "zerolinewidth": 2
          },
          "yaxis": {
           "automargin": true,
           "gridcolor": "white",
           "linecolor": "white",
           "ticks": "",
           "title": {
            "standoff": 15
           },
           "zerolinecolor": "white",
           "zerolinewidth": 2
          }
         }
        },
        "xaxis": {
         "anchor": "y",
         "constrain": "domain",
         "domain": [
          0,
          1
         ],
         "scaleanchor": "y",
         "title": {
          "text": "Current Season Stats"
         }
        },
        "yaxis": {
         "anchor": "x",
         "autorange": "reversed",
         "constrain": "domain",
         "domain": [
          0,
          1
         ],
         "title": {
          "text": "Previous Season Stats"
         }
        }
       }
      },
      "text/html": [
       "<div>                            <div id=\"9263ef39-6f28-4e1e-9813-27af5e388428\" class=\"plotly-graph-div\" style=\"height:525px; width:100%;\"></div>            <script type=\"text/javascript\">                require([\"plotly\"], function(Plotly) {                    window.PLOTLYENV=window.PLOTLYENV || {};                                    if (document.getElementById(\"9263ef39-6f28-4e1e-9813-27af5e388428\")) {                    Plotly.newPlot(                        \"9263ef39-6f28-4e1e-9813-27af5e388428\",                        [{\"coloraxis\":\"coloraxis\",\"name\":\"0\",\"texttemplate\":\"%{z}\",\"x\":[\"passing_yards_per_game\",\"passing_attempts_per_game\",\"total_epa_per_game\",\"passing_touchdowns_per_game\",\"completions_per_game\",\"fantasy_points_per_game\"],\"y\":[\"passing_yards_last_per_game\",\"passing_attempts_last_per_game\",\"total_epa_last_per_game\",\"passing_touchdowns_last_per_game\",\"completions_last_per_game\",\"fantasy_points_last_per_game\"],\"z\":[[0.95,0.95,0.63,0.82,0.95,0.64],[0.94,0.96,0.58,0.81,0.95,0.62],[0.67,0.63,0.6,0.62,0.65,0.53],[0.84,0.84,0.6,0.77,0.84,0.61],[0.94,0.95,0.61,0.81,0.96,0.62],[0.73,0.72,0.56,0.68,0.73,0.7]],\"type\":\"heatmap\",\"xaxis\":\"x\",\"yaxis\":\"y\",\"hovertemplate\":\"Current Season Stats: %{x}\\u003cbr\\u003ePrevious Season Stats: %{y}\\u003cbr\\u003ecolor: %{z}\\u003cextra\\u003e\\u003c\\u002fextra\\u003e\"}],                        {\"template\":{\"data\":{\"histogram2dcontour\":[{\"type\":\"histogram2dcontour\",\"colorbar\":{\"outlinewidth\":0,\"ticks\":\"\"},\"colorscale\":[[0.0,\"#0d0887\"],[0.1111111111111111,\"#46039f\"],[0.2222222222222222,\"#7201a8\"],[0.3333333333333333,\"#9c179e\"],[0.4444444444444444,\"#bd3786\"],[0.5555555555555556,\"#d8576b\"],[0.6666666666666666,\"#ed7953\"],[0.7777777777777778,\"#fb9f3a\"],[0.8888888888888888,\"#fdca26\"],[1.0,\"#f0f921\"]]}],\"choropleth\":[{\"type\":\"choropleth\",\"colorbar\":{\"outlinewidth\":0,\"ticks\":\"\"}}],\"histogram2d\":[{\"type\":\"histogram2d\",\"colorbar\":{\"outlinewidth\":0,\"ticks\":\"\"},\"colorscale\":[[0.0,\"#0d0887\"],[0.1111111111111111,\"#46039f\"],[0.2222222222222222,\"#7201a8\"],[0.3333333333333333,\"#9c179e\"],[0.4444444444444444,\"#bd3786\"],[0.5555555555555556,\"#d8576b\"],[0.6666666666666666,\"#ed7953\"],[0.7777777777777778,\"#fb9f3a\"],[0.8888888888888888,\"#fdca26\"],[1.0,\"#f0f921\"]]}],\"heatmap\":[{\"type\":\"heatmap\",\"colorbar\":{\"outlinewidth\":0,\"ticks\":\"\"},\"colorscale\":[[0.0,\"#0d0887\"],[0.1111111111111111,\"#46039f\"],[0.2222222222222222,\"#7201a8\"],[0.3333333333333333,\"#9c179e\"],[0.4444444444444444,\"#bd3786\"],[0.5555555555555556,\"#d8576b\"],[0.6666666666666666,\"#ed7953\"],[0.7777777777777778,\"#fb9f3a\"],[0.8888888888888888,\"#fdca26\"],[1.0,\"#f0f921\"]]}],\"heatmapgl\":[{\"type\":\"heatmapgl\",\"colorbar\":{\"outlinewidth\":0,\"ticks\":\"\"},\"colorscale\":[[0.0,\"#0d0887\"],[0.1111111111111111,\"#46039f\"],[0.2222222222222222,\"#7201a8\"],[0.3333333333333333,\"#9c179e\"],[0.4444444444444444,\"#bd3786\"],[0.5555555555555556,\"#d8576b\"],[0.6666666666666666,\"#ed7953\"],[0.7777777777777778,\"#fb9f3a\"],[0.8888888888888888,\"#fdca26\"],[1.0,\"#f0f921\"]]}],\"contourcarpet\":[{\"type\":\"contourcarpet\",\"colorbar\":{\"outlinewidth\":0,\"ticks\":\"\"}}],\"contour\":[{\"type\":\"contour\",\"colorbar\":{\"outlinewidth\":0,\"ticks\":\"\"},\"colorscale\":[[0.0,\"#0d0887\"],[0.1111111111111111,\"#46039f\"],[0.2222222222222222,\"#7201a8\"],[0.3333333333333333,\"#9c179e\"],[0.4444444444444444,\"#bd3786\"],[0.5555555555555556,\"#d8576b\"],[0.6666666666666666,\"#ed7953\"],[0.7777777777777778,\"#fb9f3a\"],[0.8888888888888888,\"#fdca26\"],[1.0,\"#f0f921\"]]}],\"surface\":[{\"type\":\"surface\",\"colorbar\":{\"outlinewidth\":0,\"ticks\":\"\"},\"colorscale\":[[0.0,\"#0d0887\"],[0.1111111111111111,\"#46039f\"],[0.2222222222222222,\"#7201a8\"],[0.3333333333333333,\"#9c179e\"],[0.4444444444444444,\"#bd3786\"],[0.5555555555555556,\"#d8576b\"],[0.6666666666666666,\"#ed7953\"],[0.7777777777777778,\"#fb9f3a\"],[0.8888888888888888,\"#fdca26\"],[1.0,\"#f0f921\"]]}],\"mesh3d\":[{\"type\":\"mesh3d\",\"colorbar\":{\"outlinewidth\":0,\"ticks\":\"\"}}],\"scatter\":[{\"fillpattern\":{\"fillmode\":\"overlay\",\"size\":10,\"solidity\":0.2},\"type\":\"scatter\"}],\"parcoords\":[{\"type\":\"parcoords\",\"line\":{\"colorbar\":{\"outlinewidth\":0,\"ticks\":\"\"}}}],\"scatterpolargl\":[{\"type\":\"scatterpolargl\",\"marker\":{\"colorbar\":{\"outlinewidth\":0,\"ticks\":\"\"}}}],\"bar\":[{\"error_x\":{\"color\":\"#2a3f5f\"},\"error_y\":{\"color\":\"#2a3f5f\"},\"marker\":{\"line\":{\"color\":\"#E5ECF6\",\"width\":0.5},\"pattern\":{\"fillmode\":\"overlay\",\"size\":10,\"solidity\":0.2}},\"type\":\"bar\"}],\"scattergeo\":[{\"type\":\"scattergeo\",\"marker\":{\"colorbar\":{\"outlinewidth\":0,\"ticks\":\"\"}}}],\"scatterpolar\":[{\"type\":\"scatterpolar\",\"marker\":{\"colorbar\":{\"outlinewidth\":0,\"ticks\":\"\"}}}],\"histogram\":[{\"marker\":{\"pattern\":{\"fillmode\":\"overlay\",\"size\":10,\"solidity\":0.2}},\"type\":\"histogram\"}],\"scattergl\":[{\"type\":\"scattergl\",\"marker\":{\"colorbar\":{\"outlinewidth\":0,\"ticks\":\"\"}}}],\"scatter3d\":[{\"type\":\"scatter3d\",\"line\":{\"colorbar\":{\"outlinewidth\":0,\"ticks\":\"\"}},\"marker\":{\"colorbar\":{\"outlinewidth\":0,\"ticks\":\"\"}}}],\"scattermapbox\":[{\"type\":\"scattermapbox\",\"marker\":{\"colorbar\":{\"outlinewidth\":0,\"ticks\":\"\"}}}],\"scatterternary\":[{\"type\":\"scatterternary\",\"marker\":{\"colorbar\":{\"outlinewidth\":0,\"ticks\":\"\"}}}],\"scattercarpet\":[{\"type\":\"scattercarpet\",\"marker\":{\"colorbar\":{\"outlinewidth\":0,\"ticks\":\"\"}}}],\"carpet\":[{\"aaxis\":{\"endlinecolor\":\"#2a3f5f\",\"gridcolor\":\"white\",\"linecolor\":\"white\",\"minorgridcolor\":\"white\",\"startlinecolor\":\"#2a3f5f\"},\"baxis\":{\"endlinecolor\":\"#2a3f5f\",\"gridcolor\":\"white\",\"linecolor\":\"white\",\"minorgridcolor\":\"white\",\"startlinecolor\":\"#2a3f5f\"},\"type\":\"carpet\"}],\"table\":[{\"cells\":{\"fill\":{\"color\":\"#EBF0F8\"},\"line\":{\"color\":\"white\"}},\"header\":{\"fill\":{\"color\":\"#C8D4E3\"},\"line\":{\"color\":\"white\"}},\"type\":\"table\"}],\"barpolar\":[{\"marker\":{\"line\":{\"color\":\"#E5ECF6\",\"width\":0.5},\"pattern\":{\"fillmode\":\"overlay\",\"size\":10,\"solidity\":0.2}},\"type\":\"barpolar\"}],\"pie\":[{\"automargin\":true,\"type\":\"pie\"}]},\"layout\":{\"autotypenumbers\":\"strict\",\"colorway\":[\"#636efa\",\"#EF553B\",\"#00cc96\",\"#ab63fa\",\"#FFA15A\",\"#19d3f3\",\"#FF6692\",\"#B6E880\",\"#FF97FF\",\"#FECB52\"],\"font\":{\"color\":\"#2a3f5f\"},\"hovermode\":\"closest\",\"hoverlabel\":{\"align\":\"left\"},\"paper_bgcolor\":\"white\",\"plot_bgcolor\":\"#E5ECF6\",\"polar\":{\"bgcolor\":\"#E5ECF6\",\"angularaxis\":{\"gridcolor\":\"white\",\"linecolor\":\"white\",\"ticks\":\"\"},\"radialaxis\":{\"gridcolor\":\"white\",\"linecolor\":\"white\",\"ticks\":\"\"}},\"ternary\":{\"bgcolor\":\"#E5ECF6\",\"aaxis\":{\"gridcolor\":\"white\",\"linecolor\":\"white\",\"ticks\":\"\"},\"baxis\":{\"gridcolor\":\"white\",\"linecolor\":\"white\",\"ticks\":\"\"},\"caxis\":{\"gridcolor\":\"white\",\"linecolor\":\"white\",\"ticks\":\"\"}},\"coloraxis\":{\"colorbar\":{\"outlinewidth\":0,\"ticks\":\"\"}},\"colorscale\":{\"sequential\":[[0.0,\"#0d0887\"],[0.1111111111111111,\"#46039f\"],[0.2222222222222222,\"#7201a8\"],[0.3333333333333333,\"#9c179e\"],[0.4444444444444444,\"#bd3786\"],[0.5555555555555556,\"#d8576b\"],[0.6666666666666666,\"#ed7953\"],[0.7777777777777778,\"#fb9f3a\"],[0.8888888888888888,\"#fdca26\"],[1.0,\"#f0f921\"]],\"sequentialminus\":[[0.0,\"#0d0887\"],[0.1111111111111111,\"#46039f\"],[0.2222222222222222,\"#7201a8\"],[0.3333333333333333,\"#9c179e\"],[0.4444444444444444,\"#bd3786\"],[0.5555555555555556,\"#d8576b\"],[0.6666666666666666,\"#ed7953\"],[0.7777777777777778,\"#fb9f3a\"],[0.8888888888888888,\"#fdca26\"],[1.0,\"#f0f921\"]],\"diverging\":[[0,\"#8e0152\"],[0.1,\"#c51b7d\"],[0.2,\"#de77ae\"],[0.3,\"#f1b6da\"],[0.4,\"#fde0ef\"],[0.5,\"#f7f7f7\"],[0.6,\"#e6f5d0\"],[0.7,\"#b8e186\"],[0.8,\"#7fbc41\"],[0.9,\"#4d9221\"],[1,\"#276419\"]]},\"xaxis\":{\"gridcolor\":\"white\",\"linecolor\":\"white\",\"ticks\":\"\",\"title\":{\"standoff\":15},\"zerolinecolor\":\"white\",\"automargin\":true,\"zerolinewidth\":2},\"yaxis\":{\"gridcolor\":\"white\",\"linecolor\":\"white\",\"ticks\":\"\",\"title\":{\"standoff\":15},\"zerolinecolor\":\"white\",\"automargin\":true,\"zerolinewidth\":2},\"scene\":{\"xaxis\":{\"backgroundcolor\":\"#E5ECF6\",\"gridcolor\":\"white\",\"linecolor\":\"white\",\"showbackground\":true,\"ticks\":\"\",\"zerolinecolor\":\"white\",\"gridwidth\":2},\"yaxis\":{\"backgroundcolor\":\"#E5ECF6\",\"gridcolor\":\"white\",\"linecolor\":\"white\",\"showbackground\":true,\"ticks\":\"\",\"zerolinecolor\":\"white\",\"gridwidth\":2},\"zaxis\":{\"backgroundcolor\":\"#E5ECF6\",\"gridcolor\":\"white\",\"linecolor\":\"white\",\"showbackground\":true,\"ticks\":\"\",\"zerolinecolor\":\"white\",\"gridwidth\":2}},\"shapedefaults\":{\"line\":{\"color\":\"#2a3f5f\"}},\"annotationdefaults\":{\"arrowcolor\":\"#2a3f5f\",\"arrowhead\":0,\"arrowwidth\":1},\"geo\":{\"bgcolor\":\"white\",\"landcolor\":\"#E5ECF6\",\"subunitcolor\":\"white\",\"showland\":true,\"showlakes\":true,\"lakecolor\":\"white\"},\"title\":{\"x\":0.05},\"mapbox\":{\"style\":\"light\"}}},\"xaxis\":{\"anchor\":\"y\",\"domain\":[0.0,1.0],\"scaleanchor\":\"y\",\"constrain\":\"domain\",\"title\":{\"text\":\"Current Season Stats\"}},\"yaxis\":{\"anchor\":\"x\",\"domain\":[0.0,1.0],\"autorange\":\"reversed\",\"constrain\":\"domain\",\"title\":{\"text\":\"Previous Season Stats\"}},\"coloraxis\":{\"colorscale\":[[0.0,\"#0d0887\"],[0.1111111111111111,\"#46039f\"],[0.2222222222222222,\"#7201a8\"],[0.3333333333333333,\"#9c179e\"],[0.4444444444444444,\"#bd3786\"],[0.5555555555555556,\"#d8576b\"],[0.6666666666666666,\"#ed7953\"],[0.7777777777777778,\"#fb9f3a\"],[0.8888888888888888,\"#fdca26\"],[1.0,\"#f0f921\"]]},\"margin\":{\"t\":60}},                        {\"responsive\": true}                    ).then(function(){\n",
       "                            \n",
       "var gd = document.getElementById('9263ef39-6f28-4e1e-9813-27af5e388428');\n",
       "var x = new MutationObserver(function (mutations, observer) {{\n",
       "        var display = window.getComputedStyle(gd).display;\n",
       "        if (!display || display === 'none') {{\n",
       "            console.log([gd, 'removed!']);\n",
       "            Plotly.purge(gd);\n",
       "            observer.disconnect();\n",
       "        }}\n",
       "}});\n",
       "\n",
       "// Listen for the removal of the full notebook cells\n",
       "var notebookContainer = gd.closest('#notebook-container');\n",
       "if (notebookContainer) {{\n",
       "    x.observe(notebookContainer, {childList: true});\n",
       "}}\n",
       "\n",
       "// Listen for the clearing of the current output cell\n",
       "var outputEl = gd.closest('.output');\n",
       "if (outputEl) {{\n",
       "    x.observe(outputEl, {childList: true});\n",
       "}}\n",
       "\n",
       "                        })                };                });            </script>        </div>"
      ]
     },
     "metadata": {},
     "output_type": "display_data"
    },
    {
     "name": "stdout",
     "output_type": "stream",
     "text": [
      "\n",
      "Save path: 12-games-scatter-passing_attempts_per_game\n",
      "\n"
     ]
    },
    {
     "data": {
      "application/vnd.plotly.v1+json": {
       "config": {
        "plotlyServerURL": "https://plot.ly"
       },
       "data": [
        {
         "customdata": [
          [
           "P.Manning",
           2013,
           37
          ],
          [
           "P.Manning",
           2014,
           38
          ],
          [
           "T.Brady",
           2013,
           36
          ],
          [
           "T.Brady",
           2014,
           37
          ],
          [
           "T.Brady",
           2015,
           38
          ],
          [
           "T.Brady",
           2016,
           39
          ],
          [
           "T.Brady",
           2017,
           40
          ],
          [
           "T.Brady",
           2018,
           41
          ],
          [
           "T.Brady",
           2019,
           42
          ],
          [
           "T.Brady",
           2020,
           43
          ],
          [
           "T.Brady",
           2021,
           44
          ],
          [
           "T.Brady",
           2022,
           45
          ],
          [
           "D.Brees",
           2013,
           34
          ],
          [
           "D.Brees",
           2014,
           35
          ],
          [
           "D.Brees",
           2015,
           36
          ],
          [
           "D.Brees",
           2016,
           37
          ],
          [
           "D.Brees",
           2017,
           38
          ],
          [
           "D.Brees",
           2018,
           39
          ],
          [
           "C.Palmer",
           2013,
           33
          ],
          [
           "C.Palmer",
           2016,
           36
          ],
          [
           "T.Romo",
           2013,
           33
          ],
          [
           "T.Romo",
           2014,
           34
          ],
          [
           "E.Manning",
           2013,
           32
          ],
          [
           "E.Manning",
           2014,
           33
          ],
          [
           "E.Manning",
           2015,
           34
          ],
          [
           "E.Manning",
           2016,
           35
          ],
          [
           "E.Manning",
           2017,
           36
          ],
          [
           "E.Manning",
           2018,
           37
          ],
          [
           "L.Fitzgerald",
           2017,
           34
          ],
          [
           "L.Fitzgerald",
           2018,
           35
          ],
          [
           "B.Roethlisberger",
           2013,
           31
          ],
          [
           "B.Roethlisberger",
           2014,
           32
          ],
          [
           "B.Roethlisberger",
           2015,
           33
          ],
          [
           "B.Roethlisberger",
           2016,
           34
          ],
          [
           "B.Roethlisberger",
           2017,
           35
          ],
          [
           "B.Roethlisberger",
           2018,
           36
          ],
          [
           "B.Roethlisberger",
           2021,
           39
          ],
          [
           "P.Rivers",
           2013,
           31
          ],
          [
           "P.Rivers",
           2014,
           32
          ],
          [
           "P.Rivers",
           2015,
           33
          ],
          [
           "P.Rivers",
           2016,
           34
          ],
          [
           "P.Rivers",
           2017,
           35
          ],
          [
           "P.Rivers",
           2018,
           36
          ],
          [
           "P.Rivers",
           2019,
           37
          ],
          [
           "P.Rivers",
           2020,
           38
          ],
          [
           "A.Smith",
           2014,
           30
          ],
          [
           "A.Smith",
           2015,
           31
          ],
          [
           "A.Smith",
           2016,
           32
          ],
          [
           "A.Smith",
           2017,
           33
          ],
          [
           "A.Rodgers",
           2015,
           31
          ],
          [
           "A.Rodgers",
           2016,
           32
          ],
          [
           "A.Rodgers",
           2019,
           35
          ],
          [
           "A.Rodgers",
           2020,
           36
          ],
          [
           "A.Rodgers",
           2021,
           37
          ],
          [
           "A.Rodgers",
           2022,
           38
          ],
          [
           "R.Fitzpatrick",
           2015,
           32
          ],
          [
           "R.Fitzpatrick",
           2016,
           33
          ],
          [
           "J.Cutler",
           2015,
           32
          ],
          [
           "D.Amendola",
           2019,
           33
          ],
          [
           "M.Ryan",
           2013,
           28
          ],
          [
           "M.Ryan",
           2014,
           29
          ],
          [
           "M.Ryan",
           2015,
           30
          ],
          [
           "M.Ryan",
           2016,
           31
          ],
          [
           "M.Ryan",
           2017,
           32
          ],
          [
           "M.Ryan",
           2018,
           33
          ],
          [
           "M.Ryan",
           2019,
           34
          ],
          [
           "M.Ryan",
           2020,
           35
          ],
          [
           "M.Ryan",
           2021,
           36
          ],
          [
           "M.Ryan",
           2022,
           37
          ],
          [
           "D.McFadden",
           2015,
           28
          ],
          [
           "J.Flacco",
           2013,
           28
          ],
          [
           "J.Flacco",
           2014,
           29
          ],
          [
           "J.Flacco",
           2017,
           32
          ],
          [
           "M.Stafford",
           2013,
           25
          ],
          [
           "M.Stafford",
           2014,
           26
          ],
          [
           "M.Stafford",
           2015,
           27
          ],
          [
           "M.Stafford",
           2016,
           28
          ],
          [
           "M.Stafford",
           2017,
           29
          ],
          [
           "M.Stafford",
           2018,
           30
          ],
          [
           "M.Stafford",
           2021,
           33
          ],
          [
           "J.Edelman",
           2019,
           33
          ],
          [
           "E.Sanders",
           2019,
           32
          ],
          [
           "A.Brown",
           2013,
           25
          ],
          [
           "A.Brown",
           2014,
           26
          ],
          [
           "S.Bradford",
           2016,
           28
          ],
          [
           "C.Newton",
           2013,
           24
          ],
          [
           "C.Newton",
           2014,
           25
          ],
          [
           "C.Newton",
           2015,
           26
          ],
          [
           "C.Newton",
           2016,
           27
          ],
          [
           "C.Newton",
           2017,
           28
          ],
          [
           "C.Newton",
           2018,
           29
          ],
          [
           "A.Dalton",
           2013,
           25
          ],
          [
           "A.Dalton",
           2014,
           26
          ],
          [
           "A.Dalton",
           2015,
           27
          ],
          [
           "A.Dalton",
           2016,
           28
          ],
          [
           "A.Dalton",
           2017,
           29
          ],
          [
           "C.Kaepernick",
           2013,
           25
          ],
          [
           "C.Kaepernick",
           2014,
           26
          ],
          [
           "J.Kerley",
           2013,
           24
          ],
          [
           "J.Kerley",
           2014,
           25
          ],
          [
           "T.Taylor",
           2016,
           27
          ],
          [
           "T.Taylor",
           2017,
           28
          ],
          [
           "C.Keenum",
           2018,
           30
          ],
          [
           "C.Beasley",
           2021,
           32
          ],
          [
           "R.Wilson",
           2013,
           24
          ],
          [
           "R.Wilson",
           2014,
           25
          ],
          [
           "R.Wilson",
           2015,
           26
          ],
          [
           "R.Wilson",
           2016,
           27
          ],
          [
           "R.Wilson",
           2017,
           28
          ],
          [
           "R.Wilson",
           2018,
           29
          ],
          [
           "R.Wilson",
           2019,
           30
          ],
          [
           "R.Wilson",
           2020,
           31
          ],
          [
           "R.Wilson",
           2021,
           32
          ],
          [
           "R.Wilson",
           2022,
           33
          ],
          [
           "B.Rainey",
           2014,
           26
          ],
          [
           "K.Cousins",
           2016,
           28
          ],
          [
           "K.Cousins",
           2017,
           29
          ],
          [
           "K.Cousins",
           2018,
           30
          ],
          [
           "K.Cousins",
           2019,
           31
          ],
          [
           "K.Cousins",
           2020,
           32
          ],
          [
           "K.Cousins",
           2021,
           33
          ],
          [
           "K.Cousins",
           2022,
           34
          ],
          [
           "M.Sanu",
           2014,
           25
          ],
          [
           "M.Sanu",
           2018,
           29
          ],
          [
           "R.Griffin III",
           2013,
           23
          ],
          [
           "A.Luck",
           2013,
           23
          ],
          [
           "A.Luck",
           2014,
           24
          ],
          [
           "R.Tannehill",
           2013,
           25
          ],
          [
           "R.Tannehill",
           2014,
           26
          ],
          [
           "R.Tannehill",
           2015,
           27
          ],
          [
           "R.Tannehill",
           2016,
           28
          ],
          [
           "R.Tannehill",
           2020,
           32
          ],
          [
           "R.Tannehill",
           2021,
           33
          ],
          [
           "R.Tannehill",
           2022,
           34
          ],
          [
           "K.Allen",
           2021,
           29
          ],
          [
           "R.Burkhead",
           2022,
           32
          ],
          [
           "D.Robinson",
           2014,
           23
          ],
          [
           "D.Hopkins",
           2019,
           27
          ],
          [
           "G.Smith",
           2014,
           23
          ],
          [
           "O.Beckham",
           2019,
           26
          ],
          [
           "T.Bridgewater",
           2015,
           22
          ],
          [
           "T.Bridgewater",
           2021,
           28
          ],
          [
           "D.Carr",
           2015,
           24
          ],
          [
           "D.Carr",
           2016,
           25
          ],
          [
           "D.Carr",
           2017,
           26
          ],
          [
           "D.Carr",
           2018,
           27
          ],
          [
           "D.Carr",
           2019,
           28
          ],
          [
           "D.Carr",
           2020,
           29
          ],
          [
           "D.Carr",
           2021,
           30
          ],
          [
           "D.Carr",
           2022,
           31
          ],
          [
           "J.Landry",
           2016,
           23
          ],
          [
           "J.Landry",
           2017,
           24
          ],
          [
           "J.Landry",
           2018,
           25
          ],
          [
           "B.Bortles",
           2015,
           23
          ],
          [
           "B.Bortles",
           2016,
           24
          ],
          [
           "B.Bortles",
           2017,
           25
          ],
          [
           "B.Bortles",
           2018,
           26
          ],
          [
           "M.Lee",
           2017,
           25
          ],
          [
           "J.Winston",
           2016,
           22
          ],
          [
           "J.Winston",
           2017,
           23
          ],
          [
           "M.Mariota",
           2016,
           22
          ],
          [
           "M.Mariota",
           2017,
           23
          ],
          [
           "M.Mariota",
           2018,
           24
          ],
          [
           "C.Wentz",
           2017,
           24
          ],
          [
           "C.Wentz",
           2020,
           27
          ],
          [
           "C.Wentz",
           2021,
           28
          ],
          [
           "T.Boyd",
           2021,
           26
          ],
          [
           "T.Boyd",
           2022,
           27
          ],
          [
           "D.Prescott",
           2017,
           24
          ],
          [
           "D.Prescott",
           2018,
           25
          ],
          [
           "D.Prescott",
           2019,
           26
          ],
          [
           "D.Prescott",
           2022,
           29
          ],
          [
           "J.Goff",
           2018,
           23
          ],
          [
           "J.Goff",
           2019,
           24
          ],
          [
           "J.Goff",
           2020,
           25
          ],
          [
           "J.Goff",
           2021,
           26
          ],
          [
           "J.Goff",
           2022,
           27
          ],
          [
           "Z.Pascal",
           2020,
           25
          ],
          [
           "C.McCaffrey",
           2019,
           23
          ],
          [
           "T.Hill",
           2019,
           29
          ],
          [
           "T.Hill",
           2020,
           30
          ],
          [
           "T.Hill",
           2021,
           31
          ],
          [
           "T.Hill",
           2022,
           32
          ],
          [
           "D.Watson",
           2019,
           23
          ],
          [
           "D.Watson",
           2020,
           24
          ],
          [
           "T.Cohen",
           2018,
           23
          ],
          [
           "L.Fournette",
           2022,
           27
          ],
          [
           "M.Trubisky",
           2018,
           24
          ],
          [
           "M.Trubisky",
           2019,
           25
          ],
          [
           "P.Mahomes",
           2019,
           23
          ],
          [
           "P.Mahomes",
           2020,
           24
          ],
          [
           "P.Mahomes",
           2021,
           25
          ],
          [
           "P.Mahomes",
           2022,
           26
          ],
          [
           "C.Kirk",
           2022,
           25
          ],
          [
           "L.Jackson",
           2019,
           22
          ],
          [
           "L.Jackson",
           2020,
           23
          ],
          [
           "L.Jackson",
           2021,
           24
          ],
          [
           "L.Jackson",
           2022,
           25
          ],
          [
           "B.Mayfield",
           2019,
           24
          ],
          [
           "B.Mayfield",
           2020,
           25
          ],
          [
           "B.Mayfield",
           2021,
           26
          ],
          [
           "B.Mayfield",
           2022,
           27
          ],
          [
           "J.Allen",
           2019,
           23
          ],
          [
           "J.Allen",
           2020,
           24
          ],
          [
           "J.Allen",
           2021,
           25
          ],
          [
           "J.Allen",
           2022,
           26
          ],
          [
           "S.Darnold",
           2019,
           22
          ],
          [
           "S.Darnold",
           2020,
           23
          ],
          [
           "S.Darnold",
           2021,
           24
          ],
          [
           "J.Meyers",
           2021,
           24
          ],
          [
           "K.Murray",
           2020,
           23
          ],
          [
           "K.Murray",
           2021,
           24
          ],
          [
           "D.Jones",
           2020,
           23
          ],
          [
           "T.Tagovailoa",
           2022,
           24
          ],
          [
           "J.Jefferson",
           2022,
           23
          ],
          [
           "J.Herbert",
           2021,
           23
          ],
          [
           "J.Herbert",
           2022,
           24
          ],
          [
           "J.Hurts",
           2021,
           23
          ],
          [
           "J.Hurts",
           2022,
           24
          ],
          [
           "J.Burrow",
           2022,
           25
          ],
          [
           "D.Mills",
           2022,
           23
          ],
          [
           "J.Fields",
           2022,
           23
          ],
          [
           "T.Lawrence",
           2022,
           22
          ],
          [
           "M.Jones",
           2022,
           23
          ]
         ],
         "hovertemplate": "passing_attempts_last_per_game=%{x}<br>passing_attempts_per_game=%{y}<br>passer=%{customdata[0]}<br>season=%{customdata[1]}<br>age=%{customdata[2]}<extra></extra>",
         "legendgroup": "",
         "marker": {
          "color": "#636efa",
          "symbol": "circle"
         },
         "mode": "markers",
         "name": "",
         "orientation": "v",
         "showlegend": false,
         "type": "scatter",
         "x": [
          36.25,
          41.125,
          39.625,
          39,
          36.375,
          38.875,
          35.916666666666664,
          36.3125,
          35.5,
          38.3125,
          37.875,
          42.1764705882353,
          41.6875,
          40.5,
          40.8125,
          41.666666666666664,
          41.5,
          33.3125,
          37.4,
          33.1875,
          40.3125,
          35.6,
          33.4375,
          34.4375,
          37.5,
          38.5625,
          37.375,
          38,
          0.0625,
          0.0625,
          34.07692307692308,
          36.125,
          37.4375,
          39,
          36.142857142857146,
          37.13333333333333,
          40.53333333333333,
          32.8125,
          33.9375,
          35.5625,
          41.1875,
          36.0625,
          35.8125,
          31.75,
          36.75,
          33.6,
          30.933333333333334,
          29.375,
          32.53333333333333,
          32.5,
          35.6875,
          37.1875,
          35.5,
          32.6875,
          33,
          25.916666666666668,
          35.125,
          37.4,
          0.06666666666666667,
          38.375,
          40.625,
          38.875,
          38.375,
          33.375,
          32.875,
          37.9375,
          41,
          39,
          32.88235294117647,
          0.0625,
          33.1875,
          38.25,
          41.5625,
          45.1875,
          39.4375,
          37.3125,
          37,
          36.9375,
          35.3125,
          32.5,
          0.16666666666666666,
          0.08333333333333333,
          0.15384615384615385,
          0.0625,
          37.92857142857143,
          30.1875,
          29.375,
          31.857142857142858,
          30.8125,
          33.8,
          30.625,
          32.8125,
          36.5625,
          30.0625,
          29.692307692307693,
          35.0625,
          16.76923076923077,
          26,
          0.0625,
          0.08333333333333333,
          27.071428571428573,
          29,
          32.06666666666667,
          0.06666666666666667,
          24.5625,
          25.3125,
          28.1875,
          30.0625,
          34,
          34.3125,
          26.1875,
          32.0625,
          34.8125,
          28.571428571428573,
          0.08333333333333333,
          33.9375,
          37.6875,
          33.6875,
          37.6875,
          29.6,
          32.0625,
          34.75,
          0.0625,
          0.06666666666666667,
          26.066666666666666,
          38.6875,
          35.625,
          30.125,
          36.4375,
          36.8125,
          36.5,
          23.583333333333332,
          30.0625,
          31.176470588235293,
          0.07142857142857142,
          0.07142857142857142,
          0.08333333333333333,
          0.0625,
          27.625,
          0.16666666666666666,
          30.53846153846154,
          32.666666666666664,
          37.0625,
          35.75,
          37.2,
          34.266666666666666,
          34.125,
          31.9375,
          32.0625,
          36.64705882352941,
          0.0625,
          0.0625,
          0.0625,
          33.857142857142854,
          37.6875,
          39.0625,
          32.625,
          0.0625,
          33.3125,
          35.4375,
          30.583333333333332,
          29.866666666666667,
          30.133333333333333,
          37.8125,
          37.8125,
          36.333333333333336,
          0.13333333333333333,
          0.0625,
          28.5625,
          30.5,
          32.875,
          37.25,
          31.666666666666668,
          34.9375,
          39.0625,
          36.666666666666664,
          34.92857142857143,
          0.07142857142857142,
          0.0625,
          0.5384615384615384,
          0.375,
          7.5625,
          11,
          31.1875,
          32.86666666666667,
          0.125,
          0.07142857142857142,
          27.416666666666668,
          30.928571428571427,
          36.1875,
          34.57142857142857,
          39.13333333333333,
          38.705882352941174,
          0.058823529411764705,
          10.625,
          26.6,
          24.866666666666667,
          31.5,
          34.5,
          33.25,
          30.0625,
          29.714285714285715,
          26.666666666666668,
          28.625,
          35.75,
          38,
          31.76923076923077,
          33.76923076923077,
          30.083333333333332,
          0.16666666666666666,
          33.625,
          34.375,
          35.30769230769231,
          29.76923076923077,
          0.23529411764705882,
          39.4,
          39.470588235294116,
          10.5,
          28.666666666666668,
          32.375,
          30.153846153846153,
          22.333333333333332,
          35.1764705882353,
          30.58823529411765
         ],
         "xaxis": "x",
         "y": [
          41.125,
          37.1875,
          39,
          36.375,
          38.875,
          35.916666666666664,
          36.3125,
          35.5,
          38.3125,
          37.875,
          42.1764705882353,
          42.94117647058823,
          40.5,
          40.8125,
          41.666666666666664,
          41.5,
          33.3125,
          32.6,
          35.6875,
          39.666666666666664,
          35.6,
          28.933333333333334,
          34.4375,
          37.5,
          38.5625,
          37.375,
          38,
          35.9375,
          0.0625,
          0.0625,
          36.125,
          37.4375,
          39,
          36.142857142857146,
          37.13333333333333,
          42,
          37.6875,
          33.9375,
          35.5625,
          41.1875,
          36.0625,
          35.8125,
          31.75,
          36.75,
          33.75,
          30.933333333333334,
          29.375,
          32.53333333333333,
          33.6,
          35.6875,
          38,
          35.5,
          32.6875,
          33,
          31.764705882352942,
          35.125,
          28.785714285714285,
          32.13333333333333,
          0.06666666666666667,
          40.625,
          38.875,
          38.375,
          33.375,
          32.875,
          37.9375,
          41,
          39,
          32.88235294117647,
          38.333333333333336,
          0.0625,
          38.25,
          34.25,
          34.125,
          39.4375,
          37.3125,
          37,
          36.9375,
          35.3125,
          34.625,
          35.35294117647059,
          0.125,
          0.058823529411764705,
          0.0625,
          0.125,
          36.733333333333334,
          29.375,
          31.857142857142858,
          30.8125,
          33.8,
          30.625,
          33.42857142857143,
          36.5625,
          30.0625,
          29.692307692307693,
          35.0625,
          30.9375,
          26,
          29.875,
          0.08333333333333333,
          0.0625,
          29,
          28,
          36.5,
          0.0625,
          25.3125,
          28.1875,
          30.0625,
          34,
          34.3125,
          26.1875,
          32.0625,
          34.8125,
          28.571428571428573,
          32.13333333333333,
          0.08333333333333333,
          37.6875,
          33.6875,
          37.6875,
          29.6,
          32.0625,
          34.75,
          37.588235294117645,
          0.1875,
          0.125,
          34.84615384615385,
          35.625,
          38.5,
          36.4375,
          36.8125,
          36.5,
          29.76923076923077,
          30.0625,
          31.176470588235293,
          27,
          0.0625,
          0.06666666666666667,
          0.07692307692307693,
          0.13333333333333333,
          26.142857142857142,
          0.125,
          27.9375,
          30.428571428571427,
          35.75,
          37.2,
          34.266666666666666,
          34.125,
          31.9375,
          32.0625,
          36.64705882352941,
          33.46666666666667,
          0.0625,
          0.0625,
          0.125,
          37.6875,
          39.0625,
          32.625,
          31,
          0.07692307692307693,
          35.4375,
          33.76923076923077,
          29.866666666666667,
          30.133333333333333,
          23.642857142857142,
          33.84615384615385,
          36.333333333333336,
          30.352941176470587,
          0.0625,
          0.0625,
          30.5,
          32.875,
          37.1875,
          32.833333333333336,
          34.9375,
          39.0625,
          36.666666666666664,
          34.92857142857143,
          34.470588235294116,
          0.0625,
          0.125,
          0.375,
          7.5625,
          11,
          1.1875,
          32.86666666666667,
          33.875,
          0.0625,
          0.0625,
          30.928571428571427,
          34.2,
          34.57142857142857,
          39.13333333333333,
          38.705882352941174,
          38.11764705882353,
          0.058823529411764705,
          26.6,
          24.866666666666667,
          31.5,
          27.083333333333332,
          33.25,
          30.0625,
          29.714285714285715,
          27.833333333333332,
          28.625,
          35.75,
          38,
          35.375,
          33.76923076923077,
          30.083333333333332,
          33.75,
          0.125,
          34.375,
          34.357142857142854,
          31.857142857142858,
          30.692307692307693,
          0.11764705882352941,
          39.470588235294116,
          41,
          28.666666666666668,
          30.666666666666668,
          37.8125,
          31.866666666666667,
          21.2,
          34.23529411764706,
          31.428571428571427
         ],
         "yaxis": "y"
        }
       ],
       "layout": {
        "legend": {
         "tracegroupgap": 0
        },
        "margin": {
         "t": 60
        },
        "template": {
         "data": {
          "bar": [
           {
            "error_x": {
             "color": "#2a3f5f"
            },
            "error_y": {
             "color": "#2a3f5f"
            },
            "marker": {
             "line": {
              "color": "#E5ECF6",
              "width": 0.5
             },
             "pattern": {
              "fillmode": "overlay",
              "size": 10,
              "solidity": 0.2
             }
            },
            "type": "bar"
           }
          ],
          "barpolar": [
           {
            "marker": {
             "line": {
              "color": "#E5ECF6",
              "width": 0.5
             },
             "pattern": {
              "fillmode": "overlay",
              "size": 10,
              "solidity": 0.2
             }
            },
            "type": "barpolar"
           }
          ],
          "carpet": [
           {
            "aaxis": {
             "endlinecolor": "#2a3f5f",
             "gridcolor": "white",
             "linecolor": "white",
             "minorgridcolor": "white",
             "startlinecolor": "#2a3f5f"
            },
            "baxis": {
             "endlinecolor": "#2a3f5f",
             "gridcolor": "white",
             "linecolor": "white",
             "minorgridcolor": "white",
             "startlinecolor": "#2a3f5f"
            },
            "type": "carpet"
           }
          ],
          "choropleth": [
           {
            "colorbar": {
             "outlinewidth": 0,
             "ticks": ""
            },
            "type": "choropleth"
           }
          ],
          "contour": [
           {
            "colorbar": {
             "outlinewidth": 0,
             "ticks": ""
            },
            "colorscale": [
             [
              0,
              "#0d0887"
             ],
             [
              0.1111111111111111,
              "#46039f"
             ],
             [
              0.2222222222222222,
              "#7201a8"
             ],
             [
              0.3333333333333333,
              "#9c179e"
             ],
             [
              0.4444444444444444,
              "#bd3786"
             ],
             [
              0.5555555555555556,
              "#d8576b"
             ],
             [
              0.6666666666666666,
              "#ed7953"
             ],
             [
              0.7777777777777778,
              "#fb9f3a"
             ],
             [
              0.8888888888888888,
              "#fdca26"
             ],
             [
              1,
              "#f0f921"
             ]
            ],
            "type": "contour"
           }
          ],
          "contourcarpet": [
           {
            "colorbar": {
             "outlinewidth": 0,
             "ticks": ""
            },
            "type": "contourcarpet"
           }
          ],
          "heatmap": [
           {
            "colorbar": {
             "outlinewidth": 0,
             "ticks": ""
            },
            "colorscale": [
             [
              0,
              "#0d0887"
             ],
             [
              0.1111111111111111,
              "#46039f"
             ],
             [
              0.2222222222222222,
              "#7201a8"
             ],
             [
              0.3333333333333333,
              "#9c179e"
             ],
             [
              0.4444444444444444,
              "#bd3786"
             ],
             [
              0.5555555555555556,
              "#d8576b"
             ],
             [
              0.6666666666666666,
              "#ed7953"
             ],
             [
              0.7777777777777778,
              "#fb9f3a"
             ],
             [
              0.8888888888888888,
              "#fdca26"
             ],
             [
              1,
              "#f0f921"
             ]
            ],
            "type": "heatmap"
           }
          ],
          "heatmapgl": [
           {
            "colorbar": {
             "outlinewidth": 0,
             "ticks": ""
            },
            "colorscale": [
             [
              0,
              "#0d0887"
             ],
             [
              0.1111111111111111,
              "#46039f"
             ],
             [
              0.2222222222222222,
              "#7201a8"
             ],
             [
              0.3333333333333333,
              "#9c179e"
             ],
             [
              0.4444444444444444,
              "#bd3786"
             ],
             [
              0.5555555555555556,
              "#d8576b"
             ],
             [
              0.6666666666666666,
              "#ed7953"
             ],
             [
              0.7777777777777778,
              "#fb9f3a"
             ],
             [
              0.8888888888888888,
              "#fdca26"
             ],
             [
              1,
              "#f0f921"
             ]
            ],
            "type": "heatmapgl"
           }
          ],
          "histogram": [
           {
            "marker": {
             "pattern": {
              "fillmode": "overlay",
              "size": 10,
              "solidity": 0.2
             }
            },
            "type": "histogram"
           }
          ],
          "histogram2d": [
           {
            "colorbar": {
             "outlinewidth": 0,
             "ticks": ""
            },
            "colorscale": [
             [
              0,
              "#0d0887"
             ],
             [
              0.1111111111111111,
              "#46039f"
             ],
             [
              0.2222222222222222,
              "#7201a8"
             ],
             [
              0.3333333333333333,
              "#9c179e"
             ],
             [
              0.4444444444444444,
              "#bd3786"
             ],
             [
              0.5555555555555556,
              "#d8576b"
             ],
             [
              0.6666666666666666,
              "#ed7953"
             ],
             [
              0.7777777777777778,
              "#fb9f3a"
             ],
             [
              0.8888888888888888,
              "#fdca26"
             ],
             [
              1,
              "#f0f921"
             ]
            ],
            "type": "histogram2d"
           }
          ],
          "histogram2dcontour": [
           {
            "colorbar": {
             "outlinewidth": 0,
             "ticks": ""
            },
            "colorscale": [
             [
              0,
              "#0d0887"
             ],
             [
              0.1111111111111111,
              "#46039f"
             ],
             [
              0.2222222222222222,
              "#7201a8"
             ],
             [
              0.3333333333333333,
              "#9c179e"
             ],
             [
              0.4444444444444444,
              "#bd3786"
             ],
             [
              0.5555555555555556,
              "#d8576b"
             ],
             [
              0.6666666666666666,
              "#ed7953"
             ],
             [
              0.7777777777777778,
              "#fb9f3a"
             ],
             [
              0.8888888888888888,
              "#fdca26"
             ],
             [
              1,
              "#f0f921"
             ]
            ],
            "type": "histogram2dcontour"
           }
          ],
          "mesh3d": [
           {
            "colorbar": {
             "outlinewidth": 0,
             "ticks": ""
            },
            "type": "mesh3d"
           }
          ],
          "parcoords": [
           {
            "line": {
             "colorbar": {
              "outlinewidth": 0,
              "ticks": ""
             }
            },
            "type": "parcoords"
           }
          ],
          "pie": [
           {
            "automargin": true,
            "type": "pie"
           }
          ],
          "scatter": [
           {
            "fillpattern": {
             "fillmode": "overlay",
             "size": 10,
             "solidity": 0.2
            },
            "type": "scatter"
           }
          ],
          "scatter3d": [
           {
            "line": {
             "colorbar": {
              "outlinewidth": 0,
              "ticks": ""
             }
            },
            "marker": {
             "colorbar": {
              "outlinewidth": 0,
              "ticks": ""
             }
            },
            "type": "scatter3d"
           }
          ],
          "scattercarpet": [
           {
            "marker": {
             "colorbar": {
              "outlinewidth": 0,
              "ticks": ""
             }
            },
            "type": "scattercarpet"
           }
          ],
          "scattergeo": [
           {
            "marker": {
             "colorbar": {
              "outlinewidth": 0,
              "ticks": ""
             }
            },
            "type": "scattergeo"
           }
          ],
          "scattergl": [
           {
            "marker": {
             "colorbar": {
              "outlinewidth": 0,
              "ticks": ""
             }
            },
            "type": "scattergl"
           }
          ],
          "scattermapbox": [
           {
            "marker": {
             "colorbar": {
              "outlinewidth": 0,
              "ticks": ""
             }
            },
            "type": "scattermapbox"
           }
          ],
          "scatterpolar": [
           {
            "marker": {
             "colorbar": {
              "outlinewidth": 0,
              "ticks": ""
             }
            },
            "type": "scatterpolar"
           }
          ],
          "scatterpolargl": [
           {
            "marker": {
             "colorbar": {
              "outlinewidth": 0,
              "ticks": ""
             }
            },
            "type": "scatterpolargl"
           }
          ],
          "scatterternary": [
           {
            "marker": {
             "colorbar": {
              "outlinewidth": 0,
              "ticks": ""
             }
            },
            "type": "scatterternary"
           }
          ],
          "surface": [
           {
            "colorbar": {
             "outlinewidth": 0,
             "ticks": ""
            },
            "colorscale": [
             [
              0,
              "#0d0887"
             ],
             [
              0.1111111111111111,
              "#46039f"
             ],
             [
              0.2222222222222222,
              "#7201a8"
             ],
             [
              0.3333333333333333,
              "#9c179e"
             ],
             [
              0.4444444444444444,
              "#bd3786"
             ],
             [
              0.5555555555555556,
              "#d8576b"
             ],
             [
              0.6666666666666666,
              "#ed7953"
             ],
             [
              0.7777777777777778,
              "#fb9f3a"
             ],
             [
              0.8888888888888888,
              "#fdca26"
             ],
             [
              1,
              "#f0f921"
             ]
            ],
            "type": "surface"
           }
          ],
          "table": [
           {
            "cells": {
             "fill": {
              "color": "#EBF0F8"
             },
             "line": {
              "color": "white"
             }
            },
            "header": {
             "fill": {
              "color": "#C8D4E3"
             },
             "line": {
              "color": "white"
             }
            },
            "type": "table"
           }
          ]
         },
         "layout": {
          "annotationdefaults": {
           "arrowcolor": "#2a3f5f",
           "arrowhead": 0,
           "arrowwidth": 1
          },
          "autotypenumbers": "strict",
          "coloraxis": {
           "colorbar": {
            "outlinewidth": 0,
            "ticks": ""
           }
          },
          "colorscale": {
           "diverging": [
            [
             0,
             "#8e0152"
            ],
            [
             0.1,
             "#c51b7d"
            ],
            [
             0.2,
             "#de77ae"
            ],
            [
             0.3,
             "#f1b6da"
            ],
            [
             0.4,
             "#fde0ef"
            ],
            [
             0.5,
             "#f7f7f7"
            ],
            [
             0.6,
             "#e6f5d0"
            ],
            [
             0.7,
             "#b8e186"
            ],
            [
             0.8,
             "#7fbc41"
            ],
            [
             0.9,
             "#4d9221"
            ],
            [
             1,
             "#276419"
            ]
           ],
           "sequential": [
            [
             0,
             "#0d0887"
            ],
            [
             0.1111111111111111,
             "#46039f"
            ],
            [
             0.2222222222222222,
             "#7201a8"
            ],
            [
             0.3333333333333333,
             "#9c179e"
            ],
            [
             0.4444444444444444,
             "#bd3786"
            ],
            [
             0.5555555555555556,
             "#d8576b"
            ],
            [
             0.6666666666666666,
             "#ed7953"
            ],
            [
             0.7777777777777778,
             "#fb9f3a"
            ],
            [
             0.8888888888888888,
             "#fdca26"
            ],
            [
             1,
             "#f0f921"
            ]
           ],
           "sequentialminus": [
            [
             0,
             "#0d0887"
            ],
            [
             0.1111111111111111,
             "#46039f"
            ],
            [
             0.2222222222222222,
             "#7201a8"
            ],
            [
             0.3333333333333333,
             "#9c179e"
            ],
            [
             0.4444444444444444,
             "#bd3786"
            ],
            [
             0.5555555555555556,
             "#d8576b"
            ],
            [
             0.6666666666666666,
             "#ed7953"
            ],
            [
             0.7777777777777778,
             "#fb9f3a"
            ],
            [
             0.8888888888888888,
             "#fdca26"
            ],
            [
             1,
             "#f0f921"
            ]
           ]
          },
          "colorway": [
           "#636efa",
           "#EF553B",
           "#00cc96",
           "#ab63fa",
           "#FFA15A",
           "#19d3f3",
           "#FF6692",
           "#B6E880",
           "#FF97FF",
           "#FECB52"
          ],
          "font": {
           "color": "#2a3f5f"
          },
          "geo": {
           "bgcolor": "white",
           "lakecolor": "white",
           "landcolor": "#E5ECF6",
           "showlakes": true,
           "showland": true,
           "subunitcolor": "white"
          },
          "hoverlabel": {
           "align": "left"
          },
          "hovermode": "closest",
          "mapbox": {
           "style": "light"
          },
          "paper_bgcolor": "white",
          "plot_bgcolor": "#E5ECF6",
          "polar": {
           "angularaxis": {
            "gridcolor": "white",
            "linecolor": "white",
            "ticks": ""
           },
           "bgcolor": "#E5ECF6",
           "radialaxis": {
            "gridcolor": "white",
            "linecolor": "white",
            "ticks": ""
           }
          },
          "scene": {
           "xaxis": {
            "backgroundcolor": "#E5ECF6",
            "gridcolor": "white",
            "gridwidth": 2,
            "linecolor": "white",
            "showbackground": true,
            "ticks": "",
            "zerolinecolor": "white"
           },
           "yaxis": {
            "backgroundcolor": "#E5ECF6",
            "gridcolor": "white",
            "gridwidth": 2,
            "linecolor": "white",
            "showbackground": true,
            "ticks": "",
            "zerolinecolor": "white"
           },
           "zaxis": {
            "backgroundcolor": "#E5ECF6",
            "gridcolor": "white",
            "gridwidth": 2,
            "linecolor": "white",
            "showbackground": true,
            "ticks": "",
            "zerolinecolor": "white"
           }
          },
          "shapedefaults": {
           "line": {
            "color": "#2a3f5f"
           }
          },
          "ternary": {
           "aaxis": {
            "gridcolor": "white",
            "linecolor": "white",
            "ticks": ""
           },
           "baxis": {
            "gridcolor": "white",
            "linecolor": "white",
            "ticks": ""
           },
           "bgcolor": "#E5ECF6",
           "caxis": {
            "gridcolor": "white",
            "linecolor": "white",
            "ticks": ""
           }
          },
          "title": {
           "x": 0.05
          },
          "xaxis": {
           "automargin": true,
           "gridcolor": "white",
           "linecolor": "white",
           "ticks": "",
           "title": {
            "standoff": 15
           },
           "zerolinecolor": "white",
           "zerolinewidth": 2
          },
          "yaxis": {
           "automargin": true,
           "gridcolor": "white",
           "linecolor": "white",
           "ticks": "",
           "title": {
            "standoff": 15
           },
           "zerolinecolor": "white",
           "zerolinewidth": 2
          }
         }
        },
        "xaxis": {
         "anchor": "y",
         "domain": [
          0,
          1
         ],
         "title": {
          "text": "passing_attempts_last_per_game"
         }
        },
        "yaxis": {
         "anchor": "x",
         "domain": [
          0,
          1
         ],
         "title": {
          "text": "passing_attempts_per_game"
         }
        }
       }
      },
      "text/html": [
       "<div>                            <div id=\"4b8ecaca-8102-4e97-9406-d0982aaa7326\" class=\"plotly-graph-div\" style=\"height:525px; width:100%;\"></div>            <script type=\"text/javascript\">                require([\"plotly\"], function(Plotly) {                    window.PLOTLYENV=window.PLOTLYENV || {};                                    if (document.getElementById(\"4b8ecaca-8102-4e97-9406-d0982aaa7326\")) {                    Plotly.newPlot(                        \"4b8ecaca-8102-4e97-9406-d0982aaa7326\",                        [{\"customdata\":[[\"P.Manning\",2013,37.0],[\"P.Manning\",2014,38.0],[\"T.Brady\",2013,36.0],[\"T.Brady\",2014,37.0],[\"T.Brady\",2015,38.0],[\"T.Brady\",2016,39.0],[\"T.Brady\",2017,40.0],[\"T.Brady\",2018,41.0],[\"T.Brady\",2019,42.0],[\"T.Brady\",2020,43.0],[\"T.Brady\",2021,44.0],[\"T.Brady\",2022,45.0],[\"D.Brees\",2013,34.0],[\"D.Brees\",2014,35.0],[\"D.Brees\",2015,36.0],[\"D.Brees\",2016,37.0],[\"D.Brees\",2017,38.0],[\"D.Brees\",2018,39.0],[\"C.Palmer\",2013,33.0],[\"C.Palmer\",2016,36.0],[\"T.Romo\",2013,33.0],[\"T.Romo\",2014,34.0],[\"E.Manning\",2013,32.0],[\"E.Manning\",2014,33.0],[\"E.Manning\",2015,34.0],[\"E.Manning\",2016,35.0],[\"E.Manning\",2017,36.0],[\"E.Manning\",2018,37.0],[\"L.Fitzgerald\",2017,34.0],[\"L.Fitzgerald\",2018,35.0],[\"B.Roethlisberger\",2013,31.0],[\"B.Roethlisberger\",2014,32.0],[\"B.Roethlisberger\",2015,33.0],[\"B.Roethlisberger\",2016,34.0],[\"B.Roethlisberger\",2017,35.0],[\"B.Roethlisberger\",2018,36.0],[\"B.Roethlisberger\",2021,39.0],[\"P.Rivers\",2013,31.0],[\"P.Rivers\",2014,32.0],[\"P.Rivers\",2015,33.0],[\"P.Rivers\",2016,34.0],[\"P.Rivers\",2017,35.0],[\"P.Rivers\",2018,36.0],[\"P.Rivers\",2019,37.0],[\"P.Rivers\",2020,38.0],[\"A.Smith\",2014,30.0],[\"A.Smith\",2015,31.0],[\"A.Smith\",2016,32.0],[\"A.Smith\",2017,33.0],[\"A.Rodgers\",2015,31.0],[\"A.Rodgers\",2016,32.0],[\"A.Rodgers\",2019,35.0],[\"A.Rodgers\",2020,36.0],[\"A.Rodgers\",2021,37.0],[\"A.Rodgers\",2022,38.0],[\"R.Fitzpatrick\",2015,32.0],[\"R.Fitzpatrick\",2016,33.0],[\"J.Cutler\",2015,32.0],[\"D.Amendola\",2019,33.0],[\"M.Ryan\",2013,28.0],[\"M.Ryan\",2014,29.0],[\"M.Ryan\",2015,30.0],[\"M.Ryan\",2016,31.0],[\"M.Ryan\",2017,32.0],[\"M.Ryan\",2018,33.0],[\"M.Ryan\",2019,34.0],[\"M.Ryan\",2020,35.0],[\"M.Ryan\",2021,36.0],[\"M.Ryan\",2022,37.0],[\"D.McFadden\",2015,28.0],[\"J.Flacco\",2013,28.0],[\"J.Flacco\",2014,29.0],[\"J.Flacco\",2017,32.0],[\"M.Stafford\",2013,25.0],[\"M.Stafford\",2014,26.0],[\"M.Stafford\",2015,27.0],[\"M.Stafford\",2016,28.0],[\"M.Stafford\",2017,29.0],[\"M.Stafford\",2018,30.0],[\"M.Stafford\",2021,33.0],[\"J.Edelman\",2019,33.0],[\"E.Sanders\",2019,32.0],[\"A.Brown\",2013,25.0],[\"A.Brown\",2014,26.0],[\"S.Bradford\",2016,28.0],[\"C.Newton\",2013,24.0],[\"C.Newton\",2014,25.0],[\"C.Newton\",2015,26.0],[\"C.Newton\",2016,27.0],[\"C.Newton\",2017,28.0],[\"C.Newton\",2018,29.0],[\"A.Dalton\",2013,25.0],[\"A.Dalton\",2014,26.0],[\"A.Dalton\",2015,27.0],[\"A.Dalton\",2016,28.0],[\"A.Dalton\",2017,29.0],[\"C.Kaepernick\",2013,25.0],[\"C.Kaepernick\",2014,26.0],[\"J.Kerley\",2013,24.0],[\"J.Kerley\",2014,25.0],[\"T.Taylor\",2016,27.0],[\"T.Taylor\",2017,28.0],[\"C.Keenum\",2018,30.0],[\"C.Beasley\",2021,32.0],[\"R.Wilson\",2013,24.0],[\"R.Wilson\",2014,25.0],[\"R.Wilson\",2015,26.0],[\"R.Wilson\",2016,27.0],[\"R.Wilson\",2017,28.0],[\"R.Wilson\",2018,29.0],[\"R.Wilson\",2019,30.0],[\"R.Wilson\",2020,31.0],[\"R.Wilson\",2021,32.0],[\"R.Wilson\",2022,33.0],[\"B.Rainey\",2014,26.0],[\"K.Cousins\",2016,28.0],[\"K.Cousins\",2017,29.0],[\"K.Cousins\",2018,30.0],[\"K.Cousins\",2019,31.0],[\"K.Cousins\",2020,32.0],[\"K.Cousins\",2021,33.0],[\"K.Cousins\",2022,34.0],[\"M.Sanu\",2014,25.0],[\"M.Sanu\",2018,29.0],[\"R.Griffin III\",2013,23.0],[\"A.Luck\",2013,23.0],[\"A.Luck\",2014,24.0],[\"R.Tannehill\",2013,25.0],[\"R.Tannehill\",2014,26.0],[\"R.Tannehill\",2015,27.0],[\"R.Tannehill\",2016,28.0],[\"R.Tannehill\",2020,32.0],[\"R.Tannehill\",2021,33.0],[\"R.Tannehill\",2022,34.0],[\"K.Allen\",2021,29.0],[\"R.Burkhead\",2022,32.0],[\"D.Robinson\",2014,23.0],[\"D.Hopkins\",2019,27.0],[\"G.Smith\",2014,23.0],[\"O.Beckham\",2019,26.0],[\"T.Bridgewater\",2015,22.0],[\"T.Bridgewater\",2021,28.0],[\"D.Carr\",2015,24.0],[\"D.Carr\",2016,25.0],[\"D.Carr\",2017,26.0],[\"D.Carr\",2018,27.0],[\"D.Carr\",2019,28.0],[\"D.Carr\",2020,29.0],[\"D.Carr\",2021,30.0],[\"D.Carr\",2022,31.0],[\"J.Landry\",2016,23.0],[\"J.Landry\",2017,24.0],[\"J.Landry\",2018,25.0],[\"B.Bortles\",2015,23.0],[\"B.Bortles\",2016,24.0],[\"B.Bortles\",2017,25.0],[\"B.Bortles\",2018,26.0],[\"M.Lee\",2017,25.0],[\"J.Winston\",2016,22.0],[\"J.Winston\",2017,23.0],[\"M.Mariota\",2016,22.0],[\"M.Mariota\",2017,23.0],[\"M.Mariota\",2018,24.0],[\"C.Wentz\",2017,24.0],[\"C.Wentz\",2020,27.0],[\"C.Wentz\",2021,28.0],[\"T.Boyd\",2021,26.0],[\"T.Boyd\",2022,27.0],[\"D.Prescott\",2017,24.0],[\"D.Prescott\",2018,25.0],[\"D.Prescott\",2019,26.0],[\"D.Prescott\",2022,29.0],[\"J.Goff\",2018,23.0],[\"J.Goff\",2019,24.0],[\"J.Goff\",2020,25.0],[\"J.Goff\",2021,26.0],[\"J.Goff\",2022,27.0],[\"Z.Pascal\",2020,25.0],[\"C.McCaffrey\",2019,23.0],[\"T.Hill\",2019,29.0],[\"T.Hill\",2020,30.0],[\"T.Hill\",2021,31.0],[\"T.Hill\",2022,32.0],[\"D.Watson\",2019,23.0],[\"D.Watson\",2020,24.0],[\"T.Cohen\",2018,23.0],[\"L.Fournette\",2022,27.0],[\"M.Trubisky\",2018,24.0],[\"M.Trubisky\",2019,25.0],[\"P.Mahomes\",2019,23.0],[\"P.Mahomes\",2020,24.0],[\"P.Mahomes\",2021,25.0],[\"P.Mahomes\",2022,26.0],[\"C.Kirk\",2022,25.0],[\"L.Jackson\",2019,22.0],[\"L.Jackson\",2020,23.0],[\"L.Jackson\",2021,24.0],[\"L.Jackson\",2022,25.0],[\"B.Mayfield\",2019,24.0],[\"B.Mayfield\",2020,25.0],[\"B.Mayfield\",2021,26.0],[\"B.Mayfield\",2022,27.0],[\"J.Allen\",2019,23.0],[\"J.Allen\",2020,24.0],[\"J.Allen\",2021,25.0],[\"J.Allen\",2022,26.0],[\"S.Darnold\",2019,22.0],[\"S.Darnold\",2020,23.0],[\"S.Darnold\",2021,24.0],[\"J.Meyers\",2021,24.0],[\"K.Murray\",2020,23.0],[\"K.Murray\",2021,24.0],[\"D.Jones\",2020,23.0],[\"T.Tagovailoa\",2022,24.0],[\"J.Jefferson\",2022,23.0],[\"J.Herbert\",2021,23.0],[\"J.Herbert\",2022,24.0],[\"J.Hurts\",2021,23.0],[\"J.Hurts\",2022,24.0],[\"J.Burrow\",2022,25.0],[\"D.Mills\",2022,23.0],[\"J.Fields\",2022,23.0],[\"T.Lawrence\",2022,22.0],[\"M.Jones\",2022,23.0]],\"hovertemplate\":\"passing_attempts_last_per_game=%{x}\\u003cbr\\u003epassing_attempts_per_game=%{y}\\u003cbr\\u003epasser=%{customdata[0]}\\u003cbr\\u003eseason=%{customdata[1]}\\u003cbr\\u003eage=%{customdata[2]}\\u003cextra\\u003e\\u003c\\u002fextra\\u003e\",\"legendgroup\":\"\",\"marker\":{\"color\":\"#636efa\",\"symbol\":\"circle\"},\"mode\":\"markers\",\"name\":\"\",\"orientation\":\"v\",\"showlegend\":false,\"x\":[36.25,41.125,39.625,39.0,36.375,38.875,35.916666666666664,36.3125,35.5,38.3125,37.875,42.1764705882353,41.6875,40.5,40.8125,41.666666666666664,41.5,33.3125,37.4,33.1875,40.3125,35.6,33.4375,34.4375,37.5,38.5625,37.375,38.0,0.0625,0.0625,34.07692307692308,36.125,37.4375,39.0,36.142857142857146,37.13333333333333,40.53333333333333,32.8125,33.9375,35.5625,41.1875,36.0625,35.8125,31.75,36.75,33.6,30.933333333333334,29.375,32.53333333333333,32.5,35.6875,37.1875,35.5,32.6875,33.0,25.916666666666668,35.125,37.4,0.06666666666666667,38.375,40.625,38.875,38.375,33.375,32.875,37.9375,41.0,39.0,32.88235294117647,0.0625,33.1875,38.25,41.5625,45.1875,39.4375,37.3125,37.0,36.9375,35.3125,32.5,0.16666666666666666,0.08333333333333333,0.15384615384615385,0.0625,37.92857142857143,30.1875,29.375,31.857142857142858,30.8125,33.8,30.625,32.8125,36.5625,30.0625,29.692307692307693,35.0625,16.76923076923077,26.0,0.0625,0.08333333333333333,27.071428571428573,29.0,32.06666666666667,0.06666666666666667,24.5625,25.3125,28.1875,30.0625,34.0,34.3125,26.1875,32.0625,34.8125,28.571428571428573,0.08333333333333333,33.9375,37.6875,33.6875,37.6875,29.6,32.0625,34.75,0.0625,0.06666666666666667,26.066666666666666,38.6875,35.625,30.125,36.4375,36.8125,36.5,23.583333333333332,30.0625,31.176470588235293,0.07142857142857142,0.07142857142857142,0.08333333333333333,0.0625,27.625,0.16666666666666666,30.53846153846154,32.666666666666664,37.0625,35.75,37.2,34.266666666666666,34.125,31.9375,32.0625,36.64705882352941,0.0625,0.0625,0.0625,33.857142857142854,37.6875,39.0625,32.625,0.0625,33.3125,35.4375,30.583333333333332,29.866666666666667,30.133333333333333,37.8125,37.8125,36.333333333333336,0.13333333333333333,0.0625,28.5625,30.5,32.875,37.25,31.666666666666668,34.9375,39.0625,36.666666666666664,34.92857142857143,0.07142857142857142,0.0625,0.5384615384615384,0.375,7.5625,11.0,31.1875,32.86666666666667,0.125,0.07142857142857142,27.416666666666668,30.928571428571427,36.1875,34.57142857142857,39.13333333333333,38.705882352941174,0.058823529411764705,10.625,26.6,24.866666666666667,31.5,34.5,33.25,30.0625,29.714285714285715,26.666666666666668,28.625,35.75,38.0,31.76923076923077,33.76923076923077,30.083333333333332,0.16666666666666666,33.625,34.375,35.30769230769231,29.76923076923077,0.23529411764705882,39.4,39.470588235294116,10.5,28.666666666666668,32.375,30.153846153846153,22.333333333333332,35.1764705882353,30.58823529411765],\"xaxis\":\"x\",\"y\":[41.125,37.1875,39.0,36.375,38.875,35.916666666666664,36.3125,35.5,38.3125,37.875,42.1764705882353,42.94117647058823,40.5,40.8125,41.666666666666664,41.5,33.3125,32.6,35.6875,39.666666666666664,35.6,28.933333333333334,34.4375,37.5,38.5625,37.375,38.0,35.9375,0.0625,0.0625,36.125,37.4375,39.0,36.142857142857146,37.13333333333333,42.0,37.6875,33.9375,35.5625,41.1875,36.0625,35.8125,31.75,36.75,33.75,30.933333333333334,29.375,32.53333333333333,33.6,35.6875,38.0,35.5,32.6875,33.0,31.764705882352942,35.125,28.785714285714285,32.13333333333333,0.06666666666666667,40.625,38.875,38.375,33.375,32.875,37.9375,41.0,39.0,32.88235294117647,38.333333333333336,0.0625,38.25,34.25,34.125,39.4375,37.3125,37.0,36.9375,35.3125,34.625,35.35294117647059,0.125,0.058823529411764705,0.0625,0.125,36.733333333333334,29.375,31.857142857142858,30.8125,33.8,30.625,33.42857142857143,36.5625,30.0625,29.692307692307693,35.0625,30.9375,26.0,29.875,0.08333333333333333,0.0625,29.0,28.0,36.5,0.0625,25.3125,28.1875,30.0625,34.0,34.3125,26.1875,32.0625,34.8125,28.571428571428573,32.13333333333333,0.08333333333333333,37.6875,33.6875,37.6875,29.6,32.0625,34.75,37.588235294117645,0.1875,0.125,34.84615384615385,35.625,38.5,36.4375,36.8125,36.5,29.76923076923077,30.0625,31.176470588235293,27.0,0.0625,0.06666666666666667,0.07692307692307693,0.13333333333333333,26.142857142857142,0.125,27.9375,30.428571428571427,35.75,37.2,34.266666666666666,34.125,31.9375,32.0625,36.64705882352941,33.46666666666667,0.0625,0.0625,0.125,37.6875,39.0625,32.625,31.0,0.07692307692307693,35.4375,33.76923076923077,29.866666666666667,30.133333333333333,23.642857142857142,33.84615384615385,36.333333333333336,30.352941176470587,0.0625,0.0625,30.5,32.875,37.1875,32.833333333333336,34.9375,39.0625,36.666666666666664,34.92857142857143,34.470588235294116,0.0625,0.125,0.375,7.5625,11.0,1.1875,32.86666666666667,33.875,0.0625,0.0625,30.928571428571427,34.2,34.57142857142857,39.13333333333333,38.705882352941174,38.11764705882353,0.058823529411764705,26.6,24.866666666666667,31.5,27.083333333333332,33.25,30.0625,29.714285714285715,27.833333333333332,28.625,35.75,38.0,35.375,33.76923076923077,30.083333333333332,33.75,0.125,34.375,34.357142857142854,31.857142857142858,30.692307692307693,0.11764705882352941,39.470588235294116,41.0,28.666666666666668,30.666666666666668,37.8125,31.866666666666667,21.2,34.23529411764706,31.428571428571427],\"yaxis\":\"y\",\"type\":\"scatter\"}],                        {\"template\":{\"data\":{\"histogram2dcontour\":[{\"type\":\"histogram2dcontour\",\"colorbar\":{\"outlinewidth\":0,\"ticks\":\"\"},\"colorscale\":[[0.0,\"#0d0887\"],[0.1111111111111111,\"#46039f\"],[0.2222222222222222,\"#7201a8\"],[0.3333333333333333,\"#9c179e\"],[0.4444444444444444,\"#bd3786\"],[0.5555555555555556,\"#d8576b\"],[0.6666666666666666,\"#ed7953\"],[0.7777777777777778,\"#fb9f3a\"],[0.8888888888888888,\"#fdca26\"],[1.0,\"#f0f921\"]]}],\"choropleth\":[{\"type\":\"choropleth\",\"colorbar\":{\"outlinewidth\":0,\"ticks\":\"\"}}],\"histogram2d\":[{\"type\":\"histogram2d\",\"colorbar\":{\"outlinewidth\":0,\"ticks\":\"\"},\"colorscale\":[[0.0,\"#0d0887\"],[0.1111111111111111,\"#46039f\"],[0.2222222222222222,\"#7201a8\"],[0.3333333333333333,\"#9c179e\"],[0.4444444444444444,\"#bd3786\"],[0.5555555555555556,\"#d8576b\"],[0.6666666666666666,\"#ed7953\"],[0.7777777777777778,\"#fb9f3a\"],[0.8888888888888888,\"#fdca26\"],[1.0,\"#f0f921\"]]}],\"heatmap\":[{\"type\":\"heatmap\",\"colorbar\":{\"outlinewidth\":0,\"ticks\":\"\"},\"colorscale\":[[0.0,\"#0d0887\"],[0.1111111111111111,\"#46039f\"],[0.2222222222222222,\"#7201a8\"],[0.3333333333333333,\"#9c179e\"],[0.4444444444444444,\"#bd3786\"],[0.5555555555555556,\"#d8576b\"],[0.6666666666666666,\"#ed7953\"],[0.7777777777777778,\"#fb9f3a\"],[0.8888888888888888,\"#fdca26\"],[1.0,\"#f0f921\"]]}],\"heatmapgl\":[{\"type\":\"heatmapgl\",\"colorbar\":{\"outlinewidth\":0,\"ticks\":\"\"},\"colorscale\":[[0.0,\"#0d0887\"],[0.1111111111111111,\"#46039f\"],[0.2222222222222222,\"#7201a8\"],[0.3333333333333333,\"#9c179e\"],[0.4444444444444444,\"#bd3786\"],[0.5555555555555556,\"#d8576b\"],[0.6666666666666666,\"#ed7953\"],[0.7777777777777778,\"#fb9f3a\"],[0.8888888888888888,\"#fdca26\"],[1.0,\"#f0f921\"]]}],\"contourcarpet\":[{\"type\":\"contourcarpet\",\"colorbar\":{\"outlinewidth\":0,\"ticks\":\"\"}}],\"contour\":[{\"type\":\"contour\",\"colorbar\":{\"outlinewidth\":0,\"ticks\":\"\"},\"colorscale\":[[0.0,\"#0d0887\"],[0.1111111111111111,\"#46039f\"],[0.2222222222222222,\"#7201a8\"],[0.3333333333333333,\"#9c179e\"],[0.4444444444444444,\"#bd3786\"],[0.5555555555555556,\"#d8576b\"],[0.6666666666666666,\"#ed7953\"],[0.7777777777777778,\"#fb9f3a\"],[0.8888888888888888,\"#fdca26\"],[1.0,\"#f0f921\"]]}],\"surface\":[{\"type\":\"surface\",\"colorbar\":{\"outlinewidth\":0,\"ticks\":\"\"},\"colorscale\":[[0.0,\"#0d0887\"],[0.1111111111111111,\"#46039f\"],[0.2222222222222222,\"#7201a8\"],[0.3333333333333333,\"#9c179e\"],[0.4444444444444444,\"#bd3786\"],[0.5555555555555556,\"#d8576b\"],[0.6666666666666666,\"#ed7953\"],[0.7777777777777778,\"#fb9f3a\"],[0.8888888888888888,\"#fdca26\"],[1.0,\"#f0f921\"]]}],\"mesh3d\":[{\"type\":\"mesh3d\",\"colorbar\":{\"outlinewidth\":0,\"ticks\":\"\"}}],\"scatter\":[{\"fillpattern\":{\"fillmode\":\"overlay\",\"size\":10,\"solidity\":0.2},\"type\":\"scatter\"}],\"parcoords\":[{\"type\":\"parcoords\",\"line\":{\"colorbar\":{\"outlinewidth\":0,\"ticks\":\"\"}}}],\"scatterpolargl\":[{\"type\":\"scatterpolargl\",\"marker\":{\"colorbar\":{\"outlinewidth\":0,\"ticks\":\"\"}}}],\"bar\":[{\"error_x\":{\"color\":\"#2a3f5f\"},\"error_y\":{\"color\":\"#2a3f5f\"},\"marker\":{\"line\":{\"color\":\"#E5ECF6\",\"width\":0.5},\"pattern\":{\"fillmode\":\"overlay\",\"size\":10,\"solidity\":0.2}},\"type\":\"bar\"}],\"scattergeo\":[{\"type\":\"scattergeo\",\"marker\":{\"colorbar\":{\"outlinewidth\":0,\"ticks\":\"\"}}}],\"scatterpolar\":[{\"type\":\"scatterpolar\",\"marker\":{\"colorbar\":{\"outlinewidth\":0,\"ticks\":\"\"}}}],\"histogram\":[{\"marker\":{\"pattern\":{\"fillmode\":\"overlay\",\"size\":10,\"solidity\":0.2}},\"type\":\"histogram\"}],\"scattergl\":[{\"type\":\"scattergl\",\"marker\":{\"colorbar\":{\"outlinewidth\":0,\"ticks\":\"\"}}}],\"scatter3d\":[{\"type\":\"scatter3d\",\"line\":{\"colorbar\":{\"outlinewidth\":0,\"ticks\":\"\"}},\"marker\":{\"colorbar\":{\"outlinewidth\":0,\"ticks\":\"\"}}}],\"scattermapbox\":[{\"type\":\"scattermapbox\",\"marker\":{\"colorbar\":{\"outlinewidth\":0,\"ticks\":\"\"}}}],\"scatterternary\":[{\"type\":\"scatterternary\",\"marker\":{\"colorbar\":{\"outlinewidth\":0,\"ticks\":\"\"}}}],\"scattercarpet\":[{\"type\":\"scattercarpet\",\"marker\":{\"colorbar\":{\"outlinewidth\":0,\"ticks\":\"\"}}}],\"carpet\":[{\"aaxis\":{\"endlinecolor\":\"#2a3f5f\",\"gridcolor\":\"white\",\"linecolor\":\"white\",\"minorgridcolor\":\"white\",\"startlinecolor\":\"#2a3f5f\"},\"baxis\":{\"endlinecolor\":\"#2a3f5f\",\"gridcolor\":\"white\",\"linecolor\":\"white\",\"minorgridcolor\":\"white\",\"startlinecolor\":\"#2a3f5f\"},\"type\":\"carpet\"}],\"table\":[{\"cells\":{\"fill\":{\"color\":\"#EBF0F8\"},\"line\":{\"color\":\"white\"}},\"header\":{\"fill\":{\"color\":\"#C8D4E3\"},\"line\":{\"color\":\"white\"}},\"type\":\"table\"}],\"barpolar\":[{\"marker\":{\"line\":{\"color\":\"#E5ECF6\",\"width\":0.5},\"pattern\":{\"fillmode\":\"overlay\",\"size\":10,\"solidity\":0.2}},\"type\":\"barpolar\"}],\"pie\":[{\"automargin\":true,\"type\":\"pie\"}]},\"layout\":{\"autotypenumbers\":\"strict\",\"colorway\":[\"#636efa\",\"#EF553B\",\"#00cc96\",\"#ab63fa\",\"#FFA15A\",\"#19d3f3\",\"#FF6692\",\"#B6E880\",\"#FF97FF\",\"#FECB52\"],\"font\":{\"color\":\"#2a3f5f\"},\"hovermode\":\"closest\",\"hoverlabel\":{\"align\":\"left\"},\"paper_bgcolor\":\"white\",\"plot_bgcolor\":\"#E5ECF6\",\"polar\":{\"bgcolor\":\"#E5ECF6\",\"angularaxis\":{\"gridcolor\":\"white\",\"linecolor\":\"white\",\"ticks\":\"\"},\"radialaxis\":{\"gridcolor\":\"white\",\"linecolor\":\"white\",\"ticks\":\"\"}},\"ternary\":{\"bgcolor\":\"#E5ECF6\",\"aaxis\":{\"gridcolor\":\"white\",\"linecolor\":\"white\",\"ticks\":\"\"},\"baxis\":{\"gridcolor\":\"white\",\"linecolor\":\"white\",\"ticks\":\"\"},\"caxis\":{\"gridcolor\":\"white\",\"linecolor\":\"white\",\"ticks\":\"\"}},\"coloraxis\":{\"colorbar\":{\"outlinewidth\":0,\"ticks\":\"\"}},\"colorscale\":{\"sequential\":[[0.0,\"#0d0887\"],[0.1111111111111111,\"#46039f\"],[0.2222222222222222,\"#7201a8\"],[0.3333333333333333,\"#9c179e\"],[0.4444444444444444,\"#bd3786\"],[0.5555555555555556,\"#d8576b\"],[0.6666666666666666,\"#ed7953\"],[0.7777777777777778,\"#fb9f3a\"],[0.8888888888888888,\"#fdca26\"],[1.0,\"#f0f921\"]],\"sequentialminus\":[[0.0,\"#0d0887\"],[0.1111111111111111,\"#46039f\"],[0.2222222222222222,\"#7201a8\"],[0.3333333333333333,\"#9c179e\"],[0.4444444444444444,\"#bd3786\"],[0.5555555555555556,\"#d8576b\"],[0.6666666666666666,\"#ed7953\"],[0.7777777777777778,\"#fb9f3a\"],[0.8888888888888888,\"#fdca26\"],[1.0,\"#f0f921\"]],\"diverging\":[[0,\"#8e0152\"],[0.1,\"#c51b7d\"],[0.2,\"#de77ae\"],[0.3,\"#f1b6da\"],[0.4,\"#fde0ef\"],[0.5,\"#f7f7f7\"],[0.6,\"#e6f5d0\"],[0.7,\"#b8e186\"],[0.8,\"#7fbc41\"],[0.9,\"#4d9221\"],[1,\"#276419\"]]},\"xaxis\":{\"gridcolor\":\"white\",\"linecolor\":\"white\",\"ticks\":\"\",\"title\":{\"standoff\":15},\"zerolinecolor\":\"white\",\"automargin\":true,\"zerolinewidth\":2},\"yaxis\":{\"gridcolor\":\"white\",\"linecolor\":\"white\",\"ticks\":\"\",\"title\":{\"standoff\":15},\"zerolinecolor\":\"white\",\"automargin\":true,\"zerolinewidth\":2},\"scene\":{\"xaxis\":{\"backgroundcolor\":\"#E5ECF6\",\"gridcolor\":\"white\",\"linecolor\":\"white\",\"showbackground\":true,\"ticks\":\"\",\"zerolinecolor\":\"white\",\"gridwidth\":2},\"yaxis\":{\"backgroundcolor\":\"#E5ECF6\",\"gridcolor\":\"white\",\"linecolor\":\"white\",\"showbackground\":true,\"ticks\":\"\",\"zerolinecolor\":\"white\",\"gridwidth\":2},\"zaxis\":{\"backgroundcolor\":\"#E5ECF6\",\"gridcolor\":\"white\",\"linecolor\":\"white\",\"showbackground\":true,\"ticks\":\"\",\"zerolinecolor\":\"white\",\"gridwidth\":2}},\"shapedefaults\":{\"line\":{\"color\":\"#2a3f5f\"}},\"annotationdefaults\":{\"arrowcolor\":\"#2a3f5f\",\"arrowhead\":0,\"arrowwidth\":1},\"geo\":{\"bgcolor\":\"white\",\"landcolor\":\"#E5ECF6\",\"subunitcolor\":\"white\",\"showland\":true,\"showlakes\":true,\"lakecolor\":\"white\"},\"title\":{\"x\":0.05},\"mapbox\":{\"style\":\"light\"}}},\"xaxis\":{\"anchor\":\"y\",\"domain\":[0.0,1.0],\"title\":{\"text\":\"passing_attempts_last_per_game\"}},\"yaxis\":{\"anchor\":\"x\",\"domain\":[0.0,1.0],\"title\":{\"text\":\"passing_attempts_per_game\"}},\"legend\":{\"tracegroupgap\":0},\"margin\":{\"t\":60}},                        {\"responsive\": true}                    ).then(function(){\n",
       "                            \n",
       "var gd = document.getElementById('4b8ecaca-8102-4e97-9406-d0982aaa7326');\n",
       "var x = new MutationObserver(function (mutations, observer) {{\n",
       "        var display = window.getComputedStyle(gd).display;\n",
       "        if (!display || display === 'none') {{\n",
       "            console.log([gd, 'removed!']);\n",
       "            Plotly.purge(gd);\n",
       "            observer.disconnect();\n",
       "        }}\n",
       "}});\n",
       "\n",
       "// Listen for the removal of the full notebook cells\n",
       "var notebookContainer = gd.closest('#notebook-container');\n",
       "if (notebookContainer) {{\n",
       "    x.observe(notebookContainer, {childList: true});\n",
       "}}\n",
       "\n",
       "// Listen for the clearing of the current output cell\n",
       "var outputEl = gd.closest('.output');\n",
       "if (outputEl) {{\n",
       "    x.observe(outputEl, {childList: true});\n",
       "}}\n",
       "\n",
       "                        })                };                });            </script>        </div>"
      ]
     },
     "metadata": {},
     "output_type": "display_data"
    },
    {
     "data": {
      "text/html": [
       "<div>\n",
       "<style scoped>\n",
       "    .dataframe tbody tr th:only-of-type {\n",
       "        vertical-align: middle;\n",
       "    }\n",
       "\n",
       "    .dataframe tbody tr th {\n",
       "        vertical-align: top;\n",
       "    }\n",
       "\n",
       "    .dataframe thead th {\n",
       "        text-align: right;\n",
       "    }\n",
       "</style>\n",
       "<table border=\"1\" class=\"dataframe\">\n",
       "  <thead>\n",
       "    <tr style=\"text-align: right;\">\n",
       "      <th></th>\n",
       "      <th>passer_id</th>\n",
       "      <th>passer</th>\n",
       "      <th>season</th>\n",
       "      <th>age</th>\n",
       "      <th>age_last</th>\n",
       "      <th>passing_yards_per_game</th>\n",
       "      <th>passing_attempts_per_game</th>\n",
       "      <th>total_epa_per_game</th>\n",
       "      <th>passing_touchdowns_per_game</th>\n",
       "      <th>completions_per_game</th>\n",
       "      <th>fantasy_points_per_game</th>\n",
       "      <th>passing_yards_last_per_game</th>\n",
       "      <th>passing_attempts_last_per_game</th>\n",
       "      <th>total_epa_last_per_game</th>\n",
       "      <th>passing_touchdowns_last_per_game</th>\n",
       "      <th>completions_last_per_game</th>\n",
       "      <th>fantasy_points_last_per_game</th>\n",
       "      <th>games</th>\n",
       "      <th>games_last</th>\n",
       "    </tr>\n",
       "  </thead>\n",
       "  <tbody>\n",
       "    <tr>\n",
       "      <th>3</th>\n",
       "      <td>00-0010346</td>\n",
       "      <td>P.Manning</td>\n",
       "      <td>2013</td>\n",
       "      <td>37.0</td>\n",
       "      <td>36.0</td>\n",
       "      <td>342.312500</td>\n",
       "      <td>41.125000</td>\n",
       "      <td>18.124193</td>\n",
       "      <td>3.437500</td>\n",
       "      <td>28.125000</td>\n",
       "      <td>25.623750</td>\n",
       "      <td>291.187500</td>\n",
       "      <td>36.250000</td>\n",
       "      <td>11.813057</td>\n",
       "      <td>2.312500</td>\n",
       "      <td>25.000000</td>\n",
       "      <td>19.435000</td>\n",
       "      <td>16.0</td>\n",
       "      <td>16.0</td>\n",
       "    </tr>\n",
       "    <tr>\n",
       "      <th>4</th>\n",
       "      <td>00-0010346</td>\n",
       "      <td>P.Manning</td>\n",
       "      <td>2014</td>\n",
       "      <td>38.0</td>\n",
       "      <td>37.0</td>\n",
       "      <td>295.437500</td>\n",
       "      <td>37.187500</td>\n",
       "      <td>9.229780</td>\n",
       "      <td>2.437500</td>\n",
       "      <td>24.687500</td>\n",
       "      <td>19.542500</td>\n",
       "      <td>342.312500</td>\n",
       "      <td>41.125000</td>\n",
       "      <td>18.124193</td>\n",
       "      <td>3.437500</td>\n",
       "      <td>28.125000</td>\n",
       "      <td>25.623750</td>\n",
       "      <td>16.0</td>\n",
       "      <td>16.0</td>\n",
       "    </tr>\n",
       "    <tr>\n",
       "      <th>6</th>\n",
       "      <td>00-0019596</td>\n",
       "      <td>T.Brady</td>\n",
       "      <td>2013</td>\n",
       "      <td>36.0</td>\n",
       "      <td>35.0</td>\n",
       "      <td>271.437500</td>\n",
       "      <td>39.000000</td>\n",
       "      <td>8.530468</td>\n",
       "      <td>1.562500</td>\n",
       "      <td>23.750000</td>\n",
       "      <td>15.720000</td>\n",
       "      <td>301.687500</td>\n",
       "      <td>39.625000</td>\n",
       "      <td>13.721569</td>\n",
       "      <td>2.125000</td>\n",
       "      <td>25.062500</td>\n",
       "      <td>21.517500</td>\n",
       "      <td>16.0</td>\n",
       "      <td>16.0</td>\n",
       "    </tr>\n",
       "    <tr>\n",
       "      <th>7</th>\n",
       "      <td>00-0019596</td>\n",
       "      <td>T.Brady</td>\n",
       "      <td>2014</td>\n",
       "      <td>37.0</td>\n",
       "      <td>36.0</td>\n",
       "      <td>256.812500</td>\n",
       "      <td>36.375000</td>\n",
       "      <td>8.834653</td>\n",
       "      <td>2.062500</td>\n",
       "      <td>23.312500</td>\n",
       "      <td>17.378750</td>\n",
       "      <td>271.437500</td>\n",
       "      <td>39.000000</td>\n",
       "      <td>8.530468</td>\n",
       "      <td>1.562500</td>\n",
       "      <td>23.750000</td>\n",
       "      <td>15.720000</td>\n",
       "      <td>16.0</td>\n",
       "      <td>16.0</td>\n",
       "    </tr>\n",
       "    <tr>\n",
       "      <th>8</th>\n",
       "      <td>00-0019596</td>\n",
       "      <td>T.Brady</td>\n",
       "      <td>2015</td>\n",
       "      <td>38.0</td>\n",
       "      <td>37.0</td>\n",
       "      <td>298.125000</td>\n",
       "      <td>38.875000</td>\n",
       "      <td>11.165308</td>\n",
       "      <td>2.250000</td>\n",
       "      <td>25.125000</td>\n",
       "      <td>21.481250</td>\n",
       "      <td>256.812500</td>\n",
       "      <td>36.375000</td>\n",
       "      <td>8.834653</td>\n",
       "      <td>2.062500</td>\n",
       "      <td>23.312500</td>\n",
       "      <td>17.378750</td>\n",
       "      <td>16.0</td>\n",
       "      <td>16.0</td>\n",
       "    </tr>\n",
       "    <tr>\n",
       "      <th>...</th>\n",
       "      <td>...</td>\n",
       "      <td>...</td>\n",
       "      <td>...</td>\n",
       "      <td>...</td>\n",
       "      <td>...</td>\n",
       "      <td>...</td>\n",
       "      <td>...</td>\n",
       "      <td>...</td>\n",
       "      <td>...</td>\n",
       "      <td>...</td>\n",
       "      <td>...</td>\n",
       "      <td>...</td>\n",
       "      <td>...</td>\n",
       "      <td>...</td>\n",
       "      <td>...</td>\n",
       "      <td>...</td>\n",
       "      <td>...</td>\n",
       "      <td>...</td>\n",
       "      <td>...</td>\n",
       "    </tr>\n",
       "    <tr>\n",
       "      <th>595</th>\n",
       "      <td>00-0036442</td>\n",
       "      <td>J.Burrow</td>\n",
       "      <td>2022</td>\n",
       "      <td>25.0</td>\n",
       "      <td>24.0</td>\n",
       "      <td>279.687500</td>\n",
       "      <td>37.812500</td>\n",
       "      <td>9.712385</td>\n",
       "      <td>2.187500</td>\n",
       "      <td>25.875000</td>\n",
       "      <td>21.918750</td>\n",
       "      <td>288.187500</td>\n",
       "      <td>32.375000</td>\n",
       "      <td>11.223626</td>\n",
       "      <td>2.125000</td>\n",
       "      <td>22.875000</td>\n",
       "      <td>19.640000</td>\n",
       "      <td>16.0</td>\n",
       "      <td>16.0</td>\n",
       "    </tr>\n",
       "    <tr>\n",
       "      <th>596</th>\n",
       "      <td>00-0036898</td>\n",
       "      <td>D.Mills</td>\n",
       "      <td>2022</td>\n",
       "      <td>23.0</td>\n",
       "      <td>22.0</td>\n",
       "      <td>207.866667</td>\n",
       "      <td>31.866667</td>\n",
       "      <td>-0.805794</td>\n",
       "      <td>1.133333</td>\n",
       "      <td>19.466667</td>\n",
       "      <td>12.101333</td>\n",
       "      <td>204.923077</td>\n",
       "      <td>30.153846</td>\n",
       "      <td>0.334728</td>\n",
       "      <td>1.230769</td>\n",
       "      <td>20.230769</td>\n",
       "      <td>12.073846</td>\n",
       "      <td>15.0</td>\n",
       "      <td>13.0</td>\n",
       "    </tr>\n",
       "    <tr>\n",
       "      <th>597</th>\n",
       "      <td>00-0036945</td>\n",
       "      <td>J.Fields</td>\n",
       "      <td>2022</td>\n",
       "      <td>23.0</td>\n",
       "      <td>22.0</td>\n",
       "      <td>149.466667</td>\n",
       "      <td>21.200000</td>\n",
       "      <td>0.334649</td>\n",
       "      <td>1.133333</td>\n",
       "      <td>12.800000</td>\n",
       "      <td>19.732000</td>\n",
       "      <td>155.833333</td>\n",
       "      <td>22.333333</td>\n",
       "      <td>0.922352</td>\n",
       "      <td>0.583333</td>\n",
       "      <td>13.250000</td>\n",
       "      <td>10.566667</td>\n",
       "      <td>15.0</td>\n",
       "      <td>12.0</td>\n",
       "    </tr>\n",
       "    <tr>\n",
       "      <th>598</th>\n",
       "      <td>00-0036971</td>\n",
       "      <td>T.Lawrence</td>\n",
       "      <td>2022</td>\n",
       "      <td>22.0</td>\n",
       "      <td>21.0</td>\n",
       "      <td>241.941176</td>\n",
       "      <td>34.235294</td>\n",
       "      <td>8.125579</td>\n",
       "      <td>1.470588</td>\n",
       "      <td>22.764706</td>\n",
       "      <td>17.389412</td>\n",
       "      <td>213.352941</td>\n",
       "      <td>35.176471</td>\n",
       "      <td>-0.338662</td>\n",
       "      <td>0.705882</td>\n",
       "      <td>21.058824</td>\n",
       "      <td>11.708235</td>\n",
       "      <td>17.0</td>\n",
       "      <td>17.0</td>\n",
       "    </tr>\n",
       "    <tr>\n",
       "      <th>599</th>\n",
       "      <td>00-0036972</td>\n",
       "      <td>M.Jones</td>\n",
       "      <td>2022</td>\n",
       "      <td>23.0</td>\n",
       "      <td>22.0</td>\n",
       "      <td>214.071429</td>\n",
       "      <td>31.428571</td>\n",
       "      <td>1.438546</td>\n",
       "      <td>1.000000</td>\n",
       "      <td>20.571429</td>\n",
       "      <td>12.148571</td>\n",
       "      <td>223.588235</td>\n",
       "      <td>30.588235</td>\n",
       "      <td>5.135010</td>\n",
       "      <td>1.294118</td>\n",
       "      <td>20.705882</td>\n",
       "      <td>13.231765</td>\n",
       "      <td>14.0</td>\n",
       "      <td>17.0</td>\n",
       "    </tr>\n",
       "  </tbody>\n",
       "</table>\n",
       "<p>224 rows × 19 columns</p>\n",
       "</div>"
      ],
      "text/plain": [
       "      passer_id      passer  season   age  age_last  passing_yards_per_game  \\\n",
       "3    00-0010346   P.Manning    2013  37.0      36.0              342.312500   \n",
       "4    00-0010346   P.Manning    2014  38.0      37.0              295.437500   \n",
       "6    00-0019596     T.Brady    2013  36.0      35.0              271.437500   \n",
       "7    00-0019596     T.Brady    2014  37.0      36.0              256.812500   \n",
       "8    00-0019596     T.Brady    2015  38.0      37.0              298.125000   \n",
       "..          ...         ...     ...   ...       ...                     ...   \n",
       "595  00-0036442    J.Burrow    2022  25.0      24.0              279.687500   \n",
       "596  00-0036898     D.Mills    2022  23.0      22.0              207.866667   \n",
       "597  00-0036945    J.Fields    2022  23.0      22.0              149.466667   \n",
       "598  00-0036971  T.Lawrence    2022  22.0      21.0              241.941176   \n",
       "599  00-0036972     M.Jones    2022  23.0      22.0              214.071429   \n",
       "\n",
       "     passing_attempts_per_game  total_epa_per_game  \\\n",
       "3                    41.125000           18.124193   \n",
       "4                    37.187500            9.229780   \n",
       "6                    39.000000            8.530468   \n",
       "7                    36.375000            8.834653   \n",
       "8                    38.875000           11.165308   \n",
       "..                         ...                 ...   \n",
       "595                  37.812500            9.712385   \n",
       "596                  31.866667           -0.805794   \n",
       "597                  21.200000            0.334649   \n",
       "598                  34.235294            8.125579   \n",
       "599                  31.428571            1.438546   \n",
       "\n",
       "     passing_touchdowns_per_game  completions_per_game  \\\n",
       "3                       3.437500             28.125000   \n",
       "4                       2.437500             24.687500   \n",
       "6                       1.562500             23.750000   \n",
       "7                       2.062500             23.312500   \n",
       "8                       2.250000             25.125000   \n",
       "..                           ...                   ...   \n",
       "595                     2.187500             25.875000   \n",
       "596                     1.133333             19.466667   \n",
       "597                     1.133333             12.800000   \n",
       "598                     1.470588             22.764706   \n",
       "599                     1.000000             20.571429   \n",
       "\n",
       "     fantasy_points_per_game  passing_yards_last_per_game  \\\n",
       "3                  25.623750                   291.187500   \n",
       "4                  19.542500                   342.312500   \n",
       "6                  15.720000                   301.687500   \n",
       "7                  17.378750                   271.437500   \n",
       "8                  21.481250                   256.812500   \n",
       "..                       ...                          ...   \n",
       "595                21.918750                   288.187500   \n",
       "596                12.101333                   204.923077   \n",
       "597                19.732000                   155.833333   \n",
       "598                17.389412                   213.352941   \n",
       "599                12.148571                   223.588235   \n",
       "\n",
       "     passing_attempts_last_per_game  total_epa_last_per_game  \\\n",
       "3                         36.250000                11.813057   \n",
       "4                         41.125000                18.124193   \n",
       "6                         39.625000                13.721569   \n",
       "7                         39.000000                 8.530468   \n",
       "8                         36.375000                 8.834653   \n",
       "..                              ...                      ...   \n",
       "595                       32.375000                11.223626   \n",
       "596                       30.153846                 0.334728   \n",
       "597                       22.333333                 0.922352   \n",
       "598                       35.176471                -0.338662   \n",
       "599                       30.588235                 5.135010   \n",
       "\n",
       "     passing_touchdowns_last_per_game  completions_last_per_game  \\\n",
       "3                            2.312500                  25.000000   \n",
       "4                            3.437500                  28.125000   \n",
       "6                            2.125000                  25.062500   \n",
       "7                            1.562500                  23.750000   \n",
       "8                            2.062500                  23.312500   \n",
       "..                                ...                        ...   \n",
       "595                          2.125000                  22.875000   \n",
       "596                          1.230769                  20.230769   \n",
       "597                          0.583333                  13.250000   \n",
       "598                          0.705882                  21.058824   \n",
       "599                          1.294118                  20.705882   \n",
       "\n",
       "     fantasy_points_last_per_game  games  games_last  \n",
       "3                       19.435000   16.0        16.0  \n",
       "4                       25.623750   16.0        16.0  \n",
       "6                       21.517500   16.0        16.0  \n",
       "7                       15.720000   16.0        16.0  \n",
       "8                       17.378750   16.0        16.0  \n",
       "..                            ...    ...         ...  \n",
       "595                     19.640000   16.0        16.0  \n",
       "596                     12.073846   15.0        13.0  \n",
       "597                     10.566667   15.0        12.0  \n",
       "598                     11.708235   17.0        17.0  \n",
       "599                     13.231765   14.0        17.0  \n",
       "\n",
       "[224 rows x 19 columns]"
      ]
     },
     "execution_count": 52,
     "metadata": {},
     "output_type": "execute_result"
    }
   ],
   "source": [
    "query = \"games >= 12 and games_last >= 12\"\n",
    "filter_df(df, query, x, y, title=\"12-games\")"
   ]
  },
  {
   "cell_type": "markdown",
   "id": "eee4ba86",
   "metadata": {},
   "source": [
    "## 12 Games; 12 Game Last  |  150 passing yards per game; 150 passing yards last per game"
   ]
  },
  {
   "cell_type": "code",
   "execution_count": 53,
   "id": "0c035f0b",
   "metadata": {},
   "outputs": [
    {
     "data": {
      "application/vnd.plotly.v1+json": {
       "config": {
        "plotlyServerURL": "https://plot.ly"
       },
       "data": [
        {
         "coloraxis": "coloraxis",
         "hovertemplate": "Current Season Stats: %{x}<br>Previous Season Stats: %{y}<br>color: %{z}<extra></extra>",
         "name": "0",
         "texttemplate": "%{z}",
         "type": "heatmap",
         "x": [
          "passing_yards_per_game",
          "passing_attempts_per_game",
          "total_epa_per_game",
          "passing_touchdowns_per_game",
          "completions_per_game",
          "fantasy_points_per_game"
         ],
         "xaxis": "x",
         "y": [
          "passing_yards_last_per_game",
          "passing_attempts_last_per_game",
          "total_epa_last_per_game",
          "passing_touchdowns_last_per_game",
          "completions_last_per_game",
          "fantasy_points_last_per_game"
         ],
         "yaxis": "y",
         "z": [
          [
           0.61,
           0.61,
           0.31,
           0.37,
           0.63,
           0.15
          ],
          [
           0.48,
           0.61,
           0.13,
           0.28,
           0.58,
           0.01
          ],
          [
           0.42,
           0.28,
           0.4,
           0.32,
           0.35,
           0.29
          ],
          [
           0.41,
           0.37,
           0.28,
           0.34,
           0.4,
           0.23
          ],
          [
           0.56,
           0.61,
           0.23,
           0.32,
           0.66,
           0.07
          ],
          [
           0.23,
           0.16,
           0.28,
           0.29,
           0.2,
           0.45
          ]
         ]
        }
       ],
       "layout": {
        "coloraxis": {
         "colorscale": [
          [
           0,
           "#0d0887"
          ],
          [
           0.1111111111111111,
           "#46039f"
          ],
          [
           0.2222222222222222,
           "#7201a8"
          ],
          [
           0.3333333333333333,
           "#9c179e"
          ],
          [
           0.4444444444444444,
           "#bd3786"
          ],
          [
           0.5555555555555556,
           "#d8576b"
          ],
          [
           0.6666666666666666,
           "#ed7953"
          ],
          [
           0.7777777777777778,
           "#fb9f3a"
          ],
          [
           0.8888888888888888,
           "#fdca26"
          ],
          [
           1,
           "#f0f921"
          ]
         ]
        },
        "margin": {
         "t": 60
        },
        "template": {
         "data": {
          "bar": [
           {
            "error_x": {
             "color": "#2a3f5f"
            },
            "error_y": {
             "color": "#2a3f5f"
            },
            "marker": {
             "line": {
              "color": "#E5ECF6",
              "width": 0.5
             },
             "pattern": {
              "fillmode": "overlay",
              "size": 10,
              "solidity": 0.2
             }
            },
            "type": "bar"
           }
          ],
          "barpolar": [
           {
            "marker": {
             "line": {
              "color": "#E5ECF6",
              "width": 0.5
             },
             "pattern": {
              "fillmode": "overlay",
              "size": 10,
              "solidity": 0.2
             }
            },
            "type": "barpolar"
           }
          ],
          "carpet": [
           {
            "aaxis": {
             "endlinecolor": "#2a3f5f",
             "gridcolor": "white",
             "linecolor": "white",
             "minorgridcolor": "white",
             "startlinecolor": "#2a3f5f"
            },
            "baxis": {
             "endlinecolor": "#2a3f5f",
             "gridcolor": "white",
             "linecolor": "white",
             "minorgridcolor": "white",
             "startlinecolor": "#2a3f5f"
            },
            "type": "carpet"
           }
          ],
          "choropleth": [
           {
            "colorbar": {
             "outlinewidth": 0,
             "ticks": ""
            },
            "type": "choropleth"
           }
          ],
          "contour": [
           {
            "colorbar": {
             "outlinewidth": 0,
             "ticks": ""
            },
            "colorscale": [
             [
              0,
              "#0d0887"
             ],
             [
              0.1111111111111111,
              "#46039f"
             ],
             [
              0.2222222222222222,
              "#7201a8"
             ],
             [
              0.3333333333333333,
              "#9c179e"
             ],
             [
              0.4444444444444444,
              "#bd3786"
             ],
             [
              0.5555555555555556,
              "#d8576b"
             ],
             [
              0.6666666666666666,
              "#ed7953"
             ],
             [
              0.7777777777777778,
              "#fb9f3a"
             ],
             [
              0.8888888888888888,
              "#fdca26"
             ],
             [
              1,
              "#f0f921"
             ]
            ],
            "type": "contour"
           }
          ],
          "contourcarpet": [
           {
            "colorbar": {
             "outlinewidth": 0,
             "ticks": ""
            },
            "type": "contourcarpet"
           }
          ],
          "heatmap": [
           {
            "colorbar": {
             "outlinewidth": 0,
             "ticks": ""
            },
            "colorscale": [
             [
              0,
              "#0d0887"
             ],
             [
              0.1111111111111111,
              "#46039f"
             ],
             [
              0.2222222222222222,
              "#7201a8"
             ],
             [
              0.3333333333333333,
              "#9c179e"
             ],
             [
              0.4444444444444444,
              "#bd3786"
             ],
             [
              0.5555555555555556,
              "#d8576b"
             ],
             [
              0.6666666666666666,
              "#ed7953"
             ],
             [
              0.7777777777777778,
              "#fb9f3a"
             ],
             [
              0.8888888888888888,
              "#fdca26"
             ],
             [
              1,
              "#f0f921"
             ]
            ],
            "type": "heatmap"
           }
          ],
          "heatmapgl": [
           {
            "colorbar": {
             "outlinewidth": 0,
             "ticks": ""
            },
            "colorscale": [
             [
              0,
              "#0d0887"
             ],
             [
              0.1111111111111111,
              "#46039f"
             ],
             [
              0.2222222222222222,
              "#7201a8"
             ],
             [
              0.3333333333333333,
              "#9c179e"
             ],
             [
              0.4444444444444444,
              "#bd3786"
             ],
             [
              0.5555555555555556,
              "#d8576b"
             ],
             [
              0.6666666666666666,
              "#ed7953"
             ],
             [
              0.7777777777777778,
              "#fb9f3a"
             ],
             [
              0.8888888888888888,
              "#fdca26"
             ],
             [
              1,
              "#f0f921"
             ]
            ],
            "type": "heatmapgl"
           }
          ],
          "histogram": [
           {
            "marker": {
             "pattern": {
              "fillmode": "overlay",
              "size": 10,
              "solidity": 0.2
             }
            },
            "type": "histogram"
           }
          ],
          "histogram2d": [
           {
            "colorbar": {
             "outlinewidth": 0,
             "ticks": ""
            },
            "colorscale": [
             [
              0,
              "#0d0887"
             ],
             [
              0.1111111111111111,
              "#46039f"
             ],
             [
              0.2222222222222222,
              "#7201a8"
             ],
             [
              0.3333333333333333,
              "#9c179e"
             ],
             [
              0.4444444444444444,
              "#bd3786"
             ],
             [
              0.5555555555555556,
              "#d8576b"
             ],
             [
              0.6666666666666666,
              "#ed7953"
             ],
             [
              0.7777777777777778,
              "#fb9f3a"
             ],
             [
              0.8888888888888888,
              "#fdca26"
             ],
             [
              1,
              "#f0f921"
             ]
            ],
            "type": "histogram2d"
           }
          ],
          "histogram2dcontour": [
           {
            "colorbar": {
             "outlinewidth": 0,
             "ticks": ""
            },
            "colorscale": [
             [
              0,
              "#0d0887"
             ],
             [
              0.1111111111111111,
              "#46039f"
             ],
             [
              0.2222222222222222,
              "#7201a8"
             ],
             [
              0.3333333333333333,
              "#9c179e"
             ],
             [
              0.4444444444444444,
              "#bd3786"
             ],
             [
              0.5555555555555556,
              "#d8576b"
             ],
             [
              0.6666666666666666,
              "#ed7953"
             ],
             [
              0.7777777777777778,
              "#fb9f3a"
             ],
             [
              0.8888888888888888,
              "#fdca26"
             ],
             [
              1,
              "#f0f921"
             ]
            ],
            "type": "histogram2dcontour"
           }
          ],
          "mesh3d": [
           {
            "colorbar": {
             "outlinewidth": 0,
             "ticks": ""
            },
            "type": "mesh3d"
           }
          ],
          "parcoords": [
           {
            "line": {
             "colorbar": {
              "outlinewidth": 0,
              "ticks": ""
             }
            },
            "type": "parcoords"
           }
          ],
          "pie": [
           {
            "automargin": true,
            "type": "pie"
           }
          ],
          "scatter": [
           {
            "fillpattern": {
             "fillmode": "overlay",
             "size": 10,
             "solidity": 0.2
            },
            "type": "scatter"
           }
          ],
          "scatter3d": [
           {
            "line": {
             "colorbar": {
              "outlinewidth": 0,
              "ticks": ""
             }
            },
            "marker": {
             "colorbar": {
              "outlinewidth": 0,
              "ticks": ""
             }
            },
            "type": "scatter3d"
           }
          ],
          "scattercarpet": [
           {
            "marker": {
             "colorbar": {
              "outlinewidth": 0,
              "ticks": ""
             }
            },
            "type": "scattercarpet"
           }
          ],
          "scattergeo": [
           {
            "marker": {
             "colorbar": {
              "outlinewidth": 0,
              "ticks": ""
             }
            },
            "type": "scattergeo"
           }
          ],
          "scattergl": [
           {
            "marker": {
             "colorbar": {
              "outlinewidth": 0,
              "ticks": ""
             }
            },
            "type": "scattergl"
           }
          ],
          "scattermapbox": [
           {
            "marker": {
             "colorbar": {
              "outlinewidth": 0,
              "ticks": ""
             }
            },
            "type": "scattermapbox"
           }
          ],
          "scatterpolar": [
           {
            "marker": {
             "colorbar": {
              "outlinewidth": 0,
              "ticks": ""
             }
            },
            "type": "scatterpolar"
           }
          ],
          "scatterpolargl": [
           {
            "marker": {
             "colorbar": {
              "outlinewidth": 0,
              "ticks": ""
             }
            },
            "type": "scatterpolargl"
           }
          ],
          "scatterternary": [
           {
            "marker": {
             "colorbar": {
              "outlinewidth": 0,
              "ticks": ""
             }
            },
            "type": "scatterternary"
           }
          ],
          "surface": [
           {
            "colorbar": {
             "outlinewidth": 0,
             "ticks": ""
            },
            "colorscale": [
             [
              0,
              "#0d0887"
             ],
             [
              0.1111111111111111,
              "#46039f"
             ],
             [
              0.2222222222222222,
              "#7201a8"
             ],
             [
              0.3333333333333333,
              "#9c179e"
             ],
             [
              0.4444444444444444,
              "#bd3786"
             ],
             [
              0.5555555555555556,
              "#d8576b"
             ],
             [
              0.6666666666666666,
              "#ed7953"
             ],
             [
              0.7777777777777778,
              "#fb9f3a"
             ],
             [
              0.8888888888888888,
              "#fdca26"
             ],
             [
              1,
              "#f0f921"
             ]
            ],
            "type": "surface"
           }
          ],
          "table": [
           {
            "cells": {
             "fill": {
              "color": "#EBF0F8"
             },
             "line": {
              "color": "white"
             }
            },
            "header": {
             "fill": {
              "color": "#C8D4E3"
             },
             "line": {
              "color": "white"
             }
            },
            "type": "table"
           }
          ]
         },
         "layout": {
          "annotationdefaults": {
           "arrowcolor": "#2a3f5f",
           "arrowhead": 0,
           "arrowwidth": 1
          },
          "autotypenumbers": "strict",
          "coloraxis": {
           "colorbar": {
            "outlinewidth": 0,
            "ticks": ""
           }
          },
          "colorscale": {
           "diverging": [
            [
             0,
             "#8e0152"
            ],
            [
             0.1,
             "#c51b7d"
            ],
            [
             0.2,
             "#de77ae"
            ],
            [
             0.3,
             "#f1b6da"
            ],
            [
             0.4,
             "#fde0ef"
            ],
            [
             0.5,
             "#f7f7f7"
            ],
            [
             0.6,
             "#e6f5d0"
            ],
            [
             0.7,
             "#b8e186"
            ],
            [
             0.8,
             "#7fbc41"
            ],
            [
             0.9,
             "#4d9221"
            ],
            [
             1,
             "#276419"
            ]
           ],
           "sequential": [
            [
             0,
             "#0d0887"
            ],
            [
             0.1111111111111111,
             "#46039f"
            ],
            [
             0.2222222222222222,
             "#7201a8"
            ],
            [
             0.3333333333333333,
             "#9c179e"
            ],
            [
             0.4444444444444444,
             "#bd3786"
            ],
            [
             0.5555555555555556,
             "#d8576b"
            ],
            [
             0.6666666666666666,
             "#ed7953"
            ],
            [
             0.7777777777777778,
             "#fb9f3a"
            ],
            [
             0.8888888888888888,
             "#fdca26"
            ],
            [
             1,
             "#f0f921"
            ]
           ],
           "sequentialminus": [
            [
             0,
             "#0d0887"
            ],
            [
             0.1111111111111111,
             "#46039f"
            ],
            [
             0.2222222222222222,
             "#7201a8"
            ],
            [
             0.3333333333333333,
             "#9c179e"
            ],
            [
             0.4444444444444444,
             "#bd3786"
            ],
            [
             0.5555555555555556,
             "#d8576b"
            ],
            [
             0.6666666666666666,
             "#ed7953"
            ],
            [
             0.7777777777777778,
             "#fb9f3a"
            ],
            [
             0.8888888888888888,
             "#fdca26"
            ],
            [
             1,
             "#f0f921"
            ]
           ]
          },
          "colorway": [
           "#636efa",
           "#EF553B",
           "#00cc96",
           "#ab63fa",
           "#FFA15A",
           "#19d3f3",
           "#FF6692",
           "#B6E880",
           "#FF97FF",
           "#FECB52"
          ],
          "font": {
           "color": "#2a3f5f"
          },
          "geo": {
           "bgcolor": "white",
           "lakecolor": "white",
           "landcolor": "#E5ECF6",
           "showlakes": true,
           "showland": true,
           "subunitcolor": "white"
          },
          "hoverlabel": {
           "align": "left"
          },
          "hovermode": "closest",
          "mapbox": {
           "style": "light"
          },
          "paper_bgcolor": "white",
          "plot_bgcolor": "#E5ECF6",
          "polar": {
           "angularaxis": {
            "gridcolor": "white",
            "linecolor": "white",
            "ticks": ""
           },
           "bgcolor": "#E5ECF6",
           "radialaxis": {
            "gridcolor": "white",
            "linecolor": "white",
            "ticks": ""
           }
          },
          "scene": {
           "xaxis": {
            "backgroundcolor": "#E5ECF6",
            "gridcolor": "white",
            "gridwidth": 2,
            "linecolor": "white",
            "showbackground": true,
            "ticks": "",
            "zerolinecolor": "white"
           },
           "yaxis": {
            "backgroundcolor": "#E5ECF6",
            "gridcolor": "white",
            "gridwidth": 2,
            "linecolor": "white",
            "showbackground": true,
            "ticks": "",
            "zerolinecolor": "white"
           },
           "zaxis": {
            "backgroundcolor": "#E5ECF6",
            "gridcolor": "white",
            "gridwidth": 2,
            "linecolor": "white",
            "showbackground": true,
            "ticks": "",
            "zerolinecolor": "white"
           }
          },
          "shapedefaults": {
           "line": {
            "color": "#2a3f5f"
           }
          },
          "ternary": {
           "aaxis": {
            "gridcolor": "white",
            "linecolor": "white",
            "ticks": ""
           },
           "baxis": {
            "gridcolor": "white",
            "linecolor": "white",
            "ticks": ""
           },
           "bgcolor": "#E5ECF6",
           "caxis": {
            "gridcolor": "white",
            "linecolor": "white",
            "ticks": ""
           }
          },
          "title": {
           "x": 0.05
          },
          "xaxis": {
           "automargin": true,
           "gridcolor": "white",
           "linecolor": "white",
           "ticks": "",
           "title": {
            "standoff": 15
           },
           "zerolinecolor": "white",
           "zerolinewidth": 2
          },
          "yaxis": {
           "automargin": true,
           "gridcolor": "white",
           "linecolor": "white",
           "ticks": "",
           "title": {
            "standoff": 15
           },
           "zerolinecolor": "white",
           "zerolinewidth": 2
          }
         }
        },
        "xaxis": {
         "anchor": "y",
         "constrain": "domain",
         "domain": [
          0,
          1
         ],
         "scaleanchor": "y",
         "title": {
          "text": "Current Season Stats"
         }
        },
        "yaxis": {
         "anchor": "x",
         "autorange": "reversed",
         "constrain": "domain",
         "domain": [
          0,
          1
         ],
         "title": {
          "text": "Previous Season Stats"
         }
        }
       }
      },
      "text/html": [
       "<div>                            <div id=\"f1c6cfc3-83c3-4d05-9200-74a1521d7e41\" class=\"plotly-graph-div\" style=\"height:525px; width:100%;\"></div>            <script type=\"text/javascript\">                require([\"plotly\"], function(Plotly) {                    window.PLOTLYENV=window.PLOTLYENV || {};                                    if (document.getElementById(\"f1c6cfc3-83c3-4d05-9200-74a1521d7e41\")) {                    Plotly.newPlot(                        \"f1c6cfc3-83c3-4d05-9200-74a1521d7e41\",                        [{\"coloraxis\":\"coloraxis\",\"name\":\"0\",\"texttemplate\":\"%{z}\",\"x\":[\"passing_yards_per_game\",\"passing_attempts_per_game\",\"total_epa_per_game\",\"passing_touchdowns_per_game\",\"completions_per_game\",\"fantasy_points_per_game\"],\"y\":[\"passing_yards_last_per_game\",\"passing_attempts_last_per_game\",\"total_epa_last_per_game\",\"passing_touchdowns_last_per_game\",\"completions_last_per_game\",\"fantasy_points_last_per_game\"],\"z\":[[0.61,0.61,0.31,0.37,0.63,0.15],[0.48,0.61,0.13,0.28,0.58,0.01],[0.42,0.28,0.4,0.32,0.35,0.29],[0.41,0.37,0.28,0.34,0.4,0.23],[0.56,0.61,0.23,0.32,0.66,0.07],[0.23,0.16,0.28,0.29,0.2,0.45]],\"type\":\"heatmap\",\"xaxis\":\"x\",\"yaxis\":\"y\",\"hovertemplate\":\"Current Season Stats: %{x}\\u003cbr\\u003ePrevious Season Stats: %{y}\\u003cbr\\u003ecolor: %{z}\\u003cextra\\u003e\\u003c\\u002fextra\\u003e\"}],                        {\"template\":{\"data\":{\"histogram2dcontour\":[{\"type\":\"histogram2dcontour\",\"colorbar\":{\"outlinewidth\":0,\"ticks\":\"\"},\"colorscale\":[[0.0,\"#0d0887\"],[0.1111111111111111,\"#46039f\"],[0.2222222222222222,\"#7201a8\"],[0.3333333333333333,\"#9c179e\"],[0.4444444444444444,\"#bd3786\"],[0.5555555555555556,\"#d8576b\"],[0.6666666666666666,\"#ed7953\"],[0.7777777777777778,\"#fb9f3a\"],[0.8888888888888888,\"#fdca26\"],[1.0,\"#f0f921\"]]}],\"choropleth\":[{\"type\":\"choropleth\",\"colorbar\":{\"outlinewidth\":0,\"ticks\":\"\"}}],\"histogram2d\":[{\"type\":\"histogram2d\",\"colorbar\":{\"outlinewidth\":0,\"ticks\":\"\"},\"colorscale\":[[0.0,\"#0d0887\"],[0.1111111111111111,\"#46039f\"],[0.2222222222222222,\"#7201a8\"],[0.3333333333333333,\"#9c179e\"],[0.4444444444444444,\"#bd3786\"],[0.5555555555555556,\"#d8576b\"],[0.6666666666666666,\"#ed7953\"],[0.7777777777777778,\"#fb9f3a\"],[0.8888888888888888,\"#fdca26\"],[1.0,\"#f0f921\"]]}],\"heatmap\":[{\"type\":\"heatmap\",\"colorbar\":{\"outlinewidth\":0,\"ticks\":\"\"},\"colorscale\":[[0.0,\"#0d0887\"],[0.1111111111111111,\"#46039f\"],[0.2222222222222222,\"#7201a8\"],[0.3333333333333333,\"#9c179e\"],[0.4444444444444444,\"#bd3786\"],[0.5555555555555556,\"#d8576b\"],[0.6666666666666666,\"#ed7953\"],[0.7777777777777778,\"#fb9f3a\"],[0.8888888888888888,\"#fdca26\"],[1.0,\"#f0f921\"]]}],\"heatmapgl\":[{\"type\":\"heatmapgl\",\"colorbar\":{\"outlinewidth\":0,\"ticks\":\"\"},\"colorscale\":[[0.0,\"#0d0887\"],[0.1111111111111111,\"#46039f\"],[0.2222222222222222,\"#7201a8\"],[0.3333333333333333,\"#9c179e\"],[0.4444444444444444,\"#bd3786\"],[0.5555555555555556,\"#d8576b\"],[0.6666666666666666,\"#ed7953\"],[0.7777777777777778,\"#fb9f3a\"],[0.8888888888888888,\"#fdca26\"],[1.0,\"#f0f921\"]]}],\"contourcarpet\":[{\"type\":\"contourcarpet\",\"colorbar\":{\"outlinewidth\":0,\"ticks\":\"\"}}],\"contour\":[{\"type\":\"contour\",\"colorbar\":{\"outlinewidth\":0,\"ticks\":\"\"},\"colorscale\":[[0.0,\"#0d0887\"],[0.1111111111111111,\"#46039f\"],[0.2222222222222222,\"#7201a8\"],[0.3333333333333333,\"#9c179e\"],[0.4444444444444444,\"#bd3786\"],[0.5555555555555556,\"#d8576b\"],[0.6666666666666666,\"#ed7953\"],[0.7777777777777778,\"#fb9f3a\"],[0.8888888888888888,\"#fdca26\"],[1.0,\"#f0f921\"]]}],\"surface\":[{\"type\":\"surface\",\"colorbar\":{\"outlinewidth\":0,\"ticks\":\"\"},\"colorscale\":[[0.0,\"#0d0887\"],[0.1111111111111111,\"#46039f\"],[0.2222222222222222,\"#7201a8\"],[0.3333333333333333,\"#9c179e\"],[0.4444444444444444,\"#bd3786\"],[0.5555555555555556,\"#d8576b\"],[0.6666666666666666,\"#ed7953\"],[0.7777777777777778,\"#fb9f3a\"],[0.8888888888888888,\"#fdca26\"],[1.0,\"#f0f921\"]]}],\"mesh3d\":[{\"type\":\"mesh3d\",\"colorbar\":{\"outlinewidth\":0,\"ticks\":\"\"}}],\"scatter\":[{\"fillpattern\":{\"fillmode\":\"overlay\",\"size\":10,\"solidity\":0.2},\"type\":\"scatter\"}],\"parcoords\":[{\"type\":\"parcoords\",\"line\":{\"colorbar\":{\"outlinewidth\":0,\"ticks\":\"\"}}}],\"scatterpolargl\":[{\"type\":\"scatterpolargl\",\"marker\":{\"colorbar\":{\"outlinewidth\":0,\"ticks\":\"\"}}}],\"bar\":[{\"error_x\":{\"color\":\"#2a3f5f\"},\"error_y\":{\"color\":\"#2a3f5f\"},\"marker\":{\"line\":{\"color\":\"#E5ECF6\",\"width\":0.5},\"pattern\":{\"fillmode\":\"overlay\",\"size\":10,\"solidity\":0.2}},\"type\":\"bar\"}],\"scattergeo\":[{\"type\":\"scattergeo\",\"marker\":{\"colorbar\":{\"outlinewidth\":0,\"ticks\":\"\"}}}],\"scatterpolar\":[{\"type\":\"scatterpolar\",\"marker\":{\"colorbar\":{\"outlinewidth\":0,\"ticks\":\"\"}}}],\"histogram\":[{\"marker\":{\"pattern\":{\"fillmode\":\"overlay\",\"size\":10,\"solidity\":0.2}},\"type\":\"histogram\"}],\"scattergl\":[{\"type\":\"scattergl\",\"marker\":{\"colorbar\":{\"outlinewidth\":0,\"ticks\":\"\"}}}],\"scatter3d\":[{\"type\":\"scatter3d\",\"line\":{\"colorbar\":{\"outlinewidth\":0,\"ticks\":\"\"}},\"marker\":{\"colorbar\":{\"outlinewidth\":0,\"ticks\":\"\"}}}],\"scattermapbox\":[{\"type\":\"scattermapbox\",\"marker\":{\"colorbar\":{\"outlinewidth\":0,\"ticks\":\"\"}}}],\"scatterternary\":[{\"type\":\"scatterternary\",\"marker\":{\"colorbar\":{\"outlinewidth\":0,\"ticks\":\"\"}}}],\"scattercarpet\":[{\"type\":\"scattercarpet\",\"marker\":{\"colorbar\":{\"outlinewidth\":0,\"ticks\":\"\"}}}],\"carpet\":[{\"aaxis\":{\"endlinecolor\":\"#2a3f5f\",\"gridcolor\":\"white\",\"linecolor\":\"white\",\"minorgridcolor\":\"white\",\"startlinecolor\":\"#2a3f5f\"},\"baxis\":{\"endlinecolor\":\"#2a3f5f\",\"gridcolor\":\"white\",\"linecolor\":\"white\",\"minorgridcolor\":\"white\",\"startlinecolor\":\"#2a3f5f\"},\"type\":\"carpet\"}],\"table\":[{\"cells\":{\"fill\":{\"color\":\"#EBF0F8\"},\"line\":{\"color\":\"white\"}},\"header\":{\"fill\":{\"color\":\"#C8D4E3\"},\"line\":{\"color\":\"white\"}},\"type\":\"table\"}],\"barpolar\":[{\"marker\":{\"line\":{\"color\":\"#E5ECF6\",\"width\":0.5},\"pattern\":{\"fillmode\":\"overlay\",\"size\":10,\"solidity\":0.2}},\"type\":\"barpolar\"}],\"pie\":[{\"automargin\":true,\"type\":\"pie\"}]},\"layout\":{\"autotypenumbers\":\"strict\",\"colorway\":[\"#636efa\",\"#EF553B\",\"#00cc96\",\"#ab63fa\",\"#FFA15A\",\"#19d3f3\",\"#FF6692\",\"#B6E880\",\"#FF97FF\",\"#FECB52\"],\"font\":{\"color\":\"#2a3f5f\"},\"hovermode\":\"closest\",\"hoverlabel\":{\"align\":\"left\"},\"paper_bgcolor\":\"white\",\"plot_bgcolor\":\"#E5ECF6\",\"polar\":{\"bgcolor\":\"#E5ECF6\",\"angularaxis\":{\"gridcolor\":\"white\",\"linecolor\":\"white\",\"ticks\":\"\"},\"radialaxis\":{\"gridcolor\":\"white\",\"linecolor\":\"white\",\"ticks\":\"\"}},\"ternary\":{\"bgcolor\":\"#E5ECF6\",\"aaxis\":{\"gridcolor\":\"white\",\"linecolor\":\"white\",\"ticks\":\"\"},\"baxis\":{\"gridcolor\":\"white\",\"linecolor\":\"white\",\"ticks\":\"\"},\"caxis\":{\"gridcolor\":\"white\",\"linecolor\":\"white\",\"ticks\":\"\"}},\"coloraxis\":{\"colorbar\":{\"outlinewidth\":0,\"ticks\":\"\"}},\"colorscale\":{\"sequential\":[[0.0,\"#0d0887\"],[0.1111111111111111,\"#46039f\"],[0.2222222222222222,\"#7201a8\"],[0.3333333333333333,\"#9c179e\"],[0.4444444444444444,\"#bd3786\"],[0.5555555555555556,\"#d8576b\"],[0.6666666666666666,\"#ed7953\"],[0.7777777777777778,\"#fb9f3a\"],[0.8888888888888888,\"#fdca26\"],[1.0,\"#f0f921\"]],\"sequentialminus\":[[0.0,\"#0d0887\"],[0.1111111111111111,\"#46039f\"],[0.2222222222222222,\"#7201a8\"],[0.3333333333333333,\"#9c179e\"],[0.4444444444444444,\"#bd3786\"],[0.5555555555555556,\"#d8576b\"],[0.6666666666666666,\"#ed7953\"],[0.7777777777777778,\"#fb9f3a\"],[0.8888888888888888,\"#fdca26\"],[1.0,\"#f0f921\"]],\"diverging\":[[0,\"#8e0152\"],[0.1,\"#c51b7d\"],[0.2,\"#de77ae\"],[0.3,\"#f1b6da\"],[0.4,\"#fde0ef\"],[0.5,\"#f7f7f7\"],[0.6,\"#e6f5d0\"],[0.7,\"#b8e186\"],[0.8,\"#7fbc41\"],[0.9,\"#4d9221\"],[1,\"#276419\"]]},\"xaxis\":{\"gridcolor\":\"white\",\"linecolor\":\"white\",\"ticks\":\"\",\"title\":{\"standoff\":15},\"zerolinecolor\":\"white\",\"automargin\":true,\"zerolinewidth\":2},\"yaxis\":{\"gridcolor\":\"white\",\"linecolor\":\"white\",\"ticks\":\"\",\"title\":{\"standoff\":15},\"zerolinecolor\":\"white\",\"automargin\":true,\"zerolinewidth\":2},\"scene\":{\"xaxis\":{\"backgroundcolor\":\"#E5ECF6\",\"gridcolor\":\"white\",\"linecolor\":\"white\",\"showbackground\":true,\"ticks\":\"\",\"zerolinecolor\":\"white\",\"gridwidth\":2},\"yaxis\":{\"backgroundcolor\":\"#E5ECF6\",\"gridcolor\":\"white\",\"linecolor\":\"white\",\"showbackground\":true,\"ticks\":\"\",\"zerolinecolor\":\"white\",\"gridwidth\":2},\"zaxis\":{\"backgroundcolor\":\"#E5ECF6\",\"gridcolor\":\"white\",\"linecolor\":\"white\",\"showbackground\":true,\"ticks\":\"\",\"zerolinecolor\":\"white\",\"gridwidth\":2}},\"shapedefaults\":{\"line\":{\"color\":\"#2a3f5f\"}},\"annotationdefaults\":{\"arrowcolor\":\"#2a3f5f\",\"arrowhead\":0,\"arrowwidth\":1},\"geo\":{\"bgcolor\":\"white\",\"landcolor\":\"#E5ECF6\",\"subunitcolor\":\"white\",\"showland\":true,\"showlakes\":true,\"lakecolor\":\"white\"},\"title\":{\"x\":0.05},\"mapbox\":{\"style\":\"light\"}}},\"xaxis\":{\"anchor\":\"y\",\"domain\":[0.0,1.0],\"scaleanchor\":\"y\",\"constrain\":\"domain\",\"title\":{\"text\":\"Current Season Stats\"}},\"yaxis\":{\"anchor\":\"x\",\"domain\":[0.0,1.0],\"autorange\":\"reversed\",\"constrain\":\"domain\",\"title\":{\"text\":\"Previous Season Stats\"}},\"coloraxis\":{\"colorscale\":[[0.0,\"#0d0887\"],[0.1111111111111111,\"#46039f\"],[0.2222222222222222,\"#7201a8\"],[0.3333333333333333,\"#9c179e\"],[0.4444444444444444,\"#bd3786\"],[0.5555555555555556,\"#d8576b\"],[0.6666666666666666,\"#ed7953\"],[0.7777777777777778,\"#fb9f3a\"],[0.8888888888888888,\"#fdca26\"],[1.0,\"#f0f921\"]]},\"margin\":{\"t\":60}},                        {\"responsive\": true}                    ).then(function(){\n",
       "                            \n",
       "var gd = document.getElementById('f1c6cfc3-83c3-4d05-9200-74a1521d7e41');\n",
       "var x = new MutationObserver(function (mutations, observer) {{\n",
       "        var display = window.getComputedStyle(gd).display;\n",
       "        if (!display || display === 'none') {{\n",
       "            console.log([gd, 'removed!']);\n",
       "            Plotly.purge(gd);\n",
       "            observer.disconnect();\n",
       "        }}\n",
       "}});\n",
       "\n",
       "// Listen for the removal of the full notebook cells\n",
       "var notebookContainer = gd.closest('#notebook-container');\n",
       "if (notebookContainer) {{\n",
       "    x.observe(notebookContainer, {childList: true});\n",
       "}}\n",
       "\n",
       "// Listen for the clearing of the current output cell\n",
       "var outputEl = gd.closest('.output');\n",
       "if (outputEl) {{\n",
       "    x.observe(outputEl, {childList: true});\n",
       "}}\n",
       "\n",
       "                        })                };                });            </script>        </div>"
      ]
     },
     "metadata": {},
     "output_type": "display_data"
    },
    {
     "name": "stdout",
     "output_type": "stream",
     "text": [
      "\n",
      "Save path: starters-scatter-completions_per_game\n",
      "\n"
     ]
    },
    {
     "data": {
      "application/vnd.plotly.v1+json": {
       "config": {
        "plotlyServerURL": "https://plot.ly"
       },
       "data": [
        {
         "customdata": [
          [
           "P.Manning",
           2013,
           37
          ],
          [
           "P.Manning",
           2014,
           38
          ],
          [
           "T.Brady",
           2013,
           36
          ],
          [
           "T.Brady",
           2014,
           37
          ],
          [
           "T.Brady",
           2015,
           38
          ],
          [
           "T.Brady",
           2016,
           39
          ],
          [
           "T.Brady",
           2017,
           40
          ],
          [
           "T.Brady",
           2018,
           41
          ],
          [
           "T.Brady",
           2019,
           42
          ],
          [
           "T.Brady",
           2020,
           43
          ],
          [
           "T.Brady",
           2021,
           44
          ],
          [
           "T.Brady",
           2022,
           45
          ],
          [
           "D.Brees",
           2013,
           34
          ],
          [
           "D.Brees",
           2014,
           35
          ],
          [
           "D.Brees",
           2015,
           36
          ],
          [
           "D.Brees",
           2016,
           37
          ],
          [
           "D.Brees",
           2017,
           38
          ],
          [
           "D.Brees",
           2018,
           39
          ],
          [
           "C.Palmer",
           2013,
           33
          ],
          [
           "C.Palmer",
           2016,
           36
          ],
          [
           "T.Romo",
           2013,
           33
          ],
          [
           "T.Romo",
           2014,
           34
          ],
          [
           "E.Manning",
           2013,
           32
          ],
          [
           "E.Manning",
           2014,
           33
          ],
          [
           "E.Manning",
           2015,
           34
          ],
          [
           "E.Manning",
           2016,
           35
          ],
          [
           "E.Manning",
           2017,
           36
          ],
          [
           "E.Manning",
           2018,
           37
          ],
          [
           "B.Roethlisberger",
           2013,
           31
          ],
          [
           "B.Roethlisberger",
           2014,
           32
          ],
          [
           "B.Roethlisberger",
           2015,
           33
          ],
          [
           "B.Roethlisberger",
           2016,
           34
          ],
          [
           "B.Roethlisberger",
           2017,
           35
          ],
          [
           "B.Roethlisberger",
           2018,
           36
          ],
          [
           "B.Roethlisberger",
           2021,
           39
          ],
          [
           "P.Rivers",
           2013,
           31
          ],
          [
           "P.Rivers",
           2014,
           32
          ],
          [
           "P.Rivers",
           2015,
           33
          ],
          [
           "P.Rivers",
           2016,
           34
          ],
          [
           "P.Rivers",
           2017,
           35
          ],
          [
           "P.Rivers",
           2018,
           36
          ],
          [
           "P.Rivers",
           2019,
           37
          ],
          [
           "P.Rivers",
           2020,
           38
          ],
          [
           "A.Smith",
           2014,
           30
          ],
          [
           "A.Smith",
           2015,
           31
          ],
          [
           "A.Smith",
           2016,
           32
          ],
          [
           "A.Smith",
           2017,
           33
          ],
          [
           "A.Rodgers",
           2015,
           31
          ],
          [
           "A.Rodgers",
           2016,
           32
          ],
          [
           "A.Rodgers",
           2019,
           35
          ],
          [
           "A.Rodgers",
           2020,
           36
          ],
          [
           "A.Rodgers",
           2021,
           37
          ],
          [
           "A.Rodgers",
           2022,
           38
          ],
          [
           "R.Fitzpatrick",
           2015,
           32
          ],
          [
           "R.Fitzpatrick",
           2016,
           33
          ],
          [
           "J.Cutler",
           2015,
           32
          ],
          [
           "M.Ryan",
           2013,
           28
          ],
          [
           "M.Ryan",
           2014,
           29
          ],
          [
           "M.Ryan",
           2015,
           30
          ],
          [
           "M.Ryan",
           2016,
           31
          ],
          [
           "M.Ryan",
           2017,
           32
          ],
          [
           "M.Ryan",
           2018,
           33
          ],
          [
           "M.Ryan",
           2019,
           34
          ],
          [
           "M.Ryan",
           2020,
           35
          ],
          [
           "M.Ryan",
           2021,
           36
          ],
          [
           "M.Ryan",
           2022,
           37
          ],
          [
           "J.Flacco",
           2013,
           28
          ],
          [
           "J.Flacco",
           2014,
           29
          ],
          [
           "J.Flacco",
           2017,
           32
          ],
          [
           "M.Stafford",
           2013,
           25
          ],
          [
           "M.Stafford",
           2014,
           26
          ],
          [
           "M.Stafford",
           2015,
           27
          ],
          [
           "M.Stafford",
           2016,
           28
          ],
          [
           "M.Stafford",
           2017,
           29
          ],
          [
           "M.Stafford",
           2018,
           30
          ],
          [
           "M.Stafford",
           2021,
           33
          ],
          [
           "S.Bradford",
           2016,
           28
          ],
          [
           "C.Newton",
           2013,
           24
          ],
          [
           "C.Newton",
           2014,
           25
          ],
          [
           "C.Newton",
           2015,
           26
          ],
          [
           "C.Newton",
           2016,
           27
          ],
          [
           "C.Newton",
           2017,
           28
          ],
          [
           "C.Newton",
           2018,
           29
          ],
          [
           "A.Dalton",
           2013,
           25
          ],
          [
           "A.Dalton",
           2014,
           26
          ],
          [
           "A.Dalton",
           2015,
           27
          ],
          [
           "A.Dalton",
           2016,
           28
          ],
          [
           "A.Dalton",
           2017,
           29
          ],
          [
           "C.Kaepernick",
           2014,
           26
          ],
          [
           "T.Taylor",
           2016,
           27
          ],
          [
           "T.Taylor",
           2017,
           28
          ],
          [
           "C.Keenum",
           2018,
           30
          ],
          [
           "R.Wilson",
           2013,
           24
          ],
          [
           "R.Wilson",
           2014,
           25
          ],
          [
           "R.Wilson",
           2015,
           26
          ],
          [
           "R.Wilson",
           2016,
           27
          ],
          [
           "R.Wilson",
           2017,
           28
          ],
          [
           "R.Wilson",
           2018,
           29
          ],
          [
           "R.Wilson",
           2019,
           30
          ],
          [
           "R.Wilson",
           2020,
           31
          ],
          [
           "R.Wilson",
           2021,
           32
          ],
          [
           "R.Wilson",
           2022,
           33
          ],
          [
           "K.Cousins",
           2016,
           28
          ],
          [
           "K.Cousins",
           2017,
           29
          ],
          [
           "K.Cousins",
           2018,
           30
          ],
          [
           "K.Cousins",
           2019,
           31
          ],
          [
           "K.Cousins",
           2020,
           32
          ],
          [
           "K.Cousins",
           2021,
           33
          ],
          [
           "K.Cousins",
           2022,
           34
          ],
          [
           "R.Griffin III",
           2013,
           23
          ],
          [
           "A.Luck",
           2013,
           23
          ],
          [
           "A.Luck",
           2014,
           24
          ],
          [
           "R.Tannehill",
           2013,
           25
          ],
          [
           "R.Tannehill",
           2014,
           26
          ],
          [
           "R.Tannehill",
           2015,
           27
          ],
          [
           "R.Tannehill",
           2016,
           28
          ],
          [
           "R.Tannehill",
           2020,
           32
          ],
          [
           "R.Tannehill",
           2021,
           33
          ],
          [
           "R.Tannehill",
           2022,
           34
          ],
          [
           "G.Smith",
           2014,
           23
          ],
          [
           "T.Bridgewater",
           2015,
           22
          ],
          [
           "T.Bridgewater",
           2021,
           28
          ],
          [
           "D.Carr",
           2015,
           24
          ],
          [
           "D.Carr",
           2016,
           25
          ],
          [
           "D.Carr",
           2017,
           26
          ],
          [
           "D.Carr",
           2018,
           27
          ],
          [
           "D.Carr",
           2019,
           28
          ],
          [
           "D.Carr",
           2020,
           29
          ],
          [
           "D.Carr",
           2021,
           30
          ],
          [
           "D.Carr",
           2022,
           31
          ],
          [
           "B.Bortles",
           2015,
           23
          ],
          [
           "B.Bortles",
           2016,
           24
          ],
          [
           "B.Bortles",
           2017,
           25
          ],
          [
           "B.Bortles",
           2018,
           26
          ],
          [
           "J.Winston",
           2016,
           22
          ],
          [
           "J.Winston",
           2017,
           23
          ],
          [
           "M.Mariota",
           2016,
           22
          ],
          [
           "M.Mariota",
           2017,
           23
          ],
          [
           "M.Mariota",
           2018,
           24
          ],
          [
           "C.Wentz",
           2017,
           24
          ],
          [
           "C.Wentz",
           2020,
           27
          ],
          [
           "C.Wentz",
           2021,
           28
          ],
          [
           "D.Prescott",
           2017,
           24
          ],
          [
           "D.Prescott",
           2018,
           25
          ],
          [
           "D.Prescott",
           2019,
           26
          ],
          [
           "D.Prescott",
           2022,
           29
          ],
          [
           "J.Goff",
           2018,
           23
          ],
          [
           "J.Goff",
           2019,
           24
          ],
          [
           "J.Goff",
           2020,
           25
          ],
          [
           "J.Goff",
           2021,
           26
          ],
          [
           "J.Goff",
           2022,
           27
          ],
          [
           "D.Watson",
           2019,
           23
          ],
          [
           "D.Watson",
           2020,
           24
          ],
          [
           "M.Trubisky",
           2018,
           24
          ],
          [
           "M.Trubisky",
           2019,
           25
          ],
          [
           "P.Mahomes",
           2019,
           23
          ],
          [
           "P.Mahomes",
           2020,
           24
          ],
          [
           "P.Mahomes",
           2021,
           25
          ],
          [
           "P.Mahomes",
           2022,
           26
          ],
          [
           "L.Jackson",
           2020,
           23
          ],
          [
           "L.Jackson",
           2021,
           24
          ],
          [
           "L.Jackson",
           2022,
           25
          ],
          [
           "B.Mayfield",
           2019,
           24
          ],
          [
           "B.Mayfield",
           2020,
           25
          ],
          [
           "B.Mayfield",
           2021,
           26
          ],
          [
           "B.Mayfield",
           2022,
           27
          ],
          [
           "J.Allen",
           2019,
           23
          ],
          [
           "J.Allen",
           2020,
           24
          ],
          [
           "J.Allen",
           2021,
           25
          ],
          [
           "J.Allen",
           2022,
           26
          ],
          [
           "S.Darnold",
           2019,
           22
          ],
          [
           "S.Darnold",
           2020,
           23
          ],
          [
           "S.Darnold",
           2021,
           24
          ],
          [
           "K.Murray",
           2020,
           23
          ],
          [
           "K.Murray",
           2021,
           24
          ],
          [
           "D.Jones",
           2020,
           23
          ],
          [
           "T.Tagovailoa",
           2022,
           24
          ],
          [
           "J.Herbert",
           2021,
           23
          ],
          [
           "J.Herbert",
           2022,
           24
          ],
          [
           "J.Hurts",
           2022,
           24
          ],
          [
           "J.Burrow",
           2022,
           25
          ],
          [
           "D.Mills",
           2022,
           23
          ],
          [
           "T.Lawrence",
           2022,
           22
          ],
          [
           "M.Jones",
           2022,
           23
          ]
         ],
         "hovertemplate": "completions_last_per_game=%{x}<br>completions_per_game=%{y}<br>passer=%{customdata[0]}<br>season=%{customdata[1]}<br>age=%{customdata[2]}<extra></extra>",
         "legendgroup": "",
         "marker": {
          "color": "#636efa",
          "symbol": "circle"
         },
         "mode": "markers",
         "name": "",
         "orientation": "v",
         "showlegend": false,
         "type": "scatter",
         "x": [
          25,
          28.125,
          25.0625,
          23.75,
          23.3125,
          25.125,
          24.25,
          24.0625,
          23.4375,
          23.3125,
          25.0625,
          28.529411764705884,
          26.375,
          27.8125,
          28.5,
          28.533333333333335,
          29.375,
          24.125,
          23,
          21.375,
          26.5625,
          22.8,
          20.0625,
          19.8125,
          23.6875,
          24.1875,
          23.5625,
          23.466666666666665,
          21.846153846153847,
          23.4375,
          25.5,
          26.583333333333332,
          23.428571428571427,
          24,
          26.6,
          21.125,
          23.625,
          23.6875,
          27.25,
          21.8125,
          22.5,
          21.6875,
          24.375,
          20.533333333333335,
          20.2,
          19.1875,
          21.866666666666667,
          21.3125,
          21.6875,
          23.25,
          22.0625,
          23.25,
          22.875,
          16.416666666666668,
          20.9375,
          24.666666666666668,
          26.3125,
          27.4375,
          25.9375,
          25.4375,
          23.3125,
          21.375,
          26.375,
          27.2,
          25.4375,
          22.058823529411764,
          19.8125,
          22.5625,
          27.25,
          27.1875,
          23.1875,
          22.6875,
          24.875,
          24.25,
          23.1875,
          21.1875,
          24.714285714285715,
          17.5,
          18.25,
          18.714285714285715,
          18.5,
          18,
          18.1875,
          20.5625,
          22.6875,
          19.3125,
          19.615384615384617,
          22.75,
          15.1875,
          17.214285714285715,
          17.933333333333334,
          21.666666666666668,
          15.75,
          16.0625,
          17.8125,
          20.5625,
          22.0625,
          21.1875,
          17.5,
          21.3125,
          24,
          18.5,
          23.6875,
          25.375,
          21.6875,
          26.5625,
          20.466666666666665,
          21.8125,
          23.25,
          17.2,
          21.1875,
          21.4375,
          17.625,
          22.1875,
          24.5,
          22.6875,
          16.75,
          19.6875,
          21,
          15.4375,
          19.923076923076923,
          22.666666666666668,
          21.75,
          21.875,
          23.8,
          21.533333333333335,
          23.8125,
          22.5625,
          21.75,
          25.176470588235293,
          20,
          22.1875,
          23,
          19.6875,
          19.5,
          21.5625,
          19.166666666666668,
          18.4,
          18.733333333333334,
          23.6875,
          24.25,
          20.916666666666668,
          19.4375,
          19.25,
          22.25,
          25.625,
          19.733333333333334,
          22.75,
          24.625,
          24.666666666666668,
          23.714285714285715,
          21.5625,
          22.2,
          16.333333333333332,
          20.642857142857142,
          23.9375,
          22.785714285714285,
          26,
          25.647058823529413,
          17.666666666666668,
          16.133333333333333,
          20.5,
          22.142857142857142,
          19.8125,
          19.0625,
          18.071428571428573,
          14.083333333333334,
          16.9375,
          24.75,
          24.058823529411764,
          18.384615384615383,
          21,
          18.083333333333332,
          21.8125,
          23.4375,
          21.846153846153847,
          20.23076923076923,
          26.4,
          26.058823529411764,
          17.666666666666668,
          22.875,
          20.23076923076923,
          21.058823529411764,
          20.705882352941178
         ],
         "xaxis": "x",
         "y": [
          28.125,
          24.6875,
          23.75,
          23.3125,
          25.125,
          24.25,
          24.0625,
          23.4375,
          23.3125,
          25.0625,
          28.529411764705884,
          28.823529411764707,
          27.8125,
          28.5,
          28.533333333333335,
          29.375,
          24.125,
          24.266666666666666,
          22.625,
          24.266666666666666,
          22.8,
          20.266666666666666,
          19.8125,
          23.6875,
          24.1875,
          23.5625,
          23.466666666666665,
          23.75,
          23.4375,
          25.5,
          26.583333333333332,
          23.428571428571427,
          24,
          28.25,
          24.375,
          23.625,
          23.6875,
          27.25,
          21.8125,
          22.5,
          21.6875,
          24.375,
          23.0625,
          20.2,
          19.1875,
          21.866666666666667,
          22.733333333333334,
          21.6875,
          25.0625,
          22.0625,
          23.25,
          22.875,
          20.58823529411765,
          20.9375,
          16.285714285714285,
          20.733333333333334,
          27.4375,
          25.9375,
          25.4375,
          23.3125,
          21.375,
          26.375,
          27.2,
          25.4375,
          22.058823529411764,
          25.75,
          22.5625,
          21.5,
          22,
          23.1875,
          22.6875,
          24.875,
          24.25,
          23.1875,
          22.9375,
          23.764705882352942,
          26.333333333333332,
          18.25,
          18.714285714285715,
          18.5,
          18,
          18.1875,
          22.857142857142858,
          22.6875,
          19.3125,
          19.615384615384617,
          22.75,
          18.5625,
          18.0625,
          17.933333333333334,
          17.533333333333335,
          22.8125,
          16.0625,
          17.8125,
          20.5625,
          22.0625,
          21.1875,
          17.5,
          21.3125,
          24,
          18.5,
          19.466666666666665,
          25.375,
          21.6875,
          26.5625,
          20.466666666666665,
          21.8125,
          23.25,
          24.88235294117647,
          21.076923076923077,
          21.4375,
          23.75,
          22.1875,
          24.5,
          22.6875,
          20.076923076923077,
          19.6875,
          21,
          17.666666666666668,
          15.642857142857142,
          18.25,
          20.357142857142858,
          21.875,
          23.8,
          21.533333333333335,
          23.8125,
          22.5625,
          21.75,
          25.176470588235293,
          20.333333333333332,
          22.1875,
          23,
          19.6875,
          18.692307692307693,
          21.5625,
          21.692307692307693,
          18.4,
          18.733333333333334,
          16.285714285714285,
          20.384615384615383,
          20.916666666666668,
          18.941176470588236,
          19.25,
          22.25,
          24.25,
          21.75,
          22.75,
          24.625,
          24.666666666666668,
          23.714285714285715,
          22.470588235294116,
          22.2,
          23.875,
          20.642857142857142,
          21.733333333333334,
          22.785714285714285,
          26,
          25.647058823529413,
          25.58823529411765,
          16.133333333333333,
          20.5,
          16.916666666666668,
          19.8125,
          19.0625,
          18.071428571428573,
          16.75,
          16.9375,
          24.75,
          24.058823529411764,
          22.4375,
          21,
          18.083333333333332,
          20.166666666666668,
          23.4375,
          23.785714285714285,
          20,
          19.923076923076923,
          26.058823529411764,
          28.058823529411764,
          20.4,
          25.875,
          19.466666666666665,
          22.764705882352942,
          20.571428571428573
         ],
         "yaxis": "y"
        }
       ],
       "layout": {
        "legend": {
         "tracegroupgap": 0
        },
        "margin": {
         "t": 60
        },
        "template": {
         "data": {
          "bar": [
           {
            "error_x": {
             "color": "#2a3f5f"
            },
            "error_y": {
             "color": "#2a3f5f"
            },
            "marker": {
             "line": {
              "color": "#E5ECF6",
              "width": 0.5
             },
             "pattern": {
              "fillmode": "overlay",
              "size": 10,
              "solidity": 0.2
             }
            },
            "type": "bar"
           }
          ],
          "barpolar": [
           {
            "marker": {
             "line": {
              "color": "#E5ECF6",
              "width": 0.5
             },
             "pattern": {
              "fillmode": "overlay",
              "size": 10,
              "solidity": 0.2
             }
            },
            "type": "barpolar"
           }
          ],
          "carpet": [
           {
            "aaxis": {
             "endlinecolor": "#2a3f5f",
             "gridcolor": "white",
             "linecolor": "white",
             "minorgridcolor": "white",
             "startlinecolor": "#2a3f5f"
            },
            "baxis": {
             "endlinecolor": "#2a3f5f",
             "gridcolor": "white",
             "linecolor": "white",
             "minorgridcolor": "white",
             "startlinecolor": "#2a3f5f"
            },
            "type": "carpet"
           }
          ],
          "choropleth": [
           {
            "colorbar": {
             "outlinewidth": 0,
             "ticks": ""
            },
            "type": "choropleth"
           }
          ],
          "contour": [
           {
            "colorbar": {
             "outlinewidth": 0,
             "ticks": ""
            },
            "colorscale": [
             [
              0,
              "#0d0887"
             ],
             [
              0.1111111111111111,
              "#46039f"
             ],
             [
              0.2222222222222222,
              "#7201a8"
             ],
             [
              0.3333333333333333,
              "#9c179e"
             ],
             [
              0.4444444444444444,
              "#bd3786"
             ],
             [
              0.5555555555555556,
              "#d8576b"
             ],
             [
              0.6666666666666666,
              "#ed7953"
             ],
             [
              0.7777777777777778,
              "#fb9f3a"
             ],
             [
              0.8888888888888888,
              "#fdca26"
             ],
             [
              1,
              "#f0f921"
             ]
            ],
            "type": "contour"
           }
          ],
          "contourcarpet": [
           {
            "colorbar": {
             "outlinewidth": 0,
             "ticks": ""
            },
            "type": "contourcarpet"
           }
          ],
          "heatmap": [
           {
            "colorbar": {
             "outlinewidth": 0,
             "ticks": ""
            },
            "colorscale": [
             [
              0,
              "#0d0887"
             ],
             [
              0.1111111111111111,
              "#46039f"
             ],
             [
              0.2222222222222222,
              "#7201a8"
             ],
             [
              0.3333333333333333,
              "#9c179e"
             ],
             [
              0.4444444444444444,
              "#bd3786"
             ],
             [
              0.5555555555555556,
              "#d8576b"
             ],
             [
              0.6666666666666666,
              "#ed7953"
             ],
             [
              0.7777777777777778,
              "#fb9f3a"
             ],
             [
              0.8888888888888888,
              "#fdca26"
             ],
             [
              1,
              "#f0f921"
             ]
            ],
            "type": "heatmap"
           }
          ],
          "heatmapgl": [
           {
            "colorbar": {
             "outlinewidth": 0,
             "ticks": ""
            },
            "colorscale": [
             [
              0,
              "#0d0887"
             ],
             [
              0.1111111111111111,
              "#46039f"
             ],
             [
              0.2222222222222222,
              "#7201a8"
             ],
             [
              0.3333333333333333,
              "#9c179e"
             ],
             [
              0.4444444444444444,
              "#bd3786"
             ],
             [
              0.5555555555555556,
              "#d8576b"
             ],
             [
              0.6666666666666666,
              "#ed7953"
             ],
             [
              0.7777777777777778,
              "#fb9f3a"
             ],
             [
              0.8888888888888888,
              "#fdca26"
             ],
             [
              1,
              "#f0f921"
             ]
            ],
            "type": "heatmapgl"
           }
          ],
          "histogram": [
           {
            "marker": {
             "pattern": {
              "fillmode": "overlay",
              "size": 10,
              "solidity": 0.2
             }
            },
            "type": "histogram"
           }
          ],
          "histogram2d": [
           {
            "colorbar": {
             "outlinewidth": 0,
             "ticks": ""
            },
            "colorscale": [
             [
              0,
              "#0d0887"
             ],
             [
              0.1111111111111111,
              "#46039f"
             ],
             [
              0.2222222222222222,
              "#7201a8"
             ],
             [
              0.3333333333333333,
              "#9c179e"
             ],
             [
              0.4444444444444444,
              "#bd3786"
             ],
             [
              0.5555555555555556,
              "#d8576b"
             ],
             [
              0.6666666666666666,
              "#ed7953"
             ],
             [
              0.7777777777777778,
              "#fb9f3a"
             ],
             [
              0.8888888888888888,
              "#fdca26"
             ],
             [
              1,
              "#f0f921"
             ]
            ],
            "type": "histogram2d"
           }
          ],
          "histogram2dcontour": [
           {
            "colorbar": {
             "outlinewidth": 0,
             "ticks": ""
            },
            "colorscale": [
             [
              0,
              "#0d0887"
             ],
             [
              0.1111111111111111,
              "#46039f"
             ],
             [
              0.2222222222222222,
              "#7201a8"
             ],
             [
              0.3333333333333333,
              "#9c179e"
             ],
             [
              0.4444444444444444,
              "#bd3786"
             ],
             [
              0.5555555555555556,
              "#d8576b"
             ],
             [
              0.6666666666666666,
              "#ed7953"
             ],
             [
              0.7777777777777778,
              "#fb9f3a"
             ],
             [
              0.8888888888888888,
              "#fdca26"
             ],
             [
              1,
              "#f0f921"
             ]
            ],
            "type": "histogram2dcontour"
           }
          ],
          "mesh3d": [
           {
            "colorbar": {
             "outlinewidth": 0,
             "ticks": ""
            },
            "type": "mesh3d"
           }
          ],
          "parcoords": [
           {
            "line": {
             "colorbar": {
              "outlinewidth": 0,
              "ticks": ""
             }
            },
            "type": "parcoords"
           }
          ],
          "pie": [
           {
            "automargin": true,
            "type": "pie"
           }
          ],
          "scatter": [
           {
            "fillpattern": {
             "fillmode": "overlay",
             "size": 10,
             "solidity": 0.2
            },
            "type": "scatter"
           }
          ],
          "scatter3d": [
           {
            "line": {
             "colorbar": {
              "outlinewidth": 0,
              "ticks": ""
             }
            },
            "marker": {
             "colorbar": {
              "outlinewidth": 0,
              "ticks": ""
             }
            },
            "type": "scatter3d"
           }
          ],
          "scattercarpet": [
           {
            "marker": {
             "colorbar": {
              "outlinewidth": 0,
              "ticks": ""
             }
            },
            "type": "scattercarpet"
           }
          ],
          "scattergeo": [
           {
            "marker": {
             "colorbar": {
              "outlinewidth": 0,
              "ticks": ""
             }
            },
            "type": "scattergeo"
           }
          ],
          "scattergl": [
           {
            "marker": {
             "colorbar": {
              "outlinewidth": 0,
              "ticks": ""
             }
            },
            "type": "scattergl"
           }
          ],
          "scattermapbox": [
           {
            "marker": {
             "colorbar": {
              "outlinewidth": 0,
              "ticks": ""
             }
            },
            "type": "scattermapbox"
           }
          ],
          "scatterpolar": [
           {
            "marker": {
             "colorbar": {
              "outlinewidth": 0,
              "ticks": ""
             }
            },
            "type": "scatterpolar"
           }
          ],
          "scatterpolargl": [
           {
            "marker": {
             "colorbar": {
              "outlinewidth": 0,
              "ticks": ""
             }
            },
            "type": "scatterpolargl"
           }
          ],
          "scatterternary": [
           {
            "marker": {
             "colorbar": {
              "outlinewidth": 0,
              "ticks": ""
             }
            },
            "type": "scatterternary"
           }
          ],
          "surface": [
           {
            "colorbar": {
             "outlinewidth": 0,
             "ticks": ""
            },
            "colorscale": [
             [
              0,
              "#0d0887"
             ],
             [
              0.1111111111111111,
              "#46039f"
             ],
             [
              0.2222222222222222,
              "#7201a8"
             ],
             [
              0.3333333333333333,
              "#9c179e"
             ],
             [
              0.4444444444444444,
              "#bd3786"
             ],
             [
              0.5555555555555556,
              "#d8576b"
             ],
             [
              0.6666666666666666,
              "#ed7953"
             ],
             [
              0.7777777777777778,
              "#fb9f3a"
             ],
             [
              0.8888888888888888,
              "#fdca26"
             ],
             [
              1,
              "#f0f921"
             ]
            ],
            "type": "surface"
           }
          ],
          "table": [
           {
            "cells": {
             "fill": {
              "color": "#EBF0F8"
             },
             "line": {
              "color": "white"
             }
            },
            "header": {
             "fill": {
              "color": "#C8D4E3"
             },
             "line": {
              "color": "white"
             }
            },
            "type": "table"
           }
          ]
         },
         "layout": {
          "annotationdefaults": {
           "arrowcolor": "#2a3f5f",
           "arrowhead": 0,
           "arrowwidth": 1
          },
          "autotypenumbers": "strict",
          "coloraxis": {
           "colorbar": {
            "outlinewidth": 0,
            "ticks": ""
           }
          },
          "colorscale": {
           "diverging": [
            [
             0,
             "#8e0152"
            ],
            [
             0.1,
             "#c51b7d"
            ],
            [
             0.2,
             "#de77ae"
            ],
            [
             0.3,
             "#f1b6da"
            ],
            [
             0.4,
             "#fde0ef"
            ],
            [
             0.5,
             "#f7f7f7"
            ],
            [
             0.6,
             "#e6f5d0"
            ],
            [
             0.7,
             "#b8e186"
            ],
            [
             0.8,
             "#7fbc41"
            ],
            [
             0.9,
             "#4d9221"
            ],
            [
             1,
             "#276419"
            ]
           ],
           "sequential": [
            [
             0,
             "#0d0887"
            ],
            [
             0.1111111111111111,
             "#46039f"
            ],
            [
             0.2222222222222222,
             "#7201a8"
            ],
            [
             0.3333333333333333,
             "#9c179e"
            ],
            [
             0.4444444444444444,
             "#bd3786"
            ],
            [
             0.5555555555555556,
             "#d8576b"
            ],
            [
             0.6666666666666666,
             "#ed7953"
            ],
            [
             0.7777777777777778,
             "#fb9f3a"
            ],
            [
             0.8888888888888888,
             "#fdca26"
            ],
            [
             1,
             "#f0f921"
            ]
           ],
           "sequentialminus": [
            [
             0,
             "#0d0887"
            ],
            [
             0.1111111111111111,
             "#46039f"
            ],
            [
             0.2222222222222222,
             "#7201a8"
            ],
            [
             0.3333333333333333,
             "#9c179e"
            ],
            [
             0.4444444444444444,
             "#bd3786"
            ],
            [
             0.5555555555555556,
             "#d8576b"
            ],
            [
             0.6666666666666666,
             "#ed7953"
            ],
            [
             0.7777777777777778,
             "#fb9f3a"
            ],
            [
             0.8888888888888888,
             "#fdca26"
            ],
            [
             1,
             "#f0f921"
            ]
           ]
          },
          "colorway": [
           "#636efa",
           "#EF553B",
           "#00cc96",
           "#ab63fa",
           "#FFA15A",
           "#19d3f3",
           "#FF6692",
           "#B6E880",
           "#FF97FF",
           "#FECB52"
          ],
          "font": {
           "color": "#2a3f5f"
          },
          "geo": {
           "bgcolor": "white",
           "lakecolor": "white",
           "landcolor": "#E5ECF6",
           "showlakes": true,
           "showland": true,
           "subunitcolor": "white"
          },
          "hoverlabel": {
           "align": "left"
          },
          "hovermode": "closest",
          "mapbox": {
           "style": "light"
          },
          "paper_bgcolor": "white",
          "plot_bgcolor": "#E5ECF6",
          "polar": {
           "angularaxis": {
            "gridcolor": "white",
            "linecolor": "white",
            "ticks": ""
           },
           "bgcolor": "#E5ECF6",
           "radialaxis": {
            "gridcolor": "white",
            "linecolor": "white",
            "ticks": ""
           }
          },
          "scene": {
           "xaxis": {
            "backgroundcolor": "#E5ECF6",
            "gridcolor": "white",
            "gridwidth": 2,
            "linecolor": "white",
            "showbackground": true,
            "ticks": "",
            "zerolinecolor": "white"
           },
           "yaxis": {
            "backgroundcolor": "#E5ECF6",
            "gridcolor": "white",
            "gridwidth": 2,
            "linecolor": "white",
            "showbackground": true,
            "ticks": "",
            "zerolinecolor": "white"
           },
           "zaxis": {
            "backgroundcolor": "#E5ECF6",
            "gridcolor": "white",
            "gridwidth": 2,
            "linecolor": "white",
            "showbackground": true,
            "ticks": "",
            "zerolinecolor": "white"
           }
          },
          "shapedefaults": {
           "line": {
            "color": "#2a3f5f"
           }
          },
          "ternary": {
           "aaxis": {
            "gridcolor": "white",
            "linecolor": "white",
            "ticks": ""
           },
           "baxis": {
            "gridcolor": "white",
            "linecolor": "white",
            "ticks": ""
           },
           "bgcolor": "#E5ECF6",
           "caxis": {
            "gridcolor": "white",
            "linecolor": "white",
            "ticks": ""
           }
          },
          "title": {
           "x": 0.05
          },
          "xaxis": {
           "automargin": true,
           "gridcolor": "white",
           "linecolor": "white",
           "ticks": "",
           "title": {
            "standoff": 15
           },
           "zerolinecolor": "white",
           "zerolinewidth": 2
          },
          "yaxis": {
           "automargin": true,
           "gridcolor": "white",
           "linecolor": "white",
           "ticks": "",
           "title": {
            "standoff": 15
           },
           "zerolinecolor": "white",
           "zerolinewidth": 2
          }
         }
        },
        "xaxis": {
         "anchor": "y",
         "domain": [
          0,
          1
         ],
         "title": {
          "text": "completions_last_per_game"
         }
        },
        "yaxis": {
         "anchor": "x",
         "domain": [
          0,
          1
         ],
         "title": {
          "text": "completions_per_game"
         }
        }
       }
      },
      "text/html": [
       "<div>                            <div id=\"ec9196e1-c901-4fa6-9007-6841e142802d\" class=\"plotly-graph-div\" style=\"height:525px; width:100%;\"></div>            <script type=\"text/javascript\">                require([\"plotly\"], function(Plotly) {                    window.PLOTLYENV=window.PLOTLYENV || {};                                    if (document.getElementById(\"ec9196e1-c901-4fa6-9007-6841e142802d\")) {                    Plotly.newPlot(                        \"ec9196e1-c901-4fa6-9007-6841e142802d\",                        [{\"customdata\":[[\"P.Manning\",2013,37.0],[\"P.Manning\",2014,38.0],[\"T.Brady\",2013,36.0],[\"T.Brady\",2014,37.0],[\"T.Brady\",2015,38.0],[\"T.Brady\",2016,39.0],[\"T.Brady\",2017,40.0],[\"T.Brady\",2018,41.0],[\"T.Brady\",2019,42.0],[\"T.Brady\",2020,43.0],[\"T.Brady\",2021,44.0],[\"T.Brady\",2022,45.0],[\"D.Brees\",2013,34.0],[\"D.Brees\",2014,35.0],[\"D.Brees\",2015,36.0],[\"D.Brees\",2016,37.0],[\"D.Brees\",2017,38.0],[\"D.Brees\",2018,39.0],[\"C.Palmer\",2013,33.0],[\"C.Palmer\",2016,36.0],[\"T.Romo\",2013,33.0],[\"T.Romo\",2014,34.0],[\"E.Manning\",2013,32.0],[\"E.Manning\",2014,33.0],[\"E.Manning\",2015,34.0],[\"E.Manning\",2016,35.0],[\"E.Manning\",2017,36.0],[\"E.Manning\",2018,37.0],[\"B.Roethlisberger\",2013,31.0],[\"B.Roethlisberger\",2014,32.0],[\"B.Roethlisberger\",2015,33.0],[\"B.Roethlisberger\",2016,34.0],[\"B.Roethlisberger\",2017,35.0],[\"B.Roethlisberger\",2018,36.0],[\"B.Roethlisberger\",2021,39.0],[\"P.Rivers\",2013,31.0],[\"P.Rivers\",2014,32.0],[\"P.Rivers\",2015,33.0],[\"P.Rivers\",2016,34.0],[\"P.Rivers\",2017,35.0],[\"P.Rivers\",2018,36.0],[\"P.Rivers\",2019,37.0],[\"P.Rivers\",2020,38.0],[\"A.Smith\",2014,30.0],[\"A.Smith\",2015,31.0],[\"A.Smith\",2016,32.0],[\"A.Smith\",2017,33.0],[\"A.Rodgers\",2015,31.0],[\"A.Rodgers\",2016,32.0],[\"A.Rodgers\",2019,35.0],[\"A.Rodgers\",2020,36.0],[\"A.Rodgers\",2021,37.0],[\"A.Rodgers\",2022,38.0],[\"R.Fitzpatrick\",2015,32.0],[\"R.Fitzpatrick\",2016,33.0],[\"J.Cutler\",2015,32.0],[\"M.Ryan\",2013,28.0],[\"M.Ryan\",2014,29.0],[\"M.Ryan\",2015,30.0],[\"M.Ryan\",2016,31.0],[\"M.Ryan\",2017,32.0],[\"M.Ryan\",2018,33.0],[\"M.Ryan\",2019,34.0],[\"M.Ryan\",2020,35.0],[\"M.Ryan\",2021,36.0],[\"M.Ryan\",2022,37.0],[\"J.Flacco\",2013,28.0],[\"J.Flacco\",2014,29.0],[\"J.Flacco\",2017,32.0],[\"M.Stafford\",2013,25.0],[\"M.Stafford\",2014,26.0],[\"M.Stafford\",2015,27.0],[\"M.Stafford\",2016,28.0],[\"M.Stafford\",2017,29.0],[\"M.Stafford\",2018,30.0],[\"M.Stafford\",2021,33.0],[\"S.Bradford\",2016,28.0],[\"C.Newton\",2013,24.0],[\"C.Newton\",2014,25.0],[\"C.Newton\",2015,26.0],[\"C.Newton\",2016,27.0],[\"C.Newton\",2017,28.0],[\"C.Newton\",2018,29.0],[\"A.Dalton\",2013,25.0],[\"A.Dalton\",2014,26.0],[\"A.Dalton\",2015,27.0],[\"A.Dalton\",2016,28.0],[\"A.Dalton\",2017,29.0],[\"C.Kaepernick\",2014,26.0],[\"T.Taylor\",2016,27.0],[\"T.Taylor\",2017,28.0],[\"C.Keenum\",2018,30.0],[\"R.Wilson\",2013,24.0],[\"R.Wilson\",2014,25.0],[\"R.Wilson\",2015,26.0],[\"R.Wilson\",2016,27.0],[\"R.Wilson\",2017,28.0],[\"R.Wilson\",2018,29.0],[\"R.Wilson\",2019,30.0],[\"R.Wilson\",2020,31.0],[\"R.Wilson\",2021,32.0],[\"R.Wilson\",2022,33.0],[\"K.Cousins\",2016,28.0],[\"K.Cousins\",2017,29.0],[\"K.Cousins\",2018,30.0],[\"K.Cousins\",2019,31.0],[\"K.Cousins\",2020,32.0],[\"K.Cousins\",2021,33.0],[\"K.Cousins\",2022,34.0],[\"R.Griffin III\",2013,23.0],[\"A.Luck\",2013,23.0],[\"A.Luck\",2014,24.0],[\"R.Tannehill\",2013,25.0],[\"R.Tannehill\",2014,26.0],[\"R.Tannehill\",2015,27.0],[\"R.Tannehill\",2016,28.0],[\"R.Tannehill\",2020,32.0],[\"R.Tannehill\",2021,33.0],[\"R.Tannehill\",2022,34.0],[\"G.Smith\",2014,23.0],[\"T.Bridgewater\",2015,22.0],[\"T.Bridgewater\",2021,28.0],[\"D.Carr\",2015,24.0],[\"D.Carr\",2016,25.0],[\"D.Carr\",2017,26.0],[\"D.Carr\",2018,27.0],[\"D.Carr\",2019,28.0],[\"D.Carr\",2020,29.0],[\"D.Carr\",2021,30.0],[\"D.Carr\",2022,31.0],[\"B.Bortles\",2015,23.0],[\"B.Bortles\",2016,24.0],[\"B.Bortles\",2017,25.0],[\"B.Bortles\",2018,26.0],[\"J.Winston\",2016,22.0],[\"J.Winston\",2017,23.0],[\"M.Mariota\",2016,22.0],[\"M.Mariota\",2017,23.0],[\"M.Mariota\",2018,24.0],[\"C.Wentz\",2017,24.0],[\"C.Wentz\",2020,27.0],[\"C.Wentz\",2021,28.0],[\"D.Prescott\",2017,24.0],[\"D.Prescott\",2018,25.0],[\"D.Prescott\",2019,26.0],[\"D.Prescott\",2022,29.0],[\"J.Goff\",2018,23.0],[\"J.Goff\",2019,24.0],[\"J.Goff\",2020,25.0],[\"J.Goff\",2021,26.0],[\"J.Goff\",2022,27.0],[\"D.Watson\",2019,23.0],[\"D.Watson\",2020,24.0],[\"M.Trubisky\",2018,24.0],[\"M.Trubisky\",2019,25.0],[\"P.Mahomes\",2019,23.0],[\"P.Mahomes\",2020,24.0],[\"P.Mahomes\",2021,25.0],[\"P.Mahomes\",2022,26.0],[\"L.Jackson\",2020,23.0],[\"L.Jackson\",2021,24.0],[\"L.Jackson\",2022,25.0],[\"B.Mayfield\",2019,24.0],[\"B.Mayfield\",2020,25.0],[\"B.Mayfield\",2021,26.0],[\"B.Mayfield\",2022,27.0],[\"J.Allen\",2019,23.0],[\"J.Allen\",2020,24.0],[\"J.Allen\",2021,25.0],[\"J.Allen\",2022,26.0],[\"S.Darnold\",2019,22.0],[\"S.Darnold\",2020,23.0],[\"S.Darnold\",2021,24.0],[\"K.Murray\",2020,23.0],[\"K.Murray\",2021,24.0],[\"D.Jones\",2020,23.0],[\"T.Tagovailoa\",2022,24.0],[\"J.Herbert\",2021,23.0],[\"J.Herbert\",2022,24.0],[\"J.Hurts\",2022,24.0],[\"J.Burrow\",2022,25.0],[\"D.Mills\",2022,23.0],[\"T.Lawrence\",2022,22.0],[\"M.Jones\",2022,23.0]],\"hovertemplate\":\"completions_last_per_game=%{x}\\u003cbr\\u003ecompletions_per_game=%{y}\\u003cbr\\u003epasser=%{customdata[0]}\\u003cbr\\u003eseason=%{customdata[1]}\\u003cbr\\u003eage=%{customdata[2]}\\u003cextra\\u003e\\u003c\\u002fextra\\u003e\",\"legendgroup\":\"\",\"marker\":{\"color\":\"#636efa\",\"symbol\":\"circle\"},\"mode\":\"markers\",\"name\":\"\",\"orientation\":\"v\",\"showlegend\":false,\"x\":[25.0,28.125,25.0625,23.75,23.3125,25.125,24.25,24.0625,23.4375,23.3125,25.0625,28.529411764705884,26.375,27.8125,28.5,28.533333333333335,29.375,24.125,23.0,21.375,26.5625,22.8,20.0625,19.8125,23.6875,24.1875,23.5625,23.466666666666665,21.846153846153847,23.4375,25.5,26.583333333333332,23.428571428571427,24.0,26.6,21.125,23.625,23.6875,27.25,21.8125,22.5,21.6875,24.375,20.533333333333335,20.2,19.1875,21.866666666666667,21.3125,21.6875,23.25,22.0625,23.25,22.875,16.416666666666668,20.9375,24.666666666666668,26.3125,27.4375,25.9375,25.4375,23.3125,21.375,26.375,27.2,25.4375,22.058823529411764,19.8125,22.5625,27.25,27.1875,23.1875,22.6875,24.875,24.25,23.1875,21.1875,24.714285714285715,17.5,18.25,18.714285714285715,18.5,18.0,18.1875,20.5625,22.6875,19.3125,19.615384615384617,22.75,15.1875,17.214285714285715,17.933333333333334,21.666666666666668,15.75,16.0625,17.8125,20.5625,22.0625,21.1875,17.5,21.3125,24.0,18.5,23.6875,25.375,21.6875,26.5625,20.466666666666665,21.8125,23.25,17.2,21.1875,21.4375,17.625,22.1875,24.5,22.6875,16.75,19.6875,21.0,15.4375,19.923076923076923,22.666666666666668,21.75,21.875,23.8,21.533333333333335,23.8125,22.5625,21.75,25.176470588235293,20.0,22.1875,23.0,19.6875,19.5,21.5625,19.166666666666668,18.4,18.733333333333334,23.6875,24.25,20.916666666666668,19.4375,19.25,22.25,25.625,19.733333333333334,22.75,24.625,24.666666666666668,23.714285714285715,21.5625,22.2,16.333333333333332,20.642857142857142,23.9375,22.785714285714285,26.0,25.647058823529413,17.666666666666668,16.133333333333333,20.5,22.142857142857142,19.8125,19.0625,18.071428571428573,14.083333333333334,16.9375,24.75,24.058823529411764,18.384615384615383,21.0,18.083333333333332,21.8125,23.4375,21.846153846153847,20.23076923076923,26.4,26.058823529411764,17.666666666666668,22.875,20.23076923076923,21.058823529411764,20.705882352941178],\"xaxis\":\"x\",\"y\":[28.125,24.6875,23.75,23.3125,25.125,24.25,24.0625,23.4375,23.3125,25.0625,28.529411764705884,28.823529411764707,27.8125,28.5,28.533333333333335,29.375,24.125,24.266666666666666,22.625,24.266666666666666,22.8,20.266666666666666,19.8125,23.6875,24.1875,23.5625,23.466666666666665,23.75,23.4375,25.5,26.583333333333332,23.428571428571427,24.0,28.25,24.375,23.625,23.6875,27.25,21.8125,22.5,21.6875,24.375,23.0625,20.2,19.1875,21.866666666666667,22.733333333333334,21.6875,25.0625,22.0625,23.25,22.875,20.58823529411765,20.9375,16.285714285714285,20.733333333333334,27.4375,25.9375,25.4375,23.3125,21.375,26.375,27.2,25.4375,22.058823529411764,25.75,22.5625,21.5,22.0,23.1875,22.6875,24.875,24.25,23.1875,22.9375,23.764705882352942,26.333333333333332,18.25,18.714285714285715,18.5,18.0,18.1875,22.857142857142858,22.6875,19.3125,19.615384615384617,22.75,18.5625,18.0625,17.933333333333334,17.533333333333335,22.8125,16.0625,17.8125,20.5625,22.0625,21.1875,17.5,21.3125,24.0,18.5,19.466666666666665,25.375,21.6875,26.5625,20.466666666666665,21.8125,23.25,24.88235294117647,21.076923076923077,21.4375,23.75,22.1875,24.5,22.6875,20.076923076923077,19.6875,21.0,17.666666666666668,15.642857142857142,18.25,20.357142857142858,21.875,23.8,21.533333333333335,23.8125,22.5625,21.75,25.176470588235293,20.333333333333332,22.1875,23.0,19.6875,18.692307692307693,21.5625,21.692307692307693,18.4,18.733333333333334,16.285714285714285,20.384615384615383,20.916666666666668,18.941176470588236,19.25,22.25,24.25,21.75,22.75,24.625,24.666666666666668,23.714285714285715,22.470588235294116,22.2,23.875,20.642857142857142,21.733333333333334,22.785714285714285,26.0,25.647058823529413,25.58823529411765,16.133333333333333,20.5,16.916666666666668,19.8125,19.0625,18.071428571428573,16.75,16.9375,24.75,24.058823529411764,22.4375,21.0,18.083333333333332,20.166666666666668,23.4375,23.785714285714285,20.0,19.923076923076923,26.058823529411764,28.058823529411764,20.4,25.875,19.466666666666665,22.764705882352942,20.571428571428573],\"yaxis\":\"y\",\"type\":\"scatter\"}],                        {\"template\":{\"data\":{\"histogram2dcontour\":[{\"type\":\"histogram2dcontour\",\"colorbar\":{\"outlinewidth\":0,\"ticks\":\"\"},\"colorscale\":[[0.0,\"#0d0887\"],[0.1111111111111111,\"#46039f\"],[0.2222222222222222,\"#7201a8\"],[0.3333333333333333,\"#9c179e\"],[0.4444444444444444,\"#bd3786\"],[0.5555555555555556,\"#d8576b\"],[0.6666666666666666,\"#ed7953\"],[0.7777777777777778,\"#fb9f3a\"],[0.8888888888888888,\"#fdca26\"],[1.0,\"#f0f921\"]]}],\"choropleth\":[{\"type\":\"choropleth\",\"colorbar\":{\"outlinewidth\":0,\"ticks\":\"\"}}],\"histogram2d\":[{\"type\":\"histogram2d\",\"colorbar\":{\"outlinewidth\":0,\"ticks\":\"\"},\"colorscale\":[[0.0,\"#0d0887\"],[0.1111111111111111,\"#46039f\"],[0.2222222222222222,\"#7201a8\"],[0.3333333333333333,\"#9c179e\"],[0.4444444444444444,\"#bd3786\"],[0.5555555555555556,\"#d8576b\"],[0.6666666666666666,\"#ed7953\"],[0.7777777777777778,\"#fb9f3a\"],[0.8888888888888888,\"#fdca26\"],[1.0,\"#f0f921\"]]}],\"heatmap\":[{\"type\":\"heatmap\",\"colorbar\":{\"outlinewidth\":0,\"ticks\":\"\"},\"colorscale\":[[0.0,\"#0d0887\"],[0.1111111111111111,\"#46039f\"],[0.2222222222222222,\"#7201a8\"],[0.3333333333333333,\"#9c179e\"],[0.4444444444444444,\"#bd3786\"],[0.5555555555555556,\"#d8576b\"],[0.6666666666666666,\"#ed7953\"],[0.7777777777777778,\"#fb9f3a\"],[0.8888888888888888,\"#fdca26\"],[1.0,\"#f0f921\"]]}],\"heatmapgl\":[{\"type\":\"heatmapgl\",\"colorbar\":{\"outlinewidth\":0,\"ticks\":\"\"},\"colorscale\":[[0.0,\"#0d0887\"],[0.1111111111111111,\"#46039f\"],[0.2222222222222222,\"#7201a8\"],[0.3333333333333333,\"#9c179e\"],[0.4444444444444444,\"#bd3786\"],[0.5555555555555556,\"#d8576b\"],[0.6666666666666666,\"#ed7953\"],[0.7777777777777778,\"#fb9f3a\"],[0.8888888888888888,\"#fdca26\"],[1.0,\"#f0f921\"]]}],\"contourcarpet\":[{\"type\":\"contourcarpet\",\"colorbar\":{\"outlinewidth\":0,\"ticks\":\"\"}}],\"contour\":[{\"type\":\"contour\",\"colorbar\":{\"outlinewidth\":0,\"ticks\":\"\"},\"colorscale\":[[0.0,\"#0d0887\"],[0.1111111111111111,\"#46039f\"],[0.2222222222222222,\"#7201a8\"],[0.3333333333333333,\"#9c179e\"],[0.4444444444444444,\"#bd3786\"],[0.5555555555555556,\"#d8576b\"],[0.6666666666666666,\"#ed7953\"],[0.7777777777777778,\"#fb9f3a\"],[0.8888888888888888,\"#fdca26\"],[1.0,\"#f0f921\"]]}],\"surface\":[{\"type\":\"surface\",\"colorbar\":{\"outlinewidth\":0,\"ticks\":\"\"},\"colorscale\":[[0.0,\"#0d0887\"],[0.1111111111111111,\"#46039f\"],[0.2222222222222222,\"#7201a8\"],[0.3333333333333333,\"#9c179e\"],[0.4444444444444444,\"#bd3786\"],[0.5555555555555556,\"#d8576b\"],[0.6666666666666666,\"#ed7953\"],[0.7777777777777778,\"#fb9f3a\"],[0.8888888888888888,\"#fdca26\"],[1.0,\"#f0f921\"]]}],\"mesh3d\":[{\"type\":\"mesh3d\",\"colorbar\":{\"outlinewidth\":0,\"ticks\":\"\"}}],\"scatter\":[{\"fillpattern\":{\"fillmode\":\"overlay\",\"size\":10,\"solidity\":0.2},\"type\":\"scatter\"}],\"parcoords\":[{\"type\":\"parcoords\",\"line\":{\"colorbar\":{\"outlinewidth\":0,\"ticks\":\"\"}}}],\"scatterpolargl\":[{\"type\":\"scatterpolargl\",\"marker\":{\"colorbar\":{\"outlinewidth\":0,\"ticks\":\"\"}}}],\"bar\":[{\"error_x\":{\"color\":\"#2a3f5f\"},\"error_y\":{\"color\":\"#2a3f5f\"},\"marker\":{\"line\":{\"color\":\"#E5ECF6\",\"width\":0.5},\"pattern\":{\"fillmode\":\"overlay\",\"size\":10,\"solidity\":0.2}},\"type\":\"bar\"}],\"scattergeo\":[{\"type\":\"scattergeo\",\"marker\":{\"colorbar\":{\"outlinewidth\":0,\"ticks\":\"\"}}}],\"scatterpolar\":[{\"type\":\"scatterpolar\",\"marker\":{\"colorbar\":{\"outlinewidth\":0,\"ticks\":\"\"}}}],\"histogram\":[{\"marker\":{\"pattern\":{\"fillmode\":\"overlay\",\"size\":10,\"solidity\":0.2}},\"type\":\"histogram\"}],\"scattergl\":[{\"type\":\"scattergl\",\"marker\":{\"colorbar\":{\"outlinewidth\":0,\"ticks\":\"\"}}}],\"scatter3d\":[{\"type\":\"scatter3d\",\"line\":{\"colorbar\":{\"outlinewidth\":0,\"ticks\":\"\"}},\"marker\":{\"colorbar\":{\"outlinewidth\":0,\"ticks\":\"\"}}}],\"scattermapbox\":[{\"type\":\"scattermapbox\",\"marker\":{\"colorbar\":{\"outlinewidth\":0,\"ticks\":\"\"}}}],\"scatterternary\":[{\"type\":\"scatterternary\",\"marker\":{\"colorbar\":{\"outlinewidth\":0,\"ticks\":\"\"}}}],\"scattercarpet\":[{\"type\":\"scattercarpet\",\"marker\":{\"colorbar\":{\"outlinewidth\":0,\"ticks\":\"\"}}}],\"carpet\":[{\"aaxis\":{\"endlinecolor\":\"#2a3f5f\",\"gridcolor\":\"white\",\"linecolor\":\"white\",\"minorgridcolor\":\"white\",\"startlinecolor\":\"#2a3f5f\"},\"baxis\":{\"endlinecolor\":\"#2a3f5f\",\"gridcolor\":\"white\",\"linecolor\":\"white\",\"minorgridcolor\":\"white\",\"startlinecolor\":\"#2a3f5f\"},\"type\":\"carpet\"}],\"table\":[{\"cells\":{\"fill\":{\"color\":\"#EBF0F8\"},\"line\":{\"color\":\"white\"}},\"header\":{\"fill\":{\"color\":\"#C8D4E3\"},\"line\":{\"color\":\"white\"}},\"type\":\"table\"}],\"barpolar\":[{\"marker\":{\"line\":{\"color\":\"#E5ECF6\",\"width\":0.5},\"pattern\":{\"fillmode\":\"overlay\",\"size\":10,\"solidity\":0.2}},\"type\":\"barpolar\"}],\"pie\":[{\"automargin\":true,\"type\":\"pie\"}]},\"layout\":{\"autotypenumbers\":\"strict\",\"colorway\":[\"#636efa\",\"#EF553B\",\"#00cc96\",\"#ab63fa\",\"#FFA15A\",\"#19d3f3\",\"#FF6692\",\"#B6E880\",\"#FF97FF\",\"#FECB52\"],\"font\":{\"color\":\"#2a3f5f\"},\"hovermode\":\"closest\",\"hoverlabel\":{\"align\":\"left\"},\"paper_bgcolor\":\"white\",\"plot_bgcolor\":\"#E5ECF6\",\"polar\":{\"bgcolor\":\"#E5ECF6\",\"angularaxis\":{\"gridcolor\":\"white\",\"linecolor\":\"white\",\"ticks\":\"\"},\"radialaxis\":{\"gridcolor\":\"white\",\"linecolor\":\"white\",\"ticks\":\"\"}},\"ternary\":{\"bgcolor\":\"#E5ECF6\",\"aaxis\":{\"gridcolor\":\"white\",\"linecolor\":\"white\",\"ticks\":\"\"},\"baxis\":{\"gridcolor\":\"white\",\"linecolor\":\"white\",\"ticks\":\"\"},\"caxis\":{\"gridcolor\":\"white\",\"linecolor\":\"white\",\"ticks\":\"\"}},\"coloraxis\":{\"colorbar\":{\"outlinewidth\":0,\"ticks\":\"\"}},\"colorscale\":{\"sequential\":[[0.0,\"#0d0887\"],[0.1111111111111111,\"#46039f\"],[0.2222222222222222,\"#7201a8\"],[0.3333333333333333,\"#9c179e\"],[0.4444444444444444,\"#bd3786\"],[0.5555555555555556,\"#d8576b\"],[0.6666666666666666,\"#ed7953\"],[0.7777777777777778,\"#fb9f3a\"],[0.8888888888888888,\"#fdca26\"],[1.0,\"#f0f921\"]],\"sequentialminus\":[[0.0,\"#0d0887\"],[0.1111111111111111,\"#46039f\"],[0.2222222222222222,\"#7201a8\"],[0.3333333333333333,\"#9c179e\"],[0.4444444444444444,\"#bd3786\"],[0.5555555555555556,\"#d8576b\"],[0.6666666666666666,\"#ed7953\"],[0.7777777777777778,\"#fb9f3a\"],[0.8888888888888888,\"#fdca26\"],[1.0,\"#f0f921\"]],\"diverging\":[[0,\"#8e0152\"],[0.1,\"#c51b7d\"],[0.2,\"#de77ae\"],[0.3,\"#f1b6da\"],[0.4,\"#fde0ef\"],[0.5,\"#f7f7f7\"],[0.6,\"#e6f5d0\"],[0.7,\"#b8e186\"],[0.8,\"#7fbc41\"],[0.9,\"#4d9221\"],[1,\"#276419\"]]},\"xaxis\":{\"gridcolor\":\"white\",\"linecolor\":\"white\",\"ticks\":\"\",\"title\":{\"standoff\":15},\"zerolinecolor\":\"white\",\"automargin\":true,\"zerolinewidth\":2},\"yaxis\":{\"gridcolor\":\"white\",\"linecolor\":\"white\",\"ticks\":\"\",\"title\":{\"standoff\":15},\"zerolinecolor\":\"white\",\"automargin\":true,\"zerolinewidth\":2},\"scene\":{\"xaxis\":{\"backgroundcolor\":\"#E5ECF6\",\"gridcolor\":\"white\",\"linecolor\":\"white\",\"showbackground\":true,\"ticks\":\"\",\"zerolinecolor\":\"white\",\"gridwidth\":2},\"yaxis\":{\"backgroundcolor\":\"#E5ECF6\",\"gridcolor\":\"white\",\"linecolor\":\"white\",\"showbackground\":true,\"ticks\":\"\",\"zerolinecolor\":\"white\",\"gridwidth\":2},\"zaxis\":{\"backgroundcolor\":\"#E5ECF6\",\"gridcolor\":\"white\",\"linecolor\":\"white\",\"showbackground\":true,\"ticks\":\"\",\"zerolinecolor\":\"white\",\"gridwidth\":2}},\"shapedefaults\":{\"line\":{\"color\":\"#2a3f5f\"}},\"annotationdefaults\":{\"arrowcolor\":\"#2a3f5f\",\"arrowhead\":0,\"arrowwidth\":1},\"geo\":{\"bgcolor\":\"white\",\"landcolor\":\"#E5ECF6\",\"subunitcolor\":\"white\",\"showland\":true,\"showlakes\":true,\"lakecolor\":\"white\"},\"title\":{\"x\":0.05},\"mapbox\":{\"style\":\"light\"}}},\"xaxis\":{\"anchor\":\"y\",\"domain\":[0.0,1.0],\"title\":{\"text\":\"completions_last_per_game\"}},\"yaxis\":{\"anchor\":\"x\",\"domain\":[0.0,1.0],\"title\":{\"text\":\"completions_per_game\"}},\"legend\":{\"tracegroupgap\":0},\"margin\":{\"t\":60}},                        {\"responsive\": true}                    ).then(function(){\n",
       "                            \n",
       "var gd = document.getElementById('ec9196e1-c901-4fa6-9007-6841e142802d');\n",
       "var x = new MutationObserver(function (mutations, observer) {{\n",
       "        var display = window.getComputedStyle(gd).display;\n",
       "        if (!display || display === 'none') {{\n",
       "            console.log([gd, 'removed!']);\n",
       "            Plotly.purge(gd);\n",
       "            observer.disconnect();\n",
       "        }}\n",
       "}});\n",
       "\n",
       "// Listen for the removal of the full notebook cells\n",
       "var notebookContainer = gd.closest('#notebook-container');\n",
       "if (notebookContainer) {{\n",
       "    x.observe(notebookContainer, {childList: true});\n",
       "}}\n",
       "\n",
       "// Listen for the clearing of the current output cell\n",
       "var outputEl = gd.closest('.output');\n",
       "if (outputEl) {{\n",
       "    x.observe(outputEl, {childList: true});\n",
       "}}\n",
       "\n",
       "                        })                };                });            </script>        </div>"
      ]
     },
     "metadata": {},
     "output_type": "display_data"
    },
    {
     "data": {
      "text/html": [
       "<div>\n",
       "<style scoped>\n",
       "    .dataframe tbody tr th:only-of-type {\n",
       "        vertical-align: middle;\n",
       "    }\n",
       "\n",
       "    .dataframe tbody tr th {\n",
       "        vertical-align: top;\n",
       "    }\n",
       "\n",
       "    .dataframe thead th {\n",
       "        text-align: right;\n",
       "    }\n",
       "</style>\n",
       "<table border=\"1\" class=\"dataframe\">\n",
       "  <thead>\n",
       "    <tr style=\"text-align: right;\">\n",
       "      <th></th>\n",
       "      <th>passer_id</th>\n",
       "      <th>passer</th>\n",
       "      <th>season</th>\n",
       "      <th>age</th>\n",
       "      <th>age_last</th>\n",
       "      <th>passing_yards_per_game</th>\n",
       "      <th>passing_attempts_per_game</th>\n",
       "      <th>total_epa_per_game</th>\n",
       "      <th>passing_touchdowns_per_game</th>\n",
       "      <th>completions_per_game</th>\n",
       "      <th>fantasy_points_per_game</th>\n",
       "      <th>passing_yards_last_per_game</th>\n",
       "      <th>passing_attempts_last_per_game</th>\n",
       "      <th>total_epa_last_per_game</th>\n",
       "      <th>passing_touchdowns_last_per_game</th>\n",
       "      <th>completions_last_per_game</th>\n",
       "      <th>fantasy_points_last_per_game</th>\n",
       "      <th>games</th>\n",
       "      <th>games_last</th>\n",
       "    </tr>\n",
       "  </thead>\n",
       "  <tbody>\n",
       "    <tr>\n",
       "      <th>3</th>\n",
       "      <td>00-0010346</td>\n",
       "      <td>P.Manning</td>\n",
       "      <td>2013</td>\n",
       "      <td>37.0</td>\n",
       "      <td>36.0</td>\n",
       "      <td>342.312500</td>\n",
       "      <td>41.125000</td>\n",
       "      <td>18.124193</td>\n",
       "      <td>3.437500</td>\n",
       "      <td>28.125000</td>\n",
       "      <td>25.623750</td>\n",
       "      <td>291.187500</td>\n",
       "      <td>36.250000</td>\n",
       "      <td>11.813057</td>\n",
       "      <td>2.312500</td>\n",
       "      <td>25.000000</td>\n",
       "      <td>19.435000</td>\n",
       "      <td>16.0</td>\n",
       "      <td>16.0</td>\n",
       "    </tr>\n",
       "    <tr>\n",
       "      <th>4</th>\n",
       "      <td>00-0010346</td>\n",
       "      <td>P.Manning</td>\n",
       "      <td>2014</td>\n",
       "      <td>38.0</td>\n",
       "      <td>37.0</td>\n",
       "      <td>295.437500</td>\n",
       "      <td>37.187500</td>\n",
       "      <td>9.229780</td>\n",
       "      <td>2.437500</td>\n",
       "      <td>24.687500</td>\n",
       "      <td>19.542500</td>\n",
       "      <td>342.312500</td>\n",
       "      <td>41.125000</td>\n",
       "      <td>18.124193</td>\n",
       "      <td>3.437500</td>\n",
       "      <td>28.125000</td>\n",
       "      <td>25.623750</td>\n",
       "      <td>16.0</td>\n",
       "      <td>16.0</td>\n",
       "    </tr>\n",
       "    <tr>\n",
       "      <th>6</th>\n",
       "      <td>00-0019596</td>\n",
       "      <td>T.Brady</td>\n",
       "      <td>2013</td>\n",
       "      <td>36.0</td>\n",
       "      <td>35.0</td>\n",
       "      <td>271.437500</td>\n",
       "      <td>39.000000</td>\n",
       "      <td>8.530468</td>\n",
       "      <td>1.562500</td>\n",
       "      <td>23.750000</td>\n",
       "      <td>15.720000</td>\n",
       "      <td>301.687500</td>\n",
       "      <td>39.625000</td>\n",
       "      <td>13.721569</td>\n",
       "      <td>2.125000</td>\n",
       "      <td>25.062500</td>\n",
       "      <td>21.517500</td>\n",
       "      <td>16.0</td>\n",
       "      <td>16.0</td>\n",
       "    </tr>\n",
       "    <tr>\n",
       "      <th>7</th>\n",
       "      <td>00-0019596</td>\n",
       "      <td>T.Brady</td>\n",
       "      <td>2014</td>\n",
       "      <td>37.0</td>\n",
       "      <td>36.0</td>\n",
       "      <td>256.812500</td>\n",
       "      <td>36.375000</td>\n",
       "      <td>8.834653</td>\n",
       "      <td>2.062500</td>\n",
       "      <td>23.312500</td>\n",
       "      <td>17.378750</td>\n",
       "      <td>271.437500</td>\n",
       "      <td>39.000000</td>\n",
       "      <td>8.530468</td>\n",
       "      <td>1.562500</td>\n",
       "      <td>23.750000</td>\n",
       "      <td>15.720000</td>\n",
       "      <td>16.0</td>\n",
       "      <td>16.0</td>\n",
       "    </tr>\n",
       "    <tr>\n",
       "      <th>8</th>\n",
       "      <td>00-0019596</td>\n",
       "      <td>T.Brady</td>\n",
       "      <td>2015</td>\n",
       "      <td>38.0</td>\n",
       "      <td>37.0</td>\n",
       "      <td>298.125000</td>\n",
       "      <td>38.875000</td>\n",
       "      <td>11.165308</td>\n",
       "      <td>2.250000</td>\n",
       "      <td>25.125000</td>\n",
       "      <td>21.481250</td>\n",
       "      <td>256.812500</td>\n",
       "      <td>36.375000</td>\n",
       "      <td>8.834653</td>\n",
       "      <td>2.062500</td>\n",
       "      <td>23.312500</td>\n",
       "      <td>17.378750</td>\n",
       "      <td>16.0</td>\n",
       "      <td>16.0</td>\n",
       "    </tr>\n",
       "    <tr>\n",
       "      <th>...</th>\n",
       "      <td>...</td>\n",
       "      <td>...</td>\n",
       "      <td>...</td>\n",
       "      <td>...</td>\n",
       "      <td>...</td>\n",
       "      <td>...</td>\n",
       "      <td>...</td>\n",
       "      <td>...</td>\n",
       "      <td>...</td>\n",
       "      <td>...</td>\n",
       "      <td>...</td>\n",
       "      <td>...</td>\n",
       "      <td>...</td>\n",
       "      <td>...</td>\n",
       "      <td>...</td>\n",
       "      <td>...</td>\n",
       "      <td>...</td>\n",
       "      <td>...</td>\n",
       "      <td>...</td>\n",
       "    </tr>\n",
       "    <tr>\n",
       "      <th>593</th>\n",
       "      <td>00-0036389</td>\n",
       "      <td>J.Hurts</td>\n",
       "      <td>2022</td>\n",
       "      <td>24.0</td>\n",
       "      <td>23.0</td>\n",
       "      <td>246.733333</td>\n",
       "      <td>30.666667</td>\n",
       "      <td>6.648603</td>\n",
       "      <td>1.466667</td>\n",
       "      <td>20.400000</td>\n",
       "      <td>25.202667</td>\n",
       "      <td>209.600000</td>\n",
       "      <td>28.666667</td>\n",
       "      <td>3.859287</td>\n",
       "      <td>1.066667</td>\n",
       "      <td>17.666667</td>\n",
       "      <td>20.810667</td>\n",
       "      <td>15.0</td>\n",
       "      <td>15.0</td>\n",
       "    </tr>\n",
       "    <tr>\n",
       "      <th>595</th>\n",
       "      <td>00-0036442</td>\n",
       "      <td>J.Burrow</td>\n",
       "      <td>2022</td>\n",
       "      <td>25.0</td>\n",
       "      <td>24.0</td>\n",
       "      <td>279.687500</td>\n",
       "      <td>37.812500</td>\n",
       "      <td>9.712385</td>\n",
       "      <td>2.187500</td>\n",
       "      <td>25.875000</td>\n",
       "      <td>21.918750</td>\n",
       "      <td>288.187500</td>\n",
       "      <td>32.375000</td>\n",
       "      <td>11.223626</td>\n",
       "      <td>2.125000</td>\n",
       "      <td>22.875000</td>\n",
       "      <td>19.640000</td>\n",
       "      <td>16.0</td>\n",
       "      <td>16.0</td>\n",
       "    </tr>\n",
       "    <tr>\n",
       "      <th>596</th>\n",
       "      <td>00-0036898</td>\n",
       "      <td>D.Mills</td>\n",
       "      <td>2022</td>\n",
       "      <td>23.0</td>\n",
       "      <td>22.0</td>\n",
       "      <td>207.866667</td>\n",
       "      <td>31.866667</td>\n",
       "      <td>-0.805794</td>\n",
       "      <td>1.133333</td>\n",
       "      <td>19.466667</td>\n",
       "      <td>12.101333</td>\n",
       "      <td>204.923077</td>\n",
       "      <td>30.153846</td>\n",
       "      <td>0.334728</td>\n",
       "      <td>1.230769</td>\n",
       "      <td>20.230769</td>\n",
       "      <td>12.073846</td>\n",
       "      <td>15.0</td>\n",
       "      <td>13.0</td>\n",
       "    </tr>\n",
       "    <tr>\n",
       "      <th>598</th>\n",
       "      <td>00-0036971</td>\n",
       "      <td>T.Lawrence</td>\n",
       "      <td>2022</td>\n",
       "      <td>22.0</td>\n",
       "      <td>21.0</td>\n",
       "      <td>241.941176</td>\n",
       "      <td>34.235294</td>\n",
       "      <td>8.125579</td>\n",
       "      <td>1.470588</td>\n",
       "      <td>22.764706</td>\n",
       "      <td>17.389412</td>\n",
       "      <td>213.352941</td>\n",
       "      <td>35.176471</td>\n",
       "      <td>-0.338662</td>\n",
       "      <td>0.705882</td>\n",
       "      <td>21.058824</td>\n",
       "      <td>11.708235</td>\n",
       "      <td>17.0</td>\n",
       "      <td>17.0</td>\n",
       "    </tr>\n",
       "    <tr>\n",
       "      <th>599</th>\n",
       "      <td>00-0036972</td>\n",
       "      <td>M.Jones</td>\n",
       "      <td>2022</td>\n",
       "      <td>23.0</td>\n",
       "      <td>22.0</td>\n",
       "      <td>214.071429</td>\n",
       "      <td>31.428571</td>\n",
       "      <td>1.438546</td>\n",
       "      <td>1.000000</td>\n",
       "      <td>20.571429</td>\n",
       "      <td>12.148571</td>\n",
       "      <td>223.588235</td>\n",
       "      <td>30.588235</td>\n",
       "      <td>5.135010</td>\n",
       "      <td>1.294118</td>\n",
       "      <td>20.705882</td>\n",
       "      <td>13.231765</td>\n",
       "      <td>14.0</td>\n",
       "      <td>17.0</td>\n",
       "    </tr>\n",
       "  </tbody>\n",
       "</table>\n",
       "<p>184 rows × 19 columns</p>\n",
       "</div>"
      ],
      "text/plain": [
       "      passer_id      passer  season   age  age_last  passing_yards_per_game  \\\n",
       "3    00-0010346   P.Manning    2013  37.0      36.0              342.312500   \n",
       "4    00-0010346   P.Manning    2014  38.0      37.0              295.437500   \n",
       "6    00-0019596     T.Brady    2013  36.0      35.0              271.437500   \n",
       "7    00-0019596     T.Brady    2014  37.0      36.0              256.812500   \n",
       "8    00-0019596     T.Brady    2015  38.0      37.0              298.125000   \n",
       "..          ...         ...     ...   ...       ...                     ...   \n",
       "593  00-0036389     J.Hurts    2022  24.0      23.0              246.733333   \n",
       "595  00-0036442    J.Burrow    2022  25.0      24.0              279.687500   \n",
       "596  00-0036898     D.Mills    2022  23.0      22.0              207.866667   \n",
       "598  00-0036971  T.Lawrence    2022  22.0      21.0              241.941176   \n",
       "599  00-0036972     M.Jones    2022  23.0      22.0              214.071429   \n",
       "\n",
       "     passing_attempts_per_game  total_epa_per_game  \\\n",
       "3                    41.125000           18.124193   \n",
       "4                    37.187500            9.229780   \n",
       "6                    39.000000            8.530468   \n",
       "7                    36.375000            8.834653   \n",
       "8                    38.875000           11.165308   \n",
       "..                         ...                 ...   \n",
       "593                  30.666667            6.648603   \n",
       "595                  37.812500            9.712385   \n",
       "596                  31.866667           -0.805794   \n",
       "598                  34.235294            8.125579   \n",
       "599                  31.428571            1.438546   \n",
       "\n",
       "     passing_touchdowns_per_game  completions_per_game  \\\n",
       "3                       3.437500             28.125000   \n",
       "4                       2.437500             24.687500   \n",
       "6                       1.562500             23.750000   \n",
       "7                       2.062500             23.312500   \n",
       "8                       2.250000             25.125000   \n",
       "..                           ...                   ...   \n",
       "593                     1.466667             20.400000   \n",
       "595                     2.187500             25.875000   \n",
       "596                     1.133333             19.466667   \n",
       "598                     1.470588             22.764706   \n",
       "599                     1.000000             20.571429   \n",
       "\n",
       "     fantasy_points_per_game  passing_yards_last_per_game  \\\n",
       "3                  25.623750                   291.187500   \n",
       "4                  19.542500                   342.312500   \n",
       "6                  15.720000                   301.687500   \n",
       "7                  17.378750                   271.437500   \n",
       "8                  21.481250                   256.812500   \n",
       "..                       ...                          ...   \n",
       "593                25.202667                   209.600000   \n",
       "595                21.918750                   288.187500   \n",
       "596                12.101333                   204.923077   \n",
       "598                17.389412                   213.352941   \n",
       "599                12.148571                   223.588235   \n",
       "\n",
       "     passing_attempts_last_per_game  total_epa_last_per_game  \\\n",
       "3                         36.250000                11.813057   \n",
       "4                         41.125000                18.124193   \n",
       "6                         39.625000                13.721569   \n",
       "7                         39.000000                 8.530468   \n",
       "8                         36.375000                 8.834653   \n",
       "..                              ...                      ...   \n",
       "593                       28.666667                 3.859287   \n",
       "595                       32.375000                11.223626   \n",
       "596                       30.153846                 0.334728   \n",
       "598                       35.176471                -0.338662   \n",
       "599                       30.588235                 5.135010   \n",
       "\n",
       "     passing_touchdowns_last_per_game  completions_last_per_game  \\\n",
       "3                            2.312500                  25.000000   \n",
       "4                            3.437500                  28.125000   \n",
       "6                            2.125000                  25.062500   \n",
       "7                            1.562500                  23.750000   \n",
       "8                            2.062500                  23.312500   \n",
       "..                                ...                        ...   \n",
       "593                          1.066667                  17.666667   \n",
       "595                          2.125000                  22.875000   \n",
       "596                          1.230769                  20.230769   \n",
       "598                          0.705882                  21.058824   \n",
       "599                          1.294118                  20.705882   \n",
       "\n",
       "     fantasy_points_last_per_game  games  games_last  \n",
       "3                       19.435000   16.0        16.0  \n",
       "4                       25.623750   16.0        16.0  \n",
       "6                       21.517500   16.0        16.0  \n",
       "7                       15.720000   16.0        16.0  \n",
       "8                       17.378750   16.0        16.0  \n",
       "..                            ...    ...         ...  \n",
       "593                     20.810667   15.0        15.0  \n",
       "595                     19.640000   16.0        16.0  \n",
       "596                     12.073846   15.0        13.0  \n",
       "598                     11.708235   17.0        17.0  \n",
       "599                     13.231765   14.0        17.0  \n",
       "\n",
       "[184 rows x 19 columns]"
      ]
     },
     "execution_count": 53,
     "metadata": {},
     "output_type": "execute_result"
    }
   ],
   "source": [
    "query = \"games >= 12 and games_last >= 12 and passing_yards_per_game >= 150 and passing_yards_last_per_game >= 150\"\n",
    "filter_df(df, query, x, y, \"starters\")"
   ]
  },
  {
   "cell_type": "markdown",
   "id": "8795fca4",
   "metadata": {},
   "source": [
    "## Young"
   ]
  },
  {
   "cell_type": "code",
   "execution_count": 54,
   "id": "6a48723e",
   "metadata": {},
   "outputs": [
    {
     "data": {
      "application/vnd.plotly.v1+json": {
       "config": {
        "plotlyServerURL": "https://plot.ly"
       },
       "data": [
        {
         "coloraxis": "coloraxis",
         "hovertemplate": "Current Season Stats: %{x}<br>Previous Season Stats: %{y}<br>color: %{z}<extra></extra>",
         "name": "0",
         "texttemplate": "%{z}",
         "type": "heatmap",
         "x": [
          "passing_yards_per_game",
          "passing_attempts_per_game",
          "total_epa_per_game",
          "passing_touchdowns_per_game",
          "completions_per_game",
          "fantasy_points_per_game"
         ],
         "xaxis": "x",
         "y": [
          "passing_yards_last_per_game",
          "passing_attempts_last_per_game",
          "total_epa_last_per_game",
          "passing_touchdowns_last_per_game",
          "completions_last_per_game",
          "fantasy_points_last_per_game"
         ],
         "yaxis": "y",
         "z": [
          [
           0.56,
           0.61,
           0.22,
           0.29,
           0.61,
           0.12
          ],
          [
           0.46,
           0.63,
           0.07,
           0.28,
           0.57,
           0.01
          ],
          [
           0.35,
           0.22,
           0.33,
           0.21,
           0.28,
           0.28
          ],
          [
           0.36,
           0.32,
           0.23,
           0.25,
           0.34,
           0.24
          ],
          [
           0.56,
           0.65,
           0.17,
           0.3,
           0.68,
           0.06
          ],
          [
           0.25,
           0.13,
           0.32,
           0.31,
           0.16,
           0.55
          ]
         ]
        }
       ],
       "layout": {
        "coloraxis": {
         "colorscale": [
          [
           0,
           "#0d0887"
          ],
          [
           0.1111111111111111,
           "#46039f"
          ],
          [
           0.2222222222222222,
           "#7201a8"
          ],
          [
           0.3333333333333333,
           "#9c179e"
          ],
          [
           0.4444444444444444,
           "#bd3786"
          ],
          [
           0.5555555555555556,
           "#d8576b"
          ],
          [
           0.6666666666666666,
           "#ed7953"
          ],
          [
           0.7777777777777778,
           "#fb9f3a"
          ],
          [
           0.8888888888888888,
           "#fdca26"
          ],
          [
           1,
           "#f0f921"
          ]
         ]
        },
        "margin": {
         "t": 60
        },
        "template": {
         "data": {
          "bar": [
           {
            "error_x": {
             "color": "#2a3f5f"
            },
            "error_y": {
             "color": "#2a3f5f"
            },
            "marker": {
             "line": {
              "color": "#E5ECF6",
              "width": 0.5
             },
             "pattern": {
              "fillmode": "overlay",
              "size": 10,
              "solidity": 0.2
             }
            },
            "type": "bar"
           }
          ],
          "barpolar": [
           {
            "marker": {
             "line": {
              "color": "#E5ECF6",
              "width": 0.5
             },
             "pattern": {
              "fillmode": "overlay",
              "size": 10,
              "solidity": 0.2
             }
            },
            "type": "barpolar"
           }
          ],
          "carpet": [
           {
            "aaxis": {
             "endlinecolor": "#2a3f5f",
             "gridcolor": "white",
             "linecolor": "white",
             "minorgridcolor": "white",
             "startlinecolor": "#2a3f5f"
            },
            "baxis": {
             "endlinecolor": "#2a3f5f",
             "gridcolor": "white",
             "linecolor": "white",
             "minorgridcolor": "white",
             "startlinecolor": "#2a3f5f"
            },
            "type": "carpet"
           }
          ],
          "choropleth": [
           {
            "colorbar": {
             "outlinewidth": 0,
             "ticks": ""
            },
            "type": "choropleth"
           }
          ],
          "contour": [
           {
            "colorbar": {
             "outlinewidth": 0,
             "ticks": ""
            },
            "colorscale": [
             [
              0,
              "#0d0887"
             ],
             [
              0.1111111111111111,
              "#46039f"
             ],
             [
              0.2222222222222222,
              "#7201a8"
             ],
             [
              0.3333333333333333,
              "#9c179e"
             ],
             [
              0.4444444444444444,
              "#bd3786"
             ],
             [
              0.5555555555555556,
              "#d8576b"
             ],
             [
              0.6666666666666666,
              "#ed7953"
             ],
             [
              0.7777777777777778,
              "#fb9f3a"
             ],
             [
              0.8888888888888888,
              "#fdca26"
             ],
             [
              1,
              "#f0f921"
             ]
            ],
            "type": "contour"
           }
          ],
          "contourcarpet": [
           {
            "colorbar": {
             "outlinewidth": 0,
             "ticks": ""
            },
            "type": "contourcarpet"
           }
          ],
          "heatmap": [
           {
            "colorbar": {
             "outlinewidth": 0,
             "ticks": ""
            },
            "colorscale": [
             [
              0,
              "#0d0887"
             ],
             [
              0.1111111111111111,
              "#46039f"
             ],
             [
              0.2222222222222222,
              "#7201a8"
             ],
             [
              0.3333333333333333,
              "#9c179e"
             ],
             [
              0.4444444444444444,
              "#bd3786"
             ],
             [
              0.5555555555555556,
              "#d8576b"
             ],
             [
              0.6666666666666666,
              "#ed7953"
             ],
             [
              0.7777777777777778,
              "#fb9f3a"
             ],
             [
              0.8888888888888888,
              "#fdca26"
             ],
             [
              1,
              "#f0f921"
             ]
            ],
            "type": "heatmap"
           }
          ],
          "heatmapgl": [
           {
            "colorbar": {
             "outlinewidth": 0,
             "ticks": ""
            },
            "colorscale": [
             [
              0,
              "#0d0887"
             ],
             [
              0.1111111111111111,
              "#46039f"
             ],
             [
              0.2222222222222222,
              "#7201a8"
             ],
             [
              0.3333333333333333,
              "#9c179e"
             ],
             [
              0.4444444444444444,
              "#bd3786"
             ],
             [
              0.5555555555555556,
              "#d8576b"
             ],
             [
              0.6666666666666666,
              "#ed7953"
             ],
             [
              0.7777777777777778,
              "#fb9f3a"
             ],
             [
              0.8888888888888888,
              "#fdca26"
             ],
             [
              1,
              "#f0f921"
             ]
            ],
            "type": "heatmapgl"
           }
          ],
          "histogram": [
           {
            "marker": {
             "pattern": {
              "fillmode": "overlay",
              "size": 10,
              "solidity": 0.2
             }
            },
            "type": "histogram"
           }
          ],
          "histogram2d": [
           {
            "colorbar": {
             "outlinewidth": 0,
             "ticks": ""
            },
            "colorscale": [
             [
              0,
              "#0d0887"
             ],
             [
              0.1111111111111111,
              "#46039f"
             ],
             [
              0.2222222222222222,
              "#7201a8"
             ],
             [
              0.3333333333333333,
              "#9c179e"
             ],
             [
              0.4444444444444444,
              "#bd3786"
             ],
             [
              0.5555555555555556,
              "#d8576b"
             ],
             [
              0.6666666666666666,
              "#ed7953"
             ],
             [
              0.7777777777777778,
              "#fb9f3a"
             ],
             [
              0.8888888888888888,
              "#fdca26"
             ],
             [
              1,
              "#f0f921"
             ]
            ],
            "type": "histogram2d"
           }
          ],
          "histogram2dcontour": [
           {
            "colorbar": {
             "outlinewidth": 0,
             "ticks": ""
            },
            "colorscale": [
             [
              0,
              "#0d0887"
             ],
             [
              0.1111111111111111,
              "#46039f"
             ],
             [
              0.2222222222222222,
              "#7201a8"
             ],
             [
              0.3333333333333333,
              "#9c179e"
             ],
             [
              0.4444444444444444,
              "#bd3786"
             ],
             [
              0.5555555555555556,
              "#d8576b"
             ],
             [
              0.6666666666666666,
              "#ed7953"
             ],
             [
              0.7777777777777778,
              "#fb9f3a"
             ],
             [
              0.8888888888888888,
              "#fdca26"
             ],
             [
              1,
              "#f0f921"
             ]
            ],
            "type": "histogram2dcontour"
           }
          ],
          "mesh3d": [
           {
            "colorbar": {
             "outlinewidth": 0,
             "ticks": ""
            },
            "type": "mesh3d"
           }
          ],
          "parcoords": [
           {
            "line": {
             "colorbar": {
              "outlinewidth": 0,
              "ticks": ""
             }
            },
            "type": "parcoords"
           }
          ],
          "pie": [
           {
            "automargin": true,
            "type": "pie"
           }
          ],
          "scatter": [
           {
            "fillpattern": {
             "fillmode": "overlay",
             "size": 10,
             "solidity": 0.2
            },
            "type": "scatter"
           }
          ],
          "scatter3d": [
           {
            "line": {
             "colorbar": {
              "outlinewidth": 0,
              "ticks": ""
             }
            },
            "marker": {
             "colorbar": {
              "outlinewidth": 0,
              "ticks": ""
             }
            },
            "type": "scatter3d"
           }
          ],
          "scattercarpet": [
           {
            "marker": {
             "colorbar": {
              "outlinewidth": 0,
              "ticks": ""
             }
            },
            "type": "scattercarpet"
           }
          ],
          "scattergeo": [
           {
            "marker": {
             "colorbar": {
              "outlinewidth": 0,
              "ticks": ""
             }
            },
            "type": "scattergeo"
           }
          ],
          "scattergl": [
           {
            "marker": {
             "colorbar": {
              "outlinewidth": 0,
              "ticks": ""
             }
            },
            "type": "scattergl"
           }
          ],
          "scattermapbox": [
           {
            "marker": {
             "colorbar": {
              "outlinewidth": 0,
              "ticks": ""
             }
            },
            "type": "scattermapbox"
           }
          ],
          "scatterpolar": [
           {
            "marker": {
             "colorbar": {
              "outlinewidth": 0,
              "ticks": ""
             }
            },
            "type": "scatterpolar"
           }
          ],
          "scatterpolargl": [
           {
            "marker": {
             "colorbar": {
              "outlinewidth": 0,
              "ticks": ""
             }
            },
            "type": "scatterpolargl"
           }
          ],
          "scatterternary": [
           {
            "marker": {
             "colorbar": {
              "outlinewidth": 0,
              "ticks": ""
             }
            },
            "type": "scatterternary"
           }
          ],
          "surface": [
           {
            "colorbar": {
             "outlinewidth": 0,
             "ticks": ""
            },
            "colorscale": [
             [
              0,
              "#0d0887"
             ],
             [
              0.1111111111111111,
              "#46039f"
             ],
             [
              0.2222222222222222,
              "#7201a8"
             ],
             [
              0.3333333333333333,
              "#9c179e"
             ],
             [
              0.4444444444444444,
              "#bd3786"
             ],
             [
              0.5555555555555556,
              "#d8576b"
             ],
             [
              0.6666666666666666,
              "#ed7953"
             ],
             [
              0.7777777777777778,
              "#fb9f3a"
             ],
             [
              0.8888888888888888,
              "#fdca26"
             ],
             [
              1,
              "#f0f921"
             ]
            ],
            "type": "surface"
           }
          ],
          "table": [
           {
            "cells": {
             "fill": {
              "color": "#EBF0F8"
             },
             "line": {
              "color": "white"
             }
            },
            "header": {
             "fill": {
              "color": "#C8D4E3"
             },
             "line": {
              "color": "white"
             }
            },
            "type": "table"
           }
          ]
         },
         "layout": {
          "annotationdefaults": {
           "arrowcolor": "#2a3f5f",
           "arrowhead": 0,
           "arrowwidth": 1
          },
          "autotypenumbers": "strict",
          "coloraxis": {
           "colorbar": {
            "outlinewidth": 0,
            "ticks": ""
           }
          },
          "colorscale": {
           "diverging": [
            [
             0,
             "#8e0152"
            ],
            [
             0.1,
             "#c51b7d"
            ],
            [
             0.2,
             "#de77ae"
            ],
            [
             0.3,
             "#f1b6da"
            ],
            [
             0.4,
             "#fde0ef"
            ],
            [
             0.5,
             "#f7f7f7"
            ],
            [
             0.6,
             "#e6f5d0"
            ],
            [
             0.7,
             "#b8e186"
            ],
            [
             0.8,
             "#7fbc41"
            ],
            [
             0.9,
             "#4d9221"
            ],
            [
             1,
             "#276419"
            ]
           ],
           "sequential": [
            [
             0,
             "#0d0887"
            ],
            [
             0.1111111111111111,
             "#46039f"
            ],
            [
             0.2222222222222222,
             "#7201a8"
            ],
            [
             0.3333333333333333,
             "#9c179e"
            ],
            [
             0.4444444444444444,
             "#bd3786"
            ],
            [
             0.5555555555555556,
             "#d8576b"
            ],
            [
             0.6666666666666666,
             "#ed7953"
            ],
            [
             0.7777777777777778,
             "#fb9f3a"
            ],
            [
             0.8888888888888888,
             "#fdca26"
            ],
            [
             1,
             "#f0f921"
            ]
           ],
           "sequentialminus": [
            [
             0,
             "#0d0887"
            ],
            [
             0.1111111111111111,
             "#46039f"
            ],
            [
             0.2222222222222222,
             "#7201a8"
            ],
            [
             0.3333333333333333,
             "#9c179e"
            ],
            [
             0.4444444444444444,
             "#bd3786"
            ],
            [
             0.5555555555555556,
             "#d8576b"
            ],
            [
             0.6666666666666666,
             "#ed7953"
            ],
            [
             0.7777777777777778,
             "#fb9f3a"
            ],
            [
             0.8888888888888888,
             "#fdca26"
            ],
            [
             1,
             "#f0f921"
            ]
           ]
          },
          "colorway": [
           "#636efa",
           "#EF553B",
           "#00cc96",
           "#ab63fa",
           "#FFA15A",
           "#19d3f3",
           "#FF6692",
           "#B6E880",
           "#FF97FF",
           "#FECB52"
          ],
          "font": {
           "color": "#2a3f5f"
          },
          "geo": {
           "bgcolor": "white",
           "lakecolor": "white",
           "landcolor": "#E5ECF6",
           "showlakes": true,
           "showland": true,
           "subunitcolor": "white"
          },
          "hoverlabel": {
           "align": "left"
          },
          "hovermode": "closest",
          "mapbox": {
           "style": "light"
          },
          "paper_bgcolor": "white",
          "plot_bgcolor": "#E5ECF6",
          "polar": {
           "angularaxis": {
            "gridcolor": "white",
            "linecolor": "white",
            "ticks": ""
           },
           "bgcolor": "#E5ECF6",
           "radialaxis": {
            "gridcolor": "white",
            "linecolor": "white",
            "ticks": ""
           }
          },
          "scene": {
           "xaxis": {
            "backgroundcolor": "#E5ECF6",
            "gridcolor": "white",
            "gridwidth": 2,
            "linecolor": "white",
            "showbackground": true,
            "ticks": "",
            "zerolinecolor": "white"
           },
           "yaxis": {
            "backgroundcolor": "#E5ECF6",
            "gridcolor": "white",
            "gridwidth": 2,
            "linecolor": "white",
            "showbackground": true,
            "ticks": "",
            "zerolinecolor": "white"
           },
           "zaxis": {
            "backgroundcolor": "#E5ECF6",
            "gridcolor": "white",
            "gridwidth": 2,
            "linecolor": "white",
            "showbackground": true,
            "ticks": "",
            "zerolinecolor": "white"
           }
          },
          "shapedefaults": {
           "line": {
            "color": "#2a3f5f"
           }
          },
          "ternary": {
           "aaxis": {
            "gridcolor": "white",
            "linecolor": "white",
            "ticks": ""
           },
           "baxis": {
            "gridcolor": "white",
            "linecolor": "white",
            "ticks": ""
           },
           "bgcolor": "#E5ECF6",
           "caxis": {
            "gridcolor": "white",
            "linecolor": "white",
            "ticks": ""
           }
          },
          "title": {
           "x": 0.05
          },
          "xaxis": {
           "automargin": true,
           "gridcolor": "white",
           "linecolor": "white",
           "ticks": "",
           "title": {
            "standoff": 15
           },
           "zerolinecolor": "white",
           "zerolinewidth": 2
          },
          "yaxis": {
           "automargin": true,
           "gridcolor": "white",
           "linecolor": "white",
           "ticks": "",
           "title": {
            "standoff": 15
           },
           "zerolinecolor": "white",
           "zerolinewidth": 2
          }
         }
        },
        "xaxis": {
         "anchor": "y",
         "constrain": "domain",
         "domain": [
          0,
          1
         ],
         "scaleanchor": "y",
         "title": {
          "text": "Current Season Stats"
         }
        },
        "yaxis": {
         "anchor": "x",
         "autorange": "reversed",
         "constrain": "domain",
         "domain": [
          0,
          1
         ],
         "title": {
          "text": "Previous Season Stats"
         }
        }
       }
      },
      "text/html": [
       "<div>                            <div id=\"7b0f28a2-0938-4ce8-8b98-645e31ad663e\" class=\"plotly-graph-div\" style=\"height:525px; width:100%;\"></div>            <script type=\"text/javascript\">                require([\"plotly\"], function(Plotly) {                    window.PLOTLYENV=window.PLOTLYENV || {};                                    if (document.getElementById(\"7b0f28a2-0938-4ce8-8b98-645e31ad663e\")) {                    Plotly.newPlot(                        \"7b0f28a2-0938-4ce8-8b98-645e31ad663e\",                        [{\"coloraxis\":\"coloraxis\",\"name\":\"0\",\"texttemplate\":\"%{z}\",\"x\":[\"passing_yards_per_game\",\"passing_attempts_per_game\",\"total_epa_per_game\",\"passing_touchdowns_per_game\",\"completions_per_game\",\"fantasy_points_per_game\"],\"y\":[\"passing_yards_last_per_game\",\"passing_attempts_last_per_game\",\"total_epa_last_per_game\",\"passing_touchdowns_last_per_game\",\"completions_last_per_game\",\"fantasy_points_last_per_game\"],\"z\":[[0.56,0.61,0.22,0.29,0.61,0.12],[0.46,0.63,0.07,0.28,0.57,0.01],[0.35,0.22,0.33,0.21,0.28,0.28],[0.36,0.32,0.23,0.25,0.34,0.24],[0.56,0.65,0.17,0.3,0.68,0.06],[0.25,0.13,0.32,0.31,0.16,0.55]],\"type\":\"heatmap\",\"xaxis\":\"x\",\"yaxis\":\"y\",\"hovertemplate\":\"Current Season Stats: %{x}\\u003cbr\\u003ePrevious Season Stats: %{y}\\u003cbr\\u003ecolor: %{z}\\u003cextra\\u003e\\u003c\\u002fextra\\u003e\"}],                        {\"template\":{\"data\":{\"histogram2dcontour\":[{\"type\":\"histogram2dcontour\",\"colorbar\":{\"outlinewidth\":0,\"ticks\":\"\"},\"colorscale\":[[0.0,\"#0d0887\"],[0.1111111111111111,\"#46039f\"],[0.2222222222222222,\"#7201a8\"],[0.3333333333333333,\"#9c179e\"],[0.4444444444444444,\"#bd3786\"],[0.5555555555555556,\"#d8576b\"],[0.6666666666666666,\"#ed7953\"],[0.7777777777777778,\"#fb9f3a\"],[0.8888888888888888,\"#fdca26\"],[1.0,\"#f0f921\"]]}],\"choropleth\":[{\"type\":\"choropleth\",\"colorbar\":{\"outlinewidth\":0,\"ticks\":\"\"}}],\"histogram2d\":[{\"type\":\"histogram2d\",\"colorbar\":{\"outlinewidth\":0,\"ticks\":\"\"},\"colorscale\":[[0.0,\"#0d0887\"],[0.1111111111111111,\"#46039f\"],[0.2222222222222222,\"#7201a8\"],[0.3333333333333333,\"#9c179e\"],[0.4444444444444444,\"#bd3786\"],[0.5555555555555556,\"#d8576b\"],[0.6666666666666666,\"#ed7953\"],[0.7777777777777778,\"#fb9f3a\"],[0.8888888888888888,\"#fdca26\"],[1.0,\"#f0f921\"]]}],\"heatmap\":[{\"type\":\"heatmap\",\"colorbar\":{\"outlinewidth\":0,\"ticks\":\"\"},\"colorscale\":[[0.0,\"#0d0887\"],[0.1111111111111111,\"#46039f\"],[0.2222222222222222,\"#7201a8\"],[0.3333333333333333,\"#9c179e\"],[0.4444444444444444,\"#bd3786\"],[0.5555555555555556,\"#d8576b\"],[0.6666666666666666,\"#ed7953\"],[0.7777777777777778,\"#fb9f3a\"],[0.8888888888888888,\"#fdca26\"],[1.0,\"#f0f921\"]]}],\"heatmapgl\":[{\"type\":\"heatmapgl\",\"colorbar\":{\"outlinewidth\":0,\"ticks\":\"\"},\"colorscale\":[[0.0,\"#0d0887\"],[0.1111111111111111,\"#46039f\"],[0.2222222222222222,\"#7201a8\"],[0.3333333333333333,\"#9c179e\"],[0.4444444444444444,\"#bd3786\"],[0.5555555555555556,\"#d8576b\"],[0.6666666666666666,\"#ed7953\"],[0.7777777777777778,\"#fb9f3a\"],[0.8888888888888888,\"#fdca26\"],[1.0,\"#f0f921\"]]}],\"contourcarpet\":[{\"type\":\"contourcarpet\",\"colorbar\":{\"outlinewidth\":0,\"ticks\":\"\"}}],\"contour\":[{\"type\":\"contour\",\"colorbar\":{\"outlinewidth\":0,\"ticks\":\"\"},\"colorscale\":[[0.0,\"#0d0887\"],[0.1111111111111111,\"#46039f\"],[0.2222222222222222,\"#7201a8\"],[0.3333333333333333,\"#9c179e\"],[0.4444444444444444,\"#bd3786\"],[0.5555555555555556,\"#d8576b\"],[0.6666666666666666,\"#ed7953\"],[0.7777777777777778,\"#fb9f3a\"],[0.8888888888888888,\"#fdca26\"],[1.0,\"#f0f921\"]]}],\"surface\":[{\"type\":\"surface\",\"colorbar\":{\"outlinewidth\":0,\"ticks\":\"\"},\"colorscale\":[[0.0,\"#0d0887\"],[0.1111111111111111,\"#46039f\"],[0.2222222222222222,\"#7201a8\"],[0.3333333333333333,\"#9c179e\"],[0.4444444444444444,\"#bd3786\"],[0.5555555555555556,\"#d8576b\"],[0.6666666666666666,\"#ed7953\"],[0.7777777777777778,\"#fb9f3a\"],[0.8888888888888888,\"#fdca26\"],[1.0,\"#f0f921\"]]}],\"mesh3d\":[{\"type\":\"mesh3d\",\"colorbar\":{\"outlinewidth\":0,\"ticks\":\"\"}}],\"scatter\":[{\"fillpattern\":{\"fillmode\":\"overlay\",\"size\":10,\"solidity\":0.2},\"type\":\"scatter\"}],\"parcoords\":[{\"type\":\"parcoords\",\"line\":{\"colorbar\":{\"outlinewidth\":0,\"ticks\":\"\"}}}],\"scatterpolargl\":[{\"type\":\"scatterpolargl\",\"marker\":{\"colorbar\":{\"outlinewidth\":0,\"ticks\":\"\"}}}],\"bar\":[{\"error_x\":{\"color\":\"#2a3f5f\"},\"error_y\":{\"color\":\"#2a3f5f\"},\"marker\":{\"line\":{\"color\":\"#E5ECF6\",\"width\":0.5},\"pattern\":{\"fillmode\":\"overlay\",\"size\":10,\"solidity\":0.2}},\"type\":\"bar\"}],\"scattergeo\":[{\"type\":\"scattergeo\",\"marker\":{\"colorbar\":{\"outlinewidth\":0,\"ticks\":\"\"}}}],\"scatterpolar\":[{\"type\":\"scatterpolar\",\"marker\":{\"colorbar\":{\"outlinewidth\":0,\"ticks\":\"\"}}}],\"histogram\":[{\"marker\":{\"pattern\":{\"fillmode\":\"overlay\",\"size\":10,\"solidity\":0.2}},\"type\":\"histogram\"}],\"scattergl\":[{\"type\":\"scattergl\",\"marker\":{\"colorbar\":{\"outlinewidth\":0,\"ticks\":\"\"}}}],\"scatter3d\":[{\"type\":\"scatter3d\",\"line\":{\"colorbar\":{\"outlinewidth\":0,\"ticks\":\"\"}},\"marker\":{\"colorbar\":{\"outlinewidth\":0,\"ticks\":\"\"}}}],\"scattermapbox\":[{\"type\":\"scattermapbox\",\"marker\":{\"colorbar\":{\"outlinewidth\":0,\"ticks\":\"\"}}}],\"scatterternary\":[{\"type\":\"scatterternary\",\"marker\":{\"colorbar\":{\"outlinewidth\":0,\"ticks\":\"\"}}}],\"scattercarpet\":[{\"type\":\"scattercarpet\",\"marker\":{\"colorbar\":{\"outlinewidth\":0,\"ticks\":\"\"}}}],\"carpet\":[{\"aaxis\":{\"endlinecolor\":\"#2a3f5f\",\"gridcolor\":\"white\",\"linecolor\":\"white\",\"minorgridcolor\":\"white\",\"startlinecolor\":\"#2a3f5f\"},\"baxis\":{\"endlinecolor\":\"#2a3f5f\",\"gridcolor\":\"white\",\"linecolor\":\"white\",\"minorgridcolor\":\"white\",\"startlinecolor\":\"#2a3f5f\"},\"type\":\"carpet\"}],\"table\":[{\"cells\":{\"fill\":{\"color\":\"#EBF0F8\"},\"line\":{\"color\":\"white\"}},\"header\":{\"fill\":{\"color\":\"#C8D4E3\"},\"line\":{\"color\":\"white\"}},\"type\":\"table\"}],\"barpolar\":[{\"marker\":{\"line\":{\"color\":\"#E5ECF6\",\"width\":0.5},\"pattern\":{\"fillmode\":\"overlay\",\"size\":10,\"solidity\":0.2}},\"type\":\"barpolar\"}],\"pie\":[{\"automargin\":true,\"type\":\"pie\"}]},\"layout\":{\"autotypenumbers\":\"strict\",\"colorway\":[\"#636efa\",\"#EF553B\",\"#00cc96\",\"#ab63fa\",\"#FFA15A\",\"#19d3f3\",\"#FF6692\",\"#B6E880\",\"#FF97FF\",\"#FECB52\"],\"font\":{\"color\":\"#2a3f5f\"},\"hovermode\":\"closest\",\"hoverlabel\":{\"align\":\"left\"},\"paper_bgcolor\":\"white\",\"plot_bgcolor\":\"#E5ECF6\",\"polar\":{\"bgcolor\":\"#E5ECF6\",\"angularaxis\":{\"gridcolor\":\"white\",\"linecolor\":\"white\",\"ticks\":\"\"},\"radialaxis\":{\"gridcolor\":\"white\",\"linecolor\":\"white\",\"ticks\":\"\"}},\"ternary\":{\"bgcolor\":\"#E5ECF6\",\"aaxis\":{\"gridcolor\":\"white\",\"linecolor\":\"white\",\"ticks\":\"\"},\"baxis\":{\"gridcolor\":\"white\",\"linecolor\":\"white\",\"ticks\":\"\"},\"caxis\":{\"gridcolor\":\"white\",\"linecolor\":\"white\",\"ticks\":\"\"}},\"coloraxis\":{\"colorbar\":{\"outlinewidth\":0,\"ticks\":\"\"}},\"colorscale\":{\"sequential\":[[0.0,\"#0d0887\"],[0.1111111111111111,\"#46039f\"],[0.2222222222222222,\"#7201a8\"],[0.3333333333333333,\"#9c179e\"],[0.4444444444444444,\"#bd3786\"],[0.5555555555555556,\"#d8576b\"],[0.6666666666666666,\"#ed7953\"],[0.7777777777777778,\"#fb9f3a\"],[0.8888888888888888,\"#fdca26\"],[1.0,\"#f0f921\"]],\"sequentialminus\":[[0.0,\"#0d0887\"],[0.1111111111111111,\"#46039f\"],[0.2222222222222222,\"#7201a8\"],[0.3333333333333333,\"#9c179e\"],[0.4444444444444444,\"#bd3786\"],[0.5555555555555556,\"#d8576b\"],[0.6666666666666666,\"#ed7953\"],[0.7777777777777778,\"#fb9f3a\"],[0.8888888888888888,\"#fdca26\"],[1.0,\"#f0f921\"]],\"diverging\":[[0,\"#8e0152\"],[0.1,\"#c51b7d\"],[0.2,\"#de77ae\"],[0.3,\"#f1b6da\"],[0.4,\"#fde0ef\"],[0.5,\"#f7f7f7\"],[0.6,\"#e6f5d0\"],[0.7,\"#b8e186\"],[0.8,\"#7fbc41\"],[0.9,\"#4d9221\"],[1,\"#276419\"]]},\"xaxis\":{\"gridcolor\":\"white\",\"linecolor\":\"white\",\"ticks\":\"\",\"title\":{\"standoff\":15},\"zerolinecolor\":\"white\",\"automargin\":true,\"zerolinewidth\":2},\"yaxis\":{\"gridcolor\":\"white\",\"linecolor\":\"white\",\"ticks\":\"\",\"title\":{\"standoff\":15},\"zerolinecolor\":\"white\",\"automargin\":true,\"zerolinewidth\":2},\"scene\":{\"xaxis\":{\"backgroundcolor\":\"#E5ECF6\",\"gridcolor\":\"white\",\"linecolor\":\"white\",\"showbackground\":true,\"ticks\":\"\",\"zerolinecolor\":\"white\",\"gridwidth\":2},\"yaxis\":{\"backgroundcolor\":\"#E5ECF6\",\"gridcolor\":\"white\",\"linecolor\":\"white\",\"showbackground\":true,\"ticks\":\"\",\"zerolinecolor\":\"white\",\"gridwidth\":2},\"zaxis\":{\"backgroundcolor\":\"#E5ECF6\",\"gridcolor\":\"white\",\"linecolor\":\"white\",\"showbackground\":true,\"ticks\":\"\",\"zerolinecolor\":\"white\",\"gridwidth\":2}},\"shapedefaults\":{\"line\":{\"color\":\"#2a3f5f\"}},\"annotationdefaults\":{\"arrowcolor\":\"#2a3f5f\",\"arrowhead\":0,\"arrowwidth\":1},\"geo\":{\"bgcolor\":\"white\",\"landcolor\":\"#E5ECF6\",\"subunitcolor\":\"white\",\"showland\":true,\"showlakes\":true,\"lakecolor\":\"white\"},\"title\":{\"x\":0.05},\"mapbox\":{\"style\":\"light\"}}},\"xaxis\":{\"anchor\":\"y\",\"domain\":[0.0,1.0],\"scaleanchor\":\"y\",\"constrain\":\"domain\",\"title\":{\"text\":\"Current Season Stats\"}},\"yaxis\":{\"anchor\":\"x\",\"domain\":[0.0,1.0],\"autorange\":\"reversed\",\"constrain\":\"domain\",\"title\":{\"text\":\"Previous Season Stats\"}},\"coloraxis\":{\"colorscale\":[[0.0,\"#0d0887\"],[0.1111111111111111,\"#46039f\"],[0.2222222222222222,\"#7201a8\"],[0.3333333333333333,\"#9c179e\"],[0.4444444444444444,\"#bd3786\"],[0.5555555555555556,\"#d8576b\"],[0.6666666666666666,\"#ed7953\"],[0.7777777777777778,\"#fb9f3a\"],[0.8888888888888888,\"#fdca26\"],[1.0,\"#f0f921\"]]},\"margin\":{\"t\":60}},                        {\"responsive\": true}                    ).then(function(){\n",
       "                            \n",
       "var gd = document.getElementById('7b0f28a2-0938-4ce8-8b98-645e31ad663e');\n",
       "var x = new MutationObserver(function (mutations, observer) {{\n",
       "        var display = window.getComputedStyle(gd).display;\n",
       "        if (!display || display === 'none') {{\n",
       "            console.log([gd, 'removed!']);\n",
       "            Plotly.purge(gd);\n",
       "            observer.disconnect();\n",
       "        }}\n",
       "}});\n",
       "\n",
       "// Listen for the removal of the full notebook cells\n",
       "var notebookContainer = gd.closest('#notebook-container');\n",
       "if (notebookContainer) {{\n",
       "    x.observe(notebookContainer, {childList: true});\n",
       "}}\n",
       "\n",
       "// Listen for the clearing of the current output cell\n",
       "var outputEl = gd.closest('.output');\n",
       "if (outputEl) {{\n",
       "    x.observe(outputEl, {childList: true});\n",
       "}}\n",
       "\n",
       "                        })                };                });            </script>        </div>"
      ]
     },
     "metadata": {},
     "output_type": "display_data"
    },
    {
     "name": "stdout",
     "output_type": "stream",
     "text": [
      "\n",
      "Save path: young-scatter-completions_per_game\n",
      "\n"
     ]
    },
    {
     "data": {
      "application/vnd.plotly.v1+json": {
       "config": {
        "plotlyServerURL": "https://plot.ly"
       },
       "data": [
        {
         "customdata": [
          [
           "A.Smith",
           2014,
           30
          ],
          [
           "M.Ryan",
           2013,
           28
          ],
          [
           "M.Ryan",
           2014,
           29
          ],
          [
           "M.Ryan",
           2015,
           30
          ],
          [
           "J.Flacco",
           2013,
           28
          ],
          [
           "J.Flacco",
           2014,
           29
          ],
          [
           "M.Stafford",
           2013,
           25
          ],
          [
           "M.Stafford",
           2014,
           26
          ],
          [
           "M.Stafford",
           2015,
           27
          ],
          [
           "M.Stafford",
           2016,
           28
          ],
          [
           "M.Stafford",
           2017,
           29
          ],
          [
           "M.Stafford",
           2018,
           30
          ],
          [
           "S.Bradford",
           2016,
           28
          ],
          [
           "C.Newton",
           2013,
           24
          ],
          [
           "C.Newton",
           2014,
           25
          ],
          [
           "C.Newton",
           2015,
           26
          ],
          [
           "C.Newton",
           2016,
           27
          ],
          [
           "C.Newton",
           2017,
           28
          ],
          [
           "C.Newton",
           2018,
           29
          ],
          [
           "A.Dalton",
           2013,
           25
          ],
          [
           "A.Dalton",
           2014,
           26
          ],
          [
           "A.Dalton",
           2015,
           27
          ],
          [
           "A.Dalton",
           2016,
           28
          ],
          [
           "A.Dalton",
           2017,
           29
          ],
          [
           "C.Kaepernick",
           2014,
           26
          ],
          [
           "T.Taylor",
           2016,
           27
          ],
          [
           "T.Taylor",
           2017,
           28
          ],
          [
           "C.Keenum",
           2018,
           30
          ],
          [
           "R.Wilson",
           2013,
           24
          ],
          [
           "R.Wilson",
           2014,
           25
          ],
          [
           "R.Wilson",
           2015,
           26
          ],
          [
           "R.Wilson",
           2016,
           27
          ],
          [
           "R.Wilson",
           2017,
           28
          ],
          [
           "R.Wilson",
           2018,
           29
          ],
          [
           "R.Wilson",
           2019,
           30
          ],
          [
           "K.Cousins",
           2016,
           28
          ],
          [
           "K.Cousins",
           2017,
           29
          ],
          [
           "K.Cousins",
           2018,
           30
          ],
          [
           "R.Griffin III",
           2013,
           23
          ],
          [
           "A.Luck",
           2013,
           23
          ],
          [
           "A.Luck",
           2014,
           24
          ],
          [
           "R.Tannehill",
           2013,
           25
          ],
          [
           "R.Tannehill",
           2014,
           26
          ],
          [
           "R.Tannehill",
           2015,
           27
          ],
          [
           "R.Tannehill",
           2016,
           28
          ],
          [
           "G.Smith",
           2014,
           23
          ],
          [
           "T.Bridgewater",
           2015,
           22
          ],
          [
           "T.Bridgewater",
           2021,
           28
          ],
          [
           "D.Carr",
           2015,
           24
          ],
          [
           "D.Carr",
           2016,
           25
          ],
          [
           "D.Carr",
           2017,
           26
          ],
          [
           "D.Carr",
           2018,
           27
          ],
          [
           "D.Carr",
           2019,
           28
          ],
          [
           "D.Carr",
           2020,
           29
          ],
          [
           "D.Carr",
           2021,
           30
          ],
          [
           "B.Bortles",
           2015,
           23
          ],
          [
           "B.Bortles",
           2016,
           24
          ],
          [
           "B.Bortles",
           2017,
           25
          ],
          [
           "B.Bortles",
           2018,
           26
          ],
          [
           "J.Winston",
           2016,
           22
          ],
          [
           "J.Winston",
           2017,
           23
          ],
          [
           "M.Mariota",
           2016,
           22
          ],
          [
           "M.Mariota",
           2017,
           23
          ],
          [
           "M.Mariota",
           2018,
           24
          ],
          [
           "C.Wentz",
           2017,
           24
          ],
          [
           "C.Wentz",
           2020,
           27
          ],
          [
           "C.Wentz",
           2021,
           28
          ],
          [
           "D.Prescott",
           2017,
           24
          ],
          [
           "D.Prescott",
           2018,
           25
          ],
          [
           "D.Prescott",
           2019,
           26
          ],
          [
           "D.Prescott",
           2022,
           29
          ],
          [
           "J.Goff",
           2018,
           23
          ],
          [
           "J.Goff",
           2019,
           24
          ],
          [
           "J.Goff",
           2020,
           25
          ],
          [
           "J.Goff",
           2021,
           26
          ],
          [
           "J.Goff",
           2022,
           27
          ],
          [
           "D.Watson",
           2019,
           23
          ],
          [
           "D.Watson",
           2020,
           24
          ],
          [
           "M.Trubisky",
           2018,
           24
          ],
          [
           "M.Trubisky",
           2019,
           25
          ],
          [
           "P.Mahomes",
           2019,
           23
          ],
          [
           "P.Mahomes",
           2020,
           24
          ],
          [
           "P.Mahomes",
           2021,
           25
          ],
          [
           "P.Mahomes",
           2022,
           26
          ],
          [
           "L.Jackson",
           2020,
           23
          ],
          [
           "L.Jackson",
           2021,
           24
          ],
          [
           "L.Jackson",
           2022,
           25
          ],
          [
           "B.Mayfield",
           2019,
           24
          ],
          [
           "B.Mayfield",
           2020,
           25
          ],
          [
           "B.Mayfield",
           2021,
           26
          ],
          [
           "B.Mayfield",
           2022,
           27
          ],
          [
           "J.Allen",
           2019,
           23
          ],
          [
           "J.Allen",
           2020,
           24
          ],
          [
           "J.Allen",
           2021,
           25
          ],
          [
           "J.Allen",
           2022,
           26
          ],
          [
           "S.Darnold",
           2019,
           22
          ],
          [
           "S.Darnold",
           2020,
           23
          ],
          [
           "S.Darnold",
           2021,
           24
          ],
          [
           "K.Murray",
           2020,
           23
          ],
          [
           "K.Murray",
           2021,
           24
          ],
          [
           "D.Jones",
           2020,
           23
          ],
          [
           "T.Tagovailoa",
           2022,
           24
          ],
          [
           "J.Herbert",
           2021,
           23
          ],
          [
           "J.Herbert",
           2022,
           24
          ],
          [
           "J.Hurts",
           2022,
           24
          ],
          [
           "J.Burrow",
           2022,
           25
          ],
          [
           "D.Mills",
           2022,
           23
          ],
          [
           "T.Lawrence",
           2022,
           22
          ],
          [
           "M.Jones",
           2022,
           23
          ]
         ],
         "hovertemplate": "completions_last_per_game=%{x}<br>completions_per_game=%{y}<br>passer=%{customdata[0]}<br>season=%{customdata[1]}<br>age=%{customdata[2]}<extra></extra>",
         "legendgroup": "",
         "marker": {
          "color": "#636efa",
          "symbol": "circle"
         },
         "mode": "markers",
         "name": "",
         "orientation": "v",
         "showlegend": false,
         "type": "scatter",
         "x": [
          20.533333333333335,
          26.3125,
          27.4375,
          25.9375,
          19.8125,
          22.5625,
          27.1875,
          23.1875,
          22.6875,
          24.875,
          24.25,
          23.1875,
          24.714285714285715,
          17.5,
          18.25,
          18.714285714285715,
          18.5,
          18,
          18.1875,
          20.5625,
          22.6875,
          19.3125,
          19.615384615384617,
          22.75,
          15.1875,
          17.214285714285715,
          17.933333333333334,
          21.666666666666668,
          15.75,
          16.0625,
          17.8125,
          20.5625,
          22.0625,
          21.1875,
          17.5,
          23.6875,
          25.375,
          21.6875,
          17.2,
          21.1875,
          21.4375,
          17.625,
          22.1875,
          24.5,
          22.6875,
          15.4375,
          19.923076923076923,
          22.666666666666668,
          21.75,
          21.875,
          23.8,
          21.533333333333335,
          23.8125,
          22.5625,
          21.75,
          20,
          22.1875,
          23,
          19.6875,
          19.5,
          21.5625,
          19.166666666666668,
          18.4,
          18.733333333333334,
          23.6875,
          24.25,
          20.916666666666668,
          19.4375,
          19.25,
          22.25,
          25.625,
          19.733333333333334,
          22.75,
          24.625,
          24.666666666666668,
          23.714285714285715,
          21.5625,
          22.2,
          16.333333333333332,
          20.642857142857142,
          23.9375,
          22.785714285714285,
          26,
          25.647058823529413,
          17.666666666666668,
          16.133333333333333,
          20.5,
          22.142857142857142,
          19.8125,
          19.0625,
          18.071428571428573,
          14.083333333333334,
          16.9375,
          24.75,
          24.058823529411764,
          18.384615384615383,
          21,
          18.083333333333332,
          21.8125,
          23.4375,
          21.846153846153847,
          20.23076923076923,
          26.4,
          26.058823529411764,
          17.666666666666668,
          22.875,
          20.23076923076923,
          21.058823529411764,
          20.705882352941178
         ],
         "xaxis": "x",
         "y": [
          20.2,
          27.4375,
          25.9375,
          25.4375,
          22.5625,
          21.5,
          23.1875,
          22.6875,
          24.875,
          24.25,
          23.1875,
          22.9375,
          26.333333333333332,
          18.25,
          18.714285714285715,
          18.5,
          18,
          18.1875,
          22.857142857142858,
          22.6875,
          19.3125,
          19.615384615384617,
          22.75,
          18.5625,
          18.0625,
          17.933333333333334,
          17.533333333333335,
          22.8125,
          16.0625,
          17.8125,
          20.5625,
          22.0625,
          21.1875,
          17.5,
          21.3125,
          25.375,
          21.6875,
          26.5625,
          21.076923076923077,
          21.4375,
          23.75,
          22.1875,
          24.5,
          22.6875,
          20.076923076923077,
          15.642857142857142,
          18.25,
          20.357142857142858,
          21.875,
          23.8,
          21.533333333333335,
          23.8125,
          22.5625,
          21.75,
          25.176470588235293,
          22.1875,
          23,
          19.6875,
          18.692307692307693,
          21.5625,
          21.692307692307693,
          18.4,
          18.733333333333334,
          16.285714285714285,
          20.384615384615383,
          20.916666666666668,
          18.941176470588236,
          19.25,
          22.25,
          24.25,
          21.75,
          22.75,
          24.625,
          24.666666666666668,
          23.714285714285715,
          22.470588235294116,
          22.2,
          23.875,
          20.642857142857142,
          21.733333333333334,
          22.785714285714285,
          26,
          25.647058823529413,
          25.58823529411765,
          16.133333333333333,
          20.5,
          16.916666666666668,
          19.8125,
          19.0625,
          18.071428571428573,
          16.75,
          16.9375,
          24.75,
          24.058823529411764,
          22.4375,
          21,
          18.083333333333332,
          20.166666666666668,
          23.4375,
          23.785714285714285,
          20,
          19.923076923076923,
          26.058823529411764,
          28.058823529411764,
          20.4,
          25.875,
          19.466666666666665,
          22.764705882352942,
          20.571428571428573
         ],
         "yaxis": "y"
        }
       ],
       "layout": {
        "legend": {
         "tracegroupgap": 0
        },
        "margin": {
         "t": 60
        },
        "template": {
         "data": {
          "bar": [
           {
            "error_x": {
             "color": "#2a3f5f"
            },
            "error_y": {
             "color": "#2a3f5f"
            },
            "marker": {
             "line": {
              "color": "#E5ECF6",
              "width": 0.5
             },
             "pattern": {
              "fillmode": "overlay",
              "size": 10,
              "solidity": 0.2
             }
            },
            "type": "bar"
           }
          ],
          "barpolar": [
           {
            "marker": {
             "line": {
              "color": "#E5ECF6",
              "width": 0.5
             },
             "pattern": {
              "fillmode": "overlay",
              "size": 10,
              "solidity": 0.2
             }
            },
            "type": "barpolar"
           }
          ],
          "carpet": [
           {
            "aaxis": {
             "endlinecolor": "#2a3f5f",
             "gridcolor": "white",
             "linecolor": "white",
             "minorgridcolor": "white",
             "startlinecolor": "#2a3f5f"
            },
            "baxis": {
             "endlinecolor": "#2a3f5f",
             "gridcolor": "white",
             "linecolor": "white",
             "minorgridcolor": "white",
             "startlinecolor": "#2a3f5f"
            },
            "type": "carpet"
           }
          ],
          "choropleth": [
           {
            "colorbar": {
             "outlinewidth": 0,
             "ticks": ""
            },
            "type": "choropleth"
           }
          ],
          "contour": [
           {
            "colorbar": {
             "outlinewidth": 0,
             "ticks": ""
            },
            "colorscale": [
             [
              0,
              "#0d0887"
             ],
             [
              0.1111111111111111,
              "#46039f"
             ],
             [
              0.2222222222222222,
              "#7201a8"
             ],
             [
              0.3333333333333333,
              "#9c179e"
             ],
             [
              0.4444444444444444,
              "#bd3786"
             ],
             [
              0.5555555555555556,
              "#d8576b"
             ],
             [
              0.6666666666666666,
              "#ed7953"
             ],
             [
              0.7777777777777778,
              "#fb9f3a"
             ],
             [
              0.8888888888888888,
              "#fdca26"
             ],
             [
              1,
              "#f0f921"
             ]
            ],
            "type": "contour"
           }
          ],
          "contourcarpet": [
           {
            "colorbar": {
             "outlinewidth": 0,
             "ticks": ""
            },
            "type": "contourcarpet"
           }
          ],
          "heatmap": [
           {
            "colorbar": {
             "outlinewidth": 0,
             "ticks": ""
            },
            "colorscale": [
             [
              0,
              "#0d0887"
             ],
             [
              0.1111111111111111,
              "#46039f"
             ],
             [
              0.2222222222222222,
              "#7201a8"
             ],
             [
              0.3333333333333333,
              "#9c179e"
             ],
             [
              0.4444444444444444,
              "#bd3786"
             ],
             [
              0.5555555555555556,
              "#d8576b"
             ],
             [
              0.6666666666666666,
              "#ed7953"
             ],
             [
              0.7777777777777778,
              "#fb9f3a"
             ],
             [
              0.8888888888888888,
              "#fdca26"
             ],
             [
              1,
              "#f0f921"
             ]
            ],
            "type": "heatmap"
           }
          ],
          "heatmapgl": [
           {
            "colorbar": {
             "outlinewidth": 0,
             "ticks": ""
            },
            "colorscale": [
             [
              0,
              "#0d0887"
             ],
             [
              0.1111111111111111,
              "#46039f"
             ],
             [
              0.2222222222222222,
              "#7201a8"
             ],
             [
              0.3333333333333333,
              "#9c179e"
             ],
             [
              0.4444444444444444,
              "#bd3786"
             ],
             [
              0.5555555555555556,
              "#d8576b"
             ],
             [
              0.6666666666666666,
              "#ed7953"
             ],
             [
              0.7777777777777778,
              "#fb9f3a"
             ],
             [
              0.8888888888888888,
              "#fdca26"
             ],
             [
              1,
              "#f0f921"
             ]
            ],
            "type": "heatmapgl"
           }
          ],
          "histogram": [
           {
            "marker": {
             "pattern": {
              "fillmode": "overlay",
              "size": 10,
              "solidity": 0.2
             }
            },
            "type": "histogram"
           }
          ],
          "histogram2d": [
           {
            "colorbar": {
             "outlinewidth": 0,
             "ticks": ""
            },
            "colorscale": [
             [
              0,
              "#0d0887"
             ],
             [
              0.1111111111111111,
              "#46039f"
             ],
             [
              0.2222222222222222,
              "#7201a8"
             ],
             [
              0.3333333333333333,
              "#9c179e"
             ],
             [
              0.4444444444444444,
              "#bd3786"
             ],
             [
              0.5555555555555556,
              "#d8576b"
             ],
             [
              0.6666666666666666,
              "#ed7953"
             ],
             [
              0.7777777777777778,
              "#fb9f3a"
             ],
             [
              0.8888888888888888,
              "#fdca26"
             ],
             [
              1,
              "#f0f921"
             ]
            ],
            "type": "histogram2d"
           }
          ],
          "histogram2dcontour": [
           {
            "colorbar": {
             "outlinewidth": 0,
             "ticks": ""
            },
            "colorscale": [
             [
              0,
              "#0d0887"
             ],
             [
              0.1111111111111111,
              "#46039f"
             ],
             [
              0.2222222222222222,
              "#7201a8"
             ],
             [
              0.3333333333333333,
              "#9c179e"
             ],
             [
              0.4444444444444444,
              "#bd3786"
             ],
             [
              0.5555555555555556,
              "#d8576b"
             ],
             [
              0.6666666666666666,
              "#ed7953"
             ],
             [
              0.7777777777777778,
              "#fb9f3a"
             ],
             [
              0.8888888888888888,
              "#fdca26"
             ],
             [
              1,
              "#f0f921"
             ]
            ],
            "type": "histogram2dcontour"
           }
          ],
          "mesh3d": [
           {
            "colorbar": {
             "outlinewidth": 0,
             "ticks": ""
            },
            "type": "mesh3d"
           }
          ],
          "parcoords": [
           {
            "line": {
             "colorbar": {
              "outlinewidth": 0,
              "ticks": ""
             }
            },
            "type": "parcoords"
           }
          ],
          "pie": [
           {
            "automargin": true,
            "type": "pie"
           }
          ],
          "scatter": [
           {
            "fillpattern": {
             "fillmode": "overlay",
             "size": 10,
             "solidity": 0.2
            },
            "type": "scatter"
           }
          ],
          "scatter3d": [
           {
            "line": {
             "colorbar": {
              "outlinewidth": 0,
              "ticks": ""
             }
            },
            "marker": {
             "colorbar": {
              "outlinewidth": 0,
              "ticks": ""
             }
            },
            "type": "scatter3d"
           }
          ],
          "scattercarpet": [
           {
            "marker": {
             "colorbar": {
              "outlinewidth": 0,
              "ticks": ""
             }
            },
            "type": "scattercarpet"
           }
          ],
          "scattergeo": [
           {
            "marker": {
             "colorbar": {
              "outlinewidth": 0,
              "ticks": ""
             }
            },
            "type": "scattergeo"
           }
          ],
          "scattergl": [
           {
            "marker": {
             "colorbar": {
              "outlinewidth": 0,
              "ticks": ""
             }
            },
            "type": "scattergl"
           }
          ],
          "scattermapbox": [
           {
            "marker": {
             "colorbar": {
              "outlinewidth": 0,
              "ticks": ""
             }
            },
            "type": "scattermapbox"
           }
          ],
          "scatterpolar": [
           {
            "marker": {
             "colorbar": {
              "outlinewidth": 0,
              "ticks": ""
             }
            },
            "type": "scatterpolar"
           }
          ],
          "scatterpolargl": [
           {
            "marker": {
             "colorbar": {
              "outlinewidth": 0,
              "ticks": ""
             }
            },
            "type": "scatterpolargl"
           }
          ],
          "scatterternary": [
           {
            "marker": {
             "colorbar": {
              "outlinewidth": 0,
              "ticks": ""
             }
            },
            "type": "scatterternary"
           }
          ],
          "surface": [
           {
            "colorbar": {
             "outlinewidth": 0,
             "ticks": ""
            },
            "colorscale": [
             [
              0,
              "#0d0887"
             ],
             [
              0.1111111111111111,
              "#46039f"
             ],
             [
              0.2222222222222222,
              "#7201a8"
             ],
             [
              0.3333333333333333,
              "#9c179e"
             ],
             [
              0.4444444444444444,
              "#bd3786"
             ],
             [
              0.5555555555555556,
              "#d8576b"
             ],
             [
              0.6666666666666666,
              "#ed7953"
             ],
             [
              0.7777777777777778,
              "#fb9f3a"
             ],
             [
              0.8888888888888888,
              "#fdca26"
             ],
             [
              1,
              "#f0f921"
             ]
            ],
            "type": "surface"
           }
          ],
          "table": [
           {
            "cells": {
             "fill": {
              "color": "#EBF0F8"
             },
             "line": {
              "color": "white"
             }
            },
            "header": {
             "fill": {
              "color": "#C8D4E3"
             },
             "line": {
              "color": "white"
             }
            },
            "type": "table"
           }
          ]
         },
         "layout": {
          "annotationdefaults": {
           "arrowcolor": "#2a3f5f",
           "arrowhead": 0,
           "arrowwidth": 1
          },
          "autotypenumbers": "strict",
          "coloraxis": {
           "colorbar": {
            "outlinewidth": 0,
            "ticks": ""
           }
          },
          "colorscale": {
           "diverging": [
            [
             0,
             "#8e0152"
            ],
            [
             0.1,
             "#c51b7d"
            ],
            [
             0.2,
             "#de77ae"
            ],
            [
             0.3,
             "#f1b6da"
            ],
            [
             0.4,
             "#fde0ef"
            ],
            [
             0.5,
             "#f7f7f7"
            ],
            [
             0.6,
             "#e6f5d0"
            ],
            [
             0.7,
             "#b8e186"
            ],
            [
             0.8,
             "#7fbc41"
            ],
            [
             0.9,
             "#4d9221"
            ],
            [
             1,
             "#276419"
            ]
           ],
           "sequential": [
            [
             0,
             "#0d0887"
            ],
            [
             0.1111111111111111,
             "#46039f"
            ],
            [
             0.2222222222222222,
             "#7201a8"
            ],
            [
             0.3333333333333333,
             "#9c179e"
            ],
            [
             0.4444444444444444,
             "#bd3786"
            ],
            [
             0.5555555555555556,
             "#d8576b"
            ],
            [
             0.6666666666666666,
             "#ed7953"
            ],
            [
             0.7777777777777778,
             "#fb9f3a"
            ],
            [
             0.8888888888888888,
             "#fdca26"
            ],
            [
             1,
             "#f0f921"
            ]
           ],
           "sequentialminus": [
            [
             0,
             "#0d0887"
            ],
            [
             0.1111111111111111,
             "#46039f"
            ],
            [
             0.2222222222222222,
             "#7201a8"
            ],
            [
             0.3333333333333333,
             "#9c179e"
            ],
            [
             0.4444444444444444,
             "#bd3786"
            ],
            [
             0.5555555555555556,
             "#d8576b"
            ],
            [
             0.6666666666666666,
             "#ed7953"
            ],
            [
             0.7777777777777778,
             "#fb9f3a"
            ],
            [
             0.8888888888888888,
             "#fdca26"
            ],
            [
             1,
             "#f0f921"
            ]
           ]
          },
          "colorway": [
           "#636efa",
           "#EF553B",
           "#00cc96",
           "#ab63fa",
           "#FFA15A",
           "#19d3f3",
           "#FF6692",
           "#B6E880",
           "#FF97FF",
           "#FECB52"
          ],
          "font": {
           "color": "#2a3f5f"
          },
          "geo": {
           "bgcolor": "white",
           "lakecolor": "white",
           "landcolor": "#E5ECF6",
           "showlakes": true,
           "showland": true,
           "subunitcolor": "white"
          },
          "hoverlabel": {
           "align": "left"
          },
          "hovermode": "closest",
          "mapbox": {
           "style": "light"
          },
          "paper_bgcolor": "white",
          "plot_bgcolor": "#E5ECF6",
          "polar": {
           "angularaxis": {
            "gridcolor": "white",
            "linecolor": "white",
            "ticks": ""
           },
           "bgcolor": "#E5ECF6",
           "radialaxis": {
            "gridcolor": "white",
            "linecolor": "white",
            "ticks": ""
           }
          },
          "scene": {
           "xaxis": {
            "backgroundcolor": "#E5ECF6",
            "gridcolor": "white",
            "gridwidth": 2,
            "linecolor": "white",
            "showbackground": true,
            "ticks": "",
            "zerolinecolor": "white"
           },
           "yaxis": {
            "backgroundcolor": "#E5ECF6",
            "gridcolor": "white",
            "gridwidth": 2,
            "linecolor": "white",
            "showbackground": true,
            "ticks": "",
            "zerolinecolor": "white"
           },
           "zaxis": {
            "backgroundcolor": "#E5ECF6",
            "gridcolor": "white",
            "gridwidth": 2,
            "linecolor": "white",
            "showbackground": true,
            "ticks": "",
            "zerolinecolor": "white"
           }
          },
          "shapedefaults": {
           "line": {
            "color": "#2a3f5f"
           }
          },
          "ternary": {
           "aaxis": {
            "gridcolor": "white",
            "linecolor": "white",
            "ticks": ""
           },
           "baxis": {
            "gridcolor": "white",
            "linecolor": "white",
            "ticks": ""
           },
           "bgcolor": "#E5ECF6",
           "caxis": {
            "gridcolor": "white",
            "linecolor": "white",
            "ticks": ""
           }
          },
          "title": {
           "x": 0.05
          },
          "xaxis": {
           "automargin": true,
           "gridcolor": "white",
           "linecolor": "white",
           "ticks": "",
           "title": {
            "standoff": 15
           },
           "zerolinecolor": "white",
           "zerolinewidth": 2
          },
          "yaxis": {
           "automargin": true,
           "gridcolor": "white",
           "linecolor": "white",
           "ticks": "",
           "title": {
            "standoff": 15
           },
           "zerolinecolor": "white",
           "zerolinewidth": 2
          }
         }
        },
        "xaxis": {
         "anchor": "y",
         "domain": [
          0,
          1
         ],
         "title": {
          "text": "completions_last_per_game"
         }
        },
        "yaxis": {
         "anchor": "x",
         "domain": [
          0,
          1
         ],
         "title": {
          "text": "completions_per_game"
         }
        }
       }
      },
      "text/html": [
       "<div>                            <div id=\"e8bb1a77-0f00-479a-818e-41c898876d50\" class=\"plotly-graph-div\" style=\"height:525px; width:100%;\"></div>            <script type=\"text/javascript\">                require([\"plotly\"], function(Plotly) {                    window.PLOTLYENV=window.PLOTLYENV || {};                                    if (document.getElementById(\"e8bb1a77-0f00-479a-818e-41c898876d50\")) {                    Plotly.newPlot(                        \"e8bb1a77-0f00-479a-818e-41c898876d50\",                        [{\"customdata\":[[\"A.Smith\",2014,30.0],[\"M.Ryan\",2013,28.0],[\"M.Ryan\",2014,29.0],[\"M.Ryan\",2015,30.0],[\"J.Flacco\",2013,28.0],[\"J.Flacco\",2014,29.0],[\"M.Stafford\",2013,25.0],[\"M.Stafford\",2014,26.0],[\"M.Stafford\",2015,27.0],[\"M.Stafford\",2016,28.0],[\"M.Stafford\",2017,29.0],[\"M.Stafford\",2018,30.0],[\"S.Bradford\",2016,28.0],[\"C.Newton\",2013,24.0],[\"C.Newton\",2014,25.0],[\"C.Newton\",2015,26.0],[\"C.Newton\",2016,27.0],[\"C.Newton\",2017,28.0],[\"C.Newton\",2018,29.0],[\"A.Dalton\",2013,25.0],[\"A.Dalton\",2014,26.0],[\"A.Dalton\",2015,27.0],[\"A.Dalton\",2016,28.0],[\"A.Dalton\",2017,29.0],[\"C.Kaepernick\",2014,26.0],[\"T.Taylor\",2016,27.0],[\"T.Taylor\",2017,28.0],[\"C.Keenum\",2018,30.0],[\"R.Wilson\",2013,24.0],[\"R.Wilson\",2014,25.0],[\"R.Wilson\",2015,26.0],[\"R.Wilson\",2016,27.0],[\"R.Wilson\",2017,28.0],[\"R.Wilson\",2018,29.0],[\"R.Wilson\",2019,30.0],[\"K.Cousins\",2016,28.0],[\"K.Cousins\",2017,29.0],[\"K.Cousins\",2018,30.0],[\"R.Griffin III\",2013,23.0],[\"A.Luck\",2013,23.0],[\"A.Luck\",2014,24.0],[\"R.Tannehill\",2013,25.0],[\"R.Tannehill\",2014,26.0],[\"R.Tannehill\",2015,27.0],[\"R.Tannehill\",2016,28.0],[\"G.Smith\",2014,23.0],[\"T.Bridgewater\",2015,22.0],[\"T.Bridgewater\",2021,28.0],[\"D.Carr\",2015,24.0],[\"D.Carr\",2016,25.0],[\"D.Carr\",2017,26.0],[\"D.Carr\",2018,27.0],[\"D.Carr\",2019,28.0],[\"D.Carr\",2020,29.0],[\"D.Carr\",2021,30.0],[\"B.Bortles\",2015,23.0],[\"B.Bortles\",2016,24.0],[\"B.Bortles\",2017,25.0],[\"B.Bortles\",2018,26.0],[\"J.Winston\",2016,22.0],[\"J.Winston\",2017,23.0],[\"M.Mariota\",2016,22.0],[\"M.Mariota\",2017,23.0],[\"M.Mariota\",2018,24.0],[\"C.Wentz\",2017,24.0],[\"C.Wentz\",2020,27.0],[\"C.Wentz\",2021,28.0],[\"D.Prescott\",2017,24.0],[\"D.Prescott\",2018,25.0],[\"D.Prescott\",2019,26.0],[\"D.Prescott\",2022,29.0],[\"J.Goff\",2018,23.0],[\"J.Goff\",2019,24.0],[\"J.Goff\",2020,25.0],[\"J.Goff\",2021,26.0],[\"J.Goff\",2022,27.0],[\"D.Watson\",2019,23.0],[\"D.Watson\",2020,24.0],[\"M.Trubisky\",2018,24.0],[\"M.Trubisky\",2019,25.0],[\"P.Mahomes\",2019,23.0],[\"P.Mahomes\",2020,24.0],[\"P.Mahomes\",2021,25.0],[\"P.Mahomes\",2022,26.0],[\"L.Jackson\",2020,23.0],[\"L.Jackson\",2021,24.0],[\"L.Jackson\",2022,25.0],[\"B.Mayfield\",2019,24.0],[\"B.Mayfield\",2020,25.0],[\"B.Mayfield\",2021,26.0],[\"B.Mayfield\",2022,27.0],[\"J.Allen\",2019,23.0],[\"J.Allen\",2020,24.0],[\"J.Allen\",2021,25.0],[\"J.Allen\",2022,26.0],[\"S.Darnold\",2019,22.0],[\"S.Darnold\",2020,23.0],[\"S.Darnold\",2021,24.0],[\"K.Murray\",2020,23.0],[\"K.Murray\",2021,24.0],[\"D.Jones\",2020,23.0],[\"T.Tagovailoa\",2022,24.0],[\"J.Herbert\",2021,23.0],[\"J.Herbert\",2022,24.0],[\"J.Hurts\",2022,24.0],[\"J.Burrow\",2022,25.0],[\"D.Mills\",2022,23.0],[\"T.Lawrence\",2022,22.0],[\"M.Jones\",2022,23.0]],\"hovertemplate\":\"completions_last_per_game=%{x}\\u003cbr\\u003ecompletions_per_game=%{y}\\u003cbr\\u003epasser=%{customdata[0]}\\u003cbr\\u003eseason=%{customdata[1]}\\u003cbr\\u003eage=%{customdata[2]}\\u003cextra\\u003e\\u003c\\u002fextra\\u003e\",\"legendgroup\":\"\",\"marker\":{\"color\":\"#636efa\",\"symbol\":\"circle\"},\"mode\":\"markers\",\"name\":\"\",\"orientation\":\"v\",\"showlegend\":false,\"x\":[20.533333333333335,26.3125,27.4375,25.9375,19.8125,22.5625,27.1875,23.1875,22.6875,24.875,24.25,23.1875,24.714285714285715,17.5,18.25,18.714285714285715,18.5,18.0,18.1875,20.5625,22.6875,19.3125,19.615384615384617,22.75,15.1875,17.214285714285715,17.933333333333334,21.666666666666668,15.75,16.0625,17.8125,20.5625,22.0625,21.1875,17.5,23.6875,25.375,21.6875,17.2,21.1875,21.4375,17.625,22.1875,24.5,22.6875,15.4375,19.923076923076923,22.666666666666668,21.75,21.875,23.8,21.533333333333335,23.8125,22.5625,21.75,20.0,22.1875,23.0,19.6875,19.5,21.5625,19.166666666666668,18.4,18.733333333333334,23.6875,24.25,20.916666666666668,19.4375,19.25,22.25,25.625,19.733333333333334,22.75,24.625,24.666666666666668,23.714285714285715,21.5625,22.2,16.333333333333332,20.642857142857142,23.9375,22.785714285714285,26.0,25.647058823529413,17.666666666666668,16.133333333333333,20.5,22.142857142857142,19.8125,19.0625,18.071428571428573,14.083333333333334,16.9375,24.75,24.058823529411764,18.384615384615383,21.0,18.083333333333332,21.8125,23.4375,21.846153846153847,20.23076923076923,26.4,26.058823529411764,17.666666666666668,22.875,20.23076923076923,21.058823529411764,20.705882352941178],\"xaxis\":\"x\",\"y\":[20.2,27.4375,25.9375,25.4375,22.5625,21.5,23.1875,22.6875,24.875,24.25,23.1875,22.9375,26.333333333333332,18.25,18.714285714285715,18.5,18.0,18.1875,22.857142857142858,22.6875,19.3125,19.615384615384617,22.75,18.5625,18.0625,17.933333333333334,17.533333333333335,22.8125,16.0625,17.8125,20.5625,22.0625,21.1875,17.5,21.3125,25.375,21.6875,26.5625,21.076923076923077,21.4375,23.75,22.1875,24.5,22.6875,20.076923076923077,15.642857142857142,18.25,20.357142857142858,21.875,23.8,21.533333333333335,23.8125,22.5625,21.75,25.176470588235293,22.1875,23.0,19.6875,18.692307692307693,21.5625,21.692307692307693,18.4,18.733333333333334,16.285714285714285,20.384615384615383,20.916666666666668,18.941176470588236,19.25,22.25,24.25,21.75,22.75,24.625,24.666666666666668,23.714285714285715,22.470588235294116,22.2,23.875,20.642857142857142,21.733333333333334,22.785714285714285,26.0,25.647058823529413,25.58823529411765,16.133333333333333,20.5,16.916666666666668,19.8125,19.0625,18.071428571428573,16.75,16.9375,24.75,24.058823529411764,22.4375,21.0,18.083333333333332,20.166666666666668,23.4375,23.785714285714285,20.0,19.923076923076923,26.058823529411764,28.058823529411764,20.4,25.875,19.466666666666665,22.764705882352942,20.571428571428573],\"yaxis\":\"y\",\"type\":\"scatter\"}],                        {\"template\":{\"data\":{\"histogram2dcontour\":[{\"type\":\"histogram2dcontour\",\"colorbar\":{\"outlinewidth\":0,\"ticks\":\"\"},\"colorscale\":[[0.0,\"#0d0887\"],[0.1111111111111111,\"#46039f\"],[0.2222222222222222,\"#7201a8\"],[0.3333333333333333,\"#9c179e\"],[0.4444444444444444,\"#bd3786\"],[0.5555555555555556,\"#d8576b\"],[0.6666666666666666,\"#ed7953\"],[0.7777777777777778,\"#fb9f3a\"],[0.8888888888888888,\"#fdca26\"],[1.0,\"#f0f921\"]]}],\"choropleth\":[{\"type\":\"choropleth\",\"colorbar\":{\"outlinewidth\":0,\"ticks\":\"\"}}],\"histogram2d\":[{\"type\":\"histogram2d\",\"colorbar\":{\"outlinewidth\":0,\"ticks\":\"\"},\"colorscale\":[[0.0,\"#0d0887\"],[0.1111111111111111,\"#46039f\"],[0.2222222222222222,\"#7201a8\"],[0.3333333333333333,\"#9c179e\"],[0.4444444444444444,\"#bd3786\"],[0.5555555555555556,\"#d8576b\"],[0.6666666666666666,\"#ed7953\"],[0.7777777777777778,\"#fb9f3a\"],[0.8888888888888888,\"#fdca26\"],[1.0,\"#f0f921\"]]}],\"heatmap\":[{\"type\":\"heatmap\",\"colorbar\":{\"outlinewidth\":0,\"ticks\":\"\"},\"colorscale\":[[0.0,\"#0d0887\"],[0.1111111111111111,\"#46039f\"],[0.2222222222222222,\"#7201a8\"],[0.3333333333333333,\"#9c179e\"],[0.4444444444444444,\"#bd3786\"],[0.5555555555555556,\"#d8576b\"],[0.6666666666666666,\"#ed7953\"],[0.7777777777777778,\"#fb9f3a\"],[0.8888888888888888,\"#fdca26\"],[1.0,\"#f0f921\"]]}],\"heatmapgl\":[{\"type\":\"heatmapgl\",\"colorbar\":{\"outlinewidth\":0,\"ticks\":\"\"},\"colorscale\":[[0.0,\"#0d0887\"],[0.1111111111111111,\"#46039f\"],[0.2222222222222222,\"#7201a8\"],[0.3333333333333333,\"#9c179e\"],[0.4444444444444444,\"#bd3786\"],[0.5555555555555556,\"#d8576b\"],[0.6666666666666666,\"#ed7953\"],[0.7777777777777778,\"#fb9f3a\"],[0.8888888888888888,\"#fdca26\"],[1.0,\"#f0f921\"]]}],\"contourcarpet\":[{\"type\":\"contourcarpet\",\"colorbar\":{\"outlinewidth\":0,\"ticks\":\"\"}}],\"contour\":[{\"type\":\"contour\",\"colorbar\":{\"outlinewidth\":0,\"ticks\":\"\"},\"colorscale\":[[0.0,\"#0d0887\"],[0.1111111111111111,\"#46039f\"],[0.2222222222222222,\"#7201a8\"],[0.3333333333333333,\"#9c179e\"],[0.4444444444444444,\"#bd3786\"],[0.5555555555555556,\"#d8576b\"],[0.6666666666666666,\"#ed7953\"],[0.7777777777777778,\"#fb9f3a\"],[0.8888888888888888,\"#fdca26\"],[1.0,\"#f0f921\"]]}],\"surface\":[{\"type\":\"surface\",\"colorbar\":{\"outlinewidth\":0,\"ticks\":\"\"},\"colorscale\":[[0.0,\"#0d0887\"],[0.1111111111111111,\"#46039f\"],[0.2222222222222222,\"#7201a8\"],[0.3333333333333333,\"#9c179e\"],[0.4444444444444444,\"#bd3786\"],[0.5555555555555556,\"#d8576b\"],[0.6666666666666666,\"#ed7953\"],[0.7777777777777778,\"#fb9f3a\"],[0.8888888888888888,\"#fdca26\"],[1.0,\"#f0f921\"]]}],\"mesh3d\":[{\"type\":\"mesh3d\",\"colorbar\":{\"outlinewidth\":0,\"ticks\":\"\"}}],\"scatter\":[{\"fillpattern\":{\"fillmode\":\"overlay\",\"size\":10,\"solidity\":0.2},\"type\":\"scatter\"}],\"parcoords\":[{\"type\":\"parcoords\",\"line\":{\"colorbar\":{\"outlinewidth\":0,\"ticks\":\"\"}}}],\"scatterpolargl\":[{\"type\":\"scatterpolargl\",\"marker\":{\"colorbar\":{\"outlinewidth\":0,\"ticks\":\"\"}}}],\"bar\":[{\"error_x\":{\"color\":\"#2a3f5f\"},\"error_y\":{\"color\":\"#2a3f5f\"},\"marker\":{\"line\":{\"color\":\"#E5ECF6\",\"width\":0.5},\"pattern\":{\"fillmode\":\"overlay\",\"size\":10,\"solidity\":0.2}},\"type\":\"bar\"}],\"scattergeo\":[{\"type\":\"scattergeo\",\"marker\":{\"colorbar\":{\"outlinewidth\":0,\"ticks\":\"\"}}}],\"scatterpolar\":[{\"type\":\"scatterpolar\",\"marker\":{\"colorbar\":{\"outlinewidth\":0,\"ticks\":\"\"}}}],\"histogram\":[{\"marker\":{\"pattern\":{\"fillmode\":\"overlay\",\"size\":10,\"solidity\":0.2}},\"type\":\"histogram\"}],\"scattergl\":[{\"type\":\"scattergl\",\"marker\":{\"colorbar\":{\"outlinewidth\":0,\"ticks\":\"\"}}}],\"scatter3d\":[{\"type\":\"scatter3d\",\"line\":{\"colorbar\":{\"outlinewidth\":0,\"ticks\":\"\"}},\"marker\":{\"colorbar\":{\"outlinewidth\":0,\"ticks\":\"\"}}}],\"scattermapbox\":[{\"type\":\"scattermapbox\",\"marker\":{\"colorbar\":{\"outlinewidth\":0,\"ticks\":\"\"}}}],\"scatterternary\":[{\"type\":\"scatterternary\",\"marker\":{\"colorbar\":{\"outlinewidth\":0,\"ticks\":\"\"}}}],\"scattercarpet\":[{\"type\":\"scattercarpet\",\"marker\":{\"colorbar\":{\"outlinewidth\":0,\"ticks\":\"\"}}}],\"carpet\":[{\"aaxis\":{\"endlinecolor\":\"#2a3f5f\",\"gridcolor\":\"white\",\"linecolor\":\"white\",\"minorgridcolor\":\"white\",\"startlinecolor\":\"#2a3f5f\"},\"baxis\":{\"endlinecolor\":\"#2a3f5f\",\"gridcolor\":\"white\",\"linecolor\":\"white\",\"minorgridcolor\":\"white\",\"startlinecolor\":\"#2a3f5f\"},\"type\":\"carpet\"}],\"table\":[{\"cells\":{\"fill\":{\"color\":\"#EBF0F8\"},\"line\":{\"color\":\"white\"}},\"header\":{\"fill\":{\"color\":\"#C8D4E3\"},\"line\":{\"color\":\"white\"}},\"type\":\"table\"}],\"barpolar\":[{\"marker\":{\"line\":{\"color\":\"#E5ECF6\",\"width\":0.5},\"pattern\":{\"fillmode\":\"overlay\",\"size\":10,\"solidity\":0.2}},\"type\":\"barpolar\"}],\"pie\":[{\"automargin\":true,\"type\":\"pie\"}]},\"layout\":{\"autotypenumbers\":\"strict\",\"colorway\":[\"#636efa\",\"#EF553B\",\"#00cc96\",\"#ab63fa\",\"#FFA15A\",\"#19d3f3\",\"#FF6692\",\"#B6E880\",\"#FF97FF\",\"#FECB52\"],\"font\":{\"color\":\"#2a3f5f\"},\"hovermode\":\"closest\",\"hoverlabel\":{\"align\":\"left\"},\"paper_bgcolor\":\"white\",\"plot_bgcolor\":\"#E5ECF6\",\"polar\":{\"bgcolor\":\"#E5ECF6\",\"angularaxis\":{\"gridcolor\":\"white\",\"linecolor\":\"white\",\"ticks\":\"\"},\"radialaxis\":{\"gridcolor\":\"white\",\"linecolor\":\"white\",\"ticks\":\"\"}},\"ternary\":{\"bgcolor\":\"#E5ECF6\",\"aaxis\":{\"gridcolor\":\"white\",\"linecolor\":\"white\",\"ticks\":\"\"},\"baxis\":{\"gridcolor\":\"white\",\"linecolor\":\"white\",\"ticks\":\"\"},\"caxis\":{\"gridcolor\":\"white\",\"linecolor\":\"white\",\"ticks\":\"\"}},\"coloraxis\":{\"colorbar\":{\"outlinewidth\":0,\"ticks\":\"\"}},\"colorscale\":{\"sequential\":[[0.0,\"#0d0887\"],[0.1111111111111111,\"#46039f\"],[0.2222222222222222,\"#7201a8\"],[0.3333333333333333,\"#9c179e\"],[0.4444444444444444,\"#bd3786\"],[0.5555555555555556,\"#d8576b\"],[0.6666666666666666,\"#ed7953\"],[0.7777777777777778,\"#fb9f3a\"],[0.8888888888888888,\"#fdca26\"],[1.0,\"#f0f921\"]],\"sequentialminus\":[[0.0,\"#0d0887\"],[0.1111111111111111,\"#46039f\"],[0.2222222222222222,\"#7201a8\"],[0.3333333333333333,\"#9c179e\"],[0.4444444444444444,\"#bd3786\"],[0.5555555555555556,\"#d8576b\"],[0.6666666666666666,\"#ed7953\"],[0.7777777777777778,\"#fb9f3a\"],[0.8888888888888888,\"#fdca26\"],[1.0,\"#f0f921\"]],\"diverging\":[[0,\"#8e0152\"],[0.1,\"#c51b7d\"],[0.2,\"#de77ae\"],[0.3,\"#f1b6da\"],[0.4,\"#fde0ef\"],[0.5,\"#f7f7f7\"],[0.6,\"#e6f5d0\"],[0.7,\"#b8e186\"],[0.8,\"#7fbc41\"],[0.9,\"#4d9221\"],[1,\"#276419\"]]},\"xaxis\":{\"gridcolor\":\"white\",\"linecolor\":\"white\",\"ticks\":\"\",\"title\":{\"standoff\":15},\"zerolinecolor\":\"white\",\"automargin\":true,\"zerolinewidth\":2},\"yaxis\":{\"gridcolor\":\"white\",\"linecolor\":\"white\",\"ticks\":\"\",\"title\":{\"standoff\":15},\"zerolinecolor\":\"white\",\"automargin\":true,\"zerolinewidth\":2},\"scene\":{\"xaxis\":{\"backgroundcolor\":\"#E5ECF6\",\"gridcolor\":\"white\",\"linecolor\":\"white\",\"showbackground\":true,\"ticks\":\"\",\"zerolinecolor\":\"white\",\"gridwidth\":2},\"yaxis\":{\"backgroundcolor\":\"#E5ECF6\",\"gridcolor\":\"white\",\"linecolor\":\"white\",\"showbackground\":true,\"ticks\":\"\",\"zerolinecolor\":\"white\",\"gridwidth\":2},\"zaxis\":{\"backgroundcolor\":\"#E5ECF6\",\"gridcolor\":\"white\",\"linecolor\":\"white\",\"showbackground\":true,\"ticks\":\"\",\"zerolinecolor\":\"white\",\"gridwidth\":2}},\"shapedefaults\":{\"line\":{\"color\":\"#2a3f5f\"}},\"annotationdefaults\":{\"arrowcolor\":\"#2a3f5f\",\"arrowhead\":0,\"arrowwidth\":1},\"geo\":{\"bgcolor\":\"white\",\"landcolor\":\"#E5ECF6\",\"subunitcolor\":\"white\",\"showland\":true,\"showlakes\":true,\"lakecolor\":\"white\"},\"title\":{\"x\":0.05},\"mapbox\":{\"style\":\"light\"}}},\"xaxis\":{\"anchor\":\"y\",\"domain\":[0.0,1.0],\"title\":{\"text\":\"completions_last_per_game\"}},\"yaxis\":{\"anchor\":\"x\",\"domain\":[0.0,1.0],\"title\":{\"text\":\"completions_per_game\"}},\"legend\":{\"tracegroupgap\":0},\"margin\":{\"t\":60}},                        {\"responsive\": true}                    ).then(function(){\n",
       "                            \n",
       "var gd = document.getElementById('e8bb1a77-0f00-479a-818e-41c898876d50');\n",
       "var x = new MutationObserver(function (mutations, observer) {{\n",
       "        var display = window.getComputedStyle(gd).display;\n",
       "        if (!display || display === 'none') {{\n",
       "            console.log([gd, 'removed!']);\n",
       "            Plotly.purge(gd);\n",
       "            observer.disconnect();\n",
       "        }}\n",
       "}});\n",
       "\n",
       "// Listen for the removal of the full notebook cells\n",
       "var notebookContainer = gd.closest('#notebook-container');\n",
       "if (notebookContainer) {{\n",
       "    x.observe(notebookContainer, {childList: true});\n",
       "}}\n",
       "\n",
       "// Listen for the clearing of the current output cell\n",
       "var outputEl = gd.closest('.output');\n",
       "if (outputEl) {{\n",
       "    x.observe(outputEl, {childList: true});\n",
       "}}\n",
       "\n",
       "                        })                };                });            </script>        </div>"
      ]
     },
     "metadata": {},
     "output_type": "display_data"
    },
    {
     "data": {
      "text/html": [
       "<div>\n",
       "<style scoped>\n",
       "    .dataframe tbody tr th:only-of-type {\n",
       "        vertical-align: middle;\n",
       "    }\n",
       "\n",
       "    .dataframe tbody tr th {\n",
       "        vertical-align: top;\n",
       "    }\n",
       "\n",
       "    .dataframe thead th {\n",
       "        text-align: right;\n",
       "    }\n",
       "</style>\n",
       "<table border=\"1\" class=\"dataframe\">\n",
       "  <thead>\n",
       "    <tr style=\"text-align: right;\">\n",
       "      <th></th>\n",
       "      <th>passer_id</th>\n",
       "      <th>passer</th>\n",
       "      <th>season</th>\n",
       "      <th>age</th>\n",
       "      <th>age_last</th>\n",
       "      <th>passing_yards_per_game</th>\n",
       "      <th>passing_attempts_per_game</th>\n",
       "      <th>total_epa_per_game</th>\n",
       "      <th>passing_touchdowns_per_game</th>\n",
       "      <th>completions_per_game</th>\n",
       "      <th>fantasy_points_per_game</th>\n",
       "      <th>passing_yards_last_per_game</th>\n",
       "      <th>passing_attempts_last_per_game</th>\n",
       "      <th>total_epa_last_per_game</th>\n",
       "      <th>passing_touchdowns_last_per_game</th>\n",
       "      <th>completions_last_per_game</th>\n",
       "      <th>fantasy_points_last_per_game</th>\n",
       "      <th>games</th>\n",
       "      <th>games_last</th>\n",
       "    </tr>\n",
       "  </thead>\n",
       "  <tbody>\n",
       "    <tr>\n",
       "      <th>77</th>\n",
       "      <td>00-0023436</td>\n",
       "      <td>A.Smith</td>\n",
       "      <td>2014</td>\n",
       "      <td>30.0</td>\n",
       "      <td>29.0</td>\n",
       "      <td>217.666667</td>\n",
       "      <td>30.933333</td>\n",
       "      <td>6.976485</td>\n",
       "      <td>1.200000</td>\n",
       "      <td>20.200000</td>\n",
       "      <td>14.666667</td>\n",
       "      <td>220.866667</td>\n",
       "      <td>33.600000</td>\n",
       "      <td>5.319487</td>\n",
       "      <td>1.533333</td>\n",
       "      <td>20.533333</td>\n",
       "      <td>16.881333</td>\n",
       "      <td>15.0</td>\n",
       "      <td>15.0</td>\n",
       "    </tr>\n",
       "    <tr>\n",
       "      <th>145</th>\n",
       "      <td>00-0026143</td>\n",
       "      <td>M.Ryan</td>\n",
       "      <td>2013</td>\n",
       "      <td>28.0</td>\n",
       "      <td>27.0</td>\n",
       "      <td>282.187500</td>\n",
       "      <td>40.625000</td>\n",
       "      <td>5.935121</td>\n",
       "      <td>1.625000</td>\n",
       "      <td>27.437500</td>\n",
       "      <td>15.506250</td>\n",
       "      <td>294.687500</td>\n",
       "      <td>38.375000</td>\n",
       "      <td>11.166431</td>\n",
       "      <td>1.937500</td>\n",
       "      <td>26.312500</td>\n",
       "      <td>19.053750</td>\n",
       "      <td>16.0</td>\n",
       "      <td>16.0</td>\n",
       "    </tr>\n",
       "    <tr>\n",
       "      <th>146</th>\n",
       "      <td>00-0026143</td>\n",
       "      <td>M.Ryan</td>\n",
       "      <td>2014</td>\n",
       "      <td>29.0</td>\n",
       "      <td>28.0</td>\n",
       "      <td>293.375000</td>\n",
       "      <td>38.875000</td>\n",
       "      <td>7.167229</td>\n",
       "      <td>1.750000</td>\n",
       "      <td>25.937500</td>\n",
       "      <td>17.766250</td>\n",
       "      <td>282.187500</td>\n",
       "      <td>40.625000</td>\n",
       "      <td>5.935121</td>\n",
       "      <td>1.625000</td>\n",
       "      <td>27.437500</td>\n",
       "      <td>15.506250</td>\n",
       "      <td>16.0</td>\n",
       "      <td>16.0</td>\n",
       "    </tr>\n",
       "    <tr>\n",
       "      <th>147</th>\n",
       "      <td>00-0026143</td>\n",
       "      <td>M.Ryan</td>\n",
       "      <td>2015</td>\n",
       "      <td>30.0</td>\n",
       "      <td>29.0</td>\n",
       "      <td>286.937500</td>\n",
       "      <td>38.375000</td>\n",
       "      <td>8.041343</td>\n",
       "      <td>1.312500</td>\n",
       "      <td>25.437500</td>\n",
       "      <td>14.621250</td>\n",
       "      <td>293.375000</td>\n",
       "      <td>38.875000</td>\n",
       "      <td>7.167229</td>\n",
       "      <td>1.750000</td>\n",
       "      <td>25.937500</td>\n",
       "      <td>17.766250</td>\n",
       "      <td>16.0</td>\n",
       "      <td>16.0</td>\n",
       "    </tr>\n",
       "    <tr>\n",
       "      <th>157</th>\n",
       "      <td>00-0026158</td>\n",
       "      <td>J.Flacco</td>\n",
       "      <td>2013</td>\n",
       "      <td>28.0</td>\n",
       "      <td>27.0</td>\n",
       "      <td>244.312500</td>\n",
       "      <td>38.250000</td>\n",
       "      <td>2.148504</td>\n",
       "      <td>1.187500</td>\n",
       "      <td>22.562500</td>\n",
       "      <td>12.973750</td>\n",
       "      <td>238.562500</td>\n",
       "      <td>33.187500</td>\n",
       "      <td>4.490612</td>\n",
       "      <td>1.375000</td>\n",
       "      <td>19.812500</td>\n",
       "      <td>14.680000</td>\n",
       "      <td>16.0</td>\n",
       "      <td>16.0</td>\n",
       "    </tr>\n",
       "    <tr>\n",
       "      <th>...</th>\n",
       "      <td>...</td>\n",
       "      <td>...</td>\n",
       "      <td>...</td>\n",
       "      <td>...</td>\n",
       "      <td>...</td>\n",
       "      <td>...</td>\n",
       "      <td>...</td>\n",
       "      <td>...</td>\n",
       "      <td>...</td>\n",
       "      <td>...</td>\n",
       "      <td>...</td>\n",
       "      <td>...</td>\n",
       "      <td>...</td>\n",
       "      <td>...</td>\n",
       "      <td>...</td>\n",
       "      <td>...</td>\n",
       "      <td>...</td>\n",
       "      <td>...</td>\n",
       "      <td>...</td>\n",
       "    </tr>\n",
       "    <tr>\n",
       "      <th>593</th>\n",
       "      <td>00-0036389</td>\n",
       "      <td>J.Hurts</td>\n",
       "      <td>2022</td>\n",
       "      <td>24.0</td>\n",
       "      <td>23.0</td>\n",
       "      <td>246.733333</td>\n",
       "      <td>30.666667</td>\n",
       "      <td>6.648603</td>\n",
       "      <td>1.466667</td>\n",
       "      <td>20.400000</td>\n",
       "      <td>25.202667</td>\n",
       "      <td>209.600000</td>\n",
       "      <td>28.666667</td>\n",
       "      <td>3.859287</td>\n",
       "      <td>1.066667</td>\n",
       "      <td>17.666667</td>\n",
       "      <td>20.810667</td>\n",
       "      <td>15.0</td>\n",
       "      <td>15.0</td>\n",
       "    </tr>\n",
       "    <tr>\n",
       "      <th>595</th>\n",
       "      <td>00-0036442</td>\n",
       "      <td>J.Burrow</td>\n",
       "      <td>2022</td>\n",
       "      <td>25.0</td>\n",
       "      <td>24.0</td>\n",
       "      <td>279.687500</td>\n",
       "      <td>37.812500</td>\n",
       "      <td>9.712385</td>\n",
       "      <td>2.187500</td>\n",
       "      <td>25.875000</td>\n",
       "      <td>21.918750</td>\n",
       "      <td>288.187500</td>\n",
       "      <td>32.375000</td>\n",
       "      <td>11.223626</td>\n",
       "      <td>2.125000</td>\n",
       "      <td>22.875000</td>\n",
       "      <td>19.640000</td>\n",
       "      <td>16.0</td>\n",
       "      <td>16.0</td>\n",
       "    </tr>\n",
       "    <tr>\n",
       "      <th>596</th>\n",
       "      <td>00-0036898</td>\n",
       "      <td>D.Mills</td>\n",
       "      <td>2022</td>\n",
       "      <td>23.0</td>\n",
       "      <td>22.0</td>\n",
       "      <td>207.866667</td>\n",
       "      <td>31.866667</td>\n",
       "      <td>-0.805794</td>\n",
       "      <td>1.133333</td>\n",
       "      <td>19.466667</td>\n",
       "      <td>12.101333</td>\n",
       "      <td>204.923077</td>\n",
       "      <td>30.153846</td>\n",
       "      <td>0.334728</td>\n",
       "      <td>1.230769</td>\n",
       "      <td>20.230769</td>\n",
       "      <td>12.073846</td>\n",
       "      <td>15.0</td>\n",
       "      <td>13.0</td>\n",
       "    </tr>\n",
       "    <tr>\n",
       "      <th>598</th>\n",
       "      <td>00-0036971</td>\n",
       "      <td>T.Lawrence</td>\n",
       "      <td>2022</td>\n",
       "      <td>22.0</td>\n",
       "      <td>21.0</td>\n",
       "      <td>241.941176</td>\n",
       "      <td>34.235294</td>\n",
       "      <td>8.125579</td>\n",
       "      <td>1.470588</td>\n",
       "      <td>22.764706</td>\n",
       "      <td>17.389412</td>\n",
       "      <td>213.352941</td>\n",
       "      <td>35.176471</td>\n",
       "      <td>-0.338662</td>\n",
       "      <td>0.705882</td>\n",
       "      <td>21.058824</td>\n",
       "      <td>11.708235</td>\n",
       "      <td>17.0</td>\n",
       "      <td>17.0</td>\n",
       "    </tr>\n",
       "    <tr>\n",
       "      <th>599</th>\n",
       "      <td>00-0036972</td>\n",
       "      <td>M.Jones</td>\n",
       "      <td>2022</td>\n",
       "      <td>23.0</td>\n",
       "      <td>22.0</td>\n",
       "      <td>214.071429</td>\n",
       "      <td>31.428571</td>\n",
       "      <td>1.438546</td>\n",
       "      <td>1.000000</td>\n",
       "      <td>20.571429</td>\n",
       "      <td>12.148571</td>\n",
       "      <td>223.588235</td>\n",
       "      <td>30.588235</td>\n",
       "      <td>5.135010</td>\n",
       "      <td>1.294118</td>\n",
       "      <td>20.705882</td>\n",
       "      <td>13.231765</td>\n",
       "      <td>14.0</td>\n",
       "      <td>17.0</td>\n",
       "    </tr>\n",
       "  </tbody>\n",
       "</table>\n",
       "<p>109 rows × 19 columns</p>\n",
       "</div>"
      ],
      "text/plain": [
       "      passer_id      passer  season   age  age_last  passing_yards_per_game  \\\n",
       "77   00-0023436     A.Smith    2014  30.0      29.0              217.666667   \n",
       "145  00-0026143      M.Ryan    2013  28.0      27.0              282.187500   \n",
       "146  00-0026143      M.Ryan    2014  29.0      28.0              293.375000   \n",
       "147  00-0026143      M.Ryan    2015  30.0      29.0              286.937500   \n",
       "157  00-0026158    J.Flacco    2013  28.0      27.0              244.312500   \n",
       "..          ...         ...     ...   ...       ...                     ...   \n",
       "593  00-0036389     J.Hurts    2022  24.0      23.0              246.733333   \n",
       "595  00-0036442    J.Burrow    2022  25.0      24.0              279.687500   \n",
       "596  00-0036898     D.Mills    2022  23.0      22.0              207.866667   \n",
       "598  00-0036971  T.Lawrence    2022  22.0      21.0              241.941176   \n",
       "599  00-0036972     M.Jones    2022  23.0      22.0              214.071429   \n",
       "\n",
       "     passing_attempts_per_game  total_epa_per_game  \\\n",
       "77                   30.933333            6.976485   \n",
       "145                  40.625000            5.935121   \n",
       "146                  38.875000            7.167229   \n",
       "147                  38.375000            8.041343   \n",
       "157                  38.250000            2.148504   \n",
       "..                         ...                 ...   \n",
       "593                  30.666667            6.648603   \n",
       "595                  37.812500            9.712385   \n",
       "596                  31.866667           -0.805794   \n",
       "598                  34.235294            8.125579   \n",
       "599                  31.428571            1.438546   \n",
       "\n",
       "     passing_touchdowns_per_game  completions_per_game  \\\n",
       "77                      1.200000             20.200000   \n",
       "145                     1.625000             27.437500   \n",
       "146                     1.750000             25.937500   \n",
       "147                     1.312500             25.437500   \n",
       "157                     1.187500             22.562500   \n",
       "..                           ...                   ...   \n",
       "593                     1.466667             20.400000   \n",
       "595                     2.187500             25.875000   \n",
       "596                     1.133333             19.466667   \n",
       "598                     1.470588             22.764706   \n",
       "599                     1.000000             20.571429   \n",
       "\n",
       "     fantasy_points_per_game  passing_yards_last_per_game  \\\n",
       "77                 14.666667                   220.866667   \n",
       "145                15.506250                   294.687500   \n",
       "146                17.766250                   282.187500   \n",
       "147                14.621250                   293.375000   \n",
       "157                12.973750                   238.562500   \n",
       "..                       ...                          ...   \n",
       "593                25.202667                   209.600000   \n",
       "595                21.918750                   288.187500   \n",
       "596                12.101333                   204.923077   \n",
       "598                17.389412                   213.352941   \n",
       "599                12.148571                   223.588235   \n",
       "\n",
       "     passing_attempts_last_per_game  total_epa_last_per_game  \\\n",
       "77                        33.600000                 5.319487   \n",
       "145                       38.375000                11.166431   \n",
       "146                       40.625000                 5.935121   \n",
       "147                       38.875000                 7.167229   \n",
       "157                       33.187500                 4.490612   \n",
       "..                              ...                      ...   \n",
       "593                       28.666667                 3.859287   \n",
       "595                       32.375000                11.223626   \n",
       "596                       30.153846                 0.334728   \n",
       "598                       35.176471                -0.338662   \n",
       "599                       30.588235                 5.135010   \n",
       "\n",
       "     passing_touchdowns_last_per_game  completions_last_per_game  \\\n",
       "77                           1.533333                  20.533333   \n",
       "145                          1.937500                  26.312500   \n",
       "146                          1.625000                  27.437500   \n",
       "147                          1.750000                  25.937500   \n",
       "157                          1.375000                  19.812500   \n",
       "..                                ...                        ...   \n",
       "593                          1.066667                  17.666667   \n",
       "595                          2.125000                  22.875000   \n",
       "596                          1.230769                  20.230769   \n",
       "598                          0.705882                  21.058824   \n",
       "599                          1.294118                  20.705882   \n",
       "\n",
       "     fantasy_points_last_per_game  games  games_last  \n",
       "77                      16.881333   15.0        15.0  \n",
       "145                     19.053750   16.0        16.0  \n",
       "146                     15.506250   16.0        16.0  \n",
       "147                     17.766250   16.0        16.0  \n",
       "157                     14.680000   16.0        16.0  \n",
       "..                            ...    ...         ...  \n",
       "593                     20.810667   15.0        15.0  \n",
       "595                     19.640000   16.0        16.0  \n",
       "596                     12.073846   15.0        13.0  \n",
       "598                     11.708235   17.0        17.0  \n",
       "599                     13.231765   14.0        17.0  \n",
       "\n",
       "[109 rows x 19 columns]"
      ]
     },
     "execution_count": 54,
     "metadata": {},
     "output_type": "execute_result"
    }
   ],
   "source": [
    "query = \"games >= 12 and games_last >= 12 \\\n",
    "and passing_yards_per_game >= 150 and passing_yards_last_per_game >= 150 \\\n",
    "and age <= 30\"\n",
    "filter_df(df, query, x, y, \"young\")"
   ]
  },
  {
   "cell_type": "markdown",
   "id": "172aa6bc",
   "metadata": {},
   "source": [
    "## Old"
   ]
  },
  {
   "cell_type": "code",
   "execution_count": 55,
   "id": "dad6995d",
   "metadata": {},
   "outputs": [
    {
     "data": {
      "application/vnd.plotly.v1+json": {
       "config": {
        "plotlyServerURL": "https://plot.ly"
       },
       "data": [
        {
         "coloraxis": "coloraxis",
         "hovertemplate": "Current Season Stats: %{x}<br>Previous Season Stats: %{y}<br>color: %{z}<extra></extra>",
         "name": "0",
         "texttemplate": "%{z}",
         "type": "heatmap",
         "x": [
          "passing_yards_per_game",
          "passing_attempts_per_game",
          "total_epa_per_game",
          "passing_touchdowns_per_game",
          "completions_per_game",
          "fantasy_points_per_game"
         ],
         "xaxis": "x",
         "y": [
          "passing_yards_last_per_game",
          "passing_attempts_last_per_game",
          "total_epa_last_per_game",
          "passing_touchdowns_last_per_game",
          "completions_last_per_game",
          "fantasy_points_last_per_game"
         ],
         "yaxis": "y",
         "z": [
          [
           0.52,
           0.49,
           0.24,
           0.27,
           0.53,
           0.19
          ],
          [
           0.36,
           0.48,
           0.04,
           0.13,
           0.48,
           0
          ],
          [
           0.34,
           0.19,
           0.36,
           0.3,
           0.25,
           0.32
          ],
          [
           0.27,
           0.27,
           0.18,
           0.29,
           0.28,
           0.23
          ],
          [
           0.38,
           0.43,
           0.11,
           0.15,
           0.51,
           0.06
          ],
          [
           0.17,
           0.16,
           0.18,
           0.23,
           0.21,
           0.27
          ]
         ]
        }
       ],
       "layout": {
        "coloraxis": {
         "colorscale": [
          [
           0,
           "#0d0887"
          ],
          [
           0.1111111111111111,
           "#46039f"
          ],
          [
           0.2222222222222222,
           "#7201a8"
          ],
          [
           0.3333333333333333,
           "#9c179e"
          ],
          [
           0.4444444444444444,
           "#bd3786"
          ],
          [
           0.5555555555555556,
           "#d8576b"
          ],
          [
           0.6666666666666666,
           "#ed7953"
          ],
          [
           0.7777777777777778,
           "#fb9f3a"
          ],
          [
           0.8888888888888888,
           "#fdca26"
          ],
          [
           1,
           "#f0f921"
          ]
         ]
        },
        "margin": {
         "t": 60
        },
        "template": {
         "data": {
          "bar": [
           {
            "error_x": {
             "color": "#2a3f5f"
            },
            "error_y": {
             "color": "#2a3f5f"
            },
            "marker": {
             "line": {
              "color": "#E5ECF6",
              "width": 0.5
             },
             "pattern": {
              "fillmode": "overlay",
              "size": 10,
              "solidity": 0.2
             }
            },
            "type": "bar"
           }
          ],
          "barpolar": [
           {
            "marker": {
             "line": {
              "color": "#E5ECF6",
              "width": 0.5
             },
             "pattern": {
              "fillmode": "overlay",
              "size": 10,
              "solidity": 0.2
             }
            },
            "type": "barpolar"
           }
          ],
          "carpet": [
           {
            "aaxis": {
             "endlinecolor": "#2a3f5f",
             "gridcolor": "white",
             "linecolor": "white",
             "minorgridcolor": "white",
             "startlinecolor": "#2a3f5f"
            },
            "baxis": {
             "endlinecolor": "#2a3f5f",
             "gridcolor": "white",
             "linecolor": "white",
             "minorgridcolor": "white",
             "startlinecolor": "#2a3f5f"
            },
            "type": "carpet"
           }
          ],
          "choropleth": [
           {
            "colorbar": {
             "outlinewidth": 0,
             "ticks": ""
            },
            "type": "choropleth"
           }
          ],
          "contour": [
           {
            "colorbar": {
             "outlinewidth": 0,
             "ticks": ""
            },
            "colorscale": [
             [
              0,
              "#0d0887"
             ],
             [
              0.1111111111111111,
              "#46039f"
             ],
             [
              0.2222222222222222,
              "#7201a8"
             ],
             [
              0.3333333333333333,
              "#9c179e"
             ],
             [
              0.4444444444444444,
              "#bd3786"
             ],
             [
              0.5555555555555556,
              "#d8576b"
             ],
             [
              0.6666666666666666,
              "#ed7953"
             ],
             [
              0.7777777777777778,
              "#fb9f3a"
             ],
             [
              0.8888888888888888,
              "#fdca26"
             ],
             [
              1,
              "#f0f921"
             ]
            ],
            "type": "contour"
           }
          ],
          "contourcarpet": [
           {
            "colorbar": {
             "outlinewidth": 0,
             "ticks": ""
            },
            "type": "contourcarpet"
           }
          ],
          "heatmap": [
           {
            "colorbar": {
             "outlinewidth": 0,
             "ticks": ""
            },
            "colorscale": [
             [
              0,
              "#0d0887"
             ],
             [
              0.1111111111111111,
              "#46039f"
             ],
             [
              0.2222222222222222,
              "#7201a8"
             ],
             [
              0.3333333333333333,
              "#9c179e"
             ],
             [
              0.4444444444444444,
              "#bd3786"
             ],
             [
              0.5555555555555556,
              "#d8576b"
             ],
             [
              0.6666666666666666,
              "#ed7953"
             ],
             [
              0.7777777777777778,
              "#fb9f3a"
             ],
             [
              0.8888888888888888,
              "#fdca26"
             ],
             [
              1,
              "#f0f921"
             ]
            ],
            "type": "heatmap"
           }
          ],
          "heatmapgl": [
           {
            "colorbar": {
             "outlinewidth": 0,
             "ticks": ""
            },
            "colorscale": [
             [
              0,
              "#0d0887"
             ],
             [
              0.1111111111111111,
              "#46039f"
             ],
             [
              0.2222222222222222,
              "#7201a8"
             ],
             [
              0.3333333333333333,
              "#9c179e"
             ],
             [
              0.4444444444444444,
              "#bd3786"
             ],
             [
              0.5555555555555556,
              "#d8576b"
             ],
             [
              0.6666666666666666,
              "#ed7953"
             ],
             [
              0.7777777777777778,
              "#fb9f3a"
             ],
             [
              0.8888888888888888,
              "#fdca26"
             ],
             [
              1,
              "#f0f921"
             ]
            ],
            "type": "heatmapgl"
           }
          ],
          "histogram": [
           {
            "marker": {
             "pattern": {
              "fillmode": "overlay",
              "size": 10,
              "solidity": 0.2
             }
            },
            "type": "histogram"
           }
          ],
          "histogram2d": [
           {
            "colorbar": {
             "outlinewidth": 0,
             "ticks": ""
            },
            "colorscale": [
             [
              0,
              "#0d0887"
             ],
             [
              0.1111111111111111,
              "#46039f"
             ],
             [
              0.2222222222222222,
              "#7201a8"
             ],
             [
              0.3333333333333333,
              "#9c179e"
             ],
             [
              0.4444444444444444,
              "#bd3786"
             ],
             [
              0.5555555555555556,
              "#d8576b"
             ],
             [
              0.6666666666666666,
              "#ed7953"
             ],
             [
              0.7777777777777778,
              "#fb9f3a"
             ],
             [
              0.8888888888888888,
              "#fdca26"
             ],
             [
              1,
              "#f0f921"
             ]
            ],
            "type": "histogram2d"
           }
          ],
          "histogram2dcontour": [
           {
            "colorbar": {
             "outlinewidth": 0,
             "ticks": ""
            },
            "colorscale": [
             [
              0,
              "#0d0887"
             ],
             [
              0.1111111111111111,
              "#46039f"
             ],
             [
              0.2222222222222222,
              "#7201a8"
             ],
             [
              0.3333333333333333,
              "#9c179e"
             ],
             [
              0.4444444444444444,
              "#bd3786"
             ],
             [
              0.5555555555555556,
              "#d8576b"
             ],
             [
              0.6666666666666666,
              "#ed7953"
             ],
             [
              0.7777777777777778,
              "#fb9f3a"
             ],
             [
              0.8888888888888888,
              "#fdca26"
             ],
             [
              1,
              "#f0f921"
             ]
            ],
            "type": "histogram2dcontour"
           }
          ],
          "mesh3d": [
           {
            "colorbar": {
             "outlinewidth": 0,
             "ticks": ""
            },
            "type": "mesh3d"
           }
          ],
          "parcoords": [
           {
            "line": {
             "colorbar": {
              "outlinewidth": 0,
              "ticks": ""
             }
            },
            "type": "parcoords"
           }
          ],
          "pie": [
           {
            "automargin": true,
            "type": "pie"
           }
          ],
          "scatter": [
           {
            "fillpattern": {
             "fillmode": "overlay",
             "size": 10,
             "solidity": 0.2
            },
            "type": "scatter"
           }
          ],
          "scatter3d": [
           {
            "line": {
             "colorbar": {
              "outlinewidth": 0,
              "ticks": ""
             }
            },
            "marker": {
             "colorbar": {
              "outlinewidth": 0,
              "ticks": ""
             }
            },
            "type": "scatter3d"
           }
          ],
          "scattercarpet": [
           {
            "marker": {
             "colorbar": {
              "outlinewidth": 0,
              "ticks": ""
             }
            },
            "type": "scattercarpet"
           }
          ],
          "scattergeo": [
           {
            "marker": {
             "colorbar": {
              "outlinewidth": 0,
              "ticks": ""
             }
            },
            "type": "scattergeo"
           }
          ],
          "scattergl": [
           {
            "marker": {
             "colorbar": {
              "outlinewidth": 0,
              "ticks": ""
             }
            },
            "type": "scattergl"
           }
          ],
          "scattermapbox": [
           {
            "marker": {
             "colorbar": {
              "outlinewidth": 0,
              "ticks": ""
             }
            },
            "type": "scattermapbox"
           }
          ],
          "scatterpolar": [
           {
            "marker": {
             "colorbar": {
              "outlinewidth": 0,
              "ticks": ""
             }
            },
            "type": "scatterpolar"
           }
          ],
          "scatterpolargl": [
           {
            "marker": {
             "colorbar": {
              "outlinewidth": 0,
              "ticks": ""
             }
            },
            "type": "scatterpolargl"
           }
          ],
          "scatterternary": [
           {
            "marker": {
             "colorbar": {
              "outlinewidth": 0,
              "ticks": ""
             }
            },
            "type": "scatterternary"
           }
          ],
          "surface": [
           {
            "colorbar": {
             "outlinewidth": 0,
             "ticks": ""
            },
            "colorscale": [
             [
              0,
              "#0d0887"
             ],
             [
              0.1111111111111111,
              "#46039f"
             ],
             [
              0.2222222222222222,
              "#7201a8"
             ],
             [
              0.3333333333333333,
              "#9c179e"
             ],
             [
              0.4444444444444444,
              "#bd3786"
             ],
             [
              0.5555555555555556,
              "#d8576b"
             ],
             [
              0.6666666666666666,
              "#ed7953"
             ],
             [
              0.7777777777777778,
              "#fb9f3a"
             ],
             [
              0.8888888888888888,
              "#fdca26"
             ],
             [
              1,
              "#f0f921"
             ]
            ],
            "type": "surface"
           }
          ],
          "table": [
           {
            "cells": {
             "fill": {
              "color": "#EBF0F8"
             },
             "line": {
              "color": "white"
             }
            },
            "header": {
             "fill": {
              "color": "#C8D4E3"
             },
             "line": {
              "color": "white"
             }
            },
            "type": "table"
           }
          ]
         },
         "layout": {
          "annotationdefaults": {
           "arrowcolor": "#2a3f5f",
           "arrowhead": 0,
           "arrowwidth": 1
          },
          "autotypenumbers": "strict",
          "coloraxis": {
           "colorbar": {
            "outlinewidth": 0,
            "ticks": ""
           }
          },
          "colorscale": {
           "diverging": [
            [
             0,
             "#8e0152"
            ],
            [
             0.1,
             "#c51b7d"
            ],
            [
             0.2,
             "#de77ae"
            ],
            [
             0.3,
             "#f1b6da"
            ],
            [
             0.4,
             "#fde0ef"
            ],
            [
             0.5,
             "#f7f7f7"
            ],
            [
             0.6,
             "#e6f5d0"
            ],
            [
             0.7,
             "#b8e186"
            ],
            [
             0.8,
             "#7fbc41"
            ],
            [
             0.9,
             "#4d9221"
            ],
            [
             1,
             "#276419"
            ]
           ],
           "sequential": [
            [
             0,
             "#0d0887"
            ],
            [
             0.1111111111111111,
             "#46039f"
            ],
            [
             0.2222222222222222,
             "#7201a8"
            ],
            [
             0.3333333333333333,
             "#9c179e"
            ],
            [
             0.4444444444444444,
             "#bd3786"
            ],
            [
             0.5555555555555556,
             "#d8576b"
            ],
            [
             0.6666666666666666,
             "#ed7953"
            ],
            [
             0.7777777777777778,
             "#fb9f3a"
            ],
            [
             0.8888888888888888,
             "#fdca26"
            ],
            [
             1,
             "#f0f921"
            ]
           ],
           "sequentialminus": [
            [
             0,
             "#0d0887"
            ],
            [
             0.1111111111111111,
             "#46039f"
            ],
            [
             0.2222222222222222,
             "#7201a8"
            ],
            [
             0.3333333333333333,
             "#9c179e"
            ],
            [
             0.4444444444444444,
             "#bd3786"
            ],
            [
             0.5555555555555556,
             "#d8576b"
            ],
            [
             0.6666666666666666,
             "#ed7953"
            ],
            [
             0.7777777777777778,
             "#fb9f3a"
            ],
            [
             0.8888888888888888,
             "#fdca26"
            ],
            [
             1,
             "#f0f921"
            ]
           ]
          },
          "colorway": [
           "#636efa",
           "#EF553B",
           "#00cc96",
           "#ab63fa",
           "#FFA15A",
           "#19d3f3",
           "#FF6692",
           "#B6E880",
           "#FF97FF",
           "#FECB52"
          ],
          "font": {
           "color": "#2a3f5f"
          },
          "geo": {
           "bgcolor": "white",
           "lakecolor": "white",
           "landcolor": "#E5ECF6",
           "showlakes": true,
           "showland": true,
           "subunitcolor": "white"
          },
          "hoverlabel": {
           "align": "left"
          },
          "hovermode": "closest",
          "mapbox": {
           "style": "light"
          },
          "paper_bgcolor": "white",
          "plot_bgcolor": "#E5ECF6",
          "polar": {
           "angularaxis": {
            "gridcolor": "white",
            "linecolor": "white",
            "ticks": ""
           },
           "bgcolor": "#E5ECF6",
           "radialaxis": {
            "gridcolor": "white",
            "linecolor": "white",
            "ticks": ""
           }
          },
          "scene": {
           "xaxis": {
            "backgroundcolor": "#E5ECF6",
            "gridcolor": "white",
            "gridwidth": 2,
            "linecolor": "white",
            "showbackground": true,
            "ticks": "",
            "zerolinecolor": "white"
           },
           "yaxis": {
            "backgroundcolor": "#E5ECF6",
            "gridcolor": "white",
            "gridwidth": 2,
            "linecolor": "white",
            "showbackground": true,
            "ticks": "",
            "zerolinecolor": "white"
           },
           "zaxis": {
            "backgroundcolor": "#E5ECF6",
            "gridcolor": "white",
            "gridwidth": 2,
            "linecolor": "white",
            "showbackground": true,
            "ticks": "",
            "zerolinecolor": "white"
           }
          },
          "shapedefaults": {
           "line": {
            "color": "#2a3f5f"
           }
          },
          "ternary": {
           "aaxis": {
            "gridcolor": "white",
            "linecolor": "white",
            "ticks": ""
           },
           "baxis": {
            "gridcolor": "white",
            "linecolor": "white",
            "ticks": ""
           },
           "bgcolor": "#E5ECF6",
           "caxis": {
            "gridcolor": "white",
            "linecolor": "white",
            "ticks": ""
           }
          },
          "title": {
           "x": 0.05
          },
          "xaxis": {
           "automargin": true,
           "gridcolor": "white",
           "linecolor": "white",
           "ticks": "",
           "title": {
            "standoff": 15
           },
           "zerolinecolor": "white",
           "zerolinewidth": 2
          },
          "yaxis": {
           "automargin": true,
           "gridcolor": "white",
           "linecolor": "white",
           "ticks": "",
           "title": {
            "standoff": 15
           },
           "zerolinecolor": "white",
           "zerolinewidth": 2
          }
         }
        },
        "xaxis": {
         "anchor": "y",
         "constrain": "domain",
         "domain": [
          0,
          1
         ],
         "scaleanchor": "y",
         "title": {
          "text": "Current Season Stats"
         }
        },
        "yaxis": {
         "anchor": "x",
         "autorange": "reversed",
         "constrain": "domain",
         "domain": [
          0,
          1
         ],
         "title": {
          "text": "Previous Season Stats"
         }
        }
       }
      },
      "text/html": [
       "<div>                            <div id=\"7d3e3edd-1a2d-430b-8d46-f5f5f16e472c\" class=\"plotly-graph-div\" style=\"height:525px; width:100%;\"></div>            <script type=\"text/javascript\">                require([\"plotly\"], function(Plotly) {                    window.PLOTLYENV=window.PLOTLYENV || {};                                    if (document.getElementById(\"7d3e3edd-1a2d-430b-8d46-f5f5f16e472c\")) {                    Plotly.newPlot(                        \"7d3e3edd-1a2d-430b-8d46-f5f5f16e472c\",                        [{\"coloraxis\":\"coloraxis\",\"name\":\"0\",\"texttemplate\":\"%{z}\",\"x\":[\"passing_yards_per_game\",\"passing_attempts_per_game\",\"total_epa_per_game\",\"passing_touchdowns_per_game\",\"completions_per_game\",\"fantasy_points_per_game\"],\"y\":[\"passing_yards_last_per_game\",\"passing_attempts_last_per_game\",\"total_epa_last_per_game\",\"passing_touchdowns_last_per_game\",\"completions_last_per_game\",\"fantasy_points_last_per_game\"],\"z\":[[0.52,0.49,0.24,0.27,0.53,0.19],[0.36,0.48,0.04,0.13,0.48,-0.0],[0.34,0.19,0.36,0.3,0.25,0.32],[0.27,0.27,0.18,0.29,0.28,0.23],[0.38,0.43,0.11,0.15,0.51,0.06],[0.17,0.16,0.18,0.23,0.21,0.27]],\"type\":\"heatmap\",\"xaxis\":\"x\",\"yaxis\":\"y\",\"hovertemplate\":\"Current Season Stats: %{x}\\u003cbr\\u003ePrevious Season Stats: %{y}\\u003cbr\\u003ecolor: %{z}\\u003cextra\\u003e\\u003c\\u002fextra\\u003e\"}],                        {\"template\":{\"data\":{\"histogram2dcontour\":[{\"type\":\"histogram2dcontour\",\"colorbar\":{\"outlinewidth\":0,\"ticks\":\"\"},\"colorscale\":[[0.0,\"#0d0887\"],[0.1111111111111111,\"#46039f\"],[0.2222222222222222,\"#7201a8\"],[0.3333333333333333,\"#9c179e\"],[0.4444444444444444,\"#bd3786\"],[0.5555555555555556,\"#d8576b\"],[0.6666666666666666,\"#ed7953\"],[0.7777777777777778,\"#fb9f3a\"],[0.8888888888888888,\"#fdca26\"],[1.0,\"#f0f921\"]]}],\"choropleth\":[{\"type\":\"choropleth\",\"colorbar\":{\"outlinewidth\":0,\"ticks\":\"\"}}],\"histogram2d\":[{\"type\":\"histogram2d\",\"colorbar\":{\"outlinewidth\":0,\"ticks\":\"\"},\"colorscale\":[[0.0,\"#0d0887\"],[0.1111111111111111,\"#46039f\"],[0.2222222222222222,\"#7201a8\"],[0.3333333333333333,\"#9c179e\"],[0.4444444444444444,\"#bd3786\"],[0.5555555555555556,\"#d8576b\"],[0.6666666666666666,\"#ed7953\"],[0.7777777777777778,\"#fb9f3a\"],[0.8888888888888888,\"#fdca26\"],[1.0,\"#f0f921\"]]}],\"heatmap\":[{\"type\":\"heatmap\",\"colorbar\":{\"outlinewidth\":0,\"ticks\":\"\"},\"colorscale\":[[0.0,\"#0d0887\"],[0.1111111111111111,\"#46039f\"],[0.2222222222222222,\"#7201a8\"],[0.3333333333333333,\"#9c179e\"],[0.4444444444444444,\"#bd3786\"],[0.5555555555555556,\"#d8576b\"],[0.6666666666666666,\"#ed7953\"],[0.7777777777777778,\"#fb9f3a\"],[0.8888888888888888,\"#fdca26\"],[1.0,\"#f0f921\"]]}],\"heatmapgl\":[{\"type\":\"heatmapgl\",\"colorbar\":{\"outlinewidth\":0,\"ticks\":\"\"},\"colorscale\":[[0.0,\"#0d0887\"],[0.1111111111111111,\"#46039f\"],[0.2222222222222222,\"#7201a8\"],[0.3333333333333333,\"#9c179e\"],[0.4444444444444444,\"#bd3786\"],[0.5555555555555556,\"#d8576b\"],[0.6666666666666666,\"#ed7953\"],[0.7777777777777778,\"#fb9f3a\"],[0.8888888888888888,\"#fdca26\"],[1.0,\"#f0f921\"]]}],\"contourcarpet\":[{\"type\":\"contourcarpet\",\"colorbar\":{\"outlinewidth\":0,\"ticks\":\"\"}}],\"contour\":[{\"type\":\"contour\",\"colorbar\":{\"outlinewidth\":0,\"ticks\":\"\"},\"colorscale\":[[0.0,\"#0d0887\"],[0.1111111111111111,\"#46039f\"],[0.2222222222222222,\"#7201a8\"],[0.3333333333333333,\"#9c179e\"],[0.4444444444444444,\"#bd3786\"],[0.5555555555555556,\"#d8576b\"],[0.6666666666666666,\"#ed7953\"],[0.7777777777777778,\"#fb9f3a\"],[0.8888888888888888,\"#fdca26\"],[1.0,\"#f0f921\"]]}],\"surface\":[{\"type\":\"surface\",\"colorbar\":{\"outlinewidth\":0,\"ticks\":\"\"},\"colorscale\":[[0.0,\"#0d0887\"],[0.1111111111111111,\"#46039f\"],[0.2222222222222222,\"#7201a8\"],[0.3333333333333333,\"#9c179e\"],[0.4444444444444444,\"#bd3786\"],[0.5555555555555556,\"#d8576b\"],[0.6666666666666666,\"#ed7953\"],[0.7777777777777778,\"#fb9f3a\"],[0.8888888888888888,\"#fdca26\"],[1.0,\"#f0f921\"]]}],\"mesh3d\":[{\"type\":\"mesh3d\",\"colorbar\":{\"outlinewidth\":0,\"ticks\":\"\"}}],\"scatter\":[{\"fillpattern\":{\"fillmode\":\"overlay\",\"size\":10,\"solidity\":0.2},\"type\":\"scatter\"}],\"parcoords\":[{\"type\":\"parcoords\",\"line\":{\"colorbar\":{\"outlinewidth\":0,\"ticks\":\"\"}}}],\"scatterpolargl\":[{\"type\":\"scatterpolargl\",\"marker\":{\"colorbar\":{\"outlinewidth\":0,\"ticks\":\"\"}}}],\"bar\":[{\"error_x\":{\"color\":\"#2a3f5f\"},\"error_y\":{\"color\":\"#2a3f5f\"},\"marker\":{\"line\":{\"color\":\"#E5ECF6\",\"width\":0.5},\"pattern\":{\"fillmode\":\"overlay\",\"size\":10,\"solidity\":0.2}},\"type\":\"bar\"}],\"scattergeo\":[{\"type\":\"scattergeo\",\"marker\":{\"colorbar\":{\"outlinewidth\":0,\"ticks\":\"\"}}}],\"scatterpolar\":[{\"type\":\"scatterpolar\",\"marker\":{\"colorbar\":{\"outlinewidth\":0,\"ticks\":\"\"}}}],\"histogram\":[{\"marker\":{\"pattern\":{\"fillmode\":\"overlay\",\"size\":10,\"solidity\":0.2}},\"type\":\"histogram\"}],\"scattergl\":[{\"type\":\"scattergl\",\"marker\":{\"colorbar\":{\"outlinewidth\":0,\"ticks\":\"\"}}}],\"scatter3d\":[{\"type\":\"scatter3d\",\"line\":{\"colorbar\":{\"outlinewidth\":0,\"ticks\":\"\"}},\"marker\":{\"colorbar\":{\"outlinewidth\":0,\"ticks\":\"\"}}}],\"scattermapbox\":[{\"type\":\"scattermapbox\",\"marker\":{\"colorbar\":{\"outlinewidth\":0,\"ticks\":\"\"}}}],\"scatterternary\":[{\"type\":\"scatterternary\",\"marker\":{\"colorbar\":{\"outlinewidth\":0,\"ticks\":\"\"}}}],\"scattercarpet\":[{\"type\":\"scattercarpet\",\"marker\":{\"colorbar\":{\"outlinewidth\":0,\"ticks\":\"\"}}}],\"carpet\":[{\"aaxis\":{\"endlinecolor\":\"#2a3f5f\",\"gridcolor\":\"white\",\"linecolor\":\"white\",\"minorgridcolor\":\"white\",\"startlinecolor\":\"#2a3f5f\"},\"baxis\":{\"endlinecolor\":\"#2a3f5f\",\"gridcolor\":\"white\",\"linecolor\":\"white\",\"minorgridcolor\":\"white\",\"startlinecolor\":\"#2a3f5f\"},\"type\":\"carpet\"}],\"table\":[{\"cells\":{\"fill\":{\"color\":\"#EBF0F8\"},\"line\":{\"color\":\"white\"}},\"header\":{\"fill\":{\"color\":\"#C8D4E3\"},\"line\":{\"color\":\"white\"}},\"type\":\"table\"}],\"barpolar\":[{\"marker\":{\"line\":{\"color\":\"#E5ECF6\",\"width\":0.5},\"pattern\":{\"fillmode\":\"overlay\",\"size\":10,\"solidity\":0.2}},\"type\":\"barpolar\"}],\"pie\":[{\"automargin\":true,\"type\":\"pie\"}]},\"layout\":{\"autotypenumbers\":\"strict\",\"colorway\":[\"#636efa\",\"#EF553B\",\"#00cc96\",\"#ab63fa\",\"#FFA15A\",\"#19d3f3\",\"#FF6692\",\"#B6E880\",\"#FF97FF\",\"#FECB52\"],\"font\":{\"color\":\"#2a3f5f\"},\"hovermode\":\"closest\",\"hoverlabel\":{\"align\":\"left\"},\"paper_bgcolor\":\"white\",\"plot_bgcolor\":\"#E5ECF6\",\"polar\":{\"bgcolor\":\"#E5ECF6\",\"angularaxis\":{\"gridcolor\":\"white\",\"linecolor\":\"white\",\"ticks\":\"\"},\"radialaxis\":{\"gridcolor\":\"white\",\"linecolor\":\"white\",\"ticks\":\"\"}},\"ternary\":{\"bgcolor\":\"#E5ECF6\",\"aaxis\":{\"gridcolor\":\"white\",\"linecolor\":\"white\",\"ticks\":\"\"},\"baxis\":{\"gridcolor\":\"white\",\"linecolor\":\"white\",\"ticks\":\"\"},\"caxis\":{\"gridcolor\":\"white\",\"linecolor\":\"white\",\"ticks\":\"\"}},\"coloraxis\":{\"colorbar\":{\"outlinewidth\":0,\"ticks\":\"\"}},\"colorscale\":{\"sequential\":[[0.0,\"#0d0887\"],[0.1111111111111111,\"#46039f\"],[0.2222222222222222,\"#7201a8\"],[0.3333333333333333,\"#9c179e\"],[0.4444444444444444,\"#bd3786\"],[0.5555555555555556,\"#d8576b\"],[0.6666666666666666,\"#ed7953\"],[0.7777777777777778,\"#fb9f3a\"],[0.8888888888888888,\"#fdca26\"],[1.0,\"#f0f921\"]],\"sequentialminus\":[[0.0,\"#0d0887\"],[0.1111111111111111,\"#46039f\"],[0.2222222222222222,\"#7201a8\"],[0.3333333333333333,\"#9c179e\"],[0.4444444444444444,\"#bd3786\"],[0.5555555555555556,\"#d8576b\"],[0.6666666666666666,\"#ed7953\"],[0.7777777777777778,\"#fb9f3a\"],[0.8888888888888888,\"#fdca26\"],[1.0,\"#f0f921\"]],\"diverging\":[[0,\"#8e0152\"],[0.1,\"#c51b7d\"],[0.2,\"#de77ae\"],[0.3,\"#f1b6da\"],[0.4,\"#fde0ef\"],[0.5,\"#f7f7f7\"],[0.6,\"#e6f5d0\"],[0.7,\"#b8e186\"],[0.8,\"#7fbc41\"],[0.9,\"#4d9221\"],[1,\"#276419\"]]},\"xaxis\":{\"gridcolor\":\"white\",\"linecolor\":\"white\",\"ticks\":\"\",\"title\":{\"standoff\":15},\"zerolinecolor\":\"white\",\"automargin\":true,\"zerolinewidth\":2},\"yaxis\":{\"gridcolor\":\"white\",\"linecolor\":\"white\",\"ticks\":\"\",\"title\":{\"standoff\":15},\"zerolinecolor\":\"white\",\"automargin\":true,\"zerolinewidth\":2},\"scene\":{\"xaxis\":{\"backgroundcolor\":\"#E5ECF6\",\"gridcolor\":\"white\",\"linecolor\":\"white\",\"showbackground\":true,\"ticks\":\"\",\"zerolinecolor\":\"white\",\"gridwidth\":2},\"yaxis\":{\"backgroundcolor\":\"#E5ECF6\",\"gridcolor\":\"white\",\"linecolor\":\"white\",\"showbackground\":true,\"ticks\":\"\",\"zerolinecolor\":\"white\",\"gridwidth\":2},\"zaxis\":{\"backgroundcolor\":\"#E5ECF6\",\"gridcolor\":\"white\",\"linecolor\":\"white\",\"showbackground\":true,\"ticks\":\"\",\"zerolinecolor\":\"white\",\"gridwidth\":2}},\"shapedefaults\":{\"line\":{\"color\":\"#2a3f5f\"}},\"annotationdefaults\":{\"arrowcolor\":\"#2a3f5f\",\"arrowhead\":0,\"arrowwidth\":1},\"geo\":{\"bgcolor\":\"white\",\"landcolor\":\"#E5ECF6\",\"subunitcolor\":\"white\",\"showland\":true,\"showlakes\":true,\"lakecolor\":\"white\"},\"title\":{\"x\":0.05},\"mapbox\":{\"style\":\"light\"}}},\"xaxis\":{\"anchor\":\"y\",\"domain\":[0.0,1.0],\"scaleanchor\":\"y\",\"constrain\":\"domain\",\"title\":{\"text\":\"Current Season Stats\"}},\"yaxis\":{\"anchor\":\"x\",\"domain\":[0.0,1.0],\"autorange\":\"reversed\",\"constrain\":\"domain\",\"title\":{\"text\":\"Previous Season Stats\"}},\"coloraxis\":{\"colorscale\":[[0.0,\"#0d0887\"],[0.1111111111111111,\"#46039f\"],[0.2222222222222222,\"#7201a8\"],[0.3333333333333333,\"#9c179e\"],[0.4444444444444444,\"#bd3786\"],[0.5555555555555556,\"#d8576b\"],[0.6666666666666666,\"#ed7953\"],[0.7777777777777778,\"#fb9f3a\"],[0.8888888888888888,\"#fdca26\"],[1.0,\"#f0f921\"]]},\"margin\":{\"t\":60}},                        {\"responsive\": true}                    ).then(function(){\n",
       "                            \n",
       "var gd = document.getElementById('7d3e3edd-1a2d-430b-8d46-f5f5f16e472c');\n",
       "var x = new MutationObserver(function (mutations, observer) {{\n",
       "        var display = window.getComputedStyle(gd).display;\n",
       "        if (!display || display === 'none') {{\n",
       "            console.log([gd, 'removed!']);\n",
       "            Plotly.purge(gd);\n",
       "            observer.disconnect();\n",
       "        }}\n",
       "}});\n",
       "\n",
       "// Listen for the removal of the full notebook cells\n",
       "var notebookContainer = gd.closest('#notebook-container');\n",
       "if (notebookContainer) {{\n",
       "    x.observe(notebookContainer, {childList: true});\n",
       "}}\n",
       "\n",
       "// Listen for the clearing of the current output cell\n",
       "var outputEl = gd.closest('.output');\n",
       "if (outputEl) {{\n",
       "    x.observe(outputEl, {childList: true});\n",
       "}}\n",
       "\n",
       "                        })                };                });            </script>        </div>"
      ]
     },
     "metadata": {},
     "output_type": "display_data"
    },
    {
     "name": "stdout",
     "output_type": "stream",
     "text": [
      "\n",
      "Save path: old-scatter-completions_per_game\n",
      "\n"
     ]
    },
    {
     "data": {
      "application/vnd.plotly.v1+json": {
       "config": {
        "plotlyServerURL": "https://plot.ly"
       },
       "data": [
        {
         "customdata": [
          [
           "P.Manning",
           2013,
           37
          ],
          [
           "P.Manning",
           2014,
           38
          ],
          [
           "T.Brady",
           2013,
           36
          ],
          [
           "T.Brady",
           2014,
           37
          ],
          [
           "T.Brady",
           2015,
           38
          ],
          [
           "T.Brady",
           2016,
           39
          ],
          [
           "T.Brady",
           2017,
           40
          ],
          [
           "T.Brady",
           2018,
           41
          ],
          [
           "T.Brady",
           2019,
           42
          ],
          [
           "T.Brady",
           2020,
           43
          ],
          [
           "T.Brady",
           2021,
           44
          ],
          [
           "T.Brady",
           2022,
           45
          ],
          [
           "D.Brees",
           2013,
           34
          ],
          [
           "D.Brees",
           2014,
           35
          ],
          [
           "D.Brees",
           2015,
           36
          ],
          [
           "D.Brees",
           2016,
           37
          ],
          [
           "D.Brees",
           2017,
           38
          ],
          [
           "D.Brees",
           2018,
           39
          ],
          [
           "C.Palmer",
           2013,
           33
          ],
          [
           "C.Palmer",
           2016,
           36
          ],
          [
           "T.Romo",
           2013,
           33
          ],
          [
           "T.Romo",
           2014,
           34
          ],
          [
           "E.Manning",
           2013,
           32
          ],
          [
           "E.Manning",
           2014,
           33
          ],
          [
           "E.Manning",
           2015,
           34
          ],
          [
           "E.Manning",
           2016,
           35
          ],
          [
           "E.Manning",
           2017,
           36
          ],
          [
           "E.Manning",
           2018,
           37
          ],
          [
           "B.Roethlisberger",
           2013,
           31
          ],
          [
           "B.Roethlisberger",
           2014,
           32
          ],
          [
           "B.Roethlisberger",
           2015,
           33
          ],
          [
           "B.Roethlisberger",
           2016,
           34
          ],
          [
           "B.Roethlisberger",
           2017,
           35
          ],
          [
           "B.Roethlisberger",
           2018,
           36
          ],
          [
           "B.Roethlisberger",
           2021,
           39
          ],
          [
           "P.Rivers",
           2013,
           31
          ],
          [
           "P.Rivers",
           2014,
           32
          ],
          [
           "P.Rivers",
           2015,
           33
          ],
          [
           "P.Rivers",
           2016,
           34
          ],
          [
           "P.Rivers",
           2017,
           35
          ],
          [
           "P.Rivers",
           2018,
           36
          ],
          [
           "P.Rivers",
           2019,
           37
          ],
          [
           "P.Rivers",
           2020,
           38
          ],
          [
           "A.Smith",
           2015,
           31
          ],
          [
           "A.Smith",
           2016,
           32
          ],
          [
           "A.Smith",
           2017,
           33
          ],
          [
           "A.Rodgers",
           2015,
           31
          ],
          [
           "A.Rodgers",
           2016,
           32
          ],
          [
           "A.Rodgers",
           2019,
           35
          ],
          [
           "A.Rodgers",
           2020,
           36
          ],
          [
           "A.Rodgers",
           2021,
           37
          ],
          [
           "A.Rodgers",
           2022,
           38
          ],
          [
           "R.Fitzpatrick",
           2015,
           32
          ],
          [
           "R.Fitzpatrick",
           2016,
           33
          ],
          [
           "J.Cutler",
           2015,
           32
          ],
          [
           "M.Ryan",
           2016,
           31
          ],
          [
           "M.Ryan",
           2017,
           32
          ],
          [
           "M.Ryan",
           2018,
           33
          ],
          [
           "M.Ryan",
           2019,
           34
          ],
          [
           "M.Ryan",
           2020,
           35
          ],
          [
           "M.Ryan",
           2021,
           36
          ],
          [
           "M.Ryan",
           2022,
           37
          ],
          [
           "J.Flacco",
           2017,
           32
          ],
          [
           "M.Stafford",
           2021,
           33
          ],
          [
           "R.Wilson",
           2020,
           31
          ],
          [
           "R.Wilson",
           2021,
           32
          ],
          [
           "R.Wilson",
           2022,
           33
          ],
          [
           "K.Cousins",
           2019,
           31
          ],
          [
           "K.Cousins",
           2020,
           32
          ],
          [
           "K.Cousins",
           2021,
           33
          ],
          [
           "K.Cousins",
           2022,
           34
          ],
          [
           "R.Tannehill",
           2020,
           32
          ],
          [
           "R.Tannehill",
           2021,
           33
          ],
          [
           "R.Tannehill",
           2022,
           34
          ],
          [
           "D.Carr",
           2022,
           31
          ]
         ],
         "hovertemplate": "completions_last_per_game=%{x}<br>completions_per_game=%{y}<br>passer=%{customdata[0]}<br>season=%{customdata[1]}<br>age=%{customdata[2]}<extra></extra>",
         "legendgroup": "",
         "marker": {
          "color": "#636efa",
          "symbol": "circle"
         },
         "mode": "markers",
         "name": "",
         "orientation": "v",
         "showlegend": false,
         "type": "scatter",
         "x": [
          25,
          28.125,
          25.0625,
          23.75,
          23.3125,
          25.125,
          24.25,
          24.0625,
          23.4375,
          23.3125,
          25.0625,
          28.529411764705884,
          26.375,
          27.8125,
          28.5,
          28.533333333333335,
          29.375,
          24.125,
          23,
          21.375,
          26.5625,
          22.8,
          20.0625,
          19.8125,
          23.6875,
          24.1875,
          23.5625,
          23.466666666666665,
          21.846153846153847,
          23.4375,
          25.5,
          26.583333333333332,
          23.428571428571427,
          24,
          26.6,
          21.125,
          23.625,
          23.6875,
          27.25,
          21.8125,
          22.5,
          21.6875,
          24.375,
          20.2,
          19.1875,
          21.866666666666667,
          21.3125,
          21.6875,
          23.25,
          22.0625,
          23.25,
          22.875,
          16.416666666666668,
          20.9375,
          24.666666666666668,
          25.4375,
          23.3125,
          21.375,
          26.375,
          27.2,
          25.4375,
          22.058823529411764,
          27.25,
          21.1875,
          21.3125,
          24,
          18.5,
          26.5625,
          20.466666666666665,
          21.8125,
          23.25,
          16.75,
          19.6875,
          21,
          25.176470588235293
         ],
         "xaxis": "x",
         "y": [
          28.125,
          24.6875,
          23.75,
          23.3125,
          25.125,
          24.25,
          24.0625,
          23.4375,
          23.3125,
          25.0625,
          28.529411764705884,
          28.823529411764707,
          27.8125,
          28.5,
          28.533333333333335,
          29.375,
          24.125,
          24.266666666666666,
          22.625,
          24.266666666666666,
          22.8,
          20.266666666666666,
          19.8125,
          23.6875,
          24.1875,
          23.5625,
          23.466666666666665,
          23.75,
          23.4375,
          25.5,
          26.583333333333332,
          23.428571428571427,
          24,
          28.25,
          24.375,
          23.625,
          23.6875,
          27.25,
          21.8125,
          22.5,
          21.6875,
          24.375,
          23.0625,
          19.1875,
          21.866666666666667,
          22.733333333333334,
          21.6875,
          25.0625,
          22.0625,
          23.25,
          22.875,
          20.58823529411765,
          20.9375,
          16.285714285714285,
          20.733333333333334,
          23.3125,
          21.375,
          26.375,
          27.2,
          25.4375,
          22.058823529411764,
          25.75,
          22,
          23.764705882352942,
          24,
          18.5,
          19.466666666666665,
          20.466666666666665,
          21.8125,
          23.25,
          24.88235294117647,
          19.6875,
          21,
          17.666666666666668,
          20.333333333333332
         ],
         "yaxis": "y"
        }
       ],
       "layout": {
        "legend": {
         "tracegroupgap": 0
        },
        "margin": {
         "t": 60
        },
        "template": {
         "data": {
          "bar": [
           {
            "error_x": {
             "color": "#2a3f5f"
            },
            "error_y": {
             "color": "#2a3f5f"
            },
            "marker": {
             "line": {
              "color": "#E5ECF6",
              "width": 0.5
             },
             "pattern": {
              "fillmode": "overlay",
              "size": 10,
              "solidity": 0.2
             }
            },
            "type": "bar"
           }
          ],
          "barpolar": [
           {
            "marker": {
             "line": {
              "color": "#E5ECF6",
              "width": 0.5
             },
             "pattern": {
              "fillmode": "overlay",
              "size": 10,
              "solidity": 0.2
             }
            },
            "type": "barpolar"
           }
          ],
          "carpet": [
           {
            "aaxis": {
             "endlinecolor": "#2a3f5f",
             "gridcolor": "white",
             "linecolor": "white",
             "minorgridcolor": "white",
             "startlinecolor": "#2a3f5f"
            },
            "baxis": {
             "endlinecolor": "#2a3f5f",
             "gridcolor": "white",
             "linecolor": "white",
             "minorgridcolor": "white",
             "startlinecolor": "#2a3f5f"
            },
            "type": "carpet"
           }
          ],
          "choropleth": [
           {
            "colorbar": {
             "outlinewidth": 0,
             "ticks": ""
            },
            "type": "choropleth"
           }
          ],
          "contour": [
           {
            "colorbar": {
             "outlinewidth": 0,
             "ticks": ""
            },
            "colorscale": [
             [
              0,
              "#0d0887"
             ],
             [
              0.1111111111111111,
              "#46039f"
             ],
             [
              0.2222222222222222,
              "#7201a8"
             ],
             [
              0.3333333333333333,
              "#9c179e"
             ],
             [
              0.4444444444444444,
              "#bd3786"
             ],
             [
              0.5555555555555556,
              "#d8576b"
             ],
             [
              0.6666666666666666,
              "#ed7953"
             ],
             [
              0.7777777777777778,
              "#fb9f3a"
             ],
             [
              0.8888888888888888,
              "#fdca26"
             ],
             [
              1,
              "#f0f921"
             ]
            ],
            "type": "contour"
           }
          ],
          "contourcarpet": [
           {
            "colorbar": {
             "outlinewidth": 0,
             "ticks": ""
            },
            "type": "contourcarpet"
           }
          ],
          "heatmap": [
           {
            "colorbar": {
             "outlinewidth": 0,
             "ticks": ""
            },
            "colorscale": [
             [
              0,
              "#0d0887"
             ],
             [
              0.1111111111111111,
              "#46039f"
             ],
             [
              0.2222222222222222,
              "#7201a8"
             ],
             [
              0.3333333333333333,
              "#9c179e"
             ],
             [
              0.4444444444444444,
              "#bd3786"
             ],
             [
              0.5555555555555556,
              "#d8576b"
             ],
             [
              0.6666666666666666,
              "#ed7953"
             ],
             [
              0.7777777777777778,
              "#fb9f3a"
             ],
             [
              0.8888888888888888,
              "#fdca26"
             ],
             [
              1,
              "#f0f921"
             ]
            ],
            "type": "heatmap"
           }
          ],
          "heatmapgl": [
           {
            "colorbar": {
             "outlinewidth": 0,
             "ticks": ""
            },
            "colorscale": [
             [
              0,
              "#0d0887"
             ],
             [
              0.1111111111111111,
              "#46039f"
             ],
             [
              0.2222222222222222,
              "#7201a8"
             ],
             [
              0.3333333333333333,
              "#9c179e"
             ],
             [
              0.4444444444444444,
              "#bd3786"
             ],
             [
              0.5555555555555556,
              "#d8576b"
             ],
             [
              0.6666666666666666,
              "#ed7953"
             ],
             [
              0.7777777777777778,
              "#fb9f3a"
             ],
             [
              0.8888888888888888,
              "#fdca26"
             ],
             [
              1,
              "#f0f921"
             ]
            ],
            "type": "heatmapgl"
           }
          ],
          "histogram": [
           {
            "marker": {
             "pattern": {
              "fillmode": "overlay",
              "size": 10,
              "solidity": 0.2
             }
            },
            "type": "histogram"
           }
          ],
          "histogram2d": [
           {
            "colorbar": {
             "outlinewidth": 0,
             "ticks": ""
            },
            "colorscale": [
             [
              0,
              "#0d0887"
             ],
             [
              0.1111111111111111,
              "#46039f"
             ],
             [
              0.2222222222222222,
              "#7201a8"
             ],
             [
              0.3333333333333333,
              "#9c179e"
             ],
             [
              0.4444444444444444,
              "#bd3786"
             ],
             [
              0.5555555555555556,
              "#d8576b"
             ],
             [
              0.6666666666666666,
              "#ed7953"
             ],
             [
              0.7777777777777778,
              "#fb9f3a"
             ],
             [
              0.8888888888888888,
              "#fdca26"
             ],
             [
              1,
              "#f0f921"
             ]
            ],
            "type": "histogram2d"
           }
          ],
          "histogram2dcontour": [
           {
            "colorbar": {
             "outlinewidth": 0,
             "ticks": ""
            },
            "colorscale": [
             [
              0,
              "#0d0887"
             ],
             [
              0.1111111111111111,
              "#46039f"
             ],
             [
              0.2222222222222222,
              "#7201a8"
             ],
             [
              0.3333333333333333,
              "#9c179e"
             ],
             [
              0.4444444444444444,
              "#bd3786"
             ],
             [
              0.5555555555555556,
              "#d8576b"
             ],
             [
              0.6666666666666666,
              "#ed7953"
             ],
             [
              0.7777777777777778,
              "#fb9f3a"
             ],
             [
              0.8888888888888888,
              "#fdca26"
             ],
             [
              1,
              "#f0f921"
             ]
            ],
            "type": "histogram2dcontour"
           }
          ],
          "mesh3d": [
           {
            "colorbar": {
             "outlinewidth": 0,
             "ticks": ""
            },
            "type": "mesh3d"
           }
          ],
          "parcoords": [
           {
            "line": {
             "colorbar": {
              "outlinewidth": 0,
              "ticks": ""
             }
            },
            "type": "parcoords"
           }
          ],
          "pie": [
           {
            "automargin": true,
            "type": "pie"
           }
          ],
          "scatter": [
           {
            "fillpattern": {
             "fillmode": "overlay",
             "size": 10,
             "solidity": 0.2
            },
            "type": "scatter"
           }
          ],
          "scatter3d": [
           {
            "line": {
             "colorbar": {
              "outlinewidth": 0,
              "ticks": ""
             }
            },
            "marker": {
             "colorbar": {
              "outlinewidth": 0,
              "ticks": ""
             }
            },
            "type": "scatter3d"
           }
          ],
          "scattercarpet": [
           {
            "marker": {
             "colorbar": {
              "outlinewidth": 0,
              "ticks": ""
             }
            },
            "type": "scattercarpet"
           }
          ],
          "scattergeo": [
           {
            "marker": {
             "colorbar": {
              "outlinewidth": 0,
              "ticks": ""
             }
            },
            "type": "scattergeo"
           }
          ],
          "scattergl": [
           {
            "marker": {
             "colorbar": {
              "outlinewidth": 0,
              "ticks": ""
             }
            },
            "type": "scattergl"
           }
          ],
          "scattermapbox": [
           {
            "marker": {
             "colorbar": {
              "outlinewidth": 0,
              "ticks": ""
             }
            },
            "type": "scattermapbox"
           }
          ],
          "scatterpolar": [
           {
            "marker": {
             "colorbar": {
              "outlinewidth": 0,
              "ticks": ""
             }
            },
            "type": "scatterpolar"
           }
          ],
          "scatterpolargl": [
           {
            "marker": {
             "colorbar": {
              "outlinewidth": 0,
              "ticks": ""
             }
            },
            "type": "scatterpolargl"
           }
          ],
          "scatterternary": [
           {
            "marker": {
             "colorbar": {
              "outlinewidth": 0,
              "ticks": ""
             }
            },
            "type": "scatterternary"
           }
          ],
          "surface": [
           {
            "colorbar": {
             "outlinewidth": 0,
             "ticks": ""
            },
            "colorscale": [
             [
              0,
              "#0d0887"
             ],
             [
              0.1111111111111111,
              "#46039f"
             ],
             [
              0.2222222222222222,
              "#7201a8"
             ],
             [
              0.3333333333333333,
              "#9c179e"
             ],
             [
              0.4444444444444444,
              "#bd3786"
             ],
             [
              0.5555555555555556,
              "#d8576b"
             ],
             [
              0.6666666666666666,
              "#ed7953"
             ],
             [
              0.7777777777777778,
              "#fb9f3a"
             ],
             [
              0.8888888888888888,
              "#fdca26"
             ],
             [
              1,
              "#f0f921"
             ]
            ],
            "type": "surface"
           }
          ],
          "table": [
           {
            "cells": {
             "fill": {
              "color": "#EBF0F8"
             },
             "line": {
              "color": "white"
             }
            },
            "header": {
             "fill": {
              "color": "#C8D4E3"
             },
             "line": {
              "color": "white"
             }
            },
            "type": "table"
           }
          ]
         },
         "layout": {
          "annotationdefaults": {
           "arrowcolor": "#2a3f5f",
           "arrowhead": 0,
           "arrowwidth": 1
          },
          "autotypenumbers": "strict",
          "coloraxis": {
           "colorbar": {
            "outlinewidth": 0,
            "ticks": ""
           }
          },
          "colorscale": {
           "diverging": [
            [
             0,
             "#8e0152"
            ],
            [
             0.1,
             "#c51b7d"
            ],
            [
             0.2,
             "#de77ae"
            ],
            [
             0.3,
             "#f1b6da"
            ],
            [
             0.4,
             "#fde0ef"
            ],
            [
             0.5,
             "#f7f7f7"
            ],
            [
             0.6,
             "#e6f5d0"
            ],
            [
             0.7,
             "#b8e186"
            ],
            [
             0.8,
             "#7fbc41"
            ],
            [
             0.9,
             "#4d9221"
            ],
            [
             1,
             "#276419"
            ]
           ],
           "sequential": [
            [
             0,
             "#0d0887"
            ],
            [
             0.1111111111111111,
             "#46039f"
            ],
            [
             0.2222222222222222,
             "#7201a8"
            ],
            [
             0.3333333333333333,
             "#9c179e"
            ],
            [
             0.4444444444444444,
             "#bd3786"
            ],
            [
             0.5555555555555556,
             "#d8576b"
            ],
            [
             0.6666666666666666,
             "#ed7953"
            ],
            [
             0.7777777777777778,
             "#fb9f3a"
            ],
            [
             0.8888888888888888,
             "#fdca26"
            ],
            [
             1,
             "#f0f921"
            ]
           ],
           "sequentialminus": [
            [
             0,
             "#0d0887"
            ],
            [
             0.1111111111111111,
             "#46039f"
            ],
            [
             0.2222222222222222,
             "#7201a8"
            ],
            [
             0.3333333333333333,
             "#9c179e"
            ],
            [
             0.4444444444444444,
             "#bd3786"
            ],
            [
             0.5555555555555556,
             "#d8576b"
            ],
            [
             0.6666666666666666,
             "#ed7953"
            ],
            [
             0.7777777777777778,
             "#fb9f3a"
            ],
            [
             0.8888888888888888,
             "#fdca26"
            ],
            [
             1,
             "#f0f921"
            ]
           ]
          },
          "colorway": [
           "#636efa",
           "#EF553B",
           "#00cc96",
           "#ab63fa",
           "#FFA15A",
           "#19d3f3",
           "#FF6692",
           "#B6E880",
           "#FF97FF",
           "#FECB52"
          ],
          "font": {
           "color": "#2a3f5f"
          },
          "geo": {
           "bgcolor": "white",
           "lakecolor": "white",
           "landcolor": "#E5ECF6",
           "showlakes": true,
           "showland": true,
           "subunitcolor": "white"
          },
          "hoverlabel": {
           "align": "left"
          },
          "hovermode": "closest",
          "mapbox": {
           "style": "light"
          },
          "paper_bgcolor": "white",
          "plot_bgcolor": "#E5ECF6",
          "polar": {
           "angularaxis": {
            "gridcolor": "white",
            "linecolor": "white",
            "ticks": ""
           },
           "bgcolor": "#E5ECF6",
           "radialaxis": {
            "gridcolor": "white",
            "linecolor": "white",
            "ticks": ""
           }
          },
          "scene": {
           "xaxis": {
            "backgroundcolor": "#E5ECF6",
            "gridcolor": "white",
            "gridwidth": 2,
            "linecolor": "white",
            "showbackground": true,
            "ticks": "",
            "zerolinecolor": "white"
           },
           "yaxis": {
            "backgroundcolor": "#E5ECF6",
            "gridcolor": "white",
            "gridwidth": 2,
            "linecolor": "white",
            "showbackground": true,
            "ticks": "",
            "zerolinecolor": "white"
           },
           "zaxis": {
            "backgroundcolor": "#E5ECF6",
            "gridcolor": "white",
            "gridwidth": 2,
            "linecolor": "white",
            "showbackground": true,
            "ticks": "",
            "zerolinecolor": "white"
           }
          },
          "shapedefaults": {
           "line": {
            "color": "#2a3f5f"
           }
          },
          "ternary": {
           "aaxis": {
            "gridcolor": "white",
            "linecolor": "white",
            "ticks": ""
           },
           "baxis": {
            "gridcolor": "white",
            "linecolor": "white",
            "ticks": ""
           },
           "bgcolor": "#E5ECF6",
           "caxis": {
            "gridcolor": "white",
            "linecolor": "white",
            "ticks": ""
           }
          },
          "title": {
           "x": 0.05
          },
          "xaxis": {
           "automargin": true,
           "gridcolor": "white",
           "linecolor": "white",
           "ticks": "",
           "title": {
            "standoff": 15
           },
           "zerolinecolor": "white",
           "zerolinewidth": 2
          },
          "yaxis": {
           "automargin": true,
           "gridcolor": "white",
           "linecolor": "white",
           "ticks": "",
           "title": {
            "standoff": 15
           },
           "zerolinecolor": "white",
           "zerolinewidth": 2
          }
         }
        },
        "xaxis": {
         "anchor": "y",
         "domain": [
          0,
          1
         ],
         "title": {
          "text": "completions_last_per_game"
         }
        },
        "yaxis": {
         "anchor": "x",
         "domain": [
          0,
          1
         ],
         "title": {
          "text": "completions_per_game"
         }
        }
       }
      },
      "text/html": [
       "<div>                            <div id=\"09b3b131-c503-4994-8293-1c578f2bc6c4\" class=\"plotly-graph-div\" style=\"height:525px; width:100%;\"></div>            <script type=\"text/javascript\">                require([\"plotly\"], function(Plotly) {                    window.PLOTLYENV=window.PLOTLYENV || {};                                    if (document.getElementById(\"09b3b131-c503-4994-8293-1c578f2bc6c4\")) {                    Plotly.newPlot(                        \"09b3b131-c503-4994-8293-1c578f2bc6c4\",                        [{\"customdata\":[[\"P.Manning\",2013,37.0],[\"P.Manning\",2014,38.0],[\"T.Brady\",2013,36.0],[\"T.Brady\",2014,37.0],[\"T.Brady\",2015,38.0],[\"T.Brady\",2016,39.0],[\"T.Brady\",2017,40.0],[\"T.Brady\",2018,41.0],[\"T.Brady\",2019,42.0],[\"T.Brady\",2020,43.0],[\"T.Brady\",2021,44.0],[\"T.Brady\",2022,45.0],[\"D.Brees\",2013,34.0],[\"D.Brees\",2014,35.0],[\"D.Brees\",2015,36.0],[\"D.Brees\",2016,37.0],[\"D.Brees\",2017,38.0],[\"D.Brees\",2018,39.0],[\"C.Palmer\",2013,33.0],[\"C.Palmer\",2016,36.0],[\"T.Romo\",2013,33.0],[\"T.Romo\",2014,34.0],[\"E.Manning\",2013,32.0],[\"E.Manning\",2014,33.0],[\"E.Manning\",2015,34.0],[\"E.Manning\",2016,35.0],[\"E.Manning\",2017,36.0],[\"E.Manning\",2018,37.0],[\"B.Roethlisberger\",2013,31.0],[\"B.Roethlisberger\",2014,32.0],[\"B.Roethlisberger\",2015,33.0],[\"B.Roethlisberger\",2016,34.0],[\"B.Roethlisberger\",2017,35.0],[\"B.Roethlisberger\",2018,36.0],[\"B.Roethlisberger\",2021,39.0],[\"P.Rivers\",2013,31.0],[\"P.Rivers\",2014,32.0],[\"P.Rivers\",2015,33.0],[\"P.Rivers\",2016,34.0],[\"P.Rivers\",2017,35.0],[\"P.Rivers\",2018,36.0],[\"P.Rivers\",2019,37.0],[\"P.Rivers\",2020,38.0],[\"A.Smith\",2015,31.0],[\"A.Smith\",2016,32.0],[\"A.Smith\",2017,33.0],[\"A.Rodgers\",2015,31.0],[\"A.Rodgers\",2016,32.0],[\"A.Rodgers\",2019,35.0],[\"A.Rodgers\",2020,36.0],[\"A.Rodgers\",2021,37.0],[\"A.Rodgers\",2022,38.0],[\"R.Fitzpatrick\",2015,32.0],[\"R.Fitzpatrick\",2016,33.0],[\"J.Cutler\",2015,32.0],[\"M.Ryan\",2016,31.0],[\"M.Ryan\",2017,32.0],[\"M.Ryan\",2018,33.0],[\"M.Ryan\",2019,34.0],[\"M.Ryan\",2020,35.0],[\"M.Ryan\",2021,36.0],[\"M.Ryan\",2022,37.0],[\"J.Flacco\",2017,32.0],[\"M.Stafford\",2021,33.0],[\"R.Wilson\",2020,31.0],[\"R.Wilson\",2021,32.0],[\"R.Wilson\",2022,33.0],[\"K.Cousins\",2019,31.0],[\"K.Cousins\",2020,32.0],[\"K.Cousins\",2021,33.0],[\"K.Cousins\",2022,34.0],[\"R.Tannehill\",2020,32.0],[\"R.Tannehill\",2021,33.0],[\"R.Tannehill\",2022,34.0],[\"D.Carr\",2022,31.0]],\"hovertemplate\":\"completions_last_per_game=%{x}\\u003cbr\\u003ecompletions_per_game=%{y}\\u003cbr\\u003epasser=%{customdata[0]}\\u003cbr\\u003eseason=%{customdata[1]}\\u003cbr\\u003eage=%{customdata[2]}\\u003cextra\\u003e\\u003c\\u002fextra\\u003e\",\"legendgroup\":\"\",\"marker\":{\"color\":\"#636efa\",\"symbol\":\"circle\"},\"mode\":\"markers\",\"name\":\"\",\"orientation\":\"v\",\"showlegend\":false,\"x\":[25.0,28.125,25.0625,23.75,23.3125,25.125,24.25,24.0625,23.4375,23.3125,25.0625,28.529411764705884,26.375,27.8125,28.5,28.533333333333335,29.375,24.125,23.0,21.375,26.5625,22.8,20.0625,19.8125,23.6875,24.1875,23.5625,23.466666666666665,21.846153846153847,23.4375,25.5,26.583333333333332,23.428571428571427,24.0,26.6,21.125,23.625,23.6875,27.25,21.8125,22.5,21.6875,24.375,20.2,19.1875,21.866666666666667,21.3125,21.6875,23.25,22.0625,23.25,22.875,16.416666666666668,20.9375,24.666666666666668,25.4375,23.3125,21.375,26.375,27.2,25.4375,22.058823529411764,27.25,21.1875,21.3125,24.0,18.5,26.5625,20.466666666666665,21.8125,23.25,16.75,19.6875,21.0,25.176470588235293],\"xaxis\":\"x\",\"y\":[28.125,24.6875,23.75,23.3125,25.125,24.25,24.0625,23.4375,23.3125,25.0625,28.529411764705884,28.823529411764707,27.8125,28.5,28.533333333333335,29.375,24.125,24.266666666666666,22.625,24.266666666666666,22.8,20.266666666666666,19.8125,23.6875,24.1875,23.5625,23.466666666666665,23.75,23.4375,25.5,26.583333333333332,23.428571428571427,24.0,28.25,24.375,23.625,23.6875,27.25,21.8125,22.5,21.6875,24.375,23.0625,19.1875,21.866666666666667,22.733333333333334,21.6875,25.0625,22.0625,23.25,22.875,20.58823529411765,20.9375,16.285714285714285,20.733333333333334,23.3125,21.375,26.375,27.2,25.4375,22.058823529411764,25.75,22.0,23.764705882352942,24.0,18.5,19.466666666666665,20.466666666666665,21.8125,23.25,24.88235294117647,19.6875,21.0,17.666666666666668,20.333333333333332],\"yaxis\":\"y\",\"type\":\"scatter\"}],                        {\"template\":{\"data\":{\"histogram2dcontour\":[{\"type\":\"histogram2dcontour\",\"colorbar\":{\"outlinewidth\":0,\"ticks\":\"\"},\"colorscale\":[[0.0,\"#0d0887\"],[0.1111111111111111,\"#46039f\"],[0.2222222222222222,\"#7201a8\"],[0.3333333333333333,\"#9c179e\"],[0.4444444444444444,\"#bd3786\"],[0.5555555555555556,\"#d8576b\"],[0.6666666666666666,\"#ed7953\"],[0.7777777777777778,\"#fb9f3a\"],[0.8888888888888888,\"#fdca26\"],[1.0,\"#f0f921\"]]}],\"choropleth\":[{\"type\":\"choropleth\",\"colorbar\":{\"outlinewidth\":0,\"ticks\":\"\"}}],\"histogram2d\":[{\"type\":\"histogram2d\",\"colorbar\":{\"outlinewidth\":0,\"ticks\":\"\"},\"colorscale\":[[0.0,\"#0d0887\"],[0.1111111111111111,\"#46039f\"],[0.2222222222222222,\"#7201a8\"],[0.3333333333333333,\"#9c179e\"],[0.4444444444444444,\"#bd3786\"],[0.5555555555555556,\"#d8576b\"],[0.6666666666666666,\"#ed7953\"],[0.7777777777777778,\"#fb9f3a\"],[0.8888888888888888,\"#fdca26\"],[1.0,\"#f0f921\"]]}],\"heatmap\":[{\"type\":\"heatmap\",\"colorbar\":{\"outlinewidth\":0,\"ticks\":\"\"},\"colorscale\":[[0.0,\"#0d0887\"],[0.1111111111111111,\"#46039f\"],[0.2222222222222222,\"#7201a8\"],[0.3333333333333333,\"#9c179e\"],[0.4444444444444444,\"#bd3786\"],[0.5555555555555556,\"#d8576b\"],[0.6666666666666666,\"#ed7953\"],[0.7777777777777778,\"#fb9f3a\"],[0.8888888888888888,\"#fdca26\"],[1.0,\"#f0f921\"]]}],\"heatmapgl\":[{\"type\":\"heatmapgl\",\"colorbar\":{\"outlinewidth\":0,\"ticks\":\"\"},\"colorscale\":[[0.0,\"#0d0887\"],[0.1111111111111111,\"#46039f\"],[0.2222222222222222,\"#7201a8\"],[0.3333333333333333,\"#9c179e\"],[0.4444444444444444,\"#bd3786\"],[0.5555555555555556,\"#d8576b\"],[0.6666666666666666,\"#ed7953\"],[0.7777777777777778,\"#fb9f3a\"],[0.8888888888888888,\"#fdca26\"],[1.0,\"#f0f921\"]]}],\"contourcarpet\":[{\"type\":\"contourcarpet\",\"colorbar\":{\"outlinewidth\":0,\"ticks\":\"\"}}],\"contour\":[{\"type\":\"contour\",\"colorbar\":{\"outlinewidth\":0,\"ticks\":\"\"},\"colorscale\":[[0.0,\"#0d0887\"],[0.1111111111111111,\"#46039f\"],[0.2222222222222222,\"#7201a8\"],[0.3333333333333333,\"#9c179e\"],[0.4444444444444444,\"#bd3786\"],[0.5555555555555556,\"#d8576b\"],[0.6666666666666666,\"#ed7953\"],[0.7777777777777778,\"#fb9f3a\"],[0.8888888888888888,\"#fdca26\"],[1.0,\"#f0f921\"]]}],\"surface\":[{\"type\":\"surface\",\"colorbar\":{\"outlinewidth\":0,\"ticks\":\"\"},\"colorscale\":[[0.0,\"#0d0887\"],[0.1111111111111111,\"#46039f\"],[0.2222222222222222,\"#7201a8\"],[0.3333333333333333,\"#9c179e\"],[0.4444444444444444,\"#bd3786\"],[0.5555555555555556,\"#d8576b\"],[0.6666666666666666,\"#ed7953\"],[0.7777777777777778,\"#fb9f3a\"],[0.8888888888888888,\"#fdca26\"],[1.0,\"#f0f921\"]]}],\"mesh3d\":[{\"type\":\"mesh3d\",\"colorbar\":{\"outlinewidth\":0,\"ticks\":\"\"}}],\"scatter\":[{\"fillpattern\":{\"fillmode\":\"overlay\",\"size\":10,\"solidity\":0.2},\"type\":\"scatter\"}],\"parcoords\":[{\"type\":\"parcoords\",\"line\":{\"colorbar\":{\"outlinewidth\":0,\"ticks\":\"\"}}}],\"scatterpolargl\":[{\"type\":\"scatterpolargl\",\"marker\":{\"colorbar\":{\"outlinewidth\":0,\"ticks\":\"\"}}}],\"bar\":[{\"error_x\":{\"color\":\"#2a3f5f\"},\"error_y\":{\"color\":\"#2a3f5f\"},\"marker\":{\"line\":{\"color\":\"#E5ECF6\",\"width\":0.5},\"pattern\":{\"fillmode\":\"overlay\",\"size\":10,\"solidity\":0.2}},\"type\":\"bar\"}],\"scattergeo\":[{\"type\":\"scattergeo\",\"marker\":{\"colorbar\":{\"outlinewidth\":0,\"ticks\":\"\"}}}],\"scatterpolar\":[{\"type\":\"scatterpolar\",\"marker\":{\"colorbar\":{\"outlinewidth\":0,\"ticks\":\"\"}}}],\"histogram\":[{\"marker\":{\"pattern\":{\"fillmode\":\"overlay\",\"size\":10,\"solidity\":0.2}},\"type\":\"histogram\"}],\"scattergl\":[{\"type\":\"scattergl\",\"marker\":{\"colorbar\":{\"outlinewidth\":0,\"ticks\":\"\"}}}],\"scatter3d\":[{\"type\":\"scatter3d\",\"line\":{\"colorbar\":{\"outlinewidth\":0,\"ticks\":\"\"}},\"marker\":{\"colorbar\":{\"outlinewidth\":0,\"ticks\":\"\"}}}],\"scattermapbox\":[{\"type\":\"scattermapbox\",\"marker\":{\"colorbar\":{\"outlinewidth\":0,\"ticks\":\"\"}}}],\"scatterternary\":[{\"type\":\"scatterternary\",\"marker\":{\"colorbar\":{\"outlinewidth\":0,\"ticks\":\"\"}}}],\"scattercarpet\":[{\"type\":\"scattercarpet\",\"marker\":{\"colorbar\":{\"outlinewidth\":0,\"ticks\":\"\"}}}],\"carpet\":[{\"aaxis\":{\"endlinecolor\":\"#2a3f5f\",\"gridcolor\":\"white\",\"linecolor\":\"white\",\"minorgridcolor\":\"white\",\"startlinecolor\":\"#2a3f5f\"},\"baxis\":{\"endlinecolor\":\"#2a3f5f\",\"gridcolor\":\"white\",\"linecolor\":\"white\",\"minorgridcolor\":\"white\",\"startlinecolor\":\"#2a3f5f\"},\"type\":\"carpet\"}],\"table\":[{\"cells\":{\"fill\":{\"color\":\"#EBF0F8\"},\"line\":{\"color\":\"white\"}},\"header\":{\"fill\":{\"color\":\"#C8D4E3\"},\"line\":{\"color\":\"white\"}},\"type\":\"table\"}],\"barpolar\":[{\"marker\":{\"line\":{\"color\":\"#E5ECF6\",\"width\":0.5},\"pattern\":{\"fillmode\":\"overlay\",\"size\":10,\"solidity\":0.2}},\"type\":\"barpolar\"}],\"pie\":[{\"automargin\":true,\"type\":\"pie\"}]},\"layout\":{\"autotypenumbers\":\"strict\",\"colorway\":[\"#636efa\",\"#EF553B\",\"#00cc96\",\"#ab63fa\",\"#FFA15A\",\"#19d3f3\",\"#FF6692\",\"#B6E880\",\"#FF97FF\",\"#FECB52\"],\"font\":{\"color\":\"#2a3f5f\"},\"hovermode\":\"closest\",\"hoverlabel\":{\"align\":\"left\"},\"paper_bgcolor\":\"white\",\"plot_bgcolor\":\"#E5ECF6\",\"polar\":{\"bgcolor\":\"#E5ECF6\",\"angularaxis\":{\"gridcolor\":\"white\",\"linecolor\":\"white\",\"ticks\":\"\"},\"radialaxis\":{\"gridcolor\":\"white\",\"linecolor\":\"white\",\"ticks\":\"\"}},\"ternary\":{\"bgcolor\":\"#E5ECF6\",\"aaxis\":{\"gridcolor\":\"white\",\"linecolor\":\"white\",\"ticks\":\"\"},\"baxis\":{\"gridcolor\":\"white\",\"linecolor\":\"white\",\"ticks\":\"\"},\"caxis\":{\"gridcolor\":\"white\",\"linecolor\":\"white\",\"ticks\":\"\"}},\"coloraxis\":{\"colorbar\":{\"outlinewidth\":0,\"ticks\":\"\"}},\"colorscale\":{\"sequential\":[[0.0,\"#0d0887\"],[0.1111111111111111,\"#46039f\"],[0.2222222222222222,\"#7201a8\"],[0.3333333333333333,\"#9c179e\"],[0.4444444444444444,\"#bd3786\"],[0.5555555555555556,\"#d8576b\"],[0.6666666666666666,\"#ed7953\"],[0.7777777777777778,\"#fb9f3a\"],[0.8888888888888888,\"#fdca26\"],[1.0,\"#f0f921\"]],\"sequentialminus\":[[0.0,\"#0d0887\"],[0.1111111111111111,\"#46039f\"],[0.2222222222222222,\"#7201a8\"],[0.3333333333333333,\"#9c179e\"],[0.4444444444444444,\"#bd3786\"],[0.5555555555555556,\"#d8576b\"],[0.6666666666666666,\"#ed7953\"],[0.7777777777777778,\"#fb9f3a\"],[0.8888888888888888,\"#fdca26\"],[1.0,\"#f0f921\"]],\"diverging\":[[0,\"#8e0152\"],[0.1,\"#c51b7d\"],[0.2,\"#de77ae\"],[0.3,\"#f1b6da\"],[0.4,\"#fde0ef\"],[0.5,\"#f7f7f7\"],[0.6,\"#e6f5d0\"],[0.7,\"#b8e186\"],[0.8,\"#7fbc41\"],[0.9,\"#4d9221\"],[1,\"#276419\"]]},\"xaxis\":{\"gridcolor\":\"white\",\"linecolor\":\"white\",\"ticks\":\"\",\"title\":{\"standoff\":15},\"zerolinecolor\":\"white\",\"automargin\":true,\"zerolinewidth\":2},\"yaxis\":{\"gridcolor\":\"white\",\"linecolor\":\"white\",\"ticks\":\"\",\"title\":{\"standoff\":15},\"zerolinecolor\":\"white\",\"automargin\":true,\"zerolinewidth\":2},\"scene\":{\"xaxis\":{\"backgroundcolor\":\"#E5ECF6\",\"gridcolor\":\"white\",\"linecolor\":\"white\",\"showbackground\":true,\"ticks\":\"\",\"zerolinecolor\":\"white\",\"gridwidth\":2},\"yaxis\":{\"backgroundcolor\":\"#E5ECF6\",\"gridcolor\":\"white\",\"linecolor\":\"white\",\"showbackground\":true,\"ticks\":\"\",\"zerolinecolor\":\"white\",\"gridwidth\":2},\"zaxis\":{\"backgroundcolor\":\"#E5ECF6\",\"gridcolor\":\"white\",\"linecolor\":\"white\",\"showbackground\":true,\"ticks\":\"\",\"zerolinecolor\":\"white\",\"gridwidth\":2}},\"shapedefaults\":{\"line\":{\"color\":\"#2a3f5f\"}},\"annotationdefaults\":{\"arrowcolor\":\"#2a3f5f\",\"arrowhead\":0,\"arrowwidth\":1},\"geo\":{\"bgcolor\":\"white\",\"landcolor\":\"#E5ECF6\",\"subunitcolor\":\"white\",\"showland\":true,\"showlakes\":true,\"lakecolor\":\"white\"},\"title\":{\"x\":0.05},\"mapbox\":{\"style\":\"light\"}}},\"xaxis\":{\"anchor\":\"y\",\"domain\":[0.0,1.0],\"title\":{\"text\":\"completions_last_per_game\"}},\"yaxis\":{\"anchor\":\"x\",\"domain\":[0.0,1.0],\"title\":{\"text\":\"completions_per_game\"}},\"legend\":{\"tracegroupgap\":0},\"margin\":{\"t\":60}},                        {\"responsive\": true}                    ).then(function(){\n",
       "                            \n",
       "var gd = document.getElementById('09b3b131-c503-4994-8293-1c578f2bc6c4');\n",
       "var x = new MutationObserver(function (mutations, observer) {{\n",
       "        var display = window.getComputedStyle(gd).display;\n",
       "        if (!display || display === 'none') {{\n",
       "            console.log([gd, 'removed!']);\n",
       "            Plotly.purge(gd);\n",
       "            observer.disconnect();\n",
       "        }}\n",
       "}});\n",
       "\n",
       "// Listen for the removal of the full notebook cells\n",
       "var notebookContainer = gd.closest('#notebook-container');\n",
       "if (notebookContainer) {{\n",
       "    x.observe(notebookContainer, {childList: true});\n",
       "}}\n",
       "\n",
       "// Listen for the clearing of the current output cell\n",
       "var outputEl = gd.closest('.output');\n",
       "if (outputEl) {{\n",
       "    x.observe(outputEl, {childList: true});\n",
       "}}\n",
       "\n",
       "                        })                };                });            </script>        </div>"
      ]
     },
     "metadata": {},
     "output_type": "display_data"
    },
    {
     "data": {
      "text/html": [
       "<div>\n",
       "<style scoped>\n",
       "    .dataframe tbody tr th:only-of-type {\n",
       "        vertical-align: middle;\n",
       "    }\n",
       "\n",
       "    .dataframe tbody tr th {\n",
       "        vertical-align: top;\n",
       "    }\n",
       "\n",
       "    .dataframe thead th {\n",
       "        text-align: right;\n",
       "    }\n",
       "</style>\n",
       "<table border=\"1\" class=\"dataframe\">\n",
       "  <thead>\n",
       "    <tr style=\"text-align: right;\">\n",
       "      <th></th>\n",
       "      <th>passer_id</th>\n",
       "      <th>passer</th>\n",
       "      <th>season</th>\n",
       "      <th>age</th>\n",
       "      <th>age_last</th>\n",
       "      <th>passing_yards_per_game</th>\n",
       "      <th>passing_attempts_per_game</th>\n",
       "      <th>total_epa_per_game</th>\n",
       "      <th>passing_touchdowns_per_game</th>\n",
       "      <th>completions_per_game</th>\n",
       "      <th>fantasy_points_per_game</th>\n",
       "      <th>passing_yards_last_per_game</th>\n",
       "      <th>passing_attempts_last_per_game</th>\n",
       "      <th>total_epa_last_per_game</th>\n",
       "      <th>passing_touchdowns_last_per_game</th>\n",
       "      <th>completions_last_per_game</th>\n",
       "      <th>fantasy_points_last_per_game</th>\n",
       "      <th>games</th>\n",
       "      <th>games_last</th>\n",
       "    </tr>\n",
       "  </thead>\n",
       "  <tbody>\n",
       "    <tr>\n",
       "      <th>3</th>\n",
       "      <td>00-0010346</td>\n",
       "      <td>P.Manning</td>\n",
       "      <td>2013</td>\n",
       "      <td>37.0</td>\n",
       "      <td>36.0</td>\n",
       "      <td>342.312500</td>\n",
       "      <td>41.125000</td>\n",
       "      <td>18.124193</td>\n",
       "      <td>3.437500</td>\n",
       "      <td>28.125000</td>\n",
       "      <td>25.623750</td>\n",
       "      <td>291.187500</td>\n",
       "      <td>36.250000</td>\n",
       "      <td>11.813057</td>\n",
       "      <td>2.312500</td>\n",
       "      <td>25.000000</td>\n",
       "      <td>19.435000</td>\n",
       "      <td>16.0</td>\n",
       "      <td>16.0</td>\n",
       "    </tr>\n",
       "    <tr>\n",
       "      <th>4</th>\n",
       "      <td>00-0010346</td>\n",
       "      <td>P.Manning</td>\n",
       "      <td>2014</td>\n",
       "      <td>38.0</td>\n",
       "      <td>37.0</td>\n",
       "      <td>295.437500</td>\n",
       "      <td>37.187500</td>\n",
       "      <td>9.229780</td>\n",
       "      <td>2.437500</td>\n",
       "      <td>24.687500</td>\n",
       "      <td>19.542500</td>\n",
       "      <td>342.312500</td>\n",
       "      <td>41.125000</td>\n",
       "      <td>18.124193</td>\n",
       "      <td>3.437500</td>\n",
       "      <td>28.125000</td>\n",
       "      <td>25.623750</td>\n",
       "      <td>16.0</td>\n",
       "      <td>16.0</td>\n",
       "    </tr>\n",
       "    <tr>\n",
       "      <th>6</th>\n",
       "      <td>00-0019596</td>\n",
       "      <td>T.Brady</td>\n",
       "      <td>2013</td>\n",
       "      <td>36.0</td>\n",
       "      <td>35.0</td>\n",
       "      <td>271.437500</td>\n",
       "      <td>39.000000</td>\n",
       "      <td>8.530468</td>\n",
       "      <td>1.562500</td>\n",
       "      <td>23.750000</td>\n",
       "      <td>15.720000</td>\n",
       "      <td>301.687500</td>\n",
       "      <td>39.625000</td>\n",
       "      <td>13.721569</td>\n",
       "      <td>2.125000</td>\n",
       "      <td>25.062500</td>\n",
       "      <td>21.517500</td>\n",
       "      <td>16.0</td>\n",
       "      <td>16.0</td>\n",
       "    </tr>\n",
       "    <tr>\n",
       "      <th>7</th>\n",
       "      <td>00-0019596</td>\n",
       "      <td>T.Brady</td>\n",
       "      <td>2014</td>\n",
       "      <td>37.0</td>\n",
       "      <td>36.0</td>\n",
       "      <td>256.812500</td>\n",
       "      <td>36.375000</td>\n",
       "      <td>8.834653</td>\n",
       "      <td>2.062500</td>\n",
       "      <td>23.312500</td>\n",
       "      <td>17.378750</td>\n",
       "      <td>271.437500</td>\n",
       "      <td>39.000000</td>\n",
       "      <td>8.530468</td>\n",
       "      <td>1.562500</td>\n",
       "      <td>23.750000</td>\n",
       "      <td>15.720000</td>\n",
       "      <td>16.0</td>\n",
       "      <td>16.0</td>\n",
       "    </tr>\n",
       "    <tr>\n",
       "      <th>8</th>\n",
       "      <td>00-0019596</td>\n",
       "      <td>T.Brady</td>\n",
       "      <td>2015</td>\n",
       "      <td>38.0</td>\n",
       "      <td>37.0</td>\n",
       "      <td>298.125000</td>\n",
       "      <td>38.875000</td>\n",
       "      <td>11.165308</td>\n",
       "      <td>2.250000</td>\n",
       "      <td>25.125000</td>\n",
       "      <td>21.481250</td>\n",
       "      <td>256.812500</td>\n",
       "      <td>36.375000</td>\n",
       "      <td>8.834653</td>\n",
       "      <td>2.062500</td>\n",
       "      <td>23.312500</td>\n",
       "      <td>17.378750</td>\n",
       "      <td>16.0</td>\n",
       "      <td>16.0</td>\n",
       "    </tr>\n",
       "    <tr>\n",
       "      <th>...</th>\n",
       "      <td>...</td>\n",
       "      <td>...</td>\n",
       "      <td>...</td>\n",
       "      <td>...</td>\n",
       "      <td>...</td>\n",
       "      <td>...</td>\n",
       "      <td>...</td>\n",
       "      <td>...</td>\n",
       "      <td>...</td>\n",
       "      <td>...</td>\n",
       "      <td>...</td>\n",
       "      <td>...</td>\n",
       "      <td>...</td>\n",
       "      <td>...</td>\n",
       "      <td>...</td>\n",
       "      <td>...</td>\n",
       "      <td>...</td>\n",
       "      <td>...</td>\n",
       "      <td>...</td>\n",
       "    </tr>\n",
       "    <tr>\n",
       "      <th>327</th>\n",
       "      <td>00-0029604</td>\n",
       "      <td>K.Cousins</td>\n",
       "      <td>2022</td>\n",
       "      <td>34.0</td>\n",
       "      <td>33.0</td>\n",
       "      <td>266.823529</td>\n",
       "      <td>37.588235</td>\n",
       "      <td>6.035784</td>\n",
       "      <td>1.705882</td>\n",
       "      <td>24.882353</td>\n",
       "      <td>17.151765</td>\n",
       "      <td>263.812500</td>\n",
       "      <td>34.750000</td>\n",
       "      <td>7.744782</td>\n",
       "      <td>2.062500</td>\n",
       "      <td>23.250000</td>\n",
       "      <td>18.771250</td>\n",
       "      <td>17.0</td>\n",
       "      <td>16.0</td>\n",
       "    </tr>\n",
       "    <tr>\n",
       "      <th>353</th>\n",
       "      <td>00-0029701</td>\n",
       "      <td>R.Tannehill</td>\n",
       "      <td>2020</td>\n",
       "      <td>32.0</td>\n",
       "      <td>31.0</td>\n",
       "      <td>238.687500</td>\n",
       "      <td>30.062500</td>\n",
       "      <td>10.301593</td>\n",
       "      <td>2.062500</td>\n",
       "      <td>19.687500</td>\n",
       "      <td>21.710000</td>\n",
       "      <td>228.500000</td>\n",
       "      <td>23.583333</td>\n",
       "      <td>9.881447</td>\n",
       "      <td>1.833333</td>\n",
       "      <td>16.750000</td>\n",
       "      <td>18.681667</td>\n",
       "      <td>16.0</td>\n",
       "      <td>12.0</td>\n",
       "    </tr>\n",
       "    <tr>\n",
       "      <th>354</th>\n",
       "      <td>00-0029701</td>\n",
       "      <td>R.Tannehill</td>\n",
       "      <td>2021</td>\n",
       "      <td>33.0</td>\n",
       "      <td>32.0</td>\n",
       "      <td>219.647059</td>\n",
       "      <td>31.176471</td>\n",
       "      <td>5.615993</td>\n",
       "      <td>1.235294</td>\n",
       "      <td>21.000000</td>\n",
       "      <td>16.021176</td>\n",
       "      <td>238.687500</td>\n",
       "      <td>30.062500</td>\n",
       "      <td>10.301593</td>\n",
       "      <td>2.062500</td>\n",
       "      <td>19.687500</td>\n",
       "      <td>21.710000</td>\n",
       "      <td>17.0</td>\n",
       "      <td>16.0</td>\n",
       "    </tr>\n",
       "    <tr>\n",
       "      <th>355</th>\n",
       "      <td>00-0029701</td>\n",
       "      <td>R.Tannehill</td>\n",
       "      <td>2022</td>\n",
       "      <td>34.0</td>\n",
       "      <td>33.0</td>\n",
       "      <td>211.333333</td>\n",
       "      <td>27.000000</td>\n",
       "      <td>5.960948</td>\n",
       "      <td>1.083333</td>\n",
       "      <td>17.666667</td>\n",
       "      <td>13.770000</td>\n",
       "      <td>219.647059</td>\n",
       "      <td>31.176471</td>\n",
       "      <td>5.615993</td>\n",
       "      <td>1.235294</td>\n",
       "      <td>21.000000</td>\n",
       "      <td>16.021176</td>\n",
       "      <td>12.0</td>\n",
       "      <td>17.0</td>\n",
       "    </tr>\n",
       "    <tr>\n",
       "      <th>405</th>\n",
       "      <td>00-0031280</td>\n",
       "      <td>D.Carr</td>\n",
       "      <td>2022</td>\n",
       "      <td>31.0</td>\n",
       "      <td>30.0</td>\n",
       "      <td>234.800000</td>\n",
       "      <td>33.466667</td>\n",
       "      <td>3.874200</td>\n",
       "      <td>1.600000</td>\n",
       "      <td>20.333333</td>\n",
       "      <td>14.605333</td>\n",
       "      <td>282.588235</td>\n",
       "      <td>36.647059</td>\n",
       "      <td>5.837842</td>\n",
       "      <td>1.352941</td>\n",
       "      <td>25.176471</td>\n",
       "      <td>15.115294</td>\n",
       "      <td>15.0</td>\n",
       "      <td>17.0</td>\n",
       "    </tr>\n",
       "  </tbody>\n",
       "</table>\n",
       "<p>75 rows × 19 columns</p>\n",
       "</div>"
      ],
      "text/plain": [
       "      passer_id       passer  season   age  age_last  passing_yards_per_game  \\\n",
       "3    00-0010346    P.Manning    2013  37.0      36.0              342.312500   \n",
       "4    00-0010346    P.Manning    2014  38.0      37.0              295.437500   \n",
       "6    00-0019596      T.Brady    2013  36.0      35.0              271.437500   \n",
       "7    00-0019596      T.Brady    2014  37.0      36.0              256.812500   \n",
       "8    00-0019596      T.Brady    2015  38.0      37.0              298.125000   \n",
       "..          ...          ...     ...   ...       ...                     ...   \n",
       "327  00-0029604    K.Cousins    2022  34.0      33.0              266.823529   \n",
       "353  00-0029701  R.Tannehill    2020  32.0      31.0              238.687500   \n",
       "354  00-0029701  R.Tannehill    2021  33.0      32.0              219.647059   \n",
       "355  00-0029701  R.Tannehill    2022  34.0      33.0              211.333333   \n",
       "405  00-0031280       D.Carr    2022  31.0      30.0              234.800000   \n",
       "\n",
       "     passing_attempts_per_game  total_epa_per_game  \\\n",
       "3                    41.125000           18.124193   \n",
       "4                    37.187500            9.229780   \n",
       "6                    39.000000            8.530468   \n",
       "7                    36.375000            8.834653   \n",
       "8                    38.875000           11.165308   \n",
       "..                         ...                 ...   \n",
       "327                  37.588235            6.035784   \n",
       "353                  30.062500           10.301593   \n",
       "354                  31.176471            5.615993   \n",
       "355                  27.000000            5.960948   \n",
       "405                  33.466667            3.874200   \n",
       "\n",
       "     passing_touchdowns_per_game  completions_per_game  \\\n",
       "3                       3.437500             28.125000   \n",
       "4                       2.437500             24.687500   \n",
       "6                       1.562500             23.750000   \n",
       "7                       2.062500             23.312500   \n",
       "8                       2.250000             25.125000   \n",
       "..                           ...                   ...   \n",
       "327                     1.705882             24.882353   \n",
       "353                     2.062500             19.687500   \n",
       "354                     1.235294             21.000000   \n",
       "355                     1.083333             17.666667   \n",
       "405                     1.600000             20.333333   \n",
       "\n",
       "     fantasy_points_per_game  passing_yards_last_per_game  \\\n",
       "3                  25.623750                   291.187500   \n",
       "4                  19.542500                   342.312500   \n",
       "6                  15.720000                   301.687500   \n",
       "7                  17.378750                   271.437500   \n",
       "8                  21.481250                   256.812500   \n",
       "..                       ...                          ...   \n",
       "327                17.151765                   263.812500   \n",
       "353                21.710000                   228.500000   \n",
       "354                16.021176                   238.687500   \n",
       "355                13.770000                   219.647059   \n",
       "405                14.605333                   282.588235   \n",
       "\n",
       "     passing_attempts_last_per_game  total_epa_last_per_game  \\\n",
       "3                         36.250000                11.813057   \n",
       "4                         41.125000                18.124193   \n",
       "6                         39.625000                13.721569   \n",
       "7                         39.000000                 8.530468   \n",
       "8                         36.375000                 8.834653   \n",
       "..                              ...                      ...   \n",
       "327                       34.750000                 7.744782   \n",
       "353                       23.583333                 9.881447   \n",
       "354                       30.062500                10.301593   \n",
       "355                       31.176471                 5.615993   \n",
       "405                       36.647059                 5.837842   \n",
       "\n",
       "     passing_touchdowns_last_per_game  completions_last_per_game  \\\n",
       "3                            2.312500                  25.000000   \n",
       "4                            3.437500                  28.125000   \n",
       "6                            2.125000                  25.062500   \n",
       "7                            1.562500                  23.750000   \n",
       "8                            2.062500                  23.312500   \n",
       "..                                ...                        ...   \n",
       "327                          2.062500                  23.250000   \n",
       "353                          1.833333                  16.750000   \n",
       "354                          2.062500                  19.687500   \n",
       "355                          1.235294                  21.000000   \n",
       "405                          1.352941                  25.176471   \n",
       "\n",
       "     fantasy_points_last_per_game  games  games_last  \n",
       "3                       19.435000   16.0        16.0  \n",
       "4                       25.623750   16.0        16.0  \n",
       "6                       21.517500   16.0        16.0  \n",
       "7                       15.720000   16.0        16.0  \n",
       "8                       17.378750   16.0        16.0  \n",
       "..                            ...    ...         ...  \n",
       "327                     18.771250   17.0        16.0  \n",
       "353                     18.681667   16.0        12.0  \n",
       "354                     21.710000   17.0        16.0  \n",
       "355                     16.021176   12.0        17.0  \n",
       "405                     15.115294   15.0        17.0  \n",
       "\n",
       "[75 rows x 19 columns]"
      ]
     },
     "execution_count": 55,
     "metadata": {},
     "output_type": "execute_result"
    }
   ],
   "source": [
    "query = \"games >= 12 and games_last >= 12 \\\n",
    "and passing_yards_per_game >= 150 and passing_yards_last_per_game >= 150 \\\n",
    "and age_last >= 30\"\n",
    "filter_df(df, query, x, y, \"old\")"
   ]
  },
  {
   "cell_type": "markdown",
   "id": "4dbaf418",
   "metadata": {},
   "source": [
    "## Exploration"
   ]
  },
  {
   "cell_type": "code",
   "execution_count": null,
   "id": "2c17449b",
   "metadata": {},
   "outputs": [],
   "source": [
    "query = \"games >= 12 and games_last >= 12 \\\n",
    "and passing_yards_per_game >= 200 and passing_yards_last_per_game >= 200\"\n",
    "filter_df(df, query, x, y)"
   ]
  },
  {
   "cell_type": "code",
   "execution_count": null,
   "id": "cc102396",
   "metadata": {},
   "outputs": [],
   "source": []
  }
 ],
 "metadata": {
  "kernelspec": {
   "display_name": "plotly",
   "language": "python",
   "name": "plotly"
  },
  "language_info": {
   "codemirror_mode": {
    "name": "ipython",
    "version": 3
   },
   "file_extension": ".py",
   "mimetype": "text/x-python",
   "name": "python",
   "nbconvert_exporter": "python",
   "pygments_lexer": "ipython3",
   "version": "3.9.7"
  }
 },
 "nbformat": 4,
 "nbformat_minor": 5
}
