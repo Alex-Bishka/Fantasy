{
 "cells": [
  {
   "cell_type": "markdown",
   "id": "2c4c46b9",
   "metadata": {},
   "source": [
    "# Imports"
   ]
  },
  {
   "cell_type": "code",
   "execution_count": 1,
   "id": "d8d4517e",
   "metadata": {},
   "outputs": [],
   "source": [
    "import itertools\n",
    "import numpy as np\n",
    "import pandas as pd"
   ]
  },
  {
   "cell_type": "code",
   "execution_count": 2,
   "id": "ae3c8206",
   "metadata": {},
   "outputs": [],
   "source": [
    "import sys\n",
    "import os\n",
    "sys.path.append(os.path.abspath('..'))\n",
    "from helpers_df import create_lag_df, create_train_and_test_sets, normalize_stats"
   ]
  },
  {
   "cell_type": "markdown",
   "id": "d8c28847",
   "metadata": {},
   "source": [
    "# Grab Data"
   ]
  },
  {
   "cell_type": "code",
   "execution_count": 3,
   "id": "3056565c",
   "metadata": {},
   "outputs": [],
   "source": [
    "df_rec = pd.read_pickle(\"./wr-simple-data-2012-2022.pkl\")"
   ]
  },
  {
   "cell_type": "code",
   "execution_count": 4,
   "id": "3b3120f7",
   "metadata": {},
   "outputs": [],
   "source": [
    "df_wr = df_rec.query(\"position == 'WR'\").copy()"
   ]
  },
  {
   "cell_type": "code",
   "execution_count": 5,
   "id": "364c631b",
   "metadata": {},
   "outputs": [],
   "source": [
    "query = \"games >= 10\"\n",
    "df_wr_filtered = df_wr.query(query).copy()"
   ]
  },
  {
   "cell_type": "markdown",
   "id": "be061272",
   "metadata": {},
   "source": [
    "# Lag Version"
   ]
  },
  {
   "cell_type": "code",
   "execution_count": 8,
   "id": "6f7c8035",
   "metadata": {},
   "outputs": [],
   "source": [
    "df_lag = create_lag_df(df_wr_filtered.copy())"
   ]
  },
  {
   "cell_type": "code",
   "execution_count": 9,
   "id": "ad25c6b9",
   "metadata": {},
   "outputs": [
    {
     "data": {
      "text/html": [
       "<div>\n",
       "<style scoped>\n",
       "    .dataframe tbody tr th:only-of-type {\n",
       "        vertical-align: middle;\n",
       "    }\n",
       "\n",
       "    .dataframe tbody tr th {\n",
       "        vertical-align: top;\n",
       "    }\n",
       "\n",
       "    .dataframe thead th {\n",
       "        text-align: right;\n",
       "    }\n",
       "</style>\n",
       "<table border=\"1\" class=\"dataframe\">\n",
       "  <thead>\n",
       "    <tr style=\"text-align: right;\">\n",
       "      <th></th>\n",
       "      <th>player_id</th>\n",
       "      <th>season</th>\n",
       "      <th>season_type</th>\n",
       "      <th>receptions</th>\n",
       "      <th>targets</th>\n",
       "      <th>receiving_yards</th>\n",
       "      <th>receiving_tds</th>\n",
       "      <th>receiving_fumbles</th>\n",
       "      <th>receiving_fumbles_lost</th>\n",
       "      <th>receiving_air_yards</th>\n",
       "      <th>...</th>\n",
       "      <th>rtd_sh_last</th>\n",
       "      <th>rfd_sh_last</th>\n",
       "      <th>rtdfd_sh_last</th>\n",
       "      <th>dom_last</th>\n",
       "      <th>w8dom_last</th>\n",
       "      <th>yptmpa_last</th>\n",
       "      <th>ppr_sh_last</th>\n",
       "      <th>age_last</th>\n",
       "      <th>position_last</th>\n",
       "      <th>player_name_last</th>\n",
       "    </tr>\n",
       "  </thead>\n",
       "  <tbody>\n",
       "    <tr>\n",
       "      <th>0</th>\n",
       "      <td>00-0020337</td>\n",
       "      <td>2013</td>\n",
       "      <td>REG</td>\n",
       "      <td>64</td>\n",
       "      <td>110</td>\n",
       "      <td>745.0</td>\n",
       "      <td>4</td>\n",
       "      <td>0.0</td>\n",
       "      <td>0.0</td>\n",
       "      <td>1219.0</td>\n",
       "      <td>...</td>\n",
       "      <td>0.210526</td>\n",
       "      <td>0.298246</td>\n",
       "      <td>0.289474</td>\n",
       "      <td>0.254741</td>\n",
       "      <td>0.281270</td>\n",
       "      <td>2.395918</td>\n",
       "      <td>0.162871</td>\n",
       "      <td>33.0</td>\n",
       "      <td>WR</td>\n",
       "      <td>Steve Smith</td>\n",
       "    </tr>\n",
       "    <tr>\n",
       "      <th>1</th>\n",
       "      <td>00-0020337</td>\n",
       "      <td>2014</td>\n",
       "      <td>REG</td>\n",
       "      <td>79</td>\n",
       "      <td>134</td>\n",
       "      <td>1065.0</td>\n",
       "      <td>6</td>\n",
       "      <td>2.0</td>\n",
       "      <td>1.0</td>\n",
       "      <td>1413.0</td>\n",
       "      <td>...</td>\n",
       "      <td>0.181818</td>\n",
       "      <td>0.268293</td>\n",
       "      <td>0.258065</td>\n",
       "      <td>0.206234</td>\n",
       "      <td>0.220884</td>\n",
       "      <td>1.670404</td>\n",
       "      <td>0.136052</td>\n",
       "      <td>34.0</td>\n",
       "      <td>WR</td>\n",
       "      <td>Steve Smith</td>\n",
       "    </tr>\n",
       "    <tr>\n",
       "      <th>2</th>\n",
       "      <td>00-0020494</td>\n",
       "      <td>2013</td>\n",
       "      <td>REG</td>\n",
       "      <td>42</td>\n",
       "      <td>78</td>\n",
       "      <td>452.0</td>\n",
       "      <td>2</td>\n",
       "      <td>1.0</td>\n",
       "      <td>1.0</td>\n",
       "      <td>641.0</td>\n",
       "      <td>...</td>\n",
       "      <td>0.333333</td>\n",
       "      <td>0.157895</td>\n",
       "      <td>0.179487</td>\n",
       "      <td>0.244817</td>\n",
       "      <td>0.191708</td>\n",
       "      <td>1.296380</td>\n",
       "      <td>0.102523</td>\n",
       "      <td>33.0</td>\n",
       "      <td>WR</td>\n",
       "      <td>Santana Moss</td>\n",
       "    </tr>\n",
       "    <tr>\n",
       "      <th>3</th>\n",
       "      <td>00-0022044</td>\n",
       "      <td>2013</td>\n",
       "      <td>REG</td>\n",
       "      <td>109</td>\n",
       "      <td>181</td>\n",
       "      <td>1407.0</td>\n",
       "      <td>5</td>\n",
       "      <td>0.0</td>\n",
       "      <td>0.0</td>\n",
       "      <td>2004.0</td>\n",
       "      <td>...</td>\n",
       "      <td>0.181818</td>\n",
       "      <td>0.385366</td>\n",
       "      <td>0.365639</td>\n",
       "      <td>0.288388</td>\n",
       "      <td>0.352330</td>\n",
       "      <td>2.884477</td>\n",
       "      <td>0.204743</td>\n",
       "      <td>31.0</td>\n",
       "      <td>WR</td>\n",
       "      <td>Andre Johnson</td>\n",
       "    </tr>\n",
       "    <tr>\n",
       "      <th>4</th>\n",
       "      <td>00-0022044</td>\n",
       "      <td>2014</td>\n",
       "      <td>REG</td>\n",
       "      <td>85</td>\n",
       "      <td>147</td>\n",
       "      <td>936.0</td>\n",
       "      <td>3</td>\n",
       "      <td>3.0</td>\n",
       "      <td>3.0</td>\n",
       "      <td>1358.0</td>\n",
       "      <td>...</td>\n",
       "      <td>0.263158</td>\n",
       "      <td>0.348485</td>\n",
       "      <td>0.341014</td>\n",
       "      <td>0.299760</td>\n",
       "      <td>0.321721</td>\n",
       "      <td>2.222749</td>\n",
       "      <td>0.213362</td>\n",
       "      <td>32.0</td>\n",
       "      <td>WR</td>\n",
       "      <td>Andre Johnson</td>\n",
       "    </tr>\n",
       "  </tbody>\n",
       "</table>\n",
       "<p>5 rows × 69 columns</p>\n",
       "</div>"
      ],
      "text/plain": [
       "    player_id  season season_type  receptions  targets  receiving_yards  \\\n",
       "0  00-0020337    2013         REG          64      110            745.0   \n",
       "1  00-0020337    2014         REG          79      134           1065.0   \n",
       "2  00-0020494    2013         REG          42       78            452.0   \n",
       "3  00-0022044    2013         REG         109      181           1407.0   \n",
       "4  00-0022044    2014         REG          85      147            936.0   \n",
       "\n",
       "   receiving_tds  receiving_fumbles  receiving_fumbles_lost  \\\n",
       "0              4                0.0                     0.0   \n",
       "1              6                2.0                     1.0   \n",
       "2              2                1.0                     1.0   \n",
       "3              5                0.0                     0.0   \n",
       "4              3                3.0                     3.0   \n",
       "\n",
       "   receiving_air_yards  ...  rtd_sh_last  rfd_sh_last  rtdfd_sh_last  \\\n",
       "0               1219.0  ...     0.210526     0.298246       0.289474   \n",
       "1               1413.0  ...     0.181818     0.268293       0.258065   \n",
       "2                641.0  ...     0.333333     0.157895       0.179487   \n",
       "3               2004.0  ...     0.181818     0.385366       0.365639   \n",
       "4               1358.0  ...     0.263158     0.348485       0.341014   \n",
       "\n",
       "   dom_last  w8dom_last  yptmpa_last  ppr_sh_last  age_last  position_last  \\\n",
       "0  0.254741    0.281270     2.395918     0.162871      33.0             WR   \n",
       "1  0.206234    0.220884     1.670404     0.136052      34.0             WR   \n",
       "2  0.244817    0.191708     1.296380     0.102523      33.0             WR   \n",
       "3  0.288388    0.352330     2.884477     0.204743      31.0             WR   \n",
       "4  0.299760    0.321721     2.222749     0.213362      32.0             WR   \n",
       "\n",
       "   player_name_last  \n",
       "0       Steve Smith  \n",
       "1       Steve Smith  \n",
       "2      Santana Moss  \n",
       "3     Andre Johnson  \n",
       "4     Andre Johnson  \n",
       "\n",
       "[5 rows x 69 columns]"
      ]
     },
     "execution_count": 9,
     "metadata": {},
     "output_type": "execute_result"
    }
   ],
   "source": [
    "df_lag.head()"
   ]
  },
  {
   "cell_type": "markdown",
   "id": "f5852a3d",
   "metadata": {},
   "source": [
    "# Create Test and Train Sets"
   ]
  },
  {
   "cell_type": "code",
   "execution_count": 10,
   "id": "9049af9a",
   "metadata": {},
   "outputs": [],
   "source": [
    "x_cols = ['receiving_yards_after_catch_last',\n",
    "       'receiving_air_yards_last', 'tgt_sh_last', \"age\"]"
   ]
  },
  {
   "cell_type": "code",
   "execution_count": 11,
   "id": "22078e93",
   "metadata": {},
   "outputs": [
    {
     "name": "stdout",
     "output_type": "stream",
     "text": [
      "```\n",
      "Length of train set: 584\n",
      "Length of test set: 146\n",
      "Length of data set: 730\n",
      "```\n"
     ]
    }
   ],
   "source": [
    "X_train, X_test, y_train, y_test = create_train_and_test_sets(df_lag,\n",
    "                                                              x_cols=x_cols,\n",
    "                                                              inference_col = \"fantasy_points\"\n",
    "                                                             )"
   ]
  },
  {
   "cell_type": "markdown",
   "id": "36410c81",
   "metadata": {},
   "source": [
    "# Normalization"
   ]
  },
  {
   "cell_type": "code",
   "execution_count": 12,
   "id": "5ea4ae16",
   "metadata": {},
   "outputs": [],
   "source": [
    "from sklearn.preprocessing import StandardScaler"
   ]
  },
  {
   "cell_type": "code",
   "execution_count": 13,
   "id": "c24982ba",
   "metadata": {},
   "outputs": [],
   "source": [
    "scaler = StandardScaler()\n",
    "X_train_scaled = scaler.fit_transform(X_train)\n",
    "X_test_scaled = scaler.transform(X_test)"
   ]
  },
  {
   "cell_type": "markdown",
   "id": "2a83491f",
   "metadata": {},
   "source": [
    "# Fit Models"
   ]
  },
  {
   "cell_type": "code",
   "execution_count": 14,
   "id": "37b97aa5",
   "metadata": {},
   "outputs": [],
   "source": [
    "best_score = 0\n",
    "best_model = None"
   ]
  },
  {
   "cell_type": "markdown",
   "id": "b2b1eb28",
   "metadata": {},
   "source": [
    "## MLR"
   ]
  },
  {
   "cell_type": "code",
   "execution_count": 15,
   "id": "d0afcc07",
   "metadata": {},
   "outputs": [],
   "source": [
    "from sklearn.linear_model import LinearRegression"
   ]
  },
  {
   "cell_type": "code",
   "execution_count": 16,
   "id": "e7d44e26",
   "metadata": {},
   "outputs": [],
   "source": [
    "mlr = LinearRegression().fit(X_train_scaled, y_train)\n",
    "score = round(mlr.score(X_test_scaled, y_test), 3)"
   ]
  },
  {
   "cell_type": "code",
   "execution_count": 17,
   "id": "e2a952b8",
   "metadata": {},
   "outputs": [
    {
     "data": {
      "text/plain": [
       "0.406"
      ]
     },
     "execution_count": 17,
     "metadata": {},
     "output_type": "execute_result"
    }
   ],
   "source": [
    "if score > best_score:\n",
    "    best_score = score\n",
    "    best_model = mlr\n",
    "score"
   ]
  },
  {
   "cell_type": "markdown",
   "id": "2705e8a3",
   "metadata": {},
   "source": [
    "## Random Forest Regressor"
   ]
  },
  {
   "cell_type": "code",
   "execution_count": 18,
   "id": "8c7f45d9",
   "metadata": {},
   "outputs": [],
   "source": [
    "from sklearn.ensemble import RandomForestRegressor"
   ]
  },
  {
   "cell_type": "code",
   "execution_count": 19,
   "id": "2cbf3cff",
   "metadata": {},
   "outputs": [],
   "source": [
    "start = 1\n",
    "stop = 100 + 1"
   ]
  },
  {
   "cell_type": "code",
   "execution_count": 20,
   "id": "f189b091",
   "metadata": {},
   "outputs": [
    {
     "name": "stdout",
     "output_type": "stream",
     "text": [
      "\n",
      "Done :)\n"
     ]
    }
   ],
   "source": [
    "for depth in range(start, stop):\n",
    "    rfr = RandomForestRegressor(max_depth=depth, random_state=0)\n",
    "    rfr.fit(X_train_scaled, y_train)\n",
    "    \n",
    "    score = rfr.score(X_test_scaled, y_test)\n",
    "    if score > best_score:\n",
    "        print(f\"New best score: {score}\")\n",
    "        best_score = score\n",
    "        best_model = rfr\n",
    "        \n",
    "print(\"\\nDone :)\")"
   ]
  },
  {
   "cell_type": "markdown",
   "id": "bf390fac",
   "metadata": {},
   "source": [
    "## Gradient Boosting Machines"
   ]
  },
  {
   "cell_type": "code",
   "execution_count": 21,
   "id": "e849f173",
   "metadata": {},
   "outputs": [],
   "source": [
    "from sklearn.ensemble import GradientBoostingRegressor"
   ]
  },
  {
   "cell_type": "code",
   "execution_count": 22,
   "id": "d738cbd6",
   "metadata": {},
   "outputs": [],
   "source": [
    "gbm = GradientBoostingRegressor(random_state=0)"
   ]
  },
  {
   "cell_type": "code",
   "execution_count": 23,
   "id": "e2e4d0e7",
   "metadata": {},
   "outputs": [
    {
     "data": {
      "text/html": [
       "<style>#sk-container-id-1 {color: black;}#sk-container-id-1 pre{padding: 0;}#sk-container-id-1 div.sk-toggleable {background-color: white;}#sk-container-id-1 label.sk-toggleable__label {cursor: pointer;display: block;width: 100%;margin-bottom: 0;padding: 0.3em;box-sizing: border-box;text-align: center;}#sk-container-id-1 label.sk-toggleable__label-arrow:before {content: \"▸\";float: left;margin-right: 0.25em;color: #696969;}#sk-container-id-1 label.sk-toggleable__label-arrow:hover:before {color: black;}#sk-container-id-1 div.sk-estimator:hover label.sk-toggleable__label-arrow:before {color: black;}#sk-container-id-1 div.sk-toggleable__content {max-height: 0;max-width: 0;overflow: hidden;text-align: left;background-color: #f0f8ff;}#sk-container-id-1 div.sk-toggleable__content pre {margin: 0.2em;color: black;border-radius: 0.25em;background-color: #f0f8ff;}#sk-container-id-1 input.sk-toggleable__control:checked~div.sk-toggleable__content {max-height: 200px;max-width: 100%;overflow: auto;}#sk-container-id-1 input.sk-toggleable__control:checked~label.sk-toggleable__label-arrow:before {content: \"▾\";}#sk-container-id-1 div.sk-estimator input.sk-toggleable__control:checked~label.sk-toggleable__label {background-color: #d4ebff;}#sk-container-id-1 div.sk-label input.sk-toggleable__control:checked~label.sk-toggleable__label {background-color: #d4ebff;}#sk-container-id-1 input.sk-hidden--visually {border: 0;clip: rect(1px 1px 1px 1px);clip: rect(1px, 1px, 1px, 1px);height: 1px;margin: -1px;overflow: hidden;padding: 0;position: absolute;width: 1px;}#sk-container-id-1 div.sk-estimator {font-family: monospace;background-color: #f0f8ff;border: 1px dotted black;border-radius: 0.25em;box-sizing: border-box;margin-bottom: 0.5em;}#sk-container-id-1 div.sk-estimator:hover {background-color: #d4ebff;}#sk-container-id-1 div.sk-parallel-item::after {content: \"\";width: 100%;border-bottom: 1px solid gray;flex-grow: 1;}#sk-container-id-1 div.sk-label:hover label.sk-toggleable__label {background-color: #d4ebff;}#sk-container-id-1 div.sk-serial::before {content: \"\";position: absolute;border-left: 1px solid gray;box-sizing: border-box;top: 0;bottom: 0;left: 50%;z-index: 0;}#sk-container-id-1 div.sk-serial {display: flex;flex-direction: column;align-items: center;background-color: white;padding-right: 0.2em;padding-left: 0.2em;position: relative;}#sk-container-id-1 div.sk-item {position: relative;z-index: 1;}#sk-container-id-1 div.sk-parallel {display: flex;align-items: stretch;justify-content: center;background-color: white;position: relative;}#sk-container-id-1 div.sk-item::before, #sk-container-id-1 div.sk-parallel-item::before {content: \"\";position: absolute;border-left: 1px solid gray;box-sizing: border-box;top: 0;bottom: 0;left: 50%;z-index: -1;}#sk-container-id-1 div.sk-parallel-item {display: flex;flex-direction: column;z-index: 1;position: relative;background-color: white;}#sk-container-id-1 div.sk-parallel-item:first-child::after {align-self: flex-end;width: 50%;}#sk-container-id-1 div.sk-parallel-item:last-child::after {align-self: flex-start;width: 50%;}#sk-container-id-1 div.sk-parallel-item:only-child::after {width: 0;}#sk-container-id-1 div.sk-dashed-wrapped {border: 1px dashed gray;margin: 0 0.4em 0.5em 0.4em;box-sizing: border-box;padding-bottom: 0.4em;background-color: white;}#sk-container-id-1 div.sk-label label {font-family: monospace;font-weight: bold;display: inline-block;line-height: 1.2em;}#sk-container-id-1 div.sk-label-container {text-align: center;}#sk-container-id-1 div.sk-container {/* jupyter's `normalize.less` sets `[hidden] { display: none; }` but bootstrap.min.css set `[hidden] { display: none !important; }` so we also need the `!important` here to be able to override the default hidden behavior on the sphinx rendered scikit-learn.org. See: https://github.com/scikit-learn/scikit-learn/issues/21755 */display: inline-block !important;position: relative;}#sk-container-id-1 div.sk-text-repr-fallback {display: none;}</style><div id=\"sk-container-id-1\" class=\"sk-top-container\"><div class=\"sk-text-repr-fallback\"><pre>GradientBoostingRegressor(random_state=0)</pre><b>In a Jupyter environment, please rerun this cell to show the HTML representation or trust the notebook. <br />On GitHub, the HTML representation is unable to render, please try loading this page with nbviewer.org.</b></div><div class=\"sk-container\" hidden><div class=\"sk-item\"><div class=\"sk-estimator sk-toggleable\"><input class=\"sk-toggleable__control sk-hidden--visually\" id=\"sk-estimator-id-1\" type=\"checkbox\" checked><label for=\"sk-estimator-id-1\" class=\"sk-toggleable__label sk-toggleable__label-arrow\">GradientBoostingRegressor</label><div class=\"sk-toggleable__content\"><pre>GradientBoostingRegressor(random_state=0)</pre></div></div></div></div></div>"
      ],
      "text/plain": [
       "GradientBoostingRegressor(random_state=0)"
      ]
     },
     "execution_count": 23,
     "metadata": {},
     "output_type": "execute_result"
    }
   ],
   "source": [
    "gbm.fit(X_train_scaled, y_train)"
   ]
  },
  {
   "cell_type": "code",
   "execution_count": 24,
   "id": "5c6c6465",
   "metadata": {},
   "outputs": [],
   "source": [
    "score = gbm.score(X_test_scaled, y_test)"
   ]
  },
  {
   "cell_type": "code",
   "execution_count": 25,
   "id": "876705fc",
   "metadata": {},
   "outputs": [
    {
     "data": {
      "text/plain": [
       "0.3386271274051912"
      ]
     },
     "execution_count": 25,
     "metadata": {},
     "output_type": "execute_result"
    }
   ],
   "source": [
    "if score > best_score:\n",
    "    best_score = score\n",
    "    best_model = gbm\n",
    "score"
   ]
  },
  {
   "cell_type": "markdown",
   "id": "e881b53e",
   "metadata": {},
   "source": [
    "## Neural Net"
   ]
  },
  {
   "cell_type": "code",
   "execution_count": 26,
   "id": "877383af",
   "metadata": {},
   "outputs": [],
   "source": [
    "from sklearn.neural_network import MLPRegressor"
   ]
  },
  {
   "cell_type": "code",
   "execution_count": 30,
   "id": "224f9100",
   "metadata": {},
   "outputs": [],
   "source": [
    "nn = MLPRegressor(random_state=1,\n",
    "                    hidden_layer_sizes=[10, 10],\n",
    "                    max_iter=10000).fit(X_train_scaled, y_train)"
   ]
  },
  {
   "cell_type": "code",
   "execution_count": 31,
   "id": "0933bba6",
   "metadata": {},
   "outputs": [],
   "source": [
    "score = nn.score(X_test_scaled, y_test)"
   ]
  },
  {
   "cell_type": "code",
   "execution_count": 32,
   "id": "8d7f9a8d",
   "metadata": {},
   "outputs": [
    {
     "data": {
      "text/plain": [
       "0.3821914939870589"
      ]
     },
     "execution_count": 32,
     "metadata": {},
     "output_type": "execute_result"
    }
   ],
   "source": [
    "if score > best_score:\n",
    "    best_score = score\n",
    "    best_model = nn\n",
    "score"
   ]
  },
  {
   "cell_type": "markdown",
   "id": "f2327814",
   "metadata": {},
   "source": [
    "# Projecting 2023"
   ]
  },
  {
   "cell_type": "code",
   "execution_count": 34,
   "id": "275ca241",
   "metadata": {},
   "outputs": [],
   "source": [
    "df_2023 = pd.read_pickle(\"./wr-simple-data-2023.pkl\")"
   ]
  },
  {
   "cell_type": "code",
   "execution_count": 35,
   "id": "8b6045f2",
   "metadata": {},
   "outputs": [],
   "source": [
    "def compare_model_to_current_year(df, df_current, player_name, model):\n",
    "    df_last = df.copy().query(\"season == 2022\")\n",
    "    \n",
    "    player_row_22 = df_last[['player_name', 'receiving_yards_after_catch',\n",
    "       'receiving_air_yards', 'tgt_sh', \"age\"]].query(f\"player_name == '{player_name}'\")\n",
    "    \n",
    "    player_row_22['age'] += 1\n",
    "    \n",
    "    rename_cols = {}\n",
    "    for col in list(player_row_22.columns):\n",
    "        if col != \"age\":\n",
    "            rename_cols[col] = f\"{col}_last\"\n",
    "        \n",
    "    player_row_22.rename(columns=rename_cols, inplace=True)\n",
    "    sample = scaler.transform(player_row_22[['receiving_yards_after_catch_last',\n",
    "       'receiving_air_yards_last', 'tgt_sh_last', \"age\"]])\n",
    "    \n",
    "    prediction = model.predict(sample)[0]\n",
    "    answer = df_current.query(f\"player_name == '{player_name}'\")[\"fantasy_points\"].iloc[0]\n",
    "    \n",
    "    print(\"```\")\n",
    "    print(f\"Prediction value: {prediction}\")\n",
    "    print(f\"Answer: {answer}\")\n",
    "    print(f\"Difference (p - a): {prediction - answer}\")\n",
    "    print(\"```\")\n",
    "    \n",
    "    return prediction, answer"
   ]
  },
  {
   "cell_type": "code",
   "execution_count": 37,
   "id": "d65b02f6",
   "metadata": {},
   "outputs": [
    {
     "name": "stdout",
     "output_type": "stream",
     "text": [
      "```\n",
      "Prediction value: 108.46865446825802\n",
      "Answer: 194.3\n",
      "Difference (p - a): -85.83134553174199\n",
      "```\n"
     ]
    },
    {
     "data": {
      "text/plain": [
       "(108.46865446825802, 194.3)"
      ]
     },
     "execution_count": 37,
     "metadata": {},
     "output_type": "execute_result"
    }
   ],
   "source": [
    "player_name = \"Mike Evans\"\n",
    "model = best_model\n",
    "compare_model_to_current_year(df_wr, df_2023, player_name, model)"
   ]
  },
  {
   "cell_type": "code",
   "execution_count": null,
   "id": "210d5c45",
   "metadata": {},
   "outputs": [],
   "source": []
  }
 ],
 "metadata": {
  "kernelspec": {
   "display_name": "nfldata",
   "language": "python",
   "name": "nfldata"
  },
  "language_info": {
   "codemirror_mode": {
    "name": "ipython",
    "version": 3
   },
   "file_extension": ".py",
   "mimetype": "text/x-python",
   "name": "python",
   "nbconvert_exporter": "python",
   "pygments_lexer": "ipython3",
   "version": "3.9.7"
  }
 },
 "nbformat": 4,
 "nbformat_minor": 5
}
