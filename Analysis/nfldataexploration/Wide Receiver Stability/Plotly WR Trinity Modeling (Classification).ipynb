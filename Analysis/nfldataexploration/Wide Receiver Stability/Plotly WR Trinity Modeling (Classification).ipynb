{
 "cells": [
  {
   "cell_type": "markdown",
   "id": "2c4c46b9",
   "metadata": {},
   "source": [
    "# Imports"
   ]
  },
  {
   "cell_type": "code",
   "execution_count": 180,
   "id": "d8d4517e",
   "metadata": {},
   "outputs": [],
   "source": [
    "import itertools\n",
    "import numpy as np\n",
    "import pandas as pd"
   ]
  },
  {
   "cell_type": "code",
   "execution_count": 181,
   "id": "838d44a7",
   "metadata": {},
   "outputs": [],
   "source": [
    "import sys\n",
    "import os\n",
    "sys.path.append(os.path.abspath('..'))\n",
    "from helpers_df import create_lag_df, create_train_and_test_sets, normalize_stats"
   ]
  },
  {
   "cell_type": "markdown",
   "id": "d8c28847",
   "metadata": {},
   "source": [
    "# Grab Data"
   ]
  },
  {
   "cell_type": "code",
   "execution_count": 182,
   "id": "3056565c",
   "metadata": {},
   "outputs": [],
   "source": [
    "df_rec = pd.read_pickle(\"./wr-simple-data-2012-2022-qbr.pkl\")"
   ]
  },
  {
   "cell_type": "code",
   "execution_count": 183,
   "id": "3b3120f7",
   "metadata": {},
   "outputs": [],
   "source": [
    "df_wr = df_rec.query(\"position == 'WR'\").copy()"
   ]
  },
  {
   "cell_type": "markdown",
   "id": "6662aad3",
   "metadata": {},
   "source": [
    "# Lag Version"
   ]
  },
  {
   "cell_type": "code",
   "execution_count": 184,
   "id": "79b07375",
   "metadata": {},
   "outputs": [],
   "source": [
    "df_lag = create_lag_df(df_wr)"
   ]
  },
  {
   "cell_type": "code",
   "execution_count": 185,
   "id": "8d058b12",
   "metadata": {},
   "outputs": [
    {
     "data": {
      "text/html": [
       "<div>\n",
       "<style scoped>\n",
       "    .dataframe tbody tr th:only-of-type {\n",
       "        vertical-align: middle;\n",
       "    }\n",
       "\n",
       "    .dataframe tbody tr th {\n",
       "        vertical-align: top;\n",
       "    }\n",
       "\n",
       "    .dataframe thead th {\n",
       "        text-align: right;\n",
       "    }\n",
       "</style>\n",
       "<table border=\"1\" class=\"dataframe\">\n",
       "  <thead>\n",
       "    <tr style=\"text-align: right;\">\n",
       "      <th></th>\n",
       "      <th>player_id</th>\n",
       "      <th>season</th>\n",
       "      <th>season_type</th>\n",
       "      <th>receptions</th>\n",
       "      <th>targets</th>\n",
       "      <th>receiving_yards</th>\n",
       "      <th>receiving_tds</th>\n",
       "      <th>receiving_fumbles</th>\n",
       "      <th>receiving_fumbles_lost</th>\n",
       "      <th>receiving_air_yards</th>\n",
       "      <th>...</th>\n",
       "      <th>w8dom_last</th>\n",
       "      <th>yptmpa_last</th>\n",
       "      <th>ppr_sh_last</th>\n",
       "      <th>age_last</th>\n",
       "      <th>position_last</th>\n",
       "      <th>player_name_last</th>\n",
       "      <th>depth_team_last</th>\n",
       "      <th>round_last</th>\n",
       "      <th>pick_last</th>\n",
       "      <th>qbr_last</th>\n",
       "    </tr>\n",
       "  </thead>\n",
       "  <tbody>\n",
       "    <tr>\n",
       "      <th>0</th>\n",
       "      <td>00-0015754</td>\n",
       "      <td>2013</td>\n",
       "      <td>REG</td>\n",
       "      <td>13</td>\n",
       "      <td>21</td>\n",
       "      <td>115.0</td>\n",
       "      <td>0</td>\n",
       "      <td>0.0</td>\n",
       "      <td>0.0</td>\n",
       "      <td>174.0</td>\n",
       "      <td>...</td>\n",
       "      <td>0.135960</td>\n",
       "      <td>1.058366</td>\n",
       "      <td>0.088888</td>\n",
       "      <td>36.0</td>\n",
       "      <td>WR</td>\n",
       "      <td>Brandon Stokley</td>\n",
       "      <td>2.00</td>\n",
       "      <td>4.0</td>\n",
       "      <td>105.0</td>\n",
       "      <td>105.849771</td>\n",
       "    </tr>\n",
       "    <tr>\n",
       "      <th>1</th>\n",
       "      <td>00-0020337</td>\n",
       "      <td>2013</td>\n",
       "      <td>REG</td>\n",
       "      <td>64</td>\n",
       "      <td>110</td>\n",
       "      <td>745.0</td>\n",
       "      <td>4</td>\n",
       "      <td>0.0</td>\n",
       "      <td>0.0</td>\n",
       "      <td>1219.0</td>\n",
       "      <td>...</td>\n",
       "      <td>0.281270</td>\n",
       "      <td>2.395918</td>\n",
       "      <td>0.162871</td>\n",
       "      <td>33.0</td>\n",
       "      <td>WR</td>\n",
       "      <td>Steve Smith</td>\n",
       "      <td>1.00</td>\n",
       "      <td>3.0</td>\n",
       "      <td>74.0</td>\n",
       "      <td>86.181271</td>\n",
       "    </tr>\n",
       "    <tr>\n",
       "      <th>2</th>\n",
       "      <td>00-0020337</td>\n",
       "      <td>2014</td>\n",
       "      <td>REG</td>\n",
       "      <td>79</td>\n",
       "      <td>134</td>\n",
       "      <td>1065.0</td>\n",
       "      <td>6</td>\n",
       "      <td>2.0</td>\n",
       "      <td>1.0</td>\n",
       "      <td>1413.0</td>\n",
       "      <td>...</td>\n",
       "      <td>0.220884</td>\n",
       "      <td>1.670404</td>\n",
       "      <td>0.136052</td>\n",
       "      <td>34.0</td>\n",
       "      <td>WR</td>\n",
       "      <td>Steve Smith</td>\n",
       "      <td>1.00</td>\n",
       "      <td>3.0</td>\n",
       "      <td>74.0</td>\n",
       "      <td>88.755285</td>\n",
       "    </tr>\n",
       "    <tr>\n",
       "      <th>3</th>\n",
       "      <td>00-0020337</td>\n",
       "      <td>2015</td>\n",
       "      <td>REG</td>\n",
       "      <td>46</td>\n",
       "      <td>73</td>\n",
       "      <td>670.0</td>\n",
       "      <td>3</td>\n",
       "      <td>0.0</td>\n",
       "      <td>0.0</td>\n",
       "      <td>719.0</td>\n",
       "      <td>...</td>\n",
       "      <td>0.258193</td>\n",
       "      <td>1.922383</td>\n",
       "      <td>0.151386</td>\n",
       "      <td>35.0</td>\n",
       "      <td>WR</td>\n",
       "      <td>Steve Smith</td>\n",
       "      <td>1.00</td>\n",
       "      <td>3.0</td>\n",
       "      <td>74.0</td>\n",
       "      <td>91.027377</td>\n",
       "    </tr>\n",
       "    <tr>\n",
       "      <th>4</th>\n",
       "      <td>00-0020337</td>\n",
       "      <td>2016</td>\n",
       "      <td>REG</td>\n",
       "      <td>70</td>\n",
       "      <td>101</td>\n",
       "      <td>799.0</td>\n",
       "      <td>5</td>\n",
       "      <td>0.0</td>\n",
       "      <td>0.0</td>\n",
       "      <td>873.0</td>\n",
       "      <td>...</td>\n",
       "      <td>0.339718</td>\n",
       "      <td>2.310345</td>\n",
       "      <td>0.210909</td>\n",
       "      <td>36.0</td>\n",
       "      <td>WR</td>\n",
       "      <td>Steve Smith</td>\n",
       "      <td>1.75</td>\n",
       "      <td>3.0</td>\n",
       "      <td>74.0</td>\n",
       "      <td>83.106336</td>\n",
       "    </tr>\n",
       "  </tbody>\n",
       "</table>\n",
       "<p>5 rows × 77 columns</p>\n",
       "</div>"
      ],
      "text/plain": [
       "    player_id  season season_type  receptions  targets  receiving_yards  \\\n",
       "0  00-0015754    2013         REG          13       21            115.0   \n",
       "1  00-0020337    2013         REG          64      110            745.0   \n",
       "2  00-0020337    2014         REG          79      134           1065.0   \n",
       "3  00-0020337    2015         REG          46       73            670.0   \n",
       "4  00-0020337    2016         REG          70      101            799.0   \n",
       "\n",
       "   receiving_tds  receiving_fumbles  receiving_fumbles_lost  \\\n",
       "0              0                0.0                     0.0   \n",
       "1              4                0.0                     0.0   \n",
       "2              6                2.0                     1.0   \n",
       "3              3                0.0                     0.0   \n",
       "4              5                0.0                     0.0   \n",
       "\n",
       "   receiving_air_yards  ...  w8dom_last  yptmpa_last  ppr_sh_last  age_last  \\\n",
       "0                174.0  ...    0.135960     1.058366     0.088888      36.0   \n",
       "1               1219.0  ...    0.281270     2.395918     0.162871      33.0   \n",
       "2               1413.0  ...    0.220884     1.670404     0.136052      34.0   \n",
       "3                719.0  ...    0.258193     1.922383     0.151386      35.0   \n",
       "4                873.0  ...    0.339718     2.310345     0.210909      36.0   \n",
       "\n",
       "   position_last  player_name_last  depth_team_last  round_last  pick_last  \\\n",
       "0             WR   Brandon Stokley             2.00         4.0      105.0   \n",
       "1             WR       Steve Smith             1.00         3.0       74.0   \n",
       "2             WR       Steve Smith             1.00         3.0       74.0   \n",
       "3             WR       Steve Smith             1.00         3.0       74.0   \n",
       "4             WR       Steve Smith             1.75         3.0       74.0   \n",
       "\n",
       "     qbr_last  \n",
       "0  105.849771  \n",
       "1   86.181271  \n",
       "2   88.755285  \n",
       "3   91.027377  \n",
       "4   83.106336  \n",
       "\n",
       "[5 rows x 77 columns]"
      ]
     },
     "execution_count": 185,
     "metadata": {},
     "output_type": "execute_result"
    }
   ],
   "source": [
    "df_lag.head()"
   ]
  },
  {
   "cell_type": "markdown",
   "id": "71f8d528",
   "metadata": {},
   "source": [
    "1 => improved\n",
    "\n",
    "0 => no change\n",
    "\n",
    "-1 => decline"
   ]
  },
  {
   "cell_type": "code",
   "execution_count": 186,
   "id": "24472a48",
   "metadata": {},
   "outputs": [],
   "source": [
    "df_lag_classification = df_lag.query(\"games >= 10\").copy()\n",
    "for i, row in df_lag_classification.iterrows():\n",
    "    diff = row[\"fantasy_points\"] - row[\"fantasy_points_last\"]\n",
    "    if diff > 10:\n",
    "        df_lag_classification.at[i, \"change\"] = 1\n",
    "    elif diff < -10:\n",
    "        df_lag_classification.at[i, \"change\"] = -1\n",
    "    else:\n",
    "        df_lag_classification.at[i, \"change\"] = 0"
   ]
  },
  {
   "cell_type": "code",
   "execution_count": 187,
   "id": "ce3d7e6e",
   "metadata": {},
   "outputs": [],
   "source": [
    "df_lag_classification.dropna(inplace=True)"
   ]
  },
  {
   "cell_type": "markdown",
   "id": "49d7e913",
   "metadata": {},
   "source": [
    "# Create Test and Train Sets"
   ]
  },
  {
   "cell_type": "code",
   "execution_count": 188,
   "id": "fbb07e41",
   "metadata": {},
   "outputs": [],
   "source": [
    "x_cols = ['receiving_yards_after_catch_last',\n",
    "       'receiving_air_yards_last', 'tgt_sh_last', \"age\", \"qbr_last\",\n",
    "          \"round\", \"depth_team\", \"depth_team_last\"]"
   ]
  },
  {
   "cell_type": "code",
   "execution_count": 218,
   "id": "441a4b85",
   "metadata": {},
   "outputs": [
    {
     "name": "stdout",
     "output_type": "stream",
     "text": [
      "```\n",
      "Length of train set: 571\n",
      "Length of test set: 143\n",
      "Length of data set: 714\n",
      "```\n"
     ]
    }
   ],
   "source": [
    "X_train, X_test, y_train, y_test = create_train_and_test_sets(df_lag_classification,\n",
    "                                                              x_cols=x_cols,\n",
    "                                                              inference_col = \"change\",\n",
    "                                                              test_size=0.2\n",
    "                                                             )"
   ]
  },
  {
   "cell_type": "markdown",
   "id": "b46b9651",
   "metadata": {},
   "source": [
    "# Normalization"
   ]
  },
  {
   "cell_type": "code",
   "execution_count": 219,
   "id": "1b991b7d",
   "metadata": {},
   "outputs": [],
   "source": [
    "from sklearn.preprocessing import StandardScaler"
   ]
  },
  {
   "cell_type": "code",
   "execution_count": 220,
   "id": "1f687b2f",
   "metadata": {},
   "outputs": [],
   "source": [
    "scaler = StandardScaler()\n",
    "X_train_scaled = scaler.fit_transform(X_train)\n",
    "X_test_scaled = scaler.transform(X_test)"
   ]
  },
  {
   "cell_type": "markdown",
   "id": "320b04c4",
   "metadata": {},
   "source": [
    "# Fit Models"
   ]
  },
  {
   "cell_type": "code",
   "execution_count": 221,
   "id": "2253475f",
   "metadata": {},
   "outputs": [],
   "source": [
    "best_score = 0\n",
    "best_model = None"
   ]
  },
  {
   "cell_type": "markdown",
   "id": "4ed02b2d",
   "metadata": {},
   "source": [
    "## MLR"
   ]
  },
  {
   "cell_type": "code",
   "execution_count": 222,
   "id": "25d47485",
   "metadata": {},
   "outputs": [],
   "source": [
    "from sklearn.linear_model import LinearRegression"
   ]
  },
  {
   "cell_type": "code",
   "execution_count": 223,
   "id": "275e2b48",
   "metadata": {},
   "outputs": [],
   "source": [
    "mlr = LinearRegression().fit(X_train_scaled, y_train)\n",
    "score = round(mlr.score(X_test_scaled, y_test), 3)"
   ]
  },
  {
   "cell_type": "code",
   "execution_count": 224,
   "id": "cea31bc0",
   "metadata": {},
   "outputs": [
    {
     "data": {
      "text/plain": [
       "0.277"
      ]
     },
     "execution_count": 224,
     "metadata": {},
     "output_type": "execute_result"
    }
   ],
   "source": [
    "if score > best_score:\n",
    "    best_score = score\n",
    "    best_model = mlr\n",
    "score"
   ]
  },
  {
   "cell_type": "markdown",
   "id": "c7818c70",
   "metadata": {},
   "source": [
    "## Random Forest Classifier"
   ]
  },
  {
   "cell_type": "code",
   "execution_count": 225,
   "id": "6ec012e7",
   "metadata": {},
   "outputs": [],
   "source": [
    "from sklearn.ensemble import RandomForestClassifier"
   ]
  },
  {
   "cell_type": "code",
   "execution_count": 226,
   "id": "9e3478d2",
   "metadata": {},
   "outputs": [],
   "source": [
    "start = 1\n",
    "stop = 15 + 1"
   ]
  },
  {
   "cell_type": "code",
   "execution_count": 227,
   "id": "084db49d",
   "metadata": {},
   "outputs": [
    {
     "name": "stdout",
     "output_type": "stream",
     "text": [
      "New best score: 0.6083916083916084  |  depth: 1\n",
      "New best score: 0.6223776223776224  |  depth: 2\n",
      "New best score: 0.6363636363636364  |  depth: 4\n",
      "\n",
      "Done :)\n"
     ]
    }
   ],
   "source": [
    "for depth in range(start, stop):\n",
    "    rfr = RandomForestClassifier(max_depth=depth, random_state=0)\n",
    "    rfr.fit(X_train_scaled, y_train)\n",
    "    \n",
    "    score = rfr.score(X_test_scaled, y_test)\n",
    "    if score > best_score:\n",
    "        print(f\"New best score: {score}  |  depth: {depth}\")\n",
    "        best_score = score\n",
    "        best_model = rfr\n",
    "        \n",
    "print(\"\\nDone :)\")"
   ]
  },
  {
   "cell_type": "markdown",
   "id": "d3ad5ded",
   "metadata": {},
   "source": [
    "## Gradient Boosting Machines"
   ]
  },
  {
   "cell_type": "code",
   "execution_count": 228,
   "id": "cea7a98f",
   "metadata": {},
   "outputs": [],
   "source": [
    "from sklearn.ensemble import GradientBoostingClassifier"
   ]
  },
  {
   "cell_type": "code",
   "execution_count": 229,
   "id": "dc033371",
   "metadata": {},
   "outputs": [],
   "source": [
    "gbm = GradientBoostingClassifier(random_state=0)"
   ]
  },
  {
   "cell_type": "code",
   "execution_count": 230,
   "id": "34924f54",
   "metadata": {},
   "outputs": [
    {
     "data": {
      "text/html": [
       "<style>#sk-container-id-13 {color: black;}#sk-container-id-13 pre{padding: 0;}#sk-container-id-13 div.sk-toggleable {background-color: white;}#sk-container-id-13 label.sk-toggleable__label {cursor: pointer;display: block;width: 100%;margin-bottom: 0;padding: 0.3em;box-sizing: border-box;text-align: center;}#sk-container-id-13 label.sk-toggleable__label-arrow:before {content: \"▸\";float: left;margin-right: 0.25em;color: #696969;}#sk-container-id-13 label.sk-toggleable__label-arrow:hover:before {color: black;}#sk-container-id-13 div.sk-estimator:hover label.sk-toggleable__label-arrow:before {color: black;}#sk-container-id-13 div.sk-toggleable__content {max-height: 0;max-width: 0;overflow: hidden;text-align: left;background-color: #f0f8ff;}#sk-container-id-13 div.sk-toggleable__content pre {margin: 0.2em;color: black;border-radius: 0.25em;background-color: #f0f8ff;}#sk-container-id-13 input.sk-toggleable__control:checked~div.sk-toggleable__content {max-height: 200px;max-width: 100%;overflow: auto;}#sk-container-id-13 input.sk-toggleable__control:checked~label.sk-toggleable__label-arrow:before {content: \"▾\";}#sk-container-id-13 div.sk-estimator input.sk-toggleable__control:checked~label.sk-toggleable__label {background-color: #d4ebff;}#sk-container-id-13 div.sk-label input.sk-toggleable__control:checked~label.sk-toggleable__label {background-color: #d4ebff;}#sk-container-id-13 input.sk-hidden--visually {border: 0;clip: rect(1px 1px 1px 1px);clip: rect(1px, 1px, 1px, 1px);height: 1px;margin: -1px;overflow: hidden;padding: 0;position: absolute;width: 1px;}#sk-container-id-13 div.sk-estimator {font-family: monospace;background-color: #f0f8ff;border: 1px dotted black;border-radius: 0.25em;box-sizing: border-box;margin-bottom: 0.5em;}#sk-container-id-13 div.sk-estimator:hover {background-color: #d4ebff;}#sk-container-id-13 div.sk-parallel-item::after {content: \"\";width: 100%;border-bottom: 1px solid gray;flex-grow: 1;}#sk-container-id-13 div.sk-label:hover label.sk-toggleable__label {background-color: #d4ebff;}#sk-container-id-13 div.sk-serial::before {content: \"\";position: absolute;border-left: 1px solid gray;box-sizing: border-box;top: 0;bottom: 0;left: 50%;z-index: 0;}#sk-container-id-13 div.sk-serial {display: flex;flex-direction: column;align-items: center;background-color: white;padding-right: 0.2em;padding-left: 0.2em;position: relative;}#sk-container-id-13 div.sk-item {position: relative;z-index: 1;}#sk-container-id-13 div.sk-parallel {display: flex;align-items: stretch;justify-content: center;background-color: white;position: relative;}#sk-container-id-13 div.sk-item::before, #sk-container-id-13 div.sk-parallel-item::before {content: \"\";position: absolute;border-left: 1px solid gray;box-sizing: border-box;top: 0;bottom: 0;left: 50%;z-index: -1;}#sk-container-id-13 div.sk-parallel-item {display: flex;flex-direction: column;z-index: 1;position: relative;background-color: white;}#sk-container-id-13 div.sk-parallel-item:first-child::after {align-self: flex-end;width: 50%;}#sk-container-id-13 div.sk-parallel-item:last-child::after {align-self: flex-start;width: 50%;}#sk-container-id-13 div.sk-parallel-item:only-child::after {width: 0;}#sk-container-id-13 div.sk-dashed-wrapped {border: 1px dashed gray;margin: 0 0.4em 0.5em 0.4em;box-sizing: border-box;padding-bottom: 0.4em;background-color: white;}#sk-container-id-13 div.sk-label label {font-family: monospace;font-weight: bold;display: inline-block;line-height: 1.2em;}#sk-container-id-13 div.sk-label-container {text-align: center;}#sk-container-id-13 div.sk-container {/* jupyter's `normalize.less` sets `[hidden] { display: none; }` but bootstrap.min.css set `[hidden] { display: none !important; }` so we also need the `!important` here to be able to override the default hidden behavior on the sphinx rendered scikit-learn.org. See: https://github.com/scikit-learn/scikit-learn/issues/21755 */display: inline-block !important;position: relative;}#sk-container-id-13 div.sk-text-repr-fallback {display: none;}</style><div id=\"sk-container-id-13\" class=\"sk-top-container\"><div class=\"sk-text-repr-fallback\"><pre>GradientBoostingClassifier(random_state=0)</pre><b>In a Jupyter environment, please rerun this cell to show the HTML representation or trust the notebook. <br />On GitHub, the HTML representation is unable to render, please try loading this page with nbviewer.org.</b></div><div class=\"sk-container\" hidden><div class=\"sk-item\"><div class=\"sk-estimator sk-toggleable\"><input class=\"sk-toggleable__control sk-hidden--visually\" id=\"sk-estimator-id-13\" type=\"checkbox\" checked><label for=\"sk-estimator-id-13\" class=\"sk-toggleable__label sk-toggleable__label-arrow\">GradientBoostingClassifier</label><div class=\"sk-toggleable__content\"><pre>GradientBoostingClassifier(random_state=0)</pre></div></div></div></div></div>"
      ],
      "text/plain": [
       "GradientBoostingClassifier(random_state=0)"
      ]
     },
     "execution_count": 230,
     "metadata": {},
     "output_type": "execute_result"
    }
   ],
   "source": [
    "gbm.fit(X_train_scaled, y_train)"
   ]
  },
  {
   "cell_type": "code",
   "execution_count": 231,
   "id": "df90fd9a",
   "metadata": {},
   "outputs": [],
   "source": [
    "score = gbm.score(X_test_scaled, y_test)"
   ]
  },
  {
   "cell_type": "code",
   "execution_count": 232,
   "id": "b8781541",
   "metadata": {},
   "outputs": [
    {
     "data": {
      "text/plain": [
       "0.5944055944055944"
      ]
     },
     "execution_count": 232,
     "metadata": {},
     "output_type": "execute_result"
    }
   ],
   "source": [
    "if score > best_score:\n",
    "    best_score = score\n",
    "    best_model = gbm\n",
    "score"
   ]
  },
  {
   "cell_type": "markdown",
   "id": "53c19835",
   "metadata": {},
   "source": [
    "## Neural Net"
   ]
  },
  {
   "cell_type": "code",
   "execution_count": 233,
   "id": "c4b14177",
   "metadata": {},
   "outputs": [],
   "source": [
    "from sklearn.neural_network import MLPClassifier"
   ]
  },
  {
   "cell_type": "code",
   "execution_count": 234,
   "id": "8302cfc3",
   "metadata": {},
   "outputs": [],
   "source": [
    "nn = MLPClassifier(random_state=1,\n",
    "                    hidden_layer_sizes=[100, 100, 100],\n",
    "                    max_iter=10000).fit(X_train_scaled, y_train)"
   ]
  },
  {
   "cell_type": "code",
   "execution_count": 235,
   "id": "d5a1eda2",
   "metadata": {},
   "outputs": [],
   "source": [
    "score = nn.score(X_test_scaled, y_test)"
   ]
  },
  {
   "cell_type": "code",
   "execution_count": 236,
   "id": "5a0e84c9",
   "metadata": {},
   "outputs": [
    {
     "data": {
      "text/plain": [
       "0.5384615384615384"
      ]
     },
     "execution_count": 236,
     "metadata": {},
     "output_type": "execute_result"
    }
   ],
   "source": [
    "if score > best_score:\n",
    "    best_score = score\n",
    "    best_model = nn\n",
    "score"
   ]
  },
  {
   "cell_type": "markdown",
   "id": "e500353c",
   "metadata": {},
   "source": [
    "### Best Score and Model"
   ]
  },
  {
   "cell_type": "code",
   "execution_count": 237,
   "id": "8b15d651",
   "metadata": {},
   "outputs": [
    {
     "data": {
      "text/html": [
       "<style>#sk-container-id-14 {color: black;}#sk-container-id-14 pre{padding: 0;}#sk-container-id-14 div.sk-toggleable {background-color: white;}#sk-container-id-14 label.sk-toggleable__label {cursor: pointer;display: block;width: 100%;margin-bottom: 0;padding: 0.3em;box-sizing: border-box;text-align: center;}#sk-container-id-14 label.sk-toggleable__label-arrow:before {content: \"▸\";float: left;margin-right: 0.25em;color: #696969;}#sk-container-id-14 label.sk-toggleable__label-arrow:hover:before {color: black;}#sk-container-id-14 div.sk-estimator:hover label.sk-toggleable__label-arrow:before {color: black;}#sk-container-id-14 div.sk-toggleable__content {max-height: 0;max-width: 0;overflow: hidden;text-align: left;background-color: #f0f8ff;}#sk-container-id-14 div.sk-toggleable__content pre {margin: 0.2em;color: black;border-radius: 0.25em;background-color: #f0f8ff;}#sk-container-id-14 input.sk-toggleable__control:checked~div.sk-toggleable__content {max-height: 200px;max-width: 100%;overflow: auto;}#sk-container-id-14 input.sk-toggleable__control:checked~label.sk-toggleable__label-arrow:before {content: \"▾\";}#sk-container-id-14 div.sk-estimator input.sk-toggleable__control:checked~label.sk-toggleable__label {background-color: #d4ebff;}#sk-container-id-14 div.sk-label input.sk-toggleable__control:checked~label.sk-toggleable__label {background-color: #d4ebff;}#sk-container-id-14 input.sk-hidden--visually {border: 0;clip: rect(1px 1px 1px 1px);clip: rect(1px, 1px, 1px, 1px);height: 1px;margin: -1px;overflow: hidden;padding: 0;position: absolute;width: 1px;}#sk-container-id-14 div.sk-estimator {font-family: monospace;background-color: #f0f8ff;border: 1px dotted black;border-radius: 0.25em;box-sizing: border-box;margin-bottom: 0.5em;}#sk-container-id-14 div.sk-estimator:hover {background-color: #d4ebff;}#sk-container-id-14 div.sk-parallel-item::after {content: \"\";width: 100%;border-bottom: 1px solid gray;flex-grow: 1;}#sk-container-id-14 div.sk-label:hover label.sk-toggleable__label {background-color: #d4ebff;}#sk-container-id-14 div.sk-serial::before {content: \"\";position: absolute;border-left: 1px solid gray;box-sizing: border-box;top: 0;bottom: 0;left: 50%;z-index: 0;}#sk-container-id-14 div.sk-serial {display: flex;flex-direction: column;align-items: center;background-color: white;padding-right: 0.2em;padding-left: 0.2em;position: relative;}#sk-container-id-14 div.sk-item {position: relative;z-index: 1;}#sk-container-id-14 div.sk-parallel {display: flex;align-items: stretch;justify-content: center;background-color: white;position: relative;}#sk-container-id-14 div.sk-item::before, #sk-container-id-14 div.sk-parallel-item::before {content: \"\";position: absolute;border-left: 1px solid gray;box-sizing: border-box;top: 0;bottom: 0;left: 50%;z-index: -1;}#sk-container-id-14 div.sk-parallel-item {display: flex;flex-direction: column;z-index: 1;position: relative;background-color: white;}#sk-container-id-14 div.sk-parallel-item:first-child::after {align-self: flex-end;width: 50%;}#sk-container-id-14 div.sk-parallel-item:last-child::after {align-self: flex-start;width: 50%;}#sk-container-id-14 div.sk-parallel-item:only-child::after {width: 0;}#sk-container-id-14 div.sk-dashed-wrapped {border: 1px dashed gray;margin: 0 0.4em 0.5em 0.4em;box-sizing: border-box;padding-bottom: 0.4em;background-color: white;}#sk-container-id-14 div.sk-label label {font-family: monospace;font-weight: bold;display: inline-block;line-height: 1.2em;}#sk-container-id-14 div.sk-label-container {text-align: center;}#sk-container-id-14 div.sk-container {/* jupyter's `normalize.less` sets `[hidden] { display: none; }` but bootstrap.min.css set `[hidden] { display: none !important; }` so we also need the `!important` here to be able to override the default hidden behavior on the sphinx rendered scikit-learn.org. See: https://github.com/scikit-learn/scikit-learn/issues/21755 */display: inline-block !important;position: relative;}#sk-container-id-14 div.sk-text-repr-fallback {display: none;}</style><div id=\"sk-container-id-14\" class=\"sk-top-container\"><div class=\"sk-text-repr-fallback\"><pre>RandomForestClassifier(max_depth=4, random_state=0)</pre><b>In a Jupyter environment, please rerun this cell to show the HTML representation or trust the notebook. <br />On GitHub, the HTML representation is unable to render, please try loading this page with nbviewer.org.</b></div><div class=\"sk-container\" hidden><div class=\"sk-item\"><div class=\"sk-estimator sk-toggleable\"><input class=\"sk-toggleable__control sk-hidden--visually\" id=\"sk-estimator-id-14\" type=\"checkbox\" checked><label for=\"sk-estimator-id-14\" class=\"sk-toggleable__label sk-toggleable__label-arrow\">RandomForestClassifier</label><div class=\"sk-toggleable__content\"><pre>RandomForestClassifier(max_depth=4, random_state=0)</pre></div></div></div></div></div>"
      ],
      "text/plain": [
       "RandomForestClassifier(max_depth=4, random_state=0)"
      ]
     },
     "execution_count": 237,
     "metadata": {},
     "output_type": "execute_result"
    }
   ],
   "source": [
    "best_model"
   ]
  },
  {
   "cell_type": "code",
   "execution_count": 238,
   "id": "1cfd34a2",
   "metadata": {},
   "outputs": [
    {
     "data": {
      "text/plain": [
       "0.6363636363636364"
      ]
     },
     "execution_count": 238,
     "metadata": {},
     "output_type": "execute_result"
    }
   ],
   "source": [
    "best_score"
   ]
  },
  {
   "cell_type": "markdown",
   "id": "244d22b8",
   "metadata": {},
   "source": [
    "# Projecting 2023"
   ]
  },
  {
   "cell_type": "code",
   "execution_count": 239,
   "id": "cfb07ff5",
   "metadata": {},
   "outputs": [],
   "source": [
    "df_2023 = pd.read_pickle(\"./wr-simple-data-2023-qbr.pkl\")"
   ]
  },
  {
   "cell_type": "code",
   "execution_count": 240,
   "id": "261c94a7",
   "metadata": {},
   "outputs": [],
   "source": [
    "def compare_model_to_current_year(df, df_current, player_name, model):\n",
    "    df_last = df.copy().query(\"season == 2022\")\n",
    "    \n",
    "    player_row_22 = df_last[['player_name', 'receiving_yards_after_catch',\n",
    "       'receiving_air_yards', 'tgt_sh', \"age\", \"qbr\", \"round\", \"depth_team\"]] \\\n",
    "        .query(f\"player_name == '{player_name}'\")\n",
    "    \n",
    "    player_row_22['age'] += 1\n",
    "    \n",
    "    rename_cols = {}\n",
    "    for col in list(player_row_22.columns):\n",
    "        if col != \"age\" and col != \"round\":\n",
    "            rename_cols[col] = f\"{col}_last\"\n",
    "        \n",
    "    player_row_22.rename(columns=rename_cols, inplace=True)\n",
    "    player_row_22[\"depth_team\"] = df_current.query(f\"player_name == \\\"{player_name}\\\"\")[\"depth_team\"].iloc[0]\n",
    "    \n",
    "    sample = scaler.transform(player_row_22[['receiving_yards_after_catch_last',\n",
    "       'receiving_air_yards_last', 'tgt_sh_last', \"age\", \"qbr_last\", \"round\", \"depth_team\", \"depth_team_last\"]])\n",
    "    \n",
    "    previous_fp = df_last.query(f\"season == 2022 and player_name == \\\"{player_name}\\\"\")[\"fantasy_points\"].iloc[0]\n",
    "    current_fp = df_current.query(f\"player_name == \\\"{player_name}\\\"\")[\"fantasy_points\"].iloc[0]\n",
    "    \n",
    "    answer = current_fp - previous_fp\n",
    "    prediction = model.predict(sample)[0]\n",
    "    \n",
    "#     print(\"```\")\n",
    "#     print(f\"Previous fantasy points: {previous_fp}\")\n",
    "#     print(f\"Current fantasy points: {current_fp}\")\n",
    "#     print(f\"Difference (p - a): {answer}\")\n",
    "#     print(f\"Prediction: {prediction}\")\n",
    "#     print(\"```\")\n",
    "    \n",
    "    return prediction, answer"
   ]
  },
  {
   "cell_type": "code",
   "execution_count": 241,
   "id": "6db20fbd",
   "metadata": {},
   "outputs": [],
   "source": [
    "correct = []\n",
    "incorrect = []\n",
    "model = best_model\n",
    "for name in df_wr.query(\"season == 2022 and games >= 10\")[\"player_name\"]:\n",
    "    if name in df_2023[\"player_name\"].values and name != \"Ja'Marr Chase\":\n",
    "        player_name = name\n",
    "        \n",
    "        if not df_2023.query(f\"player_name == '{player_name}' and games >= 8\").empty:\n",
    "            prediction, answer = compare_model_to_current_year(df_wr, df_2023, player_name, model)\n",
    "\n",
    "            if answer < 0:\n",
    "                answer = -1\n",
    "            elif answer == 0:\n",
    "                answer = 0\n",
    "            elif answer > 0:\n",
    "                answer = 1\n",
    "\n",
    "            if answer == prediction:\n",
    "                correct.append((name, answer, prediction))\n",
    "            else:\n",
    "                incorrect.append((name, answer, prediction))"
   ]
  },
  {
   "cell_type": "code",
   "execution_count": 242,
   "id": "1668e331",
   "metadata": {},
   "outputs": [
    {
     "name": "stdout",
     "output_type": "stream",
     "text": [
      "46 29\n"
     ]
    }
   ],
   "source": [
    "print(len(correct), len(incorrect))"
   ]
  },
  {
   "cell_type": "code",
   "execution_count": 243,
   "id": "57da161e",
   "metadata": {},
   "outputs": [
    {
     "name": "stderr",
     "output_type": "stream",
     "text": [
      "/var/folders/yx/gjm2fjs56vl5kkwrb6xf5d2h0000gn/T/ipykernel_18199/3888190769.py:14: FutureWarning: The behavior of DataFrame concatenation with empty or all-NA entries is deprecated. In a future version, this will no longer exclude empty or all-NA columns when determining the result dtypes. To retain the old behavior, exclude the relevant entries before the concat operation.\n",
      "  df_incorrect = pd.concat([df_incorrect, row_df], ignore_index=True)\n"
     ]
    }
   ],
   "source": [
    "df_incorrect = pd.DataFrame(columns=['Name', 'Age', 'Answer', 'Prediction', 'QBR'])\n",
    "for name, answer, pred in incorrect:\n",
    "    if ((answer + 1) != pred) or ((answer - 1) != pred):\n",
    "        info = df_2023.query(f\"player_name == '{name}'\")\n",
    "        \n",
    "        games = info[\"games\"].iloc[0]\n",
    "        fantasy_points = info[\"fantasy_points\"].iloc[0]\n",
    "        if games >= 8 and fantasy_points >= 50:\n",
    "            qbr = round(info[\"qbr\"].iloc[0], 2)\n",
    "            age = info[\"age\"].iloc[0]\n",
    "            \n",
    "            row = (name, age, answer, pred, qbr)\n",
    "            row_df = pd.DataFrame([row], columns=df_incorrect.columns)\n",
    "            df_incorrect = pd.concat([df_incorrect, row_df], ignore_index=True)"
   ]
  },
  {
   "cell_type": "code",
   "execution_count": 244,
   "id": "1ce42072",
   "metadata": {},
   "outputs": [
    {
     "data": {
      "text/html": [
       "<div>\n",
       "<style scoped>\n",
       "    .dataframe tbody tr th:only-of-type {\n",
       "        vertical-align: middle;\n",
       "    }\n",
       "\n",
       "    .dataframe tbody tr th {\n",
       "        vertical-align: top;\n",
       "    }\n",
       "\n",
       "    .dataframe thead th {\n",
       "        text-align: right;\n",
       "    }\n",
       "</style>\n",
       "<table border=\"1\" class=\"dataframe\">\n",
       "  <thead>\n",
       "    <tr style=\"text-align: right;\">\n",
       "      <th></th>\n",
       "      <th>Name</th>\n",
       "      <th>Age</th>\n",
       "      <th>Answer</th>\n",
       "      <th>Prediction</th>\n",
       "      <th>QBR</th>\n",
       "    </tr>\n",
       "  </thead>\n",
       "  <tbody>\n",
       "    <tr>\n",
       "      <th>0</th>\n",
       "      <td>Keenan Allen</td>\n",
       "      <td>31.0</td>\n",
       "      <td>1</td>\n",
       "      <td>-1.0</td>\n",
       "      <td>93.22</td>\n",
       "    </tr>\n",
       "    <tr>\n",
       "      <th>1</th>\n",
       "      <td>Brandin Cooks</td>\n",
       "      <td>29.0</td>\n",
       "      <td>1</td>\n",
       "      <td>-1.0</td>\n",
       "      <td>104.25</td>\n",
       "    </tr>\n",
       "    <tr>\n",
       "      <th>2</th>\n",
       "      <td>Mike Evans</td>\n",
       "      <td>30.0</td>\n",
       "      <td>1</td>\n",
       "      <td>-1.0</td>\n",
       "      <td>96.21</td>\n",
       "    </tr>\n",
       "    <tr>\n",
       "      <th>3</th>\n",
       "      <td>Nelson Agholor</td>\n",
       "      <td>30.0</td>\n",
       "      <td>1</td>\n",
       "      <td>-1.0</td>\n",
       "      <td>97.24</td>\n",
       "    </tr>\n",
       "    <tr>\n",
       "      <th>4</th>\n",
       "      <td>Tyreek Hill</td>\n",
       "      <td>29.0</td>\n",
       "      <td>1</td>\n",
       "      <td>-1.0</td>\n",
       "      <td>105.40</td>\n",
       "    </tr>\n",
       "    <tr>\n",
       "      <th>5</th>\n",
       "      <td>Courtland Sutton</td>\n",
       "      <td>27.0</td>\n",
       "      <td>1</td>\n",
       "      <td>-1.0</td>\n",
       "      <td>98.00</td>\n",
       "    </tr>\n",
       "    <tr>\n",
       "      <th>7</th>\n",
       "      <td>D.J. Moore</td>\n",
       "      <td>26.0</td>\n",
       "      <td>1</td>\n",
       "      <td>-1.0</td>\n",
       "      <td>84.46</td>\n",
       "    </tr>\n",
       "    <tr>\n",
       "      <th>8</th>\n",
       "      <td>DK Metcalf</td>\n",
       "      <td>25.0</td>\n",
       "      <td>1</td>\n",
       "      <td>-1.0</td>\n",
       "      <td>90.41</td>\n",
       "    </tr>\n",
       "    <tr>\n",
       "      <th>9</th>\n",
       "      <td>Michael Pittman</td>\n",
       "      <td>25.0</td>\n",
       "      <td>1</td>\n",
       "      <td>-1.0</td>\n",
       "      <td>87.25</td>\n",
       "    </tr>\n",
       "    <tr>\n",
       "      <th>11</th>\n",
       "      <td>CeeDee Lamb</td>\n",
       "      <td>24.0</td>\n",
       "      <td>1</td>\n",
       "      <td>-1.0</td>\n",
       "      <td>104.25</td>\n",
       "    </tr>\n",
       "  </tbody>\n",
       "</table>\n",
       "</div>"
      ],
      "text/plain": [
       "                Name   Age Answer  Prediction     QBR\n",
       "0       Keenan Allen  31.0      1        -1.0   93.22\n",
       "1      Brandin Cooks  29.0      1        -1.0  104.25\n",
       "2         Mike Evans  30.0      1        -1.0   96.21\n",
       "3     Nelson Agholor  30.0      1        -1.0   97.24\n",
       "4        Tyreek Hill  29.0      1        -1.0  105.40\n",
       "5   Courtland Sutton  27.0      1        -1.0   98.00\n",
       "7         D.J. Moore  26.0      1        -1.0   84.46\n",
       "8         DK Metcalf  25.0      1        -1.0   90.41\n",
       "9    Michael Pittman  25.0      1        -1.0   87.25\n",
       "11       CeeDee Lamb  24.0      1        -1.0  104.25"
      ]
     },
     "execution_count": 244,
     "metadata": {},
     "output_type": "execute_result"
    }
   ],
   "source": [
    "df_incorrect.query(\"Prediction == -1.0\")"
   ]
  },
  {
   "cell_type": "code",
   "execution_count": 245,
   "id": "f9af5788",
   "metadata": {},
   "outputs": [
    {
     "data": {
      "text/html": [
       "<div>\n",
       "<style scoped>\n",
       "    .dataframe tbody tr th:only-of-type {\n",
       "        vertical-align: middle;\n",
       "    }\n",
       "\n",
       "    .dataframe tbody tr th {\n",
       "        vertical-align: top;\n",
       "    }\n",
       "\n",
       "    .dataframe thead th {\n",
       "        text-align: right;\n",
       "    }\n",
       "</style>\n",
       "<table border=\"1\" class=\"dataframe\">\n",
       "  <thead>\n",
       "    <tr style=\"text-align: right;\">\n",
       "      <th></th>\n",
       "      <th>Name</th>\n",
       "      <th>Age</th>\n",
       "      <th>Answer</th>\n",
       "      <th>Prediction</th>\n",
       "      <th>QBR</th>\n",
       "    </tr>\n",
       "  </thead>\n",
       "  <tbody>\n",
       "    <tr>\n",
       "      <th>6</th>\n",
       "      <td>Michael Gallup</td>\n",
       "      <td>27.0</td>\n",
       "      <td>-1</td>\n",
       "      <td>1.0</td>\n",
       "      <td>104.25</td>\n",
       "    </tr>\n",
       "    <tr>\n",
       "      <th>10</th>\n",
       "      <td>K.J. Osborn</td>\n",
       "      <td>26.0</td>\n",
       "      <td>-1</td>\n",
       "      <td>1.0</td>\n",
       "      <td>103.78</td>\n",
       "    </tr>\n",
       "    <tr>\n",
       "      <th>12</th>\n",
       "      <td>Josh Palmer</td>\n",
       "      <td>23.0</td>\n",
       "      <td>-1</td>\n",
       "      <td>1.0</td>\n",
       "      <td>93.22</td>\n",
       "    </tr>\n",
       "    <tr>\n",
       "      <th>13</th>\n",
       "      <td>Drake London</td>\n",
       "      <td>22.0</td>\n",
       "      <td>-1</td>\n",
       "      <td>1.0</td>\n",
       "      <td>82.22</td>\n",
       "    </tr>\n",
       "    <tr>\n",
       "      <th>14</th>\n",
       "      <td>Alec Pierce</td>\n",
       "      <td>23.0</td>\n",
       "      <td>-1</td>\n",
       "      <td>1.0</td>\n",
       "      <td>87.25</td>\n",
       "    </tr>\n",
       "    <tr>\n",
       "      <th>15</th>\n",
       "      <td>Jahan Dotson</td>\n",
       "      <td>23.0</td>\n",
       "      <td>-1</td>\n",
       "      <td>1.0</td>\n",
       "      <td>80.51</td>\n",
       "    </tr>\n",
       "  </tbody>\n",
       "</table>\n",
       "</div>"
      ],
      "text/plain": [
       "              Name   Age Answer  Prediction     QBR\n",
       "6   Michael Gallup  27.0     -1         1.0  104.25\n",
       "10     K.J. Osborn  26.0     -1         1.0  103.78\n",
       "12     Josh Palmer  23.0     -1         1.0   93.22\n",
       "13    Drake London  22.0     -1         1.0   82.22\n",
       "14     Alec Pierce  23.0     -1         1.0   87.25\n",
       "15    Jahan Dotson  23.0     -1         1.0   80.51"
      ]
     },
     "execution_count": 245,
     "metadata": {},
     "output_type": "execute_result"
    }
   ],
   "source": [
    "df_incorrect.query(\"Prediction == 1.0\")"
   ]
  },
  {
   "cell_type": "code",
   "execution_count": 246,
   "id": "5a806f97",
   "metadata": {},
   "outputs": [
    {
     "data": {
      "text/html": [
       "<div>\n",
       "<style scoped>\n",
       "    .dataframe tbody tr th:only-of-type {\n",
       "        vertical-align: middle;\n",
       "    }\n",
       "\n",
       "    .dataframe tbody tr th {\n",
       "        vertical-align: top;\n",
       "    }\n",
       "\n",
       "    .dataframe thead th {\n",
       "        text-align: right;\n",
       "    }\n",
       "</style>\n",
       "<table border=\"1\" class=\"dataframe\">\n",
       "  <thead>\n",
       "    <tr style=\"text-align: right;\">\n",
       "      <th></th>\n",
       "      <th>Name</th>\n",
       "      <th>Age</th>\n",
       "      <th>Answer</th>\n",
       "      <th>Prediction</th>\n",
       "      <th>QBR</th>\n",
       "    </tr>\n",
       "  </thead>\n",
       "  <tbody>\n",
       "  </tbody>\n",
       "</table>\n",
       "</div>"
      ],
      "text/plain": [
       "Empty DataFrame\n",
       "Columns: [Name, Age, Answer, Prediction, QBR]\n",
       "Index: []"
      ]
     },
     "execution_count": 246,
     "metadata": {},
     "output_type": "execute_result"
    }
   ],
   "source": [
    "df_incorrect.query(\"Prediction == 0.0\")"
   ]
  },
  {
   "cell_type": "code",
   "execution_count": null,
   "id": "f315acdb",
   "metadata": {},
   "outputs": [],
   "source": []
  }
 ],
 "metadata": {
  "kernelspec": {
   "display_name": "nfldata",
   "language": "python",
   "name": "nfldata"
  },
  "language_info": {
   "codemirror_mode": {
    "name": "ipython",
    "version": 3
   },
   "file_extension": ".py",
   "mimetype": "text/x-python",
   "name": "python",
   "nbconvert_exporter": "python",
   "pygments_lexer": "ipython3",
   "version": "3.9.7"
  }
 },
 "nbformat": 4,
 "nbformat_minor": 5
}
