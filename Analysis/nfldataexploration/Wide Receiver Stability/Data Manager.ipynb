{
 "cells": [
  {
   "cell_type": "markdown",
   "id": "fd3f3e4a",
   "metadata": {},
   "source": [
    "# Imports"
   ]
  },
  {
   "cell_type": "code",
   "execution_count": 1,
   "id": "09331828",
   "metadata": {},
   "outputs": [],
   "source": [
    "import pandas as pd\n",
    "import nfl_data_py as nfl"
   ]
  },
  {
   "cell_type": "code",
   "execution_count": 2,
   "id": "84d3a234",
   "metadata": {},
   "outputs": [],
   "source": [
    "def get_qb(player_name, season):\n",
    "    row = df_roster.query(f\"player_name == \\\"{player_name}\\\" and season == {season}\")\n",
    "    team = row[\"team\"].iloc[0]\n",
    "    \n",
    "    min_depth = 10\n",
    "    starting_qb_id = ''\n",
    "    qbs = df_roster.query(f\"season == {season} and team == '{team}' and position == 'QB'\")[\"player_id\"]\n",
    "    \n",
    "    for qb_id in qbs:\n",
    "        depth_chart = df_depth_chart.query(f'gsis_id == \"{qb_id}\" and season == {season}')\n",
    "        if not depth_chart.empty:\n",
    "            if depth_chart[\"depth_team_mean\"].iloc[0] < min_depth:\n",
    "                min_depth = depth_chart[\"depth_team_mean\"].iloc[0]\n",
    "                starting_qb_id = qb_id\n",
    "       \n",
    "    qb_df = df_seasonal.query(f\"player_id == '{starting_qb_id}' and season == {season}\")\n",
    "    \n",
    "    if qb_df.empty:\n",
    "        return None\n",
    "    \n",
    "    return qb_df[\"completions\"].iloc[0], qb_df[\"attempts\"].iloc[0], qb_df[\"passing_yards\"].iloc[0], \\\n",
    "qb_df[\"passing_tds\"].iloc[0], qb_df[\"interceptions\"].iloc[0]"
   ]
  },
  {
   "cell_type": "code",
   "execution_count": 3,
   "id": "2152094d",
   "metadata": {},
   "outputs": [],
   "source": [
    "def calculate_qbr(completions, attempts, passing_yards, interceptions, passing_touchdowns):\n",
    "    thres = 2.375\n",
    "        \n",
    "    completion_percentage_comp = min(max((completions / attempts - .3) * 5, 0), thres)\n",
    "    yards_per_attempt_comp = min(max(((passing_yards / attempts - 3) * 0.25), 0), thres)\n",
    "    touchdown_percentage_comp = min(max((passing_touchdowns / attempts) * 20, 0), thres)\n",
    "    interception_percentage_comp = min(max(thres - (interceptions / attempts) * 25, 0), thres)\n",
    "    \n",
    "    \n",
    "    sum_comp = completion_percentage_comp + yards_per_attempt_comp + \\\n",
    "                touchdown_percentage_comp + interception_percentage_comp\n",
    "        \n",
    "    qbr = (sum_comp / 6) * 100\n",
    "    return qbr"
   ]
  },
  {
   "cell_type": "markdown",
   "id": "a1ab54b6",
   "metadata": {},
   "source": [
    "# Grabbing Data"
   ]
  },
  {
   "cell_type": "code",
   "execution_count": 4,
   "id": "8ae1018c",
   "metadata": {},
   "outputs": [],
   "source": [
    "# df_roster = pd.read_pickle(\"../../interactive/df_roster_2012_2022.pkl\")\n",
    "df_roster = pd.read_pickle(\"../../interactive/df_roster_2023.pkl\")"
   ]
  },
  {
   "cell_type": "code",
   "execution_count": 5,
   "id": "944e599a",
   "metadata": {},
   "outputs": [],
   "source": [
    "# df_seasonal = pd.read_pickle(\"../../interactive/df_seasonal_2012_2022.pkl\")\n",
    "# df_seasonal = pd.read_pickle(\"../../interactive/df_seasonal_2023.pkl\")\n",
    "df_seasonal = nfl.import_seasonal_data([2023])"
   ]
  },
  {
   "cell_type": "code",
   "execution_count": 6,
   "id": "26293223",
   "metadata": {},
   "outputs": [],
   "source": [
    "# df_depth_chart = pd.read_pickle(\"../../interactive/df_dc_mean_2012_2022.pkl\")\n",
    "df_depth_chart = nfl.import_depth_charts([2023])"
   ]
  },
  {
   "cell_type": "code",
   "execution_count": 7,
   "id": "72e8f8c9",
   "metadata": {},
   "outputs": [],
   "source": [
    "df_draft_picks = pd.read_pickle(\"../../interactive/df_draft_picks_1980_2022.pkl\")"
   ]
  },
  {
   "cell_type": "code",
   "execution_count": 8,
   "id": "94579efa",
   "metadata": {},
   "outputs": [],
   "source": [
    "df_ngs_rec = pd.read_pickle(\"../../interactive/df_ngs_rec_2016_2022.pkl\")\n",
    "df_ngs_rec = df_ngs_rec.query(\"season_type == 'REG'\")"
   ]
  },
  {
   "cell_type": "code",
   "execution_count": 9,
   "id": "d1e1ef9e",
   "metadata": {},
   "outputs": [],
   "source": [
    "df_pfr_rec =  pd.read_pickle(\"../../interactive/df_pfr_rec_2018_2022.pkl\")"
   ]
  },
  {
   "cell_type": "markdown",
   "id": "d3bddf08",
   "metadata": {},
   "source": [
    "# Normal Stat DF Creation"
   ]
  },
  {
   "cell_type": "code",
   "execution_count": 10,
   "id": "04db8402",
   "metadata": {},
   "outputs": [],
   "source": [
    "df_pass = df_seasonal.copy()"
   ]
  },
  {
   "cell_type": "code",
   "execution_count": 11,
   "id": "4af36426",
   "metadata": {},
   "outputs": [],
   "source": [
    "df_depth_chart[\"depth_team\"] = df_depth_chart[\"depth_team\"].astype(int)"
   ]
  },
  {
   "cell_type": "code",
   "execution_count": 12,
   "id": "25d25889",
   "metadata": {},
   "outputs": [
    {
     "data": {
      "text/plain": [
       "Index(['season', 'club_code', 'week', 'game_type', 'depth_team', 'last_name',\n",
       "       'first_name', 'football_name', 'formation', 'gsis_id', 'jersey_number',\n",
       "       'position', 'elias_id', 'depth_position', 'full_name'],\n",
       "      dtype='object')"
      ]
     },
     "execution_count": 12,
     "metadata": {},
     "output_type": "execute_result"
    }
   ],
   "source": [
    "df_depth_chart.columns"
   ]
  },
  {
   "cell_type": "code",
   "execution_count": 13,
   "id": "f9554268",
   "metadata": {},
   "outputs": [],
   "source": [
    "df_temp = df_depth_chart.query(\"game_type == 'REG'\") \\\n",
    "    .groupby([\"season\", \"club_code\", \"gsis_id\"]) \\\n",
    "    .agg({\n",
    "        \"depth_team\": [\"mean\"]\n",
    "    })"
   ]
  },
  {
   "cell_type": "code",
   "execution_count": 14,
   "id": "a551c4fb",
   "metadata": {},
   "outputs": [],
   "source": [
    "df_temp.columns = list(map(\"_\".join, df_temp.columns))\n",
    "df_temp.reset_index(inplace=True)"
   ]
  },
  {
   "cell_type": "code",
   "execution_count": 15,
   "id": "e182a3b7",
   "metadata": {},
   "outputs": [],
   "source": [
    "df_depth_chart = df_temp.copy()"
   ]
  },
  {
   "cell_type": "code",
   "execution_count": 16,
   "id": "eef3df12",
   "metadata": {},
   "outputs": [],
   "source": [
    "for i, row in df_pass.copy().iterrows():\n",
    "    player_id = row[\"player_id\"]\n",
    "    season = row[\"season\"]\n",
    "    \n",
    "    roster_row = df_roster.query(f\"season == {season} and player_id == '{player_id}'\")\n",
    "    depth_chart_row = df_depth_chart.query(f\"season == {season} and gsis_id == '{player_id}'\")\n",
    "    dc_row = df_draft_picks.query(f\"gsis_id == '{player_id}'\")\n",
    "    \n",
    "    if roster_row.empty or depth_chart_row.empty or dc_row.empty:\n",
    "        pass\n",
    "    else:\n",
    "        player_name = roster_row[\"player_name\"].iloc[0]\n",
    "#         player_name = player_name.replace(\"'\", \"\\'\")\n",
    "        \n",
    "        df_pass.at[i, \"age\"] = roster_row[\"age\"].iloc[0]\n",
    "        df_pass.at[i, \"position\"] = roster_row[\"position\"].iloc[0]\n",
    "        df_pass.at[i, \"player_name\"] = player_name\n",
    "    \n",
    "        df_pass.at[i, \"depth_team\"] = depth_chart_row[\"depth_team_mean\"].iloc[0]\n",
    "\n",
    "        df_pass.at[i, \"round\"] = dc_row[\"round\"].iloc[0]\n",
    "        df_pass.at[i, \"pick\"] = dc_row[\"pick\"].iloc[0]\n",
    "        \n",
    "        output = get_qb(player_name, season)\n",
    "        if output != None:\n",
    "            completions, attempts, passing_yards, passing_tds, interceptions = output\n",
    "            qbr = calculate_qbr(completions, attempts, passing_yards, interceptions, passing_tds)\n",
    "            df_pass.at[i, \"qbr\"] = qbr"
   ]
  },
  {
   "cell_type": "code",
   "execution_count": 17,
   "id": "afb046b7",
   "metadata": {},
   "outputs": [],
   "source": [
    "# df_pass.to_pickle(\"./wr-simple-data-2012-2022.pkl\")"
   ]
  },
  {
   "cell_type": "code",
   "execution_count": 18,
   "id": "bc799e6e",
   "metadata": {},
   "outputs": [],
   "source": [
    "df_pass.drop(columns=['completions', 'attempts',\n",
    "       'passing_yards', 'passing_tds', 'interceptions', 'sacks', 'sack_yards',\n",
    "       'sack_fumbles', 'sack_fumbles_lost', 'passing_air_yards',\n",
    "       'passing_yards_after_catch', 'passing_first_downs', 'passing_epa',\n",
    "       'passing_2pt_conversions', 'pacr', 'dakota', 'carries', 'rushing_yards',\n",
    "       'rushing_tds', 'rushing_fumbles', 'rushing_fumbles_lost',\n",
    "       'rushing_first_downs', 'rushing_epa', 'rushing_2pt_conversions', 'special_teams_tds'],\n",
    "            inplace=True\n",
    "            )"
   ]
  },
  {
   "cell_type": "code",
   "execution_count": 19,
   "id": "ace99822",
   "metadata": {},
   "outputs": [
    {
     "data": {
      "text/html": [
       "<div>\n",
       "<style scoped>\n",
       "    .dataframe tbody tr th:only-of-type {\n",
       "        vertical-align: middle;\n",
       "    }\n",
       "\n",
       "    .dataframe tbody tr th {\n",
       "        vertical-align: top;\n",
       "    }\n",
       "\n",
       "    .dataframe thead th {\n",
       "        text-align: right;\n",
       "    }\n",
       "</style>\n",
       "<table border=\"1\" class=\"dataframe\">\n",
       "  <thead>\n",
       "    <tr style=\"text-align: right;\">\n",
       "      <th></th>\n",
       "      <th>player_id</th>\n",
       "      <th>season</th>\n",
       "      <th>season_type</th>\n",
       "      <th>receptions</th>\n",
       "      <th>targets</th>\n",
       "      <th>receiving_yards</th>\n",
       "      <th>receiving_tds</th>\n",
       "      <th>receiving_fumbles</th>\n",
       "      <th>receiving_fumbles_lost</th>\n",
       "      <th>receiving_air_yards</th>\n",
       "      <th>...</th>\n",
       "      <th>w8dom</th>\n",
       "      <th>yptmpa</th>\n",
       "      <th>ppr_sh</th>\n",
       "      <th>age</th>\n",
       "      <th>position</th>\n",
       "      <th>player_name</th>\n",
       "      <th>depth_team</th>\n",
       "      <th>round</th>\n",
       "      <th>pick</th>\n",
       "      <th>qbr</th>\n",
       "    </tr>\n",
       "  </thead>\n",
       "  <tbody>\n",
       "    <tr>\n",
       "      <th>0</th>\n",
       "      <td>00-0023459</td>\n",
       "      <td>2023</td>\n",
       "      <td>REG</td>\n",
       "      <td>0</td>\n",
       "      <td>0</td>\n",
       "      <td>0.0</td>\n",
       "      <td>0</td>\n",
       "      <td>0.0</td>\n",
       "      <td>0.0</td>\n",
       "      <td>0.0</td>\n",
       "      <td>...</td>\n",
       "      <td>0.000000</td>\n",
       "      <td>0.000000</td>\n",
       "      <td>0.000000</td>\n",
       "      <td>39.0</td>\n",
       "      <td>QB</td>\n",
       "      <td>Aaron Rodgers</td>\n",
       "      <td>1.0</td>\n",
       "      <td>1.0</td>\n",
       "      <td>24.0</td>\n",
       "      <td>39.583333</td>\n",
       "    </tr>\n",
       "    <tr>\n",
       "      <th>1</th>\n",
       "      <td>00-0024243</td>\n",
       "      <td>2023</td>\n",
       "      <td>REG</td>\n",
       "      <td>4</td>\n",
       "      <td>5</td>\n",
       "      <td>29.0</td>\n",
       "      <td>1</td>\n",
       "      <td>0.0</td>\n",
       "      <td>0.0</td>\n",
       "      <td>9.0</td>\n",
       "      <td>...</td>\n",
       "      <td>0.046907</td>\n",
       "      <td>0.197279</td>\n",
       "      <td>0.028467</td>\n",
       "      <td>39.0</td>\n",
       "      <td>TE</td>\n",
       "      <td>Marcedes Lewis</td>\n",
       "      <td>3.0</td>\n",
       "      <td>1.0</td>\n",
       "      <td>28.0</td>\n",
       "      <td>85.816855</td>\n",
       "    </tr>\n",
       "    <tr>\n",
       "      <th>2</th>\n",
       "      <td>00-0026158</td>\n",
       "      <td>2023</td>\n",
       "      <td>REG</td>\n",
       "      <td>0</td>\n",
       "      <td>0</td>\n",
       "      <td>0.0</td>\n",
       "      <td>0</td>\n",
       "      <td>0.0</td>\n",
       "      <td>0.0</td>\n",
       "      <td>0.0</td>\n",
       "      <td>...</td>\n",
       "      <td>0.000000</td>\n",
       "      <td>0.000000</td>\n",
       "      <td>0.191464</td>\n",
       "      <td>38.0</td>\n",
       "      <td>QB</td>\n",
       "      <td>Joe Flacco</td>\n",
       "      <td>1.0</td>\n",
       "      <td>1.0</td>\n",
       "      <td>18.0</td>\n",
       "      <td>90.236928</td>\n",
       "    </tr>\n",
       "    <tr>\n",
       "      <th>3</th>\n",
       "      <td>00-0026498</td>\n",
       "      <td>2023</td>\n",
       "      <td>REG</td>\n",
       "      <td>0</td>\n",
       "      <td>0</td>\n",
       "      <td>0.0</td>\n",
       "      <td>0</td>\n",
       "      <td>0.0</td>\n",
       "      <td>0.0</td>\n",
       "      <td>0.0</td>\n",
       "      <td>...</td>\n",
       "      <td>0.000000</td>\n",
       "      <td>0.000000</td>\n",
       "      <td>0.173299</td>\n",
       "      <td>35.0</td>\n",
       "      <td>QB</td>\n",
       "      <td>Matthew Stafford</td>\n",
       "      <td>1.0</td>\n",
       "      <td>1.0</td>\n",
       "      <td>1.0</td>\n",
       "      <td>92.494402</td>\n",
       "    </tr>\n",
       "    <tr>\n",
       "      <th>4</th>\n",
       "      <td>00-0026625</td>\n",
       "      <td>2023</td>\n",
       "      <td>REG</td>\n",
       "      <td>0</td>\n",
       "      <td>0</td>\n",
       "      <td>0.0</td>\n",
       "      <td>0</td>\n",
       "      <td>0.0</td>\n",
       "      <td>0.0</td>\n",
       "      <td>0.0</td>\n",
       "      <td>...</td>\n",
       "      <td>0.000000</td>\n",
       "      <td>0.000000</td>\n",
       "      <td>0.036106</td>\n",
       "      <td>NaN</td>\n",
       "      <td>na</td>\n",
       "      <td>nan</td>\n",
       "      <td>NaN</td>\n",
       "      <td>NaN</td>\n",
       "      <td>NaN</td>\n",
       "      <td>NaN</td>\n",
       "    </tr>\n",
       "  </tbody>\n",
       "</table>\n",
       "<p>5 rows × 40 columns</p>\n",
       "</div>"
      ],
      "text/plain": [
       "    player_id  season season_type  receptions  targets  receiving_yards  \\\n",
       "0  00-0023459    2023         REG           0        0              0.0   \n",
       "1  00-0024243    2023         REG           4        5             29.0   \n",
       "2  00-0026158    2023         REG           0        0              0.0   \n",
       "3  00-0026498    2023         REG           0        0              0.0   \n",
       "4  00-0026625    2023         REG           0        0              0.0   \n",
       "\n",
       "   receiving_tds  receiving_fumbles  receiving_fumbles_lost  \\\n",
       "0              0                0.0                     0.0   \n",
       "1              1                0.0                     0.0   \n",
       "2              0                0.0                     0.0   \n",
       "3              0                0.0                     0.0   \n",
       "4              0                0.0                     0.0   \n",
       "\n",
       "   receiving_air_yards  ...     w8dom    yptmpa    ppr_sh   age  position  \\\n",
       "0                  0.0  ...  0.000000  0.000000  0.000000  39.0        QB   \n",
       "1                  9.0  ...  0.046907  0.197279  0.028467  39.0        TE   \n",
       "2                  0.0  ...  0.000000  0.000000  0.191464  38.0        QB   \n",
       "3                  0.0  ...  0.000000  0.000000  0.173299  35.0        QB   \n",
       "4                  0.0  ...  0.000000  0.000000  0.036106   NaN        na   \n",
       "\n",
       "        player_name  depth_team  round  pick        qbr  \n",
       "0     Aaron Rodgers         1.0    1.0  24.0  39.583333  \n",
       "1    Marcedes Lewis         3.0    1.0  28.0  85.816855  \n",
       "2        Joe Flacco         1.0    1.0  18.0  90.236928  \n",
       "3  Matthew Stafford         1.0    1.0   1.0  92.494402  \n",
       "4               nan         NaN    NaN   NaN        NaN  \n",
       "\n",
       "[5 rows x 40 columns]"
      ]
     },
     "execution_count": 19,
     "metadata": {},
     "output_type": "execute_result"
    }
   ],
   "source": [
    "df_pass.head()"
   ]
  },
  {
   "cell_type": "code",
   "execution_count": 20,
   "id": "acad8703",
   "metadata": {},
   "outputs": [],
   "source": [
    "df_pass.dropna(inplace=True)"
   ]
  },
  {
   "cell_type": "code",
   "execution_count": 21,
   "id": "1b376cd2",
   "metadata": {},
   "outputs": [],
   "source": [
    "df_pass.to_pickle(\"./wr-simple-data-2023-qbr.pkl\")"
   ]
  },
  {
   "cell_type": "markdown",
   "id": "cf4b3b84",
   "metadata": {},
   "source": [
    "# Advanced Stat DF Creation"
   ]
  },
  {
   "cell_type": "code",
   "execution_count": null,
   "id": "f6d206a1",
   "metadata": {},
   "outputs": [],
   "source": [
    "df_ngs_rec.columns"
   ]
  },
  {
   "cell_type": "code",
   "execution_count": null,
   "id": "65e4010b",
   "metadata": {},
   "outputs": [],
   "source": [
    "# df_pass_ngs = "
   ]
  },
  {
   "cell_type": "markdown",
   "id": "2f184d0a",
   "metadata": {},
   "source": [
    "# For modelling"
   ]
  },
  {
   "cell_type": "code",
   "execution_count": 9,
   "id": "1a92923d",
   "metadata": {},
   "outputs": [],
   "source": [
    "import math"
   ]
  },
  {
   "cell_type": "code",
   "execution_count": 3,
   "id": "a9cd8a1b",
   "metadata": {},
   "outputs": [],
   "source": [
    "years = range(2005, 2023 + 1)"
   ]
  },
  {
   "cell_type": "code",
   "execution_count": 4,
   "id": "80739a1d",
   "metadata": {},
   "outputs": [],
   "source": [
    "df_roster = nfl.import_seasonal_rosters(years)"
   ]
  },
  {
   "cell_type": "code",
   "execution_count": 6,
   "id": "1ae9d8f6",
   "metadata": {},
   "outputs": [],
   "source": [
    "df_roster_seasonal = df_roster.groupby([\"position\", \"player_name\", \"player_id\"]).agg({\"age\": [\"mean\"]})"
   ]
  },
  {
   "cell_type": "code",
   "execution_count": 7,
   "id": "95eb162d",
   "metadata": {},
   "outputs": [],
   "source": [
    "df_roster_seasonal.columns = list(map(\"_\".join, df_roster_seasonal.columns))\n",
    "df_roster_seasonal.reset_index(inplace=True)"
   ]
  },
  {
   "cell_type": "code",
   "execution_count": 10,
   "id": "4f37d288",
   "metadata": {},
   "outputs": [],
   "source": [
    "df_roster_seasonal[\"age\"] = df_roster_seasonal[\"age_mean\"].dropna().apply(math.floor)\n",
    "df_roster_seasonal.drop(columns=[\"age_mean\"], inplace=True)"
   ]
  },
  {
   "cell_type": "code",
   "execution_count": 5,
   "id": "805c77a6",
   "metadata": {},
   "outputs": [],
   "source": [
    "df_seasonal = nfl.import_seasonal_data(years)"
   ]
  },
  {
   "cell_type": "code",
   "execution_count": 11,
   "id": "df2721ac",
   "metadata": {},
   "outputs": [],
   "source": [
    "df_merge = df_seasonal.merge(df_roster_seasonal, on=\"player_id\", how=\"left\")"
   ]
  },
  {
   "cell_type": "code",
   "execution_count": 12,
   "id": "cfc65353",
   "metadata": {},
   "outputs": [],
   "source": [
    "df_merge_cleaned = df_merge.drop_duplicates().dropna()"
   ]
  },
  {
   "cell_type": "code",
   "execution_count": 15,
   "id": "c5ee91e3",
   "metadata": {},
   "outputs": [
    {
     "name": "stdout",
     "output_type": "stream",
     "text": [
      "\u001b[34mQB\u001b[m\u001b[m/                            df_pbp_2012_2022.pkl\r\n",
      "\u001b[34mRB\u001b[m\u001b[m/                            df_pfr_pass_2018_2022.pkl\r\n",
      "\u001b[34mTE\u001b[m\u001b[m/                            df_pfr_rec_2018_2022.pkl\r\n",
      "\u001b[34mWR\u001b[m\u001b[m/                            df_pfr_rush_2018_2022.pkl\r\n",
      "df_dc_mean_2012_2022.pkl       df_qbr_seasonal_2012_2022.pkl\r\n",
      "df_draft_picks_1980_2022.pkl   df_roster_2012_2022.pkl\r\n",
      "df_draft_picks_2012_2022.pkl   df_roster_2023.pkl\r\n",
      "df_ngs_passing_2016_2022.pkl   df_seasonal_2012_2022.pkl\r\n",
      "df_ngs_rec_2016_2022.pkl       df_seasonal_2023.pkl\r\n",
      "df_ngs_rush_2016_2022.pkl\r\n"
     ]
    }
   ],
   "source": [
    "ls ../../interactive"
   ]
  },
  {
   "cell_type": "code",
   "execution_count": 16,
   "id": "dba0e026",
   "metadata": {},
   "outputs": [],
   "source": [
    "df_merge_cleaned.to_pickle(\"../../interactive/df_all_2005_2023.pkl\")"
   ]
  },
  {
   "cell_type": "code",
   "execution_count": null,
   "id": "0ee08d12",
   "metadata": {},
   "outputs": [],
   "source": []
  }
 ],
 "metadata": {
  "kernelspec": {
   "display_name": "nfldata",
   "language": "python",
   "name": "nfldata"
  },
  "language_info": {
   "codemirror_mode": {
    "name": "ipython",
    "version": 3
   },
   "file_extension": ".py",
   "mimetype": "text/x-python",
   "name": "python",
   "nbconvert_exporter": "python",
   "pygments_lexer": "ipython3",
   "version": "3.9.7"
  }
 },
 "nbformat": 4,
 "nbformat_minor": 5
}
