{
 "cells": [
  {
   "cell_type": "markdown",
   "id": "8c657bdb",
   "metadata": {},
   "source": [
    "# Imports"
   ]
  },
  {
   "cell_type": "code",
   "execution_count": 51,
   "id": "6181fe99",
   "metadata": {},
   "outputs": [],
   "source": [
    "import plotly.express as px\n",
    "import pandas as pd\n",
    "import numpy as np"
   ]
  },
  {
   "cell_type": "code",
   "execution_count": 2,
   "id": "4b5e2da1",
   "metadata": {},
   "outputs": [],
   "source": [
    "import sys\n",
    "import os\n",
    "sys.path.append(os.path.abspath('..'))\n",
    "from helpers_graph import plot_correlation_matrix, create_correlation_matrix, plot_scatter\n",
    "from helpers_df import create_lag_df"
   ]
  },
  {
   "cell_type": "markdown",
   "id": "751b43a4",
   "metadata": {},
   "source": [
    "# Grab Data"
   ]
  },
  {
   "cell_type": "code",
   "execution_count": 3,
   "id": "46a889bd",
   "metadata": {},
   "outputs": [],
   "source": [
    "df_rec = pd.read_pickle(\"./wr-simple-data-2012-2022.pkl\")"
   ]
  },
  {
   "cell_type": "code",
   "execution_count": 87,
   "id": "3b1fbdcb",
   "metadata": {},
   "outputs": [
    {
     "data": {
      "text/plain": [
       "Index(['player_id', 'season', 'season_type', 'receptions', 'targets',\n",
       "       'receiving_yards', 'receiving_tds', 'receiving_fumbles',\n",
       "       'receiving_fumbles_lost', 'receiving_air_yards',\n",
       "       'receiving_yards_after_catch', 'receiving_first_downs', 'receiving_epa',\n",
       "       'receiving_2pt_conversions', 'racr', 'target_share', 'air_yards_share',\n",
       "       'wopr_x', 'fantasy_points', 'fantasy_points_ppr', 'games', 'tgt_sh',\n",
       "       'ay_sh', 'yac_sh', 'wopr_y', 'ry_sh', 'rtd_sh', 'rfd_sh', 'rtdfd_sh',\n",
       "       'dom', 'w8dom', 'yptmpa', 'ppr_sh', 'age', 'position', 'player_name'],\n",
       "      dtype='object')"
      ]
     },
     "execution_count": 87,
     "metadata": {},
     "output_type": "execute_result"
    }
   ],
   "source": [
    "df_rec.columns"
   ]
  },
  {
   "cell_type": "code",
   "execution_count": 4,
   "id": "962a1fa1",
   "metadata": {},
   "outputs": [],
   "source": [
    "df_depth_chart = pd.read_pickle(\"../../interactive/df_dc_mean_2012_2022.pkl\")"
   ]
  },
  {
   "cell_type": "code",
   "execution_count": 5,
   "id": "1aa1a357",
   "metadata": {},
   "outputs": [],
   "source": [
    "df_depth_chart[\"player_id\"] = df_depth_chart[\"gsis_id\"]"
   ]
  },
  {
   "cell_type": "code",
   "execution_count": 12,
   "id": "723e1270",
   "metadata": {},
   "outputs": [],
   "source": [
    "# df_pfr_rec = pd.read_pickle(\"../../interactive/df_pfr_rec_2018_2022.pkl\")"
   ]
  },
  {
   "cell_type": "code",
   "execution_count": 13,
   "id": "728d6399",
   "metadata": {},
   "outputs": [],
   "source": [
    "# df_pfr_rec.columns"
   ]
  },
  {
   "cell_type": "code",
   "execution_count": 14,
   "id": "626dc538",
   "metadata": {},
   "outputs": [],
   "source": [
    "df_ngs_rec = pd.read_pickle(\"../../interactive/df_ngs_rec_2016_2022.pkl\")"
   ]
  },
  {
   "cell_type": "code",
   "execution_count": 25,
   "id": "4ae88348",
   "metadata": {},
   "outputs": [],
   "source": [
    "df_ngs_needed = df_ngs_rec[[\"season\", \"player_gsis_id\", \"avg_cushion\", \"avg_separation\", \"avg_intended_air_yards\",\n",
    "           \"percent_share_of_intended_air_yards\", \"catch_percentage\", 'avg_yac', 'avg_expected_yac',\n",
    "            'avg_yac_above_expectation']] \\\n",
    "            .copy() \\\n",
    "            .groupby([\"season\", \"player_gsis_id\"]) \\\n",
    "            .agg({\n",
    "                \"avg_cushion\": [\"mean\"],\n",
    "                \"avg_separation\": [\"mean\"],\n",
    "                \"avg_intended_air_yards\": [\"mean\"],\n",
    "                \"percent_share_of_intended_air_yards\": [\"mean\"],\n",
    "                \"catch_percentage\": [\"mean\"],\n",
    "                'avg_yac': [\"mean\"],\n",
    "                'avg_expected_yac': [\"mean\"],\n",
    "                'avg_yac_above_expectation': [\"mean\"]\n",
    "            })"
   ]
  },
  {
   "cell_type": "code",
   "execution_count": 27,
   "id": "01a8d64f",
   "metadata": {},
   "outputs": [],
   "source": [
    "df_ngs_needed.columns = list(map(\"_\".join, df_ngs_needed.columns))\n",
    "df_ngs_needed.reset_index(inplace=True)"
   ]
  },
  {
   "cell_type": "code",
   "execution_count": 29,
   "id": "b9c83598",
   "metadata": {},
   "outputs": [],
   "source": [
    "df_ngs_needed.rename(columns={\"player_gsis_id\": \"player_id\"}, inplace=True)"
   ]
  },
  {
   "cell_type": "markdown",
   "id": "6148a3a3",
   "metadata": {},
   "source": [
    "# Creating Merged DF with All Stas"
   ]
  },
  {
   "cell_type": "code",
   "execution_count": 30,
   "id": "daa48720",
   "metadata": {},
   "outputs": [],
   "source": [
    "df_merge_one = pd.merge(df_rec, df_depth_chart[[\"player_id\", \"season\", \"depth_team_mean\"]],\n",
    "                    on=[\"player_id\", \"season\"], how=\"left\")"
   ]
  },
  {
   "cell_type": "code",
   "execution_count": 37,
   "id": "c5cc589b",
   "metadata": {},
   "outputs": [],
   "source": [
    "df_merge_one.dropna(inplace=True)\n",
    "df_merge_one = df_merge_one.query(\"season >= 2016\")"
   ]
  },
  {
   "cell_type": "code",
   "execution_count": 44,
   "id": "842f79bf",
   "metadata": {},
   "outputs": [],
   "source": [
    "df_merge = pd.merge(df_merge_one, df_ngs_needed, on=[\"player_id\", \"season\"], how=\"left\")"
   ]
  },
  {
   "cell_type": "code",
   "execution_count": 46,
   "id": "e58132c8",
   "metadata": {},
   "outputs": [],
   "source": [
    "df_merge.dropna(inplace=True)"
   ]
  },
  {
   "cell_type": "code",
   "execution_count": 48,
   "id": "84bf2e15",
   "metadata": {},
   "outputs": [],
   "source": [
    "df_wr = df_merge.query(\"position == 'WR'\").copy()"
   ]
  },
  {
   "cell_type": "markdown",
   "id": "9bf149b0",
   "metadata": {},
   "source": [
    "# Create Lag Version of Data"
   ]
  },
  {
   "cell_type": "code",
   "execution_count": 49,
   "id": "c5ae9a43",
   "metadata": {},
   "outputs": [],
   "source": [
    "df_lag = create_lag_df(df_wr)"
   ]
  },
  {
   "cell_type": "markdown",
   "id": "8f3bdd9d",
   "metadata": {},
   "source": [
    "# Prepping Axes for Correlation Matrix"
   ]
  },
  {
   "cell_type": "code",
   "execution_count": 50,
   "id": "744e5d45",
   "metadata": {},
   "outputs": [
    {
     "name": "stdout",
     "output_type": "stream",
     "text": [
      "['player_id', 'season', 'season_type', 'receptions', 'targets', 'receiving_yards', 'receiving_tds', 'receiving_fumbles', 'receiving_fumbles_lost', 'receiving_air_yards', 'receiving_yards_after_catch', 'receiving_first_downs', 'receiving_epa', 'receiving_2pt_conversions', 'racr', 'target_share', 'air_yards_share', 'wopr_x', 'fantasy_points', 'fantasy_points_ppr', 'games', 'tgt_sh', 'ay_sh', 'yac_sh', 'wopr_y', 'ry_sh', 'rtd_sh', 'rfd_sh', 'rtdfd_sh', 'dom', 'w8dom', 'yptmpa', 'ppr_sh', 'age', 'position', 'player_name', 'depth_team_mean', 'avg_cushion_mean', 'avg_separation_mean', 'avg_intended_air_yards_mean', 'percent_share_of_intended_air_yards_mean', 'catch_percentage_mean', 'avg_yac_mean', 'avg_expected_yac_mean', 'avg_yac_above_expectation_mean']\n"
     ]
    }
   ],
   "source": [
    "print([col for col in list(df_lag.columns) if \"last\" not in col])"
   ]
  },
  {
   "cell_type": "code",
   "execution_count": 63,
   "id": "7f24da6b",
   "metadata": {},
   "outputs": [],
   "source": [
    "df_search = df_lag.copy()"
   ]
  },
  {
   "cell_type": "code",
   "execution_count": 64,
   "id": "fecd2ed8",
   "metadata": {},
   "outputs": [],
   "source": [
    "# query = \"\"\n",
    "query = \"games >= 10 and games_last >= 10 and \\\n",
    "    depth_team_mean <= 2 and depth_team_mean_last <= 2\"\n",
    "if query:\n",
    "    df_search = df_search.query(query)"
   ]
  },
  {
   "cell_type": "code",
   "execution_count": 65,
   "id": "50f79ff7",
   "metadata": {},
   "outputs": [],
   "source": [
    "numeric_cols = df_search.select_dtypes(include=[np.number]).columns"
   ]
  },
  {
   "cell_type": "code",
   "execution_count": 79,
   "id": "124bf2fe",
   "metadata": {},
   "outputs": [
    {
     "name": "stderr",
     "output_type": "stream",
     "text": [
      "/var/folders/yx/gjm2fjs56vl5kkwrb6xf5d2h0000gn/T/ipykernel_15763/2982415938.py:12: FutureWarning:\n",
      "\n",
      "The behavior of DataFrame concatenation with empty or all-NA entries is deprecated. In a future version, this will no longer exclude empty or all-NA columns when determining the result dtypes. To retain the old behavior, exclude the relevant entries before the concat operation.\n",
      "\n"
     ]
    }
   ],
   "source": [
    "df_corr = pd.DataFrame(columns=[\"Stat\", \"Correlation-Fantasy-Points\", \"Correlation-Self\"])\n",
    "for col in list(df_search.columns)[3:]:\n",
    "    if \"last\" not in col and col in numeric_cols and \"fantasy\" not in col:\n",
    "        temp_corr_mat_fp = df_search[[col, \"fantasy_points\"]].corr()\n",
    "        corr_value_fp = temp_corr_mat_fp[col].iloc[1]\n",
    "        \n",
    "        temp_corr_mat_self = df_search[[col, f\"{col}_last\"]].corr()\n",
    "        corr_value_self = temp_corr_mat_self[col].iloc[1]\n",
    "        \n",
    "        row = (col, corr_value_fp, corr_value_self)\n",
    "        row_df = pd.DataFrame([row], columns=df_corr.columns)\n",
    "        df_corr = pd.concat([df_corr, row_df], ignore_index=True)"
   ]
  },
  {
   "cell_type": "code",
   "execution_count": 84,
   "id": "e8972405",
   "metadata": {},
   "outputs": [
    {
     "data": {
      "application/vnd.plotly.v1+json": {
       "config": {
        "plotlyServerURL": "https://plot.ly"
       },
       "data": [
        {
         "alignmentgroup": "True",
         "hovertemplate": "variable=Correlation-Fantasy-Points<br>Stat=%{x}<br>value=%{y}<extra></extra>",
         "legendgroup": "Correlation-Fantasy-Points",
         "marker": {
          "color": "#636efa",
          "pattern": {
           "shape": ""
          }
         },
         "name": "Correlation-Fantasy-Points",
         "offsetgroup": "Correlation-Fantasy-Points",
         "orientation": "v",
         "showlegend": true,
         "textposition": "auto",
         "type": "bar",
         "x": [
          "age",
          "tgt_sh",
          "wopr_y",
          "ay_sh",
          "wopr_x",
          "target_share",
          "air_yards_share",
          "rfd_sh",
          "receiving_air_yards",
          "yptmpa",
          "rtdfd_sh",
          "ppr_sh",
          "ry_sh",
          "receiving_first_downs",
          "receptions",
          "targets",
          "w8dom",
          "receiving_yards",
          "percent_share_of_intended_air_yards_mean",
          "avg_intended_air_yards_mean",
          "receiving_yards_after_catch",
          "yac_sh",
          "dom",
          "avg_cushion_mean",
          "receiving_tds",
          "depth_team_mean",
          "receiving_epa",
          "avg_separation_mean",
          "rtd_sh",
          "catch_percentage_mean",
          "racr",
          "avg_expected_yac_mean",
          "games",
          "avg_yac_mean",
          "avg_yac_above_expectation_mean",
          "receiving_2pt_conversions",
          "receiving_fumbles_lost",
          "receiving_fumbles"
         ],
         "xaxis": "x",
         "y": [
          -0.0850110431465769,
          0.8168430209575617,
          0.8155733114777876,
          0.7314500606678513,
          0.8601486074952331,
          0.8622315072245439,
          0.7912151214508403,
          0.8251342109022992,
          0.8431898708450288,
          0.9023895484489164,
          0.8404795185365513,
          0.890528960414112,
          0.8661538553564112,
          0.9324852188544455,
          0.8850859544548388,
          0.8900489186007593,
          0.8773186179145773,
          0.9637522342583311,
          0.5614204688547609,
          0.14698172269392074,
          0.8065818815562241,
          0.7291120510974195,
          0.8316896671171053,
          -0.25644619314906597,
          0.8662744631556916,
          -0.3683078583527765,
          0.7932650668936495,
          -0.07259753984109844,
          0.6894688576763558,
          0.19316934368502348,
          0.14320271110028704,
          0.0450038044106105,
          0.5266680532116167,
          0.16362612304694746,
          0.20807259875713663,
          0.15708981878542794,
          0.15700452709929305,
          0.1681241381566517
         ],
         "yaxis": "y"
        },
        {
         "alignmentgroup": "True",
         "hovertemplate": "variable=Correlation-Self<br>Stat=%{x}<br>value=%{y}<extra></extra>",
         "legendgroup": "Correlation-Self",
         "marker": {
          "color": "#EF553B",
          "pattern": {
           "shape": ""
          }
         },
         "name": "Correlation-Self",
         "offsetgroup": "Correlation-Self",
         "orientation": "v",
         "showlegend": true,
         "textposition": "auto",
         "type": "bar",
         "x": [
          "age",
          "tgt_sh",
          "wopr_y",
          "ay_sh",
          "wopr_x",
          "target_share",
          "air_yards_share",
          "rfd_sh",
          "receiving_air_yards",
          "yptmpa",
          "rtdfd_sh",
          "ppr_sh",
          "ry_sh",
          "receiving_first_downs",
          "receptions",
          "targets",
          "w8dom",
          "receiving_yards",
          "percent_share_of_intended_air_yards_mean",
          "avg_intended_air_yards_mean",
          "receiving_yards_after_catch",
          "yac_sh",
          "dom",
          "avg_cushion_mean",
          "receiving_tds",
          "depth_team_mean",
          "receiving_epa",
          "avg_separation_mean",
          "rtd_sh",
          "catch_percentage_mean",
          "racr",
          "avg_expected_yac_mean",
          "games",
          "avg_yac_mean",
          "avg_yac_above_expectation_mean",
          "receiving_2pt_conversions",
          "receiving_fumbles_lost",
          "receiving_fumbles"
         ],
         "xaxis": "x",
         "y": [
          1,
          0.7256849406007971,
          0.7252887333289864,
          0.7081008731598765,
          0.6529659856958788,
          0.6520057090600898,
          0.648155662167727,
          0.646721485279357,
          0.6464754147526974,
          0.646471138713482,
          0.6387024837174055,
          0.6366002100299575,
          0.6328425021563372,
          0.6276063536416914,
          0.6272954299299728,
          0.6220631241104747,
          0.6131559398368267,
          0.6052927320730959,
          0.5974499368083651,
          0.5829033505244238,
          0.5641492759368516,
          0.5545296887458004,
          0.5128434234909841,
          0.44984173453823034,
          0.4361758954543656,
          0.42980038114534513,
          0.3930878491931663,
          0.3913578499603341,
          0.3277186391425975,
          0.32268531149886664,
          0.2042964757337168,
          0.20081120445251643,
          0.19531163956675696,
          0.1741014391149862,
          0.15428899902988774,
          -0.00961964371086749,
          -0.016074331797318795,
          -0.0448302129620497
         ],
         "yaxis": "y"
        }
       ],
       "layout": {
        "barmode": "group",
        "legend": {
         "title": {
          "text": "Correlation Type"
         },
         "tracegroupgap": 0
        },
        "margin": {
         "t": 60
        },
        "template": {
         "data": {
          "bar": [
           {
            "error_x": {
             "color": "#2a3f5f"
            },
            "error_y": {
             "color": "#2a3f5f"
            },
            "marker": {
             "line": {
              "color": "#E5ECF6",
              "width": 0.5
             },
             "pattern": {
              "fillmode": "overlay",
              "size": 10,
              "solidity": 0.2
             }
            },
            "type": "bar"
           }
          ],
          "barpolar": [
           {
            "marker": {
             "line": {
              "color": "#E5ECF6",
              "width": 0.5
             },
             "pattern": {
              "fillmode": "overlay",
              "size": 10,
              "solidity": 0.2
             }
            },
            "type": "barpolar"
           }
          ],
          "carpet": [
           {
            "aaxis": {
             "endlinecolor": "#2a3f5f",
             "gridcolor": "white",
             "linecolor": "white",
             "minorgridcolor": "white",
             "startlinecolor": "#2a3f5f"
            },
            "baxis": {
             "endlinecolor": "#2a3f5f",
             "gridcolor": "white",
             "linecolor": "white",
             "minorgridcolor": "white",
             "startlinecolor": "#2a3f5f"
            },
            "type": "carpet"
           }
          ],
          "choropleth": [
           {
            "colorbar": {
             "outlinewidth": 0,
             "ticks": ""
            },
            "type": "choropleth"
           }
          ],
          "contour": [
           {
            "colorbar": {
             "outlinewidth": 0,
             "ticks": ""
            },
            "colorscale": [
             [
              0,
              "#0d0887"
             ],
             [
              0.1111111111111111,
              "#46039f"
             ],
             [
              0.2222222222222222,
              "#7201a8"
             ],
             [
              0.3333333333333333,
              "#9c179e"
             ],
             [
              0.4444444444444444,
              "#bd3786"
             ],
             [
              0.5555555555555556,
              "#d8576b"
             ],
             [
              0.6666666666666666,
              "#ed7953"
             ],
             [
              0.7777777777777778,
              "#fb9f3a"
             ],
             [
              0.8888888888888888,
              "#fdca26"
             ],
             [
              1,
              "#f0f921"
             ]
            ],
            "type": "contour"
           }
          ],
          "contourcarpet": [
           {
            "colorbar": {
             "outlinewidth": 0,
             "ticks": ""
            },
            "type": "contourcarpet"
           }
          ],
          "heatmap": [
           {
            "colorbar": {
             "outlinewidth": 0,
             "ticks": ""
            },
            "colorscale": [
             [
              0,
              "#0d0887"
             ],
             [
              0.1111111111111111,
              "#46039f"
             ],
             [
              0.2222222222222222,
              "#7201a8"
             ],
             [
              0.3333333333333333,
              "#9c179e"
             ],
             [
              0.4444444444444444,
              "#bd3786"
             ],
             [
              0.5555555555555556,
              "#d8576b"
             ],
             [
              0.6666666666666666,
              "#ed7953"
             ],
             [
              0.7777777777777778,
              "#fb9f3a"
             ],
             [
              0.8888888888888888,
              "#fdca26"
             ],
             [
              1,
              "#f0f921"
             ]
            ],
            "type": "heatmap"
           }
          ],
          "heatmapgl": [
           {
            "colorbar": {
             "outlinewidth": 0,
             "ticks": ""
            },
            "colorscale": [
             [
              0,
              "#0d0887"
             ],
             [
              0.1111111111111111,
              "#46039f"
             ],
             [
              0.2222222222222222,
              "#7201a8"
             ],
             [
              0.3333333333333333,
              "#9c179e"
             ],
             [
              0.4444444444444444,
              "#bd3786"
             ],
             [
              0.5555555555555556,
              "#d8576b"
             ],
             [
              0.6666666666666666,
              "#ed7953"
             ],
             [
              0.7777777777777778,
              "#fb9f3a"
             ],
             [
              0.8888888888888888,
              "#fdca26"
             ],
             [
              1,
              "#f0f921"
             ]
            ],
            "type": "heatmapgl"
           }
          ],
          "histogram": [
           {
            "marker": {
             "pattern": {
              "fillmode": "overlay",
              "size": 10,
              "solidity": 0.2
             }
            },
            "type": "histogram"
           }
          ],
          "histogram2d": [
           {
            "colorbar": {
             "outlinewidth": 0,
             "ticks": ""
            },
            "colorscale": [
             [
              0,
              "#0d0887"
             ],
             [
              0.1111111111111111,
              "#46039f"
             ],
             [
              0.2222222222222222,
              "#7201a8"
             ],
             [
              0.3333333333333333,
              "#9c179e"
             ],
             [
              0.4444444444444444,
              "#bd3786"
             ],
             [
              0.5555555555555556,
              "#d8576b"
             ],
             [
              0.6666666666666666,
              "#ed7953"
             ],
             [
              0.7777777777777778,
              "#fb9f3a"
             ],
             [
              0.8888888888888888,
              "#fdca26"
             ],
             [
              1,
              "#f0f921"
             ]
            ],
            "type": "histogram2d"
           }
          ],
          "histogram2dcontour": [
           {
            "colorbar": {
             "outlinewidth": 0,
             "ticks": ""
            },
            "colorscale": [
             [
              0,
              "#0d0887"
             ],
             [
              0.1111111111111111,
              "#46039f"
             ],
             [
              0.2222222222222222,
              "#7201a8"
             ],
             [
              0.3333333333333333,
              "#9c179e"
             ],
             [
              0.4444444444444444,
              "#bd3786"
             ],
             [
              0.5555555555555556,
              "#d8576b"
             ],
             [
              0.6666666666666666,
              "#ed7953"
             ],
             [
              0.7777777777777778,
              "#fb9f3a"
             ],
             [
              0.8888888888888888,
              "#fdca26"
             ],
             [
              1,
              "#f0f921"
             ]
            ],
            "type": "histogram2dcontour"
           }
          ],
          "mesh3d": [
           {
            "colorbar": {
             "outlinewidth": 0,
             "ticks": ""
            },
            "type": "mesh3d"
           }
          ],
          "parcoords": [
           {
            "line": {
             "colorbar": {
              "outlinewidth": 0,
              "ticks": ""
             }
            },
            "type": "parcoords"
           }
          ],
          "pie": [
           {
            "automargin": true,
            "type": "pie"
           }
          ],
          "scatter": [
           {
            "fillpattern": {
             "fillmode": "overlay",
             "size": 10,
             "solidity": 0.2
            },
            "type": "scatter"
           }
          ],
          "scatter3d": [
           {
            "line": {
             "colorbar": {
              "outlinewidth": 0,
              "ticks": ""
             }
            },
            "marker": {
             "colorbar": {
              "outlinewidth": 0,
              "ticks": ""
             }
            },
            "type": "scatter3d"
           }
          ],
          "scattercarpet": [
           {
            "marker": {
             "colorbar": {
              "outlinewidth": 0,
              "ticks": ""
             }
            },
            "type": "scattercarpet"
           }
          ],
          "scattergeo": [
           {
            "marker": {
             "colorbar": {
              "outlinewidth": 0,
              "ticks": ""
             }
            },
            "type": "scattergeo"
           }
          ],
          "scattergl": [
           {
            "marker": {
             "colorbar": {
              "outlinewidth": 0,
              "ticks": ""
             }
            },
            "type": "scattergl"
           }
          ],
          "scattermapbox": [
           {
            "marker": {
             "colorbar": {
              "outlinewidth": 0,
              "ticks": ""
             }
            },
            "type": "scattermapbox"
           }
          ],
          "scatterpolar": [
           {
            "marker": {
             "colorbar": {
              "outlinewidth": 0,
              "ticks": ""
             }
            },
            "type": "scatterpolar"
           }
          ],
          "scatterpolargl": [
           {
            "marker": {
             "colorbar": {
              "outlinewidth": 0,
              "ticks": ""
             }
            },
            "type": "scatterpolargl"
           }
          ],
          "scatterternary": [
           {
            "marker": {
             "colorbar": {
              "outlinewidth": 0,
              "ticks": ""
             }
            },
            "type": "scatterternary"
           }
          ],
          "surface": [
           {
            "colorbar": {
             "outlinewidth": 0,
             "ticks": ""
            },
            "colorscale": [
             [
              0,
              "#0d0887"
             ],
             [
              0.1111111111111111,
              "#46039f"
             ],
             [
              0.2222222222222222,
              "#7201a8"
             ],
             [
              0.3333333333333333,
              "#9c179e"
             ],
             [
              0.4444444444444444,
              "#bd3786"
             ],
             [
              0.5555555555555556,
              "#d8576b"
             ],
             [
              0.6666666666666666,
              "#ed7953"
             ],
             [
              0.7777777777777778,
              "#fb9f3a"
             ],
             [
              0.8888888888888888,
              "#fdca26"
             ],
             [
              1,
              "#f0f921"
             ]
            ],
            "type": "surface"
           }
          ],
          "table": [
           {
            "cells": {
             "fill": {
              "color": "#EBF0F8"
             },
             "line": {
              "color": "white"
             }
            },
            "header": {
             "fill": {
              "color": "#C8D4E3"
             },
             "line": {
              "color": "white"
             }
            },
            "type": "table"
           }
          ]
         },
         "layout": {
          "annotationdefaults": {
           "arrowcolor": "#2a3f5f",
           "arrowhead": 0,
           "arrowwidth": 1
          },
          "autotypenumbers": "strict",
          "coloraxis": {
           "colorbar": {
            "outlinewidth": 0,
            "ticks": ""
           }
          },
          "colorscale": {
           "diverging": [
            [
             0,
             "#8e0152"
            ],
            [
             0.1,
             "#c51b7d"
            ],
            [
             0.2,
             "#de77ae"
            ],
            [
             0.3,
             "#f1b6da"
            ],
            [
             0.4,
             "#fde0ef"
            ],
            [
             0.5,
             "#f7f7f7"
            ],
            [
             0.6,
             "#e6f5d0"
            ],
            [
             0.7,
             "#b8e186"
            ],
            [
             0.8,
             "#7fbc41"
            ],
            [
             0.9,
             "#4d9221"
            ],
            [
             1,
             "#276419"
            ]
           ],
           "sequential": [
            [
             0,
             "#0d0887"
            ],
            [
             0.1111111111111111,
             "#46039f"
            ],
            [
             0.2222222222222222,
             "#7201a8"
            ],
            [
             0.3333333333333333,
             "#9c179e"
            ],
            [
             0.4444444444444444,
             "#bd3786"
            ],
            [
             0.5555555555555556,
             "#d8576b"
            ],
            [
             0.6666666666666666,
             "#ed7953"
            ],
            [
             0.7777777777777778,
             "#fb9f3a"
            ],
            [
             0.8888888888888888,
             "#fdca26"
            ],
            [
             1,
             "#f0f921"
            ]
           ],
           "sequentialminus": [
            [
             0,
             "#0d0887"
            ],
            [
             0.1111111111111111,
             "#46039f"
            ],
            [
             0.2222222222222222,
             "#7201a8"
            ],
            [
             0.3333333333333333,
             "#9c179e"
            ],
            [
             0.4444444444444444,
             "#bd3786"
            ],
            [
             0.5555555555555556,
             "#d8576b"
            ],
            [
             0.6666666666666666,
             "#ed7953"
            ],
            [
             0.7777777777777778,
             "#fb9f3a"
            ],
            [
             0.8888888888888888,
             "#fdca26"
            ],
            [
             1,
             "#f0f921"
            ]
           ]
          },
          "colorway": [
           "#636efa",
           "#EF553B",
           "#00cc96",
           "#ab63fa",
           "#FFA15A",
           "#19d3f3",
           "#FF6692",
           "#B6E880",
           "#FF97FF",
           "#FECB52"
          ],
          "font": {
           "color": "#2a3f5f"
          },
          "geo": {
           "bgcolor": "white",
           "lakecolor": "white",
           "landcolor": "#E5ECF6",
           "showlakes": true,
           "showland": true,
           "subunitcolor": "white"
          },
          "hoverlabel": {
           "align": "left"
          },
          "hovermode": "closest",
          "mapbox": {
           "style": "light"
          },
          "paper_bgcolor": "white",
          "plot_bgcolor": "#E5ECF6",
          "polar": {
           "angularaxis": {
            "gridcolor": "white",
            "linecolor": "white",
            "ticks": ""
           },
           "bgcolor": "#E5ECF6",
           "radialaxis": {
            "gridcolor": "white",
            "linecolor": "white",
            "ticks": ""
           }
          },
          "scene": {
           "xaxis": {
            "backgroundcolor": "#E5ECF6",
            "gridcolor": "white",
            "gridwidth": 2,
            "linecolor": "white",
            "showbackground": true,
            "ticks": "",
            "zerolinecolor": "white"
           },
           "yaxis": {
            "backgroundcolor": "#E5ECF6",
            "gridcolor": "white",
            "gridwidth": 2,
            "linecolor": "white",
            "showbackground": true,
            "ticks": "",
            "zerolinecolor": "white"
           },
           "zaxis": {
            "backgroundcolor": "#E5ECF6",
            "gridcolor": "white",
            "gridwidth": 2,
            "linecolor": "white",
            "showbackground": true,
            "ticks": "",
            "zerolinecolor": "white"
           }
          },
          "shapedefaults": {
           "line": {
            "color": "#2a3f5f"
           }
          },
          "ternary": {
           "aaxis": {
            "gridcolor": "white",
            "linecolor": "white",
            "ticks": ""
           },
           "baxis": {
            "gridcolor": "white",
            "linecolor": "white",
            "ticks": ""
           },
           "bgcolor": "#E5ECF6",
           "caxis": {
            "gridcolor": "white",
            "linecolor": "white",
            "ticks": ""
           }
          },
          "title": {
           "x": 0.05
          },
          "xaxis": {
           "automargin": true,
           "gridcolor": "white",
           "linecolor": "white",
           "ticks": "",
           "title": {
            "standoff": 15
           },
           "zerolinecolor": "white",
           "zerolinewidth": 2
          },
          "yaxis": {
           "automargin": true,
           "gridcolor": "white",
           "linecolor": "white",
           "ticks": "",
           "title": {
            "standoff": 15
           },
           "zerolinecolor": "white",
           "zerolinewidth": 2
          }
         }
        },
        "title": {
         "text": "Stat Correlation with Itself and Fantasy Points (Advanced Stats)"
        },
        "xaxis": {
         "anchor": "y",
         "domain": [
          0,
          1
         ],
         "title": {
          "text": "Stat"
         }
        },
        "yaxis": {
         "anchor": "x",
         "domain": [
          0,
          1
         ],
         "title": {
          "text": "Correlation Value"
         }
        }
       }
      },
      "text/html": [
       "<div>                            <div id=\"32585bca-95f1-4177-a36f-6afe81aa0df4\" class=\"plotly-graph-div\" style=\"height:525px; width:100%;\"></div>            <script type=\"text/javascript\">                require([\"plotly\"], function(Plotly) {                    window.PLOTLYENV=window.PLOTLYENV || {};                                    if (document.getElementById(\"32585bca-95f1-4177-a36f-6afe81aa0df4\")) {                    Plotly.newPlot(                        \"32585bca-95f1-4177-a36f-6afe81aa0df4\",                        [{\"alignmentgroup\":\"True\",\"hovertemplate\":\"variable=Correlation-Fantasy-Points\\u003cbr\\u003eStat=%{x}\\u003cbr\\u003evalue=%{y}\\u003cextra\\u003e\\u003c\\u002fextra\\u003e\",\"legendgroup\":\"Correlation-Fantasy-Points\",\"marker\":{\"color\":\"#636efa\",\"pattern\":{\"shape\":\"\"}},\"name\":\"Correlation-Fantasy-Points\",\"offsetgroup\":\"Correlation-Fantasy-Points\",\"orientation\":\"v\",\"showlegend\":true,\"textposition\":\"auto\",\"x\":[\"age\",\"tgt_sh\",\"wopr_y\",\"ay_sh\",\"wopr_x\",\"target_share\",\"air_yards_share\",\"rfd_sh\",\"receiving_air_yards\",\"yptmpa\",\"rtdfd_sh\",\"ppr_sh\",\"ry_sh\",\"receiving_first_downs\",\"receptions\",\"targets\",\"w8dom\",\"receiving_yards\",\"percent_share_of_intended_air_yards_mean\",\"avg_intended_air_yards_mean\",\"receiving_yards_after_catch\",\"yac_sh\",\"dom\",\"avg_cushion_mean\",\"receiving_tds\",\"depth_team_mean\",\"receiving_epa\",\"avg_separation_mean\",\"rtd_sh\",\"catch_percentage_mean\",\"racr\",\"avg_expected_yac_mean\",\"games\",\"avg_yac_mean\",\"avg_yac_above_expectation_mean\",\"receiving_2pt_conversions\",\"receiving_fumbles_lost\",\"receiving_fumbles\"],\"xaxis\":\"x\",\"y\":[-0.0850110431465769,0.8168430209575617,0.8155733114777876,0.7314500606678513,0.8601486074952331,0.8622315072245439,0.7912151214508403,0.8251342109022992,0.8431898708450288,0.9023895484489164,0.8404795185365513,0.890528960414112,0.8661538553564112,0.9324852188544455,0.8850859544548388,0.8900489186007593,0.8773186179145773,0.9637522342583311,0.5614204688547609,0.14698172269392074,0.8065818815562241,0.7291120510974195,0.8316896671171053,-0.25644619314906597,0.8662744631556916,-0.3683078583527765,0.7932650668936495,-0.07259753984109844,0.6894688576763558,0.19316934368502348,0.14320271110028704,0.0450038044106105,0.5266680532116167,0.16362612304694746,0.20807259875713663,0.15708981878542794,0.15700452709929305,0.1681241381566517],\"yaxis\":\"y\",\"type\":\"bar\"},{\"alignmentgroup\":\"True\",\"hovertemplate\":\"variable=Correlation-Self\\u003cbr\\u003eStat=%{x}\\u003cbr\\u003evalue=%{y}\\u003cextra\\u003e\\u003c\\u002fextra\\u003e\",\"legendgroup\":\"Correlation-Self\",\"marker\":{\"color\":\"#EF553B\",\"pattern\":{\"shape\":\"\"}},\"name\":\"Correlation-Self\",\"offsetgroup\":\"Correlation-Self\",\"orientation\":\"v\",\"showlegend\":true,\"textposition\":\"auto\",\"x\":[\"age\",\"tgt_sh\",\"wopr_y\",\"ay_sh\",\"wopr_x\",\"target_share\",\"air_yards_share\",\"rfd_sh\",\"receiving_air_yards\",\"yptmpa\",\"rtdfd_sh\",\"ppr_sh\",\"ry_sh\",\"receiving_first_downs\",\"receptions\",\"targets\",\"w8dom\",\"receiving_yards\",\"percent_share_of_intended_air_yards_mean\",\"avg_intended_air_yards_mean\",\"receiving_yards_after_catch\",\"yac_sh\",\"dom\",\"avg_cushion_mean\",\"receiving_tds\",\"depth_team_mean\",\"receiving_epa\",\"avg_separation_mean\",\"rtd_sh\",\"catch_percentage_mean\",\"racr\",\"avg_expected_yac_mean\",\"games\",\"avg_yac_mean\",\"avg_yac_above_expectation_mean\",\"receiving_2pt_conversions\",\"receiving_fumbles_lost\",\"receiving_fumbles\"],\"xaxis\":\"x\",\"y\":[1.0,0.7256849406007971,0.7252887333289864,0.7081008731598765,0.6529659856958788,0.6520057090600898,0.648155662167727,0.646721485279357,0.6464754147526974,0.646471138713482,0.6387024837174055,0.6366002100299575,0.6328425021563372,0.6276063536416914,0.6272954299299728,0.6220631241104747,0.6131559398368267,0.6052927320730959,0.5974499368083651,0.5829033505244238,0.5641492759368516,0.5545296887458004,0.5128434234909841,0.44984173453823034,0.4361758954543656,0.42980038114534513,0.3930878491931663,0.3913578499603341,0.3277186391425975,0.32268531149886664,0.2042964757337168,0.20081120445251643,0.19531163956675696,0.1741014391149862,0.15428899902988774,-0.00961964371086749,-0.016074331797318795,-0.0448302129620497],\"yaxis\":\"y\",\"type\":\"bar\"}],                        {\"template\":{\"data\":{\"histogram2dcontour\":[{\"type\":\"histogram2dcontour\",\"colorbar\":{\"outlinewidth\":0,\"ticks\":\"\"},\"colorscale\":[[0.0,\"#0d0887\"],[0.1111111111111111,\"#46039f\"],[0.2222222222222222,\"#7201a8\"],[0.3333333333333333,\"#9c179e\"],[0.4444444444444444,\"#bd3786\"],[0.5555555555555556,\"#d8576b\"],[0.6666666666666666,\"#ed7953\"],[0.7777777777777778,\"#fb9f3a\"],[0.8888888888888888,\"#fdca26\"],[1.0,\"#f0f921\"]]}],\"choropleth\":[{\"type\":\"choropleth\",\"colorbar\":{\"outlinewidth\":0,\"ticks\":\"\"}}],\"histogram2d\":[{\"type\":\"histogram2d\",\"colorbar\":{\"outlinewidth\":0,\"ticks\":\"\"},\"colorscale\":[[0.0,\"#0d0887\"],[0.1111111111111111,\"#46039f\"],[0.2222222222222222,\"#7201a8\"],[0.3333333333333333,\"#9c179e\"],[0.4444444444444444,\"#bd3786\"],[0.5555555555555556,\"#d8576b\"],[0.6666666666666666,\"#ed7953\"],[0.7777777777777778,\"#fb9f3a\"],[0.8888888888888888,\"#fdca26\"],[1.0,\"#f0f921\"]]}],\"heatmap\":[{\"type\":\"heatmap\",\"colorbar\":{\"outlinewidth\":0,\"ticks\":\"\"},\"colorscale\":[[0.0,\"#0d0887\"],[0.1111111111111111,\"#46039f\"],[0.2222222222222222,\"#7201a8\"],[0.3333333333333333,\"#9c179e\"],[0.4444444444444444,\"#bd3786\"],[0.5555555555555556,\"#d8576b\"],[0.6666666666666666,\"#ed7953\"],[0.7777777777777778,\"#fb9f3a\"],[0.8888888888888888,\"#fdca26\"],[1.0,\"#f0f921\"]]}],\"heatmapgl\":[{\"type\":\"heatmapgl\",\"colorbar\":{\"outlinewidth\":0,\"ticks\":\"\"},\"colorscale\":[[0.0,\"#0d0887\"],[0.1111111111111111,\"#46039f\"],[0.2222222222222222,\"#7201a8\"],[0.3333333333333333,\"#9c179e\"],[0.4444444444444444,\"#bd3786\"],[0.5555555555555556,\"#d8576b\"],[0.6666666666666666,\"#ed7953\"],[0.7777777777777778,\"#fb9f3a\"],[0.8888888888888888,\"#fdca26\"],[1.0,\"#f0f921\"]]}],\"contourcarpet\":[{\"type\":\"contourcarpet\",\"colorbar\":{\"outlinewidth\":0,\"ticks\":\"\"}}],\"contour\":[{\"type\":\"contour\",\"colorbar\":{\"outlinewidth\":0,\"ticks\":\"\"},\"colorscale\":[[0.0,\"#0d0887\"],[0.1111111111111111,\"#46039f\"],[0.2222222222222222,\"#7201a8\"],[0.3333333333333333,\"#9c179e\"],[0.4444444444444444,\"#bd3786\"],[0.5555555555555556,\"#d8576b\"],[0.6666666666666666,\"#ed7953\"],[0.7777777777777778,\"#fb9f3a\"],[0.8888888888888888,\"#fdca26\"],[1.0,\"#f0f921\"]]}],\"surface\":[{\"type\":\"surface\",\"colorbar\":{\"outlinewidth\":0,\"ticks\":\"\"},\"colorscale\":[[0.0,\"#0d0887\"],[0.1111111111111111,\"#46039f\"],[0.2222222222222222,\"#7201a8\"],[0.3333333333333333,\"#9c179e\"],[0.4444444444444444,\"#bd3786\"],[0.5555555555555556,\"#d8576b\"],[0.6666666666666666,\"#ed7953\"],[0.7777777777777778,\"#fb9f3a\"],[0.8888888888888888,\"#fdca26\"],[1.0,\"#f0f921\"]]}],\"mesh3d\":[{\"type\":\"mesh3d\",\"colorbar\":{\"outlinewidth\":0,\"ticks\":\"\"}}],\"scatter\":[{\"fillpattern\":{\"fillmode\":\"overlay\",\"size\":10,\"solidity\":0.2},\"type\":\"scatter\"}],\"parcoords\":[{\"type\":\"parcoords\",\"line\":{\"colorbar\":{\"outlinewidth\":0,\"ticks\":\"\"}}}],\"scatterpolargl\":[{\"type\":\"scatterpolargl\",\"marker\":{\"colorbar\":{\"outlinewidth\":0,\"ticks\":\"\"}}}],\"bar\":[{\"error_x\":{\"color\":\"#2a3f5f\"},\"error_y\":{\"color\":\"#2a3f5f\"},\"marker\":{\"line\":{\"color\":\"#E5ECF6\",\"width\":0.5},\"pattern\":{\"fillmode\":\"overlay\",\"size\":10,\"solidity\":0.2}},\"type\":\"bar\"}],\"scattergeo\":[{\"type\":\"scattergeo\",\"marker\":{\"colorbar\":{\"outlinewidth\":0,\"ticks\":\"\"}}}],\"scatterpolar\":[{\"type\":\"scatterpolar\",\"marker\":{\"colorbar\":{\"outlinewidth\":0,\"ticks\":\"\"}}}],\"histogram\":[{\"marker\":{\"pattern\":{\"fillmode\":\"overlay\",\"size\":10,\"solidity\":0.2}},\"type\":\"histogram\"}],\"scattergl\":[{\"type\":\"scattergl\",\"marker\":{\"colorbar\":{\"outlinewidth\":0,\"ticks\":\"\"}}}],\"scatter3d\":[{\"type\":\"scatter3d\",\"line\":{\"colorbar\":{\"outlinewidth\":0,\"ticks\":\"\"}},\"marker\":{\"colorbar\":{\"outlinewidth\":0,\"ticks\":\"\"}}}],\"scattermapbox\":[{\"type\":\"scattermapbox\",\"marker\":{\"colorbar\":{\"outlinewidth\":0,\"ticks\":\"\"}}}],\"scatterternary\":[{\"type\":\"scatterternary\",\"marker\":{\"colorbar\":{\"outlinewidth\":0,\"ticks\":\"\"}}}],\"scattercarpet\":[{\"type\":\"scattercarpet\",\"marker\":{\"colorbar\":{\"outlinewidth\":0,\"ticks\":\"\"}}}],\"carpet\":[{\"aaxis\":{\"endlinecolor\":\"#2a3f5f\",\"gridcolor\":\"white\",\"linecolor\":\"white\",\"minorgridcolor\":\"white\",\"startlinecolor\":\"#2a3f5f\"},\"baxis\":{\"endlinecolor\":\"#2a3f5f\",\"gridcolor\":\"white\",\"linecolor\":\"white\",\"minorgridcolor\":\"white\",\"startlinecolor\":\"#2a3f5f\"},\"type\":\"carpet\"}],\"table\":[{\"cells\":{\"fill\":{\"color\":\"#EBF0F8\"},\"line\":{\"color\":\"white\"}},\"header\":{\"fill\":{\"color\":\"#C8D4E3\"},\"line\":{\"color\":\"white\"}},\"type\":\"table\"}],\"barpolar\":[{\"marker\":{\"line\":{\"color\":\"#E5ECF6\",\"width\":0.5},\"pattern\":{\"fillmode\":\"overlay\",\"size\":10,\"solidity\":0.2}},\"type\":\"barpolar\"}],\"pie\":[{\"automargin\":true,\"type\":\"pie\"}]},\"layout\":{\"autotypenumbers\":\"strict\",\"colorway\":[\"#636efa\",\"#EF553B\",\"#00cc96\",\"#ab63fa\",\"#FFA15A\",\"#19d3f3\",\"#FF6692\",\"#B6E880\",\"#FF97FF\",\"#FECB52\"],\"font\":{\"color\":\"#2a3f5f\"},\"hovermode\":\"closest\",\"hoverlabel\":{\"align\":\"left\"},\"paper_bgcolor\":\"white\",\"plot_bgcolor\":\"#E5ECF6\",\"polar\":{\"bgcolor\":\"#E5ECF6\",\"angularaxis\":{\"gridcolor\":\"white\",\"linecolor\":\"white\",\"ticks\":\"\"},\"radialaxis\":{\"gridcolor\":\"white\",\"linecolor\":\"white\",\"ticks\":\"\"}},\"ternary\":{\"bgcolor\":\"#E5ECF6\",\"aaxis\":{\"gridcolor\":\"white\",\"linecolor\":\"white\",\"ticks\":\"\"},\"baxis\":{\"gridcolor\":\"white\",\"linecolor\":\"white\",\"ticks\":\"\"},\"caxis\":{\"gridcolor\":\"white\",\"linecolor\":\"white\",\"ticks\":\"\"}},\"coloraxis\":{\"colorbar\":{\"outlinewidth\":0,\"ticks\":\"\"}},\"colorscale\":{\"sequential\":[[0.0,\"#0d0887\"],[0.1111111111111111,\"#46039f\"],[0.2222222222222222,\"#7201a8\"],[0.3333333333333333,\"#9c179e\"],[0.4444444444444444,\"#bd3786\"],[0.5555555555555556,\"#d8576b\"],[0.6666666666666666,\"#ed7953\"],[0.7777777777777778,\"#fb9f3a\"],[0.8888888888888888,\"#fdca26\"],[1.0,\"#f0f921\"]],\"sequentialminus\":[[0.0,\"#0d0887\"],[0.1111111111111111,\"#46039f\"],[0.2222222222222222,\"#7201a8\"],[0.3333333333333333,\"#9c179e\"],[0.4444444444444444,\"#bd3786\"],[0.5555555555555556,\"#d8576b\"],[0.6666666666666666,\"#ed7953\"],[0.7777777777777778,\"#fb9f3a\"],[0.8888888888888888,\"#fdca26\"],[1.0,\"#f0f921\"]],\"diverging\":[[0,\"#8e0152\"],[0.1,\"#c51b7d\"],[0.2,\"#de77ae\"],[0.3,\"#f1b6da\"],[0.4,\"#fde0ef\"],[0.5,\"#f7f7f7\"],[0.6,\"#e6f5d0\"],[0.7,\"#b8e186\"],[0.8,\"#7fbc41\"],[0.9,\"#4d9221\"],[1,\"#276419\"]]},\"xaxis\":{\"gridcolor\":\"white\",\"linecolor\":\"white\",\"ticks\":\"\",\"title\":{\"standoff\":15},\"zerolinecolor\":\"white\",\"automargin\":true,\"zerolinewidth\":2},\"yaxis\":{\"gridcolor\":\"white\",\"linecolor\":\"white\",\"ticks\":\"\",\"title\":{\"standoff\":15},\"zerolinecolor\":\"white\",\"automargin\":true,\"zerolinewidth\":2},\"scene\":{\"xaxis\":{\"backgroundcolor\":\"#E5ECF6\",\"gridcolor\":\"white\",\"linecolor\":\"white\",\"showbackground\":true,\"ticks\":\"\",\"zerolinecolor\":\"white\",\"gridwidth\":2},\"yaxis\":{\"backgroundcolor\":\"#E5ECF6\",\"gridcolor\":\"white\",\"linecolor\":\"white\",\"showbackground\":true,\"ticks\":\"\",\"zerolinecolor\":\"white\",\"gridwidth\":2},\"zaxis\":{\"backgroundcolor\":\"#E5ECF6\",\"gridcolor\":\"white\",\"linecolor\":\"white\",\"showbackground\":true,\"ticks\":\"\",\"zerolinecolor\":\"white\",\"gridwidth\":2}},\"shapedefaults\":{\"line\":{\"color\":\"#2a3f5f\"}},\"annotationdefaults\":{\"arrowcolor\":\"#2a3f5f\",\"arrowhead\":0,\"arrowwidth\":1},\"geo\":{\"bgcolor\":\"white\",\"landcolor\":\"#E5ECF6\",\"subunitcolor\":\"white\",\"showland\":true,\"showlakes\":true,\"lakecolor\":\"white\"},\"title\":{\"x\":0.05},\"mapbox\":{\"style\":\"light\"}}},\"xaxis\":{\"anchor\":\"y\",\"domain\":[0.0,1.0],\"title\":{\"text\":\"Stat\"}},\"yaxis\":{\"anchor\":\"x\",\"domain\":[0.0,1.0],\"title\":{\"text\":\"Correlation Value\"}},\"legend\":{\"title\":{\"text\":\"Correlation Type\"},\"tracegroupgap\":0},\"margin\":{\"t\":60},\"barmode\":\"group\",\"title\":{\"text\":\"Stat Correlation with Itself and Fantasy Points (Advanced Stats)\"}},                        {\"responsive\": true}                    ).then(function(){\n",
       "                            \n",
       "var gd = document.getElementById('32585bca-95f1-4177-a36f-6afe81aa0df4');\n",
       "var x = new MutationObserver(function (mutations, observer) {{\n",
       "        var display = window.getComputedStyle(gd).display;\n",
       "        if (!display || display === 'none') {{\n",
       "            console.log([gd, 'removed!']);\n",
       "            Plotly.purge(gd);\n",
       "            observer.disconnect();\n",
       "        }}\n",
       "}});\n",
       "\n",
       "// Listen for the removal of the full notebook cells\n",
       "var notebookContainer = gd.closest('#notebook-container');\n",
       "if (notebookContainer) {{\n",
       "    x.observe(notebookContainer, {childList: true});\n",
       "}}\n",
       "\n",
       "// Listen for the clearing of the current output cell\n",
       "var outputEl = gd.closest('.output');\n",
       "if (outputEl) {{\n",
       "    x.observe(outputEl, {childList: true});\n",
       "}}\n",
       "\n",
       "                        })                };                });            </script>        </div>"
      ]
     },
     "metadata": {},
     "output_type": "display_data"
    }
   ],
   "source": [
    "fig = px.bar(df_corr.sort_values(by=\"Correlation-Self\", ascending=False), x=\"Stat\",\n",
    "             y=[\"Correlation-Fantasy-Points\", \"Correlation-Self\"],\n",
    "                barmode='group')\n",
    "# Update layout\n",
    "fig.update_layout(\n",
    "    title='Stat Correlation with Itself and Fantasy Points (Advanced Stats)',\n",
    "    xaxis_title='Stat',\n",
    "    yaxis_title='Correlation Value',\n",
    "    legend_title='Correlation Type'\n",
    ")\n",
    "\n",
    "fig.write_html(\"../../interactive/WR/stability/season/correlation-bar-advanced-stats.html\")\n",
    "\n",
    "fig.show()"
   ]
  },
  {
   "cell_type": "code",
   "execution_count": 85,
   "id": "5b922e7e",
   "metadata": {},
   "outputs": [],
   "source": [
    "df_high_corrs = df_corr[(df_corr[\"Correlation-Fantasy-Points\"] >= 0.5) & (df_corr[\"Correlation-Self\"] >= 0.5)] \\\n",
    "                .sort_values(by=\"Correlation-Self\", ascending=False)"
   ]
  },
  {
   "cell_type": "code",
   "execution_count": 86,
   "id": "cd12f1ea",
   "metadata": {
    "scrolled": false
   },
   "outputs": [
    {
     "data": {
      "application/vnd.plotly.v1+json": {
       "config": {
        "plotlyServerURL": "https://plot.ly"
       },
       "data": [
        {
         "alignmentgroup": "True",
         "hovertemplate": "variable=Correlation-Fantasy-Points<br>Stat=%{x}<br>value=%{y}<extra></extra>",
         "legendgroup": "Correlation-Fantasy-Points",
         "marker": {
          "color": "#636efa",
          "pattern": {
           "shape": ""
          }
         },
         "name": "Correlation-Fantasy-Points",
         "offsetgroup": "Correlation-Fantasy-Points",
         "orientation": "v",
         "showlegend": true,
         "textposition": "auto",
         "type": "bar",
         "x": [
          "tgt_sh",
          "wopr_y",
          "ay_sh",
          "wopr_x",
          "target_share",
          "air_yards_share",
          "rfd_sh",
          "receiving_air_yards",
          "yptmpa",
          "rtdfd_sh",
          "ppr_sh",
          "ry_sh",
          "receiving_first_downs",
          "receptions",
          "targets",
          "w8dom",
          "receiving_yards",
          "percent_share_of_intended_air_yards_mean",
          "receiving_yards_after_catch",
          "yac_sh",
          "dom"
         ],
         "xaxis": "x",
         "y": [
          0.8168430209575617,
          0.8155733114777876,
          0.7314500606678513,
          0.8601486074952331,
          0.8622315072245439,
          0.7912151214508403,
          0.8251342109022992,
          0.8431898708450288,
          0.9023895484489164,
          0.8404795185365513,
          0.890528960414112,
          0.8661538553564112,
          0.9324852188544455,
          0.8850859544548388,
          0.8900489186007593,
          0.8773186179145773,
          0.9637522342583311,
          0.5614204688547609,
          0.8065818815562241,
          0.7291120510974195,
          0.8316896671171053
         ],
         "yaxis": "y"
        },
        {
         "alignmentgroup": "True",
         "hovertemplate": "variable=Correlation-Self<br>Stat=%{x}<br>value=%{y}<extra></extra>",
         "legendgroup": "Correlation-Self",
         "marker": {
          "color": "#EF553B",
          "pattern": {
           "shape": ""
          }
         },
         "name": "Correlation-Self",
         "offsetgroup": "Correlation-Self",
         "orientation": "v",
         "showlegend": true,
         "textposition": "auto",
         "type": "bar",
         "x": [
          "tgt_sh",
          "wopr_y",
          "ay_sh",
          "wopr_x",
          "target_share",
          "air_yards_share",
          "rfd_sh",
          "receiving_air_yards",
          "yptmpa",
          "rtdfd_sh",
          "ppr_sh",
          "ry_sh",
          "receiving_first_downs",
          "receptions",
          "targets",
          "w8dom",
          "receiving_yards",
          "percent_share_of_intended_air_yards_mean",
          "receiving_yards_after_catch",
          "yac_sh",
          "dom"
         ],
         "xaxis": "x",
         "y": [
          0.7256849406007971,
          0.7252887333289864,
          0.7081008731598765,
          0.6529659856958788,
          0.6520057090600898,
          0.648155662167727,
          0.646721485279357,
          0.6464754147526974,
          0.646471138713482,
          0.6387024837174055,
          0.6366002100299575,
          0.6328425021563372,
          0.6276063536416914,
          0.6272954299299728,
          0.6220631241104747,
          0.6131559398368267,
          0.6052927320730959,
          0.5974499368083651,
          0.5641492759368516,
          0.5545296887458004,
          0.5128434234909841
         ],
         "yaxis": "y"
        }
       ],
       "layout": {
        "barmode": "group",
        "legend": {
         "title": {
          "text": "Correlation Type"
         },
         "tracegroupgap": 0
        },
        "margin": {
         "t": 60
        },
        "template": {
         "data": {
          "bar": [
           {
            "error_x": {
             "color": "#2a3f5f"
            },
            "error_y": {
             "color": "#2a3f5f"
            },
            "marker": {
             "line": {
              "color": "#E5ECF6",
              "width": 0.5
             },
             "pattern": {
              "fillmode": "overlay",
              "size": 10,
              "solidity": 0.2
             }
            },
            "type": "bar"
           }
          ],
          "barpolar": [
           {
            "marker": {
             "line": {
              "color": "#E5ECF6",
              "width": 0.5
             },
             "pattern": {
              "fillmode": "overlay",
              "size": 10,
              "solidity": 0.2
             }
            },
            "type": "barpolar"
           }
          ],
          "carpet": [
           {
            "aaxis": {
             "endlinecolor": "#2a3f5f",
             "gridcolor": "white",
             "linecolor": "white",
             "minorgridcolor": "white",
             "startlinecolor": "#2a3f5f"
            },
            "baxis": {
             "endlinecolor": "#2a3f5f",
             "gridcolor": "white",
             "linecolor": "white",
             "minorgridcolor": "white",
             "startlinecolor": "#2a3f5f"
            },
            "type": "carpet"
           }
          ],
          "choropleth": [
           {
            "colorbar": {
             "outlinewidth": 0,
             "ticks": ""
            },
            "type": "choropleth"
           }
          ],
          "contour": [
           {
            "colorbar": {
             "outlinewidth": 0,
             "ticks": ""
            },
            "colorscale": [
             [
              0,
              "#0d0887"
             ],
             [
              0.1111111111111111,
              "#46039f"
             ],
             [
              0.2222222222222222,
              "#7201a8"
             ],
             [
              0.3333333333333333,
              "#9c179e"
             ],
             [
              0.4444444444444444,
              "#bd3786"
             ],
             [
              0.5555555555555556,
              "#d8576b"
             ],
             [
              0.6666666666666666,
              "#ed7953"
             ],
             [
              0.7777777777777778,
              "#fb9f3a"
             ],
             [
              0.8888888888888888,
              "#fdca26"
             ],
             [
              1,
              "#f0f921"
             ]
            ],
            "type": "contour"
           }
          ],
          "contourcarpet": [
           {
            "colorbar": {
             "outlinewidth": 0,
             "ticks": ""
            },
            "type": "contourcarpet"
           }
          ],
          "heatmap": [
           {
            "colorbar": {
             "outlinewidth": 0,
             "ticks": ""
            },
            "colorscale": [
             [
              0,
              "#0d0887"
             ],
             [
              0.1111111111111111,
              "#46039f"
             ],
             [
              0.2222222222222222,
              "#7201a8"
             ],
             [
              0.3333333333333333,
              "#9c179e"
             ],
             [
              0.4444444444444444,
              "#bd3786"
             ],
             [
              0.5555555555555556,
              "#d8576b"
             ],
             [
              0.6666666666666666,
              "#ed7953"
             ],
             [
              0.7777777777777778,
              "#fb9f3a"
             ],
             [
              0.8888888888888888,
              "#fdca26"
             ],
             [
              1,
              "#f0f921"
             ]
            ],
            "type": "heatmap"
           }
          ],
          "heatmapgl": [
           {
            "colorbar": {
             "outlinewidth": 0,
             "ticks": ""
            },
            "colorscale": [
             [
              0,
              "#0d0887"
             ],
             [
              0.1111111111111111,
              "#46039f"
             ],
             [
              0.2222222222222222,
              "#7201a8"
             ],
             [
              0.3333333333333333,
              "#9c179e"
             ],
             [
              0.4444444444444444,
              "#bd3786"
             ],
             [
              0.5555555555555556,
              "#d8576b"
             ],
             [
              0.6666666666666666,
              "#ed7953"
             ],
             [
              0.7777777777777778,
              "#fb9f3a"
             ],
             [
              0.8888888888888888,
              "#fdca26"
             ],
             [
              1,
              "#f0f921"
             ]
            ],
            "type": "heatmapgl"
           }
          ],
          "histogram": [
           {
            "marker": {
             "pattern": {
              "fillmode": "overlay",
              "size": 10,
              "solidity": 0.2
             }
            },
            "type": "histogram"
           }
          ],
          "histogram2d": [
           {
            "colorbar": {
             "outlinewidth": 0,
             "ticks": ""
            },
            "colorscale": [
             [
              0,
              "#0d0887"
             ],
             [
              0.1111111111111111,
              "#46039f"
             ],
             [
              0.2222222222222222,
              "#7201a8"
             ],
             [
              0.3333333333333333,
              "#9c179e"
             ],
             [
              0.4444444444444444,
              "#bd3786"
             ],
             [
              0.5555555555555556,
              "#d8576b"
             ],
             [
              0.6666666666666666,
              "#ed7953"
             ],
             [
              0.7777777777777778,
              "#fb9f3a"
             ],
             [
              0.8888888888888888,
              "#fdca26"
             ],
             [
              1,
              "#f0f921"
             ]
            ],
            "type": "histogram2d"
           }
          ],
          "histogram2dcontour": [
           {
            "colorbar": {
             "outlinewidth": 0,
             "ticks": ""
            },
            "colorscale": [
             [
              0,
              "#0d0887"
             ],
             [
              0.1111111111111111,
              "#46039f"
             ],
             [
              0.2222222222222222,
              "#7201a8"
             ],
             [
              0.3333333333333333,
              "#9c179e"
             ],
             [
              0.4444444444444444,
              "#bd3786"
             ],
             [
              0.5555555555555556,
              "#d8576b"
             ],
             [
              0.6666666666666666,
              "#ed7953"
             ],
             [
              0.7777777777777778,
              "#fb9f3a"
             ],
             [
              0.8888888888888888,
              "#fdca26"
             ],
             [
              1,
              "#f0f921"
             ]
            ],
            "type": "histogram2dcontour"
           }
          ],
          "mesh3d": [
           {
            "colorbar": {
             "outlinewidth": 0,
             "ticks": ""
            },
            "type": "mesh3d"
           }
          ],
          "parcoords": [
           {
            "line": {
             "colorbar": {
              "outlinewidth": 0,
              "ticks": ""
             }
            },
            "type": "parcoords"
           }
          ],
          "pie": [
           {
            "automargin": true,
            "type": "pie"
           }
          ],
          "scatter": [
           {
            "fillpattern": {
             "fillmode": "overlay",
             "size": 10,
             "solidity": 0.2
            },
            "type": "scatter"
           }
          ],
          "scatter3d": [
           {
            "line": {
             "colorbar": {
              "outlinewidth": 0,
              "ticks": ""
             }
            },
            "marker": {
             "colorbar": {
              "outlinewidth": 0,
              "ticks": ""
             }
            },
            "type": "scatter3d"
           }
          ],
          "scattercarpet": [
           {
            "marker": {
             "colorbar": {
              "outlinewidth": 0,
              "ticks": ""
             }
            },
            "type": "scattercarpet"
           }
          ],
          "scattergeo": [
           {
            "marker": {
             "colorbar": {
              "outlinewidth": 0,
              "ticks": ""
             }
            },
            "type": "scattergeo"
           }
          ],
          "scattergl": [
           {
            "marker": {
             "colorbar": {
              "outlinewidth": 0,
              "ticks": ""
             }
            },
            "type": "scattergl"
           }
          ],
          "scattermapbox": [
           {
            "marker": {
             "colorbar": {
              "outlinewidth": 0,
              "ticks": ""
             }
            },
            "type": "scattermapbox"
           }
          ],
          "scatterpolar": [
           {
            "marker": {
             "colorbar": {
              "outlinewidth": 0,
              "ticks": ""
             }
            },
            "type": "scatterpolar"
           }
          ],
          "scatterpolargl": [
           {
            "marker": {
             "colorbar": {
              "outlinewidth": 0,
              "ticks": ""
             }
            },
            "type": "scatterpolargl"
           }
          ],
          "scatterternary": [
           {
            "marker": {
             "colorbar": {
              "outlinewidth": 0,
              "ticks": ""
             }
            },
            "type": "scatterternary"
           }
          ],
          "surface": [
           {
            "colorbar": {
             "outlinewidth": 0,
             "ticks": ""
            },
            "colorscale": [
             [
              0,
              "#0d0887"
             ],
             [
              0.1111111111111111,
              "#46039f"
             ],
             [
              0.2222222222222222,
              "#7201a8"
             ],
             [
              0.3333333333333333,
              "#9c179e"
             ],
             [
              0.4444444444444444,
              "#bd3786"
             ],
             [
              0.5555555555555556,
              "#d8576b"
             ],
             [
              0.6666666666666666,
              "#ed7953"
             ],
             [
              0.7777777777777778,
              "#fb9f3a"
             ],
             [
              0.8888888888888888,
              "#fdca26"
             ],
             [
              1,
              "#f0f921"
             ]
            ],
            "type": "surface"
           }
          ],
          "table": [
           {
            "cells": {
             "fill": {
              "color": "#EBF0F8"
             },
             "line": {
              "color": "white"
             }
            },
            "header": {
             "fill": {
              "color": "#C8D4E3"
             },
             "line": {
              "color": "white"
             }
            },
            "type": "table"
           }
          ]
         },
         "layout": {
          "annotationdefaults": {
           "arrowcolor": "#2a3f5f",
           "arrowhead": 0,
           "arrowwidth": 1
          },
          "autotypenumbers": "strict",
          "coloraxis": {
           "colorbar": {
            "outlinewidth": 0,
            "ticks": ""
           }
          },
          "colorscale": {
           "diverging": [
            [
             0,
             "#8e0152"
            ],
            [
             0.1,
             "#c51b7d"
            ],
            [
             0.2,
             "#de77ae"
            ],
            [
             0.3,
             "#f1b6da"
            ],
            [
             0.4,
             "#fde0ef"
            ],
            [
             0.5,
             "#f7f7f7"
            ],
            [
             0.6,
             "#e6f5d0"
            ],
            [
             0.7,
             "#b8e186"
            ],
            [
             0.8,
             "#7fbc41"
            ],
            [
             0.9,
             "#4d9221"
            ],
            [
             1,
             "#276419"
            ]
           ],
           "sequential": [
            [
             0,
             "#0d0887"
            ],
            [
             0.1111111111111111,
             "#46039f"
            ],
            [
             0.2222222222222222,
             "#7201a8"
            ],
            [
             0.3333333333333333,
             "#9c179e"
            ],
            [
             0.4444444444444444,
             "#bd3786"
            ],
            [
             0.5555555555555556,
             "#d8576b"
            ],
            [
             0.6666666666666666,
             "#ed7953"
            ],
            [
             0.7777777777777778,
             "#fb9f3a"
            ],
            [
             0.8888888888888888,
             "#fdca26"
            ],
            [
             1,
             "#f0f921"
            ]
           ],
           "sequentialminus": [
            [
             0,
             "#0d0887"
            ],
            [
             0.1111111111111111,
             "#46039f"
            ],
            [
             0.2222222222222222,
             "#7201a8"
            ],
            [
             0.3333333333333333,
             "#9c179e"
            ],
            [
             0.4444444444444444,
             "#bd3786"
            ],
            [
             0.5555555555555556,
             "#d8576b"
            ],
            [
             0.6666666666666666,
             "#ed7953"
            ],
            [
             0.7777777777777778,
             "#fb9f3a"
            ],
            [
             0.8888888888888888,
             "#fdca26"
            ],
            [
             1,
             "#f0f921"
            ]
           ]
          },
          "colorway": [
           "#636efa",
           "#EF553B",
           "#00cc96",
           "#ab63fa",
           "#FFA15A",
           "#19d3f3",
           "#FF6692",
           "#B6E880",
           "#FF97FF",
           "#FECB52"
          ],
          "font": {
           "color": "#2a3f5f"
          },
          "geo": {
           "bgcolor": "white",
           "lakecolor": "white",
           "landcolor": "#E5ECF6",
           "showlakes": true,
           "showland": true,
           "subunitcolor": "white"
          },
          "hoverlabel": {
           "align": "left"
          },
          "hovermode": "closest",
          "mapbox": {
           "style": "light"
          },
          "paper_bgcolor": "white",
          "plot_bgcolor": "#E5ECF6",
          "polar": {
           "angularaxis": {
            "gridcolor": "white",
            "linecolor": "white",
            "ticks": ""
           },
           "bgcolor": "#E5ECF6",
           "radialaxis": {
            "gridcolor": "white",
            "linecolor": "white",
            "ticks": ""
           }
          },
          "scene": {
           "xaxis": {
            "backgroundcolor": "#E5ECF6",
            "gridcolor": "white",
            "gridwidth": 2,
            "linecolor": "white",
            "showbackground": true,
            "ticks": "",
            "zerolinecolor": "white"
           },
           "yaxis": {
            "backgroundcolor": "#E5ECF6",
            "gridcolor": "white",
            "gridwidth": 2,
            "linecolor": "white",
            "showbackground": true,
            "ticks": "",
            "zerolinecolor": "white"
           },
           "zaxis": {
            "backgroundcolor": "#E5ECF6",
            "gridcolor": "white",
            "gridwidth": 2,
            "linecolor": "white",
            "showbackground": true,
            "ticks": "",
            "zerolinecolor": "white"
           }
          },
          "shapedefaults": {
           "line": {
            "color": "#2a3f5f"
           }
          },
          "ternary": {
           "aaxis": {
            "gridcolor": "white",
            "linecolor": "white",
            "ticks": ""
           },
           "baxis": {
            "gridcolor": "white",
            "linecolor": "white",
            "ticks": ""
           },
           "bgcolor": "#E5ECF6",
           "caxis": {
            "gridcolor": "white",
            "linecolor": "white",
            "ticks": ""
           }
          },
          "title": {
           "x": 0.05
          },
          "xaxis": {
           "automargin": true,
           "gridcolor": "white",
           "linecolor": "white",
           "ticks": "",
           "title": {
            "standoff": 15
           },
           "zerolinecolor": "white",
           "zerolinewidth": 2
          },
          "yaxis": {
           "automargin": true,
           "gridcolor": "white",
           "linecolor": "white",
           "ticks": "",
           "title": {
            "standoff": 15
           },
           "zerolinecolor": "white",
           "zerolinewidth": 2
          }
         }
        },
        "title": {
         "text": "Stat Correlation with Itself and Fantasy Points (Advanced Stats)"
        },
        "xaxis": {
         "anchor": "y",
         "domain": [
          0,
          1
         ],
         "title": {
          "text": "Stat"
         }
        },
        "yaxis": {
         "anchor": "x",
         "domain": [
          0,
          1
         ],
         "title": {
          "text": "Correlation Value"
         }
        }
       }
      },
      "text/html": [
       "<div>                            <div id=\"41da85e7-42d6-433c-b9db-7d537d523d16\" class=\"plotly-graph-div\" style=\"height:525px; width:100%;\"></div>            <script type=\"text/javascript\">                require([\"plotly\"], function(Plotly) {                    window.PLOTLYENV=window.PLOTLYENV || {};                                    if (document.getElementById(\"41da85e7-42d6-433c-b9db-7d537d523d16\")) {                    Plotly.newPlot(                        \"41da85e7-42d6-433c-b9db-7d537d523d16\",                        [{\"alignmentgroup\":\"True\",\"hovertemplate\":\"variable=Correlation-Fantasy-Points\\u003cbr\\u003eStat=%{x}\\u003cbr\\u003evalue=%{y}\\u003cextra\\u003e\\u003c\\u002fextra\\u003e\",\"legendgroup\":\"Correlation-Fantasy-Points\",\"marker\":{\"color\":\"#636efa\",\"pattern\":{\"shape\":\"\"}},\"name\":\"Correlation-Fantasy-Points\",\"offsetgroup\":\"Correlation-Fantasy-Points\",\"orientation\":\"v\",\"showlegend\":true,\"textposition\":\"auto\",\"x\":[\"tgt_sh\",\"wopr_y\",\"ay_sh\",\"wopr_x\",\"target_share\",\"air_yards_share\",\"rfd_sh\",\"receiving_air_yards\",\"yptmpa\",\"rtdfd_sh\",\"ppr_sh\",\"ry_sh\",\"receiving_first_downs\",\"receptions\",\"targets\",\"w8dom\",\"receiving_yards\",\"percent_share_of_intended_air_yards_mean\",\"receiving_yards_after_catch\",\"yac_sh\",\"dom\"],\"xaxis\":\"x\",\"y\":[0.8168430209575617,0.8155733114777876,0.7314500606678513,0.8601486074952331,0.8622315072245439,0.7912151214508403,0.8251342109022992,0.8431898708450288,0.9023895484489164,0.8404795185365513,0.890528960414112,0.8661538553564112,0.9324852188544455,0.8850859544548388,0.8900489186007593,0.8773186179145773,0.9637522342583311,0.5614204688547609,0.8065818815562241,0.7291120510974195,0.8316896671171053],\"yaxis\":\"y\",\"type\":\"bar\"},{\"alignmentgroup\":\"True\",\"hovertemplate\":\"variable=Correlation-Self\\u003cbr\\u003eStat=%{x}\\u003cbr\\u003evalue=%{y}\\u003cextra\\u003e\\u003c\\u002fextra\\u003e\",\"legendgroup\":\"Correlation-Self\",\"marker\":{\"color\":\"#EF553B\",\"pattern\":{\"shape\":\"\"}},\"name\":\"Correlation-Self\",\"offsetgroup\":\"Correlation-Self\",\"orientation\":\"v\",\"showlegend\":true,\"textposition\":\"auto\",\"x\":[\"tgt_sh\",\"wopr_y\",\"ay_sh\",\"wopr_x\",\"target_share\",\"air_yards_share\",\"rfd_sh\",\"receiving_air_yards\",\"yptmpa\",\"rtdfd_sh\",\"ppr_sh\",\"ry_sh\",\"receiving_first_downs\",\"receptions\",\"targets\",\"w8dom\",\"receiving_yards\",\"percent_share_of_intended_air_yards_mean\",\"receiving_yards_after_catch\",\"yac_sh\",\"dom\"],\"xaxis\":\"x\",\"y\":[0.7256849406007971,0.7252887333289864,0.7081008731598765,0.6529659856958788,0.6520057090600898,0.648155662167727,0.646721485279357,0.6464754147526974,0.646471138713482,0.6387024837174055,0.6366002100299575,0.6328425021563372,0.6276063536416914,0.6272954299299728,0.6220631241104747,0.6131559398368267,0.6052927320730959,0.5974499368083651,0.5641492759368516,0.5545296887458004,0.5128434234909841],\"yaxis\":\"y\",\"type\":\"bar\"}],                        {\"template\":{\"data\":{\"histogram2dcontour\":[{\"type\":\"histogram2dcontour\",\"colorbar\":{\"outlinewidth\":0,\"ticks\":\"\"},\"colorscale\":[[0.0,\"#0d0887\"],[0.1111111111111111,\"#46039f\"],[0.2222222222222222,\"#7201a8\"],[0.3333333333333333,\"#9c179e\"],[0.4444444444444444,\"#bd3786\"],[0.5555555555555556,\"#d8576b\"],[0.6666666666666666,\"#ed7953\"],[0.7777777777777778,\"#fb9f3a\"],[0.8888888888888888,\"#fdca26\"],[1.0,\"#f0f921\"]]}],\"choropleth\":[{\"type\":\"choropleth\",\"colorbar\":{\"outlinewidth\":0,\"ticks\":\"\"}}],\"histogram2d\":[{\"type\":\"histogram2d\",\"colorbar\":{\"outlinewidth\":0,\"ticks\":\"\"},\"colorscale\":[[0.0,\"#0d0887\"],[0.1111111111111111,\"#46039f\"],[0.2222222222222222,\"#7201a8\"],[0.3333333333333333,\"#9c179e\"],[0.4444444444444444,\"#bd3786\"],[0.5555555555555556,\"#d8576b\"],[0.6666666666666666,\"#ed7953\"],[0.7777777777777778,\"#fb9f3a\"],[0.8888888888888888,\"#fdca26\"],[1.0,\"#f0f921\"]]}],\"heatmap\":[{\"type\":\"heatmap\",\"colorbar\":{\"outlinewidth\":0,\"ticks\":\"\"},\"colorscale\":[[0.0,\"#0d0887\"],[0.1111111111111111,\"#46039f\"],[0.2222222222222222,\"#7201a8\"],[0.3333333333333333,\"#9c179e\"],[0.4444444444444444,\"#bd3786\"],[0.5555555555555556,\"#d8576b\"],[0.6666666666666666,\"#ed7953\"],[0.7777777777777778,\"#fb9f3a\"],[0.8888888888888888,\"#fdca26\"],[1.0,\"#f0f921\"]]}],\"heatmapgl\":[{\"type\":\"heatmapgl\",\"colorbar\":{\"outlinewidth\":0,\"ticks\":\"\"},\"colorscale\":[[0.0,\"#0d0887\"],[0.1111111111111111,\"#46039f\"],[0.2222222222222222,\"#7201a8\"],[0.3333333333333333,\"#9c179e\"],[0.4444444444444444,\"#bd3786\"],[0.5555555555555556,\"#d8576b\"],[0.6666666666666666,\"#ed7953\"],[0.7777777777777778,\"#fb9f3a\"],[0.8888888888888888,\"#fdca26\"],[1.0,\"#f0f921\"]]}],\"contourcarpet\":[{\"type\":\"contourcarpet\",\"colorbar\":{\"outlinewidth\":0,\"ticks\":\"\"}}],\"contour\":[{\"type\":\"contour\",\"colorbar\":{\"outlinewidth\":0,\"ticks\":\"\"},\"colorscale\":[[0.0,\"#0d0887\"],[0.1111111111111111,\"#46039f\"],[0.2222222222222222,\"#7201a8\"],[0.3333333333333333,\"#9c179e\"],[0.4444444444444444,\"#bd3786\"],[0.5555555555555556,\"#d8576b\"],[0.6666666666666666,\"#ed7953\"],[0.7777777777777778,\"#fb9f3a\"],[0.8888888888888888,\"#fdca26\"],[1.0,\"#f0f921\"]]}],\"surface\":[{\"type\":\"surface\",\"colorbar\":{\"outlinewidth\":0,\"ticks\":\"\"},\"colorscale\":[[0.0,\"#0d0887\"],[0.1111111111111111,\"#46039f\"],[0.2222222222222222,\"#7201a8\"],[0.3333333333333333,\"#9c179e\"],[0.4444444444444444,\"#bd3786\"],[0.5555555555555556,\"#d8576b\"],[0.6666666666666666,\"#ed7953\"],[0.7777777777777778,\"#fb9f3a\"],[0.8888888888888888,\"#fdca26\"],[1.0,\"#f0f921\"]]}],\"mesh3d\":[{\"type\":\"mesh3d\",\"colorbar\":{\"outlinewidth\":0,\"ticks\":\"\"}}],\"scatter\":[{\"fillpattern\":{\"fillmode\":\"overlay\",\"size\":10,\"solidity\":0.2},\"type\":\"scatter\"}],\"parcoords\":[{\"type\":\"parcoords\",\"line\":{\"colorbar\":{\"outlinewidth\":0,\"ticks\":\"\"}}}],\"scatterpolargl\":[{\"type\":\"scatterpolargl\",\"marker\":{\"colorbar\":{\"outlinewidth\":0,\"ticks\":\"\"}}}],\"bar\":[{\"error_x\":{\"color\":\"#2a3f5f\"},\"error_y\":{\"color\":\"#2a3f5f\"},\"marker\":{\"line\":{\"color\":\"#E5ECF6\",\"width\":0.5},\"pattern\":{\"fillmode\":\"overlay\",\"size\":10,\"solidity\":0.2}},\"type\":\"bar\"}],\"scattergeo\":[{\"type\":\"scattergeo\",\"marker\":{\"colorbar\":{\"outlinewidth\":0,\"ticks\":\"\"}}}],\"scatterpolar\":[{\"type\":\"scatterpolar\",\"marker\":{\"colorbar\":{\"outlinewidth\":0,\"ticks\":\"\"}}}],\"histogram\":[{\"marker\":{\"pattern\":{\"fillmode\":\"overlay\",\"size\":10,\"solidity\":0.2}},\"type\":\"histogram\"}],\"scattergl\":[{\"type\":\"scattergl\",\"marker\":{\"colorbar\":{\"outlinewidth\":0,\"ticks\":\"\"}}}],\"scatter3d\":[{\"type\":\"scatter3d\",\"line\":{\"colorbar\":{\"outlinewidth\":0,\"ticks\":\"\"}},\"marker\":{\"colorbar\":{\"outlinewidth\":0,\"ticks\":\"\"}}}],\"scattermapbox\":[{\"type\":\"scattermapbox\",\"marker\":{\"colorbar\":{\"outlinewidth\":0,\"ticks\":\"\"}}}],\"scatterternary\":[{\"type\":\"scatterternary\",\"marker\":{\"colorbar\":{\"outlinewidth\":0,\"ticks\":\"\"}}}],\"scattercarpet\":[{\"type\":\"scattercarpet\",\"marker\":{\"colorbar\":{\"outlinewidth\":0,\"ticks\":\"\"}}}],\"carpet\":[{\"aaxis\":{\"endlinecolor\":\"#2a3f5f\",\"gridcolor\":\"white\",\"linecolor\":\"white\",\"minorgridcolor\":\"white\",\"startlinecolor\":\"#2a3f5f\"},\"baxis\":{\"endlinecolor\":\"#2a3f5f\",\"gridcolor\":\"white\",\"linecolor\":\"white\",\"minorgridcolor\":\"white\",\"startlinecolor\":\"#2a3f5f\"},\"type\":\"carpet\"}],\"table\":[{\"cells\":{\"fill\":{\"color\":\"#EBF0F8\"},\"line\":{\"color\":\"white\"}},\"header\":{\"fill\":{\"color\":\"#C8D4E3\"},\"line\":{\"color\":\"white\"}},\"type\":\"table\"}],\"barpolar\":[{\"marker\":{\"line\":{\"color\":\"#E5ECF6\",\"width\":0.5},\"pattern\":{\"fillmode\":\"overlay\",\"size\":10,\"solidity\":0.2}},\"type\":\"barpolar\"}],\"pie\":[{\"automargin\":true,\"type\":\"pie\"}]},\"layout\":{\"autotypenumbers\":\"strict\",\"colorway\":[\"#636efa\",\"#EF553B\",\"#00cc96\",\"#ab63fa\",\"#FFA15A\",\"#19d3f3\",\"#FF6692\",\"#B6E880\",\"#FF97FF\",\"#FECB52\"],\"font\":{\"color\":\"#2a3f5f\"},\"hovermode\":\"closest\",\"hoverlabel\":{\"align\":\"left\"},\"paper_bgcolor\":\"white\",\"plot_bgcolor\":\"#E5ECF6\",\"polar\":{\"bgcolor\":\"#E5ECF6\",\"angularaxis\":{\"gridcolor\":\"white\",\"linecolor\":\"white\",\"ticks\":\"\"},\"radialaxis\":{\"gridcolor\":\"white\",\"linecolor\":\"white\",\"ticks\":\"\"}},\"ternary\":{\"bgcolor\":\"#E5ECF6\",\"aaxis\":{\"gridcolor\":\"white\",\"linecolor\":\"white\",\"ticks\":\"\"},\"baxis\":{\"gridcolor\":\"white\",\"linecolor\":\"white\",\"ticks\":\"\"},\"caxis\":{\"gridcolor\":\"white\",\"linecolor\":\"white\",\"ticks\":\"\"}},\"coloraxis\":{\"colorbar\":{\"outlinewidth\":0,\"ticks\":\"\"}},\"colorscale\":{\"sequential\":[[0.0,\"#0d0887\"],[0.1111111111111111,\"#46039f\"],[0.2222222222222222,\"#7201a8\"],[0.3333333333333333,\"#9c179e\"],[0.4444444444444444,\"#bd3786\"],[0.5555555555555556,\"#d8576b\"],[0.6666666666666666,\"#ed7953\"],[0.7777777777777778,\"#fb9f3a\"],[0.8888888888888888,\"#fdca26\"],[1.0,\"#f0f921\"]],\"sequentialminus\":[[0.0,\"#0d0887\"],[0.1111111111111111,\"#46039f\"],[0.2222222222222222,\"#7201a8\"],[0.3333333333333333,\"#9c179e\"],[0.4444444444444444,\"#bd3786\"],[0.5555555555555556,\"#d8576b\"],[0.6666666666666666,\"#ed7953\"],[0.7777777777777778,\"#fb9f3a\"],[0.8888888888888888,\"#fdca26\"],[1.0,\"#f0f921\"]],\"diverging\":[[0,\"#8e0152\"],[0.1,\"#c51b7d\"],[0.2,\"#de77ae\"],[0.3,\"#f1b6da\"],[0.4,\"#fde0ef\"],[0.5,\"#f7f7f7\"],[0.6,\"#e6f5d0\"],[0.7,\"#b8e186\"],[0.8,\"#7fbc41\"],[0.9,\"#4d9221\"],[1,\"#276419\"]]},\"xaxis\":{\"gridcolor\":\"white\",\"linecolor\":\"white\",\"ticks\":\"\",\"title\":{\"standoff\":15},\"zerolinecolor\":\"white\",\"automargin\":true,\"zerolinewidth\":2},\"yaxis\":{\"gridcolor\":\"white\",\"linecolor\":\"white\",\"ticks\":\"\",\"title\":{\"standoff\":15},\"zerolinecolor\":\"white\",\"automargin\":true,\"zerolinewidth\":2},\"scene\":{\"xaxis\":{\"backgroundcolor\":\"#E5ECF6\",\"gridcolor\":\"white\",\"linecolor\":\"white\",\"showbackground\":true,\"ticks\":\"\",\"zerolinecolor\":\"white\",\"gridwidth\":2},\"yaxis\":{\"backgroundcolor\":\"#E5ECF6\",\"gridcolor\":\"white\",\"linecolor\":\"white\",\"showbackground\":true,\"ticks\":\"\",\"zerolinecolor\":\"white\",\"gridwidth\":2},\"zaxis\":{\"backgroundcolor\":\"#E5ECF6\",\"gridcolor\":\"white\",\"linecolor\":\"white\",\"showbackground\":true,\"ticks\":\"\",\"zerolinecolor\":\"white\",\"gridwidth\":2}},\"shapedefaults\":{\"line\":{\"color\":\"#2a3f5f\"}},\"annotationdefaults\":{\"arrowcolor\":\"#2a3f5f\",\"arrowhead\":0,\"arrowwidth\":1},\"geo\":{\"bgcolor\":\"white\",\"landcolor\":\"#E5ECF6\",\"subunitcolor\":\"white\",\"showland\":true,\"showlakes\":true,\"lakecolor\":\"white\"},\"title\":{\"x\":0.05},\"mapbox\":{\"style\":\"light\"}}},\"xaxis\":{\"anchor\":\"y\",\"domain\":[0.0,1.0],\"title\":{\"text\":\"Stat\"}},\"yaxis\":{\"anchor\":\"x\",\"domain\":[0.0,1.0],\"title\":{\"text\":\"Correlation Value\"}},\"legend\":{\"title\":{\"text\":\"Correlation Type\"},\"tracegroupgap\":0},\"margin\":{\"t\":60},\"barmode\":\"group\",\"title\":{\"text\":\"Stat Correlation with Itself and Fantasy Points (Advanced Stats)\"}},                        {\"responsive\": true}                    ).then(function(){\n",
       "                            \n",
       "var gd = document.getElementById('41da85e7-42d6-433c-b9db-7d537d523d16');\n",
       "var x = new MutationObserver(function (mutations, observer) {{\n",
       "        var display = window.getComputedStyle(gd).display;\n",
       "        if (!display || display === 'none') {{\n",
       "            console.log([gd, 'removed!']);\n",
       "            Plotly.purge(gd);\n",
       "            observer.disconnect();\n",
       "        }}\n",
       "}});\n",
       "\n",
       "// Listen for the removal of the full notebook cells\n",
       "var notebookContainer = gd.closest('#notebook-container');\n",
       "if (notebookContainer) {{\n",
       "    x.observe(notebookContainer, {childList: true});\n",
       "}}\n",
       "\n",
       "// Listen for the clearing of the current output cell\n",
       "var outputEl = gd.closest('.output');\n",
       "if (outputEl) {{\n",
       "    x.observe(outputEl, {childList: true});\n",
       "}}\n",
       "\n",
       "                        })                };                });            </script>        </div>"
      ]
     },
     "metadata": {},
     "output_type": "display_data"
    }
   ],
   "source": [
    "fig = px.bar(df_high_corrs, x=\"Stat\", y=[\"Correlation-Fantasy-Points\", \"Correlation-Self\"],\n",
    "                barmode='group')\n",
    "\n",
    "# Update layout\n",
    "fig.update_layout(\n",
    "    title='Stat Correlation with Itself and Fantasy Points (Advanced Stats)',\n",
    "    xaxis_title='Stat',\n",
    "    yaxis_title='Correlation Value',\n",
    "    legend_title='Correlation Type'\n",
    ")\n",
    "\n",
    "fig.write_html(\"../../interactive/WR/stability/season/correlation-bar-advanced-stats-focused.html\")\n",
    "\n",
    "fig.show()"
   ]
  },
  {
   "cell_type": "markdown",
   "id": "14e00ad0",
   "metadata": {},
   "source": [
    "# Choosing X and Y for Corr Mat"
   ]
  },
  {
   "cell_type": "code",
   "execution_count": null,
   "id": "cc4441b7",
   "metadata": {},
   "outputs": [],
   "source": [
    "x = ['receptions', 'targets', 'receiving_yards', 'receiving_tds', 'fantasy_points', 'fantasy_points_ppr']"
   ]
  },
  {
   "cell_type": "code",
   "execution_count": null,
   "id": "794c048b",
   "metadata": {},
   "outputs": [],
   "source": [
    "y = []\n",
    "for col in x:\n",
    "    y.append(f\"{col}_last\")"
   ]
  },
  {
   "cell_type": "markdown",
   "id": "d0180ec2",
   "metadata": {},
   "source": [
    "# Graphing"
   ]
  },
  {
   "cell_type": "code",
   "execution_count": null,
   "id": "d7e67fba",
   "metadata": {},
   "outputs": [],
   "source": [
    "save_path = \"../../interactive/WR/stability/season\""
   ]
  },
  {
   "cell_type": "code",
   "execution_count": null,
   "id": "04005416",
   "metadata": {},
   "outputs": [],
   "source": [
    "df = df_lag.copy()"
   ]
  },
  {
   "cell_type": "code",
   "execution_count": null,
   "id": "a5c4295f",
   "metadata": {},
   "outputs": [],
   "source": [
    "query = \"games >= 10 and games_last >= 10 and \\\n",
    "    depth_team_mean <= 2 and depth_team_mean_last <= 2\"\n",
    "if query:\n",
    "    df_filter = df.query(query).copy()\n",
    "else:\n",
    "    df_filter = df.copy()"
   ]
  },
  {
   "cell_type": "code",
   "execution_count": null,
   "id": "6fea224b",
   "metadata": {},
   "outputs": [],
   "source": [
    "len(df_filter)"
   ]
  },
  {
   "cell_type": "markdown",
   "id": "db83b7af",
   "metadata": {},
   "source": [
    "## Correlation Heat Map"
   ]
  },
  {
   "cell_type": "code",
   "execution_count": null,
   "id": "ff255a88",
   "metadata": {},
   "outputs": [],
   "source": [
    "title = \"\" # \"Basic Receiving Stat Correlations (Young Starters)\"\n",
    "path = \"\"\n",
    "if title:\n",
    "    path = f\"{save_path}/{title.replace(' ', '-')}\"\n",
    "\n",
    "corr_mat, x, y = create_correlation_matrix(df_filter, x, y)\n",
    "plot_correlation_matrix(corr_mat, x, y, path=path, title=title)\n",
    "\n",
    "print(path)"
   ]
  },
  {
   "cell_type": "markdown",
   "id": "48e2b9c0",
   "metadata": {},
   "source": [
    "## Scatter Plot"
   ]
  },
  {
   "cell_type": "code",
   "execution_count": null,
   "id": "2b11e0b1",
   "metadata": {},
   "outputs": [],
   "source": [
    "hover_data = [\"player_name\", \"season\", \"age\"]"
   ]
  },
  {
   "cell_type": "code",
   "execution_count": null,
   "id": "bed4a557",
   "metadata": {},
   "outputs": [],
   "source": [
    "y_value = \"receptions\"\n",
    "x_value = f\"{y_value}_last\""
   ]
  },
  {
   "cell_type": "code",
   "execution_count": null,
   "id": "8de791d6",
   "metadata": {},
   "outputs": [],
   "source": [
    "y_fig_value_list = [w.capitalize() for w in y_value.split(\"_\")]\n",
    "y_fig_value = \" \".join(y_fig_value_list)"
   ]
  },
  {
   "cell_type": "code",
   "execution_count": null,
   "id": "31369f21",
   "metadata": {},
   "outputs": [],
   "source": [
    "fig_title_scatter = f\"{y_fig_value} vs. {y_fig_value} Last\"\n",
    "path_scatter = f\"{path}-{fig_title_scatter.replace(' ', '-')}\""
   ]
  },
  {
   "cell_type": "code",
   "execution_count": null,
   "id": "d205d5db",
   "metadata": {},
   "outputs": [],
   "source": [
    "# plot_scatter(df_filter, x_value, y_value, hover_data=hover_data, path=path_scatter, fig_title=fig_title_scatter)\n",
    "plot_scatter(df_filter, x_value, y_value, hover_data=hover_data)"
   ]
  },
  {
   "cell_type": "markdown",
   "id": "f0501d65",
   "metadata": {},
   "source": [
    "# Line Graph of Samples"
   ]
  },
  {
   "cell_type": "code",
   "execution_count": null,
   "id": "da4dabb4",
   "metadata": {},
   "outputs": [],
   "source": [
    "df_samples = df_filter.groupby([\"age\"]).aggregate({\"player_id\": \"count\", \"depth_team_mean\": \"mean\"})"
   ]
  },
  {
   "cell_type": "code",
   "execution_count": null,
   "id": "cb705fa5",
   "metadata": {},
   "outputs": [],
   "source": [
    "df_samples.columns = list(map(\"\".join, df_samples.columns))\n",
    "df_samples.reset_index(inplace=True)"
   ]
  },
  {
   "cell_type": "code",
   "execution_count": null,
   "id": "14d385fa",
   "metadata": {},
   "outputs": [],
   "source": [
    "df_samples.rename(columns={\"player_id\": \"Samples\", \n",
    "                           \"depth_team_mean\": \"Average Depth Chart Position\",\n",
    "                           \"age\": \"Age\"\n",
    "                          }, inplace=True)"
   ]
  },
  {
   "cell_type": "code",
   "execution_count": null,
   "id": "f7f690a2",
   "metadata": {},
   "outputs": [],
   "source": [
    "fig = px.line(df_samples, x='Age',\n",
    "              y=['Samples'],\n",
    "              hover_data=[\"Average Depth Chart Position\"]\n",
    "             )\n",
    "\n",
    "# Update layout\n",
    "fig.update_layout(\n",
    "    title='Samples Size vs. Age',\n",
    "    xaxis_title='Age',\n",
    "    yaxis_title='Sample Size',\n",
    ")\n",
    "\n",
    "# save the figure\n",
    "fig.write_html(f\"{save_path}/samples-v-age.html\")\n",
    "\n",
    "# Show the figure\n",
    "fig.show()"
   ]
  },
  {
   "cell_type": "code",
   "execution_count": null,
   "id": "2d59d610",
   "metadata": {},
   "outputs": [],
   "source": [
    "fig = px.line(df_samples, x='Age',\n",
    "              y=['Average Depth Chart Position'],\n",
    "              hover_data=[\"Samples\"]\n",
    "             )\n",
    "\n",
    "# Update layout\n",
    "fig.update_layout(\n",
    "    title='Average Depth Chart Position vs. Age',\n",
    "    xaxis_title='Age',\n",
    "    yaxis_title='Average Depth Chart Position ',\n",
    ")\n",
    "\n",
    "# save the figure\n",
    "fig.write_html(f\"{save_path}/depth-chart-v-age.html\")\n",
    "\n",
    "# Show the figure\n",
    "fig.show()"
   ]
  },
  {
   "cell_type": "code",
   "execution_count": null,
   "id": "9fe93344",
   "metadata": {},
   "outputs": [],
   "source": []
  }
 ],
 "metadata": {
  "kernelspec": {
   "display_name": "plotly",
   "language": "python",
   "name": "plotly"
  },
  "language_info": {
   "codemirror_mode": {
    "name": "ipython",
    "version": 3
   },
   "file_extension": ".py",
   "mimetype": "text/x-python",
   "name": "python",
   "nbconvert_exporter": "python",
   "pygments_lexer": "ipython3",
   "version": "3.9.7"
  }
 },
 "nbformat": 4,
 "nbformat_minor": 5
}
