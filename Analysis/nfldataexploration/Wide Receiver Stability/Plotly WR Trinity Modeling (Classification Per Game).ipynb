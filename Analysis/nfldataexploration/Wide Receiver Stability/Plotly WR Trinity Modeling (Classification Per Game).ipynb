{
 "cells": [
  {
   "cell_type": "markdown",
   "id": "2c4c46b9",
   "metadata": {},
   "source": [
    "# Imports"
   ]
  },
  {
   "cell_type": "code",
   "execution_count": 1,
   "id": "d8d4517e",
   "metadata": {},
   "outputs": [],
   "source": [
    "import itertools\n",
    "import numpy as np\n",
    "import pandas as pd"
   ]
  },
  {
   "cell_type": "code",
   "execution_count": 2,
   "id": "838d44a7",
   "metadata": {},
   "outputs": [],
   "source": [
    "import sys\n",
    "import os\n",
    "sys.path.append(os.path.abspath('..'))\n",
    "from helpers_df import create_lag_df, create_train_and_test_sets, normalize_stats"
   ]
  },
  {
   "cell_type": "markdown",
   "id": "d8c28847",
   "metadata": {},
   "source": [
    "# Grab Data"
   ]
  },
  {
   "cell_type": "code",
   "execution_count": 3,
   "id": "3056565c",
   "metadata": {},
   "outputs": [],
   "source": [
    "df_rec = pd.read_pickle(\"./wr-simple-data-2012-2022-qbr.pkl\")"
   ]
  },
  {
   "cell_type": "code",
   "execution_count": 4,
   "id": "3b3120f7",
   "metadata": {},
   "outputs": [],
   "source": [
    "df_wr = df_rec.query(\"position == 'WR'\").copy()"
   ]
  },
  {
   "cell_type": "code",
   "execution_count": 5,
   "id": "2c308ca7",
   "metadata": {},
   "outputs": [],
   "source": [
    "games = df_wr[\"games\"]\n",
    "df_wr[\"receiving_yards_after_catch_per_game\"] = df_wr[\"receiving_yards_after_catch\"] / games\n",
    "df_wr[\"receiving_air_yards_per_game\"] = df_wr[\"receiving_air_yards\"] / games\n",
    "df_wr[\"fantasy_points_per_game\"] = df_wr[\"fantasy_points\"] / games\n",
    "df_wr[\"capital\"] = ((df_wr[\"round\"] - 1) * 32) + df_wr[\"pick\"]\n",
    "df_wr[\"receiving_yards_per_game\"] = df_wr[\"receiving_yards\"] / games\n",
    "df_wr[\"targets_per_game\"] = df_wr[\"targets\"] / games"
   ]
  },
  {
   "cell_type": "markdown",
   "id": "6662aad3",
   "metadata": {},
   "source": [
    "# Lag Version"
   ]
  },
  {
   "cell_type": "code",
   "execution_count": 6,
   "id": "79b07375",
   "metadata": {},
   "outputs": [],
   "source": [
    "df_lag = create_lag_df(df_wr)"
   ]
  },
  {
   "cell_type": "code",
   "execution_count": 7,
   "id": "8d058b12",
   "metadata": {},
   "outputs": [
    {
     "data": {
      "text/html": [
       "<div>\n",
       "<style scoped>\n",
       "    .dataframe tbody tr th:only-of-type {\n",
       "        vertical-align: middle;\n",
       "    }\n",
       "\n",
       "    .dataframe tbody tr th {\n",
       "        vertical-align: top;\n",
       "    }\n",
       "\n",
       "    .dataframe thead th {\n",
       "        text-align: right;\n",
       "    }\n",
       "</style>\n",
       "<table border=\"1\" class=\"dataframe\">\n",
       "  <thead>\n",
       "    <tr style=\"text-align: right;\">\n",
       "      <th></th>\n",
       "      <th>player_id</th>\n",
       "      <th>season</th>\n",
       "      <th>season_type</th>\n",
       "      <th>receptions</th>\n",
       "      <th>targets</th>\n",
       "      <th>receiving_yards</th>\n",
       "      <th>receiving_tds</th>\n",
       "      <th>receiving_fumbles</th>\n",
       "      <th>receiving_fumbles_lost</th>\n",
       "      <th>receiving_air_yards</th>\n",
       "      <th>...</th>\n",
       "      <th>depth_team_last</th>\n",
       "      <th>round_last</th>\n",
       "      <th>pick_last</th>\n",
       "      <th>qbr_last</th>\n",
       "      <th>receiving_yards_after_catch_per_game_last</th>\n",
       "      <th>receiving_air_yards_per_game_last</th>\n",
       "      <th>fantasy_points_per_game_last</th>\n",
       "      <th>capital_last</th>\n",
       "      <th>receiving_yards_per_game_last</th>\n",
       "      <th>targets_per_game_last</th>\n",
       "    </tr>\n",
       "  </thead>\n",
       "  <tbody>\n",
       "    <tr>\n",
       "      <th>0</th>\n",
       "      <td>00-0015754</td>\n",
       "      <td>2013</td>\n",
       "      <td>REG</td>\n",
       "      <td>13</td>\n",
       "      <td>21</td>\n",
       "      <td>115.0</td>\n",
       "      <td>0</td>\n",
       "      <td>0.0</td>\n",
       "      <td>0.0</td>\n",
       "      <td>174.0</td>\n",
       "      <td>...</td>\n",
       "      <td>2.00</td>\n",
       "      <td>4.0</td>\n",
       "      <td>105.0</td>\n",
       "      <td>105.849771</td>\n",
       "      <td>10.571429</td>\n",
       "      <td>42.071429</td>\n",
       "      <td>6.028571</td>\n",
       "      <td>201.0</td>\n",
       "      <td>38.857143</td>\n",
       "      <td>4.214286</td>\n",
       "    </tr>\n",
       "    <tr>\n",
       "      <th>1</th>\n",
       "      <td>00-0020337</td>\n",
       "      <td>2013</td>\n",
       "      <td>REG</td>\n",
       "      <td>64</td>\n",
       "      <td>110</td>\n",
       "      <td>745.0</td>\n",
       "      <td>4</td>\n",
       "      <td>0.0</td>\n",
       "      <td>0.0</td>\n",
       "      <td>1219.0</td>\n",
       "      <td>...</td>\n",
       "      <td>1.00</td>\n",
       "      <td>3.0</td>\n",
       "      <td>74.0</td>\n",
       "      <td>86.181271</td>\n",
       "      <td>16.750000</td>\n",
       "      <td>114.500000</td>\n",
       "      <td>8.881250</td>\n",
       "      <td>138.0</td>\n",
       "      <td>73.375000</td>\n",
       "      <td>8.625000</td>\n",
       "    </tr>\n",
       "    <tr>\n",
       "      <th>2</th>\n",
       "      <td>00-0020337</td>\n",
       "      <td>2014</td>\n",
       "      <td>REG</td>\n",
       "      <td>79</td>\n",
       "      <td>134</td>\n",
       "      <td>1065.0</td>\n",
       "      <td>6</td>\n",
       "      <td>2.0</td>\n",
       "      <td>1.0</td>\n",
       "      <td>1413.0</td>\n",
       "      <td>...</td>\n",
       "      <td>1.00</td>\n",
       "      <td>3.0</td>\n",
       "      <td>74.0</td>\n",
       "      <td>88.755285</td>\n",
       "      <td>11.866667</td>\n",
       "      <td>81.266667</td>\n",
       "      <td>6.566667</td>\n",
       "      <td>138.0</td>\n",
       "      <td>49.666667</td>\n",
       "      <td>7.333333</td>\n",
       "    </tr>\n",
       "    <tr>\n",
       "      <th>3</th>\n",
       "      <td>00-0020337</td>\n",
       "      <td>2015</td>\n",
       "      <td>REG</td>\n",
       "      <td>46</td>\n",
       "      <td>73</td>\n",
       "      <td>670.0</td>\n",
       "      <td>3</td>\n",
       "      <td>0.0</td>\n",
       "      <td>0.0</td>\n",
       "      <td>719.0</td>\n",
       "      <td>...</td>\n",
       "      <td>1.00</td>\n",
       "      <td>3.0</td>\n",
       "      <td>74.0</td>\n",
       "      <td>91.027377</td>\n",
       "      <td>22.687500</td>\n",
       "      <td>88.312500</td>\n",
       "      <td>8.781250</td>\n",
       "      <td>138.0</td>\n",
       "      <td>66.562500</td>\n",
       "      <td>8.375000</td>\n",
       "    </tr>\n",
       "    <tr>\n",
       "      <th>4</th>\n",
       "      <td>00-0020337</td>\n",
       "      <td>2016</td>\n",
       "      <td>REG</td>\n",
       "      <td>70</td>\n",
       "      <td>101</td>\n",
       "      <td>799.0</td>\n",
       "      <td>5</td>\n",
       "      <td>0.0</td>\n",
       "      <td>0.0</td>\n",
       "      <td>873.0</td>\n",
       "      <td>...</td>\n",
       "      <td>1.75</td>\n",
       "      <td>3.0</td>\n",
       "      <td>74.0</td>\n",
       "      <td>83.106336</td>\n",
       "      <td>36.571429</td>\n",
       "      <td>102.714286</td>\n",
       "      <td>12.142857</td>\n",
       "      <td>138.0</td>\n",
       "      <td>95.714286</td>\n",
       "      <td>10.428571</td>\n",
       "    </tr>\n",
       "  </tbody>\n",
       "</table>\n",
       "<p>5 rows × 89 columns</p>\n",
       "</div>"
      ],
      "text/plain": [
       "    player_id  season season_type  receptions  targets  receiving_yards  \\\n",
       "0  00-0015754    2013         REG          13       21            115.0   \n",
       "1  00-0020337    2013         REG          64      110            745.0   \n",
       "2  00-0020337    2014         REG          79      134           1065.0   \n",
       "3  00-0020337    2015         REG          46       73            670.0   \n",
       "4  00-0020337    2016         REG          70      101            799.0   \n",
       "\n",
       "   receiving_tds  receiving_fumbles  receiving_fumbles_lost  \\\n",
       "0              0                0.0                     0.0   \n",
       "1              4                0.0                     0.0   \n",
       "2              6                2.0                     1.0   \n",
       "3              3                0.0                     0.0   \n",
       "4              5                0.0                     0.0   \n",
       "\n",
       "   receiving_air_yards  ...  depth_team_last  round_last  pick_last  \\\n",
       "0                174.0  ...             2.00         4.0      105.0   \n",
       "1               1219.0  ...             1.00         3.0       74.0   \n",
       "2               1413.0  ...             1.00         3.0       74.0   \n",
       "3                719.0  ...             1.00         3.0       74.0   \n",
       "4                873.0  ...             1.75         3.0       74.0   \n",
       "\n",
       "     qbr_last  receiving_yards_after_catch_per_game_last  \\\n",
       "0  105.849771                                  10.571429   \n",
       "1   86.181271                                  16.750000   \n",
       "2   88.755285                                  11.866667   \n",
       "3   91.027377                                  22.687500   \n",
       "4   83.106336                                  36.571429   \n",
       "\n",
       "   receiving_air_yards_per_game_last  fantasy_points_per_game_last  \\\n",
       "0                          42.071429                      6.028571   \n",
       "1                         114.500000                      8.881250   \n",
       "2                          81.266667                      6.566667   \n",
       "3                          88.312500                      8.781250   \n",
       "4                         102.714286                     12.142857   \n",
       "\n",
       "   capital_last  receiving_yards_per_game_last  targets_per_game_last  \n",
       "0         201.0                      38.857143               4.214286  \n",
       "1         138.0                      73.375000               8.625000  \n",
       "2         138.0                      49.666667               7.333333  \n",
       "3         138.0                      66.562500               8.375000  \n",
       "4         138.0                      95.714286              10.428571  \n",
       "\n",
       "[5 rows x 89 columns]"
      ]
     },
     "execution_count": 7,
     "metadata": {},
     "output_type": "execute_result"
    }
   ],
   "source": [
    "df_lag.head()"
   ]
  },
  {
   "cell_type": "markdown",
   "id": "405c41be",
   "metadata": {},
   "source": [
    "1 => improved\n",
    "\n",
    "0 => no change\n",
    "\n",
    "-1 => decline"
   ]
  },
  {
   "cell_type": "code",
   "execution_count": 8,
   "id": "788a1b44",
   "metadata": {},
   "outputs": [],
   "source": [
    "df_lag_classification = df_lag.query(\"games >= 10 and games_last >= 10\").copy()\n",
    "for i, row in df_lag_classification.iterrows():\n",
    "    diff = row[\"fantasy_points_per_game\"] - row[\"fantasy_points_per_game_last\"]\n",
    "#     diff = row[\"trinity\"] - row[\"trinity_last\"]\n",
    "    if diff > 0:\n",
    "        df_lag_classification.at[i, \"change\"] = 1\n",
    "    else:\n",
    "        df_lag_classification.at[i, \"change\"] = -1"
   ]
  },
  {
   "cell_type": "code",
   "execution_count": 9,
   "id": "860360e6",
   "metadata": {},
   "outputs": [],
   "source": [
    "df_lag_classification.dropna(inplace=True)"
   ]
  },
  {
   "cell_type": "markdown",
   "id": "49d7e913",
   "metadata": {},
   "source": [
    "# Create Test and Train Sets"
   ]
  },
  {
   "cell_type": "code",
   "execution_count": 10,
   "id": "fbb07e41",
   "metadata": {},
   "outputs": [],
   "source": [
    "x_cols = ['receiving_yards_after_catch_per_game_last', 'receiving_air_yards_per_game_last',\n",
    "          'tgt_sh_last', \"age\", \"qbr_last\", \"capital\", \"depth_team\", \"depth_team_last\",\n",
    "         \"w8dom_last\", \"wopr_x_last\", \"ppr_sh_last\", \"dom_last\",\n",
    "          \"receiving_yards_per_game_last\", \"targets_per_game_last\", \"ay_sh_last\", \"ry_sh_last\"]"
   ]
  },
  {
   "cell_type": "code",
   "execution_count": 11,
   "id": "1663675d",
   "metadata": {},
   "outputs": [],
   "source": [
    "# x_cols = [\"wopr_y_last\", \"ay_sh_last\", \"tgt_sh_last\"]"
   ]
  },
  {
   "cell_type": "code",
   "execution_count": 12,
   "id": "441a4b85",
   "metadata": {},
   "outputs": [
    {
     "name": "stdout",
     "output_type": "stream",
     "text": [
      "```\n",
      "Length of train set: 431\n",
      "Length of test set: 144\n",
      "Length of data set: 575\n",
      "```\n"
     ]
    }
   ],
   "source": [
    "X_train, X_test, y_train, y_test = create_train_and_test_sets(df_lag_classification, \n",
    "        x_cols=x_cols,\n",
    "        inference_col = ['change'],\n",
    "        test_size=0.25\n",
    ")"
   ]
  },
  {
   "cell_type": "markdown",
   "id": "b46b9651",
   "metadata": {},
   "source": [
    "# Normalization"
   ]
  },
  {
   "cell_type": "code",
   "execution_count": 13,
   "id": "1b991b7d",
   "metadata": {},
   "outputs": [],
   "source": [
    "from sklearn.preprocessing import StandardScaler"
   ]
  },
  {
   "cell_type": "code",
   "execution_count": 14,
   "id": "1f687b2f",
   "metadata": {},
   "outputs": [],
   "source": [
    "scaler = StandardScaler()\n",
    "X_train_scaled = scaler.fit_transform(X_train)\n",
    "X_test_scaled = scaler.transform(X_test)"
   ]
  },
  {
   "cell_type": "markdown",
   "id": "320b04c4",
   "metadata": {},
   "source": [
    "# Fit Models"
   ]
  },
  {
   "cell_type": "code",
   "execution_count": 15,
   "id": "2253475f",
   "metadata": {},
   "outputs": [],
   "source": [
    "best_score = 0\n",
    "best_model = None"
   ]
  },
  {
   "cell_type": "markdown",
   "id": "4ed02b2d",
   "metadata": {},
   "source": [
    "## MLR"
   ]
  },
  {
   "cell_type": "code",
   "execution_count": 16,
   "id": "25d47485",
   "metadata": {},
   "outputs": [],
   "source": [
    "from sklearn.linear_model import LinearRegression"
   ]
  },
  {
   "cell_type": "code",
   "execution_count": 17,
   "id": "275e2b48",
   "metadata": {},
   "outputs": [],
   "source": [
    "mlr = LinearRegression().fit(X_train_scaled, y_train)\n",
    "score = round(mlr.score(X_test_scaled, y_test), 3)"
   ]
  },
  {
   "cell_type": "code",
   "execution_count": 18,
   "id": "cea31bc0",
   "metadata": {},
   "outputs": [
    {
     "data": {
      "text/plain": [
       "0.017"
      ]
     },
     "execution_count": 18,
     "metadata": {},
     "output_type": "execute_result"
    }
   ],
   "source": [
    "if score > best_score:\n",
    "    best_score = score\n",
    "    best_model = mlr\n",
    "score"
   ]
  },
  {
   "cell_type": "markdown",
   "id": "c7818c70",
   "metadata": {},
   "source": [
    "## Random Forest Classifier"
   ]
  },
  {
   "cell_type": "code",
   "execution_count": 19,
   "id": "6ec012e7",
   "metadata": {},
   "outputs": [],
   "source": [
    "from sklearn.ensemble import RandomForestClassifier"
   ]
  },
  {
   "cell_type": "code",
   "execution_count": 20,
   "id": "9e3478d2",
   "metadata": {},
   "outputs": [],
   "source": [
    "start = 1\n",
    "stop = 15 + 1"
   ]
  },
  {
   "cell_type": "code",
   "execution_count": 21,
   "id": "084db49d",
   "metadata": {},
   "outputs": [
    {
     "name": "stderr",
     "output_type": "stream",
     "text": [
      "/Users/alexbishka/Documents/Projects/Fantasy/Analysis/nfldata/lib/python3.9/site-packages/sklearn/base.py:1152: DataConversionWarning: A column-vector y was passed when a 1d array was expected. Please change the shape of y to (n_samples,), for example using ravel().\n",
      "  return fit_method(estimator, *args, **kwargs)\n",
      "/Users/alexbishka/Documents/Projects/Fantasy/Analysis/nfldata/lib/python3.9/site-packages/sklearn/base.py:1152: DataConversionWarning: A column-vector y was passed when a 1d array was expected. Please change the shape of y to (n_samples,), for example using ravel().\n",
      "  return fit_method(estimator, *args, **kwargs)\n",
      "/Users/alexbishka/Documents/Projects/Fantasy/Analysis/nfldata/lib/python3.9/site-packages/sklearn/base.py:1152: DataConversionWarning: A column-vector y was passed when a 1d array was expected. Please change the shape of y to (n_samples,), for example using ravel().\n",
      "  return fit_method(estimator, *args, **kwargs)\n"
     ]
    },
    {
     "name": "stdout",
     "output_type": "stream",
     "text": [
      "New best score: 0.6319444444444444  |  depth: 1\n",
      "New best score: 0.6666666666666666  |  depth: 3\n"
     ]
    },
    {
     "name": "stderr",
     "output_type": "stream",
     "text": [
      "/Users/alexbishka/Documents/Projects/Fantasy/Analysis/nfldata/lib/python3.9/site-packages/sklearn/base.py:1152: DataConversionWarning: A column-vector y was passed when a 1d array was expected. Please change the shape of y to (n_samples,), for example using ravel().\n",
      "  return fit_method(estimator, *args, **kwargs)\n",
      "/Users/alexbishka/Documents/Projects/Fantasy/Analysis/nfldata/lib/python3.9/site-packages/sklearn/base.py:1152: DataConversionWarning: A column-vector y was passed when a 1d array was expected. Please change the shape of y to (n_samples,), for example using ravel().\n",
      "  return fit_method(estimator, *args, **kwargs)\n",
      "/Users/alexbishka/Documents/Projects/Fantasy/Analysis/nfldata/lib/python3.9/site-packages/sklearn/base.py:1152: DataConversionWarning: A column-vector y was passed when a 1d array was expected. Please change the shape of y to (n_samples,), for example using ravel().\n",
      "  return fit_method(estimator, *args, **kwargs)\n",
      "/Users/alexbishka/Documents/Projects/Fantasy/Analysis/nfldata/lib/python3.9/site-packages/sklearn/base.py:1152: DataConversionWarning: A column-vector y was passed when a 1d array was expected. Please change the shape of y to (n_samples,), for example using ravel().\n",
      "  return fit_method(estimator, *args, **kwargs)\n",
      "/Users/alexbishka/Documents/Projects/Fantasy/Analysis/nfldata/lib/python3.9/site-packages/sklearn/base.py:1152: DataConversionWarning: A column-vector y was passed when a 1d array was expected. Please change the shape of y to (n_samples,), for example using ravel().\n",
      "  return fit_method(estimator, *args, **kwargs)\n",
      "/Users/alexbishka/Documents/Projects/Fantasy/Analysis/nfldata/lib/python3.9/site-packages/sklearn/base.py:1152: DataConversionWarning: A column-vector y was passed when a 1d array was expected. Please change the shape of y to (n_samples,), for example using ravel().\n",
      "  return fit_method(estimator, *args, **kwargs)\n",
      "/Users/alexbishka/Documents/Projects/Fantasy/Analysis/nfldata/lib/python3.9/site-packages/sklearn/base.py:1152: DataConversionWarning: A column-vector y was passed when a 1d array was expected. Please change the shape of y to (n_samples,), for example using ravel().\n",
      "  return fit_method(estimator, *args, **kwargs)\n",
      "/Users/alexbishka/Documents/Projects/Fantasy/Analysis/nfldata/lib/python3.9/site-packages/sklearn/base.py:1152: DataConversionWarning: A column-vector y was passed when a 1d array was expected. Please change the shape of y to (n_samples,), for example using ravel().\n",
      "  return fit_method(estimator, *args, **kwargs)\n",
      "/Users/alexbishka/Documents/Projects/Fantasy/Analysis/nfldata/lib/python3.9/site-packages/sklearn/base.py:1152: DataConversionWarning: A column-vector y was passed when a 1d array was expected. Please change the shape of y to (n_samples,), for example using ravel().\n",
      "  return fit_method(estimator, *args, **kwargs)\n",
      "/Users/alexbishka/Documents/Projects/Fantasy/Analysis/nfldata/lib/python3.9/site-packages/sklearn/base.py:1152: DataConversionWarning: A column-vector y was passed when a 1d array was expected. Please change the shape of y to (n_samples,), for example using ravel().\n",
      "  return fit_method(estimator, *args, **kwargs)\n",
      "/Users/alexbishka/Documents/Projects/Fantasy/Analysis/nfldata/lib/python3.9/site-packages/sklearn/base.py:1152: DataConversionWarning: A column-vector y was passed when a 1d array was expected. Please change the shape of y to (n_samples,), for example using ravel().\n",
      "  return fit_method(estimator, *args, **kwargs)\n",
      "/Users/alexbishka/Documents/Projects/Fantasy/Analysis/nfldata/lib/python3.9/site-packages/sklearn/base.py:1152: DataConversionWarning: A column-vector y was passed when a 1d array was expected. Please change the shape of y to (n_samples,), for example using ravel().\n",
      "  return fit_method(estimator, *args, **kwargs)\n"
     ]
    },
    {
     "name": "stdout",
     "output_type": "stream",
     "text": [
      "\n",
      "Done :)\n"
     ]
    }
   ],
   "source": [
    "for depth in range(start, stop):\n",
    "    rfr = RandomForestClassifier(max_depth=depth, random_state=0)\n",
    "    rfr.fit(X_train_scaled, y_train)\n",
    "    \n",
    "    score = rfr.score(X_test_scaled, y_test)\n",
    "    if score > best_score:\n",
    "        print(f\"New best score: {score}  |  depth: {depth}\")\n",
    "        best_score = score\n",
    "        best_model = rfr\n",
    "        \n",
    "print(\"\\nDone :)\")"
   ]
  },
  {
   "cell_type": "markdown",
   "id": "d3ad5ded",
   "metadata": {},
   "source": [
    "## Gradient Boosting Machines"
   ]
  },
  {
   "cell_type": "code",
   "execution_count": 22,
   "id": "cea7a98f",
   "metadata": {},
   "outputs": [],
   "source": [
    "from sklearn.ensemble import GradientBoostingClassifier"
   ]
  },
  {
   "cell_type": "code",
   "execution_count": 23,
   "id": "dc033371",
   "metadata": {},
   "outputs": [],
   "source": [
    "gbm = GradientBoostingClassifier(random_state=0)"
   ]
  },
  {
   "cell_type": "code",
   "execution_count": 24,
   "id": "34924f54",
   "metadata": {},
   "outputs": [
    {
     "name": "stderr",
     "output_type": "stream",
     "text": [
      "/Users/alexbishka/Documents/Projects/Fantasy/Analysis/nfldata/lib/python3.9/site-packages/sklearn/ensemble/_gb.py:424: DataConversionWarning: A column-vector y was passed when a 1d array was expected. Please change the shape of y to (n_samples, ), for example using ravel().\n",
      "  y = column_or_1d(y, warn=True)\n"
     ]
    },
    {
     "data": {
      "text/html": [
       "<style>#sk-container-id-1 {color: black;}#sk-container-id-1 pre{padding: 0;}#sk-container-id-1 div.sk-toggleable {background-color: white;}#sk-container-id-1 label.sk-toggleable__label {cursor: pointer;display: block;width: 100%;margin-bottom: 0;padding: 0.3em;box-sizing: border-box;text-align: center;}#sk-container-id-1 label.sk-toggleable__label-arrow:before {content: \"▸\";float: left;margin-right: 0.25em;color: #696969;}#sk-container-id-1 label.sk-toggleable__label-arrow:hover:before {color: black;}#sk-container-id-1 div.sk-estimator:hover label.sk-toggleable__label-arrow:before {color: black;}#sk-container-id-1 div.sk-toggleable__content {max-height: 0;max-width: 0;overflow: hidden;text-align: left;background-color: #f0f8ff;}#sk-container-id-1 div.sk-toggleable__content pre {margin: 0.2em;color: black;border-radius: 0.25em;background-color: #f0f8ff;}#sk-container-id-1 input.sk-toggleable__control:checked~div.sk-toggleable__content {max-height: 200px;max-width: 100%;overflow: auto;}#sk-container-id-1 input.sk-toggleable__control:checked~label.sk-toggleable__label-arrow:before {content: \"▾\";}#sk-container-id-1 div.sk-estimator input.sk-toggleable__control:checked~label.sk-toggleable__label {background-color: #d4ebff;}#sk-container-id-1 div.sk-label input.sk-toggleable__control:checked~label.sk-toggleable__label {background-color: #d4ebff;}#sk-container-id-1 input.sk-hidden--visually {border: 0;clip: rect(1px 1px 1px 1px);clip: rect(1px, 1px, 1px, 1px);height: 1px;margin: -1px;overflow: hidden;padding: 0;position: absolute;width: 1px;}#sk-container-id-1 div.sk-estimator {font-family: monospace;background-color: #f0f8ff;border: 1px dotted black;border-radius: 0.25em;box-sizing: border-box;margin-bottom: 0.5em;}#sk-container-id-1 div.sk-estimator:hover {background-color: #d4ebff;}#sk-container-id-1 div.sk-parallel-item::after {content: \"\";width: 100%;border-bottom: 1px solid gray;flex-grow: 1;}#sk-container-id-1 div.sk-label:hover label.sk-toggleable__label {background-color: #d4ebff;}#sk-container-id-1 div.sk-serial::before {content: \"\";position: absolute;border-left: 1px solid gray;box-sizing: border-box;top: 0;bottom: 0;left: 50%;z-index: 0;}#sk-container-id-1 div.sk-serial {display: flex;flex-direction: column;align-items: center;background-color: white;padding-right: 0.2em;padding-left: 0.2em;position: relative;}#sk-container-id-1 div.sk-item {position: relative;z-index: 1;}#sk-container-id-1 div.sk-parallel {display: flex;align-items: stretch;justify-content: center;background-color: white;position: relative;}#sk-container-id-1 div.sk-item::before, #sk-container-id-1 div.sk-parallel-item::before {content: \"\";position: absolute;border-left: 1px solid gray;box-sizing: border-box;top: 0;bottom: 0;left: 50%;z-index: -1;}#sk-container-id-1 div.sk-parallel-item {display: flex;flex-direction: column;z-index: 1;position: relative;background-color: white;}#sk-container-id-1 div.sk-parallel-item:first-child::after {align-self: flex-end;width: 50%;}#sk-container-id-1 div.sk-parallel-item:last-child::after {align-self: flex-start;width: 50%;}#sk-container-id-1 div.sk-parallel-item:only-child::after {width: 0;}#sk-container-id-1 div.sk-dashed-wrapped {border: 1px dashed gray;margin: 0 0.4em 0.5em 0.4em;box-sizing: border-box;padding-bottom: 0.4em;background-color: white;}#sk-container-id-1 div.sk-label label {font-family: monospace;font-weight: bold;display: inline-block;line-height: 1.2em;}#sk-container-id-1 div.sk-label-container {text-align: center;}#sk-container-id-1 div.sk-container {/* jupyter's `normalize.less` sets `[hidden] { display: none; }` but bootstrap.min.css set `[hidden] { display: none !important; }` so we also need the `!important` here to be able to override the default hidden behavior on the sphinx rendered scikit-learn.org. See: https://github.com/scikit-learn/scikit-learn/issues/21755 */display: inline-block !important;position: relative;}#sk-container-id-1 div.sk-text-repr-fallback {display: none;}</style><div id=\"sk-container-id-1\" class=\"sk-top-container\"><div class=\"sk-text-repr-fallback\"><pre>GradientBoostingClassifier(random_state=0)</pre><b>In a Jupyter environment, please rerun this cell to show the HTML representation or trust the notebook. <br />On GitHub, the HTML representation is unable to render, please try loading this page with nbviewer.org.</b></div><div class=\"sk-container\" hidden><div class=\"sk-item\"><div class=\"sk-estimator sk-toggleable\"><input class=\"sk-toggleable__control sk-hidden--visually\" id=\"sk-estimator-id-1\" type=\"checkbox\" checked><label for=\"sk-estimator-id-1\" class=\"sk-toggleable__label sk-toggleable__label-arrow\">GradientBoostingClassifier</label><div class=\"sk-toggleable__content\"><pre>GradientBoostingClassifier(random_state=0)</pre></div></div></div></div></div>"
      ],
      "text/plain": [
       "GradientBoostingClassifier(random_state=0)"
      ]
     },
     "execution_count": 24,
     "metadata": {},
     "output_type": "execute_result"
    }
   ],
   "source": [
    "gbm.fit(X_train_scaled, y_train)"
   ]
  },
  {
   "cell_type": "code",
   "execution_count": 25,
   "id": "df90fd9a",
   "metadata": {},
   "outputs": [],
   "source": [
    "score = gbm.score(X_test_scaled, y_test)"
   ]
  },
  {
   "cell_type": "code",
   "execution_count": 26,
   "id": "b8781541",
   "metadata": {},
   "outputs": [
    {
     "data": {
      "text/plain": [
       "0.5833333333333334"
      ]
     },
     "execution_count": 26,
     "metadata": {},
     "output_type": "execute_result"
    }
   ],
   "source": [
    "if score > best_score:\n",
    "    best_score = score\n",
    "    best_model = gbm\n",
    "score"
   ]
  },
  {
   "cell_type": "markdown",
   "id": "53c19835",
   "metadata": {},
   "source": [
    "## Neural Net"
   ]
  },
  {
   "cell_type": "code",
   "execution_count": 27,
   "id": "c4b14177",
   "metadata": {},
   "outputs": [],
   "source": [
    "from sklearn.neural_network import MLPClassifier"
   ]
  },
  {
   "cell_type": "code",
   "execution_count": 28,
   "id": "8302cfc3",
   "metadata": {},
   "outputs": [
    {
     "name": "stderr",
     "output_type": "stream",
     "text": [
      "/Users/alexbishka/Documents/Projects/Fantasy/Analysis/nfldata/lib/python3.9/site-packages/sklearn/neural_network/_multilayer_perceptron.py:1102: DataConversionWarning: A column-vector y was passed when a 1d array was expected. Please change the shape of y to (n_samples, ), for example using ravel().\n",
      "  y = column_or_1d(y, warn=True)\n"
     ]
    }
   ],
   "source": [
    "nn = MLPClassifier(random_state=1,\n",
    "                    hidden_layer_sizes=[10, 10, 10],\n",
    "                    max_iter=5000).fit(X_train_scaled, y_train)"
   ]
  },
  {
   "cell_type": "code",
   "execution_count": 29,
   "id": "d5a1eda2",
   "metadata": {},
   "outputs": [],
   "source": [
    "score = nn.score(X_test_scaled, y_test)"
   ]
  },
  {
   "cell_type": "code",
   "execution_count": 30,
   "id": "5a0e84c9",
   "metadata": {},
   "outputs": [
    {
     "data": {
      "text/plain": [
       "0.5347222222222222"
      ]
     },
     "execution_count": 30,
     "metadata": {},
     "output_type": "execute_result"
    }
   ],
   "source": [
    "if score > best_score:\n",
    "    best_score = score\n",
    "    best_model = nn\n",
    "score"
   ]
  },
  {
   "cell_type": "markdown",
   "id": "5320fb5a",
   "metadata": {},
   "source": [
    "### Best Score and Model"
   ]
  },
  {
   "cell_type": "code",
   "execution_count": 31,
   "id": "9e1d01cc",
   "metadata": {},
   "outputs": [
    {
     "data": {
      "text/html": [
       "<style>#sk-container-id-2 {color: black;}#sk-container-id-2 pre{padding: 0;}#sk-container-id-2 div.sk-toggleable {background-color: white;}#sk-container-id-2 label.sk-toggleable__label {cursor: pointer;display: block;width: 100%;margin-bottom: 0;padding: 0.3em;box-sizing: border-box;text-align: center;}#sk-container-id-2 label.sk-toggleable__label-arrow:before {content: \"▸\";float: left;margin-right: 0.25em;color: #696969;}#sk-container-id-2 label.sk-toggleable__label-arrow:hover:before {color: black;}#sk-container-id-2 div.sk-estimator:hover label.sk-toggleable__label-arrow:before {color: black;}#sk-container-id-2 div.sk-toggleable__content {max-height: 0;max-width: 0;overflow: hidden;text-align: left;background-color: #f0f8ff;}#sk-container-id-2 div.sk-toggleable__content pre {margin: 0.2em;color: black;border-radius: 0.25em;background-color: #f0f8ff;}#sk-container-id-2 input.sk-toggleable__control:checked~div.sk-toggleable__content {max-height: 200px;max-width: 100%;overflow: auto;}#sk-container-id-2 input.sk-toggleable__control:checked~label.sk-toggleable__label-arrow:before {content: \"▾\";}#sk-container-id-2 div.sk-estimator input.sk-toggleable__control:checked~label.sk-toggleable__label {background-color: #d4ebff;}#sk-container-id-2 div.sk-label input.sk-toggleable__control:checked~label.sk-toggleable__label {background-color: #d4ebff;}#sk-container-id-2 input.sk-hidden--visually {border: 0;clip: rect(1px 1px 1px 1px);clip: rect(1px, 1px, 1px, 1px);height: 1px;margin: -1px;overflow: hidden;padding: 0;position: absolute;width: 1px;}#sk-container-id-2 div.sk-estimator {font-family: monospace;background-color: #f0f8ff;border: 1px dotted black;border-radius: 0.25em;box-sizing: border-box;margin-bottom: 0.5em;}#sk-container-id-2 div.sk-estimator:hover {background-color: #d4ebff;}#sk-container-id-2 div.sk-parallel-item::after {content: \"\";width: 100%;border-bottom: 1px solid gray;flex-grow: 1;}#sk-container-id-2 div.sk-label:hover label.sk-toggleable__label {background-color: #d4ebff;}#sk-container-id-2 div.sk-serial::before {content: \"\";position: absolute;border-left: 1px solid gray;box-sizing: border-box;top: 0;bottom: 0;left: 50%;z-index: 0;}#sk-container-id-2 div.sk-serial {display: flex;flex-direction: column;align-items: center;background-color: white;padding-right: 0.2em;padding-left: 0.2em;position: relative;}#sk-container-id-2 div.sk-item {position: relative;z-index: 1;}#sk-container-id-2 div.sk-parallel {display: flex;align-items: stretch;justify-content: center;background-color: white;position: relative;}#sk-container-id-2 div.sk-item::before, #sk-container-id-2 div.sk-parallel-item::before {content: \"\";position: absolute;border-left: 1px solid gray;box-sizing: border-box;top: 0;bottom: 0;left: 50%;z-index: -1;}#sk-container-id-2 div.sk-parallel-item {display: flex;flex-direction: column;z-index: 1;position: relative;background-color: white;}#sk-container-id-2 div.sk-parallel-item:first-child::after {align-self: flex-end;width: 50%;}#sk-container-id-2 div.sk-parallel-item:last-child::after {align-self: flex-start;width: 50%;}#sk-container-id-2 div.sk-parallel-item:only-child::after {width: 0;}#sk-container-id-2 div.sk-dashed-wrapped {border: 1px dashed gray;margin: 0 0.4em 0.5em 0.4em;box-sizing: border-box;padding-bottom: 0.4em;background-color: white;}#sk-container-id-2 div.sk-label label {font-family: monospace;font-weight: bold;display: inline-block;line-height: 1.2em;}#sk-container-id-2 div.sk-label-container {text-align: center;}#sk-container-id-2 div.sk-container {/* jupyter's `normalize.less` sets `[hidden] { display: none; }` but bootstrap.min.css set `[hidden] { display: none !important; }` so we also need the `!important` here to be able to override the default hidden behavior on the sphinx rendered scikit-learn.org. See: https://github.com/scikit-learn/scikit-learn/issues/21755 */display: inline-block !important;position: relative;}#sk-container-id-2 div.sk-text-repr-fallback {display: none;}</style><div id=\"sk-container-id-2\" class=\"sk-top-container\"><div class=\"sk-text-repr-fallback\"><pre>RandomForestClassifier(max_depth=3, random_state=0)</pre><b>In a Jupyter environment, please rerun this cell to show the HTML representation or trust the notebook. <br />On GitHub, the HTML representation is unable to render, please try loading this page with nbviewer.org.</b></div><div class=\"sk-container\" hidden><div class=\"sk-item\"><div class=\"sk-estimator sk-toggleable\"><input class=\"sk-toggleable__control sk-hidden--visually\" id=\"sk-estimator-id-2\" type=\"checkbox\" checked><label for=\"sk-estimator-id-2\" class=\"sk-toggleable__label sk-toggleable__label-arrow\">RandomForestClassifier</label><div class=\"sk-toggleable__content\"><pre>RandomForestClassifier(max_depth=3, random_state=0)</pre></div></div></div></div></div>"
      ],
      "text/plain": [
       "RandomForestClassifier(max_depth=3, random_state=0)"
      ]
     },
     "execution_count": 31,
     "metadata": {},
     "output_type": "execute_result"
    }
   ],
   "source": [
    "best_model"
   ]
  },
  {
   "cell_type": "code",
   "execution_count": 32,
   "id": "40f10031",
   "metadata": {},
   "outputs": [
    {
     "data": {
      "text/plain": [
       "0.6666666666666666"
      ]
     },
     "execution_count": 32,
     "metadata": {},
     "output_type": "execute_result"
    }
   ],
   "source": [
    "best_score"
   ]
  },
  {
   "cell_type": "markdown",
   "id": "244d22b8",
   "metadata": {},
   "source": [
    "# Projecting 2023"
   ]
  },
  {
   "cell_type": "code",
   "execution_count": 33,
   "id": "cfb07ff5",
   "metadata": {},
   "outputs": [],
   "source": [
    "df_2023 = pd.read_pickle(\"./wr-simple-data-2023-qbr.pkl\")"
   ]
  },
  {
   "cell_type": "code",
   "execution_count": 34,
   "id": "4f6a3760",
   "metadata": {},
   "outputs": [],
   "source": [
    "games = df_2023[\"games\"]\n",
    "df_2023[\"receiving_yards_after_catch_per_game\"] = df_2023[\"receiving_yards_after_catch\"] / games\n",
    "df_2023[\"receiving_air_yards_per_game\"] = df_2023[\"receiving_air_yards\"] / games\n",
    "df_2023[\"fantasy_points_per_game\"] = df_2023[\"fantasy_points\"] / games\n",
    "df_2023[\"capital\"] = ((df_2023[\"round\"] - 1) * 32) + df_2023[\"pick\"]\n",
    "df_2023[\"receiving_yards_per_game\"] = df_2023[\"receiving_yards\"] / games\n",
    "df_2023[\"targets_per_game\"] = df_2023[\"targets\"] / games"
   ]
  },
  {
   "cell_type": "code",
   "execution_count": 43,
   "id": "261c94a7",
   "metadata": {},
   "outputs": [],
   "source": [
    "def compare_model_to_current_year(df, df_current, player_name, model, x_cols):\n",
    "    df_last = df.copy().query(\"season == 2022\")\n",
    "    \n",
    "    print(x_cols)\n",
    "    print()\n",
    "    \n",
    "    cols_to_check = list(set(['player_name'] + [col.replace(\"_last\", \"\") for col in x_cols]))\n",
    "    player_row_22 = df_last[cols_to_check] \\\n",
    "        .query(f\"player_name == '{player_name}'\")\n",
    "    \n",
    "    print()\n",
    "    print(cols_to_check)\n",
    "    print()\n",
    "    \n",
    "    if \"age\" in cols_to_check:\n",
    "        player_row_22['age'] += 1\n",
    "    \n",
    "    rename_cols = {}\n",
    "    for col in list(player_row_22.columns):\n",
    "        if col != \"age\" and col != \"round\" and col != \"capital\":\n",
    "            rename_cols[col] = f\"{col}_last\"\n",
    "        \n",
    "    player_row_22.rename(columns=rename_cols, inplace=True)\n",
    "    \n",
    "    if \"capital\" in cols_to_check:\n",
    "        col_index = player_row_22.columns.get_loc(\"capital\") + 1\n",
    "        depth_team_current = df_current.query(f\"player_name == \\\"{player_name}\\\"\")[\"depth_team\"].iloc[0]\n",
    "        player_row_22.insert(loc=col_index, column=\"depth_team\", value=depth_team_current)\n",
    "\n",
    "    transform_cols = list(player_row_22.columns)[1:]\n",
    "    \n",
    "    print()\n",
    "    print(transform_cols)\n",
    "    print()\n",
    "    \n",
    "    sample = scaler.transform(player_row_22[transform_cols])\n",
    "    \n",
    "    previous_fp = df_last.query(f\"season == 2022 and player_name == \\\"{player_name}\\\"\")[\"fantasy_points\"].iloc[0]\n",
    "    current_fp = df_current.query(f\"player_name == \\\"{player_name}\\\"\")[\"fantasy_points\"].iloc[0]\n",
    "    \n",
    "    answer = current_fp - previous_fp\n",
    "    prediction = model.predict(sample)[0]\n",
    "    \n",
    "#     print(\"```\")\n",
    "#     print(f\"Previous fantasy points: {previous_fp}\")\n",
    "#     print(f\"Current fantasy points: {current_fp}\")\n",
    "#     print(f\"Difference (p - a): {answer}\")\n",
    "#     print(f\"Prediction: {prediction}\")\n",
    "#     print(\"```\")\n",
    "    \n",
    "    return prediction, answer"
   ]
  },
  {
   "cell_type": "code",
   "execution_count": 44,
   "id": "94a83ab7",
   "metadata": {},
   "outputs": [
    {
     "name": "stdout",
     "output_type": "stream",
     "text": [
      "['receiving_yards_after_catch_per_game_last', 'receiving_air_yards_per_game_last', 'tgt_sh_last', 'age', 'qbr_last', 'capital', 'depth_team', 'depth_team_last', 'w8dom_last', 'wopr_x_last', 'ppr_sh_last', 'dom_last', 'receiving_yards_per_game_last', 'targets_per_game_last', 'ay_sh_last', 'ry_sh_last']\n",
      "\n",
      "\n",
      "['capital', 'depth_team', 'ppr_sh', 'qbr', 'wopr_x', 'ay_sh', 'w8dom', 'player_name', 'receiving_yards_per_game', 'ry_sh', 'receiving_yards_after_catch_per_game', 'age', 'tgt_sh', 'dom', 'targets_per_game', 'receiving_air_yards_per_game']\n",
      "\n",
      "\n",
      "['depth_team', 'depth_team_last', 'ppr_sh_last', 'qbr_last', 'wopr_x_last', 'ay_sh_last', 'w8dom_last', 'player_name_last', 'receiving_yards_per_game_last', 'ry_sh_last', 'receiving_yards_after_catch_per_game_last', 'age', 'tgt_sh_last', 'dom_last', 'targets_per_game_last', 'receiving_air_yards_per_game_last']\n",
      "\n"
     ]
    },
    {
     "ename": "ValueError",
     "evalue": "The feature names should match those that were passed during fit.\nFeature names unseen at fit time:\n- player_name_last\nFeature names seen at fit time, yet now missing:\n- capital\n",
     "output_type": "error",
     "traceback": [
      "\u001b[0;31m---------------------------------------------------------------------------\u001b[0m",
      "\u001b[0;31mValueError\u001b[0m                                Traceback (most recent call last)",
      "Cell \u001b[0;32mIn[44], line 9\u001b[0m\n\u001b[1;32m      6\u001b[0m player_name \u001b[38;5;241m=\u001b[39m name\n\u001b[1;32m      8\u001b[0m \u001b[38;5;28;01mif\u001b[39;00m \u001b[38;5;129;01mnot\u001b[39;00m df_2023\u001b[38;5;241m.\u001b[39mquery(\u001b[38;5;124mf\u001b[39m\u001b[38;5;124m\"\u001b[39m\u001b[38;5;124mplayer_name == \u001b[39m\u001b[38;5;124m'\u001b[39m\u001b[38;5;132;01m{\u001b[39;00mplayer_name\u001b[38;5;132;01m}\u001b[39;00m\u001b[38;5;124m'\u001b[39m\u001b[38;5;124m and games >= 8\u001b[39m\u001b[38;5;124m\"\u001b[39m)\u001b[38;5;241m.\u001b[39mempty:\n\u001b[0;32m----> 9\u001b[0m     prediction, answer \u001b[38;5;241m=\u001b[39m \u001b[43mcompare_model_to_current_year\u001b[49m\u001b[43m(\u001b[49m\u001b[43mdf_wr\u001b[49m\u001b[43m,\u001b[49m\u001b[43m \u001b[49m\u001b[43mdf_2023\u001b[49m\u001b[43m,\u001b[49m\u001b[43m \u001b[49m\u001b[43mplayer_name\u001b[49m\u001b[43m,\u001b[49m\u001b[43m \u001b[49m\u001b[43mmodel\u001b[49m\u001b[43m,\u001b[49m\u001b[43m \u001b[49m\u001b[43mx_cols\u001b[49m\u001b[43m)\u001b[49m\n\u001b[1;32m     11\u001b[0m     \u001b[38;5;28;01mif\u001b[39;00m answer \u001b[38;5;241m<\u001b[39m \u001b[38;5;241m0\u001b[39m:\n\u001b[1;32m     12\u001b[0m         answer \u001b[38;5;241m=\u001b[39m \u001b[38;5;241m-\u001b[39m\u001b[38;5;241m1\u001b[39m\n",
      "Cell \u001b[0;32mIn[43], line 36\u001b[0m, in \u001b[0;36mcompare_model_to_current_year\u001b[0;34m(df, df_current, player_name, model, x_cols)\u001b[0m\n\u001b[1;32m     33\u001b[0m \u001b[38;5;28mprint\u001b[39m(transform_cols)\n\u001b[1;32m     34\u001b[0m \u001b[38;5;28mprint\u001b[39m()\n\u001b[0;32m---> 36\u001b[0m sample \u001b[38;5;241m=\u001b[39m \u001b[43mscaler\u001b[49m\u001b[38;5;241;43m.\u001b[39;49m\u001b[43mtransform\u001b[49m\u001b[43m(\u001b[49m\u001b[43mplayer_row_22\u001b[49m\u001b[43m[\u001b[49m\u001b[43mtransform_cols\u001b[49m\u001b[43m]\u001b[49m\u001b[43m)\u001b[49m\n\u001b[1;32m     38\u001b[0m previous_fp \u001b[38;5;241m=\u001b[39m df_last\u001b[38;5;241m.\u001b[39mquery(\u001b[38;5;124mf\u001b[39m\u001b[38;5;124m\"\u001b[39m\u001b[38;5;124mseason == 2022 and player_name == \u001b[39m\u001b[38;5;130;01m\\\"\u001b[39;00m\u001b[38;5;132;01m{\u001b[39;00mplayer_name\u001b[38;5;132;01m}\u001b[39;00m\u001b[38;5;130;01m\\\"\u001b[39;00m\u001b[38;5;124m\"\u001b[39m)[\u001b[38;5;124m\"\u001b[39m\u001b[38;5;124mfantasy_points\u001b[39m\u001b[38;5;124m\"\u001b[39m]\u001b[38;5;241m.\u001b[39miloc[\u001b[38;5;241m0\u001b[39m]\n\u001b[1;32m     39\u001b[0m current_fp \u001b[38;5;241m=\u001b[39m df_current\u001b[38;5;241m.\u001b[39mquery(\u001b[38;5;124mf\u001b[39m\u001b[38;5;124m\"\u001b[39m\u001b[38;5;124mplayer_name == \u001b[39m\u001b[38;5;130;01m\\\"\u001b[39;00m\u001b[38;5;132;01m{\u001b[39;00mplayer_name\u001b[38;5;132;01m}\u001b[39;00m\u001b[38;5;130;01m\\\"\u001b[39;00m\u001b[38;5;124m\"\u001b[39m)[\u001b[38;5;124m\"\u001b[39m\u001b[38;5;124mfantasy_points\u001b[39m\u001b[38;5;124m\"\u001b[39m]\u001b[38;5;241m.\u001b[39miloc[\u001b[38;5;241m0\u001b[39m]\n",
      "File \u001b[0;32m~/Documents/Projects/Fantasy/Analysis/nfldata/lib/python3.9/site-packages/sklearn/utils/_set_output.py:157\u001b[0m, in \u001b[0;36m_wrap_method_output.<locals>.wrapped\u001b[0;34m(self, X, *args, **kwargs)\u001b[0m\n\u001b[1;32m    155\u001b[0m \u001b[38;5;129m@wraps\u001b[39m(f)\n\u001b[1;32m    156\u001b[0m \u001b[38;5;28;01mdef\u001b[39;00m \u001b[38;5;21mwrapped\u001b[39m(\u001b[38;5;28mself\u001b[39m, X, \u001b[38;5;241m*\u001b[39margs, \u001b[38;5;241m*\u001b[39m\u001b[38;5;241m*\u001b[39mkwargs):\n\u001b[0;32m--> 157\u001b[0m     data_to_wrap \u001b[38;5;241m=\u001b[39m \u001b[43mf\u001b[49m\u001b[43m(\u001b[49m\u001b[38;5;28;43mself\u001b[39;49m\u001b[43m,\u001b[49m\u001b[43m \u001b[49m\u001b[43mX\u001b[49m\u001b[43m,\u001b[49m\u001b[43m \u001b[49m\u001b[38;5;241;43m*\u001b[39;49m\u001b[43margs\u001b[49m\u001b[43m,\u001b[49m\u001b[43m \u001b[49m\u001b[38;5;241;43m*\u001b[39;49m\u001b[38;5;241;43m*\u001b[39;49m\u001b[43mkwargs\u001b[49m\u001b[43m)\u001b[49m\n\u001b[1;32m    158\u001b[0m     \u001b[38;5;28;01mif\u001b[39;00m \u001b[38;5;28misinstance\u001b[39m(data_to_wrap, \u001b[38;5;28mtuple\u001b[39m):\n\u001b[1;32m    159\u001b[0m         \u001b[38;5;66;03m# only wrap the first output for cross decomposition\u001b[39;00m\n\u001b[1;32m    160\u001b[0m         return_tuple \u001b[38;5;241m=\u001b[39m (\n\u001b[1;32m    161\u001b[0m             _wrap_data_with_container(method, data_to_wrap[\u001b[38;5;241m0\u001b[39m], X, \u001b[38;5;28mself\u001b[39m),\n\u001b[1;32m    162\u001b[0m             \u001b[38;5;241m*\u001b[39mdata_to_wrap[\u001b[38;5;241m1\u001b[39m:],\n\u001b[1;32m    163\u001b[0m         )\n",
      "File \u001b[0;32m~/Documents/Projects/Fantasy/Analysis/nfldata/lib/python3.9/site-packages/sklearn/preprocessing/_data.py:1006\u001b[0m, in \u001b[0;36mStandardScaler.transform\u001b[0;34m(self, X, copy)\u001b[0m\n\u001b[1;32m   1003\u001b[0m check_is_fitted(\u001b[38;5;28mself\u001b[39m)\n\u001b[1;32m   1005\u001b[0m copy \u001b[38;5;241m=\u001b[39m copy \u001b[38;5;28;01mif\u001b[39;00m copy \u001b[38;5;129;01mis\u001b[39;00m \u001b[38;5;129;01mnot\u001b[39;00m \u001b[38;5;28;01mNone\u001b[39;00m \u001b[38;5;28;01melse\u001b[39;00m \u001b[38;5;28mself\u001b[39m\u001b[38;5;241m.\u001b[39mcopy\n\u001b[0;32m-> 1006\u001b[0m X \u001b[38;5;241m=\u001b[39m \u001b[38;5;28;43mself\u001b[39;49m\u001b[38;5;241;43m.\u001b[39;49m\u001b[43m_validate_data\u001b[49m\u001b[43m(\u001b[49m\n\u001b[1;32m   1007\u001b[0m \u001b[43m    \u001b[49m\u001b[43mX\u001b[49m\u001b[43m,\u001b[49m\n\u001b[1;32m   1008\u001b[0m \u001b[43m    \u001b[49m\u001b[43mreset\u001b[49m\u001b[38;5;241;43m=\u001b[39;49m\u001b[38;5;28;43;01mFalse\u001b[39;49;00m\u001b[43m,\u001b[49m\n\u001b[1;32m   1009\u001b[0m \u001b[43m    \u001b[49m\u001b[43maccept_sparse\u001b[49m\u001b[38;5;241;43m=\u001b[39;49m\u001b[38;5;124;43m\"\u001b[39;49m\u001b[38;5;124;43mcsr\u001b[39;49m\u001b[38;5;124;43m\"\u001b[39;49m\u001b[43m,\u001b[49m\n\u001b[1;32m   1010\u001b[0m \u001b[43m    \u001b[49m\u001b[43mcopy\u001b[49m\u001b[38;5;241;43m=\u001b[39;49m\u001b[43mcopy\u001b[49m\u001b[43m,\u001b[49m\n\u001b[1;32m   1011\u001b[0m \u001b[43m    \u001b[49m\u001b[43mdtype\u001b[49m\u001b[38;5;241;43m=\u001b[39;49m\u001b[43mFLOAT_DTYPES\u001b[49m\u001b[43m,\u001b[49m\n\u001b[1;32m   1012\u001b[0m \u001b[43m    \u001b[49m\u001b[43mforce_all_finite\u001b[49m\u001b[38;5;241;43m=\u001b[39;49m\u001b[38;5;124;43m\"\u001b[39;49m\u001b[38;5;124;43mallow-nan\u001b[39;49m\u001b[38;5;124;43m\"\u001b[39;49m\u001b[43m,\u001b[49m\n\u001b[1;32m   1013\u001b[0m \u001b[43m\u001b[49m\u001b[43m)\u001b[49m\n\u001b[1;32m   1015\u001b[0m \u001b[38;5;28;01mif\u001b[39;00m sparse\u001b[38;5;241m.\u001b[39missparse(X):\n\u001b[1;32m   1016\u001b[0m     \u001b[38;5;28;01mif\u001b[39;00m \u001b[38;5;28mself\u001b[39m\u001b[38;5;241m.\u001b[39mwith_mean:\n",
      "File \u001b[0;32m~/Documents/Projects/Fantasy/Analysis/nfldata/lib/python3.9/site-packages/sklearn/base.py:580\u001b[0m, in \u001b[0;36mBaseEstimator._validate_data\u001b[0;34m(self, X, y, reset, validate_separately, cast_to_ndarray, **check_params)\u001b[0m\n\u001b[1;32m    509\u001b[0m \u001b[38;5;28;01mdef\u001b[39;00m \u001b[38;5;21m_validate_data\u001b[39m(\n\u001b[1;32m    510\u001b[0m     \u001b[38;5;28mself\u001b[39m,\n\u001b[1;32m    511\u001b[0m     X\u001b[38;5;241m=\u001b[39m\u001b[38;5;124m\"\u001b[39m\u001b[38;5;124mno_validation\u001b[39m\u001b[38;5;124m\"\u001b[39m,\n\u001b[0;32m   (...)\u001b[0m\n\u001b[1;32m    516\u001b[0m     \u001b[38;5;241m*\u001b[39m\u001b[38;5;241m*\u001b[39mcheck_params,\n\u001b[1;32m    517\u001b[0m ):\n\u001b[1;32m    518\u001b[0m \u001b[38;5;250m    \u001b[39m\u001b[38;5;124;03m\"\"\"Validate input data and set or check the `n_features_in_` attribute.\u001b[39;00m\n\u001b[1;32m    519\u001b[0m \n\u001b[1;32m    520\u001b[0m \u001b[38;5;124;03m    Parameters\u001b[39;00m\n\u001b[0;32m   (...)\u001b[0m\n\u001b[1;32m    578\u001b[0m \u001b[38;5;124;03m        validated.\u001b[39;00m\n\u001b[1;32m    579\u001b[0m \u001b[38;5;124;03m    \"\"\"\u001b[39;00m\n\u001b[0;32m--> 580\u001b[0m     \u001b[38;5;28;43mself\u001b[39;49m\u001b[38;5;241;43m.\u001b[39;49m\u001b[43m_check_feature_names\u001b[49m\u001b[43m(\u001b[49m\u001b[43mX\u001b[49m\u001b[43m,\u001b[49m\u001b[43m \u001b[49m\u001b[43mreset\u001b[49m\u001b[38;5;241;43m=\u001b[39;49m\u001b[43mreset\u001b[49m\u001b[43m)\u001b[49m\n\u001b[1;32m    582\u001b[0m     \u001b[38;5;28;01mif\u001b[39;00m y \u001b[38;5;129;01mis\u001b[39;00m \u001b[38;5;28;01mNone\u001b[39;00m \u001b[38;5;129;01mand\u001b[39;00m \u001b[38;5;28mself\u001b[39m\u001b[38;5;241m.\u001b[39m_get_tags()[\u001b[38;5;124m\"\u001b[39m\u001b[38;5;124mrequires_y\u001b[39m\u001b[38;5;124m\"\u001b[39m]:\n\u001b[1;32m    583\u001b[0m         \u001b[38;5;28;01mraise\u001b[39;00m \u001b[38;5;167;01mValueError\u001b[39;00m(\n\u001b[1;32m    584\u001b[0m             \u001b[38;5;124mf\u001b[39m\u001b[38;5;124m\"\u001b[39m\u001b[38;5;124mThis \u001b[39m\u001b[38;5;132;01m{\u001b[39;00m\u001b[38;5;28mself\u001b[39m\u001b[38;5;241m.\u001b[39m\u001b[38;5;18m__class__\u001b[39m\u001b[38;5;241m.\u001b[39m\u001b[38;5;18m__name__\u001b[39m\u001b[38;5;132;01m}\u001b[39;00m\u001b[38;5;124m estimator \u001b[39m\u001b[38;5;124m\"\u001b[39m\n\u001b[1;32m    585\u001b[0m             \u001b[38;5;124m\"\u001b[39m\u001b[38;5;124mrequires y to be passed, but the target y is None.\u001b[39m\u001b[38;5;124m\"\u001b[39m\n\u001b[1;32m    586\u001b[0m         )\n",
      "File \u001b[0;32m~/Documents/Projects/Fantasy/Analysis/nfldata/lib/python3.9/site-packages/sklearn/base.py:507\u001b[0m, in \u001b[0;36mBaseEstimator._check_feature_names\u001b[0;34m(self, X, reset)\u001b[0m\n\u001b[1;32m    502\u001b[0m \u001b[38;5;28;01mif\u001b[39;00m \u001b[38;5;129;01mnot\u001b[39;00m missing_names \u001b[38;5;129;01mand\u001b[39;00m \u001b[38;5;129;01mnot\u001b[39;00m unexpected_names:\n\u001b[1;32m    503\u001b[0m     message \u001b[38;5;241m+\u001b[39m\u001b[38;5;241m=\u001b[39m (\n\u001b[1;32m    504\u001b[0m         \u001b[38;5;124m\"\u001b[39m\u001b[38;5;124mFeature names must be in the same order as they were in fit.\u001b[39m\u001b[38;5;130;01m\\n\u001b[39;00m\u001b[38;5;124m\"\u001b[39m\n\u001b[1;32m    505\u001b[0m     )\n\u001b[0;32m--> 507\u001b[0m \u001b[38;5;28;01mraise\u001b[39;00m \u001b[38;5;167;01mValueError\u001b[39;00m(message)\n",
      "\u001b[0;31mValueError\u001b[0m: The feature names should match those that were passed during fit.\nFeature names unseen at fit time:\n- player_name_last\nFeature names seen at fit time, yet now missing:\n- capital\n"
     ]
    }
   ],
   "source": [
    "correct = []\n",
    "incorrect = []\n",
    "model = best_model\n",
    "for name in df_wr.query(\"season == 2022 and games >= 10\")[\"player_name\"]:\n",
    "    if name in df_2023[\"player_name\"].values and name != \"Ja'Marr Chase\":\n",
    "        player_name = name\n",
    "        \n",
    "        if not df_2023.query(f\"player_name == '{player_name}' and games >= 8\").empty:\n",
    "            prediction, answer = compare_model_to_current_year(df_wr, df_2023, player_name, model, x_cols)\n",
    "\n",
    "            if answer < 0:\n",
    "                answer = -1\n",
    "            elif answer == 0:\n",
    "                answer = 0\n",
    "            elif answer > 0:\n",
    "                answer = 1\n",
    "\n",
    "            if answer == prediction:\n",
    "                correct.append((name, answer, prediction))\n",
    "            else:\n",
    "                incorrect.append((name, answer, prediction))"
   ]
  },
  {
   "cell_type": "code",
   "execution_count": null,
   "id": "d2c84505",
   "metadata": {},
   "outputs": [],
   "source": [
    "print(len(correct), len(incorrect), round(len(correct) / (len(incorrect) + len(correct)) * 100, 2))"
   ]
  },
  {
   "cell_type": "code",
   "execution_count": null,
   "id": "2eb473b4",
   "metadata": {},
   "outputs": [],
   "source": [
    "df_correct = pd.DataFrame(columns=['Name', 'Age', 'Answer', 'Prediction', 'QBR'])\n",
    "for name, answer, pred in correct:\n",
    "    if ((answer + 1) != pred) or ((answer - 1) != pred):\n",
    "        info = df_2023.query(f\"player_name == '{name}'\")\n",
    "        \n",
    "        games = info[\"games\"].iloc[0]\n",
    "        fantasy_points = info[\"fantasy_points\"].iloc[0]\n",
    "        if games >= 8 and fantasy_points >= 50:\n",
    "            qbr = round(info[\"qbr\"].iloc[0], 2)\n",
    "            age = info[\"age\"].iloc[0]\n",
    "            \n",
    "            row = (name, age, answer, pred, qbr)\n",
    "            row_df = pd.DataFrame([row], columns=df_correct.columns)\n",
    "            df_correct = pd.concat([df_correct, row_df], ignore_index=True)"
   ]
  },
  {
   "cell_type": "code",
   "execution_count": null,
   "id": "b2548b43",
   "metadata": {},
   "outputs": [],
   "source": [
    "df_incorrect = pd.DataFrame(columns=['Name', 'Age', 'Answer', 'Prediction', 'QBR'])\n",
    "for name, answer, pred in incorrect:\n",
    "    if ((answer + 1) != pred) or ((answer - 1) != pred):\n",
    "        info = df_2023.query(f\"player_name == '{name}'\")\n",
    "        \n",
    "        games = info[\"games\"].iloc[0]\n",
    "        fantasy_points = info[\"fantasy_points\"].iloc[0]\n",
    "        if games >= 8 and fantasy_points >= 50:\n",
    "            qbr = round(info[\"qbr\"].iloc[0], 2)\n",
    "            age = info[\"age\"].iloc[0]\n",
    "            \n",
    "            row = (name, age, answer, pred, qbr)\n",
    "            row_df = pd.DataFrame([row], columns=df_incorrect.columns)\n",
    "            df_incorrect = pd.concat([df_incorrect, row_df], ignore_index=True)"
   ]
  },
  {
   "cell_type": "code",
   "execution_count": null,
   "id": "e34db9c5",
   "metadata": {},
   "outputs": [],
   "source": [
    "df_incorrect.query(\"Prediction == -1.0\")"
   ]
  },
  {
   "cell_type": "code",
   "execution_count": null,
   "id": "2b64542c",
   "metadata": {},
   "outputs": [],
   "source": [
    "df_incorrect.query(\"Prediction == 1.0\")"
   ]
  },
  {
   "cell_type": "code",
   "execution_count": null,
   "id": "c29b5df1",
   "metadata": {},
   "outputs": [],
   "source": [
    "df_correct.query(\"Answer == 1\")"
   ]
  },
  {
   "cell_type": "code",
   "execution_count": null,
   "id": "e6ae46b4",
   "metadata": {},
   "outputs": [],
   "source": [
    "df_correct.query(\"Answer == -1\")"
   ]
  },
  {
   "cell_type": "code",
   "execution_count": null,
   "id": "60a2bd8e",
   "metadata": {},
   "outputs": [],
   "source": []
  }
 ],
 "metadata": {
  "kernelspec": {
   "display_name": "nfldata",
   "language": "python",
   "name": "nfldata"
  },
  "language_info": {
   "codemirror_mode": {
    "name": "ipython",
    "version": 3
   },
   "file_extension": ".py",
   "mimetype": "text/x-python",
   "name": "python",
   "nbconvert_exporter": "python",
   "pygments_lexer": "ipython3",
   "version": "3.9.7"
  }
 },
 "nbformat": 4,
 "nbformat_minor": 5
}
