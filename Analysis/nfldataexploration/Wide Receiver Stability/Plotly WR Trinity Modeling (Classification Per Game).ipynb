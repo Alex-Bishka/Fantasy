{
 "cells": [
  {
   "cell_type": "markdown",
   "id": "2c4c46b9",
   "metadata": {},
   "source": [
    "# Imports"
   ]
  },
  {
   "cell_type": "code",
   "execution_count": 1,
   "id": "d8d4517e",
   "metadata": {},
   "outputs": [],
   "source": [
    "import itertools\n",
    "import numpy as np\n",
    "import pandas as pd"
   ]
  },
  {
   "cell_type": "code",
   "execution_count": 2,
   "id": "838d44a7",
   "metadata": {},
   "outputs": [],
   "source": [
    "import sys\n",
    "import os\n",
    "sys.path.append(os.path.abspath('..'))\n",
    "from helpers_df import create_lag_df, create_train_and_test_sets, normalize_stats"
   ]
  },
  {
   "cell_type": "markdown",
   "id": "d8c28847",
   "metadata": {},
   "source": [
    "# Grab Data"
   ]
  },
  {
   "cell_type": "code",
   "execution_count": 3,
   "id": "3056565c",
   "metadata": {},
   "outputs": [],
   "source": [
    "df_rec = pd.read_pickle(\"./wr-simple-data-2012-2022-qbr.pkl\")"
   ]
  },
  {
   "cell_type": "code",
   "execution_count": 4,
   "id": "3b3120f7",
   "metadata": {},
   "outputs": [],
   "source": [
    "df_wr = df_rec.query(\"position == 'WR'\").copy()"
   ]
  },
  {
   "cell_type": "code",
   "execution_count": 5,
   "id": "2c308ca7",
   "metadata": {},
   "outputs": [],
   "source": [
    "games = df_wr[\"games\"]\n",
    "df_wr[\"receiving_yards_after_catch_per_game\"] = df_wr[\"receiving_yards_after_catch\"] / games\n",
    "df_wr[\"receiving_air_yards_per_game\"] = df_wr[\"receiving_air_yards\"] / games\n",
    "df_wr[\"fantasy_points_per_game\"] = df_wr[\"fantasy_points\"] / games\n",
    "df_wr[\"capital\"] = ((df_wr[\"round\"] - 1) * 32) + df_wr[\"pick\"]\n",
    "df_wr[\"receiving_yards_per_game\"] = df_wr[\"receiving_yards\"] / games\n",
    "df_wr[\"targets_per_game\"] = df_wr[\"targets\"] / games"
   ]
  },
  {
   "cell_type": "markdown",
   "id": "6662aad3",
   "metadata": {},
   "source": [
    "# Lag Version"
   ]
  },
  {
   "cell_type": "code",
   "execution_count": 6,
   "id": "79b07375",
   "metadata": {},
   "outputs": [],
   "source": [
    "df_lag = create_lag_df(df_wr)"
   ]
  },
  {
   "cell_type": "code",
   "execution_count": 7,
   "id": "8d058b12",
   "metadata": {},
   "outputs": [
    {
     "data": {
      "text/html": [
       "<div>\n",
       "<style scoped>\n",
       "    .dataframe tbody tr th:only-of-type {\n",
       "        vertical-align: middle;\n",
       "    }\n",
       "\n",
       "    .dataframe tbody tr th {\n",
       "        vertical-align: top;\n",
       "    }\n",
       "\n",
       "    .dataframe thead th {\n",
       "        text-align: right;\n",
       "    }\n",
       "</style>\n",
       "<table border=\"1\" class=\"dataframe\">\n",
       "  <thead>\n",
       "    <tr style=\"text-align: right;\">\n",
       "      <th></th>\n",
       "      <th>player_id</th>\n",
       "      <th>season</th>\n",
       "      <th>season_type</th>\n",
       "      <th>receptions</th>\n",
       "      <th>targets</th>\n",
       "      <th>receiving_yards</th>\n",
       "      <th>receiving_tds</th>\n",
       "      <th>receiving_fumbles</th>\n",
       "      <th>receiving_fumbles_lost</th>\n",
       "      <th>receiving_air_yards</th>\n",
       "      <th>...</th>\n",
       "      <th>depth_team_last</th>\n",
       "      <th>round_last</th>\n",
       "      <th>pick_last</th>\n",
       "      <th>qbr_last</th>\n",
       "      <th>receiving_yards_after_catch_per_game_last</th>\n",
       "      <th>receiving_air_yards_per_game_last</th>\n",
       "      <th>fantasy_points_per_game_last</th>\n",
       "      <th>capital_last</th>\n",
       "      <th>receiving_yards_per_game_last</th>\n",
       "      <th>targets_per_game_last</th>\n",
       "    </tr>\n",
       "  </thead>\n",
       "  <tbody>\n",
       "    <tr>\n",
       "      <th>0</th>\n",
       "      <td>00-0015754</td>\n",
       "      <td>2013</td>\n",
       "      <td>REG</td>\n",
       "      <td>13</td>\n",
       "      <td>21</td>\n",
       "      <td>115.0</td>\n",
       "      <td>0</td>\n",
       "      <td>0.0</td>\n",
       "      <td>0.0</td>\n",
       "      <td>174.0</td>\n",
       "      <td>...</td>\n",
       "      <td>2.00</td>\n",
       "      <td>4.0</td>\n",
       "      <td>105.0</td>\n",
       "      <td>105.849771</td>\n",
       "      <td>10.571429</td>\n",
       "      <td>42.071429</td>\n",
       "      <td>6.028571</td>\n",
       "      <td>201.0</td>\n",
       "      <td>38.857143</td>\n",
       "      <td>4.214286</td>\n",
       "    </tr>\n",
       "    <tr>\n",
       "      <th>1</th>\n",
       "      <td>00-0020337</td>\n",
       "      <td>2013</td>\n",
       "      <td>REG</td>\n",
       "      <td>64</td>\n",
       "      <td>110</td>\n",
       "      <td>745.0</td>\n",
       "      <td>4</td>\n",
       "      <td>0.0</td>\n",
       "      <td>0.0</td>\n",
       "      <td>1219.0</td>\n",
       "      <td>...</td>\n",
       "      <td>1.00</td>\n",
       "      <td>3.0</td>\n",
       "      <td>74.0</td>\n",
       "      <td>86.181271</td>\n",
       "      <td>16.750000</td>\n",
       "      <td>114.500000</td>\n",
       "      <td>8.881250</td>\n",
       "      <td>138.0</td>\n",
       "      <td>73.375000</td>\n",
       "      <td>8.625000</td>\n",
       "    </tr>\n",
       "    <tr>\n",
       "      <th>2</th>\n",
       "      <td>00-0020337</td>\n",
       "      <td>2014</td>\n",
       "      <td>REG</td>\n",
       "      <td>79</td>\n",
       "      <td>134</td>\n",
       "      <td>1065.0</td>\n",
       "      <td>6</td>\n",
       "      <td>2.0</td>\n",
       "      <td>1.0</td>\n",
       "      <td>1413.0</td>\n",
       "      <td>...</td>\n",
       "      <td>1.00</td>\n",
       "      <td>3.0</td>\n",
       "      <td>74.0</td>\n",
       "      <td>88.755285</td>\n",
       "      <td>11.866667</td>\n",
       "      <td>81.266667</td>\n",
       "      <td>6.566667</td>\n",
       "      <td>138.0</td>\n",
       "      <td>49.666667</td>\n",
       "      <td>7.333333</td>\n",
       "    </tr>\n",
       "    <tr>\n",
       "      <th>3</th>\n",
       "      <td>00-0020337</td>\n",
       "      <td>2015</td>\n",
       "      <td>REG</td>\n",
       "      <td>46</td>\n",
       "      <td>73</td>\n",
       "      <td>670.0</td>\n",
       "      <td>3</td>\n",
       "      <td>0.0</td>\n",
       "      <td>0.0</td>\n",
       "      <td>719.0</td>\n",
       "      <td>...</td>\n",
       "      <td>1.00</td>\n",
       "      <td>3.0</td>\n",
       "      <td>74.0</td>\n",
       "      <td>91.027377</td>\n",
       "      <td>22.687500</td>\n",
       "      <td>88.312500</td>\n",
       "      <td>8.781250</td>\n",
       "      <td>138.0</td>\n",
       "      <td>66.562500</td>\n",
       "      <td>8.375000</td>\n",
       "    </tr>\n",
       "    <tr>\n",
       "      <th>4</th>\n",
       "      <td>00-0020337</td>\n",
       "      <td>2016</td>\n",
       "      <td>REG</td>\n",
       "      <td>70</td>\n",
       "      <td>101</td>\n",
       "      <td>799.0</td>\n",
       "      <td>5</td>\n",
       "      <td>0.0</td>\n",
       "      <td>0.0</td>\n",
       "      <td>873.0</td>\n",
       "      <td>...</td>\n",
       "      <td>1.75</td>\n",
       "      <td>3.0</td>\n",
       "      <td>74.0</td>\n",
       "      <td>83.106336</td>\n",
       "      <td>36.571429</td>\n",
       "      <td>102.714286</td>\n",
       "      <td>12.142857</td>\n",
       "      <td>138.0</td>\n",
       "      <td>95.714286</td>\n",
       "      <td>10.428571</td>\n",
       "    </tr>\n",
       "  </tbody>\n",
       "</table>\n",
       "<p>5 rows × 89 columns</p>\n",
       "</div>"
      ],
      "text/plain": [
       "    player_id  season season_type  receptions  targets  receiving_yards  \\\n",
       "0  00-0015754    2013         REG          13       21            115.0   \n",
       "1  00-0020337    2013         REG          64      110            745.0   \n",
       "2  00-0020337    2014         REG          79      134           1065.0   \n",
       "3  00-0020337    2015         REG          46       73            670.0   \n",
       "4  00-0020337    2016         REG          70      101            799.0   \n",
       "\n",
       "   receiving_tds  receiving_fumbles  receiving_fumbles_lost  \\\n",
       "0              0                0.0                     0.0   \n",
       "1              4                0.0                     0.0   \n",
       "2              6                2.0                     1.0   \n",
       "3              3                0.0                     0.0   \n",
       "4              5                0.0                     0.0   \n",
       "\n",
       "   receiving_air_yards  ...  depth_team_last  round_last  pick_last  \\\n",
       "0                174.0  ...             2.00         4.0      105.0   \n",
       "1               1219.0  ...             1.00         3.0       74.0   \n",
       "2               1413.0  ...             1.00         3.0       74.0   \n",
       "3                719.0  ...             1.00         3.0       74.0   \n",
       "4                873.0  ...             1.75         3.0       74.0   \n",
       "\n",
       "     qbr_last  receiving_yards_after_catch_per_game_last  \\\n",
       "0  105.849771                                  10.571429   \n",
       "1   86.181271                                  16.750000   \n",
       "2   88.755285                                  11.866667   \n",
       "3   91.027377                                  22.687500   \n",
       "4   83.106336                                  36.571429   \n",
       "\n",
       "   receiving_air_yards_per_game_last  fantasy_points_per_game_last  \\\n",
       "0                          42.071429                      6.028571   \n",
       "1                         114.500000                      8.881250   \n",
       "2                          81.266667                      6.566667   \n",
       "3                          88.312500                      8.781250   \n",
       "4                         102.714286                     12.142857   \n",
       "\n",
       "   capital_last  receiving_yards_per_game_last  targets_per_game_last  \n",
       "0         201.0                      38.857143               4.214286  \n",
       "1         138.0                      73.375000               8.625000  \n",
       "2         138.0                      49.666667               7.333333  \n",
       "3         138.0                      66.562500               8.375000  \n",
       "4         138.0                      95.714286              10.428571  \n",
       "\n",
       "[5 rows x 89 columns]"
      ]
     },
     "execution_count": 7,
     "metadata": {},
     "output_type": "execute_result"
    }
   ],
   "source": [
    "df_lag.head()"
   ]
  },
  {
   "cell_type": "markdown",
   "id": "405c41be",
   "metadata": {},
   "source": [
    "1 => improved\n",
    "\n",
    "0 => no change\n",
    "\n",
    "-1 => decline"
   ]
  },
  {
   "cell_type": "code",
   "execution_count": 8,
   "id": "788a1b44",
   "metadata": {},
   "outputs": [],
   "source": [
    "df_lag_classification = df_lag.query(\"games >= 10\").copy()\n",
    "for i, row in df_lag_classification.iterrows():\n",
    "    diff = row[\"fantasy_points_per_game\"] - row[\"fantasy_points_per_game_last\"]\n",
    "#     diff = row[\"trinity\"] - row[\"trinity_last\"]\n",
    "    if diff > 0:\n",
    "        df_lag_classification.at[i, \"change\"] = 1\n",
    "    else:\n",
    "        df_lag_classification.at[i, \"change\"] = -1"
   ]
  },
  {
   "cell_type": "code",
   "execution_count": 9,
   "id": "860360e6",
   "metadata": {},
   "outputs": [],
   "source": [
    "df_lag_classification.dropna(inplace=True)"
   ]
  },
  {
   "cell_type": "markdown",
   "id": "49d7e913",
   "metadata": {},
   "source": [
    "# Create Test and Train Sets"
   ]
  },
  {
   "cell_type": "code",
   "execution_count": 10,
   "id": "fbb07e41",
   "metadata": {},
   "outputs": [],
   "source": [
    "x_cols = ['receiving_yards_after_catch_per_game_last', 'receiving_air_yards_per_game_last',\n",
    "          'tgt_sh_last', \"age\", \"qbr_last\", \"capital\", \"depth_team\", \"depth_team_last\",\n",
    "         \"w8dom_last\", \"wopr_x_last\", \"ppr_sh_last\", \"dom_last\",\n",
    "          \"receiving_yards_per_game_last\", \"targets_per_game_last\", \"ay_sh_last\", \"ry_sh_last\"]"
   ]
  },
  {
   "cell_type": "code",
   "execution_count": 11,
   "id": "441a4b85",
   "metadata": {},
   "outputs": [
    {
     "name": "stdout",
     "output_type": "stream",
     "text": [
      "```\n",
      "Length of train set: 535\n",
      "Length of test set: 179\n",
      "Length of data set: 714\n",
      "```\n"
     ]
    }
   ],
   "source": [
    "X_train, X_test, y_train, y_test = create_train_and_test_sets(df_lag_classification, \n",
    "        x_cols=x_cols,\n",
    "        inference_col = ['change'],\n",
    "        test_size=0.25\n",
    ")"
   ]
  },
  {
   "cell_type": "markdown",
   "id": "b46b9651",
   "metadata": {},
   "source": [
    "# Normalization"
   ]
  },
  {
   "cell_type": "code",
   "execution_count": 12,
   "id": "1b991b7d",
   "metadata": {},
   "outputs": [],
   "source": [
    "from sklearn.preprocessing import StandardScaler"
   ]
  },
  {
   "cell_type": "code",
   "execution_count": 13,
   "id": "1f687b2f",
   "metadata": {},
   "outputs": [],
   "source": [
    "scaler = StandardScaler()\n",
    "X_train_scaled = scaler.fit_transform(X_train)\n",
    "X_test_scaled = scaler.transform(X_test)"
   ]
  },
  {
   "cell_type": "markdown",
   "id": "320b04c4",
   "metadata": {},
   "source": [
    "# Fit Models"
   ]
  },
  {
   "cell_type": "code",
   "execution_count": 14,
   "id": "2253475f",
   "metadata": {},
   "outputs": [],
   "source": [
    "best_score = 0\n",
    "best_model = None"
   ]
  },
  {
   "cell_type": "markdown",
   "id": "4ed02b2d",
   "metadata": {},
   "source": [
    "## MLR"
   ]
  },
  {
   "cell_type": "code",
   "execution_count": 15,
   "id": "25d47485",
   "metadata": {},
   "outputs": [],
   "source": [
    "from sklearn.linear_model import LinearRegression"
   ]
  },
  {
   "cell_type": "code",
   "execution_count": 16,
   "id": "275e2b48",
   "metadata": {},
   "outputs": [],
   "source": [
    "mlr = LinearRegression().fit(X_train_scaled, y_train)\n",
    "score = round(mlr.score(X_test_scaled, y_test), 3)"
   ]
  },
  {
   "cell_type": "code",
   "execution_count": 17,
   "id": "cea31bc0",
   "metadata": {},
   "outputs": [
    {
     "data": {
      "text/plain": [
       "0.197"
      ]
     },
     "execution_count": 17,
     "metadata": {},
     "output_type": "execute_result"
    }
   ],
   "source": [
    "if score > best_score:\n",
    "    best_score = score\n",
    "    best_model = mlr\n",
    "score"
   ]
  },
  {
   "cell_type": "markdown",
   "id": "c7818c70",
   "metadata": {},
   "source": [
    "## Random Forest Classifier"
   ]
  },
  {
   "cell_type": "code",
   "execution_count": 18,
   "id": "6ec012e7",
   "metadata": {},
   "outputs": [],
   "source": [
    "from sklearn.ensemble import RandomForestClassifier"
   ]
  },
  {
   "cell_type": "code",
   "execution_count": 19,
   "id": "9e3478d2",
   "metadata": {},
   "outputs": [],
   "source": [
    "start = 1\n",
    "stop = 15 + 1"
   ]
  },
  {
   "cell_type": "code",
   "execution_count": 20,
   "id": "084db49d",
   "metadata": {},
   "outputs": [
    {
     "name": "stderr",
     "output_type": "stream",
     "text": [
      "/Users/alexbishka/Documents/Projects/Fantasy/Analysis/nfldata/lib/python3.9/site-packages/sklearn/base.py:1152: DataConversionWarning: A column-vector y was passed when a 1d array was expected. Please change the shape of y to (n_samples,), for example using ravel().\n",
      "  return fit_method(estimator, *args, **kwargs)\n",
      "/Users/alexbishka/Documents/Projects/Fantasy/Analysis/nfldata/lib/python3.9/site-packages/sklearn/base.py:1152: DataConversionWarning: A column-vector y was passed when a 1d array was expected. Please change the shape of y to (n_samples,), for example using ravel().\n",
      "  return fit_method(estimator, *args, **kwargs)\n",
      "/Users/alexbishka/Documents/Projects/Fantasy/Analysis/nfldata/lib/python3.9/site-packages/sklearn/base.py:1152: DataConversionWarning: A column-vector y was passed when a 1d array was expected. Please change the shape of y to (n_samples,), for example using ravel().\n",
      "  return fit_method(estimator, *args, **kwargs)\n"
     ]
    },
    {
     "name": "stdout",
     "output_type": "stream",
     "text": [
      "New best score: 0.6871508379888268  |  depth: 1\n",
      "New best score: 0.6927374301675978  |  depth: 2\n",
      "New best score: 0.7150837988826816  |  depth: 3\n"
     ]
    },
    {
     "name": "stderr",
     "output_type": "stream",
     "text": [
      "/Users/alexbishka/Documents/Projects/Fantasy/Analysis/nfldata/lib/python3.9/site-packages/sklearn/base.py:1152: DataConversionWarning: A column-vector y was passed when a 1d array was expected. Please change the shape of y to (n_samples,), for example using ravel().\n",
      "  return fit_method(estimator, *args, **kwargs)\n",
      "/Users/alexbishka/Documents/Projects/Fantasy/Analysis/nfldata/lib/python3.9/site-packages/sklearn/base.py:1152: DataConversionWarning: A column-vector y was passed when a 1d array was expected. Please change the shape of y to (n_samples,), for example using ravel().\n",
      "  return fit_method(estimator, *args, **kwargs)\n",
      "/Users/alexbishka/Documents/Projects/Fantasy/Analysis/nfldata/lib/python3.9/site-packages/sklearn/base.py:1152: DataConversionWarning: A column-vector y was passed when a 1d array was expected. Please change the shape of y to (n_samples,), for example using ravel().\n",
      "  return fit_method(estimator, *args, **kwargs)\n",
      "/Users/alexbishka/Documents/Projects/Fantasy/Analysis/nfldata/lib/python3.9/site-packages/sklearn/base.py:1152: DataConversionWarning: A column-vector y was passed when a 1d array was expected. Please change the shape of y to (n_samples,), for example using ravel().\n",
      "  return fit_method(estimator, *args, **kwargs)\n"
     ]
    },
    {
     "name": "stdout",
     "output_type": "stream",
     "text": [
      "New best score: 0.7597765363128491  |  depth: 6\n"
     ]
    },
    {
     "name": "stderr",
     "output_type": "stream",
     "text": [
      "/Users/alexbishka/Documents/Projects/Fantasy/Analysis/nfldata/lib/python3.9/site-packages/sklearn/base.py:1152: DataConversionWarning: A column-vector y was passed when a 1d array was expected. Please change the shape of y to (n_samples,), for example using ravel().\n",
      "  return fit_method(estimator, *args, **kwargs)\n",
      "/Users/alexbishka/Documents/Projects/Fantasy/Analysis/nfldata/lib/python3.9/site-packages/sklearn/base.py:1152: DataConversionWarning: A column-vector y was passed when a 1d array was expected. Please change the shape of y to (n_samples,), for example using ravel().\n",
      "  return fit_method(estimator, *args, **kwargs)\n",
      "/Users/alexbishka/Documents/Projects/Fantasy/Analysis/nfldata/lib/python3.9/site-packages/sklearn/base.py:1152: DataConversionWarning: A column-vector y was passed when a 1d array was expected. Please change the shape of y to (n_samples,), for example using ravel().\n",
      "  return fit_method(estimator, *args, **kwargs)\n",
      "/Users/alexbishka/Documents/Projects/Fantasy/Analysis/nfldata/lib/python3.9/site-packages/sklearn/base.py:1152: DataConversionWarning: A column-vector y was passed when a 1d array was expected. Please change the shape of y to (n_samples,), for example using ravel().\n",
      "  return fit_method(estimator, *args, **kwargs)\n",
      "/Users/alexbishka/Documents/Projects/Fantasy/Analysis/nfldata/lib/python3.9/site-packages/sklearn/base.py:1152: DataConversionWarning: A column-vector y was passed when a 1d array was expected. Please change the shape of y to (n_samples,), for example using ravel().\n",
      "  return fit_method(estimator, *args, **kwargs)\n",
      "/Users/alexbishka/Documents/Projects/Fantasy/Analysis/nfldata/lib/python3.9/site-packages/sklearn/base.py:1152: DataConversionWarning: A column-vector y was passed when a 1d array was expected. Please change the shape of y to (n_samples,), for example using ravel().\n",
      "  return fit_method(estimator, *args, **kwargs)\n",
      "/Users/alexbishka/Documents/Projects/Fantasy/Analysis/nfldata/lib/python3.9/site-packages/sklearn/base.py:1152: DataConversionWarning: A column-vector y was passed when a 1d array was expected. Please change the shape of y to (n_samples,), for example using ravel().\n",
      "  return fit_method(estimator, *args, **kwargs)\n",
      "/Users/alexbishka/Documents/Projects/Fantasy/Analysis/nfldata/lib/python3.9/site-packages/sklearn/base.py:1152: DataConversionWarning: A column-vector y was passed when a 1d array was expected. Please change the shape of y to (n_samples,), for example using ravel().\n",
      "  return fit_method(estimator, *args, **kwargs)\n"
     ]
    },
    {
     "name": "stdout",
     "output_type": "stream",
     "text": [
      "\n",
      "Done :)\n"
     ]
    }
   ],
   "source": [
    "for depth in range(start, stop):\n",
    "    rfr = RandomForestClassifier(max_depth=depth, random_state=0)\n",
    "    rfr.fit(X_train_scaled, y_train)\n",
    "    \n",
    "    score = rfr.score(X_test_scaled, y_test)\n",
    "    if score > best_score:\n",
    "        print(f\"New best score: {score}  |  depth: {depth}\")\n",
    "        best_score = score\n",
    "        best_model = rfr\n",
    "        \n",
    "print(\"\\nDone :)\")"
   ]
  },
  {
   "cell_type": "markdown",
   "id": "d3ad5ded",
   "metadata": {},
   "source": [
    "## Gradient Boosting Machines"
   ]
  },
  {
   "cell_type": "code",
   "execution_count": 21,
   "id": "cea7a98f",
   "metadata": {},
   "outputs": [],
   "source": [
    "from sklearn.ensemble import GradientBoostingClassifier"
   ]
  },
  {
   "cell_type": "code",
   "execution_count": 22,
   "id": "dc033371",
   "metadata": {},
   "outputs": [],
   "source": [
    "gbm = GradientBoostingClassifier(random_state=0)"
   ]
  },
  {
   "cell_type": "code",
   "execution_count": 23,
   "id": "34924f54",
   "metadata": {},
   "outputs": [
    {
     "name": "stderr",
     "output_type": "stream",
     "text": [
      "/Users/alexbishka/Documents/Projects/Fantasy/Analysis/nfldata/lib/python3.9/site-packages/sklearn/ensemble/_gb.py:424: DataConversionWarning: A column-vector y was passed when a 1d array was expected. Please change the shape of y to (n_samples, ), for example using ravel().\n",
      "  y = column_or_1d(y, warn=True)\n"
     ]
    },
    {
     "data": {
      "text/html": [
       "<style>#sk-container-id-1 {color: black;}#sk-container-id-1 pre{padding: 0;}#sk-container-id-1 div.sk-toggleable {background-color: white;}#sk-container-id-1 label.sk-toggleable__label {cursor: pointer;display: block;width: 100%;margin-bottom: 0;padding: 0.3em;box-sizing: border-box;text-align: center;}#sk-container-id-1 label.sk-toggleable__label-arrow:before {content: \"▸\";float: left;margin-right: 0.25em;color: #696969;}#sk-container-id-1 label.sk-toggleable__label-arrow:hover:before {color: black;}#sk-container-id-1 div.sk-estimator:hover label.sk-toggleable__label-arrow:before {color: black;}#sk-container-id-1 div.sk-toggleable__content {max-height: 0;max-width: 0;overflow: hidden;text-align: left;background-color: #f0f8ff;}#sk-container-id-1 div.sk-toggleable__content pre {margin: 0.2em;color: black;border-radius: 0.25em;background-color: #f0f8ff;}#sk-container-id-1 input.sk-toggleable__control:checked~div.sk-toggleable__content {max-height: 200px;max-width: 100%;overflow: auto;}#sk-container-id-1 input.sk-toggleable__control:checked~label.sk-toggleable__label-arrow:before {content: \"▾\";}#sk-container-id-1 div.sk-estimator input.sk-toggleable__control:checked~label.sk-toggleable__label {background-color: #d4ebff;}#sk-container-id-1 div.sk-label input.sk-toggleable__control:checked~label.sk-toggleable__label {background-color: #d4ebff;}#sk-container-id-1 input.sk-hidden--visually {border: 0;clip: rect(1px 1px 1px 1px);clip: rect(1px, 1px, 1px, 1px);height: 1px;margin: -1px;overflow: hidden;padding: 0;position: absolute;width: 1px;}#sk-container-id-1 div.sk-estimator {font-family: monospace;background-color: #f0f8ff;border: 1px dotted black;border-radius: 0.25em;box-sizing: border-box;margin-bottom: 0.5em;}#sk-container-id-1 div.sk-estimator:hover {background-color: #d4ebff;}#sk-container-id-1 div.sk-parallel-item::after {content: \"\";width: 100%;border-bottom: 1px solid gray;flex-grow: 1;}#sk-container-id-1 div.sk-label:hover label.sk-toggleable__label {background-color: #d4ebff;}#sk-container-id-1 div.sk-serial::before {content: \"\";position: absolute;border-left: 1px solid gray;box-sizing: border-box;top: 0;bottom: 0;left: 50%;z-index: 0;}#sk-container-id-1 div.sk-serial {display: flex;flex-direction: column;align-items: center;background-color: white;padding-right: 0.2em;padding-left: 0.2em;position: relative;}#sk-container-id-1 div.sk-item {position: relative;z-index: 1;}#sk-container-id-1 div.sk-parallel {display: flex;align-items: stretch;justify-content: center;background-color: white;position: relative;}#sk-container-id-1 div.sk-item::before, #sk-container-id-1 div.sk-parallel-item::before {content: \"\";position: absolute;border-left: 1px solid gray;box-sizing: border-box;top: 0;bottom: 0;left: 50%;z-index: -1;}#sk-container-id-1 div.sk-parallel-item {display: flex;flex-direction: column;z-index: 1;position: relative;background-color: white;}#sk-container-id-1 div.sk-parallel-item:first-child::after {align-self: flex-end;width: 50%;}#sk-container-id-1 div.sk-parallel-item:last-child::after {align-self: flex-start;width: 50%;}#sk-container-id-1 div.sk-parallel-item:only-child::after {width: 0;}#sk-container-id-1 div.sk-dashed-wrapped {border: 1px dashed gray;margin: 0 0.4em 0.5em 0.4em;box-sizing: border-box;padding-bottom: 0.4em;background-color: white;}#sk-container-id-1 div.sk-label label {font-family: monospace;font-weight: bold;display: inline-block;line-height: 1.2em;}#sk-container-id-1 div.sk-label-container {text-align: center;}#sk-container-id-1 div.sk-container {/* jupyter's `normalize.less` sets `[hidden] { display: none; }` but bootstrap.min.css set `[hidden] { display: none !important; }` so we also need the `!important` here to be able to override the default hidden behavior on the sphinx rendered scikit-learn.org. See: https://github.com/scikit-learn/scikit-learn/issues/21755 */display: inline-block !important;position: relative;}#sk-container-id-1 div.sk-text-repr-fallback {display: none;}</style><div id=\"sk-container-id-1\" class=\"sk-top-container\"><div class=\"sk-text-repr-fallback\"><pre>GradientBoostingClassifier(random_state=0)</pre><b>In a Jupyter environment, please rerun this cell to show the HTML representation or trust the notebook. <br />On GitHub, the HTML representation is unable to render, please try loading this page with nbviewer.org.</b></div><div class=\"sk-container\" hidden><div class=\"sk-item\"><div class=\"sk-estimator sk-toggleable\"><input class=\"sk-toggleable__control sk-hidden--visually\" id=\"sk-estimator-id-1\" type=\"checkbox\" checked><label for=\"sk-estimator-id-1\" class=\"sk-toggleable__label sk-toggleable__label-arrow\">GradientBoostingClassifier</label><div class=\"sk-toggleable__content\"><pre>GradientBoostingClassifier(random_state=0)</pre></div></div></div></div></div>"
      ],
      "text/plain": [
       "GradientBoostingClassifier(random_state=0)"
      ]
     },
     "execution_count": 23,
     "metadata": {},
     "output_type": "execute_result"
    }
   ],
   "source": [
    "gbm.fit(X_train_scaled, y_train)"
   ]
  },
  {
   "cell_type": "code",
   "execution_count": 24,
   "id": "df90fd9a",
   "metadata": {},
   "outputs": [],
   "source": [
    "score = gbm.score(X_test_scaled, y_test)"
   ]
  },
  {
   "cell_type": "code",
   "execution_count": 25,
   "id": "b8781541",
   "metadata": {},
   "outputs": [
    {
     "data": {
      "text/plain": [
       "0.664804469273743"
      ]
     },
     "execution_count": 25,
     "metadata": {},
     "output_type": "execute_result"
    }
   ],
   "source": [
    "if score > best_score:\n",
    "    best_score = score\n",
    "    best_model = gbm\n",
    "score"
   ]
  },
  {
   "cell_type": "markdown",
   "id": "53c19835",
   "metadata": {},
   "source": [
    "## Neural Net"
   ]
  },
  {
   "cell_type": "code",
   "execution_count": 26,
   "id": "c4b14177",
   "metadata": {},
   "outputs": [],
   "source": [
    "from sklearn.neural_network import MLPClassifier"
   ]
  },
  {
   "cell_type": "code",
   "execution_count": 27,
   "id": "8302cfc3",
   "metadata": {},
   "outputs": [
    {
     "name": "stderr",
     "output_type": "stream",
     "text": [
      "/Users/alexbishka/Documents/Projects/Fantasy/Analysis/nfldata/lib/python3.9/site-packages/sklearn/neural_network/_multilayer_perceptron.py:1102: DataConversionWarning: A column-vector y was passed when a 1d array was expected. Please change the shape of y to (n_samples, ), for example using ravel().\n",
      "  y = column_or_1d(y, warn=True)\n"
     ]
    }
   ],
   "source": [
    "nn = MLPClassifier(random_state=1,\n",
    "                    hidden_layer_sizes=[1000, 1000, 100],\n",
    "                    max_iter=10000).fit(X_train_scaled, y_train)"
   ]
  },
  {
   "cell_type": "code",
   "execution_count": 28,
   "id": "d5a1eda2",
   "metadata": {},
   "outputs": [],
   "source": [
    "score = nn.score(X_test_scaled, y_test)"
   ]
  },
  {
   "cell_type": "code",
   "execution_count": 29,
   "id": "5a0e84c9",
   "metadata": {},
   "outputs": [
    {
     "data": {
      "text/plain": [
       "0.6424581005586593"
      ]
     },
     "execution_count": 29,
     "metadata": {},
     "output_type": "execute_result"
    }
   ],
   "source": [
    "if score > best_score:\n",
    "    best_score = score\n",
    "    best_model = nn\n",
    "score"
   ]
  },
  {
   "cell_type": "markdown",
   "id": "5320fb5a",
   "metadata": {},
   "source": [
    "### Best Score and Model"
   ]
  },
  {
   "cell_type": "code",
   "execution_count": 30,
   "id": "9e1d01cc",
   "metadata": {},
   "outputs": [
    {
     "data": {
      "text/html": [
       "<style>#sk-container-id-2 {color: black;}#sk-container-id-2 pre{padding: 0;}#sk-container-id-2 div.sk-toggleable {background-color: white;}#sk-container-id-2 label.sk-toggleable__label {cursor: pointer;display: block;width: 100%;margin-bottom: 0;padding: 0.3em;box-sizing: border-box;text-align: center;}#sk-container-id-2 label.sk-toggleable__label-arrow:before {content: \"▸\";float: left;margin-right: 0.25em;color: #696969;}#sk-container-id-2 label.sk-toggleable__label-arrow:hover:before {color: black;}#sk-container-id-2 div.sk-estimator:hover label.sk-toggleable__label-arrow:before {color: black;}#sk-container-id-2 div.sk-toggleable__content {max-height: 0;max-width: 0;overflow: hidden;text-align: left;background-color: #f0f8ff;}#sk-container-id-2 div.sk-toggleable__content pre {margin: 0.2em;color: black;border-radius: 0.25em;background-color: #f0f8ff;}#sk-container-id-2 input.sk-toggleable__control:checked~div.sk-toggleable__content {max-height: 200px;max-width: 100%;overflow: auto;}#sk-container-id-2 input.sk-toggleable__control:checked~label.sk-toggleable__label-arrow:before {content: \"▾\";}#sk-container-id-2 div.sk-estimator input.sk-toggleable__control:checked~label.sk-toggleable__label {background-color: #d4ebff;}#sk-container-id-2 div.sk-label input.sk-toggleable__control:checked~label.sk-toggleable__label {background-color: #d4ebff;}#sk-container-id-2 input.sk-hidden--visually {border: 0;clip: rect(1px 1px 1px 1px);clip: rect(1px, 1px, 1px, 1px);height: 1px;margin: -1px;overflow: hidden;padding: 0;position: absolute;width: 1px;}#sk-container-id-2 div.sk-estimator {font-family: monospace;background-color: #f0f8ff;border: 1px dotted black;border-radius: 0.25em;box-sizing: border-box;margin-bottom: 0.5em;}#sk-container-id-2 div.sk-estimator:hover {background-color: #d4ebff;}#sk-container-id-2 div.sk-parallel-item::after {content: \"\";width: 100%;border-bottom: 1px solid gray;flex-grow: 1;}#sk-container-id-2 div.sk-label:hover label.sk-toggleable__label {background-color: #d4ebff;}#sk-container-id-2 div.sk-serial::before {content: \"\";position: absolute;border-left: 1px solid gray;box-sizing: border-box;top: 0;bottom: 0;left: 50%;z-index: 0;}#sk-container-id-2 div.sk-serial {display: flex;flex-direction: column;align-items: center;background-color: white;padding-right: 0.2em;padding-left: 0.2em;position: relative;}#sk-container-id-2 div.sk-item {position: relative;z-index: 1;}#sk-container-id-2 div.sk-parallel {display: flex;align-items: stretch;justify-content: center;background-color: white;position: relative;}#sk-container-id-2 div.sk-item::before, #sk-container-id-2 div.sk-parallel-item::before {content: \"\";position: absolute;border-left: 1px solid gray;box-sizing: border-box;top: 0;bottom: 0;left: 50%;z-index: -1;}#sk-container-id-2 div.sk-parallel-item {display: flex;flex-direction: column;z-index: 1;position: relative;background-color: white;}#sk-container-id-2 div.sk-parallel-item:first-child::after {align-self: flex-end;width: 50%;}#sk-container-id-2 div.sk-parallel-item:last-child::after {align-self: flex-start;width: 50%;}#sk-container-id-2 div.sk-parallel-item:only-child::after {width: 0;}#sk-container-id-2 div.sk-dashed-wrapped {border: 1px dashed gray;margin: 0 0.4em 0.5em 0.4em;box-sizing: border-box;padding-bottom: 0.4em;background-color: white;}#sk-container-id-2 div.sk-label label {font-family: monospace;font-weight: bold;display: inline-block;line-height: 1.2em;}#sk-container-id-2 div.sk-label-container {text-align: center;}#sk-container-id-2 div.sk-container {/* jupyter's `normalize.less` sets `[hidden] { display: none; }` but bootstrap.min.css set `[hidden] { display: none !important; }` so we also need the `!important` here to be able to override the default hidden behavior on the sphinx rendered scikit-learn.org. See: https://github.com/scikit-learn/scikit-learn/issues/21755 */display: inline-block !important;position: relative;}#sk-container-id-2 div.sk-text-repr-fallback {display: none;}</style><div id=\"sk-container-id-2\" class=\"sk-top-container\"><div class=\"sk-text-repr-fallback\"><pre>RandomForestClassifier(max_depth=6, random_state=0)</pre><b>In a Jupyter environment, please rerun this cell to show the HTML representation or trust the notebook. <br />On GitHub, the HTML representation is unable to render, please try loading this page with nbviewer.org.</b></div><div class=\"sk-container\" hidden><div class=\"sk-item\"><div class=\"sk-estimator sk-toggleable\"><input class=\"sk-toggleable__control sk-hidden--visually\" id=\"sk-estimator-id-2\" type=\"checkbox\" checked><label for=\"sk-estimator-id-2\" class=\"sk-toggleable__label sk-toggleable__label-arrow\">RandomForestClassifier</label><div class=\"sk-toggleable__content\"><pre>RandomForestClassifier(max_depth=6, random_state=0)</pre></div></div></div></div></div>"
      ],
      "text/plain": [
       "RandomForestClassifier(max_depth=6, random_state=0)"
      ]
     },
     "execution_count": 30,
     "metadata": {},
     "output_type": "execute_result"
    }
   ],
   "source": [
    "best_model"
   ]
  },
  {
   "cell_type": "code",
   "execution_count": 31,
   "id": "40f10031",
   "metadata": {},
   "outputs": [
    {
     "data": {
      "text/plain": [
       "0.7597765363128491"
      ]
     },
     "execution_count": 31,
     "metadata": {},
     "output_type": "execute_result"
    }
   ],
   "source": [
    "best_score"
   ]
  },
  {
   "cell_type": "markdown",
   "id": "244d22b8",
   "metadata": {},
   "source": [
    "# Projecting 2023"
   ]
  },
  {
   "cell_type": "code",
   "execution_count": 32,
   "id": "cfb07ff5",
   "metadata": {},
   "outputs": [],
   "source": [
    "df_2023 = pd.read_pickle(\"./wr-simple-data-2023-qbr.pkl\")"
   ]
  },
  {
   "cell_type": "code",
   "execution_count": 33,
   "id": "4f6a3760",
   "metadata": {},
   "outputs": [],
   "source": [
    "games = df_2023[\"games\"]\n",
    "df_2023[\"receiving_yards_after_catch_per_game\"] = df_2023[\"receiving_yards_after_catch\"] / games\n",
    "df_2023[\"receiving_air_yards_per_game\"] = df_2023[\"receiving_air_yards\"] / games\n",
    "df_2023[\"fantasy_points_per_game\"] = df_2023[\"fantasy_points\"] / games\n",
    "df_2023[\"capital\"] = ((df_2023[\"round\"] - 1) * 32) + df_2023[\"pick\"]\n",
    "df_2023[\"receiving_yards_per_game\"] = df_2023[\"receiving_yards\"] / games\n",
    "df_2023[\"targets_per_game\"] = df_2023[\"targets\"] / games"
   ]
  },
  {
   "cell_type": "code",
   "execution_count": 34,
   "id": "261c94a7",
   "metadata": {},
   "outputs": [],
   "source": [
    "def compare_model_to_current_year(df, df_current, player_name, model):\n",
    "    df_last = df.copy().query(\"season == 2022\")\n",
    "    \n",
    "    player_row_22 = df_last[['player_name', 'receiving_yards_after_catch_per_game',\n",
    "       'receiving_air_yards_per_game', 'tgt_sh', \"age\", \"qbr\", \"capital\", \"depth_team\",\n",
    "        \"w8dom\", \"wopr_x\", \"ppr_sh\", \"dom\", \"receiving_yards_per_game\", \"targets_per_game\",\n",
    "                            \"ay_sh\", \"ry_sh\"]] \\\n",
    "        .query(f\"player_name == '{player_name}'\")\n",
    "    \n",
    "    player_row_22['age'] += 1\n",
    "    \n",
    "    rename_cols = {}\n",
    "    for col in list(player_row_22.columns):\n",
    "        if col != \"age\" and col != \"round\" and col != \"capital\":\n",
    "            rename_cols[col] = f\"{col}_last\"\n",
    "        \n",
    "    player_row_22.rename(columns=rename_cols, inplace=True)\n",
    "    \n",
    "    col_index = player_row_22.columns.get_loc(\"capital\") + 1\n",
    "    depth_team_current = df_current.query(f\"player_name == \\\"{player_name}\\\"\")[\"depth_team\"].iloc[0]\n",
    "    player_row_22.insert(loc=col_index, column=\"depth_team\", value=depth_team_current)\n",
    "\n",
    "    transform_cols = list(player_row_22.columns)[1:]\n",
    "    sample = scaler.transform(player_row_22[transform_cols])\n",
    "    \n",
    "    previous_fp = df_last.query(f\"season == 2022 and player_name == \\\"{player_name}\\\"\")[\"fantasy_points\"].iloc[0]\n",
    "    current_fp = df_current.query(f\"player_name == \\\"{player_name}\\\"\")[\"fantasy_points\"].iloc[0]\n",
    "    \n",
    "    answer = current_fp - previous_fp\n",
    "    prediction = model.predict(sample)[0]\n",
    "    \n",
    "#     print(\"```\")\n",
    "#     print(f\"Previous fantasy points: {previous_fp}\")\n",
    "#     print(f\"Current fantasy points: {current_fp}\")\n",
    "#     print(f\"Difference (p - a): {answer}\")\n",
    "#     print(f\"Prediction: {prediction}\")\n",
    "#     print(\"```\")\n",
    "    \n",
    "    return prediction, answer"
   ]
  },
  {
   "cell_type": "code",
   "execution_count": 35,
   "id": "94a83ab7",
   "metadata": {},
   "outputs": [],
   "source": [
    "correct = []\n",
    "incorrect = []\n",
    "model = best_model\n",
    "for name in df_wr.query(\"season == 2022 and games >= 10\")[\"player_name\"]:\n",
    "    if name in df_2023[\"player_name\"].values and name != \"Ja'Marr Chase\":\n",
    "        player_name = name\n",
    "        \n",
    "        if not df_2023.query(f\"player_name == '{player_name}' and games >= 8\").empty:\n",
    "            prediction, answer = compare_model_to_current_year(df_wr, df_2023, player_name, model)\n",
    "\n",
    "            if answer < 0:\n",
    "                answer = -1\n",
    "            elif answer == 0:\n",
    "                answer = 0\n",
    "            elif answer > 0:\n",
    "                answer = 1\n",
    "\n",
    "            if answer == prediction:\n",
    "                correct.append((name, answer, prediction))\n",
    "            else:\n",
    "                incorrect.append((name, answer, prediction))"
   ]
  },
  {
   "cell_type": "code",
   "execution_count": 36,
   "id": "d2c84505",
   "metadata": {},
   "outputs": [
    {
     "name": "stdout",
     "output_type": "stream",
     "text": [
      "48 27 64.0\n"
     ]
    }
   ],
   "source": [
    "print(len(correct), len(incorrect), round(len(correct) / (len(incorrect) + len(correct)) * 100, 2))"
   ]
  },
  {
   "cell_type": "code",
   "execution_count": 37,
   "id": "2eb473b4",
   "metadata": {},
   "outputs": [
    {
     "name": "stderr",
     "output_type": "stream",
     "text": [
      "/var/folders/yx/gjm2fjs56vl5kkwrb6xf5d2h0000gn/T/ipykernel_22034/1070772636.py:14: FutureWarning: The behavior of DataFrame concatenation with empty or all-NA entries is deprecated. In a future version, this will no longer exclude empty or all-NA columns when determining the result dtypes. To retain the old behavior, exclude the relevant entries before the concat operation.\n",
      "  df_correct = pd.concat([df_correct, row_df], ignore_index=True)\n"
     ]
    }
   ],
   "source": [
    "df_correct = pd.DataFrame(columns=['Name', 'Age', 'Answer', 'Prediction', 'QBR'])\n",
    "for name, answer, pred in correct:\n",
    "    if ((answer + 1) != pred) or ((answer - 1) != pred):\n",
    "        info = df_2023.query(f\"player_name == '{name}'\")\n",
    "        \n",
    "        games = info[\"games\"].iloc[0]\n",
    "        fantasy_points = info[\"fantasy_points\"].iloc[0]\n",
    "        if games >= 8 and fantasy_points >= 50:\n",
    "            qbr = round(info[\"qbr\"].iloc[0], 2)\n",
    "            age = info[\"age\"].iloc[0]\n",
    "            \n",
    "            row = (name, age, answer, pred, qbr)\n",
    "            row_df = pd.DataFrame([row], columns=df_correct.columns)\n",
    "            df_correct = pd.concat([df_correct, row_df], ignore_index=True)"
   ]
  },
  {
   "cell_type": "code",
   "execution_count": 38,
   "id": "b2548b43",
   "metadata": {},
   "outputs": [
    {
     "name": "stderr",
     "output_type": "stream",
     "text": [
      "/var/folders/yx/gjm2fjs56vl5kkwrb6xf5d2h0000gn/T/ipykernel_22034/3888190769.py:14: FutureWarning: The behavior of DataFrame concatenation with empty or all-NA entries is deprecated. In a future version, this will no longer exclude empty or all-NA columns when determining the result dtypes. To retain the old behavior, exclude the relevant entries before the concat operation.\n",
      "  df_incorrect = pd.concat([df_incorrect, row_df], ignore_index=True)\n"
     ]
    }
   ],
   "source": [
    "df_incorrect = pd.DataFrame(columns=['Name', 'Age', 'Answer', 'Prediction', 'QBR'])\n",
    "for name, answer, pred in incorrect:\n",
    "    if ((answer + 1) != pred) or ((answer - 1) != pred):\n",
    "        info = df_2023.query(f\"player_name == '{name}'\")\n",
    "        \n",
    "        games = info[\"games\"].iloc[0]\n",
    "        fantasy_points = info[\"fantasy_points\"].iloc[0]\n",
    "        if games >= 8 and fantasy_points >= 50:\n",
    "            qbr = round(info[\"qbr\"].iloc[0], 2)\n",
    "            age = info[\"age\"].iloc[0]\n",
    "            \n",
    "            row = (name, age, answer, pred, qbr)\n",
    "            row_df = pd.DataFrame([row], columns=df_incorrect.columns)\n",
    "            df_incorrect = pd.concat([df_incorrect, row_df], ignore_index=True)"
   ]
  },
  {
   "cell_type": "code",
   "execution_count": 39,
   "id": "e34db9c5",
   "metadata": {},
   "outputs": [
    {
     "data": {
      "text/html": [
       "<div>\n",
       "<style scoped>\n",
       "    .dataframe tbody tr th:only-of-type {\n",
       "        vertical-align: middle;\n",
       "    }\n",
       "\n",
       "    .dataframe tbody tr th {\n",
       "        vertical-align: top;\n",
       "    }\n",
       "\n",
       "    .dataframe thead th {\n",
       "        text-align: right;\n",
       "    }\n",
       "</style>\n",
       "<table border=\"1\" class=\"dataframe\">\n",
       "  <thead>\n",
       "    <tr style=\"text-align: right;\">\n",
       "      <th></th>\n",
       "      <th>Name</th>\n",
       "      <th>Age</th>\n",
       "      <th>Answer</th>\n",
       "      <th>Prediction</th>\n",
       "      <th>QBR</th>\n",
       "    </tr>\n",
       "  </thead>\n",
       "  <tbody>\n",
       "    <tr>\n",
       "      <th>0</th>\n",
       "      <td>Keenan Allen</td>\n",
       "      <td>31.0</td>\n",
       "      <td>1</td>\n",
       "      <td>-1.0</td>\n",
       "      <td>93.22</td>\n",
       "    </tr>\n",
       "    <tr>\n",
       "      <th>1</th>\n",
       "      <td>Brandin Cooks</td>\n",
       "      <td>29.0</td>\n",
       "      <td>1</td>\n",
       "      <td>-1.0</td>\n",
       "      <td>104.25</td>\n",
       "    </tr>\n",
       "    <tr>\n",
       "      <th>2</th>\n",
       "      <td>Mike Evans</td>\n",
       "      <td>30.0</td>\n",
       "      <td>1</td>\n",
       "      <td>-1.0</td>\n",
       "      <td>96.21</td>\n",
       "    </tr>\n",
       "    <tr>\n",
       "      <th>3</th>\n",
       "      <td>Nelson Agholor</td>\n",
       "      <td>30.0</td>\n",
       "      <td>1</td>\n",
       "      <td>-1.0</td>\n",
       "      <td>97.24</td>\n",
       "    </tr>\n",
       "    <tr>\n",
       "      <th>4</th>\n",
       "      <td>Tyreek Hill</td>\n",
       "      <td>29.0</td>\n",
       "      <td>1</td>\n",
       "      <td>-1.0</td>\n",
       "      <td>105.40</td>\n",
       "    </tr>\n",
       "    <tr>\n",
       "      <th>6</th>\n",
       "      <td>Josh Reynolds</td>\n",
       "      <td>28.0</td>\n",
       "      <td>1</td>\n",
       "      <td>-1.0</td>\n",
       "      <td>98.28</td>\n",
       "    </tr>\n",
       "    <tr>\n",
       "      <th>7</th>\n",
       "      <td>D.J. Chark</td>\n",
       "      <td>26.0</td>\n",
       "      <td>1</td>\n",
       "      <td>-1.0</td>\n",
       "      <td>75.18</td>\n",
       "    </tr>\n",
       "    <tr>\n",
       "      <th>8</th>\n",
       "      <td>D.J. Moore</td>\n",
       "      <td>26.0</td>\n",
       "      <td>1</td>\n",
       "      <td>-1.0</td>\n",
       "      <td>84.46</td>\n",
       "    </tr>\n",
       "    <tr>\n",
       "      <th>11</th>\n",
       "      <td>Michael Pittman</td>\n",
       "      <td>25.0</td>\n",
       "      <td>1</td>\n",
       "      <td>-1.0</td>\n",
       "      <td>87.25</td>\n",
       "    </tr>\n",
       "    <tr>\n",
       "      <th>12</th>\n",
       "      <td>CeeDee Lamb</td>\n",
       "      <td>24.0</td>\n",
       "      <td>1</td>\n",
       "      <td>-1.0</td>\n",
       "      <td>104.25</td>\n",
       "    </tr>\n",
       "    <tr>\n",
       "      <th>13</th>\n",
       "      <td>Nico Collins</td>\n",
       "      <td>24.0</td>\n",
       "      <td>1</td>\n",
       "      <td>-1.0</td>\n",
       "      <td>98.75</td>\n",
       "    </tr>\n",
       "    <tr>\n",
       "      <th>14</th>\n",
       "      <td>Amon-Ra St. Brown</td>\n",
       "      <td>23.0</td>\n",
       "      <td>1</td>\n",
       "      <td>-1.0</td>\n",
       "      <td>98.28</td>\n",
       "    </tr>\n",
       "    <tr>\n",
       "      <th>16</th>\n",
       "      <td>George Pickens</td>\n",
       "      <td>22.0</td>\n",
       "      <td>1</td>\n",
       "      <td>-1.0</td>\n",
       "      <td>81.43</td>\n",
       "    </tr>\n",
       "  </tbody>\n",
       "</table>\n",
       "</div>"
      ],
      "text/plain": [
       "                 Name   Age Answer  Prediction     QBR\n",
       "0        Keenan Allen  31.0      1        -1.0   93.22\n",
       "1       Brandin Cooks  29.0      1        -1.0  104.25\n",
       "2          Mike Evans  30.0      1        -1.0   96.21\n",
       "3      Nelson Agholor  30.0      1        -1.0   97.24\n",
       "4         Tyreek Hill  29.0      1        -1.0  105.40\n",
       "6       Josh Reynolds  28.0      1        -1.0   98.28\n",
       "7          D.J. Chark  26.0      1        -1.0   75.18\n",
       "8          D.J. Moore  26.0      1        -1.0   84.46\n",
       "11    Michael Pittman  25.0      1        -1.0   87.25\n",
       "12        CeeDee Lamb  24.0      1        -1.0  104.25\n",
       "13       Nico Collins  24.0      1        -1.0   98.75\n",
       "14  Amon-Ra St. Brown  23.0      1        -1.0   98.28\n",
       "16     George Pickens  22.0      1        -1.0   81.43"
      ]
     },
     "execution_count": 39,
     "metadata": {},
     "output_type": "execute_result"
    }
   ],
   "source": [
    "df_incorrect.query(\"Prediction == -1.0\")"
   ]
  },
  {
   "cell_type": "code",
   "execution_count": 40,
   "id": "2b64542c",
   "metadata": {},
   "outputs": [
    {
     "data": {
      "text/html": [
       "<div>\n",
       "<style scoped>\n",
       "    .dataframe tbody tr th:only-of-type {\n",
       "        vertical-align: middle;\n",
       "    }\n",
       "\n",
       "    .dataframe tbody tr th {\n",
       "        vertical-align: top;\n",
       "    }\n",
       "\n",
       "    .dataframe thead th {\n",
       "        text-align: right;\n",
       "    }\n",
       "</style>\n",
       "<table border=\"1\" class=\"dataframe\">\n",
       "  <thead>\n",
       "    <tr style=\"text-align: right;\">\n",
       "      <th></th>\n",
       "      <th>Name</th>\n",
       "      <th>Age</th>\n",
       "      <th>Answer</th>\n",
       "      <th>Prediction</th>\n",
       "      <th>QBR</th>\n",
       "    </tr>\n",
       "  </thead>\n",
       "  <tbody>\n",
       "    <tr>\n",
       "      <th>5</th>\n",
       "      <td>Chris Godwin</td>\n",
       "      <td>27.0</td>\n",
       "      <td>-1</td>\n",
       "      <td>1.0</td>\n",
       "      <td>96.21</td>\n",
       "    </tr>\n",
       "    <tr>\n",
       "      <th>9</th>\n",
       "      <td>Diontae Johnson</td>\n",
       "      <td>27.0</td>\n",
       "      <td>-1</td>\n",
       "      <td>1.0</td>\n",
       "      <td>81.43</td>\n",
       "    </tr>\n",
       "    <tr>\n",
       "      <th>10</th>\n",
       "      <td>Gabe Davis</td>\n",
       "      <td>24.0</td>\n",
       "      <td>-1</td>\n",
       "      <td>1.0</td>\n",
       "      <td>93.72</td>\n",
       "    </tr>\n",
       "    <tr>\n",
       "      <th>15</th>\n",
       "      <td>Josh Palmer</td>\n",
       "      <td>23.0</td>\n",
       "      <td>-1</td>\n",
       "      <td>1.0</td>\n",
       "      <td>93.22</td>\n",
       "    </tr>\n",
       "    <tr>\n",
       "      <th>17</th>\n",
       "      <td>Alec Pierce</td>\n",
       "      <td>23.0</td>\n",
       "      <td>-1</td>\n",
       "      <td>1.0</td>\n",
       "      <td>87.25</td>\n",
       "    </tr>\n",
       "  </tbody>\n",
       "</table>\n",
       "</div>"
      ],
      "text/plain": [
       "               Name   Age Answer  Prediction    QBR\n",
       "5      Chris Godwin  27.0     -1         1.0  96.21\n",
       "9   Diontae Johnson  27.0     -1         1.0  81.43\n",
       "10       Gabe Davis  24.0     -1         1.0  93.72\n",
       "15      Josh Palmer  23.0     -1         1.0  93.22\n",
       "17      Alec Pierce  23.0     -1         1.0  87.25"
      ]
     },
     "execution_count": 40,
     "metadata": {},
     "output_type": "execute_result"
    }
   ],
   "source": [
    "df_incorrect.query(\"Prediction == 1.0\")"
   ]
  },
  {
   "cell_type": "code",
   "execution_count": 41,
   "id": "c29b5df1",
   "metadata": {},
   "outputs": [
    {
     "data": {
      "text/html": [
       "<div>\n",
       "<style scoped>\n",
       "    .dataframe tbody tr th:only-of-type {\n",
       "        vertical-align: middle;\n",
       "    }\n",
       "\n",
       "    .dataframe tbody tr th {\n",
       "        vertical-align: top;\n",
       "    }\n",
       "\n",
       "    .dataframe thead th {\n",
       "        text-align: right;\n",
       "    }\n",
       "</style>\n",
       "<table border=\"1\" class=\"dataframe\">\n",
       "  <thead>\n",
       "    <tr style=\"text-align: right;\">\n",
       "      <th></th>\n",
       "      <th>Name</th>\n",
       "      <th>Age</th>\n",
       "      <th>Answer</th>\n",
       "      <th>Prediction</th>\n",
       "      <th>QBR</th>\n",
       "    </tr>\n",
       "  </thead>\n",
       "  <tbody>\n",
       "    <tr>\n",
       "      <th>7</th>\n",
       "      <td>Courtland Sutton</td>\n",
       "      <td>27.0</td>\n",
       "      <td>1</td>\n",
       "      <td>1.0</td>\n",
       "      <td>98.00</td>\n",
       "    </tr>\n",
       "    <tr>\n",
       "      <th>8</th>\n",
       "      <td>Justin Watson</td>\n",
       "      <td>27.0</td>\n",
       "      <td>1</td>\n",
       "      <td>1.0</td>\n",
       "      <td>91.71</td>\n",
       "    </tr>\n",
       "    <tr>\n",
       "      <th>12</th>\n",
       "      <td>DK Metcalf</td>\n",
       "      <td>25.0</td>\n",
       "      <td>1</td>\n",
       "      <td>1.0</td>\n",
       "      <td>90.41</td>\n",
       "    </tr>\n",
       "    <tr>\n",
       "      <th>16</th>\n",
       "      <td>Deebo Samuel</td>\n",
       "      <td>27.0</td>\n",
       "      <td>1</td>\n",
       "      <td>1.0</td>\n",
       "      <td>112.16</td>\n",
       "    </tr>\n",
       "    <tr>\n",
       "      <th>17</th>\n",
       "      <td>Brandon Aiyuk</td>\n",
       "      <td>25.0</td>\n",
       "      <td>1</td>\n",
       "      <td>1.0</td>\n",
       "      <td>112.16</td>\n",
       "    </tr>\n",
       "    <tr>\n",
       "      <th>23</th>\n",
       "      <td>Tutu Atwell</td>\n",
       "      <td>23.0</td>\n",
       "      <td>1</td>\n",
       "      <td>1.0</td>\n",
       "      <td>93.01</td>\n",
       "    </tr>\n",
       "    <tr>\n",
       "      <th>25</th>\n",
       "      <td>Elijah Moore</td>\n",
       "      <td>23.0</td>\n",
       "      <td>1</td>\n",
       "      <td>1.0</td>\n",
       "      <td>85.11</td>\n",
       "    </tr>\n",
       "    <tr>\n",
       "      <th>27</th>\n",
       "      <td>Chris Olave</td>\n",
       "      <td>23.0</td>\n",
       "      <td>1</td>\n",
       "      <td>1.0</td>\n",
       "      <td>93.59</td>\n",
       "    </tr>\n",
       "    <tr>\n",
       "      <th>28</th>\n",
       "      <td>Khalil Shakir</td>\n",
       "      <td>23.0</td>\n",
       "      <td>1</td>\n",
       "      <td>1.0</td>\n",
       "      <td>93.72</td>\n",
       "    </tr>\n",
       "    <tr>\n",
       "      <th>31</th>\n",
       "      <td>Romeo Doubs</td>\n",
       "      <td>23.0</td>\n",
       "      <td>1</td>\n",
       "      <td>1.0</td>\n",
       "      <td>91.80</td>\n",
       "    </tr>\n",
       "  </tbody>\n",
       "</table>\n",
       "</div>"
      ],
      "text/plain": [
       "                Name   Age Answer  Prediction     QBR\n",
       "7   Courtland Sutton  27.0      1         1.0   98.00\n",
       "8      Justin Watson  27.0      1         1.0   91.71\n",
       "12        DK Metcalf  25.0      1         1.0   90.41\n",
       "16      Deebo Samuel  27.0      1         1.0  112.16\n",
       "17     Brandon Aiyuk  25.0      1         1.0  112.16\n",
       "23       Tutu Atwell  23.0      1         1.0   93.01\n",
       "25      Elijah Moore  23.0      1         1.0   85.11\n",
       "27       Chris Olave  23.0      1         1.0   93.59\n",
       "28     Khalil Shakir  23.0      1         1.0   93.72\n",
       "31       Romeo Doubs  23.0      1         1.0   91.80"
      ]
     },
     "execution_count": 41,
     "metadata": {},
     "output_type": "execute_result"
    }
   ],
   "source": [
    "df_correct.query(\"Answer == 1\")"
   ]
  },
  {
   "cell_type": "code",
   "execution_count": 42,
   "id": "e6ae46b4",
   "metadata": {},
   "outputs": [
    {
     "data": {
      "text/html": [
       "<div>\n",
       "<style scoped>\n",
       "    .dataframe tbody tr th:only-of-type {\n",
       "        vertical-align: middle;\n",
       "    }\n",
       "\n",
       "    .dataframe tbody tr th {\n",
       "        vertical-align: top;\n",
       "    }\n",
       "\n",
       "    .dataframe thead th {\n",
       "        text-align: right;\n",
       "    }\n",
       "</style>\n",
       "<table border=\"1\" class=\"dataframe\">\n",
       "  <thead>\n",
       "    <tr style=\"text-align: right;\">\n",
       "      <th></th>\n",
       "      <th>Name</th>\n",
       "      <th>Age</th>\n",
       "      <th>Answer</th>\n",
       "      <th>Prediction</th>\n",
       "      <th>QBR</th>\n",
       "    </tr>\n",
       "  </thead>\n",
       "  <tbody>\n",
       "    <tr>\n",
       "      <th>0</th>\n",
       "      <td>Davante Adams</td>\n",
       "      <td>30.0</td>\n",
       "      <td>-1</td>\n",
       "      <td>-1.0</td>\n",
       "      <td>78.10</td>\n",
       "    </tr>\n",
       "    <tr>\n",
       "      <th>1</th>\n",
       "      <td>Amari Cooper</td>\n",
       "      <td>29.0</td>\n",
       "      <td>-1</td>\n",
       "      <td>-1.0</td>\n",
       "      <td>85.11</td>\n",
       "    </tr>\n",
       "    <tr>\n",
       "      <th>2</th>\n",
       "      <td>Stefon Diggs</td>\n",
       "      <td>29.0</td>\n",
       "      <td>-1</td>\n",
       "      <td>-1.0</td>\n",
       "      <td>93.72</td>\n",
       "    </tr>\n",
       "    <tr>\n",
       "      <th>3</th>\n",
       "      <td>Tyler Lockett</td>\n",
       "      <td>30.0</td>\n",
       "      <td>-1</td>\n",
       "      <td>-1.0</td>\n",
       "      <td>90.41</td>\n",
       "    </tr>\n",
       "    <tr>\n",
       "      <th>4</th>\n",
       "      <td>Tyler Boyd</td>\n",
       "      <td>28.0</td>\n",
       "      <td>-1</td>\n",
       "      <td>-1.0</td>\n",
       "      <td>91.00</td>\n",
       "    </tr>\n",
       "    <tr>\n",
       "      <th>5</th>\n",
       "      <td>Curtis Samuel</td>\n",
       "      <td>27.0</td>\n",
       "      <td>-1</td>\n",
       "      <td>-1.0</td>\n",
       "      <td>80.51</td>\n",
       "    </tr>\n",
       "    <tr>\n",
       "      <th>6</th>\n",
       "      <td>Noah Brown</td>\n",
       "      <td>27.0</td>\n",
       "      <td>-1</td>\n",
       "      <td>-1.0</td>\n",
       "      <td>98.75</td>\n",
       "    </tr>\n",
       "    <tr>\n",
       "      <th>9</th>\n",
       "      <td>Michael Gallup</td>\n",
       "      <td>27.0</td>\n",
       "      <td>-1</td>\n",
       "      <td>-1.0</td>\n",
       "      <td>104.25</td>\n",
       "    </tr>\n",
       "    <tr>\n",
       "      <th>10</th>\n",
       "      <td>Christian Kirk</td>\n",
       "      <td>26.0</td>\n",
       "      <td>-1</td>\n",
       "      <td>-1.0</td>\n",
       "      <td>89.06</td>\n",
       "    </tr>\n",
       "    <tr>\n",
       "      <th>11</th>\n",
       "      <td>Darius Slayton</td>\n",
       "      <td>26.0</td>\n",
       "      <td>-1</td>\n",
       "      <td>-1.0</td>\n",
       "      <td>88.90</td>\n",
       "    </tr>\n",
       "    <tr>\n",
       "      <th>13</th>\n",
       "      <td>Terry McLaurin</td>\n",
       "      <td>27.0</td>\n",
       "      <td>-1</td>\n",
       "      <td>-1.0</td>\n",
       "      <td>80.51</td>\n",
       "    </tr>\n",
       "    <tr>\n",
       "      <th>14</th>\n",
       "      <td>Marquise Brown</td>\n",
       "      <td>26.0</td>\n",
       "      <td>-1</td>\n",
       "      <td>-1.0</td>\n",
       "      <td>81.89</td>\n",
       "    </tr>\n",
       "    <tr>\n",
       "      <th>15</th>\n",
       "      <td>A.J. Brown</td>\n",
       "      <td>26.0</td>\n",
       "      <td>-1</td>\n",
       "      <td>-1.0</td>\n",
       "      <td>89.56</td>\n",
       "    </tr>\n",
       "    <tr>\n",
       "      <th>18</th>\n",
       "      <td>Justin Jefferson</td>\n",
       "      <td>24.0</td>\n",
       "      <td>-1</td>\n",
       "      <td>-1.0</td>\n",
       "      <td>103.78</td>\n",
       "    </tr>\n",
       "    <tr>\n",
       "      <th>19</th>\n",
       "      <td>K.J. Osborn</td>\n",
       "      <td>26.0</td>\n",
       "      <td>-1</td>\n",
       "      <td>-1.0</td>\n",
       "      <td>103.78</td>\n",
       "    </tr>\n",
       "    <tr>\n",
       "      <th>20</th>\n",
       "      <td>Jerry Jeudy</td>\n",
       "      <td>24.0</td>\n",
       "      <td>-1</td>\n",
       "      <td>-1.0</td>\n",
       "      <td>98.00</td>\n",
       "    </tr>\n",
       "    <tr>\n",
       "      <th>21</th>\n",
       "      <td>Tee Higgins</td>\n",
       "      <td>24.0</td>\n",
       "      <td>-1</td>\n",
       "      <td>-1.0</td>\n",
       "      <td>91.00</td>\n",
       "    </tr>\n",
       "    <tr>\n",
       "      <th>22</th>\n",
       "      <td>Jaylen Waddle</td>\n",
       "      <td>24.0</td>\n",
       "      <td>-1</td>\n",
       "      <td>-1.0</td>\n",
       "      <td>105.40</td>\n",
       "    </tr>\n",
       "    <tr>\n",
       "      <th>24</th>\n",
       "      <td>DeVonta Smith</td>\n",
       "      <td>24.0</td>\n",
       "      <td>-1</td>\n",
       "      <td>-1.0</td>\n",
       "      <td>89.56</td>\n",
       "    </tr>\n",
       "    <tr>\n",
       "      <th>26</th>\n",
       "      <td>Drake London</td>\n",
       "      <td>22.0</td>\n",
       "      <td>-1</td>\n",
       "      <td>-1.0</td>\n",
       "      <td>82.22</td>\n",
       "    </tr>\n",
       "    <tr>\n",
       "      <th>29</th>\n",
       "      <td>Garrett Wilson</td>\n",
       "      <td>23.0</td>\n",
       "      <td>-1</td>\n",
       "      <td>-1.0</td>\n",
       "      <td>39.58</td>\n",
       "    </tr>\n",
       "    <tr>\n",
       "      <th>30</th>\n",
       "      <td>Jahan Dotson</td>\n",
       "      <td>23.0</td>\n",
       "      <td>-1</td>\n",
       "      <td>-1.0</td>\n",
       "      <td>80.51</td>\n",
       "    </tr>\n",
       "    <tr>\n",
       "      <th>32</th>\n",
       "      <td>Christian Watson</td>\n",
       "      <td>24.0</td>\n",
       "      <td>-1</td>\n",
       "      <td>-1.0</td>\n",
       "      <td>91.80</td>\n",
       "    </tr>\n",
       "  </tbody>\n",
       "</table>\n",
       "</div>"
      ],
      "text/plain": [
       "                Name   Age Answer  Prediction     QBR\n",
       "0      Davante Adams  30.0     -1        -1.0   78.10\n",
       "1       Amari Cooper  29.0     -1        -1.0   85.11\n",
       "2       Stefon Diggs  29.0     -1        -1.0   93.72\n",
       "3      Tyler Lockett  30.0     -1        -1.0   90.41\n",
       "4         Tyler Boyd  28.0     -1        -1.0   91.00\n",
       "5      Curtis Samuel  27.0     -1        -1.0   80.51\n",
       "6         Noah Brown  27.0     -1        -1.0   98.75\n",
       "9     Michael Gallup  27.0     -1        -1.0  104.25\n",
       "10    Christian Kirk  26.0     -1        -1.0   89.06\n",
       "11    Darius Slayton  26.0     -1        -1.0   88.90\n",
       "13    Terry McLaurin  27.0     -1        -1.0   80.51\n",
       "14    Marquise Brown  26.0     -1        -1.0   81.89\n",
       "15        A.J. Brown  26.0     -1        -1.0   89.56\n",
       "18  Justin Jefferson  24.0     -1        -1.0  103.78\n",
       "19       K.J. Osborn  26.0     -1        -1.0  103.78\n",
       "20       Jerry Jeudy  24.0     -1        -1.0   98.00\n",
       "21       Tee Higgins  24.0     -1        -1.0   91.00\n",
       "22     Jaylen Waddle  24.0     -1        -1.0  105.40\n",
       "24     DeVonta Smith  24.0     -1        -1.0   89.56\n",
       "26      Drake London  22.0     -1        -1.0   82.22\n",
       "29    Garrett Wilson  23.0     -1        -1.0   39.58\n",
       "30      Jahan Dotson  23.0     -1        -1.0   80.51\n",
       "32  Christian Watson  24.0     -1        -1.0   91.80"
      ]
     },
     "execution_count": 42,
     "metadata": {},
     "output_type": "execute_result"
    }
   ],
   "source": [
    "df_correct.query(\"Answer == -1\")"
   ]
  },
  {
   "cell_type": "code",
   "execution_count": null,
   "id": "60a2bd8e",
   "metadata": {},
   "outputs": [],
   "source": []
  }
 ],
 "metadata": {
  "kernelspec": {
   "display_name": "nfldata",
   "language": "python",
   "name": "nfldata"
  },
  "language_info": {
   "codemirror_mode": {
    "name": "ipython",
    "version": 3
   },
   "file_extension": ".py",
   "mimetype": "text/x-python",
   "name": "python",
   "nbconvert_exporter": "python",
   "pygments_lexer": "ipython3",
   "version": "3.9.7"
  }
 },
 "nbformat": 4,
 "nbformat_minor": 5
}
