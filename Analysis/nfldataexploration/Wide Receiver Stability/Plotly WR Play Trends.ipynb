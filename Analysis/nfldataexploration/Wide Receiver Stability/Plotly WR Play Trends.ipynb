{
 "cells": [
  {
   "cell_type": "markdown",
   "id": "2c4c46b9",
   "metadata": {},
   "source": [
    "# Imports"
   ]
  },
  {
   "cell_type": "code",
   "execution_count": 20,
   "id": "d8d4517e",
   "metadata": {},
   "outputs": [],
   "source": [
    "import plotly.express as px\n",
    "import plotly.graph_objects as go\n",
    "import pandas as pd"
   ]
  },
  {
   "cell_type": "code",
   "execution_count": 5,
   "id": "6549bd76",
   "metadata": {},
   "outputs": [],
   "source": [
    "df_pbp = pd.read_pickle(\"../../interactive/df_pbp_2012_2022.pkl\")"
   ]
  },
  {
   "cell_type": "code",
   "execution_count": 6,
   "id": "2661945b",
   "metadata": {},
   "outputs": [],
   "source": [
    "df_pass = df_pbp.query(\"play_type == 'pass' and season_type == 'REG'\").copy()"
   ]
  },
  {
   "cell_type": "code",
   "execution_count": 7,
   "id": "780d99ed",
   "metadata": {},
   "outputs": [],
   "source": [
    "df_temp = df_pass \\\n",
    "        .groupby([\"offense_formation\", \"season\"]) \\\n",
    "        .aggregate({\n",
    "            'play_id': [\"count\"],\n",
    "            'yards_gained': [\"mean\", \"sum\"],\n",
    "            'receiving_yards': [\"mean\", \"sum\"],\n",
    "            'epa': [\"mean\", \"sum\"],\n",
    "            'success': [\"mean\", \"sum\"],\n",
    "            'touchdown': [\"mean\", \"sum\"],\n",
    "            'sack': [\"mean\", \"sum\"],\n",
    "            'qb_hit': [\"mean\", \"sum\"],\n",
    "            'first_down': [\"mean\", \"sum\"],\n",
    "            'xpass': [\"mean\"],\n",
    "            'pass_oe': [\"mean\"],\n",
    "            'cp': [\"mean\"],\n",
    "            'cpoe': [\"mean\"]\n",
    "        })"
   ]
  },
  {
   "cell_type": "code",
   "execution_count": 8,
   "id": "feb23b39",
   "metadata": {},
   "outputs": [],
   "source": [
    "df_temp.columns = list(map(\"_\".join, df_temp.columns))\n",
    "df_temp.reset_index(inplace=True)"
   ]
  },
  {
   "cell_type": "code",
   "execution_count": null,
   "id": "6bef43d1",
   "metadata": {},
   "outputs": [],
   "source": [
    "['season_type', 'yrdln', 'ydstogo', 'ydsnet', 'play_type', \n",
    " 'yards_gained', 'no_huddle', 'pass_length', 'pass_location', 'air_yards', 'yards_after_catch',\n",
    "  'posteam_score', 'defteam_score', 'score_differential', \n",
    " 'posteam_score_post', 'defteam_score_post', 'score_differential_post', 'no_score_prob', \n",
    " 'ep', 'epa', 'air_epa', 'yac_epa', 'comp_air_epa', 'comp_yac_epa',\n",
    " 'wp', 'air_wpa', 'yac_wpa', 'comp_air_wpa', 'comp_yac_wpa',\n",
    " 'first_down_pass', 'first_down_penalty', 'third_down_converted', 'third_down_failed',\n",
    " 'fourth_down_converted', 'fourth_down_failed', 'incomplete_pass', 'interception', \n",
    " 'qb_hit', 'pass_attempt', 'sack', 'touchdown', 'pass_touchdown',\n",
    " 'fumble', 'complete_pass', 'passer_player_id', 'passer_player_name', 'passing_yards',\n",
    " 'receiver_player_id', 'receiver_player_name', 'receiving_yards', \n",
    " 'season', 'cp', 'cpoe', 'series', 'series_success', 'series_result', 'order_sequence', \n",
    " \n",
    "  'special_teams_play', 'st_play_type', 'end_clock_time', 'end_yard_line', 'fixed_drive', 'fixed_drive_result', \n",
    " 'drive_real_start_time', 'drive_play_count', 'drive_time_of_possession', 'drive_first_downs', 'drive_inside20', \n",
    " 'drive_ended_with_score', 'drive_quarter_start', 'drive_quarter_end', 'drive_yards_penalized', \n",
    " 'drive_start_transition', 'drive_end_transition', 'drive_game_clock_start', 'drive_game_clock_end', \n",
    " 'drive_start_yard_line', 'drive_end_yard_line', 'drive_play_id_started', 'drive_play_id_ended', \n",
    " 'away_score', 'home_score', 'location', 'result', 'total', 'spread_line', 'total_line', 'div_game', \n",
    " 'roof', 'surface', 'temp', 'wind', 'home_coach', 'away_coach', \n",
    " 'stadium_id', 'game_stadium', 'aborted_play', 'success', 'passer', 'passer_jersey_number', 'rusher', \n",
    " 'rusher_jersey_number', 'receiver', 'receiver_jersey_number', 'pass', 'rush', 'first_down', 'special', \n",
    " 'play', 'passer_id', 'rusher_id', 'receiver_id', 'name', 'jersey_number', 'id', 'fantasy_player_name', \n",
    " 'fantasy_player_id', 'fantasy', 'fantasy_id', 'out_of_bounds', 'home_opening_kickoff', 'qb_epa', 'xyac_epa',\n",
    " 'xyac_mean_yardage', 'xyac_median_yardage', 'xyac_success', 'xyac_fd', 'xpass', 'pass_oe', 'nflverse_game_id',\n",
    " 'possession_team', 'offense_formation', 'offense_personnel', 'defenders_in_box', 'defense_personnel', \n",
    " 'number_of_pass_rushers', 'players_on_play', 'offense_players', 'defense_players', 'n_offense', 'n_defense']\n"
   ]
  },
  {
   "cell_type": "markdown",
   "id": "fc341300",
   "metadata": {},
   "source": [
    "# Line Graphs"
   ]
  },
  {
   "cell_type": "code",
   "execution_count": 18,
   "id": "b5f25d6b",
   "metadata": {},
   "outputs": [
    {
     "data": {
      "text/html": [
       "<div>\n",
       "<style scoped>\n",
       "    .dataframe tbody tr th:only-of-type {\n",
       "        vertical-align: middle;\n",
       "    }\n",
       "\n",
       "    .dataframe tbody tr th {\n",
       "        vertical-align: top;\n",
       "    }\n",
       "\n",
       "    .dataframe thead th {\n",
       "        text-align: right;\n",
       "    }\n",
       "</style>\n",
       "<table border=\"1\" class=\"dataframe\">\n",
       "  <thead>\n",
       "    <tr style=\"text-align: right;\">\n",
       "      <th></th>\n",
       "      <th>offense_formation</th>\n",
       "      <th>season</th>\n",
       "      <th>play_id_count</th>\n",
       "      <th>yards_gained_mean</th>\n",
       "      <th>yards_gained_sum</th>\n",
       "      <th>receiving_yards_mean</th>\n",
       "      <th>receiving_yards_sum</th>\n",
       "      <th>epa_mean</th>\n",
       "      <th>epa_sum</th>\n",
       "      <th>success_mean</th>\n",
       "      <th>...</th>\n",
       "      <th>sack_mean</th>\n",
       "      <th>sack_sum</th>\n",
       "      <th>qb_hit_mean</th>\n",
       "      <th>qb_hit_sum</th>\n",
       "      <th>first_down_mean</th>\n",
       "      <th>first_down_sum</th>\n",
       "      <th>xpass_mean</th>\n",
       "      <th>pass_oe_mean</th>\n",
       "      <th>cp_mean</th>\n",
       "      <th>cpoe_mean</th>\n",
       "    </tr>\n",
       "  </thead>\n",
       "  <tbody>\n",
       "    <tr>\n",
       "      <th>0</th>\n",
       "      <td>ACE</td>\n",
       "      <td>2016</td>\n",
       "      <td>1</td>\n",
       "      <td>6.000000</td>\n",
       "      <td>6.0</td>\n",
       "      <td>6.000000</td>\n",
       "      <td>6.0</td>\n",
       "      <td>0.923765</td>\n",
       "      <td>0.923765</td>\n",
       "      <td>1.000000</td>\n",
       "      <td>...</td>\n",
       "      <td>0.000000</td>\n",
       "      <td>0.0</td>\n",
       "      <td>0.000000</td>\n",
       "      <td>0.0</td>\n",
       "      <td>1.000000</td>\n",
       "      <td>1.0</td>\n",
       "      <td>0.578356</td>\n",
       "      <td>42.164444</td>\n",
       "      <td>0.763573</td>\n",
       "      <td>23.642689</td>\n",
       "    </tr>\n",
       "    <tr>\n",
       "      <th>1</th>\n",
       "      <td>EMPTY</td>\n",
       "      <td>2016</td>\n",
       "      <td>2401</td>\n",
       "      <td>6.225323</td>\n",
       "      <td>14947.0</td>\n",
       "      <td>10.515152</td>\n",
       "      <td>15615.0</td>\n",
       "      <td>0.071224</td>\n",
       "      <td>171.009369</td>\n",
       "      <td>0.468138</td>\n",
       "      <td>...</td>\n",
       "      <td>0.046231</td>\n",
       "      <td>111.0</td>\n",
       "      <td>0.110371</td>\n",
       "      <td>265.0</td>\n",
       "      <td>0.322366</td>\n",
       "      <td>774.0</td>\n",
       "      <td>0.744209</td>\n",
       "      <td>25.579113</td>\n",
       "      <td>0.644752</td>\n",
       "      <td>1.466223</td>\n",
       "    </tr>\n",
       "    <tr>\n",
       "      <th>2</th>\n",
       "      <td>EMPTY</td>\n",
       "      <td>2017</td>\n",
       "      <td>2340</td>\n",
       "      <td>5.697863</td>\n",
       "      <td>13333.0</td>\n",
       "      <td>10.501094</td>\n",
       "      <td>14397.0</td>\n",
       "      <td>-0.031695</td>\n",
       "      <td>-74.166275</td>\n",
       "      <td>0.444017</td>\n",
       "      <td>...</td>\n",
       "      <td>0.068803</td>\n",
       "      <td>161.0</td>\n",
       "      <td>0.140598</td>\n",
       "      <td>329.0</td>\n",
       "      <td>0.302137</td>\n",
       "      <td>707.0</td>\n",
       "      <td>0.747456</td>\n",
       "      <td>25.254383</td>\n",
       "      <td>0.641713</td>\n",
       "      <td>-0.403871</td>\n",
       "    </tr>\n",
       "    <tr>\n",
       "      <th>3</th>\n",
       "      <td>EMPTY</td>\n",
       "      <td>2018</td>\n",
       "      <td>2424</td>\n",
       "      <td>6.160479</td>\n",
       "      <td>14933.0</td>\n",
       "      <td>10.692411</td>\n",
       "      <td>15921.0</td>\n",
       "      <td>0.018830</td>\n",
       "      <td>45.644360</td>\n",
       "      <td>0.465347</td>\n",
       "      <td>...</td>\n",
       "      <td>0.061469</td>\n",
       "      <td>149.0</td>\n",
       "      <td>0.132838</td>\n",
       "      <td>322.0</td>\n",
       "      <td>0.331683</td>\n",
       "      <td>804.0</td>\n",
       "      <td>0.737339</td>\n",
       "      <td>26.266146</td>\n",
       "      <td>0.669906</td>\n",
       "      <td>0.263215</td>\n",
       "    </tr>\n",
       "    <tr>\n",
       "      <th>4</th>\n",
       "      <td>EMPTY</td>\n",
       "      <td>2019</td>\n",
       "      <td>2522</td>\n",
       "      <td>5.958763</td>\n",
       "      <td>15028.0</td>\n",
       "      <td>10.789685</td>\n",
       "      <td>16109.0</td>\n",
       "      <td>0.017479</td>\n",
       "      <td>44.080795</td>\n",
       "      <td>0.437748</td>\n",
       "      <td>...</td>\n",
       "      <td>0.060666</td>\n",
       "      <td>153.0</td>\n",
       "      <td>0.135607</td>\n",
       "      <td>342.0</td>\n",
       "      <td>0.303727</td>\n",
       "      <td>766.0</td>\n",
       "      <td>0.764403</td>\n",
       "      <td>23.559685</td>\n",
       "      <td>0.663015</td>\n",
       "      <td>-0.732728</td>\n",
       "    </tr>\n",
       "    <tr>\n",
       "      <th>5</th>\n",
       "      <td>EMPTY</td>\n",
       "      <td>2020</td>\n",
       "      <td>2777</td>\n",
       "      <td>6.112711</td>\n",
       "      <td>16975.0</td>\n",
       "      <td>10.275429</td>\n",
       "      <td>17982.0</td>\n",
       "      <td>0.030965</td>\n",
       "      <td>85.990257</td>\n",
       "      <td>0.472452</td>\n",
       "      <td>...</td>\n",
       "      <td>0.057616</td>\n",
       "      <td>160.0</td>\n",
       "      <td>0.144761</td>\n",
       "      <td>402.0</td>\n",
       "      <td>0.328772</td>\n",
       "      <td>913.0</td>\n",
       "      <td>0.762468</td>\n",
       "      <td>23.753225</td>\n",
       "      <td>0.677201</td>\n",
       "      <td>1.313460</td>\n",
       "    </tr>\n",
       "    <tr>\n",
       "      <th>6</th>\n",
       "      <td>EMPTY</td>\n",
       "      <td>2021</td>\n",
       "      <td>2902</td>\n",
       "      <td>5.963129</td>\n",
       "      <td>17305.0</td>\n",
       "      <td>10.640482</td>\n",
       "      <td>18557.0</td>\n",
       "      <td>0.018918</td>\n",
       "      <td>54.899982</td>\n",
       "      <td>0.453136</td>\n",
       "      <td>...</td>\n",
       "      <td>0.065817</td>\n",
       "      <td>191.0</td>\n",
       "      <td>0.145072</td>\n",
       "      <td>421.0</td>\n",
       "      <td>0.309442</td>\n",
       "      <td>898.0</td>\n",
       "      <td>0.763939</td>\n",
       "      <td>23.606077</td>\n",
       "      <td>0.672292</td>\n",
       "      <td>-0.879764</td>\n",
       "    </tr>\n",
       "    <tr>\n",
       "      <th>7</th>\n",
       "      <td>EMPTY</td>\n",
       "      <td>2022</td>\n",
       "      <td>2527</td>\n",
       "      <td>6.061733</td>\n",
       "      <td>15318.0</td>\n",
       "      <td>10.834547</td>\n",
       "      <td>16371.0</td>\n",
       "      <td>-0.042150</td>\n",
       "      <td>-106.512047</td>\n",
       "      <td>0.428176</td>\n",
       "      <td>...</td>\n",
       "      <td>0.063712</td>\n",
       "      <td>161.0</td>\n",
       "      <td>0.136526</td>\n",
       "      <td>345.0</td>\n",
       "      <td>0.297982</td>\n",
       "      <td>753.0</td>\n",
       "      <td>0.786116</td>\n",
       "      <td>21.388365</td>\n",
       "      <td>0.675912</td>\n",
       "      <td>-1.406379</td>\n",
       "    </tr>\n",
       "    <tr>\n",
       "      <th>8</th>\n",
       "      <td>I_FORM</td>\n",
       "      <td>2016</td>\n",
       "      <td>958</td>\n",
       "      <td>7.883090</td>\n",
       "      <td>7552.0</td>\n",
       "      <td>13.246180</td>\n",
       "      <td>7802.0</td>\n",
       "      <td>0.162290</td>\n",
       "      <td>155.473679</td>\n",
       "      <td>0.501044</td>\n",
       "      <td>...</td>\n",
       "      <td>0.045929</td>\n",
       "      <td>44.0</td>\n",
       "      <td>0.141962</td>\n",
       "      <td>136.0</td>\n",
       "      <td>0.365344</td>\n",
       "      <td>350.0</td>\n",
       "      <td>0.510257</td>\n",
       "      <td>48.974251</td>\n",
       "      <td>0.634877</td>\n",
       "      <td>2.543661</td>\n",
       "    </tr>\n",
       "    <tr>\n",
       "      <th>9</th>\n",
       "      <td>I_FORM</td>\n",
       "      <td>2017</td>\n",
       "      <td>1061</td>\n",
       "      <td>7.722903</td>\n",
       "      <td>8194.0</td>\n",
       "      <td>13.518988</td>\n",
       "      <td>8544.0</td>\n",
       "      <td>0.134083</td>\n",
       "      <td>142.262390</td>\n",
       "      <td>0.486334</td>\n",
       "      <td>...</td>\n",
       "      <td>0.049953</td>\n",
       "      <td>53.0</td>\n",
       "      <td>0.140434</td>\n",
       "      <td>149.0</td>\n",
       "      <td>0.379830</td>\n",
       "      <td>403.0</td>\n",
       "      <td>0.520895</td>\n",
       "      <td>47.910522</td>\n",
       "      <td>0.634926</td>\n",
       "      <td>0.735073</td>\n",
       "    </tr>\n",
       "    <tr>\n",
       "      <th>10</th>\n",
       "      <td>I_FORM</td>\n",
       "      <td>2018</td>\n",
       "      <td>909</td>\n",
       "      <td>8.331133</td>\n",
       "      <td>7573.0</td>\n",
       "      <td>13.888308</td>\n",
       "      <td>7958.0</td>\n",
       "      <td>0.209998</td>\n",
       "      <td>190.887955</td>\n",
       "      <td>0.526953</td>\n",
       "      <td>...</td>\n",
       "      <td>0.067107</td>\n",
       "      <td>61.0</td>\n",
       "      <td>0.159516</td>\n",
       "      <td>145.0</td>\n",
       "      <td>0.388339</td>\n",
       "      <td>353.0</td>\n",
       "      <td>0.523330</td>\n",
       "      <td>47.667004</td>\n",
       "      <td>0.656933</td>\n",
       "      <td>4.527308</td>\n",
       "    </tr>\n",
       "    <tr>\n",
       "      <th>11</th>\n",
       "      <td>I_FORM</td>\n",
       "      <td>2019</td>\n",
       "      <td>794</td>\n",
       "      <td>8.148615</td>\n",
       "      <td>6470.0</td>\n",
       "      <td>13.485944</td>\n",
       "      <td>6716.0</td>\n",
       "      <td>0.224229</td>\n",
       "      <td>178.037766</td>\n",
       "      <td>0.518892</td>\n",
       "      <td>...</td>\n",
       "      <td>0.047859</td>\n",
       "      <td>38.0</td>\n",
       "      <td>0.144836</td>\n",
       "      <td>115.0</td>\n",
       "      <td>0.399244</td>\n",
       "      <td>317.0</td>\n",
       "      <td>0.519669</td>\n",
       "      <td>48.033066</td>\n",
       "      <td>0.664662</td>\n",
       "      <td>3.086859</td>\n",
       "    </tr>\n",
       "    <tr>\n",
       "      <th>12</th>\n",
       "      <td>I_FORM</td>\n",
       "      <td>2020</td>\n",
       "      <td>777</td>\n",
       "      <td>8.055341</td>\n",
       "      <td>6259.0</td>\n",
       "      <td>14.413420</td>\n",
       "      <td>6659.0</td>\n",
       "      <td>0.197853</td>\n",
       "      <td>153.731720</td>\n",
       "      <td>0.508366</td>\n",
       "      <td>...</td>\n",
       "      <td>0.077220</td>\n",
       "      <td>60.0</td>\n",
       "      <td>0.162162</td>\n",
       "      <td>126.0</td>\n",
       "      <td>0.414414</td>\n",
       "      <td>322.0</td>\n",
       "      <td>0.519323</td>\n",
       "      <td>48.067677</td>\n",
       "      <td>0.660828</td>\n",
       "      <td>2.260447</td>\n",
       "    </tr>\n",
       "    <tr>\n",
       "      <th>13</th>\n",
       "      <td>I_FORM</td>\n",
       "      <td>2021</td>\n",
       "      <td>606</td>\n",
       "      <td>7.427393</td>\n",
       "      <td>4501.0</td>\n",
       "      <td>12.608924</td>\n",
       "      <td>4804.0</td>\n",
       "      <td>0.109699</td>\n",
       "      <td>66.477654</td>\n",
       "      <td>0.523102</td>\n",
       "      <td>...</td>\n",
       "      <td>0.069307</td>\n",
       "      <td>42.0</td>\n",
       "      <td>0.160066</td>\n",
       "      <td>97.0</td>\n",
       "      <td>0.379538</td>\n",
       "      <td>230.0</td>\n",
       "      <td>0.519328</td>\n",
       "      <td>48.067165</td>\n",
       "      <td>0.663675</td>\n",
       "      <td>3.927738</td>\n",
       "    </tr>\n",
       "    <tr>\n",
       "      <th>14</th>\n",
       "      <td>I_FORM</td>\n",
       "      <td>2022</td>\n",
       "      <td>542</td>\n",
       "      <td>7.180812</td>\n",
       "      <td>3892.0</td>\n",
       "      <td>13.018808</td>\n",
       "      <td>4153.0</td>\n",
       "      <td>0.043403</td>\n",
       "      <td>23.524300</td>\n",
       "      <td>0.481550</td>\n",
       "      <td>...</td>\n",
       "      <td>0.073801</td>\n",
       "      <td>40.0</td>\n",
       "      <td>0.171587</td>\n",
       "      <td>93.0</td>\n",
       "      <td>0.376384</td>\n",
       "      <td>204.0</td>\n",
       "      <td>0.506497</td>\n",
       "      <td>49.350319</td>\n",
       "      <td>0.660919</td>\n",
       "      <td>0.784359</td>\n",
       "    </tr>\n",
       "    <tr>\n",
       "      <th>15</th>\n",
       "      <td>JUMBO</td>\n",
       "      <td>2016</td>\n",
       "      <td>47</td>\n",
       "      <td>2.106383</td>\n",
       "      <td>99.0</td>\n",
       "      <td>4.444445</td>\n",
       "      <td>120.0</td>\n",
       "      <td>0.032621</td>\n",
       "      <td>1.533188</td>\n",
       "      <td>0.510638</td>\n",
       "      <td>...</td>\n",
       "      <td>0.063830</td>\n",
       "      <td>3.0</td>\n",
       "      <td>0.212766</td>\n",
       "      <td>10.0</td>\n",
       "      <td>0.468085</td>\n",
       "      <td>22.0</td>\n",
       "      <td>0.402527</td>\n",
       "      <td>59.747311</td>\n",
       "      <td>0.576131</td>\n",
       "      <td>8.240596</td>\n",
       "    </tr>\n",
       "    <tr>\n",
       "      <th>16</th>\n",
       "      <td>JUMBO</td>\n",
       "      <td>2017</td>\n",
       "      <td>64</td>\n",
       "      <td>2.515625</td>\n",
       "      <td>161.0</td>\n",
       "      <td>4.128205</td>\n",
       "      <td>161.0</td>\n",
       "      <td>0.190854</td>\n",
       "      <td>12.214678</td>\n",
       "      <td>0.546875</td>\n",
       "      <td>...</td>\n",
       "      <td>0.000000</td>\n",
       "      <td>0.0</td>\n",
       "      <td>0.046875</td>\n",
       "      <td>3.0</td>\n",
       "      <td>0.531250</td>\n",
       "      <td>34.0</td>\n",
       "      <td>0.381074</td>\n",
       "      <td>61.892551</td>\n",
       "      <td>0.568209</td>\n",
       "      <td>5.083820</td>\n",
       "    </tr>\n",
       "    <tr>\n",
       "      <th>17</th>\n",
       "      <td>JUMBO</td>\n",
       "      <td>2018</td>\n",
       "      <td>52</td>\n",
       "      <td>1.884615</td>\n",
       "      <td>98.0</td>\n",
       "      <td>3.703704</td>\n",
       "      <td>100.0</td>\n",
       "      <td>0.013525</td>\n",
       "      <td>0.703294</td>\n",
       "      <td>0.480769</td>\n",
       "      <td>...</td>\n",
       "      <td>0.057692</td>\n",
       "      <td>3.0</td>\n",
       "      <td>0.250000</td>\n",
       "      <td>13.0</td>\n",
       "      <td>0.423077</td>\n",
       "      <td>22.0</td>\n",
       "      <td>0.345368</td>\n",
       "      <td>65.463158</td>\n",
       "      <td>0.587811</td>\n",
       "      <td>-0.085491</td>\n",
       "    </tr>\n",
       "    <tr>\n",
       "      <th>18</th>\n",
       "      <td>JUMBO</td>\n",
       "      <td>2019</td>\n",
       "      <td>55</td>\n",
       "      <td>1.672727</td>\n",
       "      <td>92.0</td>\n",
       "      <td>3.575758</td>\n",
       "      <td>118.0</td>\n",
       "      <td>0.025419</td>\n",
       "      <td>1.398040</td>\n",
       "      <td>0.527273</td>\n",
       "      <td>...</td>\n",
       "      <td>0.090909</td>\n",
       "      <td>5.0</td>\n",
       "      <td>0.109091</td>\n",
       "      <td>6.0</td>\n",
       "      <td>0.509091</td>\n",
       "      <td>28.0</td>\n",
       "      <td>0.408796</td>\n",
       "      <td>59.120422</td>\n",
       "      <td>0.642792</td>\n",
       "      <td>12.464974</td>\n",
       "    </tr>\n",
       "    <tr>\n",
       "      <th>19</th>\n",
       "      <td>JUMBO</td>\n",
       "      <td>2020</td>\n",
       "      <td>75</td>\n",
       "      <td>1.680000</td>\n",
       "      <td>126.0</td>\n",
       "      <td>3.897436</td>\n",
       "      <td>152.0</td>\n",
       "      <td>-0.119495</td>\n",
       "      <td>-8.962109</td>\n",
       "      <td>0.493333</td>\n",
       "      <td>...</td>\n",
       "      <td>0.066667</td>\n",
       "      <td>5.0</td>\n",
       "      <td>0.120000</td>\n",
       "      <td>9.0</td>\n",
       "      <td>0.466667</td>\n",
       "      <td>35.0</td>\n",
       "      <td>0.395771</td>\n",
       "      <td>60.422913</td>\n",
       "      <td>0.650996</td>\n",
       "      <td>-2.196328</td>\n",
       "    </tr>\n",
       "    <tr>\n",
       "      <th>20</th>\n",
       "      <td>JUMBO</td>\n",
       "      <td>2021</td>\n",
       "      <td>62</td>\n",
       "      <td>3.096774</td>\n",
       "      <td>192.0</td>\n",
       "      <td>5.486486</td>\n",
       "      <td>203.0</td>\n",
       "      <td>0.349899</td>\n",
       "      <td>21.693733</td>\n",
       "      <td>0.516129</td>\n",
       "      <td>...</td>\n",
       "      <td>0.032258</td>\n",
       "      <td>2.0</td>\n",
       "      <td>0.145161</td>\n",
       "      <td>9.0</td>\n",
       "      <td>0.500000</td>\n",
       "      <td>31.0</td>\n",
       "      <td>0.371511</td>\n",
       "      <td>62.848949</td>\n",
       "      <td>0.615091</td>\n",
       "      <td>7.009395</td>\n",
       "    </tr>\n",
       "    <tr>\n",
       "      <th>21</th>\n",
       "      <td>JUMBO</td>\n",
       "      <td>2022</td>\n",
       "      <td>45</td>\n",
       "      <td>5.711111</td>\n",
       "      <td>257.0</td>\n",
       "      <td>8.566667</td>\n",
       "      <td>257.0</td>\n",
       "      <td>0.520047</td>\n",
       "      <td>23.402130</td>\n",
       "      <td>0.622222</td>\n",
       "      <td>...</td>\n",
       "      <td>0.000000</td>\n",
       "      <td>0.0</td>\n",
       "      <td>0.111111</td>\n",
       "      <td>5.0</td>\n",
       "      <td>0.600000</td>\n",
       "      <td>27.0</td>\n",
       "      <td>0.391218</td>\n",
       "      <td>60.878174</td>\n",
       "      <td>0.622841</td>\n",
       "      <td>14.638992</td>\n",
       "    </tr>\n",
       "    <tr>\n",
       "      <th>22</th>\n",
       "      <td>PISTOL</td>\n",
       "      <td>2016</td>\n",
       "      <td>361</td>\n",
       "      <td>6.105263</td>\n",
       "      <td>2204.0</td>\n",
       "      <td>10.629630</td>\n",
       "      <td>2296.0</td>\n",
       "      <td>-0.038197</td>\n",
       "      <td>-13.789268</td>\n",
       "      <td>0.415512</td>\n",
       "      <td>...</td>\n",
       "      <td>0.044321</td>\n",
       "      <td>16.0</td>\n",
       "      <td>0.116343</td>\n",
       "      <td>42.0</td>\n",
       "      <td>0.304709</td>\n",
       "      <td>110.0</td>\n",
       "      <td>0.592090</td>\n",
       "      <td>40.791019</td>\n",
       "      <td>0.653397</td>\n",
       "      <td>-1.053997</td>\n",
       "    </tr>\n",
       "    <tr>\n",
       "      <th>23</th>\n",
       "      <td>PISTOL</td>\n",
       "      <td>2017</td>\n",
       "      <td>188</td>\n",
       "      <td>7.494681</td>\n",
       "      <td>1409.0</td>\n",
       "      <td>10.316546</td>\n",
       "      <td>1434.0</td>\n",
       "      <td>0.172518</td>\n",
       "      <td>32.433399</td>\n",
       "      <td>0.468085</td>\n",
       "      <td>...</td>\n",
       "      <td>0.015957</td>\n",
       "      <td>3.0</td>\n",
       "      <td>0.090426</td>\n",
       "      <td>17.0</td>\n",
       "      <td>0.345745</td>\n",
       "      <td>65.0</td>\n",
       "      <td>0.586769</td>\n",
       "      <td>41.323109</td>\n",
       "      <td>0.680968</td>\n",
       "      <td>8.698791</td>\n",
       "    </tr>\n",
       "    <tr>\n",
       "      <th>24</th>\n",
       "      <td>PISTOL</td>\n",
       "      <td>2018</td>\n",
       "      <td>190</td>\n",
       "      <td>6.510526</td>\n",
       "      <td>1237.0</td>\n",
       "      <td>10.895162</td>\n",
       "      <td>1351.0</td>\n",
       "      <td>0.041621</td>\n",
       "      <td>7.908028</td>\n",
       "      <td>0.478947</td>\n",
       "      <td>...</td>\n",
       "      <td>0.105263</td>\n",
       "      <td>20.0</td>\n",
       "      <td>0.173684</td>\n",
       "      <td>33.0</td>\n",
       "      <td>0.368421</td>\n",
       "      <td>70.0</td>\n",
       "      <td>0.636062</td>\n",
       "      <td>36.393795</td>\n",
       "      <td>0.663764</td>\n",
       "      <td>7.875111</td>\n",
       "    </tr>\n",
       "    <tr>\n",
       "      <th>25</th>\n",
       "      <td>PISTOL</td>\n",
       "      <td>2019</td>\n",
       "      <td>375</td>\n",
       "      <td>6.821333</td>\n",
       "      <td>2558.0</td>\n",
       "      <td>11.689957</td>\n",
       "      <td>2677.0</td>\n",
       "      <td>0.124178</td>\n",
       "      <td>46.566795</td>\n",
       "      <td>0.442667</td>\n",
       "      <td>...</td>\n",
       "      <td>0.066667</td>\n",
       "      <td>25.0</td>\n",
       "      <td>0.154667</td>\n",
       "      <td>58.0</td>\n",
       "      <td>0.338667</td>\n",
       "      <td>127.0</td>\n",
       "      <td>0.588456</td>\n",
       "      <td>41.154362</td>\n",
       "      <td>0.675859</td>\n",
       "      <td>0.772306</td>\n",
       "    </tr>\n",
       "    <tr>\n",
       "      <th>26</th>\n",
       "      <td>PISTOL</td>\n",
       "      <td>2020</td>\n",
       "      <td>401</td>\n",
       "      <td>6.566085</td>\n",
       "      <td>2633.0</td>\n",
       "      <td>10.574713</td>\n",
       "      <td>2760.0</td>\n",
       "      <td>0.157010</td>\n",
       "      <td>62.961205</td>\n",
       "      <td>0.501247</td>\n",
       "      <td>...</td>\n",
       "      <td>0.059850</td>\n",
       "      <td>24.0</td>\n",
       "      <td>0.109726</td>\n",
       "      <td>44.0</td>\n",
       "      <td>0.361596</td>\n",
       "      <td>145.0</td>\n",
       "      <td>0.586643</td>\n",
       "      <td>41.335686</td>\n",
       "      <td>0.671327</td>\n",
       "      <td>5.772290</td>\n",
       "    </tr>\n",
       "    <tr>\n",
       "      <th>27</th>\n",
       "      <td>PISTOL</td>\n",
       "      <td>2021</td>\n",
       "      <td>382</td>\n",
       "      <td>6.445026</td>\n",
       "      <td>2462.0</td>\n",
       "      <td>10.551021</td>\n",
       "      <td>2585.0</td>\n",
       "      <td>0.057774</td>\n",
       "      <td>22.069815</td>\n",
       "      <td>0.481675</td>\n",
       "      <td>...</td>\n",
       "      <td>0.054974</td>\n",
       "      <td>21.0</td>\n",
       "      <td>0.107330</td>\n",
       "      <td>41.0</td>\n",
       "      <td>0.316754</td>\n",
       "      <td>121.0</td>\n",
       "      <td>0.608936</td>\n",
       "      <td>39.106392</td>\n",
       "      <td>0.687458</td>\n",
       "      <td>0.659283</td>\n",
       "    </tr>\n",
       "    <tr>\n",
       "      <th>28</th>\n",
       "      <td>PISTOL</td>\n",
       "      <td>2022</td>\n",
       "      <td>512</td>\n",
       "      <td>6.195312</td>\n",
       "      <td>3172.0</td>\n",
       "      <td>10.304615</td>\n",
       "      <td>3349.0</td>\n",
       "      <td>0.054186</td>\n",
       "      <td>27.743217</td>\n",
       "      <td>0.462891</td>\n",
       "      <td>...</td>\n",
       "      <td>0.066406</td>\n",
       "      <td>34.0</td>\n",
       "      <td>0.150391</td>\n",
       "      <td>77.0</td>\n",
       "      <td>0.291016</td>\n",
       "      <td>149.0</td>\n",
       "      <td>0.598996</td>\n",
       "      <td>40.100376</td>\n",
       "      <td>0.687349</td>\n",
       "      <td>2.225828</td>\n",
       "    </tr>\n",
       "    <tr>\n",
       "      <th>29</th>\n",
       "      <td>SHOTGUN</td>\n",
       "      <td>2016</td>\n",
       "      <td>12939</td>\n",
       "      <td>6.062602</td>\n",
       "      <td>78444.0</td>\n",
       "      <td>11.098263</td>\n",
       "      <td>83692.0</td>\n",
       "      <td>0.002793</td>\n",
       "      <td>36.143780</td>\n",
       "      <td>0.439292</td>\n",
       "      <td>...</td>\n",
       "      <td>0.062370</td>\n",
       "      <td>807.0</td>\n",
       "      <td>0.146920</td>\n",
       "      <td>1901.0</td>\n",
       "      <td>0.321122</td>\n",
       "      <td>4155.0</td>\n",
       "      <td>0.772483</td>\n",
       "      <td>22.751738</td>\n",
       "      <td>0.633995</td>\n",
       "      <td>-0.267201</td>\n",
       "    </tr>\n",
       "    <tr>\n",
       "      <th>30</th>\n",
       "      <td>SHOTGUN</td>\n",
       "      <td>2017</td>\n",
       "      <td>12103</td>\n",
       "      <td>5.862514</td>\n",
       "      <td>70954.0</td>\n",
       "      <td>10.922393</td>\n",
       "      <td>76140.0</td>\n",
       "      <td>-0.056343</td>\n",
       "      <td>-681.913757</td>\n",
       "      <td>0.418326</td>\n",
       "      <td>...</td>\n",
       "      <td>0.065273</td>\n",
       "      <td>790.0</td>\n",
       "      <td>0.149137</td>\n",
       "      <td>1805.0</td>\n",
       "      <td>0.308932</td>\n",
       "      <td>3739.0</td>\n",
       "      <td>0.787600</td>\n",
       "      <td>21.239992</td>\n",
       "      <td>0.633320</td>\n",
       "      <td>-0.685981</td>\n",
       "    </tr>\n",
       "    <tr>\n",
       "      <th>31</th>\n",
       "      <td>SHOTGUN</td>\n",
       "      <td>2018</td>\n",
       "      <td>12593</td>\n",
       "      <td>6.058604</td>\n",
       "      <td>76296.0</td>\n",
       "      <td>10.920133</td>\n",
       "      <td>82174.0</td>\n",
       "      <td>-0.002182</td>\n",
       "      <td>-27.483730</td>\n",
       "      <td>0.444136</td>\n",
       "      <td>...</td>\n",
       "      <td>0.070912</td>\n",
       "      <td>893.0</td>\n",
       "      <td>0.149130</td>\n",
       "      <td>1878.0</td>\n",
       "      <td>0.319860</td>\n",
       "      <td>4028.0</td>\n",
       "      <td>0.771376</td>\n",
       "      <td>22.862425</td>\n",
       "      <td>0.662738</td>\n",
       "      <td>-0.357560</td>\n",
       "    </tr>\n",
       "    <tr>\n",
       "      <th>32</th>\n",
       "      <td>SHOTGUN</td>\n",
       "      <td>2019</td>\n",
       "      <td>12530</td>\n",
       "      <td>5.956983</td>\n",
       "      <td>74641.0</td>\n",
       "      <td>10.917074</td>\n",
       "      <td>80437.0</td>\n",
       "      <td>-0.006646</td>\n",
       "      <td>-83.262337</td>\n",
       "      <td>0.440817</td>\n",
       "      <td>...</td>\n",
       "      <td>0.068316</td>\n",
       "      <td>856.0</td>\n",
       "      <td>0.143416</td>\n",
       "      <td>1797.0</td>\n",
       "      <td>0.318037</td>\n",
       "      <td>3985.0</td>\n",
       "      <td>0.777178</td>\n",
       "      <td>22.282175</td>\n",
       "      <td>0.662156</td>\n",
       "      <td>-0.786263</td>\n",
       "    </tr>\n",
       "    <tr>\n",
       "      <th>33</th>\n",
       "      <td>SHOTGUN</td>\n",
       "      <td>2020</td>\n",
       "      <td>12400</td>\n",
       "      <td>6.174677</td>\n",
       "      <td>76566.0</td>\n",
       "      <td>10.815758</td>\n",
       "      <td>81540.0</td>\n",
       "      <td>0.033538</td>\n",
       "      <td>415.868530</td>\n",
       "      <td>0.458629</td>\n",
       "      <td>...</td>\n",
       "      <td>0.060565</td>\n",
       "      <td>751.0</td>\n",
       "      <td>0.147339</td>\n",
       "      <td>1827.0</td>\n",
       "      <td>0.332984</td>\n",
       "      <td>4129.0</td>\n",
       "      <td>0.760260</td>\n",
       "      <td>23.974026</td>\n",
       "      <td>0.667418</td>\n",
       "      <td>0.337090</td>\n",
       "    </tr>\n",
       "    <tr>\n",
       "      <th>34</th>\n",
       "      <td>SHOTGUN</td>\n",
       "      <td>2021</td>\n",
       "      <td>12671</td>\n",
       "      <td>6.033620</td>\n",
       "      <td>76452.0</td>\n",
       "      <td>10.729765</td>\n",
       "      <td>81793.0</td>\n",
       "      <td>0.000739</td>\n",
       "      <td>9.364683</td>\n",
       "      <td>0.444874</td>\n",
       "      <td>...</td>\n",
       "      <td>0.061795</td>\n",
       "      <td>783.0</td>\n",
       "      <td>0.144977</td>\n",
       "      <td>1837.0</td>\n",
       "      <td>0.318838</td>\n",
       "      <td>4040.0</td>\n",
       "      <td>0.760224</td>\n",
       "      <td>23.977627</td>\n",
       "      <td>0.668663</td>\n",
       "      <td>-0.333464</td>\n",
       "    </tr>\n",
       "    <tr>\n",
       "      <th>35</th>\n",
       "      <td>SHOTGUN</td>\n",
       "      <td>2022</td>\n",
       "      <td>13062</td>\n",
       "      <td>5.821773</td>\n",
       "      <td>76044.0</td>\n",
       "      <td>10.580999</td>\n",
       "      <td>81971.0</td>\n",
       "      <td>-0.032052</td>\n",
       "      <td>-418.659973</td>\n",
       "      <td>0.431940</td>\n",
       "      <td>...</td>\n",
       "      <td>0.068519</td>\n",
       "      <td>895.0</td>\n",
       "      <td>0.149900</td>\n",
       "      <td>1958.0</td>\n",
       "      <td>0.307074</td>\n",
       "      <td>4011.0</td>\n",
       "      <td>0.761588</td>\n",
       "      <td>23.841194</td>\n",
       "      <td>0.671776</td>\n",
       "      <td>-0.893203</td>\n",
       "    </tr>\n",
       "    <tr>\n",
       "      <th>36</th>\n",
       "      <td>SINGLEBACK</td>\n",
       "      <td>2016</td>\n",
       "      <td>2663</td>\n",
       "      <td>7.551633</td>\n",
       "      <td>20110.0</td>\n",
       "      <td>12.797190</td>\n",
       "      <td>20949.0</td>\n",
       "      <td>0.182004</td>\n",
       "      <td>484.677368</td>\n",
       "      <td>0.510702</td>\n",
       "      <td>...</td>\n",
       "      <td>0.049944</td>\n",
       "      <td>133.0</td>\n",
       "      <td>0.137814</td>\n",
       "      <td>367.0</td>\n",
       "      <td>0.369884</td>\n",
       "      <td>985.0</td>\n",
       "      <td>0.533703</td>\n",
       "      <td>46.629700</td>\n",
       "      <td>0.633467</td>\n",
       "      <td>2.555038</td>\n",
       "    </tr>\n",
       "    <tr>\n",
       "      <th>37</th>\n",
       "      <td>SINGLEBACK</td>\n",
       "      <td>2017</td>\n",
       "      <td>2868</td>\n",
       "      <td>7.041841</td>\n",
       "      <td>20196.0</td>\n",
       "      <td>12.786186</td>\n",
       "      <td>21289.0</td>\n",
       "      <td>0.106286</td>\n",
       "      <td>304.827881</td>\n",
       "      <td>0.470711</td>\n",
       "      <td>...</td>\n",
       "      <td>0.063808</td>\n",
       "      <td>183.0</td>\n",
       "      <td>0.156904</td>\n",
       "      <td>450.0</td>\n",
       "      <td>0.352510</td>\n",
       "      <td>1011.0</td>\n",
       "      <td>0.539849</td>\n",
       "      <td>46.015079</td>\n",
       "      <td>0.630311</td>\n",
       "      <td>0.615661</td>\n",
       "    </tr>\n",
       "    <tr>\n",
       "      <th>38</th>\n",
       "      <td>SINGLEBACK</td>\n",
       "      <td>2018</td>\n",
       "      <td>2775</td>\n",
       "      <td>7.740541</td>\n",
       "      <td>21480.0</td>\n",
       "      <td>13.149384</td>\n",
       "      <td>22446.0</td>\n",
       "      <td>0.159218</td>\n",
       "      <td>441.828674</td>\n",
       "      <td>0.499099</td>\n",
       "      <td>...</td>\n",
       "      <td>0.055495</td>\n",
       "      <td>154.0</td>\n",
       "      <td>0.152432</td>\n",
       "      <td>423.0</td>\n",
       "      <td>0.387387</td>\n",
       "      <td>1075.0</td>\n",
       "      <td>0.535121</td>\n",
       "      <td>46.487915</td>\n",
       "      <td>0.661041</td>\n",
       "      <td>2.505251</td>\n",
       "    </tr>\n",
       "    <tr>\n",
       "      <th>39</th>\n",
       "      <td>SINGLEBACK</td>\n",
       "      <td>2019</td>\n",
       "      <td>2825</td>\n",
       "      <td>7.576637</td>\n",
       "      <td>21404.0</td>\n",
       "      <td>13.374926</td>\n",
       "      <td>22617.0</td>\n",
       "      <td>0.110123</td>\n",
       "      <td>311.096588</td>\n",
       "      <td>0.478584</td>\n",
       "      <td>...</td>\n",
       "      <td>0.069735</td>\n",
       "      <td>197.0</td>\n",
       "      <td>0.162124</td>\n",
       "      <td>458.0</td>\n",
       "      <td>0.370973</td>\n",
       "      <td>1048.0</td>\n",
       "      <td>0.547619</td>\n",
       "      <td>45.238113</td>\n",
       "      <td>0.660960</td>\n",
       "      <td>1.979686</td>\n",
       "    </tr>\n",
       "    <tr>\n",
       "      <th>40</th>\n",
       "      <td>SINGLEBACK</td>\n",
       "      <td>2020</td>\n",
       "      <td>2703</td>\n",
       "      <td>7.499445</td>\n",
       "      <td>20271.0</td>\n",
       "      <td>12.500296</td>\n",
       "      <td>21138.0</td>\n",
       "      <td>0.157876</td>\n",
       "      <td>426.738892</td>\n",
       "      <td>0.504255</td>\n",
       "      <td>...</td>\n",
       "      <td>0.049205</td>\n",
       "      <td>133.0</td>\n",
       "      <td>0.140954</td>\n",
       "      <td>381.0</td>\n",
       "      <td>0.389937</td>\n",
       "      <td>1054.0</td>\n",
       "      <td>0.525361</td>\n",
       "      <td>47.463928</td>\n",
       "      <td>0.670255</td>\n",
       "      <td>2.966234</td>\n",
       "    </tr>\n",
       "    <tr>\n",
       "      <th>41</th>\n",
       "      <td>SINGLEBACK</td>\n",
       "      <td>2021</td>\n",
       "      <td>2712</td>\n",
       "      <td>7.367257</td>\n",
       "      <td>19980.0</td>\n",
       "      <td>12.157986</td>\n",
       "      <td>21009.0</td>\n",
       "      <td>0.121884</td>\n",
       "      <td>330.550568</td>\n",
       "      <td>0.502950</td>\n",
       "      <td>...</td>\n",
       "      <td>0.056047</td>\n",
       "      <td>152.0</td>\n",
       "      <td>0.132743</td>\n",
       "      <td>360.0</td>\n",
       "      <td>0.372419</td>\n",
       "      <td>1010.0</td>\n",
       "      <td>0.531142</td>\n",
       "      <td>46.885841</td>\n",
       "      <td>0.682669</td>\n",
       "      <td>2.669040</td>\n",
       "    </tr>\n",
       "    <tr>\n",
       "      <th>42</th>\n",
       "      <td>SINGLEBACK</td>\n",
       "      <td>2022</td>\n",
       "      <td>2656</td>\n",
       "      <td>7.348268</td>\n",
       "      <td>19517.0</td>\n",
       "      <td>12.492701</td>\n",
       "      <td>20538.0</td>\n",
       "      <td>0.113077</td>\n",
       "      <td>300.332916</td>\n",
       "      <td>0.491340</td>\n",
       "      <td>...</td>\n",
       "      <td>0.060994</td>\n",
       "      <td>162.0</td>\n",
       "      <td>0.157756</td>\n",
       "      <td>419.0</td>\n",
       "      <td>0.370482</td>\n",
       "      <td>984.0</td>\n",
       "      <td>0.529838</td>\n",
       "      <td>47.016216</td>\n",
       "      <td>0.677046</td>\n",
       "      <td>3.114319</td>\n",
       "    </tr>\n",
       "    <tr>\n",
       "      <th>43</th>\n",
       "      <td>WILDCAT</td>\n",
       "      <td>2016</td>\n",
       "      <td>30</td>\n",
       "      <td>7.166667</td>\n",
       "      <td>215.0</td>\n",
       "      <td>12.000000</td>\n",
       "      <td>228.0</td>\n",
       "      <td>0.264625</td>\n",
       "      <td>7.938740</td>\n",
       "      <td>0.466667</td>\n",
       "      <td>...</td>\n",
       "      <td>0.066667</td>\n",
       "      <td>2.0</td>\n",
       "      <td>0.133333</td>\n",
       "      <td>4.0</td>\n",
       "      <td>0.333333</td>\n",
       "      <td>10.0</td>\n",
       "      <td>0.603177</td>\n",
       "      <td>39.682285</td>\n",
       "      <td>0.660492</td>\n",
       "      <td>7.027733</td>\n",
       "    </tr>\n",
       "    <tr>\n",
       "      <th>44</th>\n",
       "      <td>WILDCAT</td>\n",
       "      <td>2017</td>\n",
       "      <td>48</td>\n",
       "      <td>9.166667</td>\n",
       "      <td>440.0</td>\n",
       "      <td>16.517241</td>\n",
       "      <td>479.0</td>\n",
       "      <td>0.370707</td>\n",
       "      <td>17.793947</td>\n",
       "      <td>0.479167</td>\n",
       "      <td>...</td>\n",
       "      <td>0.104167</td>\n",
       "      <td>5.0</td>\n",
       "      <td>0.187500</td>\n",
       "      <td>9.0</td>\n",
       "      <td>0.395833</td>\n",
       "      <td>19.0</td>\n",
       "      <td>0.700904</td>\n",
       "      <td>29.909628</td>\n",
       "      <td>0.590747</td>\n",
       "      <td>11.657052</td>\n",
       "    </tr>\n",
       "    <tr>\n",
       "      <th>45</th>\n",
       "      <td>WILDCAT</td>\n",
       "      <td>2018</td>\n",
       "      <td>9</td>\n",
       "      <td>1.777778</td>\n",
       "      <td>16.0</td>\n",
       "      <td>7.666667</td>\n",
       "      <td>23.0</td>\n",
       "      <td>-0.548730</td>\n",
       "      <td>-4.938567</td>\n",
       "      <td>0.333333</td>\n",
       "      <td>...</td>\n",
       "      <td>0.111111</td>\n",
       "      <td>1.0</td>\n",
       "      <td>0.111111</td>\n",
       "      <td>1.0</td>\n",
       "      <td>0.111111</td>\n",
       "      <td>1.0</td>\n",
       "      <td>0.528055</td>\n",
       "      <td>47.194542</td>\n",
       "      <td>0.629238</td>\n",
       "      <td>-2.923790</td>\n",
       "    </tr>\n",
       "    <tr>\n",
       "      <th>46</th>\n",
       "      <td>WILDCAT</td>\n",
       "      <td>2019</td>\n",
       "      <td>16</td>\n",
       "      <td>6.125000</td>\n",
       "      <td>98.0</td>\n",
       "      <td>10.444445</td>\n",
       "      <td>94.0</td>\n",
       "      <td>-0.514841</td>\n",
       "      <td>-8.237452</td>\n",
       "      <td>0.250000</td>\n",
       "      <td>...</td>\n",
       "      <td>0.000000</td>\n",
       "      <td>0.0</td>\n",
       "      <td>0.187500</td>\n",
       "      <td>3.0</td>\n",
       "      <td>0.250000</td>\n",
       "      <td>4.0</td>\n",
       "      <td>0.608872</td>\n",
       "      <td>39.112820</td>\n",
       "      <td>0.708390</td>\n",
       "      <td>10.979142</td>\n",
       "    </tr>\n",
       "    <tr>\n",
       "      <th>47</th>\n",
       "      <td>WILDCAT</td>\n",
       "      <td>2020</td>\n",
       "      <td>16</td>\n",
       "      <td>5.875000</td>\n",
       "      <td>94.0</td>\n",
       "      <td>14.000000</td>\n",
       "      <td>98.0</td>\n",
       "      <td>-0.268521</td>\n",
       "      <td>-4.296333</td>\n",
       "      <td>0.375000</td>\n",
       "      <td>...</td>\n",
       "      <td>0.062500</td>\n",
       "      <td>1.0</td>\n",
       "      <td>0.187500</td>\n",
       "      <td>3.0</td>\n",
       "      <td>0.187500</td>\n",
       "      <td>3.0</td>\n",
       "      <td>0.434387</td>\n",
       "      <td>56.561344</td>\n",
       "      <td>0.565687</td>\n",
       "      <td>13.431322</td>\n",
       "    </tr>\n",
       "    <tr>\n",
       "      <th>48</th>\n",
       "      <td>WILDCAT</td>\n",
       "      <td>2021</td>\n",
       "      <td>23</td>\n",
       "      <td>4.913043</td>\n",
       "      <td>113.0</td>\n",
       "      <td>13.100000</td>\n",
       "      <td>131.0</td>\n",
       "      <td>-0.592328</td>\n",
       "      <td>-13.623538</td>\n",
       "      <td>0.304348</td>\n",
       "      <td>...</td>\n",
       "      <td>0.130435</td>\n",
       "      <td>3.0</td>\n",
       "      <td>0.217391</td>\n",
       "      <td>5.0</td>\n",
       "      <td>0.260870</td>\n",
       "      <td>6.0</td>\n",
       "      <td>0.462829</td>\n",
       "      <td>53.717106</td>\n",
       "      <td>0.579254</td>\n",
       "      <td>-5.293775</td>\n",
       "    </tr>\n",
       "    <tr>\n",
       "      <th>49</th>\n",
       "      <td>WILDCAT</td>\n",
       "      <td>2022</td>\n",
       "      <td>38</td>\n",
       "      <td>7.052631</td>\n",
       "      <td>268.0</td>\n",
       "      <td>13.454545</td>\n",
       "      <td>296.0</td>\n",
       "      <td>0.079676</td>\n",
       "      <td>3.027681</td>\n",
       "      <td>0.473684</td>\n",
       "      <td>...</td>\n",
       "      <td>0.105263</td>\n",
       "      <td>4.0</td>\n",
       "      <td>0.157895</td>\n",
       "      <td>6.0</td>\n",
       "      <td>0.342105</td>\n",
       "      <td>13.0</td>\n",
       "      <td>0.520240</td>\n",
       "      <td>47.975967</td>\n",
       "      <td>0.641660</td>\n",
       "      <td>9.167308</td>\n",
       "    </tr>\n",
       "  </tbody>\n",
       "</table>\n",
       "<p>50 rows × 23 columns</p>\n",
       "</div>"
      ],
      "text/plain": [
       "   offense_formation  season  play_id_count  yards_gained_mean  \\\n",
       "0                ACE    2016              1           6.000000   \n",
       "1              EMPTY    2016           2401           6.225323   \n",
       "2              EMPTY    2017           2340           5.697863   \n",
       "3              EMPTY    2018           2424           6.160479   \n",
       "4              EMPTY    2019           2522           5.958763   \n",
       "5              EMPTY    2020           2777           6.112711   \n",
       "6              EMPTY    2021           2902           5.963129   \n",
       "7              EMPTY    2022           2527           6.061733   \n",
       "8             I_FORM    2016            958           7.883090   \n",
       "9             I_FORM    2017           1061           7.722903   \n",
       "10            I_FORM    2018            909           8.331133   \n",
       "11            I_FORM    2019            794           8.148615   \n",
       "12            I_FORM    2020            777           8.055341   \n",
       "13            I_FORM    2021            606           7.427393   \n",
       "14            I_FORM    2022            542           7.180812   \n",
       "15             JUMBO    2016             47           2.106383   \n",
       "16             JUMBO    2017             64           2.515625   \n",
       "17             JUMBO    2018             52           1.884615   \n",
       "18             JUMBO    2019             55           1.672727   \n",
       "19             JUMBO    2020             75           1.680000   \n",
       "20             JUMBO    2021             62           3.096774   \n",
       "21             JUMBO    2022             45           5.711111   \n",
       "22            PISTOL    2016            361           6.105263   \n",
       "23            PISTOL    2017            188           7.494681   \n",
       "24            PISTOL    2018            190           6.510526   \n",
       "25            PISTOL    2019            375           6.821333   \n",
       "26            PISTOL    2020            401           6.566085   \n",
       "27            PISTOL    2021            382           6.445026   \n",
       "28            PISTOL    2022            512           6.195312   \n",
       "29           SHOTGUN    2016          12939           6.062602   \n",
       "30           SHOTGUN    2017          12103           5.862514   \n",
       "31           SHOTGUN    2018          12593           6.058604   \n",
       "32           SHOTGUN    2019          12530           5.956983   \n",
       "33           SHOTGUN    2020          12400           6.174677   \n",
       "34           SHOTGUN    2021          12671           6.033620   \n",
       "35           SHOTGUN    2022          13062           5.821773   \n",
       "36        SINGLEBACK    2016           2663           7.551633   \n",
       "37        SINGLEBACK    2017           2868           7.041841   \n",
       "38        SINGLEBACK    2018           2775           7.740541   \n",
       "39        SINGLEBACK    2019           2825           7.576637   \n",
       "40        SINGLEBACK    2020           2703           7.499445   \n",
       "41        SINGLEBACK    2021           2712           7.367257   \n",
       "42        SINGLEBACK    2022           2656           7.348268   \n",
       "43           WILDCAT    2016             30           7.166667   \n",
       "44           WILDCAT    2017             48           9.166667   \n",
       "45           WILDCAT    2018              9           1.777778   \n",
       "46           WILDCAT    2019             16           6.125000   \n",
       "47           WILDCAT    2020             16           5.875000   \n",
       "48           WILDCAT    2021             23           4.913043   \n",
       "49           WILDCAT    2022             38           7.052631   \n",
       "\n",
       "    yards_gained_sum  receiving_yards_mean  receiving_yards_sum  epa_mean  \\\n",
       "0                6.0              6.000000                  6.0  0.923765   \n",
       "1            14947.0             10.515152              15615.0  0.071224   \n",
       "2            13333.0             10.501094              14397.0 -0.031695   \n",
       "3            14933.0             10.692411              15921.0  0.018830   \n",
       "4            15028.0             10.789685              16109.0  0.017479   \n",
       "5            16975.0             10.275429              17982.0  0.030965   \n",
       "6            17305.0             10.640482              18557.0  0.018918   \n",
       "7            15318.0             10.834547              16371.0 -0.042150   \n",
       "8             7552.0             13.246180               7802.0  0.162290   \n",
       "9             8194.0             13.518988               8544.0  0.134083   \n",
       "10            7573.0             13.888308               7958.0  0.209998   \n",
       "11            6470.0             13.485944               6716.0  0.224229   \n",
       "12            6259.0             14.413420               6659.0  0.197853   \n",
       "13            4501.0             12.608924               4804.0  0.109699   \n",
       "14            3892.0             13.018808               4153.0  0.043403   \n",
       "15              99.0              4.444445                120.0  0.032621   \n",
       "16             161.0              4.128205                161.0  0.190854   \n",
       "17              98.0              3.703704                100.0  0.013525   \n",
       "18              92.0              3.575758                118.0  0.025419   \n",
       "19             126.0              3.897436                152.0 -0.119495   \n",
       "20             192.0              5.486486                203.0  0.349899   \n",
       "21             257.0              8.566667                257.0  0.520047   \n",
       "22            2204.0             10.629630               2296.0 -0.038197   \n",
       "23            1409.0             10.316546               1434.0  0.172518   \n",
       "24            1237.0             10.895162               1351.0  0.041621   \n",
       "25            2558.0             11.689957               2677.0  0.124178   \n",
       "26            2633.0             10.574713               2760.0  0.157010   \n",
       "27            2462.0             10.551021               2585.0  0.057774   \n",
       "28            3172.0             10.304615               3349.0  0.054186   \n",
       "29           78444.0             11.098263              83692.0  0.002793   \n",
       "30           70954.0             10.922393              76140.0 -0.056343   \n",
       "31           76296.0             10.920133              82174.0 -0.002182   \n",
       "32           74641.0             10.917074              80437.0 -0.006646   \n",
       "33           76566.0             10.815758              81540.0  0.033538   \n",
       "34           76452.0             10.729765              81793.0  0.000739   \n",
       "35           76044.0             10.580999              81971.0 -0.032052   \n",
       "36           20110.0             12.797190              20949.0  0.182004   \n",
       "37           20196.0             12.786186              21289.0  0.106286   \n",
       "38           21480.0             13.149384              22446.0  0.159218   \n",
       "39           21404.0             13.374926              22617.0  0.110123   \n",
       "40           20271.0             12.500296              21138.0  0.157876   \n",
       "41           19980.0             12.157986              21009.0  0.121884   \n",
       "42           19517.0             12.492701              20538.0  0.113077   \n",
       "43             215.0             12.000000                228.0  0.264625   \n",
       "44             440.0             16.517241                479.0  0.370707   \n",
       "45              16.0              7.666667                 23.0 -0.548730   \n",
       "46              98.0             10.444445                 94.0 -0.514841   \n",
       "47              94.0             14.000000                 98.0 -0.268521   \n",
       "48             113.0             13.100000                131.0 -0.592328   \n",
       "49             268.0             13.454545                296.0  0.079676   \n",
       "\n",
       "       epa_sum  success_mean  ...  sack_mean  sack_sum  qb_hit_mean  \\\n",
       "0     0.923765      1.000000  ...   0.000000       0.0     0.000000   \n",
       "1   171.009369      0.468138  ...   0.046231     111.0     0.110371   \n",
       "2   -74.166275      0.444017  ...   0.068803     161.0     0.140598   \n",
       "3    45.644360      0.465347  ...   0.061469     149.0     0.132838   \n",
       "4    44.080795      0.437748  ...   0.060666     153.0     0.135607   \n",
       "5    85.990257      0.472452  ...   0.057616     160.0     0.144761   \n",
       "6    54.899982      0.453136  ...   0.065817     191.0     0.145072   \n",
       "7  -106.512047      0.428176  ...   0.063712     161.0     0.136526   \n",
       "8   155.473679      0.501044  ...   0.045929      44.0     0.141962   \n",
       "9   142.262390      0.486334  ...   0.049953      53.0     0.140434   \n",
       "10  190.887955      0.526953  ...   0.067107      61.0     0.159516   \n",
       "11  178.037766      0.518892  ...   0.047859      38.0     0.144836   \n",
       "12  153.731720      0.508366  ...   0.077220      60.0     0.162162   \n",
       "13   66.477654      0.523102  ...   0.069307      42.0     0.160066   \n",
       "14   23.524300      0.481550  ...   0.073801      40.0     0.171587   \n",
       "15    1.533188      0.510638  ...   0.063830       3.0     0.212766   \n",
       "16   12.214678      0.546875  ...   0.000000       0.0     0.046875   \n",
       "17    0.703294      0.480769  ...   0.057692       3.0     0.250000   \n",
       "18    1.398040      0.527273  ...   0.090909       5.0     0.109091   \n",
       "19   -8.962109      0.493333  ...   0.066667       5.0     0.120000   \n",
       "20   21.693733      0.516129  ...   0.032258       2.0     0.145161   \n",
       "21   23.402130      0.622222  ...   0.000000       0.0     0.111111   \n",
       "22  -13.789268      0.415512  ...   0.044321      16.0     0.116343   \n",
       "23   32.433399      0.468085  ...   0.015957       3.0     0.090426   \n",
       "24    7.908028      0.478947  ...   0.105263      20.0     0.173684   \n",
       "25   46.566795      0.442667  ...   0.066667      25.0     0.154667   \n",
       "26   62.961205      0.501247  ...   0.059850      24.0     0.109726   \n",
       "27   22.069815      0.481675  ...   0.054974      21.0     0.107330   \n",
       "28   27.743217      0.462891  ...   0.066406      34.0     0.150391   \n",
       "29   36.143780      0.439292  ...   0.062370     807.0     0.146920   \n",
       "30 -681.913757      0.418326  ...   0.065273     790.0     0.149137   \n",
       "31  -27.483730      0.444136  ...   0.070912     893.0     0.149130   \n",
       "32  -83.262337      0.440817  ...   0.068316     856.0     0.143416   \n",
       "33  415.868530      0.458629  ...   0.060565     751.0     0.147339   \n",
       "34    9.364683      0.444874  ...   0.061795     783.0     0.144977   \n",
       "35 -418.659973      0.431940  ...   0.068519     895.0     0.149900   \n",
       "36  484.677368      0.510702  ...   0.049944     133.0     0.137814   \n",
       "37  304.827881      0.470711  ...   0.063808     183.0     0.156904   \n",
       "38  441.828674      0.499099  ...   0.055495     154.0     0.152432   \n",
       "39  311.096588      0.478584  ...   0.069735     197.0     0.162124   \n",
       "40  426.738892      0.504255  ...   0.049205     133.0     0.140954   \n",
       "41  330.550568      0.502950  ...   0.056047     152.0     0.132743   \n",
       "42  300.332916      0.491340  ...   0.060994     162.0     0.157756   \n",
       "43    7.938740      0.466667  ...   0.066667       2.0     0.133333   \n",
       "44   17.793947      0.479167  ...   0.104167       5.0     0.187500   \n",
       "45   -4.938567      0.333333  ...   0.111111       1.0     0.111111   \n",
       "46   -8.237452      0.250000  ...   0.000000       0.0     0.187500   \n",
       "47   -4.296333      0.375000  ...   0.062500       1.0     0.187500   \n",
       "48  -13.623538      0.304348  ...   0.130435       3.0     0.217391   \n",
       "49    3.027681      0.473684  ...   0.105263       4.0     0.157895   \n",
       "\n",
       "    qb_hit_sum  first_down_mean  first_down_sum  xpass_mean  pass_oe_mean  \\\n",
       "0          0.0         1.000000             1.0    0.578356     42.164444   \n",
       "1        265.0         0.322366           774.0    0.744209     25.579113   \n",
       "2        329.0         0.302137           707.0    0.747456     25.254383   \n",
       "3        322.0         0.331683           804.0    0.737339     26.266146   \n",
       "4        342.0         0.303727           766.0    0.764403     23.559685   \n",
       "5        402.0         0.328772           913.0    0.762468     23.753225   \n",
       "6        421.0         0.309442           898.0    0.763939     23.606077   \n",
       "7        345.0         0.297982           753.0    0.786116     21.388365   \n",
       "8        136.0         0.365344           350.0    0.510257     48.974251   \n",
       "9        149.0         0.379830           403.0    0.520895     47.910522   \n",
       "10       145.0         0.388339           353.0    0.523330     47.667004   \n",
       "11       115.0         0.399244           317.0    0.519669     48.033066   \n",
       "12       126.0         0.414414           322.0    0.519323     48.067677   \n",
       "13        97.0         0.379538           230.0    0.519328     48.067165   \n",
       "14        93.0         0.376384           204.0    0.506497     49.350319   \n",
       "15        10.0         0.468085            22.0    0.402527     59.747311   \n",
       "16         3.0         0.531250            34.0    0.381074     61.892551   \n",
       "17        13.0         0.423077            22.0    0.345368     65.463158   \n",
       "18         6.0         0.509091            28.0    0.408796     59.120422   \n",
       "19         9.0         0.466667            35.0    0.395771     60.422913   \n",
       "20         9.0         0.500000            31.0    0.371511     62.848949   \n",
       "21         5.0         0.600000            27.0    0.391218     60.878174   \n",
       "22        42.0         0.304709           110.0    0.592090     40.791019   \n",
       "23        17.0         0.345745            65.0    0.586769     41.323109   \n",
       "24        33.0         0.368421            70.0    0.636062     36.393795   \n",
       "25        58.0         0.338667           127.0    0.588456     41.154362   \n",
       "26        44.0         0.361596           145.0    0.586643     41.335686   \n",
       "27        41.0         0.316754           121.0    0.608936     39.106392   \n",
       "28        77.0         0.291016           149.0    0.598996     40.100376   \n",
       "29      1901.0         0.321122          4155.0    0.772483     22.751738   \n",
       "30      1805.0         0.308932          3739.0    0.787600     21.239992   \n",
       "31      1878.0         0.319860          4028.0    0.771376     22.862425   \n",
       "32      1797.0         0.318037          3985.0    0.777178     22.282175   \n",
       "33      1827.0         0.332984          4129.0    0.760260     23.974026   \n",
       "34      1837.0         0.318838          4040.0    0.760224     23.977627   \n",
       "35      1958.0         0.307074          4011.0    0.761588     23.841194   \n",
       "36       367.0         0.369884           985.0    0.533703     46.629700   \n",
       "37       450.0         0.352510          1011.0    0.539849     46.015079   \n",
       "38       423.0         0.387387          1075.0    0.535121     46.487915   \n",
       "39       458.0         0.370973          1048.0    0.547619     45.238113   \n",
       "40       381.0         0.389937          1054.0    0.525361     47.463928   \n",
       "41       360.0         0.372419          1010.0    0.531142     46.885841   \n",
       "42       419.0         0.370482           984.0    0.529838     47.016216   \n",
       "43         4.0         0.333333            10.0    0.603177     39.682285   \n",
       "44         9.0         0.395833            19.0    0.700904     29.909628   \n",
       "45         1.0         0.111111             1.0    0.528055     47.194542   \n",
       "46         3.0         0.250000             4.0    0.608872     39.112820   \n",
       "47         3.0         0.187500             3.0    0.434387     56.561344   \n",
       "48         5.0         0.260870             6.0    0.462829     53.717106   \n",
       "49         6.0         0.342105            13.0    0.520240     47.975967   \n",
       "\n",
       "     cp_mean  cpoe_mean  \n",
       "0   0.763573  23.642689  \n",
       "1   0.644752   1.466223  \n",
       "2   0.641713  -0.403871  \n",
       "3   0.669906   0.263215  \n",
       "4   0.663015  -0.732728  \n",
       "5   0.677201   1.313460  \n",
       "6   0.672292  -0.879764  \n",
       "7   0.675912  -1.406379  \n",
       "8   0.634877   2.543661  \n",
       "9   0.634926   0.735073  \n",
       "10  0.656933   4.527308  \n",
       "11  0.664662   3.086859  \n",
       "12  0.660828   2.260447  \n",
       "13  0.663675   3.927738  \n",
       "14  0.660919   0.784359  \n",
       "15  0.576131   8.240596  \n",
       "16  0.568209   5.083820  \n",
       "17  0.587811  -0.085491  \n",
       "18  0.642792  12.464974  \n",
       "19  0.650996  -2.196328  \n",
       "20  0.615091   7.009395  \n",
       "21  0.622841  14.638992  \n",
       "22  0.653397  -1.053997  \n",
       "23  0.680968   8.698791  \n",
       "24  0.663764   7.875111  \n",
       "25  0.675859   0.772306  \n",
       "26  0.671327   5.772290  \n",
       "27  0.687458   0.659283  \n",
       "28  0.687349   2.225828  \n",
       "29  0.633995  -0.267201  \n",
       "30  0.633320  -0.685981  \n",
       "31  0.662738  -0.357560  \n",
       "32  0.662156  -0.786263  \n",
       "33  0.667418   0.337090  \n",
       "34  0.668663  -0.333464  \n",
       "35  0.671776  -0.893203  \n",
       "36  0.633467   2.555038  \n",
       "37  0.630311   0.615661  \n",
       "38  0.661041   2.505251  \n",
       "39  0.660960   1.979686  \n",
       "40  0.670255   2.966234  \n",
       "41  0.682669   2.669040  \n",
       "42  0.677046   3.114319  \n",
       "43  0.660492   7.027733  \n",
       "44  0.590747  11.657052  \n",
       "45  0.629238  -2.923790  \n",
       "46  0.708390  10.979142  \n",
       "47  0.565687  13.431322  \n",
       "48  0.579254  -5.293775  \n",
       "49  0.641660   9.167308  \n",
       "\n",
       "[50 rows x 23 columns]"
      ]
     },
     "execution_count": 18,
     "metadata": {},
     "output_type": "execute_result"
    }
   ],
   "source": [
    "df_temp"
   ]
  },
  {
   "cell_type": "code",
   "execution_count": 36,
   "id": "d6867031",
   "metadata": {},
   "outputs": [
    {
     "data": {
      "text/html": [
       "<div>\n",
       "<style scoped>\n",
       "    .dataframe tbody tr th:only-of-type {\n",
       "        vertical-align: middle;\n",
       "    }\n",
       "\n",
       "    .dataframe tbody tr th {\n",
       "        vertical-align: top;\n",
       "    }\n",
       "\n",
       "    .dataframe thead th {\n",
       "        text-align: right;\n",
       "    }\n",
       "</style>\n",
       "<table border=\"1\" class=\"dataframe\">\n",
       "  <thead>\n",
       "    <tr style=\"text-align: right;\">\n",
       "      <th></th>\n",
       "      <th>offense_formation</th>\n",
       "      <th>season</th>\n",
       "      <th>play_id_count</th>\n",
       "      <th>yards_gained_mean</th>\n",
       "      <th>yards_gained_sum</th>\n",
       "      <th>receiving_yards_mean</th>\n",
       "      <th>receiving_yards_sum</th>\n",
       "      <th>epa_mean</th>\n",
       "      <th>epa_sum</th>\n",
       "      <th>success_mean</th>\n",
       "      <th>...</th>\n",
       "      <th>sack_mean</th>\n",
       "      <th>sack_sum</th>\n",
       "      <th>qb_hit_mean</th>\n",
       "      <th>qb_hit_sum</th>\n",
       "      <th>first_down_mean</th>\n",
       "      <th>first_down_sum</th>\n",
       "      <th>xpass_mean</th>\n",
       "      <th>pass_oe_mean</th>\n",
       "      <th>cp_mean</th>\n",
       "      <th>cpoe_mean</th>\n",
       "    </tr>\n",
       "  </thead>\n",
       "  <tbody>\n",
       "    <tr>\n",
       "      <th>0</th>\n",
       "      <td>ACE</td>\n",
       "      <td>2016</td>\n",
       "      <td>1</td>\n",
       "      <td>6.0</td>\n",
       "      <td>6.0</td>\n",
       "      <td>6.0</td>\n",
       "      <td>6.0</td>\n",
       "      <td>0.923765</td>\n",
       "      <td>0.923765</td>\n",
       "      <td>1.0</td>\n",
       "      <td>...</td>\n",
       "      <td>0.0</td>\n",
       "      <td>0.0</td>\n",
       "      <td>0.0</td>\n",
       "      <td>0.0</td>\n",
       "      <td>1.0</td>\n",
       "      <td>1.0</td>\n",
       "      <td>0.578356</td>\n",
       "      <td>42.164444</td>\n",
       "      <td>0.763573</td>\n",
       "      <td>23.642689</td>\n",
       "    </tr>\n",
       "  </tbody>\n",
       "</table>\n",
       "<p>1 rows × 23 columns</p>\n",
       "</div>"
      ],
      "text/plain": [
       "  offense_formation  season  play_id_count  yards_gained_mean  \\\n",
       "0               ACE    2016              1                6.0   \n",
       "\n",
       "   yards_gained_sum  receiving_yards_mean  receiving_yards_sum  epa_mean  \\\n",
       "0               6.0                   6.0                  6.0  0.923765   \n",
       "\n",
       "    epa_sum  success_mean  ...  sack_mean  sack_sum  qb_hit_mean  qb_hit_sum  \\\n",
       "0  0.923765           1.0  ...        0.0       0.0          0.0         0.0   \n",
       "\n",
       "   first_down_mean  first_down_sum  xpass_mean  pass_oe_mean   cp_mean  \\\n",
       "0              1.0             1.0    0.578356     42.164444  0.763573   \n",
       "\n",
       "   cpoe_mean  \n",
       "0  23.642689  \n",
       "\n",
       "[1 rows x 23 columns]"
      ]
     },
     "execution_count": 36,
     "metadata": {},
     "output_type": "execute_result"
    }
   ],
   "source": [
    "df_temp.query(\"offense_formation == 'ACE'\")"
   ]
  },
  {
   "cell_type": "code",
   "execution_count": 40,
   "id": "5957f977",
   "metadata": {},
   "outputs": [
    {
     "name": "stdout",
     "output_type": "stream",
     "text": [
      "ACE\n",
      "EMPTY\n",
      "I_FORM\n",
      "JUMBO\n",
      "PISTOL\n",
      "SHOTGUN\n",
      "SINGLEBACK\n",
      "WILDCAT\n"
     ]
    }
   ],
   "source": [
    "formations = df_temp[\"offense_formation\"].unique()\n",
    "for formation in formations:\n",
    "    print(formation)\n",
    "    print(df_temp.query(f\"offense_formation \"))"
   ]
  },
  {
   "cell_type": "code",
   "execution_count": 45,
   "id": "95a22b98",
   "metadata": {},
   "outputs": [],
   "source": [
    "def plot_formation_trends(df, y_stat, y_title, x_title=\"Season\", legend_title=\"Formation Type\",\n",
    "                          x_stat=\"season\", save_path=\"\"):\n",
    "    \"\"\"\"\"\"\n",
    "    fig = px.line()\n",
    "\n",
    "    formations = df[\"offense_formation\"].unique()\n",
    "    for formation in formations:\n",
    "        df_formation = df.query(f\"offense_formation == '{formation}'\")\n",
    "        if len(df_formation) > 1:\n",
    "            fig.add_trace(\n",
    "                go.Scatter(x=df_formation[x_stat], y=df_formation[y_stat],\n",
    "                           mode='lines', name=formation)\n",
    "            )\n",
    "\n",
    "    # Update layout\n",
    "    fig.update_layout(\n",
    "        title=f'{y_title} by Formation vs. {x_title}',\n",
    "        xaxis_title=x_title,\n",
    "        yaxis_title=y_title,\n",
    "        legend_title=legend_title,\n",
    "    )\n",
    "\n",
    "    # save the figure\n",
    "    if save_path:\n",
    "        fig.write_html(save_path)\n",
    "\n",
    "    # Show the figure\n",
    "    fig.show()"
   ]
  },
  {
   "cell_type": "code",
   "execution_count": 46,
   "id": "d9e9e761",
   "metadata": {},
   "outputs": [
    {
     "data": {
      "application/vnd.plotly.v1+json": {
       "config": {
        "plotlyServerURL": "https://plot.ly"
       },
       "data": [
        {
         "hovertemplate": "<extra></extra>",
         "legendgroup": "",
         "line": {
          "color": "#636efa",
          "dash": "solid"
         },
         "marker": {
          "symbol": "circle"
         },
         "mode": "lines",
         "name": "",
         "orientation": "v",
         "showlegend": false,
         "type": "scatter",
         "xaxis": "x",
         "yaxis": "y"
        },
        {
         "mode": "lines",
         "name": "EMPTY",
         "type": "scatter",
         "x": [
          2016,
          2017,
          2018,
          2019,
          2020,
          2021,
          2022
         ],
         "y": [
          0.07122422754764557,
          -0.031694989651441574,
          0.018830182030797005,
          0.01747850701212883,
          0.030965162441134453,
          0.018917981535196304,
          -0.04214960336685181
         ]
        },
        {
         "mode": "lines",
         "name": "I_FORM",
         "type": "scatter",
         "x": [
          2016,
          2017,
          2018,
          2019,
          2020,
          2021,
          2022
         ],
         "y": [
          0.16228985786437988,
          0.1340833157300949,
          0.2099977433681488,
          0.22422891855239868,
          0.19785292446613312,
          0.10969910025596619,
          0.043402768671512604
         ]
        },
        {
         "mode": "lines",
         "name": "JUMBO",
         "type": "scatter",
         "x": [
          2016,
          2017,
          2018,
          2019,
          2020,
          2021,
          2022
         ],
         "y": [
          0.03262101486325264,
          0.19085434079170227,
          0.013524875044822693,
          0.025418901816010475,
          -0.11949478089809418,
          0.34989893436431885,
          0.5200473070144653
         ]
        },
        {
         "mode": "lines",
         "name": "PISTOL",
         "type": "scatter",
         "x": [
          2016,
          2017,
          2018,
          2019,
          2020,
          2021,
          2022
         ],
         "y": [
          -0.03819741681218147,
          0.1725180745124817,
          0.04162119701504707,
          0.12417811900377274,
          0.15701048076152802,
          0.0577743835747242,
          0.05418597161769867
         ]
        },
        {
         "mode": "lines",
         "name": "SHOTGUN",
         "type": "scatter",
         "x": [
          2016,
          2017,
          2018,
          2019,
          2020,
          2021,
          2022
         ],
         "y": [
          0.002793398220092058,
          -0.05634253844618797,
          -0.002182460855692625,
          -0.006645569112151861,
          0.033537786453962326,
          0.0007390642422251403,
          -0.032051749527454376
         ]
        },
        {
         "mode": "lines",
         "name": "SINGLEBACK",
         "type": "scatter",
         "x": [
          2016,
          2017,
          2018,
          2019,
          2020,
          2021,
          2022
         ],
         "y": [
          0.18200427293777466,
          0.10628587007522583,
          0.15921753644943237,
          0.1101226881146431,
          0.15787602961063385,
          0.12188442796468735,
          0.11307714879512787
         ]
        },
        {
         "mode": "lines",
         "name": "WILDCAT",
         "type": "scatter",
         "x": [
          2016,
          2017,
          2018,
          2019,
          2020,
          2021,
          2022
         ],
         "y": [
          0.2646246552467346,
          0.370707243680954,
          -0.548729658126831,
          -0.5148407220840454,
          -0.2685208320617676,
          -0.5923277139663696,
          0.07967580854892731
         ]
        }
       ],
       "layout": {
        "legend": {
         "title": {
          "text": "Formation Type"
         },
         "tracegroupgap": 0
        },
        "margin": {
         "t": 60
        },
        "template": {
         "data": {
          "bar": [
           {
            "error_x": {
             "color": "#2a3f5f"
            },
            "error_y": {
             "color": "#2a3f5f"
            },
            "marker": {
             "line": {
              "color": "#E5ECF6",
              "width": 0.5
             },
             "pattern": {
              "fillmode": "overlay",
              "size": 10,
              "solidity": 0.2
             }
            },
            "type": "bar"
           }
          ],
          "barpolar": [
           {
            "marker": {
             "line": {
              "color": "#E5ECF6",
              "width": 0.5
             },
             "pattern": {
              "fillmode": "overlay",
              "size": 10,
              "solidity": 0.2
             }
            },
            "type": "barpolar"
           }
          ],
          "carpet": [
           {
            "aaxis": {
             "endlinecolor": "#2a3f5f",
             "gridcolor": "white",
             "linecolor": "white",
             "minorgridcolor": "white",
             "startlinecolor": "#2a3f5f"
            },
            "baxis": {
             "endlinecolor": "#2a3f5f",
             "gridcolor": "white",
             "linecolor": "white",
             "minorgridcolor": "white",
             "startlinecolor": "#2a3f5f"
            },
            "type": "carpet"
           }
          ],
          "choropleth": [
           {
            "colorbar": {
             "outlinewidth": 0,
             "ticks": ""
            },
            "type": "choropleth"
           }
          ],
          "contour": [
           {
            "colorbar": {
             "outlinewidth": 0,
             "ticks": ""
            },
            "colorscale": [
             [
              0,
              "#0d0887"
             ],
             [
              0.1111111111111111,
              "#46039f"
             ],
             [
              0.2222222222222222,
              "#7201a8"
             ],
             [
              0.3333333333333333,
              "#9c179e"
             ],
             [
              0.4444444444444444,
              "#bd3786"
             ],
             [
              0.5555555555555556,
              "#d8576b"
             ],
             [
              0.6666666666666666,
              "#ed7953"
             ],
             [
              0.7777777777777778,
              "#fb9f3a"
             ],
             [
              0.8888888888888888,
              "#fdca26"
             ],
             [
              1,
              "#f0f921"
             ]
            ],
            "type": "contour"
           }
          ],
          "contourcarpet": [
           {
            "colorbar": {
             "outlinewidth": 0,
             "ticks": ""
            },
            "type": "contourcarpet"
           }
          ],
          "heatmap": [
           {
            "colorbar": {
             "outlinewidth": 0,
             "ticks": ""
            },
            "colorscale": [
             [
              0,
              "#0d0887"
             ],
             [
              0.1111111111111111,
              "#46039f"
             ],
             [
              0.2222222222222222,
              "#7201a8"
             ],
             [
              0.3333333333333333,
              "#9c179e"
             ],
             [
              0.4444444444444444,
              "#bd3786"
             ],
             [
              0.5555555555555556,
              "#d8576b"
             ],
             [
              0.6666666666666666,
              "#ed7953"
             ],
             [
              0.7777777777777778,
              "#fb9f3a"
             ],
             [
              0.8888888888888888,
              "#fdca26"
             ],
             [
              1,
              "#f0f921"
             ]
            ],
            "type": "heatmap"
           }
          ],
          "heatmapgl": [
           {
            "colorbar": {
             "outlinewidth": 0,
             "ticks": ""
            },
            "colorscale": [
             [
              0,
              "#0d0887"
             ],
             [
              0.1111111111111111,
              "#46039f"
             ],
             [
              0.2222222222222222,
              "#7201a8"
             ],
             [
              0.3333333333333333,
              "#9c179e"
             ],
             [
              0.4444444444444444,
              "#bd3786"
             ],
             [
              0.5555555555555556,
              "#d8576b"
             ],
             [
              0.6666666666666666,
              "#ed7953"
             ],
             [
              0.7777777777777778,
              "#fb9f3a"
             ],
             [
              0.8888888888888888,
              "#fdca26"
             ],
             [
              1,
              "#f0f921"
             ]
            ],
            "type": "heatmapgl"
           }
          ],
          "histogram": [
           {
            "marker": {
             "pattern": {
              "fillmode": "overlay",
              "size": 10,
              "solidity": 0.2
             }
            },
            "type": "histogram"
           }
          ],
          "histogram2d": [
           {
            "colorbar": {
             "outlinewidth": 0,
             "ticks": ""
            },
            "colorscale": [
             [
              0,
              "#0d0887"
             ],
             [
              0.1111111111111111,
              "#46039f"
             ],
             [
              0.2222222222222222,
              "#7201a8"
             ],
             [
              0.3333333333333333,
              "#9c179e"
             ],
             [
              0.4444444444444444,
              "#bd3786"
             ],
             [
              0.5555555555555556,
              "#d8576b"
             ],
             [
              0.6666666666666666,
              "#ed7953"
             ],
             [
              0.7777777777777778,
              "#fb9f3a"
             ],
             [
              0.8888888888888888,
              "#fdca26"
             ],
             [
              1,
              "#f0f921"
             ]
            ],
            "type": "histogram2d"
           }
          ],
          "histogram2dcontour": [
           {
            "colorbar": {
             "outlinewidth": 0,
             "ticks": ""
            },
            "colorscale": [
             [
              0,
              "#0d0887"
             ],
             [
              0.1111111111111111,
              "#46039f"
             ],
             [
              0.2222222222222222,
              "#7201a8"
             ],
             [
              0.3333333333333333,
              "#9c179e"
             ],
             [
              0.4444444444444444,
              "#bd3786"
             ],
             [
              0.5555555555555556,
              "#d8576b"
             ],
             [
              0.6666666666666666,
              "#ed7953"
             ],
             [
              0.7777777777777778,
              "#fb9f3a"
             ],
             [
              0.8888888888888888,
              "#fdca26"
             ],
             [
              1,
              "#f0f921"
             ]
            ],
            "type": "histogram2dcontour"
           }
          ],
          "mesh3d": [
           {
            "colorbar": {
             "outlinewidth": 0,
             "ticks": ""
            },
            "type": "mesh3d"
           }
          ],
          "parcoords": [
           {
            "line": {
             "colorbar": {
              "outlinewidth": 0,
              "ticks": ""
             }
            },
            "type": "parcoords"
           }
          ],
          "pie": [
           {
            "automargin": true,
            "type": "pie"
           }
          ],
          "scatter": [
           {
            "fillpattern": {
             "fillmode": "overlay",
             "size": 10,
             "solidity": 0.2
            },
            "type": "scatter"
           }
          ],
          "scatter3d": [
           {
            "line": {
             "colorbar": {
              "outlinewidth": 0,
              "ticks": ""
             }
            },
            "marker": {
             "colorbar": {
              "outlinewidth": 0,
              "ticks": ""
             }
            },
            "type": "scatter3d"
           }
          ],
          "scattercarpet": [
           {
            "marker": {
             "colorbar": {
              "outlinewidth": 0,
              "ticks": ""
             }
            },
            "type": "scattercarpet"
           }
          ],
          "scattergeo": [
           {
            "marker": {
             "colorbar": {
              "outlinewidth": 0,
              "ticks": ""
             }
            },
            "type": "scattergeo"
           }
          ],
          "scattergl": [
           {
            "marker": {
             "colorbar": {
              "outlinewidth": 0,
              "ticks": ""
             }
            },
            "type": "scattergl"
           }
          ],
          "scattermapbox": [
           {
            "marker": {
             "colorbar": {
              "outlinewidth": 0,
              "ticks": ""
             }
            },
            "type": "scattermapbox"
           }
          ],
          "scatterpolar": [
           {
            "marker": {
             "colorbar": {
              "outlinewidth": 0,
              "ticks": ""
             }
            },
            "type": "scatterpolar"
           }
          ],
          "scatterpolargl": [
           {
            "marker": {
             "colorbar": {
              "outlinewidth": 0,
              "ticks": ""
             }
            },
            "type": "scatterpolargl"
           }
          ],
          "scatterternary": [
           {
            "marker": {
             "colorbar": {
              "outlinewidth": 0,
              "ticks": ""
             }
            },
            "type": "scatterternary"
           }
          ],
          "surface": [
           {
            "colorbar": {
             "outlinewidth": 0,
             "ticks": ""
            },
            "colorscale": [
             [
              0,
              "#0d0887"
             ],
             [
              0.1111111111111111,
              "#46039f"
             ],
             [
              0.2222222222222222,
              "#7201a8"
             ],
             [
              0.3333333333333333,
              "#9c179e"
             ],
             [
              0.4444444444444444,
              "#bd3786"
             ],
             [
              0.5555555555555556,
              "#d8576b"
             ],
             [
              0.6666666666666666,
              "#ed7953"
             ],
             [
              0.7777777777777778,
              "#fb9f3a"
             ],
             [
              0.8888888888888888,
              "#fdca26"
             ],
             [
              1,
              "#f0f921"
             ]
            ],
            "type": "surface"
           }
          ],
          "table": [
           {
            "cells": {
             "fill": {
              "color": "#EBF0F8"
             },
             "line": {
              "color": "white"
             }
            },
            "header": {
             "fill": {
              "color": "#C8D4E3"
             },
             "line": {
              "color": "white"
             }
            },
            "type": "table"
           }
          ]
         },
         "layout": {
          "annotationdefaults": {
           "arrowcolor": "#2a3f5f",
           "arrowhead": 0,
           "arrowwidth": 1
          },
          "autotypenumbers": "strict",
          "coloraxis": {
           "colorbar": {
            "outlinewidth": 0,
            "ticks": ""
           }
          },
          "colorscale": {
           "diverging": [
            [
             0,
             "#8e0152"
            ],
            [
             0.1,
             "#c51b7d"
            ],
            [
             0.2,
             "#de77ae"
            ],
            [
             0.3,
             "#f1b6da"
            ],
            [
             0.4,
             "#fde0ef"
            ],
            [
             0.5,
             "#f7f7f7"
            ],
            [
             0.6,
             "#e6f5d0"
            ],
            [
             0.7,
             "#b8e186"
            ],
            [
             0.8,
             "#7fbc41"
            ],
            [
             0.9,
             "#4d9221"
            ],
            [
             1,
             "#276419"
            ]
           ],
           "sequential": [
            [
             0,
             "#0d0887"
            ],
            [
             0.1111111111111111,
             "#46039f"
            ],
            [
             0.2222222222222222,
             "#7201a8"
            ],
            [
             0.3333333333333333,
             "#9c179e"
            ],
            [
             0.4444444444444444,
             "#bd3786"
            ],
            [
             0.5555555555555556,
             "#d8576b"
            ],
            [
             0.6666666666666666,
             "#ed7953"
            ],
            [
             0.7777777777777778,
             "#fb9f3a"
            ],
            [
             0.8888888888888888,
             "#fdca26"
            ],
            [
             1,
             "#f0f921"
            ]
           ],
           "sequentialminus": [
            [
             0,
             "#0d0887"
            ],
            [
             0.1111111111111111,
             "#46039f"
            ],
            [
             0.2222222222222222,
             "#7201a8"
            ],
            [
             0.3333333333333333,
             "#9c179e"
            ],
            [
             0.4444444444444444,
             "#bd3786"
            ],
            [
             0.5555555555555556,
             "#d8576b"
            ],
            [
             0.6666666666666666,
             "#ed7953"
            ],
            [
             0.7777777777777778,
             "#fb9f3a"
            ],
            [
             0.8888888888888888,
             "#fdca26"
            ],
            [
             1,
             "#f0f921"
            ]
           ]
          },
          "colorway": [
           "#636efa",
           "#EF553B",
           "#00cc96",
           "#ab63fa",
           "#FFA15A",
           "#19d3f3",
           "#FF6692",
           "#B6E880",
           "#FF97FF",
           "#FECB52"
          ],
          "font": {
           "color": "#2a3f5f"
          },
          "geo": {
           "bgcolor": "white",
           "lakecolor": "white",
           "landcolor": "#E5ECF6",
           "showlakes": true,
           "showland": true,
           "subunitcolor": "white"
          },
          "hoverlabel": {
           "align": "left"
          },
          "hovermode": "closest",
          "mapbox": {
           "style": "light"
          },
          "paper_bgcolor": "white",
          "plot_bgcolor": "#E5ECF6",
          "polar": {
           "angularaxis": {
            "gridcolor": "white",
            "linecolor": "white",
            "ticks": ""
           },
           "bgcolor": "#E5ECF6",
           "radialaxis": {
            "gridcolor": "white",
            "linecolor": "white",
            "ticks": ""
           }
          },
          "scene": {
           "xaxis": {
            "backgroundcolor": "#E5ECF6",
            "gridcolor": "white",
            "gridwidth": 2,
            "linecolor": "white",
            "showbackground": true,
            "ticks": "",
            "zerolinecolor": "white"
           },
           "yaxis": {
            "backgroundcolor": "#E5ECF6",
            "gridcolor": "white",
            "gridwidth": 2,
            "linecolor": "white",
            "showbackground": true,
            "ticks": "",
            "zerolinecolor": "white"
           },
           "zaxis": {
            "backgroundcolor": "#E5ECF6",
            "gridcolor": "white",
            "gridwidth": 2,
            "linecolor": "white",
            "showbackground": true,
            "ticks": "",
            "zerolinecolor": "white"
           }
          },
          "shapedefaults": {
           "line": {
            "color": "#2a3f5f"
           }
          },
          "ternary": {
           "aaxis": {
            "gridcolor": "white",
            "linecolor": "white",
            "ticks": ""
           },
           "baxis": {
            "gridcolor": "white",
            "linecolor": "white",
            "ticks": ""
           },
           "bgcolor": "#E5ECF6",
           "caxis": {
            "gridcolor": "white",
            "linecolor": "white",
            "ticks": ""
           }
          },
          "title": {
           "x": 0.05
          },
          "xaxis": {
           "automargin": true,
           "gridcolor": "white",
           "linecolor": "white",
           "ticks": "",
           "title": {
            "standoff": 15
           },
           "zerolinecolor": "white",
           "zerolinewidth": 2
          },
          "yaxis": {
           "automargin": true,
           "gridcolor": "white",
           "linecolor": "white",
           "ticks": "",
           "title": {
            "standoff": 15
           },
           "zerolinecolor": "white",
           "zerolinewidth": 2
          }
         }
        },
        "title": {
         "text": "EPA by Formation vs. Season"
        },
        "xaxis": {
         "anchor": "y",
         "domain": [
          0,
          1
         ],
         "title": {
          "text": "Season"
         }
        },
        "yaxis": {
         "anchor": "x",
         "domain": [
          0,
          1
         ],
         "title": {
          "text": "EPA"
         }
        }
       }
      },
      "text/html": [
       "<div>                            <div id=\"0b23c295-5b19-4d30-8695-6ef8ad04ba24\" class=\"plotly-graph-div\" style=\"height:525px; width:100%;\"></div>            <script type=\"text/javascript\">                require([\"plotly\"], function(Plotly) {                    window.PLOTLYENV=window.PLOTLYENV || {};                                    if (document.getElementById(\"0b23c295-5b19-4d30-8695-6ef8ad04ba24\")) {                    Plotly.newPlot(                        \"0b23c295-5b19-4d30-8695-6ef8ad04ba24\",                        [{\"hovertemplate\":\"\\u003cextra\\u003e\\u003c\\u002fextra\\u003e\",\"legendgroup\":\"\",\"line\":{\"color\":\"#636efa\",\"dash\":\"solid\"},\"marker\":{\"symbol\":\"circle\"},\"mode\":\"lines\",\"name\":\"\",\"orientation\":\"v\",\"showlegend\":false,\"xaxis\":\"x\",\"yaxis\":\"y\",\"type\":\"scatter\"},{\"mode\":\"lines\",\"name\":\"EMPTY\",\"x\":[2016,2017,2018,2019,2020,2021,2022],\"y\":[0.07122422754764557,-0.031694989651441574,0.018830182030797005,0.01747850701212883,0.030965162441134453,0.018917981535196304,-0.04214960336685181],\"type\":\"scatter\"},{\"mode\":\"lines\",\"name\":\"I_FORM\",\"x\":[2016,2017,2018,2019,2020,2021,2022],\"y\":[0.16228985786437988,0.1340833157300949,0.2099977433681488,0.22422891855239868,0.19785292446613312,0.10969910025596619,0.043402768671512604],\"type\":\"scatter\"},{\"mode\":\"lines\",\"name\":\"JUMBO\",\"x\":[2016,2017,2018,2019,2020,2021,2022],\"y\":[0.03262101486325264,0.19085434079170227,0.013524875044822693,0.025418901816010475,-0.11949478089809418,0.34989893436431885,0.5200473070144653],\"type\":\"scatter\"},{\"mode\":\"lines\",\"name\":\"PISTOL\",\"x\":[2016,2017,2018,2019,2020,2021,2022],\"y\":[-0.03819741681218147,0.1725180745124817,0.04162119701504707,0.12417811900377274,0.15701048076152802,0.0577743835747242,0.05418597161769867],\"type\":\"scatter\"},{\"mode\":\"lines\",\"name\":\"SHOTGUN\",\"x\":[2016,2017,2018,2019,2020,2021,2022],\"y\":[0.002793398220092058,-0.05634253844618797,-0.002182460855692625,-0.006645569112151861,0.033537786453962326,0.0007390642422251403,-0.032051749527454376],\"type\":\"scatter\"},{\"mode\":\"lines\",\"name\":\"SINGLEBACK\",\"x\":[2016,2017,2018,2019,2020,2021,2022],\"y\":[0.18200427293777466,0.10628587007522583,0.15921753644943237,0.1101226881146431,0.15787602961063385,0.12188442796468735,0.11307714879512787],\"type\":\"scatter\"},{\"mode\":\"lines\",\"name\":\"WILDCAT\",\"x\":[2016,2017,2018,2019,2020,2021,2022],\"y\":[0.2646246552467346,0.370707243680954,-0.548729658126831,-0.5148407220840454,-0.2685208320617676,-0.5923277139663696,0.07967580854892731],\"type\":\"scatter\"}],                        {\"template\":{\"data\":{\"histogram2dcontour\":[{\"type\":\"histogram2dcontour\",\"colorbar\":{\"outlinewidth\":0,\"ticks\":\"\"},\"colorscale\":[[0.0,\"#0d0887\"],[0.1111111111111111,\"#46039f\"],[0.2222222222222222,\"#7201a8\"],[0.3333333333333333,\"#9c179e\"],[0.4444444444444444,\"#bd3786\"],[0.5555555555555556,\"#d8576b\"],[0.6666666666666666,\"#ed7953\"],[0.7777777777777778,\"#fb9f3a\"],[0.8888888888888888,\"#fdca26\"],[1.0,\"#f0f921\"]]}],\"choropleth\":[{\"type\":\"choropleth\",\"colorbar\":{\"outlinewidth\":0,\"ticks\":\"\"}}],\"histogram2d\":[{\"type\":\"histogram2d\",\"colorbar\":{\"outlinewidth\":0,\"ticks\":\"\"},\"colorscale\":[[0.0,\"#0d0887\"],[0.1111111111111111,\"#46039f\"],[0.2222222222222222,\"#7201a8\"],[0.3333333333333333,\"#9c179e\"],[0.4444444444444444,\"#bd3786\"],[0.5555555555555556,\"#d8576b\"],[0.6666666666666666,\"#ed7953\"],[0.7777777777777778,\"#fb9f3a\"],[0.8888888888888888,\"#fdca26\"],[1.0,\"#f0f921\"]]}],\"heatmap\":[{\"type\":\"heatmap\",\"colorbar\":{\"outlinewidth\":0,\"ticks\":\"\"},\"colorscale\":[[0.0,\"#0d0887\"],[0.1111111111111111,\"#46039f\"],[0.2222222222222222,\"#7201a8\"],[0.3333333333333333,\"#9c179e\"],[0.4444444444444444,\"#bd3786\"],[0.5555555555555556,\"#d8576b\"],[0.6666666666666666,\"#ed7953\"],[0.7777777777777778,\"#fb9f3a\"],[0.8888888888888888,\"#fdca26\"],[1.0,\"#f0f921\"]]}],\"heatmapgl\":[{\"type\":\"heatmapgl\",\"colorbar\":{\"outlinewidth\":0,\"ticks\":\"\"},\"colorscale\":[[0.0,\"#0d0887\"],[0.1111111111111111,\"#46039f\"],[0.2222222222222222,\"#7201a8\"],[0.3333333333333333,\"#9c179e\"],[0.4444444444444444,\"#bd3786\"],[0.5555555555555556,\"#d8576b\"],[0.6666666666666666,\"#ed7953\"],[0.7777777777777778,\"#fb9f3a\"],[0.8888888888888888,\"#fdca26\"],[1.0,\"#f0f921\"]]}],\"contourcarpet\":[{\"type\":\"contourcarpet\",\"colorbar\":{\"outlinewidth\":0,\"ticks\":\"\"}}],\"contour\":[{\"type\":\"contour\",\"colorbar\":{\"outlinewidth\":0,\"ticks\":\"\"},\"colorscale\":[[0.0,\"#0d0887\"],[0.1111111111111111,\"#46039f\"],[0.2222222222222222,\"#7201a8\"],[0.3333333333333333,\"#9c179e\"],[0.4444444444444444,\"#bd3786\"],[0.5555555555555556,\"#d8576b\"],[0.6666666666666666,\"#ed7953\"],[0.7777777777777778,\"#fb9f3a\"],[0.8888888888888888,\"#fdca26\"],[1.0,\"#f0f921\"]]}],\"surface\":[{\"type\":\"surface\",\"colorbar\":{\"outlinewidth\":0,\"ticks\":\"\"},\"colorscale\":[[0.0,\"#0d0887\"],[0.1111111111111111,\"#46039f\"],[0.2222222222222222,\"#7201a8\"],[0.3333333333333333,\"#9c179e\"],[0.4444444444444444,\"#bd3786\"],[0.5555555555555556,\"#d8576b\"],[0.6666666666666666,\"#ed7953\"],[0.7777777777777778,\"#fb9f3a\"],[0.8888888888888888,\"#fdca26\"],[1.0,\"#f0f921\"]]}],\"mesh3d\":[{\"type\":\"mesh3d\",\"colorbar\":{\"outlinewidth\":0,\"ticks\":\"\"}}],\"scatter\":[{\"fillpattern\":{\"fillmode\":\"overlay\",\"size\":10,\"solidity\":0.2},\"type\":\"scatter\"}],\"parcoords\":[{\"type\":\"parcoords\",\"line\":{\"colorbar\":{\"outlinewidth\":0,\"ticks\":\"\"}}}],\"scatterpolargl\":[{\"type\":\"scatterpolargl\",\"marker\":{\"colorbar\":{\"outlinewidth\":0,\"ticks\":\"\"}}}],\"bar\":[{\"error_x\":{\"color\":\"#2a3f5f\"},\"error_y\":{\"color\":\"#2a3f5f\"},\"marker\":{\"line\":{\"color\":\"#E5ECF6\",\"width\":0.5},\"pattern\":{\"fillmode\":\"overlay\",\"size\":10,\"solidity\":0.2}},\"type\":\"bar\"}],\"scattergeo\":[{\"type\":\"scattergeo\",\"marker\":{\"colorbar\":{\"outlinewidth\":0,\"ticks\":\"\"}}}],\"scatterpolar\":[{\"type\":\"scatterpolar\",\"marker\":{\"colorbar\":{\"outlinewidth\":0,\"ticks\":\"\"}}}],\"histogram\":[{\"marker\":{\"pattern\":{\"fillmode\":\"overlay\",\"size\":10,\"solidity\":0.2}},\"type\":\"histogram\"}],\"scattergl\":[{\"type\":\"scattergl\",\"marker\":{\"colorbar\":{\"outlinewidth\":0,\"ticks\":\"\"}}}],\"scatter3d\":[{\"type\":\"scatter3d\",\"line\":{\"colorbar\":{\"outlinewidth\":0,\"ticks\":\"\"}},\"marker\":{\"colorbar\":{\"outlinewidth\":0,\"ticks\":\"\"}}}],\"scattermapbox\":[{\"type\":\"scattermapbox\",\"marker\":{\"colorbar\":{\"outlinewidth\":0,\"ticks\":\"\"}}}],\"scatterternary\":[{\"type\":\"scatterternary\",\"marker\":{\"colorbar\":{\"outlinewidth\":0,\"ticks\":\"\"}}}],\"scattercarpet\":[{\"type\":\"scattercarpet\",\"marker\":{\"colorbar\":{\"outlinewidth\":0,\"ticks\":\"\"}}}],\"carpet\":[{\"aaxis\":{\"endlinecolor\":\"#2a3f5f\",\"gridcolor\":\"white\",\"linecolor\":\"white\",\"minorgridcolor\":\"white\",\"startlinecolor\":\"#2a3f5f\"},\"baxis\":{\"endlinecolor\":\"#2a3f5f\",\"gridcolor\":\"white\",\"linecolor\":\"white\",\"minorgridcolor\":\"white\",\"startlinecolor\":\"#2a3f5f\"},\"type\":\"carpet\"}],\"table\":[{\"cells\":{\"fill\":{\"color\":\"#EBF0F8\"},\"line\":{\"color\":\"white\"}},\"header\":{\"fill\":{\"color\":\"#C8D4E3\"},\"line\":{\"color\":\"white\"}},\"type\":\"table\"}],\"barpolar\":[{\"marker\":{\"line\":{\"color\":\"#E5ECF6\",\"width\":0.5},\"pattern\":{\"fillmode\":\"overlay\",\"size\":10,\"solidity\":0.2}},\"type\":\"barpolar\"}],\"pie\":[{\"automargin\":true,\"type\":\"pie\"}]},\"layout\":{\"autotypenumbers\":\"strict\",\"colorway\":[\"#636efa\",\"#EF553B\",\"#00cc96\",\"#ab63fa\",\"#FFA15A\",\"#19d3f3\",\"#FF6692\",\"#B6E880\",\"#FF97FF\",\"#FECB52\"],\"font\":{\"color\":\"#2a3f5f\"},\"hovermode\":\"closest\",\"hoverlabel\":{\"align\":\"left\"},\"paper_bgcolor\":\"white\",\"plot_bgcolor\":\"#E5ECF6\",\"polar\":{\"bgcolor\":\"#E5ECF6\",\"angularaxis\":{\"gridcolor\":\"white\",\"linecolor\":\"white\",\"ticks\":\"\"},\"radialaxis\":{\"gridcolor\":\"white\",\"linecolor\":\"white\",\"ticks\":\"\"}},\"ternary\":{\"bgcolor\":\"#E5ECF6\",\"aaxis\":{\"gridcolor\":\"white\",\"linecolor\":\"white\",\"ticks\":\"\"},\"baxis\":{\"gridcolor\":\"white\",\"linecolor\":\"white\",\"ticks\":\"\"},\"caxis\":{\"gridcolor\":\"white\",\"linecolor\":\"white\",\"ticks\":\"\"}},\"coloraxis\":{\"colorbar\":{\"outlinewidth\":0,\"ticks\":\"\"}},\"colorscale\":{\"sequential\":[[0.0,\"#0d0887\"],[0.1111111111111111,\"#46039f\"],[0.2222222222222222,\"#7201a8\"],[0.3333333333333333,\"#9c179e\"],[0.4444444444444444,\"#bd3786\"],[0.5555555555555556,\"#d8576b\"],[0.6666666666666666,\"#ed7953\"],[0.7777777777777778,\"#fb9f3a\"],[0.8888888888888888,\"#fdca26\"],[1.0,\"#f0f921\"]],\"sequentialminus\":[[0.0,\"#0d0887\"],[0.1111111111111111,\"#46039f\"],[0.2222222222222222,\"#7201a8\"],[0.3333333333333333,\"#9c179e\"],[0.4444444444444444,\"#bd3786\"],[0.5555555555555556,\"#d8576b\"],[0.6666666666666666,\"#ed7953\"],[0.7777777777777778,\"#fb9f3a\"],[0.8888888888888888,\"#fdca26\"],[1.0,\"#f0f921\"]],\"diverging\":[[0,\"#8e0152\"],[0.1,\"#c51b7d\"],[0.2,\"#de77ae\"],[0.3,\"#f1b6da\"],[0.4,\"#fde0ef\"],[0.5,\"#f7f7f7\"],[0.6,\"#e6f5d0\"],[0.7,\"#b8e186\"],[0.8,\"#7fbc41\"],[0.9,\"#4d9221\"],[1,\"#276419\"]]},\"xaxis\":{\"gridcolor\":\"white\",\"linecolor\":\"white\",\"ticks\":\"\",\"title\":{\"standoff\":15},\"zerolinecolor\":\"white\",\"automargin\":true,\"zerolinewidth\":2},\"yaxis\":{\"gridcolor\":\"white\",\"linecolor\":\"white\",\"ticks\":\"\",\"title\":{\"standoff\":15},\"zerolinecolor\":\"white\",\"automargin\":true,\"zerolinewidth\":2},\"scene\":{\"xaxis\":{\"backgroundcolor\":\"#E5ECF6\",\"gridcolor\":\"white\",\"linecolor\":\"white\",\"showbackground\":true,\"ticks\":\"\",\"zerolinecolor\":\"white\",\"gridwidth\":2},\"yaxis\":{\"backgroundcolor\":\"#E5ECF6\",\"gridcolor\":\"white\",\"linecolor\":\"white\",\"showbackground\":true,\"ticks\":\"\",\"zerolinecolor\":\"white\",\"gridwidth\":2},\"zaxis\":{\"backgroundcolor\":\"#E5ECF6\",\"gridcolor\":\"white\",\"linecolor\":\"white\",\"showbackground\":true,\"ticks\":\"\",\"zerolinecolor\":\"white\",\"gridwidth\":2}},\"shapedefaults\":{\"line\":{\"color\":\"#2a3f5f\"}},\"annotationdefaults\":{\"arrowcolor\":\"#2a3f5f\",\"arrowhead\":0,\"arrowwidth\":1},\"geo\":{\"bgcolor\":\"white\",\"landcolor\":\"#E5ECF6\",\"subunitcolor\":\"white\",\"showland\":true,\"showlakes\":true,\"lakecolor\":\"white\"},\"title\":{\"x\":0.05},\"mapbox\":{\"style\":\"light\"}}},\"xaxis\":{\"anchor\":\"y\",\"domain\":[0.0,1.0],\"title\":{\"text\":\"Season\"}},\"yaxis\":{\"anchor\":\"x\",\"domain\":[0.0,1.0],\"title\":{\"text\":\"EPA\"}},\"legend\":{\"tracegroupgap\":0,\"title\":{\"text\":\"Formation Type\"}},\"margin\":{\"t\":60},\"title\":{\"text\":\"EPA by Formation vs. Season\"}},                        {\"responsive\": true}                    ).then(function(){\n",
       "                            \n",
       "var gd = document.getElementById('0b23c295-5b19-4d30-8695-6ef8ad04ba24');\n",
       "var x = new MutationObserver(function (mutations, observer) {{\n",
       "        var display = window.getComputedStyle(gd).display;\n",
       "        if (!display || display === 'none') {{\n",
       "            console.log([gd, 'removed!']);\n",
       "            Plotly.purge(gd);\n",
       "            observer.disconnect();\n",
       "        }}\n",
       "}});\n",
       "\n",
       "// Listen for the removal of the full notebook cells\n",
       "var notebookContainer = gd.closest('#notebook-container');\n",
       "if (notebookContainer) {{\n",
       "    x.observe(notebookContainer, {childList: true});\n",
       "}}\n",
       "\n",
       "// Listen for the clearing of the current output cell\n",
       "var outputEl = gd.closest('.output');\n",
       "if (outputEl) {{\n",
       "    x.observe(outputEl, {childList: true});\n",
       "}}\n",
       "\n",
       "                        })                };                });            </script>        </div>"
      ]
     },
     "metadata": {},
     "output_type": "display_data"
    }
   ],
   "source": [
    "plot_formation_trends(df_temp, \"epa_mean\", \"EPA\")"
   ]
  },
  {
   "cell_type": "code",
   "execution_count": 47,
   "id": "56f6c2ad",
   "metadata": {},
   "outputs": [
    {
     "data": {
      "text/plain": [
       "Index(['offense_formation', 'season', 'play_id_count', 'yards_gained_mean',\n",
       "       'yards_gained_sum', 'receiving_yards_mean', 'receiving_yards_sum',\n",
       "       'epa_mean', 'epa_sum', 'success_mean', 'success_sum', 'touchdown_mean',\n",
       "       'touchdown_sum', 'sack_mean', 'sack_sum', 'qb_hit_mean', 'qb_hit_sum',\n",
       "       'first_down_mean', 'first_down_sum', 'xpass_mean', 'pass_oe_mean',\n",
       "       'cp_mean', 'cpoe_mean'],\n",
       "      dtype='object')"
      ]
     },
     "execution_count": 47,
     "metadata": {},
     "output_type": "execute_result"
    }
   ],
   "source": [
    "df_temp.columns"
   ]
  },
  {
   "cell_type": "code",
   "execution_count": 48,
   "id": "56744aad",
   "metadata": {},
   "outputs": [
    {
     "data": {
      "application/vnd.plotly.v1+json": {
       "config": {
        "plotlyServerURL": "https://plot.ly"
       },
       "data": [
        {
         "hovertemplate": "<extra></extra>",
         "legendgroup": "",
         "line": {
          "color": "#636efa",
          "dash": "solid"
         },
         "marker": {
          "symbol": "circle"
         },
         "mode": "lines",
         "name": "",
         "orientation": "v",
         "showlegend": false,
         "type": "scatter",
         "xaxis": "x",
         "yaxis": "y"
        },
        {
         "mode": "lines",
         "name": "EMPTY",
         "type": "scatter",
         "x": [
          2016,
          2017,
          2018,
          2019,
          2020,
          2021,
          2022
         ],
         "y": [
          0.1103706806898117,
          0.14059829711914062,
          0.13283827900886536,
          0.13560666143894196,
          0.14476053416728973,
          0.14507237076759338,
          0.13652552664279938
         ]
        },
        {
         "mode": "lines",
         "name": "I_FORM",
         "type": "scatter",
         "x": [
          2016,
          2017,
          2018,
          2019,
          2020,
          2021,
          2022
         ],
         "y": [
          0.1419624239206314,
          0.14043354988098145,
          0.15951594710350037,
          0.14483627676963806,
          0.1621621549129486,
          0.16006600856781006,
          0.17158672213554382
         ]
        },
        {
         "mode": "lines",
         "name": "JUMBO",
         "type": "scatter",
         "x": [
          2016,
          2017,
          2018,
          2019,
          2020,
          2021,
          2022
         ],
         "y": [
          0.21276596188545227,
          0.046875,
          0.25,
          0.1090909093618393,
          0.11999999731779099,
          0.14516128599643707,
          0.1111111119389534
         ]
        },
        {
         "mode": "lines",
         "name": "PISTOL",
         "type": "scatter",
         "x": [
          2016,
          2017,
          2018,
          2019,
          2020,
          2021,
          2022
         ],
         "y": [
          0.11634349077939987,
          0.0904255285859108,
          0.17368420958518982,
          0.15466666221618652,
          0.10972568392753601,
          0.1073298454284668,
          0.150390625
         ]
        },
        {
         "mode": "lines",
         "name": "SHOTGUN",
         "type": "scatter",
         "x": [
          2016,
          2017,
          2018,
          2019,
          2020,
          2021,
          2022
         ],
         "y": [
          0.14692015945911407,
          0.14913657307624817,
          0.1491304636001587,
          0.14341580867767334,
          0.14733870327472687,
          0.14497672021389008,
          0.14990048110485077
         ]
        },
        {
         "mode": "lines",
         "name": "SINGLEBACK",
         "type": "scatter",
         "x": [
          2016,
          2017,
          2018,
          2019,
          2020,
          2021,
          2022
         ],
         "y": [
          0.1378144919872284,
          0.15690375864505768,
          0.1524324268102646,
          0.1621238887310028,
          0.14095449447631836,
          0.13274335861206055,
          0.1577560305595398
         ]
        },
        {
         "mode": "lines",
         "name": "WILDCAT",
         "type": "scatter",
         "x": [
          2016,
          2017,
          2018,
          2019,
          2020,
          2021,
          2022
         ],
         "y": [
          0.13333334028720856,
          0.1875,
          0.1111111119389534,
          0.1875,
          0.1875,
          0.21739129722118378,
          0.15789473056793213
         ]
        }
       ],
       "layout": {
        "legend": {
         "title": {
          "text": "Formation Type"
         },
         "tracegroupgap": 0
        },
        "margin": {
         "t": 60
        },
        "template": {
         "data": {
          "bar": [
           {
            "error_x": {
             "color": "#2a3f5f"
            },
            "error_y": {
             "color": "#2a3f5f"
            },
            "marker": {
             "line": {
              "color": "#E5ECF6",
              "width": 0.5
             },
             "pattern": {
              "fillmode": "overlay",
              "size": 10,
              "solidity": 0.2
             }
            },
            "type": "bar"
           }
          ],
          "barpolar": [
           {
            "marker": {
             "line": {
              "color": "#E5ECF6",
              "width": 0.5
             },
             "pattern": {
              "fillmode": "overlay",
              "size": 10,
              "solidity": 0.2
             }
            },
            "type": "barpolar"
           }
          ],
          "carpet": [
           {
            "aaxis": {
             "endlinecolor": "#2a3f5f",
             "gridcolor": "white",
             "linecolor": "white",
             "minorgridcolor": "white",
             "startlinecolor": "#2a3f5f"
            },
            "baxis": {
             "endlinecolor": "#2a3f5f",
             "gridcolor": "white",
             "linecolor": "white",
             "minorgridcolor": "white",
             "startlinecolor": "#2a3f5f"
            },
            "type": "carpet"
           }
          ],
          "choropleth": [
           {
            "colorbar": {
             "outlinewidth": 0,
             "ticks": ""
            },
            "type": "choropleth"
           }
          ],
          "contour": [
           {
            "colorbar": {
             "outlinewidth": 0,
             "ticks": ""
            },
            "colorscale": [
             [
              0,
              "#0d0887"
             ],
             [
              0.1111111111111111,
              "#46039f"
             ],
             [
              0.2222222222222222,
              "#7201a8"
             ],
             [
              0.3333333333333333,
              "#9c179e"
             ],
             [
              0.4444444444444444,
              "#bd3786"
             ],
             [
              0.5555555555555556,
              "#d8576b"
             ],
             [
              0.6666666666666666,
              "#ed7953"
             ],
             [
              0.7777777777777778,
              "#fb9f3a"
             ],
             [
              0.8888888888888888,
              "#fdca26"
             ],
             [
              1,
              "#f0f921"
             ]
            ],
            "type": "contour"
           }
          ],
          "contourcarpet": [
           {
            "colorbar": {
             "outlinewidth": 0,
             "ticks": ""
            },
            "type": "contourcarpet"
           }
          ],
          "heatmap": [
           {
            "colorbar": {
             "outlinewidth": 0,
             "ticks": ""
            },
            "colorscale": [
             [
              0,
              "#0d0887"
             ],
             [
              0.1111111111111111,
              "#46039f"
             ],
             [
              0.2222222222222222,
              "#7201a8"
             ],
             [
              0.3333333333333333,
              "#9c179e"
             ],
             [
              0.4444444444444444,
              "#bd3786"
             ],
             [
              0.5555555555555556,
              "#d8576b"
             ],
             [
              0.6666666666666666,
              "#ed7953"
             ],
             [
              0.7777777777777778,
              "#fb9f3a"
             ],
             [
              0.8888888888888888,
              "#fdca26"
             ],
             [
              1,
              "#f0f921"
             ]
            ],
            "type": "heatmap"
           }
          ],
          "heatmapgl": [
           {
            "colorbar": {
             "outlinewidth": 0,
             "ticks": ""
            },
            "colorscale": [
             [
              0,
              "#0d0887"
             ],
             [
              0.1111111111111111,
              "#46039f"
             ],
             [
              0.2222222222222222,
              "#7201a8"
             ],
             [
              0.3333333333333333,
              "#9c179e"
             ],
             [
              0.4444444444444444,
              "#bd3786"
             ],
             [
              0.5555555555555556,
              "#d8576b"
             ],
             [
              0.6666666666666666,
              "#ed7953"
             ],
             [
              0.7777777777777778,
              "#fb9f3a"
             ],
             [
              0.8888888888888888,
              "#fdca26"
             ],
             [
              1,
              "#f0f921"
             ]
            ],
            "type": "heatmapgl"
           }
          ],
          "histogram": [
           {
            "marker": {
             "pattern": {
              "fillmode": "overlay",
              "size": 10,
              "solidity": 0.2
             }
            },
            "type": "histogram"
           }
          ],
          "histogram2d": [
           {
            "colorbar": {
             "outlinewidth": 0,
             "ticks": ""
            },
            "colorscale": [
             [
              0,
              "#0d0887"
             ],
             [
              0.1111111111111111,
              "#46039f"
             ],
             [
              0.2222222222222222,
              "#7201a8"
             ],
             [
              0.3333333333333333,
              "#9c179e"
             ],
             [
              0.4444444444444444,
              "#bd3786"
             ],
             [
              0.5555555555555556,
              "#d8576b"
             ],
             [
              0.6666666666666666,
              "#ed7953"
             ],
             [
              0.7777777777777778,
              "#fb9f3a"
             ],
             [
              0.8888888888888888,
              "#fdca26"
             ],
             [
              1,
              "#f0f921"
             ]
            ],
            "type": "histogram2d"
           }
          ],
          "histogram2dcontour": [
           {
            "colorbar": {
             "outlinewidth": 0,
             "ticks": ""
            },
            "colorscale": [
             [
              0,
              "#0d0887"
             ],
             [
              0.1111111111111111,
              "#46039f"
             ],
             [
              0.2222222222222222,
              "#7201a8"
             ],
             [
              0.3333333333333333,
              "#9c179e"
             ],
             [
              0.4444444444444444,
              "#bd3786"
             ],
             [
              0.5555555555555556,
              "#d8576b"
             ],
             [
              0.6666666666666666,
              "#ed7953"
             ],
             [
              0.7777777777777778,
              "#fb9f3a"
             ],
             [
              0.8888888888888888,
              "#fdca26"
             ],
             [
              1,
              "#f0f921"
             ]
            ],
            "type": "histogram2dcontour"
           }
          ],
          "mesh3d": [
           {
            "colorbar": {
             "outlinewidth": 0,
             "ticks": ""
            },
            "type": "mesh3d"
           }
          ],
          "parcoords": [
           {
            "line": {
             "colorbar": {
              "outlinewidth": 0,
              "ticks": ""
             }
            },
            "type": "parcoords"
           }
          ],
          "pie": [
           {
            "automargin": true,
            "type": "pie"
           }
          ],
          "scatter": [
           {
            "fillpattern": {
             "fillmode": "overlay",
             "size": 10,
             "solidity": 0.2
            },
            "type": "scatter"
           }
          ],
          "scatter3d": [
           {
            "line": {
             "colorbar": {
              "outlinewidth": 0,
              "ticks": ""
             }
            },
            "marker": {
             "colorbar": {
              "outlinewidth": 0,
              "ticks": ""
             }
            },
            "type": "scatter3d"
           }
          ],
          "scattercarpet": [
           {
            "marker": {
             "colorbar": {
              "outlinewidth": 0,
              "ticks": ""
             }
            },
            "type": "scattercarpet"
           }
          ],
          "scattergeo": [
           {
            "marker": {
             "colorbar": {
              "outlinewidth": 0,
              "ticks": ""
             }
            },
            "type": "scattergeo"
           }
          ],
          "scattergl": [
           {
            "marker": {
             "colorbar": {
              "outlinewidth": 0,
              "ticks": ""
             }
            },
            "type": "scattergl"
           }
          ],
          "scattermapbox": [
           {
            "marker": {
             "colorbar": {
              "outlinewidth": 0,
              "ticks": ""
             }
            },
            "type": "scattermapbox"
           }
          ],
          "scatterpolar": [
           {
            "marker": {
             "colorbar": {
              "outlinewidth": 0,
              "ticks": ""
             }
            },
            "type": "scatterpolar"
           }
          ],
          "scatterpolargl": [
           {
            "marker": {
             "colorbar": {
              "outlinewidth": 0,
              "ticks": ""
             }
            },
            "type": "scatterpolargl"
           }
          ],
          "scatterternary": [
           {
            "marker": {
             "colorbar": {
              "outlinewidth": 0,
              "ticks": ""
             }
            },
            "type": "scatterternary"
           }
          ],
          "surface": [
           {
            "colorbar": {
             "outlinewidth": 0,
             "ticks": ""
            },
            "colorscale": [
             [
              0,
              "#0d0887"
             ],
             [
              0.1111111111111111,
              "#46039f"
             ],
             [
              0.2222222222222222,
              "#7201a8"
             ],
             [
              0.3333333333333333,
              "#9c179e"
             ],
             [
              0.4444444444444444,
              "#bd3786"
             ],
             [
              0.5555555555555556,
              "#d8576b"
             ],
             [
              0.6666666666666666,
              "#ed7953"
             ],
             [
              0.7777777777777778,
              "#fb9f3a"
             ],
             [
              0.8888888888888888,
              "#fdca26"
             ],
             [
              1,
              "#f0f921"
             ]
            ],
            "type": "surface"
           }
          ],
          "table": [
           {
            "cells": {
             "fill": {
              "color": "#EBF0F8"
             },
             "line": {
              "color": "white"
             }
            },
            "header": {
             "fill": {
              "color": "#C8D4E3"
             },
             "line": {
              "color": "white"
             }
            },
            "type": "table"
           }
          ]
         },
         "layout": {
          "annotationdefaults": {
           "arrowcolor": "#2a3f5f",
           "arrowhead": 0,
           "arrowwidth": 1
          },
          "autotypenumbers": "strict",
          "coloraxis": {
           "colorbar": {
            "outlinewidth": 0,
            "ticks": ""
           }
          },
          "colorscale": {
           "diverging": [
            [
             0,
             "#8e0152"
            ],
            [
             0.1,
             "#c51b7d"
            ],
            [
             0.2,
             "#de77ae"
            ],
            [
             0.3,
             "#f1b6da"
            ],
            [
             0.4,
             "#fde0ef"
            ],
            [
             0.5,
             "#f7f7f7"
            ],
            [
             0.6,
             "#e6f5d0"
            ],
            [
             0.7,
             "#b8e186"
            ],
            [
             0.8,
             "#7fbc41"
            ],
            [
             0.9,
             "#4d9221"
            ],
            [
             1,
             "#276419"
            ]
           ],
           "sequential": [
            [
             0,
             "#0d0887"
            ],
            [
             0.1111111111111111,
             "#46039f"
            ],
            [
             0.2222222222222222,
             "#7201a8"
            ],
            [
             0.3333333333333333,
             "#9c179e"
            ],
            [
             0.4444444444444444,
             "#bd3786"
            ],
            [
             0.5555555555555556,
             "#d8576b"
            ],
            [
             0.6666666666666666,
             "#ed7953"
            ],
            [
             0.7777777777777778,
             "#fb9f3a"
            ],
            [
             0.8888888888888888,
             "#fdca26"
            ],
            [
             1,
             "#f0f921"
            ]
           ],
           "sequentialminus": [
            [
             0,
             "#0d0887"
            ],
            [
             0.1111111111111111,
             "#46039f"
            ],
            [
             0.2222222222222222,
             "#7201a8"
            ],
            [
             0.3333333333333333,
             "#9c179e"
            ],
            [
             0.4444444444444444,
             "#bd3786"
            ],
            [
             0.5555555555555556,
             "#d8576b"
            ],
            [
             0.6666666666666666,
             "#ed7953"
            ],
            [
             0.7777777777777778,
             "#fb9f3a"
            ],
            [
             0.8888888888888888,
             "#fdca26"
            ],
            [
             1,
             "#f0f921"
            ]
           ]
          },
          "colorway": [
           "#636efa",
           "#EF553B",
           "#00cc96",
           "#ab63fa",
           "#FFA15A",
           "#19d3f3",
           "#FF6692",
           "#B6E880",
           "#FF97FF",
           "#FECB52"
          ],
          "font": {
           "color": "#2a3f5f"
          },
          "geo": {
           "bgcolor": "white",
           "lakecolor": "white",
           "landcolor": "#E5ECF6",
           "showlakes": true,
           "showland": true,
           "subunitcolor": "white"
          },
          "hoverlabel": {
           "align": "left"
          },
          "hovermode": "closest",
          "mapbox": {
           "style": "light"
          },
          "paper_bgcolor": "white",
          "plot_bgcolor": "#E5ECF6",
          "polar": {
           "angularaxis": {
            "gridcolor": "white",
            "linecolor": "white",
            "ticks": ""
           },
           "bgcolor": "#E5ECF6",
           "radialaxis": {
            "gridcolor": "white",
            "linecolor": "white",
            "ticks": ""
           }
          },
          "scene": {
           "xaxis": {
            "backgroundcolor": "#E5ECF6",
            "gridcolor": "white",
            "gridwidth": 2,
            "linecolor": "white",
            "showbackground": true,
            "ticks": "",
            "zerolinecolor": "white"
           },
           "yaxis": {
            "backgroundcolor": "#E5ECF6",
            "gridcolor": "white",
            "gridwidth": 2,
            "linecolor": "white",
            "showbackground": true,
            "ticks": "",
            "zerolinecolor": "white"
           },
           "zaxis": {
            "backgroundcolor": "#E5ECF6",
            "gridcolor": "white",
            "gridwidth": 2,
            "linecolor": "white",
            "showbackground": true,
            "ticks": "",
            "zerolinecolor": "white"
           }
          },
          "shapedefaults": {
           "line": {
            "color": "#2a3f5f"
           }
          },
          "ternary": {
           "aaxis": {
            "gridcolor": "white",
            "linecolor": "white",
            "ticks": ""
           },
           "baxis": {
            "gridcolor": "white",
            "linecolor": "white",
            "ticks": ""
           },
           "bgcolor": "#E5ECF6",
           "caxis": {
            "gridcolor": "white",
            "linecolor": "white",
            "ticks": ""
           }
          },
          "title": {
           "x": 0.05
          },
          "xaxis": {
           "automargin": true,
           "gridcolor": "white",
           "linecolor": "white",
           "ticks": "",
           "title": {
            "standoff": 15
           },
           "zerolinecolor": "white",
           "zerolinewidth": 2
          },
          "yaxis": {
           "automargin": true,
           "gridcolor": "white",
           "linecolor": "white",
           "ticks": "",
           "title": {
            "standoff": 15
           },
           "zerolinecolor": "white",
           "zerolinewidth": 2
          }
         }
        },
        "title": {
         "text": "QB Hit by Formation vs. Season"
        },
        "xaxis": {
         "anchor": "y",
         "domain": [
          0,
          1
         ],
         "title": {
          "text": "Season"
         }
        },
        "yaxis": {
         "anchor": "x",
         "domain": [
          0,
          1
         ],
         "title": {
          "text": "QB Hit"
         }
        }
       }
      },
      "text/html": [
       "<div>                            <div id=\"77e9395e-2b4c-4c80-ae15-f9035edfa7f3\" class=\"plotly-graph-div\" style=\"height:525px; width:100%;\"></div>            <script type=\"text/javascript\">                require([\"plotly\"], function(Plotly) {                    window.PLOTLYENV=window.PLOTLYENV || {};                                    if (document.getElementById(\"77e9395e-2b4c-4c80-ae15-f9035edfa7f3\")) {                    Plotly.newPlot(                        \"77e9395e-2b4c-4c80-ae15-f9035edfa7f3\",                        [{\"hovertemplate\":\"\\u003cextra\\u003e\\u003c\\u002fextra\\u003e\",\"legendgroup\":\"\",\"line\":{\"color\":\"#636efa\",\"dash\":\"solid\"},\"marker\":{\"symbol\":\"circle\"},\"mode\":\"lines\",\"name\":\"\",\"orientation\":\"v\",\"showlegend\":false,\"xaxis\":\"x\",\"yaxis\":\"y\",\"type\":\"scatter\"},{\"mode\":\"lines\",\"name\":\"EMPTY\",\"x\":[2016,2017,2018,2019,2020,2021,2022],\"y\":[0.1103706806898117,0.14059829711914062,0.13283827900886536,0.13560666143894196,0.14476053416728973,0.14507237076759338,0.13652552664279938],\"type\":\"scatter\"},{\"mode\":\"lines\",\"name\":\"I_FORM\",\"x\":[2016,2017,2018,2019,2020,2021,2022],\"y\":[0.1419624239206314,0.14043354988098145,0.15951594710350037,0.14483627676963806,0.1621621549129486,0.16006600856781006,0.17158672213554382],\"type\":\"scatter\"},{\"mode\":\"lines\",\"name\":\"JUMBO\",\"x\":[2016,2017,2018,2019,2020,2021,2022],\"y\":[0.21276596188545227,0.046875,0.25,0.1090909093618393,0.11999999731779099,0.14516128599643707,0.1111111119389534],\"type\":\"scatter\"},{\"mode\":\"lines\",\"name\":\"PISTOL\",\"x\":[2016,2017,2018,2019,2020,2021,2022],\"y\":[0.11634349077939987,0.0904255285859108,0.17368420958518982,0.15466666221618652,0.10972568392753601,0.1073298454284668,0.150390625],\"type\":\"scatter\"},{\"mode\":\"lines\",\"name\":\"SHOTGUN\",\"x\":[2016,2017,2018,2019,2020,2021,2022],\"y\":[0.14692015945911407,0.14913657307624817,0.1491304636001587,0.14341580867767334,0.14733870327472687,0.14497672021389008,0.14990048110485077],\"type\":\"scatter\"},{\"mode\":\"lines\",\"name\":\"SINGLEBACK\",\"x\":[2016,2017,2018,2019,2020,2021,2022],\"y\":[0.1378144919872284,0.15690375864505768,0.1524324268102646,0.1621238887310028,0.14095449447631836,0.13274335861206055,0.1577560305595398],\"type\":\"scatter\"},{\"mode\":\"lines\",\"name\":\"WILDCAT\",\"x\":[2016,2017,2018,2019,2020,2021,2022],\"y\":[0.13333334028720856,0.1875,0.1111111119389534,0.1875,0.1875,0.21739129722118378,0.15789473056793213],\"type\":\"scatter\"}],                        {\"template\":{\"data\":{\"histogram2dcontour\":[{\"type\":\"histogram2dcontour\",\"colorbar\":{\"outlinewidth\":0,\"ticks\":\"\"},\"colorscale\":[[0.0,\"#0d0887\"],[0.1111111111111111,\"#46039f\"],[0.2222222222222222,\"#7201a8\"],[0.3333333333333333,\"#9c179e\"],[0.4444444444444444,\"#bd3786\"],[0.5555555555555556,\"#d8576b\"],[0.6666666666666666,\"#ed7953\"],[0.7777777777777778,\"#fb9f3a\"],[0.8888888888888888,\"#fdca26\"],[1.0,\"#f0f921\"]]}],\"choropleth\":[{\"type\":\"choropleth\",\"colorbar\":{\"outlinewidth\":0,\"ticks\":\"\"}}],\"histogram2d\":[{\"type\":\"histogram2d\",\"colorbar\":{\"outlinewidth\":0,\"ticks\":\"\"},\"colorscale\":[[0.0,\"#0d0887\"],[0.1111111111111111,\"#46039f\"],[0.2222222222222222,\"#7201a8\"],[0.3333333333333333,\"#9c179e\"],[0.4444444444444444,\"#bd3786\"],[0.5555555555555556,\"#d8576b\"],[0.6666666666666666,\"#ed7953\"],[0.7777777777777778,\"#fb9f3a\"],[0.8888888888888888,\"#fdca26\"],[1.0,\"#f0f921\"]]}],\"heatmap\":[{\"type\":\"heatmap\",\"colorbar\":{\"outlinewidth\":0,\"ticks\":\"\"},\"colorscale\":[[0.0,\"#0d0887\"],[0.1111111111111111,\"#46039f\"],[0.2222222222222222,\"#7201a8\"],[0.3333333333333333,\"#9c179e\"],[0.4444444444444444,\"#bd3786\"],[0.5555555555555556,\"#d8576b\"],[0.6666666666666666,\"#ed7953\"],[0.7777777777777778,\"#fb9f3a\"],[0.8888888888888888,\"#fdca26\"],[1.0,\"#f0f921\"]]}],\"heatmapgl\":[{\"type\":\"heatmapgl\",\"colorbar\":{\"outlinewidth\":0,\"ticks\":\"\"},\"colorscale\":[[0.0,\"#0d0887\"],[0.1111111111111111,\"#46039f\"],[0.2222222222222222,\"#7201a8\"],[0.3333333333333333,\"#9c179e\"],[0.4444444444444444,\"#bd3786\"],[0.5555555555555556,\"#d8576b\"],[0.6666666666666666,\"#ed7953\"],[0.7777777777777778,\"#fb9f3a\"],[0.8888888888888888,\"#fdca26\"],[1.0,\"#f0f921\"]]}],\"contourcarpet\":[{\"type\":\"contourcarpet\",\"colorbar\":{\"outlinewidth\":0,\"ticks\":\"\"}}],\"contour\":[{\"type\":\"contour\",\"colorbar\":{\"outlinewidth\":0,\"ticks\":\"\"},\"colorscale\":[[0.0,\"#0d0887\"],[0.1111111111111111,\"#46039f\"],[0.2222222222222222,\"#7201a8\"],[0.3333333333333333,\"#9c179e\"],[0.4444444444444444,\"#bd3786\"],[0.5555555555555556,\"#d8576b\"],[0.6666666666666666,\"#ed7953\"],[0.7777777777777778,\"#fb9f3a\"],[0.8888888888888888,\"#fdca26\"],[1.0,\"#f0f921\"]]}],\"surface\":[{\"type\":\"surface\",\"colorbar\":{\"outlinewidth\":0,\"ticks\":\"\"},\"colorscale\":[[0.0,\"#0d0887\"],[0.1111111111111111,\"#46039f\"],[0.2222222222222222,\"#7201a8\"],[0.3333333333333333,\"#9c179e\"],[0.4444444444444444,\"#bd3786\"],[0.5555555555555556,\"#d8576b\"],[0.6666666666666666,\"#ed7953\"],[0.7777777777777778,\"#fb9f3a\"],[0.8888888888888888,\"#fdca26\"],[1.0,\"#f0f921\"]]}],\"mesh3d\":[{\"type\":\"mesh3d\",\"colorbar\":{\"outlinewidth\":0,\"ticks\":\"\"}}],\"scatter\":[{\"fillpattern\":{\"fillmode\":\"overlay\",\"size\":10,\"solidity\":0.2},\"type\":\"scatter\"}],\"parcoords\":[{\"type\":\"parcoords\",\"line\":{\"colorbar\":{\"outlinewidth\":0,\"ticks\":\"\"}}}],\"scatterpolargl\":[{\"type\":\"scatterpolargl\",\"marker\":{\"colorbar\":{\"outlinewidth\":0,\"ticks\":\"\"}}}],\"bar\":[{\"error_x\":{\"color\":\"#2a3f5f\"},\"error_y\":{\"color\":\"#2a3f5f\"},\"marker\":{\"line\":{\"color\":\"#E5ECF6\",\"width\":0.5},\"pattern\":{\"fillmode\":\"overlay\",\"size\":10,\"solidity\":0.2}},\"type\":\"bar\"}],\"scattergeo\":[{\"type\":\"scattergeo\",\"marker\":{\"colorbar\":{\"outlinewidth\":0,\"ticks\":\"\"}}}],\"scatterpolar\":[{\"type\":\"scatterpolar\",\"marker\":{\"colorbar\":{\"outlinewidth\":0,\"ticks\":\"\"}}}],\"histogram\":[{\"marker\":{\"pattern\":{\"fillmode\":\"overlay\",\"size\":10,\"solidity\":0.2}},\"type\":\"histogram\"}],\"scattergl\":[{\"type\":\"scattergl\",\"marker\":{\"colorbar\":{\"outlinewidth\":0,\"ticks\":\"\"}}}],\"scatter3d\":[{\"type\":\"scatter3d\",\"line\":{\"colorbar\":{\"outlinewidth\":0,\"ticks\":\"\"}},\"marker\":{\"colorbar\":{\"outlinewidth\":0,\"ticks\":\"\"}}}],\"scattermapbox\":[{\"type\":\"scattermapbox\",\"marker\":{\"colorbar\":{\"outlinewidth\":0,\"ticks\":\"\"}}}],\"scatterternary\":[{\"type\":\"scatterternary\",\"marker\":{\"colorbar\":{\"outlinewidth\":0,\"ticks\":\"\"}}}],\"scattercarpet\":[{\"type\":\"scattercarpet\",\"marker\":{\"colorbar\":{\"outlinewidth\":0,\"ticks\":\"\"}}}],\"carpet\":[{\"aaxis\":{\"endlinecolor\":\"#2a3f5f\",\"gridcolor\":\"white\",\"linecolor\":\"white\",\"minorgridcolor\":\"white\",\"startlinecolor\":\"#2a3f5f\"},\"baxis\":{\"endlinecolor\":\"#2a3f5f\",\"gridcolor\":\"white\",\"linecolor\":\"white\",\"minorgridcolor\":\"white\",\"startlinecolor\":\"#2a3f5f\"},\"type\":\"carpet\"}],\"table\":[{\"cells\":{\"fill\":{\"color\":\"#EBF0F8\"},\"line\":{\"color\":\"white\"}},\"header\":{\"fill\":{\"color\":\"#C8D4E3\"},\"line\":{\"color\":\"white\"}},\"type\":\"table\"}],\"barpolar\":[{\"marker\":{\"line\":{\"color\":\"#E5ECF6\",\"width\":0.5},\"pattern\":{\"fillmode\":\"overlay\",\"size\":10,\"solidity\":0.2}},\"type\":\"barpolar\"}],\"pie\":[{\"automargin\":true,\"type\":\"pie\"}]},\"layout\":{\"autotypenumbers\":\"strict\",\"colorway\":[\"#636efa\",\"#EF553B\",\"#00cc96\",\"#ab63fa\",\"#FFA15A\",\"#19d3f3\",\"#FF6692\",\"#B6E880\",\"#FF97FF\",\"#FECB52\"],\"font\":{\"color\":\"#2a3f5f\"},\"hovermode\":\"closest\",\"hoverlabel\":{\"align\":\"left\"},\"paper_bgcolor\":\"white\",\"plot_bgcolor\":\"#E5ECF6\",\"polar\":{\"bgcolor\":\"#E5ECF6\",\"angularaxis\":{\"gridcolor\":\"white\",\"linecolor\":\"white\",\"ticks\":\"\"},\"radialaxis\":{\"gridcolor\":\"white\",\"linecolor\":\"white\",\"ticks\":\"\"}},\"ternary\":{\"bgcolor\":\"#E5ECF6\",\"aaxis\":{\"gridcolor\":\"white\",\"linecolor\":\"white\",\"ticks\":\"\"},\"baxis\":{\"gridcolor\":\"white\",\"linecolor\":\"white\",\"ticks\":\"\"},\"caxis\":{\"gridcolor\":\"white\",\"linecolor\":\"white\",\"ticks\":\"\"}},\"coloraxis\":{\"colorbar\":{\"outlinewidth\":0,\"ticks\":\"\"}},\"colorscale\":{\"sequential\":[[0.0,\"#0d0887\"],[0.1111111111111111,\"#46039f\"],[0.2222222222222222,\"#7201a8\"],[0.3333333333333333,\"#9c179e\"],[0.4444444444444444,\"#bd3786\"],[0.5555555555555556,\"#d8576b\"],[0.6666666666666666,\"#ed7953\"],[0.7777777777777778,\"#fb9f3a\"],[0.8888888888888888,\"#fdca26\"],[1.0,\"#f0f921\"]],\"sequentialminus\":[[0.0,\"#0d0887\"],[0.1111111111111111,\"#46039f\"],[0.2222222222222222,\"#7201a8\"],[0.3333333333333333,\"#9c179e\"],[0.4444444444444444,\"#bd3786\"],[0.5555555555555556,\"#d8576b\"],[0.6666666666666666,\"#ed7953\"],[0.7777777777777778,\"#fb9f3a\"],[0.8888888888888888,\"#fdca26\"],[1.0,\"#f0f921\"]],\"diverging\":[[0,\"#8e0152\"],[0.1,\"#c51b7d\"],[0.2,\"#de77ae\"],[0.3,\"#f1b6da\"],[0.4,\"#fde0ef\"],[0.5,\"#f7f7f7\"],[0.6,\"#e6f5d0\"],[0.7,\"#b8e186\"],[0.8,\"#7fbc41\"],[0.9,\"#4d9221\"],[1,\"#276419\"]]},\"xaxis\":{\"gridcolor\":\"white\",\"linecolor\":\"white\",\"ticks\":\"\",\"title\":{\"standoff\":15},\"zerolinecolor\":\"white\",\"automargin\":true,\"zerolinewidth\":2},\"yaxis\":{\"gridcolor\":\"white\",\"linecolor\":\"white\",\"ticks\":\"\",\"title\":{\"standoff\":15},\"zerolinecolor\":\"white\",\"automargin\":true,\"zerolinewidth\":2},\"scene\":{\"xaxis\":{\"backgroundcolor\":\"#E5ECF6\",\"gridcolor\":\"white\",\"linecolor\":\"white\",\"showbackground\":true,\"ticks\":\"\",\"zerolinecolor\":\"white\",\"gridwidth\":2},\"yaxis\":{\"backgroundcolor\":\"#E5ECF6\",\"gridcolor\":\"white\",\"linecolor\":\"white\",\"showbackground\":true,\"ticks\":\"\",\"zerolinecolor\":\"white\",\"gridwidth\":2},\"zaxis\":{\"backgroundcolor\":\"#E5ECF6\",\"gridcolor\":\"white\",\"linecolor\":\"white\",\"showbackground\":true,\"ticks\":\"\",\"zerolinecolor\":\"white\",\"gridwidth\":2}},\"shapedefaults\":{\"line\":{\"color\":\"#2a3f5f\"}},\"annotationdefaults\":{\"arrowcolor\":\"#2a3f5f\",\"arrowhead\":0,\"arrowwidth\":1},\"geo\":{\"bgcolor\":\"white\",\"landcolor\":\"#E5ECF6\",\"subunitcolor\":\"white\",\"showland\":true,\"showlakes\":true,\"lakecolor\":\"white\"},\"title\":{\"x\":0.05},\"mapbox\":{\"style\":\"light\"}}},\"xaxis\":{\"anchor\":\"y\",\"domain\":[0.0,1.0],\"title\":{\"text\":\"Season\"}},\"yaxis\":{\"anchor\":\"x\",\"domain\":[0.0,1.0],\"title\":{\"text\":\"QB Hit\"}},\"legend\":{\"tracegroupgap\":0,\"title\":{\"text\":\"Formation Type\"}},\"margin\":{\"t\":60},\"title\":{\"text\":\"QB Hit by Formation vs. Season\"}},                        {\"responsive\": true}                    ).then(function(){\n",
       "                            \n",
       "var gd = document.getElementById('77e9395e-2b4c-4c80-ae15-f9035edfa7f3');\n",
       "var x = new MutationObserver(function (mutations, observer) {{\n",
       "        var display = window.getComputedStyle(gd).display;\n",
       "        if (!display || display === 'none') {{\n",
       "            console.log([gd, 'removed!']);\n",
       "            Plotly.purge(gd);\n",
       "            observer.disconnect();\n",
       "        }}\n",
       "}});\n",
       "\n",
       "// Listen for the removal of the full notebook cells\n",
       "var notebookContainer = gd.closest('#notebook-container');\n",
       "if (notebookContainer) {{\n",
       "    x.observe(notebookContainer, {childList: true});\n",
       "}}\n",
       "\n",
       "// Listen for the clearing of the current output cell\n",
       "var outputEl = gd.closest('.output');\n",
       "if (outputEl) {{\n",
       "    x.observe(outputEl, {childList: true});\n",
       "}}\n",
       "\n",
       "                        })                };                });            </script>        </div>"
      ]
     },
     "metadata": {},
     "output_type": "display_data"
    }
   ],
   "source": [
    "plot_formation_trends(df_temp, \"qb_hit_mean\", \"QB Hit\")"
   ]
  },
  {
   "cell_type": "code",
   "execution_count": 49,
   "id": "59324079",
   "metadata": {},
   "outputs": [
    {
     "data": {
      "application/vnd.plotly.v1+json": {
       "config": {
        "plotlyServerURL": "https://plot.ly"
       },
       "data": [
        {
         "hovertemplate": "<extra></extra>",
         "legendgroup": "",
         "line": {
          "color": "#636efa",
          "dash": "solid"
         },
         "marker": {
          "symbol": "circle"
         },
         "mode": "lines",
         "name": "",
         "orientation": "v",
         "showlegend": false,
         "type": "scatter",
         "xaxis": "x",
         "yaxis": "y"
        },
        {
         "mode": "lines",
         "name": "EMPTY",
         "type": "scatter",
         "x": [
          2016,
          2017,
          2018,
          2019,
          2020,
          2021,
          2022
         ],
         "y": [
          2401,
          2340,
          2424,
          2522,
          2777,
          2902,
          2527
         ]
        },
        {
         "mode": "lines",
         "name": "I_FORM",
         "type": "scatter",
         "x": [
          2016,
          2017,
          2018,
          2019,
          2020,
          2021,
          2022
         ],
         "y": [
          958,
          1061,
          909,
          794,
          777,
          606,
          542
         ]
        },
        {
         "mode": "lines",
         "name": "JUMBO",
         "type": "scatter",
         "x": [
          2016,
          2017,
          2018,
          2019,
          2020,
          2021,
          2022
         ],
         "y": [
          47,
          64,
          52,
          55,
          75,
          62,
          45
         ]
        },
        {
         "mode": "lines",
         "name": "PISTOL",
         "type": "scatter",
         "x": [
          2016,
          2017,
          2018,
          2019,
          2020,
          2021,
          2022
         ],
         "y": [
          361,
          188,
          190,
          375,
          401,
          382,
          512
         ]
        },
        {
         "mode": "lines",
         "name": "SHOTGUN",
         "type": "scatter",
         "x": [
          2016,
          2017,
          2018,
          2019,
          2020,
          2021,
          2022
         ],
         "y": [
          12939,
          12103,
          12593,
          12530,
          12400,
          12671,
          13062
         ]
        },
        {
         "mode": "lines",
         "name": "SINGLEBACK",
         "type": "scatter",
         "x": [
          2016,
          2017,
          2018,
          2019,
          2020,
          2021,
          2022
         ],
         "y": [
          2663,
          2868,
          2775,
          2825,
          2703,
          2712,
          2656
         ]
        },
        {
         "mode": "lines",
         "name": "WILDCAT",
         "type": "scatter",
         "x": [
          2016,
          2017,
          2018,
          2019,
          2020,
          2021,
          2022
         ],
         "y": [
          30,
          48,
          9,
          16,
          16,
          23,
          38
         ]
        }
       ],
       "layout": {
        "legend": {
         "title": {
          "text": "Formation Type"
         },
         "tracegroupgap": 0
        },
        "margin": {
         "t": 60
        },
        "template": {
         "data": {
          "bar": [
           {
            "error_x": {
             "color": "#2a3f5f"
            },
            "error_y": {
             "color": "#2a3f5f"
            },
            "marker": {
             "line": {
              "color": "#E5ECF6",
              "width": 0.5
             },
             "pattern": {
              "fillmode": "overlay",
              "size": 10,
              "solidity": 0.2
             }
            },
            "type": "bar"
           }
          ],
          "barpolar": [
           {
            "marker": {
             "line": {
              "color": "#E5ECF6",
              "width": 0.5
             },
             "pattern": {
              "fillmode": "overlay",
              "size": 10,
              "solidity": 0.2
             }
            },
            "type": "barpolar"
           }
          ],
          "carpet": [
           {
            "aaxis": {
             "endlinecolor": "#2a3f5f",
             "gridcolor": "white",
             "linecolor": "white",
             "minorgridcolor": "white",
             "startlinecolor": "#2a3f5f"
            },
            "baxis": {
             "endlinecolor": "#2a3f5f",
             "gridcolor": "white",
             "linecolor": "white",
             "minorgridcolor": "white",
             "startlinecolor": "#2a3f5f"
            },
            "type": "carpet"
           }
          ],
          "choropleth": [
           {
            "colorbar": {
             "outlinewidth": 0,
             "ticks": ""
            },
            "type": "choropleth"
           }
          ],
          "contour": [
           {
            "colorbar": {
             "outlinewidth": 0,
             "ticks": ""
            },
            "colorscale": [
             [
              0,
              "#0d0887"
             ],
             [
              0.1111111111111111,
              "#46039f"
             ],
             [
              0.2222222222222222,
              "#7201a8"
             ],
             [
              0.3333333333333333,
              "#9c179e"
             ],
             [
              0.4444444444444444,
              "#bd3786"
             ],
             [
              0.5555555555555556,
              "#d8576b"
             ],
             [
              0.6666666666666666,
              "#ed7953"
             ],
             [
              0.7777777777777778,
              "#fb9f3a"
             ],
             [
              0.8888888888888888,
              "#fdca26"
             ],
             [
              1,
              "#f0f921"
             ]
            ],
            "type": "contour"
           }
          ],
          "contourcarpet": [
           {
            "colorbar": {
             "outlinewidth": 0,
             "ticks": ""
            },
            "type": "contourcarpet"
           }
          ],
          "heatmap": [
           {
            "colorbar": {
             "outlinewidth": 0,
             "ticks": ""
            },
            "colorscale": [
             [
              0,
              "#0d0887"
             ],
             [
              0.1111111111111111,
              "#46039f"
             ],
             [
              0.2222222222222222,
              "#7201a8"
             ],
             [
              0.3333333333333333,
              "#9c179e"
             ],
             [
              0.4444444444444444,
              "#bd3786"
             ],
             [
              0.5555555555555556,
              "#d8576b"
             ],
             [
              0.6666666666666666,
              "#ed7953"
             ],
             [
              0.7777777777777778,
              "#fb9f3a"
             ],
             [
              0.8888888888888888,
              "#fdca26"
             ],
             [
              1,
              "#f0f921"
             ]
            ],
            "type": "heatmap"
           }
          ],
          "heatmapgl": [
           {
            "colorbar": {
             "outlinewidth": 0,
             "ticks": ""
            },
            "colorscale": [
             [
              0,
              "#0d0887"
             ],
             [
              0.1111111111111111,
              "#46039f"
             ],
             [
              0.2222222222222222,
              "#7201a8"
             ],
             [
              0.3333333333333333,
              "#9c179e"
             ],
             [
              0.4444444444444444,
              "#bd3786"
             ],
             [
              0.5555555555555556,
              "#d8576b"
             ],
             [
              0.6666666666666666,
              "#ed7953"
             ],
             [
              0.7777777777777778,
              "#fb9f3a"
             ],
             [
              0.8888888888888888,
              "#fdca26"
             ],
             [
              1,
              "#f0f921"
             ]
            ],
            "type": "heatmapgl"
           }
          ],
          "histogram": [
           {
            "marker": {
             "pattern": {
              "fillmode": "overlay",
              "size": 10,
              "solidity": 0.2
             }
            },
            "type": "histogram"
           }
          ],
          "histogram2d": [
           {
            "colorbar": {
             "outlinewidth": 0,
             "ticks": ""
            },
            "colorscale": [
             [
              0,
              "#0d0887"
             ],
             [
              0.1111111111111111,
              "#46039f"
             ],
             [
              0.2222222222222222,
              "#7201a8"
             ],
             [
              0.3333333333333333,
              "#9c179e"
             ],
             [
              0.4444444444444444,
              "#bd3786"
             ],
             [
              0.5555555555555556,
              "#d8576b"
             ],
             [
              0.6666666666666666,
              "#ed7953"
             ],
             [
              0.7777777777777778,
              "#fb9f3a"
             ],
             [
              0.8888888888888888,
              "#fdca26"
             ],
             [
              1,
              "#f0f921"
             ]
            ],
            "type": "histogram2d"
           }
          ],
          "histogram2dcontour": [
           {
            "colorbar": {
             "outlinewidth": 0,
             "ticks": ""
            },
            "colorscale": [
             [
              0,
              "#0d0887"
             ],
             [
              0.1111111111111111,
              "#46039f"
             ],
             [
              0.2222222222222222,
              "#7201a8"
             ],
             [
              0.3333333333333333,
              "#9c179e"
             ],
             [
              0.4444444444444444,
              "#bd3786"
             ],
             [
              0.5555555555555556,
              "#d8576b"
             ],
             [
              0.6666666666666666,
              "#ed7953"
             ],
             [
              0.7777777777777778,
              "#fb9f3a"
             ],
             [
              0.8888888888888888,
              "#fdca26"
             ],
             [
              1,
              "#f0f921"
             ]
            ],
            "type": "histogram2dcontour"
           }
          ],
          "mesh3d": [
           {
            "colorbar": {
             "outlinewidth": 0,
             "ticks": ""
            },
            "type": "mesh3d"
           }
          ],
          "parcoords": [
           {
            "line": {
             "colorbar": {
              "outlinewidth": 0,
              "ticks": ""
             }
            },
            "type": "parcoords"
           }
          ],
          "pie": [
           {
            "automargin": true,
            "type": "pie"
           }
          ],
          "scatter": [
           {
            "fillpattern": {
             "fillmode": "overlay",
             "size": 10,
             "solidity": 0.2
            },
            "type": "scatter"
           }
          ],
          "scatter3d": [
           {
            "line": {
             "colorbar": {
              "outlinewidth": 0,
              "ticks": ""
             }
            },
            "marker": {
             "colorbar": {
              "outlinewidth": 0,
              "ticks": ""
             }
            },
            "type": "scatter3d"
           }
          ],
          "scattercarpet": [
           {
            "marker": {
             "colorbar": {
              "outlinewidth": 0,
              "ticks": ""
             }
            },
            "type": "scattercarpet"
           }
          ],
          "scattergeo": [
           {
            "marker": {
             "colorbar": {
              "outlinewidth": 0,
              "ticks": ""
             }
            },
            "type": "scattergeo"
           }
          ],
          "scattergl": [
           {
            "marker": {
             "colorbar": {
              "outlinewidth": 0,
              "ticks": ""
             }
            },
            "type": "scattergl"
           }
          ],
          "scattermapbox": [
           {
            "marker": {
             "colorbar": {
              "outlinewidth": 0,
              "ticks": ""
             }
            },
            "type": "scattermapbox"
           }
          ],
          "scatterpolar": [
           {
            "marker": {
             "colorbar": {
              "outlinewidth": 0,
              "ticks": ""
             }
            },
            "type": "scatterpolar"
           }
          ],
          "scatterpolargl": [
           {
            "marker": {
             "colorbar": {
              "outlinewidth": 0,
              "ticks": ""
             }
            },
            "type": "scatterpolargl"
           }
          ],
          "scatterternary": [
           {
            "marker": {
             "colorbar": {
              "outlinewidth": 0,
              "ticks": ""
             }
            },
            "type": "scatterternary"
           }
          ],
          "surface": [
           {
            "colorbar": {
             "outlinewidth": 0,
             "ticks": ""
            },
            "colorscale": [
             [
              0,
              "#0d0887"
             ],
             [
              0.1111111111111111,
              "#46039f"
             ],
             [
              0.2222222222222222,
              "#7201a8"
             ],
             [
              0.3333333333333333,
              "#9c179e"
             ],
             [
              0.4444444444444444,
              "#bd3786"
             ],
             [
              0.5555555555555556,
              "#d8576b"
             ],
             [
              0.6666666666666666,
              "#ed7953"
             ],
             [
              0.7777777777777778,
              "#fb9f3a"
             ],
             [
              0.8888888888888888,
              "#fdca26"
             ],
             [
              1,
              "#f0f921"
             ]
            ],
            "type": "surface"
           }
          ],
          "table": [
           {
            "cells": {
             "fill": {
              "color": "#EBF0F8"
             },
             "line": {
              "color": "white"
             }
            },
            "header": {
             "fill": {
              "color": "#C8D4E3"
             },
             "line": {
              "color": "white"
             }
            },
            "type": "table"
           }
          ]
         },
         "layout": {
          "annotationdefaults": {
           "arrowcolor": "#2a3f5f",
           "arrowhead": 0,
           "arrowwidth": 1
          },
          "autotypenumbers": "strict",
          "coloraxis": {
           "colorbar": {
            "outlinewidth": 0,
            "ticks": ""
           }
          },
          "colorscale": {
           "diverging": [
            [
             0,
             "#8e0152"
            ],
            [
             0.1,
             "#c51b7d"
            ],
            [
             0.2,
             "#de77ae"
            ],
            [
             0.3,
             "#f1b6da"
            ],
            [
             0.4,
             "#fde0ef"
            ],
            [
             0.5,
             "#f7f7f7"
            ],
            [
             0.6,
             "#e6f5d0"
            ],
            [
             0.7,
             "#b8e186"
            ],
            [
             0.8,
             "#7fbc41"
            ],
            [
             0.9,
             "#4d9221"
            ],
            [
             1,
             "#276419"
            ]
           ],
           "sequential": [
            [
             0,
             "#0d0887"
            ],
            [
             0.1111111111111111,
             "#46039f"
            ],
            [
             0.2222222222222222,
             "#7201a8"
            ],
            [
             0.3333333333333333,
             "#9c179e"
            ],
            [
             0.4444444444444444,
             "#bd3786"
            ],
            [
             0.5555555555555556,
             "#d8576b"
            ],
            [
             0.6666666666666666,
             "#ed7953"
            ],
            [
             0.7777777777777778,
             "#fb9f3a"
            ],
            [
             0.8888888888888888,
             "#fdca26"
            ],
            [
             1,
             "#f0f921"
            ]
           ],
           "sequentialminus": [
            [
             0,
             "#0d0887"
            ],
            [
             0.1111111111111111,
             "#46039f"
            ],
            [
             0.2222222222222222,
             "#7201a8"
            ],
            [
             0.3333333333333333,
             "#9c179e"
            ],
            [
             0.4444444444444444,
             "#bd3786"
            ],
            [
             0.5555555555555556,
             "#d8576b"
            ],
            [
             0.6666666666666666,
             "#ed7953"
            ],
            [
             0.7777777777777778,
             "#fb9f3a"
            ],
            [
             0.8888888888888888,
             "#fdca26"
            ],
            [
             1,
             "#f0f921"
            ]
           ]
          },
          "colorway": [
           "#636efa",
           "#EF553B",
           "#00cc96",
           "#ab63fa",
           "#FFA15A",
           "#19d3f3",
           "#FF6692",
           "#B6E880",
           "#FF97FF",
           "#FECB52"
          ],
          "font": {
           "color": "#2a3f5f"
          },
          "geo": {
           "bgcolor": "white",
           "lakecolor": "white",
           "landcolor": "#E5ECF6",
           "showlakes": true,
           "showland": true,
           "subunitcolor": "white"
          },
          "hoverlabel": {
           "align": "left"
          },
          "hovermode": "closest",
          "mapbox": {
           "style": "light"
          },
          "paper_bgcolor": "white",
          "plot_bgcolor": "#E5ECF6",
          "polar": {
           "angularaxis": {
            "gridcolor": "white",
            "linecolor": "white",
            "ticks": ""
           },
           "bgcolor": "#E5ECF6",
           "radialaxis": {
            "gridcolor": "white",
            "linecolor": "white",
            "ticks": ""
           }
          },
          "scene": {
           "xaxis": {
            "backgroundcolor": "#E5ECF6",
            "gridcolor": "white",
            "gridwidth": 2,
            "linecolor": "white",
            "showbackground": true,
            "ticks": "",
            "zerolinecolor": "white"
           },
           "yaxis": {
            "backgroundcolor": "#E5ECF6",
            "gridcolor": "white",
            "gridwidth": 2,
            "linecolor": "white",
            "showbackground": true,
            "ticks": "",
            "zerolinecolor": "white"
           },
           "zaxis": {
            "backgroundcolor": "#E5ECF6",
            "gridcolor": "white",
            "gridwidth": 2,
            "linecolor": "white",
            "showbackground": true,
            "ticks": "",
            "zerolinecolor": "white"
           }
          },
          "shapedefaults": {
           "line": {
            "color": "#2a3f5f"
           }
          },
          "ternary": {
           "aaxis": {
            "gridcolor": "white",
            "linecolor": "white",
            "ticks": ""
           },
           "baxis": {
            "gridcolor": "white",
            "linecolor": "white",
            "ticks": ""
           },
           "bgcolor": "#E5ECF6",
           "caxis": {
            "gridcolor": "white",
            "linecolor": "white",
            "ticks": ""
           }
          },
          "title": {
           "x": 0.05
          },
          "xaxis": {
           "automargin": true,
           "gridcolor": "white",
           "linecolor": "white",
           "ticks": "",
           "title": {
            "standoff": 15
           },
           "zerolinecolor": "white",
           "zerolinewidth": 2
          },
          "yaxis": {
           "automargin": true,
           "gridcolor": "white",
           "linecolor": "white",
           "ticks": "",
           "title": {
            "standoff": 15
           },
           "zerolinecolor": "white",
           "zerolinewidth": 2
          }
         }
        },
        "title": {
         "text": "Plays by Formation vs. Season"
        },
        "xaxis": {
         "anchor": "y",
         "domain": [
          0,
          1
         ],
         "title": {
          "text": "Season"
         }
        },
        "yaxis": {
         "anchor": "x",
         "domain": [
          0,
          1
         ],
         "title": {
          "text": "Plays"
         }
        }
       }
      },
      "text/html": [
       "<div>                            <div id=\"cd2dfe0f-0905-44ac-9164-106daac2da4f\" class=\"plotly-graph-div\" style=\"height:525px; width:100%;\"></div>            <script type=\"text/javascript\">                require([\"plotly\"], function(Plotly) {                    window.PLOTLYENV=window.PLOTLYENV || {};                                    if (document.getElementById(\"cd2dfe0f-0905-44ac-9164-106daac2da4f\")) {                    Plotly.newPlot(                        \"cd2dfe0f-0905-44ac-9164-106daac2da4f\",                        [{\"hovertemplate\":\"\\u003cextra\\u003e\\u003c\\u002fextra\\u003e\",\"legendgroup\":\"\",\"line\":{\"color\":\"#636efa\",\"dash\":\"solid\"},\"marker\":{\"symbol\":\"circle\"},\"mode\":\"lines\",\"name\":\"\",\"orientation\":\"v\",\"showlegend\":false,\"xaxis\":\"x\",\"yaxis\":\"y\",\"type\":\"scatter\"},{\"mode\":\"lines\",\"name\":\"EMPTY\",\"x\":[2016,2017,2018,2019,2020,2021,2022],\"y\":[2401,2340,2424,2522,2777,2902,2527],\"type\":\"scatter\"},{\"mode\":\"lines\",\"name\":\"I_FORM\",\"x\":[2016,2017,2018,2019,2020,2021,2022],\"y\":[958,1061,909,794,777,606,542],\"type\":\"scatter\"},{\"mode\":\"lines\",\"name\":\"JUMBO\",\"x\":[2016,2017,2018,2019,2020,2021,2022],\"y\":[47,64,52,55,75,62,45],\"type\":\"scatter\"},{\"mode\":\"lines\",\"name\":\"PISTOL\",\"x\":[2016,2017,2018,2019,2020,2021,2022],\"y\":[361,188,190,375,401,382,512],\"type\":\"scatter\"},{\"mode\":\"lines\",\"name\":\"SHOTGUN\",\"x\":[2016,2017,2018,2019,2020,2021,2022],\"y\":[12939,12103,12593,12530,12400,12671,13062],\"type\":\"scatter\"},{\"mode\":\"lines\",\"name\":\"SINGLEBACK\",\"x\":[2016,2017,2018,2019,2020,2021,2022],\"y\":[2663,2868,2775,2825,2703,2712,2656],\"type\":\"scatter\"},{\"mode\":\"lines\",\"name\":\"WILDCAT\",\"x\":[2016,2017,2018,2019,2020,2021,2022],\"y\":[30,48,9,16,16,23,38],\"type\":\"scatter\"}],                        {\"template\":{\"data\":{\"histogram2dcontour\":[{\"type\":\"histogram2dcontour\",\"colorbar\":{\"outlinewidth\":0,\"ticks\":\"\"},\"colorscale\":[[0.0,\"#0d0887\"],[0.1111111111111111,\"#46039f\"],[0.2222222222222222,\"#7201a8\"],[0.3333333333333333,\"#9c179e\"],[0.4444444444444444,\"#bd3786\"],[0.5555555555555556,\"#d8576b\"],[0.6666666666666666,\"#ed7953\"],[0.7777777777777778,\"#fb9f3a\"],[0.8888888888888888,\"#fdca26\"],[1.0,\"#f0f921\"]]}],\"choropleth\":[{\"type\":\"choropleth\",\"colorbar\":{\"outlinewidth\":0,\"ticks\":\"\"}}],\"histogram2d\":[{\"type\":\"histogram2d\",\"colorbar\":{\"outlinewidth\":0,\"ticks\":\"\"},\"colorscale\":[[0.0,\"#0d0887\"],[0.1111111111111111,\"#46039f\"],[0.2222222222222222,\"#7201a8\"],[0.3333333333333333,\"#9c179e\"],[0.4444444444444444,\"#bd3786\"],[0.5555555555555556,\"#d8576b\"],[0.6666666666666666,\"#ed7953\"],[0.7777777777777778,\"#fb9f3a\"],[0.8888888888888888,\"#fdca26\"],[1.0,\"#f0f921\"]]}],\"heatmap\":[{\"type\":\"heatmap\",\"colorbar\":{\"outlinewidth\":0,\"ticks\":\"\"},\"colorscale\":[[0.0,\"#0d0887\"],[0.1111111111111111,\"#46039f\"],[0.2222222222222222,\"#7201a8\"],[0.3333333333333333,\"#9c179e\"],[0.4444444444444444,\"#bd3786\"],[0.5555555555555556,\"#d8576b\"],[0.6666666666666666,\"#ed7953\"],[0.7777777777777778,\"#fb9f3a\"],[0.8888888888888888,\"#fdca26\"],[1.0,\"#f0f921\"]]}],\"heatmapgl\":[{\"type\":\"heatmapgl\",\"colorbar\":{\"outlinewidth\":0,\"ticks\":\"\"},\"colorscale\":[[0.0,\"#0d0887\"],[0.1111111111111111,\"#46039f\"],[0.2222222222222222,\"#7201a8\"],[0.3333333333333333,\"#9c179e\"],[0.4444444444444444,\"#bd3786\"],[0.5555555555555556,\"#d8576b\"],[0.6666666666666666,\"#ed7953\"],[0.7777777777777778,\"#fb9f3a\"],[0.8888888888888888,\"#fdca26\"],[1.0,\"#f0f921\"]]}],\"contourcarpet\":[{\"type\":\"contourcarpet\",\"colorbar\":{\"outlinewidth\":0,\"ticks\":\"\"}}],\"contour\":[{\"type\":\"contour\",\"colorbar\":{\"outlinewidth\":0,\"ticks\":\"\"},\"colorscale\":[[0.0,\"#0d0887\"],[0.1111111111111111,\"#46039f\"],[0.2222222222222222,\"#7201a8\"],[0.3333333333333333,\"#9c179e\"],[0.4444444444444444,\"#bd3786\"],[0.5555555555555556,\"#d8576b\"],[0.6666666666666666,\"#ed7953\"],[0.7777777777777778,\"#fb9f3a\"],[0.8888888888888888,\"#fdca26\"],[1.0,\"#f0f921\"]]}],\"surface\":[{\"type\":\"surface\",\"colorbar\":{\"outlinewidth\":0,\"ticks\":\"\"},\"colorscale\":[[0.0,\"#0d0887\"],[0.1111111111111111,\"#46039f\"],[0.2222222222222222,\"#7201a8\"],[0.3333333333333333,\"#9c179e\"],[0.4444444444444444,\"#bd3786\"],[0.5555555555555556,\"#d8576b\"],[0.6666666666666666,\"#ed7953\"],[0.7777777777777778,\"#fb9f3a\"],[0.8888888888888888,\"#fdca26\"],[1.0,\"#f0f921\"]]}],\"mesh3d\":[{\"type\":\"mesh3d\",\"colorbar\":{\"outlinewidth\":0,\"ticks\":\"\"}}],\"scatter\":[{\"fillpattern\":{\"fillmode\":\"overlay\",\"size\":10,\"solidity\":0.2},\"type\":\"scatter\"}],\"parcoords\":[{\"type\":\"parcoords\",\"line\":{\"colorbar\":{\"outlinewidth\":0,\"ticks\":\"\"}}}],\"scatterpolargl\":[{\"type\":\"scatterpolargl\",\"marker\":{\"colorbar\":{\"outlinewidth\":0,\"ticks\":\"\"}}}],\"bar\":[{\"error_x\":{\"color\":\"#2a3f5f\"},\"error_y\":{\"color\":\"#2a3f5f\"},\"marker\":{\"line\":{\"color\":\"#E5ECF6\",\"width\":0.5},\"pattern\":{\"fillmode\":\"overlay\",\"size\":10,\"solidity\":0.2}},\"type\":\"bar\"}],\"scattergeo\":[{\"type\":\"scattergeo\",\"marker\":{\"colorbar\":{\"outlinewidth\":0,\"ticks\":\"\"}}}],\"scatterpolar\":[{\"type\":\"scatterpolar\",\"marker\":{\"colorbar\":{\"outlinewidth\":0,\"ticks\":\"\"}}}],\"histogram\":[{\"marker\":{\"pattern\":{\"fillmode\":\"overlay\",\"size\":10,\"solidity\":0.2}},\"type\":\"histogram\"}],\"scattergl\":[{\"type\":\"scattergl\",\"marker\":{\"colorbar\":{\"outlinewidth\":0,\"ticks\":\"\"}}}],\"scatter3d\":[{\"type\":\"scatter3d\",\"line\":{\"colorbar\":{\"outlinewidth\":0,\"ticks\":\"\"}},\"marker\":{\"colorbar\":{\"outlinewidth\":0,\"ticks\":\"\"}}}],\"scattermapbox\":[{\"type\":\"scattermapbox\",\"marker\":{\"colorbar\":{\"outlinewidth\":0,\"ticks\":\"\"}}}],\"scatterternary\":[{\"type\":\"scatterternary\",\"marker\":{\"colorbar\":{\"outlinewidth\":0,\"ticks\":\"\"}}}],\"scattercarpet\":[{\"type\":\"scattercarpet\",\"marker\":{\"colorbar\":{\"outlinewidth\":0,\"ticks\":\"\"}}}],\"carpet\":[{\"aaxis\":{\"endlinecolor\":\"#2a3f5f\",\"gridcolor\":\"white\",\"linecolor\":\"white\",\"minorgridcolor\":\"white\",\"startlinecolor\":\"#2a3f5f\"},\"baxis\":{\"endlinecolor\":\"#2a3f5f\",\"gridcolor\":\"white\",\"linecolor\":\"white\",\"minorgridcolor\":\"white\",\"startlinecolor\":\"#2a3f5f\"},\"type\":\"carpet\"}],\"table\":[{\"cells\":{\"fill\":{\"color\":\"#EBF0F8\"},\"line\":{\"color\":\"white\"}},\"header\":{\"fill\":{\"color\":\"#C8D4E3\"},\"line\":{\"color\":\"white\"}},\"type\":\"table\"}],\"barpolar\":[{\"marker\":{\"line\":{\"color\":\"#E5ECF6\",\"width\":0.5},\"pattern\":{\"fillmode\":\"overlay\",\"size\":10,\"solidity\":0.2}},\"type\":\"barpolar\"}],\"pie\":[{\"automargin\":true,\"type\":\"pie\"}]},\"layout\":{\"autotypenumbers\":\"strict\",\"colorway\":[\"#636efa\",\"#EF553B\",\"#00cc96\",\"#ab63fa\",\"#FFA15A\",\"#19d3f3\",\"#FF6692\",\"#B6E880\",\"#FF97FF\",\"#FECB52\"],\"font\":{\"color\":\"#2a3f5f\"},\"hovermode\":\"closest\",\"hoverlabel\":{\"align\":\"left\"},\"paper_bgcolor\":\"white\",\"plot_bgcolor\":\"#E5ECF6\",\"polar\":{\"bgcolor\":\"#E5ECF6\",\"angularaxis\":{\"gridcolor\":\"white\",\"linecolor\":\"white\",\"ticks\":\"\"},\"radialaxis\":{\"gridcolor\":\"white\",\"linecolor\":\"white\",\"ticks\":\"\"}},\"ternary\":{\"bgcolor\":\"#E5ECF6\",\"aaxis\":{\"gridcolor\":\"white\",\"linecolor\":\"white\",\"ticks\":\"\"},\"baxis\":{\"gridcolor\":\"white\",\"linecolor\":\"white\",\"ticks\":\"\"},\"caxis\":{\"gridcolor\":\"white\",\"linecolor\":\"white\",\"ticks\":\"\"}},\"coloraxis\":{\"colorbar\":{\"outlinewidth\":0,\"ticks\":\"\"}},\"colorscale\":{\"sequential\":[[0.0,\"#0d0887\"],[0.1111111111111111,\"#46039f\"],[0.2222222222222222,\"#7201a8\"],[0.3333333333333333,\"#9c179e\"],[0.4444444444444444,\"#bd3786\"],[0.5555555555555556,\"#d8576b\"],[0.6666666666666666,\"#ed7953\"],[0.7777777777777778,\"#fb9f3a\"],[0.8888888888888888,\"#fdca26\"],[1.0,\"#f0f921\"]],\"sequentialminus\":[[0.0,\"#0d0887\"],[0.1111111111111111,\"#46039f\"],[0.2222222222222222,\"#7201a8\"],[0.3333333333333333,\"#9c179e\"],[0.4444444444444444,\"#bd3786\"],[0.5555555555555556,\"#d8576b\"],[0.6666666666666666,\"#ed7953\"],[0.7777777777777778,\"#fb9f3a\"],[0.8888888888888888,\"#fdca26\"],[1.0,\"#f0f921\"]],\"diverging\":[[0,\"#8e0152\"],[0.1,\"#c51b7d\"],[0.2,\"#de77ae\"],[0.3,\"#f1b6da\"],[0.4,\"#fde0ef\"],[0.5,\"#f7f7f7\"],[0.6,\"#e6f5d0\"],[0.7,\"#b8e186\"],[0.8,\"#7fbc41\"],[0.9,\"#4d9221\"],[1,\"#276419\"]]},\"xaxis\":{\"gridcolor\":\"white\",\"linecolor\":\"white\",\"ticks\":\"\",\"title\":{\"standoff\":15},\"zerolinecolor\":\"white\",\"automargin\":true,\"zerolinewidth\":2},\"yaxis\":{\"gridcolor\":\"white\",\"linecolor\":\"white\",\"ticks\":\"\",\"title\":{\"standoff\":15},\"zerolinecolor\":\"white\",\"automargin\":true,\"zerolinewidth\":2},\"scene\":{\"xaxis\":{\"backgroundcolor\":\"#E5ECF6\",\"gridcolor\":\"white\",\"linecolor\":\"white\",\"showbackground\":true,\"ticks\":\"\",\"zerolinecolor\":\"white\",\"gridwidth\":2},\"yaxis\":{\"backgroundcolor\":\"#E5ECF6\",\"gridcolor\":\"white\",\"linecolor\":\"white\",\"showbackground\":true,\"ticks\":\"\",\"zerolinecolor\":\"white\",\"gridwidth\":2},\"zaxis\":{\"backgroundcolor\":\"#E5ECF6\",\"gridcolor\":\"white\",\"linecolor\":\"white\",\"showbackground\":true,\"ticks\":\"\",\"zerolinecolor\":\"white\",\"gridwidth\":2}},\"shapedefaults\":{\"line\":{\"color\":\"#2a3f5f\"}},\"annotationdefaults\":{\"arrowcolor\":\"#2a3f5f\",\"arrowhead\":0,\"arrowwidth\":1},\"geo\":{\"bgcolor\":\"white\",\"landcolor\":\"#E5ECF6\",\"subunitcolor\":\"white\",\"showland\":true,\"showlakes\":true,\"lakecolor\":\"white\"},\"title\":{\"x\":0.05},\"mapbox\":{\"style\":\"light\"}}},\"xaxis\":{\"anchor\":\"y\",\"domain\":[0.0,1.0],\"title\":{\"text\":\"Season\"}},\"yaxis\":{\"anchor\":\"x\",\"domain\":[0.0,1.0],\"title\":{\"text\":\"Plays\"}},\"legend\":{\"tracegroupgap\":0,\"title\":{\"text\":\"Formation Type\"}},\"margin\":{\"t\":60},\"title\":{\"text\":\"Plays by Formation vs. Season\"}},                        {\"responsive\": true}                    ).then(function(){\n",
       "                            \n",
       "var gd = document.getElementById('cd2dfe0f-0905-44ac-9164-106daac2da4f');\n",
       "var x = new MutationObserver(function (mutations, observer) {{\n",
       "        var display = window.getComputedStyle(gd).display;\n",
       "        if (!display || display === 'none') {{\n",
       "            console.log([gd, 'removed!']);\n",
       "            Plotly.purge(gd);\n",
       "            observer.disconnect();\n",
       "        }}\n",
       "}});\n",
       "\n",
       "// Listen for the removal of the full notebook cells\n",
       "var notebookContainer = gd.closest('#notebook-container');\n",
       "if (notebookContainer) {{\n",
       "    x.observe(notebookContainer, {childList: true});\n",
       "}}\n",
       "\n",
       "// Listen for the clearing of the current output cell\n",
       "var outputEl = gd.closest('.output');\n",
       "if (outputEl) {{\n",
       "    x.observe(outputEl, {childList: true});\n",
       "}}\n",
       "\n",
       "                        })                };                });            </script>        </div>"
      ]
     },
     "metadata": {},
     "output_type": "display_data"
    }
   ],
   "source": [
    "plot_formation_trends(df_temp, \"play_id_count\", \"Plays\")"
   ]
  },
  {
   "cell_type": "code",
   "execution_count": null,
   "id": "c2277187",
   "metadata": {},
   "outputs": [],
   "source": []
  }
 ],
 "metadata": {
  "kernelspec": {
   "display_name": "plotly",
   "language": "python",
   "name": "plotly"
  },
  "language_info": {
   "codemirror_mode": {
    "name": "ipython",
    "version": 3
   },
   "file_extension": ".py",
   "mimetype": "text/x-python",
   "name": "python",
   "nbconvert_exporter": "python",
   "pygments_lexer": "ipython3",
   "version": "3.9.7"
  }
 },
 "nbformat": 4,
 "nbformat_minor": 5
}
