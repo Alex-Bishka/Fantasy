{
 "cells": [
  {
   "cell_type": "markdown",
   "id": "2c4c46b9",
   "metadata": {},
   "source": [
    "# Imports"
   ]
  },
  {
   "cell_type": "code",
   "execution_count": 1,
   "id": "d8d4517e",
   "metadata": {},
   "outputs": [],
   "source": [
    "import plotly.express as px\n",
    "import pandas as pd\n",
    "import numpy as np"
   ]
  },
  {
   "cell_type": "code",
   "execution_count": 2,
   "id": "a0b5d241",
   "metadata": {},
   "outputs": [],
   "source": [
    "import sys\n",
    "import os\n",
    "sys.path.append(os.path.abspath('..'))\n",
    "from helpers_df import create_lag_df, create_train_and_test_sets"
   ]
  },
  {
   "cell_type": "code",
   "execution_count": 3,
   "id": "d5d27c5d",
   "metadata": {},
   "outputs": [],
   "source": [
    "base_path = \"../../interactive/WR/stability/season\""
   ]
  },
  {
   "cell_type": "markdown",
   "id": "d8c28847",
   "metadata": {},
   "source": [
    "# Grab Data"
   ]
  },
  {
   "cell_type": "code",
   "execution_count": 4,
   "id": "3056565c",
   "metadata": {},
   "outputs": [],
   "source": [
    "df_rec = pd.read_pickle(\"./wr-simple-data-2012-2022.pkl\")"
   ]
  },
  {
   "cell_type": "code",
   "execution_count": 5,
   "id": "0cd688ca",
   "metadata": {},
   "outputs": [],
   "source": [
    "df_rec[\"yac_per_reception\"] = df_rec[\"receiving_yards_after_catch\"] / df_rec[\"receptions\"]"
   ]
  },
  {
   "cell_type": "code",
   "execution_count": 6,
   "id": "08c2d484",
   "metadata": {},
   "outputs": [],
   "source": [
    "df_wr = df_rec.query(\"position == 'WR'\").copy()"
   ]
  },
  {
   "cell_type": "markdown",
   "id": "7f7c4347",
   "metadata": {},
   "source": [
    "# Normalize Data"
   ]
  },
  {
   "cell_type": "code",
   "execution_count": 7,
   "id": "7b45de67",
   "metadata": {},
   "outputs": [],
   "source": [
    "numeric_columns = df_wr.select_dtypes(include=[np.number]).columns"
   ]
  },
  {
   "cell_type": "code",
   "execution_count": 8,
   "id": "47ad8fee",
   "metadata": {},
   "outputs": [],
   "source": [
    "for col in numeric_columns:\n",
    "    if \"season\" not in col:\n",
    "        df_wr[f\"{col}_normalized\"] = df_wr[col] / df_wr[col].max()"
   ]
  },
  {
   "cell_type": "code",
   "execution_count": 9,
   "id": "975832cc",
   "metadata": {},
   "outputs": [],
   "source": [
    "df_wr_normalized = df_wr.copy()"
   ]
  },
  {
   "cell_type": "code",
   "execution_count": 10,
   "id": "d0b83ba6",
   "metadata": {},
   "outputs": [],
   "source": [
    "a = df_wr_normalized['yac_per_reception_normalized'] + df_wr_normalized['ay_sh_normalized'] + \\\n",
    "    df_wr_normalized['tgt_sh_normalized']\n",
    "df_wr_normalized[\"trinity\"] = a / 3"
   ]
  },
  {
   "cell_type": "code",
   "execution_count": 11,
   "id": "a844bf8d",
   "metadata": {},
   "outputs": [],
   "source": [
    "df_wr_normalized.dropna(inplace=True)"
   ]
  },
  {
   "cell_type": "markdown",
   "id": "51be9bc9",
   "metadata": {},
   "source": [
    "# Lag Version"
   ]
  },
  {
   "cell_type": "code",
   "execution_count": 12,
   "id": "9b86bcbd",
   "metadata": {},
   "outputs": [],
   "source": [
    "df_lag = create_lag_df(df_wr_normalized)"
   ]
  },
  {
   "cell_type": "code",
   "execution_count": 13,
   "id": "65f46635",
   "metadata": {},
   "outputs": [],
   "source": [
    "df_starter_lag = df_lag.query(\"games >= 10 and games_last >= 10\").copy()"
   ]
  },
  {
   "cell_type": "markdown",
   "id": "838dcb8b",
   "metadata": {},
   "source": [
    "# Prep Data For Models"
   ]
  },
  {
   "cell_type": "code",
   "execution_count": 14,
   "id": "f4bd5258",
   "metadata": {},
   "outputs": [],
   "source": [
    "df_prep = df_starter_lag.copy()"
   ]
  },
  {
   "cell_type": "code",
   "execution_count": 15,
   "id": "f09565db",
   "metadata": {},
   "outputs": [],
   "source": [
    "df_prep[\"new_metric\"] = df_prep[\"receiving_yards_normalized_last\"] + \\\n",
    "    df_prep['receiving_yards_after_catch_normalized_last'] + \\\n",
    "    df_prep['ay_sh_normalized_last'] + \\\n",
    "    df_prep['yptmpa_normalized_last']"
   ]
  },
  {
   "cell_type": "code",
   "execution_count": 16,
   "id": "eaabffa4",
   "metadata": {},
   "outputs": [],
   "source": [
    "df_prep[\"new_metric\"] = df_prep[\"new_metric\"] / 4"
   ]
  },
  {
   "cell_type": "code",
   "execution_count": 17,
   "id": "ae1207ee",
   "metadata": {},
   "outputs": [],
   "source": [
    "# x_cols = ['receiving_yards_normalized_last',\n",
    "#    'receiving_yards_after_catch_normalized_last',\n",
    "#    'ay_sh_normalized_last',\n",
    "#    'yptmpa_normalized_last']\n",
    "# x_cols = [\"new_metric\"]"
   ]
  },
  {
   "cell_type": "code",
   "execution_count": 18,
   "id": "c3a1126e",
   "metadata": {},
   "outputs": [
    {
     "data": {
      "text/plain": [
       "Index(['rtd_sh_normalized', 'rfd_sh_normalized', 'rtdfd_sh_normalized',\n",
       "       'dom_normalized', 'w8dom_normalized', 'yptmpa_normalized',\n",
       "       'ppr_sh_normalized', 'age_normalized', 'yac_per_reception_normalized',\n",
       "       'trinity', 'receptions_last', 'targets_last', 'receiving_yards_last',\n",
       "       'receiving_tds_last', 'receiving_fumbles_last',\n",
       "       'receiving_fumbles_lost_last', 'receiving_air_yards_last',\n",
       "       'receiving_yards_after_catch_last', 'receiving_first_downs_last',\n",
       "       'receiving_epa_last', 'receiving_2pt_conversions_last', 'racr_last',\n",
       "       'target_share_last', 'air_yards_share_last', 'wopr_x_last',\n",
       "       'fantasy_points_last', 'fantasy_points_ppr_last', 'games_last',\n",
       "       'tgt_sh_last', 'ay_sh_last', 'yac_sh_last', 'wopr_y_last', 'ry_sh_last',\n",
       "       'rtd_sh_last', 'rfd_sh_last', 'rtdfd_sh_last', 'dom_last', 'w8dom_last',\n",
       "       'yptmpa_last', 'ppr_sh_last', 'age_last', 'position_last',\n",
       "       'player_name_last', 'yac_per_reception_last',\n",
       "       'receptions_normalized_last', 'targets_normalized_last',\n",
       "       'receiving_yards_normalized_last', 'receiving_tds_normalized_last',\n",
       "       'receiving_fumbles_normalized_last',\n",
       "       'receiving_fumbles_lost_normalized_last',\n",
       "       'receiving_air_yards_normalized_last',\n",
       "       'receiving_yards_after_catch_normalized_last',\n",
       "       'receiving_first_downs_normalized_last',\n",
       "       'receiving_epa_normalized_last',\n",
       "       'receiving_2pt_conversions_normalized_last', 'racr_normalized_last',\n",
       "       'target_share_normalized_last', 'air_yards_share_normalized_last',\n",
       "       'wopr_x_normalized_last', 'fantasy_points_normalized_last',\n",
       "       'fantasy_points_ppr_normalized_last', 'games_normalized_last',\n",
       "       'tgt_sh_normalized_last', 'ay_sh_normalized_last',\n",
       "       'yac_sh_normalized_last', 'wopr_y_normalized_last',\n",
       "       'ry_sh_normalized_last', 'rtd_sh_normalized_last',\n",
       "       'rfd_sh_normalized_last', 'rtdfd_sh_normalized_last',\n",
       "       'dom_normalized_last', 'w8dom_normalized_last',\n",
       "       'yptmpa_normalized_last', 'ppr_sh_normalized_last',\n",
       "       'age_normalized_last', 'yac_per_reception_normalized_last',\n",
       "       'trinity_last', 'new_metric'],\n",
       "      dtype='object')"
      ]
     },
     "execution_count": 18,
     "metadata": {},
     "output_type": "execute_result"
    }
   ],
   "source": [
    "df_prep.columns[60:]"
   ]
  },
  {
   "cell_type": "code",
   "execution_count": 19,
   "id": "6ce4709b",
   "metadata": {},
   "outputs": [],
   "source": [
    "# x_cols = ['receptions_normalized_last',\n",
    "#        'targets_normalized_last', 'receiving_yards_normalized_last',\n",
    "#        'receiving_air_yards_normalized_last',\n",
    "#        'receiving_yards_after_catch_normalized_last',\n",
    "#        'receiving_first_downs_normalized_last',\n",
    "#        'racr_normalized_last',\n",
    "#        'wopr_x_normalized_last',\n",
    "#        'tgt_sh_normalized_last', 'ay_sh_normalized_last',\n",
    "#        'yac_sh_normalized_last', 'wopr_y_normalized_last',\n",
    "#        'ry_sh_normalized_last',\n",
    "#        'rfd_sh_normalized_last',\n",
    "#        'dom_normalized_last', 'w8dom_normalized_last',\n",
    "#        'yptmpa_normalized_last', 'yac_per_reception_normalized_last', \"age_last\", \"age\"]"
   ]
  },
  {
   "cell_type": "code",
   "execution_count": 20,
   "id": "9df98743",
   "metadata": {},
   "outputs": [],
   "source": [
    "# x_cols = ['receptions_last', 'targets_last', 'receiving_yards_last',\n",
    "#        'receiving_tds_last', 'receiving_fumbles_last',\n",
    "#        'receiving_fumbles_lost_last', 'receiving_air_yards_last',\n",
    "#        'receiving_yards_after_catch_last', 'receiving_first_downs_last',\n",
    "#        'receiving_epa_last', 'receiving_2pt_conversions_last', 'racr_last',\n",
    "#        'target_share_last', 'air_yards_share_last', 'wopr_x_last',\n",
    "#        'fantasy_points_last', 'fantasy_points_ppr_last', 'games_last',\n",
    "#        'tgt_sh_last', 'ay_sh_last', 'yac_sh_last', 'wopr_y_last', 'ry_sh_last',\n",
    "#        'rtd_sh_last', 'rfd_sh_last', 'rtdfd_sh_last', 'dom_last', 'w8dom_last',\n",
    "#        'yptmpa_last', 'ppr_sh_last', 'age_last',\n",
    "#        'yac_per_reception_last', 'age']"
   ]
  },
  {
   "cell_type": "code",
   "execution_count": 140,
   "id": "9d9731bf",
   "metadata": {},
   "outputs": [],
   "source": [
    "x_cols = [\"new_metric\"]"
   ]
  },
  {
   "cell_type": "code",
   "execution_count": 141,
   "id": "08a065f2",
   "metadata": {},
   "outputs": [],
   "source": [
    "# x_cols = [\"trinity_last\"]"
   ]
  },
  {
   "cell_type": "code",
   "execution_count": 142,
   "id": "ba995c03",
   "metadata": {},
   "outputs": [],
   "source": [
    "inference_col = \"fantasy_points\""
   ]
  },
  {
   "cell_type": "code",
   "execution_count": 143,
   "id": "9321281e",
   "metadata": {},
   "outputs": [
    {
     "name": "stdout",
     "output_type": "stream",
     "text": [
      "```\n",
      "Length of train set: 584\n",
      "Length of test set: 146\n",
      "Length of data set: 730\n",
      "```\n"
     ]
    }
   ],
   "source": [
    "X_train, X_test, y_train, y_test = create_train_and_test_sets(df_prep,\n",
    "                                                              x_cols=x_cols,\n",
    "                                                              inference_col = inference_col\n",
    "                                                             )"
   ]
  },
  {
   "cell_type": "markdown",
   "id": "ef33ad1c",
   "metadata": {},
   "source": [
    "# Normalization For Models"
   ]
  },
  {
   "cell_type": "code",
   "execution_count": 144,
   "id": "02b92744",
   "metadata": {},
   "outputs": [],
   "source": [
    "from sklearn.preprocessing import StandardScaler"
   ]
  },
  {
   "cell_type": "code",
   "execution_count": 145,
   "id": "a7c5b964",
   "metadata": {},
   "outputs": [],
   "source": [
    "scaler = StandardScaler()\n",
    "X_train_scaled = scaler.fit_transform(X_train)\n",
    "X_test_scaled = scaler.transform(X_test)"
   ]
  },
  {
   "cell_type": "markdown",
   "id": "89c8a976",
   "metadata": {},
   "source": [
    "# Explore Regression Models"
   ]
  },
  {
   "cell_type": "markdown",
   "id": "7b32b353",
   "metadata": {},
   "source": [
    "## MLR"
   ]
  },
  {
   "cell_type": "code",
   "execution_count": 146,
   "id": "2b62d622",
   "metadata": {},
   "outputs": [],
   "source": [
    "from sklearn.linear_model import LinearRegression"
   ]
  },
  {
   "cell_type": "code",
   "execution_count": 147,
   "id": "e69cea34",
   "metadata": {},
   "outputs": [],
   "source": [
    "mlr = LinearRegression().fit(X_train_scaled, y_train)"
   ]
  },
  {
   "cell_type": "code",
   "execution_count": 148,
   "id": "b4511f9a",
   "metadata": {},
   "outputs": [],
   "source": [
    "score = round(mlr.score(X_test_scaled, y_test), 3)"
   ]
  },
  {
   "cell_type": "code",
   "execution_count": 149,
   "id": "8d678c6c",
   "metadata": {},
   "outputs": [
    {
     "data": {
      "text/plain": [
       "0.379"
      ]
     },
     "execution_count": 149,
     "metadata": {},
     "output_type": "execute_result"
    }
   ],
   "source": [
    "score"
   ]
  },
  {
   "cell_type": "markdown",
   "id": "078dc076",
   "metadata": {},
   "source": [
    "## Evaluation"
   ]
  },
  {
   "cell_type": "code",
   "execution_count": 150,
   "id": "b3edf77e",
   "metadata": {},
   "outputs": [],
   "source": [
    "def change_direction_correct(row):\n",
    "    if (row['Actual_Change'] >= 0 and row['Predicted_Change'] >= 0) or (row['Actual_Change'] < 0 and row['Predicted_Change'] < 0):\n",
    "        return True\n",
    "    else:\n",
    "        return False"
   ]
  },
  {
   "cell_type": "code",
   "execution_count": 151,
   "id": "73a68638",
   "metadata": {},
   "outputs": [],
   "source": [
    "previous_season_points = df_prep.loc[y_test.index, 'fantasy_points_last']\n",
    "player_names = df_prep.loc[y_test.index, 'player_name']\n",
    "season = df_prep.loc[y_test.index, 'season']"
   ]
  },
  {
   "cell_type": "code",
   "execution_count": 152,
   "id": "70f88fcb",
   "metadata": {},
   "outputs": [],
   "source": [
    "df_error_graph_mlr = pd.DataFrame({\n",
    "    'Actual': y_test,\n",
    "    'Predicted': mlr.predict(X_test_scaled),\n",
    "    'Previous_Season_Fantasy': previous_season_points,\n",
    "    'Player_Name': player_names,\n",
    "    'Current_Season': season\n",
    "})"
   ]
  },
  {
   "cell_type": "code",
   "execution_count": 153,
   "id": "f2b79052",
   "metadata": {},
   "outputs": [],
   "source": [
    "df_error_graph_mlr['Actual_Change'] = df_error_graph_mlr['Actual'] - df_error_graph_mlr['Previous_Season_Fantasy']\n",
    "df_error_graph_mlr['Predicted_Change'] = df_error_graph_mlr['Predicted'] - df_error_graph_mlr['Previous_Season_Fantasy']"
   ]
  },
  {
   "cell_type": "code",
   "execution_count": 154,
   "id": "69f16d93",
   "metadata": {},
   "outputs": [],
   "source": [
    "df_error_graph_mlr['Direction_Correct'] = df_error_graph_mlr.apply(change_direction_correct, axis=1)"
   ]
  },
  {
   "cell_type": "code",
   "execution_count": 155,
   "id": "5682ff3f",
   "metadata": {},
   "outputs": [
    {
     "data": {
      "application/vnd.plotly.v1+json": {
       "config": {
        "plotlyServerURL": "https://plot.ly"
       },
       "data": [
        {
         "customdata": [
          [
           "Randall Cobb",
           2020,
           99.9
          ],
          [
           "Torrey Smith",
           2013,
           134.4
          ],
          [
           "Demaryius Thomas",
           2014,
           227
          ],
          [
           "Golden Tate",
           2020,
           103.2
          ],
          [
           "Marquise Brown",
           2020,
           100.4
          ],
          [
           "Amon-Ra St. Brown",
           2022,
           137.3
          ],
          [
           "Demaryius Thomas",
           2019,
           97.7
          ],
          [
           "Cecil Shorts",
           2014,
           95.7
          ],
          [
           "Christian Kirk",
           2022,
           130.62
          ],
          [
           "T.J. Jones",
           2018,
           47.900000000000006
          ],
          [
           "Tyreek Hill",
           2018,
           170.20000000000002
          ],
          [
           "Donnie Avery",
           2013,
           97
          ],
          [
           "Stefon Diggs",
           2020,
           149.1
          ],
          [
           "T.Y. Hilton",
           2013,
           137
          ],
          [
           "Mike Williams",
           2021,
           105.7
          ],
          [
           "Robert Foster",
           2019,
           72.1
          ],
          [
           "Tyler Lockett",
           2021,
           165.4
          ],
          [
           "Kendrick Bourne",
           2020,
           67.8
          ],
          [
           "Robby Anderson",
           2020,
           110.3
          ],
          [
           "Andre Holmes",
           2016,
           44.1
          ],
          [
           "Calvin Ridley",
           2020,
           134
          ],
          [
           "Brandon Coleman",
           2016,
           57.400000000000006
          ],
          [
           "Sammy Watkins",
           2015,
           133
          ],
          [
           "Kalif Raymond",
           2022,
           84.4
          ],
          [
           "Rueben Randle",
           2014,
           97.10000000000001
          ],
          [
           "T.Y. Hilton",
           2014,
           138.9
          ],
          [
           "Jalen Guyton",
           2021,
           69.1
          ],
          [
           "Tyreek Hill",
           2022,
           185.5
          ],
          [
           "Allen Robinson",
           2020,
           156.9
          ],
          [
           "Elijah Moore",
           2022,
           95.2
          ],
          [
           "DK Metcalf",
           2020,
           129.1
          ],
          [
           "Julio Jones",
           2015,
           193.4
          ],
          [
           "Rishard Matthews",
           2014,
           56.800000000000004
          ],
          [
           "Eric Decker",
           2013,
           184.4
          ],
          [
           "Danny Amendola",
           2014,
           75.4
          ],
          [
           "Jaylen Waddle",
           2022,
           143.8
          ],
          [
           "Andre Holmes",
           2015,
           93.30000000000001
          ],
          [
           "Damiere Byrd",
           2021,
           67.9
          ],
          [
           "Terrance Williams",
           2016,
           102
          ],
          [
           "Chris Hogan",
           2015,
           62.6
          ],
          [
           "Amari Cooper",
           2019,
           140.5
          ],
          [
           "DeAndre Hopkins",
           2020,
           164.54000000000002
          ],
          [
           "Cole Beasley",
           2020,
           117.80000000000001
          ],
          [
           "Demaryius Thomas",
           2013,
           197.4
          ],
          [
           "Dez Bryant",
           2014,
           199.4
          ],
          [
           "Russell Shepard",
           2017,
           47
          ],
          [
           "Jordy Nelson",
           2013,
           118.50000000000001
          ],
          [
           "Mike Evans",
           2020,
           165.70000000000002
          ],
          [
           "Nelson Agholor",
           2022,
           66.4
          ],
          [
           "Deonte Thompson",
           2018,
           67
          ],
          [
           "Damiere Byrd",
           2022,
           40.900000000000006
          ],
          [
           "Trent Taylor",
           2018,
           55
          ],
          [
           "Nick Westbrook-Ikhine",
           2022,
           69.6
          ],
          [
           "Jarius Wright",
           2019,
           54.6
          ]
         ],
         "hovertemplate": "Direction_Correct=False<br>Actual=%{x}<br>Predicted=%{y}<br>Player_Name=%{customdata[0]}<br>Current_Season=%{customdata[1]}<br>Previous_Season_Fantasy=%{customdata[2]}<extra></extra>",
         "legendgroup": "False",
         "marker": {
          "color": "red",
          "symbol": "circle"
         },
         "mode": "markers",
         "name": "False",
         "orientation": "v",
         "showlegend": true,
         "type": "scatter",
         "x": [
          62.1,
          138.8,
          229.9,
          51.52,
          125,
          161.6,
          49.300000000000004,
          64.98,
          159.9,
          31,
          247,
          70.2,
          201.60000000000002,
          138.9,
          170.60000000000002,
          9.3,
          168.4,
          80.7,
          129.1,
          30.6,
          191.5,
          46.1,
          158.8,
          69.2,
          111.80000000000001,
          176.5,
          66.2,
          222.2,
          160.9,
          51.1,
          188.3,
          233.1,
          25.8,
          192.8,
          26,
          184.20000000000002,
          44.1,
          40.900000000000006,
          81.4,
          57.56,
          167.5,
          172.8,
          125.5,
          227,
          228,
          28.1,
          179.4,
          178.6,
          44.2,
          16.1,
          38.8,
          29.500000000000004,
          57.7,
          28.900000000000002
         ],
         "xaxis": "x",
         "y": [
          101.89432687089922,
          116.03207378004669,
          157.4952893469926,
          105.50856951769464,
          97.21073187720569,
          118.31918892579253,
          99.78226439629934,
          123.56665856540276,
          113.744657426773,
          69.16880930976825,
          144.49296628635574,
          98.43094696090813,
          147.0246322673581,
          108.36169799770002,
          100.56590734698548,
          96.00216924863739,
          123.21033858642267,
          65.03640582377324,
          110.02328396426988,
          50.461105454704494,
          103.81918715316375,
          66.08127395188376,
          132.70428164911246,
          89.46736522644159,
          88.09844127005115,
          134.10653723402248,
          78.29467166346267,
          139.99336596206876,
          133.92151924990236,
          96.33931327804888,
          114.48767749875837,
          175.81605724395462,
          71.00611935049218,
          121.18764179841199,
          91.65773650926675,
          123.68172438519086,
          97.92386491245166,
          102.13215705945905,
          113.85918936918215,
          75.03670884466032,
          127.86849678153207,
          143.44623244673895,
          106.43514546904089,
          158.57785378609591,
          154.32163453055148,
          61.970056177376726,
          109.70802416999686,
          134.8131697729207,
          82.30681960767816,
          85.76168712223193,
          62.57326547124957,
          66.53853055529714,
          75.64629340919952,
          68.19264019072533
         ],
         "yaxis": "y"
        },
        {
         "customdata": [
          [
           "Jerricho Cotchery",
           2014,
           119.7
          ],
          [
           "Roddy White",
           2014,
           87.10000000000001
          ],
          [
           "Seth Roberts",
           2018,
           47.5
          ],
          [
           "Keenan Allen",
           2014,
           150.6
          ],
          [
           "Kendall Wright",
           2015,
           110.9
          ],
          [
           "Darnell Mooney",
           2021,
           91.1
          ],
          [
           "DeVante Parker",
           2019,
           36.9
          ],
          [
           "Nate Washington",
           2013,
           98.60000000000001
          ],
          [
           "Greg Jennings",
           2015,
           110.2
          ],
          [
           "Cordarrelle Patterson",
           2020,
           24.6
          ],
          [
           "Ted Ginn",
           2015,
           26
          ],
          [
           "Randall Cobb",
           2015,
           204.4
          ],
          [
           "Marquez Valdes-Scantling",
           2022,
           61
          ],
          [
           "John Brown",
           2019,
           101.9
          ],
          [
           "Jordy Nelson",
           2018,
           84.2
          ],
          [
           "Kenny Golladay",
           2018,
           66.6
          ],
          [
           "DK Metcalf",
           2021,
           188.3
          ],
          [
           "Corey Brown",
           2015,
           57.1
          ],
          [
           "Zay Jones",
           2020,
           21.900000000000002
          ],
          [
           "Alshon Jeffery",
           2018,
           138.9
          ],
          [
           "Braxton Berrios",
           2022,
           75.1
          ],
          [
           "Sterling Shepard",
           2017,
           119.4
          ],
          [
           "Anquan Boldin",
           2015,
           136.60000000000002
          ],
          [
           "Jermaine Kearse",
           2014,
           58.6
          ],
          [
           "A.J. Green",
           2014,
           208.60000000000002
          ],
          [
           "Cordarrelle Patterson",
           2014,
           116.7
          ],
          [
           "Tim Patrick",
           2021,
           110.2
          ],
          [
           "Robert Woods",
           2017,
           67.89999999999999
          ],
          [
           "Steve Smith",
           2014,
           98.5
          ],
          [
           "Donte Moncrief",
           2018,
           51.1
          ],
          [
           "Bennie Fowler",
           2016,
           20.3
          ],
          [
           "Jermaine Kearse",
           2018,
           111
          ],
          [
           "Odell Beckham",
           2019,
           155.34
          ],
          [
           "DeSean Jackson",
           2017,
           124.50000000000001
          ],
          [
           "Jamison Crowder",
           2017,
           130.5
          ],
          [
           "Robert Woods",
           2015,
           99.9
          ],
          [
           "Robert Woods",
           2018,
           107.30000000000001
          ],
          [
           "Mike Williams",
           2019,
           137.2
          ],
          [
           "Stefon Diggs",
           2019,
           164.3
          ],
          [
           "Russell Gage",
           2020,
           51.800000000000004
          ],
          [
           "DaeSean Hamilton",
           2020,
           35.7
          ],
          [
           "Jarvis Landry",
           2016,
           165.36
          ],
          [
           "Tyler Lockett",
           2019,
           165.4
          ],
          [
           "Breshad Perriman",
           2020,
           102.1
          ],
          [
           "Isaiah McKenzie",
           2022,
           34.5
          ],
          [
           "Mike Wallace",
           2016,
           59.900000000000006
          ],
          [
           "Darnell Mooney",
           2022,
           138.70000000000002
          ],
          [
           "Jarvis Landry",
           2021,
           115.96000000000001
          ],
          [
           "JuJu Smith-Schuster",
           2020,
           71.2
          ],
          [
           "DeAndre Hopkins",
           2017,
           119.4
          ],
          [
           "Aldrick Robinson",
           2018,
           38
          ],
          [
           "Marques Colston",
           2015,
           118.2
          ],
          [
           "Robby Anderson",
           2022,
           85.5
          ],
          [
           "Doug Baldwin",
           2015,
           101.3
          ],
          [
           "Jamison Crowder",
           2021,
           113.02
          ],
          [
           "Kendrick Bourne",
           2018,
           25.700000000000003
          ],
          [
           "Malcom Floyd",
           2015,
           121.60000000000001
          ],
          [
           "Isaiah McKenzie",
           2020,
           36.300000000000004
          ],
          [
           "Mack Hollins",
           2022,
           46.3
          ],
          [
           "J.J. Nelson",
           2017,
           105.10000000000001
          ],
          [
           "Kendall Wright",
           2017,
           61.1
          ],
          [
           "Mike Williams",
           2022,
           170.60000000000002
          ],
          [
           "Brandin Cooks",
           2019,
           163.20000000000002
          ],
          [
           "Jarius Wright",
           2014,
           61.4
          ],
          [
           "Devin Duvernay",
           2022,
           44.199999999999996
          ],
          [
           "D.J. Chark",
           2019,
           15.400000000000002
          ],
          [
           "Hunter Renfrow",
           2022,
           156.10000000000002
          ],
          [
           "James Washington",
           2019,
           27.700000000000003
          ],
          [
           "Hakeem Nicks",
           2013,
           87.2
          ],
          [
           "Travis Benjamin",
           2015,
           50.50000000000001
          ],
          [
           "Marques Colston",
           2014,
           124.30000000000001
          ],
          [
           "Brandin Cooks",
           2021,
           151
          ],
          [
           "Marvin Jones",
           2016,
           108.9
          ],
          [
           "Brian Hartline",
           2015,
           59.4
          ],
          [
           "Mecole Hardman",
           2020,
           97.5
          ],
          [
           "Amari Cooper",
           2020,
           167.5
          ],
          [
           "Miles Austin",
           2014,
           24.400000000000002
          ],
          [
           "Marques Colston",
           2013,
           171.4
          ],
          [
           "Albert Wilson",
           2017,
           50.900000000000006
          ],
          [
           "Rishard Matthews",
           2015,
           25.8
          ],
          [
           "Larry Fitzgerald",
           2015,
           88.4
          ],
          [
           "Sterling Shepard",
           2020,
           84.80000000000001
          ],
          [
           "Sammy Watkins",
           2019,
           75.10000000000001
          ],
          [
           "James Jones",
           2014,
           97.7
          ],
          [
           "David Moore",
           2020,
           42.6
          ],
          [
           "Calvin Johnson",
           2014,
           219.20000000000002
          ],
          [
           "Brian Quick",
           2013,
           27.6
          ],
          [
           "Seth Roberts",
           2017,
           73.7
          ],
          [
           "T.Y. Hilton",
           2021,
           108.2
          ],
          [
           "Travis Benjamin",
           2016,
           131.8
          ],
          [
           "Kenny Britt",
           2016,
           86.10000000000001
          ],
          [
           "Tyrell Williams",
           2018,
           94.8
          ]
         ],
         "hovertemplate": "Direction_Correct=True<br>Actual=%{x}<br>Predicted=%{y}<br>Player_Name=%{customdata[0]}<br>Current_Season=%{customdata[1]}<br>Previous_Season_Fantasy=%{customdata[2]}<extra></extra>",
         "legendgroup": "True",
         "marker": {
          "color": "green",
          "symbol": "circle"
         },
         "mode": "markers",
         "name": "True",
         "orientation": "v",
         "showlegend": true,
         "type": "scatter",
         "x": [
          66,
          132.1,
          61.9,
          100.3,
          60.50000000000001,
          138.70000000000002,
          174.2,
          109.9,
          26.8,
          48.400000000000006,
          139.9,
          123.9,
          80.4,
          147.82000000000002,
          93.7,
          137.1,
          169.3,
          72.5,
          22.560000000000002,
          120.3,
          39.68,
          85.5,
          100.9,
          61.88,
          136.3,
          62.1,
          103.4,
          107.30000000000001,
          140.5,
          82.8,
          26.5,
          43.1,
          129.3,
          88.60000000000001,
          98.3,
          71.2,
          179.6,
          112.30000000000001,
          149.1,
          109.06,
          39.300000000000004,
          139.3,
          153.20000000000002,
          69.10000000000001,
          77.8,
          130.8,
          61.5,
          81,
          137.1,
          213.8,
          53.1,
          76,
          32.2,
          190.9,
          58.7,
          72.7,
          72.10000000000001,
          69.58,
          97.16000000000001,
          64.5,
          67.4,
          113.5,
          75.5,
          77.9,
          79.1,
          152.8,
          43,
          89.5,
          89.60000000000001,
          131.8,
          118.2,
          141.8,
          117.3,
          64.3,
          89.10000000000001,
          144.8,
          68.80000000000001,
          124.30000000000001,
          74,
          90.60000000000001,
          171.5,
          96.5,
          86.5,
          100.60000000000001,
          83.80000000000001,
          155.70000000000002,
          42.2,
          47.5,
          51.1,
          87.4,
          128.2,
          96.8
         ],
         "xaxis": "x",
         "y": [
          84.04842986419322,
          93.39357750271074,
          70.04805279147054,
          130.06546128269213,
          106.74132712864295,
          92.63851629843303,
          75.91775431396317,
          102.40904421626117,
          100.45378079721954,
          37.17987878135028,
          46.32471445517933,
          151.43881422807814,
          90.04143976724555,
          101.94371337246334,
          84.5382143244141,
          88.31726161749195,
          147.25935573135234,
          60.62752184603128,
          54.60830180126258,
          106.69454674649555,
          71.28587869075669,
          93.5578253687213,
          132.4833616693474,
          66.28168131292324,
          161.37892338379584,
          77.81773556678604,
          98.67721241155219,
          92.69782079921413,
          107.46408649850613,
          75.86828669665476,
          46.564105632221214,
          109.07547872099927,
          145.62393541686106,
          120.6963811656916,
          103.29400755302501,
          94.03117749914958,
          118.81077208737736,
          91.03613361198009,
          130.1522824897889,
          66.78735468374634,
          66.00783065532707,
          136.6632458498409,
          118.76634716173848,
          84.95604853792571,
          44.477587592787216,
          86.35045017040139,
          134.8605978970206,
          114.34847171824612,
          92.84817397900329,
          122.29622443423793,
          52.88863431694335,
          108.02167233061209,
          84.61541647384384,
          115.26704306469549,
          106.47522496915317,
          61.87883883509905,
          105.82336045677056,
          58.831446774566196,
          52.16911290948755,
          86.73088242840741,
          72.67921071568045,
          133.3288999273939,
          138.9174959462741,
          68.07657411110554,
          53.61443103029339,
          50.65913183123991,
          117.18316087080095,
          54.28144311918424,
          108.65220023610716,
          60.99377879708376,
          110.00846480715634,
          135.496071068942,
          114.38561038737149,
          70.5123733937583,
          79.67001569422004,
          123.86676435644036,
          56.943456129068416,
          120.53545873766663,
          61.638346155593,
          45.07914853165066,
          105.46553152421578,
          97.12612579466294,
          86.49384279540294,
          113.97490677673609,
          61.747030701289724,
          171.3472824354539,
          43.34391659294187,
          69.6160569357403,
          107.2821543419918,
          121.15847181423561,
          98.8172625104891,
          99.90153111829693
         ],
         "yaxis": "y"
        }
       ],
       "layout": {
        "legend": {
         "title": {
          "text": "Direction_Correct"
         },
         "tracegroupgap": 0
        },
        "margin": {
         "t": 60
        },
        "shapes": [
         {
          "line": {
           "dash": "dash"
          },
          "type": "line",
          "x0": 9.3,
          "x1": 247,
          "y0": 9.3,
          "y1": 247
         }
        ],
        "showlegend": false,
        "template": {
         "data": {
          "bar": [
           {
            "error_x": {
             "color": "#2a3f5f"
            },
            "error_y": {
             "color": "#2a3f5f"
            },
            "marker": {
             "line": {
              "color": "#E5ECF6",
              "width": 0.5
             },
             "pattern": {
              "fillmode": "overlay",
              "size": 10,
              "solidity": 0.2
             }
            },
            "type": "bar"
           }
          ],
          "barpolar": [
           {
            "marker": {
             "line": {
              "color": "#E5ECF6",
              "width": 0.5
             },
             "pattern": {
              "fillmode": "overlay",
              "size": 10,
              "solidity": 0.2
             }
            },
            "type": "barpolar"
           }
          ],
          "carpet": [
           {
            "aaxis": {
             "endlinecolor": "#2a3f5f",
             "gridcolor": "white",
             "linecolor": "white",
             "minorgridcolor": "white",
             "startlinecolor": "#2a3f5f"
            },
            "baxis": {
             "endlinecolor": "#2a3f5f",
             "gridcolor": "white",
             "linecolor": "white",
             "minorgridcolor": "white",
             "startlinecolor": "#2a3f5f"
            },
            "type": "carpet"
           }
          ],
          "choropleth": [
           {
            "colorbar": {
             "outlinewidth": 0,
             "ticks": ""
            },
            "type": "choropleth"
           }
          ],
          "contour": [
           {
            "colorbar": {
             "outlinewidth": 0,
             "ticks": ""
            },
            "colorscale": [
             [
              0,
              "#0d0887"
             ],
             [
              0.1111111111111111,
              "#46039f"
             ],
             [
              0.2222222222222222,
              "#7201a8"
             ],
             [
              0.3333333333333333,
              "#9c179e"
             ],
             [
              0.4444444444444444,
              "#bd3786"
             ],
             [
              0.5555555555555556,
              "#d8576b"
             ],
             [
              0.6666666666666666,
              "#ed7953"
             ],
             [
              0.7777777777777778,
              "#fb9f3a"
             ],
             [
              0.8888888888888888,
              "#fdca26"
             ],
             [
              1,
              "#f0f921"
             ]
            ],
            "type": "contour"
           }
          ],
          "contourcarpet": [
           {
            "colorbar": {
             "outlinewidth": 0,
             "ticks": ""
            },
            "type": "contourcarpet"
           }
          ],
          "heatmap": [
           {
            "colorbar": {
             "outlinewidth": 0,
             "ticks": ""
            },
            "colorscale": [
             [
              0,
              "#0d0887"
             ],
             [
              0.1111111111111111,
              "#46039f"
             ],
             [
              0.2222222222222222,
              "#7201a8"
             ],
             [
              0.3333333333333333,
              "#9c179e"
             ],
             [
              0.4444444444444444,
              "#bd3786"
             ],
             [
              0.5555555555555556,
              "#d8576b"
             ],
             [
              0.6666666666666666,
              "#ed7953"
             ],
             [
              0.7777777777777778,
              "#fb9f3a"
             ],
             [
              0.8888888888888888,
              "#fdca26"
             ],
             [
              1,
              "#f0f921"
             ]
            ],
            "type": "heatmap"
           }
          ],
          "heatmapgl": [
           {
            "colorbar": {
             "outlinewidth": 0,
             "ticks": ""
            },
            "colorscale": [
             [
              0,
              "#0d0887"
             ],
             [
              0.1111111111111111,
              "#46039f"
             ],
             [
              0.2222222222222222,
              "#7201a8"
             ],
             [
              0.3333333333333333,
              "#9c179e"
             ],
             [
              0.4444444444444444,
              "#bd3786"
             ],
             [
              0.5555555555555556,
              "#d8576b"
             ],
             [
              0.6666666666666666,
              "#ed7953"
             ],
             [
              0.7777777777777778,
              "#fb9f3a"
             ],
             [
              0.8888888888888888,
              "#fdca26"
             ],
             [
              1,
              "#f0f921"
             ]
            ],
            "type": "heatmapgl"
           }
          ],
          "histogram": [
           {
            "marker": {
             "pattern": {
              "fillmode": "overlay",
              "size": 10,
              "solidity": 0.2
             }
            },
            "type": "histogram"
           }
          ],
          "histogram2d": [
           {
            "colorbar": {
             "outlinewidth": 0,
             "ticks": ""
            },
            "colorscale": [
             [
              0,
              "#0d0887"
             ],
             [
              0.1111111111111111,
              "#46039f"
             ],
             [
              0.2222222222222222,
              "#7201a8"
             ],
             [
              0.3333333333333333,
              "#9c179e"
             ],
             [
              0.4444444444444444,
              "#bd3786"
             ],
             [
              0.5555555555555556,
              "#d8576b"
             ],
             [
              0.6666666666666666,
              "#ed7953"
             ],
             [
              0.7777777777777778,
              "#fb9f3a"
             ],
             [
              0.8888888888888888,
              "#fdca26"
             ],
             [
              1,
              "#f0f921"
             ]
            ],
            "type": "histogram2d"
           }
          ],
          "histogram2dcontour": [
           {
            "colorbar": {
             "outlinewidth": 0,
             "ticks": ""
            },
            "colorscale": [
             [
              0,
              "#0d0887"
             ],
             [
              0.1111111111111111,
              "#46039f"
             ],
             [
              0.2222222222222222,
              "#7201a8"
             ],
             [
              0.3333333333333333,
              "#9c179e"
             ],
             [
              0.4444444444444444,
              "#bd3786"
             ],
             [
              0.5555555555555556,
              "#d8576b"
             ],
             [
              0.6666666666666666,
              "#ed7953"
             ],
             [
              0.7777777777777778,
              "#fb9f3a"
             ],
             [
              0.8888888888888888,
              "#fdca26"
             ],
             [
              1,
              "#f0f921"
             ]
            ],
            "type": "histogram2dcontour"
           }
          ],
          "mesh3d": [
           {
            "colorbar": {
             "outlinewidth": 0,
             "ticks": ""
            },
            "type": "mesh3d"
           }
          ],
          "parcoords": [
           {
            "line": {
             "colorbar": {
              "outlinewidth": 0,
              "ticks": ""
             }
            },
            "type": "parcoords"
           }
          ],
          "pie": [
           {
            "automargin": true,
            "type": "pie"
           }
          ],
          "scatter": [
           {
            "fillpattern": {
             "fillmode": "overlay",
             "size": 10,
             "solidity": 0.2
            },
            "type": "scatter"
           }
          ],
          "scatter3d": [
           {
            "line": {
             "colorbar": {
              "outlinewidth": 0,
              "ticks": ""
             }
            },
            "marker": {
             "colorbar": {
              "outlinewidth": 0,
              "ticks": ""
             }
            },
            "type": "scatter3d"
           }
          ],
          "scattercarpet": [
           {
            "marker": {
             "colorbar": {
              "outlinewidth": 0,
              "ticks": ""
             }
            },
            "type": "scattercarpet"
           }
          ],
          "scattergeo": [
           {
            "marker": {
             "colorbar": {
              "outlinewidth": 0,
              "ticks": ""
             }
            },
            "type": "scattergeo"
           }
          ],
          "scattergl": [
           {
            "marker": {
             "colorbar": {
              "outlinewidth": 0,
              "ticks": ""
             }
            },
            "type": "scattergl"
           }
          ],
          "scattermapbox": [
           {
            "marker": {
             "colorbar": {
              "outlinewidth": 0,
              "ticks": ""
             }
            },
            "type": "scattermapbox"
           }
          ],
          "scatterpolar": [
           {
            "marker": {
             "colorbar": {
              "outlinewidth": 0,
              "ticks": ""
             }
            },
            "type": "scatterpolar"
           }
          ],
          "scatterpolargl": [
           {
            "marker": {
             "colorbar": {
              "outlinewidth": 0,
              "ticks": ""
             }
            },
            "type": "scatterpolargl"
           }
          ],
          "scatterternary": [
           {
            "marker": {
             "colorbar": {
              "outlinewidth": 0,
              "ticks": ""
             }
            },
            "type": "scatterternary"
           }
          ],
          "surface": [
           {
            "colorbar": {
             "outlinewidth": 0,
             "ticks": ""
            },
            "colorscale": [
             [
              0,
              "#0d0887"
             ],
             [
              0.1111111111111111,
              "#46039f"
             ],
             [
              0.2222222222222222,
              "#7201a8"
             ],
             [
              0.3333333333333333,
              "#9c179e"
             ],
             [
              0.4444444444444444,
              "#bd3786"
             ],
             [
              0.5555555555555556,
              "#d8576b"
             ],
             [
              0.6666666666666666,
              "#ed7953"
             ],
             [
              0.7777777777777778,
              "#fb9f3a"
             ],
             [
              0.8888888888888888,
              "#fdca26"
             ],
             [
              1,
              "#f0f921"
             ]
            ],
            "type": "surface"
           }
          ],
          "table": [
           {
            "cells": {
             "fill": {
              "color": "#EBF0F8"
             },
             "line": {
              "color": "white"
             }
            },
            "header": {
             "fill": {
              "color": "#C8D4E3"
             },
             "line": {
              "color": "white"
             }
            },
            "type": "table"
           }
          ]
         },
         "layout": {
          "annotationdefaults": {
           "arrowcolor": "#2a3f5f",
           "arrowhead": 0,
           "arrowwidth": 1
          },
          "autotypenumbers": "strict",
          "coloraxis": {
           "colorbar": {
            "outlinewidth": 0,
            "ticks": ""
           }
          },
          "colorscale": {
           "diverging": [
            [
             0,
             "#8e0152"
            ],
            [
             0.1,
             "#c51b7d"
            ],
            [
             0.2,
             "#de77ae"
            ],
            [
             0.3,
             "#f1b6da"
            ],
            [
             0.4,
             "#fde0ef"
            ],
            [
             0.5,
             "#f7f7f7"
            ],
            [
             0.6,
             "#e6f5d0"
            ],
            [
             0.7,
             "#b8e186"
            ],
            [
             0.8,
             "#7fbc41"
            ],
            [
             0.9,
             "#4d9221"
            ],
            [
             1,
             "#276419"
            ]
           ],
           "sequential": [
            [
             0,
             "#0d0887"
            ],
            [
             0.1111111111111111,
             "#46039f"
            ],
            [
             0.2222222222222222,
             "#7201a8"
            ],
            [
             0.3333333333333333,
             "#9c179e"
            ],
            [
             0.4444444444444444,
             "#bd3786"
            ],
            [
             0.5555555555555556,
             "#d8576b"
            ],
            [
             0.6666666666666666,
             "#ed7953"
            ],
            [
             0.7777777777777778,
             "#fb9f3a"
            ],
            [
             0.8888888888888888,
             "#fdca26"
            ],
            [
             1,
             "#f0f921"
            ]
           ],
           "sequentialminus": [
            [
             0,
             "#0d0887"
            ],
            [
             0.1111111111111111,
             "#46039f"
            ],
            [
             0.2222222222222222,
             "#7201a8"
            ],
            [
             0.3333333333333333,
             "#9c179e"
            ],
            [
             0.4444444444444444,
             "#bd3786"
            ],
            [
             0.5555555555555556,
             "#d8576b"
            ],
            [
             0.6666666666666666,
             "#ed7953"
            ],
            [
             0.7777777777777778,
             "#fb9f3a"
            ],
            [
             0.8888888888888888,
             "#fdca26"
            ],
            [
             1,
             "#f0f921"
            ]
           ]
          },
          "colorway": [
           "#636efa",
           "#EF553B",
           "#00cc96",
           "#ab63fa",
           "#FFA15A",
           "#19d3f3",
           "#FF6692",
           "#B6E880",
           "#FF97FF",
           "#FECB52"
          ],
          "font": {
           "color": "#2a3f5f"
          },
          "geo": {
           "bgcolor": "white",
           "lakecolor": "white",
           "landcolor": "#E5ECF6",
           "showlakes": true,
           "showland": true,
           "subunitcolor": "white"
          },
          "hoverlabel": {
           "align": "left"
          },
          "hovermode": "closest",
          "mapbox": {
           "style": "light"
          },
          "paper_bgcolor": "white",
          "plot_bgcolor": "#E5ECF6",
          "polar": {
           "angularaxis": {
            "gridcolor": "white",
            "linecolor": "white",
            "ticks": ""
           },
           "bgcolor": "#E5ECF6",
           "radialaxis": {
            "gridcolor": "white",
            "linecolor": "white",
            "ticks": ""
           }
          },
          "scene": {
           "xaxis": {
            "backgroundcolor": "#E5ECF6",
            "gridcolor": "white",
            "gridwidth": 2,
            "linecolor": "white",
            "showbackground": true,
            "ticks": "",
            "zerolinecolor": "white"
           },
           "yaxis": {
            "backgroundcolor": "#E5ECF6",
            "gridcolor": "white",
            "gridwidth": 2,
            "linecolor": "white",
            "showbackground": true,
            "ticks": "",
            "zerolinecolor": "white"
           },
           "zaxis": {
            "backgroundcolor": "#E5ECF6",
            "gridcolor": "white",
            "gridwidth": 2,
            "linecolor": "white",
            "showbackground": true,
            "ticks": "",
            "zerolinecolor": "white"
           }
          },
          "shapedefaults": {
           "line": {
            "color": "#2a3f5f"
           }
          },
          "ternary": {
           "aaxis": {
            "gridcolor": "white",
            "linecolor": "white",
            "ticks": ""
           },
           "baxis": {
            "gridcolor": "white",
            "linecolor": "white",
            "ticks": ""
           },
           "bgcolor": "#E5ECF6",
           "caxis": {
            "gridcolor": "white",
            "linecolor": "white",
            "ticks": ""
           }
          },
          "title": {
           "x": 0.05
          },
          "xaxis": {
           "automargin": true,
           "gridcolor": "white",
           "linecolor": "white",
           "ticks": "",
           "title": {
            "standoff": 15
           },
           "zerolinecolor": "white",
           "zerolinewidth": 2
          },
          "yaxis": {
           "automargin": true,
           "gridcolor": "white",
           "linecolor": "white",
           "ticks": "",
           "title": {
            "standoff": 15
           },
           "zerolinecolor": "white",
           "zerolinewidth": 2
          }
         }
        },
        "title": {
         "text": "Actual vs Predicted Fantasy Production (MLR - New Metric)"
        },
        "xaxis": {
         "anchor": "y",
         "domain": [
          0,
          1
         ],
         "title": {
          "text": "Actual Fantasy Production"
         }
        },
        "yaxis": {
         "anchor": "x",
         "domain": [
          0,
          1
         ],
         "title": {
          "text": "Predicted Fantasy Production"
         }
        }
       }
      },
      "text/html": [
       "<div>                            <div id=\"d9a9ac24-05e6-4d67-915d-96bb3335da1d\" class=\"plotly-graph-div\" style=\"height:525px; width:100%;\"></div>            <script type=\"text/javascript\">                require([\"plotly\"], function(Plotly) {                    window.PLOTLYENV=window.PLOTLYENV || {};                                    if (document.getElementById(\"d9a9ac24-05e6-4d67-915d-96bb3335da1d\")) {                    Plotly.newPlot(                        \"d9a9ac24-05e6-4d67-915d-96bb3335da1d\",                        [{\"customdata\":[[\"Randall Cobb\",2020,99.9],[\"Torrey Smith\",2013,134.4],[\"Demaryius Thomas\",2014,227.0],[\"Golden Tate\",2020,103.2],[\"Marquise Brown\",2020,100.4],[\"Amon-Ra St. Brown\",2022,137.3],[\"Demaryius Thomas\",2019,97.7],[\"Cecil Shorts\",2014,95.7],[\"Christian Kirk\",2022,130.62],[\"T.J. Jones\",2018,47.900000000000006],[\"Tyreek Hill\",2018,170.20000000000002],[\"Donnie Avery\",2013,97.0],[\"Stefon Diggs\",2020,149.1],[\"T.Y. Hilton\",2013,137.0],[\"Mike Williams\",2021,105.7],[\"Robert Foster\",2019,72.1],[\"Tyler Lockett\",2021,165.4],[\"Kendrick Bourne\",2020,67.8],[\"Robby Anderson\",2020,110.3],[\"Andre Holmes\",2016,44.1],[\"Calvin Ridley\",2020,134.0],[\"Brandon Coleman\",2016,57.400000000000006],[\"Sammy Watkins\",2015,133.0],[\"Kalif Raymond\",2022,84.4],[\"Rueben Randle\",2014,97.10000000000001],[\"T.Y. Hilton\",2014,138.9],[\"Jalen Guyton\",2021,69.1],[\"Tyreek Hill\",2022,185.5],[\"Allen Robinson\",2020,156.9],[\"Elijah Moore\",2022,95.2],[\"DK Metcalf\",2020,129.1],[\"Julio Jones\",2015,193.4],[\"Rishard Matthews\",2014,56.800000000000004],[\"Eric Decker\",2013,184.4],[\"Danny Amendola\",2014,75.4],[\"Jaylen Waddle\",2022,143.8],[\"Andre Holmes\",2015,93.30000000000001],[\"Damiere Byrd\",2021,67.9],[\"Terrance Williams\",2016,102.0],[\"Chris Hogan\",2015,62.6],[\"Amari Cooper\",2019,140.5],[\"DeAndre Hopkins\",2020,164.54000000000002],[\"Cole Beasley\",2020,117.80000000000001],[\"Demaryius Thomas\",2013,197.4],[\"Dez Bryant\",2014,199.4],[\"Russell Shepard\",2017,47.0],[\"Jordy Nelson\",2013,118.50000000000001],[\"Mike Evans\",2020,165.70000000000002],[\"Nelson Agholor\",2022,66.4],[\"Deonte Thompson\",2018,67.0],[\"Damiere Byrd\",2022,40.900000000000006],[\"Trent Taylor\",2018,55.0],[\"Nick Westbrook-Ikhine\",2022,69.6],[\"Jarius Wright\",2019,54.6]],\"hovertemplate\":\"Direction_Correct=False\\u003cbr\\u003eActual=%{x}\\u003cbr\\u003ePredicted=%{y}\\u003cbr\\u003ePlayer_Name=%{customdata[0]}\\u003cbr\\u003eCurrent_Season=%{customdata[1]}\\u003cbr\\u003ePrevious_Season_Fantasy=%{customdata[2]}\\u003cextra\\u003e\\u003c\\u002fextra\\u003e\",\"legendgroup\":\"False\",\"marker\":{\"color\":\"red\",\"symbol\":\"circle\"},\"mode\":\"markers\",\"name\":\"False\",\"orientation\":\"v\",\"showlegend\":true,\"x\":[62.1,138.8,229.9,51.52,125.0,161.6,49.300000000000004,64.98,159.9,31.0,247.0,70.2,201.60000000000002,138.9,170.60000000000002,9.3,168.4,80.7,129.1,30.6,191.5,46.1,158.8,69.2,111.80000000000001,176.5,66.2,222.2,160.9,51.1,188.3,233.1,25.8,192.8,26.0,184.20000000000002,44.1,40.900000000000006,81.4,57.56,167.5,172.8,125.5,227.0,228.0,28.1,179.4,178.6,44.2,16.1,38.8,29.500000000000004,57.7,28.900000000000002],\"xaxis\":\"x\",\"y\":[101.89432687089922,116.03207378004669,157.4952893469926,105.50856951769464,97.21073187720569,118.31918892579253,99.78226439629934,123.56665856540276,113.744657426773,69.16880930976825,144.49296628635574,98.43094696090813,147.0246322673581,108.36169799770002,100.56590734698548,96.00216924863739,123.21033858642267,65.03640582377324,110.02328396426988,50.461105454704494,103.81918715316375,66.08127395188376,132.70428164911246,89.46736522644159,88.09844127005115,134.10653723402248,78.29467166346267,139.99336596206876,133.92151924990236,96.33931327804888,114.48767749875837,175.81605724395462,71.00611935049218,121.18764179841199,91.65773650926675,123.68172438519086,97.92386491245166,102.13215705945905,113.85918936918215,75.03670884466032,127.86849678153207,143.44623244673895,106.43514546904089,158.57785378609591,154.32163453055148,61.970056177376726,109.70802416999686,134.8131697729207,82.30681960767816,85.76168712223193,62.57326547124957,66.53853055529714,75.64629340919952,68.19264019072533],\"yaxis\":\"y\",\"type\":\"scatter\"},{\"customdata\":[[\"Jerricho Cotchery\",2014,119.7],[\"Roddy White\",2014,87.10000000000001],[\"Seth Roberts\",2018,47.5],[\"Keenan Allen\",2014,150.6],[\"Kendall Wright\",2015,110.9],[\"Darnell Mooney\",2021,91.1],[\"DeVante Parker\",2019,36.9],[\"Nate Washington\",2013,98.60000000000001],[\"Greg Jennings\",2015,110.2],[\"Cordarrelle Patterson\",2020,24.6],[\"Ted Ginn\",2015,26.0],[\"Randall Cobb\",2015,204.4],[\"Marquez Valdes-Scantling\",2022,61.0],[\"John Brown\",2019,101.9],[\"Jordy Nelson\",2018,84.2],[\"Kenny Golladay\",2018,66.6],[\"DK Metcalf\",2021,188.3],[\"Corey Brown\",2015,57.1],[\"Zay Jones\",2020,21.900000000000002],[\"Alshon Jeffery\",2018,138.9],[\"Braxton Berrios\",2022,75.1],[\"Sterling Shepard\",2017,119.4],[\"Anquan Boldin\",2015,136.60000000000002],[\"Jermaine Kearse\",2014,58.6],[\"A.J. Green\",2014,208.60000000000002],[\"Cordarrelle Patterson\",2014,116.7],[\"Tim Patrick\",2021,110.2],[\"Robert Woods\",2017,67.89999999999999],[\"Steve Smith\",2014,98.5],[\"Donte Moncrief\",2018,51.1],[\"Bennie Fowler\",2016,20.3],[\"Jermaine Kearse\",2018,111.0],[\"Odell Beckham\",2019,155.34],[\"DeSean Jackson\",2017,124.50000000000001],[\"Jamison Crowder\",2017,130.5],[\"Robert Woods\",2015,99.9],[\"Robert Woods\",2018,107.30000000000001],[\"Mike Williams\",2019,137.2],[\"Stefon Diggs\",2019,164.3],[\"Russell Gage\",2020,51.800000000000004],[\"DaeSean Hamilton\",2020,35.7],[\"Jarvis Landry\",2016,165.36],[\"Tyler Lockett\",2019,165.4],[\"Breshad Perriman\",2020,102.1],[\"Isaiah McKenzie\",2022,34.5],[\"Mike Wallace\",2016,59.900000000000006],[\"Darnell Mooney\",2022,138.70000000000002],[\"Jarvis Landry\",2021,115.96000000000001],[\"JuJu Smith-Schuster\",2020,71.2],[\"DeAndre Hopkins\",2017,119.4],[\"Aldrick Robinson\",2018,38.0],[\"Marques Colston\",2015,118.2],[\"Robby Anderson\",2022,85.5],[\"Doug Baldwin\",2015,101.3],[\"Jamison Crowder\",2021,113.02],[\"Kendrick Bourne\",2018,25.700000000000003],[\"Malcom Floyd\",2015,121.60000000000001],[\"Isaiah McKenzie\",2020,36.300000000000004],[\"Mack Hollins\",2022,46.3],[\"J.J. Nelson\",2017,105.10000000000001],[\"Kendall Wright\",2017,61.1],[\"Mike Williams\",2022,170.60000000000002],[\"Brandin Cooks\",2019,163.20000000000002],[\"Jarius Wright\",2014,61.4],[\"Devin Duvernay\",2022,44.199999999999996],[\"D.J. Chark\",2019,15.400000000000002],[\"Hunter Renfrow\",2022,156.10000000000002],[\"James Washington\",2019,27.700000000000003],[\"Hakeem Nicks\",2013,87.2],[\"Travis Benjamin\",2015,50.50000000000001],[\"Marques Colston\",2014,124.30000000000001],[\"Brandin Cooks\",2021,151.0],[\"Marvin Jones\",2016,108.9],[\"Brian Hartline\",2015,59.4],[\"Mecole Hardman\",2020,97.5],[\"Amari Cooper\",2020,167.5],[\"Miles Austin\",2014,24.400000000000002],[\"Marques Colston\",2013,171.4],[\"Albert Wilson\",2017,50.900000000000006],[\"Rishard Matthews\",2015,25.8],[\"Larry Fitzgerald\",2015,88.4],[\"Sterling Shepard\",2020,84.80000000000001],[\"Sammy Watkins\",2019,75.10000000000001],[\"James Jones\",2014,97.7],[\"David Moore\",2020,42.6],[\"Calvin Johnson\",2014,219.20000000000002],[\"Brian Quick\",2013,27.6],[\"Seth Roberts\",2017,73.7],[\"T.Y. Hilton\",2021,108.2],[\"Travis Benjamin\",2016,131.8],[\"Kenny Britt\",2016,86.10000000000001],[\"Tyrell Williams\",2018,94.8]],\"hovertemplate\":\"Direction_Correct=True\\u003cbr\\u003eActual=%{x}\\u003cbr\\u003ePredicted=%{y}\\u003cbr\\u003ePlayer_Name=%{customdata[0]}\\u003cbr\\u003eCurrent_Season=%{customdata[1]}\\u003cbr\\u003ePrevious_Season_Fantasy=%{customdata[2]}\\u003cextra\\u003e\\u003c\\u002fextra\\u003e\",\"legendgroup\":\"True\",\"marker\":{\"color\":\"green\",\"symbol\":\"circle\"},\"mode\":\"markers\",\"name\":\"True\",\"orientation\":\"v\",\"showlegend\":true,\"x\":[66.0,132.1,61.9,100.3,60.50000000000001,138.70000000000002,174.2,109.9,26.8,48.400000000000006,139.9,123.9,80.4,147.82000000000002,93.7,137.1,169.3,72.5,22.560000000000002,120.3,39.68,85.5,100.9,61.88,136.3,62.1,103.4,107.30000000000001,140.5,82.8,26.5,43.1,129.3,88.60000000000001,98.3,71.2,179.6,112.30000000000001,149.1,109.06,39.300000000000004,139.3,153.20000000000002,69.10000000000001,77.8,130.8,61.5,81.0,137.1,213.8,53.1,76.0,32.2,190.9,58.7,72.7,72.10000000000001,69.58,97.16000000000001,64.5,67.4,113.5,75.5,77.9,79.1,152.8,43.0,89.5,89.60000000000001,131.8,118.2,141.8,117.3,64.3,89.10000000000001,144.8,68.80000000000001,124.30000000000001,74.0,90.60000000000001,171.5,96.5,86.5,100.60000000000001,83.80000000000001,155.70000000000002,42.2,47.5,51.1,87.4,128.2,96.8],\"xaxis\":\"x\",\"y\":[84.04842986419322,93.39357750271074,70.04805279147054,130.06546128269213,106.74132712864295,92.63851629843303,75.91775431396317,102.40904421626117,100.45378079721954,37.17987878135028,46.32471445517933,151.43881422807814,90.04143976724555,101.94371337246334,84.5382143244141,88.31726161749195,147.25935573135234,60.62752184603128,54.60830180126258,106.69454674649555,71.28587869075669,93.5578253687213,132.4833616693474,66.28168131292324,161.37892338379584,77.81773556678604,98.67721241155219,92.69782079921413,107.46408649850613,75.86828669665476,46.564105632221214,109.07547872099927,145.62393541686106,120.6963811656916,103.29400755302501,94.03117749914958,118.81077208737736,91.03613361198009,130.1522824897889,66.78735468374634,66.00783065532707,136.6632458498409,118.76634716173848,84.95604853792571,44.477587592787216,86.35045017040139,134.8605978970206,114.34847171824612,92.84817397900329,122.29622443423793,52.88863431694335,108.02167233061209,84.61541647384384,115.26704306469549,106.47522496915317,61.87883883509905,105.82336045677056,58.831446774566196,52.16911290948755,86.73088242840741,72.67921071568045,133.3288999273939,138.9174959462741,68.07657411110554,53.61443103029339,50.65913183123991,117.18316087080095,54.28144311918424,108.65220023610716,60.99377879708376,110.00846480715634,135.496071068942,114.38561038737149,70.5123733937583,79.67001569422004,123.86676435644036,56.943456129068416,120.53545873766663,61.638346155593,45.07914853165066,105.46553152421578,97.12612579466294,86.49384279540294,113.97490677673609,61.747030701289724,171.3472824354539,43.34391659294187,69.6160569357403,107.2821543419918,121.15847181423561,98.8172625104891,99.90153111829693],\"yaxis\":\"y\",\"type\":\"scatter\"}],                        {\"template\":{\"data\":{\"histogram2dcontour\":[{\"type\":\"histogram2dcontour\",\"colorbar\":{\"outlinewidth\":0,\"ticks\":\"\"},\"colorscale\":[[0.0,\"#0d0887\"],[0.1111111111111111,\"#46039f\"],[0.2222222222222222,\"#7201a8\"],[0.3333333333333333,\"#9c179e\"],[0.4444444444444444,\"#bd3786\"],[0.5555555555555556,\"#d8576b\"],[0.6666666666666666,\"#ed7953\"],[0.7777777777777778,\"#fb9f3a\"],[0.8888888888888888,\"#fdca26\"],[1.0,\"#f0f921\"]]}],\"choropleth\":[{\"type\":\"choropleth\",\"colorbar\":{\"outlinewidth\":0,\"ticks\":\"\"}}],\"histogram2d\":[{\"type\":\"histogram2d\",\"colorbar\":{\"outlinewidth\":0,\"ticks\":\"\"},\"colorscale\":[[0.0,\"#0d0887\"],[0.1111111111111111,\"#46039f\"],[0.2222222222222222,\"#7201a8\"],[0.3333333333333333,\"#9c179e\"],[0.4444444444444444,\"#bd3786\"],[0.5555555555555556,\"#d8576b\"],[0.6666666666666666,\"#ed7953\"],[0.7777777777777778,\"#fb9f3a\"],[0.8888888888888888,\"#fdca26\"],[1.0,\"#f0f921\"]]}],\"heatmap\":[{\"type\":\"heatmap\",\"colorbar\":{\"outlinewidth\":0,\"ticks\":\"\"},\"colorscale\":[[0.0,\"#0d0887\"],[0.1111111111111111,\"#46039f\"],[0.2222222222222222,\"#7201a8\"],[0.3333333333333333,\"#9c179e\"],[0.4444444444444444,\"#bd3786\"],[0.5555555555555556,\"#d8576b\"],[0.6666666666666666,\"#ed7953\"],[0.7777777777777778,\"#fb9f3a\"],[0.8888888888888888,\"#fdca26\"],[1.0,\"#f0f921\"]]}],\"heatmapgl\":[{\"type\":\"heatmapgl\",\"colorbar\":{\"outlinewidth\":0,\"ticks\":\"\"},\"colorscale\":[[0.0,\"#0d0887\"],[0.1111111111111111,\"#46039f\"],[0.2222222222222222,\"#7201a8\"],[0.3333333333333333,\"#9c179e\"],[0.4444444444444444,\"#bd3786\"],[0.5555555555555556,\"#d8576b\"],[0.6666666666666666,\"#ed7953\"],[0.7777777777777778,\"#fb9f3a\"],[0.8888888888888888,\"#fdca26\"],[1.0,\"#f0f921\"]]}],\"contourcarpet\":[{\"type\":\"contourcarpet\",\"colorbar\":{\"outlinewidth\":0,\"ticks\":\"\"}}],\"contour\":[{\"type\":\"contour\",\"colorbar\":{\"outlinewidth\":0,\"ticks\":\"\"},\"colorscale\":[[0.0,\"#0d0887\"],[0.1111111111111111,\"#46039f\"],[0.2222222222222222,\"#7201a8\"],[0.3333333333333333,\"#9c179e\"],[0.4444444444444444,\"#bd3786\"],[0.5555555555555556,\"#d8576b\"],[0.6666666666666666,\"#ed7953\"],[0.7777777777777778,\"#fb9f3a\"],[0.8888888888888888,\"#fdca26\"],[1.0,\"#f0f921\"]]}],\"surface\":[{\"type\":\"surface\",\"colorbar\":{\"outlinewidth\":0,\"ticks\":\"\"},\"colorscale\":[[0.0,\"#0d0887\"],[0.1111111111111111,\"#46039f\"],[0.2222222222222222,\"#7201a8\"],[0.3333333333333333,\"#9c179e\"],[0.4444444444444444,\"#bd3786\"],[0.5555555555555556,\"#d8576b\"],[0.6666666666666666,\"#ed7953\"],[0.7777777777777778,\"#fb9f3a\"],[0.8888888888888888,\"#fdca26\"],[1.0,\"#f0f921\"]]}],\"mesh3d\":[{\"type\":\"mesh3d\",\"colorbar\":{\"outlinewidth\":0,\"ticks\":\"\"}}],\"scatter\":[{\"fillpattern\":{\"fillmode\":\"overlay\",\"size\":10,\"solidity\":0.2},\"type\":\"scatter\"}],\"parcoords\":[{\"type\":\"parcoords\",\"line\":{\"colorbar\":{\"outlinewidth\":0,\"ticks\":\"\"}}}],\"scatterpolargl\":[{\"type\":\"scatterpolargl\",\"marker\":{\"colorbar\":{\"outlinewidth\":0,\"ticks\":\"\"}}}],\"bar\":[{\"error_x\":{\"color\":\"#2a3f5f\"},\"error_y\":{\"color\":\"#2a3f5f\"},\"marker\":{\"line\":{\"color\":\"#E5ECF6\",\"width\":0.5},\"pattern\":{\"fillmode\":\"overlay\",\"size\":10,\"solidity\":0.2}},\"type\":\"bar\"}],\"scattergeo\":[{\"type\":\"scattergeo\",\"marker\":{\"colorbar\":{\"outlinewidth\":0,\"ticks\":\"\"}}}],\"scatterpolar\":[{\"type\":\"scatterpolar\",\"marker\":{\"colorbar\":{\"outlinewidth\":0,\"ticks\":\"\"}}}],\"histogram\":[{\"marker\":{\"pattern\":{\"fillmode\":\"overlay\",\"size\":10,\"solidity\":0.2}},\"type\":\"histogram\"}],\"scattergl\":[{\"type\":\"scattergl\",\"marker\":{\"colorbar\":{\"outlinewidth\":0,\"ticks\":\"\"}}}],\"scatter3d\":[{\"type\":\"scatter3d\",\"line\":{\"colorbar\":{\"outlinewidth\":0,\"ticks\":\"\"}},\"marker\":{\"colorbar\":{\"outlinewidth\":0,\"ticks\":\"\"}}}],\"scattermapbox\":[{\"type\":\"scattermapbox\",\"marker\":{\"colorbar\":{\"outlinewidth\":0,\"ticks\":\"\"}}}],\"scatterternary\":[{\"type\":\"scatterternary\",\"marker\":{\"colorbar\":{\"outlinewidth\":0,\"ticks\":\"\"}}}],\"scattercarpet\":[{\"type\":\"scattercarpet\",\"marker\":{\"colorbar\":{\"outlinewidth\":0,\"ticks\":\"\"}}}],\"carpet\":[{\"aaxis\":{\"endlinecolor\":\"#2a3f5f\",\"gridcolor\":\"white\",\"linecolor\":\"white\",\"minorgridcolor\":\"white\",\"startlinecolor\":\"#2a3f5f\"},\"baxis\":{\"endlinecolor\":\"#2a3f5f\",\"gridcolor\":\"white\",\"linecolor\":\"white\",\"minorgridcolor\":\"white\",\"startlinecolor\":\"#2a3f5f\"},\"type\":\"carpet\"}],\"table\":[{\"cells\":{\"fill\":{\"color\":\"#EBF0F8\"},\"line\":{\"color\":\"white\"}},\"header\":{\"fill\":{\"color\":\"#C8D4E3\"},\"line\":{\"color\":\"white\"}},\"type\":\"table\"}],\"barpolar\":[{\"marker\":{\"line\":{\"color\":\"#E5ECF6\",\"width\":0.5},\"pattern\":{\"fillmode\":\"overlay\",\"size\":10,\"solidity\":0.2}},\"type\":\"barpolar\"}],\"pie\":[{\"automargin\":true,\"type\":\"pie\"}]},\"layout\":{\"autotypenumbers\":\"strict\",\"colorway\":[\"#636efa\",\"#EF553B\",\"#00cc96\",\"#ab63fa\",\"#FFA15A\",\"#19d3f3\",\"#FF6692\",\"#B6E880\",\"#FF97FF\",\"#FECB52\"],\"font\":{\"color\":\"#2a3f5f\"},\"hovermode\":\"closest\",\"hoverlabel\":{\"align\":\"left\"},\"paper_bgcolor\":\"white\",\"plot_bgcolor\":\"#E5ECF6\",\"polar\":{\"bgcolor\":\"#E5ECF6\",\"angularaxis\":{\"gridcolor\":\"white\",\"linecolor\":\"white\",\"ticks\":\"\"},\"radialaxis\":{\"gridcolor\":\"white\",\"linecolor\":\"white\",\"ticks\":\"\"}},\"ternary\":{\"bgcolor\":\"#E5ECF6\",\"aaxis\":{\"gridcolor\":\"white\",\"linecolor\":\"white\",\"ticks\":\"\"},\"baxis\":{\"gridcolor\":\"white\",\"linecolor\":\"white\",\"ticks\":\"\"},\"caxis\":{\"gridcolor\":\"white\",\"linecolor\":\"white\",\"ticks\":\"\"}},\"coloraxis\":{\"colorbar\":{\"outlinewidth\":0,\"ticks\":\"\"}},\"colorscale\":{\"sequential\":[[0.0,\"#0d0887\"],[0.1111111111111111,\"#46039f\"],[0.2222222222222222,\"#7201a8\"],[0.3333333333333333,\"#9c179e\"],[0.4444444444444444,\"#bd3786\"],[0.5555555555555556,\"#d8576b\"],[0.6666666666666666,\"#ed7953\"],[0.7777777777777778,\"#fb9f3a\"],[0.8888888888888888,\"#fdca26\"],[1.0,\"#f0f921\"]],\"sequentialminus\":[[0.0,\"#0d0887\"],[0.1111111111111111,\"#46039f\"],[0.2222222222222222,\"#7201a8\"],[0.3333333333333333,\"#9c179e\"],[0.4444444444444444,\"#bd3786\"],[0.5555555555555556,\"#d8576b\"],[0.6666666666666666,\"#ed7953\"],[0.7777777777777778,\"#fb9f3a\"],[0.8888888888888888,\"#fdca26\"],[1.0,\"#f0f921\"]],\"diverging\":[[0,\"#8e0152\"],[0.1,\"#c51b7d\"],[0.2,\"#de77ae\"],[0.3,\"#f1b6da\"],[0.4,\"#fde0ef\"],[0.5,\"#f7f7f7\"],[0.6,\"#e6f5d0\"],[0.7,\"#b8e186\"],[0.8,\"#7fbc41\"],[0.9,\"#4d9221\"],[1,\"#276419\"]]},\"xaxis\":{\"gridcolor\":\"white\",\"linecolor\":\"white\",\"ticks\":\"\",\"title\":{\"standoff\":15},\"zerolinecolor\":\"white\",\"automargin\":true,\"zerolinewidth\":2},\"yaxis\":{\"gridcolor\":\"white\",\"linecolor\":\"white\",\"ticks\":\"\",\"title\":{\"standoff\":15},\"zerolinecolor\":\"white\",\"automargin\":true,\"zerolinewidth\":2},\"scene\":{\"xaxis\":{\"backgroundcolor\":\"#E5ECF6\",\"gridcolor\":\"white\",\"linecolor\":\"white\",\"showbackground\":true,\"ticks\":\"\",\"zerolinecolor\":\"white\",\"gridwidth\":2},\"yaxis\":{\"backgroundcolor\":\"#E5ECF6\",\"gridcolor\":\"white\",\"linecolor\":\"white\",\"showbackground\":true,\"ticks\":\"\",\"zerolinecolor\":\"white\",\"gridwidth\":2},\"zaxis\":{\"backgroundcolor\":\"#E5ECF6\",\"gridcolor\":\"white\",\"linecolor\":\"white\",\"showbackground\":true,\"ticks\":\"\",\"zerolinecolor\":\"white\",\"gridwidth\":2}},\"shapedefaults\":{\"line\":{\"color\":\"#2a3f5f\"}},\"annotationdefaults\":{\"arrowcolor\":\"#2a3f5f\",\"arrowhead\":0,\"arrowwidth\":1},\"geo\":{\"bgcolor\":\"white\",\"landcolor\":\"#E5ECF6\",\"subunitcolor\":\"white\",\"showland\":true,\"showlakes\":true,\"lakecolor\":\"white\"},\"title\":{\"x\":0.05},\"mapbox\":{\"style\":\"light\"}}},\"xaxis\":{\"anchor\":\"y\",\"domain\":[0.0,1.0],\"title\":{\"text\":\"Actual Fantasy Production\"}},\"yaxis\":{\"anchor\":\"x\",\"domain\":[0.0,1.0],\"title\":{\"text\":\"Predicted Fantasy Production\"}},\"legend\":{\"title\":{\"text\":\"Direction_Correct\"},\"tracegroupgap\":0},\"margin\":{\"t\":60},\"shapes\":[{\"line\":{\"dash\":\"dash\"},\"type\":\"line\",\"x0\":9.3,\"x1\":247.0,\"y0\":9.3,\"y1\":247.0}],\"title\":{\"text\":\"Actual vs Predicted Fantasy Production (MLR - New Metric)\"},\"showlegend\":false},                        {\"responsive\": true}                    ).then(function(){\n",
       "                            \n",
       "var gd = document.getElementById('d9a9ac24-05e6-4d67-915d-96bb3335da1d');\n",
       "var x = new MutationObserver(function (mutations, observer) {{\n",
       "        var display = window.getComputedStyle(gd).display;\n",
       "        if (!display || display === 'none') {{\n",
       "            console.log([gd, 'removed!']);\n",
       "            Plotly.purge(gd);\n",
       "            observer.disconnect();\n",
       "        }}\n",
       "}});\n",
       "\n",
       "// Listen for the removal of the full notebook cells\n",
       "var notebookContainer = gd.closest('#notebook-container');\n",
       "if (notebookContainer) {{\n",
       "    x.observe(notebookContainer, {childList: true});\n",
       "}}\n",
       "\n",
       "// Listen for the clearing of the current output cell\n",
       "var outputEl = gd.closest('.output');\n",
       "if (outputEl) {{\n",
       "    x.observe(outputEl, {childList: true});\n",
       "}}\n",
       "\n",
       "                        })                };                });            </script>        </div>"
      ]
     },
     "metadata": {},
     "output_type": "display_data"
    }
   ],
   "source": [
    "# Creating the scatter plot\n",
    "fig = px.scatter(df_error_graph_mlr, x='Actual', y='Predicted', color=\"Direction_Correct\",\n",
    "                color_discrete_map={True: 'green', False: 'red'}, hover_data=['Player_Name', 'Current_Season',\n",
    "                                                                              'Previous_Season_Fantasy'])\n",
    "\n",
    "# Adding line of equality (where actual equals predicted)\n",
    "fig.add_shape(\n",
    "    type='line',\n",
    "    line=dict(dash='dash'),\n",
    "    x0=df_error_graph_mlr['Actual'].min(),\n",
    "    y0=df_error_graph_mlr['Actual'].min(),\n",
    "    x1=df_error_graph_mlr['Actual'].max(),\n",
    "    y1=df_error_graph_mlr['Actual'].max()\n",
    ")\n",
    "\n",
    "# Updating layout\n",
    "fig.update_layout(\n",
    "    title='Actual vs Predicted Fantasy Production (MLR - New Metric)',\n",
    "    xaxis_title='Actual Fantasy Production',\n",
    "    yaxis_title='Predicted Fantasy Production',\n",
    "    showlegend=False\n",
    ")\n",
    "\n",
    "fig.write_html(\"../../interactive/WR/stability/season/new-metric-mlr.html\")\n",
    "\n",
    "# Show the plot\n",
    "fig.show()"
   ]
  },
  {
   "cell_type": "code",
   "execution_count": 156,
   "id": "c19f2f27",
   "metadata": {},
   "outputs": [
    {
     "name": "stdout",
     "output_type": "stream",
     "text": [
      "Total irrelevant: 82\n",
      "Total irrelevant direction correct: 56\n",
      "Percent direction correct: 68.30000000000001%\n",
      "\n",
      "Total relevant: 64\n",
      "Total relevant direction correct: 36\n",
      "Percent direction correct: 56.2%\n",
      "\n",
      "Total: 146\n",
      "Total direction correct: 92\n",
      "Percent direction correct: 63.0%\n"
     ]
    }
   ],
   "source": [
    "total_irrel = len(df_error_graph_mlr.query(\"Actual <= 101\"))\n",
    "total_irrel_correct = len(df_error_graph_mlr.query(\"Actual <= 101 and Direction_Correct == True\"))\n",
    "print(f\"Total irrelevant: {total_irrel}\")\n",
    "print(f\"Total irrelevant direction correct: {total_irrel_correct}\")\n",
    "print(f\"Percent direction correct: {round(total_irrel_correct / total_irrel, 3) * 100}%\")\n",
    "\n",
    "print()\n",
    "total_rel = len(df_error_graph_mlr.query(\"Actual >= 101\"))\n",
    "total_rel_correct = len(df_error_graph_mlr.query(\"Actual >= 101 and Direction_Correct == True\"))\n",
    "print(f\"Total relevant: {total_rel}\")\n",
    "print(f\"Total relevant direction correct: {total_rel_correct}\")\n",
    "print(f\"Percent direction correct: {round(total_rel_correct / total_rel, 3) * 100}%\")\n",
    "\n",
    "print()\n",
    "total = len(df_error_graph_mlr)\n",
    "total_dir_correct = len(df_error_graph_mlr.query(\"Direction_Correct == True\"))\n",
    "print(f\"Total: {total}\")\n",
    "print(f\"Total direction correct: {total_dir_correct}\")\n",
    "print(f\"Percent direction correct: {round(total_dir_correct / total, 3) * 100}%\")"
   ]
  },
  {
   "cell_type": "markdown",
   "id": "fb6df9e0",
   "metadata": {},
   "source": [
    "## Random Forest"
   ]
  },
  {
   "cell_type": "code",
   "execution_count": 157,
   "id": "056ddd2b",
   "metadata": {},
   "outputs": [],
   "source": [
    "from sklearn.ensemble import RandomForestRegressor"
   ]
  },
  {
   "cell_type": "code",
   "execution_count": 158,
   "id": "5e0aa4dc",
   "metadata": {},
   "outputs": [],
   "source": [
    "start = 1\n",
    "stop = 15 + 1"
   ]
  },
  {
   "cell_type": "code",
   "execution_count": 159,
   "id": "c94423b3",
   "metadata": {},
   "outputs": [],
   "source": [
    "best_score = 0\n",
    "best_model = None"
   ]
  },
  {
   "cell_type": "code",
   "execution_count": 160,
   "id": "d1cd8263",
   "metadata": {},
   "outputs": [
    {
     "name": "stdout",
     "output_type": "stream",
     "text": [
      "New best score: 0.3535607804145986\n",
      "New best score: 0.3862389230220321\n",
      "\n",
      "Done :)\n"
     ]
    }
   ],
   "source": [
    "for depth in range(start, stop):\n",
    "    rfr = RandomForestRegressor(max_depth=depth, random_state=0)\n",
    "    rfr.fit(X_train_scaled, y_train)\n",
    "    \n",
    "    score = rfr.score(X_test_scaled, y_test)\n",
    "    if score > best_score:\n",
    "        print(f\"New best score: {score}\")\n",
    "        best_score = score\n",
    "        best_model = rfr\n",
    "        \n",
    "print(\"\\nDone :)\")"
   ]
  },
  {
   "cell_type": "code",
   "execution_count": 161,
   "id": "7ed09c36",
   "metadata": {},
   "outputs": [],
   "source": [
    "df_error_graph_rfr = pd.DataFrame({\n",
    "    'Actual': y_test,\n",
    "    'Predicted': rfr.predict(X_test_scaled),\n",
    "    'Previous_Season_Fantasy': previous_season_points,\n",
    "    'Player_Name': player_names,\n",
    "    'Current_Season': season\n",
    "})"
   ]
  },
  {
   "cell_type": "code",
   "execution_count": 162,
   "id": "cf38192b",
   "metadata": {},
   "outputs": [],
   "source": [
    "df_error_graph_rfr['Actual_Change'] = df_error_graph_rfr['Actual'] - df_error_graph_rfr['Previous_Season_Fantasy']\n",
    "df_error_graph_rfr['Predicted_Change'] = df_error_graph_rfr['Predicted'] - df_error_graph_rfr['Previous_Season_Fantasy']"
   ]
  },
  {
   "cell_type": "code",
   "execution_count": 163,
   "id": "f9426bb5",
   "metadata": {},
   "outputs": [],
   "source": [
    "# Apply the function\n",
    "df_error_graph_rfr['Direction_Correct'] = df_error_graph_rfr.apply(change_direction_correct, axis=1)"
   ]
  },
  {
   "cell_type": "code",
   "execution_count": 164,
   "id": "c51f2855",
   "metadata": {},
   "outputs": [
    {
     "data": {
      "application/vnd.plotly.v1+json": {
       "config": {
        "plotlyServerURL": "https://plot.ly"
       },
       "data": [
        {
         "customdata": [
          [
           "Randall Cobb",
           2020,
           99.9
          ],
          [
           "Torrey Smith",
           2013,
           134.4
          ],
          [
           "Jerricho Cotchery",
           2014,
           119.7
          ],
          [
           "Roddy White",
           2014,
           87.10000000000001
          ],
          [
           "Kendall Wright",
           2015,
           110.9
          ],
          [
           "Nate Washington",
           2013,
           98.60000000000001
          ],
          [
           "Greg Jennings",
           2015,
           110.2
          ],
          [
           "Cordarrelle Patterson",
           2020,
           24.6
          ],
          [
           "Demaryius Thomas",
           2014,
           227
          ],
          [
           "Golden Tate",
           2020,
           103.2
          ],
          [
           "Marquez Valdes-Scantling",
           2022,
           61
          ],
          [
           "Marquise Brown",
           2020,
           100.4
          ],
          [
           "Jordy Nelson",
           2018,
           84.2
          ],
          [
           "Amon-Ra St. Brown",
           2022,
           137.3
          ],
          [
           "Demaryius Thomas",
           2019,
           97.7
          ],
          [
           "Cecil Shorts",
           2014,
           95.7
          ],
          [
           "Braxton Berrios",
           2022,
           75.1
          ],
          [
           "Jermaine Kearse",
           2014,
           58.6
          ],
          [
           "T.J. Jones",
           2018,
           47.900000000000006
          ],
          [
           "Donnie Avery",
           2013,
           97
          ],
          [
           "Steve Smith",
           2014,
           98.5
          ],
          [
           "T.Y. Hilton",
           2013,
           137
          ],
          [
           "Robert Foster",
           2019,
           72.1
          ],
          [
           "Tyler Lockett",
           2021,
           165.4
          ],
          [
           "Kendrick Bourne",
           2020,
           67.8
          ],
          [
           "Robby Anderson",
           2020,
           110.3
          ],
          [
           "Andre Holmes",
           2016,
           44.1
          ],
          [
           "Robert Woods",
           2015,
           99.9
          ],
          [
           "Calvin Ridley",
           2020,
           134
          ],
          [
           "Brandon Coleman",
           2016,
           57.400000000000006
          ],
          [
           "Rueben Randle",
           2014,
           97.10000000000001
          ],
          [
           "T.Y. Hilton",
           2014,
           138.9
          ],
          [
           "Jalen Guyton",
           2021,
           69.1
          ],
          [
           "Tyreek Hill",
           2022,
           185.5
          ],
          [
           "Allen Robinson",
           2020,
           156.9
          ],
          [
           "Darnell Mooney",
           2022,
           138.70000000000002
          ],
          [
           "JuJu Smith-Schuster",
           2020,
           71.2
          ],
          [
           "Elijah Moore",
           2022,
           95.2
          ],
          [
           "Marques Colston",
           2015,
           118.2
          ],
          [
           "Rishard Matthews",
           2014,
           56.800000000000004
          ],
          [
           "Eric Decker",
           2013,
           184.4
          ],
          [
           "Mack Hollins",
           2022,
           46.3
          ],
          [
           "Jaylen Waddle",
           2022,
           143.8
          ],
          [
           "Damiere Byrd",
           2021,
           67.9
          ],
          [
           "Terrance Williams",
           2016,
           102
          ],
          [
           "Amari Cooper",
           2019,
           140.5
          ],
          [
           "DeAndre Hopkins",
           2020,
           164.54000000000002
          ],
          [
           "Cole Beasley",
           2020,
           117.80000000000001
          ],
          [
           "Marvin Jones",
           2016,
           108.9
          ],
          [
           "Mecole Hardman",
           2020,
           97.5
          ],
          [
           "Dez Bryant",
           2014,
           199.4
          ],
          [
           "Russell Shepard",
           2017,
           47
          ],
          [
           "Sammy Watkins",
           2019,
           75.10000000000001
          ],
          [
           "Jordy Nelson",
           2013,
           118.50000000000001
          ],
          [
           "Mike Evans",
           2020,
           165.70000000000002
          ],
          [
           "Damiere Byrd",
           2022,
           40.900000000000006
          ],
          [
           "Nick Westbrook-Ikhine",
           2022,
           69.6
          ],
          [
           "Jarius Wright",
           2019,
           54.6
          ]
         ],
         "hovertemplate": "Direction_Correct=False<br>Actual=%{x}<br>Predicted=%{y}<br>Player_Name=%{customdata[0]}<br>Current_Season=%{customdata[1]}<br>Previous_Season_Fantasy=%{customdata[2]}<extra></extra>",
         "legendgroup": "False",
         "marker": {
          "color": "red",
          "symbol": "circle"
         },
         "mode": "markers",
         "name": "False",
         "orientation": "v",
         "showlegend": true,
         "type": "scatter",
         "x": [
          62.1,
          138.8,
          66,
          132.1,
          60.50000000000001,
          109.9,
          26.8,
          48.400000000000006,
          229.9,
          51.52,
          80.4,
          125,
          93.7,
          161.6,
          49.300000000000004,
          64.98,
          39.68,
          61.88,
          31,
          70.2,
          140.5,
          138.9,
          9.3,
          168.4,
          80.7,
          129.1,
          30.6,
          71.2,
          191.5,
          46.1,
          111.80000000000001,
          176.5,
          66.2,
          222.2,
          160.9,
          61.5,
          137.1,
          51.1,
          76,
          25.8,
          192.8,
          97.16000000000001,
          184.20000000000002,
          40.900000000000006,
          81.4,
          167.5,
          172.8,
          125.5,
          117.3,
          89.10000000000001,
          228,
          28.1,
          86.5,
          179.4,
          178.6,
          38.8,
          57.7,
          28.900000000000002
         ],
         "xaxis": "x",
         "y": [
          103.17860358606606,
          112.76100666666655,
          126.03822273615769,
          69.35286708381963,
          117.73871759373647,
          90.10772635493127,
          118.76621824303969,
          19.654999999999987,
          133.5120000000002,
          132.14769581501113,
          56.13623562548564,
          93.46863914682554,
          68.03420378891099,
          117.19357632832087,
          108.98668490970624,
          141.5728918819379,
          82.38565778960893,
          54.57349978696555,
          75.22410005933106,
          116.98615541666665,
          95.71981606116933,
          112.26762678766504,
          92.91010405483411,
          131.2728592628903,
          67.18289561523389,
          96.1522567266151,
          48.834405333333315,
          120.23217132191483,
          68.88660334677702,
          59.94782756474336,
          87.27280828242444,
          138.321523145589,
          98.02129044044283,
          153.13133830012978,
          136.16752314558897,
          145.2289271255363,
          44.0983021487546,
          154.2499037301589,
          201.40239345433213,
          71.85660144040259,
          112.14778543646307,
          37.507205333333275,
          136.2408823581284,
          91.22220358606606,
          158.58671904761886,
          70.80035738095246,
          108.2862716157033,
          95.08610948058524,
          60.09983333333327,
          98.17139528512462,
          111.39537500000017,
          79.95998099717163,
          63.65224519908429,
          96.39169482185324,
          147.91492712553634,
          55.20951671145722,
          76.0818705631465,
          60.30104053890572
         ],
         "yaxis": "y"
        },
        {
         "customdata": [
          [
           "Seth Roberts",
           2018,
           47.5
          ],
          [
           "Keenan Allen",
           2014,
           150.6
          ],
          [
           "Darnell Mooney",
           2021,
           91.1
          ],
          [
           "DeVante Parker",
           2019,
           36.9
          ],
          [
           "Ted Ginn",
           2015,
           26
          ],
          [
           "Randall Cobb",
           2015,
           204.4
          ],
          [
           "John Brown",
           2019,
           101.9
          ],
          [
           "Kenny Golladay",
           2018,
           66.6
          ],
          [
           "DK Metcalf",
           2021,
           188.3
          ],
          [
           "Corey Brown",
           2015,
           57.1
          ],
          [
           "Zay Jones",
           2020,
           21.900000000000002
          ],
          [
           "Alshon Jeffery",
           2018,
           138.9
          ],
          [
           "Sterling Shepard",
           2017,
           119.4
          ],
          [
           "Anquan Boldin",
           2015,
           136.60000000000002
          ],
          [
           "Christian Kirk",
           2022,
           130.62
          ],
          [
           "A.J. Green",
           2014,
           208.60000000000002
          ],
          [
           "Cordarrelle Patterson",
           2014,
           116.7
          ],
          [
           "Tim Patrick",
           2021,
           110.2
          ],
          [
           "Tyreek Hill",
           2018,
           170.20000000000002
          ],
          [
           "Robert Woods",
           2017,
           67.89999999999999
          ],
          [
           "Stefon Diggs",
           2020,
           149.1
          ],
          [
           "Donte Moncrief",
           2018,
           51.1
          ],
          [
           "Mike Williams",
           2021,
           105.7
          ],
          [
           "Bennie Fowler",
           2016,
           20.3
          ],
          [
           "Jermaine Kearse",
           2018,
           111
          ],
          [
           "Odell Beckham",
           2019,
           155.34
          ],
          [
           "DeSean Jackson",
           2017,
           124.50000000000001
          ],
          [
           "Jamison Crowder",
           2017,
           130.5
          ],
          [
           "Robert Woods",
           2018,
           107.30000000000001
          ],
          [
           "Mike Williams",
           2019,
           137.2
          ],
          [
           "Stefon Diggs",
           2019,
           164.3
          ],
          [
           "Sammy Watkins",
           2015,
           133
          ],
          [
           "Russell Gage",
           2020,
           51.800000000000004
          ],
          [
           "DaeSean Hamilton",
           2020,
           35.7
          ],
          [
           "Kalif Raymond",
           2022,
           84.4
          ],
          [
           "Jarvis Landry",
           2016,
           165.36
          ],
          [
           "Tyler Lockett",
           2019,
           165.4
          ],
          [
           "Breshad Perriman",
           2020,
           102.1
          ],
          [
           "Isaiah McKenzie",
           2022,
           34.5
          ],
          [
           "Mike Wallace",
           2016,
           59.900000000000006
          ],
          [
           "Jarvis Landry",
           2021,
           115.96000000000001
          ],
          [
           "DeAndre Hopkins",
           2017,
           119.4
          ],
          [
           "Aldrick Robinson",
           2018,
           38
          ],
          [
           "DK Metcalf",
           2020,
           129.1
          ],
          [
           "Julio Jones",
           2015,
           193.4
          ],
          [
           "Robby Anderson",
           2022,
           85.5
          ],
          [
           "Doug Baldwin",
           2015,
           101.3
          ],
          [
           "Jamison Crowder",
           2021,
           113.02
          ],
          [
           "Kendrick Bourne",
           2018,
           25.700000000000003
          ],
          [
           "Malcom Floyd",
           2015,
           121.60000000000001
          ],
          [
           "Danny Amendola",
           2014,
           75.4
          ],
          [
           "Isaiah McKenzie",
           2020,
           36.300000000000004
          ],
          [
           "J.J. Nelson",
           2017,
           105.10000000000001
          ],
          [
           "Kendall Wright",
           2017,
           61.1
          ],
          [
           "Mike Williams",
           2022,
           170.60000000000002
          ],
          [
           "Andre Holmes",
           2015,
           93.30000000000001
          ],
          [
           "Brandin Cooks",
           2019,
           163.20000000000002
          ],
          [
           "Jarius Wright",
           2014,
           61.4
          ],
          [
           "Devin Duvernay",
           2022,
           44.199999999999996
          ],
          [
           "D.J. Chark",
           2019,
           15.400000000000002
          ],
          [
           "Chris Hogan",
           2015,
           62.6
          ],
          [
           "Hunter Renfrow",
           2022,
           156.10000000000002
          ],
          [
           "James Washington",
           2019,
           27.700000000000003
          ],
          [
           "Hakeem Nicks",
           2013,
           87.2
          ],
          [
           "Travis Benjamin",
           2015,
           50.50000000000001
          ],
          [
           "Marques Colston",
           2014,
           124.30000000000001
          ],
          [
           "Brandin Cooks",
           2021,
           151
          ],
          [
           "Demaryius Thomas",
           2013,
           197.4
          ],
          [
           "Brian Hartline",
           2015,
           59.4
          ],
          [
           "Amari Cooper",
           2020,
           167.5
          ],
          [
           "Miles Austin",
           2014,
           24.400000000000002
          ],
          [
           "Marques Colston",
           2013,
           171.4
          ],
          [
           "Albert Wilson",
           2017,
           50.900000000000006
          ],
          [
           "Rishard Matthews",
           2015,
           25.8
          ],
          [
           "Larry Fitzgerald",
           2015,
           88.4
          ],
          [
           "Sterling Shepard",
           2020,
           84.80000000000001
          ],
          [
           "James Jones",
           2014,
           97.7
          ],
          [
           "David Moore",
           2020,
           42.6
          ],
          [
           "Calvin Johnson",
           2014,
           219.20000000000002
          ],
          [
           "Brian Quick",
           2013,
           27.6
          ],
          [
           "Seth Roberts",
           2017,
           73.7
          ],
          [
           "Nelson Agholor",
           2022,
           66.4
          ],
          [
           "Deonte Thompson",
           2018,
           67
          ],
          [
           "T.Y. Hilton",
           2021,
           108.2
          ],
          [
           "Travis Benjamin",
           2016,
           131.8
          ],
          [
           "Kenny Britt",
           2016,
           86.10000000000001
          ],
          [
           "Trent Taylor",
           2018,
           55
          ],
          [
           "Tyrell Williams",
           2018,
           94.8
          ]
         ],
         "hovertemplate": "Direction_Correct=True<br>Actual=%{x}<br>Predicted=%{y}<br>Player_Name=%{customdata[0]}<br>Current_Season=%{customdata[1]}<br>Previous_Season_Fantasy=%{customdata[2]}<extra></extra>",
         "legendgroup": "True",
         "marker": {
          "color": "green",
          "symbol": "circle"
         },
         "mode": "markers",
         "name": "True",
         "orientation": "v",
         "showlegend": true,
         "type": "scatter",
         "x": [
          61.9,
          100.3,
          138.70000000000002,
          174.2,
          139.9,
          123.9,
          147.82000000000002,
          137.1,
          169.3,
          72.5,
          22.560000000000002,
          120.3,
          85.5,
          100.9,
          159.9,
          136.3,
          62.1,
          103.4,
          247,
          107.30000000000001,
          201.60000000000002,
          82.8,
          170.60000000000002,
          26.5,
          43.1,
          129.3,
          88.60000000000001,
          98.3,
          179.6,
          112.30000000000001,
          149.1,
          158.8,
          109.06,
          39.300000000000004,
          69.2,
          139.3,
          153.20000000000002,
          69.10000000000001,
          77.8,
          130.8,
          81,
          213.8,
          53.1,
          188.3,
          233.1,
          32.2,
          190.9,
          58.7,
          72.7,
          72.10000000000001,
          26,
          69.58,
          64.5,
          67.4,
          113.5,
          44.1,
          75.5,
          77.9,
          79.1,
          152.8,
          57.56,
          43,
          89.5,
          89.60000000000001,
          131.8,
          118.2,
          141.8,
          227,
          64.3,
          144.8,
          68.80000000000001,
          124.30000000000001,
          74,
          90.60000000000001,
          171.5,
          96.5,
          100.60000000000001,
          83.80000000000001,
          155.70000000000002,
          42.2,
          47.5,
          44.2,
          16.1,
          51.1,
          87.4,
          128.2,
          29.500000000000004,
          96.8
         ],
         "xaxis": "x",
         "y": [
          72.19659686164809,
          128.5537282705195,
          93.36322118915866,
          52.65651800759097,
          54.80145533333334,
          128.78076479076475,
          106.42235358606605,
          124.49291771965382,
          152.92268055555536,
          74.49872406439842,
          66.57223242955142,
          90.31775948058517,
          89.97150636953398,
          131.518768699974,
          167.86227340659326,
          148.12799999999993,
          90.19448227457352,
          76.63248678921573,
          180.31694949338103,
          97.35122118915871,
          171.93968055555553,
          52.170518007590964,
          118.11821824303968,
          43.01502200000002,
          73.49875926629754,
          115.79678896888134,
          109.52306067455837,
          108.64036566165498,
          144.75910632832085,
          100.39982166534918,
          118.63389510058484,
          157.33892922628968,
          65.41412841944421,
          76.53431954110039,
          51.486485625485685,
          137.5603909731266,
          144.75910632832085,
          76.47398939497162,
          44.791799999999995,
          65.2602451990843,
          60.09983333333327,
          138.63733523663876,
          90.27377199999988,
          130.76266666666658,
          216.16700000000034,
          70.87377878891103,
          163.26225999999994,
          85.48167948058519,
          80.42298099717162,
          71.80552956605524,
          61.39773833201573,
          90.61868642864238,
          82.0955975800367,
          92.5498581690206,
          118.14181978573033,
          82.66850859126993,
          97.31601029382995,
          63.03090165001684,
          74.26715310624317,
          62.10900533333325,
          48.01337248843387,
          105.95637489974928,
          76.09307453481456,
          144.01497465091276,
          55.740714330504886,
          96.1522567266151,
          127.4630686288042,
          210.64299999999992,
          70.12920400450521,
          122.65717124701742,
          46.64236446987957,
          127.65156067455838,
          88.02698099717162,
          45.92879999999998,
          128.3076958150111,
          97.62413914682551,
          155.60871904761882,
          85.94698099717165,
          202.23600000000005,
          56.71179999999995,
          69.7341298212359,
          60.00277680573527,
          50.00190040655839,
          74.46261759373643,
          112.14778543646307,
          101.56501406194302,
          54.87949978696555,
          115.91518490970633
         ],
         "yaxis": "y"
        }
       ],
       "layout": {
        "legend": {
         "title": {
          "text": "Direction_Correct"
         },
         "tracegroupgap": 0
        },
        "margin": {
         "t": 60
        },
        "shapes": [
         {
          "line": {
           "dash": "dash"
          },
          "type": "line",
          "x0": 9.3,
          "x1": 247,
          "y0": 9.3,
          "y1": 247
         }
        ],
        "showlegend": false,
        "template": {
         "data": {
          "bar": [
           {
            "error_x": {
             "color": "#2a3f5f"
            },
            "error_y": {
             "color": "#2a3f5f"
            },
            "marker": {
             "line": {
              "color": "#E5ECF6",
              "width": 0.5
             },
             "pattern": {
              "fillmode": "overlay",
              "size": 10,
              "solidity": 0.2
             }
            },
            "type": "bar"
           }
          ],
          "barpolar": [
           {
            "marker": {
             "line": {
              "color": "#E5ECF6",
              "width": 0.5
             },
             "pattern": {
              "fillmode": "overlay",
              "size": 10,
              "solidity": 0.2
             }
            },
            "type": "barpolar"
           }
          ],
          "carpet": [
           {
            "aaxis": {
             "endlinecolor": "#2a3f5f",
             "gridcolor": "white",
             "linecolor": "white",
             "minorgridcolor": "white",
             "startlinecolor": "#2a3f5f"
            },
            "baxis": {
             "endlinecolor": "#2a3f5f",
             "gridcolor": "white",
             "linecolor": "white",
             "minorgridcolor": "white",
             "startlinecolor": "#2a3f5f"
            },
            "type": "carpet"
           }
          ],
          "choropleth": [
           {
            "colorbar": {
             "outlinewidth": 0,
             "ticks": ""
            },
            "type": "choropleth"
           }
          ],
          "contour": [
           {
            "colorbar": {
             "outlinewidth": 0,
             "ticks": ""
            },
            "colorscale": [
             [
              0,
              "#0d0887"
             ],
             [
              0.1111111111111111,
              "#46039f"
             ],
             [
              0.2222222222222222,
              "#7201a8"
             ],
             [
              0.3333333333333333,
              "#9c179e"
             ],
             [
              0.4444444444444444,
              "#bd3786"
             ],
             [
              0.5555555555555556,
              "#d8576b"
             ],
             [
              0.6666666666666666,
              "#ed7953"
             ],
             [
              0.7777777777777778,
              "#fb9f3a"
             ],
             [
              0.8888888888888888,
              "#fdca26"
             ],
             [
              1,
              "#f0f921"
             ]
            ],
            "type": "contour"
           }
          ],
          "contourcarpet": [
           {
            "colorbar": {
             "outlinewidth": 0,
             "ticks": ""
            },
            "type": "contourcarpet"
           }
          ],
          "heatmap": [
           {
            "colorbar": {
             "outlinewidth": 0,
             "ticks": ""
            },
            "colorscale": [
             [
              0,
              "#0d0887"
             ],
             [
              0.1111111111111111,
              "#46039f"
             ],
             [
              0.2222222222222222,
              "#7201a8"
             ],
             [
              0.3333333333333333,
              "#9c179e"
             ],
             [
              0.4444444444444444,
              "#bd3786"
             ],
             [
              0.5555555555555556,
              "#d8576b"
             ],
             [
              0.6666666666666666,
              "#ed7953"
             ],
             [
              0.7777777777777778,
              "#fb9f3a"
             ],
             [
              0.8888888888888888,
              "#fdca26"
             ],
             [
              1,
              "#f0f921"
             ]
            ],
            "type": "heatmap"
           }
          ],
          "heatmapgl": [
           {
            "colorbar": {
             "outlinewidth": 0,
             "ticks": ""
            },
            "colorscale": [
             [
              0,
              "#0d0887"
             ],
             [
              0.1111111111111111,
              "#46039f"
             ],
             [
              0.2222222222222222,
              "#7201a8"
             ],
             [
              0.3333333333333333,
              "#9c179e"
             ],
             [
              0.4444444444444444,
              "#bd3786"
             ],
             [
              0.5555555555555556,
              "#d8576b"
             ],
             [
              0.6666666666666666,
              "#ed7953"
             ],
             [
              0.7777777777777778,
              "#fb9f3a"
             ],
             [
              0.8888888888888888,
              "#fdca26"
             ],
             [
              1,
              "#f0f921"
             ]
            ],
            "type": "heatmapgl"
           }
          ],
          "histogram": [
           {
            "marker": {
             "pattern": {
              "fillmode": "overlay",
              "size": 10,
              "solidity": 0.2
             }
            },
            "type": "histogram"
           }
          ],
          "histogram2d": [
           {
            "colorbar": {
             "outlinewidth": 0,
             "ticks": ""
            },
            "colorscale": [
             [
              0,
              "#0d0887"
             ],
             [
              0.1111111111111111,
              "#46039f"
             ],
             [
              0.2222222222222222,
              "#7201a8"
             ],
             [
              0.3333333333333333,
              "#9c179e"
             ],
             [
              0.4444444444444444,
              "#bd3786"
             ],
             [
              0.5555555555555556,
              "#d8576b"
             ],
             [
              0.6666666666666666,
              "#ed7953"
             ],
             [
              0.7777777777777778,
              "#fb9f3a"
             ],
             [
              0.8888888888888888,
              "#fdca26"
             ],
             [
              1,
              "#f0f921"
             ]
            ],
            "type": "histogram2d"
           }
          ],
          "histogram2dcontour": [
           {
            "colorbar": {
             "outlinewidth": 0,
             "ticks": ""
            },
            "colorscale": [
             [
              0,
              "#0d0887"
             ],
             [
              0.1111111111111111,
              "#46039f"
             ],
             [
              0.2222222222222222,
              "#7201a8"
             ],
             [
              0.3333333333333333,
              "#9c179e"
             ],
             [
              0.4444444444444444,
              "#bd3786"
             ],
             [
              0.5555555555555556,
              "#d8576b"
             ],
             [
              0.6666666666666666,
              "#ed7953"
             ],
             [
              0.7777777777777778,
              "#fb9f3a"
             ],
             [
              0.8888888888888888,
              "#fdca26"
             ],
             [
              1,
              "#f0f921"
             ]
            ],
            "type": "histogram2dcontour"
           }
          ],
          "mesh3d": [
           {
            "colorbar": {
             "outlinewidth": 0,
             "ticks": ""
            },
            "type": "mesh3d"
           }
          ],
          "parcoords": [
           {
            "line": {
             "colorbar": {
              "outlinewidth": 0,
              "ticks": ""
             }
            },
            "type": "parcoords"
           }
          ],
          "pie": [
           {
            "automargin": true,
            "type": "pie"
           }
          ],
          "scatter": [
           {
            "fillpattern": {
             "fillmode": "overlay",
             "size": 10,
             "solidity": 0.2
            },
            "type": "scatter"
           }
          ],
          "scatter3d": [
           {
            "line": {
             "colorbar": {
              "outlinewidth": 0,
              "ticks": ""
             }
            },
            "marker": {
             "colorbar": {
              "outlinewidth": 0,
              "ticks": ""
             }
            },
            "type": "scatter3d"
           }
          ],
          "scattercarpet": [
           {
            "marker": {
             "colorbar": {
              "outlinewidth": 0,
              "ticks": ""
             }
            },
            "type": "scattercarpet"
           }
          ],
          "scattergeo": [
           {
            "marker": {
             "colorbar": {
              "outlinewidth": 0,
              "ticks": ""
             }
            },
            "type": "scattergeo"
           }
          ],
          "scattergl": [
           {
            "marker": {
             "colorbar": {
              "outlinewidth": 0,
              "ticks": ""
             }
            },
            "type": "scattergl"
           }
          ],
          "scattermapbox": [
           {
            "marker": {
             "colorbar": {
              "outlinewidth": 0,
              "ticks": ""
             }
            },
            "type": "scattermapbox"
           }
          ],
          "scatterpolar": [
           {
            "marker": {
             "colorbar": {
              "outlinewidth": 0,
              "ticks": ""
             }
            },
            "type": "scatterpolar"
           }
          ],
          "scatterpolargl": [
           {
            "marker": {
             "colorbar": {
              "outlinewidth": 0,
              "ticks": ""
             }
            },
            "type": "scatterpolargl"
           }
          ],
          "scatterternary": [
           {
            "marker": {
             "colorbar": {
              "outlinewidth": 0,
              "ticks": ""
             }
            },
            "type": "scatterternary"
           }
          ],
          "surface": [
           {
            "colorbar": {
             "outlinewidth": 0,
             "ticks": ""
            },
            "colorscale": [
             [
              0,
              "#0d0887"
             ],
             [
              0.1111111111111111,
              "#46039f"
             ],
             [
              0.2222222222222222,
              "#7201a8"
             ],
             [
              0.3333333333333333,
              "#9c179e"
             ],
             [
              0.4444444444444444,
              "#bd3786"
             ],
             [
              0.5555555555555556,
              "#d8576b"
             ],
             [
              0.6666666666666666,
              "#ed7953"
             ],
             [
              0.7777777777777778,
              "#fb9f3a"
             ],
             [
              0.8888888888888888,
              "#fdca26"
             ],
             [
              1,
              "#f0f921"
             ]
            ],
            "type": "surface"
           }
          ],
          "table": [
           {
            "cells": {
             "fill": {
              "color": "#EBF0F8"
             },
             "line": {
              "color": "white"
             }
            },
            "header": {
             "fill": {
              "color": "#C8D4E3"
             },
             "line": {
              "color": "white"
             }
            },
            "type": "table"
           }
          ]
         },
         "layout": {
          "annotationdefaults": {
           "arrowcolor": "#2a3f5f",
           "arrowhead": 0,
           "arrowwidth": 1
          },
          "autotypenumbers": "strict",
          "coloraxis": {
           "colorbar": {
            "outlinewidth": 0,
            "ticks": ""
           }
          },
          "colorscale": {
           "diverging": [
            [
             0,
             "#8e0152"
            ],
            [
             0.1,
             "#c51b7d"
            ],
            [
             0.2,
             "#de77ae"
            ],
            [
             0.3,
             "#f1b6da"
            ],
            [
             0.4,
             "#fde0ef"
            ],
            [
             0.5,
             "#f7f7f7"
            ],
            [
             0.6,
             "#e6f5d0"
            ],
            [
             0.7,
             "#b8e186"
            ],
            [
             0.8,
             "#7fbc41"
            ],
            [
             0.9,
             "#4d9221"
            ],
            [
             1,
             "#276419"
            ]
           ],
           "sequential": [
            [
             0,
             "#0d0887"
            ],
            [
             0.1111111111111111,
             "#46039f"
            ],
            [
             0.2222222222222222,
             "#7201a8"
            ],
            [
             0.3333333333333333,
             "#9c179e"
            ],
            [
             0.4444444444444444,
             "#bd3786"
            ],
            [
             0.5555555555555556,
             "#d8576b"
            ],
            [
             0.6666666666666666,
             "#ed7953"
            ],
            [
             0.7777777777777778,
             "#fb9f3a"
            ],
            [
             0.8888888888888888,
             "#fdca26"
            ],
            [
             1,
             "#f0f921"
            ]
           ],
           "sequentialminus": [
            [
             0,
             "#0d0887"
            ],
            [
             0.1111111111111111,
             "#46039f"
            ],
            [
             0.2222222222222222,
             "#7201a8"
            ],
            [
             0.3333333333333333,
             "#9c179e"
            ],
            [
             0.4444444444444444,
             "#bd3786"
            ],
            [
             0.5555555555555556,
             "#d8576b"
            ],
            [
             0.6666666666666666,
             "#ed7953"
            ],
            [
             0.7777777777777778,
             "#fb9f3a"
            ],
            [
             0.8888888888888888,
             "#fdca26"
            ],
            [
             1,
             "#f0f921"
            ]
           ]
          },
          "colorway": [
           "#636efa",
           "#EF553B",
           "#00cc96",
           "#ab63fa",
           "#FFA15A",
           "#19d3f3",
           "#FF6692",
           "#B6E880",
           "#FF97FF",
           "#FECB52"
          ],
          "font": {
           "color": "#2a3f5f"
          },
          "geo": {
           "bgcolor": "white",
           "lakecolor": "white",
           "landcolor": "#E5ECF6",
           "showlakes": true,
           "showland": true,
           "subunitcolor": "white"
          },
          "hoverlabel": {
           "align": "left"
          },
          "hovermode": "closest",
          "mapbox": {
           "style": "light"
          },
          "paper_bgcolor": "white",
          "plot_bgcolor": "#E5ECF6",
          "polar": {
           "angularaxis": {
            "gridcolor": "white",
            "linecolor": "white",
            "ticks": ""
           },
           "bgcolor": "#E5ECF6",
           "radialaxis": {
            "gridcolor": "white",
            "linecolor": "white",
            "ticks": ""
           }
          },
          "scene": {
           "xaxis": {
            "backgroundcolor": "#E5ECF6",
            "gridcolor": "white",
            "gridwidth": 2,
            "linecolor": "white",
            "showbackground": true,
            "ticks": "",
            "zerolinecolor": "white"
           },
           "yaxis": {
            "backgroundcolor": "#E5ECF6",
            "gridcolor": "white",
            "gridwidth": 2,
            "linecolor": "white",
            "showbackground": true,
            "ticks": "",
            "zerolinecolor": "white"
           },
           "zaxis": {
            "backgroundcolor": "#E5ECF6",
            "gridcolor": "white",
            "gridwidth": 2,
            "linecolor": "white",
            "showbackground": true,
            "ticks": "",
            "zerolinecolor": "white"
           }
          },
          "shapedefaults": {
           "line": {
            "color": "#2a3f5f"
           }
          },
          "ternary": {
           "aaxis": {
            "gridcolor": "white",
            "linecolor": "white",
            "ticks": ""
           },
           "baxis": {
            "gridcolor": "white",
            "linecolor": "white",
            "ticks": ""
           },
           "bgcolor": "#E5ECF6",
           "caxis": {
            "gridcolor": "white",
            "linecolor": "white",
            "ticks": ""
           }
          },
          "title": {
           "x": 0.05
          },
          "xaxis": {
           "automargin": true,
           "gridcolor": "white",
           "linecolor": "white",
           "ticks": "",
           "title": {
            "standoff": 15
           },
           "zerolinecolor": "white",
           "zerolinewidth": 2
          },
          "yaxis": {
           "automargin": true,
           "gridcolor": "white",
           "linecolor": "white",
           "ticks": "",
           "title": {
            "standoff": 15
           },
           "zerolinecolor": "white",
           "zerolinewidth": 2
          }
         }
        },
        "title": {
         "text": "Actual vs Predicted Fantasy Production (RFR - New Metric)"
        },
        "xaxis": {
         "anchor": "y",
         "domain": [
          0,
          1
         ],
         "title": {
          "text": "Actual Fantasy Production"
         }
        },
        "yaxis": {
         "anchor": "x",
         "domain": [
          0,
          1
         ],
         "title": {
          "text": "Predicted Fantasy Production"
         }
        }
       }
      },
      "text/html": [
       "<div>                            <div id=\"d34d78ad-a32b-46b4-8dd5-d4ccd33f53ef\" class=\"plotly-graph-div\" style=\"height:525px; width:100%;\"></div>            <script type=\"text/javascript\">                require([\"plotly\"], function(Plotly) {                    window.PLOTLYENV=window.PLOTLYENV || {};                                    if (document.getElementById(\"d34d78ad-a32b-46b4-8dd5-d4ccd33f53ef\")) {                    Plotly.newPlot(                        \"d34d78ad-a32b-46b4-8dd5-d4ccd33f53ef\",                        [{\"customdata\":[[\"Randall Cobb\",2020,99.9],[\"Torrey Smith\",2013,134.4],[\"Jerricho Cotchery\",2014,119.7],[\"Roddy White\",2014,87.10000000000001],[\"Kendall Wright\",2015,110.9],[\"Nate Washington\",2013,98.60000000000001],[\"Greg Jennings\",2015,110.2],[\"Cordarrelle Patterson\",2020,24.6],[\"Demaryius Thomas\",2014,227.0],[\"Golden Tate\",2020,103.2],[\"Marquez Valdes-Scantling\",2022,61.0],[\"Marquise Brown\",2020,100.4],[\"Jordy Nelson\",2018,84.2],[\"Amon-Ra St. Brown\",2022,137.3],[\"Demaryius Thomas\",2019,97.7],[\"Cecil Shorts\",2014,95.7],[\"Braxton Berrios\",2022,75.1],[\"Jermaine Kearse\",2014,58.6],[\"T.J. Jones\",2018,47.900000000000006],[\"Donnie Avery\",2013,97.0],[\"Steve Smith\",2014,98.5],[\"T.Y. Hilton\",2013,137.0],[\"Robert Foster\",2019,72.1],[\"Tyler Lockett\",2021,165.4],[\"Kendrick Bourne\",2020,67.8],[\"Robby Anderson\",2020,110.3],[\"Andre Holmes\",2016,44.1],[\"Robert Woods\",2015,99.9],[\"Calvin Ridley\",2020,134.0],[\"Brandon Coleman\",2016,57.400000000000006],[\"Rueben Randle\",2014,97.10000000000001],[\"T.Y. Hilton\",2014,138.9],[\"Jalen Guyton\",2021,69.1],[\"Tyreek Hill\",2022,185.5],[\"Allen Robinson\",2020,156.9],[\"Darnell Mooney\",2022,138.70000000000002],[\"JuJu Smith-Schuster\",2020,71.2],[\"Elijah Moore\",2022,95.2],[\"Marques Colston\",2015,118.2],[\"Rishard Matthews\",2014,56.800000000000004],[\"Eric Decker\",2013,184.4],[\"Mack Hollins\",2022,46.3],[\"Jaylen Waddle\",2022,143.8],[\"Damiere Byrd\",2021,67.9],[\"Terrance Williams\",2016,102.0],[\"Amari Cooper\",2019,140.5],[\"DeAndre Hopkins\",2020,164.54000000000002],[\"Cole Beasley\",2020,117.80000000000001],[\"Marvin Jones\",2016,108.9],[\"Mecole Hardman\",2020,97.5],[\"Dez Bryant\",2014,199.4],[\"Russell Shepard\",2017,47.0],[\"Sammy Watkins\",2019,75.10000000000001],[\"Jordy Nelson\",2013,118.50000000000001],[\"Mike Evans\",2020,165.70000000000002],[\"Damiere Byrd\",2022,40.900000000000006],[\"Nick Westbrook-Ikhine\",2022,69.6],[\"Jarius Wright\",2019,54.6]],\"hovertemplate\":\"Direction_Correct=False\\u003cbr\\u003eActual=%{x}\\u003cbr\\u003ePredicted=%{y}\\u003cbr\\u003ePlayer_Name=%{customdata[0]}\\u003cbr\\u003eCurrent_Season=%{customdata[1]}\\u003cbr\\u003ePrevious_Season_Fantasy=%{customdata[2]}\\u003cextra\\u003e\\u003c\\u002fextra\\u003e\",\"legendgroup\":\"False\",\"marker\":{\"color\":\"red\",\"symbol\":\"circle\"},\"mode\":\"markers\",\"name\":\"False\",\"orientation\":\"v\",\"showlegend\":true,\"x\":[62.1,138.8,66.0,132.1,60.50000000000001,109.9,26.8,48.400000000000006,229.9,51.52,80.4,125.0,93.7,161.6,49.300000000000004,64.98,39.68,61.88,31.0,70.2,140.5,138.9,9.3,168.4,80.7,129.1,30.6,71.2,191.5,46.1,111.80000000000001,176.5,66.2,222.2,160.9,61.5,137.1,51.1,76.0,25.8,192.8,97.16000000000001,184.20000000000002,40.900000000000006,81.4,167.5,172.8,125.5,117.3,89.10000000000001,228.0,28.1,86.5,179.4,178.6,38.8,57.7,28.900000000000002],\"xaxis\":\"x\",\"y\":[103.17860358606606,112.76100666666655,126.03822273615769,69.35286708381963,117.73871759373647,90.10772635493127,118.76621824303969,19.654999999999987,133.5120000000002,132.14769581501113,56.13623562548564,93.46863914682554,68.03420378891099,117.19357632832087,108.98668490970624,141.5728918819379,82.38565778960893,54.57349978696555,75.22410005933106,116.98615541666665,95.71981606116933,112.26762678766504,92.91010405483411,131.2728592628903,67.18289561523389,96.1522567266151,48.834405333333315,120.23217132191483,68.88660334677702,59.94782756474336,87.27280828242444,138.321523145589,98.02129044044283,153.13133830012978,136.16752314558897,145.2289271255363,44.0983021487546,154.2499037301589,201.40239345433213,71.85660144040259,112.14778543646307,37.507205333333275,136.2408823581284,91.22220358606606,158.58671904761886,70.80035738095246,108.2862716157033,95.08610948058524,60.09983333333327,98.17139528512462,111.39537500000017,79.95998099717163,63.65224519908429,96.39169482185324,147.91492712553634,55.20951671145722,76.0818705631465,60.30104053890572],\"yaxis\":\"y\",\"type\":\"scatter\"},{\"customdata\":[[\"Seth Roberts\",2018,47.5],[\"Keenan Allen\",2014,150.6],[\"Darnell Mooney\",2021,91.1],[\"DeVante Parker\",2019,36.9],[\"Ted Ginn\",2015,26.0],[\"Randall Cobb\",2015,204.4],[\"John Brown\",2019,101.9],[\"Kenny Golladay\",2018,66.6],[\"DK Metcalf\",2021,188.3],[\"Corey Brown\",2015,57.1],[\"Zay Jones\",2020,21.900000000000002],[\"Alshon Jeffery\",2018,138.9],[\"Sterling Shepard\",2017,119.4],[\"Anquan Boldin\",2015,136.60000000000002],[\"Christian Kirk\",2022,130.62],[\"A.J. Green\",2014,208.60000000000002],[\"Cordarrelle Patterson\",2014,116.7],[\"Tim Patrick\",2021,110.2],[\"Tyreek Hill\",2018,170.20000000000002],[\"Robert Woods\",2017,67.89999999999999],[\"Stefon Diggs\",2020,149.1],[\"Donte Moncrief\",2018,51.1],[\"Mike Williams\",2021,105.7],[\"Bennie Fowler\",2016,20.3],[\"Jermaine Kearse\",2018,111.0],[\"Odell Beckham\",2019,155.34],[\"DeSean Jackson\",2017,124.50000000000001],[\"Jamison Crowder\",2017,130.5],[\"Robert Woods\",2018,107.30000000000001],[\"Mike Williams\",2019,137.2],[\"Stefon Diggs\",2019,164.3],[\"Sammy Watkins\",2015,133.0],[\"Russell Gage\",2020,51.800000000000004],[\"DaeSean Hamilton\",2020,35.7],[\"Kalif Raymond\",2022,84.4],[\"Jarvis Landry\",2016,165.36],[\"Tyler Lockett\",2019,165.4],[\"Breshad Perriman\",2020,102.1],[\"Isaiah McKenzie\",2022,34.5],[\"Mike Wallace\",2016,59.900000000000006],[\"Jarvis Landry\",2021,115.96000000000001],[\"DeAndre Hopkins\",2017,119.4],[\"Aldrick Robinson\",2018,38.0],[\"DK Metcalf\",2020,129.1],[\"Julio Jones\",2015,193.4],[\"Robby Anderson\",2022,85.5],[\"Doug Baldwin\",2015,101.3],[\"Jamison Crowder\",2021,113.02],[\"Kendrick Bourne\",2018,25.700000000000003],[\"Malcom Floyd\",2015,121.60000000000001],[\"Danny Amendola\",2014,75.4],[\"Isaiah McKenzie\",2020,36.300000000000004],[\"J.J. Nelson\",2017,105.10000000000001],[\"Kendall Wright\",2017,61.1],[\"Mike Williams\",2022,170.60000000000002],[\"Andre Holmes\",2015,93.30000000000001],[\"Brandin Cooks\",2019,163.20000000000002],[\"Jarius Wright\",2014,61.4],[\"Devin Duvernay\",2022,44.199999999999996],[\"D.J. Chark\",2019,15.400000000000002],[\"Chris Hogan\",2015,62.6],[\"Hunter Renfrow\",2022,156.10000000000002],[\"James Washington\",2019,27.700000000000003],[\"Hakeem Nicks\",2013,87.2],[\"Travis Benjamin\",2015,50.50000000000001],[\"Marques Colston\",2014,124.30000000000001],[\"Brandin Cooks\",2021,151.0],[\"Demaryius Thomas\",2013,197.4],[\"Brian Hartline\",2015,59.4],[\"Amari Cooper\",2020,167.5],[\"Miles Austin\",2014,24.400000000000002],[\"Marques Colston\",2013,171.4],[\"Albert Wilson\",2017,50.900000000000006],[\"Rishard Matthews\",2015,25.8],[\"Larry Fitzgerald\",2015,88.4],[\"Sterling Shepard\",2020,84.80000000000001],[\"James Jones\",2014,97.7],[\"David Moore\",2020,42.6],[\"Calvin Johnson\",2014,219.20000000000002],[\"Brian Quick\",2013,27.6],[\"Seth Roberts\",2017,73.7],[\"Nelson Agholor\",2022,66.4],[\"Deonte Thompson\",2018,67.0],[\"T.Y. Hilton\",2021,108.2],[\"Travis Benjamin\",2016,131.8],[\"Kenny Britt\",2016,86.10000000000001],[\"Trent Taylor\",2018,55.0],[\"Tyrell Williams\",2018,94.8]],\"hovertemplate\":\"Direction_Correct=True\\u003cbr\\u003eActual=%{x}\\u003cbr\\u003ePredicted=%{y}\\u003cbr\\u003ePlayer_Name=%{customdata[0]}\\u003cbr\\u003eCurrent_Season=%{customdata[1]}\\u003cbr\\u003ePrevious_Season_Fantasy=%{customdata[2]}\\u003cextra\\u003e\\u003c\\u002fextra\\u003e\",\"legendgroup\":\"True\",\"marker\":{\"color\":\"green\",\"symbol\":\"circle\"},\"mode\":\"markers\",\"name\":\"True\",\"orientation\":\"v\",\"showlegend\":true,\"x\":[61.9,100.3,138.70000000000002,174.2,139.9,123.9,147.82000000000002,137.1,169.3,72.5,22.560000000000002,120.3,85.5,100.9,159.9,136.3,62.1,103.4,247.0,107.30000000000001,201.60000000000002,82.8,170.60000000000002,26.5,43.1,129.3,88.60000000000001,98.3,179.6,112.30000000000001,149.1,158.8,109.06,39.300000000000004,69.2,139.3,153.20000000000002,69.10000000000001,77.8,130.8,81.0,213.8,53.1,188.3,233.1,32.2,190.9,58.7,72.7,72.10000000000001,26.0,69.58,64.5,67.4,113.5,44.1,75.5,77.9,79.1,152.8,57.56,43.0,89.5,89.60000000000001,131.8,118.2,141.8,227.0,64.3,144.8,68.80000000000001,124.30000000000001,74.0,90.60000000000001,171.5,96.5,100.60000000000001,83.80000000000001,155.70000000000002,42.2,47.5,44.2,16.1,51.1,87.4,128.2,29.500000000000004,96.8],\"xaxis\":\"x\",\"y\":[72.19659686164809,128.5537282705195,93.36322118915866,52.65651800759097,54.80145533333334,128.78076479076475,106.42235358606605,124.49291771965382,152.92268055555536,74.49872406439842,66.57223242955142,90.31775948058517,89.97150636953398,131.518768699974,167.86227340659326,148.12799999999993,90.19448227457352,76.63248678921573,180.31694949338103,97.35122118915871,171.93968055555553,52.170518007590964,118.11821824303968,43.01502200000002,73.49875926629754,115.79678896888134,109.52306067455837,108.64036566165498,144.75910632832085,100.39982166534918,118.63389510058484,157.33892922628968,65.41412841944421,76.53431954110039,51.486485625485685,137.5603909731266,144.75910632832085,76.47398939497162,44.791799999999995,65.2602451990843,60.09983333333327,138.63733523663876,90.27377199999988,130.76266666666658,216.16700000000034,70.87377878891103,163.26225999999994,85.48167948058519,80.42298099717162,71.80552956605524,61.39773833201573,90.61868642864238,82.0955975800367,92.5498581690206,118.14181978573033,82.66850859126993,97.31601029382995,63.03090165001684,74.26715310624317,62.10900533333325,48.01337248843387,105.95637489974928,76.09307453481456,144.01497465091276,55.740714330504886,96.1522567266151,127.4630686288042,210.64299999999992,70.12920400450521,122.65717124701742,46.64236446987957,127.65156067455838,88.02698099717162,45.92879999999998,128.3076958150111,97.62413914682551,155.60871904761882,85.94698099717165,202.23600000000005,56.71179999999995,69.7341298212359,60.00277680573527,50.00190040655839,74.46261759373643,112.14778543646307,101.56501406194302,54.87949978696555,115.91518490970633],\"yaxis\":\"y\",\"type\":\"scatter\"}],                        {\"template\":{\"data\":{\"histogram2dcontour\":[{\"type\":\"histogram2dcontour\",\"colorbar\":{\"outlinewidth\":0,\"ticks\":\"\"},\"colorscale\":[[0.0,\"#0d0887\"],[0.1111111111111111,\"#46039f\"],[0.2222222222222222,\"#7201a8\"],[0.3333333333333333,\"#9c179e\"],[0.4444444444444444,\"#bd3786\"],[0.5555555555555556,\"#d8576b\"],[0.6666666666666666,\"#ed7953\"],[0.7777777777777778,\"#fb9f3a\"],[0.8888888888888888,\"#fdca26\"],[1.0,\"#f0f921\"]]}],\"choropleth\":[{\"type\":\"choropleth\",\"colorbar\":{\"outlinewidth\":0,\"ticks\":\"\"}}],\"histogram2d\":[{\"type\":\"histogram2d\",\"colorbar\":{\"outlinewidth\":0,\"ticks\":\"\"},\"colorscale\":[[0.0,\"#0d0887\"],[0.1111111111111111,\"#46039f\"],[0.2222222222222222,\"#7201a8\"],[0.3333333333333333,\"#9c179e\"],[0.4444444444444444,\"#bd3786\"],[0.5555555555555556,\"#d8576b\"],[0.6666666666666666,\"#ed7953\"],[0.7777777777777778,\"#fb9f3a\"],[0.8888888888888888,\"#fdca26\"],[1.0,\"#f0f921\"]]}],\"heatmap\":[{\"type\":\"heatmap\",\"colorbar\":{\"outlinewidth\":0,\"ticks\":\"\"},\"colorscale\":[[0.0,\"#0d0887\"],[0.1111111111111111,\"#46039f\"],[0.2222222222222222,\"#7201a8\"],[0.3333333333333333,\"#9c179e\"],[0.4444444444444444,\"#bd3786\"],[0.5555555555555556,\"#d8576b\"],[0.6666666666666666,\"#ed7953\"],[0.7777777777777778,\"#fb9f3a\"],[0.8888888888888888,\"#fdca26\"],[1.0,\"#f0f921\"]]}],\"heatmapgl\":[{\"type\":\"heatmapgl\",\"colorbar\":{\"outlinewidth\":0,\"ticks\":\"\"},\"colorscale\":[[0.0,\"#0d0887\"],[0.1111111111111111,\"#46039f\"],[0.2222222222222222,\"#7201a8\"],[0.3333333333333333,\"#9c179e\"],[0.4444444444444444,\"#bd3786\"],[0.5555555555555556,\"#d8576b\"],[0.6666666666666666,\"#ed7953\"],[0.7777777777777778,\"#fb9f3a\"],[0.8888888888888888,\"#fdca26\"],[1.0,\"#f0f921\"]]}],\"contourcarpet\":[{\"type\":\"contourcarpet\",\"colorbar\":{\"outlinewidth\":0,\"ticks\":\"\"}}],\"contour\":[{\"type\":\"contour\",\"colorbar\":{\"outlinewidth\":0,\"ticks\":\"\"},\"colorscale\":[[0.0,\"#0d0887\"],[0.1111111111111111,\"#46039f\"],[0.2222222222222222,\"#7201a8\"],[0.3333333333333333,\"#9c179e\"],[0.4444444444444444,\"#bd3786\"],[0.5555555555555556,\"#d8576b\"],[0.6666666666666666,\"#ed7953\"],[0.7777777777777778,\"#fb9f3a\"],[0.8888888888888888,\"#fdca26\"],[1.0,\"#f0f921\"]]}],\"surface\":[{\"type\":\"surface\",\"colorbar\":{\"outlinewidth\":0,\"ticks\":\"\"},\"colorscale\":[[0.0,\"#0d0887\"],[0.1111111111111111,\"#46039f\"],[0.2222222222222222,\"#7201a8\"],[0.3333333333333333,\"#9c179e\"],[0.4444444444444444,\"#bd3786\"],[0.5555555555555556,\"#d8576b\"],[0.6666666666666666,\"#ed7953\"],[0.7777777777777778,\"#fb9f3a\"],[0.8888888888888888,\"#fdca26\"],[1.0,\"#f0f921\"]]}],\"mesh3d\":[{\"type\":\"mesh3d\",\"colorbar\":{\"outlinewidth\":0,\"ticks\":\"\"}}],\"scatter\":[{\"fillpattern\":{\"fillmode\":\"overlay\",\"size\":10,\"solidity\":0.2},\"type\":\"scatter\"}],\"parcoords\":[{\"type\":\"parcoords\",\"line\":{\"colorbar\":{\"outlinewidth\":0,\"ticks\":\"\"}}}],\"scatterpolargl\":[{\"type\":\"scatterpolargl\",\"marker\":{\"colorbar\":{\"outlinewidth\":0,\"ticks\":\"\"}}}],\"bar\":[{\"error_x\":{\"color\":\"#2a3f5f\"},\"error_y\":{\"color\":\"#2a3f5f\"},\"marker\":{\"line\":{\"color\":\"#E5ECF6\",\"width\":0.5},\"pattern\":{\"fillmode\":\"overlay\",\"size\":10,\"solidity\":0.2}},\"type\":\"bar\"}],\"scattergeo\":[{\"type\":\"scattergeo\",\"marker\":{\"colorbar\":{\"outlinewidth\":0,\"ticks\":\"\"}}}],\"scatterpolar\":[{\"type\":\"scatterpolar\",\"marker\":{\"colorbar\":{\"outlinewidth\":0,\"ticks\":\"\"}}}],\"histogram\":[{\"marker\":{\"pattern\":{\"fillmode\":\"overlay\",\"size\":10,\"solidity\":0.2}},\"type\":\"histogram\"}],\"scattergl\":[{\"type\":\"scattergl\",\"marker\":{\"colorbar\":{\"outlinewidth\":0,\"ticks\":\"\"}}}],\"scatter3d\":[{\"type\":\"scatter3d\",\"line\":{\"colorbar\":{\"outlinewidth\":0,\"ticks\":\"\"}},\"marker\":{\"colorbar\":{\"outlinewidth\":0,\"ticks\":\"\"}}}],\"scattermapbox\":[{\"type\":\"scattermapbox\",\"marker\":{\"colorbar\":{\"outlinewidth\":0,\"ticks\":\"\"}}}],\"scatterternary\":[{\"type\":\"scatterternary\",\"marker\":{\"colorbar\":{\"outlinewidth\":0,\"ticks\":\"\"}}}],\"scattercarpet\":[{\"type\":\"scattercarpet\",\"marker\":{\"colorbar\":{\"outlinewidth\":0,\"ticks\":\"\"}}}],\"carpet\":[{\"aaxis\":{\"endlinecolor\":\"#2a3f5f\",\"gridcolor\":\"white\",\"linecolor\":\"white\",\"minorgridcolor\":\"white\",\"startlinecolor\":\"#2a3f5f\"},\"baxis\":{\"endlinecolor\":\"#2a3f5f\",\"gridcolor\":\"white\",\"linecolor\":\"white\",\"minorgridcolor\":\"white\",\"startlinecolor\":\"#2a3f5f\"},\"type\":\"carpet\"}],\"table\":[{\"cells\":{\"fill\":{\"color\":\"#EBF0F8\"},\"line\":{\"color\":\"white\"}},\"header\":{\"fill\":{\"color\":\"#C8D4E3\"},\"line\":{\"color\":\"white\"}},\"type\":\"table\"}],\"barpolar\":[{\"marker\":{\"line\":{\"color\":\"#E5ECF6\",\"width\":0.5},\"pattern\":{\"fillmode\":\"overlay\",\"size\":10,\"solidity\":0.2}},\"type\":\"barpolar\"}],\"pie\":[{\"automargin\":true,\"type\":\"pie\"}]},\"layout\":{\"autotypenumbers\":\"strict\",\"colorway\":[\"#636efa\",\"#EF553B\",\"#00cc96\",\"#ab63fa\",\"#FFA15A\",\"#19d3f3\",\"#FF6692\",\"#B6E880\",\"#FF97FF\",\"#FECB52\"],\"font\":{\"color\":\"#2a3f5f\"},\"hovermode\":\"closest\",\"hoverlabel\":{\"align\":\"left\"},\"paper_bgcolor\":\"white\",\"plot_bgcolor\":\"#E5ECF6\",\"polar\":{\"bgcolor\":\"#E5ECF6\",\"angularaxis\":{\"gridcolor\":\"white\",\"linecolor\":\"white\",\"ticks\":\"\"},\"radialaxis\":{\"gridcolor\":\"white\",\"linecolor\":\"white\",\"ticks\":\"\"}},\"ternary\":{\"bgcolor\":\"#E5ECF6\",\"aaxis\":{\"gridcolor\":\"white\",\"linecolor\":\"white\",\"ticks\":\"\"},\"baxis\":{\"gridcolor\":\"white\",\"linecolor\":\"white\",\"ticks\":\"\"},\"caxis\":{\"gridcolor\":\"white\",\"linecolor\":\"white\",\"ticks\":\"\"}},\"coloraxis\":{\"colorbar\":{\"outlinewidth\":0,\"ticks\":\"\"}},\"colorscale\":{\"sequential\":[[0.0,\"#0d0887\"],[0.1111111111111111,\"#46039f\"],[0.2222222222222222,\"#7201a8\"],[0.3333333333333333,\"#9c179e\"],[0.4444444444444444,\"#bd3786\"],[0.5555555555555556,\"#d8576b\"],[0.6666666666666666,\"#ed7953\"],[0.7777777777777778,\"#fb9f3a\"],[0.8888888888888888,\"#fdca26\"],[1.0,\"#f0f921\"]],\"sequentialminus\":[[0.0,\"#0d0887\"],[0.1111111111111111,\"#46039f\"],[0.2222222222222222,\"#7201a8\"],[0.3333333333333333,\"#9c179e\"],[0.4444444444444444,\"#bd3786\"],[0.5555555555555556,\"#d8576b\"],[0.6666666666666666,\"#ed7953\"],[0.7777777777777778,\"#fb9f3a\"],[0.8888888888888888,\"#fdca26\"],[1.0,\"#f0f921\"]],\"diverging\":[[0,\"#8e0152\"],[0.1,\"#c51b7d\"],[0.2,\"#de77ae\"],[0.3,\"#f1b6da\"],[0.4,\"#fde0ef\"],[0.5,\"#f7f7f7\"],[0.6,\"#e6f5d0\"],[0.7,\"#b8e186\"],[0.8,\"#7fbc41\"],[0.9,\"#4d9221\"],[1,\"#276419\"]]},\"xaxis\":{\"gridcolor\":\"white\",\"linecolor\":\"white\",\"ticks\":\"\",\"title\":{\"standoff\":15},\"zerolinecolor\":\"white\",\"automargin\":true,\"zerolinewidth\":2},\"yaxis\":{\"gridcolor\":\"white\",\"linecolor\":\"white\",\"ticks\":\"\",\"title\":{\"standoff\":15},\"zerolinecolor\":\"white\",\"automargin\":true,\"zerolinewidth\":2},\"scene\":{\"xaxis\":{\"backgroundcolor\":\"#E5ECF6\",\"gridcolor\":\"white\",\"linecolor\":\"white\",\"showbackground\":true,\"ticks\":\"\",\"zerolinecolor\":\"white\",\"gridwidth\":2},\"yaxis\":{\"backgroundcolor\":\"#E5ECF6\",\"gridcolor\":\"white\",\"linecolor\":\"white\",\"showbackground\":true,\"ticks\":\"\",\"zerolinecolor\":\"white\",\"gridwidth\":2},\"zaxis\":{\"backgroundcolor\":\"#E5ECF6\",\"gridcolor\":\"white\",\"linecolor\":\"white\",\"showbackground\":true,\"ticks\":\"\",\"zerolinecolor\":\"white\",\"gridwidth\":2}},\"shapedefaults\":{\"line\":{\"color\":\"#2a3f5f\"}},\"annotationdefaults\":{\"arrowcolor\":\"#2a3f5f\",\"arrowhead\":0,\"arrowwidth\":1},\"geo\":{\"bgcolor\":\"white\",\"landcolor\":\"#E5ECF6\",\"subunitcolor\":\"white\",\"showland\":true,\"showlakes\":true,\"lakecolor\":\"white\"},\"title\":{\"x\":0.05},\"mapbox\":{\"style\":\"light\"}}},\"xaxis\":{\"anchor\":\"y\",\"domain\":[0.0,1.0],\"title\":{\"text\":\"Actual Fantasy Production\"}},\"yaxis\":{\"anchor\":\"x\",\"domain\":[0.0,1.0],\"title\":{\"text\":\"Predicted Fantasy Production\"}},\"legend\":{\"title\":{\"text\":\"Direction_Correct\"},\"tracegroupgap\":0},\"margin\":{\"t\":60},\"shapes\":[{\"line\":{\"dash\":\"dash\"},\"type\":\"line\",\"x0\":9.3,\"x1\":247.0,\"y0\":9.3,\"y1\":247.0}],\"title\":{\"text\":\"Actual vs Predicted Fantasy Production (RFR - New Metric)\"},\"showlegend\":false},                        {\"responsive\": true}                    ).then(function(){\n",
       "                            \n",
       "var gd = document.getElementById('d34d78ad-a32b-46b4-8dd5-d4ccd33f53ef');\n",
       "var x = new MutationObserver(function (mutations, observer) {{\n",
       "        var display = window.getComputedStyle(gd).display;\n",
       "        if (!display || display === 'none') {{\n",
       "            console.log([gd, 'removed!']);\n",
       "            Plotly.purge(gd);\n",
       "            observer.disconnect();\n",
       "        }}\n",
       "}});\n",
       "\n",
       "// Listen for the removal of the full notebook cells\n",
       "var notebookContainer = gd.closest('#notebook-container');\n",
       "if (notebookContainer) {{\n",
       "    x.observe(notebookContainer, {childList: true});\n",
       "}}\n",
       "\n",
       "// Listen for the clearing of the current output cell\n",
       "var outputEl = gd.closest('.output');\n",
       "if (outputEl) {{\n",
       "    x.observe(outputEl, {childList: true});\n",
       "}}\n",
       "\n",
       "                        })                };                });            </script>        </div>"
      ]
     },
     "metadata": {},
     "output_type": "display_data"
    }
   ],
   "source": [
    "# Creating the scatter plot\n",
    "fig = px.scatter(df_error_graph_rfr, x='Actual', y='Predicted', color=\"Direction_Correct\",\n",
    "                color_discrete_map={True: 'green', False: 'red'}, hover_data=['Player_Name', 'Current_Season',\n",
    "                                                                              'Previous_Season_Fantasy'])\n",
    "\n",
    "# Adding line of equality (where actual equals predicted)\n",
    "fig.add_shape(\n",
    "    type='line',\n",
    "    line=dict(dash='dash'),\n",
    "    x0=df_error_graph_rfr['Actual'].min(),\n",
    "    y0=df_error_graph_rfr['Actual'].min(),\n",
    "    x1=df_error_graph_rfr['Actual'].max(),\n",
    "    y1=df_error_graph_rfr['Actual'].max()\n",
    ")\n",
    "\n",
    "# Updating layout\n",
    "fig.update_layout(\n",
    "    title='Actual vs Predicted Fantasy Production (RFR - New Metric)',\n",
    "    xaxis_title='Actual Fantasy Production',\n",
    "    yaxis_title='Predicted Fantasy Production',\n",
    "    showlegend=False\n",
    ")\n",
    "\n",
    "fig.write_html(\"../../interactive/WR/stability/season/new-metric-rfr.html\")\n",
    "\n",
    "# Show the plot\n",
    "fig.show()"
   ]
  },
  {
   "cell_type": "code",
   "execution_count": 165,
   "id": "d9f3efd1",
   "metadata": {},
   "outputs": [
    {
     "name": "stdout",
     "output_type": "stream",
     "text": [
      "Total irrelevant: 82\n",
      "Total irrelevant direction correct: 49\n",
      "Percent direction correct: 59.8%\n",
      "\n",
      "Total relevant: 64\n",
      "Total relevant direction correct: 39\n",
      "Percent direction correct: 60.9%\n",
      "\n",
      "Total: 146\n",
      "Total direction correct: 88\n",
      "Percent direction correct: 60.3%\n"
     ]
    }
   ],
   "source": [
    "total_irrel = len(df_error_graph_rfr.query(\"Actual <= 101\"))\n",
    "total_irrel_correct = len(df_error_graph_rfr.query(\"Actual <= 101 and Direction_Correct == True\"))\n",
    "print(f\"Total irrelevant: {total_irrel}\")\n",
    "print(f\"Total irrelevant direction correct: {total_irrel_correct}\")\n",
    "print(f\"Percent direction correct: {round(total_irrel_correct / total_irrel, 3) * 100}%\")\n",
    "\n",
    "print()\n",
    "total_rel = len(df_error_graph_rfr.query(\"Actual >= 101\"))\n",
    "total_rel_correct = len(df_error_graph_rfr.query(\"Actual >= 101 and Direction_Correct == True\"))\n",
    "print(f\"Total relevant: {total_rel}\")\n",
    "print(f\"Total relevant direction correct: {total_rel_correct}\")\n",
    "print(f\"Percent direction correct: {round(total_rel_correct / total_rel, 3) * 100}%\")\n",
    "\n",
    "print()\n",
    "total = len(df_error_graph_rfr)\n",
    "total_dir_correct = len(df_error_graph_rfr.query(\"Direction_Correct == True\"))\n",
    "print(f\"Total: {total}\")\n",
    "print(f\"Total direction correct: {total_dir_correct}\")\n",
    "print(f\"Percent direction correct: {round(total_dir_correct / total, 3) * 100}%\")"
   ]
  },
  {
   "cell_type": "code",
   "execution_count": null,
   "id": "e595c5f5",
   "metadata": {},
   "outputs": [],
   "source": []
  }
 ],
 "metadata": {
  "kernelspec": {
   "display_name": "plotly",
   "language": "python",
   "name": "plotly"
  },
  "language_info": {
   "codemirror_mode": {
    "name": "ipython",
    "version": 3
   },
   "file_extension": ".py",
   "mimetype": "text/x-python",
   "name": "python",
   "nbconvert_exporter": "python",
   "pygments_lexer": "ipython3",
   "version": "3.9.7"
  }
 },
 "nbformat": 4,
 "nbformat_minor": 5
}
