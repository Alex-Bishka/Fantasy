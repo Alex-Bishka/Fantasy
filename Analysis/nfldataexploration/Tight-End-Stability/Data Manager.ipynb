{
 "cells": [
  {
   "cell_type": "markdown",
   "id": "378f41e1",
   "metadata": {},
   "source": [
    "# Imports"
   ]
  },
  {
   "cell_type": "code",
   "execution_count": 1,
   "id": "2f0b7e41",
   "metadata": {},
   "outputs": [],
   "source": [
    "import pandas as pd\n",
    "import nfl_data_py as nfl"
   ]
  },
  {
   "cell_type": "markdown",
   "id": "a40b4e77",
   "metadata": {},
   "source": [
    "# Creating Tight End Data"
   ]
  },
  {
   "cell_type": "code",
   "execution_count": 12,
   "id": "c4d723d9",
   "metadata": {},
   "outputs": [],
   "source": [
    "df_pass_catchers = pd.read_pickle(\"../Wide Receiver Stability/wr-simple-data-2012-2022-qbr.pkl\")"
   ]
  },
  {
   "cell_type": "code",
   "execution_count": 13,
   "id": "8dacf92d",
   "metadata": {},
   "outputs": [],
   "source": [
    "df_te = df_pass_catchers.query(\"position == 'TE'\").copy()"
   ]
  },
  {
   "cell_type": "code",
   "execution_count": 14,
   "id": "10a64647",
   "metadata": {},
   "outputs": [],
   "source": [
    "df_te.dropna(inplace=True)"
   ]
  },
  {
   "cell_type": "code",
   "execution_count": 4,
   "id": "8c42c7a5",
   "metadata": {},
   "outputs": [],
   "source": [
    "df_te_23 = nfl.import_seasonal_data([2023])"
   ]
  },
  {
   "cell_type": "code",
   "execution_count": 10,
   "id": "bde47253",
   "metadata": {},
   "outputs": [],
   "source": [
    "df_roster_23 = nfl.import_seasonal_rosters([2023])"
   ]
  },
  {
   "cell_type": "code",
   "execution_count": 15,
   "id": "40251a36",
   "metadata": {},
   "outputs": [],
   "source": [
    "df_te_merge = df_te_23.merge(df_roster_23[['player_name', \"player_id\", \"position\"]], on=\"player_id\", how=\"left\")"
   ]
  },
  {
   "cell_type": "code",
   "execution_count": 16,
   "id": "b6b9646f",
   "metadata": {},
   "outputs": [],
   "source": [
    "df_te_merge = df_te_merge.query(\"position == 'TE'\").copy()"
   ]
  },
  {
   "cell_type": "code",
   "execution_count": 18,
   "id": "bba0351e",
   "metadata": {},
   "outputs": [],
   "source": [
    "df_te_merge.dropna(inplace=True)"
   ]
  },
  {
   "cell_type": "markdown",
   "id": "819e5e55",
   "metadata": {},
   "source": [
    "# Saving Data"
   ]
  },
  {
   "cell_type": "code",
   "execution_count": 15,
   "id": "80fd3f4e",
   "metadata": {},
   "outputs": [],
   "source": [
    "df_te.to_pickle(\"./te-simple-data-2012-2022-qbr.pkl\")"
   ]
  },
  {
   "cell_type": "code",
   "execution_count": 19,
   "id": "3c9712bb",
   "metadata": {},
   "outputs": [],
   "source": [
    "df_te_merge.to_pickle(\"./te-2023.pkl\")"
   ]
  },
  {
   "cell_type": "code",
   "execution_count": null,
   "id": "79210f83",
   "metadata": {},
   "outputs": [],
   "source": []
  }
 ],
 "metadata": {
  "kernelspec": {
   "display_name": "nfldata",
   "language": "python",
   "name": "nfldata"
  },
  "language_info": {
   "codemirror_mode": {
    "name": "ipython",
    "version": 3
   },
   "file_extension": ".py",
   "mimetype": "text/x-python",
   "name": "python",
   "nbconvert_exporter": "python",
   "pygments_lexer": "ipython3",
   "version": "3.9.7"
  }
 },
 "nbformat": 4,
 "nbformat_minor": 5
}
