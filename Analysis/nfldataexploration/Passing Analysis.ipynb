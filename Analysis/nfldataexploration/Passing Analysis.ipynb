{
 "cells": [
  {
   "cell_type": "markdown",
   "id": "06b8ed2e",
   "metadata": {},
   "source": [
    "# Imports"
   ]
  },
  {
   "cell_type": "code",
   "execution_count": 1,
   "id": "d57e8d6c",
   "metadata": {},
   "outputs": [],
   "source": [
    "import pandas as pd\n",
    "import numpy as np"
   ]
  },
  {
   "cell_type": "code",
   "execution_count": 2,
   "id": "a9f5197d",
   "metadata": {},
   "outputs": [],
   "source": [
    "import nfl_data_py as nfl"
   ]
  },
  {
   "cell_type": "markdown",
   "id": "0a08eb9f",
   "metadata": {},
   "source": [
    "# Pass Analysis"
   ]
  },
  {
   "cell_type": "code",
   "execution_count": 3,
   "id": "336855b3",
   "metadata": {},
   "outputs": [
    {
     "name": "stdout",
     "output_type": "stream",
     "text": [
      "2016 done.\n",
      "2017 done.\n",
      "2018 done.\n",
      "2019 done.\n",
      "2020 done.\n",
      "2021 done.\n",
      "2022 done.\n",
      "2023 done.\n",
      "Downcasting floats.\n"
     ]
    }
   ],
   "source": [
    "seasons = range(2016, 2023 + 1)\n",
    "df_pbp = nfl.import_pbp_data(seasons) "
   ]
  },
  {
   "cell_type": "code",
   "execution_count": 4,
   "id": "2bd699b9",
   "metadata": {},
   "outputs": [],
   "source": [
    "df_passes = df_pbp.query(\"play_type == 'pass' & air_yards.notnull()\").reset_index()\n",
    "df_passes = df_passes.query(\"season_type == 'REG'\")  # remove playoff numbers"
   ]
  },
  {
   "cell_type": "code",
   "execution_count": 5,
   "id": "240b0b63",
   "metadata": {},
   "outputs": [
    {
     "data": {
      "text/html": [
       "<div>\n",
       "<style scoped>\n",
       "    .dataframe tbody tr th:only-of-type {\n",
       "        vertical-align: middle;\n",
       "    }\n",
       "\n",
       "    .dataframe tbody tr th {\n",
       "        vertical-align: top;\n",
       "    }\n",
       "\n",
       "    .dataframe thead th {\n",
       "        text-align: right;\n",
       "    }\n",
       "</style>\n",
       "<table border=\"1\" class=\"dataframe\">\n",
       "  <thead>\n",
       "    <tr style=\"text-align: right;\">\n",
       "      <th></th>\n",
       "      <th>index</th>\n",
       "      <th>play_id</th>\n",
       "      <th>game_id</th>\n",
       "      <th>old_game_id</th>\n",
       "      <th>home_team</th>\n",
       "      <th>away_team</th>\n",
       "      <th>season_type</th>\n",
       "      <th>week</th>\n",
       "      <th>posteam</th>\n",
       "      <th>posteam_type</th>\n",
       "      <th>...</th>\n",
       "      <th>offense_formation</th>\n",
       "      <th>offense_personnel</th>\n",
       "      <th>defenders_in_box</th>\n",
       "      <th>defense_personnel</th>\n",
       "      <th>number_of_pass_rushers</th>\n",
       "      <th>players_on_play</th>\n",
       "      <th>offense_players</th>\n",
       "      <th>defense_players</th>\n",
       "      <th>n_offense</th>\n",
       "      <th>n_defense</th>\n",
       "    </tr>\n",
       "  </thead>\n",
       "  <tbody>\n",
       "    <tr>\n",
       "      <th>0</th>\n",
       "      <td>3</td>\n",
       "      <td>85.0</td>\n",
       "      <td>2016_01_BUF_BAL</td>\n",
       "      <td>2016091101</td>\n",
       "      <td>BAL</td>\n",
       "      <td>BUF</td>\n",
       "      <td>REG</td>\n",
       "      <td>1</td>\n",
       "      <td>BAL</td>\n",
       "      <td>home</td>\n",
       "      <td>...</td>\n",
       "      <td>SHOTGUN</td>\n",
       "      <td>2 RB, 1 TE, 2 WR</td>\n",
       "      <td>6.0</td>\n",
       "      <td>4 DL, 3 LB, 4 DB</td>\n",
       "      <td>3.0</td>\n",
       "      <td>41302;40078;38540;35553;43295;38582;40053;4336...</td>\n",
       "      <td>00-0029892;00-0027714;00-0032965;00-0029893;00...</td>\n",
       "      <td>00-0031171;00-0029542;00-0029566;00-0030073;00...</td>\n",
       "      <td>11.0</td>\n",
       "      <td>11.0</td>\n",
       "    </tr>\n",
       "    <tr>\n",
       "      <th>1</th>\n",
       "      <td>5</td>\n",
       "      <td>130.0</td>\n",
       "      <td>2016_01_BUF_BAL</td>\n",
       "      <td>2016091101</td>\n",
       "      <td>BAL</td>\n",
       "      <td>BUF</td>\n",
       "      <td>REG</td>\n",
       "      <td>1</td>\n",
       "      <td>BAL</td>\n",
       "      <td>home</td>\n",
       "      <td>...</td>\n",
       "      <td>I_FORM</td>\n",
       "      <td>2 RB, 1 TE, 2 WR</td>\n",
       "      <td>7.0</td>\n",
       "      <td>4 DL, 3 LB, 4 DB</td>\n",
       "      <td>5.0</td>\n",
       "      <td>40078;38540;41302;35553;38582;43295;40053;4336...</td>\n",
       "      <td>00-0029892;00-0027714;00-0032965;00-0029893;00...</td>\n",
       "      <td>00-0029542;00-0031171;00-0029566;00-0030073;00...</td>\n",
       "      <td>11.0</td>\n",
       "      <td>11.0</td>\n",
       "    </tr>\n",
       "    <tr>\n",
       "      <th>2</th>\n",
       "      <td>9</td>\n",
       "      <td>216.0</td>\n",
       "      <td>2016_01_BUF_BAL</td>\n",
       "      <td>2016091101</td>\n",
       "      <td>BAL</td>\n",
       "      <td>BUF</td>\n",
       "      <td>REG</td>\n",
       "      <td>1</td>\n",
       "      <td>BUF</td>\n",
       "      <td>away</td>\n",
       "      <td>...</td>\n",
       "      <td>SHOTGUN</td>\n",
       "      <td>1 RB, 2 TE, 2 WR</td>\n",
       "      <td>7.0</td>\n",
       "      <td>3 DL, 4 LB, 4 DB</td>\n",
       "      <td>4.0</td>\n",
       "      <td>34479;40111;41277;37249;41230;36089;37100;3567...</td>\n",
       "      <td>00-0027004;00-0030046;00-0028112;00-0031325;00...</td>\n",
       "      <td>00-0031170;00-0027560;00-0027965;00-0031296;00...</td>\n",
       "      <td>11.0</td>\n",
       "      <td>10.0</td>\n",
       "    </tr>\n",
       "    <tr>\n",
       "      <th>3</th>\n",
       "      <td>11</td>\n",
       "      <td>261.0</td>\n",
       "      <td>2016_01_BUF_BAL</td>\n",
       "      <td>2016091101</td>\n",
       "      <td>BAL</td>\n",
       "      <td>BUF</td>\n",
       "      <td>REG</td>\n",
       "      <td>1</td>\n",
       "      <td>BUF</td>\n",
       "      <td>away</td>\n",
       "      <td>...</td>\n",
       "      <td>SHOTGUN</td>\n",
       "      <td>1 RB, 1 TE, 3 WR</td>\n",
       "      <td>6.0</td>\n",
       "      <td>1 DL, 5 LB, 5 DB</td>\n",
       "      <td>3.0</td>\n",
       "      <td>34479;40111;41277;37249;41230;36089;40112;3710...</td>\n",
       "      <td>00-0027004;00-0030046;00-0028112;00-0031325;00...</td>\n",
       "      <td>00-0031170;00-0027560;00-0027965;00-0031296;00...</td>\n",
       "      <td>10.0</td>\n",
       "      <td>10.0</td>\n",
       "    </tr>\n",
       "    <tr>\n",
       "      <th>4</th>\n",
       "      <td>13</td>\n",
       "      <td>310.0</td>\n",
       "      <td>2016_01_BUF_BAL</td>\n",
       "      <td>2016091101</td>\n",
       "      <td>BAL</td>\n",
       "      <td>BUF</td>\n",
       "      <td>REG</td>\n",
       "      <td>1</td>\n",
       "      <td>BAL</td>\n",
       "      <td>home</td>\n",
       "      <td>...</td>\n",
       "      <td>SHOTGUN</td>\n",
       "      <td>1 RB, 2 TE, 2 WR</td>\n",
       "      <td>7.0</td>\n",
       "      <td>4 DL, 3 LB, 4 DB</td>\n",
       "      <td>4.0</td>\n",
       "      <td>38540;41302;35553;38582;43295;40053;43369;4011...</td>\n",
       "      <td>00-0027714;00-0032965;00-0029893;00-0026223;00...</td>\n",
       "      <td>00-0029542;00-0031171;00-0029566;00-0030073;00...</td>\n",
       "      <td>11.0</td>\n",
       "      <td>11.0</td>\n",
       "    </tr>\n",
       "  </tbody>\n",
       "</table>\n",
       "<p>5 rows × 385 columns</p>\n",
       "</div>"
      ],
      "text/plain": [
       "   index  play_id          game_id old_game_id home_team away_team  \\\n",
       "0      3     85.0  2016_01_BUF_BAL  2016091101       BAL       BUF   \n",
       "1      5    130.0  2016_01_BUF_BAL  2016091101       BAL       BUF   \n",
       "2      9    216.0  2016_01_BUF_BAL  2016091101       BAL       BUF   \n",
       "3     11    261.0  2016_01_BUF_BAL  2016091101       BAL       BUF   \n",
       "4     13    310.0  2016_01_BUF_BAL  2016091101       BAL       BUF   \n",
       "\n",
       "  season_type  week posteam posteam_type  ... offense_formation  \\\n",
       "0         REG     1     BAL         home  ...           SHOTGUN   \n",
       "1         REG     1     BAL         home  ...            I_FORM   \n",
       "2         REG     1     BUF         away  ...           SHOTGUN   \n",
       "3         REG     1     BUF         away  ...           SHOTGUN   \n",
       "4         REG     1     BAL         home  ...           SHOTGUN   \n",
       "\n",
       "  offense_personnel  defenders_in_box defense_personnel  \\\n",
       "0  2 RB, 1 TE, 2 WR               6.0  4 DL, 3 LB, 4 DB   \n",
       "1  2 RB, 1 TE, 2 WR               7.0  4 DL, 3 LB, 4 DB   \n",
       "2  1 RB, 2 TE, 2 WR               7.0  3 DL, 4 LB, 4 DB   \n",
       "3  1 RB, 1 TE, 3 WR               6.0  1 DL, 5 LB, 5 DB   \n",
       "4  1 RB, 2 TE, 2 WR               7.0  4 DL, 3 LB, 4 DB   \n",
       "\n",
       "   number_of_pass_rushers                                    players_on_play  \\\n",
       "0                     3.0  41302;40078;38540;35553;43295;38582;40053;4336...   \n",
       "1                     5.0  40078;38540;41302;35553;38582;43295;40053;4336...   \n",
       "2                     4.0  34479;40111;41277;37249;41230;36089;37100;3567...   \n",
       "3                     3.0  34479;40111;41277;37249;41230;36089;40112;3710...   \n",
       "4                     4.0  38540;41302;35553;38582;43295;40053;43369;4011...   \n",
       "\n",
       "                                     offense_players  \\\n",
       "0  00-0029892;00-0027714;00-0032965;00-0029893;00...   \n",
       "1  00-0029892;00-0027714;00-0032965;00-0029893;00...   \n",
       "2  00-0027004;00-0030046;00-0028112;00-0031325;00...   \n",
       "3  00-0027004;00-0030046;00-0028112;00-0031325;00...   \n",
       "4  00-0027714;00-0032965;00-0029893;00-0026223;00...   \n",
       "\n",
       "                                     defense_players  n_offense  n_defense  \n",
       "0  00-0031171;00-0029542;00-0029566;00-0030073;00...       11.0       11.0  \n",
       "1  00-0029542;00-0031171;00-0029566;00-0030073;00...       11.0       11.0  \n",
       "2  00-0031170;00-0027560;00-0027965;00-0031296;00...       11.0       10.0  \n",
       "3  00-0031170;00-0027560;00-0027965;00-0031296;00...       10.0       10.0  \n",
       "4  00-0029542;00-0031171;00-0029566;00-0030073;00...       11.0       11.0  \n",
       "\n",
       "[5 rows x 385 columns]"
      ]
     },
     "execution_count": 5,
     "metadata": {},
     "output_type": "execute_result"
    }
   ],
   "source": [
    "df_passes.head()"
   ]
  },
  {
   "cell_type": "markdown",
   "id": "89361720",
   "metadata": {},
   "source": [
    "A *long pass* is a pass that is 20+ yards, and a *short pass* as less than 20 yards."
   ]
  },
  {
   "cell_type": "code",
   "execution_count": 6,
   "id": "118dfb55",
   "metadata": {},
   "outputs": [],
   "source": [
    "df_passes[\"pass_length_air_yards\"] = np.where(\n",
    "      df_passes[\"air_yards\"] >= 20, \"long\", \"short\"\n",
    ")"
   ]
  },
  {
   "cell_type": "code",
   "execution_count": 7,
   "id": "df4143c8",
   "metadata": {},
   "outputs": [],
   "source": [
    "df_passes[\"passing_yards\"] = np.where(\n",
    "          df_passes[\"passing_yards\"].isnull(), 0,\n",
    "          df_passes[\"passing_yards\"]\n",
    "        )"
   ]
  },
  {
   "cell_type": "code",
   "execution_count": 8,
   "id": "3173f9f5",
   "metadata": {},
   "outputs": [
    {
     "data": {
      "text/plain": [
       "count    137797.000000\n",
       "mean          7.172536\n",
       "std           9.644473\n",
       "min         -20.000000\n",
       "25%           0.000000\n",
       "50%           5.000000\n",
       "75%          11.000000\n",
       "max          98.000000\n",
       "Name: passing_yards, dtype: float64"
      ]
     },
     "execution_count": 8,
     "metadata": {},
     "output_type": "execute_result"
    }
   ],
   "source": [
    "df_passes[\"passing_yards\"].describe()"
   ]
  },
  {
   "cell_type": "markdown",
   "id": "4dcc158c",
   "metadata": {},
   "source": [
    "## Passing yards by pass type"
   ]
  },
  {
   "cell_type": "code",
   "execution_count": 9,
   "id": "ce72f345",
   "metadata": {},
   "outputs": [
    {
     "data": {
      "text/plain": [
       "count    121634.000000\n",
       "mean          6.514511\n",
       "std           7.689307\n",
       "min         -20.000000\n",
       "25%           0.000000\n",
       "50%           5.000000\n",
       "75%          10.000000\n",
       "max          95.000000\n",
       "Name: passing_yards, dtype: float64"
      ]
     },
     "execution_count": 9,
     "metadata": {},
     "output_type": "execute_result"
    }
   ],
   "source": [
    "df_passes.query(\"pass_length_air_yards == 'short'\")[\"passing_yards\"].describe()"
   ]
  },
  {
   "cell_type": "code",
   "execution_count": 10,
   "id": "c2b9e319",
   "metadata": {},
   "outputs": [
    {
     "data": {
      "text/plain": [
       "count    16163.000000\n",
       "mean        12.124482\n",
       "std         17.896767\n",
       "min          0.000000\n",
       "25%          0.000000\n",
       "50%          0.000000\n",
       "75%         26.000000\n",
       "max         98.000000\n",
       "Name: passing_yards, dtype: float64"
      ]
     },
     "execution_count": 10,
     "metadata": {},
     "output_type": "execute_result"
    }
   ],
   "source": [
    "df_passes.query(\"pass_length_air_yards == 'long'\")[\"passing_yards\"].describe()"
   ]
  },
  {
   "cell_type": "markdown",
   "id": "1b4f18da",
   "metadata": {},
   "source": [
    "## EPA by pass type"
   ]
  },
  {
   "cell_type": "code",
   "execution_count": 11,
   "id": "e15dd428",
   "metadata": {},
   "outputs": [
    {
     "data": {
      "text/plain": [
       "count    121633.000000\n",
       "mean          0.114338\n",
       "std           1.429999\n",
       "min         -13.031219\n",
       "25%          -0.609256\n",
       "50%          -0.006993\n",
       "75%           0.952274\n",
       "max           8.241420\n",
       "Name: epa, dtype: float64"
      ]
     },
     "execution_count": 11,
     "metadata": {},
     "output_type": "execute_result"
    }
   ],
   "source": [
    "df_passes.query(\"pass_length_air_yards == 'short'\")[\"epa\"].describe()"
   ]
  },
  {
   "cell_type": "code",
   "execution_count": 12,
   "id": "4a928ea2",
   "metadata": {},
   "outputs": [
    {
     "data": {
      "text/plain": [
       "count    16163.000000\n",
       "mean         0.372608\n",
       "std          2.183673\n",
       "min        -10.477921\n",
       "25%         -0.832427\n",
       "50%         -0.469055\n",
       "75%          2.131527\n",
       "max          8.789743\n",
       "Name: epa, dtype: float64"
      ]
     },
     "execution_count": 12,
     "metadata": {},
     "output_type": "execute_result"
    }
   ],
   "source": [
    "df_passes.query(\"pass_length_air_yards == 'long'\")[\"epa\"].describe()"
   ]
  },
  {
   "cell_type": "markdown",
   "id": "d120b457",
   "metadata": {},
   "source": [
    "# Plotting"
   ]
  },
  {
   "cell_type": "code",
   "execution_count": 13,
   "id": "a2683ec7",
   "metadata": {},
   "outputs": [],
   "source": [
    "import seaborn as sns\n",
    "import matplotlib.pyplot as plt"
   ]
  },
  {
   "cell_type": "markdown",
   "id": "0bd4de71",
   "metadata": {},
   "source": [
    "## Yards Gained on Passes"
   ]
  },
  {
   "cell_type": "code",
   "execution_count": 14,
   "id": "1a9e0376",
   "metadata": {},
   "outputs": [
    {
     "data": {
      "image/png": "[encoded data removed]",
      "text/plain": [
       "<Figure size 500x500 with 1 Axes>"
      ]
     },
     "metadata": {},
     "output_type": "display_data"
    }
   ],
   "source": [
    "sns.displot(data=df_passes, x=\"passing_yards\");\n",
    "plt.show();"
   ]
  },
  {
   "cell_type": "markdown",
   "id": "d6db2279",
   "metadata": {},
   "source": [
    "## Yards Gained on Short Passes"
   ]
  },
  {
   "cell_type": "code",
   "execution_count": 15,
   "id": "83fc63af",
   "metadata": {},
   "outputs": [],
   "source": [
    "sns.set_theme(style=\"whitegrid\", palette=\"colorblind\")\n",
    "df_short_passes = df_passes.query(\"pass_length_air_yards == 'short'\")"
   ]
  },
  {
   "cell_type": "code",
   "execution_count": 16,
   "id": "1680c194",
   "metadata": {},
   "outputs": [
    {
     "data": {
      "image/png": "[encoded data removed]",
      "text/plain": [
       "<Figure size 500x500 with 1 Axes>"
      ]
     },
     "metadata": {},
     "output_type": "display_data"
    }
   ],
   "source": [
    "pass_hist_short = sns.displot(data=df_short_passes, binwidth=1, x=\"passing_yards\")\n",
    "pass_hist_short.set_axis_labels(\"Yards gained (or lost) during a passing play\", \"Count\");\n",
    "plt.show();"
   ]
  },
  {
   "cell_type": "markdown",
   "id": "84c4a7bc",
   "metadata": {},
   "source": [
    "# Yards Gained on Long Passes"
   ]
  },
  {
   "cell_type": "code",
   "execution_count": 17,
   "id": "d69ce2d1",
   "metadata": {},
   "outputs": [],
   "source": [
    "sns.set_theme(style=\"whitegrid\", palette=\"colorblind\")\n",
    "df_long_passes = df_passes.query(\"pass_length_air_yards == 'long'\")"
   ]
  },
  {
   "cell_type": "code",
   "execution_count": 18,
   "id": "e8c9486b",
   "metadata": {},
   "outputs": [
    {
     "data": {
      "image/png": "[encoded data removed]",
      "text/plain": [
       "<Figure size 500x500 with 1 Axes>"
      ]
     },
     "metadata": {},
     "output_type": "display_data"
    }
   ],
   "source": [
    "pass_hist_long = sns.displot(data=df_long_passes, binwidth=1, x=\"passing_yards\")\n",
    "pass_hist_long.set_axis_labels(\"Yards gained (or lost) during a passing play\", \"Count\");\n",
    "plt.show();"
   ]
  },
  {
   "cell_type": "markdown",
   "id": "f379e1de",
   "metadata": {},
   "source": [
    "# Boxplot of Yards Gained (Passing)"
   ]
  },
  {
   "cell_type": "code",
   "execution_count": 19,
   "id": "0f614a6a",
   "metadata": {},
   "outputs": [
    {
     "data": {
      "image/png": "[encoded data removed]",
      "text/plain": [
       "<Figure size 640x480 with 1 Axes>"
      ]
     },
     "metadata": {},
     "output_type": "display_data"
    }
   ],
   "source": [
    "pass_boxplot = sns.boxplot(data=df_passes, x=\"pass_length_air_yards\", y=\"passing_yards\");\n",
    "pass_boxplot.set(\n",
    "    xlabel=\"Pass length (long >= 20 yards, short < 20 yards)\", \n",
    "    ylabel=\"Yards gained (or lost) during a passing play\",\n",
    ");\n",
    "plt.show();"
   ]
  },
  {
   "cell_type": "code",
   "execution_count": null,
   "id": "bba11841",
   "metadata": {},
   "outputs": [],
   "source": []
  }
 ],
 "metadata": {
  "kernelspec": {
   "display_name": "nfldata",
   "language": "python",
   "name": "nfldata"
  },
  "language_info": {
   "codemirror_mode": {
    "name": "ipython",
    "version": 3
   },
   "file_extension": ".py",
   "mimetype": "text/x-python",
   "name": "python",
   "nbconvert_exporter": "python",
   "pygments_lexer": "ipython3",
   "version": "3.9.7"
  }
 },
 "nbformat": 4,
 "nbformat_minor": 5
}
