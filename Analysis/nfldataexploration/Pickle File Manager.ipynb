{
 "cells": [
  {
   "cell_type": "markdown",
   "id": "06b8ed2e",
   "metadata": {},
   "source": [
    "# Imports"
   ]
  },
  {
   "cell_type": "code",
   "execution_count": 1,
   "id": "d57e8d6c",
   "metadata": {},
   "outputs": [],
   "source": [
    "import pandas as pd\n",
    "import numpy as np"
   ]
  },
  {
   "cell_type": "code",
   "execution_count": 2,
   "id": "a9f5197d",
   "metadata": {},
   "outputs": [],
   "source": [
    "import nfl_data_py as nfl"
   ]
  },
  {
   "cell_type": "markdown",
   "id": "9e07cef3",
   "metadata": {},
   "source": [
    "# Grabbing Data"
   ]
  },
  {
   "cell_type": "code",
   "execution_count": 3,
   "id": "35d4a444",
   "metadata": {},
   "outputs": [],
   "source": [
    "seasons = range(2012, 2022 + 1)"
   ]
  },
  {
   "cell_type": "code",
   "execution_count": null,
   "id": "bba11841",
   "metadata": {},
   "outputs": [],
   "source": [
    "df_pbp = nfl.import_pbp_data(seasons) "
   ]
  },
  {
   "cell_type": "code",
   "execution_count": null,
   "id": "d1159ec8",
   "metadata": {},
   "outputs": [],
   "source": [
    "df_seasonal = nfl.import_seasonal_data(seasons)"
   ]
  },
  {
   "cell_type": "code",
   "execution_count": null,
   "id": "96a34ff0",
   "metadata": {},
   "outputs": [],
   "source": [
    "df_roster = nfl.import_seasonal_rosters(seasons)"
   ]
  },
  {
   "cell_type": "markdown",
   "id": "0c413c95",
   "metadata": {},
   "source": [
    "The next gen stats only go from 2016 onward, unfortunately..."
   ]
  },
  {
   "cell_type": "markdown",
   "id": "fe38c89c",
   "metadata": {},
   "source": [
    "### NGS"
   ]
  },
  {
   "cell_type": "code",
   "execution_count": null,
   "id": "ad842136",
   "metadata": {},
   "outputs": [],
   "source": [
    "df_ngs_pass = nfl.import_ngs_data(stat_type=\"passing\", years=seasons)"
   ]
  },
  {
   "cell_type": "code",
   "execution_count": null,
   "id": "56da493d",
   "metadata": {},
   "outputs": [],
   "source": [
    "df_ngs_rush = nfl.import_ngs_data(stat_type=\"rushing\", years=seasons)"
   ]
  },
  {
   "cell_type": "code",
   "execution_count": null,
   "id": "ccf8aeae",
   "metadata": {},
   "outputs": [],
   "source": [
    "df_ngs_rec = nfl.import_ngs_data(stat_type=\"receiving\", years=seasons)"
   ]
  },
  {
   "cell_type": "markdown",
   "id": "64ea04cc",
   "metadata": {},
   "source": [
    "### PFR"
   ]
  },
  {
   "cell_type": "code",
   "execution_count": null,
   "id": "769185eb",
   "metadata": {},
   "outputs": [],
   "source": [
    "df_pfr_pass = nfl.import_seasonal_pfr(\"pass\", range(2018, 2022 + 1))"
   ]
  },
  {
   "cell_type": "code",
   "execution_count": null,
   "id": "fc9f7a7f",
   "metadata": {},
   "outputs": [],
   "source": [
    "df_pfr_rush = nfl.import_seasonal_pfr(\"rush\", range(2018, 2022 + 1))"
   ]
  },
  {
   "cell_type": "code",
   "execution_count": null,
   "id": "509c4eba",
   "metadata": {},
   "outputs": [],
   "source": [
    "df_pfr_rec = nfl.import_seasonal_pfr(\"rec\", range(2018, 2022 + 1))"
   ]
  },
  {
   "cell_type": "markdown",
   "id": "062ecf91",
   "metadata": {},
   "source": [
    "### QBR"
   ]
  },
  {
   "cell_type": "code",
   "execution_count": null,
   "id": "18021b11",
   "metadata": {},
   "outputs": [],
   "source": [
    "df_qbr = nfl.import_qbr(seasons)"
   ]
  },
  {
   "cell_type": "markdown",
   "id": "a28a891c",
   "metadata": {},
   "source": [
    "### Draft Data"
   ]
  },
  {
   "cell_type": "code",
   "execution_count": 53,
   "id": "bf38ce86",
   "metadata": {},
   "outputs": [],
   "source": [
    "df_draft_picks = nfl.import_draft_picks(range(1980, 2022 + 1))"
   ]
  },
  {
   "cell_type": "code",
   "execution_count": 54,
   "id": "cd52287b",
   "metadata": {},
   "outputs": [
    {
     "data": {
      "text/plain": [
       "1980"
      ]
     },
     "execution_count": 54,
     "metadata": {},
     "output_type": "execute_result"
    }
   ],
   "source": [
    "df_draft_picks[\"season\"].min()"
   ]
  },
  {
   "cell_type": "markdown",
   "id": "da8677f5",
   "metadata": {},
   "source": [
    "### Depth Charts"
   ]
  },
  {
   "cell_type": "code",
   "execution_count": 13,
   "id": "c9d838ea",
   "metadata": {},
   "outputs": [],
   "source": [
    "df_dc = nfl.import_depth_charts(seasons)"
   ]
  },
  {
   "cell_type": "code",
   "execution_count": 37,
   "id": "18bad023",
   "metadata": {},
   "outputs": [],
   "source": [
    "df_dc[\"depth_team\"] = df_dc[\"depth_team\"].astype(\"int\")"
   ]
  },
  {
   "cell_type": "code",
   "execution_count": 38,
   "id": "35b025f0",
   "metadata": {},
   "outputs": [],
   "source": [
    "df_dc_mean = df_dc \\\n",
    "    .groupby([\"first_name\", \"last_name\", \"season\", \"gsis_id\"]) \\\n",
    "    .agg({\n",
    "        \"depth_team\": [\"mean\"]\n",
    "    })"
   ]
  },
  {
   "cell_type": "code",
   "execution_count": 39,
   "id": "8393117d",
   "metadata": {},
   "outputs": [],
   "source": [
    "df_dc_mean.columns = list(map(\"_\".join, df_dc_mean.columns))\n",
    "df_dc_mean.reset_index(inplace=True)"
   ]
  },
  {
   "cell_type": "code",
   "execution_count": 40,
   "id": "71fe5d8f",
   "metadata": {},
   "outputs": [
    {
     "data": {
      "text/html": [
       "<div>\n",
       "<style scoped>\n",
       "    .dataframe tbody tr th:only-of-type {\n",
       "        vertical-align: middle;\n",
       "    }\n",
       "\n",
       "    .dataframe tbody tr th {\n",
       "        vertical-align: top;\n",
       "    }\n",
       "\n",
       "    .dataframe thead th {\n",
       "        text-align: right;\n",
       "    }\n",
       "</style>\n",
       "<table border=\"1\" class=\"dataframe\">\n",
       "  <thead>\n",
       "    <tr style=\"text-align: right;\">\n",
       "      <th></th>\n",
       "      <th>first_name</th>\n",
       "      <th>last_name</th>\n",
       "      <th>season</th>\n",
       "      <th>gsis_id</th>\n",
       "      <th>depth_team_mean</th>\n",
       "    </tr>\n",
       "  </thead>\n",
       "  <tbody>\n",
       "    <tr>\n",
       "      <th>0</th>\n",
       "      <td>A'Shawn</td>\n",
       "      <td>Robinson</td>\n",
       "      <td>2016.0</td>\n",
       "      <td>00-0032889</td>\n",
       "      <td>1.900000</td>\n",
       "    </tr>\n",
       "    <tr>\n",
       "      <th>1</th>\n",
       "      <td>A'Shawn</td>\n",
       "      <td>Robinson</td>\n",
       "      <td>2017.0</td>\n",
       "      <td>00-0032889</td>\n",
       "      <td>1.000000</td>\n",
       "    </tr>\n",
       "    <tr>\n",
       "      <th>2</th>\n",
       "      <td>A'Shawn</td>\n",
       "      <td>Robinson</td>\n",
       "      <td>2018.0</td>\n",
       "      <td>00-0032889</td>\n",
       "      <td>1.941176</td>\n",
       "    </tr>\n",
       "    <tr>\n",
       "      <th>3</th>\n",
       "      <td>A'Shawn</td>\n",
       "      <td>Robinson</td>\n",
       "      <td>2019.0</td>\n",
       "      <td>00-0032889</td>\n",
       "      <td>1.000000</td>\n",
       "    </tr>\n",
       "    <tr>\n",
       "      <th>4</th>\n",
       "      <td>A'Shawn</td>\n",
       "      <td>Robinson</td>\n",
       "      <td>2020.0</td>\n",
       "      <td>00-0032889</td>\n",
       "      <td>2.000000</td>\n",
       "    </tr>\n",
       "  </tbody>\n",
       "</table>\n",
       "</div>"
      ],
      "text/plain": [
       "  first_name last_name  season     gsis_id  depth_team_mean\n",
       "0    A'Shawn  Robinson  2016.0  00-0032889         1.900000\n",
       "1    A'Shawn  Robinson  2017.0  00-0032889         1.000000\n",
       "2    A'Shawn  Robinson  2018.0  00-0032889         1.941176\n",
       "3    A'Shawn  Robinson  2019.0  00-0032889         1.000000\n",
       "4    A'Shawn  Robinson  2020.0  00-0032889         2.000000"
      ]
     },
     "execution_count": 40,
     "metadata": {},
     "output_type": "execute_result"
    }
   ],
   "source": [
    "df_dc_mean.head()"
   ]
  },
  {
   "cell_type": "markdown",
   "id": "47158dca",
   "metadata": {},
   "source": [
    "## Saving dfs to pkl"
   ]
  },
  {
   "cell_type": "code",
   "execution_count": 41,
   "id": "2c41b291",
   "metadata": {},
   "outputs": [],
   "source": [
    "file_path = \"../interactive\""
   ]
  },
  {
   "cell_type": "code",
   "execution_count": null,
   "id": "8e0a066f",
   "metadata": {},
   "outputs": [],
   "source": [
    "# df_pbp.to_pickle(f\"{file_path}/df_pbp_2012_2022.pkl\")"
   ]
  },
  {
   "cell_type": "code",
   "execution_count": null,
   "id": "9b35755a",
   "metadata": {},
   "outputs": [],
   "source": [
    "# df_seasonal.to_pickle(f\"{file_path}/df_seasonal_2012_2022.pkl\")"
   ]
  },
  {
   "cell_type": "code",
   "execution_count": null,
   "id": "fb5a0e8f",
   "metadata": {},
   "outputs": [],
   "source": [
    "# df_roster.to_pickle(f\"{file_path}/df_roster_2012_2022.pkl\")"
   ]
  },
  {
   "cell_type": "markdown",
   "id": "d75c0d0a",
   "metadata": {},
   "source": [
    "## Amazon Next Gen Stats DFs"
   ]
  },
  {
   "cell_type": "code",
   "execution_count": null,
   "id": "4676ae40",
   "metadata": {},
   "outputs": [],
   "source": [
    "# df_ngs_pass.to_pickle(f\"{file_path}/df_ngs_pass_2016_2022.pkl\")"
   ]
  },
  {
   "cell_type": "code",
   "execution_count": null,
   "id": "d6720859",
   "metadata": {},
   "outputs": [],
   "source": [
    "# df_ngs_rush.to_pickle(f\"{file_path}/df_ngs_rush_2016_2022.pkl\")"
   ]
  },
  {
   "cell_type": "code",
   "execution_count": null,
   "id": "0f5f8865",
   "metadata": {},
   "outputs": [],
   "source": [
    "# df_ngs_rec.to_pickle(f\"{file_path}/df_ngs_rec_2016_2022.pkl\")"
   ]
  },
  {
   "cell_type": "markdown",
   "id": "2b5b0eab",
   "metadata": {},
   "source": [
    "## Pro Football Reference DFs"
   ]
  },
  {
   "cell_type": "code",
   "execution_count": null,
   "id": "18464175",
   "metadata": {},
   "outputs": [],
   "source": [
    "# df_pfr_pass.to_pickle(f\"{file_path}/df_pfr_pass_2018_2022.pkl\")"
   ]
  },
  {
   "cell_type": "code",
   "execution_count": null,
   "id": "d35ab1e1",
   "metadata": {},
   "outputs": [],
   "source": [
    "# df_pfr_rush.to_pickle(f\"{file_path}/df_pfr_rush_2018_2022.pkl\")"
   ]
  },
  {
   "cell_type": "code",
   "execution_count": null,
   "id": "6e2c5a7b",
   "metadata": {},
   "outputs": [],
   "source": [
    "# df_pfr_rec.to_pickle(f\"{file_path}/df_pfr_rec_2018_2022.pkl\")"
   ]
  },
  {
   "cell_type": "markdown",
   "id": "29ae3844",
   "metadata": {},
   "source": [
    "## QBR History DF"
   ]
  },
  {
   "cell_type": "code",
   "execution_count": null,
   "id": "3195946b",
   "metadata": {},
   "outputs": [],
   "source": [
    "# df_qbr.to_pickle(f\"{file_path}/df_qbr_seasonal_2012_2022.pkl\")"
   ]
  },
  {
   "cell_type": "markdown",
   "id": "99a0e8d1",
   "metadata": {},
   "source": [
    "## Draft Data"
   ]
  },
  {
   "cell_type": "code",
   "execution_count": 55,
   "id": "efeea398",
   "metadata": {},
   "outputs": [],
   "source": [
    "df_draft_picks.to_pickle(f\"{file_path}/df_draft_picks_1980_2022.pkl\")"
   ]
  },
  {
   "cell_type": "markdown",
   "id": "f72a286a",
   "metadata": {},
   "source": [
    "## Depth Charts"
   ]
  },
  {
   "cell_type": "code",
   "execution_count": 42,
   "id": "41428149",
   "metadata": {},
   "outputs": [],
   "source": [
    "df_dc_mean.to_pickle(f\"{file_path}/df_dc_mean_2012_2022.pkl\")"
   ]
  },
  {
   "cell_type": "code",
   "execution_count": null,
   "id": "760028d2",
   "metadata": {},
   "outputs": [],
   "source": []
  }
 ],
 "metadata": {
  "kernelspec": {
   "display_name": "nfldata",
   "language": "python",
   "name": "nfldata"
  },
  "language_info": {
   "codemirror_mode": {
    "name": "ipython",
    "version": 3
   },
   "file_extension": ".py",
   "mimetype": "text/x-python",
   "name": "python",
   "nbconvert_exporter": "python",
   "pygments_lexer": "ipython3",
   "version": "3.9.7"
  }
 },
 "nbformat": 4,
 "nbformat_minor": 5
}
