{
 "cells": [
  {
   "cell_type": "markdown",
   "id": "06b8ed2e",
   "metadata": {},
   "source": [
    "# Imports"
   ]
  },
  {
   "cell_type": "code",
   "execution_count": 1,
   "id": "d57e8d6c",
   "metadata": {},
   "outputs": [],
   "source": [
    "import pandas as pd\n",
    "import numpy as np"
   ]
  },
  {
   "cell_type": "code",
   "execution_count": 2,
   "id": "a9f5197d",
   "metadata": {},
   "outputs": [],
   "source": [
    "import nfl_data_py as nfl"
   ]
  },
  {
   "cell_type": "markdown",
   "id": "9e07cef3",
   "metadata": {},
   "source": [
    "# Grabbing Data"
   ]
  },
  {
   "cell_type": "code",
   "execution_count": 4,
   "id": "35d4a444",
   "metadata": {},
   "outputs": [],
   "source": [
    "seasons = range(2012, 2022 + 1)"
   ]
  },
  {
   "cell_type": "code",
   "execution_count": 4,
   "id": "bba11841",
   "metadata": {},
   "outputs": [
    {
     "name": "stdout",
     "output_type": "stream",
     "text": [
      "2012 done.\n",
      "2013 done.\n",
      "2014 done.\n",
      "2015 done.\n",
      "2016 done.\n",
      "2017 done.\n",
      "2018 done.\n",
      "2019 done.\n",
      "2020 done.\n",
      "2021 done.\n",
      "2022 done.\n",
      "Downcasting floats.\n"
     ]
    }
   ],
   "source": [
    "df_pbp = nfl.import_pbp_data(seasons) "
   ]
  },
  {
   "cell_type": "code",
   "execution_count": 5,
   "id": "d1159ec8",
   "metadata": {},
   "outputs": [],
   "source": [
    "df_seasonal = nfl.import_seasonal_data(seasons)"
   ]
  },
  {
   "cell_type": "code",
   "execution_count": 6,
   "id": "96a34ff0",
   "metadata": {},
   "outputs": [],
   "source": [
    "df_roster = nfl.import_seasonal_rosters(seasons)"
   ]
  },
  {
   "cell_type": "markdown",
   "id": "0c413c95",
   "metadata": {},
   "source": [
    "The next gen stats only go from 2016 onward, unfortunately..."
   ]
  },
  {
   "cell_type": "markdown",
   "id": "fe38c89c",
   "metadata": {},
   "source": [
    "### NGS"
   ]
  },
  {
   "cell_type": "code",
   "execution_count": 7,
   "id": "ad842136",
   "metadata": {},
   "outputs": [],
   "source": [
    "df_ngs_pass = nfl.import_ngs_data(stat_type=\"passing\", years=seasons)"
   ]
  },
  {
   "cell_type": "code",
   "execution_count": 6,
   "id": "56da493d",
   "metadata": {},
   "outputs": [],
   "source": [
    "df_ngs_rush = nfl.import_ngs_data(stat_type=\"rushing\", years=seasons)"
   ]
  },
  {
   "cell_type": "code",
   "execution_count": 5,
   "id": "ccf8aeae",
   "metadata": {},
   "outputs": [],
   "source": [
    "df_ngs_rec = nfl.import_ngs_data(stat_type=\"receiving\", years=seasons)"
   ]
  },
  {
   "cell_type": "markdown",
   "id": "64ea04cc",
   "metadata": {},
   "source": [
    "### PFR"
   ]
  },
  {
   "cell_type": "code",
   "execution_count": 9,
   "id": "769185eb",
   "metadata": {},
   "outputs": [],
   "source": [
    "df_pfr_pass = nfl.import_seasonal_pfr(\"pass\", range(2018, 2022 + 1))"
   ]
  },
  {
   "cell_type": "code",
   "execution_count": 10,
   "id": "fc9f7a7f",
   "metadata": {},
   "outputs": [],
   "source": [
    "df_pfr_rush = nfl.import_seasonal_pfr(\"rush\", range(2018, 2022 + 1))"
   ]
  },
  {
   "cell_type": "code",
   "execution_count": 11,
   "id": "509c4eba",
   "metadata": {},
   "outputs": [],
   "source": [
    "df_pfr_rec = nfl.import_seasonal_pfr(\"rec\", range(2018, 2022 + 1))"
   ]
  },
  {
   "cell_type": "markdown",
   "id": "062ecf91",
   "metadata": {},
   "source": [
    "### QBR"
   ]
  },
  {
   "cell_type": "code",
   "execution_count": 34,
   "id": "18021b11",
   "metadata": {},
   "outputs": [],
   "source": [
    "df_qbr = nfl.import_qbr(seasons)"
   ]
  },
  {
   "cell_type": "markdown",
   "id": "47158dca",
   "metadata": {},
   "source": [
    "## Saving dfs to pkl"
   ]
  },
  {
   "cell_type": "code",
   "execution_count": 29,
   "id": "2c41b291",
   "metadata": {},
   "outputs": [],
   "source": [
    "file_path = \"../interactive\""
   ]
  },
  {
   "cell_type": "code",
   "execution_count": 20,
   "id": "8e0a066f",
   "metadata": {},
   "outputs": [],
   "source": [
    "# df_pbp.to_pickle(f\"{file_path}/df_pbp_2012_2022.pkl\")"
   ]
  },
  {
   "cell_type": "code",
   "execution_count": 21,
   "id": "9b35755a",
   "metadata": {},
   "outputs": [],
   "source": [
    "# df_seasonal.to_pickle(f\"{file_path}/df_seasonal_2012_2022.pkl\")"
   ]
  },
  {
   "cell_type": "code",
   "execution_count": 22,
   "id": "fb5a0e8f",
   "metadata": {},
   "outputs": [],
   "source": [
    "# df_roster.to_pickle(f\"{file_path}/df_roster_2012_2022.pkl\")"
   ]
  },
  {
   "cell_type": "markdown",
   "id": "d75c0d0a",
   "metadata": {},
   "source": [
    "## Amazon Next Gen Stats DFs"
   ]
  },
  {
   "cell_type": "code",
   "execution_count": 23,
   "id": "4676ae40",
   "metadata": {},
   "outputs": [],
   "source": [
    "# df_ngs_pass.to_pickle(f\"{file_path}/df_ngs_pass_2016_2022.pkl\")"
   ]
  },
  {
   "cell_type": "code",
   "execution_count": 14,
   "id": "d6720859",
   "metadata": {},
   "outputs": [],
   "source": [
    "# df_ngs_rush.to_pickle(f\"{file_path}/df_ngs_rush_2016_2022.pkl\")"
   ]
  },
  {
   "cell_type": "code",
   "execution_count": 15,
   "id": "0f5f8865",
   "metadata": {},
   "outputs": [],
   "source": [
    "# df_ngs_rec.to_pickle(f\"{file_path}/df_ngs_rec_2016_2022.pkl\")"
   ]
  },
  {
   "cell_type": "markdown",
   "id": "2b5b0eab",
   "metadata": {},
   "source": [
    "## Pro Football Reference DFs"
   ]
  },
  {
   "cell_type": "code",
   "execution_count": 31,
   "id": "18464175",
   "metadata": {},
   "outputs": [],
   "source": [
    "df_pfr_pass.to_pickle(f\"{file_path}/df_pfr_pass_2018_2022.pkl\")"
   ]
  },
  {
   "cell_type": "code",
   "execution_count": 32,
   "id": "d35ab1e1",
   "metadata": {},
   "outputs": [],
   "source": [
    "df_pfr_rush.to_pickle(f\"{file_path}/df_pfr_rush_2018_2022.pkl\")"
   ]
  },
  {
   "cell_type": "code",
   "execution_count": 33,
   "id": "6e2c5a7b",
   "metadata": {},
   "outputs": [],
   "source": [
    "df_pfr_rec.to_pickle(f\"{file_path}/df_pfr_rec_2018_2022.pkl\")"
   ]
  },
  {
   "cell_type": "markdown",
   "id": "29ae3844",
   "metadata": {},
   "source": [
    "## QBR History DF"
   ]
  },
  {
   "cell_type": "code",
   "execution_count": 38,
   "id": "3195946b",
   "metadata": {},
   "outputs": [],
   "source": [
    "df_qbr.to_pickle(f\"{file_path}/df_qbr_seasonal_2012_2022\")"
   ]
  },
  {
   "cell_type": "code",
   "execution_count": null,
   "id": "6350016c",
   "metadata": {},
   "outputs": [],
   "source": []
  }
 ],
 "metadata": {
  "kernelspec": {
   "display_name": "nfldata",
   "language": "python",
   "name": "nfldata"
  },
  "language_info": {
   "codemirror_mode": {
    "name": "ipython",
    "version": 3
   },
   "file_extension": ".py",
   "mimetype": "text/x-python",
   "name": "python",
   "nbconvert_exporter": "python",
   "pygments_lexer": "ipython3",
   "version": "3.9.7"
  }
 },
 "nbformat": 4,
 "nbformat_minor": 5
}
