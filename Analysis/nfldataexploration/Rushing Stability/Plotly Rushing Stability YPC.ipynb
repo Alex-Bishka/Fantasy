{
 "cells": [
  {
   "cell_type": "markdown",
   "id": "c113d051",
   "metadata": {},
   "source": [
    "# Imports"
   ]
  },
  {
   "cell_type": "code",
   "execution_count": 1,
   "id": "f9df5b73",
   "metadata": {},
   "outputs": [],
   "source": [
    "import plotly.graph_objects as go\n",
    "import plotly.express as px"
   ]
  },
  {
   "cell_type": "code",
   "execution_count": 2,
   "id": "f497b671",
   "metadata": {},
   "outputs": [],
   "source": [
    "import itertools\n",
    "import numpy as np\n",
    "import pandas as pd"
   ]
  },
  {
   "cell_type": "markdown",
   "id": "7a7e8db1",
   "metadata": {},
   "source": [
    "# Read Data"
   ]
  },
  {
   "cell_type": "code",
   "execution_count": 3,
   "id": "faebc468",
   "metadata": {},
   "outputs": [],
   "source": [
    "df_og = pd.read_pickle(\"./rushing-mlr.pkl\")"
   ]
  },
  {
   "cell_type": "markdown",
   "id": "d773aa76",
   "metadata": {},
   "source": [
    "# Multivariate Linear Regression"
   ]
  },
  {
   "cell_type": "code",
   "execution_count": 4,
   "id": "766823ce",
   "metadata": {},
   "outputs": [],
   "source": [
    "df = df_og.copy()"
   ]
  },
  {
   "cell_type": "code",
   "execution_count": 5,
   "id": "8c421300",
   "metadata": {},
   "outputs": [
    {
     "data": {
      "text/html": [
       "<div>\n",
       "<style scoped>\n",
       "    .dataframe tbody tr th:only-of-type {\n",
       "        vertical-align: middle;\n",
       "    }\n",
       "\n",
       "    .dataframe tbody tr th {\n",
       "        vertical-align: top;\n",
       "    }\n",
       "\n",
       "    .dataframe thead th {\n",
       "        text-align: right;\n",
       "    }\n",
       "</style>\n",
       "<table border=\"1\" class=\"dataframe\">\n",
       "  <thead>\n",
       "    <tr style=\"text-align: right;\">\n",
       "      <th></th>\n",
       "      <th>rusher_id</th>\n",
       "      <th>rusher</th>\n",
       "      <th>season</th>\n",
       "      <th>rushing_yards</th>\n",
       "      <th>yards_per_carry</th>\n",
       "      <th>carries</th>\n",
       "      <th>fumbles</th>\n",
       "      <th>rushing_touchdowns</th>\n",
       "      <th>times_tackled_for_loss</th>\n",
       "      <th>total_epa</th>\n",
       "      <th>epa_per_play</th>\n",
       "      <th>successful_plays</th>\n",
       "      <th>games</th>\n",
       "      <th>fantasy_points</th>\n",
       "      <th>fantasy_points_next</th>\n",
       "      <th>age</th>\n",
       "      <th>position</th>\n",
       "      <th>depth_team</th>\n",
       "      <th>round</th>\n",
       "      <th>pick</th>\n",
       "    </tr>\n",
       "  </thead>\n",
       "  <tbody>\n",
       "    <tr>\n",
       "      <th>0</th>\n",
       "      <td>00-0007091</td>\n",
       "      <td>M.Hasselbeck</td>\n",
       "      <td>2012</td>\n",
       "      <td>0.0</td>\n",
       "      <td>0.000000</td>\n",
       "      <td>1.0</td>\n",
       "      <td>1.0</td>\n",
       "      <td>0.0</td>\n",
       "      <td>0.0</td>\n",
       "      <td>-1.360733</td>\n",
       "      <td>-1.360733</td>\n",
       "      <td>0.0</td>\n",
       "      <td>8.0</td>\n",
       "      <td>76.48</td>\n",
       "      <td>3.00</td>\n",
       "      <td>36.0</td>\n",
       "      <td>QB</td>\n",
       "      <td>1.861111</td>\n",
       "      <td>6.0</td>\n",
       "      <td>187.0</td>\n",
       "    </tr>\n",
       "    <tr>\n",
       "      <th>1</th>\n",
       "      <td>00-0007091</td>\n",
       "      <td>M.Hasselbeck</td>\n",
       "      <td>2014</td>\n",
       "      <td>-5.0</td>\n",
       "      <td>-5.000000</td>\n",
       "      <td>1.0</td>\n",
       "      <td>0.0</td>\n",
       "      <td>0.0</td>\n",
       "      <td>1.0</td>\n",
       "      <td>-1.280506</td>\n",
       "      <td>-1.280506</td>\n",
       "      <td>0.0</td>\n",
       "      <td>4.0</td>\n",
       "      <td>16.94</td>\n",
       "      <td>91.10</td>\n",
       "      <td>38.0</td>\n",
       "      <td>QB</td>\n",
       "      <td>2.000000</td>\n",
       "      <td>6.0</td>\n",
       "      <td>187.0</td>\n",
       "    </tr>\n",
       "    <tr>\n",
       "      <th>3</th>\n",
       "      <td>00-0010346</td>\n",
       "      <td>P.Manning</td>\n",
       "      <td>2012</td>\n",
       "      <td>-2.0</td>\n",
       "      <td>-1.000000</td>\n",
       "      <td>2.0</td>\n",
       "      <td>0.0</td>\n",
       "      <td>0.0</td>\n",
       "      <td>1.0</td>\n",
       "      <td>-0.817786</td>\n",
       "      <td>-0.408893</td>\n",
       "      <td>0.0</td>\n",
       "      <td>16.0</td>\n",
       "      <td>310.96</td>\n",
       "      <td>409.98</td>\n",
       "      <td>36.0</td>\n",
       "      <td>QB</td>\n",
       "      <td>1.000000</td>\n",
       "      <td>1.0</td>\n",
       "      <td>1.0</td>\n",
       "    </tr>\n",
       "    <tr>\n",
       "      <th>4</th>\n",
       "      <td>00-0010346</td>\n",
       "      <td>P.Manning</td>\n",
       "      <td>2013</td>\n",
       "      <td>-9.0</td>\n",
       "      <td>-0.900000</td>\n",
       "      <td>10.0</td>\n",
       "      <td>5.0</td>\n",
       "      <td>1.0</td>\n",
       "      <td>2.0</td>\n",
       "      <td>-18.549723</td>\n",
       "      <td>-1.854972</td>\n",
       "      <td>1.0</td>\n",
       "      <td>16.0</td>\n",
       "      <td>409.98</td>\n",
       "      <td>312.68</td>\n",
       "      <td>37.0</td>\n",
       "      <td>QB</td>\n",
       "      <td>1.000000</td>\n",
       "      <td>1.0</td>\n",
       "      <td>1.0</td>\n",
       "    </tr>\n",
       "    <tr>\n",
       "      <th>5</th>\n",
       "      <td>00-0010346</td>\n",
       "      <td>P.Manning</td>\n",
       "      <td>2014</td>\n",
       "      <td>-13.0</td>\n",
       "      <td>-1.857143</td>\n",
       "      <td>7.0</td>\n",
       "      <td>3.0</td>\n",
       "      <td>0.0</td>\n",
       "      <td>2.0</td>\n",
       "      <td>-12.568753</td>\n",
       "      <td>-1.795536</td>\n",
       "      <td>1.0</td>\n",
       "      <td>16.0</td>\n",
       "      <td>312.68</td>\n",
       "      <td>91.36</td>\n",
       "      <td>38.0</td>\n",
       "      <td>QB</td>\n",
       "      <td>1.000000</td>\n",
       "      <td>1.0</td>\n",
       "      <td>1.0</td>\n",
       "    </tr>\n",
       "  </tbody>\n",
       "</table>\n",
       "</div>"
      ],
      "text/plain": [
       "    rusher_id        rusher  season  rushing_yards  yards_per_carry  carries  \\\n",
       "0  00-0007091  M.Hasselbeck    2012            0.0         0.000000      1.0   \n",
       "1  00-0007091  M.Hasselbeck    2014           -5.0        -5.000000      1.0   \n",
       "3  00-0010346     P.Manning    2012           -2.0        -1.000000      2.0   \n",
       "4  00-0010346     P.Manning    2013           -9.0        -0.900000     10.0   \n",
       "5  00-0010346     P.Manning    2014          -13.0        -1.857143      7.0   \n",
       "\n",
       "   fumbles  rushing_touchdowns  times_tackled_for_loss  total_epa  \\\n",
       "0      1.0                 0.0                     0.0  -1.360733   \n",
       "1      0.0                 0.0                     1.0  -1.280506   \n",
       "3      0.0                 0.0                     1.0  -0.817786   \n",
       "4      5.0                 1.0                     2.0 -18.549723   \n",
       "5      3.0                 0.0                     2.0 -12.568753   \n",
       "\n",
       "   epa_per_play  successful_plays  games  fantasy_points  fantasy_points_next  \\\n",
       "0     -1.360733               0.0    8.0           76.48                 3.00   \n",
       "1     -1.280506               0.0    4.0           16.94                91.10   \n",
       "3     -0.408893               0.0   16.0          310.96               409.98   \n",
       "4     -1.854972               1.0   16.0          409.98               312.68   \n",
       "5     -1.795536               1.0   16.0          312.68                91.36   \n",
       "\n",
       "    age position  depth_team  round   pick  \n",
       "0  36.0       QB    1.861111    6.0  187.0  \n",
       "1  38.0       QB    2.000000    6.0  187.0  \n",
       "3  36.0       QB    1.000000    1.0    1.0  \n",
       "4  37.0       QB    1.000000    1.0    1.0  \n",
       "5  38.0       QB    1.000000    1.0    1.0  "
      ]
     },
     "execution_count": 5,
     "metadata": {},
     "output_type": "execute_result"
    }
   ],
   "source": [
    "df.head()"
   ]
  },
  {
   "cell_type": "markdown",
   "id": "ed3a663c",
   "metadata": {},
   "source": [
    "# Custom Graph for YPC Stability"
   ]
  },
  {
   "cell_type": "markdown",
   "id": "f3946bea",
   "metadata": {},
   "source": [
    "## DF Manipulation for YPC Stability Graphs"
   ]
  },
  {
   "cell_type": "code",
   "execution_count": 6,
   "id": "912c0b2b",
   "metadata": {},
   "outputs": [],
   "source": [
    "df_rbs = df.query(\"position == 'RB'\").copy()"
   ]
  },
  {
   "cell_type": "code",
   "execution_count": 7,
   "id": "792e5ea3",
   "metadata": {},
   "outputs": [],
   "source": [
    "df_now = df_rbs.copy()\n",
    "df_last = df_rbs.copy()"
   ]
  },
  {
   "cell_type": "code",
   "execution_count": 8,
   "id": "79796164",
   "metadata": {},
   "outputs": [],
   "source": [
    "rename_dict = {}\n",
    "for col in list(df_last.columns[3:]):\n",
    "    rename_dict[col] = f\"{col}_last\""
   ]
  },
  {
   "cell_type": "code",
   "execution_count": 9,
   "id": "b089eb33",
   "metadata": {},
   "outputs": [],
   "source": [
    "df_last.rename(columns=rename_dict, inplace=True)"
   ]
  },
  {
   "cell_type": "code",
   "execution_count": 10,
   "id": "c726ad14",
   "metadata": {},
   "outputs": [],
   "source": [
    "df_last[\"season\"] += 1"
   ]
  },
  {
   "cell_type": "code",
   "execution_count": 11,
   "id": "25ea6040",
   "metadata": {},
   "outputs": [],
   "source": [
    "df_lag = df_now.merge(df_last, how='inner', on=['rusher_id', 'rusher', 'season'])"
   ]
  },
  {
   "cell_type": "code",
   "execution_count": 12,
   "id": "d0689246",
   "metadata": {},
   "outputs": [],
   "source": [
    "df_lag[\"sum_carries\"] = df_lag['carries'] + df_lag['carries_last']"
   ]
  },
  {
   "cell_type": "code",
   "execution_count": 13,
   "id": "2b640230",
   "metadata": {},
   "outputs": [],
   "source": [
    "df_lag[\"min_games_played\"] = df_lag[['games', 'games_last']].min(axis=1)"
   ]
  },
  {
   "cell_type": "markdown",
   "id": "fb21540a",
   "metadata": {},
   "source": [
    "## Lines Created from DF Lag"
   ]
  },
  {
   "cell_type": "code",
   "execution_count": null,
   "id": "704da6ee",
   "metadata": {},
   "outputs": [],
   "source": [
    "grouped_data = {}\n",
    "for threshold in games_played_thresholds:\n",
    "    # Filter based on minimum games played\n",
    "    df_filtered = df_lag[df_lag['min_games_played'] >= threshold]\n",
    "    \n",
    "    # Group by sum of carries and calculate mean YPC\n",
    "    group = df_filtered.groupby('sum_carries')['yards_per_carry'].mean().reset_index()\n",
    "    \n",
    "    # Store the grouped data\n",
    "    grouped_data[threshold] = group"
   ]
  },
  {
   "cell_type": "markdown",
   "id": "b77bcbe0",
   "metadata": {},
   "source": [
    "## Graphing"
   ]
  },
  {
   "cell_type": "code",
   "execution_count": null,
   "id": "c1c49348",
   "metadata": {},
   "outputs": [],
   "source": [
    "base_path = \"../../interactive/RB/stability-rushing/ypc-stability/ypc-v-carries\""
   ]
  },
  {
   "cell_type": "code",
   "execution_count": null,
   "id": "cc024b9e",
   "metadata": {},
   "outputs": [],
   "source": [
    "# Thresholds for minimum games played\n",
    "games_played_thresholds = range(1, 17 + 2)"
   ]
  },
  {
   "cell_type": "code",
   "execution_count": null,
   "id": "580d201d",
   "metadata": {},
   "outputs": [],
   "source": [
    "# Initialize a Plotly figure\n",
    "fig = go.Figure()\n",
    "\n",
    "for threshold in games_played_thresholds:\n",
    "    if threshold in [2, 8, 13, 16]:\n",
    "        # Filter based on minimum games played\n",
    "        df_filtered = df_lag[df_lag['min_games_played'] >= threshold]\n",
    "\n",
    "        # Group by sum of carries and calculate mean YPC\n",
    "        group = df_filtered.groupby('sum_carries')['yards_per_carry'].mean().reset_index()\n",
    "\n",
    "        # Add a trace (line) to the figure for each threshold\n",
    "        fig.add_trace(go.Scatter(x=group['sum_carries'], y=group['yards_per_carry'], mode='lines', name=f'Min Games: {threshold}'))"
   ]
  },
  {
   "cell_type": "code",
   "execution_count": null,
   "id": "8b6fd4d6",
   "metadata": {},
   "outputs": [],
   "source": [
    "# Update layout\n",
    "fig.update_layout(\n",
    "    title='YPC vs Sum of Carries for Different Minimum Games Played',\n",
    "    xaxis_title='Sum of Carries (Year T + Year T-1)',\n",
    "    yaxis_title='Average Yards Per Carry (YPC)',\n",
    "    legend_title='Minimum Games Played',\n",
    "    # template='plotly_dark'  # or choose another template like 'plotly', 'plotly_white', etc.\n",
    ")\n",
    "\n",
    "# save the figure\n",
    "fig.write_html(f\"{base_path}-2-8-13-16.html\")\n",
    "\n",
    "# Show the figure\n",
    "fig.show()"
   ]
  },
  {
   "cell_type": "markdown",
   "id": "b76704e7",
   "metadata": {},
   "source": [
    "# YPC by Age and Fantasy Performance of Back"
   ]
  },
  {
   "cell_type": "code",
   "execution_count": 14,
   "id": "b29559aa",
   "metadata": {},
   "outputs": [
    {
     "data": {
      "text/html": [
       "<div>\n",
       "<style scoped>\n",
       "    .dataframe tbody tr th:only-of-type {\n",
       "        vertical-align: middle;\n",
       "    }\n",
       "\n",
       "    .dataframe tbody tr th {\n",
       "        vertical-align: top;\n",
       "    }\n",
       "\n",
       "    .dataframe thead th {\n",
       "        text-align: right;\n",
       "    }\n",
       "</style>\n",
       "<table border=\"1\" class=\"dataframe\">\n",
       "  <thead>\n",
       "    <tr style=\"text-align: right;\">\n",
       "      <th></th>\n",
       "      <th>rusher_id</th>\n",
       "      <th>rusher</th>\n",
       "      <th>season</th>\n",
       "      <th>rushing_yards</th>\n",
       "      <th>yards_per_carry</th>\n",
       "      <th>carries</th>\n",
       "      <th>fumbles</th>\n",
       "      <th>rushing_touchdowns</th>\n",
       "      <th>times_tackled_for_loss</th>\n",
       "      <th>total_epa</th>\n",
       "      <th>...</th>\n",
       "      <th>games_last</th>\n",
       "      <th>fantasy_points_last</th>\n",
       "      <th>fantasy_points_next_last</th>\n",
       "      <th>age_last</th>\n",
       "      <th>position_last</th>\n",
       "      <th>depth_team_last</th>\n",
       "      <th>round_last</th>\n",
       "      <th>pick_last</th>\n",
       "      <th>sum_carries</th>\n",
       "      <th>min_games_played</th>\n",
       "    </tr>\n",
       "  </thead>\n",
       "  <tbody>\n",
       "    <tr>\n",
       "      <th>0</th>\n",
       "      <td>00-0022736</td>\n",
       "      <td>S.Jackson</td>\n",
       "      <td>2013</td>\n",
       "      <td>543.0</td>\n",
       "      <td>3.458599</td>\n",
       "      <td>157.0</td>\n",
       "      <td>0.0</td>\n",
       "      <td>6.0</td>\n",
       "      <td>15.0</td>\n",
       "      <td>-21.998011</td>\n",
       "      <td>...</td>\n",
       "      <td>16.0</td>\n",
       "      <td>162.6</td>\n",
       "      <td>115.4</td>\n",
       "      <td>29.0</td>\n",
       "      <td>RB</td>\n",
       "      <td>1.000000</td>\n",
       "      <td>1.0</td>\n",
       "      <td>24.0</td>\n",
       "      <td>415.0</td>\n",
       "      <td>12.0</td>\n",
       "    </tr>\n",
       "    <tr>\n",
       "      <th>1</th>\n",
       "      <td>00-0022736</td>\n",
       "      <td>S.Jackson</td>\n",
       "      <td>2014</td>\n",
       "      <td>707.0</td>\n",
       "      <td>3.721053</td>\n",
       "      <td>190.0</td>\n",
       "      <td>0.0</td>\n",
       "      <td>6.0</td>\n",
       "      <td>16.0</td>\n",
       "      <td>-16.424412</td>\n",
       "      <td>...</td>\n",
       "      <td>12.0</td>\n",
       "      <td>115.4</td>\n",
       "      <td>121.5</td>\n",
       "      <td>30.0</td>\n",
       "      <td>RB</td>\n",
       "      <td>1.000000</td>\n",
       "      <td>1.0</td>\n",
       "      <td>24.0</td>\n",
       "      <td>347.0</td>\n",
       "      <td>12.0</td>\n",
       "    </tr>\n",
       "    <tr>\n",
       "      <th>2</th>\n",
       "      <td>00-0023437</td>\n",
       "      <td>R.Brown</td>\n",
       "      <td>2013</td>\n",
       "      <td>157.0</td>\n",
       "      <td>3.488889</td>\n",
       "      <td>45.0</td>\n",
       "      <td>0.0</td>\n",
       "      <td>1.0</td>\n",
       "      <td>2.0</td>\n",
       "      <td>-1.680793</td>\n",
       "      <td>...</td>\n",
       "      <td>14.0</td>\n",
       "      <td>59.1</td>\n",
       "      <td>27.7</td>\n",
       "      <td>30.0</td>\n",
       "      <td>RB</td>\n",
       "      <td>2.166667</td>\n",
       "      <td>1.0</td>\n",
       "      <td>2.0</td>\n",
       "      <td>91.0</td>\n",
       "      <td>12.0</td>\n",
       "    </tr>\n",
       "    <tr>\n",
       "      <th>3</th>\n",
       "      <td>00-0023500</td>\n",
       "      <td>F.Gore</td>\n",
       "      <td>2013</td>\n",
       "      <td>1128.0</td>\n",
       "      <td>4.086957</td>\n",
       "      <td>276.0</td>\n",
       "      <td>3.0</td>\n",
       "      <td>9.0</td>\n",
       "      <td>36.0</td>\n",
       "      <td>-32.703735</td>\n",
       "      <td>...</td>\n",
       "      <td>16.0</td>\n",
       "      <td>196.8</td>\n",
       "      <td>174.9</td>\n",
       "      <td>29.0</td>\n",
       "      <td>RB</td>\n",
       "      <td>1.000000</td>\n",
       "      <td>3.0</td>\n",
       "      <td>65.0</td>\n",
       "      <td>534.0</td>\n",
       "      <td>16.0</td>\n",
       "    </tr>\n",
       "    <tr>\n",
       "      <th>4</th>\n",
       "      <td>00-0023500</td>\n",
       "      <td>F.Gore</td>\n",
       "      <td>2014</td>\n",
       "      <td>1106.0</td>\n",
       "      <td>4.337255</td>\n",
       "      <td>255.0</td>\n",
       "      <td>2.0</td>\n",
       "      <td>4.0</td>\n",
       "      <td>26.0</td>\n",
       "      <td>-24.917688</td>\n",
       "      <td>...</td>\n",
       "      <td>16.0</td>\n",
       "      <td>174.9</td>\n",
       "      <td>147.7</td>\n",
       "      <td>30.0</td>\n",
       "      <td>RB</td>\n",
       "      <td>1.000000</td>\n",
       "      <td>3.0</td>\n",
       "      <td>65.0</td>\n",
       "      <td>531.0</td>\n",
       "      <td>16.0</td>\n",
       "    </tr>\n",
       "  </tbody>\n",
       "</table>\n",
       "<p>5 rows × 39 columns</p>\n",
       "</div>"
      ],
      "text/plain": [
       "    rusher_id     rusher  season  rushing_yards  yards_per_carry  carries  \\\n",
       "0  00-0022736  S.Jackson    2013          543.0         3.458599    157.0   \n",
       "1  00-0022736  S.Jackson    2014          707.0         3.721053    190.0   \n",
       "2  00-0023437    R.Brown    2013          157.0         3.488889     45.0   \n",
       "3  00-0023500     F.Gore    2013         1128.0         4.086957    276.0   \n",
       "4  00-0023500     F.Gore    2014         1106.0         4.337255    255.0   \n",
       "\n",
       "   fumbles  rushing_touchdowns  times_tackled_for_loss  total_epa  ...  \\\n",
       "0      0.0                 6.0                    15.0 -21.998011  ...   \n",
       "1      0.0                 6.0                    16.0 -16.424412  ...   \n",
       "2      0.0                 1.0                     2.0  -1.680793  ...   \n",
       "3      3.0                 9.0                    36.0 -32.703735  ...   \n",
       "4      2.0                 4.0                    26.0 -24.917688  ...   \n",
       "\n",
       "   games_last  fantasy_points_last  fantasy_points_next_last  age_last  \\\n",
       "0        16.0                162.6                     115.4      29.0   \n",
       "1        12.0                115.4                     121.5      30.0   \n",
       "2        14.0                 59.1                      27.7      30.0   \n",
       "3        16.0                196.8                     174.9      29.0   \n",
       "4        16.0                174.9                     147.7      30.0   \n",
       "\n",
       "   position_last  depth_team_last round_last  pick_last  sum_carries  \\\n",
       "0             RB         1.000000        1.0       24.0        415.0   \n",
       "1             RB         1.000000        1.0       24.0        347.0   \n",
       "2             RB         2.166667        1.0        2.0         91.0   \n",
       "3             RB         1.000000        3.0       65.0        534.0   \n",
       "4             RB         1.000000        3.0       65.0        531.0   \n",
       "\n",
       "   min_games_played  \n",
       "0              12.0  \n",
       "1              12.0  \n",
       "2              12.0  \n",
       "3              16.0  \n",
       "4              16.0  \n",
       "\n",
       "[5 rows x 39 columns]"
      ]
     },
     "execution_count": 14,
     "metadata": {},
     "output_type": "execute_result"
    }
   ],
   "source": [
    "df_lag.head()"
   ]
  },
  {
   "cell_type": "code",
   "execution_count": 15,
   "id": "f66a9220",
   "metadata": {},
   "outputs": [],
   "source": [
    "base_path = \"../../interactive/RB/stability-rushing/ypc-stability/ypc-v-age\""
   ]
  },
  {
   "cell_type": "markdown",
   "id": "236c95e7",
   "metadata": {},
   "source": [
    "## Raw Version"
   ]
  },
  {
   "cell_type": "code",
   "execution_count": 24,
   "id": "60d22d3f",
   "metadata": {},
   "outputs": [
    {
     "data": {
      "text/html": [
       "<div>\n",
       "<style scoped>\n",
       "    .dataframe tbody tr th:only-of-type {\n",
       "        vertical-align: middle;\n",
       "    }\n",
       "\n",
       "    .dataframe tbody tr th {\n",
       "        vertical-align: top;\n",
       "    }\n",
       "\n",
       "    .dataframe thead th {\n",
       "        text-align: right;\n",
       "    }\n",
       "</style>\n",
       "<table border=\"1\" class=\"dataframe\">\n",
       "  <thead>\n",
       "    <tr style=\"text-align: right;\">\n",
       "      <th></th>\n",
       "      <th>rusher_id</th>\n",
       "      <th>rusher</th>\n",
       "      <th>season</th>\n",
       "      <th>rushing_yards</th>\n",
       "      <th>yards_per_carry</th>\n",
       "      <th>carries</th>\n",
       "      <th>fumbles</th>\n",
       "      <th>rushing_touchdowns</th>\n",
       "      <th>times_tackled_for_loss</th>\n",
       "      <th>total_epa</th>\n",
       "      <th>...</th>\n",
       "      <th>games_last</th>\n",
       "      <th>fantasy_points_last</th>\n",
       "      <th>fantasy_points_next_last</th>\n",
       "      <th>age_last</th>\n",
       "      <th>position_last</th>\n",
       "      <th>depth_team_last</th>\n",
       "      <th>round_last</th>\n",
       "      <th>pick_last</th>\n",
       "      <th>sum_carries</th>\n",
       "      <th>min_games_played</th>\n",
       "    </tr>\n",
       "  </thead>\n",
       "  <tbody>\n",
       "    <tr>\n",
       "      <th>0</th>\n",
       "      <td>00-0022736</td>\n",
       "      <td>S.Jackson</td>\n",
       "      <td>2013</td>\n",
       "      <td>543.0</td>\n",
       "      <td>3.458599</td>\n",
       "      <td>157.0</td>\n",
       "      <td>0.0</td>\n",
       "      <td>6.0</td>\n",
       "      <td>15.0</td>\n",
       "      <td>-21.998011</td>\n",
       "      <td>...</td>\n",
       "      <td>16.0</td>\n",
       "      <td>162.6</td>\n",
       "      <td>115.4</td>\n",
       "      <td>29.0</td>\n",
       "      <td>RB</td>\n",
       "      <td>1.000000</td>\n",
       "      <td>1.0</td>\n",
       "      <td>24.0</td>\n",
       "      <td>415.0</td>\n",
       "      <td>12.0</td>\n",
       "    </tr>\n",
       "    <tr>\n",
       "      <th>1</th>\n",
       "      <td>00-0022736</td>\n",
       "      <td>S.Jackson</td>\n",
       "      <td>2014</td>\n",
       "      <td>707.0</td>\n",
       "      <td>3.721053</td>\n",
       "      <td>190.0</td>\n",
       "      <td>0.0</td>\n",
       "      <td>6.0</td>\n",
       "      <td>16.0</td>\n",
       "      <td>-16.424412</td>\n",
       "      <td>...</td>\n",
       "      <td>12.0</td>\n",
       "      <td>115.4</td>\n",
       "      <td>121.5</td>\n",
       "      <td>30.0</td>\n",
       "      <td>RB</td>\n",
       "      <td>1.000000</td>\n",
       "      <td>1.0</td>\n",
       "      <td>24.0</td>\n",
       "      <td>347.0</td>\n",
       "      <td>12.0</td>\n",
       "    </tr>\n",
       "    <tr>\n",
       "      <th>2</th>\n",
       "      <td>00-0023437</td>\n",
       "      <td>R.Brown</td>\n",
       "      <td>2013</td>\n",
       "      <td>157.0</td>\n",
       "      <td>3.488889</td>\n",
       "      <td>45.0</td>\n",
       "      <td>0.0</td>\n",
       "      <td>1.0</td>\n",
       "      <td>2.0</td>\n",
       "      <td>-1.680793</td>\n",
       "      <td>...</td>\n",
       "      <td>14.0</td>\n",
       "      <td>59.1</td>\n",
       "      <td>27.7</td>\n",
       "      <td>30.0</td>\n",
       "      <td>RB</td>\n",
       "      <td>2.166667</td>\n",
       "      <td>1.0</td>\n",
       "      <td>2.0</td>\n",
       "      <td>91.0</td>\n",
       "      <td>12.0</td>\n",
       "    </tr>\n",
       "    <tr>\n",
       "      <th>3</th>\n",
       "      <td>00-0023500</td>\n",
       "      <td>F.Gore</td>\n",
       "      <td>2013</td>\n",
       "      <td>1128.0</td>\n",
       "      <td>4.086957</td>\n",
       "      <td>276.0</td>\n",
       "      <td>3.0</td>\n",
       "      <td>9.0</td>\n",
       "      <td>36.0</td>\n",
       "      <td>-32.703735</td>\n",
       "      <td>...</td>\n",
       "      <td>16.0</td>\n",
       "      <td>196.8</td>\n",
       "      <td>174.9</td>\n",
       "      <td>29.0</td>\n",
       "      <td>RB</td>\n",
       "      <td>1.000000</td>\n",
       "      <td>3.0</td>\n",
       "      <td>65.0</td>\n",
       "      <td>534.0</td>\n",
       "      <td>16.0</td>\n",
       "    </tr>\n",
       "    <tr>\n",
       "      <th>4</th>\n",
       "      <td>00-0023500</td>\n",
       "      <td>F.Gore</td>\n",
       "      <td>2014</td>\n",
       "      <td>1106.0</td>\n",
       "      <td>4.337255</td>\n",
       "      <td>255.0</td>\n",
       "      <td>2.0</td>\n",
       "      <td>4.0</td>\n",
       "      <td>26.0</td>\n",
       "      <td>-24.917688</td>\n",
       "      <td>...</td>\n",
       "      <td>16.0</td>\n",
       "      <td>174.9</td>\n",
       "      <td>147.7</td>\n",
       "      <td>30.0</td>\n",
       "      <td>RB</td>\n",
       "      <td>1.000000</td>\n",
       "      <td>3.0</td>\n",
       "      <td>65.0</td>\n",
       "      <td>531.0</td>\n",
       "      <td>16.0</td>\n",
       "    </tr>\n",
       "  </tbody>\n",
       "</table>\n",
       "<p>5 rows × 39 columns</p>\n",
       "</div>"
      ],
      "text/plain": [
       "    rusher_id     rusher  season  rushing_yards  yards_per_carry  carries  \\\n",
       "0  00-0022736  S.Jackson    2013          543.0         3.458599    157.0   \n",
       "1  00-0022736  S.Jackson    2014          707.0         3.721053    190.0   \n",
       "2  00-0023437    R.Brown    2013          157.0         3.488889     45.0   \n",
       "3  00-0023500     F.Gore    2013         1128.0         4.086957    276.0   \n",
       "4  00-0023500     F.Gore    2014         1106.0         4.337255    255.0   \n",
       "\n",
       "   fumbles  rushing_touchdowns  times_tackled_for_loss  total_epa  ...  \\\n",
       "0      0.0                 6.0                    15.0 -21.998011  ...   \n",
       "1      0.0                 6.0                    16.0 -16.424412  ...   \n",
       "2      0.0                 1.0                     2.0  -1.680793  ...   \n",
       "3      3.0                 9.0                    36.0 -32.703735  ...   \n",
       "4      2.0                 4.0                    26.0 -24.917688  ...   \n",
       "\n",
       "   games_last  fantasy_points_last  fantasy_points_next_last  age_last  \\\n",
       "0        16.0                162.6                     115.4      29.0   \n",
       "1        12.0                115.4                     121.5      30.0   \n",
       "2        14.0                 59.1                      27.7      30.0   \n",
       "3        16.0                196.8                     174.9      29.0   \n",
       "4        16.0                174.9                     147.7      30.0   \n",
       "\n",
       "   position_last  depth_team_last round_last  pick_last  sum_carries  \\\n",
       "0             RB         1.000000        1.0       24.0        415.0   \n",
       "1             RB         1.000000        1.0       24.0        347.0   \n",
       "2             RB         2.166667        1.0        2.0         91.0   \n",
       "3             RB         1.000000        3.0       65.0        534.0   \n",
       "4             RB         1.000000        3.0       65.0        531.0   \n",
       "\n",
       "   min_games_played  \n",
       "0              12.0  \n",
       "1              12.0  \n",
       "2              12.0  \n",
       "3              16.0  \n",
       "4              16.0  \n",
       "\n",
       "[5 rows x 39 columns]"
      ]
     },
     "execution_count": 24,
     "metadata": {},
     "output_type": "execute_result"
    }
   ],
   "source": [
    "df_lag.head()"
   ]
  },
  {
   "cell_type": "code",
   "execution_count": 29,
   "id": "587e17c7",
   "metadata": {},
   "outputs": [],
   "source": [
    "def get_ypc_by_age(df, query, sample_size=0):\n",
    "    if query:\n",
    "        df = df.query(query).copy()\n",
    "        \n",
    "    df_ypc_by_age = df \\\n",
    "        .groupby(\"age\") \\\n",
    "        .aggregate({\n",
    "            \"yards_per_carry\": [\"mean\"],\n",
    "            \"fantasy_points\": [\"mean\"],\n",
    "            \"rusher\": [\"count\"],\n",
    "            \"carries\": [\"mean\"]\n",
    "    })\n",
    "    \n",
    "    df_ypc_by_age.columns = list(map(\"_\".join, df_ypc_by_age))\n",
    "    df_ypc_by_age.reset_index(inplace=True)\n",
    "    \n",
    "    df_ypc_by_age.rename(columns={\n",
    "        \"yards_per_carry_mean\": \"average_yards_per_carry\",\n",
    "        \"fantasy_points_mean\": \"average_fantasy_points\",\n",
    "        \"rusher_count\": \"sample_size\"\n",
    "    }, inplace=True)\n",
    "    \n",
    "    if sample_size:\n",
    "        df_ypc_by_age = df_ypc_by_age.query(f\"sample_size >= {sample_size}\").copy()\n",
    "    \n",
    "    norm = df_ypc_by_age[\"average_fantasy_points\"] / df_ypc_by_age[\"average_fantasy_points\"].max()\n",
    "    df_ypc_by_age[\"average_fantasy_points_normalized\"] = norm * df_ypc_by_age[\"average_yards_per_carry\"].max()\n",
    "    \n",
    "    norm = df_ypc_by_age[\"carries_mean\"] / df_ypc_by_age[\"carries_mean\"].max()\n",
    "    df_ypc_by_age[\"average_carries_normalized\"] = norm * df_ypc_by_age[\"average_yards_per_carry\"].max()\n",
    "    \n",
    "    return df_ypc_by_age"
   ]
  },
  {
   "cell_type": "code",
   "execution_count": 30,
   "id": "0780bf59",
   "metadata": {},
   "outputs": [],
   "source": [
    "df_ypc_by_age = get_ypc_by_age(df_lag, \"games >= 10\", 10)"
   ]
  },
  {
   "cell_type": "code",
   "execution_count": 37,
   "id": "d917645f",
   "metadata": {},
   "outputs": [
    {
     "data": {
      "application/vnd.plotly.v1+json": {
       "config": {
        "plotlyServerURL": "https://plot.ly"
       },
       "data": [
        {
         "customdata": [
          [
           25
          ],
          [
           60
          ],
          [
           58
          ],
          [
           55
          ],
          [
           44
          ],
          [
           32
          ],
          [
           32
          ],
          [
           16
          ],
          [
           14
          ]
         ],
         "hovertemplate": "variable=average_yards_per_carry<br>age=%{x}<br>value=%{y}<br>sample_size=%{customdata[0]}<extra></extra>",
         "legendgroup": "average_yards_per_carry",
         "line": {
          "color": "#636efa",
          "dash": "solid"
         },
         "marker": {
          "symbol": "circle"
         },
         "mode": "lines",
         "name": "average_yards_per_carry",
         "orientation": "v",
         "showlegend": true,
         "type": "scatter",
         "x": [
          22,
          23,
          24,
          25,
          26,
          27,
          28,
          29,
          30
         ],
         "xaxis": "x",
         "y": [
          4.288741588592529,
          4.262116432189941,
          4.336973667144775,
          4.413671970367432,
          4.332221508026123,
          3.971949338912964,
          4.153772354125977,
          4.328407287597656,
          3.9319663047790527
         ],
         "yaxis": "y"
        },
        {
         "customdata": [
          [
           25
          ],
          [
           60
          ],
          [
           58
          ],
          [
           55
          ],
          [
           44
          ],
          [
           32
          ],
          [
           32
          ],
          [
           16
          ],
          [
           14
          ]
         ],
         "hovertemplate": "variable=average_fantasy_points_normalized<br>age=%{x}<br>value=%{y}<br>sample_size=%{customdata[0]}<extra></extra>",
         "legendgroup": "average_fantasy_points_normalized",
         "line": {
          "color": "#EF553B",
          "dash": "solid"
         },
         "marker": {
          "symbol": "circle"
         },
         "mode": "lines",
         "name": "average_fantasy_points_normalized",
         "orientation": "v",
         "showlegend": true,
         "type": "scatter",
         "x": [
          22,
          23,
          24,
          25,
          26,
          27,
          28,
          29,
          30
         ],
         "xaxis": "x",
         "y": [
          4.413671970367432,
          4.114275001293607,
          4.197808279363262,
          4.101994280436428,
          4.286480099614856,
          3.4936567786408017,
          3.9094247228293857,
          3.348871378517689,
          3.607111101506051
         ],
         "yaxis": "y"
        },
        {
         "customdata": [
          [
           25
          ],
          [
           60
          ],
          [
           58
          ],
          [
           55
          ],
          [
           44
          ],
          [
           32
          ],
          [
           32
          ],
          [
           16
          ],
          [
           14
          ]
         ],
         "hovertemplate": "variable=average_carries_normalized<br>age=%{x}<br>value=%{y}<br>sample_size=%{customdata[0]}<extra></extra>",
         "legendgroup": "average_carries_normalized",
         "line": {
          "color": "#00cc96",
          "dash": "solid"
         },
         "marker": {
          "symbol": "circle"
         },
         "mode": "lines",
         "name": "average_carries_normalized",
         "orientation": "v",
         "showlegend": true,
         "type": "scatter",
         "x": [
          22,
          23,
          24,
          25,
          26,
          27,
          28,
          29,
          30
         ],
         "xaxis": "x",
         "y": [
          4.413671970367432,
          3.8941354751586914,
          3.9069831371307373,
          3.859710216522217,
          4.084757328033447,
          3.44818115234375,
          4.068527698516846,
          3.4856791496276855,
          4.000402927398682
         ],
         "yaxis": "y"
        }
       ],
       "layout": {
        "legend": {
         "title": {
          "text": "Games Played"
         },
         "tracegroupgap": 0
        },
        "margin": {
         "t": 60
        },
        "template": {
         "data": {
          "bar": [
           {
            "error_x": {
             "color": "#2a3f5f"
            },
            "error_y": {
             "color": "#2a3f5f"
            },
            "marker": {
             "line": {
              "color": "#E5ECF6",
              "width": 0.5
             },
             "pattern": {
              "fillmode": "overlay",
              "size": 10,
              "solidity": 0.2
             }
            },
            "type": "bar"
           }
          ],
          "barpolar": [
           {
            "marker": {
             "line": {
              "color": "#E5ECF6",
              "width": 0.5
             },
             "pattern": {
              "fillmode": "overlay",
              "size": 10,
              "solidity": 0.2
             }
            },
            "type": "barpolar"
           }
          ],
          "carpet": [
           {
            "aaxis": {
             "endlinecolor": "#2a3f5f",
             "gridcolor": "white",
             "linecolor": "white",
             "minorgridcolor": "white",
             "startlinecolor": "#2a3f5f"
            },
            "baxis": {
             "endlinecolor": "#2a3f5f",
             "gridcolor": "white",
             "linecolor": "white",
             "minorgridcolor": "white",
             "startlinecolor": "#2a3f5f"
            },
            "type": "carpet"
           }
          ],
          "choropleth": [
           {
            "colorbar": {
             "outlinewidth": 0,
             "ticks": ""
            },
            "type": "choropleth"
           }
          ],
          "contour": [
           {
            "colorbar": {
             "outlinewidth": 0,
             "ticks": ""
            },
            "colorscale": [
             [
              0,
              "#0d0887"
             ],
             [
              0.1111111111111111,
              "#46039f"
             ],
             [
              0.2222222222222222,
              "#7201a8"
             ],
             [
              0.3333333333333333,
              "#9c179e"
             ],
             [
              0.4444444444444444,
              "#bd3786"
             ],
             [
              0.5555555555555556,
              "#d8576b"
             ],
             [
              0.6666666666666666,
              "#ed7953"
             ],
             [
              0.7777777777777778,
              "#fb9f3a"
             ],
             [
              0.8888888888888888,
              "#fdca26"
             ],
             [
              1,
              "#f0f921"
             ]
            ],
            "type": "contour"
           }
          ],
          "contourcarpet": [
           {
            "colorbar": {
             "outlinewidth": 0,
             "ticks": ""
            },
            "type": "contourcarpet"
           }
          ],
          "heatmap": [
           {
            "colorbar": {
             "outlinewidth": 0,
             "ticks": ""
            },
            "colorscale": [
             [
              0,
              "#0d0887"
             ],
             [
              0.1111111111111111,
              "#46039f"
             ],
             [
              0.2222222222222222,
              "#7201a8"
             ],
             [
              0.3333333333333333,
              "#9c179e"
             ],
             [
              0.4444444444444444,
              "#bd3786"
             ],
             [
              0.5555555555555556,
              "#d8576b"
             ],
             [
              0.6666666666666666,
              "#ed7953"
             ],
             [
              0.7777777777777778,
              "#fb9f3a"
             ],
             [
              0.8888888888888888,
              "#fdca26"
             ],
             [
              1,
              "#f0f921"
             ]
            ],
            "type": "heatmap"
           }
          ],
          "heatmapgl": [
           {
            "colorbar": {
             "outlinewidth": 0,
             "ticks": ""
            },
            "colorscale": [
             [
              0,
              "#0d0887"
             ],
             [
              0.1111111111111111,
              "#46039f"
             ],
             [
              0.2222222222222222,
              "#7201a8"
             ],
             [
              0.3333333333333333,
              "#9c179e"
             ],
             [
              0.4444444444444444,
              "#bd3786"
             ],
             [
              0.5555555555555556,
              "#d8576b"
             ],
             [
              0.6666666666666666,
              "#ed7953"
             ],
             [
              0.7777777777777778,
              "#fb9f3a"
             ],
             [
              0.8888888888888888,
              "#fdca26"
             ],
             [
              1,
              "#f0f921"
             ]
            ],
            "type": "heatmapgl"
           }
          ],
          "histogram": [
           {
            "marker": {
             "pattern": {
              "fillmode": "overlay",
              "size": 10,
              "solidity": 0.2
             }
            },
            "type": "histogram"
           }
          ],
          "histogram2d": [
           {
            "colorbar": {
             "outlinewidth": 0,
             "ticks": ""
            },
            "colorscale": [
             [
              0,
              "#0d0887"
             ],
             [
              0.1111111111111111,
              "#46039f"
             ],
             [
              0.2222222222222222,
              "#7201a8"
             ],
             [
              0.3333333333333333,
              "#9c179e"
             ],
             [
              0.4444444444444444,
              "#bd3786"
             ],
             [
              0.5555555555555556,
              "#d8576b"
             ],
             [
              0.6666666666666666,
              "#ed7953"
             ],
             [
              0.7777777777777778,
              "#fb9f3a"
             ],
             [
              0.8888888888888888,
              "#fdca26"
             ],
             [
              1,
              "#f0f921"
             ]
            ],
            "type": "histogram2d"
           }
          ],
          "histogram2dcontour": [
           {
            "colorbar": {
             "outlinewidth": 0,
             "ticks": ""
            },
            "colorscale": [
             [
              0,
              "#0d0887"
             ],
             [
              0.1111111111111111,
              "#46039f"
             ],
             [
              0.2222222222222222,
              "#7201a8"
             ],
             [
              0.3333333333333333,
              "#9c179e"
             ],
             [
              0.4444444444444444,
              "#bd3786"
             ],
             [
              0.5555555555555556,
              "#d8576b"
             ],
             [
              0.6666666666666666,
              "#ed7953"
             ],
             [
              0.7777777777777778,
              "#fb9f3a"
             ],
             [
              0.8888888888888888,
              "#fdca26"
             ],
             [
              1,
              "#f0f921"
             ]
            ],
            "type": "histogram2dcontour"
           }
          ],
          "mesh3d": [
           {
            "colorbar": {
             "outlinewidth": 0,
             "ticks": ""
            },
            "type": "mesh3d"
           }
          ],
          "parcoords": [
           {
            "line": {
             "colorbar": {
              "outlinewidth": 0,
              "ticks": ""
             }
            },
            "type": "parcoords"
           }
          ],
          "pie": [
           {
            "automargin": true,
            "type": "pie"
           }
          ],
          "scatter": [
           {
            "fillpattern": {
             "fillmode": "overlay",
             "size": 10,
             "solidity": 0.2
            },
            "type": "scatter"
           }
          ],
          "scatter3d": [
           {
            "line": {
             "colorbar": {
              "outlinewidth": 0,
              "ticks": ""
             }
            },
            "marker": {
             "colorbar": {
              "outlinewidth": 0,
              "ticks": ""
             }
            },
            "type": "scatter3d"
           }
          ],
          "scattercarpet": [
           {
            "marker": {
             "colorbar": {
              "outlinewidth": 0,
              "ticks": ""
             }
            },
            "type": "scattercarpet"
           }
          ],
          "scattergeo": [
           {
            "marker": {
             "colorbar": {
              "outlinewidth": 0,
              "ticks": ""
             }
            },
            "type": "scattergeo"
           }
          ],
          "scattergl": [
           {
            "marker": {
             "colorbar": {
              "outlinewidth": 0,
              "ticks": ""
             }
            },
            "type": "scattergl"
           }
          ],
          "scattermapbox": [
           {
            "marker": {
             "colorbar": {
              "outlinewidth": 0,
              "ticks": ""
             }
            },
            "type": "scattermapbox"
           }
          ],
          "scatterpolar": [
           {
            "marker": {
             "colorbar": {
              "outlinewidth": 0,
              "ticks": ""
             }
            },
            "type": "scatterpolar"
           }
          ],
          "scatterpolargl": [
           {
            "marker": {
             "colorbar": {
              "outlinewidth": 0,
              "ticks": ""
             }
            },
            "type": "scatterpolargl"
           }
          ],
          "scatterternary": [
           {
            "marker": {
             "colorbar": {
              "outlinewidth": 0,
              "ticks": ""
             }
            },
            "type": "scatterternary"
           }
          ],
          "surface": [
           {
            "colorbar": {
             "outlinewidth": 0,
             "ticks": ""
            },
            "colorscale": [
             [
              0,
              "#0d0887"
             ],
             [
              0.1111111111111111,
              "#46039f"
             ],
             [
              0.2222222222222222,
              "#7201a8"
             ],
             [
              0.3333333333333333,
              "#9c179e"
             ],
             [
              0.4444444444444444,
              "#bd3786"
             ],
             [
              0.5555555555555556,
              "#d8576b"
             ],
             [
              0.6666666666666666,
              "#ed7953"
             ],
             [
              0.7777777777777778,
              "#fb9f3a"
             ],
             [
              0.8888888888888888,
              "#fdca26"
             ],
             [
              1,
              "#f0f921"
             ]
            ],
            "type": "surface"
           }
          ],
          "table": [
           {
            "cells": {
             "fill": {
              "color": "#EBF0F8"
             },
             "line": {
              "color": "white"
             }
            },
            "header": {
             "fill": {
              "color": "#C8D4E3"
             },
             "line": {
              "color": "white"
             }
            },
            "type": "table"
           }
          ]
         },
         "layout": {
          "annotationdefaults": {
           "arrowcolor": "#2a3f5f",
           "arrowhead": 0,
           "arrowwidth": 1
          },
          "autotypenumbers": "strict",
          "coloraxis": {
           "colorbar": {
            "outlinewidth": 0,
            "ticks": ""
           }
          },
          "colorscale": {
           "diverging": [
            [
             0,
             "#8e0152"
            ],
            [
             0.1,
             "#c51b7d"
            ],
            [
             0.2,
             "#de77ae"
            ],
            [
             0.3,
             "#f1b6da"
            ],
            [
             0.4,
             "#fde0ef"
            ],
            [
             0.5,
             "#f7f7f7"
            ],
            [
             0.6,
             "#e6f5d0"
            ],
            [
             0.7,
             "#b8e186"
            ],
            [
             0.8,
             "#7fbc41"
            ],
            [
             0.9,
             "#4d9221"
            ],
            [
             1,
             "#276419"
            ]
           ],
           "sequential": [
            [
             0,
             "#0d0887"
            ],
            [
             0.1111111111111111,
             "#46039f"
            ],
            [
             0.2222222222222222,
             "#7201a8"
            ],
            [
             0.3333333333333333,
             "#9c179e"
            ],
            [
             0.4444444444444444,
             "#bd3786"
            ],
            [
             0.5555555555555556,
             "#d8576b"
            ],
            [
             0.6666666666666666,
             "#ed7953"
            ],
            [
             0.7777777777777778,
             "#fb9f3a"
            ],
            [
             0.8888888888888888,
             "#fdca26"
            ],
            [
             1,
             "#f0f921"
            ]
           ],
           "sequentialminus": [
            [
             0,
             "#0d0887"
            ],
            [
             0.1111111111111111,
             "#46039f"
            ],
            [
             0.2222222222222222,
             "#7201a8"
            ],
            [
             0.3333333333333333,
             "#9c179e"
            ],
            [
             0.4444444444444444,
             "#bd3786"
            ],
            [
             0.5555555555555556,
             "#d8576b"
            ],
            [
             0.6666666666666666,
             "#ed7953"
            ],
            [
             0.7777777777777778,
             "#fb9f3a"
            ],
            [
             0.8888888888888888,
             "#fdca26"
            ],
            [
             1,
             "#f0f921"
            ]
           ]
          },
          "colorway": [
           "#636efa",
           "#EF553B",
           "#00cc96",
           "#ab63fa",
           "#FFA15A",
           "#19d3f3",
           "#FF6692",
           "#B6E880",
           "#FF97FF",
           "#FECB52"
          ],
          "font": {
           "color": "#2a3f5f"
          },
          "geo": {
           "bgcolor": "white",
           "lakecolor": "white",
           "landcolor": "#E5ECF6",
           "showlakes": true,
           "showland": true,
           "subunitcolor": "white"
          },
          "hoverlabel": {
           "align": "left"
          },
          "hovermode": "closest",
          "mapbox": {
           "style": "light"
          },
          "paper_bgcolor": "white",
          "plot_bgcolor": "#E5ECF6",
          "polar": {
           "angularaxis": {
            "gridcolor": "white",
            "linecolor": "white",
            "ticks": ""
           },
           "bgcolor": "#E5ECF6",
           "radialaxis": {
            "gridcolor": "white",
            "linecolor": "white",
            "ticks": ""
           }
          },
          "scene": {
           "xaxis": {
            "backgroundcolor": "#E5ECF6",
            "gridcolor": "white",
            "gridwidth": 2,
            "linecolor": "white",
            "showbackground": true,
            "ticks": "",
            "zerolinecolor": "white"
           },
           "yaxis": {
            "backgroundcolor": "#E5ECF6",
            "gridcolor": "white",
            "gridwidth": 2,
            "linecolor": "white",
            "showbackground": true,
            "ticks": "",
            "zerolinecolor": "white"
           },
           "zaxis": {
            "backgroundcolor": "#E5ECF6",
            "gridcolor": "white",
            "gridwidth": 2,
            "linecolor": "white",
            "showbackground": true,
            "ticks": "",
            "zerolinecolor": "white"
           }
          },
          "shapedefaults": {
           "line": {
            "color": "#2a3f5f"
           }
          },
          "ternary": {
           "aaxis": {
            "gridcolor": "white",
            "linecolor": "white",
            "ticks": ""
           },
           "baxis": {
            "gridcolor": "white",
            "linecolor": "white",
            "ticks": ""
           },
           "bgcolor": "#E5ECF6",
           "caxis": {
            "gridcolor": "white",
            "linecolor": "white",
            "ticks": ""
           }
          },
          "title": {
           "x": 0.05
          },
          "xaxis": {
           "automargin": true,
           "gridcolor": "white",
           "linecolor": "white",
           "ticks": "",
           "title": {
            "standoff": 15
           },
           "zerolinecolor": "white",
           "zerolinewidth": 2
          },
          "yaxis": {
           "automargin": true,
           "gridcolor": "white",
           "linecolor": "white",
           "ticks": "",
           "title": {
            "standoff": 15
           },
           "zerolinecolor": "white",
           "zerolinewidth": 2
          }
         }
        },
        "title": {
         "text": "Performance Metrics vs Age"
        },
        "xaxis": {
         "anchor": "y",
         "domain": [
          0,
          1
         ],
         "title": {
          "text": "Age"
         }
        },
        "yaxis": {
         "anchor": "x",
         "domain": [
          0,
          1
         ],
         "title": {
          "text": "Performance Metrics"
         }
        }
       }
      },
      "text/html": [
       "<div>                            <div id=\"f4de5b84-772d-4527-aca6-ce3f8fe4e55d\" class=\"plotly-graph-div\" style=\"height:525px; width:100%;\"></div>            <script type=\"text/javascript\">                require([\"plotly\"], function(Plotly) {                    window.PLOTLYENV=window.PLOTLYENV || {};                                    if (document.getElementById(\"f4de5b84-772d-4527-aca6-ce3f8fe4e55d\")) {                    Plotly.newPlot(                        \"f4de5b84-772d-4527-aca6-ce3f8fe4e55d\",                        [{\"customdata\":[[25],[60],[58],[55],[44],[32],[32],[16],[14]],\"hovertemplate\":\"variable=average_yards_per_carry\\u003cbr\\u003eage=%{x}\\u003cbr\\u003evalue=%{y}\\u003cbr\\u003esample_size=%{customdata[0]}\\u003cextra\\u003e\\u003c\\u002fextra\\u003e\",\"legendgroup\":\"average_yards_per_carry\",\"line\":{\"color\":\"#636efa\",\"dash\":\"solid\"},\"marker\":{\"symbol\":\"circle\"},\"mode\":\"lines\",\"name\":\"average_yards_per_carry\",\"orientation\":\"v\",\"showlegend\":true,\"x\":[22.0,23.0,24.0,25.0,26.0,27.0,28.0,29.0,30.0],\"xaxis\":\"x\",\"y\":[4.288741588592529,4.262116432189941,4.336973667144775,4.413671970367432,4.332221508026123,3.971949338912964,4.153772354125977,4.328407287597656,3.9319663047790527],\"yaxis\":\"y\",\"type\":\"scatter\"},{\"customdata\":[[25],[60],[58],[55],[44],[32],[32],[16],[14]],\"hovertemplate\":\"variable=average_fantasy_points_normalized\\u003cbr\\u003eage=%{x}\\u003cbr\\u003evalue=%{y}\\u003cbr\\u003esample_size=%{customdata[0]}\\u003cextra\\u003e\\u003c\\u002fextra\\u003e\",\"legendgroup\":\"average_fantasy_points_normalized\",\"line\":{\"color\":\"#EF553B\",\"dash\":\"solid\"},\"marker\":{\"symbol\":\"circle\"},\"mode\":\"lines\",\"name\":\"average_fantasy_points_normalized\",\"orientation\":\"v\",\"showlegend\":true,\"x\":[22.0,23.0,24.0,25.0,26.0,27.0,28.0,29.0,30.0],\"xaxis\":\"x\",\"y\":[4.413671970367432,4.114275001293607,4.197808279363262,4.101994280436428,4.286480099614856,3.4936567786408017,3.9094247228293857,3.348871378517689,3.607111101506051],\"yaxis\":\"y\",\"type\":\"scatter\"},{\"customdata\":[[25],[60],[58],[55],[44],[32],[32],[16],[14]],\"hovertemplate\":\"variable=average_carries_normalized\\u003cbr\\u003eage=%{x}\\u003cbr\\u003evalue=%{y}\\u003cbr\\u003esample_size=%{customdata[0]}\\u003cextra\\u003e\\u003c\\u002fextra\\u003e\",\"legendgroup\":\"average_carries_normalized\",\"line\":{\"color\":\"#00cc96\",\"dash\":\"solid\"},\"marker\":{\"symbol\":\"circle\"},\"mode\":\"lines\",\"name\":\"average_carries_normalized\",\"orientation\":\"v\",\"showlegend\":true,\"x\":[22.0,23.0,24.0,25.0,26.0,27.0,28.0,29.0,30.0],\"xaxis\":\"x\",\"y\":[4.413671970367432,3.8941354751586914,3.9069831371307373,3.859710216522217,4.084757328033447,3.44818115234375,4.068527698516846,3.4856791496276855,4.000402927398682],\"yaxis\":\"y\",\"type\":\"scatter\"}],                        {\"template\":{\"data\":{\"histogram2dcontour\":[{\"type\":\"histogram2dcontour\",\"colorbar\":{\"outlinewidth\":0,\"ticks\":\"\"},\"colorscale\":[[0.0,\"#0d0887\"],[0.1111111111111111,\"#46039f\"],[0.2222222222222222,\"#7201a8\"],[0.3333333333333333,\"#9c179e\"],[0.4444444444444444,\"#bd3786\"],[0.5555555555555556,\"#d8576b\"],[0.6666666666666666,\"#ed7953\"],[0.7777777777777778,\"#fb9f3a\"],[0.8888888888888888,\"#fdca26\"],[1.0,\"#f0f921\"]]}],\"choropleth\":[{\"type\":\"choropleth\",\"colorbar\":{\"outlinewidth\":0,\"ticks\":\"\"}}],\"histogram2d\":[{\"type\":\"histogram2d\",\"colorbar\":{\"outlinewidth\":0,\"ticks\":\"\"},\"colorscale\":[[0.0,\"#0d0887\"],[0.1111111111111111,\"#46039f\"],[0.2222222222222222,\"#7201a8\"],[0.3333333333333333,\"#9c179e\"],[0.4444444444444444,\"#bd3786\"],[0.5555555555555556,\"#d8576b\"],[0.6666666666666666,\"#ed7953\"],[0.7777777777777778,\"#fb9f3a\"],[0.8888888888888888,\"#fdca26\"],[1.0,\"#f0f921\"]]}],\"heatmap\":[{\"type\":\"heatmap\",\"colorbar\":{\"outlinewidth\":0,\"ticks\":\"\"},\"colorscale\":[[0.0,\"#0d0887\"],[0.1111111111111111,\"#46039f\"],[0.2222222222222222,\"#7201a8\"],[0.3333333333333333,\"#9c179e\"],[0.4444444444444444,\"#bd3786\"],[0.5555555555555556,\"#d8576b\"],[0.6666666666666666,\"#ed7953\"],[0.7777777777777778,\"#fb9f3a\"],[0.8888888888888888,\"#fdca26\"],[1.0,\"#f0f921\"]]}],\"heatmapgl\":[{\"type\":\"heatmapgl\",\"colorbar\":{\"outlinewidth\":0,\"ticks\":\"\"},\"colorscale\":[[0.0,\"#0d0887\"],[0.1111111111111111,\"#46039f\"],[0.2222222222222222,\"#7201a8\"],[0.3333333333333333,\"#9c179e\"],[0.4444444444444444,\"#bd3786\"],[0.5555555555555556,\"#d8576b\"],[0.6666666666666666,\"#ed7953\"],[0.7777777777777778,\"#fb9f3a\"],[0.8888888888888888,\"#fdca26\"],[1.0,\"#f0f921\"]]}],\"contourcarpet\":[{\"type\":\"contourcarpet\",\"colorbar\":{\"outlinewidth\":0,\"ticks\":\"\"}}],\"contour\":[{\"type\":\"contour\",\"colorbar\":{\"outlinewidth\":0,\"ticks\":\"\"},\"colorscale\":[[0.0,\"#0d0887\"],[0.1111111111111111,\"#46039f\"],[0.2222222222222222,\"#7201a8\"],[0.3333333333333333,\"#9c179e\"],[0.4444444444444444,\"#bd3786\"],[0.5555555555555556,\"#d8576b\"],[0.6666666666666666,\"#ed7953\"],[0.7777777777777778,\"#fb9f3a\"],[0.8888888888888888,\"#fdca26\"],[1.0,\"#f0f921\"]]}],\"surface\":[{\"type\":\"surface\",\"colorbar\":{\"outlinewidth\":0,\"ticks\":\"\"},\"colorscale\":[[0.0,\"#0d0887\"],[0.1111111111111111,\"#46039f\"],[0.2222222222222222,\"#7201a8\"],[0.3333333333333333,\"#9c179e\"],[0.4444444444444444,\"#bd3786\"],[0.5555555555555556,\"#d8576b\"],[0.6666666666666666,\"#ed7953\"],[0.7777777777777778,\"#fb9f3a\"],[0.8888888888888888,\"#fdca26\"],[1.0,\"#f0f921\"]]}],\"mesh3d\":[{\"type\":\"mesh3d\",\"colorbar\":{\"outlinewidth\":0,\"ticks\":\"\"}}],\"scatter\":[{\"fillpattern\":{\"fillmode\":\"overlay\",\"size\":10,\"solidity\":0.2},\"type\":\"scatter\"}],\"parcoords\":[{\"type\":\"parcoords\",\"line\":{\"colorbar\":{\"outlinewidth\":0,\"ticks\":\"\"}}}],\"scatterpolargl\":[{\"type\":\"scatterpolargl\",\"marker\":{\"colorbar\":{\"outlinewidth\":0,\"ticks\":\"\"}}}],\"bar\":[{\"error_x\":{\"color\":\"#2a3f5f\"},\"error_y\":{\"color\":\"#2a3f5f\"},\"marker\":{\"line\":{\"color\":\"#E5ECF6\",\"width\":0.5},\"pattern\":{\"fillmode\":\"overlay\",\"size\":10,\"solidity\":0.2}},\"type\":\"bar\"}],\"scattergeo\":[{\"type\":\"scattergeo\",\"marker\":{\"colorbar\":{\"outlinewidth\":0,\"ticks\":\"\"}}}],\"scatterpolar\":[{\"type\":\"scatterpolar\",\"marker\":{\"colorbar\":{\"outlinewidth\":0,\"ticks\":\"\"}}}],\"histogram\":[{\"marker\":{\"pattern\":{\"fillmode\":\"overlay\",\"size\":10,\"solidity\":0.2}},\"type\":\"histogram\"}],\"scattergl\":[{\"type\":\"scattergl\",\"marker\":{\"colorbar\":{\"outlinewidth\":0,\"ticks\":\"\"}}}],\"scatter3d\":[{\"type\":\"scatter3d\",\"line\":{\"colorbar\":{\"outlinewidth\":0,\"ticks\":\"\"}},\"marker\":{\"colorbar\":{\"outlinewidth\":0,\"ticks\":\"\"}}}],\"scattermapbox\":[{\"type\":\"scattermapbox\",\"marker\":{\"colorbar\":{\"outlinewidth\":0,\"ticks\":\"\"}}}],\"scatterternary\":[{\"type\":\"scatterternary\",\"marker\":{\"colorbar\":{\"outlinewidth\":0,\"ticks\":\"\"}}}],\"scattercarpet\":[{\"type\":\"scattercarpet\",\"marker\":{\"colorbar\":{\"outlinewidth\":0,\"ticks\":\"\"}}}],\"carpet\":[{\"aaxis\":{\"endlinecolor\":\"#2a3f5f\",\"gridcolor\":\"white\",\"linecolor\":\"white\",\"minorgridcolor\":\"white\",\"startlinecolor\":\"#2a3f5f\"},\"baxis\":{\"endlinecolor\":\"#2a3f5f\",\"gridcolor\":\"white\",\"linecolor\":\"white\",\"minorgridcolor\":\"white\",\"startlinecolor\":\"#2a3f5f\"},\"type\":\"carpet\"}],\"table\":[{\"cells\":{\"fill\":{\"color\":\"#EBF0F8\"},\"line\":{\"color\":\"white\"}},\"header\":{\"fill\":{\"color\":\"#C8D4E3\"},\"line\":{\"color\":\"white\"}},\"type\":\"table\"}],\"barpolar\":[{\"marker\":{\"line\":{\"color\":\"#E5ECF6\",\"width\":0.5},\"pattern\":{\"fillmode\":\"overlay\",\"size\":10,\"solidity\":0.2}},\"type\":\"barpolar\"}],\"pie\":[{\"automargin\":true,\"type\":\"pie\"}]},\"layout\":{\"autotypenumbers\":\"strict\",\"colorway\":[\"#636efa\",\"#EF553B\",\"#00cc96\",\"#ab63fa\",\"#FFA15A\",\"#19d3f3\",\"#FF6692\",\"#B6E880\",\"#FF97FF\",\"#FECB52\"],\"font\":{\"color\":\"#2a3f5f\"},\"hovermode\":\"closest\",\"hoverlabel\":{\"align\":\"left\"},\"paper_bgcolor\":\"white\",\"plot_bgcolor\":\"#E5ECF6\",\"polar\":{\"bgcolor\":\"#E5ECF6\",\"angularaxis\":{\"gridcolor\":\"white\",\"linecolor\":\"white\",\"ticks\":\"\"},\"radialaxis\":{\"gridcolor\":\"white\",\"linecolor\":\"white\",\"ticks\":\"\"}},\"ternary\":{\"bgcolor\":\"#E5ECF6\",\"aaxis\":{\"gridcolor\":\"white\",\"linecolor\":\"white\",\"ticks\":\"\"},\"baxis\":{\"gridcolor\":\"white\",\"linecolor\":\"white\",\"ticks\":\"\"},\"caxis\":{\"gridcolor\":\"white\",\"linecolor\":\"white\",\"ticks\":\"\"}},\"coloraxis\":{\"colorbar\":{\"outlinewidth\":0,\"ticks\":\"\"}},\"colorscale\":{\"sequential\":[[0.0,\"#0d0887\"],[0.1111111111111111,\"#46039f\"],[0.2222222222222222,\"#7201a8\"],[0.3333333333333333,\"#9c179e\"],[0.4444444444444444,\"#bd3786\"],[0.5555555555555556,\"#d8576b\"],[0.6666666666666666,\"#ed7953\"],[0.7777777777777778,\"#fb9f3a\"],[0.8888888888888888,\"#fdca26\"],[1.0,\"#f0f921\"]],\"sequentialminus\":[[0.0,\"#0d0887\"],[0.1111111111111111,\"#46039f\"],[0.2222222222222222,\"#7201a8\"],[0.3333333333333333,\"#9c179e\"],[0.4444444444444444,\"#bd3786\"],[0.5555555555555556,\"#d8576b\"],[0.6666666666666666,\"#ed7953\"],[0.7777777777777778,\"#fb9f3a\"],[0.8888888888888888,\"#fdca26\"],[1.0,\"#f0f921\"]],\"diverging\":[[0,\"#8e0152\"],[0.1,\"#c51b7d\"],[0.2,\"#de77ae\"],[0.3,\"#f1b6da\"],[0.4,\"#fde0ef\"],[0.5,\"#f7f7f7\"],[0.6,\"#e6f5d0\"],[0.7,\"#b8e186\"],[0.8,\"#7fbc41\"],[0.9,\"#4d9221\"],[1,\"#276419\"]]},\"xaxis\":{\"gridcolor\":\"white\",\"linecolor\":\"white\",\"ticks\":\"\",\"title\":{\"standoff\":15},\"zerolinecolor\":\"white\",\"automargin\":true,\"zerolinewidth\":2},\"yaxis\":{\"gridcolor\":\"white\",\"linecolor\":\"white\",\"ticks\":\"\",\"title\":{\"standoff\":15},\"zerolinecolor\":\"white\",\"automargin\":true,\"zerolinewidth\":2},\"scene\":{\"xaxis\":{\"backgroundcolor\":\"#E5ECF6\",\"gridcolor\":\"white\",\"linecolor\":\"white\",\"showbackground\":true,\"ticks\":\"\",\"zerolinecolor\":\"white\",\"gridwidth\":2},\"yaxis\":{\"backgroundcolor\":\"#E5ECF6\",\"gridcolor\":\"white\",\"linecolor\":\"white\",\"showbackground\":true,\"ticks\":\"\",\"zerolinecolor\":\"white\",\"gridwidth\":2},\"zaxis\":{\"backgroundcolor\":\"#E5ECF6\",\"gridcolor\":\"white\",\"linecolor\":\"white\",\"showbackground\":true,\"ticks\":\"\",\"zerolinecolor\":\"white\",\"gridwidth\":2}},\"shapedefaults\":{\"line\":{\"color\":\"#2a3f5f\"}},\"annotationdefaults\":{\"arrowcolor\":\"#2a3f5f\",\"arrowhead\":0,\"arrowwidth\":1},\"geo\":{\"bgcolor\":\"white\",\"landcolor\":\"#E5ECF6\",\"subunitcolor\":\"white\",\"showland\":true,\"showlakes\":true,\"lakecolor\":\"white\"},\"title\":{\"x\":0.05},\"mapbox\":{\"style\":\"light\"}}},\"xaxis\":{\"anchor\":\"y\",\"domain\":[0.0,1.0],\"title\":{\"text\":\"Age\"}},\"yaxis\":{\"anchor\":\"x\",\"domain\":[0.0,1.0],\"title\":{\"text\":\"Performance Metrics\"}},\"legend\":{\"title\":{\"text\":\"Games Played\"},\"tracegroupgap\":0},\"margin\":{\"t\":60},\"title\":{\"text\":\"Performance Metrics vs Age\"}},                        {\"responsive\": true}                    ).then(function(){\n",
       "                            \n",
       "var gd = document.getElementById('f4de5b84-772d-4527-aca6-ce3f8fe4e55d');\n",
       "var x = new MutationObserver(function (mutations, observer) {{\n",
       "        var display = window.getComputedStyle(gd).display;\n",
       "        if (!display || display === 'none') {{\n",
       "            console.log([gd, 'removed!']);\n",
       "            Plotly.purge(gd);\n",
       "            observer.disconnect();\n",
       "        }}\n",
       "}});\n",
       "\n",
       "// Listen for the removal of the full notebook cells\n",
       "var notebookContainer = gd.closest('#notebook-container');\n",
       "if (notebookContainer) {{\n",
       "    x.observe(notebookContainer, {childList: true});\n",
       "}}\n",
       "\n",
       "// Listen for the clearing of the current output cell\n",
       "var outputEl = gd.closest('.output');\n",
       "if (outputEl) {{\n",
       "    x.observe(outputEl, {childList: true});\n",
       "}}\n",
       "\n",
       "                        })                };                });            </script>        </div>"
      ]
     },
     "metadata": {},
     "output_type": "display_data"
    }
   ],
   "source": [
    "fig = px.line(df_ypc_by_age, x='age', y=['average_yards_per_carry', 'average_fantasy_points_normalized', \n",
    "                                        'average_carries_normalized'],\n",
    "             hover_data=[\"sample_size\"])\n",
    "\n",
    "# Update layout\n",
    "fig.update_layout(\n",
    "    title='Performance Metrics vs Age',\n",
    "    xaxis_title='Age',\n",
    "    yaxis_title='Performance Metrics',\n",
    "    legend_title='Games Played',\n",
    ")\n",
    "\n",
    "# save the figure\n",
    "fig.write_html(f\"{base_path}-10-games-10-samples-carries.html\")\n",
    "\n",
    "# Show the figure\n",
    "fig.show()"
   ]
  },
  {
   "cell_type": "markdown",
   "id": "61b7be79",
   "metadata": {},
   "source": [
    "## Normalized Version"
   ]
  },
  {
   "cell_type": "code",
   "execution_count": null,
   "id": "99437403",
   "metadata": {},
   "outputs": [],
   "source": [
    "df_ypc_by_age_normalized = df_lag \\\n",
    "    .groupby([\"age\", \"games\"]) \\\n",
    "    .aggregate({\n",
    "        \"yards_per_carry\": [\"mean\"],\n",
    "        \"fantasy_points\": [\"mean\"],\n",
    "        \"rusher\": [\"count\"]\n",
    "})"
   ]
  },
  {
   "cell_type": "code",
   "execution_count": null,
   "id": "6cef2c93",
   "metadata": {},
   "outputs": [],
   "source": [
    "df_ypc_by_age_normalized.columns = list(map(\"_\".join, df_ypc_by_age_normalized))\n",
    "df_ypc_by_age_normalized.reset_index(inplace=True)"
   ]
  },
  {
   "cell_type": "code",
   "execution_count": null,
   "id": "f0c4e1fc",
   "metadata": {},
   "outputs": [],
   "source": [
    "df_ypc_by_age_normalized.rename(columns={\n",
    "    \"yards_per_carry_mean\": \"average_yards_per_carry\",\n",
    "    \"fantasy_points_mean\": \"average_fantasy_points\",\n",
    "    \"rusher_count\": \"sample_size\"\n",
    "}, inplace=True)"
   ]
  },
  {
   "cell_type": "code",
   "execution_count": null,
   "id": "838cbf3a",
   "metadata": {},
   "outputs": [],
   "source": [
    "df_ypc_by_age_normalized.query(\"games >= 10\")"
   ]
  },
  {
   "cell_type": "markdown",
   "id": "6ae59cb1",
   "metadata": {},
   "source": [
    "## Bar Graph"
   ]
  },
  {
   "cell_type": "code",
   "execution_count": null,
   "id": "6ef9fe8f",
   "metadata": {},
   "outputs": [],
   "source": [
    "fig = px.bar(df_ypc_by_age_normalized, x=\"age\", y=\"average_yards_per_carry\",\n",
    "             color=\"games\", title=\"Long-Form Input\", barmode='group',\n",
    "             hover_data=[\"average_fantasy_points\", \"sample_size\"])\n",
    "fig.show()"
   ]
  },
  {
   "cell_type": "markdown",
   "id": "89806ad3",
   "metadata": {},
   "source": [
    "## Line Graph"
   ]
  },
  {
   "cell_type": "code",
   "execution_count": null,
   "id": "517dd2ad",
   "metadata": {},
   "outputs": [],
   "source": [
    "df_ypc_by_age_normalized = df_ypc_by_age_normalized.sort_values(by=\"games\")"
   ]
  },
  {
   "cell_type": "code",
   "execution_count": null,
   "id": "c51bcaa1",
   "metadata": {},
   "outputs": [],
   "source": [
    "fig = px.line(df_ypc_by_age_normalized, x='age', y='average_yards_per_carry', color='games',\n",
    "              hover_data=['average_fantasy_points', 'sample_size'])"
   ]
  },
  {
   "cell_type": "code",
   "execution_count": null,
   "id": "5e2fb8b5",
   "metadata": {},
   "outputs": [],
   "source": [
    "# Update layout\n",
    "fig.update_layout(\n",
    "    title='YPC vs Age for Different Number of Games Played',\n",
    "    xaxis_title='Age',\n",
    "    yaxis_title='Average Yards Per Carry (YPC)',\n",
    "    legend_title='Games Played',\n",
    ")\n",
    "\n",
    "# Show the figure\n",
    "fig.show()"
   ]
  },
  {
   "cell_type": "code",
   "execution_count": null,
   "id": "ea1f63ea",
   "metadata": {},
   "outputs": [],
   "source": []
  }
 ],
 "metadata": {
  "kernelspec": {
   "display_name": "plotly",
   "language": "python",
   "name": "plotly"
  },
  "language_info": {
   "codemirror_mode": {
    "name": "ipython",
    "version": 3
   },
   "file_extension": ".py",
   "mimetype": "text/x-python",
   "name": "python",
   "nbconvert_exporter": "python",
   "pygments_lexer": "ipython3",
   "version": "3.9.7"
  }
 },
 "nbformat": 4,
 "nbformat_minor": 5
}
