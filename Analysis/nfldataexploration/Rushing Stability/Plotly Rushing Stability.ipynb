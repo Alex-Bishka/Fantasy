{
 "cells": [
  {
   "cell_type": "markdown",
   "id": "c113d051",
   "metadata": {},
   "source": [
    "# Imports"
   ]
  },
  {
   "cell_type": "code",
   "execution_count": 1,
   "id": "f497b671",
   "metadata": {},
   "outputs": [],
   "source": [
    "import plotly.express as px\n",
    "import pandas as pd"
   ]
  },
  {
   "cell_type": "code",
   "execution_count": 2,
   "id": "31558fe8",
   "metadata": {},
   "outputs": [],
   "source": [
    "import sys\n",
    "import os\n",
    "sys.path.append(os.path.abspath('..'))\n",
    "from helpers import plot_correlation_matrix, create_correlation_matrix, filter_df"
   ]
  },
  {
   "cell_type": "markdown",
   "id": "7a7e8db1",
   "metadata": {},
   "source": [
    "# Read Data"
   ]
  },
  {
   "cell_type": "markdown",
   "id": "49d17fd5",
   "metadata": {},
   "source": [
    "This data set takes into account passing data from 2012 - 2022. This data is unfiltered."
   ]
  },
  {
   "cell_type": "code",
   "execution_count": 3,
   "id": "8b61eec1",
   "metadata": {},
   "outputs": [],
   "source": [
    "df_roster = pd.read_pickle(\"../../interactive/df_roster_2012_2022.pkl\")"
   ]
  },
  {
   "cell_type": "code",
   "execution_count": 4,
   "id": "bc960399",
   "metadata": {},
   "outputs": [],
   "source": [
    "df_seasonal = pd.read_pickle(\"../../interactive/df_seasonal_2012_2022.pkl\")"
   ]
  },
  {
   "cell_type": "code",
   "execution_count": 5,
   "id": "faebc468",
   "metadata": {},
   "outputs": [],
   "source": [
    "df_pbp = pd.read_pickle(\"../../interactive/df_pbp_2012_2022.pkl\")"
   ]
  },
  {
   "cell_type": "code",
   "execution_count": 6,
   "id": "26ce2014",
   "metadata": {},
   "outputs": [
    {
     "data": {
      "text/html": [
       "<div>\n",
       "<style scoped>\n",
       "    .dataframe tbody tr th:only-of-type {\n",
       "        vertical-align: middle;\n",
       "    }\n",
       "\n",
       "    .dataframe tbody tr th {\n",
       "        vertical-align: top;\n",
       "    }\n",
       "\n",
       "    .dataframe thead th {\n",
       "        text-align: right;\n",
       "    }\n",
       "</style>\n",
       "<table border=\"1\" class=\"dataframe\">\n",
       "  <thead>\n",
       "    <tr style=\"text-align: right;\">\n",
       "      <th></th>\n",
       "      <th>play_id</th>\n",
       "      <th>game_id</th>\n",
       "      <th>old_game_id</th>\n",
       "      <th>home_team</th>\n",
       "      <th>away_team</th>\n",
       "      <th>season_type</th>\n",
       "      <th>week</th>\n",
       "      <th>posteam</th>\n",
       "      <th>posteam_type</th>\n",
       "      <th>defteam</th>\n",
       "      <th>...</th>\n",
       "      <th>offense_formation</th>\n",
       "      <th>offense_personnel</th>\n",
       "      <th>defenders_in_box</th>\n",
       "      <th>defense_personnel</th>\n",
       "      <th>number_of_pass_rushers</th>\n",
       "      <th>players_on_play</th>\n",
       "      <th>offense_players</th>\n",
       "      <th>defense_players</th>\n",
       "      <th>n_offense</th>\n",
       "      <th>n_defense</th>\n",
       "    </tr>\n",
       "  </thead>\n",
       "  <tbody>\n",
       "    <tr>\n",
       "      <th>0</th>\n",
       "      <td>1.0</td>\n",
       "      <td>2012_01_ATL_KC</td>\n",
       "      <td>2012090908</td>\n",
       "      <td>KC</td>\n",
       "      <td>ATL</td>\n",
       "      <td>REG</td>\n",
       "      <td>1</td>\n",
       "      <td>None</td>\n",
       "      <td>None</td>\n",
       "      <td>None</td>\n",
       "      <td>...</td>\n",
       "      <td>NaN</td>\n",
       "      <td>NaN</td>\n",
       "      <td>NaN</td>\n",
       "      <td>NaN</td>\n",
       "      <td>NaN</td>\n",
       "      <td>NaN</td>\n",
       "      <td>NaN</td>\n",
       "      <td>NaN</td>\n",
       "      <td>NaN</td>\n",
       "      <td>NaN</td>\n",
       "    </tr>\n",
       "    <tr>\n",
       "      <th>1</th>\n",
       "      <td>35.0</td>\n",
       "      <td>2012_01_ATL_KC</td>\n",
       "      <td>2012090908</td>\n",
       "      <td>KC</td>\n",
       "      <td>ATL</td>\n",
       "      <td>REG</td>\n",
       "      <td>1</td>\n",
       "      <td>ATL</td>\n",
       "      <td>away</td>\n",
       "      <td>KC</td>\n",
       "      <td>...</td>\n",
       "      <td>NaN</td>\n",
       "      <td>NaN</td>\n",
       "      <td>NaN</td>\n",
       "      <td>NaN</td>\n",
       "      <td>NaN</td>\n",
       "      <td>NaN</td>\n",
       "      <td>NaN</td>\n",
       "      <td>NaN</td>\n",
       "      <td>NaN</td>\n",
       "      <td>NaN</td>\n",
       "    </tr>\n",
       "    <tr>\n",
       "      <th>2</th>\n",
       "      <td>53.0</td>\n",
       "      <td>2012_01_ATL_KC</td>\n",
       "      <td>2012090908</td>\n",
       "      <td>KC</td>\n",
       "      <td>ATL</td>\n",
       "      <td>REG</td>\n",
       "      <td>1</td>\n",
       "      <td>ATL</td>\n",
       "      <td>away</td>\n",
       "      <td>KC</td>\n",
       "      <td>...</td>\n",
       "      <td>NaN</td>\n",
       "      <td>NaN</td>\n",
       "      <td>NaN</td>\n",
       "      <td>NaN</td>\n",
       "      <td>NaN</td>\n",
       "      <td>NaN</td>\n",
       "      <td>NaN</td>\n",
       "      <td>NaN</td>\n",
       "      <td>NaN</td>\n",
       "      <td>NaN</td>\n",
       "    </tr>\n",
       "    <tr>\n",
       "      <th>3</th>\n",
       "      <td>74.0</td>\n",
       "      <td>2012_01_ATL_KC</td>\n",
       "      <td>2012090908</td>\n",
       "      <td>KC</td>\n",
       "      <td>ATL</td>\n",
       "      <td>REG</td>\n",
       "      <td>1</td>\n",
       "      <td>ATL</td>\n",
       "      <td>away</td>\n",
       "      <td>KC</td>\n",
       "      <td>...</td>\n",
       "      <td>NaN</td>\n",
       "      <td>NaN</td>\n",
       "      <td>NaN</td>\n",
       "      <td>NaN</td>\n",
       "      <td>NaN</td>\n",
       "      <td>NaN</td>\n",
       "      <td>NaN</td>\n",
       "      <td>NaN</td>\n",
       "      <td>NaN</td>\n",
       "      <td>NaN</td>\n",
       "    </tr>\n",
       "    <tr>\n",
       "      <th>4</th>\n",
       "      <td>95.0</td>\n",
       "      <td>2012_01_ATL_KC</td>\n",
       "      <td>2012090908</td>\n",
       "      <td>KC</td>\n",
       "      <td>ATL</td>\n",
       "      <td>REG</td>\n",
       "      <td>1</td>\n",
       "      <td>ATL</td>\n",
       "      <td>away</td>\n",
       "      <td>KC</td>\n",
       "      <td>...</td>\n",
       "      <td>NaN</td>\n",
       "      <td>NaN</td>\n",
       "      <td>NaN</td>\n",
       "      <td>NaN</td>\n",
       "      <td>NaN</td>\n",
       "      <td>NaN</td>\n",
       "      <td>NaN</td>\n",
       "      <td>NaN</td>\n",
       "      <td>NaN</td>\n",
       "      <td>NaN</td>\n",
       "    </tr>\n",
       "  </tbody>\n",
       "</table>\n",
       "<p>5 rows × 384 columns</p>\n",
       "</div>"
      ],
      "text/plain": [
       "   play_id         game_id old_game_id home_team away_team season_type  week  \\\n",
       "0      1.0  2012_01_ATL_KC  2012090908        KC       ATL         REG     1   \n",
       "1     35.0  2012_01_ATL_KC  2012090908        KC       ATL         REG     1   \n",
       "2     53.0  2012_01_ATL_KC  2012090908        KC       ATL         REG     1   \n",
       "3     74.0  2012_01_ATL_KC  2012090908        KC       ATL         REG     1   \n",
       "4     95.0  2012_01_ATL_KC  2012090908        KC       ATL         REG     1   \n",
       "\n",
       "  posteam posteam_type defteam  ... offense_formation  offense_personnel  \\\n",
       "0    None         None    None  ...               NaN                NaN   \n",
       "1     ATL         away      KC  ...               NaN                NaN   \n",
       "2     ATL         away      KC  ...               NaN                NaN   \n",
       "3     ATL         away      KC  ...               NaN                NaN   \n",
       "4     ATL         away      KC  ...               NaN                NaN   \n",
       "\n",
       "  defenders_in_box  defense_personnel  number_of_pass_rushers  \\\n",
       "0              NaN                NaN                     NaN   \n",
       "1              NaN                NaN                     NaN   \n",
       "2              NaN                NaN                     NaN   \n",
       "3              NaN                NaN                     NaN   \n",
       "4              NaN                NaN                     NaN   \n",
       "\n",
       "   players_on_play offense_players  defense_players  n_offense  n_defense  \n",
       "0              NaN             NaN              NaN        NaN        NaN  \n",
       "1              NaN             NaN              NaN        NaN        NaN  \n",
       "2              NaN             NaN              NaN        NaN        NaN  \n",
       "3              NaN             NaN              NaN        NaN        NaN  \n",
       "4              NaN             NaN              NaN        NaN        NaN  \n",
       "\n",
       "[5 rows x 384 columns]"
      ]
     },
     "execution_count": 6,
     "metadata": {},
     "output_type": "execute_result"
    }
   ],
   "source": [
    "df_pbp.head()"
   ]
  },
  {
   "cell_type": "markdown",
   "id": "7f93e821",
   "metadata": {},
   "source": [
    "# Creat Data Frame for Runs"
   ]
  },
  {
   "cell_type": "code",
   "execution_count": 7,
   "id": "d182db29",
   "metadata": {},
   "outputs": [],
   "source": [
    "df_runs = df_pbp.query(\"play_type == 'run' and season_type == 'REG'\")"
   ]
  },
  {
   "cell_type": "code",
   "execution_count": 8,
   "id": "4195d126",
   "metadata": {},
   "outputs": [
    {
     "data": {
      "text/html": [
       "<div>\n",
       "<style scoped>\n",
       "    .dataframe tbody tr th:only-of-type {\n",
       "        vertical-align: middle;\n",
       "    }\n",
       "\n",
       "    .dataframe tbody tr th {\n",
       "        vertical-align: top;\n",
       "    }\n",
       "\n",
       "    .dataframe thead th {\n",
       "        text-align: right;\n",
       "    }\n",
       "</style>\n",
       "<table border=\"1\" class=\"dataframe\">\n",
       "  <thead>\n",
       "    <tr style=\"text-align: right;\">\n",
       "      <th></th>\n",
       "      <th>play_id</th>\n",
       "      <th>game_id</th>\n",
       "      <th>old_game_id</th>\n",
       "      <th>home_team</th>\n",
       "      <th>away_team</th>\n",
       "      <th>season_type</th>\n",
       "      <th>week</th>\n",
       "      <th>posteam</th>\n",
       "      <th>posteam_type</th>\n",
       "      <th>defteam</th>\n",
       "      <th>...</th>\n",
       "      <th>offense_formation</th>\n",
       "      <th>offense_personnel</th>\n",
       "      <th>defenders_in_box</th>\n",
       "      <th>defense_personnel</th>\n",
       "      <th>number_of_pass_rushers</th>\n",
       "      <th>players_on_play</th>\n",
       "      <th>offense_players</th>\n",
       "      <th>defense_players</th>\n",
       "      <th>n_offense</th>\n",
       "      <th>n_defense</th>\n",
       "    </tr>\n",
       "  </thead>\n",
       "  <tbody>\n",
       "    <tr>\n",
       "      <th>2</th>\n",
       "      <td>53.0</td>\n",
       "      <td>2012_01_ATL_KC</td>\n",
       "      <td>2012090908</td>\n",
       "      <td>KC</td>\n",
       "      <td>ATL</td>\n",
       "      <td>REG</td>\n",
       "      <td>1</td>\n",
       "      <td>ATL</td>\n",
       "      <td>away</td>\n",
       "      <td>KC</td>\n",
       "      <td>...</td>\n",
       "      <td>NaN</td>\n",
       "      <td>NaN</td>\n",
       "      <td>NaN</td>\n",
       "      <td>NaN</td>\n",
       "      <td>NaN</td>\n",
       "      <td>NaN</td>\n",
       "      <td>NaN</td>\n",
       "      <td>NaN</td>\n",
       "      <td>NaN</td>\n",
       "      <td>NaN</td>\n",
       "    </tr>\n",
       "    <tr>\n",
       "      <th>3</th>\n",
       "      <td>74.0</td>\n",
       "      <td>2012_01_ATL_KC</td>\n",
       "      <td>2012090908</td>\n",
       "      <td>KC</td>\n",
       "      <td>ATL</td>\n",
       "      <td>REG</td>\n",
       "      <td>1</td>\n",
       "      <td>ATL</td>\n",
       "      <td>away</td>\n",
       "      <td>KC</td>\n",
       "      <td>...</td>\n",
       "      <td>NaN</td>\n",
       "      <td>NaN</td>\n",
       "      <td>NaN</td>\n",
       "      <td>NaN</td>\n",
       "      <td>NaN</td>\n",
       "      <td>NaN</td>\n",
       "      <td>NaN</td>\n",
       "      <td>NaN</td>\n",
       "      <td>NaN</td>\n",
       "      <td>NaN</td>\n",
       "    </tr>\n",
       "    <tr>\n",
       "      <th>7</th>\n",
       "      <td>165.0</td>\n",
       "      <td>2012_01_ATL_KC</td>\n",
       "      <td>2012090908</td>\n",
       "      <td>KC</td>\n",
       "      <td>ATL</td>\n",
       "      <td>REG</td>\n",
       "      <td>1</td>\n",
       "      <td>ATL</td>\n",
       "      <td>away</td>\n",
       "      <td>KC</td>\n",
       "      <td>...</td>\n",
       "      <td>NaN</td>\n",
       "      <td>NaN</td>\n",
       "      <td>NaN</td>\n",
       "      <td>NaN</td>\n",
       "      <td>NaN</td>\n",
       "      <td>NaN</td>\n",
       "      <td>NaN</td>\n",
       "      <td>NaN</td>\n",
       "      <td>NaN</td>\n",
       "      <td>NaN</td>\n",
       "    </tr>\n",
       "    <tr>\n",
       "      <th>11</th>\n",
       "      <td>256.0</td>\n",
       "      <td>2012_01_ATL_KC</td>\n",
       "      <td>2012090908</td>\n",
       "      <td>KC</td>\n",
       "      <td>ATL</td>\n",
       "      <td>REG</td>\n",
       "      <td>1</td>\n",
       "      <td>ATL</td>\n",
       "      <td>away</td>\n",
       "      <td>KC</td>\n",
       "      <td>...</td>\n",
       "      <td>NaN</td>\n",
       "      <td>NaN</td>\n",
       "      <td>NaN</td>\n",
       "      <td>NaN</td>\n",
       "      <td>NaN</td>\n",
       "      <td>NaN</td>\n",
       "      <td>NaN</td>\n",
       "      <td>NaN</td>\n",
       "      <td>NaN</td>\n",
       "      <td>NaN</td>\n",
       "    </tr>\n",
       "    <tr>\n",
       "      <th>16</th>\n",
       "      <td>359.0</td>\n",
       "      <td>2012_01_ATL_KC</td>\n",
       "      <td>2012090908</td>\n",
       "      <td>KC</td>\n",
       "      <td>ATL</td>\n",
       "      <td>REG</td>\n",
       "      <td>1</td>\n",
       "      <td>KC</td>\n",
       "      <td>home</td>\n",
       "      <td>ATL</td>\n",
       "      <td>...</td>\n",
       "      <td>NaN</td>\n",
       "      <td>NaN</td>\n",
       "      <td>NaN</td>\n",
       "      <td>NaN</td>\n",
       "      <td>NaN</td>\n",
       "      <td>NaN</td>\n",
       "      <td>NaN</td>\n",
       "      <td>NaN</td>\n",
       "      <td>NaN</td>\n",
       "      <td>NaN</td>\n",
       "    </tr>\n",
       "  </tbody>\n",
       "</table>\n",
       "<p>5 rows × 384 columns</p>\n",
       "</div>"
      ],
      "text/plain": [
       "    play_id         game_id old_game_id home_team away_team season_type  week  \\\n",
       "2      53.0  2012_01_ATL_KC  2012090908        KC       ATL         REG     1   \n",
       "3      74.0  2012_01_ATL_KC  2012090908        KC       ATL         REG     1   \n",
       "7     165.0  2012_01_ATL_KC  2012090908        KC       ATL         REG     1   \n",
       "11    256.0  2012_01_ATL_KC  2012090908        KC       ATL         REG     1   \n",
       "16    359.0  2012_01_ATL_KC  2012090908        KC       ATL         REG     1   \n",
       "\n",
       "   posteam posteam_type defteam  ... offense_formation  offense_personnel  \\\n",
       "2      ATL         away      KC  ...               NaN                NaN   \n",
       "3      ATL         away      KC  ...               NaN                NaN   \n",
       "7      ATL         away      KC  ...               NaN                NaN   \n",
       "11     ATL         away      KC  ...               NaN                NaN   \n",
       "16      KC         home     ATL  ...               NaN                NaN   \n",
       "\n",
       "   defenders_in_box  defense_personnel  number_of_pass_rushers  \\\n",
       "2               NaN                NaN                     NaN   \n",
       "3               NaN                NaN                     NaN   \n",
       "7               NaN                NaN                     NaN   \n",
       "11              NaN                NaN                     NaN   \n",
       "16              NaN                NaN                     NaN   \n",
       "\n",
       "    players_on_play offense_players  defense_players  n_offense  n_defense  \n",
       "2               NaN             NaN              NaN        NaN        NaN  \n",
       "3               NaN             NaN              NaN        NaN        NaN  \n",
       "7               NaN             NaN              NaN        NaN        NaN  \n",
       "11              NaN             NaN              NaN        NaN        NaN  \n",
       "16              NaN             NaN              NaN        NaN        NaN  \n",
       "\n",
       "[5 rows x 384 columns]"
      ]
     },
     "execution_count": 8,
     "metadata": {},
     "output_type": "execute_result"
    }
   ],
   "source": [
    "df_runs.head()"
   ]
  },
  {
   "cell_type": "markdown",
   "id": "342aeb7b",
   "metadata": {},
   "source": [
    "# Creat DF for Rushing Stats by Season"
   ]
  },
  {
   "cell_type": "code",
   "execution_count": 9,
   "id": "4272efbf",
   "metadata": {},
   "outputs": [],
   "source": [
    "df_rushing_yards_by_season = df_runs \\\n",
    "    .groupby([\"rusher_id\", \"rusher\", \"season\"]) \\\n",
    "    .agg({\n",
    "        \"rushing_yards\": [\"sum\", \"mean\"],\n",
    "        \"rush_attempt\": [\"sum\"],\n",
    "        \"fumble\": [\"sum\"],\n",
    "        \"rush_touchdown\": [\"sum\"],\n",
    "        \"tackled_for_loss\": [\"sum\"],\n",
    "        \"epa\": [\"sum\", \"mean\"],\n",
    "        \"success\": [\"sum\"]\n",
    "    })"
   ]
  },
  {
   "cell_type": "code",
   "execution_count": 10,
   "id": "e9475245",
   "metadata": {},
   "outputs": [
    {
     "data": {
      "text/html": [
       "<div>\n",
       "<style scoped>\n",
       "    .dataframe tbody tr th:only-of-type {\n",
       "        vertical-align: middle;\n",
       "    }\n",
       "\n",
       "    .dataframe tbody tr th {\n",
       "        vertical-align: top;\n",
       "    }\n",
       "\n",
       "    .dataframe thead tr th {\n",
       "        text-align: left;\n",
       "    }\n",
       "\n",
       "    .dataframe thead tr:last-of-type th {\n",
       "        text-align: right;\n",
       "    }\n",
       "</style>\n",
       "<table border=\"1\" class=\"dataframe\">\n",
       "  <thead>\n",
       "    <tr>\n",
       "      <th></th>\n",
       "      <th></th>\n",
       "      <th></th>\n",
       "      <th colspan=\"2\" halign=\"left\">rushing_yards</th>\n",
       "      <th>rush_attempt</th>\n",
       "      <th>fumble</th>\n",
       "      <th>rush_touchdown</th>\n",
       "      <th>tackled_for_loss</th>\n",
       "      <th colspan=\"2\" halign=\"left\">epa</th>\n",
       "      <th>success</th>\n",
       "    </tr>\n",
       "    <tr>\n",
       "      <th></th>\n",
       "      <th></th>\n",
       "      <th></th>\n",
       "      <th>sum</th>\n",
       "      <th>mean</th>\n",
       "      <th>sum</th>\n",
       "      <th>sum</th>\n",
       "      <th>sum</th>\n",
       "      <th>sum</th>\n",
       "      <th>sum</th>\n",
       "      <th>mean</th>\n",
       "      <th>sum</th>\n",
       "    </tr>\n",
       "    <tr>\n",
       "      <th>rusher_id</th>\n",
       "      <th>rusher</th>\n",
       "      <th>season</th>\n",
       "      <th></th>\n",
       "      <th></th>\n",
       "      <th></th>\n",
       "      <th></th>\n",
       "      <th></th>\n",
       "      <th></th>\n",
       "      <th></th>\n",
       "      <th></th>\n",
       "      <th></th>\n",
       "    </tr>\n",
       "  </thead>\n",
       "  <tbody>\n",
       "    <tr>\n",
       "      <th rowspan=\"3\" valign=\"top\">00-0007091</th>\n",
       "      <th rowspan=\"3\" valign=\"top\">M.Hasselbeck</th>\n",
       "      <th>2012</th>\n",
       "      <td>0.0</td>\n",
       "      <td>0.0</td>\n",
       "      <td>1.0</td>\n",
       "      <td>1.0</td>\n",
       "      <td>0.0</td>\n",
       "      <td>0.0</td>\n",
       "      <td>-1.360733</td>\n",
       "      <td>-1.360733</td>\n",
       "      <td>0.0</td>\n",
       "    </tr>\n",
       "    <tr>\n",
       "      <th>2014</th>\n",
       "      <td>-5.0</td>\n",
       "      <td>-5.0</td>\n",
       "      <td>1.0</td>\n",
       "      <td>0.0</td>\n",
       "      <td>0.0</td>\n",
       "      <td>1.0</td>\n",
       "      <td>-1.280506</td>\n",
       "      <td>-1.280506</td>\n",
       "      <td>0.0</td>\n",
       "    </tr>\n",
       "    <tr>\n",
       "      <th>2015</th>\n",
       "      <td>4.0</td>\n",
       "      <td>4.0</td>\n",
       "      <td>1.0</td>\n",
       "      <td>0.0</td>\n",
       "      <td>0.0</td>\n",
       "      <td>0.0</td>\n",
       "      <td>-0.035615</td>\n",
       "      <td>-0.035615</td>\n",
       "      <td>0.0</td>\n",
       "    </tr>\n",
       "    <tr>\n",
       "      <th rowspan=\"2\" valign=\"top\">00-0010346</th>\n",
       "      <th rowspan=\"2\" valign=\"top\">P.Manning</th>\n",
       "      <th>2012</th>\n",
       "      <td>-2.0</td>\n",
       "      <td>-1.0</td>\n",
       "      <td>2.0</td>\n",
       "      <td>0.0</td>\n",
       "      <td>0.0</td>\n",
       "      <td>1.0</td>\n",
       "      <td>-0.817786</td>\n",
       "      <td>-0.408893</td>\n",
       "      <td>0.0</td>\n",
       "    </tr>\n",
       "    <tr>\n",
       "      <th>2013</th>\n",
       "      <td>-9.0</td>\n",
       "      <td>-0.9</td>\n",
       "      <td>10.0</td>\n",
       "      <td>5.0</td>\n",
       "      <td>1.0</td>\n",
       "      <td>2.0</td>\n",
       "      <td>-18.549723</td>\n",
       "      <td>-1.854972</td>\n",
       "      <td>1.0</td>\n",
       "    </tr>\n",
       "  </tbody>\n",
       "</table>\n",
       "</div>"
      ],
      "text/plain": [
       "                               rushing_yards      rush_attempt fumble  \\\n",
       "                                         sum mean          sum    sum   \n",
       "rusher_id  rusher       season                                          \n",
       "00-0007091 M.Hasselbeck 2012             0.0  0.0          1.0    1.0   \n",
       "                        2014            -5.0 -5.0          1.0    0.0   \n",
       "                        2015             4.0  4.0          1.0    0.0   \n",
       "00-0010346 P.Manning    2012            -2.0 -1.0          2.0    0.0   \n",
       "                        2013            -9.0 -0.9         10.0    5.0   \n",
       "\n",
       "                               rush_touchdown tackled_for_loss        epa  \\\n",
       "                                          sum              sum        sum   \n",
       "rusher_id  rusher       season                                              \n",
       "00-0007091 M.Hasselbeck 2012              0.0              0.0  -1.360733   \n",
       "                        2014              0.0              1.0  -1.280506   \n",
       "                        2015              0.0              0.0  -0.035615   \n",
       "00-0010346 P.Manning    2012              0.0              1.0  -0.817786   \n",
       "                        2013              1.0              2.0 -18.549723   \n",
       "\n",
       "                                         success  \n",
       "                                    mean     sum  \n",
       "rusher_id  rusher       season                    \n",
       "00-0007091 M.Hasselbeck 2012   -1.360733     0.0  \n",
       "                        2014   -1.280506     0.0  \n",
       "                        2015   -0.035615     0.0  \n",
       "00-0010346 P.Manning    2012   -0.408893     0.0  \n",
       "                        2013   -1.854972     1.0  "
      ]
     },
     "execution_count": 10,
     "metadata": {},
     "output_type": "execute_result"
    }
   ],
   "source": [
    "df_rushing_yards_by_season.head()"
   ]
  },
  {
   "cell_type": "code",
   "execution_count": 11,
   "id": "7f5fd78f",
   "metadata": {},
   "outputs": [],
   "source": [
    "df_rushing_yards_by_season.columns = list(map(\"_\".join, df_rushing_yards_by_season.columns))\n",
    "df_rushing_yards_by_season.reset_index(inplace=True)"
   ]
  },
  {
   "cell_type": "code",
   "execution_count": 12,
   "id": "a325c5ed",
   "metadata": {},
   "outputs": [],
   "source": [
    "df_rushing_yards_by_season.dropna(inplace=True)\n",
    "df_rushing_yards_by_season_cleaned = df_rushing_yards_by_season.copy()"
   ]
  },
  {
   "cell_type": "code",
   "execution_count": 13,
   "id": "3087023f",
   "metadata": {},
   "outputs": [
    {
     "name": "stderr",
     "output_type": "stream",
     "text": [
      "/var/folders/yx/gjm2fjs56vl5kkwrb6xf5d2h0000gn/T/ipykernel_79973/3762637042.py:24: FutureWarning: Setting an item of incompatible dtype is deprecated and will raise in a future error of pandas. Value 'QB' has dtype incompatible with float64, please explicitly cast to a compatible dtype first.\n",
      "  df_rushing_yards_by_season_cleaned.at[i, \"position\"] = roster_row[\"position\"].iloc[0]\n"
     ]
    }
   ],
   "source": [
    "for i, row in df_rushing_yards_by_season_cleaned.copy().iterrows():\n",
    "    r_id = row[\"rusher_id\"]\n",
    "    season = row[\"season\"]\n",
    "    \n",
    "    seasonal_row = df_seasonal.query(f\"player_id == '{r_id}' & season == {season} & season_type == 'REG'\")\n",
    "    roster_row = df_roster.query(f\"player_id == '{r_id}' & season == {season}\")\n",
    "    \n",
    "    if seasonal_row.empty:\n",
    "        # from seasonal df\n",
    "        df_rushing_yards_by_season_cleaned.at[i, \"games\"] = None\n",
    "        df_rushing_yards_by_season_cleaned.at[i, \"fantasy_points\"] = None\n",
    "\n",
    "        # from roster df\n",
    "        df_rushing_yards_by_season_cleaned.at[i, \"age\"] = None\n",
    "        df_rushing_yards_by_season_cleaned.at[i, \"position\"] = None\n",
    "    \n",
    "    else:\n",
    "        # from seasonal df\n",
    "        df_rushing_yards_by_season_cleaned.at[i, \"games\"] = seasonal_row[\"games\"].iloc[0]\n",
    "        df_rushing_yards_by_season_cleaned.at[i, \"fantasy_points\"] = seasonal_row[\"fantasy_points\"].iloc[0]\n",
    "\n",
    "        # from roster df\n",
    "        df_rushing_yards_by_season_cleaned.at[i, \"age\"] = roster_row[\"age\"].iloc[0]\n",
    "        df_rushing_yards_by_season_cleaned.at[i, \"position\"] = roster_row[\"position\"].iloc[0]"
   ]
  },
  {
   "cell_type": "code",
   "execution_count": 14,
   "id": "365fbe57",
   "metadata": {},
   "outputs": [
    {
     "data": {
      "text/html": [
       "<div>\n",
       "<style scoped>\n",
       "    .dataframe tbody tr th:only-of-type {\n",
       "        vertical-align: middle;\n",
       "    }\n",
       "\n",
       "    .dataframe tbody tr th {\n",
       "        vertical-align: top;\n",
       "    }\n",
       "\n",
       "    .dataframe thead th {\n",
       "        text-align: right;\n",
       "    }\n",
       "</style>\n",
       "<table border=\"1\" class=\"dataframe\">\n",
       "  <thead>\n",
       "    <tr style=\"text-align: right;\">\n",
       "      <th></th>\n",
       "      <th>rusher_id</th>\n",
       "      <th>rusher</th>\n",
       "      <th>season</th>\n",
       "      <th>rushing_yards_sum</th>\n",
       "      <th>rushing_yards_mean</th>\n",
       "      <th>rush_attempt_sum</th>\n",
       "      <th>fumble_sum</th>\n",
       "      <th>rush_touchdown_sum</th>\n",
       "      <th>tackled_for_loss_sum</th>\n",
       "      <th>epa_sum</th>\n",
       "      <th>epa_mean</th>\n",
       "      <th>success_sum</th>\n",
       "      <th>games</th>\n",
       "      <th>fantasy_points</th>\n",
       "      <th>age</th>\n",
       "      <th>position</th>\n",
       "    </tr>\n",
       "  </thead>\n",
       "  <tbody>\n",
       "    <tr>\n",
       "      <th>0</th>\n",
       "      <td>00-0007091</td>\n",
       "      <td>M.Hasselbeck</td>\n",
       "      <td>2012</td>\n",
       "      <td>0.0</td>\n",
       "      <td>0.0</td>\n",
       "      <td>1.0</td>\n",
       "      <td>1.0</td>\n",
       "      <td>0.0</td>\n",
       "      <td>0.0</td>\n",
       "      <td>-1.360733</td>\n",
       "      <td>-1.360733</td>\n",
       "      <td>0.0</td>\n",
       "      <td>8.0</td>\n",
       "      <td>76.48</td>\n",
       "      <td>36.0</td>\n",
       "      <td>QB</td>\n",
       "    </tr>\n",
       "    <tr>\n",
       "      <th>1</th>\n",
       "      <td>00-0007091</td>\n",
       "      <td>M.Hasselbeck</td>\n",
       "      <td>2014</td>\n",
       "      <td>-5.0</td>\n",
       "      <td>-5.0</td>\n",
       "      <td>1.0</td>\n",
       "      <td>0.0</td>\n",
       "      <td>0.0</td>\n",
       "      <td>1.0</td>\n",
       "      <td>-1.280506</td>\n",
       "      <td>-1.280506</td>\n",
       "      <td>0.0</td>\n",
       "      <td>4.0</td>\n",
       "      <td>16.94</td>\n",
       "      <td>38.0</td>\n",
       "      <td>QB</td>\n",
       "    </tr>\n",
       "    <tr>\n",
       "      <th>2</th>\n",
       "      <td>00-0007091</td>\n",
       "      <td>M.Hasselbeck</td>\n",
       "      <td>2015</td>\n",
       "      <td>4.0</td>\n",
       "      <td>4.0</td>\n",
       "      <td>1.0</td>\n",
       "      <td>0.0</td>\n",
       "      <td>0.0</td>\n",
       "      <td>0.0</td>\n",
       "      <td>-0.035615</td>\n",
       "      <td>-0.035615</td>\n",
       "      <td>0.0</td>\n",
       "      <td>8.0</td>\n",
       "      <td>91.10</td>\n",
       "      <td>39.0</td>\n",
       "      <td>QB</td>\n",
       "    </tr>\n",
       "    <tr>\n",
       "      <th>3</th>\n",
       "      <td>00-0010346</td>\n",
       "      <td>P.Manning</td>\n",
       "      <td>2012</td>\n",
       "      <td>-2.0</td>\n",
       "      <td>-1.0</td>\n",
       "      <td>2.0</td>\n",
       "      <td>0.0</td>\n",
       "      <td>0.0</td>\n",
       "      <td>1.0</td>\n",
       "      <td>-0.817786</td>\n",
       "      <td>-0.408893</td>\n",
       "      <td>0.0</td>\n",
       "      <td>16.0</td>\n",
       "      <td>310.96</td>\n",
       "      <td>36.0</td>\n",
       "      <td>QB</td>\n",
       "    </tr>\n",
       "    <tr>\n",
       "      <th>4</th>\n",
       "      <td>00-0010346</td>\n",
       "      <td>P.Manning</td>\n",
       "      <td>2013</td>\n",
       "      <td>-9.0</td>\n",
       "      <td>-0.9</td>\n",
       "      <td>10.0</td>\n",
       "      <td>5.0</td>\n",
       "      <td>1.0</td>\n",
       "      <td>2.0</td>\n",
       "      <td>-18.549723</td>\n",
       "      <td>-1.854972</td>\n",
       "      <td>1.0</td>\n",
       "      <td>16.0</td>\n",
       "      <td>409.98</td>\n",
       "      <td>37.0</td>\n",
       "      <td>QB</td>\n",
       "    </tr>\n",
       "  </tbody>\n",
       "</table>\n",
       "</div>"
      ],
      "text/plain": [
       "    rusher_id        rusher  season  rushing_yards_sum  rushing_yards_mean  \\\n",
       "0  00-0007091  M.Hasselbeck    2012                0.0                 0.0   \n",
       "1  00-0007091  M.Hasselbeck    2014               -5.0                -5.0   \n",
       "2  00-0007091  M.Hasselbeck    2015                4.0                 4.0   \n",
       "3  00-0010346     P.Manning    2012               -2.0                -1.0   \n",
       "4  00-0010346     P.Manning    2013               -9.0                -0.9   \n",
       "\n",
       "   rush_attempt_sum  fumble_sum  rush_touchdown_sum  tackled_for_loss_sum  \\\n",
       "0               1.0         1.0                 0.0                   0.0   \n",
       "1               1.0         0.0                 0.0                   1.0   \n",
       "2               1.0         0.0                 0.0                   0.0   \n",
       "3               2.0         0.0                 0.0                   1.0   \n",
       "4              10.0         5.0                 1.0                   2.0   \n",
       "\n",
       "     epa_sum  epa_mean  success_sum  games  fantasy_points   age position  \n",
       "0  -1.360733 -1.360733          0.0    8.0           76.48  36.0       QB  \n",
       "1  -1.280506 -1.280506          0.0    4.0           16.94  38.0       QB  \n",
       "2  -0.035615 -0.035615          0.0    8.0           91.10  39.0       QB  \n",
       "3  -0.817786 -0.408893          0.0   16.0          310.96  36.0       QB  \n",
       "4 -18.549723 -1.854972          1.0   16.0          409.98  37.0       QB  "
      ]
     },
     "execution_count": 14,
     "metadata": {},
     "output_type": "execute_result"
    }
   ],
   "source": [
    "df_rushing_yards_by_season_cleaned.dropna(inplace=True)\n",
    "df_rushing_yards_by_season_cleaned.head()"
   ]
  },
  {
   "cell_type": "markdown",
   "id": "471ae290",
   "metadata": {},
   "source": [
    "# Create Lag Version of Data"
   ]
  },
  {
   "cell_type": "code",
   "execution_count": 15,
   "id": "c8aa87dc",
   "metadata": {},
   "outputs": [],
   "source": [
    "df_now = df_rushing_yards_by_season_cleaned.copy()\n",
    "df_last = df_rushing_yards_by_season_cleaned.copy()"
   ]
  },
  {
   "cell_type": "code",
   "execution_count": 16,
   "id": "77ffd923",
   "metadata": {},
   "outputs": [],
   "source": [
    "rename_dict = {}\n",
    "for col in list(df_last.columns[3:]):\n",
    "    rename_dict[col] = f\"{col}_last\""
   ]
  },
  {
   "cell_type": "code",
   "execution_count": 17,
   "id": "acf8edbc",
   "metadata": {},
   "outputs": [],
   "source": [
    "df_last.rename(columns=rename_dict, inplace=True)"
   ]
  },
  {
   "cell_type": "code",
   "execution_count": 18,
   "id": "c8f49ad8",
   "metadata": {},
   "outputs": [],
   "source": [
    "df_last[\"season\"] += 1"
   ]
  },
  {
   "cell_type": "code",
   "execution_count": 19,
   "id": "4b9ebd85",
   "metadata": {},
   "outputs": [],
   "source": [
    "df_lag = df_now.merge(df_last, how='inner', on=['rusher_id', 'rusher', 'season'])"
   ]
  },
  {
   "cell_type": "code",
   "execution_count": 20,
   "id": "31b0cca1",
   "metadata": {},
   "outputs": [
    {
     "data": {
      "text/html": [
       "<div>\n",
       "<style scoped>\n",
       "    .dataframe tbody tr th:only-of-type {\n",
       "        vertical-align: middle;\n",
       "    }\n",
       "\n",
       "    .dataframe tbody tr th {\n",
       "        vertical-align: top;\n",
       "    }\n",
       "\n",
       "    .dataframe thead th {\n",
       "        text-align: right;\n",
       "    }\n",
       "</style>\n",
       "<table border=\"1\" class=\"dataframe\">\n",
       "  <thead>\n",
       "    <tr style=\"text-align: right;\">\n",
       "      <th></th>\n",
       "      <th>rusher_id</th>\n",
       "      <th>rusher</th>\n",
       "      <th>season</th>\n",
       "      <th>rushing_yards_sum</th>\n",
       "      <th>rushing_yards_mean</th>\n",
       "      <th>rush_attempt_sum</th>\n",
       "      <th>fumble_sum</th>\n",
       "      <th>rush_touchdown_sum</th>\n",
       "      <th>tackled_for_loss_sum</th>\n",
       "      <th>epa_sum</th>\n",
       "      <th>...</th>\n",
       "      <th>fumble_sum_last</th>\n",
       "      <th>rush_touchdown_sum_last</th>\n",
       "      <th>tackled_for_loss_sum_last</th>\n",
       "      <th>epa_sum_last</th>\n",
       "      <th>epa_mean_last</th>\n",
       "      <th>success_sum_last</th>\n",
       "      <th>games_last</th>\n",
       "      <th>fantasy_points_last</th>\n",
       "      <th>age_last</th>\n",
       "      <th>position_last</th>\n",
       "    </tr>\n",
       "  </thead>\n",
       "  <tbody>\n",
       "    <tr>\n",
       "      <th>0</th>\n",
       "      <td>00-0007091</td>\n",
       "      <td>M.Hasselbeck</td>\n",
       "      <td>2015</td>\n",
       "      <td>4.0</td>\n",
       "      <td>4.000000</td>\n",
       "      <td>1.0</td>\n",
       "      <td>0.0</td>\n",
       "      <td>0.0</td>\n",
       "      <td>0.0</td>\n",
       "      <td>-0.035615</td>\n",
       "      <td>...</td>\n",
       "      <td>0.0</td>\n",
       "      <td>0.0</td>\n",
       "      <td>1.0</td>\n",
       "      <td>-1.280506</td>\n",
       "      <td>-1.280506</td>\n",
       "      <td>0.0</td>\n",
       "      <td>4.0</td>\n",
       "      <td>16.94</td>\n",
       "      <td>38.0</td>\n",
       "      <td>QB</td>\n",
       "    </tr>\n",
       "    <tr>\n",
       "      <th>1</th>\n",
       "      <td>00-0010346</td>\n",
       "      <td>P.Manning</td>\n",
       "      <td>2013</td>\n",
       "      <td>-9.0</td>\n",
       "      <td>-0.900000</td>\n",
       "      <td>10.0</td>\n",
       "      <td>5.0</td>\n",
       "      <td>1.0</td>\n",
       "      <td>2.0</td>\n",
       "      <td>-18.549723</td>\n",
       "      <td>...</td>\n",
       "      <td>0.0</td>\n",
       "      <td>0.0</td>\n",
       "      <td>1.0</td>\n",
       "      <td>-0.817786</td>\n",
       "      <td>-0.408893</td>\n",
       "      <td>0.0</td>\n",
       "      <td>16.0</td>\n",
       "      <td>310.96</td>\n",
       "      <td>36.0</td>\n",
       "      <td>QB</td>\n",
       "    </tr>\n",
       "    <tr>\n",
       "      <th>2</th>\n",
       "      <td>00-0010346</td>\n",
       "      <td>P.Manning</td>\n",
       "      <td>2014</td>\n",
       "      <td>-13.0</td>\n",
       "      <td>-1.857143</td>\n",
       "      <td>7.0</td>\n",
       "      <td>3.0</td>\n",
       "      <td>0.0</td>\n",
       "      <td>2.0</td>\n",
       "      <td>-12.568753</td>\n",
       "      <td>...</td>\n",
       "      <td>5.0</td>\n",
       "      <td>1.0</td>\n",
       "      <td>2.0</td>\n",
       "      <td>-18.549723</td>\n",
       "      <td>-1.854972</td>\n",
       "      <td>1.0</td>\n",
       "      <td>16.0</td>\n",
       "      <td>409.98</td>\n",
       "      <td>37.0</td>\n",
       "      <td>QB</td>\n",
       "    </tr>\n",
       "    <tr>\n",
       "      <th>3</th>\n",
       "      <td>00-0019596</td>\n",
       "      <td>T.Brady</td>\n",
       "      <td>2013</td>\n",
       "      <td>13.0</td>\n",
       "      <td>1.083333</td>\n",
       "      <td>12.0</td>\n",
       "      <td>3.0</td>\n",
       "      <td>0.0</td>\n",
       "      <td>2.0</td>\n",
       "      <td>-9.026926</td>\n",
       "      <td>...</td>\n",
       "      <td>1.0</td>\n",
       "      <td>3.0</td>\n",
       "      <td>2.0</td>\n",
       "      <td>4.275997</td>\n",
       "      <td>0.328923</td>\n",
       "      <td>9.0</td>\n",
       "      <td>16.0</td>\n",
       "      <td>344.28</td>\n",
       "      <td>35.0</td>\n",
       "      <td>QB</td>\n",
       "    </tr>\n",
       "    <tr>\n",
       "      <th>4</th>\n",
       "      <td>00-0019596</td>\n",
       "      <td>T.Brady</td>\n",
       "      <td>2014</td>\n",
       "      <td>20.0</td>\n",
       "      <td>1.428571</td>\n",
       "      <td>14.0</td>\n",
       "      <td>1.0</td>\n",
       "      <td>0.0</td>\n",
       "      <td>0.0</td>\n",
       "      <td>-2.157746</td>\n",
       "      <td>...</td>\n",
       "      <td>3.0</td>\n",
       "      <td>0.0</td>\n",
       "      <td>2.0</td>\n",
       "      <td>-9.026926</td>\n",
       "      <td>-0.752244</td>\n",
       "      <td>5.0</td>\n",
       "      <td>16.0</td>\n",
       "      <td>251.52</td>\n",
       "      <td>36.0</td>\n",
       "      <td>QB</td>\n",
       "    </tr>\n",
       "  </tbody>\n",
       "</table>\n",
       "<p>5 rows × 29 columns</p>\n",
       "</div>"
      ],
      "text/plain": [
       "    rusher_id        rusher  season  rushing_yards_sum  rushing_yards_mean  \\\n",
       "0  00-0007091  M.Hasselbeck    2015                4.0            4.000000   \n",
       "1  00-0010346     P.Manning    2013               -9.0           -0.900000   \n",
       "2  00-0010346     P.Manning    2014              -13.0           -1.857143   \n",
       "3  00-0019596       T.Brady    2013               13.0            1.083333   \n",
       "4  00-0019596       T.Brady    2014               20.0            1.428571   \n",
       "\n",
       "   rush_attempt_sum  fumble_sum  rush_touchdown_sum  tackled_for_loss_sum  \\\n",
       "0               1.0         0.0                 0.0                   0.0   \n",
       "1              10.0         5.0                 1.0                   2.0   \n",
       "2               7.0         3.0                 0.0                   2.0   \n",
       "3              12.0         3.0                 0.0                   2.0   \n",
       "4              14.0         1.0                 0.0                   0.0   \n",
       "\n",
       "     epa_sum  ...  fumble_sum_last  rush_touchdown_sum_last  \\\n",
       "0  -0.035615  ...              0.0                      0.0   \n",
       "1 -18.549723  ...              0.0                      0.0   \n",
       "2 -12.568753  ...              5.0                      1.0   \n",
       "3  -9.026926  ...              1.0                      3.0   \n",
       "4  -2.157746  ...              3.0                      0.0   \n",
       "\n",
       "   tackled_for_loss_sum_last  epa_sum_last  epa_mean_last success_sum_last  \\\n",
       "0                        1.0     -1.280506      -1.280506              0.0   \n",
       "1                        1.0     -0.817786      -0.408893              0.0   \n",
       "2                        2.0    -18.549723      -1.854972              1.0   \n",
       "3                        2.0      4.275997       0.328923              9.0   \n",
       "4                        2.0     -9.026926      -0.752244              5.0   \n",
       "\n",
       "   games_last  fantasy_points_last  age_last  position_last  \n",
       "0         4.0                16.94      38.0             QB  \n",
       "1        16.0               310.96      36.0             QB  \n",
       "2        16.0               409.98      37.0             QB  \n",
       "3        16.0               344.28      35.0             QB  \n",
       "4        16.0               251.52      36.0             QB  \n",
       "\n",
       "[5 rows x 29 columns]"
      ]
     },
     "execution_count": 20,
     "metadata": {},
     "output_type": "execute_result"
    }
   ],
   "source": [
    "df_lag.head()"
   ]
  },
  {
   "cell_type": "markdown",
   "id": "ab99c225",
   "metadata": {},
   "source": [
    "# Data Manipulations"
   ]
  },
  {
   "cell_type": "markdown",
   "id": "1777786b",
   "metadata": {},
   "source": [
    "Keep a copy of our unfiltered data so it is untouched if we need to reset our exploration."
   ]
  },
  {
   "cell_type": "code",
   "execution_count": 21,
   "id": "d510ac74",
   "metadata": {},
   "outputs": [],
   "source": [
    "df = df_lag.copy()"
   ]
  },
  {
   "cell_type": "markdown",
   "id": "896de60d",
   "metadata": {},
   "source": [
    "Rename columns to labels that make more sense."
   ]
  },
  {
   "cell_type": "code",
   "execution_count": 22,
   "id": "9cb5ea58",
   "metadata": {},
   "outputs": [],
   "source": [
    "df.rename(columns={\n",
    "    'rushing_yards_sum': \"rushing_yards\",\n",
    "    'rushing_yards_mean': \"yards_per_carry\",\n",
    "    'rush_attempt_sum': \"carries\",\n",
    "    'fumble_sum': \"fumbles\",\n",
    "    'rush_touchdown_sum': \"rushing_touchdowns\",\n",
    "    'tackled_for_loss_sum': \"times_tackled_for_loss\",\n",
    "    'epa_sum': \"total_epa\",\n",
    "    'epa_mean': \"epa_per_play\",\n",
    "    'success_sum': \"successful_plays\",\n",
    "    'rushing_yards_sum_last': \"rushing_yards_last\",\n",
    "    'rushing_yards_mean_last': \"yards_per_carry_last\",\n",
    "    'rush_attempt_sum_last': \"carries_last\",\n",
    "    'fumble_sum_last': \"fumbles_last\",\n",
    "    'rush_touchdown_sum_last': \"rushing_touchdowns_last\",\n",
    "    'tackled_for_loss_sum_last': \"times_tackled_for_loss_last\",\n",
    "    'epa_sum_last': \"total_epa_last\",\n",
    "    'epa_mean_last': \"epa_per_play_last\",\n",
    "    'success_sum_last': \"successful_plays_last\"\n",
    "}, inplace=True)"
   ]
  },
  {
   "cell_type": "markdown",
   "id": "d773aa76",
   "metadata": {},
   "source": [
    "# Generate Graphs"
   ]
  },
  {
   "cell_type": "markdown",
   "id": "b550ac8c",
   "metadata": {},
   "source": [
    "## Correlation Matrix"
   ]
  },
  {
   "cell_type": "markdown",
   "id": "9a75c4a5",
   "metadata": {},
   "source": [
    "# Filtered DFs"
   ]
  },
  {
   "cell_type": "code",
   "execution_count": 82,
   "id": "bc814902",
   "metadata": {},
   "outputs": [],
   "source": [
    "base_path = \"../../interactive/RB/stability-rushing/season\""
   ]
  },
  {
   "cell_type": "code",
   "execution_count": null,
   "id": "7b0ad655",
   "metadata": {},
   "outputs": [],
   "source": [
    "x = [\n",
    "#     'rushing_yards',\n",
    "#     'yards_per_carry',\n",
    "#     'carries',\n",
    "#     'fumbles',\n",
    "#     'rushing_touchdowns',\n",
    "    'times_tackled_for_loss',\n",
    "    'total_epa',\n",
    "    'epa_per_play',\n",
    "    'successful_plays',\n",
    "    'fantasy_points',\n",
    "]"
   ]
  },
  {
   "cell_type": "code",
   "execution_count": 78,
   "id": "20da337f",
   "metadata": {},
   "outputs": [],
   "source": [
    "y = [\n",
    "#     'rushing_yards_last',\n",
    "#     'yards_per_carry_last',\n",
    "#     'carries_last',\n",
    "#     'fumbles_last',\n",
    "#     'rushing_touchdowns_last',\n",
    "    'times_tackled_for_loss_last',\n",
    "    'total_epa_last',\n",
    "    'epa_per_play_last',\n",
    "    'successful_plays_last',\n",
    "    'fantasy_points_last',\n",
    "]"
   ]
  },
  {
   "cell_type": "markdown",
   "id": "76532db4",
   "metadata": {},
   "source": [
    "## No Filter (All)"
   ]
  },
  {
   "cell_type": "code",
   "execution_count": null,
   "id": "78de56cf",
   "metadata": {},
   "outputs": [],
   "source": [
    "temp_all = filter_df(df, \"\", x, y)"
   ]
  },
  {
   "cell_type": "markdown",
   "id": "af13d2e3",
   "metadata": {},
   "source": [
    "## RBs"
   ]
  },
  {
   "cell_type": "code",
   "execution_count": null,
   "id": "78bcde99",
   "metadata": {},
   "outputs": [],
   "source": [
    "thres = 100\n",
    "query = f\"position == 'RB' and \\\n",
    "fantasy_points > {thres} and fantasy_points_last > {thres}\"\n",
    "temp_rb = filter_df(df, query, x, y)"
   ]
  },
  {
   "cell_type": "code",
   "execution_count": null,
   "id": "4e3537dc",
   "metadata": {},
   "outputs": [],
   "source": [
    "temp_rb[\"successful_plays\"].mean() / temp_rb[\"carries\"].mean()"
   ]
  },
  {
   "cell_type": "code",
   "execution_count": null,
   "id": "f9d74527",
   "metadata": {},
   "outputs": [],
   "source": [
    "temp_rb[\"yards_per_carry\"].mean()"
   ]
  },
  {
   "cell_type": "markdown",
   "id": "c7fbde74",
   "metadata": {},
   "source": [
    "## QBs"
   ]
  },
  {
   "cell_type": "code",
   "execution_count": null,
   "id": "cc102396",
   "metadata": {},
   "outputs": [],
   "source": [
    "query = \"position == 'QB' and \\\n",
    "carries > 40 and carries_last > 40\"\n",
    "temp_qb = filter_df(df, query, x, y)"
   ]
  },
  {
   "cell_type": "code",
   "execution_count": null,
   "id": "f8dbb241",
   "metadata": {},
   "outputs": [],
   "source": [
    "temp_qb[\"successful_plays\"].mean() / temp_qb[\"carries\"].mean()"
   ]
  },
  {
   "cell_type": "code",
   "execution_count": null,
   "id": "42ff5b4e",
   "metadata": {},
   "outputs": [],
   "source": [
    "temp_qb[\"yards_per_carry\"].mean()"
   ]
  },
  {
   "cell_type": "markdown",
   "id": "b774f38a",
   "metadata": {},
   "source": [
    "# Fantasy Points Correlation"
   ]
  },
  {
   "cell_type": "code",
   "execution_count": 138,
   "id": "ee7d22c4",
   "metadata": {},
   "outputs": [],
   "source": [
    "def sort_corr(df, corr_col = \"fantasy_points\"):\n",
    "    self_corr_dict = {}\n",
    "    corr_dict = {}\n",
    "    cols = list(df.columns[3:])\n",
    "    for col in cols:\n",
    "        if \"age\" not in col and \"games\" not in col and \"fantasy\" not in col and \"position\" not in col:\n",
    "            temp_corr_mat = df[[col, corr_col]].corr()\n",
    "            temp_corr_value = temp_corr_mat[corr_col].iloc[0]\n",
    "            \n",
    "            if \"last\" not in col:\n",
    "                self_corr_mat = df[[col, f\"{col}_last\"]].corr()\n",
    "                self_corr_value = self_corr_mat[col].iloc[1]\n",
    "                \n",
    "                self_corr_dict[f\"{col}_last\"] = self_corr_value\n",
    "            else:\n",
    "                self_corr_value = self_corr_dict[col]\n",
    "             \n",
    "            if self_corr_value >= 0.4:\n",
    "                corr_dict[col] = temp_corr_value\n",
    "\n",
    "    return sorted([x for (x, y) in list(corr_dict.items()) if y >= 0.4], key = lambda x: x[1], reverse=True)"
   ]
  },
  {
   "cell_type": "code",
   "execution_count": 139,
   "id": "de111a6d",
   "metadata": {},
   "outputs": [],
   "source": [
    "def create_corr_for_fantasy_relevance(query, title):\n",
    "    new_df = df\n",
    "    if query:\n",
    "        new_df = df.query(query)\n",
    "    \n",
    "    x = list( \\\n",
    "     set(sort_corr(new_df)) | \\\n",
    "     set(sort_corr(new_df, \"fantasy_points_last\")\n",
    "    ))\n",
    "    y = ['fantasy_points', 'fantasy_points_last']\n",
    "    filter_df(new_df, \"\", x, y, base_path=base_path, title=title)"
   ]
  },
  {
   "cell_type": "code",
   "execution_count": 161,
   "id": "99662edf",
   "metadata": {},
   "outputs": [
    {
     "data": {
      "text/html": [
       "<div>\n",
       "<style scoped>\n",
       "    .dataframe tbody tr th:only-of-type {\n",
       "        vertical-align: middle;\n",
       "    }\n",
       "\n",
       "    .dataframe tbody tr th {\n",
       "        vertical-align: top;\n",
       "    }\n",
       "\n",
       "    .dataframe thead th {\n",
       "        text-align: right;\n",
       "    }\n",
       "</style>\n",
       "<table border=\"1\" class=\"dataframe\">\n",
       "  <thead>\n",
       "    <tr style=\"text-align: right;\">\n",
       "      <th></th>\n",
       "      <th>rushing_touchdowns</th>\n",
       "      <th>rushing_touchdowns_last</th>\n",
       "    </tr>\n",
       "  </thead>\n",
       "  <tbody>\n",
       "    <tr>\n",
       "      <th>rushing_touchdowns</th>\n",
       "      <td>1.000000</td>\n",
       "      <td>0.597977</td>\n",
       "    </tr>\n",
       "    <tr>\n",
       "      <th>rushing_touchdowns_last</th>\n",
       "      <td>0.597977</td>\n",
       "      <td>1.000000</td>\n",
       "    </tr>\n",
       "  </tbody>\n",
       "</table>\n",
       "</div>"
      ],
      "text/plain": [
       "                         rushing_touchdowns  rushing_touchdowns_last\n",
       "rushing_touchdowns                 1.000000                 0.597977\n",
       "rushing_touchdowns_last            0.597977                 1.000000"
      ]
     },
     "execution_count": 161,
     "metadata": {},
     "output_type": "execute_result"
    }
   ],
   "source": [
    "df[[\"rushing_touchdowns\", \"rushing_touchdowns_last\"]].corr()"
   ]
  },
  {
   "cell_type": "code",
   "execution_count": 159,
   "id": "8fcba9db",
   "metadata": {},
   "outputs": [
    {
     "data": {
      "text/html": [
       "<div>\n",
       "<style scoped>\n",
       "    .dataframe tbody tr th:only-of-type {\n",
       "        vertical-align: middle;\n",
       "    }\n",
       "\n",
       "    .dataframe tbody tr th {\n",
       "        vertical-align: top;\n",
       "    }\n",
       "\n",
       "    .dataframe thead th {\n",
       "        text-align: right;\n",
       "    }\n",
       "</style>\n",
       "<table border=\"1\" class=\"dataframe\">\n",
       "  <thead>\n",
       "    <tr style=\"text-align: right;\">\n",
       "      <th></th>\n",
       "      <th>fumbles</th>\n",
       "      <th>fumbles_last</th>\n",
       "    </tr>\n",
       "  </thead>\n",
       "  <tbody>\n",
       "    <tr>\n",
       "      <th>fumbles</th>\n",
       "      <td>1.000000</td>\n",
       "      <td>0.433144</td>\n",
       "    </tr>\n",
       "    <tr>\n",
       "      <th>fumbles_last</th>\n",
       "      <td>0.433144</td>\n",
       "      <td>1.000000</td>\n",
       "    </tr>\n",
       "  </tbody>\n",
       "</table>\n",
       "</div>"
      ],
      "text/plain": [
       "               fumbles  fumbles_last\n",
       "fumbles       1.000000      0.433144\n",
       "fumbles_last  0.433144      1.000000"
      ]
     },
     "execution_count": 159,
     "metadata": {},
     "output_type": "execute_result"
    }
   ],
   "source": [
    "df[[\"fumbles\", \"fumbles_last\"]].corr()"
   ]
  },
  {
   "cell_type": "code",
   "execution_count": 140,
   "id": "94054fc5",
   "metadata": {},
   "outputs": [
    {
     "data": {
      "application/vnd.plotly.v1+json": {
       "config": {
        "plotlyServerURL": "https://plot.ly"
       },
       "data": [
        {
         "coloraxis": "coloraxis",
         "hovertemplate": "Current Season Stats: %{x}<br>Previous Season Stats: %{y}<br>color: %{z}<extra></extra>",
         "name": "0",
         "texttemplate": "%{z}",
         "type": "heatmap",
         "x": [
          "rushing_touchdowns",
          "fumbles_last",
          "rushing_touchdowns_last",
          "fumbles"
         ],
         "xaxis": "x",
         "y": [
          "fantasy_points",
          "fantasy_points_last"
         ],
         "yaxis": "y",
         "z": [
          [
           0.46,
           0.42,
           0.24,
           0.57
          ],
          [
           0.26,
           0.54,
           0.45,
           0.44
          ]
         ]
        }
       ],
       "layout": {
        "coloraxis": {
         "colorscale": [
          [
           0,
           "#0d0887"
          ],
          [
           0.1111111111111111,
           "#46039f"
          ],
          [
           0.2222222222222222,
           "#7201a8"
          ],
          [
           0.3333333333333333,
           "#9c179e"
          ],
          [
           0.4444444444444444,
           "#bd3786"
          ],
          [
           0.5555555555555556,
           "#d8576b"
          ],
          [
           0.6666666666666666,
           "#ed7953"
          ],
          [
           0.7777777777777778,
           "#fb9f3a"
          ],
          [
           0.8888888888888888,
           "#fdca26"
          ],
          [
           1,
           "#f0f921"
          ]
         ]
        },
        "margin": {
         "t": 60
        },
        "template": {
         "data": {
          "bar": [
           {
            "error_x": {
             "color": "#2a3f5f"
            },
            "error_y": {
             "color": "#2a3f5f"
            },
            "marker": {
             "line": {
              "color": "#E5ECF6",
              "width": 0.5
             },
             "pattern": {
              "fillmode": "overlay",
              "size": 10,
              "solidity": 0.2
             }
            },
            "type": "bar"
           }
          ],
          "barpolar": [
           {
            "marker": {
             "line": {
              "color": "#E5ECF6",
              "width": 0.5
             },
             "pattern": {
              "fillmode": "overlay",
              "size": 10,
              "solidity": 0.2
             }
            },
            "type": "barpolar"
           }
          ],
          "carpet": [
           {
            "aaxis": {
             "endlinecolor": "#2a3f5f",
             "gridcolor": "white",
             "linecolor": "white",
             "minorgridcolor": "white",
             "startlinecolor": "#2a3f5f"
            },
            "baxis": {
             "endlinecolor": "#2a3f5f",
             "gridcolor": "white",
             "linecolor": "white",
             "minorgridcolor": "white",
             "startlinecolor": "#2a3f5f"
            },
            "type": "carpet"
           }
          ],
          "choropleth": [
           {
            "colorbar": {
             "outlinewidth": 0,
             "ticks": ""
            },
            "type": "choropleth"
           }
          ],
          "contour": [
           {
            "colorbar": {
             "outlinewidth": 0,
             "ticks": ""
            },
            "colorscale": [
             [
              0,
              "#0d0887"
             ],
             [
              0.1111111111111111,
              "#46039f"
             ],
             [
              0.2222222222222222,
              "#7201a8"
             ],
             [
              0.3333333333333333,
              "#9c179e"
             ],
             [
              0.4444444444444444,
              "#bd3786"
             ],
             [
              0.5555555555555556,
              "#d8576b"
             ],
             [
              0.6666666666666666,
              "#ed7953"
             ],
             [
              0.7777777777777778,
              "#fb9f3a"
             ],
             [
              0.8888888888888888,
              "#fdca26"
             ],
             [
              1,
              "#f0f921"
             ]
            ],
            "type": "contour"
           }
          ],
          "contourcarpet": [
           {
            "colorbar": {
             "outlinewidth": 0,
             "ticks": ""
            },
            "type": "contourcarpet"
           }
          ],
          "heatmap": [
           {
            "colorbar": {
             "outlinewidth": 0,
             "ticks": ""
            },
            "colorscale": [
             [
              0,
              "#0d0887"
             ],
             [
              0.1111111111111111,
              "#46039f"
             ],
             [
              0.2222222222222222,
              "#7201a8"
             ],
             [
              0.3333333333333333,
              "#9c179e"
             ],
             [
              0.4444444444444444,
              "#bd3786"
             ],
             [
              0.5555555555555556,
              "#d8576b"
             ],
             [
              0.6666666666666666,
              "#ed7953"
             ],
             [
              0.7777777777777778,
              "#fb9f3a"
             ],
             [
              0.8888888888888888,
              "#fdca26"
             ],
             [
              1,
              "#f0f921"
             ]
            ],
            "type": "heatmap"
           }
          ],
          "heatmapgl": [
           {
            "colorbar": {
             "outlinewidth": 0,
             "ticks": ""
            },
            "colorscale": [
             [
              0,
              "#0d0887"
             ],
             [
              0.1111111111111111,
              "#46039f"
             ],
             [
              0.2222222222222222,
              "#7201a8"
             ],
             [
              0.3333333333333333,
              "#9c179e"
             ],
             [
              0.4444444444444444,
              "#bd3786"
             ],
             [
              0.5555555555555556,
              "#d8576b"
             ],
             [
              0.6666666666666666,
              "#ed7953"
             ],
             [
              0.7777777777777778,
              "#fb9f3a"
             ],
             [
              0.8888888888888888,
              "#fdca26"
             ],
             [
              1,
              "#f0f921"
             ]
            ],
            "type": "heatmapgl"
           }
          ],
          "histogram": [
           {
            "marker": {
             "pattern": {
              "fillmode": "overlay",
              "size": 10,
              "solidity": 0.2
             }
            },
            "type": "histogram"
           }
          ],
          "histogram2d": [
           {
            "colorbar": {
             "outlinewidth": 0,
             "ticks": ""
            },
            "colorscale": [
             [
              0,
              "#0d0887"
             ],
             [
              0.1111111111111111,
              "#46039f"
             ],
             [
              0.2222222222222222,
              "#7201a8"
             ],
             [
              0.3333333333333333,
              "#9c179e"
             ],
             [
              0.4444444444444444,
              "#bd3786"
             ],
             [
              0.5555555555555556,
              "#d8576b"
             ],
             [
              0.6666666666666666,
              "#ed7953"
             ],
             [
              0.7777777777777778,
              "#fb9f3a"
             ],
             [
              0.8888888888888888,
              "#fdca26"
             ],
             [
              1,
              "#f0f921"
             ]
            ],
            "type": "histogram2d"
           }
          ],
          "histogram2dcontour": [
           {
            "colorbar": {
             "outlinewidth": 0,
             "ticks": ""
            },
            "colorscale": [
             [
              0,
              "#0d0887"
             ],
             [
              0.1111111111111111,
              "#46039f"
             ],
             [
              0.2222222222222222,
              "#7201a8"
             ],
             [
              0.3333333333333333,
              "#9c179e"
             ],
             [
              0.4444444444444444,
              "#bd3786"
             ],
             [
              0.5555555555555556,
              "#d8576b"
             ],
             [
              0.6666666666666666,
              "#ed7953"
             ],
             [
              0.7777777777777778,
              "#fb9f3a"
             ],
             [
              0.8888888888888888,
              "#fdca26"
             ],
             [
              1,
              "#f0f921"
             ]
            ],
            "type": "histogram2dcontour"
           }
          ],
          "mesh3d": [
           {
            "colorbar": {
             "outlinewidth": 0,
             "ticks": ""
            },
            "type": "mesh3d"
           }
          ],
          "parcoords": [
           {
            "line": {
             "colorbar": {
              "outlinewidth": 0,
              "ticks": ""
             }
            },
            "type": "parcoords"
           }
          ],
          "pie": [
           {
            "automargin": true,
            "type": "pie"
           }
          ],
          "scatter": [
           {
            "fillpattern": {
             "fillmode": "overlay",
             "size": 10,
             "solidity": 0.2
            },
            "type": "scatter"
           }
          ],
          "scatter3d": [
           {
            "line": {
             "colorbar": {
              "outlinewidth": 0,
              "ticks": ""
             }
            },
            "marker": {
             "colorbar": {
              "outlinewidth": 0,
              "ticks": ""
             }
            },
            "type": "scatter3d"
           }
          ],
          "scattercarpet": [
           {
            "marker": {
             "colorbar": {
              "outlinewidth": 0,
              "ticks": ""
             }
            },
            "type": "scattercarpet"
           }
          ],
          "scattergeo": [
           {
            "marker": {
             "colorbar": {
              "outlinewidth": 0,
              "ticks": ""
             }
            },
            "type": "scattergeo"
           }
          ],
          "scattergl": [
           {
            "marker": {
             "colorbar": {
              "outlinewidth": 0,
              "ticks": ""
             }
            },
            "type": "scattergl"
           }
          ],
          "scattermapbox": [
           {
            "marker": {
             "colorbar": {
              "outlinewidth": 0,
              "ticks": ""
             }
            },
            "type": "scattermapbox"
           }
          ],
          "scatterpolar": [
           {
            "marker": {
             "colorbar": {
              "outlinewidth": 0,
              "ticks": ""
             }
            },
            "type": "scatterpolar"
           }
          ],
          "scatterpolargl": [
           {
            "marker": {
             "colorbar": {
              "outlinewidth": 0,
              "ticks": ""
             }
            },
            "type": "scatterpolargl"
           }
          ],
          "scatterternary": [
           {
            "marker": {
             "colorbar": {
              "outlinewidth": 0,
              "ticks": ""
             }
            },
            "type": "scatterternary"
           }
          ],
          "surface": [
           {
            "colorbar": {
             "outlinewidth": 0,
             "ticks": ""
            },
            "colorscale": [
             [
              0,
              "#0d0887"
             ],
             [
              0.1111111111111111,
              "#46039f"
             ],
             [
              0.2222222222222222,
              "#7201a8"
             ],
             [
              0.3333333333333333,
              "#9c179e"
             ],
             [
              0.4444444444444444,
              "#bd3786"
             ],
             [
              0.5555555555555556,
              "#d8576b"
             ],
             [
              0.6666666666666666,
              "#ed7953"
             ],
             [
              0.7777777777777778,
              "#fb9f3a"
             ],
             [
              0.8888888888888888,
              "#fdca26"
             ],
             [
              1,
              "#f0f921"
             ]
            ],
            "type": "surface"
           }
          ],
          "table": [
           {
            "cells": {
             "fill": {
              "color": "#EBF0F8"
             },
             "line": {
              "color": "white"
             }
            },
            "header": {
             "fill": {
              "color": "#C8D4E3"
             },
             "line": {
              "color": "white"
             }
            },
            "type": "table"
           }
          ]
         },
         "layout": {
          "annotationdefaults": {
           "arrowcolor": "#2a3f5f",
           "arrowhead": 0,
           "arrowwidth": 1
          },
          "autotypenumbers": "strict",
          "coloraxis": {
           "colorbar": {
            "outlinewidth": 0,
            "ticks": ""
           }
          },
          "colorscale": {
           "diverging": [
            [
             0,
             "#8e0152"
            ],
            [
             0.1,
             "#c51b7d"
            ],
            [
             0.2,
             "#de77ae"
            ],
            [
             0.3,
             "#f1b6da"
            ],
            [
             0.4,
             "#fde0ef"
            ],
            [
             0.5,
             "#f7f7f7"
            ],
            [
             0.6,
             "#e6f5d0"
            ],
            [
             0.7,
             "#b8e186"
            ],
            [
             0.8,
             "#7fbc41"
            ],
            [
             0.9,
             "#4d9221"
            ],
            [
             1,
             "#276419"
            ]
           ],
           "sequential": [
            [
             0,
             "#0d0887"
            ],
            [
             0.1111111111111111,
             "#46039f"
            ],
            [
             0.2222222222222222,
             "#7201a8"
            ],
            [
             0.3333333333333333,
             "#9c179e"
            ],
            [
             0.4444444444444444,
             "#bd3786"
            ],
            [
             0.5555555555555556,
             "#d8576b"
            ],
            [
             0.6666666666666666,
             "#ed7953"
            ],
            [
             0.7777777777777778,
             "#fb9f3a"
            ],
            [
             0.8888888888888888,
             "#fdca26"
            ],
            [
             1,
             "#f0f921"
            ]
           ],
           "sequentialminus": [
            [
             0,
             "#0d0887"
            ],
            [
             0.1111111111111111,
             "#46039f"
            ],
            [
             0.2222222222222222,
             "#7201a8"
            ],
            [
             0.3333333333333333,
             "#9c179e"
            ],
            [
             0.4444444444444444,
             "#bd3786"
            ],
            [
             0.5555555555555556,
             "#d8576b"
            ],
            [
             0.6666666666666666,
             "#ed7953"
            ],
            [
             0.7777777777777778,
             "#fb9f3a"
            ],
            [
             0.8888888888888888,
             "#fdca26"
            ],
            [
             1,
             "#f0f921"
            ]
           ]
          },
          "colorway": [
           "#636efa",
           "#EF553B",
           "#00cc96",
           "#ab63fa",
           "#FFA15A",
           "#19d3f3",
           "#FF6692",
           "#B6E880",
           "#FF97FF",
           "#FECB52"
          ],
          "font": {
           "color": "#2a3f5f"
          },
          "geo": {
           "bgcolor": "white",
           "lakecolor": "white",
           "landcolor": "#E5ECF6",
           "showlakes": true,
           "showland": true,
           "subunitcolor": "white"
          },
          "hoverlabel": {
           "align": "left"
          },
          "hovermode": "closest",
          "mapbox": {
           "style": "light"
          },
          "paper_bgcolor": "white",
          "plot_bgcolor": "#E5ECF6",
          "polar": {
           "angularaxis": {
            "gridcolor": "white",
            "linecolor": "white",
            "ticks": ""
           },
           "bgcolor": "#E5ECF6",
           "radialaxis": {
            "gridcolor": "white",
            "linecolor": "white",
            "ticks": ""
           }
          },
          "scene": {
           "xaxis": {
            "backgroundcolor": "#E5ECF6",
            "gridcolor": "white",
            "gridwidth": 2,
            "linecolor": "white",
            "showbackground": true,
            "ticks": "",
            "zerolinecolor": "white"
           },
           "yaxis": {
            "backgroundcolor": "#E5ECF6",
            "gridcolor": "white",
            "gridwidth": 2,
            "linecolor": "white",
            "showbackground": true,
            "ticks": "",
            "zerolinecolor": "white"
           },
           "zaxis": {
            "backgroundcolor": "#E5ECF6",
            "gridcolor": "white",
            "gridwidth": 2,
            "linecolor": "white",
            "showbackground": true,
            "ticks": "",
            "zerolinecolor": "white"
           }
          },
          "shapedefaults": {
           "line": {
            "color": "#2a3f5f"
           }
          },
          "ternary": {
           "aaxis": {
            "gridcolor": "white",
            "linecolor": "white",
            "ticks": ""
           },
           "baxis": {
            "gridcolor": "white",
            "linecolor": "white",
            "ticks": ""
           },
           "bgcolor": "#E5ECF6",
           "caxis": {
            "gridcolor": "white",
            "linecolor": "white",
            "ticks": ""
           }
          },
          "title": {
           "x": 0.05
          },
          "xaxis": {
           "automargin": true,
           "gridcolor": "white",
           "linecolor": "white",
           "ticks": "",
           "title": {
            "standoff": 15
           },
           "zerolinecolor": "white",
           "zerolinewidth": 2
          },
          "yaxis": {
           "automargin": true,
           "gridcolor": "white",
           "linecolor": "white",
           "ticks": "",
           "title": {
            "standoff": 15
           },
           "zerolinecolor": "white",
           "zerolinewidth": 2
          }
         }
        },
        "xaxis": {
         "anchor": "y",
         "constrain": "domain",
         "domain": [
          0,
          1
         ],
         "scaleanchor": "y",
         "title": {
          "text": "Current Season Stats"
         }
        },
        "yaxis": {
         "anchor": "x",
         "autorange": "reversed",
         "constrain": "domain",
         "domain": [
          0,
          1
         ],
         "title": {
          "text": "Previous Season Stats"
         }
        }
       }
      },
      "text/html": [
       "<div>                            <div id=\"c197bbf2-7d18-49ed-a904-2c3bc8faa98e\" class=\"plotly-graph-div\" style=\"height:525px; width:100%;\"></div>            <script type=\"text/javascript\">                require([\"plotly\"], function(Plotly) {                    window.PLOTLYENV=window.PLOTLYENV || {};                                    if (document.getElementById(\"c197bbf2-7d18-49ed-a904-2c3bc8faa98e\")) {                    Plotly.newPlot(                        \"c197bbf2-7d18-49ed-a904-2c3bc8faa98e\",                        [{\"coloraxis\":\"coloraxis\",\"name\":\"0\",\"texttemplate\":\"%{z}\",\"x\":[\"rushing_touchdowns\",\"fumbles_last\",\"rushing_touchdowns_last\",\"fumbles\"],\"y\":[\"fantasy_points\",\"fantasy_points_last\"],\"z\":[[0.46,0.42,0.24,0.57],[0.26,0.54,0.45,0.44]],\"type\":\"heatmap\",\"xaxis\":\"x\",\"yaxis\":\"y\",\"hovertemplate\":\"Current Season Stats: %{x}\\u003cbr\\u003ePrevious Season Stats: %{y}\\u003cbr\\u003ecolor: %{z}\\u003cextra\\u003e\\u003c\\u002fextra\\u003e\"}],                        {\"template\":{\"data\":{\"histogram2dcontour\":[{\"type\":\"histogram2dcontour\",\"colorbar\":{\"outlinewidth\":0,\"ticks\":\"\"},\"colorscale\":[[0.0,\"#0d0887\"],[0.1111111111111111,\"#46039f\"],[0.2222222222222222,\"#7201a8\"],[0.3333333333333333,\"#9c179e\"],[0.4444444444444444,\"#bd3786\"],[0.5555555555555556,\"#d8576b\"],[0.6666666666666666,\"#ed7953\"],[0.7777777777777778,\"#fb9f3a\"],[0.8888888888888888,\"#fdca26\"],[1.0,\"#f0f921\"]]}],\"choropleth\":[{\"type\":\"choropleth\",\"colorbar\":{\"outlinewidth\":0,\"ticks\":\"\"}}],\"histogram2d\":[{\"type\":\"histogram2d\",\"colorbar\":{\"outlinewidth\":0,\"ticks\":\"\"},\"colorscale\":[[0.0,\"#0d0887\"],[0.1111111111111111,\"#46039f\"],[0.2222222222222222,\"#7201a8\"],[0.3333333333333333,\"#9c179e\"],[0.4444444444444444,\"#bd3786\"],[0.5555555555555556,\"#d8576b\"],[0.6666666666666666,\"#ed7953\"],[0.7777777777777778,\"#fb9f3a\"],[0.8888888888888888,\"#fdca26\"],[1.0,\"#f0f921\"]]}],\"heatmap\":[{\"type\":\"heatmap\",\"colorbar\":{\"outlinewidth\":0,\"ticks\":\"\"},\"colorscale\":[[0.0,\"#0d0887\"],[0.1111111111111111,\"#46039f\"],[0.2222222222222222,\"#7201a8\"],[0.3333333333333333,\"#9c179e\"],[0.4444444444444444,\"#bd3786\"],[0.5555555555555556,\"#d8576b\"],[0.6666666666666666,\"#ed7953\"],[0.7777777777777778,\"#fb9f3a\"],[0.8888888888888888,\"#fdca26\"],[1.0,\"#f0f921\"]]}],\"heatmapgl\":[{\"type\":\"heatmapgl\",\"colorbar\":{\"outlinewidth\":0,\"ticks\":\"\"},\"colorscale\":[[0.0,\"#0d0887\"],[0.1111111111111111,\"#46039f\"],[0.2222222222222222,\"#7201a8\"],[0.3333333333333333,\"#9c179e\"],[0.4444444444444444,\"#bd3786\"],[0.5555555555555556,\"#d8576b\"],[0.6666666666666666,\"#ed7953\"],[0.7777777777777778,\"#fb9f3a\"],[0.8888888888888888,\"#fdca26\"],[1.0,\"#f0f921\"]]}],\"contourcarpet\":[{\"type\":\"contourcarpet\",\"colorbar\":{\"outlinewidth\":0,\"ticks\":\"\"}}],\"contour\":[{\"type\":\"contour\",\"colorbar\":{\"outlinewidth\":0,\"ticks\":\"\"},\"colorscale\":[[0.0,\"#0d0887\"],[0.1111111111111111,\"#46039f\"],[0.2222222222222222,\"#7201a8\"],[0.3333333333333333,\"#9c179e\"],[0.4444444444444444,\"#bd3786\"],[0.5555555555555556,\"#d8576b\"],[0.6666666666666666,\"#ed7953\"],[0.7777777777777778,\"#fb9f3a\"],[0.8888888888888888,\"#fdca26\"],[1.0,\"#f0f921\"]]}],\"surface\":[{\"type\":\"surface\",\"colorbar\":{\"outlinewidth\":0,\"ticks\":\"\"},\"colorscale\":[[0.0,\"#0d0887\"],[0.1111111111111111,\"#46039f\"],[0.2222222222222222,\"#7201a8\"],[0.3333333333333333,\"#9c179e\"],[0.4444444444444444,\"#bd3786\"],[0.5555555555555556,\"#d8576b\"],[0.6666666666666666,\"#ed7953\"],[0.7777777777777778,\"#fb9f3a\"],[0.8888888888888888,\"#fdca26\"],[1.0,\"#f0f921\"]]}],\"mesh3d\":[{\"type\":\"mesh3d\",\"colorbar\":{\"outlinewidth\":0,\"ticks\":\"\"}}],\"scatter\":[{\"fillpattern\":{\"fillmode\":\"overlay\",\"size\":10,\"solidity\":0.2},\"type\":\"scatter\"}],\"parcoords\":[{\"type\":\"parcoords\",\"line\":{\"colorbar\":{\"outlinewidth\":0,\"ticks\":\"\"}}}],\"scatterpolargl\":[{\"type\":\"scatterpolargl\",\"marker\":{\"colorbar\":{\"outlinewidth\":0,\"ticks\":\"\"}}}],\"bar\":[{\"error_x\":{\"color\":\"#2a3f5f\"},\"error_y\":{\"color\":\"#2a3f5f\"},\"marker\":{\"line\":{\"color\":\"#E5ECF6\",\"width\":0.5},\"pattern\":{\"fillmode\":\"overlay\",\"size\":10,\"solidity\":0.2}},\"type\":\"bar\"}],\"scattergeo\":[{\"type\":\"scattergeo\",\"marker\":{\"colorbar\":{\"outlinewidth\":0,\"ticks\":\"\"}}}],\"scatterpolar\":[{\"type\":\"scatterpolar\",\"marker\":{\"colorbar\":{\"outlinewidth\":0,\"ticks\":\"\"}}}],\"histogram\":[{\"marker\":{\"pattern\":{\"fillmode\":\"overlay\",\"size\":10,\"solidity\":0.2}},\"type\":\"histogram\"}],\"scattergl\":[{\"type\":\"scattergl\",\"marker\":{\"colorbar\":{\"outlinewidth\":0,\"ticks\":\"\"}}}],\"scatter3d\":[{\"type\":\"scatter3d\",\"line\":{\"colorbar\":{\"outlinewidth\":0,\"ticks\":\"\"}},\"marker\":{\"colorbar\":{\"outlinewidth\":0,\"ticks\":\"\"}}}],\"scattermapbox\":[{\"type\":\"scattermapbox\",\"marker\":{\"colorbar\":{\"outlinewidth\":0,\"ticks\":\"\"}}}],\"scatterternary\":[{\"type\":\"scatterternary\",\"marker\":{\"colorbar\":{\"outlinewidth\":0,\"ticks\":\"\"}}}],\"scattercarpet\":[{\"type\":\"scattercarpet\",\"marker\":{\"colorbar\":{\"outlinewidth\":0,\"ticks\":\"\"}}}],\"carpet\":[{\"aaxis\":{\"endlinecolor\":\"#2a3f5f\",\"gridcolor\":\"white\",\"linecolor\":\"white\",\"minorgridcolor\":\"white\",\"startlinecolor\":\"#2a3f5f\"},\"baxis\":{\"endlinecolor\":\"#2a3f5f\",\"gridcolor\":\"white\",\"linecolor\":\"white\",\"minorgridcolor\":\"white\",\"startlinecolor\":\"#2a3f5f\"},\"type\":\"carpet\"}],\"table\":[{\"cells\":{\"fill\":{\"color\":\"#EBF0F8\"},\"line\":{\"color\":\"white\"}},\"header\":{\"fill\":{\"color\":\"#C8D4E3\"},\"line\":{\"color\":\"white\"}},\"type\":\"table\"}],\"barpolar\":[{\"marker\":{\"line\":{\"color\":\"#E5ECF6\",\"width\":0.5},\"pattern\":{\"fillmode\":\"overlay\",\"size\":10,\"solidity\":0.2}},\"type\":\"barpolar\"}],\"pie\":[{\"automargin\":true,\"type\":\"pie\"}]},\"layout\":{\"autotypenumbers\":\"strict\",\"colorway\":[\"#636efa\",\"#EF553B\",\"#00cc96\",\"#ab63fa\",\"#FFA15A\",\"#19d3f3\",\"#FF6692\",\"#B6E880\",\"#FF97FF\",\"#FECB52\"],\"font\":{\"color\":\"#2a3f5f\"},\"hovermode\":\"closest\",\"hoverlabel\":{\"align\":\"left\"},\"paper_bgcolor\":\"white\",\"plot_bgcolor\":\"#E5ECF6\",\"polar\":{\"bgcolor\":\"#E5ECF6\",\"angularaxis\":{\"gridcolor\":\"white\",\"linecolor\":\"white\",\"ticks\":\"\"},\"radialaxis\":{\"gridcolor\":\"white\",\"linecolor\":\"white\",\"ticks\":\"\"}},\"ternary\":{\"bgcolor\":\"#E5ECF6\",\"aaxis\":{\"gridcolor\":\"white\",\"linecolor\":\"white\",\"ticks\":\"\"},\"baxis\":{\"gridcolor\":\"white\",\"linecolor\":\"white\",\"ticks\":\"\"},\"caxis\":{\"gridcolor\":\"white\",\"linecolor\":\"white\",\"ticks\":\"\"}},\"coloraxis\":{\"colorbar\":{\"outlinewidth\":0,\"ticks\":\"\"}},\"colorscale\":{\"sequential\":[[0.0,\"#0d0887\"],[0.1111111111111111,\"#46039f\"],[0.2222222222222222,\"#7201a8\"],[0.3333333333333333,\"#9c179e\"],[0.4444444444444444,\"#bd3786\"],[0.5555555555555556,\"#d8576b\"],[0.6666666666666666,\"#ed7953\"],[0.7777777777777778,\"#fb9f3a\"],[0.8888888888888888,\"#fdca26\"],[1.0,\"#f0f921\"]],\"sequentialminus\":[[0.0,\"#0d0887\"],[0.1111111111111111,\"#46039f\"],[0.2222222222222222,\"#7201a8\"],[0.3333333333333333,\"#9c179e\"],[0.4444444444444444,\"#bd3786\"],[0.5555555555555556,\"#d8576b\"],[0.6666666666666666,\"#ed7953\"],[0.7777777777777778,\"#fb9f3a\"],[0.8888888888888888,\"#fdca26\"],[1.0,\"#f0f921\"]],\"diverging\":[[0,\"#8e0152\"],[0.1,\"#c51b7d\"],[0.2,\"#de77ae\"],[0.3,\"#f1b6da\"],[0.4,\"#fde0ef\"],[0.5,\"#f7f7f7\"],[0.6,\"#e6f5d0\"],[0.7,\"#b8e186\"],[0.8,\"#7fbc41\"],[0.9,\"#4d9221\"],[1,\"#276419\"]]},\"xaxis\":{\"gridcolor\":\"white\",\"linecolor\":\"white\",\"ticks\":\"\",\"title\":{\"standoff\":15},\"zerolinecolor\":\"white\",\"automargin\":true,\"zerolinewidth\":2},\"yaxis\":{\"gridcolor\":\"white\",\"linecolor\":\"white\",\"ticks\":\"\",\"title\":{\"standoff\":15},\"zerolinecolor\":\"white\",\"automargin\":true,\"zerolinewidth\":2},\"scene\":{\"xaxis\":{\"backgroundcolor\":\"#E5ECF6\",\"gridcolor\":\"white\",\"linecolor\":\"white\",\"showbackground\":true,\"ticks\":\"\",\"zerolinecolor\":\"white\",\"gridwidth\":2},\"yaxis\":{\"backgroundcolor\":\"#E5ECF6\",\"gridcolor\":\"white\",\"linecolor\":\"white\",\"showbackground\":true,\"ticks\":\"\",\"zerolinecolor\":\"white\",\"gridwidth\":2},\"zaxis\":{\"backgroundcolor\":\"#E5ECF6\",\"gridcolor\":\"white\",\"linecolor\":\"white\",\"showbackground\":true,\"ticks\":\"\",\"zerolinecolor\":\"white\",\"gridwidth\":2}},\"shapedefaults\":{\"line\":{\"color\":\"#2a3f5f\"}},\"annotationdefaults\":{\"arrowcolor\":\"#2a3f5f\",\"arrowhead\":0,\"arrowwidth\":1},\"geo\":{\"bgcolor\":\"white\",\"landcolor\":\"#E5ECF6\",\"subunitcolor\":\"white\",\"showland\":true,\"showlakes\":true,\"lakecolor\":\"white\"},\"title\":{\"x\":0.05},\"mapbox\":{\"style\":\"light\"}}},\"xaxis\":{\"anchor\":\"y\",\"domain\":[0.0,1.0],\"scaleanchor\":\"y\",\"constrain\":\"domain\",\"title\":{\"text\":\"Current Season Stats\"}},\"yaxis\":{\"anchor\":\"x\",\"domain\":[0.0,1.0],\"autorange\":\"reversed\",\"constrain\":\"domain\",\"title\":{\"text\":\"Previous Season Stats\"}},\"coloraxis\":{\"colorscale\":[[0.0,\"#0d0887\"],[0.1111111111111111,\"#46039f\"],[0.2222222222222222,\"#7201a8\"],[0.3333333333333333,\"#9c179e\"],[0.4444444444444444,\"#bd3786\"],[0.5555555555555556,\"#d8576b\"],[0.6666666666666666,\"#ed7953\"],[0.7777777777777778,\"#fb9f3a\"],[0.8888888888888888,\"#fdca26\"],[1.0,\"#f0f921\"]]},\"margin\":{\"t\":60}},                        {\"responsive\": true}                    ).then(function(){\n",
       "                            \n",
       "var gd = document.getElementById('c197bbf2-7d18-49ed-a904-2c3bc8faa98e');\n",
       "var x = new MutationObserver(function (mutations, observer) {{\n",
       "        var display = window.getComputedStyle(gd).display;\n",
       "        if (!display || display === 'none') {{\n",
       "            console.log([gd, 'removed!']);\n",
       "            Plotly.purge(gd);\n",
       "            observer.disconnect();\n",
       "        }}\n",
       "}});\n",
       "\n",
       "// Listen for the removal of the full notebook cells\n",
       "var notebookContainer = gd.closest('#notebook-container');\n",
       "if (notebookContainer) {{\n",
       "    x.observe(notebookContainer, {childList: true});\n",
       "}}\n",
       "\n",
       "// Listen for the clearing of the current output cell\n",
       "var outputEl = gd.closest('.output');\n",
       "if (outputEl) {{\n",
       "    x.observe(outputEl, {childList: true});\n",
       "}}\n",
       "\n",
       "                        })                };                });            </script>        </div>"
      ]
     },
     "metadata": {},
     "output_type": "display_data"
    },
    {
     "name": "stdout",
     "output_type": "stream",
     "text": [
      "fumbles\n",
      "\n",
      "Save path: fantasy-relevance-unfiltered-scatter-fumbles\n",
      "\n"
     ]
    },
    {
     "data": {
      "application/vnd.plotly.v1+json": {
       "config": {
        "plotlyServerURL": "https://plot.ly"
       },
       "data": [
        {
         "customdata": [
          [
           "M.Hasselbeck",
           2015,
           39
          ],
          [
           "P.Manning",
           2013,
           37
          ],
          [
           "P.Manning",
           2014,
           38
          ],
          [
           "T.Brady",
           2013,
           36
          ],
          [
           "T.Brady",
           2014,
           37
          ],
          [
           "T.Brady",
           2015,
           38
          ],
          [
           "T.Brady",
           2016,
           39
          ],
          [
           "T.Brady",
           2017,
           40
          ],
          [
           "T.Brady",
           2018,
           41
          ],
          [
           "T.Brady",
           2019,
           42
          ],
          [
           "T.Brady",
           2020,
           43
          ],
          [
           "T.Brady",
           2021,
           44
          ],
          [
           "T.Brady",
           2022,
           45
          ],
          [
           "M.Vick",
           2013,
           33
          ],
          [
           "M.Vick",
           2014,
           34
          ],
          [
           "M.Vick",
           2015,
           35
          ],
          [
           "S.Moss",
           2013,
           34
          ],
          [
           "R.Wayne",
           2013,
           34
          ],
          [
           "D.Brees",
           2013,
           34
          ],
          [
           "D.Brees",
           2014,
           35
          ],
          [
           "D.Brees",
           2015,
           36
          ],
          [
           "D.Brees",
           2016,
           37
          ],
          [
           "D.Brees",
           2017,
           38
          ],
          [
           "D.Brees",
           2018,
           39
          ],
          [
           "D.Brees",
           2019,
           40
          ],
          [
           "D.Brees",
           2020,
           41
          ],
          [
           "J.McCown",
           2014,
           35
          ],
          [
           "J.McCown",
           2015,
           36
          ],
          [
           "J.McCown",
           2016,
           37
          ],
          [
           "J.McCown",
           2017,
           38
          ],
          [
           "C.Palmer",
           2013,
           33
          ],
          [
           "C.Palmer",
           2014,
           34
          ],
          [
           "C.Palmer",
           2015,
           35
          ],
          [
           "C.Palmer",
           2016,
           36
          ],
          [
           "C.Palmer",
           2017,
           37
          ],
          [
           "T.Romo",
           2013,
           33
          ],
          [
           "T.Romo",
           2014,
           34
          ],
          [
           "N.Burleson",
           2013,
           32
          ],
          [
           "A.Boldin",
           2013,
           32
          ],
          [
           "A.Boldin",
           2014,
           33
          ],
          [
           "W.McGahee",
           2013,
           31
          ],
          [
           "V.Leach",
           2013,
           31
          ],
          [
           "S.Jackson",
           2013,
           30
          ],
          [
           "S.Jackson",
           2014,
           31
          ],
          [
           "S.Jackson",
           2015,
           32
          ],
          [
           "M.Schaub",
           2013,
           32
          ],
          [
           "E.Manning",
           2013,
           32
          ],
          [
           "E.Manning",
           2018,
           37
          ],
          [
           "E.Manning",
           2019,
           38
          ],
          [
           "G.Jones",
           2013,
           32
          ],
          [
           "B.Roethlisberger",
           2013,
           31
          ],
          [
           "B.Roethlisberger",
           2014,
           32
          ],
          [
           "B.Roethlisberger",
           2015,
           33
          ],
          [
           "B.Roethlisberger",
           2016,
           34
          ],
          [
           "B.Roethlisberger",
           2017,
           35
          ],
          [
           "B.Roethlisberger",
           2018,
           36
          ],
          [
           "B.Roethlisberger",
           2021,
           39
          ],
          [
           "P.Rivers",
           2013,
           31
          ],
          [
           "P.Rivers",
           2014,
           32
          ],
          [
           "P.Rivers",
           2015,
           33
          ],
          [
           "P.Rivers",
           2016,
           34
          ],
          [
           "P.Rivers",
           2017,
           35
          ],
          [
           "P.Rivers",
           2018,
           36
          ],
          [
           "P.Rivers",
           2019,
           37
          ],
          [
           "P.Rivers",
           2020,
           38
          ],
          [
           "J.Kuhn",
           2013,
           30
          ],
          [
           "J.Kuhn",
           2014,
           31
          ],
          [
           "J.Kuhn",
           2015,
           32
          ],
          [
           "J.Kuhn",
           2016,
           33
          ],
          [
           "J.Kuhn",
           2017,
           34
          ],
          [
           "S.Suisham",
           2013,
           31
          ],
          [
           "J.Cribbs",
           2013,
           30
          ],
          [
           "A.Smith",
           2013,
           29
          ],
          [
           "A.Smith",
           2014,
           30
          ],
          [
           "A.Smith",
           2015,
           31
          ],
          [
           "A.Smith",
           2016,
           32
          ],
          [
           "A.Smith",
           2017,
           33
          ],
          [
           "A.Smith",
           2018,
           34
          ],
          [
           "R.Brown",
           2013,
           31
          ],
          [
           "R.Brown",
           2014,
           32
          ],
          [
           "A.Rodgers",
           2013,
           29
          ],
          [
           "A.Rodgers",
           2014,
           30
          ],
          [
           "A.Rodgers",
           2015,
           31
          ],
          [
           "A.Rodgers",
           2016,
           32
          ],
          [
           "A.Rodgers",
           2017,
           33
          ],
          [
           "A.Rodgers",
           2018,
           34
          ],
          [
           "A.Rodgers",
           2019,
           35
          ],
          [
           "A.Rodgers",
           2020,
           36
          ],
          [
           "A.Rodgers",
           2021,
           37
          ],
          [
           "A.Rodgers",
           2022,
           38
          ],
          [
           "F.Gore",
           2013,
           30
          ],
          [
           "F.Gore",
           2014,
           31
          ],
          [
           "F.Gore",
           2015,
           32
          ],
          [
           "F.Gore",
           2016,
           33
          ],
          [
           "F.Gore",
           2017,
           34
          ],
          [
           "F.Gore",
           2018,
           35
          ],
          [
           "F.Gore",
           2019,
           36
          ],
          [
           "F.Gore",
           2020,
           37
          ],
          [
           "B.Jacobs",
           2013,
           31
          ],
          [
           "D.Sproles",
           2013,
           30
          ],
          [
           "D.Sproles",
           2014,
           31
          ],
          [
           "D.Sproles",
           2015,
           32
          ],
          [
           "D.Sproles",
           2016,
           33
          ],
          [
           "D.Sproles",
           2017,
           34
          ],
          [
           "D.Sproles",
           2018,
           35
          ],
          [
           "D.Sproles",
           2019,
           36
          ],
          [
           "D.Anderson",
           2014,
           31
          ],
          [
           "D.Anderson",
           2015,
           32
          ],
          [
           "M.Cassel",
           2013,
           31
          ],
          [
           "M.Cassel",
           2014,
           32
          ],
          [
           "M.Cassel",
           2015,
           33
          ],
          [
           "R.Fitzpatrick",
           2013,
           30
          ],
          [
           "R.Fitzpatrick",
           2014,
           31
          ],
          [
           "R.Fitzpatrick",
           2015,
           32
          ],
          [
           "R.Fitzpatrick",
           2016,
           33
          ],
          [
           "R.Fitzpatrick",
           2017,
           34
          ],
          [
           "R.Fitzpatrick",
           2018,
           35
          ],
          [
           "R.Fitzpatrick",
           2019,
           36
          ],
          [
           "R.Fitzpatrick",
           2020,
           37
          ],
          [
           "F.Jackson",
           2013,
           32
          ],
          [
           "F.Jackson",
           2014,
           33
          ],
          [
           "F.Jackson",
           2015,
           34
          ],
          [
           "R.Bush",
           2013,
           28
          ],
          [
           "R.Bush",
           2014,
           29
          ],
          [
           "R.Bush",
           2015,
           30
          ],
          [
           "R.Bush",
           2016,
           31
          ],
          [
           "J.Cutler",
           2013,
           30
          ],
          [
           "J.Cutler",
           2014,
           31
          ],
          [
           "J.Cutler",
           2015,
           32
          ],
          [
           "J.Cutler",
           2016,
           33
          ],
          [
           "J.Cutler",
           2017,
           34
          ],
          [
           "D.Williams",
           2013,
           30
          ],
          [
           "D.Williams",
           2014,
           31
          ],
          [
           "K.Clemens",
           2013,
           30
          ],
          [
           "M.Jones-Drew",
           2013,
           28
          ],
          [
           "M.Jones-Drew",
           2014,
           29
          ],
          [
           "C.Whitehurst",
           2014,
           32
          ],
          [
           "C.Whitehurst",
           2015,
           33
          ],
          [
           "M.Robinson",
           2013,
           30
          ],
          [
           "B.Smith",
           2013,
           29
          ],
          [
           "L.Washington",
           2013,
           31
          ],
          [
           "L.Washington",
           2014,
           32
          ],
          [
           "D.Walker",
           2016,
           32
          ],
          [
           "D.Walker",
           2017,
           33
          ],
          [
           "S.Koch",
           2016,
           34
          ],
          [
           "P.Thomas",
           2013,
           28
          ],
          [
           "P.Thomas",
           2014,
           29
          ],
          [
           "P.Thomas",
           2015,
           30
          ],
          [
           "A.Peterson",
           2013,
           28
          ],
          [
           "A.Peterson",
           2014,
           29
          ],
          [
           "A.Peterson",
           2015,
           30
          ],
          [
           "A.Peterson",
           2016,
           31
          ],
          [
           "A.Peterson",
           2017,
           32
          ],
          [
           "A.Peterson",
           2018,
           33
          ],
          [
           "A.Peterson",
           2019,
           34
          ],
          [
           "A.Peterson",
           2020,
           35
          ],
          [
           "A.Peterson",
           2021,
           36
          ],
          [
           "T.Ginn",
           2013,
           28
          ],
          [
           "T.Ginn",
           2014,
           29
          ],
          [
           "T.Ginn",
           2015,
           30
          ],
          [
           "T.Ginn",
           2016,
           31
          ],
          [
           "T.Ginn",
           2017,
           32
          ],
          [
           "T.Ginn",
           2018,
           33
          ],
          [
           "T.Ginn",
           2019,
           34
          ],
          [
           "M.Lynch",
           2013,
           27
          ],
          [
           "M.Lynch",
           2014,
           28
          ],
          [
           "M.Lynch",
           2015,
           29
          ],
          [
           "M.Lynch",
           2018,
           32
          ],
          [
           "M.Lynch",
           2019,
           33
          ],
          [
           "R.Meachem",
           2013,
           28
          ],
          [
           "E.Weddle",
           2013,
           28
          ],
          [
           "B.Leonard",
           2013,
           29
          ],
          [
           "J.Jones",
           2013,
           29
          ],
          [
           "J.Jones",
           2014,
           30
          ],
          [
           "M.Bush",
           2013,
           29
          ],
          [
           "D.Goldson",
           2013,
           28
          ],
          [
           "L.McClain",
           2013,
           28
          ],
          [
           "B.Fields",
           2013,
           29
          ],
          [
           "J.Snelling",
           2013,
           29
          ],
          [
           "A.Bradshaw",
           2013,
           27
          ],
          [
           "A.Bradshaw",
           2014,
           28
          ],
          [
           "A.Bradshaw",
           2015,
           29
          ],
          [
           "J.Battle",
           2013,
           29
          ],
          [
           "J.Battle",
           2014,
           30
          ],
          [
           "B.Green-Ellis",
           2013,
           28
          ],
          [
           "D.Reynaud",
           2013,
           28
          ],
          [
           "D.Woodhead",
           2013,
           28
          ],
          [
           "D.Woodhead",
           2014,
           29
          ],
          [
           "D.Woodhead",
           2015,
           30
          ],
          [
           "D.Woodhead",
           2016,
           31
          ],
          [
           "D.Woodhead",
           2017,
           32
          ],
          [
           "D.Amendola",
           2013,
           27
          ],
          [
           "M.Tolbert",
           2013,
           27
          ],
          [
           "M.Tolbert",
           2014,
           28
          ],
          [
           "M.Tolbert",
           2015,
           29
          ],
          [
           "M.Tolbert",
           2016,
           30
          ],
          [
           "M.Tolbert",
           2017,
           31
          ],
          [
           "J.Collins",
           2014,
           28
          ],
          [
           "M.Ryan",
           2013,
           28
          ],
          [
           "M.Ryan",
           2014,
           29
          ],
          [
           "M.Ryan",
           2015,
           30
          ],
          [
           "M.Ryan",
           2016,
           31
          ],
          [
           "M.Ryan",
           2017,
           32
          ],
          [
           "M.Ryan",
           2018,
           33
          ],
          [
           "M.Ryan",
           2019,
           34
          ],
          [
           "M.Ryan",
           2020,
           35
          ],
          [
           "M.Ryan",
           2021,
           36
          ],
          [
           "M.Ryan",
           2022,
           37
          ],
          [
           "D.McFadden",
           2013,
           26
          ],
          [
           "D.McFadden",
           2014,
           27
          ],
          [
           "D.McFadden",
           2015,
           28
          ],
          [
           "D.McFadden",
           2016,
           29
          ],
          [
           "D.McFadden",
           2017,
           30
          ],
          [
           "J.Stewart",
           2013,
           26
          ],
          [
           "J.Stewart",
           2014,
           27
          ],
          [
           "J.Stewart",
           2015,
           28
          ],
          [
           "J.Stewart",
           2016,
           29
          ],
          [
           "J.Stewart",
           2017,
           30
          ],
          [
           "J.Stewart",
           2018,
           31
          ],
          [
           "J.Flacco",
           2013,
           28
          ],
          [
           "J.Flacco",
           2014,
           29
          ],
          [
           "J.Flacco",
           2015,
           30
          ],
          [
           "J.Flacco",
           2016,
           31
          ],
          [
           "J.Flacco",
           2017,
           32
          ],
          [
           "J.Flacco",
           2018,
           33
          ],
          [
           "J.Flacco",
           2019,
           34
          ],
          [
           "J.Flacco",
           2020,
           35
          ],
          [
           "J.Flacco",
           2021,
           36
          ],
          [
           "J.Flacco",
           2022,
           37
          ],
          [
           "F.Jones",
           2013,
           26
          ],
          [
           "R.Mendenhall",
           2013,
           26
          ],
          [
           "C.Johnson",
           2013,
           27
          ],
          [
           "C.Johnson",
           2014,
           28
          ],
          [
           "C.Johnson",
           2015,
           29
          ],
          [
           "C.Johnson",
           2016,
           30
          ],
          [
           "C.Johnson",
           2017,
           31
          ],
          [
           "D.Avery",
           2013,
           29
          ],
          [
           "E.Royal",
           2013,
           27
          ],
          [
           "E.Royal",
           2014,
           28
          ],
          [
           "E.Royal",
           2015,
           29
          ],
          [
           "M.Forte",
           2013,
           27
          ],
          [
           "M.Forte",
           2014,
           28
          ],
          [
           "M.Forte",
           2015,
           29
          ],
          [
           "M.Forte",
           2016,
           30
          ],
          [
           "M.Forte",
           2017,
           31
          ],
          [
           "D.Jackson",
           2013,
           26
          ],
          [
           "D.Jackson",
           2014,
           27
          ],
          [
           "D.Jackson",
           2018,
           31
          ],
          [
           "D.Jackson",
           2021,
           34
          ],
          [
           "R.Rice",
           2013,
           26
          ],
          [
           "C.Henne",
           2013,
           28
          ],
          [
           "C.Henne",
           2014,
           29
          ],
          [
           "C.Henne",
           2021,
           36
          ],
          [
           "J.Charles",
           2013,
           26
          ],
          [
           "J.Charles",
           2014,
           27
          ],
          [
           "J.Charles",
           2015,
           28
          ],
          [
           "J.Charles",
           2016,
           29
          ],
          [
           "J.Charles",
           2017,
           30
          ],
          [
           "J.Charles",
           2018,
           31
          ],
          [
           "A.Caldwell",
           2013,
           28
          ],
          [
           "T.Choice",
           2013,
           28
          ],
          [
           "J.Felton",
           2015,
           29
          ],
          [
           "J.Felton",
           2016,
           30
          ],
          [
           "T.Hightower",
           2016,
           30
          ],
          [
           "J.Johnson",
           2022,
           36
          ],
          [
           "J.Morgan",
           2013,
           28
          ],
          [
           "J.Morgan",
           2014,
           29
          ],
          [
           "P.Garcon",
           2013,
           27
          ],
          [
           "P.Hillis",
           2013,
           27
          ],
          [
           "P.Hillis",
           2014,
           28
          ],
          [
           "J.Forsett",
           2013,
           27
          ],
          [
           "J.Forsett",
           2014,
           28
          ],
          [
           "J.Forsett",
           2015,
           29
          ],
          [
           "J.Forsett",
           2016,
           30
          ],
          [
           "M.Reece",
           2013,
           28
          ],
          [
           "M.Reece",
           2014,
           29
          ],
          [
           "M.Reece",
           2015,
           30
          ],
          [
           "M.Reece",
           2016,
           31
          ],
          [
           "M.Stafford",
           2013,
           25
          ],
          [
           "M.Stafford",
           2014,
           26
          ],
          [
           "M.Stafford",
           2015,
           27
          ],
          [
           "M.Stafford",
           2016,
           28
          ],
          [
           "M.Stafford",
           2017,
           29
          ],
          [
           "M.Stafford",
           2018,
           30
          ],
          [
           "M.Stafford",
           2019,
           31
          ],
          [
           "M.Stafford",
           2020,
           32
          ],
          [
           "M.Stafford",
           2021,
           33
          ],
          [
           "M.Stafford",
           2022,
           34
          ],
          [
           "C.Daniel",
           2013,
           26
          ],
          [
           "C.Daniel",
           2014,
           27
          ],
          [
           "C.Daniel",
           2019,
           32
          ],
          [
           "I.Redman",
           2013,
           28
          ],
          [
           "M.Thigpen",
           2013,
           27
          ],
          [
           "B.Hoyer",
           2014,
           28
          ],
          [
           "B.Hoyer",
           2015,
           29
          ],
          [
           "B.Hoyer",
           2016,
           30
          ],
          [
           "B.Hoyer",
           2017,
           31
          ],
          [
           "B.Hoyer",
           2018,
           32
          ],
          [
           "A.Foster",
           2013,
           27
          ],
          [
           "A.Foster",
           2014,
           28
          ],
          [
           "A.Foster",
           2015,
           29
          ],
          [
           "A.Foster",
           2016,
           30
          ],
          [
           "D.Young",
           2013,
           26
          ],
          [
           "D.Young",
           2014,
           27
          ],
          [
           "D.Young",
           2015,
           28
          ],
          [
           "A.Smith",
           2014,
           28
          ],
          [
           "A.Smith",
           2015,
           29
          ],
          [
           "A.Smith",
           2016,
           30
          ],
          [
           "M.Sanchez",
           2015,
           28
          ],
          [
           "S.Greene",
           2013,
           28
          ],
          [
           "S.Greene",
           2014,
           29
          ],
          [
           "M.Wallace",
           2013,
           27
          ],
          [
           "M.Wallace",
           2014,
           28
          ],
          [
           "M.Wallace",
           2015,
           29
          ],
          [
           "M.Wallace",
           2016,
           30
          ],
          [
           "M.Wallace",
           2017,
           31
          ],
          [
           "F.Summers",
           2014,
           28
          ],
          [
           "C.Peerman",
           2013,
           26
          ],
          [
           "C.Peerman",
           2014,
           27
          ],
          [
           "B.Scott",
           2013,
           29
          ],
          [
           "L.Stephens-Howling",
           2013,
           26
          ],
          [
           "D.Heyward-Bey",
           2013,
           26
          ],
          [
           "D.Heyward-Bey",
           2017,
           30
          ],
          [
           "D.Heyward-Bey",
           2018,
           31
          ],
          [
           "K.Moreno",
           2013,
           26
          ],
          [
           "K.Moreno",
           2014,
           27
          ],
          [
           "J.Freeman",
           2013,
           25
          ],
          [
           "J.Maclin",
           2016,
           28
          ],
          [
           "P.Harvin",
           2015,
           27
          ],
          [
           "P.Harvin",
           2016,
           28
          ],
          [
           "D.Brown",
           2013,
           26
          ],
          [
           "D.Brown",
           2014,
           27
          ],
          [
           "D.Brown",
           2015,
           28
          ],
          [
           "L.McCoy",
           2013,
           25
          ],
          [
           "L.McCoy",
           2014,
           26
          ],
          [
           "L.McCoy",
           2015,
           27
          ],
          [
           "L.McCoy",
           2016,
           28
          ],
          [
           "L.McCoy",
           2017,
           29
          ],
          [
           "L.McCoy",
           2018,
           30
          ],
          [
           "L.McCoy",
           2019,
           31
          ],
          [
           "L.McCoy",
           2020,
           32
          ],
          [
           "M.Goodson",
           2013,
           26
          ],
          [
           "D.Bruton",
           2014,
           27
          ],
          [
           "A.Brown",
           2013,
           26
          ],
          [
           "K.Huber",
           2013,
           28
          ],
          [
           "C.Ogbonnaya",
           2013,
           27
          ],
          [
           "C.Ogbonnaya",
           2014,
           28
          ],
          [
           "P.McAfee",
           2016,
           29
          ],
          [
           "J.Edelman",
           2013,
           27
          ],
          [
           "J.Edelman",
           2014,
           28
          ],
          [
           "J.Edelman",
           2015,
           29
          ],
          [
           "J.Edelman",
           2016,
           30
          ],
          [
           "J.Edelman",
           2019,
           33
          ],
          [
           "J.Edelman",
           2020,
           34
          ],
          [
           "R.Jennings",
           2013,
           28
          ],
          [
           "R.Jennings",
           2014,
           29
          ],
          [
           "R.Jennings",
           2015,
           30
          ],
          [
           "R.Jennings",
           2016,
           31
          ],
          [
           "J.Bell",
           2013,
           27
          ],
          [
           "J.Bell",
           2014,
           28
          ],
          [
           "J.Bell",
           2015,
           29
          ],
          [
           "J.Bell",
           2016,
           30
          ],
          [
           "L.Blount",
           2013,
           26
          ],
          [
           "L.Blount",
           2014,
           27
          ],
          [
           "L.Blount",
           2015,
           28
          ],
          [
           "L.Blount",
           2016,
           29
          ],
          [
           "L.Blount",
           2017,
           30
          ],
          [
           "L.Blount",
           2018,
           31
          ],
          [
           "C.Ivory",
           2013,
           25
          ],
          [
           "C.Ivory",
           2014,
           26
          ],
          [
           "C.Ivory",
           2015,
           27
          ],
          [
           "C.Ivory",
           2016,
           28
          ],
          [
           "C.Ivory",
           2017,
           29
          ],
          [
           "C.Ivory",
           2018,
           30
          ],
          [
           "K.Williams",
           2013,
           25
          ],
          [
           "D.McCluster",
           2013,
           25
          ],
          [
           "D.McCluster",
           2014,
           26
          ],
          [
           "D.McCluster",
           2015,
           27
          ],
          [
           "D.McCluster",
           2016,
           28
          ],
          [
           "J.Clausen",
           2015,
           27
          ],
          [
           "B.LaFell",
           2013,
           26
          ],
          [
           "B.LaFell",
           2014,
           27
          ],
          [
           "B.LaFell",
           2015,
           28
          ],
          [
           "B.LaFell",
           2016,
           29
          ],
          [
           "E.Sanders",
           2013,
           26
          ],
          [
           "E.Sanders",
           2014,
           27
          ],
          [
           "E.Sanders",
           2015,
           28
          ],
          [
           "E.Sanders",
           2016,
           29
          ],
          [
           "E.Sanders",
           2021,
           34
          ],
          [
           "C.McCoy",
           2021,
           34
          ],
          [
           "C.McCoy",
           2022,
           35
          ],
          [
           "A.Roberts",
           2019,
           31
          ],
          [
           "A.Roberts",
           2020,
           32
          ],
          [
           "A.Roberts",
           2021,
           33
          ],
          [
           "A.Dixon",
           2013,
           25
          ],
          [
           "A.Dixon",
           2014,
           26
          ],
          [
           "A.Dixon",
           2015,
           27
          ],
          [
           "J.Dwyer",
           2013,
           24
          ],
          [
           "J.Dwyer",
           2014,
           25
          ],
          [
           "J.Starks",
           2013,
           27
          ],
          [
           "J.Starks",
           2014,
           28
          ],
          [
           "J.Starks",
           2015,
           29
          ],
          [
           "J.Starks",
           2016,
           30
          ],
          [
           "A.Brown",
           2013,
           25
          ],
          [
           "A.Brown",
           2014,
           26
          ],
          [
           "A.Brown",
           2015,
           27
          ],
          [
           "A.Brown",
           2016,
           28
          ],
          [
           "A.Brown",
           2020,
           32
          ],
          [
           "A.Brown",
           2021,
           33
          ],
          [
           "S.Bradford",
           2013,
           25
          ],
          [
           "S.Bradford",
           2016,
           28
          ],
          [
           "C.Spiller",
           2013,
           26
          ],
          [
           "C.Spiller",
           2014,
           27
          ],
          [
           "C.Spiller",
           2015,
           28
          ],
          [
           "C.Spiller",
           2016,
           29
          ],
          [
           "C.Spiller",
           2017,
           30
          ],
          [
           "R.Mathews",
           2013,
           25
          ],
          [
           "R.Mathews",
           2016,
           28
          ],
          [
           "T.Gerhart",
           2013,
           26
          ],
          [
           "T.Gerhart",
           2014,
           27
          ],
          [
           "T.Gerhart",
           2015,
           28
          ],
          [
           "B.Tate",
           2013,
           25
          ],
          [
           "B.Tate",
           2014,
           26
          ],
          [
           "G.Tate",
           2013,
           25
          ],
          [
           "G.Tate",
           2014,
           26
          ],
          [
           "G.Tate",
           2015,
           27
          ],
          [
           "G.Tate",
           2016,
           28
          ],
          [
           "G.Tate",
           2017,
           29
          ],
          [
           "G.Tate",
           2018,
           30
          ],
          [
           "G.Tate",
           2019,
           31
          ],
          [
           "D.Bryant",
           2013,
           24
          ],
          [
           "W.Tukuafu",
           2015,
           31
          ],
          [
           "W.Tukuafu",
           2016,
           32
          ],
          [
           "A.Hawkins",
           2013,
           27
          ],
          [
           "A.Hawkins",
           2014,
           28
          ],
          [
           "J.Develin",
           2014,
           26
          ],
          [
           "J.Develin",
           2019,
           31
          ],
          [
           "C.Newton",
           2013,
           24
          ],
          [
           "C.Newton",
           2014,
           25
          ],
          [
           "C.Newton",
           2015,
           26
          ],
          [
           "C.Newton",
           2016,
           27
          ],
          [
           "C.Newton",
           2017,
           28
          ],
          [
           "C.Newton",
           2018,
           29
          ],
          [
           "C.Newton",
           2019,
           30
          ],
          [
           "C.Newton",
           2020,
           31
          ],
          [
           "C.Newton",
           2021,
           32
          ],
          [
           "P.Peterson",
           2013,
           23
          ],
          [
           "J.Jones",
           2013,
           24
          ],
          [
           "J.Jones",
           2014,
           25
          ],
          [
           "J.Jones",
           2019,
           30
          ],
          [
           "J.Locker",
           2013,
           25
          ],
          [
           "J.Locker",
           2014,
           26
          ],
          [
           "B.Gabbert",
           2013,
           23
          ],
          [
           "B.Gabbert",
           2016,
           26
          ],
          [
           "B.Gabbert",
           2017,
           27
          ],
          [
           "B.Gabbert",
           2018,
           28
          ],
          [
           "C.Ponder",
           2013,
           25
          ],
          [
           "C.Ponder",
           2014,
           26
          ],
          [
           "M.Ingram",
           2013,
           23
          ],
          [
           "M.Ingram",
           2014,
           24
          ],
          [
           "M.Ingram",
           2015,
           25
          ],
          [
           "M.Ingram",
           2016,
           26
          ],
          [
           "M.Ingram",
           2017,
           27
          ],
          [
           "M.Ingram",
           2018,
           28
          ],
          [
           "M.Ingram",
           2019,
           29
          ],
          [
           "M.Ingram",
           2020,
           30
          ],
          [
           "M.Ingram",
           2021,
           31
          ],
          [
           "M.Ingram",
           2022,
           32
          ],
          [
           "A.Dalton",
           2013,
           25
          ],
          [
           "A.Dalton",
           2014,
           26
          ],
          [
           "A.Dalton",
           2015,
           27
          ],
          [
           "A.Dalton",
           2016,
           28
          ],
          [
           "A.Dalton",
           2017,
           29
          ],
          [
           "A.Dalton",
           2018,
           30
          ],
          [
           "A.Dalton",
           2019,
           31
          ],
          [
           "A.Dalton",
           2020,
           32
          ],
          [
           "A.Dalton",
           2021,
           33
          ],
          [
           "A.Dalton",
           2022,
           34
          ],
          [
           "C.Kaepernick",
           2013,
           25
          ],
          [
           "C.Kaepernick",
           2014,
           26
          ],
          [
           "C.Kaepernick",
           2015,
           27
          ],
          [
           "C.Kaepernick",
           2016,
           28
          ],
          [
           "S.Vereen",
           2013,
           24
          ],
          [
           "S.Vereen",
           2014,
           25
          ],
          [
           "S.Vereen",
           2015,
           26
          ],
          [
           "S.Vereen",
           2016,
           27
          ],
          [
           "S.Vereen",
           2017,
           28
          ],
          [
           "M.Leshoure",
           2013,
           23
          ],
          [
           "D.Thomas",
           2013,
           25
          ],
          [
           "R.Cobb",
           2013,
           23
          ],
          [
           "R.Cobb",
           2014,
           24
          ],
          [
           "R.Cobb",
           2015,
           25
          ],
          [
           "R.Cobb",
           2016,
           26
          ],
          [
           "R.Cobb",
           2017,
           27
          ],
          [
           "D.Murray",
           2013,
           25
          ],
          [
           "D.Murray",
           2014,
           26
          ],
          [
           "D.Murray",
           2015,
           27
          ],
          [
           "D.Murray",
           2016,
           28
          ],
          [
           "D.Murray",
           2017,
           29
          ],
          [
           "S.Ridley",
           2013,
           24
          ],
          [
           "S.Ridley",
           2014,
           25
          ],
          [
           "S.Ridley",
           2015,
           26
          ],
          [
           "S.Ridley",
           2016,
           27
          ],
          [
           "S.Ridley",
           2017,
           28
          ],
          [
           "S.Ridley",
           2018,
           29
          ],
          [
           "R.Mallett",
           2015,
           27
          ],
          [
           "J.Jernigan",
           2013,
           24
          ],
          [
           "J.Jernigan",
           2014,
           25
          ],
          [
           "A.Green",
           2013,
           25
          ],
          [
           "R.Helu",
           2013,
           24
          ],
          [
           "R.Helu",
           2014,
           25
          ],
          [
           "R.Helu",
           2015,
           26
          ],
          [
           "K.Hunter",
           2013,
           24
          ],
          [
           "T.Jones",
           2013,
           25
          ],
          [
           "T.Jones",
           2016,
           28
          ],
          [
           "B.Powell",
           2013,
           24
          ],
          [
           "B.Powell",
           2014,
           25
          ],
          [
           "B.Powell",
           2015,
           26
          ],
          [
           "B.Powell",
           2016,
           27
          ],
          [
           "B.Powell",
           2017,
           28
          ],
          [
           "B.Powell",
           2018,
           29
          ],
          [
           "B.Powell",
           2019,
           30
          ],
          [
           "A.Sherman",
           2014,
           25
          ],
          [
           "A.Sherman",
           2015,
           26
          ],
          [
           "A.Sherman",
           2018,
           29
          ],
          [
           "A.Sherman",
           2019,
           30
          ],
          [
           "A.Sherman",
           2020,
           31
          ],
          [
           "J.Rodgers",
           2014,
           24
          ],
          [
           "J.Rodgers",
           2015,
           25
          ],
          [
           "J.Rodgers",
           2016,
           26
          ],
          [
           "J.Rodgers",
           2017,
           27
          ],
          [
           "J.Rodgers",
           2018,
           28
          ],
          [
           "D.Lewis",
           2016,
           25
          ],
          [
           "D.Lewis",
           2017,
           26
          ],
          [
           "D.Lewis",
           2018,
           27
          ],
          [
           "D.Lewis",
           2019,
           28
          ],
          [
           "D.Lewis",
           2020,
           29
          ],
          [
           "J.Kerley",
           2013,
           24
          ],
          [
           "J.Kerley",
           2014,
           25
          ],
          [
           "N.Paul",
           2018,
           29
          ],
          [
           "D.Harris",
           2014,
           26
          ],
          [
           "D.Harris",
           2015,
           27
          ],
          [
           "E.Royster",
           2013,
           25
          ],
          [
           "A.Robinson",
           2013,
           24
          ],
          [
           "T.Taylor",
           2013,
           24
          ],
          [
           "T.Taylor",
           2016,
           27
          ],
          [
           "T.Taylor",
           2017,
           28
          ],
          [
           "T.Taylor",
           2018,
           29
          ],
          [
           "T.Taylor",
           2019,
           30
          ],
          [
           "T.Taylor",
           2020,
           31
          ],
          [
           "T.Taylor",
           2021,
           32
          ],
          [
           "T.Taylor",
           2022,
           33
          ],
          [
           "J.Todman",
           2013,
           23
          ],
          [
           "J.Todman",
           2014,
           24
          ],
          [
           "J.Todman",
           2015,
           25
          ],
          [
           "J.Todman",
           2016,
           26
          ],
          [
           "B.Miller",
           2013,
           26
          ],
          [
           "B.Miller",
           2014,
           27
          ],
          [
           "B.Miller",
           2015,
           28
          ],
          [
           "D.Scott",
           2013,
           25
          ],
          [
           "S.Havili",
           2013,
           25
          ],
          [
           "M.Asiata",
           2013,
           26
          ],
          [
           "M.Asiata",
           2014,
           27
          ],
          [
           "M.Asiata",
           2015,
           28
          ],
          [
           "M.Asiata",
           2016,
           29
          ],
          [
           "S.Draughn",
           2013,
           25
          ],
          [
           "S.Draughn",
           2014,
           26
          ],
          [
           "S.Draughn",
           2015,
           27
          ],
          [
           "S.Draughn",
           2016,
           28
          ],
          [
           "C.Hogan",
           2016,
           28
          ],
          [
           "C.Hogan",
           2017,
           29
          ],
          [
           "J.Ross",
           2014,
           26
          ],
          [
           "J.Ross",
           2015,
           27
          ],
          [
           "D.Harris",
           2015,
           26
          ],
          [
           "D.Harris",
           2016,
           27
          ],
          [
           "D.Baldwin",
           2014,
           25
          ],
          [
           "D.Baldwin",
           2017,
           28
          ],
          [
           "R.Lockette",
           2014,
           28
          ],
          [
           "P.DiMarco",
           2018,
           29
          ],
          [
           "P.DiMarco",
           2019,
           30
          ],
          [
           "S.Tolzien",
           2016,
           28
          ],
          [
           "P.Tanner",
           2013,
           25
          ],
          [
           "C.Jones",
           2017,
           28
          ],
          [
           "A.Smith",
           2013,
           27
          ],
          [
           "T.Pryor",
           2013,
           24
          ],
          [
           "T.Pryor",
           2016,
           27
          ],
          [
           "A.Davis",
           2015,
           26
          ],
          [
           "C.Keenum",
           2014,
           26
          ],
          [
           "C.Keenum",
           2015,
           27
          ],
          [
           "C.Keenum",
           2016,
           28
          ],
          [
           "C.Keenum",
           2017,
           29
          ],
          [
           "C.Keenum",
           2018,
           30
          ],
          [
           "C.Keenum",
           2019,
           31
          ],
          [
           "C.Keenum",
           2022,
           34
          ],
          [
           "L.Dunbar",
           2013,
           23
          ],
          [
           "L.Dunbar",
           2014,
           24
          ],
          [
           "L.Dunbar",
           2015,
           25
          ],
          [
           "L.Dunbar",
           2016,
           26
          ],
          [
           "L.Dunbar",
           2017,
           27
          ],
          [
           "D.Coleman",
           2018,
           27
          ],
          [
           "J.Gray",
           2015,
           25
          ],
          [
           "M.King",
           2017,
           28
          ],
          [
           "A.Jeffery",
           2014,
           24
          ],
          [
           "A.Morris",
           2013,
           24
          ],
          [
           "A.Morris",
           2014,
           25
          ],
          [
           "A.Morris",
           2015,
           26
          ],
          [
           "A.Morris",
           2016,
           27
          ],
          [
           "A.Morris",
           2017,
           28
          ],
          [
           "A.Morris",
           2018,
           29
          ],
          [
           "A.Morris",
           2019,
           30
          ],
          [
           "A.Morris",
           2020,
           31
          ],
          [
           "M.Simms",
           2014,
           25
          ],
          [
           "T.Cadet",
           2015,
           26
          ],
          [
           "T.Cadet",
           2016,
           27
          ],
          [
           "T.Cadet",
           2017,
           28
          ],
          [
           "T.Cadet",
           2018,
           29
          ],
          [
           "B.Bolden",
           2013,
           23
          ],
          [
           "B.Bolden",
           2014,
           24
          ],
          [
           "B.Bolden",
           2015,
           25
          ],
          [
           "B.Bolden",
           2016,
           26
          ],
          [
           "B.Bolden",
           2017,
           27
          ],
          [
           "B.Bolden",
           2018,
           28
          ],
          [
           "B.Bolden",
           2019,
           29
          ],
          [
           "B.Bolden",
           2022,
           32
          ],
          [
           "D.Wilson",
           2013,
           22
          ],
          [
           "L.James",
           2013,
           23
          ],
          [
           "L.James",
           2014,
           24
          ],
          [
           "R.Wilson",
           2013,
           24
          ],
          [
           "R.Wilson",
           2014,
           25
          ],
          [
           "R.Wilson",
           2015,
           26
          ],
          [
           "R.Wilson",
           2016,
           27
          ],
          [
           "R.Wilson",
           2017,
           28
          ],
          [
           "R.Wilson",
           2018,
           29
          ],
          [
           "R.Wilson",
           2019,
           30
          ],
          [
           "R.Wilson",
           2020,
           31
          ],
          [
           "R.Wilson",
           2021,
           32
          ],
          [
           "R.Wilson",
           2022,
           33
          ],
          [
           "B.Pierce",
           2013,
           22
          ],
          [
           "B.Pierce",
           2014,
           23
          ],
          [
           "B.Pierce",
           2015,
           24
          ],
          [
           "T.Benjamin",
           2013,
           23
          ],
          [
           "T.Benjamin",
           2014,
           24
          ],
          [
           "T.Benjamin",
           2015,
           25
          ],
          [
           "T.Benjamin",
           2016,
           26
          ],
          [
           "T.Benjamin",
           2017,
           27
          ],
          [
           "T.Benjamin",
           2018,
           28
          ],
          [
           "R.Turbin",
           2013,
           23
          ],
          [
           "R.Turbin",
           2014,
           24
          ],
          [
           "R.Turbin",
           2015,
           25
          ],
          [
           "R.Turbin",
           2016,
           26
          ],
          [
           "R.Turbin",
           2017,
           27
          ],
          [
           "R.Turbin",
           2018,
           28
          ],
          [
           "M.Jones",
           2013,
           23
          ],
          [
           "M.Jones",
           2016,
           26
          ],
          [
           "C.Gray",
           2013,
           23
          ],
          [
           "C.Gray",
           2014,
           24
          ],
          [
           "E.Baker",
           2014,
           23
          ],
          [
           "J.Bellamy",
           2017,
           28
          ],
          [
           "B.Rainey",
           2014,
           26
          ],
          [
           "B.Rainey",
           2015,
           27
          ],
          [
           "B.Rainey",
           2016,
           28
          ],
          [
           "B.Rainey",
           2017,
           29
          ],
          [
           "B.Brown",
           2013,
           22
          ],
          [
           "B.Brown",
           2014,
           23
          ],
          [
           "B.Brown",
           2015,
           24
          ],
          [
           "D.Johnson",
           2015,
           25
          ],
          [
           "C.Polk",
           2014,
           24
          ],
          [
           "C.Polk",
           2015,
           25
          ],
          [
           "J.Stewart",
           2013,
           24
          ],
          [
           "J.Stewart",
           2014,
           25
          ],
          [
           "J.Olawale",
           2014,
           25
          ],
          [
           "J.Olawale",
           2015,
           26
          ],
          [
           "J.Olawale",
           2016,
           27
          ],
          [
           "J.Olawale",
           2017,
           28
          ],
          [
           "J.Grimes",
           2013,
           23
          ],
          [
           "J.Grimes",
           2014,
           24
          ],
          [
           "J.Grimes",
           2015,
           25
          ],
          [
           "J.Grimes",
           2016,
           26
          ],
          [
           "V.Ballard",
           2013,
           23
          ],
          [
           "N.Foles",
           2013,
           24
          ],
          [
           "N.Foles",
           2014,
           25
          ],
          [
           "N.Foles",
           2015,
           26
          ],
          [
           "N.Foles",
           2018,
           29
          ],
          [
           "N.Foles",
           2019,
           30
          ],
          [
           "N.Foles",
           2020,
           31
          ],
          [
           "N.Foles",
           2021,
           32
          ],
          [
           "N.Foles",
           2022,
           33
          ],
          [
           "J.Wright",
           2015,
           25
          ],
          [
           "J.Wright",
           2019,
           29
          ],
          [
           "R.Matthews",
           2015,
           25
          ],
          [
           "D.Herron",
           2013,
           24
          ],
          [
           "D.Herron",
           2014,
           25
          ],
          [
           "D.Herron",
           2015,
           26
          ],
          [
           "K.Cousins",
           2014,
           26
          ],
          [
           "K.Cousins",
           2015,
           27
          ],
          [
           "K.Cousins",
           2016,
           28
          ],
          [
           "K.Cousins",
           2017,
           29
          ],
          [
           "K.Cousins",
           2018,
           30
          ],
          [
           "K.Cousins",
           2019,
           31
          ],
          [
           "K.Cousins",
           2020,
           32
          ],
          [
           "K.Cousins",
           2021,
           33
          ],
          [
           "K.Cousins",
           2022,
           34
          ],
          [
           "T.Hilton",
           2013,
           23
          ],
          [
           "T.Hilton",
           2014,
           24
          ],
          [
           "D.Richardson",
           2013,
           23
          ],
          [
           "D.Martin",
           2013,
           24
          ],
          [
           "D.Martin",
           2014,
           25
          ],
          [
           "D.Martin",
           2015,
           26
          ],
          [
           "D.Martin",
           2016,
           27
          ],
          [
           "D.Martin",
           2017,
           28
          ],
          [
           "D.Martin",
           2018,
           29
          ],
          [
           "C.Givens",
           2013,
           23
          ],
          [
           "C.Givens",
           2014,
           24
          ],
          [
           "C.Givens",
           2015,
           25
          ],
          [
           "L.Miller",
           2013,
           22
          ],
          [
           "L.Miller",
           2014,
           23
          ],
          [
           "L.Miller",
           2015,
           24
          ],
          [
           "L.Miller",
           2016,
           25
          ],
          [
           "L.Miller",
           2017,
           26
          ],
          [
           "L.Miller",
           2018,
           27
          ],
          [
           "J.Lane",
           2015,
           28
          ],
          [
           "I.Pead",
           2013,
           23
          ],
          [
           "I.Pead",
           2016,
           26
          ],
          [
           "M.Sanu",
           2013,
           24
          ],
          [
           "M.Sanu",
           2014,
           25
          ],
          [
           "M.Sanu",
           2015,
           26
          ],
          [
           "M.Sanu",
           2016,
           27
          ],
          [
           "M.Sanu",
           2017,
           28
          ],
          [
           "M.Sanu",
           2018,
           29
          ],
          [
           "M.Sanu",
           2019,
           30
          ],
          [
           "M.Sanu",
           2020,
           31
          ],
          [
           "A.Jenkins",
           2014,
           24
          ],
          [
           "T.Graham",
           2013,
           24
          ],
          [
           "R.Griffin",
           2013,
           23
          ],
          [
           "R.Griffin",
           2014,
           24
          ],
          [
           "R.Griffin III",
           2013,
           23
          ],
          [
           "R.Griffin III",
           2014,
           24
          ],
          [
           "R.Griffin III",
           2020,
           30
          ],
          [
           "A.Luck",
           2013,
           23
          ],
          [
           "A.Luck",
           2014,
           24
          ],
          [
           "A.Luck",
           2015,
           25
          ],
          [
           "A.Luck",
           2016,
           26
          ],
          [
           "T.Richardson",
           2013,
           23
          ],
          [
           "T.Richardson",
           2014,
           24
          ],
          [
           "B.Weeden",
           2013,
           29
          ],
          [
           "B.Weeden",
           2014,
           30
          ],
          [
           "B.Osweiler",
           2015,
           24
          ],
          [
           "B.Osweiler",
           2016,
           25
          ],
          [
           "B.Osweiler",
           2017,
           26
          ],
          [
           "B.Osweiler",
           2018,
           27
          ],
          [
           "R.Hillman",
           2013,
           21
          ],
          [
           "R.Hillman",
           2014,
           22
          ],
          [
           "R.Hillman",
           2015,
           23
          ],
          [
           "R.Hillman",
           2016,
           24
          ],
          [
           "D.Poe",
           2016,
           26
          ],
          [
           "R.Tannehill",
           2013,
           25
          ],
          [
           "R.Tannehill",
           2014,
           26
          ],
          [
           "R.Tannehill",
           2015,
           27
          ],
          [
           "R.Tannehill",
           2016,
           28
          ],
          [
           "R.Tannehill",
           2019,
           31
          ],
          [
           "R.Tannehill",
           2020,
           32
          ],
          [
           "R.Tannehill",
           2021,
           33
          ],
          [
           "R.Tannehill",
           2022,
           34
          ],
          [
           "J.Blackmon",
           2013,
           23
          ],
          [
           "K.Wright",
           2015,
           25
          ],
          [
           "K.Wright",
           2016,
           26
          ],
          [
           "A.Johnson",
           2015,
           26
          ],
          [
           "F.Whittaker",
           2014,
           25
          ],
          [
           "F.Whittaker",
           2015,
           26
          ],
          [
           "F.Whittaker",
           2016,
           27
          ],
          [
           "F.Whittaker",
           2017,
           28
          ],
          [
           "B.Cunningham",
           2014,
           24
          ],
          [
           "B.Cunningham",
           2015,
           25
          ],
          [
           "B.Cunningham",
           2016,
           26
          ],
          [
           "B.Cunningham",
           2017,
           27
          ],
          [
           "B.Cunningham",
           2018,
           28
          ],
          [
           "C.Anderson",
           2014,
           23
          ],
          [
           "C.Anderson",
           2015,
           24
          ],
          [
           "C.Anderson",
           2016,
           25
          ],
          [
           "C.Anderson",
           2017,
           26
          ],
          [
           "C.Anderson",
           2018,
           27
          ],
          [
           "C.Anderson",
           2019,
           28
          ],
          [
           "K.Juszczyk",
           2016,
           25
          ],
          [
           "K.Juszczyk",
           2017,
           26
          ],
          [
           "K.Juszczyk",
           2018,
           27
          ],
          [
           "K.Juszczyk",
           2019,
           28
          ],
          [
           "K.Juszczyk",
           2020,
           29
          ],
          [
           "K.Juszczyk",
           2021,
           30
          ],
          [
           "K.Juszczyk",
           2022,
           31
          ],
          [
           "T.Wright",
           2014,
           24
          ],
          [
           "Z.Line",
           2016,
           26
          ],
          [
           "Z.Line",
           2017,
           27
          ],
          [
           "Z.Line",
           2018,
           28
          ],
          [
           "Z.Line",
           2019,
           29
          ],
          [
           "A.Thielen",
           2016,
           26
          ],
          [
           "A.Thielen",
           2017,
           27
          ],
          [
           "A.Thielen",
           2018,
           28
          ],
          [
           "A.Thielen",
           2019,
           29
          ],
          [
           "A.Thielen",
           2020,
           30
          ],
          [
           "A.Thielen",
           2021,
           31
          ],
          [
           "A.Thielen",
           2022,
           32
          ],
          [
           "M.Goodwin",
           2014,
           23
          ],
          [
           "M.Goodwin",
           2018,
           27
          ],
          [
           "M.Goodwin",
           2019,
           28
          ],
          [
           "M.Goodwin",
           2022,
           31
          ],
          [
           "K.Stills",
           2014,
           22
          ],
          [
           "T.Riddick",
           2014,
           23
          ],
          [
           "T.Riddick",
           2015,
           24
          ],
          [
           "T.Riddick",
           2016,
           25
          ],
          [
           "T.Riddick",
           2017,
           26
          ],
          [
           "T.Riddick",
           2018,
           27
          ],
          [
           "T.Bohanon",
           2014,
           23
          ],
          [
           "T.Bohanon",
           2015,
           24
          ],
          [
           "T.Bohanon",
           2018,
           27
          ],
          [
           "K.Williams",
           2015,
           24
          ],
          [
           "K.Williams",
           2016,
           25
          ],
          [
           "K.Williams",
           2017,
           26
          ],
          [
           "M.Cox",
           2014,
           25
          ],
          [
           "R.Shepard",
           2017,
           26
          ],
          [
           "G.Winn",
           2015,
           24
          ],
          [
           "K.Allen",
           2018,
           26
          ],
          [
           "K.Allen",
           2019,
           27
          ],
          [
           "K.Allen",
           2020,
           28
          ],
          [
           "K.Davis",
           2014,
           22
          ],
          [
           "K.Davis",
           2015,
           23
          ],
          [
           "K.Davis",
           2016,
           24
          ],
          [
           "S.Taylor",
           2014,
           23
          ],
          [
           "S.Taylor",
           2015,
           24
          ],
          [
           "S.Taylor",
           2016,
           25
          ],
          [
           "A.Ellington",
           2014,
           25
          ],
          [
           "A.Ellington",
           2015,
           26
          ],
          [
           "A.Ellington",
           2016,
           27
          ],
          [
           "A.Ellington",
           2017,
           28
          ],
          [
           "R.Burkhead",
           2015,
           25
          ],
          [
           "R.Burkhead",
           2016,
           26
          ],
          [
           "R.Burkhead",
           2017,
           27
          ],
          [
           "R.Burkhead",
           2018,
           28
          ],
          [
           "R.Burkhead",
           2019,
           29
          ],
          [
           "R.Burkhead",
           2020,
           30
          ],
          [
           "R.Burkhead",
           2021,
           31
          ],
          [
           "R.Burkhead",
           2022,
           32
          ],
          [
           "K.Robinson",
           2014,
           24
          ],
          [
           "K.Robinson",
           2015,
           25
          ],
          [
           "K.Robinson",
           2016,
           26
          ],
          [
           "J.Randle",
           2014,
           22
          ],
          [
           "J.Randle",
           2015,
           23
          ],
          [
           "M.James",
           2014,
           23
          ],
          [
           "C.Thompson",
           2015,
           24
          ],
          [
           "C.Thompson",
           2016,
           25
          ],
          [
           "C.Thompson",
           2017,
           26
          ],
          [
           "C.Thompson",
           2018,
           27
          ],
          [
           "C.Thompson",
           2019,
           28
          ],
          [
           "C.Thompson",
           2020,
           29
          ],
          [
           "S.Ware",
           2016,
           24
          ],
          [
           "S.Ware",
           2019,
           27
          ],
          [
           "M.McGloin",
           2014,
           24
          ],
          [
           "R.Woods",
           2016,
           24
          ],
          [
           "R.Woods",
           2017,
           25
          ],
          [
           "R.Woods",
           2018,
           26
          ],
          [
           "R.Woods",
           2019,
           27
          ],
          [
           "R.Woods",
           2020,
           28
          ],
          [
           "R.Woods",
           2021,
           29
          ],
          [
           "C.Michael",
           2014,
           23
          ],
          [
           "C.Michael",
           2015,
           24
          ],
          [
           "C.Michael",
           2016,
           25
          ],
          [
           "M.Gillislee",
           2016,
           25
          ],
          [
           "M.Gillislee",
           2017,
           26
          ],
          [
           "M.Gillislee",
           2018,
           27
          ],
          [
           "Q.Patton",
           2014,
           24
          ],
          [
           "Q.Patton",
           2015,
           25
          ],
          [
           "G.Bernard",
           2014,
           22
          ],
          [
           "G.Bernard",
           2015,
           23
          ],
          [
           "G.Bernard",
           2016,
           24
          ],
          [
           "G.Bernard",
           2017,
           25
          ],
          [
           "G.Bernard",
           2018,
           26
          ],
          [
           "G.Bernard",
           2019,
           27
          ],
          [
           "G.Bernard",
           2020,
           28
          ],
          [
           "G.Bernard",
           2021,
           29
          ],
          [
           "G.Bernard",
           2022,
           30
          ],
          [
           "K.Barner",
           2016,
           27
          ],
          [
           "K.Barner",
           2017,
           28
          ],
          [
           "K.Barner",
           2018,
           29
          ],
          [
           "K.Barner",
           2019,
           30
          ],
          [
           "E.Lacy",
           2014,
           24
          ],
          [
           "E.Lacy",
           2015,
           25
          ],
          [
           "E.Lacy",
           2016,
           26
          ],
          [
           "E.Lacy",
           2017,
           27
          ],
          [
           "L.Bell",
           2014,
           22
          ],
          [
           "L.Bell",
           2015,
           23
          ],
          [
           "L.Bell",
           2016,
           24
          ],
          [
           "L.Bell",
           2017,
           25
          ],
          [
           "L.Bell",
           2020,
           28
          ],
          [
           "L.Bell",
           2021,
           29
          ],
          [
           "T.Kelce",
           2017,
           27
          ],
          [
           "T.Kelce",
           2022,
           32
          ],
          [
           "L.Murray",
           2015,
           25
          ],
          [
           "L.Murray",
           2016,
           26
          ],
          [
           "L.Murray",
           2017,
           27
          ],
          [
           "L.Murray",
           2018,
           28
          ],
          [
           "L.Murray",
           2019,
           29
          ],
          [
           "L.Murray",
           2020,
           30
          ],
          [
           "L.Murray",
           2021,
           31
          ],
          [
           "L.Murray",
           2022,
           32
          ],
          [
           "M.Glennon",
           2014,
           24
          ],
          [
           "M.Glennon",
           2020,
           30
          ],
          [
           "M.Glennon",
           2021,
           31
          ],
          [
           "M.Ball",
           2014,
           23
          ],
          [
           "T.Austin",
           2014,
           24
          ],
          [
           "T.Austin",
           2015,
           25
          ],
          [
           "T.Austin",
           2016,
           26
          ],
          [
           "T.Austin",
           2017,
           27
          ],
          [
           "T.Austin",
           2018,
           28
          ],
          [
           "T.Austin",
           2019,
           29
          ],
          [
           "E.Manuel",
           2014,
           24
          ],
          [
           "E.Manuel",
           2015,
           25
          ],
          [
           "E.Manuel",
           2016,
           26
          ],
          [
           "E.Manuel",
           2017,
           27
          ],
          [
           "S.Bailey",
           2014,
           23
          ],
          [
           "M.Barkley",
           2019,
           28
          ],
          [
           "Z.Stacy",
           2014,
           23
          ],
          [
           "Z.Stacy",
           2015,
           24
          ],
          [
           "D.Robinson",
           2014,
           23
          ],
          [
           "D.Robinson",
           2015,
           24
          ],
          [
           "D.Robinson",
           2016,
           25
          ],
          [
           "C.Schmidt",
           2016,
           25
          ],
          [
           "D.Hopkins",
           2019,
           27
          ],
          [
           "D.Hopkins",
           2020,
           28
          ],
          [
           "G.Smith",
           2014,
           23
          ],
          [
           "G.Smith",
           2021,
           30
          ],
          [
           "G.Smith",
           2022,
           31
          ],
          [
           "C.Patterson",
           2014,
           23
          ],
          [
           "C.Patterson",
           2015,
           24
          ],
          [
           "C.Patterson",
           2016,
           25
          ],
          [
           "C.Patterson",
           2017,
           26
          ],
          [
           "C.Patterson",
           2018,
           27
          ],
          [
           "C.Patterson",
           2019,
           28
          ],
          [
           "C.Patterson",
           2020,
           29
          ],
          [
           "C.Patterson",
           2021,
           30
          ],
          [
           "C.Patterson",
           2022,
           31
          ],
          [
           "I.Crowell",
           2015,
           22
          ],
          [
           "I.Crowell",
           2016,
           23
          ],
          [
           "I.Crowell",
           2017,
           24
          ],
          [
           "I.Crowell",
           2018,
           25
          ],
          [
           "C.West",
           2016,
           25
          ],
          [
           "C.West",
           2017,
           26
          ],
          [
           "C.West",
           2018,
           27
          ],
          [
           "A.Wilson",
           2016,
           24
          ],
          [
           "A.Wilson",
           2017,
           25
          ],
          [
           "A.Wilson",
           2018,
           26
          ],
          [
           "A.Wilson",
           2019,
           27
          ],
          [
           "J.Thompson",
           2015,
           23
          ],
          [
           "J.Thompson",
           2016,
           24
          ],
          [
           "D.Fluellen",
           2018,
           26
          ],
          [
           "R.Nix",
           2018,
           26
          ],
          [
           "A.Andrews",
           2016,
           24
          ],
          [
           "Z.Tipton",
           2015,
           26
          ],
          [
           "O.Darkwa",
           2015,
           23
          ],
          [
           "O.Darkwa",
           2016,
           24
          ],
          [
           "O.Darkwa",
           2017,
           25
          ],
          [
           "D.Williams",
           2015,
           23
          ],
          [
           "D.Williams",
           2016,
           24
          ],
          [
           "D.Williams",
           2017,
           25
          ],
          [
           "D.Williams",
           2022,
           30
          ],
          [
           "K.Smith",
           2019,
           27
          ],
          [
           "K.Smith",
           2020,
           28
          ],
          [
           "K.Smith",
           2021,
           29
          ],
          [
           "K.Smith",
           2022,
           30
          ],
          [
           "M.Campanaro",
           2016,
           25
          ],
          [
           "M.Campanaro",
           2017,
           26
          ],
          [
           "C.Hyde",
           2015,
           24
          ],
          [
           "C.Hyde",
           2016,
           25
          ],
          [
           "C.Hyde",
           2017,
           26
          ],
          [
           "C.Hyde",
           2018,
           27
          ],
          [
           "C.Hyde",
           2019,
           28
          ],
          [
           "C.Hyde",
           2020,
           29
          ],
          [
           "C.Hyde",
           2021,
           30
          ],
          [
           "J.Brown",
           2018,
           28
          ],
          [
           "J.Brown",
           2019,
           29
          ],
          [
           "Jo.Brown",
           2016,
           26
          ],
          [
           "A.Williams",
           2015,
           23
          ],
          [
           "A.Williams",
           2016,
           24
          ],
          [
           "A.Williams",
           2017,
           25
          ],
          [
           "K.Carey",
           2015,
           22
          ],
          [
           "K.Carey",
           2016,
           23
          ],
          [
           "D.Thomas",
           2015,
           22
          ],
          [
           "D.Thomas",
           2016,
           23
          ],
          [
           "D.Thomas",
           2017,
           24
          ],
          [
           "D.Thomas",
           2018,
           25
          ],
          [
           "D.Thomas",
           2019,
           26
          ],
          [
           "J.White",
           2015,
           23
          ],
          [
           "J.White",
           2016,
           24
          ],
          [
           "J.White",
           2017,
           25
          ],
          [
           "J.White",
           2018,
           26
          ],
          [
           "J.White",
           2019,
           27
          ],
          [
           "J.White",
           2020,
           28
          ],
          [
           "J.White",
           2021,
           29
          ],
          [
           "L.Taliaferro",
           2015,
           23
          ],
          [
           "L.Taliaferro",
           2016,
           24
          ],
          [
           "A.Blue",
           2015,
           24
          ],
          [
           "A.Blue",
           2016,
           25
          ],
          [
           "A.Blue",
           2017,
           26
          ],
          [
           "A.Blue",
           2018,
           27
          ],
          [
           "D.Fales",
           2017,
           26
          ],
          [
           "J.Prosch",
           2016,
           24
          ],
          [
           "K.Bibbs",
           2017,
           24
          ],
          [
           "K.Bibbs",
           2018,
           25
          ],
          [
           "C.Brown",
           2015,
           23
          ],
          [
           "C.Brown",
           2016,
           24
          ],
          [
           "S.Perry",
           2020,
           28
          ],
          [
           "T.Gabriel",
           2017,
           26
          ],
          [
           "T.Gabriel",
           2018,
           27
          ],
          [
           "T.Gabriel",
           2019,
           28
          ],
          [
           "O.Beckham",
           2017,
           24
          ],
          [
           "O.Beckham",
           2018,
           25
          ],
          [
           "O.Beckham",
           2019,
           26
          ],
          [
           "O.Beckham",
           2020,
           27
          ],
          [
           "O.Beckham",
           2021,
           28
          ],
          [
           "B.Cooks",
           2015,
           21
          ],
          [
           "B.Cooks",
           2016,
           22
          ],
          [
           "B.Cooks",
           2017,
           23
          ],
          [
           "B.Cooks",
           2018,
           24
          ],
          [
           "B.Cooks",
           2019,
           25
          ],
          [
           "B.Cooks",
           2022,
           28
          ],
          [
           "T.Bridgewater",
           2015,
           22
          ],
          [
           "T.Bridgewater",
           2019,
           26
          ],
          [
           "T.Bridgewater",
           2020,
           27
          ],
          [
           "T.Bridgewater",
           2021,
           28
          ],
          [
           "P.Richardson",
           2019,
           27
          ],
          [
           "B.Oliver",
           2015,
           24
          ],
          [
           "D.Carr",
           2015,
           24
          ],
          [
           "D.Carr",
           2016,
           25
          ],
          [
           "D.Carr",
           2017,
           26
          ],
          [
           "D.Carr",
           2018,
           27
          ],
          [
           "D.Carr",
           2019,
           28
          ],
          [
           "D.Carr",
           2020,
           29
          ],
          [
           "D.Carr",
           2021,
           30
          ],
          [
           "D.Carr",
           2022,
           31
          ],
          [
           "D.Freeman",
           2015,
           23
          ],
          [
           "D.Freeman",
           2016,
           24
          ],
          [
           "D.Freeman",
           2017,
           25
          ],
          [
           "D.Freeman",
           2018,
           26
          ],
          [
           "D.Freeman",
           2019,
           27
          ],
          [
           "D.Freeman",
           2020,
           28
          ],
          [
           "D.Freeman",
           2021,
           29
          ],
          [
           "J.Hill",
           2015,
           22
          ],
          [
           "J.Hill",
           2016,
           23
          ],
          [
           "J.Hill",
           2017,
           24
          ],
          [
           "J.Hill",
           2018,
           25
          ],
          [
           "D.Spencer",
           2020,
           28
          ],
          [
           "S.Watkins",
           2015,
           22
          ],
          [
           "S.Watkins",
           2019,
           26
          ],
          [
           "S.Watkins",
           2020,
           27
          ],
          [
           "B.Ellington",
           2015,
           24
          ],
          [
           "B.Ellington",
           2018,
           27
          ],
          [
           "F.Toussaint",
           2015,
           25
          ],
          [
           "F.Toussaint",
           2016,
           26
          ],
          [
           "F.Toussaint",
           2017,
           27
          ],
          [
           "J.Garoppolo",
           2017,
           25
          ],
          [
           "J.Garoppolo",
           2018,
           26
          ],
          [
           "J.Garoppolo",
           2019,
           27
          ],
          [
           "J.Garoppolo",
           2020,
           28
          ],
          [
           "J.Garoppolo",
           2021,
           29
          ],
          [
           "J.Garoppolo",
           2022,
           30
          ],
          [
           "M.Bryant",
           2015,
           23
          ],
          [
           "M.Bryant",
           2018,
           26
          ],
          [
           "T.West",
           2015,
           24
          ],
          [
           "T.West",
           2016,
           25
          ],
          [
           "T.West",
           2017,
           26
          ],
          [
           "J.McKinnon",
           2015,
           23
          ],
          [
           "J.McKinnon",
           2016,
           24
          ],
          [
           "J.McKinnon",
           2017,
           25
          ],
          [
           "J.McKinnon",
           2021,
           29
          ],
          [
           "J.McKinnon",
           2022,
           30
          ],
          [
           "J.Landry",
           2015,
           22
          ],
          [
           "J.Landry",
           2016,
           23
          ],
          [
           "J.Landry",
           2017,
           24
          ],
          [
           "J.Landry",
           2018,
           25
          ],
          [
           "J.Landry",
           2019,
           26
          ],
          [
           "J.Landry",
           2020,
           27
          ],
          [
           "J.Landry",
           2021,
           28
          ],
          [
           "C.Sims",
           2015,
           24
          ],
          [
           "C.Sims",
           2016,
           25
          ],
          [
           "T.Mason",
           2015,
           22
          ],
          [
           "B.Bortles",
           2015,
           23
          ],
          [
           "B.Bortles",
           2016,
           24
          ],
          [
           "B.Bortles",
           2017,
           25
          ],
          [
           "B.Bortles",
           2018,
           26
          ],
          [
           "B.Bortles",
           2019,
           27
          ],
          [
           "J.Manziel",
           2015,
           22
          ],
          [
           "B.Sankey",
           2015,
           22
          ],
          [
           "A.Robinson",
           2020,
           27
          ],
          [
           "M.Lee",
           2015,
           23
          ],
          [
           "M.Lee",
           2016,
           24
          ],
          [
           "M.Lee",
           2017,
           25
          ],
          [
           "J.Winston",
           2016,
           22
          ],
          [
           "J.Winston",
           2017,
           23
          ],
          [
           "J.Winston",
           2018,
           24
          ],
          [
           "J.Winston",
           2019,
           25
          ],
          [
           "J.Winston",
           2022,
           28
          ],
          [
           "A.Cooper",
           2016,
           22
          ],
          [
           "A.Cooper",
           2017,
           23
          ],
          [
           "A.Cooper",
           2018,
           24
          ],
          [
           "A.Cooper",
           2019,
           25
          ],
          [
           "A.Cooper",
           2020,
           26
          ],
          [
           "N.Agholor",
           2017,
           24
          ],
          [
           "N.Agholor",
           2018,
           25
          ],
          [
           "N.Agholor",
           2019,
           26
          ],
          [
           "M.Williams",
           2018,
           24
          ],
          [
           "J.Langford",
           2016,
           24
          ],
          [
           "J.Allen",
           2016,
           25
          ],
          [
           "J.Allen",
           2017,
           26
          ],
          [
           "J.Allen",
           2018,
           27
          ],
          [
           "J.Allen",
           2019,
           28
          ],
          [
           "S.Diggs",
           2016,
           22
          ],
          [
           "S.Diggs",
           2017,
           23
          ],
          [
           "S.Diggs",
           2018,
           24
          ],
          [
           "S.Diggs",
           2019,
           25
          ],
          [
           "S.Diggs",
           2020,
           26
          ],
          [
           "B.Hundley",
           2017,
           24
          ],
          [
           "J.Ajayi",
           2016,
           23
          ],
          [
           "J.Ajayi",
           2017,
           24
          ],
          [
           "J.Ajayi",
           2018,
           25
          ],
          [
           "J.Ajayi",
           2019,
           26
          ],
          [
           "M.Burton",
           2021,
           29
          ],
          [
           "M.Burton",
           2022,
           30
          ],
          [
           "C.Artis-Payne",
           2016,
           26
          ],
          [
           "C.Artis-Payne",
           2017,
           27
          ],
          [
           "C.Artis-Payne",
           2018,
           28
          ],
          [
           "D.Waller",
           2019,
           26
          ],
          [
           "A.Ripkowski",
           2017,
           24
          ],
          [
           "Z.Zenner",
           2016,
           24
          ],
          [
           "Z.Zenner",
           2017,
           25
          ],
          [
           "Z.Zenner",
           2018,
           26
          ],
          [
           "Z.Zenner",
           2019,
           27
          ],
          [
           "T.Ward",
           2016,
           24
          ],
          [
           "T.Ward",
           2017,
           25
          ],
          [
           "R.Mostert",
           2017,
           25
          ],
          [
           "R.Mostert",
           2018,
           26
          ],
          [
           "R.Mostert",
           2019,
           27
          ],
          [
           "R.Mostert",
           2020,
           28
          ],
          [
           "R.Mostert",
           2021,
           29
          ],
          [
           "R.Mostert",
           2022,
           30
          ],
          [
           "C.Grant",
           2016,
           24
          ],
          [
           "C.Grant",
           2017,
           25
          ],
          [
           "C.Grant",
           2018,
           26
          ],
          [
           "A.Hunt",
           2016,
           23
          ],
          [
           "A.Hunt",
           2017,
           24
          ],
          [
           "L.Whitehead",
           2016,
           24
          ],
          [
           "D.Carter",
           2022,
           29
          ],
          [
           "T.Magee",
           2016,
           23
          ],
          [
           "T.Watson",
           2017,
           24
          ],
          [
           "T.Heinicke",
           2022,
           29
          ],
          [
           "M.Brown",
           2016,
           23
          ],
          [
           "M.Brown",
           2017,
           24
          ],
          [
           "M.Brown",
           2018,
           25
          ],
          [
           "M.Brown",
           2019,
           26
          ],
          [
           "M.Brown",
           2020,
           27
          ],
          [
           "M.Brown",
           2021,
           28
          ],
          [
           "M.Brown",
           2022,
           29
          ],
          [
           "T.Rawls",
           2016,
           23
          ],
          [
           "T.Rawls",
           2017,
           24
          ],
          [
           "R.Smith",
           2018,
           26
          ],
          [
           "M.Jones",
           2016,
           23
          ],
          [
           "M.Jones",
           2017,
           24
          ],
          [
           "J.Crowder",
           2016,
           23
          ],
          [
           "J.Crowder",
           2017,
           24
          ],
          [
           "J.Crowder",
           2018,
           25
          ],
          [
           "J.Crowder",
           2019,
           26
          ],
          [
           "J.Crowder",
           2020,
           27
          ],
          [
           "M.Murphy",
           2018,
           26
          ],
          [
           "A.Humphries",
           2017,
           24
          ],
          [
           "A.Humphries",
           2018,
           25
          ],
          [
           "A.Humphries",
           2019,
           26
          ],
          [
           "M.Brown",
           2017,
           25
          ],
          [
           "B.Perriman",
           2019,
           25
          ],
          [
           "B.Perriman",
           2020,
           26
          ],
          [
           "B.Perriman",
           2021,
           27
          ],
          [
           "B.Perriman",
           2022,
           28
          ],
          [
           "T.Coleman",
           2016,
           23
          ],
          [
           "T.Coleman",
           2017,
           24
          ],
          [
           "T.Coleman",
           2018,
           25
          ],
          [
           "T.Coleman",
           2019,
           26
          ],
          [
           "T.Coleman",
           2020,
           27
          ],
          [
           "T.Coleman",
           2021,
           28
          ],
          [
           "T.Coleman",
           2022,
           29
          ],
          [
           "B.Bell",
           2021,
           30
          ],
          [
           "M.Davis",
           2016,
           23
          ],
          [
           "M.Davis",
           2017,
           24
          ],
          [
           "M.Davis",
           2018,
           25
          ],
          [
           "M.Davis",
           2019,
           26
          ],
          [
           "M.Davis",
           2020,
           27
          ],
          [
           "M.Davis",
           2021,
           28
          ],
          [
           "M.Davis",
           2022,
           29
          ],
          [
           "A.Abdullah",
           2016,
           23
          ],
          [
           "A.Abdullah",
           2017,
           24
          ],
          [
           "A.Abdullah",
           2018,
           25
          ],
          [
           "A.Abdullah",
           2019,
           26
          ],
          [
           "A.Abdullah",
           2020,
           27
          ],
          [
           "A.Abdullah",
           2021,
           28
          ],
          [
           "A.Abdullah",
           2022,
           29
          ],
          [
           "J.Nelson",
           2016,
           24
          ],
          [
           "J.Nelson",
           2017,
           25
          ],
          [
           "J.Nelson",
           2018,
           26
          ],
          [
           "J.Fowler",
           2016,
           26
          ],
          [
           "J.Fowler",
           2017,
           27
          ],
          [
           "M.Gordon",
           2016,
           23
          ],
          [
           "M.Gordon",
           2017,
           24
          ],
          [
           "M.Gordon",
           2018,
           25
          ],
          [
           "M.Gordon",
           2019,
           26
          ],
          [
           "M.Gordon",
           2020,
           27
          ],
          [
           "M.Gordon",
           2021,
           28
          ],
          [
           "M.Gordon",
           2022,
           29
          ],
          [
           "T.Siemian",
           2022,
           30
          ],
          [
           "D.Johnson",
           2016,
           24
          ],
          [
           "D.Johnson",
           2019,
           27
          ],
          [
           "D.Johnson",
           2022,
           30
          ],
          [
           "T.Montgomery",
           2016,
           23
          ],
          [
           "T.Montgomery",
           2017,
           24
          ],
          [
           "T.Montgomery",
           2018,
           25
          ],
          [
           "T.Montgomery",
           2019,
           26
          ],
          [
           "T.Montgomery",
           2020,
           27
          ],
          [
           "T.Montgomery",
           2021,
           28
          ],
          [
           "T.Montgomery",
           2022,
           29
          ],
          [
           "P.Dorsett",
           2016,
           23
          ],
          [
           "P.Dorsett",
           2017,
           24
          ],
          [
           "P.Dorsett",
           2018,
           25
          ],
          [
           "P.Dorsett",
           2019,
           26
          ],
          [
           "T.Yeldon",
           2016,
           22
          ],
          [
           "T.Yeldon",
           2017,
           23
          ],
          [
           "T.Yeldon",
           2018,
           24
          ],
          [
           "T.Yeldon",
           2019,
           25
          ],
          [
           "T.Yeldon",
           2020,
           26
          ],
          [
           "T.Lockett",
           2016,
           23
          ],
          [
           "T.Lockett",
           2017,
           24
          ],
          [
           "T.Lockett",
           2018,
           25
          ],
          [
           "T.Lockett",
           2019,
           26
          ],
          [
           "T.Gurley",
           2016,
           22
          ],
          [
           "T.Gurley",
           2017,
           23
          ],
          [
           "T.Gurley",
           2018,
           24
          ],
          [
           "T.Gurley",
           2019,
           25
          ],
          [
           "T.Gurley",
           2020,
           26
          ],
          [
           "S.Mannion",
           2017,
           25
          ],
          [
           "S.Mannion",
           2018,
           26
          ],
          [
           "S.Mannion",
           2019,
           27
          ],
          [
           "D.Johnson",
           2018,
           24
          ],
          [
           "D.Johnson",
           2019,
           25
          ],
          [
           "D.Johnson",
           2022,
           28
          ],
          [
           "M.Mariota",
           2016,
           22
          ],
          [
           "M.Mariota",
           2017,
           23
          ],
          [
           "M.Mariota",
           2018,
           24
          ],
          [
           "M.Mariota",
           2019,
           25
          ],
          [
           "M.Mariota",
           2020,
           26
          ],
          [
           "M.Mariota",
           2021,
           27
          ],
          [
           "M.Mariota",
           2022,
           28
          ],
          [
           "B.Hill",
           2017,
           24
          ],
          [
           "C.Rogers",
           2018,
           24
          ],
          [
           "C.Rogers",
           2019,
           25
          ],
          [
           "R.Kelley",
           2017,
           24
          ],
          [
           "R.Kelley",
           2018,
           25
          ],
          [
           "J.Ferguson",
           2017,
           24
          ],
          [
           "S.Shepard",
           2017,
           24
          ],
          [
           "S.Shepard",
           2018,
           25
          ],
          [
           "S.Shepard",
           2019,
           26
          ],
          [
           "S.Shepard",
           2020,
           27
          ],
          [
           "S.Shepard",
           2021,
           28
          ],
          [
           "C.Prosise",
           2017,
           23
          ],
          [
           "C.Prosise",
           2018,
           24
          ],
          [
           "C.Prosise",
           2019,
           25
          ],
          [
           "C.Prosise",
           2020,
           26
          ],
          [
           "C.Moore",
           2017,
           24
          ],
          [
           "C.Moore",
           2018,
           25
          ],
          [
           "C.Moore",
           2019,
           26
          ],
          [
           "T.Ervin",
           2017,
           23
          ],
          [
           "T.Ervin",
           2020,
           26
          ],
          [
           "P.Perkins",
           2017,
           22
          ],
          [
           "A.Collins",
           2017,
           23
          ],
          [
           "A.Collins",
           2018,
           24
          ],
          [
           "A.Collins",
           2021,
           27
          ],
          [
           "B.Allen",
           2020,
           27
          ],
          [
           "B.Allen",
           2021,
           28
          ],
          [
           "B.Allen",
           2022,
           29
          ],
          [
           "J.Driskel",
           2019,
           26
          ],
          [
           "J.Driskel",
           2020,
           27
          ],
          [
           "D.Washington",
           2017,
           23
          ],
          [
           "D.Washington",
           2018,
           24
          ],
          [
           "D.Washington",
           2019,
           25
          ],
          [
           "D.Washington",
           2020,
           26
          ],
          [
           "D.Washington",
           2021,
           27
          ],
          [
           "D.Washington",
           2022,
           28
          ],
          [
           "K.Raymond",
           2020,
           26
          ],
          [
           "K.Raymond",
           2021,
           27
          ],
          [
           "K.Raymond",
           2022,
           28
          ],
          [
           "A.Erickson",
           2018,
           25
          ],
          [
           "A.Erickson",
           2019,
           26
          ],
          [
           "A.Erickson",
           2020,
           27
          ],
          [
           "D.Foster",
           2017,
           23
          ],
          [
           "J.McKissic",
           2017,
           24
          ],
          [
           "J.McKissic",
           2018,
           25
          ],
          [
           "J.McKissic",
           2019,
           26
          ],
          [
           "J.McKissic",
           2020,
           27
          ],
          [
           "J.McKissic",
           2021,
           28
          ],
          [
           "J.McKissic",
           2022,
           29
          ],
          [
           "R.Anderson",
           2017,
           24
          ],
          [
           "R.Anderson",
           2018,
           25
          ],
          [
           "R.Anderson",
           2021,
           28
          ],
          [
           "B.Treggs",
           2017,
           23
          ],
          [
           "P.Barber",
           2017,
           23
          ],
          [
           "P.Barber",
           2018,
           24
          ],
          [
           "P.Barber",
           2019,
           25
          ],
          [
           "P.Barber",
           2020,
           26
          ],
          [
           "P.Barber",
           2021,
           27
          ],
          [
           "D.Henry",
           2017,
           23
          ],
          [
           "D.Henry",
           2018,
           24
          ],
          [
           "D.Henry",
           2019,
           25
          ],
          [
           "D.Henry",
           2020,
           26
          ],
          [
           "D.Henry",
           2021,
           27
          ],
          [
           "D.Henry",
           2022,
           28
          ],
          [
           "M.Thomas",
           2020,
           27
          ],
          [
           "J.Howard",
           2019,
           24
          ],
          [
           "J.Howard",
           2020,
           25
          ],
          [
           "J.Howard",
           2021,
           26
          ],
          [
           "J.Howard",
           2022,
           27
          ],
          [
           "W.Smallwood",
           2017,
           23
          ],
          [
           "W.Smallwood",
           2018,
           24
          ],
          [
           "W.Smallwood",
           2019,
           25
          ],
          [
           "K.Hogan",
           2017,
           24
          ],
          [
           "J.Grant",
           2017,
           24
          ],
          [
           "J.Grant",
           2018,
           25
          ],
          [
           "J.Grant",
           2019,
           26
          ],
          [
           "J.Grant",
           2020,
           27
          ],
          [
           "J.Grant",
           2021,
           28
          ],
          [
           "C.Fejedelem",
           2021,
           28
          ],
          [
           "C.Fejedelem",
           2022,
           29
          ],
          [
           "E.Penny",
           2018,
           25
          ],
          [
           "E.Penny",
           2019,
           26
          ],
          [
           "E.Penny",
           2020,
           27
          ],
          [
           "E.Penny",
           2021,
           28
          ],
          [
           "T.Lewis",
           2017,
           24
          ],
          [
           "T.Lewis",
           2018,
           25
          ],
          [
           "D.Watt",
           2017,
           24
          ],
          [
           "D.Watt",
           2018,
           25
          ],
          [
           "D.Watt",
           2019,
           26
          ],
          [
           "D.Watt",
           2022,
           29
          ],
          [
           "C.Ham",
           2018,
           25
          ],
          [
           "C.Ham",
           2019,
           26
          ],
          [
           "C.Ham",
           2020,
           27
          ],
          [
           "C.Ham",
           2021,
           28
          ],
          [
           "C.Ham",
           2022,
           29
          ],
          [
           "D.Washington",
           2017,
           24
          ],
          [
           "D.Washington",
           2018,
           25
          ],
          [
           "D.Washington",
           2019,
           26
          ],
          [
           "D.Washington",
           2020,
           27
          ],
          [
           "C.Wentz",
           2017,
           24
          ],
          [
           "C.Wentz",
           2018,
           25
          ],
          [
           "C.Wentz",
           2019,
           26
          ],
          [
           "C.Wentz",
           2020,
           27
          ],
          [
           "C.Wentz",
           2021,
           28
          ],
          [
           "C.Wentz",
           2022,
           29
          ],
          [
           "A.Janovich",
           2017,
           24
          ],
          [
           "A.Janovich",
           2018,
           25
          ],
          [
           "A.Janovich",
           2019,
           26
          ],
          [
           "A.Janovich",
           2020,
           27
          ],
          [
           "A.Janovich",
           2021,
           28
          ],
          [
           "B.Marshall",
           2017,
           23
          ],
          [
           "B.Marshall",
           2018,
           24
          ],
          [
           "D.Booker",
           2017,
           25
          ],
          [
           "D.Booker",
           2018,
           26
          ],
          [
           "D.Booker",
           2019,
           27
          ],
          [
           "D.Booker",
           2020,
           28
          ],
          [
           "D.Booker",
           2021,
           29
          ],
          [
           "J.Williams",
           2019,
           25
          ],
          [
           "J.Williams",
           2020,
           26
          ],
          [
           "J.Williams",
           2021,
           27
          ],
          [
           "J.Williams",
           2022,
           28
          ],
          [
           "T.Boyd",
           2019,
           24
          ],
          [
           "T.Boyd",
           2020,
           25
          ],
          [
           "T.Boyd",
           2021,
           26
          ],
          [
           "J.Richard",
           2017,
           23
          ],
          [
           "J.Richard",
           2018,
           24
          ],
          [
           "J.Richard",
           2019,
           25
          ],
          [
           "J.Richard",
           2020,
           26
          ],
          [
           "J.Richard",
           2021,
           27
          ],
          [
           "T.Hill",
           2017,
           23
          ],
          [
           "T.Hill",
           2018,
           24
          ],
          [
           "T.Hill",
           2019,
           25
          ],
          [
           "T.Hill",
           2020,
           26
          ],
          [
           "T.Hill",
           2021,
           27
          ],
          [
           "T.Hill",
           2022,
           28
          ],
          [
           "E.Elliott",
           2017,
           22
          ],
          [
           "E.Elliott",
           2018,
           23
          ],
          [
           "E.Elliott",
           2019,
           24
          ],
          [
           "E.Elliott",
           2020,
           25
          ],
          [
           "E.Elliott",
           2021,
           26
          ],
          [
           "E.Elliott",
           2022,
           27
          ],
          [
           "B.Miller",
           2017,
           24
          ],
          [
           "D.Prescott",
           2017,
           24
          ],
          [
           "D.Prescott",
           2018,
           25
          ],
          [
           "D.Prescott",
           2019,
           26
          ],
          [
           "D.Prescott",
           2020,
           27
          ],
          [
           "D.Prescott",
           2021,
           28
          ],
          [
           "D.Prescott",
           2022,
           29
          ],
          [
           "M.Hall",
           2019,
           26
          ],
          [
           "M.Hall",
           2020,
           27
          ],
          [
           "J.Goff",
           2017,
           22
          ],
          [
           "J.Goff",
           2018,
           23
          ],
          [
           "J.Goff",
           2019,
           24
          ],
          [
           "J.Goff",
           2020,
           25
          ],
          [
           "J.Goff",
           2021,
           26
          ],
          [
           "J.Goff",
           2022,
           27
          ],
          [
           "P.Lynch",
           2017,
           23
          ],
          [
           "P.Cooper",
           2022,
           27
          ],
          [
           "K.Drake",
           2017,
           23
          ],
          [
           "K.Drake",
           2018,
           24
          ],
          [
           "K.Drake",
           2019,
           25
          ],
          [
           "K.Drake",
           2020,
           26
          ],
          [
           "K.Drake",
           2021,
           27
          ],
          [
           "K.Drake",
           2022,
           28
          ],
          [
           "J.Brissett",
           2017,
           24
          ],
          [
           "J.Brissett",
           2020,
           27
          ],
          [
           "J.Brissett",
           2021,
           28
          ],
          [
           "J.Brissett",
           2022,
           29
          ],
          [
           "T.Pope",
           2020,
           26
          ],
          [
           "Z.Pascal",
           2019,
           24
          ],
          [
           "Z.Pascal",
           2022,
           27
          ],
          [
           "P.Walker",
           2021,
           26
          ],
          [
           "P.Walker",
           2022,
           27
          ],
          [
           "C.McCaffrey",
           2018,
           22
          ],
          [
           "C.McCaffrey",
           2019,
           23
          ],
          [
           "C.McCaffrey",
           2020,
           24
          ],
          [
           "C.McCaffrey",
           2021,
           25
          ],
          [
           "C.McCaffrey",
           2022,
           26
          ],
          [
           "C.Samuel",
           2018,
           22
          ],
          [
           "C.Samuel",
           2019,
           23
          ],
          [
           "C.Samuel",
           2020,
           24
          ],
          [
           "C.Samuel",
           2021,
           25
          ],
          [
           "C.Samuel",
           2022,
           26
          ],
          [
           "G.Kittle",
           2019,
           25
          ],
          [
           "G.Kittle",
           2020,
           26
          ],
          [
           "G.Kittle",
           2021,
           27
          ],
          [
           "A.Jones",
           2018,
           23
          ],
          [
           "A.Jones",
           2019,
           24
          ],
          [
           "A.Jones",
           2020,
           25
          ],
          [
           "A.Jones",
           2021,
           26
          ],
          [
           "A.Jones",
           2022,
           27
          ],
          [
           "E.McGuire",
           2018,
           24
          ],
          [
           "A.Armah",
           2019,
           25
          ],
          [
           "A.Armah",
           2020,
           26
          ],
          [
           "A.Armah",
           2021,
           27
          ],
          [
           "K.Bourne",
           2022,
           27
          ],
          [
           "M.Breida",
           2018,
           23
          ],
          [
           "M.Breida",
           2019,
           24
          ],
          [
           "M.Breida",
           2020,
           25
          ],
          [
           "M.Breida",
           2021,
           26
          ],
          [
           "M.Breida",
           2022,
           27
          ],
          [
           "T.Hill",
           2019,
           29
          ],
          [
           "T.Hill",
           2020,
           30
          ],
          [
           "T.Hill",
           2021,
           31
          ],
          [
           "T.Hill",
           2022,
           32
          ],
          [
           "C.Board",
           2021,
           27
          ],
          [
           "P.Ricard",
           2021,
           27
          ],
          [
           "P.Ricard",
           2022,
           28
          ],
          [
           "J.Ross",
           2018,
           22
          ],
          [
           "I.McKenzie",
           2018,
           23
          ],
          [
           "I.McKenzie",
           2019,
           24
          ],
          [
           "I.McKenzie",
           2020,
           25
          ],
          [
           "I.McKenzie",
           2021,
           26
          ],
          [
           "I.McKenzie",
           2022,
           27
          ],
          [
           "S.Perine",
           2018,
           22
          ],
          [
           "S.Perine",
           2019,
           23
          ],
          [
           "S.Perine",
           2020,
           24
          ],
          [
           "S.Perine",
           2021,
           25
          ],
          [
           "S.Perine",
           2022,
           26
          ],
          [
           "M.Williams",
           2019,
           24
          ],
          [
           "M.Williams",
           2020,
           25
          ],
          [
           "D.Watson",
           2018,
           22
          ],
          [
           "D.Watson",
           2019,
           23
          ],
          [
           "D.Watson",
           2020,
           24
          ],
          [
           "J.Conner",
           2018,
           23
          ],
          [
           "J.Conner",
           2019,
           24
          ],
          [
           "J.Conner",
           2020,
           25
          ],
          [
           "J.Conner",
           2021,
           26
          ],
          [
           "J.Conner",
           2022,
           27
          ],
          [
           "T.Cohen",
           2018,
           23
          ],
          [
           "T.Cohen",
           2019,
           24
          ],
          [
           "T.Cohen",
           2020,
           25
          ],
          [
           "R.Switzer",
           2018,
           23
          ],
          [
           "B.Hill",
           2018,
           22
          ],
          [
           "B.Hill",
           2019,
           23
          ],
          [
           "B.Hill",
           2020,
           24
          ],
          [
           "J.Agnew",
           2018,
           23
          ],
          [
           "J.Agnew",
           2019,
           24
          ],
          [
           "J.Agnew",
           2020,
           25
          ],
          [
           "J.Agnew",
           2021,
           26
          ],
          [
           "J.Agnew",
           2022,
           27
          ],
          [
           "D.Henderson",
           2018,
           25
          ],
          [
           "D.Moore",
           2019,
           24
          ],
          [
           "D.Moore",
           2020,
           25
          ],
          [
           "C.Carson",
           2018,
           23
          ],
          [
           "C.Carson",
           2019,
           24
          ],
          [
           "C.Carson",
           2020,
           25
          ],
          [
           "C.Carson",
           2021,
           26
          ],
          [
           "C.Rush",
           2022,
           28
          ],
          [
           "A.Ekeler",
           2018,
           23
          ],
          [
           "A.Ekeler",
           2019,
           24
          ],
          [
           "A.Ekeler",
           2020,
           25
          ],
          [
           "A.Ekeler",
           2021,
           26
          ],
          [
           "A.Ekeler",
           2022,
           27
          ],
          [
           "C.Clement",
           2018,
           23
          ],
          [
           "C.Clement",
           2021,
           26
          ],
          [
           "C.Clement",
           2022,
           27
          ],
          [
           "G.Ward",
           2020,
           25
          ],
          [
           "J.Davis",
           2018,
           22
          ],
          [
           "T.Logan",
           2019,
           24
          ],
          [
           "D.Westbrook",
           2019,
           25
          ],
          [
           "D.Ogunbowale",
           2020,
           26
          ],
          [
           "D.Ogunbowale",
           2021,
           27
          ],
          [
           "D.Ogunbowale",
           2022,
           28
          ],
          [
           "L.Fournette",
           2018,
           23
          ],
          [
           "L.Fournette",
           2019,
           24
          ],
          [
           "L.Fournette",
           2020,
           25
          ],
          [
           "L.Fournette",
           2021,
           26
          ],
          [
           "L.Fournette",
           2022,
           27
          ],
          [
           "J.Smith",
           2020,
           25
          ],
          [
           "J.Smith",
           2021,
           26
          ],
          [
           "J.Smith",
           2022,
           27
          ],
          [
           "M.Trubisky",
           2018,
           24
          ],
          [
           "M.Trubisky",
           2019,
           25
          ],
          [
           "M.Trubisky",
           2020,
           26
          ],
          [
           "M.Trubisky",
           2021,
           27
          ],
          [
           "M.Trubisky",
           2022,
           28
          ],
          [
           "P.Mahomes",
           2018,
           22
          ],
          [
           "P.Mahomes",
           2019,
           23
          ],
          [
           "P.Mahomes",
           2020,
           24
          ],
          [
           "P.Mahomes",
           2021,
           25
          ],
          [
           "P.Mahomes",
           2022,
           26
          ],
          [
           "E.Engram",
           2018,
           23
          ],
          [
           "E.Engram",
           2019,
           24
          ],
          [
           "E.Engram",
           2020,
           25
          ],
          [
           "E.Engram",
           2021,
           26
          ],
          [
           "E.Engram",
           2022,
           27
          ],
          [
           "D.Njoku",
           2022,
           26
          ],
          [
           "Z.Jones",
           2019,
           24
          ],
          [
           "Z.Jones",
           2022,
           27
          ],
          [
           "D.Cook",
           2018,
           23
          ],
          [
           "D.Cook",
           2019,
           24
          ],
          [
           "D.Cook",
           2020,
           25
          ],
          [
           "D.Cook",
           2021,
           26
          ],
          [
           "D.Cook",
           2022,
           27
          ],
          [
           "G.Everett",
           2018,
           24
          ],
          [
           "G.Everett",
           2019,
           25
          ],
          [
           "G.Everett",
           2020,
           26
          ],
          [
           "G.Everett",
           2021,
           27
          ],
          [
           "G.Everett",
           2022,
           28
          ],
          [
           "J.Mixon",
           2018,
           22
          ],
          [
           "J.Mixon",
           2019,
           23
          ],
          [
           "J.Mixon",
           2020,
           24
          ],
          [
           "J.Mixon",
           2021,
           25
          ],
          [
           "J.Mixon",
           2022,
           26
          ],
          [
           "A.Kamara",
           2018,
           23
          ],
          [
           "A.Kamara",
           2019,
           24
          ],
          [
           "A.Kamara",
           2020,
           25
          ],
          [
           "A.Kamara",
           2021,
           26
          ],
          [
           "A.Kamara",
           2022,
           27
          ],
          [
           "C.Kupp",
           2019,
           26
          ],
          [
           "C.Kupp",
           2020,
           27
          ],
          [
           "C.Kupp",
           2021,
           28
          ],
          [
           "C.Kupp",
           2022,
           29
          ],
          [
           "C.Godwin",
           2022,
           26
          ],
          [
           "K.Hunt",
           2018,
           23
          ],
          [
           "K.Hunt",
           2019,
           24
          ],
          [
           "K.Hunt",
           2020,
           25
          ],
          [
           "K.Hunt",
           2021,
           26
          ],
          [
           "K.Hunt",
           2022,
           27
          ],
          [
           "D.Foreman",
           2018,
           22
          ],
          [
           "D.Foreman",
           2021,
           25
          ],
          [
           "D.Foreman",
           2022,
           26
          ],
          [
           "K.Golladay",
           2018,
           24
          ],
          [
           "C.Williams",
           2018,
           23
          ],
          [
           "C.Beathard",
           2018,
           24
          ],
          [
           "C.Beathard",
           2021,
           27
          ],
          [
           "J.Reynolds",
           2019,
           24
          ],
          [
           "J.Reynolds",
           2020,
           25
          ],
          [
           "J.Williams",
           2018,
           23
          ],
          [
           "J.Williams",
           2019,
           24
          ],
          [
           "J.Williams",
           2020,
           25
          ],
          [
           "J.Williams",
           2021,
           26
          ],
          [
           "W.Gallman",
           2018,
           23
          ],
          [
           "M.Mack",
           2018,
           22
          ],
          [
           "M.Mack",
           2019,
           23
          ],
          [
           "M.Mack",
           2020,
           24
          ],
          [
           "M.Mack",
           2021,
           25
          ],
          [
           "M.Mack",
           2022,
           26
          ],
          [
           "J.McNichols",
           2021,
           25
          ],
          [
           "N.Peterman",
           2018,
           24
          ],
          [
           "C.Sims",
           2021,
           25
          ],
          [
           "P.Lindsay",
           2019,
           25
          ],
          [
           "P.Lindsay",
           2020,
           26
          ],
          [
           "P.Lindsay",
           2021,
           27
          ],
          [
           "P.Lindsay",
           2022,
           28
          ],
          [
           "J.Wilson",
           2019,
           23
          ],
          [
           "J.Wilson",
           2020,
           24
          ],
          [
           "J.Wilson",
           2021,
           25
          ],
          [
           "J.Wilson",
           2022,
           26
          ],
          [
           "T.Cannon",
           2021,
           27
          ],
          [
           "J.Cabinda",
           2021,
           25
          ],
          [
           "J.Cabinda",
           2022,
           26
          ],
          [
           "G.Edwards",
           2019,
           24
          ],
          [
           "G.Edwards",
           2020,
           25
          ],
          [
           "D.Turner",
           2019,
           24
          ],
          [
           "M.Boone",
           2019,
           24
          ],
          [
           "M.Boone",
           2020,
           25
          ],
          [
           "M.Boone",
           2021,
           26
          ],
          [
           "M.Boone",
           2022,
           27
          ],
          [
           "D.Hilliard",
           2020,
           25
          ],
          [
           "D.Hilliard",
           2021,
           26
          ],
          [
           "D.Hilliard",
           2022,
           27
          ],
          [
           "M.Valdes-Scantling",
           2019,
           24
          ],
          [
           "M.Valdes-Scantling",
           2020,
           25
          ],
          [
           "St. Brown",
           2021,
           24
          ],
          [
           "St. Brown",
           2022,
           25
          ],
          [
           "J.Samuels",
           2019,
           23
          ],
          [
           "J.Samuels",
           2020,
           24
          ],
          [
           "J.Samuels",
           2021,
           25
          ],
          [
           "C.Sutton",
           2019,
           23
          ],
          [
           "K.Johnson",
           2019,
           22
          ],
          [
           "K.Johnson",
           2020,
           23
          ],
          [
           "A.Miller",
           2019,
           24
          ],
          [
           "A.Miller",
           2020,
           25
          ],
          [
           "J.Akins",
           2021,
           29
          ],
          [
           "K.Coutee",
           2019,
           22
          ],
          [
           "N.Hines",
           2019,
           22
          ],
          [
           "N.Hines",
           2020,
           23
          ],
          [
           "N.Hines",
           2021,
           24
          ],
          [
           "N.Hines",
           2022,
           25
          ],
          [
           "I.Smith",
           2019,
           23
          ],
          [
           "I.Smith",
           2020,
           24
          ],
          [
           "I.Smith",
           2021,
           25
          ],
          [
           "J.Wilkins",
           2019,
           25
          ],
          [
           "J.Wilkins",
           2020,
           26
          ],
          [
           "M.White",
           2022,
           27
          ],
          [
           "R.McCloud",
           2021,
           24
          ],
          [
           "R.McCloud",
           2022,
           25
          ],
          [
           "R.Gage",
           2020,
           24
          ],
          [
           "B.Scott",
           2020,
           25
          ],
          [
           "B.Scott",
           2021,
           26
          ],
          [
           "B.Scott",
           2022,
           27
          ],
          [
           "C.Wilson",
           2021,
           25
          ],
          [
           "C.Wilson",
           2022,
           26
          ],
          [
           "B.Berrios",
           2021,
           25
          ],
          [
           "B.Berrios",
           2022,
           26
          ],
          [
           "B.Scarbrough",
           2020,
           23
          ],
          [
           "J.Jackson",
           2019,
           23
          ],
          [
           "J.Jackson",
           2020,
           24
          ],
          [
           "J.Jackson",
           2021,
           25
          ],
          [
           "J.Jackson",
           2022,
           26
          ],
          [
           "B.Howell",
           2021,
           25
          ],
          [
           "S.Chandler",
           2022,
           26
          ],
          [
           "A.Lazard",
           2020,
           24
          ],
          [
           "A.Lazard",
           2021,
           25
          ],
          [
           "A.Lazard",
           2022,
           26
          ],
          [
           "K.Allen",
           2019,
           23
          ],
          [
           "K.Allen",
           2020,
           24
          ],
          [
           "K.Allen",
           2021,
           25
          ],
          [
           "K.Allen",
           2022,
           26
          ],
          [
           "R.Bonnafon",
           2020,
           24
          ],
          [
           "R.Bonnafon",
           2021,
           25
          ],
          [
           "R.Bonnafon",
           2022,
           26
          ],
          [
           "R.Nall",
           2020,
           24
          ],
          [
           "R.Nall",
           2021,
           25
          ],
          [
           "G.Igwebuike",
           2022,
           27
          ],
          [
           "C.Batson",
           2021,
           25
          ],
          [
           "M.Walton",
           2019,
           22
          ],
          [
           "C.Edmonds",
           2019,
           23
          ],
          [
           "C.Edmonds",
           2020,
           24
          ],
          [
           "C.Edmonds",
           2021,
           25
          ],
          [
           "C.Edmonds",
           2022,
           26
          ],
          [
           "D.Leavitt",
           2022,
           28
          ],
          [
           "R.Penny",
           2019,
           23
          ],
          [
           "R.Penny",
           2020,
           24
          ],
          [
           "R.Penny",
           2021,
           25
          ],
          [
           "R.Penny",
           2022,
           26
          ],
          [
           "M.Andrews",
           2022,
           26
          ],
          [
           "C.Kirk",
           2019,
           22
          ],
          [
           "C.Kirk",
           2020,
           23
          ],
          [
           "C.Kirk",
           2021,
           24
          ],
          [
           "C.Kirk",
           2022,
           25
          ],
          [
           "N.Chubb",
           2019,
           23
          ],
          [
           "N.Chubb",
           2020,
           24
          ],
          [
           "N.Chubb",
           2021,
           25
          ],
          [
           "N.Chubb",
           2022,
           26
          ],
          [
           "L.Jackson",
           2019,
           22
          ],
          [
           "L.Jackson",
           2020,
           23
          ],
          [
           "L.Jackson",
           2021,
           24
          ],
          [
           "L.Jackson",
           2022,
           25
          ],
          [
           "D.Smythe",
           2022,
           27
          ],
          [
           "K.Ballage",
           2019,
           23
          ],
          [
           "K.Ballage",
           2020,
           24
          ],
          [
           "K.Ballage",
           2021,
           25
          ],
          [
           "J.Kelly",
           2019,
           22
          ],
          [
           "R.Jones",
           2019,
           22
          ],
          [
           "R.Jones",
           2020,
           23
          ],
          [
           "R.Jones",
           2021,
           24
          ],
          [
           "R.Jones",
           2022,
           25
          ],
          [
           "D.Moore",
           2019,
           22
          ],
          [
           "D.Moore",
           2020,
           23
          ],
          [
           "C.Ridley",
           2019,
           24
          ],
          [
           "C.Ridley",
           2020,
           25
          ],
          [
           "R.Freeman",
           2019,
           23
          ],
          [
           "R.Freeman",
           2020,
           24
          ],
          [
           "R.Freeman",
           2021,
           25
          ],
          [
           "R.Freeman",
           2022,
           26
          ],
          [
           "S.Barkley",
           2019,
           22
          ],
          [
           "S.Barkley",
           2020,
           23
          ],
          [
           "S.Barkley",
           2021,
           24
          ],
          [
           "S.Barkley",
           2022,
           25
          ],
          [
           "S.Michel",
           2019,
           24
          ],
          [
           "S.Michel",
           2020,
           25
          ],
          [
           "S.Michel",
           2021,
           26
          ],
          [
           "S.Michel",
           2022,
           27
          ],
          [
           "B.Mayfield",
           2019,
           24
          ],
          [
           "B.Mayfield",
           2020,
           25
          ],
          [
           "B.Mayfield",
           2021,
           26
          ],
          [
           "B.Mayfield",
           2022,
           27
          ],
          [
           "J.Allen",
           2019,
           23
          ],
          [
           "J.Allen",
           2020,
           24
          ],
          [
           "J.Allen",
           2021,
           25
          ],
          [
           "J.Allen",
           2022,
           26
          ],
          [
           "S.Darnold",
           2019,
           22
          ],
          [
           "S.Darnold",
           2020,
           23
          ],
          [
           "S.Darnold",
           2021,
           24
          ],
          [
           "S.Darnold",
           2022,
           25
          ],
          [
           "J.Wolford",
           2021,
           25
          ],
          [
           "J.Wolford",
           2022,
           26
          ],
          [
           "S.Sims",
           2020,
           23
          ],
          [
           "J.Meyers",
           2021,
           24
          ],
          [
           "J.Meyers",
           2022,
           25
          ],
          [
           "A.Mattison",
           2020,
           22
          ],
          [
           "A.Mattison",
           2021,
           23
          ],
          [
           "A.Mattison",
           2022,
           24
          ],
          [
           "J.Hill",
           2020,
           22
          ],
          [
           "D.Williams",
           2020,
           23
          ],
          [
           "A.Dulin",
           2021,
           24
          ],
          [
           "A.Dulin",
           2022,
           25
          ],
          [
           "J.Gillan",
           2021,
           24
          ],
          [
           "J.Gillan",
           2022,
           25
          ],
          [
           "A.Ingold",
           2020,
           24
          ],
          [
           "A.Ingold",
           2021,
           25
          ],
          [
           "A.Ingold",
           2022,
           26
          ],
          [
           "M.Hardman",
           2020,
           22
          ],
          [
           "M.Hardman",
           2021,
           23
          ],
          [
           "M.Hardman",
           2022,
           24
          ],
          [
           "T.McSorley",
           2020,
           25
          ],
          [
           "D.Thompson",
           2020,
           23
          ],
          [
           "D.Ozigbo",
           2020,
           23
          ],
          [
           "D.Ozigbo",
           2021,
           24
          ],
          [
           "D.Ozigbo",
           2022,
           25
          ],
          [
           "A.Walter",
           2021,
           25
          ],
          [
           "O.Zaccheaus",
           2021,
           24
          ],
          [
           "O.Zaccheaus",
           2022,
           25
          ],
          [
           "D.Harris",
           2020,
           22
          ],
          [
           "D.Harris",
           2021,
           23
          ],
          [
           "D.Johnson",
           2020,
           24
          ],
          [
           "D.Johnson",
           2021,
           25
          ],
          [
           "D.Johnson",
           2022,
           26
          ],
          [
           "B.Snell",
           2021,
           23
          ],
          [
           "B.Snell",
           2022,
           24
          ],
          [
           "K.Murray",
           2020,
           23
          ],
          [
           "K.Murray",
           2021,
           24
          ],
          [
           "K.Murray",
           2022,
           25
          ],
          [
           "D.Haskins",
           2020,
           23
          ],
          [
           "M.Sanders",
           2020,
           23
          ],
          [
           "M.Sanders",
           2021,
           24
          ],
          [
           "M.Sanders",
           2022,
           25
          ],
          [
           "D.Singletary",
           2020,
           22
          ],
          [
           "D.Singletary",
           2021,
           23
          ],
          [
           "D.Singletary",
           2022,
           24
          ],
          [
           "T.Wesco",
           2020,
           24
          ],
          [
           "T.Pollard",
           2020,
           23
          ],
          [
           "T.Pollard",
           2021,
           24
          ],
          [
           "T.Pollard",
           2022,
           25
          ],
          [
           "Q.Ollison",
           2020,
           23
          ],
          [
           "Q.Ollison",
           2021,
           24
          ],
          [
           "G.Minshew",
           2020,
           24
          ],
          [
           "G.Minshew II",
           2020,
           24
          ],
          [
           "G.Minshew II",
           2021,
           25
          ],
          [
           "G.Minshew II",
           2022,
           26
          ],
          [
           "T.Williams",
           2021,
           23
          ],
          [
           "T.Williams",
           2022,
           24
          ],
          [
           "S.Miller",
           2020,
           23
          ],
          [
           "S.Miller",
           2021,
           24
          ],
          [
           "S.Miller",
           2022,
           25
          ],
          [
           "M.Gaskin",
           2020,
           23
          ],
          [
           "M.Gaskin",
           2021,
           24
          ],
          [
           "M.Gaskin",
           2022,
           25
          ],
          [
           "C.Moore",
           2021,
           25
          ],
          [
           "C.Moore",
           2022,
           26
          ],
          [
           "P.Laird",
           2020,
           25
          ],
          [
           "P.Laird",
           2021,
           26
          ],
          [
           "J.Guyton",
           2021,
           24
          ],
          [
           "G.Dortch",
           2022,
           24
          ],
          [
           "A.Isabella",
           2020,
           23
          ],
          [
           "D.Slayton",
           2021,
           24
          ],
          [
           "T.Johnson",
           2020,
           22
          ],
          [
           "T.Johnson",
           2021,
           23
          ],
          [
           "T.Johnson",
           2022,
           24
          ],
          [
           "T.Brooks-James",
           2020,
           25
          ],
          [
           "C.Reynolds",
           2021,
           25
          ],
          [
           "C.Reynolds",
           2022,
           26
          ],
          [
           "T.Homer",
           2020,
           22
          ],
          [
           "T.Homer",
           2021,
           23
          ],
          [
           "T.Homer",
           2022,
           24
          ],
          [
           "N.Harry",
           2020,
           22
          ],
          [
           "D.Johnson",
           2020,
           24
          ],
          [
           "D.Johnson",
           2021,
           25
          ],
          [
           "D.Johnson",
           2022,
           26
          ],
          [
           "P.Campbell",
           2020,
           23
          ],
          [
           "G.Olszewski",
           2021,
           24
          ],
          [
           "G.Olszewski",
           2022,
           25
          ],
          [
           "R.Finley",
           2020,
           25
          ],
          [
           "D.Harris",
           2020,
           23
          ],
          [
           "D.Harris",
           2021,
           24
          ],
          [
           "D.Harris",
           2022,
           25
          ],
          [
           "T.McLaurin",
           2021,
           25
          ],
          [
           "T.McLaurin",
           2022,
           26
          ],
          [
           "M.Brown",
           2021,
           24
          ],
          [
           "M.Brown",
           2022,
           25
          ],
          [
           "D.Henderson",
           2020,
           23
          ],
          [
           "D.Henderson",
           2021,
           24
          ],
          [
           "D.Henderson",
           2022,
           25
          ],
          [
           "D.Montgomery",
           2020,
           23
          ],
          [
           "D.Montgomery",
           2021,
           24
          ],
          [
           "D.Montgomery",
           2022,
           25
          ],
          [
           "J.Jacobs",
           2020,
           22
          ],
          [
           "J.Jacobs",
           2021,
           23
          ],
          [
           "J.Jacobs",
           2022,
           24
          ],
          [
           "D.Lock",
           2020,
           23
          ],
          [
           "D.Lock",
           2021,
           24
          ],
          [
           "D.Jones",
           2020,
           23
          ],
          [
           "D.Jones",
           2021,
           24
          ],
          [
           "D.Jones",
           2022,
           25
          ],
          [
           "D.Samuel",
           2020,
           24
          ],
          [
           "D.Samuel",
           2021,
           25
          ],
          [
           "D.Samuel",
           2022,
           26
          ],
          [
           "C.Streveler",
           2021,
           26
          ],
          [
           "C.Streveler",
           2022,
           27
          ],
          [
           "J.Hasty",
           2021,
           24
          ],
          [
           "J.Hasty",
           2022,
           25
          ],
          [
           "J.Robinson",
           2021,
           23
          ],
          [
           "J.Robinson",
           2022,
           24
          ],
          [
           "T.Jones",
           2021,
           23
          ],
          [
           "T.Jones",
           2022,
           24
          ],
          [
           "G.Nabers",
           2021,
           23
          ],
          [
           "J.Ward",
           2022,
           24
          ],
          [
           "P.Taylor",
           2022,
           24
          ],
          [
           "T.Huntley",
           2021,
           23
          ],
          [
           "T.Huntley",
           2022,
           24
          ],
          [
           "S.Ahmed",
           2021,
           22
          ],
          [
           "S.Ahmed",
           2022,
           23
          ],
          [
           "S.Phillips",
           2021,
           23
          ],
          [
           "J.Taylor",
           2021,
           23
          ],
          [
           "J.Taylor",
           2022,
           24
          ],
          [
           "T.Tagovailoa",
           2021,
           23
          ],
          [
           "T.Tagovailoa",
           2022,
           24
          ],
          [
           "J.Taylor",
           2021,
           22
          ],
          [
           "J.Taylor",
           2022,
           23
          ],
          [
           "Z.Moss",
           2021,
           23
          ],
          [
           "Z.Moss",
           2022,
           24
          ],
          [
           "M.Pittman",
           2021,
           23
          ],
          [
           "M.Pittman",
           2022,
           24
          ],
          [
           "B.Aiyuk",
           2021,
           23
          ],
          [
           "B.Aiyuk",
           2022,
           24
          ],
          [
           "A.Dillon",
           2021,
           23
          ],
          [
           "A.Dillon",
           2022,
           24
          ],
          [
           "L.Shenault",
           2022,
           23
          ],
          [
           "L.Perine",
           2021,
           23
          ],
          [
           "Q.Watkins",
           2022,
           24
          ],
          [
           "D.Swift",
           2021,
           22
          ],
          [
           "D.Swift",
           2022,
           23
          ],
          [
           "J.Huntley",
           2021,
           23
          ],
          [
           "C.Kmet",
           2021,
           22
          ],
          [
           "C.Kmet",
           2022,
           23
          ],
          [
           "D.Evans",
           2021,
           23
          ],
          [
           "D.Evans",
           2022,
           24
          ],
          [
           "D.Mooney",
           2021,
           23
          ],
          [
           "D.Mooney",
           2022,
           24
          ],
          [
           "J.Jefferson",
           2021,
           22
          ],
          [
           "J.Jefferson",
           2022,
           23
          ],
          [
           "C.Claypool",
           2021,
           23
          ],
          [
           "C.Claypool",
           2022,
           24
          ],
          [
           "A.Gibson",
           2021,
           23
          ],
          [
           "A.Gibson",
           2022,
           24
          ],
          [
           "D.Duvernay",
           2021,
           23
          ],
          [
           "D.Duvernay",
           2022,
           24
          ],
          [
           "A.McFarland",
           2021,
           22
          ],
          [
           "A.McFarland",
           2022,
           23
          ],
          [
           "K.Osborn",
           2022,
           25
          ],
          [
           "J.Herbert",
           2021,
           23
          ],
          [
           "J.Herbert",
           2022,
           24
          ],
          [
           "H.Ruggs",
           2021,
           22
          ],
          [
           "C.Lamb",
           2021,
           22
          ],
          [
           "C.Lamb",
           2022,
           23
          ],
          [
           "C.Edwards-Helaire",
           2021,
           22
          ],
          [
           "C.Edwards-Helaire",
           2022,
           23
          ],
          [
           "J.Kelley",
           2021,
           23
          ],
          [
           "J.Kelley",
           2022,
           24
          ],
          [
           "E.Benjamin",
           2022,
           23
          ],
          [
           "J.Reagor",
           2021,
           22
          ],
          [
           "J.Reagor",
           2022,
           23
          ],
          [
           "J.Hurts",
           2021,
           23
          ],
          [
           "J.Hurts",
           2022,
           24
          ],
          [
           "J.Jeudy",
           2022,
           23
          ],
          [
           "C.Akers",
           2021,
           22
          ],
          [
           "C.Akers",
           2022,
           23
          ],
          [
           "V.Jefferson",
           2021,
           25
          ],
          [
           "D.Dallas",
           2021,
           22
          ],
          [
           "D.Dallas",
           2022,
           23
          ],
          [
           "J.Burrow",
           2021,
           24
          ],
          [
           "J.Burrow",
           2022,
           25
          ],
          [
           "K.Vaughn",
           2021,
           24
          ],
          [
           "K.Vaughn",
           2022,
           25
          ],
          [
           "C.Hubbard",
           2022,
           23
          ],
          [
           "E.Mitchell",
           2022,
           24
          ],
          [
           "G.Brightwell",
           2022,
           24
          ],
          [
           "J.Waddle",
           2022,
           23
          ],
          [
           "D.Eskridge",
           2022,
           25
          ],
          [
           "D.Brown",
           2022,
           22
          ],
          [
           "L.Rountree",
           2022,
           23
          ],
          [
           "D.Felton",
           2022,
           24
          ],
          [
           "K.Hill",
           2022,
           24
          ],
          [
           "A.Prentice",
           2022,
           25
          ],
          [
           "J.Patterson",
           2022,
           22
          ],
          [
           "F.Franks",
           2022,
           24
          ],
          [
           "K.Nwangwu",
           2022,
           24
          ],
          [
           "R.Stevenson",
           2022,
           24
          ],
          [
           "J.Darden",
           2022,
           23
          ],
          [
           "S.Ehlinger",
           2022,
           23
          ],
          [
           "N.Harris",
           2022,
           24
          ],
          [
           "D.Mills",
           2022,
           23
          ],
          [
           "J.Chase",
           2022,
           22
          ],
          [
           "K.Herbert",
           2022,
           24
          ],
          [
           "K.Toney",
           2022,
           23
          ],
          [
           "K.Gainwell",
           2022,
           23
          ],
          [
           "Mi.Carter",
           2022,
           23
          ],
          [
           "R.Moore",
           2022,
           22
          ],
          [
           "J.Fields",
           2022,
           23
          ],
          [
           "St. Brown",
           2022,
           22
          ],
          [
           "T.Lawrence",
           2022,
           22
          ],
          [
           "M.Jones",
           2022,
           23
          ],
          [
           "E.Moore",
           2022,
           22
          ],
          [
           "T.Sermon",
           2022,
           23
          ],
          [
           "J.Palmer",
           2022,
           22
          ],
          [
           "J.Williams",
           2022,
           22
          ],
          [
           "A.Schwartz",
           2022,
           21
          ],
          [
           "T.Lance",
           2022,
           22
          ],
          [
           "Z.Wilson",
           2022,
           23
          ]
         ],
         "hovertemplate": "fumbles_last=%{x}<br>fumbles=%{y}<br>rusher=%{customdata[0]}<br>season=%{customdata[1]}<br>age=%{customdata[2]}<extra></extra>",
         "legendgroup": "",
         "marker": {
          "color": "#636efa",
          "symbol": "circle"
         },
         "mode": "markers",
         "name": "",
         "showlegend": false,
         "type": "scattergl",
         "x": [
          0,
          0,
          5,
          1,
          3,
          1,
          1,
          1,
          1,
          0,
          0,
          3,
          0,
          5,
          1,
          1,
          0,
          0,
          0,
          0,
          2,
          0,
          0,
          2,
          0,
          0,
          1,
          1,
          2,
          2,
          2,
          0,
          0,
          1,
          5,
          3,
          2,
          0,
          0,
          0,
          5,
          0,
          0,
          0,
          0,
          1,
          1,
          1,
          0,
          0,
          1,
          1,
          5,
          0,
          2,
          2,
          3,
          2,
          2,
          4,
          2,
          2,
          2,
          1,
          3,
          0,
          0,
          0,
          0,
          0,
          0,
          1,
          1,
          3,
          0,
          2,
          2,
          1,
          0,
          0,
          0,
          1,
          2,
          0,
          2,
          0,
          2,
          1,
          3,
          2,
          2,
          3,
          2,
          4,
          2,
          3,
          1,
          0,
          0,
          0,
          1,
          2,
          0,
          0,
          0,
          0,
          0,
          2,
          3,
          1,
          2,
          0,
          1,
          2,
          3,
          3,
          0,
          0,
          4,
          4,
          2,
          0,
          4,
          5,
          0,
          0,
          1,
          1,
          3,
          1,
          1,
          2,
          1,
          1,
          1,
          1,
          0,
          1,
          0,
          1,
          0,
          0,
          0,
          1,
          0,
          0,
          0,
          0,
          3,
          3,
          0,
          6,
          1,
          3,
          2,
          2,
          0,
          0,
          0,
          0,
          0,
          0,
          0,
          0,
          4,
          3,
          1,
          1,
          0,
          0,
          0,
          0,
          0,
          0,
          1,
          0,
          0,
          1,
          0,
          3,
          0,
          3,
          0,
          0,
          3,
          0,
          0,
          1,
          0,
          0,
          0,
          0,
          0,
          0,
          0,
          0,
          0,
          0,
          1,
          1,
          1,
          3,
          1,
          3,
          1,
          0,
          2,
          5,
          1,
          1,
          2,
          3,
          0,
          1,
          1,
          2,
          3,
          3,
          3,
          3,
          0,
          1,
          3,
          1,
          1,
          1,
          0,
          1,
          0,
          1,
          3,
          3,
          2,
          1,
          2,
          0,
          0,
          0,
          0,
          0,
          2,
          2,
          1,
          1,
          1,
          0,
          0,
          0,
          0,
          1,
          2,
          1,
          2,
          5,
          4,
          4,
          2,
          0,
          2,
          0,
          0,
          0,
          0,
          0,
          2,
          0,
          0,
          0,
          2,
          1,
          0,
          0,
          2,
          0,
          1,
          0,
          1,
          0,
          3,
          8,
          2,
          1,
          0,
          2,
          0,
          2,
          0,
          1,
          0,
          0,
          3,
          2,
          0,
          0,
          2,
          0,
          1,
          2,
          3,
          0,
          2,
          2,
          0,
          0,
          0,
          0,
          1,
          0,
          4,
          3,
          0,
          0,
          0,
          1,
          0,
          0,
          0,
          0,
          0,
          0,
          0,
          0,
          0,
          0,
          1,
          1,
          2,
          0,
          0,
          0,
          0,
          0,
          0,
          4,
          1,
          3,
          1,
          3,
          3,
          0,
          2,
          0,
          0,
          0,
          0,
          0,
          1,
          0,
          1,
          0,
          0,
          0,
          0,
          0,
          3,
          0,
          0,
          1,
          1,
          4,
          5,
          1,
          0,
          3,
          1,
          1,
          2,
          1,
          0,
          2,
          2,
          3,
          5,
          2,
          0,
          0,
          0,
          0,
          1,
          0,
          0,
          0,
          0,
          0,
          0,
          0,
          0,
          0,
          0,
          0,
          0,
          0,
          0,
          0,
          0,
          0,
          1,
          2,
          0,
          1,
          1,
          1,
          4,
          0,
          0,
          0,
          0,
          0,
          0,
          2,
          4,
          2,
          4,
          3,
          1,
          0,
          2,
          3,
          2,
          1,
          1,
          1,
          4,
          0,
          0,
          0,
          0,
          1,
          0,
          0,
          0,
          0,
          1,
          0,
          1,
          0,
          0,
          3,
          2,
          2,
          4,
          1,
          6,
          2,
          2,
          4,
          0,
          0,
          0,
          0,
          1,
          3,
          1,
          2,
          0,
          3,
          2,
          2,
          0,
          0,
          1,
          1,
          2,
          2,
          3,
          2,
          0,
          1,
          0,
          1,
          2,
          3,
          5,
          1,
          0,
          3,
          1,
          0,
          7,
          3,
          5,
          3,
          0,
          1,
          0,
          0,
          1,
          3,
          3,
          0,
          0,
          0,
          0,
          0,
          2,
          2,
          3,
          2,
          3,
          4,
          3,
          0,
          0,
          0,
          0,
          0,
          0,
          0,
          0,
          0,
          1,
          0,
          0,
          0,
          2,
          0,
          1,
          0,
          1,
          0,
          0,
          2,
          0,
          0,
          0,
          0,
          0,
          0,
          1,
          0,
          0,
          0,
          0,
          1,
          0,
          2,
          1,
          0,
          0,
          0,
          0,
          0,
          0,
          0,
          0,
          2,
          3,
          1,
          0,
          0,
          0,
          2,
          0,
          0,
          0,
          0,
          0,
          0,
          1,
          0,
          0,
          0,
          1,
          1,
          0,
          1,
          0,
          0,
          1,
          0,
          0,
          0,
          0,
          0,
          1,
          0,
          0,
          0,
          0,
          0,
          1,
          0,
          0,
          0,
          0,
          0,
          1,
          0,
          0,
          2,
          0,
          0,
          3,
          0,
          0,
          0,
          0,
          0,
          0,
          0,
          0,
          2,
          0,
          4,
          5,
          2,
          0,
          0,
          0,
          2,
          0,
          1,
          1,
          1,
          0,
          0,
          0,
          0,
          0,
          0,
          0,
          0,
          1,
          1,
          1,
          1,
          0,
          2,
          2,
          5,
          1,
          2,
          6,
          3,
          3,
          4,
          2,
          0,
          0,
          1,
          0,
          0,
          0,
          0,
          0,
          0,
          0,
          0,
          1,
          0,
          0,
          0,
          0,
          0,
          0,
          0,
          0,
          0,
          1,
          1,
          1,
          0,
          4,
          0,
          1,
          0,
          0,
          0,
          0,
          0,
          0,
          0,
          0,
          0,
          0,
          0,
          0,
          0,
          3,
          3,
          2,
          0,
          3,
          0,
          0,
          0,
          0,
          0,
          0,
          0,
          0,
          0,
          1,
          0,
          0,
          4,
          3,
          7,
          4,
          4,
          1,
          2,
          0,
          0,
          2,
          1,
          1,
          0,
          4,
          1,
          1,
          0,
          0,
          0,
          0,
          1,
          2,
          1,
          2,
          1,
          0,
          0,
          1,
          0,
          0,
          0,
          0,
          0,
          0,
          0,
          0,
          0,
          0,
          3,
          4,
          5,
          0,
          0,
          1,
          0,
          5,
          0,
          4,
          2,
          1,
          0,
          0,
          1,
          1,
          0,
          2,
          2,
          1,
          2,
          0,
          3,
          2,
          2,
          2,
          1,
          1,
          1,
          4,
          0,
          0,
          0,
          0,
          0,
          0,
          0,
          1,
          2,
          0,
          1,
          1,
          0,
          0,
          0,
          2,
          0,
          1,
          0,
          0,
          0,
          0,
          1,
          0,
          0,
          0,
          0,
          0,
          0,
          0,
          0,
          0,
          0,
          0,
          0,
          0,
          0,
          0,
          0,
          0,
          0,
          0,
          0,
          0,
          0,
          1,
          0,
          1,
          0,
          0,
          0,
          1,
          1,
          0,
          0,
          0,
          0,
          0,
          1,
          0,
          1,
          3,
          0,
          0,
          0,
          0,
          1,
          2,
          1,
          0,
          0,
          1,
          0,
          1,
          1,
          0,
          0,
          1,
          0,
          1,
          0,
          0,
          2,
          0,
          0,
          1,
          1,
          1,
          1,
          0,
          0,
          0,
          2,
          0,
          0,
          0,
          0,
          0,
          1,
          0,
          1,
          0,
          1,
          0,
          1,
          0,
          1,
          1,
          0,
          0,
          0,
          0,
          0,
          0,
          1,
          0,
          1,
          0,
          0,
          0,
          1,
          3,
          3,
          0,
          1,
          0,
          0,
          3,
          0,
          0,
          0,
          0,
          1,
          3,
          2,
          1,
          0,
          0,
          1,
          0,
          4,
          2,
          0,
          1,
          0,
          0,
          0,
          1,
          0,
          0,
          3,
          0,
          0,
          1,
          0,
          0,
          1,
          2,
          3,
          2,
          3,
          1,
          0,
          0,
          3,
          1,
          0,
          0,
          0,
          0,
          0,
          0,
          0,
          0,
          1,
          1,
          3,
          0,
          2,
          1,
          1,
          0,
          0,
          0,
          0,
          0,
          0,
          1,
          0,
          0,
          0,
          1,
          0,
          0,
          0,
          0,
          0,
          1,
          0,
          0,
          0,
          0,
          0,
          0,
          0,
          0,
          1,
          1,
          4,
          2,
          2,
          4,
          0,
          0,
          0,
          0,
          1,
          0,
          0,
          0,
          1,
          0,
          0,
          0,
          0,
          0,
          0,
          0,
          0,
          0,
          0,
          1,
          1,
          1,
          0,
          0,
          2,
          2,
          0,
          1,
          0,
          0,
          0,
          0,
          0,
          0,
          0,
          0,
          0,
          0,
          0,
          0,
          0,
          0,
          0,
          0,
          0,
          0,
          0,
          0,
          0,
          0,
          0,
          3,
          0,
          0,
          5,
          2,
          2,
          2,
          1,
          4,
          3,
          4,
          1,
          3,
          1,
          4,
          0,
          2,
          0,
          4,
          3,
          0,
          1,
          0,
          0,
          1,
          0,
          0,
          0,
          0,
          0,
          0,
          1,
          1,
          1,
          5,
          1,
          4,
          0,
          0,
          1,
          2,
          2,
          0,
          0,
          0,
          0,
          0,
          0,
          0,
          0,
          0,
          0,
          0,
          0,
          2,
          1,
          2,
          2,
          5,
          2,
          3,
          1,
          0,
          2,
          0,
          0,
          0,
          0,
          2,
          3,
          4,
          3,
          0,
          0,
          0,
          0,
          0,
          0,
          0,
          0,
          0,
          0,
          0,
          2,
          0,
          0,
          0,
          0,
          0,
          0,
          0,
          0,
          1,
          0,
          4,
          3,
          1,
          0,
          0,
          0,
          0,
          0,
          0,
          0,
          0,
          1,
          0,
          0,
          0,
          0,
          0,
          1,
          1,
          1,
          1,
          0,
          1,
          0,
          0,
          0,
          2,
          0,
          1,
          0,
          0,
          3,
          0,
          1,
          1,
          0,
          0,
          0,
          0,
          1,
          0,
          0,
          5,
          3,
          0,
          0,
          0,
          0,
          0,
          0,
          0,
          0,
          0,
          0,
          0,
          0,
          0,
          0,
          3,
          1,
          1,
          1,
          0,
          1,
          0,
          0,
          0,
          1,
          0,
          0,
          0,
          1,
          2,
          4,
          0,
          2,
          0,
          0,
          0,
          0,
          0,
          0,
          0,
          0,
          0,
          5,
          2,
          1,
          0,
          3,
          2,
          3,
          0,
          2,
          2,
          1,
          0,
          1,
          0,
          1,
          0,
          0,
          0,
          0,
          0,
          0,
          0,
          0,
          2,
          2,
          1,
          1,
          0,
          0,
          0,
          0,
          4,
          2,
          5,
          0,
          3,
          1,
          1,
          0,
          1,
          0,
          0,
          2,
          5,
          2,
          2,
          1,
          0,
          1,
          0,
          0,
          0,
          0,
          0,
          0,
          0,
          0,
          0,
          0,
          0,
          0,
          0,
          0,
          1,
          0,
          0,
          0,
          0,
          0,
          1,
          2,
          2,
          0,
          0,
          0,
          0,
          1,
          0,
          0,
          0,
          0,
          0,
          0,
          0,
          0,
          0,
          0,
          0,
          0,
          0,
          0,
          0,
          0,
          0,
          0,
          1,
          0,
          0,
          0,
          0,
          0,
          0,
          2,
          1,
          1,
          0,
          0,
          1,
          0,
          5,
          3,
          1,
          0,
          2,
          0,
          0,
          0,
          1,
          0,
          1,
          0,
          0,
          0,
          0,
          0,
          0,
          0,
          1,
          0,
          0,
          0,
          0,
          0,
          0,
          0,
          0,
          0,
          0,
          0,
          0,
          0,
          0,
          0,
          1,
          1,
          1,
          0,
          4,
          5,
          0,
          6,
          3,
          3,
          0,
          0,
          0,
          0,
          0,
          0,
          0,
          2,
          1,
          0,
          0,
          1,
          0,
          0,
          1,
          0,
          0,
          0,
          0,
          0,
          1,
          2,
          0,
          1,
          0,
          0,
          1,
          0,
          0,
          0,
          6,
          1,
          6,
          3,
          5,
          1,
          0,
          2,
          0,
          3,
          2,
          0,
          6,
          0,
          0,
          0,
          1,
          2,
          3,
          1,
          3,
          0,
          0,
          0,
          2,
          2,
          2,
          3,
          0,
          1,
          2,
          0,
          0,
          0,
          0,
          0,
          1,
          2,
          1,
          2,
          1,
          0,
          1,
          0,
          0,
          0,
          0,
          0,
          0,
          0,
          0,
          1,
          1,
          2,
          1,
          1,
          0,
          0,
          0,
          0,
          0,
          1,
          2,
          2,
          2,
          1,
          1,
          0,
          7,
          1,
          0,
          1,
          0,
          1,
          0,
          0,
          0,
          0,
          0,
          2,
          0,
          0,
          0,
          0,
          0,
          0,
          1,
          3,
          6,
          0,
          3,
          1,
          2,
          2,
          2,
          2,
          0,
          0,
          0,
          1,
          0,
          0,
          0,
          0,
          0,
          0,
          0,
          0,
          0,
          0,
          3,
          6,
          1,
          0,
          1,
          0,
          1,
          1,
          0,
          0,
          0,
          0,
          0,
          0,
          0,
          0,
          0,
          0,
          0,
          2,
          0,
          0,
          0,
          0,
          0,
          0,
          0,
          5,
          1,
          2,
          1,
          0,
          0,
          2,
          0,
          2,
          2,
          0,
          0,
          0,
          0,
          0,
          0,
          0,
          0,
          1,
          2,
          3,
          4,
          3,
          0,
          0,
          0,
          0,
          0,
          1,
          0,
          0,
          1,
          1,
          1,
          1,
          3,
          1,
          0,
          0,
          0,
          0,
          0,
          0,
          1,
          0,
          1,
          1,
          0,
          2,
          0,
          2,
          0,
          0,
          0,
          0,
          0,
          0,
          0,
          0,
          0,
          0,
          3,
          1,
          1,
          0,
          0,
          0,
          0,
          2,
          0,
          0,
          0,
          0,
          0,
          3,
          0,
          2,
          1,
          0,
          0,
          0,
          0,
          2,
          0,
          0,
          0,
          0,
          0,
          0,
          0,
          1,
          0,
          0,
          0,
          0,
          0,
          0,
          0,
          0,
          1,
          1,
          1,
          1,
          0,
          0,
          1,
          0,
          0,
          0,
          1,
          0,
          0,
          0,
          0,
          0,
          0,
          0,
          0,
          1,
          1,
          1,
          0,
          0,
          0,
          0,
          1,
          0,
          0,
          0,
          1,
          0,
          0,
          0,
          0,
          0,
          0,
          3,
          0,
          0,
          0,
          0,
          0,
          0,
          0,
          2,
          1,
          0,
          1,
          0,
          1,
          0,
          0,
          0,
          1,
          0,
          0,
          0,
          0,
          0,
          0,
          0,
          0,
          2,
          1,
          2,
          10,
          8,
          4,
          2,
          0,
          1,
          0,
          1,
          0,
          0,
          2,
          0,
          2,
          3,
          0,
          0,
          0,
          1,
          0,
          0,
          0,
          0,
          0,
          0,
          1,
          1,
          2,
          0,
          1,
          2,
          2,
          3,
          0,
          2,
          5,
          4,
          5,
          4,
          5,
          0,
          2,
          0,
          0,
          0,
          0,
          0,
          1,
          0,
          1,
          0,
          0,
          0,
          0,
          1,
          1,
          0,
          0,
          0,
          0,
          0,
          1,
          0,
          0,
          0,
          0,
          0,
          0,
          0,
          0,
          0,
          0,
          0,
          0,
          0,
          2,
          0,
          3,
          4,
          10,
          3,
          2,
          4,
          1,
          4,
          1,
          2,
          0,
          1,
          0,
          0,
          1,
          0,
          1,
          1,
          0,
          0,
          1,
          0,
          0,
          0,
          0,
          0,
          2,
          2,
          0,
          0,
          0,
          1,
          0,
          0,
          0,
          0,
          0,
          0,
          1,
          0,
          0,
          0,
          0,
          0,
          0,
          0,
          0,
          1,
          0,
          0,
          0,
          0,
          0,
          0,
          1,
          2,
          0,
          0,
          0,
          0,
          0,
          0,
          0,
          2,
          0,
          1,
          1,
          2,
          2,
          2,
          4,
          2,
          3,
          1,
          0,
          0,
          0,
          0,
          1,
          1,
          0,
          1,
          2,
          0,
          0,
          0,
          0,
          0,
          0,
          0,
          0,
          0,
          0,
          0,
          0,
          0,
          2,
          1,
          3,
          0,
          0,
          0,
          0,
          0,
          0,
          0,
          1,
          0,
          0,
          0,
          2,
          0,
          0,
          0,
          0,
          0,
          0,
          0,
          0,
          0,
          0,
          0,
          0,
          0,
          5,
          0,
          0,
          0,
          0,
          0,
          4,
          0,
          1,
          0,
          0,
          0,
          2,
          2,
          1,
          0,
          0,
          0,
          5,
          3,
          0,
          1,
          0,
          0,
          0,
          0,
          3,
          1,
          0,
          0,
          1,
          0,
          0,
          0,
          0,
          0,
          0,
          0,
          0,
          0,
          1,
          0,
          0,
          1,
          0,
          0,
          0,
          0,
          0,
          0,
          0,
          1,
          0,
          0,
          3,
          0,
          2,
          3,
          0,
          0,
          0,
          2,
          0,
          0,
          0
         ],
         "xaxis": "x",
         "y": [
          0,
          5,
          3,
          3,
          1,
          1,
          1,
          1,
          0,
          0,
          3,
          0,
          2,
          1,
          1,
          1,
          0,
          0,
          0,
          2,
          0,
          0,
          2,
          0,
          0,
          0,
          1,
          2,
          2,
          4,
          0,
          0,
          1,
          5,
          2,
          2,
          3,
          0,
          0,
          0,
          1,
          0,
          0,
          0,
          0,
          1,
          3,
          0,
          1,
          0,
          1,
          5,
          0,
          2,
          2,
          0,
          0,
          2,
          4,
          2,
          2,
          2,
          1,
          3,
          0,
          0,
          0,
          0,
          0,
          0,
          0,
          0,
          3,
          0,
          2,
          2,
          1,
          3,
          0,
          0,
          1,
          2,
          0,
          2,
          0,
          2,
          1,
          3,
          2,
          2,
          3,
          2,
          4,
          2,
          3,
          1,
          0,
          1,
          1,
          1,
          2,
          0,
          0,
          0,
          0,
          0,
          2,
          1,
          1,
          2,
          1,
          1,
          2,
          3,
          3,
          0,
          0,
          4,
          0,
          2,
          0,
          0,
          5,
          0,
          0,
          1,
          1,
          3,
          1,
          1,
          2,
          1,
          1,
          2,
          1,
          1,
          1,
          0,
          0,
          1,
          0,
          0,
          1,
          0,
          0,
          0,
          0,
          0,
          3,
          0,
          6,
          1,
          3,
          2,
          2,
          0,
          1,
          0,
          0,
          0,
          0,
          0,
          0,
          0,
          3,
          1,
          0,
          0,
          0,
          0,
          0,
          0,
          0,
          0,
          0,
          0,
          0,
          1,
          0,
          0,
          3,
          0,
          0,
          0,
          2,
          0,
          1,
          0,
          0,
          0,
          0,
          0,
          0,
          0,
          0,
          0,
          2,
          0,
          1,
          1,
          3,
          1,
          3,
          1,
          0,
          2,
          5,
          3,
          1,
          2,
          3,
          0,
          0,
          1,
          2,
          3,
          3,
          3,
          0,
          0,
          1,
          3,
          1,
          1,
          1,
          0,
          1,
          0,
          0,
          1,
          4,
          2,
          1,
          2,
          0,
          0,
          0,
          0,
          0,
          0,
          2,
          1,
          1,
          1,
          1,
          0,
          0,
          0,
          0,
          2,
          1,
          0,
          2,
          4,
          4,
          2,
          0,
          2,
          0,
          0,
          0,
          0,
          0,
          0,
          0,
          0,
          0,
          0,
          1,
          0,
          0,
          2,
          0,
          2,
          0,
          1,
          0,
          0,
          8,
          2,
          1,
          0,
          2,
          0,
          2,
          0,
          1,
          1,
          0,
          0,
          0,
          1,
          0,
          2,
          0,
          1,
          2,
          0,
          0,
          2,
          2,
          1,
          0,
          0,
          1,
          1,
          0,
          2,
          0,
          0,
          1,
          0,
          1,
          0,
          0,
          0,
          0,
          0,
          1,
          0,
          0,
          0,
          0,
          0,
          1,
          0,
          1,
          0,
          0,
          0,
          0,
          0,
          0,
          1,
          3,
          1,
          3,
          3,
          0,
          2,
          0,
          0,
          0,
          3,
          1,
          1,
          0,
          0,
          0,
          0,
          0,
          1,
          0,
          0,
          0,
          0,
          1,
          0,
          4,
          5,
          1,
          0,
          3,
          1,
          1,
          2,
          1,
          1,
          2,
          2,
          3,
          5,
          2,
          1,
          0,
          0,
          0,
          1,
          0,
          1,
          0,
          0,
          0,
          0,
          0,
          0,
          0,
          0,
          0,
          0,
          2,
          0,
          0,
          0,
          0,
          1,
          0,
          0,
          0,
          1,
          1,
          4,
          0,
          0,
          0,
          0,
          0,
          0,
          0,
          0,
          1,
          4,
          3,
          1,
          0,
          0,
          2,
          3,
          1,
          1,
          0,
          4,
          0,
          0,
          0,
          0,
          1,
          0,
          0,
          0,
          0,
          1,
          0,
          1,
          0,
          0,
          0,
          2,
          2,
          4,
          1,
          6,
          2,
          2,
          4,
          3,
          0,
          0,
          0,
          0,
          3,
          1,
          0,
          0,
          3,
          0,
          2,
          0,
          0,
          1,
          1,
          2,
          2,
          3,
          2,
          0,
          1,
          1,
          1,
          2,
          3,
          5,
          1,
          0,
          3,
          1,
          0,
          1,
          3,
          5,
          3,
          2,
          1,
          0,
          0,
          1,
          0,
          0,
          0,
          0,
          0,
          0,
          0,
          0,
          2,
          3,
          2,
          3,
          1,
          3,
          0,
          0,
          0,
          0,
          1,
          0,
          0,
          0,
          0,
          1,
          0,
          0,
          1,
          0,
          0,
          1,
          0,
          1,
          0,
          0,
          2,
          0,
          0,
          0,
          0,
          0,
          0,
          1,
          0,
          0,
          0,
          0,
          1,
          0,
          2,
          1,
          1,
          0,
          0,
          0,
          0,
          0,
          0,
          0,
          0,
          3,
          1,
          0,
          0,
          0,
          2,
          0,
          0,
          0,
          0,
          0,
          0,
          1,
          0,
          0,
          0,
          1,
          1,
          0,
          1,
          0,
          0,
          1,
          0,
          0,
          0,
          0,
          0,
          1,
          1,
          0,
          0,
          0,
          0,
          0,
          0,
          1,
          0,
          0,
          2,
          1,
          1,
          0,
          2,
          0,
          0,
          3,
          2,
          0,
          0,
          0,
          0,
          0,
          0,
          0,
          0,
          0,
          1,
          5,
          2,
          0,
          0,
          0,
          2,
          0,
          0,
          0,
          1,
          0,
          0,
          0,
          0,
          0,
          0,
          0,
          0,
          1,
          0,
          1,
          2,
          0,
          0,
          2,
          5,
          1,
          2,
          6,
          3,
          3,
          4,
          2,
          2,
          0,
          1,
          0,
          0,
          0,
          0,
          0,
          0,
          0,
          0,
          1,
          0,
          0,
          0,
          1,
          0,
          0,
          0,
          0,
          0,
          0,
          1,
          1,
          0,
          0,
          0,
          1,
          0,
          0,
          0,
          0,
          0,
          0,
          0,
          0,
          0,
          1,
          0,
          0,
          0,
          0,
          0,
          2,
          0,
          1,
          0,
          0,
          0,
          0,
          0,
          0,
          0,
          0,
          0,
          1,
          1,
          0,
          4,
          3,
          7,
          4,
          4,
          1,
          2,
          2,
          0,
          0,
          0,
          1,
          0,
          4,
          1,
          1,
          3,
          0,
          0,
          0,
          1,
          2,
          1,
          2,
          1,
          0,
          0,
          0,
          0,
          0,
          0,
          0,
          0,
          0,
          0,
          0,
          0,
          1,
          0,
          4,
          3,
          0,
          0,
          1,
          0,
          5,
          0,
          3,
          2,
          2,
          0,
          1,
          1,
          1,
          0,
          1,
          2,
          1,
          2,
          0,
          0,
          2,
          2,
          2,
          4,
          1,
          1,
          4,
          1,
          0,
          0,
          0,
          0,
          0,
          0,
          1,
          0,
          0,
          1,
          1,
          0,
          0,
          0,
          2,
          0,
          1,
          0,
          0,
          0,
          0,
          1,
          0,
          0,
          0,
          0,
          0,
          0,
          0,
          0,
          0,
          0,
          0,
          0,
          0,
          0,
          0,
          0,
          0,
          0,
          0,
          0,
          0,
          0,
          1,
          0,
          1,
          0,
          0,
          0,
          0,
          1,
          0,
          0,
          0,
          0,
          0,
          1,
          0,
          0,
          3,
          0,
          0,
          0,
          0,
          0,
          2,
          1,
          0,
          0,
          1,
          0,
          1,
          1,
          0,
          0,
          1,
          0,
          1,
          0,
          1,
          2,
          1,
          0,
          1,
          1,
          1,
          1,
          0,
          0,
          3,
          0,
          0,
          0,
          0,
          0,
          0,
          1,
          0,
          1,
          0,
          1,
          0,
          1,
          1,
          1,
          0,
          0,
          0,
          0,
          0,
          0,
          0,
          1,
          0,
          1,
          0,
          0,
          0,
          0,
          3,
          3,
          0,
          0,
          0,
          0,
          3,
          2,
          0,
          0,
          0,
          0,
          3,
          2,
          1,
          0,
          0,
          1,
          0,
          2,
          1,
          0,
          1,
          1,
          0,
          0,
          1,
          0,
          0,
          1,
          0,
          0,
          1,
          0,
          0,
          1,
          2,
          0,
          2,
          3,
          0,
          1,
          0,
          0,
          5,
          0,
          3,
          0,
          0,
          0,
          0,
          0,
          0,
          1,
          1,
          1,
          0,
          2,
          1,
          0,
          0,
          0,
          0,
          0,
          0,
          0,
          0,
          0,
          0,
          0,
          0,
          0,
          0,
          0,
          0,
          1,
          1,
          0,
          0,
          0,
          0,
          0,
          0,
          0,
          0,
          0,
          1,
          4,
          2,
          2,
          4,
          0,
          2,
          0,
          0,
          0,
          0,
          0,
          0,
          1,
          0,
          0,
          0,
          0,
          0,
          0,
          0,
          0,
          0,
          0,
          1,
          1,
          0,
          0,
          0,
          2,
          2,
          0,
          0,
          0,
          0,
          0,
          0,
          0,
          0,
          0,
          0,
          0,
          0,
          0,
          0,
          0,
          0,
          0,
          0,
          0,
          0,
          0,
          0,
          0,
          3,
          0,
          3,
          0,
          0,
          0,
          2,
          2,
          2,
          1,
          4,
          3,
          4,
          1,
          3,
          1,
          4,
          0,
          2,
          0,
          0,
          3,
          0,
          1,
          0,
          0,
          0,
          0,
          0,
          0,
          0,
          0,
          0,
          0,
          1,
          1,
          5,
          1,
          4,
          2,
          0,
          0,
          2,
          2,
          1,
          0,
          0,
          2,
          0,
          0,
          0,
          0,
          0,
          0,
          0,
          0,
          1,
          1,
          1,
          3,
          5,
          2,
          3,
          1,
          0,
          0,
          1,
          0,
          0,
          0,
          0,
          3,
          4,
          3,
          3,
          2,
          0,
          0,
          0,
          0,
          0,
          0,
          0,
          0,
          0,
          2,
          0,
          0,
          0,
          0,
          0,
          0,
          0,
          0,
          0,
          1,
          4,
          3,
          1,
          0,
          0,
          0,
          0,
          0,
          0,
          0,
          0,
          1,
          0,
          0,
          0,
          0,
          1,
          1,
          1,
          1,
          1,
          0,
          1,
          0,
          0,
          0,
          2,
          0,
          1,
          0,
          0,
          0,
          1,
          1,
          1,
          0,
          0,
          0,
          0,
          0,
          0,
          1,
          0,
          3,
          0,
          0,
          0,
          0,
          0,
          0,
          0,
          0,
          0,
          0,
          0,
          0,
          0,
          0,
          1,
          1,
          1,
          1,
          0,
          1,
          0,
          0,
          0,
          1,
          0,
          0,
          0,
          1,
          2,
          1,
          0,
          2,
          0,
          0,
          0,
          0,
          0,
          0,
          0,
          0,
          0,
          0,
          2,
          1,
          0,
          3,
          2,
          3,
          4,
          0,
          5,
          0,
          1,
          1,
          0,
          1,
          0,
          0,
          0,
          0,
          0,
          0,
          0,
          0,
          2,
          2,
          1,
          1,
          1,
          0,
          0,
          0,
          0,
          2,
          5,
          0,
          3,
          1,
          1,
          0,
          1,
          0,
          1,
          0,
          5,
          2,
          2,
          1,
          0,
          1,
          3,
          0,
          0,
          0,
          0,
          0,
          0,
          0,
          0,
          0,
          0,
          0,
          0,
          0,
          1,
          1,
          0,
          0,
          0,
          0,
          0,
          0,
          2,
          3,
          0,
          0,
          0,
          0,
          0,
          0,
          0,
          0,
          0,
          0,
          0,
          0,
          0,
          0,
          0,
          0,
          0,
          1,
          0,
          0,
          0,
          0,
          1,
          0,
          0,
          0,
          0,
          0,
          0,
          2,
          1,
          1,
          0,
          2,
          1,
          0,
          5,
          3,
          1,
          4,
          0,
          0,
          0,
          0,
          0,
          0,
          1,
          0,
          0,
          0,
          0,
          0,
          0,
          0,
          1,
          0,
          0,
          0,
          0,
          0,
          0,
          1,
          0,
          0,
          0,
          0,
          0,
          0,
          0,
          0,
          0,
          1,
          1,
          0,
          0,
          5,
          0,
          6,
          3,
          3,
          2,
          0,
          0,
          0,
          0,
          0,
          0,
          0,
          1,
          0,
          0,
          1,
          0,
          0,
          1,
          0,
          0,
          0,
          0,
          0,
          1,
          2,
          0,
          1,
          0,
          0,
          1,
          0,
          0,
          0,
          0,
          1,
          6,
          3,
          5,
          1,
          0,
          0,
          0,
          3,
          2,
          0,
          6,
          1,
          0,
          0,
          1,
          2,
          3,
          1,
          3,
          2,
          0,
          0,
          2,
          2,
          2,
          3,
          0,
          1,
          3,
          0,
          0,
          1,
          0,
          0,
          0,
          2,
          0,
          2,
          1,
          0,
          1,
          1,
          0,
          0,
          0,
          0,
          1,
          0,
          0,
          0,
          1,
          2,
          1,
          1,
          3,
          2,
          0,
          0,
          0,
          0,
          2,
          2,
          2,
          1,
          0,
          0,
          7,
          1,
          1,
          0,
          0,
          0,
          0,
          0,
          0,
          0,
          0,
          0,
          0,
          0,
          0,
          0,
          0,
          0,
          0,
          3,
          6,
          3,
          3,
          1,
          2,
          2,
          3,
          2,
          0,
          0,
          0,
          1,
          0,
          1,
          0,
          0,
          0,
          0,
          0,
          1,
          0,
          1,
          3,
          6,
          1,
          1,
          0,
          0,
          1,
          1,
          0,
          3,
          2,
          0,
          0,
          0,
          0,
          0,
          0,
          0,
          0,
          0,
          0,
          0,
          0,
          0,
          0,
          0,
          0,
          1,
          1,
          2,
          1,
          0,
          0,
          2,
          0,
          2,
          2,
          3,
          0,
          0,
          0,
          0,
          0,
          0,
          0,
          0,
          2,
          3,
          4,
          3,
          3,
          0,
          0,
          0,
          0,
          0,
          0,
          0,
          1,
          1,
          0,
          1,
          3,
          1,
          0,
          2,
          0,
          0,
          0,
          0,
          0,
          0,
          1,
          1,
          0,
          1,
          1,
          2,
          1,
          0,
          0,
          2,
          0,
          0,
          0,
          0,
          0,
          0,
          1,
          0,
          1,
          0,
          0,
          0,
          0,
          0,
          0,
          0,
          0,
          0,
          0,
          0,
          0,
          2,
          1,
          2,
          0,
          0,
          0,
          2,
          1,
          0,
          0,
          0,
          0,
          0,
          0,
          1,
          0,
          0,
          0,
          0,
          0,
          0,
          0,
          0,
          0,
          1,
          1,
          1,
          0,
          0,
          0,
          0,
          0,
          0,
          0,
          0,
          0,
          0,
          0,
          0,
          0,
          0,
          0,
          0,
          1,
          1,
          0,
          0,
          0,
          0,
          0,
          0,
          0,
          0,
          1,
          0,
          0,
          0,
          0,
          0,
          0,
          3,
          0,
          0,
          2,
          0,
          0,
          0,
          0,
          0,
          0,
          0,
          0,
          0,
          1,
          0,
          0,
          0,
          1,
          0,
          0,
          1,
          0,
          0,
          0,
          0,
          0,
          2,
          1,
          2,
          1,
          8,
          4,
          2,
          2,
          0,
          0,
          1,
          0,
          0,
          2,
          0,
          2,
          0,
          0,
          0,
          0,
          0,
          0,
          0,
          0,
          1,
          0,
          0,
          1,
          1,
          2,
          0,
          1,
          0,
          2,
          3,
          0,
          4,
          5,
          4,
          5,
          7,
          5,
          0,
          2,
          4,
          0,
          1,
          0,
          0,
          0,
          0,
          1,
          0,
          0,
          0,
          0,
          0,
          1,
          1,
          0,
          0,
          0,
          0,
          1,
          0,
          0,
          1,
          0,
          0,
          0,
          0,
          0,
          0,
          0,
          0,
          0,
          0,
          0,
          0,
          0,
          4,
          10,
          1,
          1,
          4,
          1,
          1,
          1,
          2,
          3,
          0,
          0,
          0,
          0,
          0,
          1,
          1,
          0,
          0,
          0,
          0,
          0,
          0,
          0,
          0,
          2,
          2,
          0,
          0,
          0,
          1,
          0,
          1,
          0,
          0,
          0,
          0,
          1,
          0,
          0,
          0,
          0,
          0,
          0,
          0,
          0,
          1,
          0,
          0,
          0,
          0,
          0,
          0,
          1,
          2,
          0,
          0,
          1,
          0,
          0,
          0,
          0,
          0,
          0,
          1,
          1,
          2,
          2,
          2,
          4,
          1,
          3,
          1,
          2,
          0,
          0,
          3,
          1,
          0,
          0,
          0,
          2,
          1,
          0,
          0,
          0,
          0,
          0,
          0,
          3,
          0,
          0,
          0,
          0,
          0,
          2,
          2,
          3,
          3,
          0,
          1,
          0,
          0,
          0,
          0,
          1,
          1,
          0,
          0,
          0,
          0,
          0,
          0,
          0,
          0,
          0,
          0,
          0,
          0,
          0,
          0,
          0,
          0,
          5,
          1,
          0,
          0,
          0,
          0,
          0,
          0,
          3,
          0,
          0,
          0,
          2,
          0,
          1,
          0,
          0,
          0,
          0,
          3,
          5,
          0,
          0,
          2,
          0,
          0,
          0,
          1,
          0,
          0,
          0,
          1,
          0,
          0,
          0,
          0,
          0,
          0,
          0,
          0,
          0,
          0,
          0,
          0,
          3,
          0,
          1,
          2,
          1,
          0,
          0,
          0,
          0,
          1,
          0,
          9,
          0,
          4,
          2,
          0,
          0,
          0,
          1,
          0,
          1,
          0
         ],
         "yaxis": "y"
        }
       ],
       "layout": {
        "legend": {
         "tracegroupgap": 0
        },
        "margin": {
         "t": 60
        },
        "template": {
         "data": {
          "bar": [
           {
            "error_x": {
             "color": "#2a3f5f"
            },
            "error_y": {
             "color": "#2a3f5f"
            },
            "marker": {
             "line": {
              "color": "#E5ECF6",
              "width": 0.5
             },
             "pattern": {
              "fillmode": "overlay",
              "size": 10,
              "solidity": 0.2
             }
            },
            "type": "bar"
           }
          ],
          "barpolar": [
           {
            "marker": {
             "line": {
              "color": "#E5ECF6",
              "width": 0.5
             },
             "pattern": {
              "fillmode": "overlay",
              "size": 10,
              "solidity": 0.2
             }
            },
            "type": "barpolar"
           }
          ],
          "carpet": [
           {
            "aaxis": {
             "endlinecolor": "#2a3f5f",
             "gridcolor": "white",
             "linecolor": "white",
             "minorgridcolor": "white",
             "startlinecolor": "#2a3f5f"
            },
            "baxis": {
             "endlinecolor": "#2a3f5f",
             "gridcolor": "white",
             "linecolor": "white",
             "minorgridcolor": "white",
             "startlinecolor": "#2a3f5f"
            },
            "type": "carpet"
           }
          ],
          "choropleth": [
           {
            "colorbar": {
             "outlinewidth": 0,
             "ticks": ""
            },
            "type": "choropleth"
           }
          ],
          "contour": [
           {
            "colorbar": {
             "outlinewidth": 0,
             "ticks": ""
            },
            "colorscale": [
             [
              0,
              "#0d0887"
             ],
             [
              0.1111111111111111,
              "#46039f"
             ],
             [
              0.2222222222222222,
              "#7201a8"
             ],
             [
              0.3333333333333333,
              "#9c179e"
             ],
             [
              0.4444444444444444,
              "#bd3786"
             ],
             [
              0.5555555555555556,
              "#d8576b"
             ],
             [
              0.6666666666666666,
              "#ed7953"
             ],
             [
              0.7777777777777778,
              "#fb9f3a"
             ],
             [
              0.8888888888888888,
              "#fdca26"
             ],
             [
              1,
              "#f0f921"
             ]
            ],
            "type": "contour"
           }
          ],
          "contourcarpet": [
           {
            "colorbar": {
             "outlinewidth": 0,
             "ticks": ""
            },
            "type": "contourcarpet"
           }
          ],
          "heatmap": [
           {
            "colorbar": {
             "outlinewidth": 0,
             "ticks": ""
            },
            "colorscale": [
             [
              0,
              "#0d0887"
             ],
             [
              0.1111111111111111,
              "#46039f"
             ],
             [
              0.2222222222222222,
              "#7201a8"
             ],
             [
              0.3333333333333333,
              "#9c179e"
             ],
             [
              0.4444444444444444,
              "#bd3786"
             ],
             [
              0.5555555555555556,
              "#d8576b"
             ],
             [
              0.6666666666666666,
              "#ed7953"
             ],
             [
              0.7777777777777778,
              "#fb9f3a"
             ],
             [
              0.8888888888888888,
              "#fdca26"
             ],
             [
              1,
              "#f0f921"
             ]
            ],
            "type": "heatmap"
           }
          ],
          "heatmapgl": [
           {
            "colorbar": {
             "outlinewidth": 0,
             "ticks": ""
            },
            "colorscale": [
             [
              0,
              "#0d0887"
             ],
             [
              0.1111111111111111,
              "#46039f"
             ],
             [
              0.2222222222222222,
              "#7201a8"
             ],
             [
              0.3333333333333333,
              "#9c179e"
             ],
             [
              0.4444444444444444,
              "#bd3786"
             ],
             [
              0.5555555555555556,
              "#d8576b"
             ],
             [
              0.6666666666666666,
              "#ed7953"
             ],
             [
              0.7777777777777778,
              "#fb9f3a"
             ],
             [
              0.8888888888888888,
              "#fdca26"
             ],
             [
              1,
              "#f0f921"
             ]
            ],
            "type": "heatmapgl"
           }
          ],
          "histogram": [
           {
            "marker": {
             "pattern": {
              "fillmode": "overlay",
              "size": 10,
              "solidity": 0.2
             }
            },
            "type": "histogram"
           }
          ],
          "histogram2d": [
           {
            "colorbar": {
             "outlinewidth": 0,
             "ticks": ""
            },
            "colorscale": [
             [
              0,
              "#0d0887"
             ],
             [
              0.1111111111111111,
              "#46039f"
             ],
             [
              0.2222222222222222,
              "#7201a8"
             ],
             [
              0.3333333333333333,
              "#9c179e"
             ],
             [
              0.4444444444444444,
              "#bd3786"
             ],
             [
              0.5555555555555556,
              "#d8576b"
             ],
             [
              0.6666666666666666,
              "#ed7953"
             ],
             [
              0.7777777777777778,
              "#fb9f3a"
             ],
             [
              0.8888888888888888,
              "#fdca26"
             ],
             [
              1,
              "#f0f921"
             ]
            ],
            "type": "histogram2d"
           }
          ],
          "histogram2dcontour": [
           {
            "colorbar": {
             "outlinewidth": 0,
             "ticks": ""
            },
            "colorscale": [
             [
              0,
              "#0d0887"
             ],
             [
              0.1111111111111111,
              "#46039f"
             ],
             [
              0.2222222222222222,
              "#7201a8"
             ],
             [
              0.3333333333333333,
              "#9c179e"
             ],
             [
              0.4444444444444444,
              "#bd3786"
             ],
             [
              0.5555555555555556,
              "#d8576b"
             ],
             [
              0.6666666666666666,
              "#ed7953"
             ],
             [
              0.7777777777777778,
              "#fb9f3a"
             ],
             [
              0.8888888888888888,
              "#fdca26"
             ],
             [
              1,
              "#f0f921"
             ]
            ],
            "type": "histogram2dcontour"
           }
          ],
          "mesh3d": [
           {
            "colorbar": {
             "outlinewidth": 0,
             "ticks": ""
            },
            "type": "mesh3d"
           }
          ],
          "parcoords": [
           {
            "line": {
             "colorbar": {
              "outlinewidth": 0,
              "ticks": ""
             }
            },
            "type": "parcoords"
           }
          ],
          "pie": [
           {
            "automargin": true,
            "type": "pie"
           }
          ],
          "scatter": [
           {
            "fillpattern": {
             "fillmode": "overlay",
             "size": 10,
             "solidity": 0.2
            },
            "type": "scatter"
           }
          ],
          "scatter3d": [
           {
            "line": {
             "colorbar": {
              "outlinewidth": 0,
              "ticks": ""
             }
            },
            "marker": {
             "colorbar": {
              "outlinewidth": 0,
              "ticks": ""
             }
            },
            "type": "scatter3d"
           }
          ],
          "scattercarpet": [
           {
            "marker": {
             "colorbar": {
              "outlinewidth": 0,
              "ticks": ""
             }
            },
            "type": "scattercarpet"
           }
          ],
          "scattergeo": [
           {
            "marker": {
             "colorbar": {
              "outlinewidth": 0,
              "ticks": ""
             }
            },
            "type": "scattergeo"
           }
          ],
          "scattergl": [
           {
            "marker": {
             "colorbar": {
              "outlinewidth": 0,
              "ticks": ""
             }
            },
            "type": "scattergl"
           }
          ],
          "scattermapbox": [
           {
            "marker": {
             "colorbar": {
              "outlinewidth": 0,
              "ticks": ""
             }
            },
            "type": "scattermapbox"
           }
          ],
          "scatterpolar": [
           {
            "marker": {
             "colorbar": {
              "outlinewidth": 0,
              "ticks": ""
             }
            },
            "type": "scatterpolar"
           }
          ],
          "scatterpolargl": [
           {
            "marker": {
             "colorbar": {
              "outlinewidth": 0,
              "ticks": ""
             }
            },
            "type": "scatterpolargl"
           }
          ],
          "scatterternary": [
           {
            "marker": {
             "colorbar": {
              "outlinewidth": 0,
              "ticks": ""
             }
            },
            "type": "scatterternary"
           }
          ],
          "surface": [
           {
            "colorbar": {
             "outlinewidth": 0,
             "ticks": ""
            },
            "colorscale": [
             [
              0,
              "#0d0887"
             ],
             [
              0.1111111111111111,
              "#46039f"
             ],
             [
              0.2222222222222222,
              "#7201a8"
             ],
             [
              0.3333333333333333,
              "#9c179e"
             ],
             [
              0.4444444444444444,
              "#bd3786"
             ],
             [
              0.5555555555555556,
              "#d8576b"
             ],
             [
              0.6666666666666666,
              "#ed7953"
             ],
             [
              0.7777777777777778,
              "#fb9f3a"
             ],
             [
              0.8888888888888888,
              "#fdca26"
             ],
             [
              1,
              "#f0f921"
             ]
            ],
            "type": "surface"
           }
          ],
          "table": [
           {
            "cells": {
             "fill": {
              "color": "#EBF0F8"
             },
             "line": {
              "color": "white"
             }
            },
            "header": {
             "fill": {
              "color": "#C8D4E3"
             },
             "line": {
              "color": "white"
             }
            },
            "type": "table"
           }
          ]
         },
         "layout": {
          "annotationdefaults": {
           "arrowcolor": "#2a3f5f",
           "arrowhead": 0,
           "arrowwidth": 1
          },
          "autotypenumbers": "strict",
          "coloraxis": {
           "colorbar": {
            "outlinewidth": 0,
            "ticks": ""
           }
          },
          "colorscale": {
           "diverging": [
            [
             0,
             "#8e0152"
            ],
            [
             0.1,
             "#c51b7d"
            ],
            [
             0.2,
             "#de77ae"
            ],
            [
             0.3,
             "#f1b6da"
            ],
            [
             0.4,
             "#fde0ef"
            ],
            [
             0.5,
             "#f7f7f7"
            ],
            [
             0.6,
             "#e6f5d0"
            ],
            [
             0.7,
             "#b8e186"
            ],
            [
             0.8,
             "#7fbc41"
            ],
            [
             0.9,
             "#4d9221"
            ],
            [
             1,
             "#276419"
            ]
           ],
           "sequential": [
            [
             0,
             "#0d0887"
            ],
            [
             0.1111111111111111,
             "#46039f"
            ],
            [
             0.2222222222222222,
             "#7201a8"
            ],
            [
             0.3333333333333333,
             "#9c179e"
            ],
            [
             0.4444444444444444,
             "#bd3786"
            ],
            [
             0.5555555555555556,
             "#d8576b"
            ],
            [
             0.6666666666666666,
             "#ed7953"
            ],
            [
             0.7777777777777778,
             "#fb9f3a"
            ],
            [
             0.8888888888888888,
             "#fdca26"
            ],
            [
             1,
             "#f0f921"
            ]
           ],
           "sequentialminus": [
            [
             0,
             "#0d0887"
            ],
            [
             0.1111111111111111,
             "#46039f"
            ],
            [
             0.2222222222222222,
             "#7201a8"
            ],
            [
             0.3333333333333333,
             "#9c179e"
            ],
            [
             0.4444444444444444,
             "#bd3786"
            ],
            [
             0.5555555555555556,
             "#d8576b"
            ],
            [
             0.6666666666666666,
             "#ed7953"
            ],
            [
             0.7777777777777778,
             "#fb9f3a"
            ],
            [
             0.8888888888888888,
             "#fdca26"
            ],
            [
             1,
             "#f0f921"
            ]
           ]
          },
          "colorway": [
           "#636efa",
           "#EF553B",
           "#00cc96",
           "#ab63fa",
           "#FFA15A",
           "#19d3f3",
           "#FF6692",
           "#B6E880",
           "#FF97FF",
           "#FECB52"
          ],
          "font": {
           "color": "#2a3f5f"
          },
          "geo": {
           "bgcolor": "white",
           "lakecolor": "white",
           "landcolor": "#E5ECF6",
           "showlakes": true,
           "showland": true,
           "subunitcolor": "white"
          },
          "hoverlabel": {
           "align": "left"
          },
          "hovermode": "closest",
          "mapbox": {
           "style": "light"
          },
          "paper_bgcolor": "white",
          "plot_bgcolor": "#E5ECF6",
          "polar": {
           "angularaxis": {
            "gridcolor": "white",
            "linecolor": "white",
            "ticks": ""
           },
           "bgcolor": "#E5ECF6",
           "radialaxis": {
            "gridcolor": "white",
            "linecolor": "white",
            "ticks": ""
           }
          },
          "scene": {
           "xaxis": {
            "backgroundcolor": "#E5ECF6",
            "gridcolor": "white",
            "gridwidth": 2,
            "linecolor": "white",
            "showbackground": true,
            "ticks": "",
            "zerolinecolor": "white"
           },
           "yaxis": {
            "backgroundcolor": "#E5ECF6",
            "gridcolor": "white",
            "gridwidth": 2,
            "linecolor": "white",
            "showbackground": true,
            "ticks": "",
            "zerolinecolor": "white"
           },
           "zaxis": {
            "backgroundcolor": "#E5ECF6",
            "gridcolor": "white",
            "gridwidth": 2,
            "linecolor": "white",
            "showbackground": true,
            "ticks": "",
            "zerolinecolor": "white"
           }
          },
          "shapedefaults": {
           "line": {
            "color": "#2a3f5f"
           }
          },
          "ternary": {
           "aaxis": {
            "gridcolor": "white",
            "linecolor": "white",
            "ticks": ""
           },
           "baxis": {
            "gridcolor": "white",
            "linecolor": "white",
            "ticks": ""
           },
           "bgcolor": "#E5ECF6",
           "caxis": {
            "gridcolor": "white",
            "linecolor": "white",
            "ticks": ""
           }
          },
          "title": {
           "x": 0.05
          },
          "xaxis": {
           "automargin": true,
           "gridcolor": "white",
           "linecolor": "white",
           "ticks": "",
           "title": {
            "standoff": 15
           },
           "zerolinecolor": "white",
           "zerolinewidth": 2
          },
          "yaxis": {
           "automargin": true,
           "gridcolor": "white",
           "linecolor": "white",
           "ticks": "",
           "title": {
            "standoff": 15
           },
           "zerolinecolor": "white",
           "zerolinewidth": 2
          }
         }
        },
        "xaxis": {
         "anchor": "y",
         "domain": [
          0,
          1
         ],
         "title": {
          "text": "fumbles_last"
         }
        },
        "yaxis": {
         "anchor": "x",
         "domain": [
          0,
          1
         ],
         "title": {
          "text": "fumbles"
         }
        }
       }
      },
      "text/html": [
       "<div>                            <div id=\"e6c630bc-67d0-427c-8c4d-57b697de8a42\" class=\"plotly-graph-div\" style=\"height:525px; width:100%;\"></div>            <script type=\"text/javascript\">                require([\"plotly\"], function(Plotly) {                    window.PLOTLYENV=window.PLOTLYENV || {};                                    if (document.getElementById(\"e6c630bc-67d0-427c-8c4d-57b697de8a42\")) {                    Plotly.newPlot(                        \"e6c630bc-67d0-427c-8c4d-57b697de8a42\",                        [{\"customdata\":[[\"M.Hasselbeck\",2015,39.0],[\"P.Manning\",2013,37.0],[\"P.Manning\",2014,38.0],[\"T.Brady\",2013,36.0],[\"T.Brady\",2014,37.0],[\"T.Brady\",2015,38.0],[\"T.Brady\",2016,39.0],[\"T.Brady\",2017,40.0],[\"T.Brady\",2018,41.0],[\"T.Brady\",2019,42.0],[\"T.Brady\",2020,43.0],[\"T.Brady\",2021,44.0],[\"T.Brady\",2022,45.0],[\"M.Vick\",2013,33.0],[\"M.Vick\",2014,34.0],[\"M.Vick\",2015,35.0],[\"S.Moss\",2013,34.0],[\"R.Wayne\",2013,34.0],[\"D.Brees\",2013,34.0],[\"D.Brees\",2014,35.0],[\"D.Brees\",2015,36.0],[\"D.Brees\",2016,37.0],[\"D.Brees\",2017,38.0],[\"D.Brees\",2018,39.0],[\"D.Brees\",2019,40.0],[\"D.Brees\",2020,41.0],[\"J.McCown\",2014,35.0],[\"J.McCown\",2015,36.0],[\"J.McCown\",2016,37.0],[\"J.McCown\",2017,38.0],[\"C.Palmer\",2013,33.0],[\"C.Palmer\",2014,34.0],[\"C.Palmer\",2015,35.0],[\"C.Palmer\",2016,36.0],[\"C.Palmer\",2017,37.0],[\"T.Romo\",2013,33.0],[\"T.Romo\",2014,34.0],[\"N.Burleson\",2013,32.0],[\"A.Boldin\",2013,32.0],[\"A.Boldin\",2014,33.0],[\"W.McGahee\",2013,31.0],[\"V.Leach\",2013,31.0],[\"S.Jackson\",2013,30.0],[\"S.Jackson\",2014,31.0],[\"S.Jackson\",2015,32.0],[\"M.Schaub\",2013,32.0],[\"E.Manning\",2013,32.0],[\"E.Manning\",2018,37.0],[\"E.Manning\",2019,38.0],[\"G.Jones\",2013,32.0],[\"B.Roethlisberger\",2013,31.0],[\"B.Roethlisberger\",2014,32.0],[\"B.Roethlisberger\",2015,33.0],[\"B.Roethlisberger\",2016,34.0],[\"B.Roethlisberger\",2017,35.0],[\"B.Roethlisberger\",2018,36.0],[\"B.Roethlisberger\",2021,39.0],[\"P.Rivers\",2013,31.0],[\"P.Rivers\",2014,32.0],[\"P.Rivers\",2015,33.0],[\"P.Rivers\",2016,34.0],[\"P.Rivers\",2017,35.0],[\"P.Rivers\",2018,36.0],[\"P.Rivers\",2019,37.0],[\"P.Rivers\",2020,38.0],[\"J.Kuhn\",2013,30.0],[\"J.Kuhn\",2014,31.0],[\"J.Kuhn\",2015,32.0],[\"J.Kuhn\",2016,33.0],[\"J.Kuhn\",2017,34.0],[\"S.Suisham\",2013,31.0],[\"J.Cribbs\",2013,30.0],[\"A.Smith\",2013,29.0],[\"A.Smith\",2014,30.0],[\"A.Smith\",2015,31.0],[\"A.Smith\",2016,32.0],[\"A.Smith\",2017,33.0],[\"A.Smith\",2018,34.0],[\"R.Brown\",2013,31.0],[\"R.Brown\",2014,32.0],[\"A.Rodgers\",2013,29.0],[\"A.Rodgers\",2014,30.0],[\"A.Rodgers\",2015,31.0],[\"A.Rodgers\",2016,32.0],[\"A.Rodgers\",2017,33.0],[\"A.Rodgers\",2018,34.0],[\"A.Rodgers\",2019,35.0],[\"A.Rodgers\",2020,36.0],[\"A.Rodgers\",2021,37.0],[\"A.Rodgers\",2022,38.0],[\"F.Gore\",2013,30.0],[\"F.Gore\",2014,31.0],[\"F.Gore\",2015,32.0],[\"F.Gore\",2016,33.0],[\"F.Gore\",2017,34.0],[\"F.Gore\",2018,35.0],[\"F.Gore\",2019,36.0],[\"F.Gore\",2020,37.0],[\"B.Jacobs\",2013,31.0],[\"D.Sproles\",2013,30.0],[\"D.Sproles\",2014,31.0],[\"D.Sproles\",2015,32.0],[\"D.Sproles\",2016,33.0],[\"D.Sproles\",2017,34.0],[\"D.Sproles\",2018,35.0],[\"D.Sproles\",2019,36.0],[\"D.Anderson\",2014,31.0],[\"D.Anderson\",2015,32.0],[\"M.Cassel\",2013,31.0],[\"M.Cassel\",2014,32.0],[\"M.Cassel\",2015,33.0],[\"R.Fitzpatrick\",2013,30.0],[\"R.Fitzpatrick\",2014,31.0],[\"R.Fitzpatrick\",2015,32.0],[\"R.Fitzpatrick\",2016,33.0],[\"R.Fitzpatrick\",2017,34.0],[\"R.Fitzpatrick\",2018,35.0],[\"R.Fitzpatrick\",2019,36.0],[\"R.Fitzpatrick\",2020,37.0],[\"F.Jackson\",2013,32.0],[\"F.Jackson\",2014,33.0],[\"F.Jackson\",2015,34.0],[\"R.Bush\",2013,28.0],[\"R.Bush\",2014,29.0],[\"R.Bush\",2015,30.0],[\"R.Bush\",2016,31.0],[\"J.Cutler\",2013,30.0],[\"J.Cutler\",2014,31.0],[\"J.Cutler\",2015,32.0],[\"J.Cutler\",2016,33.0],[\"J.Cutler\",2017,34.0],[\"D.Williams\",2013,30.0],[\"D.Williams\",2014,31.0],[\"K.Clemens\",2013,30.0],[\"M.Jones-Drew\",2013,28.0],[\"M.Jones-Drew\",2014,29.0],[\"C.Whitehurst\",2014,32.0],[\"C.Whitehurst\",2015,33.0],[\"M.Robinson\",2013,30.0],[\"B.Smith\",2013,29.0],[\"L.Washington\",2013,31.0],[\"L.Washington\",2014,32.0],[\"D.Walker\",2016,32.0],[\"D.Walker\",2017,33.0],[\"S.Koch\",2016,34.0],[\"P.Thomas\",2013,28.0],[\"P.Thomas\",2014,29.0],[\"P.Thomas\",2015,30.0],[\"A.Peterson\",2013,28.0],[\"A.Peterson\",2014,29.0],[\"A.Peterson\",2015,30.0],[\"A.Peterson\",2016,31.0],[\"A.Peterson\",2017,32.0],[\"A.Peterson\",2018,33.0],[\"A.Peterson\",2019,34.0],[\"A.Peterson\",2020,35.0],[\"A.Peterson\",2021,36.0],[\"T.Ginn\",2013,28.0],[\"T.Ginn\",2014,29.0],[\"T.Ginn\",2015,30.0],[\"T.Ginn\",2016,31.0],[\"T.Ginn\",2017,32.0],[\"T.Ginn\",2018,33.0],[\"T.Ginn\",2019,34.0],[\"M.Lynch\",2013,27.0],[\"M.Lynch\",2014,28.0],[\"M.Lynch\",2015,29.0],[\"M.Lynch\",2018,32.0],[\"M.Lynch\",2019,33.0],[\"R.Meachem\",2013,28.0],[\"E.Weddle\",2013,28.0],[\"B.Leonard\",2013,29.0],[\"J.Jones\",2013,29.0],[\"J.Jones\",2014,30.0],[\"M.Bush\",2013,29.0],[\"D.Goldson\",2013,28.0],[\"L.McClain\",2013,28.0],[\"B.Fields\",2013,29.0],[\"J.Snelling\",2013,29.0],[\"A.Bradshaw\",2013,27.0],[\"A.Bradshaw\",2014,28.0],[\"A.Bradshaw\",2015,29.0],[\"J.Battle\",2013,29.0],[\"J.Battle\",2014,30.0],[\"B.Green-Ellis\",2013,28.0],[\"D.Reynaud\",2013,28.0],[\"D.Woodhead\",2013,28.0],[\"D.Woodhead\",2014,29.0],[\"D.Woodhead\",2015,30.0],[\"D.Woodhead\",2016,31.0],[\"D.Woodhead\",2017,32.0],[\"D.Amendola\",2013,27.0],[\"M.Tolbert\",2013,27.0],[\"M.Tolbert\",2014,28.0],[\"M.Tolbert\",2015,29.0],[\"M.Tolbert\",2016,30.0],[\"M.Tolbert\",2017,31.0],[\"J.Collins\",2014,28.0],[\"M.Ryan\",2013,28.0],[\"M.Ryan\",2014,29.0],[\"M.Ryan\",2015,30.0],[\"M.Ryan\",2016,31.0],[\"M.Ryan\",2017,32.0],[\"M.Ryan\",2018,33.0],[\"M.Ryan\",2019,34.0],[\"M.Ryan\",2020,35.0],[\"M.Ryan\",2021,36.0],[\"M.Ryan\",2022,37.0],[\"D.McFadden\",2013,26.0],[\"D.McFadden\",2014,27.0],[\"D.McFadden\",2015,28.0],[\"D.McFadden\",2016,29.0],[\"D.McFadden\",2017,30.0],[\"J.Stewart\",2013,26.0],[\"J.Stewart\",2014,27.0],[\"J.Stewart\",2015,28.0],[\"J.Stewart\",2016,29.0],[\"J.Stewart\",2017,30.0],[\"J.Stewart\",2018,31.0],[\"J.Flacco\",2013,28.0],[\"J.Flacco\",2014,29.0],[\"J.Flacco\",2015,30.0],[\"J.Flacco\",2016,31.0],[\"J.Flacco\",2017,32.0],[\"J.Flacco\",2018,33.0],[\"J.Flacco\",2019,34.0],[\"J.Flacco\",2020,35.0],[\"J.Flacco\",2021,36.0],[\"J.Flacco\",2022,37.0],[\"F.Jones\",2013,26.0],[\"R.Mendenhall\",2013,26.0],[\"C.Johnson\",2013,27.0],[\"C.Johnson\",2014,28.0],[\"C.Johnson\",2015,29.0],[\"C.Johnson\",2016,30.0],[\"C.Johnson\",2017,31.0],[\"D.Avery\",2013,29.0],[\"E.Royal\",2013,27.0],[\"E.Royal\",2014,28.0],[\"E.Royal\",2015,29.0],[\"M.Forte\",2013,27.0],[\"M.Forte\",2014,28.0],[\"M.Forte\",2015,29.0],[\"M.Forte\",2016,30.0],[\"M.Forte\",2017,31.0],[\"D.Jackson\",2013,26.0],[\"D.Jackson\",2014,27.0],[\"D.Jackson\",2018,31.0],[\"D.Jackson\",2021,34.0],[\"R.Rice\",2013,26.0],[\"C.Henne\",2013,28.0],[\"C.Henne\",2014,29.0],[\"C.Henne\",2021,36.0],[\"J.Charles\",2013,26.0],[\"J.Charles\",2014,27.0],[\"J.Charles\",2015,28.0],[\"J.Charles\",2016,29.0],[\"J.Charles\",2017,30.0],[\"J.Charles\",2018,31.0],[\"A.Caldwell\",2013,28.0],[\"T.Choice\",2013,28.0],[\"J.Felton\",2015,29.0],[\"J.Felton\",2016,30.0],[\"T.Hightower\",2016,30.0],[\"J.Johnson\",2022,36.0],[\"J.Morgan\",2013,28.0],[\"J.Morgan\",2014,29.0],[\"P.Garcon\",2013,27.0],[\"P.Hillis\",2013,27.0],[\"P.Hillis\",2014,28.0],[\"J.Forsett\",2013,27.0],[\"J.Forsett\",2014,28.0],[\"J.Forsett\",2015,29.0],[\"J.Forsett\",2016,30.0],[\"M.Reece\",2013,28.0],[\"M.Reece\",2014,29.0],[\"M.Reece\",2015,30.0],[\"M.Reece\",2016,31.0],[\"M.Stafford\",2013,25.0],[\"M.Stafford\",2014,26.0],[\"M.Stafford\",2015,27.0],[\"M.Stafford\",2016,28.0],[\"M.Stafford\",2017,29.0],[\"M.Stafford\",2018,30.0],[\"M.Stafford\",2019,31.0],[\"M.Stafford\",2020,32.0],[\"M.Stafford\",2021,33.0],[\"M.Stafford\",2022,34.0],[\"C.Daniel\",2013,26.0],[\"C.Daniel\",2014,27.0],[\"C.Daniel\",2019,32.0],[\"I.Redman\",2013,28.0],[\"M.Thigpen\",2013,27.0],[\"B.Hoyer\",2014,28.0],[\"B.Hoyer\",2015,29.0],[\"B.Hoyer\",2016,30.0],[\"B.Hoyer\",2017,31.0],[\"B.Hoyer\",2018,32.0],[\"A.Foster\",2013,27.0],[\"A.Foster\",2014,28.0],[\"A.Foster\",2015,29.0],[\"A.Foster\",2016,30.0],[\"D.Young\",2013,26.0],[\"D.Young\",2014,27.0],[\"D.Young\",2015,28.0],[\"A.Smith\",2014,28.0],[\"A.Smith\",2015,29.0],[\"A.Smith\",2016,30.0],[\"M.Sanchez\",2015,28.0],[\"S.Greene\",2013,28.0],[\"S.Greene\",2014,29.0],[\"M.Wallace\",2013,27.0],[\"M.Wallace\",2014,28.0],[\"M.Wallace\",2015,29.0],[\"M.Wallace\",2016,30.0],[\"M.Wallace\",2017,31.0],[\"F.Summers\",2014,28.0],[\"C.Peerman\",2013,26.0],[\"C.Peerman\",2014,27.0],[\"B.Scott\",2013,29.0],[\"L.Stephens-Howling\",2013,26.0],[\"D.Heyward-Bey\",2013,26.0],[\"D.Heyward-Bey\",2017,30.0],[\"D.Heyward-Bey\",2018,31.0],[\"K.Moreno\",2013,26.0],[\"K.Moreno\",2014,27.0],[\"J.Freeman\",2013,25.0],[\"J.Maclin\",2016,28.0],[\"P.Harvin\",2015,27.0],[\"P.Harvin\",2016,28.0],[\"D.Brown\",2013,26.0],[\"D.Brown\",2014,27.0],[\"D.Brown\",2015,28.0],[\"L.McCoy\",2013,25.0],[\"L.McCoy\",2014,26.0],[\"L.McCoy\",2015,27.0],[\"L.McCoy\",2016,28.0],[\"L.McCoy\",2017,29.0],[\"L.McCoy\",2018,30.0],[\"L.McCoy\",2019,31.0],[\"L.McCoy\",2020,32.0],[\"M.Goodson\",2013,26.0],[\"D.Bruton\",2014,27.0],[\"A.Brown\",2013,26.0],[\"K.Huber\",2013,28.0],[\"C.Ogbonnaya\",2013,27.0],[\"C.Ogbonnaya\",2014,28.0],[\"P.McAfee\",2016,29.0],[\"J.Edelman\",2013,27.0],[\"J.Edelman\",2014,28.0],[\"J.Edelman\",2015,29.0],[\"J.Edelman\",2016,30.0],[\"J.Edelman\",2019,33.0],[\"J.Edelman\",2020,34.0],[\"R.Jennings\",2013,28.0],[\"R.Jennings\",2014,29.0],[\"R.Jennings\",2015,30.0],[\"R.Jennings\",2016,31.0],[\"J.Bell\",2013,27.0],[\"J.Bell\",2014,28.0],[\"J.Bell\",2015,29.0],[\"J.Bell\",2016,30.0],[\"L.Blount\",2013,26.0],[\"L.Blount\",2014,27.0],[\"L.Blount\",2015,28.0],[\"L.Blount\",2016,29.0],[\"L.Blount\",2017,30.0],[\"L.Blount\",2018,31.0],[\"C.Ivory\",2013,25.0],[\"C.Ivory\",2014,26.0],[\"C.Ivory\",2015,27.0],[\"C.Ivory\",2016,28.0],[\"C.Ivory\",2017,29.0],[\"C.Ivory\",2018,30.0],[\"K.Williams\",2013,25.0],[\"D.McCluster\",2013,25.0],[\"D.McCluster\",2014,26.0],[\"D.McCluster\",2015,27.0],[\"D.McCluster\",2016,28.0],[\"J.Clausen\",2015,27.0],[\"B.LaFell\",2013,26.0],[\"B.LaFell\",2014,27.0],[\"B.LaFell\",2015,28.0],[\"B.LaFell\",2016,29.0],[\"E.Sanders\",2013,26.0],[\"E.Sanders\",2014,27.0],[\"E.Sanders\",2015,28.0],[\"E.Sanders\",2016,29.0],[\"E.Sanders\",2021,34.0],[\"C.McCoy\",2021,34.0],[\"C.McCoy\",2022,35.0],[\"A.Roberts\",2019,31.0],[\"A.Roberts\",2020,32.0],[\"A.Roberts\",2021,33.0],[\"A.Dixon\",2013,25.0],[\"A.Dixon\",2014,26.0],[\"A.Dixon\",2015,27.0],[\"J.Dwyer\",2013,24.0],[\"J.Dwyer\",2014,25.0],[\"J.Starks\",2013,27.0],[\"J.Starks\",2014,28.0],[\"J.Starks\",2015,29.0],[\"J.Starks\",2016,30.0],[\"A.Brown\",2013,25.0],[\"A.Brown\",2014,26.0],[\"A.Brown\",2015,27.0],[\"A.Brown\",2016,28.0],[\"A.Brown\",2020,32.0],[\"A.Brown\",2021,33.0],[\"S.Bradford\",2013,25.0],[\"S.Bradford\",2016,28.0],[\"C.Spiller\",2013,26.0],[\"C.Spiller\",2014,27.0],[\"C.Spiller\",2015,28.0],[\"C.Spiller\",2016,29.0],[\"C.Spiller\",2017,30.0],[\"R.Mathews\",2013,25.0],[\"R.Mathews\",2016,28.0],[\"T.Gerhart\",2013,26.0],[\"T.Gerhart\",2014,27.0],[\"T.Gerhart\",2015,28.0],[\"B.Tate\",2013,25.0],[\"B.Tate\",2014,26.0],[\"G.Tate\",2013,25.0],[\"G.Tate\",2014,26.0],[\"G.Tate\",2015,27.0],[\"G.Tate\",2016,28.0],[\"G.Tate\",2017,29.0],[\"G.Tate\",2018,30.0],[\"G.Tate\",2019,31.0],[\"D.Bryant\",2013,24.0],[\"W.Tukuafu\",2015,31.0],[\"W.Tukuafu\",2016,32.0],[\"A.Hawkins\",2013,27.0],[\"A.Hawkins\",2014,28.0],[\"J.Develin\",2014,26.0],[\"J.Develin\",2019,31.0],[\"C.Newton\",2013,24.0],[\"C.Newton\",2014,25.0],[\"C.Newton\",2015,26.0],[\"C.Newton\",2016,27.0],[\"C.Newton\",2017,28.0],[\"C.Newton\",2018,29.0],[\"C.Newton\",2019,30.0],[\"C.Newton\",2020,31.0],[\"C.Newton\",2021,32.0],[\"P.Peterson\",2013,23.0],[\"J.Jones\",2013,24.0],[\"J.Jones\",2014,25.0],[\"J.Jones\",2019,30.0],[\"J.Locker\",2013,25.0],[\"J.Locker\",2014,26.0],[\"B.Gabbert\",2013,23.0],[\"B.Gabbert\",2016,26.0],[\"B.Gabbert\",2017,27.0],[\"B.Gabbert\",2018,28.0],[\"C.Ponder\",2013,25.0],[\"C.Ponder\",2014,26.0],[\"M.Ingram\",2013,23.0],[\"M.Ingram\",2014,24.0],[\"M.Ingram\",2015,25.0],[\"M.Ingram\",2016,26.0],[\"M.Ingram\",2017,27.0],[\"M.Ingram\",2018,28.0],[\"M.Ingram\",2019,29.0],[\"M.Ingram\",2020,30.0],[\"M.Ingram\",2021,31.0],[\"M.Ingram\",2022,32.0],[\"A.Dalton\",2013,25.0],[\"A.Dalton\",2014,26.0],[\"A.Dalton\",2015,27.0],[\"A.Dalton\",2016,28.0],[\"A.Dalton\",2017,29.0],[\"A.Dalton\",2018,30.0],[\"A.Dalton\",2019,31.0],[\"A.Dalton\",2020,32.0],[\"A.Dalton\",2021,33.0],[\"A.Dalton\",2022,34.0],[\"C.Kaepernick\",2013,25.0],[\"C.Kaepernick\",2014,26.0],[\"C.Kaepernick\",2015,27.0],[\"C.Kaepernick\",2016,28.0],[\"S.Vereen\",2013,24.0],[\"S.Vereen\",2014,25.0],[\"S.Vereen\",2015,26.0],[\"S.Vereen\",2016,27.0],[\"S.Vereen\",2017,28.0],[\"M.Leshoure\",2013,23.0],[\"D.Thomas\",2013,25.0],[\"R.Cobb\",2013,23.0],[\"R.Cobb\",2014,24.0],[\"R.Cobb\",2015,25.0],[\"R.Cobb\",2016,26.0],[\"R.Cobb\",2017,27.0],[\"D.Murray\",2013,25.0],[\"D.Murray\",2014,26.0],[\"D.Murray\",2015,27.0],[\"D.Murray\",2016,28.0],[\"D.Murray\",2017,29.0],[\"S.Ridley\",2013,24.0],[\"S.Ridley\",2014,25.0],[\"S.Ridley\",2015,26.0],[\"S.Ridley\",2016,27.0],[\"S.Ridley\",2017,28.0],[\"S.Ridley\",2018,29.0],[\"R.Mallett\",2015,27.0],[\"J.Jernigan\",2013,24.0],[\"J.Jernigan\",2014,25.0],[\"A.Green\",2013,25.0],[\"R.Helu\",2013,24.0],[\"R.Helu\",2014,25.0],[\"R.Helu\",2015,26.0],[\"K.Hunter\",2013,24.0],[\"T.Jones\",2013,25.0],[\"T.Jones\",2016,28.0],[\"B.Powell\",2013,24.0],[\"B.Powell\",2014,25.0],[\"B.Powell\",2015,26.0],[\"B.Powell\",2016,27.0],[\"B.Powell\",2017,28.0],[\"B.Powell\",2018,29.0],[\"B.Powell\",2019,30.0],[\"A.Sherman\",2014,25.0],[\"A.Sherman\",2015,26.0],[\"A.Sherman\",2018,29.0],[\"A.Sherman\",2019,30.0],[\"A.Sherman\",2020,31.0],[\"J.Rodgers\",2014,24.0],[\"J.Rodgers\",2015,25.0],[\"J.Rodgers\",2016,26.0],[\"J.Rodgers\",2017,27.0],[\"J.Rodgers\",2018,28.0],[\"D.Lewis\",2016,25.0],[\"D.Lewis\",2017,26.0],[\"D.Lewis\",2018,27.0],[\"D.Lewis\",2019,28.0],[\"D.Lewis\",2020,29.0],[\"J.Kerley\",2013,24.0],[\"J.Kerley\",2014,25.0],[\"N.Paul\",2018,29.0],[\"D.Harris\",2014,26.0],[\"D.Harris\",2015,27.0],[\"E.Royster\",2013,25.0],[\"A.Robinson\",2013,24.0],[\"T.Taylor\",2013,24.0],[\"T.Taylor\",2016,27.0],[\"T.Taylor\",2017,28.0],[\"T.Taylor\",2018,29.0],[\"T.Taylor\",2019,30.0],[\"T.Taylor\",2020,31.0],[\"T.Taylor\",2021,32.0],[\"T.Taylor\",2022,33.0],[\"J.Todman\",2013,23.0],[\"J.Todman\",2014,24.0],[\"J.Todman\",2015,25.0],[\"J.Todman\",2016,26.0],[\"B.Miller\",2013,26.0],[\"B.Miller\",2014,27.0],[\"B.Miller\",2015,28.0],[\"D.Scott\",2013,25.0],[\"S.Havili\",2013,25.0],[\"M.Asiata\",2013,26.0],[\"M.Asiata\",2014,27.0],[\"M.Asiata\",2015,28.0],[\"M.Asiata\",2016,29.0],[\"S.Draughn\",2013,25.0],[\"S.Draughn\",2014,26.0],[\"S.Draughn\",2015,27.0],[\"S.Draughn\",2016,28.0],[\"C.Hogan\",2016,28.0],[\"C.Hogan\",2017,29.0],[\"J.Ross\",2014,26.0],[\"J.Ross\",2015,27.0],[\"D.Harris\",2015,26.0],[\"D.Harris\",2016,27.0],[\"D.Baldwin\",2014,25.0],[\"D.Baldwin\",2017,28.0],[\"R.Lockette\",2014,28.0],[\"P.DiMarco\",2018,29.0],[\"P.DiMarco\",2019,30.0],[\"S.Tolzien\",2016,28.0],[\"P.Tanner\",2013,25.0],[\"C.Jones\",2017,28.0],[\"A.Smith\",2013,27.0],[\"T.Pryor\",2013,24.0],[\"T.Pryor\",2016,27.0],[\"A.Davis\",2015,26.0],[\"C.Keenum\",2014,26.0],[\"C.Keenum\",2015,27.0],[\"C.Keenum\",2016,28.0],[\"C.Keenum\",2017,29.0],[\"C.Keenum\",2018,30.0],[\"C.Keenum\",2019,31.0],[\"C.Keenum\",2022,34.0],[\"L.Dunbar\",2013,23.0],[\"L.Dunbar\",2014,24.0],[\"L.Dunbar\",2015,25.0],[\"L.Dunbar\",2016,26.0],[\"L.Dunbar\",2017,27.0],[\"D.Coleman\",2018,27.0],[\"J.Gray\",2015,25.0],[\"M.King\",2017,28.0],[\"A.Jeffery\",2014,24.0],[\"A.Morris\",2013,24.0],[\"A.Morris\",2014,25.0],[\"A.Morris\",2015,26.0],[\"A.Morris\",2016,27.0],[\"A.Morris\",2017,28.0],[\"A.Morris\",2018,29.0],[\"A.Morris\",2019,30.0],[\"A.Morris\",2020,31.0],[\"M.Simms\",2014,25.0],[\"T.Cadet\",2015,26.0],[\"T.Cadet\",2016,27.0],[\"T.Cadet\",2017,28.0],[\"T.Cadet\",2018,29.0],[\"B.Bolden\",2013,23.0],[\"B.Bolden\",2014,24.0],[\"B.Bolden\",2015,25.0],[\"B.Bolden\",2016,26.0],[\"B.Bolden\",2017,27.0],[\"B.Bolden\",2018,28.0],[\"B.Bolden\",2019,29.0],[\"B.Bolden\",2022,32.0],[\"D.Wilson\",2013,22.0],[\"L.James\",2013,23.0],[\"L.James\",2014,24.0],[\"R.Wilson\",2013,24.0],[\"R.Wilson\",2014,25.0],[\"R.Wilson\",2015,26.0],[\"R.Wilson\",2016,27.0],[\"R.Wilson\",2017,28.0],[\"R.Wilson\",2018,29.0],[\"R.Wilson\",2019,30.0],[\"R.Wilson\",2020,31.0],[\"R.Wilson\",2021,32.0],[\"R.Wilson\",2022,33.0],[\"B.Pierce\",2013,22.0],[\"B.Pierce\",2014,23.0],[\"B.Pierce\",2015,24.0],[\"T.Benjamin\",2013,23.0],[\"T.Benjamin\",2014,24.0],[\"T.Benjamin\",2015,25.0],[\"T.Benjamin\",2016,26.0],[\"T.Benjamin\",2017,27.0],[\"T.Benjamin\",2018,28.0],[\"R.Turbin\",2013,23.0],[\"R.Turbin\",2014,24.0],[\"R.Turbin\",2015,25.0],[\"R.Turbin\",2016,26.0],[\"R.Turbin\",2017,27.0],[\"R.Turbin\",2018,28.0],[\"M.Jones\",2013,23.0],[\"M.Jones\",2016,26.0],[\"C.Gray\",2013,23.0],[\"C.Gray\",2014,24.0],[\"E.Baker\",2014,23.0],[\"J.Bellamy\",2017,28.0],[\"B.Rainey\",2014,26.0],[\"B.Rainey\",2015,27.0],[\"B.Rainey\",2016,28.0],[\"B.Rainey\",2017,29.0],[\"B.Brown\",2013,22.0],[\"B.Brown\",2014,23.0],[\"B.Brown\",2015,24.0],[\"D.Johnson\",2015,25.0],[\"C.Polk\",2014,24.0],[\"C.Polk\",2015,25.0],[\"J.Stewart\",2013,24.0],[\"J.Stewart\",2014,25.0],[\"J.Olawale\",2014,25.0],[\"J.Olawale\",2015,26.0],[\"J.Olawale\",2016,27.0],[\"J.Olawale\",2017,28.0],[\"J.Grimes\",2013,23.0],[\"J.Grimes\",2014,24.0],[\"J.Grimes\",2015,25.0],[\"J.Grimes\",2016,26.0],[\"V.Ballard\",2013,23.0],[\"N.Foles\",2013,24.0],[\"N.Foles\",2014,25.0],[\"N.Foles\",2015,26.0],[\"N.Foles\",2018,29.0],[\"N.Foles\",2019,30.0],[\"N.Foles\",2020,31.0],[\"N.Foles\",2021,32.0],[\"N.Foles\",2022,33.0],[\"J.Wright\",2015,25.0],[\"J.Wright\",2019,29.0],[\"R.Matthews\",2015,25.0],[\"D.Herron\",2013,24.0],[\"D.Herron\",2014,25.0],[\"D.Herron\",2015,26.0],[\"K.Cousins\",2014,26.0],[\"K.Cousins\",2015,27.0],[\"K.Cousins\",2016,28.0],[\"K.Cousins\",2017,29.0],[\"K.Cousins\",2018,30.0],[\"K.Cousins\",2019,31.0],[\"K.Cousins\",2020,32.0],[\"K.Cousins\",2021,33.0],[\"K.Cousins\",2022,34.0],[\"T.Hilton\",2013,23.0],[\"T.Hilton\",2014,24.0],[\"D.Richardson\",2013,23.0],[\"D.Martin\",2013,24.0],[\"D.Martin\",2014,25.0],[\"D.Martin\",2015,26.0],[\"D.Martin\",2016,27.0],[\"D.Martin\",2017,28.0],[\"D.Martin\",2018,29.0],[\"C.Givens\",2013,23.0],[\"C.Givens\",2014,24.0],[\"C.Givens\",2015,25.0],[\"L.Miller\",2013,22.0],[\"L.Miller\",2014,23.0],[\"L.Miller\",2015,24.0],[\"L.Miller\",2016,25.0],[\"L.Miller\",2017,26.0],[\"L.Miller\",2018,27.0],[\"J.Lane\",2015,28.0],[\"I.Pead\",2013,23.0],[\"I.Pead\",2016,26.0],[\"M.Sanu\",2013,24.0],[\"M.Sanu\",2014,25.0],[\"M.Sanu\",2015,26.0],[\"M.Sanu\",2016,27.0],[\"M.Sanu\",2017,28.0],[\"M.Sanu\",2018,29.0],[\"M.Sanu\",2019,30.0],[\"M.Sanu\",2020,31.0],[\"A.Jenkins\",2014,24.0],[\"T.Graham\",2013,24.0],[\"R.Griffin\",2013,23.0],[\"R.Griffin\",2014,24.0],[\"R.Griffin III\",2013,23.0],[\"R.Griffin III\",2014,24.0],[\"R.Griffin III\",2020,30.0],[\"A.Luck\",2013,23.0],[\"A.Luck\",2014,24.0],[\"A.Luck\",2015,25.0],[\"A.Luck\",2016,26.0],[\"T.Richardson\",2013,23.0],[\"T.Richardson\",2014,24.0],[\"B.Weeden\",2013,29.0],[\"B.Weeden\",2014,30.0],[\"B.Osweiler\",2015,24.0],[\"B.Osweiler\",2016,25.0],[\"B.Osweiler\",2017,26.0],[\"B.Osweiler\",2018,27.0],[\"R.Hillman\",2013,21.0],[\"R.Hillman\",2014,22.0],[\"R.Hillman\",2015,23.0],[\"R.Hillman\",2016,24.0],[\"D.Poe\",2016,26.0],[\"R.Tannehill\",2013,25.0],[\"R.Tannehill\",2014,26.0],[\"R.Tannehill\",2015,27.0],[\"R.Tannehill\",2016,28.0],[\"R.Tannehill\",2019,31.0],[\"R.Tannehill\",2020,32.0],[\"R.Tannehill\",2021,33.0],[\"R.Tannehill\",2022,34.0],[\"J.Blackmon\",2013,23.0],[\"K.Wright\",2015,25.0],[\"K.Wright\",2016,26.0],[\"A.Johnson\",2015,26.0],[\"F.Whittaker\",2014,25.0],[\"F.Whittaker\",2015,26.0],[\"F.Whittaker\",2016,27.0],[\"F.Whittaker\",2017,28.0],[\"B.Cunningham\",2014,24.0],[\"B.Cunningham\",2015,25.0],[\"B.Cunningham\",2016,26.0],[\"B.Cunningham\",2017,27.0],[\"B.Cunningham\",2018,28.0],[\"C.Anderson\",2014,23.0],[\"C.Anderson\",2015,24.0],[\"C.Anderson\",2016,25.0],[\"C.Anderson\",2017,26.0],[\"C.Anderson\",2018,27.0],[\"C.Anderson\",2019,28.0],[\"K.Juszczyk\",2016,25.0],[\"K.Juszczyk\",2017,26.0],[\"K.Juszczyk\",2018,27.0],[\"K.Juszczyk\",2019,28.0],[\"K.Juszczyk\",2020,29.0],[\"K.Juszczyk\",2021,30.0],[\"K.Juszczyk\",2022,31.0],[\"T.Wright\",2014,24.0],[\"Z.Line\",2016,26.0],[\"Z.Line\",2017,27.0],[\"Z.Line\",2018,28.0],[\"Z.Line\",2019,29.0],[\"A.Thielen\",2016,26.0],[\"A.Thielen\",2017,27.0],[\"A.Thielen\",2018,28.0],[\"A.Thielen\",2019,29.0],[\"A.Thielen\",2020,30.0],[\"A.Thielen\",2021,31.0],[\"A.Thielen\",2022,32.0],[\"M.Goodwin\",2014,23.0],[\"M.Goodwin\",2018,27.0],[\"M.Goodwin\",2019,28.0],[\"M.Goodwin\",2022,31.0],[\"K.Stills\",2014,22.0],[\"T.Riddick\",2014,23.0],[\"T.Riddick\",2015,24.0],[\"T.Riddick\",2016,25.0],[\"T.Riddick\",2017,26.0],[\"T.Riddick\",2018,27.0],[\"T.Bohanon\",2014,23.0],[\"T.Bohanon\",2015,24.0],[\"T.Bohanon\",2018,27.0],[\"K.Williams\",2015,24.0],[\"K.Williams\",2016,25.0],[\"K.Williams\",2017,26.0],[\"M.Cox\",2014,25.0],[\"R.Shepard\",2017,26.0],[\"G.Winn\",2015,24.0],[\"K.Allen\",2018,26.0],[\"K.Allen\",2019,27.0],[\"K.Allen\",2020,28.0],[\"K.Davis\",2014,22.0],[\"K.Davis\",2015,23.0],[\"K.Davis\",2016,24.0],[\"S.Taylor\",2014,23.0],[\"S.Taylor\",2015,24.0],[\"S.Taylor\",2016,25.0],[\"A.Ellington\",2014,25.0],[\"A.Ellington\",2015,26.0],[\"A.Ellington\",2016,27.0],[\"A.Ellington\",2017,28.0],[\"R.Burkhead\",2015,25.0],[\"R.Burkhead\",2016,26.0],[\"R.Burkhead\",2017,27.0],[\"R.Burkhead\",2018,28.0],[\"R.Burkhead\",2019,29.0],[\"R.Burkhead\",2020,30.0],[\"R.Burkhead\",2021,31.0],[\"R.Burkhead\",2022,32.0],[\"K.Robinson\",2014,24.0],[\"K.Robinson\",2015,25.0],[\"K.Robinson\",2016,26.0],[\"J.Randle\",2014,22.0],[\"J.Randle\",2015,23.0],[\"M.James\",2014,23.0],[\"C.Thompson\",2015,24.0],[\"C.Thompson\",2016,25.0],[\"C.Thompson\",2017,26.0],[\"C.Thompson\",2018,27.0],[\"C.Thompson\",2019,28.0],[\"C.Thompson\",2020,29.0],[\"S.Ware\",2016,24.0],[\"S.Ware\",2019,27.0],[\"M.McGloin\",2014,24.0],[\"R.Woods\",2016,24.0],[\"R.Woods\",2017,25.0],[\"R.Woods\",2018,26.0],[\"R.Woods\",2019,27.0],[\"R.Woods\",2020,28.0],[\"R.Woods\",2021,29.0],[\"C.Michael\",2014,23.0],[\"C.Michael\",2015,24.0],[\"C.Michael\",2016,25.0],[\"M.Gillislee\",2016,25.0],[\"M.Gillislee\",2017,26.0],[\"M.Gillislee\",2018,27.0],[\"Q.Patton\",2014,24.0],[\"Q.Patton\",2015,25.0],[\"G.Bernard\",2014,22.0],[\"G.Bernard\",2015,23.0],[\"G.Bernard\",2016,24.0],[\"G.Bernard\",2017,25.0],[\"G.Bernard\",2018,26.0],[\"G.Bernard\",2019,27.0],[\"G.Bernard\",2020,28.0],[\"G.Bernard\",2021,29.0],[\"G.Bernard\",2022,30.0],[\"K.Barner\",2016,27.0],[\"K.Barner\",2017,28.0],[\"K.Barner\",2018,29.0],[\"K.Barner\",2019,30.0],[\"E.Lacy\",2014,24.0],[\"E.Lacy\",2015,25.0],[\"E.Lacy\",2016,26.0],[\"E.Lacy\",2017,27.0],[\"L.Bell\",2014,22.0],[\"L.Bell\",2015,23.0],[\"L.Bell\",2016,24.0],[\"L.Bell\",2017,25.0],[\"L.Bell\",2020,28.0],[\"L.Bell\",2021,29.0],[\"T.Kelce\",2017,27.0],[\"T.Kelce\",2022,32.0],[\"L.Murray\",2015,25.0],[\"L.Murray\",2016,26.0],[\"L.Murray\",2017,27.0],[\"L.Murray\",2018,28.0],[\"L.Murray\",2019,29.0],[\"L.Murray\",2020,30.0],[\"L.Murray\",2021,31.0],[\"L.Murray\",2022,32.0],[\"M.Glennon\",2014,24.0],[\"M.Glennon\",2020,30.0],[\"M.Glennon\",2021,31.0],[\"M.Ball\",2014,23.0],[\"T.Austin\",2014,24.0],[\"T.Austin\",2015,25.0],[\"T.Austin\",2016,26.0],[\"T.Austin\",2017,27.0],[\"T.Austin\",2018,28.0],[\"T.Austin\",2019,29.0],[\"E.Manuel\",2014,24.0],[\"E.Manuel\",2015,25.0],[\"E.Manuel\",2016,26.0],[\"E.Manuel\",2017,27.0],[\"S.Bailey\",2014,23.0],[\"M.Barkley\",2019,28.0],[\"Z.Stacy\",2014,23.0],[\"Z.Stacy\",2015,24.0],[\"D.Robinson\",2014,23.0],[\"D.Robinson\",2015,24.0],[\"D.Robinson\",2016,25.0],[\"C.Schmidt\",2016,25.0],[\"D.Hopkins\",2019,27.0],[\"D.Hopkins\",2020,28.0],[\"G.Smith\",2014,23.0],[\"G.Smith\",2021,30.0],[\"G.Smith\",2022,31.0],[\"C.Patterson\",2014,23.0],[\"C.Patterson\",2015,24.0],[\"C.Patterson\",2016,25.0],[\"C.Patterson\",2017,26.0],[\"C.Patterson\",2018,27.0],[\"C.Patterson\",2019,28.0],[\"C.Patterson\",2020,29.0],[\"C.Patterson\",2021,30.0],[\"C.Patterson\",2022,31.0],[\"I.Crowell\",2015,22.0],[\"I.Crowell\",2016,23.0],[\"I.Crowell\",2017,24.0],[\"I.Crowell\",2018,25.0],[\"C.West\",2016,25.0],[\"C.West\",2017,26.0],[\"C.West\",2018,27.0],[\"A.Wilson\",2016,24.0],[\"A.Wilson\",2017,25.0],[\"A.Wilson\",2018,26.0],[\"A.Wilson\",2019,27.0],[\"J.Thompson\",2015,23.0],[\"J.Thompson\",2016,24.0],[\"D.Fluellen\",2018,26.0],[\"R.Nix\",2018,26.0],[\"A.Andrews\",2016,24.0],[\"Z.Tipton\",2015,26.0],[\"O.Darkwa\",2015,23.0],[\"O.Darkwa\",2016,24.0],[\"O.Darkwa\",2017,25.0],[\"D.Williams\",2015,23.0],[\"D.Williams\",2016,24.0],[\"D.Williams\",2017,25.0],[\"D.Williams\",2022,30.0],[\"K.Smith\",2019,27.0],[\"K.Smith\",2020,28.0],[\"K.Smith\",2021,29.0],[\"K.Smith\",2022,30.0],[\"M.Campanaro\",2016,25.0],[\"M.Campanaro\",2017,26.0],[\"C.Hyde\",2015,24.0],[\"C.Hyde\",2016,25.0],[\"C.Hyde\",2017,26.0],[\"C.Hyde\",2018,27.0],[\"C.Hyde\",2019,28.0],[\"C.Hyde\",2020,29.0],[\"C.Hyde\",2021,30.0],[\"J.Brown\",2018,28.0],[\"J.Brown\",2019,29.0],[\"Jo.Brown\",2016,26.0],[\"A.Williams\",2015,23.0],[\"A.Williams\",2016,24.0],[\"A.Williams\",2017,25.0],[\"K.Carey\",2015,22.0],[\"K.Carey\",2016,23.0],[\"D.Thomas\",2015,22.0],[\"D.Thomas\",2016,23.0],[\"D.Thomas\",2017,24.0],[\"D.Thomas\",2018,25.0],[\"D.Thomas\",2019,26.0],[\"J.White\",2015,23.0],[\"J.White\",2016,24.0],[\"J.White\",2017,25.0],[\"J.White\",2018,26.0],[\"J.White\",2019,27.0],[\"J.White\",2020,28.0],[\"J.White\",2021,29.0],[\"L.Taliaferro\",2015,23.0],[\"L.Taliaferro\",2016,24.0],[\"A.Blue\",2015,24.0],[\"A.Blue\",2016,25.0],[\"A.Blue\",2017,26.0],[\"A.Blue\",2018,27.0],[\"D.Fales\",2017,26.0],[\"J.Prosch\",2016,24.0],[\"K.Bibbs\",2017,24.0],[\"K.Bibbs\",2018,25.0],[\"C.Brown\",2015,23.0],[\"C.Brown\",2016,24.0],[\"S.Perry\",2020,28.0],[\"T.Gabriel\",2017,26.0],[\"T.Gabriel\",2018,27.0],[\"T.Gabriel\",2019,28.0],[\"O.Beckham\",2017,24.0],[\"O.Beckham\",2018,25.0],[\"O.Beckham\",2019,26.0],[\"O.Beckham\",2020,27.0],[\"O.Beckham\",2021,28.0],[\"B.Cooks\",2015,21.0],[\"B.Cooks\",2016,22.0],[\"B.Cooks\",2017,23.0],[\"B.Cooks\",2018,24.0],[\"B.Cooks\",2019,25.0],[\"B.Cooks\",2022,28.0],[\"T.Bridgewater\",2015,22.0],[\"T.Bridgewater\",2019,26.0],[\"T.Bridgewater\",2020,27.0],[\"T.Bridgewater\",2021,28.0],[\"P.Richardson\",2019,27.0],[\"B.Oliver\",2015,24.0],[\"D.Carr\",2015,24.0],[\"D.Carr\",2016,25.0],[\"D.Carr\",2017,26.0],[\"D.Carr\",2018,27.0],[\"D.Carr\",2019,28.0],[\"D.Carr\",2020,29.0],[\"D.Carr\",2021,30.0],[\"D.Carr\",2022,31.0],[\"D.Freeman\",2015,23.0],[\"D.Freeman\",2016,24.0],[\"D.Freeman\",2017,25.0],[\"D.Freeman\",2018,26.0],[\"D.Freeman\",2019,27.0],[\"D.Freeman\",2020,28.0],[\"D.Freeman\",2021,29.0],[\"J.Hill\",2015,22.0],[\"J.Hill\",2016,23.0],[\"J.Hill\",2017,24.0],[\"J.Hill\",2018,25.0],[\"D.Spencer\",2020,28.0],[\"S.Watkins\",2015,22.0],[\"S.Watkins\",2019,26.0],[\"S.Watkins\",2020,27.0],[\"B.Ellington\",2015,24.0],[\"B.Ellington\",2018,27.0],[\"F.Toussaint\",2015,25.0],[\"F.Toussaint\",2016,26.0],[\"F.Toussaint\",2017,27.0],[\"J.Garoppolo\",2017,25.0],[\"J.Garoppolo\",2018,26.0],[\"J.Garoppolo\",2019,27.0],[\"J.Garoppolo\",2020,28.0],[\"J.Garoppolo\",2021,29.0],[\"J.Garoppolo\",2022,30.0],[\"M.Bryant\",2015,23.0],[\"M.Bryant\",2018,26.0],[\"T.West\",2015,24.0],[\"T.West\",2016,25.0],[\"T.West\",2017,26.0],[\"J.McKinnon\",2015,23.0],[\"J.McKinnon\",2016,24.0],[\"J.McKinnon\",2017,25.0],[\"J.McKinnon\",2021,29.0],[\"J.McKinnon\",2022,30.0],[\"J.Landry\",2015,22.0],[\"J.Landry\",2016,23.0],[\"J.Landry\",2017,24.0],[\"J.Landry\",2018,25.0],[\"J.Landry\",2019,26.0],[\"J.Landry\",2020,27.0],[\"J.Landry\",2021,28.0],[\"C.Sims\",2015,24.0],[\"C.Sims\",2016,25.0],[\"T.Mason\",2015,22.0],[\"B.Bortles\",2015,23.0],[\"B.Bortles\",2016,24.0],[\"B.Bortles\",2017,25.0],[\"B.Bortles\",2018,26.0],[\"B.Bortles\",2019,27.0],[\"J.Manziel\",2015,22.0],[\"B.Sankey\",2015,22.0],[\"A.Robinson\",2020,27.0],[\"M.Lee\",2015,23.0],[\"M.Lee\",2016,24.0],[\"M.Lee\",2017,25.0],[\"J.Winston\",2016,22.0],[\"J.Winston\",2017,23.0],[\"J.Winston\",2018,24.0],[\"J.Winston\",2019,25.0],[\"J.Winston\",2022,28.0],[\"A.Cooper\",2016,22.0],[\"A.Cooper\",2017,23.0],[\"A.Cooper\",2018,24.0],[\"A.Cooper\",2019,25.0],[\"A.Cooper\",2020,26.0],[\"N.Agholor\",2017,24.0],[\"N.Agholor\",2018,25.0],[\"N.Agholor\",2019,26.0],[\"M.Williams\",2018,24.0],[\"J.Langford\",2016,24.0],[\"J.Allen\",2016,25.0],[\"J.Allen\",2017,26.0],[\"J.Allen\",2018,27.0],[\"J.Allen\",2019,28.0],[\"S.Diggs\",2016,22.0],[\"S.Diggs\",2017,23.0],[\"S.Diggs\",2018,24.0],[\"S.Diggs\",2019,25.0],[\"S.Diggs\",2020,26.0],[\"B.Hundley\",2017,24.0],[\"J.Ajayi\",2016,23.0],[\"J.Ajayi\",2017,24.0],[\"J.Ajayi\",2018,25.0],[\"J.Ajayi\",2019,26.0],[\"M.Burton\",2021,29.0],[\"M.Burton\",2022,30.0],[\"C.Artis-Payne\",2016,26.0],[\"C.Artis-Payne\",2017,27.0],[\"C.Artis-Payne\",2018,28.0],[\"D.Waller\",2019,26.0],[\"A.Ripkowski\",2017,24.0],[\"Z.Zenner\",2016,24.0],[\"Z.Zenner\",2017,25.0],[\"Z.Zenner\",2018,26.0],[\"Z.Zenner\",2019,27.0],[\"T.Ward\",2016,24.0],[\"T.Ward\",2017,25.0],[\"R.Mostert\",2017,25.0],[\"R.Mostert\",2018,26.0],[\"R.Mostert\",2019,27.0],[\"R.Mostert\",2020,28.0],[\"R.Mostert\",2021,29.0],[\"R.Mostert\",2022,30.0],[\"C.Grant\",2016,24.0],[\"C.Grant\",2017,25.0],[\"C.Grant\",2018,26.0],[\"A.Hunt\",2016,23.0],[\"A.Hunt\",2017,24.0],[\"L.Whitehead\",2016,24.0],[\"D.Carter\",2022,29.0],[\"T.Magee\",2016,23.0],[\"T.Watson\",2017,24.0],[\"T.Heinicke\",2022,29.0],[\"M.Brown\",2016,23.0],[\"M.Brown\",2017,24.0],[\"M.Brown\",2018,25.0],[\"M.Brown\",2019,26.0],[\"M.Brown\",2020,27.0],[\"M.Brown\",2021,28.0],[\"M.Brown\",2022,29.0],[\"T.Rawls\",2016,23.0],[\"T.Rawls\",2017,24.0],[\"R.Smith\",2018,26.0],[\"M.Jones\",2016,23.0],[\"M.Jones\",2017,24.0],[\"J.Crowder\",2016,23.0],[\"J.Crowder\",2017,24.0],[\"J.Crowder\",2018,25.0],[\"J.Crowder\",2019,26.0],[\"J.Crowder\",2020,27.0],[\"M.Murphy\",2018,26.0],[\"A.Humphries\",2017,24.0],[\"A.Humphries\",2018,25.0],[\"A.Humphries\",2019,26.0],[\"M.Brown\",2017,25.0],[\"B.Perriman\",2019,25.0],[\"B.Perriman\",2020,26.0],[\"B.Perriman\",2021,27.0],[\"B.Perriman\",2022,28.0],[\"T.Coleman\",2016,23.0],[\"T.Coleman\",2017,24.0],[\"T.Coleman\",2018,25.0],[\"T.Coleman\",2019,26.0],[\"T.Coleman\",2020,27.0],[\"T.Coleman\",2021,28.0],[\"T.Coleman\",2022,29.0],[\"B.Bell\",2021,30.0],[\"M.Davis\",2016,23.0],[\"M.Davis\",2017,24.0],[\"M.Davis\",2018,25.0],[\"M.Davis\",2019,26.0],[\"M.Davis\",2020,27.0],[\"M.Davis\",2021,28.0],[\"M.Davis\",2022,29.0],[\"A.Abdullah\",2016,23.0],[\"A.Abdullah\",2017,24.0],[\"A.Abdullah\",2018,25.0],[\"A.Abdullah\",2019,26.0],[\"A.Abdullah\",2020,27.0],[\"A.Abdullah\",2021,28.0],[\"A.Abdullah\",2022,29.0],[\"J.Nelson\",2016,24.0],[\"J.Nelson\",2017,25.0],[\"J.Nelson\",2018,26.0],[\"J.Fowler\",2016,26.0],[\"J.Fowler\",2017,27.0],[\"M.Gordon\",2016,23.0],[\"M.Gordon\",2017,24.0],[\"M.Gordon\",2018,25.0],[\"M.Gordon\",2019,26.0],[\"M.Gordon\",2020,27.0],[\"M.Gordon\",2021,28.0],[\"M.Gordon\",2022,29.0],[\"T.Siemian\",2022,30.0],[\"D.Johnson\",2016,24.0],[\"D.Johnson\",2019,27.0],[\"D.Johnson\",2022,30.0],[\"T.Montgomery\",2016,23.0],[\"T.Montgomery\",2017,24.0],[\"T.Montgomery\",2018,25.0],[\"T.Montgomery\",2019,26.0],[\"T.Montgomery\",2020,27.0],[\"T.Montgomery\",2021,28.0],[\"T.Montgomery\",2022,29.0],[\"P.Dorsett\",2016,23.0],[\"P.Dorsett\",2017,24.0],[\"P.Dorsett\",2018,25.0],[\"P.Dorsett\",2019,26.0],[\"T.Yeldon\",2016,22.0],[\"T.Yeldon\",2017,23.0],[\"T.Yeldon\",2018,24.0],[\"T.Yeldon\",2019,25.0],[\"T.Yeldon\",2020,26.0],[\"T.Lockett\",2016,23.0],[\"T.Lockett\",2017,24.0],[\"T.Lockett\",2018,25.0],[\"T.Lockett\",2019,26.0],[\"T.Gurley\",2016,22.0],[\"T.Gurley\",2017,23.0],[\"T.Gurley\",2018,24.0],[\"T.Gurley\",2019,25.0],[\"T.Gurley\",2020,26.0],[\"S.Mannion\",2017,25.0],[\"S.Mannion\",2018,26.0],[\"S.Mannion\",2019,27.0],[\"D.Johnson\",2018,24.0],[\"D.Johnson\",2019,25.0],[\"D.Johnson\",2022,28.0],[\"M.Mariota\",2016,22.0],[\"M.Mariota\",2017,23.0],[\"M.Mariota\",2018,24.0],[\"M.Mariota\",2019,25.0],[\"M.Mariota\",2020,26.0],[\"M.Mariota\",2021,27.0],[\"M.Mariota\",2022,28.0],[\"B.Hill\",2017,24.0],[\"C.Rogers\",2018,24.0],[\"C.Rogers\",2019,25.0],[\"R.Kelley\",2017,24.0],[\"R.Kelley\",2018,25.0],[\"J.Ferguson\",2017,24.0],[\"S.Shepard\",2017,24.0],[\"S.Shepard\",2018,25.0],[\"S.Shepard\",2019,26.0],[\"S.Shepard\",2020,27.0],[\"S.Shepard\",2021,28.0],[\"C.Prosise\",2017,23.0],[\"C.Prosise\",2018,24.0],[\"C.Prosise\",2019,25.0],[\"C.Prosise\",2020,26.0],[\"C.Moore\",2017,24.0],[\"C.Moore\",2018,25.0],[\"C.Moore\",2019,26.0],[\"T.Ervin\",2017,23.0],[\"T.Ervin\",2020,26.0],[\"P.Perkins\",2017,22.0],[\"A.Collins\",2017,23.0],[\"A.Collins\",2018,24.0],[\"A.Collins\",2021,27.0],[\"B.Allen\",2020,27.0],[\"B.Allen\",2021,28.0],[\"B.Allen\",2022,29.0],[\"J.Driskel\",2019,26.0],[\"J.Driskel\",2020,27.0],[\"D.Washington\",2017,23.0],[\"D.Washington\",2018,24.0],[\"D.Washington\",2019,25.0],[\"D.Washington\",2020,26.0],[\"D.Washington\",2021,27.0],[\"D.Washington\",2022,28.0],[\"K.Raymond\",2020,26.0],[\"K.Raymond\",2021,27.0],[\"K.Raymond\",2022,28.0],[\"A.Erickson\",2018,25.0],[\"A.Erickson\",2019,26.0],[\"A.Erickson\",2020,27.0],[\"D.Foster\",2017,23.0],[\"J.McKissic\",2017,24.0],[\"J.McKissic\",2018,25.0],[\"J.McKissic\",2019,26.0],[\"J.McKissic\",2020,27.0],[\"J.McKissic\",2021,28.0],[\"J.McKissic\",2022,29.0],[\"R.Anderson\",2017,24.0],[\"R.Anderson\",2018,25.0],[\"R.Anderson\",2021,28.0],[\"B.Treggs\",2017,23.0],[\"P.Barber\",2017,23.0],[\"P.Barber\",2018,24.0],[\"P.Barber\",2019,25.0],[\"P.Barber\",2020,26.0],[\"P.Barber\",2021,27.0],[\"D.Henry\",2017,23.0],[\"D.Henry\",2018,24.0],[\"D.Henry\",2019,25.0],[\"D.Henry\",2020,26.0],[\"D.Henry\",2021,27.0],[\"D.Henry\",2022,28.0],[\"M.Thomas\",2020,27.0],[\"J.Howard\",2019,24.0],[\"J.Howard\",2020,25.0],[\"J.Howard\",2021,26.0],[\"J.Howard\",2022,27.0],[\"W.Smallwood\",2017,23.0],[\"W.Smallwood\",2018,24.0],[\"W.Smallwood\",2019,25.0],[\"K.Hogan\",2017,24.0],[\"J.Grant\",2017,24.0],[\"J.Grant\",2018,25.0],[\"J.Grant\",2019,26.0],[\"J.Grant\",2020,27.0],[\"J.Grant\",2021,28.0],[\"C.Fejedelem\",2021,28.0],[\"C.Fejedelem\",2022,29.0],[\"E.Penny\",2018,25.0],[\"E.Penny\",2019,26.0],[\"E.Penny\",2020,27.0],[\"E.Penny\",2021,28.0],[\"T.Lewis\",2017,24.0],[\"T.Lewis\",2018,25.0],[\"D.Watt\",2017,24.0],[\"D.Watt\",2018,25.0],[\"D.Watt\",2019,26.0],[\"D.Watt\",2022,29.0],[\"C.Ham\",2018,25.0],[\"C.Ham\",2019,26.0],[\"C.Ham\",2020,27.0],[\"C.Ham\",2021,28.0],[\"C.Ham\",2022,29.0],[\"D.Washington\",2017,24.0],[\"D.Washington\",2018,25.0],[\"D.Washington\",2019,26.0],[\"D.Washington\",2020,27.0],[\"C.Wentz\",2017,24.0],[\"C.Wentz\",2018,25.0],[\"C.Wentz\",2019,26.0],[\"C.Wentz\",2020,27.0],[\"C.Wentz\",2021,28.0],[\"C.Wentz\",2022,29.0],[\"A.Janovich\",2017,24.0],[\"A.Janovich\",2018,25.0],[\"A.Janovich\",2019,26.0],[\"A.Janovich\",2020,27.0],[\"A.Janovich\",2021,28.0],[\"B.Marshall\",2017,23.0],[\"B.Marshall\",2018,24.0],[\"D.Booker\",2017,25.0],[\"D.Booker\",2018,26.0],[\"D.Booker\",2019,27.0],[\"D.Booker\",2020,28.0],[\"D.Booker\",2021,29.0],[\"J.Williams\",2019,25.0],[\"J.Williams\",2020,26.0],[\"J.Williams\",2021,27.0],[\"J.Williams\",2022,28.0],[\"T.Boyd\",2019,24.0],[\"T.Boyd\",2020,25.0],[\"T.Boyd\",2021,26.0],[\"J.Richard\",2017,23.0],[\"J.Richard\",2018,24.0],[\"J.Richard\",2019,25.0],[\"J.Richard\",2020,26.0],[\"J.Richard\",2021,27.0],[\"T.Hill\",2017,23.0],[\"T.Hill\",2018,24.0],[\"T.Hill\",2019,25.0],[\"T.Hill\",2020,26.0],[\"T.Hill\",2021,27.0],[\"T.Hill\",2022,28.0],[\"E.Elliott\",2017,22.0],[\"E.Elliott\",2018,23.0],[\"E.Elliott\",2019,24.0],[\"E.Elliott\",2020,25.0],[\"E.Elliott\",2021,26.0],[\"E.Elliott\",2022,27.0],[\"B.Miller\",2017,24.0],[\"D.Prescott\",2017,24.0],[\"D.Prescott\",2018,25.0],[\"D.Prescott\",2019,26.0],[\"D.Prescott\",2020,27.0],[\"D.Prescott\",2021,28.0],[\"D.Prescott\",2022,29.0],[\"M.Hall\",2019,26.0],[\"M.Hall\",2020,27.0],[\"J.Goff\",2017,22.0],[\"J.Goff\",2018,23.0],[\"J.Goff\",2019,24.0],[\"J.Goff\",2020,25.0],[\"J.Goff\",2021,26.0],[\"J.Goff\",2022,27.0],[\"P.Lynch\",2017,23.0],[\"P.Cooper\",2022,27.0],[\"K.Drake\",2017,23.0],[\"K.Drake\",2018,24.0],[\"K.Drake\",2019,25.0],[\"K.Drake\",2020,26.0],[\"K.Drake\",2021,27.0],[\"K.Drake\",2022,28.0],[\"J.Brissett\",2017,24.0],[\"J.Brissett\",2020,27.0],[\"J.Brissett\",2021,28.0],[\"J.Brissett\",2022,29.0],[\"T.Pope\",2020,26.0],[\"Z.Pascal\",2019,24.0],[\"Z.Pascal\",2022,27.0],[\"P.Walker\",2021,26.0],[\"P.Walker\",2022,27.0],[\"C.McCaffrey\",2018,22.0],[\"C.McCaffrey\",2019,23.0],[\"C.McCaffrey\",2020,24.0],[\"C.McCaffrey\",2021,25.0],[\"C.McCaffrey\",2022,26.0],[\"C.Samuel\",2018,22.0],[\"C.Samuel\",2019,23.0],[\"C.Samuel\",2020,24.0],[\"C.Samuel\",2021,25.0],[\"C.Samuel\",2022,26.0],[\"G.Kittle\",2019,25.0],[\"G.Kittle\",2020,26.0],[\"G.Kittle\",2021,27.0],[\"A.Jones\",2018,23.0],[\"A.Jones\",2019,24.0],[\"A.Jones\",2020,25.0],[\"A.Jones\",2021,26.0],[\"A.Jones\",2022,27.0],[\"E.McGuire\",2018,24.0],[\"A.Armah\",2019,25.0],[\"A.Armah\",2020,26.0],[\"A.Armah\",2021,27.0],[\"K.Bourne\",2022,27.0],[\"M.Breida\",2018,23.0],[\"M.Breida\",2019,24.0],[\"M.Breida\",2020,25.0],[\"M.Breida\",2021,26.0],[\"M.Breida\",2022,27.0],[\"T.Hill\",2019,29.0],[\"T.Hill\",2020,30.0],[\"T.Hill\",2021,31.0],[\"T.Hill\",2022,32.0],[\"C.Board\",2021,27.0],[\"P.Ricard\",2021,27.0],[\"P.Ricard\",2022,28.0],[\"J.Ross\",2018,22.0],[\"I.McKenzie\",2018,23.0],[\"I.McKenzie\",2019,24.0],[\"I.McKenzie\",2020,25.0],[\"I.McKenzie\",2021,26.0],[\"I.McKenzie\",2022,27.0],[\"S.Perine\",2018,22.0],[\"S.Perine\",2019,23.0],[\"S.Perine\",2020,24.0],[\"S.Perine\",2021,25.0],[\"S.Perine\",2022,26.0],[\"M.Williams\",2019,24.0],[\"M.Williams\",2020,25.0],[\"D.Watson\",2018,22.0],[\"D.Watson\",2019,23.0],[\"D.Watson\",2020,24.0],[\"J.Conner\",2018,23.0],[\"J.Conner\",2019,24.0],[\"J.Conner\",2020,25.0],[\"J.Conner\",2021,26.0],[\"J.Conner\",2022,27.0],[\"T.Cohen\",2018,23.0],[\"T.Cohen\",2019,24.0],[\"T.Cohen\",2020,25.0],[\"R.Switzer\",2018,23.0],[\"B.Hill\",2018,22.0],[\"B.Hill\",2019,23.0],[\"B.Hill\",2020,24.0],[\"J.Agnew\",2018,23.0],[\"J.Agnew\",2019,24.0],[\"J.Agnew\",2020,25.0],[\"J.Agnew\",2021,26.0],[\"J.Agnew\",2022,27.0],[\"D.Henderson\",2018,25.0],[\"D.Moore\",2019,24.0],[\"D.Moore\",2020,25.0],[\"C.Carson\",2018,23.0],[\"C.Carson\",2019,24.0],[\"C.Carson\",2020,25.0],[\"C.Carson\",2021,26.0],[\"C.Rush\",2022,28.0],[\"A.Ekeler\",2018,23.0],[\"A.Ekeler\",2019,24.0],[\"A.Ekeler\",2020,25.0],[\"A.Ekeler\",2021,26.0],[\"A.Ekeler\",2022,27.0],[\"C.Clement\",2018,23.0],[\"C.Clement\",2021,26.0],[\"C.Clement\",2022,27.0],[\"G.Ward\",2020,25.0],[\"J.Davis\",2018,22.0],[\"T.Logan\",2019,24.0],[\"D.Westbrook\",2019,25.0],[\"D.Ogunbowale\",2020,26.0],[\"D.Ogunbowale\",2021,27.0],[\"D.Ogunbowale\",2022,28.0],[\"L.Fournette\",2018,23.0],[\"L.Fournette\",2019,24.0],[\"L.Fournette\",2020,25.0],[\"L.Fournette\",2021,26.0],[\"L.Fournette\",2022,27.0],[\"J.Smith\",2020,25.0],[\"J.Smith\",2021,26.0],[\"J.Smith\",2022,27.0],[\"M.Trubisky\",2018,24.0],[\"M.Trubisky\",2019,25.0],[\"M.Trubisky\",2020,26.0],[\"M.Trubisky\",2021,27.0],[\"M.Trubisky\",2022,28.0],[\"P.Mahomes\",2018,22.0],[\"P.Mahomes\",2019,23.0],[\"P.Mahomes\",2020,24.0],[\"P.Mahomes\",2021,25.0],[\"P.Mahomes\",2022,26.0],[\"E.Engram\",2018,23.0],[\"E.Engram\",2019,24.0],[\"E.Engram\",2020,25.0],[\"E.Engram\",2021,26.0],[\"E.Engram\",2022,27.0],[\"D.Njoku\",2022,26.0],[\"Z.Jones\",2019,24.0],[\"Z.Jones\",2022,27.0],[\"D.Cook\",2018,23.0],[\"D.Cook\",2019,24.0],[\"D.Cook\",2020,25.0],[\"D.Cook\",2021,26.0],[\"D.Cook\",2022,27.0],[\"G.Everett\",2018,24.0],[\"G.Everett\",2019,25.0],[\"G.Everett\",2020,26.0],[\"G.Everett\",2021,27.0],[\"G.Everett\",2022,28.0],[\"J.Mixon\",2018,22.0],[\"J.Mixon\",2019,23.0],[\"J.Mixon\",2020,24.0],[\"J.Mixon\",2021,25.0],[\"J.Mixon\",2022,26.0],[\"A.Kamara\",2018,23.0],[\"A.Kamara\",2019,24.0],[\"A.Kamara\",2020,25.0],[\"A.Kamara\",2021,26.0],[\"A.Kamara\",2022,27.0],[\"C.Kupp\",2019,26.0],[\"C.Kupp\",2020,27.0],[\"C.Kupp\",2021,28.0],[\"C.Kupp\",2022,29.0],[\"C.Godwin\",2022,26.0],[\"K.Hunt\",2018,23.0],[\"K.Hunt\",2019,24.0],[\"K.Hunt\",2020,25.0],[\"K.Hunt\",2021,26.0],[\"K.Hunt\",2022,27.0],[\"D.Foreman\",2018,22.0],[\"D.Foreman\",2021,25.0],[\"D.Foreman\",2022,26.0],[\"K.Golladay\",2018,24.0],[\"C.Williams\",2018,23.0],[\"C.Beathard\",2018,24.0],[\"C.Beathard\",2021,27.0],[\"J.Reynolds\",2019,24.0],[\"J.Reynolds\",2020,25.0],[\"J.Williams\",2018,23.0],[\"J.Williams\",2019,24.0],[\"J.Williams\",2020,25.0],[\"J.Williams\",2021,26.0],[\"W.Gallman\",2018,23.0],[\"M.Mack\",2018,22.0],[\"M.Mack\",2019,23.0],[\"M.Mack\",2020,24.0],[\"M.Mack\",2021,25.0],[\"M.Mack\",2022,26.0],[\"J.McNichols\",2021,25.0],[\"N.Peterman\",2018,24.0],[\"C.Sims\",2021,25.0],[\"P.Lindsay\",2019,25.0],[\"P.Lindsay\",2020,26.0],[\"P.Lindsay\",2021,27.0],[\"P.Lindsay\",2022,28.0],[\"J.Wilson\",2019,23.0],[\"J.Wilson\",2020,24.0],[\"J.Wilson\",2021,25.0],[\"J.Wilson\",2022,26.0],[\"T.Cannon\",2021,27.0],[\"J.Cabinda\",2021,25.0],[\"J.Cabinda\",2022,26.0],[\"G.Edwards\",2019,24.0],[\"G.Edwards\",2020,25.0],[\"D.Turner\",2019,24.0],[\"M.Boone\",2019,24.0],[\"M.Boone\",2020,25.0],[\"M.Boone\",2021,26.0],[\"M.Boone\",2022,27.0],[\"D.Hilliard\",2020,25.0],[\"D.Hilliard\",2021,26.0],[\"D.Hilliard\",2022,27.0],[\"M.Valdes-Scantling\",2019,24.0],[\"M.Valdes-Scantling\",2020,25.0],[\"St. Brown\",2021,24.0],[\"St. Brown\",2022,25.0],[\"J.Samuels\",2019,23.0],[\"J.Samuels\",2020,24.0],[\"J.Samuels\",2021,25.0],[\"C.Sutton\",2019,23.0],[\"K.Johnson\",2019,22.0],[\"K.Johnson\",2020,23.0],[\"A.Miller\",2019,24.0],[\"A.Miller\",2020,25.0],[\"J.Akins\",2021,29.0],[\"K.Coutee\",2019,22.0],[\"N.Hines\",2019,22.0],[\"N.Hines\",2020,23.0],[\"N.Hines\",2021,24.0],[\"N.Hines\",2022,25.0],[\"I.Smith\",2019,23.0],[\"I.Smith\",2020,24.0],[\"I.Smith\",2021,25.0],[\"J.Wilkins\",2019,25.0],[\"J.Wilkins\",2020,26.0],[\"M.White\",2022,27.0],[\"R.McCloud\",2021,24.0],[\"R.McCloud\",2022,25.0],[\"R.Gage\",2020,24.0],[\"B.Scott\",2020,25.0],[\"B.Scott\",2021,26.0],[\"B.Scott\",2022,27.0],[\"C.Wilson\",2021,25.0],[\"C.Wilson\",2022,26.0],[\"B.Berrios\",2021,25.0],[\"B.Berrios\",2022,26.0],[\"B.Scarbrough\",2020,23.0],[\"J.Jackson\",2019,23.0],[\"J.Jackson\",2020,24.0],[\"J.Jackson\",2021,25.0],[\"J.Jackson\",2022,26.0],[\"B.Howell\",2021,25.0],[\"S.Chandler\",2022,26.0],[\"A.Lazard\",2020,24.0],[\"A.Lazard\",2021,25.0],[\"A.Lazard\",2022,26.0],[\"K.Allen\",2019,23.0],[\"K.Allen\",2020,24.0],[\"K.Allen\",2021,25.0],[\"K.Allen\",2022,26.0],[\"R.Bonnafon\",2020,24.0],[\"R.Bonnafon\",2021,25.0],[\"R.Bonnafon\",2022,26.0],[\"R.Nall\",2020,24.0],[\"R.Nall\",2021,25.0],[\"G.Igwebuike\",2022,27.0],[\"C.Batson\",2021,25.0],[\"M.Walton\",2019,22.0],[\"C.Edmonds\",2019,23.0],[\"C.Edmonds\",2020,24.0],[\"C.Edmonds\",2021,25.0],[\"C.Edmonds\",2022,26.0],[\"D.Leavitt\",2022,28.0],[\"R.Penny\",2019,23.0],[\"R.Penny\",2020,24.0],[\"R.Penny\",2021,25.0],[\"R.Penny\",2022,26.0],[\"M.Andrews\",2022,26.0],[\"C.Kirk\",2019,22.0],[\"C.Kirk\",2020,23.0],[\"C.Kirk\",2021,24.0],[\"C.Kirk\",2022,25.0],[\"N.Chubb\",2019,23.0],[\"N.Chubb\",2020,24.0],[\"N.Chubb\",2021,25.0],[\"N.Chubb\",2022,26.0],[\"L.Jackson\",2019,22.0],[\"L.Jackson\",2020,23.0],[\"L.Jackson\",2021,24.0],[\"L.Jackson\",2022,25.0],[\"D.Smythe\",2022,27.0],[\"K.Ballage\",2019,23.0],[\"K.Ballage\",2020,24.0],[\"K.Ballage\",2021,25.0],[\"J.Kelly\",2019,22.0],[\"R.Jones\",2019,22.0],[\"R.Jones\",2020,23.0],[\"R.Jones\",2021,24.0],[\"R.Jones\",2022,25.0],[\"D.Moore\",2019,22.0],[\"D.Moore\",2020,23.0],[\"C.Ridley\",2019,24.0],[\"C.Ridley\",2020,25.0],[\"R.Freeman\",2019,23.0],[\"R.Freeman\",2020,24.0],[\"R.Freeman\",2021,25.0],[\"R.Freeman\",2022,26.0],[\"S.Barkley\",2019,22.0],[\"S.Barkley\",2020,23.0],[\"S.Barkley\",2021,24.0],[\"S.Barkley\",2022,25.0],[\"S.Michel\",2019,24.0],[\"S.Michel\",2020,25.0],[\"S.Michel\",2021,26.0],[\"S.Michel\",2022,27.0],[\"B.Mayfield\",2019,24.0],[\"B.Mayfield\",2020,25.0],[\"B.Mayfield\",2021,26.0],[\"B.Mayfield\",2022,27.0],[\"J.Allen\",2019,23.0],[\"J.Allen\",2020,24.0],[\"J.Allen\",2021,25.0],[\"J.Allen\",2022,26.0],[\"S.Darnold\",2019,22.0],[\"S.Darnold\",2020,23.0],[\"S.Darnold\",2021,24.0],[\"S.Darnold\",2022,25.0],[\"J.Wolford\",2021,25.0],[\"J.Wolford\",2022,26.0],[\"S.Sims\",2020,23.0],[\"J.Meyers\",2021,24.0],[\"J.Meyers\",2022,25.0],[\"A.Mattison\",2020,22.0],[\"A.Mattison\",2021,23.0],[\"A.Mattison\",2022,24.0],[\"J.Hill\",2020,22.0],[\"D.Williams\",2020,23.0],[\"A.Dulin\",2021,24.0],[\"A.Dulin\",2022,25.0],[\"J.Gillan\",2021,24.0],[\"J.Gillan\",2022,25.0],[\"A.Ingold\",2020,24.0],[\"A.Ingold\",2021,25.0],[\"A.Ingold\",2022,26.0],[\"M.Hardman\",2020,22.0],[\"M.Hardman\",2021,23.0],[\"M.Hardman\",2022,24.0],[\"T.McSorley\",2020,25.0],[\"D.Thompson\",2020,23.0],[\"D.Ozigbo\",2020,23.0],[\"D.Ozigbo\",2021,24.0],[\"D.Ozigbo\",2022,25.0],[\"A.Walter\",2021,25.0],[\"O.Zaccheaus\",2021,24.0],[\"O.Zaccheaus\",2022,25.0],[\"D.Harris\",2020,22.0],[\"D.Harris\",2021,23.0],[\"D.Johnson\",2020,24.0],[\"D.Johnson\",2021,25.0],[\"D.Johnson\",2022,26.0],[\"B.Snell\",2021,23.0],[\"B.Snell\",2022,24.0],[\"K.Murray\",2020,23.0],[\"K.Murray\",2021,24.0],[\"K.Murray\",2022,25.0],[\"D.Haskins\",2020,23.0],[\"M.Sanders\",2020,23.0],[\"M.Sanders\",2021,24.0],[\"M.Sanders\",2022,25.0],[\"D.Singletary\",2020,22.0],[\"D.Singletary\",2021,23.0],[\"D.Singletary\",2022,24.0],[\"T.Wesco\",2020,24.0],[\"T.Pollard\",2020,23.0],[\"T.Pollard\",2021,24.0],[\"T.Pollard\",2022,25.0],[\"Q.Ollison\",2020,23.0],[\"Q.Ollison\",2021,24.0],[\"G.Minshew\",2020,24.0],[\"G.Minshew II\",2020,24.0],[\"G.Minshew II\",2021,25.0],[\"G.Minshew II\",2022,26.0],[\"T.Williams\",2021,23.0],[\"T.Williams\",2022,24.0],[\"S.Miller\",2020,23.0],[\"S.Miller\",2021,24.0],[\"S.Miller\",2022,25.0],[\"M.Gaskin\",2020,23.0],[\"M.Gaskin\",2021,24.0],[\"M.Gaskin\",2022,25.0],[\"C.Moore\",2021,25.0],[\"C.Moore\",2022,26.0],[\"P.Laird\",2020,25.0],[\"P.Laird\",2021,26.0],[\"J.Guyton\",2021,24.0],[\"G.Dortch\",2022,24.0],[\"A.Isabella\",2020,23.0],[\"D.Slayton\",2021,24.0],[\"T.Johnson\",2020,22.0],[\"T.Johnson\",2021,23.0],[\"T.Johnson\",2022,24.0],[\"T.Brooks-James\",2020,25.0],[\"C.Reynolds\",2021,25.0],[\"C.Reynolds\",2022,26.0],[\"T.Homer\",2020,22.0],[\"T.Homer\",2021,23.0],[\"T.Homer\",2022,24.0],[\"N.Harry\",2020,22.0],[\"D.Johnson\",2020,24.0],[\"D.Johnson\",2021,25.0],[\"D.Johnson\",2022,26.0],[\"P.Campbell\",2020,23.0],[\"G.Olszewski\",2021,24.0],[\"G.Olszewski\",2022,25.0],[\"R.Finley\",2020,25.0],[\"D.Harris\",2020,23.0],[\"D.Harris\",2021,24.0],[\"D.Harris\",2022,25.0],[\"T.McLaurin\",2021,25.0],[\"T.McLaurin\",2022,26.0],[\"M.Brown\",2021,24.0],[\"M.Brown\",2022,25.0],[\"D.Henderson\",2020,23.0],[\"D.Henderson\",2021,24.0],[\"D.Henderson\",2022,25.0],[\"D.Montgomery\",2020,23.0],[\"D.Montgomery\",2021,24.0],[\"D.Montgomery\",2022,25.0],[\"J.Jacobs\",2020,22.0],[\"J.Jacobs\",2021,23.0],[\"J.Jacobs\",2022,24.0],[\"D.Lock\",2020,23.0],[\"D.Lock\",2021,24.0],[\"D.Jones\",2020,23.0],[\"D.Jones\",2021,24.0],[\"D.Jones\",2022,25.0],[\"D.Samuel\",2020,24.0],[\"D.Samuel\",2021,25.0],[\"D.Samuel\",2022,26.0],[\"C.Streveler\",2021,26.0],[\"C.Streveler\",2022,27.0],[\"J.Hasty\",2021,24.0],[\"J.Hasty\",2022,25.0],[\"J.Robinson\",2021,23.0],[\"J.Robinson\",2022,24.0],[\"T.Jones\",2021,23.0],[\"T.Jones\",2022,24.0],[\"G.Nabers\",2021,23.0],[\"J.Ward\",2022,24.0],[\"P.Taylor\",2022,24.0],[\"T.Huntley\",2021,23.0],[\"T.Huntley\",2022,24.0],[\"S.Ahmed\",2021,22.0],[\"S.Ahmed\",2022,23.0],[\"S.Phillips\",2021,23.0],[\"J.Taylor\",2021,23.0],[\"J.Taylor\",2022,24.0],[\"T.Tagovailoa\",2021,23.0],[\"T.Tagovailoa\",2022,24.0],[\"J.Taylor\",2021,22.0],[\"J.Taylor\",2022,23.0],[\"Z.Moss\",2021,23.0],[\"Z.Moss\",2022,24.0],[\"M.Pittman\",2021,23.0],[\"M.Pittman\",2022,24.0],[\"B.Aiyuk\",2021,23.0],[\"B.Aiyuk\",2022,24.0],[\"A.Dillon\",2021,23.0],[\"A.Dillon\",2022,24.0],[\"L.Shenault\",2022,23.0],[\"L.Perine\",2021,23.0],[\"Q.Watkins\",2022,24.0],[\"D.Swift\",2021,22.0],[\"D.Swift\",2022,23.0],[\"J.Huntley\",2021,23.0],[\"C.Kmet\",2021,22.0],[\"C.Kmet\",2022,23.0],[\"D.Evans\",2021,23.0],[\"D.Evans\",2022,24.0],[\"D.Mooney\",2021,23.0],[\"D.Mooney\",2022,24.0],[\"J.Jefferson\",2021,22.0],[\"J.Jefferson\",2022,23.0],[\"C.Claypool\",2021,23.0],[\"C.Claypool\",2022,24.0],[\"A.Gibson\",2021,23.0],[\"A.Gibson\",2022,24.0],[\"D.Duvernay\",2021,23.0],[\"D.Duvernay\",2022,24.0],[\"A.McFarland\",2021,22.0],[\"A.McFarland\",2022,23.0],[\"K.Osborn\",2022,25.0],[\"J.Herbert\",2021,23.0],[\"J.Herbert\",2022,24.0],[\"H.Ruggs\",2021,22.0],[\"C.Lamb\",2021,22.0],[\"C.Lamb\",2022,23.0],[\"C.Edwards-Helaire\",2021,22.0],[\"C.Edwards-Helaire\",2022,23.0],[\"J.Kelley\",2021,23.0],[\"J.Kelley\",2022,24.0],[\"E.Benjamin\",2022,23.0],[\"J.Reagor\",2021,22.0],[\"J.Reagor\",2022,23.0],[\"J.Hurts\",2021,23.0],[\"J.Hurts\",2022,24.0],[\"J.Jeudy\",2022,23.0],[\"C.Akers\",2021,22.0],[\"C.Akers\",2022,23.0],[\"V.Jefferson\",2021,25.0],[\"D.Dallas\",2021,22.0],[\"D.Dallas\",2022,23.0],[\"J.Burrow\",2021,24.0],[\"J.Burrow\",2022,25.0],[\"K.Vaughn\",2021,24.0],[\"K.Vaughn\",2022,25.0],[\"C.Hubbard\",2022,23.0],[\"E.Mitchell\",2022,24.0],[\"G.Brightwell\",2022,24.0],[\"J.Waddle\",2022,23.0],[\"D.Eskridge\",2022,25.0],[\"D.Brown\",2022,22.0],[\"L.Rountree\",2022,23.0],[\"D.Felton\",2022,24.0],[\"K.Hill\",2022,24.0],[\"A.Prentice\",2022,25.0],[\"J.Patterson\",2022,22.0],[\"F.Franks\",2022,24.0],[\"K.Nwangwu\",2022,24.0],[\"R.Stevenson\",2022,24.0],[\"J.Darden\",2022,23.0],[\"S.Ehlinger\",2022,23.0],[\"N.Harris\",2022,24.0],[\"D.Mills\",2022,23.0],[\"J.Chase\",2022,22.0],[\"K.Herbert\",2022,24.0],[\"K.Toney\",2022,23.0],[\"K.Gainwell\",2022,23.0],[\"Mi.Carter\",2022,23.0],[\"R.Moore\",2022,22.0],[\"J.Fields\",2022,23.0],[\"St. Brown\",2022,22.0],[\"T.Lawrence\",2022,22.0],[\"M.Jones\",2022,23.0],[\"E.Moore\",2022,22.0],[\"T.Sermon\",2022,23.0],[\"J.Palmer\",2022,22.0],[\"J.Williams\",2022,22.0],[\"A.Schwartz\",2022,21.0],[\"T.Lance\",2022,22.0],[\"Z.Wilson\",2022,23.0]],\"hovertemplate\":\"fumbles_last=%{x}\\u003cbr\\u003efumbles=%{y}\\u003cbr\\u003erusher=%{customdata[0]}\\u003cbr\\u003eseason=%{customdata[1]}\\u003cbr\\u003eage=%{customdata[2]}\\u003cextra\\u003e\\u003c\\u002fextra\\u003e\",\"legendgroup\":\"\",\"marker\":{\"color\":\"#636efa\",\"symbol\":\"circle\"},\"mode\":\"markers\",\"name\":\"\",\"showlegend\":false,\"x\":[0.0,0.0,5.0,1.0,3.0,1.0,1.0,1.0,1.0,0.0,0.0,3.0,0.0,5.0,1.0,1.0,0.0,0.0,0.0,0.0,2.0,0.0,0.0,2.0,0.0,0.0,1.0,1.0,2.0,2.0,2.0,0.0,0.0,1.0,5.0,3.0,2.0,0.0,0.0,0.0,5.0,0.0,0.0,0.0,0.0,1.0,1.0,1.0,0.0,0.0,1.0,1.0,5.0,0.0,2.0,2.0,3.0,2.0,2.0,4.0,2.0,2.0,2.0,1.0,3.0,0.0,0.0,0.0,0.0,0.0,0.0,1.0,1.0,3.0,0.0,2.0,2.0,1.0,0.0,0.0,0.0,1.0,2.0,0.0,2.0,0.0,2.0,1.0,3.0,2.0,2.0,3.0,2.0,4.0,2.0,3.0,1.0,0.0,0.0,0.0,1.0,2.0,0.0,0.0,0.0,0.0,0.0,2.0,3.0,1.0,2.0,0.0,1.0,2.0,3.0,3.0,0.0,0.0,4.0,4.0,2.0,0.0,4.0,5.0,0.0,0.0,1.0,1.0,3.0,1.0,1.0,2.0,1.0,1.0,1.0,1.0,0.0,1.0,0.0,1.0,0.0,0.0,0.0,1.0,0.0,0.0,0.0,0.0,3.0,3.0,0.0,6.0,1.0,3.0,2.0,2.0,0.0,0.0,0.0,0.0,0.0,0.0,0.0,0.0,4.0,3.0,1.0,1.0,0.0,0.0,0.0,0.0,0.0,0.0,1.0,0.0,0.0,1.0,0.0,3.0,0.0,3.0,0.0,0.0,3.0,0.0,0.0,1.0,0.0,0.0,0.0,0.0,0.0,0.0,0.0,0.0,0.0,0.0,1.0,1.0,1.0,3.0,1.0,3.0,1.0,0.0,2.0,5.0,1.0,1.0,2.0,3.0,0.0,1.0,1.0,2.0,3.0,3.0,3.0,3.0,0.0,1.0,3.0,1.0,1.0,1.0,0.0,1.0,0.0,1.0,3.0,3.0,2.0,1.0,2.0,0.0,0.0,0.0,0.0,0.0,2.0,2.0,1.0,1.0,1.0,0.0,0.0,0.0,0.0,1.0,2.0,1.0,2.0,5.0,4.0,4.0,2.0,0.0,2.0,0.0,0.0,0.0,0.0,0.0,2.0,0.0,0.0,0.0,2.0,1.0,0.0,0.0,2.0,0.0,1.0,0.0,1.0,0.0,3.0,8.0,2.0,1.0,0.0,2.0,0.0,2.0,0.0,1.0,0.0,0.0,3.0,2.0,0.0,0.0,2.0,0.0,1.0,2.0,3.0,0.0,2.0,2.0,0.0,0.0,0.0,0.0,1.0,0.0,4.0,3.0,0.0,0.0,0.0,1.0,0.0,0.0,0.0,0.0,0.0,0.0,0.0,0.0,0.0,0.0,1.0,1.0,2.0,0.0,0.0,0.0,0.0,0.0,0.0,4.0,1.0,3.0,1.0,3.0,3.0,0.0,2.0,0.0,0.0,0.0,0.0,0.0,1.0,0.0,1.0,0.0,0.0,0.0,0.0,0.0,3.0,0.0,0.0,1.0,1.0,4.0,5.0,1.0,0.0,3.0,1.0,1.0,2.0,1.0,0.0,2.0,2.0,3.0,5.0,2.0,0.0,0.0,0.0,0.0,1.0,0.0,0.0,0.0,0.0,0.0,0.0,0.0,0.0,0.0,0.0,0.0,0.0,0.0,0.0,0.0,0.0,0.0,1.0,2.0,0.0,1.0,1.0,1.0,4.0,0.0,0.0,0.0,0.0,0.0,0.0,2.0,4.0,2.0,4.0,3.0,1.0,0.0,2.0,3.0,2.0,1.0,1.0,1.0,4.0,0.0,0.0,0.0,0.0,1.0,0.0,0.0,0.0,0.0,1.0,0.0,1.0,0.0,0.0,3.0,2.0,2.0,4.0,1.0,6.0,2.0,2.0,4.0,0.0,0.0,0.0,0.0,1.0,3.0,1.0,2.0,0.0,3.0,2.0,2.0,0.0,0.0,1.0,1.0,2.0,2.0,3.0,2.0,0.0,1.0,0.0,1.0,2.0,3.0,5.0,1.0,0.0,3.0,1.0,0.0,7.0,3.0,5.0,3.0,0.0,1.0,0.0,0.0,1.0,3.0,3.0,0.0,0.0,0.0,0.0,0.0,2.0,2.0,3.0,2.0,3.0,4.0,3.0,0.0,0.0,0.0,0.0,0.0,0.0,0.0,0.0,0.0,1.0,0.0,0.0,0.0,2.0,0.0,1.0,0.0,1.0,0.0,0.0,2.0,0.0,0.0,0.0,0.0,0.0,0.0,1.0,0.0,0.0,0.0,0.0,1.0,0.0,2.0,1.0,0.0,0.0,0.0,0.0,0.0,0.0,0.0,0.0,2.0,3.0,1.0,0.0,0.0,0.0,2.0,0.0,0.0,0.0,0.0,0.0,0.0,1.0,0.0,0.0,0.0,1.0,1.0,0.0,1.0,0.0,0.0,1.0,0.0,0.0,0.0,0.0,0.0,1.0,0.0,0.0,0.0,0.0,0.0,1.0,0.0,0.0,0.0,0.0,0.0,1.0,0.0,0.0,2.0,0.0,0.0,3.0,0.0,0.0,0.0,0.0,0.0,0.0,0.0,0.0,2.0,0.0,4.0,5.0,2.0,0.0,0.0,0.0,2.0,0.0,1.0,1.0,1.0,0.0,0.0,0.0,0.0,0.0,0.0,0.0,0.0,1.0,1.0,1.0,1.0,0.0,2.0,2.0,5.0,1.0,2.0,6.0,3.0,3.0,4.0,2.0,0.0,0.0,1.0,0.0,0.0,0.0,0.0,0.0,0.0,0.0,0.0,1.0,0.0,0.0,0.0,0.0,0.0,0.0,0.0,0.0,0.0,1.0,1.0,1.0,0.0,4.0,0.0,1.0,0.0,0.0,0.0,0.0,0.0,0.0,0.0,0.0,0.0,0.0,0.0,0.0,0.0,3.0,3.0,2.0,0.0,3.0,0.0,0.0,0.0,0.0,0.0,0.0,0.0,0.0,0.0,1.0,0.0,0.0,4.0,3.0,7.0,4.0,4.0,1.0,2.0,0.0,0.0,2.0,1.0,1.0,0.0,4.0,1.0,1.0,0.0,0.0,0.0,0.0,1.0,2.0,1.0,2.0,1.0,0.0,0.0,1.0,0.0,0.0,0.0,0.0,0.0,0.0,0.0,0.0,0.0,0.0,3.0,4.0,5.0,0.0,0.0,1.0,0.0,5.0,0.0,4.0,2.0,1.0,0.0,0.0,1.0,1.0,0.0,2.0,2.0,1.0,2.0,0.0,3.0,2.0,2.0,2.0,1.0,1.0,1.0,4.0,0.0,0.0,0.0,0.0,0.0,0.0,0.0,1.0,2.0,0.0,1.0,1.0,0.0,0.0,0.0,2.0,0.0,1.0,0.0,0.0,0.0,0.0,1.0,0.0,0.0,0.0,0.0,0.0,0.0,0.0,0.0,0.0,0.0,0.0,0.0,0.0,0.0,0.0,0.0,0.0,0.0,0.0,0.0,0.0,0.0,1.0,0.0,1.0,0.0,0.0,0.0,1.0,1.0,0.0,0.0,0.0,0.0,0.0,1.0,0.0,1.0,3.0,0.0,0.0,0.0,0.0,1.0,2.0,1.0,0.0,0.0,1.0,0.0,1.0,1.0,0.0,0.0,1.0,0.0,1.0,0.0,0.0,2.0,0.0,0.0,1.0,1.0,1.0,1.0,0.0,0.0,0.0,2.0,0.0,0.0,0.0,0.0,0.0,1.0,0.0,1.0,0.0,1.0,0.0,1.0,0.0,1.0,1.0,0.0,0.0,0.0,0.0,0.0,0.0,1.0,0.0,1.0,0.0,0.0,0.0,1.0,3.0,3.0,0.0,1.0,0.0,0.0,3.0,0.0,0.0,0.0,0.0,1.0,3.0,2.0,1.0,0.0,0.0,1.0,0.0,4.0,2.0,0.0,1.0,0.0,0.0,0.0,1.0,0.0,0.0,3.0,0.0,0.0,1.0,0.0,0.0,1.0,2.0,3.0,2.0,3.0,1.0,0.0,0.0,3.0,1.0,0.0,0.0,0.0,0.0,0.0,0.0,0.0,0.0,1.0,1.0,3.0,0.0,2.0,1.0,1.0,0.0,0.0,0.0,0.0,0.0,0.0,1.0,0.0,0.0,0.0,1.0,0.0,0.0,0.0,0.0,0.0,1.0,0.0,0.0,0.0,0.0,0.0,0.0,0.0,0.0,1.0,1.0,4.0,2.0,2.0,4.0,0.0,0.0,0.0,0.0,1.0,0.0,0.0,0.0,1.0,0.0,0.0,0.0,0.0,0.0,0.0,0.0,0.0,0.0,0.0,1.0,1.0,1.0,0.0,0.0,2.0,2.0,0.0,1.0,0.0,0.0,0.0,0.0,0.0,0.0,0.0,0.0,0.0,0.0,0.0,0.0,0.0,0.0,0.0,0.0,0.0,0.0,0.0,0.0,0.0,0.0,0.0,3.0,0.0,0.0,5.0,2.0,2.0,2.0,1.0,4.0,3.0,4.0,1.0,3.0,1.0,4.0,0.0,2.0,0.0,4.0,3.0,0.0,1.0,0.0,0.0,1.0,0.0,0.0,0.0,0.0,0.0,0.0,1.0,1.0,1.0,5.0,1.0,4.0,0.0,0.0,1.0,2.0,2.0,0.0,0.0,0.0,0.0,0.0,0.0,0.0,0.0,0.0,0.0,0.0,0.0,2.0,1.0,2.0,2.0,5.0,2.0,3.0,1.0,0.0,2.0,0.0,0.0,0.0,0.0,2.0,3.0,4.0,3.0,0.0,0.0,0.0,0.0,0.0,0.0,0.0,0.0,0.0,0.0,0.0,2.0,0.0,0.0,0.0,0.0,0.0,0.0,0.0,0.0,1.0,0.0,4.0,3.0,1.0,0.0,0.0,0.0,0.0,0.0,0.0,0.0,0.0,1.0,0.0,0.0,0.0,0.0,0.0,1.0,1.0,1.0,1.0,0.0,1.0,0.0,0.0,0.0,2.0,0.0,1.0,0.0,0.0,3.0,0.0,1.0,1.0,0.0,0.0,0.0,0.0,1.0,0.0,0.0,5.0,3.0,0.0,0.0,0.0,0.0,0.0,0.0,0.0,0.0,0.0,0.0,0.0,0.0,0.0,0.0,3.0,1.0,1.0,1.0,0.0,1.0,0.0,0.0,0.0,1.0,0.0,0.0,0.0,1.0,2.0,4.0,0.0,2.0,0.0,0.0,0.0,0.0,0.0,0.0,0.0,0.0,0.0,5.0,2.0,1.0,0.0,3.0,2.0,3.0,0.0,2.0,2.0,1.0,0.0,1.0,0.0,1.0,0.0,0.0,0.0,0.0,0.0,0.0,0.0,0.0,2.0,2.0,1.0,1.0,0.0,0.0,0.0,0.0,4.0,2.0,5.0,0.0,3.0,1.0,1.0,0.0,1.0,0.0,0.0,2.0,5.0,2.0,2.0,1.0,0.0,1.0,0.0,0.0,0.0,0.0,0.0,0.0,0.0,0.0,0.0,0.0,0.0,0.0,0.0,0.0,1.0,0.0,0.0,0.0,0.0,0.0,1.0,2.0,2.0,0.0,0.0,0.0,0.0,1.0,0.0,0.0,0.0,0.0,0.0,0.0,0.0,0.0,0.0,0.0,0.0,0.0,0.0,0.0,0.0,0.0,0.0,0.0,1.0,0.0,0.0,0.0,0.0,0.0,0.0,2.0,1.0,1.0,0.0,0.0,1.0,0.0,5.0,3.0,1.0,0.0,2.0,0.0,0.0,0.0,1.0,0.0,1.0,0.0,0.0,0.0,0.0,0.0,0.0,0.0,1.0,0.0,0.0,0.0,0.0,0.0,0.0,0.0,0.0,0.0,0.0,0.0,0.0,0.0,0.0,0.0,1.0,1.0,1.0,0.0,4.0,5.0,0.0,6.0,3.0,3.0,0.0,0.0,0.0,0.0,0.0,0.0,0.0,2.0,1.0,0.0,0.0,1.0,0.0,0.0,1.0,0.0,0.0,0.0,0.0,0.0,1.0,2.0,0.0,1.0,0.0,0.0,1.0,0.0,0.0,0.0,6.0,1.0,6.0,3.0,5.0,1.0,0.0,2.0,0.0,3.0,2.0,0.0,6.0,0.0,0.0,0.0,1.0,2.0,3.0,1.0,3.0,0.0,0.0,0.0,2.0,2.0,2.0,3.0,0.0,1.0,2.0,0.0,0.0,0.0,0.0,0.0,1.0,2.0,1.0,2.0,1.0,0.0,1.0,0.0,0.0,0.0,0.0,0.0,0.0,0.0,0.0,1.0,1.0,2.0,1.0,1.0,0.0,0.0,0.0,0.0,0.0,1.0,2.0,2.0,2.0,1.0,1.0,0.0,7.0,1.0,0.0,1.0,0.0,1.0,0.0,0.0,0.0,0.0,0.0,2.0,0.0,0.0,0.0,0.0,0.0,0.0,1.0,3.0,6.0,0.0,3.0,1.0,2.0,2.0,2.0,2.0,0.0,0.0,0.0,1.0,0.0,0.0,0.0,0.0,0.0,0.0,0.0,0.0,0.0,0.0,3.0,6.0,1.0,0.0,1.0,0.0,1.0,1.0,0.0,0.0,0.0,0.0,0.0,0.0,0.0,0.0,0.0,0.0,0.0,2.0,0.0,0.0,0.0,0.0,0.0,0.0,0.0,5.0,1.0,2.0,1.0,0.0,0.0,2.0,0.0,2.0,2.0,0.0,0.0,0.0,0.0,0.0,0.0,0.0,0.0,1.0,2.0,3.0,4.0,3.0,0.0,0.0,0.0,0.0,0.0,1.0,0.0,0.0,1.0,1.0,1.0,1.0,3.0,1.0,0.0,0.0,0.0,0.0,0.0,0.0,1.0,0.0,1.0,1.0,0.0,2.0,0.0,2.0,0.0,0.0,0.0,0.0,0.0,0.0,0.0,0.0,0.0,0.0,3.0,1.0,1.0,0.0,0.0,0.0,0.0,2.0,0.0,0.0,0.0,0.0,0.0,3.0,0.0,2.0,1.0,0.0,0.0,0.0,0.0,2.0,0.0,0.0,0.0,0.0,0.0,0.0,0.0,1.0,0.0,0.0,0.0,0.0,0.0,0.0,0.0,0.0,1.0,1.0,1.0,1.0,0.0,0.0,1.0,0.0,0.0,0.0,1.0,0.0,0.0,0.0,0.0,0.0,0.0,0.0,0.0,1.0,1.0,1.0,0.0,0.0,0.0,0.0,1.0,0.0,0.0,0.0,1.0,0.0,0.0,0.0,0.0,0.0,0.0,3.0,0.0,0.0,0.0,0.0,0.0,0.0,0.0,2.0,1.0,0.0,1.0,0.0,1.0,0.0,0.0,0.0,1.0,0.0,0.0,0.0,0.0,0.0,0.0,0.0,0.0,2.0,1.0,2.0,10.0,8.0,4.0,2.0,0.0,1.0,0.0,1.0,0.0,0.0,2.0,0.0,2.0,3.0,0.0,0.0,0.0,1.0,0.0,0.0,0.0,0.0,0.0,0.0,1.0,1.0,2.0,0.0,1.0,2.0,2.0,3.0,0.0,2.0,5.0,4.0,5.0,4.0,5.0,0.0,2.0,0.0,0.0,0.0,0.0,0.0,1.0,0.0,1.0,0.0,0.0,0.0,0.0,1.0,1.0,0.0,0.0,0.0,0.0,0.0,1.0,0.0,0.0,0.0,0.0,0.0,0.0,0.0,0.0,0.0,0.0,0.0,0.0,0.0,2.0,0.0,3.0,4.0,10.0,3.0,2.0,4.0,1.0,4.0,1.0,2.0,0.0,1.0,0.0,0.0,1.0,0.0,1.0,1.0,0.0,0.0,1.0,0.0,0.0,0.0,0.0,0.0,2.0,2.0,0.0,0.0,0.0,1.0,0.0,0.0,0.0,0.0,0.0,0.0,1.0,0.0,0.0,0.0,0.0,0.0,0.0,0.0,0.0,1.0,0.0,0.0,0.0,0.0,0.0,0.0,1.0,2.0,0.0,0.0,0.0,0.0,0.0,0.0,0.0,2.0,0.0,1.0,1.0,2.0,2.0,2.0,4.0,2.0,3.0,1.0,0.0,0.0,0.0,0.0,1.0,1.0,0.0,1.0,2.0,0.0,0.0,0.0,0.0,0.0,0.0,0.0,0.0,0.0,0.0,0.0,0.0,0.0,2.0,1.0,3.0,0.0,0.0,0.0,0.0,0.0,0.0,0.0,1.0,0.0,0.0,0.0,2.0,0.0,0.0,0.0,0.0,0.0,0.0,0.0,0.0,0.0,0.0,0.0,0.0,0.0,5.0,0.0,0.0,0.0,0.0,0.0,4.0,0.0,1.0,0.0,0.0,0.0,2.0,2.0,1.0,0.0,0.0,0.0,5.0,3.0,0.0,1.0,0.0,0.0,0.0,0.0,3.0,1.0,0.0,0.0,1.0,0.0,0.0,0.0,0.0,0.0,0.0,0.0,0.0,0.0,1.0,0.0,0.0,1.0,0.0,0.0,0.0,0.0,0.0,0.0,0.0,1.0,0.0,0.0,3.0,0.0,2.0,3.0,0.0,0.0,0.0,2.0,0.0,0.0,0.0],\"xaxis\":\"x\",\"y\":[0.0,5.0,3.0,3.0,1.0,1.0,1.0,1.0,0.0,0.0,3.0,0.0,2.0,1.0,1.0,1.0,0.0,0.0,0.0,2.0,0.0,0.0,2.0,0.0,0.0,0.0,1.0,2.0,2.0,4.0,0.0,0.0,1.0,5.0,2.0,2.0,3.0,0.0,0.0,0.0,1.0,0.0,0.0,0.0,0.0,1.0,3.0,0.0,1.0,0.0,1.0,5.0,0.0,2.0,2.0,0.0,0.0,2.0,4.0,2.0,2.0,2.0,1.0,3.0,0.0,0.0,0.0,0.0,0.0,0.0,0.0,0.0,3.0,0.0,2.0,2.0,1.0,3.0,0.0,0.0,1.0,2.0,0.0,2.0,0.0,2.0,1.0,3.0,2.0,2.0,3.0,2.0,4.0,2.0,3.0,1.0,0.0,1.0,1.0,1.0,2.0,0.0,0.0,0.0,0.0,0.0,2.0,1.0,1.0,2.0,1.0,1.0,2.0,3.0,3.0,0.0,0.0,4.0,0.0,2.0,0.0,0.0,5.0,0.0,0.0,1.0,1.0,3.0,1.0,1.0,2.0,1.0,1.0,2.0,1.0,1.0,1.0,0.0,0.0,1.0,0.0,0.0,1.0,0.0,0.0,0.0,0.0,0.0,3.0,0.0,6.0,1.0,3.0,2.0,2.0,0.0,1.0,0.0,0.0,0.0,0.0,0.0,0.0,0.0,3.0,1.0,0.0,0.0,0.0,0.0,0.0,0.0,0.0,0.0,0.0,0.0,0.0,1.0,0.0,0.0,3.0,0.0,0.0,0.0,2.0,0.0,1.0,0.0,0.0,0.0,0.0,0.0,0.0,0.0,0.0,0.0,2.0,0.0,1.0,1.0,3.0,1.0,3.0,1.0,0.0,2.0,5.0,3.0,1.0,2.0,3.0,0.0,0.0,1.0,2.0,3.0,3.0,3.0,0.0,0.0,1.0,3.0,1.0,1.0,1.0,0.0,1.0,0.0,0.0,1.0,4.0,2.0,1.0,2.0,0.0,0.0,0.0,0.0,0.0,0.0,2.0,1.0,1.0,1.0,1.0,0.0,0.0,0.0,0.0,2.0,1.0,0.0,2.0,4.0,4.0,2.0,0.0,2.0,0.0,0.0,0.0,0.0,0.0,0.0,0.0,0.0,0.0,0.0,1.0,0.0,0.0,2.0,0.0,2.0,0.0,1.0,0.0,0.0,8.0,2.0,1.0,0.0,2.0,0.0,2.0,0.0,1.0,1.0,0.0,0.0,0.0,1.0,0.0,2.0,0.0,1.0,2.0,0.0,0.0,2.0,2.0,1.0,0.0,0.0,1.0,1.0,0.0,2.0,0.0,0.0,1.0,0.0,1.0,0.0,0.0,0.0,0.0,0.0,1.0,0.0,0.0,0.0,0.0,0.0,1.0,0.0,1.0,0.0,0.0,0.0,0.0,0.0,0.0,1.0,3.0,1.0,3.0,3.0,0.0,2.0,0.0,0.0,0.0,3.0,1.0,1.0,0.0,0.0,0.0,0.0,0.0,1.0,0.0,0.0,0.0,0.0,1.0,0.0,4.0,5.0,1.0,0.0,3.0,1.0,1.0,2.0,1.0,1.0,2.0,2.0,3.0,5.0,2.0,1.0,0.0,0.0,0.0,1.0,0.0,1.0,0.0,0.0,0.0,0.0,0.0,0.0,0.0,0.0,0.0,0.0,2.0,0.0,0.0,0.0,0.0,1.0,0.0,0.0,0.0,1.0,1.0,4.0,0.0,0.0,0.0,0.0,0.0,0.0,0.0,0.0,1.0,4.0,3.0,1.0,0.0,0.0,2.0,3.0,1.0,1.0,0.0,4.0,0.0,0.0,0.0,0.0,1.0,0.0,0.0,0.0,0.0,1.0,0.0,1.0,0.0,0.0,0.0,2.0,2.0,4.0,1.0,6.0,2.0,2.0,4.0,3.0,0.0,0.0,0.0,0.0,3.0,1.0,0.0,0.0,3.0,0.0,2.0,0.0,0.0,1.0,1.0,2.0,2.0,3.0,2.0,0.0,1.0,1.0,1.0,2.0,3.0,5.0,1.0,0.0,3.0,1.0,0.0,1.0,3.0,5.0,3.0,2.0,1.0,0.0,0.0,1.0,0.0,0.0,0.0,0.0,0.0,0.0,0.0,0.0,2.0,3.0,2.0,3.0,1.0,3.0,0.0,0.0,0.0,0.0,1.0,0.0,0.0,0.0,0.0,1.0,0.0,0.0,1.0,0.0,0.0,1.0,0.0,1.0,0.0,0.0,2.0,0.0,0.0,0.0,0.0,0.0,0.0,1.0,0.0,0.0,0.0,0.0,1.0,0.0,2.0,1.0,1.0,0.0,0.0,0.0,0.0,0.0,0.0,0.0,0.0,3.0,1.0,0.0,0.0,0.0,2.0,0.0,0.0,0.0,0.0,0.0,0.0,1.0,0.0,0.0,0.0,1.0,1.0,0.0,1.0,0.0,0.0,1.0,0.0,0.0,0.0,0.0,0.0,1.0,1.0,0.0,0.0,0.0,0.0,0.0,0.0,1.0,0.0,0.0,2.0,1.0,1.0,0.0,2.0,0.0,0.0,3.0,2.0,0.0,0.0,0.0,0.0,0.0,0.0,0.0,0.0,0.0,1.0,5.0,2.0,0.0,0.0,0.0,2.0,0.0,0.0,0.0,1.0,0.0,0.0,0.0,0.0,0.0,0.0,0.0,0.0,1.0,0.0,1.0,2.0,0.0,0.0,2.0,5.0,1.0,2.0,6.0,3.0,3.0,4.0,2.0,2.0,0.0,1.0,0.0,0.0,0.0,0.0,0.0,0.0,0.0,0.0,1.0,0.0,0.0,0.0,1.0,0.0,0.0,0.0,0.0,0.0,0.0,1.0,1.0,0.0,0.0,0.0,1.0,0.0,0.0,0.0,0.0,0.0,0.0,0.0,0.0,0.0,1.0,0.0,0.0,0.0,0.0,0.0,2.0,0.0,1.0,0.0,0.0,0.0,0.0,0.0,0.0,0.0,0.0,0.0,1.0,1.0,0.0,4.0,3.0,7.0,4.0,4.0,1.0,2.0,2.0,0.0,0.0,0.0,1.0,0.0,4.0,1.0,1.0,3.0,0.0,0.0,0.0,1.0,2.0,1.0,2.0,1.0,0.0,0.0,0.0,0.0,0.0,0.0,0.0,0.0,0.0,0.0,0.0,0.0,1.0,0.0,4.0,3.0,0.0,0.0,1.0,0.0,5.0,0.0,3.0,2.0,2.0,0.0,1.0,1.0,1.0,0.0,1.0,2.0,1.0,2.0,0.0,0.0,2.0,2.0,2.0,4.0,1.0,1.0,4.0,1.0,0.0,0.0,0.0,0.0,0.0,0.0,1.0,0.0,0.0,1.0,1.0,0.0,0.0,0.0,2.0,0.0,1.0,0.0,0.0,0.0,0.0,1.0,0.0,0.0,0.0,0.0,0.0,0.0,0.0,0.0,0.0,0.0,0.0,0.0,0.0,0.0,0.0,0.0,0.0,0.0,0.0,0.0,0.0,0.0,1.0,0.0,1.0,0.0,0.0,0.0,0.0,1.0,0.0,0.0,0.0,0.0,0.0,1.0,0.0,0.0,3.0,0.0,0.0,0.0,0.0,0.0,2.0,1.0,0.0,0.0,1.0,0.0,1.0,1.0,0.0,0.0,1.0,0.0,1.0,0.0,1.0,2.0,1.0,0.0,1.0,1.0,1.0,1.0,0.0,0.0,3.0,0.0,0.0,0.0,0.0,0.0,0.0,1.0,0.0,1.0,0.0,1.0,0.0,1.0,1.0,1.0,0.0,0.0,0.0,0.0,0.0,0.0,0.0,1.0,0.0,1.0,0.0,0.0,0.0,0.0,3.0,3.0,0.0,0.0,0.0,0.0,3.0,2.0,0.0,0.0,0.0,0.0,3.0,2.0,1.0,0.0,0.0,1.0,0.0,2.0,1.0,0.0,1.0,1.0,0.0,0.0,1.0,0.0,0.0,1.0,0.0,0.0,1.0,0.0,0.0,1.0,2.0,0.0,2.0,3.0,0.0,1.0,0.0,0.0,5.0,0.0,3.0,0.0,0.0,0.0,0.0,0.0,0.0,1.0,1.0,1.0,0.0,2.0,1.0,0.0,0.0,0.0,0.0,0.0,0.0,0.0,0.0,0.0,0.0,0.0,0.0,0.0,0.0,0.0,0.0,1.0,1.0,0.0,0.0,0.0,0.0,0.0,0.0,0.0,0.0,0.0,1.0,4.0,2.0,2.0,4.0,0.0,2.0,0.0,0.0,0.0,0.0,0.0,0.0,1.0,0.0,0.0,0.0,0.0,0.0,0.0,0.0,0.0,0.0,0.0,1.0,1.0,0.0,0.0,0.0,2.0,2.0,0.0,0.0,0.0,0.0,0.0,0.0,0.0,0.0,0.0,0.0,0.0,0.0,0.0,0.0,0.0,0.0,0.0,0.0,0.0,0.0,0.0,0.0,0.0,3.0,0.0,3.0,0.0,0.0,0.0,2.0,2.0,2.0,1.0,4.0,3.0,4.0,1.0,3.0,1.0,4.0,0.0,2.0,0.0,0.0,3.0,0.0,1.0,0.0,0.0,0.0,0.0,0.0,0.0,0.0,0.0,0.0,0.0,1.0,1.0,5.0,1.0,4.0,2.0,0.0,0.0,2.0,2.0,1.0,0.0,0.0,2.0,0.0,0.0,0.0,0.0,0.0,0.0,0.0,0.0,1.0,1.0,1.0,3.0,5.0,2.0,3.0,1.0,0.0,0.0,1.0,0.0,0.0,0.0,0.0,3.0,4.0,3.0,3.0,2.0,0.0,0.0,0.0,0.0,0.0,0.0,0.0,0.0,0.0,2.0,0.0,0.0,0.0,0.0,0.0,0.0,0.0,0.0,0.0,1.0,4.0,3.0,1.0,0.0,0.0,0.0,0.0,0.0,0.0,0.0,0.0,1.0,0.0,0.0,0.0,0.0,1.0,1.0,1.0,1.0,1.0,0.0,1.0,0.0,0.0,0.0,2.0,0.0,1.0,0.0,0.0,0.0,1.0,1.0,1.0,0.0,0.0,0.0,0.0,0.0,0.0,1.0,0.0,3.0,0.0,0.0,0.0,0.0,0.0,0.0,0.0,0.0,0.0,0.0,0.0,0.0,0.0,0.0,1.0,1.0,1.0,1.0,0.0,1.0,0.0,0.0,0.0,1.0,0.0,0.0,0.0,1.0,2.0,1.0,0.0,2.0,0.0,0.0,0.0,0.0,0.0,0.0,0.0,0.0,0.0,0.0,2.0,1.0,0.0,3.0,2.0,3.0,4.0,0.0,5.0,0.0,1.0,1.0,0.0,1.0,0.0,0.0,0.0,0.0,0.0,0.0,0.0,0.0,2.0,2.0,1.0,1.0,1.0,0.0,0.0,0.0,0.0,2.0,5.0,0.0,3.0,1.0,1.0,0.0,1.0,0.0,1.0,0.0,5.0,2.0,2.0,1.0,0.0,1.0,3.0,0.0,0.0,0.0,0.0,0.0,0.0,0.0,0.0,0.0,0.0,0.0,0.0,0.0,1.0,1.0,0.0,0.0,0.0,0.0,0.0,0.0,2.0,3.0,0.0,0.0,0.0,0.0,0.0,0.0,0.0,0.0,0.0,0.0,0.0,0.0,0.0,0.0,0.0,0.0,0.0,1.0,0.0,0.0,0.0,0.0,1.0,0.0,0.0,0.0,0.0,0.0,0.0,2.0,1.0,1.0,0.0,2.0,1.0,0.0,5.0,3.0,1.0,4.0,0.0,0.0,0.0,0.0,0.0,0.0,1.0,0.0,0.0,0.0,0.0,0.0,0.0,0.0,1.0,0.0,0.0,0.0,0.0,0.0,0.0,1.0,0.0,0.0,0.0,0.0,0.0,0.0,0.0,0.0,0.0,1.0,1.0,0.0,0.0,5.0,0.0,6.0,3.0,3.0,2.0,0.0,0.0,0.0,0.0,0.0,0.0,0.0,1.0,0.0,0.0,1.0,0.0,0.0,1.0,0.0,0.0,0.0,0.0,0.0,1.0,2.0,0.0,1.0,0.0,0.0,1.0,0.0,0.0,0.0,0.0,1.0,6.0,3.0,5.0,1.0,0.0,0.0,0.0,3.0,2.0,0.0,6.0,1.0,0.0,0.0,1.0,2.0,3.0,1.0,3.0,2.0,0.0,0.0,2.0,2.0,2.0,3.0,0.0,1.0,3.0,0.0,0.0,1.0,0.0,0.0,0.0,2.0,0.0,2.0,1.0,0.0,1.0,1.0,0.0,0.0,0.0,0.0,1.0,0.0,0.0,0.0,1.0,2.0,1.0,1.0,3.0,2.0,0.0,0.0,0.0,0.0,2.0,2.0,2.0,1.0,0.0,0.0,7.0,1.0,1.0,0.0,0.0,0.0,0.0,0.0,0.0,0.0,0.0,0.0,0.0,0.0,0.0,0.0,0.0,0.0,0.0,3.0,6.0,3.0,3.0,1.0,2.0,2.0,3.0,2.0,0.0,0.0,0.0,1.0,0.0,1.0,0.0,0.0,0.0,0.0,0.0,1.0,0.0,1.0,3.0,6.0,1.0,1.0,0.0,0.0,1.0,1.0,0.0,3.0,2.0,0.0,0.0,0.0,0.0,0.0,0.0,0.0,0.0,0.0,0.0,0.0,0.0,0.0,0.0,0.0,0.0,1.0,1.0,2.0,1.0,0.0,0.0,2.0,0.0,2.0,2.0,3.0,0.0,0.0,0.0,0.0,0.0,0.0,0.0,0.0,2.0,3.0,4.0,3.0,3.0,0.0,0.0,0.0,0.0,0.0,0.0,0.0,1.0,1.0,0.0,1.0,3.0,1.0,0.0,2.0,0.0,0.0,0.0,0.0,0.0,0.0,1.0,1.0,0.0,1.0,1.0,2.0,1.0,0.0,0.0,2.0,0.0,0.0,0.0,0.0,0.0,0.0,1.0,0.0,1.0,0.0,0.0,0.0,0.0,0.0,0.0,0.0,0.0,0.0,0.0,0.0,0.0,2.0,1.0,2.0,0.0,0.0,0.0,2.0,1.0,0.0,0.0,0.0,0.0,0.0,0.0,1.0,0.0,0.0,0.0,0.0,0.0,0.0,0.0,0.0,0.0,1.0,1.0,1.0,0.0,0.0,0.0,0.0,0.0,0.0,0.0,0.0,0.0,0.0,0.0,0.0,0.0,0.0,0.0,0.0,1.0,1.0,0.0,0.0,0.0,0.0,0.0,0.0,0.0,0.0,1.0,0.0,0.0,0.0,0.0,0.0,0.0,3.0,0.0,0.0,2.0,0.0,0.0,0.0,0.0,0.0,0.0,0.0,0.0,0.0,1.0,0.0,0.0,0.0,1.0,0.0,0.0,1.0,0.0,0.0,0.0,0.0,0.0,2.0,1.0,2.0,1.0,8.0,4.0,2.0,2.0,0.0,0.0,1.0,0.0,0.0,2.0,0.0,2.0,0.0,0.0,0.0,0.0,0.0,0.0,0.0,0.0,1.0,0.0,0.0,1.0,1.0,2.0,0.0,1.0,0.0,2.0,3.0,0.0,4.0,5.0,4.0,5.0,7.0,5.0,0.0,2.0,4.0,0.0,1.0,0.0,0.0,0.0,0.0,1.0,0.0,0.0,0.0,0.0,0.0,1.0,1.0,0.0,0.0,0.0,0.0,1.0,0.0,0.0,1.0,0.0,0.0,0.0,0.0,0.0,0.0,0.0,0.0,0.0,0.0,0.0,0.0,0.0,4.0,10.0,1.0,1.0,4.0,1.0,1.0,1.0,2.0,3.0,0.0,0.0,0.0,0.0,0.0,1.0,1.0,0.0,0.0,0.0,0.0,0.0,0.0,0.0,0.0,2.0,2.0,0.0,0.0,0.0,1.0,0.0,1.0,0.0,0.0,0.0,0.0,1.0,0.0,0.0,0.0,0.0,0.0,0.0,0.0,0.0,1.0,0.0,0.0,0.0,0.0,0.0,0.0,1.0,2.0,0.0,0.0,1.0,0.0,0.0,0.0,0.0,0.0,0.0,1.0,1.0,2.0,2.0,2.0,4.0,1.0,3.0,1.0,2.0,0.0,0.0,3.0,1.0,0.0,0.0,0.0,2.0,1.0,0.0,0.0,0.0,0.0,0.0,0.0,3.0,0.0,0.0,0.0,0.0,0.0,2.0,2.0,3.0,3.0,0.0,1.0,0.0,0.0,0.0,0.0,1.0,1.0,0.0,0.0,0.0,0.0,0.0,0.0,0.0,0.0,0.0,0.0,0.0,0.0,0.0,0.0,0.0,0.0,5.0,1.0,0.0,0.0,0.0,0.0,0.0,0.0,3.0,0.0,0.0,0.0,2.0,0.0,1.0,0.0,0.0,0.0,0.0,3.0,5.0,0.0,0.0,2.0,0.0,0.0,0.0,1.0,0.0,0.0,0.0,1.0,0.0,0.0,0.0,0.0,0.0,0.0,0.0,0.0,0.0,0.0,0.0,0.0,3.0,0.0,1.0,2.0,1.0,0.0,0.0,0.0,0.0,1.0,0.0,9.0,0.0,4.0,2.0,0.0,0.0,0.0,1.0,0.0,1.0,0.0],\"yaxis\":\"y\",\"type\":\"scattergl\"}],                        {\"template\":{\"data\":{\"histogram2dcontour\":[{\"type\":\"histogram2dcontour\",\"colorbar\":{\"outlinewidth\":0,\"ticks\":\"\"},\"colorscale\":[[0.0,\"#0d0887\"],[0.1111111111111111,\"#46039f\"],[0.2222222222222222,\"#7201a8\"],[0.3333333333333333,\"#9c179e\"],[0.4444444444444444,\"#bd3786\"],[0.5555555555555556,\"#d8576b\"],[0.6666666666666666,\"#ed7953\"],[0.7777777777777778,\"#fb9f3a\"],[0.8888888888888888,\"#fdca26\"],[1.0,\"#f0f921\"]]}],\"choropleth\":[{\"type\":\"choropleth\",\"colorbar\":{\"outlinewidth\":0,\"ticks\":\"\"}}],\"histogram2d\":[{\"type\":\"histogram2d\",\"colorbar\":{\"outlinewidth\":0,\"ticks\":\"\"},\"colorscale\":[[0.0,\"#0d0887\"],[0.1111111111111111,\"#46039f\"],[0.2222222222222222,\"#7201a8\"],[0.3333333333333333,\"#9c179e\"],[0.4444444444444444,\"#bd3786\"],[0.5555555555555556,\"#d8576b\"],[0.6666666666666666,\"#ed7953\"],[0.7777777777777778,\"#fb9f3a\"],[0.8888888888888888,\"#fdca26\"],[1.0,\"#f0f921\"]]}],\"heatmap\":[{\"type\":\"heatmap\",\"colorbar\":{\"outlinewidth\":0,\"ticks\":\"\"},\"colorscale\":[[0.0,\"#0d0887\"],[0.1111111111111111,\"#46039f\"],[0.2222222222222222,\"#7201a8\"],[0.3333333333333333,\"#9c179e\"],[0.4444444444444444,\"#bd3786\"],[0.5555555555555556,\"#d8576b\"],[0.6666666666666666,\"#ed7953\"],[0.7777777777777778,\"#fb9f3a\"],[0.8888888888888888,\"#fdca26\"],[1.0,\"#f0f921\"]]}],\"heatmapgl\":[{\"type\":\"heatmapgl\",\"colorbar\":{\"outlinewidth\":0,\"ticks\":\"\"},\"colorscale\":[[0.0,\"#0d0887\"],[0.1111111111111111,\"#46039f\"],[0.2222222222222222,\"#7201a8\"],[0.3333333333333333,\"#9c179e\"],[0.4444444444444444,\"#bd3786\"],[0.5555555555555556,\"#d8576b\"],[0.6666666666666666,\"#ed7953\"],[0.7777777777777778,\"#fb9f3a\"],[0.8888888888888888,\"#fdca26\"],[1.0,\"#f0f921\"]]}],\"contourcarpet\":[{\"type\":\"contourcarpet\",\"colorbar\":{\"outlinewidth\":0,\"ticks\":\"\"}}],\"contour\":[{\"type\":\"contour\",\"colorbar\":{\"outlinewidth\":0,\"ticks\":\"\"},\"colorscale\":[[0.0,\"#0d0887\"],[0.1111111111111111,\"#46039f\"],[0.2222222222222222,\"#7201a8\"],[0.3333333333333333,\"#9c179e\"],[0.4444444444444444,\"#bd3786\"],[0.5555555555555556,\"#d8576b\"],[0.6666666666666666,\"#ed7953\"],[0.7777777777777778,\"#fb9f3a\"],[0.8888888888888888,\"#fdca26\"],[1.0,\"#f0f921\"]]}],\"surface\":[{\"type\":\"surface\",\"colorbar\":{\"outlinewidth\":0,\"ticks\":\"\"},\"colorscale\":[[0.0,\"#0d0887\"],[0.1111111111111111,\"#46039f\"],[0.2222222222222222,\"#7201a8\"],[0.3333333333333333,\"#9c179e\"],[0.4444444444444444,\"#bd3786\"],[0.5555555555555556,\"#d8576b\"],[0.6666666666666666,\"#ed7953\"],[0.7777777777777778,\"#fb9f3a\"],[0.8888888888888888,\"#fdca26\"],[1.0,\"#f0f921\"]]}],\"mesh3d\":[{\"type\":\"mesh3d\",\"colorbar\":{\"outlinewidth\":0,\"ticks\":\"\"}}],\"scatter\":[{\"fillpattern\":{\"fillmode\":\"overlay\",\"size\":10,\"solidity\":0.2},\"type\":\"scatter\"}],\"parcoords\":[{\"type\":\"parcoords\",\"line\":{\"colorbar\":{\"outlinewidth\":0,\"ticks\":\"\"}}}],\"scatterpolargl\":[{\"type\":\"scatterpolargl\",\"marker\":{\"colorbar\":{\"outlinewidth\":0,\"ticks\":\"\"}}}],\"bar\":[{\"error_x\":{\"color\":\"#2a3f5f\"},\"error_y\":{\"color\":\"#2a3f5f\"},\"marker\":{\"line\":{\"color\":\"#E5ECF6\",\"width\":0.5},\"pattern\":{\"fillmode\":\"overlay\",\"size\":10,\"solidity\":0.2}},\"type\":\"bar\"}],\"scattergeo\":[{\"type\":\"scattergeo\",\"marker\":{\"colorbar\":{\"outlinewidth\":0,\"ticks\":\"\"}}}],\"scatterpolar\":[{\"type\":\"scatterpolar\",\"marker\":{\"colorbar\":{\"outlinewidth\":0,\"ticks\":\"\"}}}],\"histogram\":[{\"marker\":{\"pattern\":{\"fillmode\":\"overlay\",\"size\":10,\"solidity\":0.2}},\"type\":\"histogram\"}],\"scattergl\":[{\"type\":\"scattergl\",\"marker\":{\"colorbar\":{\"outlinewidth\":0,\"ticks\":\"\"}}}],\"scatter3d\":[{\"type\":\"scatter3d\",\"line\":{\"colorbar\":{\"outlinewidth\":0,\"ticks\":\"\"}},\"marker\":{\"colorbar\":{\"outlinewidth\":0,\"ticks\":\"\"}}}],\"scattermapbox\":[{\"type\":\"scattermapbox\",\"marker\":{\"colorbar\":{\"outlinewidth\":0,\"ticks\":\"\"}}}],\"scatterternary\":[{\"type\":\"scatterternary\",\"marker\":{\"colorbar\":{\"outlinewidth\":0,\"ticks\":\"\"}}}],\"scattercarpet\":[{\"type\":\"scattercarpet\",\"marker\":{\"colorbar\":{\"outlinewidth\":0,\"ticks\":\"\"}}}],\"carpet\":[{\"aaxis\":{\"endlinecolor\":\"#2a3f5f\",\"gridcolor\":\"white\",\"linecolor\":\"white\",\"minorgridcolor\":\"white\",\"startlinecolor\":\"#2a3f5f\"},\"baxis\":{\"endlinecolor\":\"#2a3f5f\",\"gridcolor\":\"white\",\"linecolor\":\"white\",\"minorgridcolor\":\"white\",\"startlinecolor\":\"#2a3f5f\"},\"type\":\"carpet\"}],\"table\":[{\"cells\":{\"fill\":{\"color\":\"#EBF0F8\"},\"line\":{\"color\":\"white\"}},\"header\":{\"fill\":{\"color\":\"#C8D4E3\"},\"line\":{\"color\":\"white\"}},\"type\":\"table\"}],\"barpolar\":[{\"marker\":{\"line\":{\"color\":\"#E5ECF6\",\"width\":0.5},\"pattern\":{\"fillmode\":\"overlay\",\"size\":10,\"solidity\":0.2}},\"type\":\"barpolar\"}],\"pie\":[{\"automargin\":true,\"type\":\"pie\"}]},\"layout\":{\"autotypenumbers\":\"strict\",\"colorway\":[\"#636efa\",\"#EF553B\",\"#00cc96\",\"#ab63fa\",\"#FFA15A\",\"#19d3f3\",\"#FF6692\",\"#B6E880\",\"#FF97FF\",\"#FECB52\"],\"font\":{\"color\":\"#2a3f5f\"},\"hovermode\":\"closest\",\"hoverlabel\":{\"align\":\"left\"},\"paper_bgcolor\":\"white\",\"plot_bgcolor\":\"#E5ECF6\",\"polar\":{\"bgcolor\":\"#E5ECF6\",\"angularaxis\":{\"gridcolor\":\"white\",\"linecolor\":\"white\",\"ticks\":\"\"},\"radialaxis\":{\"gridcolor\":\"white\",\"linecolor\":\"white\",\"ticks\":\"\"}},\"ternary\":{\"bgcolor\":\"#E5ECF6\",\"aaxis\":{\"gridcolor\":\"white\",\"linecolor\":\"white\",\"ticks\":\"\"},\"baxis\":{\"gridcolor\":\"white\",\"linecolor\":\"white\",\"ticks\":\"\"},\"caxis\":{\"gridcolor\":\"white\",\"linecolor\":\"white\",\"ticks\":\"\"}},\"coloraxis\":{\"colorbar\":{\"outlinewidth\":0,\"ticks\":\"\"}},\"colorscale\":{\"sequential\":[[0.0,\"#0d0887\"],[0.1111111111111111,\"#46039f\"],[0.2222222222222222,\"#7201a8\"],[0.3333333333333333,\"#9c179e\"],[0.4444444444444444,\"#bd3786\"],[0.5555555555555556,\"#d8576b\"],[0.6666666666666666,\"#ed7953\"],[0.7777777777777778,\"#fb9f3a\"],[0.8888888888888888,\"#fdca26\"],[1.0,\"#f0f921\"]],\"sequentialminus\":[[0.0,\"#0d0887\"],[0.1111111111111111,\"#46039f\"],[0.2222222222222222,\"#7201a8\"],[0.3333333333333333,\"#9c179e\"],[0.4444444444444444,\"#bd3786\"],[0.5555555555555556,\"#d8576b\"],[0.6666666666666666,\"#ed7953\"],[0.7777777777777778,\"#fb9f3a\"],[0.8888888888888888,\"#fdca26\"],[1.0,\"#f0f921\"]],\"diverging\":[[0,\"#8e0152\"],[0.1,\"#c51b7d\"],[0.2,\"#de77ae\"],[0.3,\"#f1b6da\"],[0.4,\"#fde0ef\"],[0.5,\"#f7f7f7\"],[0.6,\"#e6f5d0\"],[0.7,\"#b8e186\"],[0.8,\"#7fbc41\"],[0.9,\"#4d9221\"],[1,\"#276419\"]]},\"xaxis\":{\"gridcolor\":\"white\",\"linecolor\":\"white\",\"ticks\":\"\",\"title\":{\"standoff\":15},\"zerolinecolor\":\"white\",\"automargin\":true,\"zerolinewidth\":2},\"yaxis\":{\"gridcolor\":\"white\",\"linecolor\":\"white\",\"ticks\":\"\",\"title\":{\"standoff\":15},\"zerolinecolor\":\"white\",\"automargin\":true,\"zerolinewidth\":2},\"scene\":{\"xaxis\":{\"backgroundcolor\":\"#E5ECF6\",\"gridcolor\":\"white\",\"linecolor\":\"white\",\"showbackground\":true,\"ticks\":\"\",\"zerolinecolor\":\"white\",\"gridwidth\":2},\"yaxis\":{\"backgroundcolor\":\"#E5ECF6\",\"gridcolor\":\"white\",\"linecolor\":\"white\",\"showbackground\":true,\"ticks\":\"\",\"zerolinecolor\":\"white\",\"gridwidth\":2},\"zaxis\":{\"backgroundcolor\":\"#E5ECF6\",\"gridcolor\":\"white\",\"linecolor\":\"white\",\"showbackground\":true,\"ticks\":\"\",\"zerolinecolor\":\"white\",\"gridwidth\":2}},\"shapedefaults\":{\"line\":{\"color\":\"#2a3f5f\"}},\"annotationdefaults\":{\"arrowcolor\":\"#2a3f5f\",\"arrowhead\":0,\"arrowwidth\":1},\"geo\":{\"bgcolor\":\"white\",\"landcolor\":\"#E5ECF6\",\"subunitcolor\":\"white\",\"showland\":true,\"showlakes\":true,\"lakecolor\":\"white\"},\"title\":{\"x\":0.05},\"mapbox\":{\"style\":\"light\"}}},\"xaxis\":{\"anchor\":\"y\",\"domain\":[0.0,1.0],\"title\":{\"text\":\"fumbles_last\"}},\"yaxis\":{\"anchor\":\"x\",\"domain\":[0.0,1.0],\"title\":{\"text\":\"fumbles\"}},\"legend\":{\"tracegroupgap\":0},\"margin\":{\"t\":60}},                        {\"responsive\": true}                    ).then(function(){\n",
       "                            \n",
       "var gd = document.getElementById('e6c630bc-67d0-427c-8c4d-57b697de8a42');\n",
       "var x = new MutationObserver(function (mutations, observer) {{\n",
       "        var display = window.getComputedStyle(gd).display;\n",
       "        if (!display || display === 'none') {{\n",
       "            console.log([gd, 'removed!']);\n",
       "            Plotly.purge(gd);\n",
       "            observer.disconnect();\n",
       "        }}\n",
       "}});\n",
       "\n",
       "// Listen for the removal of the full notebook cells\n",
       "var notebookContainer = gd.closest('#notebook-container');\n",
       "if (notebookContainer) {{\n",
       "    x.observe(notebookContainer, {childList: true});\n",
       "}}\n",
       "\n",
       "// Listen for the clearing of the current output cell\n",
       "var outputEl = gd.closest('.output');\n",
       "if (outputEl) {{\n",
       "    x.observe(outputEl, {childList: true});\n",
       "}}\n",
       "\n",
       "                        })                };                });            </script>        </div>"
      ]
     },
     "metadata": {},
     "output_type": "display_data"
    }
   ],
   "source": [
    "create_corr_for_fantasy_relevance(\"\", title=\"fantasy-relevance-unfiltered\")"
   ]
  },
  {
   "cell_type": "code",
   "execution_count": 141,
   "id": "657da99b",
   "metadata": {},
   "outputs": [
    {
     "data": {
      "text/html": [
       "<div>\n",
       "<style scoped>\n",
       "    .dataframe tbody tr th:only-of-type {\n",
       "        vertical-align: middle;\n",
       "    }\n",
       "\n",
       "    .dataframe tbody tr th {\n",
       "        vertical-align: top;\n",
       "    }\n",
       "\n",
       "    .dataframe thead th {\n",
       "        text-align: right;\n",
       "    }\n",
       "</style>\n",
       "<table border=\"1\" class=\"dataframe\">\n",
       "  <thead>\n",
       "    <tr style=\"text-align: right;\">\n",
       "      <th></th>\n",
       "      <th>successful_plays</th>\n",
       "      <th>successful_plays_last</th>\n",
       "    </tr>\n",
       "  </thead>\n",
       "  <tbody>\n",
       "    <tr>\n",
       "      <th>successful_plays</th>\n",
       "      <td>1.000000</td>\n",
       "      <td>0.745423</td>\n",
       "    </tr>\n",
       "    <tr>\n",
       "      <th>successful_plays_last</th>\n",
       "      <td>0.745423</td>\n",
       "      <td>1.000000</td>\n",
       "    </tr>\n",
       "  </tbody>\n",
       "</table>\n",
       "</div>"
      ],
      "text/plain": [
       "                       successful_plays  successful_plays_last\n",
       "successful_plays               1.000000               0.745423\n",
       "successful_plays_last          0.745423               1.000000"
      ]
     },
     "execution_count": 141,
     "metadata": {},
     "output_type": "execute_result"
    }
   ],
   "source": [
    "df[[\"successful_plays\", \"successful_plays_last\"]].corr()"
   ]
  },
  {
   "cell_type": "markdown",
   "id": "79fca21e",
   "metadata": {},
   "source": [
    "## RBs"
   ]
  },
  {
   "cell_type": "code",
   "execution_count": 164,
   "id": "1fd7bf2d",
   "metadata": {},
   "outputs": [
    {
     "data": {
      "text/html": [
       "<div>\n",
       "<style scoped>\n",
       "    .dataframe tbody tr th:only-of-type {\n",
       "        vertical-align: middle;\n",
       "    }\n",
       "\n",
       "    .dataframe tbody tr th {\n",
       "        vertical-align: top;\n",
       "    }\n",
       "\n",
       "    .dataframe thead th {\n",
       "        text-align: right;\n",
       "    }\n",
       "</style>\n",
       "<table border=\"1\" class=\"dataframe\">\n",
       "  <thead>\n",
       "    <tr style=\"text-align: right;\">\n",
       "      <th></th>\n",
       "      <th>rushing_yards</th>\n",
       "      <th>rushing_yards_last</th>\n",
       "      <th>successful_plays</th>\n",
       "      <th>successful_plays_last</th>\n",
       "      <th>carries</th>\n",
       "      <th>carries_last</th>\n",
       "    </tr>\n",
       "  </thead>\n",
       "  <tbody>\n",
       "    <tr>\n",
       "      <th>rushing_yards</th>\n",
       "      <td>1.000000</td>\n",
       "      <td>0.643109</td>\n",
       "      <td>0.987551</td>\n",
       "      <td>0.639507</td>\n",
       "      <td>0.982299</td>\n",
       "      <td>0.623570</td>\n",
       "    </tr>\n",
       "    <tr>\n",
       "      <th>rushing_yards_last</th>\n",
       "      <td>0.643109</td>\n",
       "      <td>1.000000</td>\n",
       "      <td>0.650333</td>\n",
       "      <td>0.985333</td>\n",
       "      <td>0.666171</td>\n",
       "      <td>0.979436</td>\n",
       "    </tr>\n",
       "    <tr>\n",
       "      <th>successful_plays</th>\n",
       "      <td>0.987551</td>\n",
       "      <td>0.650333</td>\n",
       "      <td>1.000000</td>\n",
       "      <td>0.652068</td>\n",
       "      <td>0.983629</td>\n",
       "      <td>0.634229</td>\n",
       "    </tr>\n",
       "    <tr>\n",
       "      <th>successful_plays_last</th>\n",
       "      <td>0.639507</td>\n",
       "      <td>0.985333</td>\n",
       "      <td>0.652068</td>\n",
       "      <td>1.000000</td>\n",
       "      <td>0.665067</td>\n",
       "      <td>0.982461</td>\n",
       "    </tr>\n",
       "    <tr>\n",
       "      <th>carries</th>\n",
       "      <td>0.982299</td>\n",
       "      <td>0.666171</td>\n",
       "      <td>0.983629</td>\n",
       "      <td>0.665067</td>\n",
       "      <td>1.000000</td>\n",
       "      <td>0.654134</td>\n",
       "    </tr>\n",
       "    <tr>\n",
       "      <th>carries_last</th>\n",
       "      <td>0.623570</td>\n",
       "      <td>0.979436</td>\n",
       "      <td>0.634229</td>\n",
       "      <td>0.982461</td>\n",
       "      <td>0.654134</td>\n",
       "      <td>1.000000</td>\n",
       "    </tr>\n",
       "  </tbody>\n",
       "</table>\n",
       "</div>"
      ],
      "text/plain": [
       "                       rushing_yards  rushing_yards_last  successful_plays  \\\n",
       "rushing_yards               1.000000            0.643109          0.987551   \n",
       "rushing_yards_last          0.643109            1.000000          0.650333   \n",
       "successful_plays            0.987551            0.650333          1.000000   \n",
       "successful_plays_last       0.639507            0.985333          0.652068   \n",
       "carries                     0.982299            0.666171          0.983629   \n",
       "carries_last                0.623570            0.979436          0.634229   \n",
       "\n",
       "                       successful_plays_last   carries  carries_last  \n",
       "rushing_yards                       0.639507  0.982299      0.623570  \n",
       "rushing_yards_last                  0.985333  0.666171      0.979436  \n",
       "successful_plays                    0.652068  0.983629      0.634229  \n",
       "successful_plays_last               1.000000  0.665067      0.982461  \n",
       "carries                             0.665067  1.000000      0.654134  \n",
       "carries_last                        0.982461  0.654134      1.000000  "
      ]
     },
     "execution_count": 164,
     "metadata": {},
     "output_type": "execute_result"
    }
   ],
   "source": [
    "df.query(\"position == 'RB'\")[[\"rushing_yards\", \"rushing_yards_last\", \n",
    "                            \"successful_plays\", \"successful_plays_last\",\n",
    "                            \"carries\", \"carries_last\"\n",
    "                           ]].corr()"
   ]
  },
  {
   "cell_type": "code",
   "execution_count": 142,
   "id": "731f7124",
   "metadata": {},
   "outputs": [
    {
     "data": {
      "application/vnd.plotly.v1+json": {
       "config": {
        "plotlyServerURL": "https://plot.ly"
       },
       "data": [
        {
         "coloraxis": "coloraxis",
         "hovertemplate": "Current Season Stats: %{x}<br>Previous Season Stats: %{y}<br>color: %{z}<extra></extra>",
         "name": "0",
         "texttemplate": "%{z}",
         "type": "heatmap",
         "x": [
          "times_tackled_for_loss",
          "rushing_yards",
          "carries_last",
          "successful_plays",
          "rushing_touchdowns_last",
          "rushing_touchdowns",
          "successful_plays_last",
          "times_tackled_for_loss_last",
          "rushing_yards_last",
          "carries"
         ],
         "xaxis": "x",
         "y": [
          "fantasy_points",
          "fantasy_points_last"
         ],
         "yaxis": "y",
         "z": [
          [
           0.82,
           0.95,
           0.58,
           0.95,
           0.54,
           0.9,
           0.6,
           0.51,
           0.6,
           0.93
          ],
          [
           0.58,
           0.61,
           0.92,
           0.63,
           0.89,
           0.55,
           0.94,
           0.8,
           0.94,
           0.63
          ]
         ]
        }
       ],
       "layout": {
        "coloraxis": {
         "colorscale": [
          [
           0,
           "#0d0887"
          ],
          [
           0.1111111111111111,
           "#46039f"
          ],
          [
           0.2222222222222222,
           "#7201a8"
          ],
          [
           0.3333333333333333,
           "#9c179e"
          ],
          [
           0.4444444444444444,
           "#bd3786"
          ],
          [
           0.5555555555555556,
           "#d8576b"
          ],
          [
           0.6666666666666666,
           "#ed7953"
          ],
          [
           0.7777777777777778,
           "#fb9f3a"
          ],
          [
           0.8888888888888888,
           "#fdca26"
          ],
          [
           1,
           "#f0f921"
          ]
         ]
        },
        "margin": {
         "t": 60
        },
        "template": {
         "data": {
          "bar": [
           {
            "error_x": {
             "color": "#2a3f5f"
            },
            "error_y": {
             "color": "#2a3f5f"
            },
            "marker": {
             "line": {
              "color": "#E5ECF6",
              "width": 0.5
             },
             "pattern": {
              "fillmode": "overlay",
              "size": 10,
              "solidity": 0.2
             }
            },
            "type": "bar"
           }
          ],
          "barpolar": [
           {
            "marker": {
             "line": {
              "color": "#E5ECF6",
              "width": 0.5
             },
             "pattern": {
              "fillmode": "overlay",
              "size": 10,
              "solidity": 0.2
             }
            },
            "type": "barpolar"
           }
          ],
          "carpet": [
           {
            "aaxis": {
             "endlinecolor": "#2a3f5f",
             "gridcolor": "white",
             "linecolor": "white",
             "minorgridcolor": "white",
             "startlinecolor": "#2a3f5f"
            },
            "baxis": {
             "endlinecolor": "#2a3f5f",
             "gridcolor": "white",
             "linecolor": "white",
             "minorgridcolor": "white",
             "startlinecolor": "#2a3f5f"
            },
            "type": "carpet"
           }
          ],
          "choropleth": [
           {
            "colorbar": {
             "outlinewidth": 0,
             "ticks": ""
            },
            "type": "choropleth"
           }
          ],
          "contour": [
           {
            "colorbar": {
             "outlinewidth": 0,
             "ticks": ""
            },
            "colorscale": [
             [
              0,
              "#0d0887"
             ],
             [
              0.1111111111111111,
              "#46039f"
             ],
             [
              0.2222222222222222,
              "#7201a8"
             ],
             [
              0.3333333333333333,
              "#9c179e"
             ],
             [
              0.4444444444444444,
              "#bd3786"
             ],
             [
              0.5555555555555556,
              "#d8576b"
             ],
             [
              0.6666666666666666,
              "#ed7953"
             ],
             [
              0.7777777777777778,
              "#fb9f3a"
             ],
             [
              0.8888888888888888,
              "#fdca26"
             ],
             [
              1,
              "#f0f921"
             ]
            ],
            "type": "contour"
           }
          ],
          "contourcarpet": [
           {
            "colorbar": {
             "outlinewidth": 0,
             "ticks": ""
            },
            "type": "contourcarpet"
           }
          ],
          "heatmap": [
           {
            "colorbar": {
             "outlinewidth": 0,
             "ticks": ""
            },
            "colorscale": [
             [
              0,
              "#0d0887"
             ],
             [
              0.1111111111111111,
              "#46039f"
             ],
             [
              0.2222222222222222,
              "#7201a8"
             ],
             [
              0.3333333333333333,
              "#9c179e"
             ],
             [
              0.4444444444444444,
              "#bd3786"
             ],
             [
              0.5555555555555556,
              "#d8576b"
             ],
             [
              0.6666666666666666,
              "#ed7953"
             ],
             [
              0.7777777777777778,
              "#fb9f3a"
             ],
             [
              0.8888888888888888,
              "#fdca26"
             ],
             [
              1,
              "#f0f921"
             ]
            ],
            "type": "heatmap"
           }
          ],
          "heatmapgl": [
           {
            "colorbar": {
             "outlinewidth": 0,
             "ticks": ""
            },
            "colorscale": [
             [
              0,
              "#0d0887"
             ],
             [
              0.1111111111111111,
              "#46039f"
             ],
             [
              0.2222222222222222,
              "#7201a8"
             ],
             [
              0.3333333333333333,
              "#9c179e"
             ],
             [
              0.4444444444444444,
              "#bd3786"
             ],
             [
              0.5555555555555556,
              "#d8576b"
             ],
             [
              0.6666666666666666,
              "#ed7953"
             ],
             [
              0.7777777777777778,
              "#fb9f3a"
             ],
             [
              0.8888888888888888,
              "#fdca26"
             ],
             [
              1,
              "#f0f921"
             ]
            ],
            "type": "heatmapgl"
           }
          ],
          "histogram": [
           {
            "marker": {
             "pattern": {
              "fillmode": "overlay",
              "size": 10,
              "solidity": 0.2
             }
            },
            "type": "histogram"
           }
          ],
          "histogram2d": [
           {
            "colorbar": {
             "outlinewidth": 0,
             "ticks": ""
            },
            "colorscale": [
             [
              0,
              "#0d0887"
             ],
             [
              0.1111111111111111,
              "#46039f"
             ],
             [
              0.2222222222222222,
              "#7201a8"
             ],
             [
              0.3333333333333333,
              "#9c179e"
             ],
             [
              0.4444444444444444,
              "#bd3786"
             ],
             [
              0.5555555555555556,
              "#d8576b"
             ],
             [
              0.6666666666666666,
              "#ed7953"
             ],
             [
              0.7777777777777778,
              "#fb9f3a"
             ],
             [
              0.8888888888888888,
              "#fdca26"
             ],
             [
              1,
              "#f0f921"
             ]
            ],
            "type": "histogram2d"
           }
          ],
          "histogram2dcontour": [
           {
            "colorbar": {
             "outlinewidth": 0,
             "ticks": ""
            },
            "colorscale": [
             [
              0,
              "#0d0887"
             ],
             [
              0.1111111111111111,
              "#46039f"
             ],
             [
              0.2222222222222222,
              "#7201a8"
             ],
             [
              0.3333333333333333,
              "#9c179e"
             ],
             [
              0.4444444444444444,
              "#bd3786"
             ],
             [
              0.5555555555555556,
              "#d8576b"
             ],
             [
              0.6666666666666666,
              "#ed7953"
             ],
             [
              0.7777777777777778,
              "#fb9f3a"
             ],
             [
              0.8888888888888888,
              "#fdca26"
             ],
             [
              1,
              "#f0f921"
             ]
            ],
            "type": "histogram2dcontour"
           }
          ],
          "mesh3d": [
           {
            "colorbar": {
             "outlinewidth": 0,
             "ticks": ""
            },
            "type": "mesh3d"
           }
          ],
          "parcoords": [
           {
            "line": {
             "colorbar": {
              "outlinewidth": 0,
              "ticks": ""
             }
            },
            "type": "parcoords"
           }
          ],
          "pie": [
           {
            "automargin": true,
            "type": "pie"
           }
          ],
          "scatter": [
           {
            "fillpattern": {
             "fillmode": "overlay",
             "size": 10,
             "solidity": 0.2
            },
            "type": "scatter"
           }
          ],
          "scatter3d": [
           {
            "line": {
             "colorbar": {
              "outlinewidth": 0,
              "ticks": ""
             }
            },
            "marker": {
             "colorbar": {
              "outlinewidth": 0,
              "ticks": ""
             }
            },
            "type": "scatter3d"
           }
          ],
          "scattercarpet": [
           {
            "marker": {
             "colorbar": {
              "outlinewidth": 0,
              "ticks": ""
             }
            },
            "type": "scattercarpet"
           }
          ],
          "scattergeo": [
           {
            "marker": {
             "colorbar": {
              "outlinewidth": 0,
              "ticks": ""
             }
            },
            "type": "scattergeo"
           }
          ],
          "scattergl": [
           {
            "marker": {
             "colorbar": {
              "outlinewidth": 0,
              "ticks": ""
             }
            },
            "type": "scattergl"
           }
          ],
          "scattermapbox": [
           {
            "marker": {
             "colorbar": {
              "outlinewidth": 0,
              "ticks": ""
             }
            },
            "type": "scattermapbox"
           }
          ],
          "scatterpolar": [
           {
            "marker": {
             "colorbar": {
              "outlinewidth": 0,
              "ticks": ""
             }
            },
            "type": "scatterpolar"
           }
          ],
          "scatterpolargl": [
           {
            "marker": {
             "colorbar": {
              "outlinewidth": 0,
              "ticks": ""
             }
            },
            "type": "scatterpolargl"
           }
          ],
          "scatterternary": [
           {
            "marker": {
             "colorbar": {
              "outlinewidth": 0,
              "ticks": ""
             }
            },
            "type": "scatterternary"
           }
          ],
          "surface": [
           {
            "colorbar": {
             "outlinewidth": 0,
             "ticks": ""
            },
            "colorscale": [
             [
              0,
              "#0d0887"
             ],
             [
              0.1111111111111111,
              "#46039f"
             ],
             [
              0.2222222222222222,
              "#7201a8"
             ],
             [
              0.3333333333333333,
              "#9c179e"
             ],
             [
              0.4444444444444444,
              "#bd3786"
             ],
             [
              0.5555555555555556,
              "#d8576b"
             ],
             [
              0.6666666666666666,
              "#ed7953"
             ],
             [
              0.7777777777777778,
              "#fb9f3a"
             ],
             [
              0.8888888888888888,
              "#fdca26"
             ],
             [
              1,
              "#f0f921"
             ]
            ],
            "type": "surface"
           }
          ],
          "table": [
           {
            "cells": {
             "fill": {
              "color": "#EBF0F8"
             },
             "line": {
              "color": "white"
             }
            },
            "header": {
             "fill": {
              "color": "#C8D4E3"
             },
             "line": {
              "color": "white"
             }
            },
            "type": "table"
           }
          ]
         },
         "layout": {
          "annotationdefaults": {
           "arrowcolor": "#2a3f5f",
           "arrowhead": 0,
           "arrowwidth": 1
          },
          "autotypenumbers": "strict",
          "coloraxis": {
           "colorbar": {
            "outlinewidth": 0,
            "ticks": ""
           }
          },
          "colorscale": {
           "diverging": [
            [
             0,
             "#8e0152"
            ],
            [
             0.1,
             "#c51b7d"
            ],
            [
             0.2,
             "#de77ae"
            ],
            [
             0.3,
             "#f1b6da"
            ],
            [
             0.4,
             "#fde0ef"
            ],
            [
             0.5,
             "#f7f7f7"
            ],
            [
             0.6,
             "#e6f5d0"
            ],
            [
             0.7,
             "#b8e186"
            ],
            [
             0.8,
             "#7fbc41"
            ],
            [
             0.9,
             "#4d9221"
            ],
            [
             1,
             "#276419"
            ]
           ],
           "sequential": [
            [
             0,
             "#0d0887"
            ],
            [
             0.1111111111111111,
             "#46039f"
            ],
            [
             0.2222222222222222,
             "#7201a8"
            ],
            [
             0.3333333333333333,
             "#9c179e"
            ],
            [
             0.4444444444444444,
             "#bd3786"
            ],
            [
             0.5555555555555556,
             "#d8576b"
            ],
            [
             0.6666666666666666,
             "#ed7953"
            ],
            [
             0.7777777777777778,
             "#fb9f3a"
            ],
            [
             0.8888888888888888,
             "#fdca26"
            ],
            [
             1,
             "#f0f921"
            ]
           ],
           "sequentialminus": [
            [
             0,
             "#0d0887"
            ],
            [
             0.1111111111111111,
             "#46039f"
            ],
            [
             0.2222222222222222,
             "#7201a8"
            ],
            [
             0.3333333333333333,
             "#9c179e"
            ],
            [
             0.4444444444444444,
             "#bd3786"
            ],
            [
             0.5555555555555556,
             "#d8576b"
            ],
            [
             0.6666666666666666,
             "#ed7953"
            ],
            [
             0.7777777777777778,
             "#fb9f3a"
            ],
            [
             0.8888888888888888,
             "#fdca26"
            ],
            [
             1,
             "#f0f921"
            ]
           ]
          },
          "colorway": [
           "#636efa",
           "#EF553B",
           "#00cc96",
           "#ab63fa",
           "#FFA15A",
           "#19d3f3",
           "#FF6692",
           "#B6E880",
           "#FF97FF",
           "#FECB52"
          ],
          "font": {
           "color": "#2a3f5f"
          },
          "geo": {
           "bgcolor": "white",
           "lakecolor": "white",
           "landcolor": "#E5ECF6",
           "showlakes": true,
           "showland": true,
           "subunitcolor": "white"
          },
          "hoverlabel": {
           "align": "left"
          },
          "hovermode": "closest",
          "mapbox": {
           "style": "light"
          },
          "paper_bgcolor": "white",
          "plot_bgcolor": "#E5ECF6",
          "polar": {
           "angularaxis": {
            "gridcolor": "white",
            "linecolor": "white",
            "ticks": ""
           },
           "bgcolor": "#E5ECF6",
           "radialaxis": {
            "gridcolor": "white",
            "linecolor": "white",
            "ticks": ""
           }
          },
          "scene": {
           "xaxis": {
            "backgroundcolor": "#E5ECF6",
            "gridcolor": "white",
            "gridwidth": 2,
            "linecolor": "white",
            "showbackground": true,
            "ticks": "",
            "zerolinecolor": "white"
           },
           "yaxis": {
            "backgroundcolor": "#E5ECF6",
            "gridcolor": "white",
            "gridwidth": 2,
            "linecolor": "white",
            "showbackground": true,
            "ticks": "",
            "zerolinecolor": "white"
           },
           "zaxis": {
            "backgroundcolor": "#E5ECF6",
            "gridcolor": "white",
            "gridwidth": 2,
            "linecolor": "white",
            "showbackground": true,
            "ticks": "",
            "zerolinecolor": "white"
           }
          },
          "shapedefaults": {
           "line": {
            "color": "#2a3f5f"
           }
          },
          "ternary": {
           "aaxis": {
            "gridcolor": "white",
            "linecolor": "white",
            "ticks": ""
           },
           "baxis": {
            "gridcolor": "white",
            "linecolor": "white",
            "ticks": ""
           },
           "bgcolor": "#E5ECF6",
           "caxis": {
            "gridcolor": "white",
            "linecolor": "white",
            "ticks": ""
           }
          },
          "title": {
           "x": 0.05
          },
          "xaxis": {
           "automargin": true,
           "gridcolor": "white",
           "linecolor": "white",
           "ticks": "",
           "title": {
            "standoff": 15
           },
           "zerolinecolor": "white",
           "zerolinewidth": 2
          },
          "yaxis": {
           "automargin": true,
           "gridcolor": "white",
           "linecolor": "white",
           "ticks": "",
           "title": {
            "standoff": 15
           },
           "zerolinecolor": "white",
           "zerolinewidth": 2
          }
         }
        },
        "xaxis": {
         "anchor": "y",
         "constrain": "domain",
         "domain": [
          0,
          1
         ],
         "scaleanchor": "y",
         "title": {
          "text": "Current Season Stats"
         }
        },
        "yaxis": {
         "anchor": "x",
         "autorange": "reversed",
         "constrain": "domain",
         "domain": [
          0,
          1
         ],
         "title": {
          "text": "Previous Season Stats"
         }
        }
       }
      },
      "text/html": [
       "<div>                            <div id=\"021924eb-eb3b-45b1-b83d-3f5e54d24ef6\" class=\"plotly-graph-div\" style=\"height:525px; width:100%;\"></div>            <script type=\"text/javascript\">                require([\"plotly\"], function(Plotly) {                    window.PLOTLYENV=window.PLOTLYENV || {};                                    if (document.getElementById(\"021924eb-eb3b-45b1-b83d-3f5e54d24ef6\")) {                    Plotly.newPlot(                        \"021924eb-eb3b-45b1-b83d-3f5e54d24ef6\",                        [{\"coloraxis\":\"coloraxis\",\"name\":\"0\",\"texttemplate\":\"%{z}\",\"x\":[\"times_tackled_for_loss\",\"rushing_yards\",\"carries_last\",\"successful_plays\",\"rushing_touchdowns_last\",\"rushing_touchdowns\",\"successful_plays_last\",\"times_tackled_for_loss_last\",\"rushing_yards_last\",\"carries\"],\"y\":[\"fantasy_points\",\"fantasy_points_last\"],\"z\":[[0.82,0.95,0.58,0.95,0.54,0.9,0.6,0.51,0.6,0.93],[0.58,0.61,0.92,0.63,0.89,0.55,0.94,0.8,0.94,0.63]],\"type\":\"heatmap\",\"xaxis\":\"x\",\"yaxis\":\"y\",\"hovertemplate\":\"Current Season Stats: %{x}\\u003cbr\\u003ePrevious Season Stats: %{y}\\u003cbr\\u003ecolor: %{z}\\u003cextra\\u003e\\u003c\\u002fextra\\u003e\"}],                        {\"template\":{\"data\":{\"histogram2dcontour\":[{\"type\":\"histogram2dcontour\",\"colorbar\":{\"outlinewidth\":0,\"ticks\":\"\"},\"colorscale\":[[0.0,\"#0d0887\"],[0.1111111111111111,\"#46039f\"],[0.2222222222222222,\"#7201a8\"],[0.3333333333333333,\"#9c179e\"],[0.4444444444444444,\"#bd3786\"],[0.5555555555555556,\"#d8576b\"],[0.6666666666666666,\"#ed7953\"],[0.7777777777777778,\"#fb9f3a\"],[0.8888888888888888,\"#fdca26\"],[1.0,\"#f0f921\"]]}],\"choropleth\":[{\"type\":\"choropleth\",\"colorbar\":{\"outlinewidth\":0,\"ticks\":\"\"}}],\"histogram2d\":[{\"type\":\"histogram2d\",\"colorbar\":{\"outlinewidth\":0,\"ticks\":\"\"},\"colorscale\":[[0.0,\"#0d0887\"],[0.1111111111111111,\"#46039f\"],[0.2222222222222222,\"#7201a8\"],[0.3333333333333333,\"#9c179e\"],[0.4444444444444444,\"#bd3786\"],[0.5555555555555556,\"#d8576b\"],[0.6666666666666666,\"#ed7953\"],[0.7777777777777778,\"#fb9f3a\"],[0.8888888888888888,\"#fdca26\"],[1.0,\"#f0f921\"]]}],\"heatmap\":[{\"type\":\"heatmap\",\"colorbar\":{\"outlinewidth\":0,\"ticks\":\"\"},\"colorscale\":[[0.0,\"#0d0887\"],[0.1111111111111111,\"#46039f\"],[0.2222222222222222,\"#7201a8\"],[0.3333333333333333,\"#9c179e\"],[0.4444444444444444,\"#bd3786\"],[0.5555555555555556,\"#d8576b\"],[0.6666666666666666,\"#ed7953\"],[0.7777777777777778,\"#fb9f3a\"],[0.8888888888888888,\"#fdca26\"],[1.0,\"#f0f921\"]]}],\"heatmapgl\":[{\"type\":\"heatmapgl\",\"colorbar\":{\"outlinewidth\":0,\"ticks\":\"\"},\"colorscale\":[[0.0,\"#0d0887\"],[0.1111111111111111,\"#46039f\"],[0.2222222222222222,\"#7201a8\"],[0.3333333333333333,\"#9c179e\"],[0.4444444444444444,\"#bd3786\"],[0.5555555555555556,\"#d8576b\"],[0.6666666666666666,\"#ed7953\"],[0.7777777777777778,\"#fb9f3a\"],[0.8888888888888888,\"#fdca26\"],[1.0,\"#f0f921\"]]}],\"contourcarpet\":[{\"type\":\"contourcarpet\",\"colorbar\":{\"outlinewidth\":0,\"ticks\":\"\"}}],\"contour\":[{\"type\":\"contour\",\"colorbar\":{\"outlinewidth\":0,\"ticks\":\"\"},\"colorscale\":[[0.0,\"#0d0887\"],[0.1111111111111111,\"#46039f\"],[0.2222222222222222,\"#7201a8\"],[0.3333333333333333,\"#9c179e\"],[0.4444444444444444,\"#bd3786\"],[0.5555555555555556,\"#d8576b\"],[0.6666666666666666,\"#ed7953\"],[0.7777777777777778,\"#fb9f3a\"],[0.8888888888888888,\"#fdca26\"],[1.0,\"#f0f921\"]]}],\"surface\":[{\"type\":\"surface\",\"colorbar\":{\"outlinewidth\":0,\"ticks\":\"\"},\"colorscale\":[[0.0,\"#0d0887\"],[0.1111111111111111,\"#46039f\"],[0.2222222222222222,\"#7201a8\"],[0.3333333333333333,\"#9c179e\"],[0.4444444444444444,\"#bd3786\"],[0.5555555555555556,\"#d8576b\"],[0.6666666666666666,\"#ed7953\"],[0.7777777777777778,\"#fb9f3a\"],[0.8888888888888888,\"#fdca26\"],[1.0,\"#f0f921\"]]}],\"mesh3d\":[{\"type\":\"mesh3d\",\"colorbar\":{\"outlinewidth\":0,\"ticks\":\"\"}}],\"scatter\":[{\"fillpattern\":{\"fillmode\":\"overlay\",\"size\":10,\"solidity\":0.2},\"type\":\"scatter\"}],\"parcoords\":[{\"type\":\"parcoords\",\"line\":{\"colorbar\":{\"outlinewidth\":0,\"ticks\":\"\"}}}],\"scatterpolargl\":[{\"type\":\"scatterpolargl\",\"marker\":{\"colorbar\":{\"outlinewidth\":0,\"ticks\":\"\"}}}],\"bar\":[{\"error_x\":{\"color\":\"#2a3f5f\"},\"error_y\":{\"color\":\"#2a3f5f\"},\"marker\":{\"line\":{\"color\":\"#E5ECF6\",\"width\":0.5},\"pattern\":{\"fillmode\":\"overlay\",\"size\":10,\"solidity\":0.2}},\"type\":\"bar\"}],\"scattergeo\":[{\"type\":\"scattergeo\",\"marker\":{\"colorbar\":{\"outlinewidth\":0,\"ticks\":\"\"}}}],\"scatterpolar\":[{\"type\":\"scatterpolar\",\"marker\":{\"colorbar\":{\"outlinewidth\":0,\"ticks\":\"\"}}}],\"histogram\":[{\"marker\":{\"pattern\":{\"fillmode\":\"overlay\",\"size\":10,\"solidity\":0.2}},\"type\":\"histogram\"}],\"scattergl\":[{\"type\":\"scattergl\",\"marker\":{\"colorbar\":{\"outlinewidth\":0,\"ticks\":\"\"}}}],\"scatter3d\":[{\"type\":\"scatter3d\",\"line\":{\"colorbar\":{\"outlinewidth\":0,\"ticks\":\"\"}},\"marker\":{\"colorbar\":{\"outlinewidth\":0,\"ticks\":\"\"}}}],\"scattermapbox\":[{\"type\":\"scattermapbox\",\"marker\":{\"colorbar\":{\"outlinewidth\":0,\"ticks\":\"\"}}}],\"scatterternary\":[{\"type\":\"scatterternary\",\"marker\":{\"colorbar\":{\"outlinewidth\":0,\"ticks\":\"\"}}}],\"scattercarpet\":[{\"type\":\"scattercarpet\",\"marker\":{\"colorbar\":{\"outlinewidth\":0,\"ticks\":\"\"}}}],\"carpet\":[{\"aaxis\":{\"endlinecolor\":\"#2a3f5f\",\"gridcolor\":\"white\",\"linecolor\":\"white\",\"minorgridcolor\":\"white\",\"startlinecolor\":\"#2a3f5f\"},\"baxis\":{\"endlinecolor\":\"#2a3f5f\",\"gridcolor\":\"white\",\"linecolor\":\"white\",\"minorgridcolor\":\"white\",\"startlinecolor\":\"#2a3f5f\"},\"type\":\"carpet\"}],\"table\":[{\"cells\":{\"fill\":{\"color\":\"#EBF0F8\"},\"line\":{\"color\":\"white\"}},\"header\":{\"fill\":{\"color\":\"#C8D4E3\"},\"line\":{\"color\":\"white\"}},\"type\":\"table\"}],\"barpolar\":[{\"marker\":{\"line\":{\"color\":\"#E5ECF6\",\"width\":0.5},\"pattern\":{\"fillmode\":\"overlay\",\"size\":10,\"solidity\":0.2}},\"type\":\"barpolar\"}],\"pie\":[{\"automargin\":true,\"type\":\"pie\"}]},\"layout\":{\"autotypenumbers\":\"strict\",\"colorway\":[\"#636efa\",\"#EF553B\",\"#00cc96\",\"#ab63fa\",\"#FFA15A\",\"#19d3f3\",\"#FF6692\",\"#B6E880\",\"#FF97FF\",\"#FECB52\"],\"font\":{\"color\":\"#2a3f5f\"},\"hovermode\":\"closest\",\"hoverlabel\":{\"align\":\"left\"},\"paper_bgcolor\":\"white\",\"plot_bgcolor\":\"#E5ECF6\",\"polar\":{\"bgcolor\":\"#E5ECF6\",\"angularaxis\":{\"gridcolor\":\"white\",\"linecolor\":\"white\",\"ticks\":\"\"},\"radialaxis\":{\"gridcolor\":\"white\",\"linecolor\":\"white\",\"ticks\":\"\"}},\"ternary\":{\"bgcolor\":\"#E5ECF6\",\"aaxis\":{\"gridcolor\":\"white\",\"linecolor\":\"white\",\"ticks\":\"\"},\"baxis\":{\"gridcolor\":\"white\",\"linecolor\":\"white\",\"ticks\":\"\"},\"caxis\":{\"gridcolor\":\"white\",\"linecolor\":\"white\",\"ticks\":\"\"}},\"coloraxis\":{\"colorbar\":{\"outlinewidth\":0,\"ticks\":\"\"}},\"colorscale\":{\"sequential\":[[0.0,\"#0d0887\"],[0.1111111111111111,\"#46039f\"],[0.2222222222222222,\"#7201a8\"],[0.3333333333333333,\"#9c179e\"],[0.4444444444444444,\"#bd3786\"],[0.5555555555555556,\"#d8576b\"],[0.6666666666666666,\"#ed7953\"],[0.7777777777777778,\"#fb9f3a\"],[0.8888888888888888,\"#fdca26\"],[1.0,\"#f0f921\"]],\"sequentialminus\":[[0.0,\"#0d0887\"],[0.1111111111111111,\"#46039f\"],[0.2222222222222222,\"#7201a8\"],[0.3333333333333333,\"#9c179e\"],[0.4444444444444444,\"#bd3786\"],[0.5555555555555556,\"#d8576b\"],[0.6666666666666666,\"#ed7953\"],[0.7777777777777778,\"#fb9f3a\"],[0.8888888888888888,\"#fdca26\"],[1.0,\"#f0f921\"]],\"diverging\":[[0,\"#8e0152\"],[0.1,\"#c51b7d\"],[0.2,\"#de77ae\"],[0.3,\"#f1b6da\"],[0.4,\"#fde0ef\"],[0.5,\"#f7f7f7\"],[0.6,\"#e6f5d0\"],[0.7,\"#b8e186\"],[0.8,\"#7fbc41\"],[0.9,\"#4d9221\"],[1,\"#276419\"]]},\"xaxis\":{\"gridcolor\":\"white\",\"linecolor\":\"white\",\"ticks\":\"\",\"title\":{\"standoff\":15},\"zerolinecolor\":\"white\",\"automargin\":true,\"zerolinewidth\":2},\"yaxis\":{\"gridcolor\":\"white\",\"linecolor\":\"white\",\"ticks\":\"\",\"title\":{\"standoff\":15},\"zerolinecolor\":\"white\",\"automargin\":true,\"zerolinewidth\":2},\"scene\":{\"xaxis\":{\"backgroundcolor\":\"#E5ECF6\",\"gridcolor\":\"white\",\"linecolor\":\"white\",\"showbackground\":true,\"ticks\":\"\",\"zerolinecolor\":\"white\",\"gridwidth\":2},\"yaxis\":{\"backgroundcolor\":\"#E5ECF6\",\"gridcolor\":\"white\",\"linecolor\":\"white\",\"showbackground\":true,\"ticks\":\"\",\"zerolinecolor\":\"white\",\"gridwidth\":2},\"zaxis\":{\"backgroundcolor\":\"#E5ECF6\",\"gridcolor\":\"white\",\"linecolor\":\"white\",\"showbackground\":true,\"ticks\":\"\",\"zerolinecolor\":\"white\",\"gridwidth\":2}},\"shapedefaults\":{\"line\":{\"color\":\"#2a3f5f\"}},\"annotationdefaults\":{\"arrowcolor\":\"#2a3f5f\",\"arrowhead\":0,\"arrowwidth\":1},\"geo\":{\"bgcolor\":\"white\",\"landcolor\":\"#E5ECF6\",\"subunitcolor\":\"white\",\"showland\":true,\"showlakes\":true,\"lakecolor\":\"white\"},\"title\":{\"x\":0.05},\"mapbox\":{\"style\":\"light\"}}},\"xaxis\":{\"anchor\":\"y\",\"domain\":[0.0,1.0],\"scaleanchor\":\"y\",\"constrain\":\"domain\",\"title\":{\"text\":\"Current Season Stats\"}},\"yaxis\":{\"anchor\":\"x\",\"domain\":[0.0,1.0],\"autorange\":\"reversed\",\"constrain\":\"domain\",\"title\":{\"text\":\"Previous Season Stats\"}},\"coloraxis\":{\"colorscale\":[[0.0,\"#0d0887\"],[0.1111111111111111,\"#46039f\"],[0.2222222222222222,\"#7201a8\"],[0.3333333333333333,\"#9c179e\"],[0.4444444444444444,\"#bd3786\"],[0.5555555555555556,\"#d8576b\"],[0.6666666666666666,\"#ed7953\"],[0.7777777777777778,\"#fb9f3a\"],[0.8888888888888888,\"#fdca26\"],[1.0,\"#f0f921\"]]},\"margin\":{\"t\":60}},                        {\"responsive\": true}                    ).then(function(){\n",
       "                            \n",
       "var gd = document.getElementById('021924eb-eb3b-45b1-b83d-3f5e54d24ef6');\n",
       "var x = new MutationObserver(function (mutations, observer) {{\n",
       "        var display = window.getComputedStyle(gd).display;\n",
       "        if (!display || display === 'none') {{\n",
       "            console.log([gd, 'removed!']);\n",
       "            Plotly.purge(gd);\n",
       "            observer.disconnect();\n",
       "        }}\n",
       "}});\n",
       "\n",
       "// Listen for the removal of the full notebook cells\n",
       "var notebookContainer = gd.closest('#notebook-container');\n",
       "if (notebookContainer) {{\n",
       "    x.observe(notebookContainer, {childList: true});\n",
       "}}\n",
       "\n",
       "// Listen for the clearing of the current output cell\n",
       "var outputEl = gd.closest('.output');\n",
       "if (outputEl) {{\n",
       "    x.observe(outputEl, {childList: true});\n",
       "}}\n",
       "\n",
       "                        })                };                });            </script>        </div>"
      ]
     },
     "metadata": {},
     "output_type": "display_data"
    },
    {
     "name": "stdout",
     "output_type": "stream",
     "text": [
      "rushing_yards\n",
      "\n",
      "Save path: fantasy-relevance-unfiltered-rb-scatter-rushing_yards\n",
      "\n"
     ]
    },
    {
     "data": {
      "application/vnd.plotly.v1+json": {
       "config": {
        "plotlyServerURL": "https://plot.ly"
       },
       "data": [
        {
         "customdata": [
          [
           "W.McGahee",
           2013,
           31
          ],
          [
           "S.Jackson",
           2013,
           30
          ],
          [
           "S.Jackson",
           2014,
           31
          ],
          [
           "S.Jackson",
           2015,
           32
          ],
          [
           "J.Kuhn",
           2016,
           33
          ],
          [
           "J.Kuhn",
           2017,
           34
          ],
          [
           "R.Brown",
           2013,
           31
          ],
          [
           "R.Brown",
           2014,
           32
          ],
          [
           "F.Gore",
           2013,
           30
          ],
          [
           "F.Gore",
           2014,
           31
          ],
          [
           "F.Gore",
           2015,
           32
          ],
          [
           "F.Gore",
           2016,
           33
          ],
          [
           "F.Gore",
           2017,
           34
          ],
          [
           "F.Gore",
           2018,
           35
          ],
          [
           "F.Gore",
           2019,
           36
          ],
          [
           "F.Gore",
           2020,
           37
          ],
          [
           "B.Jacobs",
           2013,
           31
          ],
          [
           "D.Sproles",
           2013,
           30
          ],
          [
           "D.Sproles",
           2014,
           31
          ],
          [
           "D.Sproles",
           2015,
           32
          ],
          [
           "D.Sproles",
           2016,
           33
          ],
          [
           "D.Sproles",
           2017,
           34
          ],
          [
           "D.Sproles",
           2018,
           35
          ],
          [
           "D.Sproles",
           2019,
           36
          ],
          [
           "F.Jackson",
           2013,
           32
          ],
          [
           "F.Jackson",
           2014,
           33
          ],
          [
           "F.Jackson",
           2015,
           34
          ],
          [
           "R.Bush",
           2013,
           28
          ],
          [
           "R.Bush",
           2014,
           29
          ],
          [
           "R.Bush",
           2015,
           30
          ],
          [
           "R.Bush",
           2016,
           31
          ],
          [
           "D.Williams",
           2013,
           30
          ],
          [
           "D.Williams",
           2014,
           31
          ],
          [
           "M.Jones-Drew",
           2013,
           28
          ],
          [
           "M.Jones-Drew",
           2014,
           29
          ],
          [
           "L.Washington",
           2013,
           31
          ],
          [
           "L.Washington",
           2014,
           32
          ],
          [
           "P.Thomas",
           2013,
           28
          ],
          [
           "P.Thomas",
           2014,
           29
          ],
          [
           "P.Thomas",
           2015,
           30
          ],
          [
           "A.Peterson",
           2013,
           28
          ],
          [
           "A.Peterson",
           2014,
           29
          ],
          [
           "A.Peterson",
           2015,
           30
          ],
          [
           "A.Peterson",
           2016,
           31
          ],
          [
           "A.Peterson",
           2017,
           32
          ],
          [
           "A.Peterson",
           2018,
           33
          ],
          [
           "A.Peterson",
           2019,
           34
          ],
          [
           "A.Peterson",
           2020,
           35
          ],
          [
           "A.Peterson",
           2021,
           36
          ],
          [
           "M.Lynch",
           2013,
           27
          ],
          [
           "M.Lynch",
           2014,
           28
          ],
          [
           "M.Lynch",
           2015,
           29
          ],
          [
           "M.Lynch",
           2018,
           32
          ],
          [
           "M.Lynch",
           2019,
           33
          ],
          [
           "B.Leonard",
           2013,
           29
          ],
          [
           "M.Bush",
           2013,
           29
          ],
          [
           "J.Snelling",
           2013,
           29
          ],
          [
           "A.Bradshaw",
           2013,
           27
          ],
          [
           "A.Bradshaw",
           2014,
           28
          ],
          [
           "A.Bradshaw",
           2015,
           29
          ],
          [
           "J.Battle",
           2013,
           29
          ],
          [
           "B.Green-Ellis",
           2013,
           28
          ],
          [
           "D.Reynaud",
           2013,
           28
          ],
          [
           "D.Woodhead",
           2013,
           28
          ],
          [
           "D.Woodhead",
           2014,
           29
          ],
          [
           "D.Woodhead",
           2015,
           30
          ],
          [
           "D.Woodhead",
           2016,
           31
          ],
          [
           "D.Woodhead",
           2017,
           32
          ],
          [
           "M.Tolbert",
           2016,
           30
          ],
          [
           "M.Tolbert",
           2017,
           31
          ],
          [
           "D.McFadden",
           2013,
           26
          ],
          [
           "D.McFadden",
           2014,
           27
          ],
          [
           "D.McFadden",
           2015,
           28
          ],
          [
           "D.McFadden",
           2016,
           29
          ],
          [
           "D.McFadden",
           2017,
           30
          ],
          [
           "J.Stewart",
           2013,
           26
          ],
          [
           "J.Stewart",
           2014,
           27
          ],
          [
           "J.Stewart",
           2015,
           28
          ],
          [
           "J.Stewart",
           2016,
           29
          ],
          [
           "J.Stewart",
           2017,
           30
          ],
          [
           "J.Stewart",
           2018,
           31
          ],
          [
           "F.Jones",
           2013,
           26
          ],
          [
           "R.Mendenhall",
           2013,
           26
          ],
          [
           "C.Johnson",
           2013,
           27
          ],
          [
           "C.Johnson",
           2014,
           28
          ],
          [
           "C.Johnson",
           2015,
           29
          ],
          [
           "C.Johnson",
           2016,
           30
          ],
          [
           "C.Johnson",
           2017,
           31
          ],
          [
           "M.Forte",
           2013,
           27
          ],
          [
           "M.Forte",
           2014,
           28
          ],
          [
           "M.Forte",
           2015,
           29
          ],
          [
           "M.Forte",
           2016,
           30
          ],
          [
           "M.Forte",
           2017,
           31
          ],
          [
           "R.Rice",
           2013,
           26
          ],
          [
           "J.Charles",
           2013,
           26
          ],
          [
           "J.Charles",
           2014,
           27
          ],
          [
           "J.Charles",
           2015,
           28
          ],
          [
           "J.Charles",
           2016,
           29
          ],
          [
           "J.Charles",
           2017,
           30
          ],
          [
           "J.Charles",
           2018,
           31
          ],
          [
           "T.Choice",
           2013,
           28
          ],
          [
           "J.Felton",
           2016,
           30
          ],
          [
           "T.Hightower",
           2016,
           30
          ],
          [
           "P.Hillis",
           2013,
           27
          ],
          [
           "P.Hillis",
           2014,
           28
          ],
          [
           "J.Forsett",
           2013,
           27
          ],
          [
           "J.Forsett",
           2014,
           28
          ],
          [
           "J.Forsett",
           2015,
           29
          ],
          [
           "J.Forsett",
           2016,
           30
          ],
          [
           "M.Reece",
           2016,
           31
          ],
          [
           "I.Redman",
           2013,
           28
          ],
          [
           "M.Thigpen",
           2013,
           27
          ],
          [
           "A.Foster",
           2013,
           27
          ],
          [
           "A.Foster",
           2014,
           28
          ],
          [
           "A.Foster",
           2015,
           29
          ],
          [
           "A.Foster",
           2016,
           30
          ],
          [
           "A.Smith",
           2014,
           28
          ],
          [
           "A.Smith",
           2015,
           29
          ],
          [
           "A.Smith",
           2016,
           30
          ],
          [
           "S.Greene",
           2013,
           28
          ],
          [
           "S.Greene",
           2014,
           29
          ],
          [
           "C.Peerman",
           2013,
           26
          ],
          [
           "C.Peerman",
           2014,
           27
          ],
          [
           "B.Scott",
           2013,
           29
          ],
          [
           "L.Stephens-Howling",
           2013,
           26
          ],
          [
           "K.Moreno",
           2013,
           26
          ],
          [
           "K.Moreno",
           2014,
           27
          ],
          [
           "D.Brown",
           2013,
           26
          ],
          [
           "D.Brown",
           2014,
           27
          ],
          [
           "D.Brown",
           2015,
           28
          ],
          [
           "L.McCoy",
           2013,
           25
          ],
          [
           "L.McCoy",
           2014,
           26
          ],
          [
           "L.McCoy",
           2015,
           27
          ],
          [
           "L.McCoy",
           2016,
           28
          ],
          [
           "L.McCoy",
           2017,
           29
          ],
          [
           "L.McCoy",
           2018,
           30
          ],
          [
           "L.McCoy",
           2019,
           31
          ],
          [
           "L.McCoy",
           2020,
           32
          ],
          [
           "M.Goodson",
           2013,
           26
          ],
          [
           "A.Brown",
           2013,
           26
          ],
          [
           "R.Jennings",
           2013,
           28
          ],
          [
           "R.Jennings",
           2014,
           29
          ],
          [
           "R.Jennings",
           2015,
           30
          ],
          [
           "R.Jennings",
           2016,
           31
          ],
          [
           "J.Bell",
           2013,
           27
          ],
          [
           "J.Bell",
           2014,
           28
          ],
          [
           "J.Bell",
           2015,
           29
          ],
          [
           "J.Bell",
           2016,
           30
          ],
          [
           "L.Blount",
           2013,
           26
          ],
          [
           "L.Blount",
           2014,
           27
          ],
          [
           "L.Blount",
           2015,
           28
          ],
          [
           "L.Blount",
           2016,
           29
          ],
          [
           "L.Blount",
           2017,
           30
          ],
          [
           "L.Blount",
           2018,
           31
          ],
          [
           "C.Ivory",
           2013,
           25
          ],
          [
           "C.Ivory",
           2014,
           26
          ],
          [
           "C.Ivory",
           2015,
           27
          ],
          [
           "C.Ivory",
           2016,
           28
          ],
          [
           "C.Ivory",
           2017,
           29
          ],
          [
           "C.Ivory",
           2018,
           30
          ],
          [
           "D.McCluster",
           2014,
           26
          ],
          [
           "D.McCluster",
           2015,
           27
          ],
          [
           "D.McCluster",
           2016,
           28
          ],
          [
           "A.Dixon",
           2013,
           25
          ],
          [
           "A.Dixon",
           2014,
           26
          ],
          [
           "A.Dixon",
           2015,
           27
          ],
          [
           "J.Dwyer",
           2013,
           24
          ],
          [
           "J.Dwyer",
           2014,
           25
          ],
          [
           "J.Starks",
           2013,
           27
          ],
          [
           "J.Starks",
           2014,
           28
          ],
          [
           "J.Starks",
           2015,
           29
          ],
          [
           "J.Starks",
           2016,
           30
          ],
          [
           "C.Spiller",
           2013,
           26
          ],
          [
           "C.Spiller",
           2014,
           27
          ],
          [
           "C.Spiller",
           2015,
           28
          ],
          [
           "C.Spiller",
           2016,
           29
          ],
          [
           "C.Spiller",
           2017,
           30
          ],
          [
           "R.Mathews",
           2013,
           25
          ],
          [
           "R.Mathews",
           2016,
           28
          ],
          [
           "T.Gerhart",
           2013,
           26
          ],
          [
           "T.Gerhart",
           2014,
           27
          ],
          [
           "T.Gerhart",
           2015,
           28
          ],
          [
           "B.Tate",
           2013,
           25
          ],
          [
           "B.Tate",
           2014,
           26
          ],
          [
           "W.Tukuafu",
           2016,
           32
          ],
          [
           "J.Develin",
           2019,
           31
          ],
          [
           "M.Ingram",
           2013,
           23
          ],
          [
           "M.Ingram",
           2014,
           24
          ],
          [
           "M.Ingram",
           2015,
           25
          ],
          [
           "M.Ingram",
           2016,
           26
          ],
          [
           "M.Ingram",
           2017,
           27
          ],
          [
           "M.Ingram",
           2018,
           28
          ],
          [
           "M.Ingram",
           2019,
           29
          ],
          [
           "M.Ingram",
           2020,
           30
          ],
          [
           "M.Ingram",
           2021,
           31
          ],
          [
           "M.Ingram",
           2022,
           32
          ],
          [
           "S.Vereen",
           2013,
           24
          ],
          [
           "S.Vereen",
           2014,
           25
          ],
          [
           "S.Vereen",
           2015,
           26
          ],
          [
           "S.Vereen",
           2016,
           27
          ],
          [
           "S.Vereen",
           2017,
           28
          ],
          [
           "M.Leshoure",
           2013,
           23
          ],
          [
           "D.Thomas",
           2013,
           25
          ],
          [
           "D.Murray",
           2013,
           25
          ],
          [
           "D.Murray",
           2014,
           26
          ],
          [
           "D.Murray",
           2015,
           27
          ],
          [
           "D.Murray",
           2016,
           28
          ],
          [
           "D.Murray",
           2017,
           29
          ],
          [
           "S.Ridley",
           2013,
           24
          ],
          [
           "S.Ridley",
           2014,
           25
          ],
          [
           "S.Ridley",
           2015,
           26
          ],
          [
           "S.Ridley",
           2016,
           27
          ],
          [
           "S.Ridley",
           2017,
           28
          ],
          [
           "S.Ridley",
           2018,
           29
          ],
          [
           "A.Green",
           2013,
           25
          ],
          [
           "R.Helu",
           2013,
           24
          ],
          [
           "R.Helu",
           2014,
           25
          ],
          [
           "R.Helu",
           2015,
           26
          ],
          [
           "K.Hunter",
           2013,
           24
          ],
          [
           "T.Jones",
           2016,
           28
          ],
          [
           "B.Powell",
           2013,
           24
          ],
          [
           "B.Powell",
           2014,
           25
          ],
          [
           "B.Powell",
           2015,
           26
          ],
          [
           "B.Powell",
           2016,
           27
          ],
          [
           "B.Powell",
           2017,
           28
          ],
          [
           "B.Powell",
           2018,
           29
          ],
          [
           "B.Powell",
           2019,
           30
          ],
          [
           "A.Sherman",
           2018,
           29
          ],
          [
           "A.Sherman",
           2019,
           30
          ],
          [
           "A.Sherman",
           2020,
           31
          ],
          [
           "J.Rodgers",
           2014,
           24
          ],
          [
           "J.Rodgers",
           2015,
           25
          ],
          [
           "J.Rodgers",
           2016,
           26
          ],
          [
           "J.Rodgers",
           2017,
           27
          ],
          [
           "J.Rodgers",
           2018,
           28
          ],
          [
           "D.Lewis",
           2016,
           25
          ],
          [
           "D.Lewis",
           2017,
           26
          ],
          [
           "D.Lewis",
           2018,
           27
          ],
          [
           "D.Lewis",
           2019,
           28
          ],
          [
           "D.Lewis",
           2020,
           29
          ],
          [
           "E.Royster",
           2013,
           25
          ],
          [
           "J.Todman",
           2013,
           23
          ],
          [
           "J.Todman",
           2014,
           24
          ],
          [
           "J.Todman",
           2015,
           25
          ],
          [
           "J.Todman",
           2016,
           26
          ],
          [
           "D.Scott",
           2013,
           25
          ],
          [
           "M.Asiata",
           2013,
           26
          ],
          [
           "M.Asiata",
           2014,
           27
          ],
          [
           "M.Asiata",
           2015,
           28
          ],
          [
           "M.Asiata",
           2016,
           29
          ],
          [
           "S.Draughn",
           2013,
           25
          ],
          [
           "S.Draughn",
           2014,
           26
          ],
          [
           "S.Draughn",
           2015,
           27
          ],
          [
           "S.Draughn",
           2016,
           28
          ],
          [
           "D.Harris",
           2015,
           26
          ],
          [
           "D.Harris",
           2016,
           27
          ],
          [
           "P.DiMarco",
           2018,
           29
          ],
          [
           "P.DiMarco",
           2019,
           30
          ],
          [
           "P.Tanner",
           2013,
           25
          ],
          [
           "A.Smith",
           2013,
           27
          ],
          [
           "L.Dunbar",
           2013,
           23
          ],
          [
           "L.Dunbar",
           2014,
           24
          ],
          [
           "L.Dunbar",
           2015,
           25
          ],
          [
           "L.Dunbar",
           2016,
           26
          ],
          [
           "L.Dunbar",
           2017,
           27
          ],
          [
           "D.Coleman",
           2018,
           27
          ],
          [
           "J.Gray",
           2015,
           25
          ],
          [
           "A.Morris",
           2013,
           24
          ],
          [
           "A.Morris",
           2014,
           25
          ],
          [
           "A.Morris",
           2015,
           26
          ],
          [
           "A.Morris",
           2016,
           27
          ],
          [
           "A.Morris",
           2017,
           28
          ],
          [
           "A.Morris",
           2018,
           29
          ],
          [
           "A.Morris",
           2019,
           30
          ],
          [
           "A.Morris",
           2020,
           31
          ],
          [
           "T.Cadet",
           2015,
           26
          ],
          [
           "T.Cadet",
           2016,
           27
          ],
          [
           "T.Cadet",
           2017,
           28
          ],
          [
           "T.Cadet",
           2018,
           29
          ],
          [
           "B.Bolden",
           2013,
           23
          ],
          [
           "B.Bolden",
           2014,
           24
          ],
          [
           "B.Bolden",
           2015,
           25
          ],
          [
           "B.Bolden",
           2016,
           26
          ],
          [
           "B.Bolden",
           2017,
           27
          ],
          [
           "B.Bolden",
           2018,
           28
          ],
          [
           "B.Bolden",
           2019,
           29
          ],
          [
           "B.Bolden",
           2022,
           32
          ],
          [
           "D.Wilson",
           2013,
           22
          ],
          [
           "L.James",
           2013,
           23
          ],
          [
           "L.James",
           2014,
           24
          ],
          [
           "B.Pierce",
           2013,
           22
          ],
          [
           "B.Pierce",
           2014,
           23
          ],
          [
           "B.Pierce",
           2015,
           24
          ],
          [
           "R.Turbin",
           2013,
           23
          ],
          [
           "R.Turbin",
           2014,
           24
          ],
          [
           "R.Turbin",
           2015,
           25
          ],
          [
           "R.Turbin",
           2016,
           26
          ],
          [
           "R.Turbin",
           2017,
           27
          ],
          [
           "R.Turbin",
           2018,
           28
          ],
          [
           "C.Gray",
           2013,
           23
          ],
          [
           "C.Gray",
           2014,
           24
          ],
          [
           "E.Baker",
           2014,
           23
          ],
          [
           "B.Rainey",
           2014,
           26
          ],
          [
           "B.Rainey",
           2015,
           27
          ],
          [
           "B.Rainey",
           2016,
           28
          ],
          [
           "B.Rainey",
           2017,
           29
          ],
          [
           "B.Brown",
           2013,
           22
          ],
          [
           "B.Brown",
           2014,
           23
          ],
          [
           "B.Brown",
           2015,
           24
          ],
          [
           "C.Polk",
           2014,
           24
          ],
          [
           "C.Polk",
           2015,
           25
          ],
          [
           "J.Stewart",
           2013,
           24
          ],
          [
           "J.Stewart",
           2014,
           25
          ],
          [
           "J.Olawale",
           2016,
           27
          ],
          [
           "J.Olawale",
           2017,
           28
          ],
          [
           "J.Grimes",
           2013,
           23
          ],
          [
           "J.Grimes",
           2014,
           24
          ],
          [
           "J.Grimes",
           2015,
           25
          ],
          [
           "J.Grimes",
           2016,
           26
          ],
          [
           "V.Ballard",
           2013,
           23
          ],
          [
           "D.Herron",
           2013,
           24
          ],
          [
           "D.Herron",
           2014,
           25
          ],
          [
           "D.Herron",
           2015,
           26
          ],
          [
           "D.Richardson",
           2013,
           23
          ],
          [
           "D.Martin",
           2013,
           24
          ],
          [
           "D.Martin",
           2014,
           25
          ],
          [
           "D.Martin",
           2015,
           26
          ],
          [
           "D.Martin",
           2016,
           27
          ],
          [
           "D.Martin",
           2017,
           28
          ],
          [
           "D.Martin",
           2018,
           29
          ],
          [
           "L.Miller",
           2013,
           22
          ],
          [
           "L.Miller",
           2014,
           23
          ],
          [
           "L.Miller",
           2015,
           24
          ],
          [
           "L.Miller",
           2016,
           25
          ],
          [
           "L.Miller",
           2017,
           26
          ],
          [
           "L.Miller",
           2018,
           27
          ],
          [
           "I.Pead",
           2013,
           23
          ],
          [
           "I.Pead",
           2016,
           26
          ],
          [
           "T.Richardson",
           2013,
           23
          ],
          [
           "T.Richardson",
           2014,
           24
          ],
          [
           "R.Hillman",
           2013,
           21
          ],
          [
           "R.Hillman",
           2014,
           22
          ],
          [
           "R.Hillman",
           2015,
           23
          ],
          [
           "R.Hillman",
           2016,
           24
          ],
          [
           "F.Whittaker",
           2014,
           25
          ],
          [
           "F.Whittaker",
           2015,
           26
          ],
          [
           "F.Whittaker",
           2016,
           27
          ],
          [
           "F.Whittaker",
           2017,
           28
          ],
          [
           "B.Cunningham",
           2014,
           24
          ],
          [
           "B.Cunningham",
           2015,
           25
          ],
          [
           "B.Cunningham",
           2016,
           26
          ],
          [
           "B.Cunningham",
           2017,
           27
          ],
          [
           "B.Cunningham",
           2018,
           28
          ],
          [
           "C.Anderson",
           2014,
           23
          ],
          [
           "C.Anderson",
           2015,
           24
          ],
          [
           "C.Anderson",
           2016,
           25
          ],
          [
           "C.Anderson",
           2017,
           26
          ],
          [
           "C.Anderson",
           2018,
           27
          ],
          [
           "C.Anderson",
           2019,
           28
          ],
          [
           "K.Juszczyk",
           2016,
           25
          ],
          [
           "K.Juszczyk",
           2017,
           26
          ],
          [
           "K.Juszczyk",
           2018,
           27
          ],
          [
           "K.Juszczyk",
           2019,
           28
          ],
          [
           "K.Juszczyk",
           2020,
           29
          ],
          [
           "K.Juszczyk",
           2021,
           30
          ],
          [
           "K.Juszczyk",
           2022,
           31
          ],
          [
           "Z.Line",
           2016,
           26
          ],
          [
           "Z.Line",
           2017,
           27
          ],
          [
           "Z.Line",
           2018,
           28
          ],
          [
           "Z.Line",
           2019,
           29
          ],
          [
           "T.Riddick",
           2014,
           23
          ],
          [
           "T.Riddick",
           2015,
           24
          ],
          [
           "T.Riddick",
           2016,
           25
          ],
          [
           "T.Riddick",
           2017,
           26
          ],
          [
           "T.Riddick",
           2018,
           27
          ],
          [
           "T.Bohanon",
           2018,
           27
          ],
          [
           "K.Williams",
           2015,
           24
          ],
          [
           "K.Williams",
           2016,
           25
          ],
          [
           "K.Williams",
           2017,
           26
          ],
          [
           "M.Cox",
           2014,
           25
          ],
          [
           "G.Winn",
           2015,
           24
          ],
          [
           "K.Davis",
           2014,
           22
          ],
          [
           "K.Davis",
           2015,
           23
          ],
          [
           "K.Davis",
           2016,
           24
          ],
          [
           "S.Taylor",
           2014,
           23
          ],
          [
           "S.Taylor",
           2015,
           24
          ],
          [
           "S.Taylor",
           2016,
           25
          ],
          [
           "A.Ellington",
           2014,
           25
          ],
          [
           "A.Ellington",
           2015,
           26
          ],
          [
           "A.Ellington",
           2016,
           27
          ],
          [
           "A.Ellington",
           2017,
           28
          ],
          [
           "R.Burkhead",
           2015,
           25
          ],
          [
           "R.Burkhead",
           2016,
           26
          ],
          [
           "R.Burkhead",
           2017,
           27
          ],
          [
           "R.Burkhead",
           2018,
           28
          ],
          [
           "R.Burkhead",
           2019,
           29
          ],
          [
           "R.Burkhead",
           2020,
           30
          ],
          [
           "R.Burkhead",
           2021,
           31
          ],
          [
           "R.Burkhead",
           2022,
           32
          ],
          [
           "K.Robinson",
           2014,
           24
          ],
          [
           "K.Robinson",
           2015,
           25
          ],
          [
           "K.Robinson",
           2016,
           26
          ],
          [
           "J.Randle",
           2014,
           22
          ],
          [
           "J.Randle",
           2015,
           23
          ],
          [
           "M.James",
           2014,
           23
          ],
          [
           "C.Thompson",
           2015,
           24
          ],
          [
           "C.Thompson",
           2016,
           25
          ],
          [
           "C.Thompson",
           2017,
           26
          ],
          [
           "C.Thompson",
           2018,
           27
          ],
          [
           "C.Thompson",
           2019,
           28
          ],
          [
           "C.Thompson",
           2020,
           29
          ],
          [
           "S.Ware",
           2016,
           24
          ],
          [
           "S.Ware",
           2019,
           27
          ],
          [
           "C.Michael",
           2014,
           23
          ],
          [
           "C.Michael",
           2015,
           24
          ],
          [
           "C.Michael",
           2016,
           25
          ],
          [
           "M.Gillislee",
           2016,
           25
          ],
          [
           "M.Gillislee",
           2017,
           26
          ],
          [
           "M.Gillislee",
           2018,
           27
          ],
          [
           "G.Bernard",
           2014,
           22
          ],
          [
           "G.Bernard",
           2015,
           23
          ],
          [
           "G.Bernard",
           2016,
           24
          ],
          [
           "G.Bernard",
           2017,
           25
          ],
          [
           "G.Bernard",
           2018,
           26
          ],
          [
           "G.Bernard",
           2019,
           27
          ],
          [
           "G.Bernard",
           2020,
           28
          ],
          [
           "G.Bernard",
           2021,
           29
          ],
          [
           "G.Bernard",
           2022,
           30
          ],
          [
           "K.Barner",
           2016,
           27
          ],
          [
           "K.Barner",
           2017,
           28
          ],
          [
           "K.Barner",
           2018,
           29
          ],
          [
           "K.Barner",
           2019,
           30
          ],
          [
           "E.Lacy",
           2014,
           24
          ],
          [
           "E.Lacy",
           2015,
           25
          ],
          [
           "E.Lacy",
           2016,
           26
          ],
          [
           "E.Lacy",
           2017,
           27
          ],
          [
           "L.Bell",
           2014,
           22
          ],
          [
           "L.Bell",
           2015,
           23
          ],
          [
           "L.Bell",
           2016,
           24
          ],
          [
           "L.Bell",
           2017,
           25
          ],
          [
           "L.Bell",
           2020,
           28
          ],
          [
           "L.Bell",
           2021,
           29
          ],
          [
           "L.Murray",
           2015,
           25
          ],
          [
           "L.Murray",
           2016,
           26
          ],
          [
           "L.Murray",
           2017,
           27
          ],
          [
           "L.Murray",
           2018,
           28
          ],
          [
           "L.Murray",
           2019,
           29
          ],
          [
           "L.Murray",
           2020,
           30
          ],
          [
           "L.Murray",
           2021,
           31
          ],
          [
           "L.Murray",
           2022,
           32
          ],
          [
           "M.Ball",
           2014,
           23
          ],
          [
           "Z.Stacy",
           2014,
           23
          ],
          [
           "Z.Stacy",
           2015,
           24
          ],
          [
           "D.Robinson",
           2014,
           23
          ],
          [
           "D.Robinson",
           2015,
           24
          ],
          [
           "D.Robinson",
           2016,
           25
          ],
          [
           "C.Patterson",
           2021,
           30
          ],
          [
           "C.Patterson",
           2022,
           31
          ],
          [
           "I.Crowell",
           2015,
           22
          ],
          [
           "I.Crowell",
           2016,
           23
          ],
          [
           "I.Crowell",
           2017,
           24
          ],
          [
           "I.Crowell",
           2018,
           25
          ],
          [
           "C.West",
           2016,
           25
          ],
          [
           "C.West",
           2017,
           26
          ],
          [
           "C.West",
           2018,
           27
          ],
          [
           "J.Thompson",
           2015,
           23
          ],
          [
           "J.Thompson",
           2016,
           24
          ],
          [
           "D.Fluellen",
           2018,
           26
          ],
          [
           "R.Nix",
           2018,
           26
          ],
          [
           "A.Andrews",
           2016,
           24
          ],
          [
           "Z.Tipton",
           2015,
           26
          ],
          [
           "O.Darkwa",
           2015,
           23
          ],
          [
           "O.Darkwa",
           2016,
           24
          ],
          [
           "O.Darkwa",
           2017,
           25
          ],
          [
           "D.Williams",
           2015,
           23
          ],
          [
           "D.Williams",
           2016,
           24
          ],
          [
           "D.Williams",
           2017,
           25
          ],
          [
           "D.Williams",
           2022,
           30
          ],
          [
           "K.Smith",
           2019,
           27
          ],
          [
           "K.Smith",
           2020,
           28
          ],
          [
           "K.Smith",
           2021,
           29
          ],
          [
           "K.Smith",
           2022,
           30
          ],
          [
           "C.Hyde",
           2015,
           24
          ],
          [
           "C.Hyde",
           2016,
           25
          ],
          [
           "C.Hyde",
           2017,
           26
          ],
          [
           "C.Hyde",
           2018,
           27
          ],
          [
           "C.Hyde",
           2019,
           28
          ],
          [
           "C.Hyde",
           2020,
           29
          ],
          [
           "C.Hyde",
           2021,
           30
          ],
          [
           "A.Williams",
           2015,
           23
          ],
          [
           "A.Williams",
           2016,
           24
          ],
          [
           "A.Williams",
           2017,
           25
          ],
          [
           "K.Carey",
           2015,
           22
          ],
          [
           "K.Carey",
           2016,
           23
          ],
          [
           "J.White",
           2015,
           23
          ],
          [
           "J.White",
           2016,
           24
          ],
          [
           "J.White",
           2017,
           25
          ],
          [
           "J.White",
           2018,
           26
          ],
          [
           "J.White",
           2019,
           27
          ],
          [
           "J.White",
           2020,
           28
          ],
          [
           "J.White",
           2021,
           29
          ],
          [
           "L.Taliaferro",
           2015,
           23
          ],
          [
           "L.Taliaferro",
           2016,
           24
          ],
          [
           "A.Blue",
           2015,
           24
          ],
          [
           "A.Blue",
           2016,
           25
          ],
          [
           "A.Blue",
           2017,
           26
          ],
          [
           "A.Blue",
           2018,
           27
          ],
          [
           "J.Prosch",
           2016,
           24
          ],
          [
           "K.Bibbs",
           2017,
           24
          ],
          [
           "K.Bibbs",
           2018,
           25
          ],
          [
           "S.Perry",
           2020,
           28
          ],
          [
           "B.Oliver",
           2015,
           24
          ],
          [
           "D.Freeman",
           2015,
           23
          ],
          [
           "D.Freeman",
           2016,
           24
          ],
          [
           "D.Freeman",
           2017,
           25
          ],
          [
           "D.Freeman",
           2018,
           26
          ],
          [
           "D.Freeman",
           2019,
           27
          ],
          [
           "D.Freeman",
           2020,
           28
          ],
          [
           "D.Freeman",
           2021,
           29
          ],
          [
           "J.Hill",
           2015,
           22
          ],
          [
           "J.Hill",
           2016,
           23
          ],
          [
           "J.Hill",
           2017,
           24
          ],
          [
           "J.Hill",
           2018,
           25
          ],
          [
           "F.Toussaint",
           2015,
           25
          ],
          [
           "F.Toussaint",
           2016,
           26
          ],
          [
           "F.Toussaint",
           2017,
           27
          ],
          [
           "T.West",
           2015,
           24
          ],
          [
           "T.West",
           2016,
           25
          ],
          [
           "T.West",
           2017,
           26
          ],
          [
           "J.McKinnon",
           2015,
           23
          ],
          [
           "J.McKinnon",
           2016,
           24
          ],
          [
           "J.McKinnon",
           2017,
           25
          ],
          [
           "J.McKinnon",
           2021,
           29
          ],
          [
           "J.McKinnon",
           2022,
           30
          ],
          [
           "C.Sims",
           2015,
           24
          ],
          [
           "C.Sims",
           2016,
           25
          ],
          [
           "T.Mason",
           2015,
           22
          ],
          [
           "B.Sankey",
           2015,
           22
          ],
          [
           "J.Langford",
           2016,
           24
          ],
          [
           "J.Allen",
           2016,
           25
          ],
          [
           "J.Allen",
           2017,
           26
          ],
          [
           "J.Allen",
           2018,
           27
          ],
          [
           "J.Allen",
           2019,
           28
          ],
          [
           "J.Ajayi",
           2016,
           23
          ],
          [
           "J.Ajayi",
           2017,
           24
          ],
          [
           "J.Ajayi",
           2018,
           25
          ],
          [
           "J.Ajayi",
           2019,
           26
          ],
          [
           "M.Burton",
           2021,
           29
          ],
          [
           "M.Burton",
           2022,
           30
          ],
          [
           "C.Artis-Payne",
           2016,
           26
          ],
          [
           "C.Artis-Payne",
           2017,
           27
          ],
          [
           "C.Artis-Payne",
           2018,
           28
          ],
          [
           "A.Ripkowski",
           2017,
           24
          ],
          [
           "Z.Zenner",
           2016,
           24
          ],
          [
           "Z.Zenner",
           2017,
           25
          ],
          [
           "Z.Zenner",
           2018,
           26
          ],
          [
           "Z.Zenner",
           2019,
           27
          ],
          [
           "T.Ward",
           2016,
           24
          ],
          [
           "T.Ward",
           2017,
           25
          ],
          [
           "R.Mostert",
           2017,
           25
          ],
          [
           "R.Mostert",
           2018,
           26
          ],
          [
           "R.Mostert",
           2019,
           27
          ],
          [
           "R.Mostert",
           2020,
           28
          ],
          [
           "R.Mostert",
           2021,
           29
          ],
          [
           "R.Mostert",
           2022,
           30
          ],
          [
           "C.Grant",
           2016,
           24
          ],
          [
           "C.Grant",
           2017,
           25
          ],
          [
           "C.Grant",
           2018,
           26
          ],
          [
           "A.Hunt",
           2016,
           23
          ],
          [
           "A.Hunt",
           2017,
           24
          ],
          [
           "T.Magee",
           2016,
           23
          ],
          [
           "T.Watson",
           2017,
           24
          ],
          [
           "M.Brown",
           2016,
           23
          ],
          [
           "M.Brown",
           2017,
           24
          ],
          [
           "M.Brown",
           2018,
           25
          ],
          [
           "M.Brown",
           2019,
           26
          ],
          [
           "M.Brown",
           2020,
           27
          ],
          [
           "M.Brown",
           2021,
           28
          ],
          [
           "M.Brown",
           2022,
           29
          ],
          [
           "T.Rawls",
           2016,
           23
          ],
          [
           "T.Rawls",
           2017,
           24
          ],
          [
           "R.Smith",
           2018,
           26
          ],
          [
           "M.Jones",
           2016,
           23
          ],
          [
           "M.Jones",
           2017,
           24
          ],
          [
           "M.Murphy",
           2018,
           26
          ],
          [
           "M.Brown",
           2017,
           25
          ],
          [
           "T.Coleman",
           2016,
           23
          ],
          [
           "T.Coleman",
           2017,
           24
          ],
          [
           "T.Coleman",
           2018,
           25
          ],
          [
           "T.Coleman",
           2019,
           26
          ],
          [
           "T.Coleman",
           2020,
           27
          ],
          [
           "T.Coleman",
           2021,
           28
          ],
          [
           "T.Coleman",
           2022,
           29
          ],
          [
           "M.Davis",
           2016,
           23
          ],
          [
           "M.Davis",
           2017,
           24
          ],
          [
           "M.Davis",
           2018,
           25
          ],
          [
           "M.Davis",
           2019,
           26
          ],
          [
           "M.Davis",
           2020,
           27
          ],
          [
           "M.Davis",
           2021,
           28
          ],
          [
           "M.Davis",
           2022,
           29
          ],
          [
           "A.Abdullah",
           2016,
           23
          ],
          [
           "A.Abdullah",
           2017,
           24
          ],
          [
           "A.Abdullah",
           2018,
           25
          ],
          [
           "A.Abdullah",
           2019,
           26
          ],
          [
           "A.Abdullah",
           2020,
           27
          ],
          [
           "A.Abdullah",
           2021,
           28
          ],
          [
           "A.Abdullah",
           2022,
           29
          ],
          [
           "J.Fowler",
           2016,
           26
          ],
          [
           "J.Fowler",
           2017,
           27
          ],
          [
           "M.Gordon",
           2016,
           23
          ],
          [
           "M.Gordon",
           2017,
           24
          ],
          [
           "M.Gordon",
           2018,
           25
          ],
          [
           "M.Gordon",
           2019,
           26
          ],
          [
           "M.Gordon",
           2020,
           27
          ],
          [
           "M.Gordon",
           2021,
           28
          ],
          [
           "M.Gordon",
           2022,
           29
          ],
          [
           "D.Johnson",
           2016,
           24
          ],
          [
           "D.Johnson",
           2019,
           27
          ],
          [
           "D.Johnson",
           2022,
           30
          ],
          [
           "T.Montgomery",
           2016,
           23
          ],
          [
           "T.Montgomery",
           2017,
           24
          ],
          [
           "T.Montgomery",
           2018,
           25
          ],
          [
           "T.Montgomery",
           2019,
           26
          ],
          [
           "T.Montgomery",
           2020,
           27
          ],
          [
           "T.Yeldon",
           2016,
           22
          ],
          [
           "T.Yeldon",
           2017,
           23
          ],
          [
           "T.Yeldon",
           2018,
           24
          ],
          [
           "T.Yeldon",
           2019,
           25
          ],
          [
           "T.Yeldon",
           2020,
           26
          ],
          [
           "T.Gurley",
           2016,
           22
          ],
          [
           "T.Gurley",
           2017,
           23
          ],
          [
           "T.Gurley",
           2018,
           24
          ],
          [
           "T.Gurley",
           2019,
           25
          ],
          [
           "T.Gurley",
           2020,
           26
          ],
          [
           "D.Johnson",
           2018,
           24
          ],
          [
           "D.Johnson",
           2019,
           25
          ],
          [
           "D.Johnson",
           2022,
           28
          ],
          [
           "B.Hill",
           2017,
           24
          ],
          [
           "R.Kelley",
           2017,
           24
          ],
          [
           "R.Kelley",
           2018,
           25
          ],
          [
           "J.Ferguson",
           2017,
           24
          ],
          [
           "C.Prosise",
           2017,
           23
          ],
          [
           "C.Prosise",
           2018,
           24
          ],
          [
           "C.Prosise",
           2019,
           25
          ],
          [
           "C.Prosise",
           2020,
           26
          ],
          [
           "T.Ervin",
           2017,
           23
          ],
          [
           "T.Ervin",
           2020,
           26
          ],
          [
           "P.Perkins",
           2017,
           22
          ],
          [
           "A.Collins",
           2017,
           23
          ],
          [
           "A.Collins",
           2018,
           24
          ],
          [
           "A.Collins",
           2021,
           27
          ],
          [
           "D.Washington",
           2017,
           23
          ],
          [
           "D.Washington",
           2018,
           24
          ],
          [
           "D.Washington",
           2019,
           25
          ],
          [
           "D.Washington",
           2020,
           26
          ],
          [
           "D.Washington",
           2021,
           27
          ],
          [
           "D.Washington",
           2022,
           28
          ],
          [
           "D.Foster",
           2017,
           23
          ],
          [
           "J.McKissic",
           2017,
           24
          ],
          [
           "J.McKissic",
           2018,
           25
          ],
          [
           "J.McKissic",
           2019,
           26
          ],
          [
           "J.McKissic",
           2020,
           27
          ],
          [
           "J.McKissic",
           2021,
           28
          ],
          [
           "J.McKissic",
           2022,
           29
          ],
          [
           "P.Barber",
           2017,
           23
          ],
          [
           "P.Barber",
           2018,
           24
          ],
          [
           "P.Barber",
           2019,
           25
          ],
          [
           "P.Barber",
           2020,
           26
          ],
          [
           "P.Barber",
           2021,
           27
          ],
          [
           "D.Henry",
           2017,
           23
          ],
          [
           "D.Henry",
           2018,
           24
          ],
          [
           "D.Henry",
           2019,
           25
          ],
          [
           "D.Henry",
           2020,
           26
          ],
          [
           "D.Henry",
           2021,
           27
          ],
          [
           "D.Henry",
           2022,
           28
          ],
          [
           "J.Howard",
           2019,
           24
          ],
          [
           "J.Howard",
           2020,
           25
          ],
          [
           "J.Howard",
           2021,
           26
          ],
          [
           "J.Howard",
           2022,
           27
          ],
          [
           "W.Smallwood",
           2017,
           23
          ],
          [
           "W.Smallwood",
           2018,
           24
          ],
          [
           "W.Smallwood",
           2019,
           25
          ],
          [
           "E.Penny",
           2018,
           25
          ],
          [
           "E.Penny",
           2019,
           26
          ],
          [
           "E.Penny",
           2020,
           27
          ],
          [
           "E.Penny",
           2021,
           28
          ],
          [
           "D.Watt",
           2017,
           24
          ],
          [
           "D.Watt",
           2018,
           25
          ],
          [
           "D.Watt",
           2019,
           26
          ],
          [
           "D.Watt",
           2022,
           29
          ],
          [
           "C.Ham",
           2018,
           25
          ],
          [
           "C.Ham",
           2019,
           26
          ],
          [
           "C.Ham",
           2020,
           27
          ],
          [
           "C.Ham",
           2021,
           28
          ],
          [
           "C.Ham",
           2022,
           29
          ],
          [
           "D.Washington",
           2017,
           24
          ],
          [
           "D.Washington",
           2018,
           25
          ],
          [
           "D.Washington",
           2019,
           26
          ],
          [
           "D.Washington",
           2020,
           27
          ],
          [
           "A.Janovich",
           2017,
           24
          ],
          [
           "A.Janovich",
           2018,
           25
          ],
          [
           "A.Janovich",
           2019,
           26
          ],
          [
           "A.Janovich",
           2020,
           27
          ],
          [
           "A.Janovich",
           2021,
           28
          ],
          [
           "B.Marshall",
           2017,
           23
          ],
          [
           "B.Marshall",
           2018,
           24
          ],
          [
           "D.Booker",
           2017,
           25
          ],
          [
           "D.Booker",
           2018,
           26
          ],
          [
           "D.Booker",
           2019,
           27
          ],
          [
           "D.Booker",
           2020,
           28
          ],
          [
           "D.Booker",
           2021,
           29
          ],
          [
           "J.Williams",
           2019,
           25
          ],
          [
           "J.Williams",
           2020,
           26
          ],
          [
           "J.Williams",
           2021,
           27
          ],
          [
           "J.Williams",
           2022,
           28
          ],
          [
           "J.Richard",
           2017,
           23
          ],
          [
           "J.Richard",
           2018,
           24
          ],
          [
           "J.Richard",
           2019,
           25
          ],
          [
           "J.Richard",
           2020,
           26
          ],
          [
           "J.Richard",
           2021,
           27
          ],
          [
           "E.Elliott",
           2017,
           22
          ],
          [
           "E.Elliott",
           2018,
           23
          ],
          [
           "E.Elliott",
           2019,
           24
          ],
          [
           "E.Elliott",
           2020,
           25
          ],
          [
           "E.Elliott",
           2021,
           26
          ],
          [
           "E.Elliott",
           2022,
           27
          ],
          [
           "K.Drake",
           2017,
           23
          ],
          [
           "K.Drake",
           2018,
           24
          ],
          [
           "K.Drake",
           2019,
           25
          ],
          [
           "K.Drake",
           2020,
           26
          ],
          [
           "K.Drake",
           2021,
           27
          ],
          [
           "K.Drake",
           2022,
           28
          ],
          [
           "T.Pope",
           2020,
           26
          ],
          [
           "C.McCaffrey",
           2018,
           22
          ],
          [
           "C.McCaffrey",
           2019,
           23
          ],
          [
           "C.McCaffrey",
           2020,
           24
          ],
          [
           "C.McCaffrey",
           2021,
           25
          ],
          [
           "C.McCaffrey",
           2022,
           26
          ],
          [
           "A.Jones",
           2018,
           23
          ],
          [
           "A.Jones",
           2019,
           24
          ],
          [
           "A.Jones",
           2020,
           25
          ],
          [
           "A.Jones",
           2021,
           26
          ],
          [
           "A.Jones",
           2022,
           27
          ],
          [
           "E.McGuire",
           2018,
           24
          ],
          [
           "A.Armah",
           2019,
           25
          ],
          [
           "A.Armah",
           2020,
           26
          ],
          [
           "A.Armah",
           2021,
           27
          ],
          [
           "M.Breida",
           2018,
           23
          ],
          [
           "M.Breida",
           2019,
           24
          ],
          [
           "M.Breida",
           2020,
           25
          ],
          [
           "M.Breida",
           2021,
           26
          ],
          [
           "M.Breida",
           2022,
           27
          ],
          [
           "P.Ricard",
           2021,
           27
          ],
          [
           "P.Ricard",
           2022,
           28
          ],
          [
           "S.Perine",
           2018,
           22
          ],
          [
           "S.Perine",
           2019,
           23
          ],
          [
           "S.Perine",
           2020,
           24
          ],
          [
           "S.Perine",
           2021,
           25
          ],
          [
           "S.Perine",
           2022,
           26
          ],
          [
           "J.Conner",
           2018,
           23
          ],
          [
           "J.Conner",
           2019,
           24
          ],
          [
           "J.Conner",
           2020,
           25
          ],
          [
           "J.Conner",
           2021,
           26
          ],
          [
           "J.Conner",
           2022,
           27
          ],
          [
           "T.Cohen",
           2018,
           23
          ],
          [
           "T.Cohen",
           2019,
           24
          ],
          [
           "T.Cohen",
           2020,
           25
          ],
          [
           "B.Hill",
           2018,
           22
          ],
          [
           "B.Hill",
           2019,
           23
          ],
          [
           "B.Hill",
           2020,
           24
          ],
          [
           "D.Henderson",
           2018,
           25
          ],
          [
           "C.Carson",
           2018,
           23
          ],
          [
           "C.Carson",
           2019,
           24
          ],
          [
           "C.Carson",
           2020,
           25
          ],
          [
           "C.Carson",
           2021,
           26
          ],
          [
           "A.Ekeler",
           2018,
           23
          ],
          [
           "A.Ekeler",
           2019,
           24
          ],
          [
           "A.Ekeler",
           2020,
           25
          ],
          [
           "A.Ekeler",
           2021,
           26
          ],
          [
           "A.Ekeler",
           2022,
           27
          ],
          [
           "C.Clement",
           2018,
           23
          ],
          [
           "C.Clement",
           2021,
           26
          ],
          [
           "C.Clement",
           2022,
           27
          ],
          [
           "J.Davis",
           2018,
           22
          ],
          [
           "T.Logan",
           2019,
           24
          ],
          [
           "D.Ogunbowale",
           2020,
           26
          ],
          [
           "D.Ogunbowale",
           2021,
           27
          ],
          [
           "D.Ogunbowale",
           2022,
           28
          ],
          [
           "L.Fournette",
           2018,
           23
          ],
          [
           "L.Fournette",
           2019,
           24
          ],
          [
           "L.Fournette",
           2020,
           25
          ],
          [
           "L.Fournette",
           2021,
           26
          ],
          [
           "L.Fournette",
           2022,
           27
          ],
          [
           "D.Cook",
           2018,
           23
          ],
          [
           "D.Cook",
           2019,
           24
          ],
          [
           "D.Cook",
           2020,
           25
          ],
          [
           "D.Cook",
           2021,
           26
          ],
          [
           "D.Cook",
           2022,
           27
          ],
          [
           "J.Mixon",
           2018,
           22
          ],
          [
           "J.Mixon",
           2019,
           23
          ],
          [
           "J.Mixon",
           2020,
           24
          ],
          [
           "J.Mixon",
           2021,
           25
          ],
          [
           "J.Mixon",
           2022,
           26
          ],
          [
           "A.Kamara",
           2018,
           23
          ],
          [
           "A.Kamara",
           2019,
           24
          ],
          [
           "A.Kamara",
           2020,
           25
          ],
          [
           "A.Kamara",
           2021,
           26
          ],
          [
           "A.Kamara",
           2022,
           27
          ],
          [
           "K.Hunt",
           2018,
           23
          ],
          [
           "K.Hunt",
           2019,
           24
          ],
          [
           "K.Hunt",
           2020,
           25
          ],
          [
           "K.Hunt",
           2021,
           26
          ],
          [
           "K.Hunt",
           2022,
           27
          ],
          [
           "D.Foreman",
           2018,
           22
          ],
          [
           "D.Foreman",
           2021,
           25
          ],
          [
           "D.Foreman",
           2022,
           26
          ],
          [
           "J.Williams",
           2018,
           23
          ],
          [
           "J.Williams",
           2019,
           24
          ],
          [
           "J.Williams",
           2020,
           25
          ],
          [
           "J.Williams",
           2021,
           26
          ],
          [
           "W.Gallman",
           2018,
           23
          ],
          [
           "M.Mack",
           2018,
           22
          ],
          [
           "M.Mack",
           2019,
           23
          ],
          [
           "M.Mack",
           2020,
           24
          ],
          [
           "M.Mack",
           2021,
           25
          ],
          [
           "M.Mack",
           2022,
           26
          ],
          [
           "J.McNichols",
           2021,
           25
          ],
          [
           "P.Lindsay",
           2019,
           25
          ],
          [
           "P.Lindsay",
           2020,
           26
          ],
          [
           "P.Lindsay",
           2021,
           27
          ],
          [
           "P.Lindsay",
           2022,
           28
          ],
          [
           "J.Wilson",
           2019,
           23
          ],
          [
           "J.Wilson",
           2020,
           24
          ],
          [
           "J.Wilson",
           2021,
           25
          ],
          [
           "J.Wilson",
           2022,
           26
          ],
          [
           "T.Cannon",
           2021,
           27
          ],
          [
           "J.Cabinda",
           2021,
           25
          ],
          [
           "J.Cabinda",
           2022,
           26
          ],
          [
           "G.Edwards",
           2019,
           24
          ],
          [
           "G.Edwards",
           2020,
           25
          ],
          [
           "D.Turner",
           2019,
           24
          ],
          [
           "M.Boone",
           2019,
           24
          ],
          [
           "M.Boone",
           2020,
           25
          ],
          [
           "M.Boone",
           2021,
           26
          ],
          [
           "M.Boone",
           2022,
           27
          ],
          [
           "D.Hilliard",
           2020,
           25
          ],
          [
           "D.Hilliard",
           2021,
           26
          ],
          [
           "D.Hilliard",
           2022,
           27
          ],
          [
           "J.Samuels",
           2019,
           23
          ],
          [
           "J.Samuels",
           2020,
           24
          ],
          [
           "J.Samuels",
           2021,
           25
          ],
          [
           "K.Johnson",
           2019,
           22
          ],
          [
           "K.Johnson",
           2020,
           23
          ],
          [
           "N.Hines",
           2019,
           22
          ],
          [
           "N.Hines",
           2020,
           23
          ],
          [
           "N.Hines",
           2021,
           24
          ],
          [
           "N.Hines",
           2022,
           25
          ],
          [
           "I.Smith",
           2019,
           23
          ],
          [
           "I.Smith",
           2020,
           24
          ],
          [
           "I.Smith",
           2021,
           25
          ],
          [
           "J.Wilkins",
           2019,
           25
          ],
          [
           "J.Wilkins",
           2020,
           26
          ],
          [
           "B.Scott",
           2020,
           25
          ],
          [
           "B.Scott",
           2021,
           26
          ],
          [
           "B.Scott",
           2022,
           27
          ],
          [
           "B.Scarbrough",
           2020,
           23
          ],
          [
           "J.Jackson",
           2019,
           23
          ],
          [
           "J.Jackson",
           2020,
           24
          ],
          [
           "J.Jackson",
           2021,
           25
          ],
          [
           "J.Jackson",
           2022,
           26
          ],
          [
           "B.Howell",
           2021,
           25
          ],
          [
           "R.Bonnafon",
           2020,
           24
          ],
          [
           "R.Bonnafon",
           2021,
           25
          ],
          [
           "R.Bonnafon",
           2022,
           26
          ],
          [
           "R.Nall",
           2020,
           24
          ],
          [
           "R.Nall",
           2021,
           25
          ],
          [
           "G.Igwebuike",
           2022,
           27
          ],
          [
           "M.Walton",
           2019,
           22
          ],
          [
           "C.Edmonds",
           2019,
           23
          ],
          [
           "C.Edmonds",
           2020,
           24
          ],
          [
           "C.Edmonds",
           2021,
           25
          ],
          [
           "C.Edmonds",
           2022,
           26
          ],
          [
           "R.Penny",
           2019,
           23
          ],
          [
           "R.Penny",
           2020,
           24
          ],
          [
           "R.Penny",
           2021,
           25
          ],
          [
           "R.Penny",
           2022,
           26
          ],
          [
           "N.Chubb",
           2019,
           23
          ],
          [
           "N.Chubb",
           2020,
           24
          ],
          [
           "N.Chubb",
           2021,
           25
          ],
          [
           "N.Chubb",
           2022,
           26
          ],
          [
           "K.Ballage",
           2019,
           23
          ],
          [
           "K.Ballage",
           2020,
           24
          ],
          [
           "K.Ballage",
           2021,
           25
          ],
          [
           "J.Kelly",
           2019,
           22
          ],
          [
           "R.Jones",
           2019,
           22
          ],
          [
           "R.Jones",
           2020,
           23
          ],
          [
           "R.Jones",
           2021,
           24
          ],
          [
           "R.Jones",
           2022,
           25
          ],
          [
           "R.Freeman",
           2019,
           23
          ],
          [
           "R.Freeman",
           2020,
           24
          ],
          [
           "R.Freeman",
           2021,
           25
          ],
          [
           "R.Freeman",
           2022,
           26
          ],
          [
           "S.Barkley",
           2019,
           22
          ],
          [
           "S.Barkley",
           2020,
           23
          ],
          [
           "S.Barkley",
           2021,
           24
          ],
          [
           "S.Barkley",
           2022,
           25
          ],
          [
           "S.Michel",
           2019,
           24
          ],
          [
           "S.Michel",
           2020,
           25
          ],
          [
           "S.Michel",
           2021,
           26
          ],
          [
           "S.Michel",
           2022,
           27
          ],
          [
           "A.Mattison",
           2020,
           22
          ],
          [
           "A.Mattison",
           2021,
           23
          ],
          [
           "A.Mattison",
           2022,
           24
          ],
          [
           "J.Hill",
           2020,
           22
          ],
          [
           "D.Williams",
           2020,
           23
          ],
          [
           "A.Ingold",
           2020,
           24
          ],
          [
           "A.Ingold",
           2021,
           25
          ],
          [
           "A.Ingold",
           2022,
           26
          ],
          [
           "D.Thompson",
           2020,
           23
          ],
          [
           "D.Ozigbo",
           2020,
           23
          ],
          [
           "D.Ozigbo",
           2021,
           24
          ],
          [
           "D.Ozigbo",
           2022,
           25
          ],
          [
           "A.Walter",
           2021,
           25
          ],
          [
           "B.Snell",
           2021,
           23
          ],
          [
           "B.Snell",
           2022,
           24
          ],
          [
           "M.Sanders",
           2020,
           23
          ],
          [
           "M.Sanders",
           2021,
           24
          ],
          [
           "M.Sanders",
           2022,
           25
          ],
          [
           "D.Singletary",
           2020,
           22
          ],
          [
           "D.Singletary",
           2021,
           23
          ],
          [
           "D.Singletary",
           2022,
           24
          ],
          [
           "T.Pollard",
           2020,
           23
          ],
          [
           "T.Pollard",
           2021,
           24
          ],
          [
           "T.Pollard",
           2022,
           25
          ],
          [
           "Q.Ollison",
           2020,
           23
          ],
          [
           "Q.Ollison",
           2021,
           24
          ],
          [
           "T.Williams",
           2021,
           23
          ],
          [
           "T.Williams",
           2022,
           24
          ],
          [
           "M.Gaskin",
           2020,
           23
          ],
          [
           "M.Gaskin",
           2021,
           24
          ],
          [
           "M.Gaskin",
           2022,
           25
          ],
          [
           "P.Laird",
           2020,
           25
          ],
          [
           "P.Laird",
           2021,
           26
          ],
          [
           "T.Johnson",
           2020,
           22
          ],
          [
           "T.Johnson",
           2021,
           23
          ],
          [
           "T.Johnson",
           2022,
           24
          ],
          [
           "T.Brooks-James",
           2020,
           25
          ],
          [
           "C.Reynolds",
           2021,
           25
          ],
          [
           "C.Reynolds",
           2022,
           26
          ],
          [
           "T.Homer",
           2020,
           22
          ],
          [
           "T.Homer",
           2021,
           23
          ],
          [
           "T.Homer",
           2022,
           24
          ],
          [
           "D.Johnson",
           2020,
           24
          ],
          [
           "D.Johnson",
           2021,
           25
          ],
          [
           "D.Johnson",
           2022,
           26
          ],
          [
           "D.Harris",
           2020,
           23
          ],
          [
           "D.Harris",
           2021,
           24
          ],
          [
           "D.Harris",
           2022,
           25
          ],
          [
           "D.Henderson",
           2020,
           23
          ],
          [
           "D.Henderson",
           2021,
           24
          ],
          [
           "D.Henderson",
           2022,
           25
          ],
          [
           "D.Montgomery",
           2020,
           23
          ],
          [
           "D.Montgomery",
           2021,
           24
          ],
          [
           "D.Montgomery",
           2022,
           25
          ],
          [
           "J.Jacobs",
           2020,
           22
          ],
          [
           "J.Jacobs",
           2021,
           23
          ],
          [
           "J.Jacobs",
           2022,
           24
          ],
          [
           "J.Hasty",
           2021,
           24
          ],
          [
           "J.Hasty",
           2022,
           25
          ],
          [
           "J.Robinson",
           2021,
           23
          ],
          [
           "J.Robinson",
           2022,
           24
          ],
          [
           "T.Jones",
           2021,
           23
          ],
          [
           "T.Jones",
           2022,
           24
          ],
          [
           "G.Nabers",
           2021,
           23
          ],
          [
           "J.Ward",
           2022,
           24
          ],
          [
           "P.Taylor",
           2022,
           24
          ],
          [
           "S.Ahmed",
           2021,
           22
          ],
          [
           "S.Ahmed",
           2022,
           23
          ],
          [
           "S.Phillips",
           2021,
           23
          ],
          [
           "J.Taylor",
           2021,
           23
          ],
          [
           "J.Taylor",
           2022,
           24
          ],
          [
           "J.Taylor",
           2021,
           22
          ],
          [
           "J.Taylor",
           2022,
           23
          ],
          [
           "Z.Moss",
           2021,
           23
          ],
          [
           "Z.Moss",
           2022,
           24
          ],
          [
           "A.Dillon",
           2021,
           23
          ],
          [
           "A.Dillon",
           2022,
           24
          ],
          [
           "L.Perine",
           2021,
           23
          ],
          [
           "D.Swift",
           2021,
           22
          ],
          [
           "D.Swift",
           2022,
           23
          ],
          [
           "J.Huntley",
           2021,
           23
          ],
          [
           "D.Evans",
           2021,
           23
          ],
          [
           "D.Evans",
           2022,
           24
          ],
          [
           "A.Gibson",
           2021,
           23
          ],
          [
           "A.Gibson",
           2022,
           24
          ],
          [
           "A.McFarland",
           2021,
           22
          ],
          [
           "A.McFarland",
           2022,
           23
          ],
          [
           "C.Edwards-Helaire",
           2021,
           22
          ],
          [
           "C.Edwards-Helaire",
           2022,
           23
          ],
          [
           "J.Kelley",
           2021,
           23
          ],
          [
           "J.Kelley",
           2022,
           24
          ],
          [
           "E.Benjamin",
           2022,
           23
          ],
          [
           "C.Akers",
           2021,
           22
          ],
          [
           "C.Akers",
           2022,
           23
          ],
          [
           "D.Dallas",
           2021,
           22
          ],
          [
           "D.Dallas",
           2022,
           23
          ],
          [
           "K.Vaughn",
           2021,
           24
          ],
          [
           "K.Vaughn",
           2022,
           25
          ],
          [
           "C.Hubbard",
           2022,
           23
          ],
          [
           "E.Mitchell",
           2022,
           24
          ],
          [
           "G.Brightwell",
           2022,
           24
          ],
          [
           "L.Rountree",
           2022,
           23
          ],
          [
           "D.Felton",
           2022,
           24
          ],
          [
           "K.Hill",
           2022,
           24
          ],
          [
           "A.Prentice",
           2022,
           25
          ],
          [
           "J.Patterson",
           2022,
           22
          ],
          [
           "K.Nwangwu",
           2022,
           24
          ],
          [
           "R.Stevenson",
           2022,
           24
          ],
          [
           "N.Harris",
           2022,
           24
          ],
          [
           "K.Herbert",
           2022,
           24
          ],
          [
           "K.Gainwell",
           2022,
           23
          ],
          [
           "Mi.Carter",
           2022,
           23
          ],
          [
           "T.Sermon",
           2022,
           23
          ],
          [
           "J.Williams",
           2022,
           22
          ]
         ],
         "hovertemplate": "rushing_yards_last=%{x}<br>rushing_yards=%{y}<br>rusher=%{customdata[0]}<br>season=%{customdata[1]}<br>age=%{customdata[2]}<extra></extra>",
         "legendgroup": "",
         "marker": {
          "color": "#636efa",
          "symbol": "circle"
         },
         "mode": "markers",
         "name": "",
         "showlegend": false,
         "type": "scattergl",
         "x": [
          731,
          1045,
          543,
          707,
          28,
          37,
          220,
          157,
          1214,
          1128,
          1106,
          967,
          1025,
          961,
          722,
          599,
          7,
          244,
          220,
          329,
          317,
          438,
          61,
          120,
          437,
          890,
          525,
          986,
          1006,
          297,
          28,
          723,
          843,
          414,
          803,
          83,
          1,
          473,
          549,
          222,
          2097,
          1266,
          75,
          1485,
          72,
          529,
          1042,
          898,
          604,
          1590,
          1257,
          1306,
          891,
          376,
          106,
          411,
          63,
          1015,
          186,
          425,
          311,
          1094,
          33,
          301,
          429,
          38,
          336,
          116,
          256,
          114,
          707,
          379,
          534,
          1089,
          87,
          336,
          180,
          809,
          989,
          824,
          680,
          402,
          182,
          1243,
          1077,
          663,
          814,
          95,
          1094,
          1339,
          1038,
          898,
          813,
          1138,
          1509,
          1287,
          1033,
          364,
          40,
          296,
          193,
          2,
          375,
          309,
          247,
          374,
          31,
          1266,
          641,
          36,
          410,
          8,
          1424,
          542,
          1246,
          163,
          145,
          144,
          11,
          1063,
          295,
          258,
          17,
          35,
          356,
          525,
          1038,
          417,
          537,
          223,
          840,
          1607,
          1319,
          895,
          1267,
          1138,
          514,
          465,
          221,
          385,
          283,
          733,
          639,
          863,
          414,
          650,
          860,
          311,
          151,
          772,
          547,
          703,
          1161,
          766,
          217,
          833,
          821,
          1070,
          439,
          382,
          5,
          131,
          247,
          78,
          56,
          432,
          623,
          197,
          255,
          493,
          333,
          601,
          1244,
          933,
          300,
          112,
          18,
          707,
          539,
          169,
          283,
          326,
          279,
          771,
          1,
          8,
          602,
          386,
          964,
          769,
          1043,
          1124,
          645,
          1010,
          299,
          554,
          251,
          208,
          391,
          260,
          158,
          798,
          325,
          663,
          1121,
          1845,
          702,
          1287,
          1263,
          773,
          340,
          90,
          7,
          108,
          464,
          2,
          274,
          216,
          371,
          74,
          437,
          697,
          141,
          313,
          714,
          772,
          343,
          40,
          2,
          9,
          332,
          217,
          41,
          560,
          244,
          234,
          283,
          896,
          517,
          209,
          88,
          8,
          256,
          186,
          22,
          9,
          9,
          166,
          570,
          112,
          233,
          2,
          19,
          273,
          64,
          189,
          -2,
          9,
          61,
          0,
          75,
          150,
          99,
          67,
          31,
          8,
          412,
          1613,
          1275,
          1074,
          751,
          243,
          547,
          428,
          4,
          32,
          28,
          19,
          96,
          274,
          271,
          89,
          207,
          4,
          67,
          91,
          226,
          358,
          125,
          59,
          532,
          436,
          366,
          354,
          264,
          310,
          199,
          164,
          53,
          44,
          24,
          171,
          566,
          406,
          18,
          63,
          564,
          314,
          126,
          98,
          172,
          101,
          2,
          110,
          47,
          6,
          73,
          153,
          282,
          814,
          5,
          33,
          351,
          475,
          1454,
          456,
          494,
          1402,
          421,
          406,
          250,
          709,
          1099,
          872,
          1073,
          888,
          54,
          3,
          950,
          563,
          330,
          218,
          434,
          863,
          79,
          145,
          108,
          265,
          261,
          246,
          140,
          101,
          29,
          38,
          849,
          720,
          437,
          1007,
          403,
          3,
          22,
          31,
          30,
          7,
          64,
          22,
          10,
          15,
          28,
          41,
          25,
          51,
          133,
          357,
          286,
          5,
          246,
          142,
          157,
          43,
          73,
          242,
          463,
          72,
          115,
          208,
          58,
          652,
          660,
          289,
          96,
          27,
          4,
          344,
          264,
          186,
          302,
          274,
          427,
          224,
          362,
          180,
          164,
          343,
          295,
          12,
          216,
          356,
          294,
          178,
          138,
          403,
          246,
          79,
          175,
          243,
          267,
          577,
          383,
          695,
          680,
          730,
          337,
          458,
          211,
          170,
          416,
          58,
          124,
          129,
          57,
          71,
          1178,
          1139,
          758,
          360,
          860,
          1361,
          556,
          1268,
          789,
          316,
          424,
          1066,
          788,
          842,
          578,
          637,
          656,
          501,
          557,
          973,
          293,
          66,
          582,
          266,
          232,
          610,
          607,
          706,
          952,
          853,
          634,
          293,
          72,
          272,
          48,
          21,
          0,
          520,
          18,
          23,
          153,
          111,
          122,
          59,
          115,
          164,
          0,
          8,
          7,
          31,
          333,
          470,
          988,
          938,
          571,
          1070,
          356,
          721,
          257,
          87,
          158,
          159,
          38,
          56,
          166,
          171,
          425,
          263,
          121,
          292,
          47,
          528,
          698,
          420,
          262,
          33,
          129,
          79,
          3,
          582,
          248,
          1056,
          1079,
          865,
          68,
          656,
          172,
          1124,
          794,
          839,
          116,
          12,
          42,
          58,
          673,
          231,
          774,
          538,
          271,
          539,
          319,
          62,
          185,
          529,
          765,
          569,
          537,
          514,
          34,
          591,
          110,
          187,
          1272,
          873,
          184,
          18,
          26,
          183,
          144,
          95,
          150,
          60,
          334,
          26,
          265,
          95,
          151,
          6,
          30,
          261,
          772,
          521,
          20,
          2,
          164,
          248,
          96,
          109,
          5,
          28,
          17,
          39,
          246,
          212,
          255,
          419,
          125,
          830,
          349,
          232,
          490,
          460,
          41,
          82,
          392,
          520,
          628,
          800,
          544,
          53,
          356,
          58,
          50,
          223,
          514,
          27,
          642,
          503,
          597,
          101,
          552,
          1,
          115,
          42,
          166,
          13,
          3,
          641,
          997,
          1105,
          885,
          612,
          986,
          918,
          581,
          940,
          228,
          14,
          457,
          273,
          183,
          103,
          740,
          465,
          253,
          414,
          63,
          1106,
          885,
          1305,
          1251,
          857,
          348,
          201,
          330,
          11,
          704,
          194,
          20,
          172,
          23,
          -3,
          72,
          3,
          10,
          456,
          125,
          973,
          77,
          265,
          44,
          154,
          60,
          15,
          16,
          24,
          2,
          187,
          8,
          205,
          365,
          212,
          223,
          423,
          871,
          470,
          258,
          490,
          744,
          1059,
          1540,
          2027,
          937,
          935,
          525,
          60,
          406,
          312,
          174,
          364,
          124,
          25,
          39,
          15,
          4,
          24,
          11,
          1,
          13,
          8,
          17,
          18,
          34,
          467,
          153,
          111,
          387,
          33,
          12,
          5,
          1,
          4,
          64,
          32,
          612,
          299,
          183,
          9,
          423,
          0,
          235,
          5,
          79,
          491,
          275,
          259,
          145,
          123,
          1631,
          983,
          1434,
          1357,
          979,
          1002,
          179,
          644,
          535,
          817,
          955,
          254,
          20,
          435,
          1098,
          1387,
          225,
          442,
          448,
          728,
          1084,
          1104,
          799,
          309,
          15,
          11,
          9,
          465,
          814,
          623,
          254,
          125,
          -1,
          4,
          603,
          32,
          16,
          301,
          246,
          144,
          973,
          464,
          721,
          752,
          370,
          444,
          213,
          37,
          157,
          323,
          13,
          208,
          1151,
          1230,
          681,
          260,
          554,
          557,
          530,
          911,
          321,
          75,
          140,
          1,
          2,
          17,
          145,
          137,
          1040,
          439,
          1152,
          367,
          812,
          354,
          615,
          1135,
          1557,
          1159,
          626,
          1168,
          1137,
          428,
          1205,
          728,
          883,
          797,
          932,
          898,
          1327,
          824,
          179,
          841,
          386,
          327,
          95,
          566,
          556,
          464,
          460,
          505,
          476,
          358,
          908,
          1091,
          26,
          101,
          204,
          1037,
          1011,
          502,
          249,
          266,
          105,
          600,
          294,
          33,
          0,
          23,
          718,
          711,
          4,
          47,
          273,
          59,
          35,
          49,
          48,
          350,
          256,
          175,
          28,
          641,
          403,
          314,
          199,
          380,
          276,
          315,
          106,
          268,
          336,
          307,
          245,
          374,
          373,
          377,
          206,
          200,
          270,
          364,
          64,
          116,
          69,
          4,
          8,
          0,
          118,
          34,
          208,
          303,
          448,
          592,
          419,
          370,
          34,
          749,
          996,
          1494,
          1065,
          1259,
          191,
          135,
          303,
          74,
          44,
          724,
          978,
          428,
          521,
          496,
          170,
          169,
          1307,
          1003,
          34,
          593,
          931,
          912,
          449,
          845,
          462,
          434,
          491,
          225,
          11,
          17,
          4,
          1,
          128,
          27,
          1,
          -3,
          3,
          368,
          98,
          817,
          867,
          754,
          775,
          687,
          870,
          455,
          435,
          719,
          50,
          3,
          157,
          51,
          133,
          584,
          612,
          164,
          72,
          273,
          254,
          238,
          7,
          4,
          230,
          114,
          88,
          177,
          21,
          166,
          534,
          12,
          691,
          929,
          147,
          624,
          688,
          889,
          1070,
          846,
          1150,
          1065,
          872,
          148,
          68,
          1070,
          767,
          13,
          142,
          7,
          33,
          89,
          319,
          149,
          9,
          110,
          37,
          1169,
          1811,
          481,
          345,
          242,
          803,
          232,
          521,
          617,
          19,
          54,
          7,
          795,
          1037,
          113,
          3,
          803,
          517,
          354,
          102,
          118,
          625,
          3,
          108,
          138,
          109,
          180,
          612,
          963,
          4,
          87,
          24,
          24,
          5,
          266,
          61,
          606,
          1200,
          433,
          291,
          639,
          167,
          903
         ],
         "xaxis": "x",
         "y": [
          377,
          543,
          707,
          50,
          37,
          2,
          157,
          63,
          1128,
          1106,
          967,
          1025,
          961,
          722,
          599,
          653,
          238,
          220,
          329,
          317,
          438,
          61,
          120,
          66,
          890,
          525,
          100,
          1006,
          297,
          28,
          -3,
          843,
          219,
          803,
          96,
          1,
          57,
          549,
          222,
          64,
          1266,
          75,
          1485,
          72,
          529,
          1042,
          898,
          604,
          98,
          1257,
          1306,
          417,
          376,
          34,
          182,
          197,
          164,
          186,
          425,
          85,
          142,
          756,
          0,
          429,
          38,
          336,
          116,
          56,
          114,
          247,
          379,
          534,
          1089,
          87,
          -2,
          180,
          809,
          989,
          824,
          680,
          17,
          184,
          687,
          1077,
          663,
          814,
          95,
          114,
          1339,
          1038,
          898,
          813,
          381,
          660,
          1287,
          1033,
          364,
          40,
          296,
          7,
          170,
          13,
          548,
          247,
          115,
          31,
          1266,
          641,
          291,
          0,
          12,
          18,
          542,
          1246,
          163,
          55,
          144,
          11,
          47,
          295,
          392,
          17,
          43,
          14,
          19,
          1038,
          148,
          537,
          223,
          229,
          1607,
          1319,
          895,
          1267,
          1138,
          514,
          465,
          31,
          61,
          492,
          733,
          639,
          863,
          593,
          650,
          860,
          311,
          6,
          772,
          547,
          703,
          1161,
          766,
          418,
          833,
          821,
          1070,
          439,
          382,
          385,
          131,
          247,
          2,
          56,
          432,
          44,
          197,
          51,
          493,
          333,
          601,
          145,
          933,
          300,
          112,
          18,
          0,
          1255,
          661,
          283,
          326,
          44,
          771,
          371,
          2,
          3,
          386,
          964,
          769,
          1043,
          1124,
          645,
          1010,
          299,
          554,
          233,
          208,
          391,
          260,
          158,
          164,
          9,
          406,
          1121,
          1845,
          702,
          1287,
          659,
          773,
          340,
          90,
          7,
          108,
          80,
          35,
          274,
          216,
          39,
          358,
          -8,
          697,
          141,
          313,
          714,
          772,
          343,
          229,
          2,
          9,
          8,
          217,
          41,
          560,
          244,
          106,
          283,
          896,
          517,
          209,
          115,
          0,
          256,
          186,
          22,
          59,
          73,
          166,
          570,
          112,
          402,
          2,
          19,
          273,
          196,
          189,
          138,
          9,
          7,
          12,
          5,
          150,
          99,
          67,
          31,
          51,
          3,
          176,
          1275,
          1074,
          751,
          243,
          547,
          428,
          4,
          238,
          28,
          19,
          96,
          17,
          271,
          89,
          207,
          4,
          67,
          91,
          68,
          66,
          146,
          59,
          9,
          436,
          366,
          11,
          264,
          310,
          199,
          164,
          53,
          10,
          24,
          31,
          2,
          406,
          18,
          63,
          2,
          314,
          126,
          72,
          172,
          334,
          2,
          22,
          47,
          43,
          73,
          153,
          282,
          105,
          63,
          33,
          351,
          79,
          215,
          456,
          494,
          1402,
          421,
          406,
          723,
          709,
          1099,
          872,
          1073,
          888,
          973,
          21,
          22,
          563,
          519,
          218,
          434,
          863,
          131,
          145,
          108,
          265,
          18,
          246,
          140,
          101,
          29,
          20,
          849,
          720,
          437,
          1007,
          403,
          43,
          22,
          31,
          30,
          7,
          64,
          22,
          26,
          15,
          28,
          41,
          20,
          51,
          133,
          357,
          286,
          171,
          0,
          142,
          157,
          426,
          33,
          1,
          463,
          72,
          28,
          208,
          58,
          12,
          660,
          289,
          96,
          55,
          4,
          344,
          264,
          186,
          302,
          274,
          427,
          80,
          362,
          180,
          22,
          343,
          315,
          37,
          216,
          356,
          294,
          178,
          138,
          20,
          921,
          51,
          175,
          243,
          583,
          577,
          383,
          43,
          680,
          730,
          337,
          458,
          211,
          170,
          416,
          58,
          28,
          129,
          57,
          71,
          28,
          1139,
          758,
          360,
          179,
          1361,
          556,
          1268,
          1291,
          316,
          101,
          1066,
          788,
          842,
          578,
          637,
          656,
          501,
          760,
          172,
          293,
          89,
          582,
          266,
          144,
          610,
          695,
          706,
          952,
          853,
          685,
          293,
          72,
          -1,
          48,
          26,
          16,
          4,
          15,
          20,
          153,
          111,
          751,
          59,
          115,
          181,
          2,
          8,
          7,
          31,
          2,
          470,
          988,
          938,
          571,
          1070,
          356,
          253,
          257,
          87,
          25,
          159,
          126,
          56,
          166,
          171,
          425,
          263,
          121,
          38,
          47,
          0,
          698,
          420,
          262,
          499,
          9,
          79,
          103,
          9,
          108,
          1056,
          1079,
          865,
          68,
          656,
          172,
          576,
          794,
          839,
          116,
          25,
          42,
          58,
          25,
          231,
          774,
          138,
          271,
          539,
          570,
          62,
          291,
          529,
          149,
          207,
          193,
          200,
          34,
          591,
          110,
          36,
          1272,
          873,
          184,
          30,
          26,
          7,
          144,
          95,
          69,
          13,
          334,
          26,
          265,
          -2,
          151,
          129,
          30,
          261,
          772,
          521,
          20,
          891,
          164,
          248,
          40,
          109,
          23,
          12,
          8,
          39,
          246,
          212,
          255,
          419,
          125,
          81,
          349,
          157,
          127,
          460,
          14,
          250,
          29,
          520,
          628,
          800,
          544,
          53,
          356,
          26,
          50,
          223,
          514,
          27,
          642,
          503,
          18,
          101,
          552,
          1,
          115,
          42,
          166,
          20,
          3,
          4,
          997,
          1105,
          885,
          612,
          986,
          918,
          318,
          1239,
          345,
          24,
          457,
          273,
          183,
          103,
          101,
          465,
          253,
          414,
          63,
          70,
          885,
          1305,
          1251,
          857,
          678,
          201,
          410,
          4,
          -2,
          194,
          8,
          5,
          23,
          -3,
          72,
          19,
          12,
          67,
          90,
          973,
          411,
          411,
          44,
          154,
          60,
          15,
          16,
          38,
          19,
          187,
          8,
          205,
          365,
          212,
          95,
          423,
          871,
          470,
          258,
          212,
          744,
          1059,
          1540,
          2027,
          937,
          1538,
          525,
          60,
          406,
          1,
          174,
          364,
          81,
          25,
          39,
          15,
          99,
          24,
          11,
          10,
          21,
          8,
          17,
          18,
          34,
          7,
          153,
          111,
          387,
          91,
          12,
          5,
          1,
          4,
          0,
          32,
          9,
          299,
          183,
          9,
          423,
          593,
          235,
          5,
          79,
          152,
          275,
          259,
          145,
          123,
          40,
          983,
          1434,
          1357,
          979,
          1002,
          876,
          644,
          535,
          817,
          955,
          254,
          482,
          76,
          1098,
          1387,
          225,
          442,
          1139,
          728,
          1084,
          1104,
          799,
          1121,
          276,
          11,
          9,
          21,
          814,
          623,
          254,
          125,
          220,
          4,
          16,
          32,
          16,
          301,
          246,
          394,
          973,
          464,
          721,
          752,
          782,
          444,
          213,
          74,
          157,
          323,
          465,
          19,
          1151,
          1230,
          681,
          232,
          554,
          557,
          530,
          911,
          915,
          259,
          140,
          55,
          19,
          10,
          145,
          137,
          123,
          439,
          1152,
          367,
          812,
          668,
          615,
          1135,
          1557,
          1159,
          1173,
          1168,
          1137,
          428,
          1205,
          814,
          883,
          797,
          932,
          898,
          897,
          824,
          179,
          841,
          386,
          468,
          -1,
          566,
          914,
          464,
          460,
          505,
          601,
          176,
          908,
          1091,
          26,
          101,
          84,
          156,
          1011,
          502,
          249,
          49,
          105,
          600,
          294,
          859,
          4,
          23,
          4,
          711,
          723,
          6,
          273,
          59,
          35,
          102,
          48,
          350,
          145,
          175,
          28,
          9,
          403,
          181,
          199,
          380,
          276,
          33,
          106,
          268,
          4,
          307,
          308,
          374,
          373,
          217,
          31,
          200,
          270,
          364,
          170,
          11,
          69,
          4,
          8,
          0,
          4,
          4,
          201,
          303,
          448,
          592,
          245,
          370,
          34,
          749,
          346,
          1494,
          1065,
          1259,
          1525,
          135,
          303,
          36,
          9,
          724,
          978,
          428,
          70,
          496,
          170,
          169,
          117,
          1003,
          34,
          593,
          1312,
          912,
          449,
          845,
          106,
          434,
          491,
          283,
          60,
          8,
          4,
          1,
          8,
          97,
          1,
          -3,
          4,
          101,
          98,
          90,
          867,
          754,
          1269,
          687,
          870,
          819,
          435,
          719,
          1007,
          3,
          105,
          51,
          30,
          584,
          612,
          26,
          72,
          4,
          254,
          238,
          160,
          4,
          230,
          102,
          88,
          177,
          74,
          166,
          534,
          17,
          691,
          929,
          462,
          624,
          688,
          283,
          1070,
          846,
          801,
          1065,
          872,
          1653,
          68,
          194,
          767,
          425,
          142,
          24,
          8,
          25,
          31,
          149,
          64,
          13,
          37,
          9,
          1811,
          861,
          345,
          456,
          803,
          770,
          31,
          617,
          542,
          51,
          7,
          64,
          1037,
          546,
          3,
          30,
          517,
          302,
          102,
          287,
          313,
          3,
          786,
          138,
          186,
          180,
          53,
          466,
          279,
          141,
          19,
          -4,
          7,
          9,
          78,
          14,
          1040,
          1034,
          731,
          240,
          402,
          19,
          204
         ],
         "yaxis": "y"
        }
       ],
       "layout": {
        "legend": {
         "tracegroupgap": 0
        },
        "margin": {
         "t": 60
        },
        "template": {
         "data": {
          "bar": [
           {
            "error_x": {
             "color": "#2a3f5f"
            },
            "error_y": {
             "color": "#2a3f5f"
            },
            "marker": {
             "line": {
              "color": "#E5ECF6",
              "width": 0.5
             },
             "pattern": {
              "fillmode": "overlay",
              "size": 10,
              "solidity": 0.2
             }
            },
            "type": "bar"
           }
          ],
          "barpolar": [
           {
            "marker": {
             "line": {
              "color": "#E5ECF6",
              "width": 0.5
             },
             "pattern": {
              "fillmode": "overlay",
              "size": 10,
              "solidity": 0.2
             }
            },
            "type": "barpolar"
           }
          ],
          "carpet": [
           {
            "aaxis": {
             "endlinecolor": "#2a3f5f",
             "gridcolor": "white",
             "linecolor": "white",
             "minorgridcolor": "white",
             "startlinecolor": "#2a3f5f"
            },
            "baxis": {
             "endlinecolor": "#2a3f5f",
             "gridcolor": "white",
             "linecolor": "white",
             "minorgridcolor": "white",
             "startlinecolor": "#2a3f5f"
            },
            "type": "carpet"
           }
          ],
          "choropleth": [
           {
            "colorbar": {
             "outlinewidth": 0,
             "ticks": ""
            },
            "type": "choropleth"
           }
          ],
          "contour": [
           {
            "colorbar": {
             "outlinewidth": 0,
             "ticks": ""
            },
            "colorscale": [
             [
              0,
              "#0d0887"
             ],
             [
              0.1111111111111111,
              "#46039f"
             ],
             [
              0.2222222222222222,
              "#7201a8"
             ],
             [
              0.3333333333333333,
              "#9c179e"
             ],
             [
              0.4444444444444444,
              "#bd3786"
             ],
             [
              0.5555555555555556,
              "#d8576b"
             ],
             [
              0.6666666666666666,
              "#ed7953"
             ],
             [
              0.7777777777777778,
              "#fb9f3a"
             ],
             [
              0.8888888888888888,
              "#fdca26"
             ],
             [
              1,
              "#f0f921"
             ]
            ],
            "type": "contour"
           }
          ],
          "contourcarpet": [
           {
            "colorbar": {
             "outlinewidth": 0,
             "ticks": ""
            },
            "type": "contourcarpet"
           }
          ],
          "heatmap": [
           {
            "colorbar": {
             "outlinewidth": 0,
             "ticks": ""
            },
            "colorscale": [
             [
              0,
              "#0d0887"
             ],
             [
              0.1111111111111111,
              "#46039f"
             ],
             [
              0.2222222222222222,
              "#7201a8"
             ],
             [
              0.3333333333333333,
              "#9c179e"
             ],
             [
              0.4444444444444444,
              "#bd3786"
             ],
             [
              0.5555555555555556,
              "#d8576b"
             ],
             [
              0.6666666666666666,
              "#ed7953"
             ],
             [
              0.7777777777777778,
              "#fb9f3a"
             ],
             [
              0.8888888888888888,
              "#fdca26"
             ],
             [
              1,
              "#f0f921"
             ]
            ],
            "type": "heatmap"
           }
          ],
          "heatmapgl": [
           {
            "colorbar": {
             "outlinewidth": 0,
             "ticks": ""
            },
            "colorscale": [
             [
              0,
              "#0d0887"
             ],
             [
              0.1111111111111111,
              "#46039f"
             ],
             [
              0.2222222222222222,
              "#7201a8"
             ],
             [
              0.3333333333333333,
              "#9c179e"
             ],
             [
              0.4444444444444444,
              "#bd3786"
             ],
             [
              0.5555555555555556,
              "#d8576b"
             ],
             [
              0.6666666666666666,
              "#ed7953"
             ],
             [
              0.7777777777777778,
              "#fb9f3a"
             ],
             [
              0.8888888888888888,
              "#fdca26"
             ],
             [
              1,
              "#f0f921"
             ]
            ],
            "type": "heatmapgl"
           }
          ],
          "histogram": [
           {
            "marker": {
             "pattern": {
              "fillmode": "overlay",
              "size": 10,
              "solidity": 0.2
             }
            },
            "type": "histogram"
           }
          ],
          "histogram2d": [
           {
            "colorbar": {
             "outlinewidth": 0,
             "ticks": ""
            },
            "colorscale": [
             [
              0,
              "#0d0887"
             ],
             [
              0.1111111111111111,
              "#46039f"
             ],
             [
              0.2222222222222222,
              "#7201a8"
             ],
             [
              0.3333333333333333,
              "#9c179e"
             ],
             [
              0.4444444444444444,
              "#bd3786"
             ],
             [
              0.5555555555555556,
              "#d8576b"
             ],
             [
              0.6666666666666666,
              "#ed7953"
             ],
             [
              0.7777777777777778,
              "#fb9f3a"
             ],
             [
              0.8888888888888888,
              "#fdca26"
             ],
             [
              1,
              "#f0f921"
             ]
            ],
            "type": "histogram2d"
           }
          ],
          "histogram2dcontour": [
           {
            "colorbar": {
             "outlinewidth": 0,
             "ticks": ""
            },
            "colorscale": [
             [
              0,
              "#0d0887"
             ],
             [
              0.1111111111111111,
              "#46039f"
             ],
             [
              0.2222222222222222,
              "#7201a8"
             ],
             [
              0.3333333333333333,
              "#9c179e"
             ],
             [
              0.4444444444444444,
              "#bd3786"
             ],
             [
              0.5555555555555556,
              "#d8576b"
             ],
             [
              0.6666666666666666,
              "#ed7953"
             ],
             [
              0.7777777777777778,
              "#fb9f3a"
             ],
             [
              0.8888888888888888,
              "#fdca26"
             ],
             [
              1,
              "#f0f921"
             ]
            ],
            "type": "histogram2dcontour"
           }
          ],
          "mesh3d": [
           {
            "colorbar": {
             "outlinewidth": 0,
             "ticks": ""
            },
            "type": "mesh3d"
           }
          ],
          "parcoords": [
           {
            "line": {
             "colorbar": {
              "outlinewidth": 0,
              "ticks": ""
             }
            },
            "type": "parcoords"
           }
          ],
          "pie": [
           {
            "automargin": true,
            "type": "pie"
           }
          ],
          "scatter": [
           {
            "fillpattern": {
             "fillmode": "overlay",
             "size": 10,
             "solidity": 0.2
            },
            "type": "scatter"
           }
          ],
          "scatter3d": [
           {
            "line": {
             "colorbar": {
              "outlinewidth": 0,
              "ticks": ""
             }
            },
            "marker": {
             "colorbar": {
              "outlinewidth": 0,
              "ticks": ""
             }
            },
            "type": "scatter3d"
           }
          ],
          "scattercarpet": [
           {
            "marker": {
             "colorbar": {
              "outlinewidth": 0,
              "ticks": ""
             }
            },
            "type": "scattercarpet"
           }
          ],
          "scattergeo": [
           {
            "marker": {
             "colorbar": {
              "outlinewidth": 0,
              "ticks": ""
             }
            },
            "type": "scattergeo"
           }
          ],
          "scattergl": [
           {
            "marker": {
             "colorbar": {
              "outlinewidth": 0,
              "ticks": ""
             }
            },
            "type": "scattergl"
           }
          ],
          "scattermapbox": [
           {
            "marker": {
             "colorbar": {
              "outlinewidth": 0,
              "ticks": ""
             }
            },
            "type": "scattermapbox"
           }
          ],
          "scatterpolar": [
           {
            "marker": {
             "colorbar": {
              "outlinewidth": 0,
              "ticks": ""
             }
            },
            "type": "scatterpolar"
           }
          ],
          "scatterpolargl": [
           {
            "marker": {
             "colorbar": {
              "outlinewidth": 0,
              "ticks": ""
             }
            },
            "type": "scatterpolargl"
           }
          ],
          "scatterternary": [
           {
            "marker": {
             "colorbar": {
              "outlinewidth": 0,
              "ticks": ""
             }
            },
            "type": "scatterternary"
           }
          ],
          "surface": [
           {
            "colorbar": {
             "outlinewidth": 0,
             "ticks": ""
            },
            "colorscale": [
             [
              0,
              "#0d0887"
             ],
             [
              0.1111111111111111,
              "#46039f"
             ],
             [
              0.2222222222222222,
              "#7201a8"
             ],
             [
              0.3333333333333333,
              "#9c179e"
             ],
             [
              0.4444444444444444,
              "#bd3786"
             ],
             [
              0.5555555555555556,
              "#d8576b"
             ],
             [
              0.6666666666666666,
              "#ed7953"
             ],
             [
              0.7777777777777778,
              "#fb9f3a"
             ],
             [
              0.8888888888888888,
              "#fdca26"
             ],
             [
              1,
              "#f0f921"
             ]
            ],
            "type": "surface"
           }
          ],
          "table": [
           {
            "cells": {
             "fill": {
              "color": "#EBF0F8"
             },
             "line": {
              "color": "white"
             }
            },
            "header": {
             "fill": {
              "color": "#C8D4E3"
             },
             "line": {
              "color": "white"
             }
            },
            "type": "table"
           }
          ]
         },
         "layout": {
          "annotationdefaults": {
           "arrowcolor": "#2a3f5f",
           "arrowhead": 0,
           "arrowwidth": 1
          },
          "autotypenumbers": "strict",
          "coloraxis": {
           "colorbar": {
            "outlinewidth": 0,
            "ticks": ""
           }
          },
          "colorscale": {
           "diverging": [
            [
             0,
             "#8e0152"
            ],
            [
             0.1,
             "#c51b7d"
            ],
            [
             0.2,
             "#de77ae"
            ],
            [
             0.3,
             "#f1b6da"
            ],
            [
             0.4,
             "#fde0ef"
            ],
            [
             0.5,
             "#f7f7f7"
            ],
            [
             0.6,
             "#e6f5d0"
            ],
            [
             0.7,
             "#b8e186"
            ],
            [
             0.8,
             "#7fbc41"
            ],
            [
             0.9,
             "#4d9221"
            ],
            [
             1,
             "#276419"
            ]
           ],
           "sequential": [
            [
             0,
             "#0d0887"
            ],
            [
             0.1111111111111111,
             "#46039f"
            ],
            [
             0.2222222222222222,
             "#7201a8"
            ],
            [
             0.3333333333333333,
             "#9c179e"
            ],
            [
             0.4444444444444444,
             "#bd3786"
            ],
            [
             0.5555555555555556,
             "#d8576b"
            ],
            [
             0.6666666666666666,
             "#ed7953"
            ],
            [
             0.7777777777777778,
             "#fb9f3a"
            ],
            [
             0.8888888888888888,
             "#fdca26"
            ],
            [
             1,
             "#f0f921"
            ]
           ],
           "sequentialminus": [
            [
             0,
             "#0d0887"
            ],
            [
             0.1111111111111111,
             "#46039f"
            ],
            [
             0.2222222222222222,
             "#7201a8"
            ],
            [
             0.3333333333333333,
             "#9c179e"
            ],
            [
             0.4444444444444444,
             "#bd3786"
            ],
            [
             0.5555555555555556,
             "#d8576b"
            ],
            [
             0.6666666666666666,
             "#ed7953"
            ],
            [
             0.7777777777777778,
             "#fb9f3a"
            ],
            [
             0.8888888888888888,
             "#fdca26"
            ],
            [
             1,
             "#f0f921"
            ]
           ]
          },
          "colorway": [
           "#636efa",
           "#EF553B",
           "#00cc96",
           "#ab63fa",
           "#FFA15A",
           "#19d3f3",
           "#FF6692",
           "#B6E880",
           "#FF97FF",
           "#FECB52"
          ],
          "font": {
           "color": "#2a3f5f"
          },
          "geo": {
           "bgcolor": "white",
           "lakecolor": "white",
           "landcolor": "#E5ECF6",
           "showlakes": true,
           "showland": true,
           "subunitcolor": "white"
          },
          "hoverlabel": {
           "align": "left"
          },
          "hovermode": "closest",
          "mapbox": {
           "style": "light"
          },
          "paper_bgcolor": "white",
          "plot_bgcolor": "#E5ECF6",
          "polar": {
           "angularaxis": {
            "gridcolor": "white",
            "linecolor": "white",
            "ticks": ""
           },
           "bgcolor": "#E5ECF6",
           "radialaxis": {
            "gridcolor": "white",
            "linecolor": "white",
            "ticks": ""
           }
          },
          "scene": {
           "xaxis": {
            "backgroundcolor": "#E5ECF6",
            "gridcolor": "white",
            "gridwidth": 2,
            "linecolor": "white",
            "showbackground": true,
            "ticks": "",
            "zerolinecolor": "white"
           },
           "yaxis": {
            "backgroundcolor": "#E5ECF6",
            "gridcolor": "white",
            "gridwidth": 2,
            "linecolor": "white",
            "showbackground": true,
            "ticks": "",
            "zerolinecolor": "white"
           },
           "zaxis": {
            "backgroundcolor": "#E5ECF6",
            "gridcolor": "white",
            "gridwidth": 2,
            "linecolor": "white",
            "showbackground": true,
            "ticks": "",
            "zerolinecolor": "white"
           }
          },
          "shapedefaults": {
           "line": {
            "color": "#2a3f5f"
           }
          },
          "ternary": {
           "aaxis": {
            "gridcolor": "white",
            "linecolor": "white",
            "ticks": ""
           },
           "baxis": {
            "gridcolor": "white",
            "linecolor": "white",
            "ticks": ""
           },
           "bgcolor": "#E5ECF6",
           "caxis": {
            "gridcolor": "white",
            "linecolor": "white",
            "ticks": ""
           }
          },
          "title": {
           "x": 0.05
          },
          "xaxis": {
           "automargin": true,
           "gridcolor": "white",
           "linecolor": "white",
           "ticks": "",
           "title": {
            "standoff": 15
           },
           "zerolinecolor": "white",
           "zerolinewidth": 2
          },
          "yaxis": {
           "automargin": true,
           "gridcolor": "white",
           "linecolor": "white",
           "ticks": "",
           "title": {
            "standoff": 15
           },
           "zerolinecolor": "white",
           "zerolinewidth": 2
          }
         }
        },
        "xaxis": {
         "anchor": "y",
         "domain": [
          0,
          1
         ],
         "title": {
          "text": "rushing_yards_last"
         }
        },
        "yaxis": {
         "anchor": "x",
         "domain": [
          0,
          1
         ],
         "title": {
          "text": "rushing_yards"
         }
        }
       }
      },
      "text/html": [
       "<div>                            <div id=\"a288beb5-3e42-4080-9926-7eea41bb9253\" class=\"plotly-graph-div\" style=\"height:525px; width:100%;\"></div>            <script type=\"text/javascript\">                require([\"plotly\"], function(Plotly) {                    window.PLOTLYENV=window.PLOTLYENV || {};                                    if (document.getElementById(\"a288beb5-3e42-4080-9926-7eea41bb9253\")) {                    Plotly.newPlot(                        \"a288beb5-3e42-4080-9926-7eea41bb9253\",                        [{\"customdata\":[[\"W.McGahee\",2013,31.0],[\"S.Jackson\",2013,30.0],[\"S.Jackson\",2014,31.0],[\"S.Jackson\",2015,32.0],[\"J.Kuhn\",2016,33.0],[\"J.Kuhn\",2017,34.0],[\"R.Brown\",2013,31.0],[\"R.Brown\",2014,32.0],[\"F.Gore\",2013,30.0],[\"F.Gore\",2014,31.0],[\"F.Gore\",2015,32.0],[\"F.Gore\",2016,33.0],[\"F.Gore\",2017,34.0],[\"F.Gore\",2018,35.0],[\"F.Gore\",2019,36.0],[\"F.Gore\",2020,37.0],[\"B.Jacobs\",2013,31.0],[\"D.Sproles\",2013,30.0],[\"D.Sproles\",2014,31.0],[\"D.Sproles\",2015,32.0],[\"D.Sproles\",2016,33.0],[\"D.Sproles\",2017,34.0],[\"D.Sproles\",2018,35.0],[\"D.Sproles\",2019,36.0],[\"F.Jackson\",2013,32.0],[\"F.Jackson\",2014,33.0],[\"F.Jackson\",2015,34.0],[\"R.Bush\",2013,28.0],[\"R.Bush\",2014,29.0],[\"R.Bush\",2015,30.0],[\"R.Bush\",2016,31.0],[\"D.Williams\",2013,30.0],[\"D.Williams\",2014,31.0],[\"M.Jones-Drew\",2013,28.0],[\"M.Jones-Drew\",2014,29.0],[\"L.Washington\",2013,31.0],[\"L.Washington\",2014,32.0],[\"P.Thomas\",2013,28.0],[\"P.Thomas\",2014,29.0],[\"P.Thomas\",2015,30.0],[\"A.Peterson\",2013,28.0],[\"A.Peterson\",2014,29.0],[\"A.Peterson\",2015,30.0],[\"A.Peterson\",2016,31.0],[\"A.Peterson\",2017,32.0],[\"A.Peterson\",2018,33.0],[\"A.Peterson\",2019,34.0],[\"A.Peterson\",2020,35.0],[\"A.Peterson\",2021,36.0],[\"M.Lynch\",2013,27.0],[\"M.Lynch\",2014,28.0],[\"M.Lynch\",2015,29.0],[\"M.Lynch\",2018,32.0],[\"M.Lynch\",2019,33.0],[\"B.Leonard\",2013,29.0],[\"M.Bush\",2013,29.0],[\"J.Snelling\",2013,29.0],[\"A.Bradshaw\",2013,27.0],[\"A.Bradshaw\",2014,28.0],[\"A.Bradshaw\",2015,29.0],[\"J.Battle\",2013,29.0],[\"B.Green-Ellis\",2013,28.0],[\"D.Reynaud\",2013,28.0],[\"D.Woodhead\",2013,28.0],[\"D.Woodhead\",2014,29.0],[\"D.Woodhead\",2015,30.0],[\"D.Woodhead\",2016,31.0],[\"D.Woodhead\",2017,32.0],[\"M.Tolbert\",2016,30.0],[\"M.Tolbert\",2017,31.0],[\"D.McFadden\",2013,26.0],[\"D.McFadden\",2014,27.0],[\"D.McFadden\",2015,28.0],[\"D.McFadden\",2016,29.0],[\"D.McFadden\",2017,30.0],[\"J.Stewart\",2013,26.0],[\"J.Stewart\",2014,27.0],[\"J.Stewart\",2015,28.0],[\"J.Stewart\",2016,29.0],[\"J.Stewart\",2017,30.0],[\"J.Stewart\",2018,31.0],[\"F.Jones\",2013,26.0],[\"R.Mendenhall\",2013,26.0],[\"C.Johnson\",2013,27.0],[\"C.Johnson\",2014,28.0],[\"C.Johnson\",2015,29.0],[\"C.Johnson\",2016,30.0],[\"C.Johnson\",2017,31.0],[\"M.Forte\",2013,27.0],[\"M.Forte\",2014,28.0],[\"M.Forte\",2015,29.0],[\"M.Forte\",2016,30.0],[\"M.Forte\",2017,31.0],[\"R.Rice\",2013,26.0],[\"J.Charles\",2013,26.0],[\"J.Charles\",2014,27.0],[\"J.Charles\",2015,28.0],[\"J.Charles\",2016,29.0],[\"J.Charles\",2017,30.0],[\"J.Charles\",2018,31.0],[\"T.Choice\",2013,28.0],[\"J.Felton\",2016,30.0],[\"T.Hightower\",2016,30.0],[\"P.Hillis\",2013,27.0],[\"P.Hillis\",2014,28.0],[\"J.Forsett\",2013,27.0],[\"J.Forsett\",2014,28.0],[\"J.Forsett\",2015,29.0],[\"J.Forsett\",2016,30.0],[\"M.Reece\",2016,31.0],[\"I.Redman\",2013,28.0],[\"M.Thigpen\",2013,27.0],[\"A.Foster\",2013,27.0],[\"A.Foster\",2014,28.0],[\"A.Foster\",2015,29.0],[\"A.Foster\",2016,30.0],[\"A.Smith\",2014,28.0],[\"A.Smith\",2015,29.0],[\"A.Smith\",2016,30.0],[\"S.Greene\",2013,28.0],[\"S.Greene\",2014,29.0],[\"C.Peerman\",2013,26.0],[\"C.Peerman\",2014,27.0],[\"B.Scott\",2013,29.0],[\"L.Stephens-Howling\",2013,26.0],[\"K.Moreno\",2013,26.0],[\"K.Moreno\",2014,27.0],[\"D.Brown\",2013,26.0],[\"D.Brown\",2014,27.0],[\"D.Brown\",2015,28.0],[\"L.McCoy\",2013,25.0],[\"L.McCoy\",2014,26.0],[\"L.McCoy\",2015,27.0],[\"L.McCoy\",2016,28.0],[\"L.McCoy\",2017,29.0],[\"L.McCoy\",2018,30.0],[\"L.McCoy\",2019,31.0],[\"L.McCoy\",2020,32.0],[\"M.Goodson\",2013,26.0],[\"A.Brown\",2013,26.0],[\"R.Jennings\",2013,28.0],[\"R.Jennings\",2014,29.0],[\"R.Jennings\",2015,30.0],[\"R.Jennings\",2016,31.0],[\"J.Bell\",2013,27.0],[\"J.Bell\",2014,28.0],[\"J.Bell\",2015,29.0],[\"J.Bell\",2016,30.0],[\"L.Blount\",2013,26.0],[\"L.Blount\",2014,27.0],[\"L.Blount\",2015,28.0],[\"L.Blount\",2016,29.0],[\"L.Blount\",2017,30.0],[\"L.Blount\",2018,31.0],[\"C.Ivory\",2013,25.0],[\"C.Ivory\",2014,26.0],[\"C.Ivory\",2015,27.0],[\"C.Ivory\",2016,28.0],[\"C.Ivory\",2017,29.0],[\"C.Ivory\",2018,30.0],[\"D.McCluster\",2014,26.0],[\"D.McCluster\",2015,27.0],[\"D.McCluster\",2016,28.0],[\"A.Dixon\",2013,25.0],[\"A.Dixon\",2014,26.0],[\"A.Dixon\",2015,27.0],[\"J.Dwyer\",2013,24.0],[\"J.Dwyer\",2014,25.0],[\"J.Starks\",2013,27.0],[\"J.Starks\",2014,28.0],[\"J.Starks\",2015,29.0],[\"J.Starks\",2016,30.0],[\"C.Spiller\",2013,26.0],[\"C.Spiller\",2014,27.0],[\"C.Spiller\",2015,28.0],[\"C.Spiller\",2016,29.0],[\"C.Spiller\",2017,30.0],[\"R.Mathews\",2013,25.0],[\"R.Mathews\",2016,28.0],[\"T.Gerhart\",2013,26.0],[\"T.Gerhart\",2014,27.0],[\"T.Gerhart\",2015,28.0],[\"B.Tate\",2013,25.0],[\"B.Tate\",2014,26.0],[\"W.Tukuafu\",2016,32.0],[\"J.Develin\",2019,31.0],[\"M.Ingram\",2013,23.0],[\"M.Ingram\",2014,24.0],[\"M.Ingram\",2015,25.0],[\"M.Ingram\",2016,26.0],[\"M.Ingram\",2017,27.0],[\"M.Ingram\",2018,28.0],[\"M.Ingram\",2019,29.0],[\"M.Ingram\",2020,30.0],[\"M.Ingram\",2021,31.0],[\"M.Ingram\",2022,32.0],[\"S.Vereen\",2013,24.0],[\"S.Vereen\",2014,25.0],[\"S.Vereen\",2015,26.0],[\"S.Vereen\",2016,27.0],[\"S.Vereen\",2017,28.0],[\"M.Leshoure\",2013,23.0],[\"D.Thomas\",2013,25.0],[\"D.Murray\",2013,25.0],[\"D.Murray\",2014,26.0],[\"D.Murray\",2015,27.0],[\"D.Murray\",2016,28.0],[\"D.Murray\",2017,29.0],[\"S.Ridley\",2013,24.0],[\"S.Ridley\",2014,25.0],[\"S.Ridley\",2015,26.0],[\"S.Ridley\",2016,27.0],[\"S.Ridley\",2017,28.0],[\"S.Ridley\",2018,29.0],[\"A.Green\",2013,25.0],[\"R.Helu\",2013,24.0],[\"R.Helu\",2014,25.0],[\"R.Helu\",2015,26.0],[\"K.Hunter\",2013,24.0],[\"T.Jones\",2016,28.0],[\"B.Powell\",2013,24.0],[\"B.Powell\",2014,25.0],[\"B.Powell\",2015,26.0],[\"B.Powell\",2016,27.0],[\"B.Powell\",2017,28.0],[\"B.Powell\",2018,29.0],[\"B.Powell\",2019,30.0],[\"A.Sherman\",2018,29.0],[\"A.Sherman\",2019,30.0],[\"A.Sherman\",2020,31.0],[\"J.Rodgers\",2014,24.0],[\"J.Rodgers\",2015,25.0],[\"J.Rodgers\",2016,26.0],[\"J.Rodgers\",2017,27.0],[\"J.Rodgers\",2018,28.0],[\"D.Lewis\",2016,25.0],[\"D.Lewis\",2017,26.0],[\"D.Lewis\",2018,27.0],[\"D.Lewis\",2019,28.0],[\"D.Lewis\",2020,29.0],[\"E.Royster\",2013,25.0],[\"J.Todman\",2013,23.0],[\"J.Todman\",2014,24.0],[\"J.Todman\",2015,25.0],[\"J.Todman\",2016,26.0],[\"D.Scott\",2013,25.0],[\"M.Asiata\",2013,26.0],[\"M.Asiata\",2014,27.0],[\"M.Asiata\",2015,28.0],[\"M.Asiata\",2016,29.0],[\"S.Draughn\",2013,25.0],[\"S.Draughn\",2014,26.0],[\"S.Draughn\",2015,27.0],[\"S.Draughn\",2016,28.0],[\"D.Harris\",2015,26.0],[\"D.Harris\",2016,27.0],[\"P.DiMarco\",2018,29.0],[\"P.DiMarco\",2019,30.0],[\"P.Tanner\",2013,25.0],[\"A.Smith\",2013,27.0],[\"L.Dunbar\",2013,23.0],[\"L.Dunbar\",2014,24.0],[\"L.Dunbar\",2015,25.0],[\"L.Dunbar\",2016,26.0],[\"L.Dunbar\",2017,27.0],[\"D.Coleman\",2018,27.0],[\"J.Gray\",2015,25.0],[\"A.Morris\",2013,24.0],[\"A.Morris\",2014,25.0],[\"A.Morris\",2015,26.0],[\"A.Morris\",2016,27.0],[\"A.Morris\",2017,28.0],[\"A.Morris\",2018,29.0],[\"A.Morris\",2019,30.0],[\"A.Morris\",2020,31.0],[\"T.Cadet\",2015,26.0],[\"T.Cadet\",2016,27.0],[\"T.Cadet\",2017,28.0],[\"T.Cadet\",2018,29.0],[\"B.Bolden\",2013,23.0],[\"B.Bolden\",2014,24.0],[\"B.Bolden\",2015,25.0],[\"B.Bolden\",2016,26.0],[\"B.Bolden\",2017,27.0],[\"B.Bolden\",2018,28.0],[\"B.Bolden\",2019,29.0],[\"B.Bolden\",2022,32.0],[\"D.Wilson\",2013,22.0],[\"L.James\",2013,23.0],[\"L.James\",2014,24.0],[\"B.Pierce\",2013,22.0],[\"B.Pierce\",2014,23.0],[\"B.Pierce\",2015,24.0],[\"R.Turbin\",2013,23.0],[\"R.Turbin\",2014,24.0],[\"R.Turbin\",2015,25.0],[\"R.Turbin\",2016,26.0],[\"R.Turbin\",2017,27.0],[\"R.Turbin\",2018,28.0],[\"C.Gray\",2013,23.0],[\"C.Gray\",2014,24.0],[\"E.Baker\",2014,23.0],[\"B.Rainey\",2014,26.0],[\"B.Rainey\",2015,27.0],[\"B.Rainey\",2016,28.0],[\"B.Rainey\",2017,29.0],[\"B.Brown\",2013,22.0],[\"B.Brown\",2014,23.0],[\"B.Brown\",2015,24.0],[\"C.Polk\",2014,24.0],[\"C.Polk\",2015,25.0],[\"J.Stewart\",2013,24.0],[\"J.Stewart\",2014,25.0],[\"J.Olawale\",2016,27.0],[\"J.Olawale\",2017,28.0],[\"J.Grimes\",2013,23.0],[\"J.Grimes\",2014,24.0],[\"J.Grimes\",2015,25.0],[\"J.Grimes\",2016,26.0],[\"V.Ballard\",2013,23.0],[\"D.Herron\",2013,24.0],[\"D.Herron\",2014,25.0],[\"D.Herron\",2015,26.0],[\"D.Richardson\",2013,23.0],[\"D.Martin\",2013,24.0],[\"D.Martin\",2014,25.0],[\"D.Martin\",2015,26.0],[\"D.Martin\",2016,27.0],[\"D.Martin\",2017,28.0],[\"D.Martin\",2018,29.0],[\"L.Miller\",2013,22.0],[\"L.Miller\",2014,23.0],[\"L.Miller\",2015,24.0],[\"L.Miller\",2016,25.0],[\"L.Miller\",2017,26.0],[\"L.Miller\",2018,27.0],[\"I.Pead\",2013,23.0],[\"I.Pead\",2016,26.0],[\"T.Richardson\",2013,23.0],[\"T.Richardson\",2014,24.0],[\"R.Hillman\",2013,21.0],[\"R.Hillman\",2014,22.0],[\"R.Hillman\",2015,23.0],[\"R.Hillman\",2016,24.0],[\"F.Whittaker\",2014,25.0],[\"F.Whittaker\",2015,26.0],[\"F.Whittaker\",2016,27.0],[\"F.Whittaker\",2017,28.0],[\"B.Cunningham\",2014,24.0],[\"B.Cunningham\",2015,25.0],[\"B.Cunningham\",2016,26.0],[\"B.Cunningham\",2017,27.0],[\"B.Cunningham\",2018,28.0],[\"C.Anderson\",2014,23.0],[\"C.Anderson\",2015,24.0],[\"C.Anderson\",2016,25.0],[\"C.Anderson\",2017,26.0],[\"C.Anderson\",2018,27.0],[\"C.Anderson\",2019,28.0],[\"K.Juszczyk\",2016,25.0],[\"K.Juszczyk\",2017,26.0],[\"K.Juszczyk\",2018,27.0],[\"K.Juszczyk\",2019,28.0],[\"K.Juszczyk\",2020,29.0],[\"K.Juszczyk\",2021,30.0],[\"K.Juszczyk\",2022,31.0],[\"Z.Line\",2016,26.0],[\"Z.Line\",2017,27.0],[\"Z.Line\",2018,28.0],[\"Z.Line\",2019,29.0],[\"T.Riddick\",2014,23.0],[\"T.Riddick\",2015,24.0],[\"T.Riddick\",2016,25.0],[\"T.Riddick\",2017,26.0],[\"T.Riddick\",2018,27.0],[\"T.Bohanon\",2018,27.0],[\"K.Williams\",2015,24.0],[\"K.Williams\",2016,25.0],[\"K.Williams\",2017,26.0],[\"M.Cox\",2014,25.0],[\"G.Winn\",2015,24.0],[\"K.Davis\",2014,22.0],[\"K.Davis\",2015,23.0],[\"K.Davis\",2016,24.0],[\"S.Taylor\",2014,23.0],[\"S.Taylor\",2015,24.0],[\"S.Taylor\",2016,25.0],[\"A.Ellington\",2014,25.0],[\"A.Ellington\",2015,26.0],[\"A.Ellington\",2016,27.0],[\"A.Ellington\",2017,28.0],[\"R.Burkhead\",2015,25.0],[\"R.Burkhead\",2016,26.0],[\"R.Burkhead\",2017,27.0],[\"R.Burkhead\",2018,28.0],[\"R.Burkhead\",2019,29.0],[\"R.Burkhead\",2020,30.0],[\"R.Burkhead\",2021,31.0],[\"R.Burkhead\",2022,32.0],[\"K.Robinson\",2014,24.0],[\"K.Robinson\",2015,25.0],[\"K.Robinson\",2016,26.0],[\"J.Randle\",2014,22.0],[\"J.Randle\",2015,23.0],[\"M.James\",2014,23.0],[\"C.Thompson\",2015,24.0],[\"C.Thompson\",2016,25.0],[\"C.Thompson\",2017,26.0],[\"C.Thompson\",2018,27.0],[\"C.Thompson\",2019,28.0],[\"C.Thompson\",2020,29.0],[\"S.Ware\",2016,24.0],[\"S.Ware\",2019,27.0],[\"C.Michael\",2014,23.0],[\"C.Michael\",2015,24.0],[\"C.Michael\",2016,25.0],[\"M.Gillislee\",2016,25.0],[\"M.Gillislee\",2017,26.0],[\"M.Gillislee\",2018,27.0],[\"G.Bernard\",2014,22.0],[\"G.Bernard\",2015,23.0],[\"G.Bernard\",2016,24.0],[\"G.Bernard\",2017,25.0],[\"G.Bernard\",2018,26.0],[\"G.Bernard\",2019,27.0],[\"G.Bernard\",2020,28.0],[\"G.Bernard\",2021,29.0],[\"G.Bernard\",2022,30.0],[\"K.Barner\",2016,27.0],[\"K.Barner\",2017,28.0],[\"K.Barner\",2018,29.0],[\"K.Barner\",2019,30.0],[\"E.Lacy\",2014,24.0],[\"E.Lacy\",2015,25.0],[\"E.Lacy\",2016,26.0],[\"E.Lacy\",2017,27.0],[\"L.Bell\",2014,22.0],[\"L.Bell\",2015,23.0],[\"L.Bell\",2016,24.0],[\"L.Bell\",2017,25.0],[\"L.Bell\",2020,28.0],[\"L.Bell\",2021,29.0],[\"L.Murray\",2015,25.0],[\"L.Murray\",2016,26.0],[\"L.Murray\",2017,27.0],[\"L.Murray\",2018,28.0],[\"L.Murray\",2019,29.0],[\"L.Murray\",2020,30.0],[\"L.Murray\",2021,31.0],[\"L.Murray\",2022,32.0],[\"M.Ball\",2014,23.0],[\"Z.Stacy\",2014,23.0],[\"Z.Stacy\",2015,24.0],[\"D.Robinson\",2014,23.0],[\"D.Robinson\",2015,24.0],[\"D.Robinson\",2016,25.0],[\"C.Patterson\",2021,30.0],[\"C.Patterson\",2022,31.0],[\"I.Crowell\",2015,22.0],[\"I.Crowell\",2016,23.0],[\"I.Crowell\",2017,24.0],[\"I.Crowell\",2018,25.0],[\"C.West\",2016,25.0],[\"C.West\",2017,26.0],[\"C.West\",2018,27.0],[\"J.Thompson\",2015,23.0],[\"J.Thompson\",2016,24.0],[\"D.Fluellen\",2018,26.0],[\"R.Nix\",2018,26.0],[\"A.Andrews\",2016,24.0],[\"Z.Tipton\",2015,26.0],[\"O.Darkwa\",2015,23.0],[\"O.Darkwa\",2016,24.0],[\"O.Darkwa\",2017,25.0],[\"D.Williams\",2015,23.0],[\"D.Williams\",2016,24.0],[\"D.Williams\",2017,25.0],[\"D.Williams\",2022,30.0],[\"K.Smith\",2019,27.0],[\"K.Smith\",2020,28.0],[\"K.Smith\",2021,29.0],[\"K.Smith\",2022,30.0],[\"C.Hyde\",2015,24.0],[\"C.Hyde\",2016,25.0],[\"C.Hyde\",2017,26.0],[\"C.Hyde\",2018,27.0],[\"C.Hyde\",2019,28.0],[\"C.Hyde\",2020,29.0],[\"C.Hyde\",2021,30.0],[\"A.Williams\",2015,23.0],[\"A.Williams\",2016,24.0],[\"A.Williams\",2017,25.0],[\"K.Carey\",2015,22.0],[\"K.Carey\",2016,23.0],[\"J.White\",2015,23.0],[\"J.White\",2016,24.0],[\"J.White\",2017,25.0],[\"J.White\",2018,26.0],[\"J.White\",2019,27.0],[\"J.White\",2020,28.0],[\"J.White\",2021,29.0],[\"L.Taliaferro\",2015,23.0],[\"L.Taliaferro\",2016,24.0],[\"A.Blue\",2015,24.0],[\"A.Blue\",2016,25.0],[\"A.Blue\",2017,26.0],[\"A.Blue\",2018,27.0],[\"J.Prosch\",2016,24.0],[\"K.Bibbs\",2017,24.0],[\"K.Bibbs\",2018,25.0],[\"S.Perry\",2020,28.0],[\"B.Oliver\",2015,24.0],[\"D.Freeman\",2015,23.0],[\"D.Freeman\",2016,24.0],[\"D.Freeman\",2017,25.0],[\"D.Freeman\",2018,26.0],[\"D.Freeman\",2019,27.0],[\"D.Freeman\",2020,28.0],[\"D.Freeman\",2021,29.0],[\"J.Hill\",2015,22.0],[\"J.Hill\",2016,23.0],[\"J.Hill\",2017,24.0],[\"J.Hill\",2018,25.0],[\"F.Toussaint\",2015,25.0],[\"F.Toussaint\",2016,26.0],[\"F.Toussaint\",2017,27.0],[\"T.West\",2015,24.0],[\"T.West\",2016,25.0],[\"T.West\",2017,26.0],[\"J.McKinnon\",2015,23.0],[\"J.McKinnon\",2016,24.0],[\"J.McKinnon\",2017,25.0],[\"J.McKinnon\",2021,29.0],[\"J.McKinnon\",2022,30.0],[\"C.Sims\",2015,24.0],[\"C.Sims\",2016,25.0],[\"T.Mason\",2015,22.0],[\"B.Sankey\",2015,22.0],[\"J.Langford\",2016,24.0],[\"J.Allen\",2016,25.0],[\"J.Allen\",2017,26.0],[\"J.Allen\",2018,27.0],[\"J.Allen\",2019,28.0],[\"J.Ajayi\",2016,23.0],[\"J.Ajayi\",2017,24.0],[\"J.Ajayi\",2018,25.0],[\"J.Ajayi\",2019,26.0],[\"M.Burton\",2021,29.0],[\"M.Burton\",2022,30.0],[\"C.Artis-Payne\",2016,26.0],[\"C.Artis-Payne\",2017,27.0],[\"C.Artis-Payne\",2018,28.0],[\"A.Ripkowski\",2017,24.0],[\"Z.Zenner\",2016,24.0],[\"Z.Zenner\",2017,25.0],[\"Z.Zenner\",2018,26.0],[\"Z.Zenner\",2019,27.0],[\"T.Ward\",2016,24.0],[\"T.Ward\",2017,25.0],[\"R.Mostert\",2017,25.0],[\"R.Mostert\",2018,26.0],[\"R.Mostert\",2019,27.0],[\"R.Mostert\",2020,28.0],[\"R.Mostert\",2021,29.0],[\"R.Mostert\",2022,30.0],[\"C.Grant\",2016,24.0],[\"C.Grant\",2017,25.0],[\"C.Grant\",2018,26.0],[\"A.Hunt\",2016,23.0],[\"A.Hunt\",2017,24.0],[\"T.Magee\",2016,23.0],[\"T.Watson\",2017,24.0],[\"M.Brown\",2016,23.0],[\"M.Brown\",2017,24.0],[\"M.Brown\",2018,25.0],[\"M.Brown\",2019,26.0],[\"M.Brown\",2020,27.0],[\"M.Brown\",2021,28.0],[\"M.Brown\",2022,29.0],[\"T.Rawls\",2016,23.0],[\"T.Rawls\",2017,24.0],[\"R.Smith\",2018,26.0],[\"M.Jones\",2016,23.0],[\"M.Jones\",2017,24.0],[\"M.Murphy\",2018,26.0],[\"M.Brown\",2017,25.0],[\"T.Coleman\",2016,23.0],[\"T.Coleman\",2017,24.0],[\"T.Coleman\",2018,25.0],[\"T.Coleman\",2019,26.0],[\"T.Coleman\",2020,27.0],[\"T.Coleman\",2021,28.0],[\"T.Coleman\",2022,29.0],[\"M.Davis\",2016,23.0],[\"M.Davis\",2017,24.0],[\"M.Davis\",2018,25.0],[\"M.Davis\",2019,26.0],[\"M.Davis\",2020,27.0],[\"M.Davis\",2021,28.0],[\"M.Davis\",2022,29.0],[\"A.Abdullah\",2016,23.0],[\"A.Abdullah\",2017,24.0],[\"A.Abdullah\",2018,25.0],[\"A.Abdullah\",2019,26.0],[\"A.Abdullah\",2020,27.0],[\"A.Abdullah\",2021,28.0],[\"A.Abdullah\",2022,29.0],[\"J.Fowler\",2016,26.0],[\"J.Fowler\",2017,27.0],[\"M.Gordon\",2016,23.0],[\"M.Gordon\",2017,24.0],[\"M.Gordon\",2018,25.0],[\"M.Gordon\",2019,26.0],[\"M.Gordon\",2020,27.0],[\"M.Gordon\",2021,28.0],[\"M.Gordon\",2022,29.0],[\"D.Johnson\",2016,24.0],[\"D.Johnson\",2019,27.0],[\"D.Johnson\",2022,30.0],[\"T.Montgomery\",2016,23.0],[\"T.Montgomery\",2017,24.0],[\"T.Montgomery\",2018,25.0],[\"T.Montgomery\",2019,26.0],[\"T.Montgomery\",2020,27.0],[\"T.Yeldon\",2016,22.0],[\"T.Yeldon\",2017,23.0],[\"T.Yeldon\",2018,24.0],[\"T.Yeldon\",2019,25.0],[\"T.Yeldon\",2020,26.0],[\"T.Gurley\",2016,22.0],[\"T.Gurley\",2017,23.0],[\"T.Gurley\",2018,24.0],[\"T.Gurley\",2019,25.0],[\"T.Gurley\",2020,26.0],[\"D.Johnson\",2018,24.0],[\"D.Johnson\",2019,25.0],[\"D.Johnson\",2022,28.0],[\"B.Hill\",2017,24.0],[\"R.Kelley\",2017,24.0],[\"R.Kelley\",2018,25.0],[\"J.Ferguson\",2017,24.0],[\"C.Prosise\",2017,23.0],[\"C.Prosise\",2018,24.0],[\"C.Prosise\",2019,25.0],[\"C.Prosise\",2020,26.0],[\"T.Ervin\",2017,23.0],[\"T.Ervin\",2020,26.0],[\"P.Perkins\",2017,22.0],[\"A.Collins\",2017,23.0],[\"A.Collins\",2018,24.0],[\"A.Collins\",2021,27.0],[\"D.Washington\",2017,23.0],[\"D.Washington\",2018,24.0],[\"D.Washington\",2019,25.0],[\"D.Washington\",2020,26.0],[\"D.Washington\",2021,27.0],[\"D.Washington\",2022,28.0],[\"D.Foster\",2017,23.0],[\"J.McKissic\",2017,24.0],[\"J.McKissic\",2018,25.0],[\"J.McKissic\",2019,26.0],[\"J.McKissic\",2020,27.0],[\"J.McKissic\",2021,28.0],[\"J.McKissic\",2022,29.0],[\"P.Barber\",2017,23.0],[\"P.Barber\",2018,24.0],[\"P.Barber\",2019,25.0],[\"P.Barber\",2020,26.0],[\"P.Barber\",2021,27.0],[\"D.Henry\",2017,23.0],[\"D.Henry\",2018,24.0],[\"D.Henry\",2019,25.0],[\"D.Henry\",2020,26.0],[\"D.Henry\",2021,27.0],[\"D.Henry\",2022,28.0],[\"J.Howard\",2019,24.0],[\"J.Howard\",2020,25.0],[\"J.Howard\",2021,26.0],[\"J.Howard\",2022,27.0],[\"W.Smallwood\",2017,23.0],[\"W.Smallwood\",2018,24.0],[\"W.Smallwood\",2019,25.0],[\"E.Penny\",2018,25.0],[\"E.Penny\",2019,26.0],[\"E.Penny\",2020,27.0],[\"E.Penny\",2021,28.0],[\"D.Watt\",2017,24.0],[\"D.Watt\",2018,25.0],[\"D.Watt\",2019,26.0],[\"D.Watt\",2022,29.0],[\"C.Ham\",2018,25.0],[\"C.Ham\",2019,26.0],[\"C.Ham\",2020,27.0],[\"C.Ham\",2021,28.0],[\"C.Ham\",2022,29.0],[\"D.Washington\",2017,24.0],[\"D.Washington\",2018,25.0],[\"D.Washington\",2019,26.0],[\"D.Washington\",2020,27.0],[\"A.Janovich\",2017,24.0],[\"A.Janovich\",2018,25.0],[\"A.Janovich\",2019,26.0],[\"A.Janovich\",2020,27.0],[\"A.Janovich\",2021,28.0],[\"B.Marshall\",2017,23.0],[\"B.Marshall\",2018,24.0],[\"D.Booker\",2017,25.0],[\"D.Booker\",2018,26.0],[\"D.Booker\",2019,27.0],[\"D.Booker\",2020,28.0],[\"D.Booker\",2021,29.0],[\"J.Williams\",2019,25.0],[\"J.Williams\",2020,26.0],[\"J.Williams\",2021,27.0],[\"J.Williams\",2022,28.0],[\"J.Richard\",2017,23.0],[\"J.Richard\",2018,24.0],[\"J.Richard\",2019,25.0],[\"J.Richard\",2020,26.0],[\"J.Richard\",2021,27.0],[\"E.Elliott\",2017,22.0],[\"E.Elliott\",2018,23.0],[\"E.Elliott\",2019,24.0],[\"E.Elliott\",2020,25.0],[\"E.Elliott\",2021,26.0],[\"E.Elliott\",2022,27.0],[\"K.Drake\",2017,23.0],[\"K.Drake\",2018,24.0],[\"K.Drake\",2019,25.0],[\"K.Drake\",2020,26.0],[\"K.Drake\",2021,27.0],[\"K.Drake\",2022,28.0],[\"T.Pope\",2020,26.0],[\"C.McCaffrey\",2018,22.0],[\"C.McCaffrey\",2019,23.0],[\"C.McCaffrey\",2020,24.0],[\"C.McCaffrey\",2021,25.0],[\"C.McCaffrey\",2022,26.0],[\"A.Jones\",2018,23.0],[\"A.Jones\",2019,24.0],[\"A.Jones\",2020,25.0],[\"A.Jones\",2021,26.0],[\"A.Jones\",2022,27.0],[\"E.McGuire\",2018,24.0],[\"A.Armah\",2019,25.0],[\"A.Armah\",2020,26.0],[\"A.Armah\",2021,27.0],[\"M.Breida\",2018,23.0],[\"M.Breida\",2019,24.0],[\"M.Breida\",2020,25.0],[\"M.Breida\",2021,26.0],[\"M.Breida\",2022,27.0],[\"P.Ricard\",2021,27.0],[\"P.Ricard\",2022,28.0],[\"S.Perine\",2018,22.0],[\"S.Perine\",2019,23.0],[\"S.Perine\",2020,24.0],[\"S.Perine\",2021,25.0],[\"S.Perine\",2022,26.0],[\"J.Conner\",2018,23.0],[\"J.Conner\",2019,24.0],[\"J.Conner\",2020,25.0],[\"J.Conner\",2021,26.0],[\"J.Conner\",2022,27.0],[\"T.Cohen\",2018,23.0],[\"T.Cohen\",2019,24.0],[\"T.Cohen\",2020,25.0],[\"B.Hill\",2018,22.0],[\"B.Hill\",2019,23.0],[\"B.Hill\",2020,24.0],[\"D.Henderson\",2018,25.0],[\"C.Carson\",2018,23.0],[\"C.Carson\",2019,24.0],[\"C.Carson\",2020,25.0],[\"C.Carson\",2021,26.0],[\"A.Ekeler\",2018,23.0],[\"A.Ekeler\",2019,24.0],[\"A.Ekeler\",2020,25.0],[\"A.Ekeler\",2021,26.0],[\"A.Ekeler\",2022,27.0],[\"C.Clement\",2018,23.0],[\"C.Clement\",2021,26.0],[\"C.Clement\",2022,27.0],[\"J.Davis\",2018,22.0],[\"T.Logan\",2019,24.0],[\"D.Ogunbowale\",2020,26.0],[\"D.Ogunbowale\",2021,27.0],[\"D.Ogunbowale\",2022,28.0],[\"L.Fournette\",2018,23.0],[\"L.Fournette\",2019,24.0],[\"L.Fournette\",2020,25.0],[\"L.Fournette\",2021,26.0],[\"L.Fournette\",2022,27.0],[\"D.Cook\",2018,23.0],[\"D.Cook\",2019,24.0],[\"D.Cook\",2020,25.0],[\"D.Cook\",2021,26.0],[\"D.Cook\",2022,27.0],[\"J.Mixon\",2018,22.0],[\"J.Mixon\",2019,23.0],[\"J.Mixon\",2020,24.0],[\"J.Mixon\",2021,25.0],[\"J.Mixon\",2022,26.0],[\"A.Kamara\",2018,23.0],[\"A.Kamara\",2019,24.0],[\"A.Kamara\",2020,25.0],[\"A.Kamara\",2021,26.0],[\"A.Kamara\",2022,27.0],[\"K.Hunt\",2018,23.0],[\"K.Hunt\",2019,24.0],[\"K.Hunt\",2020,25.0],[\"K.Hunt\",2021,26.0],[\"K.Hunt\",2022,27.0],[\"D.Foreman\",2018,22.0],[\"D.Foreman\",2021,25.0],[\"D.Foreman\",2022,26.0],[\"J.Williams\",2018,23.0],[\"J.Williams\",2019,24.0],[\"J.Williams\",2020,25.0],[\"J.Williams\",2021,26.0],[\"W.Gallman\",2018,23.0],[\"M.Mack\",2018,22.0],[\"M.Mack\",2019,23.0],[\"M.Mack\",2020,24.0],[\"M.Mack\",2021,25.0],[\"M.Mack\",2022,26.0],[\"J.McNichols\",2021,25.0],[\"P.Lindsay\",2019,25.0],[\"P.Lindsay\",2020,26.0],[\"P.Lindsay\",2021,27.0],[\"P.Lindsay\",2022,28.0],[\"J.Wilson\",2019,23.0],[\"J.Wilson\",2020,24.0],[\"J.Wilson\",2021,25.0],[\"J.Wilson\",2022,26.0],[\"T.Cannon\",2021,27.0],[\"J.Cabinda\",2021,25.0],[\"J.Cabinda\",2022,26.0],[\"G.Edwards\",2019,24.0],[\"G.Edwards\",2020,25.0],[\"D.Turner\",2019,24.0],[\"M.Boone\",2019,24.0],[\"M.Boone\",2020,25.0],[\"M.Boone\",2021,26.0],[\"M.Boone\",2022,27.0],[\"D.Hilliard\",2020,25.0],[\"D.Hilliard\",2021,26.0],[\"D.Hilliard\",2022,27.0],[\"J.Samuels\",2019,23.0],[\"J.Samuels\",2020,24.0],[\"J.Samuels\",2021,25.0],[\"K.Johnson\",2019,22.0],[\"K.Johnson\",2020,23.0],[\"N.Hines\",2019,22.0],[\"N.Hines\",2020,23.0],[\"N.Hines\",2021,24.0],[\"N.Hines\",2022,25.0],[\"I.Smith\",2019,23.0],[\"I.Smith\",2020,24.0],[\"I.Smith\",2021,25.0],[\"J.Wilkins\",2019,25.0],[\"J.Wilkins\",2020,26.0],[\"B.Scott\",2020,25.0],[\"B.Scott\",2021,26.0],[\"B.Scott\",2022,27.0],[\"B.Scarbrough\",2020,23.0],[\"J.Jackson\",2019,23.0],[\"J.Jackson\",2020,24.0],[\"J.Jackson\",2021,25.0],[\"J.Jackson\",2022,26.0],[\"B.Howell\",2021,25.0],[\"R.Bonnafon\",2020,24.0],[\"R.Bonnafon\",2021,25.0],[\"R.Bonnafon\",2022,26.0],[\"R.Nall\",2020,24.0],[\"R.Nall\",2021,25.0],[\"G.Igwebuike\",2022,27.0],[\"M.Walton\",2019,22.0],[\"C.Edmonds\",2019,23.0],[\"C.Edmonds\",2020,24.0],[\"C.Edmonds\",2021,25.0],[\"C.Edmonds\",2022,26.0],[\"R.Penny\",2019,23.0],[\"R.Penny\",2020,24.0],[\"R.Penny\",2021,25.0],[\"R.Penny\",2022,26.0],[\"N.Chubb\",2019,23.0],[\"N.Chubb\",2020,24.0],[\"N.Chubb\",2021,25.0],[\"N.Chubb\",2022,26.0],[\"K.Ballage\",2019,23.0],[\"K.Ballage\",2020,24.0],[\"K.Ballage\",2021,25.0],[\"J.Kelly\",2019,22.0],[\"R.Jones\",2019,22.0],[\"R.Jones\",2020,23.0],[\"R.Jones\",2021,24.0],[\"R.Jones\",2022,25.0],[\"R.Freeman\",2019,23.0],[\"R.Freeman\",2020,24.0],[\"R.Freeman\",2021,25.0],[\"R.Freeman\",2022,26.0],[\"S.Barkley\",2019,22.0],[\"S.Barkley\",2020,23.0],[\"S.Barkley\",2021,24.0],[\"S.Barkley\",2022,25.0],[\"S.Michel\",2019,24.0],[\"S.Michel\",2020,25.0],[\"S.Michel\",2021,26.0],[\"S.Michel\",2022,27.0],[\"A.Mattison\",2020,22.0],[\"A.Mattison\",2021,23.0],[\"A.Mattison\",2022,24.0],[\"J.Hill\",2020,22.0],[\"D.Williams\",2020,23.0],[\"A.Ingold\",2020,24.0],[\"A.Ingold\",2021,25.0],[\"A.Ingold\",2022,26.0],[\"D.Thompson\",2020,23.0],[\"D.Ozigbo\",2020,23.0],[\"D.Ozigbo\",2021,24.0],[\"D.Ozigbo\",2022,25.0],[\"A.Walter\",2021,25.0],[\"B.Snell\",2021,23.0],[\"B.Snell\",2022,24.0],[\"M.Sanders\",2020,23.0],[\"M.Sanders\",2021,24.0],[\"M.Sanders\",2022,25.0],[\"D.Singletary\",2020,22.0],[\"D.Singletary\",2021,23.0],[\"D.Singletary\",2022,24.0],[\"T.Pollard\",2020,23.0],[\"T.Pollard\",2021,24.0],[\"T.Pollard\",2022,25.0],[\"Q.Ollison\",2020,23.0],[\"Q.Ollison\",2021,24.0],[\"T.Williams\",2021,23.0],[\"T.Williams\",2022,24.0],[\"M.Gaskin\",2020,23.0],[\"M.Gaskin\",2021,24.0],[\"M.Gaskin\",2022,25.0],[\"P.Laird\",2020,25.0],[\"P.Laird\",2021,26.0],[\"T.Johnson\",2020,22.0],[\"T.Johnson\",2021,23.0],[\"T.Johnson\",2022,24.0],[\"T.Brooks-James\",2020,25.0],[\"C.Reynolds\",2021,25.0],[\"C.Reynolds\",2022,26.0],[\"T.Homer\",2020,22.0],[\"T.Homer\",2021,23.0],[\"T.Homer\",2022,24.0],[\"D.Johnson\",2020,24.0],[\"D.Johnson\",2021,25.0],[\"D.Johnson\",2022,26.0],[\"D.Harris\",2020,23.0],[\"D.Harris\",2021,24.0],[\"D.Harris\",2022,25.0],[\"D.Henderson\",2020,23.0],[\"D.Henderson\",2021,24.0],[\"D.Henderson\",2022,25.0],[\"D.Montgomery\",2020,23.0],[\"D.Montgomery\",2021,24.0],[\"D.Montgomery\",2022,25.0],[\"J.Jacobs\",2020,22.0],[\"J.Jacobs\",2021,23.0],[\"J.Jacobs\",2022,24.0],[\"J.Hasty\",2021,24.0],[\"J.Hasty\",2022,25.0],[\"J.Robinson\",2021,23.0],[\"J.Robinson\",2022,24.0],[\"T.Jones\",2021,23.0],[\"T.Jones\",2022,24.0],[\"G.Nabers\",2021,23.0],[\"J.Ward\",2022,24.0],[\"P.Taylor\",2022,24.0],[\"S.Ahmed\",2021,22.0],[\"S.Ahmed\",2022,23.0],[\"S.Phillips\",2021,23.0],[\"J.Taylor\",2021,23.0],[\"J.Taylor\",2022,24.0],[\"J.Taylor\",2021,22.0],[\"J.Taylor\",2022,23.0],[\"Z.Moss\",2021,23.0],[\"Z.Moss\",2022,24.0],[\"A.Dillon\",2021,23.0],[\"A.Dillon\",2022,24.0],[\"L.Perine\",2021,23.0],[\"D.Swift\",2021,22.0],[\"D.Swift\",2022,23.0],[\"J.Huntley\",2021,23.0],[\"D.Evans\",2021,23.0],[\"D.Evans\",2022,24.0],[\"A.Gibson\",2021,23.0],[\"A.Gibson\",2022,24.0],[\"A.McFarland\",2021,22.0],[\"A.McFarland\",2022,23.0],[\"C.Edwards-Helaire\",2021,22.0],[\"C.Edwards-Helaire\",2022,23.0],[\"J.Kelley\",2021,23.0],[\"J.Kelley\",2022,24.0],[\"E.Benjamin\",2022,23.0],[\"C.Akers\",2021,22.0],[\"C.Akers\",2022,23.0],[\"D.Dallas\",2021,22.0],[\"D.Dallas\",2022,23.0],[\"K.Vaughn\",2021,24.0],[\"K.Vaughn\",2022,25.0],[\"C.Hubbard\",2022,23.0],[\"E.Mitchell\",2022,24.0],[\"G.Brightwell\",2022,24.0],[\"L.Rountree\",2022,23.0],[\"D.Felton\",2022,24.0],[\"K.Hill\",2022,24.0],[\"A.Prentice\",2022,25.0],[\"J.Patterson\",2022,22.0],[\"K.Nwangwu\",2022,24.0],[\"R.Stevenson\",2022,24.0],[\"N.Harris\",2022,24.0],[\"K.Herbert\",2022,24.0],[\"K.Gainwell\",2022,23.0],[\"Mi.Carter\",2022,23.0],[\"T.Sermon\",2022,23.0],[\"J.Williams\",2022,22.0]],\"hovertemplate\":\"rushing_yards_last=%{x}\\u003cbr\\u003erushing_yards=%{y}\\u003cbr\\u003erusher=%{customdata[0]}\\u003cbr\\u003eseason=%{customdata[1]}\\u003cbr\\u003eage=%{customdata[2]}\\u003cextra\\u003e\\u003c\\u002fextra\\u003e\",\"legendgroup\":\"\",\"marker\":{\"color\":\"#636efa\",\"symbol\":\"circle\"},\"mode\":\"markers\",\"name\":\"\",\"showlegend\":false,\"x\":[731.0,1045.0,543.0,707.0,28.0,37.0,220.0,157.0,1214.0,1128.0,1106.0,967.0,1025.0,961.0,722.0,599.0,7.0,244.0,220.0,329.0,317.0,438.0,61.0,120.0,437.0,890.0,525.0,986.0,1006.0,297.0,28.0,723.0,843.0,414.0,803.0,83.0,1.0,473.0,549.0,222.0,2097.0,1266.0,75.0,1485.0,72.0,529.0,1042.0,898.0,604.0,1590.0,1257.0,1306.0,891.0,376.0,106.0,411.0,63.0,1015.0,186.0,425.0,311.0,1094.0,33.0,301.0,429.0,38.0,336.0,116.0,256.0,114.0,707.0,379.0,534.0,1089.0,87.0,336.0,180.0,809.0,989.0,824.0,680.0,402.0,182.0,1243.0,1077.0,663.0,814.0,95.0,1094.0,1339.0,1038.0,898.0,813.0,1138.0,1509.0,1287.0,1033.0,364.0,40.0,296.0,193.0,2.0,375.0,309.0,247.0,374.0,31.0,1266.0,641.0,36.0,410.0,8.0,1424.0,542.0,1246.0,163.0,145.0,144.0,11.0,1063.0,295.0,258.0,17.0,35.0,356.0,525.0,1038.0,417.0,537.0,223.0,840.0,1607.0,1319.0,895.0,1267.0,1138.0,514.0,465.0,221.0,385.0,283.0,733.0,639.0,863.0,414.0,650.0,860.0,311.0,151.0,772.0,547.0,703.0,1161.0,766.0,217.0,833.0,821.0,1070.0,439.0,382.0,5.0,131.0,247.0,78.0,56.0,432.0,623.0,197.0,255.0,493.0,333.0,601.0,1244.0,933.0,300.0,112.0,18.0,707.0,539.0,169.0,283.0,326.0,279.0,771.0,1.0,8.0,602.0,386.0,964.0,769.0,1043.0,1124.0,645.0,1010.0,299.0,554.0,251.0,208.0,391.0,260.0,158.0,798.0,325.0,663.0,1121.0,1845.0,702.0,1287.0,1263.0,773.0,340.0,90.0,7.0,108.0,464.0,2.0,274.0,216.0,371.0,74.0,437.0,697.0,141.0,313.0,714.0,772.0,343.0,40.0,2.0,9.0,332.0,217.0,41.0,560.0,244.0,234.0,283.0,896.0,517.0,209.0,88.0,8.0,256.0,186.0,22.0,9.0,9.0,166.0,570.0,112.0,233.0,2.0,19.0,273.0,64.0,189.0,-2.0,9.0,61.0,0.0,75.0,150.0,99.0,67.0,31.0,8.0,412.0,1613.0,1275.0,1074.0,751.0,243.0,547.0,428.0,4.0,32.0,28.0,19.0,96.0,274.0,271.0,89.0,207.0,4.0,67.0,91.0,226.0,358.0,125.0,59.0,532.0,436.0,366.0,354.0,264.0,310.0,199.0,164.0,53.0,44.0,24.0,171.0,566.0,406.0,18.0,63.0,564.0,314.0,126.0,98.0,172.0,101.0,2.0,110.0,47.0,6.0,73.0,153.0,282.0,814.0,5.0,33.0,351.0,475.0,1454.0,456.0,494.0,1402.0,421.0,406.0,250.0,709.0,1099.0,872.0,1073.0,888.0,54.0,3.0,950.0,563.0,330.0,218.0,434.0,863.0,79.0,145.0,108.0,265.0,261.0,246.0,140.0,101.0,29.0,38.0,849.0,720.0,437.0,1007.0,403.0,3.0,22.0,31.0,30.0,7.0,64.0,22.0,10.0,15.0,28.0,41.0,25.0,51.0,133.0,357.0,286.0,5.0,246.0,142.0,157.0,43.0,73.0,242.0,463.0,72.0,115.0,208.0,58.0,652.0,660.0,289.0,96.0,27.0,4.0,344.0,264.0,186.0,302.0,274.0,427.0,224.0,362.0,180.0,164.0,343.0,295.0,12.0,216.0,356.0,294.0,178.0,138.0,403.0,246.0,79.0,175.0,243.0,267.0,577.0,383.0,695.0,680.0,730.0,337.0,458.0,211.0,170.0,416.0,58.0,124.0,129.0,57.0,71.0,1178.0,1139.0,758.0,360.0,860.0,1361.0,556.0,1268.0,789.0,316.0,424.0,1066.0,788.0,842.0,578.0,637.0,656.0,501.0,557.0,973.0,293.0,66.0,582.0,266.0,232.0,610.0,607.0,706.0,952.0,853.0,634.0,293.0,72.0,272.0,48.0,21.0,0.0,520.0,18.0,23.0,153.0,111.0,122.0,59.0,115.0,164.0,0.0,8.0,7.0,31.0,333.0,470.0,988.0,938.0,571.0,1070.0,356.0,721.0,257.0,87.0,158.0,159.0,38.0,56.0,166.0,171.0,425.0,263.0,121.0,292.0,47.0,528.0,698.0,420.0,262.0,33.0,129.0,79.0,3.0,582.0,248.0,1056.0,1079.0,865.0,68.0,656.0,172.0,1124.0,794.0,839.0,116.0,12.0,42.0,58.0,673.0,231.0,774.0,538.0,271.0,539.0,319.0,62.0,185.0,529.0,765.0,569.0,537.0,514.0,34.0,591.0,110.0,187.0,1272.0,873.0,184.0,18.0,26.0,183.0,144.0,95.0,150.0,60.0,334.0,26.0,265.0,95.0,151.0,6.0,30.0,261.0,772.0,521.0,20.0,2.0,164.0,248.0,96.0,109.0,5.0,28.0,17.0,39.0,246.0,212.0,255.0,419.0,125.0,830.0,349.0,232.0,490.0,460.0,41.0,82.0,392.0,520.0,628.0,800.0,544.0,53.0,356.0,58.0,50.0,223.0,514.0,27.0,642.0,503.0,597.0,101.0,552.0,1.0,115.0,42.0,166.0,13.0,3.0,641.0,997.0,1105.0,885.0,612.0,986.0,918.0,581.0,940.0,228.0,14.0,457.0,273.0,183.0,103.0,740.0,465.0,253.0,414.0,63.0,1106.0,885.0,1305.0,1251.0,857.0,348.0,201.0,330.0,11.0,704.0,194.0,20.0,172.0,23.0,-3.0,72.0,3.0,10.0,456.0,125.0,973.0,77.0,265.0,44.0,154.0,60.0,15.0,16.0,24.0,2.0,187.0,8.0,205.0,365.0,212.0,223.0,423.0,871.0,470.0,258.0,490.0,744.0,1059.0,1540.0,2027.0,937.0,935.0,525.0,60.0,406.0,312.0,174.0,364.0,124.0,25.0,39.0,15.0,4.0,24.0,11.0,1.0,13.0,8.0,17.0,18.0,34.0,467.0,153.0,111.0,387.0,33.0,12.0,5.0,1.0,4.0,64.0,32.0,612.0,299.0,183.0,9.0,423.0,0.0,235.0,5.0,79.0,491.0,275.0,259.0,145.0,123.0,1631.0,983.0,1434.0,1357.0,979.0,1002.0,179.0,644.0,535.0,817.0,955.0,254.0,20.0,435.0,1098.0,1387.0,225.0,442.0,448.0,728.0,1084.0,1104.0,799.0,309.0,15.0,11.0,9.0,465.0,814.0,623.0,254.0,125.0,-1.0,4.0,603.0,32.0,16.0,301.0,246.0,144.0,973.0,464.0,721.0,752.0,370.0,444.0,213.0,37.0,157.0,323.0,13.0,208.0,1151.0,1230.0,681.0,260.0,554.0,557.0,530.0,911.0,321.0,75.0,140.0,1.0,2.0,17.0,145.0,137.0,1040.0,439.0,1152.0,367.0,812.0,354.0,615.0,1135.0,1557.0,1159.0,626.0,1168.0,1137.0,428.0,1205.0,728.0,883.0,797.0,932.0,898.0,1327.0,824.0,179.0,841.0,386.0,327.0,95.0,566.0,556.0,464.0,460.0,505.0,476.0,358.0,908.0,1091.0,26.0,101.0,204.0,1037.0,1011.0,502.0,249.0,266.0,105.0,600.0,294.0,33.0,0.0,23.0,718.0,711.0,4.0,47.0,273.0,59.0,35.0,49.0,48.0,350.0,256.0,175.0,28.0,641.0,403.0,314.0,199.0,380.0,276.0,315.0,106.0,268.0,336.0,307.0,245.0,374.0,373.0,377.0,206.0,200.0,270.0,364.0,64.0,116.0,69.0,4.0,8.0,0.0,118.0,34.0,208.0,303.0,448.0,592.0,419.0,370.0,34.0,749.0,996.0,1494.0,1065.0,1259.0,191.0,135.0,303.0,74.0,44.0,724.0,978.0,428.0,521.0,496.0,170.0,169.0,1307.0,1003.0,34.0,593.0,931.0,912.0,449.0,845.0,462.0,434.0,491.0,225.0,11.0,17.0,4.0,1.0,128.0,27.0,1.0,-3.0,3.0,368.0,98.0,817.0,867.0,754.0,775.0,687.0,870.0,455.0,435.0,719.0,50.0,3.0,157.0,51.0,133.0,584.0,612.0,164.0,72.0,273.0,254.0,238.0,7.0,4.0,230.0,114.0,88.0,177.0,21.0,166.0,534.0,12.0,691.0,929.0,147.0,624.0,688.0,889.0,1070.0,846.0,1150.0,1065.0,872.0,148.0,68.0,1070.0,767.0,13.0,142.0,7.0,33.0,89.0,319.0,149.0,9.0,110.0,37.0,1169.0,1811.0,481.0,345.0,242.0,803.0,232.0,521.0,617.0,19.0,54.0,7.0,795.0,1037.0,113.0,3.0,803.0,517.0,354.0,102.0,118.0,625.0,3.0,108.0,138.0,109.0,180.0,612.0,963.0,4.0,87.0,24.0,24.0,5.0,266.0,61.0,606.0,1200.0,433.0,291.0,639.0,167.0,903.0],\"xaxis\":\"x\",\"y\":[377.0,543.0,707.0,50.0,37.0,2.0,157.0,63.0,1128.0,1106.0,967.0,1025.0,961.0,722.0,599.0,653.0,238.0,220.0,329.0,317.0,438.0,61.0,120.0,66.0,890.0,525.0,100.0,1006.0,297.0,28.0,-3.0,843.0,219.0,803.0,96.0,1.0,57.0,549.0,222.0,64.0,1266.0,75.0,1485.0,72.0,529.0,1042.0,898.0,604.0,98.0,1257.0,1306.0,417.0,376.0,34.0,182.0,197.0,164.0,186.0,425.0,85.0,142.0,756.0,0.0,429.0,38.0,336.0,116.0,56.0,114.0,247.0,379.0,534.0,1089.0,87.0,-2.0,180.0,809.0,989.0,824.0,680.0,17.0,184.0,687.0,1077.0,663.0,814.0,95.0,114.0,1339.0,1038.0,898.0,813.0,381.0,660.0,1287.0,1033.0,364.0,40.0,296.0,7.0,170.0,13.0,548.0,247.0,115.0,31.0,1266.0,641.0,291.0,0.0,12.0,18.0,542.0,1246.0,163.0,55.0,144.0,11.0,47.0,295.0,392.0,17.0,43.0,14.0,19.0,1038.0,148.0,537.0,223.0,229.0,1607.0,1319.0,895.0,1267.0,1138.0,514.0,465.0,31.0,61.0,492.0,733.0,639.0,863.0,593.0,650.0,860.0,311.0,6.0,772.0,547.0,703.0,1161.0,766.0,418.0,833.0,821.0,1070.0,439.0,382.0,385.0,131.0,247.0,2.0,56.0,432.0,44.0,197.0,51.0,493.0,333.0,601.0,145.0,933.0,300.0,112.0,18.0,0.0,1255.0,661.0,283.0,326.0,44.0,771.0,371.0,2.0,3.0,386.0,964.0,769.0,1043.0,1124.0,645.0,1010.0,299.0,554.0,233.0,208.0,391.0,260.0,158.0,164.0,9.0,406.0,1121.0,1845.0,702.0,1287.0,659.0,773.0,340.0,90.0,7.0,108.0,80.0,35.0,274.0,216.0,39.0,358.0,-8.0,697.0,141.0,313.0,714.0,772.0,343.0,229.0,2.0,9.0,8.0,217.0,41.0,560.0,244.0,106.0,283.0,896.0,517.0,209.0,115.0,0.0,256.0,186.0,22.0,59.0,73.0,166.0,570.0,112.0,402.0,2.0,19.0,273.0,196.0,189.0,138.0,9.0,7.0,12.0,5.0,150.0,99.0,67.0,31.0,51.0,3.0,176.0,1275.0,1074.0,751.0,243.0,547.0,428.0,4.0,238.0,28.0,19.0,96.0,17.0,271.0,89.0,207.0,4.0,67.0,91.0,68.0,66.0,146.0,59.0,9.0,436.0,366.0,11.0,264.0,310.0,199.0,164.0,53.0,10.0,24.0,31.0,2.0,406.0,18.0,63.0,2.0,314.0,126.0,72.0,172.0,334.0,2.0,22.0,47.0,43.0,73.0,153.0,282.0,105.0,63.0,33.0,351.0,79.0,215.0,456.0,494.0,1402.0,421.0,406.0,723.0,709.0,1099.0,872.0,1073.0,888.0,973.0,21.0,22.0,563.0,519.0,218.0,434.0,863.0,131.0,145.0,108.0,265.0,18.0,246.0,140.0,101.0,29.0,20.0,849.0,720.0,437.0,1007.0,403.0,43.0,22.0,31.0,30.0,7.0,64.0,22.0,26.0,15.0,28.0,41.0,20.0,51.0,133.0,357.0,286.0,171.0,0.0,142.0,157.0,426.0,33.0,1.0,463.0,72.0,28.0,208.0,58.0,12.0,660.0,289.0,96.0,55.0,4.0,344.0,264.0,186.0,302.0,274.0,427.0,80.0,362.0,180.0,22.0,343.0,315.0,37.0,216.0,356.0,294.0,178.0,138.0,20.0,921.0,51.0,175.0,243.0,583.0,577.0,383.0,43.0,680.0,730.0,337.0,458.0,211.0,170.0,416.0,58.0,28.0,129.0,57.0,71.0,28.0,1139.0,758.0,360.0,179.0,1361.0,556.0,1268.0,1291.0,316.0,101.0,1066.0,788.0,842.0,578.0,637.0,656.0,501.0,760.0,172.0,293.0,89.0,582.0,266.0,144.0,610.0,695.0,706.0,952.0,853.0,685.0,293.0,72.0,-1.0,48.0,26.0,16.0,4.0,15.0,20.0,153.0,111.0,751.0,59.0,115.0,181.0,2.0,8.0,7.0,31.0,2.0,470.0,988.0,938.0,571.0,1070.0,356.0,253.0,257.0,87.0,25.0,159.0,126.0,56.0,166.0,171.0,425.0,263.0,121.0,38.0,47.0,0.0,698.0,420.0,262.0,499.0,9.0,79.0,103.0,9.0,108.0,1056.0,1079.0,865.0,68.0,656.0,172.0,576.0,794.0,839.0,116.0,25.0,42.0,58.0,25.0,231.0,774.0,138.0,271.0,539.0,570.0,62.0,291.0,529.0,149.0,207.0,193.0,200.0,34.0,591.0,110.0,36.0,1272.0,873.0,184.0,30.0,26.0,7.0,144.0,95.0,69.0,13.0,334.0,26.0,265.0,-2.0,151.0,129.0,30.0,261.0,772.0,521.0,20.0,891.0,164.0,248.0,40.0,109.0,23.0,12.0,8.0,39.0,246.0,212.0,255.0,419.0,125.0,81.0,349.0,157.0,127.0,460.0,14.0,250.0,29.0,520.0,628.0,800.0,544.0,53.0,356.0,26.0,50.0,223.0,514.0,27.0,642.0,503.0,18.0,101.0,552.0,1.0,115.0,42.0,166.0,20.0,3.0,4.0,997.0,1105.0,885.0,612.0,986.0,918.0,318.0,1239.0,345.0,24.0,457.0,273.0,183.0,103.0,101.0,465.0,253.0,414.0,63.0,70.0,885.0,1305.0,1251.0,857.0,678.0,201.0,410.0,4.0,-2.0,194.0,8.0,5.0,23.0,-3.0,72.0,19.0,12.0,67.0,90.0,973.0,411.0,411.0,44.0,154.0,60.0,15.0,16.0,38.0,19.0,187.0,8.0,205.0,365.0,212.0,95.0,423.0,871.0,470.0,258.0,212.0,744.0,1059.0,1540.0,2027.0,937.0,1538.0,525.0,60.0,406.0,1.0,174.0,364.0,81.0,25.0,39.0,15.0,99.0,24.0,11.0,10.0,21.0,8.0,17.0,18.0,34.0,7.0,153.0,111.0,387.0,91.0,12.0,5.0,1.0,4.0,0.0,32.0,9.0,299.0,183.0,9.0,423.0,593.0,235.0,5.0,79.0,152.0,275.0,259.0,145.0,123.0,40.0,983.0,1434.0,1357.0,979.0,1002.0,876.0,644.0,535.0,817.0,955.0,254.0,482.0,76.0,1098.0,1387.0,225.0,442.0,1139.0,728.0,1084.0,1104.0,799.0,1121.0,276.0,11.0,9.0,21.0,814.0,623.0,254.0,125.0,220.0,4.0,16.0,32.0,16.0,301.0,246.0,394.0,973.0,464.0,721.0,752.0,782.0,444.0,213.0,74.0,157.0,323.0,465.0,19.0,1151.0,1230.0,681.0,232.0,554.0,557.0,530.0,911.0,915.0,259.0,140.0,55.0,19.0,10.0,145.0,137.0,123.0,439.0,1152.0,367.0,812.0,668.0,615.0,1135.0,1557.0,1159.0,1173.0,1168.0,1137.0,428.0,1205.0,814.0,883.0,797.0,932.0,898.0,897.0,824.0,179.0,841.0,386.0,468.0,-1.0,566.0,914.0,464.0,460.0,505.0,601.0,176.0,908.0,1091.0,26.0,101.0,84.0,156.0,1011.0,502.0,249.0,49.0,105.0,600.0,294.0,859.0,4.0,23.0,4.0,711.0,723.0,6.0,273.0,59.0,35.0,102.0,48.0,350.0,145.0,175.0,28.0,9.0,403.0,181.0,199.0,380.0,276.0,33.0,106.0,268.0,4.0,307.0,308.0,374.0,373.0,217.0,31.0,200.0,270.0,364.0,170.0,11.0,69.0,4.0,8.0,0.0,4.0,4.0,201.0,303.0,448.0,592.0,245.0,370.0,34.0,749.0,346.0,1494.0,1065.0,1259.0,1525.0,135.0,303.0,36.0,9.0,724.0,978.0,428.0,70.0,496.0,170.0,169.0,117.0,1003.0,34.0,593.0,1312.0,912.0,449.0,845.0,106.0,434.0,491.0,283.0,60.0,8.0,4.0,1.0,8.0,97.0,1.0,-3.0,4.0,101.0,98.0,90.0,867.0,754.0,1269.0,687.0,870.0,819.0,435.0,719.0,1007.0,3.0,105.0,51.0,30.0,584.0,612.0,26.0,72.0,4.0,254.0,238.0,160.0,4.0,230.0,102.0,88.0,177.0,74.0,166.0,534.0,17.0,691.0,929.0,462.0,624.0,688.0,283.0,1070.0,846.0,801.0,1065.0,872.0,1653.0,68.0,194.0,767.0,425.0,142.0,24.0,8.0,25.0,31.0,149.0,64.0,13.0,37.0,9.0,1811.0,861.0,345.0,456.0,803.0,770.0,31.0,617.0,542.0,51.0,7.0,64.0,1037.0,546.0,3.0,30.0,517.0,302.0,102.0,287.0,313.0,3.0,786.0,138.0,186.0,180.0,53.0,466.0,279.0,141.0,19.0,-4.0,7.0,9.0,78.0,14.0,1040.0,1034.0,731.0,240.0,402.0,19.0,204.0],\"yaxis\":\"y\",\"type\":\"scattergl\"}],                        {\"template\":{\"data\":{\"histogram2dcontour\":[{\"type\":\"histogram2dcontour\",\"colorbar\":{\"outlinewidth\":0,\"ticks\":\"\"},\"colorscale\":[[0.0,\"#0d0887\"],[0.1111111111111111,\"#46039f\"],[0.2222222222222222,\"#7201a8\"],[0.3333333333333333,\"#9c179e\"],[0.4444444444444444,\"#bd3786\"],[0.5555555555555556,\"#d8576b\"],[0.6666666666666666,\"#ed7953\"],[0.7777777777777778,\"#fb9f3a\"],[0.8888888888888888,\"#fdca26\"],[1.0,\"#f0f921\"]]}],\"choropleth\":[{\"type\":\"choropleth\",\"colorbar\":{\"outlinewidth\":0,\"ticks\":\"\"}}],\"histogram2d\":[{\"type\":\"histogram2d\",\"colorbar\":{\"outlinewidth\":0,\"ticks\":\"\"},\"colorscale\":[[0.0,\"#0d0887\"],[0.1111111111111111,\"#46039f\"],[0.2222222222222222,\"#7201a8\"],[0.3333333333333333,\"#9c179e\"],[0.4444444444444444,\"#bd3786\"],[0.5555555555555556,\"#d8576b\"],[0.6666666666666666,\"#ed7953\"],[0.7777777777777778,\"#fb9f3a\"],[0.8888888888888888,\"#fdca26\"],[1.0,\"#f0f921\"]]}],\"heatmap\":[{\"type\":\"heatmap\",\"colorbar\":{\"outlinewidth\":0,\"ticks\":\"\"},\"colorscale\":[[0.0,\"#0d0887\"],[0.1111111111111111,\"#46039f\"],[0.2222222222222222,\"#7201a8\"],[0.3333333333333333,\"#9c179e\"],[0.4444444444444444,\"#bd3786\"],[0.5555555555555556,\"#d8576b\"],[0.6666666666666666,\"#ed7953\"],[0.7777777777777778,\"#fb9f3a\"],[0.8888888888888888,\"#fdca26\"],[1.0,\"#f0f921\"]]}],\"heatmapgl\":[{\"type\":\"heatmapgl\",\"colorbar\":{\"outlinewidth\":0,\"ticks\":\"\"},\"colorscale\":[[0.0,\"#0d0887\"],[0.1111111111111111,\"#46039f\"],[0.2222222222222222,\"#7201a8\"],[0.3333333333333333,\"#9c179e\"],[0.4444444444444444,\"#bd3786\"],[0.5555555555555556,\"#d8576b\"],[0.6666666666666666,\"#ed7953\"],[0.7777777777777778,\"#fb9f3a\"],[0.8888888888888888,\"#fdca26\"],[1.0,\"#f0f921\"]]}],\"contourcarpet\":[{\"type\":\"contourcarpet\",\"colorbar\":{\"outlinewidth\":0,\"ticks\":\"\"}}],\"contour\":[{\"type\":\"contour\",\"colorbar\":{\"outlinewidth\":0,\"ticks\":\"\"},\"colorscale\":[[0.0,\"#0d0887\"],[0.1111111111111111,\"#46039f\"],[0.2222222222222222,\"#7201a8\"],[0.3333333333333333,\"#9c179e\"],[0.4444444444444444,\"#bd3786\"],[0.5555555555555556,\"#d8576b\"],[0.6666666666666666,\"#ed7953\"],[0.7777777777777778,\"#fb9f3a\"],[0.8888888888888888,\"#fdca26\"],[1.0,\"#f0f921\"]]}],\"surface\":[{\"type\":\"surface\",\"colorbar\":{\"outlinewidth\":0,\"ticks\":\"\"},\"colorscale\":[[0.0,\"#0d0887\"],[0.1111111111111111,\"#46039f\"],[0.2222222222222222,\"#7201a8\"],[0.3333333333333333,\"#9c179e\"],[0.4444444444444444,\"#bd3786\"],[0.5555555555555556,\"#d8576b\"],[0.6666666666666666,\"#ed7953\"],[0.7777777777777778,\"#fb9f3a\"],[0.8888888888888888,\"#fdca26\"],[1.0,\"#f0f921\"]]}],\"mesh3d\":[{\"type\":\"mesh3d\",\"colorbar\":{\"outlinewidth\":0,\"ticks\":\"\"}}],\"scatter\":[{\"fillpattern\":{\"fillmode\":\"overlay\",\"size\":10,\"solidity\":0.2},\"type\":\"scatter\"}],\"parcoords\":[{\"type\":\"parcoords\",\"line\":{\"colorbar\":{\"outlinewidth\":0,\"ticks\":\"\"}}}],\"scatterpolargl\":[{\"type\":\"scatterpolargl\",\"marker\":{\"colorbar\":{\"outlinewidth\":0,\"ticks\":\"\"}}}],\"bar\":[{\"error_x\":{\"color\":\"#2a3f5f\"},\"error_y\":{\"color\":\"#2a3f5f\"},\"marker\":{\"line\":{\"color\":\"#E5ECF6\",\"width\":0.5},\"pattern\":{\"fillmode\":\"overlay\",\"size\":10,\"solidity\":0.2}},\"type\":\"bar\"}],\"scattergeo\":[{\"type\":\"scattergeo\",\"marker\":{\"colorbar\":{\"outlinewidth\":0,\"ticks\":\"\"}}}],\"scatterpolar\":[{\"type\":\"scatterpolar\",\"marker\":{\"colorbar\":{\"outlinewidth\":0,\"ticks\":\"\"}}}],\"histogram\":[{\"marker\":{\"pattern\":{\"fillmode\":\"overlay\",\"size\":10,\"solidity\":0.2}},\"type\":\"histogram\"}],\"scattergl\":[{\"type\":\"scattergl\",\"marker\":{\"colorbar\":{\"outlinewidth\":0,\"ticks\":\"\"}}}],\"scatter3d\":[{\"type\":\"scatter3d\",\"line\":{\"colorbar\":{\"outlinewidth\":0,\"ticks\":\"\"}},\"marker\":{\"colorbar\":{\"outlinewidth\":0,\"ticks\":\"\"}}}],\"scattermapbox\":[{\"type\":\"scattermapbox\",\"marker\":{\"colorbar\":{\"outlinewidth\":0,\"ticks\":\"\"}}}],\"scatterternary\":[{\"type\":\"scatterternary\",\"marker\":{\"colorbar\":{\"outlinewidth\":0,\"ticks\":\"\"}}}],\"scattercarpet\":[{\"type\":\"scattercarpet\",\"marker\":{\"colorbar\":{\"outlinewidth\":0,\"ticks\":\"\"}}}],\"carpet\":[{\"aaxis\":{\"endlinecolor\":\"#2a3f5f\",\"gridcolor\":\"white\",\"linecolor\":\"white\",\"minorgridcolor\":\"white\",\"startlinecolor\":\"#2a3f5f\"},\"baxis\":{\"endlinecolor\":\"#2a3f5f\",\"gridcolor\":\"white\",\"linecolor\":\"white\",\"minorgridcolor\":\"white\",\"startlinecolor\":\"#2a3f5f\"},\"type\":\"carpet\"}],\"table\":[{\"cells\":{\"fill\":{\"color\":\"#EBF0F8\"},\"line\":{\"color\":\"white\"}},\"header\":{\"fill\":{\"color\":\"#C8D4E3\"},\"line\":{\"color\":\"white\"}},\"type\":\"table\"}],\"barpolar\":[{\"marker\":{\"line\":{\"color\":\"#E5ECF6\",\"width\":0.5},\"pattern\":{\"fillmode\":\"overlay\",\"size\":10,\"solidity\":0.2}},\"type\":\"barpolar\"}],\"pie\":[{\"automargin\":true,\"type\":\"pie\"}]},\"layout\":{\"autotypenumbers\":\"strict\",\"colorway\":[\"#636efa\",\"#EF553B\",\"#00cc96\",\"#ab63fa\",\"#FFA15A\",\"#19d3f3\",\"#FF6692\",\"#B6E880\",\"#FF97FF\",\"#FECB52\"],\"font\":{\"color\":\"#2a3f5f\"},\"hovermode\":\"closest\",\"hoverlabel\":{\"align\":\"left\"},\"paper_bgcolor\":\"white\",\"plot_bgcolor\":\"#E5ECF6\",\"polar\":{\"bgcolor\":\"#E5ECF6\",\"angularaxis\":{\"gridcolor\":\"white\",\"linecolor\":\"white\",\"ticks\":\"\"},\"radialaxis\":{\"gridcolor\":\"white\",\"linecolor\":\"white\",\"ticks\":\"\"}},\"ternary\":{\"bgcolor\":\"#E5ECF6\",\"aaxis\":{\"gridcolor\":\"white\",\"linecolor\":\"white\",\"ticks\":\"\"},\"baxis\":{\"gridcolor\":\"white\",\"linecolor\":\"white\",\"ticks\":\"\"},\"caxis\":{\"gridcolor\":\"white\",\"linecolor\":\"white\",\"ticks\":\"\"}},\"coloraxis\":{\"colorbar\":{\"outlinewidth\":0,\"ticks\":\"\"}},\"colorscale\":{\"sequential\":[[0.0,\"#0d0887\"],[0.1111111111111111,\"#46039f\"],[0.2222222222222222,\"#7201a8\"],[0.3333333333333333,\"#9c179e\"],[0.4444444444444444,\"#bd3786\"],[0.5555555555555556,\"#d8576b\"],[0.6666666666666666,\"#ed7953\"],[0.7777777777777778,\"#fb9f3a\"],[0.8888888888888888,\"#fdca26\"],[1.0,\"#f0f921\"]],\"sequentialminus\":[[0.0,\"#0d0887\"],[0.1111111111111111,\"#46039f\"],[0.2222222222222222,\"#7201a8\"],[0.3333333333333333,\"#9c179e\"],[0.4444444444444444,\"#bd3786\"],[0.5555555555555556,\"#d8576b\"],[0.6666666666666666,\"#ed7953\"],[0.7777777777777778,\"#fb9f3a\"],[0.8888888888888888,\"#fdca26\"],[1.0,\"#f0f921\"]],\"diverging\":[[0,\"#8e0152\"],[0.1,\"#c51b7d\"],[0.2,\"#de77ae\"],[0.3,\"#f1b6da\"],[0.4,\"#fde0ef\"],[0.5,\"#f7f7f7\"],[0.6,\"#e6f5d0\"],[0.7,\"#b8e186\"],[0.8,\"#7fbc41\"],[0.9,\"#4d9221\"],[1,\"#276419\"]]},\"xaxis\":{\"gridcolor\":\"white\",\"linecolor\":\"white\",\"ticks\":\"\",\"title\":{\"standoff\":15},\"zerolinecolor\":\"white\",\"automargin\":true,\"zerolinewidth\":2},\"yaxis\":{\"gridcolor\":\"white\",\"linecolor\":\"white\",\"ticks\":\"\",\"title\":{\"standoff\":15},\"zerolinecolor\":\"white\",\"automargin\":true,\"zerolinewidth\":2},\"scene\":{\"xaxis\":{\"backgroundcolor\":\"#E5ECF6\",\"gridcolor\":\"white\",\"linecolor\":\"white\",\"showbackground\":true,\"ticks\":\"\",\"zerolinecolor\":\"white\",\"gridwidth\":2},\"yaxis\":{\"backgroundcolor\":\"#E5ECF6\",\"gridcolor\":\"white\",\"linecolor\":\"white\",\"showbackground\":true,\"ticks\":\"\",\"zerolinecolor\":\"white\",\"gridwidth\":2},\"zaxis\":{\"backgroundcolor\":\"#E5ECF6\",\"gridcolor\":\"white\",\"linecolor\":\"white\",\"showbackground\":true,\"ticks\":\"\",\"zerolinecolor\":\"white\",\"gridwidth\":2}},\"shapedefaults\":{\"line\":{\"color\":\"#2a3f5f\"}},\"annotationdefaults\":{\"arrowcolor\":\"#2a3f5f\",\"arrowhead\":0,\"arrowwidth\":1},\"geo\":{\"bgcolor\":\"white\",\"landcolor\":\"#E5ECF6\",\"subunitcolor\":\"white\",\"showland\":true,\"showlakes\":true,\"lakecolor\":\"white\"},\"title\":{\"x\":0.05},\"mapbox\":{\"style\":\"light\"}}},\"xaxis\":{\"anchor\":\"y\",\"domain\":[0.0,1.0],\"title\":{\"text\":\"rushing_yards_last\"}},\"yaxis\":{\"anchor\":\"x\",\"domain\":[0.0,1.0],\"title\":{\"text\":\"rushing_yards\"}},\"legend\":{\"tracegroupgap\":0},\"margin\":{\"t\":60}},                        {\"responsive\": true}                    ).then(function(){\n",
       "                            \n",
       "var gd = document.getElementById('a288beb5-3e42-4080-9926-7eea41bb9253');\n",
       "var x = new MutationObserver(function (mutations, observer) {{\n",
       "        var display = window.getComputedStyle(gd).display;\n",
       "        if (!display || display === 'none') {{\n",
       "            console.log([gd, 'removed!']);\n",
       "            Plotly.purge(gd);\n",
       "            observer.disconnect();\n",
       "        }}\n",
       "}});\n",
       "\n",
       "// Listen for the removal of the full notebook cells\n",
       "var notebookContainer = gd.closest('#notebook-container');\n",
       "if (notebookContainer) {{\n",
       "    x.observe(notebookContainer, {childList: true});\n",
       "}}\n",
       "\n",
       "// Listen for the clearing of the current output cell\n",
       "var outputEl = gd.closest('.output');\n",
       "if (outputEl) {{\n",
       "    x.observe(outputEl, {childList: true});\n",
       "}}\n",
       "\n",
       "                        })                };                });            </script>        </div>"
      ]
     },
     "metadata": {},
     "output_type": "display_data"
    }
   ],
   "source": [
    "create_corr_for_fantasy_relevance(\"position == 'RB'\", title=\"fantasy-relevance-unfiltered-rb\")"
   ]
  },
  {
   "cell_type": "code",
   "execution_count": 143,
   "id": "ec1a3997",
   "metadata": {},
   "outputs": [
    {
     "data": {
      "text/html": [
       "<div>\n",
       "<style scoped>\n",
       "    .dataframe tbody tr th:only-of-type {\n",
       "        vertical-align: middle;\n",
       "    }\n",
       "\n",
       "    .dataframe tbody tr th {\n",
       "        vertical-align: top;\n",
       "    }\n",
       "\n",
       "    .dataframe thead th {\n",
       "        text-align: right;\n",
       "    }\n",
       "</style>\n",
       "<table border=\"1\" class=\"dataframe\">\n",
       "  <thead>\n",
       "    <tr style=\"text-align: right;\">\n",
       "      <th></th>\n",
       "      <th>successful_plays</th>\n",
       "      <th>successful_plays_last</th>\n",
       "    </tr>\n",
       "  </thead>\n",
       "  <tbody>\n",
       "    <tr>\n",
       "      <th>successful_plays</th>\n",
       "      <td>1.000000</td>\n",
       "      <td>0.652068</td>\n",
       "    </tr>\n",
       "    <tr>\n",
       "      <th>successful_plays_last</th>\n",
       "      <td>0.652068</td>\n",
       "      <td>1.000000</td>\n",
       "    </tr>\n",
       "  </tbody>\n",
       "</table>\n",
       "</div>"
      ],
      "text/plain": [
       "                       successful_plays  successful_plays_last\n",
       "successful_plays               1.000000               0.652068\n",
       "successful_plays_last          0.652068               1.000000"
      ]
     },
     "execution_count": 143,
     "metadata": {},
     "output_type": "execute_result"
    }
   ],
   "source": [
    "df.query(\"position == 'RB'\")[[\"successful_plays\", \"successful_plays_last\"]].corr()"
   ]
  },
  {
   "cell_type": "markdown",
   "id": "dbdd88d4",
   "metadata": {},
   "source": [
    "### 100 Carries"
   ]
  },
  {
   "cell_type": "code",
   "execution_count": 144,
   "id": "cf3f9d1f",
   "metadata": {},
   "outputs": [
    {
     "data": {
      "text/plain": [
       "[]"
      ]
     },
     "execution_count": 144,
     "metadata": {},
     "output_type": "execute_result"
    }
   ],
   "source": [
    "sort_corr(df.query(\"position == 'RB' and carries > 100 and carries_last > 100\"))"
   ]
  },
  {
   "cell_type": "code",
   "execution_count": 145,
   "id": "6c05b65c",
   "metadata": {},
   "outputs": [
    {
     "data": {
      "text/html": [
       "<div>\n",
       "<style scoped>\n",
       "    .dataframe tbody tr th:only-of-type {\n",
       "        vertical-align: middle;\n",
       "    }\n",
       "\n",
       "    .dataframe tbody tr th {\n",
       "        vertical-align: top;\n",
       "    }\n",
       "\n",
       "    .dataframe thead th {\n",
       "        text-align: right;\n",
       "    }\n",
       "</style>\n",
       "<table border=\"1\" class=\"dataframe\">\n",
       "  <thead>\n",
       "    <tr style=\"text-align: right;\">\n",
       "      <th></th>\n",
       "      <th>successful_plays</th>\n",
       "      <th>successful_plays_last</th>\n",
       "    </tr>\n",
       "  </thead>\n",
       "  <tbody>\n",
       "    <tr>\n",
       "      <th>successful_plays</th>\n",
       "      <td>1.000000</td>\n",
       "      <td>0.314945</td>\n",
       "    </tr>\n",
       "    <tr>\n",
       "      <th>successful_plays_last</th>\n",
       "      <td>0.314945</td>\n",
       "      <td>1.000000</td>\n",
       "    </tr>\n",
       "  </tbody>\n",
       "</table>\n",
       "</div>"
      ],
      "text/plain": [
       "                       successful_plays  successful_plays_last\n",
       "successful_plays               1.000000               0.314945\n",
       "successful_plays_last          0.314945               1.000000"
      ]
     },
     "execution_count": 145,
     "metadata": {},
     "output_type": "execute_result"
    }
   ],
   "source": [
    "df.query(\"position == 'RB' and carries > 100 and carries_last > 100\")[[\"successful_plays\", \"successful_plays_last\"]].corr()"
   ]
  },
  {
   "cell_type": "code",
   "execution_count": 146,
   "id": "e4499a7a",
   "metadata": {},
   "outputs": [
    {
     "data": {
      "application/vnd.plotly.v1+json": {
       "config": {
        "plotlyServerURL": "https://plot.ly"
       },
       "data": [
        {
         "coloraxis": "coloraxis",
         "hovertemplate": "Current Season Stats: %{x}<br>Previous Season Stats: %{y}<br>color: %{z}<extra></extra>",
         "name": "0",
         "texttemplate": "%{z}",
         "type": "heatmap",
         "x": [],
         "xaxis": "x",
         "y": [
          "fantasy_points",
          "fantasy_points_last"
         ],
         "yaxis": "y",
         "z": [
          [],
          []
         ]
        }
       ],
       "layout": {
        "coloraxis": {
         "colorscale": [
          [
           0,
           "#0d0887"
          ],
          [
           0.1111111111111111,
           "#46039f"
          ],
          [
           0.2222222222222222,
           "#7201a8"
          ],
          [
           0.3333333333333333,
           "#9c179e"
          ],
          [
           0.4444444444444444,
           "#bd3786"
          ],
          [
           0.5555555555555556,
           "#d8576b"
          ],
          [
           0.6666666666666666,
           "#ed7953"
          ],
          [
           0.7777777777777778,
           "#fb9f3a"
          ],
          [
           0.8888888888888888,
           "#fdca26"
          ],
          [
           1,
           "#f0f921"
          ]
         ]
        },
        "margin": {
         "t": 60
        },
        "template": {
         "data": {
          "bar": [
           {
            "error_x": {
             "color": "#2a3f5f"
            },
            "error_y": {
             "color": "#2a3f5f"
            },
            "marker": {
             "line": {
              "color": "#E5ECF6",
              "width": 0.5
             },
             "pattern": {
              "fillmode": "overlay",
              "size": 10,
              "solidity": 0.2
             }
            },
            "type": "bar"
           }
          ],
          "barpolar": [
           {
            "marker": {
             "line": {
              "color": "#E5ECF6",
              "width": 0.5
             },
             "pattern": {
              "fillmode": "overlay",
              "size": 10,
              "solidity": 0.2
             }
            },
            "type": "barpolar"
           }
          ],
          "carpet": [
           {
            "aaxis": {
             "endlinecolor": "#2a3f5f",
             "gridcolor": "white",
             "linecolor": "white",
             "minorgridcolor": "white",
             "startlinecolor": "#2a3f5f"
            },
            "baxis": {
             "endlinecolor": "#2a3f5f",
             "gridcolor": "white",
             "linecolor": "white",
             "minorgridcolor": "white",
             "startlinecolor": "#2a3f5f"
            },
            "type": "carpet"
           }
          ],
          "choropleth": [
           {
            "colorbar": {
             "outlinewidth": 0,
             "ticks": ""
            },
            "type": "choropleth"
           }
          ],
          "contour": [
           {
            "colorbar": {
             "outlinewidth": 0,
             "ticks": ""
            },
            "colorscale": [
             [
              0,
              "#0d0887"
             ],
             [
              0.1111111111111111,
              "#46039f"
             ],
             [
              0.2222222222222222,
              "#7201a8"
             ],
             [
              0.3333333333333333,
              "#9c179e"
             ],
             [
              0.4444444444444444,
              "#bd3786"
             ],
             [
              0.5555555555555556,
              "#d8576b"
             ],
             [
              0.6666666666666666,
              "#ed7953"
             ],
             [
              0.7777777777777778,
              "#fb9f3a"
             ],
             [
              0.8888888888888888,
              "#fdca26"
             ],
             [
              1,
              "#f0f921"
             ]
            ],
            "type": "contour"
           }
          ],
          "contourcarpet": [
           {
            "colorbar": {
             "outlinewidth": 0,
             "ticks": ""
            },
            "type": "contourcarpet"
           }
          ],
          "heatmap": [
           {
            "colorbar": {
             "outlinewidth": 0,
             "ticks": ""
            },
            "colorscale": [
             [
              0,
              "#0d0887"
             ],
             [
              0.1111111111111111,
              "#46039f"
             ],
             [
              0.2222222222222222,
              "#7201a8"
             ],
             [
              0.3333333333333333,
              "#9c179e"
             ],
             [
              0.4444444444444444,
              "#bd3786"
             ],
             [
              0.5555555555555556,
              "#d8576b"
             ],
             [
              0.6666666666666666,
              "#ed7953"
             ],
             [
              0.7777777777777778,
              "#fb9f3a"
             ],
             [
              0.8888888888888888,
              "#fdca26"
             ],
             [
              1,
              "#f0f921"
             ]
            ],
            "type": "heatmap"
           }
          ],
          "heatmapgl": [
           {
            "colorbar": {
             "outlinewidth": 0,
             "ticks": ""
            },
            "colorscale": [
             [
              0,
              "#0d0887"
             ],
             [
              0.1111111111111111,
              "#46039f"
             ],
             [
              0.2222222222222222,
              "#7201a8"
             ],
             [
              0.3333333333333333,
              "#9c179e"
             ],
             [
              0.4444444444444444,
              "#bd3786"
             ],
             [
              0.5555555555555556,
              "#d8576b"
             ],
             [
              0.6666666666666666,
              "#ed7953"
             ],
             [
              0.7777777777777778,
              "#fb9f3a"
             ],
             [
              0.8888888888888888,
              "#fdca26"
             ],
             [
              1,
              "#f0f921"
             ]
            ],
            "type": "heatmapgl"
           }
          ],
          "histogram": [
           {
            "marker": {
             "pattern": {
              "fillmode": "overlay",
              "size": 10,
              "solidity": 0.2
             }
            },
            "type": "histogram"
           }
          ],
          "histogram2d": [
           {
            "colorbar": {
             "outlinewidth": 0,
             "ticks": ""
            },
            "colorscale": [
             [
              0,
              "#0d0887"
             ],
             [
              0.1111111111111111,
              "#46039f"
             ],
             [
              0.2222222222222222,
              "#7201a8"
             ],
             [
              0.3333333333333333,
              "#9c179e"
             ],
             [
              0.4444444444444444,
              "#bd3786"
             ],
             [
              0.5555555555555556,
              "#d8576b"
             ],
             [
              0.6666666666666666,
              "#ed7953"
             ],
             [
              0.7777777777777778,
              "#fb9f3a"
             ],
             [
              0.8888888888888888,
              "#fdca26"
             ],
             [
              1,
              "#f0f921"
             ]
            ],
            "type": "histogram2d"
           }
          ],
          "histogram2dcontour": [
           {
            "colorbar": {
             "outlinewidth": 0,
             "ticks": ""
            },
            "colorscale": [
             [
              0,
              "#0d0887"
             ],
             [
              0.1111111111111111,
              "#46039f"
             ],
             [
              0.2222222222222222,
              "#7201a8"
             ],
             [
              0.3333333333333333,
              "#9c179e"
             ],
             [
              0.4444444444444444,
              "#bd3786"
             ],
             [
              0.5555555555555556,
              "#d8576b"
             ],
             [
              0.6666666666666666,
              "#ed7953"
             ],
             [
              0.7777777777777778,
              "#fb9f3a"
             ],
             [
              0.8888888888888888,
              "#fdca26"
             ],
             [
              1,
              "#f0f921"
             ]
            ],
            "type": "histogram2dcontour"
           }
          ],
          "mesh3d": [
           {
            "colorbar": {
             "outlinewidth": 0,
             "ticks": ""
            },
            "type": "mesh3d"
           }
          ],
          "parcoords": [
           {
            "line": {
             "colorbar": {
              "outlinewidth": 0,
              "ticks": ""
             }
            },
            "type": "parcoords"
           }
          ],
          "pie": [
           {
            "automargin": true,
            "type": "pie"
           }
          ],
          "scatter": [
           {
            "fillpattern": {
             "fillmode": "overlay",
             "size": 10,
             "solidity": 0.2
            },
            "type": "scatter"
           }
          ],
          "scatter3d": [
           {
            "line": {
             "colorbar": {
              "outlinewidth": 0,
              "ticks": ""
             }
            },
            "marker": {
             "colorbar": {
              "outlinewidth": 0,
              "ticks": ""
             }
            },
            "type": "scatter3d"
           }
          ],
          "scattercarpet": [
           {
            "marker": {
             "colorbar": {
              "outlinewidth": 0,
              "ticks": ""
             }
            },
            "type": "scattercarpet"
           }
          ],
          "scattergeo": [
           {
            "marker": {
             "colorbar": {
              "outlinewidth": 0,
              "ticks": ""
             }
            },
            "type": "scattergeo"
           }
          ],
          "scattergl": [
           {
            "marker": {
             "colorbar": {
              "outlinewidth": 0,
              "ticks": ""
             }
            },
            "type": "scattergl"
           }
          ],
          "scattermapbox": [
           {
            "marker": {
             "colorbar": {
              "outlinewidth": 0,
              "ticks": ""
             }
            },
            "type": "scattermapbox"
           }
          ],
          "scatterpolar": [
           {
            "marker": {
             "colorbar": {
              "outlinewidth": 0,
              "ticks": ""
             }
            },
            "type": "scatterpolar"
           }
          ],
          "scatterpolargl": [
           {
            "marker": {
             "colorbar": {
              "outlinewidth": 0,
              "ticks": ""
             }
            },
            "type": "scatterpolargl"
           }
          ],
          "scatterternary": [
           {
            "marker": {
             "colorbar": {
              "outlinewidth": 0,
              "ticks": ""
             }
            },
            "type": "scatterternary"
           }
          ],
          "surface": [
           {
            "colorbar": {
             "outlinewidth": 0,
             "ticks": ""
            },
            "colorscale": [
             [
              0,
              "#0d0887"
             ],
             [
              0.1111111111111111,
              "#46039f"
             ],
             [
              0.2222222222222222,
              "#7201a8"
             ],
             [
              0.3333333333333333,
              "#9c179e"
             ],
             [
              0.4444444444444444,
              "#bd3786"
             ],
             [
              0.5555555555555556,
              "#d8576b"
             ],
             [
              0.6666666666666666,
              "#ed7953"
             ],
             [
              0.7777777777777778,
              "#fb9f3a"
             ],
             [
              0.8888888888888888,
              "#fdca26"
             ],
             [
              1,
              "#f0f921"
             ]
            ],
            "type": "surface"
           }
          ],
          "table": [
           {
            "cells": {
             "fill": {
              "color": "#EBF0F8"
             },
             "line": {
              "color": "white"
             }
            },
            "header": {
             "fill": {
              "color": "#C8D4E3"
             },
             "line": {
              "color": "white"
             }
            },
            "type": "table"
           }
          ]
         },
         "layout": {
          "annotationdefaults": {
           "arrowcolor": "#2a3f5f",
           "arrowhead": 0,
           "arrowwidth": 1
          },
          "autotypenumbers": "strict",
          "coloraxis": {
           "colorbar": {
            "outlinewidth": 0,
            "ticks": ""
           }
          },
          "colorscale": {
           "diverging": [
            [
             0,
             "#8e0152"
            ],
            [
             0.1,
             "#c51b7d"
            ],
            [
             0.2,
             "#de77ae"
            ],
            [
             0.3,
             "#f1b6da"
            ],
            [
             0.4,
             "#fde0ef"
            ],
            [
             0.5,
             "#f7f7f7"
            ],
            [
             0.6,
             "#e6f5d0"
            ],
            [
             0.7,
             "#b8e186"
            ],
            [
             0.8,
             "#7fbc41"
            ],
            [
             0.9,
             "#4d9221"
            ],
            [
             1,
             "#276419"
            ]
           ],
           "sequential": [
            [
             0,
             "#0d0887"
            ],
            [
             0.1111111111111111,
             "#46039f"
            ],
            [
             0.2222222222222222,
             "#7201a8"
            ],
            [
             0.3333333333333333,
             "#9c179e"
            ],
            [
             0.4444444444444444,
             "#bd3786"
            ],
            [
             0.5555555555555556,
             "#d8576b"
            ],
            [
             0.6666666666666666,
             "#ed7953"
            ],
            [
             0.7777777777777778,
             "#fb9f3a"
            ],
            [
             0.8888888888888888,
             "#fdca26"
            ],
            [
             1,
             "#f0f921"
            ]
           ],
           "sequentialminus": [
            [
             0,
             "#0d0887"
            ],
            [
             0.1111111111111111,
             "#46039f"
            ],
            [
             0.2222222222222222,
             "#7201a8"
            ],
            [
             0.3333333333333333,
             "#9c179e"
            ],
            [
             0.4444444444444444,
             "#bd3786"
            ],
            [
             0.5555555555555556,
             "#d8576b"
            ],
            [
             0.6666666666666666,
             "#ed7953"
            ],
            [
             0.7777777777777778,
             "#fb9f3a"
            ],
            [
             0.8888888888888888,
             "#fdca26"
            ],
            [
             1,
             "#f0f921"
            ]
           ]
          },
          "colorway": [
           "#636efa",
           "#EF553B",
           "#00cc96",
           "#ab63fa",
           "#FFA15A",
           "#19d3f3",
           "#FF6692",
           "#B6E880",
           "#FF97FF",
           "#FECB52"
          ],
          "font": {
           "color": "#2a3f5f"
          },
          "geo": {
           "bgcolor": "white",
           "lakecolor": "white",
           "landcolor": "#E5ECF6",
           "showlakes": true,
           "showland": true,
           "subunitcolor": "white"
          },
          "hoverlabel": {
           "align": "left"
          },
          "hovermode": "closest",
          "mapbox": {
           "style": "light"
          },
          "paper_bgcolor": "white",
          "plot_bgcolor": "#E5ECF6",
          "polar": {
           "angularaxis": {
            "gridcolor": "white",
            "linecolor": "white",
            "ticks": ""
           },
           "bgcolor": "#E5ECF6",
           "radialaxis": {
            "gridcolor": "white",
            "linecolor": "white",
            "ticks": ""
           }
          },
          "scene": {
           "xaxis": {
            "backgroundcolor": "#E5ECF6",
            "gridcolor": "white",
            "gridwidth": 2,
            "linecolor": "white",
            "showbackground": true,
            "ticks": "",
            "zerolinecolor": "white"
           },
           "yaxis": {
            "backgroundcolor": "#E5ECF6",
            "gridcolor": "white",
            "gridwidth": 2,
            "linecolor": "white",
            "showbackground": true,
            "ticks": "",
            "zerolinecolor": "white"
           },
           "zaxis": {
            "backgroundcolor": "#E5ECF6",
            "gridcolor": "white",
            "gridwidth": 2,
            "linecolor": "white",
            "showbackground": true,
            "ticks": "",
            "zerolinecolor": "white"
           }
          },
          "shapedefaults": {
           "line": {
            "color": "#2a3f5f"
           }
          },
          "ternary": {
           "aaxis": {
            "gridcolor": "white",
            "linecolor": "white",
            "ticks": ""
           },
           "baxis": {
            "gridcolor": "white",
            "linecolor": "white",
            "ticks": ""
           },
           "bgcolor": "#E5ECF6",
           "caxis": {
            "gridcolor": "white",
            "linecolor": "white",
            "ticks": ""
           }
          },
          "title": {
           "x": 0.05
          },
          "xaxis": {
           "automargin": true,
           "gridcolor": "white",
           "linecolor": "white",
           "ticks": "",
           "title": {
            "standoff": 15
           },
           "zerolinecolor": "white",
           "zerolinewidth": 2
          },
          "yaxis": {
           "automargin": true,
           "gridcolor": "white",
           "linecolor": "white",
           "ticks": "",
           "title": {
            "standoff": 15
           },
           "zerolinecolor": "white",
           "zerolinewidth": 2
          }
         }
        },
        "xaxis": {
         "anchor": "y",
         "constrain": "domain",
         "domain": [
          0,
          1
         ],
         "scaleanchor": "y",
         "title": {
          "text": "Current Season Stats"
         }
        },
        "yaxis": {
         "anchor": "x",
         "autorange": "reversed",
         "constrain": "domain",
         "domain": [
          0,
          1
         ],
         "title": {
          "text": "Previous Season Stats"
         }
        }
       }
      },
      "text/html": [
       "<div>                            <div id=\"ca33904d-c2d9-4c90-b703-d51464445b60\" class=\"plotly-graph-div\" style=\"height:525px; width:100%;\"></div>            <script type=\"text/javascript\">                require([\"plotly\"], function(Plotly) {                    window.PLOTLYENV=window.PLOTLYENV || {};                                    if (document.getElementById(\"ca33904d-c2d9-4c90-b703-d51464445b60\")) {                    Plotly.newPlot(                        \"ca33904d-c2d9-4c90-b703-d51464445b60\",                        [{\"coloraxis\":\"coloraxis\",\"name\":\"0\",\"texttemplate\":\"%{z}\",\"x\":[],\"y\":[\"fantasy_points\",\"fantasy_points_last\"],\"z\":[[],[]],\"type\":\"heatmap\",\"xaxis\":\"x\",\"yaxis\":\"y\",\"hovertemplate\":\"Current Season Stats: %{x}\\u003cbr\\u003ePrevious Season Stats: %{y}\\u003cbr\\u003ecolor: %{z}\\u003cextra\\u003e\\u003c\\u002fextra\\u003e\"}],                        {\"template\":{\"data\":{\"histogram2dcontour\":[{\"type\":\"histogram2dcontour\",\"colorbar\":{\"outlinewidth\":0,\"ticks\":\"\"},\"colorscale\":[[0.0,\"#0d0887\"],[0.1111111111111111,\"#46039f\"],[0.2222222222222222,\"#7201a8\"],[0.3333333333333333,\"#9c179e\"],[0.4444444444444444,\"#bd3786\"],[0.5555555555555556,\"#d8576b\"],[0.6666666666666666,\"#ed7953\"],[0.7777777777777778,\"#fb9f3a\"],[0.8888888888888888,\"#fdca26\"],[1.0,\"#f0f921\"]]}],\"choropleth\":[{\"type\":\"choropleth\",\"colorbar\":{\"outlinewidth\":0,\"ticks\":\"\"}}],\"histogram2d\":[{\"type\":\"histogram2d\",\"colorbar\":{\"outlinewidth\":0,\"ticks\":\"\"},\"colorscale\":[[0.0,\"#0d0887\"],[0.1111111111111111,\"#46039f\"],[0.2222222222222222,\"#7201a8\"],[0.3333333333333333,\"#9c179e\"],[0.4444444444444444,\"#bd3786\"],[0.5555555555555556,\"#d8576b\"],[0.6666666666666666,\"#ed7953\"],[0.7777777777777778,\"#fb9f3a\"],[0.8888888888888888,\"#fdca26\"],[1.0,\"#f0f921\"]]}],\"heatmap\":[{\"type\":\"heatmap\",\"colorbar\":{\"outlinewidth\":0,\"ticks\":\"\"},\"colorscale\":[[0.0,\"#0d0887\"],[0.1111111111111111,\"#46039f\"],[0.2222222222222222,\"#7201a8\"],[0.3333333333333333,\"#9c179e\"],[0.4444444444444444,\"#bd3786\"],[0.5555555555555556,\"#d8576b\"],[0.6666666666666666,\"#ed7953\"],[0.7777777777777778,\"#fb9f3a\"],[0.8888888888888888,\"#fdca26\"],[1.0,\"#f0f921\"]]}],\"heatmapgl\":[{\"type\":\"heatmapgl\",\"colorbar\":{\"outlinewidth\":0,\"ticks\":\"\"},\"colorscale\":[[0.0,\"#0d0887\"],[0.1111111111111111,\"#46039f\"],[0.2222222222222222,\"#7201a8\"],[0.3333333333333333,\"#9c179e\"],[0.4444444444444444,\"#bd3786\"],[0.5555555555555556,\"#d8576b\"],[0.6666666666666666,\"#ed7953\"],[0.7777777777777778,\"#fb9f3a\"],[0.8888888888888888,\"#fdca26\"],[1.0,\"#f0f921\"]]}],\"contourcarpet\":[{\"type\":\"contourcarpet\",\"colorbar\":{\"outlinewidth\":0,\"ticks\":\"\"}}],\"contour\":[{\"type\":\"contour\",\"colorbar\":{\"outlinewidth\":0,\"ticks\":\"\"},\"colorscale\":[[0.0,\"#0d0887\"],[0.1111111111111111,\"#46039f\"],[0.2222222222222222,\"#7201a8\"],[0.3333333333333333,\"#9c179e\"],[0.4444444444444444,\"#bd3786\"],[0.5555555555555556,\"#d8576b\"],[0.6666666666666666,\"#ed7953\"],[0.7777777777777778,\"#fb9f3a\"],[0.8888888888888888,\"#fdca26\"],[1.0,\"#f0f921\"]]}],\"surface\":[{\"type\":\"surface\",\"colorbar\":{\"outlinewidth\":0,\"ticks\":\"\"},\"colorscale\":[[0.0,\"#0d0887\"],[0.1111111111111111,\"#46039f\"],[0.2222222222222222,\"#7201a8\"],[0.3333333333333333,\"#9c179e\"],[0.4444444444444444,\"#bd3786\"],[0.5555555555555556,\"#d8576b\"],[0.6666666666666666,\"#ed7953\"],[0.7777777777777778,\"#fb9f3a\"],[0.8888888888888888,\"#fdca26\"],[1.0,\"#f0f921\"]]}],\"mesh3d\":[{\"type\":\"mesh3d\",\"colorbar\":{\"outlinewidth\":0,\"ticks\":\"\"}}],\"scatter\":[{\"fillpattern\":{\"fillmode\":\"overlay\",\"size\":10,\"solidity\":0.2},\"type\":\"scatter\"}],\"parcoords\":[{\"type\":\"parcoords\",\"line\":{\"colorbar\":{\"outlinewidth\":0,\"ticks\":\"\"}}}],\"scatterpolargl\":[{\"type\":\"scatterpolargl\",\"marker\":{\"colorbar\":{\"outlinewidth\":0,\"ticks\":\"\"}}}],\"bar\":[{\"error_x\":{\"color\":\"#2a3f5f\"},\"error_y\":{\"color\":\"#2a3f5f\"},\"marker\":{\"line\":{\"color\":\"#E5ECF6\",\"width\":0.5},\"pattern\":{\"fillmode\":\"overlay\",\"size\":10,\"solidity\":0.2}},\"type\":\"bar\"}],\"scattergeo\":[{\"type\":\"scattergeo\",\"marker\":{\"colorbar\":{\"outlinewidth\":0,\"ticks\":\"\"}}}],\"scatterpolar\":[{\"type\":\"scatterpolar\",\"marker\":{\"colorbar\":{\"outlinewidth\":0,\"ticks\":\"\"}}}],\"histogram\":[{\"marker\":{\"pattern\":{\"fillmode\":\"overlay\",\"size\":10,\"solidity\":0.2}},\"type\":\"histogram\"}],\"scattergl\":[{\"type\":\"scattergl\",\"marker\":{\"colorbar\":{\"outlinewidth\":0,\"ticks\":\"\"}}}],\"scatter3d\":[{\"type\":\"scatter3d\",\"line\":{\"colorbar\":{\"outlinewidth\":0,\"ticks\":\"\"}},\"marker\":{\"colorbar\":{\"outlinewidth\":0,\"ticks\":\"\"}}}],\"scattermapbox\":[{\"type\":\"scattermapbox\",\"marker\":{\"colorbar\":{\"outlinewidth\":0,\"ticks\":\"\"}}}],\"scatterternary\":[{\"type\":\"scatterternary\",\"marker\":{\"colorbar\":{\"outlinewidth\":0,\"ticks\":\"\"}}}],\"scattercarpet\":[{\"type\":\"scattercarpet\",\"marker\":{\"colorbar\":{\"outlinewidth\":0,\"ticks\":\"\"}}}],\"carpet\":[{\"aaxis\":{\"endlinecolor\":\"#2a3f5f\",\"gridcolor\":\"white\",\"linecolor\":\"white\",\"minorgridcolor\":\"white\",\"startlinecolor\":\"#2a3f5f\"},\"baxis\":{\"endlinecolor\":\"#2a3f5f\",\"gridcolor\":\"white\",\"linecolor\":\"white\",\"minorgridcolor\":\"white\",\"startlinecolor\":\"#2a3f5f\"},\"type\":\"carpet\"}],\"table\":[{\"cells\":{\"fill\":{\"color\":\"#EBF0F8\"},\"line\":{\"color\":\"white\"}},\"header\":{\"fill\":{\"color\":\"#C8D4E3\"},\"line\":{\"color\":\"white\"}},\"type\":\"table\"}],\"barpolar\":[{\"marker\":{\"line\":{\"color\":\"#E5ECF6\",\"width\":0.5},\"pattern\":{\"fillmode\":\"overlay\",\"size\":10,\"solidity\":0.2}},\"type\":\"barpolar\"}],\"pie\":[{\"automargin\":true,\"type\":\"pie\"}]},\"layout\":{\"autotypenumbers\":\"strict\",\"colorway\":[\"#636efa\",\"#EF553B\",\"#00cc96\",\"#ab63fa\",\"#FFA15A\",\"#19d3f3\",\"#FF6692\",\"#B6E880\",\"#FF97FF\",\"#FECB52\"],\"font\":{\"color\":\"#2a3f5f\"},\"hovermode\":\"closest\",\"hoverlabel\":{\"align\":\"left\"},\"paper_bgcolor\":\"white\",\"plot_bgcolor\":\"#E5ECF6\",\"polar\":{\"bgcolor\":\"#E5ECF6\",\"angularaxis\":{\"gridcolor\":\"white\",\"linecolor\":\"white\",\"ticks\":\"\"},\"radialaxis\":{\"gridcolor\":\"white\",\"linecolor\":\"white\",\"ticks\":\"\"}},\"ternary\":{\"bgcolor\":\"#E5ECF6\",\"aaxis\":{\"gridcolor\":\"white\",\"linecolor\":\"white\",\"ticks\":\"\"},\"baxis\":{\"gridcolor\":\"white\",\"linecolor\":\"white\",\"ticks\":\"\"},\"caxis\":{\"gridcolor\":\"white\",\"linecolor\":\"white\",\"ticks\":\"\"}},\"coloraxis\":{\"colorbar\":{\"outlinewidth\":0,\"ticks\":\"\"}},\"colorscale\":{\"sequential\":[[0.0,\"#0d0887\"],[0.1111111111111111,\"#46039f\"],[0.2222222222222222,\"#7201a8\"],[0.3333333333333333,\"#9c179e\"],[0.4444444444444444,\"#bd3786\"],[0.5555555555555556,\"#d8576b\"],[0.6666666666666666,\"#ed7953\"],[0.7777777777777778,\"#fb9f3a\"],[0.8888888888888888,\"#fdca26\"],[1.0,\"#f0f921\"]],\"sequentialminus\":[[0.0,\"#0d0887\"],[0.1111111111111111,\"#46039f\"],[0.2222222222222222,\"#7201a8\"],[0.3333333333333333,\"#9c179e\"],[0.4444444444444444,\"#bd3786\"],[0.5555555555555556,\"#d8576b\"],[0.6666666666666666,\"#ed7953\"],[0.7777777777777778,\"#fb9f3a\"],[0.8888888888888888,\"#fdca26\"],[1.0,\"#f0f921\"]],\"diverging\":[[0,\"#8e0152\"],[0.1,\"#c51b7d\"],[0.2,\"#de77ae\"],[0.3,\"#f1b6da\"],[0.4,\"#fde0ef\"],[0.5,\"#f7f7f7\"],[0.6,\"#e6f5d0\"],[0.7,\"#b8e186\"],[0.8,\"#7fbc41\"],[0.9,\"#4d9221\"],[1,\"#276419\"]]},\"xaxis\":{\"gridcolor\":\"white\",\"linecolor\":\"white\",\"ticks\":\"\",\"title\":{\"standoff\":15},\"zerolinecolor\":\"white\",\"automargin\":true,\"zerolinewidth\":2},\"yaxis\":{\"gridcolor\":\"white\",\"linecolor\":\"white\",\"ticks\":\"\",\"title\":{\"standoff\":15},\"zerolinecolor\":\"white\",\"automargin\":true,\"zerolinewidth\":2},\"scene\":{\"xaxis\":{\"backgroundcolor\":\"#E5ECF6\",\"gridcolor\":\"white\",\"linecolor\":\"white\",\"showbackground\":true,\"ticks\":\"\",\"zerolinecolor\":\"white\",\"gridwidth\":2},\"yaxis\":{\"backgroundcolor\":\"#E5ECF6\",\"gridcolor\":\"white\",\"linecolor\":\"white\",\"showbackground\":true,\"ticks\":\"\",\"zerolinecolor\":\"white\",\"gridwidth\":2},\"zaxis\":{\"backgroundcolor\":\"#E5ECF6\",\"gridcolor\":\"white\",\"linecolor\":\"white\",\"showbackground\":true,\"ticks\":\"\",\"zerolinecolor\":\"white\",\"gridwidth\":2}},\"shapedefaults\":{\"line\":{\"color\":\"#2a3f5f\"}},\"annotationdefaults\":{\"arrowcolor\":\"#2a3f5f\",\"arrowhead\":0,\"arrowwidth\":1},\"geo\":{\"bgcolor\":\"white\",\"landcolor\":\"#E5ECF6\",\"subunitcolor\":\"white\",\"showland\":true,\"showlakes\":true,\"lakecolor\":\"white\"},\"title\":{\"x\":0.05},\"mapbox\":{\"style\":\"light\"}}},\"xaxis\":{\"anchor\":\"y\",\"domain\":[0.0,1.0],\"scaleanchor\":\"y\",\"constrain\":\"domain\",\"title\":{\"text\":\"Current Season Stats\"}},\"yaxis\":{\"anchor\":\"x\",\"domain\":[0.0,1.0],\"autorange\":\"reversed\",\"constrain\":\"domain\",\"title\":{\"text\":\"Previous Season Stats\"}},\"coloraxis\":{\"colorscale\":[[0.0,\"#0d0887\"],[0.1111111111111111,\"#46039f\"],[0.2222222222222222,\"#7201a8\"],[0.3333333333333333,\"#9c179e\"],[0.4444444444444444,\"#bd3786\"],[0.5555555555555556,\"#d8576b\"],[0.6666666666666666,\"#ed7953\"],[0.7777777777777778,\"#fb9f3a\"],[0.8888888888888888,\"#fdca26\"],[1.0,\"#f0f921\"]]},\"margin\":{\"t\":60}},                        {\"responsive\": true}                    ).then(function(){\n",
       "                            \n",
       "var gd = document.getElementById('ca33904d-c2d9-4c90-b703-d51464445b60');\n",
       "var x = new MutationObserver(function (mutations, observer) {{\n",
       "        var display = window.getComputedStyle(gd).display;\n",
       "        if (!display || display === 'none') {{\n",
       "            console.log([gd, 'removed!']);\n",
       "            Plotly.purge(gd);\n",
       "            observer.disconnect();\n",
       "        }}\n",
       "}});\n",
       "\n",
       "// Listen for the removal of the full notebook cells\n",
       "var notebookContainer = gd.closest('#notebook-container');\n",
       "if (notebookContainer) {{\n",
       "    x.observe(notebookContainer, {childList: true});\n",
       "}}\n",
       "\n",
       "// Listen for the clearing of the current output cell\n",
       "var outputEl = gd.closest('.output');\n",
       "if (outputEl) {{\n",
       "    x.observe(outputEl, {childList: true});\n",
       "}}\n",
       "\n",
       "                        })                };                });            </script>        </div>"
      ]
     },
     "metadata": {},
     "output_type": "display_data"
    },
    {
     "ename": "ValueError",
     "evalue": "nan is not in list",
     "output_type": "error",
     "traceback": [
      "\u001b[0;31m---------------------------------------------------------------------------\u001b[0m",
      "\u001b[0;31mValueError\u001b[0m                                Traceback (most recent call last)",
      "\u001b[0;32m/var/folders/yx/gjm2fjs56vl5kkwrb6xf5d2h0000gn/T/ipykernel_79973/10582454.py\u001b[0m in \u001b[0;36m<module>\u001b[0;34m\u001b[0m\n\u001b[1;32m      1\u001b[0m \u001b[0mquery\u001b[0m \u001b[0;34m=\u001b[0m \u001b[0;34m\"position == 'RB' and carries > 100 and carries_last > 100\"\u001b[0m\u001b[0;34m\u001b[0m\u001b[0;34m\u001b[0m\u001b[0m\n\u001b[0;32m----> 2\u001b[0;31m \u001b[0mcreate_corr_for_fantasy_relevance\u001b[0m\u001b[0;34m(\u001b[0m\u001b[0mquery\u001b[0m\u001b[0;34m=\u001b[0m\u001b[0mquery\u001b[0m\u001b[0;34m,\u001b[0m \u001b[0mtitle\u001b[0m\u001b[0;34m=\u001b[0m\u001b[0;34m\"fantasy-relevance-unfiltered-rb-100\"\u001b[0m\u001b[0;34m)\u001b[0m\u001b[0;34m\u001b[0m\u001b[0;34m\u001b[0m\u001b[0m\n\u001b[0m",
      "\u001b[0;32m/var/folders/yx/gjm2fjs56vl5kkwrb6xf5d2h0000gn/T/ipykernel_79973/1851430649.py\u001b[0m in \u001b[0;36mcreate_corr_for_fantasy_relevance\u001b[0;34m(query, title)\u001b[0m\n\u001b[1;32m      9\u001b[0m     ))\n\u001b[1;32m     10\u001b[0m     \u001b[0my\u001b[0m \u001b[0;34m=\u001b[0m \u001b[0;34m[\u001b[0m\u001b[0;34m'fantasy_points'\u001b[0m\u001b[0;34m,\u001b[0m \u001b[0;34m'fantasy_points_last'\u001b[0m\u001b[0;34m]\u001b[0m\u001b[0;34m\u001b[0m\u001b[0;34m\u001b[0m\u001b[0m\n\u001b[0;32m---> 11\u001b[0;31m     \u001b[0mfilter_df\u001b[0m\u001b[0;34m(\u001b[0m\u001b[0mnew_df\u001b[0m\u001b[0;34m,\u001b[0m \u001b[0;34m\"\"\u001b[0m\u001b[0;34m,\u001b[0m \u001b[0mx\u001b[0m\u001b[0;34m,\u001b[0m \u001b[0my\u001b[0m\u001b[0;34m,\u001b[0m \u001b[0mbase_path\u001b[0m\u001b[0;34m=\u001b[0m\u001b[0mbase_path\u001b[0m\u001b[0;34m,\u001b[0m \u001b[0mtitle\u001b[0m\u001b[0;34m=\u001b[0m\u001b[0mtitle\u001b[0m\u001b[0;34m)\u001b[0m\u001b[0;34m\u001b[0m\u001b[0;34m\u001b[0m\u001b[0m\n\u001b[0m",
      "\u001b[0;32m~/Documents/Projects/Fantasy/Analysis/nfldataexploration/helpers.py\u001b[0m in \u001b[0;36mfilter_df\u001b[0;34m(df, query, x, y, base_path, title)\u001b[0m\n\u001b[1;32m     22\u001b[0m \u001b[0;34m\u001b[0m\u001b[0m\n\u001b[1;32m     23\u001b[0m     \u001b[0mmax_series_value\u001b[0m \u001b[0;34m=\u001b[0m \u001b[0mseries\u001b[0m\u001b[0;34m.\u001b[0m\u001b[0mmax\u001b[0m\u001b[0;34m(\u001b[0m\u001b[0;34m)\u001b[0m\u001b[0;34m\u001b[0m\u001b[0;34m\u001b[0m\u001b[0m\n\u001b[0;32m---> 24\u001b[0;31m     \u001b[0mi\u001b[0m \u001b[0;34m=\u001b[0m \u001b[0mtemp_arr\u001b[0m\u001b[0;34m.\u001b[0m\u001b[0mindex\u001b[0m\u001b[0;34m(\u001b[0m\u001b[0mmax_series_value\u001b[0m\u001b[0;34m)\u001b[0m\u001b[0;34m\u001b[0m\u001b[0;34m\u001b[0m\u001b[0m\n\u001b[0m\u001b[1;32m     25\u001b[0m     \u001b[0mcol\u001b[0m \u001b[0;34m=\u001b[0m \u001b[0mlist\u001b[0m\u001b[0;34m(\u001b[0m\u001b[0mcorr_mat\u001b[0m\u001b[0;34m.\u001b[0m\u001b[0mcolumns\u001b[0m\u001b[0;34m)\u001b[0m\u001b[0;34m[\u001b[0m\u001b[0mi\u001b[0m\u001b[0;34m]\u001b[0m\u001b[0;34m\u001b[0m\u001b[0;34m\u001b[0m\u001b[0m\n\u001b[1;32m     26\u001b[0m     \u001b[0mprint\u001b[0m\u001b[0;34m(\u001b[0m\u001b[0mcol\u001b[0m\u001b[0;34m)\u001b[0m\u001b[0;34m\u001b[0m\u001b[0;34m\u001b[0m\u001b[0m\n",
      "\u001b[0;31mValueError\u001b[0m: nan is not in list"
     ]
    }
   ],
   "source": [
    "query = \"position == 'RB' and carries > 100 and carries_last > 100\"\n",
    "create_corr_for_fantasy_relevance(query=query, title=\"fantasy-relevance-unfiltered-rb-100\")"
   ]
  },
  {
   "cell_type": "markdown",
   "id": "0bca33bd",
   "metadata": {},
   "source": [
    "### 200 Carries"
   ]
  },
  {
   "cell_type": "code",
   "execution_count": 147,
   "id": "ce3beec5",
   "metadata": {},
   "outputs": [
    {
     "data": {
      "text/plain": [
       "[]"
      ]
     },
     "execution_count": 147,
     "metadata": {},
     "output_type": "execute_result"
    }
   ],
   "source": [
    "sort_corr(df.query(\"position == 'RB' and carries > 200 and carries_last > 200\"))"
   ]
  },
  {
   "cell_type": "code",
   "execution_count": 148,
   "id": "8064f8eb",
   "metadata": {},
   "outputs": [
    {
     "data": {
      "text/html": [
       "<div>\n",
       "<style scoped>\n",
       "    .dataframe tbody tr th:only-of-type {\n",
       "        vertical-align: middle;\n",
       "    }\n",
       "\n",
       "    .dataframe tbody tr th {\n",
       "        vertical-align: top;\n",
       "    }\n",
       "\n",
       "    .dataframe thead th {\n",
       "        text-align: right;\n",
       "    }\n",
       "</style>\n",
       "<table border=\"1\" class=\"dataframe\">\n",
       "  <thead>\n",
       "    <tr style=\"text-align: right;\">\n",
       "      <th></th>\n",
       "      <th>successful_plays</th>\n",
       "      <th>successful_plays_last</th>\n",
       "    </tr>\n",
       "  </thead>\n",
       "  <tbody>\n",
       "    <tr>\n",
       "      <th>successful_plays</th>\n",
       "      <td>1.000000</td>\n",
       "      <td>0.176429</td>\n",
       "    </tr>\n",
       "    <tr>\n",
       "      <th>successful_plays_last</th>\n",
       "      <td>0.176429</td>\n",
       "      <td>1.000000</td>\n",
       "    </tr>\n",
       "  </tbody>\n",
       "</table>\n",
       "</div>"
      ],
      "text/plain": [
       "                       successful_plays  successful_plays_last\n",
       "successful_plays               1.000000               0.176429\n",
       "successful_plays_last          0.176429               1.000000"
      ]
     },
     "execution_count": 148,
     "metadata": {},
     "output_type": "execute_result"
    }
   ],
   "source": [
    "df.query(\"position == 'RB' and \\\n",
    "carries > 200 and carries_last > 200\")[[\"successful_plays\", \"successful_plays_last\"]].corr()"
   ]
  },
  {
   "cell_type": "code",
   "execution_count": 150,
   "id": "c7851176",
   "metadata": {},
   "outputs": [
    {
     "data": {
      "application/vnd.plotly.v1+json": {
       "config": {
        "plotlyServerURL": "https://plot.ly"
       },
       "data": [
        {
         "coloraxis": "coloraxis",
         "hovertemplate": "Current Season Stats: %{x}<br>Previous Season Stats: %{y}<br>color: %{z}<extra></extra>",
         "name": "0",
         "texttemplate": "%{z}",
         "type": "heatmap",
         "x": [],
         "xaxis": "x",
         "y": [
          "fantasy_points",
          "fantasy_points_last"
         ],
         "yaxis": "y",
         "z": [
          [],
          []
         ]
        }
       ],
       "layout": {
        "coloraxis": {
         "colorscale": [
          [
           0,
           "#0d0887"
          ],
          [
           0.1111111111111111,
           "#46039f"
          ],
          [
           0.2222222222222222,
           "#7201a8"
          ],
          [
           0.3333333333333333,
           "#9c179e"
          ],
          [
           0.4444444444444444,
           "#bd3786"
          ],
          [
           0.5555555555555556,
           "#d8576b"
          ],
          [
           0.6666666666666666,
           "#ed7953"
          ],
          [
           0.7777777777777778,
           "#fb9f3a"
          ],
          [
           0.8888888888888888,
           "#fdca26"
          ],
          [
           1,
           "#f0f921"
          ]
         ]
        },
        "margin": {
         "t": 60
        },
        "template": {
         "data": {
          "bar": [
           {
            "error_x": {
             "color": "#2a3f5f"
            },
            "error_y": {
             "color": "#2a3f5f"
            },
            "marker": {
             "line": {
              "color": "#E5ECF6",
              "width": 0.5
             },
             "pattern": {
              "fillmode": "overlay",
              "size": 10,
              "solidity": 0.2
             }
            },
            "type": "bar"
           }
          ],
          "barpolar": [
           {
            "marker": {
             "line": {
              "color": "#E5ECF6",
              "width": 0.5
             },
             "pattern": {
              "fillmode": "overlay",
              "size": 10,
              "solidity": 0.2
             }
            },
            "type": "barpolar"
           }
          ],
          "carpet": [
           {
            "aaxis": {
             "endlinecolor": "#2a3f5f",
             "gridcolor": "white",
             "linecolor": "white",
             "minorgridcolor": "white",
             "startlinecolor": "#2a3f5f"
            },
            "baxis": {
             "endlinecolor": "#2a3f5f",
             "gridcolor": "white",
             "linecolor": "white",
             "minorgridcolor": "white",
             "startlinecolor": "#2a3f5f"
            },
            "type": "carpet"
           }
          ],
          "choropleth": [
           {
            "colorbar": {
             "outlinewidth": 0,
             "ticks": ""
            },
            "type": "choropleth"
           }
          ],
          "contour": [
           {
            "colorbar": {
             "outlinewidth": 0,
             "ticks": ""
            },
            "colorscale": [
             [
              0,
              "#0d0887"
             ],
             [
              0.1111111111111111,
              "#46039f"
             ],
             [
              0.2222222222222222,
              "#7201a8"
             ],
             [
              0.3333333333333333,
              "#9c179e"
             ],
             [
              0.4444444444444444,
              "#bd3786"
             ],
             [
              0.5555555555555556,
              "#d8576b"
             ],
             [
              0.6666666666666666,
              "#ed7953"
             ],
             [
              0.7777777777777778,
              "#fb9f3a"
             ],
             [
              0.8888888888888888,
              "#fdca26"
             ],
             [
              1,
              "#f0f921"
             ]
            ],
            "type": "contour"
           }
          ],
          "contourcarpet": [
           {
            "colorbar": {
             "outlinewidth": 0,
             "ticks": ""
            },
            "type": "contourcarpet"
           }
          ],
          "heatmap": [
           {
            "colorbar": {
             "outlinewidth": 0,
             "ticks": ""
            },
            "colorscale": [
             [
              0,
              "#0d0887"
             ],
             [
              0.1111111111111111,
              "#46039f"
             ],
             [
              0.2222222222222222,
              "#7201a8"
             ],
             [
              0.3333333333333333,
              "#9c179e"
             ],
             [
              0.4444444444444444,
              "#bd3786"
             ],
             [
              0.5555555555555556,
              "#d8576b"
             ],
             [
              0.6666666666666666,
              "#ed7953"
             ],
             [
              0.7777777777777778,
              "#fb9f3a"
             ],
             [
              0.8888888888888888,
              "#fdca26"
             ],
             [
              1,
              "#f0f921"
             ]
            ],
            "type": "heatmap"
           }
          ],
          "heatmapgl": [
           {
            "colorbar": {
             "outlinewidth": 0,
             "ticks": ""
            },
            "colorscale": [
             [
              0,
              "#0d0887"
             ],
             [
              0.1111111111111111,
              "#46039f"
             ],
             [
              0.2222222222222222,
              "#7201a8"
             ],
             [
              0.3333333333333333,
              "#9c179e"
             ],
             [
              0.4444444444444444,
              "#bd3786"
             ],
             [
              0.5555555555555556,
              "#d8576b"
             ],
             [
              0.6666666666666666,
              "#ed7953"
             ],
             [
              0.7777777777777778,
              "#fb9f3a"
             ],
             [
              0.8888888888888888,
              "#fdca26"
             ],
             [
              1,
              "#f0f921"
             ]
            ],
            "type": "heatmapgl"
           }
          ],
          "histogram": [
           {
            "marker": {
             "pattern": {
              "fillmode": "overlay",
              "size": 10,
              "solidity": 0.2
             }
            },
            "type": "histogram"
           }
          ],
          "histogram2d": [
           {
            "colorbar": {
             "outlinewidth": 0,
             "ticks": ""
            },
            "colorscale": [
             [
              0,
              "#0d0887"
             ],
             [
              0.1111111111111111,
              "#46039f"
             ],
             [
              0.2222222222222222,
              "#7201a8"
             ],
             [
              0.3333333333333333,
              "#9c179e"
             ],
             [
              0.4444444444444444,
              "#bd3786"
             ],
             [
              0.5555555555555556,
              "#d8576b"
             ],
             [
              0.6666666666666666,
              "#ed7953"
             ],
             [
              0.7777777777777778,
              "#fb9f3a"
             ],
             [
              0.8888888888888888,
              "#fdca26"
             ],
             [
              1,
              "#f0f921"
             ]
            ],
            "type": "histogram2d"
           }
          ],
          "histogram2dcontour": [
           {
            "colorbar": {
             "outlinewidth": 0,
             "ticks": ""
            },
            "colorscale": [
             [
              0,
              "#0d0887"
             ],
             [
              0.1111111111111111,
              "#46039f"
             ],
             [
              0.2222222222222222,
              "#7201a8"
             ],
             [
              0.3333333333333333,
              "#9c179e"
             ],
             [
              0.4444444444444444,
              "#bd3786"
             ],
             [
              0.5555555555555556,
              "#d8576b"
             ],
             [
              0.6666666666666666,
              "#ed7953"
             ],
             [
              0.7777777777777778,
              "#fb9f3a"
             ],
             [
              0.8888888888888888,
              "#fdca26"
             ],
             [
              1,
              "#f0f921"
             ]
            ],
            "type": "histogram2dcontour"
           }
          ],
          "mesh3d": [
           {
            "colorbar": {
             "outlinewidth": 0,
             "ticks": ""
            },
            "type": "mesh3d"
           }
          ],
          "parcoords": [
           {
            "line": {
             "colorbar": {
              "outlinewidth": 0,
              "ticks": ""
             }
            },
            "type": "parcoords"
           }
          ],
          "pie": [
           {
            "automargin": true,
            "type": "pie"
           }
          ],
          "scatter": [
           {
            "fillpattern": {
             "fillmode": "overlay",
             "size": 10,
             "solidity": 0.2
            },
            "type": "scatter"
           }
          ],
          "scatter3d": [
           {
            "line": {
             "colorbar": {
              "outlinewidth": 0,
              "ticks": ""
             }
            },
            "marker": {
             "colorbar": {
              "outlinewidth": 0,
              "ticks": ""
             }
            },
            "type": "scatter3d"
           }
          ],
          "scattercarpet": [
           {
            "marker": {
             "colorbar": {
              "outlinewidth": 0,
              "ticks": ""
             }
            },
            "type": "scattercarpet"
           }
          ],
          "scattergeo": [
           {
            "marker": {
             "colorbar": {
              "outlinewidth": 0,
              "ticks": ""
             }
            },
            "type": "scattergeo"
           }
          ],
          "scattergl": [
           {
            "marker": {
             "colorbar": {
              "outlinewidth": 0,
              "ticks": ""
             }
            },
            "type": "scattergl"
           }
          ],
          "scattermapbox": [
           {
            "marker": {
             "colorbar": {
              "outlinewidth": 0,
              "ticks": ""
             }
            },
            "type": "scattermapbox"
           }
          ],
          "scatterpolar": [
           {
            "marker": {
             "colorbar": {
              "outlinewidth": 0,
              "ticks": ""
             }
            },
            "type": "scatterpolar"
           }
          ],
          "scatterpolargl": [
           {
            "marker": {
             "colorbar": {
              "outlinewidth": 0,
              "ticks": ""
             }
            },
            "type": "scatterpolargl"
           }
          ],
          "scatterternary": [
           {
            "marker": {
             "colorbar": {
              "outlinewidth": 0,
              "ticks": ""
             }
            },
            "type": "scatterternary"
           }
          ],
          "surface": [
           {
            "colorbar": {
             "outlinewidth": 0,
             "ticks": ""
            },
            "colorscale": [
             [
              0,
              "#0d0887"
             ],
             [
              0.1111111111111111,
              "#46039f"
             ],
             [
              0.2222222222222222,
              "#7201a8"
             ],
             [
              0.3333333333333333,
              "#9c179e"
             ],
             [
              0.4444444444444444,
              "#bd3786"
             ],
             [
              0.5555555555555556,
              "#d8576b"
             ],
             [
              0.6666666666666666,
              "#ed7953"
             ],
             [
              0.7777777777777778,
              "#fb9f3a"
             ],
             [
              0.8888888888888888,
              "#fdca26"
             ],
             [
              1,
              "#f0f921"
             ]
            ],
            "type": "surface"
           }
          ],
          "table": [
           {
            "cells": {
             "fill": {
              "color": "#EBF0F8"
             },
             "line": {
              "color": "white"
             }
            },
            "header": {
             "fill": {
              "color": "#C8D4E3"
             },
             "line": {
              "color": "white"
             }
            },
            "type": "table"
           }
          ]
         },
         "layout": {
          "annotationdefaults": {
           "arrowcolor": "#2a3f5f",
           "arrowhead": 0,
           "arrowwidth": 1
          },
          "autotypenumbers": "strict",
          "coloraxis": {
           "colorbar": {
            "outlinewidth": 0,
            "ticks": ""
           }
          },
          "colorscale": {
           "diverging": [
            [
             0,
             "#8e0152"
            ],
            [
             0.1,
             "#c51b7d"
            ],
            [
             0.2,
             "#de77ae"
            ],
            [
             0.3,
             "#f1b6da"
            ],
            [
             0.4,
             "#fde0ef"
            ],
            [
             0.5,
             "#f7f7f7"
            ],
            [
             0.6,
             "#e6f5d0"
            ],
            [
             0.7,
             "#b8e186"
            ],
            [
             0.8,
             "#7fbc41"
            ],
            [
             0.9,
             "#4d9221"
            ],
            [
             1,
             "#276419"
            ]
           ],
           "sequential": [
            [
             0,
             "#0d0887"
            ],
            [
             0.1111111111111111,
             "#46039f"
            ],
            [
             0.2222222222222222,
             "#7201a8"
            ],
            [
             0.3333333333333333,
             "#9c179e"
            ],
            [
             0.4444444444444444,
             "#bd3786"
            ],
            [
             0.5555555555555556,
             "#d8576b"
            ],
            [
             0.6666666666666666,
             "#ed7953"
            ],
            [
             0.7777777777777778,
             "#fb9f3a"
            ],
            [
             0.8888888888888888,
             "#fdca26"
            ],
            [
             1,
             "#f0f921"
            ]
           ],
           "sequentialminus": [
            [
             0,
             "#0d0887"
            ],
            [
             0.1111111111111111,
             "#46039f"
            ],
            [
             0.2222222222222222,
             "#7201a8"
            ],
            [
             0.3333333333333333,
             "#9c179e"
            ],
            [
             0.4444444444444444,
             "#bd3786"
            ],
            [
             0.5555555555555556,
             "#d8576b"
            ],
            [
             0.6666666666666666,
             "#ed7953"
            ],
            [
             0.7777777777777778,
             "#fb9f3a"
            ],
            [
             0.8888888888888888,
             "#fdca26"
            ],
            [
             1,
             "#f0f921"
            ]
           ]
          },
          "colorway": [
           "#636efa",
           "#EF553B",
           "#00cc96",
           "#ab63fa",
           "#FFA15A",
           "#19d3f3",
           "#FF6692",
           "#B6E880",
           "#FF97FF",
           "#FECB52"
          ],
          "font": {
           "color": "#2a3f5f"
          },
          "geo": {
           "bgcolor": "white",
           "lakecolor": "white",
           "landcolor": "#E5ECF6",
           "showlakes": true,
           "showland": true,
           "subunitcolor": "white"
          },
          "hoverlabel": {
           "align": "left"
          },
          "hovermode": "closest",
          "mapbox": {
           "style": "light"
          },
          "paper_bgcolor": "white",
          "plot_bgcolor": "#E5ECF6",
          "polar": {
           "angularaxis": {
            "gridcolor": "white",
            "linecolor": "white",
            "ticks": ""
           },
           "bgcolor": "#E5ECF6",
           "radialaxis": {
            "gridcolor": "white",
            "linecolor": "white",
            "ticks": ""
           }
          },
          "scene": {
           "xaxis": {
            "backgroundcolor": "#E5ECF6",
            "gridcolor": "white",
            "gridwidth": 2,
            "linecolor": "white",
            "showbackground": true,
            "ticks": "",
            "zerolinecolor": "white"
           },
           "yaxis": {
            "backgroundcolor": "#E5ECF6",
            "gridcolor": "white",
            "gridwidth": 2,
            "linecolor": "white",
            "showbackground": true,
            "ticks": "",
            "zerolinecolor": "white"
           },
           "zaxis": {
            "backgroundcolor": "#E5ECF6",
            "gridcolor": "white",
            "gridwidth": 2,
            "linecolor": "white",
            "showbackground": true,
            "ticks": "",
            "zerolinecolor": "white"
           }
          },
          "shapedefaults": {
           "line": {
            "color": "#2a3f5f"
           }
          },
          "ternary": {
           "aaxis": {
            "gridcolor": "white",
            "linecolor": "white",
            "ticks": ""
           },
           "baxis": {
            "gridcolor": "white",
            "linecolor": "white",
            "ticks": ""
           },
           "bgcolor": "#E5ECF6",
           "caxis": {
            "gridcolor": "white",
            "linecolor": "white",
            "ticks": ""
           }
          },
          "title": {
           "x": 0.05
          },
          "xaxis": {
           "automargin": true,
           "gridcolor": "white",
           "linecolor": "white",
           "ticks": "",
           "title": {
            "standoff": 15
           },
           "zerolinecolor": "white",
           "zerolinewidth": 2
          },
          "yaxis": {
           "automargin": true,
           "gridcolor": "white",
           "linecolor": "white",
           "ticks": "",
           "title": {
            "standoff": 15
           },
           "zerolinecolor": "white",
           "zerolinewidth": 2
          }
         }
        },
        "xaxis": {
         "anchor": "y",
         "constrain": "domain",
         "domain": [
          0,
          1
         ],
         "scaleanchor": "y",
         "title": {
          "text": "Current Season Stats"
         }
        },
        "yaxis": {
         "anchor": "x",
         "autorange": "reversed",
         "constrain": "domain",
         "domain": [
          0,
          1
         ],
         "title": {
          "text": "Previous Season Stats"
         }
        }
       }
      },
      "text/html": [
       "<div>                            <div id=\"4c970a6e-c452-498a-90fa-e17e803ba59c\" class=\"plotly-graph-div\" style=\"height:525px; width:100%;\"></div>            <script type=\"text/javascript\">                require([\"plotly\"], function(Plotly) {                    window.PLOTLYENV=window.PLOTLYENV || {};                                    if (document.getElementById(\"4c970a6e-c452-498a-90fa-e17e803ba59c\")) {                    Plotly.newPlot(                        \"4c970a6e-c452-498a-90fa-e17e803ba59c\",                        [{\"coloraxis\":\"coloraxis\",\"name\":\"0\",\"texttemplate\":\"%{z}\",\"x\":[],\"y\":[\"fantasy_points\",\"fantasy_points_last\"],\"z\":[[],[]],\"type\":\"heatmap\",\"xaxis\":\"x\",\"yaxis\":\"y\",\"hovertemplate\":\"Current Season Stats: %{x}\\u003cbr\\u003ePrevious Season Stats: %{y}\\u003cbr\\u003ecolor: %{z}\\u003cextra\\u003e\\u003c\\u002fextra\\u003e\"}],                        {\"template\":{\"data\":{\"histogram2dcontour\":[{\"type\":\"histogram2dcontour\",\"colorbar\":{\"outlinewidth\":0,\"ticks\":\"\"},\"colorscale\":[[0.0,\"#0d0887\"],[0.1111111111111111,\"#46039f\"],[0.2222222222222222,\"#7201a8\"],[0.3333333333333333,\"#9c179e\"],[0.4444444444444444,\"#bd3786\"],[0.5555555555555556,\"#d8576b\"],[0.6666666666666666,\"#ed7953\"],[0.7777777777777778,\"#fb9f3a\"],[0.8888888888888888,\"#fdca26\"],[1.0,\"#f0f921\"]]}],\"choropleth\":[{\"type\":\"choropleth\",\"colorbar\":{\"outlinewidth\":0,\"ticks\":\"\"}}],\"histogram2d\":[{\"type\":\"histogram2d\",\"colorbar\":{\"outlinewidth\":0,\"ticks\":\"\"},\"colorscale\":[[0.0,\"#0d0887\"],[0.1111111111111111,\"#46039f\"],[0.2222222222222222,\"#7201a8\"],[0.3333333333333333,\"#9c179e\"],[0.4444444444444444,\"#bd3786\"],[0.5555555555555556,\"#d8576b\"],[0.6666666666666666,\"#ed7953\"],[0.7777777777777778,\"#fb9f3a\"],[0.8888888888888888,\"#fdca26\"],[1.0,\"#f0f921\"]]}],\"heatmap\":[{\"type\":\"heatmap\",\"colorbar\":{\"outlinewidth\":0,\"ticks\":\"\"},\"colorscale\":[[0.0,\"#0d0887\"],[0.1111111111111111,\"#46039f\"],[0.2222222222222222,\"#7201a8\"],[0.3333333333333333,\"#9c179e\"],[0.4444444444444444,\"#bd3786\"],[0.5555555555555556,\"#d8576b\"],[0.6666666666666666,\"#ed7953\"],[0.7777777777777778,\"#fb9f3a\"],[0.8888888888888888,\"#fdca26\"],[1.0,\"#f0f921\"]]}],\"heatmapgl\":[{\"type\":\"heatmapgl\",\"colorbar\":{\"outlinewidth\":0,\"ticks\":\"\"},\"colorscale\":[[0.0,\"#0d0887\"],[0.1111111111111111,\"#46039f\"],[0.2222222222222222,\"#7201a8\"],[0.3333333333333333,\"#9c179e\"],[0.4444444444444444,\"#bd3786\"],[0.5555555555555556,\"#d8576b\"],[0.6666666666666666,\"#ed7953\"],[0.7777777777777778,\"#fb9f3a\"],[0.8888888888888888,\"#fdca26\"],[1.0,\"#f0f921\"]]}],\"contourcarpet\":[{\"type\":\"contourcarpet\",\"colorbar\":{\"outlinewidth\":0,\"ticks\":\"\"}}],\"contour\":[{\"type\":\"contour\",\"colorbar\":{\"outlinewidth\":0,\"ticks\":\"\"},\"colorscale\":[[0.0,\"#0d0887\"],[0.1111111111111111,\"#46039f\"],[0.2222222222222222,\"#7201a8\"],[0.3333333333333333,\"#9c179e\"],[0.4444444444444444,\"#bd3786\"],[0.5555555555555556,\"#d8576b\"],[0.6666666666666666,\"#ed7953\"],[0.7777777777777778,\"#fb9f3a\"],[0.8888888888888888,\"#fdca26\"],[1.0,\"#f0f921\"]]}],\"surface\":[{\"type\":\"surface\",\"colorbar\":{\"outlinewidth\":0,\"ticks\":\"\"},\"colorscale\":[[0.0,\"#0d0887\"],[0.1111111111111111,\"#46039f\"],[0.2222222222222222,\"#7201a8\"],[0.3333333333333333,\"#9c179e\"],[0.4444444444444444,\"#bd3786\"],[0.5555555555555556,\"#d8576b\"],[0.6666666666666666,\"#ed7953\"],[0.7777777777777778,\"#fb9f3a\"],[0.8888888888888888,\"#fdca26\"],[1.0,\"#f0f921\"]]}],\"mesh3d\":[{\"type\":\"mesh3d\",\"colorbar\":{\"outlinewidth\":0,\"ticks\":\"\"}}],\"scatter\":[{\"fillpattern\":{\"fillmode\":\"overlay\",\"size\":10,\"solidity\":0.2},\"type\":\"scatter\"}],\"parcoords\":[{\"type\":\"parcoords\",\"line\":{\"colorbar\":{\"outlinewidth\":0,\"ticks\":\"\"}}}],\"scatterpolargl\":[{\"type\":\"scatterpolargl\",\"marker\":{\"colorbar\":{\"outlinewidth\":0,\"ticks\":\"\"}}}],\"bar\":[{\"error_x\":{\"color\":\"#2a3f5f\"},\"error_y\":{\"color\":\"#2a3f5f\"},\"marker\":{\"line\":{\"color\":\"#E5ECF6\",\"width\":0.5},\"pattern\":{\"fillmode\":\"overlay\",\"size\":10,\"solidity\":0.2}},\"type\":\"bar\"}],\"scattergeo\":[{\"type\":\"scattergeo\",\"marker\":{\"colorbar\":{\"outlinewidth\":0,\"ticks\":\"\"}}}],\"scatterpolar\":[{\"type\":\"scatterpolar\",\"marker\":{\"colorbar\":{\"outlinewidth\":0,\"ticks\":\"\"}}}],\"histogram\":[{\"marker\":{\"pattern\":{\"fillmode\":\"overlay\",\"size\":10,\"solidity\":0.2}},\"type\":\"histogram\"}],\"scattergl\":[{\"type\":\"scattergl\",\"marker\":{\"colorbar\":{\"outlinewidth\":0,\"ticks\":\"\"}}}],\"scatter3d\":[{\"type\":\"scatter3d\",\"line\":{\"colorbar\":{\"outlinewidth\":0,\"ticks\":\"\"}},\"marker\":{\"colorbar\":{\"outlinewidth\":0,\"ticks\":\"\"}}}],\"scattermapbox\":[{\"type\":\"scattermapbox\",\"marker\":{\"colorbar\":{\"outlinewidth\":0,\"ticks\":\"\"}}}],\"scatterternary\":[{\"type\":\"scatterternary\",\"marker\":{\"colorbar\":{\"outlinewidth\":0,\"ticks\":\"\"}}}],\"scattercarpet\":[{\"type\":\"scattercarpet\",\"marker\":{\"colorbar\":{\"outlinewidth\":0,\"ticks\":\"\"}}}],\"carpet\":[{\"aaxis\":{\"endlinecolor\":\"#2a3f5f\",\"gridcolor\":\"white\",\"linecolor\":\"white\",\"minorgridcolor\":\"white\",\"startlinecolor\":\"#2a3f5f\"},\"baxis\":{\"endlinecolor\":\"#2a3f5f\",\"gridcolor\":\"white\",\"linecolor\":\"white\",\"minorgridcolor\":\"white\",\"startlinecolor\":\"#2a3f5f\"},\"type\":\"carpet\"}],\"table\":[{\"cells\":{\"fill\":{\"color\":\"#EBF0F8\"},\"line\":{\"color\":\"white\"}},\"header\":{\"fill\":{\"color\":\"#C8D4E3\"},\"line\":{\"color\":\"white\"}},\"type\":\"table\"}],\"barpolar\":[{\"marker\":{\"line\":{\"color\":\"#E5ECF6\",\"width\":0.5},\"pattern\":{\"fillmode\":\"overlay\",\"size\":10,\"solidity\":0.2}},\"type\":\"barpolar\"}],\"pie\":[{\"automargin\":true,\"type\":\"pie\"}]},\"layout\":{\"autotypenumbers\":\"strict\",\"colorway\":[\"#636efa\",\"#EF553B\",\"#00cc96\",\"#ab63fa\",\"#FFA15A\",\"#19d3f3\",\"#FF6692\",\"#B6E880\",\"#FF97FF\",\"#FECB52\"],\"font\":{\"color\":\"#2a3f5f\"},\"hovermode\":\"closest\",\"hoverlabel\":{\"align\":\"left\"},\"paper_bgcolor\":\"white\",\"plot_bgcolor\":\"#E5ECF6\",\"polar\":{\"bgcolor\":\"#E5ECF6\",\"angularaxis\":{\"gridcolor\":\"white\",\"linecolor\":\"white\",\"ticks\":\"\"},\"radialaxis\":{\"gridcolor\":\"white\",\"linecolor\":\"white\",\"ticks\":\"\"}},\"ternary\":{\"bgcolor\":\"#E5ECF6\",\"aaxis\":{\"gridcolor\":\"white\",\"linecolor\":\"white\",\"ticks\":\"\"},\"baxis\":{\"gridcolor\":\"white\",\"linecolor\":\"white\",\"ticks\":\"\"},\"caxis\":{\"gridcolor\":\"white\",\"linecolor\":\"white\",\"ticks\":\"\"}},\"coloraxis\":{\"colorbar\":{\"outlinewidth\":0,\"ticks\":\"\"}},\"colorscale\":{\"sequential\":[[0.0,\"#0d0887\"],[0.1111111111111111,\"#46039f\"],[0.2222222222222222,\"#7201a8\"],[0.3333333333333333,\"#9c179e\"],[0.4444444444444444,\"#bd3786\"],[0.5555555555555556,\"#d8576b\"],[0.6666666666666666,\"#ed7953\"],[0.7777777777777778,\"#fb9f3a\"],[0.8888888888888888,\"#fdca26\"],[1.0,\"#f0f921\"]],\"sequentialminus\":[[0.0,\"#0d0887\"],[0.1111111111111111,\"#46039f\"],[0.2222222222222222,\"#7201a8\"],[0.3333333333333333,\"#9c179e\"],[0.4444444444444444,\"#bd3786\"],[0.5555555555555556,\"#d8576b\"],[0.6666666666666666,\"#ed7953\"],[0.7777777777777778,\"#fb9f3a\"],[0.8888888888888888,\"#fdca26\"],[1.0,\"#f0f921\"]],\"diverging\":[[0,\"#8e0152\"],[0.1,\"#c51b7d\"],[0.2,\"#de77ae\"],[0.3,\"#f1b6da\"],[0.4,\"#fde0ef\"],[0.5,\"#f7f7f7\"],[0.6,\"#e6f5d0\"],[0.7,\"#b8e186\"],[0.8,\"#7fbc41\"],[0.9,\"#4d9221\"],[1,\"#276419\"]]},\"xaxis\":{\"gridcolor\":\"white\",\"linecolor\":\"white\",\"ticks\":\"\",\"title\":{\"standoff\":15},\"zerolinecolor\":\"white\",\"automargin\":true,\"zerolinewidth\":2},\"yaxis\":{\"gridcolor\":\"white\",\"linecolor\":\"white\",\"ticks\":\"\",\"title\":{\"standoff\":15},\"zerolinecolor\":\"white\",\"automargin\":true,\"zerolinewidth\":2},\"scene\":{\"xaxis\":{\"backgroundcolor\":\"#E5ECF6\",\"gridcolor\":\"white\",\"linecolor\":\"white\",\"showbackground\":true,\"ticks\":\"\",\"zerolinecolor\":\"white\",\"gridwidth\":2},\"yaxis\":{\"backgroundcolor\":\"#E5ECF6\",\"gridcolor\":\"white\",\"linecolor\":\"white\",\"showbackground\":true,\"ticks\":\"\",\"zerolinecolor\":\"white\",\"gridwidth\":2},\"zaxis\":{\"backgroundcolor\":\"#E5ECF6\",\"gridcolor\":\"white\",\"linecolor\":\"white\",\"showbackground\":true,\"ticks\":\"\",\"zerolinecolor\":\"white\",\"gridwidth\":2}},\"shapedefaults\":{\"line\":{\"color\":\"#2a3f5f\"}},\"annotationdefaults\":{\"arrowcolor\":\"#2a3f5f\",\"arrowhead\":0,\"arrowwidth\":1},\"geo\":{\"bgcolor\":\"white\",\"landcolor\":\"#E5ECF6\",\"subunitcolor\":\"white\",\"showland\":true,\"showlakes\":true,\"lakecolor\":\"white\"},\"title\":{\"x\":0.05},\"mapbox\":{\"style\":\"light\"}}},\"xaxis\":{\"anchor\":\"y\",\"domain\":[0.0,1.0],\"scaleanchor\":\"y\",\"constrain\":\"domain\",\"title\":{\"text\":\"Current Season Stats\"}},\"yaxis\":{\"anchor\":\"x\",\"domain\":[0.0,1.0],\"autorange\":\"reversed\",\"constrain\":\"domain\",\"title\":{\"text\":\"Previous Season Stats\"}},\"coloraxis\":{\"colorscale\":[[0.0,\"#0d0887\"],[0.1111111111111111,\"#46039f\"],[0.2222222222222222,\"#7201a8\"],[0.3333333333333333,\"#9c179e\"],[0.4444444444444444,\"#bd3786\"],[0.5555555555555556,\"#d8576b\"],[0.6666666666666666,\"#ed7953\"],[0.7777777777777778,\"#fb9f3a\"],[0.8888888888888888,\"#fdca26\"],[1.0,\"#f0f921\"]]},\"margin\":{\"t\":60}},                        {\"responsive\": true}                    ).then(function(){\n",
       "                            \n",
       "var gd = document.getElementById('4c970a6e-c452-498a-90fa-e17e803ba59c');\n",
       "var x = new MutationObserver(function (mutations, observer) {{\n",
       "        var display = window.getComputedStyle(gd).display;\n",
       "        if (!display || display === 'none') {{\n",
       "            console.log([gd, 'removed!']);\n",
       "            Plotly.purge(gd);\n",
       "            observer.disconnect();\n",
       "        }}\n",
       "}});\n",
       "\n",
       "// Listen for the removal of the full notebook cells\n",
       "var notebookContainer = gd.closest('#notebook-container');\n",
       "if (notebookContainer) {{\n",
       "    x.observe(notebookContainer, {childList: true});\n",
       "}}\n",
       "\n",
       "// Listen for the clearing of the current output cell\n",
       "var outputEl = gd.closest('.output');\n",
       "if (outputEl) {{\n",
       "    x.observe(outputEl, {childList: true});\n",
       "}}\n",
       "\n",
       "                        })                };                });            </script>        </div>"
      ]
     },
     "metadata": {},
     "output_type": "display_data"
    },
    {
     "ename": "ValueError",
     "evalue": "nan is not in list",
     "output_type": "error",
     "traceback": [
      "\u001b[0;31m---------------------------------------------------------------------------\u001b[0m",
      "\u001b[0;31mValueError\u001b[0m                                Traceback (most recent call last)",
      "\u001b[0;32m/var/folders/yx/gjm2fjs56vl5kkwrb6xf5d2h0000gn/T/ipykernel_79973/3194744529.py\u001b[0m in \u001b[0;36m<module>\u001b[0;34m\u001b[0m\n\u001b[1;32m      1\u001b[0m \u001b[0mquery\u001b[0m \u001b[0;34m=\u001b[0m \u001b[0;34m\"position == 'RB' and carries > 200 and carries_last > 200\"\u001b[0m\u001b[0;34m\u001b[0m\u001b[0;34m\u001b[0m\u001b[0m\n\u001b[0;32m----> 2\u001b[0;31m \u001b[0mcreate_corr_for_fantasy_relevance\u001b[0m\u001b[0;34m(\u001b[0m\u001b[0mquery\u001b[0m\u001b[0;34m=\u001b[0m\u001b[0mquery\u001b[0m\u001b[0;34m,\u001b[0m \u001b[0mtitle\u001b[0m\u001b[0;34m=\u001b[0m\u001b[0;34m\"fantasy-relevance-unfiltered-rb-200\"\u001b[0m\u001b[0;34m)\u001b[0m\u001b[0;34m\u001b[0m\u001b[0;34m\u001b[0m\u001b[0m\n\u001b[0m",
      "\u001b[0;32m/var/folders/yx/gjm2fjs56vl5kkwrb6xf5d2h0000gn/T/ipykernel_79973/1851430649.py\u001b[0m in \u001b[0;36mcreate_corr_for_fantasy_relevance\u001b[0;34m(query, title)\u001b[0m\n\u001b[1;32m      9\u001b[0m     ))\n\u001b[1;32m     10\u001b[0m     \u001b[0my\u001b[0m \u001b[0;34m=\u001b[0m \u001b[0;34m[\u001b[0m\u001b[0;34m'fantasy_points'\u001b[0m\u001b[0;34m,\u001b[0m \u001b[0;34m'fantasy_points_last'\u001b[0m\u001b[0;34m]\u001b[0m\u001b[0;34m\u001b[0m\u001b[0;34m\u001b[0m\u001b[0m\n\u001b[0;32m---> 11\u001b[0;31m     \u001b[0mfilter_df\u001b[0m\u001b[0;34m(\u001b[0m\u001b[0mnew_df\u001b[0m\u001b[0;34m,\u001b[0m \u001b[0;34m\"\"\u001b[0m\u001b[0;34m,\u001b[0m \u001b[0mx\u001b[0m\u001b[0;34m,\u001b[0m \u001b[0my\u001b[0m\u001b[0;34m,\u001b[0m \u001b[0mbase_path\u001b[0m\u001b[0;34m=\u001b[0m\u001b[0mbase_path\u001b[0m\u001b[0;34m,\u001b[0m \u001b[0mtitle\u001b[0m\u001b[0;34m=\u001b[0m\u001b[0mtitle\u001b[0m\u001b[0;34m)\u001b[0m\u001b[0;34m\u001b[0m\u001b[0;34m\u001b[0m\u001b[0m\n\u001b[0m",
      "\u001b[0;32m~/Documents/Projects/Fantasy/Analysis/nfldataexploration/helpers.py\u001b[0m in \u001b[0;36mfilter_df\u001b[0;34m(df, query, x, y, base_path, title)\u001b[0m\n\u001b[1;32m     22\u001b[0m \u001b[0;34m\u001b[0m\u001b[0m\n\u001b[1;32m     23\u001b[0m     \u001b[0mmax_series_value\u001b[0m \u001b[0;34m=\u001b[0m \u001b[0mseries\u001b[0m\u001b[0;34m.\u001b[0m\u001b[0mmax\u001b[0m\u001b[0;34m(\u001b[0m\u001b[0;34m)\u001b[0m\u001b[0;34m\u001b[0m\u001b[0;34m\u001b[0m\u001b[0m\n\u001b[0;32m---> 24\u001b[0;31m     \u001b[0mi\u001b[0m \u001b[0;34m=\u001b[0m \u001b[0mtemp_arr\u001b[0m\u001b[0;34m.\u001b[0m\u001b[0mindex\u001b[0m\u001b[0;34m(\u001b[0m\u001b[0mmax_series_value\u001b[0m\u001b[0;34m)\u001b[0m\u001b[0;34m\u001b[0m\u001b[0;34m\u001b[0m\u001b[0m\n\u001b[0m\u001b[1;32m     25\u001b[0m     \u001b[0mcol\u001b[0m \u001b[0;34m=\u001b[0m \u001b[0mlist\u001b[0m\u001b[0;34m(\u001b[0m\u001b[0mcorr_mat\u001b[0m\u001b[0;34m.\u001b[0m\u001b[0mcolumns\u001b[0m\u001b[0;34m)\u001b[0m\u001b[0;34m[\u001b[0m\u001b[0mi\u001b[0m\u001b[0;34m]\u001b[0m\u001b[0;34m\u001b[0m\u001b[0;34m\u001b[0m\u001b[0m\n\u001b[1;32m     26\u001b[0m     \u001b[0mprint\u001b[0m\u001b[0;34m(\u001b[0m\u001b[0mcol\u001b[0m\u001b[0;34m)\u001b[0m\u001b[0;34m\u001b[0m\u001b[0;34m\u001b[0m\u001b[0m\n",
      "\u001b[0;31mValueError\u001b[0m: nan is not in list"
     ]
    }
   ],
   "source": [
    "query = \"position == 'RB' and carries > 200 and carries_last > 200\"\n",
    "create_corr_for_fantasy_relevance(query=query, title=\"fantasy-relevance-unfiltered-rb-200\")"
   ]
  },
  {
   "cell_type": "markdown",
   "id": "0f28d78d",
   "metadata": {},
   "source": [
    "## QBs"
   ]
  },
  {
   "cell_type": "code",
   "execution_count": 151,
   "id": "a38d16ce",
   "metadata": {},
   "outputs": [
    {
     "data": {
      "text/plain": [
       "['rushing_touchdowns', 'successful_plays', 'carries']"
      ]
     },
     "execution_count": 151,
     "metadata": {},
     "output_type": "execute_result"
    }
   ],
   "source": [
    "sort_corr(df.query(\"position == 'QB'\"))"
   ]
  },
  {
   "cell_type": "code",
   "execution_count": 62,
   "id": "22db4266",
   "metadata": {},
   "outputs": [
    {
     "data": {
      "text/html": [
       "<div>\n",
       "<style scoped>\n",
       "    .dataframe tbody tr th:only-of-type {\n",
       "        vertical-align: middle;\n",
       "    }\n",
       "\n",
       "    .dataframe tbody tr th {\n",
       "        vertical-align: top;\n",
       "    }\n",
       "\n",
       "    .dataframe thead th {\n",
       "        text-align: right;\n",
       "    }\n",
       "</style>\n",
       "<table border=\"1\" class=\"dataframe\">\n",
       "  <thead>\n",
       "    <tr style=\"text-align: right;\">\n",
       "      <th></th>\n",
       "      <th>successful_plays</th>\n",
       "      <th>successful_plays_last</th>\n",
       "    </tr>\n",
       "  </thead>\n",
       "  <tbody>\n",
       "    <tr>\n",
       "      <th>successful_plays</th>\n",
       "      <td>1.000000</td>\n",
       "      <td>0.652673</td>\n",
       "    </tr>\n",
       "    <tr>\n",
       "      <th>successful_plays_last</th>\n",
       "      <td>0.652673</td>\n",
       "      <td>1.000000</td>\n",
       "    </tr>\n",
       "  </tbody>\n",
       "</table>\n",
       "</div>"
      ],
      "text/plain": [
       "                       successful_plays  successful_plays_last\n",
       "successful_plays               1.000000               0.652673\n",
       "successful_plays_last          0.652673               1.000000"
      ]
     },
     "execution_count": 62,
     "metadata": {},
     "output_type": "execute_result"
    }
   ],
   "source": [
    "df.query(\"position == 'QB' and \\\n",
    "carries > 20 and carries_last > 20\")[[\"successful_plays\", \"successful_plays_last\"]].corr()"
   ]
  },
  {
   "cell_type": "code",
   "execution_count": 152,
   "id": "07a1bb91",
   "metadata": {},
   "outputs": [
    {
     "data": {
      "application/vnd.plotly.v1+json": {
       "config": {
        "plotlyServerURL": "https://plot.ly"
       },
       "data": [
        {
         "coloraxis": "coloraxis",
         "hovertemplate": "Current Season Stats: %{x}<br>Previous Season Stats: %{y}<br>color: %{z}<extra></extra>",
         "name": "0",
         "texttemplate": "%{z}",
         "type": "heatmap",
         "x": [
          "successful_plays",
          "rushing_touchdowns",
          "carries",
          "rushing_touchdowns_last"
         ],
         "xaxis": "x",
         "y": [
          "fantasy_points",
          "fantasy_points_last"
         ],
         "yaxis": "y",
         "z": [
          [
           0.41,
           0.41,
           0.42,
           0.32
          ],
          [
           0.22,
           0.2,
           0.24,
           0.4
          ]
         ]
        }
       ],
       "layout": {
        "coloraxis": {
         "colorscale": [
          [
           0,
           "#0d0887"
          ],
          [
           0.1111111111111111,
           "#46039f"
          ],
          [
           0.2222222222222222,
           "#7201a8"
          ],
          [
           0.3333333333333333,
           "#9c179e"
          ],
          [
           0.4444444444444444,
           "#bd3786"
          ],
          [
           0.5555555555555556,
           "#d8576b"
          ],
          [
           0.6666666666666666,
           "#ed7953"
          ],
          [
           0.7777777777777778,
           "#fb9f3a"
          ],
          [
           0.8888888888888888,
           "#fdca26"
          ],
          [
           1,
           "#f0f921"
          ]
         ]
        },
        "margin": {
         "t": 60
        },
        "template": {
         "data": {
          "bar": [
           {
            "error_x": {
             "color": "#2a3f5f"
            },
            "error_y": {
             "color": "#2a3f5f"
            },
            "marker": {
             "line": {
              "color": "#E5ECF6",
              "width": 0.5
             },
             "pattern": {
              "fillmode": "overlay",
              "size": 10,
              "solidity": 0.2
             }
            },
            "type": "bar"
           }
          ],
          "barpolar": [
           {
            "marker": {
             "line": {
              "color": "#E5ECF6",
              "width": 0.5
             },
             "pattern": {
              "fillmode": "overlay",
              "size": 10,
              "solidity": 0.2
             }
            },
            "type": "barpolar"
           }
          ],
          "carpet": [
           {
            "aaxis": {
             "endlinecolor": "#2a3f5f",
             "gridcolor": "white",
             "linecolor": "white",
             "minorgridcolor": "white",
             "startlinecolor": "#2a3f5f"
            },
            "baxis": {
             "endlinecolor": "#2a3f5f",
             "gridcolor": "white",
             "linecolor": "white",
             "minorgridcolor": "white",
             "startlinecolor": "#2a3f5f"
            },
            "type": "carpet"
           }
          ],
          "choropleth": [
           {
            "colorbar": {
             "outlinewidth": 0,
             "ticks": ""
            },
            "type": "choropleth"
           }
          ],
          "contour": [
           {
            "colorbar": {
             "outlinewidth": 0,
             "ticks": ""
            },
            "colorscale": [
             [
              0,
              "#0d0887"
             ],
             [
              0.1111111111111111,
              "#46039f"
             ],
             [
              0.2222222222222222,
              "#7201a8"
             ],
             [
              0.3333333333333333,
              "#9c179e"
             ],
             [
              0.4444444444444444,
              "#bd3786"
             ],
             [
              0.5555555555555556,
              "#d8576b"
             ],
             [
              0.6666666666666666,
              "#ed7953"
             ],
             [
              0.7777777777777778,
              "#fb9f3a"
             ],
             [
              0.8888888888888888,
              "#fdca26"
             ],
             [
              1,
              "#f0f921"
             ]
            ],
            "type": "contour"
           }
          ],
          "contourcarpet": [
           {
            "colorbar": {
             "outlinewidth": 0,
             "ticks": ""
            },
            "type": "contourcarpet"
           }
          ],
          "heatmap": [
           {
            "colorbar": {
             "outlinewidth": 0,
             "ticks": ""
            },
            "colorscale": [
             [
              0,
              "#0d0887"
             ],
             [
              0.1111111111111111,
              "#46039f"
             ],
             [
              0.2222222222222222,
              "#7201a8"
             ],
             [
              0.3333333333333333,
              "#9c179e"
             ],
             [
              0.4444444444444444,
              "#bd3786"
             ],
             [
              0.5555555555555556,
              "#d8576b"
             ],
             [
              0.6666666666666666,
              "#ed7953"
             ],
             [
              0.7777777777777778,
              "#fb9f3a"
             ],
             [
              0.8888888888888888,
              "#fdca26"
             ],
             [
              1,
              "#f0f921"
             ]
            ],
            "type": "heatmap"
           }
          ],
          "heatmapgl": [
           {
            "colorbar": {
             "outlinewidth": 0,
             "ticks": ""
            },
            "colorscale": [
             [
              0,
              "#0d0887"
             ],
             [
              0.1111111111111111,
              "#46039f"
             ],
             [
              0.2222222222222222,
              "#7201a8"
             ],
             [
              0.3333333333333333,
              "#9c179e"
             ],
             [
              0.4444444444444444,
              "#bd3786"
             ],
             [
              0.5555555555555556,
              "#d8576b"
             ],
             [
              0.6666666666666666,
              "#ed7953"
             ],
             [
              0.7777777777777778,
              "#fb9f3a"
             ],
             [
              0.8888888888888888,
              "#fdca26"
             ],
             [
              1,
              "#f0f921"
             ]
            ],
            "type": "heatmapgl"
           }
          ],
          "histogram": [
           {
            "marker": {
             "pattern": {
              "fillmode": "overlay",
              "size": 10,
              "solidity": 0.2
             }
            },
            "type": "histogram"
           }
          ],
          "histogram2d": [
           {
            "colorbar": {
             "outlinewidth": 0,
             "ticks": ""
            },
            "colorscale": [
             [
              0,
              "#0d0887"
             ],
             [
              0.1111111111111111,
              "#46039f"
             ],
             [
              0.2222222222222222,
              "#7201a8"
             ],
             [
              0.3333333333333333,
              "#9c179e"
             ],
             [
              0.4444444444444444,
              "#bd3786"
             ],
             [
              0.5555555555555556,
              "#d8576b"
             ],
             [
              0.6666666666666666,
              "#ed7953"
             ],
             [
              0.7777777777777778,
              "#fb9f3a"
             ],
             [
              0.8888888888888888,
              "#fdca26"
             ],
             [
              1,
              "#f0f921"
             ]
            ],
            "type": "histogram2d"
           }
          ],
          "histogram2dcontour": [
           {
            "colorbar": {
             "outlinewidth": 0,
             "ticks": ""
            },
            "colorscale": [
             [
              0,
              "#0d0887"
             ],
             [
              0.1111111111111111,
              "#46039f"
             ],
             [
              0.2222222222222222,
              "#7201a8"
             ],
             [
              0.3333333333333333,
              "#9c179e"
             ],
             [
              0.4444444444444444,
              "#bd3786"
             ],
             [
              0.5555555555555556,
              "#d8576b"
             ],
             [
              0.6666666666666666,
              "#ed7953"
             ],
             [
              0.7777777777777778,
              "#fb9f3a"
             ],
             [
              0.8888888888888888,
              "#fdca26"
             ],
             [
              1,
              "#f0f921"
             ]
            ],
            "type": "histogram2dcontour"
           }
          ],
          "mesh3d": [
           {
            "colorbar": {
             "outlinewidth": 0,
             "ticks": ""
            },
            "type": "mesh3d"
           }
          ],
          "parcoords": [
           {
            "line": {
             "colorbar": {
              "outlinewidth": 0,
              "ticks": ""
             }
            },
            "type": "parcoords"
           }
          ],
          "pie": [
           {
            "automargin": true,
            "type": "pie"
           }
          ],
          "scatter": [
           {
            "fillpattern": {
             "fillmode": "overlay",
             "size": 10,
             "solidity": 0.2
            },
            "type": "scatter"
           }
          ],
          "scatter3d": [
           {
            "line": {
             "colorbar": {
              "outlinewidth": 0,
              "ticks": ""
             }
            },
            "marker": {
             "colorbar": {
              "outlinewidth": 0,
              "ticks": ""
             }
            },
            "type": "scatter3d"
           }
          ],
          "scattercarpet": [
           {
            "marker": {
             "colorbar": {
              "outlinewidth": 0,
              "ticks": ""
             }
            },
            "type": "scattercarpet"
           }
          ],
          "scattergeo": [
           {
            "marker": {
             "colorbar": {
              "outlinewidth": 0,
              "ticks": ""
             }
            },
            "type": "scattergeo"
           }
          ],
          "scattergl": [
           {
            "marker": {
             "colorbar": {
              "outlinewidth": 0,
              "ticks": ""
             }
            },
            "type": "scattergl"
           }
          ],
          "scattermapbox": [
           {
            "marker": {
             "colorbar": {
              "outlinewidth": 0,
              "ticks": ""
             }
            },
            "type": "scattermapbox"
           }
          ],
          "scatterpolar": [
           {
            "marker": {
             "colorbar": {
              "outlinewidth": 0,
              "ticks": ""
             }
            },
            "type": "scatterpolar"
           }
          ],
          "scatterpolargl": [
           {
            "marker": {
             "colorbar": {
              "outlinewidth": 0,
              "ticks": ""
             }
            },
            "type": "scatterpolargl"
           }
          ],
          "scatterternary": [
           {
            "marker": {
             "colorbar": {
              "outlinewidth": 0,
              "ticks": ""
             }
            },
            "type": "scatterternary"
           }
          ],
          "surface": [
           {
            "colorbar": {
             "outlinewidth": 0,
             "ticks": ""
            },
            "colorscale": [
             [
              0,
              "#0d0887"
             ],
             [
              0.1111111111111111,
              "#46039f"
             ],
             [
              0.2222222222222222,
              "#7201a8"
             ],
             [
              0.3333333333333333,
              "#9c179e"
             ],
             [
              0.4444444444444444,
              "#bd3786"
             ],
             [
              0.5555555555555556,
              "#d8576b"
             ],
             [
              0.6666666666666666,
              "#ed7953"
             ],
             [
              0.7777777777777778,
              "#fb9f3a"
             ],
             [
              0.8888888888888888,
              "#fdca26"
             ],
             [
              1,
              "#f0f921"
             ]
            ],
            "type": "surface"
           }
          ],
          "table": [
           {
            "cells": {
             "fill": {
              "color": "#EBF0F8"
             },
             "line": {
              "color": "white"
             }
            },
            "header": {
             "fill": {
              "color": "#C8D4E3"
             },
             "line": {
              "color": "white"
             }
            },
            "type": "table"
           }
          ]
         },
         "layout": {
          "annotationdefaults": {
           "arrowcolor": "#2a3f5f",
           "arrowhead": 0,
           "arrowwidth": 1
          },
          "autotypenumbers": "strict",
          "coloraxis": {
           "colorbar": {
            "outlinewidth": 0,
            "ticks": ""
           }
          },
          "colorscale": {
           "diverging": [
            [
             0,
             "#8e0152"
            ],
            [
             0.1,
             "#c51b7d"
            ],
            [
             0.2,
             "#de77ae"
            ],
            [
             0.3,
             "#f1b6da"
            ],
            [
             0.4,
             "#fde0ef"
            ],
            [
             0.5,
             "#f7f7f7"
            ],
            [
             0.6,
             "#e6f5d0"
            ],
            [
             0.7,
             "#b8e186"
            ],
            [
             0.8,
             "#7fbc41"
            ],
            [
             0.9,
             "#4d9221"
            ],
            [
             1,
             "#276419"
            ]
           ],
           "sequential": [
            [
             0,
             "#0d0887"
            ],
            [
             0.1111111111111111,
             "#46039f"
            ],
            [
             0.2222222222222222,
             "#7201a8"
            ],
            [
             0.3333333333333333,
             "#9c179e"
            ],
            [
             0.4444444444444444,
             "#bd3786"
            ],
            [
             0.5555555555555556,
             "#d8576b"
            ],
            [
             0.6666666666666666,
             "#ed7953"
            ],
            [
             0.7777777777777778,
             "#fb9f3a"
            ],
            [
             0.8888888888888888,
             "#fdca26"
            ],
            [
             1,
             "#f0f921"
            ]
           ],
           "sequentialminus": [
            [
             0,
             "#0d0887"
            ],
            [
             0.1111111111111111,
             "#46039f"
            ],
            [
             0.2222222222222222,
             "#7201a8"
            ],
            [
             0.3333333333333333,
             "#9c179e"
            ],
            [
             0.4444444444444444,
             "#bd3786"
            ],
            [
             0.5555555555555556,
             "#d8576b"
            ],
            [
             0.6666666666666666,
             "#ed7953"
            ],
            [
             0.7777777777777778,
             "#fb9f3a"
            ],
            [
             0.8888888888888888,
             "#fdca26"
            ],
            [
             1,
             "#f0f921"
            ]
           ]
          },
          "colorway": [
           "#636efa",
           "#EF553B",
           "#00cc96",
           "#ab63fa",
           "#FFA15A",
           "#19d3f3",
           "#FF6692",
           "#B6E880",
           "#FF97FF",
           "#FECB52"
          ],
          "font": {
           "color": "#2a3f5f"
          },
          "geo": {
           "bgcolor": "white",
           "lakecolor": "white",
           "landcolor": "#E5ECF6",
           "showlakes": true,
           "showland": true,
           "subunitcolor": "white"
          },
          "hoverlabel": {
           "align": "left"
          },
          "hovermode": "closest",
          "mapbox": {
           "style": "light"
          },
          "paper_bgcolor": "white",
          "plot_bgcolor": "#E5ECF6",
          "polar": {
           "angularaxis": {
            "gridcolor": "white",
            "linecolor": "white",
            "ticks": ""
           },
           "bgcolor": "#E5ECF6",
           "radialaxis": {
            "gridcolor": "white",
            "linecolor": "white",
            "ticks": ""
           }
          },
          "scene": {
           "xaxis": {
            "backgroundcolor": "#E5ECF6",
            "gridcolor": "white",
            "gridwidth": 2,
            "linecolor": "white",
            "showbackground": true,
            "ticks": "",
            "zerolinecolor": "white"
           },
           "yaxis": {
            "backgroundcolor": "#E5ECF6",
            "gridcolor": "white",
            "gridwidth": 2,
            "linecolor": "white",
            "showbackground": true,
            "ticks": "",
            "zerolinecolor": "white"
           },
           "zaxis": {
            "backgroundcolor": "#E5ECF6",
            "gridcolor": "white",
            "gridwidth": 2,
            "linecolor": "white",
            "showbackground": true,
            "ticks": "",
            "zerolinecolor": "white"
           }
          },
          "shapedefaults": {
           "line": {
            "color": "#2a3f5f"
           }
          },
          "ternary": {
           "aaxis": {
            "gridcolor": "white",
            "linecolor": "white",
            "ticks": ""
           },
           "baxis": {
            "gridcolor": "white",
            "linecolor": "white",
            "ticks": ""
           },
           "bgcolor": "#E5ECF6",
           "caxis": {
            "gridcolor": "white",
            "linecolor": "white",
            "ticks": ""
           }
          },
          "title": {
           "x": 0.05
          },
          "xaxis": {
           "automargin": true,
           "gridcolor": "white",
           "linecolor": "white",
           "ticks": "",
           "title": {
            "standoff": 15
           },
           "zerolinecolor": "white",
           "zerolinewidth": 2
          },
          "yaxis": {
           "automargin": true,
           "gridcolor": "white",
           "linecolor": "white",
           "ticks": "",
           "title": {
            "standoff": 15
           },
           "zerolinecolor": "white",
           "zerolinewidth": 2
          }
         }
        },
        "xaxis": {
         "anchor": "y",
         "constrain": "domain",
         "domain": [
          0,
          1
         ],
         "scaleanchor": "y",
         "title": {
          "text": "Current Season Stats"
         }
        },
        "yaxis": {
         "anchor": "x",
         "autorange": "reversed",
         "constrain": "domain",
         "domain": [
          0,
          1
         ],
         "title": {
          "text": "Previous Season Stats"
         }
        }
       }
      },
      "text/html": [
       "<div>                            <div id=\"d4c33c64-7203-483e-aa13-45ec8a82c7d8\" class=\"plotly-graph-div\" style=\"height:525px; width:100%;\"></div>            <script type=\"text/javascript\">                require([\"plotly\"], function(Plotly) {                    window.PLOTLYENV=window.PLOTLYENV || {};                                    if (document.getElementById(\"d4c33c64-7203-483e-aa13-45ec8a82c7d8\")) {                    Plotly.newPlot(                        \"d4c33c64-7203-483e-aa13-45ec8a82c7d8\",                        [{\"coloraxis\":\"coloraxis\",\"name\":\"0\",\"texttemplate\":\"%{z}\",\"x\":[\"successful_plays\",\"rushing_touchdowns\",\"carries\",\"rushing_touchdowns_last\"],\"y\":[\"fantasy_points\",\"fantasy_points_last\"],\"z\":[[0.41,0.41,0.42,0.32],[0.22,0.2,0.24,0.4]],\"type\":\"heatmap\",\"xaxis\":\"x\",\"yaxis\":\"y\",\"hovertemplate\":\"Current Season Stats: %{x}\\u003cbr\\u003ePrevious Season Stats: %{y}\\u003cbr\\u003ecolor: %{z}\\u003cextra\\u003e\\u003c\\u002fextra\\u003e\"}],                        {\"template\":{\"data\":{\"histogram2dcontour\":[{\"type\":\"histogram2dcontour\",\"colorbar\":{\"outlinewidth\":0,\"ticks\":\"\"},\"colorscale\":[[0.0,\"#0d0887\"],[0.1111111111111111,\"#46039f\"],[0.2222222222222222,\"#7201a8\"],[0.3333333333333333,\"#9c179e\"],[0.4444444444444444,\"#bd3786\"],[0.5555555555555556,\"#d8576b\"],[0.6666666666666666,\"#ed7953\"],[0.7777777777777778,\"#fb9f3a\"],[0.8888888888888888,\"#fdca26\"],[1.0,\"#f0f921\"]]}],\"choropleth\":[{\"type\":\"choropleth\",\"colorbar\":{\"outlinewidth\":0,\"ticks\":\"\"}}],\"histogram2d\":[{\"type\":\"histogram2d\",\"colorbar\":{\"outlinewidth\":0,\"ticks\":\"\"},\"colorscale\":[[0.0,\"#0d0887\"],[0.1111111111111111,\"#46039f\"],[0.2222222222222222,\"#7201a8\"],[0.3333333333333333,\"#9c179e\"],[0.4444444444444444,\"#bd3786\"],[0.5555555555555556,\"#d8576b\"],[0.6666666666666666,\"#ed7953\"],[0.7777777777777778,\"#fb9f3a\"],[0.8888888888888888,\"#fdca26\"],[1.0,\"#f0f921\"]]}],\"heatmap\":[{\"type\":\"heatmap\",\"colorbar\":{\"outlinewidth\":0,\"ticks\":\"\"},\"colorscale\":[[0.0,\"#0d0887\"],[0.1111111111111111,\"#46039f\"],[0.2222222222222222,\"#7201a8\"],[0.3333333333333333,\"#9c179e\"],[0.4444444444444444,\"#bd3786\"],[0.5555555555555556,\"#d8576b\"],[0.6666666666666666,\"#ed7953\"],[0.7777777777777778,\"#fb9f3a\"],[0.8888888888888888,\"#fdca26\"],[1.0,\"#f0f921\"]]}],\"heatmapgl\":[{\"type\":\"heatmapgl\",\"colorbar\":{\"outlinewidth\":0,\"ticks\":\"\"},\"colorscale\":[[0.0,\"#0d0887\"],[0.1111111111111111,\"#46039f\"],[0.2222222222222222,\"#7201a8\"],[0.3333333333333333,\"#9c179e\"],[0.4444444444444444,\"#bd3786\"],[0.5555555555555556,\"#d8576b\"],[0.6666666666666666,\"#ed7953\"],[0.7777777777777778,\"#fb9f3a\"],[0.8888888888888888,\"#fdca26\"],[1.0,\"#f0f921\"]]}],\"contourcarpet\":[{\"type\":\"contourcarpet\",\"colorbar\":{\"outlinewidth\":0,\"ticks\":\"\"}}],\"contour\":[{\"type\":\"contour\",\"colorbar\":{\"outlinewidth\":0,\"ticks\":\"\"},\"colorscale\":[[0.0,\"#0d0887\"],[0.1111111111111111,\"#46039f\"],[0.2222222222222222,\"#7201a8\"],[0.3333333333333333,\"#9c179e\"],[0.4444444444444444,\"#bd3786\"],[0.5555555555555556,\"#d8576b\"],[0.6666666666666666,\"#ed7953\"],[0.7777777777777778,\"#fb9f3a\"],[0.8888888888888888,\"#fdca26\"],[1.0,\"#f0f921\"]]}],\"surface\":[{\"type\":\"surface\",\"colorbar\":{\"outlinewidth\":0,\"ticks\":\"\"},\"colorscale\":[[0.0,\"#0d0887\"],[0.1111111111111111,\"#46039f\"],[0.2222222222222222,\"#7201a8\"],[0.3333333333333333,\"#9c179e\"],[0.4444444444444444,\"#bd3786\"],[0.5555555555555556,\"#d8576b\"],[0.6666666666666666,\"#ed7953\"],[0.7777777777777778,\"#fb9f3a\"],[0.8888888888888888,\"#fdca26\"],[1.0,\"#f0f921\"]]}],\"mesh3d\":[{\"type\":\"mesh3d\",\"colorbar\":{\"outlinewidth\":0,\"ticks\":\"\"}}],\"scatter\":[{\"fillpattern\":{\"fillmode\":\"overlay\",\"size\":10,\"solidity\":0.2},\"type\":\"scatter\"}],\"parcoords\":[{\"type\":\"parcoords\",\"line\":{\"colorbar\":{\"outlinewidth\":0,\"ticks\":\"\"}}}],\"scatterpolargl\":[{\"type\":\"scatterpolargl\",\"marker\":{\"colorbar\":{\"outlinewidth\":0,\"ticks\":\"\"}}}],\"bar\":[{\"error_x\":{\"color\":\"#2a3f5f\"},\"error_y\":{\"color\":\"#2a3f5f\"},\"marker\":{\"line\":{\"color\":\"#E5ECF6\",\"width\":0.5},\"pattern\":{\"fillmode\":\"overlay\",\"size\":10,\"solidity\":0.2}},\"type\":\"bar\"}],\"scattergeo\":[{\"type\":\"scattergeo\",\"marker\":{\"colorbar\":{\"outlinewidth\":0,\"ticks\":\"\"}}}],\"scatterpolar\":[{\"type\":\"scatterpolar\",\"marker\":{\"colorbar\":{\"outlinewidth\":0,\"ticks\":\"\"}}}],\"histogram\":[{\"marker\":{\"pattern\":{\"fillmode\":\"overlay\",\"size\":10,\"solidity\":0.2}},\"type\":\"histogram\"}],\"scattergl\":[{\"type\":\"scattergl\",\"marker\":{\"colorbar\":{\"outlinewidth\":0,\"ticks\":\"\"}}}],\"scatter3d\":[{\"type\":\"scatter3d\",\"line\":{\"colorbar\":{\"outlinewidth\":0,\"ticks\":\"\"}},\"marker\":{\"colorbar\":{\"outlinewidth\":0,\"ticks\":\"\"}}}],\"scattermapbox\":[{\"type\":\"scattermapbox\",\"marker\":{\"colorbar\":{\"outlinewidth\":0,\"ticks\":\"\"}}}],\"scatterternary\":[{\"type\":\"scatterternary\",\"marker\":{\"colorbar\":{\"outlinewidth\":0,\"ticks\":\"\"}}}],\"scattercarpet\":[{\"type\":\"scattercarpet\",\"marker\":{\"colorbar\":{\"outlinewidth\":0,\"ticks\":\"\"}}}],\"carpet\":[{\"aaxis\":{\"endlinecolor\":\"#2a3f5f\",\"gridcolor\":\"white\",\"linecolor\":\"white\",\"minorgridcolor\":\"white\",\"startlinecolor\":\"#2a3f5f\"},\"baxis\":{\"endlinecolor\":\"#2a3f5f\",\"gridcolor\":\"white\",\"linecolor\":\"white\",\"minorgridcolor\":\"white\",\"startlinecolor\":\"#2a3f5f\"},\"type\":\"carpet\"}],\"table\":[{\"cells\":{\"fill\":{\"color\":\"#EBF0F8\"},\"line\":{\"color\":\"white\"}},\"header\":{\"fill\":{\"color\":\"#C8D4E3\"},\"line\":{\"color\":\"white\"}},\"type\":\"table\"}],\"barpolar\":[{\"marker\":{\"line\":{\"color\":\"#E5ECF6\",\"width\":0.5},\"pattern\":{\"fillmode\":\"overlay\",\"size\":10,\"solidity\":0.2}},\"type\":\"barpolar\"}],\"pie\":[{\"automargin\":true,\"type\":\"pie\"}]},\"layout\":{\"autotypenumbers\":\"strict\",\"colorway\":[\"#636efa\",\"#EF553B\",\"#00cc96\",\"#ab63fa\",\"#FFA15A\",\"#19d3f3\",\"#FF6692\",\"#B6E880\",\"#FF97FF\",\"#FECB52\"],\"font\":{\"color\":\"#2a3f5f\"},\"hovermode\":\"closest\",\"hoverlabel\":{\"align\":\"left\"},\"paper_bgcolor\":\"white\",\"plot_bgcolor\":\"#E5ECF6\",\"polar\":{\"bgcolor\":\"#E5ECF6\",\"angularaxis\":{\"gridcolor\":\"white\",\"linecolor\":\"white\",\"ticks\":\"\"},\"radialaxis\":{\"gridcolor\":\"white\",\"linecolor\":\"white\",\"ticks\":\"\"}},\"ternary\":{\"bgcolor\":\"#E5ECF6\",\"aaxis\":{\"gridcolor\":\"white\",\"linecolor\":\"white\",\"ticks\":\"\"},\"baxis\":{\"gridcolor\":\"white\",\"linecolor\":\"white\",\"ticks\":\"\"},\"caxis\":{\"gridcolor\":\"white\",\"linecolor\":\"white\",\"ticks\":\"\"}},\"coloraxis\":{\"colorbar\":{\"outlinewidth\":0,\"ticks\":\"\"}},\"colorscale\":{\"sequential\":[[0.0,\"#0d0887\"],[0.1111111111111111,\"#46039f\"],[0.2222222222222222,\"#7201a8\"],[0.3333333333333333,\"#9c179e\"],[0.4444444444444444,\"#bd3786\"],[0.5555555555555556,\"#d8576b\"],[0.6666666666666666,\"#ed7953\"],[0.7777777777777778,\"#fb9f3a\"],[0.8888888888888888,\"#fdca26\"],[1.0,\"#f0f921\"]],\"sequentialminus\":[[0.0,\"#0d0887\"],[0.1111111111111111,\"#46039f\"],[0.2222222222222222,\"#7201a8\"],[0.3333333333333333,\"#9c179e\"],[0.4444444444444444,\"#bd3786\"],[0.5555555555555556,\"#d8576b\"],[0.6666666666666666,\"#ed7953\"],[0.7777777777777778,\"#fb9f3a\"],[0.8888888888888888,\"#fdca26\"],[1.0,\"#f0f921\"]],\"diverging\":[[0,\"#8e0152\"],[0.1,\"#c51b7d\"],[0.2,\"#de77ae\"],[0.3,\"#f1b6da\"],[0.4,\"#fde0ef\"],[0.5,\"#f7f7f7\"],[0.6,\"#e6f5d0\"],[0.7,\"#b8e186\"],[0.8,\"#7fbc41\"],[0.9,\"#4d9221\"],[1,\"#276419\"]]},\"xaxis\":{\"gridcolor\":\"white\",\"linecolor\":\"white\",\"ticks\":\"\",\"title\":{\"standoff\":15},\"zerolinecolor\":\"white\",\"automargin\":true,\"zerolinewidth\":2},\"yaxis\":{\"gridcolor\":\"white\",\"linecolor\":\"white\",\"ticks\":\"\",\"title\":{\"standoff\":15},\"zerolinecolor\":\"white\",\"automargin\":true,\"zerolinewidth\":2},\"scene\":{\"xaxis\":{\"backgroundcolor\":\"#E5ECF6\",\"gridcolor\":\"white\",\"linecolor\":\"white\",\"showbackground\":true,\"ticks\":\"\",\"zerolinecolor\":\"white\",\"gridwidth\":2},\"yaxis\":{\"backgroundcolor\":\"#E5ECF6\",\"gridcolor\":\"white\",\"linecolor\":\"white\",\"showbackground\":true,\"ticks\":\"\",\"zerolinecolor\":\"white\",\"gridwidth\":2},\"zaxis\":{\"backgroundcolor\":\"#E5ECF6\",\"gridcolor\":\"white\",\"linecolor\":\"white\",\"showbackground\":true,\"ticks\":\"\",\"zerolinecolor\":\"white\",\"gridwidth\":2}},\"shapedefaults\":{\"line\":{\"color\":\"#2a3f5f\"}},\"annotationdefaults\":{\"arrowcolor\":\"#2a3f5f\",\"arrowhead\":0,\"arrowwidth\":1},\"geo\":{\"bgcolor\":\"white\",\"landcolor\":\"#E5ECF6\",\"subunitcolor\":\"white\",\"showland\":true,\"showlakes\":true,\"lakecolor\":\"white\"},\"title\":{\"x\":0.05},\"mapbox\":{\"style\":\"light\"}}},\"xaxis\":{\"anchor\":\"y\",\"domain\":[0.0,1.0],\"scaleanchor\":\"y\",\"constrain\":\"domain\",\"title\":{\"text\":\"Current Season Stats\"}},\"yaxis\":{\"anchor\":\"x\",\"domain\":[0.0,1.0],\"autorange\":\"reversed\",\"constrain\":\"domain\",\"title\":{\"text\":\"Previous Season Stats\"}},\"coloraxis\":{\"colorscale\":[[0.0,\"#0d0887\"],[0.1111111111111111,\"#46039f\"],[0.2222222222222222,\"#7201a8\"],[0.3333333333333333,\"#9c179e\"],[0.4444444444444444,\"#bd3786\"],[0.5555555555555556,\"#d8576b\"],[0.6666666666666666,\"#ed7953\"],[0.7777777777777778,\"#fb9f3a\"],[0.8888888888888888,\"#fdca26\"],[1.0,\"#f0f921\"]]},\"margin\":{\"t\":60}},                        {\"responsive\": true}                    ).then(function(){\n",
       "                            \n",
       "var gd = document.getElementById('d4c33c64-7203-483e-aa13-45ec8a82c7d8');\n",
       "var x = new MutationObserver(function (mutations, observer) {{\n",
       "        var display = window.getComputedStyle(gd).display;\n",
       "        if (!display || display === 'none') {{\n",
       "            console.log([gd, 'removed!']);\n",
       "            Plotly.purge(gd);\n",
       "            observer.disconnect();\n",
       "        }}\n",
       "}});\n",
       "\n",
       "// Listen for the removal of the full notebook cells\n",
       "var notebookContainer = gd.closest('#notebook-container');\n",
       "if (notebookContainer) {{\n",
       "    x.observe(notebookContainer, {childList: true});\n",
       "}}\n",
       "\n",
       "// Listen for the clearing of the current output cell\n",
       "var outputEl = gd.closest('.output');\n",
       "if (outputEl) {{\n",
       "    x.observe(outputEl, {childList: true});\n",
       "}}\n",
       "\n",
       "                        })                };                });            </script>        </div>"
      ]
     },
     "metadata": {},
     "output_type": "display_data"
    },
    {
     "name": "stdout",
     "output_type": "stream",
     "text": [
      "carries\n",
      "\n",
      "Save path: fantasy-relevance-unfiltered-qb-scatter-carries\n",
      "\n"
     ]
    },
    {
     "data": {
      "application/vnd.plotly.v1+json": {
       "config": {
        "plotlyServerURL": "https://plot.ly"
       },
       "data": [
        {
         "customdata": [
          [
           "M.Hasselbeck",
           2015,
           39
          ],
          [
           "P.Manning",
           2013,
           37
          ],
          [
           "P.Manning",
           2014,
           38
          ],
          [
           "T.Brady",
           2013,
           36
          ],
          [
           "T.Brady",
           2014,
           37
          ],
          [
           "T.Brady",
           2015,
           38
          ],
          [
           "T.Brady",
           2016,
           39
          ],
          [
           "T.Brady",
           2017,
           40
          ],
          [
           "T.Brady",
           2018,
           41
          ],
          [
           "T.Brady",
           2019,
           42
          ],
          [
           "T.Brady",
           2020,
           43
          ],
          [
           "T.Brady",
           2021,
           44
          ],
          [
           "T.Brady",
           2022,
           45
          ],
          [
           "M.Vick",
           2013,
           33
          ],
          [
           "M.Vick",
           2014,
           34
          ],
          [
           "M.Vick",
           2015,
           35
          ],
          [
           "D.Brees",
           2013,
           34
          ],
          [
           "D.Brees",
           2014,
           35
          ],
          [
           "D.Brees",
           2015,
           36
          ],
          [
           "D.Brees",
           2016,
           37
          ],
          [
           "D.Brees",
           2017,
           38
          ],
          [
           "D.Brees",
           2018,
           39
          ],
          [
           "D.Brees",
           2019,
           40
          ],
          [
           "D.Brees",
           2020,
           41
          ],
          [
           "J.McCown",
           2014,
           35
          ],
          [
           "J.McCown",
           2015,
           36
          ],
          [
           "J.McCown",
           2016,
           37
          ],
          [
           "J.McCown",
           2017,
           38
          ],
          [
           "C.Palmer",
           2013,
           33
          ],
          [
           "C.Palmer",
           2014,
           34
          ],
          [
           "C.Palmer",
           2015,
           35
          ],
          [
           "C.Palmer",
           2016,
           36
          ],
          [
           "C.Palmer",
           2017,
           37
          ],
          [
           "T.Romo",
           2013,
           33
          ],
          [
           "T.Romo",
           2014,
           34
          ],
          [
           "M.Schaub",
           2013,
           32
          ],
          [
           "E.Manning",
           2013,
           32
          ],
          [
           "E.Manning",
           2018,
           37
          ],
          [
           "E.Manning",
           2019,
           38
          ],
          [
           "B.Roethlisberger",
           2013,
           31
          ],
          [
           "B.Roethlisberger",
           2014,
           32
          ],
          [
           "B.Roethlisberger",
           2015,
           33
          ],
          [
           "B.Roethlisberger",
           2016,
           34
          ],
          [
           "B.Roethlisberger",
           2017,
           35
          ],
          [
           "B.Roethlisberger",
           2018,
           36
          ],
          [
           "B.Roethlisberger",
           2021,
           39
          ],
          [
           "P.Rivers",
           2013,
           31
          ],
          [
           "P.Rivers",
           2014,
           32
          ],
          [
           "P.Rivers",
           2015,
           33
          ],
          [
           "P.Rivers",
           2016,
           34
          ],
          [
           "P.Rivers",
           2017,
           35
          ],
          [
           "P.Rivers",
           2018,
           36
          ],
          [
           "P.Rivers",
           2019,
           37
          ],
          [
           "P.Rivers",
           2020,
           38
          ],
          [
           "A.Smith",
           2013,
           29
          ],
          [
           "A.Smith",
           2014,
           30
          ],
          [
           "A.Smith",
           2015,
           31
          ],
          [
           "A.Smith",
           2016,
           32
          ],
          [
           "A.Smith",
           2017,
           33
          ],
          [
           "A.Smith",
           2018,
           34
          ],
          [
           "A.Rodgers",
           2013,
           29
          ],
          [
           "A.Rodgers",
           2014,
           30
          ],
          [
           "A.Rodgers",
           2015,
           31
          ],
          [
           "A.Rodgers",
           2016,
           32
          ],
          [
           "A.Rodgers",
           2017,
           33
          ],
          [
           "A.Rodgers",
           2018,
           34
          ],
          [
           "A.Rodgers",
           2019,
           35
          ],
          [
           "A.Rodgers",
           2020,
           36
          ],
          [
           "A.Rodgers",
           2021,
           37
          ],
          [
           "A.Rodgers",
           2022,
           38
          ],
          [
           "D.Anderson",
           2014,
           31
          ],
          [
           "D.Anderson",
           2015,
           32
          ],
          [
           "M.Cassel",
           2013,
           31
          ],
          [
           "M.Cassel",
           2014,
           32
          ],
          [
           "M.Cassel",
           2015,
           33
          ],
          [
           "R.Fitzpatrick",
           2013,
           30
          ],
          [
           "R.Fitzpatrick",
           2014,
           31
          ],
          [
           "R.Fitzpatrick",
           2015,
           32
          ],
          [
           "R.Fitzpatrick",
           2016,
           33
          ],
          [
           "R.Fitzpatrick",
           2017,
           34
          ],
          [
           "R.Fitzpatrick",
           2018,
           35
          ],
          [
           "R.Fitzpatrick",
           2019,
           36
          ],
          [
           "R.Fitzpatrick",
           2020,
           37
          ],
          [
           "J.Cutler",
           2013,
           30
          ],
          [
           "J.Cutler",
           2014,
           31
          ],
          [
           "J.Cutler",
           2015,
           32
          ],
          [
           "J.Cutler",
           2016,
           33
          ],
          [
           "J.Cutler",
           2017,
           34
          ],
          [
           "K.Clemens",
           2013,
           30
          ],
          [
           "C.Whitehurst",
           2014,
           32
          ],
          [
           "C.Whitehurst",
           2015,
           33
          ],
          [
           "M.Ryan",
           2013,
           28
          ],
          [
           "M.Ryan",
           2014,
           29
          ],
          [
           "M.Ryan",
           2015,
           30
          ],
          [
           "M.Ryan",
           2016,
           31
          ],
          [
           "M.Ryan",
           2017,
           32
          ],
          [
           "M.Ryan",
           2018,
           33
          ],
          [
           "M.Ryan",
           2019,
           34
          ],
          [
           "M.Ryan",
           2020,
           35
          ],
          [
           "M.Ryan",
           2021,
           36
          ],
          [
           "M.Ryan",
           2022,
           37
          ],
          [
           "J.Flacco",
           2013,
           28
          ],
          [
           "J.Flacco",
           2014,
           29
          ],
          [
           "J.Flacco",
           2015,
           30
          ],
          [
           "J.Flacco",
           2016,
           31
          ],
          [
           "J.Flacco",
           2017,
           32
          ],
          [
           "J.Flacco",
           2018,
           33
          ],
          [
           "J.Flacco",
           2019,
           34
          ],
          [
           "J.Flacco",
           2020,
           35
          ],
          [
           "J.Flacco",
           2021,
           36
          ],
          [
           "J.Flacco",
           2022,
           37
          ],
          [
           "C.Henne",
           2013,
           28
          ],
          [
           "C.Henne",
           2014,
           29
          ],
          [
           "C.Henne",
           2021,
           36
          ],
          [
           "J.Johnson",
           2022,
           36
          ],
          [
           "M.Stafford",
           2013,
           25
          ],
          [
           "M.Stafford",
           2014,
           26
          ],
          [
           "M.Stafford",
           2015,
           27
          ],
          [
           "M.Stafford",
           2016,
           28
          ],
          [
           "M.Stafford",
           2017,
           29
          ],
          [
           "M.Stafford",
           2018,
           30
          ],
          [
           "M.Stafford",
           2019,
           31
          ],
          [
           "M.Stafford",
           2020,
           32
          ],
          [
           "M.Stafford",
           2021,
           33
          ],
          [
           "M.Stafford",
           2022,
           34
          ],
          [
           "C.Daniel",
           2013,
           26
          ],
          [
           "C.Daniel",
           2014,
           27
          ],
          [
           "C.Daniel",
           2019,
           32
          ],
          [
           "B.Hoyer",
           2014,
           28
          ],
          [
           "B.Hoyer",
           2015,
           29
          ],
          [
           "B.Hoyer",
           2016,
           30
          ],
          [
           "B.Hoyer",
           2017,
           31
          ],
          [
           "B.Hoyer",
           2018,
           32
          ],
          [
           "M.Sanchez",
           2015,
           28
          ],
          [
           "J.Freeman",
           2013,
           25
          ],
          [
           "J.Clausen",
           2015,
           27
          ],
          [
           "C.McCoy",
           2021,
           34
          ],
          [
           "C.McCoy",
           2022,
           35
          ],
          [
           "S.Bradford",
           2013,
           25
          ],
          [
           "S.Bradford",
           2016,
           28
          ],
          [
           "C.Newton",
           2013,
           24
          ],
          [
           "C.Newton",
           2014,
           25
          ],
          [
           "C.Newton",
           2015,
           26
          ],
          [
           "C.Newton",
           2016,
           27
          ],
          [
           "C.Newton",
           2017,
           28
          ],
          [
           "C.Newton",
           2018,
           29
          ],
          [
           "C.Newton",
           2019,
           30
          ],
          [
           "C.Newton",
           2020,
           31
          ],
          [
           "C.Newton",
           2021,
           32
          ],
          [
           "J.Locker",
           2013,
           25
          ],
          [
           "J.Locker",
           2014,
           26
          ],
          [
           "B.Gabbert",
           2013,
           23
          ],
          [
           "B.Gabbert",
           2016,
           26
          ],
          [
           "B.Gabbert",
           2017,
           27
          ],
          [
           "B.Gabbert",
           2018,
           28
          ],
          [
           "C.Ponder",
           2013,
           25
          ],
          [
           "C.Ponder",
           2014,
           26
          ],
          [
           "A.Dalton",
           2013,
           25
          ],
          [
           "A.Dalton",
           2014,
           26
          ],
          [
           "A.Dalton",
           2015,
           27
          ],
          [
           "A.Dalton",
           2016,
           28
          ],
          [
           "A.Dalton",
           2017,
           29
          ],
          [
           "A.Dalton",
           2018,
           30
          ],
          [
           "A.Dalton",
           2019,
           31
          ],
          [
           "A.Dalton",
           2020,
           32
          ],
          [
           "A.Dalton",
           2021,
           33
          ],
          [
           "A.Dalton",
           2022,
           34
          ],
          [
           "C.Kaepernick",
           2013,
           25
          ],
          [
           "C.Kaepernick",
           2014,
           26
          ],
          [
           "C.Kaepernick",
           2015,
           27
          ],
          [
           "C.Kaepernick",
           2016,
           28
          ],
          [
           "R.Mallett",
           2015,
           27
          ],
          [
           "T.Taylor",
           2013,
           24
          ],
          [
           "T.Taylor",
           2016,
           27
          ],
          [
           "T.Taylor",
           2017,
           28
          ],
          [
           "T.Taylor",
           2018,
           29
          ],
          [
           "T.Taylor",
           2019,
           30
          ],
          [
           "T.Taylor",
           2020,
           31
          ],
          [
           "T.Taylor",
           2021,
           32
          ],
          [
           "T.Taylor",
           2022,
           33
          ],
          [
           "S.Tolzien",
           2016,
           28
          ],
          [
           "T.Pryor",
           2013,
           24
          ],
          [
           "A.Davis",
           2015,
           26
          ],
          [
           "C.Keenum",
           2014,
           26
          ],
          [
           "C.Keenum",
           2015,
           27
          ],
          [
           "C.Keenum",
           2016,
           28
          ],
          [
           "C.Keenum",
           2017,
           29
          ],
          [
           "C.Keenum",
           2018,
           30
          ],
          [
           "C.Keenum",
           2019,
           31
          ],
          [
           "C.Keenum",
           2022,
           34
          ],
          [
           "M.Simms",
           2014,
           25
          ],
          [
           "R.Wilson",
           2013,
           24
          ],
          [
           "R.Wilson",
           2014,
           25
          ],
          [
           "R.Wilson",
           2015,
           26
          ],
          [
           "R.Wilson",
           2016,
           27
          ],
          [
           "R.Wilson",
           2017,
           28
          ],
          [
           "R.Wilson",
           2018,
           29
          ],
          [
           "R.Wilson",
           2019,
           30
          ],
          [
           "R.Wilson",
           2020,
           31
          ],
          [
           "R.Wilson",
           2021,
           32
          ],
          [
           "R.Wilson",
           2022,
           33
          ],
          [
           "N.Foles",
           2013,
           24
          ],
          [
           "N.Foles",
           2014,
           25
          ],
          [
           "N.Foles",
           2015,
           26
          ],
          [
           "N.Foles",
           2018,
           29
          ],
          [
           "N.Foles",
           2019,
           30
          ],
          [
           "N.Foles",
           2020,
           31
          ],
          [
           "N.Foles",
           2021,
           32
          ],
          [
           "N.Foles",
           2022,
           33
          ],
          [
           "K.Cousins",
           2014,
           26
          ],
          [
           "K.Cousins",
           2015,
           27
          ],
          [
           "K.Cousins",
           2016,
           28
          ],
          [
           "K.Cousins",
           2017,
           29
          ],
          [
           "K.Cousins",
           2018,
           30
          ],
          [
           "K.Cousins",
           2019,
           31
          ],
          [
           "K.Cousins",
           2020,
           32
          ],
          [
           "K.Cousins",
           2021,
           33
          ],
          [
           "K.Cousins",
           2022,
           34
          ],
          [
           "R.Griffin",
           2013,
           23
          ],
          [
           "R.Griffin",
           2014,
           24
          ],
          [
           "R.Griffin III",
           2013,
           23
          ],
          [
           "R.Griffin III",
           2014,
           24
          ],
          [
           "R.Griffin III",
           2020,
           30
          ],
          [
           "A.Luck",
           2013,
           23
          ],
          [
           "A.Luck",
           2014,
           24
          ],
          [
           "A.Luck",
           2015,
           25
          ],
          [
           "A.Luck",
           2016,
           26
          ],
          [
           "B.Weeden",
           2013,
           29
          ],
          [
           "B.Weeden",
           2014,
           30
          ],
          [
           "B.Osweiler",
           2015,
           24
          ],
          [
           "B.Osweiler",
           2016,
           25
          ],
          [
           "B.Osweiler",
           2017,
           26
          ],
          [
           "B.Osweiler",
           2018,
           27
          ],
          [
           "R.Tannehill",
           2013,
           25
          ],
          [
           "R.Tannehill",
           2014,
           26
          ],
          [
           "R.Tannehill",
           2015,
           27
          ],
          [
           "R.Tannehill",
           2016,
           28
          ],
          [
           "R.Tannehill",
           2019,
           31
          ],
          [
           "R.Tannehill",
           2020,
           32
          ],
          [
           "R.Tannehill",
           2021,
           33
          ],
          [
           "R.Tannehill",
           2022,
           34
          ],
          [
           "M.McGloin",
           2014,
           24
          ],
          [
           "M.Glennon",
           2014,
           24
          ],
          [
           "M.Glennon",
           2020,
           30
          ],
          [
           "M.Glennon",
           2021,
           31
          ],
          [
           "E.Manuel",
           2014,
           24
          ],
          [
           "E.Manuel",
           2015,
           25
          ],
          [
           "E.Manuel",
           2016,
           26
          ],
          [
           "E.Manuel",
           2017,
           27
          ],
          [
           "M.Barkley",
           2019,
           28
          ],
          [
           "G.Smith",
           2014,
           23
          ],
          [
           "G.Smith",
           2021,
           30
          ],
          [
           "G.Smith",
           2022,
           31
          ],
          [
           "D.Fales",
           2017,
           26
          ],
          [
           "T.Bridgewater",
           2015,
           22
          ],
          [
           "T.Bridgewater",
           2019,
           26
          ],
          [
           "T.Bridgewater",
           2020,
           27
          ],
          [
           "T.Bridgewater",
           2021,
           28
          ],
          [
           "D.Carr",
           2015,
           24
          ],
          [
           "D.Carr",
           2016,
           25
          ],
          [
           "D.Carr",
           2017,
           26
          ],
          [
           "D.Carr",
           2018,
           27
          ],
          [
           "D.Carr",
           2019,
           28
          ],
          [
           "D.Carr",
           2020,
           29
          ],
          [
           "D.Carr",
           2021,
           30
          ],
          [
           "D.Carr",
           2022,
           31
          ],
          [
           "J.Garoppolo",
           2017,
           25
          ],
          [
           "J.Garoppolo",
           2018,
           26
          ],
          [
           "J.Garoppolo",
           2019,
           27
          ],
          [
           "J.Garoppolo",
           2020,
           28
          ],
          [
           "J.Garoppolo",
           2021,
           29
          ],
          [
           "J.Garoppolo",
           2022,
           30
          ],
          [
           "B.Bortles",
           2015,
           23
          ],
          [
           "B.Bortles",
           2016,
           24
          ],
          [
           "B.Bortles",
           2017,
           25
          ],
          [
           "B.Bortles",
           2018,
           26
          ],
          [
           "B.Bortles",
           2019,
           27
          ],
          [
           "J.Manziel",
           2015,
           22
          ],
          [
           "J.Winston",
           2016,
           22
          ],
          [
           "J.Winston",
           2017,
           23
          ],
          [
           "J.Winston",
           2018,
           24
          ],
          [
           "J.Winston",
           2019,
           25
          ],
          [
           "J.Winston",
           2022,
           28
          ],
          [
           "B.Hundley",
           2017,
           24
          ],
          [
           "T.Heinicke",
           2022,
           29
          ],
          [
           "T.Siemian",
           2022,
           30
          ],
          [
           "S.Mannion",
           2017,
           25
          ],
          [
           "S.Mannion",
           2018,
           26
          ],
          [
           "S.Mannion",
           2019,
           27
          ],
          [
           "M.Mariota",
           2016,
           22
          ],
          [
           "M.Mariota",
           2017,
           23
          ],
          [
           "M.Mariota",
           2018,
           24
          ],
          [
           "M.Mariota",
           2019,
           25
          ],
          [
           "M.Mariota",
           2020,
           26
          ],
          [
           "M.Mariota",
           2021,
           27
          ],
          [
           "M.Mariota",
           2022,
           28
          ],
          [
           "B.Allen",
           2020,
           27
          ],
          [
           "B.Allen",
           2021,
           28
          ],
          [
           "B.Allen",
           2022,
           29
          ],
          [
           "J.Driskel",
           2019,
           26
          ],
          [
           "J.Driskel",
           2020,
           27
          ],
          [
           "K.Hogan",
           2017,
           24
          ],
          [
           "C.Wentz",
           2017,
           24
          ],
          [
           "C.Wentz",
           2018,
           25
          ],
          [
           "C.Wentz",
           2019,
           26
          ],
          [
           "C.Wentz",
           2020,
           27
          ],
          [
           "C.Wentz",
           2021,
           28
          ],
          [
           "C.Wentz",
           2022,
           29
          ],
          [
           "D.Prescott",
           2017,
           24
          ],
          [
           "D.Prescott",
           2018,
           25
          ],
          [
           "D.Prescott",
           2019,
           26
          ],
          [
           "D.Prescott",
           2020,
           27
          ],
          [
           "D.Prescott",
           2021,
           28
          ],
          [
           "D.Prescott",
           2022,
           29
          ],
          [
           "J.Goff",
           2017,
           22
          ],
          [
           "J.Goff",
           2018,
           23
          ],
          [
           "J.Goff",
           2019,
           24
          ],
          [
           "J.Goff",
           2020,
           25
          ],
          [
           "J.Goff",
           2021,
           26
          ],
          [
           "J.Goff",
           2022,
           27
          ],
          [
           "P.Lynch",
           2017,
           23
          ],
          [
           "J.Brissett",
           2017,
           24
          ],
          [
           "J.Brissett",
           2020,
           27
          ],
          [
           "J.Brissett",
           2021,
           28
          ],
          [
           "J.Brissett",
           2022,
           29
          ],
          [
           "P.Walker",
           2021,
           26
          ],
          [
           "P.Walker",
           2022,
           27
          ],
          [
           "T.Hill",
           2019,
           29
          ],
          [
           "T.Hill",
           2020,
           30
          ],
          [
           "T.Hill",
           2021,
           31
          ],
          [
           "D.Watson",
           2018,
           22
          ],
          [
           "D.Watson",
           2019,
           23
          ],
          [
           "D.Watson",
           2020,
           24
          ],
          [
           "C.Rush",
           2022,
           28
          ],
          [
           "M.Trubisky",
           2018,
           24
          ],
          [
           "M.Trubisky",
           2019,
           25
          ],
          [
           "M.Trubisky",
           2020,
           26
          ],
          [
           "M.Trubisky",
           2021,
           27
          ],
          [
           "M.Trubisky",
           2022,
           28
          ],
          [
           "P.Mahomes",
           2018,
           22
          ],
          [
           "P.Mahomes",
           2019,
           23
          ],
          [
           "P.Mahomes",
           2020,
           24
          ],
          [
           "P.Mahomes",
           2021,
           25
          ],
          [
           "P.Mahomes",
           2022,
           26
          ],
          [
           "C.Beathard",
           2018,
           24
          ],
          [
           "C.Beathard",
           2021,
           27
          ],
          [
           "N.Peterman",
           2018,
           24
          ],
          [
           "M.White",
           2022,
           27
          ],
          [
           "K.Allen",
           2019,
           23
          ],
          [
           "K.Allen",
           2020,
           24
          ],
          [
           "K.Allen",
           2021,
           25
          ],
          [
           "K.Allen",
           2022,
           26
          ],
          [
           "L.Jackson",
           2019,
           22
          ],
          [
           "L.Jackson",
           2020,
           23
          ],
          [
           "L.Jackson",
           2021,
           24
          ],
          [
           "L.Jackson",
           2022,
           25
          ],
          [
           "B.Mayfield",
           2019,
           24
          ],
          [
           "B.Mayfield",
           2020,
           25
          ],
          [
           "B.Mayfield",
           2021,
           26
          ],
          [
           "B.Mayfield",
           2022,
           27
          ],
          [
           "J.Allen",
           2019,
           23
          ],
          [
           "J.Allen",
           2020,
           24
          ],
          [
           "J.Allen",
           2021,
           25
          ],
          [
           "J.Allen",
           2022,
           26
          ],
          [
           "S.Darnold",
           2019,
           22
          ],
          [
           "S.Darnold",
           2020,
           23
          ],
          [
           "S.Darnold",
           2021,
           24
          ],
          [
           "S.Darnold",
           2022,
           25
          ],
          [
           "J.Wolford",
           2021,
           25
          ],
          [
           "J.Wolford",
           2022,
           26
          ],
          [
           "T.McSorley",
           2020,
           25
          ],
          [
           "K.Murray",
           2020,
           23
          ],
          [
           "K.Murray",
           2021,
           24
          ],
          [
           "K.Murray",
           2022,
           25
          ],
          [
           "D.Haskins",
           2020,
           23
          ],
          [
           "G.Minshew",
           2020,
           24
          ],
          [
           "G.Minshew II",
           2020,
           24
          ],
          [
           "G.Minshew II",
           2021,
           25
          ],
          [
           "G.Minshew II",
           2022,
           26
          ],
          [
           "R.Finley",
           2020,
           25
          ],
          [
           "D.Lock",
           2020,
           23
          ],
          [
           "D.Lock",
           2021,
           24
          ],
          [
           "D.Jones",
           2020,
           23
          ],
          [
           "D.Jones",
           2021,
           24
          ],
          [
           "D.Jones",
           2022,
           25
          ],
          [
           "C.Streveler",
           2021,
           26
          ],
          [
           "C.Streveler",
           2022,
           27
          ],
          [
           "T.Huntley",
           2021,
           23
          ],
          [
           "T.Huntley",
           2022,
           24
          ],
          [
           "T.Tagovailoa",
           2021,
           23
          ],
          [
           "T.Tagovailoa",
           2022,
           24
          ],
          [
           "J.Herbert",
           2021,
           23
          ],
          [
           "J.Herbert",
           2022,
           24
          ],
          [
           "J.Hurts",
           2021,
           23
          ],
          [
           "J.Hurts",
           2022,
           24
          ],
          [
           "J.Burrow",
           2021,
           24
          ],
          [
           "J.Burrow",
           2022,
           25
          ],
          [
           "S.Ehlinger",
           2022,
           23
          ],
          [
           "D.Mills",
           2022,
           23
          ],
          [
           "J.Fields",
           2022,
           23
          ],
          [
           "T.Lawrence",
           2022,
           22
          ],
          [
           "M.Jones",
           2022,
           23
          ],
          [
           "T.Lance",
           2022,
           22
          ],
          [
           "Z.Wilson",
           2022,
           23
          ]
         ],
         "hovertemplate": "carries_last=%{x}<br>carries=%{y}<br>rusher=%{customdata[0]}<br>season=%{customdata[1]}<br>age=%{customdata[2]}<extra></extra>",
         "legendgroup": "",
         "marker": {
          "color": "#636efa",
          "symbol": "circle"
         },
         "mode": "markers",
         "name": "",
         "orientation": "v",
         "showlegend": false,
         "type": "scatter",
         "x": [
          1,
          2,
          10,
          13,
          12,
          14,
          13,
          7,
          8,
          8,
          8,
          9,
          7,
          16,
          14,
          9,
          1,
          4,
          4,
          5,
          8,
          10,
          9,
          2,
          1,
          4,
          7,
          3,
          10,
          1,
          1,
          1,
          6,
          8,
          3,
          3,
          1,
          1,
          7,
          5,
          3,
          10,
          2,
          3,
          3,
          6,
          9,
          11,
          14,
          3,
          3,
          3,
          5,
          4,
          9,
          20,
          7,
          18,
          11,
          19,
          6,
          4,
          6,
          4,
          9,
          2,
          6,
          3,
          5,
          2,
          1,
          4,
          9,
          2,
          2,
          8,
          7,
          9,
          16,
          10,
          3,
          7,
          11,
          1,
          2,
          7,
          16,
          2,
          1,
          3,
          2,
          3,
          1,
          1,
          6,
          9,
          6,
          8,
          4,
          5,
          15,
          18,
          4,
          16,
          11,
          5,
          4,
          9,
          2,
          1,
          1,
          5,
          12,
          4,
          6,
          12,
          16,
          7,
          6,
          3,
          3,
          4,
          5,
          6,
          7,
          1,
          2,
          5,
          1,
          10,
          2,
          2,
          4,
          10,
          11,
          1,
          1,
          8,
          4,
          4,
          82,
          62,
          65,
          91,
          74,
          93,
          63,
          4,
          108,
          10,
          7,
          7,
          2,
          21,
          5,
          6,
          6,
          12,
          18,
          29,
          17,
          15,
          9,
          1,
          15,
          9,
          1,
          33,
          35,
          41,
          17,
          2,
          5,
          41,
          41,
          29,
          6,
          4,
          4,
          3,
          1,
          5,
          2,
          8,
          3,
          3,
          6,
          3,
          6,
          4,
          1,
          34,
          30,
          47,
          29,
          25,
          29,
          22,
          15,
          12,
          14,
          4,
          24,
          6,
          6,
          6,
          2,
          2,
          2,
          2,
          4,
          11,
          13,
          17,
          16,
          13,
          8,
          5,
          3,
          4,
          70,
          44,
          13,
          9,
          5,
          12,
          1,
          8,
          2,
          1,
          8,
          4,
          1,
          21,
          16,
          36,
          19,
          15,
          12,
          17,
          26,
          3,
          6,
          2,
          2,
          16,
          3,
          13,
          5,
          1,
          31,
          2,
          3,
          1,
          7,
          1,
          4,
          8,
          12,
          4,
          6,
          3,
          6,
          6,
          8,
          14,
          1,
          4,
          2,
          16,
          3,
          19,
          33,
          18,
          19,
          22,
          13,
          3,
          7,
          9,
          5,
          9,
          7,
          1,
          11,
          2,
          1,
          4,
          1,
          19,
          27,
          25,
          25,
          9,
          5,
          13,
          2,
          6,
          2,
          10,
          9,
          5,
          17,
          22,
          9,
          29,
          30,
          20,
          17,
          19,
          31,
          22,
          10,
          15,
          2,
          4,
          7,
          12,
          12,
          6,
          1,
          7,
          15,
          10,
          5,
          2,
          4,
          36,
          26,
          70,
          17,
          32,
          28,
          1,
          16,
          21,
          20,
          16,
          2,
          3,
          21,
          7,
          8,
          5,
          11,
          4,
          3,
          2,
          2,
          8,
          1,
          2,
          116,
          123,
          102,
          77,
          9,
          8,
          14,
          4,
          36,
          53,
          51,
          67,
          17,
          9,
          4,
          17,
          4,
          1,
          1,
          56,
          75,
          51,
          7,
          1,
          4,
          2,
          3,
          3,
          3,
          15,
          14,
          29,
          32,
          3,
          2,
          7,
          18,
          11,
          10,
          21,
          14,
          38,
          77,
          17,
          13,
          2,
          6,
          20,
          34,
          21,
          25,
          10
         ],
         "xaxis": "x",
         "y": [
          1,
          10,
          7,
          12,
          14,
          13,
          7,
          8,
          8,
          8,
          9,
          7,
          8,
          14,
          9,
          3,
          4,
          4,
          5,
          8,
          10,
          9,
          2,
          4,
          4,
          7,
          3,
          9,
          1,
          1,
          1,
          6,
          7,
          3,
          3,
          1,
          4,
          7,
          2,
          3,
          10,
          2,
          3,
          3,
          7,
          4,
          11,
          14,
          3,
          3,
          3,
          5,
          4,
          1,
          20,
          7,
          18,
          11,
          19,
          15,
          4,
          6,
          4,
          9,
          2,
          6,
          3,
          5,
          2,
          6,
          4,
          3,
          2,
          2,
          3,
          7,
          9,
          16,
          10,
          3,
          7,
          11,
          9,
          2,
          7,
          16,
          2,
          4,
          7,
          2,
          1,
          1,
          1,
          6,
          9,
          6,
          8,
          4,
          5,
          15,
          11,
          4,
          16,
          11,
          5,
          4,
          9,
          2,
          1,
          1,
          1,
          12,
          2,
          2,
          1,
          16,
          7,
          6,
          3,
          3,
          4,
          5,
          6,
          7,
          2,
          2,
          1,
          4,
          10,
          2,
          2,
          4,
          1,
          3,
          3,
          1,
          8,
          5,
          2,
          1,
          62,
          65,
          91,
          74,
          93,
          63,
          4,
          108,
          41,
          7,
          1,
          2,
          21,
          5,
          2,
          6,
          1,
          18,
          29,
          17,
          15,
          9,
          1,
          15,
          9,
          1,
          7,
          35,
          41,
          17,
          29,
          1,
          5,
          41,
          29,
          6,
          4,
          4,
          3,
          1,
          2,
          45,
          3,
          3,
          3,
          6,
          3,
          6,
          3,
          1,
          1,
          30,
          47,
          29,
          25,
          29,
          22,
          15,
          12,
          14,
          20,
          24,
          6,
          5,
          6,
          2,
          2,
          2,
          1,
          4,
          11,
          13,
          17,
          16,
          13,
          8,
          5,
          9,
          4,
          3,
          44,
          16,
          8,
          5,
          12,
          1,
          8,
          2,
          4,
          8,
          4,
          1,
          2,
          16,
          36,
          19,
          21,
          12,
          17,
          26,
          10,
          1,
          2,
          2,
          2,
          3,
          13,
          5,
          1,
          2,
          25,
          3,
          23,
          2,
          8,
          4,
          8,
          9,
          4,
          6,
          3,
          6,
          6,
          8,
          14,
          5,
          4,
          2,
          16,
          3,
          19,
          15,
          18,
          19,
          22,
          13,
          2,
          7,
          9,
          5,
          9,
          14,
          2,
          12,
          10,
          2,
          4,
          1,
          1,
          27,
          25,
          25,
          9,
          5,
          13,
          48,
          6,
          2,
          1,
          9,
          3,
          5,
          22,
          9,
          29,
          30,
          20,
          6,
          19,
          31,
          22,
          10,
          15,
          21,
          4,
          7,
          12,
          12,
          6,
          5,
          1,
          13,
          10,
          5,
          21,
          4,
          3,
          26,
          70,
          53,
          32,
          28,
          18,
          2,
          21,
          20,
          16,
          2,
          10,
          21,
          7,
          8,
          5,
          7,
          8,
          1,
          2,
          3,
          8,
          1,
          2,
          4,
          123,
          102,
          77,
          73,
          8,
          14,
          4,
          10,
          53,
          51,
          67,
          57,
          9,
          4,
          17,
          14,
          1,
          3,
          4,
          75,
          51,
          36,
          7,
          1,
          2,
          3,
          2,
          8,
          15,
          3,
          29,
          32,
          53,
          2,
          5,
          18,
          25,
          10,
          4,
          14,
          15,
          77,
          103,
          13,
          26,
          5,
          7,
          85,
          31,
          11,
          12,
          7
         ],
         "yaxis": "y"
        }
       ],
       "layout": {
        "legend": {
         "tracegroupgap": 0
        },
        "margin": {
         "t": 60
        },
        "template": {
         "data": {
          "bar": [
           {
            "error_x": {
             "color": "#2a3f5f"
            },
            "error_y": {
             "color": "#2a3f5f"
            },
            "marker": {
             "line": {
              "color": "#E5ECF6",
              "width": 0.5
             },
             "pattern": {
              "fillmode": "overlay",
              "size": 10,
              "solidity": 0.2
             }
            },
            "type": "bar"
           }
          ],
          "barpolar": [
           {
            "marker": {
             "line": {
              "color": "#E5ECF6",
              "width": 0.5
             },
             "pattern": {
              "fillmode": "overlay",
              "size": 10,
              "solidity": 0.2
             }
            },
            "type": "barpolar"
           }
          ],
          "carpet": [
           {
            "aaxis": {
             "endlinecolor": "#2a3f5f",
             "gridcolor": "white",
             "linecolor": "white",
             "minorgridcolor": "white",
             "startlinecolor": "#2a3f5f"
            },
            "baxis": {
             "endlinecolor": "#2a3f5f",
             "gridcolor": "white",
             "linecolor": "white",
             "minorgridcolor": "white",
             "startlinecolor": "#2a3f5f"
            },
            "type": "carpet"
           }
          ],
          "choropleth": [
           {
            "colorbar": {
             "outlinewidth": 0,
             "ticks": ""
            },
            "type": "choropleth"
           }
          ],
          "contour": [
           {
            "colorbar": {
             "outlinewidth": 0,
             "ticks": ""
            },
            "colorscale": [
             [
              0,
              "#0d0887"
             ],
             [
              0.1111111111111111,
              "#46039f"
             ],
             [
              0.2222222222222222,
              "#7201a8"
             ],
             [
              0.3333333333333333,
              "#9c179e"
             ],
             [
              0.4444444444444444,
              "#bd3786"
             ],
             [
              0.5555555555555556,
              "#d8576b"
             ],
             [
              0.6666666666666666,
              "#ed7953"
             ],
             [
              0.7777777777777778,
              "#fb9f3a"
             ],
             [
              0.8888888888888888,
              "#fdca26"
             ],
             [
              1,
              "#f0f921"
             ]
            ],
            "type": "contour"
           }
          ],
          "contourcarpet": [
           {
            "colorbar": {
             "outlinewidth": 0,
             "ticks": ""
            },
            "type": "contourcarpet"
           }
          ],
          "heatmap": [
           {
            "colorbar": {
             "outlinewidth": 0,
             "ticks": ""
            },
            "colorscale": [
             [
              0,
              "#0d0887"
             ],
             [
              0.1111111111111111,
              "#46039f"
             ],
             [
              0.2222222222222222,
              "#7201a8"
             ],
             [
              0.3333333333333333,
              "#9c179e"
             ],
             [
              0.4444444444444444,
              "#bd3786"
             ],
             [
              0.5555555555555556,
              "#d8576b"
             ],
             [
              0.6666666666666666,
              "#ed7953"
             ],
             [
              0.7777777777777778,
              "#fb9f3a"
             ],
             [
              0.8888888888888888,
              "#fdca26"
             ],
             [
              1,
              "#f0f921"
             ]
            ],
            "type": "heatmap"
           }
          ],
          "heatmapgl": [
           {
            "colorbar": {
             "outlinewidth": 0,
             "ticks": ""
            },
            "colorscale": [
             [
              0,
              "#0d0887"
             ],
             [
              0.1111111111111111,
              "#46039f"
             ],
             [
              0.2222222222222222,
              "#7201a8"
             ],
             [
              0.3333333333333333,
              "#9c179e"
             ],
             [
              0.4444444444444444,
              "#bd3786"
             ],
             [
              0.5555555555555556,
              "#d8576b"
             ],
             [
              0.6666666666666666,
              "#ed7953"
             ],
             [
              0.7777777777777778,
              "#fb9f3a"
             ],
             [
              0.8888888888888888,
              "#fdca26"
             ],
             [
              1,
              "#f0f921"
             ]
            ],
            "type": "heatmapgl"
           }
          ],
          "histogram": [
           {
            "marker": {
             "pattern": {
              "fillmode": "overlay",
              "size": 10,
              "solidity": 0.2
             }
            },
            "type": "histogram"
           }
          ],
          "histogram2d": [
           {
            "colorbar": {
             "outlinewidth": 0,
             "ticks": ""
            },
            "colorscale": [
             [
              0,
              "#0d0887"
             ],
             [
              0.1111111111111111,
              "#46039f"
             ],
             [
              0.2222222222222222,
              "#7201a8"
             ],
             [
              0.3333333333333333,
              "#9c179e"
             ],
             [
              0.4444444444444444,
              "#bd3786"
             ],
             [
              0.5555555555555556,
              "#d8576b"
             ],
             [
              0.6666666666666666,
              "#ed7953"
             ],
             [
              0.7777777777777778,
              "#fb9f3a"
             ],
             [
              0.8888888888888888,
              "#fdca26"
             ],
             [
              1,
              "#f0f921"
             ]
            ],
            "type": "histogram2d"
           }
          ],
          "histogram2dcontour": [
           {
            "colorbar": {
             "outlinewidth": 0,
             "ticks": ""
            },
            "colorscale": [
             [
              0,
              "#0d0887"
             ],
             [
              0.1111111111111111,
              "#46039f"
             ],
             [
              0.2222222222222222,
              "#7201a8"
             ],
             [
              0.3333333333333333,
              "#9c179e"
             ],
             [
              0.4444444444444444,
              "#bd3786"
             ],
             [
              0.5555555555555556,
              "#d8576b"
             ],
             [
              0.6666666666666666,
              "#ed7953"
             ],
             [
              0.7777777777777778,
              "#fb9f3a"
             ],
             [
              0.8888888888888888,
              "#fdca26"
             ],
             [
              1,
              "#f0f921"
             ]
            ],
            "type": "histogram2dcontour"
           }
          ],
          "mesh3d": [
           {
            "colorbar": {
             "outlinewidth": 0,
             "ticks": ""
            },
            "type": "mesh3d"
           }
          ],
          "parcoords": [
           {
            "line": {
             "colorbar": {
              "outlinewidth": 0,
              "ticks": ""
             }
            },
            "type": "parcoords"
           }
          ],
          "pie": [
           {
            "automargin": true,
            "type": "pie"
           }
          ],
          "scatter": [
           {
            "fillpattern": {
             "fillmode": "overlay",
             "size": 10,
             "solidity": 0.2
            },
            "type": "scatter"
           }
          ],
          "scatter3d": [
           {
            "line": {
             "colorbar": {
              "outlinewidth": 0,
              "ticks": ""
             }
            },
            "marker": {
             "colorbar": {
              "outlinewidth": 0,
              "ticks": ""
             }
            },
            "type": "scatter3d"
           }
          ],
          "scattercarpet": [
           {
            "marker": {
             "colorbar": {
              "outlinewidth": 0,
              "ticks": ""
             }
            },
            "type": "scattercarpet"
           }
          ],
          "scattergeo": [
           {
            "marker": {
             "colorbar": {
              "outlinewidth": 0,
              "ticks": ""
             }
            },
            "type": "scattergeo"
           }
          ],
          "scattergl": [
           {
            "marker": {
             "colorbar": {
              "outlinewidth": 0,
              "ticks": ""
             }
            },
            "type": "scattergl"
           }
          ],
          "scattermapbox": [
           {
            "marker": {
             "colorbar": {
              "outlinewidth": 0,
              "ticks": ""
             }
            },
            "type": "scattermapbox"
           }
          ],
          "scatterpolar": [
           {
            "marker": {
             "colorbar": {
              "outlinewidth": 0,
              "ticks": ""
             }
            },
            "type": "scatterpolar"
           }
          ],
          "scatterpolargl": [
           {
            "marker": {
             "colorbar": {
              "outlinewidth": 0,
              "ticks": ""
             }
            },
            "type": "scatterpolargl"
           }
          ],
          "scatterternary": [
           {
            "marker": {
             "colorbar": {
              "outlinewidth": 0,
              "ticks": ""
             }
            },
            "type": "scatterternary"
           }
          ],
          "surface": [
           {
            "colorbar": {
             "outlinewidth": 0,
             "ticks": ""
            },
            "colorscale": [
             [
              0,
              "#0d0887"
             ],
             [
              0.1111111111111111,
              "#46039f"
             ],
             [
              0.2222222222222222,
              "#7201a8"
             ],
             [
              0.3333333333333333,
              "#9c179e"
             ],
             [
              0.4444444444444444,
              "#bd3786"
             ],
             [
              0.5555555555555556,
              "#d8576b"
             ],
             [
              0.6666666666666666,
              "#ed7953"
             ],
             [
              0.7777777777777778,
              "#fb9f3a"
             ],
             [
              0.8888888888888888,
              "#fdca26"
             ],
             [
              1,
              "#f0f921"
             ]
            ],
            "type": "surface"
           }
          ],
          "table": [
           {
            "cells": {
             "fill": {
              "color": "#EBF0F8"
             },
             "line": {
              "color": "white"
             }
            },
            "header": {
             "fill": {
              "color": "#C8D4E3"
             },
             "line": {
              "color": "white"
             }
            },
            "type": "table"
           }
          ]
         },
         "layout": {
          "annotationdefaults": {
           "arrowcolor": "#2a3f5f",
           "arrowhead": 0,
           "arrowwidth": 1
          },
          "autotypenumbers": "strict",
          "coloraxis": {
           "colorbar": {
            "outlinewidth": 0,
            "ticks": ""
           }
          },
          "colorscale": {
           "diverging": [
            [
             0,
             "#8e0152"
            ],
            [
             0.1,
             "#c51b7d"
            ],
            [
             0.2,
             "#de77ae"
            ],
            [
             0.3,
             "#f1b6da"
            ],
            [
             0.4,
             "#fde0ef"
            ],
            [
             0.5,
             "#f7f7f7"
            ],
            [
             0.6,
             "#e6f5d0"
            ],
            [
             0.7,
             "#b8e186"
            ],
            [
             0.8,
             "#7fbc41"
            ],
            [
             0.9,
             "#4d9221"
            ],
            [
             1,
             "#276419"
            ]
           ],
           "sequential": [
            [
             0,
             "#0d0887"
            ],
            [
             0.1111111111111111,
             "#46039f"
            ],
            [
             0.2222222222222222,
             "#7201a8"
            ],
            [
             0.3333333333333333,
             "#9c179e"
            ],
            [
             0.4444444444444444,
             "#bd3786"
            ],
            [
             0.5555555555555556,
             "#d8576b"
            ],
            [
             0.6666666666666666,
             "#ed7953"
            ],
            [
             0.7777777777777778,
             "#fb9f3a"
            ],
            [
             0.8888888888888888,
             "#fdca26"
            ],
            [
             1,
             "#f0f921"
            ]
           ],
           "sequentialminus": [
            [
             0,
             "#0d0887"
            ],
            [
             0.1111111111111111,
             "#46039f"
            ],
            [
             0.2222222222222222,
             "#7201a8"
            ],
            [
             0.3333333333333333,
             "#9c179e"
            ],
            [
             0.4444444444444444,
             "#bd3786"
            ],
            [
             0.5555555555555556,
             "#d8576b"
            ],
            [
             0.6666666666666666,
             "#ed7953"
            ],
            [
             0.7777777777777778,
             "#fb9f3a"
            ],
            [
             0.8888888888888888,
             "#fdca26"
            ],
            [
             1,
             "#f0f921"
            ]
           ]
          },
          "colorway": [
           "#636efa",
           "#EF553B",
           "#00cc96",
           "#ab63fa",
           "#FFA15A",
           "#19d3f3",
           "#FF6692",
           "#B6E880",
           "#FF97FF",
           "#FECB52"
          ],
          "font": {
           "color": "#2a3f5f"
          },
          "geo": {
           "bgcolor": "white",
           "lakecolor": "white",
           "landcolor": "#E5ECF6",
           "showlakes": true,
           "showland": true,
           "subunitcolor": "white"
          },
          "hoverlabel": {
           "align": "left"
          },
          "hovermode": "closest",
          "mapbox": {
           "style": "light"
          },
          "paper_bgcolor": "white",
          "plot_bgcolor": "#E5ECF6",
          "polar": {
           "angularaxis": {
            "gridcolor": "white",
            "linecolor": "white",
            "ticks": ""
           },
           "bgcolor": "#E5ECF6",
           "radialaxis": {
            "gridcolor": "white",
            "linecolor": "white",
            "ticks": ""
           }
          },
          "scene": {
           "xaxis": {
            "backgroundcolor": "#E5ECF6",
            "gridcolor": "white",
            "gridwidth": 2,
            "linecolor": "white",
            "showbackground": true,
            "ticks": "",
            "zerolinecolor": "white"
           },
           "yaxis": {
            "backgroundcolor": "#E5ECF6",
            "gridcolor": "white",
            "gridwidth": 2,
            "linecolor": "white",
            "showbackground": true,
            "ticks": "",
            "zerolinecolor": "white"
           },
           "zaxis": {
            "backgroundcolor": "#E5ECF6",
            "gridcolor": "white",
            "gridwidth": 2,
            "linecolor": "white",
            "showbackground": true,
            "ticks": "",
            "zerolinecolor": "white"
           }
          },
          "shapedefaults": {
           "line": {
            "color": "#2a3f5f"
           }
          },
          "ternary": {
           "aaxis": {
            "gridcolor": "white",
            "linecolor": "white",
            "ticks": ""
           },
           "baxis": {
            "gridcolor": "white",
            "linecolor": "white",
            "ticks": ""
           },
           "bgcolor": "#E5ECF6",
           "caxis": {
            "gridcolor": "white",
            "linecolor": "white",
            "ticks": ""
           }
          },
          "title": {
           "x": 0.05
          },
          "xaxis": {
           "automargin": true,
           "gridcolor": "white",
           "linecolor": "white",
           "ticks": "",
           "title": {
            "standoff": 15
           },
           "zerolinecolor": "white",
           "zerolinewidth": 2
          },
          "yaxis": {
           "automargin": true,
           "gridcolor": "white",
           "linecolor": "white",
           "ticks": "",
           "title": {
            "standoff": 15
           },
           "zerolinecolor": "white",
           "zerolinewidth": 2
          }
         }
        },
        "xaxis": {
         "anchor": "y",
         "domain": [
          0,
          1
         ],
         "title": {
          "text": "carries_last"
         }
        },
        "yaxis": {
         "anchor": "x",
         "domain": [
          0,
          1
         ],
         "title": {
          "text": "carries"
         }
        }
       }
      },
      "text/html": [
       "<div>                            <div id=\"243d256f-cbd0-41f9-8774-5753fd9dc3ea\" class=\"plotly-graph-div\" style=\"height:525px; width:100%;\"></div>            <script type=\"text/javascript\">                require([\"plotly\"], function(Plotly) {                    window.PLOTLYENV=window.PLOTLYENV || {};                                    if (document.getElementById(\"243d256f-cbd0-41f9-8774-5753fd9dc3ea\")) {                    Plotly.newPlot(                        \"243d256f-cbd0-41f9-8774-5753fd9dc3ea\",                        [{\"customdata\":[[\"M.Hasselbeck\",2015,39.0],[\"P.Manning\",2013,37.0],[\"P.Manning\",2014,38.0],[\"T.Brady\",2013,36.0],[\"T.Brady\",2014,37.0],[\"T.Brady\",2015,38.0],[\"T.Brady\",2016,39.0],[\"T.Brady\",2017,40.0],[\"T.Brady\",2018,41.0],[\"T.Brady\",2019,42.0],[\"T.Brady\",2020,43.0],[\"T.Brady\",2021,44.0],[\"T.Brady\",2022,45.0],[\"M.Vick\",2013,33.0],[\"M.Vick\",2014,34.0],[\"M.Vick\",2015,35.0],[\"D.Brees\",2013,34.0],[\"D.Brees\",2014,35.0],[\"D.Brees\",2015,36.0],[\"D.Brees\",2016,37.0],[\"D.Brees\",2017,38.0],[\"D.Brees\",2018,39.0],[\"D.Brees\",2019,40.0],[\"D.Brees\",2020,41.0],[\"J.McCown\",2014,35.0],[\"J.McCown\",2015,36.0],[\"J.McCown\",2016,37.0],[\"J.McCown\",2017,38.0],[\"C.Palmer\",2013,33.0],[\"C.Palmer\",2014,34.0],[\"C.Palmer\",2015,35.0],[\"C.Palmer\",2016,36.0],[\"C.Palmer\",2017,37.0],[\"T.Romo\",2013,33.0],[\"T.Romo\",2014,34.0],[\"M.Schaub\",2013,32.0],[\"E.Manning\",2013,32.0],[\"E.Manning\",2018,37.0],[\"E.Manning\",2019,38.0],[\"B.Roethlisberger\",2013,31.0],[\"B.Roethlisberger\",2014,32.0],[\"B.Roethlisberger\",2015,33.0],[\"B.Roethlisberger\",2016,34.0],[\"B.Roethlisberger\",2017,35.0],[\"B.Roethlisberger\",2018,36.0],[\"B.Roethlisberger\",2021,39.0],[\"P.Rivers\",2013,31.0],[\"P.Rivers\",2014,32.0],[\"P.Rivers\",2015,33.0],[\"P.Rivers\",2016,34.0],[\"P.Rivers\",2017,35.0],[\"P.Rivers\",2018,36.0],[\"P.Rivers\",2019,37.0],[\"P.Rivers\",2020,38.0],[\"A.Smith\",2013,29.0],[\"A.Smith\",2014,30.0],[\"A.Smith\",2015,31.0],[\"A.Smith\",2016,32.0],[\"A.Smith\",2017,33.0],[\"A.Smith\",2018,34.0],[\"A.Rodgers\",2013,29.0],[\"A.Rodgers\",2014,30.0],[\"A.Rodgers\",2015,31.0],[\"A.Rodgers\",2016,32.0],[\"A.Rodgers\",2017,33.0],[\"A.Rodgers\",2018,34.0],[\"A.Rodgers\",2019,35.0],[\"A.Rodgers\",2020,36.0],[\"A.Rodgers\",2021,37.0],[\"A.Rodgers\",2022,38.0],[\"D.Anderson\",2014,31.0],[\"D.Anderson\",2015,32.0],[\"M.Cassel\",2013,31.0],[\"M.Cassel\",2014,32.0],[\"M.Cassel\",2015,33.0],[\"R.Fitzpatrick\",2013,30.0],[\"R.Fitzpatrick\",2014,31.0],[\"R.Fitzpatrick\",2015,32.0],[\"R.Fitzpatrick\",2016,33.0],[\"R.Fitzpatrick\",2017,34.0],[\"R.Fitzpatrick\",2018,35.0],[\"R.Fitzpatrick\",2019,36.0],[\"R.Fitzpatrick\",2020,37.0],[\"J.Cutler\",2013,30.0],[\"J.Cutler\",2014,31.0],[\"J.Cutler\",2015,32.0],[\"J.Cutler\",2016,33.0],[\"J.Cutler\",2017,34.0],[\"K.Clemens\",2013,30.0],[\"C.Whitehurst\",2014,32.0],[\"C.Whitehurst\",2015,33.0],[\"M.Ryan\",2013,28.0],[\"M.Ryan\",2014,29.0],[\"M.Ryan\",2015,30.0],[\"M.Ryan\",2016,31.0],[\"M.Ryan\",2017,32.0],[\"M.Ryan\",2018,33.0],[\"M.Ryan\",2019,34.0],[\"M.Ryan\",2020,35.0],[\"M.Ryan\",2021,36.0],[\"M.Ryan\",2022,37.0],[\"J.Flacco\",2013,28.0],[\"J.Flacco\",2014,29.0],[\"J.Flacco\",2015,30.0],[\"J.Flacco\",2016,31.0],[\"J.Flacco\",2017,32.0],[\"J.Flacco\",2018,33.0],[\"J.Flacco\",2019,34.0],[\"J.Flacco\",2020,35.0],[\"J.Flacco\",2021,36.0],[\"J.Flacco\",2022,37.0],[\"C.Henne\",2013,28.0],[\"C.Henne\",2014,29.0],[\"C.Henne\",2021,36.0],[\"J.Johnson\",2022,36.0],[\"M.Stafford\",2013,25.0],[\"M.Stafford\",2014,26.0],[\"M.Stafford\",2015,27.0],[\"M.Stafford\",2016,28.0],[\"M.Stafford\",2017,29.0],[\"M.Stafford\",2018,30.0],[\"M.Stafford\",2019,31.0],[\"M.Stafford\",2020,32.0],[\"M.Stafford\",2021,33.0],[\"M.Stafford\",2022,34.0],[\"C.Daniel\",2013,26.0],[\"C.Daniel\",2014,27.0],[\"C.Daniel\",2019,32.0],[\"B.Hoyer\",2014,28.0],[\"B.Hoyer\",2015,29.0],[\"B.Hoyer\",2016,30.0],[\"B.Hoyer\",2017,31.0],[\"B.Hoyer\",2018,32.0],[\"M.Sanchez\",2015,28.0],[\"J.Freeman\",2013,25.0],[\"J.Clausen\",2015,27.0],[\"C.McCoy\",2021,34.0],[\"C.McCoy\",2022,35.0],[\"S.Bradford\",2013,25.0],[\"S.Bradford\",2016,28.0],[\"C.Newton\",2013,24.0],[\"C.Newton\",2014,25.0],[\"C.Newton\",2015,26.0],[\"C.Newton\",2016,27.0],[\"C.Newton\",2017,28.0],[\"C.Newton\",2018,29.0],[\"C.Newton\",2019,30.0],[\"C.Newton\",2020,31.0],[\"C.Newton\",2021,32.0],[\"J.Locker\",2013,25.0],[\"J.Locker\",2014,26.0],[\"B.Gabbert\",2013,23.0],[\"B.Gabbert\",2016,26.0],[\"B.Gabbert\",2017,27.0],[\"B.Gabbert\",2018,28.0],[\"C.Ponder\",2013,25.0],[\"C.Ponder\",2014,26.0],[\"A.Dalton\",2013,25.0],[\"A.Dalton\",2014,26.0],[\"A.Dalton\",2015,27.0],[\"A.Dalton\",2016,28.0],[\"A.Dalton\",2017,29.0],[\"A.Dalton\",2018,30.0],[\"A.Dalton\",2019,31.0],[\"A.Dalton\",2020,32.0],[\"A.Dalton\",2021,33.0],[\"A.Dalton\",2022,34.0],[\"C.Kaepernick\",2013,25.0],[\"C.Kaepernick\",2014,26.0],[\"C.Kaepernick\",2015,27.0],[\"C.Kaepernick\",2016,28.0],[\"R.Mallett\",2015,27.0],[\"T.Taylor\",2013,24.0],[\"T.Taylor\",2016,27.0],[\"T.Taylor\",2017,28.0],[\"T.Taylor\",2018,29.0],[\"T.Taylor\",2019,30.0],[\"T.Taylor\",2020,31.0],[\"T.Taylor\",2021,32.0],[\"T.Taylor\",2022,33.0],[\"S.Tolzien\",2016,28.0],[\"T.Pryor\",2013,24.0],[\"A.Davis\",2015,26.0],[\"C.Keenum\",2014,26.0],[\"C.Keenum\",2015,27.0],[\"C.Keenum\",2016,28.0],[\"C.Keenum\",2017,29.0],[\"C.Keenum\",2018,30.0],[\"C.Keenum\",2019,31.0],[\"C.Keenum\",2022,34.0],[\"M.Simms\",2014,25.0],[\"R.Wilson\",2013,24.0],[\"R.Wilson\",2014,25.0],[\"R.Wilson\",2015,26.0],[\"R.Wilson\",2016,27.0],[\"R.Wilson\",2017,28.0],[\"R.Wilson\",2018,29.0],[\"R.Wilson\",2019,30.0],[\"R.Wilson\",2020,31.0],[\"R.Wilson\",2021,32.0],[\"R.Wilson\",2022,33.0],[\"N.Foles\",2013,24.0],[\"N.Foles\",2014,25.0],[\"N.Foles\",2015,26.0],[\"N.Foles\",2018,29.0],[\"N.Foles\",2019,30.0],[\"N.Foles\",2020,31.0],[\"N.Foles\",2021,32.0],[\"N.Foles\",2022,33.0],[\"K.Cousins\",2014,26.0],[\"K.Cousins\",2015,27.0],[\"K.Cousins\",2016,28.0],[\"K.Cousins\",2017,29.0],[\"K.Cousins\",2018,30.0],[\"K.Cousins\",2019,31.0],[\"K.Cousins\",2020,32.0],[\"K.Cousins\",2021,33.0],[\"K.Cousins\",2022,34.0],[\"R.Griffin\",2013,23.0],[\"R.Griffin\",2014,24.0],[\"R.Griffin III\",2013,23.0],[\"R.Griffin III\",2014,24.0],[\"R.Griffin III\",2020,30.0],[\"A.Luck\",2013,23.0],[\"A.Luck\",2014,24.0],[\"A.Luck\",2015,25.0],[\"A.Luck\",2016,26.0],[\"B.Weeden\",2013,29.0],[\"B.Weeden\",2014,30.0],[\"B.Osweiler\",2015,24.0],[\"B.Osweiler\",2016,25.0],[\"B.Osweiler\",2017,26.0],[\"B.Osweiler\",2018,27.0],[\"R.Tannehill\",2013,25.0],[\"R.Tannehill\",2014,26.0],[\"R.Tannehill\",2015,27.0],[\"R.Tannehill\",2016,28.0],[\"R.Tannehill\",2019,31.0],[\"R.Tannehill\",2020,32.0],[\"R.Tannehill\",2021,33.0],[\"R.Tannehill\",2022,34.0],[\"M.McGloin\",2014,24.0],[\"M.Glennon\",2014,24.0],[\"M.Glennon\",2020,30.0],[\"M.Glennon\",2021,31.0],[\"E.Manuel\",2014,24.0],[\"E.Manuel\",2015,25.0],[\"E.Manuel\",2016,26.0],[\"E.Manuel\",2017,27.0],[\"M.Barkley\",2019,28.0],[\"G.Smith\",2014,23.0],[\"G.Smith\",2021,30.0],[\"G.Smith\",2022,31.0],[\"D.Fales\",2017,26.0],[\"T.Bridgewater\",2015,22.0],[\"T.Bridgewater\",2019,26.0],[\"T.Bridgewater\",2020,27.0],[\"T.Bridgewater\",2021,28.0],[\"D.Carr\",2015,24.0],[\"D.Carr\",2016,25.0],[\"D.Carr\",2017,26.0],[\"D.Carr\",2018,27.0],[\"D.Carr\",2019,28.0],[\"D.Carr\",2020,29.0],[\"D.Carr\",2021,30.0],[\"D.Carr\",2022,31.0],[\"J.Garoppolo\",2017,25.0],[\"J.Garoppolo\",2018,26.0],[\"J.Garoppolo\",2019,27.0],[\"J.Garoppolo\",2020,28.0],[\"J.Garoppolo\",2021,29.0],[\"J.Garoppolo\",2022,30.0],[\"B.Bortles\",2015,23.0],[\"B.Bortles\",2016,24.0],[\"B.Bortles\",2017,25.0],[\"B.Bortles\",2018,26.0],[\"B.Bortles\",2019,27.0],[\"J.Manziel\",2015,22.0],[\"J.Winston\",2016,22.0],[\"J.Winston\",2017,23.0],[\"J.Winston\",2018,24.0],[\"J.Winston\",2019,25.0],[\"J.Winston\",2022,28.0],[\"B.Hundley\",2017,24.0],[\"T.Heinicke\",2022,29.0],[\"T.Siemian\",2022,30.0],[\"S.Mannion\",2017,25.0],[\"S.Mannion\",2018,26.0],[\"S.Mannion\",2019,27.0],[\"M.Mariota\",2016,22.0],[\"M.Mariota\",2017,23.0],[\"M.Mariota\",2018,24.0],[\"M.Mariota\",2019,25.0],[\"M.Mariota\",2020,26.0],[\"M.Mariota\",2021,27.0],[\"M.Mariota\",2022,28.0],[\"B.Allen\",2020,27.0],[\"B.Allen\",2021,28.0],[\"B.Allen\",2022,29.0],[\"J.Driskel\",2019,26.0],[\"J.Driskel\",2020,27.0],[\"K.Hogan\",2017,24.0],[\"C.Wentz\",2017,24.0],[\"C.Wentz\",2018,25.0],[\"C.Wentz\",2019,26.0],[\"C.Wentz\",2020,27.0],[\"C.Wentz\",2021,28.0],[\"C.Wentz\",2022,29.0],[\"D.Prescott\",2017,24.0],[\"D.Prescott\",2018,25.0],[\"D.Prescott\",2019,26.0],[\"D.Prescott\",2020,27.0],[\"D.Prescott\",2021,28.0],[\"D.Prescott\",2022,29.0],[\"J.Goff\",2017,22.0],[\"J.Goff\",2018,23.0],[\"J.Goff\",2019,24.0],[\"J.Goff\",2020,25.0],[\"J.Goff\",2021,26.0],[\"J.Goff\",2022,27.0],[\"P.Lynch\",2017,23.0],[\"J.Brissett\",2017,24.0],[\"J.Brissett\",2020,27.0],[\"J.Brissett\",2021,28.0],[\"J.Brissett\",2022,29.0],[\"P.Walker\",2021,26.0],[\"P.Walker\",2022,27.0],[\"T.Hill\",2019,29.0],[\"T.Hill\",2020,30.0],[\"T.Hill\",2021,31.0],[\"D.Watson\",2018,22.0],[\"D.Watson\",2019,23.0],[\"D.Watson\",2020,24.0],[\"C.Rush\",2022,28.0],[\"M.Trubisky\",2018,24.0],[\"M.Trubisky\",2019,25.0],[\"M.Trubisky\",2020,26.0],[\"M.Trubisky\",2021,27.0],[\"M.Trubisky\",2022,28.0],[\"P.Mahomes\",2018,22.0],[\"P.Mahomes\",2019,23.0],[\"P.Mahomes\",2020,24.0],[\"P.Mahomes\",2021,25.0],[\"P.Mahomes\",2022,26.0],[\"C.Beathard\",2018,24.0],[\"C.Beathard\",2021,27.0],[\"N.Peterman\",2018,24.0],[\"M.White\",2022,27.0],[\"K.Allen\",2019,23.0],[\"K.Allen\",2020,24.0],[\"K.Allen\",2021,25.0],[\"K.Allen\",2022,26.0],[\"L.Jackson\",2019,22.0],[\"L.Jackson\",2020,23.0],[\"L.Jackson\",2021,24.0],[\"L.Jackson\",2022,25.0],[\"B.Mayfield\",2019,24.0],[\"B.Mayfield\",2020,25.0],[\"B.Mayfield\",2021,26.0],[\"B.Mayfield\",2022,27.0],[\"J.Allen\",2019,23.0],[\"J.Allen\",2020,24.0],[\"J.Allen\",2021,25.0],[\"J.Allen\",2022,26.0],[\"S.Darnold\",2019,22.0],[\"S.Darnold\",2020,23.0],[\"S.Darnold\",2021,24.0],[\"S.Darnold\",2022,25.0],[\"J.Wolford\",2021,25.0],[\"J.Wolford\",2022,26.0],[\"T.McSorley\",2020,25.0],[\"K.Murray\",2020,23.0],[\"K.Murray\",2021,24.0],[\"K.Murray\",2022,25.0],[\"D.Haskins\",2020,23.0],[\"G.Minshew\",2020,24.0],[\"G.Minshew II\",2020,24.0],[\"G.Minshew II\",2021,25.0],[\"G.Minshew II\",2022,26.0],[\"R.Finley\",2020,25.0],[\"D.Lock\",2020,23.0],[\"D.Lock\",2021,24.0],[\"D.Jones\",2020,23.0],[\"D.Jones\",2021,24.0],[\"D.Jones\",2022,25.0],[\"C.Streveler\",2021,26.0],[\"C.Streveler\",2022,27.0],[\"T.Huntley\",2021,23.0],[\"T.Huntley\",2022,24.0],[\"T.Tagovailoa\",2021,23.0],[\"T.Tagovailoa\",2022,24.0],[\"J.Herbert\",2021,23.0],[\"J.Herbert\",2022,24.0],[\"J.Hurts\",2021,23.0],[\"J.Hurts\",2022,24.0],[\"J.Burrow\",2021,24.0],[\"J.Burrow\",2022,25.0],[\"S.Ehlinger\",2022,23.0],[\"D.Mills\",2022,23.0],[\"J.Fields\",2022,23.0],[\"T.Lawrence\",2022,22.0],[\"M.Jones\",2022,23.0],[\"T.Lance\",2022,22.0],[\"Z.Wilson\",2022,23.0]],\"hovertemplate\":\"carries_last=%{x}\\u003cbr\\u003ecarries=%{y}\\u003cbr\\u003erusher=%{customdata[0]}\\u003cbr\\u003eseason=%{customdata[1]}\\u003cbr\\u003eage=%{customdata[2]}\\u003cextra\\u003e\\u003c\\u002fextra\\u003e\",\"legendgroup\":\"\",\"marker\":{\"color\":\"#636efa\",\"symbol\":\"circle\"},\"mode\":\"markers\",\"name\":\"\",\"orientation\":\"v\",\"showlegend\":false,\"x\":[1.0,2.0,10.0,13.0,12.0,14.0,13.0,7.0,8.0,8.0,8.0,9.0,7.0,16.0,14.0,9.0,1.0,4.0,4.0,5.0,8.0,10.0,9.0,2.0,1.0,4.0,7.0,3.0,10.0,1.0,1.0,1.0,6.0,8.0,3.0,3.0,1.0,1.0,7.0,5.0,3.0,10.0,2.0,3.0,3.0,6.0,9.0,11.0,14.0,3.0,3.0,3.0,5.0,4.0,9.0,20.0,7.0,18.0,11.0,19.0,6.0,4.0,6.0,4.0,9.0,2.0,6.0,3.0,5.0,2.0,1.0,4.0,9.0,2.0,2.0,8.0,7.0,9.0,16.0,10.0,3.0,7.0,11.0,1.0,2.0,7.0,16.0,2.0,1.0,3.0,2.0,3.0,1.0,1.0,6.0,9.0,6.0,8.0,4.0,5.0,15.0,18.0,4.0,16.0,11.0,5.0,4.0,9.0,2.0,1.0,1.0,5.0,12.0,4.0,6.0,12.0,16.0,7.0,6.0,3.0,3.0,4.0,5.0,6.0,7.0,1.0,2.0,5.0,1.0,10.0,2.0,2.0,4.0,10.0,11.0,1.0,1.0,8.0,4.0,4.0,82.0,62.0,65.0,91.0,74.0,93.0,63.0,4.0,108.0,10.0,7.0,7.0,2.0,21.0,5.0,6.0,6.0,12.0,18.0,29.0,17.0,15.0,9.0,1.0,15.0,9.0,1.0,33.0,35.0,41.0,17.0,2.0,5.0,41.0,41.0,29.0,6.0,4.0,4.0,3.0,1.0,5.0,2.0,8.0,3.0,3.0,6.0,3.0,6.0,4.0,1.0,34.0,30.0,47.0,29.0,25.0,29.0,22.0,15.0,12.0,14.0,4.0,24.0,6.0,6.0,6.0,2.0,2.0,2.0,2.0,4.0,11.0,13.0,17.0,16.0,13.0,8.0,5.0,3.0,4.0,70.0,44.0,13.0,9.0,5.0,12.0,1.0,8.0,2.0,1.0,8.0,4.0,1.0,21.0,16.0,36.0,19.0,15.0,12.0,17.0,26.0,3.0,6.0,2.0,2.0,16.0,3.0,13.0,5.0,1.0,31.0,2.0,3.0,1.0,7.0,1.0,4.0,8.0,12.0,4.0,6.0,3.0,6.0,6.0,8.0,14.0,1.0,4.0,2.0,16.0,3.0,19.0,33.0,18.0,19.0,22.0,13.0,3.0,7.0,9.0,5.0,9.0,7.0,1.0,11.0,2.0,1.0,4.0,1.0,19.0,27.0,25.0,25.0,9.0,5.0,13.0,2.0,6.0,2.0,10.0,9.0,5.0,17.0,22.0,9.0,29.0,30.0,20.0,17.0,19.0,31.0,22.0,10.0,15.0,2.0,4.0,7.0,12.0,12.0,6.0,1.0,7.0,15.0,10.0,5.0,2.0,4.0,36.0,26.0,70.0,17.0,32.0,28.0,1.0,16.0,21.0,20.0,16.0,2.0,3.0,21.0,7.0,8.0,5.0,11.0,4.0,3.0,2.0,2.0,8.0,1.0,2.0,116.0,123.0,102.0,77.0,9.0,8.0,14.0,4.0,36.0,53.0,51.0,67.0,17.0,9.0,4.0,17.0,4.0,1.0,1.0,56.0,75.0,51.0,7.0,1.0,4.0,2.0,3.0,3.0,3.0,15.0,14.0,29.0,32.0,3.0,2.0,7.0,18.0,11.0,10.0,21.0,14.0,38.0,77.0,17.0,13.0,2.0,6.0,20.0,34.0,21.0,25.0,10.0],\"xaxis\":\"x\",\"y\":[1.0,10.0,7.0,12.0,14.0,13.0,7.0,8.0,8.0,8.0,9.0,7.0,8.0,14.0,9.0,3.0,4.0,4.0,5.0,8.0,10.0,9.0,2.0,4.0,4.0,7.0,3.0,9.0,1.0,1.0,1.0,6.0,7.0,3.0,3.0,1.0,4.0,7.0,2.0,3.0,10.0,2.0,3.0,3.0,7.0,4.0,11.0,14.0,3.0,3.0,3.0,5.0,4.0,1.0,20.0,7.0,18.0,11.0,19.0,15.0,4.0,6.0,4.0,9.0,2.0,6.0,3.0,5.0,2.0,6.0,4.0,3.0,2.0,2.0,3.0,7.0,9.0,16.0,10.0,3.0,7.0,11.0,9.0,2.0,7.0,16.0,2.0,4.0,7.0,2.0,1.0,1.0,1.0,6.0,9.0,6.0,8.0,4.0,5.0,15.0,11.0,4.0,16.0,11.0,5.0,4.0,9.0,2.0,1.0,1.0,1.0,12.0,2.0,2.0,1.0,16.0,7.0,6.0,3.0,3.0,4.0,5.0,6.0,7.0,2.0,2.0,1.0,4.0,10.0,2.0,2.0,4.0,1.0,3.0,3.0,1.0,8.0,5.0,2.0,1.0,62.0,65.0,91.0,74.0,93.0,63.0,4.0,108.0,41.0,7.0,1.0,2.0,21.0,5.0,2.0,6.0,1.0,18.0,29.0,17.0,15.0,9.0,1.0,15.0,9.0,1.0,7.0,35.0,41.0,17.0,29.0,1.0,5.0,41.0,29.0,6.0,4.0,4.0,3.0,1.0,2.0,45.0,3.0,3.0,3.0,6.0,3.0,6.0,3.0,1.0,1.0,30.0,47.0,29.0,25.0,29.0,22.0,15.0,12.0,14.0,20.0,24.0,6.0,5.0,6.0,2.0,2.0,2.0,1.0,4.0,11.0,13.0,17.0,16.0,13.0,8.0,5.0,9.0,4.0,3.0,44.0,16.0,8.0,5.0,12.0,1.0,8.0,2.0,4.0,8.0,4.0,1.0,2.0,16.0,36.0,19.0,21.0,12.0,17.0,26.0,10.0,1.0,2.0,2.0,2.0,3.0,13.0,5.0,1.0,2.0,25.0,3.0,23.0,2.0,8.0,4.0,8.0,9.0,4.0,6.0,3.0,6.0,6.0,8.0,14.0,5.0,4.0,2.0,16.0,3.0,19.0,15.0,18.0,19.0,22.0,13.0,2.0,7.0,9.0,5.0,9.0,14.0,2.0,12.0,10.0,2.0,4.0,1.0,1.0,27.0,25.0,25.0,9.0,5.0,13.0,48.0,6.0,2.0,1.0,9.0,3.0,5.0,22.0,9.0,29.0,30.0,20.0,6.0,19.0,31.0,22.0,10.0,15.0,21.0,4.0,7.0,12.0,12.0,6.0,5.0,1.0,13.0,10.0,5.0,21.0,4.0,3.0,26.0,70.0,53.0,32.0,28.0,18.0,2.0,21.0,20.0,16.0,2.0,10.0,21.0,7.0,8.0,5.0,7.0,8.0,1.0,2.0,3.0,8.0,1.0,2.0,4.0,123.0,102.0,77.0,73.0,8.0,14.0,4.0,10.0,53.0,51.0,67.0,57.0,9.0,4.0,17.0,14.0,1.0,3.0,4.0,75.0,51.0,36.0,7.0,1.0,2.0,3.0,2.0,8.0,15.0,3.0,29.0,32.0,53.0,2.0,5.0,18.0,25.0,10.0,4.0,14.0,15.0,77.0,103.0,13.0,26.0,5.0,7.0,85.0,31.0,11.0,12.0,7.0],\"yaxis\":\"y\",\"type\":\"scatter\"}],                        {\"template\":{\"data\":{\"histogram2dcontour\":[{\"type\":\"histogram2dcontour\",\"colorbar\":{\"outlinewidth\":0,\"ticks\":\"\"},\"colorscale\":[[0.0,\"#0d0887\"],[0.1111111111111111,\"#46039f\"],[0.2222222222222222,\"#7201a8\"],[0.3333333333333333,\"#9c179e\"],[0.4444444444444444,\"#bd3786\"],[0.5555555555555556,\"#d8576b\"],[0.6666666666666666,\"#ed7953\"],[0.7777777777777778,\"#fb9f3a\"],[0.8888888888888888,\"#fdca26\"],[1.0,\"#f0f921\"]]}],\"choropleth\":[{\"type\":\"choropleth\",\"colorbar\":{\"outlinewidth\":0,\"ticks\":\"\"}}],\"histogram2d\":[{\"type\":\"histogram2d\",\"colorbar\":{\"outlinewidth\":0,\"ticks\":\"\"},\"colorscale\":[[0.0,\"#0d0887\"],[0.1111111111111111,\"#46039f\"],[0.2222222222222222,\"#7201a8\"],[0.3333333333333333,\"#9c179e\"],[0.4444444444444444,\"#bd3786\"],[0.5555555555555556,\"#d8576b\"],[0.6666666666666666,\"#ed7953\"],[0.7777777777777778,\"#fb9f3a\"],[0.8888888888888888,\"#fdca26\"],[1.0,\"#f0f921\"]]}],\"heatmap\":[{\"type\":\"heatmap\",\"colorbar\":{\"outlinewidth\":0,\"ticks\":\"\"},\"colorscale\":[[0.0,\"#0d0887\"],[0.1111111111111111,\"#46039f\"],[0.2222222222222222,\"#7201a8\"],[0.3333333333333333,\"#9c179e\"],[0.4444444444444444,\"#bd3786\"],[0.5555555555555556,\"#d8576b\"],[0.6666666666666666,\"#ed7953\"],[0.7777777777777778,\"#fb9f3a\"],[0.8888888888888888,\"#fdca26\"],[1.0,\"#f0f921\"]]}],\"heatmapgl\":[{\"type\":\"heatmapgl\",\"colorbar\":{\"outlinewidth\":0,\"ticks\":\"\"},\"colorscale\":[[0.0,\"#0d0887\"],[0.1111111111111111,\"#46039f\"],[0.2222222222222222,\"#7201a8\"],[0.3333333333333333,\"#9c179e\"],[0.4444444444444444,\"#bd3786\"],[0.5555555555555556,\"#d8576b\"],[0.6666666666666666,\"#ed7953\"],[0.7777777777777778,\"#fb9f3a\"],[0.8888888888888888,\"#fdca26\"],[1.0,\"#f0f921\"]]}],\"contourcarpet\":[{\"type\":\"contourcarpet\",\"colorbar\":{\"outlinewidth\":0,\"ticks\":\"\"}}],\"contour\":[{\"type\":\"contour\",\"colorbar\":{\"outlinewidth\":0,\"ticks\":\"\"},\"colorscale\":[[0.0,\"#0d0887\"],[0.1111111111111111,\"#46039f\"],[0.2222222222222222,\"#7201a8\"],[0.3333333333333333,\"#9c179e\"],[0.4444444444444444,\"#bd3786\"],[0.5555555555555556,\"#d8576b\"],[0.6666666666666666,\"#ed7953\"],[0.7777777777777778,\"#fb9f3a\"],[0.8888888888888888,\"#fdca26\"],[1.0,\"#f0f921\"]]}],\"surface\":[{\"type\":\"surface\",\"colorbar\":{\"outlinewidth\":0,\"ticks\":\"\"},\"colorscale\":[[0.0,\"#0d0887\"],[0.1111111111111111,\"#46039f\"],[0.2222222222222222,\"#7201a8\"],[0.3333333333333333,\"#9c179e\"],[0.4444444444444444,\"#bd3786\"],[0.5555555555555556,\"#d8576b\"],[0.6666666666666666,\"#ed7953\"],[0.7777777777777778,\"#fb9f3a\"],[0.8888888888888888,\"#fdca26\"],[1.0,\"#f0f921\"]]}],\"mesh3d\":[{\"type\":\"mesh3d\",\"colorbar\":{\"outlinewidth\":0,\"ticks\":\"\"}}],\"scatter\":[{\"fillpattern\":{\"fillmode\":\"overlay\",\"size\":10,\"solidity\":0.2},\"type\":\"scatter\"}],\"parcoords\":[{\"type\":\"parcoords\",\"line\":{\"colorbar\":{\"outlinewidth\":0,\"ticks\":\"\"}}}],\"scatterpolargl\":[{\"type\":\"scatterpolargl\",\"marker\":{\"colorbar\":{\"outlinewidth\":0,\"ticks\":\"\"}}}],\"bar\":[{\"error_x\":{\"color\":\"#2a3f5f\"},\"error_y\":{\"color\":\"#2a3f5f\"},\"marker\":{\"line\":{\"color\":\"#E5ECF6\",\"width\":0.5},\"pattern\":{\"fillmode\":\"overlay\",\"size\":10,\"solidity\":0.2}},\"type\":\"bar\"}],\"scattergeo\":[{\"type\":\"scattergeo\",\"marker\":{\"colorbar\":{\"outlinewidth\":0,\"ticks\":\"\"}}}],\"scatterpolar\":[{\"type\":\"scatterpolar\",\"marker\":{\"colorbar\":{\"outlinewidth\":0,\"ticks\":\"\"}}}],\"histogram\":[{\"marker\":{\"pattern\":{\"fillmode\":\"overlay\",\"size\":10,\"solidity\":0.2}},\"type\":\"histogram\"}],\"scattergl\":[{\"type\":\"scattergl\",\"marker\":{\"colorbar\":{\"outlinewidth\":0,\"ticks\":\"\"}}}],\"scatter3d\":[{\"type\":\"scatter3d\",\"line\":{\"colorbar\":{\"outlinewidth\":0,\"ticks\":\"\"}},\"marker\":{\"colorbar\":{\"outlinewidth\":0,\"ticks\":\"\"}}}],\"scattermapbox\":[{\"type\":\"scattermapbox\",\"marker\":{\"colorbar\":{\"outlinewidth\":0,\"ticks\":\"\"}}}],\"scatterternary\":[{\"type\":\"scatterternary\",\"marker\":{\"colorbar\":{\"outlinewidth\":0,\"ticks\":\"\"}}}],\"scattercarpet\":[{\"type\":\"scattercarpet\",\"marker\":{\"colorbar\":{\"outlinewidth\":0,\"ticks\":\"\"}}}],\"carpet\":[{\"aaxis\":{\"endlinecolor\":\"#2a3f5f\",\"gridcolor\":\"white\",\"linecolor\":\"white\",\"minorgridcolor\":\"white\",\"startlinecolor\":\"#2a3f5f\"},\"baxis\":{\"endlinecolor\":\"#2a3f5f\",\"gridcolor\":\"white\",\"linecolor\":\"white\",\"minorgridcolor\":\"white\",\"startlinecolor\":\"#2a3f5f\"},\"type\":\"carpet\"}],\"table\":[{\"cells\":{\"fill\":{\"color\":\"#EBF0F8\"},\"line\":{\"color\":\"white\"}},\"header\":{\"fill\":{\"color\":\"#C8D4E3\"},\"line\":{\"color\":\"white\"}},\"type\":\"table\"}],\"barpolar\":[{\"marker\":{\"line\":{\"color\":\"#E5ECF6\",\"width\":0.5},\"pattern\":{\"fillmode\":\"overlay\",\"size\":10,\"solidity\":0.2}},\"type\":\"barpolar\"}],\"pie\":[{\"automargin\":true,\"type\":\"pie\"}]},\"layout\":{\"autotypenumbers\":\"strict\",\"colorway\":[\"#636efa\",\"#EF553B\",\"#00cc96\",\"#ab63fa\",\"#FFA15A\",\"#19d3f3\",\"#FF6692\",\"#B6E880\",\"#FF97FF\",\"#FECB52\"],\"font\":{\"color\":\"#2a3f5f\"},\"hovermode\":\"closest\",\"hoverlabel\":{\"align\":\"left\"},\"paper_bgcolor\":\"white\",\"plot_bgcolor\":\"#E5ECF6\",\"polar\":{\"bgcolor\":\"#E5ECF6\",\"angularaxis\":{\"gridcolor\":\"white\",\"linecolor\":\"white\",\"ticks\":\"\"},\"radialaxis\":{\"gridcolor\":\"white\",\"linecolor\":\"white\",\"ticks\":\"\"}},\"ternary\":{\"bgcolor\":\"#E5ECF6\",\"aaxis\":{\"gridcolor\":\"white\",\"linecolor\":\"white\",\"ticks\":\"\"},\"baxis\":{\"gridcolor\":\"white\",\"linecolor\":\"white\",\"ticks\":\"\"},\"caxis\":{\"gridcolor\":\"white\",\"linecolor\":\"white\",\"ticks\":\"\"}},\"coloraxis\":{\"colorbar\":{\"outlinewidth\":0,\"ticks\":\"\"}},\"colorscale\":{\"sequential\":[[0.0,\"#0d0887\"],[0.1111111111111111,\"#46039f\"],[0.2222222222222222,\"#7201a8\"],[0.3333333333333333,\"#9c179e\"],[0.4444444444444444,\"#bd3786\"],[0.5555555555555556,\"#d8576b\"],[0.6666666666666666,\"#ed7953\"],[0.7777777777777778,\"#fb9f3a\"],[0.8888888888888888,\"#fdca26\"],[1.0,\"#f0f921\"]],\"sequentialminus\":[[0.0,\"#0d0887\"],[0.1111111111111111,\"#46039f\"],[0.2222222222222222,\"#7201a8\"],[0.3333333333333333,\"#9c179e\"],[0.4444444444444444,\"#bd3786\"],[0.5555555555555556,\"#d8576b\"],[0.6666666666666666,\"#ed7953\"],[0.7777777777777778,\"#fb9f3a\"],[0.8888888888888888,\"#fdca26\"],[1.0,\"#f0f921\"]],\"diverging\":[[0,\"#8e0152\"],[0.1,\"#c51b7d\"],[0.2,\"#de77ae\"],[0.3,\"#f1b6da\"],[0.4,\"#fde0ef\"],[0.5,\"#f7f7f7\"],[0.6,\"#e6f5d0\"],[0.7,\"#b8e186\"],[0.8,\"#7fbc41\"],[0.9,\"#4d9221\"],[1,\"#276419\"]]},\"xaxis\":{\"gridcolor\":\"white\",\"linecolor\":\"white\",\"ticks\":\"\",\"title\":{\"standoff\":15},\"zerolinecolor\":\"white\",\"automargin\":true,\"zerolinewidth\":2},\"yaxis\":{\"gridcolor\":\"white\",\"linecolor\":\"white\",\"ticks\":\"\",\"title\":{\"standoff\":15},\"zerolinecolor\":\"white\",\"automargin\":true,\"zerolinewidth\":2},\"scene\":{\"xaxis\":{\"backgroundcolor\":\"#E5ECF6\",\"gridcolor\":\"white\",\"linecolor\":\"white\",\"showbackground\":true,\"ticks\":\"\",\"zerolinecolor\":\"white\",\"gridwidth\":2},\"yaxis\":{\"backgroundcolor\":\"#E5ECF6\",\"gridcolor\":\"white\",\"linecolor\":\"white\",\"showbackground\":true,\"ticks\":\"\",\"zerolinecolor\":\"white\",\"gridwidth\":2},\"zaxis\":{\"backgroundcolor\":\"#E5ECF6\",\"gridcolor\":\"white\",\"linecolor\":\"white\",\"showbackground\":true,\"ticks\":\"\",\"zerolinecolor\":\"white\",\"gridwidth\":2}},\"shapedefaults\":{\"line\":{\"color\":\"#2a3f5f\"}},\"annotationdefaults\":{\"arrowcolor\":\"#2a3f5f\",\"arrowhead\":0,\"arrowwidth\":1},\"geo\":{\"bgcolor\":\"white\",\"landcolor\":\"#E5ECF6\",\"subunitcolor\":\"white\",\"showland\":true,\"showlakes\":true,\"lakecolor\":\"white\"},\"title\":{\"x\":0.05},\"mapbox\":{\"style\":\"light\"}}},\"xaxis\":{\"anchor\":\"y\",\"domain\":[0.0,1.0],\"title\":{\"text\":\"carries_last\"}},\"yaxis\":{\"anchor\":\"x\",\"domain\":[0.0,1.0],\"title\":{\"text\":\"carries\"}},\"legend\":{\"tracegroupgap\":0},\"margin\":{\"t\":60}},                        {\"responsive\": true}                    ).then(function(){\n",
       "                            \n",
       "var gd = document.getElementById('243d256f-cbd0-41f9-8774-5753fd9dc3ea');\n",
       "var x = new MutationObserver(function (mutations, observer) {{\n",
       "        var display = window.getComputedStyle(gd).display;\n",
       "        if (!display || display === 'none') {{\n",
       "            console.log([gd, 'removed!']);\n",
       "            Plotly.purge(gd);\n",
       "            observer.disconnect();\n",
       "        }}\n",
       "}});\n",
       "\n",
       "// Listen for the removal of the full notebook cells\n",
       "var notebookContainer = gd.closest('#notebook-container');\n",
       "if (notebookContainer) {{\n",
       "    x.observe(notebookContainer, {childList: true});\n",
       "}}\n",
       "\n",
       "// Listen for the clearing of the current output cell\n",
       "var outputEl = gd.closest('.output');\n",
       "if (outputEl) {{\n",
       "    x.observe(outputEl, {childList: true});\n",
       "}}\n",
       "\n",
       "                        })                };                });            </script>        </div>"
      ]
     },
     "metadata": {},
     "output_type": "display_data"
    }
   ],
   "source": [
    "query = \"position == 'QB'\"\n",
    "create_corr_for_fantasy_relevance(query=query, title=\"fantasy-relevance-unfiltered-qb\")"
   ]
  },
  {
   "cell_type": "markdown",
   "id": "1208215c",
   "metadata": {},
   "source": [
    "### 20 Carries"
   ]
  },
  {
   "cell_type": "code",
   "execution_count": 154,
   "id": "fc1a7f63",
   "metadata": {},
   "outputs": [
    {
     "data": {
      "text/plain": [
       "['rushing_yards', 'successful_plays', 'carries']"
      ]
     },
     "execution_count": 154,
     "metadata": {},
     "output_type": "execute_result"
    }
   ],
   "source": [
    "sort_corr(df.query(\"position == 'QB' and carries > 20 and carries_last > 20\"))"
   ]
  },
  {
   "cell_type": "code",
   "execution_count": 155,
   "id": "82357cbc",
   "metadata": {},
   "outputs": [
    {
     "data": {
      "application/vnd.plotly.v1+json": {
       "config": {
        "plotlyServerURL": "https://plot.ly"
       },
       "data": [
        {
         "coloraxis": "coloraxis",
         "hovertemplate": "Current Season Stats: %{x}<br>Previous Season Stats: %{y}<br>color: %{z}<extra></extra>",
         "name": "0",
         "texttemplate": "%{z}",
         "type": "heatmap",
         "x": [
          "successful_plays",
          "rushing_yards",
          "carries"
         ],
         "xaxis": "x",
         "y": [
          "fantasy_points",
          "fantasy_points_last"
         ],
         "yaxis": "y",
         "z": [
          [
           0.45,
           0.42,
           0.44
          ],
          [
           0.01,
           0.04,
           0.07
          ]
         ]
        }
       ],
       "layout": {
        "coloraxis": {
         "colorscale": [
          [
           0,
           "#0d0887"
          ],
          [
           0.1111111111111111,
           "#46039f"
          ],
          [
           0.2222222222222222,
           "#7201a8"
          ],
          [
           0.3333333333333333,
           "#9c179e"
          ],
          [
           0.4444444444444444,
           "#bd3786"
          ],
          [
           0.5555555555555556,
           "#d8576b"
          ],
          [
           0.6666666666666666,
           "#ed7953"
          ],
          [
           0.7777777777777778,
           "#fb9f3a"
          ],
          [
           0.8888888888888888,
           "#fdca26"
          ],
          [
           1,
           "#f0f921"
          ]
         ]
        },
        "margin": {
         "t": 60
        },
        "template": {
         "data": {
          "bar": [
           {
            "error_x": {
             "color": "#2a3f5f"
            },
            "error_y": {
             "color": "#2a3f5f"
            },
            "marker": {
             "line": {
              "color": "#E5ECF6",
              "width": 0.5
             },
             "pattern": {
              "fillmode": "overlay",
              "size": 10,
              "solidity": 0.2
             }
            },
            "type": "bar"
           }
          ],
          "barpolar": [
           {
            "marker": {
             "line": {
              "color": "#E5ECF6",
              "width": 0.5
             },
             "pattern": {
              "fillmode": "overlay",
              "size": 10,
              "solidity": 0.2
             }
            },
            "type": "barpolar"
           }
          ],
          "carpet": [
           {
            "aaxis": {
             "endlinecolor": "#2a3f5f",
             "gridcolor": "white",
             "linecolor": "white",
             "minorgridcolor": "white",
             "startlinecolor": "#2a3f5f"
            },
            "baxis": {
             "endlinecolor": "#2a3f5f",
             "gridcolor": "white",
             "linecolor": "white",
             "minorgridcolor": "white",
             "startlinecolor": "#2a3f5f"
            },
            "type": "carpet"
           }
          ],
          "choropleth": [
           {
            "colorbar": {
             "outlinewidth": 0,
             "ticks": ""
            },
            "type": "choropleth"
           }
          ],
          "contour": [
           {
            "colorbar": {
             "outlinewidth": 0,
             "ticks": ""
            },
            "colorscale": [
             [
              0,
              "#0d0887"
             ],
             [
              0.1111111111111111,
              "#46039f"
             ],
             [
              0.2222222222222222,
              "#7201a8"
             ],
             [
              0.3333333333333333,
              "#9c179e"
             ],
             [
              0.4444444444444444,
              "#bd3786"
             ],
             [
              0.5555555555555556,
              "#d8576b"
             ],
             [
              0.6666666666666666,
              "#ed7953"
             ],
             [
              0.7777777777777778,
              "#fb9f3a"
             ],
             [
              0.8888888888888888,
              "#fdca26"
             ],
             [
              1,
              "#f0f921"
             ]
            ],
            "type": "contour"
           }
          ],
          "contourcarpet": [
           {
            "colorbar": {
             "outlinewidth": 0,
             "ticks": ""
            },
            "type": "contourcarpet"
           }
          ],
          "heatmap": [
           {
            "colorbar": {
             "outlinewidth": 0,
             "ticks": ""
            },
            "colorscale": [
             [
              0,
              "#0d0887"
             ],
             [
              0.1111111111111111,
              "#46039f"
             ],
             [
              0.2222222222222222,
              "#7201a8"
             ],
             [
              0.3333333333333333,
              "#9c179e"
             ],
             [
              0.4444444444444444,
              "#bd3786"
             ],
             [
              0.5555555555555556,
              "#d8576b"
             ],
             [
              0.6666666666666666,
              "#ed7953"
             ],
             [
              0.7777777777777778,
              "#fb9f3a"
             ],
             [
              0.8888888888888888,
              "#fdca26"
             ],
             [
              1,
              "#f0f921"
             ]
            ],
            "type": "heatmap"
           }
          ],
          "heatmapgl": [
           {
            "colorbar": {
             "outlinewidth": 0,
             "ticks": ""
            },
            "colorscale": [
             [
              0,
              "#0d0887"
             ],
             [
              0.1111111111111111,
              "#46039f"
             ],
             [
              0.2222222222222222,
              "#7201a8"
             ],
             [
              0.3333333333333333,
              "#9c179e"
             ],
             [
              0.4444444444444444,
              "#bd3786"
             ],
             [
              0.5555555555555556,
              "#d8576b"
             ],
             [
              0.6666666666666666,
              "#ed7953"
             ],
             [
              0.7777777777777778,
              "#fb9f3a"
             ],
             [
              0.8888888888888888,
              "#fdca26"
             ],
             [
              1,
              "#f0f921"
             ]
            ],
            "type": "heatmapgl"
           }
          ],
          "histogram": [
           {
            "marker": {
             "pattern": {
              "fillmode": "overlay",
              "size": 10,
              "solidity": 0.2
             }
            },
            "type": "histogram"
           }
          ],
          "histogram2d": [
           {
            "colorbar": {
             "outlinewidth": 0,
             "ticks": ""
            },
            "colorscale": [
             [
              0,
              "#0d0887"
             ],
             [
              0.1111111111111111,
              "#46039f"
             ],
             [
              0.2222222222222222,
              "#7201a8"
             ],
             [
              0.3333333333333333,
              "#9c179e"
             ],
             [
              0.4444444444444444,
              "#bd3786"
             ],
             [
              0.5555555555555556,
              "#d8576b"
             ],
             [
              0.6666666666666666,
              "#ed7953"
             ],
             [
              0.7777777777777778,
              "#fb9f3a"
             ],
             [
              0.8888888888888888,
              "#fdca26"
             ],
             [
              1,
              "#f0f921"
             ]
            ],
            "type": "histogram2d"
           }
          ],
          "histogram2dcontour": [
           {
            "colorbar": {
             "outlinewidth": 0,
             "ticks": ""
            },
            "colorscale": [
             [
              0,
              "#0d0887"
             ],
             [
              0.1111111111111111,
              "#46039f"
             ],
             [
              0.2222222222222222,
              "#7201a8"
             ],
             [
              0.3333333333333333,
              "#9c179e"
             ],
             [
              0.4444444444444444,
              "#bd3786"
             ],
             [
              0.5555555555555556,
              "#d8576b"
             ],
             [
              0.6666666666666666,
              "#ed7953"
             ],
             [
              0.7777777777777778,
              "#fb9f3a"
             ],
             [
              0.8888888888888888,
              "#fdca26"
             ],
             [
              1,
              "#f0f921"
             ]
            ],
            "type": "histogram2dcontour"
           }
          ],
          "mesh3d": [
           {
            "colorbar": {
             "outlinewidth": 0,
             "ticks": ""
            },
            "type": "mesh3d"
           }
          ],
          "parcoords": [
           {
            "line": {
             "colorbar": {
              "outlinewidth": 0,
              "ticks": ""
             }
            },
            "type": "parcoords"
           }
          ],
          "pie": [
           {
            "automargin": true,
            "type": "pie"
           }
          ],
          "scatter": [
           {
            "fillpattern": {
             "fillmode": "overlay",
             "size": 10,
             "solidity": 0.2
            },
            "type": "scatter"
           }
          ],
          "scatter3d": [
           {
            "line": {
             "colorbar": {
              "outlinewidth": 0,
              "ticks": ""
             }
            },
            "marker": {
             "colorbar": {
              "outlinewidth": 0,
              "ticks": ""
             }
            },
            "type": "scatter3d"
           }
          ],
          "scattercarpet": [
           {
            "marker": {
             "colorbar": {
              "outlinewidth": 0,
              "ticks": ""
             }
            },
            "type": "scattercarpet"
           }
          ],
          "scattergeo": [
           {
            "marker": {
             "colorbar": {
              "outlinewidth": 0,
              "ticks": ""
             }
            },
            "type": "scattergeo"
           }
          ],
          "scattergl": [
           {
            "marker": {
             "colorbar": {
              "outlinewidth": 0,
              "ticks": ""
             }
            },
            "type": "scattergl"
           }
          ],
          "scattermapbox": [
           {
            "marker": {
             "colorbar": {
              "outlinewidth": 0,
              "ticks": ""
             }
            },
            "type": "scattermapbox"
           }
          ],
          "scatterpolar": [
           {
            "marker": {
             "colorbar": {
              "outlinewidth": 0,
              "ticks": ""
             }
            },
            "type": "scatterpolar"
           }
          ],
          "scatterpolargl": [
           {
            "marker": {
             "colorbar": {
              "outlinewidth": 0,
              "ticks": ""
             }
            },
            "type": "scatterpolargl"
           }
          ],
          "scatterternary": [
           {
            "marker": {
             "colorbar": {
              "outlinewidth": 0,
              "ticks": ""
             }
            },
            "type": "scatterternary"
           }
          ],
          "surface": [
           {
            "colorbar": {
             "outlinewidth": 0,
             "ticks": ""
            },
            "colorscale": [
             [
              0,
              "#0d0887"
             ],
             [
              0.1111111111111111,
              "#46039f"
             ],
             [
              0.2222222222222222,
              "#7201a8"
             ],
             [
              0.3333333333333333,
              "#9c179e"
             ],
             [
              0.4444444444444444,
              "#bd3786"
             ],
             [
              0.5555555555555556,
              "#d8576b"
             ],
             [
              0.6666666666666666,
              "#ed7953"
             ],
             [
              0.7777777777777778,
              "#fb9f3a"
             ],
             [
              0.8888888888888888,
              "#fdca26"
             ],
             [
              1,
              "#f0f921"
             ]
            ],
            "type": "surface"
           }
          ],
          "table": [
           {
            "cells": {
             "fill": {
              "color": "#EBF0F8"
             },
             "line": {
              "color": "white"
             }
            },
            "header": {
             "fill": {
              "color": "#C8D4E3"
             },
             "line": {
              "color": "white"
             }
            },
            "type": "table"
           }
          ]
         },
         "layout": {
          "annotationdefaults": {
           "arrowcolor": "#2a3f5f",
           "arrowhead": 0,
           "arrowwidth": 1
          },
          "autotypenumbers": "strict",
          "coloraxis": {
           "colorbar": {
            "outlinewidth": 0,
            "ticks": ""
           }
          },
          "colorscale": {
           "diverging": [
            [
             0,
             "#8e0152"
            ],
            [
             0.1,
             "#c51b7d"
            ],
            [
             0.2,
             "#de77ae"
            ],
            [
             0.3,
             "#f1b6da"
            ],
            [
             0.4,
             "#fde0ef"
            ],
            [
             0.5,
             "#f7f7f7"
            ],
            [
             0.6,
             "#e6f5d0"
            ],
            [
             0.7,
             "#b8e186"
            ],
            [
             0.8,
             "#7fbc41"
            ],
            [
             0.9,
             "#4d9221"
            ],
            [
             1,
             "#276419"
            ]
           ],
           "sequential": [
            [
             0,
             "#0d0887"
            ],
            [
             0.1111111111111111,
             "#46039f"
            ],
            [
             0.2222222222222222,
             "#7201a8"
            ],
            [
             0.3333333333333333,
             "#9c179e"
            ],
            [
             0.4444444444444444,
             "#bd3786"
            ],
            [
             0.5555555555555556,
             "#d8576b"
            ],
            [
             0.6666666666666666,
             "#ed7953"
            ],
            [
             0.7777777777777778,
             "#fb9f3a"
            ],
            [
             0.8888888888888888,
             "#fdca26"
            ],
            [
             1,
             "#f0f921"
            ]
           ],
           "sequentialminus": [
            [
             0,
             "#0d0887"
            ],
            [
             0.1111111111111111,
             "#46039f"
            ],
            [
             0.2222222222222222,
             "#7201a8"
            ],
            [
             0.3333333333333333,
             "#9c179e"
            ],
            [
             0.4444444444444444,
             "#bd3786"
            ],
            [
             0.5555555555555556,
             "#d8576b"
            ],
            [
             0.6666666666666666,
             "#ed7953"
            ],
            [
             0.7777777777777778,
             "#fb9f3a"
            ],
            [
             0.8888888888888888,
             "#fdca26"
            ],
            [
             1,
             "#f0f921"
            ]
           ]
          },
          "colorway": [
           "#636efa",
           "#EF553B",
           "#00cc96",
           "#ab63fa",
           "#FFA15A",
           "#19d3f3",
           "#FF6692",
           "#B6E880",
           "#FF97FF",
           "#FECB52"
          ],
          "font": {
           "color": "#2a3f5f"
          },
          "geo": {
           "bgcolor": "white",
           "lakecolor": "white",
           "landcolor": "#E5ECF6",
           "showlakes": true,
           "showland": true,
           "subunitcolor": "white"
          },
          "hoverlabel": {
           "align": "left"
          },
          "hovermode": "closest",
          "mapbox": {
           "style": "light"
          },
          "paper_bgcolor": "white",
          "plot_bgcolor": "#E5ECF6",
          "polar": {
           "angularaxis": {
            "gridcolor": "white",
            "linecolor": "white",
            "ticks": ""
           },
           "bgcolor": "#E5ECF6",
           "radialaxis": {
            "gridcolor": "white",
            "linecolor": "white",
            "ticks": ""
           }
          },
          "scene": {
           "xaxis": {
            "backgroundcolor": "#E5ECF6",
            "gridcolor": "white",
            "gridwidth": 2,
            "linecolor": "white",
            "showbackground": true,
            "ticks": "",
            "zerolinecolor": "white"
           },
           "yaxis": {
            "backgroundcolor": "#E5ECF6",
            "gridcolor": "white",
            "gridwidth": 2,
            "linecolor": "white",
            "showbackground": true,
            "ticks": "",
            "zerolinecolor": "white"
           },
           "zaxis": {
            "backgroundcolor": "#E5ECF6",
            "gridcolor": "white",
            "gridwidth": 2,
            "linecolor": "white",
            "showbackground": true,
            "ticks": "",
            "zerolinecolor": "white"
           }
          },
          "shapedefaults": {
           "line": {
            "color": "#2a3f5f"
           }
          },
          "ternary": {
           "aaxis": {
            "gridcolor": "white",
            "linecolor": "white",
            "ticks": ""
           },
           "baxis": {
            "gridcolor": "white",
            "linecolor": "white",
            "ticks": ""
           },
           "bgcolor": "#E5ECF6",
           "caxis": {
            "gridcolor": "white",
            "linecolor": "white",
            "ticks": ""
           }
          },
          "title": {
           "x": 0.05
          },
          "xaxis": {
           "automargin": true,
           "gridcolor": "white",
           "linecolor": "white",
           "ticks": "",
           "title": {
            "standoff": 15
           },
           "zerolinecolor": "white",
           "zerolinewidth": 2
          },
          "yaxis": {
           "automargin": true,
           "gridcolor": "white",
           "linecolor": "white",
           "ticks": "",
           "title": {
            "standoff": 15
           },
           "zerolinecolor": "white",
           "zerolinewidth": 2
          }
         }
        },
        "xaxis": {
         "anchor": "y",
         "constrain": "domain",
         "domain": [
          0,
          1
         ],
         "scaleanchor": "y",
         "title": {
          "text": "Current Season Stats"
         }
        },
        "yaxis": {
         "anchor": "x",
         "autorange": "reversed",
         "constrain": "domain",
         "domain": [
          0,
          1
         ],
         "title": {
          "text": "Previous Season Stats"
         }
        }
       }
      },
      "text/html": [
       "<div>                            <div id=\"4c5dd798-27d4-4bfc-9b20-ffa94a7157eb\" class=\"plotly-graph-div\" style=\"height:525px; width:100%;\"></div>            <script type=\"text/javascript\">                require([\"plotly\"], function(Plotly) {                    window.PLOTLYENV=window.PLOTLYENV || {};                                    if (document.getElementById(\"4c5dd798-27d4-4bfc-9b20-ffa94a7157eb\")) {                    Plotly.newPlot(                        \"4c5dd798-27d4-4bfc-9b20-ffa94a7157eb\",                        [{\"coloraxis\":\"coloraxis\",\"name\":\"0\",\"texttemplate\":\"%{z}\",\"x\":[\"successful_plays\",\"rushing_yards\",\"carries\"],\"y\":[\"fantasy_points\",\"fantasy_points_last\"],\"z\":[[0.45,0.42,0.44],[0.01,0.04,0.07]],\"type\":\"heatmap\",\"xaxis\":\"x\",\"yaxis\":\"y\",\"hovertemplate\":\"Current Season Stats: %{x}\\u003cbr\\u003ePrevious Season Stats: %{y}\\u003cbr\\u003ecolor: %{z}\\u003cextra\\u003e\\u003c\\u002fextra\\u003e\"}],                        {\"template\":{\"data\":{\"histogram2dcontour\":[{\"type\":\"histogram2dcontour\",\"colorbar\":{\"outlinewidth\":0,\"ticks\":\"\"},\"colorscale\":[[0.0,\"#0d0887\"],[0.1111111111111111,\"#46039f\"],[0.2222222222222222,\"#7201a8\"],[0.3333333333333333,\"#9c179e\"],[0.4444444444444444,\"#bd3786\"],[0.5555555555555556,\"#d8576b\"],[0.6666666666666666,\"#ed7953\"],[0.7777777777777778,\"#fb9f3a\"],[0.8888888888888888,\"#fdca26\"],[1.0,\"#f0f921\"]]}],\"choropleth\":[{\"type\":\"choropleth\",\"colorbar\":{\"outlinewidth\":0,\"ticks\":\"\"}}],\"histogram2d\":[{\"type\":\"histogram2d\",\"colorbar\":{\"outlinewidth\":0,\"ticks\":\"\"},\"colorscale\":[[0.0,\"#0d0887\"],[0.1111111111111111,\"#46039f\"],[0.2222222222222222,\"#7201a8\"],[0.3333333333333333,\"#9c179e\"],[0.4444444444444444,\"#bd3786\"],[0.5555555555555556,\"#d8576b\"],[0.6666666666666666,\"#ed7953\"],[0.7777777777777778,\"#fb9f3a\"],[0.8888888888888888,\"#fdca26\"],[1.0,\"#f0f921\"]]}],\"heatmap\":[{\"type\":\"heatmap\",\"colorbar\":{\"outlinewidth\":0,\"ticks\":\"\"},\"colorscale\":[[0.0,\"#0d0887\"],[0.1111111111111111,\"#46039f\"],[0.2222222222222222,\"#7201a8\"],[0.3333333333333333,\"#9c179e\"],[0.4444444444444444,\"#bd3786\"],[0.5555555555555556,\"#d8576b\"],[0.6666666666666666,\"#ed7953\"],[0.7777777777777778,\"#fb9f3a\"],[0.8888888888888888,\"#fdca26\"],[1.0,\"#f0f921\"]]}],\"heatmapgl\":[{\"type\":\"heatmapgl\",\"colorbar\":{\"outlinewidth\":0,\"ticks\":\"\"},\"colorscale\":[[0.0,\"#0d0887\"],[0.1111111111111111,\"#46039f\"],[0.2222222222222222,\"#7201a8\"],[0.3333333333333333,\"#9c179e\"],[0.4444444444444444,\"#bd3786\"],[0.5555555555555556,\"#d8576b\"],[0.6666666666666666,\"#ed7953\"],[0.7777777777777778,\"#fb9f3a\"],[0.8888888888888888,\"#fdca26\"],[1.0,\"#f0f921\"]]}],\"contourcarpet\":[{\"type\":\"contourcarpet\",\"colorbar\":{\"outlinewidth\":0,\"ticks\":\"\"}}],\"contour\":[{\"type\":\"contour\",\"colorbar\":{\"outlinewidth\":0,\"ticks\":\"\"},\"colorscale\":[[0.0,\"#0d0887\"],[0.1111111111111111,\"#46039f\"],[0.2222222222222222,\"#7201a8\"],[0.3333333333333333,\"#9c179e\"],[0.4444444444444444,\"#bd3786\"],[0.5555555555555556,\"#d8576b\"],[0.6666666666666666,\"#ed7953\"],[0.7777777777777778,\"#fb9f3a\"],[0.8888888888888888,\"#fdca26\"],[1.0,\"#f0f921\"]]}],\"surface\":[{\"type\":\"surface\",\"colorbar\":{\"outlinewidth\":0,\"ticks\":\"\"},\"colorscale\":[[0.0,\"#0d0887\"],[0.1111111111111111,\"#46039f\"],[0.2222222222222222,\"#7201a8\"],[0.3333333333333333,\"#9c179e\"],[0.4444444444444444,\"#bd3786\"],[0.5555555555555556,\"#d8576b\"],[0.6666666666666666,\"#ed7953\"],[0.7777777777777778,\"#fb9f3a\"],[0.8888888888888888,\"#fdca26\"],[1.0,\"#f0f921\"]]}],\"mesh3d\":[{\"type\":\"mesh3d\",\"colorbar\":{\"outlinewidth\":0,\"ticks\":\"\"}}],\"scatter\":[{\"fillpattern\":{\"fillmode\":\"overlay\",\"size\":10,\"solidity\":0.2},\"type\":\"scatter\"}],\"parcoords\":[{\"type\":\"parcoords\",\"line\":{\"colorbar\":{\"outlinewidth\":0,\"ticks\":\"\"}}}],\"scatterpolargl\":[{\"type\":\"scatterpolargl\",\"marker\":{\"colorbar\":{\"outlinewidth\":0,\"ticks\":\"\"}}}],\"bar\":[{\"error_x\":{\"color\":\"#2a3f5f\"},\"error_y\":{\"color\":\"#2a3f5f\"},\"marker\":{\"line\":{\"color\":\"#E5ECF6\",\"width\":0.5},\"pattern\":{\"fillmode\":\"overlay\",\"size\":10,\"solidity\":0.2}},\"type\":\"bar\"}],\"scattergeo\":[{\"type\":\"scattergeo\",\"marker\":{\"colorbar\":{\"outlinewidth\":0,\"ticks\":\"\"}}}],\"scatterpolar\":[{\"type\":\"scatterpolar\",\"marker\":{\"colorbar\":{\"outlinewidth\":0,\"ticks\":\"\"}}}],\"histogram\":[{\"marker\":{\"pattern\":{\"fillmode\":\"overlay\",\"size\":10,\"solidity\":0.2}},\"type\":\"histogram\"}],\"scattergl\":[{\"type\":\"scattergl\",\"marker\":{\"colorbar\":{\"outlinewidth\":0,\"ticks\":\"\"}}}],\"scatter3d\":[{\"type\":\"scatter3d\",\"line\":{\"colorbar\":{\"outlinewidth\":0,\"ticks\":\"\"}},\"marker\":{\"colorbar\":{\"outlinewidth\":0,\"ticks\":\"\"}}}],\"scattermapbox\":[{\"type\":\"scattermapbox\",\"marker\":{\"colorbar\":{\"outlinewidth\":0,\"ticks\":\"\"}}}],\"scatterternary\":[{\"type\":\"scatterternary\",\"marker\":{\"colorbar\":{\"outlinewidth\":0,\"ticks\":\"\"}}}],\"scattercarpet\":[{\"type\":\"scattercarpet\",\"marker\":{\"colorbar\":{\"outlinewidth\":0,\"ticks\":\"\"}}}],\"carpet\":[{\"aaxis\":{\"endlinecolor\":\"#2a3f5f\",\"gridcolor\":\"white\",\"linecolor\":\"white\",\"minorgridcolor\":\"white\",\"startlinecolor\":\"#2a3f5f\"},\"baxis\":{\"endlinecolor\":\"#2a3f5f\",\"gridcolor\":\"white\",\"linecolor\":\"white\",\"minorgridcolor\":\"white\",\"startlinecolor\":\"#2a3f5f\"},\"type\":\"carpet\"}],\"table\":[{\"cells\":{\"fill\":{\"color\":\"#EBF0F8\"},\"line\":{\"color\":\"white\"}},\"header\":{\"fill\":{\"color\":\"#C8D4E3\"},\"line\":{\"color\":\"white\"}},\"type\":\"table\"}],\"barpolar\":[{\"marker\":{\"line\":{\"color\":\"#E5ECF6\",\"width\":0.5},\"pattern\":{\"fillmode\":\"overlay\",\"size\":10,\"solidity\":0.2}},\"type\":\"barpolar\"}],\"pie\":[{\"automargin\":true,\"type\":\"pie\"}]},\"layout\":{\"autotypenumbers\":\"strict\",\"colorway\":[\"#636efa\",\"#EF553B\",\"#00cc96\",\"#ab63fa\",\"#FFA15A\",\"#19d3f3\",\"#FF6692\",\"#B6E880\",\"#FF97FF\",\"#FECB52\"],\"font\":{\"color\":\"#2a3f5f\"},\"hovermode\":\"closest\",\"hoverlabel\":{\"align\":\"left\"},\"paper_bgcolor\":\"white\",\"plot_bgcolor\":\"#E5ECF6\",\"polar\":{\"bgcolor\":\"#E5ECF6\",\"angularaxis\":{\"gridcolor\":\"white\",\"linecolor\":\"white\",\"ticks\":\"\"},\"radialaxis\":{\"gridcolor\":\"white\",\"linecolor\":\"white\",\"ticks\":\"\"}},\"ternary\":{\"bgcolor\":\"#E5ECF6\",\"aaxis\":{\"gridcolor\":\"white\",\"linecolor\":\"white\",\"ticks\":\"\"},\"baxis\":{\"gridcolor\":\"white\",\"linecolor\":\"white\",\"ticks\":\"\"},\"caxis\":{\"gridcolor\":\"white\",\"linecolor\":\"white\",\"ticks\":\"\"}},\"coloraxis\":{\"colorbar\":{\"outlinewidth\":0,\"ticks\":\"\"}},\"colorscale\":{\"sequential\":[[0.0,\"#0d0887\"],[0.1111111111111111,\"#46039f\"],[0.2222222222222222,\"#7201a8\"],[0.3333333333333333,\"#9c179e\"],[0.4444444444444444,\"#bd3786\"],[0.5555555555555556,\"#d8576b\"],[0.6666666666666666,\"#ed7953\"],[0.7777777777777778,\"#fb9f3a\"],[0.8888888888888888,\"#fdca26\"],[1.0,\"#f0f921\"]],\"sequentialminus\":[[0.0,\"#0d0887\"],[0.1111111111111111,\"#46039f\"],[0.2222222222222222,\"#7201a8\"],[0.3333333333333333,\"#9c179e\"],[0.4444444444444444,\"#bd3786\"],[0.5555555555555556,\"#d8576b\"],[0.6666666666666666,\"#ed7953\"],[0.7777777777777778,\"#fb9f3a\"],[0.8888888888888888,\"#fdca26\"],[1.0,\"#f0f921\"]],\"diverging\":[[0,\"#8e0152\"],[0.1,\"#c51b7d\"],[0.2,\"#de77ae\"],[0.3,\"#f1b6da\"],[0.4,\"#fde0ef\"],[0.5,\"#f7f7f7\"],[0.6,\"#e6f5d0\"],[0.7,\"#b8e186\"],[0.8,\"#7fbc41\"],[0.9,\"#4d9221\"],[1,\"#276419\"]]},\"xaxis\":{\"gridcolor\":\"white\",\"linecolor\":\"white\",\"ticks\":\"\",\"title\":{\"standoff\":15},\"zerolinecolor\":\"white\",\"automargin\":true,\"zerolinewidth\":2},\"yaxis\":{\"gridcolor\":\"white\",\"linecolor\":\"white\",\"ticks\":\"\",\"title\":{\"standoff\":15},\"zerolinecolor\":\"white\",\"automargin\":true,\"zerolinewidth\":2},\"scene\":{\"xaxis\":{\"backgroundcolor\":\"#E5ECF6\",\"gridcolor\":\"white\",\"linecolor\":\"white\",\"showbackground\":true,\"ticks\":\"\",\"zerolinecolor\":\"white\",\"gridwidth\":2},\"yaxis\":{\"backgroundcolor\":\"#E5ECF6\",\"gridcolor\":\"white\",\"linecolor\":\"white\",\"showbackground\":true,\"ticks\":\"\",\"zerolinecolor\":\"white\",\"gridwidth\":2},\"zaxis\":{\"backgroundcolor\":\"#E5ECF6\",\"gridcolor\":\"white\",\"linecolor\":\"white\",\"showbackground\":true,\"ticks\":\"\",\"zerolinecolor\":\"white\",\"gridwidth\":2}},\"shapedefaults\":{\"line\":{\"color\":\"#2a3f5f\"}},\"annotationdefaults\":{\"arrowcolor\":\"#2a3f5f\",\"arrowhead\":0,\"arrowwidth\":1},\"geo\":{\"bgcolor\":\"white\",\"landcolor\":\"#E5ECF6\",\"subunitcolor\":\"white\",\"showland\":true,\"showlakes\":true,\"lakecolor\":\"white\"},\"title\":{\"x\":0.05},\"mapbox\":{\"style\":\"light\"}}},\"xaxis\":{\"anchor\":\"y\",\"domain\":[0.0,1.0],\"scaleanchor\":\"y\",\"constrain\":\"domain\",\"title\":{\"text\":\"Current Season Stats\"}},\"yaxis\":{\"anchor\":\"x\",\"domain\":[0.0,1.0],\"autorange\":\"reversed\",\"constrain\":\"domain\",\"title\":{\"text\":\"Previous Season Stats\"}},\"coloraxis\":{\"colorscale\":[[0.0,\"#0d0887\"],[0.1111111111111111,\"#46039f\"],[0.2222222222222222,\"#7201a8\"],[0.3333333333333333,\"#9c179e\"],[0.4444444444444444,\"#bd3786\"],[0.5555555555555556,\"#d8576b\"],[0.6666666666666666,\"#ed7953\"],[0.7777777777777778,\"#fb9f3a\"],[0.8888888888888888,\"#fdca26\"],[1.0,\"#f0f921\"]]},\"margin\":{\"t\":60}},                        {\"responsive\": true}                    ).then(function(){\n",
       "                            \n",
       "var gd = document.getElementById('4c5dd798-27d4-4bfc-9b20-ffa94a7157eb');\n",
       "var x = new MutationObserver(function (mutations, observer) {{\n",
       "        var display = window.getComputedStyle(gd).display;\n",
       "        if (!display || display === 'none') {{\n",
       "            console.log([gd, 'removed!']);\n",
       "            Plotly.purge(gd);\n",
       "            observer.disconnect();\n",
       "        }}\n",
       "}});\n",
       "\n",
       "// Listen for the removal of the full notebook cells\n",
       "var notebookContainer = gd.closest('#notebook-container');\n",
       "if (notebookContainer) {{\n",
       "    x.observe(notebookContainer, {childList: true});\n",
       "}}\n",
       "\n",
       "// Listen for the clearing of the current output cell\n",
       "var outputEl = gd.closest('.output');\n",
       "if (outputEl) {{\n",
       "    x.observe(outputEl, {childList: true});\n",
       "}}\n",
       "\n",
       "                        })                };                });            </script>        </div>"
      ]
     },
     "metadata": {},
     "output_type": "display_data"
    },
    {
     "name": "stdout",
     "output_type": "stream",
     "text": [
      "successful_plays\n",
      "\n",
      "Save path: fantasy-relevance-unfiltered-qb-20-scatter-successful_plays\n",
      "\n"
     ]
    },
    {
     "data": {
      "application/vnd.plotly.v1+json": {
       "config": {
        "plotlyServerURL": "https://plot.ly"
       },
       "data": [
        {
         "customdata": [
          [
           "C.Newton",
           2013,
           24
          ],
          [
           "C.Newton",
           2014,
           25
          ],
          [
           "C.Newton",
           2015,
           26
          ],
          [
           "C.Newton",
           2016,
           27
          ],
          [
           "C.Newton",
           2017,
           28
          ],
          [
           "C.Newton",
           2018,
           29
          ],
          [
           "C.Newton",
           2021,
           32
          ],
          [
           "C.Kaepernick",
           2013,
           25
          ],
          [
           "C.Kaepernick",
           2014,
           26
          ],
          [
           "T.Taylor",
           2016,
           27
          ],
          [
           "T.Taylor",
           2017,
           28
          ],
          [
           "R.Wilson",
           2013,
           24
          ],
          [
           "R.Wilson",
           2014,
           25
          ],
          [
           "R.Wilson",
           2015,
           26
          ],
          [
           "R.Wilson",
           2016,
           27
          ],
          [
           "R.Wilson",
           2017,
           28
          ],
          [
           "R.Wilson",
           2018,
           29
          ],
          [
           "R.Griffin III",
           2013,
           23
          ],
          [
           "G.Smith",
           2014,
           23
          ],
          [
           "M.Mariota",
           2017,
           23
          ],
          [
           "M.Mariota",
           2018,
           24
          ],
          [
           "C.Wentz",
           2020,
           27
          ],
          [
           "D.Prescott",
           2019,
           26
          ],
          [
           "T.Hill",
           2019,
           29
          ],
          [
           "T.Hill",
           2020,
           30
          ],
          [
           "T.Hill",
           2021,
           31
          ],
          [
           "D.Watson",
           2019,
           23
          ],
          [
           "L.Jackson",
           2019,
           22
          ],
          [
           "L.Jackson",
           2020,
           23
          ],
          [
           "L.Jackson",
           2021,
           24
          ],
          [
           "L.Jackson",
           2022,
           25
          ],
          [
           "J.Allen",
           2019,
           23
          ],
          [
           "J.Allen",
           2020,
           24
          ],
          [
           "J.Allen",
           2021,
           25
          ],
          [
           "J.Allen",
           2022,
           26
          ],
          [
           "K.Murray",
           2020,
           23
          ],
          [
           "K.Murray",
           2021,
           24
          ],
          [
           "K.Murray",
           2022,
           25
          ],
          [
           "D.Jones",
           2021,
           24
          ],
          [
           "D.Jones",
           2022,
           25
          ],
          [
           "J.Hurts",
           2021,
           23
          ],
          [
           "J.Hurts",
           2022,
           24
          ],
          [
           "T.Lawrence",
           2022,
           22
          ]
         ],
         "hovertemplate": "successful_plays_last=%{x}<br>successful_plays=%{y}<br>rusher=%{customdata[0]}<br>season=%{customdata[1]}<br>age=%{customdata[2]}<extra></extra>",
         "legendgroup": "",
         "marker": {
          "color": "#636efa",
          "symbol": "circle"
         },
         "mode": "markers",
         "name": "",
         "orientation": "v",
         "showlegend": false,
         "type": "scatter",
         "x": [
          47,
          35,
          42,
          55,
          40,
          46,
          55,
          17,
          18,
          21,
          16,
          20,
          12,
          30,
          19,
          11,
          14,
          47,
          14,
          16,
          18,
          19,
          19,
          19,
          12,
          40,
          15,
          58,
          72,
          50,
          39,
          20,
          32,
          30,
          38,
          32,
          37,
          20,
          15,
          19,
          18,
          48,
          18
         ],
         "xaxis": "x",
         "y": [
          35,
          42,
          55,
          40,
          46,
          37,
          22,
          18,
          15,
          16,
          13,
          12,
          30,
          19,
          11,
          14,
          13,
          21,
          7,
          18,
          16,
          17,
          13,
          12,
          40,
          30,
          16,
          72,
          50,
          39,
          49,
          32,
          30,
          38,
          34,
          37,
          20,
          19,
          19,
          34,
          48,
          67,
          20
         ],
         "yaxis": "y"
        }
       ],
       "layout": {
        "legend": {
         "tracegroupgap": 0
        },
        "margin": {
         "t": 60
        },
        "template": {
         "data": {
          "bar": [
           {
            "error_x": {
             "color": "#2a3f5f"
            },
            "error_y": {
             "color": "#2a3f5f"
            },
            "marker": {
             "line": {
              "color": "#E5ECF6",
              "width": 0.5
             },
             "pattern": {
              "fillmode": "overlay",
              "size": 10,
              "solidity": 0.2
             }
            },
            "type": "bar"
           }
          ],
          "barpolar": [
           {
            "marker": {
             "line": {
              "color": "#E5ECF6",
              "width": 0.5
             },
             "pattern": {
              "fillmode": "overlay",
              "size": 10,
              "solidity": 0.2
             }
            },
            "type": "barpolar"
           }
          ],
          "carpet": [
           {
            "aaxis": {
             "endlinecolor": "#2a3f5f",
             "gridcolor": "white",
             "linecolor": "white",
             "minorgridcolor": "white",
             "startlinecolor": "#2a3f5f"
            },
            "baxis": {
             "endlinecolor": "#2a3f5f",
             "gridcolor": "white",
             "linecolor": "white",
             "minorgridcolor": "white",
             "startlinecolor": "#2a3f5f"
            },
            "type": "carpet"
           }
          ],
          "choropleth": [
           {
            "colorbar": {
             "outlinewidth": 0,
             "ticks": ""
            },
            "type": "choropleth"
           }
          ],
          "contour": [
           {
            "colorbar": {
             "outlinewidth": 0,
             "ticks": ""
            },
            "colorscale": [
             [
              0,
              "#0d0887"
             ],
             [
              0.1111111111111111,
              "#46039f"
             ],
             [
              0.2222222222222222,
              "#7201a8"
             ],
             [
              0.3333333333333333,
              "#9c179e"
             ],
             [
              0.4444444444444444,
              "#bd3786"
             ],
             [
              0.5555555555555556,
              "#d8576b"
             ],
             [
              0.6666666666666666,
              "#ed7953"
             ],
             [
              0.7777777777777778,
              "#fb9f3a"
             ],
             [
              0.8888888888888888,
              "#fdca26"
             ],
             [
              1,
              "#f0f921"
             ]
            ],
            "type": "contour"
           }
          ],
          "contourcarpet": [
           {
            "colorbar": {
             "outlinewidth": 0,
             "ticks": ""
            },
            "type": "contourcarpet"
           }
          ],
          "heatmap": [
           {
            "colorbar": {
             "outlinewidth": 0,
             "ticks": ""
            },
            "colorscale": [
             [
              0,
              "#0d0887"
             ],
             [
              0.1111111111111111,
              "#46039f"
             ],
             [
              0.2222222222222222,
              "#7201a8"
             ],
             [
              0.3333333333333333,
              "#9c179e"
             ],
             [
              0.4444444444444444,
              "#bd3786"
             ],
             [
              0.5555555555555556,
              "#d8576b"
             ],
             [
              0.6666666666666666,
              "#ed7953"
             ],
             [
              0.7777777777777778,
              "#fb9f3a"
             ],
             [
              0.8888888888888888,
              "#fdca26"
             ],
             [
              1,
              "#f0f921"
             ]
            ],
            "type": "heatmap"
           }
          ],
          "heatmapgl": [
           {
            "colorbar": {
             "outlinewidth": 0,
             "ticks": ""
            },
            "colorscale": [
             [
              0,
              "#0d0887"
             ],
             [
              0.1111111111111111,
              "#46039f"
             ],
             [
              0.2222222222222222,
              "#7201a8"
             ],
             [
              0.3333333333333333,
              "#9c179e"
             ],
             [
              0.4444444444444444,
              "#bd3786"
             ],
             [
              0.5555555555555556,
              "#d8576b"
             ],
             [
              0.6666666666666666,
              "#ed7953"
             ],
             [
              0.7777777777777778,
              "#fb9f3a"
             ],
             [
              0.8888888888888888,
              "#fdca26"
             ],
             [
              1,
              "#f0f921"
             ]
            ],
            "type": "heatmapgl"
           }
          ],
          "histogram": [
           {
            "marker": {
             "pattern": {
              "fillmode": "overlay",
              "size": 10,
              "solidity": 0.2
             }
            },
            "type": "histogram"
           }
          ],
          "histogram2d": [
           {
            "colorbar": {
             "outlinewidth": 0,
             "ticks": ""
            },
            "colorscale": [
             [
              0,
              "#0d0887"
             ],
             [
              0.1111111111111111,
              "#46039f"
             ],
             [
              0.2222222222222222,
              "#7201a8"
             ],
             [
              0.3333333333333333,
              "#9c179e"
             ],
             [
              0.4444444444444444,
              "#bd3786"
             ],
             [
              0.5555555555555556,
              "#d8576b"
             ],
             [
              0.6666666666666666,
              "#ed7953"
             ],
             [
              0.7777777777777778,
              "#fb9f3a"
             ],
             [
              0.8888888888888888,
              "#fdca26"
             ],
             [
              1,
              "#f0f921"
             ]
            ],
            "type": "histogram2d"
           }
          ],
          "histogram2dcontour": [
           {
            "colorbar": {
             "outlinewidth": 0,
             "ticks": ""
            },
            "colorscale": [
             [
              0,
              "#0d0887"
             ],
             [
              0.1111111111111111,
              "#46039f"
             ],
             [
              0.2222222222222222,
              "#7201a8"
             ],
             [
              0.3333333333333333,
              "#9c179e"
             ],
             [
              0.4444444444444444,
              "#bd3786"
             ],
             [
              0.5555555555555556,
              "#d8576b"
             ],
             [
              0.6666666666666666,
              "#ed7953"
             ],
             [
              0.7777777777777778,
              "#fb9f3a"
             ],
             [
              0.8888888888888888,
              "#fdca26"
             ],
             [
              1,
              "#f0f921"
             ]
            ],
            "type": "histogram2dcontour"
           }
          ],
          "mesh3d": [
           {
            "colorbar": {
             "outlinewidth": 0,
             "ticks": ""
            },
            "type": "mesh3d"
           }
          ],
          "parcoords": [
           {
            "line": {
             "colorbar": {
              "outlinewidth": 0,
              "ticks": ""
             }
            },
            "type": "parcoords"
           }
          ],
          "pie": [
           {
            "automargin": true,
            "type": "pie"
           }
          ],
          "scatter": [
           {
            "fillpattern": {
             "fillmode": "overlay",
             "size": 10,
             "solidity": 0.2
            },
            "type": "scatter"
           }
          ],
          "scatter3d": [
           {
            "line": {
             "colorbar": {
              "outlinewidth": 0,
              "ticks": ""
             }
            },
            "marker": {
             "colorbar": {
              "outlinewidth": 0,
              "ticks": ""
             }
            },
            "type": "scatter3d"
           }
          ],
          "scattercarpet": [
           {
            "marker": {
             "colorbar": {
              "outlinewidth": 0,
              "ticks": ""
             }
            },
            "type": "scattercarpet"
           }
          ],
          "scattergeo": [
           {
            "marker": {
             "colorbar": {
              "outlinewidth": 0,
              "ticks": ""
             }
            },
            "type": "scattergeo"
           }
          ],
          "scattergl": [
           {
            "marker": {
             "colorbar": {
              "outlinewidth": 0,
              "ticks": ""
             }
            },
            "type": "scattergl"
           }
          ],
          "scattermapbox": [
           {
            "marker": {
             "colorbar": {
              "outlinewidth": 0,
              "ticks": ""
             }
            },
            "type": "scattermapbox"
           }
          ],
          "scatterpolar": [
           {
            "marker": {
             "colorbar": {
              "outlinewidth": 0,
              "ticks": ""
             }
            },
            "type": "scatterpolar"
           }
          ],
          "scatterpolargl": [
           {
            "marker": {
             "colorbar": {
              "outlinewidth": 0,
              "ticks": ""
             }
            },
            "type": "scatterpolargl"
           }
          ],
          "scatterternary": [
           {
            "marker": {
             "colorbar": {
              "outlinewidth": 0,
              "ticks": ""
             }
            },
            "type": "scatterternary"
           }
          ],
          "surface": [
           {
            "colorbar": {
             "outlinewidth": 0,
             "ticks": ""
            },
            "colorscale": [
             [
              0,
              "#0d0887"
             ],
             [
              0.1111111111111111,
              "#46039f"
             ],
             [
              0.2222222222222222,
              "#7201a8"
             ],
             [
              0.3333333333333333,
              "#9c179e"
             ],
             [
              0.4444444444444444,
              "#bd3786"
             ],
             [
              0.5555555555555556,
              "#d8576b"
             ],
             [
              0.6666666666666666,
              "#ed7953"
             ],
             [
              0.7777777777777778,
              "#fb9f3a"
             ],
             [
              0.8888888888888888,
              "#fdca26"
             ],
             [
              1,
              "#f0f921"
             ]
            ],
            "type": "surface"
           }
          ],
          "table": [
           {
            "cells": {
             "fill": {
              "color": "#EBF0F8"
             },
             "line": {
              "color": "white"
             }
            },
            "header": {
             "fill": {
              "color": "#C8D4E3"
             },
             "line": {
              "color": "white"
             }
            },
            "type": "table"
           }
          ]
         },
         "layout": {
          "annotationdefaults": {
           "arrowcolor": "#2a3f5f",
           "arrowhead": 0,
           "arrowwidth": 1
          },
          "autotypenumbers": "strict",
          "coloraxis": {
           "colorbar": {
            "outlinewidth": 0,
            "ticks": ""
           }
          },
          "colorscale": {
           "diverging": [
            [
             0,
             "#8e0152"
            ],
            [
             0.1,
             "#c51b7d"
            ],
            [
             0.2,
             "#de77ae"
            ],
            [
             0.3,
             "#f1b6da"
            ],
            [
             0.4,
             "#fde0ef"
            ],
            [
             0.5,
             "#f7f7f7"
            ],
            [
             0.6,
             "#e6f5d0"
            ],
            [
             0.7,
             "#b8e186"
            ],
            [
             0.8,
             "#7fbc41"
            ],
            [
             0.9,
             "#4d9221"
            ],
            [
             1,
             "#276419"
            ]
           ],
           "sequential": [
            [
             0,
             "#0d0887"
            ],
            [
             0.1111111111111111,
             "#46039f"
            ],
            [
             0.2222222222222222,
             "#7201a8"
            ],
            [
             0.3333333333333333,
             "#9c179e"
            ],
            [
             0.4444444444444444,
             "#bd3786"
            ],
            [
             0.5555555555555556,
             "#d8576b"
            ],
            [
             0.6666666666666666,
             "#ed7953"
            ],
            [
             0.7777777777777778,
             "#fb9f3a"
            ],
            [
             0.8888888888888888,
             "#fdca26"
            ],
            [
             1,
             "#f0f921"
            ]
           ],
           "sequentialminus": [
            [
             0,
             "#0d0887"
            ],
            [
             0.1111111111111111,
             "#46039f"
            ],
            [
             0.2222222222222222,
             "#7201a8"
            ],
            [
             0.3333333333333333,
             "#9c179e"
            ],
            [
             0.4444444444444444,
             "#bd3786"
            ],
            [
             0.5555555555555556,
             "#d8576b"
            ],
            [
             0.6666666666666666,
             "#ed7953"
            ],
            [
             0.7777777777777778,
             "#fb9f3a"
            ],
            [
             0.8888888888888888,
             "#fdca26"
            ],
            [
             1,
             "#f0f921"
            ]
           ]
          },
          "colorway": [
           "#636efa",
           "#EF553B",
           "#00cc96",
           "#ab63fa",
           "#FFA15A",
           "#19d3f3",
           "#FF6692",
           "#B6E880",
           "#FF97FF",
           "#FECB52"
          ],
          "font": {
           "color": "#2a3f5f"
          },
          "geo": {
           "bgcolor": "white",
           "lakecolor": "white",
           "landcolor": "#E5ECF6",
           "showlakes": true,
           "showland": true,
           "subunitcolor": "white"
          },
          "hoverlabel": {
           "align": "left"
          },
          "hovermode": "closest",
          "mapbox": {
           "style": "light"
          },
          "paper_bgcolor": "white",
          "plot_bgcolor": "#E5ECF6",
          "polar": {
           "angularaxis": {
            "gridcolor": "white",
            "linecolor": "white",
            "ticks": ""
           },
           "bgcolor": "#E5ECF6",
           "radialaxis": {
            "gridcolor": "white",
            "linecolor": "white",
            "ticks": ""
           }
          },
          "scene": {
           "xaxis": {
            "backgroundcolor": "#E5ECF6",
            "gridcolor": "white",
            "gridwidth": 2,
            "linecolor": "white",
            "showbackground": true,
            "ticks": "",
            "zerolinecolor": "white"
           },
           "yaxis": {
            "backgroundcolor": "#E5ECF6",
            "gridcolor": "white",
            "gridwidth": 2,
            "linecolor": "white",
            "showbackground": true,
            "ticks": "",
            "zerolinecolor": "white"
           },
           "zaxis": {
            "backgroundcolor": "#E5ECF6",
            "gridcolor": "white",
            "gridwidth": 2,
            "linecolor": "white",
            "showbackground": true,
            "ticks": "",
            "zerolinecolor": "white"
           }
          },
          "shapedefaults": {
           "line": {
            "color": "#2a3f5f"
           }
          },
          "ternary": {
           "aaxis": {
            "gridcolor": "white",
            "linecolor": "white",
            "ticks": ""
           },
           "baxis": {
            "gridcolor": "white",
            "linecolor": "white",
            "ticks": ""
           },
           "bgcolor": "#E5ECF6",
           "caxis": {
            "gridcolor": "white",
            "linecolor": "white",
            "ticks": ""
           }
          },
          "title": {
           "x": 0.05
          },
          "xaxis": {
           "automargin": true,
           "gridcolor": "white",
           "linecolor": "white",
           "ticks": "",
           "title": {
            "standoff": 15
           },
           "zerolinecolor": "white",
           "zerolinewidth": 2
          },
          "yaxis": {
           "automargin": true,
           "gridcolor": "white",
           "linecolor": "white",
           "ticks": "",
           "title": {
            "standoff": 15
           },
           "zerolinecolor": "white",
           "zerolinewidth": 2
          }
         }
        },
        "xaxis": {
         "anchor": "y",
         "domain": [
          0,
          1
         ],
         "title": {
          "text": "successful_plays_last"
         }
        },
        "yaxis": {
         "anchor": "x",
         "domain": [
          0,
          1
         ],
         "title": {
          "text": "successful_plays"
         }
        }
       }
      },
      "text/html": [
       "<div>                            <div id=\"2c4acd8d-587a-4e2d-a838-621e7f8b676a\" class=\"plotly-graph-div\" style=\"height:525px; width:100%;\"></div>            <script type=\"text/javascript\">                require([\"plotly\"], function(Plotly) {                    window.PLOTLYENV=window.PLOTLYENV || {};                                    if (document.getElementById(\"2c4acd8d-587a-4e2d-a838-621e7f8b676a\")) {                    Plotly.newPlot(                        \"2c4acd8d-587a-4e2d-a838-621e7f8b676a\",                        [{\"customdata\":[[\"C.Newton\",2013,24.0],[\"C.Newton\",2014,25.0],[\"C.Newton\",2015,26.0],[\"C.Newton\",2016,27.0],[\"C.Newton\",2017,28.0],[\"C.Newton\",2018,29.0],[\"C.Newton\",2021,32.0],[\"C.Kaepernick\",2013,25.0],[\"C.Kaepernick\",2014,26.0],[\"T.Taylor\",2016,27.0],[\"T.Taylor\",2017,28.0],[\"R.Wilson\",2013,24.0],[\"R.Wilson\",2014,25.0],[\"R.Wilson\",2015,26.0],[\"R.Wilson\",2016,27.0],[\"R.Wilson\",2017,28.0],[\"R.Wilson\",2018,29.0],[\"R.Griffin III\",2013,23.0],[\"G.Smith\",2014,23.0],[\"M.Mariota\",2017,23.0],[\"M.Mariota\",2018,24.0],[\"C.Wentz\",2020,27.0],[\"D.Prescott\",2019,26.0],[\"T.Hill\",2019,29.0],[\"T.Hill\",2020,30.0],[\"T.Hill\",2021,31.0],[\"D.Watson\",2019,23.0],[\"L.Jackson\",2019,22.0],[\"L.Jackson\",2020,23.0],[\"L.Jackson\",2021,24.0],[\"L.Jackson\",2022,25.0],[\"J.Allen\",2019,23.0],[\"J.Allen\",2020,24.0],[\"J.Allen\",2021,25.0],[\"J.Allen\",2022,26.0],[\"K.Murray\",2020,23.0],[\"K.Murray\",2021,24.0],[\"K.Murray\",2022,25.0],[\"D.Jones\",2021,24.0],[\"D.Jones\",2022,25.0],[\"J.Hurts\",2021,23.0],[\"J.Hurts\",2022,24.0],[\"T.Lawrence\",2022,22.0]],\"hovertemplate\":\"successful_plays_last=%{x}\\u003cbr\\u003esuccessful_plays=%{y}\\u003cbr\\u003erusher=%{customdata[0]}\\u003cbr\\u003eseason=%{customdata[1]}\\u003cbr\\u003eage=%{customdata[2]}\\u003cextra\\u003e\\u003c\\u002fextra\\u003e\",\"legendgroup\":\"\",\"marker\":{\"color\":\"#636efa\",\"symbol\":\"circle\"},\"mode\":\"markers\",\"name\":\"\",\"orientation\":\"v\",\"showlegend\":false,\"x\":[47.0,35.0,42.0,55.0,40.0,46.0,55.0,17.0,18.0,21.0,16.0,20.0,12.0,30.0,19.0,11.0,14.0,47.0,14.0,16.0,18.0,19.0,19.0,19.0,12.0,40.0,15.0,58.0,72.0,50.0,39.0,20.0,32.0,30.0,38.0,32.0,37.0,20.0,15.0,19.0,18.0,48.0,18.0],\"xaxis\":\"x\",\"y\":[35.0,42.0,55.0,40.0,46.0,37.0,22.0,18.0,15.0,16.0,13.0,12.0,30.0,19.0,11.0,14.0,13.0,21.0,7.0,18.0,16.0,17.0,13.0,12.0,40.0,30.0,16.0,72.0,50.0,39.0,49.0,32.0,30.0,38.0,34.0,37.0,20.0,19.0,19.0,34.0,48.0,67.0,20.0],\"yaxis\":\"y\",\"type\":\"scatter\"}],                        {\"template\":{\"data\":{\"histogram2dcontour\":[{\"type\":\"histogram2dcontour\",\"colorbar\":{\"outlinewidth\":0,\"ticks\":\"\"},\"colorscale\":[[0.0,\"#0d0887\"],[0.1111111111111111,\"#46039f\"],[0.2222222222222222,\"#7201a8\"],[0.3333333333333333,\"#9c179e\"],[0.4444444444444444,\"#bd3786\"],[0.5555555555555556,\"#d8576b\"],[0.6666666666666666,\"#ed7953\"],[0.7777777777777778,\"#fb9f3a\"],[0.8888888888888888,\"#fdca26\"],[1.0,\"#f0f921\"]]}],\"choropleth\":[{\"type\":\"choropleth\",\"colorbar\":{\"outlinewidth\":0,\"ticks\":\"\"}}],\"histogram2d\":[{\"type\":\"histogram2d\",\"colorbar\":{\"outlinewidth\":0,\"ticks\":\"\"},\"colorscale\":[[0.0,\"#0d0887\"],[0.1111111111111111,\"#46039f\"],[0.2222222222222222,\"#7201a8\"],[0.3333333333333333,\"#9c179e\"],[0.4444444444444444,\"#bd3786\"],[0.5555555555555556,\"#d8576b\"],[0.6666666666666666,\"#ed7953\"],[0.7777777777777778,\"#fb9f3a\"],[0.8888888888888888,\"#fdca26\"],[1.0,\"#f0f921\"]]}],\"heatmap\":[{\"type\":\"heatmap\",\"colorbar\":{\"outlinewidth\":0,\"ticks\":\"\"},\"colorscale\":[[0.0,\"#0d0887\"],[0.1111111111111111,\"#46039f\"],[0.2222222222222222,\"#7201a8\"],[0.3333333333333333,\"#9c179e\"],[0.4444444444444444,\"#bd3786\"],[0.5555555555555556,\"#d8576b\"],[0.6666666666666666,\"#ed7953\"],[0.7777777777777778,\"#fb9f3a\"],[0.8888888888888888,\"#fdca26\"],[1.0,\"#f0f921\"]]}],\"heatmapgl\":[{\"type\":\"heatmapgl\",\"colorbar\":{\"outlinewidth\":0,\"ticks\":\"\"},\"colorscale\":[[0.0,\"#0d0887\"],[0.1111111111111111,\"#46039f\"],[0.2222222222222222,\"#7201a8\"],[0.3333333333333333,\"#9c179e\"],[0.4444444444444444,\"#bd3786\"],[0.5555555555555556,\"#d8576b\"],[0.6666666666666666,\"#ed7953\"],[0.7777777777777778,\"#fb9f3a\"],[0.8888888888888888,\"#fdca26\"],[1.0,\"#f0f921\"]]}],\"contourcarpet\":[{\"type\":\"contourcarpet\",\"colorbar\":{\"outlinewidth\":0,\"ticks\":\"\"}}],\"contour\":[{\"type\":\"contour\",\"colorbar\":{\"outlinewidth\":0,\"ticks\":\"\"},\"colorscale\":[[0.0,\"#0d0887\"],[0.1111111111111111,\"#46039f\"],[0.2222222222222222,\"#7201a8\"],[0.3333333333333333,\"#9c179e\"],[0.4444444444444444,\"#bd3786\"],[0.5555555555555556,\"#d8576b\"],[0.6666666666666666,\"#ed7953\"],[0.7777777777777778,\"#fb9f3a\"],[0.8888888888888888,\"#fdca26\"],[1.0,\"#f0f921\"]]}],\"surface\":[{\"type\":\"surface\",\"colorbar\":{\"outlinewidth\":0,\"ticks\":\"\"},\"colorscale\":[[0.0,\"#0d0887\"],[0.1111111111111111,\"#46039f\"],[0.2222222222222222,\"#7201a8\"],[0.3333333333333333,\"#9c179e\"],[0.4444444444444444,\"#bd3786\"],[0.5555555555555556,\"#d8576b\"],[0.6666666666666666,\"#ed7953\"],[0.7777777777777778,\"#fb9f3a\"],[0.8888888888888888,\"#fdca26\"],[1.0,\"#f0f921\"]]}],\"mesh3d\":[{\"type\":\"mesh3d\",\"colorbar\":{\"outlinewidth\":0,\"ticks\":\"\"}}],\"scatter\":[{\"fillpattern\":{\"fillmode\":\"overlay\",\"size\":10,\"solidity\":0.2},\"type\":\"scatter\"}],\"parcoords\":[{\"type\":\"parcoords\",\"line\":{\"colorbar\":{\"outlinewidth\":0,\"ticks\":\"\"}}}],\"scatterpolargl\":[{\"type\":\"scatterpolargl\",\"marker\":{\"colorbar\":{\"outlinewidth\":0,\"ticks\":\"\"}}}],\"bar\":[{\"error_x\":{\"color\":\"#2a3f5f\"},\"error_y\":{\"color\":\"#2a3f5f\"},\"marker\":{\"line\":{\"color\":\"#E5ECF6\",\"width\":0.5},\"pattern\":{\"fillmode\":\"overlay\",\"size\":10,\"solidity\":0.2}},\"type\":\"bar\"}],\"scattergeo\":[{\"type\":\"scattergeo\",\"marker\":{\"colorbar\":{\"outlinewidth\":0,\"ticks\":\"\"}}}],\"scatterpolar\":[{\"type\":\"scatterpolar\",\"marker\":{\"colorbar\":{\"outlinewidth\":0,\"ticks\":\"\"}}}],\"histogram\":[{\"marker\":{\"pattern\":{\"fillmode\":\"overlay\",\"size\":10,\"solidity\":0.2}},\"type\":\"histogram\"}],\"scattergl\":[{\"type\":\"scattergl\",\"marker\":{\"colorbar\":{\"outlinewidth\":0,\"ticks\":\"\"}}}],\"scatter3d\":[{\"type\":\"scatter3d\",\"line\":{\"colorbar\":{\"outlinewidth\":0,\"ticks\":\"\"}},\"marker\":{\"colorbar\":{\"outlinewidth\":0,\"ticks\":\"\"}}}],\"scattermapbox\":[{\"type\":\"scattermapbox\",\"marker\":{\"colorbar\":{\"outlinewidth\":0,\"ticks\":\"\"}}}],\"scatterternary\":[{\"type\":\"scatterternary\",\"marker\":{\"colorbar\":{\"outlinewidth\":0,\"ticks\":\"\"}}}],\"scattercarpet\":[{\"type\":\"scattercarpet\",\"marker\":{\"colorbar\":{\"outlinewidth\":0,\"ticks\":\"\"}}}],\"carpet\":[{\"aaxis\":{\"endlinecolor\":\"#2a3f5f\",\"gridcolor\":\"white\",\"linecolor\":\"white\",\"minorgridcolor\":\"white\",\"startlinecolor\":\"#2a3f5f\"},\"baxis\":{\"endlinecolor\":\"#2a3f5f\",\"gridcolor\":\"white\",\"linecolor\":\"white\",\"minorgridcolor\":\"white\",\"startlinecolor\":\"#2a3f5f\"},\"type\":\"carpet\"}],\"table\":[{\"cells\":{\"fill\":{\"color\":\"#EBF0F8\"},\"line\":{\"color\":\"white\"}},\"header\":{\"fill\":{\"color\":\"#C8D4E3\"},\"line\":{\"color\":\"white\"}},\"type\":\"table\"}],\"barpolar\":[{\"marker\":{\"line\":{\"color\":\"#E5ECF6\",\"width\":0.5},\"pattern\":{\"fillmode\":\"overlay\",\"size\":10,\"solidity\":0.2}},\"type\":\"barpolar\"}],\"pie\":[{\"automargin\":true,\"type\":\"pie\"}]},\"layout\":{\"autotypenumbers\":\"strict\",\"colorway\":[\"#636efa\",\"#EF553B\",\"#00cc96\",\"#ab63fa\",\"#FFA15A\",\"#19d3f3\",\"#FF6692\",\"#B6E880\",\"#FF97FF\",\"#FECB52\"],\"font\":{\"color\":\"#2a3f5f\"},\"hovermode\":\"closest\",\"hoverlabel\":{\"align\":\"left\"},\"paper_bgcolor\":\"white\",\"plot_bgcolor\":\"#E5ECF6\",\"polar\":{\"bgcolor\":\"#E5ECF6\",\"angularaxis\":{\"gridcolor\":\"white\",\"linecolor\":\"white\",\"ticks\":\"\"},\"radialaxis\":{\"gridcolor\":\"white\",\"linecolor\":\"white\",\"ticks\":\"\"}},\"ternary\":{\"bgcolor\":\"#E5ECF6\",\"aaxis\":{\"gridcolor\":\"white\",\"linecolor\":\"white\",\"ticks\":\"\"},\"baxis\":{\"gridcolor\":\"white\",\"linecolor\":\"white\",\"ticks\":\"\"},\"caxis\":{\"gridcolor\":\"white\",\"linecolor\":\"white\",\"ticks\":\"\"}},\"coloraxis\":{\"colorbar\":{\"outlinewidth\":0,\"ticks\":\"\"}},\"colorscale\":{\"sequential\":[[0.0,\"#0d0887\"],[0.1111111111111111,\"#46039f\"],[0.2222222222222222,\"#7201a8\"],[0.3333333333333333,\"#9c179e\"],[0.4444444444444444,\"#bd3786\"],[0.5555555555555556,\"#d8576b\"],[0.6666666666666666,\"#ed7953\"],[0.7777777777777778,\"#fb9f3a\"],[0.8888888888888888,\"#fdca26\"],[1.0,\"#f0f921\"]],\"sequentialminus\":[[0.0,\"#0d0887\"],[0.1111111111111111,\"#46039f\"],[0.2222222222222222,\"#7201a8\"],[0.3333333333333333,\"#9c179e\"],[0.4444444444444444,\"#bd3786\"],[0.5555555555555556,\"#d8576b\"],[0.6666666666666666,\"#ed7953\"],[0.7777777777777778,\"#fb9f3a\"],[0.8888888888888888,\"#fdca26\"],[1.0,\"#f0f921\"]],\"diverging\":[[0,\"#8e0152\"],[0.1,\"#c51b7d\"],[0.2,\"#de77ae\"],[0.3,\"#f1b6da\"],[0.4,\"#fde0ef\"],[0.5,\"#f7f7f7\"],[0.6,\"#e6f5d0\"],[0.7,\"#b8e186\"],[0.8,\"#7fbc41\"],[0.9,\"#4d9221\"],[1,\"#276419\"]]},\"xaxis\":{\"gridcolor\":\"white\",\"linecolor\":\"white\",\"ticks\":\"\",\"title\":{\"standoff\":15},\"zerolinecolor\":\"white\",\"automargin\":true,\"zerolinewidth\":2},\"yaxis\":{\"gridcolor\":\"white\",\"linecolor\":\"white\",\"ticks\":\"\",\"title\":{\"standoff\":15},\"zerolinecolor\":\"white\",\"automargin\":true,\"zerolinewidth\":2},\"scene\":{\"xaxis\":{\"backgroundcolor\":\"#E5ECF6\",\"gridcolor\":\"white\",\"linecolor\":\"white\",\"showbackground\":true,\"ticks\":\"\",\"zerolinecolor\":\"white\",\"gridwidth\":2},\"yaxis\":{\"backgroundcolor\":\"#E5ECF6\",\"gridcolor\":\"white\",\"linecolor\":\"white\",\"showbackground\":true,\"ticks\":\"\",\"zerolinecolor\":\"white\",\"gridwidth\":2},\"zaxis\":{\"backgroundcolor\":\"#E5ECF6\",\"gridcolor\":\"white\",\"linecolor\":\"white\",\"showbackground\":true,\"ticks\":\"\",\"zerolinecolor\":\"white\",\"gridwidth\":2}},\"shapedefaults\":{\"line\":{\"color\":\"#2a3f5f\"}},\"annotationdefaults\":{\"arrowcolor\":\"#2a3f5f\",\"arrowhead\":0,\"arrowwidth\":1},\"geo\":{\"bgcolor\":\"white\",\"landcolor\":\"#E5ECF6\",\"subunitcolor\":\"white\",\"showland\":true,\"showlakes\":true,\"lakecolor\":\"white\"},\"title\":{\"x\":0.05},\"mapbox\":{\"style\":\"light\"}}},\"xaxis\":{\"anchor\":\"y\",\"domain\":[0.0,1.0],\"title\":{\"text\":\"successful_plays_last\"}},\"yaxis\":{\"anchor\":\"x\",\"domain\":[0.0,1.0],\"title\":{\"text\":\"successful_plays\"}},\"legend\":{\"tracegroupgap\":0},\"margin\":{\"t\":60}},                        {\"responsive\": true}                    ).then(function(){\n",
       "                            \n",
       "var gd = document.getElementById('2c4acd8d-587a-4e2d-a838-621e7f8b676a');\n",
       "var x = new MutationObserver(function (mutations, observer) {{\n",
       "        var display = window.getComputedStyle(gd).display;\n",
       "        if (!display || display === 'none') {{\n",
       "            console.log([gd, 'removed!']);\n",
       "            Plotly.purge(gd);\n",
       "            observer.disconnect();\n",
       "        }}\n",
       "}});\n",
       "\n",
       "// Listen for the removal of the full notebook cells\n",
       "var notebookContainer = gd.closest('#notebook-container');\n",
       "if (notebookContainer) {{\n",
       "    x.observe(notebookContainer, {childList: true});\n",
       "}}\n",
       "\n",
       "// Listen for the clearing of the current output cell\n",
       "var outputEl = gd.closest('.output');\n",
       "if (outputEl) {{\n",
       "    x.observe(outputEl, {childList: true});\n",
       "}}\n",
       "\n",
       "                        })                };                });            </script>        </div>"
      ]
     },
     "metadata": {},
     "output_type": "display_data"
    }
   ],
   "source": [
    "query = \"position == 'QB' and carries > 20 and carries_last > 20\"\n",
    "create_corr_for_fantasy_relevance(query=query, title=\"fantasy-relevance-unfiltered-qb-20\")"
   ]
  },
  {
   "cell_type": "markdown",
   "id": "4ead100c",
   "metadata": {},
   "source": [
    "### 40 Carries"
   ]
  },
  {
   "cell_type": "code",
   "execution_count": 156,
   "id": "76e0e965",
   "metadata": {},
   "outputs": [
    {
     "data": {
      "text/plain": [
       "['rushing_yards', 'successful_plays', 'carries']"
      ]
     },
     "execution_count": 156,
     "metadata": {},
     "output_type": "execute_result"
    }
   ],
   "source": [
    "sort_corr(df.query(\"position == 'QB' and carries > 40 and carries_last > 40\"))"
   ]
  },
  {
   "cell_type": "code",
   "execution_count": 157,
   "id": "ab430654",
   "metadata": {},
   "outputs": [
    {
     "data": {
      "text/html": [
       "<div>\n",
       "<style scoped>\n",
       "    .dataframe tbody tr th:only-of-type {\n",
       "        vertical-align: middle;\n",
       "    }\n",
       "\n",
       "    .dataframe tbody tr th {\n",
       "        vertical-align: top;\n",
       "    }\n",
       "\n",
       "    .dataframe thead th {\n",
       "        text-align: right;\n",
       "    }\n",
       "</style>\n",
       "<table border=\"1\" class=\"dataframe\">\n",
       "  <thead>\n",
       "    <tr style=\"text-align: right;\">\n",
       "      <th></th>\n",
       "      <th>successful_plays</th>\n",
       "      <th>successful_plays_last</th>\n",
       "    </tr>\n",
       "  </thead>\n",
       "  <tbody>\n",
       "    <tr>\n",
       "      <th>successful_plays</th>\n",
       "      <td>1.000000</td>\n",
       "      <td>0.425633</td>\n",
       "    </tr>\n",
       "    <tr>\n",
       "      <th>successful_plays_last</th>\n",
       "      <td>0.425633</td>\n",
       "      <td>1.000000</td>\n",
       "    </tr>\n",
       "  </tbody>\n",
       "</table>\n",
       "</div>"
      ],
      "text/plain": [
       "                       successful_plays  successful_plays_last\n",
       "successful_plays               1.000000               0.425633\n",
       "successful_plays_last          0.425633               1.000000"
      ]
     },
     "execution_count": 157,
     "metadata": {},
     "output_type": "execute_result"
    }
   ],
   "source": [
    "df.query(\"position == 'QB' and \\\n",
    "carries > 40 and carries_last > 40\")[[\"successful_plays\", \"successful_plays_last\"]].corr()"
   ]
  },
  {
   "cell_type": "code",
   "execution_count": 158,
   "id": "752099ea",
   "metadata": {},
   "outputs": [
    {
     "data": {
      "application/vnd.plotly.v1+json": {
       "config": {
        "plotlyServerURL": "https://plot.ly"
       },
       "data": [
        {
         "coloraxis": "coloraxis",
         "hovertemplate": "Current Season Stats: %{x}<br>Previous Season Stats: %{y}<br>color: %{z}<extra></extra>",
         "name": "0",
         "texttemplate": "%{z}",
         "type": "heatmap",
         "x": [
          "successful_plays",
          "rushing_yards",
          "carries"
         ],
         "xaxis": "x",
         "y": [
          "fantasy_points",
          "fantasy_points_last"
         ],
         "yaxis": "y",
         "z": [
          [
           0.5,
           0.4,
           0.52
          ],
          [
           -0.21,
           -0.27,
           -0.13
          ]
         ]
        }
       ],
       "layout": {
        "coloraxis": {
         "colorscale": [
          [
           0,
           "#0d0887"
          ],
          [
           0.1111111111111111,
           "#46039f"
          ],
          [
           0.2222222222222222,
           "#7201a8"
          ],
          [
           0.3333333333333333,
           "#9c179e"
          ],
          [
           0.4444444444444444,
           "#bd3786"
          ],
          [
           0.5555555555555556,
           "#d8576b"
          ],
          [
           0.6666666666666666,
           "#ed7953"
          ],
          [
           0.7777777777777778,
           "#fb9f3a"
          ],
          [
           0.8888888888888888,
           "#fdca26"
          ],
          [
           1,
           "#f0f921"
          ]
         ]
        },
        "margin": {
         "t": 60
        },
        "template": {
         "data": {
          "bar": [
           {
            "error_x": {
             "color": "#2a3f5f"
            },
            "error_y": {
             "color": "#2a3f5f"
            },
            "marker": {
             "line": {
              "color": "#E5ECF6",
              "width": 0.5
             },
             "pattern": {
              "fillmode": "overlay",
              "size": 10,
              "solidity": 0.2
             }
            },
            "type": "bar"
           }
          ],
          "barpolar": [
           {
            "marker": {
             "line": {
              "color": "#E5ECF6",
              "width": 0.5
             },
             "pattern": {
              "fillmode": "overlay",
              "size": 10,
              "solidity": 0.2
             }
            },
            "type": "barpolar"
           }
          ],
          "carpet": [
           {
            "aaxis": {
             "endlinecolor": "#2a3f5f",
             "gridcolor": "white",
             "linecolor": "white",
             "minorgridcolor": "white",
             "startlinecolor": "#2a3f5f"
            },
            "baxis": {
             "endlinecolor": "#2a3f5f",
             "gridcolor": "white",
             "linecolor": "white",
             "minorgridcolor": "white",
             "startlinecolor": "#2a3f5f"
            },
            "type": "carpet"
           }
          ],
          "choropleth": [
           {
            "colorbar": {
             "outlinewidth": 0,
             "ticks": ""
            },
            "type": "choropleth"
           }
          ],
          "contour": [
           {
            "colorbar": {
             "outlinewidth": 0,
             "ticks": ""
            },
            "colorscale": [
             [
              0,
              "#0d0887"
             ],
             [
              0.1111111111111111,
              "#46039f"
             ],
             [
              0.2222222222222222,
              "#7201a8"
             ],
             [
              0.3333333333333333,
              "#9c179e"
             ],
             [
              0.4444444444444444,
              "#bd3786"
             ],
             [
              0.5555555555555556,
              "#d8576b"
             ],
             [
              0.6666666666666666,
              "#ed7953"
             ],
             [
              0.7777777777777778,
              "#fb9f3a"
             ],
             [
              0.8888888888888888,
              "#fdca26"
             ],
             [
              1,
              "#f0f921"
             ]
            ],
            "type": "contour"
           }
          ],
          "contourcarpet": [
           {
            "colorbar": {
             "outlinewidth": 0,
             "ticks": ""
            },
            "type": "contourcarpet"
           }
          ],
          "heatmap": [
           {
            "colorbar": {
             "outlinewidth": 0,
             "ticks": ""
            },
            "colorscale": [
             [
              0,
              "#0d0887"
             ],
             [
              0.1111111111111111,
              "#46039f"
             ],
             [
              0.2222222222222222,
              "#7201a8"
             ],
             [
              0.3333333333333333,
              "#9c179e"
             ],
             [
              0.4444444444444444,
              "#bd3786"
             ],
             [
              0.5555555555555556,
              "#d8576b"
             ],
             [
              0.6666666666666666,
              "#ed7953"
             ],
             [
              0.7777777777777778,
              "#fb9f3a"
             ],
             [
              0.8888888888888888,
              "#fdca26"
             ],
             [
              1,
              "#f0f921"
             ]
            ],
            "type": "heatmap"
           }
          ],
          "heatmapgl": [
           {
            "colorbar": {
             "outlinewidth": 0,
             "ticks": ""
            },
            "colorscale": [
             [
              0,
              "#0d0887"
             ],
             [
              0.1111111111111111,
              "#46039f"
             ],
             [
              0.2222222222222222,
              "#7201a8"
             ],
             [
              0.3333333333333333,
              "#9c179e"
             ],
             [
              0.4444444444444444,
              "#bd3786"
             ],
             [
              0.5555555555555556,
              "#d8576b"
             ],
             [
              0.6666666666666666,
              "#ed7953"
             ],
             [
              0.7777777777777778,
              "#fb9f3a"
             ],
             [
              0.8888888888888888,
              "#fdca26"
             ],
             [
              1,
              "#f0f921"
             ]
            ],
            "type": "heatmapgl"
           }
          ],
          "histogram": [
           {
            "marker": {
             "pattern": {
              "fillmode": "overlay",
              "size": 10,
              "solidity": 0.2
             }
            },
            "type": "histogram"
           }
          ],
          "histogram2d": [
           {
            "colorbar": {
             "outlinewidth": 0,
             "ticks": ""
            },
            "colorscale": [
             [
              0,
              "#0d0887"
             ],
             [
              0.1111111111111111,
              "#46039f"
             ],
             [
              0.2222222222222222,
              "#7201a8"
             ],
             [
              0.3333333333333333,
              "#9c179e"
             ],
             [
              0.4444444444444444,
              "#bd3786"
             ],
             [
              0.5555555555555556,
              "#d8576b"
             ],
             [
              0.6666666666666666,
              "#ed7953"
             ],
             [
              0.7777777777777778,
              "#fb9f3a"
             ],
             [
              0.8888888888888888,
              "#fdca26"
             ],
             [
              1,
              "#f0f921"
             ]
            ],
            "type": "histogram2d"
           }
          ],
          "histogram2dcontour": [
           {
            "colorbar": {
             "outlinewidth": 0,
             "ticks": ""
            },
            "colorscale": [
             [
              0,
              "#0d0887"
             ],
             [
              0.1111111111111111,
              "#46039f"
             ],
             [
              0.2222222222222222,
              "#7201a8"
             ],
             [
              0.3333333333333333,
              "#9c179e"
             ],
             [
              0.4444444444444444,
              "#bd3786"
             ],
             [
              0.5555555555555556,
              "#d8576b"
             ],
             [
              0.6666666666666666,
              "#ed7953"
             ],
             [
              0.7777777777777778,
              "#fb9f3a"
             ],
             [
              0.8888888888888888,
              "#fdca26"
             ],
             [
              1,
              "#f0f921"
             ]
            ],
            "type": "histogram2dcontour"
           }
          ],
          "mesh3d": [
           {
            "colorbar": {
             "outlinewidth": 0,
             "ticks": ""
            },
            "type": "mesh3d"
           }
          ],
          "parcoords": [
           {
            "line": {
             "colorbar": {
              "outlinewidth": 0,
              "ticks": ""
             }
            },
            "type": "parcoords"
           }
          ],
          "pie": [
           {
            "automargin": true,
            "type": "pie"
           }
          ],
          "scatter": [
           {
            "fillpattern": {
             "fillmode": "overlay",
             "size": 10,
             "solidity": 0.2
            },
            "type": "scatter"
           }
          ],
          "scatter3d": [
           {
            "line": {
             "colorbar": {
              "outlinewidth": 0,
              "ticks": ""
             }
            },
            "marker": {
             "colorbar": {
              "outlinewidth": 0,
              "ticks": ""
             }
            },
            "type": "scatter3d"
           }
          ],
          "scattercarpet": [
           {
            "marker": {
             "colorbar": {
              "outlinewidth": 0,
              "ticks": ""
             }
            },
            "type": "scattercarpet"
           }
          ],
          "scattergeo": [
           {
            "marker": {
             "colorbar": {
              "outlinewidth": 0,
              "ticks": ""
             }
            },
            "type": "scattergeo"
           }
          ],
          "scattergl": [
           {
            "marker": {
             "colorbar": {
              "outlinewidth": 0,
              "ticks": ""
             }
            },
            "type": "scattergl"
           }
          ],
          "scattermapbox": [
           {
            "marker": {
             "colorbar": {
              "outlinewidth": 0,
              "ticks": ""
             }
            },
            "type": "scattermapbox"
           }
          ],
          "scatterpolar": [
           {
            "marker": {
             "colorbar": {
              "outlinewidth": 0,
              "ticks": ""
             }
            },
            "type": "scatterpolar"
           }
          ],
          "scatterpolargl": [
           {
            "marker": {
             "colorbar": {
              "outlinewidth": 0,
              "ticks": ""
             }
            },
            "type": "scatterpolargl"
           }
          ],
          "scatterternary": [
           {
            "marker": {
             "colorbar": {
              "outlinewidth": 0,
              "ticks": ""
             }
            },
            "type": "scatterternary"
           }
          ],
          "surface": [
           {
            "colorbar": {
             "outlinewidth": 0,
             "ticks": ""
            },
            "colorscale": [
             [
              0,
              "#0d0887"
             ],
             [
              0.1111111111111111,
              "#46039f"
             ],
             [
              0.2222222222222222,
              "#7201a8"
             ],
             [
              0.3333333333333333,
              "#9c179e"
             ],
             [
              0.4444444444444444,
              "#bd3786"
             ],
             [
              0.5555555555555556,
              "#d8576b"
             ],
             [
              0.6666666666666666,
              "#ed7953"
             ],
             [
              0.7777777777777778,
              "#fb9f3a"
             ],
             [
              0.8888888888888888,
              "#fdca26"
             ],
             [
              1,
              "#f0f921"
             ]
            ],
            "type": "surface"
           }
          ],
          "table": [
           {
            "cells": {
             "fill": {
              "color": "#EBF0F8"
             },
             "line": {
              "color": "white"
             }
            },
            "header": {
             "fill": {
              "color": "#C8D4E3"
             },
             "line": {
              "color": "white"
             }
            },
            "type": "table"
           }
          ]
         },
         "layout": {
          "annotationdefaults": {
           "arrowcolor": "#2a3f5f",
           "arrowhead": 0,
           "arrowwidth": 1
          },
          "autotypenumbers": "strict",
          "coloraxis": {
           "colorbar": {
            "outlinewidth": 0,
            "ticks": ""
           }
          },
          "colorscale": {
           "diverging": [
            [
             0,
             "#8e0152"
            ],
            [
             0.1,
             "#c51b7d"
            ],
            [
             0.2,
             "#de77ae"
            ],
            [
             0.3,
             "#f1b6da"
            ],
            [
             0.4,
             "#fde0ef"
            ],
            [
             0.5,
             "#f7f7f7"
            ],
            [
             0.6,
             "#e6f5d0"
            ],
            [
             0.7,
             "#b8e186"
            ],
            [
             0.8,
             "#7fbc41"
            ],
            [
             0.9,
             "#4d9221"
            ],
            [
             1,
             "#276419"
            ]
           ],
           "sequential": [
            [
             0,
             "#0d0887"
            ],
            [
             0.1111111111111111,
             "#46039f"
            ],
            [
             0.2222222222222222,
             "#7201a8"
            ],
            [
             0.3333333333333333,
             "#9c179e"
            ],
            [
             0.4444444444444444,
             "#bd3786"
            ],
            [
             0.5555555555555556,
             "#d8576b"
            ],
            [
             0.6666666666666666,
             "#ed7953"
            ],
            [
             0.7777777777777778,
             "#fb9f3a"
            ],
            [
             0.8888888888888888,
             "#fdca26"
            ],
            [
             1,
             "#f0f921"
            ]
           ],
           "sequentialminus": [
            [
             0,
             "#0d0887"
            ],
            [
             0.1111111111111111,
             "#46039f"
            ],
            [
             0.2222222222222222,
             "#7201a8"
            ],
            [
             0.3333333333333333,
             "#9c179e"
            ],
            [
             0.4444444444444444,
             "#bd3786"
            ],
            [
             0.5555555555555556,
             "#d8576b"
            ],
            [
             0.6666666666666666,
             "#ed7953"
            ],
            [
             0.7777777777777778,
             "#fb9f3a"
            ],
            [
             0.8888888888888888,
             "#fdca26"
            ],
            [
             1,
             "#f0f921"
            ]
           ]
          },
          "colorway": [
           "#636efa",
           "#EF553B",
           "#00cc96",
           "#ab63fa",
           "#FFA15A",
           "#19d3f3",
           "#FF6692",
           "#B6E880",
           "#FF97FF",
           "#FECB52"
          ],
          "font": {
           "color": "#2a3f5f"
          },
          "geo": {
           "bgcolor": "white",
           "lakecolor": "white",
           "landcolor": "#E5ECF6",
           "showlakes": true,
           "showland": true,
           "subunitcolor": "white"
          },
          "hoverlabel": {
           "align": "left"
          },
          "hovermode": "closest",
          "mapbox": {
           "style": "light"
          },
          "paper_bgcolor": "white",
          "plot_bgcolor": "#E5ECF6",
          "polar": {
           "angularaxis": {
            "gridcolor": "white",
            "linecolor": "white",
            "ticks": ""
           },
           "bgcolor": "#E5ECF6",
           "radialaxis": {
            "gridcolor": "white",
            "linecolor": "white",
            "ticks": ""
           }
          },
          "scene": {
           "xaxis": {
            "backgroundcolor": "#E5ECF6",
            "gridcolor": "white",
            "gridwidth": 2,
            "linecolor": "white",
            "showbackground": true,
            "ticks": "",
            "zerolinecolor": "white"
           },
           "yaxis": {
            "backgroundcolor": "#E5ECF6",
            "gridcolor": "white",
            "gridwidth": 2,
            "linecolor": "white",
            "showbackground": true,
            "ticks": "",
            "zerolinecolor": "white"
           },
           "zaxis": {
            "backgroundcolor": "#E5ECF6",
            "gridcolor": "white",
            "gridwidth": 2,
            "linecolor": "white",
            "showbackground": true,
            "ticks": "",
            "zerolinecolor": "white"
           }
          },
          "shapedefaults": {
           "line": {
            "color": "#2a3f5f"
           }
          },
          "ternary": {
           "aaxis": {
            "gridcolor": "white",
            "linecolor": "white",
            "ticks": ""
           },
           "baxis": {
            "gridcolor": "white",
            "linecolor": "white",
            "ticks": ""
           },
           "bgcolor": "#E5ECF6",
           "caxis": {
            "gridcolor": "white",
            "linecolor": "white",
            "ticks": ""
           }
          },
          "title": {
           "x": 0.05
          },
          "xaxis": {
           "automargin": true,
           "gridcolor": "white",
           "linecolor": "white",
           "ticks": "",
           "title": {
            "standoff": 15
           },
           "zerolinecolor": "white",
           "zerolinewidth": 2
          },
          "yaxis": {
           "automargin": true,
           "gridcolor": "white",
           "linecolor": "white",
           "ticks": "",
           "title": {
            "standoff": 15
           },
           "zerolinecolor": "white",
           "zerolinewidth": 2
          }
         }
        },
        "xaxis": {
         "anchor": "y",
         "constrain": "domain",
         "domain": [
          0,
          1
         ],
         "scaleanchor": "y",
         "title": {
          "text": "Current Season Stats"
         }
        },
        "yaxis": {
         "anchor": "x",
         "autorange": "reversed",
         "constrain": "domain",
         "domain": [
          0,
          1
         ],
         "title": {
          "text": "Previous Season Stats"
         }
        }
       }
      },
      "text/html": [
       "<div>                            <div id=\"a3907cc1-678f-4410-b9f7-26da714eacef\" class=\"plotly-graph-div\" style=\"height:525px; width:100%;\"></div>            <script type=\"text/javascript\">                require([\"plotly\"], function(Plotly) {                    window.PLOTLYENV=window.PLOTLYENV || {};                                    if (document.getElementById(\"a3907cc1-678f-4410-b9f7-26da714eacef\")) {                    Plotly.newPlot(                        \"a3907cc1-678f-4410-b9f7-26da714eacef\",                        [{\"coloraxis\":\"coloraxis\",\"name\":\"0\",\"texttemplate\":\"%{z}\",\"x\":[\"successful_plays\",\"rushing_yards\",\"carries\"],\"y\":[\"fantasy_points\",\"fantasy_points_last\"],\"z\":[[0.5,0.4,0.52],[-0.21,-0.27,-0.13]],\"type\":\"heatmap\",\"xaxis\":\"x\",\"yaxis\":\"y\",\"hovertemplate\":\"Current Season Stats: %{x}\\u003cbr\\u003ePrevious Season Stats: %{y}\\u003cbr\\u003ecolor: %{z}\\u003cextra\\u003e\\u003c\\u002fextra\\u003e\"}],                        {\"template\":{\"data\":{\"histogram2dcontour\":[{\"type\":\"histogram2dcontour\",\"colorbar\":{\"outlinewidth\":0,\"ticks\":\"\"},\"colorscale\":[[0.0,\"#0d0887\"],[0.1111111111111111,\"#46039f\"],[0.2222222222222222,\"#7201a8\"],[0.3333333333333333,\"#9c179e\"],[0.4444444444444444,\"#bd3786\"],[0.5555555555555556,\"#d8576b\"],[0.6666666666666666,\"#ed7953\"],[0.7777777777777778,\"#fb9f3a\"],[0.8888888888888888,\"#fdca26\"],[1.0,\"#f0f921\"]]}],\"choropleth\":[{\"type\":\"choropleth\",\"colorbar\":{\"outlinewidth\":0,\"ticks\":\"\"}}],\"histogram2d\":[{\"type\":\"histogram2d\",\"colorbar\":{\"outlinewidth\":0,\"ticks\":\"\"},\"colorscale\":[[0.0,\"#0d0887\"],[0.1111111111111111,\"#46039f\"],[0.2222222222222222,\"#7201a8\"],[0.3333333333333333,\"#9c179e\"],[0.4444444444444444,\"#bd3786\"],[0.5555555555555556,\"#d8576b\"],[0.6666666666666666,\"#ed7953\"],[0.7777777777777778,\"#fb9f3a\"],[0.8888888888888888,\"#fdca26\"],[1.0,\"#f0f921\"]]}],\"heatmap\":[{\"type\":\"heatmap\",\"colorbar\":{\"outlinewidth\":0,\"ticks\":\"\"},\"colorscale\":[[0.0,\"#0d0887\"],[0.1111111111111111,\"#46039f\"],[0.2222222222222222,\"#7201a8\"],[0.3333333333333333,\"#9c179e\"],[0.4444444444444444,\"#bd3786\"],[0.5555555555555556,\"#d8576b\"],[0.6666666666666666,\"#ed7953\"],[0.7777777777777778,\"#fb9f3a\"],[0.8888888888888888,\"#fdca26\"],[1.0,\"#f0f921\"]]}],\"heatmapgl\":[{\"type\":\"heatmapgl\",\"colorbar\":{\"outlinewidth\":0,\"ticks\":\"\"},\"colorscale\":[[0.0,\"#0d0887\"],[0.1111111111111111,\"#46039f\"],[0.2222222222222222,\"#7201a8\"],[0.3333333333333333,\"#9c179e\"],[0.4444444444444444,\"#bd3786\"],[0.5555555555555556,\"#d8576b\"],[0.6666666666666666,\"#ed7953\"],[0.7777777777777778,\"#fb9f3a\"],[0.8888888888888888,\"#fdca26\"],[1.0,\"#f0f921\"]]}],\"contourcarpet\":[{\"type\":\"contourcarpet\",\"colorbar\":{\"outlinewidth\":0,\"ticks\":\"\"}}],\"contour\":[{\"type\":\"contour\",\"colorbar\":{\"outlinewidth\":0,\"ticks\":\"\"},\"colorscale\":[[0.0,\"#0d0887\"],[0.1111111111111111,\"#46039f\"],[0.2222222222222222,\"#7201a8\"],[0.3333333333333333,\"#9c179e\"],[0.4444444444444444,\"#bd3786\"],[0.5555555555555556,\"#d8576b\"],[0.6666666666666666,\"#ed7953\"],[0.7777777777777778,\"#fb9f3a\"],[0.8888888888888888,\"#fdca26\"],[1.0,\"#f0f921\"]]}],\"surface\":[{\"type\":\"surface\",\"colorbar\":{\"outlinewidth\":0,\"ticks\":\"\"},\"colorscale\":[[0.0,\"#0d0887\"],[0.1111111111111111,\"#46039f\"],[0.2222222222222222,\"#7201a8\"],[0.3333333333333333,\"#9c179e\"],[0.4444444444444444,\"#bd3786\"],[0.5555555555555556,\"#d8576b\"],[0.6666666666666666,\"#ed7953\"],[0.7777777777777778,\"#fb9f3a\"],[0.8888888888888888,\"#fdca26\"],[1.0,\"#f0f921\"]]}],\"mesh3d\":[{\"type\":\"mesh3d\",\"colorbar\":{\"outlinewidth\":0,\"ticks\":\"\"}}],\"scatter\":[{\"fillpattern\":{\"fillmode\":\"overlay\",\"size\":10,\"solidity\":0.2},\"type\":\"scatter\"}],\"parcoords\":[{\"type\":\"parcoords\",\"line\":{\"colorbar\":{\"outlinewidth\":0,\"ticks\":\"\"}}}],\"scatterpolargl\":[{\"type\":\"scatterpolargl\",\"marker\":{\"colorbar\":{\"outlinewidth\":0,\"ticks\":\"\"}}}],\"bar\":[{\"error_x\":{\"color\":\"#2a3f5f\"},\"error_y\":{\"color\":\"#2a3f5f\"},\"marker\":{\"line\":{\"color\":\"#E5ECF6\",\"width\":0.5},\"pattern\":{\"fillmode\":\"overlay\",\"size\":10,\"solidity\":0.2}},\"type\":\"bar\"}],\"scattergeo\":[{\"type\":\"scattergeo\",\"marker\":{\"colorbar\":{\"outlinewidth\":0,\"ticks\":\"\"}}}],\"scatterpolar\":[{\"type\":\"scatterpolar\",\"marker\":{\"colorbar\":{\"outlinewidth\":0,\"ticks\":\"\"}}}],\"histogram\":[{\"marker\":{\"pattern\":{\"fillmode\":\"overlay\",\"size\":10,\"solidity\":0.2}},\"type\":\"histogram\"}],\"scattergl\":[{\"type\":\"scattergl\",\"marker\":{\"colorbar\":{\"outlinewidth\":0,\"ticks\":\"\"}}}],\"scatter3d\":[{\"type\":\"scatter3d\",\"line\":{\"colorbar\":{\"outlinewidth\":0,\"ticks\":\"\"}},\"marker\":{\"colorbar\":{\"outlinewidth\":0,\"ticks\":\"\"}}}],\"scattermapbox\":[{\"type\":\"scattermapbox\",\"marker\":{\"colorbar\":{\"outlinewidth\":0,\"ticks\":\"\"}}}],\"scatterternary\":[{\"type\":\"scatterternary\",\"marker\":{\"colorbar\":{\"outlinewidth\":0,\"ticks\":\"\"}}}],\"scattercarpet\":[{\"type\":\"scattercarpet\",\"marker\":{\"colorbar\":{\"outlinewidth\":0,\"ticks\":\"\"}}}],\"carpet\":[{\"aaxis\":{\"endlinecolor\":\"#2a3f5f\",\"gridcolor\":\"white\",\"linecolor\":\"white\",\"minorgridcolor\":\"white\",\"startlinecolor\":\"#2a3f5f\"},\"baxis\":{\"endlinecolor\":\"#2a3f5f\",\"gridcolor\":\"white\",\"linecolor\":\"white\",\"minorgridcolor\":\"white\",\"startlinecolor\":\"#2a3f5f\"},\"type\":\"carpet\"}],\"table\":[{\"cells\":{\"fill\":{\"color\":\"#EBF0F8\"},\"line\":{\"color\":\"white\"}},\"header\":{\"fill\":{\"color\":\"#C8D4E3\"},\"line\":{\"color\":\"white\"}},\"type\":\"table\"}],\"barpolar\":[{\"marker\":{\"line\":{\"color\":\"#E5ECF6\",\"width\":0.5},\"pattern\":{\"fillmode\":\"overlay\",\"size\":10,\"solidity\":0.2}},\"type\":\"barpolar\"}],\"pie\":[{\"automargin\":true,\"type\":\"pie\"}]},\"layout\":{\"autotypenumbers\":\"strict\",\"colorway\":[\"#636efa\",\"#EF553B\",\"#00cc96\",\"#ab63fa\",\"#FFA15A\",\"#19d3f3\",\"#FF6692\",\"#B6E880\",\"#FF97FF\",\"#FECB52\"],\"font\":{\"color\":\"#2a3f5f\"},\"hovermode\":\"closest\",\"hoverlabel\":{\"align\":\"left\"},\"paper_bgcolor\":\"white\",\"plot_bgcolor\":\"#E5ECF6\",\"polar\":{\"bgcolor\":\"#E5ECF6\",\"angularaxis\":{\"gridcolor\":\"white\",\"linecolor\":\"white\",\"ticks\":\"\"},\"radialaxis\":{\"gridcolor\":\"white\",\"linecolor\":\"white\",\"ticks\":\"\"}},\"ternary\":{\"bgcolor\":\"#E5ECF6\",\"aaxis\":{\"gridcolor\":\"white\",\"linecolor\":\"white\",\"ticks\":\"\"},\"baxis\":{\"gridcolor\":\"white\",\"linecolor\":\"white\",\"ticks\":\"\"},\"caxis\":{\"gridcolor\":\"white\",\"linecolor\":\"white\",\"ticks\":\"\"}},\"coloraxis\":{\"colorbar\":{\"outlinewidth\":0,\"ticks\":\"\"}},\"colorscale\":{\"sequential\":[[0.0,\"#0d0887\"],[0.1111111111111111,\"#46039f\"],[0.2222222222222222,\"#7201a8\"],[0.3333333333333333,\"#9c179e\"],[0.4444444444444444,\"#bd3786\"],[0.5555555555555556,\"#d8576b\"],[0.6666666666666666,\"#ed7953\"],[0.7777777777777778,\"#fb9f3a\"],[0.8888888888888888,\"#fdca26\"],[1.0,\"#f0f921\"]],\"sequentialminus\":[[0.0,\"#0d0887\"],[0.1111111111111111,\"#46039f\"],[0.2222222222222222,\"#7201a8\"],[0.3333333333333333,\"#9c179e\"],[0.4444444444444444,\"#bd3786\"],[0.5555555555555556,\"#d8576b\"],[0.6666666666666666,\"#ed7953\"],[0.7777777777777778,\"#fb9f3a\"],[0.8888888888888888,\"#fdca26\"],[1.0,\"#f0f921\"]],\"diverging\":[[0,\"#8e0152\"],[0.1,\"#c51b7d\"],[0.2,\"#de77ae\"],[0.3,\"#f1b6da\"],[0.4,\"#fde0ef\"],[0.5,\"#f7f7f7\"],[0.6,\"#e6f5d0\"],[0.7,\"#b8e186\"],[0.8,\"#7fbc41\"],[0.9,\"#4d9221\"],[1,\"#276419\"]]},\"xaxis\":{\"gridcolor\":\"white\",\"linecolor\":\"white\",\"ticks\":\"\",\"title\":{\"standoff\":15},\"zerolinecolor\":\"white\",\"automargin\":true,\"zerolinewidth\":2},\"yaxis\":{\"gridcolor\":\"white\",\"linecolor\":\"white\",\"ticks\":\"\",\"title\":{\"standoff\":15},\"zerolinecolor\":\"white\",\"automargin\":true,\"zerolinewidth\":2},\"scene\":{\"xaxis\":{\"backgroundcolor\":\"#E5ECF6\",\"gridcolor\":\"white\",\"linecolor\":\"white\",\"showbackground\":true,\"ticks\":\"\",\"zerolinecolor\":\"white\",\"gridwidth\":2},\"yaxis\":{\"backgroundcolor\":\"#E5ECF6\",\"gridcolor\":\"white\",\"linecolor\":\"white\",\"showbackground\":true,\"ticks\":\"\",\"zerolinecolor\":\"white\",\"gridwidth\":2},\"zaxis\":{\"backgroundcolor\":\"#E5ECF6\",\"gridcolor\":\"white\",\"linecolor\":\"white\",\"showbackground\":true,\"ticks\":\"\",\"zerolinecolor\":\"white\",\"gridwidth\":2}},\"shapedefaults\":{\"line\":{\"color\":\"#2a3f5f\"}},\"annotationdefaults\":{\"arrowcolor\":\"#2a3f5f\",\"arrowhead\":0,\"arrowwidth\":1},\"geo\":{\"bgcolor\":\"white\",\"landcolor\":\"#E5ECF6\",\"subunitcolor\":\"white\",\"showland\":true,\"showlakes\":true,\"lakecolor\":\"white\"},\"title\":{\"x\":0.05},\"mapbox\":{\"style\":\"light\"}}},\"xaxis\":{\"anchor\":\"y\",\"domain\":[0.0,1.0],\"scaleanchor\":\"y\",\"constrain\":\"domain\",\"title\":{\"text\":\"Current Season Stats\"}},\"yaxis\":{\"anchor\":\"x\",\"domain\":[0.0,1.0],\"autorange\":\"reversed\",\"constrain\":\"domain\",\"title\":{\"text\":\"Previous Season Stats\"}},\"coloraxis\":{\"colorscale\":[[0.0,\"#0d0887\"],[0.1111111111111111,\"#46039f\"],[0.2222222222222222,\"#7201a8\"],[0.3333333333333333,\"#9c179e\"],[0.4444444444444444,\"#bd3786\"],[0.5555555555555556,\"#d8576b\"],[0.6666666666666666,\"#ed7953\"],[0.7777777777777778,\"#fb9f3a\"],[0.8888888888888888,\"#fdca26\"],[1.0,\"#f0f921\"]]},\"margin\":{\"t\":60}},                        {\"responsive\": true}                    ).then(function(){\n",
       "                            \n",
       "var gd = document.getElementById('a3907cc1-678f-4410-b9f7-26da714eacef');\n",
       "var x = new MutationObserver(function (mutations, observer) {{\n",
       "        var display = window.getComputedStyle(gd).display;\n",
       "        if (!display || display === 'none') {{\n",
       "            console.log([gd, 'removed!']);\n",
       "            Plotly.purge(gd);\n",
       "            observer.disconnect();\n",
       "        }}\n",
       "}});\n",
       "\n",
       "// Listen for the removal of the full notebook cells\n",
       "var notebookContainer = gd.closest('#notebook-container');\n",
       "if (notebookContainer) {{\n",
       "    x.observe(notebookContainer, {childList: true});\n",
       "}}\n",
       "\n",
       "// Listen for the clearing of the current output cell\n",
       "var outputEl = gd.closest('.output');\n",
       "if (outputEl) {{\n",
       "    x.observe(outputEl, {childList: true});\n",
       "}}\n",
       "\n",
       "                        })                };                });            </script>        </div>"
      ]
     },
     "metadata": {},
     "output_type": "display_data"
    },
    {
     "name": "stdout",
     "output_type": "stream",
     "text": [
      "carries\n",
      "\n",
      "Save path: fantasy-relevance-unfiltered-qb-40-scatter-carries\n",
      "\n"
     ]
    },
    {
     "data": {
      "application/vnd.plotly.v1+json": {
       "config": {
        "plotlyServerURL": "https://plot.ly"
       },
       "data": [
        {
         "customdata": [
          [
           "C.Newton",
           2013,
           24
          ],
          [
           "C.Newton",
           2014,
           25
          ],
          [
           "C.Newton",
           2015,
           26
          ],
          [
           "C.Newton",
           2016,
           27
          ],
          [
           "C.Newton",
           2017,
           28
          ],
          [
           "C.Newton",
           2018,
           29
          ],
          [
           "C.Newton",
           2021,
           32
          ],
          [
           "T.Taylor",
           2016,
           27
          ],
          [
           "R.Griffin III",
           2013,
           23
          ],
          [
           "T.Hill",
           2021,
           31
          ],
          [
           "L.Jackson",
           2019,
           22
          ],
          [
           "L.Jackson",
           2020,
           23
          ],
          [
           "L.Jackson",
           2021,
           24
          ],
          [
           "L.Jackson",
           2022,
           25
          ],
          [
           "J.Allen",
           2020,
           24
          ],
          [
           "J.Allen",
           2021,
           25
          ],
          [
           "J.Allen",
           2022,
           26
          ],
          [
           "K.Murray",
           2020,
           23
          ],
          [
           "K.Murray",
           2021,
           24
          ],
          [
           "J.Hurts",
           2022,
           24
          ]
         ],
         "hovertemplate": "carries_last=%{x}<br>carries=%{y}<br>rusher=%{customdata[0]}<br>season=%{customdata[1]}<br>age=%{customdata[2]}<extra></extra>",
         "legendgroup": "",
         "marker": {
          "color": "#636efa",
          "symbol": "circle"
         },
         "mode": "markers",
         "name": "",
         "orientation": "v",
         "showlegend": false,
         "type": "scatter",
         "x": [
          82,
          62,
          65,
          91,
          74,
          93,
          108,
          41,
          70,
          70,
          116,
          123,
          102,
          77,
          53,
          51,
          67,
          56,
          75,
          77
         ],
         "xaxis": "x",
         "y": [
          62,
          65,
          91,
          74,
          93,
          63,
          41,
          41,
          44,
          53,
          123,
          102,
          77,
          73,
          51,
          67,
          57,
          75,
          51,
          103
         ],
         "yaxis": "y"
        }
       ],
       "layout": {
        "legend": {
         "tracegroupgap": 0
        },
        "margin": {
         "t": 60
        },
        "template": {
         "data": {
          "bar": [
           {
            "error_x": {
             "color": "#2a3f5f"
            },
            "error_y": {
             "color": "#2a3f5f"
            },
            "marker": {
             "line": {
              "color": "#E5ECF6",
              "width": 0.5
             },
             "pattern": {
              "fillmode": "overlay",
              "size": 10,
              "solidity": 0.2
             }
            },
            "type": "bar"
           }
          ],
          "barpolar": [
           {
            "marker": {
             "line": {
              "color": "#E5ECF6",
              "width": 0.5
             },
             "pattern": {
              "fillmode": "overlay",
              "size": 10,
              "solidity": 0.2
             }
            },
            "type": "barpolar"
           }
          ],
          "carpet": [
           {
            "aaxis": {
             "endlinecolor": "#2a3f5f",
             "gridcolor": "white",
             "linecolor": "white",
             "minorgridcolor": "white",
             "startlinecolor": "#2a3f5f"
            },
            "baxis": {
             "endlinecolor": "#2a3f5f",
             "gridcolor": "white",
             "linecolor": "white",
             "minorgridcolor": "white",
             "startlinecolor": "#2a3f5f"
            },
            "type": "carpet"
           }
          ],
          "choropleth": [
           {
            "colorbar": {
             "outlinewidth": 0,
             "ticks": ""
            },
            "type": "choropleth"
           }
          ],
          "contour": [
           {
            "colorbar": {
             "outlinewidth": 0,
             "ticks": ""
            },
            "colorscale": [
             [
              0,
              "#0d0887"
             ],
             [
              0.1111111111111111,
              "#46039f"
             ],
             [
              0.2222222222222222,
              "#7201a8"
             ],
             [
              0.3333333333333333,
              "#9c179e"
             ],
             [
              0.4444444444444444,
              "#bd3786"
             ],
             [
              0.5555555555555556,
              "#d8576b"
             ],
             [
              0.6666666666666666,
              "#ed7953"
             ],
             [
              0.7777777777777778,
              "#fb9f3a"
             ],
             [
              0.8888888888888888,
              "#fdca26"
             ],
             [
              1,
              "#f0f921"
             ]
            ],
            "type": "contour"
           }
          ],
          "contourcarpet": [
           {
            "colorbar": {
             "outlinewidth": 0,
             "ticks": ""
            },
            "type": "contourcarpet"
           }
          ],
          "heatmap": [
           {
            "colorbar": {
             "outlinewidth": 0,
             "ticks": ""
            },
            "colorscale": [
             [
              0,
              "#0d0887"
             ],
             [
              0.1111111111111111,
              "#46039f"
             ],
             [
              0.2222222222222222,
              "#7201a8"
             ],
             [
              0.3333333333333333,
              "#9c179e"
             ],
             [
              0.4444444444444444,
              "#bd3786"
             ],
             [
              0.5555555555555556,
              "#d8576b"
             ],
             [
              0.6666666666666666,
              "#ed7953"
             ],
             [
              0.7777777777777778,
              "#fb9f3a"
             ],
             [
              0.8888888888888888,
              "#fdca26"
             ],
             [
              1,
              "#f0f921"
             ]
            ],
            "type": "heatmap"
           }
          ],
          "heatmapgl": [
           {
            "colorbar": {
             "outlinewidth": 0,
             "ticks": ""
            },
            "colorscale": [
             [
              0,
              "#0d0887"
             ],
             [
              0.1111111111111111,
              "#46039f"
             ],
             [
              0.2222222222222222,
              "#7201a8"
             ],
             [
              0.3333333333333333,
              "#9c179e"
             ],
             [
              0.4444444444444444,
              "#bd3786"
             ],
             [
              0.5555555555555556,
              "#d8576b"
             ],
             [
              0.6666666666666666,
              "#ed7953"
             ],
             [
              0.7777777777777778,
              "#fb9f3a"
             ],
             [
              0.8888888888888888,
              "#fdca26"
             ],
             [
              1,
              "#f0f921"
             ]
            ],
            "type": "heatmapgl"
           }
          ],
          "histogram": [
           {
            "marker": {
             "pattern": {
              "fillmode": "overlay",
              "size": 10,
              "solidity": 0.2
             }
            },
            "type": "histogram"
           }
          ],
          "histogram2d": [
           {
            "colorbar": {
             "outlinewidth": 0,
             "ticks": ""
            },
            "colorscale": [
             [
              0,
              "#0d0887"
             ],
             [
              0.1111111111111111,
              "#46039f"
             ],
             [
              0.2222222222222222,
              "#7201a8"
             ],
             [
              0.3333333333333333,
              "#9c179e"
             ],
             [
              0.4444444444444444,
              "#bd3786"
             ],
             [
              0.5555555555555556,
              "#d8576b"
             ],
             [
              0.6666666666666666,
              "#ed7953"
             ],
             [
              0.7777777777777778,
              "#fb9f3a"
             ],
             [
              0.8888888888888888,
              "#fdca26"
             ],
             [
              1,
              "#f0f921"
             ]
            ],
            "type": "histogram2d"
           }
          ],
          "histogram2dcontour": [
           {
            "colorbar": {
             "outlinewidth": 0,
             "ticks": ""
            },
            "colorscale": [
             [
              0,
              "#0d0887"
             ],
             [
              0.1111111111111111,
              "#46039f"
             ],
             [
              0.2222222222222222,
              "#7201a8"
             ],
             [
              0.3333333333333333,
              "#9c179e"
             ],
             [
              0.4444444444444444,
              "#bd3786"
             ],
             [
              0.5555555555555556,
              "#d8576b"
             ],
             [
              0.6666666666666666,
              "#ed7953"
             ],
             [
              0.7777777777777778,
              "#fb9f3a"
             ],
             [
              0.8888888888888888,
              "#fdca26"
             ],
             [
              1,
              "#f0f921"
             ]
            ],
            "type": "histogram2dcontour"
           }
          ],
          "mesh3d": [
           {
            "colorbar": {
             "outlinewidth": 0,
             "ticks": ""
            },
            "type": "mesh3d"
           }
          ],
          "parcoords": [
           {
            "line": {
             "colorbar": {
              "outlinewidth": 0,
              "ticks": ""
             }
            },
            "type": "parcoords"
           }
          ],
          "pie": [
           {
            "automargin": true,
            "type": "pie"
           }
          ],
          "scatter": [
           {
            "fillpattern": {
             "fillmode": "overlay",
             "size": 10,
             "solidity": 0.2
            },
            "type": "scatter"
           }
          ],
          "scatter3d": [
           {
            "line": {
             "colorbar": {
              "outlinewidth": 0,
              "ticks": ""
             }
            },
            "marker": {
             "colorbar": {
              "outlinewidth": 0,
              "ticks": ""
             }
            },
            "type": "scatter3d"
           }
          ],
          "scattercarpet": [
           {
            "marker": {
             "colorbar": {
              "outlinewidth": 0,
              "ticks": ""
             }
            },
            "type": "scattercarpet"
           }
          ],
          "scattergeo": [
           {
            "marker": {
             "colorbar": {
              "outlinewidth": 0,
              "ticks": ""
             }
            },
            "type": "scattergeo"
           }
          ],
          "scattergl": [
           {
            "marker": {
             "colorbar": {
              "outlinewidth": 0,
              "ticks": ""
             }
            },
            "type": "scattergl"
           }
          ],
          "scattermapbox": [
           {
            "marker": {
             "colorbar": {
              "outlinewidth": 0,
              "ticks": ""
             }
            },
            "type": "scattermapbox"
           }
          ],
          "scatterpolar": [
           {
            "marker": {
             "colorbar": {
              "outlinewidth": 0,
              "ticks": ""
             }
            },
            "type": "scatterpolar"
           }
          ],
          "scatterpolargl": [
           {
            "marker": {
             "colorbar": {
              "outlinewidth": 0,
              "ticks": ""
             }
            },
            "type": "scatterpolargl"
           }
          ],
          "scatterternary": [
           {
            "marker": {
             "colorbar": {
              "outlinewidth": 0,
              "ticks": ""
             }
            },
            "type": "scatterternary"
           }
          ],
          "surface": [
           {
            "colorbar": {
             "outlinewidth": 0,
             "ticks": ""
            },
            "colorscale": [
             [
              0,
              "#0d0887"
             ],
             [
              0.1111111111111111,
              "#46039f"
             ],
             [
              0.2222222222222222,
              "#7201a8"
             ],
             [
              0.3333333333333333,
              "#9c179e"
             ],
             [
              0.4444444444444444,
              "#bd3786"
             ],
             [
              0.5555555555555556,
              "#d8576b"
             ],
             [
              0.6666666666666666,
              "#ed7953"
             ],
             [
              0.7777777777777778,
              "#fb9f3a"
             ],
             [
              0.8888888888888888,
              "#fdca26"
             ],
             [
              1,
              "#f0f921"
             ]
            ],
            "type": "surface"
           }
          ],
          "table": [
           {
            "cells": {
             "fill": {
              "color": "#EBF0F8"
             },
             "line": {
              "color": "white"
             }
            },
            "header": {
             "fill": {
              "color": "#C8D4E3"
             },
             "line": {
              "color": "white"
             }
            },
            "type": "table"
           }
          ]
         },
         "layout": {
          "annotationdefaults": {
           "arrowcolor": "#2a3f5f",
           "arrowhead": 0,
           "arrowwidth": 1
          },
          "autotypenumbers": "strict",
          "coloraxis": {
           "colorbar": {
            "outlinewidth": 0,
            "ticks": ""
           }
          },
          "colorscale": {
           "diverging": [
            [
             0,
             "#8e0152"
            ],
            [
             0.1,
             "#c51b7d"
            ],
            [
             0.2,
             "#de77ae"
            ],
            [
             0.3,
             "#f1b6da"
            ],
            [
             0.4,
             "#fde0ef"
            ],
            [
             0.5,
             "#f7f7f7"
            ],
            [
             0.6,
             "#e6f5d0"
            ],
            [
             0.7,
             "#b8e186"
            ],
            [
             0.8,
             "#7fbc41"
            ],
            [
             0.9,
             "#4d9221"
            ],
            [
             1,
             "#276419"
            ]
           ],
           "sequential": [
            [
             0,
             "#0d0887"
            ],
            [
             0.1111111111111111,
             "#46039f"
            ],
            [
             0.2222222222222222,
             "#7201a8"
            ],
            [
             0.3333333333333333,
             "#9c179e"
            ],
            [
             0.4444444444444444,
             "#bd3786"
            ],
            [
             0.5555555555555556,
             "#d8576b"
            ],
            [
             0.6666666666666666,
             "#ed7953"
            ],
            [
             0.7777777777777778,
             "#fb9f3a"
            ],
            [
             0.8888888888888888,
             "#fdca26"
            ],
            [
             1,
             "#f0f921"
            ]
           ],
           "sequentialminus": [
            [
             0,
             "#0d0887"
            ],
            [
             0.1111111111111111,
             "#46039f"
            ],
            [
             0.2222222222222222,
             "#7201a8"
            ],
            [
             0.3333333333333333,
             "#9c179e"
            ],
            [
             0.4444444444444444,
             "#bd3786"
            ],
            [
             0.5555555555555556,
             "#d8576b"
            ],
            [
             0.6666666666666666,
             "#ed7953"
            ],
            [
             0.7777777777777778,
             "#fb9f3a"
            ],
            [
             0.8888888888888888,
             "#fdca26"
            ],
            [
             1,
             "#f0f921"
            ]
           ]
          },
          "colorway": [
           "#636efa",
           "#EF553B",
           "#00cc96",
           "#ab63fa",
           "#FFA15A",
           "#19d3f3",
           "#FF6692",
           "#B6E880",
           "#FF97FF",
           "#FECB52"
          ],
          "font": {
           "color": "#2a3f5f"
          },
          "geo": {
           "bgcolor": "white",
           "lakecolor": "white",
           "landcolor": "#E5ECF6",
           "showlakes": true,
           "showland": true,
           "subunitcolor": "white"
          },
          "hoverlabel": {
           "align": "left"
          },
          "hovermode": "closest",
          "mapbox": {
           "style": "light"
          },
          "paper_bgcolor": "white",
          "plot_bgcolor": "#E5ECF6",
          "polar": {
           "angularaxis": {
            "gridcolor": "white",
            "linecolor": "white",
            "ticks": ""
           },
           "bgcolor": "#E5ECF6",
           "radialaxis": {
            "gridcolor": "white",
            "linecolor": "white",
            "ticks": ""
           }
          },
          "scene": {
           "xaxis": {
            "backgroundcolor": "#E5ECF6",
            "gridcolor": "white",
            "gridwidth": 2,
            "linecolor": "white",
            "showbackground": true,
            "ticks": "",
            "zerolinecolor": "white"
           },
           "yaxis": {
            "backgroundcolor": "#E5ECF6",
            "gridcolor": "white",
            "gridwidth": 2,
            "linecolor": "white",
            "showbackground": true,
            "ticks": "",
            "zerolinecolor": "white"
           },
           "zaxis": {
            "backgroundcolor": "#E5ECF6",
            "gridcolor": "white",
            "gridwidth": 2,
            "linecolor": "white",
            "showbackground": true,
            "ticks": "",
            "zerolinecolor": "white"
           }
          },
          "shapedefaults": {
           "line": {
            "color": "#2a3f5f"
           }
          },
          "ternary": {
           "aaxis": {
            "gridcolor": "white",
            "linecolor": "white",
            "ticks": ""
           },
           "baxis": {
            "gridcolor": "white",
            "linecolor": "white",
            "ticks": ""
           },
           "bgcolor": "#E5ECF6",
           "caxis": {
            "gridcolor": "white",
            "linecolor": "white",
            "ticks": ""
           }
          },
          "title": {
           "x": 0.05
          },
          "xaxis": {
           "automargin": true,
           "gridcolor": "white",
           "linecolor": "white",
           "ticks": "",
           "title": {
            "standoff": 15
           },
           "zerolinecolor": "white",
           "zerolinewidth": 2
          },
          "yaxis": {
           "automargin": true,
           "gridcolor": "white",
           "linecolor": "white",
           "ticks": "",
           "title": {
            "standoff": 15
           },
           "zerolinecolor": "white",
           "zerolinewidth": 2
          }
         }
        },
        "xaxis": {
         "anchor": "y",
         "domain": [
          0,
          1
         ],
         "title": {
          "text": "carries_last"
         }
        },
        "yaxis": {
         "anchor": "x",
         "domain": [
          0,
          1
         ],
         "title": {
          "text": "carries"
         }
        }
       }
      },
      "text/html": [
       "<div>                            <div id=\"e1689ac8-ec6e-4f0e-9046-bd4997fbd39c\" class=\"plotly-graph-div\" style=\"height:525px; width:100%;\"></div>            <script type=\"text/javascript\">                require([\"plotly\"], function(Plotly) {                    window.PLOTLYENV=window.PLOTLYENV || {};                                    if (document.getElementById(\"e1689ac8-ec6e-4f0e-9046-bd4997fbd39c\")) {                    Plotly.newPlot(                        \"e1689ac8-ec6e-4f0e-9046-bd4997fbd39c\",                        [{\"customdata\":[[\"C.Newton\",2013,24.0],[\"C.Newton\",2014,25.0],[\"C.Newton\",2015,26.0],[\"C.Newton\",2016,27.0],[\"C.Newton\",2017,28.0],[\"C.Newton\",2018,29.0],[\"C.Newton\",2021,32.0],[\"T.Taylor\",2016,27.0],[\"R.Griffin III\",2013,23.0],[\"T.Hill\",2021,31.0],[\"L.Jackson\",2019,22.0],[\"L.Jackson\",2020,23.0],[\"L.Jackson\",2021,24.0],[\"L.Jackson\",2022,25.0],[\"J.Allen\",2020,24.0],[\"J.Allen\",2021,25.0],[\"J.Allen\",2022,26.0],[\"K.Murray\",2020,23.0],[\"K.Murray\",2021,24.0],[\"J.Hurts\",2022,24.0]],\"hovertemplate\":\"carries_last=%{x}\\u003cbr\\u003ecarries=%{y}\\u003cbr\\u003erusher=%{customdata[0]}\\u003cbr\\u003eseason=%{customdata[1]}\\u003cbr\\u003eage=%{customdata[2]}\\u003cextra\\u003e\\u003c\\u002fextra\\u003e\",\"legendgroup\":\"\",\"marker\":{\"color\":\"#636efa\",\"symbol\":\"circle\"},\"mode\":\"markers\",\"name\":\"\",\"orientation\":\"v\",\"showlegend\":false,\"x\":[82.0,62.0,65.0,91.0,74.0,93.0,108.0,41.0,70.0,70.0,116.0,123.0,102.0,77.0,53.0,51.0,67.0,56.0,75.0,77.0],\"xaxis\":\"x\",\"y\":[62.0,65.0,91.0,74.0,93.0,63.0,41.0,41.0,44.0,53.0,123.0,102.0,77.0,73.0,51.0,67.0,57.0,75.0,51.0,103.0],\"yaxis\":\"y\",\"type\":\"scatter\"}],                        {\"template\":{\"data\":{\"histogram2dcontour\":[{\"type\":\"histogram2dcontour\",\"colorbar\":{\"outlinewidth\":0,\"ticks\":\"\"},\"colorscale\":[[0.0,\"#0d0887\"],[0.1111111111111111,\"#46039f\"],[0.2222222222222222,\"#7201a8\"],[0.3333333333333333,\"#9c179e\"],[0.4444444444444444,\"#bd3786\"],[0.5555555555555556,\"#d8576b\"],[0.6666666666666666,\"#ed7953\"],[0.7777777777777778,\"#fb9f3a\"],[0.8888888888888888,\"#fdca26\"],[1.0,\"#f0f921\"]]}],\"choropleth\":[{\"type\":\"choropleth\",\"colorbar\":{\"outlinewidth\":0,\"ticks\":\"\"}}],\"histogram2d\":[{\"type\":\"histogram2d\",\"colorbar\":{\"outlinewidth\":0,\"ticks\":\"\"},\"colorscale\":[[0.0,\"#0d0887\"],[0.1111111111111111,\"#46039f\"],[0.2222222222222222,\"#7201a8\"],[0.3333333333333333,\"#9c179e\"],[0.4444444444444444,\"#bd3786\"],[0.5555555555555556,\"#d8576b\"],[0.6666666666666666,\"#ed7953\"],[0.7777777777777778,\"#fb9f3a\"],[0.8888888888888888,\"#fdca26\"],[1.0,\"#f0f921\"]]}],\"heatmap\":[{\"type\":\"heatmap\",\"colorbar\":{\"outlinewidth\":0,\"ticks\":\"\"},\"colorscale\":[[0.0,\"#0d0887\"],[0.1111111111111111,\"#46039f\"],[0.2222222222222222,\"#7201a8\"],[0.3333333333333333,\"#9c179e\"],[0.4444444444444444,\"#bd3786\"],[0.5555555555555556,\"#d8576b\"],[0.6666666666666666,\"#ed7953\"],[0.7777777777777778,\"#fb9f3a\"],[0.8888888888888888,\"#fdca26\"],[1.0,\"#f0f921\"]]}],\"heatmapgl\":[{\"type\":\"heatmapgl\",\"colorbar\":{\"outlinewidth\":0,\"ticks\":\"\"},\"colorscale\":[[0.0,\"#0d0887\"],[0.1111111111111111,\"#46039f\"],[0.2222222222222222,\"#7201a8\"],[0.3333333333333333,\"#9c179e\"],[0.4444444444444444,\"#bd3786\"],[0.5555555555555556,\"#d8576b\"],[0.6666666666666666,\"#ed7953\"],[0.7777777777777778,\"#fb9f3a\"],[0.8888888888888888,\"#fdca26\"],[1.0,\"#f0f921\"]]}],\"contourcarpet\":[{\"type\":\"contourcarpet\",\"colorbar\":{\"outlinewidth\":0,\"ticks\":\"\"}}],\"contour\":[{\"type\":\"contour\",\"colorbar\":{\"outlinewidth\":0,\"ticks\":\"\"},\"colorscale\":[[0.0,\"#0d0887\"],[0.1111111111111111,\"#46039f\"],[0.2222222222222222,\"#7201a8\"],[0.3333333333333333,\"#9c179e\"],[0.4444444444444444,\"#bd3786\"],[0.5555555555555556,\"#d8576b\"],[0.6666666666666666,\"#ed7953\"],[0.7777777777777778,\"#fb9f3a\"],[0.8888888888888888,\"#fdca26\"],[1.0,\"#f0f921\"]]}],\"surface\":[{\"type\":\"surface\",\"colorbar\":{\"outlinewidth\":0,\"ticks\":\"\"},\"colorscale\":[[0.0,\"#0d0887\"],[0.1111111111111111,\"#46039f\"],[0.2222222222222222,\"#7201a8\"],[0.3333333333333333,\"#9c179e\"],[0.4444444444444444,\"#bd3786\"],[0.5555555555555556,\"#d8576b\"],[0.6666666666666666,\"#ed7953\"],[0.7777777777777778,\"#fb9f3a\"],[0.8888888888888888,\"#fdca26\"],[1.0,\"#f0f921\"]]}],\"mesh3d\":[{\"type\":\"mesh3d\",\"colorbar\":{\"outlinewidth\":0,\"ticks\":\"\"}}],\"scatter\":[{\"fillpattern\":{\"fillmode\":\"overlay\",\"size\":10,\"solidity\":0.2},\"type\":\"scatter\"}],\"parcoords\":[{\"type\":\"parcoords\",\"line\":{\"colorbar\":{\"outlinewidth\":0,\"ticks\":\"\"}}}],\"scatterpolargl\":[{\"type\":\"scatterpolargl\",\"marker\":{\"colorbar\":{\"outlinewidth\":0,\"ticks\":\"\"}}}],\"bar\":[{\"error_x\":{\"color\":\"#2a3f5f\"},\"error_y\":{\"color\":\"#2a3f5f\"},\"marker\":{\"line\":{\"color\":\"#E5ECF6\",\"width\":0.5},\"pattern\":{\"fillmode\":\"overlay\",\"size\":10,\"solidity\":0.2}},\"type\":\"bar\"}],\"scattergeo\":[{\"type\":\"scattergeo\",\"marker\":{\"colorbar\":{\"outlinewidth\":0,\"ticks\":\"\"}}}],\"scatterpolar\":[{\"type\":\"scatterpolar\",\"marker\":{\"colorbar\":{\"outlinewidth\":0,\"ticks\":\"\"}}}],\"histogram\":[{\"marker\":{\"pattern\":{\"fillmode\":\"overlay\",\"size\":10,\"solidity\":0.2}},\"type\":\"histogram\"}],\"scattergl\":[{\"type\":\"scattergl\",\"marker\":{\"colorbar\":{\"outlinewidth\":0,\"ticks\":\"\"}}}],\"scatter3d\":[{\"type\":\"scatter3d\",\"line\":{\"colorbar\":{\"outlinewidth\":0,\"ticks\":\"\"}},\"marker\":{\"colorbar\":{\"outlinewidth\":0,\"ticks\":\"\"}}}],\"scattermapbox\":[{\"type\":\"scattermapbox\",\"marker\":{\"colorbar\":{\"outlinewidth\":0,\"ticks\":\"\"}}}],\"scatterternary\":[{\"type\":\"scatterternary\",\"marker\":{\"colorbar\":{\"outlinewidth\":0,\"ticks\":\"\"}}}],\"scattercarpet\":[{\"type\":\"scattercarpet\",\"marker\":{\"colorbar\":{\"outlinewidth\":0,\"ticks\":\"\"}}}],\"carpet\":[{\"aaxis\":{\"endlinecolor\":\"#2a3f5f\",\"gridcolor\":\"white\",\"linecolor\":\"white\",\"minorgridcolor\":\"white\",\"startlinecolor\":\"#2a3f5f\"},\"baxis\":{\"endlinecolor\":\"#2a3f5f\",\"gridcolor\":\"white\",\"linecolor\":\"white\",\"minorgridcolor\":\"white\",\"startlinecolor\":\"#2a3f5f\"},\"type\":\"carpet\"}],\"table\":[{\"cells\":{\"fill\":{\"color\":\"#EBF0F8\"},\"line\":{\"color\":\"white\"}},\"header\":{\"fill\":{\"color\":\"#C8D4E3\"},\"line\":{\"color\":\"white\"}},\"type\":\"table\"}],\"barpolar\":[{\"marker\":{\"line\":{\"color\":\"#E5ECF6\",\"width\":0.5},\"pattern\":{\"fillmode\":\"overlay\",\"size\":10,\"solidity\":0.2}},\"type\":\"barpolar\"}],\"pie\":[{\"automargin\":true,\"type\":\"pie\"}]},\"layout\":{\"autotypenumbers\":\"strict\",\"colorway\":[\"#636efa\",\"#EF553B\",\"#00cc96\",\"#ab63fa\",\"#FFA15A\",\"#19d3f3\",\"#FF6692\",\"#B6E880\",\"#FF97FF\",\"#FECB52\"],\"font\":{\"color\":\"#2a3f5f\"},\"hovermode\":\"closest\",\"hoverlabel\":{\"align\":\"left\"},\"paper_bgcolor\":\"white\",\"plot_bgcolor\":\"#E5ECF6\",\"polar\":{\"bgcolor\":\"#E5ECF6\",\"angularaxis\":{\"gridcolor\":\"white\",\"linecolor\":\"white\",\"ticks\":\"\"},\"radialaxis\":{\"gridcolor\":\"white\",\"linecolor\":\"white\",\"ticks\":\"\"}},\"ternary\":{\"bgcolor\":\"#E5ECF6\",\"aaxis\":{\"gridcolor\":\"white\",\"linecolor\":\"white\",\"ticks\":\"\"},\"baxis\":{\"gridcolor\":\"white\",\"linecolor\":\"white\",\"ticks\":\"\"},\"caxis\":{\"gridcolor\":\"white\",\"linecolor\":\"white\",\"ticks\":\"\"}},\"coloraxis\":{\"colorbar\":{\"outlinewidth\":0,\"ticks\":\"\"}},\"colorscale\":{\"sequential\":[[0.0,\"#0d0887\"],[0.1111111111111111,\"#46039f\"],[0.2222222222222222,\"#7201a8\"],[0.3333333333333333,\"#9c179e\"],[0.4444444444444444,\"#bd3786\"],[0.5555555555555556,\"#d8576b\"],[0.6666666666666666,\"#ed7953\"],[0.7777777777777778,\"#fb9f3a\"],[0.8888888888888888,\"#fdca26\"],[1.0,\"#f0f921\"]],\"sequentialminus\":[[0.0,\"#0d0887\"],[0.1111111111111111,\"#46039f\"],[0.2222222222222222,\"#7201a8\"],[0.3333333333333333,\"#9c179e\"],[0.4444444444444444,\"#bd3786\"],[0.5555555555555556,\"#d8576b\"],[0.6666666666666666,\"#ed7953\"],[0.7777777777777778,\"#fb9f3a\"],[0.8888888888888888,\"#fdca26\"],[1.0,\"#f0f921\"]],\"diverging\":[[0,\"#8e0152\"],[0.1,\"#c51b7d\"],[0.2,\"#de77ae\"],[0.3,\"#f1b6da\"],[0.4,\"#fde0ef\"],[0.5,\"#f7f7f7\"],[0.6,\"#e6f5d0\"],[0.7,\"#b8e186\"],[0.8,\"#7fbc41\"],[0.9,\"#4d9221\"],[1,\"#276419\"]]},\"xaxis\":{\"gridcolor\":\"white\",\"linecolor\":\"white\",\"ticks\":\"\",\"title\":{\"standoff\":15},\"zerolinecolor\":\"white\",\"automargin\":true,\"zerolinewidth\":2},\"yaxis\":{\"gridcolor\":\"white\",\"linecolor\":\"white\",\"ticks\":\"\",\"title\":{\"standoff\":15},\"zerolinecolor\":\"white\",\"automargin\":true,\"zerolinewidth\":2},\"scene\":{\"xaxis\":{\"backgroundcolor\":\"#E5ECF6\",\"gridcolor\":\"white\",\"linecolor\":\"white\",\"showbackground\":true,\"ticks\":\"\",\"zerolinecolor\":\"white\",\"gridwidth\":2},\"yaxis\":{\"backgroundcolor\":\"#E5ECF6\",\"gridcolor\":\"white\",\"linecolor\":\"white\",\"showbackground\":true,\"ticks\":\"\",\"zerolinecolor\":\"white\",\"gridwidth\":2},\"zaxis\":{\"backgroundcolor\":\"#E5ECF6\",\"gridcolor\":\"white\",\"linecolor\":\"white\",\"showbackground\":true,\"ticks\":\"\",\"zerolinecolor\":\"white\",\"gridwidth\":2}},\"shapedefaults\":{\"line\":{\"color\":\"#2a3f5f\"}},\"annotationdefaults\":{\"arrowcolor\":\"#2a3f5f\",\"arrowhead\":0,\"arrowwidth\":1},\"geo\":{\"bgcolor\":\"white\",\"landcolor\":\"#E5ECF6\",\"subunitcolor\":\"white\",\"showland\":true,\"showlakes\":true,\"lakecolor\":\"white\"},\"title\":{\"x\":0.05},\"mapbox\":{\"style\":\"light\"}}},\"xaxis\":{\"anchor\":\"y\",\"domain\":[0.0,1.0],\"title\":{\"text\":\"carries_last\"}},\"yaxis\":{\"anchor\":\"x\",\"domain\":[0.0,1.0],\"title\":{\"text\":\"carries\"}},\"legend\":{\"tracegroupgap\":0},\"margin\":{\"t\":60}},                        {\"responsive\": true}                    ).then(function(){\n",
       "                            \n",
       "var gd = document.getElementById('e1689ac8-ec6e-4f0e-9046-bd4997fbd39c');\n",
       "var x = new MutationObserver(function (mutations, observer) {{\n",
       "        var display = window.getComputedStyle(gd).display;\n",
       "        if (!display || display === 'none') {{\n",
       "            console.log([gd, 'removed!']);\n",
       "            Plotly.purge(gd);\n",
       "            observer.disconnect();\n",
       "        }}\n",
       "}});\n",
       "\n",
       "// Listen for the removal of the full notebook cells\n",
       "var notebookContainer = gd.closest('#notebook-container');\n",
       "if (notebookContainer) {{\n",
       "    x.observe(notebookContainer, {childList: true});\n",
       "}}\n",
       "\n",
       "// Listen for the clearing of the current output cell\n",
       "var outputEl = gd.closest('.output');\n",
       "if (outputEl) {{\n",
       "    x.observe(outputEl, {childList: true});\n",
       "}}\n",
       "\n",
       "                        })                };                });            </script>        </div>"
      ]
     },
     "metadata": {},
     "output_type": "display_data"
    }
   ],
   "source": [
    "query = \"position == 'QB' and carries > 40 and carries_last > 40\"\n",
    "create_corr_for_fantasy_relevance(query=query, title=\"fantasy-relevance-unfiltered-qb-40\")"
   ]
  },
  {
   "cell_type": "code",
   "execution_count": null,
   "id": "6fb872bc",
   "metadata": {},
   "outputs": [],
   "source": []
  }
 ],
 "metadata": {
  "kernelspec": {
   "display_name": "plotly",
   "language": "python",
   "name": "plotly"
  },
  "language_info": {
   "codemirror_mode": {
    "name": "ipython",
    "version": 3
   },
   "file_extension": ".py",
   "mimetype": "text/x-python",
   "name": "python",
   "nbconvert_exporter": "python",
   "pygments_lexer": "ipython3",
   "version": "3.9.7"
  }
 },
 "nbformat": 4,
 "nbformat_minor": 5
}
