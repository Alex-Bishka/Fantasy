{
 "cells": [
  {
   "cell_type": "markdown",
   "id": "5cf033d2",
   "metadata": {},
   "source": [
    "# Imports"
   ]
  },
  {
   "cell_type": "code",
   "execution_count": 1,
   "id": "21f5f4c5",
   "metadata": {},
   "outputs": [],
   "source": [
    "import plotly.express as px\n",
    "import pandas as pd\n",
    "import numpy as np\n",
    "import math"
   ]
  },
  {
   "cell_type": "code",
   "execution_count": 2,
   "id": "84ee3c64",
   "metadata": {},
   "outputs": [],
   "source": [
    "import sys\n",
    "import os\n",
    "sys.path.append(os.path.abspath('..'))\n",
    "from helpers_df import create_lag_df, create_train_and_test_sets"
   ]
  },
  {
   "cell_type": "markdown",
   "id": "32ee0b4a",
   "metadata": {},
   "source": [
    "# Grab Data"
   ]
  },
  {
   "cell_type": "markdown",
   "id": "dc02a8ad",
   "metadata": {},
   "source": [
    "### Roster Data"
   ]
  },
  {
   "cell_type": "code",
   "execution_count": 3,
   "id": "85cf6221",
   "metadata": {},
   "outputs": [],
   "source": [
    "df_roster = pd.read_pickle(\"../../interactive/df_roster_2012_2022.pkl\")"
   ]
  },
  {
   "cell_type": "code",
   "execution_count": 4,
   "id": "b4ef1632",
   "metadata": {},
   "outputs": [],
   "source": [
    "df_roster_seasonal = df_roster.groupby([\"position\", \"player_name\", \"player_id\"]).agg({\"age\": [\"mean\"]})"
   ]
  },
  {
   "cell_type": "code",
   "execution_count": 5,
   "id": "73ac865c",
   "metadata": {},
   "outputs": [],
   "source": [
    "df_roster_seasonal.columns = list(map(\"_\".join, df_roster_seasonal.columns))\n",
    "df_roster_seasonal.reset_index(inplace=True)"
   ]
  },
  {
   "cell_type": "code",
   "execution_count": 6,
   "id": "95160acf",
   "metadata": {},
   "outputs": [],
   "source": [
    "df_roster_seasonal[\"age\"] = df_roster_seasonal[\"age_mean\"].dropna().apply(math.floor)\n",
    "df_roster_seasonal.drop(columns=[\"age_mean\"], inplace=True)"
   ]
  },
  {
   "cell_type": "markdown",
   "id": "4a484755",
   "metadata": {},
   "source": [
    "### Seasonal Data"
   ]
  },
  {
   "cell_type": "code",
   "execution_count": 7,
   "id": "13d73a49",
   "metadata": {},
   "outputs": [],
   "source": [
    "df_seasonal = pd.read_pickle(\"../../interactive/df_seasonal_2012_2022.pkl\")"
   ]
  },
  {
   "cell_type": "markdown",
   "id": "9c2baa8d",
   "metadata": {},
   "source": [
    "### Merged Data"
   ]
  },
  {
   "cell_type": "code",
   "execution_count": 8,
   "id": "b248ce70",
   "metadata": {},
   "outputs": [],
   "source": [
    "df_merge = df_seasonal.merge(df_roster_seasonal, on=\"player_id\", how=\"left\")"
   ]
  },
  {
   "cell_type": "markdown",
   "id": "8d1c936a",
   "metadata": {},
   "source": [
    "### Running Back Data"
   ]
  },
  {
   "cell_type": "code",
   "execution_count": 9,
   "id": "068caad0",
   "metadata": {},
   "outputs": [],
   "source": [
    "df_rbs = df_merge.copy().query(\"season_type == 'REG' and position == 'RB'\").drop_duplicates().dropna()"
   ]
  },
  {
   "cell_type": "code",
   "execution_count": 10,
   "id": "1ee234f4",
   "metadata": {},
   "outputs": [],
   "source": [
    "df_rbs[\"total_yards\"] = df_rbs[\"rushing_yards\"] + df_rbs[\"receiving_yards\"]\n",
    "df_rbs[\"total_tds\"] = df_rbs[\"rushing_tds\"] + df_rbs[\"receiving_tds\"]\n",
    "df_rbs[\"touches\"] = df_rbs[\"targets\"] + df_rbs[\"carries\"]\n",
    "df_rbs[\"total_first_downs\"] = df_rbs[\"rushing_first_downs\"] + df_rbs[\"receiving_first_downs\"]"
   ]
  },
  {
   "cell_type": "code",
   "execution_count": 11,
   "id": "36f7bcc4",
   "metadata": {},
   "outputs": [],
   "source": [
    "df_rbs.drop(columns=['completions', 'attempts',\n",
    "       'passing_yards', 'passing_tds', 'interceptions', 'sacks', 'sack_yards',\n",
    "       'sack_fumbles', 'sack_fumbles_lost', 'passing_air_yards',\n",
    "       'passing_yards_after_catch', 'passing_first_downs', 'passing_epa',\n",
    "       'passing_2pt_conversions', 'pacr', 'dakota', 'special_teams_tds'], inplace=True)"
   ]
  },
  {
   "cell_type": "markdown",
   "id": "76231ce2",
   "metadata": {},
   "source": [
    "# Normalize Data"
   ]
  },
  {
   "cell_type": "code",
   "execution_count": 12,
   "id": "f5e11c38",
   "metadata": {},
   "outputs": [],
   "source": [
    "numeric_columns = df_rbs.select_dtypes(include=[np.number]).columns\n",
    "for col in numeric_columns:\n",
    "    if \"season\" not in col:\n",
    "        df_rbs[f\"{col}_normalized\"] = df_rbs[col] / df_rbs[col].max()"
   ]
  },
  {
   "cell_type": "code",
   "execution_count": 13,
   "id": "e769e8d3",
   "metadata": {},
   "outputs": [],
   "source": [
    "df_rb_normalized = df_rbs.copy()"
   ]
  },
  {
   "cell_type": "code",
   "execution_count": 14,
   "id": "d844d826",
   "metadata": {},
   "outputs": [],
   "source": [
    "df_rb_normalized.dropna(inplace=True)"
   ]
  },
  {
   "cell_type": "markdown",
   "id": "06602cd2",
   "metadata": {},
   "source": [
    "# Lag Version"
   ]
  },
  {
   "cell_type": "code",
   "execution_count": 15,
   "id": "9b3eb8fb",
   "metadata": {},
   "outputs": [],
   "source": [
    "df_lag = create_lag_df(df_rb_normalized)"
   ]
  },
  {
   "cell_type": "code",
   "execution_count": 20,
   "id": "6783b1df",
   "metadata": {},
   "outputs": [
    {
     "name": "stdout",
     "output_type": "stream",
     "text": [
      "<i>rushing_fumbles_lost</i>,\n",
      "<i>target_share</i>,\n",
      "<i>tgt_sh</i>,\n",
      "<i>dom</i>,\n",
      "<i>yptmpa</i>,\n",
      "<i>ppr_sh</i>,\n"
     ]
    }
   ],
   "source": [
    "new_metric = ['rushing_fumbles_lost',\n",
    "   'target_share',\n",
    "   'tgt_sh',\n",
    "   'dom',\n",
    "   'yptmpa',\n",
    "   'ppr_sh']\n",
    "for m in new_metric:\n",
    "    print(f\"<i>{m}</i>,\")"
   ]
  },
  {
   "cell_type": "code",
   "execution_count": 16,
   "id": "7fe04ab3",
   "metadata": {},
   "outputs": [],
   "source": [
    "# new_metric = ['games_last', 'wopr_y_last', 'dom_last', 'age_last']\n",
    "# new_metric = ['carries_last', 'rushing_tds_last', 'rtd_sh_last']\n",
    "# new_metric = ['wopr_y_last', 'tgt_sh_last', 'receptions_last', 'carries_last']\n",
    "\n",
    "new_metric = ['rushing_fumbles_lost',\n",
    "   'target_share',\n",
    "   'tgt_sh',\n",
    "   'dom',\n",
    "   'yptmpa',\n",
    "   'ppr_sh']\n",
    "\n",
    "a = np.zeros(len(df_lag))\n",
    "for col in new_metric:\n",
    "    a += df_lag[col.replace(\"_last\", \"_normalized_last\")]\n",
    "#     a += df_rb_normalized[col]\n",
    "    \n",
    "df_lag[\"new_metric_last\"] = a / len(new_metric)"
   ]
  },
  {
   "cell_type": "code",
   "execution_count": 17,
   "id": "705cec58",
   "metadata": {},
   "outputs": [
    {
     "data": {
      "text/html": [
       "<div>\n",
       "<style scoped>\n",
       "    .dataframe tbody tr th:only-of-type {\n",
       "        vertical-align: middle;\n",
       "    }\n",
       "\n",
       "    .dataframe tbody tr th {\n",
       "        vertical-align: top;\n",
       "    }\n",
       "\n",
       "    .dataframe thead th {\n",
       "        text-align: right;\n",
       "    }\n",
       "</style>\n",
       "<table border=\"1\" class=\"dataframe\">\n",
       "  <thead>\n",
       "    <tr style=\"text-align: right;\">\n",
       "      <th></th>\n",
       "      <th>new_metric_last</th>\n",
       "      <th>fantasy_points_ppr</th>\n",
       "    </tr>\n",
       "  </thead>\n",
       "  <tbody>\n",
       "    <tr>\n",
       "      <th>new_metric_last</th>\n",
       "      <td>1.000000</td>\n",
       "      <td>0.593173</td>\n",
       "    </tr>\n",
       "    <tr>\n",
       "      <th>fantasy_points_ppr</th>\n",
       "      <td>0.593173</td>\n",
       "      <td>1.000000</td>\n",
       "    </tr>\n",
       "  </tbody>\n",
       "</table>\n",
       "</div>"
      ],
      "text/plain": [
       "                    new_metric_last  fantasy_points_ppr\n",
       "new_metric_last            1.000000            0.593173\n",
       "fantasy_points_ppr         0.593173            1.000000"
      ]
     },
     "execution_count": 17,
     "metadata": {},
     "output_type": "execute_result"
    }
   ],
   "source": [
    "df_lag[[\"new_metric_last\", \"fantasy_points_ppr\"]].corr()"
   ]
  },
  {
   "cell_type": "code",
   "execution_count": 18,
   "id": "eeeb613b",
   "metadata": {},
   "outputs": [],
   "source": [
    "df_prep = df_lag.query(\"games >= 10 and games_last >= 10 and \\\n",
    "    total_yards >= 800 and total_yards_last >= 800\").copy()"
   ]
  },
  {
   "cell_type": "code",
   "execution_count": 19,
   "id": "0a8244bd",
   "metadata": {},
   "outputs": [
    {
     "data": {
      "text/html": [
       "<div>\n",
       "<style scoped>\n",
       "    .dataframe tbody tr th:only-of-type {\n",
       "        vertical-align: middle;\n",
       "    }\n",
       "\n",
       "    .dataframe tbody tr th {\n",
       "        vertical-align: top;\n",
       "    }\n",
       "\n",
       "    .dataframe thead th {\n",
       "        text-align: right;\n",
       "    }\n",
       "</style>\n",
       "<table border=\"1\" class=\"dataframe\">\n",
       "  <thead>\n",
       "    <tr style=\"text-align: right;\">\n",
       "      <th></th>\n",
       "      <th>new_metric_last</th>\n",
       "      <th>fantasy_points_ppr</th>\n",
       "    </tr>\n",
       "  </thead>\n",
       "  <tbody>\n",
       "    <tr>\n",
       "      <th>new_metric_last</th>\n",
       "      <td>1.000000</td>\n",
       "      <td>0.393981</td>\n",
       "    </tr>\n",
       "    <tr>\n",
       "      <th>fantasy_points_ppr</th>\n",
       "      <td>0.393981</td>\n",
       "      <td>1.000000</td>\n",
       "    </tr>\n",
       "  </tbody>\n",
       "</table>\n",
       "</div>"
      ],
      "text/plain": [
       "                    new_metric_last  fantasy_points_ppr\n",
       "new_metric_last            1.000000            0.393981\n",
       "fantasy_points_ppr         0.393981            1.000000"
      ]
     },
     "execution_count": 19,
     "metadata": {},
     "output_type": "execute_result"
    }
   ],
   "source": [
    "df_prep[[\"new_metric_last\", \"fantasy_points_ppr\"]].corr()"
   ]
  },
  {
   "cell_type": "markdown",
   "id": "fd189ed4",
   "metadata": {},
   "source": [
    "# Prep Data For Model"
   ]
  },
  {
   "cell_type": "code",
   "execution_count": null,
   "id": "1da86286",
   "metadata": {},
   "outputs": [],
   "source": [
    "x_cols = [\"new_metric_last\"]"
   ]
  },
  {
   "cell_type": "code",
   "execution_count": null,
   "id": "cb856ebb",
   "metadata": {},
   "outputs": [],
   "source": [
    "inference_col = \"fantasy_points_ppr\""
   ]
  },
  {
   "cell_type": "code",
   "execution_count": null,
   "id": "f46fa280",
   "metadata": {},
   "outputs": [],
   "source": [
    "X_train, X_test, y_train, y_test = create_train_and_test_sets(df_lag,\n",
    "                                                              x_cols=x_cols,\n",
    "                                                              inference_col = inference_col\n",
    "                                                             )"
   ]
  },
  {
   "cell_type": "markdown",
   "id": "22655ac1",
   "metadata": {},
   "source": [
    "# Normalization For Models"
   ]
  },
  {
   "cell_type": "code",
   "execution_count": null,
   "id": "61a22a79",
   "metadata": {},
   "outputs": [],
   "source": [
    "from sklearn.preprocessing import StandardScaler"
   ]
  },
  {
   "cell_type": "code",
   "execution_count": null,
   "id": "4d479944",
   "metadata": {},
   "outputs": [],
   "source": [
    "scaler = StandardScaler()\n",
    "X_train_scaled = scaler.fit_transform(X_train)\n",
    "X_test_scaled = scaler.transform(X_test)"
   ]
  },
  {
   "cell_type": "markdown",
   "id": "94a62c3d",
   "metadata": {},
   "source": [
    "# Exploring Models"
   ]
  },
  {
   "cell_type": "markdown",
   "id": "3e23ba5a",
   "metadata": {},
   "source": [
    "## MLR"
   ]
  },
  {
   "cell_type": "code",
   "execution_count": null,
   "id": "c9bc5105",
   "metadata": {},
   "outputs": [],
   "source": [
    "from sklearn.linear_model import LinearRegression"
   ]
  },
  {
   "cell_type": "code",
   "execution_count": null,
   "id": "45a04e08",
   "metadata": {},
   "outputs": [],
   "source": [
    "mlr = LinearRegression().fit(X_train_scaled, y_train)"
   ]
  },
  {
   "cell_type": "code",
   "execution_count": null,
   "id": "7e3372bb",
   "metadata": {},
   "outputs": [],
   "source": [
    "score = round(mlr.score(X_test_scaled, y_test), 3)"
   ]
  },
  {
   "cell_type": "code",
   "execution_count": null,
   "id": "d1c2d508",
   "metadata": {},
   "outputs": [],
   "source": [
    "score"
   ]
  },
  {
   "cell_type": "markdown",
   "id": "85275f18",
   "metadata": {},
   "source": [
    "## Evaluation"
   ]
  },
  {
   "cell_type": "code",
   "execution_count": null,
   "id": "4ca74317",
   "metadata": {},
   "outputs": [],
   "source": [
    "def change_direction_correct(row):\n",
    "    if (row['Actual_Change'] >= 0 and row['Predicted_Change'] >= 0) or (row['Actual_Change'] < 0 and row['Predicted_Change'] < 0):\n",
    "        return True\n",
    "    else:\n",
    "        return False"
   ]
  },
  {
   "cell_type": "code",
   "execution_count": null,
   "id": "69435fe8",
   "metadata": {},
   "outputs": [],
   "source": [
    "# previous_season_points = df_prep.loc[y_test.index, 'fantasy_points_ppr_last']\n",
    "# player_names = df_prep.loc[y_test.index, 'player_name']\n",
    "# season = df_prep.loc[y_test.index, 'season']\n",
    "\n",
    "previous_season_points = df_lag.loc[y_test.index, 'fantasy_points_ppr_last']\n",
    "player_names = df_lag.loc[y_test.index, 'player_name']\n",
    "season = df_lag.loc[y_test.index, 'season']"
   ]
  },
  {
   "cell_type": "code",
   "execution_count": null,
   "id": "4f1d2813",
   "metadata": {},
   "outputs": [],
   "source": [
    "df_error_graph_mlr = pd.DataFrame({\n",
    "    'Actual': y_test,\n",
    "    'Predicted': mlr.predict(X_test_scaled),\n",
    "    'Previous_Season_Fantasy': previous_season_points,\n",
    "    'Player_Name': player_names,\n",
    "    'Current_Season': season\n",
    "})"
   ]
  },
  {
   "cell_type": "code",
   "execution_count": null,
   "id": "64d7c580",
   "metadata": {},
   "outputs": [],
   "source": [
    "df_error_graph_mlr['Actual_Change'] = df_error_graph_mlr['Actual'] - df_error_graph_mlr['Previous_Season_Fantasy']\n",
    "df_error_graph_mlr['Predicted_Change'] = df_error_graph_mlr['Predicted'] - df_error_graph_mlr['Previous_Season_Fantasy']\n",
    "df_error_graph_mlr['Direction_Correct'] = df_error_graph_mlr.apply(change_direction_correct, axis=1)"
   ]
  },
  {
   "cell_type": "code",
   "execution_count": null,
   "id": "c86f9923",
   "metadata": {},
   "outputs": [],
   "source": [
    "# Creating the scatter plot\n",
    "fig = px.scatter(df_error_graph_mlr, x='Actual', y='Predicted', color=\"Direction_Correct\",\n",
    "                color_discrete_map={True: 'green', False: 'red'}, hover_data=['Player_Name', 'Current_Season',\n",
    "                                                                              'Previous_Season_Fantasy'])\n",
    "\n",
    "# Adding line of equality (where actual equals predicted)\n",
    "fig.add_shape(\n",
    "    type='line',\n",
    "    line=dict(dash='dash'),\n",
    "    x0=df_error_graph_mlr['Actual'].min(),\n",
    "    y0=df_error_graph_mlr['Actual'].min(),\n",
    "    x1=df_error_graph_mlr['Actual'].max(),\n",
    "    y1=df_error_graph_mlr['Actual'].max()\n",
    ")\n",
    "\n",
    "# Updating layout\n",
    "fig.update_layout(\n",
    "    title='Actual vs Predicted Fantasy Production (MLR Generalized - New Metric)',\n",
    "    xaxis_title='Actual Fantasy Production',\n",
    "    yaxis_title='Predicted Fantasy Production',\n",
    "    showlegend=False\n",
    ")\n",
    "\n",
    "# fig.write_html(\"../../interactive/RB/fantasy-metrics/new-metric-mlr-generalized.html\")\n",
    "\n",
    "# Show the plot\n",
    "fig.show()"
   ]
  },
  {
   "cell_type": "code",
   "execution_count": null,
   "id": "0911f59f",
   "metadata": {},
   "outputs": [],
   "source": [
    "print()\n",
    "total = len(df_error_graph_mlr)\n",
    "total_dir_correct = len(df_error_graph_mlr.query(\"Direction_Correct == True\"))\n",
    "print(f\"Total: {total}\")\n",
    "print(f\"Total direction correct: {total_dir_correct}\")\n",
    "print(f\"Percent direction correct: {round(total_dir_correct / total, 3) * 100}%\")"
   ]
  },
  {
   "cell_type": "markdown",
   "id": "474216aa",
   "metadata": {},
   "source": [
    "## Random Forest"
   ]
  },
  {
   "cell_type": "code",
   "execution_count": null,
   "id": "c4e87f7e",
   "metadata": {},
   "outputs": [],
   "source": [
    "from sklearn.ensemble import RandomForestRegressor"
   ]
  },
  {
   "cell_type": "code",
   "execution_count": null,
   "id": "14cab73b",
   "metadata": {},
   "outputs": [],
   "source": [
    "start = 1\n",
    "stop = 15 + 1"
   ]
  },
  {
   "cell_type": "code",
   "execution_count": null,
   "id": "0a86996b",
   "metadata": {},
   "outputs": [],
   "source": [
    "best_score = -10\n",
    "best_model = None"
   ]
  },
  {
   "cell_type": "code",
   "execution_count": null,
   "id": "2becf420",
   "metadata": {},
   "outputs": [],
   "source": [
    "for depth in range(start, stop):\n",
    "    rfr = RandomForestRegressor(max_depth=depth, random_state=0)\n",
    "    rfr.fit(X_train_scaled, y_train)\n",
    "    \n",
    "    score = rfr.score(X_test_scaled, y_test)\n",
    "    if score > best_score:\n",
    "        print(f\"New best score: {score}\")\n",
    "        best_score = score\n",
    "        best_model = rfr\n",
    "        \n",
    "print(\"\\nDone :)\")"
   ]
  },
  {
   "cell_type": "code",
   "execution_count": null,
   "id": "602eda39",
   "metadata": {},
   "outputs": [],
   "source": [
    "df_error_graph_rfr = pd.DataFrame({\n",
    "    'Actual': y_test,\n",
    "    'Predicted': rfr.predict(X_test_scaled),\n",
    "    'Previous_Season_Fantasy': previous_season_points,\n",
    "    'Player_Name': player_names,\n",
    "    'Current_Season': season\n",
    "})"
   ]
  },
  {
   "cell_type": "code",
   "execution_count": null,
   "id": "8f214b29",
   "metadata": {},
   "outputs": [],
   "source": [
    "df_error_graph_rfr['Actual_Change'] = df_error_graph_rfr['Actual'] - df_error_graph_rfr['Previous_Season_Fantasy']\n",
    "df_error_graph_rfr['Predicted_Change'] = df_error_graph_rfr['Predicted'] - df_error_graph_rfr['Previous_Season_Fantasy']"
   ]
  },
  {
   "cell_type": "code",
   "execution_count": null,
   "id": "29e103fb",
   "metadata": {},
   "outputs": [],
   "source": [
    "# Apply the function\n",
    "df_error_graph_rfr['Direction_Correct'] = df_error_graph_rfr.apply(change_direction_correct, axis=1)"
   ]
  },
  {
   "cell_type": "code",
   "execution_count": null,
   "id": "82940862",
   "metadata": {},
   "outputs": [],
   "source": [
    "# Creating the scatter plot\n",
    "fig = px.scatter(df_error_graph_rfr, x='Actual', y='Predicted', color=\"Direction_Correct\",\n",
    "                color_discrete_map={True: 'green', False: 'red'}, hover_data=['Player_Name', 'Current_Season',\n",
    "                                                                              'Previous_Season_Fantasy'])\n",
    "\n",
    "# Adding line of equality (where actual equals predicted)\n",
    "fig.add_shape(\n",
    "    type='line',\n",
    "    line=dict(dash='dash'),\n",
    "    x0=df_error_graph_rfr['Actual'].min(),\n",
    "    y0=df_error_graph_rfr['Actual'].min(),\n",
    "    x1=df_error_graph_rfr['Actual'].max(),\n",
    "    y1=df_error_graph_rfr['Actual'].max()\n",
    ")\n",
    "\n",
    "# Updating layout\n",
    "fig.update_layout(\n",
    "    title='Actual vs Predicted Fantasy Production (RFR Generalized - New Metric)',\n",
    "    xaxis_title='Actual Fantasy Production',\n",
    "    yaxis_title='Predicted Fantasy Production',\n",
    "    showlegend=False\n",
    ")\n",
    "\n",
    "# fig.write_html(\"../../interactive/RB/fantasy-metrics/new-metric-rfr-generalized.html\")\n",
    "\n",
    "# Show the plot\n",
    "fig.show()"
   ]
  },
  {
   "cell_type": "code",
   "execution_count": null,
   "id": "84c744ab",
   "metadata": {},
   "outputs": [],
   "source": [
    "print()\n",
    "total = len(df_error_graph_rfr)\n",
    "total_dir_correct = len(df_error_graph_rfr.query(\"Direction_Correct == True\"))\n",
    "print(f\"Total: {total}\")\n",
    "print(f\"Total direction correct: {total_dir_correct}\")\n",
    "print(f\"Percent direction correct: {round(total_dir_correct / total, 3) * 100}%\")"
   ]
  },
  {
   "cell_type": "code",
   "execution_count": null,
   "id": "c375c935",
   "metadata": {},
   "outputs": [],
   "source": []
  }
 ],
 "metadata": {
  "kernelspec": {
   "display_name": "plotly",
   "language": "python",
   "name": "plotly"
  },
  "language_info": {
   "codemirror_mode": {
    "name": "ipython",
    "version": 3
   },
   "file_extension": ".py",
   "mimetype": "text/x-python",
   "name": "python",
   "nbconvert_exporter": "python",
   "pygments_lexer": "ipython3",
   "version": "3.9.7"
  }
 },
 "nbformat": 4,
 "nbformat_minor": 5
}
