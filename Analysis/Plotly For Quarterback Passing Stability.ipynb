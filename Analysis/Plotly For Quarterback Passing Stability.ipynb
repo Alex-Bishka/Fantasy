{
 "cells": [
  {
   "cell_type": "markdown",
   "id": "a64637bf",
   "metadata": {},
   "source": [
    "# Imports"
   ]
  },
  {
   "cell_type": "code",
   "execution_count": 7,
   "id": "1a4cc380",
   "metadata": {},
   "outputs": [],
   "source": [
    "import plotly.express as px\n",
    "import pandas as pd"
   ]
  },
  {
   "cell_type": "markdown",
   "id": "096cd4fc",
   "metadata": {},
   "source": [
    "# Read Data"
   ]
  },
  {
   "cell_type": "code",
   "execution_count": 27,
   "id": "4704af0b",
   "metadata": {},
   "outputs": [],
   "source": [
    "file_path = \"./interactive/QB/stability-passing/df_lag.pkl\""
   ]
  },
  {
   "cell_type": "code",
   "execution_count": 28,
   "id": "eceb905e",
   "metadata": {},
   "outputs": [
    {
     "data": {
      "text/html": [
       "<div>\n",
       "<style scoped>\n",
       "    .dataframe tbody tr th:only-of-type {\n",
       "        vertical-align: middle;\n",
       "    }\n",
       "\n",
       "    .dataframe tbody tr th {\n",
       "        vertical-align: top;\n",
       "    }\n",
       "\n",
       "    .dataframe thead th {\n",
       "        text-align: right;\n",
       "    }\n",
       "</style>\n",
       "<table border=\"1\" class=\"dataframe\">\n",
       "  <thead>\n",
       "    <tr style=\"text-align: right;\">\n",
       "      <th></th>\n",
       "      <th>passer_id</th>\n",
       "      <th>passer</th>\n",
       "      <th>season</th>\n",
       "      <th>passing_yards</th>\n",
       "      <th>passing_attempts</th>\n",
       "      <th>yards_per_pass</th>\n",
       "      <th>total_epa</th>\n",
       "      <th>passing_touchdowns</th>\n",
       "      <th>completions</th>\n",
       "      <th>games</th>\n",
       "      <th>age</th>\n",
       "      <th>passing_yards_last</th>\n",
       "      <th>passing_attempts_last</th>\n",
       "      <th>yards_per_pass_last</th>\n",
       "      <th>total_epa_last</th>\n",
       "      <th>passing_touchdowns_last</th>\n",
       "      <th>completions_last</th>\n",
       "      <th>games_last</th>\n",
       "      <th>age_last</th>\n",
       "    </tr>\n",
       "  </thead>\n",
       "  <tbody>\n",
       "    <tr>\n",
       "      <th>0</th>\n",
       "      <td>00-0010346</td>\n",
       "      <td>P.Manning</td>\n",
       "      <td>2013</td>\n",
       "      <td>5477.0</td>\n",
       "      <td>658</td>\n",
       "      <td>8.323709</td>\n",
       "      <td>289.987091</td>\n",
       "      <td>55.0</td>\n",
       "      <td>450.0</td>\n",
       "      <td>16.0</td>\n",
       "      <td>37.0</td>\n",
       "      <td>4659.0</td>\n",
       "      <td>580</td>\n",
       "      <td>8.032759</td>\n",
       "      <td>189.008911</td>\n",
       "      <td>37.0</td>\n",
       "      <td>400.0</td>\n",
       "      <td>16.0</td>\n",
       "      <td>36.0</td>\n",
       "    </tr>\n",
       "    <tr>\n",
       "      <th>1</th>\n",
       "      <td>00-0010346</td>\n",
       "      <td>P.Manning</td>\n",
       "      <td>2014</td>\n",
       "      <td>4727.0</td>\n",
       "      <td>595</td>\n",
       "      <td>7.944538</td>\n",
       "      <td>147.676483</td>\n",
       "      <td>39.0</td>\n",
       "      <td>395.0</td>\n",
       "      <td>16.0</td>\n",
       "      <td>38.0</td>\n",
       "      <td>5477.0</td>\n",
       "      <td>658</td>\n",
       "      <td>8.323709</td>\n",
       "      <td>289.987091</td>\n",
       "      <td>55.0</td>\n",
       "      <td>450.0</td>\n",
       "      <td>16.0</td>\n",
       "      <td>37.0</td>\n",
       "    </tr>\n",
       "    <tr>\n",
       "      <th>2</th>\n",
       "      <td>00-0019596</td>\n",
       "      <td>T.Brady</td>\n",
       "      <td>2013</td>\n",
       "      <td>4343.0</td>\n",
       "      <td>624</td>\n",
       "      <td>6.959936</td>\n",
       "      <td>136.487488</td>\n",
       "      <td>25.0</td>\n",
       "      <td>380.0</td>\n",
       "      <td>16.0</td>\n",
       "      <td>36.0</td>\n",
       "      <td>4827.0</td>\n",
       "      <td>634</td>\n",
       "      <td>7.613564</td>\n",
       "      <td>219.545105</td>\n",
       "      <td>34.0</td>\n",
       "      <td>401.0</td>\n",
       "      <td>16.0</td>\n",
       "      <td>35.0</td>\n",
       "    </tr>\n",
       "    <tr>\n",
       "      <th>3</th>\n",
       "      <td>00-0019596</td>\n",
       "      <td>T.Brady</td>\n",
       "      <td>2014</td>\n",
       "      <td>4109.0</td>\n",
       "      <td>582</td>\n",
       "      <td>7.060137</td>\n",
       "      <td>141.354446</td>\n",
       "      <td>33.0</td>\n",
       "      <td>373.0</td>\n",
       "      <td>16.0</td>\n",
       "      <td>37.0</td>\n",
       "      <td>4343.0</td>\n",
       "      <td>624</td>\n",
       "      <td>6.959936</td>\n",
       "      <td>136.487488</td>\n",
       "      <td>25.0</td>\n",
       "      <td>380.0</td>\n",
       "      <td>16.0</td>\n",
       "      <td>36.0</td>\n",
       "    </tr>\n",
       "    <tr>\n",
       "      <th>4</th>\n",
       "      <td>00-0019596</td>\n",
       "      <td>T.Brady</td>\n",
       "      <td>2015</td>\n",
       "      <td>4770.0</td>\n",
       "      <td>622</td>\n",
       "      <td>7.668810</td>\n",
       "      <td>178.644928</td>\n",
       "      <td>36.0</td>\n",
       "      <td>402.0</td>\n",
       "      <td>16.0</td>\n",
       "      <td>38.0</td>\n",
       "      <td>4109.0</td>\n",
       "      <td>582</td>\n",
       "      <td>7.060137</td>\n",
       "      <td>141.354446</td>\n",
       "      <td>33.0</td>\n",
       "      <td>373.0</td>\n",
       "      <td>16.0</td>\n",
       "      <td>37.0</td>\n",
       "    </tr>\n",
       "  </tbody>\n",
       "</table>\n",
       "</div>"
      ],
      "text/plain": [
       "    passer_id     passer  season  passing_yards  passing_attempts  \\\n",
       "0  00-0010346  P.Manning    2013         5477.0               658   \n",
       "1  00-0010346  P.Manning    2014         4727.0               595   \n",
       "2  00-0019596    T.Brady    2013         4343.0               624   \n",
       "3  00-0019596    T.Brady    2014         4109.0               582   \n",
       "4  00-0019596    T.Brady    2015         4770.0               622   \n",
       "\n",
       "   yards_per_pass   total_epa  passing_touchdowns  completions  games   age  \\\n",
       "0        8.323709  289.987091                55.0        450.0   16.0  37.0   \n",
       "1        7.944538  147.676483                39.0        395.0   16.0  38.0   \n",
       "2        6.959936  136.487488                25.0        380.0   16.0  36.0   \n",
       "3        7.060137  141.354446                33.0        373.0   16.0  37.0   \n",
       "4        7.668810  178.644928                36.0        402.0   16.0  38.0   \n",
       "\n",
       "   passing_yards_last  passing_attempts_last  yards_per_pass_last  \\\n",
       "0              4659.0                    580             8.032759   \n",
       "1              5477.0                    658             8.323709   \n",
       "2              4827.0                    634             7.613564   \n",
       "3              4343.0                    624             6.959936   \n",
       "4              4109.0                    582             7.060137   \n",
       "\n",
       "   total_epa_last  passing_touchdowns_last  completions_last  games_last  \\\n",
       "0      189.008911                     37.0             400.0        16.0   \n",
       "1      289.987091                     55.0             450.0        16.0   \n",
       "2      219.545105                     34.0             401.0        16.0   \n",
       "3      136.487488                     25.0             380.0        16.0   \n",
       "4      141.354446                     33.0             373.0        16.0   \n",
       "\n",
       "   age_last  \n",
       "0      36.0  \n",
       "1      37.0  \n",
       "2      35.0  \n",
       "3      36.0  \n",
       "4      37.0  "
      ]
     },
     "execution_count": 28,
     "metadata": {},
     "output_type": "execute_result"
    }
   ],
   "source": [
    "df = pd.read_pickle(file_path)\n",
    "df.head()"
   ]
  },
  {
   "cell_type": "markdown",
   "id": "bac968ae",
   "metadata": {},
   "source": [
    "# Generate Graphs"
   ]
  },
  {
   "cell_type": "markdown",
   "id": "d909af84",
   "metadata": {},
   "source": [
    "## Completions"
   ]
  },
  {
   "cell_type": "code",
   "execution_count": 29,
   "id": "d767fa81",
   "metadata": {},
   "outputs": [
    {
     "data": {
      "text/html": [
       "<div>\n",
       "<style scoped>\n",
       "    .dataframe tbody tr th:only-of-type {\n",
       "        vertical-align: middle;\n",
       "    }\n",
       "\n",
       "    .dataframe tbody tr th {\n",
       "        vertical-align: top;\n",
       "    }\n",
       "\n",
       "    .dataframe thead th {\n",
       "        text-align: right;\n",
       "    }\n",
       "</style>\n",
       "<table border=\"1\" class=\"dataframe\">\n",
       "  <thead>\n",
       "    <tr style=\"text-align: right;\">\n",
       "      <th></th>\n",
       "      <th>completions</th>\n",
       "      <th>completions_last</th>\n",
       "    </tr>\n",
       "  </thead>\n",
       "  <tbody>\n",
       "    <tr>\n",
       "      <th>completions</th>\n",
       "      <td>1.000000</td>\n",
       "      <td>0.612944</td>\n",
       "    </tr>\n",
       "    <tr>\n",
       "      <th>completions_last</th>\n",
       "      <td>0.612944</td>\n",
       "      <td>1.000000</td>\n",
       "    </tr>\n",
       "  </tbody>\n",
       "</table>\n",
       "</div>"
      ],
      "text/plain": [
       "                  completions  completions_last\n",
       "completions          1.000000          0.612944\n",
       "completions_last     0.612944          1.000000"
      ]
     },
     "execution_count": 29,
     "metadata": {},
     "output_type": "execute_result"
    }
   ],
   "source": [
    "df[[\"completions\", \"completions_last\"]].corr()"
   ]
  },
  {
   "cell_type": "code",
   "execution_count": 36,
   "id": "ba2364ba",
   "metadata": {},
   "outputs": [
    {
     "data": {
      "application/vnd.plotly.v1+json": {
       "config": {
        "plotlyServerURL": "https://plot.ly"
       },
       "data": [
        {
         "customdata": [
          [
           "P.Manning",
           2013,
           37
          ],
          [
           "P.Manning",
           2014,
           38
          ],
          [
           "T.Brady",
           2013,
           36
          ],
          [
           "T.Brady",
           2014,
           37
          ],
          [
           "T.Brady",
           2015,
           38
          ],
          [
           "T.Brady",
           2016,
           39
          ],
          [
           "T.Brady",
           2017,
           40
          ],
          [
           "T.Brady",
           2018,
           41
          ],
          [
           "T.Brady",
           2019,
           42
          ],
          [
           "T.Brady",
           2020,
           43
          ],
          [
           "T.Brady",
           2021,
           44
          ],
          [
           "T.Brady",
           2022,
           45
          ],
          [
           "D.Brees",
           2013,
           34
          ],
          [
           "D.Brees",
           2014,
           35
          ],
          [
           "D.Brees",
           2015,
           36
          ],
          [
           "D.Brees",
           2016,
           37
          ],
          [
           "D.Brees",
           2017,
           38
          ],
          [
           "D.Brees",
           2018,
           39
          ],
          [
           "C.Palmer",
           2013,
           33
          ],
          [
           "C.Palmer",
           2016,
           36
          ],
          [
           "T.Romo",
           2013,
           33
          ],
          [
           "T.Romo",
           2014,
           34
          ],
          [
           "E.Manning",
           2013,
           32
          ],
          [
           "E.Manning",
           2014,
           33
          ],
          [
           "E.Manning",
           2015,
           34
          ],
          [
           "E.Manning",
           2016,
           35
          ],
          [
           "E.Manning",
           2017,
           36
          ],
          [
           "E.Manning",
           2018,
           37
          ],
          [
           "B.Roethlisberger",
           2013,
           31
          ],
          [
           "B.Roethlisberger",
           2014,
           32
          ],
          [
           "B.Roethlisberger",
           2015,
           33
          ],
          [
           "B.Roethlisberger",
           2016,
           34
          ],
          [
           "B.Roethlisberger",
           2017,
           35
          ],
          [
           "B.Roethlisberger",
           2018,
           36
          ],
          [
           "B.Roethlisberger",
           2021,
           39
          ],
          [
           "P.Rivers",
           2013,
           31
          ],
          [
           "P.Rivers",
           2014,
           32
          ],
          [
           "P.Rivers",
           2015,
           33
          ],
          [
           "P.Rivers",
           2016,
           34
          ],
          [
           "P.Rivers",
           2017,
           35
          ],
          [
           "P.Rivers",
           2018,
           36
          ],
          [
           "P.Rivers",
           2019,
           37
          ],
          [
           "P.Rivers",
           2020,
           38
          ],
          [
           "A.Smith",
           2014,
           30
          ],
          [
           "A.Smith",
           2015,
           31
          ],
          [
           "A.Smith",
           2016,
           32
          ],
          [
           "A.Smith",
           2017,
           33
          ],
          [
           "A.Rodgers",
           2015,
           31
          ],
          [
           "A.Rodgers",
           2016,
           32
          ],
          [
           "A.Rodgers",
           2019,
           35
          ],
          [
           "A.Rodgers",
           2020,
           36
          ],
          [
           "A.Rodgers",
           2021,
           37
          ],
          [
           "A.Rodgers",
           2022,
           38
          ],
          [
           "R.Fitzpatrick",
           2015,
           32
          ],
          [
           "R.Fitzpatrick",
           2016,
           33
          ],
          [
           "J.Cutler",
           2015,
           32
          ],
          [
           "M.Ryan",
           2013,
           28
          ],
          [
           "M.Ryan",
           2014,
           29
          ],
          [
           "M.Ryan",
           2015,
           30
          ],
          [
           "M.Ryan",
           2016,
           31
          ],
          [
           "M.Ryan",
           2017,
           32
          ],
          [
           "M.Ryan",
           2018,
           33
          ],
          [
           "M.Ryan",
           2019,
           34
          ],
          [
           "M.Ryan",
           2020,
           35
          ],
          [
           "M.Ryan",
           2021,
           36
          ],
          [
           "M.Ryan",
           2022,
           37
          ],
          [
           "J.Flacco",
           2013,
           28
          ],
          [
           "J.Flacco",
           2014,
           29
          ],
          [
           "J.Flacco",
           2017,
           32
          ],
          [
           "M.Stafford",
           2013,
           25
          ],
          [
           "M.Stafford",
           2014,
           26
          ],
          [
           "M.Stafford",
           2015,
           27
          ],
          [
           "M.Stafford",
           2016,
           28
          ],
          [
           "M.Stafford",
           2017,
           29
          ],
          [
           "M.Stafford",
           2018,
           30
          ],
          [
           "M.Stafford",
           2021,
           33
          ],
          [
           "S.Bradford",
           2016,
           28
          ],
          [
           "C.Newton",
           2013,
           24
          ],
          [
           "C.Newton",
           2014,
           25
          ],
          [
           "C.Newton",
           2015,
           26
          ],
          [
           "C.Newton",
           2016,
           27
          ],
          [
           "C.Newton",
           2017,
           28
          ],
          [
           "C.Newton",
           2018,
           29
          ],
          [
           "A.Dalton",
           2013,
           25
          ],
          [
           "A.Dalton",
           2014,
           26
          ],
          [
           "A.Dalton",
           2015,
           27
          ],
          [
           "A.Dalton",
           2016,
           28
          ],
          [
           "A.Dalton",
           2017,
           29
          ],
          [
           "C.Kaepernick",
           2013,
           25
          ],
          [
           "C.Kaepernick",
           2014,
           26
          ],
          [
           "T.Taylor",
           2016,
           27
          ],
          [
           "T.Taylor",
           2017,
           28
          ],
          [
           "C.Keenum",
           2018,
           30
          ],
          [
           "R.Wilson",
           2013,
           24
          ],
          [
           "R.Wilson",
           2014,
           25
          ],
          [
           "R.Wilson",
           2015,
           26
          ],
          [
           "R.Wilson",
           2016,
           27
          ],
          [
           "R.Wilson",
           2017,
           28
          ],
          [
           "R.Wilson",
           2018,
           29
          ],
          [
           "R.Wilson",
           2019,
           30
          ],
          [
           "R.Wilson",
           2020,
           31
          ],
          [
           "R.Wilson",
           2021,
           32
          ],
          [
           "R.Wilson",
           2022,
           33
          ],
          [
           "K.Cousins",
           2016,
           28
          ],
          [
           "K.Cousins",
           2017,
           29
          ],
          [
           "K.Cousins",
           2018,
           30
          ],
          [
           "K.Cousins",
           2019,
           31
          ],
          [
           "K.Cousins",
           2020,
           32
          ],
          [
           "K.Cousins",
           2021,
           33
          ],
          [
           "K.Cousins",
           2022,
           34
          ],
          [
           "R.Griffin III",
           2013,
           23
          ],
          [
           "A.Luck",
           2013,
           23
          ],
          [
           "A.Luck",
           2014,
           24
          ],
          [
           "R.Tannehill",
           2013,
           25
          ],
          [
           "R.Tannehill",
           2014,
           26
          ],
          [
           "R.Tannehill",
           2015,
           27
          ],
          [
           "R.Tannehill",
           2016,
           28
          ],
          [
           "R.Tannehill",
           2020,
           32
          ],
          [
           "R.Tannehill",
           2021,
           33
          ],
          [
           "R.Tannehill",
           2022,
           34
          ],
          [
           "G.Smith",
           2014,
           23
          ],
          [
           "T.Bridgewater",
           2015,
           22
          ],
          [
           "T.Bridgewater",
           2021,
           28
          ],
          [
           "D.Carr",
           2015,
           24
          ],
          [
           "D.Carr",
           2016,
           25
          ],
          [
           "D.Carr",
           2017,
           26
          ],
          [
           "D.Carr",
           2018,
           27
          ],
          [
           "D.Carr",
           2019,
           28
          ],
          [
           "D.Carr",
           2020,
           29
          ],
          [
           "D.Carr",
           2021,
           30
          ],
          [
           "D.Carr",
           2022,
           31
          ],
          [
           "B.Bortles",
           2015,
           23
          ],
          [
           "B.Bortles",
           2016,
           24
          ],
          [
           "B.Bortles",
           2017,
           25
          ],
          [
           "B.Bortles",
           2018,
           26
          ],
          [
           "J.Winston",
           2016,
           22
          ],
          [
           "J.Winston",
           2017,
           23
          ],
          [
           "M.Mariota",
           2016,
           22
          ],
          [
           "M.Mariota",
           2017,
           23
          ],
          [
           "M.Mariota",
           2018,
           24
          ],
          [
           "C.Wentz",
           2017,
           24
          ],
          [
           "C.Wentz",
           2020,
           27
          ],
          [
           "C.Wentz",
           2021,
           28
          ],
          [
           "D.Prescott",
           2017,
           24
          ],
          [
           "D.Prescott",
           2018,
           25
          ],
          [
           "D.Prescott",
           2019,
           26
          ],
          [
           "D.Prescott",
           2022,
           29
          ],
          [
           "J.Goff",
           2018,
           23
          ],
          [
           "J.Goff",
           2019,
           24
          ],
          [
           "J.Goff",
           2020,
           25
          ],
          [
           "J.Goff",
           2021,
           26
          ],
          [
           "J.Goff",
           2022,
           27
          ],
          [
           "D.Watson",
           2019,
           23
          ],
          [
           "D.Watson",
           2020,
           24
          ],
          [
           "M.Trubisky",
           2018,
           24
          ],
          [
           "M.Trubisky",
           2019,
           25
          ],
          [
           "P.Mahomes",
           2019,
           23
          ],
          [
           "P.Mahomes",
           2020,
           24
          ],
          [
           "P.Mahomes",
           2021,
           25
          ],
          [
           "P.Mahomes",
           2022,
           26
          ],
          [
           "L.Jackson",
           2019,
           22
          ],
          [
           "L.Jackson",
           2020,
           23
          ],
          [
           "L.Jackson",
           2021,
           24
          ],
          [
           "L.Jackson",
           2022,
           25
          ],
          [
           "B.Mayfield",
           2019,
           24
          ],
          [
           "B.Mayfield",
           2020,
           25
          ],
          [
           "B.Mayfield",
           2021,
           26
          ],
          [
           "B.Mayfield",
           2022,
           27
          ],
          [
           "J.Allen",
           2019,
           23
          ],
          [
           "J.Allen",
           2020,
           24
          ],
          [
           "J.Allen",
           2021,
           25
          ],
          [
           "J.Allen",
           2022,
           26
          ],
          [
           "S.Darnold",
           2019,
           22
          ],
          [
           "S.Darnold",
           2020,
           23
          ],
          [
           "S.Darnold",
           2021,
           24
          ],
          [
           "K.Murray",
           2020,
           23
          ],
          [
           "K.Murray",
           2021,
           24
          ],
          [
           "D.Jones",
           2020,
           23
          ],
          [
           "T.Tagovailoa",
           2022,
           24
          ],
          [
           "J.Herbert",
           2021,
           23
          ],
          [
           "J.Herbert",
           2022,
           24
          ],
          [
           "J.Hurts",
           2021,
           23
          ],
          [
           "J.Hurts",
           2022,
           24
          ],
          [
           "J.Burrow",
           2022,
           25
          ],
          [
           "D.Mills",
           2022,
           23
          ],
          [
           "J.Fields",
           2022,
           23
          ],
          [
           "T.Lawrence",
           2022,
           22
          ],
          [
           "M.Jones",
           2022,
           23
          ]
         ],
         "hovertemplate": "completions_last=%{x}<br>completions=%{y}<br>passer=%{customdata[0]}<br>season=%{customdata[1]}<br>age=%{customdata[2]}<extra></extra>",
         "legendgroup": "",
         "marker": {
          "color": "#636efa",
          "symbol": "circle"
         },
         "mode": "markers",
         "name": "",
         "orientation": "v",
         "showlegend": false,
         "type": "scatter",
         "x": [
          400,
          450,
          401,
          380,
          373,
          402,
          291,
          385,
          375,
          373,
          401,
          485,
          422,
          445,
          456,
          428,
          470,
          386,
          345,
          342,
          425,
          342,
          321,
          317,
          379,
          387,
          377,
          352,
          284,
          375,
          408,
          319,
          328,
          360,
          399,
          338,
          378,
          379,
          436,
          349,
          360,
          347,
          390,
          308,
          303,
          307,
          328,
          341,
          347,
          372,
          353,
          372,
          366,
          197,
          335,
          370,
          421,
          439,
          415,
          407,
          373,
          342,
          422,
          408,
          407,
          375,
          317,
          361,
          436,
          435,
          371,
          363,
          398,
          388,
          371,
          339,
          346,
          280,
          292,
          262,
          296,
          270,
          291,
          329,
          363,
          309,
          255,
          364,
          136,
          243,
          241,
          269,
          325,
          252,
          257,
          285,
          329,
          353,
          339,
          280,
          341,
          384,
          259,
          379,
          406,
          347,
          425,
          307,
          349,
          372,
          258,
          339,
          343,
          282,
          355,
          392,
          363,
          201,
          315,
          357,
          247,
          259,
          340,
          348,
          350,
          357,
          323,
          381,
          361,
          348,
          428,
          280,
          355,
          368,
          315,
          312,
          345,
          230,
          276,
          281,
          379,
          388,
          251,
          311,
          308,
          356,
          410,
          296,
          364,
          394,
          370,
          332,
          345,
          333,
          196,
          289,
          383,
          319,
          390,
          436,
          99,
          265,
          242,
          246,
          310,
          317,
          305,
          253,
          169,
          271,
          396,
          409,
          239,
          273,
          217,
          349,
          375,
          284,
          263,
          396,
          443,
          77,
          265,
          366,
          263,
          159,
          358,
          352
         ],
         "xaxis": "x",
         "y": [
          450,
          395,
          380,
          373,
          402,
          291,
          385,
          375,
          373,
          401,
          485,
          490,
          445,
          456,
          428,
          470,
          386,
          364,
          362,
          364,
          342,
          304,
          317,
          379,
          387,
          377,
          352,
          380,
          375,
          408,
          319,
          328,
          360,
          452,
          390,
          378,
          379,
          436,
          349,
          360,
          347,
          390,
          369,
          303,
          307,
          328,
          341,
          347,
          401,
          353,
          372,
          366,
          350,
          335,
          228,
          311,
          439,
          415,
          407,
          373,
          342,
          422,
          408,
          407,
          375,
          309,
          361,
          344,
          352,
          371,
          363,
          398,
          388,
          371,
          367,
          404,
          395,
          292,
          262,
          296,
          270,
          291,
          320,
          363,
          309,
          255,
          364,
          297,
          243,
          289,
          269,
          263,
          365,
          257,
          285,
          329,
          353,
          339,
          280,
          341,
          384,
          259,
          292,
          406,
          347,
          425,
          307,
          349,
          372,
          423,
          274,
          343,
          380,
          355,
          392,
          363,
          261,
          315,
          357,
          212,
          219,
          292,
          285,
          350,
          357,
          323,
          381,
          361,
          348,
          428,
          305,
          355,
          368,
          315,
          243,
          345,
          282,
          276,
          281,
          228,
          265,
          251,
          322,
          308,
          356,
          388,
          261,
          364,
          394,
          370,
          332,
          382,
          333,
          382,
          289,
          326,
          319,
          390,
          436,
          435,
          265,
          242,
          246,
          203,
          317,
          305,
          253,
          201,
          271,
          396,
          409,
          359,
          273,
          217,
          242,
          375,
          333,
          280,
          259,
          443,
          477,
          265,
          306,
          414,
          292,
          192,
          387,
          288
         ],
         "yaxis": "y"
        }
       ],
       "layout": {
        "legend": {
         "tracegroupgap": 0
        },
        "margin": {
         "t": 60
        },
        "template": {
         "data": {
          "bar": [
           {
            "error_x": {
             "color": "#2a3f5f"
            },
            "error_y": {
             "color": "#2a3f5f"
            },
            "marker": {
             "line": {
              "color": "#E5ECF6",
              "width": 0.5
             },
             "pattern": {
              "fillmode": "overlay",
              "size": 10,
              "solidity": 0.2
             }
            },
            "type": "bar"
           }
          ],
          "barpolar": [
           {
            "marker": {
             "line": {
              "color": "#E5ECF6",
              "width": 0.5
             },
             "pattern": {
              "fillmode": "overlay",
              "size": 10,
              "solidity": 0.2
             }
            },
            "type": "barpolar"
           }
          ],
          "carpet": [
           {
            "aaxis": {
             "endlinecolor": "#2a3f5f",
             "gridcolor": "white",
             "linecolor": "white",
             "minorgridcolor": "white",
             "startlinecolor": "#2a3f5f"
            },
            "baxis": {
             "endlinecolor": "#2a3f5f",
             "gridcolor": "white",
             "linecolor": "white",
             "minorgridcolor": "white",
             "startlinecolor": "#2a3f5f"
            },
            "type": "carpet"
           }
          ],
          "choropleth": [
           {
            "colorbar": {
             "outlinewidth": 0,
             "ticks": ""
            },
            "type": "choropleth"
           }
          ],
          "contour": [
           {
            "colorbar": {
             "outlinewidth": 0,
             "ticks": ""
            },
            "colorscale": [
             [
              0,
              "#0d0887"
             ],
             [
              0.1111111111111111,
              "#46039f"
             ],
             [
              0.2222222222222222,
              "#7201a8"
             ],
             [
              0.3333333333333333,
              "#9c179e"
             ],
             [
              0.4444444444444444,
              "#bd3786"
             ],
             [
              0.5555555555555556,
              "#d8576b"
             ],
             [
              0.6666666666666666,
              "#ed7953"
             ],
             [
              0.7777777777777778,
              "#fb9f3a"
             ],
             [
              0.8888888888888888,
              "#fdca26"
             ],
             [
              1,
              "#f0f921"
             ]
            ],
            "type": "contour"
           }
          ],
          "contourcarpet": [
           {
            "colorbar": {
             "outlinewidth": 0,
             "ticks": ""
            },
            "type": "contourcarpet"
           }
          ],
          "heatmap": [
           {
            "colorbar": {
             "outlinewidth": 0,
             "ticks": ""
            },
            "colorscale": [
             [
              0,
              "#0d0887"
             ],
             [
              0.1111111111111111,
              "#46039f"
             ],
             [
              0.2222222222222222,
              "#7201a8"
             ],
             [
              0.3333333333333333,
              "#9c179e"
             ],
             [
              0.4444444444444444,
              "#bd3786"
             ],
             [
              0.5555555555555556,
              "#d8576b"
             ],
             [
              0.6666666666666666,
              "#ed7953"
             ],
             [
              0.7777777777777778,
              "#fb9f3a"
             ],
             [
              0.8888888888888888,
              "#fdca26"
             ],
             [
              1,
              "#f0f921"
             ]
            ],
            "type": "heatmap"
           }
          ],
          "heatmapgl": [
           {
            "colorbar": {
             "outlinewidth": 0,
             "ticks": ""
            },
            "colorscale": [
             [
              0,
              "#0d0887"
             ],
             [
              0.1111111111111111,
              "#46039f"
             ],
             [
              0.2222222222222222,
              "#7201a8"
             ],
             [
              0.3333333333333333,
              "#9c179e"
             ],
             [
              0.4444444444444444,
              "#bd3786"
             ],
             [
              0.5555555555555556,
              "#d8576b"
             ],
             [
              0.6666666666666666,
              "#ed7953"
             ],
             [
              0.7777777777777778,
              "#fb9f3a"
             ],
             [
              0.8888888888888888,
              "#fdca26"
             ],
             [
              1,
              "#f0f921"
             ]
            ],
            "type": "heatmapgl"
           }
          ],
          "histogram": [
           {
            "marker": {
             "pattern": {
              "fillmode": "overlay",
              "size": 10,
              "solidity": 0.2
             }
            },
            "type": "histogram"
           }
          ],
          "histogram2d": [
           {
            "colorbar": {
             "outlinewidth": 0,
             "ticks": ""
            },
            "colorscale": [
             [
              0,
              "#0d0887"
             ],
             [
              0.1111111111111111,
              "#46039f"
             ],
             [
              0.2222222222222222,
              "#7201a8"
             ],
             [
              0.3333333333333333,
              "#9c179e"
             ],
             [
              0.4444444444444444,
              "#bd3786"
             ],
             [
              0.5555555555555556,
              "#d8576b"
             ],
             [
              0.6666666666666666,
              "#ed7953"
             ],
             [
              0.7777777777777778,
              "#fb9f3a"
             ],
             [
              0.8888888888888888,
              "#fdca26"
             ],
             [
              1,
              "#f0f921"
             ]
            ],
            "type": "histogram2d"
           }
          ],
          "histogram2dcontour": [
           {
            "colorbar": {
             "outlinewidth": 0,
             "ticks": ""
            },
            "colorscale": [
             [
              0,
              "#0d0887"
             ],
             [
              0.1111111111111111,
              "#46039f"
             ],
             [
              0.2222222222222222,
              "#7201a8"
             ],
             [
              0.3333333333333333,
              "#9c179e"
             ],
             [
              0.4444444444444444,
              "#bd3786"
             ],
             [
              0.5555555555555556,
              "#d8576b"
             ],
             [
              0.6666666666666666,
              "#ed7953"
             ],
             [
              0.7777777777777778,
              "#fb9f3a"
             ],
             [
              0.8888888888888888,
              "#fdca26"
             ],
             [
              1,
              "#f0f921"
             ]
            ],
            "type": "histogram2dcontour"
           }
          ],
          "mesh3d": [
           {
            "colorbar": {
             "outlinewidth": 0,
             "ticks": ""
            },
            "type": "mesh3d"
           }
          ],
          "parcoords": [
           {
            "line": {
             "colorbar": {
              "outlinewidth": 0,
              "ticks": ""
             }
            },
            "type": "parcoords"
           }
          ],
          "pie": [
           {
            "automargin": true,
            "type": "pie"
           }
          ],
          "scatter": [
           {
            "fillpattern": {
             "fillmode": "overlay",
             "size": 10,
             "solidity": 0.2
            },
            "type": "scatter"
           }
          ],
          "scatter3d": [
           {
            "line": {
             "colorbar": {
              "outlinewidth": 0,
              "ticks": ""
             }
            },
            "marker": {
             "colorbar": {
              "outlinewidth": 0,
              "ticks": ""
             }
            },
            "type": "scatter3d"
           }
          ],
          "scattercarpet": [
           {
            "marker": {
             "colorbar": {
              "outlinewidth": 0,
              "ticks": ""
             }
            },
            "type": "scattercarpet"
           }
          ],
          "scattergeo": [
           {
            "marker": {
             "colorbar": {
              "outlinewidth": 0,
              "ticks": ""
             }
            },
            "type": "scattergeo"
           }
          ],
          "scattergl": [
           {
            "marker": {
             "colorbar": {
              "outlinewidth": 0,
              "ticks": ""
             }
            },
            "type": "scattergl"
           }
          ],
          "scattermapbox": [
           {
            "marker": {
             "colorbar": {
              "outlinewidth": 0,
              "ticks": ""
             }
            },
            "type": "scattermapbox"
           }
          ],
          "scatterpolar": [
           {
            "marker": {
             "colorbar": {
              "outlinewidth": 0,
              "ticks": ""
             }
            },
            "type": "scatterpolar"
           }
          ],
          "scatterpolargl": [
           {
            "marker": {
             "colorbar": {
              "outlinewidth": 0,
              "ticks": ""
             }
            },
            "type": "scatterpolargl"
           }
          ],
          "scatterternary": [
           {
            "marker": {
             "colorbar": {
              "outlinewidth": 0,
              "ticks": ""
             }
            },
            "type": "scatterternary"
           }
          ],
          "surface": [
           {
            "colorbar": {
             "outlinewidth": 0,
             "ticks": ""
            },
            "colorscale": [
             [
              0,
              "#0d0887"
             ],
             [
              0.1111111111111111,
              "#46039f"
             ],
             [
              0.2222222222222222,
              "#7201a8"
             ],
             [
              0.3333333333333333,
              "#9c179e"
             ],
             [
              0.4444444444444444,
              "#bd3786"
             ],
             [
              0.5555555555555556,
              "#d8576b"
             ],
             [
              0.6666666666666666,
              "#ed7953"
             ],
             [
              0.7777777777777778,
              "#fb9f3a"
             ],
             [
              0.8888888888888888,
              "#fdca26"
             ],
             [
              1,
              "#f0f921"
             ]
            ],
            "type": "surface"
           }
          ],
          "table": [
           {
            "cells": {
             "fill": {
              "color": "#EBF0F8"
             },
             "line": {
              "color": "white"
             }
            },
            "header": {
             "fill": {
              "color": "#C8D4E3"
             },
             "line": {
              "color": "white"
             }
            },
            "type": "table"
           }
          ]
         },
         "layout": {
          "annotationdefaults": {
           "arrowcolor": "#2a3f5f",
           "arrowhead": 0,
           "arrowwidth": 1
          },
          "autotypenumbers": "strict",
          "coloraxis": {
           "colorbar": {
            "outlinewidth": 0,
            "ticks": ""
           }
          },
          "colorscale": {
           "diverging": [
            [
             0,
             "#8e0152"
            ],
            [
             0.1,
             "#c51b7d"
            ],
            [
             0.2,
             "#de77ae"
            ],
            [
             0.3,
             "#f1b6da"
            ],
            [
             0.4,
             "#fde0ef"
            ],
            [
             0.5,
             "#f7f7f7"
            ],
            [
             0.6,
             "#e6f5d0"
            ],
            [
             0.7,
             "#b8e186"
            ],
            [
             0.8,
             "#7fbc41"
            ],
            [
             0.9,
             "#4d9221"
            ],
            [
             1,
             "#276419"
            ]
           ],
           "sequential": [
            [
             0,
             "#0d0887"
            ],
            [
             0.1111111111111111,
             "#46039f"
            ],
            [
             0.2222222222222222,
             "#7201a8"
            ],
            [
             0.3333333333333333,
             "#9c179e"
            ],
            [
             0.4444444444444444,
             "#bd3786"
            ],
            [
             0.5555555555555556,
             "#d8576b"
            ],
            [
             0.6666666666666666,
             "#ed7953"
            ],
            [
             0.7777777777777778,
             "#fb9f3a"
            ],
            [
             0.8888888888888888,
             "#fdca26"
            ],
            [
             1,
             "#f0f921"
            ]
           ],
           "sequentialminus": [
            [
             0,
             "#0d0887"
            ],
            [
             0.1111111111111111,
             "#46039f"
            ],
            [
             0.2222222222222222,
             "#7201a8"
            ],
            [
             0.3333333333333333,
             "#9c179e"
            ],
            [
             0.4444444444444444,
             "#bd3786"
            ],
            [
             0.5555555555555556,
             "#d8576b"
            ],
            [
             0.6666666666666666,
             "#ed7953"
            ],
            [
             0.7777777777777778,
             "#fb9f3a"
            ],
            [
             0.8888888888888888,
             "#fdca26"
            ],
            [
             1,
             "#f0f921"
            ]
           ]
          },
          "colorway": [
           "#636efa",
           "#EF553B",
           "#00cc96",
           "#ab63fa",
           "#FFA15A",
           "#19d3f3",
           "#FF6692",
           "#B6E880",
           "#FF97FF",
           "#FECB52"
          ],
          "font": {
           "color": "#2a3f5f"
          },
          "geo": {
           "bgcolor": "white",
           "lakecolor": "white",
           "landcolor": "#E5ECF6",
           "showlakes": true,
           "showland": true,
           "subunitcolor": "white"
          },
          "hoverlabel": {
           "align": "left"
          },
          "hovermode": "closest",
          "mapbox": {
           "style": "light"
          },
          "paper_bgcolor": "white",
          "plot_bgcolor": "#E5ECF6",
          "polar": {
           "angularaxis": {
            "gridcolor": "white",
            "linecolor": "white",
            "ticks": ""
           },
           "bgcolor": "#E5ECF6",
           "radialaxis": {
            "gridcolor": "white",
            "linecolor": "white",
            "ticks": ""
           }
          },
          "scene": {
           "xaxis": {
            "backgroundcolor": "#E5ECF6",
            "gridcolor": "white",
            "gridwidth": 2,
            "linecolor": "white",
            "showbackground": true,
            "ticks": "",
            "zerolinecolor": "white"
           },
           "yaxis": {
            "backgroundcolor": "#E5ECF6",
            "gridcolor": "white",
            "gridwidth": 2,
            "linecolor": "white",
            "showbackground": true,
            "ticks": "",
            "zerolinecolor": "white"
           },
           "zaxis": {
            "backgroundcolor": "#E5ECF6",
            "gridcolor": "white",
            "gridwidth": 2,
            "linecolor": "white",
            "showbackground": true,
            "ticks": "",
            "zerolinecolor": "white"
           }
          },
          "shapedefaults": {
           "line": {
            "color": "#2a3f5f"
           }
          },
          "ternary": {
           "aaxis": {
            "gridcolor": "white",
            "linecolor": "white",
            "ticks": ""
           },
           "baxis": {
            "gridcolor": "white",
            "linecolor": "white",
            "ticks": ""
           },
           "bgcolor": "#E5ECF6",
           "caxis": {
            "gridcolor": "white",
            "linecolor": "white",
            "ticks": ""
           }
          },
          "title": {
           "x": 0.05
          },
          "xaxis": {
           "automargin": true,
           "gridcolor": "white",
           "linecolor": "white",
           "ticks": "",
           "title": {
            "standoff": 15
           },
           "zerolinecolor": "white",
           "zerolinewidth": 2
          },
          "yaxis": {
           "automargin": true,
           "gridcolor": "white",
           "linecolor": "white",
           "ticks": "",
           "title": {
            "standoff": 15
           },
           "zerolinecolor": "white",
           "zerolinewidth": 2
          }
         }
        },
        "xaxis": {
         "anchor": "y",
         "domain": [
          0,
          1
         ],
         "title": {
          "text": "completions_last"
         }
        },
        "yaxis": {
         "anchor": "x",
         "domain": [
          0,
          1
         ],
         "title": {
          "text": "completions"
         }
        }
       }
      },
      "text/html": [
       "<div>                            <div id=\"1c92a463-4198-4585-ad21-5a032e4eeabe\" class=\"plotly-graph-div\" style=\"height:525px; width:100%;\"></div>            <script type=\"text/javascript\">                require([\"plotly\"], function(Plotly) {                    window.PLOTLYENV=window.PLOTLYENV || {};                                    if (document.getElementById(\"1c92a463-4198-4585-ad21-5a032e4eeabe\")) {                    Plotly.newPlot(                        \"1c92a463-4198-4585-ad21-5a032e4eeabe\",                        [{\"customdata\":[[\"P.Manning\",2013,37.0],[\"P.Manning\",2014,38.0],[\"T.Brady\",2013,36.0],[\"T.Brady\",2014,37.0],[\"T.Brady\",2015,38.0],[\"T.Brady\",2016,39.0],[\"T.Brady\",2017,40.0],[\"T.Brady\",2018,41.0],[\"T.Brady\",2019,42.0],[\"T.Brady\",2020,43.0],[\"T.Brady\",2021,44.0],[\"T.Brady\",2022,45.0],[\"D.Brees\",2013,34.0],[\"D.Brees\",2014,35.0],[\"D.Brees\",2015,36.0],[\"D.Brees\",2016,37.0],[\"D.Brees\",2017,38.0],[\"D.Brees\",2018,39.0],[\"C.Palmer\",2013,33.0],[\"C.Palmer\",2016,36.0],[\"T.Romo\",2013,33.0],[\"T.Romo\",2014,34.0],[\"E.Manning\",2013,32.0],[\"E.Manning\",2014,33.0],[\"E.Manning\",2015,34.0],[\"E.Manning\",2016,35.0],[\"E.Manning\",2017,36.0],[\"E.Manning\",2018,37.0],[\"B.Roethlisberger\",2013,31.0],[\"B.Roethlisberger\",2014,32.0],[\"B.Roethlisberger\",2015,33.0],[\"B.Roethlisberger\",2016,34.0],[\"B.Roethlisberger\",2017,35.0],[\"B.Roethlisberger\",2018,36.0],[\"B.Roethlisberger\",2021,39.0],[\"P.Rivers\",2013,31.0],[\"P.Rivers\",2014,32.0],[\"P.Rivers\",2015,33.0],[\"P.Rivers\",2016,34.0],[\"P.Rivers\",2017,35.0],[\"P.Rivers\",2018,36.0],[\"P.Rivers\",2019,37.0],[\"P.Rivers\",2020,38.0],[\"A.Smith\",2014,30.0],[\"A.Smith\",2015,31.0],[\"A.Smith\",2016,32.0],[\"A.Smith\",2017,33.0],[\"A.Rodgers\",2015,31.0],[\"A.Rodgers\",2016,32.0],[\"A.Rodgers\",2019,35.0],[\"A.Rodgers\",2020,36.0],[\"A.Rodgers\",2021,37.0],[\"A.Rodgers\",2022,38.0],[\"R.Fitzpatrick\",2015,32.0],[\"R.Fitzpatrick\",2016,33.0],[\"J.Cutler\",2015,32.0],[\"M.Ryan\",2013,28.0],[\"M.Ryan\",2014,29.0],[\"M.Ryan\",2015,30.0],[\"M.Ryan\",2016,31.0],[\"M.Ryan\",2017,32.0],[\"M.Ryan\",2018,33.0],[\"M.Ryan\",2019,34.0],[\"M.Ryan\",2020,35.0],[\"M.Ryan\",2021,36.0],[\"M.Ryan\",2022,37.0],[\"J.Flacco\",2013,28.0],[\"J.Flacco\",2014,29.0],[\"J.Flacco\",2017,32.0],[\"M.Stafford\",2013,25.0],[\"M.Stafford\",2014,26.0],[\"M.Stafford\",2015,27.0],[\"M.Stafford\",2016,28.0],[\"M.Stafford\",2017,29.0],[\"M.Stafford\",2018,30.0],[\"M.Stafford\",2021,33.0],[\"S.Bradford\",2016,28.0],[\"C.Newton\",2013,24.0],[\"C.Newton\",2014,25.0],[\"C.Newton\",2015,26.0],[\"C.Newton\",2016,27.0],[\"C.Newton\",2017,28.0],[\"C.Newton\",2018,29.0],[\"A.Dalton\",2013,25.0],[\"A.Dalton\",2014,26.0],[\"A.Dalton\",2015,27.0],[\"A.Dalton\",2016,28.0],[\"A.Dalton\",2017,29.0],[\"C.Kaepernick\",2013,25.0],[\"C.Kaepernick\",2014,26.0],[\"T.Taylor\",2016,27.0],[\"T.Taylor\",2017,28.0],[\"C.Keenum\",2018,30.0],[\"R.Wilson\",2013,24.0],[\"R.Wilson\",2014,25.0],[\"R.Wilson\",2015,26.0],[\"R.Wilson\",2016,27.0],[\"R.Wilson\",2017,28.0],[\"R.Wilson\",2018,29.0],[\"R.Wilson\",2019,30.0],[\"R.Wilson\",2020,31.0],[\"R.Wilson\",2021,32.0],[\"R.Wilson\",2022,33.0],[\"K.Cousins\",2016,28.0],[\"K.Cousins\",2017,29.0],[\"K.Cousins\",2018,30.0],[\"K.Cousins\",2019,31.0],[\"K.Cousins\",2020,32.0],[\"K.Cousins\",2021,33.0],[\"K.Cousins\",2022,34.0],[\"R.Griffin III\",2013,23.0],[\"A.Luck\",2013,23.0],[\"A.Luck\",2014,24.0],[\"R.Tannehill\",2013,25.0],[\"R.Tannehill\",2014,26.0],[\"R.Tannehill\",2015,27.0],[\"R.Tannehill\",2016,28.0],[\"R.Tannehill\",2020,32.0],[\"R.Tannehill\",2021,33.0],[\"R.Tannehill\",2022,34.0],[\"G.Smith\",2014,23.0],[\"T.Bridgewater\",2015,22.0],[\"T.Bridgewater\",2021,28.0],[\"D.Carr\",2015,24.0],[\"D.Carr\",2016,25.0],[\"D.Carr\",2017,26.0],[\"D.Carr\",2018,27.0],[\"D.Carr\",2019,28.0],[\"D.Carr\",2020,29.0],[\"D.Carr\",2021,30.0],[\"D.Carr\",2022,31.0],[\"B.Bortles\",2015,23.0],[\"B.Bortles\",2016,24.0],[\"B.Bortles\",2017,25.0],[\"B.Bortles\",2018,26.0],[\"J.Winston\",2016,22.0],[\"J.Winston\",2017,23.0],[\"M.Mariota\",2016,22.0],[\"M.Mariota\",2017,23.0],[\"M.Mariota\",2018,24.0],[\"C.Wentz\",2017,24.0],[\"C.Wentz\",2020,27.0],[\"C.Wentz\",2021,28.0],[\"D.Prescott\",2017,24.0],[\"D.Prescott\",2018,25.0],[\"D.Prescott\",2019,26.0],[\"D.Prescott\",2022,29.0],[\"J.Goff\",2018,23.0],[\"J.Goff\",2019,24.0],[\"J.Goff\",2020,25.0],[\"J.Goff\",2021,26.0],[\"J.Goff\",2022,27.0],[\"D.Watson\",2019,23.0],[\"D.Watson\",2020,24.0],[\"M.Trubisky\",2018,24.0],[\"M.Trubisky\",2019,25.0],[\"P.Mahomes\",2019,23.0],[\"P.Mahomes\",2020,24.0],[\"P.Mahomes\",2021,25.0],[\"P.Mahomes\",2022,26.0],[\"L.Jackson\",2019,22.0],[\"L.Jackson\",2020,23.0],[\"L.Jackson\",2021,24.0],[\"L.Jackson\",2022,25.0],[\"B.Mayfield\",2019,24.0],[\"B.Mayfield\",2020,25.0],[\"B.Mayfield\",2021,26.0],[\"B.Mayfield\",2022,27.0],[\"J.Allen\",2019,23.0],[\"J.Allen\",2020,24.0],[\"J.Allen\",2021,25.0],[\"J.Allen\",2022,26.0],[\"S.Darnold\",2019,22.0],[\"S.Darnold\",2020,23.0],[\"S.Darnold\",2021,24.0],[\"K.Murray\",2020,23.0],[\"K.Murray\",2021,24.0],[\"D.Jones\",2020,23.0],[\"T.Tagovailoa\",2022,24.0],[\"J.Herbert\",2021,23.0],[\"J.Herbert\",2022,24.0],[\"J.Hurts\",2021,23.0],[\"J.Hurts\",2022,24.0],[\"J.Burrow\",2022,25.0],[\"D.Mills\",2022,23.0],[\"J.Fields\",2022,23.0],[\"T.Lawrence\",2022,22.0],[\"M.Jones\",2022,23.0]],\"hovertemplate\":\"completions_last=%{x}\\u003cbr\\u003ecompletions=%{y}\\u003cbr\\u003epasser=%{customdata[0]}\\u003cbr\\u003eseason=%{customdata[1]}\\u003cbr\\u003eage=%{customdata[2]}\\u003cextra\\u003e\\u003c\\u002fextra\\u003e\",\"legendgroup\":\"\",\"marker\":{\"color\":\"#636efa\",\"symbol\":\"circle\"},\"mode\":\"markers\",\"name\":\"\",\"orientation\":\"v\",\"showlegend\":false,\"x\":[400.0,450.0,401.0,380.0,373.0,402.0,291.0,385.0,375.0,373.0,401.0,485.0,422.0,445.0,456.0,428.0,470.0,386.0,345.0,342.0,425.0,342.0,321.0,317.0,379.0,387.0,377.0,352.0,284.0,375.0,408.0,319.0,328.0,360.0,399.0,338.0,378.0,379.0,436.0,349.0,360.0,347.0,390.0,308.0,303.0,307.0,328.0,341.0,347.0,372.0,353.0,372.0,366.0,197.0,335.0,370.0,421.0,439.0,415.0,407.0,373.0,342.0,422.0,408.0,407.0,375.0,317.0,361.0,436.0,435.0,371.0,363.0,398.0,388.0,371.0,339.0,346.0,280.0,292.0,262.0,296.0,270.0,291.0,329.0,363.0,309.0,255.0,364.0,136.0,243.0,241.0,269.0,325.0,252.0,257.0,285.0,329.0,353.0,339.0,280.0,341.0,384.0,259.0,379.0,406.0,347.0,425.0,307.0,349.0,372.0,258.0,339.0,343.0,282.0,355.0,392.0,363.0,201.0,315.0,357.0,247.0,259.0,340.0,348.0,350.0,357.0,323.0,381.0,361.0,348.0,428.0,280.0,355.0,368.0,315.0,312.0,345.0,230.0,276.0,281.0,379.0,388.0,251.0,311.0,308.0,356.0,410.0,296.0,364.0,394.0,370.0,332.0,345.0,333.0,196.0,289.0,383.0,319.0,390.0,436.0,99.0,265.0,242.0,246.0,310.0,317.0,305.0,253.0,169.0,271.0,396.0,409.0,239.0,273.0,217.0,349.0,375.0,284.0,263.0,396.0,443.0,77.0,265.0,366.0,263.0,159.0,358.0,352.0],\"xaxis\":\"x\",\"y\":[450.0,395.0,380.0,373.0,402.0,291.0,385.0,375.0,373.0,401.0,485.0,490.0,445.0,456.0,428.0,470.0,386.0,364.0,362.0,364.0,342.0,304.0,317.0,379.0,387.0,377.0,352.0,380.0,375.0,408.0,319.0,328.0,360.0,452.0,390.0,378.0,379.0,436.0,349.0,360.0,347.0,390.0,369.0,303.0,307.0,328.0,341.0,347.0,401.0,353.0,372.0,366.0,350.0,335.0,228.0,311.0,439.0,415.0,407.0,373.0,342.0,422.0,408.0,407.0,375.0,309.0,361.0,344.0,352.0,371.0,363.0,398.0,388.0,371.0,367.0,404.0,395.0,292.0,262.0,296.0,270.0,291.0,320.0,363.0,309.0,255.0,364.0,297.0,243.0,289.0,269.0,263.0,365.0,257.0,285.0,329.0,353.0,339.0,280.0,341.0,384.0,259.0,292.0,406.0,347.0,425.0,307.0,349.0,372.0,423.0,274.0,343.0,380.0,355.0,392.0,363.0,261.0,315.0,357.0,212.0,219.0,292.0,285.0,350.0,357.0,323.0,381.0,361.0,348.0,428.0,305.0,355.0,368.0,315.0,243.0,345.0,282.0,276.0,281.0,228.0,265.0,251.0,322.0,308.0,356.0,388.0,261.0,364.0,394.0,370.0,332.0,382.0,333.0,382.0,289.0,326.0,319.0,390.0,436.0,435.0,265.0,242.0,246.0,203.0,317.0,305.0,253.0,201.0,271.0,396.0,409.0,359.0,273.0,217.0,242.0,375.0,333.0,280.0,259.0,443.0,477.0,265.0,306.0,414.0,292.0,192.0,387.0,288.0],\"yaxis\":\"y\",\"type\":\"scatter\"}],                        {\"template\":{\"data\":{\"histogram2dcontour\":[{\"type\":\"histogram2dcontour\",\"colorbar\":{\"outlinewidth\":0,\"ticks\":\"\"},\"colorscale\":[[0.0,\"#0d0887\"],[0.1111111111111111,\"#46039f\"],[0.2222222222222222,\"#7201a8\"],[0.3333333333333333,\"#9c179e\"],[0.4444444444444444,\"#bd3786\"],[0.5555555555555556,\"#d8576b\"],[0.6666666666666666,\"#ed7953\"],[0.7777777777777778,\"#fb9f3a\"],[0.8888888888888888,\"#fdca26\"],[1.0,\"#f0f921\"]]}],\"choropleth\":[{\"type\":\"choropleth\",\"colorbar\":{\"outlinewidth\":0,\"ticks\":\"\"}}],\"histogram2d\":[{\"type\":\"histogram2d\",\"colorbar\":{\"outlinewidth\":0,\"ticks\":\"\"},\"colorscale\":[[0.0,\"#0d0887\"],[0.1111111111111111,\"#46039f\"],[0.2222222222222222,\"#7201a8\"],[0.3333333333333333,\"#9c179e\"],[0.4444444444444444,\"#bd3786\"],[0.5555555555555556,\"#d8576b\"],[0.6666666666666666,\"#ed7953\"],[0.7777777777777778,\"#fb9f3a\"],[0.8888888888888888,\"#fdca26\"],[1.0,\"#f0f921\"]]}],\"heatmap\":[{\"type\":\"heatmap\",\"colorbar\":{\"outlinewidth\":0,\"ticks\":\"\"},\"colorscale\":[[0.0,\"#0d0887\"],[0.1111111111111111,\"#46039f\"],[0.2222222222222222,\"#7201a8\"],[0.3333333333333333,\"#9c179e\"],[0.4444444444444444,\"#bd3786\"],[0.5555555555555556,\"#d8576b\"],[0.6666666666666666,\"#ed7953\"],[0.7777777777777778,\"#fb9f3a\"],[0.8888888888888888,\"#fdca26\"],[1.0,\"#f0f921\"]]}],\"heatmapgl\":[{\"type\":\"heatmapgl\",\"colorbar\":{\"outlinewidth\":0,\"ticks\":\"\"},\"colorscale\":[[0.0,\"#0d0887\"],[0.1111111111111111,\"#46039f\"],[0.2222222222222222,\"#7201a8\"],[0.3333333333333333,\"#9c179e\"],[0.4444444444444444,\"#bd3786\"],[0.5555555555555556,\"#d8576b\"],[0.6666666666666666,\"#ed7953\"],[0.7777777777777778,\"#fb9f3a\"],[0.8888888888888888,\"#fdca26\"],[1.0,\"#f0f921\"]]}],\"contourcarpet\":[{\"type\":\"contourcarpet\",\"colorbar\":{\"outlinewidth\":0,\"ticks\":\"\"}}],\"contour\":[{\"type\":\"contour\",\"colorbar\":{\"outlinewidth\":0,\"ticks\":\"\"},\"colorscale\":[[0.0,\"#0d0887\"],[0.1111111111111111,\"#46039f\"],[0.2222222222222222,\"#7201a8\"],[0.3333333333333333,\"#9c179e\"],[0.4444444444444444,\"#bd3786\"],[0.5555555555555556,\"#d8576b\"],[0.6666666666666666,\"#ed7953\"],[0.7777777777777778,\"#fb9f3a\"],[0.8888888888888888,\"#fdca26\"],[1.0,\"#f0f921\"]]}],\"surface\":[{\"type\":\"surface\",\"colorbar\":{\"outlinewidth\":0,\"ticks\":\"\"},\"colorscale\":[[0.0,\"#0d0887\"],[0.1111111111111111,\"#46039f\"],[0.2222222222222222,\"#7201a8\"],[0.3333333333333333,\"#9c179e\"],[0.4444444444444444,\"#bd3786\"],[0.5555555555555556,\"#d8576b\"],[0.6666666666666666,\"#ed7953\"],[0.7777777777777778,\"#fb9f3a\"],[0.8888888888888888,\"#fdca26\"],[1.0,\"#f0f921\"]]}],\"mesh3d\":[{\"type\":\"mesh3d\",\"colorbar\":{\"outlinewidth\":0,\"ticks\":\"\"}}],\"scatter\":[{\"fillpattern\":{\"fillmode\":\"overlay\",\"size\":10,\"solidity\":0.2},\"type\":\"scatter\"}],\"parcoords\":[{\"type\":\"parcoords\",\"line\":{\"colorbar\":{\"outlinewidth\":0,\"ticks\":\"\"}}}],\"scatterpolargl\":[{\"type\":\"scatterpolargl\",\"marker\":{\"colorbar\":{\"outlinewidth\":0,\"ticks\":\"\"}}}],\"bar\":[{\"error_x\":{\"color\":\"#2a3f5f\"},\"error_y\":{\"color\":\"#2a3f5f\"},\"marker\":{\"line\":{\"color\":\"#E5ECF6\",\"width\":0.5},\"pattern\":{\"fillmode\":\"overlay\",\"size\":10,\"solidity\":0.2}},\"type\":\"bar\"}],\"scattergeo\":[{\"type\":\"scattergeo\",\"marker\":{\"colorbar\":{\"outlinewidth\":0,\"ticks\":\"\"}}}],\"scatterpolar\":[{\"type\":\"scatterpolar\",\"marker\":{\"colorbar\":{\"outlinewidth\":0,\"ticks\":\"\"}}}],\"histogram\":[{\"marker\":{\"pattern\":{\"fillmode\":\"overlay\",\"size\":10,\"solidity\":0.2}},\"type\":\"histogram\"}],\"scattergl\":[{\"type\":\"scattergl\",\"marker\":{\"colorbar\":{\"outlinewidth\":0,\"ticks\":\"\"}}}],\"scatter3d\":[{\"type\":\"scatter3d\",\"line\":{\"colorbar\":{\"outlinewidth\":0,\"ticks\":\"\"}},\"marker\":{\"colorbar\":{\"outlinewidth\":0,\"ticks\":\"\"}}}],\"scattermapbox\":[{\"type\":\"scattermapbox\",\"marker\":{\"colorbar\":{\"outlinewidth\":0,\"ticks\":\"\"}}}],\"scatterternary\":[{\"type\":\"scatterternary\",\"marker\":{\"colorbar\":{\"outlinewidth\":0,\"ticks\":\"\"}}}],\"scattercarpet\":[{\"type\":\"scattercarpet\",\"marker\":{\"colorbar\":{\"outlinewidth\":0,\"ticks\":\"\"}}}],\"carpet\":[{\"aaxis\":{\"endlinecolor\":\"#2a3f5f\",\"gridcolor\":\"white\",\"linecolor\":\"white\",\"minorgridcolor\":\"white\",\"startlinecolor\":\"#2a3f5f\"},\"baxis\":{\"endlinecolor\":\"#2a3f5f\",\"gridcolor\":\"white\",\"linecolor\":\"white\",\"minorgridcolor\":\"white\",\"startlinecolor\":\"#2a3f5f\"},\"type\":\"carpet\"}],\"table\":[{\"cells\":{\"fill\":{\"color\":\"#EBF0F8\"},\"line\":{\"color\":\"white\"}},\"header\":{\"fill\":{\"color\":\"#C8D4E3\"},\"line\":{\"color\":\"white\"}},\"type\":\"table\"}],\"barpolar\":[{\"marker\":{\"line\":{\"color\":\"#E5ECF6\",\"width\":0.5},\"pattern\":{\"fillmode\":\"overlay\",\"size\":10,\"solidity\":0.2}},\"type\":\"barpolar\"}],\"pie\":[{\"automargin\":true,\"type\":\"pie\"}]},\"layout\":{\"autotypenumbers\":\"strict\",\"colorway\":[\"#636efa\",\"#EF553B\",\"#00cc96\",\"#ab63fa\",\"#FFA15A\",\"#19d3f3\",\"#FF6692\",\"#B6E880\",\"#FF97FF\",\"#FECB52\"],\"font\":{\"color\":\"#2a3f5f\"},\"hovermode\":\"closest\",\"hoverlabel\":{\"align\":\"left\"},\"paper_bgcolor\":\"white\",\"plot_bgcolor\":\"#E5ECF6\",\"polar\":{\"bgcolor\":\"#E5ECF6\",\"angularaxis\":{\"gridcolor\":\"white\",\"linecolor\":\"white\",\"ticks\":\"\"},\"radialaxis\":{\"gridcolor\":\"white\",\"linecolor\":\"white\",\"ticks\":\"\"}},\"ternary\":{\"bgcolor\":\"#E5ECF6\",\"aaxis\":{\"gridcolor\":\"white\",\"linecolor\":\"white\",\"ticks\":\"\"},\"baxis\":{\"gridcolor\":\"white\",\"linecolor\":\"white\",\"ticks\":\"\"},\"caxis\":{\"gridcolor\":\"white\",\"linecolor\":\"white\",\"ticks\":\"\"}},\"coloraxis\":{\"colorbar\":{\"outlinewidth\":0,\"ticks\":\"\"}},\"colorscale\":{\"sequential\":[[0.0,\"#0d0887\"],[0.1111111111111111,\"#46039f\"],[0.2222222222222222,\"#7201a8\"],[0.3333333333333333,\"#9c179e\"],[0.4444444444444444,\"#bd3786\"],[0.5555555555555556,\"#d8576b\"],[0.6666666666666666,\"#ed7953\"],[0.7777777777777778,\"#fb9f3a\"],[0.8888888888888888,\"#fdca26\"],[1.0,\"#f0f921\"]],\"sequentialminus\":[[0.0,\"#0d0887\"],[0.1111111111111111,\"#46039f\"],[0.2222222222222222,\"#7201a8\"],[0.3333333333333333,\"#9c179e\"],[0.4444444444444444,\"#bd3786\"],[0.5555555555555556,\"#d8576b\"],[0.6666666666666666,\"#ed7953\"],[0.7777777777777778,\"#fb9f3a\"],[0.8888888888888888,\"#fdca26\"],[1.0,\"#f0f921\"]],\"diverging\":[[0,\"#8e0152\"],[0.1,\"#c51b7d\"],[0.2,\"#de77ae\"],[0.3,\"#f1b6da\"],[0.4,\"#fde0ef\"],[0.5,\"#f7f7f7\"],[0.6,\"#e6f5d0\"],[0.7,\"#b8e186\"],[0.8,\"#7fbc41\"],[0.9,\"#4d9221\"],[1,\"#276419\"]]},\"xaxis\":{\"gridcolor\":\"white\",\"linecolor\":\"white\",\"ticks\":\"\",\"title\":{\"standoff\":15},\"zerolinecolor\":\"white\",\"automargin\":true,\"zerolinewidth\":2},\"yaxis\":{\"gridcolor\":\"white\",\"linecolor\":\"white\",\"ticks\":\"\",\"title\":{\"standoff\":15},\"zerolinecolor\":\"white\",\"automargin\":true,\"zerolinewidth\":2},\"scene\":{\"xaxis\":{\"backgroundcolor\":\"#E5ECF6\",\"gridcolor\":\"white\",\"linecolor\":\"white\",\"showbackground\":true,\"ticks\":\"\",\"zerolinecolor\":\"white\",\"gridwidth\":2},\"yaxis\":{\"backgroundcolor\":\"#E5ECF6\",\"gridcolor\":\"white\",\"linecolor\":\"white\",\"showbackground\":true,\"ticks\":\"\",\"zerolinecolor\":\"white\",\"gridwidth\":2},\"zaxis\":{\"backgroundcolor\":\"#E5ECF6\",\"gridcolor\":\"white\",\"linecolor\":\"white\",\"showbackground\":true,\"ticks\":\"\",\"zerolinecolor\":\"white\",\"gridwidth\":2}},\"shapedefaults\":{\"line\":{\"color\":\"#2a3f5f\"}},\"annotationdefaults\":{\"arrowcolor\":\"#2a3f5f\",\"arrowhead\":0,\"arrowwidth\":1},\"geo\":{\"bgcolor\":\"white\",\"landcolor\":\"#E5ECF6\",\"subunitcolor\":\"white\",\"showland\":true,\"showlakes\":true,\"lakecolor\":\"white\"},\"title\":{\"x\":0.05},\"mapbox\":{\"style\":\"light\"}}},\"xaxis\":{\"anchor\":\"y\",\"domain\":[0.0,1.0],\"title\":{\"text\":\"completions_last\"}},\"yaxis\":{\"anchor\":\"x\",\"domain\":[0.0,1.0],\"title\":{\"text\":\"completions\"}},\"legend\":{\"tracegroupgap\":0},\"margin\":{\"t\":60}},                        {\"responsive\": true}                    ).then(function(){\n",
       "                            \n",
       "var gd = document.getElementById('1c92a463-4198-4585-ad21-5a032e4eeabe');\n",
       "var x = new MutationObserver(function (mutations, observer) {{\n",
       "        var display = window.getComputedStyle(gd).display;\n",
       "        if (!display || display === 'none') {{\n",
       "            console.log([gd, 'removed!']);\n",
       "            Plotly.purge(gd);\n",
       "            observer.disconnect();\n",
       "        }}\n",
       "}});\n",
       "\n",
       "// Listen for the removal of the full notebook cells\n",
       "var notebookContainer = gd.closest('#notebook-container');\n",
       "if (notebookContainer) {{\n",
       "    x.observe(notebookContainer, {childList: true});\n",
       "}}\n",
       "\n",
       "// Listen for the clearing of the current output cell\n",
       "var outputEl = gd.closest('.output');\n",
       "if (outputEl) {{\n",
       "    x.observe(outputEl, {childList: true});\n",
       "}}\n",
       "\n",
       "                        })                };                });            </script>        </div>"
      ]
     },
     "metadata": {},
     "output_type": "display_data"
    }
   ],
   "source": [
    "fig = px.scatter(df, x=\"completions_last\", y=\"completions\",\n",
    "                 hover_data=[\"passer\", \"season\", \"age\"]\n",
    "                )\n",
    "fig.show()"
   ]
  },
  {
   "cell_type": "markdown",
   "id": "a5222cb4",
   "metadata": {},
   "source": [
    "## Passing Attempts"
   ]
  },
  {
   "cell_type": "code",
   "execution_count": 37,
   "id": "3af554e7",
   "metadata": {},
   "outputs": [
    {
     "data": {
      "text/html": [
       "<div>\n",
       "<style scoped>\n",
       "    .dataframe tbody tr th:only-of-type {\n",
       "        vertical-align: middle;\n",
       "    }\n",
       "\n",
       "    .dataframe tbody tr th {\n",
       "        vertical-align: top;\n",
       "    }\n",
       "\n",
       "    .dataframe thead th {\n",
       "        text-align: right;\n",
       "    }\n",
       "</style>\n",
       "<table border=\"1\" class=\"dataframe\">\n",
       "  <thead>\n",
       "    <tr style=\"text-align: right;\">\n",
       "      <th></th>\n",
       "      <th>passing_attempts</th>\n",
       "      <th>passing_attempts_last</th>\n",
       "    </tr>\n",
       "  </thead>\n",
       "  <tbody>\n",
       "    <tr>\n",
       "      <th>passing_attempts</th>\n",
       "      <td>1.00000</td>\n",
       "      <td>0.57131</td>\n",
       "    </tr>\n",
       "    <tr>\n",
       "      <th>passing_attempts_last</th>\n",
       "      <td>0.57131</td>\n",
       "      <td>1.00000</td>\n",
       "    </tr>\n",
       "  </tbody>\n",
       "</table>\n",
       "</div>"
      ],
      "text/plain": [
       "                       passing_attempts  passing_attempts_last\n",
       "passing_attempts                1.00000                0.57131\n",
       "passing_attempts_last           0.57131                1.00000"
      ]
     },
     "execution_count": 37,
     "metadata": {},
     "output_type": "execute_result"
    }
   ],
   "source": [
    "df[[\"passing_attempts\", \"passing_attempts_last\"]].corr()"
   ]
  },
  {
   "cell_type": "code",
   "execution_count": 38,
   "id": "606af33f",
   "metadata": {},
   "outputs": [
    {
     "data": {
      "application/vnd.plotly.v1+json": {
       "config": {
        "plotlyServerURL": "https://plot.ly"
       },
       "data": [
        {
         "customdata": [
          [
           "P.Manning",
           2013,
           37
          ],
          [
           "P.Manning",
           2014,
           38
          ],
          [
           "T.Brady",
           2013,
           36
          ],
          [
           "T.Brady",
           2014,
           37
          ],
          [
           "T.Brady",
           2015,
           38
          ],
          [
           "T.Brady",
           2016,
           39
          ],
          [
           "T.Brady",
           2017,
           40
          ],
          [
           "T.Brady",
           2018,
           41
          ],
          [
           "T.Brady",
           2019,
           42
          ],
          [
           "T.Brady",
           2020,
           43
          ],
          [
           "T.Brady",
           2021,
           44
          ],
          [
           "T.Brady",
           2022,
           45
          ],
          [
           "D.Brees",
           2013,
           34
          ],
          [
           "D.Brees",
           2014,
           35
          ],
          [
           "D.Brees",
           2015,
           36
          ],
          [
           "D.Brees",
           2016,
           37
          ],
          [
           "D.Brees",
           2017,
           38
          ],
          [
           "D.Brees",
           2018,
           39
          ],
          [
           "C.Palmer",
           2013,
           33
          ],
          [
           "C.Palmer",
           2016,
           36
          ],
          [
           "T.Romo",
           2013,
           33
          ],
          [
           "T.Romo",
           2014,
           34
          ],
          [
           "E.Manning",
           2013,
           32
          ],
          [
           "E.Manning",
           2014,
           33
          ],
          [
           "E.Manning",
           2015,
           34
          ],
          [
           "E.Manning",
           2016,
           35
          ],
          [
           "E.Manning",
           2017,
           36
          ],
          [
           "E.Manning",
           2018,
           37
          ],
          [
           "B.Roethlisberger",
           2013,
           31
          ],
          [
           "B.Roethlisberger",
           2014,
           32
          ],
          [
           "B.Roethlisberger",
           2015,
           33
          ],
          [
           "B.Roethlisberger",
           2016,
           34
          ],
          [
           "B.Roethlisberger",
           2017,
           35
          ],
          [
           "B.Roethlisberger",
           2018,
           36
          ],
          [
           "B.Roethlisberger",
           2021,
           39
          ],
          [
           "P.Rivers",
           2013,
           31
          ],
          [
           "P.Rivers",
           2014,
           32
          ],
          [
           "P.Rivers",
           2015,
           33
          ],
          [
           "P.Rivers",
           2016,
           34
          ],
          [
           "P.Rivers",
           2017,
           35
          ],
          [
           "P.Rivers",
           2018,
           36
          ],
          [
           "P.Rivers",
           2019,
           37
          ],
          [
           "P.Rivers",
           2020,
           38
          ],
          [
           "A.Smith",
           2014,
           30
          ],
          [
           "A.Smith",
           2015,
           31
          ],
          [
           "A.Smith",
           2016,
           32
          ],
          [
           "A.Smith",
           2017,
           33
          ],
          [
           "A.Rodgers",
           2015,
           31
          ],
          [
           "A.Rodgers",
           2016,
           32
          ],
          [
           "A.Rodgers",
           2019,
           35
          ],
          [
           "A.Rodgers",
           2020,
           36
          ],
          [
           "A.Rodgers",
           2021,
           37
          ],
          [
           "A.Rodgers",
           2022,
           38
          ],
          [
           "R.Fitzpatrick",
           2015,
           32
          ],
          [
           "R.Fitzpatrick",
           2016,
           33
          ],
          [
           "J.Cutler",
           2015,
           32
          ],
          [
           "M.Ryan",
           2013,
           28
          ],
          [
           "M.Ryan",
           2014,
           29
          ],
          [
           "M.Ryan",
           2015,
           30
          ],
          [
           "M.Ryan",
           2016,
           31
          ],
          [
           "M.Ryan",
           2017,
           32
          ],
          [
           "M.Ryan",
           2018,
           33
          ],
          [
           "M.Ryan",
           2019,
           34
          ],
          [
           "M.Ryan",
           2020,
           35
          ],
          [
           "M.Ryan",
           2021,
           36
          ],
          [
           "M.Ryan",
           2022,
           37
          ],
          [
           "J.Flacco",
           2013,
           28
          ],
          [
           "J.Flacco",
           2014,
           29
          ],
          [
           "J.Flacco",
           2017,
           32
          ],
          [
           "M.Stafford",
           2013,
           25
          ],
          [
           "M.Stafford",
           2014,
           26
          ],
          [
           "M.Stafford",
           2015,
           27
          ],
          [
           "M.Stafford",
           2016,
           28
          ],
          [
           "M.Stafford",
           2017,
           29
          ],
          [
           "M.Stafford",
           2018,
           30
          ],
          [
           "M.Stafford",
           2021,
           33
          ],
          [
           "S.Bradford",
           2016,
           28
          ],
          [
           "C.Newton",
           2013,
           24
          ],
          [
           "C.Newton",
           2014,
           25
          ],
          [
           "C.Newton",
           2015,
           26
          ],
          [
           "C.Newton",
           2016,
           27
          ],
          [
           "C.Newton",
           2017,
           28
          ],
          [
           "C.Newton",
           2018,
           29
          ],
          [
           "A.Dalton",
           2013,
           25
          ],
          [
           "A.Dalton",
           2014,
           26
          ],
          [
           "A.Dalton",
           2015,
           27
          ],
          [
           "A.Dalton",
           2016,
           28
          ],
          [
           "A.Dalton",
           2017,
           29
          ],
          [
           "C.Kaepernick",
           2013,
           25
          ],
          [
           "C.Kaepernick",
           2014,
           26
          ],
          [
           "T.Taylor",
           2016,
           27
          ],
          [
           "T.Taylor",
           2017,
           28
          ],
          [
           "C.Keenum",
           2018,
           30
          ],
          [
           "R.Wilson",
           2013,
           24
          ],
          [
           "R.Wilson",
           2014,
           25
          ],
          [
           "R.Wilson",
           2015,
           26
          ],
          [
           "R.Wilson",
           2016,
           27
          ],
          [
           "R.Wilson",
           2017,
           28
          ],
          [
           "R.Wilson",
           2018,
           29
          ],
          [
           "R.Wilson",
           2019,
           30
          ],
          [
           "R.Wilson",
           2020,
           31
          ],
          [
           "R.Wilson",
           2021,
           32
          ],
          [
           "R.Wilson",
           2022,
           33
          ],
          [
           "K.Cousins",
           2016,
           28
          ],
          [
           "K.Cousins",
           2017,
           29
          ],
          [
           "K.Cousins",
           2018,
           30
          ],
          [
           "K.Cousins",
           2019,
           31
          ],
          [
           "K.Cousins",
           2020,
           32
          ],
          [
           "K.Cousins",
           2021,
           33
          ],
          [
           "K.Cousins",
           2022,
           34
          ],
          [
           "R.Griffin III",
           2013,
           23
          ],
          [
           "A.Luck",
           2013,
           23
          ],
          [
           "A.Luck",
           2014,
           24
          ],
          [
           "R.Tannehill",
           2013,
           25
          ],
          [
           "R.Tannehill",
           2014,
           26
          ],
          [
           "R.Tannehill",
           2015,
           27
          ],
          [
           "R.Tannehill",
           2016,
           28
          ],
          [
           "R.Tannehill",
           2020,
           32
          ],
          [
           "R.Tannehill",
           2021,
           33
          ],
          [
           "R.Tannehill",
           2022,
           34
          ],
          [
           "G.Smith",
           2014,
           23
          ],
          [
           "T.Bridgewater",
           2015,
           22
          ],
          [
           "T.Bridgewater",
           2021,
           28
          ],
          [
           "D.Carr",
           2015,
           24
          ],
          [
           "D.Carr",
           2016,
           25
          ],
          [
           "D.Carr",
           2017,
           26
          ],
          [
           "D.Carr",
           2018,
           27
          ],
          [
           "D.Carr",
           2019,
           28
          ],
          [
           "D.Carr",
           2020,
           29
          ],
          [
           "D.Carr",
           2021,
           30
          ],
          [
           "D.Carr",
           2022,
           31
          ],
          [
           "B.Bortles",
           2015,
           23
          ],
          [
           "B.Bortles",
           2016,
           24
          ],
          [
           "B.Bortles",
           2017,
           25
          ],
          [
           "B.Bortles",
           2018,
           26
          ],
          [
           "J.Winston",
           2016,
           22
          ],
          [
           "J.Winston",
           2017,
           23
          ],
          [
           "M.Mariota",
           2016,
           22
          ],
          [
           "M.Mariota",
           2017,
           23
          ],
          [
           "M.Mariota",
           2018,
           24
          ],
          [
           "C.Wentz",
           2017,
           24
          ],
          [
           "C.Wentz",
           2020,
           27
          ],
          [
           "C.Wentz",
           2021,
           28
          ],
          [
           "D.Prescott",
           2017,
           24
          ],
          [
           "D.Prescott",
           2018,
           25
          ],
          [
           "D.Prescott",
           2019,
           26
          ],
          [
           "D.Prescott",
           2022,
           29
          ],
          [
           "J.Goff",
           2018,
           23
          ],
          [
           "J.Goff",
           2019,
           24
          ],
          [
           "J.Goff",
           2020,
           25
          ],
          [
           "J.Goff",
           2021,
           26
          ],
          [
           "J.Goff",
           2022,
           27
          ],
          [
           "D.Watson",
           2019,
           23
          ],
          [
           "D.Watson",
           2020,
           24
          ],
          [
           "M.Trubisky",
           2018,
           24
          ],
          [
           "M.Trubisky",
           2019,
           25
          ],
          [
           "P.Mahomes",
           2019,
           23
          ],
          [
           "P.Mahomes",
           2020,
           24
          ],
          [
           "P.Mahomes",
           2021,
           25
          ],
          [
           "P.Mahomes",
           2022,
           26
          ],
          [
           "L.Jackson",
           2019,
           22
          ],
          [
           "L.Jackson",
           2020,
           23
          ],
          [
           "L.Jackson",
           2021,
           24
          ],
          [
           "L.Jackson",
           2022,
           25
          ],
          [
           "B.Mayfield",
           2019,
           24
          ],
          [
           "B.Mayfield",
           2020,
           25
          ],
          [
           "B.Mayfield",
           2021,
           26
          ],
          [
           "B.Mayfield",
           2022,
           27
          ],
          [
           "J.Allen",
           2019,
           23
          ],
          [
           "J.Allen",
           2020,
           24
          ],
          [
           "J.Allen",
           2021,
           25
          ],
          [
           "J.Allen",
           2022,
           26
          ],
          [
           "S.Darnold",
           2019,
           22
          ],
          [
           "S.Darnold",
           2020,
           23
          ],
          [
           "S.Darnold",
           2021,
           24
          ],
          [
           "K.Murray",
           2020,
           23
          ],
          [
           "K.Murray",
           2021,
           24
          ],
          [
           "D.Jones",
           2020,
           23
          ],
          [
           "T.Tagovailoa",
           2022,
           24
          ],
          [
           "J.Herbert",
           2021,
           23
          ],
          [
           "J.Herbert",
           2022,
           24
          ],
          [
           "J.Hurts",
           2021,
           23
          ],
          [
           "J.Hurts",
           2022,
           24
          ],
          [
           "J.Burrow",
           2022,
           25
          ],
          [
           "D.Mills",
           2022,
           23
          ],
          [
           "J.Fields",
           2022,
           23
          ],
          [
           "T.Lawrence",
           2022,
           22
          ],
          [
           "M.Jones",
           2022,
           23
          ]
         ],
         "hovertemplate": "passing_attempts_last=%{x}<br>passing_attempts=%{y}<br>passer=%{customdata[0]}<br>season=%{customdata[1]}<br>age=%{customdata[2]}<extra></extra>",
         "legendgroup": "",
         "marker": {
          "color": "#636efa",
          "symbol": "circle"
         },
         "mode": "markers",
         "name": "",
         "orientation": "v",
         "showlegend": false,
         "type": "scatter",
         "x": [
          580,
          658,
          634,
          624,
          582,
          622,
          431,
          581,
          568,
          613,
          606,
          717,
          667,
          648,
          653,
          625,
          664,
          533,
          561,
          531,
          645,
          534,
          535,
          551,
          600,
          617,
          598,
          570,
          443,
          578,
          599,
          468,
          506,
          557,
          608,
          525,
          543,
          569,
          659,
          577,
          573,
          508,
          588,
          504,
          464,
          470,
          488,
          520,
          571,
          595,
          568,
          523,
          528,
          311,
          562,
          561,
          614,
          650,
          622,
          614,
          534,
          526,
          607,
          615,
          624,
          559,
          531,
          612,
          665,
          723,
          631,
          597,
          592,
          591,
          565,
          520,
          531,
          483,
          470,
          446,
          493,
          507,
          490,
          525,
          585,
          481,
          386,
          561,
          218,
          416,
          379,
          435,
          481,
          393,
          405,
          451,
          481,
          544,
          549,
          419,
          513,
          557,
          400,
          543,
          603,
          539,
          603,
          444,
          513,
          556,
          391,
          619,
          570,
          482,
          583,
          589,
          584,
          283,
          481,
          530,
          442,
          397,
          490,
          593,
          572,
          558,
          514,
          546,
          511,
          513,
          623,
          474,
          603,
          625,
          522,
          533,
          567,
          367,
          448,
          452,
          605,
          605,
          436,
          457,
          488,
          526,
          596,
          475,
          559,
          625,
          550,
          489,
          499,
          493,
          329,
          433,
          579,
          484,
          587,
          658,
          170,
          399,
          373,
          378,
          483,
          532,
          481,
          416,
          320,
          458,
          572,
          646,
          413,
          439,
          361,
          538,
          550,
          459,
          387,
          591,
          671,
          147,
          430,
          518,
          392,
          268,
          598,
          520
         ],
         "xaxis": "x",
         "y": [
          658,
          595,
          624,
          582,
          622,
          431,
          581,
          568,
          613,
          606,
          717,
          730,
          648,
          653,
          625,
          664,
          533,
          489,
          571,
          595,
          534,
          434,
          551,
          600,
          617,
          598,
          570,
          575,
          578,
          599,
          468,
          506,
          557,
          672,
          603,
          543,
          569,
          659,
          577,
          573,
          508,
          588,
          540,
          464,
          470,
          488,
          504,
          571,
          608,
          568,
          523,
          528,
          540,
          562,
          403,
          482,
          650,
          622,
          614,
          534,
          526,
          607,
          615,
          624,
          559,
          460,
          612,
          548,
          546,
          631,
          597,
          592,
          591,
          565,
          554,
          601,
          551,
          470,
          446,
          493,
          507,
          490,
          468,
          585,
          481,
          386,
          561,
          495,
          416,
          478,
          435,
          420,
          584,
          405,
          451,
          481,
          544,
          549,
          419,
          513,
          557,
          400,
          482,
          603,
          539,
          603,
          444,
          513,
          556,
          639,
          453,
          570,
          616,
          583,
          589,
          584,
          387,
          481,
          530,
          324,
          366,
          447,
          426,
          572,
          558,
          514,
          546,
          511,
          513,
          623,
          502,
          603,
          625,
          522,
          403,
          567,
          439,
          448,
          452,
          331,
          440,
          436,
          516,
          488,
          526,
          595,
          394,
          559,
          625,
          550,
          489,
          586,
          493,
          542,
          433,
          513,
          484,
          587,
          658,
          648,
          399,
          373,
          378,
          325,
          532,
          481,
          416,
          334,
          458,
          572,
          646,
          566,
          439,
          361,
          405,
          550,
          481,
          446,
          399,
          671,
          697,
          430,
          460,
          605,
          478,
          318,
          582,
          440
         ],
         "yaxis": "y"
        }
       ],
       "layout": {
        "legend": {
         "tracegroupgap": 0
        },
        "margin": {
         "t": 60
        },
        "template": {
         "data": {
          "bar": [
           {
            "error_x": {
             "color": "#2a3f5f"
            },
            "error_y": {
             "color": "#2a3f5f"
            },
            "marker": {
             "line": {
              "color": "#E5ECF6",
              "width": 0.5
             },
             "pattern": {
              "fillmode": "overlay",
              "size": 10,
              "solidity": 0.2
             }
            },
            "type": "bar"
           }
          ],
          "barpolar": [
           {
            "marker": {
             "line": {
              "color": "#E5ECF6",
              "width": 0.5
             },
             "pattern": {
              "fillmode": "overlay",
              "size": 10,
              "solidity": 0.2
             }
            },
            "type": "barpolar"
           }
          ],
          "carpet": [
           {
            "aaxis": {
             "endlinecolor": "#2a3f5f",
             "gridcolor": "white",
             "linecolor": "white",
             "minorgridcolor": "white",
             "startlinecolor": "#2a3f5f"
            },
            "baxis": {
             "endlinecolor": "#2a3f5f",
             "gridcolor": "white",
             "linecolor": "white",
             "minorgridcolor": "white",
             "startlinecolor": "#2a3f5f"
            },
            "type": "carpet"
           }
          ],
          "choropleth": [
           {
            "colorbar": {
             "outlinewidth": 0,
             "ticks": ""
            },
            "type": "choropleth"
           }
          ],
          "contour": [
           {
            "colorbar": {
             "outlinewidth": 0,
             "ticks": ""
            },
            "colorscale": [
             [
              0,
              "#0d0887"
             ],
             [
              0.1111111111111111,
              "#46039f"
             ],
             [
              0.2222222222222222,
              "#7201a8"
             ],
             [
              0.3333333333333333,
              "#9c179e"
             ],
             [
              0.4444444444444444,
              "#bd3786"
             ],
             [
              0.5555555555555556,
              "#d8576b"
             ],
             [
              0.6666666666666666,
              "#ed7953"
             ],
             [
              0.7777777777777778,
              "#fb9f3a"
             ],
             [
              0.8888888888888888,
              "#fdca26"
             ],
             [
              1,
              "#f0f921"
             ]
            ],
            "type": "contour"
           }
          ],
          "contourcarpet": [
           {
            "colorbar": {
             "outlinewidth": 0,
             "ticks": ""
            },
            "type": "contourcarpet"
           }
          ],
          "heatmap": [
           {
            "colorbar": {
             "outlinewidth": 0,
             "ticks": ""
            },
            "colorscale": [
             [
              0,
              "#0d0887"
             ],
             [
              0.1111111111111111,
              "#46039f"
             ],
             [
              0.2222222222222222,
              "#7201a8"
             ],
             [
              0.3333333333333333,
              "#9c179e"
             ],
             [
              0.4444444444444444,
              "#bd3786"
             ],
             [
              0.5555555555555556,
              "#d8576b"
             ],
             [
              0.6666666666666666,
              "#ed7953"
             ],
             [
              0.7777777777777778,
              "#fb9f3a"
             ],
             [
              0.8888888888888888,
              "#fdca26"
             ],
             [
              1,
              "#f0f921"
             ]
            ],
            "type": "heatmap"
           }
          ],
          "heatmapgl": [
           {
            "colorbar": {
             "outlinewidth": 0,
             "ticks": ""
            },
            "colorscale": [
             [
              0,
              "#0d0887"
             ],
             [
              0.1111111111111111,
              "#46039f"
             ],
             [
              0.2222222222222222,
              "#7201a8"
             ],
             [
              0.3333333333333333,
              "#9c179e"
             ],
             [
              0.4444444444444444,
              "#bd3786"
             ],
             [
              0.5555555555555556,
              "#d8576b"
             ],
             [
              0.6666666666666666,
              "#ed7953"
             ],
             [
              0.7777777777777778,
              "#fb9f3a"
             ],
             [
              0.8888888888888888,
              "#fdca26"
             ],
             [
              1,
              "#f0f921"
             ]
            ],
            "type": "heatmapgl"
           }
          ],
          "histogram": [
           {
            "marker": {
             "pattern": {
              "fillmode": "overlay",
              "size": 10,
              "solidity": 0.2
             }
            },
            "type": "histogram"
           }
          ],
          "histogram2d": [
           {
            "colorbar": {
             "outlinewidth": 0,
             "ticks": ""
            },
            "colorscale": [
             [
              0,
              "#0d0887"
             ],
             [
              0.1111111111111111,
              "#46039f"
             ],
             [
              0.2222222222222222,
              "#7201a8"
             ],
             [
              0.3333333333333333,
              "#9c179e"
             ],
             [
              0.4444444444444444,
              "#bd3786"
             ],
             [
              0.5555555555555556,
              "#d8576b"
             ],
             [
              0.6666666666666666,
              "#ed7953"
             ],
             [
              0.7777777777777778,
              "#fb9f3a"
             ],
             [
              0.8888888888888888,
              "#fdca26"
             ],
             [
              1,
              "#f0f921"
             ]
            ],
            "type": "histogram2d"
           }
          ],
          "histogram2dcontour": [
           {
            "colorbar": {
             "outlinewidth": 0,
             "ticks": ""
            },
            "colorscale": [
             [
              0,
              "#0d0887"
             ],
             [
              0.1111111111111111,
              "#46039f"
             ],
             [
              0.2222222222222222,
              "#7201a8"
             ],
             [
              0.3333333333333333,
              "#9c179e"
             ],
             [
              0.4444444444444444,
              "#bd3786"
             ],
             [
              0.5555555555555556,
              "#d8576b"
             ],
             [
              0.6666666666666666,
              "#ed7953"
             ],
             [
              0.7777777777777778,
              "#fb9f3a"
             ],
             [
              0.8888888888888888,
              "#fdca26"
             ],
             [
              1,
              "#f0f921"
             ]
            ],
            "type": "histogram2dcontour"
           }
          ],
          "mesh3d": [
           {
            "colorbar": {
             "outlinewidth": 0,
             "ticks": ""
            },
            "type": "mesh3d"
           }
          ],
          "parcoords": [
           {
            "line": {
             "colorbar": {
              "outlinewidth": 0,
              "ticks": ""
             }
            },
            "type": "parcoords"
           }
          ],
          "pie": [
           {
            "automargin": true,
            "type": "pie"
           }
          ],
          "scatter": [
           {
            "fillpattern": {
             "fillmode": "overlay",
             "size": 10,
             "solidity": 0.2
            },
            "type": "scatter"
           }
          ],
          "scatter3d": [
           {
            "line": {
             "colorbar": {
              "outlinewidth": 0,
              "ticks": ""
             }
            },
            "marker": {
             "colorbar": {
              "outlinewidth": 0,
              "ticks": ""
             }
            },
            "type": "scatter3d"
           }
          ],
          "scattercarpet": [
           {
            "marker": {
             "colorbar": {
              "outlinewidth": 0,
              "ticks": ""
             }
            },
            "type": "scattercarpet"
           }
          ],
          "scattergeo": [
           {
            "marker": {
             "colorbar": {
              "outlinewidth": 0,
              "ticks": ""
             }
            },
            "type": "scattergeo"
           }
          ],
          "scattergl": [
           {
            "marker": {
             "colorbar": {
              "outlinewidth": 0,
              "ticks": ""
             }
            },
            "type": "scattergl"
           }
          ],
          "scattermapbox": [
           {
            "marker": {
             "colorbar": {
              "outlinewidth": 0,
              "ticks": ""
             }
            },
            "type": "scattermapbox"
           }
          ],
          "scatterpolar": [
           {
            "marker": {
             "colorbar": {
              "outlinewidth": 0,
              "ticks": ""
             }
            },
            "type": "scatterpolar"
           }
          ],
          "scatterpolargl": [
           {
            "marker": {
             "colorbar": {
              "outlinewidth": 0,
              "ticks": ""
             }
            },
            "type": "scatterpolargl"
           }
          ],
          "scatterternary": [
           {
            "marker": {
             "colorbar": {
              "outlinewidth": 0,
              "ticks": ""
             }
            },
            "type": "scatterternary"
           }
          ],
          "surface": [
           {
            "colorbar": {
             "outlinewidth": 0,
             "ticks": ""
            },
            "colorscale": [
             [
              0,
              "#0d0887"
             ],
             [
              0.1111111111111111,
              "#46039f"
             ],
             [
              0.2222222222222222,
              "#7201a8"
             ],
             [
              0.3333333333333333,
              "#9c179e"
             ],
             [
              0.4444444444444444,
              "#bd3786"
             ],
             [
              0.5555555555555556,
              "#d8576b"
             ],
             [
              0.6666666666666666,
              "#ed7953"
             ],
             [
              0.7777777777777778,
              "#fb9f3a"
             ],
             [
              0.8888888888888888,
              "#fdca26"
             ],
             [
              1,
              "#f0f921"
             ]
            ],
            "type": "surface"
           }
          ],
          "table": [
           {
            "cells": {
             "fill": {
              "color": "#EBF0F8"
             },
             "line": {
              "color": "white"
             }
            },
            "header": {
             "fill": {
              "color": "#C8D4E3"
             },
             "line": {
              "color": "white"
             }
            },
            "type": "table"
           }
          ]
         },
         "layout": {
          "annotationdefaults": {
           "arrowcolor": "#2a3f5f",
           "arrowhead": 0,
           "arrowwidth": 1
          },
          "autotypenumbers": "strict",
          "coloraxis": {
           "colorbar": {
            "outlinewidth": 0,
            "ticks": ""
           }
          },
          "colorscale": {
           "diverging": [
            [
             0,
             "#8e0152"
            ],
            [
             0.1,
             "#c51b7d"
            ],
            [
             0.2,
             "#de77ae"
            ],
            [
             0.3,
             "#f1b6da"
            ],
            [
             0.4,
             "#fde0ef"
            ],
            [
             0.5,
             "#f7f7f7"
            ],
            [
             0.6,
             "#e6f5d0"
            ],
            [
             0.7,
             "#b8e186"
            ],
            [
             0.8,
             "#7fbc41"
            ],
            [
             0.9,
             "#4d9221"
            ],
            [
             1,
             "#276419"
            ]
           ],
           "sequential": [
            [
             0,
             "#0d0887"
            ],
            [
             0.1111111111111111,
             "#46039f"
            ],
            [
             0.2222222222222222,
             "#7201a8"
            ],
            [
             0.3333333333333333,
             "#9c179e"
            ],
            [
             0.4444444444444444,
             "#bd3786"
            ],
            [
             0.5555555555555556,
             "#d8576b"
            ],
            [
             0.6666666666666666,
             "#ed7953"
            ],
            [
             0.7777777777777778,
             "#fb9f3a"
            ],
            [
             0.8888888888888888,
             "#fdca26"
            ],
            [
             1,
             "#f0f921"
            ]
           ],
           "sequentialminus": [
            [
             0,
             "#0d0887"
            ],
            [
             0.1111111111111111,
             "#46039f"
            ],
            [
             0.2222222222222222,
             "#7201a8"
            ],
            [
             0.3333333333333333,
             "#9c179e"
            ],
            [
             0.4444444444444444,
             "#bd3786"
            ],
            [
             0.5555555555555556,
             "#d8576b"
            ],
            [
             0.6666666666666666,
             "#ed7953"
            ],
            [
             0.7777777777777778,
             "#fb9f3a"
            ],
            [
             0.8888888888888888,
             "#fdca26"
            ],
            [
             1,
             "#f0f921"
            ]
           ]
          },
          "colorway": [
           "#636efa",
           "#EF553B",
           "#00cc96",
           "#ab63fa",
           "#FFA15A",
           "#19d3f3",
           "#FF6692",
           "#B6E880",
           "#FF97FF",
           "#FECB52"
          ],
          "font": {
           "color": "#2a3f5f"
          },
          "geo": {
           "bgcolor": "white",
           "lakecolor": "white",
           "landcolor": "#E5ECF6",
           "showlakes": true,
           "showland": true,
           "subunitcolor": "white"
          },
          "hoverlabel": {
           "align": "left"
          },
          "hovermode": "closest",
          "mapbox": {
           "style": "light"
          },
          "paper_bgcolor": "white",
          "plot_bgcolor": "#E5ECF6",
          "polar": {
           "angularaxis": {
            "gridcolor": "white",
            "linecolor": "white",
            "ticks": ""
           },
           "bgcolor": "#E5ECF6",
           "radialaxis": {
            "gridcolor": "white",
            "linecolor": "white",
            "ticks": ""
           }
          },
          "scene": {
           "xaxis": {
            "backgroundcolor": "#E5ECF6",
            "gridcolor": "white",
            "gridwidth": 2,
            "linecolor": "white",
            "showbackground": true,
            "ticks": "",
            "zerolinecolor": "white"
           },
           "yaxis": {
            "backgroundcolor": "#E5ECF6",
            "gridcolor": "white",
            "gridwidth": 2,
            "linecolor": "white",
            "showbackground": true,
            "ticks": "",
            "zerolinecolor": "white"
           },
           "zaxis": {
            "backgroundcolor": "#E5ECF6",
            "gridcolor": "white",
            "gridwidth": 2,
            "linecolor": "white",
            "showbackground": true,
            "ticks": "",
            "zerolinecolor": "white"
           }
          },
          "shapedefaults": {
           "line": {
            "color": "#2a3f5f"
           }
          },
          "ternary": {
           "aaxis": {
            "gridcolor": "white",
            "linecolor": "white",
            "ticks": ""
           },
           "baxis": {
            "gridcolor": "white",
            "linecolor": "white",
            "ticks": ""
           },
           "bgcolor": "#E5ECF6",
           "caxis": {
            "gridcolor": "white",
            "linecolor": "white",
            "ticks": ""
           }
          },
          "title": {
           "x": 0.05
          },
          "xaxis": {
           "automargin": true,
           "gridcolor": "white",
           "linecolor": "white",
           "ticks": "",
           "title": {
            "standoff": 15
           },
           "zerolinecolor": "white",
           "zerolinewidth": 2
          },
          "yaxis": {
           "automargin": true,
           "gridcolor": "white",
           "linecolor": "white",
           "ticks": "",
           "title": {
            "standoff": 15
           },
           "zerolinecolor": "white",
           "zerolinewidth": 2
          }
         }
        },
        "xaxis": {
         "anchor": "y",
         "domain": [
          0,
          1
         ],
         "title": {
          "text": "passing_attempts_last"
         }
        },
        "yaxis": {
         "anchor": "x",
         "domain": [
          0,
          1
         ],
         "title": {
          "text": "passing_attempts"
         }
        }
       }
      },
      "text/html": [
       "<div>                            <div id=\"aeab639f-72a4-4c30-b6b8-53c9a19cf549\" class=\"plotly-graph-div\" style=\"height:525px; width:100%;\"></div>            <script type=\"text/javascript\">                require([\"plotly\"], function(Plotly) {                    window.PLOTLYENV=window.PLOTLYENV || {};                                    if (document.getElementById(\"aeab639f-72a4-4c30-b6b8-53c9a19cf549\")) {                    Plotly.newPlot(                        \"aeab639f-72a4-4c30-b6b8-53c9a19cf549\",                        [{\"customdata\":[[\"P.Manning\",2013,37.0],[\"P.Manning\",2014,38.0],[\"T.Brady\",2013,36.0],[\"T.Brady\",2014,37.0],[\"T.Brady\",2015,38.0],[\"T.Brady\",2016,39.0],[\"T.Brady\",2017,40.0],[\"T.Brady\",2018,41.0],[\"T.Brady\",2019,42.0],[\"T.Brady\",2020,43.0],[\"T.Brady\",2021,44.0],[\"T.Brady\",2022,45.0],[\"D.Brees\",2013,34.0],[\"D.Brees\",2014,35.0],[\"D.Brees\",2015,36.0],[\"D.Brees\",2016,37.0],[\"D.Brees\",2017,38.0],[\"D.Brees\",2018,39.0],[\"C.Palmer\",2013,33.0],[\"C.Palmer\",2016,36.0],[\"T.Romo\",2013,33.0],[\"T.Romo\",2014,34.0],[\"E.Manning\",2013,32.0],[\"E.Manning\",2014,33.0],[\"E.Manning\",2015,34.0],[\"E.Manning\",2016,35.0],[\"E.Manning\",2017,36.0],[\"E.Manning\",2018,37.0],[\"B.Roethlisberger\",2013,31.0],[\"B.Roethlisberger\",2014,32.0],[\"B.Roethlisberger\",2015,33.0],[\"B.Roethlisberger\",2016,34.0],[\"B.Roethlisberger\",2017,35.0],[\"B.Roethlisberger\",2018,36.0],[\"B.Roethlisberger\",2021,39.0],[\"P.Rivers\",2013,31.0],[\"P.Rivers\",2014,32.0],[\"P.Rivers\",2015,33.0],[\"P.Rivers\",2016,34.0],[\"P.Rivers\",2017,35.0],[\"P.Rivers\",2018,36.0],[\"P.Rivers\",2019,37.0],[\"P.Rivers\",2020,38.0],[\"A.Smith\",2014,30.0],[\"A.Smith\",2015,31.0],[\"A.Smith\",2016,32.0],[\"A.Smith\",2017,33.0],[\"A.Rodgers\",2015,31.0],[\"A.Rodgers\",2016,32.0],[\"A.Rodgers\",2019,35.0],[\"A.Rodgers\",2020,36.0],[\"A.Rodgers\",2021,37.0],[\"A.Rodgers\",2022,38.0],[\"R.Fitzpatrick\",2015,32.0],[\"R.Fitzpatrick\",2016,33.0],[\"J.Cutler\",2015,32.0],[\"M.Ryan\",2013,28.0],[\"M.Ryan\",2014,29.0],[\"M.Ryan\",2015,30.0],[\"M.Ryan\",2016,31.0],[\"M.Ryan\",2017,32.0],[\"M.Ryan\",2018,33.0],[\"M.Ryan\",2019,34.0],[\"M.Ryan\",2020,35.0],[\"M.Ryan\",2021,36.0],[\"M.Ryan\",2022,37.0],[\"J.Flacco\",2013,28.0],[\"J.Flacco\",2014,29.0],[\"J.Flacco\",2017,32.0],[\"M.Stafford\",2013,25.0],[\"M.Stafford\",2014,26.0],[\"M.Stafford\",2015,27.0],[\"M.Stafford\",2016,28.0],[\"M.Stafford\",2017,29.0],[\"M.Stafford\",2018,30.0],[\"M.Stafford\",2021,33.0],[\"S.Bradford\",2016,28.0],[\"C.Newton\",2013,24.0],[\"C.Newton\",2014,25.0],[\"C.Newton\",2015,26.0],[\"C.Newton\",2016,27.0],[\"C.Newton\",2017,28.0],[\"C.Newton\",2018,29.0],[\"A.Dalton\",2013,25.0],[\"A.Dalton\",2014,26.0],[\"A.Dalton\",2015,27.0],[\"A.Dalton\",2016,28.0],[\"A.Dalton\",2017,29.0],[\"C.Kaepernick\",2013,25.0],[\"C.Kaepernick\",2014,26.0],[\"T.Taylor\",2016,27.0],[\"T.Taylor\",2017,28.0],[\"C.Keenum\",2018,30.0],[\"R.Wilson\",2013,24.0],[\"R.Wilson\",2014,25.0],[\"R.Wilson\",2015,26.0],[\"R.Wilson\",2016,27.0],[\"R.Wilson\",2017,28.0],[\"R.Wilson\",2018,29.0],[\"R.Wilson\",2019,30.0],[\"R.Wilson\",2020,31.0],[\"R.Wilson\",2021,32.0],[\"R.Wilson\",2022,33.0],[\"K.Cousins\",2016,28.0],[\"K.Cousins\",2017,29.0],[\"K.Cousins\",2018,30.0],[\"K.Cousins\",2019,31.0],[\"K.Cousins\",2020,32.0],[\"K.Cousins\",2021,33.0],[\"K.Cousins\",2022,34.0],[\"R.Griffin III\",2013,23.0],[\"A.Luck\",2013,23.0],[\"A.Luck\",2014,24.0],[\"R.Tannehill\",2013,25.0],[\"R.Tannehill\",2014,26.0],[\"R.Tannehill\",2015,27.0],[\"R.Tannehill\",2016,28.0],[\"R.Tannehill\",2020,32.0],[\"R.Tannehill\",2021,33.0],[\"R.Tannehill\",2022,34.0],[\"G.Smith\",2014,23.0],[\"T.Bridgewater\",2015,22.0],[\"T.Bridgewater\",2021,28.0],[\"D.Carr\",2015,24.0],[\"D.Carr\",2016,25.0],[\"D.Carr\",2017,26.0],[\"D.Carr\",2018,27.0],[\"D.Carr\",2019,28.0],[\"D.Carr\",2020,29.0],[\"D.Carr\",2021,30.0],[\"D.Carr\",2022,31.0],[\"B.Bortles\",2015,23.0],[\"B.Bortles\",2016,24.0],[\"B.Bortles\",2017,25.0],[\"B.Bortles\",2018,26.0],[\"J.Winston\",2016,22.0],[\"J.Winston\",2017,23.0],[\"M.Mariota\",2016,22.0],[\"M.Mariota\",2017,23.0],[\"M.Mariota\",2018,24.0],[\"C.Wentz\",2017,24.0],[\"C.Wentz\",2020,27.0],[\"C.Wentz\",2021,28.0],[\"D.Prescott\",2017,24.0],[\"D.Prescott\",2018,25.0],[\"D.Prescott\",2019,26.0],[\"D.Prescott\",2022,29.0],[\"J.Goff\",2018,23.0],[\"J.Goff\",2019,24.0],[\"J.Goff\",2020,25.0],[\"J.Goff\",2021,26.0],[\"J.Goff\",2022,27.0],[\"D.Watson\",2019,23.0],[\"D.Watson\",2020,24.0],[\"M.Trubisky\",2018,24.0],[\"M.Trubisky\",2019,25.0],[\"P.Mahomes\",2019,23.0],[\"P.Mahomes\",2020,24.0],[\"P.Mahomes\",2021,25.0],[\"P.Mahomes\",2022,26.0],[\"L.Jackson\",2019,22.0],[\"L.Jackson\",2020,23.0],[\"L.Jackson\",2021,24.0],[\"L.Jackson\",2022,25.0],[\"B.Mayfield\",2019,24.0],[\"B.Mayfield\",2020,25.0],[\"B.Mayfield\",2021,26.0],[\"B.Mayfield\",2022,27.0],[\"J.Allen\",2019,23.0],[\"J.Allen\",2020,24.0],[\"J.Allen\",2021,25.0],[\"J.Allen\",2022,26.0],[\"S.Darnold\",2019,22.0],[\"S.Darnold\",2020,23.0],[\"S.Darnold\",2021,24.0],[\"K.Murray\",2020,23.0],[\"K.Murray\",2021,24.0],[\"D.Jones\",2020,23.0],[\"T.Tagovailoa\",2022,24.0],[\"J.Herbert\",2021,23.0],[\"J.Herbert\",2022,24.0],[\"J.Hurts\",2021,23.0],[\"J.Hurts\",2022,24.0],[\"J.Burrow\",2022,25.0],[\"D.Mills\",2022,23.0],[\"J.Fields\",2022,23.0],[\"T.Lawrence\",2022,22.0],[\"M.Jones\",2022,23.0]],\"hovertemplate\":\"passing_attempts_last=%{x}\\u003cbr\\u003epassing_attempts=%{y}\\u003cbr\\u003epasser=%{customdata[0]}\\u003cbr\\u003eseason=%{customdata[1]}\\u003cbr\\u003eage=%{customdata[2]}\\u003cextra\\u003e\\u003c\\u002fextra\\u003e\",\"legendgroup\":\"\",\"marker\":{\"color\":\"#636efa\",\"symbol\":\"circle\"},\"mode\":\"markers\",\"name\":\"\",\"orientation\":\"v\",\"showlegend\":false,\"x\":[580,658,634,624,582,622,431,581,568,613,606,717,667,648,653,625,664,533,561,531,645,534,535,551,600,617,598,570,443,578,599,468,506,557,608,525,543,569,659,577,573,508,588,504,464,470,488,520,571,595,568,523,528,311,562,561,614,650,622,614,534,526,607,615,624,559,531,612,665,723,631,597,592,591,565,520,531,483,470,446,493,507,490,525,585,481,386,561,218,416,379,435,481,393,405,451,481,544,549,419,513,557,400,543,603,539,603,444,513,556,391,619,570,482,583,589,584,283,481,530,442,397,490,593,572,558,514,546,511,513,623,474,603,625,522,533,567,367,448,452,605,605,436,457,488,526,596,475,559,625,550,489,499,493,329,433,579,484,587,658,170,399,373,378,483,532,481,416,320,458,572,646,413,439,361,538,550,459,387,591,671,147,430,518,392,268,598,520],\"xaxis\":\"x\",\"y\":[658,595,624,582,622,431,581,568,613,606,717,730,648,653,625,664,533,489,571,595,534,434,551,600,617,598,570,575,578,599,468,506,557,672,603,543,569,659,577,573,508,588,540,464,470,488,504,571,608,568,523,528,540,562,403,482,650,622,614,534,526,607,615,624,559,460,612,548,546,631,597,592,591,565,554,601,551,470,446,493,507,490,468,585,481,386,561,495,416,478,435,420,584,405,451,481,544,549,419,513,557,400,482,603,539,603,444,513,556,639,453,570,616,583,589,584,387,481,530,324,366,447,426,572,558,514,546,511,513,623,502,603,625,522,403,567,439,448,452,331,440,436,516,488,526,595,394,559,625,550,489,586,493,542,433,513,484,587,658,648,399,373,378,325,532,481,416,334,458,572,646,566,439,361,405,550,481,446,399,671,697,430,460,605,478,318,582,440],\"yaxis\":\"y\",\"type\":\"scatter\"}],                        {\"template\":{\"data\":{\"histogram2dcontour\":[{\"type\":\"histogram2dcontour\",\"colorbar\":{\"outlinewidth\":0,\"ticks\":\"\"},\"colorscale\":[[0.0,\"#0d0887\"],[0.1111111111111111,\"#46039f\"],[0.2222222222222222,\"#7201a8\"],[0.3333333333333333,\"#9c179e\"],[0.4444444444444444,\"#bd3786\"],[0.5555555555555556,\"#d8576b\"],[0.6666666666666666,\"#ed7953\"],[0.7777777777777778,\"#fb9f3a\"],[0.8888888888888888,\"#fdca26\"],[1.0,\"#f0f921\"]]}],\"choropleth\":[{\"type\":\"choropleth\",\"colorbar\":{\"outlinewidth\":0,\"ticks\":\"\"}}],\"histogram2d\":[{\"type\":\"histogram2d\",\"colorbar\":{\"outlinewidth\":0,\"ticks\":\"\"},\"colorscale\":[[0.0,\"#0d0887\"],[0.1111111111111111,\"#46039f\"],[0.2222222222222222,\"#7201a8\"],[0.3333333333333333,\"#9c179e\"],[0.4444444444444444,\"#bd3786\"],[0.5555555555555556,\"#d8576b\"],[0.6666666666666666,\"#ed7953\"],[0.7777777777777778,\"#fb9f3a\"],[0.8888888888888888,\"#fdca26\"],[1.0,\"#f0f921\"]]}],\"heatmap\":[{\"type\":\"heatmap\",\"colorbar\":{\"outlinewidth\":0,\"ticks\":\"\"},\"colorscale\":[[0.0,\"#0d0887\"],[0.1111111111111111,\"#46039f\"],[0.2222222222222222,\"#7201a8\"],[0.3333333333333333,\"#9c179e\"],[0.4444444444444444,\"#bd3786\"],[0.5555555555555556,\"#d8576b\"],[0.6666666666666666,\"#ed7953\"],[0.7777777777777778,\"#fb9f3a\"],[0.8888888888888888,\"#fdca26\"],[1.0,\"#f0f921\"]]}],\"heatmapgl\":[{\"type\":\"heatmapgl\",\"colorbar\":{\"outlinewidth\":0,\"ticks\":\"\"},\"colorscale\":[[0.0,\"#0d0887\"],[0.1111111111111111,\"#46039f\"],[0.2222222222222222,\"#7201a8\"],[0.3333333333333333,\"#9c179e\"],[0.4444444444444444,\"#bd3786\"],[0.5555555555555556,\"#d8576b\"],[0.6666666666666666,\"#ed7953\"],[0.7777777777777778,\"#fb9f3a\"],[0.8888888888888888,\"#fdca26\"],[1.0,\"#f0f921\"]]}],\"contourcarpet\":[{\"type\":\"contourcarpet\",\"colorbar\":{\"outlinewidth\":0,\"ticks\":\"\"}}],\"contour\":[{\"type\":\"contour\",\"colorbar\":{\"outlinewidth\":0,\"ticks\":\"\"},\"colorscale\":[[0.0,\"#0d0887\"],[0.1111111111111111,\"#46039f\"],[0.2222222222222222,\"#7201a8\"],[0.3333333333333333,\"#9c179e\"],[0.4444444444444444,\"#bd3786\"],[0.5555555555555556,\"#d8576b\"],[0.6666666666666666,\"#ed7953\"],[0.7777777777777778,\"#fb9f3a\"],[0.8888888888888888,\"#fdca26\"],[1.0,\"#f0f921\"]]}],\"surface\":[{\"type\":\"surface\",\"colorbar\":{\"outlinewidth\":0,\"ticks\":\"\"},\"colorscale\":[[0.0,\"#0d0887\"],[0.1111111111111111,\"#46039f\"],[0.2222222222222222,\"#7201a8\"],[0.3333333333333333,\"#9c179e\"],[0.4444444444444444,\"#bd3786\"],[0.5555555555555556,\"#d8576b\"],[0.6666666666666666,\"#ed7953\"],[0.7777777777777778,\"#fb9f3a\"],[0.8888888888888888,\"#fdca26\"],[1.0,\"#f0f921\"]]}],\"mesh3d\":[{\"type\":\"mesh3d\",\"colorbar\":{\"outlinewidth\":0,\"ticks\":\"\"}}],\"scatter\":[{\"fillpattern\":{\"fillmode\":\"overlay\",\"size\":10,\"solidity\":0.2},\"type\":\"scatter\"}],\"parcoords\":[{\"type\":\"parcoords\",\"line\":{\"colorbar\":{\"outlinewidth\":0,\"ticks\":\"\"}}}],\"scatterpolargl\":[{\"type\":\"scatterpolargl\",\"marker\":{\"colorbar\":{\"outlinewidth\":0,\"ticks\":\"\"}}}],\"bar\":[{\"error_x\":{\"color\":\"#2a3f5f\"},\"error_y\":{\"color\":\"#2a3f5f\"},\"marker\":{\"line\":{\"color\":\"#E5ECF6\",\"width\":0.5},\"pattern\":{\"fillmode\":\"overlay\",\"size\":10,\"solidity\":0.2}},\"type\":\"bar\"}],\"scattergeo\":[{\"type\":\"scattergeo\",\"marker\":{\"colorbar\":{\"outlinewidth\":0,\"ticks\":\"\"}}}],\"scatterpolar\":[{\"type\":\"scatterpolar\",\"marker\":{\"colorbar\":{\"outlinewidth\":0,\"ticks\":\"\"}}}],\"histogram\":[{\"marker\":{\"pattern\":{\"fillmode\":\"overlay\",\"size\":10,\"solidity\":0.2}},\"type\":\"histogram\"}],\"scattergl\":[{\"type\":\"scattergl\",\"marker\":{\"colorbar\":{\"outlinewidth\":0,\"ticks\":\"\"}}}],\"scatter3d\":[{\"type\":\"scatter3d\",\"line\":{\"colorbar\":{\"outlinewidth\":0,\"ticks\":\"\"}},\"marker\":{\"colorbar\":{\"outlinewidth\":0,\"ticks\":\"\"}}}],\"scattermapbox\":[{\"type\":\"scattermapbox\",\"marker\":{\"colorbar\":{\"outlinewidth\":0,\"ticks\":\"\"}}}],\"scatterternary\":[{\"type\":\"scatterternary\",\"marker\":{\"colorbar\":{\"outlinewidth\":0,\"ticks\":\"\"}}}],\"scattercarpet\":[{\"type\":\"scattercarpet\",\"marker\":{\"colorbar\":{\"outlinewidth\":0,\"ticks\":\"\"}}}],\"carpet\":[{\"aaxis\":{\"endlinecolor\":\"#2a3f5f\",\"gridcolor\":\"white\",\"linecolor\":\"white\",\"minorgridcolor\":\"white\",\"startlinecolor\":\"#2a3f5f\"},\"baxis\":{\"endlinecolor\":\"#2a3f5f\",\"gridcolor\":\"white\",\"linecolor\":\"white\",\"minorgridcolor\":\"white\",\"startlinecolor\":\"#2a3f5f\"},\"type\":\"carpet\"}],\"table\":[{\"cells\":{\"fill\":{\"color\":\"#EBF0F8\"},\"line\":{\"color\":\"white\"}},\"header\":{\"fill\":{\"color\":\"#C8D4E3\"},\"line\":{\"color\":\"white\"}},\"type\":\"table\"}],\"barpolar\":[{\"marker\":{\"line\":{\"color\":\"#E5ECF6\",\"width\":0.5},\"pattern\":{\"fillmode\":\"overlay\",\"size\":10,\"solidity\":0.2}},\"type\":\"barpolar\"}],\"pie\":[{\"automargin\":true,\"type\":\"pie\"}]},\"layout\":{\"autotypenumbers\":\"strict\",\"colorway\":[\"#636efa\",\"#EF553B\",\"#00cc96\",\"#ab63fa\",\"#FFA15A\",\"#19d3f3\",\"#FF6692\",\"#B6E880\",\"#FF97FF\",\"#FECB52\"],\"font\":{\"color\":\"#2a3f5f\"},\"hovermode\":\"closest\",\"hoverlabel\":{\"align\":\"left\"},\"paper_bgcolor\":\"white\",\"plot_bgcolor\":\"#E5ECF6\",\"polar\":{\"bgcolor\":\"#E5ECF6\",\"angularaxis\":{\"gridcolor\":\"white\",\"linecolor\":\"white\",\"ticks\":\"\"},\"radialaxis\":{\"gridcolor\":\"white\",\"linecolor\":\"white\",\"ticks\":\"\"}},\"ternary\":{\"bgcolor\":\"#E5ECF6\",\"aaxis\":{\"gridcolor\":\"white\",\"linecolor\":\"white\",\"ticks\":\"\"},\"baxis\":{\"gridcolor\":\"white\",\"linecolor\":\"white\",\"ticks\":\"\"},\"caxis\":{\"gridcolor\":\"white\",\"linecolor\":\"white\",\"ticks\":\"\"}},\"coloraxis\":{\"colorbar\":{\"outlinewidth\":0,\"ticks\":\"\"}},\"colorscale\":{\"sequential\":[[0.0,\"#0d0887\"],[0.1111111111111111,\"#46039f\"],[0.2222222222222222,\"#7201a8\"],[0.3333333333333333,\"#9c179e\"],[0.4444444444444444,\"#bd3786\"],[0.5555555555555556,\"#d8576b\"],[0.6666666666666666,\"#ed7953\"],[0.7777777777777778,\"#fb9f3a\"],[0.8888888888888888,\"#fdca26\"],[1.0,\"#f0f921\"]],\"sequentialminus\":[[0.0,\"#0d0887\"],[0.1111111111111111,\"#46039f\"],[0.2222222222222222,\"#7201a8\"],[0.3333333333333333,\"#9c179e\"],[0.4444444444444444,\"#bd3786\"],[0.5555555555555556,\"#d8576b\"],[0.6666666666666666,\"#ed7953\"],[0.7777777777777778,\"#fb9f3a\"],[0.8888888888888888,\"#fdca26\"],[1.0,\"#f0f921\"]],\"diverging\":[[0,\"#8e0152\"],[0.1,\"#c51b7d\"],[0.2,\"#de77ae\"],[0.3,\"#f1b6da\"],[0.4,\"#fde0ef\"],[0.5,\"#f7f7f7\"],[0.6,\"#e6f5d0\"],[0.7,\"#b8e186\"],[0.8,\"#7fbc41\"],[0.9,\"#4d9221\"],[1,\"#276419\"]]},\"xaxis\":{\"gridcolor\":\"white\",\"linecolor\":\"white\",\"ticks\":\"\",\"title\":{\"standoff\":15},\"zerolinecolor\":\"white\",\"automargin\":true,\"zerolinewidth\":2},\"yaxis\":{\"gridcolor\":\"white\",\"linecolor\":\"white\",\"ticks\":\"\",\"title\":{\"standoff\":15},\"zerolinecolor\":\"white\",\"automargin\":true,\"zerolinewidth\":2},\"scene\":{\"xaxis\":{\"backgroundcolor\":\"#E5ECF6\",\"gridcolor\":\"white\",\"linecolor\":\"white\",\"showbackground\":true,\"ticks\":\"\",\"zerolinecolor\":\"white\",\"gridwidth\":2},\"yaxis\":{\"backgroundcolor\":\"#E5ECF6\",\"gridcolor\":\"white\",\"linecolor\":\"white\",\"showbackground\":true,\"ticks\":\"\",\"zerolinecolor\":\"white\",\"gridwidth\":2},\"zaxis\":{\"backgroundcolor\":\"#E5ECF6\",\"gridcolor\":\"white\",\"linecolor\":\"white\",\"showbackground\":true,\"ticks\":\"\",\"zerolinecolor\":\"white\",\"gridwidth\":2}},\"shapedefaults\":{\"line\":{\"color\":\"#2a3f5f\"}},\"annotationdefaults\":{\"arrowcolor\":\"#2a3f5f\",\"arrowhead\":0,\"arrowwidth\":1},\"geo\":{\"bgcolor\":\"white\",\"landcolor\":\"#E5ECF6\",\"subunitcolor\":\"white\",\"showland\":true,\"showlakes\":true,\"lakecolor\":\"white\"},\"title\":{\"x\":0.05},\"mapbox\":{\"style\":\"light\"}}},\"xaxis\":{\"anchor\":\"y\",\"domain\":[0.0,1.0],\"title\":{\"text\":\"passing_attempts_last\"}},\"yaxis\":{\"anchor\":\"x\",\"domain\":[0.0,1.0],\"title\":{\"text\":\"passing_attempts\"}},\"legend\":{\"tracegroupgap\":0},\"margin\":{\"t\":60}},                        {\"responsive\": true}                    ).then(function(){\n",
       "                            \n",
       "var gd = document.getElementById('aeab639f-72a4-4c30-b6b8-53c9a19cf549');\n",
       "var x = new MutationObserver(function (mutations, observer) {{\n",
       "        var display = window.getComputedStyle(gd).display;\n",
       "        if (!display || display === 'none') {{\n",
       "            console.log([gd, 'removed!']);\n",
       "            Plotly.purge(gd);\n",
       "            observer.disconnect();\n",
       "        }}\n",
       "}});\n",
       "\n",
       "// Listen for the removal of the full notebook cells\n",
       "var notebookContainer = gd.closest('#notebook-container');\n",
       "if (notebookContainer) {{\n",
       "    x.observe(notebookContainer, {childList: true});\n",
       "}}\n",
       "\n",
       "// Listen for the clearing of the current output cell\n",
       "var outputEl = gd.closest('.output');\n",
       "if (outputEl) {{\n",
       "    x.observe(outputEl, {childList: true});\n",
       "}}\n",
       "\n",
       "                        })                };                });            </script>        </div>"
      ]
     },
     "metadata": {},
     "output_type": "display_data"
    }
   ],
   "source": [
    "fig = px.scatter(df, x=\"passing_attempts_last\", y=\"passing_attempts\",\n",
    "                 hover_data=[\"passer\", \"season\", \"age\"]\n",
    "                )\n",
    "fig.show()"
   ]
  },
  {
   "cell_type": "markdown",
   "id": "bc317ced",
   "metadata": {},
   "source": [
    "## Yardage"
   ]
  },
  {
   "cell_type": "code",
   "execution_count": 40,
   "id": "bbe810aa",
   "metadata": {},
   "outputs": [
    {
     "data": {
      "text/html": [
       "<div>\n",
       "<style scoped>\n",
       "    .dataframe tbody tr th:only-of-type {\n",
       "        vertical-align: middle;\n",
       "    }\n",
       "\n",
       "    .dataframe tbody tr th {\n",
       "        vertical-align: top;\n",
       "    }\n",
       "\n",
       "    .dataframe thead th {\n",
       "        text-align: right;\n",
       "    }\n",
       "</style>\n",
       "<table border=\"1\" class=\"dataframe\">\n",
       "  <thead>\n",
       "    <tr style=\"text-align: right;\">\n",
       "      <th></th>\n",
       "      <th>passing_yards</th>\n",
       "      <th>passing_yards_last</th>\n",
       "    </tr>\n",
       "  </thead>\n",
       "  <tbody>\n",
       "    <tr>\n",
       "      <th>passing_yards</th>\n",
       "      <td>1.000000</td>\n",
       "      <td>0.581878</td>\n",
       "    </tr>\n",
       "    <tr>\n",
       "      <th>passing_yards_last</th>\n",
       "      <td>0.581878</td>\n",
       "      <td>1.000000</td>\n",
       "    </tr>\n",
       "  </tbody>\n",
       "</table>\n",
       "</div>"
      ],
      "text/plain": [
       "                    passing_yards  passing_yards_last\n",
       "passing_yards            1.000000            0.581878\n",
       "passing_yards_last       0.581878            1.000000"
      ]
     },
     "execution_count": 40,
     "metadata": {},
     "output_type": "execute_result"
    }
   ],
   "source": [
    "df[[\"passing_yards\", \"passing_yards_last\"]].corr()"
   ]
  },
  {
   "cell_type": "code",
   "execution_count": 41,
   "id": "0c609e7a",
   "metadata": {},
   "outputs": [
    {
     "data": {
      "application/vnd.plotly.v1+json": {
       "config": {
        "plotlyServerURL": "https://plot.ly"
       },
       "data": [
        {
         "customdata": [
          [
           "P.Manning",
           2013,
           37
          ],
          [
           "P.Manning",
           2014,
           38
          ],
          [
           "T.Brady",
           2013,
           36
          ],
          [
           "T.Brady",
           2014,
           37
          ],
          [
           "T.Brady",
           2015,
           38
          ],
          [
           "T.Brady",
           2016,
           39
          ],
          [
           "T.Brady",
           2017,
           40
          ],
          [
           "T.Brady",
           2018,
           41
          ],
          [
           "T.Brady",
           2019,
           42
          ],
          [
           "T.Brady",
           2020,
           43
          ],
          [
           "T.Brady",
           2021,
           44
          ],
          [
           "T.Brady",
           2022,
           45
          ],
          [
           "D.Brees",
           2013,
           34
          ],
          [
           "D.Brees",
           2014,
           35
          ],
          [
           "D.Brees",
           2015,
           36
          ],
          [
           "D.Brees",
           2016,
           37
          ],
          [
           "D.Brees",
           2017,
           38
          ],
          [
           "D.Brees",
           2018,
           39
          ],
          [
           "C.Palmer",
           2013,
           33
          ],
          [
           "C.Palmer",
           2016,
           36
          ],
          [
           "T.Romo",
           2013,
           33
          ],
          [
           "T.Romo",
           2014,
           34
          ],
          [
           "E.Manning",
           2013,
           32
          ],
          [
           "E.Manning",
           2014,
           33
          ],
          [
           "E.Manning",
           2015,
           34
          ],
          [
           "E.Manning",
           2016,
           35
          ],
          [
           "E.Manning",
           2017,
           36
          ],
          [
           "E.Manning",
           2018,
           37
          ],
          [
           "B.Roethlisberger",
           2013,
           31
          ],
          [
           "B.Roethlisberger",
           2014,
           32
          ],
          [
           "B.Roethlisberger",
           2015,
           33
          ],
          [
           "B.Roethlisberger",
           2016,
           34
          ],
          [
           "B.Roethlisberger",
           2017,
           35
          ],
          [
           "B.Roethlisberger",
           2018,
           36
          ],
          [
           "B.Roethlisberger",
           2021,
           39
          ],
          [
           "P.Rivers",
           2013,
           31
          ],
          [
           "P.Rivers",
           2014,
           32
          ],
          [
           "P.Rivers",
           2015,
           33
          ],
          [
           "P.Rivers",
           2016,
           34
          ],
          [
           "P.Rivers",
           2017,
           35
          ],
          [
           "P.Rivers",
           2018,
           36
          ],
          [
           "P.Rivers",
           2019,
           37
          ],
          [
           "P.Rivers",
           2020,
           38
          ],
          [
           "A.Smith",
           2014,
           30
          ],
          [
           "A.Smith",
           2015,
           31
          ],
          [
           "A.Smith",
           2016,
           32
          ],
          [
           "A.Smith",
           2017,
           33
          ],
          [
           "A.Rodgers",
           2015,
           31
          ],
          [
           "A.Rodgers",
           2016,
           32
          ],
          [
           "A.Rodgers",
           2019,
           35
          ],
          [
           "A.Rodgers",
           2020,
           36
          ],
          [
           "A.Rodgers",
           2021,
           37
          ],
          [
           "A.Rodgers",
           2022,
           38
          ],
          [
           "R.Fitzpatrick",
           2015,
           32
          ],
          [
           "R.Fitzpatrick",
           2016,
           33
          ],
          [
           "J.Cutler",
           2015,
           32
          ],
          [
           "M.Ryan",
           2013,
           28
          ],
          [
           "M.Ryan",
           2014,
           29
          ],
          [
           "M.Ryan",
           2015,
           30
          ],
          [
           "M.Ryan",
           2016,
           31
          ],
          [
           "M.Ryan",
           2017,
           32
          ],
          [
           "M.Ryan",
           2018,
           33
          ],
          [
           "M.Ryan",
           2019,
           34
          ],
          [
           "M.Ryan",
           2020,
           35
          ],
          [
           "M.Ryan",
           2021,
           36
          ],
          [
           "M.Ryan",
           2022,
           37
          ],
          [
           "J.Flacco",
           2013,
           28
          ],
          [
           "J.Flacco",
           2014,
           29
          ],
          [
           "J.Flacco",
           2017,
           32
          ],
          [
           "M.Stafford",
           2013,
           25
          ],
          [
           "M.Stafford",
           2014,
           26
          ],
          [
           "M.Stafford",
           2015,
           27
          ],
          [
           "M.Stafford",
           2016,
           28
          ],
          [
           "M.Stafford",
           2017,
           29
          ],
          [
           "M.Stafford",
           2018,
           30
          ],
          [
           "M.Stafford",
           2021,
           33
          ],
          [
           "S.Bradford",
           2016,
           28
          ],
          [
           "C.Newton",
           2013,
           24
          ],
          [
           "C.Newton",
           2014,
           25
          ],
          [
           "C.Newton",
           2015,
           26
          ],
          [
           "C.Newton",
           2016,
           27
          ],
          [
           "C.Newton",
           2017,
           28
          ],
          [
           "C.Newton",
           2018,
           29
          ],
          [
           "A.Dalton",
           2013,
           25
          ],
          [
           "A.Dalton",
           2014,
           26
          ],
          [
           "A.Dalton",
           2015,
           27
          ],
          [
           "A.Dalton",
           2016,
           28
          ],
          [
           "A.Dalton",
           2017,
           29
          ],
          [
           "C.Kaepernick",
           2013,
           25
          ],
          [
           "C.Kaepernick",
           2014,
           26
          ],
          [
           "T.Taylor",
           2016,
           27
          ],
          [
           "T.Taylor",
           2017,
           28
          ],
          [
           "C.Keenum",
           2018,
           30
          ],
          [
           "R.Wilson",
           2013,
           24
          ],
          [
           "R.Wilson",
           2014,
           25
          ],
          [
           "R.Wilson",
           2015,
           26
          ],
          [
           "R.Wilson",
           2016,
           27
          ],
          [
           "R.Wilson",
           2017,
           28
          ],
          [
           "R.Wilson",
           2018,
           29
          ],
          [
           "R.Wilson",
           2019,
           30
          ],
          [
           "R.Wilson",
           2020,
           31
          ],
          [
           "R.Wilson",
           2021,
           32
          ],
          [
           "R.Wilson",
           2022,
           33
          ],
          [
           "K.Cousins",
           2016,
           28
          ],
          [
           "K.Cousins",
           2017,
           29
          ],
          [
           "K.Cousins",
           2018,
           30
          ],
          [
           "K.Cousins",
           2019,
           31
          ],
          [
           "K.Cousins",
           2020,
           32
          ],
          [
           "K.Cousins",
           2021,
           33
          ],
          [
           "K.Cousins",
           2022,
           34
          ],
          [
           "R.Griffin III",
           2013,
           23
          ],
          [
           "A.Luck",
           2013,
           23
          ],
          [
           "A.Luck",
           2014,
           24
          ],
          [
           "R.Tannehill",
           2013,
           25
          ],
          [
           "R.Tannehill",
           2014,
           26
          ],
          [
           "R.Tannehill",
           2015,
           27
          ],
          [
           "R.Tannehill",
           2016,
           28
          ],
          [
           "R.Tannehill",
           2020,
           32
          ],
          [
           "R.Tannehill",
           2021,
           33
          ],
          [
           "R.Tannehill",
           2022,
           34
          ],
          [
           "G.Smith",
           2014,
           23
          ],
          [
           "T.Bridgewater",
           2015,
           22
          ],
          [
           "T.Bridgewater",
           2021,
           28
          ],
          [
           "D.Carr",
           2015,
           24
          ],
          [
           "D.Carr",
           2016,
           25
          ],
          [
           "D.Carr",
           2017,
           26
          ],
          [
           "D.Carr",
           2018,
           27
          ],
          [
           "D.Carr",
           2019,
           28
          ],
          [
           "D.Carr",
           2020,
           29
          ],
          [
           "D.Carr",
           2021,
           30
          ],
          [
           "D.Carr",
           2022,
           31
          ],
          [
           "B.Bortles",
           2015,
           23
          ],
          [
           "B.Bortles",
           2016,
           24
          ],
          [
           "B.Bortles",
           2017,
           25
          ],
          [
           "B.Bortles",
           2018,
           26
          ],
          [
           "J.Winston",
           2016,
           22
          ],
          [
           "J.Winston",
           2017,
           23
          ],
          [
           "M.Mariota",
           2016,
           22
          ],
          [
           "M.Mariota",
           2017,
           23
          ],
          [
           "M.Mariota",
           2018,
           24
          ],
          [
           "C.Wentz",
           2017,
           24
          ],
          [
           "C.Wentz",
           2020,
           27
          ],
          [
           "C.Wentz",
           2021,
           28
          ],
          [
           "D.Prescott",
           2017,
           24
          ],
          [
           "D.Prescott",
           2018,
           25
          ],
          [
           "D.Prescott",
           2019,
           26
          ],
          [
           "D.Prescott",
           2022,
           29
          ],
          [
           "J.Goff",
           2018,
           23
          ],
          [
           "J.Goff",
           2019,
           24
          ],
          [
           "J.Goff",
           2020,
           25
          ],
          [
           "J.Goff",
           2021,
           26
          ],
          [
           "J.Goff",
           2022,
           27
          ],
          [
           "D.Watson",
           2019,
           23
          ],
          [
           "D.Watson",
           2020,
           24
          ],
          [
           "M.Trubisky",
           2018,
           24
          ],
          [
           "M.Trubisky",
           2019,
           25
          ],
          [
           "P.Mahomes",
           2019,
           23
          ],
          [
           "P.Mahomes",
           2020,
           24
          ],
          [
           "P.Mahomes",
           2021,
           25
          ],
          [
           "P.Mahomes",
           2022,
           26
          ],
          [
           "L.Jackson",
           2019,
           22
          ],
          [
           "L.Jackson",
           2020,
           23
          ],
          [
           "L.Jackson",
           2021,
           24
          ],
          [
           "L.Jackson",
           2022,
           25
          ],
          [
           "B.Mayfield",
           2019,
           24
          ],
          [
           "B.Mayfield",
           2020,
           25
          ],
          [
           "B.Mayfield",
           2021,
           26
          ],
          [
           "B.Mayfield",
           2022,
           27
          ],
          [
           "J.Allen",
           2019,
           23
          ],
          [
           "J.Allen",
           2020,
           24
          ],
          [
           "J.Allen",
           2021,
           25
          ],
          [
           "J.Allen",
           2022,
           26
          ],
          [
           "S.Darnold",
           2019,
           22
          ],
          [
           "S.Darnold",
           2020,
           23
          ],
          [
           "S.Darnold",
           2021,
           24
          ],
          [
           "K.Murray",
           2020,
           23
          ],
          [
           "K.Murray",
           2021,
           24
          ],
          [
           "D.Jones",
           2020,
           23
          ],
          [
           "T.Tagovailoa",
           2022,
           24
          ],
          [
           "J.Herbert",
           2021,
           23
          ],
          [
           "J.Herbert",
           2022,
           24
          ],
          [
           "J.Hurts",
           2021,
           23
          ],
          [
           "J.Hurts",
           2022,
           24
          ],
          [
           "J.Burrow",
           2022,
           25
          ],
          [
           "D.Mills",
           2022,
           23
          ],
          [
           "J.Fields",
           2022,
           23
          ],
          [
           "T.Lawrence",
           2022,
           22
          ],
          [
           "M.Jones",
           2022,
           23
          ]
         ],
         "hovertemplate": "passing_yards_last=%{x}<br>passing_yards=%{y}<br>passer=%{customdata[0]}<br>season=%{customdata[1]}<br>age=%{customdata[2]}<extra></extra>",
         "legendgroup": "",
         "marker": {
          "color": "#636efa",
          "symbol": "circle"
         },
         "mode": "markers",
         "name": "",
         "orientation": "v",
         "showlegend": false,
         "type": "scatter",
         "x": [
          4659,
          5477,
          4827,
          4343,
          4109,
          4770,
          3554,
          4577,
          4355,
          4057,
          4633,
          5316,
          5177,
          5157,
          4952,
          4870,
          5209,
          4334,
          4018,
          4671,
          4903,
          3828,
          3948,
          3818,
          4410,
          4432,
          4027,
          3468,
          3265,
          4261,
          4952,
          3938,
          3819,
          4251,
          3803,
          3606,
          4478,
          4286,
          4785,
          4386,
          4515,
          4308,
          4615,
          3313,
          3265,
          3486,
          3502,
          4381,
          3821,
          4442,
          4002,
          4299,
          4115,
          2483,
          3905,
          3812,
          4715,
          4515,
          4694,
          4591,
          4944,
          4095,
          4924,
          4466,
          4581,
          3968,
          3817,
          3909,
          4317,
          4967,
          4650,
          4257,
          4262,
          4327,
          4446,
          4084,
          3725,
          3869,
          3379,
          3127,
          3837,
          3509,
          3302,
          3669,
          4293,
          3398,
          3250,
          4206,
          1814,
          3197,
          3031,
          3023,
          3547,
          3118,
          3357,
          3475,
          4024,
          4219,
          3983,
          3448,
          4110,
          4212,
          3113,
          4166,
          4917,
          4093,
          4298,
          3603,
          4265,
          4221,
          3200,
          4374,
          3822,
          3294,
          3913,
          4045,
          4208,
          2742,
          3819,
          3734,
          3046,
          2919,
          3733,
          3270,
          3987,
          3937,
          3496,
          4049,
          4054,
          4103,
          4804,
          2908,
          4428,
          3905,
          3687,
          4042,
          4090,
          2818,
          3426,
          3232,
          3782,
          4039,
          2620,
          3667,
          3324,
          3885,
          4449,
          3804,
          4688,
          4638,
          3952,
          3245,
          4165,
          3852,
          2193,
          3223,
          5097,
          4031,
          4740,
          4839,
          1201,
          3127,
          2757,
          2882,
          3725,
          3827,
          3563,
          3010,
          2074,
          3089,
          4544,
          4407,
          2865,
          3024,
          2208,
          3722,
          3971,
          3027,
          2653,
          4336,
          5014,
          1061,
          3144,
          4611,
          2664,
          1870,
          3627,
          3801
         ],
         "xaxis": "x",
         "y": [
          5477,
          4727,
          4343,
          4109,
          4770,
          3554,
          4577,
          4355,
          4057,
          4633,
          5316,
          4694,
          5157,
          4952,
          4870,
          5209,
          4334,
          3992,
          4274,
          4233,
          3828,
          3705,
          3818,
          4410,
          4432,
          4027,
          3468,
          4299,
          4261,
          4952,
          3938,
          3819,
          4251,
          5129,
          3740,
          4478,
          4286,
          4785,
          4386,
          4515,
          4308,
          4615,
          4169,
          3265,
          3486,
          3502,
          4042,
          3821,
          4428,
          4002,
          4299,
          4115,
          3695,
          3905,
          2710,
          3659,
          4515,
          4694,
          4591,
          4944,
          4095,
          4924,
          4466,
          4581,
          3968,
          3057,
          3909,
          3986,
          3141,
          4650,
          4257,
          4262,
          4327,
          4446,
          3777,
          4886,
          3877,
          3379,
          3127,
          3837,
          3509,
          3302,
          3395,
          4293,
          3398,
          3250,
          4206,
          3320,
          3197,
          3369,
          3023,
          2799,
          3890,
          3357,
          3475,
          4024,
          4219,
          3983,
          3448,
          4110,
          4212,
          3113,
          3524,
          4917,
          4093,
          4298,
          3603,
          4265,
          4221,
          4536,
          3203,
          3822,
          4761,
          3913,
          4045,
          4208,
          2995,
          3819,
          3734,
          2536,
          2525,
          3231,
          3052,
          3987,
          3937,
          3496,
          4049,
          4054,
          4103,
          4804,
          3522,
          4428,
          3905,
          3687,
          2718,
          4090,
          3504,
          3426,
          3232,
          2528,
          3296,
          2620,
          3563,
          3324,
          3885,
          4902,
          2860,
          4688,
          4638,
          3952,
          3245,
          4438,
          3852,
          4823,
          3223,
          3138,
          4031,
          4740,
          4839,
          5250,
          3127,
          2757,
          2882,
          2242,
          3827,
          3563,
          3010,
          2163,
          3089,
          4544,
          4407,
          4283,
          3024,
          2208,
          2525,
          3971,
          3787,
          2943,
          3548,
          5014,
          4739,
          3144,
          3701,
          4475,
          3118,
          2242,
          4113,
          2997
         ],
         "yaxis": "y"
        }
       ],
       "layout": {
        "legend": {
         "tracegroupgap": 0
        },
        "margin": {
         "t": 60
        },
        "template": {
         "data": {
          "bar": [
           {
            "error_x": {
             "color": "#2a3f5f"
            },
            "error_y": {
             "color": "#2a3f5f"
            },
            "marker": {
             "line": {
              "color": "#E5ECF6",
              "width": 0.5
             },
             "pattern": {
              "fillmode": "overlay",
              "size": 10,
              "solidity": 0.2
             }
            },
            "type": "bar"
           }
          ],
          "barpolar": [
           {
            "marker": {
             "line": {
              "color": "#E5ECF6",
              "width": 0.5
             },
             "pattern": {
              "fillmode": "overlay",
              "size": 10,
              "solidity": 0.2
             }
            },
            "type": "barpolar"
           }
          ],
          "carpet": [
           {
            "aaxis": {
             "endlinecolor": "#2a3f5f",
             "gridcolor": "white",
             "linecolor": "white",
             "minorgridcolor": "white",
             "startlinecolor": "#2a3f5f"
            },
            "baxis": {
             "endlinecolor": "#2a3f5f",
             "gridcolor": "white",
             "linecolor": "white",
             "minorgridcolor": "white",
             "startlinecolor": "#2a3f5f"
            },
            "type": "carpet"
           }
          ],
          "choropleth": [
           {
            "colorbar": {
             "outlinewidth": 0,
             "ticks": ""
            },
            "type": "choropleth"
           }
          ],
          "contour": [
           {
            "colorbar": {
             "outlinewidth": 0,
             "ticks": ""
            },
            "colorscale": [
             [
              0,
              "#0d0887"
             ],
             [
              0.1111111111111111,
              "#46039f"
             ],
             [
              0.2222222222222222,
              "#7201a8"
             ],
             [
              0.3333333333333333,
              "#9c179e"
             ],
             [
              0.4444444444444444,
              "#bd3786"
             ],
             [
              0.5555555555555556,
              "#d8576b"
             ],
             [
              0.6666666666666666,
              "#ed7953"
             ],
             [
              0.7777777777777778,
              "#fb9f3a"
             ],
             [
              0.8888888888888888,
              "#fdca26"
             ],
             [
              1,
              "#f0f921"
             ]
            ],
            "type": "contour"
           }
          ],
          "contourcarpet": [
           {
            "colorbar": {
             "outlinewidth": 0,
             "ticks": ""
            },
            "type": "contourcarpet"
           }
          ],
          "heatmap": [
           {
            "colorbar": {
             "outlinewidth": 0,
             "ticks": ""
            },
            "colorscale": [
             [
              0,
              "#0d0887"
             ],
             [
              0.1111111111111111,
              "#46039f"
             ],
             [
              0.2222222222222222,
              "#7201a8"
             ],
             [
              0.3333333333333333,
              "#9c179e"
             ],
             [
              0.4444444444444444,
              "#bd3786"
             ],
             [
              0.5555555555555556,
              "#d8576b"
             ],
             [
              0.6666666666666666,
              "#ed7953"
             ],
             [
              0.7777777777777778,
              "#fb9f3a"
             ],
             [
              0.8888888888888888,
              "#fdca26"
             ],
             [
              1,
              "#f0f921"
             ]
            ],
            "type": "heatmap"
           }
          ],
          "heatmapgl": [
           {
            "colorbar": {
             "outlinewidth": 0,
             "ticks": ""
            },
            "colorscale": [
             [
              0,
              "#0d0887"
             ],
             [
              0.1111111111111111,
              "#46039f"
             ],
             [
              0.2222222222222222,
              "#7201a8"
             ],
             [
              0.3333333333333333,
              "#9c179e"
             ],
             [
              0.4444444444444444,
              "#bd3786"
             ],
             [
              0.5555555555555556,
              "#d8576b"
             ],
             [
              0.6666666666666666,
              "#ed7953"
             ],
             [
              0.7777777777777778,
              "#fb9f3a"
             ],
             [
              0.8888888888888888,
              "#fdca26"
             ],
             [
              1,
              "#f0f921"
             ]
            ],
            "type": "heatmapgl"
           }
          ],
          "histogram": [
           {
            "marker": {
             "pattern": {
              "fillmode": "overlay",
              "size": 10,
              "solidity": 0.2
             }
            },
            "type": "histogram"
           }
          ],
          "histogram2d": [
           {
            "colorbar": {
             "outlinewidth": 0,
             "ticks": ""
            },
            "colorscale": [
             [
              0,
              "#0d0887"
             ],
             [
              0.1111111111111111,
              "#46039f"
             ],
             [
              0.2222222222222222,
              "#7201a8"
             ],
             [
              0.3333333333333333,
              "#9c179e"
             ],
             [
              0.4444444444444444,
              "#bd3786"
             ],
             [
              0.5555555555555556,
              "#d8576b"
             ],
             [
              0.6666666666666666,
              "#ed7953"
             ],
             [
              0.7777777777777778,
              "#fb9f3a"
             ],
             [
              0.8888888888888888,
              "#fdca26"
             ],
             [
              1,
              "#f0f921"
             ]
            ],
            "type": "histogram2d"
           }
          ],
          "histogram2dcontour": [
           {
            "colorbar": {
             "outlinewidth": 0,
             "ticks": ""
            },
            "colorscale": [
             [
              0,
              "#0d0887"
             ],
             [
              0.1111111111111111,
              "#46039f"
             ],
             [
              0.2222222222222222,
              "#7201a8"
             ],
             [
              0.3333333333333333,
              "#9c179e"
             ],
             [
              0.4444444444444444,
              "#bd3786"
             ],
             [
              0.5555555555555556,
              "#d8576b"
             ],
             [
              0.6666666666666666,
              "#ed7953"
             ],
             [
              0.7777777777777778,
              "#fb9f3a"
             ],
             [
              0.8888888888888888,
              "#fdca26"
             ],
             [
              1,
              "#f0f921"
             ]
            ],
            "type": "histogram2dcontour"
           }
          ],
          "mesh3d": [
           {
            "colorbar": {
             "outlinewidth": 0,
             "ticks": ""
            },
            "type": "mesh3d"
           }
          ],
          "parcoords": [
           {
            "line": {
             "colorbar": {
              "outlinewidth": 0,
              "ticks": ""
             }
            },
            "type": "parcoords"
           }
          ],
          "pie": [
           {
            "automargin": true,
            "type": "pie"
           }
          ],
          "scatter": [
           {
            "fillpattern": {
             "fillmode": "overlay",
             "size": 10,
             "solidity": 0.2
            },
            "type": "scatter"
           }
          ],
          "scatter3d": [
           {
            "line": {
             "colorbar": {
              "outlinewidth": 0,
              "ticks": ""
             }
            },
            "marker": {
             "colorbar": {
              "outlinewidth": 0,
              "ticks": ""
             }
            },
            "type": "scatter3d"
           }
          ],
          "scattercarpet": [
           {
            "marker": {
             "colorbar": {
              "outlinewidth": 0,
              "ticks": ""
             }
            },
            "type": "scattercarpet"
           }
          ],
          "scattergeo": [
           {
            "marker": {
             "colorbar": {
              "outlinewidth": 0,
              "ticks": ""
             }
            },
            "type": "scattergeo"
           }
          ],
          "scattergl": [
           {
            "marker": {
             "colorbar": {
              "outlinewidth": 0,
              "ticks": ""
             }
            },
            "type": "scattergl"
           }
          ],
          "scattermapbox": [
           {
            "marker": {
             "colorbar": {
              "outlinewidth": 0,
              "ticks": ""
             }
            },
            "type": "scattermapbox"
           }
          ],
          "scatterpolar": [
           {
            "marker": {
             "colorbar": {
              "outlinewidth": 0,
              "ticks": ""
             }
            },
            "type": "scatterpolar"
           }
          ],
          "scatterpolargl": [
           {
            "marker": {
             "colorbar": {
              "outlinewidth": 0,
              "ticks": ""
             }
            },
            "type": "scatterpolargl"
           }
          ],
          "scatterternary": [
           {
            "marker": {
             "colorbar": {
              "outlinewidth": 0,
              "ticks": ""
             }
            },
            "type": "scatterternary"
           }
          ],
          "surface": [
           {
            "colorbar": {
             "outlinewidth": 0,
             "ticks": ""
            },
            "colorscale": [
             [
              0,
              "#0d0887"
             ],
             [
              0.1111111111111111,
              "#46039f"
             ],
             [
              0.2222222222222222,
              "#7201a8"
             ],
             [
              0.3333333333333333,
              "#9c179e"
             ],
             [
              0.4444444444444444,
              "#bd3786"
             ],
             [
              0.5555555555555556,
              "#d8576b"
             ],
             [
              0.6666666666666666,
              "#ed7953"
             ],
             [
              0.7777777777777778,
              "#fb9f3a"
             ],
             [
              0.8888888888888888,
              "#fdca26"
             ],
             [
              1,
              "#f0f921"
             ]
            ],
            "type": "surface"
           }
          ],
          "table": [
           {
            "cells": {
             "fill": {
              "color": "#EBF0F8"
             },
             "line": {
              "color": "white"
             }
            },
            "header": {
             "fill": {
              "color": "#C8D4E3"
             },
             "line": {
              "color": "white"
             }
            },
            "type": "table"
           }
          ]
         },
         "layout": {
          "annotationdefaults": {
           "arrowcolor": "#2a3f5f",
           "arrowhead": 0,
           "arrowwidth": 1
          },
          "autotypenumbers": "strict",
          "coloraxis": {
           "colorbar": {
            "outlinewidth": 0,
            "ticks": ""
           }
          },
          "colorscale": {
           "diverging": [
            [
             0,
             "#8e0152"
            ],
            [
             0.1,
             "#c51b7d"
            ],
            [
             0.2,
             "#de77ae"
            ],
            [
             0.3,
             "#f1b6da"
            ],
            [
             0.4,
             "#fde0ef"
            ],
            [
             0.5,
             "#f7f7f7"
            ],
            [
             0.6,
             "#e6f5d0"
            ],
            [
             0.7,
             "#b8e186"
            ],
            [
             0.8,
             "#7fbc41"
            ],
            [
             0.9,
             "#4d9221"
            ],
            [
             1,
             "#276419"
            ]
           ],
           "sequential": [
            [
             0,
             "#0d0887"
            ],
            [
             0.1111111111111111,
             "#46039f"
            ],
            [
             0.2222222222222222,
             "#7201a8"
            ],
            [
             0.3333333333333333,
             "#9c179e"
            ],
            [
             0.4444444444444444,
             "#bd3786"
            ],
            [
             0.5555555555555556,
             "#d8576b"
            ],
            [
             0.6666666666666666,
             "#ed7953"
            ],
            [
             0.7777777777777778,
             "#fb9f3a"
            ],
            [
             0.8888888888888888,
             "#fdca26"
            ],
            [
             1,
             "#f0f921"
            ]
           ],
           "sequentialminus": [
            [
             0,
             "#0d0887"
            ],
            [
             0.1111111111111111,
             "#46039f"
            ],
            [
             0.2222222222222222,
             "#7201a8"
            ],
            [
             0.3333333333333333,
             "#9c179e"
            ],
            [
             0.4444444444444444,
             "#bd3786"
            ],
            [
             0.5555555555555556,
             "#d8576b"
            ],
            [
             0.6666666666666666,
             "#ed7953"
            ],
            [
             0.7777777777777778,
             "#fb9f3a"
            ],
            [
             0.8888888888888888,
             "#fdca26"
            ],
            [
             1,
             "#f0f921"
            ]
           ]
          },
          "colorway": [
           "#636efa",
           "#EF553B",
           "#00cc96",
           "#ab63fa",
           "#FFA15A",
           "#19d3f3",
           "#FF6692",
           "#B6E880",
           "#FF97FF",
           "#FECB52"
          ],
          "font": {
           "color": "#2a3f5f"
          },
          "geo": {
           "bgcolor": "white",
           "lakecolor": "white",
           "landcolor": "#E5ECF6",
           "showlakes": true,
           "showland": true,
           "subunitcolor": "white"
          },
          "hoverlabel": {
           "align": "left"
          },
          "hovermode": "closest",
          "mapbox": {
           "style": "light"
          },
          "paper_bgcolor": "white",
          "plot_bgcolor": "#E5ECF6",
          "polar": {
           "angularaxis": {
            "gridcolor": "white",
            "linecolor": "white",
            "ticks": ""
           },
           "bgcolor": "#E5ECF6",
           "radialaxis": {
            "gridcolor": "white",
            "linecolor": "white",
            "ticks": ""
           }
          },
          "scene": {
           "xaxis": {
            "backgroundcolor": "#E5ECF6",
            "gridcolor": "white",
            "gridwidth": 2,
            "linecolor": "white",
            "showbackground": true,
            "ticks": "",
            "zerolinecolor": "white"
           },
           "yaxis": {
            "backgroundcolor": "#E5ECF6",
            "gridcolor": "white",
            "gridwidth": 2,
            "linecolor": "white",
            "showbackground": true,
            "ticks": "",
            "zerolinecolor": "white"
           },
           "zaxis": {
            "backgroundcolor": "#E5ECF6",
            "gridcolor": "white",
            "gridwidth": 2,
            "linecolor": "white",
            "showbackground": true,
            "ticks": "",
            "zerolinecolor": "white"
           }
          },
          "shapedefaults": {
           "line": {
            "color": "#2a3f5f"
           }
          },
          "ternary": {
           "aaxis": {
            "gridcolor": "white",
            "linecolor": "white",
            "ticks": ""
           },
           "baxis": {
            "gridcolor": "white",
            "linecolor": "white",
            "ticks": ""
           },
           "bgcolor": "#E5ECF6",
           "caxis": {
            "gridcolor": "white",
            "linecolor": "white",
            "ticks": ""
           }
          },
          "title": {
           "x": 0.05
          },
          "xaxis": {
           "automargin": true,
           "gridcolor": "white",
           "linecolor": "white",
           "ticks": "",
           "title": {
            "standoff": 15
           },
           "zerolinecolor": "white",
           "zerolinewidth": 2
          },
          "yaxis": {
           "automargin": true,
           "gridcolor": "white",
           "linecolor": "white",
           "ticks": "",
           "title": {
            "standoff": 15
           },
           "zerolinecolor": "white",
           "zerolinewidth": 2
          }
         }
        },
        "xaxis": {
         "anchor": "y",
         "domain": [
          0,
          1
         ],
         "title": {
          "text": "passing_yards_last"
         }
        },
        "yaxis": {
         "anchor": "x",
         "domain": [
          0,
          1
         ],
         "title": {
          "text": "passing_yards"
         }
        }
       }
      },
      "text/html": [
       "<div>                            <div id=\"8f25387e-c638-4854-8581-cce163ea1ec3\" class=\"plotly-graph-div\" style=\"height:525px; width:100%;\"></div>            <script type=\"text/javascript\">                require([\"plotly\"], function(Plotly) {                    window.PLOTLYENV=window.PLOTLYENV || {};                                    if (document.getElementById(\"8f25387e-c638-4854-8581-cce163ea1ec3\")) {                    Plotly.newPlot(                        \"8f25387e-c638-4854-8581-cce163ea1ec3\",                        [{\"customdata\":[[\"P.Manning\",2013,37.0],[\"P.Manning\",2014,38.0],[\"T.Brady\",2013,36.0],[\"T.Brady\",2014,37.0],[\"T.Brady\",2015,38.0],[\"T.Brady\",2016,39.0],[\"T.Brady\",2017,40.0],[\"T.Brady\",2018,41.0],[\"T.Brady\",2019,42.0],[\"T.Brady\",2020,43.0],[\"T.Brady\",2021,44.0],[\"T.Brady\",2022,45.0],[\"D.Brees\",2013,34.0],[\"D.Brees\",2014,35.0],[\"D.Brees\",2015,36.0],[\"D.Brees\",2016,37.0],[\"D.Brees\",2017,38.0],[\"D.Brees\",2018,39.0],[\"C.Palmer\",2013,33.0],[\"C.Palmer\",2016,36.0],[\"T.Romo\",2013,33.0],[\"T.Romo\",2014,34.0],[\"E.Manning\",2013,32.0],[\"E.Manning\",2014,33.0],[\"E.Manning\",2015,34.0],[\"E.Manning\",2016,35.0],[\"E.Manning\",2017,36.0],[\"E.Manning\",2018,37.0],[\"B.Roethlisberger\",2013,31.0],[\"B.Roethlisberger\",2014,32.0],[\"B.Roethlisberger\",2015,33.0],[\"B.Roethlisberger\",2016,34.0],[\"B.Roethlisberger\",2017,35.0],[\"B.Roethlisberger\",2018,36.0],[\"B.Roethlisberger\",2021,39.0],[\"P.Rivers\",2013,31.0],[\"P.Rivers\",2014,32.0],[\"P.Rivers\",2015,33.0],[\"P.Rivers\",2016,34.0],[\"P.Rivers\",2017,35.0],[\"P.Rivers\",2018,36.0],[\"P.Rivers\",2019,37.0],[\"P.Rivers\",2020,38.0],[\"A.Smith\",2014,30.0],[\"A.Smith\",2015,31.0],[\"A.Smith\",2016,32.0],[\"A.Smith\",2017,33.0],[\"A.Rodgers\",2015,31.0],[\"A.Rodgers\",2016,32.0],[\"A.Rodgers\",2019,35.0],[\"A.Rodgers\",2020,36.0],[\"A.Rodgers\",2021,37.0],[\"A.Rodgers\",2022,38.0],[\"R.Fitzpatrick\",2015,32.0],[\"R.Fitzpatrick\",2016,33.0],[\"J.Cutler\",2015,32.0],[\"M.Ryan\",2013,28.0],[\"M.Ryan\",2014,29.0],[\"M.Ryan\",2015,30.0],[\"M.Ryan\",2016,31.0],[\"M.Ryan\",2017,32.0],[\"M.Ryan\",2018,33.0],[\"M.Ryan\",2019,34.0],[\"M.Ryan\",2020,35.0],[\"M.Ryan\",2021,36.0],[\"M.Ryan\",2022,37.0],[\"J.Flacco\",2013,28.0],[\"J.Flacco\",2014,29.0],[\"J.Flacco\",2017,32.0],[\"M.Stafford\",2013,25.0],[\"M.Stafford\",2014,26.0],[\"M.Stafford\",2015,27.0],[\"M.Stafford\",2016,28.0],[\"M.Stafford\",2017,29.0],[\"M.Stafford\",2018,30.0],[\"M.Stafford\",2021,33.0],[\"S.Bradford\",2016,28.0],[\"C.Newton\",2013,24.0],[\"C.Newton\",2014,25.0],[\"C.Newton\",2015,26.0],[\"C.Newton\",2016,27.0],[\"C.Newton\",2017,28.0],[\"C.Newton\",2018,29.0],[\"A.Dalton\",2013,25.0],[\"A.Dalton\",2014,26.0],[\"A.Dalton\",2015,27.0],[\"A.Dalton\",2016,28.0],[\"A.Dalton\",2017,29.0],[\"C.Kaepernick\",2013,25.0],[\"C.Kaepernick\",2014,26.0],[\"T.Taylor\",2016,27.0],[\"T.Taylor\",2017,28.0],[\"C.Keenum\",2018,30.0],[\"R.Wilson\",2013,24.0],[\"R.Wilson\",2014,25.0],[\"R.Wilson\",2015,26.0],[\"R.Wilson\",2016,27.0],[\"R.Wilson\",2017,28.0],[\"R.Wilson\",2018,29.0],[\"R.Wilson\",2019,30.0],[\"R.Wilson\",2020,31.0],[\"R.Wilson\",2021,32.0],[\"R.Wilson\",2022,33.0],[\"K.Cousins\",2016,28.0],[\"K.Cousins\",2017,29.0],[\"K.Cousins\",2018,30.0],[\"K.Cousins\",2019,31.0],[\"K.Cousins\",2020,32.0],[\"K.Cousins\",2021,33.0],[\"K.Cousins\",2022,34.0],[\"R.Griffin III\",2013,23.0],[\"A.Luck\",2013,23.0],[\"A.Luck\",2014,24.0],[\"R.Tannehill\",2013,25.0],[\"R.Tannehill\",2014,26.0],[\"R.Tannehill\",2015,27.0],[\"R.Tannehill\",2016,28.0],[\"R.Tannehill\",2020,32.0],[\"R.Tannehill\",2021,33.0],[\"R.Tannehill\",2022,34.0],[\"G.Smith\",2014,23.0],[\"T.Bridgewater\",2015,22.0],[\"T.Bridgewater\",2021,28.0],[\"D.Carr\",2015,24.0],[\"D.Carr\",2016,25.0],[\"D.Carr\",2017,26.0],[\"D.Carr\",2018,27.0],[\"D.Carr\",2019,28.0],[\"D.Carr\",2020,29.0],[\"D.Carr\",2021,30.0],[\"D.Carr\",2022,31.0],[\"B.Bortles\",2015,23.0],[\"B.Bortles\",2016,24.0],[\"B.Bortles\",2017,25.0],[\"B.Bortles\",2018,26.0],[\"J.Winston\",2016,22.0],[\"J.Winston\",2017,23.0],[\"M.Mariota\",2016,22.0],[\"M.Mariota\",2017,23.0],[\"M.Mariota\",2018,24.0],[\"C.Wentz\",2017,24.0],[\"C.Wentz\",2020,27.0],[\"C.Wentz\",2021,28.0],[\"D.Prescott\",2017,24.0],[\"D.Prescott\",2018,25.0],[\"D.Prescott\",2019,26.0],[\"D.Prescott\",2022,29.0],[\"J.Goff\",2018,23.0],[\"J.Goff\",2019,24.0],[\"J.Goff\",2020,25.0],[\"J.Goff\",2021,26.0],[\"J.Goff\",2022,27.0],[\"D.Watson\",2019,23.0],[\"D.Watson\",2020,24.0],[\"M.Trubisky\",2018,24.0],[\"M.Trubisky\",2019,25.0],[\"P.Mahomes\",2019,23.0],[\"P.Mahomes\",2020,24.0],[\"P.Mahomes\",2021,25.0],[\"P.Mahomes\",2022,26.0],[\"L.Jackson\",2019,22.0],[\"L.Jackson\",2020,23.0],[\"L.Jackson\",2021,24.0],[\"L.Jackson\",2022,25.0],[\"B.Mayfield\",2019,24.0],[\"B.Mayfield\",2020,25.0],[\"B.Mayfield\",2021,26.0],[\"B.Mayfield\",2022,27.0],[\"J.Allen\",2019,23.0],[\"J.Allen\",2020,24.0],[\"J.Allen\",2021,25.0],[\"J.Allen\",2022,26.0],[\"S.Darnold\",2019,22.0],[\"S.Darnold\",2020,23.0],[\"S.Darnold\",2021,24.0],[\"K.Murray\",2020,23.0],[\"K.Murray\",2021,24.0],[\"D.Jones\",2020,23.0],[\"T.Tagovailoa\",2022,24.0],[\"J.Herbert\",2021,23.0],[\"J.Herbert\",2022,24.0],[\"J.Hurts\",2021,23.0],[\"J.Hurts\",2022,24.0],[\"J.Burrow\",2022,25.0],[\"D.Mills\",2022,23.0],[\"J.Fields\",2022,23.0],[\"T.Lawrence\",2022,22.0],[\"M.Jones\",2022,23.0]],\"hovertemplate\":\"passing_yards_last=%{x}\\u003cbr\\u003epassing_yards=%{y}\\u003cbr\\u003epasser=%{customdata[0]}\\u003cbr\\u003eseason=%{customdata[1]}\\u003cbr\\u003eage=%{customdata[2]}\\u003cextra\\u003e\\u003c\\u002fextra\\u003e\",\"legendgroup\":\"\",\"marker\":{\"color\":\"#636efa\",\"symbol\":\"circle\"},\"mode\":\"markers\",\"name\":\"\",\"orientation\":\"v\",\"showlegend\":false,\"x\":[4659.0,5477.0,4827.0,4343.0,4109.0,4770.0,3554.0,4577.0,4355.0,4057.0,4633.0,5316.0,5177.0,5157.0,4952.0,4870.0,5209.0,4334.0,4018.0,4671.0,4903.0,3828.0,3948.0,3818.0,4410.0,4432.0,4027.0,3468.0,3265.0,4261.0,4952.0,3938.0,3819.0,4251.0,3803.0,3606.0,4478.0,4286.0,4785.0,4386.0,4515.0,4308.0,4615.0,3313.0,3265.0,3486.0,3502.0,4381.0,3821.0,4442.0,4002.0,4299.0,4115.0,2483.0,3905.0,3812.0,4715.0,4515.0,4694.0,4591.0,4944.0,4095.0,4924.0,4466.0,4581.0,3968.0,3817.0,3909.0,4317.0,4967.0,4650.0,4257.0,4262.0,4327.0,4446.0,4084.0,3725.0,3869.0,3379.0,3127.0,3837.0,3509.0,3302.0,3669.0,4293.0,3398.0,3250.0,4206.0,1814.0,3197.0,3031.0,3023.0,3547.0,3118.0,3357.0,3475.0,4024.0,4219.0,3983.0,3448.0,4110.0,4212.0,3113.0,4166.0,4917.0,4093.0,4298.0,3603.0,4265.0,4221.0,3200.0,4374.0,3822.0,3294.0,3913.0,4045.0,4208.0,2742.0,3819.0,3734.0,3046.0,2919.0,3733.0,3270.0,3987.0,3937.0,3496.0,4049.0,4054.0,4103.0,4804.0,2908.0,4428.0,3905.0,3687.0,4042.0,4090.0,2818.0,3426.0,3232.0,3782.0,4039.0,2620.0,3667.0,3324.0,3885.0,4449.0,3804.0,4688.0,4638.0,3952.0,3245.0,4165.0,3852.0,2193.0,3223.0,5097.0,4031.0,4740.0,4839.0,1201.0,3127.0,2757.0,2882.0,3725.0,3827.0,3563.0,3010.0,2074.0,3089.0,4544.0,4407.0,2865.0,3024.0,2208.0,3722.0,3971.0,3027.0,2653.0,4336.0,5014.0,1061.0,3144.0,4611.0,2664.0,1870.0,3627.0,3801.0],\"xaxis\":\"x\",\"y\":[5477.0,4727.0,4343.0,4109.0,4770.0,3554.0,4577.0,4355.0,4057.0,4633.0,5316.0,4694.0,5157.0,4952.0,4870.0,5209.0,4334.0,3992.0,4274.0,4233.0,3828.0,3705.0,3818.0,4410.0,4432.0,4027.0,3468.0,4299.0,4261.0,4952.0,3938.0,3819.0,4251.0,5129.0,3740.0,4478.0,4286.0,4785.0,4386.0,4515.0,4308.0,4615.0,4169.0,3265.0,3486.0,3502.0,4042.0,3821.0,4428.0,4002.0,4299.0,4115.0,3695.0,3905.0,2710.0,3659.0,4515.0,4694.0,4591.0,4944.0,4095.0,4924.0,4466.0,4581.0,3968.0,3057.0,3909.0,3986.0,3141.0,4650.0,4257.0,4262.0,4327.0,4446.0,3777.0,4886.0,3877.0,3379.0,3127.0,3837.0,3509.0,3302.0,3395.0,4293.0,3398.0,3250.0,4206.0,3320.0,3197.0,3369.0,3023.0,2799.0,3890.0,3357.0,3475.0,4024.0,4219.0,3983.0,3448.0,4110.0,4212.0,3113.0,3524.0,4917.0,4093.0,4298.0,3603.0,4265.0,4221.0,4536.0,3203.0,3822.0,4761.0,3913.0,4045.0,4208.0,2995.0,3819.0,3734.0,2536.0,2525.0,3231.0,3052.0,3987.0,3937.0,3496.0,4049.0,4054.0,4103.0,4804.0,3522.0,4428.0,3905.0,3687.0,2718.0,4090.0,3504.0,3426.0,3232.0,2528.0,3296.0,2620.0,3563.0,3324.0,3885.0,4902.0,2860.0,4688.0,4638.0,3952.0,3245.0,4438.0,3852.0,4823.0,3223.0,3138.0,4031.0,4740.0,4839.0,5250.0,3127.0,2757.0,2882.0,2242.0,3827.0,3563.0,3010.0,2163.0,3089.0,4544.0,4407.0,4283.0,3024.0,2208.0,2525.0,3971.0,3787.0,2943.0,3548.0,5014.0,4739.0,3144.0,3701.0,4475.0,3118.0,2242.0,4113.0,2997.0],\"yaxis\":\"y\",\"type\":\"scatter\"}],                        {\"template\":{\"data\":{\"histogram2dcontour\":[{\"type\":\"histogram2dcontour\",\"colorbar\":{\"outlinewidth\":0,\"ticks\":\"\"},\"colorscale\":[[0.0,\"#0d0887\"],[0.1111111111111111,\"#46039f\"],[0.2222222222222222,\"#7201a8\"],[0.3333333333333333,\"#9c179e\"],[0.4444444444444444,\"#bd3786\"],[0.5555555555555556,\"#d8576b\"],[0.6666666666666666,\"#ed7953\"],[0.7777777777777778,\"#fb9f3a\"],[0.8888888888888888,\"#fdca26\"],[1.0,\"#f0f921\"]]}],\"choropleth\":[{\"type\":\"choropleth\",\"colorbar\":{\"outlinewidth\":0,\"ticks\":\"\"}}],\"histogram2d\":[{\"type\":\"histogram2d\",\"colorbar\":{\"outlinewidth\":0,\"ticks\":\"\"},\"colorscale\":[[0.0,\"#0d0887\"],[0.1111111111111111,\"#46039f\"],[0.2222222222222222,\"#7201a8\"],[0.3333333333333333,\"#9c179e\"],[0.4444444444444444,\"#bd3786\"],[0.5555555555555556,\"#d8576b\"],[0.6666666666666666,\"#ed7953\"],[0.7777777777777778,\"#fb9f3a\"],[0.8888888888888888,\"#fdca26\"],[1.0,\"#f0f921\"]]}],\"heatmap\":[{\"type\":\"heatmap\",\"colorbar\":{\"outlinewidth\":0,\"ticks\":\"\"},\"colorscale\":[[0.0,\"#0d0887\"],[0.1111111111111111,\"#46039f\"],[0.2222222222222222,\"#7201a8\"],[0.3333333333333333,\"#9c179e\"],[0.4444444444444444,\"#bd3786\"],[0.5555555555555556,\"#d8576b\"],[0.6666666666666666,\"#ed7953\"],[0.7777777777777778,\"#fb9f3a\"],[0.8888888888888888,\"#fdca26\"],[1.0,\"#f0f921\"]]}],\"heatmapgl\":[{\"type\":\"heatmapgl\",\"colorbar\":{\"outlinewidth\":0,\"ticks\":\"\"},\"colorscale\":[[0.0,\"#0d0887\"],[0.1111111111111111,\"#46039f\"],[0.2222222222222222,\"#7201a8\"],[0.3333333333333333,\"#9c179e\"],[0.4444444444444444,\"#bd3786\"],[0.5555555555555556,\"#d8576b\"],[0.6666666666666666,\"#ed7953\"],[0.7777777777777778,\"#fb9f3a\"],[0.8888888888888888,\"#fdca26\"],[1.0,\"#f0f921\"]]}],\"contourcarpet\":[{\"type\":\"contourcarpet\",\"colorbar\":{\"outlinewidth\":0,\"ticks\":\"\"}}],\"contour\":[{\"type\":\"contour\",\"colorbar\":{\"outlinewidth\":0,\"ticks\":\"\"},\"colorscale\":[[0.0,\"#0d0887\"],[0.1111111111111111,\"#46039f\"],[0.2222222222222222,\"#7201a8\"],[0.3333333333333333,\"#9c179e\"],[0.4444444444444444,\"#bd3786\"],[0.5555555555555556,\"#d8576b\"],[0.6666666666666666,\"#ed7953\"],[0.7777777777777778,\"#fb9f3a\"],[0.8888888888888888,\"#fdca26\"],[1.0,\"#f0f921\"]]}],\"surface\":[{\"type\":\"surface\",\"colorbar\":{\"outlinewidth\":0,\"ticks\":\"\"},\"colorscale\":[[0.0,\"#0d0887\"],[0.1111111111111111,\"#46039f\"],[0.2222222222222222,\"#7201a8\"],[0.3333333333333333,\"#9c179e\"],[0.4444444444444444,\"#bd3786\"],[0.5555555555555556,\"#d8576b\"],[0.6666666666666666,\"#ed7953\"],[0.7777777777777778,\"#fb9f3a\"],[0.8888888888888888,\"#fdca26\"],[1.0,\"#f0f921\"]]}],\"mesh3d\":[{\"type\":\"mesh3d\",\"colorbar\":{\"outlinewidth\":0,\"ticks\":\"\"}}],\"scatter\":[{\"fillpattern\":{\"fillmode\":\"overlay\",\"size\":10,\"solidity\":0.2},\"type\":\"scatter\"}],\"parcoords\":[{\"type\":\"parcoords\",\"line\":{\"colorbar\":{\"outlinewidth\":0,\"ticks\":\"\"}}}],\"scatterpolargl\":[{\"type\":\"scatterpolargl\",\"marker\":{\"colorbar\":{\"outlinewidth\":0,\"ticks\":\"\"}}}],\"bar\":[{\"error_x\":{\"color\":\"#2a3f5f\"},\"error_y\":{\"color\":\"#2a3f5f\"},\"marker\":{\"line\":{\"color\":\"#E5ECF6\",\"width\":0.5},\"pattern\":{\"fillmode\":\"overlay\",\"size\":10,\"solidity\":0.2}},\"type\":\"bar\"}],\"scattergeo\":[{\"type\":\"scattergeo\",\"marker\":{\"colorbar\":{\"outlinewidth\":0,\"ticks\":\"\"}}}],\"scatterpolar\":[{\"type\":\"scatterpolar\",\"marker\":{\"colorbar\":{\"outlinewidth\":0,\"ticks\":\"\"}}}],\"histogram\":[{\"marker\":{\"pattern\":{\"fillmode\":\"overlay\",\"size\":10,\"solidity\":0.2}},\"type\":\"histogram\"}],\"scattergl\":[{\"type\":\"scattergl\",\"marker\":{\"colorbar\":{\"outlinewidth\":0,\"ticks\":\"\"}}}],\"scatter3d\":[{\"type\":\"scatter3d\",\"line\":{\"colorbar\":{\"outlinewidth\":0,\"ticks\":\"\"}},\"marker\":{\"colorbar\":{\"outlinewidth\":0,\"ticks\":\"\"}}}],\"scattermapbox\":[{\"type\":\"scattermapbox\",\"marker\":{\"colorbar\":{\"outlinewidth\":0,\"ticks\":\"\"}}}],\"scatterternary\":[{\"type\":\"scatterternary\",\"marker\":{\"colorbar\":{\"outlinewidth\":0,\"ticks\":\"\"}}}],\"scattercarpet\":[{\"type\":\"scattercarpet\",\"marker\":{\"colorbar\":{\"outlinewidth\":0,\"ticks\":\"\"}}}],\"carpet\":[{\"aaxis\":{\"endlinecolor\":\"#2a3f5f\",\"gridcolor\":\"white\",\"linecolor\":\"white\",\"minorgridcolor\":\"white\",\"startlinecolor\":\"#2a3f5f\"},\"baxis\":{\"endlinecolor\":\"#2a3f5f\",\"gridcolor\":\"white\",\"linecolor\":\"white\",\"minorgridcolor\":\"white\",\"startlinecolor\":\"#2a3f5f\"},\"type\":\"carpet\"}],\"table\":[{\"cells\":{\"fill\":{\"color\":\"#EBF0F8\"},\"line\":{\"color\":\"white\"}},\"header\":{\"fill\":{\"color\":\"#C8D4E3\"},\"line\":{\"color\":\"white\"}},\"type\":\"table\"}],\"barpolar\":[{\"marker\":{\"line\":{\"color\":\"#E5ECF6\",\"width\":0.5},\"pattern\":{\"fillmode\":\"overlay\",\"size\":10,\"solidity\":0.2}},\"type\":\"barpolar\"}],\"pie\":[{\"automargin\":true,\"type\":\"pie\"}]},\"layout\":{\"autotypenumbers\":\"strict\",\"colorway\":[\"#636efa\",\"#EF553B\",\"#00cc96\",\"#ab63fa\",\"#FFA15A\",\"#19d3f3\",\"#FF6692\",\"#B6E880\",\"#FF97FF\",\"#FECB52\"],\"font\":{\"color\":\"#2a3f5f\"},\"hovermode\":\"closest\",\"hoverlabel\":{\"align\":\"left\"},\"paper_bgcolor\":\"white\",\"plot_bgcolor\":\"#E5ECF6\",\"polar\":{\"bgcolor\":\"#E5ECF6\",\"angularaxis\":{\"gridcolor\":\"white\",\"linecolor\":\"white\",\"ticks\":\"\"},\"radialaxis\":{\"gridcolor\":\"white\",\"linecolor\":\"white\",\"ticks\":\"\"}},\"ternary\":{\"bgcolor\":\"#E5ECF6\",\"aaxis\":{\"gridcolor\":\"white\",\"linecolor\":\"white\",\"ticks\":\"\"},\"baxis\":{\"gridcolor\":\"white\",\"linecolor\":\"white\",\"ticks\":\"\"},\"caxis\":{\"gridcolor\":\"white\",\"linecolor\":\"white\",\"ticks\":\"\"}},\"coloraxis\":{\"colorbar\":{\"outlinewidth\":0,\"ticks\":\"\"}},\"colorscale\":{\"sequential\":[[0.0,\"#0d0887\"],[0.1111111111111111,\"#46039f\"],[0.2222222222222222,\"#7201a8\"],[0.3333333333333333,\"#9c179e\"],[0.4444444444444444,\"#bd3786\"],[0.5555555555555556,\"#d8576b\"],[0.6666666666666666,\"#ed7953\"],[0.7777777777777778,\"#fb9f3a\"],[0.8888888888888888,\"#fdca26\"],[1.0,\"#f0f921\"]],\"sequentialminus\":[[0.0,\"#0d0887\"],[0.1111111111111111,\"#46039f\"],[0.2222222222222222,\"#7201a8\"],[0.3333333333333333,\"#9c179e\"],[0.4444444444444444,\"#bd3786\"],[0.5555555555555556,\"#d8576b\"],[0.6666666666666666,\"#ed7953\"],[0.7777777777777778,\"#fb9f3a\"],[0.8888888888888888,\"#fdca26\"],[1.0,\"#f0f921\"]],\"diverging\":[[0,\"#8e0152\"],[0.1,\"#c51b7d\"],[0.2,\"#de77ae\"],[0.3,\"#f1b6da\"],[0.4,\"#fde0ef\"],[0.5,\"#f7f7f7\"],[0.6,\"#e6f5d0\"],[0.7,\"#b8e186\"],[0.8,\"#7fbc41\"],[0.9,\"#4d9221\"],[1,\"#276419\"]]},\"xaxis\":{\"gridcolor\":\"white\",\"linecolor\":\"white\",\"ticks\":\"\",\"title\":{\"standoff\":15},\"zerolinecolor\":\"white\",\"automargin\":true,\"zerolinewidth\":2},\"yaxis\":{\"gridcolor\":\"white\",\"linecolor\":\"white\",\"ticks\":\"\",\"title\":{\"standoff\":15},\"zerolinecolor\":\"white\",\"automargin\":true,\"zerolinewidth\":2},\"scene\":{\"xaxis\":{\"backgroundcolor\":\"#E5ECF6\",\"gridcolor\":\"white\",\"linecolor\":\"white\",\"showbackground\":true,\"ticks\":\"\",\"zerolinecolor\":\"white\",\"gridwidth\":2},\"yaxis\":{\"backgroundcolor\":\"#E5ECF6\",\"gridcolor\":\"white\",\"linecolor\":\"white\",\"showbackground\":true,\"ticks\":\"\",\"zerolinecolor\":\"white\",\"gridwidth\":2},\"zaxis\":{\"backgroundcolor\":\"#E5ECF6\",\"gridcolor\":\"white\",\"linecolor\":\"white\",\"showbackground\":true,\"ticks\":\"\",\"zerolinecolor\":\"white\",\"gridwidth\":2}},\"shapedefaults\":{\"line\":{\"color\":\"#2a3f5f\"}},\"annotationdefaults\":{\"arrowcolor\":\"#2a3f5f\",\"arrowhead\":0,\"arrowwidth\":1},\"geo\":{\"bgcolor\":\"white\",\"landcolor\":\"#E5ECF6\",\"subunitcolor\":\"white\",\"showland\":true,\"showlakes\":true,\"lakecolor\":\"white\"},\"title\":{\"x\":0.05},\"mapbox\":{\"style\":\"light\"}}},\"xaxis\":{\"anchor\":\"y\",\"domain\":[0.0,1.0],\"title\":{\"text\":\"passing_yards_last\"}},\"yaxis\":{\"anchor\":\"x\",\"domain\":[0.0,1.0],\"title\":{\"text\":\"passing_yards\"}},\"legend\":{\"tracegroupgap\":0},\"margin\":{\"t\":60}},                        {\"responsive\": true}                    ).then(function(){\n",
       "                            \n",
       "var gd = document.getElementById('8f25387e-c638-4854-8581-cce163ea1ec3');\n",
       "var x = new MutationObserver(function (mutations, observer) {{\n",
       "        var display = window.getComputedStyle(gd).display;\n",
       "        if (!display || display === 'none') {{\n",
       "            console.log([gd, 'removed!']);\n",
       "            Plotly.purge(gd);\n",
       "            observer.disconnect();\n",
       "        }}\n",
       "}});\n",
       "\n",
       "// Listen for the removal of the full notebook cells\n",
       "var notebookContainer = gd.closest('#notebook-container');\n",
       "if (notebookContainer) {{\n",
       "    x.observe(notebookContainer, {childList: true});\n",
       "}}\n",
       "\n",
       "// Listen for the clearing of the current output cell\n",
       "var outputEl = gd.closest('.output');\n",
       "if (outputEl) {{\n",
       "    x.observe(outputEl, {childList: true});\n",
       "}}\n",
       "\n",
       "                        })                };                });            </script>        </div>"
      ]
     },
     "metadata": {},
     "output_type": "display_data"
    }
   ],
   "source": [
    "fig = px.scatter(df, x=\"passing_yards_last\", y=\"passing_yards\",\n",
    "                 hover_data=[\"passer\", \"season\", \"age\"]\n",
    "                )\n",
    "fig.show()"
   ]
  },
  {
   "cell_type": "markdown",
   "id": "da8bda63",
   "metadata": {},
   "source": [
    "## Touchdowns"
   ]
  },
  {
   "cell_type": "code",
   "execution_count": 45,
   "id": "e8429488",
   "metadata": {},
   "outputs": [
    {
     "data": {
      "text/html": [
       "<div>\n",
       "<style scoped>\n",
       "    .dataframe tbody tr th:only-of-type {\n",
       "        vertical-align: middle;\n",
       "    }\n",
       "\n",
       "    .dataframe tbody tr th {\n",
       "        vertical-align: top;\n",
       "    }\n",
       "\n",
       "    .dataframe thead th {\n",
       "        text-align: right;\n",
       "    }\n",
       "</style>\n",
       "<table border=\"1\" class=\"dataframe\">\n",
       "  <thead>\n",
       "    <tr style=\"text-align: right;\">\n",
       "      <th></th>\n",
       "      <th>passing_touchdowns</th>\n",
       "      <th>passing_touchdowns_last</th>\n",
       "    </tr>\n",
       "  </thead>\n",
       "  <tbody>\n",
       "    <tr>\n",
       "      <th>passing_touchdowns</th>\n",
       "      <td>1.000000</td>\n",
       "      <td>0.366087</td>\n",
       "    </tr>\n",
       "    <tr>\n",
       "      <th>passing_touchdowns_last</th>\n",
       "      <td>0.366087</td>\n",
       "      <td>1.000000</td>\n",
       "    </tr>\n",
       "  </tbody>\n",
       "</table>\n",
       "</div>"
      ],
      "text/plain": [
       "                         passing_touchdowns  passing_touchdowns_last\n",
       "passing_touchdowns                 1.000000                 0.366087\n",
       "passing_touchdowns_last            0.366087                 1.000000"
      ]
     },
     "execution_count": 45,
     "metadata": {},
     "output_type": "execute_result"
    }
   ],
   "source": [
    "df[[\"passing_touchdowns\", \"passing_touchdowns_last\"]].corr()"
   ]
  },
  {
   "cell_type": "code",
   "execution_count": 42,
   "id": "433567aa",
   "metadata": {},
   "outputs": [
    {
     "data": {
      "application/vnd.plotly.v1+json": {
       "config": {
        "plotlyServerURL": "https://plot.ly"
       },
       "data": [
        {
         "customdata": [
          [
           "P.Manning",
           2013,
           37
          ],
          [
           "P.Manning",
           2014,
           38
          ],
          [
           "T.Brady",
           2013,
           36
          ],
          [
           "T.Brady",
           2014,
           37
          ],
          [
           "T.Brady",
           2015,
           38
          ],
          [
           "T.Brady",
           2016,
           39
          ],
          [
           "T.Brady",
           2017,
           40
          ],
          [
           "T.Brady",
           2018,
           41
          ],
          [
           "T.Brady",
           2019,
           42
          ],
          [
           "T.Brady",
           2020,
           43
          ],
          [
           "T.Brady",
           2021,
           44
          ],
          [
           "T.Brady",
           2022,
           45
          ],
          [
           "D.Brees",
           2013,
           34
          ],
          [
           "D.Brees",
           2014,
           35
          ],
          [
           "D.Brees",
           2015,
           36
          ],
          [
           "D.Brees",
           2016,
           37
          ],
          [
           "D.Brees",
           2017,
           38
          ],
          [
           "D.Brees",
           2018,
           39
          ],
          [
           "C.Palmer",
           2013,
           33
          ],
          [
           "C.Palmer",
           2016,
           36
          ],
          [
           "T.Romo",
           2013,
           33
          ],
          [
           "T.Romo",
           2014,
           34
          ],
          [
           "E.Manning",
           2013,
           32
          ],
          [
           "E.Manning",
           2014,
           33
          ],
          [
           "E.Manning",
           2015,
           34
          ],
          [
           "E.Manning",
           2016,
           35
          ],
          [
           "E.Manning",
           2017,
           36
          ],
          [
           "E.Manning",
           2018,
           37
          ],
          [
           "B.Roethlisberger",
           2013,
           31
          ],
          [
           "B.Roethlisberger",
           2014,
           32
          ],
          [
           "B.Roethlisberger",
           2015,
           33
          ],
          [
           "B.Roethlisberger",
           2016,
           34
          ],
          [
           "B.Roethlisberger",
           2017,
           35
          ],
          [
           "B.Roethlisberger",
           2018,
           36
          ],
          [
           "B.Roethlisberger",
           2021,
           39
          ],
          [
           "P.Rivers",
           2013,
           31
          ],
          [
           "P.Rivers",
           2014,
           32
          ],
          [
           "P.Rivers",
           2015,
           33
          ],
          [
           "P.Rivers",
           2016,
           34
          ],
          [
           "P.Rivers",
           2017,
           35
          ],
          [
           "P.Rivers",
           2018,
           36
          ],
          [
           "P.Rivers",
           2019,
           37
          ],
          [
           "P.Rivers",
           2020,
           38
          ],
          [
           "A.Smith",
           2014,
           30
          ],
          [
           "A.Smith",
           2015,
           31
          ],
          [
           "A.Smith",
           2016,
           32
          ],
          [
           "A.Smith",
           2017,
           33
          ],
          [
           "A.Rodgers",
           2015,
           31
          ],
          [
           "A.Rodgers",
           2016,
           32
          ],
          [
           "A.Rodgers",
           2019,
           35
          ],
          [
           "A.Rodgers",
           2020,
           36
          ],
          [
           "A.Rodgers",
           2021,
           37
          ],
          [
           "A.Rodgers",
           2022,
           38
          ],
          [
           "R.Fitzpatrick",
           2015,
           32
          ],
          [
           "R.Fitzpatrick",
           2016,
           33
          ],
          [
           "J.Cutler",
           2015,
           32
          ],
          [
           "M.Ryan",
           2013,
           28
          ],
          [
           "M.Ryan",
           2014,
           29
          ],
          [
           "M.Ryan",
           2015,
           30
          ],
          [
           "M.Ryan",
           2016,
           31
          ],
          [
           "M.Ryan",
           2017,
           32
          ],
          [
           "M.Ryan",
           2018,
           33
          ],
          [
           "M.Ryan",
           2019,
           34
          ],
          [
           "M.Ryan",
           2020,
           35
          ],
          [
           "M.Ryan",
           2021,
           36
          ],
          [
           "M.Ryan",
           2022,
           37
          ],
          [
           "J.Flacco",
           2013,
           28
          ],
          [
           "J.Flacco",
           2014,
           29
          ],
          [
           "J.Flacco",
           2017,
           32
          ],
          [
           "M.Stafford",
           2013,
           25
          ],
          [
           "M.Stafford",
           2014,
           26
          ],
          [
           "M.Stafford",
           2015,
           27
          ],
          [
           "M.Stafford",
           2016,
           28
          ],
          [
           "M.Stafford",
           2017,
           29
          ],
          [
           "M.Stafford",
           2018,
           30
          ],
          [
           "M.Stafford",
           2021,
           33
          ],
          [
           "S.Bradford",
           2016,
           28
          ],
          [
           "C.Newton",
           2013,
           24
          ],
          [
           "C.Newton",
           2014,
           25
          ],
          [
           "C.Newton",
           2015,
           26
          ],
          [
           "C.Newton",
           2016,
           27
          ],
          [
           "C.Newton",
           2017,
           28
          ],
          [
           "C.Newton",
           2018,
           29
          ],
          [
           "A.Dalton",
           2013,
           25
          ],
          [
           "A.Dalton",
           2014,
           26
          ],
          [
           "A.Dalton",
           2015,
           27
          ],
          [
           "A.Dalton",
           2016,
           28
          ],
          [
           "A.Dalton",
           2017,
           29
          ],
          [
           "C.Kaepernick",
           2013,
           25
          ],
          [
           "C.Kaepernick",
           2014,
           26
          ],
          [
           "T.Taylor",
           2016,
           27
          ],
          [
           "T.Taylor",
           2017,
           28
          ],
          [
           "C.Keenum",
           2018,
           30
          ],
          [
           "R.Wilson",
           2013,
           24
          ],
          [
           "R.Wilson",
           2014,
           25
          ],
          [
           "R.Wilson",
           2015,
           26
          ],
          [
           "R.Wilson",
           2016,
           27
          ],
          [
           "R.Wilson",
           2017,
           28
          ],
          [
           "R.Wilson",
           2018,
           29
          ],
          [
           "R.Wilson",
           2019,
           30
          ],
          [
           "R.Wilson",
           2020,
           31
          ],
          [
           "R.Wilson",
           2021,
           32
          ],
          [
           "R.Wilson",
           2022,
           33
          ],
          [
           "K.Cousins",
           2016,
           28
          ],
          [
           "K.Cousins",
           2017,
           29
          ],
          [
           "K.Cousins",
           2018,
           30
          ],
          [
           "K.Cousins",
           2019,
           31
          ],
          [
           "K.Cousins",
           2020,
           32
          ],
          [
           "K.Cousins",
           2021,
           33
          ],
          [
           "K.Cousins",
           2022,
           34
          ],
          [
           "R.Griffin III",
           2013,
           23
          ],
          [
           "A.Luck",
           2013,
           23
          ],
          [
           "A.Luck",
           2014,
           24
          ],
          [
           "R.Tannehill",
           2013,
           25
          ],
          [
           "R.Tannehill",
           2014,
           26
          ],
          [
           "R.Tannehill",
           2015,
           27
          ],
          [
           "R.Tannehill",
           2016,
           28
          ],
          [
           "R.Tannehill",
           2020,
           32
          ],
          [
           "R.Tannehill",
           2021,
           33
          ],
          [
           "R.Tannehill",
           2022,
           34
          ],
          [
           "G.Smith",
           2014,
           23
          ],
          [
           "T.Bridgewater",
           2015,
           22
          ],
          [
           "T.Bridgewater",
           2021,
           28
          ],
          [
           "D.Carr",
           2015,
           24
          ],
          [
           "D.Carr",
           2016,
           25
          ],
          [
           "D.Carr",
           2017,
           26
          ],
          [
           "D.Carr",
           2018,
           27
          ],
          [
           "D.Carr",
           2019,
           28
          ],
          [
           "D.Carr",
           2020,
           29
          ],
          [
           "D.Carr",
           2021,
           30
          ],
          [
           "D.Carr",
           2022,
           31
          ],
          [
           "B.Bortles",
           2015,
           23
          ],
          [
           "B.Bortles",
           2016,
           24
          ],
          [
           "B.Bortles",
           2017,
           25
          ],
          [
           "B.Bortles",
           2018,
           26
          ],
          [
           "J.Winston",
           2016,
           22
          ],
          [
           "J.Winston",
           2017,
           23
          ],
          [
           "M.Mariota",
           2016,
           22
          ],
          [
           "M.Mariota",
           2017,
           23
          ],
          [
           "M.Mariota",
           2018,
           24
          ],
          [
           "C.Wentz",
           2017,
           24
          ],
          [
           "C.Wentz",
           2020,
           27
          ],
          [
           "C.Wentz",
           2021,
           28
          ],
          [
           "D.Prescott",
           2017,
           24
          ],
          [
           "D.Prescott",
           2018,
           25
          ],
          [
           "D.Prescott",
           2019,
           26
          ],
          [
           "D.Prescott",
           2022,
           29
          ],
          [
           "J.Goff",
           2018,
           23
          ],
          [
           "J.Goff",
           2019,
           24
          ],
          [
           "J.Goff",
           2020,
           25
          ],
          [
           "J.Goff",
           2021,
           26
          ],
          [
           "J.Goff",
           2022,
           27
          ],
          [
           "D.Watson",
           2019,
           23
          ],
          [
           "D.Watson",
           2020,
           24
          ],
          [
           "M.Trubisky",
           2018,
           24
          ],
          [
           "M.Trubisky",
           2019,
           25
          ],
          [
           "P.Mahomes",
           2019,
           23
          ],
          [
           "P.Mahomes",
           2020,
           24
          ],
          [
           "P.Mahomes",
           2021,
           25
          ],
          [
           "P.Mahomes",
           2022,
           26
          ],
          [
           "L.Jackson",
           2019,
           22
          ],
          [
           "L.Jackson",
           2020,
           23
          ],
          [
           "L.Jackson",
           2021,
           24
          ],
          [
           "L.Jackson",
           2022,
           25
          ],
          [
           "B.Mayfield",
           2019,
           24
          ],
          [
           "B.Mayfield",
           2020,
           25
          ],
          [
           "B.Mayfield",
           2021,
           26
          ],
          [
           "B.Mayfield",
           2022,
           27
          ],
          [
           "J.Allen",
           2019,
           23
          ],
          [
           "J.Allen",
           2020,
           24
          ],
          [
           "J.Allen",
           2021,
           25
          ],
          [
           "J.Allen",
           2022,
           26
          ],
          [
           "S.Darnold",
           2019,
           22
          ],
          [
           "S.Darnold",
           2020,
           23
          ],
          [
           "S.Darnold",
           2021,
           24
          ],
          [
           "K.Murray",
           2020,
           23
          ],
          [
           "K.Murray",
           2021,
           24
          ],
          [
           "D.Jones",
           2020,
           23
          ],
          [
           "T.Tagovailoa",
           2022,
           24
          ],
          [
           "J.Herbert",
           2021,
           23
          ],
          [
           "J.Herbert",
           2022,
           24
          ],
          [
           "J.Hurts",
           2021,
           23
          ],
          [
           "J.Hurts",
           2022,
           24
          ],
          [
           "J.Burrow",
           2022,
           25
          ],
          [
           "D.Mills",
           2022,
           23
          ],
          [
           "J.Fields",
           2022,
           23
          ],
          [
           "T.Lawrence",
           2022,
           22
          ],
          [
           "M.Jones",
           2022,
           23
          ]
         ],
         "hovertemplate": "passing_touchdowns_last=%{x}<br>passing_touchdowns=%{y}<br>passer=%{customdata[0]}<br>season=%{customdata[1]}<br>age=%{customdata[2]}<extra></extra>",
         "legendgroup": "",
         "marker": {
          "color": "#636efa",
          "symbol": "circle"
         },
         "mode": "markers",
         "name": "",
         "orientation": "v",
         "showlegend": false,
         "type": "scatter",
         "x": [
          37,
          55,
          34,
          25,
          33,
          36,
          28,
          32,
          29,
          24,
          40,
          43,
          43,
          39,
          33,
          32,
          37,
          23,
          22,
          35,
          28,
          31,
          26,
          18,
          30,
          35,
          26,
          19,
          26,
          28,
          32,
          21,
          29,
          28,
          33,
          26,
          32,
          31,
          29,
          33,
          28,
          32,
          23,
          23,
          18,
          20,
          15,
          38,
          31,
          25,
          26,
          48,
          37,
          17,
          31,
          28,
          31,
          26,
          28,
          21,
          38,
          20,
          35,
          26,
          26,
          20,
          22,
          19,
          20,
          20,
          29,
          22,
          32,
          24,
          29,
          26,
          19,
          19,
          24,
          18,
          35,
          19,
          22,
          27,
          33,
          19,
          25,
          18,
          10,
          21,
          20,
          17,
          22,
          26,
          26,
          20,
          34,
          21,
          34,
          35,
          31,
          40,
          25,
          29,
          25,
          27,
          30,
          26,
          35,
          33,
          20,
          23,
          23,
          12,
          24,
          27,
          24,
          22,
          33,
          21,
          12,
          14,
          15,
          21,
          32,
          28,
          22,
          19,
          21,
          27,
          23,
          11,
          35,
          23,
          21,
          22,
          28,
          19,
          26,
          13,
          16,
          27,
          16,
          23,
          22,
          22,
          37,
          28,
          32,
          22,
          20,
          19,
          26,
          26,
          7,
          24,
          50,
          26,
          38,
          37,
          6,
          36,
          26,
          16,
          27,
          22,
          26,
          17,
          10,
          20,
          37,
          36,
          17,
          19,
          9,
          20,
          26,
          24,
          16,
          31,
          38,
          6,
          16,
          34,
          16,
          7,
          12,
          22
         ],
         "xaxis": "x",
         "y": [
          55,
          39,
          25,
          33,
          36,
          28,
          32,
          29,
          24,
          40,
          43,
          25,
          39,
          33,
          32,
          37,
          23,
          32,
          24,
          26,
          31,
          34,
          18,
          30,
          35,
          26,
          19,
          21,
          28,
          32,
          21,
          29,
          28,
          34,
          22,
          32,
          31,
          29,
          33,
          28,
          32,
          23,
          24,
          18,
          20,
          15,
          26,
          31,
          40,
          26,
          48,
          37,
          26,
          31,
          12,
          21,
          26,
          28,
          21,
          38,
          20,
          35,
          26,
          26,
          20,
          14,
          19,
          27,
          18,
          29,
          22,
          32,
          24,
          29,
          21,
          41,
          20,
          24,
          18,
          35,
          19,
          22,
          24,
          33,
          19,
          25,
          18,
          25,
          21,
          19,
          17,
          14,
          18,
          26,
          20,
          34,
          21,
          34,
          35,
          31,
          40,
          25,
          16,
          25,
          27,
          30,
          26,
          35,
          33,
          29,
          16,
          23,
          40,
          24,
          27,
          24,
          19,
          33,
          21,
          13,
          13,
          14,
          18,
          32,
          28,
          22,
          19,
          21,
          27,
          23,
          24,
          35,
          23,
          21,
          13,
          28,
          19,
          26,
          13,
          11,
          33,
          16,
          27,
          22,
          22,
          30,
          23,
          32,
          22,
          20,
          19,
          29,
          26,
          33,
          24,
          17,
          26,
          38,
          37,
          41,
          36,
          26,
          16,
          17,
          22,
          26,
          17,
          10,
          20,
          37,
          36,
          35,
          19,
          9,
          8,
          26,
          24,
          11,
          25,
          38,
          25,
          16,
          22,
          35,
          17,
          17,
          25,
          14
         ],
         "yaxis": "y"
        }
       ],
       "layout": {
        "legend": {
         "tracegroupgap": 0
        },
        "margin": {
         "t": 60
        },
        "template": {
         "data": {
          "bar": [
           {
            "error_x": {
             "color": "#2a3f5f"
            },
            "error_y": {
             "color": "#2a3f5f"
            },
            "marker": {
             "line": {
              "color": "#E5ECF6",
              "width": 0.5
             },
             "pattern": {
              "fillmode": "overlay",
              "size": 10,
              "solidity": 0.2
             }
            },
            "type": "bar"
           }
          ],
          "barpolar": [
           {
            "marker": {
             "line": {
              "color": "#E5ECF6",
              "width": 0.5
             },
             "pattern": {
              "fillmode": "overlay",
              "size": 10,
              "solidity": 0.2
             }
            },
            "type": "barpolar"
           }
          ],
          "carpet": [
           {
            "aaxis": {
             "endlinecolor": "#2a3f5f",
             "gridcolor": "white",
             "linecolor": "white",
             "minorgridcolor": "white",
             "startlinecolor": "#2a3f5f"
            },
            "baxis": {
             "endlinecolor": "#2a3f5f",
             "gridcolor": "white",
             "linecolor": "white",
             "minorgridcolor": "white",
             "startlinecolor": "#2a3f5f"
            },
            "type": "carpet"
           }
          ],
          "choropleth": [
           {
            "colorbar": {
             "outlinewidth": 0,
             "ticks": ""
            },
            "type": "choropleth"
           }
          ],
          "contour": [
           {
            "colorbar": {
             "outlinewidth": 0,
             "ticks": ""
            },
            "colorscale": [
             [
              0,
              "#0d0887"
             ],
             [
              0.1111111111111111,
              "#46039f"
             ],
             [
              0.2222222222222222,
              "#7201a8"
             ],
             [
              0.3333333333333333,
              "#9c179e"
             ],
             [
              0.4444444444444444,
              "#bd3786"
             ],
             [
              0.5555555555555556,
              "#d8576b"
             ],
             [
              0.6666666666666666,
              "#ed7953"
             ],
             [
              0.7777777777777778,
              "#fb9f3a"
             ],
             [
              0.8888888888888888,
              "#fdca26"
             ],
             [
              1,
              "#f0f921"
             ]
            ],
            "type": "contour"
           }
          ],
          "contourcarpet": [
           {
            "colorbar": {
             "outlinewidth": 0,
             "ticks": ""
            },
            "type": "contourcarpet"
           }
          ],
          "heatmap": [
           {
            "colorbar": {
             "outlinewidth": 0,
             "ticks": ""
            },
            "colorscale": [
             [
              0,
              "#0d0887"
             ],
             [
              0.1111111111111111,
              "#46039f"
             ],
             [
              0.2222222222222222,
              "#7201a8"
             ],
             [
              0.3333333333333333,
              "#9c179e"
             ],
             [
              0.4444444444444444,
              "#bd3786"
             ],
             [
              0.5555555555555556,
              "#d8576b"
             ],
             [
              0.6666666666666666,
              "#ed7953"
             ],
             [
              0.7777777777777778,
              "#fb9f3a"
             ],
             [
              0.8888888888888888,
              "#fdca26"
             ],
             [
              1,
              "#f0f921"
             ]
            ],
            "type": "heatmap"
           }
          ],
          "heatmapgl": [
           {
            "colorbar": {
             "outlinewidth": 0,
             "ticks": ""
            },
            "colorscale": [
             [
              0,
              "#0d0887"
             ],
             [
              0.1111111111111111,
              "#46039f"
             ],
             [
              0.2222222222222222,
              "#7201a8"
             ],
             [
              0.3333333333333333,
              "#9c179e"
             ],
             [
              0.4444444444444444,
              "#bd3786"
             ],
             [
              0.5555555555555556,
              "#d8576b"
             ],
             [
              0.6666666666666666,
              "#ed7953"
             ],
             [
              0.7777777777777778,
              "#fb9f3a"
             ],
             [
              0.8888888888888888,
              "#fdca26"
             ],
             [
              1,
              "#f0f921"
             ]
            ],
            "type": "heatmapgl"
           }
          ],
          "histogram": [
           {
            "marker": {
             "pattern": {
              "fillmode": "overlay",
              "size": 10,
              "solidity": 0.2
             }
            },
            "type": "histogram"
           }
          ],
          "histogram2d": [
           {
            "colorbar": {
             "outlinewidth": 0,
             "ticks": ""
            },
            "colorscale": [
             [
              0,
              "#0d0887"
             ],
             [
              0.1111111111111111,
              "#46039f"
             ],
             [
              0.2222222222222222,
              "#7201a8"
             ],
             [
              0.3333333333333333,
              "#9c179e"
             ],
             [
              0.4444444444444444,
              "#bd3786"
             ],
             [
              0.5555555555555556,
              "#d8576b"
             ],
             [
              0.6666666666666666,
              "#ed7953"
             ],
             [
              0.7777777777777778,
              "#fb9f3a"
             ],
             [
              0.8888888888888888,
              "#fdca26"
             ],
             [
              1,
              "#f0f921"
             ]
            ],
            "type": "histogram2d"
           }
          ],
          "histogram2dcontour": [
           {
            "colorbar": {
             "outlinewidth": 0,
             "ticks": ""
            },
            "colorscale": [
             [
              0,
              "#0d0887"
             ],
             [
              0.1111111111111111,
              "#46039f"
             ],
             [
              0.2222222222222222,
              "#7201a8"
             ],
             [
              0.3333333333333333,
              "#9c179e"
             ],
             [
              0.4444444444444444,
              "#bd3786"
             ],
             [
              0.5555555555555556,
              "#d8576b"
             ],
             [
              0.6666666666666666,
              "#ed7953"
             ],
             [
              0.7777777777777778,
              "#fb9f3a"
             ],
             [
              0.8888888888888888,
              "#fdca26"
             ],
             [
              1,
              "#f0f921"
             ]
            ],
            "type": "histogram2dcontour"
           }
          ],
          "mesh3d": [
           {
            "colorbar": {
             "outlinewidth": 0,
             "ticks": ""
            },
            "type": "mesh3d"
           }
          ],
          "parcoords": [
           {
            "line": {
             "colorbar": {
              "outlinewidth": 0,
              "ticks": ""
             }
            },
            "type": "parcoords"
           }
          ],
          "pie": [
           {
            "automargin": true,
            "type": "pie"
           }
          ],
          "scatter": [
           {
            "fillpattern": {
             "fillmode": "overlay",
             "size": 10,
             "solidity": 0.2
            },
            "type": "scatter"
           }
          ],
          "scatter3d": [
           {
            "line": {
             "colorbar": {
              "outlinewidth": 0,
              "ticks": ""
             }
            },
            "marker": {
             "colorbar": {
              "outlinewidth": 0,
              "ticks": ""
             }
            },
            "type": "scatter3d"
           }
          ],
          "scattercarpet": [
           {
            "marker": {
             "colorbar": {
              "outlinewidth": 0,
              "ticks": ""
             }
            },
            "type": "scattercarpet"
           }
          ],
          "scattergeo": [
           {
            "marker": {
             "colorbar": {
              "outlinewidth": 0,
              "ticks": ""
             }
            },
            "type": "scattergeo"
           }
          ],
          "scattergl": [
           {
            "marker": {
             "colorbar": {
              "outlinewidth": 0,
              "ticks": ""
             }
            },
            "type": "scattergl"
           }
          ],
          "scattermapbox": [
           {
            "marker": {
             "colorbar": {
              "outlinewidth": 0,
              "ticks": ""
             }
            },
            "type": "scattermapbox"
           }
          ],
          "scatterpolar": [
           {
            "marker": {
             "colorbar": {
              "outlinewidth": 0,
              "ticks": ""
             }
            },
            "type": "scatterpolar"
           }
          ],
          "scatterpolargl": [
           {
            "marker": {
             "colorbar": {
              "outlinewidth": 0,
              "ticks": ""
             }
            },
            "type": "scatterpolargl"
           }
          ],
          "scatterternary": [
           {
            "marker": {
             "colorbar": {
              "outlinewidth": 0,
              "ticks": ""
             }
            },
            "type": "scatterternary"
           }
          ],
          "surface": [
           {
            "colorbar": {
             "outlinewidth": 0,
             "ticks": ""
            },
            "colorscale": [
             [
              0,
              "#0d0887"
             ],
             [
              0.1111111111111111,
              "#46039f"
             ],
             [
              0.2222222222222222,
              "#7201a8"
             ],
             [
              0.3333333333333333,
              "#9c179e"
             ],
             [
              0.4444444444444444,
              "#bd3786"
             ],
             [
              0.5555555555555556,
              "#d8576b"
             ],
             [
              0.6666666666666666,
              "#ed7953"
             ],
             [
              0.7777777777777778,
              "#fb9f3a"
             ],
             [
              0.8888888888888888,
              "#fdca26"
             ],
             [
              1,
              "#f0f921"
             ]
            ],
            "type": "surface"
           }
          ],
          "table": [
           {
            "cells": {
             "fill": {
              "color": "#EBF0F8"
             },
             "line": {
              "color": "white"
             }
            },
            "header": {
             "fill": {
              "color": "#C8D4E3"
             },
             "line": {
              "color": "white"
             }
            },
            "type": "table"
           }
          ]
         },
         "layout": {
          "annotationdefaults": {
           "arrowcolor": "#2a3f5f",
           "arrowhead": 0,
           "arrowwidth": 1
          },
          "autotypenumbers": "strict",
          "coloraxis": {
           "colorbar": {
            "outlinewidth": 0,
            "ticks": ""
           }
          },
          "colorscale": {
           "diverging": [
            [
             0,
             "#8e0152"
            ],
            [
             0.1,
             "#c51b7d"
            ],
            [
             0.2,
             "#de77ae"
            ],
            [
             0.3,
             "#f1b6da"
            ],
            [
             0.4,
             "#fde0ef"
            ],
            [
             0.5,
             "#f7f7f7"
            ],
            [
             0.6,
             "#e6f5d0"
            ],
            [
             0.7,
             "#b8e186"
            ],
            [
             0.8,
             "#7fbc41"
            ],
            [
             0.9,
             "#4d9221"
            ],
            [
             1,
             "#276419"
            ]
           ],
           "sequential": [
            [
             0,
             "#0d0887"
            ],
            [
             0.1111111111111111,
             "#46039f"
            ],
            [
             0.2222222222222222,
             "#7201a8"
            ],
            [
             0.3333333333333333,
             "#9c179e"
            ],
            [
             0.4444444444444444,
             "#bd3786"
            ],
            [
             0.5555555555555556,
             "#d8576b"
            ],
            [
             0.6666666666666666,
             "#ed7953"
            ],
            [
             0.7777777777777778,
             "#fb9f3a"
            ],
            [
             0.8888888888888888,
             "#fdca26"
            ],
            [
             1,
             "#f0f921"
            ]
           ],
           "sequentialminus": [
            [
             0,
             "#0d0887"
            ],
            [
             0.1111111111111111,
             "#46039f"
            ],
            [
             0.2222222222222222,
             "#7201a8"
            ],
            [
             0.3333333333333333,
             "#9c179e"
            ],
            [
             0.4444444444444444,
             "#bd3786"
            ],
            [
             0.5555555555555556,
             "#d8576b"
            ],
            [
             0.6666666666666666,
             "#ed7953"
            ],
            [
             0.7777777777777778,
             "#fb9f3a"
            ],
            [
             0.8888888888888888,
             "#fdca26"
            ],
            [
             1,
             "#f0f921"
            ]
           ]
          },
          "colorway": [
           "#636efa",
           "#EF553B",
           "#00cc96",
           "#ab63fa",
           "#FFA15A",
           "#19d3f3",
           "#FF6692",
           "#B6E880",
           "#FF97FF",
           "#FECB52"
          ],
          "font": {
           "color": "#2a3f5f"
          },
          "geo": {
           "bgcolor": "white",
           "lakecolor": "white",
           "landcolor": "#E5ECF6",
           "showlakes": true,
           "showland": true,
           "subunitcolor": "white"
          },
          "hoverlabel": {
           "align": "left"
          },
          "hovermode": "closest",
          "mapbox": {
           "style": "light"
          },
          "paper_bgcolor": "white",
          "plot_bgcolor": "#E5ECF6",
          "polar": {
           "angularaxis": {
            "gridcolor": "white",
            "linecolor": "white",
            "ticks": ""
           },
           "bgcolor": "#E5ECF6",
           "radialaxis": {
            "gridcolor": "white",
            "linecolor": "white",
            "ticks": ""
           }
          },
          "scene": {
           "xaxis": {
            "backgroundcolor": "#E5ECF6",
            "gridcolor": "white",
            "gridwidth": 2,
            "linecolor": "white",
            "showbackground": true,
            "ticks": "",
            "zerolinecolor": "white"
           },
           "yaxis": {
            "backgroundcolor": "#E5ECF6",
            "gridcolor": "white",
            "gridwidth": 2,
            "linecolor": "white",
            "showbackground": true,
            "ticks": "",
            "zerolinecolor": "white"
           },
           "zaxis": {
            "backgroundcolor": "#E5ECF6",
            "gridcolor": "white",
            "gridwidth": 2,
            "linecolor": "white",
            "showbackground": true,
            "ticks": "",
            "zerolinecolor": "white"
           }
          },
          "shapedefaults": {
           "line": {
            "color": "#2a3f5f"
           }
          },
          "ternary": {
           "aaxis": {
            "gridcolor": "white",
            "linecolor": "white",
            "ticks": ""
           },
           "baxis": {
            "gridcolor": "white",
            "linecolor": "white",
            "ticks": ""
           },
           "bgcolor": "#E5ECF6",
           "caxis": {
            "gridcolor": "white",
            "linecolor": "white",
            "ticks": ""
           }
          },
          "title": {
           "x": 0.05
          },
          "xaxis": {
           "automargin": true,
           "gridcolor": "white",
           "linecolor": "white",
           "ticks": "",
           "title": {
            "standoff": 15
           },
           "zerolinecolor": "white",
           "zerolinewidth": 2
          },
          "yaxis": {
           "automargin": true,
           "gridcolor": "white",
           "linecolor": "white",
           "ticks": "",
           "title": {
            "standoff": 15
           },
           "zerolinecolor": "white",
           "zerolinewidth": 2
          }
         }
        },
        "xaxis": {
         "anchor": "y",
         "domain": [
          0,
          1
         ],
         "title": {
          "text": "passing_touchdowns_last"
         }
        },
        "yaxis": {
         "anchor": "x",
         "domain": [
          0,
          1
         ],
         "title": {
          "text": "passing_touchdowns"
         }
        }
       }
      },
      "text/html": [
       "<div>                            <div id=\"1fdf1c2e-de70-4b44-af3b-cabeb9390b84\" class=\"plotly-graph-div\" style=\"height:525px; width:100%;\"></div>            <script type=\"text/javascript\">                require([\"plotly\"], function(Plotly) {                    window.PLOTLYENV=window.PLOTLYENV || {};                                    if (document.getElementById(\"1fdf1c2e-de70-4b44-af3b-cabeb9390b84\")) {                    Plotly.newPlot(                        \"1fdf1c2e-de70-4b44-af3b-cabeb9390b84\",                        [{\"customdata\":[[\"P.Manning\",2013,37.0],[\"P.Manning\",2014,38.0],[\"T.Brady\",2013,36.0],[\"T.Brady\",2014,37.0],[\"T.Brady\",2015,38.0],[\"T.Brady\",2016,39.0],[\"T.Brady\",2017,40.0],[\"T.Brady\",2018,41.0],[\"T.Brady\",2019,42.0],[\"T.Brady\",2020,43.0],[\"T.Brady\",2021,44.0],[\"T.Brady\",2022,45.0],[\"D.Brees\",2013,34.0],[\"D.Brees\",2014,35.0],[\"D.Brees\",2015,36.0],[\"D.Brees\",2016,37.0],[\"D.Brees\",2017,38.0],[\"D.Brees\",2018,39.0],[\"C.Palmer\",2013,33.0],[\"C.Palmer\",2016,36.0],[\"T.Romo\",2013,33.0],[\"T.Romo\",2014,34.0],[\"E.Manning\",2013,32.0],[\"E.Manning\",2014,33.0],[\"E.Manning\",2015,34.0],[\"E.Manning\",2016,35.0],[\"E.Manning\",2017,36.0],[\"E.Manning\",2018,37.0],[\"B.Roethlisberger\",2013,31.0],[\"B.Roethlisberger\",2014,32.0],[\"B.Roethlisberger\",2015,33.0],[\"B.Roethlisberger\",2016,34.0],[\"B.Roethlisberger\",2017,35.0],[\"B.Roethlisberger\",2018,36.0],[\"B.Roethlisberger\",2021,39.0],[\"P.Rivers\",2013,31.0],[\"P.Rivers\",2014,32.0],[\"P.Rivers\",2015,33.0],[\"P.Rivers\",2016,34.0],[\"P.Rivers\",2017,35.0],[\"P.Rivers\",2018,36.0],[\"P.Rivers\",2019,37.0],[\"P.Rivers\",2020,38.0],[\"A.Smith\",2014,30.0],[\"A.Smith\",2015,31.0],[\"A.Smith\",2016,32.0],[\"A.Smith\",2017,33.0],[\"A.Rodgers\",2015,31.0],[\"A.Rodgers\",2016,32.0],[\"A.Rodgers\",2019,35.0],[\"A.Rodgers\",2020,36.0],[\"A.Rodgers\",2021,37.0],[\"A.Rodgers\",2022,38.0],[\"R.Fitzpatrick\",2015,32.0],[\"R.Fitzpatrick\",2016,33.0],[\"J.Cutler\",2015,32.0],[\"M.Ryan\",2013,28.0],[\"M.Ryan\",2014,29.0],[\"M.Ryan\",2015,30.0],[\"M.Ryan\",2016,31.0],[\"M.Ryan\",2017,32.0],[\"M.Ryan\",2018,33.0],[\"M.Ryan\",2019,34.0],[\"M.Ryan\",2020,35.0],[\"M.Ryan\",2021,36.0],[\"M.Ryan\",2022,37.0],[\"J.Flacco\",2013,28.0],[\"J.Flacco\",2014,29.0],[\"J.Flacco\",2017,32.0],[\"M.Stafford\",2013,25.0],[\"M.Stafford\",2014,26.0],[\"M.Stafford\",2015,27.0],[\"M.Stafford\",2016,28.0],[\"M.Stafford\",2017,29.0],[\"M.Stafford\",2018,30.0],[\"M.Stafford\",2021,33.0],[\"S.Bradford\",2016,28.0],[\"C.Newton\",2013,24.0],[\"C.Newton\",2014,25.0],[\"C.Newton\",2015,26.0],[\"C.Newton\",2016,27.0],[\"C.Newton\",2017,28.0],[\"C.Newton\",2018,29.0],[\"A.Dalton\",2013,25.0],[\"A.Dalton\",2014,26.0],[\"A.Dalton\",2015,27.0],[\"A.Dalton\",2016,28.0],[\"A.Dalton\",2017,29.0],[\"C.Kaepernick\",2013,25.0],[\"C.Kaepernick\",2014,26.0],[\"T.Taylor\",2016,27.0],[\"T.Taylor\",2017,28.0],[\"C.Keenum\",2018,30.0],[\"R.Wilson\",2013,24.0],[\"R.Wilson\",2014,25.0],[\"R.Wilson\",2015,26.0],[\"R.Wilson\",2016,27.0],[\"R.Wilson\",2017,28.0],[\"R.Wilson\",2018,29.0],[\"R.Wilson\",2019,30.0],[\"R.Wilson\",2020,31.0],[\"R.Wilson\",2021,32.0],[\"R.Wilson\",2022,33.0],[\"K.Cousins\",2016,28.0],[\"K.Cousins\",2017,29.0],[\"K.Cousins\",2018,30.0],[\"K.Cousins\",2019,31.0],[\"K.Cousins\",2020,32.0],[\"K.Cousins\",2021,33.0],[\"K.Cousins\",2022,34.0],[\"R.Griffin III\",2013,23.0],[\"A.Luck\",2013,23.0],[\"A.Luck\",2014,24.0],[\"R.Tannehill\",2013,25.0],[\"R.Tannehill\",2014,26.0],[\"R.Tannehill\",2015,27.0],[\"R.Tannehill\",2016,28.0],[\"R.Tannehill\",2020,32.0],[\"R.Tannehill\",2021,33.0],[\"R.Tannehill\",2022,34.0],[\"G.Smith\",2014,23.0],[\"T.Bridgewater\",2015,22.0],[\"T.Bridgewater\",2021,28.0],[\"D.Carr\",2015,24.0],[\"D.Carr\",2016,25.0],[\"D.Carr\",2017,26.0],[\"D.Carr\",2018,27.0],[\"D.Carr\",2019,28.0],[\"D.Carr\",2020,29.0],[\"D.Carr\",2021,30.0],[\"D.Carr\",2022,31.0],[\"B.Bortles\",2015,23.0],[\"B.Bortles\",2016,24.0],[\"B.Bortles\",2017,25.0],[\"B.Bortles\",2018,26.0],[\"J.Winston\",2016,22.0],[\"J.Winston\",2017,23.0],[\"M.Mariota\",2016,22.0],[\"M.Mariota\",2017,23.0],[\"M.Mariota\",2018,24.0],[\"C.Wentz\",2017,24.0],[\"C.Wentz\",2020,27.0],[\"C.Wentz\",2021,28.0],[\"D.Prescott\",2017,24.0],[\"D.Prescott\",2018,25.0],[\"D.Prescott\",2019,26.0],[\"D.Prescott\",2022,29.0],[\"J.Goff\",2018,23.0],[\"J.Goff\",2019,24.0],[\"J.Goff\",2020,25.0],[\"J.Goff\",2021,26.0],[\"J.Goff\",2022,27.0],[\"D.Watson\",2019,23.0],[\"D.Watson\",2020,24.0],[\"M.Trubisky\",2018,24.0],[\"M.Trubisky\",2019,25.0],[\"P.Mahomes\",2019,23.0],[\"P.Mahomes\",2020,24.0],[\"P.Mahomes\",2021,25.0],[\"P.Mahomes\",2022,26.0],[\"L.Jackson\",2019,22.0],[\"L.Jackson\",2020,23.0],[\"L.Jackson\",2021,24.0],[\"L.Jackson\",2022,25.0],[\"B.Mayfield\",2019,24.0],[\"B.Mayfield\",2020,25.0],[\"B.Mayfield\",2021,26.0],[\"B.Mayfield\",2022,27.0],[\"J.Allen\",2019,23.0],[\"J.Allen\",2020,24.0],[\"J.Allen\",2021,25.0],[\"J.Allen\",2022,26.0],[\"S.Darnold\",2019,22.0],[\"S.Darnold\",2020,23.0],[\"S.Darnold\",2021,24.0],[\"K.Murray\",2020,23.0],[\"K.Murray\",2021,24.0],[\"D.Jones\",2020,23.0],[\"T.Tagovailoa\",2022,24.0],[\"J.Herbert\",2021,23.0],[\"J.Herbert\",2022,24.0],[\"J.Hurts\",2021,23.0],[\"J.Hurts\",2022,24.0],[\"J.Burrow\",2022,25.0],[\"D.Mills\",2022,23.0],[\"J.Fields\",2022,23.0],[\"T.Lawrence\",2022,22.0],[\"M.Jones\",2022,23.0]],\"hovertemplate\":\"passing_touchdowns_last=%{x}\\u003cbr\\u003epassing_touchdowns=%{y}\\u003cbr\\u003epasser=%{customdata[0]}\\u003cbr\\u003eseason=%{customdata[1]}\\u003cbr\\u003eage=%{customdata[2]}\\u003cextra\\u003e\\u003c\\u002fextra\\u003e\",\"legendgroup\":\"\",\"marker\":{\"color\":\"#636efa\",\"symbol\":\"circle\"},\"mode\":\"markers\",\"name\":\"\",\"orientation\":\"v\",\"showlegend\":false,\"x\":[37.0,55.0,34.0,25.0,33.0,36.0,28.0,32.0,29.0,24.0,40.0,43.0,43.0,39.0,33.0,32.0,37.0,23.0,22.0,35.0,28.0,31.0,26.0,18.0,30.0,35.0,26.0,19.0,26.0,28.0,32.0,21.0,29.0,28.0,33.0,26.0,32.0,31.0,29.0,33.0,28.0,32.0,23.0,23.0,18.0,20.0,15.0,38.0,31.0,25.0,26.0,48.0,37.0,17.0,31.0,28.0,31.0,26.0,28.0,21.0,38.0,20.0,35.0,26.0,26.0,20.0,22.0,19.0,20.0,20.0,29.0,22.0,32.0,24.0,29.0,26.0,19.0,19.0,24.0,18.0,35.0,19.0,22.0,27.0,33.0,19.0,25.0,18.0,10.0,21.0,20.0,17.0,22.0,26.0,26.0,20.0,34.0,21.0,34.0,35.0,31.0,40.0,25.0,29.0,25.0,27.0,30.0,26.0,35.0,33.0,20.0,23.0,23.0,12.0,24.0,27.0,24.0,22.0,33.0,21.0,12.0,14.0,15.0,21.0,32.0,28.0,22.0,19.0,21.0,27.0,23.0,11.0,35.0,23.0,21.0,22.0,28.0,19.0,26.0,13.0,16.0,27.0,16.0,23.0,22.0,22.0,37.0,28.0,32.0,22.0,20.0,19.0,26.0,26.0,7.0,24.0,50.0,26.0,38.0,37.0,6.0,36.0,26.0,16.0,27.0,22.0,26.0,17.0,10.0,20.0,37.0,36.0,17.0,19.0,9.0,20.0,26.0,24.0,16.0,31.0,38.0,6.0,16.0,34.0,16.0,7.0,12.0,22.0],\"xaxis\":\"x\",\"y\":[55.0,39.0,25.0,33.0,36.0,28.0,32.0,29.0,24.0,40.0,43.0,25.0,39.0,33.0,32.0,37.0,23.0,32.0,24.0,26.0,31.0,34.0,18.0,30.0,35.0,26.0,19.0,21.0,28.0,32.0,21.0,29.0,28.0,34.0,22.0,32.0,31.0,29.0,33.0,28.0,32.0,23.0,24.0,18.0,20.0,15.0,26.0,31.0,40.0,26.0,48.0,37.0,26.0,31.0,12.0,21.0,26.0,28.0,21.0,38.0,20.0,35.0,26.0,26.0,20.0,14.0,19.0,27.0,18.0,29.0,22.0,32.0,24.0,29.0,21.0,41.0,20.0,24.0,18.0,35.0,19.0,22.0,24.0,33.0,19.0,25.0,18.0,25.0,21.0,19.0,17.0,14.0,18.0,26.0,20.0,34.0,21.0,34.0,35.0,31.0,40.0,25.0,16.0,25.0,27.0,30.0,26.0,35.0,33.0,29.0,16.0,23.0,40.0,24.0,27.0,24.0,19.0,33.0,21.0,13.0,13.0,14.0,18.0,32.0,28.0,22.0,19.0,21.0,27.0,23.0,24.0,35.0,23.0,21.0,13.0,28.0,19.0,26.0,13.0,11.0,33.0,16.0,27.0,22.0,22.0,30.0,23.0,32.0,22.0,20.0,19.0,29.0,26.0,33.0,24.0,17.0,26.0,38.0,37.0,41.0,36.0,26.0,16.0,17.0,22.0,26.0,17.0,10.0,20.0,37.0,36.0,35.0,19.0,9.0,8.0,26.0,24.0,11.0,25.0,38.0,25.0,16.0,22.0,35.0,17.0,17.0,25.0,14.0],\"yaxis\":\"y\",\"type\":\"scatter\"}],                        {\"template\":{\"data\":{\"histogram2dcontour\":[{\"type\":\"histogram2dcontour\",\"colorbar\":{\"outlinewidth\":0,\"ticks\":\"\"},\"colorscale\":[[0.0,\"#0d0887\"],[0.1111111111111111,\"#46039f\"],[0.2222222222222222,\"#7201a8\"],[0.3333333333333333,\"#9c179e\"],[0.4444444444444444,\"#bd3786\"],[0.5555555555555556,\"#d8576b\"],[0.6666666666666666,\"#ed7953\"],[0.7777777777777778,\"#fb9f3a\"],[0.8888888888888888,\"#fdca26\"],[1.0,\"#f0f921\"]]}],\"choropleth\":[{\"type\":\"choropleth\",\"colorbar\":{\"outlinewidth\":0,\"ticks\":\"\"}}],\"histogram2d\":[{\"type\":\"histogram2d\",\"colorbar\":{\"outlinewidth\":0,\"ticks\":\"\"},\"colorscale\":[[0.0,\"#0d0887\"],[0.1111111111111111,\"#46039f\"],[0.2222222222222222,\"#7201a8\"],[0.3333333333333333,\"#9c179e\"],[0.4444444444444444,\"#bd3786\"],[0.5555555555555556,\"#d8576b\"],[0.6666666666666666,\"#ed7953\"],[0.7777777777777778,\"#fb9f3a\"],[0.8888888888888888,\"#fdca26\"],[1.0,\"#f0f921\"]]}],\"heatmap\":[{\"type\":\"heatmap\",\"colorbar\":{\"outlinewidth\":0,\"ticks\":\"\"},\"colorscale\":[[0.0,\"#0d0887\"],[0.1111111111111111,\"#46039f\"],[0.2222222222222222,\"#7201a8\"],[0.3333333333333333,\"#9c179e\"],[0.4444444444444444,\"#bd3786\"],[0.5555555555555556,\"#d8576b\"],[0.6666666666666666,\"#ed7953\"],[0.7777777777777778,\"#fb9f3a\"],[0.8888888888888888,\"#fdca26\"],[1.0,\"#f0f921\"]]}],\"heatmapgl\":[{\"type\":\"heatmapgl\",\"colorbar\":{\"outlinewidth\":0,\"ticks\":\"\"},\"colorscale\":[[0.0,\"#0d0887\"],[0.1111111111111111,\"#46039f\"],[0.2222222222222222,\"#7201a8\"],[0.3333333333333333,\"#9c179e\"],[0.4444444444444444,\"#bd3786\"],[0.5555555555555556,\"#d8576b\"],[0.6666666666666666,\"#ed7953\"],[0.7777777777777778,\"#fb9f3a\"],[0.8888888888888888,\"#fdca26\"],[1.0,\"#f0f921\"]]}],\"contourcarpet\":[{\"type\":\"contourcarpet\",\"colorbar\":{\"outlinewidth\":0,\"ticks\":\"\"}}],\"contour\":[{\"type\":\"contour\",\"colorbar\":{\"outlinewidth\":0,\"ticks\":\"\"},\"colorscale\":[[0.0,\"#0d0887\"],[0.1111111111111111,\"#46039f\"],[0.2222222222222222,\"#7201a8\"],[0.3333333333333333,\"#9c179e\"],[0.4444444444444444,\"#bd3786\"],[0.5555555555555556,\"#d8576b\"],[0.6666666666666666,\"#ed7953\"],[0.7777777777777778,\"#fb9f3a\"],[0.8888888888888888,\"#fdca26\"],[1.0,\"#f0f921\"]]}],\"surface\":[{\"type\":\"surface\",\"colorbar\":{\"outlinewidth\":0,\"ticks\":\"\"},\"colorscale\":[[0.0,\"#0d0887\"],[0.1111111111111111,\"#46039f\"],[0.2222222222222222,\"#7201a8\"],[0.3333333333333333,\"#9c179e\"],[0.4444444444444444,\"#bd3786\"],[0.5555555555555556,\"#d8576b\"],[0.6666666666666666,\"#ed7953\"],[0.7777777777777778,\"#fb9f3a\"],[0.8888888888888888,\"#fdca26\"],[1.0,\"#f0f921\"]]}],\"mesh3d\":[{\"type\":\"mesh3d\",\"colorbar\":{\"outlinewidth\":0,\"ticks\":\"\"}}],\"scatter\":[{\"fillpattern\":{\"fillmode\":\"overlay\",\"size\":10,\"solidity\":0.2},\"type\":\"scatter\"}],\"parcoords\":[{\"type\":\"parcoords\",\"line\":{\"colorbar\":{\"outlinewidth\":0,\"ticks\":\"\"}}}],\"scatterpolargl\":[{\"type\":\"scatterpolargl\",\"marker\":{\"colorbar\":{\"outlinewidth\":0,\"ticks\":\"\"}}}],\"bar\":[{\"error_x\":{\"color\":\"#2a3f5f\"},\"error_y\":{\"color\":\"#2a3f5f\"},\"marker\":{\"line\":{\"color\":\"#E5ECF6\",\"width\":0.5},\"pattern\":{\"fillmode\":\"overlay\",\"size\":10,\"solidity\":0.2}},\"type\":\"bar\"}],\"scattergeo\":[{\"type\":\"scattergeo\",\"marker\":{\"colorbar\":{\"outlinewidth\":0,\"ticks\":\"\"}}}],\"scatterpolar\":[{\"type\":\"scatterpolar\",\"marker\":{\"colorbar\":{\"outlinewidth\":0,\"ticks\":\"\"}}}],\"histogram\":[{\"marker\":{\"pattern\":{\"fillmode\":\"overlay\",\"size\":10,\"solidity\":0.2}},\"type\":\"histogram\"}],\"scattergl\":[{\"type\":\"scattergl\",\"marker\":{\"colorbar\":{\"outlinewidth\":0,\"ticks\":\"\"}}}],\"scatter3d\":[{\"type\":\"scatter3d\",\"line\":{\"colorbar\":{\"outlinewidth\":0,\"ticks\":\"\"}},\"marker\":{\"colorbar\":{\"outlinewidth\":0,\"ticks\":\"\"}}}],\"scattermapbox\":[{\"type\":\"scattermapbox\",\"marker\":{\"colorbar\":{\"outlinewidth\":0,\"ticks\":\"\"}}}],\"scatterternary\":[{\"type\":\"scatterternary\",\"marker\":{\"colorbar\":{\"outlinewidth\":0,\"ticks\":\"\"}}}],\"scattercarpet\":[{\"type\":\"scattercarpet\",\"marker\":{\"colorbar\":{\"outlinewidth\":0,\"ticks\":\"\"}}}],\"carpet\":[{\"aaxis\":{\"endlinecolor\":\"#2a3f5f\",\"gridcolor\":\"white\",\"linecolor\":\"white\",\"minorgridcolor\":\"white\",\"startlinecolor\":\"#2a3f5f\"},\"baxis\":{\"endlinecolor\":\"#2a3f5f\",\"gridcolor\":\"white\",\"linecolor\":\"white\",\"minorgridcolor\":\"white\",\"startlinecolor\":\"#2a3f5f\"},\"type\":\"carpet\"}],\"table\":[{\"cells\":{\"fill\":{\"color\":\"#EBF0F8\"},\"line\":{\"color\":\"white\"}},\"header\":{\"fill\":{\"color\":\"#C8D4E3\"},\"line\":{\"color\":\"white\"}},\"type\":\"table\"}],\"barpolar\":[{\"marker\":{\"line\":{\"color\":\"#E5ECF6\",\"width\":0.5},\"pattern\":{\"fillmode\":\"overlay\",\"size\":10,\"solidity\":0.2}},\"type\":\"barpolar\"}],\"pie\":[{\"automargin\":true,\"type\":\"pie\"}]},\"layout\":{\"autotypenumbers\":\"strict\",\"colorway\":[\"#636efa\",\"#EF553B\",\"#00cc96\",\"#ab63fa\",\"#FFA15A\",\"#19d3f3\",\"#FF6692\",\"#B6E880\",\"#FF97FF\",\"#FECB52\"],\"font\":{\"color\":\"#2a3f5f\"},\"hovermode\":\"closest\",\"hoverlabel\":{\"align\":\"left\"},\"paper_bgcolor\":\"white\",\"plot_bgcolor\":\"#E5ECF6\",\"polar\":{\"bgcolor\":\"#E5ECF6\",\"angularaxis\":{\"gridcolor\":\"white\",\"linecolor\":\"white\",\"ticks\":\"\"},\"radialaxis\":{\"gridcolor\":\"white\",\"linecolor\":\"white\",\"ticks\":\"\"}},\"ternary\":{\"bgcolor\":\"#E5ECF6\",\"aaxis\":{\"gridcolor\":\"white\",\"linecolor\":\"white\",\"ticks\":\"\"},\"baxis\":{\"gridcolor\":\"white\",\"linecolor\":\"white\",\"ticks\":\"\"},\"caxis\":{\"gridcolor\":\"white\",\"linecolor\":\"white\",\"ticks\":\"\"}},\"coloraxis\":{\"colorbar\":{\"outlinewidth\":0,\"ticks\":\"\"}},\"colorscale\":{\"sequential\":[[0.0,\"#0d0887\"],[0.1111111111111111,\"#46039f\"],[0.2222222222222222,\"#7201a8\"],[0.3333333333333333,\"#9c179e\"],[0.4444444444444444,\"#bd3786\"],[0.5555555555555556,\"#d8576b\"],[0.6666666666666666,\"#ed7953\"],[0.7777777777777778,\"#fb9f3a\"],[0.8888888888888888,\"#fdca26\"],[1.0,\"#f0f921\"]],\"sequentialminus\":[[0.0,\"#0d0887\"],[0.1111111111111111,\"#46039f\"],[0.2222222222222222,\"#7201a8\"],[0.3333333333333333,\"#9c179e\"],[0.4444444444444444,\"#bd3786\"],[0.5555555555555556,\"#d8576b\"],[0.6666666666666666,\"#ed7953\"],[0.7777777777777778,\"#fb9f3a\"],[0.8888888888888888,\"#fdca26\"],[1.0,\"#f0f921\"]],\"diverging\":[[0,\"#8e0152\"],[0.1,\"#c51b7d\"],[0.2,\"#de77ae\"],[0.3,\"#f1b6da\"],[0.4,\"#fde0ef\"],[0.5,\"#f7f7f7\"],[0.6,\"#e6f5d0\"],[0.7,\"#b8e186\"],[0.8,\"#7fbc41\"],[0.9,\"#4d9221\"],[1,\"#276419\"]]},\"xaxis\":{\"gridcolor\":\"white\",\"linecolor\":\"white\",\"ticks\":\"\",\"title\":{\"standoff\":15},\"zerolinecolor\":\"white\",\"automargin\":true,\"zerolinewidth\":2},\"yaxis\":{\"gridcolor\":\"white\",\"linecolor\":\"white\",\"ticks\":\"\",\"title\":{\"standoff\":15},\"zerolinecolor\":\"white\",\"automargin\":true,\"zerolinewidth\":2},\"scene\":{\"xaxis\":{\"backgroundcolor\":\"#E5ECF6\",\"gridcolor\":\"white\",\"linecolor\":\"white\",\"showbackground\":true,\"ticks\":\"\",\"zerolinecolor\":\"white\",\"gridwidth\":2},\"yaxis\":{\"backgroundcolor\":\"#E5ECF6\",\"gridcolor\":\"white\",\"linecolor\":\"white\",\"showbackground\":true,\"ticks\":\"\",\"zerolinecolor\":\"white\",\"gridwidth\":2},\"zaxis\":{\"backgroundcolor\":\"#E5ECF6\",\"gridcolor\":\"white\",\"linecolor\":\"white\",\"showbackground\":true,\"ticks\":\"\",\"zerolinecolor\":\"white\",\"gridwidth\":2}},\"shapedefaults\":{\"line\":{\"color\":\"#2a3f5f\"}},\"annotationdefaults\":{\"arrowcolor\":\"#2a3f5f\",\"arrowhead\":0,\"arrowwidth\":1},\"geo\":{\"bgcolor\":\"white\",\"landcolor\":\"#E5ECF6\",\"subunitcolor\":\"white\",\"showland\":true,\"showlakes\":true,\"lakecolor\":\"white\"},\"title\":{\"x\":0.05},\"mapbox\":{\"style\":\"light\"}}},\"xaxis\":{\"anchor\":\"y\",\"domain\":[0.0,1.0],\"title\":{\"text\":\"passing_touchdowns_last\"}},\"yaxis\":{\"anchor\":\"x\",\"domain\":[0.0,1.0],\"title\":{\"text\":\"passing_touchdowns\"}},\"legend\":{\"tracegroupgap\":0},\"margin\":{\"t\":60}},                        {\"responsive\": true}                    ).then(function(){\n",
       "                            \n",
       "var gd = document.getElementById('1fdf1c2e-de70-4b44-af3b-cabeb9390b84');\n",
       "var x = new MutationObserver(function (mutations, observer) {{\n",
       "        var display = window.getComputedStyle(gd).display;\n",
       "        if (!display || display === 'none') {{\n",
       "            console.log([gd, 'removed!']);\n",
       "            Plotly.purge(gd);\n",
       "            observer.disconnect();\n",
       "        }}\n",
       "}});\n",
       "\n",
       "// Listen for the removal of the full notebook cells\n",
       "var notebookContainer = gd.closest('#notebook-container');\n",
       "if (notebookContainer) {{\n",
       "    x.observe(notebookContainer, {childList: true});\n",
       "}}\n",
       "\n",
       "// Listen for the clearing of the current output cell\n",
       "var outputEl = gd.closest('.output');\n",
       "if (outputEl) {{\n",
       "    x.observe(outputEl, {childList: true});\n",
       "}}\n",
       "\n",
       "                        })                };                });            </script>        </div>"
      ]
     },
     "metadata": {},
     "output_type": "display_data"
    }
   ],
   "source": [
    "fig = px.scatter(df, x=\"passing_touchdowns_last\", y=\"passing_touchdowns\",\n",
    "                 hover_data=[\"passer\", \"season\", \"age\"]\n",
    "                )\n",
    "fig.show()"
   ]
  },
  {
   "cell_type": "markdown",
   "id": "594ea47a",
   "metadata": {},
   "source": [
    "## EPA"
   ]
  },
  {
   "cell_type": "code",
   "execution_count": 44,
   "id": "95dc1243",
   "metadata": {},
   "outputs": [
    {
     "data": {
      "text/html": [
       "<div>\n",
       "<style scoped>\n",
       "    .dataframe tbody tr th:only-of-type {\n",
       "        vertical-align: middle;\n",
       "    }\n",
       "\n",
       "    .dataframe tbody tr th {\n",
       "        vertical-align: top;\n",
       "    }\n",
       "\n",
       "    .dataframe thead th {\n",
       "        text-align: right;\n",
       "    }\n",
       "</style>\n",
       "<table border=\"1\" class=\"dataframe\">\n",
       "  <thead>\n",
       "    <tr style=\"text-align: right;\">\n",
       "      <th></th>\n",
       "      <th>total_epa</th>\n",
       "      <th>total_epa_last</th>\n",
       "    </tr>\n",
       "  </thead>\n",
       "  <tbody>\n",
       "    <tr>\n",
       "      <th>total_epa</th>\n",
       "      <td>1.000000</td>\n",
       "      <td>0.388961</td>\n",
       "    </tr>\n",
       "    <tr>\n",
       "      <th>total_epa_last</th>\n",
       "      <td>0.388961</td>\n",
       "      <td>1.000000</td>\n",
       "    </tr>\n",
       "  </tbody>\n",
       "</table>\n",
       "</div>"
      ],
      "text/plain": [
       "                total_epa  total_epa_last\n",
       "total_epa        1.000000        0.388961\n",
       "total_epa_last   0.388961        1.000000"
      ]
     },
     "execution_count": 44,
     "metadata": {},
     "output_type": "execute_result"
    }
   ],
   "source": [
    "df[[\"total_epa\", \"total_epa_last\"]].corr()"
   ]
  },
  {
   "cell_type": "code",
   "execution_count": 43,
   "id": "a05cc0a6",
   "metadata": {},
   "outputs": [
    {
     "data": {
      "application/vnd.plotly.v1+json": {
       "config": {
        "plotlyServerURL": "https://plot.ly"
       },
       "data": [
        {
         "customdata": [
          [
           "P.Manning",
           2013,
           37
          ],
          [
           "P.Manning",
           2014,
           38
          ],
          [
           "T.Brady",
           2013,
           36
          ],
          [
           "T.Brady",
           2014,
           37
          ],
          [
           "T.Brady",
           2015,
           38
          ],
          [
           "T.Brady",
           2016,
           39
          ],
          [
           "T.Brady",
           2017,
           40
          ],
          [
           "T.Brady",
           2018,
           41
          ],
          [
           "T.Brady",
           2019,
           42
          ],
          [
           "T.Brady",
           2020,
           43
          ],
          [
           "T.Brady",
           2021,
           44
          ],
          [
           "T.Brady",
           2022,
           45
          ],
          [
           "D.Brees",
           2013,
           34
          ],
          [
           "D.Brees",
           2014,
           35
          ],
          [
           "D.Brees",
           2015,
           36
          ],
          [
           "D.Brees",
           2016,
           37
          ],
          [
           "D.Brees",
           2017,
           38
          ],
          [
           "D.Brees",
           2018,
           39
          ],
          [
           "C.Palmer",
           2013,
           33
          ],
          [
           "C.Palmer",
           2016,
           36
          ],
          [
           "T.Romo",
           2013,
           33
          ],
          [
           "T.Romo",
           2014,
           34
          ],
          [
           "E.Manning",
           2013,
           32
          ],
          [
           "E.Manning",
           2014,
           33
          ],
          [
           "E.Manning",
           2015,
           34
          ],
          [
           "E.Manning",
           2016,
           35
          ],
          [
           "E.Manning",
           2017,
           36
          ],
          [
           "E.Manning",
           2018,
           37
          ],
          [
           "B.Roethlisberger",
           2013,
           31
          ],
          [
           "B.Roethlisberger",
           2014,
           32
          ],
          [
           "B.Roethlisberger",
           2015,
           33
          ],
          [
           "B.Roethlisberger",
           2016,
           34
          ],
          [
           "B.Roethlisberger",
           2017,
           35
          ],
          [
           "B.Roethlisberger",
           2018,
           36
          ],
          [
           "B.Roethlisberger",
           2021,
           39
          ],
          [
           "P.Rivers",
           2013,
           31
          ],
          [
           "P.Rivers",
           2014,
           32
          ],
          [
           "P.Rivers",
           2015,
           33
          ],
          [
           "P.Rivers",
           2016,
           34
          ],
          [
           "P.Rivers",
           2017,
           35
          ],
          [
           "P.Rivers",
           2018,
           36
          ],
          [
           "P.Rivers",
           2019,
           37
          ],
          [
           "P.Rivers",
           2020,
           38
          ],
          [
           "A.Smith",
           2014,
           30
          ],
          [
           "A.Smith",
           2015,
           31
          ],
          [
           "A.Smith",
           2016,
           32
          ],
          [
           "A.Smith",
           2017,
           33
          ],
          [
           "A.Rodgers",
           2015,
           31
          ],
          [
           "A.Rodgers",
           2016,
           32
          ],
          [
           "A.Rodgers",
           2019,
           35
          ],
          [
           "A.Rodgers",
           2020,
           36
          ],
          [
           "A.Rodgers",
           2021,
           37
          ],
          [
           "A.Rodgers",
           2022,
           38
          ],
          [
           "R.Fitzpatrick",
           2015,
           32
          ],
          [
           "R.Fitzpatrick",
           2016,
           33
          ],
          [
           "J.Cutler",
           2015,
           32
          ],
          [
           "M.Ryan",
           2013,
           28
          ],
          [
           "M.Ryan",
           2014,
           29
          ],
          [
           "M.Ryan",
           2015,
           30
          ],
          [
           "M.Ryan",
           2016,
           31
          ],
          [
           "M.Ryan",
           2017,
           32
          ],
          [
           "M.Ryan",
           2018,
           33
          ],
          [
           "M.Ryan",
           2019,
           34
          ],
          [
           "M.Ryan",
           2020,
           35
          ],
          [
           "M.Ryan",
           2021,
           36
          ],
          [
           "M.Ryan",
           2022,
           37
          ],
          [
           "J.Flacco",
           2013,
           28
          ],
          [
           "J.Flacco",
           2014,
           29
          ],
          [
           "J.Flacco",
           2017,
           32
          ],
          [
           "M.Stafford",
           2013,
           25
          ],
          [
           "M.Stafford",
           2014,
           26
          ],
          [
           "M.Stafford",
           2015,
           27
          ],
          [
           "M.Stafford",
           2016,
           28
          ],
          [
           "M.Stafford",
           2017,
           29
          ],
          [
           "M.Stafford",
           2018,
           30
          ],
          [
           "M.Stafford",
           2021,
           33
          ],
          [
           "S.Bradford",
           2016,
           28
          ],
          [
           "C.Newton",
           2013,
           24
          ],
          [
           "C.Newton",
           2014,
           25
          ],
          [
           "C.Newton",
           2015,
           26
          ],
          [
           "C.Newton",
           2016,
           27
          ],
          [
           "C.Newton",
           2017,
           28
          ],
          [
           "C.Newton",
           2018,
           29
          ],
          [
           "A.Dalton",
           2013,
           25
          ],
          [
           "A.Dalton",
           2014,
           26
          ],
          [
           "A.Dalton",
           2015,
           27
          ],
          [
           "A.Dalton",
           2016,
           28
          ],
          [
           "A.Dalton",
           2017,
           29
          ],
          [
           "C.Kaepernick",
           2013,
           25
          ],
          [
           "C.Kaepernick",
           2014,
           26
          ],
          [
           "T.Taylor",
           2016,
           27
          ],
          [
           "T.Taylor",
           2017,
           28
          ],
          [
           "C.Keenum",
           2018,
           30
          ],
          [
           "R.Wilson",
           2013,
           24
          ],
          [
           "R.Wilson",
           2014,
           25
          ],
          [
           "R.Wilson",
           2015,
           26
          ],
          [
           "R.Wilson",
           2016,
           27
          ],
          [
           "R.Wilson",
           2017,
           28
          ],
          [
           "R.Wilson",
           2018,
           29
          ],
          [
           "R.Wilson",
           2019,
           30
          ],
          [
           "R.Wilson",
           2020,
           31
          ],
          [
           "R.Wilson",
           2021,
           32
          ],
          [
           "R.Wilson",
           2022,
           33
          ],
          [
           "K.Cousins",
           2016,
           28
          ],
          [
           "K.Cousins",
           2017,
           29
          ],
          [
           "K.Cousins",
           2018,
           30
          ],
          [
           "K.Cousins",
           2019,
           31
          ],
          [
           "K.Cousins",
           2020,
           32
          ],
          [
           "K.Cousins",
           2021,
           33
          ],
          [
           "K.Cousins",
           2022,
           34
          ],
          [
           "R.Griffin III",
           2013,
           23
          ],
          [
           "A.Luck",
           2013,
           23
          ],
          [
           "A.Luck",
           2014,
           24
          ],
          [
           "R.Tannehill",
           2013,
           25
          ],
          [
           "R.Tannehill",
           2014,
           26
          ],
          [
           "R.Tannehill",
           2015,
           27
          ],
          [
           "R.Tannehill",
           2016,
           28
          ],
          [
           "R.Tannehill",
           2020,
           32
          ],
          [
           "R.Tannehill",
           2021,
           33
          ],
          [
           "R.Tannehill",
           2022,
           34
          ],
          [
           "G.Smith",
           2014,
           23
          ],
          [
           "T.Bridgewater",
           2015,
           22
          ],
          [
           "T.Bridgewater",
           2021,
           28
          ],
          [
           "D.Carr",
           2015,
           24
          ],
          [
           "D.Carr",
           2016,
           25
          ],
          [
           "D.Carr",
           2017,
           26
          ],
          [
           "D.Carr",
           2018,
           27
          ],
          [
           "D.Carr",
           2019,
           28
          ],
          [
           "D.Carr",
           2020,
           29
          ],
          [
           "D.Carr",
           2021,
           30
          ],
          [
           "D.Carr",
           2022,
           31
          ],
          [
           "B.Bortles",
           2015,
           23
          ],
          [
           "B.Bortles",
           2016,
           24
          ],
          [
           "B.Bortles",
           2017,
           25
          ],
          [
           "B.Bortles",
           2018,
           26
          ],
          [
           "J.Winston",
           2016,
           22
          ],
          [
           "J.Winston",
           2017,
           23
          ],
          [
           "M.Mariota",
           2016,
           22
          ],
          [
           "M.Mariota",
           2017,
           23
          ],
          [
           "M.Mariota",
           2018,
           24
          ],
          [
           "C.Wentz",
           2017,
           24
          ],
          [
           "C.Wentz",
           2020,
           27
          ],
          [
           "C.Wentz",
           2021,
           28
          ],
          [
           "D.Prescott",
           2017,
           24
          ],
          [
           "D.Prescott",
           2018,
           25
          ],
          [
           "D.Prescott",
           2019,
           26
          ],
          [
           "D.Prescott",
           2022,
           29
          ],
          [
           "J.Goff",
           2018,
           23
          ],
          [
           "J.Goff",
           2019,
           24
          ],
          [
           "J.Goff",
           2020,
           25
          ],
          [
           "J.Goff",
           2021,
           26
          ],
          [
           "J.Goff",
           2022,
           27
          ],
          [
           "D.Watson",
           2019,
           23
          ],
          [
           "D.Watson",
           2020,
           24
          ],
          [
           "M.Trubisky",
           2018,
           24
          ],
          [
           "M.Trubisky",
           2019,
           25
          ],
          [
           "P.Mahomes",
           2019,
           23
          ],
          [
           "P.Mahomes",
           2020,
           24
          ],
          [
           "P.Mahomes",
           2021,
           25
          ],
          [
           "P.Mahomes",
           2022,
           26
          ],
          [
           "L.Jackson",
           2019,
           22
          ],
          [
           "L.Jackson",
           2020,
           23
          ],
          [
           "L.Jackson",
           2021,
           24
          ],
          [
           "L.Jackson",
           2022,
           25
          ],
          [
           "B.Mayfield",
           2019,
           24
          ],
          [
           "B.Mayfield",
           2020,
           25
          ],
          [
           "B.Mayfield",
           2021,
           26
          ],
          [
           "B.Mayfield",
           2022,
           27
          ],
          [
           "J.Allen",
           2019,
           23
          ],
          [
           "J.Allen",
           2020,
           24
          ],
          [
           "J.Allen",
           2021,
           25
          ],
          [
           "J.Allen",
           2022,
           26
          ],
          [
           "S.Darnold",
           2019,
           22
          ],
          [
           "S.Darnold",
           2020,
           23
          ],
          [
           "S.Darnold",
           2021,
           24
          ],
          [
           "K.Murray",
           2020,
           23
          ],
          [
           "K.Murray",
           2021,
           24
          ],
          [
           "D.Jones",
           2020,
           23
          ],
          [
           "T.Tagovailoa",
           2022,
           24
          ],
          [
           "J.Herbert",
           2021,
           23
          ],
          [
           "J.Herbert",
           2022,
           24
          ],
          [
           "J.Hurts",
           2021,
           23
          ],
          [
           "J.Hurts",
           2022,
           24
          ],
          [
           "J.Burrow",
           2022,
           25
          ],
          [
           "D.Mills",
           2022,
           23
          ],
          [
           "J.Fields",
           2022,
           23
          ],
          [
           "T.Lawrence",
           2022,
           22
          ],
          [
           "M.Jones",
           2022,
           23
          ]
         ],
         "hovertemplate": "total_epa_last=%{x}<br>total_epa=%{y}<br>passer=%{customdata[0]}<br>season=%{customdata[1]}<br>age=%{customdata[2]}<extra></extra>",
         "legendgroup": "",
         "marker": {
          "color": "#636efa",
          "symbol": "circle"
         },
         "mode": "markers",
         "name": "",
         "orientation": "v",
         "showlegend": false,
         "type": "scatter",
         "x": [
          189.0089111328125,
          289.9870910644531,
          219.54510498046875,
          136.48748779296875,
          141.3544464111328,
          178.64492797851562,
          157.78524780273438,
          201.05735778808594,
          125.59221649169922,
          64.1090316772461,
          154.74057006835938,
          178.60177612304688,
          144.11842346191406,
          205.3642578125,
          132.58648681640625,
          146.2931671142578,
          164.4297332763672,
          123.01773834228516,
          64.8183822631836,
          195.10037231445312,
          138.09898376464844,
          96.28364562988281,
          88.98387908935547,
          -2.61649227142334,
          94.11974334716797,
          104.93814086914062,
          29.003646850585938,
          12.416454315185547,
          122.07715606689453,
          133.6166534423828,
          185.92861938476562,
          114.51410675048828,
          119.56207275390625,
          120.54957580566406,
          66.38597869873047,
          88.0877456665039,
          201.77825927734375,
          127.79766845703125,
          118.46062469482422,
          107.25119018554688,
          136.08326721191406,
          172.86180114746094,
          122.51121520996094,
          79.79230499267578,
          104.64727783203125,
          77.75576782226562,
          85.42232513427734,
          212.7300262451172,
          82.06135559082031,
          137.34312438964844,
          113.74191284179688,
          207.85385131835938,
          175.7491455078125,
          53.2031135559082,
          90.25341796875,
          29.082170486450195,
          178.66290283203125,
          94.9619369506836,
          114.6756591796875,
          128.66148376464844,
          234.7013397216797,
          114.86822509765625,
          194.15072631835938,
          117.15947723388672,
          127.69292449951172,
          57.49031448364258,
          71.84979248046875,
          34.37605667114258,
          29.138351440429688,
          66.57794189453125,
          83.98954010009766,
          104.68744659423828,
          80.1993179321289,
          135.21595764160156,
          129.06956481933594,
          115.38626098632812,
          36.01737594604492,
          100.85691833496094,
          101.22673034667969,
          53.1552619934082,
          128.5223388671875,
          40.247154235839844,
          52.33869934082031,
          58.314125061035156,
          101.1370849609375,
          26.872201919555664,
          150.06517028808594,
          109.31198120117188,
          66.63034057617188,
          113.6603012084961,
          102.51427459716797,
          89.2877197265625,
          93.66680145263672,
          126.48495483398438,
          142.4130401611328,
          90.3947525024414,
          197.8321075439453,
          102.01917266845703,
          95.27787017822266,
          149.3368682861328,
          133.37095642089844,
          149.64212036132812,
          66.64588928222656,
          142.77247619628906,
          157.7026824951172,
          76.05281066894531,
          68.41539001464844,
          134.0363311767578,
          155.87600708007812,
          123.91651916503906,
          126.8125,
          81.53404235839844,
          78.66423797607422,
          23.216190338134766,
          91.90545654296875,
          94.47760772705078,
          67.93907165527344,
          118.5773696899414,
          164.8254852294922,
          95.47187805175781,
          9.870315551757812,
          56.76792526245117,
          80.41143798828125,
          -28.443452835083008,
          48.77410888671875,
          102.3570327758789,
          31.004150390625,
          91.25435638427734,
          125.9789810180664,
          110.62016296386719,
          99.24331665039062,
          -43.96107864379883,
          91.96887969970703,
          13.48803424835205,
          70.13898468017578,
          81.32073211669922,
          125.4361343383789,
          69.79512023925781,
          94.69263458251953,
          13.033363342285156,
          60.55259323120117,
          85.15003967285156,
          -2.937206268310547,
          156.4217987060547,
          24.055362701416016,
          105.2884521484375,
          162.11634826660156,
          124.74850463867188,
          182.7744598388672,
          116.01600646972656,
          69.611083984375,
          39.611412048339844,
          147.3688201904297,
          129.3516082763672,
          4.763964653015137,
          85.03694152832031,
          258.6269226074219,
          156.6225128173828,
          204.59735107421875,
          174.4383544921875,
          26.628467559814453,
          166.0731658935547,
          96.71658325195312,
          62.984134674072266,
          73.63514709472656,
          48.53242111206055,
          127.6982650756836,
          64.44574737548828,
          -0.307367205619812,
          48.33684158325195,
          203.4391632080078,
          111.31758117675781,
          19.190153121948242,
          40.246456146240234,
          -26.442058563232422,
          55.8492317199707,
          77.15907287597656,
          45.14666748046875,
          58.70366287231445,
          133.24569702148438,
          155.75965881347656,
          11.283132553100586,
          57.88930892944336,
          179.57801818847656,
          4.351459503173828,
          11.06822681427002,
          -5.757250785827637,
          87.295166015625
         ],
         "xaxis": "x",
         "y": [
          289.9870910644531,
          147.67648315429688,
          136.48748779296875,
          141.3544464111328,
          178.64492797851562,
          157.78524780273438,
          201.05735778808594,
          125.59221649169922,
          64.1090316772461,
          154.74057006835938,
          178.60177612304688,
          85.29232025146484,
          205.3642578125,
          132.58648681640625,
          146.2931671142578,
          164.4297332763672,
          123.01773834228516,
          167.6293182373047,
          67.49576568603516,
          94.4928207397461,
          96.28364562988281,
          177.12440490722656,
          -2.61649227142334,
          94.11974334716797,
          104.93814086914062,
          29.003646850585938,
          12.416454315185547,
          109.8666763305664,
          133.6166534423828,
          185.92861938476562,
          114.51410675048828,
          119.56207275390625,
          120.54957580566406,
          160.16600036621094,
          24.763687133789062,
          201.77825927734375,
          127.79766845703125,
          118.46062469482422,
          107.25119018554688,
          136.08326721191406,
          172.86180114746094,
          122.51121520996094,
          125.59021759033203,
          104.64727783203125,
          77.75576782226562,
          85.42232513427734,
          145.66943359375,
          82.06135559082031,
          186.16876220703125,
          113.74191284179688,
          207.85385131835938,
          175.7491455078125,
          46.2866096496582,
          90.25341796875,
          -10.94044017791748,
          89.52287292480469,
          94.9619369506836,
          114.6756591796875,
          128.66148376464844,
          234.7013397216797,
          114.86822509765625,
          194.15072631835938,
          117.15947723388672,
          127.69292449951172,
          57.49031448364258,
          29.042987823486328,
          34.37605667114258,
          94.2977066040039,
          -12.908798217773438,
          83.98954010009766,
          104.68744659423828,
          80.1993179321289,
          135.21595764160156,
          129.06956481933594,
          77.62177276611328,
          176.27003479003906,
          117.22608184814453,
          101.22673034667969,
          53.1552619934082,
          128.5223388671875,
          40.247154235839844,
          52.33869934082031,
          73.968994140625,
          101.1370849609375,
          26.872201919555664,
          150.06517028808594,
          109.31198120117188,
          23.289430618286133,
          113.6603012084961,
          83.45918273925781,
          89.2877197265625,
          69.22423553466797,
          32.53664016723633,
          142.4130401611328,
          90.3947525024414,
          197.8321075439453,
          102.01917266845703,
          95.27787017822266,
          149.3368682861328,
          133.37095642089844,
          149.64212036132812,
          66.64588928222656,
          39.08064270019531,
          157.7026824951172,
          76.05281066894531,
          68.41539001464844,
          134.0363311767578,
          155.87600708007812,
          123.91651916503906,
          102.60832977294922,
          66.61923217773438,
          78.66423797607422,
          126.96269226074219,
          91.90545654296875,
          94.47760772705078,
          67.93907165527344,
          52.371307373046875,
          164.8254852294922,
          95.47187805175781,
          71.5313720703125,
          35.31463623046875,
          61.15157699584961,
          98.66676330566406,
          48.77410888671875,
          102.3570327758789,
          31.004150390625,
          91.25435638427734,
          125.9789810180664,
          110.62016296386719,
          99.24331665039062,
          58.113006591796875,
          91.96887969970703,
          13.48803424835205,
          70.13898468017578,
          -6.3869829177856445,
          125.4361343383789,
          106.77505493164062,
          94.69263458251953,
          13.033363342285156,
          65.4013442993164,
          136.49899291992188,
          -2.937206268310547,
          83.7559585571289,
          24.055362701416016,
          105.2884521484375,
          163.0177764892578,
          68.24459075927734,
          182.7744598388672,
          116.01600646972656,
          69.611083984375,
          39.611412048339844,
          146.55496215820312,
          129.3516082763672,
          195.1536102294922,
          85.03694152832031,
          31.31000328063965,
          156.6225128173828,
          204.59735107421875,
          174.4383544921875,
          214.77484130859375,
          166.0731658935547,
          96.71658325195312,
          62.984134674072266,
          39.184364318847656,
          48.53242111206055,
          127.6982650756836,
          64.44574737548828,
          5.318650245666504,
          48.33684158325195,
          203.4391632080078,
          111.31758117675781,
          143.16270446777344,
          40.246456146240234,
          -26.442058563232422,
          -24.852563858032227,
          77.15907287597656,
          112.25428771972656,
          46.55377960205078,
          131.72987365722656,
          155.75965881347656,
          78.63265228271484,
          57.88930892944336,
          99.72904205322266,
          155.39816284179688,
          -12.086908340454102,
          5.0197367668151855,
          138.1348419189453,
          20.139646530151367
         ],
         "yaxis": "y"
        }
       ],
       "layout": {
        "legend": {
         "tracegroupgap": 0
        },
        "margin": {
         "t": 60
        },
        "template": {
         "data": {
          "bar": [
           {
            "error_x": {
             "color": "#2a3f5f"
            },
            "error_y": {
             "color": "#2a3f5f"
            },
            "marker": {
             "line": {
              "color": "#E5ECF6",
              "width": 0.5
             },
             "pattern": {
              "fillmode": "overlay",
              "size": 10,
              "solidity": 0.2
             }
            },
            "type": "bar"
           }
          ],
          "barpolar": [
           {
            "marker": {
             "line": {
              "color": "#E5ECF6",
              "width": 0.5
             },
             "pattern": {
              "fillmode": "overlay",
              "size": 10,
              "solidity": 0.2
             }
            },
            "type": "barpolar"
           }
          ],
          "carpet": [
           {
            "aaxis": {
             "endlinecolor": "#2a3f5f",
             "gridcolor": "white",
             "linecolor": "white",
             "minorgridcolor": "white",
             "startlinecolor": "#2a3f5f"
            },
            "baxis": {
             "endlinecolor": "#2a3f5f",
             "gridcolor": "white",
             "linecolor": "white",
             "minorgridcolor": "white",
             "startlinecolor": "#2a3f5f"
            },
            "type": "carpet"
           }
          ],
          "choropleth": [
           {
            "colorbar": {
             "outlinewidth": 0,
             "ticks": ""
            },
            "type": "choropleth"
           }
          ],
          "contour": [
           {
            "colorbar": {
             "outlinewidth": 0,
             "ticks": ""
            },
            "colorscale": [
             [
              0,
              "#0d0887"
             ],
             [
              0.1111111111111111,
              "#46039f"
             ],
             [
              0.2222222222222222,
              "#7201a8"
             ],
             [
              0.3333333333333333,
              "#9c179e"
             ],
             [
              0.4444444444444444,
              "#bd3786"
             ],
             [
              0.5555555555555556,
              "#d8576b"
             ],
             [
              0.6666666666666666,
              "#ed7953"
             ],
             [
              0.7777777777777778,
              "#fb9f3a"
             ],
             [
              0.8888888888888888,
              "#fdca26"
             ],
             [
              1,
              "#f0f921"
             ]
            ],
            "type": "contour"
           }
          ],
          "contourcarpet": [
           {
            "colorbar": {
             "outlinewidth": 0,
             "ticks": ""
            },
            "type": "contourcarpet"
           }
          ],
          "heatmap": [
           {
            "colorbar": {
             "outlinewidth": 0,
             "ticks": ""
            },
            "colorscale": [
             [
              0,
              "#0d0887"
             ],
             [
              0.1111111111111111,
              "#46039f"
             ],
             [
              0.2222222222222222,
              "#7201a8"
             ],
             [
              0.3333333333333333,
              "#9c179e"
             ],
             [
              0.4444444444444444,
              "#bd3786"
             ],
             [
              0.5555555555555556,
              "#d8576b"
             ],
             [
              0.6666666666666666,
              "#ed7953"
             ],
             [
              0.7777777777777778,
              "#fb9f3a"
             ],
             [
              0.8888888888888888,
              "#fdca26"
             ],
             [
              1,
              "#f0f921"
             ]
            ],
            "type": "heatmap"
           }
          ],
          "heatmapgl": [
           {
            "colorbar": {
             "outlinewidth": 0,
             "ticks": ""
            },
            "colorscale": [
             [
              0,
              "#0d0887"
             ],
             [
              0.1111111111111111,
              "#46039f"
             ],
             [
              0.2222222222222222,
              "#7201a8"
             ],
             [
              0.3333333333333333,
              "#9c179e"
             ],
             [
              0.4444444444444444,
              "#bd3786"
             ],
             [
              0.5555555555555556,
              "#d8576b"
             ],
             [
              0.6666666666666666,
              "#ed7953"
             ],
             [
              0.7777777777777778,
              "#fb9f3a"
             ],
             [
              0.8888888888888888,
              "#fdca26"
             ],
             [
              1,
              "#f0f921"
             ]
            ],
            "type": "heatmapgl"
           }
          ],
          "histogram": [
           {
            "marker": {
             "pattern": {
              "fillmode": "overlay",
              "size": 10,
              "solidity": 0.2
             }
            },
            "type": "histogram"
           }
          ],
          "histogram2d": [
           {
            "colorbar": {
             "outlinewidth": 0,
             "ticks": ""
            },
            "colorscale": [
             [
              0,
              "#0d0887"
             ],
             [
              0.1111111111111111,
              "#46039f"
             ],
             [
              0.2222222222222222,
              "#7201a8"
             ],
             [
              0.3333333333333333,
              "#9c179e"
             ],
             [
              0.4444444444444444,
              "#bd3786"
             ],
             [
              0.5555555555555556,
              "#d8576b"
             ],
             [
              0.6666666666666666,
              "#ed7953"
             ],
             [
              0.7777777777777778,
              "#fb9f3a"
             ],
             [
              0.8888888888888888,
              "#fdca26"
             ],
             [
              1,
              "#f0f921"
             ]
            ],
            "type": "histogram2d"
           }
          ],
          "histogram2dcontour": [
           {
            "colorbar": {
             "outlinewidth": 0,
             "ticks": ""
            },
            "colorscale": [
             [
              0,
              "#0d0887"
             ],
             [
              0.1111111111111111,
              "#46039f"
             ],
             [
              0.2222222222222222,
              "#7201a8"
             ],
             [
              0.3333333333333333,
              "#9c179e"
             ],
             [
              0.4444444444444444,
              "#bd3786"
             ],
             [
              0.5555555555555556,
              "#d8576b"
             ],
             [
              0.6666666666666666,
              "#ed7953"
             ],
             [
              0.7777777777777778,
              "#fb9f3a"
             ],
             [
              0.8888888888888888,
              "#fdca26"
             ],
             [
              1,
              "#f0f921"
             ]
            ],
            "type": "histogram2dcontour"
           }
          ],
          "mesh3d": [
           {
            "colorbar": {
             "outlinewidth": 0,
             "ticks": ""
            },
            "type": "mesh3d"
           }
          ],
          "parcoords": [
           {
            "line": {
             "colorbar": {
              "outlinewidth": 0,
              "ticks": ""
             }
            },
            "type": "parcoords"
           }
          ],
          "pie": [
           {
            "automargin": true,
            "type": "pie"
           }
          ],
          "scatter": [
           {
            "fillpattern": {
             "fillmode": "overlay",
             "size": 10,
             "solidity": 0.2
            },
            "type": "scatter"
           }
          ],
          "scatter3d": [
           {
            "line": {
             "colorbar": {
              "outlinewidth": 0,
              "ticks": ""
             }
            },
            "marker": {
             "colorbar": {
              "outlinewidth": 0,
              "ticks": ""
             }
            },
            "type": "scatter3d"
           }
          ],
          "scattercarpet": [
           {
            "marker": {
             "colorbar": {
              "outlinewidth": 0,
              "ticks": ""
             }
            },
            "type": "scattercarpet"
           }
          ],
          "scattergeo": [
           {
            "marker": {
             "colorbar": {
              "outlinewidth": 0,
              "ticks": ""
             }
            },
            "type": "scattergeo"
           }
          ],
          "scattergl": [
           {
            "marker": {
             "colorbar": {
              "outlinewidth": 0,
              "ticks": ""
             }
            },
            "type": "scattergl"
           }
          ],
          "scattermapbox": [
           {
            "marker": {
             "colorbar": {
              "outlinewidth": 0,
              "ticks": ""
             }
            },
            "type": "scattermapbox"
           }
          ],
          "scatterpolar": [
           {
            "marker": {
             "colorbar": {
              "outlinewidth": 0,
              "ticks": ""
             }
            },
            "type": "scatterpolar"
           }
          ],
          "scatterpolargl": [
           {
            "marker": {
             "colorbar": {
              "outlinewidth": 0,
              "ticks": ""
             }
            },
            "type": "scatterpolargl"
           }
          ],
          "scatterternary": [
           {
            "marker": {
             "colorbar": {
              "outlinewidth": 0,
              "ticks": ""
             }
            },
            "type": "scatterternary"
           }
          ],
          "surface": [
           {
            "colorbar": {
             "outlinewidth": 0,
             "ticks": ""
            },
            "colorscale": [
             [
              0,
              "#0d0887"
             ],
             [
              0.1111111111111111,
              "#46039f"
             ],
             [
              0.2222222222222222,
              "#7201a8"
             ],
             [
              0.3333333333333333,
              "#9c179e"
             ],
             [
              0.4444444444444444,
              "#bd3786"
             ],
             [
              0.5555555555555556,
              "#d8576b"
             ],
             [
              0.6666666666666666,
              "#ed7953"
             ],
             [
              0.7777777777777778,
              "#fb9f3a"
             ],
             [
              0.8888888888888888,
              "#fdca26"
             ],
             [
              1,
              "#f0f921"
             ]
            ],
            "type": "surface"
           }
          ],
          "table": [
           {
            "cells": {
             "fill": {
              "color": "#EBF0F8"
             },
             "line": {
              "color": "white"
             }
            },
            "header": {
             "fill": {
              "color": "#C8D4E3"
             },
             "line": {
              "color": "white"
             }
            },
            "type": "table"
           }
          ]
         },
         "layout": {
          "annotationdefaults": {
           "arrowcolor": "#2a3f5f",
           "arrowhead": 0,
           "arrowwidth": 1
          },
          "autotypenumbers": "strict",
          "coloraxis": {
           "colorbar": {
            "outlinewidth": 0,
            "ticks": ""
           }
          },
          "colorscale": {
           "diverging": [
            [
             0,
             "#8e0152"
            ],
            [
             0.1,
             "#c51b7d"
            ],
            [
             0.2,
             "#de77ae"
            ],
            [
             0.3,
             "#f1b6da"
            ],
            [
             0.4,
             "#fde0ef"
            ],
            [
             0.5,
             "#f7f7f7"
            ],
            [
             0.6,
             "#e6f5d0"
            ],
            [
             0.7,
             "#b8e186"
            ],
            [
             0.8,
             "#7fbc41"
            ],
            [
             0.9,
             "#4d9221"
            ],
            [
             1,
             "#276419"
            ]
           ],
           "sequential": [
            [
             0,
             "#0d0887"
            ],
            [
             0.1111111111111111,
             "#46039f"
            ],
            [
             0.2222222222222222,
             "#7201a8"
            ],
            [
             0.3333333333333333,
             "#9c179e"
            ],
            [
             0.4444444444444444,
             "#bd3786"
            ],
            [
             0.5555555555555556,
             "#d8576b"
            ],
            [
             0.6666666666666666,
             "#ed7953"
            ],
            [
             0.7777777777777778,
             "#fb9f3a"
            ],
            [
             0.8888888888888888,
             "#fdca26"
            ],
            [
             1,
             "#f0f921"
            ]
           ],
           "sequentialminus": [
            [
             0,
             "#0d0887"
            ],
            [
             0.1111111111111111,
             "#46039f"
            ],
            [
             0.2222222222222222,
             "#7201a8"
            ],
            [
             0.3333333333333333,
             "#9c179e"
            ],
            [
             0.4444444444444444,
             "#bd3786"
            ],
            [
             0.5555555555555556,
             "#d8576b"
            ],
            [
             0.6666666666666666,
             "#ed7953"
            ],
            [
             0.7777777777777778,
             "#fb9f3a"
            ],
            [
             0.8888888888888888,
             "#fdca26"
            ],
            [
             1,
             "#f0f921"
            ]
           ]
          },
          "colorway": [
           "#636efa",
           "#EF553B",
           "#00cc96",
           "#ab63fa",
           "#FFA15A",
           "#19d3f3",
           "#FF6692",
           "#B6E880",
           "#FF97FF",
           "#FECB52"
          ],
          "font": {
           "color": "#2a3f5f"
          },
          "geo": {
           "bgcolor": "white",
           "lakecolor": "white",
           "landcolor": "#E5ECF6",
           "showlakes": true,
           "showland": true,
           "subunitcolor": "white"
          },
          "hoverlabel": {
           "align": "left"
          },
          "hovermode": "closest",
          "mapbox": {
           "style": "light"
          },
          "paper_bgcolor": "white",
          "plot_bgcolor": "#E5ECF6",
          "polar": {
           "angularaxis": {
            "gridcolor": "white",
            "linecolor": "white",
            "ticks": ""
           },
           "bgcolor": "#E5ECF6",
           "radialaxis": {
            "gridcolor": "white",
            "linecolor": "white",
            "ticks": ""
           }
          },
          "scene": {
           "xaxis": {
            "backgroundcolor": "#E5ECF6",
            "gridcolor": "white",
            "gridwidth": 2,
            "linecolor": "white",
            "showbackground": true,
            "ticks": "",
            "zerolinecolor": "white"
           },
           "yaxis": {
            "backgroundcolor": "#E5ECF6",
            "gridcolor": "white",
            "gridwidth": 2,
            "linecolor": "white",
            "showbackground": true,
            "ticks": "",
            "zerolinecolor": "white"
           },
           "zaxis": {
            "backgroundcolor": "#E5ECF6",
            "gridcolor": "white",
            "gridwidth": 2,
            "linecolor": "white",
            "showbackground": true,
            "ticks": "",
            "zerolinecolor": "white"
           }
          },
          "shapedefaults": {
           "line": {
            "color": "#2a3f5f"
           }
          },
          "ternary": {
           "aaxis": {
            "gridcolor": "white",
            "linecolor": "white",
            "ticks": ""
           },
           "baxis": {
            "gridcolor": "white",
            "linecolor": "white",
            "ticks": ""
           },
           "bgcolor": "#E5ECF6",
           "caxis": {
            "gridcolor": "white",
            "linecolor": "white",
            "ticks": ""
           }
          },
          "title": {
           "x": 0.05
          },
          "xaxis": {
           "automargin": true,
           "gridcolor": "white",
           "linecolor": "white",
           "ticks": "",
           "title": {
            "standoff": 15
           },
           "zerolinecolor": "white",
           "zerolinewidth": 2
          },
          "yaxis": {
           "automargin": true,
           "gridcolor": "white",
           "linecolor": "white",
           "ticks": "",
           "title": {
            "standoff": 15
           },
           "zerolinecolor": "white",
           "zerolinewidth": 2
          }
         }
        },
        "xaxis": {
         "anchor": "y",
         "domain": [
          0,
          1
         ],
         "title": {
          "text": "total_epa_last"
         }
        },
        "yaxis": {
         "anchor": "x",
         "domain": [
          0,
          1
         ],
         "title": {
          "text": "total_epa"
         }
        }
       }
      },
      "text/html": [
       "<div>                            <div id=\"73f316ab-e3e9-4e73-b0de-b97bd8d5eebc\" class=\"plotly-graph-div\" style=\"height:525px; width:100%;\"></div>            <script type=\"text/javascript\">                require([\"plotly\"], function(Plotly) {                    window.PLOTLYENV=window.PLOTLYENV || {};                                    if (document.getElementById(\"73f316ab-e3e9-4e73-b0de-b97bd8d5eebc\")) {                    Plotly.newPlot(                        \"73f316ab-e3e9-4e73-b0de-b97bd8d5eebc\",                        [{\"customdata\":[[\"P.Manning\",2013,37.0],[\"P.Manning\",2014,38.0],[\"T.Brady\",2013,36.0],[\"T.Brady\",2014,37.0],[\"T.Brady\",2015,38.0],[\"T.Brady\",2016,39.0],[\"T.Brady\",2017,40.0],[\"T.Brady\",2018,41.0],[\"T.Brady\",2019,42.0],[\"T.Brady\",2020,43.0],[\"T.Brady\",2021,44.0],[\"T.Brady\",2022,45.0],[\"D.Brees\",2013,34.0],[\"D.Brees\",2014,35.0],[\"D.Brees\",2015,36.0],[\"D.Brees\",2016,37.0],[\"D.Brees\",2017,38.0],[\"D.Brees\",2018,39.0],[\"C.Palmer\",2013,33.0],[\"C.Palmer\",2016,36.0],[\"T.Romo\",2013,33.0],[\"T.Romo\",2014,34.0],[\"E.Manning\",2013,32.0],[\"E.Manning\",2014,33.0],[\"E.Manning\",2015,34.0],[\"E.Manning\",2016,35.0],[\"E.Manning\",2017,36.0],[\"E.Manning\",2018,37.0],[\"B.Roethlisberger\",2013,31.0],[\"B.Roethlisberger\",2014,32.0],[\"B.Roethlisberger\",2015,33.0],[\"B.Roethlisberger\",2016,34.0],[\"B.Roethlisberger\",2017,35.0],[\"B.Roethlisberger\",2018,36.0],[\"B.Roethlisberger\",2021,39.0],[\"P.Rivers\",2013,31.0],[\"P.Rivers\",2014,32.0],[\"P.Rivers\",2015,33.0],[\"P.Rivers\",2016,34.0],[\"P.Rivers\",2017,35.0],[\"P.Rivers\",2018,36.0],[\"P.Rivers\",2019,37.0],[\"P.Rivers\",2020,38.0],[\"A.Smith\",2014,30.0],[\"A.Smith\",2015,31.0],[\"A.Smith\",2016,32.0],[\"A.Smith\",2017,33.0],[\"A.Rodgers\",2015,31.0],[\"A.Rodgers\",2016,32.0],[\"A.Rodgers\",2019,35.0],[\"A.Rodgers\",2020,36.0],[\"A.Rodgers\",2021,37.0],[\"A.Rodgers\",2022,38.0],[\"R.Fitzpatrick\",2015,32.0],[\"R.Fitzpatrick\",2016,33.0],[\"J.Cutler\",2015,32.0],[\"M.Ryan\",2013,28.0],[\"M.Ryan\",2014,29.0],[\"M.Ryan\",2015,30.0],[\"M.Ryan\",2016,31.0],[\"M.Ryan\",2017,32.0],[\"M.Ryan\",2018,33.0],[\"M.Ryan\",2019,34.0],[\"M.Ryan\",2020,35.0],[\"M.Ryan\",2021,36.0],[\"M.Ryan\",2022,37.0],[\"J.Flacco\",2013,28.0],[\"J.Flacco\",2014,29.0],[\"J.Flacco\",2017,32.0],[\"M.Stafford\",2013,25.0],[\"M.Stafford\",2014,26.0],[\"M.Stafford\",2015,27.0],[\"M.Stafford\",2016,28.0],[\"M.Stafford\",2017,29.0],[\"M.Stafford\",2018,30.0],[\"M.Stafford\",2021,33.0],[\"S.Bradford\",2016,28.0],[\"C.Newton\",2013,24.0],[\"C.Newton\",2014,25.0],[\"C.Newton\",2015,26.0],[\"C.Newton\",2016,27.0],[\"C.Newton\",2017,28.0],[\"C.Newton\",2018,29.0],[\"A.Dalton\",2013,25.0],[\"A.Dalton\",2014,26.0],[\"A.Dalton\",2015,27.0],[\"A.Dalton\",2016,28.0],[\"A.Dalton\",2017,29.0],[\"C.Kaepernick\",2013,25.0],[\"C.Kaepernick\",2014,26.0],[\"T.Taylor\",2016,27.0],[\"T.Taylor\",2017,28.0],[\"C.Keenum\",2018,30.0],[\"R.Wilson\",2013,24.0],[\"R.Wilson\",2014,25.0],[\"R.Wilson\",2015,26.0],[\"R.Wilson\",2016,27.0],[\"R.Wilson\",2017,28.0],[\"R.Wilson\",2018,29.0],[\"R.Wilson\",2019,30.0],[\"R.Wilson\",2020,31.0],[\"R.Wilson\",2021,32.0],[\"R.Wilson\",2022,33.0],[\"K.Cousins\",2016,28.0],[\"K.Cousins\",2017,29.0],[\"K.Cousins\",2018,30.0],[\"K.Cousins\",2019,31.0],[\"K.Cousins\",2020,32.0],[\"K.Cousins\",2021,33.0],[\"K.Cousins\",2022,34.0],[\"R.Griffin III\",2013,23.0],[\"A.Luck\",2013,23.0],[\"A.Luck\",2014,24.0],[\"R.Tannehill\",2013,25.0],[\"R.Tannehill\",2014,26.0],[\"R.Tannehill\",2015,27.0],[\"R.Tannehill\",2016,28.0],[\"R.Tannehill\",2020,32.0],[\"R.Tannehill\",2021,33.0],[\"R.Tannehill\",2022,34.0],[\"G.Smith\",2014,23.0],[\"T.Bridgewater\",2015,22.0],[\"T.Bridgewater\",2021,28.0],[\"D.Carr\",2015,24.0],[\"D.Carr\",2016,25.0],[\"D.Carr\",2017,26.0],[\"D.Carr\",2018,27.0],[\"D.Carr\",2019,28.0],[\"D.Carr\",2020,29.0],[\"D.Carr\",2021,30.0],[\"D.Carr\",2022,31.0],[\"B.Bortles\",2015,23.0],[\"B.Bortles\",2016,24.0],[\"B.Bortles\",2017,25.0],[\"B.Bortles\",2018,26.0],[\"J.Winston\",2016,22.0],[\"J.Winston\",2017,23.0],[\"M.Mariota\",2016,22.0],[\"M.Mariota\",2017,23.0],[\"M.Mariota\",2018,24.0],[\"C.Wentz\",2017,24.0],[\"C.Wentz\",2020,27.0],[\"C.Wentz\",2021,28.0],[\"D.Prescott\",2017,24.0],[\"D.Prescott\",2018,25.0],[\"D.Prescott\",2019,26.0],[\"D.Prescott\",2022,29.0],[\"J.Goff\",2018,23.0],[\"J.Goff\",2019,24.0],[\"J.Goff\",2020,25.0],[\"J.Goff\",2021,26.0],[\"J.Goff\",2022,27.0],[\"D.Watson\",2019,23.0],[\"D.Watson\",2020,24.0],[\"M.Trubisky\",2018,24.0],[\"M.Trubisky\",2019,25.0],[\"P.Mahomes\",2019,23.0],[\"P.Mahomes\",2020,24.0],[\"P.Mahomes\",2021,25.0],[\"P.Mahomes\",2022,26.0],[\"L.Jackson\",2019,22.0],[\"L.Jackson\",2020,23.0],[\"L.Jackson\",2021,24.0],[\"L.Jackson\",2022,25.0],[\"B.Mayfield\",2019,24.0],[\"B.Mayfield\",2020,25.0],[\"B.Mayfield\",2021,26.0],[\"B.Mayfield\",2022,27.0],[\"J.Allen\",2019,23.0],[\"J.Allen\",2020,24.0],[\"J.Allen\",2021,25.0],[\"J.Allen\",2022,26.0],[\"S.Darnold\",2019,22.0],[\"S.Darnold\",2020,23.0],[\"S.Darnold\",2021,24.0],[\"K.Murray\",2020,23.0],[\"K.Murray\",2021,24.0],[\"D.Jones\",2020,23.0],[\"T.Tagovailoa\",2022,24.0],[\"J.Herbert\",2021,23.0],[\"J.Herbert\",2022,24.0],[\"J.Hurts\",2021,23.0],[\"J.Hurts\",2022,24.0],[\"J.Burrow\",2022,25.0],[\"D.Mills\",2022,23.0],[\"J.Fields\",2022,23.0],[\"T.Lawrence\",2022,22.0],[\"M.Jones\",2022,23.0]],\"hovertemplate\":\"total_epa_last=%{x}\\u003cbr\\u003etotal_epa=%{y}\\u003cbr\\u003epasser=%{customdata[0]}\\u003cbr\\u003eseason=%{customdata[1]}\\u003cbr\\u003eage=%{customdata[2]}\\u003cextra\\u003e\\u003c\\u002fextra\\u003e\",\"legendgroup\":\"\",\"marker\":{\"color\":\"#636efa\",\"symbol\":\"circle\"},\"mode\":\"markers\",\"name\":\"\",\"orientation\":\"v\",\"showlegend\":false,\"x\":[189.0089111328125,289.9870910644531,219.54510498046875,136.48748779296875,141.3544464111328,178.64492797851562,157.78524780273438,201.05735778808594,125.59221649169922,64.1090316772461,154.74057006835938,178.60177612304688,144.11842346191406,205.3642578125,132.58648681640625,146.2931671142578,164.4297332763672,123.01773834228516,64.8183822631836,195.10037231445312,138.09898376464844,96.28364562988281,88.98387908935547,-2.61649227142334,94.11974334716797,104.93814086914062,29.003646850585938,12.416454315185547,122.07715606689453,133.6166534423828,185.92861938476562,114.51410675048828,119.56207275390625,120.54957580566406,66.38597869873047,88.0877456665039,201.77825927734375,127.79766845703125,118.46062469482422,107.25119018554688,136.08326721191406,172.86180114746094,122.51121520996094,79.79230499267578,104.64727783203125,77.75576782226562,85.42232513427734,212.7300262451172,82.06135559082031,137.34312438964844,113.74191284179688,207.85385131835938,175.7491455078125,53.2031135559082,90.25341796875,29.082170486450195,178.66290283203125,94.9619369506836,114.6756591796875,128.66148376464844,234.7013397216797,114.86822509765625,194.15072631835938,117.15947723388672,127.69292449951172,57.49031448364258,71.84979248046875,34.37605667114258,29.138351440429688,66.57794189453125,83.98954010009766,104.68744659423828,80.1993179321289,135.21595764160156,129.06956481933594,115.38626098632812,36.01737594604492,100.85691833496094,101.22673034667969,53.1552619934082,128.5223388671875,40.247154235839844,52.33869934082031,58.314125061035156,101.1370849609375,26.872201919555664,150.06517028808594,109.31198120117188,66.63034057617188,113.6603012084961,102.51427459716797,89.2877197265625,93.66680145263672,126.48495483398438,142.4130401611328,90.3947525024414,197.8321075439453,102.01917266845703,95.27787017822266,149.3368682861328,133.37095642089844,149.64212036132812,66.64588928222656,142.77247619628906,157.7026824951172,76.05281066894531,68.41539001464844,134.0363311767578,155.87600708007812,123.91651916503906,126.8125,81.53404235839844,78.66423797607422,23.216190338134766,91.90545654296875,94.47760772705078,67.93907165527344,118.5773696899414,164.8254852294922,95.47187805175781,9.870315551757812,56.76792526245117,80.41143798828125,-28.443452835083008,48.77410888671875,102.3570327758789,31.004150390625,91.25435638427734,125.9789810180664,110.62016296386719,99.24331665039062,-43.96107864379883,91.96887969970703,13.48803424835205,70.13898468017578,81.32073211669922,125.4361343383789,69.79512023925781,94.69263458251953,13.033363342285156,60.55259323120117,85.15003967285156,-2.937206268310547,156.4217987060547,24.055362701416016,105.2884521484375,162.11634826660156,124.74850463867188,182.7744598388672,116.01600646972656,69.611083984375,39.611412048339844,147.3688201904297,129.3516082763672,4.763964653015137,85.03694152832031,258.6269226074219,156.6225128173828,204.59735107421875,174.4383544921875,26.628467559814453,166.0731658935547,96.71658325195312,62.984134674072266,73.63514709472656,48.53242111206055,127.6982650756836,64.44574737548828,-0.307367205619812,48.33684158325195,203.4391632080078,111.31758117675781,19.190153121948242,40.246456146240234,-26.442058563232422,55.8492317199707,77.15907287597656,45.14666748046875,58.70366287231445,133.24569702148438,155.75965881347656,11.283132553100586,57.88930892944336,179.57801818847656,4.351459503173828,11.06822681427002,-5.757250785827637,87.295166015625],\"xaxis\":\"x\",\"y\":[289.9870910644531,147.67648315429688,136.48748779296875,141.3544464111328,178.64492797851562,157.78524780273438,201.05735778808594,125.59221649169922,64.1090316772461,154.74057006835938,178.60177612304688,85.29232025146484,205.3642578125,132.58648681640625,146.2931671142578,164.4297332763672,123.01773834228516,167.6293182373047,67.49576568603516,94.4928207397461,96.28364562988281,177.12440490722656,-2.61649227142334,94.11974334716797,104.93814086914062,29.003646850585938,12.416454315185547,109.8666763305664,133.6166534423828,185.92861938476562,114.51410675048828,119.56207275390625,120.54957580566406,160.16600036621094,24.763687133789062,201.77825927734375,127.79766845703125,118.46062469482422,107.25119018554688,136.08326721191406,172.86180114746094,122.51121520996094,125.59021759033203,104.64727783203125,77.75576782226562,85.42232513427734,145.66943359375,82.06135559082031,186.16876220703125,113.74191284179688,207.85385131835938,175.7491455078125,46.2866096496582,90.25341796875,-10.94044017791748,89.52287292480469,94.9619369506836,114.6756591796875,128.66148376464844,234.7013397216797,114.86822509765625,194.15072631835938,117.15947723388672,127.69292449951172,57.49031448364258,29.042987823486328,34.37605667114258,94.2977066040039,-12.908798217773438,83.98954010009766,104.68744659423828,80.1993179321289,135.21595764160156,129.06956481933594,77.62177276611328,176.27003479003906,117.22608184814453,101.22673034667969,53.1552619934082,128.5223388671875,40.247154235839844,52.33869934082031,73.968994140625,101.1370849609375,26.872201919555664,150.06517028808594,109.31198120117188,23.289430618286133,113.6603012084961,83.45918273925781,89.2877197265625,69.22423553466797,32.53664016723633,142.4130401611328,90.3947525024414,197.8321075439453,102.01917266845703,95.27787017822266,149.3368682861328,133.37095642089844,149.64212036132812,66.64588928222656,39.08064270019531,157.7026824951172,76.05281066894531,68.41539001464844,134.0363311767578,155.87600708007812,123.91651916503906,102.60832977294922,66.61923217773438,78.66423797607422,126.96269226074219,91.90545654296875,94.47760772705078,67.93907165527344,52.371307373046875,164.8254852294922,95.47187805175781,71.5313720703125,35.31463623046875,61.15157699584961,98.66676330566406,48.77410888671875,102.3570327758789,31.004150390625,91.25435638427734,125.9789810180664,110.62016296386719,99.24331665039062,58.113006591796875,91.96887969970703,13.48803424835205,70.13898468017578,-6.3869829177856445,125.4361343383789,106.77505493164062,94.69263458251953,13.033363342285156,65.4013442993164,136.49899291992188,-2.937206268310547,83.7559585571289,24.055362701416016,105.2884521484375,163.0177764892578,68.24459075927734,182.7744598388672,116.01600646972656,69.611083984375,39.611412048339844,146.55496215820312,129.3516082763672,195.1536102294922,85.03694152832031,31.31000328063965,156.6225128173828,204.59735107421875,174.4383544921875,214.77484130859375,166.0731658935547,96.71658325195312,62.984134674072266,39.184364318847656,48.53242111206055,127.6982650756836,64.44574737548828,5.318650245666504,48.33684158325195,203.4391632080078,111.31758117675781,143.16270446777344,40.246456146240234,-26.442058563232422,-24.852563858032227,77.15907287597656,112.25428771972656,46.55377960205078,131.72987365722656,155.75965881347656,78.63265228271484,57.88930892944336,99.72904205322266,155.39816284179688,-12.086908340454102,5.0197367668151855,138.1348419189453,20.139646530151367],\"yaxis\":\"y\",\"type\":\"scatter\"}],                        {\"template\":{\"data\":{\"histogram2dcontour\":[{\"type\":\"histogram2dcontour\",\"colorbar\":{\"outlinewidth\":0,\"ticks\":\"\"},\"colorscale\":[[0.0,\"#0d0887\"],[0.1111111111111111,\"#46039f\"],[0.2222222222222222,\"#7201a8\"],[0.3333333333333333,\"#9c179e\"],[0.4444444444444444,\"#bd3786\"],[0.5555555555555556,\"#d8576b\"],[0.6666666666666666,\"#ed7953\"],[0.7777777777777778,\"#fb9f3a\"],[0.8888888888888888,\"#fdca26\"],[1.0,\"#f0f921\"]]}],\"choropleth\":[{\"type\":\"choropleth\",\"colorbar\":{\"outlinewidth\":0,\"ticks\":\"\"}}],\"histogram2d\":[{\"type\":\"histogram2d\",\"colorbar\":{\"outlinewidth\":0,\"ticks\":\"\"},\"colorscale\":[[0.0,\"#0d0887\"],[0.1111111111111111,\"#46039f\"],[0.2222222222222222,\"#7201a8\"],[0.3333333333333333,\"#9c179e\"],[0.4444444444444444,\"#bd3786\"],[0.5555555555555556,\"#d8576b\"],[0.6666666666666666,\"#ed7953\"],[0.7777777777777778,\"#fb9f3a\"],[0.8888888888888888,\"#fdca26\"],[1.0,\"#f0f921\"]]}],\"heatmap\":[{\"type\":\"heatmap\",\"colorbar\":{\"outlinewidth\":0,\"ticks\":\"\"},\"colorscale\":[[0.0,\"#0d0887\"],[0.1111111111111111,\"#46039f\"],[0.2222222222222222,\"#7201a8\"],[0.3333333333333333,\"#9c179e\"],[0.4444444444444444,\"#bd3786\"],[0.5555555555555556,\"#d8576b\"],[0.6666666666666666,\"#ed7953\"],[0.7777777777777778,\"#fb9f3a\"],[0.8888888888888888,\"#fdca26\"],[1.0,\"#f0f921\"]]}],\"heatmapgl\":[{\"type\":\"heatmapgl\",\"colorbar\":{\"outlinewidth\":0,\"ticks\":\"\"},\"colorscale\":[[0.0,\"#0d0887\"],[0.1111111111111111,\"#46039f\"],[0.2222222222222222,\"#7201a8\"],[0.3333333333333333,\"#9c179e\"],[0.4444444444444444,\"#bd3786\"],[0.5555555555555556,\"#d8576b\"],[0.6666666666666666,\"#ed7953\"],[0.7777777777777778,\"#fb9f3a\"],[0.8888888888888888,\"#fdca26\"],[1.0,\"#f0f921\"]]}],\"contourcarpet\":[{\"type\":\"contourcarpet\",\"colorbar\":{\"outlinewidth\":0,\"ticks\":\"\"}}],\"contour\":[{\"type\":\"contour\",\"colorbar\":{\"outlinewidth\":0,\"ticks\":\"\"},\"colorscale\":[[0.0,\"#0d0887\"],[0.1111111111111111,\"#46039f\"],[0.2222222222222222,\"#7201a8\"],[0.3333333333333333,\"#9c179e\"],[0.4444444444444444,\"#bd3786\"],[0.5555555555555556,\"#d8576b\"],[0.6666666666666666,\"#ed7953\"],[0.7777777777777778,\"#fb9f3a\"],[0.8888888888888888,\"#fdca26\"],[1.0,\"#f0f921\"]]}],\"surface\":[{\"type\":\"surface\",\"colorbar\":{\"outlinewidth\":0,\"ticks\":\"\"},\"colorscale\":[[0.0,\"#0d0887\"],[0.1111111111111111,\"#46039f\"],[0.2222222222222222,\"#7201a8\"],[0.3333333333333333,\"#9c179e\"],[0.4444444444444444,\"#bd3786\"],[0.5555555555555556,\"#d8576b\"],[0.6666666666666666,\"#ed7953\"],[0.7777777777777778,\"#fb9f3a\"],[0.8888888888888888,\"#fdca26\"],[1.0,\"#f0f921\"]]}],\"mesh3d\":[{\"type\":\"mesh3d\",\"colorbar\":{\"outlinewidth\":0,\"ticks\":\"\"}}],\"scatter\":[{\"fillpattern\":{\"fillmode\":\"overlay\",\"size\":10,\"solidity\":0.2},\"type\":\"scatter\"}],\"parcoords\":[{\"type\":\"parcoords\",\"line\":{\"colorbar\":{\"outlinewidth\":0,\"ticks\":\"\"}}}],\"scatterpolargl\":[{\"type\":\"scatterpolargl\",\"marker\":{\"colorbar\":{\"outlinewidth\":0,\"ticks\":\"\"}}}],\"bar\":[{\"error_x\":{\"color\":\"#2a3f5f\"},\"error_y\":{\"color\":\"#2a3f5f\"},\"marker\":{\"line\":{\"color\":\"#E5ECF6\",\"width\":0.5},\"pattern\":{\"fillmode\":\"overlay\",\"size\":10,\"solidity\":0.2}},\"type\":\"bar\"}],\"scattergeo\":[{\"type\":\"scattergeo\",\"marker\":{\"colorbar\":{\"outlinewidth\":0,\"ticks\":\"\"}}}],\"scatterpolar\":[{\"type\":\"scatterpolar\",\"marker\":{\"colorbar\":{\"outlinewidth\":0,\"ticks\":\"\"}}}],\"histogram\":[{\"marker\":{\"pattern\":{\"fillmode\":\"overlay\",\"size\":10,\"solidity\":0.2}},\"type\":\"histogram\"}],\"scattergl\":[{\"type\":\"scattergl\",\"marker\":{\"colorbar\":{\"outlinewidth\":0,\"ticks\":\"\"}}}],\"scatter3d\":[{\"type\":\"scatter3d\",\"line\":{\"colorbar\":{\"outlinewidth\":0,\"ticks\":\"\"}},\"marker\":{\"colorbar\":{\"outlinewidth\":0,\"ticks\":\"\"}}}],\"scattermapbox\":[{\"type\":\"scattermapbox\",\"marker\":{\"colorbar\":{\"outlinewidth\":0,\"ticks\":\"\"}}}],\"scatterternary\":[{\"type\":\"scatterternary\",\"marker\":{\"colorbar\":{\"outlinewidth\":0,\"ticks\":\"\"}}}],\"scattercarpet\":[{\"type\":\"scattercarpet\",\"marker\":{\"colorbar\":{\"outlinewidth\":0,\"ticks\":\"\"}}}],\"carpet\":[{\"aaxis\":{\"endlinecolor\":\"#2a3f5f\",\"gridcolor\":\"white\",\"linecolor\":\"white\",\"minorgridcolor\":\"white\",\"startlinecolor\":\"#2a3f5f\"},\"baxis\":{\"endlinecolor\":\"#2a3f5f\",\"gridcolor\":\"white\",\"linecolor\":\"white\",\"minorgridcolor\":\"white\",\"startlinecolor\":\"#2a3f5f\"},\"type\":\"carpet\"}],\"table\":[{\"cells\":{\"fill\":{\"color\":\"#EBF0F8\"},\"line\":{\"color\":\"white\"}},\"header\":{\"fill\":{\"color\":\"#C8D4E3\"},\"line\":{\"color\":\"white\"}},\"type\":\"table\"}],\"barpolar\":[{\"marker\":{\"line\":{\"color\":\"#E5ECF6\",\"width\":0.5},\"pattern\":{\"fillmode\":\"overlay\",\"size\":10,\"solidity\":0.2}},\"type\":\"barpolar\"}],\"pie\":[{\"automargin\":true,\"type\":\"pie\"}]},\"layout\":{\"autotypenumbers\":\"strict\",\"colorway\":[\"#636efa\",\"#EF553B\",\"#00cc96\",\"#ab63fa\",\"#FFA15A\",\"#19d3f3\",\"#FF6692\",\"#B6E880\",\"#FF97FF\",\"#FECB52\"],\"font\":{\"color\":\"#2a3f5f\"},\"hovermode\":\"closest\",\"hoverlabel\":{\"align\":\"left\"},\"paper_bgcolor\":\"white\",\"plot_bgcolor\":\"#E5ECF6\",\"polar\":{\"bgcolor\":\"#E5ECF6\",\"angularaxis\":{\"gridcolor\":\"white\",\"linecolor\":\"white\",\"ticks\":\"\"},\"radialaxis\":{\"gridcolor\":\"white\",\"linecolor\":\"white\",\"ticks\":\"\"}},\"ternary\":{\"bgcolor\":\"#E5ECF6\",\"aaxis\":{\"gridcolor\":\"white\",\"linecolor\":\"white\",\"ticks\":\"\"},\"baxis\":{\"gridcolor\":\"white\",\"linecolor\":\"white\",\"ticks\":\"\"},\"caxis\":{\"gridcolor\":\"white\",\"linecolor\":\"white\",\"ticks\":\"\"}},\"coloraxis\":{\"colorbar\":{\"outlinewidth\":0,\"ticks\":\"\"}},\"colorscale\":{\"sequential\":[[0.0,\"#0d0887\"],[0.1111111111111111,\"#46039f\"],[0.2222222222222222,\"#7201a8\"],[0.3333333333333333,\"#9c179e\"],[0.4444444444444444,\"#bd3786\"],[0.5555555555555556,\"#d8576b\"],[0.6666666666666666,\"#ed7953\"],[0.7777777777777778,\"#fb9f3a\"],[0.8888888888888888,\"#fdca26\"],[1.0,\"#f0f921\"]],\"sequentialminus\":[[0.0,\"#0d0887\"],[0.1111111111111111,\"#46039f\"],[0.2222222222222222,\"#7201a8\"],[0.3333333333333333,\"#9c179e\"],[0.4444444444444444,\"#bd3786\"],[0.5555555555555556,\"#d8576b\"],[0.6666666666666666,\"#ed7953\"],[0.7777777777777778,\"#fb9f3a\"],[0.8888888888888888,\"#fdca26\"],[1.0,\"#f0f921\"]],\"diverging\":[[0,\"#8e0152\"],[0.1,\"#c51b7d\"],[0.2,\"#de77ae\"],[0.3,\"#f1b6da\"],[0.4,\"#fde0ef\"],[0.5,\"#f7f7f7\"],[0.6,\"#e6f5d0\"],[0.7,\"#b8e186\"],[0.8,\"#7fbc41\"],[0.9,\"#4d9221\"],[1,\"#276419\"]]},\"xaxis\":{\"gridcolor\":\"white\",\"linecolor\":\"white\",\"ticks\":\"\",\"title\":{\"standoff\":15},\"zerolinecolor\":\"white\",\"automargin\":true,\"zerolinewidth\":2},\"yaxis\":{\"gridcolor\":\"white\",\"linecolor\":\"white\",\"ticks\":\"\",\"title\":{\"standoff\":15},\"zerolinecolor\":\"white\",\"automargin\":true,\"zerolinewidth\":2},\"scene\":{\"xaxis\":{\"backgroundcolor\":\"#E5ECF6\",\"gridcolor\":\"white\",\"linecolor\":\"white\",\"showbackground\":true,\"ticks\":\"\",\"zerolinecolor\":\"white\",\"gridwidth\":2},\"yaxis\":{\"backgroundcolor\":\"#E5ECF6\",\"gridcolor\":\"white\",\"linecolor\":\"white\",\"showbackground\":true,\"ticks\":\"\",\"zerolinecolor\":\"white\",\"gridwidth\":2},\"zaxis\":{\"backgroundcolor\":\"#E5ECF6\",\"gridcolor\":\"white\",\"linecolor\":\"white\",\"showbackground\":true,\"ticks\":\"\",\"zerolinecolor\":\"white\",\"gridwidth\":2}},\"shapedefaults\":{\"line\":{\"color\":\"#2a3f5f\"}},\"annotationdefaults\":{\"arrowcolor\":\"#2a3f5f\",\"arrowhead\":0,\"arrowwidth\":1},\"geo\":{\"bgcolor\":\"white\",\"landcolor\":\"#E5ECF6\",\"subunitcolor\":\"white\",\"showland\":true,\"showlakes\":true,\"lakecolor\":\"white\"},\"title\":{\"x\":0.05},\"mapbox\":{\"style\":\"light\"}}},\"xaxis\":{\"anchor\":\"y\",\"domain\":[0.0,1.0],\"title\":{\"text\":\"total_epa_last\"}},\"yaxis\":{\"anchor\":\"x\",\"domain\":[0.0,1.0],\"title\":{\"text\":\"total_epa\"}},\"legend\":{\"tracegroupgap\":0},\"margin\":{\"t\":60}},                        {\"responsive\": true}                    ).then(function(){\n",
       "                            \n",
       "var gd = document.getElementById('73f316ab-e3e9-4e73-b0de-b97bd8d5eebc');\n",
       "var x = new MutationObserver(function (mutations, observer) {{\n",
       "        var display = window.getComputedStyle(gd).display;\n",
       "        if (!display || display === 'none') {{\n",
       "            console.log([gd, 'removed!']);\n",
       "            Plotly.purge(gd);\n",
       "            observer.disconnect();\n",
       "        }}\n",
       "}});\n",
       "\n",
       "// Listen for the removal of the full notebook cells\n",
       "var notebookContainer = gd.closest('#notebook-container');\n",
       "if (notebookContainer) {{\n",
       "    x.observe(notebookContainer, {childList: true});\n",
       "}}\n",
       "\n",
       "// Listen for the clearing of the current output cell\n",
       "var outputEl = gd.closest('.output');\n",
       "if (outputEl) {{\n",
       "    x.observe(outputEl, {childList: true});\n",
       "}}\n",
       "\n",
       "                        })                };                });            </script>        </div>"
      ]
     },
     "metadata": {},
     "output_type": "display_data"
    }
   ],
   "source": [
    "fig = px.scatter(df, x=\"total_epa_last\", y=\"total_epa\",\n",
    "                 hover_data=[\"passer\", \"season\", \"age\"]\n",
    "                )\n",
    "fig.show()"
   ]
  },
  {
   "cell_type": "code",
   "execution_count": null,
   "id": "4811fdfe",
   "metadata": {},
   "outputs": [],
   "source": []
  }
 ],
 "metadata": {
  "kernelspec": {
   "display_name": "plotly",
   "language": "python",
   "name": "plotly"
  },
  "language_info": {
   "codemirror_mode": {
    "name": "ipython",
    "version": 3
   },
   "file_extension": ".py",
   "mimetype": "text/x-python",
   "name": "python",
   "nbconvert_exporter": "python",
   "pygments_lexer": "ipython3",
   "version": "3.9.7"
  }
 },
 "nbformat": 4,
 "nbformat_minor": 5
}
