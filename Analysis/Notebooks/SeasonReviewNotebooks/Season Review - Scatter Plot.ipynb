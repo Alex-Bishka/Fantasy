{
 "cells": [
  {
   "cell_type": "markdown",
   "id": "b86826fa",
   "metadata": {},
   "source": [
    "# Imports"
   ]
  },
  {
   "cell_type": "code",
   "execution_count": null,
   "id": "f2638fe7",
   "metadata": {},
   "outputs": [
    {
     "name": "stdout",
     "output_type": "stream",
     "text": [
      "Defaulting to user installation because normal site-packages is not writeable\n",
      "Collecting plotly\n",
      "  Downloading plotly-5.19.0-py3-none-any.whl.metadata (7.0 kB)\n",
      "Requirement already satisfied: tenacity>=6.2.0 in /home/alex/.local/lib/python3.10/site-packages (from plotly) (8.2.3)\n",
      "Requirement already satisfied: packaging in /home/alex/.local/lib/python3.10/site-packages (from plotly) (21.2)\n",
      "Requirement already satisfied: pyparsing<3,>=2.0.2 in /usr/lib/python3/dist-packages (from packaging->plotly) (2.4.7)\n",
      "Downloading plotly-5.19.0-py3-none-any.whl (15.7 MB)\n",
      "\u001b[2K   \u001b[38;2;249;38;114m━━━━━━━━━━━━━━━━━━━━━━━━━━━━━━━━━━━━━━\u001b[0m\u001b[38;5;237m╺\u001b[0m\u001b[38;5;237m━\u001b[0m \u001b[32m15.0/15.7 MB\u001b[0m \u001b[31m975.1 kB/s\u001b[0m eta \u001b[36m0:00:01\u001b[0m:01\u001b[0m"
     ]
    }
   ],
   "source": [
    " pip install plotly"
   ]
  },
  {
   "cell_type": "code",
   "execution_count": 1,
   "id": "fefb1ff0",
   "metadata": {},
   "outputs": [
    {
     "name": "stderr",
     "output_type": "stream",
     "text": [
      "/home/alex/.local/lib/python3.10/site-packages/sklearn/utils/__init__.py:16: UserWarning: A NumPy version >=1.22.4 and <1.29.0 is required for this version of SciPy (detected version 1.22.2)\n",
      "  from scipy.sparse import issparse\n"
     ]
    },
    {
     "ename": "ModuleNotFoundError",
     "evalue": "No module named 'plotly'",
     "output_type": "error",
     "traceback": [
      "\u001b[0;31m---------------------------------------------------------------------------\u001b[0m",
      "\u001b[0;31mModuleNotFoundError\u001b[0m                       Traceback (most recent call last)",
      "\u001b[0;32m/tmp/ipykernel_30864/3398770665.py\u001b[0m in \u001b[0;36m<module>\u001b[0;34m\u001b[0m\n\u001b[1;32m      4\u001b[0m \u001b[0;32mimport\u001b[0m \u001b[0mpandas\u001b[0m \u001b[0;32mas\u001b[0m \u001b[0mpd\u001b[0m\u001b[0;34m\u001b[0m\u001b[0;34m\u001b[0m\u001b[0m\n\u001b[1;32m      5\u001b[0m \u001b[0;32mimport\u001b[0m \u001b[0mmatplotlib\u001b[0m\u001b[0;34m.\u001b[0m\u001b[0mpyplot\u001b[0m \u001b[0;32mas\u001b[0m \u001b[0mplt\u001b[0m\u001b[0;34m\u001b[0m\u001b[0;34m\u001b[0m\u001b[0m\n\u001b[0;32m----> 6\u001b[0;31m \u001b[0;32mimport\u001b[0m \u001b[0mplotly\u001b[0m\u001b[0;34m.\u001b[0m\u001b[0mexpress\u001b[0m \u001b[0;32mas\u001b[0m \u001b[0mpx\u001b[0m\u001b[0;34m\u001b[0m\u001b[0;34m\u001b[0m\u001b[0m\n\u001b[0m",
      "\u001b[0;31mModuleNotFoundError\u001b[0m: No module named 'plotly'"
     ]
    }
   ],
   "source": [
    "from sklearn.cluster import KMeans\n",
    "from sklearn.preprocessing import StandardScaler\n",
    "import numpy as np\n",
    "import pandas as pd\n",
    "import matplotlib.pyplot as plt\n",
    "import plotly.express as px"
   ]
  },
  {
   "cell_type": "markdown",
   "id": "cf802385",
   "metadata": {},
   "source": [
    "# Grabbing Data"
   ]
  },
  {
   "cell_type": "code",
   "execution_count": null,
   "id": "17de234c",
   "metadata": {},
   "outputs": [],
   "source": [
    "df_all = pd.read_pickle(\"../interactive/df_all_2005_2023.pkl\")"
   ]
  },
  {
   "cell_type": "code",
   "execution_count": null,
   "id": "0ec93fc0",
   "metadata": {},
   "outputs": [],
   "source": [
    "season = 2023\n",
    "position = 'QB'"
   ]
  },
  {
   "cell_type": "code",
   "execution_count": null,
   "id": "c37a5f78",
   "metadata": {},
   "outputs": [],
   "source": [
    "df_review = df_all.query(f\"season == {season} and position == '{position}' and games >= 5\")"
   ]
  },
  {
   "cell_type": "markdown",
   "id": "5935e849",
   "metadata": {},
   "source": [
    "### Verifying Data"
   ]
  },
  {
   "cell_type": "code",
   "execution_count": null,
   "id": "bfd4a5b4",
   "metadata": {},
   "outputs": [],
   "source": [
    "assert(df_review[\"position\"].unique()[0] == position)\n",
    "assert(df_review[\"season\"].unique()[0] == season)\n",
    "assert(df_review[\"games\"].max() == 17)"
   ]
  },
  {
   "cell_type": "markdown",
   "id": "50d54441",
   "metadata": {},
   "source": [
    "# Line Graph"
   ]
  },
  {
   "cell_type": "code",
   "execution_count": null,
   "id": "be871fb3",
   "metadata": {},
   "outputs": [],
   "source": [
    "df_review.columns"
   ]
  },
  {
   "cell_type": "code",
   "execution_count": null,
   "id": "94425497",
   "metadata": {},
   "outputs": [],
   "source": [
    "col_to_graph = \"dakota\""
   ]
  },
  {
   "cell_type": "code",
   "execution_count": null,
   "id": "0c76afa9",
   "metadata": {},
   "outputs": [],
   "source": [
    "df_sorted = df_review.sort_values(by=col_to_graph, ascending=True).copy()"
   ]
  },
  {
   "cell_type": "code",
   "execution_count": null,
   "id": "22994d3a",
   "metadata": {},
   "outputs": [],
   "source": [
    "per_game = True"
   ]
  },
  {
   "cell_type": "code",
   "execution_count": null,
   "id": "f65e2385",
   "metadata": {},
   "outputs": [],
   "source": [
    "if per_game:\n",
    "    df_sorted[f\"{col_to_graph}_per_game\"] = df_sorted[col_to_graph] / df_sorted[\"games\"]\n",
    "    col_to_graph += \"_per_game\"\n",
    "    df_sorted.sort_values(by=col_to_graph, ascending=True, inplace=True)"
   ]
  },
  {
   "cell_type": "code",
   "execution_count": null,
   "id": "c72b1f8d",
   "metadata": {},
   "outputs": [],
   "source": [
    "df_sorted.reset_index(inplace=True)"
   ]
  },
  {
   "cell_type": "code",
   "execution_count": null,
   "id": "1a669866",
   "metadata": {},
   "outputs": [],
   "source": [
    "# Calculate the reverse index for each row (starting from the bottom)\n",
    "reverse_index = (len(df_sorted) - 1) - df_sorted.index\n",
    "\n",
    "# Calculate the group for each row based on the reverse index\n",
    "group = reverse_index // 12"
   ]
  },
  {
   "cell_type": "code",
   "execution_count": null,
   "id": "4aa06fbb",
   "metadata": {},
   "outputs": [],
   "source": [
    "# Map each group to a color\n",
    "colors = {0: 'Tier 1', 1: 'Tier 2', 2: 'Tier 3', 3: 'Tier 4', 4: 'Tier 5', 5: 'Tier 6'}\n",
    "df_sorted['Color'] = group.map(colors)"
   ]
  },
  {
   "cell_type": "code",
   "execution_count": null,
   "id": "07ea279c",
   "metadata": {},
   "outputs": [],
   "source": [
    "# scatter plot\n",
    "start_index = -30\n",
    "fig = px.scatter(df_sorted[start_index:], x=\"player_name\", y=col_to_graph, color='Color')\n",
    "\n",
    "# Add a horizontal line at qb1 line\n",
    "qb1_line_h = df_sorted[col_to_graph].iloc[-12]\n",
    "fig.add_shape(type=\"line\",\n",
    "              x0=0, x1=1, y0=qb1_line_h, y1=qb1_line_h,\n",
    "              line=dict(color=\"black\", width=2),\n",
    "              xref=\"paper\", yref=\"y\")\n",
    "\n",
    "# add a vertical line at qb1\n",
    "qb1_line_v = df_sorted[\"player_name\"].iloc[-12]\n",
    "fig.add_shape(type=\"line\",\n",
    "              x0=qb1_line_v, x1=qb1_line_v, y0=df_sorted[col_to_graph].iloc[start_index - 10], \n",
    "              y1=df_sorted[col_to_graph].max()* 1.1,\n",
    "              line=dict(color=\"black\", width=2),\n",
    "              xref=\"x\", yref=\"y\")\n",
    "\n",
    "# Add a horizontal line at qb2 line\n",
    "qb2_line_h = df_sorted[col_to_graph].iloc[-24]\n",
    "fig.add_shape(type=\"line\",\n",
    "              x0=0, x1=1, y0=qb2_line_h, y1=qb2_line_h,\n",
    "              line=dict(color=\"black\", width=2),\n",
    "              xref=\"paper\", yref=\"y\")\n",
    "\n",
    "# add a vertical line at qb2\n",
    "qb2_line_v = df_sorted[\"player_name\"].iloc[-24]\n",
    "fig.add_shape(type=\"line\",\n",
    "              x0=qb2_line_v, x1=qb2_line_v, y0=df_sorted[col_to_graph].iloc[start_index - 10], \n",
    "              y1=df_sorted[col_to_graph].max()* 1.1,\n",
    "              line=dict(color=\"black\", width=2),\n",
    "              xref=\"x\", yref=\"y\")\n",
    "\n",
    "fig.update_traces(marker=dict(size=12))\n",
    "\n",
    "fig.update_layout(\n",
    "    title='2023 QB Dakoa',\n",
    "    xaxis_title=\"Player Names\",\n",
    "    yaxis_title='Dakota (Per Game)',\n",
    "    legend_title='QB Tiers',\n",
    ")\n",
    "        \n",
    "fig.write_html(\"../interactive-2.0/QB/2023-review-pt2/dakota-per-game.html\")\n",
    "fig.show()"
   ]
  },
  {
   "cell_type": "code",
   "execution_count": null,
   "id": "55ea4e17",
   "metadata": {},
   "outputs": [],
   "source": []
  }
 ],
 "metadata": {
  "kernelspec": {
   "display_name": "plotly",
   "language": "python",
   "name": "plotly"
  },
  "language_info": {
   "codemirror_mode": {
    "name": "ipython",
    "version": 3
   },
   "file_extension": ".py",
   "mimetype": "text/x-python",
   "name": "python",
   "nbconvert_exporter": "python",
   "pygments_lexer": "ipython3",
   "version": "3.10.12"
  }
 },
 "nbformat": 4,
 "nbformat_minor": 5
}
