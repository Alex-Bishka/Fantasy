{
 "cells": [
  {
   "cell_type": "markdown",
   "id": "b86826fa",
   "metadata": {},
   "source": [
    "# Imports"
   ]
  },
  {
   "cell_type": "code",
   "execution_count": 2,
   "id": "fefb1ff0",
   "metadata": {},
   "outputs": [],
   "source": [
    "import numpy as np\n",
    "import pandas as pd\n",
    "from utils.scatter_plot import create_scatter_plot, prep_df_for_scatter_plot"
   ]
  },
  {
   "cell_type": "markdown",
   "id": "cf802385",
   "metadata": {},
   "source": [
    "# Grabbing Data"
   ]
  },
  {
   "cell_type": "code",
   "execution_count": null,
   "id": "17de234c",
   "metadata": {},
   "outputs": [],
   "source": [
    "df_all = pd.read_pickle(\"../../FantasyData/data-frames/df_all_2005_2023.pkl\")"
   ]
  },
  {
   "cell_type": "code",
   "execution_count": null,
   "id": "0ec93fc0",
   "metadata": {},
   "outputs": [],
   "source": [
    "SEASON = 2023\n",
    "POSITION = 'QB'"
   ]
  },
  {
   "cell_type": "code",
   "execution_count": null,
   "id": "c37a5f78",
   "metadata": {},
   "outputs": [],
   "source": [
    "df_review = df_all.query(f\"season == {SEASON} and position == '{POSITION}' and games >= 5\")"
   ]
  },
  {
   "cell_type": "markdown",
   "id": "5935e849",
   "metadata": {},
   "source": [
    "### Verifying Data"
   ]
  },
  {
   "cell_type": "code",
   "execution_count": null,
   "id": "bfd4a5b4",
   "metadata": {},
   "outputs": [],
   "source": [
    "assert(df_review[\"position\"].unique()[0] == POSITION)\n",
    "assert(df_review[\"season\"].unique()[0] == SEASON)\n",
    "assert(df_review[\"games\"].max() == 17)"
   ]
  },
  {
   "cell_type": "markdown",
   "id": "50d54441",
   "metadata": {},
   "source": [
    "# Line Graph"
   ]
  },
  {
   "cell_type": "markdown",
   "id": "a264643c",
   "metadata": {},
   "source": [
    "Reviewing column options"
   ]
  },
  {
   "cell_type": "code",
   "execution_count": null,
   "id": "be871fb3",
   "metadata": {},
   "outputs": [],
   "source": [
    "df_review.columns"
   ]
  },
  {
   "cell_type": "code",
   "execution_count": null,
   "id": "b53eaf59",
   "metadata": {},
   "outputs": [],
   "source": [
    "rushing_stats = [\n",
    "    'carries',\n",
    "    'rushing_yards',\n",
    "    'rushing_tds',\n",
    "    'rushing_fumbles',\n",
    "    'rushing_fumbles_lost',\n",
    "    'rushing_first_downs',\n",
    "    'rushing_epa',\n",
    "    'rushing_2pt_conversions'\n",
    "]"
   ]
  },
  {
   "cell_type": "markdown",
   "id": "eed5eb49",
   "metadata": {},
   "source": [
    "Selecting column to graph the players by"
   ]
  },
  {
   "cell_type": "code",
   "execution_count": null,
   "id": "94425497",
   "metadata": {},
   "outputs": [],
   "source": [
    "col_to_graph = \"fantasy_points\""
   ]
  },
  {
   "cell_type": "markdown",
   "id": "527f3fd3",
   "metadata": {},
   "source": [
    "Selecting appendix and division column. For example, if we wanted `x per game`, we would set the `appendix` to \"per_game\" and the `div_col` to \"games\". Alternatively, if we wanted `x per carry`. we would set the `appendix` to \"per_carry\" and the `div_col` to \"carries\"."
   ]
  },
  {
   "cell_type": "code",
   "execution_count": null,
   "id": "b5db00a3",
   "metadata": {},
   "outputs": [],
   "source": [
    "appendix = \"per_game\"\n",
    "div_col = \"games\""
   ]
  },
  {
   "cell_type": "code",
   "execution_count": null,
   "id": "0c76afa9",
   "metadata": {},
   "outputs": [],
   "source": [
    "df_sorted = df_review.sort_values(by=col_to_graph, ascending=True).copy()\n",
    "df_sorted_per_game = df_sorted.copy()"
   ]
  },
  {
   "cell_type": "markdown",
   "id": "82b2df33",
   "metadata": {},
   "source": [
    "### Per Game Version of Stat"
   ]
  },
  {
   "cell_type": "code",
   "execution_count": null,
   "id": "f65e2385",
   "metadata": {},
   "outputs": [],
   "source": [
    "df_sorted_per_game[f\"{col_to_graph}_{appendix}\"] = df_sorted[col_to_graph] / df_sorted[div_col]\n",
    "df_sorted_per_game.sort_values(by=f\"{col_to_graph}_{appendix}\", ascending=True, inplace=True)"
   ]
  },
  {
   "cell_type": "markdown",
   "id": "32db63f2",
   "metadata": {},
   "source": [
    "### Coloring Player Tiers"
   ]
  },
  {
   "cell_type": "code",
   "execution_count": null,
   "id": "5c74192b",
   "metadata": {},
   "outputs": [],
   "source": [
    "# season total version\n",
    "df_sorted = prep_df_for_scatter_plot(df_sorted)\n",
    "\n",
    "# per game version\n",
    "df_sorted_per_game = prep_df_for_scatter_plot(df_sorted_per_game)"
   ]
  },
  {
   "cell_type": "code",
   "execution_count": null,
   "id": "035caf15",
   "metadata": {},
   "outputs": [],
   "source": [
    "df_sorted[[\"total_epa\", \"fantasy_points\"]].corr()"
   ]
  },
  {
   "cell_type": "markdown",
   "id": "b01c3ce1",
   "metadata": {},
   "source": [
    "# Scatter Plot"
   ]
  },
  {
   "cell_type": "code",
   "execution_count": null,
   "id": "e8865f97",
   "metadata": {},
   "outputs": [],
   "source": [
    "save_path = f\"../../interactive-2.0/QB/2023-review-pt3/scatter_{col_to_graph}.html\""
   ]
  },
  {
   "cell_type": "code",
   "execution_count": null,
   "id": "55ea4e17",
   "metadata": {},
   "outputs": [],
   "source": [
    "create_scatter_plot(df_sorted, stat=col_to_graph, custom_appendix=appendix, save_path=save_path)"
   ]
  },
  {
   "cell_type": "code",
   "execution_count": null,
   "id": "39933d8f",
   "metadata": {},
   "outputs": [],
   "source": [
    "create_scatter_plot(df_sorted_per_game, stat=col_to_graph, custom_appendix=appendix, save_path=save_path)"
   ]
  },
  {
   "cell_type": "code",
   "execution_count": null,
   "id": "b35dee2f",
   "metadata": {},
   "outputs": [],
   "source": []
  }
 ],
 "metadata": {
  "kernelspec": {
   "display_name": "plotly",
   "language": "python",
   "name": "plotly"
  },
  "language_info": {
   "codemirror_mode": {
    "name": "ipython",
    "version": 3
   },
   "file_extension": ".py",
   "mimetype": "text/x-python",
   "name": "python",
   "nbconvert_exporter": "python",
   "pygments_lexer": "ipython3",
   "version": "3.10.12"
  }
 },
 "nbformat": 4,
 "nbformat_minor": 5
}
