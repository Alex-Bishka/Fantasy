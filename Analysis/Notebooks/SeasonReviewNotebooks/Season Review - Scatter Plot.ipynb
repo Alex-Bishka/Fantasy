{
 "cells": [
  {
   "cell_type": "markdown",
   "id": "b86826fa",
   "metadata": {},
   "source": [
    "# Imports"
   ]
  },
  {
   "cell_type": "code",
   "execution_count": 1,
   "id": "fefb1ff0",
   "metadata": {},
   "outputs": [],
   "source": [
    "import numpy as np\n",
    "import pandas as pd\n",
    "from utils.scatter_plot import create_scatter_plot, prep_df_for_scatter_plot"
   ]
  },
  {
   "cell_type": "markdown",
   "id": "cf802385",
   "metadata": {},
   "source": [
    "# Grabbing Data"
   ]
  },
  {
   "cell_type": "code",
   "execution_count": 2,
   "id": "17de234c",
   "metadata": {},
   "outputs": [],
   "source": [
    "df_all = pd.read_pickle(\"../../FantasyData/data-frames/df_all_2005_2023.pkl\")"
   ]
  },
  {
   "cell_type": "code",
   "execution_count": 3,
   "id": "0ec93fc0",
   "metadata": {},
   "outputs": [],
   "source": [
    "SEASON = 2023\n",
    "POSITION = 'WR'"
   ]
  },
  {
   "cell_type": "code",
   "execution_count": 4,
   "id": "c37a5f78",
   "metadata": {},
   "outputs": [],
   "source": [
    "df_review = df_all.query(f\"season == {SEASON} and position == '{POSITION}' and games >= 5\")"
   ]
  },
  {
   "cell_type": "markdown",
   "id": "5935e849",
   "metadata": {},
   "source": [
    "### Verifying Data"
   ]
  },
  {
   "cell_type": "code",
   "execution_count": 5,
   "id": "bfd4a5b4",
   "metadata": {},
   "outputs": [],
   "source": [
    "assert(df_review[\"position\"].unique()[0] == POSITION)\n",
    "assert(df_review[\"season\"].unique()[0] == SEASON)\n",
    "assert(df_review[\"games\"].max() == 17)"
   ]
  },
  {
   "cell_type": "code",
   "execution_count": 7,
   "id": "9c9bffdb",
   "metadata": {},
   "outputs": [
    {
     "data": {
      "text/html": [
       "<div>\n",
       "<style scoped>\n",
       "    .dataframe tbody tr th:only-of-type {\n",
       "        vertical-align: middle;\n",
       "    }\n",
       "\n",
       "    .dataframe tbody tr th {\n",
       "        vertical-align: top;\n",
       "    }\n",
       "\n",
       "    .dataframe thead th {\n",
       "        text-align: right;\n",
       "    }\n",
       "</style>\n",
       "<table border=\"1\" class=\"dataframe\">\n",
       "  <thead>\n",
       "    <tr style=\"text-align: right;\">\n",
       "      <th></th>\n",
       "      <th>targets</th>\n",
       "      <th>fantasy_points_ppr</th>\n",
       "    </tr>\n",
       "  </thead>\n",
       "  <tbody>\n",
       "    <tr>\n",
       "      <th>targets</th>\n",
       "      <td>1.000000</td>\n",
       "      <td>0.962021</td>\n",
       "    </tr>\n",
       "    <tr>\n",
       "      <th>fantasy_points_ppr</th>\n",
       "      <td>0.962021</td>\n",
       "      <td>1.000000</td>\n",
       "    </tr>\n",
       "  </tbody>\n",
       "</table>\n",
       "</div>"
      ],
      "text/plain": [
       "                     targets  fantasy_points_ppr\n",
       "targets             1.000000            0.962021\n",
       "fantasy_points_ppr  0.962021            1.000000"
      ]
     },
     "execution_count": 7,
     "metadata": {},
     "output_type": "execute_result"
    }
   ],
   "source": [
    "df_review[[\"targets\", \"fantasy_points_ppr\"]].corr()"
   ]
  },
  {
   "cell_type": "code",
   "execution_count": 14,
   "id": "eab715cb",
   "metadata": {},
   "outputs": [
    {
     "data": {
      "text/html": [
       "<div>\n",
       "<style scoped>\n",
       "    .dataframe tbody tr th:only-of-type {\n",
       "        vertical-align: middle;\n",
       "    }\n",
       "\n",
       "    .dataframe tbody tr th {\n",
       "        vertical-align: top;\n",
       "    }\n",
       "\n",
       "    .dataframe thead th {\n",
       "        text-align: right;\n",
       "    }\n",
       "</style>\n",
       "<table border=\"1\" class=\"dataframe\">\n",
       "  <thead>\n",
       "    <tr style=\"text-align: right;\">\n",
       "      <th></th>\n",
       "      <th>index</th>\n",
       "      <th>player_name</th>\n",
       "      <th>fantasy_points_ppr</th>\n",
       "      <th>targets</th>\n",
       "    </tr>\n",
       "  </thead>\n",
       "  <tbody>\n",
       "    <tr>\n",
       "      <th>0</th>\n",
       "      <td>11767</td>\n",
       "      <td>CeeDee Lamb</td>\n",
       "      <td>405.20</td>\n",
       "      <td>181</td>\n",
       "    </tr>\n",
       "    <tr>\n",
       "      <th>1</th>\n",
       "      <td>9688</td>\n",
       "      <td>Tyreek Hill</td>\n",
       "      <td>376.40</td>\n",
       "      <td>171</td>\n",
       "    </tr>\n",
       "    <tr>\n",
       "      <th>2</th>\n",
       "      <td>12039</td>\n",
       "      <td>Amon-Ra St. Brown</td>\n",
       "      <td>330.90</td>\n",
       "      <td>164</td>\n",
       "    </tr>\n",
       "    <tr>\n",
       "      <th>3</th>\n",
       "      <td>12353</td>\n",
       "      <td>Puka Nacua</td>\n",
       "      <td>298.50</td>\n",
       "      <td>160</td>\n",
       "    </tr>\n",
       "    <tr>\n",
       "      <th>4</th>\n",
       "      <td>11418</td>\n",
       "      <td>A.J. Brown</td>\n",
       "      <td>289.60</td>\n",
       "      <td>158</td>\n",
       "    </tr>\n",
       "    <tr>\n",
       "      <th>5</th>\n",
       "      <td>10909</td>\n",
       "      <td>D.J. Moore</td>\n",
       "      <td>286.50</td>\n",
       "      <td>136</td>\n",
       "    </tr>\n",
       "    <tr>\n",
       "      <th>6</th>\n",
       "      <td>8591</td>\n",
       "      <td>Mike Evans</td>\n",
       "      <td>282.50</td>\n",
       "      <td>136</td>\n",
       "    </tr>\n",
       "    <tr>\n",
       "      <th>7</th>\n",
       "      <td>7674</td>\n",
       "      <td>Keenan Allen</td>\n",
       "      <td>278.86</td>\n",
       "      <td>150</td>\n",
       "    </tr>\n",
       "    <tr>\n",
       "      <th>8</th>\n",
       "      <td>8730</td>\n",
       "      <td>Stefon Diggs</td>\n",
       "      <td>273.80</td>\n",
       "      <td>160</td>\n",
       "    </tr>\n",
       "    <tr>\n",
       "      <th>9</th>\n",
       "      <td>8539</td>\n",
       "      <td>Davante Adams</td>\n",
       "      <td>265.40</td>\n",
       "      <td>175</td>\n",
       "    </tr>\n",
       "    <tr>\n",
       "      <th>10</th>\n",
       "      <td>11999</td>\n",
       "      <td>Ja'Marr Chase</td>\n",
       "      <td>262.72</td>\n",
       "      <td>145</td>\n",
       "    </tr>\n",
       "    <tr>\n",
       "      <th>11</th>\n",
       "      <td>11882</td>\n",
       "      <td>Nico Collins</td>\n",
       "      <td>260.40</td>\n",
       "      <td>109</td>\n",
       "    </tr>\n",
       "    <tr>\n",
       "      <th>12</th>\n",
       "      <td>11661</td>\n",
       "      <td>Michael Pittman</td>\n",
       "      <td>252.20</td>\n",
       "      <td>156</td>\n",
       "    </tr>\n",
       "    <tr>\n",
       "      <th>13</th>\n",
       "      <td>11674</td>\n",
       "      <td>Brandon Aiyuk</td>\n",
       "      <td>249.20</td>\n",
       "      <td>105</td>\n",
       "    </tr>\n",
       "    <tr>\n",
       "      <th>14</th>\n",
       "      <td>11456</td>\n",
       "      <td>Deebo Samuel</td>\n",
       "      <td>243.70</td>\n",
       "      <td>89</td>\n",
       "    </tr>\n",
       "    <tr>\n",
       "      <th>15</th>\n",
       "      <td>12113</td>\n",
       "      <td>Chris Olave</td>\n",
       "      <td>231.30</td>\n",
       "      <td>138</td>\n",
       "    </tr>\n",
       "    <tr>\n",
       "      <th>16</th>\n",
       "      <td>7481</td>\n",
       "      <td>Adam Thielen</td>\n",
       "      <td>231.00</td>\n",
       "      <td>137</td>\n",
       "    </tr>\n",
       "    <tr>\n",
       "      <th>17</th>\n",
       "      <td>10927</td>\n",
       "      <td>Calvin Ridley</td>\n",
       "      <td>229.90</td>\n",
       "      <td>136</td>\n",
       "    </tr>\n",
       "    <tr>\n",
       "      <th>18</th>\n",
       "      <td>12007</td>\n",
       "      <td>DeVonta Smith</td>\n",
       "      <td>227.60</td>\n",
       "      <td>112</td>\n",
       "    </tr>\n",
       "    <tr>\n",
       "      <th>19</th>\n",
       "      <td>8663</td>\n",
       "      <td>Amari Cooper</td>\n",
       "      <td>227.00</td>\n",
       "      <td>128</td>\n",
       "    </tr>\n",
       "    <tr>\n",
       "      <th>20</th>\n",
       "      <td>11374</td>\n",
       "      <td>DK Metcalf</td>\n",
       "      <td>225.40</td>\n",
       "      <td>119</td>\n",
       "    </tr>\n",
       "    <tr>\n",
       "      <th>21</th>\n",
       "      <td>11373</td>\n",
       "      <td>D.K. Metcalf</td>\n",
       "      <td>225.40</td>\n",
       "      <td>119</td>\n",
       "    </tr>\n",
       "    <tr>\n",
       "      <th>22</th>\n",
       "      <td>7978</td>\n",
       "      <td>DeAndre Hopkins</td>\n",
       "      <td>223.60</td>\n",
       "      <td>137</td>\n",
       "    </tr>\n",
       "    <tr>\n",
       "      <th>23</th>\n",
       "      <td>12338</td>\n",
       "      <td>Jordan Addison</td>\n",
       "      <td>221.30</td>\n",
       "      <td>108</td>\n",
       "    </tr>\n",
       "    <tr>\n",
       "      <th>24</th>\n",
       "      <td>11007</td>\n",
       "      <td>Jakobi Meyers</td>\n",
       "      <td>218.58</td>\n",
       "      <td>106</td>\n",
       "    </tr>\n",
       "    <tr>\n",
       "      <th>25</th>\n",
       "      <td>12357</td>\n",
       "      <td>Jayden Reed</td>\n",
       "      <td>217.20</td>\n",
       "      <td>94</td>\n",
       "    </tr>\n",
       "    <tr>\n",
       "      <th>26</th>\n",
       "      <td>12203</td>\n",
       "      <td>Garrett Wilson</td>\n",
       "      <td>213.20</td>\n",
       "      <td>168</td>\n",
       "    </tr>\n",
       "    <tr>\n",
       "      <th>27</th>\n",
       "      <td>12351</td>\n",
       "      <td>Rashee Rice</td>\n",
       "      <td>212.50</td>\n",
       "      <td>102</td>\n",
       "    </tr>\n",
       "    <tr>\n",
       "      <th>28</th>\n",
       "      <td>10324</td>\n",
       "      <td>Chris Godwin</td>\n",
       "      <td>209.20</td>\n",
       "      <td>130</td>\n",
       "    </tr>\n",
       "    <tr>\n",
       "      <th>29</th>\n",
       "      <td>12117</td>\n",
       "      <td>George Pickens</td>\n",
       "      <td>208.80</td>\n",
       "      <td>106</td>\n",
       "    </tr>\n",
       "    <tr>\n",
       "      <th>30</th>\n",
       "      <td>12348</td>\n",
       "      <td>Zay Flowers</td>\n",
       "      <td>206.40</td>\n",
       "      <td>108</td>\n",
       "    </tr>\n",
       "    <tr>\n",
       "      <th>31</th>\n",
       "      <td>11731</td>\n",
       "      <td>Justin Jefferson</td>\n",
       "      <td>204.20</td>\n",
       "      <td>100</td>\n",
       "    </tr>\n",
       "    <tr>\n",
       "      <th>32</th>\n",
       "      <td>11398</td>\n",
       "      <td>Terry McLaurin</td>\n",
       "      <td>203.20</td>\n",
       "      <td>132</td>\n",
       "    </tr>\n",
       "    <tr>\n",
       "      <th>33</th>\n",
       "      <td>9197</td>\n",
       "      <td>Tyler Lockett</td>\n",
       "      <td>202.40</td>\n",
       "      <td>122</td>\n",
       "    </tr>\n",
       "    <tr>\n",
       "      <th>34</th>\n",
       "      <td>11902</td>\n",
       "      <td>Jaylen Waddle</td>\n",
       "      <td>198.60</td>\n",
       "      <td>104</td>\n",
       "    </tr>\n",
       "    <tr>\n",
       "      <th>35</th>\n",
       "      <td>10576</td>\n",
       "      <td>Courtland Sutton</td>\n",
       "      <td>190.20</td>\n",
       "      <td>90</td>\n",
       "    </tr>\n",
       "  </tbody>\n",
       "</table>\n",
       "</div>"
      ],
      "text/plain": [
       "    index        player_name  fantasy_points_ppr  targets\n",
       "0   11767        CeeDee Lamb              405.20      181\n",
       "1    9688        Tyreek Hill              376.40      171\n",
       "2   12039  Amon-Ra St. Brown              330.90      164\n",
       "3   12353         Puka Nacua              298.50      160\n",
       "4   11418         A.J. Brown              289.60      158\n",
       "5   10909         D.J. Moore              286.50      136\n",
       "6    8591         Mike Evans              282.50      136\n",
       "7    7674       Keenan Allen              278.86      150\n",
       "8    8730       Stefon Diggs              273.80      160\n",
       "9    8539      Davante Adams              265.40      175\n",
       "10  11999      Ja'Marr Chase              262.72      145\n",
       "11  11882       Nico Collins              260.40      109\n",
       "12  11661    Michael Pittman              252.20      156\n",
       "13  11674      Brandon Aiyuk              249.20      105\n",
       "14  11456       Deebo Samuel              243.70       89\n",
       "15  12113        Chris Olave              231.30      138\n",
       "16   7481       Adam Thielen              231.00      137\n",
       "17  10927      Calvin Ridley              229.90      136\n",
       "18  12007      DeVonta Smith              227.60      112\n",
       "19   8663       Amari Cooper              227.00      128\n",
       "20  11374         DK Metcalf              225.40      119\n",
       "21  11373       D.K. Metcalf              225.40      119\n",
       "22   7978    DeAndre Hopkins              223.60      137\n",
       "23  12338     Jordan Addison              221.30      108\n",
       "24  11007      Jakobi Meyers              218.58      106\n",
       "25  12357        Jayden Reed              217.20       94\n",
       "26  12203     Garrett Wilson              213.20      168\n",
       "27  12351        Rashee Rice              212.50      102\n",
       "28  10324       Chris Godwin              209.20      130\n",
       "29  12117     George Pickens              208.80      106\n",
       "30  12348        Zay Flowers              206.40      108\n",
       "31  11731   Justin Jefferson              204.20      100\n",
       "32  11398     Terry McLaurin              203.20      132\n",
       "33   9197      Tyler Lockett              202.40      122\n",
       "34  11902      Jaylen Waddle              198.60      104\n",
       "35  10576   Courtland Sutton              190.20       90"
      ]
     },
     "execution_count": 14,
     "metadata": {},
     "output_type": "execute_result"
    }
   ],
   "source": [
    "df_review \\\n",
    "    .sort_values(by=\"fantasy_points_ppr\", ascending=False)[[\"player_name\", \n",
    "                                                            \"fantasy_points_ppr\", \"targets\"]]\\\n",
    "    .reset_index() \\\n",
    "    .iloc[:36]"
   ]
  },
  {
   "cell_type": "code",
   "execution_count": 10,
   "id": "459c6767",
   "metadata": {},
   "outputs": [
    {
     "data": {
      "text/html": [
       "<div>\n",
       "<style scoped>\n",
       "    .dataframe tbody tr th:only-of-type {\n",
       "        vertical-align: middle;\n",
       "    }\n",
       "\n",
       "    .dataframe tbody tr th {\n",
       "        vertical-align: top;\n",
       "    }\n",
       "\n",
       "    .dataframe thead th {\n",
       "        text-align: right;\n",
       "    }\n",
       "</style>\n",
       "<table border=\"1\" class=\"dataframe\">\n",
       "  <thead>\n",
       "    <tr style=\"text-align: right;\">\n",
       "      <th></th>\n",
       "      <th>player_name</th>\n",
       "      <th>fantasy_points</th>\n",
       "      <th>targets</th>\n",
       "    </tr>\n",
       "  </thead>\n",
       "  <tbody>\n",
       "    <tr>\n",
       "      <th>7481</th>\n",
       "      <td>Adam Thielen</td>\n",
       "      <td>128.00</td>\n",
       "      <td>137</td>\n",
       "    </tr>\n",
       "    <tr>\n",
       "      <th>7674</th>\n",
       "      <td>Keenan Allen</td>\n",
       "      <td>170.86</td>\n",
       "      <td>150</td>\n",
       "    </tr>\n",
       "    <tr>\n",
       "      <th>7978</th>\n",
       "      <td>DeAndre Hopkins</td>\n",
       "      <td>148.60</td>\n",
       "      <td>137</td>\n",
       "    </tr>\n",
       "    <tr>\n",
       "      <th>8539</th>\n",
       "      <td>Davante Adams</td>\n",
       "      <td>162.40</td>\n",
       "      <td>175</td>\n",
       "    </tr>\n",
       "    <tr>\n",
       "      <th>8591</th>\n",
       "      <td>Mike Evans</td>\n",
       "      <td>203.50</td>\n",
       "      <td>136</td>\n",
       "    </tr>\n",
       "    <tr>\n",
       "      <th>8663</th>\n",
       "      <td>Amari Cooper</td>\n",
       "      <td>155.00</td>\n",
       "      <td>128</td>\n",
       "    </tr>\n",
       "    <tr>\n",
       "      <th>8730</th>\n",
       "      <td>Stefon Diggs</td>\n",
       "      <td>166.80</td>\n",
       "      <td>160</td>\n",
       "    </tr>\n",
       "    <tr>\n",
       "      <th>9197</th>\n",
       "      <td>Tyler Lockett</td>\n",
       "      <td>123.40</td>\n",
       "      <td>122</td>\n",
       "    </tr>\n",
       "    <tr>\n",
       "      <th>9688</th>\n",
       "      <td>Tyreek Hill</td>\n",
       "      <td>257.40</td>\n",
       "      <td>171</td>\n",
       "    </tr>\n",
       "    <tr>\n",
       "      <th>10324</th>\n",
       "      <td>Chris Godwin</td>\n",
       "      <td>126.20</td>\n",
       "      <td>130</td>\n",
       "    </tr>\n",
       "    <tr>\n",
       "      <th>10909</th>\n",
       "      <td>D.J. Moore</td>\n",
       "      <td>190.50</td>\n",
       "      <td>136</td>\n",
       "    </tr>\n",
       "    <tr>\n",
       "      <th>10927</th>\n",
       "      <td>Calvin Ridley</td>\n",
       "      <td>153.90</td>\n",
       "      <td>136</td>\n",
       "    </tr>\n",
       "    <tr>\n",
       "      <th>11007</th>\n",
       "      <td>Jakobi Meyers</td>\n",
       "      <td>147.58</td>\n",
       "      <td>106</td>\n",
       "    </tr>\n",
       "    <tr>\n",
       "      <th>11373</th>\n",
       "      <td>D.K. Metcalf</td>\n",
       "      <td>159.40</td>\n",
       "      <td>119</td>\n",
       "    </tr>\n",
       "    <tr>\n",
       "      <th>11374</th>\n",
       "      <td>DK Metcalf</td>\n",
       "      <td>159.40</td>\n",
       "      <td>119</td>\n",
       "    </tr>\n",
       "    <tr>\n",
       "      <th>11398</th>\n",
       "      <td>Terry McLaurin</td>\n",
       "      <td>124.20</td>\n",
       "      <td>132</td>\n",
       "    </tr>\n",
       "    <tr>\n",
       "      <th>11404</th>\n",
       "      <td>Marquise Brown</td>\n",
       "      <td>83.70</td>\n",
       "      <td>101</td>\n",
       "    </tr>\n",
       "    <tr>\n",
       "      <th>11418</th>\n",
       "      <td>A.J. Brown</td>\n",
       "      <td>183.60</td>\n",
       "      <td>158</td>\n",
       "    </tr>\n",
       "    <tr>\n",
       "      <th>11661</th>\n",
       "      <td>Michael Pittman</td>\n",
       "      <td>143.20</td>\n",
       "      <td>156</td>\n",
       "    </tr>\n",
       "    <tr>\n",
       "      <th>11674</th>\n",
       "      <td>Brandon Aiyuk</td>\n",
       "      <td>174.20</td>\n",
       "      <td>105</td>\n",
       "    </tr>\n",
       "    <tr>\n",
       "      <th>11731</th>\n",
       "      <td>Justin Jefferson</td>\n",
       "      <td>136.20</td>\n",
       "      <td>100</td>\n",
       "    </tr>\n",
       "    <tr>\n",
       "      <th>11767</th>\n",
       "      <td>CeeDee Lamb</td>\n",
       "      <td>270.20</td>\n",
       "      <td>181</td>\n",
       "    </tr>\n",
       "    <tr>\n",
       "      <th>11882</th>\n",
       "      <td>Nico Collins</td>\n",
       "      <td>180.40</td>\n",
       "      <td>109</td>\n",
       "    </tr>\n",
       "    <tr>\n",
       "      <th>11902</th>\n",
       "      <td>Jaylen Waddle</td>\n",
       "      <td>126.60</td>\n",
       "      <td>104</td>\n",
       "    </tr>\n",
       "    <tr>\n",
       "      <th>11999</th>\n",
       "      <td>Ja'Marr Chase</td>\n",
       "      <td>162.72</td>\n",
       "      <td>145</td>\n",
       "    </tr>\n",
       "    <tr>\n",
       "      <th>12007</th>\n",
       "      <td>DeVonta Smith</td>\n",
       "      <td>146.60</td>\n",
       "      <td>112</td>\n",
       "    </tr>\n",
       "    <tr>\n",
       "      <th>12039</th>\n",
       "      <td>Amon-Ra St. Brown</td>\n",
       "      <td>211.90</td>\n",
       "      <td>164</td>\n",
       "    </tr>\n",
       "    <tr>\n",
       "      <th>12053</th>\n",
       "      <td>Elijah Moore</td>\n",
       "      <td>73.10</td>\n",
       "      <td>104</td>\n",
       "    </tr>\n",
       "    <tr>\n",
       "      <th>12111</th>\n",
       "      <td>Drake London</td>\n",
       "      <td>105.38</td>\n",
       "      <td>110</td>\n",
       "    </tr>\n",
       "    <tr>\n",
       "      <th>12113</th>\n",
       "      <td>Chris Olave</td>\n",
       "      <td>144.30</td>\n",
       "      <td>138</td>\n",
       "    </tr>\n",
       "    <tr>\n",
       "      <th>12117</th>\n",
       "      <td>George Pickens</td>\n",
       "      <td>145.80</td>\n",
       "      <td>106</td>\n",
       "    </tr>\n",
       "    <tr>\n",
       "      <th>12203</th>\n",
       "      <td>Garrett Wilson</td>\n",
       "      <td>118.20</td>\n",
       "      <td>168</td>\n",
       "    </tr>\n",
       "    <tr>\n",
       "      <th>12338</th>\n",
       "      <td>Jordan Addison</td>\n",
       "      <td>151.30</td>\n",
       "      <td>108</td>\n",
       "    </tr>\n",
       "    <tr>\n",
       "      <th>12348</th>\n",
       "      <td>Zay Flowers</td>\n",
       "      <td>129.40</td>\n",
       "      <td>108</td>\n",
       "    </tr>\n",
       "    <tr>\n",
       "      <th>12351</th>\n",
       "      <td>Rashee Rice</td>\n",
       "      <td>133.50</td>\n",
       "      <td>102</td>\n",
       "    </tr>\n",
       "    <tr>\n",
       "      <th>12353</th>\n",
       "      <td>Puka Nacua</td>\n",
       "      <td>193.50</td>\n",
       "      <td>160</td>\n",
       "    </tr>\n",
       "  </tbody>\n",
       "</table>\n",
       "</div>"
      ],
      "text/plain": [
       "             player_name  fantasy_points  targets\n",
       "7481        Adam Thielen          128.00      137\n",
       "7674        Keenan Allen          170.86      150\n",
       "7978     DeAndre Hopkins          148.60      137\n",
       "8539       Davante Adams          162.40      175\n",
       "8591          Mike Evans          203.50      136\n",
       "8663        Amari Cooper          155.00      128\n",
       "8730        Stefon Diggs          166.80      160\n",
       "9197       Tyler Lockett          123.40      122\n",
       "9688         Tyreek Hill          257.40      171\n",
       "10324       Chris Godwin          126.20      130\n",
       "10909         D.J. Moore          190.50      136\n",
       "10927      Calvin Ridley          153.90      136\n",
       "11007      Jakobi Meyers          147.58      106\n",
       "11373       D.K. Metcalf          159.40      119\n",
       "11374         DK Metcalf          159.40      119\n",
       "11398     Terry McLaurin          124.20      132\n",
       "11404     Marquise Brown           83.70      101\n",
       "11418         A.J. Brown          183.60      158\n",
       "11661    Michael Pittman          143.20      156\n",
       "11674      Brandon Aiyuk          174.20      105\n",
       "11731   Justin Jefferson          136.20      100\n",
       "11767        CeeDee Lamb          270.20      181\n",
       "11882       Nico Collins          180.40      109\n",
       "11902      Jaylen Waddle          126.60      104\n",
       "11999      Ja'Marr Chase          162.72      145\n",
       "12007      DeVonta Smith          146.60      112\n",
       "12039  Amon-Ra St. Brown          211.90      164\n",
       "12053       Elijah Moore           73.10      104\n",
       "12111       Drake London          105.38      110\n",
       "12113        Chris Olave          144.30      138\n",
       "12117     George Pickens          145.80      106\n",
       "12203     Garrett Wilson          118.20      168\n",
       "12338     Jordan Addison          151.30      108\n",
       "12348        Zay Flowers          129.40      108\n",
       "12351        Rashee Rice          133.50      102\n",
       "12353         Puka Nacua          193.50      160"
      ]
     },
     "execution_count": 10,
     "metadata": {},
     "output_type": "execute_result"
    }
   ],
   "source": [
    "df_review.query(\"targets >= 100\")[[\"player_name\", \"fantasy_points\", \"targets\"]]"
   ]
  },
  {
   "cell_type": "markdown",
   "id": "50d54441",
   "metadata": {},
   "source": [
    "# Line Graph"
   ]
  },
  {
   "cell_type": "markdown",
   "id": "a264643c",
   "metadata": {},
   "source": [
    "Reviewing column options"
   ]
  },
  {
   "cell_type": "code",
   "execution_count": 15,
   "id": "7b99689d",
   "metadata": {},
   "outputs": [
    {
     "data": {
      "text/html": [
       "<div>\n",
       "<style scoped>\n",
       "    .dataframe tbody tr th:only-of-type {\n",
       "        vertical-align: middle;\n",
       "    }\n",
       "\n",
       "    .dataframe tbody tr th {\n",
       "        vertical-align: top;\n",
       "    }\n",
       "\n",
       "    .dataframe thead th {\n",
       "        text-align: right;\n",
       "    }\n",
       "</style>\n",
       "<table border=\"1\" class=\"dataframe\">\n",
       "  <thead>\n",
       "    <tr style=\"text-align: right;\">\n",
       "      <th></th>\n",
       "      <th>tgt_sh</th>\n",
       "      <th>target_share</th>\n",
       "      <th>wopr_x</th>\n",
       "      <th>wopr_y</th>\n",
       "      <th>dom</th>\n",
       "      <th>w8dom</th>\n",
       "    </tr>\n",
       "  </thead>\n",
       "  <tbody>\n",
       "    <tr>\n",
       "      <th>9688</th>\n",
       "      <td>0.316667</td>\n",
       "      <td>5.282512</td>\n",
       "      <td>12.851239</td>\n",
       "      <td>0.825308</td>\n",
       "      <td>0.425368</td>\n",
       "      <td>0.411624</td>\n",
       "    </tr>\n",
       "  </tbody>\n",
       "</table>\n",
       "</div>"
      ],
      "text/plain": [
       "        tgt_sh  target_share     wopr_x    wopr_y       dom     w8dom\n",
       "9688  0.316667      5.282512  12.851239  0.825308  0.425368  0.411624"
      ]
     },
     "execution_count": 15,
     "metadata": {},
     "output_type": "execute_result"
    }
   ],
   "source": [
    "df_review.query(\"player_name == 'Tyreek Hill'\")[[\"tgt_sh\", \"target_share\", \"wopr_x\", \"wopr_y\", 'dom', 'w8dom']]"
   ]
  },
  {
   "cell_type": "code",
   "execution_count": 7,
   "id": "be871fb3",
   "metadata": {},
   "outputs": [
    {
     "data": {
      "text/plain": [
       "Index(['player_id', 'season', 'season_type', 'completions', 'attempts',\n",
       "       'passing_yards', 'passing_tds', 'interceptions', 'sacks', 'sack_yards',\n",
       "       'sack_fumbles', 'sack_fumbles_lost', 'passing_air_yards',\n",
       "       'passing_yards_after_catch', 'passing_first_downs', 'passing_epa',\n",
       "       'passing_2pt_conversions', 'pacr', 'dakota', 'carries', 'rushing_yards',\n",
       "       'rushing_tds', 'rushing_fumbles', 'rushing_fumbles_lost',\n",
       "       'rushing_first_downs', 'rushing_epa', 'rushing_2pt_conversions',\n",
       "       'receptions', 'targets', 'receiving_yards', 'receiving_tds',\n",
       "       'receiving_fumbles', 'receiving_fumbles_lost', 'receiving_air_yards',\n",
       "       'receiving_yards_after_catch', 'receiving_first_downs', 'receiving_epa',\n",
       "       'receiving_2pt_conversions', 'racr', 'target_share', 'air_yards_share',\n",
       "       'wopr_x', 'special_teams_tds', 'fantasy_points', 'fantasy_points_ppr',\n",
       "       'games', 'tgt_sh', 'ay_sh', 'yac_sh', 'wopr_y', 'ry_sh', 'rtd_sh',\n",
       "       'rfd_sh', 'rtdfd_sh', 'dom', 'w8dom', 'yptmpa', 'ppr_sh', 'position',\n",
       "       'player_name', 'age'],\n",
       "      dtype='object')"
      ]
     },
     "execution_count": 7,
     "metadata": {},
     "output_type": "execute_result"
    }
   ],
   "source": [
    "df_review.columns"
   ]
  },
  {
   "cell_type": "code",
   "execution_count": null,
   "id": "b53eaf59",
   "metadata": {},
   "outputs": [],
   "source": [
    "rushing_stats = [\n",
    "    'receiving_air_yards',\n",
    "    'receiving_epa',\n",
    "    'racr', 'target_share', 'air_yards_share',\n",
    "    'wopr_x', \n",
    "    'tgt_sh', 'ay_sh', 'yac_sh', 'wopr_y', 'ry_sh',\n",
    "    'dom', 'w8dom', 'yptmpa', 'ppr_sh',\n",
    "]"
   ]
  },
  {
   "cell_type": "code",
   "execution_count": 54,
   "id": "076abd7d",
   "metadata": {},
   "outputs": [
    {
     "name": "stderr",
     "output_type": "stream",
     "text": [
      "/var/folders/yx/gjm2fjs56vl5kkwrb6xf5d2h0000gn/T/ipykernel_56889/1027524734.py:1: SettingWithCopyWarning:\n",
      "\n",
      "\n",
      "A value is trying to be set on a copy of a slice from a DataFrame.\n",
      "Try using .loc[row_indexer,col_indexer] = value instead\n",
      "\n",
      "See the caveats in the documentation: https://pandas.pydata.org/pandas-docs/stable/user_guide/indexing.html#returning-a-view-versus-a-copy\n",
      "\n"
     ]
    }
   ],
   "source": [
    "df_review[\"receiving_air_yards_conversion\"] = df_review[\"receiving_yards\"] / df_review[\"receiving_air_yards\"] "
   ]
  },
  {
   "cell_type": "markdown",
   "id": "eed5eb49",
   "metadata": {},
   "source": [
    "Selecting column to graph the players by"
   ]
  },
  {
   "cell_type": "code",
   "execution_count": 55,
   "id": "94425497",
   "metadata": {},
   "outputs": [],
   "source": [
    "col_to_graph = \"receiving_air_yards_conversion\""
   ]
  },
  {
   "cell_type": "markdown",
   "id": "527f3fd3",
   "metadata": {},
   "source": [
    "Selecting appendix and division column. For example, if we wanted `x per game`, we would set the `appendix` to \"per_game\" and the `div_col` to \"games\". Alternatively, if we wanted `x per carry`. we would set the `appendix` to \"per_carry\" and the `div_col` to \"carries\"."
   ]
  },
  {
   "cell_type": "code",
   "execution_count": 56,
   "id": "b5db00a3",
   "metadata": {},
   "outputs": [],
   "source": [
    "appendix = \"per_game\"\n",
    "div_col = \"games\""
   ]
  },
  {
   "cell_type": "code",
   "execution_count": 57,
   "id": "0c76afa9",
   "metadata": {},
   "outputs": [],
   "source": [
    "df_sorted = df_review.sort_values(by=col_to_graph, ascending=True).copy()\n",
    "df_sorted_per_game = df_sorted.copy()"
   ]
  },
  {
   "cell_type": "markdown",
   "id": "82b2df33",
   "metadata": {},
   "source": [
    "### Per Game Version of Stat"
   ]
  },
  {
   "cell_type": "code",
   "execution_count": 58,
   "id": "f65e2385",
   "metadata": {},
   "outputs": [],
   "source": [
    "df_sorted_per_game[f\"{col_to_graph}_{appendix}\"] = df_sorted[col_to_graph] / df_sorted[div_col]\n",
    "df_sorted_per_game.sort_values(by=f\"{col_to_graph}_{appendix}\", ascending=True, inplace=True)"
   ]
  },
  {
   "cell_type": "markdown",
   "id": "32db63f2",
   "metadata": {},
   "source": [
    "### Coloring Player Tiers"
   ]
  },
  {
   "cell_type": "code",
   "execution_count": 59,
   "id": "5c74192b",
   "metadata": {},
   "outputs": [],
   "source": [
    "# season total version\n",
    "df_sorted = prep_df_for_scatter_plot(df_sorted)\n",
    "\n",
    "# per game version\n",
    "df_sorted_per_game = prep_df_for_scatter_plot(df_sorted_per_game)"
   ]
  },
  {
   "cell_type": "markdown",
   "id": "b01c3ce1",
   "metadata": {},
   "source": [
    "# Scatter Plot"
   ]
  },
  {
   "cell_type": "code",
   "execution_count": 60,
   "id": "e8865f97",
   "metadata": {},
   "outputs": [
    {
     "name": "stdout",
     "output_type": "stream",
     "text": [
      "../../interactive-2.0/WR/2023-review/scatter_receiving_air_yards_conversion.html\n"
     ]
    }
   ],
   "source": [
    "save_path = f\"../../interactive-2.0/{POSITION}/2023-review/scatter_{col_to_graph}.html\"\n",
    "# save_path = None\n",
    "\n",
    "print(save_path)"
   ]
  },
  {
   "cell_type": "code",
   "execution_count": 61,
   "id": "55ea4e17",
   "metadata": {},
   "outputs": [
    {
     "data": {
      "application/vnd.plotly.v1+json": {
       "config": {
        "plotlyServerURL": "https://plot.ly"
       },
       "data": [
        {
         "hovertemplate": "Color=Tier 4<br>player_name=%{x}<br>receiving_air_yards_conversion=%{y}<extra></extra>",
         "legendgroup": "Tier 4",
         "marker": {
          "color": "#636efa",
          "size": 12,
          "symbol": "circle"
         },
         "mode": "markers",
         "name": "Tier 4",
         "orientation": "v",
         "showlegend": true,
         "type": "scatter",
         "x": [
          "Mecole Hardman",
          "Nelson Agholor",
          "Brandon Aiyuk",
          "Kyle Philips",
          "D.J. Moore",
          "Zay Flowers",
          "Darren Waller",
          "Christian Kirk",
          "Trenton Irwin",
          "Michael Pittman",
          "Josh Reynolds",
          "Cooper Kupp"
         ],
         "xaxis": "x",
         "y": [
          0.9051094890510949,
          0.9114832535885168,
          0.9147920927062031,
          0.9187817258883249,
          0.924119241192412,
          0.9315960912052117,
          0.9324324324324325,
          0.9346793349168646,
          0.9376854599406528,
          0.9388753056234719,
          0.9426356589147287,
          0.9436619718309859
         ],
         "yaxis": "y"
        },
        {
         "hovertemplate": "Color=Tier 3<br>player_name=%{x}<br>receiving_air_yards_conversion=%{y}<extra></extra>",
         "legendgroup": "Tier 3",
         "marker": {
          "color": "#EF553B",
          "size": 12,
          "symbol": "circle"
         },
         "mode": "markers",
         "name": "Tier 3",
         "orientation": "v",
         "showlegend": true,
         "type": "scatter",
         "x": [
          "Adam Thielen",
          "Jaylen Waddle",
          "Ja'Marr Chase",
          "Tyreek Hill",
          "Brandon Powell",
          "Dontayvion Wicks",
          "CeeDee Lamb",
          "Puka Nacua",
          "Curtis Samuel",
          "Lynn Bowden",
          "Braxton Berrios",
          "Tyler Boyd"
         ],
         "xaxis": "x",
         "y": [
          0.9584120982986768,
          0.9647954329210275,
          0.9696969696969697,
          0.9740119112073633,
          0.9759036144578314,
          0.9830795262267343,
          1.0156794425087108,
          1.0227116311080524,
          1.0250836120401339,
          1.0375,
          1.039301310043668,
          1.0604133545310015
         ],
         "yaxis": "y"
        },
        {
         "hovertemplate": "Color=Tier 2<br>player_name=%{x}<br>receiving_air_yards_conversion=%{y}<extra></extra>",
         "legendgroup": "Tier 2",
         "marker": {
          "color": "#00cc96",
          "size": 12,
          "symbol": "circle"
         },
         "mode": "markers",
         "name": "Tier 2",
         "orientation": "v",
         "showlegend": true,
         "type": "scatter",
         "x": [
          "Josh Downs",
          "Rondale Moore",
          "Nico Collins",
          "Jaxon Smith-Njigba",
          "Parris Campbell",
          "Equanimeous St. Brown",
          "David Bell",
          "Amon-Ra St. Brown",
          "Hunter Renfrow",
          "Kalif Raymond",
          "Wan'Dale Robinson",
          "Jamison Crowder"
         ],
         "xaxis": "x",
         "y": [
          1.0905233380480905,
          1.093167701863354,
          1.0935919055649241,
          1.1036906854130053,
          1.1428571428571428,
          1.169811320754717,
          1.176056338028169,
          1.1919748229740361,
          1.2318840579710144,
          1.2603092783505154,
          1.2804878048780488,
          1.3032786885245902
         ],
         "yaxis": "y"
        },
        {
         "hovertemplate": "Color=Tier 1<br>player_name=%{x}<br>receiving_air_yards_conversion=%{y}<extra></extra>",
         "legendgroup": "Tier 1",
         "marker": {
          "color": "#ab63fa",
          "size": 12,
          "symbol": "circle"
         },
         "mode": "markers",
         "name": "Tier 1",
         "orientation": "v",
         "showlegend": true,
         "type": "scatter",
         "x": [
          "Jake Bobo",
          "River Cracraft",
          "Ray-Ray McCloud",
          "Kadarius Toney",
          "Khalil Shakir",
          "Deebo Samuel",
          "Rashee Rice",
          "David Moore",
          "Isaiah McKenzie",
          "Cordarrelle Patterson",
          "Ihmir Smith-Marsette",
          "DeAndre Carter"
         ],
         "xaxis": "x",
         "y": [
          1.3066666666666666,
          1.315217391304348,
          1.4361702127659575,
          1.5089285714285714,
          1.5199004975124377,
          1.522184300341297,
          1.910386965376782,
          1.9183673469387754,
          2.342857142857143,
          3.8,
          5.666666666666667,
          9.75
         ],
         "yaxis": "y"
        }
       ],
       "layout": {
        "legend": {
         "title": {
          "text": "WR Tiers"
         },
         "tracegroupgap": 0
        },
        "margin": {
         "t": 60
        },
        "shapes": [
         {
          "line": {
           "color": "black",
           "width": 2
          },
          "type": "line",
          "x0": 0,
          "x1": 1,
          "xref": "paper",
          "y0": 1.3066666666666666,
          "y1": 1.3066666666666666,
          "yref": "y"
         },
         {
          "line": {
           "color": "black",
           "width": 2
          },
          "type": "line",
          "x0": "Jake Bobo",
          "x1": "Jake Bobo",
          "xref": "x",
          "y0": 0.8560606060606061,
          "y1": 10.725000000000001,
          "yref": "y"
         },
         {
          "line": {
           "color": "black",
           "width": 2
          },
          "type": "line",
          "x0": 0,
          "x1": 1,
          "xref": "paper",
          "y0": 1.0905233380480905,
          "y1": 1.0905233380480905,
          "yref": "y"
         },
         {
          "line": {
           "color": "black",
           "width": 2
          },
          "type": "line",
          "x0": "Josh Downs",
          "x1": "Josh Downs",
          "xref": "x",
          "y0": 0.8560606060606061,
          "y1": 10.725000000000001,
          "yref": "y"
         },
         {
          "line": {
           "color": "black",
           "width": 2
          },
          "type": "line",
          "x0": 0,
          "x1": 1,
          "xref": "paper",
          "y0": 0.9584120982986768,
          "y1": 0.9584120982986768,
          "yref": "y"
         },
         {
          "line": {
           "color": "black",
           "width": 2
          },
          "type": "line",
          "x0": "Adam Thielen",
          "x1": "Adam Thielen",
          "xref": "x",
          "y0": 0.8560606060606061,
          "y1": 10.725000000000001,
          "yref": "y"
         }
        ],
        "template": {
         "data": {
          "bar": [
           {
            "error_x": {
             "color": "#2a3f5f"
            },
            "error_y": {
             "color": "#2a3f5f"
            },
            "marker": {
             "line": {
              "color": "#E5ECF6",
              "width": 0.5
             },
             "pattern": {
              "fillmode": "overlay",
              "size": 10,
              "solidity": 0.2
             }
            },
            "type": "bar"
           }
          ],
          "barpolar": [
           {
            "marker": {
             "line": {
              "color": "#E5ECF6",
              "width": 0.5
             },
             "pattern": {
              "fillmode": "overlay",
              "size": 10,
              "solidity": 0.2
             }
            },
            "type": "barpolar"
           }
          ],
          "carpet": [
           {
            "aaxis": {
             "endlinecolor": "#2a3f5f",
             "gridcolor": "white",
             "linecolor": "white",
             "minorgridcolor": "white",
             "startlinecolor": "#2a3f5f"
            },
            "baxis": {
             "endlinecolor": "#2a3f5f",
             "gridcolor": "white",
             "linecolor": "white",
             "minorgridcolor": "white",
             "startlinecolor": "#2a3f5f"
            },
            "type": "carpet"
           }
          ],
          "choropleth": [
           {
            "colorbar": {
             "outlinewidth": 0,
             "ticks": ""
            },
            "type": "choropleth"
           }
          ],
          "contour": [
           {
            "colorbar": {
             "outlinewidth": 0,
             "ticks": ""
            },
            "colorscale": [
             [
              0,
              "#0d0887"
             ],
             [
              0.1111111111111111,
              "#46039f"
             ],
             [
              0.2222222222222222,
              "#7201a8"
             ],
             [
              0.3333333333333333,
              "#9c179e"
             ],
             [
              0.4444444444444444,
              "#bd3786"
             ],
             [
              0.5555555555555556,
              "#d8576b"
             ],
             [
              0.6666666666666666,
              "#ed7953"
             ],
             [
              0.7777777777777778,
              "#fb9f3a"
             ],
             [
              0.8888888888888888,
              "#fdca26"
             ],
             [
              1,
              "#f0f921"
             ]
            ],
            "type": "contour"
           }
          ],
          "contourcarpet": [
           {
            "colorbar": {
             "outlinewidth": 0,
             "ticks": ""
            },
            "type": "contourcarpet"
           }
          ],
          "heatmap": [
           {
            "colorbar": {
             "outlinewidth": 0,
             "ticks": ""
            },
            "colorscale": [
             [
              0,
              "#0d0887"
             ],
             [
              0.1111111111111111,
              "#46039f"
             ],
             [
              0.2222222222222222,
              "#7201a8"
             ],
             [
              0.3333333333333333,
              "#9c179e"
             ],
             [
              0.4444444444444444,
              "#bd3786"
             ],
             [
              0.5555555555555556,
              "#d8576b"
             ],
             [
              0.6666666666666666,
              "#ed7953"
             ],
             [
              0.7777777777777778,
              "#fb9f3a"
             ],
             [
              0.8888888888888888,
              "#fdca26"
             ],
             [
              1,
              "#f0f921"
             ]
            ],
            "type": "heatmap"
           }
          ],
          "heatmapgl": [
           {
            "colorbar": {
             "outlinewidth": 0,
             "ticks": ""
            },
            "colorscale": [
             [
              0,
              "#0d0887"
             ],
             [
              0.1111111111111111,
              "#46039f"
             ],
             [
              0.2222222222222222,
              "#7201a8"
             ],
             [
              0.3333333333333333,
              "#9c179e"
             ],
             [
              0.4444444444444444,
              "#bd3786"
             ],
             [
              0.5555555555555556,
              "#d8576b"
             ],
             [
              0.6666666666666666,
              "#ed7953"
             ],
             [
              0.7777777777777778,
              "#fb9f3a"
             ],
             [
              0.8888888888888888,
              "#fdca26"
             ],
             [
              1,
              "#f0f921"
             ]
            ],
            "type": "heatmapgl"
           }
          ],
          "histogram": [
           {
            "marker": {
             "pattern": {
              "fillmode": "overlay",
              "size": 10,
              "solidity": 0.2
             }
            },
            "type": "histogram"
           }
          ],
          "histogram2d": [
           {
            "colorbar": {
             "outlinewidth": 0,
             "ticks": ""
            },
            "colorscale": [
             [
              0,
              "#0d0887"
             ],
             [
              0.1111111111111111,
              "#46039f"
             ],
             [
              0.2222222222222222,
              "#7201a8"
             ],
             [
              0.3333333333333333,
              "#9c179e"
             ],
             [
              0.4444444444444444,
              "#bd3786"
             ],
             [
              0.5555555555555556,
              "#d8576b"
             ],
             [
              0.6666666666666666,
              "#ed7953"
             ],
             [
              0.7777777777777778,
              "#fb9f3a"
             ],
             [
              0.8888888888888888,
              "#fdca26"
             ],
             [
              1,
              "#f0f921"
             ]
            ],
            "type": "histogram2d"
           }
          ],
          "histogram2dcontour": [
           {
            "colorbar": {
             "outlinewidth": 0,
             "ticks": ""
            },
            "colorscale": [
             [
              0,
              "#0d0887"
             ],
             [
              0.1111111111111111,
              "#46039f"
             ],
             [
              0.2222222222222222,
              "#7201a8"
             ],
             [
              0.3333333333333333,
              "#9c179e"
             ],
             [
              0.4444444444444444,
              "#bd3786"
             ],
             [
              0.5555555555555556,
              "#d8576b"
             ],
             [
              0.6666666666666666,
              "#ed7953"
             ],
             [
              0.7777777777777778,
              "#fb9f3a"
             ],
             [
              0.8888888888888888,
              "#fdca26"
             ],
             [
              1,
              "#f0f921"
             ]
            ],
            "type": "histogram2dcontour"
           }
          ],
          "mesh3d": [
           {
            "colorbar": {
             "outlinewidth": 0,
             "ticks": ""
            },
            "type": "mesh3d"
           }
          ],
          "parcoords": [
           {
            "line": {
             "colorbar": {
              "outlinewidth": 0,
              "ticks": ""
             }
            },
            "type": "parcoords"
           }
          ],
          "pie": [
           {
            "automargin": true,
            "type": "pie"
           }
          ],
          "scatter": [
           {
            "fillpattern": {
             "fillmode": "overlay",
             "size": 10,
             "solidity": 0.2
            },
            "type": "scatter"
           }
          ],
          "scatter3d": [
           {
            "line": {
             "colorbar": {
              "outlinewidth": 0,
              "ticks": ""
             }
            },
            "marker": {
             "colorbar": {
              "outlinewidth": 0,
              "ticks": ""
             }
            },
            "type": "scatter3d"
           }
          ],
          "scattercarpet": [
           {
            "marker": {
             "colorbar": {
              "outlinewidth": 0,
              "ticks": ""
             }
            },
            "type": "scattercarpet"
           }
          ],
          "scattergeo": [
           {
            "marker": {
             "colorbar": {
              "outlinewidth": 0,
              "ticks": ""
             }
            },
            "type": "scattergeo"
           }
          ],
          "scattergl": [
           {
            "marker": {
             "colorbar": {
              "outlinewidth": 0,
              "ticks": ""
             }
            },
            "type": "scattergl"
           }
          ],
          "scattermapbox": [
           {
            "marker": {
             "colorbar": {
              "outlinewidth": 0,
              "ticks": ""
             }
            },
            "type": "scattermapbox"
           }
          ],
          "scatterpolar": [
           {
            "marker": {
             "colorbar": {
              "outlinewidth": 0,
              "ticks": ""
             }
            },
            "type": "scatterpolar"
           }
          ],
          "scatterpolargl": [
           {
            "marker": {
             "colorbar": {
              "outlinewidth": 0,
              "ticks": ""
             }
            },
            "type": "scatterpolargl"
           }
          ],
          "scatterternary": [
           {
            "marker": {
             "colorbar": {
              "outlinewidth": 0,
              "ticks": ""
             }
            },
            "type": "scatterternary"
           }
          ],
          "surface": [
           {
            "colorbar": {
             "outlinewidth": 0,
             "ticks": ""
            },
            "colorscale": [
             [
              0,
              "#0d0887"
             ],
             [
              0.1111111111111111,
              "#46039f"
             ],
             [
              0.2222222222222222,
              "#7201a8"
             ],
             [
              0.3333333333333333,
              "#9c179e"
             ],
             [
              0.4444444444444444,
              "#bd3786"
             ],
             [
              0.5555555555555556,
              "#d8576b"
             ],
             [
              0.6666666666666666,
              "#ed7953"
             ],
             [
              0.7777777777777778,
              "#fb9f3a"
             ],
             [
              0.8888888888888888,
              "#fdca26"
             ],
             [
              1,
              "#f0f921"
             ]
            ],
            "type": "surface"
           }
          ],
          "table": [
           {
            "cells": {
             "fill": {
              "color": "#EBF0F8"
             },
             "line": {
              "color": "white"
             }
            },
            "header": {
             "fill": {
              "color": "#C8D4E3"
             },
             "line": {
              "color": "white"
             }
            },
            "type": "table"
           }
          ]
         },
         "layout": {
          "annotationdefaults": {
           "arrowcolor": "#2a3f5f",
           "arrowhead": 0,
           "arrowwidth": 1
          },
          "autotypenumbers": "strict",
          "coloraxis": {
           "colorbar": {
            "outlinewidth": 0,
            "ticks": ""
           }
          },
          "colorscale": {
           "diverging": [
            [
             0,
             "#8e0152"
            ],
            [
             0.1,
             "#c51b7d"
            ],
            [
             0.2,
             "#de77ae"
            ],
            [
             0.3,
             "#f1b6da"
            ],
            [
             0.4,
             "#fde0ef"
            ],
            [
             0.5,
             "#f7f7f7"
            ],
            [
             0.6,
             "#e6f5d0"
            ],
            [
             0.7,
             "#b8e186"
            ],
            [
             0.8,
             "#7fbc41"
            ],
            [
             0.9,
             "#4d9221"
            ],
            [
             1,
             "#276419"
            ]
           ],
           "sequential": [
            [
             0,
             "#0d0887"
            ],
            [
             0.1111111111111111,
             "#46039f"
            ],
            [
             0.2222222222222222,
             "#7201a8"
            ],
            [
             0.3333333333333333,
             "#9c179e"
            ],
            [
             0.4444444444444444,
             "#bd3786"
            ],
            [
             0.5555555555555556,
             "#d8576b"
            ],
            [
             0.6666666666666666,
             "#ed7953"
            ],
            [
             0.7777777777777778,
             "#fb9f3a"
            ],
            [
             0.8888888888888888,
             "#fdca26"
            ],
            [
             1,
             "#f0f921"
            ]
           ],
           "sequentialminus": [
            [
             0,
             "#0d0887"
            ],
            [
             0.1111111111111111,
             "#46039f"
            ],
            [
             0.2222222222222222,
             "#7201a8"
            ],
            [
             0.3333333333333333,
             "#9c179e"
            ],
            [
             0.4444444444444444,
             "#bd3786"
            ],
            [
             0.5555555555555556,
             "#d8576b"
            ],
            [
             0.6666666666666666,
             "#ed7953"
            ],
            [
             0.7777777777777778,
             "#fb9f3a"
            ],
            [
             0.8888888888888888,
             "#fdca26"
            ],
            [
             1,
             "#f0f921"
            ]
           ]
          },
          "colorway": [
           "#636efa",
           "#EF553B",
           "#00cc96",
           "#ab63fa",
           "#FFA15A",
           "#19d3f3",
           "#FF6692",
           "#B6E880",
           "#FF97FF",
           "#FECB52"
          ],
          "font": {
           "color": "#2a3f5f"
          },
          "geo": {
           "bgcolor": "white",
           "lakecolor": "white",
           "landcolor": "#E5ECF6",
           "showlakes": true,
           "showland": true,
           "subunitcolor": "white"
          },
          "hoverlabel": {
           "align": "left"
          },
          "hovermode": "closest",
          "mapbox": {
           "style": "light"
          },
          "paper_bgcolor": "white",
          "plot_bgcolor": "#E5ECF6",
          "polar": {
           "angularaxis": {
            "gridcolor": "white",
            "linecolor": "white",
            "ticks": ""
           },
           "bgcolor": "#E5ECF6",
           "radialaxis": {
            "gridcolor": "white",
            "linecolor": "white",
            "ticks": ""
           }
          },
          "scene": {
           "xaxis": {
            "backgroundcolor": "#E5ECF6",
            "gridcolor": "white",
            "gridwidth": 2,
            "linecolor": "white",
            "showbackground": true,
            "ticks": "",
            "zerolinecolor": "white"
           },
           "yaxis": {
            "backgroundcolor": "#E5ECF6",
            "gridcolor": "white",
            "gridwidth": 2,
            "linecolor": "white",
            "showbackground": true,
            "ticks": "",
            "zerolinecolor": "white"
           },
           "zaxis": {
            "backgroundcolor": "#E5ECF6",
            "gridcolor": "white",
            "gridwidth": 2,
            "linecolor": "white",
            "showbackground": true,
            "ticks": "",
            "zerolinecolor": "white"
           }
          },
          "shapedefaults": {
           "line": {
            "color": "#2a3f5f"
           }
          },
          "ternary": {
           "aaxis": {
            "gridcolor": "white",
            "linecolor": "white",
            "ticks": ""
           },
           "baxis": {
            "gridcolor": "white",
            "linecolor": "white",
            "ticks": ""
           },
           "bgcolor": "#E5ECF6",
           "caxis": {
            "gridcolor": "white",
            "linecolor": "white",
            "ticks": ""
           }
          },
          "title": {
           "x": 0.05
          },
          "xaxis": {
           "automargin": true,
           "gridcolor": "white",
           "linecolor": "white",
           "ticks": "",
           "title": {
            "standoff": 15
           },
           "zerolinecolor": "white",
           "zerolinewidth": 2
          },
          "yaxis": {
           "automargin": true,
           "gridcolor": "white",
           "linecolor": "white",
           "ticks": "",
           "title": {
            "standoff": 15
           },
           "zerolinecolor": "white",
           "zerolinewidth": 2
          }
         }
        },
        "title": {
         "text": "2023 WR Receiving Air Yards Conversion"
        },
        "xaxis": {
         "anchor": "y",
         "domain": [
          0,
          1
         ],
         "title": {
          "text": "Player Names"
         }
        },
        "yaxis": {
         "anchor": "x",
         "domain": [
          0,
          1
         ],
         "title": {
          "text": "Receiving Air Yards Conversion"
         }
        }
       }
      },
      "text/html": [
       "<div>                            <div id=\"76fa0a17-a6e7-42a7-b1d4-1cc76c9db64f\" class=\"plotly-graph-div\" style=\"height:525px; width:100%;\"></div>            <script type=\"text/javascript\">                require([\"plotly\"], function(Plotly) {                    window.PLOTLYENV=window.PLOTLYENV || {};                                    if (document.getElementById(\"76fa0a17-a6e7-42a7-b1d4-1cc76c9db64f\")) {                    Plotly.newPlot(                        \"76fa0a17-a6e7-42a7-b1d4-1cc76c9db64f\",                        [{\"hovertemplate\":\"Color=Tier 4\\u003cbr\\u003eplayer_name=%{x}\\u003cbr\\u003ereceiving_air_yards_conversion=%{y}\\u003cextra\\u003e\\u003c\\u002fextra\\u003e\",\"legendgroup\":\"Tier 4\",\"marker\":{\"color\":\"#636efa\",\"symbol\":\"circle\",\"size\":12},\"mode\":\"markers\",\"name\":\"Tier 4\",\"orientation\":\"v\",\"showlegend\":true,\"x\":[\"Mecole Hardman\",\"Nelson Agholor\",\"Brandon Aiyuk\",\"Kyle Philips\",\"D.J. Moore\",\"Zay Flowers\",\"Darren Waller\",\"Christian Kirk\",\"Trenton Irwin\",\"Michael Pittman\",\"Josh Reynolds\",\"Cooper Kupp\"],\"xaxis\":\"x\",\"y\":[0.9051094890510949,0.9114832535885168,0.9147920927062031,0.9187817258883249,0.924119241192412,0.9315960912052117,0.9324324324324325,0.9346793349168646,0.9376854599406528,0.9388753056234719,0.9426356589147287,0.9436619718309859],\"yaxis\":\"y\",\"type\":\"scatter\"},{\"hovertemplate\":\"Color=Tier 3\\u003cbr\\u003eplayer_name=%{x}\\u003cbr\\u003ereceiving_air_yards_conversion=%{y}\\u003cextra\\u003e\\u003c\\u002fextra\\u003e\",\"legendgroup\":\"Tier 3\",\"marker\":{\"color\":\"#EF553B\",\"symbol\":\"circle\",\"size\":12},\"mode\":\"markers\",\"name\":\"Tier 3\",\"orientation\":\"v\",\"showlegend\":true,\"x\":[\"Adam Thielen\",\"Jaylen Waddle\",\"Ja'Marr Chase\",\"Tyreek Hill\",\"Brandon Powell\",\"Dontayvion Wicks\",\"CeeDee Lamb\",\"Puka Nacua\",\"Curtis Samuel\",\"Lynn Bowden\",\"Braxton Berrios\",\"Tyler Boyd\"],\"xaxis\":\"x\",\"y\":[0.9584120982986768,0.9647954329210275,0.9696969696969697,0.9740119112073633,0.9759036144578314,0.9830795262267343,1.0156794425087108,1.0227116311080524,1.0250836120401339,1.0375,1.039301310043668,1.0604133545310015],\"yaxis\":\"y\",\"type\":\"scatter\"},{\"hovertemplate\":\"Color=Tier 2\\u003cbr\\u003eplayer_name=%{x}\\u003cbr\\u003ereceiving_air_yards_conversion=%{y}\\u003cextra\\u003e\\u003c\\u002fextra\\u003e\",\"legendgroup\":\"Tier 2\",\"marker\":{\"color\":\"#00cc96\",\"symbol\":\"circle\",\"size\":12},\"mode\":\"markers\",\"name\":\"Tier 2\",\"orientation\":\"v\",\"showlegend\":true,\"x\":[\"Josh Downs\",\"Rondale Moore\",\"Nico Collins\",\"Jaxon Smith-Njigba\",\"Parris Campbell\",\"Equanimeous St. Brown\",\"David Bell\",\"Amon-Ra St. Brown\",\"Hunter Renfrow\",\"Kalif Raymond\",\"Wan'Dale Robinson\",\"Jamison Crowder\"],\"xaxis\":\"x\",\"y\":[1.0905233380480905,1.093167701863354,1.0935919055649241,1.1036906854130053,1.1428571428571428,1.169811320754717,1.176056338028169,1.1919748229740361,1.2318840579710144,1.2603092783505154,1.2804878048780488,1.3032786885245902],\"yaxis\":\"y\",\"type\":\"scatter\"},{\"hovertemplate\":\"Color=Tier 1\\u003cbr\\u003eplayer_name=%{x}\\u003cbr\\u003ereceiving_air_yards_conversion=%{y}\\u003cextra\\u003e\\u003c\\u002fextra\\u003e\",\"legendgroup\":\"Tier 1\",\"marker\":{\"color\":\"#ab63fa\",\"symbol\":\"circle\",\"size\":12},\"mode\":\"markers\",\"name\":\"Tier 1\",\"orientation\":\"v\",\"showlegend\":true,\"x\":[\"Jake Bobo\",\"River Cracraft\",\"Ray-Ray McCloud\",\"Kadarius Toney\",\"Khalil Shakir\",\"Deebo Samuel\",\"Rashee Rice\",\"David Moore\",\"Isaiah McKenzie\",\"Cordarrelle Patterson\",\"Ihmir Smith-Marsette\",\"DeAndre Carter\"],\"xaxis\":\"x\",\"y\":[1.3066666666666666,1.315217391304348,1.4361702127659575,1.5089285714285714,1.5199004975124377,1.522184300341297,1.910386965376782,1.9183673469387754,2.342857142857143,3.8,5.666666666666667,9.75],\"yaxis\":\"y\",\"type\":\"scatter\"}],                        {\"template\":{\"data\":{\"histogram2dcontour\":[{\"type\":\"histogram2dcontour\",\"colorbar\":{\"outlinewidth\":0,\"ticks\":\"\"},\"colorscale\":[[0.0,\"#0d0887\"],[0.1111111111111111,\"#46039f\"],[0.2222222222222222,\"#7201a8\"],[0.3333333333333333,\"#9c179e\"],[0.4444444444444444,\"#bd3786\"],[0.5555555555555556,\"#d8576b\"],[0.6666666666666666,\"#ed7953\"],[0.7777777777777778,\"#fb9f3a\"],[0.8888888888888888,\"#fdca26\"],[1.0,\"#f0f921\"]]}],\"choropleth\":[{\"type\":\"choropleth\",\"colorbar\":{\"outlinewidth\":0,\"ticks\":\"\"}}],\"histogram2d\":[{\"type\":\"histogram2d\",\"colorbar\":{\"outlinewidth\":0,\"ticks\":\"\"},\"colorscale\":[[0.0,\"#0d0887\"],[0.1111111111111111,\"#46039f\"],[0.2222222222222222,\"#7201a8\"],[0.3333333333333333,\"#9c179e\"],[0.4444444444444444,\"#bd3786\"],[0.5555555555555556,\"#d8576b\"],[0.6666666666666666,\"#ed7953\"],[0.7777777777777778,\"#fb9f3a\"],[0.8888888888888888,\"#fdca26\"],[1.0,\"#f0f921\"]]}],\"heatmap\":[{\"type\":\"heatmap\",\"colorbar\":{\"outlinewidth\":0,\"ticks\":\"\"},\"colorscale\":[[0.0,\"#0d0887\"],[0.1111111111111111,\"#46039f\"],[0.2222222222222222,\"#7201a8\"],[0.3333333333333333,\"#9c179e\"],[0.4444444444444444,\"#bd3786\"],[0.5555555555555556,\"#d8576b\"],[0.6666666666666666,\"#ed7953\"],[0.7777777777777778,\"#fb9f3a\"],[0.8888888888888888,\"#fdca26\"],[1.0,\"#f0f921\"]]}],\"heatmapgl\":[{\"type\":\"heatmapgl\",\"colorbar\":{\"outlinewidth\":0,\"ticks\":\"\"},\"colorscale\":[[0.0,\"#0d0887\"],[0.1111111111111111,\"#46039f\"],[0.2222222222222222,\"#7201a8\"],[0.3333333333333333,\"#9c179e\"],[0.4444444444444444,\"#bd3786\"],[0.5555555555555556,\"#d8576b\"],[0.6666666666666666,\"#ed7953\"],[0.7777777777777778,\"#fb9f3a\"],[0.8888888888888888,\"#fdca26\"],[1.0,\"#f0f921\"]]}],\"contourcarpet\":[{\"type\":\"contourcarpet\",\"colorbar\":{\"outlinewidth\":0,\"ticks\":\"\"}}],\"contour\":[{\"type\":\"contour\",\"colorbar\":{\"outlinewidth\":0,\"ticks\":\"\"},\"colorscale\":[[0.0,\"#0d0887\"],[0.1111111111111111,\"#46039f\"],[0.2222222222222222,\"#7201a8\"],[0.3333333333333333,\"#9c179e\"],[0.4444444444444444,\"#bd3786\"],[0.5555555555555556,\"#d8576b\"],[0.6666666666666666,\"#ed7953\"],[0.7777777777777778,\"#fb9f3a\"],[0.8888888888888888,\"#fdca26\"],[1.0,\"#f0f921\"]]}],\"surface\":[{\"type\":\"surface\",\"colorbar\":{\"outlinewidth\":0,\"ticks\":\"\"},\"colorscale\":[[0.0,\"#0d0887\"],[0.1111111111111111,\"#46039f\"],[0.2222222222222222,\"#7201a8\"],[0.3333333333333333,\"#9c179e\"],[0.4444444444444444,\"#bd3786\"],[0.5555555555555556,\"#d8576b\"],[0.6666666666666666,\"#ed7953\"],[0.7777777777777778,\"#fb9f3a\"],[0.8888888888888888,\"#fdca26\"],[1.0,\"#f0f921\"]]}],\"mesh3d\":[{\"type\":\"mesh3d\",\"colorbar\":{\"outlinewidth\":0,\"ticks\":\"\"}}],\"scatter\":[{\"fillpattern\":{\"fillmode\":\"overlay\",\"size\":10,\"solidity\":0.2},\"type\":\"scatter\"}],\"parcoords\":[{\"type\":\"parcoords\",\"line\":{\"colorbar\":{\"outlinewidth\":0,\"ticks\":\"\"}}}],\"scatterpolargl\":[{\"type\":\"scatterpolargl\",\"marker\":{\"colorbar\":{\"outlinewidth\":0,\"ticks\":\"\"}}}],\"bar\":[{\"error_x\":{\"color\":\"#2a3f5f\"},\"error_y\":{\"color\":\"#2a3f5f\"},\"marker\":{\"line\":{\"color\":\"#E5ECF6\",\"width\":0.5},\"pattern\":{\"fillmode\":\"overlay\",\"size\":10,\"solidity\":0.2}},\"type\":\"bar\"}],\"scattergeo\":[{\"type\":\"scattergeo\",\"marker\":{\"colorbar\":{\"outlinewidth\":0,\"ticks\":\"\"}}}],\"scatterpolar\":[{\"type\":\"scatterpolar\",\"marker\":{\"colorbar\":{\"outlinewidth\":0,\"ticks\":\"\"}}}],\"histogram\":[{\"marker\":{\"pattern\":{\"fillmode\":\"overlay\",\"size\":10,\"solidity\":0.2}},\"type\":\"histogram\"}],\"scattergl\":[{\"type\":\"scattergl\",\"marker\":{\"colorbar\":{\"outlinewidth\":0,\"ticks\":\"\"}}}],\"scatter3d\":[{\"type\":\"scatter3d\",\"line\":{\"colorbar\":{\"outlinewidth\":0,\"ticks\":\"\"}},\"marker\":{\"colorbar\":{\"outlinewidth\":0,\"ticks\":\"\"}}}],\"scattermapbox\":[{\"type\":\"scattermapbox\",\"marker\":{\"colorbar\":{\"outlinewidth\":0,\"ticks\":\"\"}}}],\"scatterternary\":[{\"type\":\"scatterternary\",\"marker\":{\"colorbar\":{\"outlinewidth\":0,\"ticks\":\"\"}}}],\"scattercarpet\":[{\"type\":\"scattercarpet\",\"marker\":{\"colorbar\":{\"outlinewidth\":0,\"ticks\":\"\"}}}],\"carpet\":[{\"aaxis\":{\"endlinecolor\":\"#2a3f5f\",\"gridcolor\":\"white\",\"linecolor\":\"white\",\"minorgridcolor\":\"white\",\"startlinecolor\":\"#2a3f5f\"},\"baxis\":{\"endlinecolor\":\"#2a3f5f\",\"gridcolor\":\"white\",\"linecolor\":\"white\",\"minorgridcolor\":\"white\",\"startlinecolor\":\"#2a3f5f\"},\"type\":\"carpet\"}],\"table\":[{\"cells\":{\"fill\":{\"color\":\"#EBF0F8\"},\"line\":{\"color\":\"white\"}},\"header\":{\"fill\":{\"color\":\"#C8D4E3\"},\"line\":{\"color\":\"white\"}},\"type\":\"table\"}],\"barpolar\":[{\"marker\":{\"line\":{\"color\":\"#E5ECF6\",\"width\":0.5},\"pattern\":{\"fillmode\":\"overlay\",\"size\":10,\"solidity\":0.2}},\"type\":\"barpolar\"}],\"pie\":[{\"automargin\":true,\"type\":\"pie\"}]},\"layout\":{\"autotypenumbers\":\"strict\",\"colorway\":[\"#636efa\",\"#EF553B\",\"#00cc96\",\"#ab63fa\",\"#FFA15A\",\"#19d3f3\",\"#FF6692\",\"#B6E880\",\"#FF97FF\",\"#FECB52\"],\"font\":{\"color\":\"#2a3f5f\"},\"hovermode\":\"closest\",\"hoverlabel\":{\"align\":\"left\"},\"paper_bgcolor\":\"white\",\"plot_bgcolor\":\"#E5ECF6\",\"polar\":{\"bgcolor\":\"#E5ECF6\",\"angularaxis\":{\"gridcolor\":\"white\",\"linecolor\":\"white\",\"ticks\":\"\"},\"radialaxis\":{\"gridcolor\":\"white\",\"linecolor\":\"white\",\"ticks\":\"\"}},\"ternary\":{\"bgcolor\":\"#E5ECF6\",\"aaxis\":{\"gridcolor\":\"white\",\"linecolor\":\"white\",\"ticks\":\"\"},\"baxis\":{\"gridcolor\":\"white\",\"linecolor\":\"white\",\"ticks\":\"\"},\"caxis\":{\"gridcolor\":\"white\",\"linecolor\":\"white\",\"ticks\":\"\"}},\"coloraxis\":{\"colorbar\":{\"outlinewidth\":0,\"ticks\":\"\"}},\"colorscale\":{\"sequential\":[[0.0,\"#0d0887\"],[0.1111111111111111,\"#46039f\"],[0.2222222222222222,\"#7201a8\"],[0.3333333333333333,\"#9c179e\"],[0.4444444444444444,\"#bd3786\"],[0.5555555555555556,\"#d8576b\"],[0.6666666666666666,\"#ed7953\"],[0.7777777777777778,\"#fb9f3a\"],[0.8888888888888888,\"#fdca26\"],[1.0,\"#f0f921\"]],\"sequentialminus\":[[0.0,\"#0d0887\"],[0.1111111111111111,\"#46039f\"],[0.2222222222222222,\"#7201a8\"],[0.3333333333333333,\"#9c179e\"],[0.4444444444444444,\"#bd3786\"],[0.5555555555555556,\"#d8576b\"],[0.6666666666666666,\"#ed7953\"],[0.7777777777777778,\"#fb9f3a\"],[0.8888888888888888,\"#fdca26\"],[1.0,\"#f0f921\"]],\"diverging\":[[0,\"#8e0152\"],[0.1,\"#c51b7d\"],[0.2,\"#de77ae\"],[0.3,\"#f1b6da\"],[0.4,\"#fde0ef\"],[0.5,\"#f7f7f7\"],[0.6,\"#e6f5d0\"],[0.7,\"#b8e186\"],[0.8,\"#7fbc41\"],[0.9,\"#4d9221\"],[1,\"#276419\"]]},\"xaxis\":{\"gridcolor\":\"white\",\"linecolor\":\"white\",\"ticks\":\"\",\"title\":{\"standoff\":15},\"zerolinecolor\":\"white\",\"automargin\":true,\"zerolinewidth\":2},\"yaxis\":{\"gridcolor\":\"white\",\"linecolor\":\"white\",\"ticks\":\"\",\"title\":{\"standoff\":15},\"zerolinecolor\":\"white\",\"automargin\":true,\"zerolinewidth\":2},\"scene\":{\"xaxis\":{\"backgroundcolor\":\"#E5ECF6\",\"gridcolor\":\"white\",\"linecolor\":\"white\",\"showbackground\":true,\"ticks\":\"\",\"zerolinecolor\":\"white\",\"gridwidth\":2},\"yaxis\":{\"backgroundcolor\":\"#E5ECF6\",\"gridcolor\":\"white\",\"linecolor\":\"white\",\"showbackground\":true,\"ticks\":\"\",\"zerolinecolor\":\"white\",\"gridwidth\":2},\"zaxis\":{\"backgroundcolor\":\"#E5ECF6\",\"gridcolor\":\"white\",\"linecolor\":\"white\",\"showbackground\":true,\"ticks\":\"\",\"zerolinecolor\":\"white\",\"gridwidth\":2}},\"shapedefaults\":{\"line\":{\"color\":\"#2a3f5f\"}},\"annotationdefaults\":{\"arrowcolor\":\"#2a3f5f\",\"arrowhead\":0,\"arrowwidth\":1},\"geo\":{\"bgcolor\":\"white\",\"landcolor\":\"#E5ECF6\",\"subunitcolor\":\"white\",\"showland\":true,\"showlakes\":true,\"lakecolor\":\"white\"},\"title\":{\"x\":0.05},\"mapbox\":{\"style\":\"light\"}}},\"xaxis\":{\"anchor\":\"y\",\"domain\":[0.0,1.0],\"title\":{\"text\":\"Player Names\"}},\"yaxis\":{\"anchor\":\"x\",\"domain\":[0.0,1.0],\"title\":{\"text\":\"Receiving Air Yards Conversion\"}},\"legend\":{\"title\":{\"text\":\"WR Tiers\"},\"tracegroupgap\":0},\"margin\":{\"t\":60},\"shapes\":[{\"line\":{\"color\":\"black\",\"width\":2},\"type\":\"line\",\"x0\":0,\"x1\":1,\"xref\":\"paper\",\"y0\":1.3066666666666666,\"y1\":1.3066666666666666,\"yref\":\"y\"},{\"line\":{\"color\":\"black\",\"width\":2},\"type\":\"line\",\"x0\":\"Jake Bobo\",\"x1\":\"Jake Bobo\",\"xref\":\"x\",\"y0\":0.8560606060606061,\"y1\":10.725000000000001,\"yref\":\"y\"},{\"line\":{\"color\":\"black\",\"width\":2},\"type\":\"line\",\"x0\":0,\"x1\":1,\"xref\":\"paper\",\"y0\":1.0905233380480905,\"y1\":1.0905233380480905,\"yref\":\"y\"},{\"line\":{\"color\":\"black\",\"width\":2},\"type\":\"line\",\"x0\":\"Josh Downs\",\"x1\":\"Josh Downs\",\"xref\":\"x\",\"y0\":0.8560606060606061,\"y1\":10.725000000000001,\"yref\":\"y\"},{\"line\":{\"color\":\"black\",\"width\":2},\"type\":\"line\",\"x0\":0,\"x1\":1,\"xref\":\"paper\",\"y0\":0.9584120982986768,\"y1\":0.9584120982986768,\"yref\":\"y\"},{\"line\":{\"color\":\"black\",\"width\":2},\"type\":\"line\",\"x0\":\"Adam Thielen\",\"x1\":\"Adam Thielen\",\"xref\":\"x\",\"y0\":0.8560606060606061,\"y1\":10.725000000000001,\"yref\":\"y\"}],\"title\":{\"text\":\"2023 WR Receiving Air Yards Conversion\"}},                        {\"responsive\": true}                    ).then(function(){\n",
       "                            \n",
       "var gd = document.getElementById('76fa0a17-a6e7-42a7-b1d4-1cc76c9db64f');\n",
       "var x = new MutationObserver(function (mutations, observer) {{\n",
       "        var display = window.getComputedStyle(gd).display;\n",
       "        if (!display || display === 'none') {{\n",
       "            console.log([gd, 'removed!']);\n",
       "            Plotly.purge(gd);\n",
       "            observer.disconnect();\n",
       "        }}\n",
       "}});\n",
       "\n",
       "// Listen for the removal of the full notebook cells\n",
       "var notebookContainer = gd.closest('#notebook-container');\n",
       "if (notebookContainer) {{\n",
       "    x.observe(notebookContainer, {childList: true});\n",
       "}}\n",
       "\n",
       "// Listen for the clearing of the current output cell\n",
       "var outputEl = gd.closest('.output');\n",
       "if (outputEl) {{\n",
       "    x.observe(outputEl, {childList: true});\n",
       "}}\n",
       "\n",
       "                        })                };                });            </script>        </div>"
      ]
     },
     "metadata": {},
     "output_type": "display_data"
    }
   ],
   "source": [
    "create_scatter_plot(df_sorted, stat=col_to_graph, custom_appendix=appendix, save_path=save_path,\n",
    "                    start_index=-48, three_tiers=True)"
   ]
  },
  {
   "cell_type": "code",
   "execution_count": 62,
   "id": "39933d8f",
   "metadata": {},
   "outputs": [
    {
     "data": {
      "application/vnd.plotly.v1+json": {
       "config": {
        "plotlyServerURL": "https://plot.ly"
       },
       "data": [
        {
         "hovertemplate": "Color=Tier 4<br>player_name=%{x}<br>receiving_air_yards_conversion_per_game=%{y}<extra></extra>",
         "legendgroup": "Tier 4",
         "marker": {
          "color": "#636efa",
          "size": 12,
          "symbol": "circle"
         },
         "mode": "markers",
         "name": "Tier 4",
         "orientation": "v",
         "showlegend": true,
         "type": "scatter",
         "x": [
          "Amon-Ra St. Brown",
          "Brandon Powell",
          "Darren Waller",
          "Christian Kirk",
          "Cooper Kupp",
          "Lil'Jordan Humphrey",
          "Braxton Berrios",
          "Greg Dortch",
          "Ben Skowronek",
          "Josh Palmer",
          "Wan'Dale Robinson",
          "Justin Jefferson"
         ],
         "xaxis": "x",
         "y": [
          0.07449842643587726,
          0.07506950880444857,
          0.0777027027027027,
          0.07788994457640538,
          0.07863849765258216,
          0.07917888563049853,
          0.0799462546187437,
          0.08123005512039455,
          0.08333333333333333,
          0.08383838383838384,
          0.08536585365853659,
          0.08537360890302068
         ],
         "yaxis": "y"
        },
        {
         "hovertemplate": "Color=Tier 3<br>player_name=%{x}<br>receiving_air_yards_conversion_per_game=%{y}<extra></extra>",
         "legendgroup": "Tier 3",
         "marker": {
          "color": "#EF553B",
          "size": 12,
          "symbol": "circle"
         },
         "mode": "markers",
         "name": "Tier 3",
         "orientation": "v",
         "showlegend": true,
         "type": "scatter",
         "x": [
          "Noah Brown",
          "Brandon Johnson",
          "Kendrick Bourne",
          "Justyn Ross",
          "Scott Miller",
          "Jake Bobo",
          "Trenton Irwin",
          "Hunter Renfrow",
          "Khalil Shakir",
          "Demarcus Robinson",
          "Alex Erickson",
          "Deebo Samuel"
         ],
         "xaxis": "x",
         "y": [
          0.08617021276595745,
          0.08658536585365853,
          0.08841463414634146,
          0.0905982905982906,
          0.09173789173789174,
          0.09333333333333334,
          0.09376854599406528,
          0.0947603121516165,
          0.09499378109452736,
          0.09701882845188285,
          0.09830508474576272,
          0.10147895335608646
         ],
         "yaxis": "y"
        },
        {
         "hovertemplate": "Color=Tier 2<br>player_name=%{x}<br>receiving_air_yards_conversion_per_game=%{y}<extra></extra>",
         "legendgroup": "Tier 2",
         "marker": {
          "color": "#00cc96",
          "size": 12,
          "symbol": "circle"
         },
         "mode": "markers",
         "name": "Tier 2",
         "orientation": "v",
         "showlegend": true,
         "type": "scatter",
         "x": [
          "A.T. Perry",
          "Richie James",
          "Jamal Agnew",
          "Kyle Philips",
          "Quez Watkins",
          "Kadarius Toney",
          "Rashee Rice",
          "Mecole Hardman",
          "Lynn Bowden",
          "David Bell",
          "Parker Washington",
          "Parris Campbell"
         ],
         "xaxis": "x",
         "y": [
          0.10494880546075085,
          0.11046511627906977,
          0.11116600790513834,
          0.1148477157360406,
          0.11591836734693876,
          0.11607142857142858,
          0.11939918533604887,
          0.12930135557872785,
          0.1296875,
          0.13067292644757433,
          0.14193548387096774,
          0.14285714285714285
         ],
         "yaxis": "y"
        },
        {
         "hovertemplate": "Color=Tier 1<br>player_name=%{x}<br>receiving_air_yards_conversion_per_game=%{y}<extra></extra>",
         "legendgroup": "Tier 1",
         "marker": {
          "color": "#ab63fa",
          "size": 12,
          "symbol": "circle"
         },
         "mode": "markers",
         "name": "Tier 1",
         "orientation": "v",
         "showlegend": true,
         "type": "scatter",
         "x": [
          "Charlie Jones",
          "Robby Anderson",
          "Robbie Chosen",
          "Jamison Crowder",
          "Ray-Ray McCloud",
          "River Cracraft",
          "Equanimeous St. Brown",
          "Isaiah McKenzie",
          "Cordarrelle Patterson",
          "David Moore",
          "Ihmir Smith-Marsette",
          "DeAndre Carter"
         ],
         "xaxis": "x",
         "y": [
          0.1620253164556962,
          0.17872340425531913,
          0.17872340425531913,
          0.18618266978922718,
          0.20516717325227965,
          0.21920289855072464,
          0.2339622641509434,
          0.26031746031746034,
          0.31666666666666665,
          0.31972789115646255,
          0.8095238095238095,
          1.21875
         ],
         "yaxis": "y"
        }
       ],
       "layout": {
        "legend": {
         "title": {
          "text": "WR Tiers"
         },
         "tracegroupgap": 0
        },
        "margin": {
         "t": 60
        },
        "shapes": [
         {
          "line": {
           "color": "black",
           "width": 2
          },
          "type": "line",
          "x0": 0,
          "x1": 1,
          "xref": "paper",
          "y0": 0.1620253164556962,
          "y1": 0.1620253164556962,
          "yref": "y"
         },
         {
          "line": {
           "color": "black",
           "width": 2
          },
          "type": "line",
          "x0": "Charlie Jones",
          "x1": "Charlie Jones",
          "xref": "x",
          "y0": 0.0689139594943591,
          "y1": 1.3406250000000002,
          "yref": "y"
         },
         {
          "line": {
           "color": "black",
           "width": 2
          },
          "type": "line",
          "x0": 0,
          "x1": 1,
          "xref": "paper",
          "y0": 0.10494880546075085,
          "y1": 0.10494880546075085,
          "yref": "y"
         },
         {
          "line": {
           "color": "black",
           "width": 2
          },
          "type": "line",
          "x0": "A.T. Perry",
          "x1": "A.T. Perry",
          "xref": "x",
          "y0": 0.0689139594943591,
          "y1": 1.3406250000000002,
          "yref": "y"
         },
         {
          "line": {
           "color": "black",
           "width": 2
          },
          "type": "line",
          "x0": 0,
          "x1": 1,
          "xref": "paper",
          "y0": 0.08617021276595745,
          "y1": 0.08617021276595745,
          "yref": "y"
         },
         {
          "line": {
           "color": "black",
           "width": 2
          },
          "type": "line",
          "x0": "Noah Brown",
          "x1": "Noah Brown",
          "xref": "x",
          "y0": 0.0689139594943591,
          "y1": 1.3406250000000002,
          "yref": "y"
         }
        ],
        "template": {
         "data": {
          "bar": [
           {
            "error_x": {
             "color": "#2a3f5f"
            },
            "error_y": {
             "color": "#2a3f5f"
            },
            "marker": {
             "line": {
              "color": "#E5ECF6",
              "width": 0.5
             },
             "pattern": {
              "fillmode": "overlay",
              "size": 10,
              "solidity": 0.2
             }
            },
            "type": "bar"
           }
          ],
          "barpolar": [
           {
            "marker": {
             "line": {
              "color": "#E5ECF6",
              "width": 0.5
             },
             "pattern": {
              "fillmode": "overlay",
              "size": 10,
              "solidity": 0.2
             }
            },
            "type": "barpolar"
           }
          ],
          "carpet": [
           {
            "aaxis": {
             "endlinecolor": "#2a3f5f",
             "gridcolor": "white",
             "linecolor": "white",
             "minorgridcolor": "white",
             "startlinecolor": "#2a3f5f"
            },
            "baxis": {
             "endlinecolor": "#2a3f5f",
             "gridcolor": "white",
             "linecolor": "white",
             "minorgridcolor": "white",
             "startlinecolor": "#2a3f5f"
            },
            "type": "carpet"
           }
          ],
          "choropleth": [
           {
            "colorbar": {
             "outlinewidth": 0,
             "ticks": ""
            },
            "type": "choropleth"
           }
          ],
          "contour": [
           {
            "colorbar": {
             "outlinewidth": 0,
             "ticks": ""
            },
            "colorscale": [
             [
              0,
              "#0d0887"
             ],
             [
              0.1111111111111111,
              "#46039f"
             ],
             [
              0.2222222222222222,
              "#7201a8"
             ],
             [
              0.3333333333333333,
              "#9c179e"
             ],
             [
              0.4444444444444444,
              "#bd3786"
             ],
             [
              0.5555555555555556,
              "#d8576b"
             ],
             [
              0.6666666666666666,
              "#ed7953"
             ],
             [
              0.7777777777777778,
              "#fb9f3a"
             ],
             [
              0.8888888888888888,
              "#fdca26"
             ],
             [
              1,
              "#f0f921"
             ]
            ],
            "type": "contour"
           }
          ],
          "contourcarpet": [
           {
            "colorbar": {
             "outlinewidth": 0,
             "ticks": ""
            },
            "type": "contourcarpet"
           }
          ],
          "heatmap": [
           {
            "colorbar": {
             "outlinewidth": 0,
             "ticks": ""
            },
            "colorscale": [
             [
              0,
              "#0d0887"
             ],
             [
              0.1111111111111111,
              "#46039f"
             ],
             [
              0.2222222222222222,
              "#7201a8"
             ],
             [
              0.3333333333333333,
              "#9c179e"
             ],
             [
              0.4444444444444444,
              "#bd3786"
             ],
             [
              0.5555555555555556,
              "#d8576b"
             ],
             [
              0.6666666666666666,
              "#ed7953"
             ],
             [
              0.7777777777777778,
              "#fb9f3a"
             ],
             [
              0.8888888888888888,
              "#fdca26"
             ],
             [
              1,
              "#f0f921"
             ]
            ],
            "type": "heatmap"
           }
          ],
          "heatmapgl": [
           {
            "colorbar": {
             "outlinewidth": 0,
             "ticks": ""
            },
            "colorscale": [
             [
              0,
              "#0d0887"
             ],
             [
              0.1111111111111111,
              "#46039f"
             ],
             [
              0.2222222222222222,
              "#7201a8"
             ],
             [
              0.3333333333333333,
              "#9c179e"
             ],
             [
              0.4444444444444444,
              "#bd3786"
             ],
             [
              0.5555555555555556,
              "#d8576b"
             ],
             [
              0.6666666666666666,
              "#ed7953"
             ],
             [
              0.7777777777777778,
              "#fb9f3a"
             ],
             [
              0.8888888888888888,
              "#fdca26"
             ],
             [
              1,
              "#f0f921"
             ]
            ],
            "type": "heatmapgl"
           }
          ],
          "histogram": [
           {
            "marker": {
             "pattern": {
              "fillmode": "overlay",
              "size": 10,
              "solidity": 0.2
             }
            },
            "type": "histogram"
           }
          ],
          "histogram2d": [
           {
            "colorbar": {
             "outlinewidth": 0,
             "ticks": ""
            },
            "colorscale": [
             [
              0,
              "#0d0887"
             ],
             [
              0.1111111111111111,
              "#46039f"
             ],
             [
              0.2222222222222222,
              "#7201a8"
             ],
             [
              0.3333333333333333,
              "#9c179e"
             ],
             [
              0.4444444444444444,
              "#bd3786"
             ],
             [
              0.5555555555555556,
              "#d8576b"
             ],
             [
              0.6666666666666666,
              "#ed7953"
             ],
             [
              0.7777777777777778,
              "#fb9f3a"
             ],
             [
              0.8888888888888888,
              "#fdca26"
             ],
             [
              1,
              "#f0f921"
             ]
            ],
            "type": "histogram2d"
           }
          ],
          "histogram2dcontour": [
           {
            "colorbar": {
             "outlinewidth": 0,
             "ticks": ""
            },
            "colorscale": [
             [
              0,
              "#0d0887"
             ],
             [
              0.1111111111111111,
              "#46039f"
             ],
             [
              0.2222222222222222,
              "#7201a8"
             ],
             [
              0.3333333333333333,
              "#9c179e"
             ],
             [
              0.4444444444444444,
              "#bd3786"
             ],
             [
              0.5555555555555556,
              "#d8576b"
             ],
             [
              0.6666666666666666,
              "#ed7953"
             ],
             [
              0.7777777777777778,
              "#fb9f3a"
             ],
             [
              0.8888888888888888,
              "#fdca26"
             ],
             [
              1,
              "#f0f921"
             ]
            ],
            "type": "histogram2dcontour"
           }
          ],
          "mesh3d": [
           {
            "colorbar": {
             "outlinewidth": 0,
             "ticks": ""
            },
            "type": "mesh3d"
           }
          ],
          "parcoords": [
           {
            "line": {
             "colorbar": {
              "outlinewidth": 0,
              "ticks": ""
             }
            },
            "type": "parcoords"
           }
          ],
          "pie": [
           {
            "automargin": true,
            "type": "pie"
           }
          ],
          "scatter": [
           {
            "fillpattern": {
             "fillmode": "overlay",
             "size": 10,
             "solidity": 0.2
            },
            "type": "scatter"
           }
          ],
          "scatter3d": [
           {
            "line": {
             "colorbar": {
              "outlinewidth": 0,
              "ticks": ""
             }
            },
            "marker": {
             "colorbar": {
              "outlinewidth": 0,
              "ticks": ""
             }
            },
            "type": "scatter3d"
           }
          ],
          "scattercarpet": [
           {
            "marker": {
             "colorbar": {
              "outlinewidth": 0,
              "ticks": ""
             }
            },
            "type": "scattercarpet"
           }
          ],
          "scattergeo": [
           {
            "marker": {
             "colorbar": {
              "outlinewidth": 0,
              "ticks": ""
             }
            },
            "type": "scattergeo"
           }
          ],
          "scattergl": [
           {
            "marker": {
             "colorbar": {
              "outlinewidth": 0,
              "ticks": ""
             }
            },
            "type": "scattergl"
           }
          ],
          "scattermapbox": [
           {
            "marker": {
             "colorbar": {
              "outlinewidth": 0,
              "ticks": ""
             }
            },
            "type": "scattermapbox"
           }
          ],
          "scatterpolar": [
           {
            "marker": {
             "colorbar": {
              "outlinewidth": 0,
              "ticks": ""
             }
            },
            "type": "scatterpolar"
           }
          ],
          "scatterpolargl": [
           {
            "marker": {
             "colorbar": {
              "outlinewidth": 0,
              "ticks": ""
             }
            },
            "type": "scatterpolargl"
           }
          ],
          "scatterternary": [
           {
            "marker": {
             "colorbar": {
              "outlinewidth": 0,
              "ticks": ""
             }
            },
            "type": "scatterternary"
           }
          ],
          "surface": [
           {
            "colorbar": {
             "outlinewidth": 0,
             "ticks": ""
            },
            "colorscale": [
             [
              0,
              "#0d0887"
             ],
             [
              0.1111111111111111,
              "#46039f"
             ],
             [
              0.2222222222222222,
              "#7201a8"
             ],
             [
              0.3333333333333333,
              "#9c179e"
             ],
             [
              0.4444444444444444,
              "#bd3786"
             ],
             [
              0.5555555555555556,
              "#d8576b"
             ],
             [
              0.6666666666666666,
              "#ed7953"
             ],
             [
              0.7777777777777778,
              "#fb9f3a"
             ],
             [
              0.8888888888888888,
              "#fdca26"
             ],
             [
              1,
              "#f0f921"
             ]
            ],
            "type": "surface"
           }
          ],
          "table": [
           {
            "cells": {
             "fill": {
              "color": "#EBF0F8"
             },
             "line": {
              "color": "white"
             }
            },
            "header": {
             "fill": {
              "color": "#C8D4E3"
             },
             "line": {
              "color": "white"
             }
            },
            "type": "table"
           }
          ]
         },
         "layout": {
          "annotationdefaults": {
           "arrowcolor": "#2a3f5f",
           "arrowhead": 0,
           "arrowwidth": 1
          },
          "autotypenumbers": "strict",
          "coloraxis": {
           "colorbar": {
            "outlinewidth": 0,
            "ticks": ""
           }
          },
          "colorscale": {
           "diverging": [
            [
             0,
             "#8e0152"
            ],
            [
             0.1,
             "#c51b7d"
            ],
            [
             0.2,
             "#de77ae"
            ],
            [
             0.3,
             "#f1b6da"
            ],
            [
             0.4,
             "#fde0ef"
            ],
            [
             0.5,
             "#f7f7f7"
            ],
            [
             0.6,
             "#e6f5d0"
            ],
            [
             0.7,
             "#b8e186"
            ],
            [
             0.8,
             "#7fbc41"
            ],
            [
             0.9,
             "#4d9221"
            ],
            [
             1,
             "#276419"
            ]
           ],
           "sequential": [
            [
             0,
             "#0d0887"
            ],
            [
             0.1111111111111111,
             "#46039f"
            ],
            [
             0.2222222222222222,
             "#7201a8"
            ],
            [
             0.3333333333333333,
             "#9c179e"
            ],
            [
             0.4444444444444444,
             "#bd3786"
            ],
            [
             0.5555555555555556,
             "#d8576b"
            ],
            [
             0.6666666666666666,
             "#ed7953"
            ],
            [
             0.7777777777777778,
             "#fb9f3a"
            ],
            [
             0.8888888888888888,
             "#fdca26"
            ],
            [
             1,
             "#f0f921"
            ]
           ],
           "sequentialminus": [
            [
             0,
             "#0d0887"
            ],
            [
             0.1111111111111111,
             "#46039f"
            ],
            [
             0.2222222222222222,
             "#7201a8"
            ],
            [
             0.3333333333333333,
             "#9c179e"
            ],
            [
             0.4444444444444444,
             "#bd3786"
            ],
            [
             0.5555555555555556,
             "#d8576b"
            ],
            [
             0.6666666666666666,
             "#ed7953"
            ],
            [
             0.7777777777777778,
             "#fb9f3a"
            ],
            [
             0.8888888888888888,
             "#fdca26"
            ],
            [
             1,
             "#f0f921"
            ]
           ]
          },
          "colorway": [
           "#636efa",
           "#EF553B",
           "#00cc96",
           "#ab63fa",
           "#FFA15A",
           "#19d3f3",
           "#FF6692",
           "#B6E880",
           "#FF97FF",
           "#FECB52"
          ],
          "font": {
           "color": "#2a3f5f"
          },
          "geo": {
           "bgcolor": "white",
           "lakecolor": "white",
           "landcolor": "#E5ECF6",
           "showlakes": true,
           "showland": true,
           "subunitcolor": "white"
          },
          "hoverlabel": {
           "align": "left"
          },
          "hovermode": "closest",
          "mapbox": {
           "style": "light"
          },
          "paper_bgcolor": "white",
          "plot_bgcolor": "#E5ECF6",
          "polar": {
           "angularaxis": {
            "gridcolor": "white",
            "linecolor": "white",
            "ticks": ""
           },
           "bgcolor": "#E5ECF6",
           "radialaxis": {
            "gridcolor": "white",
            "linecolor": "white",
            "ticks": ""
           }
          },
          "scene": {
           "xaxis": {
            "backgroundcolor": "#E5ECF6",
            "gridcolor": "white",
            "gridwidth": 2,
            "linecolor": "white",
            "showbackground": true,
            "ticks": "",
            "zerolinecolor": "white"
           },
           "yaxis": {
            "backgroundcolor": "#E5ECF6",
            "gridcolor": "white",
            "gridwidth": 2,
            "linecolor": "white",
            "showbackground": true,
            "ticks": "",
            "zerolinecolor": "white"
           },
           "zaxis": {
            "backgroundcolor": "#E5ECF6",
            "gridcolor": "white",
            "gridwidth": 2,
            "linecolor": "white",
            "showbackground": true,
            "ticks": "",
            "zerolinecolor": "white"
           }
          },
          "shapedefaults": {
           "line": {
            "color": "#2a3f5f"
           }
          },
          "ternary": {
           "aaxis": {
            "gridcolor": "white",
            "linecolor": "white",
            "ticks": ""
           },
           "baxis": {
            "gridcolor": "white",
            "linecolor": "white",
            "ticks": ""
           },
           "bgcolor": "#E5ECF6",
           "caxis": {
            "gridcolor": "white",
            "linecolor": "white",
            "ticks": ""
           }
          },
          "title": {
           "x": 0.05
          },
          "xaxis": {
           "automargin": true,
           "gridcolor": "white",
           "linecolor": "white",
           "ticks": "",
           "title": {
            "standoff": 15
           },
           "zerolinecolor": "white",
           "zerolinewidth": 2
          },
          "yaxis": {
           "automargin": true,
           "gridcolor": "white",
           "linecolor": "white",
           "ticks": "",
           "title": {
            "standoff": 15
           },
           "zerolinecolor": "white",
           "zerolinewidth": 2
          }
         }
        },
        "title": {
         "text": "2023 WR Receiving Air Yards Conversion Per Game"
        },
        "xaxis": {
         "anchor": "y",
         "domain": [
          0,
          1
         ],
         "title": {
          "text": "Player Names"
         }
        },
        "yaxis": {
         "anchor": "x",
         "domain": [
          0,
          1
         ],
         "title": {
          "text": "Receiving Air Yards Conversion (Per Game)"
         }
        }
       }
      },
      "text/html": [
       "<div>                            <div id=\"5c29db59-7ce1-4e4e-9500-a8107cebcb52\" class=\"plotly-graph-div\" style=\"height:525px; width:100%;\"></div>            <script type=\"text/javascript\">                require([\"plotly\"], function(Plotly) {                    window.PLOTLYENV=window.PLOTLYENV || {};                                    if (document.getElementById(\"5c29db59-7ce1-4e4e-9500-a8107cebcb52\")) {                    Plotly.newPlot(                        \"5c29db59-7ce1-4e4e-9500-a8107cebcb52\",                        [{\"hovertemplate\":\"Color=Tier 4\\u003cbr\\u003eplayer_name=%{x}\\u003cbr\\u003ereceiving_air_yards_conversion_per_game=%{y}\\u003cextra\\u003e\\u003c\\u002fextra\\u003e\",\"legendgroup\":\"Tier 4\",\"marker\":{\"color\":\"#636efa\",\"symbol\":\"circle\",\"size\":12},\"mode\":\"markers\",\"name\":\"Tier 4\",\"orientation\":\"v\",\"showlegend\":true,\"x\":[\"Amon-Ra St. Brown\",\"Brandon Powell\",\"Darren Waller\",\"Christian Kirk\",\"Cooper Kupp\",\"Lil'Jordan Humphrey\",\"Braxton Berrios\",\"Greg Dortch\",\"Ben Skowronek\",\"Josh Palmer\",\"Wan'Dale Robinson\",\"Justin Jefferson\"],\"xaxis\":\"x\",\"y\":[0.07449842643587726,0.07506950880444857,0.0777027027027027,0.07788994457640538,0.07863849765258216,0.07917888563049853,0.0799462546187437,0.08123005512039455,0.08333333333333333,0.08383838383838384,0.08536585365853659,0.08537360890302068],\"yaxis\":\"y\",\"type\":\"scatter\"},{\"hovertemplate\":\"Color=Tier 3\\u003cbr\\u003eplayer_name=%{x}\\u003cbr\\u003ereceiving_air_yards_conversion_per_game=%{y}\\u003cextra\\u003e\\u003c\\u002fextra\\u003e\",\"legendgroup\":\"Tier 3\",\"marker\":{\"color\":\"#EF553B\",\"symbol\":\"circle\",\"size\":12},\"mode\":\"markers\",\"name\":\"Tier 3\",\"orientation\":\"v\",\"showlegend\":true,\"x\":[\"Noah Brown\",\"Brandon Johnson\",\"Kendrick Bourne\",\"Justyn Ross\",\"Scott Miller\",\"Jake Bobo\",\"Trenton Irwin\",\"Hunter Renfrow\",\"Khalil Shakir\",\"Demarcus Robinson\",\"Alex Erickson\",\"Deebo Samuel\"],\"xaxis\":\"x\",\"y\":[0.08617021276595745,0.08658536585365853,0.08841463414634146,0.0905982905982906,0.09173789173789174,0.09333333333333334,0.09376854599406528,0.0947603121516165,0.09499378109452736,0.09701882845188285,0.09830508474576272,0.10147895335608646],\"yaxis\":\"y\",\"type\":\"scatter\"},{\"hovertemplate\":\"Color=Tier 2\\u003cbr\\u003eplayer_name=%{x}\\u003cbr\\u003ereceiving_air_yards_conversion_per_game=%{y}\\u003cextra\\u003e\\u003c\\u002fextra\\u003e\",\"legendgroup\":\"Tier 2\",\"marker\":{\"color\":\"#00cc96\",\"symbol\":\"circle\",\"size\":12},\"mode\":\"markers\",\"name\":\"Tier 2\",\"orientation\":\"v\",\"showlegend\":true,\"x\":[\"A.T. Perry\",\"Richie James\",\"Jamal Agnew\",\"Kyle Philips\",\"Quez Watkins\",\"Kadarius Toney\",\"Rashee Rice\",\"Mecole Hardman\",\"Lynn Bowden\",\"David Bell\",\"Parker Washington\",\"Parris Campbell\"],\"xaxis\":\"x\",\"y\":[0.10494880546075085,0.11046511627906977,0.11116600790513834,0.1148477157360406,0.11591836734693876,0.11607142857142858,0.11939918533604887,0.12930135557872785,0.1296875,0.13067292644757433,0.14193548387096774,0.14285714285714285],\"yaxis\":\"y\",\"type\":\"scatter\"},{\"hovertemplate\":\"Color=Tier 1\\u003cbr\\u003eplayer_name=%{x}\\u003cbr\\u003ereceiving_air_yards_conversion_per_game=%{y}\\u003cextra\\u003e\\u003c\\u002fextra\\u003e\",\"legendgroup\":\"Tier 1\",\"marker\":{\"color\":\"#ab63fa\",\"symbol\":\"circle\",\"size\":12},\"mode\":\"markers\",\"name\":\"Tier 1\",\"orientation\":\"v\",\"showlegend\":true,\"x\":[\"Charlie Jones\",\"Robby Anderson\",\"Robbie Chosen\",\"Jamison Crowder\",\"Ray-Ray McCloud\",\"River Cracraft\",\"Equanimeous St. Brown\",\"Isaiah McKenzie\",\"Cordarrelle Patterson\",\"David Moore\",\"Ihmir Smith-Marsette\",\"DeAndre Carter\"],\"xaxis\":\"x\",\"y\":[0.1620253164556962,0.17872340425531913,0.17872340425531913,0.18618266978922718,0.20516717325227965,0.21920289855072464,0.2339622641509434,0.26031746031746034,0.31666666666666665,0.31972789115646255,0.8095238095238095,1.21875],\"yaxis\":\"y\",\"type\":\"scatter\"}],                        {\"template\":{\"data\":{\"histogram2dcontour\":[{\"type\":\"histogram2dcontour\",\"colorbar\":{\"outlinewidth\":0,\"ticks\":\"\"},\"colorscale\":[[0.0,\"#0d0887\"],[0.1111111111111111,\"#46039f\"],[0.2222222222222222,\"#7201a8\"],[0.3333333333333333,\"#9c179e\"],[0.4444444444444444,\"#bd3786\"],[0.5555555555555556,\"#d8576b\"],[0.6666666666666666,\"#ed7953\"],[0.7777777777777778,\"#fb9f3a\"],[0.8888888888888888,\"#fdca26\"],[1.0,\"#f0f921\"]]}],\"choropleth\":[{\"type\":\"choropleth\",\"colorbar\":{\"outlinewidth\":0,\"ticks\":\"\"}}],\"histogram2d\":[{\"type\":\"histogram2d\",\"colorbar\":{\"outlinewidth\":0,\"ticks\":\"\"},\"colorscale\":[[0.0,\"#0d0887\"],[0.1111111111111111,\"#46039f\"],[0.2222222222222222,\"#7201a8\"],[0.3333333333333333,\"#9c179e\"],[0.4444444444444444,\"#bd3786\"],[0.5555555555555556,\"#d8576b\"],[0.6666666666666666,\"#ed7953\"],[0.7777777777777778,\"#fb9f3a\"],[0.8888888888888888,\"#fdca26\"],[1.0,\"#f0f921\"]]}],\"heatmap\":[{\"type\":\"heatmap\",\"colorbar\":{\"outlinewidth\":0,\"ticks\":\"\"},\"colorscale\":[[0.0,\"#0d0887\"],[0.1111111111111111,\"#46039f\"],[0.2222222222222222,\"#7201a8\"],[0.3333333333333333,\"#9c179e\"],[0.4444444444444444,\"#bd3786\"],[0.5555555555555556,\"#d8576b\"],[0.6666666666666666,\"#ed7953\"],[0.7777777777777778,\"#fb9f3a\"],[0.8888888888888888,\"#fdca26\"],[1.0,\"#f0f921\"]]}],\"heatmapgl\":[{\"type\":\"heatmapgl\",\"colorbar\":{\"outlinewidth\":0,\"ticks\":\"\"},\"colorscale\":[[0.0,\"#0d0887\"],[0.1111111111111111,\"#46039f\"],[0.2222222222222222,\"#7201a8\"],[0.3333333333333333,\"#9c179e\"],[0.4444444444444444,\"#bd3786\"],[0.5555555555555556,\"#d8576b\"],[0.6666666666666666,\"#ed7953\"],[0.7777777777777778,\"#fb9f3a\"],[0.8888888888888888,\"#fdca26\"],[1.0,\"#f0f921\"]]}],\"contourcarpet\":[{\"type\":\"contourcarpet\",\"colorbar\":{\"outlinewidth\":0,\"ticks\":\"\"}}],\"contour\":[{\"type\":\"contour\",\"colorbar\":{\"outlinewidth\":0,\"ticks\":\"\"},\"colorscale\":[[0.0,\"#0d0887\"],[0.1111111111111111,\"#46039f\"],[0.2222222222222222,\"#7201a8\"],[0.3333333333333333,\"#9c179e\"],[0.4444444444444444,\"#bd3786\"],[0.5555555555555556,\"#d8576b\"],[0.6666666666666666,\"#ed7953\"],[0.7777777777777778,\"#fb9f3a\"],[0.8888888888888888,\"#fdca26\"],[1.0,\"#f0f921\"]]}],\"surface\":[{\"type\":\"surface\",\"colorbar\":{\"outlinewidth\":0,\"ticks\":\"\"},\"colorscale\":[[0.0,\"#0d0887\"],[0.1111111111111111,\"#46039f\"],[0.2222222222222222,\"#7201a8\"],[0.3333333333333333,\"#9c179e\"],[0.4444444444444444,\"#bd3786\"],[0.5555555555555556,\"#d8576b\"],[0.6666666666666666,\"#ed7953\"],[0.7777777777777778,\"#fb9f3a\"],[0.8888888888888888,\"#fdca26\"],[1.0,\"#f0f921\"]]}],\"mesh3d\":[{\"type\":\"mesh3d\",\"colorbar\":{\"outlinewidth\":0,\"ticks\":\"\"}}],\"scatter\":[{\"fillpattern\":{\"fillmode\":\"overlay\",\"size\":10,\"solidity\":0.2},\"type\":\"scatter\"}],\"parcoords\":[{\"type\":\"parcoords\",\"line\":{\"colorbar\":{\"outlinewidth\":0,\"ticks\":\"\"}}}],\"scatterpolargl\":[{\"type\":\"scatterpolargl\",\"marker\":{\"colorbar\":{\"outlinewidth\":0,\"ticks\":\"\"}}}],\"bar\":[{\"error_x\":{\"color\":\"#2a3f5f\"},\"error_y\":{\"color\":\"#2a3f5f\"},\"marker\":{\"line\":{\"color\":\"#E5ECF6\",\"width\":0.5},\"pattern\":{\"fillmode\":\"overlay\",\"size\":10,\"solidity\":0.2}},\"type\":\"bar\"}],\"scattergeo\":[{\"type\":\"scattergeo\",\"marker\":{\"colorbar\":{\"outlinewidth\":0,\"ticks\":\"\"}}}],\"scatterpolar\":[{\"type\":\"scatterpolar\",\"marker\":{\"colorbar\":{\"outlinewidth\":0,\"ticks\":\"\"}}}],\"histogram\":[{\"marker\":{\"pattern\":{\"fillmode\":\"overlay\",\"size\":10,\"solidity\":0.2}},\"type\":\"histogram\"}],\"scattergl\":[{\"type\":\"scattergl\",\"marker\":{\"colorbar\":{\"outlinewidth\":0,\"ticks\":\"\"}}}],\"scatter3d\":[{\"type\":\"scatter3d\",\"line\":{\"colorbar\":{\"outlinewidth\":0,\"ticks\":\"\"}},\"marker\":{\"colorbar\":{\"outlinewidth\":0,\"ticks\":\"\"}}}],\"scattermapbox\":[{\"type\":\"scattermapbox\",\"marker\":{\"colorbar\":{\"outlinewidth\":0,\"ticks\":\"\"}}}],\"scatterternary\":[{\"type\":\"scatterternary\",\"marker\":{\"colorbar\":{\"outlinewidth\":0,\"ticks\":\"\"}}}],\"scattercarpet\":[{\"type\":\"scattercarpet\",\"marker\":{\"colorbar\":{\"outlinewidth\":0,\"ticks\":\"\"}}}],\"carpet\":[{\"aaxis\":{\"endlinecolor\":\"#2a3f5f\",\"gridcolor\":\"white\",\"linecolor\":\"white\",\"minorgridcolor\":\"white\",\"startlinecolor\":\"#2a3f5f\"},\"baxis\":{\"endlinecolor\":\"#2a3f5f\",\"gridcolor\":\"white\",\"linecolor\":\"white\",\"minorgridcolor\":\"white\",\"startlinecolor\":\"#2a3f5f\"},\"type\":\"carpet\"}],\"table\":[{\"cells\":{\"fill\":{\"color\":\"#EBF0F8\"},\"line\":{\"color\":\"white\"}},\"header\":{\"fill\":{\"color\":\"#C8D4E3\"},\"line\":{\"color\":\"white\"}},\"type\":\"table\"}],\"barpolar\":[{\"marker\":{\"line\":{\"color\":\"#E5ECF6\",\"width\":0.5},\"pattern\":{\"fillmode\":\"overlay\",\"size\":10,\"solidity\":0.2}},\"type\":\"barpolar\"}],\"pie\":[{\"automargin\":true,\"type\":\"pie\"}]},\"layout\":{\"autotypenumbers\":\"strict\",\"colorway\":[\"#636efa\",\"#EF553B\",\"#00cc96\",\"#ab63fa\",\"#FFA15A\",\"#19d3f3\",\"#FF6692\",\"#B6E880\",\"#FF97FF\",\"#FECB52\"],\"font\":{\"color\":\"#2a3f5f\"},\"hovermode\":\"closest\",\"hoverlabel\":{\"align\":\"left\"},\"paper_bgcolor\":\"white\",\"plot_bgcolor\":\"#E5ECF6\",\"polar\":{\"bgcolor\":\"#E5ECF6\",\"angularaxis\":{\"gridcolor\":\"white\",\"linecolor\":\"white\",\"ticks\":\"\"},\"radialaxis\":{\"gridcolor\":\"white\",\"linecolor\":\"white\",\"ticks\":\"\"}},\"ternary\":{\"bgcolor\":\"#E5ECF6\",\"aaxis\":{\"gridcolor\":\"white\",\"linecolor\":\"white\",\"ticks\":\"\"},\"baxis\":{\"gridcolor\":\"white\",\"linecolor\":\"white\",\"ticks\":\"\"},\"caxis\":{\"gridcolor\":\"white\",\"linecolor\":\"white\",\"ticks\":\"\"}},\"coloraxis\":{\"colorbar\":{\"outlinewidth\":0,\"ticks\":\"\"}},\"colorscale\":{\"sequential\":[[0.0,\"#0d0887\"],[0.1111111111111111,\"#46039f\"],[0.2222222222222222,\"#7201a8\"],[0.3333333333333333,\"#9c179e\"],[0.4444444444444444,\"#bd3786\"],[0.5555555555555556,\"#d8576b\"],[0.6666666666666666,\"#ed7953\"],[0.7777777777777778,\"#fb9f3a\"],[0.8888888888888888,\"#fdca26\"],[1.0,\"#f0f921\"]],\"sequentialminus\":[[0.0,\"#0d0887\"],[0.1111111111111111,\"#46039f\"],[0.2222222222222222,\"#7201a8\"],[0.3333333333333333,\"#9c179e\"],[0.4444444444444444,\"#bd3786\"],[0.5555555555555556,\"#d8576b\"],[0.6666666666666666,\"#ed7953\"],[0.7777777777777778,\"#fb9f3a\"],[0.8888888888888888,\"#fdca26\"],[1.0,\"#f0f921\"]],\"diverging\":[[0,\"#8e0152\"],[0.1,\"#c51b7d\"],[0.2,\"#de77ae\"],[0.3,\"#f1b6da\"],[0.4,\"#fde0ef\"],[0.5,\"#f7f7f7\"],[0.6,\"#e6f5d0\"],[0.7,\"#b8e186\"],[0.8,\"#7fbc41\"],[0.9,\"#4d9221\"],[1,\"#276419\"]]},\"xaxis\":{\"gridcolor\":\"white\",\"linecolor\":\"white\",\"ticks\":\"\",\"title\":{\"standoff\":15},\"zerolinecolor\":\"white\",\"automargin\":true,\"zerolinewidth\":2},\"yaxis\":{\"gridcolor\":\"white\",\"linecolor\":\"white\",\"ticks\":\"\",\"title\":{\"standoff\":15},\"zerolinecolor\":\"white\",\"automargin\":true,\"zerolinewidth\":2},\"scene\":{\"xaxis\":{\"backgroundcolor\":\"#E5ECF6\",\"gridcolor\":\"white\",\"linecolor\":\"white\",\"showbackground\":true,\"ticks\":\"\",\"zerolinecolor\":\"white\",\"gridwidth\":2},\"yaxis\":{\"backgroundcolor\":\"#E5ECF6\",\"gridcolor\":\"white\",\"linecolor\":\"white\",\"showbackground\":true,\"ticks\":\"\",\"zerolinecolor\":\"white\",\"gridwidth\":2},\"zaxis\":{\"backgroundcolor\":\"#E5ECF6\",\"gridcolor\":\"white\",\"linecolor\":\"white\",\"showbackground\":true,\"ticks\":\"\",\"zerolinecolor\":\"white\",\"gridwidth\":2}},\"shapedefaults\":{\"line\":{\"color\":\"#2a3f5f\"}},\"annotationdefaults\":{\"arrowcolor\":\"#2a3f5f\",\"arrowhead\":0,\"arrowwidth\":1},\"geo\":{\"bgcolor\":\"white\",\"landcolor\":\"#E5ECF6\",\"subunitcolor\":\"white\",\"showland\":true,\"showlakes\":true,\"lakecolor\":\"white\"},\"title\":{\"x\":0.05},\"mapbox\":{\"style\":\"light\"}}},\"xaxis\":{\"anchor\":\"y\",\"domain\":[0.0,1.0],\"title\":{\"text\":\"Player Names\"}},\"yaxis\":{\"anchor\":\"x\",\"domain\":[0.0,1.0],\"title\":{\"text\":\"Receiving Air Yards Conversion (Per Game)\"}},\"legend\":{\"title\":{\"text\":\"WR Tiers\"},\"tracegroupgap\":0},\"margin\":{\"t\":60},\"shapes\":[{\"line\":{\"color\":\"black\",\"width\":2},\"type\":\"line\",\"x0\":0,\"x1\":1,\"xref\":\"paper\",\"y0\":0.1620253164556962,\"y1\":0.1620253164556962,\"yref\":\"y\"},{\"line\":{\"color\":\"black\",\"width\":2},\"type\":\"line\",\"x0\":\"Charlie Jones\",\"x1\":\"Charlie Jones\",\"xref\":\"x\",\"y0\":0.0689139594943591,\"y1\":1.3406250000000002,\"yref\":\"y\"},{\"line\":{\"color\":\"black\",\"width\":2},\"type\":\"line\",\"x0\":0,\"x1\":1,\"xref\":\"paper\",\"y0\":0.10494880546075085,\"y1\":0.10494880546075085,\"yref\":\"y\"},{\"line\":{\"color\":\"black\",\"width\":2},\"type\":\"line\",\"x0\":\"A.T. Perry\",\"x1\":\"A.T. Perry\",\"xref\":\"x\",\"y0\":0.0689139594943591,\"y1\":1.3406250000000002,\"yref\":\"y\"},{\"line\":{\"color\":\"black\",\"width\":2},\"type\":\"line\",\"x0\":0,\"x1\":1,\"xref\":\"paper\",\"y0\":0.08617021276595745,\"y1\":0.08617021276595745,\"yref\":\"y\"},{\"line\":{\"color\":\"black\",\"width\":2},\"type\":\"line\",\"x0\":\"Noah Brown\",\"x1\":\"Noah Brown\",\"xref\":\"x\",\"y0\":0.0689139594943591,\"y1\":1.3406250000000002,\"yref\":\"y\"}],\"title\":{\"text\":\"2023 WR Receiving Air Yards Conversion Per Game\"}},                        {\"responsive\": true}                    ).then(function(){\n",
       "                            \n",
       "var gd = document.getElementById('5c29db59-7ce1-4e4e-9500-a8107cebcb52');\n",
       "var x = new MutationObserver(function (mutations, observer) {{\n",
       "        var display = window.getComputedStyle(gd).display;\n",
       "        if (!display || display === 'none') {{\n",
       "            console.log([gd, 'removed!']);\n",
       "            Plotly.purge(gd);\n",
       "            observer.disconnect();\n",
       "        }}\n",
       "}});\n",
       "\n",
       "// Listen for the removal of the full notebook cells\n",
       "var notebookContainer = gd.closest('#notebook-container');\n",
       "if (notebookContainer) {{\n",
       "    x.observe(notebookContainer, {childList: true});\n",
       "}}\n",
       "\n",
       "// Listen for the clearing of the current output cell\n",
       "var outputEl = gd.closest('.output');\n",
       "if (outputEl) {{\n",
       "    x.observe(outputEl, {childList: true});\n",
       "}}\n",
       "\n",
       "                        })                };                });            </script>        </div>"
      ]
     },
     "metadata": {},
     "output_type": "display_data"
    }
   ],
   "source": [
    "create_scatter_plot(df_sorted_per_game, stat=col_to_graph, custom_appendix=appendix, save_path=save_path,\n",
    "                    start_index=-48, three_tiers=True)"
   ]
  },
  {
   "cell_type": "code",
   "execution_count": null,
   "id": "b35dee2f",
   "metadata": {},
   "outputs": [],
   "source": []
  }
 ],
 "metadata": {
  "kernelspec": {
   "display_name": "plotly",
   "language": "python",
   "name": "plotly"
  },
  "language_info": {
   "codemirror_mode": {
    "name": "ipython",
    "version": 3
   },
   "file_extension": ".py",
   "mimetype": "text/x-python",
   "name": "python",
   "nbconvert_exporter": "python",
   "pygments_lexer": "ipython3",
   "version": "3.10.12"
  }
 },
 "nbformat": 4,
 "nbformat_minor": 5
}
