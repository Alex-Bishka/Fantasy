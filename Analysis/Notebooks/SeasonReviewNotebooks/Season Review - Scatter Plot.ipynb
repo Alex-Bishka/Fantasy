{
 "cells": [
  {
   "cell_type": "markdown",
   "id": "b86826fa",
   "metadata": {},
   "source": [
    "# Imports"
   ]
  },
  {
   "cell_type": "code",
   "execution_count": null,
   "id": "fefb1ff0",
   "metadata": {},
   "outputs": [],
   "source": [
<<<<<<< HEAD
    "import numpy as np\n",
    "import pandas as pd\n",
    "from utils.scatter_plot import create_scatter_plot, prep_df_for_scatter_plot"
=======
    "from sklearn.cluster import KMeans\n",
    "from sklearn.preprocessing import StandardScaler\n",
    "import numpy as np\n",
    "import pandas as pd\n",
    "import matplotlib.pyplot as plt\n",
    "import plotly.express as px"
>>>>>>> prod
   ]
  },
  {
   "cell_type": "markdown",
   "id": "cf802385",
   "metadata": {},
   "source": [
    "# Grabbing Data"
   ]
  },
  {
   "cell_type": "code",
   "execution_count": null,
   "id": "17de234c",
   "metadata": {},
   "outputs": [],
   "source": [
<<<<<<< HEAD
    "df_all = pd.read_pickle(\"../../FantasyData/data-frames/df_all_2005_2023.pkl\")"
=======
    "df_all = pd.read_pickle(\"../interactive/df_all_2005_2023.pkl\")"
>>>>>>> prod
   ]
  },
  {
   "cell_type": "code",
   "execution_count": null,
   "id": "0ec93fc0",
   "metadata": {},
   "outputs": [],
   "source": [
<<<<<<< HEAD
    "SEASON = 2023\n",
    "POSITION = 'QB'"
=======
    "season = 2023\n",
    "position = 'QB'"
>>>>>>> prod
   ]
  },
  {
   "cell_type": "code",
   "execution_count": null,
   "id": "c37a5f78",
   "metadata": {},
   "outputs": [],
   "source": [
<<<<<<< HEAD
    "df_review = df_all.query(f\"season == {SEASON} and position == '{POSITION}' and games >= 5\")"
=======
    "df_review = df_all.query(f\"season == {season} and position == '{position}' and games >= 5\")"
>>>>>>> prod
   ]
  },
  {
   "cell_type": "markdown",
   "id": "5935e849",
   "metadata": {},
   "source": [
    "### Verifying Data"
   ]
  },
  {
   "cell_type": "code",
   "execution_count": null,
   "id": "bfd4a5b4",
   "metadata": {},
   "outputs": [],
   "source": [
<<<<<<< HEAD
    "assert(df_review[\"position\"].unique()[0] == POSITION)\n",
    "assert(df_review[\"season\"].unique()[0] == SEASON)\n",
=======
    "assert(df_review[\"position\"].unique()[0] == position)\n",
    "assert(df_review[\"season\"].unique()[0] == season)\n",
>>>>>>> prod
    "assert(df_review[\"games\"].max() == 17)"
   ]
  },
  {
   "cell_type": "markdown",
   "id": "50d54441",
   "metadata": {},
   "source": [
    "# Line Graph"
   ]
  },
  {
<<<<<<< HEAD
   "cell_type": "markdown",
   "id": "a264643c",
   "metadata": {},
   "source": [
    "Reviewing column options"
   ]
  },
  {
=======
>>>>>>> prod
   "cell_type": "code",
   "execution_count": null,
   "id": "be871fb3",
   "metadata": {},
   "outputs": [],
   "source": [
    "df_review.columns"
   ]
  },
  {
   "cell_type": "code",
   "execution_count": null,
<<<<<<< HEAD
   "id": "b53eaf59",
   "metadata": {},
   "outputs": [],
   "source": [
    "rushing_stats = [\n",
    "    'carries',\n",
    "    'rushing_yards',\n",
    "    'rushing_tds',\n",
    "    'rushing_fumbles',\n",
    "    'rushing_fumbles_lost',\n",
    "    'rushing_first_downs',\n",
    "    'rushing_epa',\n",
    "    'rushing_2pt_conversions'\n",
    "]"
   ]
  },
  {
   "cell_type": "markdown",
   "id": "eed5eb49",
   "metadata": {},
   "source": [
    "Selecting column to graph the players by"
   ]
  },
  {
   "cell_type": "code",
   "execution_count": null,
=======
>>>>>>> prod
   "id": "94425497",
   "metadata": {},
   "outputs": [],
   "source": [
<<<<<<< HEAD
    "col_to_graph = \"fantasy_points\""
   ]
  },
  {
   "cell_type": "markdown",
   "id": "527f3fd3",
   "metadata": {},
   "source": [
    "Selecting appendix and division column. For example, if we wanted `x per game`, we would set the `appendix` to \"per_game\" and the `div_col` to \"games\". Alternatively, if we wanted `x per carry`. we would set the `appendix` to \"per_carry\" and the `div_col` to \"carries\"."
   ]
  },
  {
   "cell_type": "code",
   "execution_count": null,
   "id": "b5db00a3",
   "metadata": {},
   "outputs": [],
   "source": [
    "appendix = \"per_game\"\n",
    "div_col = \"games\""
=======
    "col_to_graph = \"dakota\""
>>>>>>> prod
   ]
  },
  {
   "cell_type": "code",
   "execution_count": null,
   "id": "0c76afa9",
   "metadata": {},
   "outputs": [],
   "source": [
<<<<<<< HEAD
    "df_sorted = df_review.sort_values(by=col_to_graph, ascending=True).copy()\n",
    "df_sorted_per_game = df_sorted.copy()"
   ]
  },
  {
   "cell_type": "markdown",
   "id": "82b2df33",
   "metadata": {},
   "source": [
    "### Per Game Version of Stat"
=======
    "df_sorted = df_review.sort_values(by=col_to_graph, ascending=True).copy()"
   ]
  },
  {
   "cell_type": "code",
   "execution_count": null,
   "id": "22994d3a",
   "metadata": {},
   "outputs": [],
   "source": [
    "per_game = True"
>>>>>>> prod
   ]
  },
  {
   "cell_type": "code",
   "execution_count": null,
   "id": "f65e2385",
   "metadata": {},
   "outputs": [],
   "source": [
<<<<<<< HEAD
    "df_sorted_per_game[f\"{col_to_graph}_{appendix}\"] = df_sorted[col_to_graph] / df_sorted[div_col]\n",
    "df_sorted_per_game.sort_values(by=f\"{col_to_graph}_{appendix}\", ascending=True, inplace=True)"
   ]
  },
  {
   "cell_type": "markdown",
   "id": "32db63f2",
   "metadata": {},
   "source": [
    "### Coloring Player Tiers"
=======
    "if per_game:\n",
    "    df_sorted[f\"{col_to_graph}_per_game\"] = df_sorted[col_to_graph] / df_sorted[\"games\"]\n",
    "    col_to_graph += \"_per_game\"\n",
    "    df_sorted.sort_values(by=col_to_graph, ascending=True, inplace=True)"
>>>>>>> prod
   ]
  },
  {
   "cell_type": "code",
   "execution_count": null,
<<<<<<< HEAD
   "id": "5c74192b",
   "metadata": {},
   "outputs": [],
   "source": [
    "# season total version\n",
    "df_sorted = prep_df_for_scatter_plot(df_sorted)\n",
    "\n",
    "# per game version\n",
    "df_sorted_per_game = prep_df_for_scatter_plot(df_sorted_per_game)"
=======
   "id": "c72b1f8d",
   "metadata": {},
   "outputs": [],
   "source": [
    "df_sorted.reset_index(inplace=True)"
   ]
  },
  {
   "cell_type": "code",
   "execution_count": null,
   "id": "1a669866",
   "metadata": {},
   "outputs": [],
   "source": [
    "# Calculate the reverse index for each row (starting from the bottom)\n",
    "reverse_index = (len(df_sorted) - 1) - df_sorted.index\n",
    "\n",
    "# Calculate the group for each row based on the reverse index\n",
    "group = reverse_index // 12"
>>>>>>> prod
   ]
  },
  {
   "cell_type": "code",
   "execution_count": null,
<<<<<<< HEAD
   "id": "035caf15",
   "metadata": {},
   "outputs": [],
   "source": [
    "df_sorted[[\"total_epa\", \"fantasy_points\"]].corr()"
   ]
  },
  {
   "cell_type": "markdown",
   "id": "b01c3ce1",
   "metadata": {},
   "source": [
    "# Scatter Plot"
=======
   "id": "4aa06fbb",
   "metadata": {},
   "outputs": [],
   "source": [
    "# Map each group to a color\n",
    "colors = {0: 'Tier 1', 1: 'Tier 2', 2: 'Tier 3', 3: 'Tier 4', 4: 'Tier 5', 5: 'Tier 6'}\n",
    "df_sorted['Color'] = group.map(colors)"
>>>>>>> prod
   ]
  },
  {
   "cell_type": "code",
   "execution_count": null,
<<<<<<< HEAD
   "id": "e8865f97",
   "metadata": {},
   "outputs": [],
   "source": [
    "save_path = f\"../../interactive-2.0/QB/2023-review-pt3/scatter_{col_to_graph}.html\""
=======
   "id": "07ea279c",
   "metadata": {},
   "outputs": [],
   "source": [
    "# scatter plot\n",
    "start_index = -30\n",
    "fig = px.scatter(df_sorted[start_index:], x=\"player_name\", y=col_to_graph, color='Color')\n",
    "\n",
    "# Add a horizontal line at qb1 line\n",
    "qb1_line_h = df_sorted[col_to_graph].iloc[-12]\n",
    "fig.add_shape(type=\"line\",\n",
    "              x0=0, x1=1, y0=qb1_line_h, y1=qb1_line_h,\n",
    "              line=dict(color=\"black\", width=2),\n",
    "              xref=\"paper\", yref=\"y\")\n",
    "\n",
    "# add a vertical line at qb1\n",
    "qb1_line_v = df_sorted[\"player_name\"].iloc[-12]\n",
    "fig.add_shape(type=\"line\",\n",
    "              x0=qb1_line_v, x1=qb1_line_v, y0=df_sorted[col_to_graph].iloc[start_index - 10], \n",
    "              y1=df_sorted[col_to_graph].max()* 1.1,\n",
    "              line=dict(color=\"black\", width=2),\n",
    "              xref=\"x\", yref=\"y\")\n",
    "\n",
    "# Add a horizontal line at qb2 line\n",
    "qb2_line_h = df_sorted[col_to_graph].iloc[-24]\n",
    "fig.add_shape(type=\"line\",\n",
    "              x0=0, x1=1, y0=qb2_line_h, y1=qb2_line_h,\n",
    "              line=dict(color=\"black\", width=2),\n",
    "              xref=\"paper\", yref=\"y\")\n",
    "\n",
    "# add a vertical line at qb2\n",
    "qb2_line_v = df_sorted[\"player_name\"].iloc[-24]\n",
    "fig.add_shape(type=\"line\",\n",
    "              x0=qb2_line_v, x1=qb2_line_v, y0=df_sorted[col_to_graph].iloc[start_index - 10], \n",
    "              y1=df_sorted[col_to_graph].max()* 1.1,\n",
    "              line=dict(color=\"black\", width=2),\n",
    "              xref=\"x\", yref=\"y\")\n",
    "\n",
    "fig.update_traces(marker=dict(size=12))\n",
    "\n",
    "fig.update_layout(\n",
    "    title='2023 QB Dakoa',\n",
    "    xaxis_title=\"Player Names\",\n",
    "    yaxis_title='Dakota (Per Game)',\n",
    "    legend_title='QB Tiers',\n",
    ")\n",
    "        \n",
    "fig.write_html(\"../interactive-2.0/QB/2023-review-pt2/dakota-per-game.html\")\n",
    "fig.show()"
>>>>>>> prod
   ]
  },
  {
   "cell_type": "code",
   "execution_count": null,
   "id": "55ea4e17",
   "metadata": {},
   "outputs": [],
<<<<<<< HEAD
   "source": [
    "create_scatter_plot(df_sorted, stat=col_to_graph, custom_appendix=appendix, save_path=save_path)"
   ]
  },
  {
   "cell_type": "code",
   "execution_count": null,
   "id": "39933d8f",
   "metadata": {},
   "outputs": [],
   "source": [
    "create_scatter_plot(df_sorted_per_game, stat=col_to_graph, custom_appendix=appendix, save_path=save_path)"
   ]
  },
  {
   "cell_type": "code",
   "execution_count": null,
   "id": "b35dee2f",
   "metadata": {},
   "outputs": [],
=======
>>>>>>> prod
   "source": []
  }
 ],
 "metadata": {
  "kernelspec": {
   "display_name": "plotly",
   "language": "python",
   "name": "plotly"
  },
  "language_info": {
   "codemirror_mode": {
    "name": "ipython",
    "version": 3
   },
   "file_extension": ".py",
   "mimetype": "text/x-python",
   "name": "python",
   "nbconvert_exporter": "python",
   "pygments_lexer": "ipython3",
<<<<<<< HEAD
   "version": "3.10.12"
=======
   "version": "3.9.7"
>>>>>>> prod
  }
 },
 "nbformat": 4,
 "nbformat_minor": 5
}
