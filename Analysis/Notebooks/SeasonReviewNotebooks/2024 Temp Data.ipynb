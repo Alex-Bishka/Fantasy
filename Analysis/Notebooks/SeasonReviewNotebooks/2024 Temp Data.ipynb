{
 "cells": [
  {
   "cell_type": "code",
   "execution_count": 1,
   "id": "36236106-c182-47a3-ada5-17a7953a7745",
   "metadata": {},
   "outputs": [],
   "source": [
    "import nfl_data_py as nfl"
   ]
  },
  {
   "cell_type": "markdown",
   "id": "d2f68c19-badb-41ab-bdb6-5f10a042be2d",
   "metadata": {},
   "source": [
    "# NGS"
   ]
  },
  {
   "cell_type": "code",
   "execution_count": 2,
   "id": "99b25b52-78de-407f-af2a-d64f859075a1",
   "metadata": {},
   "outputs": [],
   "source": [
    "df_ngs_rushing = nfl.import_ngs_data(stat_type=\"rushing\", years=[2023, 2024])"
   ]
  },
  {
   "cell_type": "code",
   "execution_count": 5,
   "id": "59074942-3b04-402f-b4f7-5d6b7352d38e",
   "metadata": {},
   "outputs": [],
   "source": [
    "df_ngs_rushing_23_24 = df_ngs_rushing.query(\"season_type == 'REG' and week == 0\")"
   ]
  },
  {
   "cell_type": "code",
   "execution_count": 7,
   "id": "ac9f4e24-5066-4059-a37c-bea2b1d874b9",
   "metadata": {},
   "outputs": [
    {
     "name": "stderr",
     "output_type": "stream",
     "text": [
      "/tmp/ipykernel_8048/2947566510.py:1: SettingWithCopyWarning: \n",
      "A value is trying to be set on a copy of a slice from a DataFrame\n",
      "\n",
      "See the caveats in the documentation: https://pandas.pydata.org/pandas-docs/stable/user_guide/indexing.html#returning-a-view-versus-a-copy\n",
      "  df_ngs_rushing_23_24.rename(columns={\"player_gsis_id\": \"player_id\"}, inplace=True)\n"
     ]
    }
   ],
   "source": [
    "df_ngs_rushing_23_24.rename(columns={\"player_gsis_id\": \"player_id\"}, inplace=True)"
   ]
  },
  {
   "cell_type": "code",
   "execution_count": 10,
   "id": "f6a5c152-c688-42d4-aa66-8ea8d56b1c76",
   "metadata": {},
   "outputs": [],
   "source": [
    "df_ngs_rushing_23_24.to_csv(\"df_ngs_rushing_23_&_24_season.csv\", index=False)"
   ]
  },
  {
   "cell_type": "markdown",
   "id": "295a48a2-1854-4219-a9a0-10a2c3cd310f",
   "metadata": {},
   "source": [
    "# 2024 Season Data"
   ]
  },
  {
   "cell_type": "code",
   "execution_count": null,
   "id": "b68dbf62-05ea-4b14-a838-3a284e310c8c",
   "metadata": {},
   "outputs": [],
   "source": [
    "df = nfl.import_seasonal_data(years=[2024], s_type='REG')"
   ]
  },
  {
   "cell_type": "code",
   "execution_count": null,
   "id": "aa12b1ee-f198-4f23-9758-2cf433741691",
   "metadata": {},
   "outputs": [],
   "source": [
    "df.head()"
   ]
  },
  {
   "cell_type": "code",
   "execution_count": null,
   "id": "bbab4184-dec7-47c6-a41b-9d6413832b22",
   "metadata": {},
   "outputs": [],
   "source": [
    "df_rost = nfl.import_seasonal_rosters(years=[2024])"
   ]
  },
  {
   "cell_type": "code",
   "execution_count": null,
   "id": "8a89396b-6440-4f7d-b3ea-b87772ef38a1",
   "metadata": {},
   "outputs": [],
   "source": [
    "df_rost.columns"
   ]
  },
  {
   "cell_type": "code",
   "execution_count": null,
   "id": "eb14a120-2732-4692-b35c-56e4e11e134a",
   "metadata": {},
   "outputs": [],
   "source": [
    "df_2024 = df.merge(df_rost[['player_name', 'player_id', 'position']], on='player_id')"
   ]
  },
  {
   "cell_type": "code",
   "execution_count": null,
   "id": "97385120-b451-4d97-950a-0f7dffbd4b4e",
   "metadata": {},
   "outputs": [],
   "source": [
    "df_2024.head()"
   ]
  },
  {
   "cell_type": "code",
   "execution_count": null,
   "id": "2683b93d-a7f1-4f22-9752-77f532888d9b",
   "metadata": {},
   "outputs": [],
   "source": [
    "df_2024.to_csv(\"2024_seasonal_df.csv\", index=False)"
   ]
  },
  {
   "cell_type": "code",
   "execution_count": null,
   "id": "c7d7c0c9-a19a-43c2-b3cb-91fa46a40949",
   "metadata": {},
   "outputs": [],
   "source": []
  }
 ],
 "metadata": {
  "kernelspec": {
   "display_name": "nfldata",
   "language": "python",
   "name": "nfldata"
  },
  "language_info": {
   "codemirror_mode": {
    "name": "ipython",
    "version": 3
   },
   "file_extension": ".py",
   "mimetype": "text/x-python",
   "name": "python",
   "nbconvert_exporter": "python",
   "pygments_lexer": "ipython3",
   "version": "3.10.12"
  }
 },
 "nbformat": 4,
 "nbformat_minor": 5
}
