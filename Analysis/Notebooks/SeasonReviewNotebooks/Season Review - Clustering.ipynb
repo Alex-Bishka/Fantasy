{
 "cells": [
  {
   "cell_type": "markdown",
   "id": "e6197c23",
   "metadata": {},
   "source": [
    "# Imports"
   ]
  },
  {
   "cell_type": "code",
   "execution_count": 1,
   "id": "67d4bd9b",
   "metadata": {},
   "outputs": [],
   "source": [
    "from sklearn.cluster import KMeans\n",
    "from sklearn.preprocessing import StandardScaler\n",
    "import numpy as np\n",
    "import pandas as pd\n",
    "import matplotlib.pyplot as plt\n",
    "import plotly.express as px"
   ]
  },
  {
   "cell_type": "markdown",
   "id": "288db199",
   "metadata": {},
   "source": [
    "# Grabbing Data"
   ]
  },
  {
   "cell_type": "code",
   "execution_count": 32,
   "id": "bb18c690",
   "metadata": {},
   "outputs": [],
   "source": [
    "df_all = pd.read_pickle(\"../../FantasyData/data-frames/df_all_2005_2023.pkl\")"
   ]
  },
  {
   "cell_type": "code",
   "execution_count": 33,
   "id": "9c19aec4",
   "metadata": {},
   "outputs": [],
   "source": [
    "season = 2023\n",
    "position = 'QB'"
   ]
  },
  {
   "cell_type": "code",
   "execution_count": 34,
   "id": "aa134399",
   "metadata": {},
   "outputs": [],
   "source": [
    "df_review = df_all.query(f\"season == {season} and position == '{position}' and games >= 5\").copy()"
   ]
  },
  {
   "cell_type": "markdown",
   "id": "2a69c28c",
   "metadata": {},
   "source": [
    "### Verifying Data"
   ]
  },
  {
   "cell_type": "code",
   "execution_count": 35,
   "id": "35ed7bb7",
   "metadata": {},
   "outputs": [],
   "source": [
    "assert(df_review[\"position\"].unique()[0] == position)\n",
    "assert(df_review[\"season\"].unique()[0] == season)\n",
    "assert(df_review[\"games\"].max() == 17)"
   ]
  },
  {
   "cell_type": "markdown",
   "id": "3bb45008",
   "metadata": {},
   "source": [
    "# Clustering"
   ]
  },
  {
   "cell_type": "markdown",
   "id": "12577275",
   "metadata": {},
   "source": [
    "## Selecting Stats for Clusters"
   ]
  },
  {
   "cell_type": "code",
   "execution_count": 36,
   "id": "82eda3d8",
   "metadata": {},
   "outputs": [],
   "source": [
    "qb_cols = ['completions', 'attempts',\n",
    "       'passing_yards', 'passing_tds', 'interceptions', 'sacks', 'sack_yards',\n",
    "       'sack_fumbles', 'sack_fumbles_lost', 'passing_air_yards',\n",
    "       'passing_yards_after_catch', 'passing_first_downs', 'passing_epa',\n",
    "       'passing_2pt_conversions', 'pacr', 'dakota']"
   ]
  },
  {
   "cell_type": "code",
   "execution_count": 37,
   "id": "16820c9a",
   "metadata": {},
   "outputs": [],
   "source": [
    "df_review[\"completion_percentage\"] = df_review[\"completions\"] / df_review[\"attempts\"]"
   ]
  },
  {
   "cell_type": "code",
   "execution_count": 38,
   "id": "9ab11bbd",
   "metadata": {},
   "outputs": [],
   "source": [
    "# subset_cols = ['completions', 'attempts',\n",
    "#        'passing_yards', 'passing_tds', 'interceptions']"
   ]
  },
  {
   "cell_type": "code",
   "execution_count": 61,
   "id": "f2914eb7",
   "metadata": {},
   "outputs": [],
   "source": [
    "# subset_cols = ['passing_yards', 'passing_tds', 'rushing_tds', 'rushing_yards', 'fantasy_points']\n",
    "# subset_cols = ['fantasy_points', 'passing_yards', 'passing_tds', 'interceptions', 'completion_percentage', 'sacks']\n",
    "# subset_cols = ['fantasy_points', 'pacr', 'dakota', 'passing_epa', 'passing_air_yards']\n",
    "# subset_cols = ['fantasy_points', 'carries', 'rushing_yards', 'rushing_tds',]\n",
    "subset_cols = ['fantasy_points', 'rushing_epa', 'rushing_first_downs']"
   ]
  },
  {
   "cell_type": "markdown",
   "id": "f082925c",
   "metadata": {},
   "source": [
    "### Per Game Option"
   ]
  },
  {
   "cell_type": "code",
   "execution_count": 62,
   "id": "63f6b41d",
   "metadata": {},
   "outputs": [],
   "source": [
    "per_game = True"
   ]
  },
  {
   "cell_type": "code",
   "execution_count": 63,
   "id": "8686e7fe",
   "metadata": {},
   "outputs": [],
   "source": [
    "if per_game:\n",
    "    for col in subset_cols:\n",
    "        if col != \"completion_percentage\":\n",
    "            df_review[f\"{col}_per_game\"] = df_review[col]/ df_review[\"games\"]\n",
    "    \n",
    "    for i, col in enumerate(subset_cols):\n",
    "        if col != \"completion_percentage\":\n",
    "            subset_cols[i] = f\"{col}_per_game\""
   ]
  },
  {
   "cell_type": "code",
   "execution_count": 64,
   "id": "f7db12ec",
   "metadata": {},
   "outputs": [],
   "source": [
    "subset_df = df_review[subset_cols].copy().dropna()"
   ]
  },
  {
   "cell_type": "code",
   "execution_count": 65,
   "id": "50d8e588",
   "metadata": {},
   "outputs": [],
   "source": [
    "subset_df = subset_df.sort_values(by=\"fantasy_points_per_game\")[-30:]"
   ]
  },
  {
   "cell_type": "code",
   "execution_count": 66,
   "id": "af8f6568",
   "metadata": {},
   "outputs": [],
   "source": [
    "subset_df.drop(columns=\"fantasy_points_per_game\", inplace=True)"
   ]
  },
  {
   "cell_type": "code",
   "execution_count": 67,
   "id": "bf4b2026",
   "metadata": {},
   "outputs": [],
   "source": [
    "subset_cols = subset_cols[1:]"
   ]
  },
  {
   "cell_type": "code",
   "execution_count": 68,
   "id": "dc045aa8",
   "metadata": {},
   "outputs": [
    {
     "data": {
      "text/html": [
       "<div>\n",
       "<style scoped>\n",
       "    .dataframe tbody tr th:only-of-type {\n",
       "        vertical-align: middle;\n",
       "    }\n",
       "\n",
       "    .dataframe tbody tr th {\n",
       "        vertical-align: top;\n",
       "    }\n",
       "\n",
       "    .dataframe thead th {\n",
       "        text-align: right;\n",
       "    }\n",
       "</style>\n",
       "<table border=\"1\" class=\"dataframe\">\n",
       "  <thead>\n",
       "    <tr style=\"text-align: right;\">\n",
       "      <th></th>\n",
       "      <th>rushing_epa_per_game</th>\n",
       "      <th>rushing_first_downs_per_game</th>\n",
       "    </tr>\n",
       "  </thead>\n",
       "  <tbody>\n",
       "    <tr>\n",
       "      <th>11199</th>\n",
       "      <td>-0.173479</td>\n",
       "      <td>0.437500</td>\n",
       "    </tr>\n",
       "    <tr>\n",
       "      <th>8867</th>\n",
       "      <td>2.015010</td>\n",
       "      <td>1.000000</td>\n",
       "    </tr>\n",
       "    <tr>\n",
       "      <th>9901</th>\n",
       "      <td>-0.004659</td>\n",
       "      <td>0.800000</td>\n",
       "    </tr>\n",
       "    <tr>\n",
       "      <th>11192</th>\n",
       "      <td>1.607513</td>\n",
       "      <td>2.200000</td>\n",
       "    </tr>\n",
       "    <tr>\n",
       "      <th>8403</th>\n",
       "      <td>-1.192698</td>\n",
       "      <td>0.235294</td>\n",
       "    </tr>\n",
       "  </tbody>\n",
       "</table>\n",
       "</div>"
      ],
      "text/plain": [
       "       rushing_epa_per_game  rushing_first_downs_per_game\n",
       "11199             -0.173479                      0.437500\n",
       "8867               2.015010                      1.000000\n",
       "9901              -0.004659                      0.800000\n",
       "11192              1.607513                      2.200000\n",
       "8403              -1.192698                      0.235294"
      ]
     },
     "execution_count": 68,
     "metadata": {},
     "output_type": "execute_result"
    }
   ],
   "source": [
    "subset_df.head()"
   ]
  },
  {
   "cell_type": "markdown",
   "id": "560b0eac",
   "metadata": {},
   "source": [
    "## Creating Vectors for Clustering"
   ]
  },
  {
   "cell_type": "code",
   "execution_count": 69,
   "id": "fb1252fe",
   "metadata": {},
   "outputs": [],
   "source": [
    "X = subset_df.to_numpy()\n",
    "scaler = StandardScaler()\n",
    "X_scaled = scaler.fit_transform(X)"
   ]
  },
  {
   "cell_type": "markdown",
   "id": "c7527d8a",
   "metadata": {},
   "source": [
    "## Get Candidate Cluster Size"
   ]
  },
  {
   "cell_type": "code",
   "execution_count": 70,
   "id": "e053dcee",
   "metadata": {},
   "outputs": [
    {
     "data": {
      "image/png": "[encoded data removed]",
      "text/plain": [
       "<Figure size 432x288 with 1 Axes>"
      ]
     },
     "metadata": {
      "needs_background": "light"
     },
     "output_type": "display_data"
    }
   ],
   "source": [
    "inertia = []\n",
    "for i in range(2, 11):  # consider clusters from 1 to 10\n",
    "    kmeans = KMeans(n_clusters=i, algorithm='elkan', n_init=10).fit(X_scaled)\n",
    "    inertia.append(kmeans.inertia_)\n",
    "\n",
    "plt.plot(range(2, 11), inertia)\n",
    "plt.title('Elbow Method')\n",
    "plt.xlabel('Number of clusters')\n",
    "plt.ylabel('Inertia')\n",
    "plt.show()"
   ]
  },
  {
   "cell_type": "markdown",
   "id": "e2b5a261",
   "metadata": {},
   "source": [
    "# Create Clusters"
   ]
  },
  {
   "cell_type": "code",
   "execution_count": 71,
   "id": "8aa73359",
   "metadata": {},
   "outputs": [],
   "source": [
    "n = 5"
   ]
  },
  {
   "cell_type": "code",
   "execution_count": 72,
   "id": "d0ad683a",
   "metadata": {},
   "outputs": [],
   "source": [
    "kmeans = KMeans(n_clusters=n, random_state=0, n_init=10).fit(X_scaled)\n",
    "\n",
    "cluster_ranking = dict()\n",
    "for i, cluster_num in enumerate(kmeans.labels_):\n",
    "    cluster_ranking[df_review.loc[subset_df.index[i], 'player_name']] = cluster_num\n",
    "\n",
    "labels = [str(label) for label in kmeans.labels_]"
   ]
  },
  {
   "cell_type": "code",
   "execution_count": 73,
   "id": "efea64d4",
   "metadata": {},
   "outputs": [],
   "source": [
    "df_cluster = pd.DataFrame(X, columns=subset_cols)\n",
    "df_cluster[\"Cluster\"] = labels"
   ]
  },
  {
   "cell_type": "markdown",
   "id": "9b93531e",
   "metadata": {},
   "source": [
    "# Graph Clusters"
   ]
  },
  {
   "cell_type": "markdown",
   "id": "c7a65301",
   "metadata": {},
   "source": [
    "## Parameters for Graph"
   ]
  },
  {
   "cell_type": "code",
   "execution_count": 74,
   "id": "3686c622",
   "metadata": {},
   "outputs": [],
   "source": [
    "save_fig = True\n",
    "save_suffix = \"\""
   ]
  },
  {
   "cell_type": "code",
   "execution_count": 84,
   "id": "4a90d1b6",
   "metadata": {},
   "outputs": [],
   "source": [
    "font_size = 12\n",
    "marker_size = 4\n",
    "diagonal_is_visible = False\n",
    "width = 1000\n",
    "height = 1000\n",
    "showupperhalf = True\n",
    "legend_size = 14"
   ]
  },
  {
   "cell_type": "markdown",
   "id": "5326e73b",
   "metadata": {},
   "source": [
    "## Plot Generation"
   ]
  },
  {
   "cell_type": "code",
   "execution_count": 85,
   "id": "1102b96e",
   "metadata": {},
   "outputs": [
    {
     "data": {
      "application/vnd.plotly.v1+json": {
       "config": {
        "plotlyServerURL": "https://plot.ly"
       },
       "data": [
        {
         "diagonal": {
          "visible": false
         },
         "dimensions": [
          {
           "axis": {
            "matches": true
           },
           "label": "rushing_epa_per_game",
           "values": [
            -0.17347900859749643,
            -0.004659183972558267,
            -0.3512241517397342,
            -0.3284331611862096,
            -0.8519792469105759,
            0.2643756994686555,
            0.08682762801452021,
            0.2109210780763533,
            -0.3762094646646091,
            -0.09398919536202613
           ]
          },
          {
           "axis": {
            "matches": true
           },
           "label": "rushing_first_downs_per_game",
           "values": [
            0.4375,
            0.8,
            0.9,
            0.6666666666666666,
            0.9411764705882353,
            0.26666666666666666,
            1.4375,
            0.75,
            0.9411764705882353,
            0.6
           ]
          }
         ],
         "hovertemplate": "<b>%{hovertext}</b><br><br>Cluster=1<br>%{xaxis.title.text}=%{x}<br>%{yaxis.title.text}=%{y}<extra></extra>",
         "hovertext": [
          "Gardner Minshew",
          "Nick Mullens",
          "Joe Burrow",
          "Geno Smith",
          "Baker Mayfield",
          "Matthew Stafford",
          "Trevor Lawrence",
          "Kirk Cousins",
          "Jordan Love",
          "Joe Flacco"
         ],
         "legendgroup": "1",
         "marker": {
          "color": "#636efa",
          "size": 4,
          "symbol": "circle"
         },
         "name": "1",
         "showlegend": true,
         "showupperhalf": true,
         "type": "splom"
        },
        {
         "diagonal": {
          "visible": false
         },
         "dimensions": [
          {
           "axis": {
            "matches": true
           },
           "label": "rushing_epa_per_game",
           "values": [
            2.015009957685834,
            1.129729184256759,
            1.3900739467247631,
            1.0595023208603809,
            0.8332616696335704,
            0.4141991616191183,
            0.4002997127566165,
            0.9606105434897969,
            0.7142182806575211,
            0.8257386897526243
           ]
          },
          {
           "axis": {
            "matches": true
           },
           "label": "rushing_first_downs_per_game",
           "values": [
            1,
            1.6666666666666667,
            1.1176470588235294,
            1.3333333333333333,
            1.6875,
            1.2307692307692308,
            1.1333333333333333,
            1.875,
            0.9375,
            1.2352941176470589
           ]
          }
         ],
         "hovertemplate": "<b>%{hovertext}</b><br><br>Cluster=0<br>%{xaxis.title.text}=%{x}<br>%{yaxis.title.text}=%{y}<extra></extra>",
         "hovertext": [
          "Taylor Heinicke",
          "Deshaun Watson",
          "Sam Howell",
          "Jake Browning",
          "Patrick Mahomes",
          "Justin Herbert",
          "C.J. Stroud",
          "Kyler Murray",
          "Brock Purdy",
          "Dak Prescott"
         ],
         "legendgroup": "0",
         "marker": {
          "color": "#EF553B",
          "size": 4,
          "symbol": "circle"
         },
         "name": "0",
         "showlegend": true,
         "showupperhalf": true,
         "type": "splom"
        },
        {
         "diagonal": {
          "visible": false
         },
         "dimensions": [
          {
           "axis": {
            "matches": true
           },
           "label": "rushing_epa_per_game",
           "values": [
            1.6075134037120733,
            1.0357398083097695,
            1.171044115136968,
            0.6349805225968291
           ]
          },
          {
           "axis": {
            "matches": true
           },
           "label": "rushing_first_downs_per_game",
           "values": [
            2.2,
            2.3846153846153846,
            2.533333333333333,
            3
           ]
          }
         ],
         "hovertemplate": "<b>%{hovertext}</b><br><br>Cluster=4<br>%{xaxis.title.text}=%{x}<br>%{yaxis.title.text}=%{y}<extra></extra>",
         "hovertext": [
          "Easton Stick",
          "Joshua Dobbs",
          "Russell Wilson",
          "Lamar Jackson"
         ],
         "legendgroup": "4",
         "marker": {
          "color": "#00cc96",
          "size": 4,
          "symbol": "circle"
         },
         "name": "4",
         "showlegend": true,
         "showupperhalf": true,
         "type": "splom"
        },
        {
         "diagonal": {
          "visible": false
         },
         "dimensions": [
          {
           "axis": {
            "matches": true
           },
           "label": "rushing_epa_per_game",
           "values": [
            -1.19269846109609,
            -2.3016682794201553,
            -1.288622460501607
           ]
          },
          {
           "axis": {
            "matches": true
           },
           "label": "rushing_first_downs_per_game",
           "values": [
            0.23529411764705882,
            0.29411764705882354,
            0.29411764705882354
           ]
          }
         ],
         "hovertemplate": "<b>%{hovertext}</b><br><br>Cluster=3<br>%{xaxis.title.text}=%{x}<br>%{yaxis.title.text}=%{y}<extra></extra>",
         "hovertext": [
          "Derek Carr",
          "Tua Tagovailoa",
          "Jared Goff"
         ],
         "legendgroup": "3",
         "marker": {
          "color": "#ab63fa",
          "size": 4,
          "symbol": "circle"
         },
         "name": "3",
         "showlegend": true,
         "showupperhalf": true,
         "type": "splom"
        },
        {
         "diagonal": {
          "visible": false
         },
         "dimensions": [
          {
           "axis": {
            "matches": true
           },
           "label": "rushing_epa_per_game",
           "values": [
            1.98575016091353,
            1.2522702390623717,
            3.1989369634711373
           ]
          },
          {
           "axis": {
            "matches": true
           },
           "label": "rushing_first_downs_per_game",
           "values": [
            3.3076923076923075,
            4,
            3.3529411764705883
           ]
          }
         ],
         "hovertemplate": "<b>%{hovertext}</b><br><br>Cluster=2<br>%{xaxis.title.text}=%{x}<br>%{yaxis.title.text}=%{y}<extra></extra>",
         "hovertext": [
          "Justin Fields",
          "Jalen Hurts",
          "Josh Allen"
         ],
         "legendgroup": "2",
         "marker": {
          "color": "#FFA15A",
          "size": 4,
          "symbol": "circle"
         },
         "name": "2",
         "showlegend": true,
         "showupperhalf": true,
         "type": "splom"
        }
       ],
       "layout": {
        "dragmode": "select",
        "font": {
         "color": "black",
         "family": "Courier New, monospace",
         "size": 12
        },
        "height": 1000,
        "legend": {
         "font": {
          "size": 14
         },
         "title": {
          "text": "Cluster"
         },
         "tracegroupgap": 0
        },
        "margin": {
         "t": 60
        },
        "paper_bgcolor": "rgba(0,0,0,0)",
        "plot_bgcolor": "rgba(245, 245, 245, 1)",
        "showlegend": true,
        "template": {
         "data": {
          "bar": [
           {
            "error_x": {
             "color": "#2a3f5f"
            },
            "error_y": {
             "color": "#2a3f5f"
            },
            "marker": {
             "line": {
              "color": "#E5ECF6",
              "width": 0.5
             },
             "pattern": {
              "fillmode": "overlay",
              "size": 10,
              "solidity": 0.2
             }
            },
            "type": "bar"
           }
          ],
          "barpolar": [
           {
            "marker": {
             "line": {
              "color": "#E5ECF6",
              "width": 0.5
             },
             "pattern": {
              "fillmode": "overlay",
              "size": 10,
              "solidity": 0.2
             }
            },
            "type": "barpolar"
           }
          ],
          "carpet": [
           {
            "aaxis": {
             "endlinecolor": "#2a3f5f",
             "gridcolor": "white",
             "linecolor": "white",
             "minorgridcolor": "white",
             "startlinecolor": "#2a3f5f"
            },
            "baxis": {
             "endlinecolor": "#2a3f5f",
             "gridcolor": "white",
             "linecolor": "white",
             "minorgridcolor": "white",
             "startlinecolor": "#2a3f5f"
            },
            "type": "carpet"
           }
          ],
          "choropleth": [
           {
            "colorbar": {
             "outlinewidth": 0,
             "ticks": ""
            },
            "type": "choropleth"
           }
          ],
          "contour": [
           {
            "colorbar": {
             "outlinewidth": 0,
             "ticks": ""
            },
            "colorscale": [
             [
              0,
              "#0d0887"
             ],
             [
              0.1111111111111111,
              "#46039f"
             ],
             [
              0.2222222222222222,
              "#7201a8"
             ],
             [
              0.3333333333333333,
              "#9c179e"
             ],
             [
              0.4444444444444444,
              "#bd3786"
             ],
             [
              0.5555555555555556,
              "#d8576b"
             ],
             [
              0.6666666666666666,
              "#ed7953"
             ],
             [
              0.7777777777777778,
              "#fb9f3a"
             ],
             [
              0.8888888888888888,
              "#fdca26"
             ],
             [
              1,
              "#f0f921"
             ]
            ],
            "type": "contour"
           }
          ],
          "contourcarpet": [
           {
            "colorbar": {
             "outlinewidth": 0,
             "ticks": ""
            },
            "type": "contourcarpet"
           }
          ],
          "heatmap": [
           {
            "colorbar": {
             "outlinewidth": 0,
             "ticks": ""
            },
            "colorscale": [
             [
              0,
              "#0d0887"
             ],
             [
              0.1111111111111111,
              "#46039f"
             ],
             [
              0.2222222222222222,
              "#7201a8"
             ],
             [
              0.3333333333333333,
              "#9c179e"
             ],
             [
              0.4444444444444444,
              "#bd3786"
             ],
             [
              0.5555555555555556,
              "#d8576b"
             ],
             [
              0.6666666666666666,
              "#ed7953"
             ],
             [
              0.7777777777777778,
              "#fb9f3a"
             ],
             [
              0.8888888888888888,
              "#fdca26"
             ],
             [
              1,
              "#f0f921"
             ]
            ],
            "type": "heatmap"
           }
          ],
          "heatmapgl": [
           {
            "colorbar": {
             "outlinewidth": 0,
             "ticks": ""
            },
            "colorscale": [
             [
              0,
              "#0d0887"
             ],
             [
              0.1111111111111111,
              "#46039f"
             ],
             [
              0.2222222222222222,
              "#7201a8"
             ],
             [
              0.3333333333333333,
              "#9c179e"
             ],
             [
              0.4444444444444444,
              "#bd3786"
             ],
             [
              0.5555555555555556,
              "#d8576b"
             ],
             [
              0.6666666666666666,
              "#ed7953"
             ],
             [
              0.7777777777777778,
              "#fb9f3a"
             ],
             [
              0.8888888888888888,
              "#fdca26"
             ],
             [
              1,
              "#f0f921"
             ]
            ],
            "type": "heatmapgl"
           }
          ],
          "histogram": [
           {
            "marker": {
             "pattern": {
              "fillmode": "overlay",
              "size": 10,
              "solidity": 0.2
             }
            },
            "type": "histogram"
           }
          ],
          "histogram2d": [
           {
            "colorbar": {
             "outlinewidth": 0,
             "ticks": ""
            },
            "colorscale": [
             [
              0,
              "#0d0887"
             ],
             [
              0.1111111111111111,
              "#46039f"
             ],
             [
              0.2222222222222222,
              "#7201a8"
             ],
             [
              0.3333333333333333,
              "#9c179e"
             ],
             [
              0.4444444444444444,
              "#bd3786"
             ],
             [
              0.5555555555555556,
              "#d8576b"
             ],
             [
              0.6666666666666666,
              "#ed7953"
             ],
             [
              0.7777777777777778,
              "#fb9f3a"
             ],
             [
              0.8888888888888888,
              "#fdca26"
             ],
             [
              1,
              "#f0f921"
             ]
            ],
            "type": "histogram2d"
           }
          ],
          "histogram2dcontour": [
           {
            "colorbar": {
             "outlinewidth": 0,
             "ticks": ""
            },
            "colorscale": [
             [
              0,
              "#0d0887"
             ],
             [
              0.1111111111111111,
              "#46039f"
             ],
             [
              0.2222222222222222,
              "#7201a8"
             ],
             [
              0.3333333333333333,
              "#9c179e"
             ],
             [
              0.4444444444444444,
              "#bd3786"
             ],
             [
              0.5555555555555556,
              "#d8576b"
             ],
             [
              0.6666666666666666,
              "#ed7953"
             ],
             [
              0.7777777777777778,
              "#fb9f3a"
             ],
             [
              0.8888888888888888,
              "#fdca26"
             ],
             [
              1,
              "#f0f921"
             ]
            ],
            "type": "histogram2dcontour"
           }
          ],
          "mesh3d": [
           {
            "colorbar": {
             "outlinewidth": 0,
             "ticks": ""
            },
            "type": "mesh3d"
           }
          ],
          "parcoords": [
           {
            "line": {
             "colorbar": {
              "outlinewidth": 0,
              "ticks": ""
             }
            },
            "type": "parcoords"
           }
          ],
          "pie": [
           {
            "automargin": true,
            "type": "pie"
           }
          ],
          "scatter": [
           {
            "fillpattern": {
             "fillmode": "overlay",
             "size": 10,
             "solidity": 0.2
            },
            "type": "scatter"
           }
          ],
          "scatter3d": [
           {
            "line": {
             "colorbar": {
              "outlinewidth": 0,
              "ticks": ""
             }
            },
            "marker": {
             "colorbar": {
              "outlinewidth": 0,
              "ticks": ""
             }
            },
            "type": "scatter3d"
           }
          ],
          "scattercarpet": [
           {
            "marker": {
             "colorbar": {
              "outlinewidth": 0,
              "ticks": ""
             }
            },
            "type": "scattercarpet"
           }
          ],
          "scattergeo": [
           {
            "marker": {
             "colorbar": {
              "outlinewidth": 0,
              "ticks": ""
             }
            },
            "type": "scattergeo"
           }
          ],
          "scattergl": [
           {
            "marker": {
             "colorbar": {
              "outlinewidth": 0,
              "ticks": ""
             }
            },
            "type": "scattergl"
           }
          ],
          "scattermapbox": [
           {
            "marker": {
             "colorbar": {
              "outlinewidth": 0,
              "ticks": ""
             }
            },
            "type": "scattermapbox"
           }
          ],
          "scatterpolar": [
           {
            "marker": {
             "colorbar": {
              "outlinewidth": 0,
              "ticks": ""
             }
            },
            "type": "scatterpolar"
           }
          ],
          "scatterpolargl": [
           {
            "marker": {
             "colorbar": {
              "outlinewidth": 0,
              "ticks": ""
             }
            },
            "type": "scatterpolargl"
           }
          ],
          "scatterternary": [
           {
            "marker": {
             "colorbar": {
              "outlinewidth": 0,
              "ticks": ""
             }
            },
            "type": "scatterternary"
           }
          ],
          "surface": [
           {
            "colorbar": {
             "outlinewidth": 0,
             "ticks": ""
            },
            "colorscale": [
             [
              0,
              "#0d0887"
             ],
             [
              0.1111111111111111,
              "#46039f"
             ],
             [
              0.2222222222222222,
              "#7201a8"
             ],
             [
              0.3333333333333333,
              "#9c179e"
             ],
             [
              0.4444444444444444,
              "#bd3786"
             ],
             [
              0.5555555555555556,
              "#d8576b"
             ],
             [
              0.6666666666666666,
              "#ed7953"
             ],
             [
              0.7777777777777778,
              "#fb9f3a"
             ],
             [
              0.8888888888888888,
              "#fdca26"
             ],
             [
              1,
              "#f0f921"
             ]
            ],
            "type": "surface"
           }
          ],
          "table": [
           {
            "cells": {
             "fill": {
              "color": "#EBF0F8"
             },
             "line": {
              "color": "white"
             }
            },
            "header": {
             "fill": {
              "color": "#C8D4E3"
             },
             "line": {
              "color": "white"
             }
            },
            "type": "table"
           }
          ]
         },
         "layout": {
          "annotationdefaults": {
           "arrowcolor": "#2a3f5f",
           "arrowhead": 0,
           "arrowwidth": 1
          },
          "autotypenumbers": "strict",
          "coloraxis": {
           "colorbar": {
            "outlinewidth": 0,
            "ticks": ""
           }
          },
          "colorscale": {
           "diverging": [
            [
             0,
             "#8e0152"
            ],
            [
             0.1,
             "#c51b7d"
            ],
            [
             0.2,
             "#de77ae"
            ],
            [
             0.3,
             "#f1b6da"
            ],
            [
             0.4,
             "#fde0ef"
            ],
            [
             0.5,
             "#f7f7f7"
            ],
            [
             0.6,
             "#e6f5d0"
            ],
            [
             0.7,
             "#b8e186"
            ],
            [
             0.8,
             "#7fbc41"
            ],
            [
             0.9,
             "#4d9221"
            ],
            [
             1,
             "#276419"
            ]
           ],
           "sequential": [
            [
             0,
             "#0d0887"
            ],
            [
             0.1111111111111111,
             "#46039f"
            ],
            [
             0.2222222222222222,
             "#7201a8"
            ],
            [
             0.3333333333333333,
             "#9c179e"
            ],
            [
             0.4444444444444444,
             "#bd3786"
            ],
            [
             0.5555555555555556,
             "#d8576b"
            ],
            [
             0.6666666666666666,
             "#ed7953"
            ],
            [
             0.7777777777777778,
             "#fb9f3a"
            ],
            [
             0.8888888888888888,
             "#fdca26"
            ],
            [
             1,
             "#f0f921"
            ]
           ],
           "sequentialminus": [
            [
             0,
             "#0d0887"
            ],
            [
             0.1111111111111111,
             "#46039f"
            ],
            [
             0.2222222222222222,
             "#7201a8"
            ],
            [
             0.3333333333333333,
             "#9c179e"
            ],
            [
             0.4444444444444444,
             "#bd3786"
            ],
            [
             0.5555555555555556,
             "#d8576b"
            ],
            [
             0.6666666666666666,
             "#ed7953"
            ],
            [
             0.7777777777777778,
             "#fb9f3a"
            ],
            [
             0.8888888888888888,
             "#fdca26"
            ],
            [
             1,
             "#f0f921"
            ]
           ]
          },
          "colorway": [
           "#636efa",
           "#EF553B",
           "#00cc96",
           "#ab63fa",
           "#FFA15A",
           "#19d3f3",
           "#FF6692",
           "#B6E880",
           "#FF97FF",
           "#FECB52"
          ],
          "font": {
           "color": "#2a3f5f"
          },
          "geo": {
           "bgcolor": "white",
           "lakecolor": "white",
           "landcolor": "#E5ECF6",
           "showlakes": true,
           "showland": true,
           "subunitcolor": "white"
          },
          "hoverlabel": {
           "align": "left"
          },
          "hovermode": "closest",
          "mapbox": {
           "style": "light"
          },
          "paper_bgcolor": "white",
          "plot_bgcolor": "#E5ECF6",
          "polar": {
           "angularaxis": {
            "gridcolor": "white",
            "linecolor": "white",
            "ticks": ""
           },
           "bgcolor": "#E5ECF6",
           "radialaxis": {
            "gridcolor": "white",
            "linecolor": "white",
            "ticks": ""
           }
          },
          "scene": {
           "xaxis": {
            "backgroundcolor": "#E5ECF6",
            "gridcolor": "white",
            "gridwidth": 2,
            "linecolor": "white",
            "showbackground": true,
            "ticks": "",
            "zerolinecolor": "white"
           },
           "yaxis": {
            "backgroundcolor": "#E5ECF6",
            "gridcolor": "white",
            "gridwidth": 2,
            "linecolor": "white",
            "showbackground": true,
            "ticks": "",
            "zerolinecolor": "white"
           },
           "zaxis": {
            "backgroundcolor": "#E5ECF6",
            "gridcolor": "white",
            "gridwidth": 2,
            "linecolor": "white",
            "showbackground": true,
            "ticks": "",
            "zerolinecolor": "white"
           }
          },
          "shapedefaults": {
           "line": {
            "color": "#2a3f5f"
           }
          },
          "ternary": {
           "aaxis": {
            "gridcolor": "white",
            "linecolor": "white",
            "ticks": ""
           },
           "baxis": {
            "gridcolor": "white",
            "linecolor": "white",
            "ticks": ""
           },
           "bgcolor": "#E5ECF6",
           "caxis": {
            "gridcolor": "white",
            "linecolor": "white",
            "ticks": ""
           }
          },
          "title": {
           "x": 0.05
          },
          "xaxis": {
           "automargin": true,
           "gridcolor": "white",
           "linecolor": "white",
           "ticks": "",
           "title": {
            "standoff": 15
           },
           "zerolinecolor": "white",
           "zerolinewidth": 2
          },
          "yaxis": {
           "automargin": true,
           "gridcolor": "white",
           "linecolor": "white",
           "ticks": "",
           "title": {
            "standoff": 15
           },
           "zerolinecolor": "white",
           "zerolinewidth": 2
          }
         }
        },
        "width": 1000,
        "xaxis": {
         "gridcolor": "rgba(200, 200, 200, 0.5)",
         "gridwidth": 0.5,
         "showgrid": true
        },
        "yaxis": {
         "gridcolor": "rgba(200, 200, 200, 0.5)",
         "gridwidth": 0.5,
         "showgrid": true
        }
       }
      },
      "text/html": [
       "<div>                            <div id=\"ca2a2330-d600-42aa-9831-3438a8f6c3f4\" class=\"plotly-graph-div\" style=\"height:1000px; width:1000px;\"></div>            <script type=\"text/javascript\">                require([\"plotly\"], function(Plotly) {                    window.PLOTLYENV=window.PLOTLYENV || {};                                    if (document.getElementById(\"ca2a2330-d600-42aa-9831-3438a8f6c3f4\")) {                    Plotly.newPlot(                        \"ca2a2330-d600-42aa-9831-3438a8f6c3f4\",                        [{\"dimensions\":[{\"axis\":{\"matches\":true},\"label\":\"rushing_epa_per_game\",\"values\":[-0.17347900859749643,-0.004659183972558267,-0.3512241517397342,-0.3284331611862096,-0.8519792469105759,0.2643756994686555,0.08682762801452021,0.2109210780763533,-0.3762094646646091,-0.09398919536202613]},{\"axis\":{\"matches\":true},\"label\":\"rushing_first_downs_per_game\",\"values\":[0.4375,0.8,0.9,0.6666666666666666,0.9411764705882353,0.26666666666666666,1.4375,0.75,0.9411764705882353,0.6]}],\"hovertemplate\":\"\\u003cb\\u003e%{hovertext}\\u003c\\u002fb\\u003e\\u003cbr\\u003e\\u003cbr\\u003eCluster=1\\u003cbr\\u003e%{xaxis.title.text}=%{x}\\u003cbr\\u003e%{yaxis.title.text}=%{y}\\u003cextra\\u003e\\u003c\\u002fextra\\u003e\",\"hovertext\":[\"Gardner Minshew\",\"Nick Mullens\",\"Joe Burrow\",\"Geno Smith\",\"Baker Mayfield\",\"Matthew Stafford\",\"Trevor Lawrence\",\"Kirk Cousins\",\"Jordan Love\",\"Joe Flacco\"],\"legendgroup\":\"1\",\"marker\":{\"color\":\"#636efa\",\"symbol\":\"circle\",\"size\":4},\"name\":\"1\",\"showlegend\":true,\"type\":\"splom\",\"diagonal\":{\"visible\":false},\"showupperhalf\":true},{\"dimensions\":[{\"axis\":{\"matches\":true},\"label\":\"rushing_epa_per_game\",\"values\":[2.015009957685834,1.129729184256759,1.3900739467247631,1.0595023208603809,0.8332616696335704,0.4141991616191183,0.4002997127566165,0.9606105434897969,0.7142182806575211,0.8257386897526243]},{\"axis\":{\"matches\":true},\"label\":\"rushing_first_downs_per_game\",\"values\":[1.0,1.6666666666666667,1.1176470588235294,1.3333333333333333,1.6875,1.2307692307692308,1.1333333333333333,1.875,0.9375,1.2352941176470589]}],\"hovertemplate\":\"\\u003cb\\u003e%{hovertext}\\u003c\\u002fb\\u003e\\u003cbr\\u003e\\u003cbr\\u003eCluster=0\\u003cbr\\u003e%{xaxis.title.text}=%{x}\\u003cbr\\u003e%{yaxis.title.text}=%{y}\\u003cextra\\u003e\\u003c\\u002fextra\\u003e\",\"hovertext\":[\"Taylor Heinicke\",\"Deshaun Watson\",\"Sam Howell\",\"Jake Browning\",\"Patrick Mahomes\",\"Justin Herbert\",\"C.J. Stroud\",\"Kyler Murray\",\"Brock Purdy\",\"Dak Prescott\"],\"legendgroup\":\"0\",\"marker\":{\"color\":\"#EF553B\",\"symbol\":\"circle\",\"size\":4},\"name\":\"0\",\"showlegend\":true,\"type\":\"splom\",\"diagonal\":{\"visible\":false},\"showupperhalf\":true},{\"dimensions\":[{\"axis\":{\"matches\":true},\"label\":\"rushing_epa_per_game\",\"values\":[1.6075134037120733,1.0357398083097695,1.171044115136968,0.6349805225968291]},{\"axis\":{\"matches\":true},\"label\":\"rushing_first_downs_per_game\",\"values\":[2.2,2.3846153846153846,2.533333333333333,3.0]}],\"hovertemplate\":\"\\u003cb\\u003e%{hovertext}\\u003c\\u002fb\\u003e\\u003cbr\\u003e\\u003cbr\\u003eCluster=4\\u003cbr\\u003e%{xaxis.title.text}=%{x}\\u003cbr\\u003e%{yaxis.title.text}=%{y}\\u003cextra\\u003e\\u003c\\u002fextra\\u003e\",\"hovertext\":[\"Easton Stick\",\"Joshua Dobbs\",\"Russell Wilson\",\"Lamar Jackson\"],\"legendgroup\":\"4\",\"marker\":{\"color\":\"#00cc96\",\"symbol\":\"circle\",\"size\":4},\"name\":\"4\",\"showlegend\":true,\"type\":\"splom\",\"diagonal\":{\"visible\":false},\"showupperhalf\":true},{\"dimensions\":[{\"axis\":{\"matches\":true},\"label\":\"rushing_epa_per_game\",\"values\":[-1.19269846109609,-2.3016682794201553,-1.288622460501607]},{\"axis\":{\"matches\":true},\"label\":\"rushing_first_downs_per_game\",\"values\":[0.23529411764705882,0.29411764705882354,0.29411764705882354]}],\"hovertemplate\":\"\\u003cb\\u003e%{hovertext}\\u003c\\u002fb\\u003e\\u003cbr\\u003e\\u003cbr\\u003eCluster=3\\u003cbr\\u003e%{xaxis.title.text}=%{x}\\u003cbr\\u003e%{yaxis.title.text}=%{y}\\u003cextra\\u003e\\u003c\\u002fextra\\u003e\",\"hovertext\":[\"Derek Carr\",\"Tua Tagovailoa\",\"Jared Goff\"],\"legendgroup\":\"3\",\"marker\":{\"color\":\"#ab63fa\",\"symbol\":\"circle\",\"size\":4},\"name\":\"3\",\"showlegend\":true,\"type\":\"splom\",\"diagonal\":{\"visible\":false},\"showupperhalf\":true},{\"dimensions\":[{\"axis\":{\"matches\":true},\"label\":\"rushing_epa_per_game\",\"values\":[1.98575016091353,1.2522702390623717,3.1989369634711373]},{\"axis\":{\"matches\":true},\"label\":\"rushing_first_downs_per_game\",\"values\":[3.3076923076923075,4.0,3.3529411764705883]}],\"hovertemplate\":\"\\u003cb\\u003e%{hovertext}\\u003c\\u002fb\\u003e\\u003cbr\\u003e\\u003cbr\\u003eCluster=2\\u003cbr\\u003e%{xaxis.title.text}=%{x}\\u003cbr\\u003e%{yaxis.title.text}=%{y}\\u003cextra\\u003e\\u003c\\u002fextra\\u003e\",\"hovertext\":[\"Justin Fields\",\"Jalen Hurts\",\"Josh Allen\"],\"legendgroup\":\"2\",\"marker\":{\"color\":\"#FFA15A\",\"symbol\":\"circle\",\"size\":4},\"name\":\"2\",\"showlegend\":true,\"type\":\"splom\",\"diagonal\":{\"visible\":false},\"showupperhalf\":true}],                        {\"template\":{\"data\":{\"histogram2dcontour\":[{\"type\":\"histogram2dcontour\",\"colorbar\":{\"outlinewidth\":0,\"ticks\":\"\"},\"colorscale\":[[0.0,\"#0d0887\"],[0.1111111111111111,\"#46039f\"],[0.2222222222222222,\"#7201a8\"],[0.3333333333333333,\"#9c179e\"],[0.4444444444444444,\"#bd3786\"],[0.5555555555555556,\"#d8576b\"],[0.6666666666666666,\"#ed7953\"],[0.7777777777777778,\"#fb9f3a\"],[0.8888888888888888,\"#fdca26\"],[1.0,\"#f0f921\"]]}],\"choropleth\":[{\"type\":\"choropleth\",\"colorbar\":{\"outlinewidth\":0,\"ticks\":\"\"}}],\"histogram2d\":[{\"type\":\"histogram2d\",\"colorbar\":{\"outlinewidth\":0,\"ticks\":\"\"},\"colorscale\":[[0.0,\"#0d0887\"],[0.1111111111111111,\"#46039f\"],[0.2222222222222222,\"#7201a8\"],[0.3333333333333333,\"#9c179e\"],[0.4444444444444444,\"#bd3786\"],[0.5555555555555556,\"#d8576b\"],[0.6666666666666666,\"#ed7953\"],[0.7777777777777778,\"#fb9f3a\"],[0.8888888888888888,\"#fdca26\"],[1.0,\"#f0f921\"]]}],\"heatmap\":[{\"type\":\"heatmap\",\"colorbar\":{\"outlinewidth\":0,\"ticks\":\"\"},\"colorscale\":[[0.0,\"#0d0887\"],[0.1111111111111111,\"#46039f\"],[0.2222222222222222,\"#7201a8\"],[0.3333333333333333,\"#9c179e\"],[0.4444444444444444,\"#bd3786\"],[0.5555555555555556,\"#d8576b\"],[0.6666666666666666,\"#ed7953\"],[0.7777777777777778,\"#fb9f3a\"],[0.8888888888888888,\"#fdca26\"],[1.0,\"#f0f921\"]]}],\"heatmapgl\":[{\"type\":\"heatmapgl\",\"colorbar\":{\"outlinewidth\":0,\"ticks\":\"\"},\"colorscale\":[[0.0,\"#0d0887\"],[0.1111111111111111,\"#46039f\"],[0.2222222222222222,\"#7201a8\"],[0.3333333333333333,\"#9c179e\"],[0.4444444444444444,\"#bd3786\"],[0.5555555555555556,\"#d8576b\"],[0.6666666666666666,\"#ed7953\"],[0.7777777777777778,\"#fb9f3a\"],[0.8888888888888888,\"#fdca26\"],[1.0,\"#f0f921\"]]}],\"contourcarpet\":[{\"type\":\"contourcarpet\",\"colorbar\":{\"outlinewidth\":0,\"ticks\":\"\"}}],\"contour\":[{\"type\":\"contour\",\"colorbar\":{\"outlinewidth\":0,\"ticks\":\"\"},\"colorscale\":[[0.0,\"#0d0887\"],[0.1111111111111111,\"#46039f\"],[0.2222222222222222,\"#7201a8\"],[0.3333333333333333,\"#9c179e\"],[0.4444444444444444,\"#bd3786\"],[0.5555555555555556,\"#d8576b\"],[0.6666666666666666,\"#ed7953\"],[0.7777777777777778,\"#fb9f3a\"],[0.8888888888888888,\"#fdca26\"],[1.0,\"#f0f921\"]]}],\"surface\":[{\"type\":\"surface\",\"colorbar\":{\"outlinewidth\":0,\"ticks\":\"\"},\"colorscale\":[[0.0,\"#0d0887\"],[0.1111111111111111,\"#46039f\"],[0.2222222222222222,\"#7201a8\"],[0.3333333333333333,\"#9c179e\"],[0.4444444444444444,\"#bd3786\"],[0.5555555555555556,\"#d8576b\"],[0.6666666666666666,\"#ed7953\"],[0.7777777777777778,\"#fb9f3a\"],[0.8888888888888888,\"#fdca26\"],[1.0,\"#f0f921\"]]}],\"mesh3d\":[{\"type\":\"mesh3d\",\"colorbar\":{\"outlinewidth\":0,\"ticks\":\"\"}}],\"scatter\":[{\"fillpattern\":{\"fillmode\":\"overlay\",\"size\":10,\"solidity\":0.2},\"type\":\"scatter\"}],\"parcoords\":[{\"type\":\"parcoords\",\"line\":{\"colorbar\":{\"outlinewidth\":0,\"ticks\":\"\"}}}],\"scatterpolargl\":[{\"type\":\"scatterpolargl\",\"marker\":{\"colorbar\":{\"outlinewidth\":0,\"ticks\":\"\"}}}],\"bar\":[{\"error_x\":{\"color\":\"#2a3f5f\"},\"error_y\":{\"color\":\"#2a3f5f\"},\"marker\":{\"line\":{\"color\":\"#E5ECF6\",\"width\":0.5},\"pattern\":{\"fillmode\":\"overlay\",\"size\":10,\"solidity\":0.2}},\"type\":\"bar\"}],\"scattergeo\":[{\"type\":\"scattergeo\",\"marker\":{\"colorbar\":{\"outlinewidth\":0,\"ticks\":\"\"}}}],\"scatterpolar\":[{\"type\":\"scatterpolar\",\"marker\":{\"colorbar\":{\"outlinewidth\":0,\"ticks\":\"\"}}}],\"histogram\":[{\"marker\":{\"pattern\":{\"fillmode\":\"overlay\",\"size\":10,\"solidity\":0.2}},\"type\":\"histogram\"}],\"scattergl\":[{\"type\":\"scattergl\",\"marker\":{\"colorbar\":{\"outlinewidth\":0,\"ticks\":\"\"}}}],\"scatter3d\":[{\"type\":\"scatter3d\",\"line\":{\"colorbar\":{\"outlinewidth\":0,\"ticks\":\"\"}},\"marker\":{\"colorbar\":{\"outlinewidth\":0,\"ticks\":\"\"}}}],\"scattermapbox\":[{\"type\":\"scattermapbox\",\"marker\":{\"colorbar\":{\"outlinewidth\":0,\"ticks\":\"\"}}}],\"scatterternary\":[{\"type\":\"scatterternary\",\"marker\":{\"colorbar\":{\"outlinewidth\":0,\"ticks\":\"\"}}}],\"scattercarpet\":[{\"type\":\"scattercarpet\",\"marker\":{\"colorbar\":{\"outlinewidth\":0,\"ticks\":\"\"}}}],\"carpet\":[{\"aaxis\":{\"endlinecolor\":\"#2a3f5f\",\"gridcolor\":\"white\",\"linecolor\":\"white\",\"minorgridcolor\":\"white\",\"startlinecolor\":\"#2a3f5f\"},\"baxis\":{\"endlinecolor\":\"#2a3f5f\",\"gridcolor\":\"white\",\"linecolor\":\"white\",\"minorgridcolor\":\"white\",\"startlinecolor\":\"#2a3f5f\"},\"type\":\"carpet\"}],\"table\":[{\"cells\":{\"fill\":{\"color\":\"#EBF0F8\"},\"line\":{\"color\":\"white\"}},\"header\":{\"fill\":{\"color\":\"#C8D4E3\"},\"line\":{\"color\":\"white\"}},\"type\":\"table\"}],\"barpolar\":[{\"marker\":{\"line\":{\"color\":\"#E5ECF6\",\"width\":0.5},\"pattern\":{\"fillmode\":\"overlay\",\"size\":10,\"solidity\":0.2}},\"type\":\"barpolar\"}],\"pie\":[{\"automargin\":true,\"type\":\"pie\"}]},\"layout\":{\"autotypenumbers\":\"strict\",\"colorway\":[\"#636efa\",\"#EF553B\",\"#00cc96\",\"#ab63fa\",\"#FFA15A\",\"#19d3f3\",\"#FF6692\",\"#B6E880\",\"#FF97FF\",\"#FECB52\"],\"font\":{\"color\":\"#2a3f5f\"},\"hovermode\":\"closest\",\"hoverlabel\":{\"align\":\"left\"},\"paper_bgcolor\":\"white\",\"plot_bgcolor\":\"#E5ECF6\",\"polar\":{\"bgcolor\":\"#E5ECF6\",\"angularaxis\":{\"gridcolor\":\"white\",\"linecolor\":\"white\",\"ticks\":\"\"},\"radialaxis\":{\"gridcolor\":\"white\",\"linecolor\":\"white\",\"ticks\":\"\"}},\"ternary\":{\"bgcolor\":\"#E5ECF6\",\"aaxis\":{\"gridcolor\":\"white\",\"linecolor\":\"white\",\"ticks\":\"\"},\"baxis\":{\"gridcolor\":\"white\",\"linecolor\":\"white\",\"ticks\":\"\"},\"caxis\":{\"gridcolor\":\"white\",\"linecolor\":\"white\",\"ticks\":\"\"}},\"coloraxis\":{\"colorbar\":{\"outlinewidth\":0,\"ticks\":\"\"}},\"colorscale\":{\"sequential\":[[0.0,\"#0d0887\"],[0.1111111111111111,\"#46039f\"],[0.2222222222222222,\"#7201a8\"],[0.3333333333333333,\"#9c179e\"],[0.4444444444444444,\"#bd3786\"],[0.5555555555555556,\"#d8576b\"],[0.6666666666666666,\"#ed7953\"],[0.7777777777777778,\"#fb9f3a\"],[0.8888888888888888,\"#fdca26\"],[1.0,\"#f0f921\"]],\"sequentialminus\":[[0.0,\"#0d0887\"],[0.1111111111111111,\"#46039f\"],[0.2222222222222222,\"#7201a8\"],[0.3333333333333333,\"#9c179e\"],[0.4444444444444444,\"#bd3786\"],[0.5555555555555556,\"#d8576b\"],[0.6666666666666666,\"#ed7953\"],[0.7777777777777778,\"#fb9f3a\"],[0.8888888888888888,\"#fdca26\"],[1.0,\"#f0f921\"]],\"diverging\":[[0,\"#8e0152\"],[0.1,\"#c51b7d\"],[0.2,\"#de77ae\"],[0.3,\"#f1b6da\"],[0.4,\"#fde0ef\"],[0.5,\"#f7f7f7\"],[0.6,\"#e6f5d0\"],[0.7,\"#b8e186\"],[0.8,\"#7fbc41\"],[0.9,\"#4d9221\"],[1,\"#276419\"]]},\"xaxis\":{\"gridcolor\":\"white\",\"linecolor\":\"white\",\"ticks\":\"\",\"title\":{\"standoff\":15},\"zerolinecolor\":\"white\",\"automargin\":true,\"zerolinewidth\":2},\"yaxis\":{\"gridcolor\":\"white\",\"linecolor\":\"white\",\"ticks\":\"\",\"title\":{\"standoff\":15},\"zerolinecolor\":\"white\",\"automargin\":true,\"zerolinewidth\":2},\"scene\":{\"xaxis\":{\"backgroundcolor\":\"#E5ECF6\",\"gridcolor\":\"white\",\"linecolor\":\"white\",\"showbackground\":true,\"ticks\":\"\",\"zerolinecolor\":\"white\",\"gridwidth\":2},\"yaxis\":{\"backgroundcolor\":\"#E5ECF6\",\"gridcolor\":\"white\",\"linecolor\":\"white\",\"showbackground\":true,\"ticks\":\"\",\"zerolinecolor\":\"white\",\"gridwidth\":2},\"zaxis\":{\"backgroundcolor\":\"#E5ECF6\",\"gridcolor\":\"white\",\"linecolor\":\"white\",\"showbackground\":true,\"ticks\":\"\",\"zerolinecolor\":\"white\",\"gridwidth\":2}},\"shapedefaults\":{\"line\":{\"color\":\"#2a3f5f\"}},\"annotationdefaults\":{\"arrowcolor\":\"#2a3f5f\",\"arrowhead\":0,\"arrowwidth\":1},\"geo\":{\"bgcolor\":\"white\",\"landcolor\":\"#E5ECF6\",\"subunitcolor\":\"white\",\"showland\":true,\"showlakes\":true,\"lakecolor\":\"white\"},\"title\":{\"x\":0.05},\"mapbox\":{\"style\":\"light\"}}},\"legend\":{\"title\":{\"text\":\"Cluster\"},\"tracegroupgap\":0,\"font\":{\"size\":14}},\"margin\":{\"t\":60},\"dragmode\":\"select\",\"font\":{\"family\":\"Courier New, monospace\",\"size\":12,\"color\":\"black\"},\"paper_bgcolor\":\"rgba(0,0,0,0)\",\"plot_bgcolor\":\"rgba(245, 245, 245, 1)\",\"showlegend\":true,\"xaxis\":{\"showgrid\":true,\"gridwidth\":0.5,\"gridcolor\":\"rgba(200, 200, 200, 0.5)\"},\"yaxis\":{\"showgrid\":true,\"gridwidth\":0.5,\"gridcolor\":\"rgba(200, 200, 200, 0.5)\"},\"width\":1000,\"height\":1000},                        {\"responsive\": true}                    ).then(function(){\n",
       "                            \n",
       "var gd = document.getElementById('ca2a2330-d600-42aa-9831-3438a8f6c3f4');\n",
       "var x = new MutationObserver(function (mutations, observer) {{\n",
       "        var display = window.getComputedStyle(gd).display;\n",
       "        if (!display || display === 'none') {{\n",
       "            console.log([gd, 'removed!']);\n",
       "            Plotly.purge(gd);\n",
       "            observer.disconnect();\n",
       "        }}\n",
       "}});\n",
       "\n",
       "// Listen for the removal of the full notebook cells\n",
       "var notebookContainer = gd.closest('#notebook-container');\n",
       "if (notebookContainer) {{\n",
       "    x.observe(notebookContainer, {childList: true});\n",
       "}}\n",
       "\n",
       "// Listen for the clearing of the current output cell\n",
       "var outputEl = gd.closest('.output');\n",
       "if (outputEl) {{\n",
       "    x.observe(outputEl, {childList: true});\n",
       "}}\n",
       "\n",
       "                        })                };                });            </script>        </div>"
      ]
     },
     "metadata": {},
     "output_type": "display_data"
    }
   ],
   "source": [
    "# Convert dictionary keys to a list\n",
    "name_list = list(cluster_ranking.keys())\n",
    "\n",
    "# Add the list as a new column to the dataframe\n",
    "df_cluster['Names'] = name_list\n",
    "\n",
    "df_cluster.set_index('Names', inplace=True)\n",
    "\n",
    "fig = px.scatter_matrix(\n",
    "    data_frame=df_cluster,\n",
    "    dimensions=subset_cols,\n",
    "    color=\"Cluster\",\n",
    "    hover_name=df_cluster.index,  # Assuming the player's name is the index\n",
    "    labels={col: col for col in subset_cols}  # Optional if you want to customize axis labels\n",
    ")\n",
    "\n",
    "# Customize the appearance (optional)\n",
    "fig.update_traces(diagonal_visible=diagonal_is_visible, showupperhalf=showupperhalf)\n",
    "\n",
    "# improving UI\n",
    "fig.update_layout(\n",
    "    paper_bgcolor='rgba(0,0,0,0)',   # Transparent background outside the plot\n",
    "    plot_bgcolor='rgba(245, 245, 245, 1)',  # Light gray plot background\n",
    "    showlegend=True,\n",
    "    font=dict(\n",
    "        family=\"Courier New, monospace\",  # Choose a font family\n",
    "        size=font_size,  # Adjust the font size\n",
    "        color=\"black\"  # Font color\n",
    "    )\n",
    ")\n",
    "fig.update_xaxes(showgrid=True, gridwidth=0.5, gridcolor='rgba(200, 200, 200, 0.5)')\n",
    "fig.update_yaxes(showgrid=True, gridwidth=0.5, gridcolor='rgba(200, 200, 200, 0.5)')\n",
    "\n",
    "fig.update_layout(width=width, height=height)  # Adjust as necessary\n",
    "fig.update_traces(marker=dict(size=marker_size))  # Adjust marker size as needed\n",
    "\n",
    "fig.update_layout(legend=dict(font=dict(size=legend_size)))\n",
    "\n",
    "# Save the plot as HTML\n",
    "if save_fig:\n",
    "    fig.write_html(\"../../interactive-2.0/QB/2023-review-pt3/cluster_advanced_per_game.html\")\n",
    "\n",
    "fig.show()"
   ]
  },
  {
   "cell_type": "code",
   "execution_count": 86,
   "id": "dfcb0764",
   "metadata": {},
   "outputs": [],
   "source": [
    "import pandas as pd\n",
    "\n",
    "# <h3 class=\"h3-blog\">WRs as Three Tiers</h3>\n",
    "#             <p class=\"blog-p-tag\">\n",
    "#                 Starting off with three tiers:\n",
    "#             </p>\n",
    "#             <div class=\"iframe-container\">\n",
    "#                 <iframe class=\"large-iframe\" data-src=\"/Fantasy/Analysis/interactive/QB/clustering-3.html\"></iframe>\n",
    "#             </div>\n",
    "\n",
    "num_2_word = {\n",
    "    3: \"Three\",\n",
    "    4: \"Four\",\n",
    "    5: \"Five\",\n",
    "    6: \"Six\",\n",
    "    7: \"Seven\"\n",
    "}\n",
    "STARTING_INDENT = 3\n",
    "\n",
    "def indent(num_indents):\n",
    "    return \"\\t\" * num_indents\n",
    "\n",
    "def html_breaking_down_clusters(keys, suffix):\n",
    "    \"\"\"\"\"\"\n",
    "    print(f\"{indent(STARTING_INDENT)}<div>\")\n",
    "    \n",
    "    print(f\"{indent(STARTING_INDENT + 1)}<h3 class='h3-blog'>{position}s as {num_2_word[len(keys)]} Tiers</h3>\")\n",
    "    print(f\"{indent(STARTING_INDENT + 1)}<p class='blog-p-tag'>\")\n",
    "    print(f\"{indent(STARTING_INDENT + 2)}TODO\")\n",
    "    print(f\"{indent(STARTING_INDENT + 1)}</p>\")\n",
    "    print(f\"{indent(STARTING_INDENT + 1)}<div class='iframe-container'>\")\n",
    "    if suffix:\n",
    "        append = f\"-{suffix}\"\n",
    "    else:\n",
    "        append = \"\"\n",
    "    print(f\"{indent(STARTING_INDENT + 2)}<iframe class='large-iframe' data-src='/Fantasy/Analysis/interactive/{position}/clustering-{len(keys)}{append}.html'></iframe>\")\n",
    "    print(f\"{indent(STARTING_INDENT + 1)}</div>\")\n",
    "    \n",
    "    print(f\"{indent(STARTING_INDENT + 1)}<p class='blog-p-tag'>\")\n",
    "    print(f\"{indent(STARTING_INDENT + 2)}TODO:\")\n",
    "    print(f\"{indent(STARTING_INDENT + 2)}<ul class='bullet-list'>\")\n",
    "    for key in keys:\n",
    "        print(f\"{indent(STARTING_INDENT + 3)}<li><b>Cluster {key}:</b> TODO</li>\")\n",
    "        \n",
    "    print(f\"{indent(STARTING_INDENT + 2)}</ul>\")\n",
    "\n",
    "def create_cluster_html_tiers(df: pd.DataFrame, suffix: str) -> None:\n",
    "    cluster_dict = dict()\n",
    "    for index, row in df.iterrows():\n",
    "        if row.Cluster not in cluster_dict:\n",
    "            cluster_dict[row.Cluster] = [index]\n",
    "        else:\n",
    "            cluster_dict[row.Cluster].append(index)\n",
    "            \n",
    "    sorted_cluster_dict = dict(sorted(cluster_dict.items()))\n",
    "    keys = list(sorted_cluster_dict.keys())\n",
    "    \n",
    "    \n",
    "    html_breaking_down_clusters(keys, suffix)\n",
    "    print(f\"{indent(STARTING_INDENT + 1)}<div style='display: flex; justify-content: space-evenly;''>\")\n",
    "    for key in keys:\n",
    "        names = cluster_dict[key]\n",
    "        \n",
    "        print(f\"{indent(STARTING_INDENT + 2)}<div>\")\n",
    "        print(f\"{indent(STARTING_INDENT + 3)}<b>Cluster {key} ()</b>\")\n",
    "        print(f\"{indent(STARTING_INDENT + 3)}<ul class='bullet-list'>\")\n",
    "        for name in names:\n",
    "            print(f\"{indent(STARTING_INDENT + 4)}<li>{name}</li>\")\n",
    "        print(f\"{indent(STARTING_INDENT + 3)}</ul>\")\n",
    "        print(f\"{indent(STARTING_INDENT + 2)}</div>\")\n",
    "        if key != keys[-1]:\n",
    "            print()\n",
    "    print(f\"{indent(STARTING_INDENT + 1)}</div>\")\n",
    "    print(f\"\"\"{indent(STARTING_INDENT + 1)}</p>\n",
    "{indent(STARTING_INDENT + 1)}<p class=\"blog-p-tag\">\n",
    "{indent(STARTING_INDENT + 2)}TODO\n",
    "{indent(STARTING_INDENT + 1)}</p>\"\"\")\n",
    "    print(f\"{indent(STARTING_INDENT)}</div>\")"
   ]
  },
  {
   "cell_type": "code",
   "execution_count": 87,
   "id": "63e48229",
   "metadata": {},
   "outputs": [
    {
     "name": "stdout",
     "output_type": "stream",
     "text": [
      "\t\t<div>\n",
      "\t\t\t<div>\n",
      "\t\t\t\t<h3 class='h3-blog'>QBs as Five Tiers</h3>\n",
      "\t\t\t\t<p class='blog-p-tag'>\n",
      "\t\t\t\t\tTODO\n",
      "\t\t\t\t</p>\n",
      "\t\t\t\t<div class='iframe-container'>\n",
      "\t\t\t\t\t<iframe class='large-iframe' data-src='/Fantasy/Analysis/interactive/QB/clustering-5.html'></iframe>\n",
      "\t\t\t\t</div>\n",
      "\t\t\t\t<p class='blog-p-tag'>\n",
      "\t\t\t\t\tTODO:\n",
      "\t\t\t\t\t<ul class='bullet-list'>\n",
      "\t\t\t\t\t\t<li><b>Cluster 0:</b> TODO</li>\n",
      "\t\t\t\t\t\t<li><b>Cluster 1:</b> TODO</li>\n",
      "\t\t\t\t\t\t<li><b>Cluster 2:</b> TODO</li>\n",
      "\t\t\t\t\t\t<li><b>Cluster 3:</b> TODO</li>\n",
      "\t\t\t\t\t\t<li><b>Cluster 4:</b> TODO</li>\n",
      "\t\t\t\t\t</ul>\n",
      "\t\t\t\t<div style='display: flex; justify-content: space-evenly;''>\n",
      "\t\t\t\t\t<div>\n",
      "\t\t\t\t\t\t<b>Cluster 0 ()</b>\n",
      "\t\t\t\t\t\t<ul class='bullet-list'>\n",
      "\t\t\t\t\t\t\t<li>Taylor Heinicke</li>\n",
      "\t\t\t\t\t\t\t<li>Deshaun Watson</li>\n",
      "\t\t\t\t\t\t\t<li>Sam Howell</li>\n",
      "\t\t\t\t\t\t\t<li>Jake Browning</li>\n",
      "\t\t\t\t\t\t\t<li>Patrick Mahomes</li>\n",
      "\t\t\t\t\t\t\t<li>Justin Herbert</li>\n",
      "\t\t\t\t\t\t\t<li>C.J. Stroud</li>\n",
      "\t\t\t\t\t\t\t<li>Kyler Murray</li>\n",
      "\t\t\t\t\t\t\t<li>Brock Purdy</li>\n",
      "\t\t\t\t\t\t\t<li>Dak Prescott</li>\n",
      "\t\t\t\t\t\t</ul>\n",
      "\t\t\t\t\t</div>\n",
      "\n",
      "\t\t\t\t\t<div>\n",
      "\t\t\t\t\t\t<b>Cluster 1 ()</b>\n",
      "\t\t\t\t\t\t<ul class='bullet-list'>\n",
      "\t\t\t\t\t\t\t<li>Gardner Minshew</li>\n",
      "\t\t\t\t\t\t\t<li>Nick Mullens</li>\n",
      "\t\t\t\t\t\t\t<li>Joe Burrow</li>\n",
      "\t\t\t\t\t\t\t<li>Geno Smith</li>\n",
      "\t\t\t\t\t\t\t<li>Baker Mayfield</li>\n",
      "\t\t\t\t\t\t\t<li>Matthew Stafford</li>\n",
      "\t\t\t\t\t\t\t<li>Trevor Lawrence</li>\n",
      "\t\t\t\t\t\t\t<li>Kirk Cousins</li>\n",
      "\t\t\t\t\t\t\t<li>Jordan Love</li>\n",
      "\t\t\t\t\t\t\t<li>Joe Flacco</li>\n",
      "\t\t\t\t\t\t</ul>\n",
      "\t\t\t\t\t</div>\n",
      "\n",
      "\t\t\t\t\t<div>\n",
      "\t\t\t\t\t\t<b>Cluster 2 ()</b>\n",
      "\t\t\t\t\t\t<ul class='bullet-list'>\n",
      "\t\t\t\t\t\t\t<li>Justin Fields</li>\n",
      "\t\t\t\t\t\t\t<li>Jalen Hurts</li>\n",
      "\t\t\t\t\t\t\t<li>Josh Allen</li>\n",
      "\t\t\t\t\t\t</ul>\n",
      "\t\t\t\t\t</div>\n",
      "\n",
      "\t\t\t\t\t<div>\n",
      "\t\t\t\t\t\t<b>Cluster 3 ()</b>\n",
      "\t\t\t\t\t\t<ul class='bullet-list'>\n",
      "\t\t\t\t\t\t\t<li>Derek Carr</li>\n",
      "\t\t\t\t\t\t\t<li>Tua Tagovailoa</li>\n",
      "\t\t\t\t\t\t\t<li>Jared Goff</li>\n",
      "\t\t\t\t\t\t</ul>\n",
      "\t\t\t\t\t</div>\n",
      "\n",
      "\t\t\t\t\t<div>\n",
      "\t\t\t\t\t\t<b>Cluster 4 ()</b>\n",
      "\t\t\t\t\t\t<ul class='bullet-list'>\n",
      "\t\t\t\t\t\t\t<li>Easton Stick</li>\n",
      "\t\t\t\t\t\t\t<li>Joshua Dobbs</li>\n",
      "\t\t\t\t\t\t\t<li>Russell Wilson</li>\n",
      "\t\t\t\t\t\t\t<li>Lamar Jackson</li>\n",
      "\t\t\t\t\t\t</ul>\n",
      "\t\t\t\t\t</div>\n",
      "\t\t\t\t</div>\n",
      "\t\t\t\t</p>\n",
      "\t\t\t\t<p class=\"blog-p-tag\">\n",
      "\t\t\t\t\tTODO\n",
      "\t\t\t\t</p>\n",
      "\t\t\t</div>\n",
      "\n",
      "\t\t</div>\n"
     ]
    }
   ],
   "source": [
    "print(f\"{indent(STARTING_INDENT - 1)}<div>\")\n",
    "create_cluster_html_tiers(df_cluster, \"\")\n",
    "print()\n",
    "print(f\"{indent(STARTING_INDENT - 1)}</div>\")"
   ]
  },
  {
   "cell_type": "code",
   "execution_count": null,
   "id": "2ed2dcaf",
   "metadata": {},
   "outputs": [],
   "source": []
  },
  {
   "cell_type": "code",
   "execution_count": null,
   "id": "f6ddcdd6",
   "metadata": {},
   "outputs": [],
   "source": []
  }
 ],
 "metadata": {
  "kernelspec": {
   "display_name": "plotly",
   "language": "python",
   "name": "plotly"
  },
  "language_info": {
   "codemirror_mode": {
    "name": "ipython",
    "version": 3
   },
   "file_extension": ".py",
   "mimetype": "text/x-python",
   "name": "python",
   "nbconvert_exporter": "python",
   "pygments_lexer": "ipython3",
   "version": "3.9.7"
  }
 },
 "nbformat": 4,
 "nbformat_minor": 5
}
