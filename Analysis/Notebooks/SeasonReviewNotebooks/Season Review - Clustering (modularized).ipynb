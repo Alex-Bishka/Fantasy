{
 "cells": [
  {
   "cell_type": "markdown",
   "id": "e6197c23",
   "metadata": {},
   "source": [
    "# Imports"
   ]
  },
  {
   "cell_type": "code",
   "execution_count": 2,
   "id": "67d4bd9b",
   "metadata": {},
   "outputs": [],
   "source": [
    "import numpy as np\n",
    "import pandas as pd"
   ]
  },
  {
   "cell_type": "code",
   "execution_count": 3,
   "id": "6a307673",
   "metadata": {},
   "outputs": [],
   "source": [
    "from utils.clustering import (create_subset_df, create_cluster_vectors,\n",
    "    get_candidate_cluster_size_elbow_method, get_candidate_cluster_size_silhouette_method,\n",
    "    create_clusters, create_cluster_plot, create_cluster_html_tiers)"
   ]
  },
  {
   "cell_type": "markdown",
   "id": "288db199",
   "metadata": {},
   "source": [
    "# Grabbing Data"
   ]
  },
  {
   "cell_type": "code",
   "execution_count": 4,
   "id": "bb18c690",
   "metadata": {},
   "outputs": [],
   "source": [
    "df_all = pd.read_pickle(\"../../FantasyData/data-frames/df_all_2005_2023.pkl\")"
   ]
  },
  {
   "cell_type": "code",
   "execution_count": 5,
   "id": "9c19aec4",
   "metadata": {},
   "outputs": [],
   "source": [
    "season = 2023\n",
    "position = 'WR'"
   ]
  },
  {
   "cell_type": "code",
   "execution_count": 6,
   "id": "aa134399",
   "metadata": {},
   "outputs": [],
   "source": [
    "df_review = df_all.query(f\"season == {season} and position == '{position}' and games >= 5\").copy()"
   ]
  },
  {
   "cell_type": "markdown",
   "id": "2a69c28c",
   "metadata": {},
   "source": [
    "### Verifying Data"
   ]
  },
  {
   "cell_type": "code",
   "execution_count": 7,
   "id": "35ed7bb7",
   "metadata": {},
   "outputs": [],
   "source": [
    "assert(df_review[\"position\"].unique()[0] == position)\n",
    "assert(df_review[\"season\"].unique()[0] == season)\n",
    "assert(df_review[\"games\"].max() == 17)"
   ]
  },
  {
   "cell_type": "markdown",
   "id": "3bb45008",
   "metadata": {},
   "source": [
    "# Clustering"
   ]
  },
  {
   "cell_type": "code",
   "execution_count": 8,
   "id": "a6b07237",
   "metadata": {},
   "outputs": [
    {
     "data": {
      "text/plain": [
       "Index(['player_id', 'season', 'season_type', 'completions', 'attempts',\n",
       "       'passing_yards', 'passing_tds', 'interceptions', 'sacks', 'sack_yards',\n",
       "       'sack_fumbles', 'sack_fumbles_lost', 'passing_air_yards',\n",
       "       'passing_yards_after_catch', 'passing_first_downs', 'passing_epa',\n",
       "       'passing_2pt_conversions', 'pacr', 'dakota', 'carries', 'rushing_yards',\n",
       "       'rushing_tds', 'rushing_fumbles', 'rushing_fumbles_lost',\n",
       "       'rushing_first_downs', 'rushing_epa', 'rushing_2pt_conversions',\n",
       "       'receptions', 'targets', 'receiving_yards', 'receiving_tds',\n",
       "       'receiving_fumbles', 'receiving_fumbles_lost', 'receiving_air_yards',\n",
       "       'receiving_yards_after_catch', 'receiving_first_downs', 'receiving_epa',\n",
       "       'receiving_2pt_conversions', 'racr', 'target_share', 'air_yards_share',\n",
       "       'wopr_x', 'special_teams_tds', 'fantasy_points', 'fantasy_points_ppr',\n",
       "       'games', 'tgt_sh', 'ay_sh', 'yac_sh', 'wopr_y', 'ry_sh', 'rtd_sh',\n",
       "       'rfd_sh', 'rtdfd_sh', 'dom', 'w8dom', 'yptmpa', 'ppr_sh', 'position',\n",
       "       'player_name', 'age'],\n",
       "      dtype='object')"
      ]
     },
     "execution_count": 8,
     "metadata": {},
     "output_type": "execute_result"
    }
   ],
   "source": [
    "df_review.columns"
   ]
  },
  {
   "cell_type": "markdown",
   "id": "12577275",
   "metadata": {},
   "source": [
    "## Selecting Stats for Clusters"
   ]
  },
  {
   "cell_type": "markdown",
   "id": "618dc597",
   "metadata": {},
   "source": [
    "### QB Version\n",
    "\n",
    "Columns for QBs:\n",
    "\n",
    "```\n",
    "qb_cols = ['completions', 'attempts',\n",
    "       'passing_yards', 'passing_tds', 'interceptions', 'sacks', 'sack_yards',\n",
    "       'sack_fumbles', 'sack_fumbles_lost', 'passing_air_yards',\n",
    "       'passing_yards_after_catch', 'passing_first_downs', 'passing_epa',\n",
    "       'passing_2pt_conversions', 'pacr', 'dakota']\n",
    "```"
   ]
  },
  {
   "cell_type": "code",
   "execution_count": 10,
   "id": "ee24fa4f",
   "metadata": {},
   "outputs": [],
   "source": [
    "df_review[\"completion_percentage\"] = df_review[\"completions\"] / df_review[\"attempts\"]"
   ]
  },
  {
   "cell_type": "markdown",
   "id": "0939673c",
   "metadata": {},
   "source": [
    "Subset options:\n",
    "```\n",
    "subset_cols = ['fantasy_points', 'passing_yards', 'passing_tds', 'rushing_tds', 'rushing_yards']\n",
    "subset_cols = ['fantasy_points', 'passing_yards', 'passing_tds', 'interceptions', 'completion_percentage', 'sacks']\n",
    "subset_cols = ['fantasy_points', 'pacr', 'dakota', 'passing_epa', 'passing_air_yards']\n",
    "subset_cols = ['fantasy_points', 'carries', 'rushing_yards', 'rushing_tds',]\n",
    "subset_cols = ['fantasy_points', 'rushing_epa', 'rushing_first_downs']\n",
    "subset_cols = ['completions', 'attempts', 'passing_yards', 'passing_tds', 'interceptions']\n",
    "```"
   ]
  },
  {
   "cell_type": "markdown",
   "id": "3dc06e7f",
   "metadata": {},
   "source": [
    "### WR Version\n",
    "\n",
    "WR cols:\n",
    "\n",
    "```\n",
    "wr_cols = ['receptions', 'targets', 'receiving_yards', 'receiving_tds',\n",
    "       'receiving_fumbles', 'receiving_fumbles_lost', 'receiving_air_yards',\n",
    "       'receiving_yards_after_catch', 'receiving_first_downs', 'receiving_epa',\n",
    "       'racr', 'target_share', 'air_yards_share',\n",
    "       'wopr_x', 'fantasy_points', 'fantasy_points_ppr',\n",
    "       'tgt_sh', 'ay_sh', 'yac_sh', 'wopr_y', 'ry_sh', 'rtd_sh',\n",
    "       'rfd_sh', 'rtdfd_sh', 'dom', 'w8dom', 'yptmpa', 'ppr_sh']\n",
    "```"
   ]
  },
  {
   "cell_type": "markdown",
   "id": "522bc56c",
   "metadata": {},
   "source": [
    "Subset options: "
   ]
  },
  {
   "cell_type": "markdown",
   "id": "ee337181",
   "metadata": {},
   "source": [
    "## Subset Selection"
   ]
  },
  {
   "cell_type": "code",
   "execution_count": 12,
   "id": "e21780f4",
   "metadata": {},
   "outputs": [],
   "source": [
    "subset_cols = ['fantasy_points_ppr', 'receptions', 'targets', 'receiving_yards', 'receiving_tds']"
   ]
  },
  {
   "cell_type": "markdown",
   "id": "62ba6cf1",
   "metadata": {},
   "source": [
    "## Division Selection"
   ]
  },
  {
   "cell_type": "code",
   "execution_count": 13,
   "id": "9806f2e5",
   "metadata": {},
   "outputs": [],
   "source": [
    "div_col = \"games\"\n",
    "div_col_name = \"game\""
   ]
  },
  {
   "cell_type": "markdown",
   "id": "659f977d",
   "metadata": {},
   "source": [
    "## Create Subset DFs"
   ]
  },
  {
   "cell_type": "markdown",
   "id": "ffd5d2bc",
   "metadata": {},
   "source": [
    "Season total version:"
   ]
  },
  {
   "cell_type": "code",
   "execution_count": 14,
   "id": "00895bd9",
   "metadata": {},
   "outputs": [],
   "source": [
    "subset_df, subset_cols = create_subset_df(df_review.copy(), subset_cols, drop_fantasy=False)"
   ]
  },
  {
   "cell_type": "markdown",
   "id": "fbe82a85",
   "metadata": {},
   "source": [
    "Per X version:"
   ]
  },
  {
   "cell_type": "code",
   "execution_count": 15,
   "id": "9ea1acde",
   "metadata": {},
   "outputs": [],
   "source": [
    "subset_df, subset_cols = create_subset_df(df_review.copy(), subset_cols, drop_fantasy=False,\n",
    "                                          div_col=div_col, div_col_name=div_col_name)"
   ]
  },
  {
   "cell_type": "markdown",
   "id": "555db718",
   "metadata": {},
   "source": [
    "## Prepping Model"
   ]
  },
  {
   "cell_type": "code",
   "execution_count": 16,
   "id": "67e63f06",
   "metadata": {},
   "outputs": [],
   "source": [
    "X, X_scaled = create_cluster_vectors(subset_df)"
   ]
  },
  {
   "cell_type": "code",
   "execution_count": 17,
   "id": "a054ca77",
   "metadata": {},
   "outputs": [
    {
     "data": {
      "image/png": "[encoded data removed]",
      "text/plain": [
       "<Figure size 1080x576 with 6 Axes>"
      ]
     },
     "metadata": {},
     "output_type": "display_data"
    }
   ],
   "source": [
    "km = get_candidate_cluster_size_silhouette_method(X_scaled)"
   ]
  },
  {
   "cell_type": "code",
   "execution_count": 18,
   "id": "e3909cfc",
   "metadata": {},
   "outputs": [
    {
     "data": {
      "image/png": "[encoded data removed]",
      "text/plain": [
       "<Figure size 576x396 with 1 Axes>"
      ]
     },
     "metadata": {},
     "output_type": "display_data"
    }
   ],
   "source": [
    "kmeans = get_candidate_cluster_size_elbow_method(X_scaled)"
   ]
  },
  {
   "cell_type": "markdown",
   "id": "2f0e6194",
   "metadata": {},
   "source": [
    "## Creating Cluster"
   ]
  },
  {
   "cell_type": "markdown",
   "id": "0da20709",
   "metadata": {},
   "source": [
    "Parameters for clustering:"
   ]
  },
  {
   "cell_type": "code",
   "execution_count": 19,
   "id": "907f3c8a",
   "metadata": {},
   "outputs": [],
   "source": [
    "n = 4\n",
    "clustering = kmeans"
   ]
  },
  {
   "cell_type": "markdown",
   "id": "95231b01",
   "metadata": {},
   "source": [
    "Cluster df and dict mapping for player names:"
   ]
  },
  {
   "cell_type": "code",
   "execution_count": 20,
   "id": "9e57588b",
   "metadata": {},
   "outputs": [],
   "source": [
    "df_cluster, cluster_ranking = create_clusters(n, clustering, X, X_scaled, df_review, subset_df, subset_cols,)"
   ]
  },
  {
   "cell_type": "markdown",
   "id": "081efe4a",
   "metadata": {},
   "source": [
    "## Cluster Plot"
   ]
  },
  {
   "cell_type": "markdown",
   "id": "fa065454",
   "metadata": {},
   "source": [
    "Want to probably save figures somewhere here: `../../interactive-2.0/<position>/<blog_post>/<fig_name>.html`"
   ]
  },
  {
   "cell_type": "code",
   "execution_count": 24,
   "id": "6dc426d1",
   "metadata": {},
   "outputs": [],
   "source": [
    "save_path = f\"../../interactive-2.0/{position}/2023-review-pt2/basic-cluster-per-game.html\""
   ]
  },
  {
   "cell_type": "code",
   "execution_count": 25,
   "id": "7eca697b",
   "metadata": {},
   "outputs": [
    {
     "data": {
      "application/vnd.plotly.v1+json": {
       "config": {
        "plotlyServerURL": "https://plot.ly"
       },
       "data": [
        {
         "diagonal": {
          "visible": false
         },
         "dimensions": [
          {
           "axis": {
            "matches": true
           },
           "label": "fantasy_points_ppr_per_game",
           "values": [
            23.835294117647063,
            21.450769230769232,
            20.681250000000002,
            20.419999999999998,
            23.525
           ]
          },
          {
           "axis": {
            "matches": true
           },
           "label": "receptions_per_game",
           "values": [
            7.9411764705882355,
            8.307692307692308,
            7.4375,
            6.8,
            7.4375
           ]
          },
          {
           "axis": {
            "matches": true
           },
           "label": "targets_per_game",
           "values": [
            10.647058823529411,
            11.538461538461538,
            10.25,
            10,
            10.6875
           ]
          },
          {
           "axis": {
            "matches": true
           },
           "label": "receiving_yards_per_game",
           "values": [
            102.88235294117646,
            95.61538461538461,
            94.6875,
            107.4,
            112.4375
           ]
          },
          {
           "axis": {
            "matches": true
           },
           "label": "receiving_tds_per_game",
           "values": [
            0.7058823529411765,
            0.5384615384615384,
            0.625,
            0.5,
            0.8125
           ]
          }
         ],
         "hovertemplate": "<b>%{hovertext}</b><br><br>Cluster=0<br>%{xaxis.title.text}=%{x}<br>%{yaxis.title.text}=%{y}<extra></extra>",
         "hovertext": [
          "DeAndre Hopkins",
          "Rashee Rice",
          "Calvin Ridley",
          "Jayden Reed",
          "Adam Thielen"
         ],
         "legendgroup": "0",
         "marker": {
          "color": "#636efa",
          "size": 4,
          "symbol": "circle"
         },
         "name": "0",
         "showlegend": true,
         "showupperhalf": false,
         "type": "splom"
        },
        {
         "diagonal": {
          "visible": false
         },
         "dimensions": [
          {
           "axis": {
            "matches": true
           },
           "label": "fantasy_points_ppr_per_game",
           "values": [
            14.0875,
            13.575000000000001,
            13.700000000000001,
            13.523529411764706,
            13.28125,
            13.66125,
            13.152941176470588,
            14.185714285714287,
            14.225,
            15.575,
            16.246666666666666,
            14.0875
           ]
          },
          {
           "axis": {
            "matches": true
           },
           "label": "receptions_per_game",
           "values": [
            4.125,
            4,
            4.916666666666667,
            4.470588235294118,
            4.9375,
            4.4375,
            4.411764705882353,
            5.142857142857143,
            5.0625,
            4.6875,
            4,
            4.125
           ]
          },
          {
           "axis": {
            "matches": true
           },
           "label": "targets_per_game",
           "values": [
            7.4375,
            5.875,
            7.916666666666667,
            8,
            6.375,
            6.625,
            8.058823529411764,
            7.428571428571429,
            7,
            6.5625,
            5.933333333333334,
            7.4375
           ]
          },
          {
           "axis": {
            "matches": true
           },
           "label": "receiving_yards_per_game",
           "values": [
            69.625,
            49.5625,
            61.416666666666664,
            59.76470588235294,
            58.625,
            50.4375,
            62.1764705882353,
            72.42857142857143,
            66.625,
            83.875,
            59.46666666666667,
            69.625
           ]
          },
          {
           "axis": {
            "matches": true
           },
           "label": "receiving_tds_per_game",
           "values": [
            0.5,
            0.5,
            0.4166666666666667,
            0.47058823529411764,
            0.4375,
            0.5,
            0.4117647058823529,
            0.2857142857142857,
            0.4375,
            0.4375,
            0.4666666666666667,
            0.5
           ]
          }
         ],
         "hovertemplate": "<b>%{hovertext}</b><br><br>Cluster=1<br>%{xaxis.title.text}=%{x}<br>%{yaxis.title.text}=%{y}<extra></extra>",
         "hovertext": [
          "Stefon Diggs",
          "Michael Pittman",
          "Brandon Aiyuk",
          "Amari Cooper",
          "Chris Olave",
          "Davante Adams",
          "Jaylen Waddle",
          "D.K. Metcalf",
          "DK Metcalf",
          "Cooper Kupp",
          "Jakobi Meyers",
          "DeVonta Smith"
         ],
         "legendgroup": "1",
         "marker": {
          "color": "#EF553B",
          "size": 4,
          "symbol": "circle"
         },
         "name": "1",
         "showlegend": true,
         "showupperhalf": false,
         "type": "splom"
        },
        {
         "diagonal": {
          "visible": false
         },
         "dimensions": [
          {
           "axis": {
            "matches": true
           },
           "label": "fantasy_points_ppr_per_game",
           "values": [
            14.45625,
            15.133333333333333,
            15.762500000000001,
            16.105882352941176,
            13.588235294117647,
            15.611764705882354,
            16.852941176470587,
            17.03529411764706,
            17.558823529411764,
            16.42
           ]
          },
          {
           "axis": {
            "matches": true
           },
           "label": "receptions_per_game",
           "values": [
            5.4375,
            4.8,
            6.8125,
            6.294117647058823,
            6.0588235294117645,
            6.0588235294117645,
            5.647058823529412,
            6.235294117647059,
            6.176470588235294,
            6.25
           ]
          },
          {
           "axis": {
            "matches": true
           },
           "label": "targets_per_game",
           "values": [
            8.625,
            8.533333333333333,
            9.75,
            9.411764705882353,
            8.058823529411764,
            10.294117647058824,
            8,
            9.294117647058824,
            9.411764705882353,
            9.0625
           ]
          },
          {
           "axis": {
            "matches": true
           },
           "label": "receiving_yards_per_game",
           "values": [
            70.1875,
            83.33333333333333,
            72,
            69.58823529411765,
            59.64705882352941,
            67.29411764705883,
            80.23529411764706,
            85.6470588235294,
            87.41176470588235,
            76
           ]
          },
          {
           "axis": {
            "matches": true
           },
           "label": "receiving_tds_per_game",
           "values": [
            0.3125,
            0.3333333333333333,
            0.25,
            0.47058823529411764,
            0.23529411764705882,
            0.47058823529411764,
            0.47058823529411764,
            0.4117647058823529,
            0.35294117647058826,
            0.4375
           ]
          }
         ],
         "hovertemplate": "<b>%{hovertext}</b><br><br>Cluster=2<br>%{xaxis.title.text}=%{x}<br>%{yaxis.title.text}=%{y}<extra></extra>",
         "hovertext": [
          "Amon-Ra St. Brown",
          "Justin Jefferson",
          "Puka Nacua",
          "Nico Collins",
          "A.J. Brown",
          "Mike Evans",
          "Tank Dell",
          "Ja'Marr Chase",
          "Deebo Samuel",
          "D.J. Moore"
         ],
         "legendgroup": "2",
         "marker": {
          "color": "#00cc96",
          "size": 4,
          "symbol": "circle"
         },
         "name": "2",
         "showlegend": true,
         "showupperhalf": false,
         "type": "splom"
        },
        {
         "diagonal": {
          "visible": false
         },
         "dimensions": [
          {
           "axis": {
            "matches": true
           },
           "label": "fantasy_points_ppr_per_game",
           "values": [
            16.61764705882353,
            17.36,
            16.5
           ]
          },
          {
           "axis": {
            "matches": true
           },
           "label": "receptions_per_game",
           "values": [
            4.647058823529412,
            5.333333333333333,
            4.7
           ]
          },
          {
           "axis": {
            "matches": true
           },
           "label": "targets_per_game",
           "values": [
            8,
            7.266666666666667,
            7.5
           ]
          },
          {
           "axis": {
            "matches": true
           },
           "label": "receiving_yards_per_game",
           "values": [
            73.82352941176471,
            86.46666666666667,
            70.9
           ]
          },
          {
           "axis": {
            "matches": true
           },
           "label": "receiving_tds_per_game",
           "values": [
            0.7647058823529411,
            0.5333333333333333,
            0.7
           ]
          }
         ],
         "hovertemplate": "<b>%{hovertext}</b><br><br>Cluster=3<br>%{xaxis.title.text}=%{x}<br>%{yaxis.title.text}=%{y}<extra></extra>",
         "hovertext": [
          "Tyreek Hill",
          "Keenan Allen",
          "CeeDee Lamb"
         ],
         "legendgroup": "3",
         "marker": {
          "color": "#ab63fa",
          "size": 4,
          "symbol": "circle"
         },
         "name": "3",
         "showlegend": true,
         "showupperhalf": false,
         "type": "splom"
        }
       ],
       "layout": {
        "dragmode": "select",
        "font": {
         "color": "black",
         "family": "Courier New, monospace",
         "size": 12
        },
        "height": 1000,
        "legend": {
         "font": {
          "size": 14
         },
         "title": {
          "text": "Cluster"
         },
         "tracegroupgap": 0
        },
        "margin": {
         "t": 60
        },
        "paper_bgcolor": "rgba(0,0,0,0)",
        "plot_bgcolor": "rgba(245, 245, 245, 1)",
        "showlegend": true,
        "template": {
         "data": {
          "bar": [
           {
            "error_x": {
             "color": "#2a3f5f"
            },
            "error_y": {
             "color": "#2a3f5f"
            },
            "marker": {
             "line": {
              "color": "#E5ECF6",
              "width": 0.5
             },
             "pattern": {
              "fillmode": "overlay",
              "size": 10,
              "solidity": 0.2
             }
            },
            "type": "bar"
           }
          ],
          "barpolar": [
           {
            "marker": {
             "line": {
              "color": "#E5ECF6",
              "width": 0.5
             },
             "pattern": {
              "fillmode": "overlay",
              "size": 10,
              "solidity": 0.2
             }
            },
            "type": "barpolar"
           }
          ],
          "carpet": [
           {
            "aaxis": {
             "endlinecolor": "#2a3f5f",
             "gridcolor": "white",
             "linecolor": "white",
             "minorgridcolor": "white",
             "startlinecolor": "#2a3f5f"
            },
            "baxis": {
             "endlinecolor": "#2a3f5f",
             "gridcolor": "white",
             "linecolor": "white",
             "minorgridcolor": "white",
             "startlinecolor": "#2a3f5f"
            },
            "type": "carpet"
           }
          ],
          "choropleth": [
           {
            "colorbar": {
             "outlinewidth": 0,
             "ticks": ""
            },
            "type": "choropleth"
           }
          ],
          "contour": [
           {
            "colorbar": {
             "outlinewidth": 0,
             "ticks": ""
            },
            "colorscale": [
             [
              0,
              "#0d0887"
             ],
             [
              0.1111111111111111,
              "#46039f"
             ],
             [
              0.2222222222222222,
              "#7201a8"
             ],
             [
              0.3333333333333333,
              "#9c179e"
             ],
             [
              0.4444444444444444,
              "#bd3786"
             ],
             [
              0.5555555555555556,
              "#d8576b"
             ],
             [
              0.6666666666666666,
              "#ed7953"
             ],
             [
              0.7777777777777778,
              "#fb9f3a"
             ],
             [
              0.8888888888888888,
              "#fdca26"
             ],
             [
              1,
              "#f0f921"
             ]
            ],
            "type": "contour"
           }
          ],
          "contourcarpet": [
           {
            "colorbar": {
             "outlinewidth": 0,
             "ticks": ""
            },
            "type": "contourcarpet"
           }
          ],
          "heatmap": [
           {
            "colorbar": {
             "outlinewidth": 0,
             "ticks": ""
            },
            "colorscale": [
             [
              0,
              "#0d0887"
             ],
             [
              0.1111111111111111,
              "#46039f"
             ],
             [
              0.2222222222222222,
              "#7201a8"
             ],
             [
              0.3333333333333333,
              "#9c179e"
             ],
             [
              0.4444444444444444,
              "#bd3786"
             ],
             [
              0.5555555555555556,
              "#d8576b"
             ],
             [
              0.6666666666666666,
              "#ed7953"
             ],
             [
              0.7777777777777778,
              "#fb9f3a"
             ],
             [
              0.8888888888888888,
              "#fdca26"
             ],
             [
              1,
              "#f0f921"
             ]
            ],
            "type": "heatmap"
           }
          ],
          "heatmapgl": [
           {
            "colorbar": {
             "outlinewidth": 0,
             "ticks": ""
            },
            "colorscale": [
             [
              0,
              "#0d0887"
             ],
             [
              0.1111111111111111,
              "#46039f"
             ],
             [
              0.2222222222222222,
              "#7201a8"
             ],
             [
              0.3333333333333333,
              "#9c179e"
             ],
             [
              0.4444444444444444,
              "#bd3786"
             ],
             [
              0.5555555555555556,
              "#d8576b"
             ],
             [
              0.6666666666666666,
              "#ed7953"
             ],
             [
              0.7777777777777778,
              "#fb9f3a"
             ],
             [
              0.8888888888888888,
              "#fdca26"
             ],
             [
              1,
              "#f0f921"
             ]
            ],
            "type": "heatmapgl"
           }
          ],
          "histogram": [
           {
            "marker": {
             "pattern": {
              "fillmode": "overlay",
              "size": 10,
              "solidity": 0.2
             }
            },
            "type": "histogram"
           }
          ],
          "histogram2d": [
           {
            "colorbar": {
             "outlinewidth": 0,
             "ticks": ""
            },
            "colorscale": [
             [
              0,
              "#0d0887"
             ],
             [
              0.1111111111111111,
              "#46039f"
             ],
             [
              0.2222222222222222,
              "#7201a8"
             ],
             [
              0.3333333333333333,
              "#9c179e"
             ],
             [
              0.4444444444444444,
              "#bd3786"
             ],
             [
              0.5555555555555556,
              "#d8576b"
             ],
             [
              0.6666666666666666,
              "#ed7953"
             ],
             [
              0.7777777777777778,
              "#fb9f3a"
             ],
             [
              0.8888888888888888,
              "#fdca26"
             ],
             [
              1,
              "#f0f921"
             ]
            ],
            "type": "histogram2d"
           }
          ],
          "histogram2dcontour": [
           {
            "colorbar": {
             "outlinewidth": 0,
             "ticks": ""
            },
            "colorscale": [
             [
              0,
              "#0d0887"
             ],
             [
              0.1111111111111111,
              "#46039f"
             ],
             [
              0.2222222222222222,
              "#7201a8"
             ],
             [
              0.3333333333333333,
              "#9c179e"
             ],
             [
              0.4444444444444444,
              "#bd3786"
             ],
             [
              0.5555555555555556,
              "#d8576b"
             ],
             [
              0.6666666666666666,
              "#ed7953"
             ],
             [
              0.7777777777777778,
              "#fb9f3a"
             ],
             [
              0.8888888888888888,
              "#fdca26"
             ],
             [
              1,
              "#f0f921"
             ]
            ],
            "type": "histogram2dcontour"
           }
          ],
          "mesh3d": [
           {
            "colorbar": {
             "outlinewidth": 0,
             "ticks": ""
            },
            "type": "mesh3d"
           }
          ],
          "parcoords": [
           {
            "line": {
             "colorbar": {
              "outlinewidth": 0,
              "ticks": ""
             }
            },
            "type": "parcoords"
           }
          ],
          "pie": [
           {
            "automargin": true,
            "type": "pie"
           }
          ],
          "scatter": [
           {
            "fillpattern": {
             "fillmode": "overlay",
             "size": 10,
             "solidity": 0.2
            },
            "type": "scatter"
           }
          ],
          "scatter3d": [
           {
            "line": {
             "colorbar": {
              "outlinewidth": 0,
              "ticks": ""
             }
            },
            "marker": {
             "colorbar": {
              "outlinewidth": 0,
              "ticks": ""
             }
            },
            "type": "scatter3d"
           }
          ],
          "scattercarpet": [
           {
            "marker": {
             "colorbar": {
              "outlinewidth": 0,
              "ticks": ""
             }
            },
            "type": "scattercarpet"
           }
          ],
          "scattergeo": [
           {
            "marker": {
             "colorbar": {
              "outlinewidth": 0,
              "ticks": ""
             }
            },
            "type": "scattergeo"
           }
          ],
          "scattergl": [
           {
            "marker": {
             "colorbar": {
              "outlinewidth": 0,
              "ticks": ""
             }
            },
            "type": "scattergl"
           }
          ],
          "scattermapbox": [
           {
            "marker": {
             "colorbar": {
              "outlinewidth": 0,
              "ticks": ""
             }
            },
            "type": "scattermapbox"
           }
          ],
          "scatterpolar": [
           {
            "marker": {
             "colorbar": {
              "outlinewidth": 0,
              "ticks": ""
             }
            },
            "type": "scatterpolar"
           }
          ],
          "scatterpolargl": [
           {
            "marker": {
             "colorbar": {
              "outlinewidth": 0,
              "ticks": ""
             }
            },
            "type": "scatterpolargl"
           }
          ],
          "scatterternary": [
           {
            "marker": {
             "colorbar": {
              "outlinewidth": 0,
              "ticks": ""
             }
            },
            "type": "scatterternary"
           }
          ],
          "surface": [
           {
            "colorbar": {
             "outlinewidth": 0,
             "ticks": ""
            },
            "colorscale": [
             [
              0,
              "#0d0887"
             ],
             [
              0.1111111111111111,
              "#46039f"
             ],
             [
              0.2222222222222222,
              "#7201a8"
             ],
             [
              0.3333333333333333,
              "#9c179e"
             ],
             [
              0.4444444444444444,
              "#bd3786"
             ],
             [
              0.5555555555555556,
              "#d8576b"
             ],
             [
              0.6666666666666666,
              "#ed7953"
             ],
             [
              0.7777777777777778,
              "#fb9f3a"
             ],
             [
              0.8888888888888888,
              "#fdca26"
             ],
             [
              1,
              "#f0f921"
             ]
            ],
            "type": "surface"
           }
          ],
          "table": [
           {
            "cells": {
             "fill": {
              "color": "#EBF0F8"
             },
             "line": {
              "color": "white"
             }
            },
            "header": {
             "fill": {
              "color": "#C8D4E3"
             },
             "line": {
              "color": "white"
             }
            },
            "type": "table"
           }
          ]
         },
         "layout": {
          "annotationdefaults": {
           "arrowcolor": "#2a3f5f",
           "arrowhead": 0,
           "arrowwidth": 1
          },
          "autotypenumbers": "strict",
          "coloraxis": {
           "colorbar": {
            "outlinewidth": 0,
            "ticks": ""
           }
          },
          "colorscale": {
           "diverging": [
            [
             0,
             "#8e0152"
            ],
            [
             0.1,
             "#c51b7d"
            ],
            [
             0.2,
             "#de77ae"
            ],
            [
             0.3,
             "#f1b6da"
            ],
            [
             0.4,
             "#fde0ef"
            ],
            [
             0.5,
             "#f7f7f7"
            ],
            [
             0.6,
             "#e6f5d0"
            ],
            [
             0.7,
             "#b8e186"
            ],
            [
             0.8,
             "#7fbc41"
            ],
            [
             0.9,
             "#4d9221"
            ],
            [
             1,
             "#276419"
            ]
           ],
           "sequential": [
            [
             0,
             "#0d0887"
            ],
            [
             0.1111111111111111,
             "#46039f"
            ],
            [
             0.2222222222222222,
             "#7201a8"
            ],
            [
             0.3333333333333333,
             "#9c179e"
            ],
            [
             0.4444444444444444,
             "#bd3786"
            ],
            [
             0.5555555555555556,
             "#d8576b"
            ],
            [
             0.6666666666666666,
             "#ed7953"
            ],
            [
             0.7777777777777778,
             "#fb9f3a"
            ],
            [
             0.8888888888888888,
             "#fdca26"
            ],
            [
             1,
             "#f0f921"
            ]
           ],
           "sequentialminus": [
            [
             0,
             "#0d0887"
            ],
            [
             0.1111111111111111,
             "#46039f"
            ],
            [
             0.2222222222222222,
             "#7201a8"
            ],
            [
             0.3333333333333333,
             "#9c179e"
            ],
            [
             0.4444444444444444,
             "#bd3786"
            ],
            [
             0.5555555555555556,
             "#d8576b"
            ],
            [
             0.6666666666666666,
             "#ed7953"
            ],
            [
             0.7777777777777778,
             "#fb9f3a"
            ],
            [
             0.8888888888888888,
             "#fdca26"
            ],
            [
             1,
             "#f0f921"
            ]
           ]
          },
          "colorway": [
           "#636efa",
           "#EF553B",
           "#00cc96",
           "#ab63fa",
           "#FFA15A",
           "#19d3f3",
           "#FF6692",
           "#B6E880",
           "#FF97FF",
           "#FECB52"
          ],
          "font": {
           "color": "#2a3f5f"
          },
          "geo": {
           "bgcolor": "white",
           "lakecolor": "white",
           "landcolor": "#E5ECF6",
           "showlakes": true,
           "showland": true,
           "subunitcolor": "white"
          },
          "hoverlabel": {
           "align": "left"
          },
          "hovermode": "closest",
          "mapbox": {
           "style": "light"
          },
          "paper_bgcolor": "white",
          "plot_bgcolor": "#E5ECF6",
          "polar": {
           "angularaxis": {
            "gridcolor": "white",
            "linecolor": "white",
            "ticks": ""
           },
           "bgcolor": "#E5ECF6",
           "radialaxis": {
            "gridcolor": "white",
            "linecolor": "white",
            "ticks": ""
           }
          },
          "scene": {
           "xaxis": {
            "backgroundcolor": "#E5ECF6",
            "gridcolor": "white",
            "gridwidth": 2,
            "linecolor": "white",
            "showbackground": true,
            "ticks": "",
            "zerolinecolor": "white"
           },
           "yaxis": {
            "backgroundcolor": "#E5ECF6",
            "gridcolor": "white",
            "gridwidth": 2,
            "linecolor": "white",
            "showbackground": true,
            "ticks": "",
            "zerolinecolor": "white"
           },
           "zaxis": {
            "backgroundcolor": "#E5ECF6",
            "gridcolor": "white",
            "gridwidth": 2,
            "linecolor": "white",
            "showbackground": true,
            "ticks": "",
            "zerolinecolor": "white"
           }
          },
          "shapedefaults": {
           "line": {
            "color": "#2a3f5f"
           }
          },
          "ternary": {
           "aaxis": {
            "gridcolor": "white",
            "linecolor": "white",
            "ticks": ""
           },
           "baxis": {
            "gridcolor": "white",
            "linecolor": "white",
            "ticks": ""
           },
           "bgcolor": "#E5ECF6",
           "caxis": {
            "gridcolor": "white",
            "linecolor": "white",
            "ticks": ""
           }
          },
          "title": {
           "x": 0.05
          },
          "xaxis": {
           "automargin": true,
           "gridcolor": "white",
           "linecolor": "white",
           "ticks": "",
           "title": {
            "standoff": 15
           },
           "zerolinecolor": "white",
           "zerolinewidth": 2
          },
          "yaxis": {
           "automargin": true,
           "gridcolor": "white",
           "linecolor": "white",
           "ticks": "",
           "title": {
            "standoff": 15
           },
           "zerolinecolor": "white",
           "zerolinewidth": 2
          }
         }
        },
        "width": 1000,
        "xaxis": {
         "gridcolor": "rgba(200, 200, 200, 0.5)",
         "gridwidth": 0.5,
         "showgrid": true
        },
        "yaxis": {
         "gridcolor": "rgba(200, 200, 200, 0.5)",
         "gridwidth": 0.5,
         "showgrid": true
        }
       }
      },
      "text/html": [
       "<div>                            <div id=\"126d9323-26e4-4e5a-9e9a-5cb777c6a76a\" class=\"plotly-graph-div\" style=\"height:1000px; width:1000px;\"></div>            <script type=\"text/javascript\">                require([\"plotly\"], function(Plotly) {                    window.PLOTLYENV=window.PLOTLYENV || {};                                    if (document.getElementById(\"126d9323-26e4-4e5a-9e9a-5cb777c6a76a\")) {                    Plotly.newPlot(                        \"126d9323-26e4-4e5a-9e9a-5cb777c6a76a\",                        [{\"dimensions\":[{\"axis\":{\"matches\":true},\"label\":\"fantasy_points_ppr_per_game\",\"values\":[23.835294117647063,21.450769230769232,20.681250000000002,20.419999999999998,23.525]},{\"axis\":{\"matches\":true},\"label\":\"receptions_per_game\",\"values\":[7.9411764705882355,8.307692307692308,7.4375,6.8,7.4375]},{\"axis\":{\"matches\":true},\"label\":\"targets_per_game\",\"values\":[10.647058823529411,11.538461538461538,10.25,10.0,10.6875]},{\"axis\":{\"matches\":true},\"label\":\"receiving_yards_per_game\",\"values\":[102.88235294117646,95.61538461538461,94.6875,107.4,112.4375]},{\"axis\":{\"matches\":true},\"label\":\"receiving_tds_per_game\",\"values\":[0.7058823529411765,0.5384615384615384,0.625,0.5,0.8125]}],\"hovertemplate\":\"\\u003cb\\u003e%{hovertext}\\u003c\\u002fb\\u003e\\u003cbr\\u003e\\u003cbr\\u003eCluster=0\\u003cbr\\u003e%{xaxis.title.text}=%{x}\\u003cbr\\u003e%{yaxis.title.text}=%{y}\\u003cextra\\u003e\\u003c\\u002fextra\\u003e\",\"hovertext\":[\"DeAndre Hopkins\",\"Rashee Rice\",\"Calvin Ridley\",\"Jayden Reed\",\"Adam Thielen\"],\"legendgroup\":\"0\",\"marker\":{\"color\":\"#636efa\",\"symbol\":\"circle\",\"size\":4},\"name\":\"0\",\"showlegend\":true,\"type\":\"splom\",\"diagonal\":{\"visible\":false},\"showupperhalf\":false},{\"dimensions\":[{\"axis\":{\"matches\":true},\"label\":\"fantasy_points_ppr_per_game\",\"values\":[14.0875,13.575000000000001,13.700000000000001,13.523529411764706,13.28125,13.66125,13.152941176470588,14.185714285714287,14.225,15.575,16.246666666666666,14.0875]},{\"axis\":{\"matches\":true},\"label\":\"receptions_per_game\",\"values\":[4.125,4.0,4.916666666666667,4.470588235294118,4.9375,4.4375,4.411764705882353,5.142857142857143,5.0625,4.6875,4.0,4.125]},{\"axis\":{\"matches\":true},\"label\":\"targets_per_game\",\"values\":[7.4375,5.875,7.916666666666667,8.0,6.375,6.625,8.058823529411764,7.428571428571429,7.0,6.5625,5.933333333333334,7.4375]},{\"axis\":{\"matches\":true},\"label\":\"receiving_yards_per_game\",\"values\":[69.625,49.5625,61.416666666666664,59.76470588235294,58.625,50.4375,62.1764705882353,72.42857142857143,66.625,83.875,59.46666666666667,69.625]},{\"axis\":{\"matches\":true},\"label\":\"receiving_tds_per_game\",\"values\":[0.5,0.5,0.4166666666666667,0.47058823529411764,0.4375,0.5,0.4117647058823529,0.2857142857142857,0.4375,0.4375,0.4666666666666667,0.5]}],\"hovertemplate\":\"\\u003cb\\u003e%{hovertext}\\u003c\\u002fb\\u003e\\u003cbr\\u003e\\u003cbr\\u003eCluster=1\\u003cbr\\u003e%{xaxis.title.text}=%{x}\\u003cbr\\u003e%{yaxis.title.text}=%{y}\\u003cextra\\u003e\\u003c\\u002fextra\\u003e\",\"hovertext\":[\"Stefon Diggs\",\"Michael Pittman\",\"Brandon Aiyuk\",\"Amari Cooper\",\"Chris Olave\",\"Davante Adams\",\"Jaylen Waddle\",\"D.K. Metcalf\",\"DK Metcalf\",\"Cooper Kupp\",\"Jakobi Meyers\",\"DeVonta Smith\"],\"legendgroup\":\"1\",\"marker\":{\"color\":\"#EF553B\",\"symbol\":\"circle\",\"size\":4},\"name\":\"1\",\"showlegend\":true,\"type\":\"splom\",\"diagonal\":{\"visible\":false},\"showupperhalf\":false},{\"dimensions\":[{\"axis\":{\"matches\":true},\"label\":\"fantasy_points_ppr_per_game\",\"values\":[14.45625,15.133333333333333,15.762500000000001,16.105882352941176,13.588235294117647,15.611764705882354,16.852941176470587,17.03529411764706,17.558823529411764,16.42]},{\"axis\":{\"matches\":true},\"label\":\"receptions_per_game\",\"values\":[5.4375,4.8,6.8125,6.294117647058823,6.0588235294117645,6.0588235294117645,5.647058823529412,6.235294117647059,6.176470588235294,6.25]},{\"axis\":{\"matches\":true},\"label\":\"targets_per_game\",\"values\":[8.625,8.533333333333333,9.75,9.411764705882353,8.058823529411764,10.294117647058824,8.0,9.294117647058824,9.411764705882353,9.0625]},{\"axis\":{\"matches\":true},\"label\":\"receiving_yards_per_game\",\"values\":[70.1875,83.33333333333333,72.0,69.58823529411765,59.64705882352941,67.29411764705883,80.23529411764706,85.6470588235294,87.41176470588235,76.0]},{\"axis\":{\"matches\":true},\"label\":\"receiving_tds_per_game\",\"values\":[0.3125,0.3333333333333333,0.25,0.47058823529411764,0.23529411764705882,0.47058823529411764,0.47058823529411764,0.4117647058823529,0.35294117647058826,0.4375]}],\"hovertemplate\":\"\\u003cb\\u003e%{hovertext}\\u003c\\u002fb\\u003e\\u003cbr\\u003e\\u003cbr\\u003eCluster=2\\u003cbr\\u003e%{xaxis.title.text}=%{x}\\u003cbr\\u003e%{yaxis.title.text}=%{y}\\u003cextra\\u003e\\u003c\\u002fextra\\u003e\",\"hovertext\":[\"Amon-Ra St. Brown\",\"Justin Jefferson\",\"Puka Nacua\",\"Nico Collins\",\"A.J. Brown\",\"Mike Evans\",\"Tank Dell\",\"Ja'Marr Chase\",\"Deebo Samuel\",\"D.J. Moore\"],\"legendgroup\":\"2\",\"marker\":{\"color\":\"#00cc96\",\"symbol\":\"circle\",\"size\":4},\"name\":\"2\",\"showlegend\":true,\"type\":\"splom\",\"diagonal\":{\"visible\":false},\"showupperhalf\":false},{\"dimensions\":[{\"axis\":{\"matches\":true},\"label\":\"fantasy_points_ppr_per_game\",\"values\":[16.61764705882353,17.36,16.5]},{\"axis\":{\"matches\":true},\"label\":\"receptions_per_game\",\"values\":[4.647058823529412,5.333333333333333,4.7]},{\"axis\":{\"matches\":true},\"label\":\"targets_per_game\",\"values\":[8.0,7.266666666666667,7.5]},{\"axis\":{\"matches\":true},\"label\":\"receiving_yards_per_game\",\"values\":[73.82352941176471,86.46666666666667,70.9]},{\"axis\":{\"matches\":true},\"label\":\"receiving_tds_per_game\",\"values\":[0.7647058823529411,0.5333333333333333,0.7]}],\"hovertemplate\":\"\\u003cb\\u003e%{hovertext}\\u003c\\u002fb\\u003e\\u003cbr\\u003e\\u003cbr\\u003eCluster=3\\u003cbr\\u003e%{xaxis.title.text}=%{x}\\u003cbr\\u003e%{yaxis.title.text}=%{y}\\u003cextra\\u003e\\u003c\\u002fextra\\u003e\",\"hovertext\":[\"Tyreek Hill\",\"Keenan Allen\",\"CeeDee Lamb\"],\"legendgroup\":\"3\",\"marker\":{\"color\":\"#ab63fa\",\"symbol\":\"circle\",\"size\":4},\"name\":\"3\",\"showlegend\":true,\"type\":\"splom\",\"diagonal\":{\"visible\":false},\"showupperhalf\":false}],                        {\"template\":{\"data\":{\"histogram2dcontour\":[{\"type\":\"histogram2dcontour\",\"colorbar\":{\"outlinewidth\":0,\"ticks\":\"\"},\"colorscale\":[[0.0,\"#0d0887\"],[0.1111111111111111,\"#46039f\"],[0.2222222222222222,\"#7201a8\"],[0.3333333333333333,\"#9c179e\"],[0.4444444444444444,\"#bd3786\"],[0.5555555555555556,\"#d8576b\"],[0.6666666666666666,\"#ed7953\"],[0.7777777777777778,\"#fb9f3a\"],[0.8888888888888888,\"#fdca26\"],[1.0,\"#f0f921\"]]}],\"choropleth\":[{\"type\":\"choropleth\",\"colorbar\":{\"outlinewidth\":0,\"ticks\":\"\"}}],\"histogram2d\":[{\"type\":\"histogram2d\",\"colorbar\":{\"outlinewidth\":0,\"ticks\":\"\"},\"colorscale\":[[0.0,\"#0d0887\"],[0.1111111111111111,\"#46039f\"],[0.2222222222222222,\"#7201a8\"],[0.3333333333333333,\"#9c179e\"],[0.4444444444444444,\"#bd3786\"],[0.5555555555555556,\"#d8576b\"],[0.6666666666666666,\"#ed7953\"],[0.7777777777777778,\"#fb9f3a\"],[0.8888888888888888,\"#fdca26\"],[1.0,\"#f0f921\"]]}],\"heatmap\":[{\"type\":\"heatmap\",\"colorbar\":{\"outlinewidth\":0,\"ticks\":\"\"},\"colorscale\":[[0.0,\"#0d0887\"],[0.1111111111111111,\"#46039f\"],[0.2222222222222222,\"#7201a8\"],[0.3333333333333333,\"#9c179e\"],[0.4444444444444444,\"#bd3786\"],[0.5555555555555556,\"#d8576b\"],[0.6666666666666666,\"#ed7953\"],[0.7777777777777778,\"#fb9f3a\"],[0.8888888888888888,\"#fdca26\"],[1.0,\"#f0f921\"]]}],\"heatmapgl\":[{\"type\":\"heatmapgl\",\"colorbar\":{\"outlinewidth\":0,\"ticks\":\"\"},\"colorscale\":[[0.0,\"#0d0887\"],[0.1111111111111111,\"#46039f\"],[0.2222222222222222,\"#7201a8\"],[0.3333333333333333,\"#9c179e\"],[0.4444444444444444,\"#bd3786\"],[0.5555555555555556,\"#d8576b\"],[0.6666666666666666,\"#ed7953\"],[0.7777777777777778,\"#fb9f3a\"],[0.8888888888888888,\"#fdca26\"],[1.0,\"#f0f921\"]]}],\"contourcarpet\":[{\"type\":\"contourcarpet\",\"colorbar\":{\"outlinewidth\":0,\"ticks\":\"\"}}],\"contour\":[{\"type\":\"contour\",\"colorbar\":{\"outlinewidth\":0,\"ticks\":\"\"},\"colorscale\":[[0.0,\"#0d0887\"],[0.1111111111111111,\"#46039f\"],[0.2222222222222222,\"#7201a8\"],[0.3333333333333333,\"#9c179e\"],[0.4444444444444444,\"#bd3786\"],[0.5555555555555556,\"#d8576b\"],[0.6666666666666666,\"#ed7953\"],[0.7777777777777778,\"#fb9f3a\"],[0.8888888888888888,\"#fdca26\"],[1.0,\"#f0f921\"]]}],\"surface\":[{\"type\":\"surface\",\"colorbar\":{\"outlinewidth\":0,\"ticks\":\"\"},\"colorscale\":[[0.0,\"#0d0887\"],[0.1111111111111111,\"#46039f\"],[0.2222222222222222,\"#7201a8\"],[0.3333333333333333,\"#9c179e\"],[0.4444444444444444,\"#bd3786\"],[0.5555555555555556,\"#d8576b\"],[0.6666666666666666,\"#ed7953\"],[0.7777777777777778,\"#fb9f3a\"],[0.8888888888888888,\"#fdca26\"],[1.0,\"#f0f921\"]]}],\"mesh3d\":[{\"type\":\"mesh3d\",\"colorbar\":{\"outlinewidth\":0,\"ticks\":\"\"}}],\"scatter\":[{\"fillpattern\":{\"fillmode\":\"overlay\",\"size\":10,\"solidity\":0.2},\"type\":\"scatter\"}],\"parcoords\":[{\"type\":\"parcoords\",\"line\":{\"colorbar\":{\"outlinewidth\":0,\"ticks\":\"\"}}}],\"scatterpolargl\":[{\"type\":\"scatterpolargl\",\"marker\":{\"colorbar\":{\"outlinewidth\":0,\"ticks\":\"\"}}}],\"bar\":[{\"error_x\":{\"color\":\"#2a3f5f\"},\"error_y\":{\"color\":\"#2a3f5f\"},\"marker\":{\"line\":{\"color\":\"#E5ECF6\",\"width\":0.5},\"pattern\":{\"fillmode\":\"overlay\",\"size\":10,\"solidity\":0.2}},\"type\":\"bar\"}],\"scattergeo\":[{\"type\":\"scattergeo\",\"marker\":{\"colorbar\":{\"outlinewidth\":0,\"ticks\":\"\"}}}],\"scatterpolar\":[{\"type\":\"scatterpolar\",\"marker\":{\"colorbar\":{\"outlinewidth\":0,\"ticks\":\"\"}}}],\"histogram\":[{\"marker\":{\"pattern\":{\"fillmode\":\"overlay\",\"size\":10,\"solidity\":0.2}},\"type\":\"histogram\"}],\"scattergl\":[{\"type\":\"scattergl\",\"marker\":{\"colorbar\":{\"outlinewidth\":0,\"ticks\":\"\"}}}],\"scatter3d\":[{\"type\":\"scatter3d\",\"line\":{\"colorbar\":{\"outlinewidth\":0,\"ticks\":\"\"}},\"marker\":{\"colorbar\":{\"outlinewidth\":0,\"ticks\":\"\"}}}],\"scattermapbox\":[{\"type\":\"scattermapbox\",\"marker\":{\"colorbar\":{\"outlinewidth\":0,\"ticks\":\"\"}}}],\"scatterternary\":[{\"type\":\"scatterternary\",\"marker\":{\"colorbar\":{\"outlinewidth\":0,\"ticks\":\"\"}}}],\"scattercarpet\":[{\"type\":\"scattercarpet\",\"marker\":{\"colorbar\":{\"outlinewidth\":0,\"ticks\":\"\"}}}],\"carpet\":[{\"aaxis\":{\"endlinecolor\":\"#2a3f5f\",\"gridcolor\":\"white\",\"linecolor\":\"white\",\"minorgridcolor\":\"white\",\"startlinecolor\":\"#2a3f5f\"},\"baxis\":{\"endlinecolor\":\"#2a3f5f\",\"gridcolor\":\"white\",\"linecolor\":\"white\",\"minorgridcolor\":\"white\",\"startlinecolor\":\"#2a3f5f\"},\"type\":\"carpet\"}],\"table\":[{\"cells\":{\"fill\":{\"color\":\"#EBF0F8\"},\"line\":{\"color\":\"white\"}},\"header\":{\"fill\":{\"color\":\"#C8D4E3\"},\"line\":{\"color\":\"white\"}},\"type\":\"table\"}],\"barpolar\":[{\"marker\":{\"line\":{\"color\":\"#E5ECF6\",\"width\":0.5},\"pattern\":{\"fillmode\":\"overlay\",\"size\":10,\"solidity\":0.2}},\"type\":\"barpolar\"}],\"pie\":[{\"automargin\":true,\"type\":\"pie\"}]},\"layout\":{\"autotypenumbers\":\"strict\",\"colorway\":[\"#636efa\",\"#EF553B\",\"#00cc96\",\"#ab63fa\",\"#FFA15A\",\"#19d3f3\",\"#FF6692\",\"#B6E880\",\"#FF97FF\",\"#FECB52\"],\"font\":{\"color\":\"#2a3f5f\"},\"hovermode\":\"closest\",\"hoverlabel\":{\"align\":\"left\"},\"paper_bgcolor\":\"white\",\"plot_bgcolor\":\"#E5ECF6\",\"polar\":{\"bgcolor\":\"#E5ECF6\",\"angularaxis\":{\"gridcolor\":\"white\",\"linecolor\":\"white\",\"ticks\":\"\"},\"radialaxis\":{\"gridcolor\":\"white\",\"linecolor\":\"white\",\"ticks\":\"\"}},\"ternary\":{\"bgcolor\":\"#E5ECF6\",\"aaxis\":{\"gridcolor\":\"white\",\"linecolor\":\"white\",\"ticks\":\"\"},\"baxis\":{\"gridcolor\":\"white\",\"linecolor\":\"white\",\"ticks\":\"\"},\"caxis\":{\"gridcolor\":\"white\",\"linecolor\":\"white\",\"ticks\":\"\"}},\"coloraxis\":{\"colorbar\":{\"outlinewidth\":0,\"ticks\":\"\"}},\"colorscale\":{\"sequential\":[[0.0,\"#0d0887\"],[0.1111111111111111,\"#46039f\"],[0.2222222222222222,\"#7201a8\"],[0.3333333333333333,\"#9c179e\"],[0.4444444444444444,\"#bd3786\"],[0.5555555555555556,\"#d8576b\"],[0.6666666666666666,\"#ed7953\"],[0.7777777777777778,\"#fb9f3a\"],[0.8888888888888888,\"#fdca26\"],[1.0,\"#f0f921\"]],\"sequentialminus\":[[0.0,\"#0d0887\"],[0.1111111111111111,\"#46039f\"],[0.2222222222222222,\"#7201a8\"],[0.3333333333333333,\"#9c179e\"],[0.4444444444444444,\"#bd3786\"],[0.5555555555555556,\"#d8576b\"],[0.6666666666666666,\"#ed7953\"],[0.7777777777777778,\"#fb9f3a\"],[0.8888888888888888,\"#fdca26\"],[1.0,\"#f0f921\"]],\"diverging\":[[0,\"#8e0152\"],[0.1,\"#c51b7d\"],[0.2,\"#de77ae\"],[0.3,\"#f1b6da\"],[0.4,\"#fde0ef\"],[0.5,\"#f7f7f7\"],[0.6,\"#e6f5d0\"],[0.7,\"#b8e186\"],[0.8,\"#7fbc41\"],[0.9,\"#4d9221\"],[1,\"#276419\"]]},\"xaxis\":{\"gridcolor\":\"white\",\"linecolor\":\"white\",\"ticks\":\"\",\"title\":{\"standoff\":15},\"zerolinecolor\":\"white\",\"automargin\":true,\"zerolinewidth\":2},\"yaxis\":{\"gridcolor\":\"white\",\"linecolor\":\"white\",\"ticks\":\"\",\"title\":{\"standoff\":15},\"zerolinecolor\":\"white\",\"automargin\":true,\"zerolinewidth\":2},\"scene\":{\"xaxis\":{\"backgroundcolor\":\"#E5ECF6\",\"gridcolor\":\"white\",\"linecolor\":\"white\",\"showbackground\":true,\"ticks\":\"\",\"zerolinecolor\":\"white\",\"gridwidth\":2},\"yaxis\":{\"backgroundcolor\":\"#E5ECF6\",\"gridcolor\":\"white\",\"linecolor\":\"white\",\"showbackground\":true,\"ticks\":\"\",\"zerolinecolor\":\"white\",\"gridwidth\":2},\"zaxis\":{\"backgroundcolor\":\"#E5ECF6\",\"gridcolor\":\"white\",\"linecolor\":\"white\",\"showbackground\":true,\"ticks\":\"\",\"zerolinecolor\":\"white\",\"gridwidth\":2}},\"shapedefaults\":{\"line\":{\"color\":\"#2a3f5f\"}},\"annotationdefaults\":{\"arrowcolor\":\"#2a3f5f\",\"arrowhead\":0,\"arrowwidth\":1},\"geo\":{\"bgcolor\":\"white\",\"landcolor\":\"#E5ECF6\",\"subunitcolor\":\"white\",\"showland\":true,\"showlakes\":true,\"lakecolor\":\"white\"},\"title\":{\"x\":0.05},\"mapbox\":{\"style\":\"light\"}}},\"legend\":{\"title\":{\"text\":\"Cluster\"},\"tracegroupgap\":0,\"font\":{\"size\":14}},\"margin\":{\"t\":60},\"dragmode\":\"select\",\"font\":{\"family\":\"Courier New, monospace\",\"size\":12,\"color\":\"black\"},\"paper_bgcolor\":\"rgba(0,0,0,0)\",\"plot_bgcolor\":\"rgba(245, 245, 245, 1)\",\"showlegend\":true,\"xaxis\":{\"showgrid\":true,\"gridwidth\":0.5,\"gridcolor\":\"rgba(200, 200, 200, 0.5)\"},\"yaxis\":{\"showgrid\":true,\"gridwidth\":0.5,\"gridcolor\":\"rgba(200, 200, 200, 0.5)\"},\"width\":1000,\"height\":1000},                        {\"responsive\": true}                    ).then(function(){\n",
       "                            \n",
       "var gd = document.getElementById('126d9323-26e4-4e5a-9e9a-5cb777c6a76a');\n",
       "var x = new MutationObserver(function (mutations, observer) {{\n",
       "        var display = window.getComputedStyle(gd).display;\n",
       "        if (!display || display === 'none') {{\n",
       "            console.log([gd, 'removed!']);\n",
       "            Plotly.purge(gd);\n",
       "            observer.disconnect();\n",
       "        }}\n",
       "}});\n",
       "\n",
       "// Listen for the removal of the full notebook cells\n",
       "var notebookContainer = gd.closest('#notebook-container');\n",
       "if (notebookContainer) {{\n",
       "    x.observe(notebookContainer, {childList: true});\n",
       "}}\n",
       "\n",
       "// Listen for the clearing of the current output cell\n",
       "var outputEl = gd.closest('.output');\n",
       "if (outputEl) {{\n",
       "    x.observe(outputEl, {childList: true});\n",
       "}}\n",
       "\n",
       "                        })                };                });            </script>        </div>"
      ]
     },
     "metadata": {},
     "output_type": "display_data"
    }
   ],
   "source": [
    "create_cluster_plot(df_cluster, cluster_ranking, subset_cols,\n",
    "                    save_path=save_path, font_size=12, marker_size=4, diagonal_is_visible=False,\n",
    "                    width=1000, height=1000, showupperhalf=False, legend_size=14)"
   ]
  },
  {
   "cell_type": "code",
   "execution_count": 26,
   "id": "89dfad6b",
   "metadata": {},
   "outputs": [
    {
     "name": "stdout",
     "output_type": "stream",
     "text": [
      "\t\t\t<div>\n",
      "\t\t\t\t<p class='blog-p-tag'>\n",
      "\t\t\t\t\tTODO\n",
      "\t\t\t\t</p>\n",
      "\t\t\t\t<div class='iframe-container'>\n",
      "\t\t\t\t\t<iframe class='large-iframe' data-src='TODO'></iframe>\n",
      "\t\t\t\t</div>\n",
      "\t\t\t\t<p class='blog-p-tag'>\n",
      "\t\t\t\t\tTODO:\n",
      "\t\t\t\t</p>\n",
      "\t\t\t\t<ul class='bullet-list'>\n",
      "\t\t\t\t\t<li><b>Cluster 0:</b> TODO</li>\n",
      "\t\t\t\t\t<li><b>Cluster 1:</b> TODO</li>\n",
      "\t\t\t\t\t<li><b>Cluster 2:</b> TODO</li>\n",
      "\t\t\t\t\t<li><b>Cluster 3:</b> TODO</li>\n",
      "\t\t\t\t</ul>\n",
      "\t\t\t\t<div style='display: flex; justify-content: space-evenly;''>\n",
      "\t\t\t\t\t<div>\n",
      "\t\t\t\t\t\t<b>Cluster 0 ()</b>\n",
      "\t\t\t\t\t\t<ul class='bullet-list'>\n",
      "\t\t\t\t\t\t\t<li>DeAndre Hopkins</li>\n",
      "\t\t\t\t\t\t\t<li>Rashee Rice</li>\n",
      "\t\t\t\t\t\t\t<li>Calvin Ridley</li>\n",
      "\t\t\t\t\t\t\t<li>Jayden Reed</li>\n",
      "\t\t\t\t\t\t\t<li>Adam Thielen</li>\n",
      "\t\t\t\t\t\t</ul>\n",
      "\t\t\t\t\t</div>\n",
      "\n",
      "\t\t\t\t\t<div>\n",
      "\t\t\t\t\t\t<b>Cluster 1 ()</b>\n",
      "\t\t\t\t\t\t<ul class='bullet-list'>\n",
      "\t\t\t\t\t\t\t<li>Stefon Diggs</li>\n",
      "\t\t\t\t\t\t\t<li>Michael Pittman</li>\n",
      "\t\t\t\t\t\t\t<li>Brandon Aiyuk</li>\n",
      "\t\t\t\t\t\t\t<li>Amari Cooper</li>\n",
      "\t\t\t\t\t\t\t<li>Chris Olave</li>\n",
      "\t\t\t\t\t\t\t<li>Davante Adams</li>\n",
      "\t\t\t\t\t\t\t<li>Jaylen Waddle</li>\n",
      "\t\t\t\t\t\t\t<li>D.K. Metcalf</li>\n",
      "\t\t\t\t\t\t\t<li>DK Metcalf</li>\n",
      "\t\t\t\t\t\t\t<li>Cooper Kupp</li>\n",
      "\t\t\t\t\t\t\t<li>Jakobi Meyers</li>\n",
      "\t\t\t\t\t\t\t<li>DeVonta Smith</li>\n",
      "\t\t\t\t\t\t</ul>\n",
      "\t\t\t\t\t</div>\n",
      "\n",
      "\t\t\t\t\t<div>\n",
      "\t\t\t\t\t\t<b>Cluster 2 ()</b>\n",
      "\t\t\t\t\t\t<ul class='bullet-list'>\n",
      "\t\t\t\t\t\t\t<li>Amon-Ra St. Brown</li>\n",
      "\t\t\t\t\t\t\t<li>Justin Jefferson</li>\n",
      "\t\t\t\t\t\t\t<li>Puka Nacua</li>\n",
      "\t\t\t\t\t\t\t<li>Nico Collins</li>\n",
      "\t\t\t\t\t\t\t<li>A.J. Brown</li>\n",
      "\t\t\t\t\t\t\t<li>Mike Evans</li>\n",
      "\t\t\t\t\t\t\t<li>Tank Dell</li>\n",
      "\t\t\t\t\t\t\t<li>Ja'Marr Chase</li>\n",
      "\t\t\t\t\t\t\t<li>Deebo Samuel</li>\n",
      "\t\t\t\t\t\t\t<li>D.J. Moore</li>\n",
      "\t\t\t\t\t\t</ul>\n",
      "\t\t\t\t\t</div>\n",
      "\n",
      "\t\t\t\t\t<div>\n",
      "\t\t\t\t\t\t<b>Cluster 3 ()</b>\n",
      "\t\t\t\t\t\t<ul class='bullet-list'>\n",
      "\t\t\t\t\t\t\t<li>Tyreek Hill</li>\n",
      "\t\t\t\t\t\t\t<li>Keenan Allen</li>\n",
      "\t\t\t\t\t\t\t<li>CeeDee Lamb</li>\n",
      "\t\t\t\t\t\t</ul>\n",
      "\t\t\t\t\t</div>\n",
      "\t\t\t\t</div>\n",
      "\t\t\t\t<p class=\"blog-p-tag\">\n",
      "    \t\t\t\t\tTODO\n",
      "    \t\t\t\t</p>\n",
      "\t\t\t</div>\n"
     ]
    }
   ],
   "source": [
    "create_cluster_html_tiers(df_cluster)"
   ]
  },
  {
   "cell_type": "code",
   "execution_count": null,
   "id": "f6ddcdd6",
   "metadata": {},
   "outputs": [],
   "source": []
  }
 ],
 "metadata": {
  "kernelspec": {
   "display_name": "plotly",
   "language": "python",
   "name": "plotly"
  },
  "language_info": {
   "codemirror_mode": {
    "name": "ipython",
    "version": 3
   },
   "file_extension": ".py",
   "mimetype": "text/x-python",
   "name": "python",
   "nbconvert_exporter": "python",
   "pygments_lexer": "ipython3",
   "version": "3.10.12"
  }
 },
 "nbformat": 4,
 "nbformat_minor": 5
}
