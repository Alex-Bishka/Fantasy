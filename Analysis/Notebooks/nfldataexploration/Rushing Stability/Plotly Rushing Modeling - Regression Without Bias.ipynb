{
 "cells": [
  {
   "cell_type": "markdown",
   "id": "5cf033d2",
   "metadata": {},
   "source": [
    "# Imports"
   ]
  },
  {
   "cell_type": "code",
   "execution_count": 1,
   "id": "21f5f4c5",
   "metadata": {},
   "outputs": [],
   "source": [
    "import plotly.express as px\n",
    "import pandas as pd\n",
    "import numpy as np\n",
    "import math"
   ]
  },
  {
   "cell_type": "code",
   "execution_count": 2,
   "id": "84ee3c64",
   "metadata": {},
   "outputs": [],
   "source": [
    "import sys\n",
    "import os\n",
    "sys.path.append(os.path.abspath('..'))\n",
    "from helpers_df import create_lag_df, create_train_and_test_sets"
   ]
  },
  {
   "cell_type": "markdown",
   "id": "32ee0b4a",
   "metadata": {},
   "source": [
    "# Grab Data"
   ]
  },
  {
   "cell_type": "code",
   "execution_count": 3,
   "id": "13d73a49",
   "metadata": {},
   "outputs": [],
   "source": [
    "df_merge = pd.read_pickle(\"../../interactive/df_all_2005_2023.pkl\")"
   ]
  },
  {
   "cell_type": "markdown",
   "id": "8d1c936a",
   "metadata": {},
   "source": [
    "### Running Back Data"
   ]
  },
  {
   "cell_type": "code",
   "execution_count": 4,
   "id": "068caad0",
   "metadata": {},
   "outputs": [],
   "source": [
    "df_rbs = df_merge.copy().query(\"season_type == 'REG' and position == 'RB'\").drop_duplicates().dropna()"
   ]
  },
  {
   "cell_type": "code",
   "execution_count": 5,
   "id": "1ee234f4",
   "metadata": {},
   "outputs": [],
   "source": [
    "df_rbs[\"total_yards\"] = df_rbs[\"rushing_yards\"] + df_rbs[\"receiving_yards\"]\n",
    "df_rbs[\"total_tds\"] = df_rbs[\"rushing_tds\"] + df_rbs[\"receiving_tds\"]\n",
    "df_rbs[\"touches\"] = df_rbs[\"targets\"] + df_rbs[\"carries\"]\n",
    "df_rbs[\"total_first_downs\"] = df_rbs[\"rushing_first_downs\"] + df_rbs[\"receiving_first_downs\"]"
   ]
  },
  {
   "cell_type": "code",
   "execution_count": 6,
   "id": "36f7bcc4",
   "metadata": {},
   "outputs": [],
   "source": [
    "df_rbs.drop(columns=['completions', 'attempts',\n",
    "       'passing_yards', 'passing_tds', 'interceptions', 'sacks', 'sack_yards',\n",
    "       'sack_fumbles', 'sack_fumbles_lost', 'passing_air_yards',\n",
    "       'passing_yards_after_catch', 'passing_first_downs', 'passing_epa',\n",
    "       'passing_2pt_conversions', 'pacr', 'dakota', 'special_teams_tds'], inplace=True)"
   ]
  },
  {
   "cell_type": "markdown",
   "id": "76231ce2",
   "metadata": {},
   "source": [
    "# Normalize Data"
   ]
  },
  {
   "cell_type": "code",
   "execution_count": 7,
   "id": "f5e11c38",
   "metadata": {},
   "outputs": [],
   "source": [
    "numeric_columns = df_rbs.select_dtypes(include=[np.number]).columns\n",
    "for col in numeric_columns:\n",
    "    if \"season\" not in col:\n",
    "        df_rbs[f\"{col}_normalized\"] = df_rbs[col] / df_rbs[col].max()"
   ]
  },
  {
   "cell_type": "code",
   "execution_count": 8,
   "id": "e769e8d3",
   "metadata": {},
   "outputs": [],
   "source": [
    "df_rb_normalized = df_rbs.copy()"
   ]
  },
  {
   "cell_type": "code",
   "execution_count": 9,
   "id": "d844d826",
   "metadata": {},
   "outputs": [],
   "source": [
    "df_rb_normalized.dropna(inplace=True)"
   ]
  },
  {
   "cell_type": "markdown",
   "id": "06602cd2",
   "metadata": {},
   "source": [
    "# Lag Version"
   ]
  },
  {
   "cell_type": "code",
   "execution_count": 10,
   "id": "9b3eb8fb",
   "metadata": {},
   "outputs": [],
   "source": [
    "df_lag = create_lag_df(df_rb_normalized)"
   ]
  },
  {
   "cell_type": "code",
   "execution_count": 11,
   "id": "7fe04ab3",
   "metadata": {},
   "outputs": [],
   "source": [
    "# new_metric = ['games_last', 'wopr_y_last', 'dom_last', 'age_last']\n",
    "# new_metric = ['carries_last', 'rushing_tds_last', 'rtd_sh_last']\n",
    "new_metric = ['wopr_y_last', 'tgt_sh_last', 'receptions_last', 'carries_last']\n",
    "\n",
    "# new_metric = ['rushing_fumbles_lost_last',\n",
    "#    'target_share_last',\n",
    "#    'tgt_sh_last',\n",
    "#    'dom_last',\n",
    "#    'yptmpa_last',\n",
    "#    'ppr_sh_last']\n",
    "\n",
    "a = np.zeros(len(df_lag))\n",
    "for col in new_metric:\n",
    "    a += df_lag[col.replace(\"_last\", \"_normalized_last\")]\n",
    "#     a += df_rb_normalized[col]\n",
    "    \n",
    "df_lag[\"new_metric_last\"] = a / len(new_metric)"
   ]
  },
  {
   "cell_type": "code",
   "execution_count": 12,
   "id": "705cec58",
   "metadata": {},
   "outputs": [
    {
     "data": {
      "text/html": [
       "<div>\n",
       "<style scoped>\n",
       "    .dataframe tbody tr th:only-of-type {\n",
       "        vertical-align: middle;\n",
       "    }\n",
       "\n",
       "    .dataframe tbody tr th {\n",
       "        vertical-align: top;\n",
       "    }\n",
       "\n",
       "    .dataframe thead th {\n",
       "        text-align: right;\n",
       "    }\n",
       "</style>\n",
       "<table border=\"1\" class=\"dataframe\">\n",
       "  <thead>\n",
       "    <tr style=\"text-align: right;\">\n",
       "      <th></th>\n",
       "      <th>new_metric_last</th>\n",
       "      <th>fantasy_points_ppr</th>\n",
       "    </tr>\n",
       "  </thead>\n",
       "  <tbody>\n",
       "    <tr>\n",
       "      <th>new_metric_last</th>\n",
       "      <td>1.000</td>\n",
       "      <td>0.589</td>\n",
       "    </tr>\n",
       "    <tr>\n",
       "      <th>fantasy_points_ppr</th>\n",
       "      <td>0.589</td>\n",
       "      <td>1.000</td>\n",
       "    </tr>\n",
       "  </tbody>\n",
       "</table>\n",
       "</div>"
      ],
      "text/plain": [
       "                    new_metric_last  fantasy_points_ppr\n",
       "new_metric_last               1.000               0.589\n",
       "fantasy_points_ppr            0.589               1.000"
      ]
     },
     "execution_count": 12,
     "metadata": {},
     "output_type": "execute_result"
    }
   ],
   "source": [
    "df_lag[[\"new_metric_last\", \"fantasy_points_ppr\"]].corr()"
   ]
  },
  {
   "cell_type": "code",
   "execution_count": 33,
   "id": "eeeb613b",
   "metadata": {},
   "outputs": [],
   "source": [
    "df_prep = df_lag.copy()"
   ]
  },
  {
   "cell_type": "code",
   "execution_count": 34,
   "id": "0a8244bd",
   "metadata": {},
   "outputs": [
    {
     "data": {
      "text/html": [
       "<div>\n",
       "<style scoped>\n",
       "    .dataframe tbody tr th:only-of-type {\n",
       "        vertical-align: middle;\n",
       "    }\n",
       "\n",
       "    .dataframe tbody tr th {\n",
       "        vertical-align: top;\n",
       "    }\n",
       "\n",
       "    .dataframe thead th {\n",
       "        text-align: right;\n",
       "    }\n",
       "</style>\n",
       "<table border=\"1\" class=\"dataframe\">\n",
       "  <thead>\n",
       "    <tr style=\"text-align: right;\">\n",
       "      <th></th>\n",
       "      <th>new_metric_last</th>\n",
       "      <th>fantasy_points_ppr</th>\n",
       "    </tr>\n",
       "  </thead>\n",
       "  <tbody>\n",
       "    <tr>\n",
       "      <th>new_metric_last</th>\n",
       "      <td>1.000</td>\n",
       "      <td>0.589</td>\n",
       "    </tr>\n",
       "    <tr>\n",
       "      <th>fantasy_points_ppr</th>\n",
       "      <td>0.589</td>\n",
       "      <td>1.000</td>\n",
       "    </tr>\n",
       "  </tbody>\n",
       "</table>\n",
       "</div>"
      ],
      "text/plain": [
       "                    new_metric_last  fantasy_points_ppr\n",
       "new_metric_last               1.000               0.589\n",
       "fantasy_points_ppr            0.589               1.000"
      ]
     },
     "execution_count": 34,
     "metadata": {},
     "output_type": "execute_result"
    }
   ],
   "source": [
    "df_prep[[\"new_metric_last\", \"fantasy_points_ppr\"]].corr()"
   ]
  },
  {
   "cell_type": "markdown",
   "id": "fd189ed4",
   "metadata": {},
   "source": [
    "# Prep Data For Model"
   ]
  },
  {
   "cell_type": "code",
   "execution_count": 35,
   "id": "2ec7be2c",
   "metadata": {},
   "outputs": [],
   "source": [
    "x_cols = [\"new_metric_last\"]"
   ]
  },
  {
   "cell_type": "code",
   "execution_count": 36,
   "id": "cb856ebb",
   "metadata": {},
   "outputs": [],
   "source": [
    "inference_col = \"fantasy_points_ppr\""
   ]
  },
  {
   "cell_type": "code",
   "execution_count": 37,
   "id": "f46fa280",
   "metadata": {},
   "outputs": [
    {
     "name": "stdout",
     "output_type": "stream",
     "text": [
      "```\n",
      "Length of train set: 831\n",
      "Length of test set: 208\n",
      "Length of data set: 1039\n",
      "```\n"
     ]
    }
   ],
   "source": [
    "query = \"season >= 2012 and season <= 2020\"\n",
    "X_train, X_test, y_train, y_test = create_train_and_test_sets(df_prep.query(query),\n",
    "                                                              x_cols=x_cols,\n",
    "                                                              inference_col = inference_col\n",
    "                                                             )"
   ]
  },
  {
   "cell_type": "markdown",
   "id": "22655ac1",
   "metadata": {},
   "source": [
    "# Normalization For Models"
   ]
  },
  {
   "cell_type": "code",
   "execution_count": 38,
   "id": "61a22a79",
   "metadata": {},
   "outputs": [],
   "source": [
    "from sklearn.preprocessing import StandardScaler"
   ]
  },
  {
   "cell_type": "code",
   "execution_count": 39,
   "id": "4d479944",
   "metadata": {},
   "outputs": [],
   "source": [
    "scaler = StandardScaler()\n",
    "X_train_scaled = scaler.fit_transform(X_train)\n",
    "X_test_scaled = scaler.transform(X_test)"
   ]
  },
  {
   "cell_type": "code",
   "execution_count": 40,
   "id": "fa1ca2f7",
   "metadata": {},
   "outputs": [],
   "source": [
    "df_23 = df_prep.query(\"season >= 2021\").copy()"
   ]
  },
  {
   "cell_type": "code",
   "execution_count": 41,
   "id": "7f5ffd52",
   "metadata": {},
   "outputs": [],
   "source": [
    "col_df = df_23[[\"new_metric_last\"]]"
   ]
  },
  {
   "cell_type": "code",
   "execution_count": 42,
   "id": "814b553d",
   "metadata": {},
   "outputs": [],
   "source": [
    "X_new_scaled = scaler.transform(col_df)"
   ]
  },
  {
   "cell_type": "markdown",
   "id": "94a62c3d",
   "metadata": {},
   "source": [
    "# Exploring Models"
   ]
  },
  {
   "cell_type": "markdown",
   "id": "3e23ba5a",
   "metadata": {},
   "source": [
    "## MLR"
   ]
  },
  {
   "cell_type": "code",
   "execution_count": 43,
   "id": "c9bc5105",
   "metadata": {},
   "outputs": [],
   "source": [
    "from sklearn.linear_model import LinearRegression"
   ]
  },
  {
   "cell_type": "code",
   "execution_count": 44,
   "id": "45a04e08",
   "metadata": {},
   "outputs": [],
   "source": [
    "mlr = LinearRegression().fit(X_train_scaled, y_train)"
   ]
  },
  {
   "cell_type": "code",
   "execution_count": 45,
   "id": "7e3372bb",
   "metadata": {},
   "outputs": [],
   "source": [
    "score = round(mlr.score(X_test_scaled, y_test), 3)"
   ]
  },
  {
   "cell_type": "code",
   "execution_count": 46,
   "id": "d1c2d508",
   "metadata": {},
   "outputs": [
    {
     "data": {
      "text/plain": [
       "0.27"
      ]
     },
     "execution_count": 46,
     "metadata": {},
     "output_type": "execute_result"
    }
   ],
   "source": [
    "score"
   ]
  },
  {
   "cell_type": "markdown",
   "id": "85275f18",
   "metadata": {},
   "source": [
    "## Evaluation"
   ]
  },
  {
   "cell_type": "code",
   "execution_count": 47,
   "id": "4ca74317",
   "metadata": {},
   "outputs": [],
   "source": [
    "def change_direction_correct(row):\n",
    "    if (row['Actual_Change'] >= 0 and row['Predicted_Change'] >= 0) or (row['Actual_Change'] < 0 and row['Predicted_Change'] < 0):\n",
    "        return True\n",
    "    else:\n",
    "        return False"
   ]
  },
  {
   "cell_type": "code",
   "execution_count": 48,
   "id": "69435fe8",
   "metadata": {},
   "outputs": [],
   "source": [
    "# previous_season_points = df_prep.loc[y_test.index, 'fantasy_points_ppr_last']\n",
    "# player_names = df_prep.loc[y_test.index, 'player_name']\n",
    "# season = df_prep.loc[y_test.index, 'season']\n",
    "\n",
    "previous_season_points = df_23['fantasy_points_ppr_last']\n",
    "player_names = df_23['player_name']\n",
    "season = df_23['season']\n",
    "\n",
    "# previous_season_points = df_lag.loc[y_test.index, 'fantasy_points_ppr_last']\n",
    "# player_names = df_lag.loc[y_test.index, 'player_name']\n",
    "# season = df_lag.loc[y_test.index, 'season']"
   ]
  },
  {
   "cell_type": "code",
   "execution_count": 49,
   "id": "4f1d2813",
   "metadata": {},
   "outputs": [],
   "source": [
    "# df_error_graph_mlr = pd.DataFrame({\n",
    "#     'Actual': y_test,\n",
    "#     'Predicted': mlr.predict(X_test_scaled),\n",
    "#     'Previous_Season_Fantasy': previous_season_points,\n",
    "#     'Player_Name': player_names,\n",
    "#     'Current_Season': season\n",
    "# })\n",
    "\n",
    "df_error_graph_mlr = pd.DataFrame({\n",
    "    'Actual': df_23[\"fantasy_points_ppr\"],\n",
    "    'Predicted': mlr.predict(X_new_scaled),\n",
    "    'Previous_Season_Fantasy': previous_season_points,\n",
    "    'Player_Name': player_names,\n",
    "    'Current_Season': season\n",
    "})"
   ]
  },
  {
   "cell_type": "code",
   "execution_count": 50,
   "id": "64d7c580",
   "metadata": {},
   "outputs": [],
   "source": [
    "df_error_graph_mlr['Actual_Change'] = df_error_graph_mlr['Actual'] - df_error_graph_mlr['Previous_Season_Fantasy']\n",
    "df_error_graph_mlr['Predicted_Change'] = df_error_graph_mlr['Predicted'] - df_error_graph_mlr['Previous_Season_Fantasy']\n",
    "df_error_graph_mlr['Direction_Correct'] = df_error_graph_mlr.apply(change_direction_correct, axis=1)"
   ]
  },
  {
   "cell_type": "code",
   "execution_count": 51,
   "id": "c86f9923",
   "metadata": {},
   "outputs": [
    {
     "data": {
      "application/vnd.plotly.v1+json": {
       "config": {
        "plotlyServerURL": "https://plot.ly"
       },
       "data": [
        {
         "customdata": [
          [
           "Adrian Peterson",
           2021,
           124.5
          ],
          [
           "Mark Ingram",
           2021,
           52.9
          ],
          [
           "Brandon Bolden",
           2022,
           124.1
          ],
          [
           "Kyle Juszczyk",
           2021,
           81.6
          ],
          [
           "Rex Burkhead",
           2022,
           104.3
          ],
          [
           "Giovani Bernard",
           2021,
           158.10000000000002
          ],
          [
           "Kenjon Barner",
           2021,
           0
          ],
          [
           "Le'Veon Bell",
           2021,
           74.60000000000001
          ],
          [
           "Latavius Murray",
           2021,
           136.20000000000002
          ],
          [
           "Latavius Murray",
           2023,
           154.2
          ],
          [
           "Cordarrelle Patterson",
           2021,
           69.4
          ],
          [
           "Cordarrelle Patterson",
           2022,
           234.60000000000002
          ],
          [
           "Cordarrelle Patterson",
           2023,
           154.70000000000002
          ],
          [
           "Keith Smith",
           2021,
           17.6
          ],
          [
           "Keith Smith",
           2023,
           2
          ],
          [
           "Carlos Hyde",
           2021,
           84.9
          ],
          [
           "Devonta Freeman",
           2021,
           36.00000000000001
          ],
          [
           "Jerick McKinnon",
           2021,
           126.2
          ],
          [
           "Jerick McKinnon",
           2022,
           35.9
          ],
          [
           "Jerick McKinnon",
           2023,
           196.3
          ],
          [
           "Michael Burton",
           2021,
           8.6
          ],
          [
           "Michael Burton",
           2023,
           3.8
          ],
          [
           "Raheem Mostert",
           2021,
           99.7
          ],
          [
           "Raheem Mostert",
           2022,
           2
          ],
          [
           "Malcolm Brown",
           2021,
           109.1
          ],
          [
           "Malcolm Brown",
           2022,
           22.5
          ],
          [
           "Tevin Coleman",
           2021,
           12.700000000000001
          ],
          [
           "Mike Davis",
           2021,
           206.5
          ],
          [
           "Mike Davis",
           2022,
           138.2
          ],
          [
           "Ameer Abdullah",
           2021,
           30
          ],
          [
           "Melvin Gordon",
           2021,
           198.4
          ],
          [
           "Melvin Gordon",
           2022,
           195.1
          ],
          [
           "David Johnson",
           2021,
           179.5
          ],
          [
           "Ty Montgomery",
           2021,
           15.8
          ],
          [
           "Duke Johnson",
           2022,
           59.10000000000001
          ],
          [
           "Alex Collins",
           2021,
           21.1
          ],
          [
           "Dwayne Washington",
           2021,
           1.5
          ],
          [
           "Dwayne Washington",
           2022,
           4.8
          ],
          [
           "Peyton Barber",
           2021,
           55
          ],
          [
           "Derrick Henry",
           2021,
           333.1
          ],
          [
           "Derrick Henry",
           2023,
           302.76
          ],
          [
           "Jordan Howard",
           2022,
           62.5
          ],
          [
           "Elijhaa Penny",
           2021,
           5.5
          ],
          [
           "Derek Watt",
           2022,
           4.6
          ],
          [
           "C.J. Ham",
           2021,
           25.5
          ],
          [
           "Andy Janovich",
           2021,
           3.6999999999999997
          ],
          [
           "Jonathan Williams",
           2021,
           4.6
          ],
          [
           "Jonathan Williams",
           2022,
           20.7
          ],
          [
           "Ezekiel Elliott",
           2022,
           252.06
          ],
          [
           "Ezekiel Elliott",
           2023,
           185.8
          ],
          [
           "Kenyan Drake",
           2021,
           192.2
          ],
          [
           "Kenyan Drake",
           2022,
           102.5
          ],
          [
           "Kenyan Drake",
           2023,
           104.10000000000001
          ],
          [
           "Christian McCaffrey",
           2021,
           90.4
          ],
          [
           "Christian McCaffrey",
           2022,
           127.5
          ],
          [
           "Aaron Jones",
           2021,
           258.90000000000003
          ],
          [
           "Aaron Jones",
           2023,
           248.60000000000002
          ],
          [
           "Alex Armah",
           2021,
           7.7
          ],
          [
           "Matt Breida",
           2021,
           42
          ],
          [
           "Matt Breida",
           2022,
           42.699999999999996
          ],
          [
           "Patrick Ricard",
           2021,
           17.4
          ],
          [
           "Samaje Perine",
           2023,
           142.1
          ],
          [
           "James Conner",
           2022,
           257.7
          ],
          [
           "Chris Carson",
           2021,
           187.8
          ],
          [
           "Austin Ekeler",
           2021,
           165.3
          ],
          [
           "Austin Ekeler",
           2023,
           372.7
          ],
          [
           "Corey Clement",
           2021,
           21
          ],
          [
           "Dare Ogunbowale",
           2021,
           29.9
          ],
          [
           "Leonard Fournette",
           2022,
           255.60000000000002
          ],
          [
           "Leonard Fournette",
           2023,
           226.1
          ],
          [
           "Dalvin Cook",
           2021,
           337.8
          ],
          [
           "Dalvin Cook",
           2023,
           237.8
          ],
          [
           "Joe Mixon",
           2021,
           99.60000000000001
          ],
          [
           "Joe Mixon",
           2022,
           287.9
          ],
          [
           "Alvin Kamara",
           2021,
           377.8
          ],
          [
           "Alvin Kamara",
           2022,
           234.70000000000002
          ],
          [
           "Kareem Hunt",
           2021,
           218.5
          ],
          [
           "Kareem Hunt",
           2022,
           110
          ],
          [
           "Kareem Hunt",
           2023,
           126.8
          ],
          [
           "D'Onta Foreman",
           2021,
           17
          ],
          [
           "D'Onta Foreman",
           2023,
           131
          ],
          [
           "Jamaal Williams",
           2021,
           127.10000000000001
          ],
          [
           "Jamaal Williams",
           2023,
           225.9
          ],
          [
           "Wayne Gallman",
           2021,
           136.6
          ],
          [
           "Marlon Mack",
           2021,
           8.600000000000001
          ],
          [
           "Marlon Mack",
           2022,
           12.9
          ],
          [
           "Jeremy McNichols",
           2021,
           43.9
          ],
          [
           "Phillip Lindsay",
           2022,
           45.4
          ],
          [
           "Jeff Wilson",
           2021,
           142.3
          ],
          [
           "Jeff Wilson",
           2021,
           142.3
          ],
          [
           "Jeffery Wilson",
           2021,
           142.3
          ],
          [
           "Jeffery Wilson",
           2021,
           142.3
          ],
          [
           "Jeff Wilson",
           2022,
           51.5
          ],
          [
           "Jeff Wilson",
           2022,
           51.5
          ],
          [
           "Jeffery Wilson",
           2022,
           51.5
          ],
          [
           "Jeffery Wilson",
           2022,
           51.5
          ],
          [
           "Jeff Wilson",
           2023,
           158.5
          ],
          [
           "Jeff Wilson",
           2023,
           158.5
          ],
          [
           "Jeffery Wilson",
           2023,
           158.5
          ],
          [
           "Jeffery Wilson",
           2023,
           158.5
          ],
          [
           "Jason Cabinda",
           2021,
           2.8
          ],
          [
           "Mike Boone",
           2022,
           7.7
          ],
          [
           "Dontrell Hilliard",
           2021,
           6
          ],
          [
           "Dontrell Hilliard",
           2022,
           72.7
          ],
          [
           "Darrel Williams",
           2021,
           54.5
          ],
          [
           "Darrel Williams",
           2022,
           196
          ],
          [
           "Nyheim Hines",
           2021,
           193.2
          ],
          [
           "Boston Scott",
           2022,
           98.6
          ],
          [
           "Boston Scott",
           2023,
           46.2
          ],
          [
           "Justin Jackson",
           2021,
           65.3
          ],
          [
           "Justin Jackson",
           2022,
           86.20000000000002
          ],
          [
           "Chase Edmonds",
           2021,
           168
          ],
          [
           "Chase Edmonds",
           2023,
           74.2
          ],
          [
           "Rashaad Penny",
           2021,
           3.4000000000000004
          ],
          [
           "Rashaad Penny",
           2022,
           121.7
          ],
          [
           "Rashaad Penny",
           2023,
           52.2
          ],
          [
           "Nick Chubb",
           2023,
           281.4
          ],
          [
           "Ronald Jones",
           2021,
           186.3
          ],
          [
           "Ronald Jones",
           2022,
           79.2
          ],
          [
           "Royce Freeman",
           2023,
           19
          ],
          [
           "Saquon Barkley",
           2021,
           15.400000000000002
          ],
          [
           "Saquon Barkley",
           2022,
           148.6
          ],
          [
           "Saquon Barkley",
           2023,
           284
          ],
          [
           "Sony Michel",
           2022,
           146.3
          ],
          [
           "Andrew Beck",
           2023,
           11.9
          ],
          [
           "Alexander Mattison",
           2022,
           125.9
          ],
          [
           "Justice Hill",
           2023,
           42
          ],
          [
           "Khari Blasingame",
           2023,
           0
          ],
          [
           "Alec Ingold",
           2022,
           24.6
          ],
          [
           "Devine Ozigbo",
           2022,
           1.4
          ],
          [
           "Devine Ozigbo",
           2023,
           1.7
          ],
          [
           "Austin Walter",
           2021,
           4
          ],
          [
           "Benny Snell",
           2021,
           74.9
          ],
          [
           "Benny Snell",
           2022,
           13.100000000000001
          ],
          [
           "Miles Sanders",
           2021,
           170.4
          ],
          [
           "Miles Sanders",
           2023,
           216.70000000000002
          ],
          [
           "Devin Singletary",
           2022,
           197.8
          ],
          [
           "Devin Singletary",
           2023,
           177.9
          ],
          [
           "Tony Pollard",
           2023,
           248.8
          ],
          [
           "Trayveon Williams",
           2022,
           6.5
          ],
          [
           "Trayveon Williams",
           2023,
           8
          ],
          [
           "Myles Gaskin",
           2022,
           173.6
          ],
          [
           "Ty Johnson",
           2021,
           63.300000000000004
          ],
          [
           "Ty Johnson",
           2022,
           117.00000000000001
          ],
          [
           "Craig Reynolds",
           2021,
           1.7000000000000002
          ],
          [
           "Craig Reynolds",
           2023,
           30.8
          ],
          [
           "Travis Homer",
           2021,
           32.8
          ],
          [
           "D'Ernest Johnson",
           2021,
           21
          ],
          [
           "D'Ernest Johnson",
           2022,
           104.10000000000001
          ],
          [
           "D'Ernest Johnson",
           2023,
           5.4
          ],
          [
           "Damien Harris",
           2022,
           210.1
          ],
          [
           "Damien Harris",
           2023,
           90.9
          ],
          [
           "Darrell Henderson",
           2022,
           163.4
          ],
          [
           "David Montgomery",
           2021,
           264.8
          ],
          [
           "David Montgomery",
           2022,
           195
          ],
          [
           "Josh Jacobs",
           2021,
           231.3
          ],
          [
           "Josh Jacobs",
           2023,
           328.3
          ],
          [
           "Jamycal Hasty",
           2021,
           31.1
          ],
          [
           "Jamycal Hasty",
           2022,
           51.5
          ],
          [
           "Jamycal Hasty",
           2023,
           70
          ],
          [
           "James Robinson",
           2021,
           250.4
          ],
          [
           "James Robinson",
           2022,
           173.9
          ],
          [
           "James Robinson",
           2023,
           88.6
          ],
          [
           "Tony Jones",
           2021,
           1.3
          ],
          [
           "Tony Jones",
           2023,
           10.4
          ],
          [
           "Jonathan Ward",
           2021,
           8.1
          ],
          [
           "Giovanni Ricci",
           2022,
           0
          ],
          [
           "Patrick Taylor",
           2023,
           5.800000000000001
          ],
          [
           "Salvon Ahmed",
           2023,
           14.200000000000001
          ],
          [
           "Scottie Phillips",
           2021,
           2.6
          ],
          [
           "J.J. Taylor",
           2021,
           12.4
          ],
          [
           "Reggie Gilliam",
           2022,
           5.6
          ],
          [
           "Jonathan Taylor",
           2022,
           373.1
          ],
          [
           "Zack Moss",
           2022,
           105.2
          ],
          [
           "A.J. Dillon",
           2022,
           185.6
          ],
          [
           "A.J. Dillon",
           2022,
           185.6
          ],
          [
           "AJ Dillon",
           2022,
           185.6
          ],
          [
           "AJ Dillon",
           2022,
           185.6
          ],
          [
           "A.J. Dillon",
           2023,
           167.6
          ],
          [
           "A.J. Dillon",
           2023,
           167.6
          ],
          [
           "AJ Dillon",
           2023,
           167.6
          ],
          [
           "AJ Dillon",
           2023,
           167.6
          ],
          [
           "D'Andre Swift",
           2022,
           208.9
          ],
          [
           "Jason Huntley",
           2021,
           2.9000000000000004
          ],
          [
           "Darrynton Evans",
           2022,
           3.8
          ],
          [
           "Darrynton Evans",
           2023,
           10.700000000000001
          ],
          [
           "Antonio Gibson",
           2022,
           229.10000000000002
          ],
          [
           "Antonio Gibson",
           2023,
           165.9
          ],
          [
           "Clyde Edwards-Helaire",
           2021,
           176
          ],
          [
           "Clyde Edwards-Helaire",
           2022,
           117.6
          ],
          [
           "Clyde Edwards-Helaire",
           2023,
           98.3
          ],
          [
           "Joshua Kelley",
           2021,
           81.2
          ],
          [
           "Joshua Kelley",
           2022,
           17
          ],
          [
           "Eno Benjamin",
           2022,
           28
          ],
          [
           "Cam Akers",
           2021,
           101.80000000000001
          ],
          [
           "Cam Akers",
           2022,
           4.3
          ],
          [
           "Cam Akers",
           2023,
           141.3
          ],
          [
           "DeeJay Dallas",
           2021,
           56.900000000000006
          ],
          [
           "Ke'Shawn Vaughn",
           2021,
           23.3
          ],
          [
           "Deon Jackson",
           2022,
           9.100000000000001
          ],
          [
           "Chuba Hubbard",
           2022,
           137.6
          ],
          [
           "Elijah Mitchell",
           2022,
           165
          ],
          [
           "Gary Brightwell",
           2022,
           2
          ],
          [
           "Jaret Patterson",
           2022,
           55.900000000000006
          ],
          [
           "Rhamondre Stevenson",
           2023,
           249.10000000000002
          ],
          [
           "Najee Harris",
           2022,
           300.7
          ],
          [
           "Najee Harris",
           2023,
           223.46
          ],
          [
           "Khalil Herbert",
           2023,
           117.80000000000001
          ],
          [
           "Kenneth Gainwell",
           2022,
           123.4
          ],
          [
           "Michael Carter",
           2022,
           154.4
          ],
          [
           "Michael Carter",
           2023,
           126
          ],
          [
           "Javonte Williams",
           2022,
           204.9
          ],
          [
           "Javonte Williams",
           2023,
           42
          ],
          [
           "Dameon Pierce",
           2023,
           166.4
          ],
          [
           "Tyler Allgeier",
           2023,
           159.4
          ],
          [
           "Jerome Ford",
           2023,
           1.2000000000000002
          ],
          [
           "Ty Chandler",
           2023,
           2
          ],
          [
           "Kevin Harris",
           2023,
           11.2
          ],
          [
           "Ronnie Rivers",
           2023,
           10
          ],
          [
           "Kyren Williams",
           2023,
           30.5
          ],
          [
           "Zamir White",
           2023,
           7.000000000000001
          ],
          [
           "Isaiah Spiller",
           2023,
           8.4
          ],
          [
           "Pierre Strong",
           2023,
           27.2
          ],
          [
           "Breece Hall",
           2023,
           115.10000000000001
          ],
          [
           "Kenneth Walker",
           2023,
           202.5
          ]
         ],
         "hovertemplate": "Direction_Correct=True<br>Actual=%{x}<br>Predicted=%{y}<br>Player_Name=%{customdata[0]}<br>Current_Season=%{customdata[1]}<br>Previous_Season_Fantasy=%{customdata[2]}<extra></extra>",
         "legendgroup": "True",
         "marker": {
          "color": "green",
          "symbol": "circle"
         },
         "mode": "markers",
         "name": "True",
         "orientation": "v",
         "showlegend": true,
         "type": "scatter",
         "x": [
          26.6,
          108.60000000000001,
          27.3,
          73.8,
          71.4,
          59.1,
          0,
          38.1,
          103.60000000000001,
          82.9,
          234.60000000000002,
          154.70000000000002,
          36.900000000000006,
          17.7,
          6.300000000000001,
          45.800000000000004,
          146.6,
          35.9,
          196.3,
          84.36,
          14.700000000000001,
          6.7,
          2,
          168.3,
          22.5,
          22.8,
          51.5,
          138.2,
          4.2,
          89.5,
          195.1,
          87.1,
          81.3,
          29.9,
          0.4,
          68.8,
          4.8,
          5.5,
          49.900000000000006,
          193.3,
          246.66000000000003,
          0.1,
          35.9,
          20.2,
          32.9,
          11.9,
          20.7,
          26.200000000000003,
          185.8,
          174.5,
          102.5,
          104.10000000000001,
          3.1,
          127.5,
          356.36,
          229,
          134.9,
          9.2,
          42.699999999999996,
          59.8,
          20.7,
          121.30000000000001,
          200.2,
          48.1,
          343.8,
          185.4,
          28.9,
          50.1,
          226.1,
          4,
          206.3,
          40.2,
          287.9,
          239.5,
          234.70000000000002,
          211.7,
          110,
          126.8,
          118.5,
          93.9,
          91.2,
          119.8,
          60.800000000000004,
          13.500000000000002,
          12.9,
          38.300000000000004,
          73.60000000000001,
          14.8,
          51.5,
          51.5,
          51.5,
          51.5,
          158.5,
          158.5,
          158.5,
          158.5,
          41.300000000000004,
          41.300000000000004,
          41.300000000000004,
          41.300000000000004,
          13.899999999999999,
          28.800000000000004,
          72.7,
          77.2,
          196,
          21.1,
          116.60000000000001,
          46.2,
          17.8,
          86.20000000000002,
          51.1,
          143.3,
          39.7,
          121.7,
          52.2,
          4.800000000000001,
          23.1,
          79.2,
          16.2,
          46.2,
          148.6,
          284,
          223.20000000000002,
          24.900000000000002,
          38.8,
          88.4,
          109.30000000000001,
          5.8,
          38.3,
          1.7,
          2.3,
          19,
          13.100000000000001,
          18.7,
          117.20000000000002,
          87.60000000000001,
          177.9,
          167.34,
          222.60000000000002,
          8,
          14.9,
          9.4,
          117.00000000000001,
          42.800000000000004,
          35.2,
          31.599999999999998,
          61.8,
          104.10000000000001,
          5.4,
          34.800000000000004,
          90.9,
          19,
          73.5,
          195,
          177.70000000000002,
          226,
          181.1,
          51.5,
          70,
          0,
          173.9,
          88.6,
          1,
          22.1,
          32.2,
          9.7,
          18,
          30,
          42.9,
          4.2,
          18.5,
          20.9,
          146.4,
          64.5,
          167.6,
          167.6,
          167.6,
          167.6,
          117.60000000000001,
          117.60000000000001,
          117.60000000000001,
          117.60000000000001,
          191.1,
          5.1000000000000005,
          10.700000000000001,
          30,
          165.9,
          127.4,
          117.6,
          98.3,
          70.10000000000001,
          17,
          64.80000000000001,
          89.60000000000001,
          4.3,
          141.3,
          46.7,
          60.1,
          36.6,
          84.5,
          89.7,
          43.6,
          29,
          7.800000000000001,
          145.70000000000002,
          223.46,
          195.5,
          112.5,
          87.9,
          126,
          58.8,
          42,
          179.2,
          82.7,
          137.6,
          213.20000000000002,
          101,
          21.3,
          20.1,
          255,
          73.9,
          19,
          42.800000000000004,
          290.5,
          199.4
         ],
         "xaxis": "x",
         "y": [
          74.10454770284049,
          53.30678102573483,
          110.26312936509794,
          69.43718642431547,
          100.98145891265766,
          135.105940185717,
          28.91206423194584,
          70.34689069699375,
          91.5118769505533,
          114.3475940581773,
          71.8795168781252,
          164.49058919077413,
          116.13706940716729,
          45.23686398991616,
          52.54834104834329,
          79.45780865651831,
          68.20843042956048,
          116.86267021107759,
          63.67339707486306,
          134.50058435043803,
          32.23389532991431,
          25.584358736244837,
          87.60432957581683,
          17.10327078156179,
          85.00156140663478,
          37.17754531927308,
          40.259167713728075,
          173.39167124369598,
          131.55247092198215,
          46.968995405853555,
          129.8839886776599,
          120.97977841262696,
          137.32661321844336,
          50.53727269445858,
          51.929891057852394,
          32.34857033725293,
          18.315077123125207,
          30.3206005243291,
          46.0141627117183,
          141.7154675755782,
          166.49767560885414,
          53.79641761021521,
          28.578455832572182,
          28.104260028024598,
          45.92217959981725,
          32.62952964482732,
          71.25540979893442,
          43.59681442266547,
          155.8689430228688,
          102.41863809040322,
          113.8043666357684,
          103.54215919006288,
          90.6417120553249,
          129.98407398318037,
          171.2179654810496,
          172.82475335130914,
          174.73176421040483,
          33.98255962862321,
          52.413317227408896,
          46.61279465359089,
          54.138446568378136,
          110.78196953439316,
          127.74618736735269,
          135.84452131231274,
          170.93471447215882,
          232.6190010567803,
          35.124083441597364,
          72.24058746731097,
          182.20397478841932,
          172.15034378028605,
          176.70239340565973,
          144.273122882892,
          113.65854142307269,
          157.09610262157315,
          240.00196267227773,
          208.66615780287697,
          143.73848820517094,
          110.55291541068064,
          112.03027290247937,
          26.392340630921915,
          72.89137049304252,
          105.73322334804715,
          94.57136839888761,
          95.10645638529455,
          55.83529891351034,
          44.493028651200845,
          56.033236421813456,
          43.27364513459259,
          94.71102442778862,
          94.71102442778862,
          94.71102442778862,
          94.71102442778862,
          63.499153021456,
          63.499153021456,
          63.499153021456,
          63.499153021456,
          111.81570836713998,
          111.81570836713998,
          111.81570836713998,
          111.81570836713998,
          31.922354169146033,
          31.21287104290677,
          28.763131521957575,
          107.44308417535595,
          64.90453835064673,
          129.57152895727938,
          159.4849753243256,
          80.73837864414551,
          39.27476322441276,
          87.1174514360185,
          74.33833140362387,
          144.36329097676747,
          72.90822705134991,
          18.920980293906894,
          60.71987587759171,
          47.63670869554036,
          135.7423472190081,
          120.60424915700591,
          55.051926639469656,
          59.63663075098496,
          97.06823055227143,
          150.67343068463197,
          205.80065148398972,
          104.08012986658181,
          46.07716775990084,
          104.8075927085585,
          51.632989889244115,
          35.92462692957564,
          52.013861245090474,
          35.55652964840047,
          22.988978766827643,
          28.858004358298565,
          58.11223577408502,
          29.675149336765912,
          138.1813296969192,
          111.46700830402534,
          126.62984475399176,
          131.18182637723632,
          146.430731824164,
          36.98493985677168,
          34.195265071875696,
          145.6777029744491,
          79.87348946550561,
          113.42701142483038,
          33.39302546576602,
          54.87555075213899,
          45.17985259666398,
          34.315063237802434,
          89.01463994429568,
          35.90831210162827,
          95.69072316630292,
          89.60463533661684,
          120.99153525162305,
          173.14874795597174,
          160.23361861161555,
          147.05136479796224,
          186.0261048924928,
          49.21125445522758,
          93.69824324418063,
          69.14038845745787,
          161.8457168111554,
          123.59867745006898,
          67.20323226262391,
          17.305238505155685,
          58.86646106635613,
          35.60921709973038,
          34.94369989787422,
          23.90192592535825,
          22.76408151244165,
          32.86751661537032,
          29.1591634825067,
          32.59832912855746,
          166.14901950583624,
          90.46443432726305,
          114.57323984721941,
          114.57323984721941,
          114.57323984721941,
          114.57323984721941,
          118.16761776365395,
          118.16761776365395,
          118.16761776365395,
          118.16761776365395,
          188.99803886664452,
          27.835958429477515,
          55.96904405720555,
          28.522159551184146,
          155.74277085644684,
          146.7562920526548,
          139.55733075216588,
          87.33126636970523,
          75.89119458667322,
          79.80700259406952,
          38.93804863354583,
          45.61085909479032,
          76.27131395043035,
          75.56205652725829,
          87.21773037227611,
          73.19277928661674,
          52.14387295396473,
          19.3249157410947,
          106.34162441165967,
          107.7299985968252,
          25.68476534500116,
          51.50109473660168,
          200.1634263276889,
          211.42128479310782,
          156.16669227334933,
          71.48059875011505,
          117.3221527076594,
          135.65146269383897,
          123.65959275071873,
          143.51272523093976,
          129.02726072457259,
          132.84795021323794,
          94.66030652656893,
          18.315077123125207,
          17.911141675937387,
          20.33475435906422,
          51.91926715908254,
          62.67022297511622,
          20.13278663547031,
          29.423389257758345,
          53.90414486518141,
          124.53012058171674,
          118.17510815973054
         ],
         "yaxis": "y"
        },
        {
         "customdata": [
          [
           "Mark Ingram",
           2022,
           108.60000000000001
          ],
          [
           "Nick Bellore",
           2021,
           2.4000000000000004
          ],
          [
           "Nick Bellore",
           2022,
           1.4
          ],
          [
           "Brandon Bolden",
           2023,
           27.3
          ],
          [
           "Kyle Juszczyk",
           2022,
           73.8
          ],
          [
           "Kyle Juszczyk",
           2023,
           53.6
          ],
          [
           "Rex Burkhead",
           2021,
           107.6
          ],
          [
           "Giovani Bernard",
           2022,
           59.1
          ],
          [
           "Latavius Murray",
           2022,
           103.60000000000001
          ],
          [
           "Keith Smith",
           2022,
           17.7
          ],
          [
           "James White",
           2021,
           116.6
          ],
          [
           "Michael Burton",
           2022,
           14.700000000000001
          ],
          [
           "Raheem Mostert",
           2023,
           168.3
          ],
          [
           "Tevin Coleman",
           2022,
           51.5
          ],
          [
           "Ameer Abdullah",
           2022,
           89.5
          ],
          [
           "Ameer Abdullah",
           2023,
           54.1
          ],
          [
           "Melvin Gordon",
           2023,
           87.1
          ],
          [
           "David Johnson",
           2022,
           81.3
          ],
          [
           "Ty Montgomery",
           2022,
           29.9
          ],
          [
           "Ty Montgomery",
           2023,
           10.3
          ],
          [
           "Duke Johnson",
           2021,
           84.4
          ],
          [
           "J.D. McKissic",
           2021,
           191.4
          ],
          [
           "J.D. McKissic",
           2022,
           127.9
          ],
          [
           "Derrick Henry",
           2022,
           193.3
          ],
          [
           "Jordan Howard",
           2021,
           30.700000000000003
          ],
          [
           "C.J. Ham",
           2022,
           32.9
          ],
          [
           "C.J. Ham",
           2023,
           31.299999999999997
          ],
          [
           "Devontae Booker",
           2021,
           85.7
          ],
          [
           "Jonathan Williams",
           2023,
           26.200000000000003
          ],
          [
           "Jalen Richard",
           2021,
           51.1
          ],
          [
           "Ezekiel Elliott",
           2021,
           223.70000000000002
          ],
          [
           "Christian McCaffrey",
           2023,
           356.36
          ],
          [
           "Aaron Jones",
           2022,
           229
          ],
          [
           "Matt Breida",
           2023,
           59.8
          ],
          [
           "Cethan Carter",
           2021,
           10.3
          ],
          [
           "Patrick Ricard",
           2022,
           20.7
          ],
          [
           "Patrick Ricard",
           2023,
           20
          ],
          [
           "Samaje Perine",
           2021,
           65.7
          ],
          [
           "Samaje Perine",
           2022,
           83.2
          ],
          [
           "James Conner",
           2021,
           164.6
          ],
          [
           "James Conner",
           2023,
           200.2
          ],
          [
           "Austin Ekeler",
           2022,
           343.8
          ],
          [
           "Corey Clement",
           2022,
           28.9
          ],
          [
           "Dare Ogunbowale",
           2022,
           50.1
          ],
          [
           "Dare Ogunbowale",
           2023,
           48.7
          ],
          [
           "Leonard Fournette",
           2021,
           132
          ],
          [
           "Dalvin Cook",
           2022,
           206.3
          ],
          [
           "Joe Mixon",
           2023,
           239.5
          ],
          [
           "Alvin Kamara",
           2023,
           211.7
          ],
          [
           "D'Onta Foreman",
           2022,
           93.9
          ],
          [
           "Jamaal Williams",
           2022,
           119.8
          ],
          [
           "Phillip Lindsay",
           2021,
           66
          ],
          [
           "Trenton Cannon",
           2021,
           7.9
          ],
          [
           "Jason Cabinda",
           2022,
           13.899999999999999
          ],
          [
           "Jason Cabinda",
           2023,
           1.9
          ],
          [
           "Gus Edwards",
           2023,
           59.300000000000004
          ],
          [
           "Mike Boone",
           2021,
           14.900000000000002
          ],
          [
           "Mike Boone",
           2023,
           28.800000000000004
          ],
          [
           "Jaylen Samuels",
           2021,
           16.400000000000002
          ],
          [
           "Nyheim Hines",
           2022,
           116.60000000000001
          ],
          [
           "Ito Smith",
           2021,
           57.3
          ],
          [
           "Boston Scott",
           2021,
           95.60000000000001
          ],
          [
           "Buddy Howell",
           2021,
           7.7
          ],
          [
           "Ryan Nall",
           2021,
           20.7
          ],
          [
           "Godwin Igwebuike",
           2022,
           26.800000000000004
          ],
          [
           "Chase Edmonds",
           2022,
           143.3
          ],
          [
           "Nick Chubb",
           2021,
           207.70000000000002
          ],
          [
           "Nick Chubb",
           2022,
           215.3
          ],
          [
           "Kalen Ballage",
           2021,
           93.9
          ],
          [
           "Royce Freeman",
           2021,
           37.1
          ],
          [
           "Royce Freeman",
           2022,
           34.6
          ],
          [
           "Sony Michel",
           2021,
           75.30000000000001
          ],
          [
           "Alexander Mattison",
           2021,
           86.9
          ],
          [
           "Alexander Mattison",
           2023,
           88.4
          ],
          [
           "Khari Blasingame",
           2021,
           7.9
          ],
          [
           "Khari Blasingame",
           2022,
           1
          ],
          [
           "Alec Ingold",
           2021,
           29.400000000000002
          ],
          [
           "Alec Ingold",
           2023,
           38.3
          ],
          [
           "Devine Ozigbo",
           2021,
           13.3
          ],
          [
           "Miles Sanders",
           2022,
           117.20000000000002
          ],
          [
           "Devin Singletary",
           2021,
           143.60000000000002
          ],
          [
           "Tony Pollard",
           2021,
           120.80000000000001
          ],
          [
           "Tony Pollard",
           2022,
           162.6
          ],
          [
           "Trayveon Williams",
           2021,
           21.700000000000003
          ],
          [
           "Myles Gaskin",
           2021,
           164.20000000000002
          ],
          [
           "Patrick Laird",
           2021,
           22
          ],
          [
           "Ty Johnson",
           2023,
           42.800000000000004
          ],
          [
           "Craig Reynolds",
           2022,
           35.2
          ],
          [
           "Travis Homer",
           2022,
           61.8
          ],
          [
           "Travis Homer",
           2023,
           43.1
          ],
          [
           "Damien Harris",
           2021,
           91.30000000000001
          ],
          [
           "Darrell Henderson",
           2021,
           129.9
          ],
          [
           "Darrell Henderson",
           2023,
           73.5
          ],
          [
           "David Montgomery",
           2023,
           177.70000000000002
          ],
          [
           "Josh Jacobs",
           2022,
           226
          ],
          [
           "Jakob Johnson",
           2021,
           17.5
          ],
          [
           "Jakob Johnson",
           2022,
           8.3
          ],
          [
           "Tony Jones",
           2022,
           22.1
          ],
          [
           "Gabe Nabers",
           2021,
           20.2
          ],
          [
           "Jonathan Ward",
           2022,
           9.7
          ],
          [
           "Giovanni Ricci",
           2023,
           18
          ],
          [
           "Rodney Smith",
           2021,
           36.5
          ],
          [
           "Patrick Taylor",
           2022,
           17.200000000000003
          ],
          [
           "Salvon Ahmed",
           2021,
           69
          ],
          [
           "Salvon Ahmed",
           2022,
           38.6
          ],
          [
           "J.J. Taylor",
           2022,
           18.5
          ],
          [
           "Reggie Gilliam",
           2021,
           9.6
          ],
          [
           "Reggie Gilliam",
           2023,
           20.9
          ],
          [
           "Jonathan Taylor",
           2021,
           252.8
          ],
          [
           "Jonathan Taylor",
           2023,
           146.4
          ],
          [
           "Zack Moss",
           2021,
           101.6
          ],
          [
           "Zack Moss",
           2023,
           64.5
          ],
          [
           "A.J. Dillon",
           2021,
           40.3
          ],
          [
           "A.J. Dillon",
           2021,
           40.3
          ],
          [
           "AJ Dillon",
           2021,
           40.3
          ],
          [
           "AJ Dillon",
           2021,
           40.3
          ],
          [
           "La'Mical Perine",
           2021,
           52.50000000000001
          ],
          [
           "D'Andre Swift",
           2021,
           189.8
          ],
          [
           "D'Andre Swift",
           2023,
           191.1
          ],
          [
           "Darrynton Evans",
           2021,
           16.099999999999998
          ],
          [
           "Antonio Gibson",
           2021,
           202.2
          ],
          [
           "Anthony McFarland",
           2021,
           22.700000000000003
          ],
          [
           "Joshua Kelley",
           2023,
           64.80000000000001
          ],
          [
           "DeeJay Dallas",
           2022,
           60.1
          ],
          [
           "DeeJay Dallas",
           2023,
           46.2
          ],
          [
           "Ke'Shawn Vaughn",
           2022,
           36.6
          ],
          [
           "Ke'Shawn Vaughn",
           2023,
           10.2
          ],
          [
           "Ty'Son Williams",
           2022,
           41.9
          ],
          [
           "Deon Jackson",
           2023,
           84.5
          ],
          [
           "Chuba Hubbard",
           2023,
           89.7
          ],
          [
           "Elijah Mitchell",
           2023,
           43.6
          ],
          [
           "Larry Rountree",
           2022,
           15.600000000000001
          ],
          [
           "Demetric Felton",
           2022,
           50.5
          ],
          [
           "Kylin Hill",
           2022,
           3.9000000000000004
          ],
          [
           "Adam Prentice",
           2022,
           5.1
          ],
          [
           "Adam Prentice",
           2023,
           4.8
          ],
          [
           "Kene Nwangwu",
           2022,
           23
          ],
          [
           "Kene Nwangwu",
           2023,
           11.5
          ],
          [
           "Chris Evans",
           2022,
           49.8
          ],
          [
           "Rhamondre Stevenson",
           2022,
           114.9
          ],
          [
           "Khalil Herbert",
           2022,
           78.9
          ],
          [
           "Kenneth Gainwell",
           2023,
           87.9
          ],
          [
           "Travis Etienne",
           2023,
           203.1
          ],
          [
           "Bam Knight",
           2023,
           59
          ],
          [
           "Bam Knight",
           2023,
           59
          ],
          [
           "Zonovan Knight",
           2023,
           59
          ],
          [
           "Zonovan Knight",
           2023,
           59
          ],
          [
           "Isiah Pacheco",
           2023,
           135
          ],
          [
           "Jaylen Warren",
           2023,
           93.3
          ],
          [
           "James Cook",
           2023,
           105.7
          ],
          [
           "Rachaad White",
           2023,
           141.1
          ],
          [
           "Keaontay Ingram",
           2023,
           18.099999999999998
          ],
          [
           "Raheem Blackshear",
           2023,
           45
          ],
          [
           "Jordan Mason",
           2023,
           31.8
          ],
          [
           "Brian Robinson",
           2023,
           112.7
          ],
          [
           "Tyrion Davis-Price",
           2023,
           9.9
          ]
         ],
         "hovertemplate": "Direction_Correct=False<br>Actual=%{x}<br>Predicted=%{y}<br>Player_Name=%{customdata[0]}<br>Current_Season=%{customdata[1]}<br>Previous_Season_Fantasy=%{customdata[2]}<extra></extra>",
         "legendgroup": "False",
         "marker": {
          "color": "red",
          "symbol": "circle"
         },
         "mode": "markers",
         "name": "False",
         "orientation": "v",
         "showlegend": true,
         "type": "scatter",
         "x": [
          50.1,
          1.4,
          0.30000000000000004,
          11.1,
          53.6,
          38.5,
          104.3,
          4.7,
          154.2,
          2,
          31.200000000000003,
          3.8,
          267.7,
          22,
          54.1,
          41,
          19.7,
          9.100000000000001,
          10.3,
          9.9,
          59.10000000000001,
          127.9,
          55.800000000000004,
          302.76,
          62.5,
          31.299999999999997,
          10.200000000000001,
          144.10000000000002,
          -0.2,
          23.2,
          252.06,
          391.3,
          248.60000000000002,
          46.9,
          3.6,
          20,
          16.2,
          83.2,
          142.1,
          257.7,
          201.5,
          372.7,
          21.9,
          48.7,
          7.300000000000001,
          255.60000000000002,
          237.8,
          267,
          233,
          131,
          225.9,
          45.4,
          0.4,
          1.9,
          0,
          187,
          7.7,
          13.3,
          5.3,
          81.4,
          6.4,
          98.6,
          1.1,
          1.7999999999999998,
          1.7000000000000002,
          74.2,
          215.3,
          281.4,
          6.4,
          34.6,
          19,
          146.3,
          125.9,
          133.20000000000002,
          1,
          0,
          24.6,
          24.9,
          1.4,
          216.70000000000002,
          197.8,
          162.6,
          248.8,
          6.5,
          173.6,
          5.1,
          32.4,
          30.8,
          43.1,
          0,
          210.1,
          163.4,
          43.5,
          207.2,
          328.3,
          8.3,
          6,
          10.4,
          5.5,
          5.2,
          1.2,
          9.8,
          5.800000000000001,
          38.6,
          14.200000000000001,
          2.7,
          5.6,
          1.3,
          373.1,
          156.4,
          105.2,
          169.6,
          185.6,
          185.6,
          185.6,
          185.6,
          3.1000000000000005,
          208.9,
          199.3,
          3.8,
          229.10000000000002,
          2.4,
          61.7,
          46.2,
          12.200000000000001,
          10.2,
          6.4,
          1.5,
          4,
          182.5,
          47.5,
          5.300000000000001,
          2.4,
          0.7000000000000001,
          4.8,
          2.4000000000000004,
          11.5,
          1.3,
          12.8,
          249.10000000000002,
          117.80000000000001,
          97.38,
          282.4,
          3.1,
          3.1,
          3.1,
          3.1,
          213.9,
          196.4,
          232.70000000000002,
          267.9,
          14.000000000000002,
          17.1,
          44.7,
          198.10000000000002,
          2.1
         ],
         "xaxis": "x",
         "y": [
          111.1808121342741,
          34.41957345907906,
          37.487402280761046,
          46.10241613318025,
          97.9976846220374,
          66.56650843602229,
          112.71765423736227,
          73.22619792833754,
          63.06934008937631,
          43.46945749769226,
          151.68744168853635,
          25.51859385587946,
          120.5437725721441,
          66.37357007552679,
          112.61179001518576,
          79.49618210195186,
          105.8007593110934,
          114.62905454375368,
          78.38828221385015,
          100.68479617539695,
          108.71606242084158,
          201.6291825790677,
          139.77239994058223,
          116.16779682333126,
          26.582605418270425,
          51.29569223534643,
          46.07302540075532,
          71.29588619266866,
          53.590524579485496,
          67.82521376339787,
          169.0490682449786,
          251.18566949256808,
          160.36254835100075,
          71.06820776559933,
          43.82886241434014,
          54.46181217824122,
          47.91601843022182,
          54.430157440600155,
          82.71910827238698,
          123.03218766514196,
          146.9740285945219,
          196.580533208945,
          52.090543036982275,
          69.4357029171122,
          76.5052741013521,
          116.6952239240465,
          149.4102554001378,
          179.73964414716693,
          203.20458653599206,
          73.1144459994007,
          100.43377801024036,
          67.24021744634098,
          31.21251959624903,
          36.92622524548952,
          36.68646287971362,
          39.15665736694795,
          25.445890598117217,
          60.91017101844001,
          49.57356508739778,
          122.38091993332145,
          67.709224208618,
          87.27710133908596,
          41.68023372418671,
          46.24911850207575,
          49.63613857153732,
          144.02998602857502,
          95.29144609623182,
          111.41086504183991,
          104.57385169733516,
          52.448556986139685,
          58.60341301627583,
          61.052209492485176,
          68.55324458441258,
          56.63691296366753,
          37.412755815094755,
          32.2908352973646,
          54.16319267306462,
          61.69656152801204,
          55.95818344713486,
          112.93754500833951,
          124.2461462607218,
          92.13338642496167,
          116.00007973742578,
          40.13616433847385,
          150.19386058831415,
          50.61453917111155,
          71.46242449877923,
          60.066029657770486,
          66.33158356869545,
          69.93092877630374,
          62.32462410052898,
          81.20911917441929,
          79.92274128056624,
          147.43706123727793,
          164.39440217498793,
          49.34407825722557,
          47.01790601428931,
          49.07311164315218,
          34.472334154954325,
          31.549260947829076,
          56.104307725744206,
          58.4721593283463,
          30.14783555091573,
          76.46671518602636,
          64.24683281039204,
          35.07597660956214,
          34.219358095896666,
          62.05048036336929,
          130.87143318192702,
          130.10508395907235,
          71.46177735328928,
          59.084253641000686,
          31.551796754733033,
          31.551796754733033,
          31.551796754733033,
          31.551796754733033,
          68.09056828734995,
          143.8572176188423,
          153.56180510765495,
          39.740446891448585,
          123.60189885895595,
          39.93042288850457,
          71.3776261026264,
          82.09512037295289,
          66.09251125141638,
          45.345129703608855,
          31.69683674547776,
          60.55035092559473,
          96.98643923962666,
          80.3159822314798,
          42.641593875234875,
          28.218127140552774,
          68.3804609366376,
          28.07413122326347,
          36.223149906104986,
          31.91752257856364,
          36.83920427423678,
          31.0901068596868,
          67.37975053220134,
          83.26657243524616,
          67.09499849437694,
          75.71199417454059,
          129.34623039972018,
          69.54069084502589,
          69.54069084502589,
          69.54069084502589,
          69.54069084502589,
          72.26321741426705,
          86.17711094770792,
          83.2405265397802,
          124.40635022326722,
          32.2387072228796,
          53.567443298366264,
          25.383947448911762,
          82.6705720569863,
          31.209578471101423
         ],
         "yaxis": "y"
        }
       ],
       "layout": {
        "legend": {
         "title": {
          "text": "Direction_Correct"
         },
         "tracegroupgap": 0
        },
        "margin": {
         "t": 60
        },
        "shapes": [
         {
          "line": {
           "dash": "dash"
          },
          "type": "line",
          "x0": -0.2,
          "x1": 391.3,
          "y0": -0.2,
          "y1": 391.3
         }
        ],
        "showlegend": false,
        "template": {
         "data": {
          "bar": [
           {
            "error_x": {
             "color": "#2a3f5f"
            },
            "error_y": {
             "color": "#2a3f5f"
            },
            "marker": {
             "line": {
              "color": "#E5ECF6",
              "width": 0.5
             },
             "pattern": {
              "fillmode": "overlay",
              "size": 10,
              "solidity": 0.2
             }
            },
            "type": "bar"
           }
          ],
          "barpolar": [
           {
            "marker": {
             "line": {
              "color": "#E5ECF6",
              "width": 0.5
             },
             "pattern": {
              "fillmode": "overlay",
              "size": 10,
              "solidity": 0.2
             }
            },
            "type": "barpolar"
           }
          ],
          "carpet": [
           {
            "aaxis": {
             "endlinecolor": "#2a3f5f",
             "gridcolor": "white",
             "linecolor": "white",
             "minorgridcolor": "white",
             "startlinecolor": "#2a3f5f"
            },
            "baxis": {
             "endlinecolor": "#2a3f5f",
             "gridcolor": "white",
             "linecolor": "white",
             "minorgridcolor": "white",
             "startlinecolor": "#2a3f5f"
            },
            "type": "carpet"
           }
          ],
          "choropleth": [
           {
            "colorbar": {
             "outlinewidth": 0,
             "ticks": ""
            },
            "type": "choropleth"
           }
          ],
          "contour": [
           {
            "colorbar": {
             "outlinewidth": 0,
             "ticks": ""
            },
            "colorscale": [
             [
              0,
              "#0d0887"
             ],
             [
              0.1111111111111111,
              "#46039f"
             ],
             [
              0.2222222222222222,
              "#7201a8"
             ],
             [
              0.3333333333333333,
              "#9c179e"
             ],
             [
              0.4444444444444444,
              "#bd3786"
             ],
             [
              0.5555555555555556,
              "#d8576b"
             ],
             [
              0.6666666666666666,
              "#ed7953"
             ],
             [
              0.7777777777777778,
              "#fb9f3a"
             ],
             [
              0.8888888888888888,
              "#fdca26"
             ],
             [
              1,
              "#f0f921"
             ]
            ],
            "type": "contour"
           }
          ],
          "contourcarpet": [
           {
            "colorbar": {
             "outlinewidth": 0,
             "ticks": ""
            },
            "type": "contourcarpet"
           }
          ],
          "heatmap": [
           {
            "colorbar": {
             "outlinewidth": 0,
             "ticks": ""
            },
            "colorscale": [
             [
              0,
              "#0d0887"
             ],
             [
              0.1111111111111111,
              "#46039f"
             ],
             [
              0.2222222222222222,
              "#7201a8"
             ],
             [
              0.3333333333333333,
              "#9c179e"
             ],
             [
              0.4444444444444444,
              "#bd3786"
             ],
             [
              0.5555555555555556,
              "#d8576b"
             ],
             [
              0.6666666666666666,
              "#ed7953"
             ],
             [
              0.7777777777777778,
              "#fb9f3a"
             ],
             [
              0.8888888888888888,
              "#fdca26"
             ],
             [
              1,
              "#f0f921"
             ]
            ],
            "type": "heatmap"
           }
          ],
          "heatmapgl": [
           {
            "colorbar": {
             "outlinewidth": 0,
             "ticks": ""
            },
            "colorscale": [
             [
              0,
              "#0d0887"
             ],
             [
              0.1111111111111111,
              "#46039f"
             ],
             [
              0.2222222222222222,
              "#7201a8"
             ],
             [
              0.3333333333333333,
              "#9c179e"
             ],
             [
              0.4444444444444444,
              "#bd3786"
             ],
             [
              0.5555555555555556,
              "#d8576b"
             ],
             [
              0.6666666666666666,
              "#ed7953"
             ],
             [
              0.7777777777777778,
              "#fb9f3a"
             ],
             [
              0.8888888888888888,
              "#fdca26"
             ],
             [
              1,
              "#f0f921"
             ]
            ],
            "type": "heatmapgl"
           }
          ],
          "histogram": [
           {
            "marker": {
             "pattern": {
              "fillmode": "overlay",
              "size": 10,
              "solidity": 0.2
             }
            },
            "type": "histogram"
           }
          ],
          "histogram2d": [
           {
            "colorbar": {
             "outlinewidth": 0,
             "ticks": ""
            },
            "colorscale": [
             [
              0,
              "#0d0887"
             ],
             [
              0.1111111111111111,
              "#46039f"
             ],
             [
              0.2222222222222222,
              "#7201a8"
             ],
             [
              0.3333333333333333,
              "#9c179e"
             ],
             [
              0.4444444444444444,
              "#bd3786"
             ],
             [
              0.5555555555555556,
              "#d8576b"
             ],
             [
              0.6666666666666666,
              "#ed7953"
             ],
             [
              0.7777777777777778,
              "#fb9f3a"
             ],
             [
              0.8888888888888888,
              "#fdca26"
             ],
             [
              1,
              "#f0f921"
             ]
            ],
            "type": "histogram2d"
           }
          ],
          "histogram2dcontour": [
           {
            "colorbar": {
             "outlinewidth": 0,
             "ticks": ""
            },
            "colorscale": [
             [
              0,
              "#0d0887"
             ],
             [
              0.1111111111111111,
              "#46039f"
             ],
             [
              0.2222222222222222,
              "#7201a8"
             ],
             [
              0.3333333333333333,
              "#9c179e"
             ],
             [
              0.4444444444444444,
              "#bd3786"
             ],
             [
              0.5555555555555556,
              "#d8576b"
             ],
             [
              0.6666666666666666,
              "#ed7953"
             ],
             [
              0.7777777777777778,
              "#fb9f3a"
             ],
             [
              0.8888888888888888,
              "#fdca26"
             ],
             [
              1,
              "#f0f921"
             ]
            ],
            "type": "histogram2dcontour"
           }
          ],
          "mesh3d": [
           {
            "colorbar": {
             "outlinewidth": 0,
             "ticks": ""
            },
            "type": "mesh3d"
           }
          ],
          "parcoords": [
           {
            "line": {
             "colorbar": {
              "outlinewidth": 0,
              "ticks": ""
             }
            },
            "type": "parcoords"
           }
          ],
          "pie": [
           {
            "automargin": true,
            "type": "pie"
           }
          ],
          "scatter": [
           {
            "fillpattern": {
             "fillmode": "overlay",
             "size": 10,
             "solidity": 0.2
            },
            "type": "scatter"
           }
          ],
          "scatter3d": [
           {
            "line": {
             "colorbar": {
              "outlinewidth": 0,
              "ticks": ""
             }
            },
            "marker": {
             "colorbar": {
              "outlinewidth": 0,
              "ticks": ""
             }
            },
            "type": "scatter3d"
           }
          ],
          "scattercarpet": [
           {
            "marker": {
             "colorbar": {
              "outlinewidth": 0,
              "ticks": ""
             }
            },
            "type": "scattercarpet"
           }
          ],
          "scattergeo": [
           {
            "marker": {
             "colorbar": {
              "outlinewidth": 0,
              "ticks": ""
             }
            },
            "type": "scattergeo"
           }
          ],
          "scattergl": [
           {
            "marker": {
             "colorbar": {
              "outlinewidth": 0,
              "ticks": ""
             }
            },
            "type": "scattergl"
           }
          ],
          "scattermapbox": [
           {
            "marker": {
             "colorbar": {
              "outlinewidth": 0,
              "ticks": ""
             }
            },
            "type": "scattermapbox"
           }
          ],
          "scatterpolar": [
           {
            "marker": {
             "colorbar": {
              "outlinewidth": 0,
              "ticks": ""
             }
            },
            "type": "scatterpolar"
           }
          ],
          "scatterpolargl": [
           {
            "marker": {
             "colorbar": {
              "outlinewidth": 0,
              "ticks": ""
             }
            },
            "type": "scatterpolargl"
           }
          ],
          "scatterternary": [
           {
            "marker": {
             "colorbar": {
              "outlinewidth": 0,
              "ticks": ""
             }
            },
            "type": "scatterternary"
           }
          ],
          "surface": [
           {
            "colorbar": {
             "outlinewidth": 0,
             "ticks": ""
            },
            "colorscale": [
             [
              0,
              "#0d0887"
             ],
             [
              0.1111111111111111,
              "#46039f"
             ],
             [
              0.2222222222222222,
              "#7201a8"
             ],
             [
              0.3333333333333333,
              "#9c179e"
             ],
             [
              0.4444444444444444,
              "#bd3786"
             ],
             [
              0.5555555555555556,
              "#d8576b"
             ],
             [
              0.6666666666666666,
              "#ed7953"
             ],
             [
              0.7777777777777778,
              "#fb9f3a"
             ],
             [
              0.8888888888888888,
              "#fdca26"
             ],
             [
              1,
              "#f0f921"
             ]
            ],
            "type": "surface"
           }
          ],
          "table": [
           {
            "cells": {
             "fill": {
              "color": "#EBF0F8"
             },
             "line": {
              "color": "white"
             }
            },
            "header": {
             "fill": {
              "color": "#C8D4E3"
             },
             "line": {
              "color": "white"
             }
            },
            "type": "table"
           }
          ]
         },
         "layout": {
          "annotationdefaults": {
           "arrowcolor": "#2a3f5f",
           "arrowhead": 0,
           "arrowwidth": 1
          },
          "autotypenumbers": "strict",
          "coloraxis": {
           "colorbar": {
            "outlinewidth": 0,
            "ticks": ""
           }
          },
          "colorscale": {
           "diverging": [
            [
             0,
             "#8e0152"
            ],
            [
             0.1,
             "#c51b7d"
            ],
            [
             0.2,
             "#de77ae"
            ],
            [
             0.3,
             "#f1b6da"
            ],
            [
             0.4,
             "#fde0ef"
            ],
            [
             0.5,
             "#f7f7f7"
            ],
            [
             0.6,
             "#e6f5d0"
            ],
            [
             0.7,
             "#b8e186"
            ],
            [
             0.8,
             "#7fbc41"
            ],
            [
             0.9,
             "#4d9221"
            ],
            [
             1,
             "#276419"
            ]
           ],
           "sequential": [
            [
             0,
             "#0d0887"
            ],
            [
             0.1111111111111111,
             "#46039f"
            ],
            [
             0.2222222222222222,
             "#7201a8"
            ],
            [
             0.3333333333333333,
             "#9c179e"
            ],
            [
             0.4444444444444444,
             "#bd3786"
            ],
            [
             0.5555555555555556,
             "#d8576b"
            ],
            [
             0.6666666666666666,
             "#ed7953"
            ],
            [
             0.7777777777777778,
             "#fb9f3a"
            ],
            [
             0.8888888888888888,
             "#fdca26"
            ],
            [
             1,
             "#f0f921"
            ]
           ],
           "sequentialminus": [
            [
             0,
             "#0d0887"
            ],
            [
             0.1111111111111111,
             "#46039f"
            ],
            [
             0.2222222222222222,
             "#7201a8"
            ],
            [
             0.3333333333333333,
             "#9c179e"
            ],
            [
             0.4444444444444444,
             "#bd3786"
            ],
            [
             0.5555555555555556,
             "#d8576b"
            ],
            [
             0.6666666666666666,
             "#ed7953"
            ],
            [
             0.7777777777777778,
             "#fb9f3a"
            ],
            [
             0.8888888888888888,
             "#fdca26"
            ],
            [
             1,
             "#f0f921"
            ]
           ]
          },
          "colorway": [
           "#636efa",
           "#EF553B",
           "#00cc96",
           "#ab63fa",
           "#FFA15A",
           "#19d3f3",
           "#FF6692",
           "#B6E880",
           "#FF97FF",
           "#FECB52"
          ],
          "font": {
           "color": "#2a3f5f"
          },
          "geo": {
           "bgcolor": "white",
           "lakecolor": "white",
           "landcolor": "#E5ECF6",
           "showlakes": true,
           "showland": true,
           "subunitcolor": "white"
          },
          "hoverlabel": {
           "align": "left"
          },
          "hovermode": "closest",
          "mapbox": {
           "style": "light"
          },
          "paper_bgcolor": "white",
          "plot_bgcolor": "#E5ECF6",
          "polar": {
           "angularaxis": {
            "gridcolor": "white",
            "linecolor": "white",
            "ticks": ""
           },
           "bgcolor": "#E5ECF6",
           "radialaxis": {
            "gridcolor": "white",
            "linecolor": "white",
            "ticks": ""
           }
          },
          "scene": {
           "xaxis": {
            "backgroundcolor": "#E5ECF6",
            "gridcolor": "white",
            "gridwidth": 2,
            "linecolor": "white",
            "showbackground": true,
            "ticks": "",
            "zerolinecolor": "white"
           },
           "yaxis": {
            "backgroundcolor": "#E5ECF6",
            "gridcolor": "white",
            "gridwidth": 2,
            "linecolor": "white",
            "showbackground": true,
            "ticks": "",
            "zerolinecolor": "white"
           },
           "zaxis": {
            "backgroundcolor": "#E5ECF6",
            "gridcolor": "white",
            "gridwidth": 2,
            "linecolor": "white",
            "showbackground": true,
            "ticks": "",
            "zerolinecolor": "white"
           }
          },
          "shapedefaults": {
           "line": {
            "color": "#2a3f5f"
           }
          },
          "ternary": {
           "aaxis": {
            "gridcolor": "white",
            "linecolor": "white",
            "ticks": ""
           },
           "baxis": {
            "gridcolor": "white",
            "linecolor": "white",
            "ticks": ""
           },
           "bgcolor": "#E5ECF6",
           "caxis": {
            "gridcolor": "white",
            "linecolor": "white",
            "ticks": ""
           }
          },
          "title": {
           "x": 0.05
          },
          "xaxis": {
           "automargin": true,
           "gridcolor": "white",
           "linecolor": "white",
           "ticks": "",
           "title": {
            "standoff": 15
           },
           "zerolinecolor": "white",
           "zerolinewidth": 2
          },
          "yaxis": {
           "automargin": true,
           "gridcolor": "white",
           "linecolor": "white",
           "ticks": "",
           "title": {
            "standoff": 15
           },
           "zerolinecolor": "white",
           "zerolinewidth": 2
          }
         }
        },
        "title": {
         "text": "Actual vs Predicted Fantasy Production (MLR Generalized - New Metric)"
        },
        "xaxis": {
         "anchor": "y",
         "domain": [
          0,
          1
         ],
         "title": {
          "text": "Actual Fantasy Production"
         }
        },
        "yaxis": {
         "anchor": "x",
         "domain": [
          0,
          1
         ],
         "title": {
          "text": "Predicted Fantasy Production"
         }
        }
       }
      },
      "text/html": [
       "<div>                            <div id=\"708652a3-52d8-4857-b943-18fb134a89a7\" class=\"plotly-graph-div\" style=\"height:525px; width:100%;\"></div>            <script type=\"text/javascript\">                require([\"plotly\"], function(Plotly) {                    window.PLOTLYENV=window.PLOTLYENV || {};                                    if (document.getElementById(\"708652a3-52d8-4857-b943-18fb134a89a7\")) {                    Plotly.newPlot(                        \"708652a3-52d8-4857-b943-18fb134a89a7\",                        [{\"customdata\":[[\"Adrian Peterson\",2021,124.5],[\"Mark Ingram\",2021,52.9],[\"Brandon Bolden\",2022,124.1],[\"Kyle Juszczyk\",2021,81.6],[\"Rex Burkhead\",2022,104.3],[\"Giovani Bernard\",2021,158.10000000000002],[\"Kenjon Barner\",2021,0.0],[\"Le'Veon Bell\",2021,74.60000000000001],[\"Latavius Murray\",2021,136.20000000000002],[\"Latavius Murray\",2023,154.2],[\"Cordarrelle Patterson\",2021,69.4],[\"Cordarrelle Patterson\",2022,234.60000000000002],[\"Cordarrelle Patterson\",2023,154.70000000000002],[\"Keith Smith\",2021,17.6],[\"Keith Smith\",2023,2.0],[\"Carlos Hyde\",2021,84.9],[\"Devonta Freeman\",2021,36.00000000000001],[\"Jerick McKinnon\",2021,126.2],[\"Jerick McKinnon\",2022,35.9],[\"Jerick McKinnon\",2023,196.3],[\"Michael Burton\",2021,8.6],[\"Michael Burton\",2023,3.8],[\"Raheem Mostert\",2021,99.7],[\"Raheem Mostert\",2022,2.0],[\"Malcolm Brown\",2021,109.1],[\"Malcolm Brown\",2022,22.5],[\"Tevin Coleman\",2021,12.700000000000001],[\"Mike Davis\",2021,206.5],[\"Mike Davis\",2022,138.2],[\"Ameer Abdullah\",2021,30.0],[\"Melvin Gordon\",2021,198.4],[\"Melvin Gordon\",2022,195.1],[\"David Johnson\",2021,179.5],[\"Ty Montgomery\",2021,15.8],[\"Duke Johnson\",2022,59.10000000000001],[\"Alex Collins\",2021,21.1],[\"Dwayne Washington\",2021,1.5],[\"Dwayne Washington\",2022,4.8],[\"Peyton Barber\",2021,55.0],[\"Derrick Henry\",2021,333.1],[\"Derrick Henry\",2023,302.76],[\"Jordan Howard\",2022,62.5],[\"Elijhaa Penny\",2021,5.5],[\"Derek Watt\",2022,4.6],[\"C.J. Ham\",2021,25.5],[\"Andy Janovich\",2021,3.6999999999999997],[\"Jonathan Williams\",2021,4.6],[\"Jonathan Williams\",2022,20.7],[\"Ezekiel Elliott\",2022,252.06],[\"Ezekiel Elliott\",2023,185.8],[\"Kenyan Drake\",2021,192.2],[\"Kenyan Drake\",2022,102.5],[\"Kenyan Drake\",2023,104.10000000000001],[\"Christian McCaffrey\",2021,90.4],[\"Christian McCaffrey\",2022,127.5],[\"Aaron Jones\",2021,258.90000000000003],[\"Aaron Jones\",2023,248.60000000000002],[\"Alex Armah\",2021,7.7],[\"Matt Breida\",2021,42.0],[\"Matt Breida\",2022,42.699999999999996],[\"Patrick Ricard\",2021,17.4],[\"Samaje Perine\",2023,142.1],[\"James Conner\",2022,257.7],[\"Chris Carson\",2021,187.8],[\"Austin Ekeler\",2021,165.3],[\"Austin Ekeler\",2023,372.7],[\"Corey Clement\",2021,21.0],[\"Dare Ogunbowale\",2021,29.9],[\"Leonard Fournette\",2022,255.60000000000002],[\"Leonard Fournette\",2023,226.1],[\"Dalvin Cook\",2021,337.8],[\"Dalvin Cook\",2023,237.8],[\"Joe Mixon\",2021,99.60000000000001],[\"Joe Mixon\",2022,287.9],[\"Alvin Kamara\",2021,377.8],[\"Alvin Kamara\",2022,234.70000000000002],[\"Kareem Hunt\",2021,218.5],[\"Kareem Hunt\",2022,110.0],[\"Kareem Hunt\",2023,126.8],[\"D'Onta Foreman\",2021,17.0],[\"D'Onta Foreman\",2023,131.0],[\"Jamaal Williams\",2021,127.10000000000001],[\"Jamaal Williams\",2023,225.9],[\"Wayne Gallman\",2021,136.6],[\"Marlon Mack\",2021,8.600000000000001],[\"Marlon Mack\",2022,12.9],[\"Jeremy McNichols\",2021,43.9],[\"Phillip Lindsay\",2022,45.4],[\"Jeff Wilson\",2021,142.3],[\"Jeff Wilson\",2021,142.3],[\"Jeffery Wilson\",2021,142.3],[\"Jeffery Wilson\",2021,142.3],[\"Jeff Wilson\",2022,51.5],[\"Jeff Wilson\",2022,51.5],[\"Jeffery Wilson\",2022,51.5],[\"Jeffery Wilson\",2022,51.5],[\"Jeff Wilson\",2023,158.5],[\"Jeff Wilson\",2023,158.5],[\"Jeffery Wilson\",2023,158.5],[\"Jeffery Wilson\",2023,158.5],[\"Jason Cabinda\",2021,2.8],[\"Mike Boone\",2022,7.7],[\"Dontrell Hilliard\",2021,6.0],[\"Dontrell Hilliard\",2022,72.7],[\"Darrel Williams\",2021,54.5],[\"Darrel Williams\",2022,196.0],[\"Nyheim Hines\",2021,193.2],[\"Boston Scott\",2022,98.6],[\"Boston Scott\",2023,46.2],[\"Justin Jackson\",2021,65.3],[\"Justin Jackson\",2022,86.20000000000002],[\"Chase Edmonds\",2021,168.0],[\"Chase Edmonds\",2023,74.2],[\"Rashaad Penny\",2021,3.4000000000000004],[\"Rashaad Penny\",2022,121.7],[\"Rashaad Penny\",2023,52.2],[\"Nick Chubb\",2023,281.4],[\"Ronald Jones\",2021,186.3],[\"Ronald Jones\",2022,79.2],[\"Royce Freeman\",2023,19.0],[\"Saquon Barkley\",2021,15.400000000000002],[\"Saquon Barkley\",2022,148.6],[\"Saquon Barkley\",2023,284.0],[\"Sony Michel\",2022,146.3],[\"Andrew Beck\",2023,11.9],[\"Alexander Mattison\",2022,125.9],[\"Justice Hill\",2023,42.0],[\"Khari Blasingame\",2023,0.0],[\"Alec Ingold\",2022,24.6],[\"Devine Ozigbo\",2022,1.4],[\"Devine Ozigbo\",2023,1.7],[\"Austin Walter\",2021,4.0],[\"Benny Snell\",2021,74.9],[\"Benny Snell\",2022,13.100000000000001],[\"Miles Sanders\",2021,170.4],[\"Miles Sanders\",2023,216.70000000000002],[\"Devin Singletary\",2022,197.8],[\"Devin Singletary\",2023,177.9],[\"Tony Pollard\",2023,248.8],[\"Trayveon Williams\",2022,6.5],[\"Trayveon Williams\",2023,8.0],[\"Myles Gaskin\",2022,173.6],[\"Ty Johnson\",2021,63.300000000000004],[\"Ty Johnson\",2022,117.00000000000001],[\"Craig Reynolds\",2021,1.7000000000000002],[\"Craig Reynolds\",2023,30.8],[\"Travis Homer\",2021,32.8],[\"D'Ernest Johnson\",2021,21.0],[\"D'Ernest Johnson\",2022,104.10000000000001],[\"D'Ernest Johnson\",2023,5.4],[\"Damien Harris\",2022,210.1],[\"Damien Harris\",2023,90.9],[\"Darrell Henderson\",2022,163.4],[\"David Montgomery\",2021,264.8],[\"David Montgomery\",2022,195.0],[\"Josh Jacobs\",2021,231.3],[\"Josh Jacobs\",2023,328.3],[\"Jamycal Hasty\",2021,31.1],[\"Jamycal Hasty\",2022,51.5],[\"Jamycal Hasty\",2023,70.0],[\"James Robinson\",2021,250.4],[\"James Robinson\",2022,173.9],[\"James Robinson\",2023,88.6],[\"Tony Jones\",2021,1.3],[\"Tony Jones\",2023,10.4],[\"Jonathan Ward\",2021,8.1],[\"Giovanni Ricci\",2022,0.0],[\"Patrick Taylor\",2023,5.800000000000001],[\"Salvon Ahmed\",2023,14.200000000000001],[\"Scottie Phillips\",2021,2.6],[\"J.J. Taylor\",2021,12.4],[\"Reggie Gilliam\",2022,5.6],[\"Jonathan Taylor\",2022,373.1],[\"Zack Moss\",2022,105.2],[\"A.J. Dillon\",2022,185.6],[\"A.J. Dillon\",2022,185.6],[\"AJ Dillon\",2022,185.6],[\"AJ Dillon\",2022,185.6],[\"A.J. Dillon\",2023,167.6],[\"A.J. Dillon\",2023,167.6],[\"AJ Dillon\",2023,167.6],[\"AJ Dillon\",2023,167.6],[\"D'Andre Swift\",2022,208.9],[\"Jason Huntley\",2021,2.9000000000000004],[\"Darrynton Evans\",2022,3.8],[\"Darrynton Evans\",2023,10.700000000000001],[\"Antonio Gibson\",2022,229.10000000000002],[\"Antonio Gibson\",2023,165.9],[\"Clyde Edwards-Helaire\",2021,176.0],[\"Clyde Edwards-Helaire\",2022,117.6],[\"Clyde Edwards-Helaire\",2023,98.3],[\"Joshua Kelley\",2021,81.2],[\"Joshua Kelley\",2022,17.0],[\"Eno Benjamin\",2022,28.0],[\"Cam Akers\",2021,101.80000000000001],[\"Cam Akers\",2022,4.3],[\"Cam Akers\",2023,141.3],[\"DeeJay Dallas\",2021,56.900000000000006],[\"Ke'Shawn Vaughn\",2021,23.3],[\"Deon Jackson\",2022,9.100000000000001],[\"Chuba Hubbard\",2022,137.6],[\"Elijah Mitchell\",2022,165.0],[\"Gary Brightwell\",2022,2.0],[\"Jaret Patterson\",2022,55.900000000000006],[\"Rhamondre Stevenson\",2023,249.10000000000002],[\"Najee Harris\",2022,300.7],[\"Najee Harris\",2023,223.46],[\"Khalil Herbert\",2023,117.80000000000001],[\"Kenneth Gainwell\",2022,123.4],[\"Michael Carter\",2022,154.4],[\"Michael Carter\",2023,126.0],[\"Javonte Williams\",2022,204.9],[\"Javonte Williams\",2023,42.0],[\"Dameon Pierce\",2023,166.4],[\"Tyler Allgeier\",2023,159.4],[\"Jerome Ford\",2023,1.2000000000000002],[\"Ty Chandler\",2023,2.0],[\"Kevin Harris\",2023,11.2],[\"Ronnie Rivers\",2023,10.0],[\"Kyren Williams\",2023,30.5],[\"Zamir White\",2023,7.000000000000001],[\"Isaiah Spiller\",2023,8.4],[\"Pierre Strong\",2023,27.2],[\"Breece Hall\",2023,115.10000000000001],[\"Kenneth Walker\",2023,202.5]],\"hovertemplate\":\"Direction_Correct=True\\u003cbr\\u003eActual=%{x}\\u003cbr\\u003ePredicted=%{y}\\u003cbr\\u003ePlayer_Name=%{customdata[0]}\\u003cbr\\u003eCurrent_Season=%{customdata[1]}\\u003cbr\\u003ePrevious_Season_Fantasy=%{customdata[2]}\\u003cextra\\u003e\\u003c\\u002fextra\\u003e\",\"legendgroup\":\"True\",\"marker\":{\"color\":\"green\",\"symbol\":\"circle\"},\"mode\":\"markers\",\"name\":\"True\",\"orientation\":\"v\",\"showlegend\":true,\"x\":[26.6,108.60000000000001,27.3,73.8,71.4,59.1,0.0,38.1,103.60000000000001,82.9,234.60000000000002,154.70000000000002,36.900000000000006,17.7,6.300000000000001,45.800000000000004,146.6,35.9,196.3,84.36,14.700000000000001,6.7,2.0,168.3,22.5,22.8,51.5,138.2,4.2,89.5,195.1,87.1,81.3,29.9,0.4,68.8,4.8,5.5,49.900000000000006,193.3,246.66000000000003,0.1,35.9,20.2,32.9,11.9,20.7,26.200000000000003,185.8,174.5,102.5,104.10000000000001,3.1,127.5,356.36,229.0,134.9,9.2,42.699999999999996,59.8,20.7,121.30000000000001,200.2,48.1,343.8,185.4,28.9,50.1,226.1,4.0,206.3,40.2,287.9,239.5,234.70000000000002,211.7,110.0,126.8,118.5,93.9,91.2,119.8,60.800000000000004,13.500000000000002,12.9,38.300000000000004,73.60000000000001,14.8,51.5,51.5,51.5,51.5,158.5,158.5,158.5,158.5,41.300000000000004,41.300000000000004,41.300000000000004,41.300000000000004,13.899999999999999,28.800000000000004,72.7,77.2,196.0,21.1,116.60000000000001,46.2,17.8,86.20000000000002,51.1,143.3,39.7,121.7,52.2,4.800000000000001,23.1,79.2,16.2,46.2,148.6,284.0,223.20000000000002,24.900000000000002,38.8,88.4,109.30000000000001,5.8,38.3,1.7,2.3,19.0,13.100000000000001,18.7,117.20000000000002,87.60000000000001,177.9,167.34,222.60000000000002,8.0,14.9,9.4,117.00000000000001,42.800000000000004,35.2,31.599999999999998,61.8,104.10000000000001,5.4,34.800000000000004,90.9,19.0,73.5,195.0,177.70000000000002,226.0,181.1,51.5,70.0,0.0,173.9,88.6,1.0,22.1,32.2,9.7,18.0,30.0,42.9,4.2,18.5,20.9,146.4,64.5,167.6,167.6,167.6,167.6,117.60000000000001,117.60000000000001,117.60000000000001,117.60000000000001,191.1,5.1000000000000005,10.700000000000001,30.0,165.9,127.4,117.6,98.3,70.10000000000001,17.0,64.80000000000001,89.60000000000001,4.3,141.3,46.7,60.1,36.6,84.5,89.7,43.6,29.0,7.800000000000001,145.70000000000002,223.46,195.5,112.5,87.9,126.0,58.8,42.0,179.2,82.7,137.6,213.20000000000002,101.0,21.3,20.1,255.0,73.9,19.0,42.800000000000004,290.5,199.4],\"xaxis\":\"x\",\"y\":[74.10454770284049,53.30678102573483,110.26312936509794,69.43718642431547,100.98145891265766,135.105940185717,28.91206423194584,70.34689069699375,91.5118769505533,114.3475940581773,71.8795168781252,164.49058919077413,116.13706940716729,45.23686398991616,52.54834104834329,79.45780865651831,68.20843042956048,116.86267021107759,63.67339707486306,134.50058435043803,32.23389532991431,25.584358736244837,87.60432957581683,17.10327078156179,85.00156140663478,37.17754531927308,40.259167713728075,173.39167124369598,131.55247092198215,46.968995405853555,129.8839886776599,120.97977841262696,137.32661321844336,50.53727269445858,51.929891057852394,32.34857033725293,18.315077123125207,30.3206005243291,46.0141627117183,141.7154675755782,166.49767560885414,53.79641761021521,28.578455832572182,28.104260028024598,45.92217959981725,32.62952964482732,71.25540979893442,43.59681442266547,155.8689430228688,102.41863809040322,113.8043666357684,103.54215919006288,90.6417120553249,129.98407398318037,171.2179654810496,172.82475335130914,174.73176421040483,33.98255962862321,52.413317227408896,46.61279465359089,54.138446568378136,110.78196953439316,127.74618736735269,135.84452131231274,170.93471447215882,232.6190010567803,35.124083441597364,72.24058746731097,182.20397478841932,172.15034378028605,176.70239340565973,144.273122882892,113.65854142307269,157.09610262157315,240.00196267227773,208.66615780287697,143.73848820517094,110.55291541068064,112.03027290247937,26.392340630921915,72.89137049304252,105.73322334804715,94.57136839888761,95.10645638529455,55.83529891351034,44.493028651200845,56.033236421813456,43.27364513459259,94.71102442778862,94.71102442778862,94.71102442778862,94.71102442778862,63.499153021456,63.499153021456,63.499153021456,63.499153021456,111.81570836713998,111.81570836713998,111.81570836713998,111.81570836713998,31.922354169146033,31.21287104290677,28.763131521957575,107.44308417535595,64.90453835064673,129.57152895727938,159.4849753243256,80.73837864414551,39.27476322441276,87.1174514360185,74.33833140362387,144.36329097676747,72.90822705134991,18.920980293906894,60.71987587759171,47.63670869554036,135.7423472190081,120.60424915700591,55.051926639469656,59.63663075098496,97.06823055227143,150.67343068463197,205.80065148398972,104.08012986658181,46.07716775990084,104.8075927085585,51.632989889244115,35.92462692957564,52.013861245090474,35.55652964840047,22.988978766827643,28.858004358298565,58.11223577408502,29.675149336765912,138.1813296969192,111.46700830402534,126.62984475399176,131.18182637723632,146.430731824164,36.98493985677168,34.195265071875696,145.6777029744491,79.87348946550561,113.42701142483038,33.39302546576602,54.87555075213899,45.17985259666398,34.315063237802434,89.01463994429568,35.90831210162827,95.69072316630292,89.60463533661684,120.99153525162305,173.14874795597174,160.23361861161555,147.05136479796224,186.0261048924928,49.21125445522758,93.69824324418063,69.14038845745787,161.8457168111554,123.59867745006898,67.20323226262391,17.305238505155685,58.86646106635613,35.60921709973038,34.94369989787422,23.90192592535825,22.76408151244165,32.86751661537032,29.1591634825067,32.59832912855746,166.14901950583624,90.46443432726305,114.57323984721941,114.57323984721941,114.57323984721941,114.57323984721941,118.16761776365395,118.16761776365395,118.16761776365395,118.16761776365395,188.99803886664452,27.835958429477515,55.96904405720555,28.522159551184146,155.74277085644684,146.7562920526548,139.55733075216588,87.33126636970523,75.89119458667322,79.80700259406952,38.93804863354583,45.61085909479032,76.27131395043035,75.56205652725829,87.21773037227611,73.19277928661674,52.14387295396473,19.3249157410947,106.34162441165967,107.7299985968252,25.68476534500116,51.50109473660168,200.1634263276889,211.42128479310782,156.16669227334933,71.48059875011505,117.3221527076594,135.65146269383897,123.65959275071873,143.51272523093976,129.02726072457259,132.84795021323794,94.66030652656893,18.315077123125207,17.911141675937387,20.33475435906422,51.91926715908254,62.67022297511622,20.13278663547031,29.423389257758345,53.90414486518141,124.53012058171674,118.17510815973054],\"yaxis\":\"y\",\"type\":\"scatter\"},{\"customdata\":[[\"Mark Ingram\",2022,108.60000000000001],[\"Nick Bellore\",2021,2.4000000000000004],[\"Nick Bellore\",2022,1.4],[\"Brandon Bolden\",2023,27.3],[\"Kyle Juszczyk\",2022,73.8],[\"Kyle Juszczyk\",2023,53.6],[\"Rex Burkhead\",2021,107.6],[\"Giovani Bernard\",2022,59.1],[\"Latavius Murray\",2022,103.60000000000001],[\"Keith Smith\",2022,17.7],[\"James White\",2021,116.6],[\"Michael Burton\",2022,14.700000000000001],[\"Raheem Mostert\",2023,168.3],[\"Tevin Coleman\",2022,51.5],[\"Ameer Abdullah\",2022,89.5],[\"Ameer Abdullah\",2023,54.1],[\"Melvin Gordon\",2023,87.1],[\"David Johnson\",2022,81.3],[\"Ty Montgomery\",2022,29.9],[\"Ty Montgomery\",2023,10.3],[\"Duke Johnson\",2021,84.4],[\"J.D. McKissic\",2021,191.4],[\"J.D. McKissic\",2022,127.9],[\"Derrick Henry\",2022,193.3],[\"Jordan Howard\",2021,30.700000000000003],[\"C.J. Ham\",2022,32.9],[\"C.J. Ham\",2023,31.299999999999997],[\"Devontae Booker\",2021,85.7],[\"Jonathan Williams\",2023,26.200000000000003],[\"Jalen Richard\",2021,51.1],[\"Ezekiel Elliott\",2021,223.70000000000002],[\"Christian McCaffrey\",2023,356.36],[\"Aaron Jones\",2022,229.0],[\"Matt Breida\",2023,59.8],[\"Cethan Carter\",2021,10.3],[\"Patrick Ricard\",2022,20.7],[\"Patrick Ricard\",2023,20.0],[\"Samaje Perine\",2021,65.7],[\"Samaje Perine\",2022,83.2],[\"James Conner\",2021,164.6],[\"James Conner\",2023,200.2],[\"Austin Ekeler\",2022,343.8],[\"Corey Clement\",2022,28.9],[\"Dare Ogunbowale\",2022,50.1],[\"Dare Ogunbowale\",2023,48.7],[\"Leonard Fournette\",2021,132.0],[\"Dalvin Cook\",2022,206.3],[\"Joe Mixon\",2023,239.5],[\"Alvin Kamara\",2023,211.7],[\"D'Onta Foreman\",2022,93.9],[\"Jamaal Williams\",2022,119.8],[\"Phillip Lindsay\",2021,66.0],[\"Trenton Cannon\",2021,7.9],[\"Jason Cabinda\",2022,13.899999999999999],[\"Jason Cabinda\",2023,1.9],[\"Gus Edwards\",2023,59.300000000000004],[\"Mike Boone\",2021,14.900000000000002],[\"Mike Boone\",2023,28.800000000000004],[\"Jaylen Samuels\",2021,16.400000000000002],[\"Nyheim Hines\",2022,116.60000000000001],[\"Ito Smith\",2021,57.3],[\"Boston Scott\",2021,95.60000000000001],[\"Buddy Howell\",2021,7.7],[\"Ryan Nall\",2021,20.7],[\"Godwin Igwebuike\",2022,26.800000000000004],[\"Chase Edmonds\",2022,143.3],[\"Nick Chubb\",2021,207.70000000000002],[\"Nick Chubb\",2022,215.3],[\"Kalen Ballage\",2021,93.9],[\"Royce Freeman\",2021,37.1],[\"Royce Freeman\",2022,34.6],[\"Sony Michel\",2021,75.30000000000001],[\"Alexander Mattison\",2021,86.9],[\"Alexander Mattison\",2023,88.4],[\"Khari Blasingame\",2021,7.9],[\"Khari Blasingame\",2022,1.0],[\"Alec Ingold\",2021,29.400000000000002],[\"Alec Ingold\",2023,38.3],[\"Devine Ozigbo\",2021,13.3],[\"Miles Sanders\",2022,117.20000000000002],[\"Devin Singletary\",2021,143.60000000000002],[\"Tony Pollard\",2021,120.80000000000001],[\"Tony Pollard\",2022,162.6],[\"Trayveon Williams\",2021,21.700000000000003],[\"Myles Gaskin\",2021,164.20000000000002],[\"Patrick Laird\",2021,22.0],[\"Ty Johnson\",2023,42.800000000000004],[\"Craig Reynolds\",2022,35.2],[\"Travis Homer\",2022,61.8],[\"Travis Homer\",2023,43.1],[\"Damien Harris\",2021,91.30000000000001],[\"Darrell Henderson\",2021,129.9],[\"Darrell Henderson\",2023,73.5],[\"David Montgomery\",2023,177.70000000000002],[\"Josh Jacobs\",2022,226.0],[\"Jakob Johnson\",2021,17.5],[\"Jakob Johnson\",2022,8.3],[\"Tony Jones\",2022,22.1],[\"Gabe Nabers\",2021,20.2],[\"Jonathan Ward\",2022,9.7],[\"Giovanni Ricci\",2023,18.0],[\"Rodney Smith\",2021,36.5],[\"Patrick Taylor\",2022,17.200000000000003],[\"Salvon Ahmed\",2021,69.0],[\"Salvon Ahmed\",2022,38.6],[\"J.J. Taylor\",2022,18.5],[\"Reggie Gilliam\",2021,9.6],[\"Reggie Gilliam\",2023,20.9],[\"Jonathan Taylor\",2021,252.8],[\"Jonathan Taylor\",2023,146.4],[\"Zack Moss\",2021,101.6],[\"Zack Moss\",2023,64.5],[\"A.J. Dillon\",2021,40.3],[\"A.J. Dillon\",2021,40.3],[\"AJ Dillon\",2021,40.3],[\"AJ Dillon\",2021,40.3],[\"La'Mical Perine\",2021,52.50000000000001],[\"D'Andre Swift\",2021,189.8],[\"D'Andre Swift\",2023,191.1],[\"Darrynton Evans\",2021,16.099999999999998],[\"Antonio Gibson\",2021,202.2],[\"Anthony McFarland\",2021,22.700000000000003],[\"Joshua Kelley\",2023,64.80000000000001],[\"DeeJay Dallas\",2022,60.1],[\"DeeJay Dallas\",2023,46.2],[\"Ke'Shawn Vaughn\",2022,36.6],[\"Ke'Shawn Vaughn\",2023,10.2],[\"Ty'Son Williams\",2022,41.9],[\"Deon Jackson\",2023,84.5],[\"Chuba Hubbard\",2023,89.7],[\"Elijah Mitchell\",2023,43.6],[\"Larry Rountree\",2022,15.600000000000001],[\"Demetric Felton\",2022,50.5],[\"Kylin Hill\",2022,3.9000000000000004],[\"Adam Prentice\",2022,5.1],[\"Adam Prentice\",2023,4.8],[\"Kene Nwangwu\",2022,23.0],[\"Kene Nwangwu\",2023,11.5],[\"Chris Evans\",2022,49.8],[\"Rhamondre Stevenson\",2022,114.9],[\"Khalil Herbert\",2022,78.9],[\"Kenneth Gainwell\",2023,87.9],[\"Travis Etienne\",2023,203.1],[\"Bam Knight\",2023,59.0],[\"Bam Knight\",2023,59.0],[\"Zonovan Knight\",2023,59.0],[\"Zonovan Knight\",2023,59.0],[\"Isiah Pacheco\",2023,135.0],[\"Jaylen Warren\",2023,93.3],[\"James Cook\",2023,105.7],[\"Rachaad White\",2023,141.1],[\"Keaontay Ingram\",2023,18.099999999999998],[\"Raheem Blackshear\",2023,45.0],[\"Jordan Mason\",2023,31.8],[\"Brian Robinson\",2023,112.7],[\"Tyrion Davis-Price\",2023,9.9]],\"hovertemplate\":\"Direction_Correct=False\\u003cbr\\u003eActual=%{x}\\u003cbr\\u003ePredicted=%{y}\\u003cbr\\u003ePlayer_Name=%{customdata[0]}\\u003cbr\\u003eCurrent_Season=%{customdata[1]}\\u003cbr\\u003ePrevious_Season_Fantasy=%{customdata[2]}\\u003cextra\\u003e\\u003c\\u002fextra\\u003e\",\"legendgroup\":\"False\",\"marker\":{\"color\":\"red\",\"symbol\":\"circle\"},\"mode\":\"markers\",\"name\":\"False\",\"orientation\":\"v\",\"showlegend\":true,\"x\":[50.1,1.4,0.30000000000000004,11.1,53.6,38.5,104.3,4.7,154.2,2.0,31.200000000000003,3.8,267.7,22.0,54.1,41.0,19.7,9.100000000000001,10.3,9.9,59.10000000000001,127.9,55.800000000000004,302.76,62.5,31.299999999999997,10.200000000000001,144.10000000000002,-0.2,23.2,252.06,391.3,248.60000000000002,46.9,3.6,20.0,16.2,83.2,142.1,257.7,201.5,372.7,21.9,48.7,7.300000000000001,255.60000000000002,237.8,267.0,233.0,131.0,225.9,45.4,0.4,1.9,0.0,187.0,7.7,13.3,5.3,81.4,6.4,98.6,1.1,1.7999999999999998,1.7000000000000002,74.2,215.3,281.4,6.4,34.6,19.0,146.3,125.9,133.20000000000002,1.0,0.0,24.6,24.9,1.4,216.70000000000002,197.8,162.6,248.8,6.5,173.6,5.1,32.4,30.8,43.1,0.0,210.1,163.4,43.5,207.2,328.3,8.3,6.0,10.4,5.5,5.2,1.2,9.8,5.800000000000001,38.6,14.200000000000001,2.7,5.6,1.3,373.1,156.4,105.2,169.6,185.6,185.6,185.6,185.6,3.1000000000000005,208.9,199.3,3.8,229.10000000000002,2.4,61.7,46.2,12.200000000000001,10.2,6.4,1.5,4.0,182.5,47.5,5.300000000000001,2.4,0.7000000000000001,4.8,2.4000000000000004,11.5,1.3,12.8,249.10000000000002,117.80000000000001,97.38,282.4,3.1,3.1,3.1,3.1,213.9,196.4,232.70000000000002,267.9,14.000000000000002,17.1,44.7,198.10000000000002,2.1],\"xaxis\":\"x\",\"y\":[111.1808121342741,34.41957345907906,37.487402280761046,46.10241613318025,97.9976846220374,66.56650843602229,112.71765423736227,73.22619792833754,63.06934008937631,43.46945749769226,151.68744168853635,25.51859385587946,120.5437725721441,66.37357007552679,112.61179001518576,79.49618210195186,105.8007593110934,114.62905454375368,78.38828221385015,100.68479617539695,108.71606242084158,201.6291825790677,139.77239994058223,116.16779682333126,26.582605418270425,51.29569223534643,46.07302540075532,71.29588619266866,53.590524579485496,67.82521376339787,169.0490682449786,251.18566949256808,160.36254835100075,71.06820776559933,43.82886241434014,54.46181217824122,47.91601843022182,54.430157440600155,82.71910827238698,123.03218766514196,146.9740285945219,196.580533208945,52.090543036982275,69.4357029171122,76.5052741013521,116.6952239240465,149.4102554001378,179.73964414716693,203.20458653599206,73.1144459994007,100.43377801024036,67.24021744634098,31.21251959624903,36.92622524548952,36.68646287971362,39.15665736694795,25.445890598117217,60.91017101844001,49.57356508739778,122.38091993332145,67.709224208618,87.27710133908596,41.68023372418671,46.24911850207575,49.63613857153732,144.02998602857502,95.29144609623182,111.41086504183991,104.57385169733516,52.448556986139685,58.60341301627583,61.052209492485176,68.55324458441258,56.63691296366753,37.412755815094755,32.2908352973646,54.16319267306462,61.69656152801204,55.95818344713486,112.93754500833951,124.2461462607218,92.13338642496167,116.00007973742578,40.13616433847385,150.19386058831415,50.61453917111155,71.46242449877923,60.066029657770486,66.33158356869545,69.93092877630374,62.32462410052898,81.20911917441929,79.92274128056624,147.43706123727793,164.39440217498793,49.34407825722557,47.01790601428931,49.07311164315218,34.472334154954325,31.549260947829076,56.104307725744206,58.4721593283463,30.14783555091573,76.46671518602636,64.24683281039204,35.07597660956214,34.219358095896666,62.05048036336929,130.87143318192702,130.10508395907235,71.46177735328928,59.084253641000686,31.551796754733033,31.551796754733033,31.551796754733033,31.551796754733033,68.09056828734995,143.8572176188423,153.56180510765495,39.740446891448585,123.60189885895595,39.93042288850457,71.3776261026264,82.09512037295289,66.09251125141638,45.345129703608855,31.69683674547776,60.55035092559473,96.98643923962666,80.3159822314798,42.641593875234875,28.218127140552774,68.3804609366376,28.07413122326347,36.223149906104986,31.91752257856364,36.83920427423678,31.0901068596868,67.37975053220134,83.26657243524616,67.09499849437694,75.71199417454059,129.34623039972018,69.54069084502589,69.54069084502589,69.54069084502589,69.54069084502589,72.26321741426705,86.17711094770792,83.2405265397802,124.40635022326722,32.2387072228796,53.567443298366264,25.383947448911762,82.6705720569863,31.209578471101423],\"yaxis\":\"y\",\"type\":\"scatter\"}],                        {\"template\":{\"data\":{\"histogram2dcontour\":[{\"type\":\"histogram2dcontour\",\"colorbar\":{\"outlinewidth\":0,\"ticks\":\"\"},\"colorscale\":[[0.0,\"#0d0887\"],[0.1111111111111111,\"#46039f\"],[0.2222222222222222,\"#7201a8\"],[0.3333333333333333,\"#9c179e\"],[0.4444444444444444,\"#bd3786\"],[0.5555555555555556,\"#d8576b\"],[0.6666666666666666,\"#ed7953\"],[0.7777777777777778,\"#fb9f3a\"],[0.8888888888888888,\"#fdca26\"],[1.0,\"#f0f921\"]]}],\"choropleth\":[{\"type\":\"choropleth\",\"colorbar\":{\"outlinewidth\":0,\"ticks\":\"\"}}],\"histogram2d\":[{\"type\":\"histogram2d\",\"colorbar\":{\"outlinewidth\":0,\"ticks\":\"\"},\"colorscale\":[[0.0,\"#0d0887\"],[0.1111111111111111,\"#46039f\"],[0.2222222222222222,\"#7201a8\"],[0.3333333333333333,\"#9c179e\"],[0.4444444444444444,\"#bd3786\"],[0.5555555555555556,\"#d8576b\"],[0.6666666666666666,\"#ed7953\"],[0.7777777777777778,\"#fb9f3a\"],[0.8888888888888888,\"#fdca26\"],[1.0,\"#f0f921\"]]}],\"heatmap\":[{\"type\":\"heatmap\",\"colorbar\":{\"outlinewidth\":0,\"ticks\":\"\"},\"colorscale\":[[0.0,\"#0d0887\"],[0.1111111111111111,\"#46039f\"],[0.2222222222222222,\"#7201a8\"],[0.3333333333333333,\"#9c179e\"],[0.4444444444444444,\"#bd3786\"],[0.5555555555555556,\"#d8576b\"],[0.6666666666666666,\"#ed7953\"],[0.7777777777777778,\"#fb9f3a\"],[0.8888888888888888,\"#fdca26\"],[1.0,\"#f0f921\"]]}],\"heatmapgl\":[{\"type\":\"heatmapgl\",\"colorbar\":{\"outlinewidth\":0,\"ticks\":\"\"},\"colorscale\":[[0.0,\"#0d0887\"],[0.1111111111111111,\"#46039f\"],[0.2222222222222222,\"#7201a8\"],[0.3333333333333333,\"#9c179e\"],[0.4444444444444444,\"#bd3786\"],[0.5555555555555556,\"#d8576b\"],[0.6666666666666666,\"#ed7953\"],[0.7777777777777778,\"#fb9f3a\"],[0.8888888888888888,\"#fdca26\"],[1.0,\"#f0f921\"]]}],\"contourcarpet\":[{\"type\":\"contourcarpet\",\"colorbar\":{\"outlinewidth\":0,\"ticks\":\"\"}}],\"contour\":[{\"type\":\"contour\",\"colorbar\":{\"outlinewidth\":0,\"ticks\":\"\"},\"colorscale\":[[0.0,\"#0d0887\"],[0.1111111111111111,\"#46039f\"],[0.2222222222222222,\"#7201a8\"],[0.3333333333333333,\"#9c179e\"],[0.4444444444444444,\"#bd3786\"],[0.5555555555555556,\"#d8576b\"],[0.6666666666666666,\"#ed7953\"],[0.7777777777777778,\"#fb9f3a\"],[0.8888888888888888,\"#fdca26\"],[1.0,\"#f0f921\"]]}],\"surface\":[{\"type\":\"surface\",\"colorbar\":{\"outlinewidth\":0,\"ticks\":\"\"},\"colorscale\":[[0.0,\"#0d0887\"],[0.1111111111111111,\"#46039f\"],[0.2222222222222222,\"#7201a8\"],[0.3333333333333333,\"#9c179e\"],[0.4444444444444444,\"#bd3786\"],[0.5555555555555556,\"#d8576b\"],[0.6666666666666666,\"#ed7953\"],[0.7777777777777778,\"#fb9f3a\"],[0.8888888888888888,\"#fdca26\"],[1.0,\"#f0f921\"]]}],\"mesh3d\":[{\"type\":\"mesh3d\",\"colorbar\":{\"outlinewidth\":0,\"ticks\":\"\"}}],\"scatter\":[{\"fillpattern\":{\"fillmode\":\"overlay\",\"size\":10,\"solidity\":0.2},\"type\":\"scatter\"}],\"parcoords\":[{\"type\":\"parcoords\",\"line\":{\"colorbar\":{\"outlinewidth\":0,\"ticks\":\"\"}}}],\"scatterpolargl\":[{\"type\":\"scatterpolargl\",\"marker\":{\"colorbar\":{\"outlinewidth\":0,\"ticks\":\"\"}}}],\"bar\":[{\"error_x\":{\"color\":\"#2a3f5f\"},\"error_y\":{\"color\":\"#2a3f5f\"},\"marker\":{\"line\":{\"color\":\"#E5ECF6\",\"width\":0.5},\"pattern\":{\"fillmode\":\"overlay\",\"size\":10,\"solidity\":0.2}},\"type\":\"bar\"}],\"scattergeo\":[{\"type\":\"scattergeo\",\"marker\":{\"colorbar\":{\"outlinewidth\":0,\"ticks\":\"\"}}}],\"scatterpolar\":[{\"type\":\"scatterpolar\",\"marker\":{\"colorbar\":{\"outlinewidth\":0,\"ticks\":\"\"}}}],\"histogram\":[{\"marker\":{\"pattern\":{\"fillmode\":\"overlay\",\"size\":10,\"solidity\":0.2}},\"type\":\"histogram\"}],\"scattergl\":[{\"type\":\"scattergl\",\"marker\":{\"colorbar\":{\"outlinewidth\":0,\"ticks\":\"\"}}}],\"scatter3d\":[{\"type\":\"scatter3d\",\"line\":{\"colorbar\":{\"outlinewidth\":0,\"ticks\":\"\"}},\"marker\":{\"colorbar\":{\"outlinewidth\":0,\"ticks\":\"\"}}}],\"scattermapbox\":[{\"type\":\"scattermapbox\",\"marker\":{\"colorbar\":{\"outlinewidth\":0,\"ticks\":\"\"}}}],\"scatterternary\":[{\"type\":\"scatterternary\",\"marker\":{\"colorbar\":{\"outlinewidth\":0,\"ticks\":\"\"}}}],\"scattercarpet\":[{\"type\":\"scattercarpet\",\"marker\":{\"colorbar\":{\"outlinewidth\":0,\"ticks\":\"\"}}}],\"carpet\":[{\"aaxis\":{\"endlinecolor\":\"#2a3f5f\",\"gridcolor\":\"white\",\"linecolor\":\"white\",\"minorgridcolor\":\"white\",\"startlinecolor\":\"#2a3f5f\"},\"baxis\":{\"endlinecolor\":\"#2a3f5f\",\"gridcolor\":\"white\",\"linecolor\":\"white\",\"minorgridcolor\":\"white\",\"startlinecolor\":\"#2a3f5f\"},\"type\":\"carpet\"}],\"table\":[{\"cells\":{\"fill\":{\"color\":\"#EBF0F8\"},\"line\":{\"color\":\"white\"}},\"header\":{\"fill\":{\"color\":\"#C8D4E3\"},\"line\":{\"color\":\"white\"}},\"type\":\"table\"}],\"barpolar\":[{\"marker\":{\"line\":{\"color\":\"#E5ECF6\",\"width\":0.5},\"pattern\":{\"fillmode\":\"overlay\",\"size\":10,\"solidity\":0.2}},\"type\":\"barpolar\"}],\"pie\":[{\"automargin\":true,\"type\":\"pie\"}]},\"layout\":{\"autotypenumbers\":\"strict\",\"colorway\":[\"#636efa\",\"#EF553B\",\"#00cc96\",\"#ab63fa\",\"#FFA15A\",\"#19d3f3\",\"#FF6692\",\"#B6E880\",\"#FF97FF\",\"#FECB52\"],\"font\":{\"color\":\"#2a3f5f\"},\"hovermode\":\"closest\",\"hoverlabel\":{\"align\":\"left\"},\"paper_bgcolor\":\"white\",\"plot_bgcolor\":\"#E5ECF6\",\"polar\":{\"bgcolor\":\"#E5ECF6\",\"angularaxis\":{\"gridcolor\":\"white\",\"linecolor\":\"white\",\"ticks\":\"\"},\"radialaxis\":{\"gridcolor\":\"white\",\"linecolor\":\"white\",\"ticks\":\"\"}},\"ternary\":{\"bgcolor\":\"#E5ECF6\",\"aaxis\":{\"gridcolor\":\"white\",\"linecolor\":\"white\",\"ticks\":\"\"},\"baxis\":{\"gridcolor\":\"white\",\"linecolor\":\"white\",\"ticks\":\"\"},\"caxis\":{\"gridcolor\":\"white\",\"linecolor\":\"white\",\"ticks\":\"\"}},\"coloraxis\":{\"colorbar\":{\"outlinewidth\":0,\"ticks\":\"\"}},\"colorscale\":{\"sequential\":[[0.0,\"#0d0887\"],[0.1111111111111111,\"#46039f\"],[0.2222222222222222,\"#7201a8\"],[0.3333333333333333,\"#9c179e\"],[0.4444444444444444,\"#bd3786\"],[0.5555555555555556,\"#d8576b\"],[0.6666666666666666,\"#ed7953\"],[0.7777777777777778,\"#fb9f3a\"],[0.8888888888888888,\"#fdca26\"],[1.0,\"#f0f921\"]],\"sequentialminus\":[[0.0,\"#0d0887\"],[0.1111111111111111,\"#46039f\"],[0.2222222222222222,\"#7201a8\"],[0.3333333333333333,\"#9c179e\"],[0.4444444444444444,\"#bd3786\"],[0.5555555555555556,\"#d8576b\"],[0.6666666666666666,\"#ed7953\"],[0.7777777777777778,\"#fb9f3a\"],[0.8888888888888888,\"#fdca26\"],[1.0,\"#f0f921\"]],\"diverging\":[[0,\"#8e0152\"],[0.1,\"#c51b7d\"],[0.2,\"#de77ae\"],[0.3,\"#f1b6da\"],[0.4,\"#fde0ef\"],[0.5,\"#f7f7f7\"],[0.6,\"#e6f5d0\"],[0.7,\"#b8e186\"],[0.8,\"#7fbc41\"],[0.9,\"#4d9221\"],[1,\"#276419\"]]},\"xaxis\":{\"gridcolor\":\"white\",\"linecolor\":\"white\",\"ticks\":\"\",\"title\":{\"standoff\":15},\"zerolinecolor\":\"white\",\"automargin\":true,\"zerolinewidth\":2},\"yaxis\":{\"gridcolor\":\"white\",\"linecolor\":\"white\",\"ticks\":\"\",\"title\":{\"standoff\":15},\"zerolinecolor\":\"white\",\"automargin\":true,\"zerolinewidth\":2},\"scene\":{\"xaxis\":{\"backgroundcolor\":\"#E5ECF6\",\"gridcolor\":\"white\",\"linecolor\":\"white\",\"showbackground\":true,\"ticks\":\"\",\"zerolinecolor\":\"white\",\"gridwidth\":2},\"yaxis\":{\"backgroundcolor\":\"#E5ECF6\",\"gridcolor\":\"white\",\"linecolor\":\"white\",\"showbackground\":true,\"ticks\":\"\",\"zerolinecolor\":\"white\",\"gridwidth\":2},\"zaxis\":{\"backgroundcolor\":\"#E5ECF6\",\"gridcolor\":\"white\",\"linecolor\":\"white\",\"showbackground\":true,\"ticks\":\"\",\"zerolinecolor\":\"white\",\"gridwidth\":2}},\"shapedefaults\":{\"line\":{\"color\":\"#2a3f5f\"}},\"annotationdefaults\":{\"arrowcolor\":\"#2a3f5f\",\"arrowhead\":0,\"arrowwidth\":1},\"geo\":{\"bgcolor\":\"white\",\"landcolor\":\"#E5ECF6\",\"subunitcolor\":\"white\",\"showland\":true,\"showlakes\":true,\"lakecolor\":\"white\"},\"title\":{\"x\":0.05},\"mapbox\":{\"style\":\"light\"}}},\"xaxis\":{\"anchor\":\"y\",\"domain\":[0.0,1.0],\"title\":{\"text\":\"Actual Fantasy Production\"}},\"yaxis\":{\"anchor\":\"x\",\"domain\":[0.0,1.0],\"title\":{\"text\":\"Predicted Fantasy Production\"}},\"legend\":{\"title\":{\"text\":\"Direction_Correct\"},\"tracegroupgap\":0},\"margin\":{\"t\":60},\"shapes\":[{\"line\":{\"dash\":\"dash\"},\"type\":\"line\",\"x0\":-0.2,\"x1\":391.3,\"y0\":-0.2,\"y1\":391.3}],\"title\":{\"text\":\"Actual vs Predicted Fantasy Production (MLR Generalized - New Metric)\"},\"showlegend\":false},                        {\"responsive\": true}                    ).then(function(){\n",
       "                            \n",
       "var gd = document.getElementById('708652a3-52d8-4857-b943-18fb134a89a7');\n",
       "var x = new MutationObserver(function (mutations, observer) {{\n",
       "        var display = window.getComputedStyle(gd).display;\n",
       "        if (!display || display === 'none') {{\n",
       "            console.log([gd, 'removed!']);\n",
       "            Plotly.purge(gd);\n",
       "            observer.disconnect();\n",
       "        }}\n",
       "}});\n",
       "\n",
       "// Listen for the removal of the full notebook cells\n",
       "var notebookContainer = gd.closest('#notebook-container');\n",
       "if (notebookContainer) {{\n",
       "    x.observe(notebookContainer, {childList: true});\n",
       "}}\n",
       "\n",
       "// Listen for the clearing of the current output cell\n",
       "var outputEl = gd.closest('.output');\n",
       "if (outputEl) {{\n",
       "    x.observe(outputEl, {childList: true});\n",
       "}}\n",
       "\n",
       "                        })                };                });            </script>        </div>"
      ]
     },
     "metadata": {},
     "output_type": "display_data"
    }
   ],
   "source": [
    "# Creating the scatter plot\n",
    "fig = px.scatter(df_error_graph_mlr, x='Actual', y='Predicted', color=\"Direction_Correct\",\n",
    "                color_discrete_map={True: 'green', False: 'red'}, hover_data=['Player_Name', 'Current_Season',\n",
    "                                                                              'Previous_Season_Fantasy'])\n",
    "\n",
    "# Adding line of equality (where actual equals predicted)\n",
    "fig.add_shape(\n",
    "    type='line',\n",
    "    line=dict(dash='dash'),\n",
    "    x0=df_error_graph_mlr['Actual'].min(),\n",
    "    y0=df_error_graph_mlr['Actual'].min(),\n",
    "    x1=df_error_graph_mlr['Actual'].max(),\n",
    "    y1=df_error_graph_mlr['Actual'].max()\n",
    ")\n",
    "\n",
    "# Updating layout\n",
    "fig.update_layout(\n",
    "    title='Actual vs Predicted Fantasy Production (MLR Generalized - New Metric)',\n",
    "    xaxis_title='Actual Fantasy Production',\n",
    "    yaxis_title='Predicted Fantasy Production',\n",
    "    showlegend=False\n",
    ")\n",
    "\n",
    "# fig.write_html(\"../../interactive/RB/fantasy-metrics/new-metric-mlr-generalized.html\")\n",
    "\n",
    "# Show the plot\n",
    "fig.show()"
   ]
  },
  {
   "cell_type": "code",
   "execution_count": 52,
   "id": "0911f59f",
   "metadata": {},
   "outputs": [
    {
     "name": "stdout",
     "output_type": "stream",
     "text": [
      "\n",
      "Total: 381\n",
      "Total direction correct: 225\n",
      "Percent direction correct: 59.099999999999994%\n"
     ]
    }
   ],
   "source": [
    "print()\n",
    "total = len(df_error_graph_mlr)\n",
    "total_dir_correct = len(df_error_graph_mlr.query(\"Direction_Correct == True\"))\n",
    "print(f\"Total: {total}\")\n",
    "print(f\"Total direction correct: {total_dir_correct}\")\n",
    "print(f\"Percent direction correct: {round(total_dir_correct / total, 3) * 100}%\")"
   ]
  },
  {
   "cell_type": "markdown",
   "id": "474216aa",
   "metadata": {},
   "source": [
    "## Random Forest"
   ]
  },
  {
   "cell_type": "code",
   "execution_count": null,
   "id": "c4e87f7e",
   "metadata": {},
   "outputs": [],
   "source": [
    "from sklearn.ensemble import RandomForestRegressor"
   ]
  },
  {
   "cell_type": "code",
   "execution_count": null,
   "id": "14cab73b",
   "metadata": {},
   "outputs": [],
   "source": [
    "start = 1\n",
    "stop = 15 + 1"
   ]
  },
  {
   "cell_type": "code",
   "execution_count": null,
   "id": "0a86996b",
   "metadata": {},
   "outputs": [],
   "source": [
    "best_score = -10\n",
    "best_model = None"
   ]
  },
  {
   "cell_type": "code",
   "execution_count": null,
   "id": "2becf420",
   "metadata": {},
   "outputs": [],
   "source": [
    "for depth in range(start, stop):\n",
    "    rfr = RandomForestRegressor(max_depth=depth, random_state=0)\n",
    "    rfr.fit(X_train_scaled, y_train)\n",
    "    \n",
    "    score = rfr.score(X_test_scaled, y_test)\n",
    "    if score > best_score:\n",
    "        print(f\"New best score: {score}\")\n",
    "        best_score = score\n",
    "        best_model = rfr\n",
    "        \n",
    "print(\"\\nDone :)\")"
   ]
  },
  {
   "cell_type": "code",
   "execution_count": null,
   "id": "602eda39",
   "metadata": {},
   "outputs": [],
   "source": [
    "df_error_graph_rfr = pd.DataFrame({\n",
    "    'Actual': y_test,\n",
    "    'Predicted': rfr.predict(X_test_scaled),\n",
    "    'Previous_Season_Fantasy': previous_season_points,\n",
    "    'Player_Name': player_names,\n",
    "    'Current_Season': season\n",
    "})"
   ]
  },
  {
   "cell_type": "code",
   "execution_count": null,
   "id": "8f214b29",
   "metadata": {},
   "outputs": [],
   "source": [
    "df_error_graph_rfr['Actual_Change'] = df_error_graph_rfr['Actual'] - df_error_graph_rfr['Previous_Season_Fantasy']\n",
    "df_error_graph_rfr['Predicted_Change'] = df_error_graph_rfr['Predicted'] - df_error_graph_rfr['Previous_Season_Fantasy']"
   ]
  },
  {
   "cell_type": "code",
   "execution_count": null,
   "id": "29e103fb",
   "metadata": {},
   "outputs": [],
   "source": [
    "# Apply the function\n",
    "df_error_graph_rfr['Direction_Correct'] = df_error_graph_rfr.apply(change_direction_correct, axis=1)"
   ]
  },
  {
   "cell_type": "code",
   "execution_count": null,
   "id": "82940862",
   "metadata": {},
   "outputs": [],
   "source": [
    "# Creating the scatter plot\n",
    "fig = px.scatter(df_error_graph_rfr, x='Actual', y='Predicted', color=\"Direction_Correct\",\n",
    "                color_discrete_map={True: 'green', False: 'red'}, hover_data=['Player_Name', 'Current_Season',\n",
    "                                                                              'Previous_Season_Fantasy'])\n",
    "\n",
    "# Adding line of equality (where actual equals predicted)\n",
    "fig.add_shape(\n",
    "    type='line',\n",
    "    line=dict(dash='dash'),\n",
    "    x0=df_error_graph_rfr['Actual'].min(),\n",
    "    y0=df_error_graph_rfr['Actual'].min(),\n",
    "    x1=df_error_graph_rfr['Actual'].max(),\n",
    "    y1=df_error_graph_rfr['Actual'].max()\n",
    ")\n",
    "\n",
    "# Updating layout\n",
    "fig.update_layout(\n",
    "    title='Actual vs Predicted Fantasy Production (RFR Generalized - New Metric)',\n",
    "    xaxis_title='Actual Fantasy Production',\n",
    "    yaxis_title='Predicted Fantasy Production',\n",
    "    showlegend=False\n",
    ")\n",
    "\n",
    "# fig.write_html(\"../../interactive/RB/fantasy-metrics/new-metric-rfr-generalized.html\")\n",
    "\n",
    "# Show the plot\n",
    "fig.show()"
   ]
  },
  {
   "cell_type": "code",
   "execution_count": null,
   "id": "84c744ab",
   "metadata": {},
   "outputs": [],
   "source": [
    "print()\n",
    "total = len(df_error_graph_rfr)\n",
    "total_dir_correct = len(df_error_graph_rfr.query(\"Direction_Correct == True\"))\n",
    "print(f\"Total: {total}\")\n",
    "print(f\"Total direction correct: {total_dir_correct}\")\n",
    "print(f\"Percent direction correct: {round(total_dir_correct / total, 3) * 100}%\")"
   ]
  },
  {
   "cell_type": "code",
   "execution_count": null,
   "id": "c375c935",
   "metadata": {},
   "outputs": [],
   "source": []
  }
 ],
 "metadata": {
  "kernelspec": {
   "display_name": "plotly",
   "language": "python",
   "name": "plotly"
  },
  "language_info": {
   "codemirror_mode": {
    "name": "ipython",
    "version": 3
   },
   "file_extension": ".py",
   "mimetype": "text/x-python",
   "name": "python",
   "nbconvert_exporter": "python",
   "pygments_lexer": "ipython3",
   "version": "3.9.7"
  }
 },
 "nbformat": 4,
 "nbformat_minor": 5
}
