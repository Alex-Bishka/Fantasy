{
 "cells": [
  {
   "cell_type": "markdown",
   "id": "06b8ed2e",
   "metadata": {},
   "source": [
    "# Imports"
   ]
  },
  {
   "cell_type": "code",
   "execution_count": 1,
   "id": "d57e8d6c",
   "metadata": {},
   "outputs": [],
   "source": [
    "import pandas as pd\n",
    "import numpy as np"
   ]
  },
  {
   "cell_type": "code",
   "execution_count": 2,
   "id": "a9f5197d",
   "metadata": {},
   "outputs": [],
   "source": [
    "import nfl_data_py as nfl"
   ]
  },
  {
   "cell_type": "markdown",
   "id": "9e07cef3",
   "metadata": {},
   "source": [
    "# Play by Play Data"
   ]
  },
  {
   "cell_type": "code",
   "execution_count": 108,
   "id": "34e08397",
   "metadata": {},
   "outputs": [
    {
     "name": "stdout",
     "output_type": "stream",
     "text": [
      "2023 done.\n",
      "Downcasting floats.\n"
     ]
    }
   ],
   "source": [
    "columns = None\n",
    "years = [2023]\n",
    "df_play = nfl.import_pbp_data(years, columns, downcast=True, cache=False, alt_path=None)"
   ]
  },
  {
   "cell_type": "markdown",
   "id": "e161ee9d",
   "metadata": {},
   "source": [
    "## Column Exploration"
   ]
  },
  {
   "cell_type": "code",
   "execution_count": 103,
   "id": "8edc2996",
   "metadata": {},
   "outputs": [
    {
     "name": "stdout",
     "output_type": "stream",
     "text": [
      "season_type\n",
      "season\n"
     ]
    }
   ],
   "source": [
    "s = \"season\"\n",
    "for col in list(df_play.columns):\n",
    "    if s in col:\n",
    "        print(col)"
   ]
  },
  {
   "cell_type": "code",
   "execution_count": 106,
   "id": "c924954f",
   "metadata": {},
   "outputs": [
    {
     "data": {
      "text/plain": [
       "0    REG\n",
       "1    REG\n",
       "2    REG\n",
       "3    REG\n",
       "4    REG\n",
       "Name: season_type, dtype: object"
      ]
     },
     "execution_count": 106,
     "metadata": {},
     "output_type": "execute_result"
    }
   ],
   "source": [
    "df_play[\"season_type\"].head()"
   ]
  },
  {
   "cell_type": "markdown",
   "id": "8dc91ff8",
   "metadata": {},
   "source": [
    "# Who Throws Deep?"
   ]
  },
  {
   "cell_type": "markdown",
   "id": "785951a3",
   "metadata": {},
   "source": [
    "Finding average depth of target (adot) for quarterbacks."
   ]
  },
  {
   "cell_type": "markdown",
   "id": "643c11c0",
   "metadata": {},
   "source": [
    "Grab only the pass plays. Note, in pandas, you should use the `&` operator for element-wise logical AND operations."
   ]
  },
  {
   "cell_type": "code",
   "execution_count": 4,
   "id": "9a6b77a8",
   "metadata": {},
   "outputs": [],
   "source": [
    "df_pass_plays = df_play[(df_play[\"play_type\"] == \"pass\") & (df_play[\"air_yards\"].notna())]"
   ]
  },
  {
   "cell_type": "markdown",
   "id": "633a7041",
   "metadata": {},
   "source": [
    "## ADOT by QB"
   ]
  },
  {
   "cell_type": "markdown",
   "id": "83bc1878",
   "metadata": {},
   "source": [
    "Group by 'passer_id' and 'passer', then aggregate air yards by count and mean."
   ]
  },
  {
   "cell_type": "code",
   "execution_count": 5,
   "id": "53c6095d",
   "metadata": {},
   "outputs": [],
   "source": [
    "grouped = df_pass_plays.groupby(['passer_id', 'passer']).agg({\"air_yards\": [\"count\", \"mean\"]})"
   ]
  },
  {
   "cell_type": "markdown",
   "id": "0932754e",
   "metadata": {},
   "source": [
    "Creating a refined data frame where we only keep players who have attempted over 100 passes. We sort, descending, by adot."
   ]
  },
  {
   "cell_type": "code",
   "execution_count": 6,
   "id": "6b44eca7",
   "metadata": {},
   "outputs": [
    {
     "name": "stdout",
     "output_type": "stream",
     "text": [
      "                                air_yards_count  air_yards_mean\n",
      "passer_id  passer                                              \n",
      "00-0039152 W.Levis                          150       10.193334\n",
      "00-0029701 R.Tannehill                      157        9.375796\n",
      "00-0033537 D.Watson                         170        9.370588\n",
      "00-0035228 K.Murray                         107        9.308412\n",
      "00-0039163 C.Stroud                         385        9.241558\n",
      "00-0036264 J.Love                           370        8.967567\n",
      "00-0036389 J.Hurts                          358        8.575419\n",
      "00-0034855 B.Mayfield                       380        8.497369\n",
      "00-0034857 J.Allen                          432        8.284722\n",
      "00-0033077 D.Prescott                       370        8.270270\n",
      "00-0031280 D.Carr                           372        8.223118\n",
      "00-0033275 P.Walker                         110        8.200000\n",
      "00-0031345 J.Garoppolo                      167        8.119761\n",
      "00-0037834 B.Purdy                          303        8.108911\n",
      "00-0034796 L.Jackson                        333        8.108109\n",
      "00-0038122 D.Ridder                         266        8.037594\n",
      "00-0033949 J.Dobbs                          362        8.002763\n",
      "00-0026498 M.Stafford                       339        7.988201\n",
      "00-0036945 J.Fields                         185        7.962162\n",
      "00-0036355 J.Herbert                        402        7.746269\n",
      "00-0037077 S.Howell                         486        7.576132\n",
      "00-0037013 Z.Wilson                         318        7.562893\n",
      "00-0036212 T.Tagovailoa                     375        7.429333\n",
      "00-0030565 G.Smith                          358        7.377095\n",
      "00-0038579 A.O'Connell                      178        7.376404\n",
      "00-0029604 K.Cousins                        309        7.284790\n",
      "00-0036971 T.Lawrence                       370        7.275676\n",
      "00-0038476 T.DeVito                         105        7.219048\n",
      "00-0038102 K.Pickett                        313        7.162939\n",
      "00-0036972 M.Jones                          345        6.985507\n",
      "00-0035289 G.Minshew II                     297        6.915825\n",
      "00-0035710 D.Jones                          160        6.850000\n",
      "00-0033873 P.Mahomes                        409        6.801956\n",
      "00-0033106 J.Goff                           404        6.754951\n",
      "00-0029263 R.Wilson                         316        6.743671\n",
      "00-0039150 B.Young                          350        6.491428\n",
      "00-0036442 J.Burrow                         363        6.465565\n",
      "00-0038583 D.Thompson-Robinson              107        6.271028\n",
      "00-0038416 T.Bagent                         143        5.692307\n"
     ]
    }
   ],
   "source": [
    "grouped.columns = list(map(\"_\".join, grouped.columns.values))\n",
    "sort_crit = \"air_yards_count > 100\"\n",
    "print(grouped.query(sort_crit).sort_values(by=\"air_yards_mean\", ascending=[False]).to_string())"
   ]
  },
  {
   "cell_type": "markdown",
   "id": "c5a27fee",
   "metadata": {},
   "source": [
    "## ADOT For Receivers"
   ]
  },
  {
   "cell_type": "code",
   "execution_count": 7,
   "id": "ac88e622",
   "metadata": {},
   "outputs": [],
   "source": [
    "receivers = df_pass_plays.groupby(['receiver_id', 'receiver']).agg({\"air_yards\": [\"count\", \"mean\"]})"
   ]
  },
  {
   "cell_type": "code",
   "execution_count": 8,
   "id": "fdec472b",
   "metadata": {},
   "outputs": [
    {
     "name": "stdout",
     "output_type": "stream",
     "text": [
      "                            air_yards_count  air_yards_mean\n",
      "receiver_id receiver                                       \n",
      "00-0036261  B.Aiyuk                      65       15.107693\n",
      "00-0037545  R.Shaheed                    55       14.781818\n",
      "00-0030564  D.Hopkins                    83       14.674699\n",
      "00-0031408  M.Evans                      91       14.274725\n",
      "00-0038977  N.Dell                       75       14.266666\n",
      "00-0031544  A.Cooper                     86       14.139535\n",
      "00-0036196  G.Davis                      67       13.880597\n",
      "00-0037239  C.Olave                     103       13.757281\n",
      "00-0035640  D.Metcalf                    80       13.550000\n",
      "00-0037247  G.Pickens                    73       12.945206\n",
      "00-0034837  C.Ridley                     76       12.671053\n",
      "00-0036912  D.Smith                      76       12.460526\n",
      "00-0035676  A.Brown                     105       12.447619\n",
      "00-0035662  M.Brown                      98       11.959184\n",
      "00-0035216  D.Johnson                    55       11.890909\n",
      "00-0035535  D.Slayton                    53       11.811320\n",
      "00-0031381  D.Adams                     118       11.788136\n",
      "00-0034827  D.Moore                      80       11.762500\n",
      "00-0037816  R.Doubs                      69       11.724638\n",
      "00-0036407  J.Jeudy                      53       11.679245\n",
      "00-0036849  T.Atwell                     60       11.600000\n",
      "00-0039146  J.Reed                       59       11.389831\n",
      "00-0038994  J.Addison                    72       11.375000\n",
      "00-0036410  T.Higgins                    51       11.254902\n",
      "00-0036554  N.Collins                    73       11.164384\n",
      "00-0036358  C.Lamb                      104       10.980769\n",
      "00-0036970  K.Pitts                      60       10.850000\n",
      "00-0035659  T.McLaurin                   97       10.845361\n",
      "00-0036322  J.Jefferson                  53       10.679245\n",
      "00-0037740  G.Wilson                    113       10.663717\n",
      "00-0032211  T.Lockett                    79       10.658228\n",
      "00-0033307  K.Bourne                     55       10.436363\n",
      "00-0039062  J.Mingo                      57       10.385965\n",
      "00-0033908  C.Kupp                       51       10.274509\n",
      "00-0034960  J.Meyers                     76       10.157895\n",
      "00-0032765  M.Thomas                     64       10.156250\n",
      "00-0037238  D.London                     68       10.088235\n",
      "00-0031588  S.Diggs                     121       10.016529\n",
      "00-0036613  J.Waddle                     75       10.000000\n",
      "00-0033040  T.Hill                      120        9.975000\n",
      "00-0034348  C.Sutton                     68        9.955882\n",
      "00-0030431  R.Woods                      57        9.789474\n",
      "00-0034775  C.Kirk                       84        9.738095\n",
      "00-0036980  E.Moore                      73        9.424658\n",
      "00-0037741  J.Dotson                     69        9.376812\n",
      "00-0030279  K.Allen                     129        9.372093\n",
      "00-0033288  G.Kittle                     61        9.262295\n",
      "00-0036900  J.Chase                     112        8.991072\n",
      "00-0039075  P.Nacua                     111        8.819819\n",
      "00-0036345  K.Osborn                     51        8.666667\n",
      "00-0033921  C.Godwin                     82        8.365853\n",
      "00-0031610  D.Waller                     51        8.333333\n",
      "00-0039064  Z.Flowers                    80        8.212500\n",
      "00-0036252  M.Pittman                   111        7.936937\n",
      "00-0034383  D.Schultz                    61        7.770492\n",
      "00-0036963  A.St. Brown                 109        7.623853\n",
      "00-0038621  D.Douglas                    55        7.527273\n",
      "00-0038997  J.Downs                      73        7.438356\n",
      "00-0039065  S.LaPorta                    77        7.363636\n",
      "00-0034753  M.Andrews                    61        7.262295\n",
      "00-0035229  T.Hockenson                 102        7.235294\n",
      "00-0030035  A.Thielen                   100        7.000000\n",
      "00-0037744  T.McBride                    65        6.861538\n",
      "00-0030506  T.Kelce                      88        6.852273\n",
      "00-0033110  T.Higbee                     51        6.647059\n",
      "00-0033009  T.Boyd                       72        6.638889\n",
      "00-0038543  J.Smith-Njigba               57        6.438597\n",
      "00-0033282  C.Samuel                     63        6.428571\n",
      "00-0031260  L.Thomas                     62        6.306452\n",
      "00-0038041  J.Ferguson                   58        5.879310\n",
      "00-0034351  D.Goedert                    52        5.288462\n",
      "00-0036290  C.Kmet                       61        5.245902\n",
      "00-0039067  R.Rice                       56        4.857143\n",
      "00-0038933  D.Kincaid                    64        4.781250\n",
      "00-0033881  E.Engram                     82        4.548780\n",
      "00-0033885  D.Njoku                      78        3.615385\n",
      "00-0033280  C.McCaffrey                  58        1.017241\n",
      "00-0039139  J.Gibbs                      52        0.903846\n",
      "00-0035700  J.Jacobs                     52        0.788462\n",
      "00-0033906  A.Kamara                     61        0.131148\n"
     ]
    }
   ],
   "source": [
    "receivers.columns = list(map(\"_\".join, receivers.columns.values))\n",
    "sort_crit = \"air_yards_count > 50\"\n",
    "print(receivers.query(sort_crit).sort_values(by=\"air_yards_mean\", ascending=[False]).to_string())"
   ]
  },
  {
   "cell_type": "code",
   "execution_count": 28,
   "id": "4be6c21d",
   "metadata": {},
   "outputs": [
    {
     "data": {
      "text/html": [
       "<div>\n",
       "<style scoped>\n",
       "    .dataframe tbody tr th:only-of-type {\n",
       "        vertical-align: middle;\n",
       "    }\n",
       "\n",
       "    .dataframe tbody tr th {\n",
       "        vertical-align: top;\n",
       "    }\n",
       "\n",
       "    .dataframe thead th {\n",
       "        text-align: right;\n",
       "    }\n",
       "</style>\n",
       "<table border=\"1\" class=\"dataframe\">\n",
       "  <thead>\n",
       "    <tr style=\"text-align: right;\">\n",
       "      <th></th>\n",
       "      <th></th>\n",
       "      <th>air_yards_count</th>\n",
       "      <th>air_yards_mean</th>\n",
       "    </tr>\n",
       "    <tr>\n",
       "      <th>receiver_id</th>\n",
       "      <th>receiver</th>\n",
       "      <th></th>\n",
       "      <th></th>\n",
       "    </tr>\n",
       "  </thead>\n",
       "  <tbody>\n",
       "    <tr>\n",
       "      <th>00-0031381</th>\n",
       "      <th>D.Adams</th>\n",
       "      <td>118</td>\n",
       "      <td>11.788136</td>\n",
       "    </tr>\n",
       "  </tbody>\n",
       "</table>\n",
       "</div>"
      ],
      "text/plain": [
       "                      air_yards_count  air_yards_mean\n",
       "receiver_id receiver                                 \n",
       "00-0031381  D.Adams               118       11.788136"
      ]
     },
     "execution_count": 28,
     "metadata": {},
     "output_type": "execute_result"
    }
   ],
   "source": [
    "player_name = \"D.Adams\"\n",
    "receivers.query(f\"receiver == '{player_name}'\")"
   ]
  },
  {
   "cell_type": "markdown",
   "id": "0a08eb9f",
   "metadata": {},
   "source": [
    "# Sticky Stats"
   ]
  },
  {
   "cell_type": "code",
   "execution_count": 9,
   "id": "336855b3",
   "metadata": {},
   "outputs": [
    {
     "name": "stdout",
     "output_type": "stream",
     "text": [
      "2016 done.\n",
      "2017 done.\n",
      "2018 done.\n",
      "2019 done.\n",
      "2020 done.\n",
      "2021 done.\n",
      "2022 done.\n",
      "2023 done.\n",
      "Downcasting floats.\n"
     ]
    }
   ],
   "source": [
    "seasons = range(2016, 2023 + 1)\n",
    "df_pbp = nfl.import_pbp_data(seasons) "
   ]
  },
  {
   "cell_type": "code",
   "execution_count": 116,
   "id": "2bd699b9",
   "metadata": {},
   "outputs": [],
   "source": [
    "df_passes = df_pbp.query(\"play_type == 'pass' & air_yards.notnull()\").reset_index()\n",
    "df_passes = df_passes.query(\"season_type == 'REG'\")  # remove playoff numbers"
   ]
  },
  {
   "cell_type": "code",
   "execution_count": 117,
   "id": "240b0b63",
   "metadata": {},
   "outputs": [
    {
     "data": {
      "text/html": [
       "<div>\n",
       "<style scoped>\n",
       "    .dataframe tbody tr th:only-of-type {\n",
       "        vertical-align: middle;\n",
       "    }\n",
       "\n",
       "    .dataframe tbody tr th {\n",
       "        vertical-align: top;\n",
       "    }\n",
       "\n",
       "    .dataframe thead th {\n",
       "        text-align: right;\n",
       "    }\n",
       "</style>\n",
       "<table border=\"1\" class=\"dataframe\">\n",
       "  <thead>\n",
       "    <tr style=\"text-align: right;\">\n",
       "      <th></th>\n",
       "      <th>index</th>\n",
       "      <th>play_id</th>\n",
       "      <th>game_id</th>\n",
       "      <th>old_game_id</th>\n",
       "      <th>home_team</th>\n",
       "      <th>away_team</th>\n",
       "      <th>season_type</th>\n",
       "      <th>week</th>\n",
       "      <th>posteam</th>\n",
       "      <th>posteam_type</th>\n",
       "      <th>...</th>\n",
       "      <th>offense_formation</th>\n",
       "      <th>offense_personnel</th>\n",
       "      <th>defenders_in_box</th>\n",
       "      <th>defense_personnel</th>\n",
       "      <th>number_of_pass_rushers</th>\n",
       "      <th>players_on_play</th>\n",
       "      <th>offense_players</th>\n",
       "      <th>defense_players</th>\n",
       "      <th>n_offense</th>\n",
       "      <th>n_defense</th>\n",
       "    </tr>\n",
       "  </thead>\n",
       "  <tbody>\n",
       "    <tr>\n",
       "      <th>0</th>\n",
       "      <td>3</td>\n",
       "      <td>85.0</td>\n",
       "      <td>2016_01_BUF_BAL</td>\n",
       "      <td>2016091101</td>\n",
       "      <td>BAL</td>\n",
       "      <td>BUF</td>\n",
       "      <td>REG</td>\n",
       "      <td>1</td>\n",
       "      <td>BAL</td>\n",
       "      <td>home</td>\n",
       "      <td>...</td>\n",
       "      <td>SHOTGUN</td>\n",
       "      <td>2 RB, 1 TE, 2 WR</td>\n",
       "      <td>6.0</td>\n",
       "      <td>4 DL, 3 LB, 4 DB</td>\n",
       "      <td>3.0</td>\n",
       "      <td>41302;40078;38540;35553;43295;38582;40053;4336...</td>\n",
       "      <td>00-0029892;00-0027714;00-0032965;00-0029893;00...</td>\n",
       "      <td>00-0031171;00-0029542;00-0029566;00-0030073;00...</td>\n",
       "      <td>11.0</td>\n",
       "      <td>11.0</td>\n",
       "    </tr>\n",
       "    <tr>\n",
       "      <th>1</th>\n",
       "      <td>5</td>\n",
       "      <td>130.0</td>\n",
       "      <td>2016_01_BUF_BAL</td>\n",
       "      <td>2016091101</td>\n",
       "      <td>BAL</td>\n",
       "      <td>BUF</td>\n",
       "      <td>REG</td>\n",
       "      <td>1</td>\n",
       "      <td>BAL</td>\n",
       "      <td>home</td>\n",
       "      <td>...</td>\n",
       "      <td>I_FORM</td>\n",
       "      <td>2 RB, 1 TE, 2 WR</td>\n",
       "      <td>7.0</td>\n",
       "      <td>4 DL, 3 LB, 4 DB</td>\n",
       "      <td>5.0</td>\n",
       "      <td>40078;38540;41302;35553;38582;43295;40053;4336...</td>\n",
       "      <td>00-0029892;00-0027714;00-0032965;00-0029893;00...</td>\n",
       "      <td>00-0029542;00-0031171;00-0029566;00-0030073;00...</td>\n",
       "      <td>11.0</td>\n",
       "      <td>11.0</td>\n",
       "    </tr>\n",
       "    <tr>\n",
       "      <th>2</th>\n",
       "      <td>9</td>\n",
       "      <td>216.0</td>\n",
       "      <td>2016_01_BUF_BAL</td>\n",
       "      <td>2016091101</td>\n",
       "      <td>BAL</td>\n",
       "      <td>BUF</td>\n",
       "      <td>REG</td>\n",
       "      <td>1</td>\n",
       "      <td>BUF</td>\n",
       "      <td>away</td>\n",
       "      <td>...</td>\n",
       "      <td>SHOTGUN</td>\n",
       "      <td>1 RB, 2 TE, 2 WR</td>\n",
       "      <td>7.0</td>\n",
       "      <td>3 DL, 4 LB, 4 DB</td>\n",
       "      <td>4.0</td>\n",
       "      <td>34479;40111;41277;37249;41230;36089;37100;3567...</td>\n",
       "      <td>00-0027004;00-0030046;00-0028112;00-0031325;00...</td>\n",
       "      <td>00-0031170;00-0027560;00-0027965;00-0031296;00...</td>\n",
       "      <td>11.0</td>\n",
       "      <td>10.0</td>\n",
       "    </tr>\n",
       "    <tr>\n",
       "      <th>3</th>\n",
       "      <td>11</td>\n",
       "      <td>261.0</td>\n",
       "      <td>2016_01_BUF_BAL</td>\n",
       "      <td>2016091101</td>\n",
       "      <td>BAL</td>\n",
       "      <td>BUF</td>\n",
       "      <td>REG</td>\n",
       "      <td>1</td>\n",
       "      <td>BUF</td>\n",
       "      <td>away</td>\n",
       "      <td>...</td>\n",
       "      <td>SHOTGUN</td>\n",
       "      <td>1 RB, 1 TE, 3 WR</td>\n",
       "      <td>6.0</td>\n",
       "      <td>1 DL, 5 LB, 5 DB</td>\n",
       "      <td>3.0</td>\n",
       "      <td>34479;40111;41277;37249;41230;36089;40112;3710...</td>\n",
       "      <td>00-0027004;00-0030046;00-0028112;00-0031325;00...</td>\n",
       "      <td>00-0031170;00-0027560;00-0027965;00-0031296;00...</td>\n",
       "      <td>10.0</td>\n",
       "      <td>10.0</td>\n",
       "    </tr>\n",
       "    <tr>\n",
       "      <th>4</th>\n",
       "      <td>13</td>\n",
       "      <td>310.0</td>\n",
       "      <td>2016_01_BUF_BAL</td>\n",
       "      <td>2016091101</td>\n",
       "      <td>BAL</td>\n",
       "      <td>BUF</td>\n",
       "      <td>REG</td>\n",
       "      <td>1</td>\n",
       "      <td>BAL</td>\n",
       "      <td>home</td>\n",
       "      <td>...</td>\n",
       "      <td>SHOTGUN</td>\n",
       "      <td>1 RB, 2 TE, 2 WR</td>\n",
       "      <td>7.0</td>\n",
       "      <td>4 DL, 3 LB, 4 DB</td>\n",
       "      <td>4.0</td>\n",
       "      <td>38540;41302;35553;38582;43295;40053;43369;4011...</td>\n",
       "      <td>00-0027714;00-0032965;00-0029893;00-0026223;00...</td>\n",
       "      <td>00-0029542;00-0031171;00-0029566;00-0030073;00...</td>\n",
       "      <td>11.0</td>\n",
       "      <td>11.0</td>\n",
       "    </tr>\n",
       "  </tbody>\n",
       "</table>\n",
       "<p>5 rows × 385 columns</p>\n",
       "</div>"
      ],
      "text/plain": [
       "   index  play_id          game_id old_game_id home_team away_team  \\\n",
       "0      3     85.0  2016_01_BUF_BAL  2016091101       BAL       BUF   \n",
       "1      5    130.0  2016_01_BUF_BAL  2016091101       BAL       BUF   \n",
       "2      9    216.0  2016_01_BUF_BAL  2016091101       BAL       BUF   \n",
       "3     11    261.0  2016_01_BUF_BAL  2016091101       BAL       BUF   \n",
       "4     13    310.0  2016_01_BUF_BAL  2016091101       BAL       BUF   \n",
       "\n",
       "  season_type  week posteam posteam_type  ... offense_formation  \\\n",
       "0         REG     1     BAL         home  ...           SHOTGUN   \n",
       "1         REG     1     BAL         home  ...            I_FORM   \n",
       "2         REG     1     BUF         away  ...           SHOTGUN   \n",
       "3         REG     1     BUF         away  ...           SHOTGUN   \n",
       "4         REG     1     BAL         home  ...           SHOTGUN   \n",
       "\n",
       "  offense_personnel  defenders_in_box defense_personnel  \\\n",
       "0  2 RB, 1 TE, 2 WR               6.0  4 DL, 3 LB, 4 DB   \n",
       "1  2 RB, 1 TE, 2 WR               7.0  4 DL, 3 LB, 4 DB   \n",
       "2  1 RB, 2 TE, 2 WR               7.0  3 DL, 4 LB, 4 DB   \n",
       "3  1 RB, 1 TE, 3 WR               6.0  1 DL, 5 LB, 5 DB   \n",
       "4  1 RB, 2 TE, 2 WR               7.0  4 DL, 3 LB, 4 DB   \n",
       "\n",
       "   number_of_pass_rushers                                    players_on_play  \\\n",
       "0                     3.0  41302;40078;38540;35553;43295;38582;40053;4336...   \n",
       "1                     5.0  40078;38540;41302;35553;38582;43295;40053;4336...   \n",
       "2                     4.0  34479;40111;41277;37249;41230;36089;37100;3567...   \n",
       "3                     3.0  34479;40111;41277;37249;41230;36089;40112;3710...   \n",
       "4                     4.0  38540;41302;35553;38582;43295;40053;43369;4011...   \n",
       "\n",
       "                                     offense_players  \\\n",
       "0  00-0029892;00-0027714;00-0032965;00-0029893;00...   \n",
       "1  00-0029892;00-0027714;00-0032965;00-0029893;00...   \n",
       "2  00-0027004;00-0030046;00-0028112;00-0031325;00...   \n",
       "3  00-0027004;00-0030046;00-0028112;00-0031325;00...   \n",
       "4  00-0027714;00-0032965;00-0029893;00-0026223;00...   \n",
       "\n",
       "                                     defense_players  n_offense  n_defense  \n",
       "0  00-0031171;00-0029542;00-0029566;00-0030073;00...       11.0       11.0  \n",
       "1  00-0029542;00-0031171;00-0029566;00-0030073;00...       11.0       11.0  \n",
       "2  00-0031170;00-0027560;00-0027965;00-0031296;00...       11.0       10.0  \n",
       "3  00-0031170;00-0027560;00-0027965;00-0031296;00...       10.0       10.0  \n",
       "4  00-0029542;00-0031171;00-0029566;00-0030073;00...       11.0       11.0  \n",
       "\n",
       "[5 rows x 385 columns]"
      ]
     },
     "execution_count": 117,
     "metadata": {},
     "output_type": "execute_result"
    }
   ],
   "source": [
    "df_passes.head()"
   ]
  },
  {
   "cell_type": "markdown",
   "id": "89361720",
   "metadata": {},
   "source": [
    "A *long pass* is a pass that is 20+ yards, and a *short pass* as less than 20 yards."
   ]
  },
  {
   "cell_type": "code",
   "execution_count": 118,
   "id": "118dfb55",
   "metadata": {},
   "outputs": [],
   "source": [
    "df_passes[\"pass_length_air_yards\"] = np.where(\n",
    "      df_passes[\"air_yards\"] >= 20, \"long\", \"short\"\n",
    ")"
   ]
  },
  {
   "cell_type": "code",
   "execution_count": 119,
   "id": "df4143c8",
   "metadata": {},
   "outputs": [],
   "source": [
    "df_passes[\"passing_yards\"] = np.where(\n",
    "          df_passes[\"passing_yards\"].isnull(), 0,\n",
    "          df_passes[\"passing_yards\"]\n",
    "        )"
   ]
  },
  {
   "cell_type": "code",
   "execution_count": 120,
   "id": "3173f9f5",
   "metadata": {},
   "outputs": [
    {
     "data": {
      "text/plain": [
       "count    137728.000000\n",
       "mean          7.173211\n",
       "std           9.645163\n",
       "min         -20.000000\n",
       "25%           0.000000\n",
       "50%           5.000000\n",
       "75%          11.000000\n",
       "max          98.000000\n",
       "Name: passing_yards, dtype: float64"
      ]
     },
     "execution_count": 120,
     "metadata": {},
     "output_type": "execute_result"
    }
   ],
   "source": [
    "df_passes[\"passing_yards\"].describe()"
   ]
  },
  {
   "cell_type": "markdown",
   "id": "4dcc158c",
   "metadata": {},
   "source": [
    "## Passing yards by pass type"
   ]
  },
  {
   "cell_type": "code",
   "execution_count": 121,
   "id": "ce72f345",
   "metadata": {},
   "outputs": [
    {
     "data": {
      "text/plain": [
       "count    121571.000000\n",
       "mean          6.515106\n",
       "std           7.689699\n",
       "min         -20.000000\n",
       "25%           0.000000\n",
       "50%           5.000000\n",
       "75%          10.000000\n",
       "max          95.000000\n",
       "Name: passing_yards, dtype: float64"
      ]
     },
     "execution_count": 121,
     "metadata": {},
     "output_type": "execute_result"
    }
   ],
   "source": [
    "df_passes.query(\"pass_length_air_yards == 'short'\")[\"passing_yards\"].describe()"
   ]
  },
  {
   "cell_type": "code",
   "execution_count": 122,
   "id": "c2b9e319",
   "metadata": {},
   "outputs": [
    {
     "data": {
      "text/plain": [
       "count    16157.000000\n",
       "mean        12.125023\n",
       "std         17.897650\n",
       "min          0.000000\n",
       "25%          0.000000\n",
       "50%          0.000000\n",
       "75%         26.000000\n",
       "max         98.000000\n",
       "Name: passing_yards, dtype: float64"
      ]
     },
     "execution_count": 122,
     "metadata": {},
     "output_type": "execute_result"
    }
   ],
   "source": [
    "df_passes.query(\"pass_length_air_yards == 'long'\")[\"passing_yards\"].describe()"
   ]
  },
  {
   "cell_type": "markdown",
   "id": "1b4f18da",
   "metadata": {},
   "source": [
    "## EPA by pass type"
   ]
  },
  {
   "cell_type": "code",
   "execution_count": 123,
   "id": "e15dd428",
   "metadata": {},
   "outputs": [
    {
     "data": {
      "text/plain": [
       "count    121570.000000\n",
       "mean          0.114528\n",
       "std           1.429945\n",
       "min         -13.031219\n",
       "25%          -0.609115\n",
       "50%          -0.006633\n",
       "75%           0.952334\n",
       "max           8.241420\n",
       "Name: epa, dtype: float64"
      ]
     },
     "execution_count": 123,
     "metadata": {},
     "output_type": "execute_result"
    }
   ],
   "source": [
    "df_passes.query(\"pass_length_air_yards == 'short'\")[\"epa\"].describe()"
   ]
  },
  {
   "cell_type": "code",
   "execution_count": 124,
   "id": "4a928ea2",
   "metadata": {},
   "outputs": [
    {
     "data": {
      "text/plain": [
       "count    16157.000000\n",
       "mean         0.372836\n",
       "std          2.183626\n",
       "min        -10.477921\n",
       "25%         -0.832401\n",
       "50%         -0.469055\n",
       "75%          2.131562\n",
       "max          8.789743\n",
       "Name: epa, dtype: float64"
      ]
     },
     "execution_count": 124,
     "metadata": {},
     "output_type": "execute_result"
    }
   ],
   "source": [
    "df_passes.query(\"pass_length_air_yards == 'long'\")[\"epa\"].describe()"
   ]
  },
  {
   "cell_type": "markdown",
   "id": "d120b457",
   "metadata": {},
   "source": [
    "# Plotting"
   ]
  },
  {
   "cell_type": "code",
   "execution_count": 125,
   "id": "a2683ec7",
   "metadata": {},
   "outputs": [],
   "source": [
    "import seaborn as sns\n",
    "import matplotlib.pyplot as plt"
   ]
  },
  {
   "cell_type": "markdown",
   "id": "0bd4de71",
   "metadata": {},
   "source": [
    "## Yards Gained on Passes"
   ]
  },
  {
   "cell_type": "code",
   "execution_count": 126,
   "id": "1a9e0376",
   "metadata": {},
   "outputs": [
    {
     "data": {
      "image/png": "[encoded data removed]",
      "text/plain": [
       "<Figure size 500x500 with 1 Axes>"
      ]
     },
     "metadata": {},
     "output_type": "display_data"
    }
   ],
   "source": [
    "sns.displot(data=df_passes, x=\"passing_yards\");\n",
    "plt.show();"
   ]
  },
  {
   "cell_type": "markdown",
   "id": "d6db2279",
   "metadata": {},
   "source": [
    "## Yards Gained on Short Passes"
   ]
  },
  {
   "cell_type": "code",
   "execution_count": 127,
   "id": "83fc63af",
   "metadata": {},
   "outputs": [],
   "source": [
    "sns.set_theme(style=\"whitegrid\", palette=\"colorblind\")\n",
    "df_short_passes = df_passes.query(\"pass_length_air_yards == 'short'\")"
   ]
  },
  {
   "cell_type": "code",
   "execution_count": 128,
   "id": "1680c194",
   "metadata": {},
   "outputs": [
    {
     "data": {
      "image/png": "[encoded data removed]",
      "text/plain": [
       "<Figure size 500x500 with 1 Axes>"
      ]
     },
     "metadata": {},
     "output_type": "display_data"
    }
   ],
   "source": [
    "pass_hist_short = sns.displot(data=df_short_passes, binwidth=1, x=\"passing_yards\")\n",
    "pass_hist_short.set_axis_labels(\"Yards gained (or lost) during a passing play\", \"Count\");\n",
    "plt.show();"
   ]
  },
  {
   "cell_type": "markdown",
   "id": "84c4a7bc",
   "metadata": {},
   "source": [
    "# Yards Gained on Long Passes"
   ]
  },
  {
   "cell_type": "code",
   "execution_count": 129,
   "id": "d69ce2d1",
   "metadata": {},
   "outputs": [],
   "source": [
    "sns.set_theme(style=\"whitegrid\", palette=\"colorblind\")\n",
    "df_long_passes = df_passes.query(\"pass_length_air_yards == 'long'\")"
   ]
  },
  {
   "cell_type": "code",
   "execution_count": 130,
   "id": "e8c9486b",
   "metadata": {},
   "outputs": [
    {
     "data": {
      "image/png": "[encoded data removed]",
      "text/plain": [
       "<Figure size 500x500 with 1 Axes>"
      ]
     },
     "metadata": {},
     "output_type": "display_data"
    }
   ],
   "source": [
    "pass_hist_long = sns.displot(data=df_long_passes, binwidth=1, x=\"passing_yards\")\n",
    "pass_hist_long.set_axis_labels(\"Yards gained (or lost) during a passing play\", \"Count\");\n",
    "plt.show();"
   ]
  },
  {
   "cell_type": "markdown",
   "id": "f379e1de",
   "metadata": {},
   "source": [
    "# Boxplot of Yards Gained (Passing)"
   ]
  },
  {
   "cell_type": "code",
   "execution_count": 131,
   "id": "0f614a6a",
   "metadata": {},
   "outputs": [
    {
     "data": {
      "image/png": "[encoded data removed]",
      "text/plain": [
       "<Figure size 640x480 with 1 Axes>"
      ]
     },
     "metadata": {},
     "output_type": "display_data"
    }
   ],
   "source": [
    "pass_boxplot = sns.boxplot(data=df_passes, x=\"pass_length_air_yards\", y=\"passing_yards\");\n",
    "pass_boxplot.set(\n",
    "    xlabel=\"Pass length (long >= 20 yards, short < 20 yards)\", \n",
    "    ylabel=\"Yards gained (or lost) during a passing play\",\n",
    ");\n",
    "plt.show();"
   ]
  },
  {
   "cell_type": "markdown",
   "id": "dea09836",
   "metadata": {},
   "source": [
    "# Player Stability for Passing Yards"
   ]
  },
  {
   "cell_type": "markdown",
   "id": "1168b6af",
   "metadata": {},
   "source": [
    "## Passing Attempts and Yards per Attempt "
   ]
  },
  {
   "cell_type": "code",
   "execution_count": 132,
   "id": "56932e3b",
   "metadata": {},
   "outputs": [
    {
     "data": {
      "text/html": [
       "<div>\n",
       "<style scoped>\n",
       "    .dataframe tbody tr th:only-of-type {\n",
       "        vertical-align: middle;\n",
       "    }\n",
       "\n",
       "    .dataframe tbody tr th {\n",
       "        vertical-align: top;\n",
       "    }\n",
       "\n",
       "    .dataframe thead tr th {\n",
       "        text-align: left;\n",
       "    }\n",
       "\n",
       "    .dataframe thead tr:last-of-type th {\n",
       "        text-align: right;\n",
       "    }\n",
       "</style>\n",
       "<table border=\"1\" class=\"dataframe\">\n",
       "  <thead>\n",
       "    <tr>\n",
       "      <th></th>\n",
       "      <th></th>\n",
       "      <th></th>\n",
       "      <th colspan=\"2\" halign=\"left\">passing_yards</th>\n",
       "    </tr>\n",
       "    <tr>\n",
       "      <th></th>\n",
       "      <th></th>\n",
       "      <th></th>\n",
       "      <th>mean</th>\n",
       "      <th>count</th>\n",
       "    </tr>\n",
       "    <tr>\n",
       "      <th>passer_id</th>\n",
       "      <th>passer</th>\n",
       "      <th>season</th>\n",
       "      <th></th>\n",
       "      <th></th>\n",
       "    </tr>\n",
       "  </thead>\n",
       "  <tbody>\n",
       "    <tr>\n",
       "      <th rowspan=\"5\" valign=\"top\">00-0019596</th>\n",
       "      <th rowspan=\"5\" valign=\"top\">T.Brady</th>\n",
       "      <th>2016</th>\n",
       "      <td>8.245939</td>\n",
       "      <td>431</td>\n",
       "    </tr>\n",
       "    <tr>\n",
       "      <th>2017</th>\n",
       "      <td>7.877797</td>\n",
       "      <td>581</td>\n",
       "    </tr>\n",
       "    <tr>\n",
       "      <th>2018</th>\n",
       "      <td>7.667253</td>\n",
       "      <td>568</td>\n",
       "    </tr>\n",
       "    <tr>\n",
       "      <th>2019</th>\n",
       "      <td>6.618271</td>\n",
       "      <td>613</td>\n",
       "    </tr>\n",
       "    <tr>\n",
       "      <th>2020</th>\n",
       "      <td>7.645215</td>\n",
       "      <td>606</td>\n",
       "    </tr>\n",
       "    <tr>\n",
       "      <th>...</th>\n",
       "      <th>...</th>\n",
       "      <th>...</th>\n",
       "      <td>...</td>\n",
       "      <td>...</td>\n",
       "    </tr>\n",
       "    <tr>\n",
       "      <th>00-0038598</th>\n",
       "      <th>J.Hall</th>\n",
       "      <th>2023</th>\n",
       "      <td>10.100000</td>\n",
       "      <td>10</td>\n",
       "    </tr>\n",
       "    <tr>\n",
       "      <th>00-0039150</th>\n",
       "      <th>B.Young</th>\n",
       "      <th>2023</th>\n",
       "      <td>5.362857</td>\n",
       "      <td>350</td>\n",
       "    </tr>\n",
       "    <tr>\n",
       "      <th>00-0039152</th>\n",
       "      <th>W.Levis</th>\n",
       "      <th>2023</th>\n",
       "      <td>6.946667</td>\n",
       "      <td>150</td>\n",
       "    </tr>\n",
       "    <tr>\n",
       "      <th>00-0039163</th>\n",
       "      <th>C.Stroud</th>\n",
       "      <th>2023</th>\n",
       "      <td>8.483117</td>\n",
       "      <td>385</td>\n",
       "    </tr>\n",
       "    <tr>\n",
       "      <th>00-0039164</th>\n",
       "      <th>A.Richardson</th>\n",
       "      <th>2023</th>\n",
       "      <td>6.869048</td>\n",
       "      <td>84</td>\n",
       "    </tr>\n",
       "  </tbody>\n",
       "</table>\n",
       "<p>808 rows × 2 columns</p>\n",
       "</div>"
      ],
      "text/plain": [
       "                               passing_yards      \n",
       "                                        mean count\n",
       "passer_id  passer       season                    \n",
       "00-0019596 T.Brady      2016        8.245939   431\n",
       "                        2017        7.877797   581\n",
       "                        2018        7.667253   568\n",
       "                        2019        6.618271   613\n",
       "                        2020        7.645215   606\n",
       "...                                      ...   ...\n",
       "00-0038598 J.Hall       2023       10.100000    10\n",
       "00-0039150 B.Young      2023        5.362857   350\n",
       "00-0039152 W.Levis      2023        6.946667   150\n",
       "00-0039163 C.Stroud     2023        8.483117   385\n",
       "00-0039164 A.Richardson 2023        6.869048    84\n",
       "\n",
       "[808 rows x 2 columns]"
      ]
     },
     "execution_count": 132,
     "metadata": {},
     "output_type": "execute_result"
    }
   ],
   "source": [
    "df_passes_by_season = df_passes.groupby([\"passer_id\", \"passer\", \"season\"]).agg({\"passing_yards\": [\"mean\", \"count\"]})\n",
    "df_passes_by_season"
   ]
  },
  {
   "cell_type": "markdown",
   "id": "7c8b4312",
   "metadata": {},
   "source": [
    "Remove the season of a player, if they have less than 100 passing attemtps."
   ]
  },
  {
   "cell_type": "code",
   "execution_count": 133,
   "id": "96a4d5d0",
   "metadata": {},
   "outputs": [
    {
     "data": {
      "text/html": [
       "<div>\n",
       "<style scoped>\n",
       "    .dataframe tbody tr th:only-of-type {\n",
       "        vertical-align: middle;\n",
       "    }\n",
       "\n",
       "    .dataframe tbody tr th {\n",
       "        vertical-align: top;\n",
       "    }\n",
       "\n",
       "    .dataframe thead tr th {\n",
       "        text-align: left;\n",
       "    }\n",
       "\n",
       "    .dataframe thead tr:last-of-type th {\n",
       "        text-align: right;\n",
       "    }\n",
       "</style>\n",
       "<table border=\"1\" class=\"dataframe\">\n",
       "  <thead>\n",
       "    <tr>\n",
       "      <th></th>\n",
       "      <th></th>\n",
       "      <th></th>\n",
       "      <th colspan=\"2\" halign=\"left\">passing_yards</th>\n",
       "    </tr>\n",
       "    <tr>\n",
       "      <th></th>\n",
       "      <th></th>\n",
       "      <th></th>\n",
       "      <th>mean</th>\n",
       "      <th>count</th>\n",
       "    </tr>\n",
       "    <tr>\n",
       "      <th>passer_id</th>\n",
       "      <th>passer</th>\n",
       "      <th>season</th>\n",
       "      <th></th>\n",
       "      <th></th>\n",
       "    </tr>\n",
       "  </thead>\n",
       "  <tbody>\n",
       "    <tr>\n",
       "      <th rowspan=\"5\" valign=\"top\">00-0019596</th>\n",
       "      <th rowspan=\"5\" valign=\"top\">T.Brady</th>\n",
       "      <th>2016</th>\n",
       "      <td>8.245939</td>\n",
       "      <td>431</td>\n",
       "    </tr>\n",
       "    <tr>\n",
       "      <th>2017</th>\n",
       "      <td>7.877797</td>\n",
       "      <td>581</td>\n",
       "    </tr>\n",
       "    <tr>\n",
       "      <th>2018</th>\n",
       "      <td>7.667253</td>\n",
       "      <td>568</td>\n",
       "    </tr>\n",
       "    <tr>\n",
       "      <th>2019</th>\n",
       "      <td>6.618271</td>\n",
       "      <td>613</td>\n",
       "    </tr>\n",
       "    <tr>\n",
       "      <th>2020</th>\n",
       "      <td>7.645215</td>\n",
       "      <td>606</td>\n",
       "    </tr>\n",
       "    <tr>\n",
       "      <th>...</th>\n",
       "      <th>...</th>\n",
       "      <th>...</th>\n",
       "      <td>...</td>\n",
       "      <td>...</td>\n",
       "    </tr>\n",
       "    <tr>\n",
       "      <th>00-0038579</th>\n",
       "      <th>A.O'Connell</th>\n",
       "      <th>2023</th>\n",
       "      <td>6.707865</td>\n",
       "      <td>178</td>\n",
       "    </tr>\n",
       "    <tr>\n",
       "      <th>00-0038583</th>\n",
       "      <th>D.Thompson-Robinson</th>\n",
       "      <th>2023</th>\n",
       "      <td>4.009346</td>\n",
       "      <td>107</td>\n",
       "    </tr>\n",
       "    <tr>\n",
       "      <th>00-0039150</th>\n",
       "      <th>B.Young</th>\n",
       "      <th>2023</th>\n",
       "      <td>5.362857</td>\n",
       "      <td>350</td>\n",
       "    </tr>\n",
       "    <tr>\n",
       "      <th>00-0039152</th>\n",
       "      <th>W.Levis</th>\n",
       "      <th>2023</th>\n",
       "      <td>6.946667</td>\n",
       "      <td>150</td>\n",
       "    </tr>\n",
       "    <tr>\n",
       "      <th>00-0039163</th>\n",
       "      <th>C.Stroud</th>\n",
       "      <th>2023</th>\n",
       "      <td>8.483117</td>\n",
       "      <td>385</td>\n",
       "    </tr>\n",
       "  </tbody>\n",
       "</table>\n",
       "<p>338 rows × 2 columns</p>\n",
       "</div>"
      ],
      "text/plain": [
       "                                      passing_yards      \n",
       "                                               mean count\n",
       "passer_id  passer              season                    \n",
       "00-0019596 T.Brady             2016        8.245939   431\n",
       "                               2017        7.877797   581\n",
       "                               2018        7.667253   568\n",
       "                               2019        6.618271   613\n",
       "                               2020        7.645215   606\n",
       "...                                             ...   ...\n",
       "00-0038579 A.O'Connell         2023        6.707865   178\n",
       "00-0038583 D.Thompson-Robinson 2023        4.009346   107\n",
       "00-0039150 B.Young             2023        5.362857   350\n",
       "00-0039152 W.Levis             2023        6.946667   150\n",
       "00-0039163 C.Stroud            2023        8.483117   385\n",
       "\n",
       "[338 rows x 2 columns]"
      ]
     },
     "execution_count": 133,
     "metadata": {},
     "output_type": "execute_result"
    }
   ],
   "source": [
    "df_passes_by_season = df_passes_by_season.groupby(level=[\"passer_id\", \"passer\", \"season\"]).filter(lambda x: x[('passing_yards', 'count')] >= 100)\n",
    "df_passes_by_season"
   ]
  },
  {
   "cell_type": "code",
   "execution_count": 134,
   "id": "d25e1aa6",
   "metadata": {},
   "outputs": [],
   "source": [
    "df_passes_by_season.columns = list(map(\"_\".join, df_passes_by_season.columns.values))\n",
    "df_passes_by_season.rename(columns={'passing_yards_mean': 'ypa', 'passing_yards_count': 'n'}, inplace=True)"
   ]
  },
  {
   "cell_type": "code",
   "execution_count": 135,
   "id": "08935393",
   "metadata": {},
   "outputs": [
    {
     "data": {
      "text/html": [
       "<div>\n",
       "<style scoped>\n",
       "    .dataframe tbody tr th:only-of-type {\n",
       "        vertical-align: middle;\n",
       "    }\n",
       "\n",
       "    .dataframe tbody tr th {\n",
       "        vertical-align: top;\n",
       "    }\n",
       "\n",
       "    .dataframe thead th {\n",
       "        text-align: right;\n",
       "    }\n",
       "</style>\n",
       "<table border=\"1\" class=\"dataframe\">\n",
       "  <thead>\n",
       "    <tr style=\"text-align: right;\">\n",
       "      <th></th>\n",
       "      <th></th>\n",
       "      <th></th>\n",
       "      <th>ypa</th>\n",
       "      <th>n</th>\n",
       "    </tr>\n",
       "    <tr>\n",
       "      <th>passer_id</th>\n",
       "      <th>passer</th>\n",
       "      <th>season</th>\n",
       "      <th></th>\n",
       "      <th></th>\n",
       "    </tr>\n",
       "  </thead>\n",
       "  <tbody>\n",
       "    <tr>\n",
       "      <th>00-0029701</th>\n",
       "      <th>R.Tannehill</th>\n",
       "      <th>2019</th>\n",
       "      <td>9.689046</td>\n",
       "      <td>283</td>\n",
       "    </tr>\n",
       "    <tr>\n",
       "      <th>00-0023682</th>\n",
       "      <th>R.Fitzpatrick</th>\n",
       "      <th>2018</th>\n",
       "      <td>9.617887</td>\n",
       "      <td>246</td>\n",
       "    </tr>\n",
       "    <tr>\n",
       "      <th>00-0037834</th>\n",
       "      <th>B.Purdy</th>\n",
       "      <th>2023</th>\n",
       "      <td>9.475247</td>\n",
       "      <td>303</td>\n",
       "    </tr>\n",
       "    <tr>\n",
       "      <th>00-0026143</th>\n",
       "      <th>M.Ryan</th>\n",
       "      <th>2016</th>\n",
       "      <td>9.258427</td>\n",
       "      <td>534</td>\n",
       "    </tr>\n",
       "    <tr>\n",
       "      <th>00-0036442</th>\n",
       "      <th>J.Burrow</th>\n",
       "      <th>2021</th>\n",
       "      <td>8.901545</td>\n",
       "      <td>518</td>\n",
       "    </tr>\n",
       "    <tr>\n",
       "      <th>00-0033537</th>\n",
       "      <th>D.Watson</th>\n",
       "      <th>2020</th>\n",
       "      <td>8.898524</td>\n",
       "      <td>542</td>\n",
       "    </tr>\n",
       "    <tr>\n",
       "      <th>00-0036212</th>\n",
       "      <th>T.Tagovailoa</th>\n",
       "      <th>2022</th>\n",
       "      <td>8.892231</td>\n",
       "      <td>399</td>\n",
       "    </tr>\n",
       "    <tr>\n",
       "      <th>00-0031345</th>\n",
       "      <th>J.Garoppolo</th>\n",
       "      <th>2017</th>\n",
       "      <td>8.863636</td>\n",
       "      <td>176</td>\n",
       "    </tr>\n",
       "    <tr>\n",
       "      <th>00-0033873</th>\n",
       "      <th>P.Mahomes</th>\n",
       "      <th>2018</th>\n",
       "      <td>8.803109</td>\n",
       "      <td>579</td>\n",
       "    </tr>\n",
       "    <tr>\n",
       "      <th>00-0031345</th>\n",
       "      <th>J.Garoppolo</th>\n",
       "      <th>2021</th>\n",
       "      <td>8.698630</td>\n",
       "      <td>438</td>\n",
       "    </tr>\n",
       "    <tr>\n",
       "      <th>00-0026498</th>\n",
       "      <th>M.Stafford</th>\n",
       "      <th>2019</th>\n",
       "      <td>8.647058</td>\n",
       "      <td>289</td>\n",
       "    </tr>\n",
       "    <tr>\n",
       "      <th>00-0039163</th>\n",
       "      <th>C.Stroud</th>\n",
       "      <th>2023</th>\n",
       "      <td>8.483117</td>\n",
       "      <td>385</td>\n",
       "    </tr>\n",
       "    <tr>\n",
       "      <th>00-0022942</th>\n",
       "      <th>P.Rivers</th>\n",
       "      <th>2018</th>\n",
       "      <td>8.480315</td>\n",
       "      <td>508</td>\n",
       "    </tr>\n",
       "    <tr>\n",
       "      <th>00-0036212</th>\n",
       "      <th>T.Tagovailoa</th>\n",
       "      <th>2023</th>\n",
       "      <td>8.472000</td>\n",
       "      <td>375</td>\n",
       "    </tr>\n",
       "    <tr>\n",
       "      <th>00-0033319</th>\n",
       "      <th>N.Mullens</th>\n",
       "      <th>2018</th>\n",
       "      <td>8.433333</td>\n",
       "      <td>270</td>\n",
       "    </tr>\n",
       "    <tr>\n",
       "      <th>00-0033537</th>\n",
       "      <th>D.Watson</th>\n",
       "      <th>2017</th>\n",
       "      <td>8.410892</td>\n",
       "      <td>202</td>\n",
       "    </tr>\n",
       "    <tr>\n",
       "      <th>00-0033077</th>\n",
       "      <th>D.Prescott</th>\n",
       "      <th>2020</th>\n",
       "      <td>8.398190</td>\n",
       "      <td>221</td>\n",
       "    </tr>\n",
       "    <tr>\n",
       "      <th>00-0031345</th>\n",
       "      <th>J.Garoppolo</th>\n",
       "      <th>2019</th>\n",
       "      <td>8.392406</td>\n",
       "      <td>474</td>\n",
       "    </tr>\n",
       "    <tr>\n",
       "      <th>00-0033106</th>\n",
       "      <th>J.Goff</th>\n",
       "      <th>2018</th>\n",
       "      <td>8.386404</td>\n",
       "      <td>559</td>\n",
       "    </tr>\n",
       "    <tr>\n",
       "      <th>00-0033537</th>\n",
       "      <th>D.Watson</th>\n",
       "      <th>2018</th>\n",
       "      <td>8.346693</td>\n",
       "      <td>499</td>\n",
       "    </tr>\n",
       "  </tbody>\n",
       "</table>\n",
       "</div>"
      ],
      "text/plain": [
       "                                      ypa    n\n",
       "passer_id  passer        season               \n",
       "00-0029701 R.Tannehill   2019    9.689046  283\n",
       "00-0023682 R.Fitzpatrick 2018    9.617887  246\n",
       "00-0037834 B.Purdy       2023    9.475247  303\n",
       "00-0026143 M.Ryan        2016    9.258427  534\n",
       "00-0036442 J.Burrow      2021    8.901545  518\n",
       "00-0033537 D.Watson      2020    8.898524  542\n",
       "00-0036212 T.Tagovailoa  2022    8.892231  399\n",
       "00-0031345 J.Garoppolo   2017    8.863636  176\n",
       "00-0033873 P.Mahomes     2018    8.803109  579\n",
       "00-0031345 J.Garoppolo   2021    8.698630  438\n",
       "00-0026498 M.Stafford    2019    8.647058  289\n",
       "00-0039163 C.Stroud      2023    8.483117  385\n",
       "00-0022942 P.Rivers      2018    8.480315  508\n",
       "00-0036212 T.Tagovailoa  2023    8.472000  375\n",
       "00-0033319 N.Mullens     2018    8.433333  270\n",
       "00-0033537 D.Watson      2017    8.410892  202\n",
       "00-0033077 D.Prescott    2020    8.398190  221\n",
       "00-0031345 J.Garoppolo   2019    8.392406  474\n",
       "00-0033106 J.Goff        2018    8.386404  559\n",
       "00-0033537 D.Watson      2018    8.346693  499"
      ]
     },
     "execution_count": 135,
     "metadata": {},
     "output_type": "execute_result"
    }
   ],
   "source": [
    "df_passes_by_season.sort_values(by=[\"ypa\"], ascending=False).head(20)"
   ]
  },
  {
   "cell_type": "markdown",
   "id": "da4bdd7f",
   "metadata": {},
   "source": [
    "## Passing Yards by Season"
   ]
  },
  {
   "cell_type": "code",
   "execution_count": 136,
   "id": "ce958e35",
   "metadata": {},
   "outputs": [
    {
     "data": {
      "text/html": [
       "<div>\n",
       "<style scoped>\n",
       "    .dataframe tbody tr th:only-of-type {\n",
       "        vertical-align: middle;\n",
       "    }\n",
       "\n",
       "    .dataframe tbody tr th {\n",
       "        vertical-align: top;\n",
       "    }\n",
       "\n",
       "    .dataframe thead tr th {\n",
       "        text-align: left;\n",
       "    }\n",
       "\n",
       "    .dataframe thead tr:last-of-type th {\n",
       "        text-align: right;\n",
       "    }\n",
       "</style>\n",
       "<table border=\"1\" class=\"dataframe\">\n",
       "  <thead>\n",
       "    <tr>\n",
       "      <th></th>\n",
       "      <th></th>\n",
       "      <th></th>\n",
       "      <th colspan=\"2\" halign=\"left\">passing_yards</th>\n",
       "    </tr>\n",
       "    <tr>\n",
       "      <th></th>\n",
       "      <th></th>\n",
       "      <th></th>\n",
       "      <th>sum</th>\n",
       "      <th>count</th>\n",
       "    </tr>\n",
       "    <tr>\n",
       "      <th>passer_id</th>\n",
       "      <th>passer</th>\n",
       "      <th>season</th>\n",
       "      <th></th>\n",
       "      <th></th>\n",
       "    </tr>\n",
       "  </thead>\n",
       "  <tbody>\n",
       "    <tr>\n",
       "      <th rowspan=\"5\" valign=\"top\">00-0019596</th>\n",
       "      <th rowspan=\"5\" valign=\"top\">T.Brady</th>\n",
       "      <th>2016</th>\n",
       "      <td>3554.0</td>\n",
       "      <td>431</td>\n",
       "    </tr>\n",
       "    <tr>\n",
       "      <th>2017</th>\n",
       "      <td>4577.0</td>\n",
       "      <td>581</td>\n",
       "    </tr>\n",
       "    <tr>\n",
       "      <th>2018</th>\n",
       "      <td>4355.0</td>\n",
       "      <td>568</td>\n",
       "    </tr>\n",
       "    <tr>\n",
       "      <th>2019</th>\n",
       "      <td>4057.0</td>\n",
       "      <td>613</td>\n",
       "    </tr>\n",
       "    <tr>\n",
       "      <th>2020</th>\n",
       "      <td>4633.0</td>\n",
       "      <td>606</td>\n",
       "    </tr>\n",
       "    <tr>\n",
       "      <th>...</th>\n",
       "      <th>...</th>\n",
       "      <th>...</th>\n",
       "      <td>...</td>\n",
       "      <td>...</td>\n",
       "    </tr>\n",
       "    <tr>\n",
       "      <th>00-0038598</th>\n",
       "      <th>J.Hall</th>\n",
       "      <th>2023</th>\n",
       "      <td>101.0</td>\n",
       "      <td>10</td>\n",
       "    </tr>\n",
       "    <tr>\n",
       "      <th>00-0039150</th>\n",
       "      <th>B.Young</th>\n",
       "      <th>2023</th>\n",
       "      <td>1877.0</td>\n",
       "      <td>350</td>\n",
       "    </tr>\n",
       "    <tr>\n",
       "      <th>00-0039152</th>\n",
       "      <th>W.Levis</th>\n",
       "      <th>2023</th>\n",
       "      <td>1042.0</td>\n",
       "      <td>150</td>\n",
       "    </tr>\n",
       "    <tr>\n",
       "      <th>00-0039163</th>\n",
       "      <th>C.Stroud</th>\n",
       "      <th>2023</th>\n",
       "      <td>3266.0</td>\n",
       "      <td>385</td>\n",
       "    </tr>\n",
       "    <tr>\n",
       "      <th>00-0039164</th>\n",
       "      <th>A.Richardson</th>\n",
       "      <th>2023</th>\n",
       "      <td>577.0</td>\n",
       "      <td>84</td>\n",
       "    </tr>\n",
       "  </tbody>\n",
       "</table>\n",
       "<p>808 rows × 2 columns</p>\n",
       "</div>"
      ],
      "text/plain": [
       "                               passing_yards      \n",
       "                                         sum count\n",
       "passer_id  passer       season                    \n",
       "00-0019596 T.Brady      2016          3554.0   431\n",
       "                        2017          4577.0   581\n",
       "                        2018          4355.0   568\n",
       "                        2019          4057.0   613\n",
       "                        2020          4633.0   606\n",
       "...                                      ...   ...\n",
       "00-0038598 J.Hall       2023           101.0    10\n",
       "00-0039150 B.Young      2023          1877.0   350\n",
       "00-0039152 W.Levis      2023          1042.0   150\n",
       "00-0039163 C.Stroud     2023          3266.0   385\n",
       "00-0039164 A.Richardson 2023           577.0    84\n",
       "\n",
       "[808 rows x 2 columns]"
      ]
     },
     "execution_count": 136,
     "metadata": {},
     "output_type": "execute_result"
    }
   ],
   "source": [
    "df_passing_yards_by_season = df_passes.groupby([\"passer_id\", \"passer\", \"season\"]).agg({\"passing_yards\": [\"sum\", \"count\"]})\n",
    "df_passing_yards_by_season"
   ]
  },
  {
   "cell_type": "code",
   "execution_count": 137,
   "id": "daca0d16",
   "metadata": {},
   "outputs": [
    {
     "data": {
      "text/html": [
       "<div>\n",
       "<style scoped>\n",
       "    .dataframe tbody tr th:only-of-type {\n",
       "        vertical-align: middle;\n",
       "    }\n",
       "\n",
       "    .dataframe tbody tr th {\n",
       "        vertical-align: top;\n",
       "    }\n",
       "\n",
       "    .dataframe thead tr th {\n",
       "        text-align: left;\n",
       "    }\n",
       "\n",
       "    .dataframe thead tr:last-of-type th {\n",
       "        text-align: right;\n",
       "    }\n",
       "</style>\n",
       "<table border=\"1\" class=\"dataframe\">\n",
       "  <thead>\n",
       "    <tr>\n",
       "      <th></th>\n",
       "      <th></th>\n",
       "      <th></th>\n",
       "      <th colspan=\"2\" halign=\"left\">passing_yards</th>\n",
       "    </tr>\n",
       "    <tr>\n",
       "      <th></th>\n",
       "      <th></th>\n",
       "      <th></th>\n",
       "      <th>sum</th>\n",
       "      <th>count</th>\n",
       "    </tr>\n",
       "    <tr>\n",
       "      <th>passer_id</th>\n",
       "      <th>passer</th>\n",
       "      <th>season</th>\n",
       "      <th></th>\n",
       "      <th></th>\n",
       "    </tr>\n",
       "  </thead>\n",
       "  <tbody>\n",
       "    <tr>\n",
       "      <th rowspan=\"5\" valign=\"top\">00-0019596</th>\n",
       "      <th rowspan=\"5\" valign=\"top\">T.Brady</th>\n",
       "      <th>2016</th>\n",
       "      <td>3554.0</td>\n",
       "      <td>431</td>\n",
       "    </tr>\n",
       "    <tr>\n",
       "      <th>2017</th>\n",
       "      <td>4577.0</td>\n",
       "      <td>581</td>\n",
       "    </tr>\n",
       "    <tr>\n",
       "      <th>2018</th>\n",
       "      <td>4355.0</td>\n",
       "      <td>568</td>\n",
       "    </tr>\n",
       "    <tr>\n",
       "      <th>2019</th>\n",
       "      <td>4057.0</td>\n",
       "      <td>613</td>\n",
       "    </tr>\n",
       "    <tr>\n",
       "      <th>2020</th>\n",
       "      <td>4633.0</td>\n",
       "      <td>606</td>\n",
       "    </tr>\n",
       "    <tr>\n",
       "      <th>...</th>\n",
       "      <th>...</th>\n",
       "      <th>...</th>\n",
       "      <td>...</td>\n",
       "      <td>...</td>\n",
       "    </tr>\n",
       "    <tr>\n",
       "      <th>00-0037077</th>\n",
       "      <th>S.Howell</th>\n",
       "      <th>2023</th>\n",
       "      <td>3339.0</td>\n",
       "      <td>486</td>\n",
       "    </tr>\n",
       "    <tr>\n",
       "      <th>00-0037834</th>\n",
       "      <th>B.Purdy</th>\n",
       "      <th>2023</th>\n",
       "      <td>2871.0</td>\n",
       "      <td>303</td>\n",
       "    </tr>\n",
       "    <tr>\n",
       "      <th rowspan=\"2\" valign=\"top\">00-0038102</th>\n",
       "      <th rowspan=\"2\" valign=\"top\">K.Pickett</th>\n",
       "      <th>2022</th>\n",
       "      <td>2404.0</td>\n",
       "      <td>388</td>\n",
       "    </tr>\n",
       "    <tr>\n",
       "      <th>2023</th>\n",
       "      <td>2000.0</td>\n",
       "      <td>313</td>\n",
       "    </tr>\n",
       "    <tr>\n",
       "      <th>00-0039163</th>\n",
       "      <th>C.Stroud</th>\n",
       "      <th>2023</th>\n",
       "      <td>3266.0</td>\n",
       "      <td>385</td>\n",
       "    </tr>\n",
       "  </tbody>\n",
       "</table>\n",
       "<p>233 rows × 2 columns</p>\n",
       "</div>"
      ],
      "text/plain": [
       "                            passing_yards      \n",
       "                                      sum count\n",
       "passer_id  passer    season                    \n",
       "00-0019596 T.Brady   2016          3554.0   431\n",
       "                     2017          4577.0   581\n",
       "                     2018          4355.0   568\n",
       "                     2019          4057.0   613\n",
       "                     2020          4633.0   606\n",
       "...                                   ...   ...\n",
       "00-0037077 S.Howell  2023          3339.0   486\n",
       "00-0037834 B.Purdy   2023          2871.0   303\n",
       "00-0038102 K.Pickett 2022          2404.0   388\n",
       "                     2023          2000.0   313\n",
       "00-0039163 C.Stroud  2023          3266.0   385\n",
       "\n",
       "[233 rows x 2 columns]"
      ]
     },
     "execution_count": 137,
     "metadata": {},
     "output_type": "execute_result"
    }
   ],
   "source": [
    "df_passing_yards_by_season = df_passing_yards_by_season.groupby(level=[\"passer_id\", \"passer\", \"season\"]).filter(lambda x: x[('passing_yards', 'sum')] >= 2000)\n",
    "df_passing_yards_by_season"
   ]
  },
  {
   "cell_type": "code",
   "execution_count": 138,
   "id": "4211cbdf",
   "metadata": {},
   "outputs": [],
   "source": [
    "df_passing_yards_by_season.columns = list(map(\"_\".join, df_passing_yards_by_season.columns.values))\n",
    "df_passing_yards_by_season.rename(columns={'passing_yards_sum': 'yards', 'passing_yards_count': 'n'}, inplace=True)"
   ]
  },
  {
   "cell_type": "code",
   "execution_count": 139,
   "id": "e8c849dc",
   "metadata": {},
   "outputs": [
    {
     "data": {
      "text/html": [
       "<div>\n",
       "<style scoped>\n",
       "    .dataframe tbody tr th:only-of-type {\n",
       "        vertical-align: middle;\n",
       "    }\n",
       "\n",
       "    .dataframe tbody tr th {\n",
       "        vertical-align: top;\n",
       "    }\n",
       "\n",
       "    .dataframe thead th {\n",
       "        text-align: right;\n",
       "    }\n",
       "</style>\n",
       "<table border=\"1\" class=\"dataframe\">\n",
       "  <thead>\n",
       "    <tr style=\"text-align: right;\">\n",
       "      <th></th>\n",
       "      <th></th>\n",
       "      <th></th>\n",
       "      <th>yards</th>\n",
       "      <th>n</th>\n",
       "    </tr>\n",
       "    <tr>\n",
       "      <th>passer_id</th>\n",
       "      <th>passer</th>\n",
       "      <th>season</th>\n",
       "      <th></th>\n",
       "      <th></th>\n",
       "    </tr>\n",
       "  </thead>\n",
       "  <tbody>\n",
       "    <tr>\n",
       "      <th>00-0019596</th>\n",
       "      <th>T.Brady</th>\n",
       "      <th>2021</th>\n",
       "      <td>5316.0</td>\n",
       "      <td>717</td>\n",
       "    </tr>\n",
       "    <tr>\n",
       "      <th>00-0033873</th>\n",
       "      <th>P.Mahomes</th>\n",
       "      <th>2022</th>\n",
       "      <td>5250.0</td>\n",
       "      <td>648</td>\n",
       "    </tr>\n",
       "    <tr>\n",
       "      <th>00-0020531</th>\n",
       "      <th>D.Brees</th>\n",
       "      <th>2016</th>\n",
       "      <td>5209.0</td>\n",
       "      <td>664</td>\n",
       "    </tr>\n",
       "    <tr>\n",
       "      <th>00-0022924</th>\n",
       "      <th>B.Roethlisberger</th>\n",
       "      <th>2018</th>\n",
       "      <td>5129.0</td>\n",
       "      <td>672</td>\n",
       "    </tr>\n",
       "    <tr>\n",
       "      <th>00-0031503</th>\n",
       "      <th>J.Winston</th>\n",
       "      <th>2019</th>\n",
       "      <td>5109.0</td>\n",
       "      <td>624</td>\n",
       "    </tr>\n",
       "    <tr>\n",
       "      <th>00-0033873</th>\n",
       "      <th>P.Mahomes</th>\n",
       "      <th>2018</th>\n",
       "      <td>5097.0</td>\n",
       "      <td>579</td>\n",
       "    </tr>\n",
       "    <tr>\n",
       "      <th>00-0036355</th>\n",
       "      <th>J.Herbert</th>\n",
       "      <th>2021</th>\n",
       "      <td>5014.0</td>\n",
       "      <td>671</td>\n",
       "    </tr>\n",
       "    <tr>\n",
       "      <th rowspan=\"2\" valign=\"top\">00-0026143</th>\n",
       "      <th rowspan=\"2\" valign=\"top\">M.Ryan</th>\n",
       "      <th>2016</th>\n",
       "      <td>4944.0</td>\n",
       "      <td>534</td>\n",
       "    </tr>\n",
       "    <tr>\n",
       "      <th>2018</th>\n",
       "      <td>4924.0</td>\n",
       "      <td>607</td>\n",
       "    </tr>\n",
       "    <tr>\n",
       "      <th>00-0029604</th>\n",
       "      <th>K.Cousins</th>\n",
       "      <th>2016</th>\n",
       "      <td>4917.0</td>\n",
       "      <td>603</td>\n",
       "    </tr>\n",
       "    <tr>\n",
       "      <th>00-0033077</th>\n",
       "      <th>D.Prescott</th>\n",
       "      <th>2019</th>\n",
       "      <td>4902.0</td>\n",
       "      <td>595</td>\n",
       "    </tr>\n",
       "    <tr>\n",
       "      <th>00-0026498</th>\n",
       "      <th>M.Stafford</th>\n",
       "      <th>2021</th>\n",
       "      <td>4886.0</td>\n",
       "      <td>601</td>\n",
       "    </tr>\n",
       "    <tr>\n",
       "      <th>00-0033873</th>\n",
       "      <th>P.Mahomes</th>\n",
       "      <th>2021</th>\n",
       "      <td>4839.0</td>\n",
       "      <td>658</td>\n",
       "    </tr>\n",
       "    <tr>\n",
       "      <th>00-0033537</th>\n",
       "      <th>D.Watson</th>\n",
       "      <th>2020</th>\n",
       "      <td>4823.0</td>\n",
       "      <td>542</td>\n",
       "    </tr>\n",
       "    <tr>\n",
       "      <th>00-0031280</th>\n",
       "      <th>D.Carr</th>\n",
       "      <th>2021</th>\n",
       "      <td>4804.0</td>\n",
       "      <td>623</td>\n",
       "    </tr>\n",
       "    <tr>\n",
       "      <th>00-0033873</th>\n",
       "      <th>P.Mahomes</th>\n",
       "      <th>2020</th>\n",
       "      <td>4740.0</td>\n",
       "      <td>587</td>\n",
       "    </tr>\n",
       "    <tr>\n",
       "      <th>00-0036355</th>\n",
       "      <th>J.Herbert</th>\n",
       "      <th>2022</th>\n",
       "      <td>4739.0</td>\n",
       "      <td>697</td>\n",
       "    </tr>\n",
       "    <tr>\n",
       "      <th>00-0019596</th>\n",
       "      <th>T.Brady</th>\n",
       "      <th>2022</th>\n",
       "      <td>4694.0</td>\n",
       "      <td>730</td>\n",
       "    </tr>\n",
       "    <tr>\n",
       "      <th rowspan=\"2\" valign=\"top\">00-0033106</th>\n",
       "      <th rowspan=\"2\" valign=\"top\">J.Goff</th>\n",
       "      <th>2018</th>\n",
       "      <td>4688.0</td>\n",
       "      <td>559</td>\n",
       "    </tr>\n",
       "    <tr>\n",
       "      <th>2019</th>\n",
       "      <td>4638.0</td>\n",
       "      <td>625</td>\n",
       "    </tr>\n",
       "  </tbody>\n",
       "</table>\n",
       "</div>"
      ],
      "text/plain": [
       "                                     yards    n\n",
       "passer_id  passer           season             \n",
       "00-0019596 T.Brady          2021    5316.0  717\n",
       "00-0033873 P.Mahomes        2022    5250.0  648\n",
       "00-0020531 D.Brees          2016    5209.0  664\n",
       "00-0022924 B.Roethlisberger 2018    5129.0  672\n",
       "00-0031503 J.Winston        2019    5109.0  624\n",
       "00-0033873 P.Mahomes        2018    5097.0  579\n",
       "00-0036355 J.Herbert        2021    5014.0  671\n",
       "00-0026143 M.Ryan           2016    4944.0  534\n",
       "                            2018    4924.0  607\n",
       "00-0029604 K.Cousins        2016    4917.0  603\n",
       "00-0033077 D.Prescott       2019    4902.0  595\n",
       "00-0026498 M.Stafford       2021    4886.0  601\n",
       "00-0033873 P.Mahomes        2021    4839.0  658\n",
       "00-0033537 D.Watson         2020    4823.0  542\n",
       "00-0031280 D.Carr           2021    4804.0  623\n",
       "00-0033873 P.Mahomes        2020    4740.0  587\n",
       "00-0036355 J.Herbert        2022    4739.0  697\n",
       "00-0019596 T.Brady          2022    4694.0  730\n",
       "00-0033106 J.Goff           2018    4688.0  559\n",
       "                            2019    4638.0  625"
      ]
     },
     "execution_count": 139,
     "metadata": {},
     "output_type": "execute_result"
    }
   ],
   "source": [
    "df_passing_yards_by_season.sort_values(by=[\"yards\"], ascending=False).head(20)"
   ]
  },
  {
   "cell_type": "code",
   "execution_count": null,
   "id": "bba11841",
   "metadata": {},
   "outputs": [],
   "source": []
  }
 ],
 "metadata": {
  "kernelspec": {
   "display_name": "nfldata",
   "language": "python",
   "name": "nfldata"
  },
  "language_info": {
   "codemirror_mode": {
    "name": "ipython",
    "version": 3
   },
   "file_extension": ".py",
   "mimetype": "text/x-python",
   "name": "python",
   "nbconvert_exporter": "python",
   "pygments_lexer": "ipython3",
   "version": "3.9.7"
  }
 },
 "nbformat": 4,
 "nbformat_minor": 5
}
