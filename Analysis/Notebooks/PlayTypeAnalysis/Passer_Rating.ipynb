{
 "cells": [
  {
   "cell_type": "markdown",
   "id": "2575307f-7e52-4450-893b-b14f173b70e2",
   "metadata": {},
   "source": [
    "# Passer Rating\n",
    "\n",
    "Four formulas:\n",
    " 1) **passing attempts:** # of completions and divide it by the number of attempts, subtract that by .3 and multiply the resulting number by 5 ((comps/atts - .3) * 5)\n",
    " 2) **passing yards equation:** # of passing yards and divide it by number of attempts, subtract 3 and multiply the resulting number by 0.25 ((pyards/attempts - 3) * 0.25)\n",
    " 3) **passing tds:** # of tds divided by number of attempts, and multiply by 20 (ptds/attempts * 20)\n",
    " 4) **passing ints:** take 2.375 and subtract the # of ints divided by number of attempts, multiplied by 25 (2.375 - ((ints/attempts) * 25)"
   ]
  },
  {
   "cell_type": "code",
   "execution_count": null,
   "id": "57c88b04-8ad9-4c4c-a2fb-0793f096ac22",
   "metadata": {},
   "outputs": [],
   "source": []
  }
 ],
 "metadata": {
  "kernelspec": {
   "display_name": "plotly",
   "language": "python",
   "name": "plotly"
  },
  "language_info": {
   "codemirror_mode": {
    "name": "ipython",
    "version": 3
   },
   "file_extension": ".py",
   "mimetype": "text/x-python",
   "name": "python",
   "nbconvert_exporter": "python",
   "pygments_lexer": "ipython3",
   "version": "3.9.7"
  }
 },
 "nbformat": 4,
 "nbformat_minor": 5
}
