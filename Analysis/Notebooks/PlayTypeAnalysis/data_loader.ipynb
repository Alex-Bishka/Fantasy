{
 "cells": [
  {
   "cell_type": "code",
   "execution_count": 1,
   "id": "1a3087a5-1d92-48ae-ab80-a32083acc06d",
   "metadata": {},
   "outputs": [],
   "source": [
    "import nfl_data_py as nfl\n",
    "import pandas as pd"
   ]
  },
  {
   "cell_type": "code",
   "execution_count": 2,
   "id": "a091b301-72cf-4c8b-b2f4-d4f8d8243cc3",
   "metadata": {},
   "outputs": [],
   "source": [
    "years = list(range(2020, 2024))"
   ]
  },
  {
   "cell_type": "code",
   "execution_count": 3,
   "id": "17a9c396-42e7-4d11-8b15-d97f042c6c58",
   "metadata": {},
   "outputs": [],
   "source": [
    "df_ngs_wr = nfl.import_ngs_data(years=years, stat_type='receiving')"
   ]
  },
  {
   "cell_type": "code",
   "execution_count": 4,
   "id": "714de919-a9bf-4e3c-b3cf-d0883fce0d59",
   "metadata": {},
   "outputs": [],
   "source": [
    "df_ngs_rb = nfl.import_ngs_data(years=years, stat_type='rushing')"
   ]
  },
  {
   "cell_type": "code",
   "execution_count": 5,
   "id": "b93d6047-3983-4b9d-ab18-989d9ca2afe2",
   "metadata": {},
   "outputs": [],
   "source": [
    "df_ngs_wr.to_csv(\"df_ngs_wr_2020_2023.csv\", index=False)"
   ]
  },
  {
   "cell_type": "code",
   "execution_count": 6,
   "id": "780f9414-d602-46bf-8172-a599204a2be1",
   "metadata": {},
   "outputs": [],
   "source": [
    "df_ngs_rb.to_csv(\"df_ngs_rb_2020_2023.csv\", index=False)"
   ]
  },
  {
   "cell_type": "code",
   "execution_count": null,
   "id": "4ce948db-9abe-4713-a2a6-98286439f36e",
   "metadata": {},
   "outputs": [],
   "source": []
  }
 ],
 "metadata": {
  "kernelspec": {
   "display_name": "nfldata",
   "language": "python",
   "name": "nfldata"
  },
  "language_info": {
   "codemirror_mode": {
    "name": "ipython",
    "version": 3
   },
   "file_extension": ".py",
   "mimetype": "text/x-python",
   "name": "python",
   "nbconvert_exporter": "python",
   "pygments_lexer": "ipython3",
   "version": "3.9.7"
  }
 },
 "nbformat": 4,
 "nbformat_minor": 5
}
