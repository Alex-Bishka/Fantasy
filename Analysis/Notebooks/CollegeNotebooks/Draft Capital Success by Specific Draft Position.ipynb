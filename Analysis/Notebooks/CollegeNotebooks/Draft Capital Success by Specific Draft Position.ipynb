{
 "cells": [
  {
   "cell_type": "markdown",
   "id": "bad437e3",
   "metadata": {},
   "source": [
    "# Imports"
   ]
  },
  {
   "cell_type": "code",
   "execution_count": 1,
   "id": "24448bf4",
   "metadata": {},
   "outputs": [],
   "source": [
    "import numpy as np\n",
    "import pandas as pd\n",
    "\n",
    "import plotly.express as px"
   ]
  },
  {
   "cell_type": "markdown",
   "id": "9364cef8",
   "metadata": {},
   "source": [
    "# Params to Set"
   ]
  },
  {
   "cell_type": "code",
   "execution_count": 2,
   "id": "f298ef3e",
   "metadata": {},
   "outputs": [],
   "source": [
    "POSITION = \"qb\"\n",
    "THRESHOLD = 1"
   ]
  },
  {
   "cell_type": "markdown",
   "id": "55894b17",
   "metadata": {},
   "source": [
    "# Load in Data"
   ]
  },
  {
   "cell_type": "code",
   "execution_count": 3,
   "id": "29bca49f",
   "metadata": {},
   "outputs": [],
   "source": [
    "pickle_to_load = f\"../../FantasyData/data-frames/df_{POSITION}_college_2000_2023.pkl\""
   ]
  },
  {
   "cell_type": "code",
   "execution_count": 4,
   "id": "21f5490a",
   "metadata": {},
   "outputs": [],
   "source": [
    "df_pos = pd.read_pickle(pickle_to_load)"
   ]
  },
  {
   "cell_type": "markdown",
   "id": "69f0f301",
   "metadata": {},
   "source": [
    "### For saving Data Later"
   ]
  },
  {
   "cell_type": "code",
   "execution_count": 5,
   "id": "5e5d2085",
   "metadata": {},
   "outputs": [],
   "source": [
    "save_path = f\"../../interactive-2.0/{POSITION.upper()}/draft-capital/\""
   ]
  },
  {
   "cell_type": "markdown",
   "id": "736da042",
   "metadata": {},
   "source": [
    "# Clean Up Data"
   ]
  },
  {
   "cell_type": "code",
   "execution_count": 6,
   "id": "72d5f0b6",
   "metadata": {},
   "outputs": [],
   "source": [
    "df_clean = df_pos.copy().dropna(subset=[\"draft_ovr\"])"
   ]
  },
  {
   "cell_type": "code",
   "execution_count": 7,
   "id": "12716980",
   "metadata": {},
   "outputs": [],
   "source": [
    "df = df_clean[[\"draft_ovr\", \"player_name\", \"tier\"]]"
   ]
  },
  {
   "cell_type": "markdown",
   "id": "13397d19",
   "metadata": {},
   "source": [
    "# Get Draft Capital Success Rate By Round"
   ]
  },
  {
   "cell_type": "markdown",
   "id": "03b27648",
   "metadata": {},
   "source": [
    "Defining pick ranges:"
   ]
  },
  {
   "cell_type": "code",
   "execution_count": 8,
   "id": "057b6cf1",
   "metadata": {},
   "outputs": [],
   "source": [
    "# bins = [0, 3, 5, 10, 15, 20, 32, float('inf')]  # This defines 'Top 3', 'Top 5', 'Top 10', and 'Others'\n",
    "# labels = ['1-3', '4-5', '6-10', '11-15', '16-20', '21-32', \"Others\"]"
   ]
  },
  {
   "cell_type": "code",
   "execution_count": 9,
   "id": "932c4737",
   "metadata": {},
   "outputs": [],
   "source": [
    "# bins = [0, 10, 20, 32, 48, 64, 80, 96, float('inf')]  # This defines 'Top 3', 'Top 5', 'Top 10', and 'Others'\n",
    "# labels = ['1-10', '11-20', '21-32', '33-48', '49-64', \"65-80\", \"81-96\", \"Others\"]"
   ]
  },
  {
   "cell_type": "code",
   "execution_count": 10,
   "id": "141bef95",
   "metadata": {},
   "outputs": [],
   "source": [
    "bins = [0, 5, 10, 32, float('inf')]  # This defines 'Top 3', 'Top 5', 'Top 10', and 'Others'\n",
    "labels = ['1-5', '6-10', '11-32', \"Others\"]"
   ]
  },
  {
   "cell_type": "markdown",
   "id": "0b2d4e00",
   "metadata": {},
   "source": [
    "Categorize each player into a pick range:"
   ]
  },
  {
   "cell_type": "code",
   "execution_count": 11,
   "id": "d6c53e92",
   "metadata": {},
   "outputs": [
    {
     "name": "stderr",
     "output_type": "stream",
     "text": [
      "/tmp/ipykernel_22579/185501029.py:2: SettingWithCopyWarning: \n",
      "A value is trying to be set on a copy of a slice from a DataFrame.\n",
      "Try using .loc[row_indexer,col_indexer] = value instead\n",
      "\n",
      "See the caveats in the documentation: https://pandas.pydata.org/pandas-docs/stable/user_guide/indexing.html#returning-a-view-versus-a-copy\n",
      "  df['pick_range'] = pd.cut(df['draft_ovr'], bins=bins, labels=labels, right=True)\n"
     ]
    }
   ],
   "source": [
    "# Step 2: Categorize each player into a pick range\n",
    "df['pick_range'] = pd.cut(df['draft_ovr'], bins=bins, labels=labels, right=True)"
   ]
  },
  {
   "cell_type": "code",
   "execution_count": 12,
   "id": "e47b11cc",
   "metadata": {},
   "outputs": [],
   "source": [
    "pick_ranges = df[['player_name', 'pick_range']].drop_duplicates()"
   ]
  },
  {
   "cell_type": "code",
   "execution_count": 13,
   "id": "20946458",
   "metadata": {},
   "outputs": [],
   "source": [
    "career_best_tier = df.groupby('player_name')['tier'].min().reset_index()"
   ]
  },
  {
   "cell_type": "code",
   "execution_count": 14,
   "id": "b880dd61",
   "metadata": {},
   "outputs": [],
   "source": [
    "tier_counts = pd.merge(career_best_tier, pick_ranges, on='player_name')"
   ]
  },
  {
   "cell_type": "code",
   "execution_count": 15,
   "id": "ace4eaed",
   "metadata": {},
   "outputs": [
    {
     "name": "stderr",
     "output_type": "stream",
     "text": [
      "/tmp/ipykernel_22579/3307901133.py:1: FutureWarning: The default of observed=False is deprecated and will be changed to True in a future version of pandas. Pass observed=False to retain current behavior or observed=True to adopt the future default and silence this warning.\n",
      "  total_players_per_range = tier_counts.groupby('pick_range')['player_name'].count().reset_index(name='total_players')\n"
     ]
    }
   ],
   "source": [
    "total_players_per_range = tier_counts.groupby('pick_range')['player_name'].count().reset_index(name='total_players')"
   ]
  },
  {
   "cell_type": "code",
   "execution_count": 16,
   "id": "5629162a",
   "metadata": {},
   "outputs": [
    {
     "name": "stderr",
     "output_type": "stream",
     "text": [
      "/tmp/ipykernel_22579/1144034013.py:1: FutureWarning: The default of observed=False is deprecated and will be changed to True in a future version of pandas. Pass observed=False to retain current behavior or observed=True to adopt the future default and silence this warning.\n",
      "  players_in_tier = tier_counts.groupby(['pick_range', 'tier']).size().reset_index(name='players_in_tier')\n"
     ]
    }
   ],
   "source": [
    "players_in_tier = tier_counts.groupby(['pick_range', 'tier']).size().reset_index(name='players_in_tier')"
   ]
  },
  {
   "cell_type": "code",
   "execution_count": 17,
   "id": "5ec79ec0",
   "metadata": {},
   "outputs": [],
   "source": [
    "# Merge to get the total players per pick range\n",
    "merged_data = pd.merge(players_in_tier, total_players_per_range, on='pick_range')\n",
    "\n",
    "# Calculate the odds as a percentage\n",
    "merged_data['percentage'] = (merged_data['players_in_tier'] / merged_data['total_players']) * 100"
   ]
  },
  {
   "cell_type": "code",
   "execution_count": 18,
   "id": "f441177c",
   "metadata": {},
   "outputs": [],
   "source": [
    "# Filter out rows where 'Percentage' is 0\n",
    "final_df = merged_data.copy().loc[merged_data['percentage'] != 0]"
   ]
  },
  {
   "cell_type": "code",
   "execution_count": 19,
   "id": "8f2713d7",
   "metadata": {},
   "outputs": [],
   "source": [
    "graph_df = final_df.query(f\"pick_range != 'Others' and tier <= {THRESHOLD}\").copy()"
   ]
  },
  {
   "cell_type": "code",
   "execution_count": 20,
   "id": "0b323665",
   "metadata": {},
   "outputs": [],
   "source": [
    "graph_df.reset_index(inplace=True)"
   ]
  },
  {
   "cell_type": "code",
   "execution_count": 21,
   "id": "c661c31e",
   "metadata": {},
   "outputs": [],
   "source": [
    "graph_df.rename(columns={\"percentage\": \"Hit Rate Percentage\", \n",
    "                         \"pick_range\": 'Draft Position', \n",
    "                         \"tier\": \"Best Fantasy Season\",\n",
    "                         'players_in_tier': f\"Sample Size of {POSITION.upper()} Tier\",\n",
    "                         'total_players': 'All Players with this Draft Capital'\n",
    "                        }, inplace=True)"
   ]
  },
  {
   "cell_type": "markdown",
   "id": "26d9a26e",
   "metadata": {},
   "source": [
    "# Highlight DF and Turn to HTML"
   ]
  },
  {
   "cell_type": "code",
   "execution_count": 25,
   "id": "16675444",
   "metadata": {},
   "outputs": [],
   "source": [
    "# Define a function to highlight rows based on a condition \n",
    "def highlight_row(row): \n",
    "    # Mapping of pick ranges to background colors\n",
    "#     color_map = {\n",
    "#         '1-10': 'lightgreen',\n",
    "#         '11-20': 'lightgrey',\n",
    "#         '21-32': 'lightcoral',\n",
    "#         '33-48': 'lightsalmon',\n",
    "#         '49-64': 'lightseagreen',\n",
    "#         '65-80': 'lightskyblue',\n",
    "#         '81-96': 'lightsteelblue'\n",
    "#     }\n",
    "\n",
    "#     color_map = {\n",
    "#         '1-3': 'lightgreen',     # High rank\n",
    "#         '4-5': 'lightgrey',      # Slightly lower rank\n",
    "#         '6-10': 'lightcoral',    # Middle of the pack\n",
    "#         '11-15': 'lightsalmon',  # Getting towards the lower end\n",
    "#         '16-20': 'lightseagreen',# Lower still\n",
    "#         '21-32': 'lightskyblue', # Near the bottom\n",
    "#         'Others': 'lightsteelblue'  # Everyone else\n",
    "#     }\n",
    "\n",
    "    color_map = {\n",
    "        '1-5': 'lightgreen',     # High rank\n",
    "        '6-10': 'lightcoral',    # Middle of the pack\n",
    "        '11-32': 'lightskyblue', # Near the bottom\n",
    "        'Others': 'lightsteelblue'  # Everyone else\n",
    "    }\n",
    "    \n",
    "    # Get the background color for the current row's pick range\n",
    "    # Default to white if the pick range is not in the map\n",
    "    bg_color = color_map.get(row['Draft Position'], 'white')\n",
    "    \n",
    "    # Return a list of styles for each column in the row\n",
    "    return [f'background-color: {bg_color}']*len(row)"
   ]
  },
  {
   "cell_type": "code",
   "execution_count": 26,
   "id": "e44c32f4",
   "metadata": {},
   "outputs": [],
   "source": [
    "# Apply the function to the DataFrame \n",
    "df_1 = graph_df.drop(columns=\"index\").iloc[:12].style.apply(highlight_row, axis=1)"
   ]
  },
  {
   "cell_type": "code",
   "execution_count": 27,
   "id": "2c390903",
   "metadata": {},
   "outputs": [
    {
     "data": {
      "text/html": [
       "<style type=\"text/css\">\n",
       "#T_3a0c3_row0_col0, #T_3a0c3_row0_col1, #T_3a0c3_row0_col2, #T_3a0c3_row0_col3, #T_3a0c3_row0_col4 {\n",
       "  background-color: lightgreen;\n",
       "}\n",
       "#T_3a0c3_row1_col0, #T_3a0c3_row1_col1, #T_3a0c3_row1_col2, #T_3a0c3_row1_col3, #T_3a0c3_row1_col4 {\n",
       "  background-color: lightcoral;\n",
       "}\n",
       "#T_3a0c3_row2_col0, #T_3a0c3_row2_col1, #T_3a0c3_row2_col2, #T_3a0c3_row2_col3, #T_3a0c3_row2_col4 {\n",
       "  background-color: lightskyblue;\n",
       "}\n",
       "</style>\n",
       "<table id=\"T_3a0c3\">\n",
       "  <thead>\n",
       "    <tr>\n",
       "      <th class=\"blank level0\" >&nbsp;</th>\n",
       "      <th id=\"T_3a0c3_level0_col0\" class=\"col_heading level0 col0\" >Draft Position</th>\n",
       "      <th id=\"T_3a0c3_level0_col1\" class=\"col_heading level0 col1\" >Best Fantasy Season</th>\n",
       "      <th id=\"T_3a0c3_level0_col2\" class=\"col_heading level0 col2\" >Sample Size of QB Tier</th>\n",
       "      <th id=\"T_3a0c3_level0_col3\" class=\"col_heading level0 col3\" >All Players with this Draft Capital</th>\n",
       "      <th id=\"T_3a0c3_level0_col4\" class=\"col_heading level0 col4\" >Hit Rate Percentage</th>\n",
       "    </tr>\n",
       "  </thead>\n",
       "  <tbody>\n",
       "    <tr>\n",
       "      <th id=\"T_3a0c3_level0_row0\" class=\"row_heading level0 row0\" >0</th>\n",
       "      <td id=\"T_3a0c3_row0_col0\" class=\"data row0 col0\" >1-5</td>\n",
       "      <td id=\"T_3a0c3_row0_col1\" class=\"data row0 col1\" >1</td>\n",
       "      <td id=\"T_3a0c3_row0_col2\" class=\"data row0 col2\" >21</td>\n",
       "      <td id=\"T_3a0c3_row0_col3\" class=\"data row0 col3\" >31</td>\n",
       "      <td id=\"T_3a0c3_row0_col4\" class=\"data row0 col4\" >67.741935</td>\n",
       "    </tr>\n",
       "    <tr>\n",
       "      <th id=\"T_3a0c3_level0_row1\" class=\"row_heading level0 row1\" >1</th>\n",
       "      <td id=\"T_3a0c3_row1_col0\" class=\"data row1 col0\" >6-10</td>\n",
       "      <td id=\"T_3a0c3_row1_col1\" class=\"data row1 col1\" >1</td>\n",
       "      <td id=\"T_3a0c3_row1_col2\" class=\"data row1 col2\" >5</td>\n",
       "      <td id=\"T_3a0c3_row1_col3\" class=\"data row1 col3\" >10</td>\n",
       "      <td id=\"T_3a0c3_row1_col4\" class=\"data row1 col4\" >50.000000</td>\n",
       "    </tr>\n",
       "    <tr>\n",
       "      <th id=\"T_3a0c3_level0_row2\" class=\"row_heading level0 row2\" >2</th>\n",
       "      <td id=\"T_3a0c3_row2_col0\" class=\"data row2 col0\" >11-32</td>\n",
       "      <td id=\"T_3a0c3_row2_col1\" class=\"data row2 col1\" >1</td>\n",
       "      <td id=\"T_3a0c3_row2_col2\" class=\"data row2 col2\" >10</td>\n",
       "      <td id=\"T_3a0c3_row2_col3\" class=\"data row2 col3\" >23</td>\n",
       "      <td id=\"T_3a0c3_row2_col4\" class=\"data row2 col4\" >43.478261</td>\n",
       "    </tr>\n",
       "  </tbody>\n",
       "</table>\n"
      ],
      "text/plain": [
       "<pandas.io.formats.style.Styler at 0x768615e87130>"
      ]
     },
     "execution_count": 27,
     "metadata": {},
     "output_type": "execute_result"
    }
   ],
   "source": [
    "df_1"
   ]
  },
  {
   "cell_type": "code",
   "execution_count": 28,
   "id": "45e75245",
   "metadata": {},
   "outputs": [],
   "source": [
    "with open(f'{save_path}/round1-better-samples.html', 'w') as file:\n",
    "    file.write(df_1.to_html())"
   ]
  },
  {
   "cell_type": "code",
   "execution_count": null,
   "id": "78ca1806",
   "metadata": {},
   "outputs": [],
   "source": [
    "df_2 = graph_df.drop(columns=\"index\").iloc[18:].style.apply(highlight_row, axis=1)"
   ]
  },
  {
   "cell_type": "code",
   "execution_count": null,
   "id": "dca7c166",
   "metadata": {},
   "outputs": [],
   "source": [
    "# with open(f'{save_path}/round2-3.html', 'w') as file:\n",
    "#     file.write(df_2.to_html())"
   ]
  },
  {
   "cell_type": "code",
   "execution_count": null,
   "id": "b8d6968a",
   "metadata": {},
   "outputs": [],
   "source": [
    "df_2"
   ]
  },
  {
   "cell_type": "code",
   "execution_count": 29,
   "id": "92776c48",
   "metadata": {},
   "outputs": [
    {
     "name": "stderr",
     "output_type": "stream",
     "text": [
      "/tmp/ipykernel_22579/1321185484.py:1: FutureWarning: The default of observed=False is deprecated and will be changed to True in a future version of pandas. Pass observed=False to retain current behavior or observed=True to adopt the future default and silence this warning.\n",
      "  df_summarized = graph_df.copy().drop(columns=\"index\").groupby(\"Draft Position\").agg({\"Hit Rate Percentage\": \"sum\"})\n"
     ]
    }
   ],
   "source": [
    "df_summarized = graph_df.copy().drop(columns=\"index\").groupby(\"Draft Position\").agg({\"Hit Rate Percentage\": \"sum\"})"
   ]
  },
  {
   "cell_type": "code",
   "execution_count": 30,
   "id": "4613c5b0",
   "metadata": {},
   "outputs": [],
   "source": [
    "df_summarized[\"Bust Rate Percentage\"] = 100 - df_summarized[\"Hit Rate Percentage\"]"
   ]
  },
  {
   "cell_type": "code",
   "execution_count": 31,
   "id": "25f6d9db",
   "metadata": {},
   "outputs": [],
   "source": [
    "df_summarized.reset_index(inplace=True)"
   ]
  },
  {
   "cell_type": "code",
   "execution_count": 36,
   "id": "e6d24bc2",
   "metadata": {},
   "outputs": [],
   "source": [
    "df_summarized = df_summarized.iloc[:3]"
   ]
  },
  {
   "cell_type": "code",
   "execution_count": 37,
   "id": "c30aba7b",
   "metadata": {},
   "outputs": [],
   "source": [
    "df_3 = df_summarized.style.apply(highlight_row, axis=1)"
   ]
  },
  {
   "cell_type": "code",
   "execution_count": 38,
   "id": "5b015aea",
   "metadata": {},
   "outputs": [
    {
     "data": {
      "text/html": [
       "<style type=\"text/css\">\n",
       "#T_bd3b5_row0_col0, #T_bd3b5_row0_col1, #T_bd3b5_row0_col2 {\n",
       "  background-color: lightgreen;\n",
       "}\n",
       "#T_bd3b5_row1_col0, #T_bd3b5_row1_col1, #T_bd3b5_row1_col2 {\n",
       "  background-color: lightcoral;\n",
       "}\n",
       "#T_bd3b5_row2_col0, #T_bd3b5_row2_col1, #T_bd3b5_row2_col2 {\n",
       "  background-color: lightskyblue;\n",
       "}\n",
       "</style>\n",
       "<table id=\"T_bd3b5\">\n",
       "  <thead>\n",
       "    <tr>\n",
       "      <th class=\"blank level0\" >&nbsp;</th>\n",
       "      <th id=\"T_bd3b5_level0_col0\" class=\"col_heading level0 col0\" >Draft Position</th>\n",
       "      <th id=\"T_bd3b5_level0_col1\" class=\"col_heading level0 col1\" >Hit Rate Percentage</th>\n",
       "      <th id=\"T_bd3b5_level0_col2\" class=\"col_heading level0 col2\" >Bust Rate Percentage</th>\n",
       "    </tr>\n",
       "  </thead>\n",
       "  <tbody>\n",
       "    <tr>\n",
       "      <th id=\"T_bd3b5_level0_row0\" class=\"row_heading level0 row0\" >0</th>\n",
       "      <td id=\"T_bd3b5_row0_col0\" class=\"data row0 col0\" >1-5</td>\n",
       "      <td id=\"T_bd3b5_row0_col1\" class=\"data row0 col1\" >67.741935</td>\n",
       "      <td id=\"T_bd3b5_row0_col2\" class=\"data row0 col2\" >32.258065</td>\n",
       "    </tr>\n",
       "    <tr>\n",
       "      <th id=\"T_bd3b5_level0_row1\" class=\"row_heading level0 row1\" >1</th>\n",
       "      <td id=\"T_bd3b5_row1_col0\" class=\"data row1 col0\" >6-10</td>\n",
       "      <td id=\"T_bd3b5_row1_col1\" class=\"data row1 col1\" >50.000000</td>\n",
       "      <td id=\"T_bd3b5_row1_col2\" class=\"data row1 col2\" >50.000000</td>\n",
       "    </tr>\n",
       "    <tr>\n",
       "      <th id=\"T_bd3b5_level0_row2\" class=\"row_heading level0 row2\" >2</th>\n",
       "      <td id=\"T_bd3b5_row2_col0\" class=\"data row2 col0\" >11-32</td>\n",
       "      <td id=\"T_bd3b5_row2_col1\" class=\"data row2 col1\" >43.478261</td>\n",
       "      <td id=\"T_bd3b5_row2_col2\" class=\"data row2 col2\" >56.521739</td>\n",
       "    </tr>\n",
       "  </tbody>\n",
       "</table>\n"
      ],
      "text/plain": [
       "<pandas.io.formats.style.Styler at 0x768615e87a30>"
      ]
     },
     "execution_count": 38,
     "metadata": {},
     "output_type": "execute_result"
    }
   ],
   "source": [
    "df_3"
   ]
  },
  {
   "cell_type": "code",
   "execution_count": 39,
   "id": "eebe7836",
   "metadata": {},
   "outputs": [
    {
     "data": {
      "text/plain": [
       "53.74006545114539"
      ]
     },
     "execution_count": 39,
     "metadata": {},
     "output_type": "execute_result"
    }
   ],
   "source": [
    "df_summarized[\"Hit Rate Percentage\"].mean()"
   ]
  },
  {
   "cell_type": "code",
   "execution_count": 40,
   "id": "c7191b8e",
   "metadata": {},
   "outputs": [],
   "source": [
    "with open(f'{save_path}/summarized-better-samples.html', 'w') as file:\n",
    "    file.write(df_3.to_html())"
   ]
  },
  {
   "cell_type": "markdown",
   "id": "b81f17be",
   "metadata": {},
   "source": [
    "# Plot"
   ]
  },
  {
   "cell_type": "code",
   "execution_count": null,
   "id": "fd61a91b",
   "metadata": {},
   "outputs": [],
   "source": [
    "fig = px.bar(graph_df, x=\"Best Fantasy Season\", y=\"Hit Rate Percentage\",\n",
    "             color='Draft Position', barmode='group',\n",
    "             hover_data=[f'Sample Size of {POSITION.upper()} Tier', 'All Players with this Draft Capital'],\n",
    "             )\n",
    "\n",
    "fig.write_html(f\"{save_path}/hit-rate-v-tier.html\")\n",
    "fig.show()"
   ]
  },
  {
   "cell_type": "code",
   "execution_count": null,
   "id": "ebd06329",
   "metadata": {},
   "outputs": [],
   "source": [
    "graph_df[\"Best Fantasy Season\"] = graph_df[\"Best Fantasy Season\"].astype(str)"
   ]
  },
  {
   "cell_type": "code",
   "execution_count": null,
   "id": "236b50fa",
   "metadata": {},
   "outputs": [],
   "source": [
    "fig = px.bar(graph_df, x=\"Draft Position\", y=\"Hit Rate Percentage\",\n",
    "             color='Best Fantasy Season', barmode='group',\n",
    "             hover_data=[f'Sample Size of {POSITION.upper()} Tier', 'All Players with this Draft Capital'],\n",
    "             )\n",
    "\n",
    "fig.write_html(f\"{save_path}/hit-rate-v-draft-pos.html\")\n",
    "fig.show()"
   ]
  },
  {
   "cell_type": "markdown",
   "id": "cb3ad9e7",
   "metadata": {},
   "source": [
    "# Further Exploration"
   ]
  },
  {
   "cell_type": "code",
   "execution_count": null,
   "id": "65ecd3a0",
   "metadata": {},
   "outputs": [],
   "source": [
    "df_clean.query(\"draft_ovr <= 3\")[\"player_name\"].unique()"
   ]
  },
  {
   "cell_type": "code",
   "execution_count": null,
   "id": "6a195c18",
   "metadata": {},
   "outputs": [],
   "source": [
    "df_clean.columns"
   ]
  },
  {
   "cell_type": "code",
   "execution_count": null,
   "id": "728e511b",
   "metadata": {},
   "outputs": [],
   "source": [
    "df_clean.query(\"draft_ovr >= 15 and draft_round == 1\")[\"player_name\"].unique()"
   ]
  },
  {
   "cell_type": "code",
   "execution_count": 43,
   "id": "946f38a3",
   "metadata": {},
   "outputs": [
    {
     "data": {
      "text/plain": [
       "0.45454545454545453"
      ]
     },
     "execution_count": 43,
     "metadata": {},
     "output_type": "execute_result"
    }
   ],
   "source": [
    "15 / 33"
   ]
  },
  {
   "cell_type": "code",
   "execution_count": null,
   "id": "e76865f1",
   "metadata": {},
   "outputs": [],
   "source": []
  }
 ],
 "metadata": {
  "kernelspec": {
   "display_name": "plotly",
   "language": "python",
   "name": "plotly"
  },
  "language_info": {
   "codemirror_mode": {
    "name": "ipython",
    "version": 3
   },
   "file_extension": ".py",
   "mimetype": "text/x-python",
   "name": "python",
   "nbconvert_exporter": "python",
   "pygments_lexer": "ipython3",
   "version": "3.10.12"
  }
 },
 "nbformat": 4,
 "nbformat_minor": 5
}
