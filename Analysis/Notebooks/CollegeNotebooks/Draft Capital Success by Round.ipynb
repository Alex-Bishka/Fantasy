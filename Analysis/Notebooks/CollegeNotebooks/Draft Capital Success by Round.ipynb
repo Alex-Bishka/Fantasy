{
 "cells": [
  {
   "cell_type": "markdown",
   "id": "842a66de",
   "metadata": {},
   "source": [
    "# Imports"
   ]
  },
  {
   "cell_type": "code",
   "execution_count": 1,
   "id": "24448bf4",
   "metadata": {},
   "outputs": [],
   "source": [
    "import numpy as np\n",
    "import pandas as pd"
   ]
  },
  {
   "cell_type": "markdown",
   "id": "2209848f",
   "metadata": {},
   "source": [
    "# Load in Data"
   ]
  },
  {
   "cell_type": "code",
   "execution_count": 2,
   "id": "ca6d5d4f",
   "metadata": {},
   "outputs": [],
   "source": [
    "pickle_to_load = \"../../FantasyData/data-frames/df_wr_college_2000_2023.pkl\""
   ]
  },
  {
   "cell_type": "code",
   "execution_count": 3,
   "id": "21f5490a",
   "metadata": {},
   "outputs": [],
   "source": [
    "df_pos = pd.read_pickle(pickle_to_load)"
   ]
  },
  {
   "cell_type": "markdown",
   "id": "fd75b488",
   "metadata": {},
   "source": [
    "# Clean Up Data"
   ]
  },
  {
   "cell_type": "code",
   "execution_count": 4,
   "id": "d17c686f",
   "metadata": {},
   "outputs": [],
   "source": [
    "df_clean = df_pos.copy().dropna(subset=[\"draft_ovr\"])"
   ]
  },
  {
   "cell_type": "markdown",
   "id": "afa0b219",
   "metadata": {},
   "source": [
    "# Get Draft Capital Success Rate By Round"
   ]
  },
  {
   "cell_type": "markdown",
   "id": "bf589c04",
   "metadata": {},
   "source": [
    "Grab the best (lower tier is better) tier a player has been in, for each round of the draft:"
   ]
  },
  {
   "cell_type": "code",
   "execution_count": 5,
   "id": "71c8194a",
   "metadata": {},
   "outputs": [],
   "source": [
    "tier_counts = df_clean.groupby(['draft_round', 'player_name'])['tier'].min().reset_index()"
   ]
  },
  {
   "cell_type": "markdown",
   "id": "34a4ee54",
   "metadata": {},
   "source": [
    "Then group this data frame by the draft round to get the total number of players in each round"
   ]
  },
  {
   "cell_type": "code",
   "execution_count": 6,
   "id": "8eded93c",
   "metadata": {},
   "outputs": [],
   "source": [
    "total_players_per_round = tier_counts \\\n",
    "    .groupby('draft_round')['player_name'] \\\n",
    "    .count() \\\n",
    "    .reset_index(name='total_players')"
   ]
  },
  {
   "cell_type": "markdown",
   "id": "1d404ec4",
   "metadata": {},
   "source": [
    "Grab the number of each players in each tier, by their draft round:"
   ]
  },
  {
   "cell_type": "code",
   "execution_count": 7,
   "id": "a0486e88",
   "metadata": {},
   "outputs": [],
   "source": [
    "players_in_tier = tier_counts.groupby(['draft_round', 'tier']).size().reset_index(name='players_in_tier')"
   ]
  },
  {
   "cell_type": "markdown",
   "id": "c9c72eed",
   "metadata": {},
   "source": [
    "Merge the dataframes together:"
   ]
  },
  {
   "cell_type": "code",
   "execution_count": 8,
   "id": "2bc4b424",
   "metadata": {},
   "outputs": [],
   "source": [
    "merged_data = pd.merge(players_in_tier, total_players_per_round, on='draft_round')\n",
    "merged_data['percentage'] = (merged_data['players_in_tier'] / merged_data['total_players']) * 100"
   ]
  },
  {
   "cell_type": "markdown",
   "id": "08144d12",
   "metadata": {},
   "source": [
    "Tier percentagers by draft round:"
   ]
  },
  {
   "cell_type": "code",
   "execution_count": 9,
   "id": "c1982fd9",
   "metadata": {},
   "outputs": [
    {
     "data": {
      "text/html": [
       "<div>\n",
       "<style scoped>\n",
       "    .dataframe tbody tr th:only-of-type {\n",
       "        vertical-align: middle;\n",
       "    }\n",
       "\n",
       "    .dataframe tbody tr th {\n",
       "        vertical-align: top;\n",
       "    }\n",
       "\n",
       "    .dataframe thead th {\n",
       "        text-align: right;\n",
       "    }\n",
       "</style>\n",
       "<table border=\"1\" class=\"dataframe\">\n",
       "  <thead>\n",
       "    <tr style=\"text-align: right;\">\n",
       "      <th></th>\n",
       "      <th>draft_round</th>\n",
       "      <th>tier</th>\n",
       "      <th>players_in_tier</th>\n",
       "      <th>total_players</th>\n",
       "      <th>percentage</th>\n",
       "    </tr>\n",
       "  </thead>\n",
       "  <tbody>\n",
       "    <tr>\n",
       "      <th>0</th>\n",
       "      <td>1.0</td>\n",
       "      <td>1</td>\n",
       "      <td>30</td>\n",
       "      <td>74</td>\n",
       "      <td>40.540541</td>\n",
       "    </tr>\n",
       "    <tr>\n",
       "      <th>1</th>\n",
       "      <td>1.0</td>\n",
       "      <td>2</td>\n",
       "      <td>11</td>\n",
       "      <td>74</td>\n",
       "      <td>14.864865</td>\n",
       "    </tr>\n",
       "    <tr>\n",
       "      <th>2</th>\n",
       "      <td>1.0</td>\n",
       "      <td>3</td>\n",
       "      <td>11</td>\n",
       "      <td>74</td>\n",
       "      <td>14.864865</td>\n",
       "    </tr>\n",
       "    <tr>\n",
       "      <th>3</th>\n",
       "      <td>1.0</td>\n",
       "      <td>4</td>\n",
       "      <td>4</td>\n",
       "      <td>74</td>\n",
       "      <td>5.405405</td>\n",
       "    </tr>\n",
       "    <tr>\n",
       "      <th>4</th>\n",
       "      <td>1.0</td>\n",
       "      <td>5</td>\n",
       "      <td>3</td>\n",
       "      <td>74</td>\n",
       "      <td>4.054054</td>\n",
       "    </tr>\n",
       "  </tbody>\n",
       "</table>\n",
       "</div>"
      ],
      "text/plain": [
       "   draft_round  tier  players_in_tier  total_players  percentage\n",
       "0          1.0     1               30             74   40.540541\n",
       "1          1.0     2               11             74   14.864865\n",
       "2          1.0     3               11             74   14.864865\n",
       "3          1.0     4                4             74    5.405405\n",
       "4          1.0     5                3             74    4.054054"
      ]
     },
     "execution_count": 9,
     "metadata": {},
     "output_type": "execute_result"
    }
   ],
   "source": [
    "merged_data.head(5)"
   ]
  },
  {
   "cell_type": "markdown",
   "id": "01a9761c",
   "metadata": {},
   "source": [
    "# Analysis"
   ]
  },
  {
   "cell_type": "code",
   "execution_count": 10,
   "id": "977d3078",
   "metadata": {},
   "outputs": [
    {
     "name": "stderr",
     "output_type": "stream",
     "text": [
      "/tmp/ipykernel_22177/3608773231.py:1: DeprecationWarning: DataFrameGroupBy.apply operated on the grouping columns. This behavior is deprecated, and in a future version of pandas the grouping columns will be excluded from the operation. Either pass `include_groups=False` to exclude the groupings or explicitly select the grouping columns after groupby to silence this warning.\n",
      "  df_success = merged_data.query(\"tier <= 4\").groupby(\"draft_round\").apply(lambda x: x)\n"
     ]
    }
   ],
   "source": [
    "df_success = merged_data.query(\"tier <= 4\").groupby(\"draft_round\").apply(lambda x: x)"
   ]
  },
  {
   "cell_type": "code",
   "execution_count": 11,
   "id": "961e8808",
   "metadata": {},
   "outputs": [
    {
     "data": {
      "text/html": [
       "<div>\n",
       "<style scoped>\n",
       "    .dataframe tbody tr th:only-of-type {\n",
       "        vertical-align: middle;\n",
       "    }\n",
       "\n",
       "    .dataframe tbody tr th {\n",
       "        vertical-align: top;\n",
       "    }\n",
       "\n",
       "    .dataframe thead th {\n",
       "        text-align: right;\n",
       "    }\n",
       "</style>\n",
       "<table border=\"1\" class=\"dataframe\">\n",
       "  <thead>\n",
       "    <tr style=\"text-align: right;\">\n",
       "      <th></th>\n",
       "      <th></th>\n",
       "      <th>draft_round</th>\n",
       "      <th>tier</th>\n",
       "      <th>players_in_tier</th>\n",
       "      <th>total_players</th>\n",
       "      <th>percentage</th>\n",
       "    </tr>\n",
       "    <tr>\n",
       "      <th>draft_round</th>\n",
       "      <th></th>\n",
       "      <th></th>\n",
       "      <th></th>\n",
       "      <th></th>\n",
       "      <th></th>\n",
       "      <th></th>\n",
       "    </tr>\n",
       "  </thead>\n",
       "  <tbody>\n",
       "    <tr>\n",
       "      <th rowspan=\"4\" valign=\"top\">1.0</th>\n",
       "      <th>0</th>\n",
       "      <td>1.0</td>\n",
       "      <td>1</td>\n",
       "      <td>30</td>\n",
       "      <td>74</td>\n",
       "      <td>40.540541</td>\n",
       "    </tr>\n",
       "    <tr>\n",
       "      <th>1</th>\n",
       "      <td>1.0</td>\n",
       "      <td>2</td>\n",
       "      <td>11</td>\n",
       "      <td>74</td>\n",
       "      <td>14.864865</td>\n",
       "    </tr>\n",
       "    <tr>\n",
       "      <th>2</th>\n",
       "      <td>1.0</td>\n",
       "      <td>3</td>\n",
       "      <td>11</td>\n",
       "      <td>74</td>\n",
       "      <td>14.864865</td>\n",
       "    </tr>\n",
       "    <tr>\n",
       "      <th>3</th>\n",
       "      <td>1.0</td>\n",
       "      <td>4</td>\n",
       "      <td>4</td>\n",
       "      <td>74</td>\n",
       "      <td>5.405405</td>\n",
       "    </tr>\n",
       "    <tr>\n",
       "      <th rowspan=\"4\" valign=\"top\">2.0</th>\n",
       "      <th>11</th>\n",
       "      <td>2.0</td>\n",
       "      <td>1</td>\n",
       "      <td>21</td>\n",
       "      <td>85</td>\n",
       "      <td>24.705882</td>\n",
       "    </tr>\n",
       "    <tr>\n",
       "      <th>12</th>\n",
       "      <td>2.0</td>\n",
       "      <td>2</td>\n",
       "      <td>12</td>\n",
       "      <td>85</td>\n",
       "      <td>14.117647</td>\n",
       "    </tr>\n",
       "    <tr>\n",
       "      <th>13</th>\n",
       "      <td>2.0</td>\n",
       "      <td>3</td>\n",
       "      <td>10</td>\n",
       "      <td>85</td>\n",
       "      <td>11.764706</td>\n",
       "    </tr>\n",
       "    <tr>\n",
       "      <th>14</th>\n",
       "      <td>2.0</td>\n",
       "      <td>4</td>\n",
       "      <td>11</td>\n",
       "      <td>85</td>\n",
       "      <td>12.941176</td>\n",
       "    </tr>\n",
       "    <tr>\n",
       "      <th rowspan=\"4\" valign=\"top\">3.0</th>\n",
       "      <th>23</th>\n",
       "      <td>3.0</td>\n",
       "      <td>1</td>\n",
       "      <td>12</td>\n",
       "      <td>72</td>\n",
       "      <td>16.666667</td>\n",
       "    </tr>\n",
       "    <tr>\n",
       "      <th>24</th>\n",
       "      <td>3.0</td>\n",
       "      <td>2</td>\n",
       "      <td>9</td>\n",
       "      <td>72</td>\n",
       "      <td>12.500000</td>\n",
       "    </tr>\n",
       "    <tr>\n",
       "      <th>25</th>\n",
       "      <td>3.0</td>\n",
       "      <td>3</td>\n",
       "      <td>5</td>\n",
       "      <td>72</td>\n",
       "      <td>6.944444</td>\n",
       "    </tr>\n",
       "    <tr>\n",
       "      <th>26</th>\n",
       "      <td>3.0</td>\n",
       "      <td>4</td>\n",
       "      <td>7</td>\n",
       "      <td>72</td>\n",
       "      <td>9.722222</td>\n",
       "    </tr>\n",
       "    <tr>\n",
       "      <th rowspan=\"4\" valign=\"top\">4.0</th>\n",
       "      <th>38</th>\n",
       "      <td>4.0</td>\n",
       "      <td>1</td>\n",
       "      <td>3</td>\n",
       "      <td>64</td>\n",
       "      <td>4.687500</td>\n",
       "    </tr>\n",
       "    <tr>\n",
       "      <th>39</th>\n",
       "      <td>4.0</td>\n",
       "      <td>2</td>\n",
       "      <td>4</td>\n",
       "      <td>64</td>\n",
       "      <td>6.250000</td>\n",
       "    </tr>\n",
       "    <tr>\n",
       "      <th>40</th>\n",
       "      <td>4.0</td>\n",
       "      <td>3</td>\n",
       "      <td>7</td>\n",
       "      <td>64</td>\n",
       "      <td>10.937500</td>\n",
       "    </tr>\n",
       "    <tr>\n",
       "      <th>41</th>\n",
       "      <td>4.0</td>\n",
       "      <td>4</td>\n",
       "      <td>2</td>\n",
       "      <td>64</td>\n",
       "      <td>3.125000</td>\n",
       "    </tr>\n",
       "    <tr>\n",
       "      <th rowspan=\"4\" valign=\"top\">5.0</th>\n",
       "      <th>55</th>\n",
       "      <td>5.0</td>\n",
       "      <td>1</td>\n",
       "      <td>5</td>\n",
       "      <td>48</td>\n",
       "      <td>10.416667</td>\n",
       "    </tr>\n",
       "    <tr>\n",
       "      <th>56</th>\n",
       "      <td>5.0</td>\n",
       "      <td>2</td>\n",
       "      <td>1</td>\n",
       "      <td>48</td>\n",
       "      <td>2.083333</td>\n",
       "    </tr>\n",
       "    <tr>\n",
       "      <th>57</th>\n",
       "      <td>5.0</td>\n",
       "      <td>3</td>\n",
       "      <td>4</td>\n",
       "      <td>48</td>\n",
       "      <td>8.333333</td>\n",
       "    </tr>\n",
       "    <tr>\n",
       "      <th>58</th>\n",
       "      <td>5.0</td>\n",
       "      <td>4</td>\n",
       "      <td>4</td>\n",
       "      <td>48</td>\n",
       "      <td>8.333333</td>\n",
       "    </tr>\n",
       "    <tr>\n",
       "      <th rowspan=\"2\" valign=\"top\">6.0</th>\n",
       "      <th>72</th>\n",
       "      <td>6.0</td>\n",
       "      <td>1</td>\n",
       "      <td>2</td>\n",
       "      <td>55</td>\n",
       "      <td>3.636364</td>\n",
       "    </tr>\n",
       "    <tr>\n",
       "      <th>73</th>\n",
       "      <td>6.0</td>\n",
       "      <td>4</td>\n",
       "      <td>5</td>\n",
       "      <td>55</td>\n",
       "      <td>9.090909</td>\n",
       "    </tr>\n",
       "    <tr>\n",
       "      <th rowspan=\"2\" valign=\"top\">7.0</th>\n",
       "      <th>88</th>\n",
       "      <td>7.0</td>\n",
       "      <td>1</td>\n",
       "      <td>2</td>\n",
       "      <td>43</td>\n",
       "      <td>4.651163</td>\n",
       "    </tr>\n",
       "    <tr>\n",
       "      <th>89</th>\n",
       "      <td>7.0</td>\n",
       "      <td>2</td>\n",
       "      <td>2</td>\n",
       "      <td>43</td>\n",
       "      <td>4.651163</td>\n",
       "    </tr>\n",
       "  </tbody>\n",
       "</table>\n",
       "</div>"
      ],
      "text/plain": [
       "                draft_round  tier  players_in_tier  total_players  percentage\n",
       "draft_round                                                                  \n",
       "1.0         0           1.0     1               30             74   40.540541\n",
       "            1           1.0     2               11             74   14.864865\n",
       "            2           1.0     3               11             74   14.864865\n",
       "            3           1.0     4                4             74    5.405405\n",
       "2.0         11          2.0     1               21             85   24.705882\n",
       "            12          2.0     2               12             85   14.117647\n",
       "            13          2.0     3               10             85   11.764706\n",
       "            14          2.0     4               11             85   12.941176\n",
       "3.0         23          3.0     1               12             72   16.666667\n",
       "            24          3.0     2                9             72   12.500000\n",
       "            25          3.0     3                5             72    6.944444\n",
       "            26          3.0     4                7             72    9.722222\n",
       "4.0         38          4.0     1                3             64    4.687500\n",
       "            39          4.0     2                4             64    6.250000\n",
       "            40          4.0     3                7             64   10.937500\n",
       "            41          4.0     4                2             64    3.125000\n",
       "5.0         55          5.0     1                5             48   10.416667\n",
       "            56          5.0     2                1             48    2.083333\n",
       "            57          5.0     3                4             48    8.333333\n",
       "            58          5.0     4                4             48    8.333333\n",
       "6.0         72          6.0     1                2             55    3.636364\n",
       "            73          6.0     4                5             55    9.090909\n",
       "7.0         88          7.0     1                2             43    4.651163\n",
       "            89          7.0     2                2             43    4.651163"
      ]
     },
     "execution_count": 11,
     "metadata": {},
     "output_type": "execute_result"
    }
   ],
   "source": [
    "df_success"
   ]
  },
  {
   "cell_type": "code",
   "execution_count": 12,
   "id": "c49a150e",
   "metadata": {},
   "outputs": [
    {
     "data": {
      "text/html": [
       "<div>\n",
       "<style scoped>\n",
       "    .dataframe tbody tr th:only-of-type {\n",
       "        vertical-align: middle;\n",
       "    }\n",
       "\n",
       "    .dataframe tbody tr th {\n",
       "        vertical-align: top;\n",
       "    }\n",
       "\n",
       "    .dataframe thead th {\n",
       "        text-align: right;\n",
       "    }\n",
       "</style>\n",
       "<table border=\"1\" class=\"dataframe\">\n",
       "  <thead>\n",
       "    <tr style=\"text-align: right;\">\n",
       "      <th></th>\n",
       "      <th>percentage</th>\n",
       "    </tr>\n",
       "    <tr>\n",
       "      <th>draft_round</th>\n",
       "      <th></th>\n",
       "    </tr>\n",
       "  </thead>\n",
       "  <tbody>\n",
       "    <tr>\n",
       "      <th>1.0</th>\n",
       "      <td>24.324324</td>\n",
       "    </tr>\n",
       "    <tr>\n",
       "      <th>2.0</th>\n",
       "      <td>36.470588</td>\n",
       "    </tr>\n",
       "    <tr>\n",
       "      <th>3.0</th>\n",
       "      <td>54.166667</td>\n",
       "    </tr>\n",
       "    <tr>\n",
       "      <th>4.0</th>\n",
       "      <td>75.000000</td>\n",
       "    </tr>\n",
       "    <tr>\n",
       "      <th>5.0</th>\n",
       "      <td>70.833333</td>\n",
       "    </tr>\n",
       "    <tr>\n",
       "      <th>6.0</th>\n",
       "      <td>87.272727</td>\n",
       "    </tr>\n",
       "    <tr>\n",
       "      <th>7.0</th>\n",
       "      <td>90.697674</td>\n",
       "    </tr>\n",
       "  </tbody>\n",
       "</table>\n",
       "</div>"
      ],
      "text/plain": [
       "             percentage\n",
       "draft_round            \n",
       "1.0           24.324324\n",
       "2.0           36.470588\n",
       "3.0           54.166667\n",
       "4.0           75.000000\n",
       "5.0           70.833333\n",
       "6.0           87.272727\n",
       "7.0           90.697674"
      ]
     },
     "execution_count": 12,
     "metadata": {},
     "output_type": "execute_result"
    }
   ],
   "source": [
    "df_bust = merged_data.query(\"tier > 4\").groupby(\"draft_round\").agg({\"percentage\": \"sum\"})\n",
    "df_bust"
   ]
  },
  {
   "cell_type": "code",
   "execution_count": null,
   "id": "e2ece394",
   "metadata": {},
   "outputs": [],
   "source": []
  }
 ],
 "metadata": {
  "kernelspec": {
   "display_name": "nfldata",
   "language": "python",
   "name": "nfldata"
  },
  "language_info": {
   "codemirror_mode": {
    "name": "ipython",
    "version": 3
   },
   "file_extension": ".py",
   "mimetype": "text/x-python",
   "name": "python",
   "nbconvert_exporter": "python",
   "pygments_lexer": "ipython3",
   "version": "3.10.12"
  }
 },
 "nbformat": 4,
 "nbformat_minor": 5
}
