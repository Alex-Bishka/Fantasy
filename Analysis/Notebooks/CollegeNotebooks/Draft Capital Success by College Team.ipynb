{
 "cells": [
  {
   "cell_type": "markdown",
   "id": "842a66de",
   "metadata": {},
   "source": [
    "# Imports"
   ]
  },
  {
   "cell_type": "code",
   "execution_count": 1,
   "id": "24448bf4",
   "metadata": {},
   "outputs": [],
   "source": [
    "import numpy as np\n",
    "import pandas as pd\n",
    "\n",
    "import plotly.express as px"
   ]
  },
  {
   "cell_type": "markdown",
   "id": "2209848f",
   "metadata": {},
   "source": [
    "# Load in Data"
   ]
  },
  {
   "cell_type": "code",
   "execution_count": 2,
   "id": "ca6d5d4f",
   "metadata": {},
   "outputs": [],
   "source": [
    "pickle_to_load = \"../../FantasyData/data-frames/df_wr_college_2000_2023.pkl\""
   ]
  },
  {
   "cell_type": "code",
   "execution_count": 3,
   "id": "21f5490a",
   "metadata": {},
   "outputs": [],
   "source": [
    "df_pos = pd.read_pickle(pickle_to_load)"
   ]
  },
  {
   "cell_type": "markdown",
   "id": "e8b8f475",
   "metadata": {},
   "source": [
    "### For saving Data Later"
   ]
  },
  {
   "cell_type": "code",
   "execution_count": 4,
   "id": "5ae3a0fb",
   "metadata": {},
   "outputs": [],
   "source": [
    "save_path = \"../../interactive-2.0/WR/draft-capital/\""
   ]
  },
  {
   "cell_type": "markdown",
   "id": "fd75b488",
   "metadata": {},
   "source": [
    "# Clean Up Data"
   ]
  },
  {
   "cell_type": "code",
   "execution_count": 5,
   "id": "d17c686f",
   "metadata": {},
   "outputs": [],
   "source": [
    "df_clean = df_pos.copy().dropna(subset=[\"draft_ovr\"])"
   ]
  },
  {
   "cell_type": "markdown",
   "id": "afa0b219",
   "metadata": {},
   "source": [
    "# Get Draft Capital Success Rate By Round"
   ]
  },
  {
   "cell_type": "markdown",
   "id": "bf589c04",
   "metadata": {},
   "source": [
    "Grab the best (lower tier is better) tier a player has been in, for each round of the draft:"
   ]
  },
  {
   "cell_type": "code",
   "execution_count": 6,
   "id": "71c8194a",
   "metadata": {},
   "outputs": [],
   "source": [
    "tier_counts = df_clean.groupby(['draft_round', 'school', 'player_name'])['tier'].min().reset_index()"
   ]
  },
  {
   "cell_type": "markdown",
   "id": "34a4ee54",
   "metadata": {},
   "source": [
    "Then group this data frame by the draft round to get the total number of players in each round"
   ]
  },
  {
   "cell_type": "code",
   "execution_count": 8,
   "id": "8eded93c",
   "metadata": {},
   "outputs": [],
   "source": [
    "total_players_per_round = tier_counts \\\n",
    "    .groupby(['draft_round', 'school'])['player_name'] \\\n",
    "    .count() \\\n",
    "    .reset_index(name='total_players')"
   ]
  },
  {
   "cell_type": "markdown",
   "id": "1d404ec4",
   "metadata": {},
   "source": [
    "Grab the number of each players in each tier, by their draft round:"
   ]
  },
  {
   "cell_type": "code",
   "execution_count": 9,
   "id": "a0486e88",
   "metadata": {},
   "outputs": [],
   "source": [
    "players_in_tier = tier_counts.groupby(['draft_round', 'school', 'tier']).size().reset_index(name='players_in_tier')"
   ]
  },
  {
   "cell_type": "markdown",
   "id": "c9c72eed",
   "metadata": {},
   "source": [
    "Merge the dataframes together:"
   ]
  },
  {
   "cell_type": "code",
   "execution_count": 10,
   "id": "2bc4b424",
   "metadata": {},
   "outputs": [],
   "source": [
    "merged_data = pd.merge(players_in_tier, total_players_per_round, on=['draft_round', 'school'])\n",
    "merged_data['percentage'] = (merged_data['players_in_tier'] / merged_data['total_players']) * 100"
   ]
  },
  {
   "cell_type": "markdown",
   "id": "08144d12",
   "metadata": {},
   "source": [
    "Tier percentagers by draft round:"
   ]
  },
  {
   "cell_type": "code",
   "execution_count": 11,
   "id": "c1982fd9",
   "metadata": {},
   "outputs": [
    {
     "data": {
      "text/html": [
       "<div>\n",
       "<style scoped>\n",
       "    .dataframe tbody tr th:only-of-type {\n",
       "        vertical-align: middle;\n",
       "    }\n",
       "\n",
       "    .dataframe tbody tr th {\n",
       "        vertical-align: top;\n",
       "    }\n",
       "\n",
       "    .dataframe thead th {\n",
       "        text-align: right;\n",
       "    }\n",
       "</style>\n",
       "<table border=\"1\" class=\"dataframe\">\n",
       "  <thead>\n",
       "    <tr style=\"text-align: right;\">\n",
       "      <th></th>\n",
       "      <th>draft_round</th>\n",
       "      <th>school</th>\n",
       "      <th>tier</th>\n",
       "      <th>players_in_tier</th>\n",
       "      <th>total_players</th>\n",
       "      <th>percentage</th>\n",
       "    </tr>\n",
       "  </thead>\n",
       "  <tbody>\n",
       "    <tr>\n",
       "      <th>0</th>\n",
       "      <td>1.0</td>\n",
       "      <td>Ala-Birmingham</td>\n",
       "      <td>1</td>\n",
       "      <td>1</td>\n",
       "      <td>1</td>\n",
       "      <td>100.000000</td>\n",
       "    </tr>\n",
       "    <tr>\n",
       "      <th>1</th>\n",
       "      <td>1.0</td>\n",
       "      <td>Alabama</td>\n",
       "      <td>1</td>\n",
       "      <td>3</td>\n",
       "      <td>6</td>\n",
       "      <td>50.000000</td>\n",
       "    </tr>\n",
       "    <tr>\n",
       "      <th>2</th>\n",
       "      <td>1.0</td>\n",
       "      <td>Alabama</td>\n",
       "      <td>2</td>\n",
       "      <td>1</td>\n",
       "      <td>6</td>\n",
       "      <td>16.666667</td>\n",
       "    </tr>\n",
       "    <tr>\n",
       "      <th>3</th>\n",
       "      <td>1.0</td>\n",
       "      <td>Alabama</td>\n",
       "      <td>7</td>\n",
       "      <td>1</td>\n",
       "      <td>6</td>\n",
       "      <td>16.666667</td>\n",
       "    </tr>\n",
       "    <tr>\n",
       "      <th>4</th>\n",
       "      <td>1.0</td>\n",
       "      <td>Alabama</td>\n",
       "      <td>8</td>\n",
       "      <td>1</td>\n",
       "      <td>6</td>\n",
       "      <td>16.666667</td>\n",
       "    </tr>\n",
       "  </tbody>\n",
       "</table>\n",
       "</div>"
      ],
      "text/plain": [
       "   draft_round          school  tier  players_in_tier  total_players  \\\n",
       "0          1.0  Ala-Birmingham     1                1              1   \n",
       "1          1.0         Alabama     1                3              6   \n",
       "2          1.0         Alabama     2                1              6   \n",
       "3          1.0         Alabama     7                1              6   \n",
       "4          1.0         Alabama     8                1              6   \n",
       "\n",
       "   percentage  \n",
       "0  100.000000  \n",
       "1   50.000000  \n",
       "2   16.666667  \n",
       "3   16.666667  \n",
       "4   16.666667  "
      ]
     },
     "execution_count": 11,
     "metadata": {},
     "output_type": "execute_result"
    }
   ],
   "source": [
    "merged_data.head(5)"
   ]
  },
  {
   "cell_type": "markdown",
   "id": "01a9761c",
   "metadata": {},
   "source": [
    "# Analysis"
   ]
  },
  {
   "cell_type": "code",
   "execution_count": 24,
   "id": "977d3078",
   "metadata": {},
   "outputs": [
    {
     "name": "stderr",
     "output_type": "stream",
     "text": [
      "/tmp/ipykernel_11414/4086825510.py:1: DeprecationWarning: DataFrameGroupBy.apply operated on the grouping columns. This behavior is deprecated, and in a future version of pandas the grouping columns will be excluded from the operation. Either pass `include_groups=False` to exclude the groupings or explicitly select the grouping columns after groupby to silence this warning.\n",
      "  df_success = merged_data.query(\"tier <= 4 and total_players >= 5\").groupby(\"school\").apply(lambda x: x)\n"
     ]
    }
   ],
   "source": [
    "df_success = merged_data.query(\"tier <= 4 and total_players >= 5\").groupby(\"school\").apply(lambda x: x)"
   ]
  },
  {
   "cell_type": "code",
   "execution_count": 25,
   "id": "7767d1ea",
   "metadata": {},
   "outputs": [
    {
     "data": {
      "text/html": [
       "<div>\n",
       "<style scoped>\n",
       "    .dataframe tbody tr th:only-of-type {\n",
       "        vertical-align: middle;\n",
       "    }\n",
       "\n",
       "    .dataframe tbody tr th {\n",
       "        vertical-align: top;\n",
       "    }\n",
       "\n",
       "    .dataframe thead th {\n",
       "        text-align: right;\n",
       "    }\n",
       "</style>\n",
       "<table border=\"1\" class=\"dataframe\">\n",
       "  <thead>\n",
       "    <tr style=\"text-align: right;\">\n",
       "      <th></th>\n",
       "      <th></th>\n",
       "      <th>draft_round</th>\n",
       "      <th>school</th>\n",
       "      <th>tier</th>\n",
       "      <th>players_in_tier</th>\n",
       "      <th>total_players</th>\n",
       "      <th>percentage</th>\n",
       "    </tr>\n",
       "    <tr>\n",
       "      <th>school</th>\n",
       "      <th></th>\n",
       "      <th></th>\n",
       "      <th></th>\n",
       "      <th></th>\n",
       "      <th></th>\n",
       "      <th></th>\n",
       "      <th></th>\n",
       "    </tr>\n",
       "  </thead>\n",
       "  <tbody>\n",
       "    <tr>\n",
       "      <th rowspan=\"2\" valign=\"top\">Alabama</th>\n",
       "      <th>1</th>\n",
       "      <td>1.0</td>\n",
       "      <td>Alabama</td>\n",
       "      <td>1</td>\n",
       "      <td>3</td>\n",
       "      <td>6</td>\n",
       "      <td>50.000000</td>\n",
       "    </tr>\n",
       "    <tr>\n",
       "      <th>2</th>\n",
       "      <td>1.0</td>\n",
       "      <td>Alabama</td>\n",
       "      <td>2</td>\n",
       "      <td>1</td>\n",
       "      <td>6</td>\n",
       "      <td>16.666667</td>\n",
       "    </tr>\n",
       "    <tr>\n",
       "      <th>LSU</th>\n",
       "      <th>20</th>\n",
       "      <td>1.0</td>\n",
       "      <td>LSU</td>\n",
       "      <td>1</td>\n",
       "      <td>4</td>\n",
       "      <td>5</td>\n",
       "      <td>80.000000</td>\n",
       "    </tr>\n",
       "    <tr>\n",
       "      <th rowspan=\"2\" valign=\"top\">Mississippi</th>\n",
       "      <th>98</th>\n",
       "      <td>2.0</td>\n",
       "      <td>Mississippi</td>\n",
       "      <td>1</td>\n",
       "      <td>2</td>\n",
       "      <td>6</td>\n",
       "      <td>33.333333</td>\n",
       "    </tr>\n",
       "    <tr>\n",
       "      <th>99</th>\n",
       "      <td>2.0</td>\n",
       "      <td>Mississippi</td>\n",
       "      <td>3</td>\n",
       "      <td>1</td>\n",
       "      <td>6</td>\n",
       "      <td>16.666667</td>\n",
       "    </tr>\n",
       "    <tr>\n",
       "      <th rowspan=\"3\" valign=\"top\">USC</th>\n",
       "      <th>127</th>\n",
       "      <td>2.0</td>\n",
       "      <td>USC</td>\n",
       "      <td>1</td>\n",
       "      <td>3</td>\n",
       "      <td>5</td>\n",
       "      <td>60.000000</td>\n",
       "    </tr>\n",
       "    <tr>\n",
       "      <th>128</th>\n",
       "      <td>2.0</td>\n",
       "      <td>USC</td>\n",
       "      <td>2</td>\n",
       "      <td>1</td>\n",
       "      <td>5</td>\n",
       "      <td>20.000000</td>\n",
       "    </tr>\n",
       "    <tr>\n",
       "      <th>129</th>\n",
       "      <td>2.0</td>\n",
       "      <td>USC</td>\n",
       "      <td>4</td>\n",
       "      <td>1</td>\n",
       "      <td>5</td>\n",
       "      <td>20.000000</td>\n",
       "    </tr>\n",
       "  </tbody>\n",
       "</table>\n",
       "</div>"
      ],
      "text/plain": [
       "                 draft_round       school  tier  players_in_tier  \\\n",
       "school                                                             \n",
       "Alabama     1            1.0      Alabama     1                3   \n",
       "            2            1.0      Alabama     2                1   \n",
       "LSU         20           1.0          LSU     1                4   \n",
       "Mississippi 98           2.0  Mississippi     1                2   \n",
       "            99           2.0  Mississippi     3                1   \n",
       "USC         127          2.0          USC     1                3   \n",
       "            128          2.0          USC     2                1   \n",
       "            129          2.0          USC     4                1   \n",
       "\n",
       "                 total_players  percentage  \n",
       "school                                      \n",
       "Alabama     1                6   50.000000  \n",
       "            2                6   16.666667  \n",
       "LSU         20               5   80.000000  \n",
       "Mississippi 98               6   33.333333  \n",
       "            99               6   16.666667  \n",
       "USC         127              5   60.000000  \n",
       "            128              5   20.000000  \n",
       "            129              5   20.000000  "
      ]
     },
     "execution_count": 25,
     "metadata": {},
     "output_type": "execute_result"
    }
   ],
   "source": [
    "df_success"
   ]
  },
  {
   "cell_type": "code",
   "execution_count": 28,
   "id": "e2392f39",
   "metadata": {},
   "outputs": [
    {
     "name": "stderr",
     "output_type": "stream",
     "text": [
      "/tmp/ipykernel_11414/1057492819.py:3: DeprecationWarning: DataFrameGroupBy.apply operated on the grouping columns. This behavior is deprecated, and in a future version of pandas the grouping columns will be excluded from the operation. Either pass `include_groups=False` to exclude the groupings or explicitly select the grouping columns after groupby to silence this warning.\n",
      "  .apply(lambda x: x)\n"
     ]
    }
   ],
   "source": [
    "df_success_2 = merged_data.query(\"tier <= 4 and percentage > 50 and total_players >= 3\") \\\n",
    "    .groupby(\"school\") \\\n",
    "    .apply(lambda x: x)"
   ]
  },
  {
   "cell_type": "code",
   "execution_count": 29,
   "id": "97d27255",
   "metadata": {},
   "outputs": [
    {
     "data": {
      "text/html": [
       "<div>\n",
       "<style scoped>\n",
       "    .dataframe tbody tr th:only-of-type {\n",
       "        vertical-align: middle;\n",
       "    }\n",
       "\n",
       "    .dataframe tbody tr th {\n",
       "        vertical-align: top;\n",
       "    }\n",
       "\n",
       "    .dataframe thead th {\n",
       "        text-align: right;\n",
       "    }\n",
       "</style>\n",
       "<table border=\"1\" class=\"dataframe\">\n",
       "  <thead>\n",
       "    <tr style=\"text-align: right;\">\n",
       "      <th></th>\n",
       "      <th></th>\n",
       "      <th>draft_round</th>\n",
       "      <th>school</th>\n",
       "      <th>tier</th>\n",
       "      <th>players_in_tier</th>\n",
       "      <th>total_players</th>\n",
       "      <th>percentage</th>\n",
       "    </tr>\n",
       "    <tr>\n",
       "      <th>school</th>\n",
       "      <th></th>\n",
       "      <th></th>\n",
       "      <th></th>\n",
       "      <th></th>\n",
       "      <th></th>\n",
       "      <th></th>\n",
       "      <th></th>\n",
       "    </tr>\n",
       "  </thead>\n",
       "  <tbody>\n",
       "    <tr>\n",
       "      <th>Clemson</th>\n",
       "      <th>13</th>\n",
       "      <td>1.0</td>\n",
       "      <td>Clemson</td>\n",
       "      <td>2</td>\n",
       "      <td>2</td>\n",
       "      <td>3</td>\n",
       "      <td>66.666667</td>\n",
       "    </tr>\n",
       "    <tr>\n",
       "      <th>LSU</th>\n",
       "      <th>20</th>\n",
       "      <td>1.0</td>\n",
       "      <td>LSU</td>\n",
       "      <td>1</td>\n",
       "      <td>4</td>\n",
       "      <td>5</td>\n",
       "      <td>80.000000</td>\n",
       "    </tr>\n",
       "    <tr>\n",
       "      <th>Miami (FL)</th>\n",
       "      <th>25</th>\n",
       "      <td>1.0</td>\n",
       "      <td>Miami (FL)</td>\n",
       "      <td>1</td>\n",
       "      <td>3</td>\n",
       "      <td>4</td>\n",
       "      <td>75.000000</td>\n",
       "    </tr>\n",
       "    <tr>\n",
       "      <th>South Carolina</th>\n",
       "      <th>123</th>\n",
       "      <td>2.0</td>\n",
       "      <td>South Carolina</td>\n",
       "      <td>1</td>\n",
       "      <td>3</td>\n",
       "      <td>3</td>\n",
       "      <td>100.000000</td>\n",
       "    </tr>\n",
       "    <tr>\n",
       "      <th rowspan=\"2\" valign=\"top\">USC</th>\n",
       "      <th>55</th>\n",
       "      <td>1.0</td>\n",
       "      <td>USC</td>\n",
       "      <td>2</td>\n",
       "      <td>2</td>\n",
       "      <td>3</td>\n",
       "      <td>66.666667</td>\n",
       "    </tr>\n",
       "    <tr>\n",
       "      <th>127</th>\n",
       "      <td>2.0</td>\n",
       "      <td>USC</td>\n",
       "      <td>1</td>\n",
       "      <td>3</td>\n",
       "      <td>5</td>\n",
       "      <td>60.000000</td>\n",
       "    </tr>\n",
       "  </tbody>\n",
       "</table>\n",
       "</div>"
      ],
      "text/plain": [
       "                    draft_round          school  tier  players_in_tier  \\\n",
       "school                                                                   \n",
       "Clemson        13           1.0         Clemson     2                2   \n",
       "LSU            20           1.0             LSU     1                4   \n",
       "Miami (FL)     25           1.0      Miami (FL)     1                3   \n",
       "South Carolina 123          2.0  South Carolina     1                3   \n",
       "USC            55           1.0             USC     2                2   \n",
       "               127          2.0             USC     1                3   \n",
       "\n",
       "                    total_players  percentage  \n",
       "school                                         \n",
       "Clemson        13               3   66.666667  \n",
       "LSU            20               5   80.000000  \n",
       "Miami (FL)     25               4   75.000000  \n",
       "South Carolina 123              3  100.000000  \n",
       "USC            55               3   66.666667  \n",
       "               127              5   60.000000  "
      ]
     },
     "execution_count": 29,
     "metadata": {},
     "output_type": "execute_result"
    }
   ],
   "source": [
    "df_success_2"
   ]
  },
  {
   "cell_type": "markdown",
   "id": "4ed45fe2",
   "metadata": {},
   "source": [
    "### Bust DF"
   ]
  },
  {
   "cell_type": "code",
   "execution_count": 32,
   "id": "c49a150e",
   "metadata": {},
   "outputs": [],
   "source": [
    "df_bust = merged_data.query(\"tier > 4\").groupby(['draft_round', 'school']).agg({\"percentage\": \"sum\"})"
   ]
  },
  {
   "cell_type": "code",
   "execution_count": 34,
   "id": "a2f5d315",
   "metadata": {},
   "outputs": [
    {
     "data": {
      "text/html": [
       "<div>\n",
       "<style scoped>\n",
       "    .dataframe tbody tr th:only-of-type {\n",
       "        vertical-align: middle;\n",
       "    }\n",
       "\n",
       "    .dataframe tbody tr th {\n",
       "        vertical-align: top;\n",
       "    }\n",
       "\n",
       "    .dataframe thead th {\n",
       "        text-align: right;\n",
       "    }\n",
       "</style>\n",
       "<table border=\"1\" class=\"dataframe\">\n",
       "  <thead>\n",
       "    <tr style=\"text-align: right;\">\n",
       "      <th></th>\n",
       "      <th></th>\n",
       "      <th>percentage</th>\n",
       "    </tr>\n",
       "    <tr>\n",
       "      <th>draft_round</th>\n",
       "      <th>school</th>\n",
       "      <th></th>\n",
       "    </tr>\n",
       "  </thead>\n",
       "  <tbody>\n",
       "    <tr>\n",
       "      <th rowspan=\"5\" valign=\"top\">1.0</th>\n",
       "      <th>Arkansas</th>\n",
       "      <td>100.0</td>\n",
       "    </tr>\n",
       "    <tr>\n",
       "      <th>Central Florida</th>\n",
       "      <td>100.0</td>\n",
       "    </tr>\n",
       "    <tr>\n",
       "      <th>Illinois</th>\n",
       "      <td>100.0</td>\n",
       "    </tr>\n",
       "    <tr>\n",
       "      <th>Minnesota</th>\n",
       "      <td>100.0</td>\n",
       "    </tr>\n",
       "    <tr>\n",
       "      <th>Mississippi</th>\n",
       "      <td>100.0</td>\n",
       "    </tr>\n",
       "    <tr>\n",
       "      <th>...</th>\n",
       "      <th>...</th>\n",
       "      <td>...</td>\n",
       "    </tr>\n",
       "    <tr>\n",
       "      <th rowspan=\"5\" valign=\"top\">7.0</th>\n",
       "      <th>Virginia Tech</th>\n",
       "      <td>100.0</td>\n",
       "    </tr>\n",
       "    <tr>\n",
       "      <th>Wake Forest</th>\n",
       "      <td>100.0</td>\n",
       "    </tr>\n",
       "    <tr>\n",
       "      <th>Washington State</th>\n",
       "      <td>100.0</td>\n",
       "    </tr>\n",
       "    <tr>\n",
       "      <th>West Virginia</th>\n",
       "      <td>100.0</td>\n",
       "    </tr>\n",
       "    <tr>\n",
       "      <th>William &amp; Mary</th>\n",
       "      <td>100.0</td>\n",
       "    </tr>\n",
       "  </tbody>\n",
       "</table>\n",
       "<p>161 rows × 1 columns</p>\n",
       "</div>"
      ],
      "text/plain": [
       "                              percentage\n",
       "draft_round school                      \n",
       "1.0         Arkansas               100.0\n",
       "            Central Florida        100.0\n",
       "            Illinois               100.0\n",
       "            Minnesota              100.0\n",
       "            Mississippi            100.0\n",
       "...                                  ...\n",
       "7.0         Virginia Tech          100.0\n",
       "            Wake Forest            100.0\n",
       "            Washington State       100.0\n",
       "            West Virginia          100.0\n",
       "            William & Mary         100.0\n",
       "\n",
       "[161 rows x 1 columns]"
      ]
     },
     "execution_count": 34,
     "metadata": {},
     "output_type": "execute_result"
    }
   ],
   "source": [
    "df_bust.query(\"percentage > 50\")"
   ]
  },
  {
   "cell_type": "markdown",
   "id": "95f6303e",
   "metadata": {},
   "source": [
    "# Highlighting"
   ]
  },
  {
   "cell_type": "code",
   "execution_count": null,
   "id": "a95aedfe",
   "metadata": {},
   "outputs": [],
   "source": [
    "# Define a function to highlight rows based on a condition \n",
    "def highlight_row(row): \n",
    "    # Mapping of pick ranges to background colors\n",
    "    color_map = {\n",
    "        1.0: 'yellow',\n",
    "        2.0: 'lightblue',\n",
    "        3.0: 'lightgreen',\n",
    "        4.0: 'lightpink',\n",
    "        5.0: 'lightgrey',\n",
    "        6.0: 'lightcoral',\n",
    "        7.0: 'lightsalmon',\n",
    "    }\n",
    "    \n",
    "    # Get the background color for the current row's pick range\n",
    "    # Default to white if the pick range is not in the map\n",
    "    bg_color = color_map.get(row['Draft Round'], 'white')\n",
    "    \n",
    "    # Return a list of styles for each column in the row\n",
    "    return [f'background-color: {bg_color}']*len(row)"
   ]
  },
  {
   "cell_type": "code",
   "execution_count": null,
   "id": "863e9054",
   "metadata": {},
   "outputs": [],
   "source": [
    "df_1 = df_success.style.apply(highlight_row, axis=1)"
   ]
  },
  {
   "cell_type": "code",
   "execution_count": null,
   "id": "7938ea76",
   "metadata": {},
   "outputs": [],
   "source": [
    "df_1"
   ]
  },
  {
   "cell_type": "code",
   "execution_count": null,
   "id": "6ec56c75",
   "metadata": {},
   "outputs": [],
   "source": [
    "# with open(f'{save_path}/success-by-round-table.html', 'w') as file:\n",
    "#     file.write(df_1.to_html())"
   ]
  },
  {
   "cell_type": "code",
   "execution_count": null,
   "id": "6f3dac5b",
   "metadata": {},
   "outputs": [],
   "source": [
    "df_2 = df_bust.style.apply(highlight_row, axis=1)"
   ]
  },
  {
   "cell_type": "code",
   "execution_count": null,
   "id": "21e561cf",
   "metadata": {},
   "outputs": [],
   "source": [
    "df_2"
   ]
  },
  {
   "cell_type": "code",
   "execution_count": null,
   "id": "07ac3458",
   "metadata": {},
   "outputs": [],
   "source": [
    "# with open(f'{save_path}/busts-by-round-table.html', 'w') as file:\n",
    "#     file.write(df_2.to_html())"
   ]
  },
  {
   "cell_type": "markdown",
   "id": "d302f0ee",
   "metadata": {},
   "source": [
    "# Plotly Bar Charts"
   ]
  },
  {
   "cell_type": "code",
   "execution_count": null,
   "id": "19a8ed6a",
   "metadata": {},
   "outputs": [],
   "source": [
    "df_success[\"Best Season Tier\"] = df_success[\"Best Season Tier\"].astype(float)"
   ]
  },
  {
   "cell_type": "code",
   "execution_count": null,
   "id": "37ddc82a",
   "metadata": {},
   "outputs": [],
   "source": [
    "fig = px.bar(df_success, x=\"Draft Round\", y=\"Success Rate\",\n",
    "             color='Best Season Tier', barmode='group',\n",
    "             hover_data=['Sample Size of Tier', 'All Players in this Round'],\n",
    "             )\n",
    "\n",
    "# fig.write_html(f\"{save_path}/hit-rate-v-round-alternative.html\")\n",
    "fig.show()"
   ]
  },
  {
   "cell_type": "code",
   "execution_count": null,
   "id": "3c0f9cbe",
   "metadata": {},
   "outputs": [],
   "source": [
    "df_success[\"Draft Round\"] = df_success[\"Draft Round\"].astype(float)"
   ]
  },
  {
   "cell_type": "code",
   "execution_count": null,
   "id": "0a8692a3",
   "metadata": {},
   "outputs": [],
   "source": [
    "fig = px.bar(df_success, x=\"Best Season Tier\", y=\"Success Rate\",\n",
    "             color='Draft Round', barmode='group',\n",
    "             hover_data=['Sample Size of Tier', 'All Players in this Round'],\n",
    "             )\n",
    "\n",
    "# fig.write_html(f\"{save_path}/hit-rate-v-tier-by-round-alternative.html\")\n",
    "fig.show()"
   ]
  },
  {
   "cell_type": "code",
   "execution_count": null,
   "id": "9422a294",
   "metadata": {},
   "outputs": [],
   "source": [
    "fig = px.bar(df_bust, x=\"Draft Round\", y=\"Chance of Bust\")\n",
    "\n",
    "fig.write_html(f\"{save_path}/bust-rate-v-round.html\")\n",
    "fig.show()"
   ]
  },
  {
   "cell_type": "code",
   "execution_count": null,
   "id": "0227db68",
   "metadata": {},
   "outputs": [],
   "source": []
  }
 ],
 "metadata": {
  "kernelspec": {
   "display_name": "plotly",
   "language": "python",
   "name": "plotly"
  },
  "language_info": {
   "codemirror_mode": {
    "name": "ipython",
    "version": 3
   },
   "file_extension": ".py",
   "mimetype": "text/x-python",
   "name": "python",
   "nbconvert_exporter": "python",
   "pygments_lexer": "ipython3",
   "version": "3.10.12"
  }
 },
 "nbformat": 4,
 "nbformat_minor": 5
}
