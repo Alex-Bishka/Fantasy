{
 "cells": [
  {
   "cell_type": "markdown",
   "id": "06b8ed2e",
   "metadata": {},
   "source": [
    "# Imports"
   ]
  },
  {
   "cell_type": "code",
   "execution_count": 1,
   "id": "d57e8d6c",
   "metadata": {},
   "outputs": [],
   "source": [
    "import pandas as pd\n",
    "import numpy as np"
   ]
  },
  {
   "cell_type": "code",
   "execution_count": 2,
   "id": "a9f5197d",
   "metadata": {},
   "outputs": [],
   "source": [
    "import nfl_data_py as nfl"
   ]
  },
  {
   "cell_type": "markdown",
   "id": "9e07cef3",
   "metadata": {},
   "source": [
    "# Play by Play Data"
   ]
  },
  {
   "cell_type": "code",
   "execution_count": 3,
   "id": "34e08397",
   "metadata": {},
   "outputs": [
    {
     "name": "stdout",
     "output_type": "stream",
     "text": [
      "2023 done.\n",
      "Downcasting floats.\n"
     ]
    }
   ],
   "source": [
    "columns = None\n",
    "years = [2023]\n",
    "df_play = nfl.import_pbp_data(years, columns, downcast=True, cache=False, alt_path=None)"
   ]
  },
  {
   "cell_type": "markdown",
   "id": "e161ee9d",
   "metadata": {},
   "source": [
    "## Column Exploration"
   ]
  },
  {
   "cell_type": "code",
   "execution_count": 4,
   "id": "8edc2996",
   "metadata": {},
   "outputs": [
    {
     "name": "stdout",
     "output_type": "stream",
     "text": [
      "season_type\n",
      "season\n"
     ]
    }
   ],
   "source": [
    "s = \"season\"\n",
    "for col in list(df_play.columns):\n",
    "    if s in col:\n",
    "        print(col)"
   ]
  },
  {
   "cell_type": "code",
   "execution_count": 5,
   "id": "c924954f",
   "metadata": {},
   "outputs": [
    {
     "data": {
      "text/plain": [
       "0    REG\n",
       "1    REG\n",
       "2    REG\n",
       "3    REG\n",
       "4    REG\n",
       "Name: season_type, dtype: object"
      ]
     },
     "execution_count": 5,
     "metadata": {},
     "output_type": "execute_result"
    }
   ],
   "source": [
    "df_play[\"season_type\"].head()"
   ]
  },
  {
   "cell_type": "markdown",
   "id": "8dc91ff8",
   "metadata": {},
   "source": [
    "# Who Throws Deep?"
   ]
  },
  {
   "cell_type": "markdown",
   "id": "785951a3",
   "metadata": {},
   "source": [
    "Finding average depth of target (adot) for quarterbacks."
   ]
  },
  {
   "cell_type": "markdown",
   "id": "643c11c0",
   "metadata": {},
   "source": [
    "Grab only the pass plays. Note, in pandas, you should use the `&` operator for element-wise logical AND operations."
   ]
  },
  {
   "cell_type": "code",
   "execution_count": 6,
   "id": "9a6b77a8",
   "metadata": {},
   "outputs": [],
   "source": [
    "df_pass_plays = df_play[(df_play[\"play_type\"] == \"pass\") & (df_play[\"air_yards\"].notna())]"
   ]
  },
  {
   "cell_type": "markdown",
   "id": "633a7041",
   "metadata": {},
   "source": [
    "## ADOT by QB"
   ]
  },
  {
   "cell_type": "markdown",
   "id": "83bc1878",
   "metadata": {},
   "source": [
    "Group by 'passer_id' and 'passer', then aggregate air yards by count and mean."
   ]
  },
  {
   "cell_type": "code",
   "execution_count": 7,
   "id": "53c6095d",
   "metadata": {},
   "outputs": [],
   "source": [
    "grouped = df_pass_plays.groupby(['passer_id', 'passer']).agg({\"air_yards\": [\"count\", \"mean\"]})"
   ]
  },
  {
   "cell_type": "markdown",
   "id": "0932754e",
   "metadata": {},
   "source": [
    "Creating a refined data frame where we only keep players who have attempted over 100 passes. We sort, descending, by adot."
   ]
  },
  {
   "cell_type": "code",
   "execution_count": 8,
   "id": "6b44eca7",
   "metadata": {},
   "outputs": [
    {
     "name": "stdout",
     "output_type": "stream",
     "text": [
      "                                air_yards_count  air_yards_mean\n",
      "passer_id  passer                                              \n",
      "00-0039152 W.Levis                          150       10.193334\n",
      "00-0029701 R.Tannehill                      157        9.375796\n",
      "00-0033537 D.Watson                         170        9.370588\n",
      "00-0035228 K.Murray                         107        9.308412\n",
      "00-0039163 C.Stroud                         385        9.241558\n",
      "00-0036264 J.Love                           370        8.967567\n",
      "00-0036389 J.Hurts                          358        8.575419\n",
      "00-0034855 B.Mayfield                       380        8.497369\n",
      "00-0034857 J.Allen                          432        8.284722\n",
      "00-0033077 D.Prescott                       370        8.270270\n",
      "00-0031280 D.Carr                           372        8.223118\n",
      "00-0033275 P.Walker                         110        8.200000\n",
      "00-0031345 J.Garoppolo                      167        8.119761\n",
      "00-0037834 B.Purdy                          303        8.108911\n",
      "00-0034796 L.Jackson                        333        8.108109\n",
      "00-0038122 D.Ridder                         266        8.037594\n",
      "00-0033949 J.Dobbs                          394        8.015228\n",
      "00-0026498 M.Stafford                       339        7.988201\n",
      "00-0036355 J.Herbert                        402        7.746269\n",
      "00-0037077 S.Howell                         486        7.576132\n",
      "00-0037013 Z.Wilson                         318        7.562893\n",
      "00-0036212 T.Tagovailoa                     375        7.429333\n",
      "00-0030565 G.Smith                          358        7.377095\n",
      "00-0038579 A.O'Connell                      178        7.376404\n",
      "00-0029604 K.Cousins                        309        7.284790\n",
      "00-0036971 T.Lawrence                       370        7.275676\n",
      "00-0038476 T.DeVito                         105        7.219048\n",
      "00-0038102 K.Pickett                        313        7.162939\n",
      "00-0036945 J.Fields                         222        7.085586\n",
      "00-0036972 M.Jones                          345        6.985507\n",
      "00-0035289 G.Minshew II                     297        6.915825\n",
      "00-0035710 D.Jones                          160        6.850000\n",
      "00-0033873 P.Mahomes                        409        6.801956\n",
      "00-0033106 J.Goff                           404        6.754951\n",
      "00-0029263 R.Wilson                         316        6.743671\n",
      "00-0039150 B.Young                          350        6.491428\n",
      "00-0036442 J.Burrow                         363        6.465565\n",
      "00-0038583 D.Thompson-Robinson              107        6.271028\n",
      "00-0038416 T.Bagent                         143        5.692307\n"
     ]
    }
   ],
   "source": [
    "grouped.columns = list(map(\"_\".join, grouped.columns.values))\n",
    "sort_crit = \"air_yards_count > 100\"\n",
    "print(grouped.query(sort_crit).sort_values(by=\"air_yards_mean\", ascending=[False]).to_string())"
   ]
  },
  {
   "cell_type": "markdown",
   "id": "c5a27fee",
   "metadata": {},
   "source": [
    "## ADOT For Receivers"
   ]
  },
  {
   "cell_type": "code",
   "execution_count": 9,
   "id": "ac88e622",
   "metadata": {},
   "outputs": [],
   "source": [
    "receivers = df_pass_plays.groupby(['receiver_id', 'receiver']).agg({\"air_yards\": [\"count\", \"mean\"]})"
   ]
  },
  {
   "cell_type": "code",
   "execution_count": 10,
   "id": "fdec472b",
   "metadata": {},
   "outputs": [
    {
     "name": "stdout",
     "output_type": "stream",
     "text": [
      "                            air_yards_count  air_yards_mean\n",
      "receiver_id receiver                                       \n",
      "00-0036261  B.Aiyuk                      65       15.107693\n",
      "00-0037545  R.Shaheed                    55       14.781818\n",
      "00-0030564  D.Hopkins                    83       14.674699\n",
      "00-0031408  M.Evans                      91       14.274725\n",
      "00-0038977  N.Dell                       75       14.266666\n",
      "00-0031544  A.Cooper                     86       14.139535\n",
      "00-0036196  G.Davis                      67       13.880597\n",
      "00-0037239  C.Olave                     103       13.757281\n",
      "00-0035640  D.Metcalf                    80       13.550000\n",
      "00-0037247  G.Pickens                    73       12.945206\n",
      "00-0034837  C.Ridley                     76       12.671053\n",
      "00-0036912  D.Smith                      76       12.460526\n",
      "00-0035676  A.Brown                     105       12.447619\n",
      "00-0038994  J.Addison                    82       11.975610\n",
      "00-0035662  M.Brown                      98       11.959184\n",
      "00-0035216  D.Johnson                    55       11.890909\n",
      "00-0035535  D.Slayton                    53       11.811320\n",
      "00-0031381  D.Adams                     118       11.788136\n",
      "00-0037816  R.Doubs                      69       11.724638\n",
      "00-0036407  J.Jeudy                      53       11.679245\n",
      "00-0036849  T.Atwell                     60       11.600000\n",
      "00-0039146  J.Reed                       59       11.389831\n",
      "00-0036410  T.Higgins                    51       11.254902\n",
      "00-0036554  N.Collins                    73       11.164384\n",
      "00-0036358  C.Lamb                      104       10.980769\n",
      "00-0036970  K.Pitts                      60       10.850000\n",
      "00-0035659  T.McLaurin                   97       10.845361\n",
      "00-0034827  D.Moore                      93       10.688172\n",
      "00-0036322  J.Jefferson                  53       10.679245\n",
      "00-0037740  G.Wilson                    113       10.663717\n",
      "00-0032211  T.Lockett                    79       10.658228\n",
      "00-0033307  K.Bourne                     55       10.436363\n",
      "00-0039062  J.Mingo                      57       10.385965\n",
      "00-0033908  C.Kupp                       51       10.274509\n",
      "00-0034960  J.Meyers                     76       10.157895\n",
      "00-0032765  M.Thomas                     64       10.156250\n",
      "00-0037238  D.London                     68       10.088235\n",
      "00-0031588  S.Diggs                     121       10.016529\n",
      "00-0036613  J.Waddle                     75       10.000000\n",
      "00-0033040  T.Hill                      120        9.975000\n",
      "00-0034348  C.Sutton                     68        9.955882\n",
      "00-0030431  R.Woods                      57        9.789474\n",
      "00-0034775  C.Kirk                       84        9.738095\n",
      "00-0036980  E.Moore                      73        9.424658\n",
      "00-0037741  J.Dotson                     69        9.376812\n",
      "00-0030279  K.Allen                     129        9.372093\n",
      "00-0033288  G.Kittle                     61        9.262295\n",
      "00-0036900  J.Chase                     112        8.991072\n",
      "00-0039075  P.Nacua                     111        8.819819\n",
      "00-0036345  K.Osborn                     55        8.654546\n",
      "00-0033921  C.Godwin                     82        8.365853\n",
      "00-0031610  D.Waller                     51        8.333333\n",
      "00-0039064  Z.Flowers                    80        8.212500\n",
      "00-0036252  M.Pittman                   111        7.936937\n",
      "00-0034383  D.Schultz                    61        7.770492\n",
      "00-0036963  A.St. Brown                 109        7.623853\n",
      "00-0038621  D.Douglas                    55        7.527273\n",
      "00-0038997  J.Downs                      73        7.438356\n",
      "00-0039065  S.LaPorta                    77        7.363636\n",
      "00-0035229  T.Hockenson                 108        7.314815\n",
      "00-0034753  M.Andrews                    61        7.262295\n",
      "00-0030035  A.Thielen                   100        7.000000\n",
      "00-0037744  T.McBride                    65        6.861538\n",
      "00-0030506  T.Kelce                      88        6.852273\n",
      "00-0033110  T.Higbee                     51        6.647059\n",
      "00-0033009  T.Boyd                       72        6.638889\n",
      "00-0038543  J.Smith-Njigba               57        6.438597\n",
      "00-0033282  C.Samuel                     63        6.428571\n",
      "00-0031260  L.Thomas                     62        6.306452\n",
      "00-0038041  J.Ferguson                   58        5.879310\n",
      "00-0034351  D.Goedert                    52        5.288462\n",
      "00-0036290  C.Kmet                       68        4.882353\n",
      "00-0039067  R.Rice                       56        4.857143\n",
      "00-0038933  D.Kincaid                    64        4.781250\n",
      "00-0033881  E.Engram                     82        4.548780\n",
      "00-0033885  D.Njoku                      78        3.615385\n",
      "00-0033280  C.McCaffrey                  58        1.017241\n",
      "00-0039139  J.Gibbs                      52        0.903846\n",
      "00-0035700  J.Jacobs                     52        0.788462\n",
      "00-0033906  A.Kamara                     61        0.131148\n"
     ]
    }
   ],
   "source": [
    "receivers.columns = list(map(\"_\".join, receivers.columns.values))\n",
    "sort_crit = \"air_yards_count > 50\"\n",
    "print(receivers.query(sort_crit).sort_values(by=\"air_yards_mean\", ascending=[False]).to_string())"
   ]
  },
  {
   "cell_type": "code",
   "execution_count": 11,
   "id": "4be6c21d",
   "metadata": {},
   "outputs": [
    {
     "data": {
      "text/html": [
       "<div>\n",
       "<style scoped>\n",
       "    .dataframe tbody tr th:only-of-type {\n",
       "        vertical-align: middle;\n",
       "    }\n",
       "\n",
       "    .dataframe tbody tr th {\n",
       "        vertical-align: top;\n",
       "    }\n",
       "\n",
       "    .dataframe thead th {\n",
       "        text-align: right;\n",
       "    }\n",
       "</style>\n",
       "<table border=\"1\" class=\"dataframe\">\n",
       "  <thead>\n",
       "    <tr style=\"text-align: right;\">\n",
       "      <th></th>\n",
       "      <th></th>\n",
       "      <th>air_yards_count</th>\n",
       "      <th>air_yards_mean</th>\n",
       "    </tr>\n",
       "    <tr>\n",
       "      <th>receiver_id</th>\n",
       "      <th>receiver</th>\n",
       "      <th></th>\n",
       "      <th></th>\n",
       "    </tr>\n",
       "  </thead>\n",
       "  <tbody>\n",
       "    <tr>\n",
       "      <th>00-0031381</th>\n",
       "      <th>D.Adams</th>\n",
       "      <td>118</td>\n",
       "      <td>11.788136</td>\n",
       "    </tr>\n",
       "  </tbody>\n",
       "</table>\n",
       "</div>"
      ],
      "text/plain": [
       "                      air_yards_count  air_yards_mean\n",
       "receiver_id receiver                                 \n",
       "00-0031381  D.Adams               118       11.788136"
      ]
     },
     "execution_count": 11,
     "metadata": {},
     "output_type": "execute_result"
    }
   ],
   "source": [
    "player_name = \"D.Adams\"\n",
    "receivers.query(f\"receiver == '{player_name}'\")"
   ]
  }
 ],
 "metadata": {
  "kernelspec": {
   "display_name": "nfldata",
   "language": "python",
   "name": "nfldata"
  },
  "language_info": {
   "codemirror_mode": {
    "name": "ipython",
    "version": 3
   },
   "file_extension": ".py",
   "mimetype": "text/x-python",
   "name": "python",
   "nbconvert_exporter": "python",
   "pygments_lexer": "ipython3",
   "version": "3.9.7"
  }
 },
 "nbformat": 4,
 "nbformat_minor": 5
}
