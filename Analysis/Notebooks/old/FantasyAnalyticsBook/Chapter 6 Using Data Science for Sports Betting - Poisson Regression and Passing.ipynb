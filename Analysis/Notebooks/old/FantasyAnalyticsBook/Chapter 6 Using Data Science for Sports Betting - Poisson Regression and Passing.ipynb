{
 "cells": [
  {
   "cell_type": "markdown",
   "id": "0378812e-d181-48f4-b7cb-e054e5f37aa6",
   "metadata": {},
   "source": [
    "# Chapter 6. Using Data Science for Sports Betting: Poisson Regression and Passing\n",
    "\n",
    "Because markets are assumed to tend towards efficiency, the final prices on a\n",
    "game - described below - are the most accurate (public) predictions available to\n",
    "us. To beat the betting markets, you need to have an edge, which is information\n",
    "that gives an advantage not available to other bettors. An edge can generally\n",
    "come from two different sources: better data than the market, or a better way of\n",
    "synthesizing data than the market."
   ]
  },
  {
   "cell_type": "markdown",
   "id": "dfbd8b67-5b8d-40b8-ba48-a81a149b968f",
   "metadata": {},
   "source": [
    "The latter is\n",
    "generally the approach of most bettors, who use statistical techniques to process\n",
    "data and produce models to set their own prices and bet the discrepancies\n",
    "between their price (an internal) and that of the market."
   ]
  },
  {
   "cell_type": "markdown",
   "id": "2a583e52-ef3d-45f6-8665-cf7dc2105b62",
   "metadata": {},
   "source": [
    "In American football, the three main markets have long been the spread, the total, and the moneyline:\n",
    "- The spread is the most popular market and is pretty easy to understand; it is a point value that is meant to split outcomes in half over a large sample of games.\n",
    "- To bet a total, you simply bet on whether or not the sum of the two team’s points goes over or under a specified amount.\n",
    "- The last of the traditional bets in American football is the moneyline bet. Essentially for a moneyline bet you’re betting on a team to win the game straight up."
   ]
  },
  {
   "cell_type": "markdown",
   "id": "61bdc58b-986d-47e2-9893-a4b3f85c456a",
   "metadata": {},
   "source": [
    "A model worth its salt in the three main football betting markets using regression\n",
    "is beyond the scope of this book, as they require ratings for each team’s offense,\n",
    "defense, and special teams and require adjustments for things like weather and\n",
    "injuries.\n",
    "\n",
    "Given the sheer volume of available wagers\n",
    "in the prop market, it’s much, much more difficult for the sportsbook to get each of these\n",
    "prices right, and hence a bigger opportunity for bettors exists in these prop\n",
    "markets."
   ]
  },
  {
   "cell_type": "code",
   "execution_count": 1,
   "id": "8941ca95-55e1-4ea7-a64b-86b75d2c515e",
   "metadata": {},
   "outputs": [],
   "source": [
    "import pandas as pd\n",
    "import numpy as np\n",
    "import nfl_data_py as nfl\n",
    "import statsmodels.formula.api as smf\n",
    "import statsmodels.api as sm\n",
    "import matplotlib.pyplot as plt\n",
    "import seaborn as sns\n",
    "from scipy.stats import poisson"
   ]
  },
  {
   "cell_type": "code",
   "execution_count": 2,
   "id": "023311ad-4c91-4bf9-97cc-4a39eac45958",
   "metadata": {},
   "outputs": [
    {
     "name": "stdout",
     "output_type": "stream",
     "text": [
      "2016 done.\n",
      "2017 done.\n",
      "2018 done.\n",
      "2019 done.\n",
      "2020 done.\n",
      "2021 done.\n",
      "2022 done.\n",
      "Downcasting floats.\n"
     ]
    }
   ],
   "source": [
    "seasons = range(2016, 2022 + 1)\n",
    "pbp_py =\\\n",
    "    nfl.import_pbp_data(seasons)"
   ]
  },
  {
   "cell_type": "code",
   "execution_count": 3,
   "id": "a1743e98-6c7a-4d19-a376-7727a7a39521",
   "metadata": {},
   "outputs": [],
   "source": [
    "pbp_py_pass = \\\n",
    "    pbp_py.\\\n",
    "        query('passer_id.notnull()')\\\n",
    "        .reset_index()"
   ]
  },
  {
   "cell_type": "code",
   "execution_count": 4,
   "id": "dac1fcbb-701c-4c98-b468-fba2419e9116",
   "metadata": {},
   "outputs": [],
   "source": [
    "pbp_py_pass\\\n",
    "    .loc[pbp_py_pass.passer.isnull(), \"passer\"] = 'none'\n",
    "\n",
    "pbp_py_pass\\\n",
    "    .loc[pbp_py_pass.passer_id.isnull(), \"passer_id\"] = 'none'\n",
    "\n",
    "pbp_py_pass_td_y = \\\n",
    "    pbp_py_pass\\\n",
    "    .groupby([\"season\", \"week\", \"passer_id\", \"passer\"])\\\n",
    "    .agg({\"pass_touchdown\": [\"sum\"],\n",
    "        \"total_line\": [\"count\", \"mean\"]})"
   ]
  },
  {
   "cell_type": "code",
   "execution_count": 5,
   "id": "f47c1f28-9e24-46ce-b05e-0ad55052e953",
   "metadata": {},
   "outputs": [
    {
     "data": {
      "text/html": [
       "<div>\n",
       "<style scoped>\n",
       "    .dataframe tbody tr th:only-of-type {\n",
       "        vertical-align: middle;\n",
       "    }\n",
       "\n",
       "    .dataframe tbody tr th {\n",
       "        vertical-align: top;\n",
       "    }\n",
       "\n",
       "    .dataframe thead th {\n",
       "        text-align: right;\n",
       "    }\n",
       "</style>\n",
       "<table border=\"1\" class=\"dataframe\">\n",
       "  <thead>\n",
       "    <tr style=\"text-align: right;\">\n",
       "      <th></th>\n",
       "      <th>n_passes</th>\n",
       "    </tr>\n",
       "    <tr>\n",
       "      <th>pass_td_y</th>\n",
       "      <th></th>\n",
       "    </tr>\n",
       "  </thead>\n",
       "  <tbody>\n",
       "    <tr>\n",
       "      <th>0.0</th>\n",
       "      <td>902</td>\n",
       "    </tr>\n",
       "    <tr>\n",
       "      <th>1.0</th>\n",
       "      <td>1286</td>\n",
       "    </tr>\n",
       "    <tr>\n",
       "      <th>2.0</th>\n",
       "      <td>1050</td>\n",
       "    </tr>\n",
       "    <tr>\n",
       "      <th>3.0</th>\n",
       "      <td>506</td>\n",
       "    </tr>\n",
       "    <tr>\n",
       "      <th>4.0</th>\n",
       "      <td>186</td>\n",
       "    </tr>\n",
       "    <tr>\n",
       "      <th>5.0</th>\n",
       "      <td>31</td>\n",
       "    </tr>\n",
       "    <tr>\n",
       "      <th>6.0</th>\n",
       "      <td>4</td>\n",
       "    </tr>\n",
       "  </tbody>\n",
       "</table>\n",
       "</div>"
      ],
      "text/plain": [
       "           n_passes\n",
       "pass_td_y          \n",
       "0.0             902\n",
       "1.0            1286\n",
       "2.0            1050\n",
       "3.0             506\n",
       "4.0             186\n",
       "5.0              31\n",
       "6.0               4"
      ]
     },
     "execution_count": 5,
     "metadata": {},
     "output_type": "execute_result"
    }
   ],
   "source": [
    "pbp_py_pass_td_y.columns =\\\n",
    "    list(map(\"_\".join, pbp_py_pass_td_y.columns))\n",
    "\n",
    "pbp_py_pass_td_y.reset_index(inplace=True)\n",
    "\n",
    "pbp_py_pass_td_y\\\n",
    "    .rename(columns={\n",
    "        \"pass_touchdown_sum\": \"pass_td_y\",\n",
    "        \"total_line_mean\": \"total_line\",\n",
    "        \"total_line_count\": \"n_passes\"\n",
    "    },\n",
    "    inplace=True,\n",
    ")\n",
    "\n",
    "pbp_py_pass_td_y =\\\n",
    "    pbp_py_pass_td_y\\\n",
    "    .query(\"n_passes >= 10\")\n",
    "\n",
    "pbp_py_pass_td_y\\\n",
    "    .groupby(\"pass_td_y\")\\\n",
    "    .agg({\"n_passes\": \"count\"})"
   ]
  },
  {
   "cell_type": "code",
   "execution_count": 6,
   "id": "3eb3ea60-92f2-471f-a1bb-b841c64e9e04",
   "metadata": {},
   "outputs": [
    {
     "data": {
      "text/html": [
       "<div>\n",
       "<style scoped>\n",
       "    .dataframe tbody tr th:only-of-type {\n",
       "        vertical-align: middle;\n",
       "    }\n",
       "\n",
       "    .dataframe tbody tr th {\n",
       "        vertical-align: top;\n",
       "    }\n",
       "\n",
       "    .dataframe thead th {\n",
       "        text-align: right;\n",
       "    }\n",
       "</style>\n",
       "<table border=\"1\" class=\"dataframe\">\n",
       "  <thead>\n",
       "    <tr style=\"text-align: right;\">\n",
       "      <th></th>\n",
       "      <th>season</th>\n",
       "      <th>week</th>\n",
       "      <th>pass_td_y</th>\n",
       "      <th>n_passes</th>\n",
       "      <th>total_line</th>\n",
       "    </tr>\n",
       "  </thead>\n",
       "  <tbody>\n",
       "    <tr>\n",
       "      <th>count</th>\n",
       "      <td>3965.000000</td>\n",
       "      <td>3965.000000</td>\n",
       "      <td>3965.000000</td>\n",
       "      <td>3965.000000</td>\n",
       "      <td>3965.000000</td>\n",
       "    </tr>\n",
       "    <tr>\n",
       "      <th>mean</th>\n",
       "      <td>2019.048928</td>\n",
       "      <td>9.620177</td>\n",
       "      <td>1.469609</td>\n",
       "      <td>38.802018</td>\n",
       "      <td>45.770618</td>\n",
       "    </tr>\n",
       "    <tr>\n",
       "      <th>std</th>\n",
       "      <td>2.008968</td>\n",
       "      <td>5.391064</td>\n",
       "      <td>1.164085</td>\n",
       "      <td>10.623565</td>\n",
       "      <td>4.409123</td>\n",
       "    </tr>\n",
       "    <tr>\n",
       "      <th>min</th>\n",
       "      <td>2016.000000</td>\n",
       "      <td>1.000000</td>\n",
       "      <td>0.000000</td>\n",
       "      <td>10.000000</td>\n",
       "      <td>32.000000</td>\n",
       "    </tr>\n",
       "    <tr>\n",
       "      <th>25%</th>\n",
       "      <td>2017.000000</td>\n",
       "      <td>5.000000</td>\n",
       "      <td>1.000000</td>\n",
       "      <td>32.000000</td>\n",
       "      <td>42.500000</td>\n",
       "    </tr>\n",
       "    <tr>\n",
       "      <th>50%</th>\n",
       "      <td>2019.000000</td>\n",
       "      <td>10.000000</td>\n",
       "      <td>1.000000</td>\n",
       "      <td>39.000000</td>\n",
       "      <td>45.500000</td>\n",
       "    </tr>\n",
       "    <tr>\n",
       "      <th>75%</th>\n",
       "      <td>2021.000000</td>\n",
       "      <td>14.000000</td>\n",
       "      <td>2.000000</td>\n",
       "      <td>46.000000</td>\n",
       "      <td>48.500000</td>\n",
       "    </tr>\n",
       "    <tr>\n",
       "      <th>max</th>\n",
       "      <td>2022.000000</td>\n",
       "      <td>22.000000</td>\n",
       "      <td>6.000000</td>\n",
       "      <td>84.000000</td>\n",
       "      <td>63.500000</td>\n",
       "    </tr>\n",
       "  </tbody>\n",
       "</table>\n",
       "</div>"
      ],
      "text/plain": [
       "            season         week    pass_td_y     n_passes   total_line\n",
       "count  3965.000000  3965.000000  3965.000000  3965.000000  3965.000000\n",
       "mean   2019.048928     9.620177     1.469609    38.802018    45.770618\n",
       "std       2.008968     5.391064     1.164085    10.623565     4.409123\n",
       "min    2016.000000     1.000000     0.000000    10.000000    32.000000\n",
       "25%    2017.000000     5.000000     1.000000    32.000000    42.500000\n",
       "50%    2019.000000    10.000000     1.000000    39.000000    45.500000\n",
       "75%    2021.000000    14.000000     2.000000    46.000000    48.500000\n",
       "max    2022.000000    22.000000     6.000000    84.000000    63.500000"
      ]
     },
     "execution_count": 6,
     "metadata": {},
     "output_type": "execute_result"
    }
   ],
   "source": [
    "pbp_py_pass_td_y.describe()"
   ]
  },
  {
   "cell_type": "markdown",
   "id": "23748054-1b21-4256-bc03-1c3bad9d5ed2",
   "metadata": {},
   "source": [
    "One of the most popular discrete probability distributions is the Poisson\n",
    "distribution. This distribution assigns a probability to obtaining discrete values\n",
    "for the integer x.\n",
    "\n",
    "Critical assumptions of the Poisson distribution are:\n",
    "- The events occur with equal probability.\n",
    "- The events are independent of the time since the last event.\n",
    "\n",
    "Note this does not necesarrily hold in football."
   ]
  },
  {
   "cell_type": "code",
   "execution_count": 7,
   "id": "6ba8dfc3-2c92-4d60-98f4-0fbb22de63f5",
   "metadata": {},
   "outputs": [
    {
     "data": {
      "image/png": "[encoded data removed]",
      "text/plain": [
       "<Figure size 640x480 with 1 Axes>"
      ]
     },
     "metadata": {},
     "output_type": "display_data"
    }
   ],
   "source": [
    "pass_td_y_mean_py =\\\n",
    "    pbp_py_pass_td_y\\\n",
    "    .pass_td_y\\\n",
    "    .mean()\n",
    "\n",
    "plot_pos_py =\\\n",
    "    pd.DataFrame(\n",
    "        {\"x\": range(0, 7),\n",
    "        \"expected\": [poisson.pmf(x, pass_td_y_mean_py) for x in range(0, 7)]\n",
    "        }\n",
    "    )\n",
    "\n",
    "sns.histplot(pbp_py_pass_td_y[\"pass_td_y\"], stat=\"probability\");\n",
    "plt.plot(plot_pos_py.x, plot_pos_py.expected);\n",
    "plt.show();"
   ]
  },
  {
   "cell_type": "markdown",
   "id": "188eec84-a878-483a-8cd6-add7696fe36c",
   "metadata": {},
   "source": [
    "Histogram (vertical bars) of normalized observed touchdowns per game per quarterback with\n",
    "at least 10 games. The term normalized refers to the fact that all of the bars sum to 1. The line shows the\n",
    "theoretical expected values from the Poisson distribution.\n",
    "\n",
    "The Poisson distribution seems to slightly overestimate the likelihood of one\n",
    "touchdown pass, and as such slightly underestimate the likelihood of zero, two,\n",
    "or more touchdown passes in a game.\n",
    "\n",
    "Although not large, such discrepancies can be the difference between winning\n",
    "and losing in sports betting, so if you actually want to wager on your opinions\n",
    "some adjustments need to be made-or a different distribution entirely (such as a\n",
    "negative Binomial distribution or quasi-Poisson that accounts for over-\n",
    "dispersion) should be used."
   ]
  },
  {
   "cell_type": "code",
   "execution_count": null,
   "id": "d744ab12-73c6-419e-9f7e-5c9e6b162f05",
   "metadata": {},
   "outputs": [],
   "source": []
  }
 ],
 "metadata": {
  "kernelspec": {
   "display_name": "nfldata",
   "language": "python",
   "name": "nfldata"
  },
  "language_info": {
   "codemirror_mode": {
    "name": "ipython",
    "version": 3
   },
   "file_extension": ".py",
   "mimetype": "text/x-python",
   "name": "python",
   "nbconvert_exporter": "python",
   "pygments_lexer": "ipython3",
   "version": "3.10.12"
  }
 },
 "nbformat": 4,
 "nbformat_minor": 5
}
