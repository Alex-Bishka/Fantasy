{
 "cells": [
  {
   "cell_type": "markdown",
   "id": "c113d051",
   "metadata": {},
   "source": [
    "# Imports"
   ]
  },
  {
   "cell_type": "code",
   "execution_count": 1,
   "id": "f497b671",
   "metadata": {},
   "outputs": [],
   "source": [
    "import plotly.express as px\n",
    "import pandas as pd"
   ]
  },
  {
   "cell_type": "code",
   "execution_count": 5,
   "id": "d276f9cf",
   "metadata": {},
   "outputs": [],
   "source": [
    "import sys\n",
    "import os\n",
    "sys.path.append(os.path.abspath('..'))\n",
    "from helpers import plot_correlation_matrix, create_correlation_matrix, filter_df"
   ]
  },
  {
   "cell_type": "markdown",
   "id": "7a7e8db1",
   "metadata": {},
   "source": [
    "# Read Data"
   ]
  },
  {
   "cell_type": "markdown",
   "id": "49d17fd5",
   "metadata": {},
   "source": [
    "This data set takes into account passing data from 2012 - 2022. This data is unfiltered."
   ]
  },
  {
   "cell_type": "code",
   "execution_count": 7,
   "id": "dd2ba63f",
   "metadata": {},
   "outputs": [],
   "source": [
    "df_roster = pd.read_pickle(\"../../interactive/df_roster_2012_2022.pkl\")"
   ]
  },
  {
   "cell_type": "code",
   "execution_count": 8,
   "id": "9c065d88",
   "metadata": {},
   "outputs": [],
   "source": [
    "df_seasonal = pd.read_pickle(\"../../interactive/df_seasonal_2012_2022.pkl\")"
   ]
  },
  {
   "cell_type": "code",
   "execution_count": 9,
   "id": "faebc468",
   "metadata": {},
   "outputs": [],
   "source": [
    "df_pbp = pd.read_pickle(\"../../interactive/df_pbp_2012_2022.pkl\")"
   ]
  },
  {
   "cell_type": "markdown",
   "id": "04fd3b7a",
   "metadata": {},
   "source": [
    "# Grabbing NGS Data"
   ]
  },
  {
   "cell_type": "code",
   "execution_count": 10,
   "id": "c713886a",
   "metadata": {},
   "outputs": [],
   "source": [
    "df_ngs_rush = pd.read_pickle(\"../../interactive/df_ngs_rush_2016_2022.pkl\")"
   ]
  },
  {
   "cell_type": "code",
   "execution_count": 11,
   "id": "0edb1415",
   "metadata": {},
   "outputs": [],
   "source": [
    "df_ngs_rush = df_ngs_rush.query(\"season_type == 'REG'\")"
   ]
  },
  {
   "cell_type": "code",
   "execution_count": 13,
   "id": "fb5d92f5",
   "metadata": {},
   "outputs": [],
   "source": [
    "df_ngs_data = df_ngs_rush \\\n",
    "    .groupby([\"player_gsis_id\", \"player_first_name\", \"player_last_name\", \"season\"]) \\\n",
    "    .agg({\n",
    "    'efficiency': [\"mean\"],\n",
    "    'percent_attempts_gte_eight_defenders': ['mean'],\n",
    "    'avg_time_to_los': ['mean'],\n",
    "    'expected_rush_yards': ['mean'],\n",
    "    'rush_yards_over_expected': ['sum'],\n",
    "    'rush_yards_over_expected_per_att': ['mean'],\n",
    "    'rush_pct_over_expected': ['mean']\n",
    "})"
   ]
  },
  {
   "cell_type": "code",
   "execution_count": 14,
   "id": "76561068",
   "metadata": {},
   "outputs": [],
   "source": [
    "df_ngs_data.columns = list(map(\"_\".join, df_ngs_data.columns))\n",
    "df_ngs_data.reset_index(inplace=True)"
   ]
  },
  {
   "cell_type": "code",
   "execution_count": 15,
   "id": "69623155",
   "metadata": {},
   "outputs": [
    {
     "data": {
      "text/html": [
       "<div>\n",
       "<style scoped>\n",
       "    .dataframe tbody tr th:only-of-type {\n",
       "        vertical-align: middle;\n",
       "    }\n",
       "\n",
       "    .dataframe tbody tr th {\n",
       "        vertical-align: top;\n",
       "    }\n",
       "\n",
       "    .dataframe thead th {\n",
       "        text-align: right;\n",
       "    }\n",
       "</style>\n",
       "<table border=\"1\" class=\"dataframe\">\n",
       "  <thead>\n",
       "    <tr style=\"text-align: right;\">\n",
       "      <th></th>\n",
       "      <th>player_gsis_id</th>\n",
       "      <th>player_first_name</th>\n",
       "      <th>player_last_name</th>\n",
       "      <th>season</th>\n",
       "      <th>efficiency_mean</th>\n",
       "      <th>percent_attempts_gte_eight_defenders_mean</th>\n",
       "      <th>avg_time_to_los_mean</th>\n",
       "      <th>expected_rush_yards_mean</th>\n",
       "      <th>rush_yards_over_expected_sum</th>\n",
       "      <th>rush_yards_over_expected_per_att_mean</th>\n",
       "      <th>rush_pct_over_expected_mean</th>\n",
       "    </tr>\n",
       "  </thead>\n",
       "  <tbody>\n",
       "    <tr>\n",
       "      <th>0</th>\n",
       "      <td>00-0023500</td>\n",
       "      <td>Frank</td>\n",
       "      <td>Gore</td>\n",
       "      <td>2016</td>\n",
       "      <td>3.864813</td>\n",
       "      <td>21.810003</td>\n",
       "      <td>2.327528</td>\n",
       "      <td>NaN</td>\n",
       "      <td>0.000000</td>\n",
       "      <td>NaN</td>\n",
       "      <td>NaN</td>\n",
       "    </tr>\n",
       "    <tr>\n",
       "      <th>1</th>\n",
       "      <td>00-0023500</td>\n",
       "      <td>Frank</td>\n",
       "      <td>Gore</td>\n",
       "      <td>2017</td>\n",
       "      <td>3.807271</td>\n",
       "      <td>25.913666</td>\n",
       "      <td>2.545626</td>\n",
       "      <td>NaN</td>\n",
       "      <td>0.000000</td>\n",
       "      <td>NaN</td>\n",
       "      <td>NaN</td>\n",
       "    </tr>\n",
       "    <tr>\n",
       "      <th>2</th>\n",
       "      <td>00-0023500</td>\n",
       "      <td>Frank</td>\n",
       "      <td>Gore</td>\n",
       "      <td>2018</td>\n",
       "      <td>3.247479</td>\n",
       "      <td>8.964702</td>\n",
       "      <td>2.468552</td>\n",
       "      <td>118.911784</td>\n",
       "      <td>109.882161</td>\n",
       "      <td>0.535431</td>\n",
       "      <td>0.406332</td>\n",
       "    </tr>\n",
       "    <tr>\n",
       "      <th>3</th>\n",
       "      <td>00-0023500</td>\n",
       "      <td>Frank</td>\n",
       "      <td>Gore</td>\n",
       "      <td>2019</td>\n",
       "      <td>4.521416</td>\n",
       "      <td>33.168447</td>\n",
       "      <td>2.544394</td>\n",
       "      <td>100.334709</td>\n",
       "      <td>-96.681794</td>\n",
       "      <td>-0.404407</td>\n",
       "      <td>0.314246</td>\n",
       "    </tr>\n",
       "    <tr>\n",
       "      <th>4</th>\n",
       "      <td>00-0023500</td>\n",
       "      <td>Frank</td>\n",
       "      <td>Gore</td>\n",
       "      <td>2020</td>\n",
       "      <td>4.204970</td>\n",
       "      <td>9.304508</td>\n",
       "      <td>2.617079</td>\n",
       "      <td>113.971097</td>\n",
       "      <td>-156.653169</td>\n",
       "      <td>-0.410539</td>\n",
       "      <td>0.406444</td>\n",
       "    </tr>\n",
       "  </tbody>\n",
       "</table>\n",
       "</div>"
      ],
      "text/plain": [
       "  player_gsis_id player_first_name player_last_name  season  efficiency_mean  \\\n",
       "0     00-0023500             Frank             Gore    2016         3.864813   \n",
       "1     00-0023500             Frank             Gore    2017         3.807271   \n",
       "2     00-0023500             Frank             Gore    2018         3.247479   \n",
       "3     00-0023500             Frank             Gore    2019         4.521416   \n",
       "4     00-0023500             Frank             Gore    2020         4.204970   \n",
       "\n",
       "   percent_attempts_gte_eight_defenders_mean  avg_time_to_los_mean  \\\n",
       "0                                  21.810003              2.327528   \n",
       "1                                  25.913666              2.545626   \n",
       "2                                   8.964702              2.468552   \n",
       "3                                  33.168447              2.544394   \n",
       "4                                   9.304508              2.617079   \n",
       "\n",
       "   expected_rush_yards_mean  rush_yards_over_expected_sum  \\\n",
       "0                       NaN                      0.000000   \n",
       "1                       NaN                      0.000000   \n",
       "2                118.911784                    109.882161   \n",
       "3                100.334709                    -96.681794   \n",
       "4                113.971097                   -156.653169   \n",
       "\n",
       "   rush_yards_over_expected_per_att_mean  rush_pct_over_expected_mean  \n",
       "0                                    NaN                          NaN  \n",
       "1                                    NaN                          NaN  \n",
       "2                               0.535431                     0.406332  \n",
       "3                              -0.404407                     0.314246  \n",
       "4                              -0.410539                     0.406444  "
      ]
     },
     "execution_count": 15,
     "metadata": {},
     "output_type": "execute_result"
    }
   ],
   "source": [
    "df_ngs_data.head()"
   ]
  },
  {
   "cell_type": "markdown",
   "id": "21afb11a",
   "metadata": {},
   "source": [
    "# Create Data Frame for Runs"
   ]
  },
  {
   "cell_type": "code",
   "execution_count": 16,
   "id": "6fc14688",
   "metadata": {},
   "outputs": [],
   "source": [
    "df_runs = df_pbp.query(\"play_type == 'run' and season_type == 'REG'\")"
   ]
  },
  {
   "cell_type": "code",
   "execution_count": 17,
   "id": "d138dbed",
   "metadata": {},
   "outputs": [
    {
     "data": {
      "text/html": [
       "<div>\n",
       "<style scoped>\n",
       "    .dataframe tbody tr th:only-of-type {\n",
       "        vertical-align: middle;\n",
       "    }\n",
       "\n",
       "    .dataframe tbody tr th {\n",
       "        vertical-align: top;\n",
       "    }\n",
       "\n",
       "    .dataframe thead th {\n",
       "        text-align: right;\n",
       "    }\n",
       "</style>\n",
       "<table border=\"1\" class=\"dataframe\">\n",
       "  <thead>\n",
       "    <tr style=\"text-align: right;\">\n",
       "      <th></th>\n",
       "      <th>play_id</th>\n",
       "      <th>game_id</th>\n",
       "      <th>old_game_id</th>\n",
       "      <th>home_team</th>\n",
       "      <th>away_team</th>\n",
       "      <th>season_type</th>\n",
       "      <th>week</th>\n",
       "      <th>posteam</th>\n",
       "      <th>posteam_type</th>\n",
       "      <th>defteam</th>\n",
       "      <th>...</th>\n",
       "      <th>offense_formation</th>\n",
       "      <th>offense_personnel</th>\n",
       "      <th>defenders_in_box</th>\n",
       "      <th>defense_personnel</th>\n",
       "      <th>number_of_pass_rushers</th>\n",
       "      <th>players_on_play</th>\n",
       "      <th>offense_players</th>\n",
       "      <th>defense_players</th>\n",
       "      <th>n_offense</th>\n",
       "      <th>n_defense</th>\n",
       "    </tr>\n",
       "  </thead>\n",
       "  <tbody>\n",
       "    <tr>\n",
       "      <th>2</th>\n",
       "      <td>53.0</td>\n",
       "      <td>2012_01_ATL_KC</td>\n",
       "      <td>2012090908</td>\n",
       "      <td>KC</td>\n",
       "      <td>ATL</td>\n",
       "      <td>REG</td>\n",
       "      <td>1</td>\n",
       "      <td>ATL</td>\n",
       "      <td>away</td>\n",
       "      <td>KC</td>\n",
       "      <td>...</td>\n",
       "      <td>NaN</td>\n",
       "      <td>NaN</td>\n",
       "      <td>NaN</td>\n",
       "      <td>NaN</td>\n",
       "      <td>NaN</td>\n",
       "      <td>NaN</td>\n",
       "      <td>NaN</td>\n",
       "      <td>NaN</td>\n",
       "      <td>NaN</td>\n",
       "      <td>NaN</td>\n",
       "    </tr>\n",
       "    <tr>\n",
       "      <th>3</th>\n",
       "      <td>74.0</td>\n",
       "      <td>2012_01_ATL_KC</td>\n",
       "      <td>2012090908</td>\n",
       "      <td>KC</td>\n",
       "      <td>ATL</td>\n",
       "      <td>REG</td>\n",
       "      <td>1</td>\n",
       "      <td>ATL</td>\n",
       "      <td>away</td>\n",
       "      <td>KC</td>\n",
       "      <td>...</td>\n",
       "      <td>NaN</td>\n",
       "      <td>NaN</td>\n",
       "      <td>NaN</td>\n",
       "      <td>NaN</td>\n",
       "      <td>NaN</td>\n",
       "      <td>NaN</td>\n",
       "      <td>NaN</td>\n",
       "      <td>NaN</td>\n",
       "      <td>NaN</td>\n",
       "      <td>NaN</td>\n",
       "    </tr>\n",
       "    <tr>\n",
       "      <th>7</th>\n",
       "      <td>165.0</td>\n",
       "      <td>2012_01_ATL_KC</td>\n",
       "      <td>2012090908</td>\n",
       "      <td>KC</td>\n",
       "      <td>ATL</td>\n",
       "      <td>REG</td>\n",
       "      <td>1</td>\n",
       "      <td>ATL</td>\n",
       "      <td>away</td>\n",
       "      <td>KC</td>\n",
       "      <td>...</td>\n",
       "      <td>NaN</td>\n",
       "      <td>NaN</td>\n",
       "      <td>NaN</td>\n",
       "      <td>NaN</td>\n",
       "      <td>NaN</td>\n",
       "      <td>NaN</td>\n",
       "      <td>NaN</td>\n",
       "      <td>NaN</td>\n",
       "      <td>NaN</td>\n",
       "      <td>NaN</td>\n",
       "    </tr>\n",
       "    <tr>\n",
       "      <th>11</th>\n",
       "      <td>256.0</td>\n",
       "      <td>2012_01_ATL_KC</td>\n",
       "      <td>2012090908</td>\n",
       "      <td>KC</td>\n",
       "      <td>ATL</td>\n",
       "      <td>REG</td>\n",
       "      <td>1</td>\n",
       "      <td>ATL</td>\n",
       "      <td>away</td>\n",
       "      <td>KC</td>\n",
       "      <td>...</td>\n",
       "      <td>NaN</td>\n",
       "      <td>NaN</td>\n",
       "      <td>NaN</td>\n",
       "      <td>NaN</td>\n",
       "      <td>NaN</td>\n",
       "      <td>NaN</td>\n",
       "      <td>NaN</td>\n",
       "      <td>NaN</td>\n",
       "      <td>NaN</td>\n",
       "      <td>NaN</td>\n",
       "    </tr>\n",
       "    <tr>\n",
       "      <th>16</th>\n",
       "      <td>359.0</td>\n",
       "      <td>2012_01_ATL_KC</td>\n",
       "      <td>2012090908</td>\n",
       "      <td>KC</td>\n",
       "      <td>ATL</td>\n",
       "      <td>REG</td>\n",
       "      <td>1</td>\n",
       "      <td>KC</td>\n",
       "      <td>home</td>\n",
       "      <td>ATL</td>\n",
       "      <td>...</td>\n",
       "      <td>NaN</td>\n",
       "      <td>NaN</td>\n",
       "      <td>NaN</td>\n",
       "      <td>NaN</td>\n",
       "      <td>NaN</td>\n",
       "      <td>NaN</td>\n",
       "      <td>NaN</td>\n",
       "      <td>NaN</td>\n",
       "      <td>NaN</td>\n",
       "      <td>NaN</td>\n",
       "    </tr>\n",
       "  </tbody>\n",
       "</table>\n",
       "<p>5 rows × 384 columns</p>\n",
       "</div>"
      ],
      "text/plain": [
       "    play_id         game_id old_game_id home_team away_team season_type  week  \\\n",
       "2      53.0  2012_01_ATL_KC  2012090908        KC       ATL         REG     1   \n",
       "3      74.0  2012_01_ATL_KC  2012090908        KC       ATL         REG     1   \n",
       "7     165.0  2012_01_ATL_KC  2012090908        KC       ATL         REG     1   \n",
       "11    256.0  2012_01_ATL_KC  2012090908        KC       ATL         REG     1   \n",
       "16    359.0  2012_01_ATL_KC  2012090908        KC       ATL         REG     1   \n",
       "\n",
       "   posteam posteam_type defteam  ... offense_formation  offense_personnel  \\\n",
       "2      ATL         away      KC  ...               NaN                NaN   \n",
       "3      ATL         away      KC  ...               NaN                NaN   \n",
       "7      ATL         away      KC  ...               NaN                NaN   \n",
       "11     ATL         away      KC  ...               NaN                NaN   \n",
       "16      KC         home     ATL  ...               NaN                NaN   \n",
       "\n",
       "   defenders_in_box  defense_personnel  number_of_pass_rushers  \\\n",
       "2               NaN                NaN                     NaN   \n",
       "3               NaN                NaN                     NaN   \n",
       "7               NaN                NaN                     NaN   \n",
       "11              NaN                NaN                     NaN   \n",
       "16              NaN                NaN                     NaN   \n",
       "\n",
       "    players_on_play offense_players  defense_players  n_offense  n_defense  \n",
       "2               NaN             NaN              NaN        NaN        NaN  \n",
       "3               NaN             NaN              NaN        NaN        NaN  \n",
       "7               NaN             NaN              NaN        NaN        NaN  \n",
       "11              NaN             NaN              NaN        NaN        NaN  \n",
       "16              NaN             NaN              NaN        NaN        NaN  \n",
       "\n",
       "[5 rows x 384 columns]"
      ]
     },
     "execution_count": 17,
     "metadata": {},
     "output_type": "execute_result"
    }
   ],
   "source": [
    "df_runs.head()"
   ]
  },
  {
   "cell_type": "markdown",
   "id": "cd3f5883",
   "metadata": {},
   "source": [
    "# Create DF for Rushing Stats by Season"
   ]
  },
  {
   "cell_type": "code",
   "execution_count": 18,
   "id": "1db31cd1",
   "metadata": {},
   "outputs": [],
   "source": [
    "df_rushing_yards_by_season = df_runs \\\n",
    "    .groupby([\"rusher_id\", \"rusher\", \"season\"]) \\\n",
    "    .agg({\n",
    "        \"rushing_yards\": [\"sum\", \"mean\"],\n",
    "        \"rush_attempt\": [\"sum\"],\n",
    "        \"fumble\": [\"sum\"],\n",
    "        \"rush_touchdown\": [\"sum\"],\n",
    "        \"tackled_for_loss\": [\"sum\"],\n",
    "        \"epa\": [\"sum\", \"mean\"],\n",
    "        \"success\": [\"sum\"]\n",
    "    })"
   ]
  },
  {
   "cell_type": "code",
   "execution_count": 19,
   "id": "7a43cdb7",
   "metadata": {},
   "outputs": [
    {
     "data": {
      "text/html": [
       "<div>\n",
       "<style scoped>\n",
       "    .dataframe tbody tr th:only-of-type {\n",
       "        vertical-align: middle;\n",
       "    }\n",
       "\n",
       "    .dataframe tbody tr th {\n",
       "        vertical-align: top;\n",
       "    }\n",
       "\n",
       "    .dataframe thead tr th {\n",
       "        text-align: left;\n",
       "    }\n",
       "\n",
       "    .dataframe thead tr:last-of-type th {\n",
       "        text-align: right;\n",
       "    }\n",
       "</style>\n",
       "<table border=\"1\" class=\"dataframe\">\n",
       "  <thead>\n",
       "    <tr>\n",
       "      <th></th>\n",
       "      <th></th>\n",
       "      <th></th>\n",
       "      <th colspan=\"2\" halign=\"left\">rushing_yards</th>\n",
       "      <th>rush_attempt</th>\n",
       "      <th>fumble</th>\n",
       "      <th>rush_touchdown</th>\n",
       "      <th>tackled_for_loss</th>\n",
       "      <th colspan=\"2\" halign=\"left\">epa</th>\n",
       "      <th>success</th>\n",
       "    </tr>\n",
       "    <tr>\n",
       "      <th></th>\n",
       "      <th></th>\n",
       "      <th></th>\n",
       "      <th>sum</th>\n",
       "      <th>mean</th>\n",
       "      <th>sum</th>\n",
       "      <th>sum</th>\n",
       "      <th>sum</th>\n",
       "      <th>sum</th>\n",
       "      <th>sum</th>\n",
       "      <th>mean</th>\n",
       "      <th>sum</th>\n",
       "    </tr>\n",
       "    <tr>\n",
       "      <th>rusher_id</th>\n",
       "      <th>rusher</th>\n",
       "      <th>season</th>\n",
       "      <th></th>\n",
       "      <th></th>\n",
       "      <th></th>\n",
       "      <th></th>\n",
       "      <th></th>\n",
       "      <th></th>\n",
       "      <th></th>\n",
       "      <th></th>\n",
       "      <th></th>\n",
       "    </tr>\n",
       "  </thead>\n",
       "  <tbody>\n",
       "    <tr>\n",
       "      <th rowspan=\"3\" valign=\"top\">00-0007091</th>\n",
       "      <th rowspan=\"3\" valign=\"top\">M.Hasselbeck</th>\n",
       "      <th>2012</th>\n",
       "      <td>0.0</td>\n",
       "      <td>0.0</td>\n",
       "      <td>1.0</td>\n",
       "      <td>1.0</td>\n",
       "      <td>0.0</td>\n",
       "      <td>0.0</td>\n",
       "      <td>-1.360733</td>\n",
       "      <td>-1.360733</td>\n",
       "      <td>0.0</td>\n",
       "    </tr>\n",
       "    <tr>\n",
       "      <th>2014</th>\n",
       "      <td>-5.0</td>\n",
       "      <td>-5.0</td>\n",
       "      <td>1.0</td>\n",
       "      <td>0.0</td>\n",
       "      <td>0.0</td>\n",
       "      <td>1.0</td>\n",
       "      <td>-1.280506</td>\n",
       "      <td>-1.280506</td>\n",
       "      <td>0.0</td>\n",
       "    </tr>\n",
       "    <tr>\n",
       "      <th>2015</th>\n",
       "      <td>4.0</td>\n",
       "      <td>4.0</td>\n",
       "      <td>1.0</td>\n",
       "      <td>0.0</td>\n",
       "      <td>0.0</td>\n",
       "      <td>0.0</td>\n",
       "      <td>-0.035615</td>\n",
       "      <td>-0.035615</td>\n",
       "      <td>0.0</td>\n",
       "    </tr>\n",
       "    <tr>\n",
       "      <th rowspan=\"2\" valign=\"top\">00-0010346</th>\n",
       "      <th rowspan=\"2\" valign=\"top\">P.Manning</th>\n",
       "      <th>2012</th>\n",
       "      <td>-2.0</td>\n",
       "      <td>-1.0</td>\n",
       "      <td>2.0</td>\n",
       "      <td>0.0</td>\n",
       "      <td>0.0</td>\n",
       "      <td>1.0</td>\n",
       "      <td>-0.817786</td>\n",
       "      <td>-0.408893</td>\n",
       "      <td>0.0</td>\n",
       "    </tr>\n",
       "    <tr>\n",
       "      <th>2013</th>\n",
       "      <td>-9.0</td>\n",
       "      <td>-0.9</td>\n",
       "      <td>10.0</td>\n",
       "      <td>5.0</td>\n",
       "      <td>1.0</td>\n",
       "      <td>2.0</td>\n",
       "      <td>-18.549723</td>\n",
       "      <td>-1.854972</td>\n",
       "      <td>1.0</td>\n",
       "    </tr>\n",
       "  </tbody>\n",
       "</table>\n",
       "</div>"
      ],
      "text/plain": [
       "                               rushing_yards      rush_attempt fumble  \\\n",
       "                                         sum mean          sum    sum   \n",
       "rusher_id  rusher       season                                          \n",
       "00-0007091 M.Hasselbeck 2012             0.0  0.0          1.0    1.0   \n",
       "                        2014            -5.0 -5.0          1.0    0.0   \n",
       "                        2015             4.0  4.0          1.0    0.0   \n",
       "00-0010346 P.Manning    2012            -2.0 -1.0          2.0    0.0   \n",
       "                        2013            -9.0 -0.9         10.0    5.0   \n",
       "\n",
       "                               rush_touchdown tackled_for_loss        epa  \\\n",
       "                                          sum              sum        sum   \n",
       "rusher_id  rusher       season                                              \n",
       "00-0007091 M.Hasselbeck 2012              0.0              0.0  -1.360733   \n",
       "                        2014              0.0              1.0  -1.280506   \n",
       "                        2015              0.0              0.0  -0.035615   \n",
       "00-0010346 P.Manning    2012              0.0              1.0  -0.817786   \n",
       "                        2013              1.0              2.0 -18.549723   \n",
       "\n",
       "                                         success  \n",
       "                                    mean     sum  \n",
       "rusher_id  rusher       season                    \n",
       "00-0007091 M.Hasselbeck 2012   -1.360733     0.0  \n",
       "                        2014   -1.280506     0.0  \n",
       "                        2015   -0.035615     0.0  \n",
       "00-0010346 P.Manning    2012   -0.408893     0.0  \n",
       "                        2013   -1.854972     1.0  "
      ]
     },
     "execution_count": 19,
     "metadata": {},
     "output_type": "execute_result"
    }
   ],
   "source": [
    "df_rushing_yards_by_season.head()"
   ]
  },
  {
   "cell_type": "code",
   "execution_count": 20,
   "id": "e1be7497",
   "metadata": {},
   "outputs": [],
   "source": [
    "df_rushing_yards_by_season.columns = list(map(\"_\".join, df_rushing_yards_by_season.columns))\n",
    "df_rushing_yards_by_season.reset_index(inplace=True)"
   ]
  },
  {
   "cell_type": "code",
   "execution_count": 21,
   "id": "d80f8dc0",
   "metadata": {},
   "outputs": [],
   "source": [
    "df_rushing_yards_by_season_cleaned = df_rushing_yards_by_season.dropna()"
   ]
  },
  {
   "cell_type": "code",
   "execution_count": 22,
   "id": "880490d9",
   "metadata": {},
   "outputs": [],
   "source": [
    "df_rushing_yards_by_season_cleaned = df_rushing_yards_by_season_cleaned.query(\"season >= 2016\")"
   ]
  },
  {
   "cell_type": "code",
   "execution_count": 23,
   "id": "f9ca8a63",
   "metadata": {},
   "outputs": [],
   "source": [
    "df_full_2016_2022 = df_rushing_yards_by_season_cleaned.copy()"
   ]
  },
  {
   "cell_type": "markdown",
   "id": "078e7d7c",
   "metadata": {},
   "source": [
    "**Note:** the ngs data set does not have anything in it related to non-rb positions.\n",
    "\n",
    "Rather unfortunate :("
   ]
  },
  {
   "cell_type": "code",
   "execution_count": 24,
   "id": "942e0860",
   "metadata": {},
   "outputs": [
    {
     "name": "stderr",
     "output_type": "stream",
     "text": [
      "/var/folders/yx/gjm2fjs56vl5kkwrb6xf5d2h0000gn/T/ipykernel_58120/366112553.py:21: FutureWarning: Setting an item of incompatible dtype is deprecated and will raise in a future error of pandas. Value 'RB' has dtype incompatible with float64, please explicitly cast to a compatible dtype first.\n",
      "  df_full_2016_2022.at[i, \"position\"] = roster_row[\"position\"].iloc[0]\n"
     ]
    }
   ],
   "source": [
    "for i, row in df_full_2016_2022.iterrows():\n",
    "    r_id = row[\"rusher_id\"]\n",
    "    season = row[\"season\"]\n",
    "    \n",
    "    seasonal_row = df_seasonal.query(f\"player_id == '{r_id}' & season == {season} & season_type == 'REG'\")\n",
    "    roster_row = df_roster.query(f\"player_id == '{r_id}' & season == {season}\")\n",
    "    \n",
    "    # grabbing corresponding row from the ngs data set\n",
    "    ngs_row = df_ngs_data.query(f\"season == {season} & player_gsis_id == '{r_id}'\")\n",
    "\n",
    "    # completing out final df\n",
    "    if ngs_row.empty or seasonal_row.empty or roster_row.empty:\n",
    "        pass\n",
    "    else:\n",
    "        # from seasonal df\n",
    "        df_full_2016_2022.at[i, \"games\"] = seasonal_row[\"games\"].iloc[0]\n",
    "        df_full_2016_2022.at[i, \"fantasy_points\"] = seasonal_row[\"fantasy_points\"].iloc[0]\n",
    "\n",
    "        # from roster df\n",
    "        df_full_2016_2022.at[i, \"age\"] = roster_row[\"age\"].iloc[0]\n",
    "        df_full_2016_2022.at[i, \"position\"] = roster_row[\"position\"].iloc[0]\n",
    "        \n",
    "        # from ngs data\n",
    "        df_full_2016_2022.at[i, 'efficiency_mean'] = ngs_row['efficiency_mean'].iloc[0]\n",
    "        df_full_2016_2022.at[i, 'percent_attempts_gte_eight_defenders_mean'] = ngs_row['percent_attempts_gte_eight_defenders_mean'].iloc[0]\n",
    "        df_full_2016_2022.at[i, 'avg_time_to_los_mean'] = ngs_row['avg_time_to_los_mean'].iloc[0]\n",
    "        df_full_2016_2022.at[i, 'expected_rush_yards_mean'] = ngs_row['expected_rush_yards_mean'].iloc[0]\n",
    "        df_full_2016_2022.at[i, 'rush_yards_over_expected_sum'] = ngs_row['rush_yards_over_expected_sum'].iloc[0]\n",
    "        df_full_2016_2022.at[i, 'rush_yards_over_expected_per_att_mean'] = ngs_row['rush_yards_over_expected_per_att_mean'].iloc[0]\n",
    "        df_full_2016_2022.at[i, 'rush_pct_over_expected_mean'] = ngs_row['rush_pct_over_expected_mean'].iloc[0]"
   ]
  },
  {
   "cell_type": "code",
   "execution_count": 25,
   "id": "f490064f",
   "metadata": {},
   "outputs": [],
   "source": [
    "df_final = df_full_2016_2022.dropna()"
   ]
  },
  {
   "cell_type": "markdown",
   "id": "32c06f78",
   "metadata": {},
   "source": [
    "# Create Lag Version of Data"
   ]
  },
  {
   "cell_type": "code",
   "execution_count": 26,
   "id": "32c25e55",
   "metadata": {},
   "outputs": [],
   "source": [
    "df_now = df_final.copy()\n",
    "df_last = df_final.copy()"
   ]
  },
  {
   "cell_type": "code",
   "execution_count": 27,
   "id": "7f319b9a",
   "metadata": {},
   "outputs": [],
   "source": [
    "rename_dict = {}\n",
    "for col in list(df_last.columns[3:]):\n",
    "    rename_dict[col] = f\"{col}_last\""
   ]
  },
  {
   "cell_type": "code",
   "execution_count": 28,
   "id": "6ce7a8c8",
   "metadata": {},
   "outputs": [],
   "source": [
    "df_last.rename(columns=rename_dict, inplace=True)"
   ]
  },
  {
   "cell_type": "code",
   "execution_count": 29,
   "id": "8a325a33",
   "metadata": {},
   "outputs": [],
   "source": [
    "df_last[\"season\"] += 1"
   ]
  },
  {
   "cell_type": "code",
   "execution_count": 30,
   "id": "cfd357ad",
   "metadata": {},
   "outputs": [],
   "source": [
    "df_lag = df_now.merge(df_last, how='inner', on=['rusher_id', 'rusher', 'season'])"
   ]
  },
  {
   "cell_type": "code",
   "execution_count": 31,
   "id": "ee58e6e5",
   "metadata": {},
   "outputs": [
    {
     "data": {
      "text/html": [
       "<div>\n",
       "<style scoped>\n",
       "    .dataframe tbody tr th:only-of-type {\n",
       "        vertical-align: middle;\n",
       "    }\n",
       "\n",
       "    .dataframe tbody tr th {\n",
       "        vertical-align: top;\n",
       "    }\n",
       "\n",
       "    .dataframe thead th {\n",
       "        text-align: right;\n",
       "    }\n",
       "</style>\n",
       "<table border=\"1\" class=\"dataframe\">\n",
       "  <thead>\n",
       "    <tr style=\"text-align: right;\">\n",
       "      <th></th>\n",
       "      <th>rusher_id</th>\n",
       "      <th>rusher</th>\n",
       "      <th>season</th>\n",
       "      <th>rushing_yards_sum</th>\n",
       "      <th>rushing_yards_mean</th>\n",
       "      <th>rush_attempt_sum</th>\n",
       "      <th>fumble_sum</th>\n",
       "      <th>rush_touchdown_sum</th>\n",
       "      <th>tackled_for_loss_sum</th>\n",
       "      <th>epa_sum</th>\n",
       "      <th>...</th>\n",
       "      <th>fantasy_points_last</th>\n",
       "      <th>age_last</th>\n",
       "      <th>position_last</th>\n",
       "      <th>efficiency_mean_last</th>\n",
       "      <th>percent_attempts_gte_eight_defenders_mean_last</th>\n",
       "      <th>avg_time_to_los_mean_last</th>\n",
       "      <th>expected_rush_yards_mean_last</th>\n",
       "      <th>rush_yards_over_expected_sum_last</th>\n",
       "      <th>rush_yards_over_expected_per_att_mean_last</th>\n",
       "      <th>rush_pct_over_expected_mean_last</th>\n",
       "    </tr>\n",
       "  </thead>\n",
       "  <tbody>\n",
       "    <tr>\n",
       "      <th>0</th>\n",
       "      <td>00-0023500</td>\n",
       "      <td>F.Gore</td>\n",
       "      <td>2019</td>\n",
       "      <td>599.0</td>\n",
       "      <td>3.608434</td>\n",
       "      <td>166.0</td>\n",
       "      <td>0.0</td>\n",
       "      <td>2.0</td>\n",
       "      <td>18.0</td>\n",
       "      <td>-32.828232</td>\n",
       "      <td>...</td>\n",
       "      <td>90.6</td>\n",
       "      <td>35.0</td>\n",
       "      <td>RB</td>\n",
       "      <td>3.247479</td>\n",
       "      <td>8.964702</td>\n",
       "      <td>2.468552</td>\n",
       "      <td>118.911784</td>\n",
       "      <td>109.882161</td>\n",
       "      <td>0.535431</td>\n",
       "      <td>0.406332</td>\n",
       "    </tr>\n",
       "    <tr>\n",
       "      <th>1</th>\n",
       "      <td>00-0023500</td>\n",
       "      <td>F.Gore</td>\n",
       "      <td>2020</td>\n",
       "      <td>653.0</td>\n",
       "      <td>3.491979</td>\n",
       "      <td>187.0</td>\n",
       "      <td>1.0</td>\n",
       "      <td>2.0</td>\n",
       "      <td>17.0</td>\n",
       "      <td>-41.306019</td>\n",
       "      <td>...</td>\n",
       "      <td>81.9</td>\n",
       "      <td>36.0</td>\n",
       "      <td>RB</td>\n",
       "      <td>4.521416</td>\n",
       "      <td>33.168447</td>\n",
       "      <td>2.544394</td>\n",
       "      <td>100.334709</td>\n",
       "      <td>-96.681794</td>\n",
       "      <td>-0.404407</td>\n",
       "      <td>0.314246</td>\n",
       "    </tr>\n",
       "    <tr>\n",
       "      <th>2</th>\n",
       "      <td>00-0025394</td>\n",
       "      <td>A.Peterson</td>\n",
       "      <td>2019</td>\n",
       "      <td>898.0</td>\n",
       "      <td>4.255924</td>\n",
       "      <td>211.0</td>\n",
       "      <td>2.0</td>\n",
       "      <td>5.0</td>\n",
       "      <td>20.0</td>\n",
       "      <td>-25.582747</td>\n",
       "      <td>...</td>\n",
       "      <td>169.0</td>\n",
       "      <td>33.0</td>\n",
       "      <td>RB</td>\n",
       "      <td>5.157395</td>\n",
       "      <td>15.759431</td>\n",
       "      <td>2.962591</td>\n",
       "      <td>141.369825</td>\n",
       "      <td>87.192280</td>\n",
       "      <td>-0.051872</td>\n",
       "      <td>0.366966</td>\n",
       "    </tr>\n",
       "    <tr>\n",
       "      <th>3</th>\n",
       "      <td>00-0025394</td>\n",
       "      <td>A.Peterson</td>\n",
       "      <td>2020</td>\n",
       "      <td>604.0</td>\n",
       "      <td>3.871795</td>\n",
       "      <td>156.0</td>\n",
       "      <td>0.0</td>\n",
       "      <td>7.0</td>\n",
       "      <td>11.0</td>\n",
       "      <td>-12.136178</td>\n",
       "      <td>...</td>\n",
       "      <td>130.0</td>\n",
       "      <td>34.0</td>\n",
       "      <td>RB</td>\n",
       "      <td>4.276318</td>\n",
       "      <td>30.083278</td>\n",
       "      <td>2.854776</td>\n",
       "      <td>109.030173</td>\n",
       "      <td>220.577573</td>\n",
       "      <td>0.493684</td>\n",
       "      <td>0.412969</td>\n",
       "    </tr>\n",
       "    <tr>\n",
       "      <th>4</th>\n",
       "      <td>00-0025394</td>\n",
       "      <td>A.Peterson</td>\n",
       "      <td>2021</td>\n",
       "      <td>98.0</td>\n",
       "      <td>2.578947</td>\n",
       "      <td>38.0</td>\n",
       "      <td>1.0</td>\n",
       "      <td>2.0</td>\n",
       "      <td>5.0</td>\n",
       "      <td>-9.864626</td>\n",
       "      <td>...</td>\n",
       "      <td>112.5</td>\n",
       "      <td>35.0</td>\n",
       "      <td>RB</td>\n",
       "      <td>4.291046</td>\n",
       "      <td>30.683327</td>\n",
       "      <td>2.616606</td>\n",
       "      <td>139.261264</td>\n",
       "      <td>-145.090112</td>\n",
       "      <td>-0.610254</td>\n",
       "      <td>0.292767</td>\n",
       "    </tr>\n",
       "  </tbody>\n",
       "</table>\n",
       "<p>5 rows × 43 columns</p>\n",
       "</div>"
      ],
      "text/plain": [
       "    rusher_id      rusher  season  rushing_yards_sum  rushing_yards_mean  \\\n",
       "0  00-0023500      F.Gore    2019              599.0            3.608434   \n",
       "1  00-0023500      F.Gore    2020              653.0            3.491979   \n",
       "2  00-0025394  A.Peterson    2019              898.0            4.255924   \n",
       "3  00-0025394  A.Peterson    2020              604.0            3.871795   \n",
       "4  00-0025394  A.Peterson    2021               98.0            2.578947   \n",
       "\n",
       "   rush_attempt_sum  fumble_sum  rush_touchdown_sum  tackled_for_loss_sum  \\\n",
       "0             166.0         0.0                 2.0                  18.0   \n",
       "1             187.0         1.0                 2.0                  17.0   \n",
       "2             211.0         2.0                 5.0                  20.0   \n",
       "3             156.0         0.0                 7.0                  11.0   \n",
       "4              38.0         1.0                 2.0                   5.0   \n",
       "\n",
       "     epa_sum  ...  fantasy_points_last  age_last  position_last  \\\n",
       "0 -32.828232  ...                 90.6      35.0             RB   \n",
       "1 -41.306019  ...                 81.9      36.0             RB   \n",
       "2 -25.582747  ...                169.0      33.0             RB   \n",
       "3 -12.136178  ...                130.0      34.0             RB   \n",
       "4  -9.864626  ...                112.5      35.0             RB   \n",
       "\n",
       "   efficiency_mean_last  percent_attempts_gte_eight_defenders_mean_last  \\\n",
       "0              3.247479                                        8.964702   \n",
       "1              4.521416                                       33.168447   \n",
       "2              5.157395                                       15.759431   \n",
       "3              4.276318                                       30.083278   \n",
       "4              4.291046                                       30.683327   \n",
       "\n",
       "  avg_time_to_los_mean_last  expected_rush_yards_mean_last  \\\n",
       "0                  2.468552                     118.911784   \n",
       "1                  2.544394                     100.334709   \n",
       "2                  2.962591                     141.369825   \n",
       "3                  2.854776                     109.030173   \n",
       "4                  2.616606                     139.261264   \n",
       "\n",
       "   rush_yards_over_expected_sum_last  \\\n",
       "0                         109.882161   \n",
       "1                         -96.681794   \n",
       "2                          87.192280   \n",
       "3                         220.577573   \n",
       "4                        -145.090112   \n",
       "\n",
       "   rush_yards_over_expected_per_att_mean_last  \\\n",
       "0                                    0.535431   \n",
       "1                                   -0.404407   \n",
       "2                                   -0.051872   \n",
       "3                                    0.493684   \n",
       "4                                   -0.610254   \n",
       "\n",
       "   rush_pct_over_expected_mean_last  \n",
       "0                          0.406332  \n",
       "1                          0.314246  \n",
       "2                          0.366966  \n",
       "3                          0.412969  \n",
       "4                          0.292767  \n",
       "\n",
       "[5 rows x 43 columns]"
      ]
     },
     "execution_count": 31,
     "metadata": {},
     "output_type": "execute_result"
    }
   ],
   "source": [
    "df_lag.head()"
   ]
  },
  {
   "cell_type": "markdown",
   "id": "ab99c225",
   "metadata": {},
   "source": [
    "# Data Manipulations"
   ]
  },
  {
   "cell_type": "markdown",
   "id": "ba47933b",
   "metadata": {},
   "source": [
    "Preserving the df_lag to avoid manipulations on it. Can just re-run from here, if we run into any issues from data manipulations, or just want the original NGS + simple stats."
   ]
  },
  {
   "cell_type": "code",
   "execution_count": 33,
   "id": "387f0365",
   "metadata": {},
   "outputs": [],
   "source": [
    "df = df_lag.copy()"
   ]
  },
  {
   "cell_type": "markdown",
   "id": "f3d694aa",
   "metadata": {},
   "source": [
    "## Correlation Matrix Features"
   ]
  },
  {
   "cell_type": "code",
   "execution_count": 66,
   "id": "972da0ef",
   "metadata": {},
   "outputs": [],
   "source": [
    "x = [\n",
    "#     'rushing_yards_sum',\n",
    "#     'rushing_yards_mean',\n",
    "#     'rush_attempt_sum',\n",
    "#     'fumble_sum',\n",
    "#     'rush_touchdown_sum',\n",
    "#     'tackled_for_loss_sum',\n",
    "#     'epa_sum',\n",
    "#     'epa_mean',\n",
    "#     'success_sum',\n",
    "    'fantasy_points',\n",
    "    'efficiency_mean',\n",
    "    'percent_attempts_gte_eight_defenders_mean',\n",
    "    'avg_time_to_los_mean',\n",
    "    'expected_rush_yards_mean',\n",
    "    'rush_yards_over_expected_sum',\n",
    "    'rush_yards_over_expected_per_att_mean',\n",
    "    'rush_pct_over_expected_mean',\n",
    "]"
   ]
  },
  {
   "cell_type": "code",
   "execution_count": 67,
   "id": "d5265b4f",
   "metadata": {},
   "outputs": [],
   "source": [
    "y = [\n",
    "#     'rushing_yards_sum_last',\n",
    "#     'rushing_yards_mean_last',\n",
    "#     'rush_attempt_sum_last',\n",
    "#     'fumble_sum_last',\n",
    "#     'rush_touchdown_sum_last',\n",
    "#     'tackled_for_loss_sum_last',\n",
    "#     'epa_sum_last',\n",
    "#     'epa_mean_last',\n",
    "#     'success_sum_last',\n",
    "    'fantasy_points_last',\n",
    "    'efficiency_mean_last',\n",
    "    'percent_attempts_gte_eight_defenders_mean_last',\n",
    "    'avg_time_to_los_mean_last',\n",
    "    'expected_rush_yards_mean_last',\n",
    "    'rush_yards_over_expected_sum_last',\n",
    "    'rush_yards_over_expected_per_att_mean_last',\n",
    "    'rush_pct_over_expected_mean_last'\n",
    "]"
   ]
  },
  {
   "cell_type": "markdown",
   "id": "76532db4",
   "metadata": {},
   "source": [
    "## Exploration"
   ]
  },
  {
   "cell_type": "code",
   "execution_count": 68,
   "id": "45af80d3",
   "metadata": {},
   "outputs": [],
   "source": [
    "base_path=\"../../interactive/RB/stability-rushing/season\""
   ]
  },
  {
   "cell_type": "code",
   "execution_count": 69,
   "id": "78de56cf",
   "metadata": {},
   "outputs": [
    {
     "data": {
      "application/vnd.plotly.v1+json": {
       "config": {
        "plotlyServerURL": "https://plot.ly"
       },
       "data": [
        {
         "coloraxis": "coloraxis",
         "hovertemplate": "Current Season Stats: %{x}<br>Previous Season Stats: %{y}<br>color: %{z}<extra></extra>",
         "name": "0",
         "texttemplate": "%{z}",
         "type": "heatmap",
         "x": [
          "fantasy_points",
          "efficiency_mean",
          "percent_attempts_gte_eight_defenders_mean",
          "avg_time_to_los_mean",
          "expected_rush_yards_mean",
          "rush_yards_over_expected_sum",
          "rush_yards_over_expected_per_att_mean",
          "rush_pct_over_expected_mean"
         ],
         "xaxis": "x",
         "y": [
          "fantasy_points_last",
          "efficiency_mean_last",
          "percent_attempts_gte_eight_defenders_mean_last",
          "avg_time_to_los_mean_last",
          "expected_rush_yards_mean_last",
          "rush_yards_over_expected_sum_last",
          "rush_yards_over_expected_per_att_mean_last",
          "rush_pct_over_expected_mean_last"
         ],
         "yaxis": "y",
         "z": [
          [
           0.55,
           0.08,
           -0.08,
           0.14,
           0.22,
           0.2,
           0.17,
           0.09
          ],
          [
           -0.11,
           0.22,
           -0.08,
           0.12,
           -0.08,
           -0.09,
           -0.07,
           -0.1
          ],
          [
           -0.08,
           -0.03,
           0.22,
           -0.04,
           -0.02,
           0.12,
           0.1,
           0.12
          ],
          [
           0.05,
           0.03,
           -0.14,
           0.22,
           0.01,
           0.14,
           0.11,
           0.07
          ],
          [
           0.14,
           0,
           -0.11,
           0.03,
           0.13,
           0.09,
           0.09,
           0.06
          ],
          [
           0.33,
           0.12,
           0.02,
           0.13,
           0.2,
           0.45,
           0.24,
           0.11
          ],
          [
           0.08,
           0.02,
           0.09,
           0.15,
           0.07,
           0.12,
           0.08,
           0.11
          ],
          [
           0.05,
           -0.01,
           0.14,
           0.09,
           0.09,
           0.01,
           0,
           0.09
          ]
         ]
        }
       ],
       "layout": {
        "coloraxis": {
         "colorscale": [
          [
           0,
           "#0d0887"
          ],
          [
           0.1111111111111111,
           "#46039f"
          ],
          [
           0.2222222222222222,
           "#7201a8"
          ],
          [
           0.3333333333333333,
           "#9c179e"
          ],
          [
           0.4444444444444444,
           "#bd3786"
          ],
          [
           0.5555555555555556,
           "#d8576b"
          ],
          [
           0.6666666666666666,
           "#ed7953"
          ],
          [
           0.7777777777777778,
           "#fb9f3a"
          ],
          [
           0.8888888888888888,
           "#fdca26"
          ],
          [
           1,
           "#f0f921"
          ]
         ]
        },
        "margin": {
         "t": 60
        },
        "template": {
         "data": {
          "bar": [
           {
            "error_x": {
             "color": "#2a3f5f"
            },
            "error_y": {
             "color": "#2a3f5f"
            },
            "marker": {
             "line": {
              "color": "#E5ECF6",
              "width": 0.5
             },
             "pattern": {
              "fillmode": "overlay",
              "size": 10,
              "solidity": 0.2
             }
            },
            "type": "bar"
           }
          ],
          "barpolar": [
           {
            "marker": {
             "line": {
              "color": "#E5ECF6",
              "width": 0.5
             },
             "pattern": {
              "fillmode": "overlay",
              "size": 10,
              "solidity": 0.2
             }
            },
            "type": "barpolar"
           }
          ],
          "carpet": [
           {
            "aaxis": {
             "endlinecolor": "#2a3f5f",
             "gridcolor": "white",
             "linecolor": "white",
             "minorgridcolor": "white",
             "startlinecolor": "#2a3f5f"
            },
            "baxis": {
             "endlinecolor": "#2a3f5f",
             "gridcolor": "white",
             "linecolor": "white",
             "minorgridcolor": "white",
             "startlinecolor": "#2a3f5f"
            },
            "type": "carpet"
           }
          ],
          "choropleth": [
           {
            "colorbar": {
             "outlinewidth": 0,
             "ticks": ""
            },
            "type": "choropleth"
           }
          ],
          "contour": [
           {
            "colorbar": {
             "outlinewidth": 0,
             "ticks": ""
            },
            "colorscale": [
             [
              0,
              "#0d0887"
             ],
             [
              0.1111111111111111,
              "#46039f"
             ],
             [
              0.2222222222222222,
              "#7201a8"
             ],
             [
              0.3333333333333333,
              "#9c179e"
             ],
             [
              0.4444444444444444,
              "#bd3786"
             ],
             [
              0.5555555555555556,
              "#d8576b"
             ],
             [
              0.6666666666666666,
              "#ed7953"
             ],
             [
              0.7777777777777778,
              "#fb9f3a"
             ],
             [
              0.8888888888888888,
              "#fdca26"
             ],
             [
              1,
              "#f0f921"
             ]
            ],
            "type": "contour"
           }
          ],
          "contourcarpet": [
           {
            "colorbar": {
             "outlinewidth": 0,
             "ticks": ""
            },
            "type": "contourcarpet"
           }
          ],
          "heatmap": [
           {
            "colorbar": {
             "outlinewidth": 0,
             "ticks": ""
            },
            "colorscale": [
             [
              0,
              "#0d0887"
             ],
             [
              0.1111111111111111,
              "#46039f"
             ],
             [
              0.2222222222222222,
              "#7201a8"
             ],
             [
              0.3333333333333333,
              "#9c179e"
             ],
             [
              0.4444444444444444,
              "#bd3786"
             ],
             [
              0.5555555555555556,
              "#d8576b"
             ],
             [
              0.6666666666666666,
              "#ed7953"
             ],
             [
              0.7777777777777778,
              "#fb9f3a"
             ],
             [
              0.8888888888888888,
              "#fdca26"
             ],
             [
              1,
              "#f0f921"
             ]
            ],
            "type": "heatmap"
           }
          ],
          "heatmapgl": [
           {
            "colorbar": {
             "outlinewidth": 0,
             "ticks": ""
            },
            "colorscale": [
             [
              0,
              "#0d0887"
             ],
             [
              0.1111111111111111,
              "#46039f"
             ],
             [
              0.2222222222222222,
              "#7201a8"
             ],
             [
              0.3333333333333333,
              "#9c179e"
             ],
             [
              0.4444444444444444,
              "#bd3786"
             ],
             [
              0.5555555555555556,
              "#d8576b"
             ],
             [
              0.6666666666666666,
              "#ed7953"
             ],
             [
              0.7777777777777778,
              "#fb9f3a"
             ],
             [
              0.8888888888888888,
              "#fdca26"
             ],
             [
              1,
              "#f0f921"
             ]
            ],
            "type": "heatmapgl"
           }
          ],
          "histogram": [
           {
            "marker": {
             "pattern": {
              "fillmode": "overlay",
              "size": 10,
              "solidity": 0.2
             }
            },
            "type": "histogram"
           }
          ],
          "histogram2d": [
           {
            "colorbar": {
             "outlinewidth": 0,
             "ticks": ""
            },
            "colorscale": [
             [
              0,
              "#0d0887"
             ],
             [
              0.1111111111111111,
              "#46039f"
             ],
             [
              0.2222222222222222,
              "#7201a8"
             ],
             [
              0.3333333333333333,
              "#9c179e"
             ],
             [
              0.4444444444444444,
              "#bd3786"
             ],
             [
              0.5555555555555556,
              "#d8576b"
             ],
             [
              0.6666666666666666,
              "#ed7953"
             ],
             [
              0.7777777777777778,
              "#fb9f3a"
             ],
             [
              0.8888888888888888,
              "#fdca26"
             ],
             [
              1,
              "#f0f921"
             ]
            ],
            "type": "histogram2d"
           }
          ],
          "histogram2dcontour": [
           {
            "colorbar": {
             "outlinewidth": 0,
             "ticks": ""
            },
            "colorscale": [
             [
              0,
              "#0d0887"
             ],
             [
              0.1111111111111111,
              "#46039f"
             ],
             [
              0.2222222222222222,
              "#7201a8"
             ],
             [
              0.3333333333333333,
              "#9c179e"
             ],
             [
              0.4444444444444444,
              "#bd3786"
             ],
             [
              0.5555555555555556,
              "#d8576b"
             ],
             [
              0.6666666666666666,
              "#ed7953"
             ],
             [
              0.7777777777777778,
              "#fb9f3a"
             ],
             [
              0.8888888888888888,
              "#fdca26"
             ],
             [
              1,
              "#f0f921"
             ]
            ],
            "type": "histogram2dcontour"
           }
          ],
          "mesh3d": [
           {
            "colorbar": {
             "outlinewidth": 0,
             "ticks": ""
            },
            "type": "mesh3d"
           }
          ],
          "parcoords": [
           {
            "line": {
             "colorbar": {
              "outlinewidth": 0,
              "ticks": ""
             }
            },
            "type": "parcoords"
           }
          ],
          "pie": [
           {
            "automargin": true,
            "type": "pie"
           }
          ],
          "scatter": [
           {
            "fillpattern": {
             "fillmode": "overlay",
             "size": 10,
             "solidity": 0.2
            },
            "type": "scatter"
           }
          ],
          "scatter3d": [
           {
            "line": {
             "colorbar": {
              "outlinewidth": 0,
              "ticks": ""
             }
            },
            "marker": {
             "colorbar": {
              "outlinewidth": 0,
              "ticks": ""
             }
            },
            "type": "scatter3d"
           }
          ],
          "scattercarpet": [
           {
            "marker": {
             "colorbar": {
              "outlinewidth": 0,
              "ticks": ""
             }
            },
            "type": "scattercarpet"
           }
          ],
          "scattergeo": [
           {
            "marker": {
             "colorbar": {
              "outlinewidth": 0,
              "ticks": ""
             }
            },
            "type": "scattergeo"
           }
          ],
          "scattergl": [
           {
            "marker": {
             "colorbar": {
              "outlinewidth": 0,
              "ticks": ""
             }
            },
            "type": "scattergl"
           }
          ],
          "scattermapbox": [
           {
            "marker": {
             "colorbar": {
              "outlinewidth": 0,
              "ticks": ""
             }
            },
            "type": "scattermapbox"
           }
          ],
          "scatterpolar": [
           {
            "marker": {
             "colorbar": {
              "outlinewidth": 0,
              "ticks": ""
             }
            },
            "type": "scatterpolar"
           }
          ],
          "scatterpolargl": [
           {
            "marker": {
             "colorbar": {
              "outlinewidth": 0,
              "ticks": ""
             }
            },
            "type": "scatterpolargl"
           }
          ],
          "scatterternary": [
           {
            "marker": {
             "colorbar": {
              "outlinewidth": 0,
              "ticks": ""
             }
            },
            "type": "scatterternary"
           }
          ],
          "surface": [
           {
            "colorbar": {
             "outlinewidth": 0,
             "ticks": ""
            },
            "colorscale": [
             [
              0,
              "#0d0887"
             ],
             [
              0.1111111111111111,
              "#46039f"
             ],
             [
              0.2222222222222222,
              "#7201a8"
             ],
             [
              0.3333333333333333,
              "#9c179e"
             ],
             [
              0.4444444444444444,
              "#bd3786"
             ],
             [
              0.5555555555555556,
              "#d8576b"
             ],
             [
              0.6666666666666666,
              "#ed7953"
             ],
             [
              0.7777777777777778,
              "#fb9f3a"
             ],
             [
              0.8888888888888888,
              "#fdca26"
             ],
             [
              1,
              "#f0f921"
             ]
            ],
            "type": "surface"
           }
          ],
          "table": [
           {
            "cells": {
             "fill": {
              "color": "#EBF0F8"
             },
             "line": {
              "color": "white"
             }
            },
            "header": {
             "fill": {
              "color": "#C8D4E3"
             },
             "line": {
              "color": "white"
             }
            },
            "type": "table"
           }
          ]
         },
         "layout": {
          "annotationdefaults": {
           "arrowcolor": "#2a3f5f",
           "arrowhead": 0,
           "arrowwidth": 1
          },
          "autotypenumbers": "strict",
          "coloraxis": {
           "colorbar": {
            "outlinewidth": 0,
            "ticks": ""
           }
          },
          "colorscale": {
           "diverging": [
            [
             0,
             "#8e0152"
            ],
            [
             0.1,
             "#c51b7d"
            ],
            [
             0.2,
             "#de77ae"
            ],
            [
             0.3,
             "#f1b6da"
            ],
            [
             0.4,
             "#fde0ef"
            ],
            [
             0.5,
             "#f7f7f7"
            ],
            [
             0.6,
             "#e6f5d0"
            ],
            [
             0.7,
             "#b8e186"
            ],
            [
             0.8,
             "#7fbc41"
            ],
            [
             0.9,
             "#4d9221"
            ],
            [
             1,
             "#276419"
            ]
           ],
           "sequential": [
            [
             0,
             "#0d0887"
            ],
            [
             0.1111111111111111,
             "#46039f"
            ],
            [
             0.2222222222222222,
             "#7201a8"
            ],
            [
             0.3333333333333333,
             "#9c179e"
            ],
            [
             0.4444444444444444,
             "#bd3786"
            ],
            [
             0.5555555555555556,
             "#d8576b"
            ],
            [
             0.6666666666666666,
             "#ed7953"
            ],
            [
             0.7777777777777778,
             "#fb9f3a"
            ],
            [
             0.8888888888888888,
             "#fdca26"
            ],
            [
             1,
             "#f0f921"
            ]
           ],
           "sequentialminus": [
            [
             0,
             "#0d0887"
            ],
            [
             0.1111111111111111,
             "#46039f"
            ],
            [
             0.2222222222222222,
             "#7201a8"
            ],
            [
             0.3333333333333333,
             "#9c179e"
            ],
            [
             0.4444444444444444,
             "#bd3786"
            ],
            [
             0.5555555555555556,
             "#d8576b"
            ],
            [
             0.6666666666666666,
             "#ed7953"
            ],
            [
             0.7777777777777778,
             "#fb9f3a"
            ],
            [
             0.8888888888888888,
             "#fdca26"
            ],
            [
             1,
             "#f0f921"
            ]
           ]
          },
          "colorway": [
           "#636efa",
           "#EF553B",
           "#00cc96",
           "#ab63fa",
           "#FFA15A",
           "#19d3f3",
           "#FF6692",
           "#B6E880",
           "#FF97FF",
           "#FECB52"
          ],
          "font": {
           "color": "#2a3f5f"
          },
          "geo": {
           "bgcolor": "white",
           "lakecolor": "white",
           "landcolor": "#E5ECF6",
           "showlakes": true,
           "showland": true,
           "subunitcolor": "white"
          },
          "hoverlabel": {
           "align": "left"
          },
          "hovermode": "closest",
          "mapbox": {
           "style": "light"
          },
          "paper_bgcolor": "white",
          "plot_bgcolor": "#E5ECF6",
          "polar": {
           "angularaxis": {
            "gridcolor": "white",
            "linecolor": "white",
            "ticks": ""
           },
           "bgcolor": "#E5ECF6",
           "radialaxis": {
            "gridcolor": "white",
            "linecolor": "white",
            "ticks": ""
           }
          },
          "scene": {
           "xaxis": {
            "backgroundcolor": "#E5ECF6",
            "gridcolor": "white",
            "gridwidth": 2,
            "linecolor": "white",
            "showbackground": true,
            "ticks": "",
            "zerolinecolor": "white"
           },
           "yaxis": {
            "backgroundcolor": "#E5ECF6",
            "gridcolor": "white",
            "gridwidth": 2,
            "linecolor": "white",
            "showbackground": true,
            "ticks": "",
            "zerolinecolor": "white"
           },
           "zaxis": {
            "backgroundcolor": "#E5ECF6",
            "gridcolor": "white",
            "gridwidth": 2,
            "linecolor": "white",
            "showbackground": true,
            "ticks": "",
            "zerolinecolor": "white"
           }
          },
          "shapedefaults": {
           "line": {
            "color": "#2a3f5f"
           }
          },
          "ternary": {
           "aaxis": {
            "gridcolor": "white",
            "linecolor": "white",
            "ticks": ""
           },
           "baxis": {
            "gridcolor": "white",
            "linecolor": "white",
            "ticks": ""
           },
           "bgcolor": "#E5ECF6",
           "caxis": {
            "gridcolor": "white",
            "linecolor": "white",
            "ticks": ""
           }
          },
          "title": {
           "x": 0.05
          },
          "xaxis": {
           "automargin": true,
           "gridcolor": "white",
           "linecolor": "white",
           "ticks": "",
           "title": {
            "standoff": 15
           },
           "zerolinecolor": "white",
           "zerolinewidth": 2
          },
          "yaxis": {
           "automargin": true,
           "gridcolor": "white",
           "linecolor": "white",
           "ticks": "",
           "title": {
            "standoff": 15
           },
           "zerolinecolor": "white",
           "zerolinewidth": 2
          }
         }
        },
        "xaxis": {
         "anchor": "y",
         "constrain": "domain",
         "domain": [
          0,
          1
         ],
         "scaleanchor": "y",
         "title": {
          "text": "Current Season Stats"
         }
        },
        "yaxis": {
         "anchor": "x",
         "autorange": "reversed",
         "constrain": "domain",
         "domain": [
          0,
          1
         ],
         "title": {
          "text": "Previous Season Stats"
         }
        }
       }
      },
      "text/html": [
       "<div>                            <div id=\"cecd01c8-c9e2-422b-9497-bf267c3c067e\" class=\"plotly-graph-div\" style=\"height:525px; width:100%;\"></div>            <script type=\"text/javascript\">                require([\"plotly\"], function(Plotly) {                    window.PLOTLYENV=window.PLOTLYENV || {};                                    if (document.getElementById(\"cecd01c8-c9e2-422b-9497-bf267c3c067e\")) {                    Plotly.newPlot(                        \"cecd01c8-c9e2-422b-9497-bf267c3c067e\",                        [{\"coloraxis\":\"coloraxis\",\"name\":\"0\",\"texttemplate\":\"%{z}\",\"x\":[\"fantasy_points\",\"efficiency_mean\",\"percent_attempts_gte_eight_defenders_mean\",\"avg_time_to_los_mean\",\"expected_rush_yards_mean\",\"rush_yards_over_expected_sum\",\"rush_yards_over_expected_per_att_mean\",\"rush_pct_over_expected_mean\"],\"y\":[\"fantasy_points_last\",\"efficiency_mean_last\",\"percent_attempts_gte_eight_defenders_mean_last\",\"avg_time_to_los_mean_last\",\"expected_rush_yards_mean_last\",\"rush_yards_over_expected_sum_last\",\"rush_yards_over_expected_per_att_mean_last\",\"rush_pct_over_expected_mean_last\"],\"z\":[[0.55,0.08,-0.08,0.14,0.22,0.2,0.17,0.09],[-0.11,0.22,-0.08,0.12,-0.08,-0.09,-0.07,-0.1],[-0.08,-0.03,0.22,-0.04,-0.02,0.12,0.1,0.12],[0.05,0.03,-0.14,0.22,0.01,0.14,0.11,0.07],[0.14,-0.0,-0.11,0.03,0.13,0.09,0.09,0.06],[0.33,0.12,0.02,0.13,0.2,0.45,0.24,0.11],[0.08,0.02,0.09,0.15,0.07,0.12,0.08,0.11],[0.05,-0.01,0.14,0.09,0.09,0.01,0.0,0.09]],\"type\":\"heatmap\",\"xaxis\":\"x\",\"yaxis\":\"y\",\"hovertemplate\":\"Current Season Stats: %{x}\\u003cbr\\u003ePrevious Season Stats: %{y}\\u003cbr\\u003ecolor: %{z}\\u003cextra\\u003e\\u003c\\u002fextra\\u003e\"}],                        {\"template\":{\"data\":{\"histogram2dcontour\":[{\"type\":\"histogram2dcontour\",\"colorbar\":{\"outlinewidth\":0,\"ticks\":\"\"},\"colorscale\":[[0.0,\"#0d0887\"],[0.1111111111111111,\"#46039f\"],[0.2222222222222222,\"#7201a8\"],[0.3333333333333333,\"#9c179e\"],[0.4444444444444444,\"#bd3786\"],[0.5555555555555556,\"#d8576b\"],[0.6666666666666666,\"#ed7953\"],[0.7777777777777778,\"#fb9f3a\"],[0.8888888888888888,\"#fdca26\"],[1.0,\"#f0f921\"]]}],\"choropleth\":[{\"type\":\"choropleth\",\"colorbar\":{\"outlinewidth\":0,\"ticks\":\"\"}}],\"histogram2d\":[{\"type\":\"histogram2d\",\"colorbar\":{\"outlinewidth\":0,\"ticks\":\"\"},\"colorscale\":[[0.0,\"#0d0887\"],[0.1111111111111111,\"#46039f\"],[0.2222222222222222,\"#7201a8\"],[0.3333333333333333,\"#9c179e\"],[0.4444444444444444,\"#bd3786\"],[0.5555555555555556,\"#d8576b\"],[0.6666666666666666,\"#ed7953\"],[0.7777777777777778,\"#fb9f3a\"],[0.8888888888888888,\"#fdca26\"],[1.0,\"#f0f921\"]]}],\"heatmap\":[{\"type\":\"heatmap\",\"colorbar\":{\"outlinewidth\":0,\"ticks\":\"\"},\"colorscale\":[[0.0,\"#0d0887\"],[0.1111111111111111,\"#46039f\"],[0.2222222222222222,\"#7201a8\"],[0.3333333333333333,\"#9c179e\"],[0.4444444444444444,\"#bd3786\"],[0.5555555555555556,\"#d8576b\"],[0.6666666666666666,\"#ed7953\"],[0.7777777777777778,\"#fb9f3a\"],[0.8888888888888888,\"#fdca26\"],[1.0,\"#f0f921\"]]}],\"heatmapgl\":[{\"type\":\"heatmapgl\",\"colorbar\":{\"outlinewidth\":0,\"ticks\":\"\"},\"colorscale\":[[0.0,\"#0d0887\"],[0.1111111111111111,\"#46039f\"],[0.2222222222222222,\"#7201a8\"],[0.3333333333333333,\"#9c179e\"],[0.4444444444444444,\"#bd3786\"],[0.5555555555555556,\"#d8576b\"],[0.6666666666666666,\"#ed7953\"],[0.7777777777777778,\"#fb9f3a\"],[0.8888888888888888,\"#fdca26\"],[1.0,\"#f0f921\"]]}],\"contourcarpet\":[{\"type\":\"contourcarpet\",\"colorbar\":{\"outlinewidth\":0,\"ticks\":\"\"}}],\"contour\":[{\"type\":\"contour\",\"colorbar\":{\"outlinewidth\":0,\"ticks\":\"\"},\"colorscale\":[[0.0,\"#0d0887\"],[0.1111111111111111,\"#46039f\"],[0.2222222222222222,\"#7201a8\"],[0.3333333333333333,\"#9c179e\"],[0.4444444444444444,\"#bd3786\"],[0.5555555555555556,\"#d8576b\"],[0.6666666666666666,\"#ed7953\"],[0.7777777777777778,\"#fb9f3a\"],[0.8888888888888888,\"#fdca26\"],[1.0,\"#f0f921\"]]}],\"surface\":[{\"type\":\"surface\",\"colorbar\":{\"outlinewidth\":0,\"ticks\":\"\"},\"colorscale\":[[0.0,\"#0d0887\"],[0.1111111111111111,\"#46039f\"],[0.2222222222222222,\"#7201a8\"],[0.3333333333333333,\"#9c179e\"],[0.4444444444444444,\"#bd3786\"],[0.5555555555555556,\"#d8576b\"],[0.6666666666666666,\"#ed7953\"],[0.7777777777777778,\"#fb9f3a\"],[0.8888888888888888,\"#fdca26\"],[1.0,\"#f0f921\"]]}],\"mesh3d\":[{\"type\":\"mesh3d\",\"colorbar\":{\"outlinewidth\":0,\"ticks\":\"\"}}],\"scatter\":[{\"fillpattern\":{\"fillmode\":\"overlay\",\"size\":10,\"solidity\":0.2},\"type\":\"scatter\"}],\"parcoords\":[{\"type\":\"parcoords\",\"line\":{\"colorbar\":{\"outlinewidth\":0,\"ticks\":\"\"}}}],\"scatterpolargl\":[{\"type\":\"scatterpolargl\",\"marker\":{\"colorbar\":{\"outlinewidth\":0,\"ticks\":\"\"}}}],\"bar\":[{\"error_x\":{\"color\":\"#2a3f5f\"},\"error_y\":{\"color\":\"#2a3f5f\"},\"marker\":{\"line\":{\"color\":\"#E5ECF6\",\"width\":0.5},\"pattern\":{\"fillmode\":\"overlay\",\"size\":10,\"solidity\":0.2}},\"type\":\"bar\"}],\"scattergeo\":[{\"type\":\"scattergeo\",\"marker\":{\"colorbar\":{\"outlinewidth\":0,\"ticks\":\"\"}}}],\"scatterpolar\":[{\"type\":\"scatterpolar\",\"marker\":{\"colorbar\":{\"outlinewidth\":0,\"ticks\":\"\"}}}],\"histogram\":[{\"marker\":{\"pattern\":{\"fillmode\":\"overlay\",\"size\":10,\"solidity\":0.2}},\"type\":\"histogram\"}],\"scattergl\":[{\"type\":\"scattergl\",\"marker\":{\"colorbar\":{\"outlinewidth\":0,\"ticks\":\"\"}}}],\"scatter3d\":[{\"type\":\"scatter3d\",\"line\":{\"colorbar\":{\"outlinewidth\":0,\"ticks\":\"\"}},\"marker\":{\"colorbar\":{\"outlinewidth\":0,\"ticks\":\"\"}}}],\"scattermapbox\":[{\"type\":\"scattermapbox\",\"marker\":{\"colorbar\":{\"outlinewidth\":0,\"ticks\":\"\"}}}],\"scatterternary\":[{\"type\":\"scatterternary\",\"marker\":{\"colorbar\":{\"outlinewidth\":0,\"ticks\":\"\"}}}],\"scattercarpet\":[{\"type\":\"scattercarpet\",\"marker\":{\"colorbar\":{\"outlinewidth\":0,\"ticks\":\"\"}}}],\"carpet\":[{\"aaxis\":{\"endlinecolor\":\"#2a3f5f\",\"gridcolor\":\"white\",\"linecolor\":\"white\",\"minorgridcolor\":\"white\",\"startlinecolor\":\"#2a3f5f\"},\"baxis\":{\"endlinecolor\":\"#2a3f5f\",\"gridcolor\":\"white\",\"linecolor\":\"white\",\"minorgridcolor\":\"white\",\"startlinecolor\":\"#2a3f5f\"},\"type\":\"carpet\"}],\"table\":[{\"cells\":{\"fill\":{\"color\":\"#EBF0F8\"},\"line\":{\"color\":\"white\"}},\"header\":{\"fill\":{\"color\":\"#C8D4E3\"},\"line\":{\"color\":\"white\"}},\"type\":\"table\"}],\"barpolar\":[{\"marker\":{\"line\":{\"color\":\"#E5ECF6\",\"width\":0.5},\"pattern\":{\"fillmode\":\"overlay\",\"size\":10,\"solidity\":0.2}},\"type\":\"barpolar\"}],\"pie\":[{\"automargin\":true,\"type\":\"pie\"}]},\"layout\":{\"autotypenumbers\":\"strict\",\"colorway\":[\"#636efa\",\"#EF553B\",\"#00cc96\",\"#ab63fa\",\"#FFA15A\",\"#19d3f3\",\"#FF6692\",\"#B6E880\",\"#FF97FF\",\"#FECB52\"],\"font\":{\"color\":\"#2a3f5f\"},\"hovermode\":\"closest\",\"hoverlabel\":{\"align\":\"left\"},\"paper_bgcolor\":\"white\",\"plot_bgcolor\":\"#E5ECF6\",\"polar\":{\"bgcolor\":\"#E5ECF6\",\"angularaxis\":{\"gridcolor\":\"white\",\"linecolor\":\"white\",\"ticks\":\"\"},\"radialaxis\":{\"gridcolor\":\"white\",\"linecolor\":\"white\",\"ticks\":\"\"}},\"ternary\":{\"bgcolor\":\"#E5ECF6\",\"aaxis\":{\"gridcolor\":\"white\",\"linecolor\":\"white\",\"ticks\":\"\"},\"baxis\":{\"gridcolor\":\"white\",\"linecolor\":\"white\",\"ticks\":\"\"},\"caxis\":{\"gridcolor\":\"white\",\"linecolor\":\"white\",\"ticks\":\"\"}},\"coloraxis\":{\"colorbar\":{\"outlinewidth\":0,\"ticks\":\"\"}},\"colorscale\":{\"sequential\":[[0.0,\"#0d0887\"],[0.1111111111111111,\"#46039f\"],[0.2222222222222222,\"#7201a8\"],[0.3333333333333333,\"#9c179e\"],[0.4444444444444444,\"#bd3786\"],[0.5555555555555556,\"#d8576b\"],[0.6666666666666666,\"#ed7953\"],[0.7777777777777778,\"#fb9f3a\"],[0.8888888888888888,\"#fdca26\"],[1.0,\"#f0f921\"]],\"sequentialminus\":[[0.0,\"#0d0887\"],[0.1111111111111111,\"#46039f\"],[0.2222222222222222,\"#7201a8\"],[0.3333333333333333,\"#9c179e\"],[0.4444444444444444,\"#bd3786\"],[0.5555555555555556,\"#d8576b\"],[0.6666666666666666,\"#ed7953\"],[0.7777777777777778,\"#fb9f3a\"],[0.8888888888888888,\"#fdca26\"],[1.0,\"#f0f921\"]],\"diverging\":[[0,\"#8e0152\"],[0.1,\"#c51b7d\"],[0.2,\"#de77ae\"],[0.3,\"#f1b6da\"],[0.4,\"#fde0ef\"],[0.5,\"#f7f7f7\"],[0.6,\"#e6f5d0\"],[0.7,\"#b8e186\"],[0.8,\"#7fbc41\"],[0.9,\"#4d9221\"],[1,\"#276419\"]]},\"xaxis\":{\"gridcolor\":\"white\",\"linecolor\":\"white\",\"ticks\":\"\",\"title\":{\"standoff\":15},\"zerolinecolor\":\"white\",\"automargin\":true,\"zerolinewidth\":2},\"yaxis\":{\"gridcolor\":\"white\",\"linecolor\":\"white\",\"ticks\":\"\",\"title\":{\"standoff\":15},\"zerolinecolor\":\"white\",\"automargin\":true,\"zerolinewidth\":2},\"scene\":{\"xaxis\":{\"backgroundcolor\":\"#E5ECF6\",\"gridcolor\":\"white\",\"linecolor\":\"white\",\"showbackground\":true,\"ticks\":\"\",\"zerolinecolor\":\"white\",\"gridwidth\":2},\"yaxis\":{\"backgroundcolor\":\"#E5ECF6\",\"gridcolor\":\"white\",\"linecolor\":\"white\",\"showbackground\":true,\"ticks\":\"\",\"zerolinecolor\":\"white\",\"gridwidth\":2},\"zaxis\":{\"backgroundcolor\":\"#E5ECF6\",\"gridcolor\":\"white\",\"linecolor\":\"white\",\"showbackground\":true,\"ticks\":\"\",\"zerolinecolor\":\"white\",\"gridwidth\":2}},\"shapedefaults\":{\"line\":{\"color\":\"#2a3f5f\"}},\"annotationdefaults\":{\"arrowcolor\":\"#2a3f5f\",\"arrowhead\":0,\"arrowwidth\":1},\"geo\":{\"bgcolor\":\"white\",\"landcolor\":\"#E5ECF6\",\"subunitcolor\":\"white\",\"showland\":true,\"showlakes\":true,\"lakecolor\":\"white\"},\"title\":{\"x\":0.05},\"mapbox\":{\"style\":\"light\"}}},\"xaxis\":{\"anchor\":\"y\",\"domain\":[0.0,1.0],\"scaleanchor\":\"y\",\"constrain\":\"domain\",\"title\":{\"text\":\"Current Season Stats\"}},\"yaxis\":{\"anchor\":\"x\",\"domain\":[0.0,1.0],\"autorange\":\"reversed\",\"constrain\":\"domain\",\"title\":{\"text\":\"Previous Season Stats\"}},\"coloraxis\":{\"colorscale\":[[0.0,\"#0d0887\"],[0.1111111111111111,\"#46039f\"],[0.2222222222222222,\"#7201a8\"],[0.3333333333333333,\"#9c179e\"],[0.4444444444444444,\"#bd3786\"],[0.5555555555555556,\"#d8576b\"],[0.6666666666666666,\"#ed7953\"],[0.7777777777777778,\"#fb9f3a\"],[0.8888888888888888,\"#fdca26\"],[1.0,\"#f0f921\"]]},\"margin\":{\"t\":60}},                        {\"responsive\": true}                    ).then(function(){\n",
       "                            \n",
       "var gd = document.getElementById('cecd01c8-c9e2-422b-9497-bf267c3c067e');\n",
       "var x = new MutationObserver(function (mutations, observer) {{\n",
       "        var display = window.getComputedStyle(gd).display;\n",
       "        if (!display || display === 'none') {{\n",
       "            console.log([gd, 'removed!']);\n",
       "            Plotly.purge(gd);\n",
       "            observer.disconnect();\n",
       "        }}\n",
       "}});\n",
       "\n",
       "// Listen for the removal of the full notebook cells\n",
       "var notebookContainer = gd.closest('#notebook-container');\n",
       "if (notebookContainer) {{\n",
       "    x.observe(notebookContainer, {childList: true});\n",
       "}}\n",
       "\n",
       "// Listen for the clearing of the current output cell\n",
       "var outputEl = gd.closest('.output');\n",
       "if (outputEl) {{\n",
       "    x.observe(outputEl, {childList: true});\n",
       "}}\n",
       "\n",
       "                        })                };                });            </script>        </div>"
      ]
     },
     "metadata": {},
     "output_type": "display_data"
    },
    {
     "name": "stdout",
     "output_type": "stream",
     "text": [
      "fantasy_points\n"
     ]
    },
    {
     "data": {
      "application/vnd.plotly.v1+json": {
       "config": {
        "plotlyServerURL": "https://plot.ly"
       },
       "data": [
        {
         "customdata": [
          [
           "F.Gore",
           2019,
           36
          ],
          [
           "F.Gore",
           2020,
           37
          ],
          [
           "A.Peterson",
           2019,
           34
          ],
          [
           "A.Peterson",
           2020,
           35
          ],
          [
           "A.Peterson",
           2021,
           36
          ],
          [
           "M.Lynch",
           2019,
           33
          ],
          [
           "L.McCoy",
           2018,
           30
          ],
          [
           "L.McCoy",
           2019,
           31
          ],
          [
           "L.Blount",
           2018,
           31
          ],
          [
           "M.Ingram",
           2019,
           29
          ],
          [
           "M.Ingram",
           2020,
           30
          ],
          [
           "M.Ingram",
           2021,
           31
          ],
          [
           "M.Ingram",
           2022,
           32
          ],
          [
           "B.Powell",
           2018,
           29
          ],
          [
           "B.Powell",
           2019,
           30
          ],
          [
           "D.Lewis",
           2019,
           28
          ],
          [
           "D.Lewis",
           2020,
           29
          ],
          [
           "C.Anderson",
           2019,
           28
          ],
          [
           "R.Burkhead",
           2018,
           28
          ],
          [
           "R.Burkhead",
           2019,
           29
          ],
          [
           "R.Burkhead",
           2020,
           30
          ],
          [
           "R.Burkhead",
           2021,
           31
          ],
          [
           "R.Burkhead",
           2022,
           32
          ],
          [
           "G.Bernard",
           2018,
           26
          ],
          [
           "L.Bell",
           2020,
           28
          ],
          [
           "L.Bell",
           2021,
           29
          ],
          [
           "L.Murray",
           2019,
           29
          ],
          [
           "L.Murray",
           2020,
           30
          ],
          [
           "L.Murray",
           2021,
           31
          ],
          [
           "L.Murray",
           2022,
           32
          ],
          [
           "C.Patterson",
           2022,
           31
          ],
          [
           "C.Hyde",
           2017,
           26
          ],
          [
           "C.Hyde",
           2018,
           27
          ],
          [
           "C.Hyde",
           2019,
           28
          ],
          [
           "C.Hyde",
           2020,
           29
          ],
          [
           "C.Hyde",
           2021,
           30
          ],
          [
           "J.White",
           2019,
           27
          ],
          [
           "D.Freeman",
           2020,
           28
          ],
          [
           "D.Freeman",
           2021,
           29
          ],
          [
           "R.Mostert",
           2019,
           27
          ],
          [
           "R.Mostert",
           2020,
           28
          ],
          [
           "M.Brown",
           2019,
           26
          ],
          [
           "M.Brown",
           2020,
           27
          ],
          [
           "T.Coleman",
           2018,
           25
          ],
          [
           "T.Coleman",
           2019,
           26
          ],
          [
           "T.Coleman",
           2020,
           27
          ],
          [
           "T.Coleman",
           2021,
           28
          ],
          [
           "M.Davis",
           2021,
           28
          ],
          [
           "M.Gordon",
           2019,
           26
          ],
          [
           "M.Gordon",
           2020,
           27
          ],
          [
           "M.Gordon",
           2021,
           28
          ],
          [
           "M.Gordon",
           2022,
           29
          ],
          [
           "D.Johnson",
           2019,
           27
          ],
          [
           "T.Gurley",
           2019,
           25
          ],
          [
           "T.Gurley",
           2020,
           26
          ],
          [
           "A.Collins",
           2018,
           24
          ],
          [
           "A.Collins",
           2021,
           27
          ],
          [
           "J.McKissic",
           2020,
           27
          ],
          [
           "P.Barber",
           2019,
           25
          ],
          [
           "P.Barber",
           2020,
           26
          ],
          [
           "P.Barber",
           2021,
           27
          ],
          [
           "D.Henry",
           2019,
           25
          ],
          [
           "D.Henry",
           2020,
           26
          ],
          [
           "D.Henry",
           2021,
           27
          ],
          [
           "D.Henry",
           2022,
           28
          ],
          [
           "J.Howard",
           2019,
           24
          ],
          [
           "J.Howard",
           2020,
           25
          ],
          [
           "J.Howard",
           2021,
           26
          ],
          [
           "D.Washington",
           2019,
           26
          ],
          [
           "D.Washington",
           2020,
           27
          ],
          [
           "D.Booker",
           2021,
           29
          ],
          [
           "E.Elliott",
           2017,
           22
          ],
          [
           "E.Elliott",
           2018,
           23
          ],
          [
           "E.Elliott",
           2019,
           24
          ],
          [
           "E.Elliott",
           2020,
           25
          ],
          [
           "E.Elliott",
           2021,
           26
          ],
          [
           "E.Elliott",
           2022,
           27
          ],
          [
           "K.Drake",
           2018,
           24
          ],
          [
           "K.Drake",
           2019,
           25
          ],
          [
           "K.Drake",
           2020,
           26
          ],
          [
           "K.Drake",
           2021,
           27
          ],
          [
           "K.Drake",
           2022,
           28
          ],
          [
           "T.Pope",
           2020,
           26
          ],
          [
           "C.McCaffrey",
           2019,
           23
          ],
          [
           "C.McCaffrey",
           2020,
           24
          ],
          [
           "C.McCaffrey",
           2021,
           25
          ],
          [
           "C.McCaffrey",
           2022,
           26
          ],
          [
           "A.Jones",
           2018,
           23
          ],
          [
           "A.Jones",
           2019,
           24
          ],
          [
           "A.Jones",
           2020,
           25
          ],
          [
           "A.Jones",
           2021,
           26
          ],
          [
           "A.Jones",
           2022,
           27
          ],
          [
           "M.Breida",
           2019,
           24
          ],
          [
           "M.Breida",
           2020,
           25
          ],
          [
           "S.Perine",
           2021,
           25
          ],
          [
           "S.Perine",
           2022,
           26
          ],
          [
           "J.Conner",
           2019,
           24
          ],
          [
           "J.Conner",
           2020,
           25
          ],
          [
           "J.Conner",
           2021,
           26
          ],
          [
           "J.Conner",
           2022,
           27
          ],
          [
           "B.Hill",
           2020,
           24
          ],
          [
           "C.Carson",
           2019,
           24
          ],
          [
           "C.Carson",
           2020,
           25
          ],
          [
           "C.Carson",
           2021,
           26
          ],
          [
           "A.Ekeler",
           2019,
           24
          ],
          [
           "A.Ekeler",
           2020,
           25
          ],
          [
           "A.Ekeler",
           2021,
           26
          ],
          [
           "A.Ekeler",
           2022,
           27
          ],
          [
           "D.Ogunbowale",
           2021,
           27
          ],
          [
           "D.Ogunbowale",
           2022,
           28
          ],
          [
           "L.Fournette",
           2018,
           23
          ],
          [
           "L.Fournette",
           2019,
           24
          ],
          [
           "L.Fournette",
           2020,
           25
          ],
          [
           "L.Fournette",
           2021,
           26
          ],
          [
           "L.Fournette",
           2022,
           27
          ],
          [
           "D.Cook",
           2018,
           23
          ],
          [
           "D.Cook",
           2019,
           24
          ],
          [
           "D.Cook",
           2020,
           25
          ],
          [
           "D.Cook",
           2021,
           26
          ],
          [
           "D.Cook",
           2022,
           27
          ],
          [
           "J.Mixon",
           2019,
           23
          ],
          [
           "J.Mixon",
           2020,
           24
          ],
          [
           "J.Mixon",
           2021,
           25
          ],
          [
           "J.Mixon",
           2022,
           26
          ],
          [
           "A.Kamara",
           2018,
           23
          ],
          [
           "A.Kamara",
           2019,
           24
          ],
          [
           "A.Kamara",
           2020,
           25
          ],
          [
           "A.Kamara",
           2021,
           26
          ],
          [
           "A.Kamara",
           2022,
           27
          ],
          [
           "K.Hunt",
           2018,
           23
          ],
          [
           "K.Hunt",
           2021,
           26
          ],
          [
           "K.Hunt",
           2022,
           27
          ],
          [
           "D.Foreman",
           2022,
           26
          ],
          [
           "J.Williams",
           2019,
           24
          ],
          [
           "J.Williams",
           2020,
           25
          ],
          [
           "J.Williams",
           2021,
           26
          ],
          [
           "W.Gallman",
           2018,
           23
          ],
          [
           "M.Mack",
           2019,
           23
          ],
          [
           "P.Lindsay",
           2019,
           25
          ],
          [
           "P.Lindsay",
           2020,
           26
          ],
          [
           "P.Lindsay",
           2021,
           27
          ],
          [
           "P.Lindsay",
           2022,
           28
          ],
          [
           "J.Wilson",
           2019,
           23
          ],
          [
           "J.Wilson",
           2020,
           24
          ],
          [
           "J.Wilson",
           2021,
           25
          ],
          [
           "J.Wilson",
           2022,
           26
          ],
          [
           "G.Edwards",
           2019,
           24
          ],
          [
           "G.Edwards",
           2020,
           25
          ],
          [
           "J.Samuels",
           2019,
           23
          ],
          [
           "K.Johnson",
           2019,
           22
          ],
          [
           "K.Johnson",
           2020,
           23
          ],
          [
           "J.Wilkins",
           2019,
           25
          ],
          [
           "J.Wilkins",
           2020,
           26
          ],
          [
           "B.Scott",
           2020,
           25
          ],
          [
           "B.Scott",
           2021,
           26
          ],
          [
           "J.Jackson",
           2021,
           25
          ],
          [
           "C.Edmonds",
           2020,
           24
          ],
          [
           "C.Edmonds",
           2021,
           25
          ],
          [
           "C.Edmonds",
           2022,
           26
          ],
          [
           "R.Penny",
           2019,
           23
          ],
          [
           "R.Penny",
           2022,
           26
          ],
          [
           "N.Chubb",
           2019,
           23
          ],
          [
           "N.Chubb",
           2020,
           24
          ],
          [
           "N.Chubb",
           2021,
           25
          ],
          [
           "N.Chubb",
           2022,
           26
          ],
          [
           "K.Ballage",
           2019,
           23
          ],
          [
           "K.Ballage",
           2020,
           24
          ],
          [
           "R.Jones",
           2019,
           22
          ],
          [
           "R.Jones",
           2020,
           23
          ],
          [
           "R.Jones",
           2021,
           24
          ],
          [
           "R.Jones",
           2022,
           25
          ],
          [
           "R.Freeman",
           2019,
           23
          ],
          [
           "R.Freeman",
           2022,
           26
          ],
          [
           "S.Barkley",
           2019,
           22
          ],
          [
           "S.Barkley",
           2020,
           23
          ],
          [
           "S.Barkley",
           2021,
           24
          ],
          [
           "S.Barkley",
           2022,
           25
          ],
          [
           "S.Michel",
           2019,
           24
          ],
          [
           "S.Michel",
           2020,
           25
          ],
          [
           "S.Michel",
           2021,
           26
          ],
          [
           "A.Mattison",
           2020,
           22
          ],
          [
           "A.Mattison",
           2021,
           23
          ],
          [
           "A.Mattison",
           2022,
           24
          ],
          [
           "D.Thompson",
           2020,
           23
          ],
          [
           "B.Snell",
           2021,
           23
          ],
          [
           "B.Snell",
           2022,
           24
          ],
          [
           "M.Sanders",
           2020,
           23
          ],
          [
           "M.Sanders",
           2021,
           24
          ],
          [
           "M.Sanders",
           2022,
           25
          ],
          [
           "D.Singletary",
           2020,
           22
          ],
          [
           "D.Singletary",
           2021,
           23
          ],
          [
           "D.Singletary",
           2022,
           24
          ],
          [
           "T.Pollard",
           2020,
           23
          ],
          [
           "T.Pollard",
           2021,
           24
          ],
          [
           "T.Pollard",
           2022,
           25
          ],
          [
           "M.Gaskin",
           2020,
           23
          ],
          [
           "M.Gaskin",
           2021,
           24
          ],
          [
           "T.Johnson",
           2020,
           22
          ],
          [
           "T.Johnson",
           2021,
           23
          ],
          [
           "D.Johnson",
           2021,
           25
          ],
          [
           "D.Harris",
           2021,
           24
          ],
          [
           "D.Harris",
           2022,
           25
          ],
          [
           "D.Henderson",
           2020,
           23
          ],
          [
           "D.Henderson",
           2021,
           24
          ],
          [
           "D.Henderson",
           2022,
           25
          ],
          [
           "D.Montgomery",
           2020,
           23
          ],
          [
           "D.Montgomery",
           2021,
           24
          ],
          [
           "D.Montgomery",
           2022,
           25
          ],
          [
           "J.Jacobs",
           2020,
           22
          ],
          [
           "J.Jacobs",
           2021,
           23
          ],
          [
           "J.Jacobs",
           2022,
           24
          ],
          [
           "J.Robinson",
           2021,
           23
          ],
          [
           "J.Robinson",
           2022,
           24
          ],
          [
           "J.Taylor",
           2021,
           22
          ],
          [
           "J.Taylor",
           2022,
           23
          ],
          [
           "Z.Moss",
           2021,
           23
          ],
          [
           "Z.Moss",
           2022,
           24
          ],
          [
           "A.Dillon",
           2021,
           23
          ],
          [
           "A.Dillon",
           2022,
           24
          ],
          [
           "D.Swift",
           2021,
           22
          ],
          [
           "D.Swift",
           2022,
           23
          ],
          [
           "A.Gibson",
           2021,
           23
          ],
          [
           "A.Gibson",
           2022,
           24
          ],
          [
           "C.Edwards-Helaire",
           2021,
           22
          ],
          [
           "C.Edwards-Helaire",
           2022,
           23
          ],
          [
           "J.Kelley",
           2021,
           23
          ],
          [
           "J.Kelley",
           2022,
           24
          ],
          [
           "K.Vaughn",
           2021,
           24
          ],
          [
           "C.Hubbard",
           2022,
           23
          ],
          [
           "E.Mitchell",
           2022,
           24
          ],
          [
           "L.Rountree",
           2022,
           23
          ],
          [
           "J.Patterson",
           2022,
           22
          ],
          [
           "R.Stevenson",
           2022,
           24
          ],
          [
           "N.Harris",
           2022,
           24
          ],
          [
           "K.Herbert",
           2022,
           24
          ],
          [
           "Mi.Carter",
           2022,
           23
          ],
          [
           "J.Williams",
           2022,
           22
          ]
         ],
         "hovertemplate": "fantasy_points_last=%{x}<br>fantasy_points=%{y}<br>rusher=%{customdata[0]}<br>season=%{customdata[1]}<br>age=%{customdata[2]}<extra></extra>",
         "legendgroup": "",
         "marker": {
          "color": "#636efa",
          "symbol": "circle"
         },
         "mode": "markers",
         "name": "",
         "orientation": "v",
         "showlegend": false,
         "type": "scatter",
         "x": [
          90.60000000000001,
          81.9,
          169,
          130,
          112.5,
          64,
          204.60000000000002,
          93.2,
          99.6,
          121.5,
          216.5,
          46.9,
          81.60000000000001,
          122.2,
          49.300000000000004,
          101.7,
          41.300000000000004,
          62.4,
          99.80000000000001,
          35.7,
          74.10000000000001,
          82.60000000000001,
          79.3,
          107.9,
          149,
          58.6,
          109.9,
          123.2,
          113.2,
          93.60000000000001,
          182.6,
          165.1,
          174.8,
          88.4,
          143.2,
          68.9,
          189.60000000000002,
          138.6,
          29.000000000000004,
          32.6,
          153.2,
          34.400000000000006,
          57.1,
          140.70000000000002,
          161.60000000000002,
          114.4,
          8.700000000000001,
          147.5,
          225.5,
          138.8,
          166.4,
          167.1,
          196.60000000000002,
          313.1,
          188.4,
          148,
          20.1,
          49.800000000000004,
          130.3,
          100.5,
          51,
          186.36,
          276.6,
          314.1,
          175.3,
          160,
          101.4,
          29.700000000000003,
          10.4,
          85.9,
          68.7,
          293.40000000000003,
          177.20000000000002,
          252.10000000000002,
          257.7,
          171.70000000000002,
          205.06,
          110.3,
          153.20000000000002,
          164.2,
          167.2,
          72.5,
          9.4,
          278.5,
          355.2,
          73.4,
          90.5,
          71,
          145.4,
          265.8,
          211.9,
          177,
          135.5,
          84.3,
          54.7,
          56.2,
          225,
          111.5,
          129.6,
          220.7,
          57.2,
          181.4,
          195.6,
          150.8,
          129.8,
          217,
          111.30000000000001,
          273.8,
          19.900000000000002,
          37.1,
          194.20000000000002,
          98.4,
          183.4,
          96,
          186.60000000000002,
          54.400000000000006,
          112,
          239.4,
          293.8,
          172.3,
          200.4,
          190.4,
          78.60000000000001,
          245.9,
          239.4,
          273.2,
          167.52,
          294.8,
          187.7,
          242.20000000000002,
          180.5,
          88,
          84.9,
          87.4,
          107.30000000000001,
          96.10000000000001,
          70.9,
          161.1,
          187.8,
          162.70000000000002,
          59,
          41.4,
          32.400000000000006,
          43.9,
          129.3,
          44.5,
          87.8,
          85.60000000000001,
          63.5,
          107.4,
          75,
          44.1,
          47,
          74.9,
          70.60000000000001,
          46.300000000000004,
          70.8,
          115,
          100.30000000000001,
          61.400000000000006,
          115.7,
          174.5,
          219.20000000000002,
          191.70000000000002,
          195.3,
          28.700000000000003,
          37.800000000000004,
          13.7,
          135.3,
          158.3,
          69.2,
          87.30000000000001,
          24.6,
          294.8,
          192.10000000000002,
          9.4,
          107.60000000000001,
          132.10000000000002,
          140.6,
          68.30000000000001,
          58.400000000000006,
          73.9,
          93.9,
          23.1,
          64.9,
          11.100000000000001,
          168.70000000000002,
          142.4,
          91.2,
          118.9,
          105.60000000000001,
          157.8,
          74.2,
          92.80000000000001,
          123.60000000000001,
          24.400000000000002,
          123.2,
          36.2,
          47.300000000000004,
          18,
          86.30000000000001,
          192.1,
          18.400000000000002,
          113.9,
          134.4,
          145.4,
          210.8,
          153,
          171.6,
          198.3,
          172,
          201.4,
          142.9,
          216.8,
          333.1,
          87.60000000000001,
          82.2,
          38.3,
          151.6,
          143.8,
          146.9,
          166.2,
          187.10000000000002,
          140,
          98.6,
          58.2,
          12,
          18.3,
          112.6,
          146,
          14.600000000000001,
          45.900000000000006,
          100.9,
          226.70000000000002,
          64.9,
          118.4,
          161.9
         ],
         "xaxis": "x",
         "y": [
          81.9,
          84.2,
          130,
          112.5,
          22.6,
          9.4,
          93.2,
          90.60000000000001,
          76.5,
          216.5,
          46.9,
          81.60000000000001,
          34.1,
          49.300000000000004,
          26.200000000000003,
          41.300000000000004,
          40.2,
          4.3,
          35.7,
          74.10000000000001,
          82.60000000000001,
          79.3,
          34.4,
          60.9,
          58.6,
          33.1,
          123.2,
          113.2,
          93.60000000000001,
          127.2,
          133.70000000000002,
          174.8,
          88.4,
          143.2,
          68.9,
          33.800000000000004,
          130.2,
          29.000000000000004,
          112.60000000000001,
          153.2,
          83.7,
          57.1,
          86.10000000000001,
          161.60000000000002,
          114.4,
          8.700000000000001,
          40.5,
          94.2,
          138.8,
          166.4,
          167.1,
          62.1,
          105.50000000000001,
          188.4,
          138.20000000000002,
          93.60000000000001,
          59.800000000000004,
          111.4,
          100.5,
          51,
          39.900000000000006,
          276.6,
          314.1,
          175.3,
          269.76,
          101.4,
          29.700000000000003,
          60.5,
          85.9,
          12.100000000000001,
          104.10000000000001,
          177.20000000000002,
          252.10000000000002,
          257.7,
          171.70000000000002,
          205.06,
          168.8,
          153.20000000000002,
          164.2,
          167.2,
          72.5,
          87.10000000000001,
          11.799999999999999,
          355.2,
          73.4,
          90.5,
          271.36,
          145.4,
          265.8,
          211.9,
          177,
          189.60000000000002,
          84.3,
          33,
          56.2,
          104.10000000000001,
          111.5,
          129.6,
          220.7,
          154.2,
          70.4,
          195.6,
          150.8,
          42.1,
          217,
          111.30000000000001,
          273.8,
          265.7,
          37.1,
          28.7,
          98.4,
          183.4,
          96,
          186.60000000000002,
          153.1,
          112,
          239.4,
          293.8,
          172.3,
          198.8,
          190.4,
          78.60000000000001,
          245.9,
          179.5,
          273.2,
          167.52,
          294.8,
          187.7,
          154.7,
          204.2,
          88,
          91.8,
          126,
          107.30000000000001,
          96.10000000000001,
          93.8,
          30.5,
          167.3,
          162.70000000000002,
          59,
          41.4,
          8.8,
          43.9,
          129.3,
          44.5,
          136.5,
          85.60000000000001,
          119.2,
          57.4,
          75,
          52.800000000000004,
          47,
          49.300000000000004,
          70.60000000000001,
          85.6,
          64.2,
          115,
          100.30000000000001,
          58.2,
          67.3,
          48.2,
          219.20000000000002,
          191.70000000000002,
          195.3,
          254.4,
          37.800000000000004,
          64.9,
          135.3,
          158.3,
          69.2,
          15.2,
          99.2,
          13.000000000000002,
          192.10000000000002,
          9.4,
          107.60000000000001,
          227,
          140.6,
          68.30000000000001,
          125.3,
          73.9,
          93.9,
          73.4,
          26.2,
          11.100000000000001,
          16.7,
          142.4,
          91.2,
          196.70000000000002,
          105.60000000000001,
          157.8,
          139.9,
          92.80000000000001,
          123.60000000000001,
          209.8,
          123.2,
          124.6,
          47.300000000000004,
          83,
          85.10000000000001,
          192.1,
          73.9,
          113.9,
          134.4,
          56.5,
          210.8,
          153,
          143.70000000000002,
          198.3,
          172,
          275.3,
          142.9,
          77.6,
          333.1,
          118.4,
          82.2,
          53.5,
          151.6,
          139.6,
          146.9,
          143.1,
          187.10000000000002,
          119.9,
          98.6,
          81.3,
          12,
          50.800000000000004,
          32.6,
          75.7,
          40.6,
          3.3000000000000003,
          7.800000000000001,
          180.10000000000002,
          182.46,
          108.80000000000001,
          85,
          26
         ],
         "yaxis": "y"
        }
       ],
       "layout": {
        "legend": {
         "tracegroupgap": 0
        },
        "margin": {
         "t": 60
        },
        "template": {
         "data": {
          "bar": [
           {
            "error_x": {
             "color": "#2a3f5f"
            },
            "error_y": {
             "color": "#2a3f5f"
            },
            "marker": {
             "line": {
              "color": "#E5ECF6",
              "width": 0.5
             },
             "pattern": {
              "fillmode": "overlay",
              "size": 10,
              "solidity": 0.2
             }
            },
            "type": "bar"
           }
          ],
          "barpolar": [
           {
            "marker": {
             "line": {
              "color": "#E5ECF6",
              "width": 0.5
             },
             "pattern": {
              "fillmode": "overlay",
              "size": 10,
              "solidity": 0.2
             }
            },
            "type": "barpolar"
           }
          ],
          "carpet": [
           {
            "aaxis": {
             "endlinecolor": "#2a3f5f",
             "gridcolor": "white",
             "linecolor": "white",
             "minorgridcolor": "white",
             "startlinecolor": "#2a3f5f"
            },
            "baxis": {
             "endlinecolor": "#2a3f5f",
             "gridcolor": "white",
             "linecolor": "white",
             "minorgridcolor": "white",
             "startlinecolor": "#2a3f5f"
            },
            "type": "carpet"
           }
          ],
          "choropleth": [
           {
            "colorbar": {
             "outlinewidth": 0,
             "ticks": ""
            },
            "type": "choropleth"
           }
          ],
          "contour": [
           {
            "colorbar": {
             "outlinewidth": 0,
             "ticks": ""
            },
            "colorscale": [
             [
              0,
              "#0d0887"
             ],
             [
              0.1111111111111111,
              "#46039f"
             ],
             [
              0.2222222222222222,
              "#7201a8"
             ],
             [
              0.3333333333333333,
              "#9c179e"
             ],
             [
              0.4444444444444444,
              "#bd3786"
             ],
             [
              0.5555555555555556,
              "#d8576b"
             ],
             [
              0.6666666666666666,
              "#ed7953"
             ],
             [
              0.7777777777777778,
              "#fb9f3a"
             ],
             [
              0.8888888888888888,
              "#fdca26"
             ],
             [
              1,
              "#f0f921"
             ]
            ],
            "type": "contour"
           }
          ],
          "contourcarpet": [
           {
            "colorbar": {
             "outlinewidth": 0,
             "ticks": ""
            },
            "type": "contourcarpet"
           }
          ],
          "heatmap": [
           {
            "colorbar": {
             "outlinewidth": 0,
             "ticks": ""
            },
            "colorscale": [
             [
              0,
              "#0d0887"
             ],
             [
              0.1111111111111111,
              "#46039f"
             ],
             [
              0.2222222222222222,
              "#7201a8"
             ],
             [
              0.3333333333333333,
              "#9c179e"
             ],
             [
              0.4444444444444444,
              "#bd3786"
             ],
             [
              0.5555555555555556,
              "#d8576b"
             ],
             [
              0.6666666666666666,
              "#ed7953"
             ],
             [
              0.7777777777777778,
              "#fb9f3a"
             ],
             [
              0.8888888888888888,
              "#fdca26"
             ],
             [
              1,
              "#f0f921"
             ]
            ],
            "type": "heatmap"
           }
          ],
          "heatmapgl": [
           {
            "colorbar": {
             "outlinewidth": 0,
             "ticks": ""
            },
            "colorscale": [
             [
              0,
              "#0d0887"
             ],
             [
              0.1111111111111111,
              "#46039f"
             ],
             [
              0.2222222222222222,
              "#7201a8"
             ],
             [
              0.3333333333333333,
              "#9c179e"
             ],
             [
              0.4444444444444444,
              "#bd3786"
             ],
             [
              0.5555555555555556,
              "#d8576b"
             ],
             [
              0.6666666666666666,
              "#ed7953"
             ],
             [
              0.7777777777777778,
              "#fb9f3a"
             ],
             [
              0.8888888888888888,
              "#fdca26"
             ],
             [
              1,
              "#f0f921"
             ]
            ],
            "type": "heatmapgl"
           }
          ],
          "histogram": [
           {
            "marker": {
             "pattern": {
              "fillmode": "overlay",
              "size": 10,
              "solidity": 0.2
             }
            },
            "type": "histogram"
           }
          ],
          "histogram2d": [
           {
            "colorbar": {
             "outlinewidth": 0,
             "ticks": ""
            },
            "colorscale": [
             [
              0,
              "#0d0887"
             ],
             [
              0.1111111111111111,
              "#46039f"
             ],
             [
              0.2222222222222222,
              "#7201a8"
             ],
             [
              0.3333333333333333,
              "#9c179e"
             ],
             [
              0.4444444444444444,
              "#bd3786"
             ],
             [
              0.5555555555555556,
              "#d8576b"
             ],
             [
              0.6666666666666666,
              "#ed7953"
             ],
             [
              0.7777777777777778,
              "#fb9f3a"
             ],
             [
              0.8888888888888888,
              "#fdca26"
             ],
             [
              1,
              "#f0f921"
             ]
            ],
            "type": "histogram2d"
           }
          ],
          "histogram2dcontour": [
           {
            "colorbar": {
             "outlinewidth": 0,
             "ticks": ""
            },
            "colorscale": [
             [
              0,
              "#0d0887"
             ],
             [
              0.1111111111111111,
              "#46039f"
             ],
             [
              0.2222222222222222,
              "#7201a8"
             ],
             [
              0.3333333333333333,
              "#9c179e"
             ],
             [
              0.4444444444444444,
              "#bd3786"
             ],
             [
              0.5555555555555556,
              "#d8576b"
             ],
             [
              0.6666666666666666,
              "#ed7953"
             ],
             [
              0.7777777777777778,
              "#fb9f3a"
             ],
             [
              0.8888888888888888,
              "#fdca26"
             ],
             [
              1,
              "#f0f921"
             ]
            ],
            "type": "histogram2dcontour"
           }
          ],
          "mesh3d": [
           {
            "colorbar": {
             "outlinewidth": 0,
             "ticks": ""
            },
            "type": "mesh3d"
           }
          ],
          "parcoords": [
           {
            "line": {
             "colorbar": {
              "outlinewidth": 0,
              "ticks": ""
             }
            },
            "type": "parcoords"
           }
          ],
          "pie": [
           {
            "automargin": true,
            "type": "pie"
           }
          ],
          "scatter": [
           {
            "fillpattern": {
             "fillmode": "overlay",
             "size": 10,
             "solidity": 0.2
            },
            "type": "scatter"
           }
          ],
          "scatter3d": [
           {
            "line": {
             "colorbar": {
              "outlinewidth": 0,
              "ticks": ""
             }
            },
            "marker": {
             "colorbar": {
              "outlinewidth": 0,
              "ticks": ""
             }
            },
            "type": "scatter3d"
           }
          ],
          "scattercarpet": [
           {
            "marker": {
             "colorbar": {
              "outlinewidth": 0,
              "ticks": ""
             }
            },
            "type": "scattercarpet"
           }
          ],
          "scattergeo": [
           {
            "marker": {
             "colorbar": {
              "outlinewidth": 0,
              "ticks": ""
             }
            },
            "type": "scattergeo"
           }
          ],
          "scattergl": [
           {
            "marker": {
             "colorbar": {
              "outlinewidth": 0,
              "ticks": ""
             }
            },
            "type": "scattergl"
           }
          ],
          "scattermapbox": [
           {
            "marker": {
             "colorbar": {
              "outlinewidth": 0,
              "ticks": ""
             }
            },
            "type": "scattermapbox"
           }
          ],
          "scatterpolar": [
           {
            "marker": {
             "colorbar": {
              "outlinewidth": 0,
              "ticks": ""
             }
            },
            "type": "scatterpolar"
           }
          ],
          "scatterpolargl": [
           {
            "marker": {
             "colorbar": {
              "outlinewidth": 0,
              "ticks": ""
             }
            },
            "type": "scatterpolargl"
           }
          ],
          "scatterternary": [
           {
            "marker": {
             "colorbar": {
              "outlinewidth": 0,
              "ticks": ""
             }
            },
            "type": "scatterternary"
           }
          ],
          "surface": [
           {
            "colorbar": {
             "outlinewidth": 0,
             "ticks": ""
            },
            "colorscale": [
             [
              0,
              "#0d0887"
             ],
             [
              0.1111111111111111,
              "#46039f"
             ],
             [
              0.2222222222222222,
              "#7201a8"
             ],
             [
              0.3333333333333333,
              "#9c179e"
             ],
             [
              0.4444444444444444,
              "#bd3786"
             ],
             [
              0.5555555555555556,
              "#d8576b"
             ],
             [
              0.6666666666666666,
              "#ed7953"
             ],
             [
              0.7777777777777778,
              "#fb9f3a"
             ],
             [
              0.8888888888888888,
              "#fdca26"
             ],
             [
              1,
              "#f0f921"
             ]
            ],
            "type": "surface"
           }
          ],
          "table": [
           {
            "cells": {
             "fill": {
              "color": "#EBF0F8"
             },
             "line": {
              "color": "white"
             }
            },
            "header": {
             "fill": {
              "color": "#C8D4E3"
             },
             "line": {
              "color": "white"
             }
            },
            "type": "table"
           }
          ]
         },
         "layout": {
          "annotationdefaults": {
           "arrowcolor": "#2a3f5f",
           "arrowhead": 0,
           "arrowwidth": 1
          },
          "autotypenumbers": "strict",
          "coloraxis": {
           "colorbar": {
            "outlinewidth": 0,
            "ticks": ""
           }
          },
          "colorscale": {
           "diverging": [
            [
             0,
             "#8e0152"
            ],
            [
             0.1,
             "#c51b7d"
            ],
            [
             0.2,
             "#de77ae"
            ],
            [
             0.3,
             "#f1b6da"
            ],
            [
             0.4,
             "#fde0ef"
            ],
            [
             0.5,
             "#f7f7f7"
            ],
            [
             0.6,
             "#e6f5d0"
            ],
            [
             0.7,
             "#b8e186"
            ],
            [
             0.8,
             "#7fbc41"
            ],
            [
             0.9,
             "#4d9221"
            ],
            [
             1,
             "#276419"
            ]
           ],
           "sequential": [
            [
             0,
             "#0d0887"
            ],
            [
             0.1111111111111111,
             "#46039f"
            ],
            [
             0.2222222222222222,
             "#7201a8"
            ],
            [
             0.3333333333333333,
             "#9c179e"
            ],
            [
             0.4444444444444444,
             "#bd3786"
            ],
            [
             0.5555555555555556,
             "#d8576b"
            ],
            [
             0.6666666666666666,
             "#ed7953"
            ],
            [
             0.7777777777777778,
             "#fb9f3a"
            ],
            [
             0.8888888888888888,
             "#fdca26"
            ],
            [
             1,
             "#f0f921"
            ]
           ],
           "sequentialminus": [
            [
             0,
             "#0d0887"
            ],
            [
             0.1111111111111111,
             "#46039f"
            ],
            [
             0.2222222222222222,
             "#7201a8"
            ],
            [
             0.3333333333333333,
             "#9c179e"
            ],
            [
             0.4444444444444444,
             "#bd3786"
            ],
            [
             0.5555555555555556,
             "#d8576b"
            ],
            [
             0.6666666666666666,
             "#ed7953"
            ],
            [
             0.7777777777777778,
             "#fb9f3a"
            ],
            [
             0.8888888888888888,
             "#fdca26"
            ],
            [
             1,
             "#f0f921"
            ]
           ]
          },
          "colorway": [
           "#636efa",
           "#EF553B",
           "#00cc96",
           "#ab63fa",
           "#FFA15A",
           "#19d3f3",
           "#FF6692",
           "#B6E880",
           "#FF97FF",
           "#FECB52"
          ],
          "font": {
           "color": "#2a3f5f"
          },
          "geo": {
           "bgcolor": "white",
           "lakecolor": "white",
           "landcolor": "#E5ECF6",
           "showlakes": true,
           "showland": true,
           "subunitcolor": "white"
          },
          "hoverlabel": {
           "align": "left"
          },
          "hovermode": "closest",
          "mapbox": {
           "style": "light"
          },
          "paper_bgcolor": "white",
          "plot_bgcolor": "#E5ECF6",
          "polar": {
           "angularaxis": {
            "gridcolor": "white",
            "linecolor": "white",
            "ticks": ""
           },
           "bgcolor": "#E5ECF6",
           "radialaxis": {
            "gridcolor": "white",
            "linecolor": "white",
            "ticks": ""
           }
          },
          "scene": {
           "xaxis": {
            "backgroundcolor": "#E5ECF6",
            "gridcolor": "white",
            "gridwidth": 2,
            "linecolor": "white",
            "showbackground": true,
            "ticks": "",
            "zerolinecolor": "white"
           },
           "yaxis": {
            "backgroundcolor": "#E5ECF6",
            "gridcolor": "white",
            "gridwidth": 2,
            "linecolor": "white",
            "showbackground": true,
            "ticks": "",
            "zerolinecolor": "white"
           },
           "zaxis": {
            "backgroundcolor": "#E5ECF6",
            "gridcolor": "white",
            "gridwidth": 2,
            "linecolor": "white",
            "showbackground": true,
            "ticks": "",
            "zerolinecolor": "white"
           }
          },
          "shapedefaults": {
           "line": {
            "color": "#2a3f5f"
           }
          },
          "ternary": {
           "aaxis": {
            "gridcolor": "white",
            "linecolor": "white",
            "ticks": ""
           },
           "baxis": {
            "gridcolor": "white",
            "linecolor": "white",
            "ticks": ""
           },
           "bgcolor": "#E5ECF6",
           "caxis": {
            "gridcolor": "white",
            "linecolor": "white",
            "ticks": ""
           }
          },
          "title": {
           "x": 0.05
          },
          "xaxis": {
           "automargin": true,
           "gridcolor": "white",
           "linecolor": "white",
           "ticks": "",
           "title": {
            "standoff": 15
           },
           "zerolinecolor": "white",
           "zerolinewidth": 2
          },
          "yaxis": {
           "automargin": true,
           "gridcolor": "white",
           "linecolor": "white",
           "ticks": "",
           "title": {
            "standoff": 15
           },
           "zerolinecolor": "white",
           "zerolinewidth": 2
          }
         }
        },
        "xaxis": {
         "anchor": "y",
         "domain": [
          0,
          1
         ],
         "title": {
          "text": "fantasy_points_last"
         }
        },
        "yaxis": {
         "anchor": "x",
         "domain": [
          0,
          1
         ],
         "title": {
          "text": "fantasy_points"
         }
        }
       }
      },
      "text/html": [
       "<div>                            <div id=\"31c21db2-5318-4020-975f-8e1a2ccb1f66\" class=\"plotly-graph-div\" style=\"height:525px; width:100%;\"></div>            <script type=\"text/javascript\">                require([\"plotly\"], function(Plotly) {                    window.PLOTLYENV=window.PLOTLYENV || {};                                    if (document.getElementById(\"31c21db2-5318-4020-975f-8e1a2ccb1f66\")) {                    Plotly.newPlot(                        \"31c21db2-5318-4020-975f-8e1a2ccb1f66\",                        [{\"customdata\":[[\"F.Gore\",2019,36.0],[\"F.Gore\",2020,37.0],[\"A.Peterson\",2019,34.0],[\"A.Peterson\",2020,35.0],[\"A.Peterson\",2021,36.0],[\"M.Lynch\",2019,33.0],[\"L.McCoy\",2018,30.0],[\"L.McCoy\",2019,31.0],[\"L.Blount\",2018,31.0],[\"M.Ingram\",2019,29.0],[\"M.Ingram\",2020,30.0],[\"M.Ingram\",2021,31.0],[\"M.Ingram\",2022,32.0],[\"B.Powell\",2018,29.0],[\"B.Powell\",2019,30.0],[\"D.Lewis\",2019,28.0],[\"D.Lewis\",2020,29.0],[\"C.Anderson\",2019,28.0],[\"R.Burkhead\",2018,28.0],[\"R.Burkhead\",2019,29.0],[\"R.Burkhead\",2020,30.0],[\"R.Burkhead\",2021,31.0],[\"R.Burkhead\",2022,32.0],[\"G.Bernard\",2018,26.0],[\"L.Bell\",2020,28.0],[\"L.Bell\",2021,29.0],[\"L.Murray\",2019,29.0],[\"L.Murray\",2020,30.0],[\"L.Murray\",2021,31.0],[\"L.Murray\",2022,32.0],[\"C.Patterson\",2022,31.0],[\"C.Hyde\",2017,26.0],[\"C.Hyde\",2018,27.0],[\"C.Hyde\",2019,28.0],[\"C.Hyde\",2020,29.0],[\"C.Hyde\",2021,30.0],[\"J.White\",2019,27.0],[\"D.Freeman\",2020,28.0],[\"D.Freeman\",2021,29.0],[\"R.Mostert\",2019,27.0],[\"R.Mostert\",2020,28.0],[\"M.Brown\",2019,26.0],[\"M.Brown\",2020,27.0],[\"T.Coleman\",2018,25.0],[\"T.Coleman\",2019,26.0],[\"T.Coleman\",2020,27.0],[\"T.Coleman\",2021,28.0],[\"M.Davis\",2021,28.0],[\"M.Gordon\",2019,26.0],[\"M.Gordon\",2020,27.0],[\"M.Gordon\",2021,28.0],[\"M.Gordon\",2022,29.0],[\"D.Johnson\",2019,27.0],[\"T.Gurley\",2019,25.0],[\"T.Gurley\",2020,26.0],[\"A.Collins\",2018,24.0],[\"A.Collins\",2021,27.0],[\"J.McKissic\",2020,27.0],[\"P.Barber\",2019,25.0],[\"P.Barber\",2020,26.0],[\"P.Barber\",2021,27.0],[\"D.Henry\",2019,25.0],[\"D.Henry\",2020,26.0],[\"D.Henry\",2021,27.0],[\"D.Henry\",2022,28.0],[\"J.Howard\",2019,24.0],[\"J.Howard\",2020,25.0],[\"J.Howard\",2021,26.0],[\"D.Washington\",2019,26.0],[\"D.Washington\",2020,27.0],[\"D.Booker\",2021,29.0],[\"E.Elliott\",2017,22.0],[\"E.Elliott\",2018,23.0],[\"E.Elliott\",2019,24.0],[\"E.Elliott\",2020,25.0],[\"E.Elliott\",2021,26.0],[\"E.Elliott\",2022,27.0],[\"K.Drake\",2018,24.0],[\"K.Drake\",2019,25.0],[\"K.Drake\",2020,26.0],[\"K.Drake\",2021,27.0],[\"K.Drake\",2022,28.0],[\"T.Pope\",2020,26.0],[\"C.McCaffrey\",2019,23.0],[\"C.McCaffrey\",2020,24.0],[\"C.McCaffrey\",2021,25.0],[\"C.McCaffrey\",2022,26.0],[\"A.Jones\",2018,23.0],[\"A.Jones\",2019,24.0],[\"A.Jones\",2020,25.0],[\"A.Jones\",2021,26.0],[\"A.Jones\",2022,27.0],[\"M.Breida\",2019,24.0],[\"M.Breida\",2020,25.0],[\"S.Perine\",2021,25.0],[\"S.Perine\",2022,26.0],[\"J.Conner\",2019,24.0],[\"J.Conner\",2020,25.0],[\"J.Conner\",2021,26.0],[\"J.Conner\",2022,27.0],[\"B.Hill\",2020,24.0],[\"C.Carson\",2019,24.0],[\"C.Carson\",2020,25.0],[\"C.Carson\",2021,26.0],[\"A.Ekeler\",2019,24.0],[\"A.Ekeler\",2020,25.0],[\"A.Ekeler\",2021,26.0],[\"A.Ekeler\",2022,27.0],[\"D.Ogunbowale\",2021,27.0],[\"D.Ogunbowale\",2022,28.0],[\"L.Fournette\",2018,23.0],[\"L.Fournette\",2019,24.0],[\"L.Fournette\",2020,25.0],[\"L.Fournette\",2021,26.0],[\"L.Fournette\",2022,27.0],[\"D.Cook\",2018,23.0],[\"D.Cook\",2019,24.0],[\"D.Cook\",2020,25.0],[\"D.Cook\",2021,26.0],[\"D.Cook\",2022,27.0],[\"J.Mixon\",2019,23.0],[\"J.Mixon\",2020,24.0],[\"J.Mixon\",2021,25.0],[\"J.Mixon\",2022,26.0],[\"A.Kamara\",2018,23.0],[\"A.Kamara\",2019,24.0],[\"A.Kamara\",2020,25.0],[\"A.Kamara\",2021,26.0],[\"A.Kamara\",2022,27.0],[\"K.Hunt\",2018,23.0],[\"K.Hunt\",2021,26.0],[\"K.Hunt\",2022,27.0],[\"D.Foreman\",2022,26.0],[\"J.Williams\",2019,24.0],[\"J.Williams\",2020,25.0],[\"J.Williams\",2021,26.0],[\"W.Gallman\",2018,23.0],[\"M.Mack\",2019,23.0],[\"P.Lindsay\",2019,25.0],[\"P.Lindsay\",2020,26.0],[\"P.Lindsay\",2021,27.0],[\"P.Lindsay\",2022,28.0],[\"J.Wilson\",2019,23.0],[\"J.Wilson\",2020,24.0],[\"J.Wilson\",2021,25.0],[\"J.Wilson\",2022,26.0],[\"G.Edwards\",2019,24.0],[\"G.Edwards\",2020,25.0],[\"J.Samuels\",2019,23.0],[\"K.Johnson\",2019,22.0],[\"K.Johnson\",2020,23.0],[\"J.Wilkins\",2019,25.0],[\"J.Wilkins\",2020,26.0],[\"B.Scott\",2020,25.0],[\"B.Scott\",2021,26.0],[\"J.Jackson\",2021,25.0],[\"C.Edmonds\",2020,24.0],[\"C.Edmonds\",2021,25.0],[\"C.Edmonds\",2022,26.0],[\"R.Penny\",2019,23.0],[\"R.Penny\",2022,26.0],[\"N.Chubb\",2019,23.0],[\"N.Chubb\",2020,24.0],[\"N.Chubb\",2021,25.0],[\"N.Chubb\",2022,26.0],[\"K.Ballage\",2019,23.0],[\"K.Ballage\",2020,24.0],[\"R.Jones\",2019,22.0],[\"R.Jones\",2020,23.0],[\"R.Jones\",2021,24.0],[\"R.Jones\",2022,25.0],[\"R.Freeman\",2019,23.0],[\"R.Freeman\",2022,26.0],[\"S.Barkley\",2019,22.0],[\"S.Barkley\",2020,23.0],[\"S.Barkley\",2021,24.0],[\"S.Barkley\",2022,25.0],[\"S.Michel\",2019,24.0],[\"S.Michel\",2020,25.0],[\"S.Michel\",2021,26.0],[\"A.Mattison\",2020,22.0],[\"A.Mattison\",2021,23.0],[\"A.Mattison\",2022,24.0],[\"D.Thompson\",2020,23.0],[\"B.Snell\",2021,23.0],[\"B.Snell\",2022,24.0],[\"M.Sanders\",2020,23.0],[\"M.Sanders\",2021,24.0],[\"M.Sanders\",2022,25.0],[\"D.Singletary\",2020,22.0],[\"D.Singletary\",2021,23.0],[\"D.Singletary\",2022,24.0],[\"T.Pollard\",2020,23.0],[\"T.Pollard\",2021,24.0],[\"T.Pollard\",2022,25.0],[\"M.Gaskin\",2020,23.0],[\"M.Gaskin\",2021,24.0],[\"T.Johnson\",2020,22.0],[\"T.Johnson\",2021,23.0],[\"D.Johnson\",2021,25.0],[\"D.Harris\",2021,24.0],[\"D.Harris\",2022,25.0],[\"D.Henderson\",2020,23.0],[\"D.Henderson\",2021,24.0],[\"D.Henderson\",2022,25.0],[\"D.Montgomery\",2020,23.0],[\"D.Montgomery\",2021,24.0],[\"D.Montgomery\",2022,25.0],[\"J.Jacobs\",2020,22.0],[\"J.Jacobs\",2021,23.0],[\"J.Jacobs\",2022,24.0],[\"J.Robinson\",2021,23.0],[\"J.Robinson\",2022,24.0],[\"J.Taylor\",2021,22.0],[\"J.Taylor\",2022,23.0],[\"Z.Moss\",2021,23.0],[\"Z.Moss\",2022,24.0],[\"A.Dillon\",2021,23.0],[\"A.Dillon\",2022,24.0],[\"D.Swift\",2021,22.0],[\"D.Swift\",2022,23.0],[\"A.Gibson\",2021,23.0],[\"A.Gibson\",2022,24.0],[\"C.Edwards-Helaire\",2021,22.0],[\"C.Edwards-Helaire\",2022,23.0],[\"J.Kelley\",2021,23.0],[\"J.Kelley\",2022,24.0],[\"K.Vaughn\",2021,24.0],[\"C.Hubbard\",2022,23.0],[\"E.Mitchell\",2022,24.0],[\"L.Rountree\",2022,23.0],[\"J.Patterson\",2022,22.0],[\"R.Stevenson\",2022,24.0],[\"N.Harris\",2022,24.0],[\"K.Herbert\",2022,24.0],[\"Mi.Carter\",2022,23.0],[\"J.Williams\",2022,22.0]],\"hovertemplate\":\"fantasy_points_last=%{x}\\u003cbr\\u003efantasy_points=%{y}\\u003cbr\\u003erusher=%{customdata[0]}\\u003cbr\\u003eseason=%{customdata[1]}\\u003cbr\\u003eage=%{customdata[2]}\\u003cextra\\u003e\\u003c\\u002fextra\\u003e\",\"legendgroup\":\"\",\"marker\":{\"color\":\"#636efa\",\"symbol\":\"circle\"},\"mode\":\"markers\",\"name\":\"\",\"orientation\":\"v\",\"showlegend\":false,\"x\":[90.60000000000001,81.9,169.0,130.0,112.5,64.0,204.60000000000002,93.2,99.6,121.5,216.5,46.9,81.60000000000001,122.2,49.300000000000004,101.7,41.300000000000004,62.4,99.80000000000001,35.7,74.10000000000001,82.60000000000001,79.3,107.9,149.0,58.6,109.9,123.2,113.2,93.60000000000001,182.6,165.1,174.8,88.4,143.2,68.9,189.60000000000002,138.6,29.000000000000004,32.6,153.2,34.400000000000006,57.1,140.70000000000002,161.60000000000002,114.4,8.700000000000001,147.5,225.5,138.8,166.4,167.1,196.60000000000002,313.1,188.4,148.0,20.1,49.800000000000004,130.3,100.5,51.0,186.36,276.6,314.1,175.3,160.0,101.4,29.700000000000003,10.4,85.9,68.7,293.40000000000003,177.20000000000002,252.10000000000002,257.7,171.70000000000002,205.06,110.3,153.20000000000002,164.2,167.2,72.5,9.4,278.5,355.2,73.4,90.5,71.0,145.4,265.8,211.9,177.0,135.5,84.3,54.7,56.2,225.0,111.5,129.6,220.7,57.2,181.4,195.6,150.8,129.8,217.0,111.30000000000001,273.8,19.900000000000002,37.1,194.20000000000002,98.4,183.4,96.0,186.60000000000002,54.400000000000006,112.0,239.4,293.8,172.3,200.4,190.4,78.60000000000001,245.9,239.4,273.2,167.52,294.8,187.7,242.20000000000002,180.5,88.0,84.9,87.4,107.30000000000001,96.10000000000001,70.9,161.1,187.8,162.70000000000002,59.0,41.4,32.400000000000006,43.9,129.3,44.5,87.8,85.60000000000001,63.5,107.4,75.0,44.1,47.0,74.9,70.60000000000001,46.300000000000004,70.8,115.0,100.30000000000001,61.400000000000006,115.7,174.5,219.20000000000002,191.70000000000002,195.3,28.700000000000003,37.800000000000004,13.7,135.3,158.3,69.2,87.30000000000001,24.6,294.8,192.10000000000002,9.4,107.60000000000001,132.10000000000002,140.6,68.30000000000001,58.400000000000006,73.9,93.9,23.1,64.9,11.100000000000001,168.70000000000002,142.4,91.2,118.9,105.60000000000001,157.8,74.2,92.80000000000001,123.60000000000001,24.400000000000002,123.2,36.2,47.300000000000004,18.0,86.30000000000001,192.1,18.400000000000002,113.9,134.4,145.4,210.8,153.0,171.6,198.3,172.0,201.4,142.9,216.8,333.1,87.60000000000001,82.2,38.3,151.6,143.8,146.9,166.2,187.10000000000002,140.0,98.6,58.2,12.0,18.3,112.6,146.0,14.600000000000001,45.900000000000006,100.9,226.70000000000002,64.9,118.4,161.9],\"xaxis\":\"x\",\"y\":[81.9,84.2,130.0,112.5,22.6,9.4,93.2,90.60000000000001,76.5,216.5,46.9,81.60000000000001,34.1,49.300000000000004,26.200000000000003,41.300000000000004,40.2,4.3,35.7,74.10000000000001,82.60000000000001,79.3,34.4,60.9,58.6,33.1,123.2,113.2,93.60000000000001,127.2,133.70000000000002,174.8,88.4,143.2,68.9,33.800000000000004,130.2,29.000000000000004,112.60000000000001,153.2,83.7,57.1,86.10000000000001,161.60000000000002,114.4,8.700000000000001,40.5,94.2,138.8,166.4,167.1,62.1,105.50000000000001,188.4,138.20000000000002,93.60000000000001,59.800000000000004,111.4,100.5,51.0,39.900000000000006,276.6,314.1,175.3,269.76,101.4,29.700000000000003,60.5,85.9,12.100000000000001,104.10000000000001,177.20000000000002,252.10000000000002,257.7,171.70000000000002,205.06,168.8,153.20000000000002,164.2,167.2,72.5,87.10000000000001,11.799999999999999,355.2,73.4,90.5,271.36,145.4,265.8,211.9,177.0,189.60000000000002,84.3,33.0,56.2,104.10000000000001,111.5,129.6,220.7,154.2,70.4,195.6,150.8,42.1,217.0,111.30000000000001,273.8,265.7,37.1,28.7,98.4,183.4,96.0,186.60000000000002,153.1,112.0,239.4,293.8,172.3,198.8,190.4,78.60000000000001,245.9,179.5,273.2,167.52,294.8,187.7,154.7,204.2,88.0,91.8,126.0,107.30000000000001,96.10000000000001,93.8,30.5,167.3,162.70000000000002,59.0,41.4,8.8,43.9,129.3,44.5,136.5,85.60000000000001,119.2,57.4,75.0,52.800000000000004,47.0,49.300000000000004,70.60000000000001,85.6,64.2,115.0,100.30000000000001,58.2,67.3,48.2,219.20000000000002,191.70000000000002,195.3,254.4,37.800000000000004,64.9,135.3,158.3,69.2,15.2,99.2,13.000000000000002,192.10000000000002,9.4,107.60000000000001,227.0,140.6,68.30000000000001,125.3,73.9,93.9,73.4,26.2,11.100000000000001,16.7,142.4,91.2,196.70000000000002,105.60000000000001,157.8,139.9,92.80000000000001,123.60000000000001,209.8,123.2,124.6,47.300000000000004,83.0,85.10000000000001,192.1,73.9,113.9,134.4,56.5,210.8,153.0,143.70000000000002,198.3,172.0,275.3,142.9,77.6,333.1,118.4,82.2,53.5,151.6,139.6,146.9,143.1,187.10000000000002,119.9,98.6,81.3,12.0,50.800000000000004,32.6,75.7,40.6,3.3000000000000003,7.800000000000001,180.10000000000002,182.46,108.80000000000001,85.0,26.0],\"yaxis\":\"y\",\"type\":\"scatter\"}],                        {\"template\":{\"data\":{\"histogram2dcontour\":[{\"type\":\"histogram2dcontour\",\"colorbar\":{\"outlinewidth\":0,\"ticks\":\"\"},\"colorscale\":[[0.0,\"#0d0887\"],[0.1111111111111111,\"#46039f\"],[0.2222222222222222,\"#7201a8\"],[0.3333333333333333,\"#9c179e\"],[0.4444444444444444,\"#bd3786\"],[0.5555555555555556,\"#d8576b\"],[0.6666666666666666,\"#ed7953\"],[0.7777777777777778,\"#fb9f3a\"],[0.8888888888888888,\"#fdca26\"],[1.0,\"#f0f921\"]]}],\"choropleth\":[{\"type\":\"choropleth\",\"colorbar\":{\"outlinewidth\":0,\"ticks\":\"\"}}],\"histogram2d\":[{\"type\":\"histogram2d\",\"colorbar\":{\"outlinewidth\":0,\"ticks\":\"\"},\"colorscale\":[[0.0,\"#0d0887\"],[0.1111111111111111,\"#46039f\"],[0.2222222222222222,\"#7201a8\"],[0.3333333333333333,\"#9c179e\"],[0.4444444444444444,\"#bd3786\"],[0.5555555555555556,\"#d8576b\"],[0.6666666666666666,\"#ed7953\"],[0.7777777777777778,\"#fb9f3a\"],[0.8888888888888888,\"#fdca26\"],[1.0,\"#f0f921\"]]}],\"heatmap\":[{\"type\":\"heatmap\",\"colorbar\":{\"outlinewidth\":0,\"ticks\":\"\"},\"colorscale\":[[0.0,\"#0d0887\"],[0.1111111111111111,\"#46039f\"],[0.2222222222222222,\"#7201a8\"],[0.3333333333333333,\"#9c179e\"],[0.4444444444444444,\"#bd3786\"],[0.5555555555555556,\"#d8576b\"],[0.6666666666666666,\"#ed7953\"],[0.7777777777777778,\"#fb9f3a\"],[0.8888888888888888,\"#fdca26\"],[1.0,\"#f0f921\"]]}],\"heatmapgl\":[{\"type\":\"heatmapgl\",\"colorbar\":{\"outlinewidth\":0,\"ticks\":\"\"},\"colorscale\":[[0.0,\"#0d0887\"],[0.1111111111111111,\"#46039f\"],[0.2222222222222222,\"#7201a8\"],[0.3333333333333333,\"#9c179e\"],[0.4444444444444444,\"#bd3786\"],[0.5555555555555556,\"#d8576b\"],[0.6666666666666666,\"#ed7953\"],[0.7777777777777778,\"#fb9f3a\"],[0.8888888888888888,\"#fdca26\"],[1.0,\"#f0f921\"]]}],\"contourcarpet\":[{\"type\":\"contourcarpet\",\"colorbar\":{\"outlinewidth\":0,\"ticks\":\"\"}}],\"contour\":[{\"type\":\"contour\",\"colorbar\":{\"outlinewidth\":0,\"ticks\":\"\"},\"colorscale\":[[0.0,\"#0d0887\"],[0.1111111111111111,\"#46039f\"],[0.2222222222222222,\"#7201a8\"],[0.3333333333333333,\"#9c179e\"],[0.4444444444444444,\"#bd3786\"],[0.5555555555555556,\"#d8576b\"],[0.6666666666666666,\"#ed7953\"],[0.7777777777777778,\"#fb9f3a\"],[0.8888888888888888,\"#fdca26\"],[1.0,\"#f0f921\"]]}],\"surface\":[{\"type\":\"surface\",\"colorbar\":{\"outlinewidth\":0,\"ticks\":\"\"},\"colorscale\":[[0.0,\"#0d0887\"],[0.1111111111111111,\"#46039f\"],[0.2222222222222222,\"#7201a8\"],[0.3333333333333333,\"#9c179e\"],[0.4444444444444444,\"#bd3786\"],[0.5555555555555556,\"#d8576b\"],[0.6666666666666666,\"#ed7953\"],[0.7777777777777778,\"#fb9f3a\"],[0.8888888888888888,\"#fdca26\"],[1.0,\"#f0f921\"]]}],\"mesh3d\":[{\"type\":\"mesh3d\",\"colorbar\":{\"outlinewidth\":0,\"ticks\":\"\"}}],\"scatter\":[{\"fillpattern\":{\"fillmode\":\"overlay\",\"size\":10,\"solidity\":0.2},\"type\":\"scatter\"}],\"parcoords\":[{\"type\":\"parcoords\",\"line\":{\"colorbar\":{\"outlinewidth\":0,\"ticks\":\"\"}}}],\"scatterpolargl\":[{\"type\":\"scatterpolargl\",\"marker\":{\"colorbar\":{\"outlinewidth\":0,\"ticks\":\"\"}}}],\"bar\":[{\"error_x\":{\"color\":\"#2a3f5f\"},\"error_y\":{\"color\":\"#2a3f5f\"},\"marker\":{\"line\":{\"color\":\"#E5ECF6\",\"width\":0.5},\"pattern\":{\"fillmode\":\"overlay\",\"size\":10,\"solidity\":0.2}},\"type\":\"bar\"}],\"scattergeo\":[{\"type\":\"scattergeo\",\"marker\":{\"colorbar\":{\"outlinewidth\":0,\"ticks\":\"\"}}}],\"scatterpolar\":[{\"type\":\"scatterpolar\",\"marker\":{\"colorbar\":{\"outlinewidth\":0,\"ticks\":\"\"}}}],\"histogram\":[{\"marker\":{\"pattern\":{\"fillmode\":\"overlay\",\"size\":10,\"solidity\":0.2}},\"type\":\"histogram\"}],\"scattergl\":[{\"type\":\"scattergl\",\"marker\":{\"colorbar\":{\"outlinewidth\":0,\"ticks\":\"\"}}}],\"scatter3d\":[{\"type\":\"scatter3d\",\"line\":{\"colorbar\":{\"outlinewidth\":0,\"ticks\":\"\"}},\"marker\":{\"colorbar\":{\"outlinewidth\":0,\"ticks\":\"\"}}}],\"scattermapbox\":[{\"type\":\"scattermapbox\",\"marker\":{\"colorbar\":{\"outlinewidth\":0,\"ticks\":\"\"}}}],\"scatterternary\":[{\"type\":\"scatterternary\",\"marker\":{\"colorbar\":{\"outlinewidth\":0,\"ticks\":\"\"}}}],\"scattercarpet\":[{\"type\":\"scattercarpet\",\"marker\":{\"colorbar\":{\"outlinewidth\":0,\"ticks\":\"\"}}}],\"carpet\":[{\"aaxis\":{\"endlinecolor\":\"#2a3f5f\",\"gridcolor\":\"white\",\"linecolor\":\"white\",\"minorgridcolor\":\"white\",\"startlinecolor\":\"#2a3f5f\"},\"baxis\":{\"endlinecolor\":\"#2a3f5f\",\"gridcolor\":\"white\",\"linecolor\":\"white\",\"minorgridcolor\":\"white\",\"startlinecolor\":\"#2a3f5f\"},\"type\":\"carpet\"}],\"table\":[{\"cells\":{\"fill\":{\"color\":\"#EBF0F8\"},\"line\":{\"color\":\"white\"}},\"header\":{\"fill\":{\"color\":\"#C8D4E3\"},\"line\":{\"color\":\"white\"}},\"type\":\"table\"}],\"barpolar\":[{\"marker\":{\"line\":{\"color\":\"#E5ECF6\",\"width\":0.5},\"pattern\":{\"fillmode\":\"overlay\",\"size\":10,\"solidity\":0.2}},\"type\":\"barpolar\"}],\"pie\":[{\"automargin\":true,\"type\":\"pie\"}]},\"layout\":{\"autotypenumbers\":\"strict\",\"colorway\":[\"#636efa\",\"#EF553B\",\"#00cc96\",\"#ab63fa\",\"#FFA15A\",\"#19d3f3\",\"#FF6692\",\"#B6E880\",\"#FF97FF\",\"#FECB52\"],\"font\":{\"color\":\"#2a3f5f\"},\"hovermode\":\"closest\",\"hoverlabel\":{\"align\":\"left\"},\"paper_bgcolor\":\"white\",\"plot_bgcolor\":\"#E5ECF6\",\"polar\":{\"bgcolor\":\"#E5ECF6\",\"angularaxis\":{\"gridcolor\":\"white\",\"linecolor\":\"white\",\"ticks\":\"\"},\"radialaxis\":{\"gridcolor\":\"white\",\"linecolor\":\"white\",\"ticks\":\"\"}},\"ternary\":{\"bgcolor\":\"#E5ECF6\",\"aaxis\":{\"gridcolor\":\"white\",\"linecolor\":\"white\",\"ticks\":\"\"},\"baxis\":{\"gridcolor\":\"white\",\"linecolor\":\"white\",\"ticks\":\"\"},\"caxis\":{\"gridcolor\":\"white\",\"linecolor\":\"white\",\"ticks\":\"\"}},\"coloraxis\":{\"colorbar\":{\"outlinewidth\":0,\"ticks\":\"\"}},\"colorscale\":{\"sequential\":[[0.0,\"#0d0887\"],[0.1111111111111111,\"#46039f\"],[0.2222222222222222,\"#7201a8\"],[0.3333333333333333,\"#9c179e\"],[0.4444444444444444,\"#bd3786\"],[0.5555555555555556,\"#d8576b\"],[0.6666666666666666,\"#ed7953\"],[0.7777777777777778,\"#fb9f3a\"],[0.8888888888888888,\"#fdca26\"],[1.0,\"#f0f921\"]],\"sequentialminus\":[[0.0,\"#0d0887\"],[0.1111111111111111,\"#46039f\"],[0.2222222222222222,\"#7201a8\"],[0.3333333333333333,\"#9c179e\"],[0.4444444444444444,\"#bd3786\"],[0.5555555555555556,\"#d8576b\"],[0.6666666666666666,\"#ed7953\"],[0.7777777777777778,\"#fb9f3a\"],[0.8888888888888888,\"#fdca26\"],[1.0,\"#f0f921\"]],\"diverging\":[[0,\"#8e0152\"],[0.1,\"#c51b7d\"],[0.2,\"#de77ae\"],[0.3,\"#f1b6da\"],[0.4,\"#fde0ef\"],[0.5,\"#f7f7f7\"],[0.6,\"#e6f5d0\"],[0.7,\"#b8e186\"],[0.8,\"#7fbc41\"],[0.9,\"#4d9221\"],[1,\"#276419\"]]},\"xaxis\":{\"gridcolor\":\"white\",\"linecolor\":\"white\",\"ticks\":\"\",\"title\":{\"standoff\":15},\"zerolinecolor\":\"white\",\"automargin\":true,\"zerolinewidth\":2},\"yaxis\":{\"gridcolor\":\"white\",\"linecolor\":\"white\",\"ticks\":\"\",\"title\":{\"standoff\":15},\"zerolinecolor\":\"white\",\"automargin\":true,\"zerolinewidth\":2},\"scene\":{\"xaxis\":{\"backgroundcolor\":\"#E5ECF6\",\"gridcolor\":\"white\",\"linecolor\":\"white\",\"showbackground\":true,\"ticks\":\"\",\"zerolinecolor\":\"white\",\"gridwidth\":2},\"yaxis\":{\"backgroundcolor\":\"#E5ECF6\",\"gridcolor\":\"white\",\"linecolor\":\"white\",\"showbackground\":true,\"ticks\":\"\",\"zerolinecolor\":\"white\",\"gridwidth\":2},\"zaxis\":{\"backgroundcolor\":\"#E5ECF6\",\"gridcolor\":\"white\",\"linecolor\":\"white\",\"showbackground\":true,\"ticks\":\"\",\"zerolinecolor\":\"white\",\"gridwidth\":2}},\"shapedefaults\":{\"line\":{\"color\":\"#2a3f5f\"}},\"annotationdefaults\":{\"arrowcolor\":\"#2a3f5f\",\"arrowhead\":0,\"arrowwidth\":1},\"geo\":{\"bgcolor\":\"white\",\"landcolor\":\"#E5ECF6\",\"subunitcolor\":\"white\",\"showland\":true,\"showlakes\":true,\"lakecolor\":\"white\"},\"title\":{\"x\":0.05},\"mapbox\":{\"style\":\"light\"}}},\"xaxis\":{\"anchor\":\"y\",\"domain\":[0.0,1.0],\"title\":{\"text\":\"fantasy_points_last\"}},\"yaxis\":{\"anchor\":\"x\",\"domain\":[0.0,1.0],\"title\":{\"text\":\"fantasy_points\"}},\"legend\":{\"tracegroupgap\":0},\"margin\":{\"t\":60}},                        {\"responsive\": true}                    ).then(function(){\n",
       "                            \n",
       "var gd = document.getElementById('31c21db2-5318-4020-975f-8e1a2ccb1f66');\n",
       "var x = new MutationObserver(function (mutations, observer) {{\n",
       "        var display = window.getComputedStyle(gd).display;\n",
       "        if (!display || display === 'none') {{\n",
       "            console.log([gd, 'removed!']);\n",
       "            Plotly.purge(gd);\n",
       "            observer.disconnect();\n",
       "        }}\n",
       "}});\n",
       "\n",
       "// Listen for the removal of the full notebook cells\n",
       "var notebookContainer = gd.closest('#notebook-container');\n",
       "if (notebookContainer) {{\n",
       "    x.observe(notebookContainer, {childList: true});\n",
       "}}\n",
       "\n",
       "// Listen for the clearing of the current output cell\n",
       "var outputEl = gd.closest('.output');\n",
       "if (outputEl) {{\n",
       "    x.observe(outputEl, {childList: true});\n",
       "}}\n",
       "\n",
       "                        })                };                });            </script>        </div>"
      ]
     },
     "metadata": {},
     "output_type": "display_data"
    },
    {
     "data": {
      "text/html": [
       "<div>\n",
       "<style scoped>\n",
       "    .dataframe tbody tr th:only-of-type {\n",
       "        vertical-align: middle;\n",
       "    }\n",
       "\n",
       "    .dataframe tbody tr th {\n",
       "        vertical-align: top;\n",
       "    }\n",
       "\n",
       "    .dataframe thead th {\n",
       "        text-align: right;\n",
       "    }\n",
       "</style>\n",
       "<table border=\"1\" class=\"dataframe\">\n",
       "  <thead>\n",
       "    <tr style=\"text-align: right;\">\n",
       "      <th></th>\n",
       "      <th>rusher_id</th>\n",
       "      <th>rusher</th>\n",
       "      <th>season</th>\n",
       "      <th>rushing_yards_sum</th>\n",
       "      <th>rushing_yards_mean</th>\n",
       "      <th>rush_attempt_sum</th>\n",
       "      <th>fumble_sum</th>\n",
       "      <th>rush_touchdown_sum</th>\n",
       "      <th>tackled_for_loss_sum</th>\n",
       "      <th>epa_sum</th>\n",
       "      <th>...</th>\n",
       "      <th>fantasy_points_last</th>\n",
       "      <th>age_last</th>\n",
       "      <th>position_last</th>\n",
       "      <th>efficiency_mean_last</th>\n",
       "      <th>percent_attempts_gte_eight_defenders_mean_last</th>\n",
       "      <th>avg_time_to_los_mean_last</th>\n",
       "      <th>expected_rush_yards_mean_last</th>\n",
       "      <th>rush_yards_over_expected_sum_last</th>\n",
       "      <th>rush_yards_over_expected_per_att_mean_last</th>\n",
       "      <th>rush_pct_over_expected_mean_last</th>\n",
       "    </tr>\n",
       "  </thead>\n",
       "  <tbody>\n",
       "    <tr>\n",
       "      <th>0</th>\n",
       "      <td>00-0023500</td>\n",
       "      <td>F.Gore</td>\n",
       "      <td>2019</td>\n",
       "      <td>599.0</td>\n",
       "      <td>3.608434</td>\n",
       "      <td>166.0</td>\n",
       "      <td>0.0</td>\n",
       "      <td>2.0</td>\n",
       "      <td>18.0</td>\n",
       "      <td>-32.828232</td>\n",
       "      <td>...</td>\n",
       "      <td>90.6</td>\n",
       "      <td>35.0</td>\n",
       "      <td>RB</td>\n",
       "      <td>3.247479</td>\n",
       "      <td>8.964702</td>\n",
       "      <td>2.468552</td>\n",
       "      <td>118.911784</td>\n",
       "      <td>109.882161</td>\n",
       "      <td>0.535431</td>\n",
       "      <td>0.406332</td>\n",
       "    </tr>\n",
       "    <tr>\n",
       "      <th>1</th>\n",
       "      <td>00-0023500</td>\n",
       "      <td>F.Gore</td>\n",
       "      <td>2020</td>\n",
       "      <td>653.0</td>\n",
       "      <td>3.491979</td>\n",
       "      <td>187.0</td>\n",
       "      <td>1.0</td>\n",
       "      <td>2.0</td>\n",
       "      <td>17.0</td>\n",
       "      <td>-41.306019</td>\n",
       "      <td>...</td>\n",
       "      <td>81.9</td>\n",
       "      <td>36.0</td>\n",
       "      <td>RB</td>\n",
       "      <td>4.521416</td>\n",
       "      <td>33.168447</td>\n",
       "      <td>2.544394</td>\n",
       "      <td>100.334709</td>\n",
       "      <td>-96.681794</td>\n",
       "      <td>-0.404407</td>\n",
       "      <td>0.314246</td>\n",
       "    </tr>\n",
       "    <tr>\n",
       "      <th>2</th>\n",
       "      <td>00-0025394</td>\n",
       "      <td>A.Peterson</td>\n",
       "      <td>2019</td>\n",
       "      <td>898.0</td>\n",
       "      <td>4.255924</td>\n",
       "      <td>211.0</td>\n",
       "      <td>2.0</td>\n",
       "      <td>5.0</td>\n",
       "      <td>20.0</td>\n",
       "      <td>-25.582747</td>\n",
       "      <td>...</td>\n",
       "      <td>169.0</td>\n",
       "      <td>33.0</td>\n",
       "      <td>RB</td>\n",
       "      <td>5.157395</td>\n",
       "      <td>15.759431</td>\n",
       "      <td>2.962591</td>\n",
       "      <td>141.369825</td>\n",
       "      <td>87.192280</td>\n",
       "      <td>-0.051872</td>\n",
       "      <td>0.366966</td>\n",
       "    </tr>\n",
       "    <tr>\n",
       "      <th>3</th>\n",
       "      <td>00-0025394</td>\n",
       "      <td>A.Peterson</td>\n",
       "      <td>2020</td>\n",
       "      <td>604.0</td>\n",
       "      <td>3.871795</td>\n",
       "      <td>156.0</td>\n",
       "      <td>0.0</td>\n",
       "      <td>7.0</td>\n",
       "      <td>11.0</td>\n",
       "      <td>-12.136178</td>\n",
       "      <td>...</td>\n",
       "      <td>130.0</td>\n",
       "      <td>34.0</td>\n",
       "      <td>RB</td>\n",
       "      <td>4.276318</td>\n",
       "      <td>30.083278</td>\n",
       "      <td>2.854776</td>\n",
       "      <td>109.030173</td>\n",
       "      <td>220.577573</td>\n",
       "      <td>0.493684</td>\n",
       "      <td>0.412969</td>\n",
       "    </tr>\n",
       "    <tr>\n",
       "      <th>4</th>\n",
       "      <td>00-0025394</td>\n",
       "      <td>A.Peterson</td>\n",
       "      <td>2021</td>\n",
       "      <td>98.0</td>\n",
       "      <td>2.578947</td>\n",
       "      <td>38.0</td>\n",
       "      <td>1.0</td>\n",
       "      <td>2.0</td>\n",
       "      <td>5.0</td>\n",
       "      <td>-9.864626</td>\n",
       "      <td>...</td>\n",
       "      <td>112.5</td>\n",
       "      <td>35.0</td>\n",
       "      <td>RB</td>\n",
       "      <td>4.291046</td>\n",
       "      <td>30.683327</td>\n",
       "      <td>2.616606</td>\n",
       "      <td>139.261264</td>\n",
       "      <td>-145.090112</td>\n",
       "      <td>-0.610254</td>\n",
       "      <td>0.292767</td>\n",
       "    </tr>\n",
       "    <tr>\n",
       "      <th>...</th>\n",
       "      <td>...</td>\n",
       "      <td>...</td>\n",
       "      <td>...</td>\n",
       "      <td>...</td>\n",
       "      <td>...</td>\n",
       "      <td>...</td>\n",
       "      <td>...</td>\n",
       "      <td>...</td>\n",
       "      <td>...</td>\n",
       "      <td>...</td>\n",
       "      <td>...</td>\n",
       "      <td>...</td>\n",
       "      <td>...</td>\n",
       "      <td>...</td>\n",
       "      <td>...</td>\n",
       "      <td>...</td>\n",
       "      <td>...</td>\n",
       "      <td>...</td>\n",
       "      <td>...</td>\n",
       "      <td>...</td>\n",
       "      <td>...</td>\n",
       "    </tr>\n",
       "    <tr>\n",
       "      <th>232</th>\n",
       "      <td>00-0036875</td>\n",
       "      <td>R.Stevenson</td>\n",
       "      <td>2022</td>\n",
       "      <td>1040.0</td>\n",
       "      <td>4.952381</td>\n",
       "      <td>210.0</td>\n",
       "      <td>3.0</td>\n",
       "      <td>5.0</td>\n",
       "      <td>18.0</td>\n",
       "      <td>-9.571356</td>\n",
       "      <td>...</td>\n",
       "      <td>100.9</td>\n",
       "      <td>23.0</td>\n",
       "      <td>RB</td>\n",
       "      <td>3.838662</td>\n",
       "      <td>38.513970</td>\n",
       "      <td>2.746166</td>\n",
       "      <td>119.071566</td>\n",
       "      <td>124.427475</td>\n",
       "      <td>0.429158</td>\n",
       "      <td>0.426022</td>\n",
       "    </tr>\n",
       "    <tr>\n",
       "      <th>233</th>\n",
       "      <td>00-0036893</td>\n",
       "      <td>N.Harris</td>\n",
       "      <td>2022</td>\n",
       "      <td>1034.0</td>\n",
       "      <td>3.801471</td>\n",
       "      <td>272.0</td>\n",
       "      <td>2.0</td>\n",
       "      <td>7.0</td>\n",
       "      <td>22.0</td>\n",
       "      <td>-28.651573</td>\n",
       "      <td>...</td>\n",
       "      <td>226.7</td>\n",
       "      <td>23.0</td>\n",
       "      <td>RB</td>\n",
       "      <td>4.660829</td>\n",
       "      <td>14.034710</td>\n",
       "      <td>2.801212</td>\n",
       "      <td>146.420609</td>\n",
       "      <td>-150.150347</td>\n",
       "      <td>-0.404157</td>\n",
       "      <td>0.314597</td>\n",
       "    </tr>\n",
       "    <tr>\n",
       "      <th>234</th>\n",
       "      <td>00-0036906</td>\n",
       "      <td>K.Herbert</td>\n",
       "      <td>2022</td>\n",
       "      <td>731.0</td>\n",
       "      <td>5.666667</td>\n",
       "      <td>129.0</td>\n",
       "      <td>0.0</td>\n",
       "      <td>4.0</td>\n",
       "      <td>8.0</td>\n",
       "      <td>1.171968</td>\n",
       "      <td>...</td>\n",
       "      <td>64.9</td>\n",
       "      <td>23.0</td>\n",
       "      <td>RB</td>\n",
       "      <td>3.970373</td>\n",
       "      <td>19.902740</td>\n",
       "      <td>2.934207</td>\n",
       "      <td>155.425127</td>\n",
       "      <td>-4.125636</td>\n",
       "      <td>0.130836</td>\n",
       "      <td>0.416662</td>\n",
       "    </tr>\n",
       "    <tr>\n",
       "      <th>235</th>\n",
       "      <td>00-0036924</td>\n",
       "      <td>Mi.Carter</td>\n",
       "      <td>2022</td>\n",
       "      <td>402.0</td>\n",
       "      <td>3.526316</td>\n",
       "      <td>114.0</td>\n",
       "      <td>1.0</td>\n",
       "      <td>3.0</td>\n",
       "      <td>9.0</td>\n",
       "      <td>-21.690918</td>\n",
       "      <td>...</td>\n",
       "      <td>118.4</td>\n",
       "      <td>22.0</td>\n",
       "      <td>RB</td>\n",
       "      <td>4.297025</td>\n",
       "      <td>20.274910</td>\n",
       "      <td>2.820964</td>\n",
       "      <td>112.951330</td>\n",
       "      <td>77.438028</td>\n",
       "      <td>0.071273</td>\n",
       "      <td>0.456307</td>\n",
       "    </tr>\n",
       "    <tr>\n",
       "      <th>236</th>\n",
       "      <td>00-0036997</td>\n",
       "      <td>J.Williams</td>\n",
       "      <td>2022</td>\n",
       "      <td>204.0</td>\n",
       "      <td>4.340425</td>\n",
       "      <td>47.0</td>\n",
       "      <td>1.0</td>\n",
       "      <td>0.0</td>\n",
       "      <td>5.0</td>\n",
       "      <td>-6.311366</td>\n",
       "      <td>...</td>\n",
       "      <td>161.9</td>\n",
       "      <td>21.0</td>\n",
       "      <td>RB</td>\n",
       "      <td>4.655060</td>\n",
       "      <td>21.976610</td>\n",
       "      <td>2.992745</td>\n",
       "      <td>132.972983</td>\n",
       "      <td>-20.675795</td>\n",
       "      <td>-0.240728</td>\n",
       "      <td>0.356995</td>\n",
       "    </tr>\n",
       "  </tbody>\n",
       "</table>\n",
       "<p>237 rows × 43 columns</p>\n",
       "</div>"
      ],
      "text/plain": [
       "      rusher_id       rusher  season  rushing_yards_sum  rushing_yards_mean  \\\n",
       "0    00-0023500       F.Gore    2019              599.0            3.608434   \n",
       "1    00-0023500       F.Gore    2020              653.0            3.491979   \n",
       "2    00-0025394   A.Peterson    2019              898.0            4.255924   \n",
       "3    00-0025394   A.Peterson    2020              604.0            3.871795   \n",
       "4    00-0025394   A.Peterson    2021               98.0            2.578947   \n",
       "..          ...          ...     ...                ...                 ...   \n",
       "232  00-0036875  R.Stevenson    2022             1040.0            4.952381   \n",
       "233  00-0036893     N.Harris    2022             1034.0            3.801471   \n",
       "234  00-0036906    K.Herbert    2022              731.0            5.666667   \n",
       "235  00-0036924    Mi.Carter    2022              402.0            3.526316   \n",
       "236  00-0036997   J.Williams    2022              204.0            4.340425   \n",
       "\n",
       "     rush_attempt_sum  fumble_sum  rush_touchdown_sum  tackled_for_loss_sum  \\\n",
       "0               166.0         0.0                 2.0                  18.0   \n",
       "1               187.0         1.0                 2.0                  17.0   \n",
       "2               211.0         2.0                 5.0                  20.0   \n",
       "3               156.0         0.0                 7.0                  11.0   \n",
       "4                38.0         1.0                 2.0                   5.0   \n",
       "..                ...         ...                 ...                   ...   \n",
       "232             210.0         3.0                 5.0                  18.0   \n",
       "233             272.0         2.0                 7.0                  22.0   \n",
       "234             129.0         0.0                 4.0                   8.0   \n",
       "235             114.0         1.0                 3.0                   9.0   \n",
       "236              47.0         1.0                 0.0                   5.0   \n",
       "\n",
       "       epa_sum  ...  fantasy_points_last  age_last  position_last  \\\n",
       "0   -32.828232  ...                 90.6      35.0             RB   \n",
       "1   -41.306019  ...                 81.9      36.0             RB   \n",
       "2   -25.582747  ...                169.0      33.0             RB   \n",
       "3   -12.136178  ...                130.0      34.0             RB   \n",
       "4    -9.864626  ...                112.5      35.0             RB   \n",
       "..         ...  ...                  ...       ...            ...   \n",
       "232  -9.571356  ...                100.9      23.0             RB   \n",
       "233 -28.651573  ...                226.7      23.0             RB   \n",
       "234   1.171968  ...                 64.9      23.0             RB   \n",
       "235 -21.690918  ...                118.4      22.0             RB   \n",
       "236  -6.311366  ...                161.9      21.0             RB   \n",
       "\n",
       "     efficiency_mean_last  percent_attempts_gte_eight_defenders_mean_last  \\\n",
       "0                3.247479                                        8.964702   \n",
       "1                4.521416                                       33.168447   \n",
       "2                5.157395                                       15.759431   \n",
       "3                4.276318                                       30.083278   \n",
       "4                4.291046                                       30.683327   \n",
       "..                    ...                                             ...   \n",
       "232              3.838662                                       38.513970   \n",
       "233              4.660829                                       14.034710   \n",
       "234              3.970373                                       19.902740   \n",
       "235              4.297025                                       20.274910   \n",
       "236              4.655060                                       21.976610   \n",
       "\n",
       "    avg_time_to_los_mean_last  expected_rush_yards_mean_last  \\\n",
       "0                    2.468552                     118.911784   \n",
       "1                    2.544394                     100.334709   \n",
       "2                    2.962591                     141.369825   \n",
       "3                    2.854776                     109.030173   \n",
       "4                    2.616606                     139.261264   \n",
       "..                        ...                            ...   \n",
       "232                  2.746166                     119.071566   \n",
       "233                  2.801212                     146.420609   \n",
       "234                  2.934207                     155.425127   \n",
       "235                  2.820964                     112.951330   \n",
       "236                  2.992745                     132.972983   \n",
       "\n",
       "     rush_yards_over_expected_sum_last  \\\n",
       "0                           109.882161   \n",
       "1                           -96.681794   \n",
       "2                            87.192280   \n",
       "3                           220.577573   \n",
       "4                          -145.090112   \n",
       "..                                 ...   \n",
       "232                         124.427475   \n",
       "233                        -150.150347   \n",
       "234                          -4.125636   \n",
       "235                          77.438028   \n",
       "236                         -20.675795   \n",
       "\n",
       "     rush_yards_over_expected_per_att_mean_last  \\\n",
       "0                                      0.535431   \n",
       "1                                     -0.404407   \n",
       "2                                     -0.051872   \n",
       "3                                      0.493684   \n",
       "4                                     -0.610254   \n",
       "..                                          ...   \n",
       "232                                    0.429158   \n",
       "233                                   -0.404157   \n",
       "234                                    0.130836   \n",
       "235                                    0.071273   \n",
       "236                                   -0.240728   \n",
       "\n",
       "     rush_pct_over_expected_mean_last  \n",
       "0                            0.406332  \n",
       "1                            0.314246  \n",
       "2                            0.366966  \n",
       "3                            0.412969  \n",
       "4                            0.292767  \n",
       "..                                ...  \n",
       "232                          0.426022  \n",
       "233                          0.314597  \n",
       "234                          0.416662  \n",
       "235                          0.456307  \n",
       "236                          0.356995  \n",
       "\n",
       "[237 rows x 43 columns]"
      ]
     },
     "execution_count": 69,
     "metadata": {},
     "output_type": "execute_result"
    }
   ],
   "source": [
    "filter_df(df, \"\", x, y)"
   ]
  },
  {
   "cell_type": "code",
   "execution_count": 83,
   "id": "dca92ab7",
   "metadata": {},
   "outputs": [
    {
     "data": {
      "text/html": [
       "<div>\n",
       "<style scoped>\n",
       "    .dataframe tbody tr th:only-of-type {\n",
       "        vertical-align: middle;\n",
       "    }\n",
       "\n",
       "    .dataframe tbody tr th {\n",
       "        vertical-align: top;\n",
       "    }\n",
       "\n",
       "    .dataframe thead th {\n",
       "        text-align: right;\n",
       "    }\n",
       "</style>\n",
       "<table border=\"1\" class=\"dataframe\">\n",
       "  <thead>\n",
       "    <tr style=\"text-align: right;\">\n",
       "      <th></th>\n",
       "      <th>rush_pct_over_expected_mean</th>\n",
       "      <th>rush_pct_over_expected_mean_last</th>\n",
       "      <th>fantasy_points</th>\n",
       "      <th>fantasy_points_last</th>\n",
       "    </tr>\n",
       "  </thead>\n",
       "  <tbody>\n",
       "    <tr>\n",
       "      <th>rush_pct_over_expected_mean</th>\n",
       "      <td>1.000000</td>\n",
       "      <td>0.069803</td>\n",
       "      <td>0.152174</td>\n",
       "      <td>0.107934</td>\n",
       "    </tr>\n",
       "    <tr>\n",
       "      <th>rush_pct_over_expected_mean_last</th>\n",
       "      <td>0.069803</td>\n",
       "      <td>1.000000</td>\n",
       "      <td>0.060958</td>\n",
       "      <td>0.022653</td>\n",
       "    </tr>\n",
       "    <tr>\n",
       "      <th>fantasy_points</th>\n",
       "      <td>0.152174</td>\n",
       "      <td>0.060958</td>\n",
       "      <td>1.000000</td>\n",
       "      <td>0.359566</td>\n",
       "    </tr>\n",
       "    <tr>\n",
       "      <th>fantasy_points_last</th>\n",
       "      <td>0.107934</td>\n",
       "      <td>0.022653</td>\n",
       "      <td>0.359566</td>\n",
       "      <td>1.000000</td>\n",
       "    </tr>\n",
       "  </tbody>\n",
       "</table>\n",
       "</div>"
      ],
      "text/plain": [
       "                                  rush_pct_over_expected_mean  \\\n",
       "rush_pct_over_expected_mean                          1.000000   \n",
       "rush_pct_over_expected_mean_last                     0.069803   \n",
       "fantasy_points                                       0.152174   \n",
       "fantasy_points_last                                  0.107934   \n",
       "\n",
       "                                  rush_pct_over_expected_mean_last  \\\n",
       "rush_pct_over_expected_mean                               0.069803   \n",
       "rush_pct_over_expected_mean_last                          1.000000   \n",
       "fantasy_points                                            0.060958   \n",
       "fantasy_points_last                                       0.022653   \n",
       "\n",
       "                                  fantasy_points  fantasy_points_last  \n",
       "rush_pct_over_expected_mean             0.152174             0.107934  \n",
       "rush_pct_over_expected_mean_last        0.060958             0.022653  \n",
       "fantasy_points                          1.000000             0.359566  \n",
       "fantasy_points_last                     0.359566             1.000000  "
      ]
     },
     "execution_count": 83,
     "metadata": {},
     "output_type": "execute_result"
    }
   ],
   "source": [
    "query = \"position == 'RB' and rush_attempt_sum > 100 and rush_attempt_sum_last > 100\"\n",
    "d = df.query(query)\n",
    "d[[\"rush_pct_over_expected_mean\", \"rush_pct_over_expected_mean_last\",\n",
    "    \"fantasy_points\", \"fantasy_points_last\"]].corr()"
   ]
  },
  {
   "cell_type": "code",
   "execution_count": 82,
   "id": "265dc9a9",
   "metadata": {},
   "outputs": [
    {
     "data": {
      "text/html": [
       "<div>\n",
       "<style scoped>\n",
       "    .dataframe tbody tr th:only-of-type {\n",
       "        vertical-align: middle;\n",
       "    }\n",
       "\n",
       "    .dataframe tbody tr th {\n",
       "        vertical-align: top;\n",
       "    }\n",
       "\n",
       "    .dataframe thead th {\n",
       "        text-align: right;\n",
       "    }\n",
       "</style>\n",
       "<table border=\"1\" class=\"dataframe\">\n",
       "  <thead>\n",
       "    <tr style=\"text-align: right;\">\n",
       "      <th></th>\n",
       "      <th>avg_time_to_los_mean</th>\n",
       "      <th>avg_time_to_los_mean_last</th>\n",
       "      <th>fantasy_points</th>\n",
       "      <th>fantasy_points_last</th>\n",
       "    </tr>\n",
       "  </thead>\n",
       "  <tbody>\n",
       "    <tr>\n",
       "      <th>avg_time_to_los_mean</th>\n",
       "      <td>1.000000</td>\n",
       "      <td>0.586291</td>\n",
       "      <td>0.075436</td>\n",
       "      <td>0.113521</td>\n",
       "    </tr>\n",
       "    <tr>\n",
       "      <th>avg_time_to_los_mean_last</th>\n",
       "      <td>0.586291</td>\n",
       "      <td>1.000000</td>\n",
       "      <td>0.155080</td>\n",
       "      <td>0.154988</td>\n",
       "    </tr>\n",
       "    <tr>\n",
       "      <th>fantasy_points</th>\n",
       "      <td>0.075436</td>\n",
       "      <td>0.155080</td>\n",
       "      <td>1.000000</td>\n",
       "      <td>0.359566</td>\n",
       "    </tr>\n",
       "    <tr>\n",
       "      <th>fantasy_points_last</th>\n",
       "      <td>0.113521</td>\n",
       "      <td>0.154988</td>\n",
       "      <td>0.359566</td>\n",
       "      <td>1.000000</td>\n",
       "    </tr>\n",
       "  </tbody>\n",
       "</table>\n",
       "</div>"
      ],
      "text/plain": [
       "                           avg_time_to_los_mean  avg_time_to_los_mean_last  \\\n",
       "avg_time_to_los_mean                   1.000000                   0.586291   \n",
       "avg_time_to_los_mean_last              0.586291                   1.000000   \n",
       "fantasy_points                         0.075436                   0.155080   \n",
       "fantasy_points_last                    0.113521                   0.154988   \n",
       "\n",
       "                           fantasy_points  fantasy_points_last  \n",
       "avg_time_to_los_mean             0.075436             0.113521  \n",
       "avg_time_to_los_mean_last        0.155080             0.154988  \n",
       "fantasy_points                   1.000000             0.359566  \n",
       "fantasy_points_last              0.359566             1.000000  "
      ]
     },
     "execution_count": 82,
     "metadata": {},
     "output_type": "execute_result"
    }
   ],
   "source": [
    "query = \"position == 'RB' and rush_attempt_sum > 100 and rush_attempt_sum_last > 100\"\n",
    "d = df.query(query)\n",
    "d[[\"avg_time_to_los_mean\", \"avg_time_to_los_mean_last\",\n",
    "    \"fantasy_points\", \"fantasy_points_last\"]].corr()"
   ]
  },
  {
   "cell_type": "code",
   "execution_count": 81,
   "id": "cc102396",
   "metadata": {
    "scrolled": false
   },
   "outputs": [
    {
     "data": {
      "application/vnd.plotly.v1+json": {
       "config": {
        "plotlyServerURL": "https://plot.ly"
       },
       "data": [
        {
         "coloraxis": "coloraxis",
         "hovertemplate": "Current Season Stats: %{x}<br>Previous Season Stats: %{y}<br>color: %{z}<extra></extra>",
         "name": "0",
         "texttemplate": "%{z}",
         "type": "heatmap",
         "x": [
          "fantasy_points",
          "efficiency_mean",
          "percent_attempts_gte_eight_defenders_mean",
          "avg_time_to_los_mean",
          "expected_rush_yards_mean",
          "rush_yards_over_expected_sum",
          "rush_yards_over_expected_per_att_mean",
          "rush_pct_over_expected_mean"
         ],
         "xaxis": "x",
         "y": [
          "fantasy_points_last",
          "efficiency_mean_last",
          "percent_attempts_gte_eight_defenders_mean_last",
          "avg_time_to_los_mean_last",
          "expected_rush_yards_mean_last",
          "rush_yards_over_expected_sum_last",
          "rush_yards_over_expected_per_att_mean_last",
          "rush_pct_over_expected_mean_last"
         ],
         "yaxis": "y",
         "z": [
          [
           0.36,
           0.21,
           0.02,
           0.11,
           0.05,
           0.13,
           0.1,
           0.11
          ],
          [
           -0.11,
           0.2,
           -0.1,
           0.16,
           -0.08,
           -0.16,
           -0.2,
           -0.16
          ],
          [
           -0.04,
           0.01,
           0.41,
           0,
           0.02,
           0.19,
           0.15,
           0.17
          ],
          [
           0.16,
           0.17,
           -0.14,
           0.59,
           0.03,
           0.22,
           0.2,
           0.03
          ],
          [
           -0.04,
           -0.06,
           -0.12,
           0.06,
           0.06,
           0.04,
           0.05,
           0.1
          ],
          [
           0.26,
           0.22,
           0.13,
           0.09,
           0.13,
           0.48,
           0.34,
           0.15
          ],
          [
           0.15,
           0.08,
           -0.09,
           0.11,
           0.1,
           0.17,
           0.09,
           0.2
          ],
          [
           0.06,
           0.03,
           -0.08,
           0.04,
           0.1,
           0,
           -0.07,
           0.07
          ]
         ]
        }
       ],
       "layout": {
        "coloraxis": {
         "colorscale": [
          [
           0,
           "#0d0887"
          ],
          [
           0.1111111111111111,
           "#46039f"
          ],
          [
           0.2222222222222222,
           "#7201a8"
          ],
          [
           0.3333333333333333,
           "#9c179e"
          ],
          [
           0.4444444444444444,
           "#bd3786"
          ],
          [
           0.5555555555555556,
           "#d8576b"
          ],
          [
           0.6666666666666666,
           "#ed7953"
          ],
          [
           0.7777777777777778,
           "#fb9f3a"
          ],
          [
           0.8888888888888888,
           "#fdca26"
          ],
          [
           1,
           "#f0f921"
          ]
         ]
        },
        "margin": {
         "t": 60
        },
        "template": {
         "data": {
          "bar": [
           {
            "error_x": {
             "color": "#2a3f5f"
            },
            "error_y": {
             "color": "#2a3f5f"
            },
            "marker": {
             "line": {
              "color": "#E5ECF6",
              "width": 0.5
             },
             "pattern": {
              "fillmode": "overlay",
              "size": 10,
              "solidity": 0.2
             }
            },
            "type": "bar"
           }
          ],
          "barpolar": [
           {
            "marker": {
             "line": {
              "color": "#E5ECF6",
              "width": 0.5
             },
             "pattern": {
              "fillmode": "overlay",
              "size": 10,
              "solidity": 0.2
             }
            },
            "type": "barpolar"
           }
          ],
          "carpet": [
           {
            "aaxis": {
             "endlinecolor": "#2a3f5f",
             "gridcolor": "white",
             "linecolor": "white",
             "minorgridcolor": "white",
             "startlinecolor": "#2a3f5f"
            },
            "baxis": {
             "endlinecolor": "#2a3f5f",
             "gridcolor": "white",
             "linecolor": "white",
             "minorgridcolor": "white",
             "startlinecolor": "#2a3f5f"
            },
            "type": "carpet"
           }
          ],
          "choropleth": [
           {
            "colorbar": {
             "outlinewidth": 0,
             "ticks": ""
            },
            "type": "choropleth"
           }
          ],
          "contour": [
           {
            "colorbar": {
             "outlinewidth": 0,
             "ticks": ""
            },
            "colorscale": [
             [
              0,
              "#0d0887"
             ],
             [
              0.1111111111111111,
              "#46039f"
             ],
             [
              0.2222222222222222,
              "#7201a8"
             ],
             [
              0.3333333333333333,
              "#9c179e"
             ],
             [
              0.4444444444444444,
              "#bd3786"
             ],
             [
              0.5555555555555556,
              "#d8576b"
             ],
             [
              0.6666666666666666,
              "#ed7953"
             ],
             [
              0.7777777777777778,
              "#fb9f3a"
             ],
             [
              0.8888888888888888,
              "#fdca26"
             ],
             [
              1,
              "#f0f921"
             ]
            ],
            "type": "contour"
           }
          ],
          "contourcarpet": [
           {
            "colorbar": {
             "outlinewidth": 0,
             "ticks": ""
            },
            "type": "contourcarpet"
           }
          ],
          "heatmap": [
           {
            "colorbar": {
             "outlinewidth": 0,
             "ticks": ""
            },
            "colorscale": [
             [
              0,
              "#0d0887"
             ],
             [
              0.1111111111111111,
              "#46039f"
             ],
             [
              0.2222222222222222,
              "#7201a8"
             ],
             [
              0.3333333333333333,
              "#9c179e"
             ],
             [
              0.4444444444444444,
              "#bd3786"
             ],
             [
              0.5555555555555556,
              "#d8576b"
             ],
             [
              0.6666666666666666,
              "#ed7953"
             ],
             [
              0.7777777777777778,
              "#fb9f3a"
             ],
             [
              0.8888888888888888,
              "#fdca26"
             ],
             [
              1,
              "#f0f921"
             ]
            ],
            "type": "heatmap"
           }
          ],
          "heatmapgl": [
           {
            "colorbar": {
             "outlinewidth": 0,
             "ticks": ""
            },
            "colorscale": [
             [
              0,
              "#0d0887"
             ],
             [
              0.1111111111111111,
              "#46039f"
             ],
             [
              0.2222222222222222,
              "#7201a8"
             ],
             [
              0.3333333333333333,
              "#9c179e"
             ],
             [
              0.4444444444444444,
              "#bd3786"
             ],
             [
              0.5555555555555556,
              "#d8576b"
             ],
             [
              0.6666666666666666,
              "#ed7953"
             ],
             [
              0.7777777777777778,
              "#fb9f3a"
             ],
             [
              0.8888888888888888,
              "#fdca26"
             ],
             [
              1,
              "#f0f921"
             ]
            ],
            "type": "heatmapgl"
           }
          ],
          "histogram": [
           {
            "marker": {
             "pattern": {
              "fillmode": "overlay",
              "size": 10,
              "solidity": 0.2
             }
            },
            "type": "histogram"
           }
          ],
          "histogram2d": [
           {
            "colorbar": {
             "outlinewidth": 0,
             "ticks": ""
            },
            "colorscale": [
             [
              0,
              "#0d0887"
             ],
             [
              0.1111111111111111,
              "#46039f"
             ],
             [
              0.2222222222222222,
              "#7201a8"
             ],
             [
              0.3333333333333333,
              "#9c179e"
             ],
             [
              0.4444444444444444,
              "#bd3786"
             ],
             [
              0.5555555555555556,
              "#d8576b"
             ],
             [
              0.6666666666666666,
              "#ed7953"
             ],
             [
              0.7777777777777778,
              "#fb9f3a"
             ],
             [
              0.8888888888888888,
              "#fdca26"
             ],
             [
              1,
              "#f0f921"
             ]
            ],
            "type": "histogram2d"
           }
          ],
          "histogram2dcontour": [
           {
            "colorbar": {
             "outlinewidth": 0,
             "ticks": ""
            },
            "colorscale": [
             [
              0,
              "#0d0887"
             ],
             [
              0.1111111111111111,
              "#46039f"
             ],
             [
              0.2222222222222222,
              "#7201a8"
             ],
             [
              0.3333333333333333,
              "#9c179e"
             ],
             [
              0.4444444444444444,
              "#bd3786"
             ],
             [
              0.5555555555555556,
              "#d8576b"
             ],
             [
              0.6666666666666666,
              "#ed7953"
             ],
             [
              0.7777777777777778,
              "#fb9f3a"
             ],
             [
              0.8888888888888888,
              "#fdca26"
             ],
             [
              1,
              "#f0f921"
             ]
            ],
            "type": "histogram2dcontour"
           }
          ],
          "mesh3d": [
           {
            "colorbar": {
             "outlinewidth": 0,
             "ticks": ""
            },
            "type": "mesh3d"
           }
          ],
          "parcoords": [
           {
            "line": {
             "colorbar": {
              "outlinewidth": 0,
              "ticks": ""
             }
            },
            "type": "parcoords"
           }
          ],
          "pie": [
           {
            "automargin": true,
            "type": "pie"
           }
          ],
          "scatter": [
           {
            "fillpattern": {
             "fillmode": "overlay",
             "size": 10,
             "solidity": 0.2
            },
            "type": "scatter"
           }
          ],
          "scatter3d": [
           {
            "line": {
             "colorbar": {
              "outlinewidth": 0,
              "ticks": ""
             }
            },
            "marker": {
             "colorbar": {
              "outlinewidth": 0,
              "ticks": ""
             }
            },
            "type": "scatter3d"
           }
          ],
          "scattercarpet": [
           {
            "marker": {
             "colorbar": {
              "outlinewidth": 0,
              "ticks": ""
             }
            },
            "type": "scattercarpet"
           }
          ],
          "scattergeo": [
           {
            "marker": {
             "colorbar": {
              "outlinewidth": 0,
              "ticks": ""
             }
            },
            "type": "scattergeo"
           }
          ],
          "scattergl": [
           {
            "marker": {
             "colorbar": {
              "outlinewidth": 0,
              "ticks": ""
             }
            },
            "type": "scattergl"
           }
          ],
          "scattermapbox": [
           {
            "marker": {
             "colorbar": {
              "outlinewidth": 0,
              "ticks": ""
             }
            },
            "type": "scattermapbox"
           }
          ],
          "scatterpolar": [
           {
            "marker": {
             "colorbar": {
              "outlinewidth": 0,
              "ticks": ""
             }
            },
            "type": "scatterpolar"
           }
          ],
          "scatterpolargl": [
           {
            "marker": {
             "colorbar": {
              "outlinewidth": 0,
              "ticks": ""
             }
            },
            "type": "scatterpolargl"
           }
          ],
          "scatterternary": [
           {
            "marker": {
             "colorbar": {
              "outlinewidth": 0,
              "ticks": ""
             }
            },
            "type": "scatterternary"
           }
          ],
          "surface": [
           {
            "colorbar": {
             "outlinewidth": 0,
             "ticks": ""
            },
            "colorscale": [
             [
              0,
              "#0d0887"
             ],
             [
              0.1111111111111111,
              "#46039f"
             ],
             [
              0.2222222222222222,
              "#7201a8"
             ],
             [
              0.3333333333333333,
              "#9c179e"
             ],
             [
              0.4444444444444444,
              "#bd3786"
             ],
             [
              0.5555555555555556,
              "#d8576b"
             ],
             [
              0.6666666666666666,
              "#ed7953"
             ],
             [
              0.7777777777777778,
              "#fb9f3a"
             ],
             [
              0.8888888888888888,
              "#fdca26"
             ],
             [
              1,
              "#f0f921"
             ]
            ],
            "type": "surface"
           }
          ],
          "table": [
           {
            "cells": {
             "fill": {
              "color": "#EBF0F8"
             },
             "line": {
              "color": "white"
             }
            },
            "header": {
             "fill": {
              "color": "#C8D4E3"
             },
             "line": {
              "color": "white"
             }
            },
            "type": "table"
           }
          ]
         },
         "layout": {
          "annotationdefaults": {
           "arrowcolor": "#2a3f5f",
           "arrowhead": 0,
           "arrowwidth": 1
          },
          "autotypenumbers": "strict",
          "coloraxis": {
           "colorbar": {
            "outlinewidth": 0,
            "ticks": ""
           }
          },
          "colorscale": {
           "diverging": [
            [
             0,
             "#8e0152"
            ],
            [
             0.1,
             "#c51b7d"
            ],
            [
             0.2,
             "#de77ae"
            ],
            [
             0.3,
             "#f1b6da"
            ],
            [
             0.4,
             "#fde0ef"
            ],
            [
             0.5,
             "#f7f7f7"
            ],
            [
             0.6,
             "#e6f5d0"
            ],
            [
             0.7,
             "#b8e186"
            ],
            [
             0.8,
             "#7fbc41"
            ],
            [
             0.9,
             "#4d9221"
            ],
            [
             1,
             "#276419"
            ]
           ],
           "sequential": [
            [
             0,
             "#0d0887"
            ],
            [
             0.1111111111111111,
             "#46039f"
            ],
            [
             0.2222222222222222,
             "#7201a8"
            ],
            [
             0.3333333333333333,
             "#9c179e"
            ],
            [
             0.4444444444444444,
             "#bd3786"
            ],
            [
             0.5555555555555556,
             "#d8576b"
            ],
            [
             0.6666666666666666,
             "#ed7953"
            ],
            [
             0.7777777777777778,
             "#fb9f3a"
            ],
            [
             0.8888888888888888,
             "#fdca26"
            ],
            [
             1,
             "#f0f921"
            ]
           ],
           "sequentialminus": [
            [
             0,
             "#0d0887"
            ],
            [
             0.1111111111111111,
             "#46039f"
            ],
            [
             0.2222222222222222,
             "#7201a8"
            ],
            [
             0.3333333333333333,
             "#9c179e"
            ],
            [
             0.4444444444444444,
             "#bd3786"
            ],
            [
             0.5555555555555556,
             "#d8576b"
            ],
            [
             0.6666666666666666,
             "#ed7953"
            ],
            [
             0.7777777777777778,
             "#fb9f3a"
            ],
            [
             0.8888888888888888,
             "#fdca26"
            ],
            [
             1,
             "#f0f921"
            ]
           ]
          },
          "colorway": [
           "#636efa",
           "#EF553B",
           "#00cc96",
           "#ab63fa",
           "#FFA15A",
           "#19d3f3",
           "#FF6692",
           "#B6E880",
           "#FF97FF",
           "#FECB52"
          ],
          "font": {
           "color": "#2a3f5f"
          },
          "geo": {
           "bgcolor": "white",
           "lakecolor": "white",
           "landcolor": "#E5ECF6",
           "showlakes": true,
           "showland": true,
           "subunitcolor": "white"
          },
          "hoverlabel": {
           "align": "left"
          },
          "hovermode": "closest",
          "mapbox": {
           "style": "light"
          },
          "paper_bgcolor": "white",
          "plot_bgcolor": "#E5ECF6",
          "polar": {
           "angularaxis": {
            "gridcolor": "white",
            "linecolor": "white",
            "ticks": ""
           },
           "bgcolor": "#E5ECF6",
           "radialaxis": {
            "gridcolor": "white",
            "linecolor": "white",
            "ticks": ""
           }
          },
          "scene": {
           "xaxis": {
            "backgroundcolor": "#E5ECF6",
            "gridcolor": "white",
            "gridwidth": 2,
            "linecolor": "white",
            "showbackground": true,
            "ticks": "",
            "zerolinecolor": "white"
           },
           "yaxis": {
            "backgroundcolor": "#E5ECF6",
            "gridcolor": "white",
            "gridwidth": 2,
            "linecolor": "white",
            "showbackground": true,
            "ticks": "",
            "zerolinecolor": "white"
           },
           "zaxis": {
            "backgroundcolor": "#E5ECF6",
            "gridcolor": "white",
            "gridwidth": 2,
            "linecolor": "white",
            "showbackground": true,
            "ticks": "",
            "zerolinecolor": "white"
           }
          },
          "shapedefaults": {
           "line": {
            "color": "#2a3f5f"
           }
          },
          "ternary": {
           "aaxis": {
            "gridcolor": "white",
            "linecolor": "white",
            "ticks": ""
           },
           "baxis": {
            "gridcolor": "white",
            "linecolor": "white",
            "ticks": ""
           },
           "bgcolor": "#E5ECF6",
           "caxis": {
            "gridcolor": "white",
            "linecolor": "white",
            "ticks": ""
           }
          },
          "title": {
           "x": 0.05
          },
          "xaxis": {
           "automargin": true,
           "gridcolor": "white",
           "linecolor": "white",
           "ticks": "",
           "title": {
            "standoff": 15
           },
           "zerolinecolor": "white",
           "zerolinewidth": 2
          },
          "yaxis": {
           "automargin": true,
           "gridcolor": "white",
           "linecolor": "white",
           "ticks": "",
           "title": {
            "standoff": 15
           },
           "zerolinecolor": "white",
           "zerolinewidth": 2
          }
         }
        },
        "xaxis": {
         "anchor": "y",
         "constrain": "domain",
         "domain": [
          0,
          1
         ],
         "scaleanchor": "y",
         "title": {
          "text": "Current Season Stats"
         }
        },
        "yaxis": {
         "anchor": "x",
         "autorange": "reversed",
         "constrain": "domain",
         "domain": [
          0,
          1
         ],
         "title": {
          "text": "Previous Season Stats"
         }
        }
       }
      },
      "text/html": [
       "<div>                            <div id=\"6b41f25e-72e9-4ff4-9a4f-533c2008aedc\" class=\"plotly-graph-div\" style=\"height:525px; width:100%;\"></div>            <script type=\"text/javascript\">                require([\"plotly\"], function(Plotly) {                    window.PLOTLYENV=window.PLOTLYENV || {};                                    if (document.getElementById(\"6b41f25e-72e9-4ff4-9a4f-533c2008aedc\")) {                    Plotly.newPlot(                        \"6b41f25e-72e9-4ff4-9a4f-533c2008aedc\",                        [{\"coloraxis\":\"coloraxis\",\"name\":\"0\",\"texttemplate\":\"%{z}\",\"x\":[\"fantasy_points\",\"efficiency_mean\",\"percent_attempts_gte_eight_defenders_mean\",\"avg_time_to_los_mean\",\"expected_rush_yards_mean\",\"rush_yards_over_expected_sum\",\"rush_yards_over_expected_per_att_mean\",\"rush_pct_over_expected_mean\"],\"y\":[\"fantasy_points_last\",\"efficiency_mean_last\",\"percent_attempts_gte_eight_defenders_mean_last\",\"avg_time_to_los_mean_last\",\"expected_rush_yards_mean_last\",\"rush_yards_over_expected_sum_last\",\"rush_yards_over_expected_per_att_mean_last\",\"rush_pct_over_expected_mean_last\"],\"z\":[[0.36,0.21,0.02,0.11,0.05,0.13,0.1,0.11],[-0.11,0.2,-0.1,0.16,-0.08,-0.16,-0.2,-0.16],[-0.04,0.01,0.41,-0.0,0.02,0.19,0.15,0.17],[0.16,0.17,-0.14,0.59,0.03,0.22,0.2,0.03],[-0.04,-0.06,-0.12,0.06,0.06,0.04,0.05,0.1],[0.26,0.22,0.13,0.09,0.13,0.48,0.34,0.15],[0.15,0.08,-0.09,0.11,0.1,0.17,0.09,0.2],[0.06,0.03,-0.08,0.04,0.1,-0.0,-0.07,0.07]],\"type\":\"heatmap\",\"xaxis\":\"x\",\"yaxis\":\"y\",\"hovertemplate\":\"Current Season Stats: %{x}\\u003cbr\\u003ePrevious Season Stats: %{y}\\u003cbr\\u003ecolor: %{z}\\u003cextra\\u003e\\u003c\\u002fextra\\u003e\"}],                        {\"template\":{\"data\":{\"histogram2dcontour\":[{\"type\":\"histogram2dcontour\",\"colorbar\":{\"outlinewidth\":0,\"ticks\":\"\"},\"colorscale\":[[0.0,\"#0d0887\"],[0.1111111111111111,\"#46039f\"],[0.2222222222222222,\"#7201a8\"],[0.3333333333333333,\"#9c179e\"],[0.4444444444444444,\"#bd3786\"],[0.5555555555555556,\"#d8576b\"],[0.6666666666666666,\"#ed7953\"],[0.7777777777777778,\"#fb9f3a\"],[0.8888888888888888,\"#fdca26\"],[1.0,\"#f0f921\"]]}],\"choropleth\":[{\"type\":\"choropleth\",\"colorbar\":{\"outlinewidth\":0,\"ticks\":\"\"}}],\"histogram2d\":[{\"type\":\"histogram2d\",\"colorbar\":{\"outlinewidth\":0,\"ticks\":\"\"},\"colorscale\":[[0.0,\"#0d0887\"],[0.1111111111111111,\"#46039f\"],[0.2222222222222222,\"#7201a8\"],[0.3333333333333333,\"#9c179e\"],[0.4444444444444444,\"#bd3786\"],[0.5555555555555556,\"#d8576b\"],[0.6666666666666666,\"#ed7953\"],[0.7777777777777778,\"#fb9f3a\"],[0.8888888888888888,\"#fdca26\"],[1.0,\"#f0f921\"]]}],\"heatmap\":[{\"type\":\"heatmap\",\"colorbar\":{\"outlinewidth\":0,\"ticks\":\"\"},\"colorscale\":[[0.0,\"#0d0887\"],[0.1111111111111111,\"#46039f\"],[0.2222222222222222,\"#7201a8\"],[0.3333333333333333,\"#9c179e\"],[0.4444444444444444,\"#bd3786\"],[0.5555555555555556,\"#d8576b\"],[0.6666666666666666,\"#ed7953\"],[0.7777777777777778,\"#fb9f3a\"],[0.8888888888888888,\"#fdca26\"],[1.0,\"#f0f921\"]]}],\"heatmapgl\":[{\"type\":\"heatmapgl\",\"colorbar\":{\"outlinewidth\":0,\"ticks\":\"\"},\"colorscale\":[[0.0,\"#0d0887\"],[0.1111111111111111,\"#46039f\"],[0.2222222222222222,\"#7201a8\"],[0.3333333333333333,\"#9c179e\"],[0.4444444444444444,\"#bd3786\"],[0.5555555555555556,\"#d8576b\"],[0.6666666666666666,\"#ed7953\"],[0.7777777777777778,\"#fb9f3a\"],[0.8888888888888888,\"#fdca26\"],[1.0,\"#f0f921\"]]}],\"contourcarpet\":[{\"type\":\"contourcarpet\",\"colorbar\":{\"outlinewidth\":0,\"ticks\":\"\"}}],\"contour\":[{\"type\":\"contour\",\"colorbar\":{\"outlinewidth\":0,\"ticks\":\"\"},\"colorscale\":[[0.0,\"#0d0887\"],[0.1111111111111111,\"#46039f\"],[0.2222222222222222,\"#7201a8\"],[0.3333333333333333,\"#9c179e\"],[0.4444444444444444,\"#bd3786\"],[0.5555555555555556,\"#d8576b\"],[0.6666666666666666,\"#ed7953\"],[0.7777777777777778,\"#fb9f3a\"],[0.8888888888888888,\"#fdca26\"],[1.0,\"#f0f921\"]]}],\"surface\":[{\"type\":\"surface\",\"colorbar\":{\"outlinewidth\":0,\"ticks\":\"\"},\"colorscale\":[[0.0,\"#0d0887\"],[0.1111111111111111,\"#46039f\"],[0.2222222222222222,\"#7201a8\"],[0.3333333333333333,\"#9c179e\"],[0.4444444444444444,\"#bd3786\"],[0.5555555555555556,\"#d8576b\"],[0.6666666666666666,\"#ed7953\"],[0.7777777777777778,\"#fb9f3a\"],[0.8888888888888888,\"#fdca26\"],[1.0,\"#f0f921\"]]}],\"mesh3d\":[{\"type\":\"mesh3d\",\"colorbar\":{\"outlinewidth\":0,\"ticks\":\"\"}}],\"scatter\":[{\"fillpattern\":{\"fillmode\":\"overlay\",\"size\":10,\"solidity\":0.2},\"type\":\"scatter\"}],\"parcoords\":[{\"type\":\"parcoords\",\"line\":{\"colorbar\":{\"outlinewidth\":0,\"ticks\":\"\"}}}],\"scatterpolargl\":[{\"type\":\"scatterpolargl\",\"marker\":{\"colorbar\":{\"outlinewidth\":0,\"ticks\":\"\"}}}],\"bar\":[{\"error_x\":{\"color\":\"#2a3f5f\"},\"error_y\":{\"color\":\"#2a3f5f\"},\"marker\":{\"line\":{\"color\":\"#E5ECF6\",\"width\":0.5},\"pattern\":{\"fillmode\":\"overlay\",\"size\":10,\"solidity\":0.2}},\"type\":\"bar\"}],\"scattergeo\":[{\"type\":\"scattergeo\",\"marker\":{\"colorbar\":{\"outlinewidth\":0,\"ticks\":\"\"}}}],\"scatterpolar\":[{\"type\":\"scatterpolar\",\"marker\":{\"colorbar\":{\"outlinewidth\":0,\"ticks\":\"\"}}}],\"histogram\":[{\"marker\":{\"pattern\":{\"fillmode\":\"overlay\",\"size\":10,\"solidity\":0.2}},\"type\":\"histogram\"}],\"scattergl\":[{\"type\":\"scattergl\",\"marker\":{\"colorbar\":{\"outlinewidth\":0,\"ticks\":\"\"}}}],\"scatter3d\":[{\"type\":\"scatter3d\",\"line\":{\"colorbar\":{\"outlinewidth\":0,\"ticks\":\"\"}},\"marker\":{\"colorbar\":{\"outlinewidth\":0,\"ticks\":\"\"}}}],\"scattermapbox\":[{\"type\":\"scattermapbox\",\"marker\":{\"colorbar\":{\"outlinewidth\":0,\"ticks\":\"\"}}}],\"scatterternary\":[{\"type\":\"scatterternary\",\"marker\":{\"colorbar\":{\"outlinewidth\":0,\"ticks\":\"\"}}}],\"scattercarpet\":[{\"type\":\"scattercarpet\",\"marker\":{\"colorbar\":{\"outlinewidth\":0,\"ticks\":\"\"}}}],\"carpet\":[{\"aaxis\":{\"endlinecolor\":\"#2a3f5f\",\"gridcolor\":\"white\",\"linecolor\":\"white\",\"minorgridcolor\":\"white\",\"startlinecolor\":\"#2a3f5f\"},\"baxis\":{\"endlinecolor\":\"#2a3f5f\",\"gridcolor\":\"white\",\"linecolor\":\"white\",\"minorgridcolor\":\"white\",\"startlinecolor\":\"#2a3f5f\"},\"type\":\"carpet\"}],\"table\":[{\"cells\":{\"fill\":{\"color\":\"#EBF0F8\"},\"line\":{\"color\":\"white\"}},\"header\":{\"fill\":{\"color\":\"#C8D4E3\"},\"line\":{\"color\":\"white\"}},\"type\":\"table\"}],\"barpolar\":[{\"marker\":{\"line\":{\"color\":\"#E5ECF6\",\"width\":0.5},\"pattern\":{\"fillmode\":\"overlay\",\"size\":10,\"solidity\":0.2}},\"type\":\"barpolar\"}],\"pie\":[{\"automargin\":true,\"type\":\"pie\"}]},\"layout\":{\"autotypenumbers\":\"strict\",\"colorway\":[\"#636efa\",\"#EF553B\",\"#00cc96\",\"#ab63fa\",\"#FFA15A\",\"#19d3f3\",\"#FF6692\",\"#B6E880\",\"#FF97FF\",\"#FECB52\"],\"font\":{\"color\":\"#2a3f5f\"},\"hovermode\":\"closest\",\"hoverlabel\":{\"align\":\"left\"},\"paper_bgcolor\":\"white\",\"plot_bgcolor\":\"#E5ECF6\",\"polar\":{\"bgcolor\":\"#E5ECF6\",\"angularaxis\":{\"gridcolor\":\"white\",\"linecolor\":\"white\",\"ticks\":\"\"},\"radialaxis\":{\"gridcolor\":\"white\",\"linecolor\":\"white\",\"ticks\":\"\"}},\"ternary\":{\"bgcolor\":\"#E5ECF6\",\"aaxis\":{\"gridcolor\":\"white\",\"linecolor\":\"white\",\"ticks\":\"\"},\"baxis\":{\"gridcolor\":\"white\",\"linecolor\":\"white\",\"ticks\":\"\"},\"caxis\":{\"gridcolor\":\"white\",\"linecolor\":\"white\",\"ticks\":\"\"}},\"coloraxis\":{\"colorbar\":{\"outlinewidth\":0,\"ticks\":\"\"}},\"colorscale\":{\"sequential\":[[0.0,\"#0d0887\"],[0.1111111111111111,\"#46039f\"],[0.2222222222222222,\"#7201a8\"],[0.3333333333333333,\"#9c179e\"],[0.4444444444444444,\"#bd3786\"],[0.5555555555555556,\"#d8576b\"],[0.6666666666666666,\"#ed7953\"],[0.7777777777777778,\"#fb9f3a\"],[0.8888888888888888,\"#fdca26\"],[1.0,\"#f0f921\"]],\"sequentialminus\":[[0.0,\"#0d0887\"],[0.1111111111111111,\"#46039f\"],[0.2222222222222222,\"#7201a8\"],[0.3333333333333333,\"#9c179e\"],[0.4444444444444444,\"#bd3786\"],[0.5555555555555556,\"#d8576b\"],[0.6666666666666666,\"#ed7953\"],[0.7777777777777778,\"#fb9f3a\"],[0.8888888888888888,\"#fdca26\"],[1.0,\"#f0f921\"]],\"diverging\":[[0,\"#8e0152\"],[0.1,\"#c51b7d\"],[0.2,\"#de77ae\"],[0.3,\"#f1b6da\"],[0.4,\"#fde0ef\"],[0.5,\"#f7f7f7\"],[0.6,\"#e6f5d0\"],[0.7,\"#b8e186\"],[0.8,\"#7fbc41\"],[0.9,\"#4d9221\"],[1,\"#276419\"]]},\"xaxis\":{\"gridcolor\":\"white\",\"linecolor\":\"white\",\"ticks\":\"\",\"title\":{\"standoff\":15},\"zerolinecolor\":\"white\",\"automargin\":true,\"zerolinewidth\":2},\"yaxis\":{\"gridcolor\":\"white\",\"linecolor\":\"white\",\"ticks\":\"\",\"title\":{\"standoff\":15},\"zerolinecolor\":\"white\",\"automargin\":true,\"zerolinewidth\":2},\"scene\":{\"xaxis\":{\"backgroundcolor\":\"#E5ECF6\",\"gridcolor\":\"white\",\"linecolor\":\"white\",\"showbackground\":true,\"ticks\":\"\",\"zerolinecolor\":\"white\",\"gridwidth\":2},\"yaxis\":{\"backgroundcolor\":\"#E5ECF6\",\"gridcolor\":\"white\",\"linecolor\":\"white\",\"showbackground\":true,\"ticks\":\"\",\"zerolinecolor\":\"white\",\"gridwidth\":2},\"zaxis\":{\"backgroundcolor\":\"#E5ECF6\",\"gridcolor\":\"white\",\"linecolor\":\"white\",\"showbackground\":true,\"ticks\":\"\",\"zerolinecolor\":\"white\",\"gridwidth\":2}},\"shapedefaults\":{\"line\":{\"color\":\"#2a3f5f\"}},\"annotationdefaults\":{\"arrowcolor\":\"#2a3f5f\",\"arrowhead\":0,\"arrowwidth\":1},\"geo\":{\"bgcolor\":\"white\",\"landcolor\":\"#E5ECF6\",\"subunitcolor\":\"white\",\"showland\":true,\"showlakes\":true,\"lakecolor\":\"white\"},\"title\":{\"x\":0.05},\"mapbox\":{\"style\":\"light\"}}},\"xaxis\":{\"anchor\":\"y\",\"domain\":[0.0,1.0],\"scaleanchor\":\"y\",\"constrain\":\"domain\",\"title\":{\"text\":\"Current Season Stats\"}},\"yaxis\":{\"anchor\":\"x\",\"domain\":[0.0,1.0],\"autorange\":\"reversed\",\"constrain\":\"domain\",\"title\":{\"text\":\"Previous Season Stats\"}},\"coloraxis\":{\"colorscale\":[[0.0,\"#0d0887\"],[0.1111111111111111,\"#46039f\"],[0.2222222222222222,\"#7201a8\"],[0.3333333333333333,\"#9c179e\"],[0.4444444444444444,\"#bd3786\"],[0.5555555555555556,\"#d8576b\"],[0.6666666666666666,\"#ed7953\"],[0.7777777777777778,\"#fb9f3a\"],[0.8888888888888888,\"#fdca26\"],[1.0,\"#f0f921\"]]},\"margin\":{\"t\":60}},                        {\"responsive\": true}                    ).then(function(){\n",
       "                            \n",
       "var gd = document.getElementById('6b41f25e-72e9-4ff4-9a4f-533c2008aedc');\n",
       "var x = new MutationObserver(function (mutations, observer) {{\n",
       "        var display = window.getComputedStyle(gd).display;\n",
       "        if (!display || display === 'none') {{\n",
       "            console.log([gd, 'removed!']);\n",
       "            Plotly.purge(gd);\n",
       "            observer.disconnect();\n",
       "        }}\n",
       "}});\n",
       "\n",
       "// Listen for the removal of the full notebook cells\n",
       "var notebookContainer = gd.closest('#notebook-container');\n",
       "if (notebookContainer) {{\n",
       "    x.observe(notebookContainer, {childList: true});\n",
       "}}\n",
       "\n",
       "// Listen for the clearing of the current output cell\n",
       "var outputEl = gd.closest('.output');\n",
       "if (outputEl) {{\n",
       "    x.observe(outputEl, {childList: true});\n",
       "}}\n",
       "\n",
       "                        })                };                });            </script>        </div>"
      ]
     },
     "metadata": {},
     "output_type": "display_data"
    },
    {
     "name": "stdout",
     "output_type": "stream",
     "text": [
      "avg_time_to_los_mean\n"
     ]
    },
    {
     "data": {
      "application/vnd.plotly.v1+json": {
       "config": {
        "plotlyServerURL": "https://plot.ly"
       },
       "data": [
        {
         "customdata": [
          [
           "F.Gore",
           2019,
           36
          ],
          [
           "F.Gore",
           2020,
           37
          ],
          [
           "A.Peterson",
           2019,
           34
          ],
          [
           "A.Peterson",
           2020,
           35
          ],
          [
           "L.McCoy",
           2018,
           30
          ],
          [
           "L.McCoy",
           2019,
           31
          ],
          [
           "L.Blount",
           2018,
           31
          ],
          [
           "M.Ingram",
           2019,
           29
          ],
          [
           "L.Murray",
           2019,
           29
          ],
          [
           "L.Murray",
           2020,
           30
          ],
          [
           "L.Murray",
           2021,
           31
          ],
          [
           "L.Murray",
           2022,
           32
          ],
          [
           "C.Patterson",
           2022,
           31
          ],
          [
           "C.Hyde",
           2017,
           26
          ],
          [
           "C.Hyde",
           2018,
           27
          ],
          [
           "C.Hyde",
           2019,
           28
          ],
          [
           "R.Mostert",
           2020,
           28
          ],
          [
           "T.Coleman",
           2018,
           25
          ],
          [
           "T.Coleman",
           2019,
           26
          ],
          [
           "M.Davis",
           2021,
           28
          ],
          [
           "M.Gordon",
           2019,
           26
          ],
          [
           "M.Gordon",
           2020,
           27
          ],
          [
           "M.Gordon",
           2021,
           28
          ],
          [
           "T.Gurley",
           2019,
           25
          ],
          [
           "T.Gurley",
           2020,
           26
          ],
          [
           "A.Collins",
           2018,
           24
          ],
          [
           "P.Barber",
           2019,
           25
          ],
          [
           "D.Henry",
           2019,
           25
          ],
          [
           "D.Henry",
           2020,
           26
          ],
          [
           "D.Henry",
           2021,
           27
          ],
          [
           "D.Henry",
           2022,
           28
          ],
          [
           "J.Howard",
           2019,
           24
          ],
          [
           "E.Elliott",
           2017,
           22
          ],
          [
           "E.Elliott",
           2018,
           23
          ],
          [
           "E.Elliott",
           2019,
           24
          ],
          [
           "E.Elliott",
           2020,
           25
          ],
          [
           "E.Elliott",
           2021,
           26
          ],
          [
           "E.Elliott",
           2022,
           27
          ],
          [
           "K.Drake",
           2018,
           24
          ],
          [
           "K.Drake",
           2019,
           25
          ],
          [
           "K.Drake",
           2020,
           26
          ],
          [
           "C.McCaffrey",
           2019,
           23
          ],
          [
           "A.Jones",
           2019,
           24
          ],
          [
           "A.Jones",
           2020,
           25
          ],
          [
           "A.Jones",
           2021,
           26
          ],
          [
           "A.Jones",
           2022,
           27
          ],
          [
           "M.Breida",
           2019,
           24
          ],
          [
           "J.Conner",
           2019,
           24
          ],
          [
           "J.Conner",
           2020,
           25
          ],
          [
           "J.Conner",
           2021,
           26
          ],
          [
           "J.Conner",
           2022,
           27
          ],
          [
           "C.Carson",
           2019,
           24
          ],
          [
           "C.Carson",
           2020,
           25
          ],
          [
           "A.Ekeler",
           2019,
           24
          ],
          [
           "A.Ekeler",
           2020,
           25
          ],
          [
           "A.Ekeler",
           2021,
           26
          ],
          [
           "A.Ekeler",
           2022,
           27
          ],
          [
           "L.Fournette",
           2018,
           23
          ],
          [
           "L.Fournette",
           2019,
           24
          ],
          [
           "L.Fournette",
           2022,
           27
          ],
          [
           "D.Cook",
           2019,
           24
          ],
          [
           "D.Cook",
           2020,
           25
          ],
          [
           "D.Cook",
           2021,
           26
          ],
          [
           "D.Cook",
           2022,
           27
          ],
          [
           "J.Mixon",
           2019,
           23
          ],
          [
           "J.Mixon",
           2020,
           24
          ],
          [
           "J.Mixon",
           2021,
           25
          ],
          [
           "J.Mixon",
           2022,
           26
          ],
          [
           "A.Kamara",
           2018,
           23
          ],
          [
           "A.Kamara",
           2019,
           24
          ],
          [
           "A.Kamara",
           2020,
           25
          ],
          [
           "A.Kamara",
           2021,
           26
          ],
          [
           "A.Kamara",
           2022,
           27
          ],
          [
           "K.Hunt",
           2018,
           23
          ],
          [
           "D.Foreman",
           2022,
           26
          ],
          [
           "J.Williams",
           2019,
           24
          ],
          [
           "J.Williams",
           2020,
           25
          ],
          [
           "J.Williams",
           2021,
           26
          ],
          [
           "M.Mack",
           2019,
           23
          ],
          [
           "P.Lindsay",
           2019,
           25
          ],
          [
           "P.Lindsay",
           2020,
           26
          ],
          [
           "G.Edwards",
           2019,
           24
          ],
          [
           "G.Edwards",
           2020,
           25
          ],
          [
           "K.Johnson",
           2019,
           22
          ],
          [
           "N.Chubb",
           2019,
           23
          ],
          [
           "N.Chubb",
           2020,
           24
          ],
          [
           "N.Chubb",
           2021,
           25
          ],
          [
           "N.Chubb",
           2022,
           26
          ],
          [
           "R.Jones",
           2020,
           23
          ],
          [
           "R.Jones",
           2021,
           24
          ],
          [
           "R.Freeman",
           2019,
           23
          ],
          [
           "S.Barkley",
           2019,
           22
          ],
          [
           "S.Barkley",
           2022,
           25
          ],
          [
           "S.Michel",
           2019,
           24
          ],
          [
           "M.Sanders",
           2020,
           23
          ],
          [
           "M.Sanders",
           2021,
           24
          ],
          [
           "M.Sanders",
           2022,
           25
          ],
          [
           "D.Singletary",
           2020,
           22
          ],
          [
           "D.Singletary",
           2021,
           23
          ],
          [
           "D.Singletary",
           2022,
           24
          ],
          [
           "T.Pollard",
           2021,
           24
          ],
          [
           "T.Pollard",
           2022,
           25
          ],
          [
           "M.Gaskin",
           2021,
           24
          ],
          [
           "D.Harris",
           2021,
           24
          ],
          [
           "D.Harris",
           2022,
           25
          ],
          [
           "D.Henderson",
           2021,
           24
          ],
          [
           "D.Montgomery",
           2020,
           23
          ],
          [
           "D.Montgomery",
           2021,
           24
          ],
          [
           "D.Montgomery",
           2022,
           25
          ],
          [
           "J.Jacobs",
           2020,
           22
          ],
          [
           "J.Jacobs",
           2021,
           23
          ],
          [
           "J.Jacobs",
           2022,
           24
          ],
          [
           "J.Robinson",
           2021,
           23
          ],
          [
           "J.Robinson",
           2022,
           24
          ],
          [
           "J.Taylor",
           2021,
           22
          ],
          [
           "J.Taylor",
           2022,
           23
          ],
          [
           "A.Dillon",
           2022,
           24
          ],
          [
           "D.Swift",
           2021,
           22
          ],
          [
           "A.Gibson",
           2021,
           23
          ],
          [
           "A.Gibson",
           2022,
           24
          ],
          [
           "C.Edwards-Helaire",
           2021,
           22
          ],
          [
           "R.Stevenson",
           2022,
           24
          ],
          [
           "N.Harris",
           2022,
           24
          ],
          [
           "K.Herbert",
           2022,
           24
          ],
          [
           "Mi.Carter",
           2022,
           23
          ]
         ],
         "hovertemplate": "avg_time_to_los_mean_last=%{x}<br>avg_time_to_los_mean=%{y}<br>rusher=%{customdata[0]}<br>season=%{customdata[1]}<br>age=%{customdata[2]}<extra></extra>",
         "legendgroup": "",
         "marker": {
          "color": "#636efa",
          "symbol": "circle"
         },
         "mode": "markers",
         "name": "",
         "orientation": "v",
         "showlegend": false,
         "type": "scatter",
         "x": [
          2.4685519857159584,
          2.5443944009580375,
          2.9625912223474464,
          2.8547761657263315,
          2.938563840689164,
          2.962347391118115,
          2.5992239157509163,
          2.5569161257985016,
          2.744173729242334,
          2.630161127164316,
          2.569605339466093,
          2.6554820286195286,
          2.808878302055088,
          2.6931100138513675,
          2.81503154589372,
          2.9684407977664753,
          2.8316562810574437,
          2.7392466346153843,
          2.8358967490026314,
          2.778744594876132,
          2.7804702197236915,
          2.729422617012617,
          2.903958330586906,
          2.7545151854910648,
          2.9032607956935688,
          3.0107998012233668,
          2.7661857132525993,
          2.8732305925987145,
          2.740889775784024,
          2.752989436441961,
          2.74200311803302,
          2.5281310991538155,
          2.8241715564727756,
          2.921400728426052,
          2.8659363037100545,
          2.7152427759449345,
          2.610804555567971,
          2.77905087894132,
          2.9282037698412697,
          2.83641977543154,
          2.8402293841333948,
          2.761112027340761,
          2.6682966440966442,
          2.756946371761639,
          2.724827604256482,
          2.6890067664658575,
          2.859022388059701,
          2.8574091229892957,
          2.743568359499185,
          2.969856737375971,
          2.727383256343989,
          2.8159678610645464,
          2.8343279352226696,
          2.951251144094001,
          3.022345886809269,
          2.8691361110194835,
          2.680178998005778,
          2.523400156230051,
          2.635947635158959,
          2.6339759773797207,
          2.805061882372014,
          2.877139912674409,
          2.8604465797182304,
          2.772473879700332,
          2.744964934077993,
          2.8853365866676475,
          2.731259409482856,
          2.8832857364514655,
          2.860201785714286,
          2.679065303575258,
          2.755820432365147,
          2.742200536031637,
          2.788499705186766,
          2.8504357184396816,
          2.710627722024057,
          2.7233320299985437,
          2.557208256029685,
          2.473525779153767,
          2.804475008047508,
          2.6206658726481864,
          2.960108955377023,
          2.4277401348927765,
          2.632735811688312,
          2.9661132024882026,
          2.9224082653529253,
          2.964744815145384,
          3.0579348532333537,
          3.1446747275537437,
          2.6135201276501276,
          2.47421588794645,
          2.897774620980871,
          2.972526435220391,
          2.8859829192980513,
          2.688964948842875,
          2.947161852805419,
          2.8710656256971956,
          2.7676102315300293,
          2.9310959894777135,
          2.862658801096247,
          2.8309287033821793,
          2.7746640543364682,
          2.901031786731787,
          2.7314523067210565,
          2.7268857574043603,
          2.5958674048174046,
          2.7863349008178333,
          2.687025527532385,
          2.745662587181985,
          2.7255515586227745,
          2.6998911763940088,
          2.6915090816200475,
          2.6971644446801815,
          2.695831878235026,
          2.8208322463020297,
          2.8288397202283,
          2.798137959223984,
          2.5663625220278594,
          2.76937257266543,
          2.778796093238962,
          2.6816830696773355,
          2.823014042467417,
          2.746165579436903,
          2.801211857304936,
          2.9342074250919397,
          2.8209642696809363
         ],
         "xaxis": "x",
         "y": [
          2.5443944009580375,
          2.6170792687296363,
          2.8547761657263315,
          2.616606405717128,
          2.962347391118115,
          2.7263389092538284,
          2.76484441624003,
          2.714746581834315,
          2.630161127164316,
          2.569605339466093,
          2.6554820286195286,
          2.652282174383587,
          2.806273288528374,
          2.81503154589372,
          2.9684407977664753,
          2.7492897280660515,
          2.8894373606932655,
          2.8358967490026314,
          2.907951931361122,
          2.81527654115351,
          2.729422617012617,
          2.903958330586906,
          2.787537135566787,
          2.9032607956935688,
          2.9029236370573868,
          3.0327272469593898,
          2.6946087143960047,
          2.740889775784024,
          2.752989436441961,
          2.74200311803302,
          2.694550746808863,
          2.7798859041999666,
          2.921400728426052,
          2.8659363037100545,
          2.7152427759449345,
          2.610804555567971,
          2.77905087894132,
          2.7235241775674583,
          2.83641977543154,
          2.8402293841333948,
          2.74949508504732,
          2.6625599613572435,
          2.756946371761639,
          2.724827604256482,
          2.6890067664658575,
          2.852448940782658,
          2.961752256123797,
          2.743568359499185,
          2.969856737375971,
          2.727383256343989,
          2.7515170074026014,
          2.8343279352226696,
          2.851131361804716,
          3.022345886809269,
          2.8691361110194835,
          2.680178998005778,
          2.739774366303986,
          2.635947635158959,
          2.771661159747668,
          2.7216346305295853,
          2.877139912674409,
          2.8604465797182304,
          2.772473879700332,
          2.9190420220665017,
          2.8853365866676475,
          2.731259409482856,
          2.8832857364514655,
          2.6783225554266,
          2.679065303575258,
          2.755820432365147,
          2.742200536031637,
          2.788499705186766,
          2.7669338311067553,
          2.7217641783588795,
          2.6952601207445706,
          2.557208256029685,
          2.473525779153767,
          2.761118109996729,
          3.084247810160306,
          2.960108955377023,
          3.06023676445387,
          2.632735811688312,
          2.69090455304929,
          2.68320079611973,
          2.964744815145384,
          3.0579348532333537,
          3.1446747275537437,
          3.093782864541496,
          2.47421588794645,
          2.4301823529411766,
          2.8933816734495017,
          2.9170403238448164,
          2.7014054974633903,
          2.6913937557074115,
          2.8710656256971956,
          2.7676102315300293,
          2.7971691488949837,
          2.862658801096247,
          2.8309287033821793,
          2.6998207808432158,
          2.901031786731787,
          2.9155070571815545,
          2.757769171770374,
          2.5958674048174046,
          2.628597162097162,
          2.847202855477856,
          2.745662587181985,
          2.7255515586227745,
          2.761481395541976,
          2.6915090816200475,
          2.6971644446801815,
          2.781297927603911,
          2.8208322463020297,
          2.8597559873516505,
          2.798137959223984,
          2.763758540700649,
          2.5946084224137107,
          2.9558439785664885,
          2.6816830696773355,
          2.7385941631353394,
          2.832372437289625,
          2.7109149964238366,
          2.721978113716972,
          2.8366800289290723,
          2.846857087357087
         ],
         "yaxis": "y"
        }
       ],
       "layout": {
        "legend": {
         "tracegroupgap": 0
        },
        "margin": {
         "t": 60
        },
        "template": {
         "data": {
          "bar": [
           {
            "error_x": {
             "color": "#2a3f5f"
            },
            "error_y": {
             "color": "#2a3f5f"
            },
            "marker": {
             "line": {
              "color": "#E5ECF6",
              "width": 0.5
             },
             "pattern": {
              "fillmode": "overlay",
              "size": 10,
              "solidity": 0.2
             }
            },
            "type": "bar"
           }
          ],
          "barpolar": [
           {
            "marker": {
             "line": {
              "color": "#E5ECF6",
              "width": 0.5
             },
             "pattern": {
              "fillmode": "overlay",
              "size": 10,
              "solidity": 0.2
             }
            },
            "type": "barpolar"
           }
          ],
          "carpet": [
           {
            "aaxis": {
             "endlinecolor": "#2a3f5f",
             "gridcolor": "white",
             "linecolor": "white",
             "minorgridcolor": "white",
             "startlinecolor": "#2a3f5f"
            },
            "baxis": {
             "endlinecolor": "#2a3f5f",
             "gridcolor": "white",
             "linecolor": "white",
             "minorgridcolor": "white",
             "startlinecolor": "#2a3f5f"
            },
            "type": "carpet"
           }
          ],
          "choropleth": [
           {
            "colorbar": {
             "outlinewidth": 0,
             "ticks": ""
            },
            "type": "choropleth"
           }
          ],
          "contour": [
           {
            "colorbar": {
             "outlinewidth": 0,
             "ticks": ""
            },
            "colorscale": [
             [
              0,
              "#0d0887"
             ],
             [
              0.1111111111111111,
              "#46039f"
             ],
             [
              0.2222222222222222,
              "#7201a8"
             ],
             [
              0.3333333333333333,
              "#9c179e"
             ],
             [
              0.4444444444444444,
              "#bd3786"
             ],
             [
              0.5555555555555556,
              "#d8576b"
             ],
             [
              0.6666666666666666,
              "#ed7953"
             ],
             [
              0.7777777777777778,
              "#fb9f3a"
             ],
             [
              0.8888888888888888,
              "#fdca26"
             ],
             [
              1,
              "#f0f921"
             ]
            ],
            "type": "contour"
           }
          ],
          "contourcarpet": [
           {
            "colorbar": {
             "outlinewidth": 0,
             "ticks": ""
            },
            "type": "contourcarpet"
           }
          ],
          "heatmap": [
           {
            "colorbar": {
             "outlinewidth": 0,
             "ticks": ""
            },
            "colorscale": [
             [
              0,
              "#0d0887"
             ],
             [
              0.1111111111111111,
              "#46039f"
             ],
             [
              0.2222222222222222,
              "#7201a8"
             ],
             [
              0.3333333333333333,
              "#9c179e"
             ],
             [
              0.4444444444444444,
              "#bd3786"
             ],
             [
              0.5555555555555556,
              "#d8576b"
             ],
             [
              0.6666666666666666,
              "#ed7953"
             ],
             [
              0.7777777777777778,
              "#fb9f3a"
             ],
             [
              0.8888888888888888,
              "#fdca26"
             ],
             [
              1,
              "#f0f921"
             ]
            ],
            "type": "heatmap"
           }
          ],
          "heatmapgl": [
           {
            "colorbar": {
             "outlinewidth": 0,
             "ticks": ""
            },
            "colorscale": [
             [
              0,
              "#0d0887"
             ],
             [
              0.1111111111111111,
              "#46039f"
             ],
             [
              0.2222222222222222,
              "#7201a8"
             ],
             [
              0.3333333333333333,
              "#9c179e"
             ],
             [
              0.4444444444444444,
              "#bd3786"
             ],
             [
              0.5555555555555556,
              "#d8576b"
             ],
             [
              0.6666666666666666,
              "#ed7953"
             ],
             [
              0.7777777777777778,
              "#fb9f3a"
             ],
             [
              0.8888888888888888,
              "#fdca26"
             ],
             [
              1,
              "#f0f921"
             ]
            ],
            "type": "heatmapgl"
           }
          ],
          "histogram": [
           {
            "marker": {
             "pattern": {
              "fillmode": "overlay",
              "size": 10,
              "solidity": 0.2
             }
            },
            "type": "histogram"
           }
          ],
          "histogram2d": [
           {
            "colorbar": {
             "outlinewidth": 0,
             "ticks": ""
            },
            "colorscale": [
             [
              0,
              "#0d0887"
             ],
             [
              0.1111111111111111,
              "#46039f"
             ],
             [
              0.2222222222222222,
              "#7201a8"
             ],
             [
              0.3333333333333333,
              "#9c179e"
             ],
             [
              0.4444444444444444,
              "#bd3786"
             ],
             [
              0.5555555555555556,
              "#d8576b"
             ],
             [
              0.6666666666666666,
              "#ed7953"
             ],
             [
              0.7777777777777778,
              "#fb9f3a"
             ],
             [
              0.8888888888888888,
              "#fdca26"
             ],
             [
              1,
              "#f0f921"
             ]
            ],
            "type": "histogram2d"
           }
          ],
          "histogram2dcontour": [
           {
            "colorbar": {
             "outlinewidth": 0,
             "ticks": ""
            },
            "colorscale": [
             [
              0,
              "#0d0887"
             ],
             [
              0.1111111111111111,
              "#46039f"
             ],
             [
              0.2222222222222222,
              "#7201a8"
             ],
             [
              0.3333333333333333,
              "#9c179e"
             ],
             [
              0.4444444444444444,
              "#bd3786"
             ],
             [
              0.5555555555555556,
              "#d8576b"
             ],
             [
              0.6666666666666666,
              "#ed7953"
             ],
             [
              0.7777777777777778,
              "#fb9f3a"
             ],
             [
              0.8888888888888888,
              "#fdca26"
             ],
             [
              1,
              "#f0f921"
             ]
            ],
            "type": "histogram2dcontour"
           }
          ],
          "mesh3d": [
           {
            "colorbar": {
             "outlinewidth": 0,
             "ticks": ""
            },
            "type": "mesh3d"
           }
          ],
          "parcoords": [
           {
            "line": {
             "colorbar": {
              "outlinewidth": 0,
              "ticks": ""
             }
            },
            "type": "parcoords"
           }
          ],
          "pie": [
           {
            "automargin": true,
            "type": "pie"
           }
          ],
          "scatter": [
           {
            "fillpattern": {
             "fillmode": "overlay",
             "size": 10,
             "solidity": 0.2
            },
            "type": "scatter"
           }
          ],
          "scatter3d": [
           {
            "line": {
             "colorbar": {
              "outlinewidth": 0,
              "ticks": ""
             }
            },
            "marker": {
             "colorbar": {
              "outlinewidth": 0,
              "ticks": ""
             }
            },
            "type": "scatter3d"
           }
          ],
          "scattercarpet": [
           {
            "marker": {
             "colorbar": {
              "outlinewidth": 0,
              "ticks": ""
             }
            },
            "type": "scattercarpet"
           }
          ],
          "scattergeo": [
           {
            "marker": {
             "colorbar": {
              "outlinewidth": 0,
              "ticks": ""
             }
            },
            "type": "scattergeo"
           }
          ],
          "scattergl": [
           {
            "marker": {
             "colorbar": {
              "outlinewidth": 0,
              "ticks": ""
             }
            },
            "type": "scattergl"
           }
          ],
          "scattermapbox": [
           {
            "marker": {
             "colorbar": {
              "outlinewidth": 0,
              "ticks": ""
             }
            },
            "type": "scattermapbox"
           }
          ],
          "scatterpolar": [
           {
            "marker": {
             "colorbar": {
              "outlinewidth": 0,
              "ticks": ""
             }
            },
            "type": "scatterpolar"
           }
          ],
          "scatterpolargl": [
           {
            "marker": {
             "colorbar": {
              "outlinewidth": 0,
              "ticks": ""
             }
            },
            "type": "scatterpolargl"
           }
          ],
          "scatterternary": [
           {
            "marker": {
             "colorbar": {
              "outlinewidth": 0,
              "ticks": ""
             }
            },
            "type": "scatterternary"
           }
          ],
          "surface": [
           {
            "colorbar": {
             "outlinewidth": 0,
             "ticks": ""
            },
            "colorscale": [
             [
              0,
              "#0d0887"
             ],
             [
              0.1111111111111111,
              "#46039f"
             ],
             [
              0.2222222222222222,
              "#7201a8"
             ],
             [
              0.3333333333333333,
              "#9c179e"
             ],
             [
              0.4444444444444444,
              "#bd3786"
             ],
             [
              0.5555555555555556,
              "#d8576b"
             ],
             [
              0.6666666666666666,
              "#ed7953"
             ],
             [
              0.7777777777777778,
              "#fb9f3a"
             ],
             [
              0.8888888888888888,
              "#fdca26"
             ],
             [
              1,
              "#f0f921"
             ]
            ],
            "type": "surface"
           }
          ],
          "table": [
           {
            "cells": {
             "fill": {
              "color": "#EBF0F8"
             },
             "line": {
              "color": "white"
             }
            },
            "header": {
             "fill": {
              "color": "#C8D4E3"
             },
             "line": {
              "color": "white"
             }
            },
            "type": "table"
           }
          ]
         },
         "layout": {
          "annotationdefaults": {
           "arrowcolor": "#2a3f5f",
           "arrowhead": 0,
           "arrowwidth": 1
          },
          "autotypenumbers": "strict",
          "coloraxis": {
           "colorbar": {
            "outlinewidth": 0,
            "ticks": ""
           }
          },
          "colorscale": {
           "diverging": [
            [
             0,
             "#8e0152"
            ],
            [
             0.1,
             "#c51b7d"
            ],
            [
             0.2,
             "#de77ae"
            ],
            [
             0.3,
             "#f1b6da"
            ],
            [
             0.4,
             "#fde0ef"
            ],
            [
             0.5,
             "#f7f7f7"
            ],
            [
             0.6,
             "#e6f5d0"
            ],
            [
             0.7,
             "#b8e186"
            ],
            [
             0.8,
             "#7fbc41"
            ],
            [
             0.9,
             "#4d9221"
            ],
            [
             1,
             "#276419"
            ]
           ],
           "sequential": [
            [
             0,
             "#0d0887"
            ],
            [
             0.1111111111111111,
             "#46039f"
            ],
            [
             0.2222222222222222,
             "#7201a8"
            ],
            [
             0.3333333333333333,
             "#9c179e"
            ],
            [
             0.4444444444444444,
             "#bd3786"
            ],
            [
             0.5555555555555556,
             "#d8576b"
            ],
            [
             0.6666666666666666,
             "#ed7953"
            ],
            [
             0.7777777777777778,
             "#fb9f3a"
            ],
            [
             0.8888888888888888,
             "#fdca26"
            ],
            [
             1,
             "#f0f921"
            ]
           ],
           "sequentialminus": [
            [
             0,
             "#0d0887"
            ],
            [
             0.1111111111111111,
             "#46039f"
            ],
            [
             0.2222222222222222,
             "#7201a8"
            ],
            [
             0.3333333333333333,
             "#9c179e"
            ],
            [
             0.4444444444444444,
             "#bd3786"
            ],
            [
             0.5555555555555556,
             "#d8576b"
            ],
            [
             0.6666666666666666,
             "#ed7953"
            ],
            [
             0.7777777777777778,
             "#fb9f3a"
            ],
            [
             0.8888888888888888,
             "#fdca26"
            ],
            [
             1,
             "#f0f921"
            ]
           ]
          },
          "colorway": [
           "#636efa",
           "#EF553B",
           "#00cc96",
           "#ab63fa",
           "#FFA15A",
           "#19d3f3",
           "#FF6692",
           "#B6E880",
           "#FF97FF",
           "#FECB52"
          ],
          "font": {
           "color": "#2a3f5f"
          },
          "geo": {
           "bgcolor": "white",
           "lakecolor": "white",
           "landcolor": "#E5ECF6",
           "showlakes": true,
           "showland": true,
           "subunitcolor": "white"
          },
          "hoverlabel": {
           "align": "left"
          },
          "hovermode": "closest",
          "mapbox": {
           "style": "light"
          },
          "paper_bgcolor": "white",
          "plot_bgcolor": "#E5ECF6",
          "polar": {
           "angularaxis": {
            "gridcolor": "white",
            "linecolor": "white",
            "ticks": ""
           },
           "bgcolor": "#E5ECF6",
           "radialaxis": {
            "gridcolor": "white",
            "linecolor": "white",
            "ticks": ""
           }
          },
          "scene": {
           "xaxis": {
            "backgroundcolor": "#E5ECF6",
            "gridcolor": "white",
            "gridwidth": 2,
            "linecolor": "white",
            "showbackground": true,
            "ticks": "",
            "zerolinecolor": "white"
           },
           "yaxis": {
            "backgroundcolor": "#E5ECF6",
            "gridcolor": "white",
            "gridwidth": 2,
            "linecolor": "white",
            "showbackground": true,
            "ticks": "",
            "zerolinecolor": "white"
           },
           "zaxis": {
            "backgroundcolor": "#E5ECF6",
            "gridcolor": "white",
            "gridwidth": 2,
            "linecolor": "white",
            "showbackground": true,
            "ticks": "",
            "zerolinecolor": "white"
           }
          },
          "shapedefaults": {
           "line": {
            "color": "#2a3f5f"
           }
          },
          "ternary": {
           "aaxis": {
            "gridcolor": "white",
            "linecolor": "white",
            "ticks": ""
           },
           "baxis": {
            "gridcolor": "white",
            "linecolor": "white",
            "ticks": ""
           },
           "bgcolor": "#E5ECF6",
           "caxis": {
            "gridcolor": "white",
            "linecolor": "white",
            "ticks": ""
           }
          },
          "title": {
           "x": 0.05
          },
          "xaxis": {
           "automargin": true,
           "gridcolor": "white",
           "linecolor": "white",
           "ticks": "",
           "title": {
            "standoff": 15
           },
           "zerolinecolor": "white",
           "zerolinewidth": 2
          },
          "yaxis": {
           "automargin": true,
           "gridcolor": "white",
           "linecolor": "white",
           "ticks": "",
           "title": {
            "standoff": 15
           },
           "zerolinecolor": "white",
           "zerolinewidth": 2
          }
         }
        },
        "xaxis": {
         "anchor": "y",
         "domain": [
          0,
          1
         ],
         "title": {
          "text": "avg_time_to_los_mean_last"
         }
        },
        "yaxis": {
         "anchor": "x",
         "domain": [
          0,
          1
         ],
         "title": {
          "text": "avg_time_to_los_mean"
         }
        }
       }
      },
      "text/html": [
       "<div>                            <div id=\"bf7cdcdf-8064-41cc-8865-8742d414e610\" class=\"plotly-graph-div\" style=\"height:525px; width:100%;\"></div>            <script type=\"text/javascript\">                require([\"plotly\"], function(Plotly) {                    window.PLOTLYENV=window.PLOTLYENV || {};                                    if (document.getElementById(\"bf7cdcdf-8064-41cc-8865-8742d414e610\")) {                    Plotly.newPlot(                        \"bf7cdcdf-8064-41cc-8865-8742d414e610\",                        [{\"customdata\":[[\"F.Gore\",2019,36.0],[\"F.Gore\",2020,37.0],[\"A.Peterson\",2019,34.0],[\"A.Peterson\",2020,35.0],[\"L.McCoy\",2018,30.0],[\"L.McCoy\",2019,31.0],[\"L.Blount\",2018,31.0],[\"M.Ingram\",2019,29.0],[\"L.Murray\",2019,29.0],[\"L.Murray\",2020,30.0],[\"L.Murray\",2021,31.0],[\"L.Murray\",2022,32.0],[\"C.Patterson\",2022,31.0],[\"C.Hyde\",2017,26.0],[\"C.Hyde\",2018,27.0],[\"C.Hyde\",2019,28.0],[\"R.Mostert\",2020,28.0],[\"T.Coleman\",2018,25.0],[\"T.Coleman\",2019,26.0],[\"M.Davis\",2021,28.0],[\"M.Gordon\",2019,26.0],[\"M.Gordon\",2020,27.0],[\"M.Gordon\",2021,28.0],[\"T.Gurley\",2019,25.0],[\"T.Gurley\",2020,26.0],[\"A.Collins\",2018,24.0],[\"P.Barber\",2019,25.0],[\"D.Henry\",2019,25.0],[\"D.Henry\",2020,26.0],[\"D.Henry\",2021,27.0],[\"D.Henry\",2022,28.0],[\"J.Howard\",2019,24.0],[\"E.Elliott\",2017,22.0],[\"E.Elliott\",2018,23.0],[\"E.Elliott\",2019,24.0],[\"E.Elliott\",2020,25.0],[\"E.Elliott\",2021,26.0],[\"E.Elliott\",2022,27.0],[\"K.Drake\",2018,24.0],[\"K.Drake\",2019,25.0],[\"K.Drake\",2020,26.0],[\"C.McCaffrey\",2019,23.0],[\"A.Jones\",2019,24.0],[\"A.Jones\",2020,25.0],[\"A.Jones\",2021,26.0],[\"A.Jones\",2022,27.0],[\"M.Breida\",2019,24.0],[\"J.Conner\",2019,24.0],[\"J.Conner\",2020,25.0],[\"J.Conner\",2021,26.0],[\"J.Conner\",2022,27.0],[\"C.Carson\",2019,24.0],[\"C.Carson\",2020,25.0],[\"A.Ekeler\",2019,24.0],[\"A.Ekeler\",2020,25.0],[\"A.Ekeler\",2021,26.0],[\"A.Ekeler\",2022,27.0],[\"L.Fournette\",2018,23.0],[\"L.Fournette\",2019,24.0],[\"L.Fournette\",2022,27.0],[\"D.Cook\",2019,24.0],[\"D.Cook\",2020,25.0],[\"D.Cook\",2021,26.0],[\"D.Cook\",2022,27.0],[\"J.Mixon\",2019,23.0],[\"J.Mixon\",2020,24.0],[\"J.Mixon\",2021,25.0],[\"J.Mixon\",2022,26.0],[\"A.Kamara\",2018,23.0],[\"A.Kamara\",2019,24.0],[\"A.Kamara\",2020,25.0],[\"A.Kamara\",2021,26.0],[\"A.Kamara\",2022,27.0],[\"K.Hunt\",2018,23.0],[\"D.Foreman\",2022,26.0],[\"J.Williams\",2019,24.0],[\"J.Williams\",2020,25.0],[\"J.Williams\",2021,26.0],[\"M.Mack\",2019,23.0],[\"P.Lindsay\",2019,25.0],[\"P.Lindsay\",2020,26.0],[\"G.Edwards\",2019,24.0],[\"G.Edwards\",2020,25.0],[\"K.Johnson\",2019,22.0],[\"N.Chubb\",2019,23.0],[\"N.Chubb\",2020,24.0],[\"N.Chubb\",2021,25.0],[\"N.Chubb\",2022,26.0],[\"R.Jones\",2020,23.0],[\"R.Jones\",2021,24.0],[\"R.Freeman\",2019,23.0],[\"S.Barkley\",2019,22.0],[\"S.Barkley\",2022,25.0],[\"S.Michel\",2019,24.0],[\"M.Sanders\",2020,23.0],[\"M.Sanders\",2021,24.0],[\"M.Sanders\",2022,25.0],[\"D.Singletary\",2020,22.0],[\"D.Singletary\",2021,23.0],[\"D.Singletary\",2022,24.0],[\"T.Pollard\",2021,24.0],[\"T.Pollard\",2022,25.0],[\"M.Gaskin\",2021,24.0],[\"D.Harris\",2021,24.0],[\"D.Harris\",2022,25.0],[\"D.Henderson\",2021,24.0],[\"D.Montgomery\",2020,23.0],[\"D.Montgomery\",2021,24.0],[\"D.Montgomery\",2022,25.0],[\"J.Jacobs\",2020,22.0],[\"J.Jacobs\",2021,23.0],[\"J.Jacobs\",2022,24.0],[\"J.Robinson\",2021,23.0],[\"J.Robinson\",2022,24.0],[\"J.Taylor\",2021,22.0],[\"J.Taylor\",2022,23.0],[\"A.Dillon\",2022,24.0],[\"D.Swift\",2021,22.0],[\"A.Gibson\",2021,23.0],[\"A.Gibson\",2022,24.0],[\"C.Edwards-Helaire\",2021,22.0],[\"R.Stevenson\",2022,24.0],[\"N.Harris\",2022,24.0],[\"K.Herbert\",2022,24.0],[\"Mi.Carter\",2022,23.0]],\"hovertemplate\":\"avg_time_to_los_mean_last=%{x}\\u003cbr\\u003eavg_time_to_los_mean=%{y}\\u003cbr\\u003erusher=%{customdata[0]}\\u003cbr\\u003eseason=%{customdata[1]}\\u003cbr\\u003eage=%{customdata[2]}\\u003cextra\\u003e\\u003c\\u002fextra\\u003e\",\"legendgroup\":\"\",\"marker\":{\"color\":\"#636efa\",\"symbol\":\"circle\"},\"mode\":\"markers\",\"name\":\"\",\"orientation\":\"v\",\"showlegend\":false,\"x\":[2.4685519857159584,2.5443944009580375,2.9625912223474464,2.8547761657263315,2.938563840689164,2.962347391118115,2.5992239157509163,2.5569161257985016,2.744173729242334,2.630161127164316,2.569605339466093,2.6554820286195286,2.808878302055088,2.6931100138513675,2.81503154589372,2.9684407977664753,2.8316562810574437,2.7392466346153843,2.8358967490026314,2.778744594876132,2.7804702197236915,2.729422617012617,2.903958330586906,2.7545151854910648,2.9032607956935688,3.0107998012233668,2.7661857132525993,2.8732305925987145,2.740889775784024,2.752989436441961,2.74200311803302,2.5281310991538155,2.8241715564727756,2.921400728426052,2.8659363037100545,2.7152427759449345,2.610804555567971,2.77905087894132,2.9282037698412697,2.83641977543154,2.8402293841333948,2.761112027340761,2.6682966440966442,2.756946371761639,2.724827604256482,2.6890067664658575,2.859022388059701,2.8574091229892957,2.743568359499185,2.969856737375971,2.727383256343989,2.8159678610645464,2.8343279352226696,2.951251144094001,3.022345886809269,2.8691361110194835,2.680178998005778,2.523400156230051,2.635947635158959,2.6339759773797207,2.805061882372014,2.877139912674409,2.8604465797182304,2.772473879700332,2.744964934077993,2.8853365866676475,2.731259409482856,2.8832857364514655,2.860201785714286,2.679065303575258,2.755820432365147,2.742200536031637,2.788499705186766,2.8504357184396816,2.710627722024057,2.7233320299985437,2.557208256029685,2.473525779153767,2.804475008047508,2.6206658726481864,2.960108955377023,2.4277401348927765,2.632735811688312,2.9661132024882026,2.9224082653529253,2.964744815145384,3.0579348532333537,3.1446747275537437,2.6135201276501276,2.47421588794645,2.897774620980871,2.972526435220391,2.8859829192980513,2.688964948842875,2.947161852805419,2.8710656256971956,2.7676102315300293,2.9310959894777135,2.862658801096247,2.8309287033821793,2.7746640543364682,2.901031786731787,2.7314523067210565,2.7268857574043603,2.5958674048174046,2.7863349008178333,2.687025527532385,2.745662587181985,2.7255515586227745,2.6998911763940088,2.6915090816200475,2.6971644446801815,2.695831878235026,2.8208322463020297,2.8288397202283,2.798137959223984,2.5663625220278594,2.76937257266543,2.778796093238962,2.6816830696773355,2.823014042467417,2.746165579436903,2.801211857304936,2.9342074250919397,2.8209642696809363],\"xaxis\":\"x\",\"y\":[2.5443944009580375,2.6170792687296363,2.8547761657263315,2.616606405717128,2.962347391118115,2.7263389092538284,2.76484441624003,2.714746581834315,2.630161127164316,2.569605339466093,2.6554820286195286,2.652282174383587,2.806273288528374,2.81503154589372,2.9684407977664753,2.7492897280660515,2.8894373606932655,2.8358967490026314,2.907951931361122,2.81527654115351,2.729422617012617,2.903958330586906,2.787537135566787,2.9032607956935688,2.9029236370573868,3.0327272469593898,2.6946087143960047,2.740889775784024,2.752989436441961,2.74200311803302,2.694550746808863,2.7798859041999666,2.921400728426052,2.8659363037100545,2.7152427759449345,2.610804555567971,2.77905087894132,2.7235241775674583,2.83641977543154,2.8402293841333948,2.74949508504732,2.6625599613572435,2.756946371761639,2.724827604256482,2.6890067664658575,2.852448940782658,2.961752256123797,2.743568359499185,2.969856737375971,2.727383256343989,2.7515170074026014,2.8343279352226696,2.851131361804716,3.022345886809269,2.8691361110194835,2.680178998005778,2.739774366303986,2.635947635158959,2.771661159747668,2.7216346305295853,2.877139912674409,2.8604465797182304,2.772473879700332,2.9190420220665017,2.8853365866676475,2.731259409482856,2.8832857364514655,2.6783225554266,2.679065303575258,2.755820432365147,2.742200536031637,2.788499705186766,2.7669338311067553,2.7217641783588795,2.6952601207445706,2.557208256029685,2.473525779153767,2.761118109996729,3.084247810160306,2.960108955377023,3.06023676445387,2.632735811688312,2.69090455304929,2.68320079611973,2.964744815145384,3.0579348532333537,3.1446747275537437,3.093782864541496,2.47421588794645,2.4301823529411766,2.8933816734495017,2.9170403238448164,2.7014054974633903,2.6913937557074115,2.8710656256971956,2.7676102315300293,2.7971691488949837,2.862658801096247,2.8309287033821793,2.6998207808432158,2.901031786731787,2.9155070571815545,2.757769171770374,2.5958674048174046,2.628597162097162,2.847202855477856,2.745662587181985,2.7255515586227745,2.761481395541976,2.6915090816200475,2.6971644446801815,2.781297927603911,2.8208322463020297,2.8597559873516505,2.798137959223984,2.763758540700649,2.5946084224137107,2.9558439785664885,2.6816830696773355,2.7385941631353394,2.832372437289625,2.7109149964238366,2.721978113716972,2.8366800289290723,2.846857087357087],\"yaxis\":\"y\",\"type\":\"scatter\"}],                        {\"template\":{\"data\":{\"histogram2dcontour\":[{\"type\":\"histogram2dcontour\",\"colorbar\":{\"outlinewidth\":0,\"ticks\":\"\"},\"colorscale\":[[0.0,\"#0d0887\"],[0.1111111111111111,\"#46039f\"],[0.2222222222222222,\"#7201a8\"],[0.3333333333333333,\"#9c179e\"],[0.4444444444444444,\"#bd3786\"],[0.5555555555555556,\"#d8576b\"],[0.6666666666666666,\"#ed7953\"],[0.7777777777777778,\"#fb9f3a\"],[0.8888888888888888,\"#fdca26\"],[1.0,\"#f0f921\"]]}],\"choropleth\":[{\"type\":\"choropleth\",\"colorbar\":{\"outlinewidth\":0,\"ticks\":\"\"}}],\"histogram2d\":[{\"type\":\"histogram2d\",\"colorbar\":{\"outlinewidth\":0,\"ticks\":\"\"},\"colorscale\":[[0.0,\"#0d0887\"],[0.1111111111111111,\"#46039f\"],[0.2222222222222222,\"#7201a8\"],[0.3333333333333333,\"#9c179e\"],[0.4444444444444444,\"#bd3786\"],[0.5555555555555556,\"#d8576b\"],[0.6666666666666666,\"#ed7953\"],[0.7777777777777778,\"#fb9f3a\"],[0.8888888888888888,\"#fdca26\"],[1.0,\"#f0f921\"]]}],\"heatmap\":[{\"type\":\"heatmap\",\"colorbar\":{\"outlinewidth\":0,\"ticks\":\"\"},\"colorscale\":[[0.0,\"#0d0887\"],[0.1111111111111111,\"#46039f\"],[0.2222222222222222,\"#7201a8\"],[0.3333333333333333,\"#9c179e\"],[0.4444444444444444,\"#bd3786\"],[0.5555555555555556,\"#d8576b\"],[0.6666666666666666,\"#ed7953\"],[0.7777777777777778,\"#fb9f3a\"],[0.8888888888888888,\"#fdca26\"],[1.0,\"#f0f921\"]]}],\"heatmapgl\":[{\"type\":\"heatmapgl\",\"colorbar\":{\"outlinewidth\":0,\"ticks\":\"\"},\"colorscale\":[[0.0,\"#0d0887\"],[0.1111111111111111,\"#46039f\"],[0.2222222222222222,\"#7201a8\"],[0.3333333333333333,\"#9c179e\"],[0.4444444444444444,\"#bd3786\"],[0.5555555555555556,\"#d8576b\"],[0.6666666666666666,\"#ed7953\"],[0.7777777777777778,\"#fb9f3a\"],[0.8888888888888888,\"#fdca26\"],[1.0,\"#f0f921\"]]}],\"contourcarpet\":[{\"type\":\"contourcarpet\",\"colorbar\":{\"outlinewidth\":0,\"ticks\":\"\"}}],\"contour\":[{\"type\":\"contour\",\"colorbar\":{\"outlinewidth\":0,\"ticks\":\"\"},\"colorscale\":[[0.0,\"#0d0887\"],[0.1111111111111111,\"#46039f\"],[0.2222222222222222,\"#7201a8\"],[0.3333333333333333,\"#9c179e\"],[0.4444444444444444,\"#bd3786\"],[0.5555555555555556,\"#d8576b\"],[0.6666666666666666,\"#ed7953\"],[0.7777777777777778,\"#fb9f3a\"],[0.8888888888888888,\"#fdca26\"],[1.0,\"#f0f921\"]]}],\"surface\":[{\"type\":\"surface\",\"colorbar\":{\"outlinewidth\":0,\"ticks\":\"\"},\"colorscale\":[[0.0,\"#0d0887\"],[0.1111111111111111,\"#46039f\"],[0.2222222222222222,\"#7201a8\"],[0.3333333333333333,\"#9c179e\"],[0.4444444444444444,\"#bd3786\"],[0.5555555555555556,\"#d8576b\"],[0.6666666666666666,\"#ed7953\"],[0.7777777777777778,\"#fb9f3a\"],[0.8888888888888888,\"#fdca26\"],[1.0,\"#f0f921\"]]}],\"mesh3d\":[{\"type\":\"mesh3d\",\"colorbar\":{\"outlinewidth\":0,\"ticks\":\"\"}}],\"scatter\":[{\"fillpattern\":{\"fillmode\":\"overlay\",\"size\":10,\"solidity\":0.2},\"type\":\"scatter\"}],\"parcoords\":[{\"type\":\"parcoords\",\"line\":{\"colorbar\":{\"outlinewidth\":0,\"ticks\":\"\"}}}],\"scatterpolargl\":[{\"type\":\"scatterpolargl\",\"marker\":{\"colorbar\":{\"outlinewidth\":0,\"ticks\":\"\"}}}],\"bar\":[{\"error_x\":{\"color\":\"#2a3f5f\"},\"error_y\":{\"color\":\"#2a3f5f\"},\"marker\":{\"line\":{\"color\":\"#E5ECF6\",\"width\":0.5},\"pattern\":{\"fillmode\":\"overlay\",\"size\":10,\"solidity\":0.2}},\"type\":\"bar\"}],\"scattergeo\":[{\"type\":\"scattergeo\",\"marker\":{\"colorbar\":{\"outlinewidth\":0,\"ticks\":\"\"}}}],\"scatterpolar\":[{\"type\":\"scatterpolar\",\"marker\":{\"colorbar\":{\"outlinewidth\":0,\"ticks\":\"\"}}}],\"histogram\":[{\"marker\":{\"pattern\":{\"fillmode\":\"overlay\",\"size\":10,\"solidity\":0.2}},\"type\":\"histogram\"}],\"scattergl\":[{\"type\":\"scattergl\",\"marker\":{\"colorbar\":{\"outlinewidth\":0,\"ticks\":\"\"}}}],\"scatter3d\":[{\"type\":\"scatter3d\",\"line\":{\"colorbar\":{\"outlinewidth\":0,\"ticks\":\"\"}},\"marker\":{\"colorbar\":{\"outlinewidth\":0,\"ticks\":\"\"}}}],\"scattermapbox\":[{\"type\":\"scattermapbox\",\"marker\":{\"colorbar\":{\"outlinewidth\":0,\"ticks\":\"\"}}}],\"scatterternary\":[{\"type\":\"scatterternary\",\"marker\":{\"colorbar\":{\"outlinewidth\":0,\"ticks\":\"\"}}}],\"scattercarpet\":[{\"type\":\"scattercarpet\",\"marker\":{\"colorbar\":{\"outlinewidth\":0,\"ticks\":\"\"}}}],\"carpet\":[{\"aaxis\":{\"endlinecolor\":\"#2a3f5f\",\"gridcolor\":\"white\",\"linecolor\":\"white\",\"minorgridcolor\":\"white\",\"startlinecolor\":\"#2a3f5f\"},\"baxis\":{\"endlinecolor\":\"#2a3f5f\",\"gridcolor\":\"white\",\"linecolor\":\"white\",\"minorgridcolor\":\"white\",\"startlinecolor\":\"#2a3f5f\"},\"type\":\"carpet\"}],\"table\":[{\"cells\":{\"fill\":{\"color\":\"#EBF0F8\"},\"line\":{\"color\":\"white\"}},\"header\":{\"fill\":{\"color\":\"#C8D4E3\"},\"line\":{\"color\":\"white\"}},\"type\":\"table\"}],\"barpolar\":[{\"marker\":{\"line\":{\"color\":\"#E5ECF6\",\"width\":0.5},\"pattern\":{\"fillmode\":\"overlay\",\"size\":10,\"solidity\":0.2}},\"type\":\"barpolar\"}],\"pie\":[{\"automargin\":true,\"type\":\"pie\"}]},\"layout\":{\"autotypenumbers\":\"strict\",\"colorway\":[\"#636efa\",\"#EF553B\",\"#00cc96\",\"#ab63fa\",\"#FFA15A\",\"#19d3f3\",\"#FF6692\",\"#B6E880\",\"#FF97FF\",\"#FECB52\"],\"font\":{\"color\":\"#2a3f5f\"},\"hovermode\":\"closest\",\"hoverlabel\":{\"align\":\"left\"},\"paper_bgcolor\":\"white\",\"plot_bgcolor\":\"#E5ECF6\",\"polar\":{\"bgcolor\":\"#E5ECF6\",\"angularaxis\":{\"gridcolor\":\"white\",\"linecolor\":\"white\",\"ticks\":\"\"},\"radialaxis\":{\"gridcolor\":\"white\",\"linecolor\":\"white\",\"ticks\":\"\"}},\"ternary\":{\"bgcolor\":\"#E5ECF6\",\"aaxis\":{\"gridcolor\":\"white\",\"linecolor\":\"white\",\"ticks\":\"\"},\"baxis\":{\"gridcolor\":\"white\",\"linecolor\":\"white\",\"ticks\":\"\"},\"caxis\":{\"gridcolor\":\"white\",\"linecolor\":\"white\",\"ticks\":\"\"}},\"coloraxis\":{\"colorbar\":{\"outlinewidth\":0,\"ticks\":\"\"}},\"colorscale\":{\"sequential\":[[0.0,\"#0d0887\"],[0.1111111111111111,\"#46039f\"],[0.2222222222222222,\"#7201a8\"],[0.3333333333333333,\"#9c179e\"],[0.4444444444444444,\"#bd3786\"],[0.5555555555555556,\"#d8576b\"],[0.6666666666666666,\"#ed7953\"],[0.7777777777777778,\"#fb9f3a\"],[0.8888888888888888,\"#fdca26\"],[1.0,\"#f0f921\"]],\"sequentialminus\":[[0.0,\"#0d0887\"],[0.1111111111111111,\"#46039f\"],[0.2222222222222222,\"#7201a8\"],[0.3333333333333333,\"#9c179e\"],[0.4444444444444444,\"#bd3786\"],[0.5555555555555556,\"#d8576b\"],[0.6666666666666666,\"#ed7953\"],[0.7777777777777778,\"#fb9f3a\"],[0.8888888888888888,\"#fdca26\"],[1.0,\"#f0f921\"]],\"diverging\":[[0,\"#8e0152\"],[0.1,\"#c51b7d\"],[0.2,\"#de77ae\"],[0.3,\"#f1b6da\"],[0.4,\"#fde0ef\"],[0.5,\"#f7f7f7\"],[0.6,\"#e6f5d0\"],[0.7,\"#b8e186\"],[0.8,\"#7fbc41\"],[0.9,\"#4d9221\"],[1,\"#276419\"]]},\"xaxis\":{\"gridcolor\":\"white\",\"linecolor\":\"white\",\"ticks\":\"\",\"title\":{\"standoff\":15},\"zerolinecolor\":\"white\",\"automargin\":true,\"zerolinewidth\":2},\"yaxis\":{\"gridcolor\":\"white\",\"linecolor\":\"white\",\"ticks\":\"\",\"title\":{\"standoff\":15},\"zerolinecolor\":\"white\",\"automargin\":true,\"zerolinewidth\":2},\"scene\":{\"xaxis\":{\"backgroundcolor\":\"#E5ECF6\",\"gridcolor\":\"white\",\"linecolor\":\"white\",\"showbackground\":true,\"ticks\":\"\",\"zerolinecolor\":\"white\",\"gridwidth\":2},\"yaxis\":{\"backgroundcolor\":\"#E5ECF6\",\"gridcolor\":\"white\",\"linecolor\":\"white\",\"showbackground\":true,\"ticks\":\"\",\"zerolinecolor\":\"white\",\"gridwidth\":2},\"zaxis\":{\"backgroundcolor\":\"#E5ECF6\",\"gridcolor\":\"white\",\"linecolor\":\"white\",\"showbackground\":true,\"ticks\":\"\",\"zerolinecolor\":\"white\",\"gridwidth\":2}},\"shapedefaults\":{\"line\":{\"color\":\"#2a3f5f\"}},\"annotationdefaults\":{\"arrowcolor\":\"#2a3f5f\",\"arrowhead\":0,\"arrowwidth\":1},\"geo\":{\"bgcolor\":\"white\",\"landcolor\":\"#E5ECF6\",\"subunitcolor\":\"white\",\"showland\":true,\"showlakes\":true,\"lakecolor\":\"white\"},\"title\":{\"x\":0.05},\"mapbox\":{\"style\":\"light\"}}},\"xaxis\":{\"anchor\":\"y\",\"domain\":[0.0,1.0],\"title\":{\"text\":\"avg_time_to_los_mean_last\"}},\"yaxis\":{\"anchor\":\"x\",\"domain\":[0.0,1.0],\"title\":{\"text\":\"avg_time_to_los_mean\"}},\"legend\":{\"tracegroupgap\":0},\"margin\":{\"t\":60}},                        {\"responsive\": true}                    ).then(function(){\n",
       "                            \n",
       "var gd = document.getElementById('bf7cdcdf-8064-41cc-8865-8742d414e610');\n",
       "var x = new MutationObserver(function (mutations, observer) {{\n",
       "        var display = window.getComputedStyle(gd).display;\n",
       "        if (!display || display === 'none') {{\n",
       "            console.log([gd, 'removed!']);\n",
       "            Plotly.purge(gd);\n",
       "            observer.disconnect();\n",
       "        }}\n",
       "}});\n",
       "\n",
       "// Listen for the removal of the full notebook cells\n",
       "var notebookContainer = gd.closest('#notebook-container');\n",
       "if (notebookContainer) {{\n",
       "    x.observe(notebookContainer, {childList: true});\n",
       "}}\n",
       "\n",
       "// Listen for the clearing of the current output cell\n",
       "var outputEl = gd.closest('.output');\n",
       "if (outputEl) {{\n",
       "    x.observe(outputEl, {childList: true});\n",
       "}}\n",
       "\n",
       "                        })                };                });            </script>        </div>"
      ]
     },
     "metadata": {},
     "output_type": "display_data"
    }
   ],
   "source": [
    "query = \"rush_attempt_sum > 100 and rush_attempt_sum_last > 100\"\n",
    "t = filter_df(df, query, x, y)"
   ]
  },
  {
   "cell_type": "code",
   "execution_count": 75,
   "id": "bcb3c2c1",
   "metadata": {},
   "outputs": [
    {
     "data": {
      "text/html": [
       "<div>\n",
       "<style scoped>\n",
       "    .dataframe tbody tr th:only-of-type {\n",
       "        vertical-align: middle;\n",
       "    }\n",
       "\n",
       "    .dataframe tbody tr th {\n",
       "        vertical-align: top;\n",
       "    }\n",
       "\n",
       "    .dataframe thead th {\n",
       "        text-align: right;\n",
       "    }\n",
       "</style>\n",
       "<table border=\"1\" class=\"dataframe\">\n",
       "  <thead>\n",
       "    <tr style=\"text-align: right;\">\n",
       "      <th></th>\n",
       "      <th>avg_time_to_los_mean</th>\n",
       "      <th>rush_yards_over_expected_sum</th>\n",
       "      <th>fantasy_points</th>\n",
       "      <th>avg_time_to_los_mean_last</th>\n",
       "      <th>rush_yards_over_expected_sum_last</th>\n",
       "      <th>fantasy_points_last</th>\n",
       "    </tr>\n",
       "  </thead>\n",
       "  <tbody>\n",
       "    <tr>\n",
       "      <th>avg_time_to_los_mean</th>\n",
       "      <td>1.000000</td>\n",
       "      <td>0.134912</td>\n",
       "      <td>0.012071</td>\n",
       "      <td>0.589051</td>\n",
       "      <td>0.219092</td>\n",
       "      <td>0.007970</td>\n",
       "    </tr>\n",
       "    <tr>\n",
       "      <th>rush_yards_over_expected_sum</th>\n",
       "      <td>0.134912</td>\n",
       "      <td>1.000000</td>\n",
       "      <td>0.774918</td>\n",
       "      <td>0.415707</td>\n",
       "      <td>0.545975</td>\n",
       "      <td>0.079122</td>\n",
       "    </tr>\n",
       "    <tr>\n",
       "      <th>fantasy_points</th>\n",
       "      <td>0.012071</td>\n",
       "      <td>0.774918</td>\n",
       "      <td>1.000000</td>\n",
       "      <td>0.087277</td>\n",
       "      <td>0.335927</td>\n",
       "      <td>0.196065</td>\n",
       "    </tr>\n",
       "    <tr>\n",
       "      <th>avg_time_to_los_mean_last</th>\n",
       "      <td>0.589051</td>\n",
       "      <td>0.415707</td>\n",
       "      <td>0.087277</td>\n",
       "      <td>1.000000</td>\n",
       "      <td>0.361377</td>\n",
       "      <td>0.126986</td>\n",
       "    </tr>\n",
       "    <tr>\n",
       "      <th>rush_yards_over_expected_sum_last</th>\n",
       "      <td>0.219092</td>\n",
       "      <td>0.545975</td>\n",
       "      <td>0.335927</td>\n",
       "      <td>0.361377</td>\n",
       "      <td>1.000000</td>\n",
       "      <td>0.446147</td>\n",
       "    </tr>\n",
       "    <tr>\n",
       "      <th>fantasy_points_last</th>\n",
       "      <td>0.007970</td>\n",
       "      <td>0.079122</td>\n",
       "      <td>0.196065</td>\n",
       "      <td>0.126986</td>\n",
       "      <td>0.446147</td>\n",
       "      <td>1.000000</td>\n",
       "    </tr>\n",
       "  </tbody>\n",
       "</table>\n",
       "</div>"
      ],
      "text/plain": [
       "                                   avg_time_to_los_mean  \\\n",
       "avg_time_to_los_mean                           1.000000   \n",
       "rush_yards_over_expected_sum                   0.134912   \n",
       "fantasy_points                                 0.012071   \n",
       "avg_time_to_los_mean_last                      0.589051   \n",
       "rush_yards_over_expected_sum_last              0.219092   \n",
       "fantasy_points_last                            0.007970   \n",
       "\n",
       "                                   rush_yards_over_expected_sum  \\\n",
       "avg_time_to_los_mean                                   0.134912   \n",
       "rush_yards_over_expected_sum                           1.000000   \n",
       "fantasy_points                                         0.774918   \n",
       "avg_time_to_los_mean_last                              0.415707   \n",
       "rush_yards_over_expected_sum_last                      0.545975   \n",
       "fantasy_points_last                                    0.079122   \n",
       "\n",
       "                                   fantasy_points  avg_time_to_los_mean_last  \\\n",
       "avg_time_to_los_mean                     0.012071                   0.589051   \n",
       "rush_yards_over_expected_sum             0.774918                   0.415707   \n",
       "fantasy_points                           1.000000                   0.087277   \n",
       "avg_time_to_los_mean_last                0.087277                   1.000000   \n",
       "rush_yards_over_expected_sum_last        0.335927                   0.361377   \n",
       "fantasy_points_last                      0.196065                   0.126986   \n",
       "\n",
       "                                   rush_yards_over_expected_sum_last  \\\n",
       "avg_time_to_los_mean                                        0.219092   \n",
       "rush_yards_over_expected_sum                                0.545975   \n",
       "fantasy_points                                              0.335927   \n",
       "avg_time_to_los_mean_last                                   0.361377   \n",
       "rush_yards_over_expected_sum_last                           1.000000   \n",
       "fantasy_points_last                                         0.446147   \n",
       "\n",
       "                                   fantasy_points_last  \n",
       "avg_time_to_los_mean                          0.007970  \n",
       "rush_yards_over_expected_sum                  0.079122  \n",
       "fantasy_points                                0.196065  \n",
       "avg_time_to_los_mean_last                     0.126986  \n",
       "rush_yards_over_expected_sum_last             0.446147  \n",
       "fantasy_points_last                           1.000000  "
      ]
     },
     "execution_count": 75,
     "metadata": {},
     "output_type": "execute_result"
    }
   ],
   "source": [
    "t[[\"avg_time_to_los_mean\", \"rush_yards_over_expected_sum\", \"fantasy_points\",\n",
    "  \"avg_time_to_los_mean_last\", \"rush_yards_over_expected_sum_last\", \"fantasy_points_last\"]].corr()"
   ]
  },
  {
   "cell_type": "code",
   "execution_count": null,
   "id": "2e8ae81f",
   "metadata": {},
   "outputs": [],
   "source": []
  }
 ],
 "metadata": {
  "kernelspec": {
   "display_name": "plotly",
   "language": "python",
   "name": "plotly"
  },
  "language_info": {
   "codemirror_mode": {
    "name": "ipython",
    "version": 3
   },
   "file_extension": ".py",
   "mimetype": "text/x-python",
   "name": "python",
   "nbconvert_exporter": "python",
   "pygments_lexer": "ipython3",
   "version": "3.9.7"
  }
 },
 "nbformat": 4,
 "nbformat_minor": 5
}
