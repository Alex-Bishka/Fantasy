{
 "cells": [
  {
   "cell_type": "markdown",
   "id": "06b8ed2e",
   "metadata": {},
   "source": [
    "# Imports"
   ]
  },
  {
   "cell_type": "code",
   "execution_count": 1,
   "id": "d57e8d6c",
   "metadata": {},
   "outputs": [],
   "source": [
    "import pandas as pd\n",
    "import numpy as np"
   ]
  },
  {
   "cell_type": "code",
   "execution_count": 2,
   "id": "a9f5197d",
   "metadata": {},
   "outputs": [],
   "source": [
    "import nfl_data_py as nfl"
   ]
  },
  {
   "cell_type": "markdown",
   "id": "9e07cef3",
   "metadata": {},
   "source": [
    "# Grabbing Data"
   ]
  },
  {
   "cell_type": "code",
   "execution_count": null,
   "id": "bba11841",
   "metadata": {},
   "outputs": [],
   "source": [
    "seasons = range(2016, 2023 + 1)\n",
    "df_pbp = nfl.import_pbp_data(seasons) "
   ]
  }
 ],
 "metadata": {
  "kernelspec": {
   "display_name": "nfldata",
   "language": "python",
   "name": "nfldata"
  },
  "language_info": {
   "codemirror_mode": {
    "name": "ipython",
    "version": 3
   },
   "file_extension": ".py",
   "mimetype": "text/x-python",
   "name": "python",
   "nbconvert_exporter": "python",
   "pygments_lexer": "ipython3",
   "version": "3.9.7"
  }
 },
 "nbformat": 4,
 "nbformat_minor": 5
}
