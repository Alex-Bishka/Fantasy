{
 "cells": [
  {
   "cell_type": "markdown",
   "id": "fd3f3e4a",
   "metadata": {},
   "source": [
    "# Imports"
   ]
  },
  {
   "cell_type": "code",
   "execution_count": null,
   "id": "09331828",
   "metadata": {},
   "outputs": [],
   "source": [
    "import numpy as np\n",
    "import pandas as pd\n",
    "import nfl_data_py as nfl"
   ]
  },
  {
   "cell_type": "markdown",
   "id": "6c8b6b45",
   "metadata": {},
   "source": [
    "# Importing NFL Data"
   ]
  },
  {
   "cell_type": "markdown",
   "id": "7dc8c702",
   "metadata": {},
   "source": [
    "**TODO**: need to unqiuely label columns b/c some currently overlap with each other. Also should remove useless columns from each DF."
   ]
  },
  {
   "cell_type": "code",
   "execution_count": null,
   "id": "a9cd8a1b",
   "metadata": {},
   "outputs": [],
   "source": [
    "pfr_years = range(2018, 2023 + 1)"
   ]
  },
  {
   "cell_type": "markdown",
   "id": "8b1b548d",
   "metadata": {},
   "source": [
    "# Loading Basic Data"
   ]
  },
  {
   "cell_type": "markdown",
   "id": "44ae5a80",
   "metadata": {},
   "source": [
    "Loading in our current version of the filter data - this takes forever to grab due to the wikipedia queries."
   ]
  },
  {
   "cell_type": "code",
   "execution_count": null,
   "id": "1a5de251",
   "metadata": {},
   "outputs": [],
   "source": [
    "df_core = pd.read_pickle(\"../../FantasyData/data-frames/df_basic_ngs_snaps_1999_2023.pkl\")"
   ]
  },
  {
   "cell_type": "code",
   "execution_count": null,
   "id": "eb04bd67",
   "metadata": {},
   "outputs": [],
   "source": [
    "df_core.head()"
   ]
  },
  {
   "cell_type": "code",
   "execution_count": null,
   "id": "95c2829a",
   "metadata": {},
   "outputs": [],
   "source": [
    "df_core.columns[:60]"
   ]
  },
  {
   "cell_type": "markdown",
   "id": "26aecb16",
   "metadata": {},
   "source": [
    "# Loading Passing PFR Data"
   ]
  },
  {
   "cell_type": "code",
   "execution_count": null,
   "id": "35f2a6c5",
   "metadata": {},
   "outputs": [],
   "source": [
    "df_pfr_pass = nfl.import_seasonal_pfr(\"pass\", pfr_years)"
   ]
  },
  {
   "cell_type": "code",
   "execution_count": null,
   "id": "4f761b03",
   "metadata": {},
   "outputs": [],
   "source": [
    "df_pfr_pass.rename(columns={'pfr_id': \"pfr_player_id\"}, inplace=True)"
   ]
  },
  {
   "cell_type": "code",
   "execution_count": null,
   "id": "1632b523",
   "metadata": {},
   "outputs": [],
   "source": [
    "df_pfr_pass.head()"
   ]
  },
  {
   "cell_type": "code",
   "execution_count": null,
   "id": "d5f1f328",
   "metadata": {},
   "outputs": [],
   "source": [
    "df_pfr_pass.columns"
   ]
  },
  {
   "cell_type": "code",
   "execution_count": null,
   "id": "32c2ae6c",
   "metadata": {},
   "outputs": [],
   "source": [
    "for col in df_pfr_pass.columns:\n",
    "    if col in df_core.columns:\n",
    "        print(col)"
   ]
  },
  {
   "cell_type": "markdown",
   "id": "5217bc47",
   "metadata": {},
   "source": [
    "# Loading Receiving PFR Data"
   ]
  },
  {
   "cell_type": "code",
   "execution_count": null,
   "id": "974b2dc6",
   "metadata": {},
   "outputs": [],
   "source": [
    "df_pfr_rec = nfl.import_seasonal_pfr(\"rec\", pfr_years)"
   ]
  },
  {
   "cell_type": "code",
   "execution_count": null,
   "id": "630765ce",
   "metadata": {},
   "outputs": [],
   "source": [
    "df_pfr_rec.rename(columns={'pfr_id': \"pfr_player_id\"}, inplace=True)"
   ]
  },
  {
   "cell_type": "code",
   "execution_count": null,
   "id": "98c640fd",
   "metadata": {},
   "outputs": [],
   "source": [
    "df_pfr_rec.head()"
   ]
  },
  {
   "cell_type": "code",
   "execution_count": null,
   "id": "2d444aa6",
   "metadata": {},
   "outputs": [],
   "source": [
    "df_pfr_rec.columns"
   ]
  },
  {
   "cell_type": "code",
   "execution_count": null,
   "id": "7c1be2c6",
   "metadata": {},
   "outputs": [],
   "source": [
    "for col in df_pfr_rec.columns:\n",
    "    if col in df_core.columns:\n",
    "        print(col)"
   ]
  },
  {
   "cell_type": "markdown",
   "id": "4224027c",
   "metadata": {},
   "source": [
    "# Loading Rushing PFR Data"
   ]
  },
  {
   "cell_type": "code",
   "execution_count": null,
   "id": "81f677fe",
   "metadata": {},
   "outputs": [],
   "source": [
    "df_pfr_rush = nfl.import_seasonal_pfr(\"rush\", pfr_years)"
   ]
  },
  {
   "cell_type": "code",
   "execution_count": null,
   "id": "e612af8a",
   "metadata": {},
   "outputs": [],
   "source": [
    "df_pfr_rush.rename(columns={'pfr_id': \"pfr_player_id\"}, inplace=True)"
   ]
  },
  {
   "cell_type": "code",
   "execution_count": null,
   "id": "6443908c",
   "metadata": {},
   "outputs": [],
   "source": [
    "df_pfr_rush.head()"
   ]
  },
  {
   "cell_type": "code",
   "execution_count": null,
   "id": "33b93936",
   "metadata": {},
   "outputs": [],
   "source": [
    "df_pfr_rush.columns"
   ]
  },
  {
   "cell_type": "code",
   "execution_count": null,
   "id": "08dde017",
   "metadata": {},
   "outputs": [],
   "source": [
    "for col in df_pfr_rush.columns:\n",
    "    if col in df_core.columns:\n",
    "        print(col)"
   ]
  },
  {
   "cell_type": "markdown",
   "id": "9f5a8aa2",
   "metadata": {},
   "source": [
    "# Fixing PFR ID in df_core"
   ]
  },
  {
   "cell_type": "code",
   "execution_count": null,
   "id": "b55df9a8",
   "metadata": {},
   "outputs": [],
   "source": [
    "# Sort df_core by 'player_name' and 'season' to ensure chronological order\n",
    "df_core = df_core.sort_values(by=['player_name', 'season'])\n",
    "\n",
    "# Fill missing 'pfr_player_id' within each group and reset index to align correctly\n",
    "filled_ids = df_core.groupby('player_name')['pfr_player_id'].apply(lambda x: x.ffill().bfill()).reset_index(level=0, drop=True)\n",
    "\n",
    "# Assign the filled IDs back to the 'pfr_player_id' column in df_core\n",
    "df_core['pfr_player_id'] = filled_ids"
   ]
  },
  {
   "cell_type": "code",
   "execution_count": null,
   "id": "8d32417d",
   "metadata": {},
   "outputs": [],
   "source": [
    "df_core.query(\"player_name == 'Jameson Williams'\")[[\"season\", \"pfr_player_id\"]]"
   ]
  },
  {
   "cell_type": "code",
   "execution_count": null,
   "id": "bacf8357",
   "metadata": {},
   "outputs": [],
   "source": [
    "df_core.query(\"player_name == 'Kenny Pickett'\")[[\"season\", \"pfr_player_id\"]]"
   ]
  },
  {
   "cell_type": "code",
   "execution_count": null,
   "id": "01282916",
   "metadata": {},
   "outputs": [],
   "source": [
    "df_core.query(\"player_name == 'Mike Evans'\")[[\"season\", \"pfr_player_id\"]]"
   ]
  },
  {
   "cell_type": "markdown",
   "id": "a9445b27",
   "metadata": {},
   "source": [
    "# Merge in DFs"
   ]
  },
  {
   "cell_type": "markdown",
   "id": "d4b94aee",
   "metadata": {},
   "source": [
    "## PFR Pass"
   ]
  },
  {
   "cell_type": "code",
   "execution_count": null,
   "id": "c88bb2b9",
   "metadata": {},
   "outputs": [],
   "source": [
    "df_pfr_pass.drop(columns=\"team\", inplace=True)"
   ]
  },
  {
   "cell_type": "code",
   "execution_count": null,
   "id": "70c33760",
   "metadata": {},
   "outputs": [],
   "source": [
    "df_merge_pass = df_core.merge(df_pfr_pass, on=[\"season\", \"pfr_player_id\"], how=\"left\")"
   ]
  },
  {
   "cell_type": "code",
   "execution_count": null,
   "id": "be0eacfc",
   "metadata": {},
   "outputs": [],
   "source": [
    "df_merge_pass.query(\"player_name == 'Kenny Pickett'\")[[\"season\", \"player_name\", \"attempts\", \"bad_throws\"]]"
   ]
  },
  {
   "cell_type": "markdown",
   "id": "82151f9b",
   "metadata": {},
   "source": [
    "## PFR Rec"
   ]
  },
  {
   "cell_type": "code",
   "execution_count": null,
   "id": "22f49785",
   "metadata": {},
   "outputs": [],
   "source": [
    "df_pfr_rec.drop(columns=[\"age\"], inplace=True)"
   ]
  },
  {
   "cell_type": "code",
   "execution_count": null,
   "id": "917fa70d",
   "metadata": {},
   "outputs": [],
   "source": [
    "df_merge_rec = df_merge_pass.merge(df_pfr_rec, on=[\"season\", \"pfr_player_id\"], how=\"left\")"
   ]
  },
  {
   "cell_type": "code",
   "execution_count": null,
   "id": "4cf4c3dc",
   "metadata": {},
   "outputs": [],
   "source": [
    "df_merge_rec.query(\"player_name == 'Chris Olave'\")[[\"season\", \"player_name\", \"age\",\n",
    "                                                    \"receiving_yards\", \"adot\", \"rat\"]]"
   ]
  },
  {
   "cell_type": "markdown",
   "id": "0c18f4d8",
   "metadata": {},
   "source": [
    "## PFR Rush"
   ]
  },
  {
   "cell_type": "code",
   "execution_count": null,
   "id": "407d68a9",
   "metadata": {},
   "outputs": [],
   "source": [
    "df_pfr_rush.drop(columns=[\"age\"], inplace=True)"
   ]
  },
  {
   "cell_type": "code",
   "execution_count": null,
   "id": "b8c6e1cd",
   "metadata": {},
   "outputs": [],
   "source": [
    "df_merge_final = df_merge_rec.merge(df_pfr_rush, on=[\"season\", \"pfr_player_id\"], how=\"left\")"
   ]
  },
  {
   "cell_type": "code",
   "execution_count": null,
   "id": "47a19ea6",
   "metadata": {},
   "outputs": [],
   "source": [
    "df_merge_final.query(\"player_name == 'Bijan Robinson'\")[[\"season\", \"player_name\", \"age\",\n",
    "                                                    \"rushing_yards\", \"yac_att\"]]"
   ]
  },
  {
   "cell_type": "code",
   "execution_count": null,
   "id": "4942fb72",
   "metadata": {},
   "outputs": [],
   "source": []
  }
 ],
 "metadata": {
  "kernelspec": {
   "display_name": "nfldata",
   "language": "python",
   "name": "nfldata"
  },
  "language_info": {
   "codemirror_mode": {
    "name": "ipython",
    "version": 3
   },
   "file_extension": ".py",
   "mimetype": "text/x-python",
   "name": "python",
   "nbconvert_exporter": "python",
   "pygments_lexer": "ipython3",
   "version": "3.10.12"
  }
 },
 "nbformat": 4,
 "nbformat_minor": 5
}
