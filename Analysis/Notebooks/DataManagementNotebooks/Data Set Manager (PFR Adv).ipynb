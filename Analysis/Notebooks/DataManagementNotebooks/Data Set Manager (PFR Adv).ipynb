{
 "cells": [
  {
   "cell_type": "markdown",
   "id": "fd3f3e4a",
   "metadata": {},
   "source": [
    "# Imports"
   ]
  },
  {
   "cell_type": "code",
   "execution_count": 1,
   "id": "09331828",
   "metadata": {},
   "outputs": [],
   "source": [
    "import numpy as np\n",
    "import pandas as pd\n",
    "import nfl_data_py as nfl"
   ]
  },
  {
   "cell_type": "markdown",
   "id": "6c8b6b45",
   "metadata": {},
   "source": [
    "# Importing NFL Data"
   ]
  },
  {
   "cell_type": "code",
   "execution_count": 2,
   "id": "a9cd8a1b",
   "metadata": {},
   "outputs": [],
   "source": [
    "pfr_years = range(2018, 2023 + 1)"
   ]
  },
  {
   "cell_type": "markdown",
   "id": "8b1b548d",
   "metadata": {},
   "source": [
    "# Loading Basic Data"
   ]
  },
  {
   "cell_type": "markdown",
   "id": "44ae5a80",
   "metadata": {},
   "source": [
    "Loading in our current version of the filter data - this takes forever to grab due to the wikipedia queries."
   ]
  },
  {
   "cell_type": "code",
   "execution_count": 3,
   "id": "1a5de251",
   "metadata": {},
   "outputs": [],
   "source": [
    "df_core = pd.read_pickle(\"../../FantasyData/data-frames/df_basic_ngs_snaps_1999_2023.pkl\")"
   ]
  },
  {
   "cell_type": "code",
   "execution_count": 4,
   "id": "eb04bd67",
   "metadata": {},
   "outputs": [
    {
     "data": {
      "text/html": [
       "<div>\n",
       "<style scoped>\n",
       "    .dataframe tbody tr th:only-of-type {\n",
       "        vertical-align: middle;\n",
       "    }\n",
       "\n",
       "    .dataframe tbody tr th {\n",
       "        vertical-align: top;\n",
       "    }\n",
       "\n",
       "    .dataframe thead th {\n",
       "        text-align: right;\n",
       "    }\n",
       "</style>\n",
       "<table border=\"1\" class=\"dataframe\">\n",
       "  <thead>\n",
       "    <tr style=\"text-align: right;\">\n",
       "      <th></th>\n",
       "      <th>player_id</th>\n",
       "      <th>season</th>\n",
       "      <th>season_type</th>\n",
       "      <th>completions</th>\n",
       "      <th>attempts</th>\n",
       "      <th>passing_yards</th>\n",
       "      <th>passing_tds</th>\n",
       "      <th>interceptions</th>\n",
       "      <th>sacks</th>\n",
       "      <th>sack_yards</th>\n",
       "      <th>...</th>\n",
       "      <th>percent_share_of_intended_air_yards</th>\n",
       "      <th>catch_percentage</th>\n",
       "      <th>yards</th>\n",
       "      <th>rec_touchdowns</th>\n",
       "      <th>avg_yac</th>\n",
       "      <th>avg_expected_yac</th>\n",
       "      <th>avg_yac_above_expectation</th>\n",
       "      <th>pfr_player_id</th>\n",
       "      <th>offense_snaps</th>\n",
       "      <th>offense_pct</th>\n",
       "    </tr>\n",
       "  </thead>\n",
       "  <tbody>\n",
       "    <tr>\n",
       "      <th>0</th>\n",
       "      <td>00-0000003</td>\n",
       "      <td>1999</td>\n",
       "      <td>REG</td>\n",
       "      <td>0</td>\n",
       "      <td>0</td>\n",
       "      <td>0.0</td>\n",
       "      <td>0</td>\n",
       "      <td>0.0</td>\n",
       "      <td>0.0</td>\n",
       "      <td>0.0</td>\n",
       "      <td>...</td>\n",
       "      <td>NaN</td>\n",
       "      <td>NaN</td>\n",
       "      <td>NaN</td>\n",
       "      <td>NaN</td>\n",
       "      <td>NaN</td>\n",
       "      <td>NaN</td>\n",
       "      <td>NaN</td>\n",
       "      <td>NaN</td>\n",
       "      <td>NaN</td>\n",
       "      <td>NaN</td>\n",
       "    </tr>\n",
       "    <tr>\n",
       "      <th>1</th>\n",
       "      <td>00-0000003</td>\n",
       "      <td>1999</td>\n",
       "      <td>REG</td>\n",
       "      <td>0</td>\n",
       "      <td>0</td>\n",
       "      <td>0.0</td>\n",
       "      <td>0</td>\n",
       "      <td>0.0</td>\n",
       "      <td>0.0</td>\n",
       "      <td>0.0</td>\n",
       "      <td>...</td>\n",
       "      <td>NaN</td>\n",
       "      <td>NaN</td>\n",
       "      <td>NaN</td>\n",
       "      <td>NaN</td>\n",
       "      <td>NaN</td>\n",
       "      <td>NaN</td>\n",
       "      <td>NaN</td>\n",
       "      <td>NaN</td>\n",
       "      <td>NaN</td>\n",
       "      <td>NaN</td>\n",
       "    </tr>\n",
       "    <tr>\n",
       "      <th>2</th>\n",
       "      <td>00-0000003</td>\n",
       "      <td>2000</td>\n",
       "      <td>REG</td>\n",
       "      <td>0</td>\n",
       "      <td>0</td>\n",
       "      <td>0.0</td>\n",
       "      <td>0</td>\n",
       "      <td>0.0</td>\n",
       "      <td>0.0</td>\n",
       "      <td>0.0</td>\n",
       "      <td>...</td>\n",
       "      <td>NaN</td>\n",
       "      <td>NaN</td>\n",
       "      <td>NaN</td>\n",
       "      <td>NaN</td>\n",
       "      <td>NaN</td>\n",
       "      <td>NaN</td>\n",
       "      <td>NaN</td>\n",
       "      <td>NaN</td>\n",
       "      <td>NaN</td>\n",
       "      <td>NaN</td>\n",
       "    </tr>\n",
       "    <tr>\n",
       "      <th>3</th>\n",
       "      <td>00-0000007</td>\n",
       "      <td>1999</td>\n",
       "      <td>REG</td>\n",
       "      <td>0</td>\n",
       "      <td>0</td>\n",
       "      <td>0.0</td>\n",
       "      <td>0</td>\n",
       "      <td>0.0</td>\n",
       "      <td>0.0</td>\n",
       "      <td>0.0</td>\n",
       "      <td>...</td>\n",
       "      <td>NaN</td>\n",
       "      <td>NaN</td>\n",
       "      <td>NaN</td>\n",
       "      <td>NaN</td>\n",
       "      <td>NaN</td>\n",
       "      <td>NaN</td>\n",
       "      <td>NaN</td>\n",
       "      <td>NaN</td>\n",
       "      <td>NaN</td>\n",
       "      <td>NaN</td>\n",
       "    </tr>\n",
       "    <tr>\n",
       "      <th>4</th>\n",
       "      <td>00-0000007</td>\n",
       "      <td>2000</td>\n",
       "      <td>REG</td>\n",
       "      <td>0</td>\n",
       "      <td>0</td>\n",
       "      <td>0.0</td>\n",
       "      <td>0</td>\n",
       "      <td>0.0</td>\n",
       "      <td>0.0</td>\n",
       "      <td>0.0</td>\n",
       "      <td>...</td>\n",
       "      <td>NaN</td>\n",
       "      <td>NaN</td>\n",
       "      <td>NaN</td>\n",
       "      <td>NaN</td>\n",
       "      <td>NaN</td>\n",
       "      <td>NaN</td>\n",
       "      <td>NaN</td>\n",
       "      <td>NaN</td>\n",
       "      <td>NaN</td>\n",
       "      <td>NaN</td>\n",
       "    </tr>\n",
       "  </tbody>\n",
       "</table>\n",
       "<p>5 rows × 111 columns</p>\n",
       "</div>"
      ],
      "text/plain": [
       "    player_id  season season_type  completions  attempts  passing_yards  \\\n",
       "0  00-0000003    1999         REG            0         0            0.0   \n",
       "1  00-0000003    1999         REG            0         0            0.0   \n",
       "2  00-0000003    2000         REG            0         0            0.0   \n",
       "3  00-0000007    1999         REG            0         0            0.0   \n",
       "4  00-0000007    2000         REG            0         0            0.0   \n",
       "\n",
       "   passing_tds  interceptions  sacks  sack_yards  ...  \\\n",
       "0            0            0.0    0.0         0.0  ...   \n",
       "1            0            0.0    0.0         0.0  ...   \n",
       "2            0            0.0    0.0         0.0  ...   \n",
       "3            0            0.0    0.0         0.0  ...   \n",
       "4            0            0.0    0.0         0.0  ...   \n",
       "\n",
       "   percent_share_of_intended_air_yards  catch_percentage  yards  \\\n",
       "0                                  NaN               NaN    NaN   \n",
       "1                                  NaN               NaN    NaN   \n",
       "2                                  NaN               NaN    NaN   \n",
       "3                                  NaN               NaN    NaN   \n",
       "4                                  NaN               NaN    NaN   \n",
       "\n",
       "   rec_touchdowns  avg_yac  avg_expected_yac  avg_yac_above_expectation  \\\n",
       "0             NaN      NaN               NaN                        NaN   \n",
       "1             NaN      NaN               NaN                        NaN   \n",
       "2             NaN      NaN               NaN                        NaN   \n",
       "3             NaN      NaN               NaN                        NaN   \n",
       "4             NaN      NaN               NaN                        NaN   \n",
       "\n",
       "   pfr_player_id  offense_snaps  offense_pct  \n",
       "0            NaN            NaN          NaN  \n",
       "1            NaN            NaN          NaN  \n",
       "2            NaN            NaN          NaN  \n",
       "3            NaN            NaN          NaN  \n",
       "4            NaN            NaN          NaN  \n",
       "\n",
       "[5 rows x 111 columns]"
      ]
     },
     "execution_count": 4,
     "metadata": {},
     "output_type": "execute_result"
    }
   ],
   "source": [
    "df_core.head()"
   ]
  },
  {
   "cell_type": "code",
   "execution_count": 5,
   "id": "96ce1577",
   "metadata": {},
   "outputs": [
    {
     "data": {
      "text/plain": [
       "Index(['player_id', 'season', 'season_type', 'completions', 'attempts',\n",
       "       'passing_yards', 'passing_tds', 'interceptions', 'sacks', 'sack_yards',\n",
       "       'sack_fumbles', 'sack_fumbles_lost', 'passing_air_yards',\n",
       "       'passing_yards_after_catch', 'passing_first_downs', 'passing_epa',\n",
       "       'passing_2pt_conversions', 'pacr', 'dakota', 'carries', 'rushing_yards',\n",
       "       'rushing_tds', 'rushing_fumbles', 'rushing_fumbles_lost',\n",
       "       'rushing_first_downs', 'rushing_epa', 'rushing_2pt_conversions',\n",
       "       'receptions', 'targets', 'receiving_yards', 'receiving_tds',\n",
       "       'receiving_fumbles', 'receiving_fumbles_lost', 'receiving_air_yards',\n",
       "       'receiving_yards_after_catch', 'receiving_first_downs', 'receiving_epa',\n",
       "       'receiving_2pt_conversions', 'racr', 'target_share', 'air_yards_share',\n",
       "       'wopr_x', 'special_teams_tds', 'fantasy_points', 'fantasy_points_ppr',\n",
       "       'games', 'tgt_sh', 'ay_sh', 'yac_sh', 'wopr_y', 'ry_sh', 'rtd_sh',\n",
       "       'rfd_sh', 'rtdfd_sh', 'dom', 'w8dom', 'yptmpa', 'ppr_sh', 'index',\n",
       "       'position'],\n",
       "      dtype='object')"
      ]
     },
     "execution_count": 5,
     "metadata": {},
     "output_type": "execute_result"
    }
   ],
   "source": [
    "df_core.columns[:60]"
   ]
  },
  {
   "cell_type": "code",
   "execution_count": 6,
   "id": "5e18f8da",
   "metadata": {},
   "outputs": [
    {
     "data": {
      "text/plain": [
       "Index(['w8dom', 'yptmpa', 'ppr_sh', 'index', 'position', 'player_name', 'age',\n",
       "       'team', 'rank', 'tier', 'Draft Year', 'Draft No.', 'Draft Round',\n",
       "       'Draft Pick', 'Draft Overall', 'Draft Team', 'College',\n",
       "       'avg_time_to_throw', 'avg_completed_air_yards',\n",
       "       'avg_intended_air_yards', 'avg_air_yards_differential',\n",
       "       'aggressiveness', 'max_completed_air_distance',\n",
       "       'avg_air_yards_to_sticks', 'pass_yards', 'pass_touchdowns',\n",
       "       'passer_rating', 'completion_percentage',\n",
       "       'expected_completion_percentage',\n",
       "       'completion_percentage_above_expectation', 'avg_air_distance',\n",
       "       'max_air_distance', 'efficiency',\n",
       "       'percent_attempts_gte_eight_defenders', 'avg_time_to_los',\n",
       "       'rush_attempts', 'rush_yards', 'expected_rush_yards',\n",
       "       'rush_yards_over_expected', 'avg_rush_yards',\n",
       "       'rush_yards_over_expected_per_att', 'rush_pct_over_expected',\n",
       "       'rush_touchdowns', 'avg_cushion', 'avg_separation',\n",
       "       'avg_intended_air_yards_receiving',\n",
       "       'percent_share_of_intended_air_yards', 'catch_percentage', 'yards',\n",
       "       'rec_touchdowns', 'avg_yac', 'avg_expected_yac',\n",
       "       'avg_yac_above_expectation', 'pfr_player_id', 'offense_snaps',\n",
       "       'offense_pct'],\n",
       "      dtype='object')"
      ]
     },
     "execution_count": 6,
     "metadata": {},
     "output_type": "execute_result"
    }
   ],
   "source": [
    "df_core.columns[55:]"
   ]
  },
  {
   "cell_type": "code",
   "execution_count": 7,
   "id": "7f032ffc",
   "metadata": {},
   "outputs": [
    {
     "data": {
      "text/html": [
       "<div>\n",
       "<style scoped>\n",
       "    .dataframe tbody tr th:only-of-type {\n",
       "        vertical-align: middle;\n",
       "    }\n",
       "\n",
       "    .dataframe tbody tr th {\n",
       "        vertical-align: top;\n",
       "    }\n",
       "\n",
       "    .dataframe thead th {\n",
       "        text-align: right;\n",
       "    }\n",
       "</style>\n",
       "<table border=\"1\" class=\"dataframe\">\n",
       "  <thead>\n",
       "    <tr style=\"text-align: right;\">\n",
       "      <th></th>\n",
       "      <th>season</th>\n",
       "      <th>player_name</th>\n",
       "      <th>offense_snaps</th>\n",
       "      <th>avg_cushion</th>\n",
       "    </tr>\n",
       "  </thead>\n",
       "  <tbody>\n",
       "    <tr>\n",
       "      <th>13093</th>\n",
       "      <td>2022</td>\n",
       "      <td>Chris Olave</td>\n",
       "      <td>607.0</td>\n",
       "      <td>7.22400</td>\n",
       "    </tr>\n",
       "    <tr>\n",
       "      <th>13094</th>\n",
       "      <td>2023</td>\n",
       "      <td>Chris Olave</td>\n",
       "      <td>814.0</td>\n",
       "      <td>6.29093</td>\n",
       "    </tr>\n",
       "  </tbody>\n",
       "</table>\n",
       "</div>"
      ],
      "text/plain": [
       "       season  player_name  offense_snaps  avg_cushion\n",
       "13093    2022  Chris Olave          607.0      7.22400\n",
       "13094    2023  Chris Olave          814.0      6.29093"
      ]
     },
     "execution_count": 7,
     "metadata": {},
     "output_type": "execute_result"
    }
   ],
   "source": [
    "df_core.query(\"player_name == 'Chris Olave'\")[[\"season\", \"player_name\", \"offense_snaps\", \"avg_cushion\"]]"
   ]
  },
  {
   "cell_type": "code",
   "execution_count": 8,
   "id": "9469efff",
   "metadata": {},
   "outputs": [
    {
     "data": {
      "text/html": [
       "<div>\n",
       "<style scoped>\n",
       "    .dataframe tbody tr th:only-of-type {\n",
       "        vertical-align: middle;\n",
       "    }\n",
       "\n",
       "    .dataframe tbody tr th {\n",
       "        vertical-align: top;\n",
       "    }\n",
       "\n",
       "    .dataframe thead th {\n",
       "        text-align: right;\n",
       "    }\n",
       "</style>\n",
       "<table border=\"1\" class=\"dataframe\">\n",
       "  <thead>\n",
       "    <tr style=\"text-align: right;\">\n",
       "      <th></th>\n",
       "      <th>season</th>\n",
       "      <th>player_name</th>\n",
       "      <th>offense_snaps</th>\n",
       "      <th>avg_cushion</th>\n",
       "    </tr>\n",
       "  </thead>\n",
       "  <tbody>\n",
       "    <tr>\n",
       "      <th>13023</th>\n",
       "      <td>2021</td>\n",
       "      <td>Amon-Ra St. Brown</td>\n",
       "      <td>816.0</td>\n",
       "      <td>6.662577</td>\n",
       "    </tr>\n",
       "    <tr>\n",
       "      <th>13024</th>\n",
       "      <td>2022</td>\n",
       "      <td>Amon-Ra St. Brown</td>\n",
       "      <td>832.0</td>\n",
       "      <td>6.522800</td>\n",
       "    </tr>\n",
       "    <tr>\n",
       "      <th>13025</th>\n",
       "      <td>2023</td>\n",
       "      <td>Amon-Ra St. Brown</td>\n",
       "      <td>1010.0</td>\n",
       "      <td>6.702365</td>\n",
       "    </tr>\n",
       "  </tbody>\n",
       "</table>\n",
       "</div>"
      ],
      "text/plain": [
       "       season        player_name  offense_snaps  avg_cushion\n",
       "13023    2021  Amon-Ra St. Brown          816.0     6.662577\n",
       "13024    2022  Amon-Ra St. Brown          832.0     6.522800\n",
       "13025    2023  Amon-Ra St. Brown         1010.0     6.702365"
      ]
     },
     "execution_count": 8,
     "metadata": {},
     "output_type": "execute_result"
    }
   ],
   "source": [
    "df_core.query(\"player_name == 'Amon-Ra St. Brown'\")[[\"season\", \"player_name\", \"offense_snaps\", \"avg_cushion\"]]"
   ]
  },
  {
   "cell_type": "markdown",
   "id": "26aecb16",
   "metadata": {},
   "source": [
    "# Loading Passing PFR Data"
   ]
  },
  {
   "cell_type": "code",
   "execution_count": 9,
   "id": "35f2a6c5",
   "metadata": {},
   "outputs": [],
   "source": [
    "df_pfr_pass = nfl.import_seasonal_pfr(\"pass\", pfr_years)"
   ]
  },
  {
   "cell_type": "code",
   "execution_count": 10,
   "id": "f0730f93",
   "metadata": {},
   "outputs": [],
   "source": [
    "df_pfr_pass.rename(columns={'pfr_id': \"pfr_player_id\"}, inplace=True)"
   ]
  },
  {
   "cell_type": "code",
   "execution_count": 11,
   "id": "a599104c",
   "metadata": {},
   "outputs": [
    {
     "data": {
      "text/html": [
       "<div>\n",
       "<style scoped>\n",
       "    .dataframe tbody tr th:only-of-type {\n",
       "        vertical-align: middle;\n",
       "    }\n",
       "\n",
       "    .dataframe tbody tr th {\n",
       "        vertical-align: top;\n",
       "    }\n",
       "\n",
       "    .dataframe thead th {\n",
       "        text-align: right;\n",
       "    }\n",
       "</style>\n",
       "<table border=\"1\" class=\"dataframe\">\n",
       "  <thead>\n",
       "    <tr style=\"text-align: right;\">\n",
       "      <th></th>\n",
       "      <th>player</th>\n",
       "      <th>team</th>\n",
       "      <th>pass_attempts</th>\n",
       "      <th>throwaways</th>\n",
       "      <th>spikes</th>\n",
       "      <th>drops</th>\n",
       "      <th>drop_pct</th>\n",
       "      <th>bad_throws</th>\n",
       "      <th>bad_throw_pct</th>\n",
       "      <th>season</th>\n",
       "      <th>...</th>\n",
       "      <th>on_tgt_throws</th>\n",
       "      <th>on_tgt_pct</th>\n",
       "      <th>rpo_plays</th>\n",
       "      <th>rpo_yards</th>\n",
       "      <th>rpo_pass_att</th>\n",
       "      <th>rpo_pass_yards</th>\n",
       "      <th>rpo_rush_att</th>\n",
       "      <th>rpo_rush_yards</th>\n",
       "      <th>pa_pass_att</th>\n",
       "      <th>pa_pass_yards</th>\n",
       "    </tr>\n",
       "  </thead>\n",
       "  <tbody>\n",
       "    <tr>\n",
       "      <th>0</th>\n",
       "      <td>Ben Roethlisberger</td>\n",
       "      <td>PIT</td>\n",
       "      <td>675.0</td>\n",
       "      <td>7.0</td>\n",
       "      <td>3.0</td>\n",
       "      <td>24.0</td>\n",
       "      <td>3.6</td>\n",
       "      <td>122.0</td>\n",
       "      <td>18.3</td>\n",
       "      <td>2018</td>\n",
       "      <td>...</td>\n",
       "      <td>NaN</td>\n",
       "      <td>NaN</td>\n",
       "      <td>NaN</td>\n",
       "      <td>NaN</td>\n",
       "      <td>NaN</td>\n",
       "      <td>NaN</td>\n",
       "      <td>NaN</td>\n",
       "      <td>NaN</td>\n",
       "      <td>NaN</td>\n",
       "      <td>NaN</td>\n",
       "    </tr>\n",
       "    <tr>\n",
       "      <th>1</th>\n",
       "      <td>Patrick Mahomes</td>\n",
       "      <td>KC</td>\n",
       "      <td>580.0</td>\n",
       "      <td>24.0</td>\n",
       "      <td>1.0</td>\n",
       "      <td>28.0</td>\n",
       "      <td>5.0</td>\n",
       "      <td>95.0</td>\n",
       "      <td>17.1</td>\n",
       "      <td>2018</td>\n",
       "      <td>...</td>\n",
       "      <td>NaN</td>\n",
       "      <td>NaN</td>\n",
       "      <td>NaN</td>\n",
       "      <td>NaN</td>\n",
       "      <td>NaN</td>\n",
       "      <td>NaN</td>\n",
       "      <td>NaN</td>\n",
       "      <td>NaN</td>\n",
       "      <td>NaN</td>\n",
       "      <td>NaN</td>\n",
       "    </tr>\n",
       "    <tr>\n",
       "      <th>2</th>\n",
       "      <td>Matt Ryan</td>\n",
       "      <td>ATL</td>\n",
       "      <td>608.0</td>\n",
       "      <td>18.0</td>\n",
       "      <td>1.0</td>\n",
       "      <td>36.0</td>\n",
       "      <td>6.1</td>\n",
       "      <td>79.0</td>\n",
       "      <td>13.4</td>\n",
       "      <td>2018</td>\n",
       "      <td>...</td>\n",
       "      <td>NaN</td>\n",
       "      <td>NaN</td>\n",
       "      <td>NaN</td>\n",
       "      <td>NaN</td>\n",
       "      <td>NaN</td>\n",
       "      <td>NaN</td>\n",
       "      <td>NaN</td>\n",
       "      <td>NaN</td>\n",
       "      <td>NaN</td>\n",
       "      <td>NaN</td>\n",
       "    </tr>\n",
       "    <tr>\n",
       "      <th>3</th>\n",
       "      <td>Jared Goff</td>\n",
       "      <td>LAR</td>\n",
       "      <td>561.0</td>\n",
       "      <td>29.0</td>\n",
       "      <td>2.0</td>\n",
       "      <td>13.0</td>\n",
       "      <td>2.5</td>\n",
       "      <td>93.0</td>\n",
       "      <td>17.5</td>\n",
       "      <td>2018</td>\n",
       "      <td>...</td>\n",
       "      <td>NaN</td>\n",
       "      <td>NaN</td>\n",
       "      <td>NaN</td>\n",
       "      <td>NaN</td>\n",
       "      <td>NaN</td>\n",
       "      <td>NaN</td>\n",
       "      <td>NaN</td>\n",
       "      <td>NaN</td>\n",
       "      <td>NaN</td>\n",
       "      <td>NaN</td>\n",
       "    </tr>\n",
       "    <tr>\n",
       "      <th>4</th>\n",
       "      <td>Andrew Luck</td>\n",
       "      <td>IND</td>\n",
       "      <td>639.0</td>\n",
       "      <td>8.0</td>\n",
       "      <td>2.0</td>\n",
       "      <td>37.0</td>\n",
       "      <td>5.9</td>\n",
       "      <td>88.0</td>\n",
       "      <td>14.0</td>\n",
       "      <td>2018</td>\n",
       "      <td>...</td>\n",
       "      <td>NaN</td>\n",
       "      <td>NaN</td>\n",
       "      <td>NaN</td>\n",
       "      <td>NaN</td>\n",
       "      <td>NaN</td>\n",
       "      <td>NaN</td>\n",
       "      <td>NaN</td>\n",
       "      <td>NaN</td>\n",
       "      <td>NaN</td>\n",
       "      <td>NaN</td>\n",
       "    </tr>\n",
       "  </tbody>\n",
       "</table>\n",
       "<p>5 rows × 28 columns</p>\n",
       "</div>"
      ],
      "text/plain": [
       "               player team  pass_attempts  throwaways  spikes  drops  \\\n",
       "0  Ben Roethlisberger  PIT          675.0         7.0     3.0   24.0   \n",
       "1     Patrick Mahomes   KC          580.0        24.0     1.0   28.0   \n",
       "2           Matt Ryan  ATL          608.0        18.0     1.0   36.0   \n",
       "3          Jared Goff  LAR          561.0        29.0     2.0   13.0   \n",
       "4         Andrew Luck  IND          639.0         8.0     2.0   37.0   \n",
       "\n",
       "   drop_pct  bad_throws  bad_throw_pct  season  ... on_tgt_throws  on_tgt_pct  \\\n",
       "0       3.6       122.0           18.3    2018  ...           NaN         NaN   \n",
       "1       5.0        95.0           17.1    2018  ...           NaN         NaN   \n",
       "2       6.1        79.0           13.4    2018  ...           NaN         NaN   \n",
       "3       2.5        93.0           17.5    2018  ...           NaN         NaN   \n",
       "4       5.9        88.0           14.0    2018  ...           NaN         NaN   \n",
       "\n",
       "   rpo_plays  rpo_yards  rpo_pass_att  rpo_pass_yards  rpo_rush_att  \\\n",
       "0        NaN        NaN           NaN             NaN           NaN   \n",
       "1        NaN        NaN           NaN             NaN           NaN   \n",
       "2        NaN        NaN           NaN             NaN           NaN   \n",
       "3        NaN        NaN           NaN             NaN           NaN   \n",
       "4        NaN        NaN           NaN             NaN           NaN   \n",
       "\n",
       "   rpo_rush_yards  pa_pass_att  pa_pass_yards  \n",
       "0             NaN          NaN            NaN  \n",
       "1             NaN          NaN            NaN  \n",
       "2             NaN          NaN            NaN  \n",
       "3             NaN          NaN            NaN  \n",
       "4             NaN          NaN            NaN  \n",
       "\n",
       "[5 rows x 28 columns]"
      ]
     },
     "execution_count": 11,
     "metadata": {},
     "output_type": "execute_result"
    }
   ],
   "source": [
    "df_pfr_pass.head()"
   ]
  },
  {
   "cell_type": "code",
   "execution_count": 12,
   "id": "83a01c27",
   "metadata": {},
   "outputs": [
    {
     "data": {
      "text/plain": [
       "Index(['player', 'team', 'pass_attempts', 'throwaways', 'spikes', 'drops',\n",
       "       'drop_pct', 'bad_throws', 'bad_throw_pct', 'season', 'pfr_player_id',\n",
       "       'pocket_time', 'times_blitzed', 'times_hurried', 'times_hit',\n",
       "       'times_pressured', 'pressure_pct', 'batted_balls', 'on_tgt_throws',\n",
       "       'on_tgt_pct', 'rpo_plays', 'rpo_yards', 'rpo_pass_att',\n",
       "       'rpo_pass_yards', 'rpo_rush_att', 'rpo_rush_yards', 'pa_pass_att',\n",
       "       'pa_pass_yards'],\n",
       "      dtype='object')"
      ]
     },
     "execution_count": 12,
     "metadata": {},
     "output_type": "execute_result"
    }
   ],
   "source": [
    "df_pfr_pass.columns"
   ]
  },
  {
   "cell_type": "code",
   "execution_count": 13,
   "id": "b070fd4a",
   "metadata": {},
   "outputs": [],
   "source": [
    "df_pfr_pass.drop(columns=[\"team\", 'player'], inplace=True)"
   ]
  },
  {
   "cell_type": "code",
   "execution_count": 14,
   "id": "26cf21b4",
   "metadata": {},
   "outputs": [
    {
     "name": "stdout",
     "output_type": "stream",
     "text": [
      "season\n",
      "pfr_player_id\n"
     ]
    }
   ],
   "source": [
    "for col in df_pfr_pass.columns:\n",
    "    if col in df_core.columns:\n",
    "        print(col)"
   ]
  },
  {
   "cell_type": "markdown",
   "id": "5217bc47",
   "metadata": {},
   "source": [
    "# Loading Receiving PFR Data"
   ]
  },
  {
   "cell_type": "code",
   "execution_count": 15,
   "id": "974b2dc6",
   "metadata": {},
   "outputs": [],
   "source": [
    "df_pfr_rec = nfl.import_seasonal_pfr(\"rec\", pfr_years)"
   ]
  },
  {
   "cell_type": "code",
   "execution_count": 16,
   "id": "dfd41acc",
   "metadata": {},
   "outputs": [],
   "source": [
    "df_pfr_rec.rename(columns={'pfr_id': \"pfr_player_id\"}, inplace=True)"
   ]
  },
  {
   "cell_type": "code",
   "execution_count": 17,
   "id": "96976b9e",
   "metadata": {},
   "outputs": [
    {
     "data": {
      "text/html": [
       "<div>\n",
       "<style scoped>\n",
       "    .dataframe tbody tr th:only-of-type {\n",
       "        vertical-align: middle;\n",
       "    }\n",
       "\n",
       "    .dataframe tbody tr th {\n",
       "        vertical-align: top;\n",
       "    }\n",
       "\n",
       "    .dataframe thead th {\n",
       "        text-align: right;\n",
       "    }\n",
       "</style>\n",
       "<table border=\"1\" class=\"dataframe\">\n",
       "  <thead>\n",
       "    <tr style=\"text-align: right;\">\n",
       "      <th></th>\n",
       "      <th>season</th>\n",
       "      <th>player</th>\n",
       "      <th>pfr_player_id</th>\n",
       "      <th>tm</th>\n",
       "      <th>age</th>\n",
       "      <th>pos</th>\n",
       "      <th>g</th>\n",
       "      <th>gs</th>\n",
       "      <th>tgt</th>\n",
       "      <th>rec</th>\n",
       "      <th>...</th>\n",
       "      <th>yac</th>\n",
       "      <th>yac_r</th>\n",
       "      <th>adot</th>\n",
       "      <th>brk_tkl</th>\n",
       "      <th>rec_br</th>\n",
       "      <th>drop</th>\n",
       "      <th>drop_percent</th>\n",
       "      <th>int</th>\n",
       "      <th>rat</th>\n",
       "      <th>loaded</th>\n",
       "    </tr>\n",
       "  </thead>\n",
       "  <tbody>\n",
       "    <tr>\n",
       "      <th>0</th>\n",
       "      <td>2018</td>\n",
       "      <td>Michael Thomas</td>\n",
       "      <td>ThomMi05</td>\n",
       "      <td>NO</td>\n",
       "      <td>25.0</td>\n",
       "      <td>WR</td>\n",
       "      <td>16.0</td>\n",
       "      <td>16.0</td>\n",
       "      <td>147.0</td>\n",
       "      <td>125.0</td>\n",
       "      <td>...</td>\n",
       "      <td>514.0</td>\n",
       "      <td>4.1</td>\n",
       "      <td>7.7</td>\n",
       "      <td>6.0</td>\n",
       "      <td>20.8</td>\n",
       "      <td>3.0</td>\n",
       "      <td>0.020</td>\n",
       "      <td>1.0</td>\n",
       "      <td>124.1</td>\n",
       "      <td>2023-08-21</td>\n",
       "    </tr>\n",
       "    <tr>\n",
       "      <th>1</th>\n",
       "      <td>2018</td>\n",
       "      <td>Zach Ertz</td>\n",
       "      <td>ErtzZa00</td>\n",
       "      <td>PHI</td>\n",
       "      <td>28.0</td>\n",
       "      <td>TE</td>\n",
       "      <td>16.0</td>\n",
       "      <td>16.0</td>\n",
       "      <td>156.0</td>\n",
       "      <td>116.0</td>\n",
       "      <td>...</td>\n",
       "      <td>353.0</td>\n",
       "      <td>3.0</td>\n",
       "      <td>7.2</td>\n",
       "      <td>3.0</td>\n",
       "      <td>38.7</td>\n",
       "      <td>5.0</td>\n",
       "      <td>0.032</td>\n",
       "      <td>5.0</td>\n",
       "      <td>98.9</td>\n",
       "      <td>2023-08-21</td>\n",
       "    </tr>\n",
       "    <tr>\n",
       "      <th>2</th>\n",
       "      <td>2018</td>\n",
       "      <td>DeAndre Hopkins</td>\n",
       "      <td>HopkDe00</td>\n",
       "      <td>HOU</td>\n",
       "      <td>26.0</td>\n",
       "      <td>WR</td>\n",
       "      <td>16.0</td>\n",
       "      <td>16.0</td>\n",
       "      <td>163.0</td>\n",
       "      <td>115.0</td>\n",
       "      <td>...</td>\n",
       "      <td>387.0</td>\n",
       "      <td>3.4</td>\n",
       "      <td>11.5</td>\n",
       "      <td>5.0</td>\n",
       "      <td>23.0</td>\n",
       "      <td>2.0</td>\n",
       "      <td>0.012</td>\n",
       "      <td>3.0</td>\n",
       "      <td>115.9</td>\n",
       "      <td>2023-08-21</td>\n",
       "    </tr>\n",
       "    <tr>\n",
       "      <th>3</th>\n",
       "      <td>2018</td>\n",
       "      <td>Julio Jones</td>\n",
       "      <td>JoneJu02</td>\n",
       "      <td>ATL</td>\n",
       "      <td>29.0</td>\n",
       "      <td>WR</td>\n",
       "      <td>16.0</td>\n",
       "      <td>16.0</td>\n",
       "      <td>170.0</td>\n",
       "      <td>113.0</td>\n",
       "      <td>...</td>\n",
       "      <td>448.0</td>\n",
       "      <td>4.0</td>\n",
       "      <td>14.0</td>\n",
       "      <td>3.0</td>\n",
       "      <td>37.7</td>\n",
       "      <td>9.0</td>\n",
       "      <td>0.053</td>\n",
       "      <td>3.0</td>\n",
       "      <td>106.9</td>\n",
       "      <td>2023-08-21</td>\n",
       "    </tr>\n",
       "    <tr>\n",
       "      <th>4</th>\n",
       "      <td>2018</td>\n",
       "      <td>Adam Thielen</td>\n",
       "      <td>ThieAd00</td>\n",
       "      <td>MIN</td>\n",
       "      <td>28.0</td>\n",
       "      <td>WR</td>\n",
       "      <td>16.0</td>\n",
       "      <td>16.0</td>\n",
       "      <td>153.0</td>\n",
       "      <td>113.0</td>\n",
       "      <td>...</td>\n",
       "      <td>416.0</td>\n",
       "      <td>3.7</td>\n",
       "      <td>9.4</td>\n",
       "      <td>3.0</td>\n",
       "      <td>37.7</td>\n",
       "      <td>3.0</td>\n",
       "      <td>0.020</td>\n",
       "      <td>2.0</td>\n",
       "      <td>115.2</td>\n",
       "      <td>2023-08-21</td>\n",
       "    </tr>\n",
       "  </tbody>\n",
       "</table>\n",
       "<p>5 rows × 25 columns</p>\n",
       "</div>"
      ],
      "text/plain": [
       "   season           player pfr_player_id   tm   age pos     g    gs    tgt  \\\n",
       "0    2018   Michael Thomas      ThomMi05   NO  25.0  WR  16.0  16.0  147.0   \n",
       "1    2018        Zach Ertz      ErtzZa00  PHI  28.0  TE  16.0  16.0  156.0   \n",
       "2    2018  DeAndre Hopkins      HopkDe00  HOU  26.0  WR  16.0  16.0  163.0   \n",
       "3    2018      Julio Jones      JoneJu02  ATL  29.0  WR  16.0  16.0  170.0   \n",
       "4    2018     Adam Thielen      ThieAd00  MIN  28.0  WR  16.0  16.0  153.0   \n",
       "\n",
       "     rec  ...    yac  yac_r  adot  brk_tkl  rec_br  drop  drop_percent  int  \\\n",
       "0  125.0  ...  514.0    4.1   7.7      6.0    20.8   3.0         0.020  1.0   \n",
       "1  116.0  ...  353.0    3.0   7.2      3.0    38.7   5.0         0.032  5.0   \n",
       "2  115.0  ...  387.0    3.4  11.5      5.0    23.0   2.0         0.012  3.0   \n",
       "3  113.0  ...  448.0    4.0  14.0      3.0    37.7   9.0         0.053  3.0   \n",
       "4  113.0  ...  416.0    3.7   9.4      3.0    37.7   3.0         0.020  2.0   \n",
       "\n",
       "     rat      loaded  \n",
       "0  124.1  2023-08-21  \n",
       "1   98.9  2023-08-21  \n",
       "2  115.9  2023-08-21  \n",
       "3  106.9  2023-08-21  \n",
       "4  115.2  2023-08-21  \n",
       "\n",
       "[5 rows x 25 columns]"
      ]
     },
     "execution_count": 17,
     "metadata": {},
     "output_type": "execute_result"
    }
   ],
   "source": [
    "df_pfr_rec.head()"
   ]
  },
  {
   "cell_type": "code",
   "execution_count": 18,
   "id": "cfe6742c",
   "metadata": {},
   "outputs": [
    {
     "data": {
      "text/plain": [
       "Index(['season', 'player', 'pfr_player_id', 'tm', 'age', 'pos', 'g', 'gs',\n",
       "       'tgt', 'rec', 'yds', 'td', 'x1d', 'ybc', 'ybc_r', 'yac', 'yac_r',\n",
       "       'adot', 'brk_tkl', 'rec_br', 'drop', 'drop_percent', 'int', 'rat',\n",
       "       'loaded'],\n",
       "      dtype='object')"
      ]
     },
     "execution_count": 18,
     "metadata": {},
     "output_type": "execute_result"
    }
   ],
   "source": [
    "df_pfr_rec.columns"
   ]
  },
  {
   "cell_type": "code",
   "execution_count": 19,
   "id": "6cec762b",
   "metadata": {},
   "outputs": [],
   "source": [
    "df_pfr_rec.drop(columns=[\"age\", \"player\", \"tm\", \"age\", \"pos\", \"g\"], inplace=True)"
   ]
  },
  {
   "cell_type": "code",
   "execution_count": 25,
   "id": "058e64a4",
   "metadata": {},
   "outputs": [],
   "source": [
    "for col in df_pfr_rec.columns:\n",
    "    if col != \"season\" and col != 'pfr_player_id':\n",
    "        df_pfr_rec.rename(columns={col: f\"{col}_pfr_rec\"}, inplace=True)"
   ]
  },
  {
   "cell_type": "code",
   "execution_count": 26,
   "id": "dcae86ca",
   "metadata": {},
   "outputs": [
    {
     "data": {
      "text/plain": [
       "Index(['season', 'pfr_player_id', 'gs_pfr_rec', 'tgt_pfr_rec', 'rec_pfr_rec',\n",
       "       'yds_pfr_rec', 'td_pfr_rec', 'x1d_pfr_rec', 'ybc_pfr_rec',\n",
       "       'ybc_r_pfr_rec', 'yac_pfr_rec', 'yac_r_pfr_rec', 'adot_pfr_rec',\n",
       "       'brk_tkl_pfr_rec', 'rec_br_pfr_rec', 'drop_pfr_rec',\n",
       "       'drop_percent_pfr_rec', 'int_pfr_rec', 'rat_pfr_rec', 'loaded_pfr_rec'],\n",
       "      dtype='object')"
      ]
     },
     "execution_count": 26,
     "metadata": {},
     "output_type": "execute_result"
    }
   ],
   "source": [
    "df_pfr_rec.columns"
   ]
  },
  {
   "cell_type": "markdown",
   "id": "4224027c",
   "metadata": {},
   "source": [
    "# Loading Rushing PFR Data"
   ]
  },
  {
   "cell_type": "code",
   "execution_count": 34,
   "id": "81f677fe",
   "metadata": {},
   "outputs": [],
   "source": [
    "df_pfr_rush = nfl.import_seasonal_pfr(\"rush\", pfr_years)"
   ]
  },
  {
   "cell_type": "code",
   "execution_count": 35,
   "id": "1890ba49",
   "metadata": {},
   "outputs": [],
   "source": [
    "df_pfr_rush.rename(columns={'pfr_id': \"pfr_player_id\"}, inplace=True)"
   ]
  },
  {
   "cell_type": "code",
   "execution_count": 36,
   "id": "34a7f536",
   "metadata": {},
   "outputs": [
    {
     "data": {
      "text/html": [
       "<div>\n",
       "<style scoped>\n",
       "    .dataframe tbody tr th:only-of-type {\n",
       "        vertical-align: middle;\n",
       "    }\n",
       "\n",
       "    .dataframe tbody tr th {\n",
       "        vertical-align: top;\n",
       "    }\n",
       "\n",
       "    .dataframe thead th {\n",
       "        text-align: right;\n",
       "    }\n",
       "</style>\n",
       "<table border=\"1\" class=\"dataframe\">\n",
       "  <thead>\n",
       "    <tr style=\"text-align: right;\">\n",
       "      <th></th>\n",
       "      <th>season</th>\n",
       "      <th>player</th>\n",
       "      <th>pfr_player_id</th>\n",
       "      <th>tm</th>\n",
       "      <th>age</th>\n",
       "      <th>pos</th>\n",
       "      <th>g</th>\n",
       "      <th>gs</th>\n",
       "      <th>att</th>\n",
       "      <th>yds</th>\n",
       "      <th>td</th>\n",
       "      <th>x1d</th>\n",
       "      <th>ybc</th>\n",
       "      <th>ybc_att</th>\n",
       "      <th>yac</th>\n",
       "      <th>yac_att</th>\n",
       "      <th>brk_tkl</th>\n",
       "      <th>att_br</th>\n",
       "      <th>loaded</th>\n",
       "    </tr>\n",
       "  </thead>\n",
       "  <tbody>\n",
       "    <tr>\n",
       "      <th>0</th>\n",
       "      <td>2018</td>\n",
       "      <td>Ezekiel Elliott</td>\n",
       "      <td>ElliEz00</td>\n",
       "      <td>DAL</td>\n",
       "      <td>23.0</td>\n",
       "      <td>RB</td>\n",
       "      <td>15.0</td>\n",
       "      <td>15.0</td>\n",
       "      <td>304.0</td>\n",
       "      <td>1434.0</td>\n",
       "      <td>6.0</td>\n",
       "      <td>74.0</td>\n",
       "      <td>839.0</td>\n",
       "      <td>2.8</td>\n",
       "      <td>595.0</td>\n",
       "      <td>2.0</td>\n",
       "      <td>19.0</td>\n",
       "      <td>16.0</td>\n",
       "      <td>2023-08-21</td>\n",
       "    </tr>\n",
       "    <tr>\n",
       "      <th>1</th>\n",
       "      <td>2018</td>\n",
       "      <td>Saquon Barkley</td>\n",
       "      <td>BarkSa00</td>\n",
       "      <td>NYG</td>\n",
       "      <td>21.0</td>\n",
       "      <td>RB</td>\n",
       "      <td>16.0</td>\n",
       "      <td>16.0</td>\n",
       "      <td>261.0</td>\n",
       "      <td>1307.0</td>\n",
       "      <td>11.0</td>\n",
       "      <td>50.0</td>\n",
       "      <td>571.0</td>\n",
       "      <td>2.2</td>\n",
       "      <td>736.0</td>\n",
       "      <td>2.8</td>\n",
       "      <td>30.0</td>\n",
       "      <td>8.7</td>\n",
       "      <td>2023-08-21</td>\n",
       "    </tr>\n",
       "    <tr>\n",
       "      <th>2</th>\n",
       "      <td>2018</td>\n",
       "      <td>David Johnson</td>\n",
       "      <td>JohnDa08</td>\n",
       "      <td>ARI</td>\n",
       "      <td>27.0</td>\n",
       "      <td>RB</td>\n",
       "      <td>16.0</td>\n",
       "      <td>16.0</td>\n",
       "      <td>258.0</td>\n",
       "      <td>940.0</td>\n",
       "      <td>7.0</td>\n",
       "      <td>51.0</td>\n",
       "      <td>531.0</td>\n",
       "      <td>2.1</td>\n",
       "      <td>409.0</td>\n",
       "      <td>1.6</td>\n",
       "      <td>9.0</td>\n",
       "      <td>28.7</td>\n",
       "      <td>2023-08-21</td>\n",
       "    </tr>\n",
       "    <tr>\n",
       "      <th>3</th>\n",
       "      <td>2018</td>\n",
       "      <td>Todd Gurley</td>\n",
       "      <td>GurlTo01</td>\n",
       "      <td>LA</td>\n",
       "      <td>24.0</td>\n",
       "      <td>RB</td>\n",
       "      <td>14.0</td>\n",
       "      <td>14.0</td>\n",
       "      <td>256.0</td>\n",
       "      <td>1251.0</td>\n",
       "      <td>17.0</td>\n",
       "      <td>70.0</td>\n",
       "      <td>634.0</td>\n",
       "      <td>2.5</td>\n",
       "      <td>617.0</td>\n",
       "      <td>2.4</td>\n",
       "      <td>17.0</td>\n",
       "      <td>15.1</td>\n",
       "      <td>2023-08-21</td>\n",
       "    </tr>\n",
       "    <tr>\n",
       "      <th>4</th>\n",
       "      <td>2018</td>\n",
       "      <td>Adrian Peterson</td>\n",
       "      <td>PeteAd01</td>\n",
       "      <td>WAS</td>\n",
       "      <td>33.0</td>\n",
       "      <td>RB</td>\n",
       "      <td>16.0</td>\n",
       "      <td>16.0</td>\n",
       "      <td>251.0</td>\n",
       "      <td>1042.0</td>\n",
       "      <td>7.0</td>\n",
       "      <td>47.0</td>\n",
       "      <td>572.0</td>\n",
       "      <td>2.3</td>\n",
       "      <td>470.0</td>\n",
       "      <td>1.9</td>\n",
       "      <td>20.0</td>\n",
       "      <td>12.6</td>\n",
       "      <td>2023-08-21</td>\n",
       "    </tr>\n",
       "  </tbody>\n",
       "</table>\n",
       "</div>"
      ],
      "text/plain": [
       "   season           player pfr_player_id   tm   age pos     g    gs    att  \\\n",
       "0    2018  Ezekiel Elliott      ElliEz00  DAL  23.0  RB  15.0  15.0  304.0   \n",
       "1    2018   Saquon Barkley      BarkSa00  NYG  21.0  RB  16.0  16.0  261.0   \n",
       "2    2018    David Johnson      JohnDa08  ARI  27.0  RB  16.0  16.0  258.0   \n",
       "3    2018      Todd Gurley      GurlTo01   LA  24.0  RB  14.0  14.0  256.0   \n",
       "4    2018  Adrian Peterson      PeteAd01  WAS  33.0  RB  16.0  16.0  251.0   \n",
       "\n",
       "      yds    td   x1d    ybc  ybc_att    yac  yac_att  brk_tkl  att_br  \\\n",
       "0  1434.0   6.0  74.0  839.0      2.8  595.0      2.0     19.0    16.0   \n",
       "1  1307.0  11.0  50.0  571.0      2.2  736.0      2.8     30.0     8.7   \n",
       "2   940.0   7.0  51.0  531.0      2.1  409.0      1.6      9.0    28.7   \n",
       "3  1251.0  17.0  70.0  634.0      2.5  617.0      2.4     17.0    15.1   \n",
       "4  1042.0   7.0  47.0  572.0      2.3  470.0      1.9     20.0    12.6   \n",
       "\n",
       "       loaded  \n",
       "0  2023-08-21  \n",
       "1  2023-08-21  \n",
       "2  2023-08-21  \n",
       "3  2023-08-21  \n",
       "4  2023-08-21  "
      ]
     },
     "execution_count": 36,
     "metadata": {},
     "output_type": "execute_result"
    }
   ],
   "source": [
    "df_pfr_rush.head()"
   ]
  },
  {
   "cell_type": "code",
   "execution_count": 37,
   "id": "9ef1bfc9",
   "metadata": {},
   "outputs": [
    {
     "data": {
      "text/plain": [
       "Index(['season', 'player', 'pfr_player_id', 'tm', 'age', 'pos', 'g', 'gs',\n",
       "       'att', 'yds', 'td', 'x1d', 'ybc', 'ybc_att', 'yac', 'yac_att',\n",
       "       'brk_tkl', 'att_br', 'loaded'],\n",
       "      dtype='object')"
      ]
     },
     "execution_count": 37,
     "metadata": {},
     "output_type": "execute_result"
    }
   ],
   "source": [
    "df_pfr_rush.columns"
   ]
  },
  {
   "cell_type": "code",
   "execution_count": 38,
   "id": "84f87249",
   "metadata": {},
   "outputs": [],
   "source": [
    "df_pfr_rush.drop(columns=[\"age\", \"player\", \"tm\", \"age\", \"pos\", \"g\"], inplace=True)"
   ]
  },
  {
   "cell_type": "code",
   "execution_count": 39,
   "id": "e7ed8a13",
   "metadata": {},
   "outputs": [],
   "source": [
    "for col in df_pfr_rush.columns:\n",
    "    if col != \"season\" and col != 'pfr_player_id':\n",
    "        df_pfr_rush.rename(columns={col: f\"{col}_pfr_rush\"}, inplace=True)"
   ]
  },
  {
   "cell_type": "code",
   "execution_count": 40,
   "id": "2e605df4",
   "metadata": {},
   "outputs": [
    {
     "data": {
      "text/plain": [
       "Index(['season', 'pfr_player_id', 'gs_pfr_rush', 'att_pfr_rush',\n",
       "       'yds_pfr_rush', 'td_pfr_rush', 'x1d_pfr_rush', 'ybc_pfr_rush',\n",
       "       'ybc_att_pfr_rush', 'yac_pfr_rush', 'yac_att_pfr_rush',\n",
       "       'brk_tkl_pfr_rush', 'att_br_pfr_rush', 'loaded_pfr_rush'],\n",
       "      dtype='object')"
      ]
     },
     "execution_count": 40,
     "metadata": {},
     "output_type": "execute_result"
    }
   ],
   "source": [
    "df_pfr_rush.columns"
   ]
  },
  {
   "cell_type": "markdown",
   "id": "d4349a08",
   "metadata": {},
   "source": [
    "# Merge in DFs"
   ]
  },
  {
   "cell_type": "markdown",
   "id": "32fa38fa",
   "metadata": {},
   "source": [
    "## PFR Pass"
   ]
  },
  {
   "cell_type": "code",
   "execution_count": 41,
   "id": "7329a357",
   "metadata": {},
   "outputs": [],
   "source": [
    "df_merge_pass = df_core.merge(df_pfr_pass, on=[\"season\", \"pfr_player_id\"], how=\"left\")"
   ]
  },
  {
   "cell_type": "code",
   "execution_count": 42,
   "id": "d08e586d",
   "metadata": {},
   "outputs": [
    {
     "data": {
      "text/html": [
       "<div>\n",
       "<style scoped>\n",
       "    .dataframe tbody tr th:only-of-type {\n",
       "        vertical-align: middle;\n",
       "    }\n",
       "\n",
       "    .dataframe tbody tr th {\n",
       "        vertical-align: top;\n",
       "    }\n",
       "\n",
       "    .dataframe thead th {\n",
       "        text-align: right;\n",
       "    }\n",
       "</style>\n",
       "<table border=\"1\" class=\"dataframe\">\n",
       "  <thead>\n",
       "    <tr style=\"text-align: right;\">\n",
       "      <th></th>\n",
       "      <th>season</th>\n",
       "      <th>player_name</th>\n",
       "      <th>attempts</th>\n",
       "      <th>bad_throws</th>\n",
       "    </tr>\n",
       "  </thead>\n",
       "  <tbody>\n",
       "    <tr>\n",
       "      <th>13222</th>\n",
       "      <td>2022</td>\n",
       "      <td>Kenny Pickett</td>\n",
       "      <td>389</td>\n",
       "      <td>67.0</td>\n",
       "    </tr>\n",
       "    <tr>\n",
       "      <th>13223</th>\n",
       "      <td>2023</td>\n",
       "      <td>Kenny Pickett</td>\n",
       "      <td>324</td>\n",
       "      <td>57.0</td>\n",
       "    </tr>\n",
       "  </tbody>\n",
       "</table>\n",
       "</div>"
      ],
      "text/plain": [
       "       season    player_name  attempts  bad_throws\n",
       "13222    2022  Kenny Pickett       389        67.0\n",
       "13223    2023  Kenny Pickett       324        57.0"
      ]
     },
     "execution_count": 42,
     "metadata": {},
     "output_type": "execute_result"
    }
   ],
   "source": [
    "df_merge_pass.query(\"player_name == 'Kenny Pickett'\")[[\"season\", \"player_name\", \"attempts\", \"bad_throws\"]]"
   ]
  },
  {
   "cell_type": "markdown",
   "id": "752525ca",
   "metadata": {},
   "source": [
    "## PFR Rec"
   ]
  },
  {
   "cell_type": "code",
   "execution_count": 43,
   "id": "3635c9a5",
   "metadata": {},
   "outputs": [],
   "source": [
    "df_merge_rec = df_merge_pass.merge(df_pfr_rec, on=[\"season\", \"pfr_player_id\"], how=\"left\")"
   ]
  },
  {
   "cell_type": "code",
   "execution_count": 45,
   "id": "b6abe251",
   "metadata": {},
   "outputs": [
    {
     "data": {
      "text/html": [
       "<div>\n",
       "<style scoped>\n",
       "    .dataframe tbody tr th:only-of-type {\n",
       "        vertical-align: middle;\n",
       "    }\n",
       "\n",
       "    .dataframe tbody tr th {\n",
       "        vertical-align: top;\n",
       "    }\n",
       "\n",
       "    .dataframe thead th {\n",
       "        text-align: right;\n",
       "    }\n",
       "</style>\n",
       "<table border=\"1\" class=\"dataframe\">\n",
       "  <thead>\n",
       "    <tr style=\"text-align: right;\">\n",
       "      <th></th>\n",
       "      <th>season</th>\n",
       "      <th>player_name</th>\n",
       "      <th>age</th>\n",
       "      <th>receiving_yards</th>\n",
       "      <th>adot_pfr_rec</th>\n",
       "      <th>rat_pfr_rec</th>\n",
       "    </tr>\n",
       "  </thead>\n",
       "  <tbody>\n",
       "    <tr>\n",
       "      <th>13093</th>\n",
       "      <td>2022</td>\n",
       "      <td>Chris Olave</td>\n",
       "      <td>22.0</td>\n",
       "      <td>1042.0</td>\n",
       "      <td>14.2</td>\n",
       "      <td>82.7</td>\n",
       "    </tr>\n",
       "    <tr>\n",
       "      <th>13094</th>\n",
       "      <td>2023</td>\n",
       "      <td>Chris Olave</td>\n",
       "      <td>23.0</td>\n",
       "      <td>1123.0</td>\n",
       "      <td>13.3</td>\n",
       "      <td>91.5</td>\n",
       "    </tr>\n",
       "  </tbody>\n",
       "</table>\n",
       "</div>"
      ],
      "text/plain": [
       "       season  player_name   age  receiving_yards  adot_pfr_rec  rat_pfr_rec\n",
       "13093    2022  Chris Olave  22.0           1042.0          14.2         82.7\n",
       "13094    2023  Chris Olave  23.0           1123.0          13.3         91.5"
      ]
     },
     "execution_count": 45,
     "metadata": {},
     "output_type": "execute_result"
    }
   ],
   "source": [
    "df_merge_rec.query(\"player_name == 'Chris Olave'\")[[\"season\", \"player_name\", \"age\",\n",
    "                                                    \"receiving_yards\", \"adot_pfr_rec\", \"rat_pfr_rec\"]]"
   ]
  },
  {
   "cell_type": "markdown",
   "id": "5e94fca1",
   "metadata": {},
   "source": [
    "## PFR Rush"
   ]
  },
  {
   "cell_type": "code",
   "execution_count": 46,
   "id": "1adb32ac",
   "metadata": {},
   "outputs": [],
   "source": [
    "df_merge_final = df_merge_rec.merge(df_pfr_rush, on=[\"season\", \"pfr_player_id\"], how=\"left\")"
   ]
  },
  {
   "cell_type": "code",
   "execution_count": 48,
   "id": "a9c7f1ca",
   "metadata": {},
   "outputs": [
    {
     "data": {
      "text/html": [
       "<div>\n",
       "<style scoped>\n",
       "    .dataframe tbody tr th:only-of-type {\n",
       "        vertical-align: middle;\n",
       "    }\n",
       "\n",
       "    .dataframe tbody tr th {\n",
       "        vertical-align: top;\n",
       "    }\n",
       "\n",
       "    .dataframe thead th {\n",
       "        text-align: right;\n",
       "    }\n",
       "</style>\n",
       "<table border=\"1\" class=\"dataframe\">\n",
       "  <thead>\n",
       "    <tr style=\"text-align: right;\">\n",
       "      <th></th>\n",
       "      <th>season</th>\n",
       "      <th>player_name</th>\n",
       "      <th>age</th>\n",
       "      <th>rushing_yards</th>\n",
       "      <th>yac_att_pfr_rush</th>\n",
       "    </tr>\n",
       "  </thead>\n",
       "  <tbody>\n",
       "    <tr>\n",
       "      <th>13258</th>\n",
       "      <td>2023</td>\n",
       "      <td>Bijan Robinson</td>\n",
       "      <td>21.0</td>\n",
       "      <td>976.0</td>\n",
       "      <td>1.9</td>\n",
       "    </tr>\n",
       "  </tbody>\n",
       "</table>\n",
       "</div>"
      ],
      "text/plain": [
       "       season     player_name   age  rushing_yards  yac_att_pfr_rush\n",
       "13258    2023  Bijan Robinson  21.0          976.0               1.9"
      ]
     },
     "execution_count": 48,
     "metadata": {},
     "output_type": "execute_result"
    }
   ],
   "source": [
    "df_merge_final.query(\"player_name == 'Bijan Robinson'\")[[\"season\", \"player_name\", \"age\",\n",
    "                                                    \"rushing_yards\", \"yac_att_pfr_rush\"]]"
   ]
  },
  {
   "cell_type": "markdown",
   "id": "61bb31d7",
   "metadata": {},
   "source": [
    "# Save Data"
   ]
  },
  {
   "cell_type": "code",
   "execution_count": 49,
   "id": "de3a5e0b",
   "metadata": {},
   "outputs": [],
   "source": [
    "df_merge_final.to_pickle(\"../../FantasyData/data-frames/df_basic_ngs_snaps_adv_1999_2023.pkl\")"
   ]
  },
  {
   "cell_type": "code",
   "execution_count": null,
   "id": "d79be4ae",
   "metadata": {},
   "outputs": [],
   "source": []
  }
 ],
 "metadata": {
  "kernelspec": {
   "display_name": "nfldata",
   "language": "python",
   "name": "nfldata"
  },
  "language_info": {
   "codemirror_mode": {
    "name": "ipython",
    "version": 3
   },
   "file_extension": ".py",
   "mimetype": "text/x-python",
   "name": "python",
   "nbconvert_exporter": "python",
   "pygments_lexer": "ipython3",
   "version": "3.10.12"
  }
 },
 "nbformat": 4,
 "nbformat_minor": 5
}
