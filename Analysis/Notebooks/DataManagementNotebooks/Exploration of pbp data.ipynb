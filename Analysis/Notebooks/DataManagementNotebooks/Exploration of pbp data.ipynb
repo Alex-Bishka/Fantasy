{
 "cells": [
  {
   "cell_type": "markdown",
   "id": "4d151a7e-b5e5-4db1-8ba7-92f514fb97df",
   "metadata": {},
   "source": [
    "# Imports"
   ]
  },
  {
   "cell_type": "code",
   "execution_count": 1,
   "id": "9095059e-2e5c-439d-891d-c07a5385b390",
   "metadata": {},
   "outputs": [],
   "source": [
    "import nfl_data_py as nfl\n",
    "import pandas as pd"
   ]
  },
  {
   "cell_type": "markdown",
   "id": "cc27cea3-3164-49f9-8779-778c2f2c506e",
   "metadata": {},
   "source": [
    "# Load PBP Data"
   ]
  },
  {
   "cell_type": "code",
   "execution_count": 4,
   "id": "59f7af60-159a-499b-8500-2d362ed3f5e7",
   "metadata": {},
   "outputs": [],
   "source": [
    "df = pd.read_pickle(\"./construction_dfs/df_pbp_99_23.pkl\")"
   ]
  },
  {
   "cell_type": "code",
   "execution_count": 5,
   "id": "fbb1d974-7994-409d-b638-816d40841875",
   "metadata": {},
   "outputs": [
    {
     "data": {
      "text/html": [
       "<div>\n",
       "<style scoped>\n",
       "    .dataframe tbody tr th:only-of-type {\n",
       "        vertical-align: middle;\n",
       "    }\n",
       "\n",
       "    .dataframe tbody tr th {\n",
       "        vertical-align: top;\n",
       "    }\n",
       "\n",
       "    .dataframe thead th {\n",
       "        text-align: right;\n",
       "    }\n",
       "</style>\n",
       "<table border=\"1\" class=\"dataframe\">\n",
       "  <thead>\n",
       "    <tr style=\"text-align: right;\">\n",
       "      <th></th>\n",
       "      <th>play_id</th>\n",
       "      <th>game_id</th>\n",
       "      <th>old_game_id</th>\n",
       "      <th>home_team</th>\n",
       "      <th>away_team</th>\n",
       "      <th>season_type</th>\n",
       "      <th>week</th>\n",
       "      <th>posteam</th>\n",
       "      <th>posteam_type</th>\n",
       "      <th>defteam</th>\n",
       "      <th>...</th>\n",
       "      <th>offense_players</th>\n",
       "      <th>defense_players</th>\n",
       "      <th>n_offense</th>\n",
       "      <th>n_defense</th>\n",
       "      <th>ngs_air_yards</th>\n",
       "      <th>time_to_throw</th>\n",
       "      <th>was_pressure</th>\n",
       "      <th>route</th>\n",
       "      <th>defense_man_zone_type</th>\n",
       "      <th>defense_coverage_type</th>\n",
       "    </tr>\n",
       "  </thead>\n",
       "  <tbody>\n",
       "    <tr>\n",
       "      <th>0</th>\n",
       "      <td>35.0</td>\n",
       "      <td>1999_01_ARI_PHI</td>\n",
       "      <td>1999091200</td>\n",
       "      <td>PHI</td>\n",
       "      <td>ARI</td>\n",
       "      <td>REG</td>\n",
       "      <td>1</td>\n",
       "      <td>PHI</td>\n",
       "      <td>home</td>\n",
       "      <td>ARI</td>\n",
       "      <td>...</td>\n",
       "      <td>NaN</td>\n",
       "      <td>NaN</td>\n",
       "      <td>NaN</td>\n",
       "      <td>NaN</td>\n",
       "      <td>NaN</td>\n",
       "      <td>NaN</td>\n",
       "      <td>NaN</td>\n",
       "      <td>NaN</td>\n",
       "      <td>NaN</td>\n",
       "      <td>NaN</td>\n",
       "    </tr>\n",
       "    <tr>\n",
       "      <th>1</th>\n",
       "      <td>60.0</td>\n",
       "      <td>1999_01_ARI_PHI</td>\n",
       "      <td>1999091200</td>\n",
       "      <td>PHI</td>\n",
       "      <td>ARI</td>\n",
       "      <td>REG</td>\n",
       "      <td>1</td>\n",
       "      <td>PHI</td>\n",
       "      <td>home</td>\n",
       "      <td>ARI</td>\n",
       "      <td>...</td>\n",
       "      <td>NaN</td>\n",
       "      <td>NaN</td>\n",
       "      <td>NaN</td>\n",
       "      <td>NaN</td>\n",
       "      <td>NaN</td>\n",
       "      <td>NaN</td>\n",
       "      <td>NaN</td>\n",
       "      <td>NaN</td>\n",
       "      <td>NaN</td>\n",
       "      <td>NaN</td>\n",
       "    </tr>\n",
       "    <tr>\n",
       "      <th>2</th>\n",
       "      <td>82.0</td>\n",
       "      <td>1999_01_ARI_PHI</td>\n",
       "      <td>1999091200</td>\n",
       "      <td>PHI</td>\n",
       "      <td>ARI</td>\n",
       "      <td>REG</td>\n",
       "      <td>1</td>\n",
       "      <td>PHI</td>\n",
       "      <td>home</td>\n",
       "      <td>ARI</td>\n",
       "      <td>...</td>\n",
       "      <td>NaN</td>\n",
       "      <td>NaN</td>\n",
       "      <td>NaN</td>\n",
       "      <td>NaN</td>\n",
       "      <td>NaN</td>\n",
       "      <td>NaN</td>\n",
       "      <td>NaN</td>\n",
       "      <td>NaN</td>\n",
       "      <td>NaN</td>\n",
       "      <td>NaN</td>\n",
       "    </tr>\n",
       "    <tr>\n",
       "      <th>3</th>\n",
       "      <td>103.0</td>\n",
       "      <td>1999_01_ARI_PHI</td>\n",
       "      <td>1999091200</td>\n",
       "      <td>PHI</td>\n",
       "      <td>ARI</td>\n",
       "      <td>REG</td>\n",
       "      <td>1</td>\n",
       "      <td>PHI</td>\n",
       "      <td>home</td>\n",
       "      <td>ARI</td>\n",
       "      <td>...</td>\n",
       "      <td>NaN</td>\n",
       "      <td>NaN</td>\n",
       "      <td>NaN</td>\n",
       "      <td>NaN</td>\n",
       "      <td>NaN</td>\n",
       "      <td>NaN</td>\n",
       "      <td>NaN</td>\n",
       "      <td>NaN</td>\n",
       "      <td>NaN</td>\n",
       "      <td>NaN</td>\n",
       "    </tr>\n",
       "    <tr>\n",
       "      <th>4</th>\n",
       "      <td>126.0</td>\n",
       "      <td>1999_01_ARI_PHI</td>\n",
       "      <td>1999091200</td>\n",
       "      <td>PHI</td>\n",
       "      <td>ARI</td>\n",
       "      <td>REG</td>\n",
       "      <td>1</td>\n",
       "      <td>PHI</td>\n",
       "      <td>home</td>\n",
       "      <td>ARI</td>\n",
       "      <td>...</td>\n",
       "      <td>NaN</td>\n",
       "      <td>NaN</td>\n",
       "      <td>NaN</td>\n",
       "      <td>NaN</td>\n",
       "      <td>NaN</td>\n",
       "      <td>NaN</td>\n",
       "      <td>NaN</td>\n",
       "      <td>NaN</td>\n",
       "      <td>NaN</td>\n",
       "      <td>NaN</td>\n",
       "    </tr>\n",
       "  </tbody>\n",
       "</table>\n",
       "<p>5 rows × 390 columns</p>\n",
       "</div>"
      ],
      "text/plain": [
       "   play_id          game_id old_game_id home_team away_team season_type  week  \\\n",
       "0     35.0  1999_01_ARI_PHI  1999091200       PHI       ARI         REG     1   \n",
       "1     60.0  1999_01_ARI_PHI  1999091200       PHI       ARI         REG     1   \n",
       "2     82.0  1999_01_ARI_PHI  1999091200       PHI       ARI         REG     1   \n",
       "3    103.0  1999_01_ARI_PHI  1999091200       PHI       ARI         REG     1   \n",
       "4    126.0  1999_01_ARI_PHI  1999091200       PHI       ARI         REG     1   \n",
       "\n",
       "  posteam posteam_type defteam  ... offense_players  defense_players  \\\n",
       "0     PHI         home     ARI  ...             NaN              NaN   \n",
       "1     PHI         home     ARI  ...             NaN              NaN   \n",
       "2     PHI         home     ARI  ...             NaN              NaN   \n",
       "3     PHI         home     ARI  ...             NaN              NaN   \n",
       "4     PHI         home     ARI  ...             NaN              NaN   \n",
       "\n",
       "  n_offense  n_defense  ngs_air_yards  time_to_throw was_pressure  route  \\\n",
       "0       NaN        NaN            NaN            NaN          NaN    NaN   \n",
       "1       NaN        NaN            NaN            NaN          NaN    NaN   \n",
       "2       NaN        NaN            NaN            NaN          NaN    NaN   \n",
       "3       NaN        NaN            NaN            NaN          NaN    NaN   \n",
       "4       NaN        NaN            NaN            NaN          NaN    NaN   \n",
       "\n",
       "   defense_man_zone_type  defense_coverage_type  \n",
       "0                    NaN                    NaN  \n",
       "1                    NaN                    NaN  \n",
       "2                    NaN                    NaN  \n",
       "3                    NaN                    NaN  \n",
       "4                    NaN                    NaN  \n",
       "\n",
       "[5 rows x 390 columns]"
      ]
     },
     "execution_count": 5,
     "metadata": {},
     "output_type": "execute_result"
    }
   ],
   "source": [
    "df.head()"
   ]
  },
  {
   "cell_type": "markdown",
   "id": "ad96341a-7eba-4ee2-9660-e39c5d021e02",
   "metadata": {},
   "source": [
    "# Creating Updated DF"
   ]
  },
  {
   "cell_type": "markdown",
   "id": "1ae8438c-5ec2-400d-822d-f6ac6780c201",
   "metadata": {},
   "source": [
    "Cells of interest:\n",
    "- third_down_converted\n",
    "- fg_prob\n",
    "- td_prob\n",
    "- 'vegas_wpa'\n",
    "- 'vegas_home_wpa'\n",
    "- 'home_wp_post'\n",
    "- 'vegas_wp'\n",
    "- 'vegas_home_wp'\n",
    "- 'receiver_player_id'\n",
    "- 'receiver_player_name'\n",
    "- drive_inside20\n",
    "- spread_line\n",
    "- total_line"
   ]
  },
  {
   "cell_type": "code",
   "execution_count": 34,
   "id": "5057b4b7-ac06-4173-8983-d853722ed4df",
   "metadata": {},
   "outputs": [
    {
     "data": {
      "text/plain": [
       "'no_play'"
      ]
     },
     "execution_count": 34,
     "metadata": {},
     "output_type": "execute_result"
    }
   ],
   "source": [
    "df['play_type'].iloc[39]"
   ]
  },
  {
   "cell_type": "code",
   "execution_count": 35,
   "id": "d2cddd28-43f2-417b-bf9e-bc5dc12eae09",
   "metadata": {},
   "outputs": [
    {
     "data": {
      "text/plain": [
       "'(2:27) D.Pederson pass incomplete to C.Johnson. PENALTY on ARI-Z.Walz, Roughing the Passer, 3 yards, enforced at ARI 6 - No Play.'"
      ]
     },
     "execution_count": 35,
     "metadata": {},
     "output_type": "execute_result"
    }
   ],
   "source": [
    "df['desc'].iloc[39]"
   ]
  },
  {
   "cell_type": "code",
   "execution_count": 6,
   "id": "92dc7d02-b8a9-4ddd-9266-e32c0f9e1630",
   "metadata": {},
   "outputs": [
    {
     "data": {
      "text/html": [
       "<div>\n",
       "<style scoped>\n",
       "    .dataframe tbody tr th:only-of-type {\n",
       "        vertical-align: middle;\n",
       "    }\n",
       "\n",
       "    .dataframe tbody tr th {\n",
       "        vertical-align: top;\n",
       "    }\n",
       "\n",
       "    .dataframe thead th {\n",
       "        text-align: right;\n",
       "    }\n",
       "</style>\n",
       "<table border=\"1\" class=\"dataframe\">\n",
       "  <thead>\n",
       "    <tr style=\"text-align: right;\">\n",
       "      <th></th>\n",
       "      <th>yardline_100</th>\n",
       "      <th>td_prob</th>\n",
       "      <th>no_score_prob</th>\n",
       "      <th>drive_inside20</th>\n",
       "      <th>desc</th>\n",
       "      <th>receiver</th>\n",
       "      <th>play_type</th>\n",
       "    </tr>\n",
       "  </thead>\n",
       "  <tbody>\n",
       "    <tr>\n",
       "      <th>0</th>\n",
       "      <td>30.0</td>\n",
       "      <td>0.334211</td>\n",
       "      <td>0.009824</td>\n",
       "      <td>0.0</td>\n",
       "      <td>C.Jacke kicks 68 yards from ARI 30 to PHI 2. A...</td>\n",
       "      <td>None</td>\n",
       "      <td>kickoff</td>\n",
       "    </tr>\n",
       "    <tr>\n",
       "      <th>1</th>\n",
       "      <td>77.0</td>\n",
       "      <td>0.342473</td>\n",
       "      <td>0.009388</td>\n",
       "      <td>0.0</td>\n",
       "      <td>(15:00) D.Pederson pass incomplete to D.Staley...</td>\n",
       "      <td>D.Staley</td>\n",
       "      <td>pass</td>\n",
       "    </tr>\n",
       "    <tr>\n",
       "      <th>2</th>\n",
       "      <td>77.0</td>\n",
       "      <td>0.310568</td>\n",
       "      <td>0.009247</td>\n",
       "      <td>0.0</td>\n",
       "      <td>(15:00) D.Staley up the middle to PHI 24 for 1...</td>\n",
       "      <td>None</td>\n",
       "      <td>run</td>\n",
       "    </tr>\n",
       "    <tr>\n",
       "      <th>3</th>\n",
       "      <td>76.0</td>\n",
       "      <td>0.262984</td>\n",
       "      <td>0.009103</td>\n",
       "      <td>0.0</td>\n",
       "      <td>(15:00) PENALTY on PHI-K.Turner, False Start, ...</td>\n",
       "      <td>None</td>\n",
       "      <td>no_play</td>\n",
       "    </tr>\n",
       "    <tr>\n",
       "      <th>4</th>\n",
       "      <td>81.0</td>\n",
       "      <td>0.224716</td>\n",
       "      <td>0.009585</td>\n",
       "      <td>0.0</td>\n",
       "      <td>(15:00) D.Pederson pass to B.Finneran to PHI 2...</td>\n",
       "      <td>B.Finneran</td>\n",
       "      <td>pass</td>\n",
       "    </tr>\n",
       "    <tr>\n",
       "      <th>5</th>\n",
       "      <td>71.0</td>\n",
       "      <td>0.239127</td>\n",
       "      <td>0.010293</td>\n",
       "      <td>0.0</td>\n",
       "      <td>(15:00) S.Landeta punts 55 yards to ARI 16, Ce...</td>\n",
       "      <td>None</td>\n",
       "      <td>punt</td>\n",
       "    </tr>\n",
       "    <tr>\n",
       "      <th>6</th>\n",
       "      <td>81.0</td>\n",
       "      <td>0.279041</td>\n",
       "      <td>0.015006</td>\n",
       "      <td>0.0</td>\n",
       "      <td>(13:07) A.Murrell right end to ARI 20 for 1 ya...</td>\n",
       "      <td>None</td>\n",
       "      <td>run</td>\n",
       "    </tr>\n",
       "    <tr>\n",
       "      <th>7</th>\n",
       "      <td>80.0</td>\n",
       "      <td>0.254127</td>\n",
       "      <td>0.014607</td>\n",
       "      <td>0.0</td>\n",
       "      <td>(13:07) A.Murrell up the middle to ARI 24 for ...</td>\n",
       "      <td>None</td>\n",
       "      <td>run</td>\n",
       "    </tr>\n",
       "    <tr>\n",
       "      <th>8</th>\n",
       "      <td>76.0</td>\n",
       "      <td>0.234744</td>\n",
       "      <td>0.014975</td>\n",
       "      <td>0.0</td>\n",
       "      <td>(13:07) J.Plummer pass incomplete to F.Sanders.</td>\n",
       "      <td>F.Sanders</td>\n",
       "      <td>pass</td>\n",
       "    </tr>\n",
       "    <tr>\n",
       "      <th>9</th>\n",
       "      <td>76.0</td>\n",
       "      <td>0.161151</td>\n",
       "      <td>0.015543</td>\n",
       "      <td>0.0</td>\n",
       "      <td>(13:07) S.Player punts 35 yards to PHI 41, Cen...</td>\n",
       "      <td>None</td>\n",
       "      <td>punt</td>\n",
       "    </tr>\n",
       "  </tbody>\n",
       "</table>\n",
       "</div>"
      ],
      "text/plain": [
       "   yardline_100   td_prob  no_score_prob  drive_inside20  \\\n",
       "0          30.0  0.334211       0.009824             0.0   \n",
       "1          77.0  0.342473       0.009388             0.0   \n",
       "2          77.0  0.310568       0.009247             0.0   \n",
       "3          76.0  0.262984       0.009103             0.0   \n",
       "4          81.0  0.224716       0.009585             0.0   \n",
       "5          71.0  0.239127       0.010293             0.0   \n",
       "6          81.0  0.279041       0.015006             0.0   \n",
       "7          80.0  0.254127       0.014607             0.0   \n",
       "8          76.0  0.234744       0.014975             0.0   \n",
       "9          76.0  0.161151       0.015543             0.0   \n",
       "\n",
       "                                                desc    receiver play_type  \n",
       "0  C.Jacke kicks 68 yards from ARI 30 to PHI 2. A...        None   kickoff  \n",
       "1  (15:00) D.Pederson pass incomplete to D.Staley...    D.Staley      pass  \n",
       "2  (15:00) D.Staley up the middle to PHI 24 for 1...        None       run  \n",
       "3  (15:00) PENALTY on PHI-K.Turner, False Start, ...        None   no_play  \n",
       "4  (15:00) D.Pederson pass to B.Finneran to PHI 2...  B.Finneran      pass  \n",
       "5  (15:00) S.Landeta punts 55 yards to ARI 16, Ce...        None      punt  \n",
       "6  (13:07) A.Murrell right end to ARI 20 for 1 ya...        None       run  \n",
       "7  (13:07) A.Murrell up the middle to ARI 24 for ...        None       run  \n",
       "8    (13:07) J.Plummer pass incomplete to F.Sanders.   F.Sanders      pass  \n",
       "9  (13:07) S.Player punts 35 yards to PHI 41, Cen...        None      punt  "
      ]
     },
     "execution_count": 6,
     "metadata": {},
     "output_type": "execute_result"
    }
   ],
   "source": [
    "df[['yardline_100', 'td_prob', 'no_score_prob', 'drive_inside20', 'desc', 'receiver', 'play_type']].head(10)"
   ]
  },
  {
   "cell_type": "code",
   "execution_count": null,
   "id": "a2d44997-c9f5-48a7-a8a6-0cc146c62510",
   "metadata": {},
   "outputs": [],
   "source": [
    "'offense_formation',\n",
    "       'offense_personnel', 'defenders_in_box', 'defense_personnel',\n",
    "       'number_of_pass_rushers', 'players_on_play', 'offense_players',\n",
    "       'defense_players', 'n_offense', 'n_defense', 'ngs_air_yards',\n",
    "       'time_to_throw', 'was_pressure', 'route', 'defense_man_zone_type',\n",
    "       'defense_coverage_type'"
   ]
  },
  {
   "cell_type": "code",
   "execution_count": 8,
   "id": "28ca2c86-2a8e-47e5-92ee-84dcce42d16f",
   "metadata": {},
   "outputs": [
    {
     "data": {
      "text/plain": [
       "array([nan, None, 'I_FORM', 'SHOTGUN', 'SINGLEBACK', 'PISTOL', 'JUMBO',\n",
       "       'EMPTY', 'WILDCAT'], dtype=object)"
      ]
     },
     "execution_count": 8,
     "metadata": {},
     "output_type": "execute_result"
    }
   ],
   "source": [
    "df[\"offense_formation\"].unique()"
   ]
  },
  {
   "cell_type": "code",
   "execution_count": 9,
   "id": "1890e3f4-1c3b-4a02-8bcb-1fa6945328fa",
   "metadata": {},
   "outputs": [
    {
     "data": {
      "text/plain": [
       "array([nan, None, 'COVER_3', 'COVER_0', 'COVER_1', 'COVER_2', 'COVER_4',\n",
       "       '2_MAN', 'COVER_6', 'PREVENT'], dtype=object)"
      ]
     },
     "execution_count": 9,
     "metadata": {},
     "output_type": "execute_result"
    }
   ],
   "source": [
    "df[\"defense_coverage_type\"].unique()"
   ]
  },
  {
   "cell_type": "code",
   "execution_count": 15,
   "id": "33d73231-d595-420b-bffa-74d59ae6ecc8",
   "metadata": {},
   "outputs": [
    {
     "data": {
      "text/plain": [
       "array([nan, None, 'ZONE_COVERAGE', 'MAN_COVERAGE'], dtype=object)"
      ]
     },
     "execution_count": 15,
     "metadata": {},
     "output_type": "execute_result"
    }
   ],
   "source": [
    "df[\"defense_man_zone_type\"].unique()"
   ]
  },
  {
   "cell_type": "code",
   "execution_count": 13,
   "id": "3974b2d1-c8f3-4f46-9c86-5aa7d9c3287c",
   "metadata": {},
   "outputs": [
    {
     "data": {
      "text/plain": [
       "array([nan, None, 'FLAT', 'ANGLE', 'SCREEN', 'HITCH', 'GO', 'OUT',\n",
       "       'SLANT', 'CROSS', 'POST', 'CORNER', 'IN', 'WHEEL'], dtype=object)"
      ]
     },
     "execution_count": 13,
     "metadata": {},
     "output_type": "execute_result"
    }
   ],
   "source": [
    "df[\"route\"].unique()"
   ]
  },
  {
   "cell_type": "markdown",
   "id": "75403982-8e4b-4170-80ef-deac221aae2a",
   "metadata": {},
   "source": [
    "# Columns"
   ]
  },
  {
   "cell_type": "code",
   "execution_count": 10,
   "id": "4e36dc03-7485-44ac-8ac2-6cd0eeb76283",
   "metadata": {},
   "outputs": [
    {
     "data": {
      "text/plain": [
       "Index(['play_id', 'game_id', 'old_game_id', 'home_team', 'away_team',\n",
       "       'season_type', 'week', 'posteam', 'posteam_type', 'defteam',\n",
       "       'side_of_field', 'yardline_100', 'game_date',\n",
       "       'quarter_seconds_remaining', 'half_seconds_remaining',\n",
       "       'game_seconds_remaining', 'game_half', 'quarter_end', 'drive', 'sp',\n",
       "       'qtr', 'down', 'goal_to_go', 'time', 'yrdln', 'ydstogo', 'ydsnet',\n",
       "       'desc', 'play_type', 'yards_gained', 'shotgun', 'no_huddle',\n",
       "       'qb_dropback', 'qb_kneel', 'qb_spike', 'qb_scramble', 'pass_length',\n",
       "       'pass_location', 'air_yards', 'yards_after_catch', 'run_location',\n",
       "       'run_gap', 'field_goal_result', 'kick_distance', 'extra_point_result',\n",
       "       'two_point_conv_result', 'home_timeouts_remaining',\n",
       "       'away_timeouts_remaining', 'timeout', 'timeout_team', 'td_team',\n",
       "       'td_player_name', 'td_player_id', 'posteam_timeouts_remaining',\n",
       "       'defteam_timeouts_remaining', 'total_home_score', 'total_away_score',\n",
       "       'posteam_score', 'defteam_score', 'score_differential',\n",
       "       'posteam_score_post', 'defteam_score_post', 'score_differential_post',\n",
       "       'no_score_prob', 'opp_fg_prob', 'opp_safety_prob', 'opp_td_prob',\n",
       "       'fg_prob', 'safety_prob', 'td_prob'],\n",
       "      dtype='object')"
      ]
     },
     "execution_count": 10,
     "metadata": {},
     "output_type": "execute_result"
    }
   ],
   "source": [
    "df.columns[:70]"
   ]
  },
  {
   "cell_type": "code",
   "execution_count": 12,
   "id": "11445a07-8fbc-418c-9408-2c005f0860d8",
   "metadata": {},
   "outputs": [
    {
     "data": {
      "text/plain": [
       "Index(['td_prob', 'extra_point_prob', 'two_point_conversion_prob', 'ep', 'epa',\n",
       "       'total_home_epa', 'total_away_epa', 'total_home_rush_epa',\n",
       "       'total_away_rush_epa', 'total_home_pass_epa', 'total_away_pass_epa',\n",
       "       'air_epa', 'yac_epa', 'comp_air_epa', 'comp_yac_epa',\n",
       "       'total_home_comp_air_epa', 'total_away_comp_air_epa',\n",
       "       'total_home_comp_yac_epa', 'total_away_comp_yac_epa',\n",
       "       'total_home_raw_air_epa', 'total_away_raw_air_epa',\n",
       "       'total_home_raw_yac_epa', 'total_away_raw_yac_epa', 'wp', 'def_wp',\n",
       "       'home_wp', 'away_wp', 'wpa', 'vegas_wpa', 'vegas_home_wpa',\n",
       "       'home_wp_post', 'away_wp_post', 'vegas_wp', 'vegas_home_wp',\n",
       "       'total_home_rush_wpa', 'total_away_rush_wpa', 'total_home_pass_wpa',\n",
       "       'total_away_pass_wpa', 'air_wpa', 'yac_wpa', 'comp_air_wpa',\n",
       "       'comp_yac_wpa', 'total_home_comp_air_wpa', 'total_away_comp_air_wpa',\n",
       "       'total_home_comp_yac_wpa', 'total_away_comp_yac_wpa',\n",
       "       'total_home_raw_air_wpa', 'total_away_raw_air_wpa',\n",
       "       'total_home_raw_yac_wpa', 'total_away_raw_yac_wpa', 'punt_blocked'],\n",
       "      dtype='object')"
      ]
     },
     "execution_count": 12,
     "metadata": {},
     "output_type": "execute_result"
    }
   ],
   "source": [
    "df.columns[69:120]"
   ]
  },
  {
   "cell_type": "code",
   "execution_count": 15,
   "id": "f62e9cda-2e26-4d74-b4c1-d71d8ce4692e",
   "metadata": {},
   "outputs": [
    {
     "data": {
      "text/plain": [
       "Index(['punt_blocked', 'first_down_rush', 'first_down_pass',\n",
       "       'first_down_penalty', 'third_down_converted', 'third_down_failed',\n",
       "       'fourth_down_converted', 'fourth_down_failed', 'incomplete_pass',\n",
       "       'touchback', 'interception', 'punt_inside_twenty', 'punt_in_endzone',\n",
       "       'punt_out_of_bounds', 'punt_downed', 'punt_fair_catch',\n",
       "       'kickoff_inside_twenty', 'kickoff_in_endzone', 'kickoff_out_of_bounds',\n",
       "       'kickoff_downed', 'kickoff_fair_catch', 'fumble_forced',\n",
       "       'fumble_not_forced', 'fumble_out_of_bounds', 'solo_tackle', 'safety',\n",
       "       'penalty', 'tackled_for_loss', 'fumble_lost', 'own_kickoff_recovery',\n",
       "       'own_kickoff_recovery_td', 'qb_hit', 'rush_attempt', 'pass_attempt',\n",
       "       'sack', 'touchdown', 'pass_touchdown', 'rush_touchdown',\n",
       "       'return_touchdown', 'extra_point_attempt', 'two_point_attempt',\n",
       "       'field_goal_attempt', 'kickoff_attempt', 'punt_attempt', 'fumble',\n",
       "       'complete_pass', 'assist_tackle', 'lateral_reception', 'lateral_rush',\n",
       "       'lateral_return', 'lateral_recovery', 'passer_player_id',\n",
       "       'passer_player_name', 'passing_yards', 'receiver_player_id',\n",
       "       'receiver_player_name', 'receiving_yards', 'rusher_player_id',\n",
       "       'rusher_player_name', 'rushing_yards'],\n",
       "      dtype='object')"
      ]
     },
     "execution_count": 15,
     "metadata": {},
     "output_type": "execute_result"
    }
   ],
   "source": [
    "df.columns[119:179]"
   ]
  },
  {
   "cell_type": "code",
   "execution_count": 16,
   "id": "9ece0792-a283-4d52-ac1b-e3f5c27d9041",
   "metadata": {},
   "outputs": [
    {
     "data": {
      "text/plain": [
       "Index(['rushing_yards', 'lateral_receiver_player_id',\n",
       "       'lateral_receiver_player_name', 'lateral_receiving_yards',\n",
       "       'lateral_rusher_player_id', 'lateral_rusher_player_name',\n",
       "       'lateral_rushing_yards', 'lateral_sack_player_id',\n",
       "       'lateral_sack_player_name', 'interception_player_id',\n",
       "       'interception_player_name', 'lateral_interception_player_id',\n",
       "       'lateral_interception_player_name', 'punt_returner_player_id',\n",
       "       'punt_returner_player_name', 'lateral_punt_returner_player_id',\n",
       "       'lateral_punt_returner_player_name', 'kickoff_returner_player_name',\n",
       "       'kickoff_returner_player_id', 'lateral_kickoff_returner_player_id',\n",
       "       'lateral_kickoff_returner_player_name', 'punter_player_id',\n",
       "       'punter_player_name', 'kicker_player_name', 'kicker_player_id',\n",
       "       'own_kickoff_recovery_player_id', 'own_kickoff_recovery_player_name',\n",
       "       'blocked_player_id', 'blocked_player_name',\n",
       "       'tackle_for_loss_1_player_id', 'tackle_for_loss_1_player_name',\n",
       "       'tackle_for_loss_2_player_id', 'tackle_for_loss_2_player_name',\n",
       "       'qb_hit_1_player_id', 'qb_hit_1_player_name', 'qb_hit_2_player_id',\n",
       "       'qb_hit_2_player_name', 'forced_fumble_player_1_team',\n",
       "       'forced_fumble_player_1_player_id',\n",
       "       'forced_fumble_player_1_player_name', 'forced_fumble_player_2_team',\n",
       "       'forced_fumble_player_2_player_id',\n",
       "       'forced_fumble_player_2_player_name', 'solo_tackle_1_team',\n",
       "       'solo_tackle_2_team', 'solo_tackle_1_player_id',\n",
       "       'solo_tackle_2_player_id', 'solo_tackle_1_player_name',\n",
       "       'solo_tackle_2_player_name', 'assist_tackle_1_player_id',\n",
       "       'assist_tackle_1_player_name', 'assist_tackle_1_team',\n",
       "       'assist_tackle_2_player_id', 'assist_tackle_2_player_name',\n",
       "       'assist_tackle_2_team', 'assist_tackle_3_player_id',\n",
       "       'assist_tackle_3_player_name', 'assist_tackle_3_team',\n",
       "       'assist_tackle_4_player_id', 'assist_tackle_4_player_name'],\n",
       "      dtype='object')"
      ]
     },
     "execution_count": 16,
     "metadata": {},
     "output_type": "execute_result"
    }
   ],
   "source": [
    "df.columns[178:238]"
   ]
  },
  {
   "cell_type": "code",
   "execution_count": 19,
   "id": "57bf5f41-bd5f-4b75-b411-179f0ffce4ab",
   "metadata": {},
   "outputs": [
    {
     "data": {
      "text/plain": [
       "Index(['assist_tackle_4_player_name', 'assist_tackle_4_team',\n",
       "       'tackle_with_assist', 'tackle_with_assist_1_player_id',\n",
       "       'tackle_with_assist_1_player_name', 'tackle_with_assist_1_team',\n",
       "       'tackle_with_assist_2_player_id', 'tackle_with_assist_2_player_name',\n",
       "       'tackle_with_assist_2_team', 'pass_defense_1_player_id',\n",
       "       'pass_defense_1_player_name', 'pass_defense_2_player_id',\n",
       "       'pass_defense_2_player_name', 'fumbled_1_team', 'fumbled_1_player_id',\n",
       "       'fumbled_1_player_name', 'fumbled_2_player_id', 'fumbled_2_player_name',\n",
       "       'fumbled_2_team', 'fumble_recovery_1_team', 'fumble_recovery_1_yards',\n",
       "       'fumble_recovery_1_player_id', 'fumble_recovery_1_player_name',\n",
       "       'fumble_recovery_2_team', 'fumble_recovery_2_yards',\n",
       "       'fumble_recovery_2_player_id', 'fumble_recovery_2_player_name',\n",
       "       'sack_player_id', 'sack_player_name', 'half_sack_1_player_id',\n",
       "       'half_sack_1_player_name', 'half_sack_2_player_id',\n",
       "       'half_sack_2_player_name', 'return_team', 'return_yards',\n",
       "       'penalty_team', 'penalty_player_id', 'penalty_player_name',\n",
       "       'penalty_yards', 'replay_or_challenge', 'replay_or_challenge_result',\n",
       "       'penalty_type', 'defensive_two_point_attempt',\n",
       "       'defensive_two_point_conv', 'defensive_extra_point_attempt',\n",
       "       'defensive_extra_point_conv', 'safety_player_name', 'safety_player_id',\n",
       "       'season', 'cp', 'cpoe', 'series', 'series_success'],\n",
       "      dtype='object')"
      ]
     },
     "execution_count": 19,
     "metadata": {},
     "output_type": "execute_result"
    }
   ],
   "source": [
    "df.columns[237:290]"
   ]
  },
  {
   "cell_type": "code",
   "execution_count": 20,
   "id": "ebfccd75-6251-4400-ab02-6cfda4cb68b2",
   "metadata": {},
   "outputs": [
    {
     "data": {
      "text/plain": [
       "Index(['series_success', 'series_result', 'order_sequence', 'start_time',\n",
       "       'time_of_day', 'stadium', 'weather', 'nfl_api_id', 'play_clock',\n",
       "       'play_deleted', 'play_type_nfl', 'special_teams_play', 'st_play_type',\n",
       "       'end_clock_time', 'end_yard_line', 'fixed_drive', 'fixed_drive_result',\n",
       "       'drive_real_start_time', 'drive_play_count', 'drive_time_of_possession',\n",
       "       'drive_first_downs', 'drive_inside20', 'drive_ended_with_score',\n",
       "       'drive_quarter_start', 'drive_quarter_end', 'drive_yards_penalized',\n",
       "       'drive_start_transition', 'drive_end_transition',\n",
       "       'drive_game_clock_start', 'drive_game_clock_end',\n",
       "       'drive_start_yard_line', 'drive_end_yard_line', 'drive_play_id_started',\n",
       "       'drive_play_id_ended', 'away_score', 'home_score', 'location', 'result',\n",
       "       'total', 'spread_line', 'total_line', 'div_game', 'roof', 'surface',\n",
       "       'temp', 'wind', 'home_coach', 'away_coach', 'stadium_id',\n",
       "       'game_stadium', 'aborted_play'],\n",
       "      dtype='object')"
      ]
     },
     "execution_count": 20,
     "metadata": {},
     "output_type": "execute_result"
    }
   ],
   "source": [
    "df.columns[289:340]"
   ]
  },
  {
   "cell_type": "code",
   "execution_count": 21,
   "id": "a38644e0-3de5-4625-acb4-d44c6985d081",
   "metadata": {},
   "outputs": [
    {
     "data": {
      "text/plain": [
       "Index(['aborted_play', 'success', 'passer', 'passer_jersey_number', 'rusher',\n",
       "       'rusher_jersey_number', 'receiver', 'receiver_jersey_number', 'pass',\n",
       "       'rush', 'first_down', 'special', 'play', 'passer_id', 'rusher_id',\n",
       "       'receiver_id', 'name', 'jersey_number', 'id', 'fantasy_player_name',\n",
       "       'fantasy_player_id', 'fantasy', 'fantasy_id', 'out_of_bounds',\n",
       "       'home_opening_kickoff', 'qb_epa', 'xyac_epa', 'xyac_mean_yardage',\n",
       "       'xyac_median_yardage', 'xyac_success', 'xyac_fd', 'xpass', 'pass_oe',\n",
       "       'nflverse_game_id', 'possession_team', 'offense_formation',\n",
       "       'offense_personnel', 'defenders_in_box', 'defense_personnel',\n",
       "       'number_of_pass_rushers', 'players_on_play', 'offense_players',\n",
       "       'defense_players', 'n_offense', 'n_defense', 'ngs_air_yards',\n",
       "       'time_to_throw', 'was_pressure', 'route', 'defense_man_zone_type',\n",
       "       'defense_coverage_type'],\n",
       "      dtype='object')"
      ]
     },
     "execution_count": 21,
     "metadata": {},
     "output_type": "execute_result"
    }
   ],
   "source": [
    "df.columns[339:395]"
   ]
  },
  {
   "cell_type": "code",
   "execution_count": null,
   "id": "8d0b929b-a3ce-4b90-a701-7b8a40b2d0a6",
   "metadata": {},
   "outputs": [],
   "source": []
  }
 ],
 "metadata": {
  "kernelspec": {
   "display_name": "nfldata",
   "language": "python",
   "name": "nfldata"
  },
  "language_info": {
   "codemirror_mode": {
    "name": "ipython",
    "version": 3
   },
   "file_extension": ".py",
   "mimetype": "text/x-python",
   "name": "python",
   "nbconvert_exporter": "python",
   "pygments_lexer": "ipython3",
   "version": "3.10.12"
  }
 },
 "nbformat": 4,
 "nbformat_minor": 5
}
