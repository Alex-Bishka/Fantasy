{
 "cells": [
  {
   "cell_type": "markdown",
   "id": "fd3f3e4a",
   "metadata": {},
   "source": [
    "# Imports"
   ]
  },
  {
   "cell_type": "code",
   "execution_count": 1,
   "id": "09331828",
   "metadata": {},
   "outputs": [],
   "source": [
    "import pandas as pd\n",
    "import nfl_data_py as nfl"
   ]
  },
  {
   "cell_type": "markdown",
   "id": "6c8b6b45",
   "metadata": {},
   "source": [
    "# Creating Mass Data Set"
   ]
  },
  {
   "cell_type": "code",
   "execution_count": 3,
   "id": "a9cd8a1b",
   "metadata": {},
   "outputs": [],
   "source": [
    "years = range(1999, 2023 + 1)"
   ]
  },
  {
   "cell_type": "code",
   "execution_count": 4,
   "id": "80739a1d",
   "metadata": {},
   "outputs": [],
   "source": [
    "df_roster = nfl.import_seasonal_rosters(years)"
   ]
  },
  {
   "cell_type": "code",
   "execution_count": 5,
   "id": "1ae9d8f6",
   "metadata": {},
   "outputs": [],
   "source": [
    "df_roster_seasonal = df_roster[[\"season\", \"position\", \"player_name\", \"player_id\", \"age\"]]"
   ]
  },
  {
   "cell_type": "code",
   "execution_count": 6,
   "id": "95eb162d",
   "metadata": {},
   "outputs": [
    {
     "data": {
      "text/html": [
       "<div>\n",
       "<style scoped>\n",
       "    .dataframe tbody tr th:only-of-type {\n",
       "        vertical-align: middle;\n",
       "    }\n",
       "\n",
       "    .dataframe tbody tr th {\n",
       "        vertical-align: top;\n",
       "    }\n",
       "\n",
       "    .dataframe thead th {\n",
       "        text-align: right;\n",
       "    }\n",
       "</style>\n",
       "<table border=\"1\" class=\"dataframe\">\n",
       "  <thead>\n",
       "    <tr style=\"text-align: right;\">\n",
       "      <th></th>\n",
       "      <th>season</th>\n",
       "      <th>position</th>\n",
       "      <th>player_name</th>\n",
       "      <th>player_id</th>\n",
       "      <th>age</th>\n",
       "    </tr>\n",
       "  </thead>\n",
       "  <tbody>\n",
       "    <tr>\n",
       "      <th>2130</th>\n",
       "      <td>2014</td>\n",
       "      <td>WR</td>\n",
       "      <td>Mike Evans</td>\n",
       "      <td>00-0031408</td>\n",
       "      <td>21.0</td>\n",
       "    </tr>\n",
       "    <tr>\n",
       "      <th>1807</th>\n",
       "      <td>2015</td>\n",
       "      <td>WR</td>\n",
       "      <td>Mike Evans</td>\n",
       "      <td>00-0031408</td>\n",
       "      <td>22.0</td>\n",
       "    </tr>\n",
       "    <tr>\n",
       "      <th>1805</th>\n",
       "      <td>2016</td>\n",
       "      <td>WR</td>\n",
       "      <td>Mike Evans</td>\n",
       "      <td>00-0031408</td>\n",
       "      <td>23.0</td>\n",
       "    </tr>\n",
       "    <tr>\n",
       "      <th>1324</th>\n",
       "      <td>2017</td>\n",
       "      <td>WR</td>\n",
       "      <td>Mike Evans</td>\n",
       "      <td>00-0031408</td>\n",
       "      <td>24.0</td>\n",
       "    </tr>\n",
       "    <tr>\n",
       "      <th>989</th>\n",
       "      <td>2018</td>\n",
       "      <td>WR</td>\n",
       "      <td>Mike Evans</td>\n",
       "      <td>00-0031408</td>\n",
       "      <td>25.0</td>\n",
       "    </tr>\n",
       "    <tr>\n",
       "      <th>735</th>\n",
       "      <td>2019</td>\n",
       "      <td>WR</td>\n",
       "      <td>Mike Evans</td>\n",
       "      <td>00-0031408</td>\n",
       "      <td>26.0</td>\n",
       "    </tr>\n",
       "    <tr>\n",
       "      <th>653</th>\n",
       "      <td>2020</td>\n",
       "      <td>WR</td>\n",
       "      <td>Mike Evans</td>\n",
       "      <td>00-0031408</td>\n",
       "      <td>27.0</td>\n",
       "    </tr>\n",
       "    <tr>\n",
       "      <th>417</th>\n",
       "      <td>2021</td>\n",
       "      <td>WR</td>\n",
       "      <td>Mike Evans</td>\n",
       "      <td>00-0031408</td>\n",
       "      <td>28.0</td>\n",
       "    </tr>\n",
       "    <tr>\n",
       "      <th>285</th>\n",
       "      <td>2022</td>\n",
       "      <td>WR</td>\n",
       "      <td>Mike Evans</td>\n",
       "      <td>00-0031408</td>\n",
       "      <td>29.0</td>\n",
       "    </tr>\n",
       "    <tr>\n",
       "      <th>187</th>\n",
       "      <td>2023</td>\n",
       "      <td>WR</td>\n",
       "      <td>Mike Evans</td>\n",
       "      <td>00-0031408</td>\n",
       "      <td>30.0</td>\n",
       "    </tr>\n",
       "  </tbody>\n",
       "</table>\n",
       "</div>"
      ],
      "text/plain": [
       "      season position player_name   player_id   age\n",
       "2130    2014       WR  Mike Evans  00-0031408  21.0\n",
       "1807    2015       WR  Mike Evans  00-0031408  22.0\n",
       "1805    2016       WR  Mike Evans  00-0031408  23.0\n",
       "1324    2017       WR  Mike Evans  00-0031408  24.0\n",
       "989     2018       WR  Mike Evans  00-0031408  25.0\n",
       "735     2019       WR  Mike Evans  00-0031408  26.0\n",
       "653     2020       WR  Mike Evans  00-0031408  27.0\n",
       "417     2021       WR  Mike Evans  00-0031408  28.0\n",
       "285     2022       WR  Mike Evans  00-0031408  29.0\n",
       "187     2023       WR  Mike Evans  00-0031408  30.0"
      ]
     },
     "execution_count": 6,
     "metadata": {},
     "output_type": "execute_result"
    }
   ],
   "source": [
    "df_roster_seasonal.query(\"player_name == 'Mike Evans'\")"
   ]
  },
  {
   "cell_type": "code",
   "execution_count": 7,
   "id": "4f37d288",
   "metadata": {},
   "outputs": [],
   "source": [
    "df_roster_seasonal.reset_index(inplace=True)"
   ]
  },
  {
   "cell_type": "code",
   "execution_count": 8,
   "id": "805c77a6",
   "metadata": {},
   "outputs": [],
   "source": [
    "df_seasonal = nfl.import_seasonal_data(years)"
   ]
  },
  {
   "cell_type": "code",
   "execution_count": 15,
   "id": "df2721ac",
   "metadata": {},
   "outputs": [],
   "source": [
    "df_merge = df_seasonal.merge(df_roster_seasonal, on=[\"player_id\", \"season\"], how=\"left\")"
   ]
  },
  {
   "cell_type": "code",
   "execution_count": 16,
   "id": "cfc65353",
   "metadata": {},
   "outputs": [],
   "source": [
    "df_merge_cleaned = df_merge.drop_duplicates().dropna()"
   ]
  },
  {
   "cell_type": "code",
   "execution_count": 18,
   "id": "dba0e026",
   "metadata": {},
   "outputs": [],
   "source": [
    "df_merge_cleaned.to_pickle(\"../../FantasyData/data-frames/df_all_2005_2023.pkl\")"
   ]
  },
  {
   "cell_type": "code",
   "execution_count": null,
   "id": "0ee08d12",
   "metadata": {},
   "outputs": [],
   "source": []
  }
 ],
 "metadata": {
  "kernelspec": {
   "display_name": "nfldata",
   "language": "python",
   "name": "nfldata"
  },
  "language_info": {
   "codemirror_mode": {
    "name": "ipython",
    "version": 3
   },
   "file_extension": ".py",
   "mimetype": "text/x-python",
   "name": "python",
   "nbconvert_exporter": "python",
   "pygments_lexer": "ipython3",
   "version": "3.10.12"
  }
 },
 "nbformat": 4,
 "nbformat_minor": 5
}
