{
 "cells": [
  {
   "cell_type": "markdown",
   "id": "fd3f3e4a",
   "metadata": {},
   "source": [
    "# Imports"
   ]
  },
  {
   "cell_type": "code",
   "execution_count": 2,
   "id": "09331828",
   "metadata": {},
   "outputs": [],
   "source": [
    "import math\n",
    "import pandas as pd\n",
    "import nfl_data_py as nfl"
   ]
  },
  {
   "cell_type": "markdown",
   "id": "6c8b6b45",
   "metadata": {},
   "source": [
    "# Creating Mass Data Set"
   ]
  },
  {
   "cell_type": "code",
   "execution_count": 3,
   "id": "a9cd8a1b",
   "metadata": {},
   "outputs": [],
   "source": [
    "years = range(2005, 2023 + 1)"
   ]
  },
  {
   "cell_type": "code",
   "execution_count": 4,
   "id": "80739a1d",
   "metadata": {},
   "outputs": [],
   "source": [
    "df_roster = nfl.import_seasonal_rosters(years)"
   ]
  },
  {
   "cell_type": "code",
   "execution_count": 5,
   "id": "1ae9d8f6",
   "metadata": {},
   "outputs": [],
   "source": [
    "df_roster_seasonal = df_roster.groupby([\"position\", \"player_name\", \"player_id\"]).agg({\"age\": [\"mean\"]})"
   ]
  },
  {
   "cell_type": "code",
   "execution_count": 6,
   "id": "95eb162d",
   "metadata": {},
   "outputs": [],
   "source": [
    "df_roster_seasonal.columns = list(map(\"_\".join, df_roster_seasonal.columns))\n",
    "df_roster_seasonal.reset_index(inplace=True)"
   ]
  },
  {
   "cell_type": "code",
   "execution_count": 7,
   "id": "4f37d288",
   "metadata": {},
   "outputs": [],
   "source": [
    "df_roster_seasonal[\"age\"] = df_roster_seasonal[\"age_mean\"].dropna().apply(math.floor)\n",
    "df_roster_seasonal.drop(columns=[\"age_mean\"], inplace=True)"
   ]
  },
  {
   "cell_type": "code",
   "execution_count": 8,
   "id": "805c77a6",
   "metadata": {},
   "outputs": [],
   "source": [
    "df_seasonal = nfl.import_seasonal_data(years)"
   ]
  },
  {
   "cell_type": "code",
   "execution_count": 15,
   "id": "df2721ac",
   "metadata": {},
   "outputs": [],
   "source": [
    "df_merge = df_seasonal.merge(df_roster_seasonal, on=\"player_id\", how=\"left\")"
   ]
  },
  {
   "cell_type": "code",
   "execution_count": 16,
   "id": "cfc65353",
   "metadata": {},
   "outputs": [],
   "source": [
    "df_merge_cleaned = df_merge.drop_duplicates().dropna()"
   ]
  },
  {
   "cell_type": "code",
   "execution_count": 18,
   "id": "dba0e026",
   "metadata": {},
   "outputs": [],
   "source": [
    "df_merge_cleaned.to_pickle(\"../../FantasyData/data-frames/df_all_2005_2023.pkl\")"
   ]
  },
  {
   "cell_type": "code",
   "execution_count": null,
   "id": "0ee08d12",
   "metadata": {},
   "outputs": [],
   "source": []
  }
 ],
 "metadata": {
  "kernelspec": {
   "display_name": "nfldata",
   "language": "python",
   "name": "nfldata"
  },
  "language_info": {
   "codemirror_mode": {
    "name": "ipython",
    "version": 3
   },
   "file_extension": ".py",
   "mimetype": "text/x-python",
   "name": "python",
   "nbconvert_exporter": "python",
   "pygments_lexer": "ipython3",
   "version": "3.10.12"
  }
 },
 "nbformat": 4,
 "nbformat_minor": 5
}
