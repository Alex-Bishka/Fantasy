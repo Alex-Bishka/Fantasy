{
 "cells": [
  {
   "cell_type": "markdown",
   "id": "fd3f3e4a",
   "metadata": {},
   "source": [
    "# Imports"
   ]
  },
  {
   "cell_type": "code",
   "execution_count": null,
   "id": "09331828",
   "metadata": {},
   "outputs": [],
   "source": [
    "import numpy as np\n",
    "import pandas as pd\n",
    "import nfl_data_py as nfl"
   ]
  },
  {
   "cell_type": "markdown",
   "id": "6c8b6b45",
   "metadata": {},
   "source": [
    "# Importing NFL Data"
   ]
  },
  {
   "cell_type": "code",
   "execution_count": null,
   "id": "a9cd8a1b",
   "metadata": {},
   "outputs": [],
   "source": [
    "years = range(1999, 2023 + 1)"
   ]
  },
  {
   "cell_type": "code",
   "execution_count": null,
   "id": "80739a1d",
   "metadata": {},
   "outputs": [],
   "source": [
    "# df_roster = nfl.import_seasonal_rosters(years)\n",
    "# df_roster.to_pickle(\"./df_roster_99_23.pkl\")"
   ]
  },
  {
   "cell_type": "code",
   "execution_count": null,
   "id": "1b7b872f",
   "metadata": {},
   "outputs": [],
   "source": [
    "df_roster = pd.read_pickle(\"./construction_dfs/df_roster_99_23.pkl\")"
   ]
  },
  {
   "cell_type": "code",
   "execution_count": null,
   "id": "a513713f",
   "metadata": {},
   "outputs": [],
   "source": [
    "# df_seasonal = nfl.import_seasonal_data(years)\n",
    "# df_seasonal.to_pickle(\"./seasonal_99_23.pkl\")"
   ]
  },
  {
   "cell_type": "code",
   "execution_count": null,
   "id": "1c578992",
   "metadata": {},
   "outputs": [],
   "source": [
    "df_seasonal = pd.read_pickle(\"./construction_dfs/seasonal_99_23.pkl\")"
   ]
  },
  {
   "cell_type": "code",
   "execution_count": null,
   "id": "825f61c2",
   "metadata": {},
   "outputs": [],
   "source": [
    "df_seasonal.head()"
   ]
  },
  {
   "cell_type": "markdown",
   "id": "b199efc7",
   "metadata": {},
   "source": [
    "# Creating Data Set"
   ]
  },
  {
   "cell_type": "code",
   "execution_count": null,
   "id": "1ae9d8f6",
   "metadata": {},
   "outputs": [],
   "source": [
    "df_roster_seasonal = df_roster[[\"season\", \"position\", \"player_name\", \"player_id\", \"age\", 'team']]"
   ]
  },
  {
   "cell_type": "code",
   "execution_count": null,
   "id": "95eb162d",
   "metadata": {},
   "outputs": [],
   "source": [
    "df_roster_seasonal.query(\"player_name == 'Mike Evans'\")"
   ]
  },
  {
   "cell_type": "code",
   "execution_count": null,
   "id": "4f37d288",
   "metadata": {},
   "outputs": [],
   "source": [
    "df_roster_seasonal.reset_index(inplace=True)"
   ]
  },
  {
   "cell_type": "code",
   "execution_count": null,
   "id": "df2721ac",
   "metadata": {},
   "outputs": [],
   "source": [
    "df_merge = df_seasonal.merge(df_roster_seasonal, on=[\"player_id\", \"season\"], how=\"left\")"
   ]
  },
  {
   "cell_type": "code",
   "execution_count": null,
   "id": "21bf814e",
   "metadata": {},
   "outputs": [],
   "source": [
    "df_merge.query(\"player_name == 'Mike Evans'\")"
   ]
  },
  {
   "cell_type": "code",
   "execution_count": null,
   "id": "1972c920",
   "metadata": {},
   "outputs": [],
   "source": [
    "df_merge.head()"
   ]
  },
  {
   "cell_type": "markdown",
   "id": "6c606c2c",
   "metadata": {},
   "source": [
    "## Cleaning up Team for future use"
   ]
  },
  {
   "cell_type": "code",
   "execution_count": null,
   "id": "cfbf16a2",
   "metadata": {},
   "outputs": [],
   "source": [
    "team_mapping = {\n",
    "    'CLE': 'Browns',\n",
    "    'MIA': 'Dolphins',\n",
    "    'IND': 'Colts',\n",
    "    'TB': 'Buccaneers',\n",
    "    'CHI': 'Bears',\n",
    "    'NE': 'Patriots',\n",
    "    'DAL': 'Cowboys',\n",
    "    'PHI': 'Eagles',\n",
    "    'SF': '49ers',\n",
    "    'KC': 'Chiefs',\n",
    "    'MIN': 'Vikings',\n",
    "    'WAS': 'Redskins', # for init mapping - 2022 and onward is the commanders in draft data\n",
    "    'SD': 'Chargers',\n",
    "    'DET': 'Lions',\n",
    "    'DEN': 'Broncos',\n",
    "    'NYG': 'Giants',\n",
    "    'HST': 'Texans',\n",
    "    'NO': 'Saints',\n",
    "    'BAL': 'Ravens',\n",
    "    'PIT': 'Steelers',\n",
    "    'ATL': 'Falcons',\n",
    "    'NYJ': 'Jets',\n",
    "    'ARZ': 'Cardinals',\n",
    "    'SEA': 'Seahawks',\n",
    "    'GB': 'Packers',\n",
    "    'JAX': 'Jaguars',\n",
    "    'CIN': 'Bengals',\n",
    "    'ARI': 'Cardinals',\n",
    "    'CAR': 'Panthers',\n",
    "    'BLT': 'Ravens',\n",
    "    'BUF': 'Bills',\n",
    "    'SL': 'Rams',  # St. Louis Rams\n",
    "    'CLV': 'Browns',\n",
    "    'OAK': 'Raiders',\n",
    "    'STL': 'Rams',  # St. Louis Rams, same as 'SL'\n",
    "    'TEN': 'Titans',\n",
    "    'LAC': 'Chargers',\n",
    "    'LV': 'Raiders',\n",
    "    'HOU': 'Texans',\n",
    "    'LA': 'Rams',  # Los Angeles Rams\n",
    "}"
   ]
  },
  {
   "cell_type": "code",
   "execution_count": null,
   "id": "a641f387",
   "metadata": {},
   "outputs": [],
   "source": [
    "df_merge['team'] = df_merge['team'].replace(team_mapping)"
   ]
  },
  {
   "cell_type": "code",
   "execution_count": null,
   "id": "c965c2e4",
   "metadata": {},
   "outputs": [],
   "source": [
    "df_merge.loc[(df_merge['season'] >= 2022) & (df_merge['team'] == 'Redskins'), 'team'] = 'Commanders'"
   ]
  },
  {
   "cell_type": "markdown",
   "id": "0e6ef370",
   "metadata": {},
   "source": [
    "# Adding Fantasy Rank"
   ]
  },
  {
   "cell_type": "code",
   "execution_count": null,
   "id": "0caee7d5",
   "metadata": {},
   "outputs": [],
   "source": [
    "df_filter = df_merge.copy() \\\n",
    "    .query(\"position == 'QB' or position == 'RB' or position == 'WR' or position == 'TE'\")"
   ]
  },
  {
   "cell_type": "code",
   "execution_count": null,
   "id": "7ac0a010",
   "metadata": {},
   "outputs": [],
   "source": [
    "df_filter['rank'] = df_filter \\\n",
    "    .groupby(['season', 'position'])['fantasy_points_ppr'] \\\n",
    "    .rank(method='first', ascending=False)"
   ]
  },
  {
   "cell_type": "code",
   "execution_count": null,
   "id": "d6300faf",
   "metadata": {},
   "outputs": [],
   "source": [
    "df_filter.query(\"player_name == 'Mike Evans'\")"
   ]
  },
  {
   "cell_type": "code",
   "execution_count": null,
   "id": "0ae7cc01",
   "metadata": {},
   "outputs": [],
   "source": [
    "def assign_tier(rank):\n",
    "    return np.ceil(rank / 12)"
   ]
  },
  {
   "cell_type": "code",
   "execution_count": null,
   "id": "f2ae3ae1",
   "metadata": {},
   "outputs": [],
   "source": [
    "df_filter['tier'] = df_filter['rank'].apply(assign_tier)"
   ]
  },
  {
   "cell_type": "code",
   "execution_count": null,
   "id": "ba0dfa5c",
   "metadata": {},
   "outputs": [],
   "source": [
    "df_filter.query(\"player_name == 'Mike Evans'\")"
   ]
  },
  {
   "cell_type": "markdown",
   "id": "c27dd67d",
   "metadata": {},
   "source": [
    "# Adding Draft Data"
   ]
  },
  {
   "cell_type": "markdown",
   "id": "ac71655f",
   "metadata": {},
   "source": [
    "### Grabbing All Draft Years"
   ]
  },
  {
   "cell_type": "code",
   "execution_count": null,
   "id": "c01e187a",
   "metadata": {},
   "outputs": [],
   "source": [
    "df_qb_draft = pd.read_pickle(\"./draft_dfs/draft_order_qb_1937_2023.pkl\")\n",
    "df_rb_draft = pd.read_pickle(\"./draft_dfs/draft_order_rb_1936_2023.pkl\")\n",
    "df_wr_draft = pd.read_pickle(\"./draft_dfs/draft_order_wr_1945_2023.pkl\")\n",
    "df_te_draft = pd.read_pickle(\"./draft_dfs/draft_order_te_1953_2023.pkl\")"
   ]
  },
  {
   "cell_type": "code",
   "execution_count": null,
   "id": "616b1034",
   "metadata": {},
   "outputs": [],
   "source": [
    "df_qb_draft.head()"
   ]
  },
  {
   "cell_type": "markdown",
   "id": "cb88bd2d",
   "metadata": {},
   "source": [
    "### Helper Functions for Combining the Data"
   ]
  },
  {
   "cell_type": "code",
   "execution_count": null,
   "id": "64bfdd69",
   "metadata": {},
   "outputs": [],
   "source": [
    "draft_dfs = {\n",
    "    'QB': df_qb_draft,\n",
    "    'RB': df_rb_draft,\n",
    "    'WR': df_wr_draft,\n",
    "    'TE': df_te_draft\n",
    "}"
   ]
  },
  {
   "cell_type": "code",
   "execution_count": null,
   "id": "5e5b606c",
   "metadata": {},
   "outputs": [],
   "source": [
    "import re\n",
    "\n",
    "def parse_latest_college(text):\n",
    "    # Regex pattern to find college names followed by years in parentheses\n",
    "    pattern = r\"([A-Za-z\\s&]+)\\s\\((\\d{4})(?:\\s?[-–]\\s?(\\d{4}))?\\)\"\n",
    "    matches = re.findall(pattern, text)\n",
    "    \n",
    "    latest_year = 0\n",
    "    latest_college = None\n",
    "    \n",
    "    for match in matches:\n",
    "        college, start_year, end_year = match\n",
    "        college = college.strip()\n",
    "        start_year = int(start_year)\n",
    "        \n",
    "        # If end year is not specified, assume it's the same as start year\n",
    "        if end_year:\n",
    "            end_year = int(end_year)\n",
    "        else:\n",
    "            end_year = start_year\n",
    "        \n",
    "        # Check if this is the most recent year\n",
    "        if end_year > latest_year:\n",
    "            latest_year = end_year\n",
    "            latest_college = college\n",
    "    \n",
    "    return latest_college\n",
    "\n",
    "def parse_draft_info(text):\n",
    "    # Regex pattern for draft info\n",
    "    draft_pattern = r\"(\\d{4})\\s*/\\s*Round:\\s*(\\d+)\\s*/\\s*Pick:\\s*(\\d+)\"\n",
    "    undrafted_pattern = r\"(\\d{4})\"\n",
    "    \n",
    "    # Try to match the draft pattern\n",
    "    draft_match = re.search(draft_pattern, text)\n",
    "    if draft_match:\n",
    "        # Extract year, round, and pick from the draft info\n",
    "        year, round_, pick = draft_match.groups()\n",
    "        return {\n",
    "            \"Year\": int(year),\n",
    "            \"Round\": int(round_),\n",
    "            \"Pick\": int(pick)\n",
    "        }\n",
    "    \n",
    "    # If no draft info, try to match the undrafted pattern\n",
    "    undrafted_match = re.search(undrafted_pattern, text)\n",
    "    if undrafted_match:\n",
    "        year = undrafted_match.group(1)\n",
    "        return {\n",
    "            \"Year\": int(year),\n",
    "            \"Round\": \"Undrafted\",\n",
    "            \"Pick\": \"Undrafted\"\n",
    "        }\n",
    "    \n",
    "    # Return None if no valid format is found (or adjust as necessary)\n",
    "    return {\n",
    "            \"Year\": None,\n",
    "            \"Round\": None,\n",
    "            \"Pick\": None\n",
    "        }"
   ]
  },
  {
   "cell_type": "code",
   "execution_count": null,
   "id": "98104415",
   "metadata": {},
   "outputs": [],
   "source": [
    "import requests\n",
    "from bs4 import BeautifulSoup\n",
    "\n",
    "def grab_empty_query(url, position):\n",
    "    \"\"\"\"\"\"\n",
    "    # Fetch the page\n",
    "    response = requests.get(url)\n",
    "\n",
    "    # Check if the request was successful\n",
    "    if response.status_code == 200:\n",
    "        # Parse the HTML content\n",
    "        soup = BeautifulSoup(response.content, 'html.parser')\n",
    "        \n",
    "        # undrafted case\n",
    "        if soup.find('th', string='Undrafted:'):\n",
    "            draft_info = soup.find('th', string='Undrafted:').find_next_sibling('td').text\n",
    "            \n",
    "        # drafted case\n",
    "        elif soup.find('th', string='NFL draft:'):\n",
    "            draft_info = soup.find('th', string='NFL draft:').find_next_sibling('td').text\n",
    "        \n",
    "        # we ran into a problem\n",
    "        else:\n",
    "            print(\"retry\")\n",
    "            add_on_dict = {\n",
    "                \"QB\": '(quarterback)',\n",
    "                \"RB\": '(running_back)',\n",
    "                \"WR\": '(wide_receiver)',\n",
    "                \"TE\": '(tight_end)'\n",
    "            }\n",
    "            response = requests.get(f\"{url}_{add_on_dict[position]}\")\n",
    "            soup = BeautifulSoup(response.content, 'html.parser')\n",
    "            \n",
    "            # undrafted case\n",
    "            if soup.find('th', string='Undrafted:'):\n",
    "                draft_info = soup.find('th', string='Undrafted:').find_next_sibling('td').text\n",
    "\n",
    "            # drafted case\n",
    "            elif soup.find('th', string='NFL draft:'):\n",
    "                draft_info = soup.find('th', string='NFL draft:').find_next_sibling('td').text\n",
    "                \n",
    "            else:\n",
    "                return {\n",
    "                \"Year\": None,\n",
    "                \"Round\": None,\n",
    "                \"Pick\": None,\n",
    "                \"College\": None\n",
    "            }\n",
    "\n",
    "        \n",
    "        # parsing draft data from result of soup\n",
    "        player_info = parse_draft_info(draft_info)\n",
    "        \n",
    "        # parsing college info from soup\n",
    "        if soup.find('th', string='College:'):\n",
    "            college_info = soup.find('th', string='College:').find_next_sibling('td').text\n",
    "            college = parse_latest_college(college_info)\n",
    "        else:\n",
    "            college = None\n",
    "\n",
    "        # update player_info\n",
    "        player_info[\"College\"] = college\n",
    "            \n",
    "        return player_info\n",
    "    else:\n",
    "        print(url)\n",
    "        print(\"Failed to fetch the page\")\n",
    "        return {\n",
    "            \"Year\": None,\n",
    "            \"Round\": None,\n",
    "            \"Pick\": None,\n",
    "            \"College\": None\n",
    "        }"
   ]
  },
  {
   "cell_type": "code",
   "execution_count": null,
   "id": "83392021",
   "metadata": {},
   "outputs": [],
   "source": [
    "# url = \"https://en.wikipedia.org/wiki/Case_Keenum\" # undrafted case\n",
    "# grab_empty_query(url, 'QB')"
   ]
  },
  {
   "cell_type": "code",
   "execution_count": null,
   "id": "623f7fc3",
   "metadata": {},
   "outputs": [],
   "source": [
    "# url = \"https://en.wikipedia.org/wiki/Tank_Dell\" # drafted case\n",
    "# grab_empty_query(url, 'WR')"
   ]
  },
  {
   "cell_type": "code",
   "execution_count": null,
   "id": "329504c6",
   "metadata": {},
   "outputs": [],
   "source": [
    "def grab_draft_info(player_name, position, team):\n",
    "    \"\"\"\"\"\"\n",
    "    df = draft_dfs[position]\n",
    "    draft_df = df.copy().query(f\"Name == @player_name\")\n",
    "    \n",
    "    if draft_df.empty:\n",
    "        url = f\"https://en.wikipedia.org/wiki/{'_'.join(player_name.split(' '))}\"\n",
    "        player_info = grab_empty_query(url, position)\n",
    "        \n",
    "        draft_df.at[0, \"Year\"] = player_info[\"Year\"]\n",
    "        draft_df.at[0, \"No.\"] = None\n",
    "        draft_df.at[0, \"Round\"] = player_info[\"Round\"]\n",
    "        if player_info[\"Round\"] and player_info['Round'] != 'Undrafted':\n",
    "            draft_df.at[0, \"Pick\"] = player_info[\"Pick\"] - ((player_info[\"Round\"] - 1) * 32)\n",
    "        else:\n",
    "            draft_df.at[0, \"Pick\"] = None\n",
    "        draft_df.at[0, \"Player\"] = player_info[\"Pick\"]\n",
    "        draft_df.at[0, \"Name\"] = player_name\n",
    "        draft_df.at[0, \"Team\"] = team\n",
    "        draft_df.at[0, \"College\"] = player_info[\"College\"]\n",
    "        \n",
    "    elif len(draft_df) > 1:\n",
    "        draft_df = draft_df[draft_df['Team'] == team]\n",
    "        \n",
    "    return draft_df"
   ]
  },
  {
   "cell_type": "markdown",
   "id": "b2839bab",
   "metadata": {},
   "source": [
    "### Combining the Data"
   ]
  },
  {
   "cell_type": "code",
   "execution_count": null,
   "id": "9366de14",
   "metadata": {
    "scrolled": true
   },
   "outputs": [],
   "source": [
    "current_player = df_filter[\"player_name\"].iloc[0]\n",
    "first_team = df_filter[\"team\"].iloc[0]\n",
    "failed_cases = []\n",
    "\n",
    "for i, row in df_filter.copy().iloc[15:].iterrows():\n",
    "    player_name = row[\"player_name\"]\n",
    "    position = row[\"position\"]\n",
    "    team = row['team']\n",
    "    \n",
    "    if player_name != current_player:\n",
    "        current_player = player_name\n",
    "        first_team = team\n",
    "    \n",
    "    draft_df = grab_draft_info(player_name, position, first_team)\n",
    "    \n",
    "    if len(draft_df) == 1:\n",
    "        # Extract the draft details from the temp DataFrame\n",
    "        draft_details = draft_df.iloc[0]  # Assuming there's only one matching row\n",
    "\n",
    "        # Update df_filter with the draft details for this player\n",
    "        df_filter.at[i, 'Draft Year'] = draft_details['Year']\n",
    "        df_filter.at[i, 'Draft No.'] = draft_details['No.']\n",
    "        df_filter.at[i, 'Draft Round'] = draft_details['Round']\n",
    "        df_filter.at[i, 'Draft Pick'] = draft_details['Pick']\n",
    "        df_filter.at[i, 'Draft Overall'] = draft_details['Player']\n",
    "        df_filter.at[i, 'Draft Team'] = draft_details['Team']\n",
    "        df_filter.at[i, 'College'] = draft_details['College']\n",
    "    else:\n",
    "        print()\n",
    "        print(\"else case\")\n",
    "        print(player_name, position, team)\n",
    "        print(draft_df)\n",
    "        failed_cases.append((player_name, position, team))"
   ]
  },
  {
   "cell_type": "code",
   "execution_count": null,
   "id": "0df36b37",
   "metadata": {},
   "outputs": [],
   "source": [
    "print(failed_cases)"
   ]
  },
  {
   "cell_type": "markdown",
   "id": "9ed9fe9e",
   "metadata": {},
   "source": [
    "## Fixing Draft Add Ons"
   ]
  },
  {
   "cell_type": "markdown",
   "id": "c544fede",
   "metadata": {},
   "source": [
    "Names that are mismatched:\n",
    "    - Tank Dell -> Nathaniel Dell\n",
    "    \n",
    "Need to also fill down - some players are duplicate names and have changed teams!"
   ]
  },
  {
   "cell_type": "code",
   "execution_count": null,
   "id": "a118609b",
   "metadata": {},
   "outputs": [],
   "source": [
    "# Specify the year you are interested in\n",
    "specific_year = 2018\n",
    "\n",
    "# Filter for rows where 'Draft Team' is empty (NaN or None) and the 'Season' matches the specific year\n",
    "missing_draft_team = df_filter[(df_filter['season'] == specific_year) & (df_filter['Draft Team'].isna())][[\"player_name\"]]\n",
    "\n",
    "# Display the filtered DataFrame\n",
    "print(missing_draft_team)"
   ]
  },
  {
   "cell_type": "code",
   "execution_count": null,
   "id": "29cc16b8",
   "metadata": {},
   "outputs": [],
   "source": [
    "df_filter.query(\"player_name == 'Case Keenum'\")"
   ]
  },
  {
   "cell_type": "markdown",
   "id": "636a62dc",
   "metadata": {},
   "source": [
    "# Adding Contract Data"
   ]
  },
  {
   "cell_type": "markdown",
   "id": "632c960c",
   "metadata": {},
   "source": [
    "# Adding Team Mate Data"
   ]
  },
  {
   "cell_type": "markdown",
   "id": "78191983",
   "metadata": {},
   "source": [
    "# Adding College Data"
   ]
  },
  {
   "cell_type": "markdown",
   "id": "285d857c",
   "metadata": {},
   "source": [
    "# Saving Data Set"
   ]
  },
  {
   "cell_type": "code",
   "execution_count": null,
   "id": "dba0e026",
   "metadata": {},
   "outputs": [],
   "source": [
    "df_filter.to_pickle(\"./basic_99_23.pkl\")"
   ]
  },
  {
   "cell_type": "code",
   "execution_count": null,
   "id": "0ee08d12",
   "metadata": {},
   "outputs": [],
   "source": []
  }
 ],
 "metadata": {
  "kernelspec": {
   "display_name": "nfldata",
   "language": "python",
   "name": "nfldata"
  },
  "language_info": {
   "codemirror_mode": {
    "name": "ipython",
    "version": 3
   },
   "file_extension": ".py",
   "mimetype": "text/x-python",
   "name": "python",
   "nbconvert_exporter": "python",
   "pygments_lexer": "ipython3",
   "version": "3.10.12"
  }
 },
 "nbformat": 4,
 "nbformat_minor": 5
}
