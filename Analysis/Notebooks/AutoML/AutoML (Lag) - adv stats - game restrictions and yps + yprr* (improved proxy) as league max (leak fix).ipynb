{
 "cells": [
  {
   "cell_type": "markdown",
   "id": "9d7c3b58",
   "metadata": {},
   "source": [
    "# Imports"
   ]
  },
  {
   "cell_type": "code",
   "execution_count": 1,
   "id": "c3fac67a",
   "metadata": {},
   "outputs": [],
   "source": [
    "# pip install autogluon"
   ]
  },
  {
   "cell_type": "code",
   "execution_count": 40,
   "id": "f1ce9328",
   "metadata": {},
   "outputs": [],
   "source": [
    "import pandas as pd\n",
    "import numpy as np\n",
    "import plotly.express as px\n",
    "from sklearn.model_selection import train_test_split\n",
    "from sklearn.preprocessing import MinMaxScaler\n",
    "from autogluon.tabular import TabularDataset, TabularPredictor"
   ]
  },
  {
   "cell_type": "markdown",
   "id": "af77f264",
   "metadata": {},
   "source": [
    "# Load Data"
   ]
  },
  {
   "cell_type": "code",
   "execution_count": 3,
   "id": "adf0f87b",
   "metadata": {},
   "outputs": [],
   "source": [
    "df = pd.read_pickle(\"../../FantasyData/data-frames/df_basic_ngs_snaps_adv_1999_2023.pkl\")"
   ]
  },
  {
   "cell_type": "markdown",
   "id": "9c3b95b2",
   "metadata": {},
   "source": [
    "# Filter By Position"
   ]
  },
  {
   "cell_type": "code",
   "execution_count": 4,
   "id": "b98d22a5",
   "metadata": {},
   "outputs": [
    {
     "name": "stdout",
     "output_type": "stream",
     "text": [
      "Length of wide receiver data set: 5039\n"
     ]
    }
   ],
   "source": [
    "df_wr = df.copy().query(\"position == 'WR'\")\n",
    "print(f\"Length of wide receiver data set: {len(df_wr)}\")"
   ]
  },
  {
   "cell_type": "code",
   "execution_count": 5,
   "id": "740cd404",
   "metadata": {},
   "outputs": [
    {
     "name": "stdout",
     "output_type": "stream",
     "text": [
      "After removing NA draft rows, data set size: 4809\n"
     ]
    }
   ],
   "source": [
    "# remove our na's\n",
    "df_wr.dropna(subset=\"Draft Year\", inplace=True)\n",
    "print(f\"After removing NA draft rows, data set size: {len(df_wr)}\")"
   ]
  },
  {
   "cell_type": "code",
   "execution_count": 6,
   "id": "c938a6c4",
   "metadata": {},
   "outputs": [],
   "source": [
    "df_wr['Draft_Year'] = df_wr['Draft Year'].astype(str).str.replace('s', '')\n",
    "df_wr[\"Draft_Year\"] = df_wr[\"Draft_Year\"].astype(int)\n",
    "\n",
    "df_wr[\"Draft_Round\"] = df_wr[\"Draft Round\"].astype(str).str.replace('Undrafted', '8')\n",
    "df_wr[\"Draft_Round\"] = df_wr[\"Draft_Round\"].astype(int)\n",
    "\n",
    "df_wr[\"Draft_Overall\"] = df_wr[\"Draft Overall\"].astype(str).str.replace('Undrafted', '400')\n",
    "df_wr[\"Draft_Overall\"] = df_wr[\"Draft_Overall\"].astype(int)"
   ]
  },
  {
   "cell_type": "markdown",
   "id": "26733774",
   "metadata": {},
   "source": [
    "# WR Relveant Columns"
   ]
  },
  {
   "cell_type": "code",
   "execution_count": 7,
   "id": "70d31abe",
   "metadata": {},
   "outputs": [],
   "source": [
    "wr_cols = [\n",
    "    'player_id', 'season',         \n",
    "    'receptions', 'targets', 'receiving_yards', 'receiving_tds',\n",
    "    'receiving_fumbles', 'receiving_fumbles_lost', 'receiving_air_yards',\n",
    "    'receiving_yards_after_catch', 'receiving_first_downs', 'receiving_epa',\n",
    "    'receiving_2pt_conversions', 'racr', 'target_share', 'air_yards_share',\n",
    "    'wopr_x', 'fantasy_points', 'fantasy_points_ppr',\n",
    "    'games', 'tgt_sh', 'ay_sh', 'yac_sh', 'wopr_y', 'ry_sh', 'rtd_sh',\n",
    "    'rfd_sh', 'rtdfd_sh', 'dom', 'w8dom', 'yptmpa', 'ppr_sh', \n",
    "    'position', 'player_name', 'age', 'team', 'rank', 'tier', \n",
    "    'Draft_Year', 'Draft_Round', 'Draft_Overall',\n",
    "    'Draft Team', 'College', 'avg_cushion', 'avg_separation',\n",
    "    'avg_intended_air_yards_receiving', 'percent_share_of_intended_air_yards', \n",
    "    'catch_percentage', 'yards', 'rec_touchdowns', 'avg_yac', 'avg_expected_yac',\n",
    "    'avg_yac_above_expectation', 'pfr_player_id', 'offense_snaps', 'offense_pct', \n",
    "    'gs_pfr_rec', 'tgt_pfr_rec', 'rec_pfr_rec', 'yds_pfr_rec', 'td_pfr_rec',\n",
    "    'x1d_pfr_rec', 'ybc_pfr_rec', 'ybc_r_pfr_rec', 'yac_pfr_rec',\n",
    "    'yac_r_pfr_rec', 'adot_pfr_rec', 'brk_tkl_pfr_rec', 'rec_br_pfr_rec',\n",
    "    'drop_pfr_rec', 'drop_percent_pfr_rec', 'int_pfr_rec', 'rat_pfr_rec'\n",
    "]"
   ]
  },
  {
   "cell_type": "code",
   "execution_count": 8,
   "id": "3d1d97b6",
   "metadata": {},
   "outputs": [],
   "source": [
    "df_wr = df_wr[wr_cols]"
   ]
  },
  {
   "cell_type": "code",
   "execution_count": 9,
   "id": "bbf60b60-a730-4169-8c67-418dc6e22a0b",
   "metadata": {},
   "outputs": [],
   "source": [
    "df_wr[\"yards_per_snap\"] = df_wr[\"receiving_yards\"] / df_wr[\"offense_snaps\"]\n",
    "df_wr[\"receptions_per_snap\"] = df_wr[\"receiving_yards\"] / df_wr[\"offense_snaps\"]"
   ]
  },
  {
   "cell_type": "markdown",
   "id": "4037022e-9ba5-405c-9abb-d0b416c33024",
   "metadata": {},
   "source": [
    "**Note:** Proxy is based on roughly the league median in 2023! This will likely penalize pass happy offenses and improve run happy offenses\n",
    "\n",
    "Two simplifying assumptions:\n",
    " - `freq_pass` is a fair representation of passing across each team in the league\n",
    " - `route_proxy` assumes that a WR will be on the field for the same number of rushing and passing plays, proportionally"
   ]
  },
  {
   "cell_type": "code",
   "execution_count": 10,
   "id": "e8479bc7-6093-4946-81c1-f512092be07d",
   "metadata": {},
   "outputs": [],
   "source": [
    "freq_pass = 0.64\n",
    "total_passing_snaps = (df_wr[\"offense_snaps\"] / df_wr[\"offense_pct\"]) * freq_pass\n",
    "\n",
    "df_wr[\"route_proxy\"] = total_passing_snaps * df_wr[\"offense_pct\"]\n",
    "df_wr[\"yards_per_route_run\"] = df_wr[\"receiving_yards\"] / df_wr[\"route_proxy\"]"
   ]
  },
  {
   "cell_type": "markdown",
   "id": "21756d97-0f80-4396-b7f4-e0754b1d3c66",
   "metadata": {},
   "source": [
    "**Note:** filtering by snaps automatically removes any data prior to 2012!"
   ]
  },
  {
   "cell_type": "code",
   "execution_count": 11,
   "id": "76deaa7b",
   "metadata": {},
   "outputs": [],
   "source": [
    "df_wr = df_wr.query(\"games >= 6 and offense_snaps >= 100\")"
   ]
  },
  {
   "cell_type": "code",
   "execution_count": 12,
   "id": "016b3366-e195-4999-abc5-b669f4670aac",
   "metadata": {},
   "outputs": [
    {
     "data": {
      "text/plain": [
       "1571"
      ]
     },
     "execution_count": 12,
     "metadata": {},
     "output_type": "execute_result"
    }
   ],
   "source": [
    "len(df_wr)"
   ]
  },
  {
   "cell_type": "markdown",
   "id": "d98e1dd2",
   "metadata": {},
   "source": [
    "# Get Lag Version\n",
    "\n",
    "For having the previous season as features and fantasy points/receiving first downs be the labels."
   ]
  },
  {
   "cell_type": "code",
   "execution_count": 13,
   "id": "71796731",
   "metadata": {},
   "outputs": [],
   "source": [
    "def create_lag_df(df, cols_to_filter=3, col_to_increment=\"season\", \n",
    "                  cols_to_merge=[\"player_id\", \"season\"]\n",
    "    ):\n",
    "    \"\"\"\"\"\"\n",
    "    df_now = df.copy()\n",
    "    df_last = df.copy()\n",
    "\n",
    "    rename_dict = {}\n",
    "    for col in list(df_last.columns[cols_to_filter:]):\n",
    "        rename_dict[col] = f\"{col}_last\"\n",
    "\n",
    "    df_last.rename(columns=rename_dict, inplace=True)\n",
    "    df_last[col_to_increment] += 1\n",
    "\n",
    "    df_lag = df_now.merge(df_last, how='inner', on=cols_to_merge)\n",
    "\n",
    "    return df_lag"
   ]
  },
  {
   "cell_type": "code",
   "execution_count": 14,
   "id": "492e7cb8",
   "metadata": {},
   "outputs": [],
   "source": [
    "df_lag = create_lag_df(df_wr.copy(), cols_to_filter=2)"
   ]
  },
  {
   "cell_type": "code",
   "execution_count": 15,
   "id": "3f06155f",
   "metadata": {},
   "outputs": [
    {
     "data": {
      "text/html": [
       "<div>\n",
       "<style scoped>\n",
       "    .dataframe tbody tr th:only-of-type {\n",
       "        vertical-align: middle;\n",
       "    }\n",
       "\n",
       "    .dataframe tbody tr th {\n",
       "        vertical-align: top;\n",
       "    }\n",
       "\n",
       "    .dataframe thead th {\n",
       "        text-align: right;\n",
       "    }\n",
       "</style>\n",
       "<table border=\"1\" class=\"dataframe\">\n",
       "  <thead>\n",
       "    <tr style=\"text-align: right;\">\n",
       "      <th></th>\n",
       "      <th>player_name</th>\n",
       "      <th>season</th>\n",
       "      <th>receiving_yards</th>\n",
       "      <th>receiving_yards_last</th>\n",
       "    </tr>\n",
       "  </thead>\n",
       "  <tbody>\n",
       "    <tr>\n",
       "      <th>509</th>\n",
       "      <td>Mike Evans</td>\n",
       "      <td>2017</td>\n",
       "      <td>1001.0</td>\n",
       "      <td>1321.0</td>\n",
       "    </tr>\n",
       "  </tbody>\n",
       "</table>\n",
       "</div>"
      ],
      "text/plain": [
       "    player_name  season  receiving_yards  receiving_yards_last\n",
       "509  Mike Evans    2017           1001.0                1321.0"
      ]
     },
     "execution_count": 15,
     "metadata": {},
     "output_type": "execute_result"
    }
   ],
   "source": [
    "df_lag.query(\"player_name == 'Mike Evans' and season == 2017\")[[\"player_name\", \"season\", \n",
    "                                                                \"receiving_yards\", \"receiving_yards_last\"]]"
   ]
  },
  {
   "cell_type": "markdown",
   "id": "60871b0a",
   "metadata": {},
   "source": [
    "# Select Feature Columns\n",
    "\n",
    "I.e. the columns with last in them, and of numeric type."
   ]
  },
  {
   "cell_type": "code",
   "execution_count": 16,
   "id": "d410ff37",
   "metadata": {},
   "outputs": [],
   "source": [
    "non_numeric_cols = df_lag.select_dtypes(exclude=[np.number]).columns"
   ]
  },
  {
   "cell_type": "code",
   "execution_count": 17,
   "id": "87ebac3a",
   "metadata": {},
   "outputs": [
    {
     "data": {
      "text/plain": [
       "Index(['player_id', 'position', 'player_name', 'team', 'Draft Team', 'College',\n",
       "       'pfr_player_id', 'position_last', 'player_name_last', 'team_last',\n",
       "       'Draft Team_last', 'College_last', 'pfr_player_id_last'],\n",
       "      dtype='object')"
      ]
     },
     "execution_count": 17,
     "metadata": {},
     "output_type": "execute_result"
    }
   ],
   "source": [
    "non_numeric_cols"
   ]
  },
  {
   "cell_type": "code",
   "execution_count": 18,
   "id": "230fd0b1",
   "metadata": {},
   "outputs": [],
   "source": [
    "assert(df_lag[\"Draft_Year\"].dtype == 'int64')\n",
    "assert(df_lag[\"Draft_Round\"].dtype == 'int64')\n",
    "assert(df_lag[\"Draft_Overall\"].dtype == 'int64')"
   ]
  },
  {
   "cell_type": "code",
   "execution_count": 19,
   "id": "5372ade4",
   "metadata": {},
   "outputs": [],
   "source": [
    "feature_columns = [\n",
    "    'receptions_last',\n",
    "    'targets_last',\n",
    "    'receiving_yards_last',\n",
    "    'receiving_air_yards_last',\n",
    "    'receiving_yards_after_catch_last',\n",
    "    'receiving_first_downs_last',\n",
    "    'receiving_epa_last',\n",
    "    # 'receiving_2pt_conversions_last',\n",
    "    'racr_last',\n",
    "    'target_share_last',\n",
    "    'air_yards_share_last',\n",
    "    'fantasy_points_last',\n",
    "    'fantasy_points_ppr_last',\n",
    "    'games_last',\n",
    "    'tgt_sh_last',\n",
    "    'yac_sh_last',\n",
    "    'w8dom_last',\n",
    "    'yptmpa_last',\n",
    "    'ppr_sh_last',\n",
    "    'age_last',\n",
    "    'rank_last',\n",
    "    'tier_last',\n",
    "    'Draft_Round_last',\n",
    "\n",
    "    # our metrics\n",
    "    \"yards_per_snap\",\n",
    "    \"receptions_per_snap\",\n",
    "    \"route_proxy\",\n",
    "    \"yards_per_route_run\",\n",
    "\n",
    "    'catch_percentage_last',\n",
    "    'offense_snaps_last',\n",
    "    'offense_pct_last',\n",
    "\n",
    "    \n",
    "    # 'tgt_pfr_rec_last',\n",
    "    # 'rec_pfr_rec_last',\n",
    "    # 'td_pfr_rec_last',\n",
    "    # 'x1d_pfr_rec_last',\n",
    "    # 'int_pfr_rec_last',\n",
    "    # 'rat_pfr_rec_last'\n",
    "]"
   ]
  },
  {
   "cell_type": "code",
   "execution_count": 20,
   "id": "85b756e7",
   "metadata": {},
   "outputs": [],
   "source": [
    "label = \"fantasy_points_ppr\""
   ]
  },
  {
   "cell_type": "code",
   "execution_count": 21,
   "id": "1bc3b240",
   "metadata": {},
   "outputs": [],
   "source": [
    "cols_to_use = feature_columns + [label]\n",
    "df_ML = df_lag[cols_to_use].copy()"
   ]
  },
  {
   "cell_type": "code",
   "execution_count": 22,
   "id": "4061be1c",
   "metadata": {},
   "outputs": [
    {
     "data": {
      "text/html": [
       "<div>\n",
       "<style scoped>\n",
       "    .dataframe tbody tr th:only-of-type {\n",
       "        vertical-align: middle;\n",
       "    }\n",
       "\n",
       "    .dataframe tbody tr th {\n",
       "        vertical-align: top;\n",
       "    }\n",
       "\n",
       "    .dataframe thead th {\n",
       "        text-align: right;\n",
       "    }\n",
       "</style>\n",
       "<table border=\"1\" class=\"dataframe\">\n",
       "  <thead>\n",
       "    <tr style=\"text-align: right;\">\n",
       "      <th></th>\n",
       "      <th>receptions_last</th>\n",
       "      <th>targets_last</th>\n",
       "      <th>receiving_yards_last</th>\n",
       "      <th>receiving_air_yards_last</th>\n",
       "      <th>receiving_yards_after_catch_last</th>\n",
       "      <th>receiving_first_downs_last</th>\n",
       "      <th>receiving_epa_last</th>\n",
       "      <th>racr_last</th>\n",
       "      <th>target_share_last</th>\n",
       "      <th>air_yards_share_last</th>\n",
       "      <th>...</th>\n",
       "      <th>tier_last</th>\n",
       "      <th>Draft_Round_last</th>\n",
       "      <th>yards_per_snap</th>\n",
       "      <th>receptions_per_snap</th>\n",
       "      <th>route_proxy</th>\n",
       "      <th>yards_per_route_run</th>\n",
       "      <th>catch_percentage_last</th>\n",
       "      <th>offense_snaps_last</th>\n",
       "      <th>offense_pct_last</th>\n",
       "      <th>fantasy_points_ppr</th>\n",
       "    </tr>\n",
       "  </thead>\n",
       "  <tbody>\n",
       "    <tr>\n",
       "      <th>0</th>\n",
       "      <td>45</td>\n",
       "      <td>59</td>\n",
       "      <td>544.0</td>\n",
       "      <td>589.0</td>\n",
       "      <td>148.0</td>\n",
       "      <td>30.0</td>\n",
       "      <td>27.585154</td>\n",
       "      <td>17.371708</td>\n",
       "      <td>1.604753</td>\n",
       "      <td>1.890366</td>\n",
       "      <td>...</td>\n",
       "      <td>5.0</td>\n",
       "      <td>4</td>\n",
       "      <td>1.000000</td>\n",
       "      <td>1.000000</td>\n",
       "      <td>73.60</td>\n",
       "      <td>1.562500</td>\n",
       "      <td>NaN</td>\n",
       "      <td>597.0</td>\n",
       "      <td>0.562667</td>\n",
       "      <td>24.5</td>\n",
       "    </tr>\n",
       "    <tr>\n",
       "      <th>1</th>\n",
       "      <td>73</td>\n",
       "      <td>138</td>\n",
       "      <td>1174.0</td>\n",
       "      <td>1832.0</td>\n",
       "      <td>268.0</td>\n",
       "      <td>51.0</td>\n",
       "      <td>25.508378</td>\n",
       "      <td>11.858338</td>\n",
       "      <td>4.521201</td>\n",
       "      <td>6.445839</td>\n",
       "      <td>...</td>\n",
       "      <td>2.0</td>\n",
       "      <td>3</td>\n",
       "      <td>0.967532</td>\n",
       "      <td>0.967532</td>\n",
       "      <td>492.80</td>\n",
       "      <td>1.511769</td>\n",
       "      <td>NaN</td>\n",
       "      <td>911.0</td>\n",
       "      <td>0.891250</td>\n",
       "      <td>162.5</td>\n",
       "    </tr>\n",
       "    <tr>\n",
       "      <th>2</th>\n",
       "      <td>64</td>\n",
       "      <td>110</td>\n",
       "      <td>745.0</td>\n",
       "      <td>1219.0</td>\n",
       "      <td>178.0</td>\n",
       "      <td>44.0</td>\n",
       "      <td>24.914914</td>\n",
       "      <td>10.475034</td>\n",
       "      <td>3.743449</td>\n",
       "      <td>4.719369</td>\n",
       "      <td>...</td>\n",
       "      <td>4.0</td>\n",
       "      <td>3</td>\n",
       "      <td>1.295620</td>\n",
       "      <td>1.295620</td>\n",
       "      <td>526.08</td>\n",
       "      <td>2.024407</td>\n",
       "      <td>NaN</td>\n",
       "      <td>770.0</td>\n",
       "      <td>0.780000</td>\n",
       "      <td>219.5</td>\n",
       "    </tr>\n",
       "    <tr>\n",
       "      <th>3</th>\n",
       "      <td>79</td>\n",
       "      <td>134</td>\n",
       "      <td>1065.0</td>\n",
       "      <td>1413.0</td>\n",
       "      <td>363.0</td>\n",
       "      <td>45.0</td>\n",
       "      <td>39.161685</td>\n",
       "      <td>13.027294</td>\n",
       "      <td>3.988147</td>\n",
       "      <td>5.097152</td>\n",
       "      <td>...</td>\n",
       "      <td>2.0</td>\n",
       "      <td>3</td>\n",
       "      <td>1.930836</td>\n",
       "      <td>1.930836</td>\n",
       "      <td>222.08</td>\n",
       "      <td>3.016931</td>\n",
       "      <td>NaN</td>\n",
       "      <td>822.0</td>\n",
       "      <td>0.766875</td>\n",
       "      <td>131.0</td>\n",
       "    </tr>\n",
       "    <tr>\n",
       "      <th>4</th>\n",
       "      <td>46</td>\n",
       "      <td>73</td>\n",
       "      <td>670.0</td>\n",
       "      <td>719.0</td>\n",
       "      <td>256.0</td>\n",
       "      <td>28.0</td>\n",
       "      <td>22.417599</td>\n",
       "      <td>6.641955</td>\n",
       "      <td>1.752860</td>\n",
       "      <td>2.135309</td>\n",
       "      <td>...</td>\n",
       "      <td>5.0</td>\n",
       "      <td>3</td>\n",
       "      <td>1.108183</td>\n",
       "      <td>1.108183</td>\n",
       "      <td>461.44</td>\n",
       "      <td>1.731536</td>\n",
       "      <td>NaN</td>\n",
       "      <td>347.0</td>\n",
       "      <td>0.694286</td>\n",
       "      <td>183.9</td>\n",
       "    </tr>\n",
       "  </tbody>\n",
       "</table>\n",
       "<p>5 rows × 30 columns</p>\n",
       "</div>"
      ],
      "text/plain": [
       "   receptions_last  targets_last  receiving_yards_last  \\\n",
       "0               45            59                 544.0   \n",
       "1               73           138                1174.0   \n",
       "2               64           110                 745.0   \n",
       "3               79           134                1065.0   \n",
       "4               46            73                 670.0   \n",
       "\n",
       "   receiving_air_yards_last  receiving_yards_after_catch_last  \\\n",
       "0                     589.0                             148.0   \n",
       "1                    1832.0                             268.0   \n",
       "2                    1219.0                             178.0   \n",
       "3                    1413.0                             363.0   \n",
       "4                     719.0                             256.0   \n",
       "\n",
       "   receiving_first_downs_last  receiving_epa_last  racr_last  \\\n",
       "0                        30.0           27.585154  17.371708   \n",
       "1                        51.0           25.508378  11.858338   \n",
       "2                        44.0           24.914914  10.475034   \n",
       "3                        45.0           39.161685  13.027294   \n",
       "4                        28.0           22.417599   6.641955   \n",
       "\n",
       "   target_share_last  air_yards_share_last  ...  tier_last  Draft_Round_last  \\\n",
       "0           1.604753              1.890366  ...        5.0                 4   \n",
       "1           4.521201              6.445839  ...        2.0                 3   \n",
       "2           3.743449              4.719369  ...        4.0                 3   \n",
       "3           3.988147              5.097152  ...        2.0                 3   \n",
       "4           1.752860              2.135309  ...        5.0                 3   \n",
       "\n",
       "   yards_per_snap  receptions_per_snap  route_proxy  yards_per_route_run  \\\n",
       "0        1.000000             1.000000        73.60             1.562500   \n",
       "1        0.967532             0.967532       492.80             1.511769   \n",
       "2        1.295620             1.295620       526.08             2.024407   \n",
       "3        1.930836             1.930836       222.08             3.016931   \n",
       "4        1.108183             1.108183       461.44             1.731536   \n",
       "\n",
       "   catch_percentage_last  offense_snaps_last  offense_pct_last  \\\n",
       "0                    NaN               597.0          0.562667   \n",
       "1                    NaN               911.0          0.891250   \n",
       "2                    NaN               770.0          0.780000   \n",
       "3                    NaN               822.0          0.766875   \n",
       "4                    NaN               347.0          0.694286   \n",
       "\n",
       "   fantasy_points_ppr  \n",
       "0                24.5  \n",
       "1               162.5  \n",
       "2               219.5  \n",
       "3               131.0  \n",
       "4               183.9  \n",
       "\n",
       "[5 rows x 30 columns]"
      ]
     },
     "execution_count": 22,
     "metadata": {},
     "output_type": "execute_result"
    }
   ],
   "source": [
    "df_ML.head()"
   ]
  },
  {
   "cell_type": "code",
   "execution_count": 23,
   "id": "9957c79c",
   "metadata": {},
   "outputs": [
    {
     "name": "stdout",
     "output_type": "stream",
     "text": [
      "fantasy_points_last\n",
      "fantasy_points_ppr_last\n",
      "fantasy_points_ppr\n"
     ]
    }
   ],
   "source": [
    "for col in df_ML.columns:\n",
    "    if \"fantasy\" in col:\n",
    "        print(col)"
   ]
  },
  {
   "cell_type": "markdown",
   "id": "0071ff85",
   "metadata": {},
   "source": [
    "# Create Train, Test, Validation Splits"
   ]
  },
  {
   "cell_type": "code",
   "execution_count": 24,
   "id": "e648e6bc",
   "metadata": {},
   "outputs": [],
   "source": [
    "X = df_ML.iloc[:, :-1]  # features\n",
    "y = df_ML.iloc[:, -1]   # label"
   ]
  },
  {
   "cell_type": "code",
   "execution_count": 25,
   "id": "38303cdc",
   "metadata": {},
   "outputs": [
    {
     "name": "stdout",
     "output_type": "stream",
     "text": [
      "fantasy_points_last\n",
      "fantasy_points_ppr_last\n"
     ]
    }
   ],
   "source": [
    "for col in X.columns:\n",
    "    if \"fantasy\" in col:\n",
    "        print(col)"
   ]
  },
  {
   "cell_type": "code",
   "execution_count": 26,
   "id": "d70d443a",
   "metadata": {},
   "outputs": [
    {
     "data": {
      "text/plain": [
       "0     24.5\n",
       "1    162.5\n",
       "2    219.5\n",
       "3    131.0\n",
       "4    183.9\n",
       "Name: fantasy_points_ppr, dtype: float64"
      ]
     },
     "execution_count": 26,
     "metadata": {},
     "output_type": "execute_result"
    }
   ],
   "source": [
    "y[:5]"
   ]
  },
  {
   "cell_type": "code",
   "execution_count": 27,
   "id": "5ee43f84",
   "metadata": {},
   "outputs": [],
   "source": [
    "# First, split into train and temporary sets (train + validation, test)\n",
    "X_train_temp, X_test, y_train_temp, y_test = train_test_split(\n",
    "    X, y, test_size=0.2, random_state=42)\n",
    "\n",
    "# Now, split the train_temp into actual train and validation sets\n",
    "X_train, X_val, y_train, y_val = train_test_split(\n",
    "    X_train_temp, y_train_temp, test_size=0.25, random_state=42)  # 0.25 x 0.8 = 0.2"
   ]
  },
  {
   "cell_type": "code",
   "execution_count": 28,
   "id": "88b71c95-bd7e-4cb5-90a1-3fa9025dceb7",
   "metadata": {},
   "outputs": [
    {
     "name": "stdout",
     "output_type": "stream",
     "text": [
      "Length of train set: 612\n",
      "Length of test set: 205\n",
      "Length of val set: 205\n"
     ]
    }
   ],
   "source": [
    "print(f\"Length of train set: {len(X_train)}\")\n",
    "print(f\"Length of test set: {len(X_test)}\")\n",
    "print(f\"Length of val set: {len(X_val)}\")"
   ]
  },
  {
   "cell_type": "markdown",
   "id": "8a43ca16",
   "metadata": {},
   "source": [
    "# AutoGluon"
   ]
  },
  {
   "cell_type": "code",
   "execution_count": 30,
   "id": "18f62070",
   "metadata": {},
   "outputs": [],
   "source": [
    "train_data = pd.concat([X_train, y_train], axis=1)\n",
    "val_data = pd.concat([X_val, y_val], axis=1)\n",
    "test_data = pd.concat([X_test, y_test], axis=1)"
   ]
  },
  {
   "cell_type": "code",
   "execution_count": 31,
   "id": "4ef6faf1",
   "metadata": {},
   "outputs": [],
   "source": [
    "label_column = 'fantasy_points_ppr'"
   ]
  },
  {
   "cell_type": "markdown",
   "id": "7e741deb",
   "metadata": {},
   "source": [
    "## Fit"
   ]
  },
  {
   "cell_type": "code",
   "execution_count": 32,
   "id": "0d78615c",
   "metadata": {},
   "outputs": [
    {
     "name": "stderr",
     "output_type": "stream",
     "text": [
      "No path specified. Models will be saved in: \"AutogluonModels/ag-20240511_002500\"\n",
      "No presets specified! To achieve strong results with AutoGluon, it is recommended to use the available presets.\n",
      "\tRecommended Presets (For more details refer to https://auto.gluon.ai/stable/tutorials/tabular/tabular-essentials.html#presets):\n",
      "\tpresets='best_quality'   : Maximize accuracy. Default time_limit=3600.\n",
      "\tpresets='high_quality'   : Strong accuracy with fast inference speed. Default time_limit=3600.\n",
      "\tpresets='good_quality'   : Good accuracy with very fast inference speed. Default time_limit=3600.\n",
      "\tpresets='medium_quality' : Fast training time, ideal for initial prototyping.\n",
      "Beginning AutoGluon training ...\n",
      "AutoGluon will save models to \"AutogluonModels/ag-20240511_002500\"\n",
      "=================== System Info ===================\n",
      "AutoGluon Version:  1.1.0\n",
      "Python Version:     3.9.7\n",
      "Operating System:   Darwin\n",
      "Platform Machine:   x86_64\n",
      "Platform Version:   Darwin Kernel Version 23.2.0: Wed Nov 15 21:53:34 PST 2023; root:xnu-10002.61.3~2/RELEASE_ARM64_T8103\n",
      "CPU Count:          8\n",
      "Memory Avail:       1.29 GB / 16.00 GB (8.1%)\n",
      "Disk Space Avail:   147.60 GB / 460.43 GB (32.1%)\n",
      "===================================================\n",
      "Train Data Rows:    612\n",
      "Train Data Columns: 29\n",
      "Tuning Data Rows:    205\n",
      "Tuning Data Columns: 29\n",
      "Label Column:       fantasy_points_ppr\n",
      "AutoGluon infers your prediction problem is: 'regression' (because dtype of label-column == float and many unique label-values observed).\n",
      "\tLabel info (max, min, mean, stddev): (439.5, 6.5, 138.86255, 85.12171)\n",
      "\tIf 'regression' is not the correct problem_type, please manually specify the problem_type parameter during predictor init (You may specify problem_type as one of: ['binary', 'multiclass', 'regression'])\n",
      "Problem Type:       regression\n",
      "Preprocessing data ...\n",
      "Using Feature Generators to preprocess the data ...\n",
      "Fitting AutoMLPipelineFeatureGenerator...\n",
      "\tAvailable Memory:                    1322.64 MB\n",
      "\tTrain Data (Original)  Memory Usage: 0.17 MB (0.0% of available memory)\n",
      "\tInferring data type of each feature based on column values. Set feature_metadata_in to manually specify special dtypes of the features.\n",
      "\tStage 1 Generators:\n",
      "\t\tFitting AsTypeFeatureGenerator...\n",
      "\tStage 2 Generators:\n",
      "\t\tFitting FillNaFeatureGenerator...\n",
      "\tStage 3 Generators:\n",
      "\t\tFitting IdentityFeatureGenerator...\n",
      "\tStage 4 Generators:\n",
      "\t\tFitting DropUniqueFeatureGenerator...\n",
      "\tStage 5 Generators:\n",
      "\t\tFitting DropDuplicatesFeatureGenerator...\n",
      "\tUnused Original Features (Count: 1): ['receptions_per_snap']\n",
      "\t\tThese features were not used to generate any of the output features. Add a feature generator compatible with these features to utilize them.\n",
      "\t\tFeatures can also be unused if they carry very little information, such as being categorical but having almost entirely unique values or being duplicates of other features.\n",
      "\t\tThese features do not need to be present at inference time.\n",
      "\t\t('float', []) : 1 | ['receptions_per_snap']\n",
      "\tTypes of features in original data (raw dtype, special dtypes):\n",
      "\t\t('float', []) : 24 | ['receiving_yards_last', 'receiving_air_yards_last', 'receiving_yards_after_catch_last', 'receiving_first_downs_last', 'receiving_epa_last', ...]\n",
      "\t\t('int', [])   :  4 | ['receptions_last', 'targets_last', 'games_last', 'Draft_Round_last']\n",
      "\tTypes of features in processed data (raw dtype, special dtypes):\n",
      "\t\t('float', []) : 24 | ['receiving_yards_last', 'receiving_air_yards_last', 'receiving_yards_after_catch_last', 'receiving_first_downs_last', 'receiving_epa_last', ...]\n",
      "\t\t('int', [])   :  4 | ['receptions_last', 'targets_last', 'games_last', 'Draft_Round_last']\n",
      "\t0.1s = Fit runtime\n",
      "\t28 features in original data used to generate 28 features in processed data.\n",
      "\tTrain Data (Processed) Memory Usage: 0.17 MB (0.0% of available memory)\n",
      "Data preprocessing and feature engineering runtime = 0.14s ...\n",
      "AutoGluon will gauge predictive performance using evaluation metric: 'root_mean_squared_error'\n",
      "\tThis metric's sign has been flipped to adhere to being higher_is_better. The metric score can be multiplied by -1 to get the metric value.\n",
      "\tTo change this, specify the eval_metric parameter of Predictor()\n",
      "User-specified model hyperparameters to be fit:\n",
      "{\n",
      "\t'NN_TORCH': {},\n",
      "\t'GBM': [{'extra_trees': True, 'ag_args': {'name_suffix': 'XT'}}, {}, 'GBMLarge'],\n",
      "\t'CAT': {},\n",
      "\t'XGB': {},\n",
      "\t'FASTAI': {},\n",
      "\t'RF': [{'criterion': 'gini', 'ag_args': {'name_suffix': 'Gini', 'problem_types': ['binary', 'multiclass']}}, {'criterion': 'entropy', 'ag_args': {'name_suffix': 'Entr', 'problem_types': ['binary', 'multiclass']}}, {'criterion': 'squared_error', 'ag_args': {'name_suffix': 'MSE', 'problem_types': ['regression', 'quantile']}}],\n",
      "\t'XT': [{'criterion': 'gini', 'ag_args': {'name_suffix': 'Gini', 'problem_types': ['binary', 'multiclass']}}, {'criterion': 'entropy', 'ag_args': {'name_suffix': 'Entr', 'problem_types': ['binary', 'multiclass']}}, {'criterion': 'squared_error', 'ag_args': {'name_suffix': 'MSE', 'problem_types': ['regression', 'quantile']}}],\n",
      "\t'KNN': [{'weights': 'uniform', 'ag_args': {'name_suffix': 'Unif'}}, {'weights': 'distance', 'ag_args': {'name_suffix': 'Dist'}}],\n",
      "}\n",
      "Fitting 11 L1 models ...\n",
      "Fitting model: KNeighborsUnif ...\n",
      "/Users/alexbishka/opt/anaconda3/lib/python3.9/site-packages/threadpoolctl.py:1010: RuntimeWarning: \n",
      "Found Intel OpenMP ('libiomp') and LLVM OpenMP ('libomp') loaded at\n",
      "the same time. Both libraries are known to be incompatible and this\n",
      "can cause random crashes or deadlocks on Linux when loaded in the\n",
      "same Python program.\n",
      "Using threadpoolctl may cause crashes or deadlocks. For more\n",
      "information and possible workarounds, please see\n",
      "    https://github.com/joblib/threadpoolctl/blob/master/multiple_openmp.md\n",
      "\n",
      "  warnings.warn(msg, RuntimeWarning)\n",
      "\t-39.7043\t = Validation score   (-root_mean_squared_error)\n",
      "\t3.71s\t = Training   runtime\n",
      "\t0.07s\t = Validation runtime\n",
      "Fitting model: KNeighborsDist ...\n",
      "\t-39.6547\t = Validation score   (-root_mean_squared_error)\n",
      "\t0.17s\t = Training   runtime\n",
      "\t0.0s\t = Validation runtime\n",
      "Fitting model: LightGBMXT ...\n",
      "\tWarning: Exception caused LightGBMXT to fail during training... Skipping this model.\n",
      "\t\tmodule 'pandas.core.strings' has no attribute 'StringMethods'\n",
      "Detailed Traceback:\n",
      "Traceback (most recent call last):\n",
      "  File \"/Users/alexbishka/opt/anaconda3/lib/python3.9/site-packages/autogluon/core/trainer/abstract_trainer.py\", line 1904, in _train_and_save\n",
      "    model = self._train_single(X, y, model, X_val, y_val, total_resources=total_resources, **model_fit_kwargs)\n",
      "  File \"/Users/alexbishka/opt/anaconda3/lib/python3.9/site-packages/autogluon/core/trainer/abstract_trainer.py\", line 1844, in _train_single\n",
      "    model = model.fit(X=X, y=y, X_val=X_val, y_val=y_val, total_resources=total_resources, **model_fit_kwargs)\n",
      "  File \"/Users/alexbishka/opt/anaconda3/lib/python3.9/site-packages/autogluon/core/models/abstract/abstract_model.py\", line 855, in fit\n",
      "    out = self._fit(**kwargs)\n",
      "  File \"/Users/alexbishka/opt/anaconda3/lib/python3.9/site-packages/autogluon/tabular/models/lgb/lgb_model.py\", line 98, in _fit\n",
      "    try_import_lightgbm()  # raise helpful error message if LightGBM isn't installed\n",
      "  File \"/Users/alexbishka/opt/anaconda3/lib/python3.9/site-packages/autogluon/common/utils/try_import.py\", line 82, in try_import_lightgbm\n",
      "    import lightgbm\n",
      "  File \"/Users/alexbishka/opt/anaconda3/lib/python3.9/site-packages/lightgbm/__init__.py\", line 8, in <module>\n",
      "    from .basic import Booster, Dataset, Sequence, register_logger\n",
      "  File \"/Users/alexbishka/opt/anaconda3/lib/python3.9/site-packages/lightgbm/basic.py\", line 21, in <module>\n",
      "    from .compat import (PANDAS_INSTALLED, PYARROW_INSTALLED, arrow_cffi, arrow_is_floating, arrow_is_integer, concat,\n",
      "  File \"/Users/alexbishka/opt/anaconda3/lib/python3.9/site-packages/lightgbm/compat.py\", line 155, in <module>\n",
      "    from dask.dataframe import DataFrame as dask_DataFrame\n",
      "  File \"/Users/alexbishka/opt/anaconda3/lib/python3.9/site-packages/dask/dataframe/__init__.py\", line 3, in <module>\n",
      "    from . import backends, dispatch, rolling\n",
      "  File \"/Users/alexbishka/opt/anaconda3/lib/python3.9/site-packages/dask/dataframe/backends.py\", line 20, in <module>\n",
      "    from .core import DataFrame, Index, Scalar, Series, _Frame\n",
      "  File \"/Users/alexbishka/opt/anaconda3/lib/python3.9/site-packages/dask/dataframe/core.py\", line 52, in <module>\n",
      "    from .accessor import DatetimeAccessor, StringAccessor\n",
      "  File \"/Users/alexbishka/opt/anaconda3/lib/python3.9/site-packages/dask/dataframe/accessor.py\", line 109, in <module>\n",
      "    class StringAccessor(Accessor):\n",
      "  File \"/Users/alexbishka/opt/anaconda3/lib/python3.9/site-packages/dask/dataframe/accessor.py\", line 121, in StringAccessor\n",
      "    @derived_from(pd.core.strings.StringMethods)\n",
      "AttributeError: module 'pandas.core.strings' has no attribute 'StringMethods'\n",
      "Fitting model: LightGBM ...\n",
      "\tWarning: Exception caused LightGBM to fail during training... Skipping this model.\n",
      "\t\tmodule 'pandas.core.strings' has no attribute 'StringMethods'\n",
      "Detailed Traceback:\n",
      "Traceback (most recent call last):\n",
      "  File \"/Users/alexbishka/opt/anaconda3/lib/python3.9/site-packages/autogluon/core/trainer/abstract_trainer.py\", line 1904, in _train_and_save\n",
      "    model = self._train_single(X, y, model, X_val, y_val, total_resources=total_resources, **model_fit_kwargs)\n",
      "  File \"/Users/alexbishka/opt/anaconda3/lib/python3.9/site-packages/autogluon/core/trainer/abstract_trainer.py\", line 1844, in _train_single\n",
      "    model = model.fit(X=X, y=y, X_val=X_val, y_val=y_val, total_resources=total_resources, **model_fit_kwargs)\n",
      "  File \"/Users/alexbishka/opt/anaconda3/lib/python3.9/site-packages/autogluon/core/models/abstract/abstract_model.py\", line 855, in fit\n",
      "    out = self._fit(**kwargs)\n",
      "  File \"/Users/alexbishka/opt/anaconda3/lib/python3.9/site-packages/autogluon/tabular/models/lgb/lgb_model.py\", line 98, in _fit\n",
      "    try_import_lightgbm()  # raise helpful error message if LightGBM isn't installed\n",
      "  File \"/Users/alexbishka/opt/anaconda3/lib/python3.9/site-packages/autogluon/common/utils/try_import.py\", line 82, in try_import_lightgbm\n",
      "    import lightgbm\n",
      "  File \"/Users/alexbishka/opt/anaconda3/lib/python3.9/site-packages/lightgbm/__init__.py\", line 8, in <module>\n",
      "    from .basic import Booster, Dataset, Sequence, register_logger\n",
      "  File \"/Users/alexbishka/opt/anaconda3/lib/python3.9/site-packages/lightgbm/basic.py\", line 21, in <module>\n",
      "    from .compat import (PANDAS_INSTALLED, PYARROW_INSTALLED, arrow_cffi, arrow_is_floating, arrow_is_integer, concat,\n",
      "  File \"/Users/alexbishka/opt/anaconda3/lib/python3.9/site-packages/lightgbm/compat.py\", line 155, in <module>\n",
      "    from dask.dataframe import DataFrame as dask_DataFrame\n",
      "  File \"/Users/alexbishka/opt/anaconda3/lib/python3.9/site-packages/dask/dataframe/__init__.py\", line 3, in <module>\n",
      "    from . import backends, dispatch, rolling\n",
      "  File \"/Users/alexbishka/opt/anaconda3/lib/python3.9/site-packages/dask/dataframe/backends.py\", line 20, in <module>\n",
      "    from .core import DataFrame, Index, Scalar, Series, _Frame\n",
      "  File \"/Users/alexbishka/opt/anaconda3/lib/python3.9/site-packages/dask/dataframe/core.py\", line 52, in <module>\n",
      "    from .accessor import DatetimeAccessor, StringAccessor\n",
      "  File \"/Users/alexbishka/opt/anaconda3/lib/python3.9/site-packages/dask/dataframe/accessor.py\", line 109, in <module>\n",
      "    class StringAccessor(Accessor):\n",
      "  File \"/Users/alexbishka/opt/anaconda3/lib/python3.9/site-packages/dask/dataframe/accessor.py\", line 121, in StringAccessor\n",
      "    @derived_from(pd.core.strings.StringMethods)\n",
      "AttributeError: module 'pandas.core.strings' has no attribute 'StringMethods'\n",
      "Fitting model: RandomForestMSE ...\n",
      "\t-15.3491\t = Validation score   (-root_mean_squared_error)\n",
      "\t0.61s\t = Training   runtime\n",
      "\t0.03s\t = Validation runtime\n",
      "Fitting model: CatBoost ...\n",
      "\t-15.389\t = Validation score   (-root_mean_squared_error)\n",
      "\t1.25s\t = Training   runtime\n",
      "\t0.0s\t = Validation runtime\n",
      "Fitting model: ExtraTreesMSE ...\n",
      "\t-15.6142\t = Validation score   (-root_mean_squared_error)\n",
      "\t0.27s\t = Training   runtime\n",
      "\t0.03s\t = Validation runtime\n",
      "Fitting model: NeuralNetFastAI ...\n",
      "\t-15.8068\t = Validation score   (-root_mean_squared_error)\n",
      "\t0.79s\t = Training   runtime\n",
      "\t0.0s\t = Validation runtime\n",
      "Fitting model: XGBoost ...\n",
      "\t-17.2176\t = Validation score   (-root_mean_squared_error)\n",
      "\t0.77s\t = Training   runtime\n",
      "\t0.0s\t = Validation runtime\n",
      "Fitting model: NeuralNetTorch ...\n",
      "\t-15.8815\t = Validation score   (-root_mean_squared_error)\n",
      "\t3.79s\t = Training   runtime\n",
      "\t0.0s\t = Validation runtime\n",
      "Fitting model: LightGBMLarge ...\n",
      "\tWarning: Exception caused LightGBMLarge to fail during training... Skipping this model.\n",
      "\t\tmodule 'pandas.core.strings' has no attribute 'StringMethods'\n",
      "Detailed Traceback:\n",
      "Traceback (most recent call last):\n",
      "  File \"/Users/alexbishka/opt/anaconda3/lib/python3.9/site-packages/autogluon/core/trainer/abstract_trainer.py\", line 1904, in _train_and_save\n",
      "    model = self._train_single(X, y, model, X_val, y_val, total_resources=total_resources, **model_fit_kwargs)\n",
      "  File \"/Users/alexbishka/opt/anaconda3/lib/python3.9/site-packages/autogluon/core/trainer/abstract_trainer.py\", line 1844, in _train_single\n",
      "    model = model.fit(X=X, y=y, X_val=X_val, y_val=y_val, total_resources=total_resources, **model_fit_kwargs)\n",
      "  File \"/Users/alexbishka/opt/anaconda3/lib/python3.9/site-packages/autogluon/core/models/abstract/abstract_model.py\", line 855, in fit\n",
      "    out = self._fit(**kwargs)\n",
      "  File \"/Users/alexbishka/opt/anaconda3/lib/python3.9/site-packages/autogluon/tabular/models/lgb/lgb_model.py\", line 98, in _fit\n",
      "    try_import_lightgbm()  # raise helpful error message if LightGBM isn't installed\n",
      "  File \"/Users/alexbishka/opt/anaconda3/lib/python3.9/site-packages/autogluon/common/utils/try_import.py\", line 82, in try_import_lightgbm\n",
      "    import lightgbm\n",
      "  File \"/Users/alexbishka/opt/anaconda3/lib/python3.9/site-packages/lightgbm/__init__.py\", line 8, in <module>\n",
      "    from .basic import Booster, Dataset, Sequence, register_logger\n",
      "  File \"/Users/alexbishka/opt/anaconda3/lib/python3.9/site-packages/lightgbm/basic.py\", line 21, in <module>\n",
      "    from .compat import (PANDAS_INSTALLED, PYARROW_INSTALLED, arrow_cffi, arrow_is_floating, arrow_is_integer, concat,\n",
      "  File \"/Users/alexbishka/opt/anaconda3/lib/python3.9/site-packages/lightgbm/compat.py\", line 155, in <module>\n",
      "    from dask.dataframe import DataFrame as dask_DataFrame\n",
      "  File \"/Users/alexbishka/opt/anaconda3/lib/python3.9/site-packages/dask/dataframe/__init__.py\", line 3, in <module>\n",
      "    from . import backends, dispatch, rolling\n",
      "  File \"/Users/alexbishka/opt/anaconda3/lib/python3.9/site-packages/dask/dataframe/backends.py\", line 20, in <module>\n",
      "    from .core import DataFrame, Index, Scalar, Series, _Frame\n",
      "  File \"/Users/alexbishka/opt/anaconda3/lib/python3.9/site-packages/dask/dataframe/core.py\", line 52, in <module>\n",
      "    from .accessor import DatetimeAccessor, StringAccessor\n",
      "  File \"/Users/alexbishka/opt/anaconda3/lib/python3.9/site-packages/dask/dataframe/accessor.py\", line 109, in <module>\n",
      "    class StringAccessor(Accessor):\n",
      "  File \"/Users/alexbishka/opt/anaconda3/lib/python3.9/site-packages/dask/dataframe/accessor.py\", line 121, in StringAccessor\n",
      "    @derived_from(pd.core.strings.StringMethods)\n",
      "AttributeError: module 'pandas.core.strings' has no attribute 'StringMethods'\n",
      "Fitting model: WeightedEnsemble_L2 ...\n",
      "\tEnsemble Weights: {'RandomForestMSE': 0.435, 'NeuralNetFastAI': 0.348, 'NeuralNetTorch': 0.13, 'CatBoost': 0.087}\n",
      "\t-14.1597\t = Validation score   (-root_mean_squared_error)\n",
      "\t0.01s\t = Training   runtime\n",
      "\t0.0s\t = Validation runtime\n",
      "AutoGluon training complete, total runtime = 12.44s ... Best model: \"WeightedEnsemble_L2\"\n",
      "TabularPredictor saved. To load, use: predictor = TabularPredictor.load(\"AutogluonModels/ag-20240511_002500\")\n"
     ]
    }
   ],
   "source": [
    "predictor = TabularPredictor(label=label_column).fit(\n",
    "    train_data=train_data,\n",
    "    tuning_data=val_data  # Optional, only if you want to use a separate validation set\n",
    ")"
   ]
  },
  {
   "cell_type": "markdown",
   "id": "017c3886",
   "metadata": {},
   "source": [
    "## Evaluation"
   ]
  },
  {
   "cell_type": "code",
   "execution_count": 33,
   "id": "7fabb5d5",
   "metadata": {},
   "outputs": [
    {
     "name": "stdout",
     "output_type": "stream",
     "text": [
      "{'root_mean_squared_error': -16.23606000037748, 'mean_squared_error': -263.6096443358576, 'mean_absolute_error': -12.371340624553401, 'r2': 0.958153997893325, 'pearsonr': 0.9788646908907025, 'median_absolute_error': -9.73322143554688}\n"
     ]
    }
   ],
   "source": [
    "performance = predictor.evaluate(test_data)\n",
    "print(performance)"
   ]
  },
  {
   "cell_type": "code",
   "execution_count": 34,
   "id": "0aa75c78",
   "metadata": {},
   "outputs": [
    {
     "name": "stdout",
     "output_type": "stream",
     "text": [
      "992    233.463013\n",
      "478     71.039085\n",
      "689     12.048156\n",
      "31     262.448395\n",
      "617     88.080078\n",
      "Name: fantasy_points_ppr, dtype: float32\n"
     ]
    }
   ],
   "source": [
    "predictions = predictor.predict(test_data.drop(columns=[label_column]))\n",
    "print(predictions.head())"
   ]
  },
  {
   "cell_type": "code",
   "execution_count": 37,
   "id": "1ef72641",
   "metadata": {},
   "outputs": [],
   "source": [
    "answers = test_data[label_column]"
   ]
  },
  {
   "cell_type": "code",
   "execution_count": 38,
   "id": "80ef57ba-0d22-433b-b2e2-aa24fc58c70e",
   "metadata": {},
   "outputs": [
    {
     "data": {
      "text/plain": [
       "992    227.6\n",
       "478     46.5\n",
       "689      5.9\n",
       "31     242.4\n",
       "617     77.7\n",
       "Name: fantasy_points_ppr, dtype: float64"
      ]
     },
     "execution_count": 38,
     "metadata": {},
     "output_type": "execute_result"
    }
   ],
   "source": [
    "answers.head()"
   ]
  },
  {
   "cell_type": "code",
   "execution_count": 41,
   "id": "d4f7d11c-38b3-46d0-a2ba-45200d49cb98",
   "metadata": {},
   "outputs": [],
   "source": [
    "negative = 0\n",
    "close = 0\n",
    "far = 0\n",
    "for guess, answer in zip(predictions, answers):\n",
    "    diff = guess - answer\n",
    "    if diff < 0:\n",
    "        negative += 1\n",
    "    abs_diff = abs(diff)\n",
    "    if abs_diff <= 15:\n",
    "        close += 1\n",
    "    elif abs_diff >= 30:\n",
    "        far += 1"
   ]
  },
  {
   "cell_type": "code",
   "execution_count": 43,
   "id": "74581ddb-51cb-4c6f-8c9f-c30279c82d0c",
   "metadata": {},
   "outputs": [
    {
     "name": "stdout",
     "output_type": "stream",
     "text": [
      "Undershot gusses: 91\n",
      "Close guesses: 138\n",
      "Percent of close guesses: 0.6731707317073171\n",
      "Far guesses: 16\n"
     ]
    }
   ],
   "source": [
    "print(f\"Undershot gusses: {negative}\")\n",
    "print(f\"Close guesses: {close}\")\n",
    "print(f\"Percent of close guesses: {close / len(answers)}\")\n",
    "print(f\"Far guesses: {far}\")"
   ]
  },
  {
   "cell_type": "markdown",
   "id": "8c082242-975b-48bc-bfb7-1933eebd2620",
   "metadata": {},
   "source": [
    "## Visualization"
   ]
  },
  {
   "cell_type": "code",
   "execution_count": 46,
   "id": "b89c82fc-5be1-4cb9-a59d-e046a91d45e8",
   "metadata": {},
   "outputs": [],
   "source": [
    "errors = abs(predictions - answers)\n",
    "colors = ['red' if error > 30 else 'green' if error <= 15 else 'blue' for error in errors]"
   ]
  },
  {
   "cell_type": "code",
   "execution_count": 87,
   "id": "d5e700a4-b06f-43ae-a14a-6e3a6b353fe0",
   "metadata": {},
   "outputs": [],
   "source": [
    "colors = list()\n",
    "bad_misses = list()\n",
    "for i, (guess, answer) in enumerate(zip(predictions, answers)):\n",
    "    if -15 <= (guess - answer) < 0:\n",
    "        colors.append(\"green\")\n",
    "    elif 0 <= (guess - answer) <= 15:\n",
    "        colors.append(\"green\")\n",
    "    elif abs(guess - answer) >= 30:\n",
    "        colors.append(\"red\")\n",
    "\n",
    "        j = answers[answers == answer].index\n",
    "        player = df_lag.loc[j, 'player_name'].iloc[0]\n",
    "        season = df_lag.loc[j, 'season'].iloc[0]\n",
    "\n",
    "        bad_miss = (player, season, guess - answer, guess, answer)\n",
    "        bad_misses.append(bad_miss)\n",
    "    else:\n",
    "        colors.append(\"orange\")"
   ]
  },
  {
   "cell_type": "code",
   "execution_count": 88,
   "id": "c3407159-42e0-45c1-b1be-af655205e7f8",
   "metadata": {},
   "outputs": [],
   "source": [
    "player_names = df_lag.loc[answers.index, 'player_name']\n",
    "seasons = df_lag.loc[answers.index, 'season']"
   ]
  },
  {
   "cell_type": "code",
   "execution_count": 89,
   "id": "6b384b53-2aac-4c0a-9472-3a5ffd1bdeb0",
   "metadata": {},
   "outputs": [
    {
     "data": {
      "application/vnd.plotly.v1+json": {
       "config": {
        "plotlyServerURL": "https://plot.ly"
       },
       "data": [
        {
         "hoverinfo": "text+y",
         "marker": {
          "color": "black"
         },
         "mode": "markers",
         "name": "Actual Points",
         "text": [
          "DeVonta Smith | 2023",
          "Sammy Watkins | 2022",
          "Zach Pascal | 2023",
          "Vincent Jackson | 2013",
          "Sterling Shepard | 2021",
          "Zach Pascal | 2021",
          "Justin Hardy | 2017",
          "Tre'Quan Smith | 2021",
          "Danny Amendola | 2019",
          "Rondale Moore | 2023",
          "Breshad Perriman | 2020",
          "Danny Amendola | 2013",
          "Richie James | 2020",
          "Andre Caldwell | 2014",
          "Chris Moore | 2022",
          "Corey Coleman | 2017",
          "Robby Anderson | 2019",
          "Keshawn Martin | 2015",
          "Curtis Samuel | 2023",
          "Ryan Grant | 2017",
          "Earl Bennett | 2013",
          "Terry McLaurin | 2020",
          "Stephen Hill | 2013",
          "T.J. Graham | 2014",
          "Amari Cooper | 2019",
          "Kendrick Bourne | 2018",
          "Adam Thielen | 2019",
          "KhaDarel Hodge | 2023",
          "Jalen Guyton | 2021",
          "Davante Adams | 2015",
          "Mack Hollins | 2023",
          "Trent Taylor | 2018",
          "Chris Olave | 2023",
          "Allen Robinson | 2019",
          "Terry McLaurin | 2023",
          "JuJu Smith-Schuster | 2020",
          "Julio Jones | 2019",
          "Chris Conley | 2016",
          "Adam Thielen | 2023",
          "Dez Bryant | 2016",
          "Cooper Kupp | 2019",
          "Robby Anderson | 2018",
          "Michael Gallup | 2020",
          "Kendall Wright | 2013",
          "Mohamed Sanu | 2016",
          "Bruce Ellington | 2018",
          "N'Keal Harry | 2020",
          "Denarius Moore | 2013",
          "Marvin Jones | 2013",
          "Marvin Jones | 2018",
          "Mike Evans | 2015",
          "Dante Pettis | 2019",
          "Ted Ginn | 2017",
          "Isaiah McKenzie | 2021",
          "T.Y. Hilton | 2020",
          "Andre Johnson | 2014",
          "Leonard Hankerson | 2013",
          "Mohamed Sanu | 2018",
          "Isaiah McKenzie | 2019",
          "Eddie Royal | 2015",
          "James Proche | 2022",
          "Antonio Brown | 2014",
          "T.Y. Hilton | 2014",
          "Paul Richardson | 2017",
          "Torrey Smith | 2013",
          "Roddy White | 2015",
          "Willie Snead | 2020",
          "John Brown | 2015",
          "Calvin Johnson | 2014",
          "Larry Fitzgerald | 2016",
          "Dontrelle Inman | 2017",
          "DeVante Parker | 2023",
          "Steve Smith | 2015",
          "Quinton Patton | 2016",
          "D.J. Chark | 2020",
          "Tyler Boyd | 2020",
          "Robert Woods | 2020",
          "Tee Higgins | 2022",
          "Marquez Valdes-Scantling | 2023",
          "Davante Adams | 2022",
          "Donte Moncrief | 2017",
          "Chase Claypool | 2022",
          "Jaylen Waddle | 2022",
          "Jamison Crowder | 2020",
          "Michael Gallup | 2019",
          "Julio Jones | 2021",
          "Jakobi Meyers | 2021",
          "Amon-Ra St. Brown | 2023",
          "Marqise Lee | 2017",
          "Tyreek Hill | 2017",
          "Jason Avant | 2014",
          "Randall Cobb | 2019",
          "Tyler Boyd | 2018",
          "Isaiah McKenzie | 2018",
          "Damiere Byrd | 2022",
          "Jacoby Jones | 2014",
          "Keshawn Martin | 2013",
          "James Jones | 2013",
          "Donte Moncrief | 2016",
          "Mohamed Sanu | 2015",
          "D.J. Chark | 2019",
          "Pierre Garcon | 2015",
          "Davante Adams | 2019",
          "T.J. Graham | 2013",
          "Keshawn Martin | 2015",
          "Nelson Agholor | 2021",
          "Rishard Matthews | 2014",
          "Keelan Cole | 2018",
          "Brandon Aiyuk | 2022",
          "Keshawn Martin | 2015",
          "Braxton Miller | 2017",
          "Tyler Boyd | 2023",
          "Harry Douglas | 2016",
          "Jerome Simpson | 2013",
          "Robert Meachem | 2014",
          "D.J. Chark | 2023",
          "Darius Slayton | 2021",
          "Louis Murphy | 2014",
          "Cooper Kupp | 2022",
          "Sterling Shepard | 2020",
          "Jarvis Landry | 2017",
          "Tyler Boyd | 2022",
          "Devin Funchess | 2017",
          "Pierre Garcon | 2017",
          "Deebo Samuel | 2023",
          "Tim Patrick | 2021",
          "DeVante Parker | 2016",
          "Mike Williams | 2019",
          "Alex Erickson | 2018",
          "Brian Hartline | 2014",
          "Isaiah Ford | 2021",
          "Scott Miller | 2020",
          "Cooper Kupp | 2018",
          "Emmanuel Sanders | 2019",
          "Rishard Matthews | 2017",
          "Mohamed Sanu | 2014",
          "Jordan Matthews | 2016",
          "Rashard Higgins | 2018",
          "Aldrick Robinson | 2018",
          "Alshon Jeffery | 2018",
          "Chris Godwin | 2021",
          "Demaryius Thomas | 2017",
          "Jamison Crowder | 2018",
          "Marquez Valdes-Scantling | 2019",
          "Darnell Mooney | 2022",
          "Julio Jones | 2015",
          "Mike Williams | 2013",
          "Mecole Hardman | 2020",
          "Rueben Randle | 2014",
          "Romeo Doubs | 2023",
          "Nelson Agholor | 2016",
          "Calvin Johnson | 2015",
          "Michael Crabtree | 2015",
          "Parris Campbell | 2022",
          "Larry Fitzgerald | 2018",
          "Danny Amendola | 2015",
          "DeVante Parker | 2021",
          "Jason Avant | 2015",
          "Jarvis Landry | 2015",
          "Dez Bryant | 2015",
          "Kenny Stills | 2019",
          "T.Y. Hilton | 2016",
          "Justin Hardy | 2016",
          "A.J. Green | 2022",
          "Isaiah Ford | 2020",
          "Marcus Johnson | 2021",
          "DeVante Parker | 2018",
          "Noah Brown | 2022",
          "Tyler Lockett | 2020",
          "Chris Conley | 2019",
          "Marvin Jones | 2019",
          "K.J. Osborn | 2023",
          "Mohamed Sanu | 2019",
          "Julio Jones | 2016",
          "Brian Quick | 2014",
          "Dwayne Bowe | 2013",
          "Brian Quick | 2016",
          "Phillip Dorsett | 2018",
          "Chester Rogers | 2018",
          "Elijah Moore | 2022",
          "DeAndre Hopkins | 2022",
          "Dontrelle Inman | 2020",
          "Jakeem Grant | 2021",
          "Tyler Lockett | 2018",
          "Richie James | 2023",
          "Sterling Shepard | 2017",
          "Cody Latimer | 2017",
          "Allen Robinson | 2023",
          "Cedrick Wilson | 2022",
          "Steven Sims | 2020",
          "Jerry Jeudy | 2021",
          "Pierre Garcon | 2018",
          "Davante Adams | 2018",
          "Mike Evans | 2021",
          "D.J. Moore | 2021",
          "Freddie Swain | 2021",
          "Isaiah Hodgins | 2023",
          "Cordarrelle Patterson | 2018",
          "T.Y. Hilton | 2021",
          "Cordarrelle Patterson | 2017",
          "Odell Beckham | 2016",
          "Mike Williams | 2022",
          "Gabe Davis | 2022",
          "Stefon Diggs | 2020",
          "Courtland Sutton | 2023"
         ],
         "type": "scatter",
         "x": [
          0,
          1,
          2,
          3,
          4,
          5,
          6,
          7,
          8,
          9,
          10,
          11,
          12,
          13,
          14,
          15,
          16,
          17,
          18,
          19,
          20,
          21,
          22,
          23,
          24,
          25,
          26,
          27,
          28,
          29,
          30,
          31,
          32,
          33,
          34,
          35,
          36,
          37,
          38,
          39,
          40,
          41,
          42,
          43,
          44,
          45,
          46,
          47,
          48,
          49,
          50,
          51,
          52,
          53,
          54,
          55,
          56,
          57,
          58,
          59,
          60,
          61,
          62,
          63,
          64,
          65,
          66,
          67,
          68,
          69,
          70,
          71,
          72,
          73,
          74,
          75,
          76,
          77,
          78,
          79,
          80,
          81,
          82,
          83,
          84,
          85,
          86,
          87,
          88,
          89,
          90,
          91,
          92,
          93,
          94,
          95,
          96,
          97,
          98,
          99,
          100,
          101,
          102,
          103,
          104,
          105,
          106,
          107,
          108,
          109,
          110,
          111,
          112,
          113,
          114,
          115,
          116,
          117,
          118,
          119,
          120,
          121,
          122,
          123,
          124,
          125,
          126,
          127,
          128,
          129,
          130,
          131,
          132,
          133,
          134,
          135,
          136,
          137,
          138,
          139,
          140,
          141,
          142,
          143,
          144,
          145,
          146,
          147,
          148,
          149,
          150,
          151,
          152,
          153,
          154,
          155,
          156,
          157,
          158,
          159,
          160,
          161,
          162,
          163,
          164,
          165,
          166,
          167,
          168,
          169,
          170,
          171,
          172,
          173,
          174,
          175,
          176,
          177,
          178,
          179,
          180,
          181,
          182,
          183,
          184,
          185,
          186,
          187,
          188,
          189,
          190,
          191,
          192,
          193,
          194,
          195,
          196,
          197,
          198,
          199,
          200,
          201,
          202,
          203,
          204
         ],
         "y": [
          227.6,
          46.5,
          5.9,
          242.39999999999998,
          77.7,
          94.5,
          60.1,
          87.7,
          140.56,
          105,
          99.10000000000001,
          129.4,
          68.4,
          9.7,
          115.1,
          65.5,
          162.3,
          63.5,
          157.2,
          126.30000000000001,
          82.3,
          223.8,
          62.2,
          17.7,
          246.5,
          114.7,
          114.4,
          37.2,
          97.2,
          107.5,
          43.1,
          55.50000000000001,
          231.3,
          254.9,
          203.20000000000002,
          234.1,
          274.1,
          97,
          231,
          180,
          270.5,
          156.4,
          173.3,
          213.9,
          148.8,
          59.6,
          75.9,
          145.5,
          188.7,
          115.80000000000001,
          210.60000000000002,
          34.54,
          159.6,
          54.5,
          164.20000000000002,
          190.6,
          85.5,
          182.4,
          63.3,
          66.7,
          12.200000000000001,
          388.9,
          258.5,
          150.3,
          203.8,
          99.6,
          94.2,
          207.5,
          226.70000000000002,
          243.8,
          65.3,
          72.4,
          131,
          77.8,
          153.6,
          192.64000000000001,
          245.1,
          220.9,
          56.5,
          335.5,
          77.1,
          105.04,
          259.2,
          172.02,
          212.7,
          80.4,
          186.3,
          330.90000000000003,
          147.9,
          245.20000000000002,
          75.4,
          154.9,
          221.10000000000002,
          54.5,
          51.8,
          29.700000000000003,
          65.3,
          158.70000000000002,
          102.6,
          91.5,
          225.8,
          185.70000000000002,
          212.70000000000002,
          70.5,
          63.5,
          103.4,
          37.8,
          89.1,
          227.8,
          63.5,
          41.300000000000004,
          144.8,
          36,
          126.60000000000001,
          18.4,
          115.5,
          68.60000000000001,
          81,
          201.4,
          162.5,
          260,
          167.12,
          195,
          90,
          243.7,
          156.4,
          154.4,
          161.3,
          38.900000000000006,
          98.4,
          40.1,
          102.5,
          135.1,
          190.3,
          156.20000000000002,
          179.26,
          171.4,
          118.2,
          70.1,
          185.3,
          242.4,
          205.9,
          82.80000000000001,
          84.1,
          101.5,
          369.1,
          55.6,
          130.1,
          182.8,
          174.4,
          87.9,
          263.4,
          231.20000000000002,
          149.1,
          185.68,
          150.34,
          103.5,
          26.900000000000002,
          275.36,
          89.1,
          120.1,
          273.8,
          65.3,
          61.6,
          55.6,
          24.799999999999997,
          60.9,
          114.5,
          265.4,
          156.5,
          193.9,
          120,
          124.10000000000001,
          259.90000000000003,
          80.5,
          154.3,
          115.4,
          81.9,
          117.1,
          88.1,
          151.7,
          46.300000000000004,
          43.5,
          222.4,
          21.400000000000002,
          144.5,
          61.7,
          62,
          26.400000000000002,
          61.300000000000004,
          85,
          58.599999999999994,
          329.6,
          262.5,
          237.5,
          86.5,
          60,
          98.5,
          74.10000000000001,
          86,
          296.6,
          176.5,
          171.6,
          328.6,
          190.20000000000002
         ]
        },
        {
         "hoverinfo": "text+y",
         "marker": {
          "color": [
           "green",
           "orange",
           "green",
           "orange",
           "green",
           "green",
           "green",
           "green",
           "green",
           "green",
           "green",
           "green",
           "orange",
           "green",
           "green",
           "green",
           "green",
           "green",
           "orange",
           "green",
           "orange",
           "orange",
           "green",
           "green",
           "green",
           "orange",
           "green",
           "orange",
           "green",
           "green",
           "orange",
           "green",
           "green",
           "green",
           "orange",
           "red",
           "orange",
           "orange",
           "red",
           "orange",
           "orange",
           "green",
           "green",
           "orange",
           "green",
           "green",
           "green",
           "green",
           "red",
           "green",
           "red",
           "green",
           "green",
           "green",
           "green",
           "green",
           "green",
           "green",
           "green",
           "green",
           "green",
           "red",
           "green",
           "green",
           "orange",
           "orange",
           "green",
           "green",
           "green",
           "orange",
           "green",
           "green",
           "green",
           "green",
           "green",
           "green",
           "red",
           "green",
           "green",
           "green",
           "green",
           "green",
           "red",
           "orange",
           "green",
           "green",
           "orange",
           "green",
           "green",
           "orange",
           "green",
           "orange",
           "green",
           "green",
           "green",
           "green",
           "green",
           "orange",
           "red",
           "green",
           "red",
           "orange",
           "green",
           "orange",
           "green",
           "green",
           "green",
           "green",
           "green",
           "green",
           "green",
           "green",
           "green",
           "orange",
           "green",
           "green",
           "green",
           "green",
           "green",
           "orange",
           "red",
           "green",
           "orange",
           "orange",
           "red",
           "green",
           "green",
           "red",
           "green",
           "orange",
           "green",
           "green",
           "orange",
           "green",
           "orange",
           "green",
           "green",
           "green",
           "orange",
           "green",
           "green",
           "green",
           "green",
           "green",
           "green",
           "green",
           "green",
           "green",
           "green",
           "orange",
           "green",
           "orange",
           "orange",
           "green",
           "orange",
           "orange",
           "green",
           "green",
           "orange",
           "green",
           "green",
           "orange",
           "orange",
           "green",
           "green",
           "green",
           "green",
           "green",
           "red",
           "green",
           "orange",
           "green",
           "green",
           "red",
           "green",
           "green",
           "green",
           "orange",
           "orange",
           "green",
           "green",
           "green",
           "green",
           "orange",
           "orange",
           "green",
           "green",
           "orange",
           "green",
           "green",
           "orange",
           "green",
           "orange",
           "red",
           "green",
           "green",
           "green",
           "red",
           "green",
           "green",
           "green",
           "orange",
           "green",
           "green",
           "orange"
          ]
         },
         "mode": "markers",
         "name": "Predicted Points",
         "text": [
          "DeVonta Smith | 2023",
          "Sammy Watkins | 2022",
          "Zach Pascal | 2023",
          "Vincent Jackson | 2013",
          "Sterling Shepard | 2021",
          "Zach Pascal | 2021",
          "Justin Hardy | 2017",
          "Tre'Quan Smith | 2021",
          "Danny Amendola | 2019",
          "Rondale Moore | 2023",
          "Breshad Perriman | 2020",
          "Danny Amendola | 2013",
          "Richie James | 2020",
          "Andre Caldwell | 2014",
          "Chris Moore | 2022",
          "Corey Coleman | 2017",
          "Robby Anderson | 2019",
          "Keshawn Martin | 2015",
          "Curtis Samuel | 2023",
          "Ryan Grant | 2017",
          "Earl Bennett | 2013",
          "Terry McLaurin | 2020",
          "Stephen Hill | 2013",
          "T.J. Graham | 2014",
          "Amari Cooper | 2019",
          "Kendrick Bourne | 2018",
          "Adam Thielen | 2019",
          "KhaDarel Hodge | 2023",
          "Jalen Guyton | 2021",
          "Davante Adams | 2015",
          "Mack Hollins | 2023",
          "Trent Taylor | 2018",
          "Chris Olave | 2023",
          "Allen Robinson | 2019",
          "Terry McLaurin | 2023",
          "JuJu Smith-Schuster | 2020",
          "Julio Jones | 2019",
          "Chris Conley | 2016",
          "Adam Thielen | 2023",
          "Dez Bryant | 2016",
          "Cooper Kupp | 2019",
          "Robby Anderson | 2018",
          "Michael Gallup | 2020",
          "Kendall Wright | 2013",
          "Mohamed Sanu | 2016",
          "Bruce Ellington | 2018",
          "N'Keal Harry | 2020",
          "Denarius Moore | 2013",
          "Marvin Jones | 2013",
          "Marvin Jones | 2018",
          "Mike Evans | 2015",
          "Dante Pettis | 2019",
          "Ted Ginn | 2017",
          "Isaiah McKenzie | 2021",
          "T.Y. Hilton | 2020",
          "Andre Johnson | 2014",
          "Leonard Hankerson | 2013",
          "Mohamed Sanu | 2018",
          "Isaiah McKenzie | 2019",
          "Eddie Royal | 2015",
          "James Proche | 2022",
          "Antonio Brown | 2014",
          "T.Y. Hilton | 2014",
          "Paul Richardson | 2017",
          "Torrey Smith | 2013",
          "Roddy White | 2015",
          "Willie Snead | 2020",
          "John Brown | 2015",
          "Calvin Johnson | 2014",
          "Larry Fitzgerald | 2016",
          "Dontrelle Inman | 2017",
          "DeVante Parker | 2023",
          "Steve Smith | 2015",
          "Quinton Patton | 2016",
          "D.J. Chark | 2020",
          "Tyler Boyd | 2020",
          "Robert Woods | 2020",
          "Tee Higgins | 2022",
          "Marquez Valdes-Scantling | 2023",
          "Davante Adams | 2022",
          "Donte Moncrief | 2017",
          "Chase Claypool | 2022",
          "Jaylen Waddle | 2022",
          "Jamison Crowder | 2020",
          "Michael Gallup | 2019",
          "Julio Jones | 2021",
          "Jakobi Meyers | 2021",
          "Amon-Ra St. Brown | 2023",
          "Marqise Lee | 2017",
          "Tyreek Hill | 2017",
          "Jason Avant | 2014",
          "Randall Cobb | 2019",
          "Tyler Boyd | 2018",
          "Isaiah McKenzie | 2018",
          "Damiere Byrd | 2022",
          "Jacoby Jones | 2014",
          "Keshawn Martin | 2013",
          "James Jones | 2013",
          "Donte Moncrief | 2016",
          "Mohamed Sanu | 2015",
          "D.J. Chark | 2019",
          "Pierre Garcon | 2015",
          "Davante Adams | 2019",
          "T.J. Graham | 2013",
          "Keshawn Martin | 2015",
          "Nelson Agholor | 2021",
          "Rishard Matthews | 2014",
          "Keelan Cole | 2018",
          "Brandon Aiyuk | 2022",
          "Keshawn Martin | 2015",
          "Braxton Miller | 2017",
          "Tyler Boyd | 2023",
          "Harry Douglas | 2016",
          "Jerome Simpson | 2013",
          "Robert Meachem | 2014",
          "D.J. Chark | 2023",
          "Darius Slayton | 2021",
          "Louis Murphy | 2014",
          "Cooper Kupp | 2022",
          "Sterling Shepard | 2020",
          "Jarvis Landry | 2017",
          "Tyler Boyd | 2022",
          "Devin Funchess | 2017",
          "Pierre Garcon | 2017",
          "Deebo Samuel | 2023",
          "Tim Patrick | 2021",
          "DeVante Parker | 2016",
          "Mike Williams | 2019",
          "Alex Erickson | 2018",
          "Brian Hartline | 2014",
          "Isaiah Ford | 2021",
          "Scott Miller | 2020",
          "Cooper Kupp | 2018",
          "Emmanuel Sanders | 2019",
          "Rishard Matthews | 2017",
          "Mohamed Sanu | 2014",
          "Jordan Matthews | 2016",
          "Rashard Higgins | 2018",
          "Aldrick Robinson | 2018",
          "Alshon Jeffery | 2018",
          "Chris Godwin | 2021",
          "Demaryius Thomas | 2017",
          "Jamison Crowder | 2018",
          "Marquez Valdes-Scantling | 2019",
          "Darnell Mooney | 2022",
          "Julio Jones | 2015",
          "Mike Williams | 2013",
          "Mecole Hardman | 2020",
          "Rueben Randle | 2014",
          "Romeo Doubs | 2023",
          "Nelson Agholor | 2016",
          "Calvin Johnson | 2015",
          "Michael Crabtree | 2015",
          "Parris Campbell | 2022",
          "Larry Fitzgerald | 2018",
          "Danny Amendola | 2015",
          "DeVante Parker | 2021",
          "Jason Avant | 2015",
          "Jarvis Landry | 2015",
          "Dez Bryant | 2015",
          "Kenny Stills | 2019",
          "T.Y. Hilton | 2016",
          "Justin Hardy | 2016",
          "A.J. Green | 2022",
          "Isaiah Ford | 2020",
          "Marcus Johnson | 2021",
          "DeVante Parker | 2018",
          "Noah Brown | 2022",
          "Tyler Lockett | 2020",
          "Chris Conley | 2019",
          "Marvin Jones | 2019",
          "K.J. Osborn | 2023",
          "Mohamed Sanu | 2019",
          "Julio Jones | 2016",
          "Brian Quick | 2014",
          "Dwayne Bowe | 2013",
          "Brian Quick | 2016",
          "Phillip Dorsett | 2018",
          "Chester Rogers | 2018",
          "Elijah Moore | 2022",
          "DeAndre Hopkins | 2022",
          "Dontrelle Inman | 2020",
          "Jakeem Grant | 2021",
          "Tyler Lockett | 2018",
          "Richie James | 2023",
          "Sterling Shepard | 2017",
          "Cody Latimer | 2017",
          "Allen Robinson | 2023",
          "Cedrick Wilson | 2022",
          "Steven Sims | 2020",
          "Jerry Jeudy | 2021",
          "Pierre Garcon | 2018",
          "Davante Adams | 2018",
          "Mike Evans | 2021",
          "D.J. Moore | 2021",
          "Freddie Swain | 2021",
          "Isaiah Hodgins | 2023",
          "Cordarrelle Patterson | 2018",
          "T.Y. Hilton | 2021",
          "Cordarrelle Patterson | 2017",
          "Odell Beckham | 2016",
          "Mike Williams | 2022",
          "Gabe Davis | 2022",
          "Stefon Diggs | 2020",
          "Courtland Sutton | 2023"
         ],
         "type": "scatter",
         "x": [
          0,
          1,
          2,
          3,
          4,
          5,
          6,
          7,
          8,
          9,
          10,
          11,
          12,
          13,
          14,
          15,
          16,
          17,
          18,
          19,
          20,
          21,
          22,
          23,
          24,
          25,
          26,
          27,
          28,
          29,
          30,
          31,
          32,
          33,
          34,
          35,
          36,
          37,
          38,
          39,
          40,
          41,
          42,
          43,
          44,
          45,
          46,
          47,
          48,
          49,
          50,
          51,
          52,
          53,
          54,
          55,
          56,
          57,
          58,
          59,
          60,
          61,
          62,
          63,
          64,
          65,
          66,
          67,
          68,
          69,
          70,
          71,
          72,
          73,
          74,
          75,
          76,
          77,
          78,
          79,
          80,
          81,
          82,
          83,
          84,
          85,
          86,
          87,
          88,
          89,
          90,
          91,
          92,
          93,
          94,
          95,
          96,
          97,
          98,
          99,
          100,
          101,
          102,
          103,
          104,
          105,
          106,
          107,
          108,
          109,
          110,
          111,
          112,
          113,
          114,
          115,
          116,
          117,
          118,
          119,
          120,
          121,
          122,
          123,
          124,
          125,
          126,
          127,
          128,
          129,
          130,
          131,
          132,
          133,
          134,
          135,
          136,
          137,
          138,
          139,
          140,
          141,
          142,
          143,
          144,
          145,
          146,
          147,
          148,
          149,
          150,
          151,
          152,
          153,
          154,
          155,
          156,
          157,
          158,
          159,
          160,
          161,
          162,
          163,
          164,
          165,
          166,
          167,
          168,
          169,
          170,
          171,
          172,
          173,
          174,
          175,
          176,
          177,
          178,
          179,
          180,
          181,
          182,
          183,
          184,
          185,
          186,
          187,
          188,
          189,
          190,
          191,
          192,
          193,
          194,
          195,
          196,
          197,
          198,
          199,
          200,
          201,
          202,
          203,
          204
         ],
         "y": [
          233.46301,
          71.039085,
          12.048156,
          262.4484,
          88.08008,
          98.00785,
          50.439583,
          77.52449,
          142.1019,
          101.95854,
          102.72443,
          142.4046,
          84.87983,
          15.107452,
          127.88217,
          62.601486,
          168.94489,
          60.830517,
          133.99278,
          120.96684,
          66.55156,
          242.62839,
          69.88201,
          19.076588,
          250.65892,
          99.52449,
          104.25716,
          55.06764,
          89.535095,
          111.36501,
          58.711334,
          49.675713,
          226.42079,
          241.21643,
          221.23984,
          187.4726,
          291.37613,
          121.36394,
          197.38382,
          158.34677,
          253.13411,
          162.0297,
          185.81743,
          240.21902,
          146.02425,
          49.16005,
          68.8093,
          148.99686,
          155.94318,
          117.69501,
          243.53119,
          27.501253,
          164.7983,
          50.046013,
          171.80548,
          198.3472,
          81.93642,
          188.46213,
          63.045467,
          63.00985,
          15.485587,
          347.8769,
          270.70242,
          152.28615,
          220.44955,
          125.66542,
          90.52384,
          200.84175,
          225.54956,
          221.54712,
          77.109856,
          84.37605,
          136.93547,
          92.121086,
          158.2122,
          190.74335,
          208.80338,
          222.12024,
          66.68208,
          322.76514,
          84.526405,
          101.12164,
          298.85736,
          151.32716,
          214.66724,
          94.9004,
          205.2824,
          328.2917,
          156.82916,
          263.1768,
          77.52661,
          176.82275,
          206.19624,
          40.24134,
          57.314053,
          29.574448,
          54.39868,
          185.63844,
          72.49928,
          86.18416,
          192.13205,
          169.34264,
          223.07365,
          95.173515,
          60.830517,
          108.760826,
          32.842987,
          100.138405,
          216.87418,
          60.830517,
          39.924576,
          150.13731,
          47.551537,
          143.73926,
          32.38992,
          111.14937,
          73.29174,
          78.158745,
          206.9741,
          139.43338,
          224.11221,
          174.96686,
          167.8444,
          109.29982,
          205.30582,
          157.52615,
          155.04652,
          201.33792,
          37.575874,
          115.95488,
          43.565105,
          101.695694,
          116.3221,
          197.02368,
          173.52853,
          179.97176,
          180.4572,
          119.55712,
          48.144608,
          187.48233,
          247.78006,
          201.67549,
          88.57484,
          95.49693,
          110.316895,
          366.90137,
          55.4639,
          116.21657,
          193.21574,
          151.40483,
          100.90805,
          244.38063,
          207.83507,
          144.18457,
          166.65323,
          131.12921,
          110.79953,
          31.077507,
          246.55328,
          95.03924,
          122.4158,
          300.95166,
          42.18922,
          62.035114,
          60.209957,
          35.008156,
          68.396065,
          128.18396,
          232.44527,
          162.90138,
          170.70598,
          126.20864,
          125.90868,
          308.2704,
          80.35043,
          153.77975,
          117.12262,
          63.456398,
          99.9061,
          99.59017,
          159.63162,
          37.094917,
          39.40106,
          202.6976,
          38.878376,
          159.46783,
          61.05419,
          87.56119,
          41.12432,
          62.120228,
          103.7309,
          68.33322,
          301.68735,
          220.49042,
          246.21077,
          72.71111,
          53.040268,
          55.768738,
          77.502625,
          83.57764,
          309.08133,
          195.19405,
          174.2705,
          315.07385,
          169.27103
         ]
        }
       ],
       "layout": {
        "autosize": true,
        "hovermode": "closest",
        "legend": {
         "title": {
          "text": "Point Type"
         }
        },
        "template": {
         "data": {
          "bar": [
           {
            "error_x": {
             "color": "#2a3f5f"
            },
            "error_y": {
             "color": "#2a3f5f"
            },
            "marker": {
             "line": {
              "color": "#E5ECF6",
              "width": 0.5
             },
             "pattern": {
              "fillmode": "overlay",
              "size": 10,
              "solidity": 0.2
             }
            },
            "type": "bar"
           }
          ],
          "barpolar": [
           {
            "marker": {
             "line": {
              "color": "#E5ECF6",
              "width": 0.5
             },
             "pattern": {
              "fillmode": "overlay",
              "size": 10,
              "solidity": 0.2
             }
            },
            "type": "barpolar"
           }
          ],
          "carpet": [
           {
            "aaxis": {
             "endlinecolor": "#2a3f5f",
             "gridcolor": "white",
             "linecolor": "white",
             "minorgridcolor": "white",
             "startlinecolor": "#2a3f5f"
            },
            "baxis": {
             "endlinecolor": "#2a3f5f",
             "gridcolor": "white",
             "linecolor": "white",
             "minorgridcolor": "white",
             "startlinecolor": "#2a3f5f"
            },
            "type": "carpet"
           }
          ],
          "choropleth": [
           {
            "colorbar": {
             "outlinewidth": 0,
             "ticks": ""
            },
            "type": "choropleth"
           }
          ],
          "contour": [
           {
            "colorbar": {
             "outlinewidth": 0,
             "ticks": ""
            },
            "colorscale": [
             [
              0,
              "#0d0887"
             ],
             [
              0.1111111111111111,
              "#46039f"
             ],
             [
              0.2222222222222222,
              "#7201a8"
             ],
             [
              0.3333333333333333,
              "#9c179e"
             ],
             [
              0.4444444444444444,
              "#bd3786"
             ],
             [
              0.5555555555555556,
              "#d8576b"
             ],
             [
              0.6666666666666666,
              "#ed7953"
             ],
             [
              0.7777777777777778,
              "#fb9f3a"
             ],
             [
              0.8888888888888888,
              "#fdca26"
             ],
             [
              1,
              "#f0f921"
             ]
            ],
            "type": "contour"
           }
          ],
          "contourcarpet": [
           {
            "colorbar": {
             "outlinewidth": 0,
             "ticks": ""
            },
            "type": "contourcarpet"
           }
          ],
          "heatmap": [
           {
            "colorbar": {
             "outlinewidth": 0,
             "ticks": ""
            },
            "colorscale": [
             [
              0,
              "#0d0887"
             ],
             [
              0.1111111111111111,
              "#46039f"
             ],
             [
              0.2222222222222222,
              "#7201a8"
             ],
             [
              0.3333333333333333,
              "#9c179e"
             ],
             [
              0.4444444444444444,
              "#bd3786"
             ],
             [
              0.5555555555555556,
              "#d8576b"
             ],
             [
              0.6666666666666666,
              "#ed7953"
             ],
             [
              0.7777777777777778,
              "#fb9f3a"
             ],
             [
              0.8888888888888888,
              "#fdca26"
             ],
             [
              1,
              "#f0f921"
             ]
            ],
            "type": "heatmap"
           }
          ],
          "heatmapgl": [
           {
            "colorbar": {
             "outlinewidth": 0,
             "ticks": ""
            },
            "colorscale": [
             [
              0,
              "#0d0887"
             ],
             [
              0.1111111111111111,
              "#46039f"
             ],
             [
              0.2222222222222222,
              "#7201a8"
             ],
             [
              0.3333333333333333,
              "#9c179e"
             ],
             [
              0.4444444444444444,
              "#bd3786"
             ],
             [
              0.5555555555555556,
              "#d8576b"
             ],
             [
              0.6666666666666666,
              "#ed7953"
             ],
             [
              0.7777777777777778,
              "#fb9f3a"
             ],
             [
              0.8888888888888888,
              "#fdca26"
             ],
             [
              1,
              "#f0f921"
             ]
            ],
            "type": "heatmapgl"
           }
          ],
          "histogram": [
           {
            "marker": {
             "pattern": {
              "fillmode": "overlay",
              "size": 10,
              "solidity": 0.2
             }
            },
            "type": "histogram"
           }
          ],
          "histogram2d": [
           {
            "colorbar": {
             "outlinewidth": 0,
             "ticks": ""
            },
            "colorscale": [
             [
              0,
              "#0d0887"
             ],
             [
              0.1111111111111111,
              "#46039f"
             ],
             [
              0.2222222222222222,
              "#7201a8"
             ],
             [
              0.3333333333333333,
              "#9c179e"
             ],
             [
              0.4444444444444444,
              "#bd3786"
             ],
             [
              0.5555555555555556,
              "#d8576b"
             ],
             [
              0.6666666666666666,
              "#ed7953"
             ],
             [
              0.7777777777777778,
              "#fb9f3a"
             ],
             [
              0.8888888888888888,
              "#fdca26"
             ],
             [
              1,
              "#f0f921"
             ]
            ],
            "type": "histogram2d"
           }
          ],
          "histogram2dcontour": [
           {
            "colorbar": {
             "outlinewidth": 0,
             "ticks": ""
            },
            "colorscale": [
             [
              0,
              "#0d0887"
             ],
             [
              0.1111111111111111,
              "#46039f"
             ],
             [
              0.2222222222222222,
              "#7201a8"
             ],
             [
              0.3333333333333333,
              "#9c179e"
             ],
             [
              0.4444444444444444,
              "#bd3786"
             ],
             [
              0.5555555555555556,
              "#d8576b"
             ],
             [
              0.6666666666666666,
              "#ed7953"
             ],
             [
              0.7777777777777778,
              "#fb9f3a"
             ],
             [
              0.8888888888888888,
              "#fdca26"
             ],
             [
              1,
              "#f0f921"
             ]
            ],
            "type": "histogram2dcontour"
           }
          ],
          "mesh3d": [
           {
            "colorbar": {
             "outlinewidth": 0,
             "ticks": ""
            },
            "type": "mesh3d"
           }
          ],
          "parcoords": [
           {
            "line": {
             "colorbar": {
              "outlinewidth": 0,
              "ticks": ""
             }
            },
            "type": "parcoords"
           }
          ],
          "pie": [
           {
            "automargin": true,
            "type": "pie"
           }
          ],
          "scatter": [
           {
            "fillpattern": {
             "fillmode": "overlay",
             "size": 10,
             "solidity": 0.2
            },
            "type": "scatter"
           }
          ],
          "scatter3d": [
           {
            "line": {
             "colorbar": {
              "outlinewidth": 0,
              "ticks": ""
             }
            },
            "marker": {
             "colorbar": {
              "outlinewidth": 0,
              "ticks": ""
             }
            },
            "type": "scatter3d"
           }
          ],
          "scattercarpet": [
           {
            "marker": {
             "colorbar": {
              "outlinewidth": 0,
              "ticks": ""
             }
            },
            "type": "scattercarpet"
           }
          ],
          "scattergeo": [
           {
            "marker": {
             "colorbar": {
              "outlinewidth": 0,
              "ticks": ""
             }
            },
            "type": "scattergeo"
           }
          ],
          "scattergl": [
           {
            "marker": {
             "colorbar": {
              "outlinewidth": 0,
              "ticks": ""
             }
            },
            "type": "scattergl"
           }
          ],
          "scattermapbox": [
           {
            "marker": {
             "colorbar": {
              "outlinewidth": 0,
              "ticks": ""
             }
            },
            "type": "scattermapbox"
           }
          ],
          "scatterpolar": [
           {
            "marker": {
             "colorbar": {
              "outlinewidth": 0,
              "ticks": ""
             }
            },
            "type": "scatterpolar"
           }
          ],
          "scatterpolargl": [
           {
            "marker": {
             "colorbar": {
              "outlinewidth": 0,
              "ticks": ""
             }
            },
            "type": "scatterpolargl"
           }
          ],
          "scatterternary": [
           {
            "marker": {
             "colorbar": {
              "outlinewidth": 0,
              "ticks": ""
             }
            },
            "type": "scatterternary"
           }
          ],
          "surface": [
           {
            "colorbar": {
             "outlinewidth": 0,
             "ticks": ""
            },
            "colorscale": [
             [
              0,
              "#0d0887"
             ],
             [
              0.1111111111111111,
              "#46039f"
             ],
             [
              0.2222222222222222,
              "#7201a8"
             ],
             [
              0.3333333333333333,
              "#9c179e"
             ],
             [
              0.4444444444444444,
              "#bd3786"
             ],
             [
              0.5555555555555556,
              "#d8576b"
             ],
             [
              0.6666666666666666,
              "#ed7953"
             ],
             [
              0.7777777777777778,
              "#fb9f3a"
             ],
             [
              0.8888888888888888,
              "#fdca26"
             ],
             [
              1,
              "#f0f921"
             ]
            ],
            "type": "surface"
           }
          ],
          "table": [
           {
            "cells": {
             "fill": {
              "color": "#EBF0F8"
             },
             "line": {
              "color": "white"
             }
            },
            "header": {
             "fill": {
              "color": "#C8D4E3"
             },
             "line": {
              "color": "white"
             }
            },
            "type": "table"
           }
          ]
         },
         "layout": {
          "annotationdefaults": {
           "arrowcolor": "#2a3f5f",
           "arrowhead": 0,
           "arrowwidth": 1
          },
          "autotypenumbers": "strict",
          "coloraxis": {
           "colorbar": {
            "outlinewidth": 0,
            "ticks": ""
           }
          },
          "colorscale": {
           "diverging": [
            [
             0,
             "#8e0152"
            ],
            [
             0.1,
             "#c51b7d"
            ],
            [
             0.2,
             "#de77ae"
            ],
            [
             0.3,
             "#f1b6da"
            ],
            [
             0.4,
             "#fde0ef"
            ],
            [
             0.5,
             "#f7f7f7"
            ],
            [
             0.6,
             "#e6f5d0"
            ],
            [
             0.7,
             "#b8e186"
            ],
            [
             0.8,
             "#7fbc41"
            ],
            [
             0.9,
             "#4d9221"
            ],
            [
             1,
             "#276419"
            ]
           ],
           "sequential": [
            [
             0,
             "#0d0887"
            ],
            [
             0.1111111111111111,
             "#46039f"
            ],
            [
             0.2222222222222222,
             "#7201a8"
            ],
            [
             0.3333333333333333,
             "#9c179e"
            ],
            [
             0.4444444444444444,
             "#bd3786"
            ],
            [
             0.5555555555555556,
             "#d8576b"
            ],
            [
             0.6666666666666666,
             "#ed7953"
            ],
            [
             0.7777777777777778,
             "#fb9f3a"
            ],
            [
             0.8888888888888888,
             "#fdca26"
            ],
            [
             1,
             "#f0f921"
            ]
           ],
           "sequentialminus": [
            [
             0,
             "#0d0887"
            ],
            [
             0.1111111111111111,
             "#46039f"
            ],
            [
             0.2222222222222222,
             "#7201a8"
            ],
            [
             0.3333333333333333,
             "#9c179e"
            ],
            [
             0.4444444444444444,
             "#bd3786"
            ],
            [
             0.5555555555555556,
             "#d8576b"
            ],
            [
             0.6666666666666666,
             "#ed7953"
            ],
            [
             0.7777777777777778,
             "#fb9f3a"
            ],
            [
             0.8888888888888888,
             "#fdca26"
            ],
            [
             1,
             "#f0f921"
            ]
           ]
          },
          "colorway": [
           "#636efa",
           "#EF553B",
           "#00cc96",
           "#ab63fa",
           "#FFA15A",
           "#19d3f3",
           "#FF6692",
           "#B6E880",
           "#FF97FF",
           "#FECB52"
          ],
          "font": {
           "color": "#2a3f5f"
          },
          "geo": {
           "bgcolor": "white",
           "lakecolor": "white",
           "landcolor": "#E5ECF6",
           "showlakes": true,
           "showland": true,
           "subunitcolor": "white"
          },
          "hoverlabel": {
           "align": "left"
          },
          "hovermode": "closest",
          "mapbox": {
           "style": "light"
          },
          "paper_bgcolor": "white",
          "plot_bgcolor": "#E5ECF6",
          "polar": {
           "angularaxis": {
            "gridcolor": "white",
            "linecolor": "white",
            "ticks": ""
           },
           "bgcolor": "#E5ECF6",
           "radialaxis": {
            "gridcolor": "white",
            "linecolor": "white",
            "ticks": ""
           }
          },
          "scene": {
           "xaxis": {
            "backgroundcolor": "#E5ECF6",
            "gridcolor": "white",
            "gridwidth": 2,
            "linecolor": "white",
            "showbackground": true,
            "ticks": "",
            "zerolinecolor": "white"
           },
           "yaxis": {
            "backgroundcolor": "#E5ECF6",
            "gridcolor": "white",
            "gridwidth": 2,
            "linecolor": "white",
            "showbackground": true,
            "ticks": "",
            "zerolinecolor": "white"
           },
           "zaxis": {
            "backgroundcolor": "#E5ECF6",
            "gridcolor": "white",
            "gridwidth": 2,
            "linecolor": "white",
            "showbackground": true,
            "ticks": "",
            "zerolinecolor": "white"
           }
          },
          "shapedefaults": {
           "line": {
            "color": "#2a3f5f"
           }
          },
          "ternary": {
           "aaxis": {
            "gridcolor": "white",
            "linecolor": "white",
            "ticks": ""
           },
           "baxis": {
            "gridcolor": "white",
            "linecolor": "white",
            "ticks": ""
           },
           "bgcolor": "#E5ECF6",
           "caxis": {
            "gridcolor": "white",
            "linecolor": "white",
            "ticks": ""
           }
          },
          "title": {
           "x": 0.05
          },
          "xaxis": {
           "automargin": true,
           "gridcolor": "white",
           "linecolor": "white",
           "ticks": "",
           "title": {
            "standoff": 15
           },
           "zerolinecolor": "white",
           "zerolinewidth": 2
          },
          "yaxis": {
           "automargin": true,
           "gridcolor": "white",
           "linecolor": "white",
           "ticks": "",
           "title": {
            "standoff": 15
           },
           "zerolinecolor": "white",
           "zerolinewidth": 2
          }
         }
        },
        "title": {
         "text": "Prediction vs Actual Points"
        },
        "xaxis": {
         "autorange": true,
         "range": [
          -12.43579766536965,
          216.43579766536965
         ],
         "title": {
          "text": "Index"
         },
         "type": "linear"
        },
        "yaxis": {
         "autorange": true,
         "range": [
          -25.706796116504854,
          420.50679611650486
         ],
         "title": {
          "text": "Points"
         },
         "type": "linear"
        }
       }
      },
      "image/png": "[encoded data removed]",
      "text/html": [
       "<div>                            <div id=\"86c6b80a-8157-4728-bb7e-ebe29598cc29\" class=\"plotly-graph-div\" style=\"height:525px; width:100%;\"></div>            <script type=\"text/javascript\">                require([\"plotly\"], function(Plotly) {                    window.PLOTLYENV=window.PLOTLYENV || {};                                    if (document.getElementById(\"86c6b80a-8157-4728-bb7e-ebe29598cc29\")) {                    Plotly.newPlot(                        \"86c6b80a-8157-4728-bb7e-ebe29598cc29\",                        [{\"hoverinfo\":\"text+y\",\"marker\":{\"color\":\"black\"},\"mode\":\"markers\",\"name\":\"Actual Points\",\"text\":[\"DeVonta Smith | 2023\",\"Sammy Watkins | 2022\",\"Zach Pascal | 2023\",\"Vincent Jackson | 2013\",\"Sterling Shepard | 2021\",\"Zach Pascal | 2021\",\"Justin Hardy | 2017\",\"Tre'Quan Smith | 2021\",\"Danny Amendola | 2019\",\"Rondale Moore | 2023\",\"Breshad Perriman | 2020\",\"Danny Amendola | 2013\",\"Richie James | 2020\",\"Andre Caldwell | 2014\",\"Chris Moore | 2022\",\"Corey Coleman | 2017\",\"Robby Anderson | 2019\",\"Keshawn Martin | 2015\",\"Curtis Samuel | 2023\",\"Ryan Grant | 2017\",\"Earl Bennett | 2013\",\"Terry McLaurin | 2020\",\"Stephen Hill | 2013\",\"T.J. Graham | 2014\",\"Amari Cooper | 2019\",\"Kendrick Bourne | 2018\",\"Adam Thielen | 2019\",\"KhaDarel Hodge | 2023\",\"Jalen Guyton | 2021\",\"Davante Adams | 2015\",\"Mack Hollins | 2023\",\"Trent Taylor | 2018\",\"Chris Olave | 2023\",\"Allen Robinson | 2019\",\"Terry McLaurin | 2023\",\"JuJu Smith-Schuster | 2020\",\"Julio Jones | 2019\",\"Chris Conley | 2016\",\"Adam Thielen | 2023\",\"Dez Bryant | 2016\",\"Cooper Kupp | 2019\",\"Robby Anderson | 2018\",\"Michael Gallup | 2020\",\"Kendall Wright | 2013\",\"Mohamed Sanu | 2016\",\"Bruce Ellington | 2018\",\"N'Keal Harry | 2020\",\"Denarius Moore | 2013\",\"Marvin Jones | 2013\",\"Marvin Jones | 2018\",\"Mike Evans | 2015\",\"Dante Pettis | 2019\",\"Ted Ginn | 2017\",\"Isaiah McKenzie | 2021\",\"T.Y. Hilton | 2020\",\"Andre Johnson | 2014\",\"Leonard Hankerson | 2013\",\"Mohamed Sanu | 2018\",\"Isaiah McKenzie | 2019\",\"Eddie Royal | 2015\",\"James Proche | 2022\",\"Antonio Brown | 2014\",\"T.Y. Hilton | 2014\",\"Paul Richardson | 2017\",\"Torrey Smith | 2013\",\"Roddy White | 2015\",\"Willie Snead | 2020\",\"John Brown | 2015\",\"Calvin Johnson | 2014\",\"Larry Fitzgerald | 2016\",\"Dontrelle Inman | 2017\",\"DeVante Parker | 2023\",\"Steve Smith | 2015\",\"Quinton Patton | 2016\",\"D.J. Chark | 2020\",\"Tyler Boyd | 2020\",\"Robert Woods | 2020\",\"Tee Higgins | 2022\",\"Marquez Valdes-Scantling | 2023\",\"Davante Adams | 2022\",\"Donte Moncrief | 2017\",\"Chase Claypool | 2022\",\"Jaylen Waddle | 2022\",\"Jamison Crowder | 2020\",\"Michael Gallup | 2019\",\"Julio Jones | 2021\",\"Jakobi Meyers | 2021\",\"Amon-Ra St. Brown | 2023\",\"Marqise Lee | 2017\",\"Tyreek Hill | 2017\",\"Jason Avant | 2014\",\"Randall Cobb | 2019\",\"Tyler Boyd | 2018\",\"Isaiah McKenzie | 2018\",\"Damiere Byrd | 2022\",\"Jacoby Jones | 2014\",\"Keshawn Martin | 2013\",\"James Jones | 2013\",\"Donte Moncrief | 2016\",\"Mohamed Sanu | 2015\",\"D.J. Chark | 2019\",\"Pierre Garcon | 2015\",\"Davante Adams | 2019\",\"T.J. Graham | 2013\",\"Keshawn Martin | 2015\",\"Nelson Agholor | 2021\",\"Rishard Matthews | 2014\",\"Keelan Cole | 2018\",\"Brandon Aiyuk | 2022\",\"Keshawn Martin | 2015\",\"Braxton Miller | 2017\",\"Tyler Boyd | 2023\",\"Harry Douglas | 2016\",\"Jerome Simpson | 2013\",\"Robert Meachem | 2014\",\"D.J. Chark | 2023\",\"Darius Slayton | 2021\",\"Louis Murphy | 2014\",\"Cooper Kupp | 2022\",\"Sterling Shepard | 2020\",\"Jarvis Landry | 2017\",\"Tyler Boyd | 2022\",\"Devin Funchess | 2017\",\"Pierre Garcon | 2017\",\"Deebo Samuel | 2023\",\"Tim Patrick | 2021\",\"DeVante Parker | 2016\",\"Mike Williams | 2019\",\"Alex Erickson | 2018\",\"Brian Hartline | 2014\",\"Isaiah Ford | 2021\",\"Scott Miller | 2020\",\"Cooper Kupp | 2018\",\"Emmanuel Sanders | 2019\",\"Rishard Matthews | 2017\",\"Mohamed Sanu | 2014\",\"Jordan Matthews | 2016\",\"Rashard Higgins | 2018\",\"Aldrick Robinson | 2018\",\"Alshon Jeffery | 2018\",\"Chris Godwin | 2021\",\"Demaryius Thomas | 2017\",\"Jamison Crowder | 2018\",\"Marquez Valdes-Scantling | 2019\",\"Darnell Mooney | 2022\",\"Julio Jones | 2015\",\"Mike Williams | 2013\",\"Mecole Hardman | 2020\",\"Rueben Randle | 2014\",\"Romeo Doubs | 2023\",\"Nelson Agholor | 2016\",\"Calvin Johnson | 2015\",\"Michael Crabtree | 2015\",\"Parris Campbell | 2022\",\"Larry Fitzgerald | 2018\",\"Danny Amendola | 2015\",\"DeVante Parker | 2021\",\"Jason Avant | 2015\",\"Jarvis Landry | 2015\",\"Dez Bryant | 2015\",\"Kenny Stills | 2019\",\"T.Y. Hilton | 2016\",\"Justin Hardy | 2016\",\"A.J. Green | 2022\",\"Isaiah Ford | 2020\",\"Marcus Johnson | 2021\",\"DeVante Parker | 2018\",\"Noah Brown | 2022\",\"Tyler Lockett | 2020\",\"Chris Conley | 2019\",\"Marvin Jones | 2019\",\"K.J. Osborn | 2023\",\"Mohamed Sanu | 2019\",\"Julio Jones | 2016\",\"Brian Quick | 2014\",\"Dwayne Bowe | 2013\",\"Brian Quick | 2016\",\"Phillip Dorsett | 2018\",\"Chester Rogers | 2018\",\"Elijah Moore | 2022\",\"DeAndre Hopkins | 2022\",\"Dontrelle Inman | 2020\",\"Jakeem Grant | 2021\",\"Tyler Lockett | 2018\",\"Richie James | 2023\",\"Sterling Shepard | 2017\",\"Cody Latimer | 2017\",\"Allen Robinson | 2023\",\"Cedrick Wilson | 2022\",\"Steven Sims | 2020\",\"Jerry Jeudy | 2021\",\"Pierre Garcon | 2018\",\"Davante Adams | 2018\",\"Mike Evans | 2021\",\"D.J. Moore | 2021\",\"Freddie Swain | 2021\",\"Isaiah Hodgins | 2023\",\"Cordarrelle Patterson | 2018\",\"T.Y. Hilton | 2021\",\"Cordarrelle Patterson | 2017\",\"Odell Beckham | 2016\",\"Mike Williams | 2022\",\"Gabe Davis | 2022\",\"Stefon Diggs | 2020\",\"Courtland Sutton | 2023\"],\"x\":[0,1,2,3,4,5,6,7,8,9,10,11,12,13,14,15,16,17,18,19,20,21,22,23,24,25,26,27,28,29,30,31,32,33,34,35,36,37,38,39,40,41,42,43,44,45,46,47,48,49,50,51,52,53,54,55,56,57,58,59,60,61,62,63,64,65,66,67,68,69,70,71,72,73,74,75,76,77,78,79,80,81,82,83,84,85,86,87,88,89,90,91,92,93,94,95,96,97,98,99,100,101,102,103,104,105,106,107,108,109,110,111,112,113,114,115,116,117,118,119,120,121,122,123,124,125,126,127,128,129,130,131,132,133,134,135,136,137,138,139,140,141,142,143,144,145,146,147,148,149,150,151,152,153,154,155,156,157,158,159,160,161,162,163,164,165,166,167,168,169,170,171,172,173,174,175,176,177,178,179,180,181,182,183,184,185,186,187,188,189,190,191,192,193,194,195,196,197,198,199,200,201,202,203,204],\"y\":[227.6,46.5,5.9,242.39999999999998,77.7,94.5,60.1,87.7,140.56,105.0,99.10000000000001,129.4,68.4,9.7,115.1,65.5,162.3,63.5,157.2,126.30000000000001,82.3,223.8,62.2,17.7,246.5,114.7,114.4,37.2,97.2,107.5,43.1,55.50000000000001,231.3,254.9,203.20000000000002,234.1,274.1,97.0,231.0,180.0,270.5,156.4,173.3,213.9,148.8,59.6,75.9,145.5,188.7,115.80000000000001,210.60000000000002,34.54,159.6,54.5,164.20000000000002,190.6,85.5,182.4,63.3,66.7,12.200000000000001,388.9,258.5,150.3,203.8,99.6,94.2,207.5,226.70000000000002,243.8,65.3,72.4,131.0,77.8,153.6,192.64000000000001,245.1,220.9,56.5,335.5,77.1,105.04,259.2,172.02,212.7,80.4,186.3,330.90000000000003,147.9,245.20000000000002,75.4,154.9,221.10000000000002,54.5,51.8,29.700000000000003,65.3,158.70000000000002,102.6,91.5,225.8,185.70000000000002,212.70000000000002,70.5,63.5,103.4,37.8,89.1,227.8,63.5,41.300000000000004,144.8,36.0,126.60000000000001,18.4,115.5,68.60000000000001,81.0,201.4,162.5,260.0,167.12,195.0,90.0,243.7,156.4,154.4,161.3,38.900000000000006,98.4,40.1,102.5,135.1,190.3,156.20000000000002,179.26,171.4,118.2,70.1,185.3,242.4,205.9,82.80000000000001,84.1,101.5,369.1,55.6,130.1,182.8,174.4,87.9,263.4,231.20000000000002,149.1,185.68,150.34,103.5,26.900000000000002,275.36,89.1,120.1,273.8,65.3,61.6,55.6,24.799999999999997,60.9,114.5,265.4,156.5,193.9,120.0,124.10000000000001,259.90000000000003,80.5,154.3,115.4,81.9,117.1,88.1,151.7,46.300000000000004,43.5,222.4,21.400000000000002,144.5,61.7,62.0,26.400000000000002,61.300000000000004,85.0,58.599999999999994,329.6,262.5,237.5,86.5,60.0,98.5,74.10000000000001,86.0,296.6,176.5,171.6,328.6,190.20000000000002],\"type\":\"scatter\"},{\"hoverinfo\":\"text+y\",\"marker\":{\"color\":[\"green\",\"orange\",\"green\",\"orange\",\"green\",\"green\",\"green\",\"green\",\"green\",\"green\",\"green\",\"green\",\"orange\",\"green\",\"green\",\"green\",\"green\",\"green\",\"orange\",\"green\",\"orange\",\"orange\",\"green\",\"green\",\"green\",\"orange\",\"green\",\"orange\",\"green\",\"green\",\"orange\",\"green\",\"green\",\"green\",\"orange\",\"red\",\"orange\",\"orange\",\"red\",\"orange\",\"orange\",\"green\",\"green\",\"orange\",\"green\",\"green\",\"green\",\"green\",\"red\",\"green\",\"red\",\"green\",\"green\",\"green\",\"green\",\"green\",\"green\",\"green\",\"green\",\"green\",\"green\",\"red\",\"green\",\"green\",\"orange\",\"orange\",\"green\",\"green\",\"green\",\"orange\",\"green\",\"green\",\"green\",\"green\",\"green\",\"green\",\"red\",\"green\",\"green\",\"green\",\"green\",\"green\",\"red\",\"orange\",\"green\",\"green\",\"orange\",\"green\",\"green\",\"orange\",\"green\",\"orange\",\"green\",\"green\",\"green\",\"green\",\"green\",\"orange\",\"red\",\"green\",\"red\",\"orange\",\"green\",\"orange\",\"green\",\"green\",\"green\",\"green\",\"green\",\"green\",\"green\",\"green\",\"green\",\"orange\",\"green\",\"green\",\"green\",\"green\",\"green\",\"orange\",\"red\",\"green\",\"orange\",\"orange\",\"red\",\"green\",\"green\",\"red\",\"green\",\"orange\",\"green\",\"green\",\"orange\",\"green\",\"orange\",\"green\",\"green\",\"green\",\"orange\",\"green\",\"green\",\"green\",\"green\",\"green\",\"green\",\"green\",\"green\",\"green\",\"green\",\"orange\",\"green\",\"orange\",\"orange\",\"green\",\"orange\",\"orange\",\"green\",\"green\",\"orange\",\"green\",\"green\",\"orange\",\"orange\",\"green\",\"green\",\"green\",\"green\",\"green\",\"red\",\"green\",\"orange\",\"green\",\"green\",\"red\",\"green\",\"green\",\"green\",\"orange\",\"orange\",\"green\",\"green\",\"green\",\"green\",\"orange\",\"orange\",\"green\",\"green\",\"orange\",\"green\",\"green\",\"orange\",\"green\",\"orange\",\"red\",\"green\",\"green\",\"green\",\"red\",\"green\",\"green\",\"green\",\"orange\",\"green\",\"green\",\"orange\"]},\"mode\":\"markers\",\"name\":\"Predicted Points\",\"text\":[\"DeVonta Smith | 2023\",\"Sammy Watkins | 2022\",\"Zach Pascal | 2023\",\"Vincent Jackson | 2013\",\"Sterling Shepard | 2021\",\"Zach Pascal | 2021\",\"Justin Hardy | 2017\",\"Tre'Quan Smith | 2021\",\"Danny Amendola | 2019\",\"Rondale Moore | 2023\",\"Breshad Perriman | 2020\",\"Danny Amendola | 2013\",\"Richie James | 2020\",\"Andre Caldwell | 2014\",\"Chris Moore | 2022\",\"Corey Coleman | 2017\",\"Robby Anderson | 2019\",\"Keshawn Martin | 2015\",\"Curtis Samuel | 2023\",\"Ryan Grant | 2017\",\"Earl Bennett | 2013\",\"Terry McLaurin | 2020\",\"Stephen Hill | 2013\",\"T.J. Graham | 2014\",\"Amari Cooper | 2019\",\"Kendrick Bourne | 2018\",\"Adam Thielen | 2019\",\"KhaDarel Hodge | 2023\",\"Jalen Guyton | 2021\",\"Davante Adams | 2015\",\"Mack Hollins | 2023\",\"Trent Taylor | 2018\",\"Chris Olave | 2023\",\"Allen Robinson | 2019\",\"Terry McLaurin | 2023\",\"JuJu Smith-Schuster | 2020\",\"Julio Jones | 2019\",\"Chris Conley | 2016\",\"Adam Thielen | 2023\",\"Dez Bryant | 2016\",\"Cooper Kupp | 2019\",\"Robby Anderson | 2018\",\"Michael Gallup | 2020\",\"Kendall Wright | 2013\",\"Mohamed Sanu | 2016\",\"Bruce Ellington | 2018\",\"N'Keal Harry | 2020\",\"Denarius Moore | 2013\",\"Marvin Jones | 2013\",\"Marvin Jones | 2018\",\"Mike Evans | 2015\",\"Dante Pettis | 2019\",\"Ted Ginn | 2017\",\"Isaiah McKenzie | 2021\",\"T.Y. Hilton | 2020\",\"Andre Johnson | 2014\",\"Leonard Hankerson | 2013\",\"Mohamed Sanu | 2018\",\"Isaiah McKenzie | 2019\",\"Eddie Royal | 2015\",\"James Proche | 2022\",\"Antonio Brown | 2014\",\"T.Y. Hilton | 2014\",\"Paul Richardson | 2017\",\"Torrey Smith | 2013\",\"Roddy White | 2015\",\"Willie Snead | 2020\",\"John Brown | 2015\",\"Calvin Johnson | 2014\",\"Larry Fitzgerald | 2016\",\"Dontrelle Inman | 2017\",\"DeVante Parker | 2023\",\"Steve Smith | 2015\",\"Quinton Patton | 2016\",\"D.J. Chark | 2020\",\"Tyler Boyd | 2020\",\"Robert Woods | 2020\",\"Tee Higgins | 2022\",\"Marquez Valdes-Scantling | 2023\",\"Davante Adams | 2022\",\"Donte Moncrief | 2017\",\"Chase Claypool | 2022\",\"Jaylen Waddle | 2022\",\"Jamison Crowder | 2020\",\"Michael Gallup | 2019\",\"Julio Jones | 2021\",\"Jakobi Meyers | 2021\",\"Amon-Ra St. Brown | 2023\",\"Marqise Lee | 2017\",\"Tyreek Hill | 2017\",\"Jason Avant | 2014\",\"Randall Cobb | 2019\",\"Tyler Boyd | 2018\",\"Isaiah McKenzie | 2018\",\"Damiere Byrd | 2022\",\"Jacoby Jones | 2014\",\"Keshawn Martin | 2013\",\"James Jones | 2013\",\"Donte Moncrief | 2016\",\"Mohamed Sanu | 2015\",\"D.J. Chark | 2019\",\"Pierre Garcon | 2015\",\"Davante Adams | 2019\",\"T.J. Graham | 2013\",\"Keshawn Martin | 2015\",\"Nelson Agholor | 2021\",\"Rishard Matthews | 2014\",\"Keelan Cole | 2018\",\"Brandon Aiyuk | 2022\",\"Keshawn Martin | 2015\",\"Braxton Miller | 2017\",\"Tyler Boyd | 2023\",\"Harry Douglas | 2016\",\"Jerome Simpson | 2013\",\"Robert Meachem | 2014\",\"D.J. Chark | 2023\",\"Darius Slayton | 2021\",\"Louis Murphy | 2014\",\"Cooper Kupp | 2022\",\"Sterling Shepard | 2020\",\"Jarvis Landry | 2017\",\"Tyler Boyd | 2022\",\"Devin Funchess | 2017\",\"Pierre Garcon | 2017\",\"Deebo Samuel | 2023\",\"Tim Patrick | 2021\",\"DeVante Parker | 2016\",\"Mike Williams | 2019\",\"Alex Erickson | 2018\",\"Brian Hartline | 2014\",\"Isaiah Ford | 2021\",\"Scott Miller | 2020\",\"Cooper Kupp | 2018\",\"Emmanuel Sanders | 2019\",\"Rishard Matthews | 2017\",\"Mohamed Sanu | 2014\",\"Jordan Matthews | 2016\",\"Rashard Higgins | 2018\",\"Aldrick Robinson | 2018\",\"Alshon Jeffery | 2018\",\"Chris Godwin | 2021\",\"Demaryius Thomas | 2017\",\"Jamison Crowder | 2018\",\"Marquez Valdes-Scantling | 2019\",\"Darnell Mooney | 2022\",\"Julio Jones | 2015\",\"Mike Williams | 2013\",\"Mecole Hardman | 2020\",\"Rueben Randle | 2014\",\"Romeo Doubs | 2023\",\"Nelson Agholor | 2016\",\"Calvin Johnson | 2015\",\"Michael Crabtree | 2015\",\"Parris Campbell | 2022\",\"Larry Fitzgerald | 2018\",\"Danny Amendola | 2015\",\"DeVante Parker | 2021\",\"Jason Avant | 2015\",\"Jarvis Landry | 2015\",\"Dez Bryant | 2015\",\"Kenny Stills | 2019\",\"T.Y. Hilton | 2016\",\"Justin Hardy | 2016\",\"A.J. Green | 2022\",\"Isaiah Ford | 2020\",\"Marcus Johnson | 2021\",\"DeVante Parker | 2018\",\"Noah Brown | 2022\",\"Tyler Lockett | 2020\",\"Chris Conley | 2019\",\"Marvin Jones | 2019\",\"K.J. Osborn | 2023\",\"Mohamed Sanu | 2019\",\"Julio Jones | 2016\",\"Brian Quick | 2014\",\"Dwayne Bowe | 2013\",\"Brian Quick | 2016\",\"Phillip Dorsett | 2018\",\"Chester Rogers | 2018\",\"Elijah Moore | 2022\",\"DeAndre Hopkins | 2022\",\"Dontrelle Inman | 2020\",\"Jakeem Grant | 2021\",\"Tyler Lockett | 2018\",\"Richie James | 2023\",\"Sterling Shepard | 2017\",\"Cody Latimer | 2017\",\"Allen Robinson | 2023\",\"Cedrick Wilson | 2022\",\"Steven Sims | 2020\",\"Jerry Jeudy | 2021\",\"Pierre Garcon | 2018\",\"Davante Adams | 2018\",\"Mike Evans | 2021\",\"D.J. Moore | 2021\",\"Freddie Swain | 2021\",\"Isaiah Hodgins | 2023\",\"Cordarrelle Patterson | 2018\",\"T.Y. Hilton | 2021\",\"Cordarrelle Patterson | 2017\",\"Odell Beckham | 2016\",\"Mike Williams | 2022\",\"Gabe Davis | 2022\",\"Stefon Diggs | 2020\",\"Courtland Sutton | 2023\"],\"x\":[0,1,2,3,4,5,6,7,8,9,10,11,12,13,14,15,16,17,18,19,20,21,22,23,24,25,26,27,28,29,30,31,32,33,34,35,36,37,38,39,40,41,42,43,44,45,46,47,48,49,50,51,52,53,54,55,56,57,58,59,60,61,62,63,64,65,66,67,68,69,70,71,72,73,74,75,76,77,78,79,80,81,82,83,84,85,86,87,88,89,90,91,92,93,94,95,96,97,98,99,100,101,102,103,104,105,106,107,108,109,110,111,112,113,114,115,116,117,118,119,120,121,122,123,124,125,126,127,128,129,130,131,132,133,134,135,136,137,138,139,140,141,142,143,144,145,146,147,148,149,150,151,152,153,154,155,156,157,158,159,160,161,162,163,164,165,166,167,168,169,170,171,172,173,174,175,176,177,178,179,180,181,182,183,184,185,186,187,188,189,190,191,192,193,194,195,196,197,198,199,200,201,202,203,204],\"y\":[233.46301,71.039085,12.048156,262.4484,88.08008,98.00785,50.439583,77.52449,142.1019,101.95854,102.72443,142.4046,84.87983,15.107452,127.88217,62.601486,168.94489,60.830517,133.99278,120.96684,66.55156,242.62839,69.88201,19.076588,250.65892,99.52449,104.25716,55.06764,89.535095,111.36501,58.711334,49.675713,226.42079,241.21643,221.23984,187.4726,291.37613,121.36394,197.38382,158.34677,253.13411,162.0297,185.81743,240.21902,146.02425,49.16005,68.8093,148.99686,155.94318,117.69501,243.53119,27.501253,164.7983,50.046013,171.80548,198.3472,81.93642,188.46213,63.045467,63.00985,15.485587,347.8769,270.70242,152.28615,220.44955,125.66542,90.52384,200.84175,225.54956,221.54712,77.109856,84.37605,136.93547,92.121086,158.2122,190.74335,208.80338,222.12024,66.68208,322.76514,84.526405,101.12164,298.85736,151.32716,214.66724,94.9004,205.2824,328.2917,156.82916,263.1768,77.52661,176.82275,206.19624,40.24134,57.314053,29.574448,54.39868,185.63844,72.49928,86.18416,192.13205,169.34264,223.07365,95.173515,60.830517,108.760826,32.842987,100.138405,216.87418,60.830517,39.924576,150.13731,47.551537,143.73926,32.38992,111.14937,73.29174,78.158745,206.9741,139.43338,224.11221,174.96686,167.8444,109.29982,205.30582,157.52615,155.04652,201.33792,37.575874,115.95488,43.565105,101.695694,116.3221,197.02368,173.52853,179.97176,180.4572,119.55712,48.144608,187.48233,247.78006,201.67549,88.57484,95.49693,110.316895,366.90137,55.4639,116.21657,193.21574,151.40483,100.90805,244.38063,207.83507,144.18457,166.65323,131.12921,110.79953,31.077507,246.55328,95.03924,122.4158,300.95166,42.18922,62.035114,60.209957,35.008156,68.396065,128.18396,232.44527,162.90138,170.70598,126.20864,125.90868,308.2704,80.35043,153.77975,117.12262,63.456398,99.9061,99.59017,159.63162,37.094917,39.40106,202.6976,38.878376,159.46783,61.05419,87.56119,41.12432,62.120228,103.7309,68.33322,301.68735,220.49042,246.21077,72.71111,53.040268,55.768738,77.502625,83.57764,309.08133,195.19405,174.2705,315.07385,169.27103],\"type\":\"scatter\"}],                        {\"template\":{\"data\":{\"histogram2dcontour\":[{\"type\":\"histogram2dcontour\",\"colorbar\":{\"outlinewidth\":0,\"ticks\":\"\"},\"colorscale\":[[0.0,\"#0d0887\"],[0.1111111111111111,\"#46039f\"],[0.2222222222222222,\"#7201a8\"],[0.3333333333333333,\"#9c179e\"],[0.4444444444444444,\"#bd3786\"],[0.5555555555555556,\"#d8576b\"],[0.6666666666666666,\"#ed7953\"],[0.7777777777777778,\"#fb9f3a\"],[0.8888888888888888,\"#fdca26\"],[1.0,\"#f0f921\"]]}],\"choropleth\":[{\"type\":\"choropleth\",\"colorbar\":{\"outlinewidth\":0,\"ticks\":\"\"}}],\"histogram2d\":[{\"type\":\"histogram2d\",\"colorbar\":{\"outlinewidth\":0,\"ticks\":\"\"},\"colorscale\":[[0.0,\"#0d0887\"],[0.1111111111111111,\"#46039f\"],[0.2222222222222222,\"#7201a8\"],[0.3333333333333333,\"#9c179e\"],[0.4444444444444444,\"#bd3786\"],[0.5555555555555556,\"#d8576b\"],[0.6666666666666666,\"#ed7953\"],[0.7777777777777778,\"#fb9f3a\"],[0.8888888888888888,\"#fdca26\"],[1.0,\"#f0f921\"]]}],\"heatmap\":[{\"type\":\"heatmap\",\"colorbar\":{\"outlinewidth\":0,\"ticks\":\"\"},\"colorscale\":[[0.0,\"#0d0887\"],[0.1111111111111111,\"#46039f\"],[0.2222222222222222,\"#7201a8\"],[0.3333333333333333,\"#9c179e\"],[0.4444444444444444,\"#bd3786\"],[0.5555555555555556,\"#d8576b\"],[0.6666666666666666,\"#ed7953\"],[0.7777777777777778,\"#fb9f3a\"],[0.8888888888888888,\"#fdca26\"],[1.0,\"#f0f921\"]]}],\"heatmapgl\":[{\"type\":\"heatmapgl\",\"colorbar\":{\"outlinewidth\":0,\"ticks\":\"\"},\"colorscale\":[[0.0,\"#0d0887\"],[0.1111111111111111,\"#46039f\"],[0.2222222222222222,\"#7201a8\"],[0.3333333333333333,\"#9c179e\"],[0.4444444444444444,\"#bd3786\"],[0.5555555555555556,\"#d8576b\"],[0.6666666666666666,\"#ed7953\"],[0.7777777777777778,\"#fb9f3a\"],[0.8888888888888888,\"#fdca26\"],[1.0,\"#f0f921\"]]}],\"contourcarpet\":[{\"type\":\"contourcarpet\",\"colorbar\":{\"outlinewidth\":0,\"ticks\":\"\"}}],\"contour\":[{\"type\":\"contour\",\"colorbar\":{\"outlinewidth\":0,\"ticks\":\"\"},\"colorscale\":[[0.0,\"#0d0887\"],[0.1111111111111111,\"#46039f\"],[0.2222222222222222,\"#7201a8\"],[0.3333333333333333,\"#9c179e\"],[0.4444444444444444,\"#bd3786\"],[0.5555555555555556,\"#d8576b\"],[0.6666666666666666,\"#ed7953\"],[0.7777777777777778,\"#fb9f3a\"],[0.8888888888888888,\"#fdca26\"],[1.0,\"#f0f921\"]]}],\"surface\":[{\"type\":\"surface\",\"colorbar\":{\"outlinewidth\":0,\"ticks\":\"\"},\"colorscale\":[[0.0,\"#0d0887\"],[0.1111111111111111,\"#46039f\"],[0.2222222222222222,\"#7201a8\"],[0.3333333333333333,\"#9c179e\"],[0.4444444444444444,\"#bd3786\"],[0.5555555555555556,\"#d8576b\"],[0.6666666666666666,\"#ed7953\"],[0.7777777777777778,\"#fb9f3a\"],[0.8888888888888888,\"#fdca26\"],[1.0,\"#f0f921\"]]}],\"mesh3d\":[{\"type\":\"mesh3d\",\"colorbar\":{\"outlinewidth\":0,\"ticks\":\"\"}}],\"scatter\":[{\"fillpattern\":{\"fillmode\":\"overlay\",\"size\":10,\"solidity\":0.2},\"type\":\"scatter\"}],\"parcoords\":[{\"type\":\"parcoords\",\"line\":{\"colorbar\":{\"outlinewidth\":0,\"ticks\":\"\"}}}],\"scatterpolargl\":[{\"type\":\"scatterpolargl\",\"marker\":{\"colorbar\":{\"outlinewidth\":0,\"ticks\":\"\"}}}],\"bar\":[{\"error_x\":{\"color\":\"#2a3f5f\"},\"error_y\":{\"color\":\"#2a3f5f\"},\"marker\":{\"line\":{\"color\":\"#E5ECF6\",\"width\":0.5},\"pattern\":{\"fillmode\":\"overlay\",\"size\":10,\"solidity\":0.2}},\"type\":\"bar\"}],\"scattergeo\":[{\"type\":\"scattergeo\",\"marker\":{\"colorbar\":{\"outlinewidth\":0,\"ticks\":\"\"}}}],\"scatterpolar\":[{\"type\":\"scatterpolar\",\"marker\":{\"colorbar\":{\"outlinewidth\":0,\"ticks\":\"\"}}}],\"histogram\":[{\"marker\":{\"pattern\":{\"fillmode\":\"overlay\",\"size\":10,\"solidity\":0.2}},\"type\":\"histogram\"}],\"scattergl\":[{\"type\":\"scattergl\",\"marker\":{\"colorbar\":{\"outlinewidth\":0,\"ticks\":\"\"}}}],\"scatter3d\":[{\"type\":\"scatter3d\",\"line\":{\"colorbar\":{\"outlinewidth\":0,\"ticks\":\"\"}},\"marker\":{\"colorbar\":{\"outlinewidth\":0,\"ticks\":\"\"}}}],\"scattermapbox\":[{\"type\":\"scattermapbox\",\"marker\":{\"colorbar\":{\"outlinewidth\":0,\"ticks\":\"\"}}}],\"scatterternary\":[{\"type\":\"scatterternary\",\"marker\":{\"colorbar\":{\"outlinewidth\":0,\"ticks\":\"\"}}}],\"scattercarpet\":[{\"type\":\"scattercarpet\",\"marker\":{\"colorbar\":{\"outlinewidth\":0,\"ticks\":\"\"}}}],\"carpet\":[{\"aaxis\":{\"endlinecolor\":\"#2a3f5f\",\"gridcolor\":\"white\",\"linecolor\":\"white\",\"minorgridcolor\":\"white\",\"startlinecolor\":\"#2a3f5f\"},\"baxis\":{\"endlinecolor\":\"#2a3f5f\",\"gridcolor\":\"white\",\"linecolor\":\"white\",\"minorgridcolor\":\"white\",\"startlinecolor\":\"#2a3f5f\"},\"type\":\"carpet\"}],\"table\":[{\"cells\":{\"fill\":{\"color\":\"#EBF0F8\"},\"line\":{\"color\":\"white\"}},\"header\":{\"fill\":{\"color\":\"#C8D4E3\"},\"line\":{\"color\":\"white\"}},\"type\":\"table\"}],\"barpolar\":[{\"marker\":{\"line\":{\"color\":\"#E5ECF6\",\"width\":0.5},\"pattern\":{\"fillmode\":\"overlay\",\"size\":10,\"solidity\":0.2}},\"type\":\"barpolar\"}],\"pie\":[{\"automargin\":true,\"type\":\"pie\"}]},\"layout\":{\"autotypenumbers\":\"strict\",\"colorway\":[\"#636efa\",\"#EF553B\",\"#00cc96\",\"#ab63fa\",\"#FFA15A\",\"#19d3f3\",\"#FF6692\",\"#B6E880\",\"#FF97FF\",\"#FECB52\"],\"font\":{\"color\":\"#2a3f5f\"},\"hovermode\":\"closest\",\"hoverlabel\":{\"align\":\"left\"},\"paper_bgcolor\":\"white\",\"plot_bgcolor\":\"#E5ECF6\",\"polar\":{\"bgcolor\":\"#E5ECF6\",\"angularaxis\":{\"gridcolor\":\"white\",\"linecolor\":\"white\",\"ticks\":\"\"},\"radialaxis\":{\"gridcolor\":\"white\",\"linecolor\":\"white\",\"ticks\":\"\"}},\"ternary\":{\"bgcolor\":\"#E5ECF6\",\"aaxis\":{\"gridcolor\":\"white\",\"linecolor\":\"white\",\"ticks\":\"\"},\"baxis\":{\"gridcolor\":\"white\",\"linecolor\":\"white\",\"ticks\":\"\"},\"caxis\":{\"gridcolor\":\"white\",\"linecolor\":\"white\",\"ticks\":\"\"}},\"coloraxis\":{\"colorbar\":{\"outlinewidth\":0,\"ticks\":\"\"}},\"colorscale\":{\"sequential\":[[0.0,\"#0d0887\"],[0.1111111111111111,\"#46039f\"],[0.2222222222222222,\"#7201a8\"],[0.3333333333333333,\"#9c179e\"],[0.4444444444444444,\"#bd3786\"],[0.5555555555555556,\"#d8576b\"],[0.6666666666666666,\"#ed7953\"],[0.7777777777777778,\"#fb9f3a\"],[0.8888888888888888,\"#fdca26\"],[1.0,\"#f0f921\"]],\"sequentialminus\":[[0.0,\"#0d0887\"],[0.1111111111111111,\"#46039f\"],[0.2222222222222222,\"#7201a8\"],[0.3333333333333333,\"#9c179e\"],[0.4444444444444444,\"#bd3786\"],[0.5555555555555556,\"#d8576b\"],[0.6666666666666666,\"#ed7953\"],[0.7777777777777778,\"#fb9f3a\"],[0.8888888888888888,\"#fdca26\"],[1.0,\"#f0f921\"]],\"diverging\":[[0,\"#8e0152\"],[0.1,\"#c51b7d\"],[0.2,\"#de77ae\"],[0.3,\"#f1b6da\"],[0.4,\"#fde0ef\"],[0.5,\"#f7f7f7\"],[0.6,\"#e6f5d0\"],[0.7,\"#b8e186\"],[0.8,\"#7fbc41\"],[0.9,\"#4d9221\"],[1,\"#276419\"]]},\"xaxis\":{\"gridcolor\":\"white\",\"linecolor\":\"white\",\"ticks\":\"\",\"title\":{\"standoff\":15},\"zerolinecolor\":\"white\",\"automargin\":true,\"zerolinewidth\":2},\"yaxis\":{\"gridcolor\":\"white\",\"linecolor\":\"white\",\"ticks\":\"\",\"title\":{\"standoff\":15},\"zerolinecolor\":\"white\",\"automargin\":true,\"zerolinewidth\":2},\"scene\":{\"xaxis\":{\"backgroundcolor\":\"#E5ECF6\",\"gridcolor\":\"white\",\"linecolor\":\"white\",\"showbackground\":true,\"ticks\":\"\",\"zerolinecolor\":\"white\",\"gridwidth\":2},\"yaxis\":{\"backgroundcolor\":\"#E5ECF6\",\"gridcolor\":\"white\",\"linecolor\":\"white\",\"showbackground\":true,\"ticks\":\"\",\"zerolinecolor\":\"white\",\"gridwidth\":2},\"zaxis\":{\"backgroundcolor\":\"#E5ECF6\",\"gridcolor\":\"white\",\"linecolor\":\"white\",\"showbackground\":true,\"ticks\":\"\",\"zerolinecolor\":\"white\",\"gridwidth\":2}},\"shapedefaults\":{\"line\":{\"color\":\"#2a3f5f\"}},\"annotationdefaults\":{\"arrowcolor\":\"#2a3f5f\",\"arrowhead\":0,\"arrowwidth\":1},\"geo\":{\"bgcolor\":\"white\",\"landcolor\":\"#E5ECF6\",\"subunitcolor\":\"white\",\"showland\":true,\"showlakes\":true,\"lakecolor\":\"white\"},\"title\":{\"x\":0.05},\"mapbox\":{\"style\":\"light\"}}},\"title\":{\"text\":\"Prediction vs Actual Points\"},\"xaxis\":{\"title\":{\"text\":\"Index\"}},\"yaxis\":{\"title\":{\"text\":\"Points\"}},\"legend\":{\"title\":{\"text\":\"Point Type\"}},\"hovermode\":\"closest\"},                        {\"responsive\": true}                    ).then(function(){\n",
       "                            \n",
       "var gd = document.getElementById('86c6b80a-8157-4728-bb7e-ebe29598cc29');\n",
       "var x = new MutationObserver(function (mutations, observer) {{\n",
       "        var display = window.getComputedStyle(gd).display;\n",
       "        if (!display || display === 'none') {{\n",
       "            console.log([gd, 'removed!']);\n",
       "            Plotly.purge(gd);\n",
       "            observer.disconnect();\n",
       "        }}\n",
       "}});\n",
       "\n",
       "// Listen for the removal of the full notebook cells\n",
       "var notebookContainer = gd.closest('#notebook-container');\n",
       "if (notebookContainer) {{\n",
       "    x.observe(notebookContainer, {childList: true});\n",
       "}}\n",
       "\n",
       "// Listen for the clearing of the current output cell\n",
       "var outputEl = gd.closest('.output');\n",
       "if (outputEl) {{\n",
       "    x.observe(outputEl, {childList: true});\n",
       "}}\n",
       "\n",
       "                        })                };                });            </script>        </div>"
      ]
     },
     "metadata": {},
     "output_type": "display_data"
    }
   ],
   "source": [
    "import plotly.graph_objects as go\n",
    "\n",
    "# Create a Plotly figure\n",
    "fig = go.Figure()\n",
    "\n",
    "# Add traces for actual values and predicted values\n",
    "fig.add_trace(go.Scatter(\n",
    "    x=list(range(len(answers))),\n",
    "    y=answers,\n",
    "    mode='markers',\n",
    "    name='Actual Points',\n",
    "    marker=dict(color='black'),\n",
    "    text=player_names + \" | \" + seasons.astype(str),\n",
    "    hoverinfo='text+y'\n",
    "))\n",
    "\n",
    "fig.add_trace(go.Scatter(\n",
    "    x=list(range(len(predictions))),\n",
    "    y=predictions,\n",
    "    mode='markers',\n",
    "    name='Predicted Points',\n",
    "    marker=dict(color=colors),\n",
    "    text=player_names + \" | \" + seasons.astype(str),\n",
    "    hoverinfo='text+y'\n",
    "))\n",
    "\n",
    "# Update layout\n",
    "fig.update_layout(\n",
    "    title='Prediction vs Actual Points',\n",
    "    xaxis_title='Index',\n",
    "    yaxis_title='Points',\n",
    "    legend_title='Point Type',\n",
    "    hovermode='closest'\n",
    ")\n",
    "\n",
    "# Show the figure\n",
    "fig.show()"
   ]
  },
  {
   "cell_type": "code",
   "execution_count": 95,
   "id": "089095fb-2e4b-471a-b493-4db07fa23c84",
   "metadata": {},
   "outputs": [],
   "source": [
    "# for player, season, diff, guess, answer in bad_misses:\n",
    "#     print(f\"Missed {player} in {season} by {round(diff, 2)} <br>\")\n",
    "#     print(f\"Guess: {round(guess, 2)} <br>\")\n",
    "#     print(f\"Answer: {round(answer, 2)} <br>\")\n",
    "#     print()"
   ]
  },
  {
   "cell_type": "markdown",
   "id": "c91afec1-18e3-4f98-af1c-0fcdb398171a",
   "metadata": {},
   "source": [
    "## Possible Explanations for Misses\n",
    "\n",
    "Missed **JuJu Smith-Schuster in 2020** by -46.63 <br>\n",
    "Guess: 187.47 <br>\n",
    "Answer: 234.1 <br>\n",
    "\n",
    "9 touchdowns and 97 receptions; Ben atttempt 608 passes; JuJu was alpha? Maybe DJ... Guess is still a large improvement on 2019 production, so in the correct direction\n",
    "\n",
    "Missed **Adam Thielen in 2023 by -33.62** <br>\n",
    "Guess: 197.38 <br> \n",
    "Answer: 231.0 <br>\n",
    "\n",
    "4 tds and 103 receptions - only option in Carolina; the guess is still an improvement over 2022, so in the correct direction\n",
    "\n",
    "Missed **Marvin Jones in 2013 by -32.76** <br>\n",
    "Guess: 155.94 <br>\n",
    "Answer: 188.7 <br>\n",
    "\n",
    "10 tds - still correctly guessed a large improvement from 2012\n",
    "\n",
    "Missed **Mike Evans in 2015 by 32.93** <br>\n",
    "Guess: 243.53 <br>\n",
    "Answer: 210.6 <br>\n",
    "\n",
    "Expecation was to continue rookie year, production, but we were let down? Seems like touchdown regression hit to drop his year two fantasy production - unsure why the model may have missed here, as he hits all of the key important features...\n",
    "\n",
    "Missed **Antonio Brown in 2014** by -41.02 <br>\n",
    "Guess: 347.88 <br>\n",
    "Answer: 388.9 <br>\n",
    "\n",
    "Still correctly guessed direction of improvement - Brown just had an insane season, with 13 touchdows, 129 receptions and almost 1700 yards\n",
    "\n",
    "Missed **Robert Woods in 2020** by -36.3 <br>\n",
    "Guess: 208.8 <br>\n",
    "Answer: 245.1 <br>\n",
    "\n",
    "Incorrectly guessed a decrease. This seems likely due to the model not incorporating rushing numbers and Woods has some decent rushing, aruguably the best rushing year of his career was in 2020. The receiving stats - outside of his jump from 2 to 6 tds - all went down for him in 2020.\n",
    "\n",
    "Missed **Jaylen Waddle in 2022** by 39.66 <br>\n",
    "Guess: 298.86 <br>\n",
    "Answer: 259.2 <br>\n",
    "\n",
    "Tyreek Hill effect? That being said, Waddle receiving yards did monstrously increase.\n",
    "\n",
    "Missed **Donte Moncrief in 2016** by -30.1 <br>\n",
    "Guess: 72.5 <br>\n",
    "Answer: 102.6 <br>\n",
    "\n",
    "Did correctly predict a decrease in Moncrieft's ppr production - he had 173 in 2015, and was largely buoyed by his TDs in both seasons\n",
    "\n",
    "Missed **D.J. Chark in 2019** by -33.67 <br>\n",
    "Guess: 192.13 <br>\n",
    "Answer: 225.8 <br>\n",
    "\n",
    "Off, but did correctly predict a massive boom from the bust of a rookie year, which is interesting...\n",
    "\n",
    "Missed **Jarvis Landry in 2017** by -35.89 <br>\n",
    "Guess: 224.11 <br>\n",
    "Answer: 260.0 <br>\n",
    "\n",
    "Really buoyed by his (league leading) 112 receptions and 9 td season - model predicted he would essentially tread water from the year before (231.3). Yards did take a large dip.\n",
    "\n",
    "Missed **Deebo Samuel in 2023** by -38.39 <br>\n",
    "Guess: 205.31 <br>\n",
    "Answer: 243.7 <br>\n",
    "\n",
    "Still in the right direction of guess. Receiving production correctly boomed, but rushing is not accounted for!\n",
    "\n",
    "Missed **Mike Williams in 2019** by 40.04 <br>\n",
    "Guess: 201.34 <br>\n",
    "Answer: 161.3 <br>\n",
    "\n",
    "Model expected a bigger 3rd year breakout. Tbf, numbers across the board improved - he just had severe touchdown regression (10 to 2). He didn't have the breakout predicted, and actually regressed from a fantasy production perspective.\n",
    "\n",
    "Missed **Tyler Lockett in 2020** by -32.95 <br>\n",
    "Guess: 232.45 <br>\n",
    "Answer: 265.4 <br>\n",
    "\n",
    "It was expecting water treading. Had an extra 18 receptions and 2 TDs from 2019.\n",
    "\n",
    "Missed **Julio Jones in 2016** by 48.37 <br>\n",
    "Guess: 308.27 <br>\n",
    "Answer: 259.9 <br>\n",
    "\n",
    "Correctly guessed a decrease from his historic 2015, just not sharp enough. I suspect the large drop in receptions was part of this.\n",
    "\n",
    "Missed **Mike Evans in 2021** by -42.01 <br>\n",
    "Guess: 220.49 <br>\n",
    "Answer: 262.5 <br>\n",
    "\n",
    "Expected a bit of a decline from 2020. Mike had 13 TDs in 2020. Somehow manage 14 in 2021...\n",
    "\n",
    "Missed **Cordarrelle Patterson in 2018** by -42.73 <br>\n",
    "Guess: 55.77 <br>\n",
    "Answer: 98.5 <br>\n",
    "\n",
    "We don't factor in rushing... for what it is worth, his receiving production was still garbage..."
   ]
  },
  {
   "cell_type": "code",
   "execution_count": 99,
   "id": "68ae5f59-5bd8-4f89-8a9d-f798101ba873",
   "metadata": {},
   "outputs": [
    {
     "data": {
      "text/html": [
       "<div>\n",
       "<style scoped>\n",
       "    .dataframe tbody tr th:only-of-type {\n",
       "        vertical-align: middle;\n",
       "    }\n",
       "\n",
       "    .dataframe tbody tr th {\n",
       "        vertical-align: top;\n",
       "    }\n",
       "\n",
       "    .dataframe thead th {\n",
       "        text-align: right;\n",
       "    }\n",
       "</style>\n",
       "<table border=\"1\" class=\"dataframe\">\n",
       "  <thead>\n",
       "    <tr style=\"text-align: right;\">\n",
       "      <th></th>\n",
       "      <th>season</th>\n",
       "      <th>receiving_yards</th>\n",
       "      <th>route_proxy</th>\n",
       "      <th>fantasy_points_ppr</th>\n",
       "      <th>offense_snaps</th>\n",
       "    </tr>\n",
       "  </thead>\n",
       "  <tbody>\n",
       "    <tr>\n",
       "      <th>9936</th>\n",
       "      <td>2014</td>\n",
       "      <td>758.0</td>\n",
       "      <td>437.12</td>\n",
       "      <td>189.40</td>\n",
       "      <td>683.0</td>\n",
       "    </tr>\n",
       "    <tr>\n",
       "      <th>9937</th>\n",
       "      <td>2015</td>\n",
       "      <td>1157.0</td>\n",
       "      <td>554.88</td>\n",
       "      <td>275.36</td>\n",
       "      <td>867.0</td>\n",
       "    </tr>\n",
       "    <tr>\n",
       "      <th>9938</th>\n",
       "      <td>2016</td>\n",
       "      <td>1136.0</td>\n",
       "      <td>570.88</td>\n",
       "      <td>233.30</td>\n",
       "      <td>892.0</td>\n",
       "    </tr>\n",
       "    <tr>\n",
       "      <th>9939</th>\n",
       "      <td>2017</td>\n",
       "      <td>987.0</td>\n",
       "      <td>594.56</td>\n",
       "      <td>260.00</td>\n",
       "      <td>929.0</td>\n",
       "    </tr>\n",
       "    <tr>\n",
       "      <th>9940</th>\n",
       "      <td>2018</td>\n",
       "      <td>976.0</td>\n",
       "      <td>612.48</td>\n",
       "      <td>217.12</td>\n",
       "      <td>957.0</td>\n",
       "    </tr>\n",
       "    <tr>\n",
       "      <th>9941</th>\n",
       "      <td>2019</td>\n",
       "      <td>1174.0</td>\n",
       "      <td>624.64</td>\n",
       "      <td>237.40</td>\n",
       "      <td>976.0</td>\n",
       "    </tr>\n",
       "    <tr>\n",
       "      <th>9942</th>\n",
       "      <td>2020</td>\n",
       "      <td>840.0</td>\n",
       "      <td>447.36</td>\n",
       "      <td>187.96</td>\n",
       "      <td>699.0</td>\n",
       "    </tr>\n",
       "    <tr>\n",
       "      <th>9943</th>\n",
       "      <td>2021</td>\n",
       "      <td>570.0</td>\n",
       "      <td>341.12</td>\n",
       "      <td>133.00</td>\n",
       "      <td>533.0</td>\n",
       "    </tr>\n",
       "    <tr>\n",
       "      <th>9944</th>\n",
       "      <td>2022</td>\n",
       "      <td>272.0</td>\n",
       "      <td>192.64</td>\n",
       "      <td>60.20</td>\n",
       "      <td>301.0</td>\n",
       "    </tr>\n",
       "  </tbody>\n",
       "</table>\n",
       "</div>"
      ],
      "text/plain": [
       "      season  receiving_yards  route_proxy  fantasy_points_ppr  offense_snaps\n",
       "9936    2014            758.0       437.12              189.40          683.0\n",
       "9937    2015           1157.0       554.88              275.36          867.0\n",
       "9938    2016           1136.0       570.88              233.30          892.0\n",
       "9939    2017            987.0       594.56              260.00          929.0\n",
       "9940    2018            976.0       612.48              217.12          957.0\n",
       "9941    2019           1174.0       624.64              237.40          976.0\n",
       "9942    2020            840.0       447.36              187.96          699.0\n",
       "9943    2021            570.0       341.12              133.00          533.0\n",
       "9944    2022            272.0       192.64               60.20          301.0"
      ]
     },
     "execution_count": 99,
     "metadata": {},
     "output_type": "execute_result"
    }
   ],
   "source": [
    "df_wr.query(\"player_name == 'Jarvis Landry'\")[[\"season\", \"receiving_yards\", \"route_proxy\", \"fantasy_points_ppr\", \"offense_snaps\"]]"
   ]
  },
  {
   "cell_type": "markdown",
   "id": "b8c9797d-129b-4ebb-b225-93ad7bfc7af0",
   "metadata": {},
   "source": [
    "## Subplots"
   ]
  },
  {
   "cell_type": "code",
   "execution_count": 54,
   "id": "6d9e2db9-6857-43c3-a4b3-2e5c9ae0c416",
   "metadata": {},
   "outputs": [
    {
     "data": {
      "application/vnd.plotly.v1+json": {
       "config": {
        "plotlyServerURL": "https://plot.ly"
       },
       "data": [
        {
         "hoverinfo": "text+y",
         "marker": {
          "color": "black"
         },
         "mode": "markers",
         "name": "Actual Points - First Half",
         "text": [
          "DeVonta Smith | 2023",
          "Sammy Watkins | 2022",
          "Zach Pascal | 2023",
          "Vincent Jackson | 2013",
          "Sterling Shepard | 2021",
          "Zach Pascal | 2021",
          "Justin Hardy | 2017",
          "Tre'Quan Smith | 2021",
          "Danny Amendola | 2019",
          "Rondale Moore | 2023",
          "Breshad Perriman | 2020",
          "Danny Amendola | 2013",
          "Richie James | 2020",
          "Andre Caldwell | 2014",
          "Chris Moore | 2022",
          "Corey Coleman | 2017",
          "Robby Anderson | 2019",
          "Keshawn Martin | 2015",
          "Curtis Samuel | 2023",
          "Ryan Grant | 2017",
          "Earl Bennett | 2013",
          "Terry McLaurin | 2020",
          "Stephen Hill | 2013",
          "T.J. Graham | 2014",
          "Amari Cooper | 2019",
          "Kendrick Bourne | 2018",
          "Adam Thielen | 2019",
          "KhaDarel Hodge | 2023",
          "Jalen Guyton | 2021",
          "Davante Adams | 2015",
          "Mack Hollins | 2023",
          "Trent Taylor | 2018",
          "Chris Olave | 2023",
          "Allen Robinson | 2019",
          "Terry McLaurin | 2023",
          "JuJu Smith-Schuster | 2020",
          "Julio Jones | 2019",
          "Chris Conley | 2016",
          "Adam Thielen | 2023",
          "Dez Bryant | 2016",
          "Cooper Kupp | 2019",
          "Robby Anderson | 2018",
          "Michael Gallup | 2020",
          "Kendall Wright | 2013",
          "Mohamed Sanu | 2016",
          "Bruce Ellington | 2018",
          "N'Keal Harry | 2020",
          "Denarius Moore | 2013",
          "Marvin Jones | 2013",
          "Marvin Jones | 2018",
          "Mike Evans | 2015",
          "Dante Pettis | 2019",
          "Ted Ginn | 2017",
          "Isaiah McKenzie | 2021",
          "T.Y. Hilton | 2020",
          "Andre Johnson | 2014",
          "Leonard Hankerson | 2013",
          "Mohamed Sanu | 2018",
          "Isaiah McKenzie | 2019",
          "Eddie Royal | 2015",
          "James Proche | 2022",
          "Antonio Brown | 2014",
          "T.Y. Hilton | 2014",
          "Paul Richardson | 2017",
          "Torrey Smith | 2013",
          "Roddy White | 2015",
          "Willie Snead | 2020",
          "John Brown | 2015",
          "Calvin Johnson | 2014",
          "Larry Fitzgerald | 2016",
          "Dontrelle Inman | 2017",
          "DeVante Parker | 2023",
          "Steve Smith | 2015",
          "Quinton Patton | 2016",
          "D.J. Chark | 2020",
          "Tyler Boyd | 2020",
          "Robert Woods | 2020",
          "Tee Higgins | 2022",
          "Marquez Valdes-Scantling | 2023",
          "Davante Adams | 2022",
          "Donte Moncrief | 2017",
          "Chase Claypool | 2022",
          "Jaylen Waddle | 2022",
          "Jamison Crowder | 2020",
          "Michael Gallup | 2019",
          "Julio Jones | 2021",
          "Jakobi Meyers | 2021",
          "Amon-Ra St. Brown | 2023",
          "Marqise Lee | 2017",
          "Tyreek Hill | 2017",
          "Jason Avant | 2014",
          "Randall Cobb | 2019",
          "Tyler Boyd | 2018",
          "Isaiah McKenzie | 2018",
          "Damiere Byrd | 2022",
          "Jacoby Jones | 2014",
          "Keshawn Martin | 2013",
          "James Jones | 2013",
          "Donte Moncrief | 2016",
          "Mohamed Sanu | 2015",
          "D.J. Chark | 2019",
          "Pierre Garcon | 2015"
         ],
         "type": "scatter",
         "x": [
          0,
          1,
          2,
          3,
          4,
          5,
          6,
          7,
          8,
          9,
          10,
          11,
          12,
          13,
          14,
          15,
          16,
          17,
          18,
          19,
          20,
          21,
          22,
          23,
          24,
          25,
          26,
          27,
          28,
          29,
          30,
          31,
          32,
          33,
          34,
          35,
          36,
          37,
          38,
          39,
          40,
          41,
          42,
          43,
          44,
          45,
          46,
          47,
          48,
          49,
          50,
          51,
          52,
          53,
          54,
          55,
          56,
          57,
          58,
          59,
          60,
          61,
          62,
          63,
          64,
          65,
          66,
          67,
          68,
          69,
          70,
          71,
          72,
          73,
          74,
          75,
          76,
          77,
          78,
          79,
          80,
          81,
          82,
          83,
          84,
          85,
          86,
          87,
          88,
          89,
          90,
          91,
          92,
          93,
          94,
          95,
          96,
          97,
          98,
          99,
          100,
          101
         ],
         "y": [
          227.6,
          46.5,
          5.9,
          242.39999999999998,
          77.7,
          94.5,
          60.1,
          87.7,
          140.56,
          105,
          99.10000000000001,
          129.4,
          68.4,
          9.7,
          115.1,
          65.5,
          162.3,
          63.5,
          157.2,
          126.30000000000001,
          82.3,
          223.8,
          62.2,
          17.7,
          246.5,
          114.7,
          114.4,
          37.2,
          97.2,
          107.5,
          43.1,
          55.50000000000001,
          231.3,
          254.9,
          203.20000000000002,
          234.1,
          274.1,
          97,
          231,
          180,
          270.5,
          156.4,
          173.3,
          213.9,
          148.8,
          59.6,
          75.9,
          145.5,
          188.7,
          115.80000000000001,
          210.60000000000002,
          34.54,
          159.6,
          54.5,
          164.20000000000002,
          190.6,
          85.5,
          182.4,
          63.3,
          66.7,
          12.200000000000001,
          388.9,
          258.5,
          150.3,
          203.8,
          99.6,
          94.2,
          207.5,
          226.70000000000002,
          243.8,
          65.3,
          72.4,
          131,
          77.8,
          153.6,
          192.64000000000001,
          245.1,
          220.9,
          56.5,
          335.5,
          77.1,
          105.04,
          259.2,
          172.02,
          212.7,
          80.4,
          186.3,
          330.90000000000003,
          147.9,
          245.20000000000002,
          75.4,
          154.9,
          221.10000000000002,
          54.5,
          51.8,
          29.700000000000003,
          65.3,
          158.70000000000002,
          102.6,
          91.5,
          225.8,
          185.70000000000002
         ]
        },
        {
         "hoverinfo": "text+y",
         "marker": {
          "color": [
           "green",
           "blue",
           "green",
           "blue",
           "green",
           "green",
           "green",
           "green",
           "green",
           "green",
           "green",
           "green",
           "blue",
           "green",
           "green",
           "green",
           "green",
           "green",
           "blue",
           "green",
           "blue",
           "blue",
           "green",
           "green",
           "green",
           "blue",
           "green",
           "blue",
           "green",
           "green",
           "blue",
           "green",
           "green",
           "green",
           "blue",
           "red",
           "blue",
           "blue",
           "red",
           "blue",
           "blue",
           "green",
           "green",
           "blue",
           "green",
           "green",
           "green",
           "green",
           "red",
           "green",
           "red",
           "green",
           "green",
           "green",
           "green",
           "green",
           "green",
           "green",
           "green",
           "green",
           "green",
           "red",
           "green",
           "green",
           "blue",
           "blue",
           "green",
           "green",
           "green",
           "blue",
           "green",
           "green",
           "green",
           "green",
           "green",
           "green",
           "red",
           "green",
           "green",
           "green",
           "green",
           "green",
           "red",
           "blue",
           "green",
           "green",
           "blue",
           "green",
           "green",
           "blue",
           "green",
           "blue",
           "green",
           "green",
           "green",
           "green",
           "green",
           "blue",
           "red",
           "green",
           "red",
           "blue"
          ]
         },
         "mode": "markers",
         "name": "Predicted Points - First Half",
         "text": [
          "DeVonta Smith | 2023",
          "Sammy Watkins | 2022",
          "Zach Pascal | 2023",
          "Vincent Jackson | 2013",
          "Sterling Shepard | 2021",
          "Zach Pascal | 2021",
          "Justin Hardy | 2017",
          "Tre'Quan Smith | 2021",
          "Danny Amendola | 2019",
          "Rondale Moore | 2023",
          "Breshad Perriman | 2020",
          "Danny Amendola | 2013",
          "Richie James | 2020",
          "Andre Caldwell | 2014",
          "Chris Moore | 2022",
          "Corey Coleman | 2017",
          "Robby Anderson | 2019",
          "Keshawn Martin | 2015",
          "Curtis Samuel | 2023",
          "Ryan Grant | 2017",
          "Earl Bennett | 2013",
          "Terry McLaurin | 2020",
          "Stephen Hill | 2013",
          "T.J. Graham | 2014",
          "Amari Cooper | 2019",
          "Kendrick Bourne | 2018",
          "Adam Thielen | 2019",
          "KhaDarel Hodge | 2023",
          "Jalen Guyton | 2021",
          "Davante Adams | 2015",
          "Mack Hollins | 2023",
          "Trent Taylor | 2018",
          "Chris Olave | 2023",
          "Allen Robinson | 2019",
          "Terry McLaurin | 2023",
          "JuJu Smith-Schuster | 2020",
          "Julio Jones | 2019",
          "Chris Conley | 2016",
          "Adam Thielen | 2023",
          "Dez Bryant | 2016",
          "Cooper Kupp | 2019",
          "Robby Anderson | 2018",
          "Michael Gallup | 2020",
          "Kendall Wright | 2013",
          "Mohamed Sanu | 2016",
          "Bruce Ellington | 2018",
          "N'Keal Harry | 2020",
          "Denarius Moore | 2013",
          "Marvin Jones | 2013",
          "Marvin Jones | 2018",
          "Mike Evans | 2015",
          "Dante Pettis | 2019",
          "Ted Ginn | 2017",
          "Isaiah McKenzie | 2021",
          "T.Y. Hilton | 2020",
          "Andre Johnson | 2014",
          "Leonard Hankerson | 2013",
          "Mohamed Sanu | 2018",
          "Isaiah McKenzie | 2019",
          "Eddie Royal | 2015",
          "James Proche | 2022",
          "Antonio Brown | 2014",
          "T.Y. Hilton | 2014",
          "Paul Richardson | 2017",
          "Torrey Smith | 2013",
          "Roddy White | 2015",
          "Willie Snead | 2020",
          "John Brown | 2015",
          "Calvin Johnson | 2014",
          "Larry Fitzgerald | 2016",
          "Dontrelle Inman | 2017",
          "DeVante Parker | 2023",
          "Steve Smith | 2015",
          "Quinton Patton | 2016",
          "D.J. Chark | 2020",
          "Tyler Boyd | 2020",
          "Robert Woods | 2020",
          "Tee Higgins | 2022",
          "Marquez Valdes-Scantling | 2023",
          "Davante Adams | 2022",
          "Donte Moncrief | 2017",
          "Chase Claypool | 2022",
          "Jaylen Waddle | 2022",
          "Jamison Crowder | 2020",
          "Michael Gallup | 2019",
          "Julio Jones | 2021",
          "Jakobi Meyers | 2021",
          "Amon-Ra St. Brown | 2023",
          "Marqise Lee | 2017",
          "Tyreek Hill | 2017",
          "Jason Avant | 2014",
          "Randall Cobb | 2019",
          "Tyler Boyd | 2018",
          "Isaiah McKenzie | 2018",
          "Damiere Byrd | 2022",
          "Jacoby Jones | 2014",
          "Keshawn Martin | 2013",
          "James Jones | 2013",
          "Donte Moncrief | 2016",
          "Mohamed Sanu | 2015",
          "D.J. Chark | 2019",
          "Pierre Garcon | 2015"
         ],
         "type": "scatter",
         "x": [
          0,
          1,
          2,
          3,
          4,
          5,
          6,
          7,
          8,
          9,
          10,
          11,
          12,
          13,
          14,
          15,
          16,
          17,
          18,
          19,
          20,
          21,
          22,
          23,
          24,
          25,
          26,
          27,
          28,
          29,
          30,
          31,
          32,
          33,
          34,
          35,
          36,
          37,
          38,
          39,
          40,
          41,
          42,
          43,
          44,
          45,
          46,
          47,
          48,
          49,
          50,
          51,
          52,
          53,
          54,
          55,
          56,
          57,
          58,
          59,
          60,
          61,
          62,
          63,
          64,
          65,
          66,
          67,
          68,
          69,
          70,
          71,
          72,
          73,
          74,
          75,
          76,
          77,
          78,
          79,
          80,
          81,
          82,
          83,
          84,
          85,
          86,
          87,
          88,
          89,
          90,
          91,
          92,
          93,
          94,
          95,
          96,
          97,
          98,
          99,
          100,
          101
         ],
         "y": [
          233.46301,
          71.039085,
          12.048156,
          262.4484,
          88.08008,
          98.00785,
          50.439583,
          77.52449,
          142.1019,
          101.95854,
          102.72443,
          142.4046,
          84.87983,
          15.107452,
          127.88217,
          62.601486,
          168.94489,
          60.830517,
          133.99278,
          120.96684,
          66.55156,
          242.62839,
          69.88201,
          19.076588,
          250.65892,
          99.52449,
          104.25716,
          55.06764,
          89.535095,
          111.36501,
          58.711334,
          49.675713,
          226.42079,
          241.21643,
          221.23984,
          187.4726,
          291.37613,
          121.36394,
          197.38382,
          158.34677,
          253.13411,
          162.0297,
          185.81743,
          240.21902,
          146.02425,
          49.16005,
          68.8093,
          148.99686,
          155.94318,
          117.69501,
          243.53119,
          27.501253,
          164.7983,
          50.046013,
          171.80548,
          198.3472,
          81.93642,
          188.46213,
          63.045467,
          63.00985,
          15.485587,
          347.8769,
          270.70242,
          152.28615,
          220.44955,
          125.66542,
          90.52384,
          200.84175,
          225.54956,
          221.54712,
          77.109856,
          84.37605,
          136.93547,
          92.121086,
          158.2122,
          190.74335,
          208.80338,
          222.12024,
          66.68208,
          322.76514,
          84.526405,
          101.12164,
          298.85736,
          151.32716,
          214.66724,
          94.9004,
          205.2824,
          328.2917,
          156.82916,
          263.1768,
          77.52661,
          176.82275,
          206.19624,
          40.24134,
          57.314053,
          29.574448,
          54.39868,
          185.63844,
          72.49928,
          86.18416,
          192.13205,
          169.34264
         ]
        }
       ],
       "layout": {
        "autosize": true,
        "hovermode": "closest",
        "template": {
         "data": {
          "bar": [
           {
            "error_x": {
             "color": "#2a3f5f"
            },
            "error_y": {
             "color": "#2a3f5f"
            },
            "marker": {
             "line": {
              "color": "#E5ECF6",
              "width": 0.5
             },
             "pattern": {
              "fillmode": "overlay",
              "size": 10,
              "solidity": 0.2
             }
            },
            "type": "bar"
           }
          ],
          "barpolar": [
           {
            "marker": {
             "line": {
              "color": "#E5ECF6",
              "width": 0.5
             },
             "pattern": {
              "fillmode": "overlay",
              "size": 10,
              "solidity": 0.2
             }
            },
            "type": "barpolar"
           }
          ],
          "carpet": [
           {
            "aaxis": {
             "endlinecolor": "#2a3f5f",
             "gridcolor": "white",
             "linecolor": "white",
             "minorgridcolor": "white",
             "startlinecolor": "#2a3f5f"
            },
            "baxis": {
             "endlinecolor": "#2a3f5f",
             "gridcolor": "white",
             "linecolor": "white",
             "minorgridcolor": "white",
             "startlinecolor": "#2a3f5f"
            },
            "type": "carpet"
           }
          ],
          "choropleth": [
           {
            "colorbar": {
             "outlinewidth": 0,
             "ticks": ""
            },
            "type": "choropleth"
           }
          ],
          "contour": [
           {
            "colorbar": {
             "outlinewidth": 0,
             "ticks": ""
            },
            "colorscale": [
             [
              0,
              "#0d0887"
             ],
             [
              0.1111111111111111,
              "#46039f"
             ],
             [
              0.2222222222222222,
              "#7201a8"
             ],
             [
              0.3333333333333333,
              "#9c179e"
             ],
             [
              0.4444444444444444,
              "#bd3786"
             ],
             [
              0.5555555555555556,
              "#d8576b"
             ],
             [
              0.6666666666666666,
              "#ed7953"
             ],
             [
              0.7777777777777778,
              "#fb9f3a"
             ],
             [
              0.8888888888888888,
              "#fdca26"
             ],
             [
              1,
              "#f0f921"
             ]
            ],
            "type": "contour"
           }
          ],
          "contourcarpet": [
           {
            "colorbar": {
             "outlinewidth": 0,
             "ticks": ""
            },
            "type": "contourcarpet"
           }
          ],
          "heatmap": [
           {
            "colorbar": {
             "outlinewidth": 0,
             "ticks": ""
            },
            "colorscale": [
             [
              0,
              "#0d0887"
             ],
             [
              0.1111111111111111,
              "#46039f"
             ],
             [
              0.2222222222222222,
              "#7201a8"
             ],
             [
              0.3333333333333333,
              "#9c179e"
             ],
             [
              0.4444444444444444,
              "#bd3786"
             ],
             [
              0.5555555555555556,
              "#d8576b"
             ],
             [
              0.6666666666666666,
              "#ed7953"
             ],
             [
              0.7777777777777778,
              "#fb9f3a"
             ],
             [
              0.8888888888888888,
              "#fdca26"
             ],
             [
              1,
              "#f0f921"
             ]
            ],
            "type": "heatmap"
           }
          ],
          "heatmapgl": [
           {
            "colorbar": {
             "outlinewidth": 0,
             "ticks": ""
            },
            "colorscale": [
             [
              0,
              "#0d0887"
             ],
             [
              0.1111111111111111,
              "#46039f"
             ],
             [
              0.2222222222222222,
              "#7201a8"
             ],
             [
              0.3333333333333333,
              "#9c179e"
             ],
             [
              0.4444444444444444,
              "#bd3786"
             ],
             [
              0.5555555555555556,
              "#d8576b"
             ],
             [
              0.6666666666666666,
              "#ed7953"
             ],
             [
              0.7777777777777778,
              "#fb9f3a"
             ],
             [
              0.8888888888888888,
              "#fdca26"
             ],
             [
              1,
              "#f0f921"
             ]
            ],
            "type": "heatmapgl"
           }
          ],
          "histogram": [
           {
            "marker": {
             "pattern": {
              "fillmode": "overlay",
              "size": 10,
              "solidity": 0.2
             }
            },
            "type": "histogram"
           }
          ],
          "histogram2d": [
           {
            "colorbar": {
             "outlinewidth": 0,
             "ticks": ""
            },
            "colorscale": [
             [
              0,
              "#0d0887"
             ],
             [
              0.1111111111111111,
              "#46039f"
             ],
             [
              0.2222222222222222,
              "#7201a8"
             ],
             [
              0.3333333333333333,
              "#9c179e"
             ],
             [
              0.4444444444444444,
              "#bd3786"
             ],
             [
              0.5555555555555556,
              "#d8576b"
             ],
             [
              0.6666666666666666,
              "#ed7953"
             ],
             [
              0.7777777777777778,
              "#fb9f3a"
             ],
             [
              0.8888888888888888,
              "#fdca26"
             ],
             [
              1,
              "#f0f921"
             ]
            ],
            "type": "histogram2d"
           }
          ],
          "histogram2dcontour": [
           {
            "colorbar": {
             "outlinewidth": 0,
             "ticks": ""
            },
            "colorscale": [
             [
              0,
              "#0d0887"
             ],
             [
              0.1111111111111111,
              "#46039f"
             ],
             [
              0.2222222222222222,
              "#7201a8"
             ],
             [
              0.3333333333333333,
              "#9c179e"
             ],
             [
              0.4444444444444444,
              "#bd3786"
             ],
             [
              0.5555555555555556,
              "#d8576b"
             ],
             [
              0.6666666666666666,
              "#ed7953"
             ],
             [
              0.7777777777777778,
              "#fb9f3a"
             ],
             [
              0.8888888888888888,
              "#fdca26"
             ],
             [
              1,
              "#f0f921"
             ]
            ],
            "type": "histogram2dcontour"
           }
          ],
          "mesh3d": [
           {
            "colorbar": {
             "outlinewidth": 0,
             "ticks": ""
            },
            "type": "mesh3d"
           }
          ],
          "parcoords": [
           {
            "line": {
             "colorbar": {
              "outlinewidth": 0,
              "ticks": ""
             }
            },
            "type": "parcoords"
           }
          ],
          "pie": [
           {
            "automargin": true,
            "type": "pie"
           }
          ],
          "scatter": [
           {
            "fillpattern": {
             "fillmode": "overlay",
             "size": 10,
             "solidity": 0.2
            },
            "type": "scatter"
           }
          ],
          "scatter3d": [
           {
            "line": {
             "colorbar": {
              "outlinewidth": 0,
              "ticks": ""
             }
            },
            "marker": {
             "colorbar": {
              "outlinewidth": 0,
              "ticks": ""
             }
            },
            "type": "scatter3d"
           }
          ],
          "scattercarpet": [
           {
            "marker": {
             "colorbar": {
              "outlinewidth": 0,
              "ticks": ""
             }
            },
            "type": "scattercarpet"
           }
          ],
          "scattergeo": [
           {
            "marker": {
             "colorbar": {
              "outlinewidth": 0,
              "ticks": ""
             }
            },
            "type": "scattergeo"
           }
          ],
          "scattergl": [
           {
            "marker": {
             "colorbar": {
              "outlinewidth": 0,
              "ticks": ""
             }
            },
            "type": "scattergl"
           }
          ],
          "scattermapbox": [
           {
            "marker": {
             "colorbar": {
              "outlinewidth": 0,
              "ticks": ""
             }
            },
            "type": "scattermapbox"
           }
          ],
          "scatterpolar": [
           {
            "marker": {
             "colorbar": {
              "outlinewidth": 0,
              "ticks": ""
             }
            },
            "type": "scatterpolar"
           }
          ],
          "scatterpolargl": [
           {
            "marker": {
             "colorbar": {
              "outlinewidth": 0,
              "ticks": ""
             }
            },
            "type": "scatterpolargl"
           }
          ],
          "scatterternary": [
           {
            "marker": {
             "colorbar": {
              "outlinewidth": 0,
              "ticks": ""
             }
            },
            "type": "scatterternary"
           }
          ],
          "surface": [
           {
            "colorbar": {
             "outlinewidth": 0,
             "ticks": ""
            },
            "colorscale": [
             [
              0,
              "#0d0887"
             ],
             [
              0.1111111111111111,
              "#46039f"
             ],
             [
              0.2222222222222222,
              "#7201a8"
             ],
             [
              0.3333333333333333,
              "#9c179e"
             ],
             [
              0.4444444444444444,
              "#bd3786"
             ],
             [
              0.5555555555555556,
              "#d8576b"
             ],
             [
              0.6666666666666666,
              "#ed7953"
             ],
             [
              0.7777777777777778,
              "#fb9f3a"
             ],
             [
              0.8888888888888888,
              "#fdca26"
             ],
             [
              1,
              "#f0f921"
             ]
            ],
            "type": "surface"
           }
          ],
          "table": [
           {
            "cells": {
             "fill": {
              "color": "#EBF0F8"
             },
             "line": {
              "color": "white"
             }
            },
            "header": {
             "fill": {
              "color": "#C8D4E3"
             },
             "line": {
              "color": "white"
             }
            },
            "type": "table"
           }
          ]
         },
         "layout": {
          "annotationdefaults": {
           "arrowcolor": "#2a3f5f",
           "arrowhead": 0,
           "arrowwidth": 1
          },
          "autotypenumbers": "strict",
          "coloraxis": {
           "colorbar": {
            "outlinewidth": 0,
            "ticks": ""
           }
          },
          "colorscale": {
           "diverging": [
            [
             0,
             "#8e0152"
            ],
            [
             0.1,
             "#c51b7d"
            ],
            [
             0.2,
             "#de77ae"
            ],
            [
             0.3,
             "#f1b6da"
            ],
            [
             0.4,
             "#fde0ef"
            ],
            [
             0.5,
             "#f7f7f7"
            ],
            [
             0.6,
             "#e6f5d0"
            ],
            [
             0.7,
             "#b8e186"
            ],
            [
             0.8,
             "#7fbc41"
            ],
            [
             0.9,
             "#4d9221"
            ],
            [
             1,
             "#276419"
            ]
           ],
           "sequential": [
            [
             0,
             "#0d0887"
            ],
            [
             0.1111111111111111,
             "#46039f"
            ],
            [
             0.2222222222222222,
             "#7201a8"
            ],
            [
             0.3333333333333333,
             "#9c179e"
            ],
            [
             0.4444444444444444,
             "#bd3786"
            ],
            [
             0.5555555555555556,
             "#d8576b"
            ],
            [
             0.6666666666666666,
             "#ed7953"
            ],
            [
             0.7777777777777778,
             "#fb9f3a"
            ],
            [
             0.8888888888888888,
             "#fdca26"
            ],
            [
             1,
             "#f0f921"
            ]
           ],
           "sequentialminus": [
            [
             0,
             "#0d0887"
            ],
            [
             0.1111111111111111,
             "#46039f"
            ],
            [
             0.2222222222222222,
             "#7201a8"
            ],
            [
             0.3333333333333333,
             "#9c179e"
            ],
            [
             0.4444444444444444,
             "#bd3786"
            ],
            [
             0.5555555555555556,
             "#d8576b"
            ],
            [
             0.6666666666666666,
             "#ed7953"
            ],
            [
             0.7777777777777778,
             "#fb9f3a"
            ],
            [
             0.8888888888888888,
             "#fdca26"
            ],
            [
             1,
             "#f0f921"
            ]
           ]
          },
          "colorway": [
           "#636efa",
           "#EF553B",
           "#00cc96",
           "#ab63fa",
           "#FFA15A",
           "#19d3f3",
           "#FF6692",
           "#B6E880",
           "#FF97FF",
           "#FECB52"
          ],
          "font": {
           "color": "#2a3f5f"
          },
          "geo": {
           "bgcolor": "white",
           "lakecolor": "white",
           "landcolor": "#E5ECF6",
           "showlakes": true,
           "showland": true,
           "subunitcolor": "white"
          },
          "hoverlabel": {
           "align": "left"
          },
          "hovermode": "closest",
          "mapbox": {
           "style": "light"
          },
          "paper_bgcolor": "white",
          "plot_bgcolor": "#E5ECF6",
          "polar": {
           "angularaxis": {
            "gridcolor": "white",
            "linecolor": "white",
            "ticks": ""
           },
           "bgcolor": "#E5ECF6",
           "radialaxis": {
            "gridcolor": "white",
            "linecolor": "white",
            "ticks": ""
           }
          },
          "scene": {
           "xaxis": {
            "backgroundcolor": "#E5ECF6",
            "gridcolor": "white",
            "gridwidth": 2,
            "linecolor": "white",
            "showbackground": true,
            "ticks": "",
            "zerolinecolor": "white"
           },
           "yaxis": {
            "backgroundcolor": "#E5ECF6",
            "gridcolor": "white",
            "gridwidth": 2,
            "linecolor": "white",
            "showbackground": true,
            "ticks": "",
            "zerolinecolor": "white"
           },
           "zaxis": {
            "backgroundcolor": "#E5ECF6",
            "gridcolor": "white",
            "gridwidth": 2,
            "linecolor": "white",
            "showbackground": true,
            "ticks": "",
            "zerolinecolor": "white"
           }
          },
          "shapedefaults": {
           "line": {
            "color": "#2a3f5f"
           }
          },
          "ternary": {
           "aaxis": {
            "gridcolor": "white",
            "linecolor": "white",
            "ticks": ""
           },
           "baxis": {
            "gridcolor": "white",
            "linecolor": "white",
            "ticks": ""
           },
           "bgcolor": "#E5ECF6",
           "caxis": {
            "gridcolor": "white",
            "linecolor": "white",
            "ticks": ""
           }
          },
          "title": {
           "x": 0.05
          },
          "xaxis": {
           "automargin": true,
           "gridcolor": "white",
           "linecolor": "white",
           "ticks": "",
           "title": {
            "standoff": 15
           },
           "zerolinecolor": "white",
           "zerolinewidth": 2
          },
          "yaxis": {
           "automargin": true,
           "gridcolor": "white",
           "linecolor": "white",
           "ticks": "",
           "title": {
            "standoff": 15
           },
           "zerolinecolor": "white",
           "zerolinewidth": 2
          }
         }
        },
        "title": {
         "text": "Prediction vs Actual Points Comparison: First Half"
        },
        "xaxis": {
         "autorange": true,
         "range": [
          -6.204001127078051,
          107.20400112707804
         ],
         "title": {
          "text": "Index"
         },
         "type": "linear"
        },
        "yaxis": {
         "autorange": true,
         "range": [
          -25.706796116504854,
          420.50679611650486
         ],
         "title": {
          "text": "Points"
         },
         "type": "linear"
        }
       }
      },
      "image/png": "[encoded data removed]",
      "text/html": [
       "<div>                            <div id=\"d0696588-f51a-4dcd-999b-3218da7a1378\" class=\"plotly-graph-div\" style=\"height:525px; width:100%;\"></div>            <script type=\"text/javascript\">                require([\"plotly\"], function(Plotly) {                    window.PLOTLYENV=window.PLOTLYENV || {};                                    if (document.getElementById(\"d0696588-f51a-4dcd-999b-3218da7a1378\")) {                    Plotly.newPlot(                        \"d0696588-f51a-4dcd-999b-3218da7a1378\",                        [{\"hoverinfo\":\"text+y\",\"marker\":{\"color\":\"black\"},\"mode\":\"markers\",\"name\":\"Actual Points - First Half\",\"text\":[\"DeVonta Smith | 2023\",\"Sammy Watkins | 2022\",\"Zach Pascal | 2023\",\"Vincent Jackson | 2013\",\"Sterling Shepard | 2021\",\"Zach Pascal | 2021\",\"Justin Hardy | 2017\",\"Tre'Quan Smith | 2021\",\"Danny Amendola | 2019\",\"Rondale Moore | 2023\",\"Breshad Perriman | 2020\",\"Danny Amendola | 2013\",\"Richie James | 2020\",\"Andre Caldwell | 2014\",\"Chris Moore | 2022\",\"Corey Coleman | 2017\",\"Robby Anderson | 2019\",\"Keshawn Martin | 2015\",\"Curtis Samuel | 2023\",\"Ryan Grant | 2017\",\"Earl Bennett | 2013\",\"Terry McLaurin | 2020\",\"Stephen Hill | 2013\",\"T.J. Graham | 2014\",\"Amari Cooper | 2019\",\"Kendrick Bourne | 2018\",\"Adam Thielen | 2019\",\"KhaDarel Hodge | 2023\",\"Jalen Guyton | 2021\",\"Davante Adams | 2015\",\"Mack Hollins | 2023\",\"Trent Taylor | 2018\",\"Chris Olave | 2023\",\"Allen Robinson | 2019\",\"Terry McLaurin | 2023\",\"JuJu Smith-Schuster | 2020\",\"Julio Jones | 2019\",\"Chris Conley | 2016\",\"Adam Thielen | 2023\",\"Dez Bryant | 2016\",\"Cooper Kupp | 2019\",\"Robby Anderson | 2018\",\"Michael Gallup | 2020\",\"Kendall Wright | 2013\",\"Mohamed Sanu | 2016\",\"Bruce Ellington | 2018\",\"N'Keal Harry | 2020\",\"Denarius Moore | 2013\",\"Marvin Jones | 2013\",\"Marvin Jones | 2018\",\"Mike Evans | 2015\",\"Dante Pettis | 2019\",\"Ted Ginn | 2017\",\"Isaiah McKenzie | 2021\",\"T.Y. Hilton | 2020\",\"Andre Johnson | 2014\",\"Leonard Hankerson | 2013\",\"Mohamed Sanu | 2018\",\"Isaiah McKenzie | 2019\",\"Eddie Royal | 2015\",\"James Proche | 2022\",\"Antonio Brown | 2014\",\"T.Y. Hilton | 2014\",\"Paul Richardson | 2017\",\"Torrey Smith | 2013\",\"Roddy White | 2015\",\"Willie Snead | 2020\",\"John Brown | 2015\",\"Calvin Johnson | 2014\",\"Larry Fitzgerald | 2016\",\"Dontrelle Inman | 2017\",\"DeVante Parker | 2023\",\"Steve Smith | 2015\",\"Quinton Patton | 2016\",\"D.J. Chark | 2020\",\"Tyler Boyd | 2020\",\"Robert Woods | 2020\",\"Tee Higgins | 2022\",\"Marquez Valdes-Scantling | 2023\",\"Davante Adams | 2022\",\"Donte Moncrief | 2017\",\"Chase Claypool | 2022\",\"Jaylen Waddle | 2022\",\"Jamison Crowder | 2020\",\"Michael Gallup | 2019\",\"Julio Jones | 2021\",\"Jakobi Meyers | 2021\",\"Amon-Ra St. Brown | 2023\",\"Marqise Lee | 2017\",\"Tyreek Hill | 2017\",\"Jason Avant | 2014\",\"Randall Cobb | 2019\",\"Tyler Boyd | 2018\",\"Isaiah McKenzie | 2018\",\"Damiere Byrd | 2022\",\"Jacoby Jones | 2014\",\"Keshawn Martin | 2013\",\"James Jones | 2013\",\"Donte Moncrief | 2016\",\"Mohamed Sanu | 2015\",\"D.J. Chark | 2019\",\"Pierre Garcon | 2015\"],\"x\":[0,1,2,3,4,5,6,7,8,9,10,11,12,13,14,15,16,17,18,19,20,21,22,23,24,25,26,27,28,29,30,31,32,33,34,35,36,37,38,39,40,41,42,43,44,45,46,47,48,49,50,51,52,53,54,55,56,57,58,59,60,61,62,63,64,65,66,67,68,69,70,71,72,73,74,75,76,77,78,79,80,81,82,83,84,85,86,87,88,89,90,91,92,93,94,95,96,97,98,99,100,101],\"y\":[227.6,46.5,5.9,242.39999999999998,77.7,94.5,60.1,87.7,140.56,105.0,99.10000000000001,129.4,68.4,9.7,115.1,65.5,162.3,63.5,157.2,126.30000000000001,82.3,223.8,62.2,17.7,246.5,114.7,114.4,37.2,97.2,107.5,43.1,55.50000000000001,231.3,254.9,203.20000000000002,234.1,274.1,97.0,231.0,180.0,270.5,156.4,173.3,213.9,148.8,59.6,75.9,145.5,188.7,115.80000000000001,210.60000000000002,34.54,159.6,54.5,164.20000000000002,190.6,85.5,182.4,63.3,66.7,12.200000000000001,388.9,258.5,150.3,203.8,99.6,94.2,207.5,226.70000000000002,243.8,65.3,72.4,131.0,77.8,153.6,192.64000000000001,245.1,220.9,56.5,335.5,77.1,105.04,259.2,172.02,212.7,80.4,186.3,330.90000000000003,147.9,245.20000000000002,75.4,154.9,221.10000000000002,54.5,51.8,29.700000000000003,65.3,158.70000000000002,102.6,91.5,225.8,185.70000000000002],\"type\":\"scatter\"},{\"hoverinfo\":\"text+y\",\"marker\":{\"color\":[\"green\",\"blue\",\"green\",\"blue\",\"green\",\"green\",\"green\",\"green\",\"green\",\"green\",\"green\",\"green\",\"blue\",\"green\",\"green\",\"green\",\"green\",\"green\",\"blue\",\"green\",\"blue\",\"blue\",\"green\",\"green\",\"green\",\"blue\",\"green\",\"blue\",\"green\",\"green\",\"blue\",\"green\",\"green\",\"green\",\"blue\",\"red\",\"blue\",\"blue\",\"red\",\"blue\",\"blue\",\"green\",\"green\",\"blue\",\"green\",\"green\",\"green\",\"green\",\"red\",\"green\",\"red\",\"green\",\"green\",\"green\",\"green\",\"green\",\"green\",\"green\",\"green\",\"green\",\"green\",\"red\",\"green\",\"green\",\"blue\",\"blue\",\"green\",\"green\",\"green\",\"blue\",\"green\",\"green\",\"green\",\"green\",\"green\",\"green\",\"red\",\"green\",\"green\",\"green\",\"green\",\"green\",\"red\",\"blue\",\"green\",\"green\",\"blue\",\"green\",\"green\",\"blue\",\"green\",\"blue\",\"green\",\"green\",\"green\",\"green\",\"green\",\"blue\",\"red\",\"green\",\"red\",\"blue\"]},\"mode\":\"markers\",\"name\":\"Predicted Points - First Half\",\"text\":[\"DeVonta Smith | 2023\",\"Sammy Watkins | 2022\",\"Zach Pascal | 2023\",\"Vincent Jackson | 2013\",\"Sterling Shepard | 2021\",\"Zach Pascal | 2021\",\"Justin Hardy | 2017\",\"Tre'Quan Smith | 2021\",\"Danny Amendola | 2019\",\"Rondale Moore | 2023\",\"Breshad Perriman | 2020\",\"Danny Amendola | 2013\",\"Richie James | 2020\",\"Andre Caldwell | 2014\",\"Chris Moore | 2022\",\"Corey Coleman | 2017\",\"Robby Anderson | 2019\",\"Keshawn Martin | 2015\",\"Curtis Samuel | 2023\",\"Ryan Grant | 2017\",\"Earl Bennett | 2013\",\"Terry McLaurin | 2020\",\"Stephen Hill | 2013\",\"T.J. Graham | 2014\",\"Amari Cooper | 2019\",\"Kendrick Bourne | 2018\",\"Adam Thielen | 2019\",\"KhaDarel Hodge | 2023\",\"Jalen Guyton | 2021\",\"Davante Adams | 2015\",\"Mack Hollins | 2023\",\"Trent Taylor | 2018\",\"Chris Olave | 2023\",\"Allen Robinson | 2019\",\"Terry McLaurin | 2023\",\"JuJu Smith-Schuster | 2020\",\"Julio Jones | 2019\",\"Chris Conley | 2016\",\"Adam Thielen | 2023\",\"Dez Bryant | 2016\",\"Cooper Kupp | 2019\",\"Robby Anderson | 2018\",\"Michael Gallup | 2020\",\"Kendall Wright | 2013\",\"Mohamed Sanu | 2016\",\"Bruce Ellington | 2018\",\"N'Keal Harry | 2020\",\"Denarius Moore | 2013\",\"Marvin Jones | 2013\",\"Marvin Jones | 2018\",\"Mike Evans | 2015\",\"Dante Pettis | 2019\",\"Ted Ginn | 2017\",\"Isaiah McKenzie | 2021\",\"T.Y. Hilton | 2020\",\"Andre Johnson | 2014\",\"Leonard Hankerson | 2013\",\"Mohamed Sanu | 2018\",\"Isaiah McKenzie | 2019\",\"Eddie Royal | 2015\",\"James Proche | 2022\",\"Antonio Brown | 2014\",\"T.Y. Hilton | 2014\",\"Paul Richardson | 2017\",\"Torrey Smith | 2013\",\"Roddy White | 2015\",\"Willie Snead | 2020\",\"John Brown | 2015\",\"Calvin Johnson | 2014\",\"Larry Fitzgerald | 2016\",\"Dontrelle Inman | 2017\",\"DeVante Parker | 2023\",\"Steve Smith | 2015\",\"Quinton Patton | 2016\",\"D.J. Chark | 2020\",\"Tyler Boyd | 2020\",\"Robert Woods | 2020\",\"Tee Higgins | 2022\",\"Marquez Valdes-Scantling | 2023\",\"Davante Adams | 2022\",\"Donte Moncrief | 2017\",\"Chase Claypool | 2022\",\"Jaylen Waddle | 2022\",\"Jamison Crowder | 2020\",\"Michael Gallup | 2019\",\"Julio Jones | 2021\",\"Jakobi Meyers | 2021\",\"Amon-Ra St. Brown | 2023\",\"Marqise Lee | 2017\",\"Tyreek Hill | 2017\",\"Jason Avant | 2014\",\"Randall Cobb | 2019\",\"Tyler Boyd | 2018\",\"Isaiah McKenzie | 2018\",\"Damiere Byrd | 2022\",\"Jacoby Jones | 2014\",\"Keshawn Martin | 2013\",\"James Jones | 2013\",\"Donte Moncrief | 2016\",\"Mohamed Sanu | 2015\",\"D.J. Chark | 2019\",\"Pierre Garcon | 2015\"],\"x\":[0,1,2,3,4,5,6,7,8,9,10,11,12,13,14,15,16,17,18,19,20,21,22,23,24,25,26,27,28,29,30,31,32,33,34,35,36,37,38,39,40,41,42,43,44,45,46,47,48,49,50,51,52,53,54,55,56,57,58,59,60,61,62,63,64,65,66,67,68,69,70,71,72,73,74,75,76,77,78,79,80,81,82,83,84,85,86,87,88,89,90,91,92,93,94,95,96,97,98,99,100,101],\"y\":[233.46301,71.039085,12.048156,262.4484,88.08008,98.00785,50.439583,77.52449,142.1019,101.95854,102.72443,142.4046,84.87983,15.107452,127.88217,62.601486,168.94489,60.830517,133.99278,120.96684,66.55156,242.62839,69.88201,19.076588,250.65892,99.52449,104.25716,55.06764,89.535095,111.36501,58.711334,49.675713,226.42079,241.21643,221.23984,187.4726,291.37613,121.36394,197.38382,158.34677,253.13411,162.0297,185.81743,240.21902,146.02425,49.16005,68.8093,148.99686,155.94318,117.69501,243.53119,27.501253,164.7983,50.046013,171.80548,198.3472,81.93642,188.46213,63.045467,63.00985,15.485587,347.8769,270.70242,152.28615,220.44955,125.66542,90.52384,200.84175,225.54956,221.54712,77.109856,84.37605,136.93547,92.121086,158.2122,190.74335,208.80338,222.12024,66.68208,322.76514,84.526405,101.12164,298.85736,151.32716,214.66724,94.9004,205.2824,328.2917,156.82916,263.1768,77.52661,176.82275,206.19624,40.24134,57.314053,29.574448,54.39868,185.63844,72.49928,86.18416,192.13205,169.34264],\"type\":\"scatter\"}],                        {\"template\":{\"data\":{\"histogram2dcontour\":[{\"type\":\"histogram2dcontour\",\"colorbar\":{\"outlinewidth\":0,\"ticks\":\"\"},\"colorscale\":[[0.0,\"#0d0887\"],[0.1111111111111111,\"#46039f\"],[0.2222222222222222,\"#7201a8\"],[0.3333333333333333,\"#9c179e\"],[0.4444444444444444,\"#bd3786\"],[0.5555555555555556,\"#d8576b\"],[0.6666666666666666,\"#ed7953\"],[0.7777777777777778,\"#fb9f3a\"],[0.8888888888888888,\"#fdca26\"],[1.0,\"#f0f921\"]]}],\"choropleth\":[{\"type\":\"choropleth\",\"colorbar\":{\"outlinewidth\":0,\"ticks\":\"\"}}],\"histogram2d\":[{\"type\":\"histogram2d\",\"colorbar\":{\"outlinewidth\":0,\"ticks\":\"\"},\"colorscale\":[[0.0,\"#0d0887\"],[0.1111111111111111,\"#46039f\"],[0.2222222222222222,\"#7201a8\"],[0.3333333333333333,\"#9c179e\"],[0.4444444444444444,\"#bd3786\"],[0.5555555555555556,\"#d8576b\"],[0.6666666666666666,\"#ed7953\"],[0.7777777777777778,\"#fb9f3a\"],[0.8888888888888888,\"#fdca26\"],[1.0,\"#f0f921\"]]}],\"heatmap\":[{\"type\":\"heatmap\",\"colorbar\":{\"outlinewidth\":0,\"ticks\":\"\"},\"colorscale\":[[0.0,\"#0d0887\"],[0.1111111111111111,\"#46039f\"],[0.2222222222222222,\"#7201a8\"],[0.3333333333333333,\"#9c179e\"],[0.4444444444444444,\"#bd3786\"],[0.5555555555555556,\"#d8576b\"],[0.6666666666666666,\"#ed7953\"],[0.7777777777777778,\"#fb9f3a\"],[0.8888888888888888,\"#fdca26\"],[1.0,\"#f0f921\"]]}],\"heatmapgl\":[{\"type\":\"heatmapgl\",\"colorbar\":{\"outlinewidth\":0,\"ticks\":\"\"},\"colorscale\":[[0.0,\"#0d0887\"],[0.1111111111111111,\"#46039f\"],[0.2222222222222222,\"#7201a8\"],[0.3333333333333333,\"#9c179e\"],[0.4444444444444444,\"#bd3786\"],[0.5555555555555556,\"#d8576b\"],[0.6666666666666666,\"#ed7953\"],[0.7777777777777778,\"#fb9f3a\"],[0.8888888888888888,\"#fdca26\"],[1.0,\"#f0f921\"]]}],\"contourcarpet\":[{\"type\":\"contourcarpet\",\"colorbar\":{\"outlinewidth\":0,\"ticks\":\"\"}}],\"contour\":[{\"type\":\"contour\",\"colorbar\":{\"outlinewidth\":0,\"ticks\":\"\"},\"colorscale\":[[0.0,\"#0d0887\"],[0.1111111111111111,\"#46039f\"],[0.2222222222222222,\"#7201a8\"],[0.3333333333333333,\"#9c179e\"],[0.4444444444444444,\"#bd3786\"],[0.5555555555555556,\"#d8576b\"],[0.6666666666666666,\"#ed7953\"],[0.7777777777777778,\"#fb9f3a\"],[0.8888888888888888,\"#fdca26\"],[1.0,\"#f0f921\"]]}],\"surface\":[{\"type\":\"surface\",\"colorbar\":{\"outlinewidth\":0,\"ticks\":\"\"},\"colorscale\":[[0.0,\"#0d0887\"],[0.1111111111111111,\"#46039f\"],[0.2222222222222222,\"#7201a8\"],[0.3333333333333333,\"#9c179e\"],[0.4444444444444444,\"#bd3786\"],[0.5555555555555556,\"#d8576b\"],[0.6666666666666666,\"#ed7953\"],[0.7777777777777778,\"#fb9f3a\"],[0.8888888888888888,\"#fdca26\"],[1.0,\"#f0f921\"]]}],\"mesh3d\":[{\"type\":\"mesh3d\",\"colorbar\":{\"outlinewidth\":0,\"ticks\":\"\"}}],\"scatter\":[{\"fillpattern\":{\"fillmode\":\"overlay\",\"size\":10,\"solidity\":0.2},\"type\":\"scatter\"}],\"parcoords\":[{\"type\":\"parcoords\",\"line\":{\"colorbar\":{\"outlinewidth\":0,\"ticks\":\"\"}}}],\"scatterpolargl\":[{\"type\":\"scatterpolargl\",\"marker\":{\"colorbar\":{\"outlinewidth\":0,\"ticks\":\"\"}}}],\"bar\":[{\"error_x\":{\"color\":\"#2a3f5f\"},\"error_y\":{\"color\":\"#2a3f5f\"},\"marker\":{\"line\":{\"color\":\"#E5ECF6\",\"width\":0.5},\"pattern\":{\"fillmode\":\"overlay\",\"size\":10,\"solidity\":0.2}},\"type\":\"bar\"}],\"scattergeo\":[{\"type\":\"scattergeo\",\"marker\":{\"colorbar\":{\"outlinewidth\":0,\"ticks\":\"\"}}}],\"scatterpolar\":[{\"type\":\"scatterpolar\",\"marker\":{\"colorbar\":{\"outlinewidth\":0,\"ticks\":\"\"}}}],\"histogram\":[{\"marker\":{\"pattern\":{\"fillmode\":\"overlay\",\"size\":10,\"solidity\":0.2}},\"type\":\"histogram\"}],\"scattergl\":[{\"type\":\"scattergl\",\"marker\":{\"colorbar\":{\"outlinewidth\":0,\"ticks\":\"\"}}}],\"scatter3d\":[{\"type\":\"scatter3d\",\"line\":{\"colorbar\":{\"outlinewidth\":0,\"ticks\":\"\"}},\"marker\":{\"colorbar\":{\"outlinewidth\":0,\"ticks\":\"\"}}}],\"scattermapbox\":[{\"type\":\"scattermapbox\",\"marker\":{\"colorbar\":{\"outlinewidth\":0,\"ticks\":\"\"}}}],\"scatterternary\":[{\"type\":\"scatterternary\",\"marker\":{\"colorbar\":{\"outlinewidth\":0,\"ticks\":\"\"}}}],\"scattercarpet\":[{\"type\":\"scattercarpet\",\"marker\":{\"colorbar\":{\"outlinewidth\":0,\"ticks\":\"\"}}}],\"carpet\":[{\"aaxis\":{\"endlinecolor\":\"#2a3f5f\",\"gridcolor\":\"white\",\"linecolor\":\"white\",\"minorgridcolor\":\"white\",\"startlinecolor\":\"#2a3f5f\"},\"baxis\":{\"endlinecolor\":\"#2a3f5f\",\"gridcolor\":\"white\",\"linecolor\":\"white\",\"minorgridcolor\":\"white\",\"startlinecolor\":\"#2a3f5f\"},\"type\":\"carpet\"}],\"table\":[{\"cells\":{\"fill\":{\"color\":\"#EBF0F8\"},\"line\":{\"color\":\"white\"}},\"header\":{\"fill\":{\"color\":\"#C8D4E3\"},\"line\":{\"color\":\"white\"}},\"type\":\"table\"}],\"barpolar\":[{\"marker\":{\"line\":{\"color\":\"#E5ECF6\",\"width\":0.5},\"pattern\":{\"fillmode\":\"overlay\",\"size\":10,\"solidity\":0.2}},\"type\":\"barpolar\"}],\"pie\":[{\"automargin\":true,\"type\":\"pie\"}]},\"layout\":{\"autotypenumbers\":\"strict\",\"colorway\":[\"#636efa\",\"#EF553B\",\"#00cc96\",\"#ab63fa\",\"#FFA15A\",\"#19d3f3\",\"#FF6692\",\"#B6E880\",\"#FF97FF\",\"#FECB52\"],\"font\":{\"color\":\"#2a3f5f\"},\"hovermode\":\"closest\",\"hoverlabel\":{\"align\":\"left\"},\"paper_bgcolor\":\"white\",\"plot_bgcolor\":\"#E5ECF6\",\"polar\":{\"bgcolor\":\"#E5ECF6\",\"angularaxis\":{\"gridcolor\":\"white\",\"linecolor\":\"white\",\"ticks\":\"\"},\"radialaxis\":{\"gridcolor\":\"white\",\"linecolor\":\"white\",\"ticks\":\"\"}},\"ternary\":{\"bgcolor\":\"#E5ECF6\",\"aaxis\":{\"gridcolor\":\"white\",\"linecolor\":\"white\",\"ticks\":\"\"},\"baxis\":{\"gridcolor\":\"white\",\"linecolor\":\"white\",\"ticks\":\"\"},\"caxis\":{\"gridcolor\":\"white\",\"linecolor\":\"white\",\"ticks\":\"\"}},\"coloraxis\":{\"colorbar\":{\"outlinewidth\":0,\"ticks\":\"\"}},\"colorscale\":{\"sequential\":[[0.0,\"#0d0887\"],[0.1111111111111111,\"#46039f\"],[0.2222222222222222,\"#7201a8\"],[0.3333333333333333,\"#9c179e\"],[0.4444444444444444,\"#bd3786\"],[0.5555555555555556,\"#d8576b\"],[0.6666666666666666,\"#ed7953\"],[0.7777777777777778,\"#fb9f3a\"],[0.8888888888888888,\"#fdca26\"],[1.0,\"#f0f921\"]],\"sequentialminus\":[[0.0,\"#0d0887\"],[0.1111111111111111,\"#46039f\"],[0.2222222222222222,\"#7201a8\"],[0.3333333333333333,\"#9c179e\"],[0.4444444444444444,\"#bd3786\"],[0.5555555555555556,\"#d8576b\"],[0.6666666666666666,\"#ed7953\"],[0.7777777777777778,\"#fb9f3a\"],[0.8888888888888888,\"#fdca26\"],[1.0,\"#f0f921\"]],\"diverging\":[[0,\"#8e0152\"],[0.1,\"#c51b7d\"],[0.2,\"#de77ae\"],[0.3,\"#f1b6da\"],[0.4,\"#fde0ef\"],[0.5,\"#f7f7f7\"],[0.6,\"#e6f5d0\"],[0.7,\"#b8e186\"],[0.8,\"#7fbc41\"],[0.9,\"#4d9221\"],[1,\"#276419\"]]},\"xaxis\":{\"gridcolor\":\"white\",\"linecolor\":\"white\",\"ticks\":\"\",\"title\":{\"standoff\":15},\"zerolinecolor\":\"white\",\"automargin\":true,\"zerolinewidth\":2},\"yaxis\":{\"gridcolor\":\"white\",\"linecolor\":\"white\",\"ticks\":\"\",\"title\":{\"standoff\":15},\"zerolinecolor\":\"white\",\"automargin\":true,\"zerolinewidth\":2},\"scene\":{\"xaxis\":{\"backgroundcolor\":\"#E5ECF6\",\"gridcolor\":\"white\",\"linecolor\":\"white\",\"showbackground\":true,\"ticks\":\"\",\"zerolinecolor\":\"white\",\"gridwidth\":2},\"yaxis\":{\"backgroundcolor\":\"#E5ECF6\",\"gridcolor\":\"white\",\"linecolor\":\"white\",\"showbackground\":true,\"ticks\":\"\",\"zerolinecolor\":\"white\",\"gridwidth\":2},\"zaxis\":{\"backgroundcolor\":\"#E5ECF6\",\"gridcolor\":\"white\",\"linecolor\":\"white\",\"showbackground\":true,\"ticks\":\"\",\"zerolinecolor\":\"white\",\"gridwidth\":2}},\"shapedefaults\":{\"line\":{\"color\":\"#2a3f5f\"}},\"annotationdefaults\":{\"arrowcolor\":\"#2a3f5f\",\"arrowhead\":0,\"arrowwidth\":1},\"geo\":{\"bgcolor\":\"white\",\"landcolor\":\"#E5ECF6\",\"subunitcolor\":\"white\",\"showland\":true,\"showlakes\":true,\"lakecolor\":\"white\"},\"title\":{\"x\":0.05},\"mapbox\":{\"style\":\"light\"}}},\"title\":{\"text\":\"Prediction vs Actual Points Comparison: First Half\"},\"xaxis\":{\"title\":{\"text\":\"Index\"}},\"yaxis\":{\"title\":{\"text\":\"Points\"}},\"hovermode\":\"closest\"},                        {\"responsive\": true}                    ).then(function(){\n",
       "                            \n",
       "var gd = document.getElementById('d0696588-f51a-4dcd-999b-3218da7a1378');\n",
       "var x = new MutationObserver(function (mutations, observer) {{\n",
       "        var display = window.getComputedStyle(gd).display;\n",
       "        if (!display || display === 'none') {{\n",
       "            console.log([gd, 'removed!']);\n",
       "            Plotly.purge(gd);\n",
       "            observer.disconnect();\n",
       "        }}\n",
       "}});\n",
       "\n",
       "// Listen for the removal of the full notebook cells\n",
       "var notebookContainer = gd.closest('#notebook-container');\n",
       "if (notebookContainer) {{\n",
       "    x.observe(notebookContainer, {childList: true});\n",
       "}}\n",
       "\n",
       "// Listen for the clearing of the current output cell\n",
       "var outputEl = gd.closest('.output');\n",
       "if (outputEl) {{\n",
       "    x.observe(outputEl, {childList: true});\n",
       "}}\n",
       "\n",
       "                        })                };                });            </script>        </div>"
      ]
     },
     "metadata": {},
     "output_type": "display_data"
    }
   ],
   "source": [
    "import plotly.graph_objects as go\n",
    "\n",
    "# Calculate errors and determine colors\n",
    "errors = abs(predictions - answers)\n",
    "colors = ['red' if error > 30 else 'green' if error <= 15 else 'blue' for error in errors]\n",
    "\n",
    "# Get player names and seasons from df_lag using the index from answers\n",
    "player_names = df_lag.loc[answers.index, 'player_name']  # Adjust 'player_name' as necessary\n",
    "seasons = df_lag.loc[answers.index, 'season']  # Adjust 'season' as necessary\n",
    "\n",
    "# Define midpoint to split the data\n",
    "midpoint = len(answers) // 2\n",
    "\n",
    "# Create the first plot for the first half\n",
    "fig1 = go.Figure()\n",
    "fig1.add_trace(\n",
    "    go.Scatter(\n",
    "        x=list(range(midpoint)),\n",
    "        y=answers[:midpoint],\n",
    "        mode='markers',\n",
    "        name='Actual Points - First Half',\n",
    "        marker=dict(color='black'),\n",
    "        text=player_names[:midpoint] + \" | \" + seasons[:midpoint].astype(str),\n",
    "        hoverinfo='text+y'\n",
    "    )\n",
    ")\n",
    "fig1.add_trace(\n",
    "    go.Scatter(\n",
    "        x=list(range(midpoint)),\n",
    "        y=predictions[:midpoint],\n",
    "        mode='markers',\n",
    "        name='Predicted Points - First Half',\n",
    "        marker=dict(color=colors[:midpoint]),\n",
    "        text=player_names[:midpoint] + \" | \" + seasons[:midpoint].astype(str),\n",
    "        hoverinfo='text+y'\n",
    "    )\n",
    ")\n",
    "fig1.update_layout(\n",
    "    title='Prediction vs Actual Points Comparison: First Half',\n",
    "    xaxis_title='Index',\n",
    "    yaxis_title='Points',\n",
    "    hovermode='closest'\n",
    ")\n",
    "\n",
    "fig1.show()"
   ]
  },
  {
   "cell_type": "code",
   "execution_count": 55,
   "id": "1ac9f8cc-f581-4da7-9cd7-dd052b860135",
   "metadata": {},
   "outputs": [
    {
     "data": {
      "application/vnd.plotly.v1+json": {
       "config": {
        "plotlyServerURL": "https://plot.ly"
       },
       "data": [
        {
         "hoverinfo": "text+y",
         "marker": {
          "color": "black"
         },
         "mode": "markers",
         "name": "Actual Points - Second Half",
         "text": [
          "Davante Adams | 2019",
          "T.J. Graham | 2013",
          "Keshawn Martin | 2015",
          "Nelson Agholor | 2021",
          "Rishard Matthews | 2014",
          "Keelan Cole | 2018",
          "Brandon Aiyuk | 2022",
          "Keshawn Martin | 2015",
          "Braxton Miller | 2017",
          "Tyler Boyd | 2023",
          "Harry Douglas | 2016",
          "Jerome Simpson | 2013",
          "Robert Meachem | 2014",
          "D.J. Chark | 2023",
          "Darius Slayton | 2021",
          "Louis Murphy | 2014",
          "Cooper Kupp | 2022",
          "Sterling Shepard | 2020",
          "Jarvis Landry | 2017",
          "Tyler Boyd | 2022",
          "Devin Funchess | 2017",
          "Pierre Garcon | 2017",
          "Deebo Samuel | 2023",
          "Tim Patrick | 2021",
          "DeVante Parker | 2016",
          "Mike Williams | 2019",
          "Alex Erickson | 2018",
          "Brian Hartline | 2014",
          "Isaiah Ford | 2021",
          "Scott Miller | 2020",
          "Cooper Kupp | 2018",
          "Emmanuel Sanders | 2019",
          "Rishard Matthews | 2017",
          "Mohamed Sanu | 2014",
          "Jordan Matthews | 2016",
          "Rashard Higgins | 2018",
          "Aldrick Robinson | 2018",
          "Alshon Jeffery | 2018",
          "Chris Godwin | 2021",
          "Demaryius Thomas | 2017",
          "Jamison Crowder | 2018",
          "Marquez Valdes-Scantling | 2019",
          "Darnell Mooney | 2022",
          "Julio Jones | 2015",
          "Mike Williams | 2013",
          "Mecole Hardman | 2020",
          "Rueben Randle | 2014",
          "Romeo Doubs | 2023",
          "Nelson Agholor | 2016",
          "Calvin Johnson | 2015",
          "Michael Crabtree | 2015",
          "Parris Campbell | 2022",
          "Larry Fitzgerald | 2018",
          "Danny Amendola | 2015",
          "DeVante Parker | 2021",
          "Jason Avant | 2015",
          "Jarvis Landry | 2015",
          "Dez Bryant | 2015",
          "Kenny Stills | 2019",
          "T.Y. Hilton | 2016",
          "Justin Hardy | 2016",
          "A.J. Green | 2022",
          "Isaiah Ford | 2020",
          "Marcus Johnson | 2021",
          "DeVante Parker | 2018",
          "Noah Brown | 2022",
          "Tyler Lockett | 2020",
          "Chris Conley | 2019",
          "Marvin Jones | 2019",
          "K.J. Osborn | 2023",
          "Mohamed Sanu | 2019",
          "Julio Jones | 2016",
          "Brian Quick | 2014",
          "Dwayne Bowe | 2013",
          "Brian Quick | 2016",
          "Phillip Dorsett | 2018",
          "Chester Rogers | 2018",
          "Elijah Moore | 2022",
          "DeAndre Hopkins | 2022",
          "Dontrelle Inman | 2020",
          "Jakeem Grant | 2021",
          "Tyler Lockett | 2018",
          "Richie James | 2023",
          "Sterling Shepard | 2017",
          "Cody Latimer | 2017",
          "Allen Robinson | 2023",
          "Cedrick Wilson | 2022",
          "Steven Sims | 2020",
          "Jerry Jeudy | 2021",
          "Pierre Garcon | 2018",
          "Davante Adams | 2018",
          "Mike Evans | 2021",
          "D.J. Moore | 2021",
          "Freddie Swain | 2021",
          "Isaiah Hodgins | 2023",
          "Cordarrelle Patterson | 2018",
          "T.Y. Hilton | 2021",
          "Cordarrelle Patterson | 2017",
          "Odell Beckham | 2016",
          "Mike Williams | 2022",
          "Gabe Davis | 2022",
          "Stefon Diggs | 2020",
          "Courtland Sutton | 2023"
         ],
         "type": "scatter",
         "x": [
          102,
          103,
          104,
          105,
          106,
          107,
          108,
          109,
          110,
          111,
          112,
          113,
          114,
          115,
          116,
          117,
          118,
          119,
          120,
          121,
          122,
          123,
          124,
          125,
          126,
          127,
          128,
          129,
          130,
          131,
          132,
          133,
          134,
          135,
          136,
          137,
          138,
          139,
          140,
          141,
          142,
          143,
          144,
          145,
          146,
          147,
          148,
          149,
          150,
          151,
          152,
          153,
          154,
          155,
          156,
          157,
          158,
          159,
          160,
          161,
          162,
          163,
          164,
          165,
          166,
          167,
          168,
          169,
          170,
          171,
          172,
          173,
          174,
          175,
          176,
          177,
          178,
          179,
          180,
          181,
          182,
          183,
          184,
          185,
          186,
          187,
          188,
          189,
          190,
          191,
          192,
          193,
          194,
          195,
          196,
          197,
          198,
          199,
          200,
          201,
          202,
          203,
          204
         ],
         "y": [
          212.70000000000002,
          70.5,
          63.5,
          103.4,
          37.8,
          89.1,
          227.8,
          63.5,
          41.300000000000004,
          144.8,
          36,
          126.60000000000001,
          18.4,
          115.5,
          68.60000000000001,
          81,
          201.4,
          162.5,
          260,
          167.12,
          195,
          90,
          243.7,
          156.4,
          154.4,
          161.3,
          38.900000000000006,
          98.4,
          40.1,
          102.5,
          135.1,
          190.3,
          156.20000000000002,
          179.26,
          171.4,
          118.2,
          70.1,
          185.3,
          242.4,
          205.9,
          82.80000000000001,
          84.1,
          101.5,
          369.1,
          55.6,
          130.1,
          182.8,
          174.4,
          87.9,
          263.4,
          231.20000000000002,
          149.1,
          185.68,
          150.34,
          103.5,
          26.900000000000002,
          275.36,
          89.1,
          120.1,
          273.8,
          65.3,
          61.6,
          55.6,
          24.799999999999997,
          60.9,
          114.5,
          265.4,
          156.5,
          193.9,
          120,
          124.10000000000001,
          259.90000000000003,
          80.5,
          154.3,
          115.4,
          81.9,
          117.1,
          88.1,
          151.7,
          46.300000000000004,
          43.5,
          222.4,
          21.400000000000002,
          144.5,
          61.7,
          62,
          26.400000000000002,
          61.300000000000004,
          85,
          58.599999999999994,
          329.6,
          262.5,
          237.5,
          86.5,
          60,
          98.5,
          74.10000000000001,
          86,
          296.6,
          176.5,
          171.6,
          328.6,
          190.20000000000002
         ]
        },
        {
         "hoverinfo": "text+y",
         "marker": {
          "color": [
           "green",
           "blue",
           "green",
           "green",
           "green",
           "green",
           "green",
           "green",
           "green",
           "green",
           "green",
           "blue",
           "green",
           "green",
           "green",
           "green",
           "green",
           "blue",
           "red",
           "green",
           "blue",
           "blue",
           "red",
           "green",
           "green",
           "red",
           "green",
           "blue",
           "green",
           "green",
           "blue",
           "green",
           "blue",
           "green",
           "green",
           "green",
           "blue",
           "green",
           "green",
           "green",
           "green",
           "green",
           "green",
           "green",
           "green",
           "green",
           "green",
           "blue",
           "green",
           "blue",
           "blue",
           "green",
           "blue",
           "blue",
           "green",
           "green",
           "blue",
           "green",
           "green",
           "blue",
           "blue",
           "green",
           "green",
           "green",
           "green",
           "green",
           "red",
           "green",
           "blue",
           "green",
           "green",
           "red",
           "green",
           "green",
           "green",
           "blue",
           "blue",
           "green",
           "green",
           "green",
           "green",
           "blue",
           "blue",
           "green",
           "green",
           "blue",
           "green",
           "green",
           "blue",
           "green",
           "blue",
           "red",
           "green",
           "green",
           "green",
           "red",
           "green",
           "green",
           "green",
           "blue",
           "green",
           "green",
           "blue"
          ]
         },
         "mode": "markers",
         "name": "Predicted Points - Second Half",
         "text": [
          "Davante Adams | 2019",
          "T.J. Graham | 2013",
          "Keshawn Martin | 2015",
          "Nelson Agholor | 2021",
          "Rishard Matthews | 2014",
          "Keelan Cole | 2018",
          "Brandon Aiyuk | 2022",
          "Keshawn Martin | 2015",
          "Braxton Miller | 2017",
          "Tyler Boyd | 2023",
          "Harry Douglas | 2016",
          "Jerome Simpson | 2013",
          "Robert Meachem | 2014",
          "D.J. Chark | 2023",
          "Darius Slayton | 2021",
          "Louis Murphy | 2014",
          "Cooper Kupp | 2022",
          "Sterling Shepard | 2020",
          "Jarvis Landry | 2017",
          "Tyler Boyd | 2022",
          "Devin Funchess | 2017",
          "Pierre Garcon | 2017",
          "Deebo Samuel | 2023",
          "Tim Patrick | 2021",
          "DeVante Parker | 2016",
          "Mike Williams | 2019",
          "Alex Erickson | 2018",
          "Brian Hartline | 2014",
          "Isaiah Ford | 2021",
          "Scott Miller | 2020",
          "Cooper Kupp | 2018",
          "Emmanuel Sanders | 2019",
          "Rishard Matthews | 2017",
          "Mohamed Sanu | 2014",
          "Jordan Matthews | 2016",
          "Rashard Higgins | 2018",
          "Aldrick Robinson | 2018",
          "Alshon Jeffery | 2018",
          "Chris Godwin | 2021",
          "Demaryius Thomas | 2017",
          "Jamison Crowder | 2018",
          "Marquez Valdes-Scantling | 2019",
          "Darnell Mooney | 2022",
          "Julio Jones | 2015",
          "Mike Williams | 2013",
          "Mecole Hardman | 2020",
          "Rueben Randle | 2014",
          "Romeo Doubs | 2023",
          "Nelson Agholor | 2016",
          "Calvin Johnson | 2015",
          "Michael Crabtree | 2015",
          "Parris Campbell | 2022",
          "Larry Fitzgerald | 2018",
          "Danny Amendola | 2015",
          "DeVante Parker | 2021",
          "Jason Avant | 2015",
          "Jarvis Landry | 2015",
          "Dez Bryant | 2015",
          "Kenny Stills | 2019",
          "T.Y. Hilton | 2016",
          "Justin Hardy | 2016",
          "A.J. Green | 2022",
          "Isaiah Ford | 2020",
          "Marcus Johnson | 2021",
          "DeVante Parker | 2018",
          "Noah Brown | 2022",
          "Tyler Lockett | 2020",
          "Chris Conley | 2019",
          "Marvin Jones | 2019",
          "K.J. Osborn | 2023",
          "Mohamed Sanu | 2019",
          "Julio Jones | 2016",
          "Brian Quick | 2014",
          "Dwayne Bowe | 2013",
          "Brian Quick | 2016",
          "Phillip Dorsett | 2018",
          "Chester Rogers | 2018",
          "Elijah Moore | 2022",
          "DeAndre Hopkins | 2022",
          "Dontrelle Inman | 2020",
          "Jakeem Grant | 2021",
          "Tyler Lockett | 2018",
          "Richie James | 2023",
          "Sterling Shepard | 2017",
          "Cody Latimer | 2017",
          "Allen Robinson | 2023",
          "Cedrick Wilson | 2022",
          "Steven Sims | 2020",
          "Jerry Jeudy | 2021",
          "Pierre Garcon | 2018",
          "Davante Adams | 2018",
          "Mike Evans | 2021",
          "D.J. Moore | 2021",
          "Freddie Swain | 2021",
          "Isaiah Hodgins | 2023",
          "Cordarrelle Patterson | 2018",
          "T.Y. Hilton | 2021",
          "Cordarrelle Patterson | 2017",
          "Odell Beckham | 2016",
          "Mike Williams | 2022",
          "Gabe Davis | 2022",
          "Stefon Diggs | 2020",
          "Courtland Sutton | 2023"
         ],
         "type": "scatter",
         "x": [
          102,
          103,
          104,
          105,
          106,
          107,
          108,
          109,
          110,
          111,
          112,
          113,
          114,
          115,
          116,
          117,
          118,
          119,
          120,
          121,
          122,
          123,
          124,
          125,
          126,
          127,
          128,
          129,
          130,
          131,
          132,
          133,
          134,
          135,
          136,
          137,
          138,
          139,
          140,
          141,
          142,
          143,
          144,
          145,
          146,
          147,
          148,
          149,
          150,
          151,
          152,
          153,
          154,
          155,
          156,
          157,
          158,
          159,
          160,
          161,
          162,
          163,
          164,
          165,
          166,
          167,
          168,
          169,
          170,
          171,
          172,
          173,
          174,
          175,
          176,
          177,
          178,
          179,
          180,
          181,
          182,
          183,
          184,
          185,
          186,
          187,
          188,
          189,
          190,
          191,
          192,
          193,
          194,
          195,
          196,
          197,
          198,
          199,
          200,
          201,
          202,
          203,
          204
         ],
         "y": [
          223.07365,
          95.173515,
          60.830517,
          108.760826,
          32.842987,
          100.138405,
          216.87418,
          60.830517,
          39.924576,
          150.13731,
          47.551537,
          143.73926,
          32.38992,
          111.14937,
          73.29174,
          78.158745,
          206.9741,
          139.43338,
          224.11221,
          174.96686,
          167.8444,
          109.29982,
          205.30582,
          157.52615,
          155.04652,
          201.33792,
          37.575874,
          115.95488,
          43.565105,
          101.695694,
          116.3221,
          197.02368,
          173.52853,
          179.97176,
          180.4572,
          119.55712,
          48.144608,
          187.48233,
          247.78006,
          201.67549,
          88.57484,
          95.49693,
          110.316895,
          366.90137,
          55.4639,
          116.21657,
          193.21574,
          151.40483,
          100.90805,
          244.38063,
          207.83507,
          144.18457,
          166.65323,
          131.12921,
          110.79953,
          31.077507,
          246.55328,
          95.03924,
          122.4158,
          300.95166,
          42.18922,
          62.035114,
          60.209957,
          35.008156,
          68.396065,
          128.18396,
          232.44527,
          162.90138,
          170.70598,
          126.20864,
          125.90868,
          308.2704,
          80.35043,
          153.77975,
          117.12262,
          63.456398,
          99.9061,
          99.59017,
          159.63162,
          37.094917,
          39.40106,
          202.6976,
          38.878376,
          159.46783,
          61.05419,
          87.56119,
          41.12432,
          62.120228,
          103.7309,
          68.33322,
          301.68735,
          220.49042,
          246.21077,
          72.71111,
          53.040268,
          55.768738,
          77.502625,
          83.57764,
          309.08133,
          195.19405,
          174.2705,
          315.07385,
          169.27103
         ]
        }
       ],
       "layout": {
        "autosize": true,
        "hovermode": "closest",
        "template": {
         "data": {
          "bar": [
           {
            "error_x": {
             "color": "#2a3f5f"
            },
            "error_y": {
             "color": "#2a3f5f"
            },
            "marker": {
             "line": {
              "color": "#E5ECF6",
              "width": 0.5
             },
             "pattern": {
              "fillmode": "overlay",
              "size": 10,
              "solidity": 0.2
             }
            },
            "type": "bar"
           }
          ],
          "barpolar": [
           {
            "marker": {
             "line": {
              "color": "#E5ECF6",
              "width": 0.5
             },
             "pattern": {
              "fillmode": "overlay",
              "size": 10,
              "solidity": 0.2
             }
            },
            "type": "barpolar"
           }
          ],
          "carpet": [
           {
            "aaxis": {
             "endlinecolor": "#2a3f5f",
             "gridcolor": "white",
             "linecolor": "white",
             "minorgridcolor": "white",
             "startlinecolor": "#2a3f5f"
            },
            "baxis": {
             "endlinecolor": "#2a3f5f",
             "gridcolor": "white",
             "linecolor": "white",
             "minorgridcolor": "white",
             "startlinecolor": "#2a3f5f"
            },
            "type": "carpet"
           }
          ],
          "choropleth": [
           {
            "colorbar": {
             "outlinewidth": 0,
             "ticks": ""
            },
            "type": "choropleth"
           }
          ],
          "contour": [
           {
            "colorbar": {
             "outlinewidth": 0,
             "ticks": ""
            },
            "colorscale": [
             [
              0,
              "#0d0887"
             ],
             [
              0.1111111111111111,
              "#46039f"
             ],
             [
              0.2222222222222222,
              "#7201a8"
             ],
             [
              0.3333333333333333,
              "#9c179e"
             ],
             [
              0.4444444444444444,
              "#bd3786"
             ],
             [
              0.5555555555555556,
              "#d8576b"
             ],
             [
              0.6666666666666666,
              "#ed7953"
             ],
             [
              0.7777777777777778,
              "#fb9f3a"
             ],
             [
              0.8888888888888888,
              "#fdca26"
             ],
             [
              1,
              "#f0f921"
             ]
            ],
            "type": "contour"
           }
          ],
          "contourcarpet": [
           {
            "colorbar": {
             "outlinewidth": 0,
             "ticks": ""
            },
            "type": "contourcarpet"
           }
          ],
          "heatmap": [
           {
            "colorbar": {
             "outlinewidth": 0,
             "ticks": ""
            },
            "colorscale": [
             [
              0,
              "#0d0887"
             ],
             [
              0.1111111111111111,
              "#46039f"
             ],
             [
              0.2222222222222222,
              "#7201a8"
             ],
             [
              0.3333333333333333,
              "#9c179e"
             ],
             [
              0.4444444444444444,
              "#bd3786"
             ],
             [
              0.5555555555555556,
              "#d8576b"
             ],
             [
              0.6666666666666666,
              "#ed7953"
             ],
             [
              0.7777777777777778,
              "#fb9f3a"
             ],
             [
              0.8888888888888888,
              "#fdca26"
             ],
             [
              1,
              "#f0f921"
             ]
            ],
            "type": "heatmap"
           }
          ],
          "heatmapgl": [
           {
            "colorbar": {
             "outlinewidth": 0,
             "ticks": ""
            },
            "colorscale": [
             [
              0,
              "#0d0887"
             ],
             [
              0.1111111111111111,
              "#46039f"
             ],
             [
              0.2222222222222222,
              "#7201a8"
             ],
             [
              0.3333333333333333,
              "#9c179e"
             ],
             [
              0.4444444444444444,
              "#bd3786"
             ],
             [
              0.5555555555555556,
              "#d8576b"
             ],
             [
              0.6666666666666666,
              "#ed7953"
             ],
             [
              0.7777777777777778,
              "#fb9f3a"
             ],
             [
              0.8888888888888888,
              "#fdca26"
             ],
             [
              1,
              "#f0f921"
             ]
            ],
            "type": "heatmapgl"
           }
          ],
          "histogram": [
           {
            "marker": {
             "pattern": {
              "fillmode": "overlay",
              "size": 10,
              "solidity": 0.2
             }
            },
            "type": "histogram"
           }
          ],
          "histogram2d": [
           {
            "colorbar": {
             "outlinewidth": 0,
             "ticks": ""
            },
            "colorscale": [
             [
              0,
              "#0d0887"
             ],
             [
              0.1111111111111111,
              "#46039f"
             ],
             [
              0.2222222222222222,
              "#7201a8"
             ],
             [
              0.3333333333333333,
              "#9c179e"
             ],
             [
              0.4444444444444444,
              "#bd3786"
             ],
             [
              0.5555555555555556,
              "#d8576b"
             ],
             [
              0.6666666666666666,
              "#ed7953"
             ],
             [
              0.7777777777777778,
              "#fb9f3a"
             ],
             [
              0.8888888888888888,
              "#fdca26"
             ],
             [
              1,
              "#f0f921"
             ]
            ],
            "type": "histogram2d"
           }
          ],
          "histogram2dcontour": [
           {
            "colorbar": {
             "outlinewidth": 0,
             "ticks": ""
            },
            "colorscale": [
             [
              0,
              "#0d0887"
             ],
             [
              0.1111111111111111,
              "#46039f"
             ],
             [
              0.2222222222222222,
              "#7201a8"
             ],
             [
              0.3333333333333333,
              "#9c179e"
             ],
             [
              0.4444444444444444,
              "#bd3786"
             ],
             [
              0.5555555555555556,
              "#d8576b"
             ],
             [
              0.6666666666666666,
              "#ed7953"
             ],
             [
              0.7777777777777778,
              "#fb9f3a"
             ],
             [
              0.8888888888888888,
              "#fdca26"
             ],
             [
              1,
              "#f0f921"
             ]
            ],
            "type": "histogram2dcontour"
           }
          ],
          "mesh3d": [
           {
            "colorbar": {
             "outlinewidth": 0,
             "ticks": ""
            },
            "type": "mesh3d"
           }
          ],
          "parcoords": [
           {
            "line": {
             "colorbar": {
              "outlinewidth": 0,
              "ticks": ""
             }
            },
            "type": "parcoords"
           }
          ],
          "pie": [
           {
            "automargin": true,
            "type": "pie"
           }
          ],
          "scatter": [
           {
            "fillpattern": {
             "fillmode": "overlay",
             "size": 10,
             "solidity": 0.2
            },
            "type": "scatter"
           }
          ],
          "scatter3d": [
           {
            "line": {
             "colorbar": {
              "outlinewidth": 0,
              "ticks": ""
             }
            },
            "marker": {
             "colorbar": {
              "outlinewidth": 0,
              "ticks": ""
             }
            },
            "type": "scatter3d"
           }
          ],
          "scattercarpet": [
           {
            "marker": {
             "colorbar": {
              "outlinewidth": 0,
              "ticks": ""
             }
            },
            "type": "scattercarpet"
           }
          ],
          "scattergeo": [
           {
            "marker": {
             "colorbar": {
              "outlinewidth": 0,
              "ticks": ""
             }
            },
            "type": "scattergeo"
           }
          ],
          "scattergl": [
           {
            "marker": {
             "colorbar": {
              "outlinewidth": 0,
              "ticks": ""
             }
            },
            "type": "scattergl"
           }
          ],
          "scattermapbox": [
           {
            "marker": {
             "colorbar": {
              "outlinewidth": 0,
              "ticks": ""
             }
            },
            "type": "scattermapbox"
           }
          ],
          "scatterpolar": [
           {
            "marker": {
             "colorbar": {
              "outlinewidth": 0,
              "ticks": ""
             }
            },
            "type": "scatterpolar"
           }
          ],
          "scatterpolargl": [
           {
            "marker": {
             "colorbar": {
              "outlinewidth": 0,
              "ticks": ""
             }
            },
            "type": "scatterpolargl"
           }
          ],
          "scatterternary": [
           {
            "marker": {
             "colorbar": {
              "outlinewidth": 0,
              "ticks": ""
             }
            },
            "type": "scatterternary"
           }
          ],
          "surface": [
           {
            "colorbar": {
             "outlinewidth": 0,
             "ticks": ""
            },
            "colorscale": [
             [
              0,
              "#0d0887"
             ],
             [
              0.1111111111111111,
              "#46039f"
             ],
             [
              0.2222222222222222,
              "#7201a8"
             ],
             [
              0.3333333333333333,
              "#9c179e"
             ],
             [
              0.4444444444444444,
              "#bd3786"
             ],
             [
              0.5555555555555556,
              "#d8576b"
             ],
             [
              0.6666666666666666,
              "#ed7953"
             ],
             [
              0.7777777777777778,
              "#fb9f3a"
             ],
             [
              0.8888888888888888,
              "#fdca26"
             ],
             [
              1,
              "#f0f921"
             ]
            ],
            "type": "surface"
           }
          ],
          "table": [
           {
            "cells": {
             "fill": {
              "color": "#EBF0F8"
             },
             "line": {
              "color": "white"
             }
            },
            "header": {
             "fill": {
              "color": "#C8D4E3"
             },
             "line": {
              "color": "white"
             }
            },
            "type": "table"
           }
          ]
         },
         "layout": {
          "annotationdefaults": {
           "arrowcolor": "#2a3f5f",
           "arrowhead": 0,
           "arrowwidth": 1
          },
          "autotypenumbers": "strict",
          "coloraxis": {
           "colorbar": {
            "outlinewidth": 0,
            "ticks": ""
           }
          },
          "colorscale": {
           "diverging": [
            [
             0,
             "#8e0152"
            ],
            [
             0.1,
             "#c51b7d"
            ],
            [
             0.2,
             "#de77ae"
            ],
            [
             0.3,
             "#f1b6da"
            ],
            [
             0.4,
             "#fde0ef"
            ],
            [
             0.5,
             "#f7f7f7"
            ],
            [
             0.6,
             "#e6f5d0"
            ],
            [
             0.7,
             "#b8e186"
            ],
            [
             0.8,
             "#7fbc41"
            ],
            [
             0.9,
             "#4d9221"
            ],
            [
             1,
             "#276419"
            ]
           ],
           "sequential": [
            [
             0,
             "#0d0887"
            ],
            [
             0.1111111111111111,
             "#46039f"
            ],
            [
             0.2222222222222222,
             "#7201a8"
            ],
            [
             0.3333333333333333,
             "#9c179e"
            ],
            [
             0.4444444444444444,
             "#bd3786"
            ],
            [
             0.5555555555555556,
             "#d8576b"
            ],
            [
             0.6666666666666666,
             "#ed7953"
            ],
            [
             0.7777777777777778,
             "#fb9f3a"
            ],
            [
             0.8888888888888888,
             "#fdca26"
            ],
            [
             1,
             "#f0f921"
            ]
           ],
           "sequentialminus": [
            [
             0,
             "#0d0887"
            ],
            [
             0.1111111111111111,
             "#46039f"
            ],
            [
             0.2222222222222222,
             "#7201a8"
            ],
            [
             0.3333333333333333,
             "#9c179e"
            ],
            [
             0.4444444444444444,
             "#bd3786"
            ],
            [
             0.5555555555555556,
             "#d8576b"
            ],
            [
             0.6666666666666666,
             "#ed7953"
            ],
            [
             0.7777777777777778,
             "#fb9f3a"
            ],
            [
             0.8888888888888888,
             "#fdca26"
            ],
            [
             1,
             "#f0f921"
            ]
           ]
          },
          "colorway": [
           "#636efa",
           "#EF553B",
           "#00cc96",
           "#ab63fa",
           "#FFA15A",
           "#19d3f3",
           "#FF6692",
           "#B6E880",
           "#FF97FF",
           "#FECB52"
          ],
          "font": {
           "color": "#2a3f5f"
          },
          "geo": {
           "bgcolor": "white",
           "lakecolor": "white",
           "landcolor": "#E5ECF6",
           "showlakes": true,
           "showland": true,
           "subunitcolor": "white"
          },
          "hoverlabel": {
           "align": "left"
          },
          "hovermode": "closest",
          "mapbox": {
           "style": "light"
          },
          "paper_bgcolor": "white",
          "plot_bgcolor": "#E5ECF6",
          "polar": {
           "angularaxis": {
            "gridcolor": "white",
            "linecolor": "white",
            "ticks": ""
           },
           "bgcolor": "#E5ECF6",
           "radialaxis": {
            "gridcolor": "white",
            "linecolor": "white",
            "ticks": ""
           }
          },
          "scene": {
           "xaxis": {
            "backgroundcolor": "#E5ECF6",
            "gridcolor": "white",
            "gridwidth": 2,
            "linecolor": "white",
            "showbackground": true,
            "ticks": "",
            "zerolinecolor": "white"
           },
           "yaxis": {
            "backgroundcolor": "#E5ECF6",
            "gridcolor": "white",
            "gridwidth": 2,
            "linecolor": "white",
            "showbackground": true,
            "ticks": "",
            "zerolinecolor": "white"
           },
           "zaxis": {
            "backgroundcolor": "#E5ECF6",
            "gridcolor": "white",
            "gridwidth": 2,
            "linecolor": "white",
            "showbackground": true,
            "ticks": "",
            "zerolinecolor": "white"
           }
          },
          "shapedefaults": {
           "line": {
            "color": "#2a3f5f"
           }
          },
          "ternary": {
           "aaxis": {
            "gridcolor": "white",
            "linecolor": "white",
            "ticks": ""
           },
           "baxis": {
            "gridcolor": "white",
            "linecolor": "white",
            "ticks": ""
           },
           "bgcolor": "#E5ECF6",
           "caxis": {
            "gridcolor": "white",
            "linecolor": "white",
            "ticks": ""
           }
          },
          "title": {
           "x": 0.05
          },
          "xaxis": {
           "automargin": true,
           "gridcolor": "white",
           "linecolor": "white",
           "ticks": "",
           "title": {
            "standoff": 15
           },
           "zerolinecolor": "white",
           "zerolinewidth": 2
          },
          "yaxis": {
           "automargin": true,
           "gridcolor": "white",
           "linecolor": "white",
           "ticks": "",
           "title": {
            "standoff": 15
           },
           "zerolinecolor": "white",
           "zerolinewidth": 2
          }
         }
        },
        "title": {
         "text": "Prediction vs Actual Points Comparison: Second Half"
        },
        "xaxis": {
         "autorange": true,
         "range": [
          95.72058823529412,
          210.27941176470588
         ],
         "title": {
          "text": "Index"
         },
         "type": "linear"
        },
        "yaxis": {
         "autorange": true,
         "range": [
          -10.541262135922334,
          398.04126213592235
         ],
         "title": {
          "text": "Points"
         },
         "type": "linear"
        }
       }
      },
      "image/png": "[encoded data removed]",
      "text/html": [
       "<div>                            <div id=\"d1be73af-a593-441b-8ec0-4c81a750a093\" class=\"plotly-graph-div\" style=\"height:525px; width:100%;\"></div>            <script type=\"text/javascript\">                require([\"plotly\"], function(Plotly) {                    window.PLOTLYENV=window.PLOTLYENV || {};                                    if (document.getElementById(\"d1be73af-a593-441b-8ec0-4c81a750a093\")) {                    Plotly.newPlot(                        \"d1be73af-a593-441b-8ec0-4c81a750a093\",                        [{\"hoverinfo\":\"text+y\",\"marker\":{\"color\":\"black\"},\"mode\":\"markers\",\"name\":\"Actual Points - Second Half\",\"text\":[\"Davante Adams | 2019\",\"T.J. Graham | 2013\",\"Keshawn Martin | 2015\",\"Nelson Agholor | 2021\",\"Rishard Matthews | 2014\",\"Keelan Cole | 2018\",\"Brandon Aiyuk | 2022\",\"Keshawn Martin | 2015\",\"Braxton Miller | 2017\",\"Tyler Boyd | 2023\",\"Harry Douglas | 2016\",\"Jerome Simpson | 2013\",\"Robert Meachem | 2014\",\"D.J. Chark | 2023\",\"Darius Slayton | 2021\",\"Louis Murphy | 2014\",\"Cooper Kupp | 2022\",\"Sterling Shepard | 2020\",\"Jarvis Landry | 2017\",\"Tyler Boyd | 2022\",\"Devin Funchess | 2017\",\"Pierre Garcon | 2017\",\"Deebo Samuel | 2023\",\"Tim Patrick | 2021\",\"DeVante Parker | 2016\",\"Mike Williams | 2019\",\"Alex Erickson | 2018\",\"Brian Hartline | 2014\",\"Isaiah Ford | 2021\",\"Scott Miller | 2020\",\"Cooper Kupp | 2018\",\"Emmanuel Sanders | 2019\",\"Rishard Matthews | 2017\",\"Mohamed Sanu | 2014\",\"Jordan Matthews | 2016\",\"Rashard Higgins | 2018\",\"Aldrick Robinson | 2018\",\"Alshon Jeffery | 2018\",\"Chris Godwin | 2021\",\"Demaryius Thomas | 2017\",\"Jamison Crowder | 2018\",\"Marquez Valdes-Scantling | 2019\",\"Darnell Mooney | 2022\",\"Julio Jones | 2015\",\"Mike Williams | 2013\",\"Mecole Hardman | 2020\",\"Rueben Randle | 2014\",\"Romeo Doubs | 2023\",\"Nelson Agholor | 2016\",\"Calvin Johnson | 2015\",\"Michael Crabtree | 2015\",\"Parris Campbell | 2022\",\"Larry Fitzgerald | 2018\",\"Danny Amendola | 2015\",\"DeVante Parker | 2021\",\"Jason Avant | 2015\",\"Jarvis Landry | 2015\",\"Dez Bryant | 2015\",\"Kenny Stills | 2019\",\"T.Y. Hilton | 2016\",\"Justin Hardy | 2016\",\"A.J. Green | 2022\",\"Isaiah Ford | 2020\",\"Marcus Johnson | 2021\",\"DeVante Parker | 2018\",\"Noah Brown | 2022\",\"Tyler Lockett | 2020\",\"Chris Conley | 2019\",\"Marvin Jones | 2019\",\"K.J. Osborn | 2023\",\"Mohamed Sanu | 2019\",\"Julio Jones | 2016\",\"Brian Quick | 2014\",\"Dwayne Bowe | 2013\",\"Brian Quick | 2016\",\"Phillip Dorsett | 2018\",\"Chester Rogers | 2018\",\"Elijah Moore | 2022\",\"DeAndre Hopkins | 2022\",\"Dontrelle Inman | 2020\",\"Jakeem Grant | 2021\",\"Tyler Lockett | 2018\",\"Richie James | 2023\",\"Sterling Shepard | 2017\",\"Cody Latimer | 2017\",\"Allen Robinson | 2023\",\"Cedrick Wilson | 2022\",\"Steven Sims | 2020\",\"Jerry Jeudy | 2021\",\"Pierre Garcon | 2018\",\"Davante Adams | 2018\",\"Mike Evans | 2021\",\"D.J. Moore | 2021\",\"Freddie Swain | 2021\",\"Isaiah Hodgins | 2023\",\"Cordarrelle Patterson | 2018\",\"T.Y. Hilton | 2021\",\"Cordarrelle Patterson | 2017\",\"Odell Beckham | 2016\",\"Mike Williams | 2022\",\"Gabe Davis | 2022\",\"Stefon Diggs | 2020\",\"Courtland Sutton | 2023\"],\"x\":[102,103,104,105,106,107,108,109,110,111,112,113,114,115,116,117,118,119,120,121,122,123,124,125,126,127,128,129,130,131,132,133,134,135,136,137,138,139,140,141,142,143,144,145,146,147,148,149,150,151,152,153,154,155,156,157,158,159,160,161,162,163,164,165,166,167,168,169,170,171,172,173,174,175,176,177,178,179,180,181,182,183,184,185,186,187,188,189,190,191,192,193,194,195,196,197,198,199,200,201,202,203,204],\"y\":[212.70000000000002,70.5,63.5,103.4,37.8,89.1,227.8,63.5,41.300000000000004,144.8,36.0,126.60000000000001,18.4,115.5,68.60000000000001,81.0,201.4,162.5,260.0,167.12,195.0,90.0,243.7,156.4,154.4,161.3,38.900000000000006,98.4,40.1,102.5,135.1,190.3,156.20000000000002,179.26,171.4,118.2,70.1,185.3,242.4,205.9,82.80000000000001,84.1,101.5,369.1,55.6,130.1,182.8,174.4,87.9,263.4,231.20000000000002,149.1,185.68,150.34,103.5,26.900000000000002,275.36,89.1,120.1,273.8,65.3,61.6,55.6,24.799999999999997,60.9,114.5,265.4,156.5,193.9,120.0,124.10000000000001,259.90000000000003,80.5,154.3,115.4,81.9,117.1,88.1,151.7,46.300000000000004,43.5,222.4,21.400000000000002,144.5,61.7,62.0,26.400000000000002,61.300000000000004,85.0,58.599999999999994,329.6,262.5,237.5,86.5,60.0,98.5,74.10000000000001,86.0,296.6,176.5,171.6,328.6,190.20000000000002],\"type\":\"scatter\"},{\"hoverinfo\":\"text+y\",\"marker\":{\"color\":[\"green\",\"blue\",\"green\",\"green\",\"green\",\"green\",\"green\",\"green\",\"green\",\"green\",\"green\",\"blue\",\"green\",\"green\",\"green\",\"green\",\"green\",\"blue\",\"red\",\"green\",\"blue\",\"blue\",\"red\",\"green\",\"green\",\"red\",\"green\",\"blue\",\"green\",\"green\",\"blue\",\"green\",\"blue\",\"green\",\"green\",\"green\",\"blue\",\"green\",\"green\",\"green\",\"green\",\"green\",\"green\",\"green\",\"green\",\"green\",\"green\",\"blue\",\"green\",\"blue\",\"blue\",\"green\",\"blue\",\"blue\",\"green\",\"green\",\"blue\",\"green\",\"green\",\"blue\",\"blue\",\"green\",\"green\",\"green\",\"green\",\"green\",\"red\",\"green\",\"blue\",\"green\",\"green\",\"red\",\"green\",\"green\",\"green\",\"blue\",\"blue\",\"green\",\"green\",\"green\",\"green\",\"blue\",\"blue\",\"green\",\"green\",\"blue\",\"green\",\"green\",\"blue\",\"green\",\"blue\",\"red\",\"green\",\"green\",\"green\",\"red\",\"green\",\"green\",\"green\",\"blue\",\"green\",\"green\",\"blue\"]},\"mode\":\"markers\",\"name\":\"Predicted Points - Second Half\",\"text\":[\"Davante Adams | 2019\",\"T.J. Graham | 2013\",\"Keshawn Martin | 2015\",\"Nelson Agholor | 2021\",\"Rishard Matthews | 2014\",\"Keelan Cole | 2018\",\"Brandon Aiyuk | 2022\",\"Keshawn Martin | 2015\",\"Braxton Miller | 2017\",\"Tyler Boyd | 2023\",\"Harry Douglas | 2016\",\"Jerome Simpson | 2013\",\"Robert Meachem | 2014\",\"D.J. Chark | 2023\",\"Darius Slayton | 2021\",\"Louis Murphy | 2014\",\"Cooper Kupp | 2022\",\"Sterling Shepard | 2020\",\"Jarvis Landry | 2017\",\"Tyler Boyd | 2022\",\"Devin Funchess | 2017\",\"Pierre Garcon | 2017\",\"Deebo Samuel | 2023\",\"Tim Patrick | 2021\",\"DeVante Parker | 2016\",\"Mike Williams | 2019\",\"Alex Erickson | 2018\",\"Brian Hartline | 2014\",\"Isaiah Ford | 2021\",\"Scott Miller | 2020\",\"Cooper Kupp | 2018\",\"Emmanuel Sanders | 2019\",\"Rishard Matthews | 2017\",\"Mohamed Sanu | 2014\",\"Jordan Matthews | 2016\",\"Rashard Higgins | 2018\",\"Aldrick Robinson | 2018\",\"Alshon Jeffery | 2018\",\"Chris Godwin | 2021\",\"Demaryius Thomas | 2017\",\"Jamison Crowder | 2018\",\"Marquez Valdes-Scantling | 2019\",\"Darnell Mooney | 2022\",\"Julio Jones | 2015\",\"Mike Williams | 2013\",\"Mecole Hardman | 2020\",\"Rueben Randle | 2014\",\"Romeo Doubs | 2023\",\"Nelson Agholor | 2016\",\"Calvin Johnson | 2015\",\"Michael Crabtree | 2015\",\"Parris Campbell | 2022\",\"Larry Fitzgerald | 2018\",\"Danny Amendola | 2015\",\"DeVante Parker | 2021\",\"Jason Avant | 2015\",\"Jarvis Landry | 2015\",\"Dez Bryant | 2015\",\"Kenny Stills | 2019\",\"T.Y. Hilton | 2016\",\"Justin Hardy | 2016\",\"A.J. Green | 2022\",\"Isaiah Ford | 2020\",\"Marcus Johnson | 2021\",\"DeVante Parker | 2018\",\"Noah Brown | 2022\",\"Tyler Lockett | 2020\",\"Chris Conley | 2019\",\"Marvin Jones | 2019\",\"K.J. Osborn | 2023\",\"Mohamed Sanu | 2019\",\"Julio Jones | 2016\",\"Brian Quick | 2014\",\"Dwayne Bowe | 2013\",\"Brian Quick | 2016\",\"Phillip Dorsett | 2018\",\"Chester Rogers | 2018\",\"Elijah Moore | 2022\",\"DeAndre Hopkins | 2022\",\"Dontrelle Inman | 2020\",\"Jakeem Grant | 2021\",\"Tyler Lockett | 2018\",\"Richie James | 2023\",\"Sterling Shepard | 2017\",\"Cody Latimer | 2017\",\"Allen Robinson | 2023\",\"Cedrick Wilson | 2022\",\"Steven Sims | 2020\",\"Jerry Jeudy | 2021\",\"Pierre Garcon | 2018\",\"Davante Adams | 2018\",\"Mike Evans | 2021\",\"D.J. Moore | 2021\",\"Freddie Swain | 2021\",\"Isaiah Hodgins | 2023\",\"Cordarrelle Patterson | 2018\",\"T.Y. Hilton | 2021\",\"Cordarrelle Patterson | 2017\",\"Odell Beckham | 2016\",\"Mike Williams | 2022\",\"Gabe Davis | 2022\",\"Stefon Diggs | 2020\",\"Courtland Sutton | 2023\"],\"x\":[102,103,104,105,106,107,108,109,110,111,112,113,114,115,116,117,118,119,120,121,122,123,124,125,126,127,128,129,130,131,132,133,134,135,136,137,138,139,140,141,142,143,144,145,146,147,148,149,150,151,152,153,154,155,156,157,158,159,160,161,162,163,164,165,166,167,168,169,170,171,172,173,174,175,176,177,178,179,180,181,182,183,184,185,186,187,188,189,190,191,192,193,194,195,196,197,198,199,200,201,202,203,204],\"y\":[223.07365,95.173515,60.830517,108.760826,32.842987,100.138405,216.87418,60.830517,39.924576,150.13731,47.551537,143.73926,32.38992,111.14937,73.29174,78.158745,206.9741,139.43338,224.11221,174.96686,167.8444,109.29982,205.30582,157.52615,155.04652,201.33792,37.575874,115.95488,43.565105,101.695694,116.3221,197.02368,173.52853,179.97176,180.4572,119.55712,48.144608,187.48233,247.78006,201.67549,88.57484,95.49693,110.316895,366.90137,55.4639,116.21657,193.21574,151.40483,100.90805,244.38063,207.83507,144.18457,166.65323,131.12921,110.79953,31.077507,246.55328,95.03924,122.4158,300.95166,42.18922,62.035114,60.209957,35.008156,68.396065,128.18396,232.44527,162.90138,170.70598,126.20864,125.90868,308.2704,80.35043,153.77975,117.12262,63.456398,99.9061,99.59017,159.63162,37.094917,39.40106,202.6976,38.878376,159.46783,61.05419,87.56119,41.12432,62.120228,103.7309,68.33322,301.68735,220.49042,246.21077,72.71111,53.040268,55.768738,77.502625,83.57764,309.08133,195.19405,174.2705,315.07385,169.27103],\"type\":\"scatter\"}],                        {\"template\":{\"data\":{\"histogram2dcontour\":[{\"type\":\"histogram2dcontour\",\"colorbar\":{\"outlinewidth\":0,\"ticks\":\"\"},\"colorscale\":[[0.0,\"#0d0887\"],[0.1111111111111111,\"#46039f\"],[0.2222222222222222,\"#7201a8\"],[0.3333333333333333,\"#9c179e\"],[0.4444444444444444,\"#bd3786\"],[0.5555555555555556,\"#d8576b\"],[0.6666666666666666,\"#ed7953\"],[0.7777777777777778,\"#fb9f3a\"],[0.8888888888888888,\"#fdca26\"],[1.0,\"#f0f921\"]]}],\"choropleth\":[{\"type\":\"choropleth\",\"colorbar\":{\"outlinewidth\":0,\"ticks\":\"\"}}],\"histogram2d\":[{\"type\":\"histogram2d\",\"colorbar\":{\"outlinewidth\":0,\"ticks\":\"\"},\"colorscale\":[[0.0,\"#0d0887\"],[0.1111111111111111,\"#46039f\"],[0.2222222222222222,\"#7201a8\"],[0.3333333333333333,\"#9c179e\"],[0.4444444444444444,\"#bd3786\"],[0.5555555555555556,\"#d8576b\"],[0.6666666666666666,\"#ed7953\"],[0.7777777777777778,\"#fb9f3a\"],[0.8888888888888888,\"#fdca26\"],[1.0,\"#f0f921\"]]}],\"heatmap\":[{\"type\":\"heatmap\",\"colorbar\":{\"outlinewidth\":0,\"ticks\":\"\"},\"colorscale\":[[0.0,\"#0d0887\"],[0.1111111111111111,\"#46039f\"],[0.2222222222222222,\"#7201a8\"],[0.3333333333333333,\"#9c179e\"],[0.4444444444444444,\"#bd3786\"],[0.5555555555555556,\"#d8576b\"],[0.6666666666666666,\"#ed7953\"],[0.7777777777777778,\"#fb9f3a\"],[0.8888888888888888,\"#fdca26\"],[1.0,\"#f0f921\"]]}],\"heatmapgl\":[{\"type\":\"heatmapgl\",\"colorbar\":{\"outlinewidth\":0,\"ticks\":\"\"},\"colorscale\":[[0.0,\"#0d0887\"],[0.1111111111111111,\"#46039f\"],[0.2222222222222222,\"#7201a8\"],[0.3333333333333333,\"#9c179e\"],[0.4444444444444444,\"#bd3786\"],[0.5555555555555556,\"#d8576b\"],[0.6666666666666666,\"#ed7953\"],[0.7777777777777778,\"#fb9f3a\"],[0.8888888888888888,\"#fdca26\"],[1.0,\"#f0f921\"]]}],\"contourcarpet\":[{\"type\":\"contourcarpet\",\"colorbar\":{\"outlinewidth\":0,\"ticks\":\"\"}}],\"contour\":[{\"type\":\"contour\",\"colorbar\":{\"outlinewidth\":0,\"ticks\":\"\"},\"colorscale\":[[0.0,\"#0d0887\"],[0.1111111111111111,\"#46039f\"],[0.2222222222222222,\"#7201a8\"],[0.3333333333333333,\"#9c179e\"],[0.4444444444444444,\"#bd3786\"],[0.5555555555555556,\"#d8576b\"],[0.6666666666666666,\"#ed7953\"],[0.7777777777777778,\"#fb9f3a\"],[0.8888888888888888,\"#fdca26\"],[1.0,\"#f0f921\"]]}],\"surface\":[{\"type\":\"surface\",\"colorbar\":{\"outlinewidth\":0,\"ticks\":\"\"},\"colorscale\":[[0.0,\"#0d0887\"],[0.1111111111111111,\"#46039f\"],[0.2222222222222222,\"#7201a8\"],[0.3333333333333333,\"#9c179e\"],[0.4444444444444444,\"#bd3786\"],[0.5555555555555556,\"#d8576b\"],[0.6666666666666666,\"#ed7953\"],[0.7777777777777778,\"#fb9f3a\"],[0.8888888888888888,\"#fdca26\"],[1.0,\"#f0f921\"]]}],\"mesh3d\":[{\"type\":\"mesh3d\",\"colorbar\":{\"outlinewidth\":0,\"ticks\":\"\"}}],\"scatter\":[{\"fillpattern\":{\"fillmode\":\"overlay\",\"size\":10,\"solidity\":0.2},\"type\":\"scatter\"}],\"parcoords\":[{\"type\":\"parcoords\",\"line\":{\"colorbar\":{\"outlinewidth\":0,\"ticks\":\"\"}}}],\"scatterpolargl\":[{\"type\":\"scatterpolargl\",\"marker\":{\"colorbar\":{\"outlinewidth\":0,\"ticks\":\"\"}}}],\"bar\":[{\"error_x\":{\"color\":\"#2a3f5f\"},\"error_y\":{\"color\":\"#2a3f5f\"},\"marker\":{\"line\":{\"color\":\"#E5ECF6\",\"width\":0.5},\"pattern\":{\"fillmode\":\"overlay\",\"size\":10,\"solidity\":0.2}},\"type\":\"bar\"}],\"scattergeo\":[{\"type\":\"scattergeo\",\"marker\":{\"colorbar\":{\"outlinewidth\":0,\"ticks\":\"\"}}}],\"scatterpolar\":[{\"type\":\"scatterpolar\",\"marker\":{\"colorbar\":{\"outlinewidth\":0,\"ticks\":\"\"}}}],\"histogram\":[{\"marker\":{\"pattern\":{\"fillmode\":\"overlay\",\"size\":10,\"solidity\":0.2}},\"type\":\"histogram\"}],\"scattergl\":[{\"type\":\"scattergl\",\"marker\":{\"colorbar\":{\"outlinewidth\":0,\"ticks\":\"\"}}}],\"scatter3d\":[{\"type\":\"scatter3d\",\"line\":{\"colorbar\":{\"outlinewidth\":0,\"ticks\":\"\"}},\"marker\":{\"colorbar\":{\"outlinewidth\":0,\"ticks\":\"\"}}}],\"scattermapbox\":[{\"type\":\"scattermapbox\",\"marker\":{\"colorbar\":{\"outlinewidth\":0,\"ticks\":\"\"}}}],\"scatterternary\":[{\"type\":\"scatterternary\",\"marker\":{\"colorbar\":{\"outlinewidth\":0,\"ticks\":\"\"}}}],\"scattercarpet\":[{\"type\":\"scattercarpet\",\"marker\":{\"colorbar\":{\"outlinewidth\":0,\"ticks\":\"\"}}}],\"carpet\":[{\"aaxis\":{\"endlinecolor\":\"#2a3f5f\",\"gridcolor\":\"white\",\"linecolor\":\"white\",\"minorgridcolor\":\"white\",\"startlinecolor\":\"#2a3f5f\"},\"baxis\":{\"endlinecolor\":\"#2a3f5f\",\"gridcolor\":\"white\",\"linecolor\":\"white\",\"minorgridcolor\":\"white\",\"startlinecolor\":\"#2a3f5f\"},\"type\":\"carpet\"}],\"table\":[{\"cells\":{\"fill\":{\"color\":\"#EBF0F8\"},\"line\":{\"color\":\"white\"}},\"header\":{\"fill\":{\"color\":\"#C8D4E3\"},\"line\":{\"color\":\"white\"}},\"type\":\"table\"}],\"barpolar\":[{\"marker\":{\"line\":{\"color\":\"#E5ECF6\",\"width\":0.5},\"pattern\":{\"fillmode\":\"overlay\",\"size\":10,\"solidity\":0.2}},\"type\":\"barpolar\"}],\"pie\":[{\"automargin\":true,\"type\":\"pie\"}]},\"layout\":{\"autotypenumbers\":\"strict\",\"colorway\":[\"#636efa\",\"#EF553B\",\"#00cc96\",\"#ab63fa\",\"#FFA15A\",\"#19d3f3\",\"#FF6692\",\"#B6E880\",\"#FF97FF\",\"#FECB52\"],\"font\":{\"color\":\"#2a3f5f\"},\"hovermode\":\"closest\",\"hoverlabel\":{\"align\":\"left\"},\"paper_bgcolor\":\"white\",\"plot_bgcolor\":\"#E5ECF6\",\"polar\":{\"bgcolor\":\"#E5ECF6\",\"angularaxis\":{\"gridcolor\":\"white\",\"linecolor\":\"white\",\"ticks\":\"\"},\"radialaxis\":{\"gridcolor\":\"white\",\"linecolor\":\"white\",\"ticks\":\"\"}},\"ternary\":{\"bgcolor\":\"#E5ECF6\",\"aaxis\":{\"gridcolor\":\"white\",\"linecolor\":\"white\",\"ticks\":\"\"},\"baxis\":{\"gridcolor\":\"white\",\"linecolor\":\"white\",\"ticks\":\"\"},\"caxis\":{\"gridcolor\":\"white\",\"linecolor\":\"white\",\"ticks\":\"\"}},\"coloraxis\":{\"colorbar\":{\"outlinewidth\":0,\"ticks\":\"\"}},\"colorscale\":{\"sequential\":[[0.0,\"#0d0887\"],[0.1111111111111111,\"#46039f\"],[0.2222222222222222,\"#7201a8\"],[0.3333333333333333,\"#9c179e\"],[0.4444444444444444,\"#bd3786\"],[0.5555555555555556,\"#d8576b\"],[0.6666666666666666,\"#ed7953\"],[0.7777777777777778,\"#fb9f3a\"],[0.8888888888888888,\"#fdca26\"],[1.0,\"#f0f921\"]],\"sequentialminus\":[[0.0,\"#0d0887\"],[0.1111111111111111,\"#46039f\"],[0.2222222222222222,\"#7201a8\"],[0.3333333333333333,\"#9c179e\"],[0.4444444444444444,\"#bd3786\"],[0.5555555555555556,\"#d8576b\"],[0.6666666666666666,\"#ed7953\"],[0.7777777777777778,\"#fb9f3a\"],[0.8888888888888888,\"#fdca26\"],[1.0,\"#f0f921\"]],\"diverging\":[[0,\"#8e0152\"],[0.1,\"#c51b7d\"],[0.2,\"#de77ae\"],[0.3,\"#f1b6da\"],[0.4,\"#fde0ef\"],[0.5,\"#f7f7f7\"],[0.6,\"#e6f5d0\"],[0.7,\"#b8e186\"],[0.8,\"#7fbc41\"],[0.9,\"#4d9221\"],[1,\"#276419\"]]},\"xaxis\":{\"gridcolor\":\"white\",\"linecolor\":\"white\",\"ticks\":\"\",\"title\":{\"standoff\":15},\"zerolinecolor\":\"white\",\"automargin\":true,\"zerolinewidth\":2},\"yaxis\":{\"gridcolor\":\"white\",\"linecolor\":\"white\",\"ticks\":\"\",\"title\":{\"standoff\":15},\"zerolinecolor\":\"white\",\"automargin\":true,\"zerolinewidth\":2},\"scene\":{\"xaxis\":{\"backgroundcolor\":\"#E5ECF6\",\"gridcolor\":\"white\",\"linecolor\":\"white\",\"showbackground\":true,\"ticks\":\"\",\"zerolinecolor\":\"white\",\"gridwidth\":2},\"yaxis\":{\"backgroundcolor\":\"#E5ECF6\",\"gridcolor\":\"white\",\"linecolor\":\"white\",\"showbackground\":true,\"ticks\":\"\",\"zerolinecolor\":\"white\",\"gridwidth\":2},\"zaxis\":{\"backgroundcolor\":\"#E5ECF6\",\"gridcolor\":\"white\",\"linecolor\":\"white\",\"showbackground\":true,\"ticks\":\"\",\"zerolinecolor\":\"white\",\"gridwidth\":2}},\"shapedefaults\":{\"line\":{\"color\":\"#2a3f5f\"}},\"annotationdefaults\":{\"arrowcolor\":\"#2a3f5f\",\"arrowhead\":0,\"arrowwidth\":1},\"geo\":{\"bgcolor\":\"white\",\"landcolor\":\"#E5ECF6\",\"subunitcolor\":\"white\",\"showland\":true,\"showlakes\":true,\"lakecolor\":\"white\"},\"title\":{\"x\":0.05},\"mapbox\":{\"style\":\"light\"}}},\"title\":{\"text\":\"Prediction vs Actual Points Comparison: Second Half\"},\"xaxis\":{\"title\":{\"text\":\"Index\"}},\"yaxis\":{\"title\":{\"text\":\"Points\"}},\"hovermode\":\"closest\"},                        {\"responsive\": true}                    ).then(function(){\n",
       "                            \n",
       "var gd = document.getElementById('d1be73af-a593-441b-8ec0-4c81a750a093');\n",
       "var x = new MutationObserver(function (mutations, observer) {{\n",
       "        var display = window.getComputedStyle(gd).display;\n",
       "        if (!display || display === 'none') {{\n",
       "            console.log([gd, 'removed!']);\n",
       "            Plotly.purge(gd);\n",
       "            observer.disconnect();\n",
       "        }}\n",
       "}});\n",
       "\n",
       "// Listen for the removal of the full notebook cells\n",
       "var notebookContainer = gd.closest('#notebook-container');\n",
       "if (notebookContainer) {{\n",
       "    x.observe(notebookContainer, {childList: true});\n",
       "}}\n",
       "\n",
       "// Listen for the clearing of the current output cell\n",
       "var outputEl = gd.closest('.output');\n",
       "if (outputEl) {{\n",
       "    x.observe(outputEl, {childList: true});\n",
       "}}\n",
       "\n",
       "                        })                };                });            </script>        </div>"
      ]
     },
     "metadata": {},
     "output_type": "display_data"
    }
   ],
   "source": [
    "# Create the second plot for the second half\n",
    "fig2 = go.Figure()\n",
    "fig2.add_trace(\n",
    "    go.Scatter(\n",
    "        x=list(range(midpoint, len(answers))),\n",
    "        y=answers[midpoint:],\n",
    "        mode='markers',\n",
    "        name='Actual Points - Second Half',\n",
    "        marker=dict(color='black'),\n",
    "        text=player_names[midpoint:] + \" | \" + seasons[midpoint:].astype(str),\n",
    "        hoverinfo='text+y'\n",
    "    )\n",
    ")\n",
    "fig2.add_trace(\n",
    "    go.Scatter(\n",
    "        x=list(range(midpoint, len(answers))),\n",
    "        y=predictions[midpoint:],\n",
    "        mode='markers',\n",
    "        name='Predicted Points - Second Half',\n",
    "        marker=dict(color=colors[midpoint:]),\n",
    "        text=player_names[midpoint:] + \" | \" + seasons[midpoint:].astype(str),\n",
    "        hoverinfo='text+y'\n",
    "    )\n",
    ")\n",
    "fig2.update_layout(\n",
    "    title='Prediction vs Actual Points Comparison: Second Half',\n",
    "    xaxis_title='Index',\n",
    "    yaxis_title='Points',\n",
    "    hovermode='closest'\n",
    ")\n",
    "fig2.show()"
   ]
  },
  {
   "cell_type": "markdown",
   "id": "246437da",
   "metadata": {},
   "source": [
    "## Further Information"
   ]
  },
  {
   "cell_type": "code",
   "execution_count": 44,
   "id": "31f382f1",
   "metadata": {},
   "outputs": [
    {
     "data": {
      "text/html": [
       "<div>\n",
       "<style scoped>\n",
       "    .dataframe tbody tr th:only-of-type {\n",
       "        vertical-align: middle;\n",
       "    }\n",
       "\n",
       "    .dataframe tbody tr th {\n",
       "        vertical-align: top;\n",
       "    }\n",
       "\n",
       "    .dataframe thead th {\n",
       "        text-align: right;\n",
       "    }\n",
       "</style>\n",
       "<table border=\"1\" class=\"dataframe\">\n",
       "  <thead>\n",
       "    <tr style=\"text-align: right;\">\n",
       "      <th></th>\n",
       "      <th>model</th>\n",
       "      <th>score_test</th>\n",
       "      <th>score_val</th>\n",
       "      <th>eval_metric</th>\n",
       "      <th>pred_time_test</th>\n",
       "      <th>pred_time_val</th>\n",
       "      <th>fit_time</th>\n",
       "      <th>pred_time_test_marginal</th>\n",
       "      <th>pred_time_val_marginal</th>\n",
       "      <th>fit_time_marginal</th>\n",
       "      <th>stack_level</th>\n",
       "      <th>can_infer</th>\n",
       "      <th>fit_order</th>\n",
       "    </tr>\n",
       "  </thead>\n",
       "  <tbody>\n",
       "    <tr>\n",
       "      <th>0</th>\n",
       "      <td>WeightedEnsemble_L2</td>\n",
       "      <td>-16.236060</td>\n",
       "      <td>-14.159718</td>\n",
       "      <td>root_mean_squared_error</td>\n",
       "      <td>0.096349</td>\n",
       "      <td>0.038658</td>\n",
       "      <td>6.447225</td>\n",
       "      <td>0.001637</td>\n",
       "      <td>0.000282</td>\n",
       "      <td>0.008048</td>\n",
       "      <td>2</td>\n",
       "      <td>True</td>\n",
       "      <td>9</td>\n",
       "    </tr>\n",
       "    <tr>\n",
       "      <th>1</th>\n",
       "      <td>CatBoost</td>\n",
       "      <td>-16.593918</td>\n",
       "      <td>-15.389014</td>\n",
       "      <td>root_mean_squared_error</td>\n",
       "      <td>0.003025</td>\n",
       "      <td>0.001265</td>\n",
       "      <td>1.246123</td>\n",
       "      <td>0.003025</td>\n",
       "      <td>0.001265</td>\n",
       "      <td>1.246123</td>\n",
       "      <td>1</td>\n",
       "      <td>True</td>\n",
       "      <td>4</td>\n",
       "    </tr>\n",
       "    <tr>\n",
       "      <th>2</th>\n",
       "      <td>ExtraTreesMSE</td>\n",
       "      <td>-17.094906</td>\n",
       "      <td>-15.614186</td>\n",
       "      <td>root_mean_squared_error</td>\n",
       "      <td>0.056734</td>\n",
       "      <td>0.028461</td>\n",
       "      <td>0.272548</td>\n",
       "      <td>0.056734</td>\n",
       "      <td>0.028461</td>\n",
       "      <td>0.272548</td>\n",
       "      <td>1</td>\n",
       "      <td>True</td>\n",
       "      <td>5</td>\n",
       "    </tr>\n",
       "    <tr>\n",
       "      <th>3</th>\n",
       "      <td>NeuralNetTorch</td>\n",
       "      <td>-17.617656</td>\n",
       "      <td>-15.881483</td>\n",
       "      <td>root_mean_squared_error</td>\n",
       "      <td>0.006263</td>\n",
       "      <td>0.004713</td>\n",
       "      <td>3.794396</td>\n",
       "      <td>0.006263</td>\n",
       "      <td>0.004713</td>\n",
       "      <td>3.794396</td>\n",
       "      <td>1</td>\n",
       "      <td>True</td>\n",
       "      <td>8</td>\n",
       "    </tr>\n",
       "    <tr>\n",
       "      <th>4</th>\n",
       "      <td>RandomForestMSE</td>\n",
       "      <td>-17.679769</td>\n",
       "      <td>-15.349122</td>\n",
       "      <td>root_mean_squared_error</td>\n",
       "      <td>0.076092</td>\n",
       "      <td>0.027686</td>\n",
       "      <td>0.610045</td>\n",
       "      <td>0.076092</td>\n",
       "      <td>0.027686</td>\n",
       "      <td>0.610045</td>\n",
       "      <td>1</td>\n",
       "      <td>True</td>\n",
       "      <td>3</td>\n",
       "    </tr>\n",
       "    <tr>\n",
       "      <th>5</th>\n",
       "      <td>NeuralNetFastAI</td>\n",
       "      <td>-17.987210</td>\n",
       "      <td>-15.806779</td>\n",
       "      <td>root_mean_squared_error</td>\n",
       "      <td>0.009331</td>\n",
       "      <td>0.004712</td>\n",
       "      <td>0.788613</td>\n",
       "      <td>0.009331</td>\n",
       "      <td>0.004712</td>\n",
       "      <td>0.788613</td>\n",
       "      <td>1</td>\n",
       "      <td>True</td>\n",
       "      <td>6</td>\n",
       "    </tr>\n",
       "    <tr>\n",
       "      <th>6</th>\n",
       "      <td>XGBoost</td>\n",
       "      <td>-19.874489</td>\n",
       "      <td>-17.217632</td>\n",
       "      <td>root_mean_squared_error</td>\n",
       "      <td>0.009692</td>\n",
       "      <td>0.002600</td>\n",
       "      <td>0.772948</td>\n",
       "      <td>0.009692</td>\n",
       "      <td>0.002600</td>\n",
       "      <td>0.772948</td>\n",
       "      <td>1</td>\n",
       "      <td>True</td>\n",
       "      <td>7</td>\n",
       "    </tr>\n",
       "    <tr>\n",
       "      <th>7</th>\n",
       "      <td>KNeighborsDist</td>\n",
       "      <td>-40.793421</td>\n",
       "      <td>-39.654683</td>\n",
       "      <td>root_mean_squared_error</td>\n",
       "      <td>0.005107</td>\n",
       "      <td>0.002665</td>\n",
       "      <td>0.170200</td>\n",
       "      <td>0.005107</td>\n",
       "      <td>0.002665</td>\n",
       "      <td>0.170200</td>\n",
       "      <td>1</td>\n",
       "      <td>True</td>\n",
       "      <td>2</td>\n",
       "    </tr>\n",
       "    <tr>\n",
       "      <th>8</th>\n",
       "      <td>KNeighborsUnif</td>\n",
       "      <td>-41.131289</td>\n",
       "      <td>-39.704311</td>\n",
       "      <td>root_mean_squared_error</td>\n",
       "      <td>0.009366</td>\n",
       "      <td>0.066880</td>\n",
       "      <td>3.714720</td>\n",
       "      <td>0.009366</td>\n",
       "      <td>0.066880</td>\n",
       "      <td>3.714720</td>\n",
       "      <td>1</td>\n",
       "      <td>True</td>\n",
       "      <td>1</td>\n",
       "    </tr>\n",
       "  </tbody>\n",
       "</table>\n",
       "</div>"
      ],
      "text/plain": [
       "                 model  score_test  score_val              eval_metric  \\\n",
       "0  WeightedEnsemble_L2  -16.236060 -14.159718  root_mean_squared_error   \n",
       "1             CatBoost  -16.593918 -15.389014  root_mean_squared_error   \n",
       "2        ExtraTreesMSE  -17.094906 -15.614186  root_mean_squared_error   \n",
       "3       NeuralNetTorch  -17.617656 -15.881483  root_mean_squared_error   \n",
       "4      RandomForestMSE  -17.679769 -15.349122  root_mean_squared_error   \n",
       "5      NeuralNetFastAI  -17.987210 -15.806779  root_mean_squared_error   \n",
       "6              XGBoost  -19.874489 -17.217632  root_mean_squared_error   \n",
       "7       KNeighborsDist  -40.793421 -39.654683  root_mean_squared_error   \n",
       "8       KNeighborsUnif  -41.131289 -39.704311  root_mean_squared_error   \n",
       "\n",
       "   pred_time_test  pred_time_val  fit_time  pred_time_test_marginal  \\\n",
       "0        0.096349       0.038658  6.447225                 0.001637   \n",
       "1        0.003025       0.001265  1.246123                 0.003025   \n",
       "2        0.056734       0.028461  0.272548                 0.056734   \n",
       "3        0.006263       0.004713  3.794396                 0.006263   \n",
       "4        0.076092       0.027686  0.610045                 0.076092   \n",
       "5        0.009331       0.004712  0.788613                 0.009331   \n",
       "6        0.009692       0.002600  0.772948                 0.009692   \n",
       "7        0.005107       0.002665  0.170200                 0.005107   \n",
       "8        0.009366       0.066880  3.714720                 0.009366   \n",
       "\n",
       "   pred_time_val_marginal  fit_time_marginal  stack_level  can_infer  \\\n",
       "0                0.000282           0.008048            2       True   \n",
       "1                0.001265           1.246123            1       True   \n",
       "2                0.028461           0.272548            1       True   \n",
       "3                0.004713           3.794396            1       True   \n",
       "4                0.027686           0.610045            1       True   \n",
       "5                0.004712           0.788613            1       True   \n",
       "6                0.002600           0.772948            1       True   \n",
       "7                0.002665           0.170200            1       True   \n",
       "8                0.066880           3.714720            1       True   \n",
       "\n",
       "   fit_order  \n",
       "0          9  \n",
       "1          4  \n",
       "2          5  \n",
       "3          8  \n",
       "4          3  \n",
       "5          6  \n",
       "6          7  \n",
       "7          2  \n",
       "8          1  "
      ]
     },
     "execution_count": 44,
     "metadata": {},
     "output_type": "execute_result"
    }
   ],
   "source": [
    "predictor.leaderboard(test_data)"
   ]
  },
  {
   "cell_type": "markdown",
   "id": "60fdb03c",
   "metadata": {},
   "source": [
    "For feature clarification:\n",
    "- **yptmpa:** receiving yards per team pass attempt"
   ]
  },
  {
   "cell_type": "code",
   "execution_count": 45,
   "id": "403d3554",
   "metadata": {},
   "outputs": [
    {
     "name": "stderr",
     "output_type": "stream",
     "text": [
      "These features in provided data are not utilized by the predictor and will be ignored: ['receptions_per_snap']\n",
      "Computing feature importance via permutation shuffling for 28 features using 205 rows with 5 shuffle sets...\n",
      "\t13.5s\t= Expected runtime (2.7s per shuffle set)\n",
      "\t0.92s\t= Actual runtime (Completed 5 of 5 shuffle sets)\n"
     ]
    },
    {
     "data": {
      "text/html": [
       "<div>\n",
       "<style scoped>\n",
       "    .dataframe tbody tr th:only-of-type {\n",
       "        vertical-align: middle;\n",
       "    }\n",
       "\n",
       "    .dataframe tbody tr th {\n",
       "        vertical-align: top;\n",
       "    }\n",
       "\n",
       "    .dataframe thead th {\n",
       "        text-align: right;\n",
       "    }\n",
       "</style>\n",
       "<table border=\"1\" class=\"dataframe\">\n",
       "  <thead>\n",
       "    <tr style=\"text-align: right;\">\n",
       "      <th></th>\n",
       "      <th>importance</th>\n",
       "      <th>stddev</th>\n",
       "      <th>p_value</th>\n",
       "      <th>n</th>\n",
       "      <th>p99_high</th>\n",
       "      <th>p99_low</th>\n",
       "    </tr>\n",
       "  </thead>\n",
       "  <tbody>\n",
       "    <tr>\n",
       "      <th>route_proxy</th>\n",
       "      <td>57.946064</td>\n",
       "      <td>2.826754</td>\n",
       "      <td>6.774238e-07</td>\n",
       "      <td>5</td>\n",
       "      <td>63.766389</td>\n",
       "      <td>52.125740</td>\n",
       "    </tr>\n",
       "    <tr>\n",
       "      <th>yards_per_snap</th>\n",
       "      <td>17.989780</td>\n",
       "      <td>1.492646</td>\n",
       "      <td>5.635460e-06</td>\n",
       "      <td>5</td>\n",
       "      <td>21.063159</td>\n",
       "      <td>14.916401</td>\n",
       "    </tr>\n",
       "    <tr>\n",
       "      <th>yards_per_route_run</th>\n",
       "      <td>16.490275</td>\n",
       "      <td>1.450254</td>\n",
       "      <td>7.105267e-06</td>\n",
       "      <td>5</td>\n",
       "      <td>19.476368</td>\n",
       "      <td>13.504182</td>\n",
       "    </tr>\n",
       "    <tr>\n",
       "      <th>target_share_last</th>\n",
       "      <td>0.800123</td>\n",
       "      <td>0.525041</td>\n",
       "      <td>1.354356e-02</td>\n",
       "      <td>5</td>\n",
       "      <td>1.881189</td>\n",
       "      <td>-0.280943</td>\n",
       "    </tr>\n",
       "    <tr>\n",
       "      <th>receiving_air_yards_last</th>\n",
       "      <td>0.758436</td>\n",
       "      <td>0.245975</td>\n",
       "      <td>1.160085e-03</td>\n",
       "      <td>5</td>\n",
       "      <td>1.264902</td>\n",
       "      <td>0.251971</td>\n",
       "    </tr>\n",
       "    <tr>\n",
       "      <th>air_yards_share_last</th>\n",
       "      <td>0.450222</td>\n",
       "      <td>0.228005</td>\n",
       "      <td>5.776167e-03</td>\n",
       "      <td>5</td>\n",
       "      <td>0.919687</td>\n",
       "      <td>-0.019244</td>\n",
       "    </tr>\n",
       "    <tr>\n",
       "      <th>Draft_Round_last</th>\n",
       "      <td>0.399759</td>\n",
       "      <td>0.088996</td>\n",
       "      <td>2.762531e-04</td>\n",
       "      <td>5</td>\n",
       "      <td>0.583003</td>\n",
       "      <td>0.216514</td>\n",
       "    </tr>\n",
       "    <tr>\n",
       "      <th>w8dom_last</th>\n",
       "      <td>0.379241</td>\n",
       "      <td>0.151282</td>\n",
       "      <td>2.487237e-03</td>\n",
       "      <td>5</td>\n",
       "      <td>0.690732</td>\n",
       "      <td>0.067749</td>\n",
       "    </tr>\n",
       "    <tr>\n",
       "      <th>fantasy_points_ppr_last</th>\n",
       "      <td>0.347574</td>\n",
       "      <td>0.327761</td>\n",
       "      <td>3.835865e-02</td>\n",
       "      <td>5</td>\n",
       "      <td>1.022438</td>\n",
       "      <td>-0.327290</td>\n",
       "    </tr>\n",
       "    <tr>\n",
       "      <th>rank_last</th>\n",
       "      <td>0.338609</td>\n",
       "      <td>0.176173</td>\n",
       "      <td>6.333998e-03</td>\n",
       "      <td>5</td>\n",
       "      <td>0.701353</td>\n",
       "      <td>-0.024135</td>\n",
       "    </tr>\n",
       "    <tr>\n",
       "      <th>games_last</th>\n",
       "      <td>0.323655</td>\n",
       "      <td>0.273848</td>\n",
       "      <td>2.870705e-02</td>\n",
       "      <td>5</td>\n",
       "      <td>0.887511</td>\n",
       "      <td>-0.240201</td>\n",
       "    </tr>\n",
       "    <tr>\n",
       "      <th>receiving_yards_last</th>\n",
       "      <td>0.308100</td>\n",
       "      <td>0.147183</td>\n",
       "      <td>4.721101e-03</td>\n",
       "      <td>5</td>\n",
       "      <td>0.611152</td>\n",
       "      <td>0.005048</td>\n",
       "    </tr>\n",
       "    <tr>\n",
       "      <th>receiving_first_downs_last</th>\n",
       "      <td>0.294473</td>\n",
       "      <td>0.052555</td>\n",
       "      <td>1.167429e-04</td>\n",
       "      <td>5</td>\n",
       "      <td>0.402684</td>\n",
       "      <td>0.186261</td>\n",
       "    </tr>\n",
       "    <tr>\n",
       "      <th>ppr_sh_last</th>\n",
       "      <td>0.240179</td>\n",
       "      <td>0.386860</td>\n",
       "      <td>1.186883e-01</td>\n",
       "      <td>5</td>\n",
       "      <td>1.036729</td>\n",
       "      <td>-0.556371</td>\n",
       "    </tr>\n",
       "    <tr>\n",
       "      <th>racr_last</th>\n",
       "      <td>0.218178</td>\n",
       "      <td>0.318461</td>\n",
       "      <td>1.001506e-01</td>\n",
       "      <td>5</td>\n",
       "      <td>0.873893</td>\n",
       "      <td>-0.437538</td>\n",
       "    </tr>\n",
       "    <tr>\n",
       "      <th>receiving_epa_last</th>\n",
       "      <td>0.173579</td>\n",
       "      <td>0.176647</td>\n",
       "      <td>4.646928e-02</td>\n",
       "      <td>5</td>\n",
       "      <td>0.537298</td>\n",
       "      <td>-0.190139</td>\n",
       "    </tr>\n",
       "    <tr>\n",
       "      <th>offense_pct_last</th>\n",
       "      <td>0.134913</td>\n",
       "      <td>0.171107</td>\n",
       "      <td>7.633423e-02</td>\n",
       "      <td>5</td>\n",
       "      <td>0.487226</td>\n",
       "      <td>-0.217400</td>\n",
       "    </tr>\n",
       "    <tr>\n",
       "      <th>tgt_sh_last</th>\n",
       "      <td>0.124143</td>\n",
       "      <td>0.147933</td>\n",
       "      <td>6.691324e-02</td>\n",
       "      <td>5</td>\n",
       "      <td>0.428740</td>\n",
       "      <td>-0.180454</td>\n",
       "    </tr>\n",
       "    <tr>\n",
       "      <th>yptmpa_last</th>\n",
       "      <td>0.120193</td>\n",
       "      <td>0.148569</td>\n",
       "      <td>7.235815e-02</td>\n",
       "      <td>5</td>\n",
       "      <td>0.426098</td>\n",
       "      <td>-0.185712</td>\n",
       "    </tr>\n",
       "    <tr>\n",
       "      <th>tier_last</th>\n",
       "      <td>0.107762</td>\n",
       "      <td>0.178421</td>\n",
       "      <td>1.240976e-01</td>\n",
       "      <td>5</td>\n",
       "      <td>0.475134</td>\n",
       "      <td>-0.259610</td>\n",
       "    </tr>\n",
       "    <tr>\n",
       "      <th>receptions_last</th>\n",
       "      <td>0.101911</td>\n",
       "      <td>0.094492</td>\n",
       "      <td>3.671220e-02</td>\n",
       "      <td>5</td>\n",
       "      <td>0.296471</td>\n",
       "      <td>-0.092649</td>\n",
       "    </tr>\n",
       "    <tr>\n",
       "      <th>catch_percentage_last</th>\n",
       "      <td>0.101726</td>\n",
       "      <td>0.122828</td>\n",
       "      <td>6.884270e-02</td>\n",
       "      <td>5</td>\n",
       "      <td>0.354632</td>\n",
       "      <td>-0.151179</td>\n",
       "    </tr>\n",
       "    <tr>\n",
       "      <th>offense_snaps_last</th>\n",
       "      <td>0.035969</td>\n",
       "      <td>0.169567</td>\n",
       "      <td>3.300035e-01</td>\n",
       "      <td>5</td>\n",
       "      <td>0.385108</td>\n",
       "      <td>-0.313171</td>\n",
       "    </tr>\n",
       "    <tr>\n",
       "      <th>receiving_yards_after_catch_last</th>\n",
       "      <td>-0.071680</td>\n",
       "      <td>0.084276</td>\n",
       "      <td>9.350198e-01</td>\n",
       "      <td>5</td>\n",
       "      <td>0.101845</td>\n",
       "      <td>-0.245204</td>\n",
       "    </tr>\n",
       "    <tr>\n",
       "      <th>yac_sh_last</th>\n",
       "      <td>-0.072590</td>\n",
       "      <td>0.080410</td>\n",
       "      <td>9.431624e-01</td>\n",
       "      <td>5</td>\n",
       "      <td>0.092974</td>\n",
       "      <td>-0.238155</td>\n",
       "    </tr>\n",
       "    <tr>\n",
       "      <th>fantasy_points_last</th>\n",
       "      <td>-0.101979</td>\n",
       "      <td>0.240555</td>\n",
       "      <td>8.015815e-01</td>\n",
       "      <td>5</td>\n",
       "      <td>0.393327</td>\n",
       "      <td>-0.597284</td>\n",
       "    </tr>\n",
       "    <tr>\n",
       "      <th>age_last</th>\n",
       "      <td>-0.168303</td>\n",
       "      <td>0.086286</td>\n",
       "      <td>9.939760e-01</td>\n",
       "      <td>5</td>\n",
       "      <td>0.009361</td>\n",
       "      <td>-0.345968</td>\n",
       "    </tr>\n",
       "    <tr>\n",
       "      <th>targets_last</th>\n",
       "      <td>-0.252482</td>\n",
       "      <td>0.220016</td>\n",
       "      <td>9.688803e-01</td>\n",
       "      <td>5</td>\n",
       "      <td>0.200533</td>\n",
       "      <td>-0.705497</td>\n",
       "    </tr>\n",
       "  </tbody>\n",
       "</table>\n",
       "</div>"
      ],
      "text/plain": [
       "                                  importance    stddev       p_value  n  \\\n",
       "route_proxy                        57.946064  2.826754  6.774238e-07  5   \n",
       "yards_per_snap                     17.989780  1.492646  5.635460e-06  5   \n",
       "yards_per_route_run                16.490275  1.450254  7.105267e-06  5   \n",
       "target_share_last                   0.800123  0.525041  1.354356e-02  5   \n",
       "receiving_air_yards_last            0.758436  0.245975  1.160085e-03  5   \n",
       "air_yards_share_last                0.450222  0.228005  5.776167e-03  5   \n",
       "Draft_Round_last                    0.399759  0.088996  2.762531e-04  5   \n",
       "w8dom_last                          0.379241  0.151282  2.487237e-03  5   \n",
       "fantasy_points_ppr_last             0.347574  0.327761  3.835865e-02  5   \n",
       "rank_last                           0.338609  0.176173  6.333998e-03  5   \n",
       "games_last                          0.323655  0.273848  2.870705e-02  5   \n",
       "receiving_yards_last                0.308100  0.147183  4.721101e-03  5   \n",
       "receiving_first_downs_last          0.294473  0.052555  1.167429e-04  5   \n",
       "ppr_sh_last                         0.240179  0.386860  1.186883e-01  5   \n",
       "racr_last                           0.218178  0.318461  1.001506e-01  5   \n",
       "receiving_epa_last                  0.173579  0.176647  4.646928e-02  5   \n",
       "offense_pct_last                    0.134913  0.171107  7.633423e-02  5   \n",
       "tgt_sh_last                         0.124143  0.147933  6.691324e-02  5   \n",
       "yptmpa_last                         0.120193  0.148569  7.235815e-02  5   \n",
       "tier_last                           0.107762  0.178421  1.240976e-01  5   \n",
       "receptions_last                     0.101911  0.094492  3.671220e-02  5   \n",
       "catch_percentage_last               0.101726  0.122828  6.884270e-02  5   \n",
       "offense_snaps_last                  0.035969  0.169567  3.300035e-01  5   \n",
       "receiving_yards_after_catch_last   -0.071680  0.084276  9.350198e-01  5   \n",
       "yac_sh_last                        -0.072590  0.080410  9.431624e-01  5   \n",
       "fantasy_points_last                -0.101979  0.240555  8.015815e-01  5   \n",
       "age_last                           -0.168303  0.086286  9.939760e-01  5   \n",
       "targets_last                       -0.252482  0.220016  9.688803e-01  5   \n",
       "\n",
       "                                   p99_high    p99_low  \n",
       "route_proxy                       63.766389  52.125740  \n",
       "yards_per_snap                    21.063159  14.916401  \n",
       "yards_per_route_run               19.476368  13.504182  \n",
       "target_share_last                  1.881189  -0.280943  \n",
       "receiving_air_yards_last           1.264902   0.251971  \n",
       "air_yards_share_last               0.919687  -0.019244  \n",
       "Draft_Round_last                   0.583003   0.216514  \n",
       "w8dom_last                         0.690732   0.067749  \n",
       "fantasy_points_ppr_last            1.022438  -0.327290  \n",
       "rank_last                          0.701353  -0.024135  \n",
       "games_last                         0.887511  -0.240201  \n",
       "receiving_yards_last               0.611152   0.005048  \n",
       "receiving_first_downs_last         0.402684   0.186261  \n",
       "ppr_sh_last                        1.036729  -0.556371  \n",
       "racr_last                          0.873893  -0.437538  \n",
       "receiving_epa_last                 0.537298  -0.190139  \n",
       "offense_pct_last                   0.487226  -0.217400  \n",
       "tgt_sh_last                        0.428740  -0.180454  \n",
       "yptmpa_last                        0.426098  -0.185712  \n",
       "tier_last                          0.475134  -0.259610  \n",
       "receptions_last                    0.296471  -0.092649  \n",
       "catch_percentage_last              0.354632  -0.151179  \n",
       "offense_snaps_last                 0.385108  -0.313171  \n",
       "receiving_yards_after_catch_last   0.101845  -0.245204  \n",
       "yac_sh_last                        0.092974  -0.238155  \n",
       "fantasy_points_last                0.393327  -0.597284  \n",
       "age_last                           0.009361  -0.345968  \n",
       "targets_last                       0.200533  -0.705497  "
      ]
     },
     "execution_count": 45,
     "metadata": {},
     "output_type": "execute_result"
    }
   ],
   "source": [
    "predictor.feature_importance(data=test_data)"
   ]
  }
 ],
 "metadata": {
  "kernelspec": {
   "display_name": "plotly",
   "language": "python",
   "name": "plotly"
  },
  "language_info": {
   "codemirror_mode": {
    "name": "ipython",
    "version": 3
   },
   "file_extension": ".py",
   "mimetype": "text/x-python",
   "name": "python",
   "nbconvert_exporter": "python",
   "pygments_lexer": "ipython3",
   "version": "3.9.7"
  }
 },
 "nbformat": 4,
 "nbformat_minor": 5
}
