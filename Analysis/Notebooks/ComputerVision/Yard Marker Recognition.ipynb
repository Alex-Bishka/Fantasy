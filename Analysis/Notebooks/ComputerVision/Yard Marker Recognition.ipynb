{
 "cells": [
  {
   "cell_type": "markdown",
   "id": "6f71f170",
   "metadata": {},
   "source": [
    "# Imports"
   ]
  },
  {
   "cell_type": "code",
   "execution_count": 17,
   "id": "d6ff3a4c",
   "metadata": {},
   "outputs": [],
   "source": [
    "import os\n",
    "import cv2\n",
    "import numpy as np\n",
    "import matplotlib.pyplot as plt"
   ]
  },
  {
   "cell_type": "markdown",
   "id": "049a23a2",
   "metadata": {},
   "source": [
    "# Helper Functions"
   ]
  },
  {
   "cell_type": "code",
   "execution_count": 18,
   "id": "dafc006e",
   "metadata": {},
   "outputs": [],
   "source": [
    "def read_sample_digits(digit):\n",
    "    directory_path = f\"./line_number_samples/{digit}\"\n",
    "\n",
    "    files = [cv2.imread(f\"{directory_path}/{file}\", 0) for file in os.listdir(directory_path) if os.path.isfile(os.path.join(directory_path, file))]\n",
    "    return files"
   ]
  },
  {
   "cell_type": "code",
   "execution_count": 19,
   "id": "70e43796",
   "metadata": {},
   "outputs": [],
   "source": [
    "def match_digit(image, templates):\n",
    "    matching_scores = {}\n",
    "\n",
    "    for digit, temps in templates.items():\n",
    "        for temp in temps:\n",
    "            res = cv2.matchTemplate(image, temp, cv2.TM_CCOEFF_NORMED)\n",
    "            min_val, max_val, min_loc, max_loc = cv2.minMaxLoc(res)\n",
    "            if digit not in matching_scores or max_val > matching_scores[digit]:\n",
    "                matching_scores[digit] = max_val\n",
    "\n",
    "    # Find the digit with the highest max matching score\n",
    "    best_match = max(matching_scores, key=matching_scores.get)\n",
    "    return best_match, matching_scores[best_match]"
   ]
  },
  {
   "cell_type": "markdown",
   "id": "a94c2c68",
   "metadata": {},
   "source": [
    "# Sample Digit Templates"
   ]
  },
  {
   "cell_type": "code",
   "execution_count": 20,
   "id": "7bfcdb20",
   "metadata": {},
   "outputs": [],
   "source": [
    "# Load templates\n",
    "templates = {\n",
    "    '0': read_sample_digits('0'),\n",
    "    '1': read_sample_digits('1'),\n",
    "    '2': read_sample_digits('2'),\n",
    "    '3': read_sample_digits('3'),\n",
    "    '4': read_sample_digits('4'),\n",
    "    '5': read_sample_digits('5')\n",
    "}"
   ]
  },
  {
   "cell_type": "markdown",
   "id": "433ecea7",
   "metadata": {},
   "source": [
    "# Matching"
   ]
  },
  {
   "cell_type": "code",
   "execution_count": 21,
   "id": "6a80f28f",
   "metadata": {},
   "outputs": [],
   "source": [
    "candidate_path = \"./line_number_recognition/\"\n",
    "candidate_digits = [(cv2.imread(f\"{candidate_path}/{file}\", 0), file) for file in os.listdir(candidate_path) if os.path.isfile(os.path.join(candidate_path, file))]"
   ]
  },
  {
   "cell_type": "code",
   "execution_count": 24,
   "id": "328841ba",
   "metadata": {},
   "outputs": [
    {
     "name": "stdout",
     "output_type": "stream",
     "text": [
      "**File name:** digit-310.jpg </br>\n",
      "**Detected digit:** `1` with a score of `0.656` </br>\n",
      "**Answer: `310.jpg -> TODO`**\n",
      "\n",
      "**File name:** digit-307.jpg </br>\n",
      "**Detected digit:** `2` with a score of `0.726` </br>\n",
      "**Answer: `307.jpg -> TODO`**\n",
      "\n",
      "**File name:** digit-304.jpg </br>\n",
      "**Detected digit:** `3` with a score of `0.872` </br>\n",
      "**Answer: `304.jpg -> TODO`**\n",
      "\n",
      "**File name:** digit-313.jpg </br>\n",
      "**Detected digit:** `3` with a score of `0.648` </br>\n",
      "**Answer: `313.jpg -> TODO`**\n",
      "\n",
      "**File name:** digit-322.jpg </br>\n",
      "**Detected digit:** `0` with a score of `0.722` </br>\n",
      "**Answer: `322.jpg -> TODO`**\n",
      "\n"
     ]
    }
   ],
   "source": [
    "for digit_im, file_name in candidate_digits:\n",
    "    flipped_image = cv2.flip(digit_im, -1)\n",
    "    _, thresholded_image = cv2.threshold(flipped_image, 128, 255, cv2.THRESH_BINARY)\n",
    "\n",
    "    digit, score = match_digit(thresholded_image, templates)\n",
    "    if score >= .6:\n",
    "        print(f\"**File name:** {file_name} </br>\")\n",
    "        print(f\"**Detected digit:** `{digit}` with a score of `{round(score, 3)}` </br>\")\n",
    "        print(f\"**Answer: `{file_name.split('-')[-1]} -> TODO`**\")\n",
    "        print()"
   ]
  },
  {
   "cell_type": "code",
   "execution_count": null,
   "id": "5fe238c2",
   "metadata": {},
   "outputs": [],
   "source": [
    "flipped_image = cv2.flip(candidate_digits[2][0], -1)\n",
    "plt.imshow(flipped_image)"
   ]
  },
  {
   "cell_type": "code",
   "execution_count": null,
   "id": "5c127dfb",
   "metadata": {},
   "outputs": [],
   "source": [
    "_, thresholded_image = cv2.threshold(flipped_image, 128, 255, cv2.THRESH_BINARY)\n",
    "plt.imshow(thresholded_image)"
   ]
  },
  {
   "cell_type": "code",
   "execution_count": null,
   "id": "96262a36",
   "metadata": {},
   "outputs": [],
   "source": [
    "plt.imshow(candidate_digits[2][0])"
   ]
  },
  {
   "cell_type": "markdown",
   "id": "e29c3cea",
   "metadata": {},
   "source": [
    "# Hits"
   ]
  },
  {
   "cell_type": "markdown",
   "id": "de8fd11e",
   "metadata": {},
   "source": [
    "**File name:** digit-333.jpg </br>\n",
    "**Detected digit:** `0` with a score of `0.7969902753829956` </br>\n",
    "**Answer:** `333 -> 0`\n",
    "\n",
    "**File name:** digit-329.jpg </br>\n",
    "**Detected digit:** `0` with a score of `0.9130761623382568` </br>\n",
    "**Answer:** `329 -> 0`\n",
    "\n",
    "**File name:** digit-328.jpg\n",
    "**Detected digit:** `0` with a score of `0.9060125946998596` </br>\n",
    "**Answer:** `328 -> 0`"
   ]
  },
  {
   "cell_type": "markdown",
   "id": "d793e3cc",
   "metadata": {},
   "source": [
    "## Lesser Hits"
   ]
  },
  {
   "cell_type": "markdown",
   "id": "61904e0d",
   "metadata": {},
   "source": [
    "**File name:** digit-332.jpg </br>\n",
    "**Detected digit:** `1` with a score of `0.6343454718589783` </br>\n",
    "**Answer:** `332 -> 1`"
   ]
  },
  {
   "cell_type": "markdown",
   "id": "e9789886",
   "metadata": {},
   "source": [
    "# Misses"
   ]
  },
  {
   "cell_type": "markdown",
   "id": "6663ae2e",
   "metadata": {},
   "source": [
    "**File name:** digit-326.jpg </br>\n",
    "**Detected digit:** `1` with a score of `0.23521418869495392` </br>\n",
    "**Answer:** `326 -> 2`"
   ]
  },
  {
   "cell_type": "markdown",
   "id": "16c98031",
   "metadata": {},
   "source": [
    "**File name:** digit-327.jpg </br>\n",
    "**Detected digit:** `0` with a score of `0.5426121950149536` </br>\n",
    "**Answer:** `327 -> 3`"
   ]
  },
  {
   "cell_type": "code",
   "execution_count": null,
   "id": "c32eb16d",
   "metadata": {},
   "outputs": [],
   "source": []
  }
 ],
 "metadata": {
  "kernelspec": {
   "display_name": "Python 3 (ipykernel)",
   "language": "python",
   "name": "python3"
  },
  "language_info": {
   "codemirror_mode": {
    "name": "ipython",
    "version": 3
   },
   "file_extension": ".py",
   "mimetype": "text/x-python",
   "name": "python",
   "nbconvert_exporter": "python",
   "pygments_lexer": "ipython3",
   "version": "3.10.12"
  }
 },
 "nbformat": 4,
 "nbformat_minor": 5
}
