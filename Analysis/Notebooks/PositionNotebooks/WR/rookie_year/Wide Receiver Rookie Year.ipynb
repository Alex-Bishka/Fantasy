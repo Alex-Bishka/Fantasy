{
 "cells": [
  {
   "cell_type": "markdown",
   "id": "6af8fc4e",
   "metadata": {},
   "source": [
    "# Import"
   ]
  },
  {
   "cell_type": "code",
   "execution_count": null,
   "id": "9402ab32",
   "metadata": {},
   "outputs": [],
   "source": [
    "import pandas as pd\n",
    "import plotly.express as px"
   ]
  },
  {
   "cell_type": "code",
   "execution_count": null,
   "id": "2bf62522",
   "metadata": {},
   "outputs": [],
   "source": [
    "save_path = \"../../interactive-2.0/WR/the-525-rule\""
   ]
  },
  {
   "cell_type": "markdown",
   "id": "afdc4035",
   "metadata": {},
   "source": [
    "# Load Data"
   ]
  },
  {
   "cell_type": "code",
   "execution_count": null,
   "id": "d013ec5f",
   "metadata": {},
   "outputs": [],
   "source": [
    "df = pd.read_pickle(\"../../FantasyData/data-frames/df_basic_ngs_1999_2023.pkl\")"
   ]
  },
  {
   "cell_type": "markdown",
   "id": "410e8708",
   "metadata": {},
   "source": [
    "# Prep Data"
   ]
  },
  {
   "cell_type": "code",
   "execution_count": null,
   "id": "fa493073",
   "metadata": {},
   "outputs": [],
   "source": [
    "df_wr = df.copy().query(\"position == 'WR'\")"
   ]
  },
  {
   "cell_type": "code",
   "execution_count": null,
   "id": "a2f4ae60",
   "metadata": {},
   "outputs": [],
   "source": [
    "df_wr.dropna(subset=\"Draft Year\", inplace=True)"
   ]
  },
  {
   "cell_type": "code",
   "execution_count": null,
   "id": "f2f5e880",
   "metadata": {},
   "outputs": [],
   "source": [
    "df_wr['Draft Year'] = df_wr['Draft Year'].astype(str).str.replace('s', '')\n",
    "df_wr[\"Draft Year\"] = df_wr[\"Draft Year\"].astype(int)"
   ]
  },
  {
   "cell_type": "code",
   "execution_count": null,
   "id": "4755015f",
   "metadata": {},
   "outputs": [],
   "source": [
    "df_wr.head()"
   ]
  },
  {
   "cell_type": "markdown",
   "id": "65939f0b",
   "metadata": {},
   "source": [
    "# Create Rook Year DF"
   ]
  },
  {
   "cell_type": "code",
   "execution_count": null,
   "id": "d51d998c",
   "metadata": {},
   "outputs": [],
   "source": [
    "df_rook_year = df_wr.copy().loc[df_wr[\"season\"] == df_wr[\"Draft Year\"]]"
   ]
  },
  {
   "cell_type": "code",
   "execution_count": null,
   "id": "0715f8f9",
   "metadata": {},
   "outputs": [],
   "source": [
    "df_rook_year.query(\"player_name == 'Sammy Watkins'\")[[\"receiving_yards\"]]"
   ]
  },
  {
   "cell_type": "code",
   "execution_count": null,
   "id": "fd3a02a3",
   "metadata": {},
   "outputs": [],
   "source": [
    "fig = px.scatter(df_rook_year, x='Draft Year', y='receiving_yards', hover_data=[\"player_name\"])\n",
    "\n",
    "# Update layout for clarity.\n",
    "fig.update_layout(xaxis_title='Draft Year', yaxis_title='Receiving Yards')\n",
    "\n",
    "fig.add_hline(y=525, line_dash=\"dash\", line_color=\"red\")\n",
    "\n",
    "# Show the figure.\n",
    "# fig.write_html(f\"{save_path}/0-1000-bubble.html\")\n",
    "fig.show()"
   ]
  },
  {
   "cell_type": "code",
   "execution_count": null,
   "id": "79a7bb15",
   "metadata": {},
   "outputs": [],
   "source": []
  },
  {
   "cell_type": "markdown",
   "id": "1c3ac206",
   "metadata": {},
   "source": [
    "# Yard Bucket by Mode"
   ]
  },
  {
   "cell_type": "code",
   "execution_count": null,
   "id": "176f1e87",
   "metadata": {},
   "outputs": [],
   "source": [
    "# Calculate the mode of the 'tier' for each player\n",
    "mode_tiers = df_wr.groupby('player_id')['tier'].agg(lambda x: pd.Series.mode(x).iloc[0]).reset_index()\n",
    "mode_tiers.rename(columns={'tier': 'Min Mode Tier'}, inplace=True)\n",
    "\n",
    "# Merge the mode tiers back into the rookie year DataFrame\n",
    "df_rook_year_update = df_wr[df_wr[\"season\"] == df_wr[\"Draft Year\"]].merge(mode_tiers, on='player_id', how='left')\n",
    "\n",
    "# Define yardage categories with accurate labels\n",
    "bins = [0, 100, 200, 300, 400, 500, 600, 700, 800, float('inf')]\n",
    "labels = ['0-99', '100-199', '200-299', '300-399', '400-499', '500-599', '600-699', '700-799', '800+']\n",
    "\n",
    "# Categorize the receiving yards\n",
    "df_rook_year_update['Yards as Rookie'] = pd.cut(df_rook_year_update['receiving_yards'], bins=bins, labels=labels, right=False)\n",
    "\n",
    "# Group by 'yard_category' and 'mode_tier', then count the occurrences\n",
    "result = df_rook_year_update.groupby(['Yards as Rookie', 'Min Mode Tier']).size().unstack(fill_value=0)\n",
    "\n",
    "# Display the result\n",
    "result"
   ]
  },
  {
   "cell_type": "markdown",
   "id": "b7c4acdd",
   "metadata": {},
   "source": [
    "Color options for the heatmap:\n",
    "```\n",
    "'aggrnyl', 'agsunset', 'algae', 'amp', 'armyrose', 'balance',\n",
    " 'blackbody', 'bluered', 'blues', 'blugrn', 'bluyl', 'brbg',\n",
    " 'brwnyl', 'bugn', 'bupu', 'burg', 'burgyl', 'cividis', 'curl',\n",
    " 'darkmint', 'deep', 'delta', 'dense', 'earth', 'edge', 'electric',\n",
    " 'emrld', 'fall', 'geyser', 'gnbu', 'gray', 'greens', 'greys',\n",
    " 'haline', 'hot', 'hsv', 'ice', 'icefire', 'inferno', 'jet',\n",
    " 'magenta', 'magma', 'matter', 'mint', 'mrybm', 'mygbm', 'oranges',\n",
    " 'orrd', 'oryel', 'oxy', 'peach', 'phase', 'picnic', 'pinkyl',\n",
    " 'piyg', 'plasma', 'plotly3', 'portland', 'prgn', 'pubu', 'pubugn',\n",
    " 'puor', 'purd', 'purp', 'purples', 'purpor', 'rainbow', 'rdbu',\n",
    " 'rdgy', 'rdpu', 'rdylbu', 'rdylgn', 'redor', 'reds', 'solar',\n",
    " 'spectral', 'speed', 'sunset', 'sunsetdark', 'teal', 'tealgrn',\n",
    " 'tealrose', 'tempo', 'temps', 'thermal', 'tropic', 'turbid',\n",
    " 'turbo', 'twilight', 'viridis', 'ylgn', 'ylgnbu', 'ylorbr',\n",
    " 'ylorrd'\n",
    " ```"
   ]
  },
  {
   "cell_type": "code",
   "execution_count": null,
   "id": "402b8e89",
   "metadata": {},
   "outputs": [],
   "source": [
    "import plotly.graph_objects as go\n",
    "\n",
    "# Use your actual 'result' DataFrame from the previous step where you calculated the counts.\n",
    "# Replace 'result' below with your actual DataFrame variable.\n",
    "\n",
    "# Create the heatmap\n",
    "fig = go.Figure(data=go.Heatmap(\n",
    "    z=result.values,  # The counts from your DataFrame\n",
    "    x=result.columns,  # These are the Min Mode Tier values\n",
    "    y=result.index,  # These are the Yards as Rookie categories\n",
    "    hoverongaps=False,\n",
    "    colorscale='blackbody'\n",
    "))\n",
    "\n",
    "# Update the layout for a better presentation\n",
    "fig.update_layout(\n",
    "    title='Heatmap of Rookie Yard Tiers vs. Mode Tiers',\n",
    "    xaxis_title='Min Mode Tier',\n",
    "    yaxis_title='Yards as Rookie',\n",
    "    xaxis_nticks=36  # Adjust this if you need more or fewer ticks based on your actual tiers\n",
    ")\n",
    "\n",
    "# Show the figure\n",
    "fig.show()"
   ]
  },
  {
   "cell_type": "code",
   "execution_count": null,
   "id": "7e3e4ebe",
   "metadata": {},
   "outputs": [],
   "source": [
    "result.iloc[1:]"
   ]
  },
  {
   "cell_type": "code",
   "execution_count": null,
   "id": "504b24d2",
   "metadata": {},
   "outputs": [],
   "source": [
    "result.to_html(f\"{save_path}/bins-800.html\")"
   ]
  },
  {
   "cell_type": "code",
   "execution_count": null,
   "id": "d5a2d101",
   "metadata": {},
   "outputs": [],
   "source": [
    "import plotly.graph_objects as go\n",
    "\n",
    "# Use your actual 'result' DataFrame from the previous step where you calculated the counts.\n",
    "# Replace 'result' below with your actual DataFrame variable.\n",
    "\n",
    "# Create the heatmap\n",
    "fig = go.Figure(data=go.Heatmap(\n",
    "    z=result.iloc[1:].values,  # The counts from your DataFrame\n",
    "    x=result.iloc[1:].columns,  # These are the Min Mode Tier values\n",
    "    y=result.iloc[1:].index,  # These are the Yards as Rookie categories\n",
    "    hoverongaps=False,\n",
    "    colorscale='blackbody'\n",
    "))\n",
    "\n",
    "# Update the layout for a better presentation\n",
    "fig.update_layout(\n",
    "    title='Heatmap of Rookie Yard Tiers vs. Mode Tiers',\n",
    "    xaxis_title='Min Mode Tier',\n",
    "    yaxis_title='Yards as Rookie',\n",
    "    xaxis_nticks=36  # Adjust this if you need more or fewer ticks based on your actual tiers\n",
    ")\n",
    "\n",
    "# Show the figure\n",
    "fig.show()"
   ]
  },
  {
   "cell_type": "code",
   "execution_count": null,
   "id": "2557964a",
   "metadata": {},
   "outputs": [],
   "source": [
    "row_totals = result.sum(axis=1)\n",
    "result_percentage_by_row = round(result.div(row_totals, axis=0) * 100, 2)\n",
    "result_percentage_by_row"
   ]
  },
  {
   "cell_type": "code",
   "execution_count": null,
   "id": "5e8f6025",
   "metadata": {},
   "outputs": [],
   "source": [
    "import plotly.graph_objects as go\n",
    "\n",
    "# Use your actual 'result' DataFrame from the previous step where you calculated the counts.\n",
    "# Replace 'result' below with your actual DataFrame variable.\n",
    "\n",
    "# Create the heatmap\n",
    "fig = go.Figure(data=go.Heatmap(\n",
    "    z=result_percentage_by_row.iloc[0:].values,  # The counts from your DataFrame\n",
    "    x=result_percentage_by_row.iloc[0:].columns,  # These are the Min Mode Tier values\n",
    "    y=result_percentage_by_row.iloc[0:].index,  # These are the Yards as Rookie categories\n",
    "    hoverongaps=False,\n",
    "    colorscale='blackbody'\n",
    "))\n",
    "\n",
    "# Update the layout for a better presentation\n",
    "fig.update_layout(\n",
    "    title='Heatmap of Rookie Yard Tiers vs. Min Mode Tiers Percentages',\n",
    "    xaxis_title='Min Mode Tier',\n",
    "    yaxis_title='Yards as Rookie',\n",
    "    xaxis_nticks=36  # Adjust this if you need more or fewer ticks based on your actual tiers\n",
    ")\n",
    "\n",
    "# Show the figure\n",
    "fig.write_html(f\"{save_path}/heat-map-800-bins-percentage.html\")\n",
    "fig.show()"
   ]
  },
  {
   "cell_type": "code",
   "execution_count": null,
   "id": "6e76acd4",
   "metadata": {},
   "outputs": [],
   "source": [
    "import plotly.graph_objects as go\n",
    "\n",
    "# Use your actual 'result' DataFrame from the previous step where you calculated the counts.\n",
    "# Replace 'result' below with your actual DataFrame variable.\n",
    "\n",
    "min_modes_to_graph = [1.0, 2.0, 3.0, 4.0, 5.0]\n",
    "\n",
    "# Create the heatmap\n",
    "fig = go.Figure(data=go.Heatmap(\n",
    "    z=result_percentage_by_row.iloc[3:][min_modes_to_graph].values,  # The counts from your DataFrame\n",
    "    x=result_percentage_by_row.iloc[3:][min_modes_to_graph].columns,  # These are the Min Mode Tier values\n",
    "    y=result_percentage_by_row.iloc[3:][min_modes_to_graph].index,  # These are the Yards as Rookie categories\n",
    "    hoverongaps=False,\n",
    "    colorscale='blackbody'\n",
    "))\n",
    "\n",
    "# Update the layout for a better presentation\n",
    "fig.update_layout(\n",
    "    title='Heatmap of Rookie Yard Tiers vs. Min Mode Tiers Percentages Zoomed In',\n",
    "    xaxis_title='Min Mode Tier',\n",
    "    yaxis_title='Yards as Rookie',\n",
    "    xaxis_nticks=8  # Adjust this if you need more or fewer ticks based on your actual tiers\n",
    ")\n",
    "\n",
    "# Show the figure\n",
    "fig.write_html(f\"{save_path}/heat-map-800-bins-percentage-zoomed.html\")\n",
    "fig.show()"
   ]
  },
  {
   "cell_type": "code",
   "execution_count": null,
   "id": "dc415987",
   "metadata": {},
   "outputs": [],
   "source": [
    "result_percentage_by_row.to_html(f\"{save_path}/bins-800-percentage.html\")"
   ]
  },
  {
   "cell_type": "code",
   "execution_count": null,
   "id": "755e9e1e",
   "metadata": {},
   "outputs": [],
   "source": [
    "# Calculate the mode of the 'tier' for each player\n",
    "mode_tiers = df_wr.groupby('player_id')['tier'].agg(lambda x: pd.Series.mode(x).iloc[0]).reset_index()\n",
    "mode_tiers.rename(columns={'tier': 'Min Mode Tier'}, inplace=True)\n",
    "\n",
    "# Merge the mode tiers back into the rookie year DataFrame\n",
    "df_rook_year_update = df_wr[df_wr[\"season\"] == df_wr[\"Draft Year\"]].merge(mode_tiers, on='player_id', how='left')\n",
    "\n",
    "# Define yardage categories with accurate labels\n",
    "bins = [0, 100, 200, 300, 400, 500, 600, 700, 800, 900, 1000, float('inf')]\n",
    "labels = ['0-99', '100-199', '200-299', '300-399', '400-499', '500-599', '600-699', '700-799', \n",
    "          '800-899', '900-999', '1000+']\n",
    "\n",
    "# Categorize the receiving yards\n",
    "df_rook_year_update['Yards as Rookie'] = pd.cut(df_rook_year_update['receiving_yards'], bins=bins, labels=labels, right=False)\n",
    "\n",
    "# Group by 'yard_category' and 'mode_tier', then count the occurrences\n",
    "result = df_rook_year_update.groupby(['Yards as Rookie', 'Min Mode Tier']).size().unstack(fill_value=0)\n",
    "\n",
    "# Display the result\n",
    "result"
   ]
  },
  {
   "cell_type": "code",
   "execution_count": null,
   "id": "68354440",
   "metadata": {},
   "outputs": [],
   "source": [
    "result = result.iloc[5:]"
   ]
  },
  {
   "cell_type": "code",
   "execution_count": null,
   "id": "a45232b7",
   "metadata": {},
   "outputs": [],
   "source": [
    "result.to_html(f\"{save_path}/elites.html\")"
   ]
  },
  {
   "cell_type": "code",
   "execution_count": null,
   "id": "69ff20d9",
   "metadata": {},
   "outputs": [],
   "source": [
    "result"
   ]
  },
  {
   "cell_type": "markdown",
   "id": "e41da3dc",
   "metadata": {},
   "source": [
    "### Percentages by Row"
   ]
  },
  {
   "cell_type": "code",
   "execution_count": null,
   "id": "8301e133",
   "metadata": {},
   "outputs": [],
   "source": [
    "row_totals = result.sum(axis=1)\n",
    "result_percentage_by_row = round(result.div(row_totals, axis=0) * 100, 2)"
   ]
  },
  {
   "cell_type": "code",
   "execution_count": null,
   "id": "74fc80f3",
   "metadata": {},
   "outputs": [],
   "source": [
    "result_percentage_by_row"
   ]
  },
  {
   "cell_type": "code",
   "execution_count": null,
   "id": "df115525",
   "metadata": {},
   "outputs": [],
   "source": [
    "# result_percentage_by_row.to_html(f\"{save_path}/elites-percentages.html\")"
   ]
  },
  {
   "cell_type": "code",
   "execution_count": null,
   "id": "06f2a376",
   "metadata": {},
   "outputs": [],
   "source": [
    "df_graph = result_percentage_by_row.copy()\n",
    "df_graph.reset_index(inplace=True)\n",
    "df_graph[\"min_mode_tier\"] = [1, 2, 3, 4, 5, 6, 7, 8, 9, 10, 11]\n",
    "df_graph"
   ]
  },
  {
   "cell_type": "code",
   "execution_count": null,
   "id": "86d17b6c",
   "metadata": {},
   "outputs": [],
   "source": [
    "df_melted = df_graph.melt(id_vars=['min_mode_tier', 'Yards as Rookie'], var_name='Min Mode Tier', value_name='Value')\n",
    "fig = px.scatter(df_melted, x='Min Mode Tier', y='Value', size='Value', color='Yards as Rookie',\n",
    "                 category_orders={\"Yards as Rookie\": ['0-99', '100-199', '200-299', '300-399', '400-499',\n",
    "                                                      '500-599', '600-699', '700-799', \n",
    "          '800-899', '900-999', '1000+']},\n",
    "                 labels={'Value': 'Percentage (%)'},\n",
    "                 title='Bubble Chart of Percentages by Min Mode Tier and Yards Category',\n",
    "                 size_max=60)\n",
    "\n",
    "# Update layout for clarity.\n",
    "fig.update_layout(xaxis_title='Min Mode Tier', yaxis_title='Percentage (%)')\n",
    "\n",
    "# Show the figure.\n",
    "fig.write_html(f\"{save_path}/0-1000-bubble.html\")\n",
    "fig.show()"
   ]
  },
  {
   "cell_type": "code",
   "execution_count": null,
   "id": "415e8233",
   "metadata": {},
   "outputs": [],
   "source": [
    "# Assuming your DataFrame is named 'result_percentage_by_row'\n",
    "tier_1_data = result_percentage_by_row[list(result_percentage_by_row.columns[:5])]  # Selects the data for 'tier 1'\n",
    "tier_1_data"
   ]
  },
  {
   "cell_type": "code",
   "execution_count": null,
   "id": "5f18ff0f",
   "metadata": {},
   "outputs": [],
   "source": [
    "tier_1_data.to_html(f\"{save_path}/elites-percentages-zoomed.html\")"
   ]
  },
  {
   "cell_type": "markdown",
   "id": "97e90e19",
   "metadata": {},
   "source": [
    "# The Great Filter"
   ]
  },
  {
   "cell_type": "markdown",
   "id": "f9223597",
   "metadata": {},
   "source": [
    "### 575 Rule"
   ]
  },
  {
   "cell_type": "code",
   "execution_count": null,
   "id": "308eac03",
   "metadata": {},
   "outputs": [],
   "source": [
    "# Calculate the mode of the 'tier' for each player\n",
    "mode_tiers = df_wr.groupby('player_id')['tier'].agg(lambda x: pd.Series.mode(x).iloc[0]).reset_index()\n",
    "mode_tiers.rename(columns={'tier': 'Min Mode Tier'}, inplace=True)\n",
    "\n",
    "# Merge the mode tiers back into the rookie year DataFrame\n",
    "df_rook_year_update = df_wr[df_wr[\"season\"] == df_wr[\"Draft Year\"]].merge(mode_tiers, on='player_id', how='left')\n",
    "\n",
    "# Define yardage categories with accurate labels\n",
    "bins = [0, 575, float('inf')]\n",
    "labels = ['0-574', '575+']\n",
    "\n",
    "# Categorize the receiving yards\n",
    "df_rook_year_update['Yards as Rookie'] = pd.cut(df_rook_year_update['receiving_yards'], bins=bins, labels=labels, right=False)\n",
    "\n",
    "# Group by 'yard_category' and 'mode_tier', then count the occurrences\n",
    "result = df_rook_year_update.groupby(['Yards as Rookie', 'Min Mode Tier']).size().unstack(fill_value=0)\n",
    "\n",
    "# Display the result\n",
    "result"
   ]
  },
  {
   "cell_type": "code",
   "execution_count": null,
   "id": "27189a74",
   "metadata": {},
   "outputs": [],
   "source": [
    "result.to_html(f\"{save_path}/575-rule.html\")"
   ]
  },
  {
   "cell_type": "code",
   "execution_count": null,
   "id": "7ae4615a",
   "metadata": {},
   "outputs": [],
   "source": [
    "row_totals = result.sum(axis=1)\n",
    "result_percentage_by_row = round(result.div(row_totals, axis=0) * 100, 2)\n",
    "result_percentage_by_row"
   ]
  },
  {
   "cell_type": "code",
   "execution_count": null,
   "id": "25431543",
   "metadata": {},
   "outputs": [],
   "source": [
    "result_percentage_by_row.to_html(f\"{save_path}/575-rule-percentage.html\")"
   ]
  },
  {
   "cell_type": "markdown",
   "id": "bab08535",
   "metadata": {},
   "source": [
    "### 525 Rule"
   ]
  },
  {
   "cell_type": "code",
   "execution_count": null,
   "id": "0b19af47",
   "metadata": {},
   "outputs": [],
   "source": [
    "# Calculate the mode of the 'tier' for each player\n",
    "mode_tiers = df_wr.groupby('player_id')['tier'].agg(lambda x: pd.Series.mode(x).iloc[0]).reset_index()\n",
    "mode_tiers.rename(columns={'tier': 'Min Mode Tier'}, inplace=True)\n",
    "\n",
    "# Merge the mode tiers back into the rookie year DataFrame\n",
    "df_rook_year_update = df_wr[df_wr[\"season\"] == df_wr[\"Draft Year\"]].merge(mode_tiers, on='player_id', how='left')\n",
    "\n",
    "# Define yardage categories with accurate labels\n",
    "bins = [0, 525, float('inf')]\n",
    "labels = ['0-524', '525+']\n",
    "\n",
    "# Categorize the receiving yards\n",
    "df_rook_year_update['Yards as Rookie'] = pd.cut(df_rook_year_update['receiving_yards'], bins=bins, labels=labels, right=False)\n",
    "\n",
    "# Group by 'yard_category' and 'mode_tier', then count the occurrences\n",
    "result = df_rook_year_update.groupby(['Yards as Rookie', 'Min Mode Tier']).size().unstack(fill_value=0)\n",
    "\n",
    "# Display the result\n",
    "result"
   ]
  },
  {
   "cell_type": "code",
   "execution_count": null,
   "id": "2e190689",
   "metadata": {},
   "outputs": [],
   "source": [
    "result.to_html(f\"{save_path}/525-rule.html\")"
   ]
  },
  {
   "cell_type": "code",
   "execution_count": null,
   "id": "1c44586d",
   "metadata": {},
   "outputs": [],
   "source": [
    "row_totals = result.sum(axis=1)\n",
    "result_percentage_by_row = round(result.div(row_totals, axis=0) * 100, 2)\n",
    "result_percentage_by_row"
   ]
  },
  {
   "cell_type": "code",
   "execution_count": null,
   "id": "b65e6903",
   "metadata": {},
   "outputs": [],
   "source": [
    "result_percentage_by_row.to_html(f\"{save_path}/525-rule-percentage.html\")"
   ]
  },
  {
   "cell_type": "code",
   "execution_count": null,
   "id": "5499e25a",
   "metadata": {},
   "outputs": [],
   "source": [
    "import plotly.graph_objects as go\n",
    "\n",
    "# Use your actual 'result' DataFrame from the previous step where you calculated the counts.\n",
    "# Replace 'result' below with your actual DataFrame variable.\n",
    "\n",
    "df_graph = result_percentage_by_row.copy()\n",
    "\n",
    "# Create the heatmap\n",
    "fig = go.Figure(data=go.Heatmap(\n",
    "    z=df_graph.values,  # The counts from your DataFrame\n",
    "    x=df_graph.columns,  # These are the Min Mode Tier values\n",
    "    y=df_graph.index,  # These are the Yards as Rookie categories\n",
    "    hoverongaps=False,\n",
    "    colorscale='blackbody'\n",
    "))\n",
    "\n",
    "# Update the layout for a better presentation\n",
    "fig.update_layout(\n",
    "    title='Heatmap of Rookie Yard Tiers vs. Mode Tiers',\n",
    "    xaxis_title='Min Mode Tier',\n",
    "    yaxis_title='Yards as Rookie',\n",
    "    xaxis_nticks=36  # Adjust this if you need more or fewer ticks based on your actual tiers\n",
    ")\n",
    "\n",
    "# Show the figure\n",
    "fig.show()"
   ]
  },
  {
   "cell_type": "code",
   "execution_count": null,
   "id": "67016a84",
   "metadata": {},
   "outputs": [],
   "source": [
    "df_graph"
   ]
  },
  {
   "cell_type": "code",
   "execution_count": null,
   "id": "e5e96211",
   "metadata": {},
   "outputs": [],
   "source": [
    "df_graph.reset_index(inplace=True)"
   ]
  },
  {
   "cell_type": "code",
   "execution_count": null,
   "id": "a15d9548",
   "metadata": {},
   "outputs": [],
   "source": [
    "df_graph[\"min_mode_tier\"] = [1.0, 2.0]"
   ]
  },
  {
   "cell_type": "code",
   "execution_count": null,
   "id": "a683c7dd",
   "metadata": {},
   "outputs": [],
   "source": [
    "df_melted = df_graph.melt(id_vars=['min_mode_tier', 'Yards as Rookie'], var_name='Min Mode Tier', value_name='Value')"
   ]
  },
  {
   "cell_type": "code",
   "execution_count": null,
   "id": "8c64d4af",
   "metadata": {},
   "outputs": [],
   "source": [
    "df_melted.head()"
   ]
  },
  {
   "cell_type": "code",
   "execution_count": null,
   "id": "20cd3b0c",
   "metadata": {},
   "outputs": [],
   "source": [
    "fig = px.bar(df_melted, x='Min Mode Tier', y='Value', color='Yards as Rookie', barmode='group',\n",
    "             category_orders={\"Yards as Rookie\": [\"0-524\", \"525+\"]},\n",
    "             labels={'Value': 'Percentage (%)'},\n",
    "             title='Bar Chart of Percentages by Mode Tier and Yards Category')\n",
    "\n",
    "# Update layout for clarity.\n",
    "fig.update_layout(xaxis_title='Min Mode Tier', yaxis_title='Percentage (%)')\n",
    "\n",
    "# Show the figure.\n",
    "fig.show()"
   ]
  },
  {
   "cell_type": "markdown",
   "id": "f67ad1a6",
   "metadata": {},
   "source": [
    "### 500 Rule"
   ]
  },
  {
   "cell_type": "code",
   "execution_count": null,
   "id": "2a7c9e17",
   "metadata": {},
   "outputs": [],
   "source": [
    "# Calculate the mode of the 'tier' for each player\n",
    "mode_tiers = df_wr.groupby('player_id')['tier'].agg(lambda x: pd.Series.mode(x).iloc[0]).reset_index()\n",
    "mode_tiers.rename(columns={'tier': 'Min Mode Tier'}, inplace=True)\n",
    "\n",
    "# Merge the mode tiers back into the rookie year DataFrame\n",
    "df_rook_year_update = df_wr[df_wr[\"season\"] == df_wr[\"Draft Year\"]].merge(mode_tiers, on='player_id', how='left')\n",
    "\n",
    "# Define yardage categories with accurate labels\n",
    "bins = [0, 500, float('inf')]\n",
    "labels = ['0-499', '500+']\n",
    "\n",
    "# Categorize the receiving yards\n",
    "df_rook_year_update['Yards as Rookie'] = pd.cut(df_rook_year_update['receiving_yards'], bins=bins, labels=labels, right=False)\n",
    "\n",
    "# Group by 'yard_category' and 'mode_tier', then count the occurrences\n",
    "result = df_rook_year_update.groupby(['Yards as Rookie', 'Min Mode Tier']).size().unstack(fill_value=0)\n",
    "\n",
    "# Display the result\n",
    "result"
   ]
  },
  {
   "cell_type": "code",
   "execution_count": null,
   "id": "3e6d789e",
   "metadata": {},
   "outputs": [],
   "source": [
    "result.to_html(f\"{save_path}/500-rule.html\")"
   ]
  },
  {
   "cell_type": "code",
   "execution_count": null,
   "id": "b123a7db",
   "metadata": {},
   "outputs": [],
   "source": [
    "row_totals = result.sum(axis=1)\n",
    "result_percentage_by_row = round(result.div(row_totals, axis=0) * 100, 2)\n",
    "result_percentage_by_row"
   ]
  },
  {
   "cell_type": "code",
   "execution_count": null,
   "id": "687a29ee",
   "metadata": {},
   "outputs": [],
   "source": [
    "result_percentage_by_row.to_html(f\"{save_path}/500-rule-percentage.html\")"
   ]
  },
  {
   "cell_type": "code",
   "execution_count": null,
   "id": "f388c3f8",
   "metadata": {},
   "outputs": [],
   "source": [
    "df_graph = result_percentage_by_row.copy()\n",
    "df_graph.reset_index(inplace=True)\n",
    "df_graph[\"min_mode_tier\"] = [1.0, 2.0]\n",
    "df_melted = df_graph.melt(id_vars=['min_mode_tier', 'Yards as Rookie'], var_name='Min Mode Tier', value_name='Value')\n",
    "fig = px.scatter(df_melted, x='Min Mode Tier', y='Value', size='Value', color='Yards as Rookie',\n",
    "                 category_orders={\"Yards as Rookie\": [\"0-499\", \"500+\"]},\n",
    "                 labels={'Value': 'Percentage (%)'},\n",
    "                 title='Bubble Chart of Percentages by Min Mode Tier and Yards Category',\n",
    "                 size_max=60)\n",
    "\n",
    "# Update layout for clarity.\n",
    "fig.update_layout(xaxis_title='Min Mode Tier', yaxis_title='Percentage (%)')\n",
    "\n",
    "# Show the figure.\n",
    "fig.write_html(f\"{save_path}/500-rule-bubble.html\")\n",
    "fig.show()"
   ]
  },
  {
   "cell_type": "markdown",
   "id": "770defcf",
   "metadata": {},
   "source": [
    "### Lowest Threshold"
   ]
  },
  {
   "cell_type": "code",
   "execution_count": null,
   "id": "db262d7f",
   "metadata": {},
   "outputs": [],
   "source": [
    "# Calculate the mode of the 'tier' for each player\n",
    "mode_tiers = df_wr.groupby('player_id')['tier'].agg(lambda x: pd.Series.mode(x).iloc[0]).reset_index()\n",
    "mode_tiers.rename(columns={'tier': 'Min Mode Tier'}, inplace=True)\n",
    "\n",
    "# Merge the mode tiers back into the rookie year DataFrame\n",
    "df_rook_year_update = df_wr[df_wr[\"season\"] == df_wr[\"Draft Year\"]].merge(mode_tiers, on='player_id', how='left')\n",
    "\n",
    "# Define yardage categories with accurate labels\n",
    "bins = [0, 475, float('inf')]\n",
    "labels = ['0-474', '475+']\n",
    "\n",
    "# Categorize the receiving yards\n",
    "df_rook_year_update['Yards as Rookie'] = pd.cut(df_rook_year_update['receiving_yards'], bins=bins, labels=labels, right=False)\n",
    "\n",
    "# Group by 'yard_category' and 'mode_tier', then count the occurrences\n",
    "result = df_rook_year_update.groupby(['Yards as Rookie', 'Min Mode Tier']).size().unstack(fill_value=0)\n",
    "\n",
    "row_totals = result.sum(axis=1)\n",
    "result_percentage_by_row = round(result.div(row_totals, axis=0) * 100, 2)\n",
    "result_percentage_by_row"
   ]
  },
  {
   "cell_type": "markdown",
   "id": "d38201e2",
   "metadata": {},
   "source": [
    "# Filters on Rook Year"
   ]
  },
  {
   "cell_type": "code",
   "execution_count": null,
   "id": "a0f71cae",
   "metadata": {},
   "outputs": [],
   "source": [
    "df_rook_year.query(\"receiving_yards >= 800\")[[\"Draft Year\", \"player_name\", \"receiving_yards\"]]"
   ]
  },
  {
   "cell_type": "code",
   "execution_count": null,
   "id": "abaa8ebe",
   "metadata": {},
   "outputs": [],
   "source": [
    "df_filter = df_rook_year \\\n",
    "    .query(\"receiving_yards >= 1000\") \\\n",
    "    .reset_index()[[\"Draft Year\", \"player_name\", \"receiving_yards\"]]"
   ]
  },
  {
   "cell_type": "code",
   "execution_count": null,
   "id": "1e78e6b9",
   "metadata": {},
   "outputs": [],
   "source": [
    "def highlight_row(row):\n",
    "    return ['background-color: red' if row['Player Name'] == 'Michael Clayton' else '' for _ in row]\n",
    "\n",
    "df_filter[\"receiving_yards\"] = df_filter[\"receiving_yards\"].astype(int)\n",
    "df_filter.rename(columns={\"player_name\": \"Player Name\", \"receiving_yards\": \"Yards as Rookie\"}, inplace=True)\n",
    "# Assuming 'df' is your DataFrame\n",
    "df_highlighted = df_filter.style.apply(highlight_row, axis=1)"
   ]
  },
  {
   "cell_type": "code",
   "execution_count": null,
   "id": "dff7b4b5",
   "metadata": {},
   "outputs": [],
   "source": [
    "df_highlighted = df_highlighted.set_properties(**{'border': '1px solid black'})"
   ]
  },
  {
   "cell_type": "code",
   "execution_count": null,
   "id": "4c684769",
   "metadata": {},
   "outputs": [],
   "source": [
    "df_highlighted"
   ]
  },
  {
   "cell_type": "code",
   "execution_count": null,
   "id": "b31351e3",
   "metadata": {},
   "outputs": [],
   "source": [
    "df_highlighted.to_html(f\"{save_path}/over-1000-yards-rookie-year.html\")"
   ]
  },
  {
   "cell_type": "code",
   "execution_count": null,
   "id": "26a80e57",
   "metadata": {},
   "outputs": [],
   "source": []
  }
 ],
 "metadata": {
  "kernelspec": {
   "display_name": "plotly",
   "language": "python",
   "name": "plotly"
  },
  "language_info": {
   "codemirror_mode": {
    "name": "ipython",
    "version": 3
   },
   "file_extension": ".py",
   "mimetype": "text/x-python",
   "name": "python",
   "nbconvert_exporter": "python",
   "pygments_lexer": "ipython3",
   "version": "3.10.12"
  }
 },
 "nbformat": 4,
 "nbformat_minor": 5
}
