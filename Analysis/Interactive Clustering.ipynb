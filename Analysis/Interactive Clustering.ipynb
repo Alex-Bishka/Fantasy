{
 "cells": [
  {
   "cell_type": "markdown",
   "id": "fbfa5cf2",
   "metadata": {},
   "source": [
    "# Imports"
   ]
  },
  {
   "cell_type": "code",
   "execution_count": 62,
   "id": "3984a115",
   "metadata": {},
   "outputs": [],
   "source": [
    "from utils.utils import grab_data\n",
    "from utils.clustering import (create_cluster_data, get_candidate_cluster_n_values,\n",
    "create_clusters, create_cluster_df, graph_pair_plot, graph_pair_plot_plotly)"
   ]
  },
  {
   "cell_type": "markdown",
   "id": "109b58a1",
   "metadata": {},
   "source": [
    "# Grabbing Data"
   ]
  },
  {
   "cell_type": "code",
   "execution_count": 63,
   "id": "e962fff6",
   "metadata": {},
   "outputs": [],
   "source": [
    "seasons = grab_data(by_position=True, by_player=False)"
   ]
  },
  {
   "cell_type": "code",
   "execution_count": 64,
   "id": "736c6a8e",
   "metadata": {},
   "outputs": [
    {
     "data": {
      "text/plain": [
       "dict_keys(['RB', 'WR', 'QB', 'TE'])"
      ]
     },
     "execution_count": 64,
     "metadata": {},
     "output_type": "execute_result"
    }
   ],
   "source": [
    "seasons_dict = dict()\n",
    "for year, season in seasons:\n",
    "    seasons_dict[year] = season\n",
    "\n",
    "seasons_dict[\"2010\"].keys()"
   ]
  },
  {
   "cell_type": "markdown",
   "id": "6044aeea",
   "metadata": {},
   "source": [
    "## QB Data"
   ]
  },
  {
   "cell_type": "code",
   "execution_count": 65,
   "id": "e4bb6508",
   "metadata": {},
   "outputs": [],
   "source": [
    "qbs = seasons_dict[\"2022\"][\"QB\"]\n",
    "qbs.sort()\n",
    "qbs.reverse()"
   ]
  },
  {
   "cell_type": "markdown",
   "id": "a1a7e5aa",
   "metadata": {},
   "source": [
    "## RB Data"
   ]
  },
  {
   "cell_type": "code",
   "execution_count": 66,
   "id": "397918a4",
   "metadata": {},
   "outputs": [],
   "source": [
    "rbs = seasons_dict[\"2022\"][\"RB\"]\n",
    "rbs.sort()\n",
    "rbs.reverse()"
   ]
  },
  {
   "cell_type": "markdown",
   "id": "64fad3f5",
   "metadata": {},
   "source": [
    "## WR Data"
   ]
  },
  {
   "cell_type": "code",
   "execution_count": 67,
   "id": "f2f7e998",
   "metadata": {},
   "outputs": [],
   "source": [
    "wrs = seasons_dict[\"2022\"][\"WR\"]\n",
    "wrs.sort()\n",
    "wrs.reverse()"
   ]
  },
  {
   "cell_type": "markdown",
   "id": "07077a99",
   "metadata": {},
   "source": [
    "## TE Data"
   ]
  },
  {
   "cell_type": "code",
   "execution_count": 68,
   "id": "32461c40",
   "metadata": {},
   "outputs": [],
   "source": [
    "tes = seasons_dict[\"2022\"][\"TE\"]\n",
    "tes.sort()\n",
    "tes.reverse()"
   ]
  },
  {
   "cell_type": "markdown",
   "id": "32542bd5",
   "metadata": {},
   "source": [
    "# Position"
   ]
  },
  {
   "cell_type": "code",
   "execution_count": 69,
   "id": "51404f59",
   "metadata": {},
   "outputs": [],
   "source": [
    "players = qbs[:30]\n",
    "position = players[0].position"
   ]
  },
  {
   "cell_type": "markdown",
   "id": "0c3a639d",
   "metadata": {},
   "source": [
    "# Testing Function"
   ]
  },
  {
   "cell_type": "code",
   "execution_count": 70,
   "id": "7a8a8023",
   "metadata": {},
   "outputs": [],
   "source": [
    "suffix = \"rushing-per-game\"\n",
    "font_size = 10\n",
    "marker_size = 6\n",
    "dim = 1000"
   ]
  },
  {
   "cell_type": "markdown",
   "id": "d904da63",
   "metadata": {},
   "source": [
    "## Generating X"
   ]
  },
  {
   "cell_type": "code",
   "execution_count": 71,
   "id": "f6ac5ef5",
   "metadata": {},
   "outputs": [],
   "source": [
    "# for receiving stats\n",
    "# stats = [\"Receiving Yards\", \"Receptions\", \"Receiving TDs\", \"Targets\"]\n",
    "# stats = [\"Receiving Yards Per Game\", \"Receptions Per Game\", \"Receiving TDs Per Game\", \"Targets Per Game\"]\n",
    "\n",
    "# for passing stats\n",
    "# stats = [\"Passing Yards\", \"Attempts\", \"Completions\", \"Passing TDs\", \"Interceptions\"]\n",
    "# stats = [\"Passing Yards Per Game\", \"Attempts Per Game\", \"Completions Per Game\", \"Passing TDs Per Game\", \"Interceptions Per Game\"]\n",
    "\n",
    "# for rushing stats\n",
    "# stats = [\"Rushing Yards\", \"Carries\", \"Yards Per Carry\", \"Rushing Touchdowns\", \"Fumbles\"]\n",
    "stats = [\"Rushing Yards Per Game\", \"Carries Per Game\", \"Yards Per Carry\", \"Rushing Touchdowns Per Game\", \"Fumbles Per Game\"]\n",
    "\n",
    "# totals\n",
    "# stats = [\"Total Yards\", \"Total TDs\", \"Receptions\", \"Targets\", \"Carries\", \"Yards Per Carry\", \"Fumbles\"]\n",
    "# stats = [\"Yards Per Game\", \"TDs Per Game\", \"Receptions Per Game\", \"Targets Per Game\", \"Carries Per Game\", \"Yards Per Carry\", \"Fumbles Per Game\"]\n"
   ]
  },
  {
   "cell_type": "code",
   "execution_count": 72,
   "id": "631104ed",
   "metadata": {},
   "outputs": [],
   "source": [
    "X, X_scaled = create_cluster_data(players=players, stats=stats)"
   ]
  },
  {
   "cell_type": "code",
   "execution_count": 73,
   "id": "84dd121f",
   "metadata": {},
   "outputs": [],
   "source": [
    "# X_scaled"
   ]
  },
  {
   "cell_type": "markdown",
   "id": "91daa342",
   "metadata": {},
   "source": [
    "## Finding Optimal N Value"
   ]
  },
  {
   "cell_type": "code",
   "execution_count": 74,
   "id": "96b28d48",
   "metadata": {},
   "outputs": [
    {
     "data": {
      "image/png": "[encoded data removed]",
      "text/plain": [
       "<Figure size 432x288 with 1 Axes>"
      ]
     },
     "metadata": {
      "needs_background": "light"
     },
     "output_type": "display_data"
    },
    {
     "data": {
      "text/html": [
       "<style>#sk-container-id-2 {color: black;}#sk-container-id-2 pre{padding: 0;}#sk-container-id-2 div.sk-toggleable {background-color: white;}#sk-container-id-2 label.sk-toggleable__label {cursor: pointer;display: block;width: 100%;margin-bottom: 0;padding: 0.3em;box-sizing: border-box;text-align: center;}#sk-container-id-2 label.sk-toggleable__label-arrow:before {content: \"▸\";float: left;margin-right: 0.25em;color: #696969;}#sk-container-id-2 label.sk-toggleable__label-arrow:hover:before {color: black;}#sk-container-id-2 div.sk-estimator:hover label.sk-toggleable__label-arrow:before {color: black;}#sk-container-id-2 div.sk-toggleable__content {max-height: 0;max-width: 0;overflow: hidden;text-align: left;background-color: #f0f8ff;}#sk-container-id-2 div.sk-toggleable__content pre {margin: 0.2em;color: black;border-radius: 0.25em;background-color: #f0f8ff;}#sk-container-id-2 input.sk-toggleable__control:checked~div.sk-toggleable__content {max-height: 200px;max-width: 100%;overflow: auto;}#sk-container-id-2 input.sk-toggleable__control:checked~label.sk-toggleable__label-arrow:before {content: \"▾\";}#sk-container-id-2 div.sk-estimator input.sk-toggleable__control:checked~label.sk-toggleable__label {background-color: #d4ebff;}#sk-container-id-2 div.sk-label input.sk-toggleable__control:checked~label.sk-toggleable__label {background-color: #d4ebff;}#sk-container-id-2 input.sk-hidden--visually {border: 0;clip: rect(1px 1px 1px 1px);clip: rect(1px, 1px, 1px, 1px);height: 1px;margin: -1px;overflow: hidden;padding: 0;position: absolute;width: 1px;}#sk-container-id-2 div.sk-estimator {font-family: monospace;background-color: #f0f8ff;border: 1px dotted black;border-radius: 0.25em;box-sizing: border-box;margin-bottom: 0.5em;}#sk-container-id-2 div.sk-estimator:hover {background-color: #d4ebff;}#sk-container-id-2 div.sk-parallel-item::after {content: \"\";width: 100%;border-bottom: 1px solid gray;flex-grow: 1;}#sk-container-id-2 div.sk-label:hover label.sk-toggleable__label {background-color: #d4ebff;}#sk-container-id-2 div.sk-serial::before {content: \"\";position: absolute;border-left: 1px solid gray;box-sizing: border-box;top: 0;bottom: 0;left: 50%;z-index: 0;}#sk-container-id-2 div.sk-serial {display: flex;flex-direction: column;align-items: center;background-color: white;padding-right: 0.2em;padding-left: 0.2em;position: relative;}#sk-container-id-2 div.sk-item {position: relative;z-index: 1;}#sk-container-id-2 div.sk-parallel {display: flex;align-items: stretch;justify-content: center;background-color: white;position: relative;}#sk-container-id-2 div.sk-item::before, #sk-container-id-2 div.sk-parallel-item::before {content: \"\";position: absolute;border-left: 1px solid gray;box-sizing: border-box;top: 0;bottom: 0;left: 50%;z-index: -1;}#sk-container-id-2 div.sk-parallel-item {display: flex;flex-direction: column;z-index: 1;position: relative;background-color: white;}#sk-container-id-2 div.sk-parallel-item:first-child::after {align-self: flex-end;width: 50%;}#sk-container-id-2 div.sk-parallel-item:last-child::after {align-self: flex-start;width: 50%;}#sk-container-id-2 div.sk-parallel-item:only-child::after {width: 0;}#sk-container-id-2 div.sk-dashed-wrapped {border: 1px dashed gray;margin: 0 0.4em 0.5em 0.4em;box-sizing: border-box;padding-bottom: 0.4em;background-color: white;}#sk-container-id-2 div.sk-label label {font-family: monospace;font-weight: bold;display: inline-block;line-height: 1.2em;}#sk-container-id-2 div.sk-label-container {text-align: center;}#sk-container-id-2 div.sk-container {/* jupyter's `normalize.less` sets `[hidden] { display: none; }` but bootstrap.min.css set `[hidden] { display: none !important; }` so we also need the `!important` here to be able to override the default hidden behavior on the sphinx rendered scikit-learn.org. See: https://github.com/scikit-learn/scikit-learn/issues/21755 */display: inline-block !important;position: relative;}#sk-container-id-2 div.sk-text-repr-fallback {display: none;}</style><div id=\"sk-container-id-2\" class=\"sk-top-container\"><div class=\"sk-text-repr-fallback\"><pre>KMeans(algorithm=&#x27;elkan&#x27;, n_clusters=10, n_init=10)</pre><b>In a Jupyter environment, please rerun this cell to show the HTML representation or trust the notebook. <br />On GitHub, the HTML representation is unable to render, please try loading this page with nbviewer.org.</b></div><div class=\"sk-container\" hidden><div class=\"sk-item\"><div class=\"sk-estimator sk-toggleable\"><input class=\"sk-toggleable__control sk-hidden--visually\" id=\"sk-estimator-id-2\" type=\"checkbox\" checked><label for=\"sk-estimator-id-2\" class=\"sk-toggleable__label sk-toggleable__label-arrow\">KMeans</label><div class=\"sk-toggleable__content\"><pre>KMeans(algorithm=&#x27;elkan&#x27;, n_clusters=10, n_init=10)</pre></div></div></div></div></div>"
      ],
      "text/plain": [
       "KMeans(algorithm='elkan', n_clusters=10, n_init=10)"
      ]
     },
     "execution_count": 74,
     "metadata": {},
     "output_type": "execute_result"
    }
   ],
   "source": [
    "get_candidate_cluster_n_values(X_scaled=X_scaled)"
   ]
  },
  {
   "cell_type": "markdown",
   "id": "46a8e557",
   "metadata": {},
   "source": [
    "## Graph Clusters"
   ]
  },
  {
   "cell_type": "markdown",
   "id": "f98c580b",
   "metadata": {},
   "source": [
    "### Cluster Size 3"
   ]
  },
  {
   "cell_type": "code",
   "execution_count": 75,
   "id": "005b8db6",
   "metadata": {},
   "outputs": [],
   "source": [
    "chosen_cluster_number = 3"
   ]
  },
  {
   "cell_type": "code",
   "execution_count": 76,
   "id": "2046b08a",
   "metadata": {},
   "outputs": [],
   "source": [
    "labels_3, cluster_ranking_3 = create_clusters(cluster_num=chosen_cluster_number, X_scaled=X_scaled, players=players)"
   ]
  },
  {
   "cell_type": "code",
   "execution_count": 77,
   "id": "35ea582b",
   "metadata": {},
   "outputs": [],
   "source": [
    "# labels_3"
   ]
  },
  {
   "cell_type": "code",
   "execution_count": 78,
   "id": "05089f9d",
   "metadata": {},
   "outputs": [],
   "source": [
    "# cluster_ranking_3"
   ]
  },
  {
   "cell_type": "markdown",
   "id": "6df90bbb",
   "metadata": {},
   "source": [
    "### Cluster Size 4"
   ]
  },
  {
   "cell_type": "code",
   "execution_count": 79,
   "id": "d10ab4ff",
   "metadata": {},
   "outputs": [],
   "source": [
    "chosen_cluster_number = 4"
   ]
  },
  {
   "cell_type": "code",
   "execution_count": 80,
   "id": "14bf30a2",
   "metadata": {},
   "outputs": [],
   "source": [
    "labels_4, cluster_ranking_4 = create_clusters(cluster_num=chosen_cluster_number, X_scaled=X_scaled, players=players)"
   ]
  },
  {
   "cell_type": "code",
   "execution_count": 81,
   "id": "bd48078a",
   "metadata": {},
   "outputs": [],
   "source": [
    "# labels_4"
   ]
  },
  {
   "cell_type": "code",
   "execution_count": 82,
   "id": "989dc501",
   "metadata": {},
   "outputs": [],
   "source": [
    "# cluster_ranking_4"
   ]
  },
  {
   "cell_type": "markdown",
   "id": "10bc601e",
   "metadata": {},
   "source": [
    "### Cluster Size 5"
   ]
  },
  {
   "cell_type": "code",
   "execution_count": 83,
   "id": "4eb9adab",
   "metadata": {},
   "outputs": [],
   "source": [
    "chosen_cluster_number = 5"
   ]
  },
  {
   "cell_type": "code",
   "execution_count": 84,
   "id": "acc5297d",
   "metadata": {},
   "outputs": [],
   "source": [
    "labels_5, cluster_ranking_5 = create_clusters(cluster_num=chosen_cluster_number, X_scaled=X_scaled, players=players)"
   ]
  },
  {
   "cell_type": "code",
   "execution_count": 85,
   "id": "1334f4d9",
   "metadata": {},
   "outputs": [],
   "source": [
    "# labels_5"
   ]
  },
  {
   "cell_type": "code",
   "execution_count": 86,
   "id": "37d9b353",
   "metadata": {},
   "outputs": [],
   "source": [
    "# cluster_ranking_5"
   ]
  },
  {
   "cell_type": "markdown",
   "id": "d3b85e19",
   "metadata": {},
   "source": [
    "### Cluster 6 Size"
   ]
  },
  {
   "cell_type": "code",
   "execution_count": 87,
   "id": "d757f9e4",
   "metadata": {},
   "outputs": [],
   "source": [
    "chosen_cluster_number = 6"
   ]
  },
  {
   "cell_type": "code",
   "execution_count": 88,
   "id": "449a30ea",
   "metadata": {},
   "outputs": [],
   "source": [
    "labels_6, cluster_ranking_6 = create_clusters(cluster_num=chosen_cluster_number, X_scaled=X_scaled, players=players)"
   ]
  },
  {
   "cell_type": "code",
   "execution_count": 89,
   "id": "4484e298",
   "metadata": {},
   "outputs": [],
   "source": [
    "# labels_6"
   ]
  },
  {
   "cell_type": "code",
   "execution_count": 90,
   "id": "78dd9074",
   "metadata": {},
   "outputs": [],
   "source": [
    "# cluster_ranking_6"
   ]
  },
  {
   "cell_type": "markdown",
   "id": "a93dd033",
   "metadata": {},
   "source": [
    "### Cluster 7 Size"
   ]
  },
  {
   "cell_type": "code",
   "execution_count": 91,
   "id": "e2d74ae5",
   "metadata": {},
   "outputs": [],
   "source": [
    "chosen_cluster_number = 7"
   ]
  },
  {
   "cell_type": "code",
   "execution_count": 92,
   "id": "6ef34377",
   "metadata": {},
   "outputs": [],
   "source": [
    "labels_7, cluster_ranking_7 = create_clusters(cluster_num=chosen_cluster_number, X_scaled=X_scaled, players=players)"
   ]
  },
  {
   "cell_type": "code",
   "execution_count": 93,
   "id": "bd248f1a",
   "metadata": {},
   "outputs": [],
   "source": [
    "# labels_7"
   ]
  },
  {
   "cell_type": "code",
   "execution_count": 94,
   "id": "8ca7b086",
   "metadata": {},
   "outputs": [],
   "source": [
    "# cluster_ranking_7"
   ]
  },
  {
   "cell_type": "markdown",
   "id": "743700e3",
   "metadata": {},
   "source": [
    "# Graphing Clusters"
   ]
  },
  {
   "cell_type": "code",
   "execution_count": 95,
   "id": "72b12a8e",
   "metadata": {},
   "outputs": [],
   "source": [
    "import pandas as pd\n",
    "\n",
    "def html_breaking_down_clusters(keys):\n",
    "    \"\"\"\"\"\"\n",
    "    print(\"<p class='blog-p-tag'>\")\n",
    "    print(\"\\tTODO:\")\n",
    "    print(\"\\t<ul class='bullet-list'>\")\n",
    "    for key in keys:\n",
    "        print(f\"\\t\\t<li><b>Cluster {key}:</b> TODO</li>\")\n",
    "        \n",
    "    print(\"\\t</ul>\")\n",
    "    print(\"\"\"</p>\n",
    "<p class=\"blog-p-tag\">\n",
    "    TODO\n",
    "</p>\"\"\")\n",
    "\n",
    "def create_cluster_html_tiers(df: pd.DataFrame) -> None:\n",
    "    cluster_dict = dict()\n",
    "    for index, row in df.iterrows():\n",
    "        if row.Cluster not in cluster_dict:\n",
    "            cluster_dict[row.Cluster] = [index]\n",
    "        else:\n",
    "            cluster_dict[row.Cluster].append(index)\n",
    "            \n",
    "    sorted_cluster_dict = dict(sorted(cluster_dict.items()))\n",
    "    keys = list(sorted_cluster_dict.keys())\n",
    "    \n",
    "    html_breaking_down_clusters(keys)\n",
    "    print(\"<div style='display: flex; justify-content: space-evenly;''>\")\n",
    "    for key in keys:\n",
    "        names = cluster_dict[key]\n",
    "        \n",
    "        print(\"\\t<div>\")\n",
    "        print(f\"\\t\\t<b>Cluster {key} ()</b>\")\n",
    "        print(\"\\t\\t<ul class='bullet-list'>\")\n",
    "        for name in names:\n",
    "            print(f\"\\t\\t\\t<li>{name}</li>\")\n",
    "        print(\"\\t\\t</ul>\")\n",
    "        print(\"\\t</div>\")\n",
    "        if key != keys[-1]:\n",
    "            print()\n",
    "    print(\"</div>\")"
   ]
  },
  {
   "cell_type": "markdown",
   "id": "eca95e7a",
   "metadata": {},
   "source": [
    "### 3 Clusters"
   ]
  },
  {
   "cell_type": "code",
   "execution_count": 101,
   "id": "5df718cf",
   "metadata": {},
   "outputs": [],
   "source": [
    "df_3 = create_cluster_df(labels=labels_3, X=X, stats=stats)"
   ]
  },
  {
   "cell_type": "code",
   "execution_count": 102,
   "id": "2ddd1000",
   "metadata": {},
   "outputs": [
    {
     "data": {
      "application/vnd.plotly.v1+json": {
       "config": {
        "plotlyServerURL": "https://plot.ly"
       },
       "data": [
        {
         "diagonal": {
          "visible": false
         },
         "dimensions": [
          {
           "axis": {
            "matches": true
           },
           "label": "Rushing Yards Per Game",
           "values": [
            21.058823529411764,
            16.0625,
            21.529411764705884,
            17.11764705882353,
            18.466666666666665,
            15.166666666666666,
            15.1875,
            18.23076923076923
           ]
          },
          {
           "axis": {
            "matches": true
           },
           "label": "Carries Per Game",
           "values": [
            3.588235294117647,
            4.6875,
            4,
            3.6470588235294117,
            3.6666666666666665,
            3.75,
            3.0625,
            4.230769230769231
           ]
          },
          {
           "axis": {
            "matches": true
           },
           "label": "Yards Per Carry",
           "values": [
            5.87,
            3.43,
            5.38,
            4.69,
            5.04,
            4.04,
            4.96,
            4.31
           ]
          },
          {
           "axis": {
            "matches": true
           },
           "label": "Rushing Touchdowns Per Game",
           "values": [
            0.23529411764705882,
            0.3125,
            0.058823529411764705,
            0.29411764705882354,
            0.2,
            0.08333333333333333,
            0.125,
            0.23076923076923078
           ]
          },
          {
           "axis": {
            "matches": true
           },
           "label": "Fumbles Per Game",
           "values": [
            0.29411764705882354,
            0.375,
            0.47058823529411764,
            0.7058823529411765,
            0.4,
            0.3333333333333333,
            0.375,
            0.3076923076923077
           ]
          }
         ],
         "hovertemplate": "<b>%{hovertext}</b><br><br>Cluster=0<br>%{xaxis.title.text}=%{x}<br>%{yaxis.title.text}=%{y}<extra></extra>",
         "hovertext": [
          "Patrick Mahomes",
          "Joe Burrow",
          "Geno Smith",
          "Trevor Lawrence",
          "Russell Wilson",
          "Dak Prescott",
          "Jacoby Brissett",
          "Kenny Pickett"
         ],
         "legendgroup": "0",
         "marker": {
          "color": "#636efa",
          "size": 6,
          "symbol": "circle"
         },
         "name": "0",
         "showlegend": true,
         "type": "splom"
        },
        {
         "diagonal": {
          "visible": false
         },
         "dimensions": [
          {
           "axis": {
            "matches": true
           },
           "label": "Rushing Yards Per Game",
           "values": [
            47.625,
            50.666666666666664,
            76.2,
            44.25,
            63.666666666666664,
            38,
            33.69230769230769
           ]
          },
          {
           "axis": {
            "matches": true
           },
           "label": "Carries Per Game",
           "values": [
            7.75,
            11,
            10.666666666666666,
            7.5,
            9.333333333333334,
            6.090909090909091,
            6.538461538461538
           ]
          },
          {
           "axis": {
            "matches": true
           },
           "label": "Yards Per Carry",
           "values": [
            6.15,
            4.61,
            7.14,
            5.9,
            6.82,
            6.24,
            5.15
           ]
          },
          {
           "axis": {
            "matches": true
           },
           "label": "Rushing Touchdowns Per Game",
           "values": [
            0.4375,
            0.8666666666666667,
            0.5333333333333333,
            0.4375,
            0.25,
            0.2727272727272727,
            0.3076923076923077
           ]
          },
          {
           "axis": {
            "matches": true
           },
           "label": "Fumbles Per Game",
           "values": [
            0.8125,
            0.6,
            1.0666666666666667,
            0.375,
            0.4166666666666667,
            0.7272727272727273,
            0.6153846153846154
           ]
          }
         ],
         "hovertemplate": "<b>%{hovertext}</b><br><br>Cluster=1<br>%{xaxis.title.text}=%{x}<br>%{yaxis.title.text}=%{y}<extra></extra>",
         "hovertext": [
          "Josh Allen",
          "Jalen Hurts",
          "Justin Fields",
          "Daniel Jones",
          "Lamar Jackson",
          "Kyler Murray",
          "Marcus Mariota"
         ],
         "legendgroup": "1",
         "marker": {
          "color": "#EF553B",
          "size": 6,
          "symbol": "circle"
         },
         "name": "1",
         "showlegend": true,
         "type": "splom"
        },
        {
         "diagonal": {
          "visible": false
         },
         "dimensions": [
          {
           "axis": {
            "matches": true
           },
           "label": "Rushing Yards Per Game",
           "values": [
            5.705882352941177,
            4.294117647058823,
            8.647058823529411,
            -0.058823529411764705,
            5.529411764705882,
            5.384615384615385,
            6.8,
            7.2,
            3.857142857142857,
            7.285714285714286,
            3,
            8.166666666666666,
            5.833333333333333,
            7.416666666666667,
            10.666666666666666
           ]
          },
          {
           "axis": {
            "matches": true
           },
           "label": "Carries Per Game",
           "values": [
            1.8235294117647058,
            1.7058823529411764,
            3.176470588235294,
            1.7058823529411764,
            2,
            1.7692307692307692,
            1.6,
            2.1333333333333333,
            2.142857142857143,
            3.357142857142857,
            2.090909090909091,
            2.8333333333333335,
            2.25,
            2.5833333333333335,
            3.111111111111111
           ]
          },
          {
           "axis": {
            "matches": true
           },
           "label": "Yards Per Carry",
           "values": [
            3.13,
            2.52,
            2.72,
            -0.03,
            2.76,
            3.04,
            4.25,
            3.38,
            1.8,
            2.17,
            1.43,
            2.88,
            2.59,
            2.87,
            3.43
           ]
          },
          {
           "axis": {
            "matches": true
           },
           "label": "Rushing Touchdowns Per Game",
           "values": [
            0.11764705882352941,
            0,
            0,
            0.058823529411764705,
            0.058823529411764705,
            0,
            0,
            0.13333333333333333,
            0,
            0.07142857142857142,
            0.18181818181818182,
            0.16666666666666666,
            0.08333333333333333,
            0.08333333333333333,
            0.1111111111111111
           ]
          },
          {
           "axis": {
            "matches": true
           },
           "label": "Fumbles Per Game",
           "values": [
            0.4117647058823529,
            0.4117647058823529,
            0.47058823529411764,
            0.29411764705882354,
            0.47058823529411764,
            0.46153846153846156,
            0.26666666666666666,
            0.5333333333333333,
            0.35714285714285715,
            0.35714285714285715,
            0.2727272727272727,
            0.25,
            1.25,
            0.75,
            0.7777777777777778
           ]
          }
         ],
         "hovertemplate": "<b>%{hovertext}</b><br><br>Cluster=2<br>%{xaxis.title.text}=%{x}<br>%{yaxis.title.text}=%{y}<extra></extra>",
         "hovertext": [
          "Kirk Cousins",
          "Jared Goff",
          "Justin Herbert",
          "Tom Brady",
          "Aaron Rodgers",
          "Tua Tagovailoa",
          "Derek Carr",
          "Davis Mills",
          "Andy Dalton",
          "Mac Jones",
          "Jimmy Garoppolo",
          "Ryan Tannehill",
          "Matt Ryan",
          "Baker Mayfield",
          "Taylor Heinicke"
         ],
         "legendgroup": "2",
         "marker": {
          "color": "#00cc96",
          "size": 6,
          "symbol": "circle"
         },
         "name": "2",
         "showlegend": true,
         "type": "splom"
        }
       ],
       "layout": {
        "dragmode": "select",
        "font": {
         "color": "black",
         "family": "Courier New, monospace",
         "size": 10
        },
        "height": 1000,
        "legend": {
         "title": {
          "text": "Cluster"
         },
         "tracegroupgap": 0
        },
        "margin": {
         "t": 60
        },
        "paper_bgcolor": "rgba(0,0,0,0)",
        "plot_bgcolor": "rgba(245, 245, 245, 1)",
        "showlegend": true,
        "template": {
         "data": {
          "bar": [
           {
            "error_x": {
             "color": "#2a3f5f"
            },
            "error_y": {
             "color": "#2a3f5f"
            },
            "marker": {
             "line": {
              "color": "#E5ECF6",
              "width": 0.5
             },
             "pattern": {
              "fillmode": "overlay",
              "size": 10,
              "solidity": 0.2
             }
            },
            "type": "bar"
           }
          ],
          "barpolar": [
           {
            "marker": {
             "line": {
              "color": "#E5ECF6",
              "width": 0.5
             },
             "pattern": {
              "fillmode": "overlay",
              "size": 10,
              "solidity": 0.2
             }
            },
            "type": "barpolar"
           }
          ],
          "carpet": [
           {
            "aaxis": {
             "endlinecolor": "#2a3f5f",
             "gridcolor": "white",
             "linecolor": "white",
             "minorgridcolor": "white",
             "startlinecolor": "#2a3f5f"
            },
            "baxis": {
             "endlinecolor": "#2a3f5f",
             "gridcolor": "white",
             "linecolor": "white",
             "minorgridcolor": "white",
             "startlinecolor": "#2a3f5f"
            },
            "type": "carpet"
           }
          ],
          "choropleth": [
           {
            "colorbar": {
             "outlinewidth": 0,
             "ticks": ""
            },
            "type": "choropleth"
           }
          ],
          "contour": [
           {
            "colorbar": {
             "outlinewidth": 0,
             "ticks": ""
            },
            "colorscale": [
             [
              0,
              "#0d0887"
             ],
             [
              0.1111111111111111,
              "#46039f"
             ],
             [
              0.2222222222222222,
              "#7201a8"
             ],
             [
              0.3333333333333333,
              "#9c179e"
             ],
             [
              0.4444444444444444,
              "#bd3786"
             ],
             [
              0.5555555555555556,
              "#d8576b"
             ],
             [
              0.6666666666666666,
              "#ed7953"
             ],
             [
              0.7777777777777778,
              "#fb9f3a"
             ],
             [
              0.8888888888888888,
              "#fdca26"
             ],
             [
              1,
              "#f0f921"
             ]
            ],
            "type": "contour"
           }
          ],
          "contourcarpet": [
           {
            "colorbar": {
             "outlinewidth": 0,
             "ticks": ""
            },
            "type": "contourcarpet"
           }
          ],
          "heatmap": [
           {
            "colorbar": {
             "outlinewidth": 0,
             "ticks": ""
            },
            "colorscale": [
             [
              0,
              "#0d0887"
             ],
             [
              0.1111111111111111,
              "#46039f"
             ],
             [
              0.2222222222222222,
              "#7201a8"
             ],
             [
              0.3333333333333333,
              "#9c179e"
             ],
             [
              0.4444444444444444,
              "#bd3786"
             ],
             [
              0.5555555555555556,
              "#d8576b"
             ],
             [
              0.6666666666666666,
              "#ed7953"
             ],
             [
              0.7777777777777778,
              "#fb9f3a"
             ],
             [
              0.8888888888888888,
              "#fdca26"
             ],
             [
              1,
              "#f0f921"
             ]
            ],
            "type": "heatmap"
           }
          ],
          "heatmapgl": [
           {
            "colorbar": {
             "outlinewidth": 0,
             "ticks": ""
            },
            "colorscale": [
             [
              0,
              "#0d0887"
             ],
             [
              0.1111111111111111,
              "#46039f"
             ],
             [
              0.2222222222222222,
              "#7201a8"
             ],
             [
              0.3333333333333333,
              "#9c179e"
             ],
             [
              0.4444444444444444,
              "#bd3786"
             ],
             [
              0.5555555555555556,
              "#d8576b"
             ],
             [
              0.6666666666666666,
              "#ed7953"
             ],
             [
              0.7777777777777778,
              "#fb9f3a"
             ],
             [
              0.8888888888888888,
              "#fdca26"
             ],
             [
              1,
              "#f0f921"
             ]
            ],
            "type": "heatmapgl"
           }
          ],
          "histogram": [
           {
            "marker": {
             "pattern": {
              "fillmode": "overlay",
              "size": 10,
              "solidity": 0.2
             }
            },
            "type": "histogram"
           }
          ],
          "histogram2d": [
           {
            "colorbar": {
             "outlinewidth": 0,
             "ticks": ""
            },
            "colorscale": [
             [
              0,
              "#0d0887"
             ],
             [
              0.1111111111111111,
              "#46039f"
             ],
             [
              0.2222222222222222,
              "#7201a8"
             ],
             [
              0.3333333333333333,
              "#9c179e"
             ],
             [
              0.4444444444444444,
              "#bd3786"
             ],
             [
              0.5555555555555556,
              "#d8576b"
             ],
             [
              0.6666666666666666,
              "#ed7953"
             ],
             [
              0.7777777777777778,
              "#fb9f3a"
             ],
             [
              0.8888888888888888,
              "#fdca26"
             ],
             [
              1,
              "#f0f921"
             ]
            ],
            "type": "histogram2d"
           }
          ],
          "histogram2dcontour": [
           {
            "colorbar": {
             "outlinewidth": 0,
             "ticks": ""
            },
            "colorscale": [
             [
              0,
              "#0d0887"
             ],
             [
              0.1111111111111111,
              "#46039f"
             ],
             [
              0.2222222222222222,
              "#7201a8"
             ],
             [
              0.3333333333333333,
              "#9c179e"
             ],
             [
              0.4444444444444444,
              "#bd3786"
             ],
             [
              0.5555555555555556,
              "#d8576b"
             ],
             [
              0.6666666666666666,
              "#ed7953"
             ],
             [
              0.7777777777777778,
              "#fb9f3a"
             ],
             [
              0.8888888888888888,
              "#fdca26"
             ],
             [
              1,
              "#f0f921"
             ]
            ],
            "type": "histogram2dcontour"
           }
          ],
          "mesh3d": [
           {
            "colorbar": {
             "outlinewidth": 0,
             "ticks": ""
            },
            "type": "mesh3d"
           }
          ],
          "parcoords": [
           {
            "line": {
             "colorbar": {
              "outlinewidth": 0,
              "ticks": ""
             }
            },
            "type": "parcoords"
           }
          ],
          "pie": [
           {
            "automargin": true,
            "type": "pie"
           }
          ],
          "scatter": [
           {
            "fillpattern": {
             "fillmode": "overlay",
             "size": 10,
             "solidity": 0.2
            },
            "type": "scatter"
           }
          ],
          "scatter3d": [
           {
            "line": {
             "colorbar": {
              "outlinewidth": 0,
              "ticks": ""
             }
            },
            "marker": {
             "colorbar": {
              "outlinewidth": 0,
              "ticks": ""
             }
            },
            "type": "scatter3d"
           }
          ],
          "scattercarpet": [
           {
            "marker": {
             "colorbar": {
              "outlinewidth": 0,
              "ticks": ""
             }
            },
            "type": "scattercarpet"
           }
          ],
          "scattergeo": [
           {
            "marker": {
             "colorbar": {
              "outlinewidth": 0,
              "ticks": ""
             }
            },
            "type": "scattergeo"
           }
          ],
          "scattergl": [
           {
            "marker": {
             "colorbar": {
              "outlinewidth": 0,
              "ticks": ""
             }
            },
            "type": "scattergl"
           }
          ],
          "scattermapbox": [
           {
            "marker": {
             "colorbar": {
              "outlinewidth": 0,
              "ticks": ""
             }
            },
            "type": "scattermapbox"
           }
          ],
          "scatterpolar": [
           {
            "marker": {
             "colorbar": {
              "outlinewidth": 0,
              "ticks": ""
             }
            },
            "type": "scatterpolar"
           }
          ],
          "scatterpolargl": [
           {
            "marker": {
             "colorbar": {
              "outlinewidth": 0,
              "ticks": ""
             }
            },
            "type": "scatterpolargl"
           }
          ],
          "scatterternary": [
           {
            "marker": {
             "colorbar": {
              "outlinewidth": 0,
              "ticks": ""
             }
            },
            "type": "scatterternary"
           }
          ],
          "surface": [
           {
            "colorbar": {
             "outlinewidth": 0,
             "ticks": ""
            },
            "colorscale": [
             [
              0,
              "#0d0887"
             ],
             [
              0.1111111111111111,
              "#46039f"
             ],
             [
              0.2222222222222222,
              "#7201a8"
             ],
             [
              0.3333333333333333,
              "#9c179e"
             ],
             [
              0.4444444444444444,
              "#bd3786"
             ],
             [
              0.5555555555555556,
              "#d8576b"
             ],
             [
              0.6666666666666666,
              "#ed7953"
             ],
             [
              0.7777777777777778,
              "#fb9f3a"
             ],
             [
              0.8888888888888888,
              "#fdca26"
             ],
             [
              1,
              "#f0f921"
             ]
            ],
            "type": "surface"
           }
          ],
          "table": [
           {
            "cells": {
             "fill": {
              "color": "#EBF0F8"
             },
             "line": {
              "color": "white"
             }
            },
            "header": {
             "fill": {
              "color": "#C8D4E3"
             },
             "line": {
              "color": "white"
             }
            },
            "type": "table"
           }
          ]
         },
         "layout": {
          "annotationdefaults": {
           "arrowcolor": "#2a3f5f",
           "arrowhead": 0,
           "arrowwidth": 1
          },
          "autotypenumbers": "strict",
          "coloraxis": {
           "colorbar": {
            "outlinewidth": 0,
            "ticks": ""
           }
          },
          "colorscale": {
           "diverging": [
            [
             0,
             "#8e0152"
            ],
            [
             0.1,
             "#c51b7d"
            ],
            [
             0.2,
             "#de77ae"
            ],
            [
             0.3,
             "#f1b6da"
            ],
            [
             0.4,
             "#fde0ef"
            ],
            [
             0.5,
             "#f7f7f7"
            ],
            [
             0.6,
             "#e6f5d0"
            ],
            [
             0.7,
             "#b8e186"
            ],
            [
             0.8,
             "#7fbc41"
            ],
            [
             0.9,
             "#4d9221"
            ],
            [
             1,
             "#276419"
            ]
           ],
           "sequential": [
            [
             0,
             "#0d0887"
            ],
            [
             0.1111111111111111,
             "#46039f"
            ],
            [
             0.2222222222222222,
             "#7201a8"
            ],
            [
             0.3333333333333333,
             "#9c179e"
            ],
            [
             0.4444444444444444,
             "#bd3786"
            ],
            [
             0.5555555555555556,
             "#d8576b"
            ],
            [
             0.6666666666666666,
             "#ed7953"
            ],
            [
             0.7777777777777778,
             "#fb9f3a"
            ],
            [
             0.8888888888888888,
             "#fdca26"
            ],
            [
             1,
             "#f0f921"
            ]
           ],
           "sequentialminus": [
            [
             0,
             "#0d0887"
            ],
            [
             0.1111111111111111,
             "#46039f"
            ],
            [
             0.2222222222222222,
             "#7201a8"
            ],
            [
             0.3333333333333333,
             "#9c179e"
            ],
            [
             0.4444444444444444,
             "#bd3786"
            ],
            [
             0.5555555555555556,
             "#d8576b"
            ],
            [
             0.6666666666666666,
             "#ed7953"
            ],
            [
             0.7777777777777778,
             "#fb9f3a"
            ],
            [
             0.8888888888888888,
             "#fdca26"
            ],
            [
             1,
             "#f0f921"
            ]
           ]
          },
          "colorway": [
           "#636efa",
           "#EF553B",
           "#00cc96",
           "#ab63fa",
           "#FFA15A",
           "#19d3f3",
           "#FF6692",
           "#B6E880",
           "#FF97FF",
           "#FECB52"
          ],
          "font": {
           "color": "#2a3f5f"
          },
          "geo": {
           "bgcolor": "white",
           "lakecolor": "white",
           "landcolor": "#E5ECF6",
           "showlakes": true,
           "showland": true,
           "subunitcolor": "white"
          },
          "hoverlabel": {
           "align": "left"
          },
          "hovermode": "closest",
          "mapbox": {
           "style": "light"
          },
          "paper_bgcolor": "white",
          "plot_bgcolor": "#E5ECF6",
          "polar": {
           "angularaxis": {
            "gridcolor": "white",
            "linecolor": "white",
            "ticks": ""
           },
           "bgcolor": "#E5ECF6",
           "radialaxis": {
            "gridcolor": "white",
            "linecolor": "white",
            "ticks": ""
           }
          },
          "scene": {
           "xaxis": {
            "backgroundcolor": "#E5ECF6",
            "gridcolor": "white",
            "gridwidth": 2,
            "linecolor": "white",
            "showbackground": true,
            "ticks": "",
            "zerolinecolor": "white"
           },
           "yaxis": {
            "backgroundcolor": "#E5ECF6",
            "gridcolor": "white",
            "gridwidth": 2,
            "linecolor": "white",
            "showbackground": true,
            "ticks": "",
            "zerolinecolor": "white"
           },
           "zaxis": {
            "backgroundcolor": "#E5ECF6",
            "gridcolor": "white",
            "gridwidth": 2,
            "linecolor": "white",
            "showbackground": true,
            "ticks": "",
            "zerolinecolor": "white"
           }
          },
          "shapedefaults": {
           "line": {
            "color": "#2a3f5f"
           }
          },
          "ternary": {
           "aaxis": {
            "gridcolor": "white",
            "linecolor": "white",
            "ticks": ""
           },
           "baxis": {
            "gridcolor": "white",
            "linecolor": "white",
            "ticks": ""
           },
           "bgcolor": "#E5ECF6",
           "caxis": {
            "gridcolor": "white",
            "linecolor": "white",
            "ticks": ""
           }
          },
          "title": {
           "x": 0.05
          },
          "xaxis": {
           "automargin": true,
           "gridcolor": "white",
           "linecolor": "white",
           "ticks": "",
           "title": {
            "standoff": 15
           },
           "zerolinecolor": "white",
           "zerolinewidth": 2
          },
          "yaxis": {
           "automargin": true,
           "gridcolor": "white",
           "linecolor": "white",
           "ticks": "",
           "title": {
            "standoff": 15
           },
           "zerolinecolor": "white",
           "zerolinewidth": 2
          }
         }
        },
        "width": 1000,
        "xaxis": {
         "gridcolor": "rgba(200, 200, 200, 0.5)",
         "gridwidth": 0.5,
         "showgrid": true
        },
        "yaxis": {
         "gridcolor": "rgba(200, 200, 200, 0.5)",
         "gridwidth": 0.5,
         "showgrid": true
        }
       }
      },
      "text/html": [
       "<div>                            <div id=\"55e91d87-f74f-47ac-9216-0238fc05327f\" class=\"plotly-graph-div\" style=\"height:1000px; width:1000px;\"></div>            <script type=\"text/javascript\">                require([\"plotly\"], function(Plotly) {                    window.PLOTLYENV=window.PLOTLYENV || {};                                    if (document.getElementById(\"55e91d87-f74f-47ac-9216-0238fc05327f\")) {                    Plotly.newPlot(                        \"55e91d87-f74f-47ac-9216-0238fc05327f\",                        [{\"dimensions\":[{\"axis\":{\"matches\":true},\"label\":\"Rushing Yards Per Game\",\"values\":[21.058823529411764,16.0625,21.529411764705884,17.11764705882353,18.466666666666665,15.166666666666666,15.1875,18.23076923076923]},{\"axis\":{\"matches\":true},\"label\":\"Carries Per Game\",\"values\":[3.588235294117647,4.6875,4.0,3.6470588235294117,3.6666666666666665,3.75,3.0625,4.230769230769231]},{\"axis\":{\"matches\":true},\"label\":\"Yards Per Carry\",\"values\":[5.87,3.43,5.38,4.69,5.04,4.04,4.96,4.31]},{\"axis\":{\"matches\":true},\"label\":\"Rushing Touchdowns Per Game\",\"values\":[0.23529411764705882,0.3125,0.058823529411764705,0.29411764705882354,0.2,0.08333333333333333,0.125,0.23076923076923078]},{\"axis\":{\"matches\":true},\"label\":\"Fumbles Per Game\",\"values\":[0.29411764705882354,0.375,0.47058823529411764,0.7058823529411765,0.4,0.3333333333333333,0.375,0.3076923076923077]}],\"hovertemplate\":\"\\u003cb\\u003e%{hovertext}\\u003c\\u002fb\\u003e\\u003cbr\\u003e\\u003cbr\\u003eCluster=0\\u003cbr\\u003e%{xaxis.title.text}=%{x}\\u003cbr\\u003e%{yaxis.title.text}=%{y}\\u003cextra\\u003e\\u003c\\u002fextra\\u003e\",\"hovertext\":[\"Patrick Mahomes\",\"Joe Burrow\",\"Geno Smith\",\"Trevor Lawrence\",\"Russell Wilson\",\"Dak Prescott\",\"Jacoby Brissett\",\"Kenny Pickett\"],\"legendgroup\":\"0\",\"marker\":{\"color\":\"#636efa\",\"symbol\":\"circle\",\"size\":6},\"name\":\"0\",\"showlegend\":true,\"type\":\"splom\",\"diagonal\":{\"visible\":false}},{\"dimensions\":[{\"axis\":{\"matches\":true},\"label\":\"Rushing Yards Per Game\",\"values\":[47.625,50.666666666666664,76.2,44.25,63.666666666666664,38.0,33.69230769230769]},{\"axis\":{\"matches\":true},\"label\":\"Carries Per Game\",\"values\":[7.75,11.0,10.666666666666666,7.5,9.333333333333334,6.090909090909091,6.538461538461538]},{\"axis\":{\"matches\":true},\"label\":\"Yards Per Carry\",\"values\":[6.15,4.61,7.14,5.9,6.82,6.24,5.15]},{\"axis\":{\"matches\":true},\"label\":\"Rushing Touchdowns Per Game\",\"values\":[0.4375,0.8666666666666667,0.5333333333333333,0.4375,0.25,0.2727272727272727,0.3076923076923077]},{\"axis\":{\"matches\":true},\"label\":\"Fumbles Per Game\",\"values\":[0.8125,0.6,1.0666666666666667,0.375,0.4166666666666667,0.7272727272727273,0.6153846153846154]}],\"hovertemplate\":\"\\u003cb\\u003e%{hovertext}\\u003c\\u002fb\\u003e\\u003cbr\\u003e\\u003cbr\\u003eCluster=1\\u003cbr\\u003e%{xaxis.title.text}=%{x}\\u003cbr\\u003e%{yaxis.title.text}=%{y}\\u003cextra\\u003e\\u003c\\u002fextra\\u003e\",\"hovertext\":[\"Josh Allen\",\"Jalen Hurts\",\"Justin Fields\",\"Daniel Jones\",\"Lamar Jackson\",\"Kyler Murray\",\"Marcus Mariota\"],\"legendgroup\":\"1\",\"marker\":{\"color\":\"#EF553B\",\"symbol\":\"circle\",\"size\":6},\"name\":\"1\",\"showlegend\":true,\"type\":\"splom\",\"diagonal\":{\"visible\":false}},{\"dimensions\":[{\"axis\":{\"matches\":true},\"label\":\"Rushing Yards Per Game\",\"values\":[5.705882352941177,4.294117647058823,8.647058823529411,-0.058823529411764705,5.529411764705882,5.384615384615385,6.8,7.2,3.857142857142857,7.285714285714286,3.0,8.166666666666666,5.833333333333333,7.416666666666667,10.666666666666666]},{\"axis\":{\"matches\":true},\"label\":\"Carries Per Game\",\"values\":[1.8235294117647058,1.7058823529411764,3.176470588235294,1.7058823529411764,2.0,1.7692307692307692,1.6,2.1333333333333333,2.142857142857143,3.357142857142857,2.090909090909091,2.8333333333333335,2.25,2.5833333333333335,3.111111111111111]},{\"axis\":{\"matches\":true},\"label\":\"Yards Per Carry\",\"values\":[3.13,2.52,2.72,-0.03,2.76,3.04,4.25,3.38,1.8,2.17,1.43,2.88,2.59,2.87,3.43]},{\"axis\":{\"matches\":true},\"label\":\"Rushing Touchdowns Per Game\",\"values\":[0.11764705882352941,0.0,0.0,0.058823529411764705,0.058823529411764705,0.0,0.0,0.13333333333333333,0.0,0.07142857142857142,0.18181818181818182,0.16666666666666666,0.08333333333333333,0.08333333333333333,0.1111111111111111]},{\"axis\":{\"matches\":true},\"label\":\"Fumbles Per Game\",\"values\":[0.4117647058823529,0.4117647058823529,0.47058823529411764,0.29411764705882354,0.47058823529411764,0.46153846153846156,0.26666666666666666,0.5333333333333333,0.35714285714285715,0.35714285714285715,0.2727272727272727,0.25,1.25,0.75,0.7777777777777778]}],\"hovertemplate\":\"\\u003cb\\u003e%{hovertext}\\u003c\\u002fb\\u003e\\u003cbr\\u003e\\u003cbr\\u003eCluster=2\\u003cbr\\u003e%{xaxis.title.text}=%{x}\\u003cbr\\u003e%{yaxis.title.text}=%{y}\\u003cextra\\u003e\\u003c\\u002fextra\\u003e\",\"hovertext\":[\"Kirk Cousins\",\"Jared Goff\",\"Justin Herbert\",\"Tom Brady\",\"Aaron Rodgers\",\"Tua Tagovailoa\",\"Derek Carr\",\"Davis Mills\",\"Andy Dalton\",\"Mac Jones\",\"Jimmy Garoppolo\",\"Ryan Tannehill\",\"Matt Ryan\",\"Baker Mayfield\",\"Taylor Heinicke\"],\"legendgroup\":\"2\",\"marker\":{\"color\":\"#00cc96\",\"symbol\":\"circle\",\"size\":6},\"name\":\"2\",\"showlegend\":true,\"type\":\"splom\",\"diagonal\":{\"visible\":false}}],                        {\"template\":{\"data\":{\"histogram2dcontour\":[{\"type\":\"histogram2dcontour\",\"colorbar\":{\"outlinewidth\":0,\"ticks\":\"\"},\"colorscale\":[[0.0,\"#0d0887\"],[0.1111111111111111,\"#46039f\"],[0.2222222222222222,\"#7201a8\"],[0.3333333333333333,\"#9c179e\"],[0.4444444444444444,\"#bd3786\"],[0.5555555555555556,\"#d8576b\"],[0.6666666666666666,\"#ed7953\"],[0.7777777777777778,\"#fb9f3a\"],[0.8888888888888888,\"#fdca26\"],[1.0,\"#f0f921\"]]}],\"choropleth\":[{\"type\":\"choropleth\",\"colorbar\":{\"outlinewidth\":0,\"ticks\":\"\"}}],\"histogram2d\":[{\"type\":\"histogram2d\",\"colorbar\":{\"outlinewidth\":0,\"ticks\":\"\"},\"colorscale\":[[0.0,\"#0d0887\"],[0.1111111111111111,\"#46039f\"],[0.2222222222222222,\"#7201a8\"],[0.3333333333333333,\"#9c179e\"],[0.4444444444444444,\"#bd3786\"],[0.5555555555555556,\"#d8576b\"],[0.6666666666666666,\"#ed7953\"],[0.7777777777777778,\"#fb9f3a\"],[0.8888888888888888,\"#fdca26\"],[1.0,\"#f0f921\"]]}],\"heatmap\":[{\"type\":\"heatmap\",\"colorbar\":{\"outlinewidth\":0,\"ticks\":\"\"},\"colorscale\":[[0.0,\"#0d0887\"],[0.1111111111111111,\"#46039f\"],[0.2222222222222222,\"#7201a8\"],[0.3333333333333333,\"#9c179e\"],[0.4444444444444444,\"#bd3786\"],[0.5555555555555556,\"#d8576b\"],[0.6666666666666666,\"#ed7953\"],[0.7777777777777778,\"#fb9f3a\"],[0.8888888888888888,\"#fdca26\"],[1.0,\"#f0f921\"]]}],\"heatmapgl\":[{\"type\":\"heatmapgl\",\"colorbar\":{\"outlinewidth\":0,\"ticks\":\"\"},\"colorscale\":[[0.0,\"#0d0887\"],[0.1111111111111111,\"#46039f\"],[0.2222222222222222,\"#7201a8\"],[0.3333333333333333,\"#9c179e\"],[0.4444444444444444,\"#bd3786\"],[0.5555555555555556,\"#d8576b\"],[0.6666666666666666,\"#ed7953\"],[0.7777777777777778,\"#fb9f3a\"],[0.8888888888888888,\"#fdca26\"],[1.0,\"#f0f921\"]]}],\"contourcarpet\":[{\"type\":\"contourcarpet\",\"colorbar\":{\"outlinewidth\":0,\"ticks\":\"\"}}],\"contour\":[{\"type\":\"contour\",\"colorbar\":{\"outlinewidth\":0,\"ticks\":\"\"},\"colorscale\":[[0.0,\"#0d0887\"],[0.1111111111111111,\"#46039f\"],[0.2222222222222222,\"#7201a8\"],[0.3333333333333333,\"#9c179e\"],[0.4444444444444444,\"#bd3786\"],[0.5555555555555556,\"#d8576b\"],[0.6666666666666666,\"#ed7953\"],[0.7777777777777778,\"#fb9f3a\"],[0.8888888888888888,\"#fdca26\"],[1.0,\"#f0f921\"]]}],\"surface\":[{\"type\":\"surface\",\"colorbar\":{\"outlinewidth\":0,\"ticks\":\"\"},\"colorscale\":[[0.0,\"#0d0887\"],[0.1111111111111111,\"#46039f\"],[0.2222222222222222,\"#7201a8\"],[0.3333333333333333,\"#9c179e\"],[0.4444444444444444,\"#bd3786\"],[0.5555555555555556,\"#d8576b\"],[0.6666666666666666,\"#ed7953\"],[0.7777777777777778,\"#fb9f3a\"],[0.8888888888888888,\"#fdca26\"],[1.0,\"#f0f921\"]]}],\"mesh3d\":[{\"type\":\"mesh3d\",\"colorbar\":{\"outlinewidth\":0,\"ticks\":\"\"}}],\"scatter\":[{\"fillpattern\":{\"fillmode\":\"overlay\",\"size\":10,\"solidity\":0.2},\"type\":\"scatter\"}],\"parcoords\":[{\"type\":\"parcoords\",\"line\":{\"colorbar\":{\"outlinewidth\":0,\"ticks\":\"\"}}}],\"scatterpolargl\":[{\"type\":\"scatterpolargl\",\"marker\":{\"colorbar\":{\"outlinewidth\":0,\"ticks\":\"\"}}}],\"bar\":[{\"error_x\":{\"color\":\"#2a3f5f\"},\"error_y\":{\"color\":\"#2a3f5f\"},\"marker\":{\"line\":{\"color\":\"#E5ECF6\",\"width\":0.5},\"pattern\":{\"fillmode\":\"overlay\",\"size\":10,\"solidity\":0.2}},\"type\":\"bar\"}],\"scattergeo\":[{\"type\":\"scattergeo\",\"marker\":{\"colorbar\":{\"outlinewidth\":0,\"ticks\":\"\"}}}],\"scatterpolar\":[{\"type\":\"scatterpolar\",\"marker\":{\"colorbar\":{\"outlinewidth\":0,\"ticks\":\"\"}}}],\"histogram\":[{\"marker\":{\"pattern\":{\"fillmode\":\"overlay\",\"size\":10,\"solidity\":0.2}},\"type\":\"histogram\"}],\"scattergl\":[{\"type\":\"scattergl\",\"marker\":{\"colorbar\":{\"outlinewidth\":0,\"ticks\":\"\"}}}],\"scatter3d\":[{\"type\":\"scatter3d\",\"line\":{\"colorbar\":{\"outlinewidth\":0,\"ticks\":\"\"}},\"marker\":{\"colorbar\":{\"outlinewidth\":0,\"ticks\":\"\"}}}],\"scattermapbox\":[{\"type\":\"scattermapbox\",\"marker\":{\"colorbar\":{\"outlinewidth\":0,\"ticks\":\"\"}}}],\"scatterternary\":[{\"type\":\"scatterternary\",\"marker\":{\"colorbar\":{\"outlinewidth\":0,\"ticks\":\"\"}}}],\"scattercarpet\":[{\"type\":\"scattercarpet\",\"marker\":{\"colorbar\":{\"outlinewidth\":0,\"ticks\":\"\"}}}],\"carpet\":[{\"aaxis\":{\"endlinecolor\":\"#2a3f5f\",\"gridcolor\":\"white\",\"linecolor\":\"white\",\"minorgridcolor\":\"white\",\"startlinecolor\":\"#2a3f5f\"},\"baxis\":{\"endlinecolor\":\"#2a3f5f\",\"gridcolor\":\"white\",\"linecolor\":\"white\",\"minorgridcolor\":\"white\",\"startlinecolor\":\"#2a3f5f\"},\"type\":\"carpet\"}],\"table\":[{\"cells\":{\"fill\":{\"color\":\"#EBF0F8\"},\"line\":{\"color\":\"white\"}},\"header\":{\"fill\":{\"color\":\"#C8D4E3\"},\"line\":{\"color\":\"white\"}},\"type\":\"table\"}],\"barpolar\":[{\"marker\":{\"line\":{\"color\":\"#E5ECF6\",\"width\":0.5},\"pattern\":{\"fillmode\":\"overlay\",\"size\":10,\"solidity\":0.2}},\"type\":\"barpolar\"}],\"pie\":[{\"automargin\":true,\"type\":\"pie\"}]},\"layout\":{\"autotypenumbers\":\"strict\",\"colorway\":[\"#636efa\",\"#EF553B\",\"#00cc96\",\"#ab63fa\",\"#FFA15A\",\"#19d3f3\",\"#FF6692\",\"#B6E880\",\"#FF97FF\",\"#FECB52\"],\"font\":{\"color\":\"#2a3f5f\"},\"hovermode\":\"closest\",\"hoverlabel\":{\"align\":\"left\"},\"paper_bgcolor\":\"white\",\"plot_bgcolor\":\"#E5ECF6\",\"polar\":{\"bgcolor\":\"#E5ECF6\",\"angularaxis\":{\"gridcolor\":\"white\",\"linecolor\":\"white\",\"ticks\":\"\"},\"radialaxis\":{\"gridcolor\":\"white\",\"linecolor\":\"white\",\"ticks\":\"\"}},\"ternary\":{\"bgcolor\":\"#E5ECF6\",\"aaxis\":{\"gridcolor\":\"white\",\"linecolor\":\"white\",\"ticks\":\"\"},\"baxis\":{\"gridcolor\":\"white\",\"linecolor\":\"white\",\"ticks\":\"\"},\"caxis\":{\"gridcolor\":\"white\",\"linecolor\":\"white\",\"ticks\":\"\"}},\"coloraxis\":{\"colorbar\":{\"outlinewidth\":0,\"ticks\":\"\"}},\"colorscale\":{\"sequential\":[[0.0,\"#0d0887\"],[0.1111111111111111,\"#46039f\"],[0.2222222222222222,\"#7201a8\"],[0.3333333333333333,\"#9c179e\"],[0.4444444444444444,\"#bd3786\"],[0.5555555555555556,\"#d8576b\"],[0.6666666666666666,\"#ed7953\"],[0.7777777777777778,\"#fb9f3a\"],[0.8888888888888888,\"#fdca26\"],[1.0,\"#f0f921\"]],\"sequentialminus\":[[0.0,\"#0d0887\"],[0.1111111111111111,\"#46039f\"],[0.2222222222222222,\"#7201a8\"],[0.3333333333333333,\"#9c179e\"],[0.4444444444444444,\"#bd3786\"],[0.5555555555555556,\"#d8576b\"],[0.6666666666666666,\"#ed7953\"],[0.7777777777777778,\"#fb9f3a\"],[0.8888888888888888,\"#fdca26\"],[1.0,\"#f0f921\"]],\"diverging\":[[0,\"#8e0152\"],[0.1,\"#c51b7d\"],[0.2,\"#de77ae\"],[0.3,\"#f1b6da\"],[0.4,\"#fde0ef\"],[0.5,\"#f7f7f7\"],[0.6,\"#e6f5d0\"],[0.7,\"#b8e186\"],[0.8,\"#7fbc41\"],[0.9,\"#4d9221\"],[1,\"#276419\"]]},\"xaxis\":{\"gridcolor\":\"white\",\"linecolor\":\"white\",\"ticks\":\"\",\"title\":{\"standoff\":15},\"zerolinecolor\":\"white\",\"automargin\":true,\"zerolinewidth\":2},\"yaxis\":{\"gridcolor\":\"white\",\"linecolor\":\"white\",\"ticks\":\"\",\"title\":{\"standoff\":15},\"zerolinecolor\":\"white\",\"automargin\":true,\"zerolinewidth\":2},\"scene\":{\"xaxis\":{\"backgroundcolor\":\"#E5ECF6\",\"gridcolor\":\"white\",\"linecolor\":\"white\",\"showbackground\":true,\"ticks\":\"\",\"zerolinecolor\":\"white\",\"gridwidth\":2},\"yaxis\":{\"backgroundcolor\":\"#E5ECF6\",\"gridcolor\":\"white\",\"linecolor\":\"white\",\"showbackground\":true,\"ticks\":\"\",\"zerolinecolor\":\"white\",\"gridwidth\":2},\"zaxis\":{\"backgroundcolor\":\"#E5ECF6\",\"gridcolor\":\"white\",\"linecolor\":\"white\",\"showbackground\":true,\"ticks\":\"\",\"zerolinecolor\":\"white\",\"gridwidth\":2}},\"shapedefaults\":{\"line\":{\"color\":\"#2a3f5f\"}},\"annotationdefaults\":{\"arrowcolor\":\"#2a3f5f\",\"arrowhead\":0,\"arrowwidth\":1},\"geo\":{\"bgcolor\":\"white\",\"landcolor\":\"#E5ECF6\",\"subunitcolor\":\"white\",\"showland\":true,\"showlakes\":true,\"lakecolor\":\"white\"},\"title\":{\"x\":0.05},\"mapbox\":{\"style\":\"light\"}}},\"legend\":{\"title\":{\"text\":\"Cluster\"},\"tracegroupgap\":0},\"margin\":{\"t\":60},\"dragmode\":\"select\",\"font\":{\"family\":\"Courier New, monospace\",\"size\":10,\"color\":\"black\"},\"paper_bgcolor\":\"rgba(0,0,0,0)\",\"plot_bgcolor\":\"rgba(245, 245, 245, 1)\",\"showlegend\":true,\"xaxis\":{\"showgrid\":true,\"gridwidth\":0.5,\"gridcolor\":\"rgba(200, 200, 200, 0.5)\"},\"yaxis\":{\"showgrid\":true,\"gridwidth\":0.5,\"gridcolor\":\"rgba(200, 200, 200, 0.5)\"},\"width\":1000,\"height\":1000},                        {\"responsive\": true}                    ).then(function(){\n",
       "                            \n",
       "var gd = document.getElementById('55e91d87-f74f-47ac-9216-0238fc05327f');\n",
       "var x = new MutationObserver(function (mutations, observer) {{\n",
       "        var display = window.getComputedStyle(gd).display;\n",
       "        if (!display || display === 'none') {{\n",
       "            console.log([gd, 'removed!']);\n",
       "            Plotly.purge(gd);\n",
       "            observer.disconnect();\n",
       "        }}\n",
       "}});\n",
       "\n",
       "// Listen for the removal of the full notebook cells\n",
       "var notebookContainer = gd.closest('#notebook-container');\n",
       "if (notebookContainer) {{\n",
       "    x.observe(notebookContainer, {childList: true});\n",
       "}}\n",
       "\n",
       "// Listen for the clearing of the current output cell\n",
       "var outputEl = gd.closest('.output');\n",
       "if (outputEl) {{\n",
       "    x.observe(outputEl, {childList: true});\n",
       "}}\n",
       "\n",
       "                        })                };                });            </script>        </div>"
      ]
     },
     "metadata": {},
     "output_type": "display_data"
    }
   ],
   "source": [
    "graph_pair_plot_plotly(df=df_3, cluster_rankings=cluster_ranking_3,\n",
    "                       position=position, stats=stats, \n",
    "                       save_suffix=suffix, font_size=font_size, marker_size=marker_size,\n",
    "                       height=dim, width=dim\n",
    "                      )"
   ]
  },
  {
   "cell_type": "code",
   "execution_count": 103,
   "id": "ea7cbc05",
   "metadata": {
    "scrolled": false
   },
   "outputs": [
    {
     "name": "stdout",
     "output_type": "stream",
     "text": [
      "<p class='blog-p-tag'>\n",
      "\tTODO:\n",
      "\t<ul class='bullet-list'>\n",
      "\t\t<li><b>Cluster 0:</b> TODO</li>\n",
      "\t\t<li><b>Cluster 1:</b> TODO</li>\n",
      "\t\t<li><b>Cluster 2:</b> TODO</li>\n",
      "\t</ul>\n",
      "</p>\n",
      "<p class=\"blog-p-tag\">\n",
      "    TODO\n",
      "</p>\n",
      "<div style='display: flex; justify-content: space-evenly;''>\n",
      "\t<div>\n",
      "\t\t<b>Cluster 0 ()</b>\n",
      "\t\t<ul class='bullet-list'>\n",
      "\t\t\t<li>Patrick Mahomes</li>\n",
      "\t\t\t<li>Joe Burrow</li>\n",
      "\t\t\t<li>Geno Smith</li>\n",
      "\t\t\t<li>Trevor Lawrence</li>\n",
      "\t\t\t<li>Russell Wilson</li>\n",
      "\t\t\t<li>Dak Prescott</li>\n",
      "\t\t\t<li>Jacoby Brissett</li>\n",
      "\t\t\t<li>Kenny Pickett</li>\n",
      "\t\t</ul>\n",
      "\t</div>\n",
      "\n",
      "\t<div>\n",
      "\t\t<b>Cluster 1 ()</b>\n",
      "\t\t<ul class='bullet-list'>\n",
      "\t\t\t<li>Josh Allen</li>\n",
      "\t\t\t<li>Jalen Hurts</li>\n",
      "\t\t\t<li>Justin Fields</li>\n",
      "\t\t\t<li>Daniel Jones</li>\n",
      "\t\t\t<li>Lamar Jackson</li>\n",
      "\t\t\t<li>Kyler Murray</li>\n",
      "\t\t\t<li>Marcus Mariota</li>\n",
      "\t\t</ul>\n",
      "\t</div>\n",
      "\n",
      "\t<div>\n",
      "\t\t<b>Cluster 2 ()</b>\n",
      "\t\t<ul class='bullet-list'>\n",
      "\t\t\t<li>Kirk Cousins</li>\n",
      "\t\t\t<li>Jared Goff</li>\n",
      "\t\t\t<li>Justin Herbert</li>\n",
      "\t\t\t<li>Tom Brady</li>\n",
      "\t\t\t<li>Aaron Rodgers</li>\n",
      "\t\t\t<li>Tua Tagovailoa</li>\n",
      "\t\t\t<li>Derek Carr</li>\n",
      "\t\t\t<li>Davis Mills</li>\n",
      "\t\t\t<li>Andy Dalton</li>\n",
      "\t\t\t<li>Mac Jones</li>\n",
      "\t\t\t<li>Jimmy Garoppolo</li>\n",
      "\t\t\t<li>Ryan Tannehill</li>\n",
      "\t\t\t<li>Matt Ryan</li>\n",
      "\t\t\t<li>Baker Mayfield</li>\n",
      "\t\t\t<li>Taylor Heinicke</li>\n",
      "\t\t</ul>\n",
      "\t</div>\n",
      "</div>\n"
     ]
    }
   ],
   "source": [
    "create_cluster_html_tiers(df_3)"
   ]
  },
  {
   "cell_type": "markdown",
   "id": "6eb39ab6",
   "metadata": {},
   "source": [
    "### 4 Clusters"
   ]
  },
  {
   "cell_type": "code",
   "execution_count": 38,
   "id": "7358fea0",
   "metadata": {},
   "outputs": [],
   "source": [
    "df_4 = create_cluster_df(labels=labels_4, X=X, stats=stats)"
   ]
  },
  {
   "cell_type": "code",
   "execution_count": 39,
   "id": "c8e9a91c",
   "metadata": {},
   "outputs": [
    {
     "data": {
      "application/vnd.plotly.v1+json": {
       "config": {
        "plotlyServerURL": "https://plot.ly"
       },
       "data": [
        {
         "diagonal": {
          "visible": false
         },
         "dimensions": [
          {
           "axis": {
            "matches": true
           },
           "label": "Rushing Yards Per Game",
           "values": [
            21.058823529411764,
            16.0625,
            21.529411764705884,
            17.11764705882353,
            18.466666666666665,
            15.166666666666666,
            15.1875,
            18.23076923076923
           ]
          },
          {
           "axis": {
            "matches": true
           },
           "label": "Carries Per Game",
           "values": [
            3.588235294117647,
            4.6875,
            4,
            3.6470588235294117,
            3.6666666666666665,
            3.75,
            3.0625,
            4.230769230769231
           ]
          },
          {
           "axis": {
            "matches": true
           },
           "label": "Yards Per Carry",
           "values": [
            5.87,
            3.43,
            5.38,
            4.69,
            5.04,
            4.04,
            4.96,
            4.31
           ]
          },
          {
           "axis": {
            "matches": true
           },
           "label": "Rushing Touchdowns Per Game",
           "values": [
            0.23529411764705882,
            0.3125,
            0.058823529411764705,
            0.29411764705882354,
            0.2,
            0.08333333333333333,
            0.125,
            0.23076923076923078
           ]
          },
          {
           "axis": {
            "matches": true
           },
           "label": "Fumbles Per Game",
           "values": [
            0.29411764705882354,
            0.375,
            0.47058823529411764,
            0.7058823529411765,
            0.4,
            0.3333333333333333,
            0.375,
            0.3076923076923077
           ]
          }
         ],
         "hovertemplate": "<b>%{hovertext}</b><br><br>Cluster=2<br>%{xaxis.title.text}=%{x}<br>%{yaxis.title.text}=%{y}<extra></extra>",
         "hovertext": [
          "Patrick Mahomes",
          "Joe Burrow",
          "Geno Smith",
          "Trevor Lawrence",
          "Russell Wilson",
          "Dak Prescott",
          "Jacoby Brissett",
          "Kenny Pickett"
         ],
         "legendgroup": "2",
         "marker": {
          "color": "#636efa",
          "size": 6,
          "symbol": "circle"
         },
         "name": "2",
         "showlegend": true,
         "type": "splom"
        },
        {
         "diagonal": {
          "visible": false
         },
         "dimensions": [
          {
           "axis": {
            "matches": true
           },
           "label": "Rushing Yards Per Game",
           "values": [
            47.625,
            50.666666666666664,
            76.2,
            44.25,
            63.666666666666664,
            38,
            33.69230769230769
           ]
          },
          {
           "axis": {
            "matches": true
           },
           "label": "Carries Per Game",
           "values": [
            7.75,
            11,
            10.666666666666666,
            7.5,
            9.333333333333334,
            6.090909090909091,
            6.538461538461538
           ]
          },
          {
           "axis": {
            "matches": true
           },
           "label": "Yards Per Carry",
           "values": [
            6.15,
            4.61,
            7.14,
            5.9,
            6.82,
            6.24,
            5.15
           ]
          },
          {
           "axis": {
            "matches": true
           },
           "label": "Rushing Touchdowns Per Game",
           "values": [
            0.4375,
            0.8666666666666667,
            0.5333333333333333,
            0.4375,
            0.25,
            0.2727272727272727,
            0.3076923076923077
           ]
          },
          {
           "axis": {
            "matches": true
           },
           "label": "Fumbles Per Game",
           "values": [
            0.8125,
            0.6,
            1.0666666666666667,
            0.375,
            0.4166666666666667,
            0.7272727272727273,
            0.6153846153846154
           ]
          }
         ],
         "hovertemplate": "<b>%{hovertext}</b><br><br>Cluster=1<br>%{xaxis.title.text}=%{x}<br>%{yaxis.title.text}=%{y}<extra></extra>",
         "hovertext": [
          "Josh Allen",
          "Jalen Hurts",
          "Justin Fields",
          "Daniel Jones",
          "Lamar Jackson",
          "Kyler Murray",
          "Marcus Mariota"
         ],
         "legendgroup": "1",
         "marker": {
          "color": "#EF553B",
          "size": 6,
          "symbol": "circle"
         },
         "name": "1",
         "showlegend": true,
         "type": "splom"
        },
        {
         "diagonal": {
          "visible": false
         },
         "dimensions": [
          {
           "axis": {
            "matches": true
           },
           "label": "Rushing Yards Per Game",
           "values": [
            5.705882352941177,
            4.294117647058823,
            8.647058823529411,
            -0.058823529411764705,
            5.529411764705882,
            5.384615384615385,
            6.8,
            7.2,
            3.857142857142857,
            7.285714285714286,
            3,
            8.166666666666666
           ]
          },
          {
           "axis": {
            "matches": true
           },
           "label": "Carries Per Game",
           "values": [
            1.8235294117647058,
            1.7058823529411764,
            3.176470588235294,
            1.7058823529411764,
            2,
            1.7692307692307692,
            1.6,
            2.1333333333333333,
            2.142857142857143,
            3.357142857142857,
            2.090909090909091,
            2.8333333333333335
           ]
          },
          {
           "axis": {
            "matches": true
           },
           "label": "Yards Per Carry",
           "values": [
            3.13,
            2.52,
            2.72,
            -0.03,
            2.76,
            3.04,
            4.25,
            3.38,
            1.8,
            2.17,
            1.43,
            2.88
           ]
          },
          {
           "axis": {
            "matches": true
           },
           "label": "Rushing Touchdowns Per Game",
           "values": [
            0.11764705882352941,
            0,
            0,
            0.058823529411764705,
            0.058823529411764705,
            0,
            0,
            0.13333333333333333,
            0,
            0.07142857142857142,
            0.18181818181818182,
            0.16666666666666666
           ]
          },
          {
           "axis": {
            "matches": true
           },
           "label": "Fumbles Per Game",
           "values": [
            0.4117647058823529,
            0.4117647058823529,
            0.47058823529411764,
            0.29411764705882354,
            0.47058823529411764,
            0.46153846153846156,
            0.26666666666666666,
            0.5333333333333333,
            0.35714285714285715,
            0.35714285714285715,
            0.2727272727272727,
            0.25
           ]
          }
         ],
         "hovertemplate": "<b>%{hovertext}</b><br><br>Cluster=0<br>%{xaxis.title.text}=%{x}<br>%{yaxis.title.text}=%{y}<extra></extra>",
         "hovertext": [
          "Kirk Cousins",
          "Jared Goff",
          "Justin Herbert",
          "Tom Brady",
          "Aaron Rodgers",
          "Tua Tagovailoa",
          "Derek Carr",
          "Davis Mills",
          "Andy Dalton",
          "Mac Jones",
          "Jimmy Garoppolo",
          "Ryan Tannehill"
         ],
         "legendgroup": "0",
         "marker": {
          "color": "#00cc96",
          "size": 6,
          "symbol": "circle"
         },
         "name": "0",
         "showlegend": true,
         "type": "splom"
        },
        {
         "diagonal": {
          "visible": false
         },
         "dimensions": [
          {
           "axis": {
            "matches": true
           },
           "label": "Rushing Yards Per Game",
           "values": [
            5.833333333333333,
            7.416666666666667,
            10.666666666666666
           ]
          },
          {
           "axis": {
            "matches": true
           },
           "label": "Carries Per Game",
           "values": [
            2.25,
            2.5833333333333335,
            3.111111111111111
           ]
          },
          {
           "axis": {
            "matches": true
           },
           "label": "Yards Per Carry",
           "values": [
            2.59,
            2.87,
            3.43
           ]
          },
          {
           "axis": {
            "matches": true
           },
           "label": "Rushing Touchdowns Per Game",
           "values": [
            0.08333333333333333,
            0.08333333333333333,
            0.1111111111111111
           ]
          },
          {
           "axis": {
            "matches": true
           },
           "label": "Fumbles Per Game",
           "values": [
            1.25,
            0.75,
            0.7777777777777778
           ]
          }
         ],
         "hovertemplate": "<b>%{hovertext}</b><br><br>Cluster=3<br>%{xaxis.title.text}=%{x}<br>%{yaxis.title.text}=%{y}<extra></extra>",
         "hovertext": [
          "Matt Ryan",
          "Baker Mayfield",
          "Taylor Heinicke"
         ],
         "legendgroup": "3",
         "marker": {
          "color": "#ab63fa",
          "size": 6,
          "symbol": "circle"
         },
         "name": "3",
         "showlegend": true,
         "type": "splom"
        }
       ],
       "layout": {
        "dragmode": "select",
        "font": {
         "color": "black",
         "family": "Courier New, monospace",
         "size": 10
        },
        "height": 1000,
        "legend": {
         "title": {
          "text": "Cluster"
         },
         "tracegroupgap": 0
        },
        "margin": {
         "t": 60
        },
        "paper_bgcolor": "rgba(0,0,0,0)",
        "plot_bgcolor": "rgba(245, 245, 245, 1)",
        "showlegend": true,
        "template": {
         "data": {
          "bar": [
           {
            "error_x": {
             "color": "#2a3f5f"
            },
            "error_y": {
             "color": "#2a3f5f"
            },
            "marker": {
             "line": {
              "color": "#E5ECF6",
              "width": 0.5
             },
             "pattern": {
              "fillmode": "overlay",
              "size": 10,
              "solidity": 0.2
             }
            },
            "type": "bar"
           }
          ],
          "barpolar": [
           {
            "marker": {
             "line": {
              "color": "#E5ECF6",
              "width": 0.5
             },
             "pattern": {
              "fillmode": "overlay",
              "size": 10,
              "solidity": 0.2
             }
            },
            "type": "barpolar"
           }
          ],
          "carpet": [
           {
            "aaxis": {
             "endlinecolor": "#2a3f5f",
             "gridcolor": "white",
             "linecolor": "white",
             "minorgridcolor": "white",
             "startlinecolor": "#2a3f5f"
            },
            "baxis": {
             "endlinecolor": "#2a3f5f",
             "gridcolor": "white",
             "linecolor": "white",
             "minorgridcolor": "white",
             "startlinecolor": "#2a3f5f"
            },
            "type": "carpet"
           }
          ],
          "choropleth": [
           {
            "colorbar": {
             "outlinewidth": 0,
             "ticks": ""
            },
            "type": "choropleth"
           }
          ],
          "contour": [
           {
            "colorbar": {
             "outlinewidth": 0,
             "ticks": ""
            },
            "colorscale": [
             [
              0,
              "#0d0887"
             ],
             [
              0.1111111111111111,
              "#46039f"
             ],
             [
              0.2222222222222222,
              "#7201a8"
             ],
             [
              0.3333333333333333,
              "#9c179e"
             ],
             [
              0.4444444444444444,
              "#bd3786"
             ],
             [
              0.5555555555555556,
              "#d8576b"
             ],
             [
              0.6666666666666666,
              "#ed7953"
             ],
             [
              0.7777777777777778,
              "#fb9f3a"
             ],
             [
              0.8888888888888888,
              "#fdca26"
             ],
             [
              1,
              "#f0f921"
             ]
            ],
            "type": "contour"
           }
          ],
          "contourcarpet": [
           {
            "colorbar": {
             "outlinewidth": 0,
             "ticks": ""
            },
            "type": "contourcarpet"
           }
          ],
          "heatmap": [
           {
            "colorbar": {
             "outlinewidth": 0,
             "ticks": ""
            },
            "colorscale": [
             [
              0,
              "#0d0887"
             ],
             [
              0.1111111111111111,
              "#46039f"
             ],
             [
              0.2222222222222222,
              "#7201a8"
             ],
             [
              0.3333333333333333,
              "#9c179e"
             ],
             [
              0.4444444444444444,
              "#bd3786"
             ],
             [
              0.5555555555555556,
              "#d8576b"
             ],
             [
              0.6666666666666666,
              "#ed7953"
             ],
             [
              0.7777777777777778,
              "#fb9f3a"
             ],
             [
              0.8888888888888888,
              "#fdca26"
             ],
             [
              1,
              "#f0f921"
             ]
            ],
            "type": "heatmap"
           }
          ],
          "heatmapgl": [
           {
            "colorbar": {
             "outlinewidth": 0,
             "ticks": ""
            },
            "colorscale": [
             [
              0,
              "#0d0887"
             ],
             [
              0.1111111111111111,
              "#46039f"
             ],
             [
              0.2222222222222222,
              "#7201a8"
             ],
             [
              0.3333333333333333,
              "#9c179e"
             ],
             [
              0.4444444444444444,
              "#bd3786"
             ],
             [
              0.5555555555555556,
              "#d8576b"
             ],
             [
              0.6666666666666666,
              "#ed7953"
             ],
             [
              0.7777777777777778,
              "#fb9f3a"
             ],
             [
              0.8888888888888888,
              "#fdca26"
             ],
             [
              1,
              "#f0f921"
             ]
            ],
            "type": "heatmapgl"
           }
          ],
          "histogram": [
           {
            "marker": {
             "pattern": {
              "fillmode": "overlay",
              "size": 10,
              "solidity": 0.2
             }
            },
            "type": "histogram"
           }
          ],
          "histogram2d": [
           {
            "colorbar": {
             "outlinewidth": 0,
             "ticks": ""
            },
            "colorscale": [
             [
              0,
              "#0d0887"
             ],
             [
              0.1111111111111111,
              "#46039f"
             ],
             [
              0.2222222222222222,
              "#7201a8"
             ],
             [
              0.3333333333333333,
              "#9c179e"
             ],
             [
              0.4444444444444444,
              "#bd3786"
             ],
             [
              0.5555555555555556,
              "#d8576b"
             ],
             [
              0.6666666666666666,
              "#ed7953"
             ],
             [
              0.7777777777777778,
              "#fb9f3a"
             ],
             [
              0.8888888888888888,
              "#fdca26"
             ],
             [
              1,
              "#f0f921"
             ]
            ],
            "type": "histogram2d"
           }
          ],
          "histogram2dcontour": [
           {
            "colorbar": {
             "outlinewidth": 0,
             "ticks": ""
            },
            "colorscale": [
             [
              0,
              "#0d0887"
             ],
             [
              0.1111111111111111,
              "#46039f"
             ],
             [
              0.2222222222222222,
              "#7201a8"
             ],
             [
              0.3333333333333333,
              "#9c179e"
             ],
             [
              0.4444444444444444,
              "#bd3786"
             ],
             [
              0.5555555555555556,
              "#d8576b"
             ],
             [
              0.6666666666666666,
              "#ed7953"
             ],
             [
              0.7777777777777778,
              "#fb9f3a"
             ],
             [
              0.8888888888888888,
              "#fdca26"
             ],
             [
              1,
              "#f0f921"
             ]
            ],
            "type": "histogram2dcontour"
           }
          ],
          "mesh3d": [
           {
            "colorbar": {
             "outlinewidth": 0,
             "ticks": ""
            },
            "type": "mesh3d"
           }
          ],
          "parcoords": [
           {
            "line": {
             "colorbar": {
              "outlinewidth": 0,
              "ticks": ""
             }
            },
            "type": "parcoords"
           }
          ],
          "pie": [
           {
            "automargin": true,
            "type": "pie"
           }
          ],
          "scatter": [
           {
            "fillpattern": {
             "fillmode": "overlay",
             "size": 10,
             "solidity": 0.2
            },
            "type": "scatter"
           }
          ],
          "scatter3d": [
           {
            "line": {
             "colorbar": {
              "outlinewidth": 0,
              "ticks": ""
             }
            },
            "marker": {
             "colorbar": {
              "outlinewidth": 0,
              "ticks": ""
             }
            },
            "type": "scatter3d"
           }
          ],
          "scattercarpet": [
           {
            "marker": {
             "colorbar": {
              "outlinewidth": 0,
              "ticks": ""
             }
            },
            "type": "scattercarpet"
           }
          ],
          "scattergeo": [
           {
            "marker": {
             "colorbar": {
              "outlinewidth": 0,
              "ticks": ""
             }
            },
            "type": "scattergeo"
           }
          ],
          "scattergl": [
           {
            "marker": {
             "colorbar": {
              "outlinewidth": 0,
              "ticks": ""
             }
            },
            "type": "scattergl"
           }
          ],
          "scattermapbox": [
           {
            "marker": {
             "colorbar": {
              "outlinewidth": 0,
              "ticks": ""
             }
            },
            "type": "scattermapbox"
           }
          ],
          "scatterpolar": [
           {
            "marker": {
             "colorbar": {
              "outlinewidth": 0,
              "ticks": ""
             }
            },
            "type": "scatterpolar"
           }
          ],
          "scatterpolargl": [
           {
            "marker": {
             "colorbar": {
              "outlinewidth": 0,
              "ticks": ""
             }
            },
            "type": "scatterpolargl"
           }
          ],
          "scatterternary": [
           {
            "marker": {
             "colorbar": {
              "outlinewidth": 0,
              "ticks": ""
             }
            },
            "type": "scatterternary"
           }
          ],
          "surface": [
           {
            "colorbar": {
             "outlinewidth": 0,
             "ticks": ""
            },
            "colorscale": [
             [
              0,
              "#0d0887"
             ],
             [
              0.1111111111111111,
              "#46039f"
             ],
             [
              0.2222222222222222,
              "#7201a8"
             ],
             [
              0.3333333333333333,
              "#9c179e"
             ],
             [
              0.4444444444444444,
              "#bd3786"
             ],
             [
              0.5555555555555556,
              "#d8576b"
             ],
             [
              0.6666666666666666,
              "#ed7953"
             ],
             [
              0.7777777777777778,
              "#fb9f3a"
             ],
             [
              0.8888888888888888,
              "#fdca26"
             ],
             [
              1,
              "#f0f921"
             ]
            ],
            "type": "surface"
           }
          ],
          "table": [
           {
            "cells": {
             "fill": {
              "color": "#EBF0F8"
             },
             "line": {
              "color": "white"
             }
            },
            "header": {
             "fill": {
              "color": "#C8D4E3"
             },
             "line": {
              "color": "white"
             }
            },
            "type": "table"
           }
          ]
         },
         "layout": {
          "annotationdefaults": {
           "arrowcolor": "#2a3f5f",
           "arrowhead": 0,
           "arrowwidth": 1
          },
          "autotypenumbers": "strict",
          "coloraxis": {
           "colorbar": {
            "outlinewidth": 0,
            "ticks": ""
           }
          },
          "colorscale": {
           "diverging": [
            [
             0,
             "#8e0152"
            ],
            [
             0.1,
             "#c51b7d"
            ],
            [
             0.2,
             "#de77ae"
            ],
            [
             0.3,
             "#f1b6da"
            ],
            [
             0.4,
             "#fde0ef"
            ],
            [
             0.5,
             "#f7f7f7"
            ],
            [
             0.6,
             "#e6f5d0"
            ],
            [
             0.7,
             "#b8e186"
            ],
            [
             0.8,
             "#7fbc41"
            ],
            [
             0.9,
             "#4d9221"
            ],
            [
             1,
             "#276419"
            ]
           ],
           "sequential": [
            [
             0,
             "#0d0887"
            ],
            [
             0.1111111111111111,
             "#46039f"
            ],
            [
             0.2222222222222222,
             "#7201a8"
            ],
            [
             0.3333333333333333,
             "#9c179e"
            ],
            [
             0.4444444444444444,
             "#bd3786"
            ],
            [
             0.5555555555555556,
             "#d8576b"
            ],
            [
             0.6666666666666666,
             "#ed7953"
            ],
            [
             0.7777777777777778,
             "#fb9f3a"
            ],
            [
             0.8888888888888888,
             "#fdca26"
            ],
            [
             1,
             "#f0f921"
            ]
           ],
           "sequentialminus": [
            [
             0,
             "#0d0887"
            ],
            [
             0.1111111111111111,
             "#46039f"
            ],
            [
             0.2222222222222222,
             "#7201a8"
            ],
            [
             0.3333333333333333,
             "#9c179e"
            ],
            [
             0.4444444444444444,
             "#bd3786"
            ],
            [
             0.5555555555555556,
             "#d8576b"
            ],
            [
             0.6666666666666666,
             "#ed7953"
            ],
            [
             0.7777777777777778,
             "#fb9f3a"
            ],
            [
             0.8888888888888888,
             "#fdca26"
            ],
            [
             1,
             "#f0f921"
            ]
           ]
          },
          "colorway": [
           "#636efa",
           "#EF553B",
           "#00cc96",
           "#ab63fa",
           "#FFA15A",
           "#19d3f3",
           "#FF6692",
           "#B6E880",
           "#FF97FF",
           "#FECB52"
          ],
          "font": {
           "color": "#2a3f5f"
          },
          "geo": {
           "bgcolor": "white",
           "lakecolor": "white",
           "landcolor": "#E5ECF6",
           "showlakes": true,
           "showland": true,
           "subunitcolor": "white"
          },
          "hoverlabel": {
           "align": "left"
          },
          "hovermode": "closest",
          "mapbox": {
           "style": "light"
          },
          "paper_bgcolor": "white",
          "plot_bgcolor": "#E5ECF6",
          "polar": {
           "angularaxis": {
            "gridcolor": "white",
            "linecolor": "white",
            "ticks": ""
           },
           "bgcolor": "#E5ECF6",
           "radialaxis": {
            "gridcolor": "white",
            "linecolor": "white",
            "ticks": ""
           }
          },
          "scene": {
           "xaxis": {
            "backgroundcolor": "#E5ECF6",
            "gridcolor": "white",
            "gridwidth": 2,
            "linecolor": "white",
            "showbackground": true,
            "ticks": "",
            "zerolinecolor": "white"
           },
           "yaxis": {
            "backgroundcolor": "#E5ECF6",
            "gridcolor": "white",
            "gridwidth": 2,
            "linecolor": "white",
            "showbackground": true,
            "ticks": "",
            "zerolinecolor": "white"
           },
           "zaxis": {
            "backgroundcolor": "#E5ECF6",
            "gridcolor": "white",
            "gridwidth": 2,
            "linecolor": "white",
            "showbackground": true,
            "ticks": "",
            "zerolinecolor": "white"
           }
          },
          "shapedefaults": {
           "line": {
            "color": "#2a3f5f"
           }
          },
          "ternary": {
           "aaxis": {
            "gridcolor": "white",
            "linecolor": "white",
            "ticks": ""
           },
           "baxis": {
            "gridcolor": "white",
            "linecolor": "white",
            "ticks": ""
           },
           "bgcolor": "#E5ECF6",
           "caxis": {
            "gridcolor": "white",
            "linecolor": "white",
            "ticks": ""
           }
          },
          "title": {
           "x": 0.05
          },
          "xaxis": {
           "automargin": true,
           "gridcolor": "white",
           "linecolor": "white",
           "ticks": "",
           "title": {
            "standoff": 15
           },
           "zerolinecolor": "white",
           "zerolinewidth": 2
          },
          "yaxis": {
           "automargin": true,
           "gridcolor": "white",
           "linecolor": "white",
           "ticks": "",
           "title": {
            "standoff": 15
           },
           "zerolinecolor": "white",
           "zerolinewidth": 2
          }
         }
        },
        "width": 1000,
        "xaxis": {
         "gridcolor": "rgba(200, 200, 200, 0.5)",
         "gridwidth": 0.5,
         "showgrid": true
        },
        "yaxis": {
         "gridcolor": "rgba(200, 200, 200, 0.5)",
         "gridwidth": 0.5,
         "showgrid": true
        }
       }
      },
      "text/html": [
       "<div>                            <div id=\"4a8b051a-08b5-4ed5-b163-b4bc8cd15630\" class=\"plotly-graph-div\" style=\"height:1000px; width:1000px;\"></div>            <script type=\"text/javascript\">                require([\"plotly\"], function(Plotly) {                    window.PLOTLYENV=window.PLOTLYENV || {};                                    if (document.getElementById(\"4a8b051a-08b5-4ed5-b163-b4bc8cd15630\")) {                    Plotly.newPlot(                        \"4a8b051a-08b5-4ed5-b163-b4bc8cd15630\",                        [{\"dimensions\":[{\"axis\":{\"matches\":true},\"label\":\"Rushing Yards Per Game\",\"values\":[21.058823529411764,16.0625,21.529411764705884,17.11764705882353,18.466666666666665,15.166666666666666,15.1875,18.23076923076923]},{\"axis\":{\"matches\":true},\"label\":\"Carries Per Game\",\"values\":[3.588235294117647,4.6875,4.0,3.6470588235294117,3.6666666666666665,3.75,3.0625,4.230769230769231]},{\"axis\":{\"matches\":true},\"label\":\"Yards Per Carry\",\"values\":[5.87,3.43,5.38,4.69,5.04,4.04,4.96,4.31]},{\"axis\":{\"matches\":true},\"label\":\"Rushing Touchdowns Per Game\",\"values\":[0.23529411764705882,0.3125,0.058823529411764705,0.29411764705882354,0.2,0.08333333333333333,0.125,0.23076923076923078]},{\"axis\":{\"matches\":true},\"label\":\"Fumbles Per Game\",\"values\":[0.29411764705882354,0.375,0.47058823529411764,0.7058823529411765,0.4,0.3333333333333333,0.375,0.3076923076923077]}],\"hovertemplate\":\"\\u003cb\\u003e%{hovertext}\\u003c\\u002fb\\u003e\\u003cbr\\u003e\\u003cbr\\u003eCluster=2\\u003cbr\\u003e%{xaxis.title.text}=%{x}\\u003cbr\\u003e%{yaxis.title.text}=%{y}\\u003cextra\\u003e\\u003c\\u002fextra\\u003e\",\"hovertext\":[\"Patrick Mahomes\",\"Joe Burrow\",\"Geno Smith\",\"Trevor Lawrence\",\"Russell Wilson\",\"Dak Prescott\",\"Jacoby Brissett\",\"Kenny Pickett\"],\"legendgroup\":\"2\",\"marker\":{\"color\":\"#636efa\",\"symbol\":\"circle\",\"size\":6},\"name\":\"2\",\"showlegend\":true,\"type\":\"splom\",\"diagonal\":{\"visible\":false}},{\"dimensions\":[{\"axis\":{\"matches\":true},\"label\":\"Rushing Yards Per Game\",\"values\":[47.625,50.666666666666664,76.2,44.25,63.666666666666664,38.0,33.69230769230769]},{\"axis\":{\"matches\":true},\"label\":\"Carries Per Game\",\"values\":[7.75,11.0,10.666666666666666,7.5,9.333333333333334,6.090909090909091,6.538461538461538]},{\"axis\":{\"matches\":true},\"label\":\"Yards Per Carry\",\"values\":[6.15,4.61,7.14,5.9,6.82,6.24,5.15]},{\"axis\":{\"matches\":true},\"label\":\"Rushing Touchdowns Per Game\",\"values\":[0.4375,0.8666666666666667,0.5333333333333333,0.4375,0.25,0.2727272727272727,0.3076923076923077]},{\"axis\":{\"matches\":true},\"label\":\"Fumbles Per Game\",\"values\":[0.8125,0.6,1.0666666666666667,0.375,0.4166666666666667,0.7272727272727273,0.6153846153846154]}],\"hovertemplate\":\"\\u003cb\\u003e%{hovertext}\\u003c\\u002fb\\u003e\\u003cbr\\u003e\\u003cbr\\u003eCluster=1\\u003cbr\\u003e%{xaxis.title.text}=%{x}\\u003cbr\\u003e%{yaxis.title.text}=%{y}\\u003cextra\\u003e\\u003c\\u002fextra\\u003e\",\"hovertext\":[\"Josh Allen\",\"Jalen Hurts\",\"Justin Fields\",\"Daniel Jones\",\"Lamar Jackson\",\"Kyler Murray\",\"Marcus Mariota\"],\"legendgroup\":\"1\",\"marker\":{\"color\":\"#EF553B\",\"symbol\":\"circle\",\"size\":6},\"name\":\"1\",\"showlegend\":true,\"type\":\"splom\",\"diagonal\":{\"visible\":false}},{\"dimensions\":[{\"axis\":{\"matches\":true},\"label\":\"Rushing Yards Per Game\",\"values\":[5.705882352941177,4.294117647058823,8.647058823529411,-0.058823529411764705,5.529411764705882,5.384615384615385,6.8,7.2,3.857142857142857,7.285714285714286,3.0,8.166666666666666]},{\"axis\":{\"matches\":true},\"label\":\"Carries Per Game\",\"values\":[1.8235294117647058,1.7058823529411764,3.176470588235294,1.7058823529411764,2.0,1.7692307692307692,1.6,2.1333333333333333,2.142857142857143,3.357142857142857,2.090909090909091,2.8333333333333335]},{\"axis\":{\"matches\":true},\"label\":\"Yards Per Carry\",\"values\":[3.13,2.52,2.72,-0.03,2.76,3.04,4.25,3.38,1.8,2.17,1.43,2.88]},{\"axis\":{\"matches\":true},\"label\":\"Rushing Touchdowns Per Game\",\"values\":[0.11764705882352941,0.0,0.0,0.058823529411764705,0.058823529411764705,0.0,0.0,0.13333333333333333,0.0,0.07142857142857142,0.18181818181818182,0.16666666666666666]},{\"axis\":{\"matches\":true},\"label\":\"Fumbles Per Game\",\"values\":[0.4117647058823529,0.4117647058823529,0.47058823529411764,0.29411764705882354,0.47058823529411764,0.46153846153846156,0.26666666666666666,0.5333333333333333,0.35714285714285715,0.35714285714285715,0.2727272727272727,0.25]}],\"hovertemplate\":\"\\u003cb\\u003e%{hovertext}\\u003c\\u002fb\\u003e\\u003cbr\\u003e\\u003cbr\\u003eCluster=0\\u003cbr\\u003e%{xaxis.title.text}=%{x}\\u003cbr\\u003e%{yaxis.title.text}=%{y}\\u003cextra\\u003e\\u003c\\u002fextra\\u003e\",\"hovertext\":[\"Kirk Cousins\",\"Jared Goff\",\"Justin Herbert\",\"Tom Brady\",\"Aaron Rodgers\",\"Tua Tagovailoa\",\"Derek Carr\",\"Davis Mills\",\"Andy Dalton\",\"Mac Jones\",\"Jimmy Garoppolo\",\"Ryan Tannehill\"],\"legendgroup\":\"0\",\"marker\":{\"color\":\"#00cc96\",\"symbol\":\"circle\",\"size\":6},\"name\":\"0\",\"showlegend\":true,\"type\":\"splom\",\"diagonal\":{\"visible\":false}},{\"dimensions\":[{\"axis\":{\"matches\":true},\"label\":\"Rushing Yards Per Game\",\"values\":[5.833333333333333,7.416666666666667,10.666666666666666]},{\"axis\":{\"matches\":true},\"label\":\"Carries Per Game\",\"values\":[2.25,2.5833333333333335,3.111111111111111]},{\"axis\":{\"matches\":true},\"label\":\"Yards Per Carry\",\"values\":[2.59,2.87,3.43]},{\"axis\":{\"matches\":true},\"label\":\"Rushing Touchdowns Per Game\",\"values\":[0.08333333333333333,0.08333333333333333,0.1111111111111111]},{\"axis\":{\"matches\":true},\"label\":\"Fumbles Per Game\",\"values\":[1.25,0.75,0.7777777777777778]}],\"hovertemplate\":\"\\u003cb\\u003e%{hovertext}\\u003c\\u002fb\\u003e\\u003cbr\\u003e\\u003cbr\\u003eCluster=3\\u003cbr\\u003e%{xaxis.title.text}=%{x}\\u003cbr\\u003e%{yaxis.title.text}=%{y}\\u003cextra\\u003e\\u003c\\u002fextra\\u003e\",\"hovertext\":[\"Matt Ryan\",\"Baker Mayfield\",\"Taylor Heinicke\"],\"legendgroup\":\"3\",\"marker\":{\"color\":\"#ab63fa\",\"symbol\":\"circle\",\"size\":6},\"name\":\"3\",\"showlegend\":true,\"type\":\"splom\",\"diagonal\":{\"visible\":false}}],                        {\"template\":{\"data\":{\"histogram2dcontour\":[{\"type\":\"histogram2dcontour\",\"colorbar\":{\"outlinewidth\":0,\"ticks\":\"\"},\"colorscale\":[[0.0,\"#0d0887\"],[0.1111111111111111,\"#46039f\"],[0.2222222222222222,\"#7201a8\"],[0.3333333333333333,\"#9c179e\"],[0.4444444444444444,\"#bd3786\"],[0.5555555555555556,\"#d8576b\"],[0.6666666666666666,\"#ed7953\"],[0.7777777777777778,\"#fb9f3a\"],[0.8888888888888888,\"#fdca26\"],[1.0,\"#f0f921\"]]}],\"choropleth\":[{\"type\":\"choropleth\",\"colorbar\":{\"outlinewidth\":0,\"ticks\":\"\"}}],\"histogram2d\":[{\"type\":\"histogram2d\",\"colorbar\":{\"outlinewidth\":0,\"ticks\":\"\"},\"colorscale\":[[0.0,\"#0d0887\"],[0.1111111111111111,\"#46039f\"],[0.2222222222222222,\"#7201a8\"],[0.3333333333333333,\"#9c179e\"],[0.4444444444444444,\"#bd3786\"],[0.5555555555555556,\"#d8576b\"],[0.6666666666666666,\"#ed7953\"],[0.7777777777777778,\"#fb9f3a\"],[0.8888888888888888,\"#fdca26\"],[1.0,\"#f0f921\"]]}],\"heatmap\":[{\"type\":\"heatmap\",\"colorbar\":{\"outlinewidth\":0,\"ticks\":\"\"},\"colorscale\":[[0.0,\"#0d0887\"],[0.1111111111111111,\"#46039f\"],[0.2222222222222222,\"#7201a8\"],[0.3333333333333333,\"#9c179e\"],[0.4444444444444444,\"#bd3786\"],[0.5555555555555556,\"#d8576b\"],[0.6666666666666666,\"#ed7953\"],[0.7777777777777778,\"#fb9f3a\"],[0.8888888888888888,\"#fdca26\"],[1.0,\"#f0f921\"]]}],\"heatmapgl\":[{\"type\":\"heatmapgl\",\"colorbar\":{\"outlinewidth\":0,\"ticks\":\"\"},\"colorscale\":[[0.0,\"#0d0887\"],[0.1111111111111111,\"#46039f\"],[0.2222222222222222,\"#7201a8\"],[0.3333333333333333,\"#9c179e\"],[0.4444444444444444,\"#bd3786\"],[0.5555555555555556,\"#d8576b\"],[0.6666666666666666,\"#ed7953\"],[0.7777777777777778,\"#fb9f3a\"],[0.8888888888888888,\"#fdca26\"],[1.0,\"#f0f921\"]]}],\"contourcarpet\":[{\"type\":\"contourcarpet\",\"colorbar\":{\"outlinewidth\":0,\"ticks\":\"\"}}],\"contour\":[{\"type\":\"contour\",\"colorbar\":{\"outlinewidth\":0,\"ticks\":\"\"},\"colorscale\":[[0.0,\"#0d0887\"],[0.1111111111111111,\"#46039f\"],[0.2222222222222222,\"#7201a8\"],[0.3333333333333333,\"#9c179e\"],[0.4444444444444444,\"#bd3786\"],[0.5555555555555556,\"#d8576b\"],[0.6666666666666666,\"#ed7953\"],[0.7777777777777778,\"#fb9f3a\"],[0.8888888888888888,\"#fdca26\"],[1.0,\"#f0f921\"]]}],\"surface\":[{\"type\":\"surface\",\"colorbar\":{\"outlinewidth\":0,\"ticks\":\"\"},\"colorscale\":[[0.0,\"#0d0887\"],[0.1111111111111111,\"#46039f\"],[0.2222222222222222,\"#7201a8\"],[0.3333333333333333,\"#9c179e\"],[0.4444444444444444,\"#bd3786\"],[0.5555555555555556,\"#d8576b\"],[0.6666666666666666,\"#ed7953\"],[0.7777777777777778,\"#fb9f3a\"],[0.8888888888888888,\"#fdca26\"],[1.0,\"#f0f921\"]]}],\"mesh3d\":[{\"type\":\"mesh3d\",\"colorbar\":{\"outlinewidth\":0,\"ticks\":\"\"}}],\"scatter\":[{\"fillpattern\":{\"fillmode\":\"overlay\",\"size\":10,\"solidity\":0.2},\"type\":\"scatter\"}],\"parcoords\":[{\"type\":\"parcoords\",\"line\":{\"colorbar\":{\"outlinewidth\":0,\"ticks\":\"\"}}}],\"scatterpolargl\":[{\"type\":\"scatterpolargl\",\"marker\":{\"colorbar\":{\"outlinewidth\":0,\"ticks\":\"\"}}}],\"bar\":[{\"error_x\":{\"color\":\"#2a3f5f\"},\"error_y\":{\"color\":\"#2a3f5f\"},\"marker\":{\"line\":{\"color\":\"#E5ECF6\",\"width\":0.5},\"pattern\":{\"fillmode\":\"overlay\",\"size\":10,\"solidity\":0.2}},\"type\":\"bar\"}],\"scattergeo\":[{\"type\":\"scattergeo\",\"marker\":{\"colorbar\":{\"outlinewidth\":0,\"ticks\":\"\"}}}],\"scatterpolar\":[{\"type\":\"scatterpolar\",\"marker\":{\"colorbar\":{\"outlinewidth\":0,\"ticks\":\"\"}}}],\"histogram\":[{\"marker\":{\"pattern\":{\"fillmode\":\"overlay\",\"size\":10,\"solidity\":0.2}},\"type\":\"histogram\"}],\"scattergl\":[{\"type\":\"scattergl\",\"marker\":{\"colorbar\":{\"outlinewidth\":0,\"ticks\":\"\"}}}],\"scatter3d\":[{\"type\":\"scatter3d\",\"line\":{\"colorbar\":{\"outlinewidth\":0,\"ticks\":\"\"}},\"marker\":{\"colorbar\":{\"outlinewidth\":0,\"ticks\":\"\"}}}],\"scattermapbox\":[{\"type\":\"scattermapbox\",\"marker\":{\"colorbar\":{\"outlinewidth\":0,\"ticks\":\"\"}}}],\"scatterternary\":[{\"type\":\"scatterternary\",\"marker\":{\"colorbar\":{\"outlinewidth\":0,\"ticks\":\"\"}}}],\"scattercarpet\":[{\"type\":\"scattercarpet\",\"marker\":{\"colorbar\":{\"outlinewidth\":0,\"ticks\":\"\"}}}],\"carpet\":[{\"aaxis\":{\"endlinecolor\":\"#2a3f5f\",\"gridcolor\":\"white\",\"linecolor\":\"white\",\"minorgridcolor\":\"white\",\"startlinecolor\":\"#2a3f5f\"},\"baxis\":{\"endlinecolor\":\"#2a3f5f\",\"gridcolor\":\"white\",\"linecolor\":\"white\",\"minorgridcolor\":\"white\",\"startlinecolor\":\"#2a3f5f\"},\"type\":\"carpet\"}],\"table\":[{\"cells\":{\"fill\":{\"color\":\"#EBF0F8\"},\"line\":{\"color\":\"white\"}},\"header\":{\"fill\":{\"color\":\"#C8D4E3\"},\"line\":{\"color\":\"white\"}},\"type\":\"table\"}],\"barpolar\":[{\"marker\":{\"line\":{\"color\":\"#E5ECF6\",\"width\":0.5},\"pattern\":{\"fillmode\":\"overlay\",\"size\":10,\"solidity\":0.2}},\"type\":\"barpolar\"}],\"pie\":[{\"automargin\":true,\"type\":\"pie\"}]},\"layout\":{\"autotypenumbers\":\"strict\",\"colorway\":[\"#636efa\",\"#EF553B\",\"#00cc96\",\"#ab63fa\",\"#FFA15A\",\"#19d3f3\",\"#FF6692\",\"#B6E880\",\"#FF97FF\",\"#FECB52\"],\"font\":{\"color\":\"#2a3f5f\"},\"hovermode\":\"closest\",\"hoverlabel\":{\"align\":\"left\"},\"paper_bgcolor\":\"white\",\"plot_bgcolor\":\"#E5ECF6\",\"polar\":{\"bgcolor\":\"#E5ECF6\",\"angularaxis\":{\"gridcolor\":\"white\",\"linecolor\":\"white\",\"ticks\":\"\"},\"radialaxis\":{\"gridcolor\":\"white\",\"linecolor\":\"white\",\"ticks\":\"\"}},\"ternary\":{\"bgcolor\":\"#E5ECF6\",\"aaxis\":{\"gridcolor\":\"white\",\"linecolor\":\"white\",\"ticks\":\"\"},\"baxis\":{\"gridcolor\":\"white\",\"linecolor\":\"white\",\"ticks\":\"\"},\"caxis\":{\"gridcolor\":\"white\",\"linecolor\":\"white\",\"ticks\":\"\"}},\"coloraxis\":{\"colorbar\":{\"outlinewidth\":0,\"ticks\":\"\"}},\"colorscale\":{\"sequential\":[[0.0,\"#0d0887\"],[0.1111111111111111,\"#46039f\"],[0.2222222222222222,\"#7201a8\"],[0.3333333333333333,\"#9c179e\"],[0.4444444444444444,\"#bd3786\"],[0.5555555555555556,\"#d8576b\"],[0.6666666666666666,\"#ed7953\"],[0.7777777777777778,\"#fb9f3a\"],[0.8888888888888888,\"#fdca26\"],[1.0,\"#f0f921\"]],\"sequentialminus\":[[0.0,\"#0d0887\"],[0.1111111111111111,\"#46039f\"],[0.2222222222222222,\"#7201a8\"],[0.3333333333333333,\"#9c179e\"],[0.4444444444444444,\"#bd3786\"],[0.5555555555555556,\"#d8576b\"],[0.6666666666666666,\"#ed7953\"],[0.7777777777777778,\"#fb9f3a\"],[0.8888888888888888,\"#fdca26\"],[1.0,\"#f0f921\"]],\"diverging\":[[0,\"#8e0152\"],[0.1,\"#c51b7d\"],[0.2,\"#de77ae\"],[0.3,\"#f1b6da\"],[0.4,\"#fde0ef\"],[0.5,\"#f7f7f7\"],[0.6,\"#e6f5d0\"],[0.7,\"#b8e186\"],[0.8,\"#7fbc41\"],[0.9,\"#4d9221\"],[1,\"#276419\"]]},\"xaxis\":{\"gridcolor\":\"white\",\"linecolor\":\"white\",\"ticks\":\"\",\"title\":{\"standoff\":15},\"zerolinecolor\":\"white\",\"automargin\":true,\"zerolinewidth\":2},\"yaxis\":{\"gridcolor\":\"white\",\"linecolor\":\"white\",\"ticks\":\"\",\"title\":{\"standoff\":15},\"zerolinecolor\":\"white\",\"automargin\":true,\"zerolinewidth\":2},\"scene\":{\"xaxis\":{\"backgroundcolor\":\"#E5ECF6\",\"gridcolor\":\"white\",\"linecolor\":\"white\",\"showbackground\":true,\"ticks\":\"\",\"zerolinecolor\":\"white\",\"gridwidth\":2},\"yaxis\":{\"backgroundcolor\":\"#E5ECF6\",\"gridcolor\":\"white\",\"linecolor\":\"white\",\"showbackground\":true,\"ticks\":\"\",\"zerolinecolor\":\"white\",\"gridwidth\":2},\"zaxis\":{\"backgroundcolor\":\"#E5ECF6\",\"gridcolor\":\"white\",\"linecolor\":\"white\",\"showbackground\":true,\"ticks\":\"\",\"zerolinecolor\":\"white\",\"gridwidth\":2}},\"shapedefaults\":{\"line\":{\"color\":\"#2a3f5f\"}},\"annotationdefaults\":{\"arrowcolor\":\"#2a3f5f\",\"arrowhead\":0,\"arrowwidth\":1},\"geo\":{\"bgcolor\":\"white\",\"landcolor\":\"#E5ECF6\",\"subunitcolor\":\"white\",\"showland\":true,\"showlakes\":true,\"lakecolor\":\"white\"},\"title\":{\"x\":0.05},\"mapbox\":{\"style\":\"light\"}}},\"legend\":{\"title\":{\"text\":\"Cluster\"},\"tracegroupgap\":0},\"margin\":{\"t\":60},\"dragmode\":\"select\",\"font\":{\"family\":\"Courier New, monospace\",\"size\":10,\"color\":\"black\"},\"paper_bgcolor\":\"rgba(0,0,0,0)\",\"plot_bgcolor\":\"rgba(245, 245, 245, 1)\",\"showlegend\":true,\"xaxis\":{\"showgrid\":true,\"gridwidth\":0.5,\"gridcolor\":\"rgba(200, 200, 200, 0.5)\"},\"yaxis\":{\"showgrid\":true,\"gridwidth\":0.5,\"gridcolor\":\"rgba(200, 200, 200, 0.5)\"},\"width\":1000,\"height\":1000},                        {\"responsive\": true}                    ).then(function(){\n",
       "                            \n",
       "var gd = document.getElementById('4a8b051a-08b5-4ed5-b163-b4bc8cd15630');\n",
       "var x = new MutationObserver(function (mutations, observer) {{\n",
       "        var display = window.getComputedStyle(gd).display;\n",
       "        if (!display || display === 'none') {{\n",
       "            console.log([gd, 'removed!']);\n",
       "            Plotly.purge(gd);\n",
       "            observer.disconnect();\n",
       "        }}\n",
       "}});\n",
       "\n",
       "// Listen for the removal of the full notebook cells\n",
       "var notebookContainer = gd.closest('#notebook-container');\n",
       "if (notebookContainer) {{\n",
       "    x.observe(notebookContainer, {childList: true});\n",
       "}}\n",
       "\n",
       "// Listen for the clearing of the current output cell\n",
       "var outputEl = gd.closest('.output');\n",
       "if (outputEl) {{\n",
       "    x.observe(outputEl, {childList: true});\n",
       "}}\n",
       "\n",
       "                        })                };                });            </script>        </div>"
      ]
     },
     "metadata": {},
     "output_type": "display_data"
    }
   ],
   "source": [
    "graph_pair_plot_plotly(df=df_4, cluster_rankings=cluster_ranking_4,\n",
    "                       position=position, stats=stats, \n",
    "                       save_suffix=suffix, font_size=font_size, marker_size=marker_size,\n",
    "                       height=dim, width=dim\n",
    "                      )"
   ]
  },
  {
   "cell_type": "code",
   "execution_count": 40,
   "id": "4551730f",
   "metadata": {},
   "outputs": [
    {
     "name": "stdout",
     "output_type": "stream",
     "text": [
      "<div style='display: flex; justify-content: space-evenly;''>\n",
      "\t<div>\n",
      "\t\t<b>Cluster 0 ()</b>\n",
      "\t\t<ul class='bullet-list'>\n",
      "\t\t\t<li>Kirk Cousins</li>\n",
      "\t\t\t<li>Jared Goff</li>\n",
      "\t\t\t<li>Justin Herbert</li>\n",
      "\t\t\t<li>Tom Brady</li>\n",
      "\t\t\t<li>Aaron Rodgers</li>\n",
      "\t\t\t<li>Tua Tagovailoa</li>\n",
      "\t\t\t<li>Derek Carr</li>\n",
      "\t\t\t<li>Davis Mills</li>\n",
      "\t\t\t<li>Andy Dalton</li>\n",
      "\t\t\t<li>Mac Jones</li>\n",
      "\t\t\t<li>Jimmy Garoppolo</li>\n",
      "\t\t\t<li>Ryan Tannehill</li>\n",
      "\t\t</ul>\n",
      "\t</div>\n",
      "\n",
      "\t<div>\n",
      "\t\t<b>Cluster 1 ()</b>\n",
      "\t\t<ul class='bullet-list'>\n",
      "\t\t\t<li>Josh Allen</li>\n",
      "\t\t\t<li>Jalen Hurts</li>\n",
      "\t\t\t<li>Justin Fields</li>\n",
      "\t\t\t<li>Daniel Jones</li>\n",
      "\t\t\t<li>Lamar Jackson</li>\n",
      "\t\t\t<li>Kyler Murray</li>\n",
      "\t\t\t<li>Marcus Mariota</li>\n",
      "\t\t</ul>\n",
      "\t</div>\n",
      "\n",
      "\t<div>\n",
      "\t\t<b>Cluster 2 ()</b>\n",
      "\t\t<ul class='bullet-list'>\n",
      "\t\t\t<li>Patrick Mahomes</li>\n",
      "\t\t\t<li>Joe Burrow</li>\n",
      "\t\t\t<li>Geno Smith</li>\n",
      "\t\t\t<li>Trevor Lawrence</li>\n",
      "\t\t\t<li>Russell Wilson</li>\n",
      "\t\t\t<li>Dak Prescott</li>\n",
      "\t\t\t<li>Jacoby Brissett</li>\n",
      "\t\t\t<li>Kenny Pickett</li>\n",
      "\t\t</ul>\n",
      "\t</div>\n",
      "\n",
      "\t<div>\n",
      "\t\t<b>Cluster 3 ()</b>\n",
      "\t\t<ul class='bullet-list'>\n",
      "\t\t\t<li>Matt Ryan</li>\n",
      "\t\t\t<li>Baker Mayfield</li>\n",
      "\t\t\t<li>Taylor Heinicke</li>\n",
      "\t\t</ul>\n",
      "\t</div>\n",
      "</div>\n",
      "<p class='blog-p-tag'>\n",
      "\tTODO:\n",
      "\t<ul class='bullet-list'>\n",
      "\t\t<li><b>Cluster 0:</b> TODO</li>\n",
      "\t\t<li><b>Cluster 1:</b> TODO</li>\n",
      "\t\t<li><b>Cluster 2:</b> TODO</li>\n",
      "\t\t<li><b>Cluster 3:</b> TODO</li>\n",
      "\t</ul>\n",
      "</p>\n",
      "<p class=\"blog-p-tag\">\n",
      "    TODO\n",
      "</p>\n",
      "    \n"
     ]
    }
   ],
   "source": [
    "create_cluster_html_tiers(df_4)"
   ]
  },
  {
   "cell_type": "markdown",
   "id": "65a64fe1",
   "metadata": {},
   "source": [
    "### 5 Clusters"
   ]
  },
  {
   "cell_type": "code",
   "execution_count": 41,
   "id": "392087ec",
   "metadata": {},
   "outputs": [],
   "source": [
    "df_5 = create_cluster_df(labels=labels_5, X=X, stats=stats)"
   ]
  },
  {
   "cell_type": "code",
   "execution_count": 42,
   "id": "03126df8",
   "metadata": {},
   "outputs": [
    {
     "data": {
      "application/vnd.plotly.v1+json": {
       "config": {
        "plotlyServerURL": "https://plot.ly"
       },
       "data": [
        {
         "diagonal": {
          "visible": false
         },
         "dimensions": [
          {
           "axis": {
            "matches": true
           },
           "label": "Rushing Yards Per Game",
           "values": [
            21.058823529411764,
            16.0625,
            21.529411764705884,
            17.11764705882353,
            18.466666666666665,
            15.166666666666666,
            15.1875,
            18.23076923076923
           ]
          },
          {
           "axis": {
            "matches": true
           },
           "label": "Carries Per Game",
           "values": [
            3.588235294117647,
            4.6875,
            4,
            3.6470588235294117,
            3.6666666666666665,
            3.75,
            3.0625,
            4.230769230769231
           ]
          },
          {
           "axis": {
            "matches": true
           },
           "label": "Yards Per Carry",
           "values": [
            5.87,
            3.43,
            5.38,
            4.69,
            5.04,
            4.04,
            4.96,
            4.31
           ]
          },
          {
           "axis": {
            "matches": true
           },
           "label": "Rushing Touchdowns Per Game",
           "values": [
            0.23529411764705882,
            0.3125,
            0.058823529411764705,
            0.29411764705882354,
            0.2,
            0.08333333333333333,
            0.125,
            0.23076923076923078
           ]
          },
          {
           "axis": {
            "matches": true
           },
           "label": "Fumbles Per Game",
           "values": [
            0.29411764705882354,
            0.375,
            0.47058823529411764,
            0.7058823529411765,
            0.4,
            0.3333333333333333,
            0.375,
            0.3076923076923077
           ]
          }
         ],
         "hovertemplate": "<b>%{hovertext}</b><br><br>Cluster=4<br>%{xaxis.title.text}=%{x}<br>%{yaxis.title.text}=%{y}<extra></extra>",
         "hovertext": [
          "Patrick Mahomes",
          "Joe Burrow",
          "Geno Smith",
          "Trevor Lawrence",
          "Russell Wilson",
          "Dak Prescott",
          "Jacoby Brissett",
          "Kenny Pickett"
         ],
         "legendgroup": "4",
         "marker": {
          "color": "#636efa",
          "size": 6,
          "symbol": "circle"
         },
         "name": "4",
         "showlegend": true,
         "type": "splom"
        },
        {
         "diagonal": {
          "visible": false
         },
         "dimensions": [
          {
           "axis": {
            "matches": true
           },
           "label": "Rushing Yards Per Game",
           "values": [
            47.625,
            44.25,
            63.666666666666664,
            38,
            33.69230769230769
           ]
          },
          {
           "axis": {
            "matches": true
           },
           "label": "Carries Per Game",
           "values": [
            7.75,
            7.5,
            9.333333333333334,
            6.090909090909091,
            6.538461538461538
           ]
          },
          {
           "axis": {
            "matches": true
           },
           "label": "Yards Per Carry",
           "values": [
            6.15,
            5.9,
            6.82,
            6.24,
            5.15
           ]
          },
          {
           "axis": {
            "matches": true
           },
           "label": "Rushing Touchdowns Per Game",
           "values": [
            0.4375,
            0.4375,
            0.25,
            0.2727272727272727,
            0.3076923076923077
           ]
          },
          {
           "axis": {
            "matches": true
           },
           "label": "Fumbles Per Game",
           "values": [
            0.8125,
            0.375,
            0.4166666666666667,
            0.7272727272727273,
            0.6153846153846154
           ]
          }
         ],
         "hovertemplate": "<b>%{hovertext}</b><br><br>Cluster=0<br>%{xaxis.title.text}=%{x}<br>%{yaxis.title.text}=%{y}<extra></extra>",
         "hovertext": [
          "Josh Allen",
          "Daniel Jones",
          "Lamar Jackson",
          "Kyler Murray",
          "Marcus Mariota"
         ],
         "legendgroup": "0",
         "marker": {
          "color": "#EF553B",
          "size": 6,
          "symbol": "circle"
         },
         "name": "0",
         "showlegend": true,
         "type": "splom"
        },
        {
         "diagonal": {
          "visible": false
         },
         "dimensions": [
          {
           "axis": {
            "matches": true
           },
           "label": "Rushing Yards Per Game",
           "values": [
            50.666666666666664,
            76.2
           ]
          },
          {
           "axis": {
            "matches": true
           },
           "label": "Carries Per Game",
           "values": [
            11,
            10.666666666666666
           ]
          },
          {
           "axis": {
            "matches": true
           },
           "label": "Yards Per Carry",
           "values": [
            4.61,
            7.14
           ]
          },
          {
           "axis": {
            "matches": true
           },
           "label": "Rushing Touchdowns Per Game",
           "values": [
            0.8666666666666667,
            0.5333333333333333
           ]
          },
          {
           "axis": {
            "matches": true
           },
           "label": "Fumbles Per Game",
           "values": [
            0.6,
            1.0666666666666667
           ]
          }
         ],
         "hovertemplate": "<b>%{hovertext}</b><br><br>Cluster=3<br>%{xaxis.title.text}=%{x}<br>%{yaxis.title.text}=%{y}<extra></extra>",
         "hovertext": [
          "Jalen Hurts",
          "Justin Fields"
         ],
         "legendgroup": "3",
         "marker": {
          "color": "#00cc96",
          "size": 6,
          "symbol": "circle"
         },
         "name": "3",
         "showlegend": true,
         "type": "splom"
        },
        {
         "diagonal": {
          "visible": false
         },
         "dimensions": [
          {
           "axis": {
            "matches": true
           },
           "label": "Rushing Yards Per Game",
           "values": [
            5.705882352941177,
            4.294117647058823,
            8.647058823529411,
            -0.058823529411764705,
            5.529411764705882,
            5.384615384615385,
            6.8,
            7.2,
            3.857142857142857,
            7.285714285714286,
            3,
            8.166666666666666
           ]
          },
          {
           "axis": {
            "matches": true
           },
           "label": "Carries Per Game",
           "values": [
            1.8235294117647058,
            1.7058823529411764,
            3.176470588235294,
            1.7058823529411764,
            2,
            1.7692307692307692,
            1.6,
            2.1333333333333333,
            2.142857142857143,
            3.357142857142857,
            2.090909090909091,
            2.8333333333333335
           ]
          },
          {
           "axis": {
            "matches": true
           },
           "label": "Yards Per Carry",
           "values": [
            3.13,
            2.52,
            2.72,
            -0.03,
            2.76,
            3.04,
            4.25,
            3.38,
            1.8,
            2.17,
            1.43,
            2.88
           ]
          },
          {
           "axis": {
            "matches": true
           },
           "label": "Rushing Touchdowns Per Game",
           "values": [
            0.11764705882352941,
            0,
            0,
            0.058823529411764705,
            0.058823529411764705,
            0,
            0,
            0.13333333333333333,
            0,
            0.07142857142857142,
            0.18181818181818182,
            0.16666666666666666
           ]
          },
          {
           "axis": {
            "matches": true
           },
           "label": "Fumbles Per Game",
           "values": [
            0.4117647058823529,
            0.4117647058823529,
            0.47058823529411764,
            0.29411764705882354,
            0.47058823529411764,
            0.46153846153846156,
            0.26666666666666666,
            0.5333333333333333,
            0.35714285714285715,
            0.35714285714285715,
            0.2727272727272727,
            0.25
           ]
          }
         ],
         "hovertemplate": "<b>%{hovertext}</b><br><br>Cluster=1<br>%{xaxis.title.text}=%{x}<br>%{yaxis.title.text}=%{y}<extra></extra>",
         "hovertext": [
          "Kirk Cousins",
          "Jared Goff",
          "Justin Herbert",
          "Tom Brady",
          "Aaron Rodgers",
          "Tua Tagovailoa",
          "Derek Carr",
          "Davis Mills",
          "Andy Dalton",
          "Mac Jones",
          "Jimmy Garoppolo",
          "Ryan Tannehill"
         ],
         "legendgroup": "1",
         "marker": {
          "color": "#ab63fa",
          "size": 6,
          "symbol": "circle"
         },
         "name": "1",
         "showlegend": true,
         "type": "splom"
        },
        {
         "diagonal": {
          "visible": false
         },
         "dimensions": [
          {
           "axis": {
            "matches": true
           },
           "label": "Rushing Yards Per Game",
           "values": [
            5.833333333333333,
            7.416666666666667,
            10.666666666666666
           ]
          },
          {
           "axis": {
            "matches": true
           },
           "label": "Carries Per Game",
           "values": [
            2.25,
            2.5833333333333335,
            3.111111111111111
           ]
          },
          {
           "axis": {
            "matches": true
           },
           "label": "Yards Per Carry",
           "values": [
            2.59,
            2.87,
            3.43
           ]
          },
          {
           "axis": {
            "matches": true
           },
           "label": "Rushing Touchdowns Per Game",
           "values": [
            0.08333333333333333,
            0.08333333333333333,
            0.1111111111111111
           ]
          },
          {
           "axis": {
            "matches": true
           },
           "label": "Fumbles Per Game",
           "values": [
            1.25,
            0.75,
            0.7777777777777778
           ]
          }
         ],
         "hovertemplate": "<b>%{hovertext}</b><br><br>Cluster=2<br>%{xaxis.title.text}=%{x}<br>%{yaxis.title.text}=%{y}<extra></extra>",
         "hovertext": [
          "Matt Ryan",
          "Baker Mayfield",
          "Taylor Heinicke"
         ],
         "legendgroup": "2",
         "marker": {
          "color": "#FFA15A",
          "size": 6,
          "symbol": "circle"
         },
         "name": "2",
         "showlegend": true,
         "type": "splom"
        }
       ],
       "layout": {
        "dragmode": "select",
        "font": {
         "color": "black",
         "family": "Courier New, monospace",
         "size": 10
        },
        "height": 1000,
        "legend": {
         "title": {
          "text": "Cluster"
         },
         "tracegroupgap": 0
        },
        "margin": {
         "t": 60
        },
        "paper_bgcolor": "rgba(0,0,0,0)",
        "plot_bgcolor": "rgba(245, 245, 245, 1)",
        "showlegend": true,
        "template": {
         "data": {
          "bar": [
           {
            "error_x": {
             "color": "#2a3f5f"
            },
            "error_y": {
             "color": "#2a3f5f"
            },
            "marker": {
             "line": {
              "color": "#E5ECF6",
              "width": 0.5
             },
             "pattern": {
              "fillmode": "overlay",
              "size": 10,
              "solidity": 0.2
             }
            },
            "type": "bar"
           }
          ],
          "barpolar": [
           {
            "marker": {
             "line": {
              "color": "#E5ECF6",
              "width": 0.5
             },
             "pattern": {
              "fillmode": "overlay",
              "size": 10,
              "solidity": 0.2
             }
            },
            "type": "barpolar"
           }
          ],
          "carpet": [
           {
            "aaxis": {
             "endlinecolor": "#2a3f5f",
             "gridcolor": "white",
             "linecolor": "white",
             "minorgridcolor": "white",
             "startlinecolor": "#2a3f5f"
            },
            "baxis": {
             "endlinecolor": "#2a3f5f",
             "gridcolor": "white",
             "linecolor": "white",
             "minorgridcolor": "white",
             "startlinecolor": "#2a3f5f"
            },
            "type": "carpet"
           }
          ],
          "choropleth": [
           {
            "colorbar": {
             "outlinewidth": 0,
             "ticks": ""
            },
            "type": "choropleth"
           }
          ],
          "contour": [
           {
            "colorbar": {
             "outlinewidth": 0,
             "ticks": ""
            },
            "colorscale": [
             [
              0,
              "#0d0887"
             ],
             [
              0.1111111111111111,
              "#46039f"
             ],
             [
              0.2222222222222222,
              "#7201a8"
             ],
             [
              0.3333333333333333,
              "#9c179e"
             ],
             [
              0.4444444444444444,
              "#bd3786"
             ],
             [
              0.5555555555555556,
              "#d8576b"
             ],
             [
              0.6666666666666666,
              "#ed7953"
             ],
             [
              0.7777777777777778,
              "#fb9f3a"
             ],
             [
              0.8888888888888888,
              "#fdca26"
             ],
             [
              1,
              "#f0f921"
             ]
            ],
            "type": "contour"
           }
          ],
          "contourcarpet": [
           {
            "colorbar": {
             "outlinewidth": 0,
             "ticks": ""
            },
            "type": "contourcarpet"
           }
          ],
          "heatmap": [
           {
            "colorbar": {
             "outlinewidth": 0,
             "ticks": ""
            },
            "colorscale": [
             [
              0,
              "#0d0887"
             ],
             [
              0.1111111111111111,
              "#46039f"
             ],
             [
              0.2222222222222222,
              "#7201a8"
             ],
             [
              0.3333333333333333,
              "#9c179e"
             ],
             [
              0.4444444444444444,
              "#bd3786"
             ],
             [
              0.5555555555555556,
              "#d8576b"
             ],
             [
              0.6666666666666666,
              "#ed7953"
             ],
             [
              0.7777777777777778,
              "#fb9f3a"
             ],
             [
              0.8888888888888888,
              "#fdca26"
             ],
             [
              1,
              "#f0f921"
             ]
            ],
            "type": "heatmap"
           }
          ],
          "heatmapgl": [
           {
            "colorbar": {
             "outlinewidth": 0,
             "ticks": ""
            },
            "colorscale": [
             [
              0,
              "#0d0887"
             ],
             [
              0.1111111111111111,
              "#46039f"
             ],
             [
              0.2222222222222222,
              "#7201a8"
             ],
             [
              0.3333333333333333,
              "#9c179e"
             ],
             [
              0.4444444444444444,
              "#bd3786"
             ],
             [
              0.5555555555555556,
              "#d8576b"
             ],
             [
              0.6666666666666666,
              "#ed7953"
             ],
             [
              0.7777777777777778,
              "#fb9f3a"
             ],
             [
              0.8888888888888888,
              "#fdca26"
             ],
             [
              1,
              "#f0f921"
             ]
            ],
            "type": "heatmapgl"
           }
          ],
          "histogram": [
           {
            "marker": {
             "pattern": {
              "fillmode": "overlay",
              "size": 10,
              "solidity": 0.2
             }
            },
            "type": "histogram"
           }
          ],
          "histogram2d": [
           {
            "colorbar": {
             "outlinewidth": 0,
             "ticks": ""
            },
            "colorscale": [
             [
              0,
              "#0d0887"
             ],
             [
              0.1111111111111111,
              "#46039f"
             ],
             [
              0.2222222222222222,
              "#7201a8"
             ],
             [
              0.3333333333333333,
              "#9c179e"
             ],
             [
              0.4444444444444444,
              "#bd3786"
             ],
             [
              0.5555555555555556,
              "#d8576b"
             ],
             [
              0.6666666666666666,
              "#ed7953"
             ],
             [
              0.7777777777777778,
              "#fb9f3a"
             ],
             [
              0.8888888888888888,
              "#fdca26"
             ],
             [
              1,
              "#f0f921"
             ]
            ],
            "type": "histogram2d"
           }
          ],
          "histogram2dcontour": [
           {
            "colorbar": {
             "outlinewidth": 0,
             "ticks": ""
            },
            "colorscale": [
             [
              0,
              "#0d0887"
             ],
             [
              0.1111111111111111,
              "#46039f"
             ],
             [
              0.2222222222222222,
              "#7201a8"
             ],
             [
              0.3333333333333333,
              "#9c179e"
             ],
             [
              0.4444444444444444,
              "#bd3786"
             ],
             [
              0.5555555555555556,
              "#d8576b"
             ],
             [
              0.6666666666666666,
              "#ed7953"
             ],
             [
              0.7777777777777778,
              "#fb9f3a"
             ],
             [
              0.8888888888888888,
              "#fdca26"
             ],
             [
              1,
              "#f0f921"
             ]
            ],
            "type": "histogram2dcontour"
           }
          ],
          "mesh3d": [
           {
            "colorbar": {
             "outlinewidth": 0,
             "ticks": ""
            },
            "type": "mesh3d"
           }
          ],
          "parcoords": [
           {
            "line": {
             "colorbar": {
              "outlinewidth": 0,
              "ticks": ""
             }
            },
            "type": "parcoords"
           }
          ],
          "pie": [
           {
            "automargin": true,
            "type": "pie"
           }
          ],
          "scatter": [
           {
            "fillpattern": {
             "fillmode": "overlay",
             "size": 10,
             "solidity": 0.2
            },
            "type": "scatter"
           }
          ],
          "scatter3d": [
           {
            "line": {
             "colorbar": {
              "outlinewidth": 0,
              "ticks": ""
             }
            },
            "marker": {
             "colorbar": {
              "outlinewidth": 0,
              "ticks": ""
             }
            },
            "type": "scatter3d"
           }
          ],
          "scattercarpet": [
           {
            "marker": {
             "colorbar": {
              "outlinewidth": 0,
              "ticks": ""
             }
            },
            "type": "scattercarpet"
           }
          ],
          "scattergeo": [
           {
            "marker": {
             "colorbar": {
              "outlinewidth": 0,
              "ticks": ""
             }
            },
            "type": "scattergeo"
           }
          ],
          "scattergl": [
           {
            "marker": {
             "colorbar": {
              "outlinewidth": 0,
              "ticks": ""
             }
            },
            "type": "scattergl"
           }
          ],
          "scattermapbox": [
           {
            "marker": {
             "colorbar": {
              "outlinewidth": 0,
              "ticks": ""
             }
            },
            "type": "scattermapbox"
           }
          ],
          "scatterpolar": [
           {
            "marker": {
             "colorbar": {
              "outlinewidth": 0,
              "ticks": ""
             }
            },
            "type": "scatterpolar"
           }
          ],
          "scatterpolargl": [
           {
            "marker": {
             "colorbar": {
              "outlinewidth": 0,
              "ticks": ""
             }
            },
            "type": "scatterpolargl"
           }
          ],
          "scatterternary": [
           {
            "marker": {
             "colorbar": {
              "outlinewidth": 0,
              "ticks": ""
             }
            },
            "type": "scatterternary"
           }
          ],
          "surface": [
           {
            "colorbar": {
             "outlinewidth": 0,
             "ticks": ""
            },
            "colorscale": [
             [
              0,
              "#0d0887"
             ],
             [
              0.1111111111111111,
              "#46039f"
             ],
             [
              0.2222222222222222,
              "#7201a8"
             ],
             [
              0.3333333333333333,
              "#9c179e"
             ],
             [
              0.4444444444444444,
              "#bd3786"
             ],
             [
              0.5555555555555556,
              "#d8576b"
             ],
             [
              0.6666666666666666,
              "#ed7953"
             ],
             [
              0.7777777777777778,
              "#fb9f3a"
             ],
             [
              0.8888888888888888,
              "#fdca26"
             ],
             [
              1,
              "#f0f921"
             ]
            ],
            "type": "surface"
           }
          ],
          "table": [
           {
            "cells": {
             "fill": {
              "color": "#EBF0F8"
             },
             "line": {
              "color": "white"
             }
            },
            "header": {
             "fill": {
              "color": "#C8D4E3"
             },
             "line": {
              "color": "white"
             }
            },
            "type": "table"
           }
          ]
         },
         "layout": {
          "annotationdefaults": {
           "arrowcolor": "#2a3f5f",
           "arrowhead": 0,
           "arrowwidth": 1
          },
          "autotypenumbers": "strict",
          "coloraxis": {
           "colorbar": {
            "outlinewidth": 0,
            "ticks": ""
           }
          },
          "colorscale": {
           "diverging": [
            [
             0,
             "#8e0152"
            ],
            [
             0.1,
             "#c51b7d"
            ],
            [
             0.2,
             "#de77ae"
            ],
            [
             0.3,
             "#f1b6da"
            ],
            [
             0.4,
             "#fde0ef"
            ],
            [
             0.5,
             "#f7f7f7"
            ],
            [
             0.6,
             "#e6f5d0"
            ],
            [
             0.7,
             "#b8e186"
            ],
            [
             0.8,
             "#7fbc41"
            ],
            [
             0.9,
             "#4d9221"
            ],
            [
             1,
             "#276419"
            ]
           ],
           "sequential": [
            [
             0,
             "#0d0887"
            ],
            [
             0.1111111111111111,
             "#46039f"
            ],
            [
             0.2222222222222222,
             "#7201a8"
            ],
            [
             0.3333333333333333,
             "#9c179e"
            ],
            [
             0.4444444444444444,
             "#bd3786"
            ],
            [
             0.5555555555555556,
             "#d8576b"
            ],
            [
             0.6666666666666666,
             "#ed7953"
            ],
            [
             0.7777777777777778,
             "#fb9f3a"
            ],
            [
             0.8888888888888888,
             "#fdca26"
            ],
            [
             1,
             "#f0f921"
            ]
           ],
           "sequentialminus": [
            [
             0,
             "#0d0887"
            ],
            [
             0.1111111111111111,
             "#46039f"
            ],
            [
             0.2222222222222222,
             "#7201a8"
            ],
            [
             0.3333333333333333,
             "#9c179e"
            ],
            [
             0.4444444444444444,
             "#bd3786"
            ],
            [
             0.5555555555555556,
             "#d8576b"
            ],
            [
             0.6666666666666666,
             "#ed7953"
            ],
            [
             0.7777777777777778,
             "#fb9f3a"
            ],
            [
             0.8888888888888888,
             "#fdca26"
            ],
            [
             1,
             "#f0f921"
            ]
           ]
          },
          "colorway": [
           "#636efa",
           "#EF553B",
           "#00cc96",
           "#ab63fa",
           "#FFA15A",
           "#19d3f3",
           "#FF6692",
           "#B6E880",
           "#FF97FF",
           "#FECB52"
          ],
          "font": {
           "color": "#2a3f5f"
          },
          "geo": {
           "bgcolor": "white",
           "lakecolor": "white",
           "landcolor": "#E5ECF6",
           "showlakes": true,
           "showland": true,
           "subunitcolor": "white"
          },
          "hoverlabel": {
           "align": "left"
          },
          "hovermode": "closest",
          "mapbox": {
           "style": "light"
          },
          "paper_bgcolor": "white",
          "plot_bgcolor": "#E5ECF6",
          "polar": {
           "angularaxis": {
            "gridcolor": "white",
            "linecolor": "white",
            "ticks": ""
           },
           "bgcolor": "#E5ECF6",
           "radialaxis": {
            "gridcolor": "white",
            "linecolor": "white",
            "ticks": ""
           }
          },
          "scene": {
           "xaxis": {
            "backgroundcolor": "#E5ECF6",
            "gridcolor": "white",
            "gridwidth": 2,
            "linecolor": "white",
            "showbackground": true,
            "ticks": "",
            "zerolinecolor": "white"
           },
           "yaxis": {
            "backgroundcolor": "#E5ECF6",
            "gridcolor": "white",
            "gridwidth": 2,
            "linecolor": "white",
            "showbackground": true,
            "ticks": "",
            "zerolinecolor": "white"
           },
           "zaxis": {
            "backgroundcolor": "#E5ECF6",
            "gridcolor": "white",
            "gridwidth": 2,
            "linecolor": "white",
            "showbackground": true,
            "ticks": "",
            "zerolinecolor": "white"
           }
          },
          "shapedefaults": {
           "line": {
            "color": "#2a3f5f"
           }
          },
          "ternary": {
           "aaxis": {
            "gridcolor": "white",
            "linecolor": "white",
            "ticks": ""
           },
           "baxis": {
            "gridcolor": "white",
            "linecolor": "white",
            "ticks": ""
           },
           "bgcolor": "#E5ECF6",
           "caxis": {
            "gridcolor": "white",
            "linecolor": "white",
            "ticks": ""
           }
          },
          "title": {
           "x": 0.05
          },
          "xaxis": {
           "automargin": true,
           "gridcolor": "white",
           "linecolor": "white",
           "ticks": "",
           "title": {
            "standoff": 15
           },
           "zerolinecolor": "white",
           "zerolinewidth": 2
          },
          "yaxis": {
           "automargin": true,
           "gridcolor": "white",
           "linecolor": "white",
           "ticks": "",
           "title": {
            "standoff": 15
           },
           "zerolinecolor": "white",
           "zerolinewidth": 2
          }
         }
        },
        "width": 1000,
        "xaxis": {
         "gridcolor": "rgba(200, 200, 200, 0.5)",
         "gridwidth": 0.5,
         "showgrid": true
        },
        "yaxis": {
         "gridcolor": "rgba(200, 200, 200, 0.5)",
         "gridwidth": 0.5,
         "showgrid": true
        }
       }
      },
      "text/html": [
       "<div>                            <div id=\"94454762-1f27-4cc2-8a09-603fd81f97df\" class=\"plotly-graph-div\" style=\"height:1000px; width:1000px;\"></div>            <script type=\"text/javascript\">                require([\"plotly\"], function(Plotly) {                    window.PLOTLYENV=window.PLOTLYENV || {};                                    if (document.getElementById(\"94454762-1f27-4cc2-8a09-603fd81f97df\")) {                    Plotly.newPlot(                        \"94454762-1f27-4cc2-8a09-603fd81f97df\",                        [{\"dimensions\":[{\"axis\":{\"matches\":true},\"label\":\"Rushing Yards Per Game\",\"values\":[21.058823529411764,16.0625,21.529411764705884,17.11764705882353,18.466666666666665,15.166666666666666,15.1875,18.23076923076923]},{\"axis\":{\"matches\":true},\"label\":\"Carries Per Game\",\"values\":[3.588235294117647,4.6875,4.0,3.6470588235294117,3.6666666666666665,3.75,3.0625,4.230769230769231]},{\"axis\":{\"matches\":true},\"label\":\"Yards Per Carry\",\"values\":[5.87,3.43,5.38,4.69,5.04,4.04,4.96,4.31]},{\"axis\":{\"matches\":true},\"label\":\"Rushing Touchdowns Per Game\",\"values\":[0.23529411764705882,0.3125,0.058823529411764705,0.29411764705882354,0.2,0.08333333333333333,0.125,0.23076923076923078]},{\"axis\":{\"matches\":true},\"label\":\"Fumbles Per Game\",\"values\":[0.29411764705882354,0.375,0.47058823529411764,0.7058823529411765,0.4,0.3333333333333333,0.375,0.3076923076923077]}],\"hovertemplate\":\"\\u003cb\\u003e%{hovertext}\\u003c\\u002fb\\u003e\\u003cbr\\u003e\\u003cbr\\u003eCluster=4\\u003cbr\\u003e%{xaxis.title.text}=%{x}\\u003cbr\\u003e%{yaxis.title.text}=%{y}\\u003cextra\\u003e\\u003c\\u002fextra\\u003e\",\"hovertext\":[\"Patrick Mahomes\",\"Joe Burrow\",\"Geno Smith\",\"Trevor Lawrence\",\"Russell Wilson\",\"Dak Prescott\",\"Jacoby Brissett\",\"Kenny Pickett\"],\"legendgroup\":\"4\",\"marker\":{\"color\":\"#636efa\",\"symbol\":\"circle\",\"size\":6},\"name\":\"4\",\"showlegend\":true,\"type\":\"splom\",\"diagonal\":{\"visible\":false}},{\"dimensions\":[{\"axis\":{\"matches\":true},\"label\":\"Rushing Yards Per Game\",\"values\":[47.625,44.25,63.666666666666664,38.0,33.69230769230769]},{\"axis\":{\"matches\":true},\"label\":\"Carries Per Game\",\"values\":[7.75,7.5,9.333333333333334,6.090909090909091,6.538461538461538]},{\"axis\":{\"matches\":true},\"label\":\"Yards Per Carry\",\"values\":[6.15,5.9,6.82,6.24,5.15]},{\"axis\":{\"matches\":true},\"label\":\"Rushing Touchdowns Per Game\",\"values\":[0.4375,0.4375,0.25,0.2727272727272727,0.3076923076923077]},{\"axis\":{\"matches\":true},\"label\":\"Fumbles Per Game\",\"values\":[0.8125,0.375,0.4166666666666667,0.7272727272727273,0.6153846153846154]}],\"hovertemplate\":\"\\u003cb\\u003e%{hovertext}\\u003c\\u002fb\\u003e\\u003cbr\\u003e\\u003cbr\\u003eCluster=0\\u003cbr\\u003e%{xaxis.title.text}=%{x}\\u003cbr\\u003e%{yaxis.title.text}=%{y}\\u003cextra\\u003e\\u003c\\u002fextra\\u003e\",\"hovertext\":[\"Josh Allen\",\"Daniel Jones\",\"Lamar Jackson\",\"Kyler Murray\",\"Marcus Mariota\"],\"legendgroup\":\"0\",\"marker\":{\"color\":\"#EF553B\",\"symbol\":\"circle\",\"size\":6},\"name\":\"0\",\"showlegend\":true,\"type\":\"splom\",\"diagonal\":{\"visible\":false}},{\"dimensions\":[{\"axis\":{\"matches\":true},\"label\":\"Rushing Yards Per Game\",\"values\":[50.666666666666664,76.2]},{\"axis\":{\"matches\":true},\"label\":\"Carries Per Game\",\"values\":[11.0,10.666666666666666]},{\"axis\":{\"matches\":true},\"label\":\"Yards Per Carry\",\"values\":[4.61,7.14]},{\"axis\":{\"matches\":true},\"label\":\"Rushing Touchdowns Per Game\",\"values\":[0.8666666666666667,0.5333333333333333]},{\"axis\":{\"matches\":true},\"label\":\"Fumbles Per Game\",\"values\":[0.6,1.0666666666666667]}],\"hovertemplate\":\"\\u003cb\\u003e%{hovertext}\\u003c\\u002fb\\u003e\\u003cbr\\u003e\\u003cbr\\u003eCluster=3\\u003cbr\\u003e%{xaxis.title.text}=%{x}\\u003cbr\\u003e%{yaxis.title.text}=%{y}\\u003cextra\\u003e\\u003c\\u002fextra\\u003e\",\"hovertext\":[\"Jalen Hurts\",\"Justin Fields\"],\"legendgroup\":\"3\",\"marker\":{\"color\":\"#00cc96\",\"symbol\":\"circle\",\"size\":6},\"name\":\"3\",\"showlegend\":true,\"type\":\"splom\",\"diagonal\":{\"visible\":false}},{\"dimensions\":[{\"axis\":{\"matches\":true},\"label\":\"Rushing Yards Per Game\",\"values\":[5.705882352941177,4.294117647058823,8.647058823529411,-0.058823529411764705,5.529411764705882,5.384615384615385,6.8,7.2,3.857142857142857,7.285714285714286,3.0,8.166666666666666]},{\"axis\":{\"matches\":true},\"label\":\"Carries Per Game\",\"values\":[1.8235294117647058,1.7058823529411764,3.176470588235294,1.7058823529411764,2.0,1.7692307692307692,1.6,2.1333333333333333,2.142857142857143,3.357142857142857,2.090909090909091,2.8333333333333335]},{\"axis\":{\"matches\":true},\"label\":\"Yards Per Carry\",\"values\":[3.13,2.52,2.72,-0.03,2.76,3.04,4.25,3.38,1.8,2.17,1.43,2.88]},{\"axis\":{\"matches\":true},\"label\":\"Rushing Touchdowns Per Game\",\"values\":[0.11764705882352941,0.0,0.0,0.058823529411764705,0.058823529411764705,0.0,0.0,0.13333333333333333,0.0,0.07142857142857142,0.18181818181818182,0.16666666666666666]},{\"axis\":{\"matches\":true},\"label\":\"Fumbles Per Game\",\"values\":[0.4117647058823529,0.4117647058823529,0.47058823529411764,0.29411764705882354,0.47058823529411764,0.46153846153846156,0.26666666666666666,0.5333333333333333,0.35714285714285715,0.35714285714285715,0.2727272727272727,0.25]}],\"hovertemplate\":\"\\u003cb\\u003e%{hovertext}\\u003c\\u002fb\\u003e\\u003cbr\\u003e\\u003cbr\\u003eCluster=1\\u003cbr\\u003e%{xaxis.title.text}=%{x}\\u003cbr\\u003e%{yaxis.title.text}=%{y}\\u003cextra\\u003e\\u003c\\u002fextra\\u003e\",\"hovertext\":[\"Kirk Cousins\",\"Jared Goff\",\"Justin Herbert\",\"Tom Brady\",\"Aaron Rodgers\",\"Tua Tagovailoa\",\"Derek Carr\",\"Davis Mills\",\"Andy Dalton\",\"Mac Jones\",\"Jimmy Garoppolo\",\"Ryan Tannehill\"],\"legendgroup\":\"1\",\"marker\":{\"color\":\"#ab63fa\",\"symbol\":\"circle\",\"size\":6},\"name\":\"1\",\"showlegend\":true,\"type\":\"splom\",\"diagonal\":{\"visible\":false}},{\"dimensions\":[{\"axis\":{\"matches\":true},\"label\":\"Rushing Yards Per Game\",\"values\":[5.833333333333333,7.416666666666667,10.666666666666666]},{\"axis\":{\"matches\":true},\"label\":\"Carries Per Game\",\"values\":[2.25,2.5833333333333335,3.111111111111111]},{\"axis\":{\"matches\":true},\"label\":\"Yards Per Carry\",\"values\":[2.59,2.87,3.43]},{\"axis\":{\"matches\":true},\"label\":\"Rushing Touchdowns Per Game\",\"values\":[0.08333333333333333,0.08333333333333333,0.1111111111111111]},{\"axis\":{\"matches\":true},\"label\":\"Fumbles Per Game\",\"values\":[1.25,0.75,0.7777777777777778]}],\"hovertemplate\":\"\\u003cb\\u003e%{hovertext}\\u003c\\u002fb\\u003e\\u003cbr\\u003e\\u003cbr\\u003eCluster=2\\u003cbr\\u003e%{xaxis.title.text}=%{x}\\u003cbr\\u003e%{yaxis.title.text}=%{y}\\u003cextra\\u003e\\u003c\\u002fextra\\u003e\",\"hovertext\":[\"Matt Ryan\",\"Baker Mayfield\",\"Taylor Heinicke\"],\"legendgroup\":\"2\",\"marker\":{\"color\":\"#FFA15A\",\"symbol\":\"circle\",\"size\":6},\"name\":\"2\",\"showlegend\":true,\"type\":\"splom\",\"diagonal\":{\"visible\":false}}],                        {\"template\":{\"data\":{\"histogram2dcontour\":[{\"type\":\"histogram2dcontour\",\"colorbar\":{\"outlinewidth\":0,\"ticks\":\"\"},\"colorscale\":[[0.0,\"#0d0887\"],[0.1111111111111111,\"#46039f\"],[0.2222222222222222,\"#7201a8\"],[0.3333333333333333,\"#9c179e\"],[0.4444444444444444,\"#bd3786\"],[0.5555555555555556,\"#d8576b\"],[0.6666666666666666,\"#ed7953\"],[0.7777777777777778,\"#fb9f3a\"],[0.8888888888888888,\"#fdca26\"],[1.0,\"#f0f921\"]]}],\"choropleth\":[{\"type\":\"choropleth\",\"colorbar\":{\"outlinewidth\":0,\"ticks\":\"\"}}],\"histogram2d\":[{\"type\":\"histogram2d\",\"colorbar\":{\"outlinewidth\":0,\"ticks\":\"\"},\"colorscale\":[[0.0,\"#0d0887\"],[0.1111111111111111,\"#46039f\"],[0.2222222222222222,\"#7201a8\"],[0.3333333333333333,\"#9c179e\"],[0.4444444444444444,\"#bd3786\"],[0.5555555555555556,\"#d8576b\"],[0.6666666666666666,\"#ed7953\"],[0.7777777777777778,\"#fb9f3a\"],[0.8888888888888888,\"#fdca26\"],[1.0,\"#f0f921\"]]}],\"heatmap\":[{\"type\":\"heatmap\",\"colorbar\":{\"outlinewidth\":0,\"ticks\":\"\"},\"colorscale\":[[0.0,\"#0d0887\"],[0.1111111111111111,\"#46039f\"],[0.2222222222222222,\"#7201a8\"],[0.3333333333333333,\"#9c179e\"],[0.4444444444444444,\"#bd3786\"],[0.5555555555555556,\"#d8576b\"],[0.6666666666666666,\"#ed7953\"],[0.7777777777777778,\"#fb9f3a\"],[0.8888888888888888,\"#fdca26\"],[1.0,\"#f0f921\"]]}],\"heatmapgl\":[{\"type\":\"heatmapgl\",\"colorbar\":{\"outlinewidth\":0,\"ticks\":\"\"},\"colorscale\":[[0.0,\"#0d0887\"],[0.1111111111111111,\"#46039f\"],[0.2222222222222222,\"#7201a8\"],[0.3333333333333333,\"#9c179e\"],[0.4444444444444444,\"#bd3786\"],[0.5555555555555556,\"#d8576b\"],[0.6666666666666666,\"#ed7953\"],[0.7777777777777778,\"#fb9f3a\"],[0.8888888888888888,\"#fdca26\"],[1.0,\"#f0f921\"]]}],\"contourcarpet\":[{\"type\":\"contourcarpet\",\"colorbar\":{\"outlinewidth\":0,\"ticks\":\"\"}}],\"contour\":[{\"type\":\"contour\",\"colorbar\":{\"outlinewidth\":0,\"ticks\":\"\"},\"colorscale\":[[0.0,\"#0d0887\"],[0.1111111111111111,\"#46039f\"],[0.2222222222222222,\"#7201a8\"],[0.3333333333333333,\"#9c179e\"],[0.4444444444444444,\"#bd3786\"],[0.5555555555555556,\"#d8576b\"],[0.6666666666666666,\"#ed7953\"],[0.7777777777777778,\"#fb9f3a\"],[0.8888888888888888,\"#fdca26\"],[1.0,\"#f0f921\"]]}],\"surface\":[{\"type\":\"surface\",\"colorbar\":{\"outlinewidth\":0,\"ticks\":\"\"},\"colorscale\":[[0.0,\"#0d0887\"],[0.1111111111111111,\"#46039f\"],[0.2222222222222222,\"#7201a8\"],[0.3333333333333333,\"#9c179e\"],[0.4444444444444444,\"#bd3786\"],[0.5555555555555556,\"#d8576b\"],[0.6666666666666666,\"#ed7953\"],[0.7777777777777778,\"#fb9f3a\"],[0.8888888888888888,\"#fdca26\"],[1.0,\"#f0f921\"]]}],\"mesh3d\":[{\"type\":\"mesh3d\",\"colorbar\":{\"outlinewidth\":0,\"ticks\":\"\"}}],\"scatter\":[{\"fillpattern\":{\"fillmode\":\"overlay\",\"size\":10,\"solidity\":0.2},\"type\":\"scatter\"}],\"parcoords\":[{\"type\":\"parcoords\",\"line\":{\"colorbar\":{\"outlinewidth\":0,\"ticks\":\"\"}}}],\"scatterpolargl\":[{\"type\":\"scatterpolargl\",\"marker\":{\"colorbar\":{\"outlinewidth\":0,\"ticks\":\"\"}}}],\"bar\":[{\"error_x\":{\"color\":\"#2a3f5f\"},\"error_y\":{\"color\":\"#2a3f5f\"},\"marker\":{\"line\":{\"color\":\"#E5ECF6\",\"width\":0.5},\"pattern\":{\"fillmode\":\"overlay\",\"size\":10,\"solidity\":0.2}},\"type\":\"bar\"}],\"scattergeo\":[{\"type\":\"scattergeo\",\"marker\":{\"colorbar\":{\"outlinewidth\":0,\"ticks\":\"\"}}}],\"scatterpolar\":[{\"type\":\"scatterpolar\",\"marker\":{\"colorbar\":{\"outlinewidth\":0,\"ticks\":\"\"}}}],\"histogram\":[{\"marker\":{\"pattern\":{\"fillmode\":\"overlay\",\"size\":10,\"solidity\":0.2}},\"type\":\"histogram\"}],\"scattergl\":[{\"type\":\"scattergl\",\"marker\":{\"colorbar\":{\"outlinewidth\":0,\"ticks\":\"\"}}}],\"scatter3d\":[{\"type\":\"scatter3d\",\"line\":{\"colorbar\":{\"outlinewidth\":0,\"ticks\":\"\"}},\"marker\":{\"colorbar\":{\"outlinewidth\":0,\"ticks\":\"\"}}}],\"scattermapbox\":[{\"type\":\"scattermapbox\",\"marker\":{\"colorbar\":{\"outlinewidth\":0,\"ticks\":\"\"}}}],\"scatterternary\":[{\"type\":\"scatterternary\",\"marker\":{\"colorbar\":{\"outlinewidth\":0,\"ticks\":\"\"}}}],\"scattercarpet\":[{\"type\":\"scattercarpet\",\"marker\":{\"colorbar\":{\"outlinewidth\":0,\"ticks\":\"\"}}}],\"carpet\":[{\"aaxis\":{\"endlinecolor\":\"#2a3f5f\",\"gridcolor\":\"white\",\"linecolor\":\"white\",\"minorgridcolor\":\"white\",\"startlinecolor\":\"#2a3f5f\"},\"baxis\":{\"endlinecolor\":\"#2a3f5f\",\"gridcolor\":\"white\",\"linecolor\":\"white\",\"minorgridcolor\":\"white\",\"startlinecolor\":\"#2a3f5f\"},\"type\":\"carpet\"}],\"table\":[{\"cells\":{\"fill\":{\"color\":\"#EBF0F8\"},\"line\":{\"color\":\"white\"}},\"header\":{\"fill\":{\"color\":\"#C8D4E3\"},\"line\":{\"color\":\"white\"}},\"type\":\"table\"}],\"barpolar\":[{\"marker\":{\"line\":{\"color\":\"#E5ECF6\",\"width\":0.5},\"pattern\":{\"fillmode\":\"overlay\",\"size\":10,\"solidity\":0.2}},\"type\":\"barpolar\"}],\"pie\":[{\"automargin\":true,\"type\":\"pie\"}]},\"layout\":{\"autotypenumbers\":\"strict\",\"colorway\":[\"#636efa\",\"#EF553B\",\"#00cc96\",\"#ab63fa\",\"#FFA15A\",\"#19d3f3\",\"#FF6692\",\"#B6E880\",\"#FF97FF\",\"#FECB52\"],\"font\":{\"color\":\"#2a3f5f\"},\"hovermode\":\"closest\",\"hoverlabel\":{\"align\":\"left\"},\"paper_bgcolor\":\"white\",\"plot_bgcolor\":\"#E5ECF6\",\"polar\":{\"bgcolor\":\"#E5ECF6\",\"angularaxis\":{\"gridcolor\":\"white\",\"linecolor\":\"white\",\"ticks\":\"\"},\"radialaxis\":{\"gridcolor\":\"white\",\"linecolor\":\"white\",\"ticks\":\"\"}},\"ternary\":{\"bgcolor\":\"#E5ECF6\",\"aaxis\":{\"gridcolor\":\"white\",\"linecolor\":\"white\",\"ticks\":\"\"},\"baxis\":{\"gridcolor\":\"white\",\"linecolor\":\"white\",\"ticks\":\"\"},\"caxis\":{\"gridcolor\":\"white\",\"linecolor\":\"white\",\"ticks\":\"\"}},\"coloraxis\":{\"colorbar\":{\"outlinewidth\":0,\"ticks\":\"\"}},\"colorscale\":{\"sequential\":[[0.0,\"#0d0887\"],[0.1111111111111111,\"#46039f\"],[0.2222222222222222,\"#7201a8\"],[0.3333333333333333,\"#9c179e\"],[0.4444444444444444,\"#bd3786\"],[0.5555555555555556,\"#d8576b\"],[0.6666666666666666,\"#ed7953\"],[0.7777777777777778,\"#fb9f3a\"],[0.8888888888888888,\"#fdca26\"],[1.0,\"#f0f921\"]],\"sequentialminus\":[[0.0,\"#0d0887\"],[0.1111111111111111,\"#46039f\"],[0.2222222222222222,\"#7201a8\"],[0.3333333333333333,\"#9c179e\"],[0.4444444444444444,\"#bd3786\"],[0.5555555555555556,\"#d8576b\"],[0.6666666666666666,\"#ed7953\"],[0.7777777777777778,\"#fb9f3a\"],[0.8888888888888888,\"#fdca26\"],[1.0,\"#f0f921\"]],\"diverging\":[[0,\"#8e0152\"],[0.1,\"#c51b7d\"],[0.2,\"#de77ae\"],[0.3,\"#f1b6da\"],[0.4,\"#fde0ef\"],[0.5,\"#f7f7f7\"],[0.6,\"#e6f5d0\"],[0.7,\"#b8e186\"],[0.8,\"#7fbc41\"],[0.9,\"#4d9221\"],[1,\"#276419\"]]},\"xaxis\":{\"gridcolor\":\"white\",\"linecolor\":\"white\",\"ticks\":\"\",\"title\":{\"standoff\":15},\"zerolinecolor\":\"white\",\"automargin\":true,\"zerolinewidth\":2},\"yaxis\":{\"gridcolor\":\"white\",\"linecolor\":\"white\",\"ticks\":\"\",\"title\":{\"standoff\":15},\"zerolinecolor\":\"white\",\"automargin\":true,\"zerolinewidth\":2},\"scene\":{\"xaxis\":{\"backgroundcolor\":\"#E5ECF6\",\"gridcolor\":\"white\",\"linecolor\":\"white\",\"showbackground\":true,\"ticks\":\"\",\"zerolinecolor\":\"white\",\"gridwidth\":2},\"yaxis\":{\"backgroundcolor\":\"#E5ECF6\",\"gridcolor\":\"white\",\"linecolor\":\"white\",\"showbackground\":true,\"ticks\":\"\",\"zerolinecolor\":\"white\",\"gridwidth\":2},\"zaxis\":{\"backgroundcolor\":\"#E5ECF6\",\"gridcolor\":\"white\",\"linecolor\":\"white\",\"showbackground\":true,\"ticks\":\"\",\"zerolinecolor\":\"white\",\"gridwidth\":2}},\"shapedefaults\":{\"line\":{\"color\":\"#2a3f5f\"}},\"annotationdefaults\":{\"arrowcolor\":\"#2a3f5f\",\"arrowhead\":0,\"arrowwidth\":1},\"geo\":{\"bgcolor\":\"white\",\"landcolor\":\"#E5ECF6\",\"subunitcolor\":\"white\",\"showland\":true,\"showlakes\":true,\"lakecolor\":\"white\"},\"title\":{\"x\":0.05},\"mapbox\":{\"style\":\"light\"}}},\"legend\":{\"title\":{\"text\":\"Cluster\"},\"tracegroupgap\":0},\"margin\":{\"t\":60},\"dragmode\":\"select\",\"font\":{\"family\":\"Courier New, monospace\",\"size\":10,\"color\":\"black\"},\"paper_bgcolor\":\"rgba(0,0,0,0)\",\"plot_bgcolor\":\"rgba(245, 245, 245, 1)\",\"showlegend\":true,\"xaxis\":{\"showgrid\":true,\"gridwidth\":0.5,\"gridcolor\":\"rgba(200, 200, 200, 0.5)\"},\"yaxis\":{\"showgrid\":true,\"gridwidth\":0.5,\"gridcolor\":\"rgba(200, 200, 200, 0.5)\"},\"width\":1000,\"height\":1000},                        {\"responsive\": true}                    ).then(function(){\n",
       "                            \n",
       "var gd = document.getElementById('94454762-1f27-4cc2-8a09-603fd81f97df');\n",
       "var x = new MutationObserver(function (mutations, observer) {{\n",
       "        var display = window.getComputedStyle(gd).display;\n",
       "        if (!display || display === 'none') {{\n",
       "            console.log([gd, 'removed!']);\n",
       "            Plotly.purge(gd);\n",
       "            observer.disconnect();\n",
       "        }}\n",
       "}});\n",
       "\n",
       "// Listen for the removal of the full notebook cells\n",
       "var notebookContainer = gd.closest('#notebook-container');\n",
       "if (notebookContainer) {{\n",
       "    x.observe(notebookContainer, {childList: true});\n",
       "}}\n",
       "\n",
       "// Listen for the clearing of the current output cell\n",
       "var outputEl = gd.closest('.output');\n",
       "if (outputEl) {{\n",
       "    x.observe(outputEl, {childList: true});\n",
       "}}\n",
       "\n",
       "                        })                };                });            </script>        </div>"
      ]
     },
     "metadata": {},
     "output_type": "display_data"
    }
   ],
   "source": [
    "graph_pair_plot_plotly(df=df_5, cluster_rankings=cluster_ranking_5,\n",
    "                       position=position, stats=stats, \n",
    "                       save_suffix=suffix, font_size=font_size, marker_size=marker_size,\n",
    "                       height=dim, width=dim\n",
    "                      )"
   ]
  },
  {
   "cell_type": "code",
   "execution_count": 43,
   "id": "4962bac7",
   "metadata": {},
   "outputs": [
    {
     "name": "stdout",
     "output_type": "stream",
     "text": [
      "<div style='display: flex; justify-content: space-evenly;''>\n",
      "\t<div>\n",
      "\t\t<b>Cluster 0 ()</b>\n",
      "\t\t<ul class='bullet-list'>\n",
      "\t\t\t<li>Josh Allen</li>\n",
      "\t\t\t<li>Daniel Jones</li>\n",
      "\t\t\t<li>Lamar Jackson</li>\n",
      "\t\t\t<li>Kyler Murray</li>\n",
      "\t\t\t<li>Marcus Mariota</li>\n",
      "\t\t</ul>\n",
      "\t</div>\n",
      "\n",
      "\t<div>\n",
      "\t\t<b>Cluster 1 ()</b>\n",
      "\t\t<ul class='bullet-list'>\n",
      "\t\t\t<li>Kirk Cousins</li>\n",
      "\t\t\t<li>Jared Goff</li>\n",
      "\t\t\t<li>Justin Herbert</li>\n",
      "\t\t\t<li>Tom Brady</li>\n",
      "\t\t\t<li>Aaron Rodgers</li>\n",
      "\t\t\t<li>Tua Tagovailoa</li>\n",
      "\t\t\t<li>Derek Carr</li>\n",
      "\t\t\t<li>Davis Mills</li>\n",
      "\t\t\t<li>Andy Dalton</li>\n",
      "\t\t\t<li>Mac Jones</li>\n",
      "\t\t\t<li>Jimmy Garoppolo</li>\n",
      "\t\t\t<li>Ryan Tannehill</li>\n",
      "\t\t</ul>\n",
      "\t</div>\n",
      "\n",
      "\t<div>\n",
      "\t\t<b>Cluster 2 ()</b>\n",
      "\t\t<ul class='bullet-list'>\n",
      "\t\t\t<li>Matt Ryan</li>\n",
      "\t\t\t<li>Baker Mayfield</li>\n",
      "\t\t\t<li>Taylor Heinicke</li>\n",
      "\t\t</ul>\n",
      "\t</div>\n",
      "\n",
      "\t<div>\n",
      "\t\t<b>Cluster 3 ()</b>\n",
      "\t\t<ul class='bullet-list'>\n",
      "\t\t\t<li>Jalen Hurts</li>\n",
      "\t\t\t<li>Justin Fields</li>\n",
      "\t\t</ul>\n",
      "\t</div>\n",
      "\n",
      "\t<div>\n",
      "\t\t<b>Cluster 4 ()</b>\n",
      "\t\t<ul class='bullet-list'>\n",
      "\t\t\t<li>Patrick Mahomes</li>\n",
      "\t\t\t<li>Joe Burrow</li>\n",
      "\t\t\t<li>Geno Smith</li>\n",
      "\t\t\t<li>Trevor Lawrence</li>\n",
      "\t\t\t<li>Russell Wilson</li>\n",
      "\t\t\t<li>Dak Prescott</li>\n",
      "\t\t\t<li>Jacoby Brissett</li>\n",
      "\t\t\t<li>Kenny Pickett</li>\n",
      "\t\t</ul>\n",
      "\t</div>\n",
      "</div>\n",
      "<p class='blog-p-tag'>\n",
      "\tTODO:\n",
      "\t<ul class='bullet-list'>\n",
      "\t\t<li><b>Cluster 0:</b> TODO</li>\n",
      "\t\t<li><b>Cluster 1:</b> TODO</li>\n",
      "\t\t<li><b>Cluster 2:</b> TODO</li>\n",
      "\t\t<li><b>Cluster 3:</b> TODO</li>\n",
      "\t\t<li><b>Cluster 4:</b> TODO</li>\n",
      "\t</ul>\n",
      "</p>\n",
      "<p class=\"blog-p-tag\">\n",
      "    TODO\n",
      "</p>\n",
      "    \n"
     ]
    }
   ],
   "source": [
    "create_cluster_html_tiers(df_5)"
   ]
  },
  {
   "cell_type": "markdown",
   "id": "d934accf",
   "metadata": {},
   "source": [
    "### 6 Clusters"
   ]
  },
  {
   "cell_type": "code",
   "execution_count": 44,
   "id": "49b1f6d4",
   "metadata": {},
   "outputs": [],
   "source": [
    "df_6 = create_cluster_df(labels=labels_6, X=X, stats=stats)"
   ]
  },
  {
   "cell_type": "code",
   "execution_count": 45,
   "id": "8d98b9be",
   "metadata": {},
   "outputs": [
    {
     "data": {
      "application/vnd.plotly.v1+json": {
       "config": {
        "plotlyServerURL": "https://plot.ly"
       },
       "data": [
        {
         "diagonal": {
          "visible": false
         },
         "dimensions": [
          {
           "axis": {
            "matches": true
           },
           "label": "Rushing Yards Per Game",
           "values": [
            21.058823529411764,
            16.0625,
            21.529411764705884,
            18.466666666666665,
            15.166666666666666,
            15.1875,
            18.23076923076923
           ]
          },
          {
           "axis": {
            "matches": true
           },
           "label": "Carries Per Game",
           "values": [
            3.588235294117647,
            4.6875,
            4,
            3.6666666666666665,
            3.75,
            3.0625,
            4.230769230769231
           ]
          },
          {
           "axis": {
            "matches": true
           },
           "label": "Yards Per Carry",
           "values": [
            5.87,
            3.43,
            5.38,
            5.04,
            4.04,
            4.96,
            4.31
           ]
          },
          {
           "axis": {
            "matches": true
           },
           "label": "Rushing Touchdowns Per Game",
           "values": [
            0.23529411764705882,
            0.3125,
            0.058823529411764705,
            0.2,
            0.08333333333333333,
            0.125,
            0.23076923076923078
           ]
          },
          {
           "axis": {
            "matches": true
           },
           "label": "Fumbles Per Game",
           "values": [
            0.29411764705882354,
            0.375,
            0.47058823529411764,
            0.4,
            0.3333333333333333,
            0.375,
            0.3076923076923077
           ]
          }
         ],
         "hovertemplate": "<b>%{hovertext}</b><br><br>Cluster=3<br>%{xaxis.title.text}=%{x}<br>%{yaxis.title.text}=%{y}<extra></extra>",
         "hovertext": [
          "Patrick Mahomes",
          "Joe Burrow",
          "Geno Smith",
          "Russell Wilson",
          "Dak Prescott",
          "Jacoby Brissett",
          "Kenny Pickett"
         ],
         "legendgroup": "3",
         "marker": {
          "color": "#636efa",
          "size": 6,
          "symbol": "circle"
         },
         "name": "3",
         "showlegend": true,
         "type": "splom"
        },
        {
         "diagonal": {
          "visible": false
         },
         "dimensions": [
          {
           "axis": {
            "matches": true
           },
           "label": "Rushing Yards Per Game",
           "values": [
            47.625,
            44.25,
            63.666666666666664,
            38,
            33.69230769230769
           ]
          },
          {
           "axis": {
            "matches": true
           },
           "label": "Carries Per Game",
           "values": [
            7.75,
            7.5,
            9.333333333333334,
            6.090909090909091,
            6.538461538461538
           ]
          },
          {
           "axis": {
            "matches": true
           },
           "label": "Yards Per Carry",
           "values": [
            6.15,
            5.9,
            6.82,
            6.24,
            5.15
           ]
          },
          {
           "axis": {
            "matches": true
           },
           "label": "Rushing Touchdowns Per Game",
           "values": [
            0.4375,
            0.4375,
            0.25,
            0.2727272727272727,
            0.3076923076923077
           ]
          },
          {
           "axis": {
            "matches": true
           },
           "label": "Fumbles Per Game",
           "values": [
            0.8125,
            0.375,
            0.4166666666666667,
            0.7272727272727273,
            0.6153846153846154
           ]
          }
         ],
         "hovertemplate": "<b>%{hovertext}</b><br><br>Cluster=1<br>%{xaxis.title.text}=%{x}<br>%{yaxis.title.text}=%{y}<extra></extra>",
         "hovertext": [
          "Josh Allen",
          "Daniel Jones",
          "Lamar Jackson",
          "Kyler Murray",
          "Marcus Mariota"
         ],
         "legendgroup": "1",
         "marker": {
          "color": "#EF553B",
          "size": 6,
          "symbol": "circle"
         },
         "name": "1",
         "showlegend": true,
         "type": "splom"
        },
        {
         "diagonal": {
          "visible": false
         },
         "dimensions": [
          {
           "axis": {
            "matches": true
           },
           "label": "Rushing Yards Per Game",
           "values": [
            50.666666666666664
           ]
          },
          {
           "axis": {
            "matches": true
           },
           "label": "Carries Per Game",
           "values": [
            11
           ]
          },
          {
           "axis": {
            "matches": true
           },
           "label": "Yards Per Carry",
           "values": [
            4.61
           ]
          },
          {
           "axis": {
            "matches": true
           },
           "label": "Rushing Touchdowns Per Game",
           "values": [
            0.8666666666666667
           ]
          },
          {
           "axis": {
            "matches": true
           },
           "label": "Fumbles Per Game",
           "values": [
            0.6
           ]
          }
         ],
         "hovertemplate": "<b>%{hovertext}</b><br><br>Cluster=5<br>%{xaxis.title.text}=%{x}<br>%{yaxis.title.text}=%{y}<extra></extra>",
         "hovertext": [
          "Jalen Hurts"
         ],
         "legendgroup": "5",
         "marker": {
          "color": "#00cc96",
          "size": 6,
          "symbol": "circle"
         },
         "name": "5",
         "showlegend": true,
         "type": "splom"
        },
        {
         "diagonal": {
          "visible": false
         },
         "dimensions": [
          {
           "axis": {
            "matches": true
           },
           "label": "Rushing Yards Per Game",
           "values": [
            76.2
           ]
          },
          {
           "axis": {
            "matches": true
           },
           "label": "Carries Per Game",
           "values": [
            10.666666666666666
           ]
          },
          {
           "axis": {
            "matches": true
           },
           "label": "Yards Per Carry",
           "values": [
            7.14
           ]
          },
          {
           "axis": {
            "matches": true
           },
           "label": "Rushing Touchdowns Per Game",
           "values": [
            0.5333333333333333
           ]
          },
          {
           "axis": {
            "matches": true
           },
           "label": "Fumbles Per Game",
           "values": [
            1.0666666666666667
           ]
          }
         ],
         "hovertemplate": "<b>%{hovertext}</b><br><br>Cluster=4<br>%{xaxis.title.text}=%{x}<br>%{yaxis.title.text}=%{y}<extra></extra>",
         "hovertext": [
          "Justin Fields"
         ],
         "legendgroup": "4",
         "marker": {
          "color": "#ab63fa",
          "size": 6,
          "symbol": "circle"
         },
         "name": "4",
         "showlegend": true,
         "type": "splom"
        },
        {
         "diagonal": {
          "visible": false
         },
         "dimensions": [
          {
           "axis": {
            "matches": true
           },
           "label": "Rushing Yards Per Game",
           "values": [
            17.11764705882353,
            5.833333333333333,
            7.416666666666667,
            10.666666666666666
           ]
          },
          {
           "axis": {
            "matches": true
           },
           "label": "Carries Per Game",
           "values": [
            3.6470588235294117,
            2.25,
            2.5833333333333335,
            3.111111111111111
           ]
          },
          {
           "axis": {
            "matches": true
           },
           "label": "Yards Per Carry",
           "values": [
            4.69,
            2.59,
            2.87,
            3.43
           ]
          },
          {
           "axis": {
            "matches": true
           },
           "label": "Rushing Touchdowns Per Game",
           "values": [
            0.29411764705882354,
            0.08333333333333333,
            0.08333333333333333,
            0.1111111111111111
           ]
          },
          {
           "axis": {
            "matches": true
           },
           "label": "Fumbles Per Game",
           "values": [
            0.7058823529411765,
            1.25,
            0.75,
            0.7777777777777778
           ]
          }
         ],
         "hovertemplate": "<b>%{hovertext}</b><br><br>Cluster=2<br>%{xaxis.title.text}=%{x}<br>%{yaxis.title.text}=%{y}<extra></extra>",
         "hovertext": [
          "Trevor Lawrence",
          "Matt Ryan",
          "Baker Mayfield",
          "Taylor Heinicke"
         ],
         "legendgroup": "2",
         "marker": {
          "color": "#FFA15A",
          "size": 6,
          "symbol": "circle"
         },
         "name": "2",
         "showlegend": true,
         "type": "splom"
        },
        {
         "diagonal": {
          "visible": false
         },
         "dimensions": [
          {
           "axis": {
            "matches": true
           },
           "label": "Rushing Yards Per Game",
           "values": [
            5.705882352941177,
            4.294117647058823,
            8.647058823529411,
            -0.058823529411764705,
            5.529411764705882,
            5.384615384615385,
            6.8,
            7.2,
            3.857142857142857,
            7.285714285714286,
            3,
            8.166666666666666
           ]
          },
          {
           "axis": {
            "matches": true
           },
           "label": "Carries Per Game",
           "values": [
            1.8235294117647058,
            1.7058823529411764,
            3.176470588235294,
            1.7058823529411764,
            2,
            1.7692307692307692,
            1.6,
            2.1333333333333333,
            2.142857142857143,
            3.357142857142857,
            2.090909090909091,
            2.8333333333333335
           ]
          },
          {
           "axis": {
            "matches": true
           },
           "label": "Yards Per Carry",
           "values": [
            3.13,
            2.52,
            2.72,
            -0.03,
            2.76,
            3.04,
            4.25,
            3.38,
            1.8,
            2.17,
            1.43,
            2.88
           ]
          },
          {
           "axis": {
            "matches": true
           },
           "label": "Rushing Touchdowns Per Game",
           "values": [
            0.11764705882352941,
            0,
            0,
            0.058823529411764705,
            0.058823529411764705,
            0,
            0,
            0.13333333333333333,
            0,
            0.07142857142857142,
            0.18181818181818182,
            0.16666666666666666
           ]
          },
          {
           "axis": {
            "matches": true
           },
           "label": "Fumbles Per Game",
           "values": [
            0.4117647058823529,
            0.4117647058823529,
            0.47058823529411764,
            0.29411764705882354,
            0.47058823529411764,
            0.46153846153846156,
            0.26666666666666666,
            0.5333333333333333,
            0.35714285714285715,
            0.35714285714285715,
            0.2727272727272727,
            0.25
           ]
          }
         ],
         "hovertemplate": "<b>%{hovertext}</b><br><br>Cluster=0<br>%{xaxis.title.text}=%{x}<br>%{yaxis.title.text}=%{y}<extra></extra>",
         "hovertext": [
          "Kirk Cousins",
          "Jared Goff",
          "Justin Herbert",
          "Tom Brady",
          "Aaron Rodgers",
          "Tua Tagovailoa",
          "Derek Carr",
          "Davis Mills",
          "Andy Dalton",
          "Mac Jones",
          "Jimmy Garoppolo",
          "Ryan Tannehill"
         ],
         "legendgroup": "0",
         "marker": {
          "color": "#19d3f3",
          "size": 6,
          "symbol": "circle"
         },
         "name": "0",
         "showlegend": true,
         "type": "splom"
        }
       ],
       "layout": {
        "dragmode": "select",
        "font": {
         "color": "black",
         "family": "Courier New, monospace",
         "size": 10
        },
        "height": 1000,
        "legend": {
         "title": {
          "text": "Cluster"
         },
         "tracegroupgap": 0
        },
        "margin": {
         "t": 60
        },
        "paper_bgcolor": "rgba(0,0,0,0)",
        "plot_bgcolor": "rgba(245, 245, 245, 1)",
        "showlegend": true,
        "template": {
         "data": {
          "bar": [
           {
            "error_x": {
             "color": "#2a3f5f"
            },
            "error_y": {
             "color": "#2a3f5f"
            },
            "marker": {
             "line": {
              "color": "#E5ECF6",
              "width": 0.5
             },
             "pattern": {
              "fillmode": "overlay",
              "size": 10,
              "solidity": 0.2
             }
            },
            "type": "bar"
           }
          ],
          "barpolar": [
           {
            "marker": {
             "line": {
              "color": "#E5ECF6",
              "width": 0.5
             },
             "pattern": {
              "fillmode": "overlay",
              "size": 10,
              "solidity": 0.2
             }
            },
            "type": "barpolar"
           }
          ],
          "carpet": [
           {
            "aaxis": {
             "endlinecolor": "#2a3f5f",
             "gridcolor": "white",
             "linecolor": "white",
             "minorgridcolor": "white",
             "startlinecolor": "#2a3f5f"
            },
            "baxis": {
             "endlinecolor": "#2a3f5f",
             "gridcolor": "white",
             "linecolor": "white",
             "minorgridcolor": "white",
             "startlinecolor": "#2a3f5f"
            },
            "type": "carpet"
           }
          ],
          "choropleth": [
           {
            "colorbar": {
             "outlinewidth": 0,
             "ticks": ""
            },
            "type": "choropleth"
           }
          ],
          "contour": [
           {
            "colorbar": {
             "outlinewidth": 0,
             "ticks": ""
            },
            "colorscale": [
             [
              0,
              "#0d0887"
             ],
             [
              0.1111111111111111,
              "#46039f"
             ],
             [
              0.2222222222222222,
              "#7201a8"
             ],
             [
              0.3333333333333333,
              "#9c179e"
             ],
             [
              0.4444444444444444,
              "#bd3786"
             ],
             [
              0.5555555555555556,
              "#d8576b"
             ],
             [
              0.6666666666666666,
              "#ed7953"
             ],
             [
              0.7777777777777778,
              "#fb9f3a"
             ],
             [
              0.8888888888888888,
              "#fdca26"
             ],
             [
              1,
              "#f0f921"
             ]
            ],
            "type": "contour"
           }
          ],
          "contourcarpet": [
           {
            "colorbar": {
             "outlinewidth": 0,
             "ticks": ""
            },
            "type": "contourcarpet"
           }
          ],
          "heatmap": [
           {
            "colorbar": {
             "outlinewidth": 0,
             "ticks": ""
            },
            "colorscale": [
             [
              0,
              "#0d0887"
             ],
             [
              0.1111111111111111,
              "#46039f"
             ],
             [
              0.2222222222222222,
              "#7201a8"
             ],
             [
              0.3333333333333333,
              "#9c179e"
             ],
             [
              0.4444444444444444,
              "#bd3786"
             ],
             [
              0.5555555555555556,
              "#d8576b"
             ],
             [
              0.6666666666666666,
              "#ed7953"
             ],
             [
              0.7777777777777778,
              "#fb9f3a"
             ],
             [
              0.8888888888888888,
              "#fdca26"
             ],
             [
              1,
              "#f0f921"
             ]
            ],
            "type": "heatmap"
           }
          ],
          "heatmapgl": [
           {
            "colorbar": {
             "outlinewidth": 0,
             "ticks": ""
            },
            "colorscale": [
             [
              0,
              "#0d0887"
             ],
             [
              0.1111111111111111,
              "#46039f"
             ],
             [
              0.2222222222222222,
              "#7201a8"
             ],
             [
              0.3333333333333333,
              "#9c179e"
             ],
             [
              0.4444444444444444,
              "#bd3786"
             ],
             [
              0.5555555555555556,
              "#d8576b"
             ],
             [
              0.6666666666666666,
              "#ed7953"
             ],
             [
              0.7777777777777778,
              "#fb9f3a"
             ],
             [
              0.8888888888888888,
              "#fdca26"
             ],
             [
              1,
              "#f0f921"
             ]
            ],
            "type": "heatmapgl"
           }
          ],
          "histogram": [
           {
            "marker": {
             "pattern": {
              "fillmode": "overlay",
              "size": 10,
              "solidity": 0.2
             }
            },
            "type": "histogram"
           }
          ],
          "histogram2d": [
           {
            "colorbar": {
             "outlinewidth": 0,
             "ticks": ""
            },
            "colorscale": [
             [
              0,
              "#0d0887"
             ],
             [
              0.1111111111111111,
              "#46039f"
             ],
             [
              0.2222222222222222,
              "#7201a8"
             ],
             [
              0.3333333333333333,
              "#9c179e"
             ],
             [
              0.4444444444444444,
              "#bd3786"
             ],
             [
              0.5555555555555556,
              "#d8576b"
             ],
             [
              0.6666666666666666,
              "#ed7953"
             ],
             [
              0.7777777777777778,
              "#fb9f3a"
             ],
             [
              0.8888888888888888,
              "#fdca26"
             ],
             [
              1,
              "#f0f921"
             ]
            ],
            "type": "histogram2d"
           }
          ],
          "histogram2dcontour": [
           {
            "colorbar": {
             "outlinewidth": 0,
             "ticks": ""
            },
            "colorscale": [
             [
              0,
              "#0d0887"
             ],
             [
              0.1111111111111111,
              "#46039f"
             ],
             [
              0.2222222222222222,
              "#7201a8"
             ],
             [
              0.3333333333333333,
              "#9c179e"
             ],
             [
              0.4444444444444444,
              "#bd3786"
             ],
             [
              0.5555555555555556,
              "#d8576b"
             ],
             [
              0.6666666666666666,
              "#ed7953"
             ],
             [
              0.7777777777777778,
              "#fb9f3a"
             ],
             [
              0.8888888888888888,
              "#fdca26"
             ],
             [
              1,
              "#f0f921"
             ]
            ],
            "type": "histogram2dcontour"
           }
          ],
          "mesh3d": [
           {
            "colorbar": {
             "outlinewidth": 0,
             "ticks": ""
            },
            "type": "mesh3d"
           }
          ],
          "parcoords": [
           {
            "line": {
             "colorbar": {
              "outlinewidth": 0,
              "ticks": ""
             }
            },
            "type": "parcoords"
           }
          ],
          "pie": [
           {
            "automargin": true,
            "type": "pie"
           }
          ],
          "scatter": [
           {
            "fillpattern": {
             "fillmode": "overlay",
             "size": 10,
             "solidity": 0.2
            },
            "type": "scatter"
           }
          ],
          "scatter3d": [
           {
            "line": {
             "colorbar": {
              "outlinewidth": 0,
              "ticks": ""
             }
            },
            "marker": {
             "colorbar": {
              "outlinewidth": 0,
              "ticks": ""
             }
            },
            "type": "scatter3d"
           }
          ],
          "scattercarpet": [
           {
            "marker": {
             "colorbar": {
              "outlinewidth": 0,
              "ticks": ""
             }
            },
            "type": "scattercarpet"
           }
          ],
          "scattergeo": [
           {
            "marker": {
             "colorbar": {
              "outlinewidth": 0,
              "ticks": ""
             }
            },
            "type": "scattergeo"
           }
          ],
          "scattergl": [
           {
            "marker": {
             "colorbar": {
              "outlinewidth": 0,
              "ticks": ""
             }
            },
            "type": "scattergl"
           }
          ],
          "scattermapbox": [
           {
            "marker": {
             "colorbar": {
              "outlinewidth": 0,
              "ticks": ""
             }
            },
            "type": "scattermapbox"
           }
          ],
          "scatterpolar": [
           {
            "marker": {
             "colorbar": {
              "outlinewidth": 0,
              "ticks": ""
             }
            },
            "type": "scatterpolar"
           }
          ],
          "scatterpolargl": [
           {
            "marker": {
             "colorbar": {
              "outlinewidth": 0,
              "ticks": ""
             }
            },
            "type": "scatterpolargl"
           }
          ],
          "scatterternary": [
           {
            "marker": {
             "colorbar": {
              "outlinewidth": 0,
              "ticks": ""
             }
            },
            "type": "scatterternary"
           }
          ],
          "surface": [
           {
            "colorbar": {
             "outlinewidth": 0,
             "ticks": ""
            },
            "colorscale": [
             [
              0,
              "#0d0887"
             ],
             [
              0.1111111111111111,
              "#46039f"
             ],
             [
              0.2222222222222222,
              "#7201a8"
             ],
             [
              0.3333333333333333,
              "#9c179e"
             ],
             [
              0.4444444444444444,
              "#bd3786"
             ],
             [
              0.5555555555555556,
              "#d8576b"
             ],
             [
              0.6666666666666666,
              "#ed7953"
             ],
             [
              0.7777777777777778,
              "#fb9f3a"
             ],
             [
              0.8888888888888888,
              "#fdca26"
             ],
             [
              1,
              "#f0f921"
             ]
            ],
            "type": "surface"
           }
          ],
          "table": [
           {
            "cells": {
             "fill": {
              "color": "#EBF0F8"
             },
             "line": {
              "color": "white"
             }
            },
            "header": {
             "fill": {
              "color": "#C8D4E3"
             },
             "line": {
              "color": "white"
             }
            },
            "type": "table"
           }
          ]
         },
         "layout": {
          "annotationdefaults": {
           "arrowcolor": "#2a3f5f",
           "arrowhead": 0,
           "arrowwidth": 1
          },
          "autotypenumbers": "strict",
          "coloraxis": {
           "colorbar": {
            "outlinewidth": 0,
            "ticks": ""
           }
          },
          "colorscale": {
           "diverging": [
            [
             0,
             "#8e0152"
            ],
            [
             0.1,
             "#c51b7d"
            ],
            [
             0.2,
             "#de77ae"
            ],
            [
             0.3,
             "#f1b6da"
            ],
            [
             0.4,
             "#fde0ef"
            ],
            [
             0.5,
             "#f7f7f7"
            ],
            [
             0.6,
             "#e6f5d0"
            ],
            [
             0.7,
             "#b8e186"
            ],
            [
             0.8,
             "#7fbc41"
            ],
            [
             0.9,
             "#4d9221"
            ],
            [
             1,
             "#276419"
            ]
           ],
           "sequential": [
            [
             0,
             "#0d0887"
            ],
            [
             0.1111111111111111,
             "#46039f"
            ],
            [
             0.2222222222222222,
             "#7201a8"
            ],
            [
             0.3333333333333333,
             "#9c179e"
            ],
            [
             0.4444444444444444,
             "#bd3786"
            ],
            [
             0.5555555555555556,
             "#d8576b"
            ],
            [
             0.6666666666666666,
             "#ed7953"
            ],
            [
             0.7777777777777778,
             "#fb9f3a"
            ],
            [
             0.8888888888888888,
             "#fdca26"
            ],
            [
             1,
             "#f0f921"
            ]
           ],
           "sequentialminus": [
            [
             0,
             "#0d0887"
            ],
            [
             0.1111111111111111,
             "#46039f"
            ],
            [
             0.2222222222222222,
             "#7201a8"
            ],
            [
             0.3333333333333333,
             "#9c179e"
            ],
            [
             0.4444444444444444,
             "#bd3786"
            ],
            [
             0.5555555555555556,
             "#d8576b"
            ],
            [
             0.6666666666666666,
             "#ed7953"
            ],
            [
             0.7777777777777778,
             "#fb9f3a"
            ],
            [
             0.8888888888888888,
             "#fdca26"
            ],
            [
             1,
             "#f0f921"
            ]
           ]
          },
          "colorway": [
           "#636efa",
           "#EF553B",
           "#00cc96",
           "#ab63fa",
           "#FFA15A",
           "#19d3f3",
           "#FF6692",
           "#B6E880",
           "#FF97FF",
           "#FECB52"
          ],
          "font": {
           "color": "#2a3f5f"
          },
          "geo": {
           "bgcolor": "white",
           "lakecolor": "white",
           "landcolor": "#E5ECF6",
           "showlakes": true,
           "showland": true,
           "subunitcolor": "white"
          },
          "hoverlabel": {
           "align": "left"
          },
          "hovermode": "closest",
          "mapbox": {
           "style": "light"
          },
          "paper_bgcolor": "white",
          "plot_bgcolor": "#E5ECF6",
          "polar": {
           "angularaxis": {
            "gridcolor": "white",
            "linecolor": "white",
            "ticks": ""
           },
           "bgcolor": "#E5ECF6",
           "radialaxis": {
            "gridcolor": "white",
            "linecolor": "white",
            "ticks": ""
           }
          },
          "scene": {
           "xaxis": {
            "backgroundcolor": "#E5ECF6",
            "gridcolor": "white",
            "gridwidth": 2,
            "linecolor": "white",
            "showbackground": true,
            "ticks": "",
            "zerolinecolor": "white"
           },
           "yaxis": {
            "backgroundcolor": "#E5ECF6",
            "gridcolor": "white",
            "gridwidth": 2,
            "linecolor": "white",
            "showbackground": true,
            "ticks": "",
            "zerolinecolor": "white"
           },
           "zaxis": {
            "backgroundcolor": "#E5ECF6",
            "gridcolor": "white",
            "gridwidth": 2,
            "linecolor": "white",
            "showbackground": true,
            "ticks": "",
            "zerolinecolor": "white"
           }
          },
          "shapedefaults": {
           "line": {
            "color": "#2a3f5f"
           }
          },
          "ternary": {
           "aaxis": {
            "gridcolor": "white",
            "linecolor": "white",
            "ticks": ""
           },
           "baxis": {
            "gridcolor": "white",
            "linecolor": "white",
            "ticks": ""
           },
           "bgcolor": "#E5ECF6",
           "caxis": {
            "gridcolor": "white",
            "linecolor": "white",
            "ticks": ""
           }
          },
          "title": {
           "x": 0.05
          },
          "xaxis": {
           "automargin": true,
           "gridcolor": "white",
           "linecolor": "white",
           "ticks": "",
           "title": {
            "standoff": 15
           },
           "zerolinecolor": "white",
           "zerolinewidth": 2
          },
          "yaxis": {
           "automargin": true,
           "gridcolor": "white",
           "linecolor": "white",
           "ticks": "",
           "title": {
            "standoff": 15
           },
           "zerolinecolor": "white",
           "zerolinewidth": 2
          }
         }
        },
        "width": 1000,
        "xaxis": {
         "gridcolor": "rgba(200, 200, 200, 0.5)",
         "gridwidth": 0.5,
         "showgrid": true
        },
        "yaxis": {
         "gridcolor": "rgba(200, 200, 200, 0.5)",
         "gridwidth": 0.5,
         "showgrid": true
        }
       }
      },
      "text/html": [
       "<div>                            <div id=\"61495f44-5a68-42d2-9d3a-6859d796cb0f\" class=\"plotly-graph-div\" style=\"height:1000px; width:1000px;\"></div>            <script type=\"text/javascript\">                require([\"plotly\"], function(Plotly) {                    window.PLOTLYENV=window.PLOTLYENV || {};                                    if (document.getElementById(\"61495f44-5a68-42d2-9d3a-6859d796cb0f\")) {                    Plotly.newPlot(                        \"61495f44-5a68-42d2-9d3a-6859d796cb0f\",                        [{\"dimensions\":[{\"axis\":{\"matches\":true},\"label\":\"Rushing Yards Per Game\",\"values\":[21.058823529411764,16.0625,21.529411764705884,18.466666666666665,15.166666666666666,15.1875,18.23076923076923]},{\"axis\":{\"matches\":true},\"label\":\"Carries Per Game\",\"values\":[3.588235294117647,4.6875,4.0,3.6666666666666665,3.75,3.0625,4.230769230769231]},{\"axis\":{\"matches\":true},\"label\":\"Yards Per Carry\",\"values\":[5.87,3.43,5.38,5.04,4.04,4.96,4.31]},{\"axis\":{\"matches\":true},\"label\":\"Rushing Touchdowns Per Game\",\"values\":[0.23529411764705882,0.3125,0.058823529411764705,0.2,0.08333333333333333,0.125,0.23076923076923078]},{\"axis\":{\"matches\":true},\"label\":\"Fumbles Per Game\",\"values\":[0.29411764705882354,0.375,0.47058823529411764,0.4,0.3333333333333333,0.375,0.3076923076923077]}],\"hovertemplate\":\"\\u003cb\\u003e%{hovertext}\\u003c\\u002fb\\u003e\\u003cbr\\u003e\\u003cbr\\u003eCluster=3\\u003cbr\\u003e%{xaxis.title.text}=%{x}\\u003cbr\\u003e%{yaxis.title.text}=%{y}\\u003cextra\\u003e\\u003c\\u002fextra\\u003e\",\"hovertext\":[\"Patrick Mahomes\",\"Joe Burrow\",\"Geno Smith\",\"Russell Wilson\",\"Dak Prescott\",\"Jacoby Brissett\",\"Kenny Pickett\"],\"legendgroup\":\"3\",\"marker\":{\"color\":\"#636efa\",\"symbol\":\"circle\",\"size\":6},\"name\":\"3\",\"showlegend\":true,\"type\":\"splom\",\"diagonal\":{\"visible\":false}},{\"dimensions\":[{\"axis\":{\"matches\":true},\"label\":\"Rushing Yards Per Game\",\"values\":[47.625,44.25,63.666666666666664,38.0,33.69230769230769]},{\"axis\":{\"matches\":true},\"label\":\"Carries Per Game\",\"values\":[7.75,7.5,9.333333333333334,6.090909090909091,6.538461538461538]},{\"axis\":{\"matches\":true},\"label\":\"Yards Per Carry\",\"values\":[6.15,5.9,6.82,6.24,5.15]},{\"axis\":{\"matches\":true},\"label\":\"Rushing Touchdowns Per Game\",\"values\":[0.4375,0.4375,0.25,0.2727272727272727,0.3076923076923077]},{\"axis\":{\"matches\":true},\"label\":\"Fumbles Per Game\",\"values\":[0.8125,0.375,0.4166666666666667,0.7272727272727273,0.6153846153846154]}],\"hovertemplate\":\"\\u003cb\\u003e%{hovertext}\\u003c\\u002fb\\u003e\\u003cbr\\u003e\\u003cbr\\u003eCluster=1\\u003cbr\\u003e%{xaxis.title.text}=%{x}\\u003cbr\\u003e%{yaxis.title.text}=%{y}\\u003cextra\\u003e\\u003c\\u002fextra\\u003e\",\"hovertext\":[\"Josh Allen\",\"Daniel Jones\",\"Lamar Jackson\",\"Kyler Murray\",\"Marcus Mariota\"],\"legendgroup\":\"1\",\"marker\":{\"color\":\"#EF553B\",\"symbol\":\"circle\",\"size\":6},\"name\":\"1\",\"showlegend\":true,\"type\":\"splom\",\"diagonal\":{\"visible\":false}},{\"dimensions\":[{\"axis\":{\"matches\":true},\"label\":\"Rushing Yards Per Game\",\"values\":[50.666666666666664]},{\"axis\":{\"matches\":true},\"label\":\"Carries Per Game\",\"values\":[11.0]},{\"axis\":{\"matches\":true},\"label\":\"Yards Per Carry\",\"values\":[4.61]},{\"axis\":{\"matches\":true},\"label\":\"Rushing Touchdowns Per Game\",\"values\":[0.8666666666666667]},{\"axis\":{\"matches\":true},\"label\":\"Fumbles Per Game\",\"values\":[0.6]}],\"hovertemplate\":\"\\u003cb\\u003e%{hovertext}\\u003c\\u002fb\\u003e\\u003cbr\\u003e\\u003cbr\\u003eCluster=5\\u003cbr\\u003e%{xaxis.title.text}=%{x}\\u003cbr\\u003e%{yaxis.title.text}=%{y}\\u003cextra\\u003e\\u003c\\u002fextra\\u003e\",\"hovertext\":[\"Jalen Hurts\"],\"legendgroup\":\"5\",\"marker\":{\"color\":\"#00cc96\",\"symbol\":\"circle\",\"size\":6},\"name\":\"5\",\"showlegend\":true,\"type\":\"splom\",\"diagonal\":{\"visible\":false}},{\"dimensions\":[{\"axis\":{\"matches\":true},\"label\":\"Rushing Yards Per Game\",\"values\":[76.2]},{\"axis\":{\"matches\":true},\"label\":\"Carries Per Game\",\"values\":[10.666666666666666]},{\"axis\":{\"matches\":true},\"label\":\"Yards Per Carry\",\"values\":[7.14]},{\"axis\":{\"matches\":true},\"label\":\"Rushing Touchdowns Per Game\",\"values\":[0.5333333333333333]},{\"axis\":{\"matches\":true},\"label\":\"Fumbles Per Game\",\"values\":[1.0666666666666667]}],\"hovertemplate\":\"\\u003cb\\u003e%{hovertext}\\u003c\\u002fb\\u003e\\u003cbr\\u003e\\u003cbr\\u003eCluster=4\\u003cbr\\u003e%{xaxis.title.text}=%{x}\\u003cbr\\u003e%{yaxis.title.text}=%{y}\\u003cextra\\u003e\\u003c\\u002fextra\\u003e\",\"hovertext\":[\"Justin Fields\"],\"legendgroup\":\"4\",\"marker\":{\"color\":\"#ab63fa\",\"symbol\":\"circle\",\"size\":6},\"name\":\"4\",\"showlegend\":true,\"type\":\"splom\",\"diagonal\":{\"visible\":false}},{\"dimensions\":[{\"axis\":{\"matches\":true},\"label\":\"Rushing Yards Per Game\",\"values\":[17.11764705882353,5.833333333333333,7.416666666666667,10.666666666666666]},{\"axis\":{\"matches\":true},\"label\":\"Carries Per Game\",\"values\":[3.6470588235294117,2.25,2.5833333333333335,3.111111111111111]},{\"axis\":{\"matches\":true},\"label\":\"Yards Per Carry\",\"values\":[4.69,2.59,2.87,3.43]},{\"axis\":{\"matches\":true},\"label\":\"Rushing Touchdowns Per Game\",\"values\":[0.29411764705882354,0.08333333333333333,0.08333333333333333,0.1111111111111111]},{\"axis\":{\"matches\":true},\"label\":\"Fumbles Per Game\",\"values\":[0.7058823529411765,1.25,0.75,0.7777777777777778]}],\"hovertemplate\":\"\\u003cb\\u003e%{hovertext}\\u003c\\u002fb\\u003e\\u003cbr\\u003e\\u003cbr\\u003eCluster=2\\u003cbr\\u003e%{xaxis.title.text}=%{x}\\u003cbr\\u003e%{yaxis.title.text}=%{y}\\u003cextra\\u003e\\u003c\\u002fextra\\u003e\",\"hovertext\":[\"Trevor Lawrence\",\"Matt Ryan\",\"Baker Mayfield\",\"Taylor Heinicke\"],\"legendgroup\":\"2\",\"marker\":{\"color\":\"#FFA15A\",\"symbol\":\"circle\",\"size\":6},\"name\":\"2\",\"showlegend\":true,\"type\":\"splom\",\"diagonal\":{\"visible\":false}},{\"dimensions\":[{\"axis\":{\"matches\":true},\"label\":\"Rushing Yards Per Game\",\"values\":[5.705882352941177,4.294117647058823,8.647058823529411,-0.058823529411764705,5.529411764705882,5.384615384615385,6.8,7.2,3.857142857142857,7.285714285714286,3.0,8.166666666666666]},{\"axis\":{\"matches\":true},\"label\":\"Carries Per Game\",\"values\":[1.8235294117647058,1.7058823529411764,3.176470588235294,1.7058823529411764,2.0,1.7692307692307692,1.6,2.1333333333333333,2.142857142857143,3.357142857142857,2.090909090909091,2.8333333333333335]},{\"axis\":{\"matches\":true},\"label\":\"Yards Per Carry\",\"values\":[3.13,2.52,2.72,-0.03,2.76,3.04,4.25,3.38,1.8,2.17,1.43,2.88]},{\"axis\":{\"matches\":true},\"label\":\"Rushing Touchdowns Per Game\",\"values\":[0.11764705882352941,0.0,0.0,0.058823529411764705,0.058823529411764705,0.0,0.0,0.13333333333333333,0.0,0.07142857142857142,0.18181818181818182,0.16666666666666666]},{\"axis\":{\"matches\":true},\"label\":\"Fumbles Per Game\",\"values\":[0.4117647058823529,0.4117647058823529,0.47058823529411764,0.29411764705882354,0.47058823529411764,0.46153846153846156,0.26666666666666666,0.5333333333333333,0.35714285714285715,0.35714285714285715,0.2727272727272727,0.25]}],\"hovertemplate\":\"\\u003cb\\u003e%{hovertext}\\u003c\\u002fb\\u003e\\u003cbr\\u003e\\u003cbr\\u003eCluster=0\\u003cbr\\u003e%{xaxis.title.text}=%{x}\\u003cbr\\u003e%{yaxis.title.text}=%{y}\\u003cextra\\u003e\\u003c\\u002fextra\\u003e\",\"hovertext\":[\"Kirk Cousins\",\"Jared Goff\",\"Justin Herbert\",\"Tom Brady\",\"Aaron Rodgers\",\"Tua Tagovailoa\",\"Derek Carr\",\"Davis Mills\",\"Andy Dalton\",\"Mac Jones\",\"Jimmy Garoppolo\",\"Ryan Tannehill\"],\"legendgroup\":\"0\",\"marker\":{\"color\":\"#19d3f3\",\"symbol\":\"circle\",\"size\":6},\"name\":\"0\",\"showlegend\":true,\"type\":\"splom\",\"diagonal\":{\"visible\":false}}],                        {\"template\":{\"data\":{\"histogram2dcontour\":[{\"type\":\"histogram2dcontour\",\"colorbar\":{\"outlinewidth\":0,\"ticks\":\"\"},\"colorscale\":[[0.0,\"#0d0887\"],[0.1111111111111111,\"#46039f\"],[0.2222222222222222,\"#7201a8\"],[0.3333333333333333,\"#9c179e\"],[0.4444444444444444,\"#bd3786\"],[0.5555555555555556,\"#d8576b\"],[0.6666666666666666,\"#ed7953\"],[0.7777777777777778,\"#fb9f3a\"],[0.8888888888888888,\"#fdca26\"],[1.0,\"#f0f921\"]]}],\"choropleth\":[{\"type\":\"choropleth\",\"colorbar\":{\"outlinewidth\":0,\"ticks\":\"\"}}],\"histogram2d\":[{\"type\":\"histogram2d\",\"colorbar\":{\"outlinewidth\":0,\"ticks\":\"\"},\"colorscale\":[[0.0,\"#0d0887\"],[0.1111111111111111,\"#46039f\"],[0.2222222222222222,\"#7201a8\"],[0.3333333333333333,\"#9c179e\"],[0.4444444444444444,\"#bd3786\"],[0.5555555555555556,\"#d8576b\"],[0.6666666666666666,\"#ed7953\"],[0.7777777777777778,\"#fb9f3a\"],[0.8888888888888888,\"#fdca26\"],[1.0,\"#f0f921\"]]}],\"heatmap\":[{\"type\":\"heatmap\",\"colorbar\":{\"outlinewidth\":0,\"ticks\":\"\"},\"colorscale\":[[0.0,\"#0d0887\"],[0.1111111111111111,\"#46039f\"],[0.2222222222222222,\"#7201a8\"],[0.3333333333333333,\"#9c179e\"],[0.4444444444444444,\"#bd3786\"],[0.5555555555555556,\"#d8576b\"],[0.6666666666666666,\"#ed7953\"],[0.7777777777777778,\"#fb9f3a\"],[0.8888888888888888,\"#fdca26\"],[1.0,\"#f0f921\"]]}],\"heatmapgl\":[{\"type\":\"heatmapgl\",\"colorbar\":{\"outlinewidth\":0,\"ticks\":\"\"},\"colorscale\":[[0.0,\"#0d0887\"],[0.1111111111111111,\"#46039f\"],[0.2222222222222222,\"#7201a8\"],[0.3333333333333333,\"#9c179e\"],[0.4444444444444444,\"#bd3786\"],[0.5555555555555556,\"#d8576b\"],[0.6666666666666666,\"#ed7953\"],[0.7777777777777778,\"#fb9f3a\"],[0.8888888888888888,\"#fdca26\"],[1.0,\"#f0f921\"]]}],\"contourcarpet\":[{\"type\":\"contourcarpet\",\"colorbar\":{\"outlinewidth\":0,\"ticks\":\"\"}}],\"contour\":[{\"type\":\"contour\",\"colorbar\":{\"outlinewidth\":0,\"ticks\":\"\"},\"colorscale\":[[0.0,\"#0d0887\"],[0.1111111111111111,\"#46039f\"],[0.2222222222222222,\"#7201a8\"],[0.3333333333333333,\"#9c179e\"],[0.4444444444444444,\"#bd3786\"],[0.5555555555555556,\"#d8576b\"],[0.6666666666666666,\"#ed7953\"],[0.7777777777777778,\"#fb9f3a\"],[0.8888888888888888,\"#fdca26\"],[1.0,\"#f0f921\"]]}],\"surface\":[{\"type\":\"surface\",\"colorbar\":{\"outlinewidth\":0,\"ticks\":\"\"},\"colorscale\":[[0.0,\"#0d0887\"],[0.1111111111111111,\"#46039f\"],[0.2222222222222222,\"#7201a8\"],[0.3333333333333333,\"#9c179e\"],[0.4444444444444444,\"#bd3786\"],[0.5555555555555556,\"#d8576b\"],[0.6666666666666666,\"#ed7953\"],[0.7777777777777778,\"#fb9f3a\"],[0.8888888888888888,\"#fdca26\"],[1.0,\"#f0f921\"]]}],\"mesh3d\":[{\"type\":\"mesh3d\",\"colorbar\":{\"outlinewidth\":0,\"ticks\":\"\"}}],\"scatter\":[{\"fillpattern\":{\"fillmode\":\"overlay\",\"size\":10,\"solidity\":0.2},\"type\":\"scatter\"}],\"parcoords\":[{\"type\":\"parcoords\",\"line\":{\"colorbar\":{\"outlinewidth\":0,\"ticks\":\"\"}}}],\"scatterpolargl\":[{\"type\":\"scatterpolargl\",\"marker\":{\"colorbar\":{\"outlinewidth\":0,\"ticks\":\"\"}}}],\"bar\":[{\"error_x\":{\"color\":\"#2a3f5f\"},\"error_y\":{\"color\":\"#2a3f5f\"},\"marker\":{\"line\":{\"color\":\"#E5ECF6\",\"width\":0.5},\"pattern\":{\"fillmode\":\"overlay\",\"size\":10,\"solidity\":0.2}},\"type\":\"bar\"}],\"scattergeo\":[{\"type\":\"scattergeo\",\"marker\":{\"colorbar\":{\"outlinewidth\":0,\"ticks\":\"\"}}}],\"scatterpolar\":[{\"type\":\"scatterpolar\",\"marker\":{\"colorbar\":{\"outlinewidth\":0,\"ticks\":\"\"}}}],\"histogram\":[{\"marker\":{\"pattern\":{\"fillmode\":\"overlay\",\"size\":10,\"solidity\":0.2}},\"type\":\"histogram\"}],\"scattergl\":[{\"type\":\"scattergl\",\"marker\":{\"colorbar\":{\"outlinewidth\":0,\"ticks\":\"\"}}}],\"scatter3d\":[{\"type\":\"scatter3d\",\"line\":{\"colorbar\":{\"outlinewidth\":0,\"ticks\":\"\"}},\"marker\":{\"colorbar\":{\"outlinewidth\":0,\"ticks\":\"\"}}}],\"scattermapbox\":[{\"type\":\"scattermapbox\",\"marker\":{\"colorbar\":{\"outlinewidth\":0,\"ticks\":\"\"}}}],\"scatterternary\":[{\"type\":\"scatterternary\",\"marker\":{\"colorbar\":{\"outlinewidth\":0,\"ticks\":\"\"}}}],\"scattercarpet\":[{\"type\":\"scattercarpet\",\"marker\":{\"colorbar\":{\"outlinewidth\":0,\"ticks\":\"\"}}}],\"carpet\":[{\"aaxis\":{\"endlinecolor\":\"#2a3f5f\",\"gridcolor\":\"white\",\"linecolor\":\"white\",\"minorgridcolor\":\"white\",\"startlinecolor\":\"#2a3f5f\"},\"baxis\":{\"endlinecolor\":\"#2a3f5f\",\"gridcolor\":\"white\",\"linecolor\":\"white\",\"minorgridcolor\":\"white\",\"startlinecolor\":\"#2a3f5f\"},\"type\":\"carpet\"}],\"table\":[{\"cells\":{\"fill\":{\"color\":\"#EBF0F8\"},\"line\":{\"color\":\"white\"}},\"header\":{\"fill\":{\"color\":\"#C8D4E3\"},\"line\":{\"color\":\"white\"}},\"type\":\"table\"}],\"barpolar\":[{\"marker\":{\"line\":{\"color\":\"#E5ECF6\",\"width\":0.5},\"pattern\":{\"fillmode\":\"overlay\",\"size\":10,\"solidity\":0.2}},\"type\":\"barpolar\"}],\"pie\":[{\"automargin\":true,\"type\":\"pie\"}]},\"layout\":{\"autotypenumbers\":\"strict\",\"colorway\":[\"#636efa\",\"#EF553B\",\"#00cc96\",\"#ab63fa\",\"#FFA15A\",\"#19d3f3\",\"#FF6692\",\"#B6E880\",\"#FF97FF\",\"#FECB52\"],\"font\":{\"color\":\"#2a3f5f\"},\"hovermode\":\"closest\",\"hoverlabel\":{\"align\":\"left\"},\"paper_bgcolor\":\"white\",\"plot_bgcolor\":\"#E5ECF6\",\"polar\":{\"bgcolor\":\"#E5ECF6\",\"angularaxis\":{\"gridcolor\":\"white\",\"linecolor\":\"white\",\"ticks\":\"\"},\"radialaxis\":{\"gridcolor\":\"white\",\"linecolor\":\"white\",\"ticks\":\"\"}},\"ternary\":{\"bgcolor\":\"#E5ECF6\",\"aaxis\":{\"gridcolor\":\"white\",\"linecolor\":\"white\",\"ticks\":\"\"},\"baxis\":{\"gridcolor\":\"white\",\"linecolor\":\"white\",\"ticks\":\"\"},\"caxis\":{\"gridcolor\":\"white\",\"linecolor\":\"white\",\"ticks\":\"\"}},\"coloraxis\":{\"colorbar\":{\"outlinewidth\":0,\"ticks\":\"\"}},\"colorscale\":{\"sequential\":[[0.0,\"#0d0887\"],[0.1111111111111111,\"#46039f\"],[0.2222222222222222,\"#7201a8\"],[0.3333333333333333,\"#9c179e\"],[0.4444444444444444,\"#bd3786\"],[0.5555555555555556,\"#d8576b\"],[0.6666666666666666,\"#ed7953\"],[0.7777777777777778,\"#fb9f3a\"],[0.8888888888888888,\"#fdca26\"],[1.0,\"#f0f921\"]],\"sequentialminus\":[[0.0,\"#0d0887\"],[0.1111111111111111,\"#46039f\"],[0.2222222222222222,\"#7201a8\"],[0.3333333333333333,\"#9c179e\"],[0.4444444444444444,\"#bd3786\"],[0.5555555555555556,\"#d8576b\"],[0.6666666666666666,\"#ed7953\"],[0.7777777777777778,\"#fb9f3a\"],[0.8888888888888888,\"#fdca26\"],[1.0,\"#f0f921\"]],\"diverging\":[[0,\"#8e0152\"],[0.1,\"#c51b7d\"],[0.2,\"#de77ae\"],[0.3,\"#f1b6da\"],[0.4,\"#fde0ef\"],[0.5,\"#f7f7f7\"],[0.6,\"#e6f5d0\"],[0.7,\"#b8e186\"],[0.8,\"#7fbc41\"],[0.9,\"#4d9221\"],[1,\"#276419\"]]},\"xaxis\":{\"gridcolor\":\"white\",\"linecolor\":\"white\",\"ticks\":\"\",\"title\":{\"standoff\":15},\"zerolinecolor\":\"white\",\"automargin\":true,\"zerolinewidth\":2},\"yaxis\":{\"gridcolor\":\"white\",\"linecolor\":\"white\",\"ticks\":\"\",\"title\":{\"standoff\":15},\"zerolinecolor\":\"white\",\"automargin\":true,\"zerolinewidth\":2},\"scene\":{\"xaxis\":{\"backgroundcolor\":\"#E5ECF6\",\"gridcolor\":\"white\",\"linecolor\":\"white\",\"showbackground\":true,\"ticks\":\"\",\"zerolinecolor\":\"white\",\"gridwidth\":2},\"yaxis\":{\"backgroundcolor\":\"#E5ECF6\",\"gridcolor\":\"white\",\"linecolor\":\"white\",\"showbackground\":true,\"ticks\":\"\",\"zerolinecolor\":\"white\",\"gridwidth\":2},\"zaxis\":{\"backgroundcolor\":\"#E5ECF6\",\"gridcolor\":\"white\",\"linecolor\":\"white\",\"showbackground\":true,\"ticks\":\"\",\"zerolinecolor\":\"white\",\"gridwidth\":2}},\"shapedefaults\":{\"line\":{\"color\":\"#2a3f5f\"}},\"annotationdefaults\":{\"arrowcolor\":\"#2a3f5f\",\"arrowhead\":0,\"arrowwidth\":1},\"geo\":{\"bgcolor\":\"white\",\"landcolor\":\"#E5ECF6\",\"subunitcolor\":\"white\",\"showland\":true,\"showlakes\":true,\"lakecolor\":\"white\"},\"title\":{\"x\":0.05},\"mapbox\":{\"style\":\"light\"}}},\"legend\":{\"title\":{\"text\":\"Cluster\"},\"tracegroupgap\":0},\"margin\":{\"t\":60},\"dragmode\":\"select\",\"font\":{\"family\":\"Courier New, monospace\",\"size\":10,\"color\":\"black\"},\"paper_bgcolor\":\"rgba(0,0,0,0)\",\"plot_bgcolor\":\"rgba(245, 245, 245, 1)\",\"showlegend\":true,\"xaxis\":{\"showgrid\":true,\"gridwidth\":0.5,\"gridcolor\":\"rgba(200, 200, 200, 0.5)\"},\"yaxis\":{\"showgrid\":true,\"gridwidth\":0.5,\"gridcolor\":\"rgba(200, 200, 200, 0.5)\"},\"width\":1000,\"height\":1000},                        {\"responsive\": true}                    ).then(function(){\n",
       "                            \n",
       "var gd = document.getElementById('61495f44-5a68-42d2-9d3a-6859d796cb0f');\n",
       "var x = new MutationObserver(function (mutations, observer) {{\n",
       "        var display = window.getComputedStyle(gd).display;\n",
       "        if (!display || display === 'none') {{\n",
       "            console.log([gd, 'removed!']);\n",
       "            Plotly.purge(gd);\n",
       "            observer.disconnect();\n",
       "        }}\n",
       "}});\n",
       "\n",
       "// Listen for the removal of the full notebook cells\n",
       "var notebookContainer = gd.closest('#notebook-container');\n",
       "if (notebookContainer) {{\n",
       "    x.observe(notebookContainer, {childList: true});\n",
       "}}\n",
       "\n",
       "// Listen for the clearing of the current output cell\n",
       "var outputEl = gd.closest('.output');\n",
       "if (outputEl) {{\n",
       "    x.observe(outputEl, {childList: true});\n",
       "}}\n",
       "\n",
       "                        })                };                });            </script>        </div>"
      ]
     },
     "metadata": {},
     "output_type": "display_data"
    }
   ],
   "source": [
    "graph_pair_plot_plotly(df=df_6, cluster_rankings=cluster_ranking_6,\n",
    "                       position=position, stats=stats, \n",
    "                       save_suffix=suffix, font_size=font_size, marker_size=marker_size,\n",
    "                       height=dim, width=dim\n",
    "                      )"
   ]
  },
  {
   "cell_type": "code",
   "execution_count": 46,
   "id": "339ab606",
   "metadata": {},
   "outputs": [
    {
     "name": "stdout",
     "output_type": "stream",
     "text": [
      "<div style='display: flex; justify-content: space-evenly;''>\n",
      "\t<div>\n",
      "\t\t<b>Cluster 0 ()</b>\n",
      "\t\t<ul class='bullet-list'>\n",
      "\t\t\t<li>Kirk Cousins</li>\n",
      "\t\t\t<li>Jared Goff</li>\n",
      "\t\t\t<li>Justin Herbert</li>\n",
      "\t\t\t<li>Tom Brady</li>\n",
      "\t\t\t<li>Aaron Rodgers</li>\n",
      "\t\t\t<li>Tua Tagovailoa</li>\n",
      "\t\t\t<li>Derek Carr</li>\n",
      "\t\t\t<li>Davis Mills</li>\n",
      "\t\t\t<li>Andy Dalton</li>\n",
      "\t\t\t<li>Mac Jones</li>\n",
      "\t\t\t<li>Jimmy Garoppolo</li>\n",
      "\t\t\t<li>Ryan Tannehill</li>\n",
      "\t\t</ul>\n",
      "\t</div>\n",
      "\n",
      "\t<div>\n",
      "\t\t<b>Cluster 1 ()</b>\n",
      "\t\t<ul class='bullet-list'>\n",
      "\t\t\t<li>Josh Allen</li>\n",
      "\t\t\t<li>Daniel Jones</li>\n",
      "\t\t\t<li>Lamar Jackson</li>\n",
      "\t\t\t<li>Kyler Murray</li>\n",
      "\t\t\t<li>Marcus Mariota</li>\n",
      "\t\t</ul>\n",
      "\t</div>\n",
      "\n",
      "\t<div>\n",
      "\t\t<b>Cluster 2 ()</b>\n",
      "\t\t<ul class='bullet-list'>\n",
      "\t\t\t<li>Trevor Lawrence</li>\n",
      "\t\t\t<li>Matt Ryan</li>\n",
      "\t\t\t<li>Baker Mayfield</li>\n",
      "\t\t\t<li>Taylor Heinicke</li>\n",
      "\t\t</ul>\n",
      "\t</div>\n",
      "\n",
      "\t<div>\n",
      "\t\t<b>Cluster 3 ()</b>\n",
      "\t\t<ul class='bullet-list'>\n",
      "\t\t\t<li>Patrick Mahomes</li>\n",
      "\t\t\t<li>Joe Burrow</li>\n",
      "\t\t\t<li>Geno Smith</li>\n",
      "\t\t\t<li>Russell Wilson</li>\n",
      "\t\t\t<li>Dak Prescott</li>\n",
      "\t\t\t<li>Jacoby Brissett</li>\n",
      "\t\t\t<li>Kenny Pickett</li>\n",
      "\t\t</ul>\n",
      "\t</div>\n",
      "\n",
      "\t<div>\n",
      "\t\t<b>Cluster 4 ()</b>\n",
      "\t\t<ul class='bullet-list'>\n",
      "\t\t\t<li>Justin Fields</li>\n",
      "\t\t</ul>\n",
      "\t</div>\n",
      "\n",
      "\t<div>\n",
      "\t\t<b>Cluster 5 ()</b>\n",
      "\t\t<ul class='bullet-list'>\n",
      "\t\t\t<li>Jalen Hurts</li>\n",
      "\t\t</ul>\n",
      "\t</div>\n",
      "</div>\n",
      "<p class='blog-p-tag'>\n",
      "\tTODO:\n",
      "\t<ul class='bullet-list'>\n",
      "\t\t<li><b>Cluster 0:</b> TODO</li>\n",
      "\t\t<li><b>Cluster 1:</b> TODO</li>\n",
      "\t\t<li><b>Cluster 2:</b> TODO</li>\n",
      "\t\t<li><b>Cluster 3:</b> TODO</li>\n",
      "\t\t<li><b>Cluster 4:</b> TODO</li>\n",
      "\t\t<li><b>Cluster 5:</b> TODO</li>\n",
      "\t</ul>\n",
      "</p>\n",
      "<p class=\"blog-p-tag\">\n",
      "    TODO\n",
      "</p>\n",
      "    \n"
     ]
    }
   ],
   "source": [
    "create_cluster_html_tiers(df_6)"
   ]
  },
  {
   "cell_type": "markdown",
   "id": "27b79859",
   "metadata": {},
   "source": [
    "### 7 Clusters"
   ]
  },
  {
   "cell_type": "code",
   "execution_count": 47,
   "id": "2ff5689a",
   "metadata": {},
   "outputs": [],
   "source": [
    "df_7 = create_cluster_df(labels=labels_7, X=X, stats=stats)"
   ]
  },
  {
   "cell_type": "code",
   "execution_count": 48,
   "id": "b8460f24",
   "metadata": {},
   "outputs": [
    {
     "data": {
      "application/vnd.plotly.v1+json": {
       "config": {
        "plotlyServerURL": "https://plot.ly"
       },
       "data": [
        {
         "diagonal": {
          "visible": false
         },
         "dimensions": [
          {
           "axis": {
            "matches": true
           },
           "label": "Rushing Yards Per Game",
           "values": [
            21.058823529411764,
            16.0625,
            21.529411764705884,
            18.466666666666665,
            6.8,
            15.166666666666666,
            15.1875,
            18.23076923076923
           ]
          },
          {
           "axis": {
            "matches": true
           },
           "label": "Carries Per Game",
           "values": [
            3.588235294117647,
            4.6875,
            4,
            3.6666666666666665,
            1.6,
            3.75,
            3.0625,
            4.230769230769231
           ]
          },
          {
           "axis": {
            "matches": true
           },
           "label": "Yards Per Carry",
           "values": [
            5.87,
            3.43,
            5.38,
            5.04,
            4.25,
            4.04,
            4.96,
            4.31
           ]
          },
          {
           "axis": {
            "matches": true
           },
           "label": "Rushing Touchdowns Per Game",
           "values": [
            0.23529411764705882,
            0.3125,
            0.058823529411764705,
            0.2,
            0,
            0.08333333333333333,
            0.125,
            0.23076923076923078
           ]
          },
          {
           "axis": {
            "matches": true
           },
           "label": "Fumbles Per Game",
           "values": [
            0.29411764705882354,
            0.375,
            0.47058823529411764,
            0.4,
            0.26666666666666666,
            0.3333333333333333,
            0.375,
            0.3076923076923077
           ]
          }
         ],
         "hovertemplate": "<b>%{hovertext}</b><br><br>Cluster=2<br>%{xaxis.title.text}=%{x}<br>%{yaxis.title.text}=%{y}<extra></extra>",
         "hovertext": [
          "Patrick Mahomes",
          "Joe Burrow",
          "Geno Smith",
          "Russell Wilson",
          "Derek Carr",
          "Dak Prescott",
          "Jacoby Brissett",
          "Kenny Pickett"
         ],
         "legendgroup": "2",
         "marker": {
          "color": "#636efa",
          "size": 6,
          "symbol": "circle"
         },
         "name": "2",
         "showlegend": true,
         "type": "splom"
        },
        {
         "diagonal": {
          "visible": false
         },
         "dimensions": [
          {
           "axis": {
            "matches": true
           },
           "label": "Rushing Yards Per Game",
           "values": [
            47.625,
            38,
            33.69230769230769
           ]
          },
          {
           "axis": {
            "matches": true
           },
           "label": "Carries Per Game",
           "values": [
            7.75,
            6.090909090909091,
            6.538461538461538
           ]
          },
          {
           "axis": {
            "matches": true
           },
           "label": "Yards Per Carry",
           "values": [
            6.15,
            6.24,
            5.15
           ]
          },
          {
           "axis": {
            "matches": true
           },
           "label": "Rushing Touchdowns Per Game",
           "values": [
            0.4375,
            0.2727272727272727,
            0.3076923076923077
           ]
          },
          {
           "axis": {
            "matches": true
           },
           "label": "Fumbles Per Game",
           "values": [
            0.8125,
            0.7272727272727273,
            0.6153846153846154
           ]
          }
         ],
         "hovertemplate": "<b>%{hovertext}</b><br><br>Cluster=5<br>%{xaxis.title.text}=%{x}<br>%{yaxis.title.text}=%{y}<extra></extra>",
         "hovertext": [
          "Josh Allen",
          "Kyler Murray",
          "Marcus Mariota"
         ],
         "legendgroup": "5",
         "marker": {
          "color": "#EF553B",
          "size": 6,
          "symbol": "circle"
         },
         "name": "5",
         "showlegend": true,
         "type": "splom"
        },
        {
         "diagonal": {
          "visible": false
         },
         "dimensions": [
          {
           "axis": {
            "matches": true
           },
           "label": "Rushing Yards Per Game",
           "values": [
            50.666666666666664
           ]
          },
          {
           "axis": {
            "matches": true
           },
           "label": "Carries Per Game",
           "values": [
            11
           ]
          },
          {
           "axis": {
            "matches": true
           },
           "label": "Yards Per Carry",
           "values": [
            4.61
           ]
          },
          {
           "axis": {
            "matches": true
           },
           "label": "Rushing Touchdowns Per Game",
           "values": [
            0.8666666666666667
           ]
          },
          {
           "axis": {
            "matches": true
           },
           "label": "Fumbles Per Game",
           "values": [
            0.6
           ]
          }
         ],
         "hovertemplate": "<b>%{hovertext}</b><br><br>Cluster=3<br>%{xaxis.title.text}=%{x}<br>%{yaxis.title.text}=%{y}<extra></extra>",
         "hovertext": [
          "Jalen Hurts"
         ],
         "legendgroup": "3",
         "marker": {
          "color": "#00cc96",
          "size": 6,
          "symbol": "circle"
         },
         "name": "3",
         "showlegend": true,
         "type": "splom"
        },
        {
         "diagonal": {
          "visible": false
         },
         "dimensions": [
          {
           "axis": {
            "matches": true
           },
           "label": "Rushing Yards Per Game",
           "values": [
            76.2
           ]
          },
          {
           "axis": {
            "matches": true
           },
           "label": "Carries Per Game",
           "values": [
            10.666666666666666
           ]
          },
          {
           "axis": {
            "matches": true
           },
           "label": "Yards Per Carry",
           "values": [
            7.14
           ]
          },
          {
           "axis": {
            "matches": true
           },
           "label": "Rushing Touchdowns Per Game",
           "values": [
            0.5333333333333333
           ]
          },
          {
           "axis": {
            "matches": true
           },
           "label": "Fumbles Per Game",
           "values": [
            1.0666666666666667
           ]
          }
         ],
         "hovertemplate": "<b>%{hovertext}</b><br><br>Cluster=6<br>%{xaxis.title.text}=%{x}<br>%{yaxis.title.text}=%{y}<extra></extra>",
         "hovertext": [
          "Justin Fields"
         ],
         "legendgroup": "6",
         "marker": {
          "color": "#ab63fa",
          "size": 6,
          "symbol": "circle"
         },
         "name": "6",
         "showlegend": true,
         "type": "splom"
        },
        {
         "diagonal": {
          "visible": false
         },
         "dimensions": [
          {
           "axis": {
            "matches": true
           },
           "label": "Rushing Yards Per Game",
           "values": [
            17.11764705882353,
            5.833333333333333,
            7.416666666666667,
            10.666666666666666
           ]
          },
          {
           "axis": {
            "matches": true
           },
           "label": "Carries Per Game",
           "values": [
            3.6470588235294117,
            2.25,
            2.5833333333333335,
            3.111111111111111
           ]
          },
          {
           "axis": {
            "matches": true
           },
           "label": "Yards Per Carry",
           "values": [
            4.69,
            2.59,
            2.87,
            3.43
           ]
          },
          {
           "axis": {
            "matches": true
           },
           "label": "Rushing Touchdowns Per Game",
           "values": [
            0.29411764705882354,
            0.08333333333333333,
            0.08333333333333333,
            0.1111111111111111
           ]
          },
          {
           "axis": {
            "matches": true
           },
           "label": "Fumbles Per Game",
           "values": [
            0.7058823529411765,
            1.25,
            0.75,
            0.7777777777777778
           ]
          }
         ],
         "hovertemplate": "<b>%{hovertext}</b><br><br>Cluster=0<br>%{xaxis.title.text}=%{x}<br>%{yaxis.title.text}=%{y}<extra></extra>",
         "hovertext": [
          "Trevor Lawrence",
          "Matt Ryan",
          "Baker Mayfield",
          "Taylor Heinicke"
         ],
         "legendgroup": "0",
         "marker": {
          "color": "#FFA15A",
          "size": 6,
          "symbol": "circle"
         },
         "name": "0",
         "showlegend": true,
         "type": "splom"
        },
        {
         "diagonal": {
          "visible": false
         },
         "dimensions": [
          {
           "axis": {
            "matches": true
           },
           "label": "Rushing Yards Per Game",
           "values": [
            5.705882352941177,
            4.294117647058823,
            8.647058823529411,
            -0.058823529411764705,
            5.529411764705882,
            5.384615384615385,
            7.2,
            3.857142857142857,
            7.285714285714286,
            3,
            8.166666666666666
           ]
          },
          {
           "axis": {
            "matches": true
           },
           "label": "Carries Per Game",
           "values": [
            1.8235294117647058,
            1.7058823529411764,
            3.176470588235294,
            1.7058823529411764,
            2,
            1.7692307692307692,
            2.1333333333333333,
            2.142857142857143,
            3.357142857142857,
            2.090909090909091,
            2.8333333333333335
           ]
          },
          {
           "axis": {
            "matches": true
           },
           "label": "Yards Per Carry",
           "values": [
            3.13,
            2.52,
            2.72,
            -0.03,
            2.76,
            3.04,
            3.38,
            1.8,
            2.17,
            1.43,
            2.88
           ]
          },
          {
           "axis": {
            "matches": true
           },
           "label": "Rushing Touchdowns Per Game",
           "values": [
            0.11764705882352941,
            0,
            0,
            0.058823529411764705,
            0.058823529411764705,
            0,
            0.13333333333333333,
            0,
            0.07142857142857142,
            0.18181818181818182,
            0.16666666666666666
           ]
          },
          {
           "axis": {
            "matches": true
           },
           "label": "Fumbles Per Game",
           "values": [
            0.4117647058823529,
            0.4117647058823529,
            0.47058823529411764,
            0.29411764705882354,
            0.47058823529411764,
            0.46153846153846156,
            0.5333333333333333,
            0.35714285714285715,
            0.35714285714285715,
            0.2727272727272727,
            0.25
           ]
          }
         ],
         "hovertemplate": "<b>%{hovertext}</b><br><br>Cluster=4<br>%{xaxis.title.text}=%{x}<br>%{yaxis.title.text}=%{y}<extra></extra>",
         "hovertext": [
          "Kirk Cousins",
          "Jared Goff",
          "Justin Herbert",
          "Tom Brady",
          "Aaron Rodgers",
          "Tua Tagovailoa",
          "Davis Mills",
          "Andy Dalton",
          "Mac Jones",
          "Jimmy Garoppolo",
          "Ryan Tannehill"
         ],
         "legendgroup": "4",
         "marker": {
          "color": "#19d3f3",
          "size": 6,
          "symbol": "circle"
         },
         "name": "4",
         "showlegend": true,
         "type": "splom"
        },
        {
         "diagonal": {
          "visible": false
         },
         "dimensions": [
          {
           "axis": {
            "matches": true
           },
           "label": "Rushing Yards Per Game",
           "values": [
            44.25,
            63.666666666666664
           ]
          },
          {
           "axis": {
            "matches": true
           },
           "label": "Carries Per Game",
           "values": [
            7.5,
            9.333333333333334
           ]
          },
          {
           "axis": {
            "matches": true
           },
           "label": "Yards Per Carry",
           "values": [
            5.9,
            6.82
           ]
          },
          {
           "axis": {
            "matches": true
           },
           "label": "Rushing Touchdowns Per Game",
           "values": [
            0.4375,
            0.25
           ]
          },
          {
           "axis": {
            "matches": true
           },
           "label": "Fumbles Per Game",
           "values": [
            0.375,
            0.4166666666666667
           ]
          }
         ],
         "hovertemplate": "<b>%{hovertext}</b><br><br>Cluster=1<br>%{xaxis.title.text}=%{x}<br>%{yaxis.title.text}=%{y}<extra></extra>",
         "hovertext": [
          "Daniel Jones",
          "Lamar Jackson"
         ],
         "legendgroup": "1",
         "marker": {
          "color": "#FF6692",
          "size": 6,
          "symbol": "circle"
         },
         "name": "1",
         "showlegend": true,
         "type": "splom"
        }
       ],
       "layout": {
        "dragmode": "select",
        "font": {
         "color": "black",
         "family": "Courier New, monospace",
         "size": 10
        },
        "height": 1000,
        "legend": {
         "title": {
          "text": "Cluster"
         },
         "tracegroupgap": 0
        },
        "margin": {
         "t": 60
        },
        "paper_bgcolor": "rgba(0,0,0,0)",
        "plot_bgcolor": "rgba(245, 245, 245, 1)",
        "showlegend": true,
        "template": {
         "data": {
          "bar": [
           {
            "error_x": {
             "color": "#2a3f5f"
            },
            "error_y": {
             "color": "#2a3f5f"
            },
            "marker": {
             "line": {
              "color": "#E5ECF6",
              "width": 0.5
             },
             "pattern": {
              "fillmode": "overlay",
              "size": 10,
              "solidity": 0.2
             }
            },
            "type": "bar"
           }
          ],
          "barpolar": [
           {
            "marker": {
             "line": {
              "color": "#E5ECF6",
              "width": 0.5
             },
             "pattern": {
              "fillmode": "overlay",
              "size": 10,
              "solidity": 0.2
             }
            },
            "type": "barpolar"
           }
          ],
          "carpet": [
           {
            "aaxis": {
             "endlinecolor": "#2a3f5f",
             "gridcolor": "white",
             "linecolor": "white",
             "minorgridcolor": "white",
             "startlinecolor": "#2a3f5f"
            },
            "baxis": {
             "endlinecolor": "#2a3f5f",
             "gridcolor": "white",
             "linecolor": "white",
             "minorgridcolor": "white",
             "startlinecolor": "#2a3f5f"
            },
            "type": "carpet"
           }
          ],
          "choropleth": [
           {
            "colorbar": {
             "outlinewidth": 0,
             "ticks": ""
            },
            "type": "choropleth"
           }
          ],
          "contour": [
           {
            "colorbar": {
             "outlinewidth": 0,
             "ticks": ""
            },
            "colorscale": [
             [
              0,
              "#0d0887"
             ],
             [
              0.1111111111111111,
              "#46039f"
             ],
             [
              0.2222222222222222,
              "#7201a8"
             ],
             [
              0.3333333333333333,
              "#9c179e"
             ],
             [
              0.4444444444444444,
              "#bd3786"
             ],
             [
              0.5555555555555556,
              "#d8576b"
             ],
             [
              0.6666666666666666,
              "#ed7953"
             ],
             [
              0.7777777777777778,
              "#fb9f3a"
             ],
             [
              0.8888888888888888,
              "#fdca26"
             ],
             [
              1,
              "#f0f921"
             ]
            ],
            "type": "contour"
           }
          ],
          "contourcarpet": [
           {
            "colorbar": {
             "outlinewidth": 0,
             "ticks": ""
            },
            "type": "contourcarpet"
           }
          ],
          "heatmap": [
           {
            "colorbar": {
             "outlinewidth": 0,
             "ticks": ""
            },
            "colorscale": [
             [
              0,
              "#0d0887"
             ],
             [
              0.1111111111111111,
              "#46039f"
             ],
             [
              0.2222222222222222,
              "#7201a8"
             ],
             [
              0.3333333333333333,
              "#9c179e"
             ],
             [
              0.4444444444444444,
              "#bd3786"
             ],
             [
              0.5555555555555556,
              "#d8576b"
             ],
             [
              0.6666666666666666,
              "#ed7953"
             ],
             [
              0.7777777777777778,
              "#fb9f3a"
             ],
             [
              0.8888888888888888,
              "#fdca26"
             ],
             [
              1,
              "#f0f921"
             ]
            ],
            "type": "heatmap"
           }
          ],
          "heatmapgl": [
           {
            "colorbar": {
             "outlinewidth": 0,
             "ticks": ""
            },
            "colorscale": [
             [
              0,
              "#0d0887"
             ],
             [
              0.1111111111111111,
              "#46039f"
             ],
             [
              0.2222222222222222,
              "#7201a8"
             ],
             [
              0.3333333333333333,
              "#9c179e"
             ],
             [
              0.4444444444444444,
              "#bd3786"
             ],
             [
              0.5555555555555556,
              "#d8576b"
             ],
             [
              0.6666666666666666,
              "#ed7953"
             ],
             [
              0.7777777777777778,
              "#fb9f3a"
             ],
             [
              0.8888888888888888,
              "#fdca26"
             ],
             [
              1,
              "#f0f921"
             ]
            ],
            "type": "heatmapgl"
           }
          ],
          "histogram": [
           {
            "marker": {
             "pattern": {
              "fillmode": "overlay",
              "size": 10,
              "solidity": 0.2
             }
            },
            "type": "histogram"
           }
          ],
          "histogram2d": [
           {
            "colorbar": {
             "outlinewidth": 0,
             "ticks": ""
            },
            "colorscale": [
             [
              0,
              "#0d0887"
             ],
             [
              0.1111111111111111,
              "#46039f"
             ],
             [
              0.2222222222222222,
              "#7201a8"
             ],
             [
              0.3333333333333333,
              "#9c179e"
             ],
             [
              0.4444444444444444,
              "#bd3786"
             ],
             [
              0.5555555555555556,
              "#d8576b"
             ],
             [
              0.6666666666666666,
              "#ed7953"
             ],
             [
              0.7777777777777778,
              "#fb9f3a"
             ],
             [
              0.8888888888888888,
              "#fdca26"
             ],
             [
              1,
              "#f0f921"
             ]
            ],
            "type": "histogram2d"
           }
          ],
          "histogram2dcontour": [
           {
            "colorbar": {
             "outlinewidth": 0,
             "ticks": ""
            },
            "colorscale": [
             [
              0,
              "#0d0887"
             ],
             [
              0.1111111111111111,
              "#46039f"
             ],
             [
              0.2222222222222222,
              "#7201a8"
             ],
             [
              0.3333333333333333,
              "#9c179e"
             ],
             [
              0.4444444444444444,
              "#bd3786"
             ],
             [
              0.5555555555555556,
              "#d8576b"
             ],
             [
              0.6666666666666666,
              "#ed7953"
             ],
             [
              0.7777777777777778,
              "#fb9f3a"
             ],
             [
              0.8888888888888888,
              "#fdca26"
             ],
             [
              1,
              "#f0f921"
             ]
            ],
            "type": "histogram2dcontour"
           }
          ],
          "mesh3d": [
           {
            "colorbar": {
             "outlinewidth": 0,
             "ticks": ""
            },
            "type": "mesh3d"
           }
          ],
          "parcoords": [
           {
            "line": {
             "colorbar": {
              "outlinewidth": 0,
              "ticks": ""
             }
            },
            "type": "parcoords"
           }
          ],
          "pie": [
           {
            "automargin": true,
            "type": "pie"
           }
          ],
          "scatter": [
           {
            "fillpattern": {
             "fillmode": "overlay",
             "size": 10,
             "solidity": 0.2
            },
            "type": "scatter"
           }
          ],
          "scatter3d": [
           {
            "line": {
             "colorbar": {
              "outlinewidth": 0,
              "ticks": ""
             }
            },
            "marker": {
             "colorbar": {
              "outlinewidth": 0,
              "ticks": ""
             }
            },
            "type": "scatter3d"
           }
          ],
          "scattercarpet": [
           {
            "marker": {
             "colorbar": {
              "outlinewidth": 0,
              "ticks": ""
             }
            },
            "type": "scattercarpet"
           }
          ],
          "scattergeo": [
           {
            "marker": {
             "colorbar": {
              "outlinewidth": 0,
              "ticks": ""
             }
            },
            "type": "scattergeo"
           }
          ],
          "scattergl": [
           {
            "marker": {
             "colorbar": {
              "outlinewidth": 0,
              "ticks": ""
             }
            },
            "type": "scattergl"
           }
          ],
          "scattermapbox": [
           {
            "marker": {
             "colorbar": {
              "outlinewidth": 0,
              "ticks": ""
             }
            },
            "type": "scattermapbox"
           }
          ],
          "scatterpolar": [
           {
            "marker": {
             "colorbar": {
              "outlinewidth": 0,
              "ticks": ""
             }
            },
            "type": "scatterpolar"
           }
          ],
          "scatterpolargl": [
           {
            "marker": {
             "colorbar": {
              "outlinewidth": 0,
              "ticks": ""
             }
            },
            "type": "scatterpolargl"
           }
          ],
          "scatterternary": [
           {
            "marker": {
             "colorbar": {
              "outlinewidth": 0,
              "ticks": ""
             }
            },
            "type": "scatterternary"
           }
          ],
          "surface": [
           {
            "colorbar": {
             "outlinewidth": 0,
             "ticks": ""
            },
            "colorscale": [
             [
              0,
              "#0d0887"
             ],
             [
              0.1111111111111111,
              "#46039f"
             ],
             [
              0.2222222222222222,
              "#7201a8"
             ],
             [
              0.3333333333333333,
              "#9c179e"
             ],
             [
              0.4444444444444444,
              "#bd3786"
             ],
             [
              0.5555555555555556,
              "#d8576b"
             ],
             [
              0.6666666666666666,
              "#ed7953"
             ],
             [
              0.7777777777777778,
              "#fb9f3a"
             ],
             [
              0.8888888888888888,
              "#fdca26"
             ],
             [
              1,
              "#f0f921"
             ]
            ],
            "type": "surface"
           }
          ],
          "table": [
           {
            "cells": {
             "fill": {
              "color": "#EBF0F8"
             },
             "line": {
              "color": "white"
             }
            },
            "header": {
             "fill": {
              "color": "#C8D4E3"
             },
             "line": {
              "color": "white"
             }
            },
            "type": "table"
           }
          ]
         },
         "layout": {
          "annotationdefaults": {
           "arrowcolor": "#2a3f5f",
           "arrowhead": 0,
           "arrowwidth": 1
          },
          "autotypenumbers": "strict",
          "coloraxis": {
           "colorbar": {
            "outlinewidth": 0,
            "ticks": ""
           }
          },
          "colorscale": {
           "diverging": [
            [
             0,
             "#8e0152"
            ],
            [
             0.1,
             "#c51b7d"
            ],
            [
             0.2,
             "#de77ae"
            ],
            [
             0.3,
             "#f1b6da"
            ],
            [
             0.4,
             "#fde0ef"
            ],
            [
             0.5,
             "#f7f7f7"
            ],
            [
             0.6,
             "#e6f5d0"
            ],
            [
             0.7,
             "#b8e186"
            ],
            [
             0.8,
             "#7fbc41"
            ],
            [
             0.9,
             "#4d9221"
            ],
            [
             1,
             "#276419"
            ]
           ],
           "sequential": [
            [
             0,
             "#0d0887"
            ],
            [
             0.1111111111111111,
             "#46039f"
            ],
            [
             0.2222222222222222,
             "#7201a8"
            ],
            [
             0.3333333333333333,
             "#9c179e"
            ],
            [
             0.4444444444444444,
             "#bd3786"
            ],
            [
             0.5555555555555556,
             "#d8576b"
            ],
            [
             0.6666666666666666,
             "#ed7953"
            ],
            [
             0.7777777777777778,
             "#fb9f3a"
            ],
            [
             0.8888888888888888,
             "#fdca26"
            ],
            [
             1,
             "#f0f921"
            ]
           ],
           "sequentialminus": [
            [
             0,
             "#0d0887"
            ],
            [
             0.1111111111111111,
             "#46039f"
            ],
            [
             0.2222222222222222,
             "#7201a8"
            ],
            [
             0.3333333333333333,
             "#9c179e"
            ],
            [
             0.4444444444444444,
             "#bd3786"
            ],
            [
             0.5555555555555556,
             "#d8576b"
            ],
            [
             0.6666666666666666,
             "#ed7953"
            ],
            [
             0.7777777777777778,
             "#fb9f3a"
            ],
            [
             0.8888888888888888,
             "#fdca26"
            ],
            [
             1,
             "#f0f921"
            ]
           ]
          },
          "colorway": [
           "#636efa",
           "#EF553B",
           "#00cc96",
           "#ab63fa",
           "#FFA15A",
           "#19d3f3",
           "#FF6692",
           "#B6E880",
           "#FF97FF",
           "#FECB52"
          ],
          "font": {
           "color": "#2a3f5f"
          },
          "geo": {
           "bgcolor": "white",
           "lakecolor": "white",
           "landcolor": "#E5ECF6",
           "showlakes": true,
           "showland": true,
           "subunitcolor": "white"
          },
          "hoverlabel": {
           "align": "left"
          },
          "hovermode": "closest",
          "mapbox": {
           "style": "light"
          },
          "paper_bgcolor": "white",
          "plot_bgcolor": "#E5ECF6",
          "polar": {
           "angularaxis": {
            "gridcolor": "white",
            "linecolor": "white",
            "ticks": ""
           },
           "bgcolor": "#E5ECF6",
           "radialaxis": {
            "gridcolor": "white",
            "linecolor": "white",
            "ticks": ""
           }
          },
          "scene": {
           "xaxis": {
            "backgroundcolor": "#E5ECF6",
            "gridcolor": "white",
            "gridwidth": 2,
            "linecolor": "white",
            "showbackground": true,
            "ticks": "",
            "zerolinecolor": "white"
           },
           "yaxis": {
            "backgroundcolor": "#E5ECF6",
            "gridcolor": "white",
            "gridwidth": 2,
            "linecolor": "white",
            "showbackground": true,
            "ticks": "",
            "zerolinecolor": "white"
           },
           "zaxis": {
            "backgroundcolor": "#E5ECF6",
            "gridcolor": "white",
            "gridwidth": 2,
            "linecolor": "white",
            "showbackground": true,
            "ticks": "",
            "zerolinecolor": "white"
           }
          },
          "shapedefaults": {
           "line": {
            "color": "#2a3f5f"
           }
          },
          "ternary": {
           "aaxis": {
            "gridcolor": "white",
            "linecolor": "white",
            "ticks": ""
           },
           "baxis": {
            "gridcolor": "white",
            "linecolor": "white",
            "ticks": ""
           },
           "bgcolor": "#E5ECF6",
           "caxis": {
            "gridcolor": "white",
            "linecolor": "white",
            "ticks": ""
           }
          },
          "title": {
           "x": 0.05
          },
          "xaxis": {
           "automargin": true,
           "gridcolor": "white",
           "linecolor": "white",
           "ticks": "",
           "title": {
            "standoff": 15
           },
           "zerolinecolor": "white",
           "zerolinewidth": 2
          },
          "yaxis": {
           "automargin": true,
           "gridcolor": "white",
           "linecolor": "white",
           "ticks": "",
           "title": {
            "standoff": 15
           },
           "zerolinecolor": "white",
           "zerolinewidth": 2
          }
         }
        },
        "width": 1000,
        "xaxis": {
         "gridcolor": "rgba(200, 200, 200, 0.5)",
         "gridwidth": 0.5,
         "showgrid": true
        },
        "yaxis": {
         "gridcolor": "rgba(200, 200, 200, 0.5)",
         "gridwidth": 0.5,
         "showgrid": true
        }
       }
      },
      "text/html": [
       "<div>                            <div id=\"0db74272-c0b6-448b-af0a-dff64be59d6f\" class=\"plotly-graph-div\" style=\"height:1000px; width:1000px;\"></div>            <script type=\"text/javascript\">                require([\"plotly\"], function(Plotly) {                    window.PLOTLYENV=window.PLOTLYENV || {};                                    if (document.getElementById(\"0db74272-c0b6-448b-af0a-dff64be59d6f\")) {                    Plotly.newPlot(                        \"0db74272-c0b6-448b-af0a-dff64be59d6f\",                        [{\"dimensions\":[{\"axis\":{\"matches\":true},\"label\":\"Rushing Yards Per Game\",\"values\":[21.058823529411764,16.0625,21.529411764705884,18.466666666666665,6.8,15.166666666666666,15.1875,18.23076923076923]},{\"axis\":{\"matches\":true},\"label\":\"Carries Per Game\",\"values\":[3.588235294117647,4.6875,4.0,3.6666666666666665,1.6,3.75,3.0625,4.230769230769231]},{\"axis\":{\"matches\":true},\"label\":\"Yards Per Carry\",\"values\":[5.87,3.43,5.38,5.04,4.25,4.04,4.96,4.31]},{\"axis\":{\"matches\":true},\"label\":\"Rushing Touchdowns Per Game\",\"values\":[0.23529411764705882,0.3125,0.058823529411764705,0.2,0.0,0.08333333333333333,0.125,0.23076923076923078]},{\"axis\":{\"matches\":true},\"label\":\"Fumbles Per Game\",\"values\":[0.29411764705882354,0.375,0.47058823529411764,0.4,0.26666666666666666,0.3333333333333333,0.375,0.3076923076923077]}],\"hovertemplate\":\"\\u003cb\\u003e%{hovertext}\\u003c\\u002fb\\u003e\\u003cbr\\u003e\\u003cbr\\u003eCluster=2\\u003cbr\\u003e%{xaxis.title.text}=%{x}\\u003cbr\\u003e%{yaxis.title.text}=%{y}\\u003cextra\\u003e\\u003c\\u002fextra\\u003e\",\"hovertext\":[\"Patrick Mahomes\",\"Joe Burrow\",\"Geno Smith\",\"Russell Wilson\",\"Derek Carr\",\"Dak Prescott\",\"Jacoby Brissett\",\"Kenny Pickett\"],\"legendgroup\":\"2\",\"marker\":{\"color\":\"#636efa\",\"symbol\":\"circle\",\"size\":6},\"name\":\"2\",\"showlegend\":true,\"type\":\"splom\",\"diagonal\":{\"visible\":false}},{\"dimensions\":[{\"axis\":{\"matches\":true},\"label\":\"Rushing Yards Per Game\",\"values\":[47.625,38.0,33.69230769230769]},{\"axis\":{\"matches\":true},\"label\":\"Carries Per Game\",\"values\":[7.75,6.090909090909091,6.538461538461538]},{\"axis\":{\"matches\":true},\"label\":\"Yards Per Carry\",\"values\":[6.15,6.24,5.15]},{\"axis\":{\"matches\":true},\"label\":\"Rushing Touchdowns Per Game\",\"values\":[0.4375,0.2727272727272727,0.3076923076923077]},{\"axis\":{\"matches\":true},\"label\":\"Fumbles Per Game\",\"values\":[0.8125,0.7272727272727273,0.6153846153846154]}],\"hovertemplate\":\"\\u003cb\\u003e%{hovertext}\\u003c\\u002fb\\u003e\\u003cbr\\u003e\\u003cbr\\u003eCluster=5\\u003cbr\\u003e%{xaxis.title.text}=%{x}\\u003cbr\\u003e%{yaxis.title.text}=%{y}\\u003cextra\\u003e\\u003c\\u002fextra\\u003e\",\"hovertext\":[\"Josh Allen\",\"Kyler Murray\",\"Marcus Mariota\"],\"legendgroup\":\"5\",\"marker\":{\"color\":\"#EF553B\",\"symbol\":\"circle\",\"size\":6},\"name\":\"5\",\"showlegend\":true,\"type\":\"splom\",\"diagonal\":{\"visible\":false}},{\"dimensions\":[{\"axis\":{\"matches\":true},\"label\":\"Rushing Yards Per Game\",\"values\":[50.666666666666664]},{\"axis\":{\"matches\":true},\"label\":\"Carries Per Game\",\"values\":[11.0]},{\"axis\":{\"matches\":true},\"label\":\"Yards Per Carry\",\"values\":[4.61]},{\"axis\":{\"matches\":true},\"label\":\"Rushing Touchdowns Per Game\",\"values\":[0.8666666666666667]},{\"axis\":{\"matches\":true},\"label\":\"Fumbles Per Game\",\"values\":[0.6]}],\"hovertemplate\":\"\\u003cb\\u003e%{hovertext}\\u003c\\u002fb\\u003e\\u003cbr\\u003e\\u003cbr\\u003eCluster=3\\u003cbr\\u003e%{xaxis.title.text}=%{x}\\u003cbr\\u003e%{yaxis.title.text}=%{y}\\u003cextra\\u003e\\u003c\\u002fextra\\u003e\",\"hovertext\":[\"Jalen Hurts\"],\"legendgroup\":\"3\",\"marker\":{\"color\":\"#00cc96\",\"symbol\":\"circle\",\"size\":6},\"name\":\"3\",\"showlegend\":true,\"type\":\"splom\",\"diagonal\":{\"visible\":false}},{\"dimensions\":[{\"axis\":{\"matches\":true},\"label\":\"Rushing Yards Per Game\",\"values\":[76.2]},{\"axis\":{\"matches\":true},\"label\":\"Carries Per Game\",\"values\":[10.666666666666666]},{\"axis\":{\"matches\":true},\"label\":\"Yards Per Carry\",\"values\":[7.14]},{\"axis\":{\"matches\":true},\"label\":\"Rushing Touchdowns Per Game\",\"values\":[0.5333333333333333]},{\"axis\":{\"matches\":true},\"label\":\"Fumbles Per Game\",\"values\":[1.0666666666666667]}],\"hovertemplate\":\"\\u003cb\\u003e%{hovertext}\\u003c\\u002fb\\u003e\\u003cbr\\u003e\\u003cbr\\u003eCluster=6\\u003cbr\\u003e%{xaxis.title.text}=%{x}\\u003cbr\\u003e%{yaxis.title.text}=%{y}\\u003cextra\\u003e\\u003c\\u002fextra\\u003e\",\"hovertext\":[\"Justin Fields\"],\"legendgroup\":\"6\",\"marker\":{\"color\":\"#ab63fa\",\"symbol\":\"circle\",\"size\":6},\"name\":\"6\",\"showlegend\":true,\"type\":\"splom\",\"diagonal\":{\"visible\":false}},{\"dimensions\":[{\"axis\":{\"matches\":true},\"label\":\"Rushing Yards Per Game\",\"values\":[17.11764705882353,5.833333333333333,7.416666666666667,10.666666666666666]},{\"axis\":{\"matches\":true},\"label\":\"Carries Per Game\",\"values\":[3.6470588235294117,2.25,2.5833333333333335,3.111111111111111]},{\"axis\":{\"matches\":true},\"label\":\"Yards Per Carry\",\"values\":[4.69,2.59,2.87,3.43]},{\"axis\":{\"matches\":true},\"label\":\"Rushing Touchdowns Per Game\",\"values\":[0.29411764705882354,0.08333333333333333,0.08333333333333333,0.1111111111111111]},{\"axis\":{\"matches\":true},\"label\":\"Fumbles Per Game\",\"values\":[0.7058823529411765,1.25,0.75,0.7777777777777778]}],\"hovertemplate\":\"\\u003cb\\u003e%{hovertext}\\u003c\\u002fb\\u003e\\u003cbr\\u003e\\u003cbr\\u003eCluster=0\\u003cbr\\u003e%{xaxis.title.text}=%{x}\\u003cbr\\u003e%{yaxis.title.text}=%{y}\\u003cextra\\u003e\\u003c\\u002fextra\\u003e\",\"hovertext\":[\"Trevor Lawrence\",\"Matt Ryan\",\"Baker Mayfield\",\"Taylor Heinicke\"],\"legendgroup\":\"0\",\"marker\":{\"color\":\"#FFA15A\",\"symbol\":\"circle\",\"size\":6},\"name\":\"0\",\"showlegend\":true,\"type\":\"splom\",\"diagonal\":{\"visible\":false}},{\"dimensions\":[{\"axis\":{\"matches\":true},\"label\":\"Rushing Yards Per Game\",\"values\":[5.705882352941177,4.294117647058823,8.647058823529411,-0.058823529411764705,5.529411764705882,5.384615384615385,7.2,3.857142857142857,7.285714285714286,3.0,8.166666666666666]},{\"axis\":{\"matches\":true},\"label\":\"Carries Per Game\",\"values\":[1.8235294117647058,1.7058823529411764,3.176470588235294,1.7058823529411764,2.0,1.7692307692307692,2.1333333333333333,2.142857142857143,3.357142857142857,2.090909090909091,2.8333333333333335]},{\"axis\":{\"matches\":true},\"label\":\"Yards Per Carry\",\"values\":[3.13,2.52,2.72,-0.03,2.76,3.04,3.38,1.8,2.17,1.43,2.88]},{\"axis\":{\"matches\":true},\"label\":\"Rushing Touchdowns Per Game\",\"values\":[0.11764705882352941,0.0,0.0,0.058823529411764705,0.058823529411764705,0.0,0.13333333333333333,0.0,0.07142857142857142,0.18181818181818182,0.16666666666666666]},{\"axis\":{\"matches\":true},\"label\":\"Fumbles Per Game\",\"values\":[0.4117647058823529,0.4117647058823529,0.47058823529411764,0.29411764705882354,0.47058823529411764,0.46153846153846156,0.5333333333333333,0.35714285714285715,0.35714285714285715,0.2727272727272727,0.25]}],\"hovertemplate\":\"\\u003cb\\u003e%{hovertext}\\u003c\\u002fb\\u003e\\u003cbr\\u003e\\u003cbr\\u003eCluster=4\\u003cbr\\u003e%{xaxis.title.text}=%{x}\\u003cbr\\u003e%{yaxis.title.text}=%{y}\\u003cextra\\u003e\\u003c\\u002fextra\\u003e\",\"hovertext\":[\"Kirk Cousins\",\"Jared Goff\",\"Justin Herbert\",\"Tom Brady\",\"Aaron Rodgers\",\"Tua Tagovailoa\",\"Davis Mills\",\"Andy Dalton\",\"Mac Jones\",\"Jimmy Garoppolo\",\"Ryan Tannehill\"],\"legendgroup\":\"4\",\"marker\":{\"color\":\"#19d3f3\",\"symbol\":\"circle\",\"size\":6},\"name\":\"4\",\"showlegend\":true,\"type\":\"splom\",\"diagonal\":{\"visible\":false}},{\"dimensions\":[{\"axis\":{\"matches\":true},\"label\":\"Rushing Yards Per Game\",\"values\":[44.25,63.666666666666664]},{\"axis\":{\"matches\":true},\"label\":\"Carries Per Game\",\"values\":[7.5,9.333333333333334]},{\"axis\":{\"matches\":true},\"label\":\"Yards Per Carry\",\"values\":[5.9,6.82]},{\"axis\":{\"matches\":true},\"label\":\"Rushing Touchdowns Per Game\",\"values\":[0.4375,0.25]},{\"axis\":{\"matches\":true},\"label\":\"Fumbles Per Game\",\"values\":[0.375,0.4166666666666667]}],\"hovertemplate\":\"\\u003cb\\u003e%{hovertext}\\u003c\\u002fb\\u003e\\u003cbr\\u003e\\u003cbr\\u003eCluster=1\\u003cbr\\u003e%{xaxis.title.text}=%{x}\\u003cbr\\u003e%{yaxis.title.text}=%{y}\\u003cextra\\u003e\\u003c\\u002fextra\\u003e\",\"hovertext\":[\"Daniel Jones\",\"Lamar Jackson\"],\"legendgroup\":\"1\",\"marker\":{\"color\":\"#FF6692\",\"symbol\":\"circle\",\"size\":6},\"name\":\"1\",\"showlegend\":true,\"type\":\"splom\",\"diagonal\":{\"visible\":false}}],                        {\"template\":{\"data\":{\"histogram2dcontour\":[{\"type\":\"histogram2dcontour\",\"colorbar\":{\"outlinewidth\":0,\"ticks\":\"\"},\"colorscale\":[[0.0,\"#0d0887\"],[0.1111111111111111,\"#46039f\"],[0.2222222222222222,\"#7201a8\"],[0.3333333333333333,\"#9c179e\"],[0.4444444444444444,\"#bd3786\"],[0.5555555555555556,\"#d8576b\"],[0.6666666666666666,\"#ed7953\"],[0.7777777777777778,\"#fb9f3a\"],[0.8888888888888888,\"#fdca26\"],[1.0,\"#f0f921\"]]}],\"choropleth\":[{\"type\":\"choropleth\",\"colorbar\":{\"outlinewidth\":0,\"ticks\":\"\"}}],\"histogram2d\":[{\"type\":\"histogram2d\",\"colorbar\":{\"outlinewidth\":0,\"ticks\":\"\"},\"colorscale\":[[0.0,\"#0d0887\"],[0.1111111111111111,\"#46039f\"],[0.2222222222222222,\"#7201a8\"],[0.3333333333333333,\"#9c179e\"],[0.4444444444444444,\"#bd3786\"],[0.5555555555555556,\"#d8576b\"],[0.6666666666666666,\"#ed7953\"],[0.7777777777777778,\"#fb9f3a\"],[0.8888888888888888,\"#fdca26\"],[1.0,\"#f0f921\"]]}],\"heatmap\":[{\"type\":\"heatmap\",\"colorbar\":{\"outlinewidth\":0,\"ticks\":\"\"},\"colorscale\":[[0.0,\"#0d0887\"],[0.1111111111111111,\"#46039f\"],[0.2222222222222222,\"#7201a8\"],[0.3333333333333333,\"#9c179e\"],[0.4444444444444444,\"#bd3786\"],[0.5555555555555556,\"#d8576b\"],[0.6666666666666666,\"#ed7953\"],[0.7777777777777778,\"#fb9f3a\"],[0.8888888888888888,\"#fdca26\"],[1.0,\"#f0f921\"]]}],\"heatmapgl\":[{\"type\":\"heatmapgl\",\"colorbar\":{\"outlinewidth\":0,\"ticks\":\"\"},\"colorscale\":[[0.0,\"#0d0887\"],[0.1111111111111111,\"#46039f\"],[0.2222222222222222,\"#7201a8\"],[0.3333333333333333,\"#9c179e\"],[0.4444444444444444,\"#bd3786\"],[0.5555555555555556,\"#d8576b\"],[0.6666666666666666,\"#ed7953\"],[0.7777777777777778,\"#fb9f3a\"],[0.8888888888888888,\"#fdca26\"],[1.0,\"#f0f921\"]]}],\"contourcarpet\":[{\"type\":\"contourcarpet\",\"colorbar\":{\"outlinewidth\":0,\"ticks\":\"\"}}],\"contour\":[{\"type\":\"contour\",\"colorbar\":{\"outlinewidth\":0,\"ticks\":\"\"},\"colorscale\":[[0.0,\"#0d0887\"],[0.1111111111111111,\"#46039f\"],[0.2222222222222222,\"#7201a8\"],[0.3333333333333333,\"#9c179e\"],[0.4444444444444444,\"#bd3786\"],[0.5555555555555556,\"#d8576b\"],[0.6666666666666666,\"#ed7953\"],[0.7777777777777778,\"#fb9f3a\"],[0.8888888888888888,\"#fdca26\"],[1.0,\"#f0f921\"]]}],\"surface\":[{\"type\":\"surface\",\"colorbar\":{\"outlinewidth\":0,\"ticks\":\"\"},\"colorscale\":[[0.0,\"#0d0887\"],[0.1111111111111111,\"#46039f\"],[0.2222222222222222,\"#7201a8\"],[0.3333333333333333,\"#9c179e\"],[0.4444444444444444,\"#bd3786\"],[0.5555555555555556,\"#d8576b\"],[0.6666666666666666,\"#ed7953\"],[0.7777777777777778,\"#fb9f3a\"],[0.8888888888888888,\"#fdca26\"],[1.0,\"#f0f921\"]]}],\"mesh3d\":[{\"type\":\"mesh3d\",\"colorbar\":{\"outlinewidth\":0,\"ticks\":\"\"}}],\"scatter\":[{\"fillpattern\":{\"fillmode\":\"overlay\",\"size\":10,\"solidity\":0.2},\"type\":\"scatter\"}],\"parcoords\":[{\"type\":\"parcoords\",\"line\":{\"colorbar\":{\"outlinewidth\":0,\"ticks\":\"\"}}}],\"scatterpolargl\":[{\"type\":\"scatterpolargl\",\"marker\":{\"colorbar\":{\"outlinewidth\":0,\"ticks\":\"\"}}}],\"bar\":[{\"error_x\":{\"color\":\"#2a3f5f\"},\"error_y\":{\"color\":\"#2a3f5f\"},\"marker\":{\"line\":{\"color\":\"#E5ECF6\",\"width\":0.5},\"pattern\":{\"fillmode\":\"overlay\",\"size\":10,\"solidity\":0.2}},\"type\":\"bar\"}],\"scattergeo\":[{\"type\":\"scattergeo\",\"marker\":{\"colorbar\":{\"outlinewidth\":0,\"ticks\":\"\"}}}],\"scatterpolar\":[{\"type\":\"scatterpolar\",\"marker\":{\"colorbar\":{\"outlinewidth\":0,\"ticks\":\"\"}}}],\"histogram\":[{\"marker\":{\"pattern\":{\"fillmode\":\"overlay\",\"size\":10,\"solidity\":0.2}},\"type\":\"histogram\"}],\"scattergl\":[{\"type\":\"scattergl\",\"marker\":{\"colorbar\":{\"outlinewidth\":0,\"ticks\":\"\"}}}],\"scatter3d\":[{\"type\":\"scatter3d\",\"line\":{\"colorbar\":{\"outlinewidth\":0,\"ticks\":\"\"}},\"marker\":{\"colorbar\":{\"outlinewidth\":0,\"ticks\":\"\"}}}],\"scattermapbox\":[{\"type\":\"scattermapbox\",\"marker\":{\"colorbar\":{\"outlinewidth\":0,\"ticks\":\"\"}}}],\"scatterternary\":[{\"type\":\"scatterternary\",\"marker\":{\"colorbar\":{\"outlinewidth\":0,\"ticks\":\"\"}}}],\"scattercarpet\":[{\"type\":\"scattercarpet\",\"marker\":{\"colorbar\":{\"outlinewidth\":0,\"ticks\":\"\"}}}],\"carpet\":[{\"aaxis\":{\"endlinecolor\":\"#2a3f5f\",\"gridcolor\":\"white\",\"linecolor\":\"white\",\"minorgridcolor\":\"white\",\"startlinecolor\":\"#2a3f5f\"},\"baxis\":{\"endlinecolor\":\"#2a3f5f\",\"gridcolor\":\"white\",\"linecolor\":\"white\",\"minorgridcolor\":\"white\",\"startlinecolor\":\"#2a3f5f\"},\"type\":\"carpet\"}],\"table\":[{\"cells\":{\"fill\":{\"color\":\"#EBF0F8\"},\"line\":{\"color\":\"white\"}},\"header\":{\"fill\":{\"color\":\"#C8D4E3\"},\"line\":{\"color\":\"white\"}},\"type\":\"table\"}],\"barpolar\":[{\"marker\":{\"line\":{\"color\":\"#E5ECF6\",\"width\":0.5},\"pattern\":{\"fillmode\":\"overlay\",\"size\":10,\"solidity\":0.2}},\"type\":\"barpolar\"}],\"pie\":[{\"automargin\":true,\"type\":\"pie\"}]},\"layout\":{\"autotypenumbers\":\"strict\",\"colorway\":[\"#636efa\",\"#EF553B\",\"#00cc96\",\"#ab63fa\",\"#FFA15A\",\"#19d3f3\",\"#FF6692\",\"#B6E880\",\"#FF97FF\",\"#FECB52\"],\"font\":{\"color\":\"#2a3f5f\"},\"hovermode\":\"closest\",\"hoverlabel\":{\"align\":\"left\"},\"paper_bgcolor\":\"white\",\"plot_bgcolor\":\"#E5ECF6\",\"polar\":{\"bgcolor\":\"#E5ECF6\",\"angularaxis\":{\"gridcolor\":\"white\",\"linecolor\":\"white\",\"ticks\":\"\"},\"radialaxis\":{\"gridcolor\":\"white\",\"linecolor\":\"white\",\"ticks\":\"\"}},\"ternary\":{\"bgcolor\":\"#E5ECF6\",\"aaxis\":{\"gridcolor\":\"white\",\"linecolor\":\"white\",\"ticks\":\"\"},\"baxis\":{\"gridcolor\":\"white\",\"linecolor\":\"white\",\"ticks\":\"\"},\"caxis\":{\"gridcolor\":\"white\",\"linecolor\":\"white\",\"ticks\":\"\"}},\"coloraxis\":{\"colorbar\":{\"outlinewidth\":0,\"ticks\":\"\"}},\"colorscale\":{\"sequential\":[[0.0,\"#0d0887\"],[0.1111111111111111,\"#46039f\"],[0.2222222222222222,\"#7201a8\"],[0.3333333333333333,\"#9c179e\"],[0.4444444444444444,\"#bd3786\"],[0.5555555555555556,\"#d8576b\"],[0.6666666666666666,\"#ed7953\"],[0.7777777777777778,\"#fb9f3a\"],[0.8888888888888888,\"#fdca26\"],[1.0,\"#f0f921\"]],\"sequentialminus\":[[0.0,\"#0d0887\"],[0.1111111111111111,\"#46039f\"],[0.2222222222222222,\"#7201a8\"],[0.3333333333333333,\"#9c179e\"],[0.4444444444444444,\"#bd3786\"],[0.5555555555555556,\"#d8576b\"],[0.6666666666666666,\"#ed7953\"],[0.7777777777777778,\"#fb9f3a\"],[0.8888888888888888,\"#fdca26\"],[1.0,\"#f0f921\"]],\"diverging\":[[0,\"#8e0152\"],[0.1,\"#c51b7d\"],[0.2,\"#de77ae\"],[0.3,\"#f1b6da\"],[0.4,\"#fde0ef\"],[0.5,\"#f7f7f7\"],[0.6,\"#e6f5d0\"],[0.7,\"#b8e186\"],[0.8,\"#7fbc41\"],[0.9,\"#4d9221\"],[1,\"#276419\"]]},\"xaxis\":{\"gridcolor\":\"white\",\"linecolor\":\"white\",\"ticks\":\"\",\"title\":{\"standoff\":15},\"zerolinecolor\":\"white\",\"automargin\":true,\"zerolinewidth\":2},\"yaxis\":{\"gridcolor\":\"white\",\"linecolor\":\"white\",\"ticks\":\"\",\"title\":{\"standoff\":15},\"zerolinecolor\":\"white\",\"automargin\":true,\"zerolinewidth\":2},\"scene\":{\"xaxis\":{\"backgroundcolor\":\"#E5ECF6\",\"gridcolor\":\"white\",\"linecolor\":\"white\",\"showbackground\":true,\"ticks\":\"\",\"zerolinecolor\":\"white\",\"gridwidth\":2},\"yaxis\":{\"backgroundcolor\":\"#E5ECF6\",\"gridcolor\":\"white\",\"linecolor\":\"white\",\"showbackground\":true,\"ticks\":\"\",\"zerolinecolor\":\"white\",\"gridwidth\":2},\"zaxis\":{\"backgroundcolor\":\"#E5ECF6\",\"gridcolor\":\"white\",\"linecolor\":\"white\",\"showbackground\":true,\"ticks\":\"\",\"zerolinecolor\":\"white\",\"gridwidth\":2}},\"shapedefaults\":{\"line\":{\"color\":\"#2a3f5f\"}},\"annotationdefaults\":{\"arrowcolor\":\"#2a3f5f\",\"arrowhead\":0,\"arrowwidth\":1},\"geo\":{\"bgcolor\":\"white\",\"landcolor\":\"#E5ECF6\",\"subunitcolor\":\"white\",\"showland\":true,\"showlakes\":true,\"lakecolor\":\"white\"},\"title\":{\"x\":0.05},\"mapbox\":{\"style\":\"light\"}}},\"legend\":{\"title\":{\"text\":\"Cluster\"},\"tracegroupgap\":0},\"margin\":{\"t\":60},\"dragmode\":\"select\",\"font\":{\"family\":\"Courier New, monospace\",\"size\":10,\"color\":\"black\"},\"paper_bgcolor\":\"rgba(0,0,0,0)\",\"plot_bgcolor\":\"rgba(245, 245, 245, 1)\",\"showlegend\":true,\"xaxis\":{\"showgrid\":true,\"gridwidth\":0.5,\"gridcolor\":\"rgba(200, 200, 200, 0.5)\"},\"yaxis\":{\"showgrid\":true,\"gridwidth\":0.5,\"gridcolor\":\"rgba(200, 200, 200, 0.5)\"},\"width\":1000,\"height\":1000},                        {\"responsive\": true}                    ).then(function(){\n",
       "                            \n",
       "var gd = document.getElementById('0db74272-c0b6-448b-af0a-dff64be59d6f');\n",
       "var x = new MutationObserver(function (mutations, observer) {{\n",
       "        var display = window.getComputedStyle(gd).display;\n",
       "        if (!display || display === 'none') {{\n",
       "            console.log([gd, 'removed!']);\n",
       "            Plotly.purge(gd);\n",
       "            observer.disconnect();\n",
       "        }}\n",
       "}});\n",
       "\n",
       "// Listen for the removal of the full notebook cells\n",
       "var notebookContainer = gd.closest('#notebook-container');\n",
       "if (notebookContainer) {{\n",
       "    x.observe(notebookContainer, {childList: true});\n",
       "}}\n",
       "\n",
       "// Listen for the clearing of the current output cell\n",
       "var outputEl = gd.closest('.output');\n",
       "if (outputEl) {{\n",
       "    x.observe(outputEl, {childList: true});\n",
       "}}\n",
       "\n",
       "                        })                };                });            </script>        </div>"
      ]
     },
     "metadata": {},
     "output_type": "display_data"
    }
   ],
   "source": [
    "graph_pair_plot_plotly(df=df_7, cluster_rankings=cluster_ranking_7,\n",
    "                       position=position, stats=stats, \n",
    "                       save_suffix=suffix, font_size=font_size, marker_size=marker_size,\n",
    "                       height=dim, width=dim\n",
    "                      )"
   ]
  },
  {
   "cell_type": "code",
   "execution_count": 49,
   "id": "9429dca3",
   "metadata": {},
   "outputs": [
    {
     "name": "stdout",
     "output_type": "stream",
     "text": [
      "<div style='display: flex; justify-content: space-evenly;''>\n",
      "\t<div>\n",
      "\t\t<b>Cluster 0 ()</b>\n",
      "\t\t<ul class='bullet-list'>\n",
      "\t\t\t<li>Trevor Lawrence</li>\n",
      "\t\t\t<li>Matt Ryan</li>\n",
      "\t\t\t<li>Baker Mayfield</li>\n",
      "\t\t\t<li>Taylor Heinicke</li>\n",
      "\t\t</ul>\n",
      "\t</div>\n",
      "\n",
      "\t<div>\n",
      "\t\t<b>Cluster 1 ()</b>\n",
      "\t\t<ul class='bullet-list'>\n",
      "\t\t\t<li>Daniel Jones</li>\n",
      "\t\t\t<li>Lamar Jackson</li>\n",
      "\t\t</ul>\n",
      "\t</div>\n",
      "\n",
      "\t<div>\n",
      "\t\t<b>Cluster 2 ()</b>\n",
      "\t\t<ul class='bullet-list'>\n",
      "\t\t\t<li>Patrick Mahomes</li>\n",
      "\t\t\t<li>Joe Burrow</li>\n",
      "\t\t\t<li>Geno Smith</li>\n",
      "\t\t\t<li>Russell Wilson</li>\n",
      "\t\t\t<li>Derek Carr</li>\n",
      "\t\t\t<li>Dak Prescott</li>\n",
      "\t\t\t<li>Jacoby Brissett</li>\n",
      "\t\t\t<li>Kenny Pickett</li>\n",
      "\t\t</ul>\n",
      "\t</div>\n",
      "\n",
      "\t<div>\n",
      "\t\t<b>Cluster 3 ()</b>\n",
      "\t\t<ul class='bullet-list'>\n",
      "\t\t\t<li>Jalen Hurts</li>\n",
      "\t\t</ul>\n",
      "\t</div>\n",
      "\n",
      "\t<div>\n",
      "\t\t<b>Cluster 4 ()</b>\n",
      "\t\t<ul class='bullet-list'>\n",
      "\t\t\t<li>Kirk Cousins</li>\n",
      "\t\t\t<li>Jared Goff</li>\n",
      "\t\t\t<li>Justin Herbert</li>\n",
      "\t\t\t<li>Tom Brady</li>\n",
      "\t\t\t<li>Aaron Rodgers</li>\n",
      "\t\t\t<li>Tua Tagovailoa</li>\n",
      "\t\t\t<li>Davis Mills</li>\n",
      "\t\t\t<li>Andy Dalton</li>\n",
      "\t\t\t<li>Mac Jones</li>\n",
      "\t\t\t<li>Jimmy Garoppolo</li>\n",
      "\t\t\t<li>Ryan Tannehill</li>\n",
      "\t\t</ul>\n",
      "\t</div>\n",
      "\n",
      "\t<div>\n",
      "\t\t<b>Cluster 5 ()</b>\n",
      "\t\t<ul class='bullet-list'>\n",
      "\t\t\t<li>Josh Allen</li>\n",
      "\t\t\t<li>Kyler Murray</li>\n",
      "\t\t\t<li>Marcus Mariota</li>\n",
      "\t\t</ul>\n",
      "\t</div>\n",
      "\n",
      "\t<div>\n",
      "\t\t<b>Cluster 6 ()</b>\n",
      "\t\t<ul class='bullet-list'>\n",
      "\t\t\t<li>Justin Fields</li>\n",
      "\t\t</ul>\n",
      "\t</div>\n",
      "</div>\n",
      "<p class='blog-p-tag'>\n",
      "\tTODO:\n",
      "\t<ul class='bullet-list'>\n",
      "\t\t<li><b>Cluster 0:</b> TODO</li>\n",
      "\t\t<li><b>Cluster 1:</b> TODO</li>\n",
      "\t\t<li><b>Cluster 2:</b> TODO</li>\n",
      "\t\t<li><b>Cluster 3:</b> TODO</li>\n",
      "\t\t<li><b>Cluster 4:</b> TODO</li>\n",
      "\t\t<li><b>Cluster 5:</b> TODO</li>\n",
      "\t\t<li><b>Cluster 6:</b> TODO</li>\n",
      "\t</ul>\n",
      "</p>\n",
      "<p class=\"blog-p-tag\">\n",
      "    TODO\n",
      "</p>\n",
      "    \n"
     ]
    }
   ],
   "source": [
    "create_cluster_html_tiers(df_7)"
   ]
  },
  {
   "cell_type": "code",
   "execution_count": null,
   "id": "5bbf6310",
   "metadata": {},
   "outputs": [],
   "source": []
  }
 ],
 "metadata": {
  "kernelspec": {
   "display_name": "plotly",
   "language": "python",
   "name": "plotly"
  },
  "language_info": {
   "codemirror_mode": {
    "name": "ipython",
    "version": 3
   },
   "file_extension": ".py",
   "mimetype": "text/x-python",
   "name": "python",
   "nbconvert_exporter": "python",
   "pygments_lexer": "ipython3",
   "version": "3.9.7"
  }
 },
 "nbformat": 4,
 "nbformat_minor": 5
}
