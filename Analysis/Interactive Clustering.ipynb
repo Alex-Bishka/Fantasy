{
 "cells": [
  {
   "cell_type": "markdown",
   "id": "fbfa5cf2",
   "metadata": {},
   "source": [
    "# Imports"
   ]
  },
  {
   "cell_type": "code",
   "execution_count": 1,
   "id": "3984a115",
   "metadata": {},
   "outputs": [],
   "source": [
    "from utils.utils import grab_data\n",
    "from utils.clustering import (create_cluster_data, get_candidate_cluster_n_values,\n",
    "create_clusters, create_cluster_df, graph_pair_plot, graph_pair_plot_plotly)"
   ]
  },
  {
   "cell_type": "markdown",
   "id": "109b58a1",
   "metadata": {},
   "source": [
    "# Grabbing Data"
   ]
  },
  {
   "cell_type": "code",
   "execution_count": 2,
   "id": "e962fff6",
   "metadata": {},
   "outputs": [],
   "source": [
    "seasons = grab_data(by_position=True, by_player=False)"
   ]
  },
  {
   "cell_type": "code",
   "execution_count": 3,
   "id": "736c6a8e",
   "metadata": {},
   "outputs": [
    {
     "data": {
      "text/plain": [
       "dict_keys(['RB', 'WR', 'QB', 'TE'])"
      ]
     },
     "execution_count": 3,
     "metadata": {},
     "output_type": "execute_result"
    }
   ],
   "source": [
    "seasons_dict = dict()\n",
    "for year, season in seasons:\n",
    "    seasons_dict[year] = season\n",
    "\n",
    "seasons_dict[\"2010\"].keys()"
   ]
  },
  {
   "cell_type": "markdown",
   "id": "6044aeea",
   "metadata": {},
   "source": [
    "## QB Data"
   ]
  },
  {
   "cell_type": "code",
   "execution_count": 4,
   "id": "e4bb6508",
   "metadata": {},
   "outputs": [],
   "source": [
    "qbs = seasons_dict[\"2022\"][\"QB\"]\n",
    "qbs.sort()\n",
    "qbs.reverse()"
   ]
  },
  {
   "cell_type": "markdown",
   "id": "a1a7e5aa",
   "metadata": {},
   "source": [
    "## RB Data"
   ]
  },
  {
   "cell_type": "code",
   "execution_count": 5,
   "id": "397918a4",
   "metadata": {},
   "outputs": [],
   "source": [
    "rbs = seasons_dict[\"2022\"][\"RB\"]\n",
    "rbs.sort()\n",
    "rbs.reverse()"
   ]
  },
  {
   "cell_type": "markdown",
   "id": "64fad3f5",
   "metadata": {},
   "source": [
    "## WR Data"
   ]
  },
  {
   "cell_type": "code",
   "execution_count": 6,
   "id": "f2f7e998",
   "metadata": {},
   "outputs": [],
   "source": [
    "wrs = seasons_dict[\"2022\"][\"WR\"]\n",
    "wrs.sort()\n",
    "wrs.reverse()"
   ]
  },
  {
   "cell_type": "markdown",
   "id": "07077a99",
   "metadata": {},
   "source": [
    "## TE Data"
   ]
  },
  {
   "cell_type": "code",
   "execution_count": 7,
   "id": "32461c40",
   "metadata": {},
   "outputs": [],
   "source": [
    "tes = seasons_dict[\"2022\"][\"TE\"]\n",
    "tes.sort()\n",
    "tes.reverse()"
   ]
  },
  {
   "cell_type": "markdown",
   "id": "32542bd5",
   "metadata": {},
   "source": [
    "# Position"
   ]
  },
  {
   "cell_type": "code",
   "execution_count": 8,
   "id": "51404f59",
   "metadata": {},
   "outputs": [],
   "source": [
    "players = qbs[:30]\n",
    "position = players[0].position"
   ]
  },
  {
   "cell_type": "markdown",
   "id": "0c3a639d",
   "metadata": {},
   "source": [
    "# Testing Function"
   ]
  },
  {
   "cell_type": "code",
   "execution_count": 9,
   "id": "7a8a8023",
   "metadata": {},
   "outputs": [],
   "source": [
    "suffix = \"\"\n",
    "font_size = 10\n",
    "marker_size = 6\n",
    "dim = 1000"
   ]
  },
  {
   "cell_type": "markdown",
   "id": "d904da63",
   "metadata": {},
   "source": [
    "## Generating X"
   ]
  },
  {
   "cell_type": "code",
   "execution_count": 10,
   "id": "f6ac5ef5",
   "metadata": {},
   "outputs": [],
   "source": [
    "# for receiving stats\n",
    "# stats = [\"Receiving Yards\", \"Receptions\", \"Receiving TDs\", \"Targets\"]\n",
    "# stats = [\"Receiving Yards Per Game\", \"Receptions Per Game\", \"Receiving TDs Per Game\", \"Targets Per Game\"]\n",
    "\n",
    "# for passing stats\n",
    "stats = [\"Passing Yards\", \"Attempts\", \"Completions\", \"Passing TDs\", \"Interceptions\"]\n",
    "# stats = [\"Passing Yards Per Game\", \"Attempts Per Game\", \"Completions Per Game\", \"Passing TDs Per Game\", \"Interceptions Per Game\"]\n",
    "\n",
    "# for rushing stats\n",
    "# stats = [\"Rushing Yards\", \"Carries\", \"Yards Per Carry\", \"Rushing Touchdowns\", \"Fumbles\"]\n",
    "# stats = [\"Rushing Yards Per Game\", \"Carries Per Game\", \"Yards Per Carry\", \"Rushing Touchdowns Per Game\", \"Fumbles Per Game\"]\n",
    "\n",
    "# totals\n",
    "# stats = [\"Total Yards\", \"Total TDs\", \"Receptions\", \"Targets\", \"Carries\", \"Yards Per Carry\", \"Fumbles\"]\n",
    "# stats = [\"Yards Per Game\", \"TDs Per Game\", \"Receptions Per Game\", \"Targets Per Game\", \"Carries Per Game\", \"Yards Per Carry\", \"Fumbles Per Game\"]\n"
   ]
  },
  {
   "cell_type": "code",
   "execution_count": 11,
   "id": "631104ed",
   "metadata": {},
   "outputs": [],
   "source": [
    "X, X_scaled = create_cluster_data(players=players, stats=stats)"
   ]
  },
  {
   "cell_type": "code",
   "execution_count": 12,
   "id": "84dd121f",
   "metadata": {},
   "outputs": [],
   "source": [
    "# X_scaled"
   ]
  },
  {
   "cell_type": "markdown",
   "id": "91daa342",
   "metadata": {},
   "source": [
    "## Finding Optimal N Value"
   ]
  },
  {
   "cell_type": "code",
   "execution_count": 13,
   "id": "96b28d48",
   "metadata": {},
   "outputs": [
    {
     "data": {
      "image/png": "[encoded data removed]",
      "text/plain": [
       "<Figure size 432x288 with 1 Axes>"
      ]
     },
     "metadata": {
      "needs_background": "light"
     },
     "output_type": "display_data"
    },
    {
     "data": {
      "text/html": [
       "<style>#sk-container-id-1 {color: black;}#sk-container-id-1 pre{padding: 0;}#sk-container-id-1 div.sk-toggleable {background-color: white;}#sk-container-id-1 label.sk-toggleable__label {cursor: pointer;display: block;width: 100%;margin-bottom: 0;padding: 0.3em;box-sizing: border-box;text-align: center;}#sk-container-id-1 label.sk-toggleable__label-arrow:before {content: \"▸\";float: left;margin-right: 0.25em;color: #696969;}#sk-container-id-1 label.sk-toggleable__label-arrow:hover:before {color: black;}#sk-container-id-1 div.sk-estimator:hover label.sk-toggleable__label-arrow:before {color: black;}#sk-container-id-1 div.sk-toggleable__content {max-height: 0;max-width: 0;overflow: hidden;text-align: left;background-color: #f0f8ff;}#sk-container-id-1 div.sk-toggleable__content pre {margin: 0.2em;color: black;border-radius: 0.25em;background-color: #f0f8ff;}#sk-container-id-1 input.sk-toggleable__control:checked~div.sk-toggleable__content {max-height: 200px;max-width: 100%;overflow: auto;}#sk-container-id-1 input.sk-toggleable__control:checked~label.sk-toggleable__label-arrow:before {content: \"▾\";}#sk-container-id-1 div.sk-estimator input.sk-toggleable__control:checked~label.sk-toggleable__label {background-color: #d4ebff;}#sk-container-id-1 div.sk-label input.sk-toggleable__control:checked~label.sk-toggleable__label {background-color: #d4ebff;}#sk-container-id-1 input.sk-hidden--visually {border: 0;clip: rect(1px 1px 1px 1px);clip: rect(1px, 1px, 1px, 1px);height: 1px;margin: -1px;overflow: hidden;padding: 0;position: absolute;width: 1px;}#sk-container-id-1 div.sk-estimator {font-family: monospace;background-color: #f0f8ff;border: 1px dotted black;border-radius: 0.25em;box-sizing: border-box;margin-bottom: 0.5em;}#sk-container-id-1 div.sk-estimator:hover {background-color: #d4ebff;}#sk-container-id-1 div.sk-parallel-item::after {content: \"\";width: 100%;border-bottom: 1px solid gray;flex-grow: 1;}#sk-container-id-1 div.sk-label:hover label.sk-toggleable__label {background-color: #d4ebff;}#sk-container-id-1 div.sk-serial::before {content: \"\";position: absolute;border-left: 1px solid gray;box-sizing: border-box;top: 0;bottom: 0;left: 50%;z-index: 0;}#sk-container-id-1 div.sk-serial {display: flex;flex-direction: column;align-items: center;background-color: white;padding-right: 0.2em;padding-left: 0.2em;position: relative;}#sk-container-id-1 div.sk-item {position: relative;z-index: 1;}#sk-container-id-1 div.sk-parallel {display: flex;align-items: stretch;justify-content: center;background-color: white;position: relative;}#sk-container-id-1 div.sk-item::before, #sk-container-id-1 div.sk-parallel-item::before {content: \"\";position: absolute;border-left: 1px solid gray;box-sizing: border-box;top: 0;bottom: 0;left: 50%;z-index: -1;}#sk-container-id-1 div.sk-parallel-item {display: flex;flex-direction: column;z-index: 1;position: relative;background-color: white;}#sk-container-id-1 div.sk-parallel-item:first-child::after {align-self: flex-end;width: 50%;}#sk-container-id-1 div.sk-parallel-item:last-child::after {align-self: flex-start;width: 50%;}#sk-container-id-1 div.sk-parallel-item:only-child::after {width: 0;}#sk-container-id-1 div.sk-dashed-wrapped {border: 1px dashed gray;margin: 0 0.4em 0.5em 0.4em;box-sizing: border-box;padding-bottom: 0.4em;background-color: white;}#sk-container-id-1 div.sk-label label {font-family: monospace;font-weight: bold;display: inline-block;line-height: 1.2em;}#sk-container-id-1 div.sk-label-container {text-align: center;}#sk-container-id-1 div.sk-container {/* jupyter's `normalize.less` sets `[hidden] { display: none; }` but bootstrap.min.css set `[hidden] { display: none !important; }` so we also need the `!important` here to be able to override the default hidden behavior on the sphinx rendered scikit-learn.org. See: https://github.com/scikit-learn/scikit-learn/issues/21755 */display: inline-block !important;position: relative;}#sk-container-id-1 div.sk-text-repr-fallback {display: none;}</style><div id=\"sk-container-id-1\" class=\"sk-top-container\"><div class=\"sk-text-repr-fallback\"><pre>KMeans(algorithm=&#x27;elkan&#x27;, n_clusters=10, n_init=10)</pre><b>In a Jupyter environment, please rerun this cell to show the HTML representation or trust the notebook. <br />On GitHub, the HTML representation is unable to render, please try loading this page with nbviewer.org.</b></div><div class=\"sk-container\" hidden><div class=\"sk-item\"><div class=\"sk-estimator sk-toggleable\"><input class=\"sk-toggleable__control sk-hidden--visually\" id=\"sk-estimator-id-1\" type=\"checkbox\" checked><label for=\"sk-estimator-id-1\" class=\"sk-toggleable__label sk-toggleable__label-arrow\">KMeans</label><div class=\"sk-toggleable__content\"><pre>KMeans(algorithm=&#x27;elkan&#x27;, n_clusters=10, n_init=10)</pre></div></div></div></div></div>"
      ],
      "text/plain": [
       "KMeans(algorithm='elkan', n_clusters=10, n_init=10)"
      ]
     },
     "execution_count": 13,
     "metadata": {},
     "output_type": "execute_result"
    }
   ],
   "source": [
    "get_candidate_cluster_n_values(X_scaled=X_scaled)"
   ]
  },
  {
   "cell_type": "markdown",
   "id": "46a8e557",
   "metadata": {},
   "source": [
    "## Graph Clusters"
   ]
  },
  {
   "cell_type": "markdown",
   "id": "f98c580b",
   "metadata": {},
   "source": [
    "### Cluster Size 3"
   ]
  },
  {
   "cell_type": "code",
   "execution_count": 14,
   "id": "005b8db6",
   "metadata": {},
   "outputs": [],
   "source": [
    "chosen_cluster_number = 3"
   ]
  },
  {
   "cell_type": "code",
   "execution_count": 15,
   "id": "2046b08a",
   "metadata": {},
   "outputs": [],
   "source": [
    "labels_3, cluster_ranking_3 = create_clusters(cluster_num=chosen_cluster_number, X_scaled=X_scaled, players=players)"
   ]
  },
  {
   "cell_type": "code",
   "execution_count": 16,
   "id": "35ea582b",
   "metadata": {},
   "outputs": [],
   "source": [
    "# labels_3"
   ]
  },
  {
   "cell_type": "code",
   "execution_count": 17,
   "id": "05089f9d",
   "metadata": {},
   "outputs": [],
   "source": [
    "# cluster_ranking_3"
   ]
  },
  {
   "cell_type": "markdown",
   "id": "6df90bbb",
   "metadata": {},
   "source": [
    "### Cluster Size 4"
   ]
  },
  {
   "cell_type": "code",
   "execution_count": 18,
   "id": "d10ab4ff",
   "metadata": {},
   "outputs": [],
   "source": [
    "chosen_cluster_number = 4"
   ]
  },
  {
   "cell_type": "code",
   "execution_count": 19,
   "id": "14bf30a2",
   "metadata": {},
   "outputs": [],
   "source": [
    "labels_4, cluster_ranking_4 = create_clusters(cluster_num=chosen_cluster_number, X_scaled=X_scaled, players=players)"
   ]
  },
  {
   "cell_type": "code",
   "execution_count": 20,
   "id": "bd48078a",
   "metadata": {},
   "outputs": [],
   "source": [
    "# labels_4"
   ]
  },
  {
   "cell_type": "code",
   "execution_count": 21,
   "id": "989dc501",
   "metadata": {},
   "outputs": [],
   "source": [
    "# cluster_ranking_4"
   ]
  },
  {
   "cell_type": "markdown",
   "id": "10bc601e",
   "metadata": {},
   "source": [
    "### Cluster Size 5"
   ]
  },
  {
   "cell_type": "code",
   "execution_count": 22,
   "id": "4eb9adab",
   "metadata": {},
   "outputs": [],
   "source": [
    "chosen_cluster_number = 5"
   ]
  },
  {
   "cell_type": "code",
   "execution_count": 23,
   "id": "acc5297d",
   "metadata": {},
   "outputs": [],
   "source": [
    "labels_5, cluster_ranking_5 = create_clusters(cluster_num=chosen_cluster_number, X_scaled=X_scaled, players=players)"
   ]
  },
  {
   "cell_type": "code",
   "execution_count": 24,
   "id": "1334f4d9",
   "metadata": {},
   "outputs": [],
   "source": [
    "# labels_5"
   ]
  },
  {
   "cell_type": "code",
   "execution_count": 25,
   "id": "37d9b353",
   "metadata": {},
   "outputs": [],
   "source": [
    "# cluster_ranking_5"
   ]
  },
  {
   "cell_type": "markdown",
   "id": "d3b85e19",
   "metadata": {},
   "source": [
    "### Cluster 6 Size"
   ]
  },
  {
   "cell_type": "code",
   "execution_count": 26,
   "id": "d757f9e4",
   "metadata": {},
   "outputs": [],
   "source": [
    "chosen_cluster_number = 6"
   ]
  },
  {
   "cell_type": "code",
   "execution_count": 27,
   "id": "449a30ea",
   "metadata": {},
   "outputs": [],
   "source": [
    "labels_6, cluster_ranking_6 = create_clusters(cluster_num=chosen_cluster_number, X_scaled=X_scaled, players=players)"
   ]
  },
  {
   "cell_type": "code",
   "execution_count": 28,
   "id": "4484e298",
   "metadata": {},
   "outputs": [],
   "source": [
    "# labels_6"
   ]
  },
  {
   "cell_type": "code",
   "execution_count": 29,
   "id": "78dd9074",
   "metadata": {},
   "outputs": [],
   "source": [
    "# cluster_ranking_6"
   ]
  },
  {
   "cell_type": "markdown",
   "id": "a93dd033",
   "metadata": {},
   "source": [
    "### Cluster 7 Size"
   ]
  },
  {
   "cell_type": "code",
   "execution_count": 30,
   "id": "e2d74ae5",
   "metadata": {},
   "outputs": [],
   "source": [
    "chosen_cluster_number = 7"
   ]
  },
  {
   "cell_type": "code",
   "execution_count": 31,
   "id": "6ef34377",
   "metadata": {},
   "outputs": [],
   "source": [
    "labels_7, cluster_ranking_7 = create_clusters(cluster_num=chosen_cluster_number, X_scaled=X_scaled, players=players)"
   ]
  },
  {
   "cell_type": "code",
   "execution_count": 32,
   "id": "bd248f1a",
   "metadata": {},
   "outputs": [],
   "source": [
    "# labels_7"
   ]
  },
  {
   "cell_type": "code",
   "execution_count": 33,
   "id": "8ca7b086",
   "metadata": {},
   "outputs": [],
   "source": [
    "# cluster_ranking_7"
   ]
  },
  {
   "cell_type": "markdown",
   "id": "743700e3",
   "metadata": {},
   "source": [
    "# Graphing Clusters"
   ]
  },
  {
   "cell_type": "code",
   "execution_count": 34,
   "id": "72b12a8e",
   "metadata": {},
   "outputs": [],
   "source": [
    "import pandas as pd\n",
    "\n",
    "def create_cluster_html_tiers(df: pd.DataFrame) -> None:\n",
    "    cluster_dict = dict()\n",
    "    for index, row in df.iterrows():\n",
    "        if row.Cluster not in cluster_dict:\n",
    "            cluster_dict[row.Cluster] = [index]\n",
    "        else:\n",
    "            cluster_dict[row.Cluster].append(index)\n",
    "            \n",
    "    sorted_cluster_dict = dict(sorted(cluster_dict.items()))\n",
    "    \n",
    "    print(\"<div style='display: flex; justify-content: space-evenly;''>\")\n",
    "    keys = list(sorted_cluster_dict.keys())\n",
    "    for key in keys:\n",
    "        names = cluster_dict[key]\n",
    "        \n",
    "        print(\"\\t<div>\")\n",
    "        print(f\"\\t\\t<b>Cluster {key} ()</b>\")\n",
    "        print(\"\\t\\t<ul class='bullet-list'>\")\n",
    "        for name in names:\n",
    "            print(f\"\\t\\t\\t<li>{name}</li>\")\n",
    "        print(\"\\t\\t</ul>\")\n",
    "        print(\"\\t</div>\")\n",
    "        if key != keys[-1]:\n",
    "            print()\n",
    "    print(\"</div>\")\n",
    "    \n",
    "    print(\"<p class='blog-p-tag'>\")\n",
    "    print(\"\\tTODO:\")\n",
    "    print(\"\\t<ul class='bullet-list'>\")\n",
    "    for key in keys:\n",
    "        print(f\"\\t\\t<li><b>Cluster {key}:</b> TODO</li>\")\n",
    "        \n",
    "    print(\"\\t</ul>\")\n",
    "    print(\"\"\"</p>\n",
    "<p class=\"blog-p-tag\">\n",
    "    TODO\n",
    "</p>\n",
    "    \"\"\"\n",
    "    )"
   ]
  },
  {
   "cell_type": "markdown",
   "id": "eca95e7a",
   "metadata": {},
   "source": [
    "### 3 Clusters"
   ]
  },
  {
   "cell_type": "code",
   "execution_count": 35,
   "id": "5df718cf",
   "metadata": {},
   "outputs": [],
   "source": [
    "df_3 = create_cluster_df(labels=labels_3, X=X, stats=stats)"
   ]
  },
  {
   "cell_type": "code",
   "execution_count": 51,
   "id": "2ddd1000",
   "metadata": {},
   "outputs": [
    {
     "data": {
      "application/vnd.plotly.v1+json": {
       "config": {
        "plotlyServerURL": "https://plot.ly"
       },
       "data": [
        {
         "diagonal": {
          "visible": false
         },
         "dimensions": [
          {
           "axis": {
            "matches": true
           },
           "label": "Passing Yards",
           "values": [
            5250,
            4283,
            4475,
            4282,
            4113,
            4547,
            4438,
            4739,
            4694
           ]
          },
          {
           "axis": {
            "matches": true
           },
           "label": "Attempts",
           "values": [
            648,
            567,
            606,
            572,
            584,
            643,
            587,
            699,
            733
           ]
          },
          {
           "axis": {
            "matches": true
           },
           "label": "Completions",
           "values": [
            435,
            359,
            414,
            399,
            387,
            424,
            382,
            477,
            490
           ]
          },
          {
           "axis": {
            "matches": true
           },
           "label": "Passing TDs",
           "values": [
            41,
            35,
            35,
            30,
            25,
            29,
            29,
            25,
            25
           ]
          },
          {
           "axis": {
            "matches": true
           },
           "label": "Interceptions",
           "values": [
            12,
            14,
            12,
            11,
            8,
            14,
            7,
            10,
            9
           ]
          }
         ],
         "hovertemplate": "<b>%{hovertext}</b><br><br>Cluster=1<br>%{xaxis.title.text}=%{x}<br>%{yaxis.title.text}=%{y}<extra></extra>",
         "hovertext": [
          "Patrick Mahomes",
          "Josh Allen",
          "Joe Burrow",
          "Geno Smith",
          "Trevor Lawrence",
          "Kirk Cousins",
          "Jared Goff",
          "Justin Herbert",
          "Tom Brady"
         ],
         "legendgroup": "1",
         "marker": {
          "color": "#636efa",
          "size": 6,
          "symbol": "circle"
         },
         "name": "1",
         "showlegend": true,
         "type": "splom"
        },
        {
         "diagonal": {
          "visible": false
         },
         "dimensions": [
          {
           "axis": {
            "matches": true
           },
           "label": "Passing Yards",
           "values": [
            3701,
            3695,
            3548,
            3524,
            3522,
            2860,
            3118,
            2997,
            3057
           ]
          },
          {
           "axis": {
            "matches": true
           },
           "label": "Attempts",
           "values": [
            460,
            542,
            400,
            483,
            502,
            394,
            479,
            442,
            461
           ]
          },
          {
           "axis": {
            "matches": true
           },
           "label": "Completions",
           "values": [
            306,
            350,
            259,
            292,
            305,
            261,
            292,
            288,
            309
           ]
          },
          {
           "axis": {
            "matches": true
           },
           "label": "Passing TDs",
           "values": [
            22,
            26,
            25,
            16,
            24,
            23,
            17,
            14,
            14
           ]
          },
          {
           "axis": {
            "matches": true
           },
           "label": "Interceptions",
           "values": [
            6,
            12,
            8,
            11,
            14,
            15,
            15,
            11,
            13
           ]
          }
         ],
         "hovertemplate": "<b>%{hovertext}</b><br><br>Cluster=0<br>%{xaxis.title.text}=%{x}<br>%{yaxis.title.text}=%{y}<extra></extra>",
         "hovertext": [
          "Jalen Hurts",
          "Aaron Rodgers",
          "Tua Tagovailoa",
          "Russell Wilson",
          "Derek Carr",
          "Dak Prescott",
          "Davis Mills",
          "Mac Jones",
          "Matt Ryan"
         ],
         "legendgroup": "0",
         "marker": {
          "color": "#EF553B",
          "size": 6,
          "symbol": "circle"
         },
         "name": "0",
         "showlegend": true,
         "type": "splom"
        },
        {
         "diagonal": {
          "visible": false
         },
         "dimensions": [
          {
           "axis": {
            "matches": true
           },
           "label": "Passing Yards",
           "values": [
            2242,
            3205,
            2242,
            2368,
            2219,
            2871,
            2608,
            2437,
            2536,
            2404,
            2163,
            1859
           ]
          },
          {
           "axis": {
            "matches": true
           },
           "label": "Attempts",
           "values": [
            318,
            472,
            326,
            390,
            300,
            378,
            369,
            308,
            325,
            389,
            335,
            259
           ]
          },
          {
           "axis": {
            "matches": true
           },
           "label": "Completions",
           "values": [
            192,
            317,
            203,
            259,
            184,
            252,
            236,
            207,
            212,
            245,
            201,
            161
           ]
          },
          {
           "axis": {
            "matches": true
           },
           "label": "Passing TDs",
           "values": [
            17,
            15,
            17,
            14,
            15,
            18,
            12,
            16,
            13,
            7,
            10,
            12
           ]
          },
          {
           "axis": {
            "matches": true
           },
           "label": "Interceptions",
           "values": [
            11,
            5,
            7,
            7,
            9,
            9,
            6,
            4,
            6,
            9,
            8,
            6
           ]
          }
         ],
         "hovertemplate": "<b>%{hovertext}</b><br><br>Cluster=2<br>%{xaxis.title.text}=%{x}<br>%{yaxis.title.text}=%{y}<extra></extra>",
         "hovertext": [
          "Justin Fields",
          "Daniel Jones",
          "Lamar Jackson",
          "Kyler Murray",
          "Marcus Mariota",
          "Andy Dalton",
          "Jacoby Brissett",
          "Jimmy Garoppolo",
          "Ryan Tannehill",
          "Kenny Pickett",
          "Baker Mayfield",
          "Taylor Heinicke"
         ],
         "legendgroup": "2",
         "marker": {
          "color": "#00cc96",
          "size": 6,
          "symbol": "circle"
         },
         "name": "2",
         "showlegend": true,
         "type": "splom"
        }
       ],
       "layout": {
        "dragmode": "select",
        "font": {
         "color": "black",
         "family": "Courier New, monospace",
         "size": 10
        },
        "height": 1000,
        "legend": {
         "title": {
          "text": "Cluster"
         },
         "tracegroupgap": 0
        },
        "margin": {
         "t": 60
        },
        "paper_bgcolor": "rgba(0,0,0,0)",
        "plot_bgcolor": "rgba(245, 245, 245, 1)",
        "showlegend": true,
        "template": {
         "data": {
          "bar": [
           {
            "error_x": {
             "color": "#2a3f5f"
            },
            "error_y": {
             "color": "#2a3f5f"
            },
            "marker": {
             "line": {
              "color": "#E5ECF6",
              "width": 0.5
             },
             "pattern": {
              "fillmode": "overlay",
              "size": 10,
              "solidity": 0.2
             }
            },
            "type": "bar"
           }
          ],
          "barpolar": [
           {
            "marker": {
             "line": {
              "color": "#E5ECF6",
              "width": 0.5
             },
             "pattern": {
              "fillmode": "overlay",
              "size": 10,
              "solidity": 0.2
             }
            },
            "type": "barpolar"
           }
          ],
          "carpet": [
           {
            "aaxis": {
             "endlinecolor": "#2a3f5f",
             "gridcolor": "white",
             "linecolor": "white",
             "minorgridcolor": "white",
             "startlinecolor": "#2a3f5f"
            },
            "baxis": {
             "endlinecolor": "#2a3f5f",
             "gridcolor": "white",
             "linecolor": "white",
             "minorgridcolor": "white",
             "startlinecolor": "#2a3f5f"
            },
            "type": "carpet"
           }
          ],
          "choropleth": [
           {
            "colorbar": {
             "outlinewidth": 0,
             "ticks": ""
            },
            "type": "choropleth"
           }
          ],
          "contour": [
           {
            "colorbar": {
             "outlinewidth": 0,
             "ticks": ""
            },
            "colorscale": [
             [
              0,
              "#0d0887"
             ],
             [
              0.1111111111111111,
              "#46039f"
             ],
             [
              0.2222222222222222,
              "#7201a8"
             ],
             [
              0.3333333333333333,
              "#9c179e"
             ],
             [
              0.4444444444444444,
              "#bd3786"
             ],
             [
              0.5555555555555556,
              "#d8576b"
             ],
             [
              0.6666666666666666,
              "#ed7953"
             ],
             [
              0.7777777777777778,
              "#fb9f3a"
             ],
             [
              0.8888888888888888,
              "#fdca26"
             ],
             [
              1,
              "#f0f921"
             ]
            ],
            "type": "contour"
           }
          ],
          "contourcarpet": [
           {
            "colorbar": {
             "outlinewidth": 0,
             "ticks": ""
            },
            "type": "contourcarpet"
           }
          ],
          "heatmap": [
           {
            "colorbar": {
             "outlinewidth": 0,
             "ticks": ""
            },
            "colorscale": [
             [
              0,
              "#0d0887"
             ],
             [
              0.1111111111111111,
              "#46039f"
             ],
             [
              0.2222222222222222,
              "#7201a8"
             ],
             [
              0.3333333333333333,
              "#9c179e"
             ],
             [
              0.4444444444444444,
              "#bd3786"
             ],
             [
              0.5555555555555556,
              "#d8576b"
             ],
             [
              0.6666666666666666,
              "#ed7953"
             ],
             [
              0.7777777777777778,
              "#fb9f3a"
             ],
             [
              0.8888888888888888,
              "#fdca26"
             ],
             [
              1,
              "#f0f921"
             ]
            ],
            "type": "heatmap"
           }
          ],
          "heatmapgl": [
           {
            "colorbar": {
             "outlinewidth": 0,
             "ticks": ""
            },
            "colorscale": [
             [
              0,
              "#0d0887"
             ],
             [
              0.1111111111111111,
              "#46039f"
             ],
             [
              0.2222222222222222,
              "#7201a8"
             ],
             [
              0.3333333333333333,
              "#9c179e"
             ],
             [
              0.4444444444444444,
              "#bd3786"
             ],
             [
              0.5555555555555556,
              "#d8576b"
             ],
             [
              0.6666666666666666,
              "#ed7953"
             ],
             [
              0.7777777777777778,
              "#fb9f3a"
             ],
             [
              0.8888888888888888,
              "#fdca26"
             ],
             [
              1,
              "#f0f921"
             ]
            ],
            "type": "heatmapgl"
           }
          ],
          "histogram": [
           {
            "marker": {
             "pattern": {
              "fillmode": "overlay",
              "size": 10,
              "solidity": 0.2
             }
            },
            "type": "histogram"
           }
          ],
          "histogram2d": [
           {
            "colorbar": {
             "outlinewidth": 0,
             "ticks": ""
            },
            "colorscale": [
             [
              0,
              "#0d0887"
             ],
             [
              0.1111111111111111,
              "#46039f"
             ],
             [
              0.2222222222222222,
              "#7201a8"
             ],
             [
              0.3333333333333333,
              "#9c179e"
             ],
             [
              0.4444444444444444,
              "#bd3786"
             ],
             [
              0.5555555555555556,
              "#d8576b"
             ],
             [
              0.6666666666666666,
              "#ed7953"
             ],
             [
              0.7777777777777778,
              "#fb9f3a"
             ],
             [
              0.8888888888888888,
              "#fdca26"
             ],
             [
              1,
              "#f0f921"
             ]
            ],
            "type": "histogram2d"
           }
          ],
          "histogram2dcontour": [
           {
            "colorbar": {
             "outlinewidth": 0,
             "ticks": ""
            },
            "colorscale": [
             [
              0,
              "#0d0887"
             ],
             [
              0.1111111111111111,
              "#46039f"
             ],
             [
              0.2222222222222222,
              "#7201a8"
             ],
             [
              0.3333333333333333,
              "#9c179e"
             ],
             [
              0.4444444444444444,
              "#bd3786"
             ],
             [
              0.5555555555555556,
              "#d8576b"
             ],
             [
              0.6666666666666666,
              "#ed7953"
             ],
             [
              0.7777777777777778,
              "#fb9f3a"
             ],
             [
              0.8888888888888888,
              "#fdca26"
             ],
             [
              1,
              "#f0f921"
             ]
            ],
            "type": "histogram2dcontour"
           }
          ],
          "mesh3d": [
           {
            "colorbar": {
             "outlinewidth": 0,
             "ticks": ""
            },
            "type": "mesh3d"
           }
          ],
          "parcoords": [
           {
            "line": {
             "colorbar": {
              "outlinewidth": 0,
              "ticks": ""
             }
            },
            "type": "parcoords"
           }
          ],
          "pie": [
           {
            "automargin": true,
            "type": "pie"
           }
          ],
          "scatter": [
           {
            "fillpattern": {
             "fillmode": "overlay",
             "size": 10,
             "solidity": 0.2
            },
            "type": "scatter"
           }
          ],
          "scatter3d": [
           {
            "line": {
             "colorbar": {
              "outlinewidth": 0,
              "ticks": ""
             }
            },
            "marker": {
             "colorbar": {
              "outlinewidth": 0,
              "ticks": ""
             }
            },
            "type": "scatter3d"
           }
          ],
          "scattercarpet": [
           {
            "marker": {
             "colorbar": {
              "outlinewidth": 0,
              "ticks": ""
             }
            },
            "type": "scattercarpet"
           }
          ],
          "scattergeo": [
           {
            "marker": {
             "colorbar": {
              "outlinewidth": 0,
              "ticks": ""
             }
            },
            "type": "scattergeo"
           }
          ],
          "scattergl": [
           {
            "marker": {
             "colorbar": {
              "outlinewidth": 0,
              "ticks": ""
             }
            },
            "type": "scattergl"
           }
          ],
          "scattermapbox": [
           {
            "marker": {
             "colorbar": {
              "outlinewidth": 0,
              "ticks": ""
             }
            },
            "type": "scattermapbox"
           }
          ],
          "scatterpolar": [
           {
            "marker": {
             "colorbar": {
              "outlinewidth": 0,
              "ticks": ""
             }
            },
            "type": "scatterpolar"
           }
          ],
          "scatterpolargl": [
           {
            "marker": {
             "colorbar": {
              "outlinewidth": 0,
              "ticks": ""
             }
            },
            "type": "scatterpolargl"
           }
          ],
          "scatterternary": [
           {
            "marker": {
             "colorbar": {
              "outlinewidth": 0,
              "ticks": ""
             }
            },
            "type": "scatterternary"
           }
          ],
          "surface": [
           {
            "colorbar": {
             "outlinewidth": 0,
             "ticks": ""
            },
            "colorscale": [
             [
              0,
              "#0d0887"
             ],
             [
              0.1111111111111111,
              "#46039f"
             ],
             [
              0.2222222222222222,
              "#7201a8"
             ],
             [
              0.3333333333333333,
              "#9c179e"
             ],
             [
              0.4444444444444444,
              "#bd3786"
             ],
             [
              0.5555555555555556,
              "#d8576b"
             ],
             [
              0.6666666666666666,
              "#ed7953"
             ],
             [
              0.7777777777777778,
              "#fb9f3a"
             ],
             [
              0.8888888888888888,
              "#fdca26"
             ],
             [
              1,
              "#f0f921"
             ]
            ],
            "type": "surface"
           }
          ],
          "table": [
           {
            "cells": {
             "fill": {
              "color": "#EBF0F8"
             },
             "line": {
              "color": "white"
             }
            },
            "header": {
             "fill": {
              "color": "#C8D4E3"
             },
             "line": {
              "color": "white"
             }
            },
            "type": "table"
           }
          ]
         },
         "layout": {
          "annotationdefaults": {
           "arrowcolor": "#2a3f5f",
           "arrowhead": 0,
           "arrowwidth": 1
          },
          "autotypenumbers": "strict",
          "coloraxis": {
           "colorbar": {
            "outlinewidth": 0,
            "ticks": ""
           }
          },
          "colorscale": {
           "diverging": [
            [
             0,
             "#8e0152"
            ],
            [
             0.1,
             "#c51b7d"
            ],
            [
             0.2,
             "#de77ae"
            ],
            [
             0.3,
             "#f1b6da"
            ],
            [
             0.4,
             "#fde0ef"
            ],
            [
             0.5,
             "#f7f7f7"
            ],
            [
             0.6,
             "#e6f5d0"
            ],
            [
             0.7,
             "#b8e186"
            ],
            [
             0.8,
             "#7fbc41"
            ],
            [
             0.9,
             "#4d9221"
            ],
            [
             1,
             "#276419"
            ]
           ],
           "sequential": [
            [
             0,
             "#0d0887"
            ],
            [
             0.1111111111111111,
             "#46039f"
            ],
            [
             0.2222222222222222,
             "#7201a8"
            ],
            [
             0.3333333333333333,
             "#9c179e"
            ],
            [
             0.4444444444444444,
             "#bd3786"
            ],
            [
             0.5555555555555556,
             "#d8576b"
            ],
            [
             0.6666666666666666,
             "#ed7953"
            ],
            [
             0.7777777777777778,
             "#fb9f3a"
            ],
            [
             0.8888888888888888,
             "#fdca26"
            ],
            [
             1,
             "#f0f921"
            ]
           ],
           "sequentialminus": [
            [
             0,
             "#0d0887"
            ],
            [
             0.1111111111111111,
             "#46039f"
            ],
            [
             0.2222222222222222,
             "#7201a8"
            ],
            [
             0.3333333333333333,
             "#9c179e"
            ],
            [
             0.4444444444444444,
             "#bd3786"
            ],
            [
             0.5555555555555556,
             "#d8576b"
            ],
            [
             0.6666666666666666,
             "#ed7953"
            ],
            [
             0.7777777777777778,
             "#fb9f3a"
            ],
            [
             0.8888888888888888,
             "#fdca26"
            ],
            [
             1,
             "#f0f921"
            ]
           ]
          },
          "colorway": [
           "#636efa",
           "#EF553B",
           "#00cc96",
           "#ab63fa",
           "#FFA15A",
           "#19d3f3",
           "#FF6692",
           "#B6E880",
           "#FF97FF",
           "#FECB52"
          ],
          "font": {
           "color": "#2a3f5f"
          },
          "geo": {
           "bgcolor": "white",
           "lakecolor": "white",
           "landcolor": "#E5ECF6",
           "showlakes": true,
           "showland": true,
           "subunitcolor": "white"
          },
          "hoverlabel": {
           "align": "left"
          },
          "hovermode": "closest",
          "mapbox": {
           "style": "light"
          },
          "paper_bgcolor": "white",
          "plot_bgcolor": "#E5ECF6",
          "polar": {
           "angularaxis": {
            "gridcolor": "white",
            "linecolor": "white",
            "ticks": ""
           },
           "bgcolor": "#E5ECF6",
           "radialaxis": {
            "gridcolor": "white",
            "linecolor": "white",
            "ticks": ""
           }
          },
          "scene": {
           "xaxis": {
            "backgroundcolor": "#E5ECF6",
            "gridcolor": "white",
            "gridwidth": 2,
            "linecolor": "white",
            "showbackground": true,
            "ticks": "",
            "zerolinecolor": "white"
           },
           "yaxis": {
            "backgroundcolor": "#E5ECF6",
            "gridcolor": "white",
            "gridwidth": 2,
            "linecolor": "white",
            "showbackground": true,
            "ticks": "",
            "zerolinecolor": "white"
           },
           "zaxis": {
            "backgroundcolor": "#E5ECF6",
            "gridcolor": "white",
            "gridwidth": 2,
            "linecolor": "white",
            "showbackground": true,
            "ticks": "",
            "zerolinecolor": "white"
           }
          },
          "shapedefaults": {
           "line": {
            "color": "#2a3f5f"
           }
          },
          "ternary": {
           "aaxis": {
            "gridcolor": "white",
            "linecolor": "white",
            "ticks": ""
           },
           "baxis": {
            "gridcolor": "white",
            "linecolor": "white",
            "ticks": ""
           },
           "bgcolor": "#E5ECF6",
           "caxis": {
            "gridcolor": "white",
            "linecolor": "white",
            "ticks": ""
           }
          },
          "title": {
           "x": 0.05
          },
          "xaxis": {
           "automargin": true,
           "gridcolor": "white",
           "linecolor": "white",
           "ticks": "",
           "title": {
            "standoff": 15
           },
           "zerolinecolor": "white",
           "zerolinewidth": 2
          },
          "yaxis": {
           "automargin": true,
           "gridcolor": "white",
           "linecolor": "white",
           "ticks": "",
           "title": {
            "standoff": 15
           },
           "zerolinecolor": "white",
           "zerolinewidth": 2
          }
         }
        },
        "width": 1000,
        "xaxis": {
         "gridcolor": "rgba(200, 200, 200, 0.5)",
         "gridwidth": 0.5,
         "showgrid": true
        },
        "yaxis": {
         "gridcolor": "rgba(200, 200, 200, 0.5)",
         "gridwidth": 0.5,
         "showgrid": true
        }
       }
      },
      "text/html": [
       "<div>                            <div id=\"a5e8e16b-a27c-45e8-9b57-070d30c01cf8\" class=\"plotly-graph-div\" style=\"height:1000px; width:1000px;\"></div>            <script type=\"text/javascript\">                require([\"plotly\"], function(Plotly) {                    window.PLOTLYENV=window.PLOTLYENV || {};                                    if (document.getElementById(\"a5e8e16b-a27c-45e8-9b57-070d30c01cf8\")) {                    Plotly.newPlot(                        \"a5e8e16b-a27c-45e8-9b57-070d30c01cf8\",                        [{\"dimensions\":[{\"axis\":{\"matches\":true},\"label\":\"Passing Yards\",\"values\":[5250.0,4283.0,4475.0,4282.0,4113.0,4547.0,4438.0,4739.0,4694.0]},{\"axis\":{\"matches\":true},\"label\":\"Attempts\",\"values\":[648.0,567.0,606.0,572.0,584.0,643.0,587.0,699.0,733.0]},{\"axis\":{\"matches\":true},\"label\":\"Completions\",\"values\":[435.0,359.0,414.0,399.0,387.0,424.0,382.0,477.0,490.0]},{\"axis\":{\"matches\":true},\"label\":\"Passing TDs\",\"values\":[41.0,35.0,35.0,30.0,25.0,29.0,29.0,25.0,25.0]},{\"axis\":{\"matches\":true},\"label\":\"Interceptions\",\"values\":[12.0,14.0,12.0,11.0,8.0,14.0,7.0,10.0,9.0]}],\"hovertemplate\":\"\\u003cb\\u003e%{hovertext}\\u003c\\u002fb\\u003e\\u003cbr\\u003e\\u003cbr\\u003eCluster=1\\u003cbr\\u003e%{xaxis.title.text}=%{x}\\u003cbr\\u003e%{yaxis.title.text}=%{y}\\u003cextra\\u003e\\u003c\\u002fextra\\u003e\",\"hovertext\":[\"Patrick Mahomes\",\"Josh Allen\",\"Joe Burrow\",\"Geno Smith\",\"Trevor Lawrence\",\"Kirk Cousins\",\"Jared Goff\",\"Justin Herbert\",\"Tom Brady\"],\"legendgroup\":\"1\",\"marker\":{\"color\":\"#636efa\",\"symbol\":\"circle\",\"size\":6},\"name\":\"1\",\"showlegend\":true,\"type\":\"splom\",\"diagonal\":{\"visible\":false}},{\"dimensions\":[{\"axis\":{\"matches\":true},\"label\":\"Passing Yards\",\"values\":[3701.0,3695.0,3548.0,3524.0,3522.0,2860.0,3118.0,2997.0,3057.0]},{\"axis\":{\"matches\":true},\"label\":\"Attempts\",\"values\":[460.0,542.0,400.0,483.0,502.0,394.0,479.0,442.0,461.0]},{\"axis\":{\"matches\":true},\"label\":\"Completions\",\"values\":[306.0,350.0,259.0,292.0,305.0,261.0,292.0,288.0,309.0]},{\"axis\":{\"matches\":true},\"label\":\"Passing TDs\",\"values\":[22.0,26.0,25.0,16.0,24.0,23.0,17.0,14.0,14.0]},{\"axis\":{\"matches\":true},\"label\":\"Interceptions\",\"values\":[6.0,12.0,8.0,11.0,14.0,15.0,15.0,11.0,13.0]}],\"hovertemplate\":\"\\u003cb\\u003e%{hovertext}\\u003c\\u002fb\\u003e\\u003cbr\\u003e\\u003cbr\\u003eCluster=0\\u003cbr\\u003e%{xaxis.title.text}=%{x}\\u003cbr\\u003e%{yaxis.title.text}=%{y}\\u003cextra\\u003e\\u003c\\u002fextra\\u003e\",\"hovertext\":[\"Jalen Hurts\",\"Aaron Rodgers\",\"Tua Tagovailoa\",\"Russell Wilson\",\"Derek Carr\",\"Dak Prescott\",\"Davis Mills\",\"Mac Jones\",\"Matt Ryan\"],\"legendgroup\":\"0\",\"marker\":{\"color\":\"#EF553B\",\"symbol\":\"circle\",\"size\":6},\"name\":\"0\",\"showlegend\":true,\"type\":\"splom\",\"diagonal\":{\"visible\":false}},{\"dimensions\":[{\"axis\":{\"matches\":true},\"label\":\"Passing Yards\",\"values\":[2242.0,3205.0,2242.0,2368.0,2219.0,2871.0,2608.0,2437.0,2536.0,2404.0,2163.0,1859.0]},{\"axis\":{\"matches\":true},\"label\":\"Attempts\",\"values\":[318.0,472.0,326.0,390.0,300.0,378.0,369.0,308.0,325.0,389.0,335.0,259.0]},{\"axis\":{\"matches\":true},\"label\":\"Completions\",\"values\":[192.0,317.0,203.0,259.0,184.0,252.0,236.0,207.0,212.0,245.0,201.0,161.0]},{\"axis\":{\"matches\":true},\"label\":\"Passing TDs\",\"values\":[17.0,15.0,17.0,14.0,15.0,18.0,12.0,16.0,13.0,7.0,10.0,12.0]},{\"axis\":{\"matches\":true},\"label\":\"Interceptions\",\"values\":[11.0,5.0,7.0,7.0,9.0,9.0,6.0,4.0,6.0,9.0,8.0,6.0]}],\"hovertemplate\":\"\\u003cb\\u003e%{hovertext}\\u003c\\u002fb\\u003e\\u003cbr\\u003e\\u003cbr\\u003eCluster=2\\u003cbr\\u003e%{xaxis.title.text}=%{x}\\u003cbr\\u003e%{yaxis.title.text}=%{y}\\u003cextra\\u003e\\u003c\\u002fextra\\u003e\",\"hovertext\":[\"Justin Fields\",\"Daniel Jones\",\"Lamar Jackson\",\"Kyler Murray\",\"Marcus Mariota\",\"Andy Dalton\",\"Jacoby Brissett\",\"Jimmy Garoppolo\",\"Ryan Tannehill\",\"Kenny Pickett\",\"Baker Mayfield\",\"Taylor Heinicke\"],\"legendgroup\":\"2\",\"marker\":{\"color\":\"#00cc96\",\"symbol\":\"circle\",\"size\":6},\"name\":\"2\",\"showlegend\":true,\"type\":\"splom\",\"diagonal\":{\"visible\":false}}],                        {\"template\":{\"data\":{\"histogram2dcontour\":[{\"type\":\"histogram2dcontour\",\"colorbar\":{\"outlinewidth\":0,\"ticks\":\"\"},\"colorscale\":[[0.0,\"#0d0887\"],[0.1111111111111111,\"#46039f\"],[0.2222222222222222,\"#7201a8\"],[0.3333333333333333,\"#9c179e\"],[0.4444444444444444,\"#bd3786\"],[0.5555555555555556,\"#d8576b\"],[0.6666666666666666,\"#ed7953\"],[0.7777777777777778,\"#fb9f3a\"],[0.8888888888888888,\"#fdca26\"],[1.0,\"#f0f921\"]]}],\"choropleth\":[{\"type\":\"choropleth\",\"colorbar\":{\"outlinewidth\":0,\"ticks\":\"\"}}],\"histogram2d\":[{\"type\":\"histogram2d\",\"colorbar\":{\"outlinewidth\":0,\"ticks\":\"\"},\"colorscale\":[[0.0,\"#0d0887\"],[0.1111111111111111,\"#46039f\"],[0.2222222222222222,\"#7201a8\"],[0.3333333333333333,\"#9c179e\"],[0.4444444444444444,\"#bd3786\"],[0.5555555555555556,\"#d8576b\"],[0.6666666666666666,\"#ed7953\"],[0.7777777777777778,\"#fb9f3a\"],[0.8888888888888888,\"#fdca26\"],[1.0,\"#f0f921\"]]}],\"heatmap\":[{\"type\":\"heatmap\",\"colorbar\":{\"outlinewidth\":0,\"ticks\":\"\"},\"colorscale\":[[0.0,\"#0d0887\"],[0.1111111111111111,\"#46039f\"],[0.2222222222222222,\"#7201a8\"],[0.3333333333333333,\"#9c179e\"],[0.4444444444444444,\"#bd3786\"],[0.5555555555555556,\"#d8576b\"],[0.6666666666666666,\"#ed7953\"],[0.7777777777777778,\"#fb9f3a\"],[0.8888888888888888,\"#fdca26\"],[1.0,\"#f0f921\"]]}],\"heatmapgl\":[{\"type\":\"heatmapgl\",\"colorbar\":{\"outlinewidth\":0,\"ticks\":\"\"},\"colorscale\":[[0.0,\"#0d0887\"],[0.1111111111111111,\"#46039f\"],[0.2222222222222222,\"#7201a8\"],[0.3333333333333333,\"#9c179e\"],[0.4444444444444444,\"#bd3786\"],[0.5555555555555556,\"#d8576b\"],[0.6666666666666666,\"#ed7953\"],[0.7777777777777778,\"#fb9f3a\"],[0.8888888888888888,\"#fdca26\"],[1.0,\"#f0f921\"]]}],\"contourcarpet\":[{\"type\":\"contourcarpet\",\"colorbar\":{\"outlinewidth\":0,\"ticks\":\"\"}}],\"contour\":[{\"type\":\"contour\",\"colorbar\":{\"outlinewidth\":0,\"ticks\":\"\"},\"colorscale\":[[0.0,\"#0d0887\"],[0.1111111111111111,\"#46039f\"],[0.2222222222222222,\"#7201a8\"],[0.3333333333333333,\"#9c179e\"],[0.4444444444444444,\"#bd3786\"],[0.5555555555555556,\"#d8576b\"],[0.6666666666666666,\"#ed7953\"],[0.7777777777777778,\"#fb9f3a\"],[0.8888888888888888,\"#fdca26\"],[1.0,\"#f0f921\"]]}],\"surface\":[{\"type\":\"surface\",\"colorbar\":{\"outlinewidth\":0,\"ticks\":\"\"},\"colorscale\":[[0.0,\"#0d0887\"],[0.1111111111111111,\"#46039f\"],[0.2222222222222222,\"#7201a8\"],[0.3333333333333333,\"#9c179e\"],[0.4444444444444444,\"#bd3786\"],[0.5555555555555556,\"#d8576b\"],[0.6666666666666666,\"#ed7953\"],[0.7777777777777778,\"#fb9f3a\"],[0.8888888888888888,\"#fdca26\"],[1.0,\"#f0f921\"]]}],\"mesh3d\":[{\"type\":\"mesh3d\",\"colorbar\":{\"outlinewidth\":0,\"ticks\":\"\"}}],\"scatter\":[{\"fillpattern\":{\"fillmode\":\"overlay\",\"size\":10,\"solidity\":0.2},\"type\":\"scatter\"}],\"parcoords\":[{\"type\":\"parcoords\",\"line\":{\"colorbar\":{\"outlinewidth\":0,\"ticks\":\"\"}}}],\"scatterpolargl\":[{\"type\":\"scatterpolargl\",\"marker\":{\"colorbar\":{\"outlinewidth\":0,\"ticks\":\"\"}}}],\"bar\":[{\"error_x\":{\"color\":\"#2a3f5f\"},\"error_y\":{\"color\":\"#2a3f5f\"},\"marker\":{\"line\":{\"color\":\"#E5ECF6\",\"width\":0.5},\"pattern\":{\"fillmode\":\"overlay\",\"size\":10,\"solidity\":0.2}},\"type\":\"bar\"}],\"scattergeo\":[{\"type\":\"scattergeo\",\"marker\":{\"colorbar\":{\"outlinewidth\":0,\"ticks\":\"\"}}}],\"scatterpolar\":[{\"type\":\"scatterpolar\",\"marker\":{\"colorbar\":{\"outlinewidth\":0,\"ticks\":\"\"}}}],\"histogram\":[{\"marker\":{\"pattern\":{\"fillmode\":\"overlay\",\"size\":10,\"solidity\":0.2}},\"type\":\"histogram\"}],\"scattergl\":[{\"type\":\"scattergl\",\"marker\":{\"colorbar\":{\"outlinewidth\":0,\"ticks\":\"\"}}}],\"scatter3d\":[{\"type\":\"scatter3d\",\"line\":{\"colorbar\":{\"outlinewidth\":0,\"ticks\":\"\"}},\"marker\":{\"colorbar\":{\"outlinewidth\":0,\"ticks\":\"\"}}}],\"scattermapbox\":[{\"type\":\"scattermapbox\",\"marker\":{\"colorbar\":{\"outlinewidth\":0,\"ticks\":\"\"}}}],\"scatterternary\":[{\"type\":\"scatterternary\",\"marker\":{\"colorbar\":{\"outlinewidth\":0,\"ticks\":\"\"}}}],\"scattercarpet\":[{\"type\":\"scattercarpet\",\"marker\":{\"colorbar\":{\"outlinewidth\":0,\"ticks\":\"\"}}}],\"carpet\":[{\"aaxis\":{\"endlinecolor\":\"#2a3f5f\",\"gridcolor\":\"white\",\"linecolor\":\"white\",\"minorgridcolor\":\"white\",\"startlinecolor\":\"#2a3f5f\"},\"baxis\":{\"endlinecolor\":\"#2a3f5f\",\"gridcolor\":\"white\",\"linecolor\":\"white\",\"minorgridcolor\":\"white\",\"startlinecolor\":\"#2a3f5f\"},\"type\":\"carpet\"}],\"table\":[{\"cells\":{\"fill\":{\"color\":\"#EBF0F8\"},\"line\":{\"color\":\"white\"}},\"header\":{\"fill\":{\"color\":\"#C8D4E3\"},\"line\":{\"color\":\"white\"}},\"type\":\"table\"}],\"barpolar\":[{\"marker\":{\"line\":{\"color\":\"#E5ECF6\",\"width\":0.5},\"pattern\":{\"fillmode\":\"overlay\",\"size\":10,\"solidity\":0.2}},\"type\":\"barpolar\"}],\"pie\":[{\"automargin\":true,\"type\":\"pie\"}]},\"layout\":{\"autotypenumbers\":\"strict\",\"colorway\":[\"#636efa\",\"#EF553B\",\"#00cc96\",\"#ab63fa\",\"#FFA15A\",\"#19d3f3\",\"#FF6692\",\"#B6E880\",\"#FF97FF\",\"#FECB52\"],\"font\":{\"color\":\"#2a3f5f\"},\"hovermode\":\"closest\",\"hoverlabel\":{\"align\":\"left\"},\"paper_bgcolor\":\"white\",\"plot_bgcolor\":\"#E5ECF6\",\"polar\":{\"bgcolor\":\"#E5ECF6\",\"angularaxis\":{\"gridcolor\":\"white\",\"linecolor\":\"white\",\"ticks\":\"\"},\"radialaxis\":{\"gridcolor\":\"white\",\"linecolor\":\"white\",\"ticks\":\"\"}},\"ternary\":{\"bgcolor\":\"#E5ECF6\",\"aaxis\":{\"gridcolor\":\"white\",\"linecolor\":\"white\",\"ticks\":\"\"},\"baxis\":{\"gridcolor\":\"white\",\"linecolor\":\"white\",\"ticks\":\"\"},\"caxis\":{\"gridcolor\":\"white\",\"linecolor\":\"white\",\"ticks\":\"\"}},\"coloraxis\":{\"colorbar\":{\"outlinewidth\":0,\"ticks\":\"\"}},\"colorscale\":{\"sequential\":[[0.0,\"#0d0887\"],[0.1111111111111111,\"#46039f\"],[0.2222222222222222,\"#7201a8\"],[0.3333333333333333,\"#9c179e\"],[0.4444444444444444,\"#bd3786\"],[0.5555555555555556,\"#d8576b\"],[0.6666666666666666,\"#ed7953\"],[0.7777777777777778,\"#fb9f3a\"],[0.8888888888888888,\"#fdca26\"],[1.0,\"#f0f921\"]],\"sequentialminus\":[[0.0,\"#0d0887\"],[0.1111111111111111,\"#46039f\"],[0.2222222222222222,\"#7201a8\"],[0.3333333333333333,\"#9c179e\"],[0.4444444444444444,\"#bd3786\"],[0.5555555555555556,\"#d8576b\"],[0.6666666666666666,\"#ed7953\"],[0.7777777777777778,\"#fb9f3a\"],[0.8888888888888888,\"#fdca26\"],[1.0,\"#f0f921\"]],\"diverging\":[[0,\"#8e0152\"],[0.1,\"#c51b7d\"],[0.2,\"#de77ae\"],[0.3,\"#f1b6da\"],[0.4,\"#fde0ef\"],[0.5,\"#f7f7f7\"],[0.6,\"#e6f5d0\"],[0.7,\"#b8e186\"],[0.8,\"#7fbc41\"],[0.9,\"#4d9221\"],[1,\"#276419\"]]},\"xaxis\":{\"gridcolor\":\"white\",\"linecolor\":\"white\",\"ticks\":\"\",\"title\":{\"standoff\":15},\"zerolinecolor\":\"white\",\"automargin\":true,\"zerolinewidth\":2},\"yaxis\":{\"gridcolor\":\"white\",\"linecolor\":\"white\",\"ticks\":\"\",\"title\":{\"standoff\":15},\"zerolinecolor\":\"white\",\"automargin\":true,\"zerolinewidth\":2},\"scene\":{\"xaxis\":{\"backgroundcolor\":\"#E5ECF6\",\"gridcolor\":\"white\",\"linecolor\":\"white\",\"showbackground\":true,\"ticks\":\"\",\"zerolinecolor\":\"white\",\"gridwidth\":2},\"yaxis\":{\"backgroundcolor\":\"#E5ECF6\",\"gridcolor\":\"white\",\"linecolor\":\"white\",\"showbackground\":true,\"ticks\":\"\",\"zerolinecolor\":\"white\",\"gridwidth\":2},\"zaxis\":{\"backgroundcolor\":\"#E5ECF6\",\"gridcolor\":\"white\",\"linecolor\":\"white\",\"showbackground\":true,\"ticks\":\"\",\"zerolinecolor\":\"white\",\"gridwidth\":2}},\"shapedefaults\":{\"line\":{\"color\":\"#2a3f5f\"}},\"annotationdefaults\":{\"arrowcolor\":\"#2a3f5f\",\"arrowhead\":0,\"arrowwidth\":1},\"geo\":{\"bgcolor\":\"white\",\"landcolor\":\"#E5ECF6\",\"subunitcolor\":\"white\",\"showland\":true,\"showlakes\":true,\"lakecolor\":\"white\"},\"title\":{\"x\":0.05},\"mapbox\":{\"style\":\"light\"}}},\"legend\":{\"title\":{\"text\":\"Cluster\"},\"tracegroupgap\":0},\"margin\":{\"t\":60},\"dragmode\":\"select\",\"font\":{\"family\":\"Courier New, monospace\",\"size\":10,\"color\":\"black\"},\"paper_bgcolor\":\"rgba(0,0,0,0)\",\"plot_bgcolor\":\"rgba(245, 245, 245, 1)\",\"showlegend\":true,\"xaxis\":{\"showgrid\":true,\"gridwidth\":0.5,\"gridcolor\":\"rgba(200, 200, 200, 0.5)\"},\"yaxis\":{\"showgrid\":true,\"gridwidth\":0.5,\"gridcolor\":\"rgba(200, 200, 200, 0.5)\"},\"width\":1000,\"height\":1000},                        {\"responsive\": true}                    ).then(function(){\n",
       "                            \n",
       "var gd = document.getElementById('a5e8e16b-a27c-45e8-9b57-070d30c01cf8');\n",
       "var x = new MutationObserver(function (mutations, observer) {{\n",
       "        var display = window.getComputedStyle(gd).display;\n",
       "        if (!display || display === 'none') {{\n",
       "            console.log([gd, 'removed!']);\n",
       "            Plotly.purge(gd);\n",
       "            observer.disconnect();\n",
       "        }}\n",
       "}});\n",
       "\n",
       "// Listen for the removal of the full notebook cells\n",
       "var notebookContainer = gd.closest('#notebook-container');\n",
       "if (notebookContainer) {{\n",
       "    x.observe(notebookContainer, {childList: true});\n",
       "}}\n",
       "\n",
       "// Listen for the clearing of the current output cell\n",
       "var outputEl = gd.closest('.output');\n",
       "if (outputEl) {{\n",
       "    x.observe(outputEl, {childList: true});\n",
       "}}\n",
       "\n",
       "                        })                };                });            </script>        </div>"
      ]
     },
     "metadata": {},
     "output_type": "display_data"
    }
   ],
   "source": [
    "graph_pair_plot_plotly(df=df_3, cluster_rankings=cluster_ranking_3,\n",
    "                       position=position, stats=stats, \n",
    "                       save_suffix=suffix, font_size=font_size, marker_size=marker_size,\n",
    "                       height=dim, width=dim\n",
    "                      )"
   ]
  },
  {
   "cell_type": "code",
   "execution_count": 50,
   "id": "ea7cbc05",
   "metadata": {
    "scrolled": false
   },
   "outputs": [
    {
     "name": "stdout",
     "output_type": "stream",
     "text": [
      "<div style='display: flex; justify-content: space-evenly;''>\n",
      "\t<div>\n",
      "\t\t<b>Cluster 0 ()</b>\n",
      "\t\t<ul class='bullet-list'>\n",
      "\t\t\t<li>Jalen Hurts</li>\n",
      "\t\t\t<li>Aaron Rodgers</li>\n",
      "\t\t\t<li>Tua Tagovailoa</li>\n",
      "\t\t\t<li>Russell Wilson</li>\n",
      "\t\t\t<li>Derek Carr</li>\n",
      "\t\t\t<li>Dak Prescott</li>\n",
      "\t\t\t<li>Davis Mills</li>\n",
      "\t\t\t<li>Mac Jones</li>\n",
      "\t\t\t<li>Matt Ryan</li>\n",
      "\t\t</ul>\n",
      "\t</div>\n",
      "\n",
      "\t<div>\n",
      "\t\t<b>Cluster 1 ()</b>\n",
      "\t\t<ul class='bullet-list'>\n",
      "\t\t\t<li>Patrick Mahomes</li>\n",
      "\t\t\t<li>Josh Allen</li>\n",
      "\t\t\t<li>Joe Burrow</li>\n",
      "\t\t\t<li>Geno Smith</li>\n",
      "\t\t\t<li>Trevor Lawrence</li>\n",
      "\t\t\t<li>Kirk Cousins</li>\n",
      "\t\t\t<li>Jared Goff</li>\n",
      "\t\t\t<li>Justin Herbert</li>\n",
      "\t\t\t<li>Tom Brady</li>\n",
      "\t\t</ul>\n",
      "\t</div>\n",
      "\n",
      "\t<div>\n",
      "\t\t<b>Cluster 2 ()</b>\n",
      "\t\t<ul class='bullet-list'>\n",
      "\t\t\t<li>Justin Fields</li>\n",
      "\t\t\t<li>Daniel Jones</li>\n",
      "\t\t\t<li>Lamar Jackson</li>\n",
      "\t\t\t<li>Kyler Murray</li>\n",
      "\t\t\t<li>Marcus Mariota</li>\n",
      "\t\t\t<li>Andy Dalton</li>\n",
      "\t\t\t<li>Jacoby Brissett</li>\n",
      "\t\t\t<li>Jimmy Garoppolo</li>\n",
      "\t\t\t<li>Ryan Tannehill</li>\n",
      "\t\t\t<li>Kenny Pickett</li>\n",
      "\t\t\t<li>Baker Mayfield</li>\n",
      "\t\t\t<li>Taylor Heinicke</li>\n",
      "\t\t</ul>\n",
      "\t</div>\n",
      "</div>\n",
      "<p class='blog-p-tag'>\n",
      "\tTODO:\n",
      "\t<ul class='bullet-list'>\n",
      "\t\t<li><b>Cluster 0:</b> TODO</li>\n",
      "\t\t<li><b>Cluster 1:</b> TODO</li>\n",
      "\t\t<li><b>Cluster 2:</b> TODO</li>\n",
      "\t</ul>\n",
      "</p>\n",
      "<p class=\"blog-p-tag\">\n",
      "    TODO\n",
      "</p>\n",
      "    \n"
     ]
    }
   ],
   "source": [
    "create_cluster_html_tiers(df_3)"
   ]
  },
  {
   "cell_type": "markdown",
   "id": "6eb39ab6",
   "metadata": {},
   "source": [
    "### 4 Clusters"
   ]
  },
  {
   "cell_type": "code",
   "execution_count": 38,
   "id": "7358fea0",
   "metadata": {},
   "outputs": [],
   "source": [
    "df_4 = create_cluster_df(labels=labels_4, X=X, stats=stats)"
   ]
  },
  {
   "cell_type": "code",
   "execution_count": 39,
   "id": "c8e9a91c",
   "metadata": {},
   "outputs": [
    {
     "data": {
      "application/vnd.plotly.v1+json": {
       "config": {
        "plotlyServerURL": "https://plot.ly"
       },
       "data": [
        {
         "diagonal": {
          "visible": false
         },
         "dimensions": [
          {
           "axis": {
            "matches": true
           },
           "label": "Passing Yards",
           "values": [
            5250,
            4283,
            4475,
            4282,
            4113,
            4547,
            4438,
            4739,
            4694,
            3695
           ]
          },
          {
           "axis": {
            "matches": true
           },
           "label": "Attempts",
           "values": [
            648,
            567,
            606,
            572,
            584,
            643,
            587,
            699,
            733,
            542
           ]
          },
          {
           "axis": {
            "matches": true
           },
           "label": "Completions",
           "values": [
            435,
            359,
            414,
            399,
            387,
            424,
            382,
            477,
            490,
            350
           ]
          },
          {
           "axis": {
            "matches": true
           },
           "label": "Passing TDs",
           "values": [
            41,
            35,
            35,
            30,
            25,
            29,
            29,
            25,
            25,
            26
           ]
          },
          {
           "axis": {
            "matches": true
           },
           "label": "Interceptions",
           "values": [
            12,
            14,
            12,
            11,
            8,
            14,
            7,
            10,
            9,
            12
           ]
          }
         ],
         "hovertemplate": "<b>%{hovertext}</b><br><br>Cluster=0<br>%{xaxis.title.text}=%{x}<br>%{yaxis.title.text}=%{y}<extra></extra>",
         "hovertext": [
          "Patrick Mahomes",
          "Josh Allen",
          "Joe Burrow",
          "Geno Smith",
          "Trevor Lawrence",
          "Kirk Cousins",
          "Jared Goff",
          "Justin Herbert",
          "Tom Brady",
          "Aaron Rodgers"
         ],
         "legendgroup": "0",
         "marker": {
          "color": "#636efa",
          "size": 6,
          "symbol": "circle"
         },
         "name": "0",
         "showlegend": true,
         "type": "splom"
        },
        {
         "diagonal": {
          "visible": false
         },
         "dimensions": [
          {
           "axis": {
            "matches": true
           },
           "label": "Passing Yards",
           "values": [
            3701,
            3205,
            3548,
            2871
           ]
          },
          {
           "axis": {
            "matches": true
           },
           "label": "Attempts",
           "values": [
            460,
            472,
            400,
            378
           ]
          },
          {
           "axis": {
            "matches": true
           },
           "label": "Completions",
           "values": [
            306,
            317,
            259,
            252
           ]
          },
          {
           "axis": {
            "matches": true
           },
           "label": "Passing TDs",
           "values": [
            22,
            15,
            25,
            18
           ]
          },
          {
           "axis": {
            "matches": true
           },
           "label": "Interceptions",
           "values": [
            6,
            5,
            8,
            9
           ]
          }
         ],
         "hovertemplate": "<b>%{hovertext}</b><br><br>Cluster=2<br>%{xaxis.title.text}=%{x}<br>%{yaxis.title.text}=%{y}<extra></extra>",
         "hovertext": [
          "Jalen Hurts",
          "Daniel Jones",
          "Tua Tagovailoa",
          "Andy Dalton"
         ],
         "legendgroup": "2",
         "marker": {
          "color": "#EF553B",
          "size": 6,
          "symbol": "circle"
         },
         "name": "2",
         "showlegend": true,
         "type": "splom"
        },
        {
         "diagonal": {
          "visible": false
         },
         "dimensions": [
          {
           "axis": {
            "matches": true
           },
           "label": "Passing Yards",
           "values": [
            2242,
            2242,
            2368,
            2219,
            2608,
            2437,
            2536,
            2404,
            2163,
            1859
           ]
          },
          {
           "axis": {
            "matches": true
           },
           "label": "Attempts",
           "values": [
            318,
            326,
            390,
            300,
            369,
            308,
            325,
            389,
            335,
            259
           ]
          },
          {
           "axis": {
            "matches": true
           },
           "label": "Completions",
           "values": [
            192,
            203,
            259,
            184,
            236,
            207,
            212,
            245,
            201,
            161
           ]
          },
          {
           "axis": {
            "matches": true
           },
           "label": "Passing TDs",
           "values": [
            17,
            17,
            14,
            15,
            12,
            16,
            13,
            7,
            10,
            12
           ]
          },
          {
           "axis": {
            "matches": true
           },
           "label": "Interceptions",
           "values": [
            11,
            7,
            7,
            9,
            6,
            4,
            6,
            9,
            8,
            6
           ]
          }
         ],
         "hovertemplate": "<b>%{hovertext}</b><br><br>Cluster=1<br>%{xaxis.title.text}=%{x}<br>%{yaxis.title.text}=%{y}<extra></extra>",
         "hovertext": [
          "Justin Fields",
          "Lamar Jackson",
          "Kyler Murray",
          "Marcus Mariota",
          "Jacoby Brissett",
          "Jimmy Garoppolo",
          "Ryan Tannehill",
          "Kenny Pickett",
          "Baker Mayfield",
          "Taylor Heinicke"
         ],
         "legendgroup": "1",
         "marker": {
          "color": "#00cc96",
          "size": 6,
          "symbol": "circle"
         },
         "name": "1",
         "showlegend": true,
         "type": "splom"
        },
        {
         "diagonal": {
          "visible": false
         },
         "dimensions": [
          {
           "axis": {
            "matches": true
           },
           "label": "Passing Yards",
           "values": [
            3524,
            3522,
            2860,
            3118,
            2997,
            3057
           ]
          },
          {
           "axis": {
            "matches": true
           },
           "label": "Attempts",
           "values": [
            483,
            502,
            394,
            479,
            442,
            461
           ]
          },
          {
           "axis": {
            "matches": true
           },
           "label": "Completions",
           "values": [
            292,
            305,
            261,
            292,
            288,
            309
           ]
          },
          {
           "axis": {
            "matches": true
           },
           "label": "Passing TDs",
           "values": [
            16,
            24,
            23,
            17,
            14,
            14
           ]
          },
          {
           "axis": {
            "matches": true
           },
           "label": "Interceptions",
           "values": [
            11,
            14,
            15,
            15,
            11,
            13
           ]
          }
         ],
         "hovertemplate": "<b>%{hovertext}</b><br><br>Cluster=3<br>%{xaxis.title.text}=%{x}<br>%{yaxis.title.text}=%{y}<extra></extra>",
         "hovertext": [
          "Russell Wilson",
          "Derek Carr",
          "Dak Prescott",
          "Davis Mills",
          "Mac Jones",
          "Matt Ryan"
         ],
         "legendgroup": "3",
         "marker": {
          "color": "#ab63fa",
          "size": 6,
          "symbol": "circle"
         },
         "name": "3",
         "showlegend": true,
         "type": "splom"
        }
       ],
       "layout": {
        "dragmode": "select",
        "font": {
         "color": "black",
         "family": "Courier New, monospace",
         "size": 10
        },
        "height": 1000,
        "legend": {
         "title": {
          "text": "Cluster"
         },
         "tracegroupgap": 0
        },
        "margin": {
         "t": 60
        },
        "paper_bgcolor": "rgba(0,0,0,0)",
        "plot_bgcolor": "rgba(245, 245, 245, 1)",
        "showlegend": true,
        "template": {
         "data": {
          "bar": [
           {
            "error_x": {
             "color": "#2a3f5f"
            },
            "error_y": {
             "color": "#2a3f5f"
            },
            "marker": {
             "line": {
              "color": "#E5ECF6",
              "width": 0.5
             },
             "pattern": {
              "fillmode": "overlay",
              "size": 10,
              "solidity": 0.2
             }
            },
            "type": "bar"
           }
          ],
          "barpolar": [
           {
            "marker": {
             "line": {
              "color": "#E5ECF6",
              "width": 0.5
             },
             "pattern": {
              "fillmode": "overlay",
              "size": 10,
              "solidity": 0.2
             }
            },
            "type": "barpolar"
           }
          ],
          "carpet": [
           {
            "aaxis": {
             "endlinecolor": "#2a3f5f",
             "gridcolor": "white",
             "linecolor": "white",
             "minorgridcolor": "white",
             "startlinecolor": "#2a3f5f"
            },
            "baxis": {
             "endlinecolor": "#2a3f5f",
             "gridcolor": "white",
             "linecolor": "white",
             "minorgridcolor": "white",
             "startlinecolor": "#2a3f5f"
            },
            "type": "carpet"
           }
          ],
          "choropleth": [
           {
            "colorbar": {
             "outlinewidth": 0,
             "ticks": ""
            },
            "type": "choropleth"
           }
          ],
          "contour": [
           {
            "colorbar": {
             "outlinewidth": 0,
             "ticks": ""
            },
            "colorscale": [
             [
              0,
              "#0d0887"
             ],
             [
              0.1111111111111111,
              "#46039f"
             ],
             [
              0.2222222222222222,
              "#7201a8"
             ],
             [
              0.3333333333333333,
              "#9c179e"
             ],
             [
              0.4444444444444444,
              "#bd3786"
             ],
             [
              0.5555555555555556,
              "#d8576b"
             ],
             [
              0.6666666666666666,
              "#ed7953"
             ],
             [
              0.7777777777777778,
              "#fb9f3a"
             ],
             [
              0.8888888888888888,
              "#fdca26"
             ],
             [
              1,
              "#f0f921"
             ]
            ],
            "type": "contour"
           }
          ],
          "contourcarpet": [
           {
            "colorbar": {
             "outlinewidth": 0,
             "ticks": ""
            },
            "type": "contourcarpet"
           }
          ],
          "heatmap": [
           {
            "colorbar": {
             "outlinewidth": 0,
             "ticks": ""
            },
            "colorscale": [
             [
              0,
              "#0d0887"
             ],
             [
              0.1111111111111111,
              "#46039f"
             ],
             [
              0.2222222222222222,
              "#7201a8"
             ],
             [
              0.3333333333333333,
              "#9c179e"
             ],
             [
              0.4444444444444444,
              "#bd3786"
             ],
             [
              0.5555555555555556,
              "#d8576b"
             ],
             [
              0.6666666666666666,
              "#ed7953"
             ],
             [
              0.7777777777777778,
              "#fb9f3a"
             ],
             [
              0.8888888888888888,
              "#fdca26"
             ],
             [
              1,
              "#f0f921"
             ]
            ],
            "type": "heatmap"
           }
          ],
          "heatmapgl": [
           {
            "colorbar": {
             "outlinewidth": 0,
             "ticks": ""
            },
            "colorscale": [
             [
              0,
              "#0d0887"
             ],
             [
              0.1111111111111111,
              "#46039f"
             ],
             [
              0.2222222222222222,
              "#7201a8"
             ],
             [
              0.3333333333333333,
              "#9c179e"
             ],
             [
              0.4444444444444444,
              "#bd3786"
             ],
             [
              0.5555555555555556,
              "#d8576b"
             ],
             [
              0.6666666666666666,
              "#ed7953"
             ],
             [
              0.7777777777777778,
              "#fb9f3a"
             ],
             [
              0.8888888888888888,
              "#fdca26"
             ],
             [
              1,
              "#f0f921"
             ]
            ],
            "type": "heatmapgl"
           }
          ],
          "histogram": [
           {
            "marker": {
             "pattern": {
              "fillmode": "overlay",
              "size": 10,
              "solidity": 0.2
             }
            },
            "type": "histogram"
           }
          ],
          "histogram2d": [
           {
            "colorbar": {
             "outlinewidth": 0,
             "ticks": ""
            },
            "colorscale": [
             [
              0,
              "#0d0887"
             ],
             [
              0.1111111111111111,
              "#46039f"
             ],
             [
              0.2222222222222222,
              "#7201a8"
             ],
             [
              0.3333333333333333,
              "#9c179e"
             ],
             [
              0.4444444444444444,
              "#bd3786"
             ],
             [
              0.5555555555555556,
              "#d8576b"
             ],
             [
              0.6666666666666666,
              "#ed7953"
             ],
             [
              0.7777777777777778,
              "#fb9f3a"
             ],
             [
              0.8888888888888888,
              "#fdca26"
             ],
             [
              1,
              "#f0f921"
             ]
            ],
            "type": "histogram2d"
           }
          ],
          "histogram2dcontour": [
           {
            "colorbar": {
             "outlinewidth": 0,
             "ticks": ""
            },
            "colorscale": [
             [
              0,
              "#0d0887"
             ],
             [
              0.1111111111111111,
              "#46039f"
             ],
             [
              0.2222222222222222,
              "#7201a8"
             ],
             [
              0.3333333333333333,
              "#9c179e"
             ],
             [
              0.4444444444444444,
              "#bd3786"
             ],
             [
              0.5555555555555556,
              "#d8576b"
             ],
             [
              0.6666666666666666,
              "#ed7953"
             ],
             [
              0.7777777777777778,
              "#fb9f3a"
             ],
             [
              0.8888888888888888,
              "#fdca26"
             ],
             [
              1,
              "#f0f921"
             ]
            ],
            "type": "histogram2dcontour"
           }
          ],
          "mesh3d": [
           {
            "colorbar": {
             "outlinewidth": 0,
             "ticks": ""
            },
            "type": "mesh3d"
           }
          ],
          "parcoords": [
           {
            "line": {
             "colorbar": {
              "outlinewidth": 0,
              "ticks": ""
             }
            },
            "type": "parcoords"
           }
          ],
          "pie": [
           {
            "automargin": true,
            "type": "pie"
           }
          ],
          "scatter": [
           {
            "fillpattern": {
             "fillmode": "overlay",
             "size": 10,
             "solidity": 0.2
            },
            "type": "scatter"
           }
          ],
          "scatter3d": [
           {
            "line": {
             "colorbar": {
              "outlinewidth": 0,
              "ticks": ""
             }
            },
            "marker": {
             "colorbar": {
              "outlinewidth": 0,
              "ticks": ""
             }
            },
            "type": "scatter3d"
           }
          ],
          "scattercarpet": [
           {
            "marker": {
             "colorbar": {
              "outlinewidth": 0,
              "ticks": ""
             }
            },
            "type": "scattercarpet"
           }
          ],
          "scattergeo": [
           {
            "marker": {
             "colorbar": {
              "outlinewidth": 0,
              "ticks": ""
             }
            },
            "type": "scattergeo"
           }
          ],
          "scattergl": [
           {
            "marker": {
             "colorbar": {
              "outlinewidth": 0,
              "ticks": ""
             }
            },
            "type": "scattergl"
           }
          ],
          "scattermapbox": [
           {
            "marker": {
             "colorbar": {
              "outlinewidth": 0,
              "ticks": ""
             }
            },
            "type": "scattermapbox"
           }
          ],
          "scatterpolar": [
           {
            "marker": {
             "colorbar": {
              "outlinewidth": 0,
              "ticks": ""
             }
            },
            "type": "scatterpolar"
           }
          ],
          "scatterpolargl": [
           {
            "marker": {
             "colorbar": {
              "outlinewidth": 0,
              "ticks": ""
             }
            },
            "type": "scatterpolargl"
           }
          ],
          "scatterternary": [
           {
            "marker": {
             "colorbar": {
              "outlinewidth": 0,
              "ticks": ""
             }
            },
            "type": "scatterternary"
           }
          ],
          "surface": [
           {
            "colorbar": {
             "outlinewidth": 0,
             "ticks": ""
            },
            "colorscale": [
             [
              0,
              "#0d0887"
             ],
             [
              0.1111111111111111,
              "#46039f"
             ],
             [
              0.2222222222222222,
              "#7201a8"
             ],
             [
              0.3333333333333333,
              "#9c179e"
             ],
             [
              0.4444444444444444,
              "#bd3786"
             ],
             [
              0.5555555555555556,
              "#d8576b"
             ],
             [
              0.6666666666666666,
              "#ed7953"
             ],
             [
              0.7777777777777778,
              "#fb9f3a"
             ],
             [
              0.8888888888888888,
              "#fdca26"
             ],
             [
              1,
              "#f0f921"
             ]
            ],
            "type": "surface"
           }
          ],
          "table": [
           {
            "cells": {
             "fill": {
              "color": "#EBF0F8"
             },
             "line": {
              "color": "white"
             }
            },
            "header": {
             "fill": {
              "color": "#C8D4E3"
             },
             "line": {
              "color": "white"
             }
            },
            "type": "table"
           }
          ]
         },
         "layout": {
          "annotationdefaults": {
           "arrowcolor": "#2a3f5f",
           "arrowhead": 0,
           "arrowwidth": 1
          },
          "autotypenumbers": "strict",
          "coloraxis": {
           "colorbar": {
            "outlinewidth": 0,
            "ticks": ""
           }
          },
          "colorscale": {
           "diverging": [
            [
             0,
             "#8e0152"
            ],
            [
             0.1,
             "#c51b7d"
            ],
            [
             0.2,
             "#de77ae"
            ],
            [
             0.3,
             "#f1b6da"
            ],
            [
             0.4,
             "#fde0ef"
            ],
            [
             0.5,
             "#f7f7f7"
            ],
            [
             0.6,
             "#e6f5d0"
            ],
            [
             0.7,
             "#b8e186"
            ],
            [
             0.8,
             "#7fbc41"
            ],
            [
             0.9,
             "#4d9221"
            ],
            [
             1,
             "#276419"
            ]
           ],
           "sequential": [
            [
             0,
             "#0d0887"
            ],
            [
             0.1111111111111111,
             "#46039f"
            ],
            [
             0.2222222222222222,
             "#7201a8"
            ],
            [
             0.3333333333333333,
             "#9c179e"
            ],
            [
             0.4444444444444444,
             "#bd3786"
            ],
            [
             0.5555555555555556,
             "#d8576b"
            ],
            [
             0.6666666666666666,
             "#ed7953"
            ],
            [
             0.7777777777777778,
             "#fb9f3a"
            ],
            [
             0.8888888888888888,
             "#fdca26"
            ],
            [
             1,
             "#f0f921"
            ]
           ],
           "sequentialminus": [
            [
             0,
             "#0d0887"
            ],
            [
             0.1111111111111111,
             "#46039f"
            ],
            [
             0.2222222222222222,
             "#7201a8"
            ],
            [
             0.3333333333333333,
             "#9c179e"
            ],
            [
             0.4444444444444444,
             "#bd3786"
            ],
            [
             0.5555555555555556,
             "#d8576b"
            ],
            [
             0.6666666666666666,
             "#ed7953"
            ],
            [
             0.7777777777777778,
             "#fb9f3a"
            ],
            [
             0.8888888888888888,
             "#fdca26"
            ],
            [
             1,
             "#f0f921"
            ]
           ]
          },
          "colorway": [
           "#636efa",
           "#EF553B",
           "#00cc96",
           "#ab63fa",
           "#FFA15A",
           "#19d3f3",
           "#FF6692",
           "#B6E880",
           "#FF97FF",
           "#FECB52"
          ],
          "font": {
           "color": "#2a3f5f"
          },
          "geo": {
           "bgcolor": "white",
           "lakecolor": "white",
           "landcolor": "#E5ECF6",
           "showlakes": true,
           "showland": true,
           "subunitcolor": "white"
          },
          "hoverlabel": {
           "align": "left"
          },
          "hovermode": "closest",
          "mapbox": {
           "style": "light"
          },
          "paper_bgcolor": "white",
          "plot_bgcolor": "#E5ECF6",
          "polar": {
           "angularaxis": {
            "gridcolor": "white",
            "linecolor": "white",
            "ticks": ""
           },
           "bgcolor": "#E5ECF6",
           "radialaxis": {
            "gridcolor": "white",
            "linecolor": "white",
            "ticks": ""
           }
          },
          "scene": {
           "xaxis": {
            "backgroundcolor": "#E5ECF6",
            "gridcolor": "white",
            "gridwidth": 2,
            "linecolor": "white",
            "showbackground": true,
            "ticks": "",
            "zerolinecolor": "white"
           },
           "yaxis": {
            "backgroundcolor": "#E5ECF6",
            "gridcolor": "white",
            "gridwidth": 2,
            "linecolor": "white",
            "showbackground": true,
            "ticks": "",
            "zerolinecolor": "white"
           },
           "zaxis": {
            "backgroundcolor": "#E5ECF6",
            "gridcolor": "white",
            "gridwidth": 2,
            "linecolor": "white",
            "showbackground": true,
            "ticks": "",
            "zerolinecolor": "white"
           }
          },
          "shapedefaults": {
           "line": {
            "color": "#2a3f5f"
           }
          },
          "ternary": {
           "aaxis": {
            "gridcolor": "white",
            "linecolor": "white",
            "ticks": ""
           },
           "baxis": {
            "gridcolor": "white",
            "linecolor": "white",
            "ticks": ""
           },
           "bgcolor": "#E5ECF6",
           "caxis": {
            "gridcolor": "white",
            "linecolor": "white",
            "ticks": ""
           }
          },
          "title": {
           "x": 0.05
          },
          "xaxis": {
           "automargin": true,
           "gridcolor": "white",
           "linecolor": "white",
           "ticks": "",
           "title": {
            "standoff": 15
           },
           "zerolinecolor": "white",
           "zerolinewidth": 2
          },
          "yaxis": {
           "automargin": true,
           "gridcolor": "white",
           "linecolor": "white",
           "ticks": "",
           "title": {
            "standoff": 15
           },
           "zerolinecolor": "white",
           "zerolinewidth": 2
          }
         }
        },
        "width": 1000,
        "xaxis": {
         "gridcolor": "rgba(200, 200, 200, 0.5)",
         "gridwidth": 0.5,
         "showgrid": true
        },
        "yaxis": {
         "gridcolor": "rgba(200, 200, 200, 0.5)",
         "gridwidth": 0.5,
         "showgrid": true
        }
       }
      },
      "text/html": [
       "<div>                            <div id=\"f1ad1a96-604f-4775-8722-bfd377a85676\" class=\"plotly-graph-div\" style=\"height:1000px; width:1000px;\"></div>            <script type=\"text/javascript\">                require([\"plotly\"], function(Plotly) {                    window.PLOTLYENV=window.PLOTLYENV || {};                                    if (document.getElementById(\"f1ad1a96-604f-4775-8722-bfd377a85676\")) {                    Plotly.newPlot(                        \"f1ad1a96-604f-4775-8722-bfd377a85676\",                        [{\"dimensions\":[{\"axis\":{\"matches\":true},\"label\":\"Passing Yards\",\"values\":[5250.0,4283.0,4475.0,4282.0,4113.0,4547.0,4438.0,4739.0,4694.0,3695.0]},{\"axis\":{\"matches\":true},\"label\":\"Attempts\",\"values\":[648.0,567.0,606.0,572.0,584.0,643.0,587.0,699.0,733.0,542.0]},{\"axis\":{\"matches\":true},\"label\":\"Completions\",\"values\":[435.0,359.0,414.0,399.0,387.0,424.0,382.0,477.0,490.0,350.0]},{\"axis\":{\"matches\":true},\"label\":\"Passing TDs\",\"values\":[41.0,35.0,35.0,30.0,25.0,29.0,29.0,25.0,25.0,26.0]},{\"axis\":{\"matches\":true},\"label\":\"Interceptions\",\"values\":[12.0,14.0,12.0,11.0,8.0,14.0,7.0,10.0,9.0,12.0]}],\"hovertemplate\":\"\\u003cb\\u003e%{hovertext}\\u003c\\u002fb\\u003e\\u003cbr\\u003e\\u003cbr\\u003eCluster=0\\u003cbr\\u003e%{xaxis.title.text}=%{x}\\u003cbr\\u003e%{yaxis.title.text}=%{y}\\u003cextra\\u003e\\u003c\\u002fextra\\u003e\",\"hovertext\":[\"Patrick Mahomes\",\"Josh Allen\",\"Joe Burrow\",\"Geno Smith\",\"Trevor Lawrence\",\"Kirk Cousins\",\"Jared Goff\",\"Justin Herbert\",\"Tom Brady\",\"Aaron Rodgers\"],\"legendgroup\":\"0\",\"marker\":{\"color\":\"#636efa\",\"symbol\":\"circle\",\"size\":6},\"name\":\"0\",\"showlegend\":true,\"type\":\"splom\",\"diagonal\":{\"visible\":false}},{\"dimensions\":[{\"axis\":{\"matches\":true},\"label\":\"Passing Yards\",\"values\":[3701.0,3205.0,3548.0,2871.0]},{\"axis\":{\"matches\":true},\"label\":\"Attempts\",\"values\":[460.0,472.0,400.0,378.0]},{\"axis\":{\"matches\":true},\"label\":\"Completions\",\"values\":[306.0,317.0,259.0,252.0]},{\"axis\":{\"matches\":true},\"label\":\"Passing TDs\",\"values\":[22.0,15.0,25.0,18.0]},{\"axis\":{\"matches\":true},\"label\":\"Interceptions\",\"values\":[6.0,5.0,8.0,9.0]}],\"hovertemplate\":\"\\u003cb\\u003e%{hovertext}\\u003c\\u002fb\\u003e\\u003cbr\\u003e\\u003cbr\\u003eCluster=2\\u003cbr\\u003e%{xaxis.title.text}=%{x}\\u003cbr\\u003e%{yaxis.title.text}=%{y}\\u003cextra\\u003e\\u003c\\u002fextra\\u003e\",\"hovertext\":[\"Jalen Hurts\",\"Daniel Jones\",\"Tua Tagovailoa\",\"Andy Dalton\"],\"legendgroup\":\"2\",\"marker\":{\"color\":\"#EF553B\",\"symbol\":\"circle\",\"size\":6},\"name\":\"2\",\"showlegend\":true,\"type\":\"splom\",\"diagonal\":{\"visible\":false}},{\"dimensions\":[{\"axis\":{\"matches\":true},\"label\":\"Passing Yards\",\"values\":[2242.0,2242.0,2368.0,2219.0,2608.0,2437.0,2536.0,2404.0,2163.0,1859.0]},{\"axis\":{\"matches\":true},\"label\":\"Attempts\",\"values\":[318.0,326.0,390.0,300.0,369.0,308.0,325.0,389.0,335.0,259.0]},{\"axis\":{\"matches\":true},\"label\":\"Completions\",\"values\":[192.0,203.0,259.0,184.0,236.0,207.0,212.0,245.0,201.0,161.0]},{\"axis\":{\"matches\":true},\"label\":\"Passing TDs\",\"values\":[17.0,17.0,14.0,15.0,12.0,16.0,13.0,7.0,10.0,12.0]},{\"axis\":{\"matches\":true},\"label\":\"Interceptions\",\"values\":[11.0,7.0,7.0,9.0,6.0,4.0,6.0,9.0,8.0,6.0]}],\"hovertemplate\":\"\\u003cb\\u003e%{hovertext}\\u003c\\u002fb\\u003e\\u003cbr\\u003e\\u003cbr\\u003eCluster=1\\u003cbr\\u003e%{xaxis.title.text}=%{x}\\u003cbr\\u003e%{yaxis.title.text}=%{y}\\u003cextra\\u003e\\u003c\\u002fextra\\u003e\",\"hovertext\":[\"Justin Fields\",\"Lamar Jackson\",\"Kyler Murray\",\"Marcus Mariota\",\"Jacoby Brissett\",\"Jimmy Garoppolo\",\"Ryan Tannehill\",\"Kenny Pickett\",\"Baker Mayfield\",\"Taylor Heinicke\"],\"legendgroup\":\"1\",\"marker\":{\"color\":\"#00cc96\",\"symbol\":\"circle\",\"size\":6},\"name\":\"1\",\"showlegend\":true,\"type\":\"splom\",\"diagonal\":{\"visible\":false}},{\"dimensions\":[{\"axis\":{\"matches\":true},\"label\":\"Passing Yards\",\"values\":[3524.0,3522.0,2860.0,3118.0,2997.0,3057.0]},{\"axis\":{\"matches\":true},\"label\":\"Attempts\",\"values\":[483.0,502.0,394.0,479.0,442.0,461.0]},{\"axis\":{\"matches\":true},\"label\":\"Completions\",\"values\":[292.0,305.0,261.0,292.0,288.0,309.0]},{\"axis\":{\"matches\":true},\"label\":\"Passing TDs\",\"values\":[16.0,24.0,23.0,17.0,14.0,14.0]},{\"axis\":{\"matches\":true},\"label\":\"Interceptions\",\"values\":[11.0,14.0,15.0,15.0,11.0,13.0]}],\"hovertemplate\":\"\\u003cb\\u003e%{hovertext}\\u003c\\u002fb\\u003e\\u003cbr\\u003e\\u003cbr\\u003eCluster=3\\u003cbr\\u003e%{xaxis.title.text}=%{x}\\u003cbr\\u003e%{yaxis.title.text}=%{y}\\u003cextra\\u003e\\u003c\\u002fextra\\u003e\",\"hovertext\":[\"Russell Wilson\",\"Derek Carr\",\"Dak Prescott\",\"Davis Mills\",\"Mac Jones\",\"Matt Ryan\"],\"legendgroup\":\"3\",\"marker\":{\"color\":\"#ab63fa\",\"symbol\":\"circle\",\"size\":6},\"name\":\"3\",\"showlegend\":true,\"type\":\"splom\",\"diagonal\":{\"visible\":false}}],                        {\"template\":{\"data\":{\"histogram2dcontour\":[{\"type\":\"histogram2dcontour\",\"colorbar\":{\"outlinewidth\":0,\"ticks\":\"\"},\"colorscale\":[[0.0,\"#0d0887\"],[0.1111111111111111,\"#46039f\"],[0.2222222222222222,\"#7201a8\"],[0.3333333333333333,\"#9c179e\"],[0.4444444444444444,\"#bd3786\"],[0.5555555555555556,\"#d8576b\"],[0.6666666666666666,\"#ed7953\"],[0.7777777777777778,\"#fb9f3a\"],[0.8888888888888888,\"#fdca26\"],[1.0,\"#f0f921\"]]}],\"choropleth\":[{\"type\":\"choropleth\",\"colorbar\":{\"outlinewidth\":0,\"ticks\":\"\"}}],\"histogram2d\":[{\"type\":\"histogram2d\",\"colorbar\":{\"outlinewidth\":0,\"ticks\":\"\"},\"colorscale\":[[0.0,\"#0d0887\"],[0.1111111111111111,\"#46039f\"],[0.2222222222222222,\"#7201a8\"],[0.3333333333333333,\"#9c179e\"],[0.4444444444444444,\"#bd3786\"],[0.5555555555555556,\"#d8576b\"],[0.6666666666666666,\"#ed7953\"],[0.7777777777777778,\"#fb9f3a\"],[0.8888888888888888,\"#fdca26\"],[1.0,\"#f0f921\"]]}],\"heatmap\":[{\"type\":\"heatmap\",\"colorbar\":{\"outlinewidth\":0,\"ticks\":\"\"},\"colorscale\":[[0.0,\"#0d0887\"],[0.1111111111111111,\"#46039f\"],[0.2222222222222222,\"#7201a8\"],[0.3333333333333333,\"#9c179e\"],[0.4444444444444444,\"#bd3786\"],[0.5555555555555556,\"#d8576b\"],[0.6666666666666666,\"#ed7953\"],[0.7777777777777778,\"#fb9f3a\"],[0.8888888888888888,\"#fdca26\"],[1.0,\"#f0f921\"]]}],\"heatmapgl\":[{\"type\":\"heatmapgl\",\"colorbar\":{\"outlinewidth\":0,\"ticks\":\"\"},\"colorscale\":[[0.0,\"#0d0887\"],[0.1111111111111111,\"#46039f\"],[0.2222222222222222,\"#7201a8\"],[0.3333333333333333,\"#9c179e\"],[0.4444444444444444,\"#bd3786\"],[0.5555555555555556,\"#d8576b\"],[0.6666666666666666,\"#ed7953\"],[0.7777777777777778,\"#fb9f3a\"],[0.8888888888888888,\"#fdca26\"],[1.0,\"#f0f921\"]]}],\"contourcarpet\":[{\"type\":\"contourcarpet\",\"colorbar\":{\"outlinewidth\":0,\"ticks\":\"\"}}],\"contour\":[{\"type\":\"contour\",\"colorbar\":{\"outlinewidth\":0,\"ticks\":\"\"},\"colorscale\":[[0.0,\"#0d0887\"],[0.1111111111111111,\"#46039f\"],[0.2222222222222222,\"#7201a8\"],[0.3333333333333333,\"#9c179e\"],[0.4444444444444444,\"#bd3786\"],[0.5555555555555556,\"#d8576b\"],[0.6666666666666666,\"#ed7953\"],[0.7777777777777778,\"#fb9f3a\"],[0.8888888888888888,\"#fdca26\"],[1.0,\"#f0f921\"]]}],\"surface\":[{\"type\":\"surface\",\"colorbar\":{\"outlinewidth\":0,\"ticks\":\"\"},\"colorscale\":[[0.0,\"#0d0887\"],[0.1111111111111111,\"#46039f\"],[0.2222222222222222,\"#7201a8\"],[0.3333333333333333,\"#9c179e\"],[0.4444444444444444,\"#bd3786\"],[0.5555555555555556,\"#d8576b\"],[0.6666666666666666,\"#ed7953\"],[0.7777777777777778,\"#fb9f3a\"],[0.8888888888888888,\"#fdca26\"],[1.0,\"#f0f921\"]]}],\"mesh3d\":[{\"type\":\"mesh3d\",\"colorbar\":{\"outlinewidth\":0,\"ticks\":\"\"}}],\"scatter\":[{\"fillpattern\":{\"fillmode\":\"overlay\",\"size\":10,\"solidity\":0.2},\"type\":\"scatter\"}],\"parcoords\":[{\"type\":\"parcoords\",\"line\":{\"colorbar\":{\"outlinewidth\":0,\"ticks\":\"\"}}}],\"scatterpolargl\":[{\"type\":\"scatterpolargl\",\"marker\":{\"colorbar\":{\"outlinewidth\":0,\"ticks\":\"\"}}}],\"bar\":[{\"error_x\":{\"color\":\"#2a3f5f\"},\"error_y\":{\"color\":\"#2a3f5f\"},\"marker\":{\"line\":{\"color\":\"#E5ECF6\",\"width\":0.5},\"pattern\":{\"fillmode\":\"overlay\",\"size\":10,\"solidity\":0.2}},\"type\":\"bar\"}],\"scattergeo\":[{\"type\":\"scattergeo\",\"marker\":{\"colorbar\":{\"outlinewidth\":0,\"ticks\":\"\"}}}],\"scatterpolar\":[{\"type\":\"scatterpolar\",\"marker\":{\"colorbar\":{\"outlinewidth\":0,\"ticks\":\"\"}}}],\"histogram\":[{\"marker\":{\"pattern\":{\"fillmode\":\"overlay\",\"size\":10,\"solidity\":0.2}},\"type\":\"histogram\"}],\"scattergl\":[{\"type\":\"scattergl\",\"marker\":{\"colorbar\":{\"outlinewidth\":0,\"ticks\":\"\"}}}],\"scatter3d\":[{\"type\":\"scatter3d\",\"line\":{\"colorbar\":{\"outlinewidth\":0,\"ticks\":\"\"}},\"marker\":{\"colorbar\":{\"outlinewidth\":0,\"ticks\":\"\"}}}],\"scattermapbox\":[{\"type\":\"scattermapbox\",\"marker\":{\"colorbar\":{\"outlinewidth\":0,\"ticks\":\"\"}}}],\"scatterternary\":[{\"type\":\"scatterternary\",\"marker\":{\"colorbar\":{\"outlinewidth\":0,\"ticks\":\"\"}}}],\"scattercarpet\":[{\"type\":\"scattercarpet\",\"marker\":{\"colorbar\":{\"outlinewidth\":0,\"ticks\":\"\"}}}],\"carpet\":[{\"aaxis\":{\"endlinecolor\":\"#2a3f5f\",\"gridcolor\":\"white\",\"linecolor\":\"white\",\"minorgridcolor\":\"white\",\"startlinecolor\":\"#2a3f5f\"},\"baxis\":{\"endlinecolor\":\"#2a3f5f\",\"gridcolor\":\"white\",\"linecolor\":\"white\",\"minorgridcolor\":\"white\",\"startlinecolor\":\"#2a3f5f\"},\"type\":\"carpet\"}],\"table\":[{\"cells\":{\"fill\":{\"color\":\"#EBF0F8\"},\"line\":{\"color\":\"white\"}},\"header\":{\"fill\":{\"color\":\"#C8D4E3\"},\"line\":{\"color\":\"white\"}},\"type\":\"table\"}],\"barpolar\":[{\"marker\":{\"line\":{\"color\":\"#E5ECF6\",\"width\":0.5},\"pattern\":{\"fillmode\":\"overlay\",\"size\":10,\"solidity\":0.2}},\"type\":\"barpolar\"}],\"pie\":[{\"automargin\":true,\"type\":\"pie\"}]},\"layout\":{\"autotypenumbers\":\"strict\",\"colorway\":[\"#636efa\",\"#EF553B\",\"#00cc96\",\"#ab63fa\",\"#FFA15A\",\"#19d3f3\",\"#FF6692\",\"#B6E880\",\"#FF97FF\",\"#FECB52\"],\"font\":{\"color\":\"#2a3f5f\"},\"hovermode\":\"closest\",\"hoverlabel\":{\"align\":\"left\"},\"paper_bgcolor\":\"white\",\"plot_bgcolor\":\"#E5ECF6\",\"polar\":{\"bgcolor\":\"#E5ECF6\",\"angularaxis\":{\"gridcolor\":\"white\",\"linecolor\":\"white\",\"ticks\":\"\"},\"radialaxis\":{\"gridcolor\":\"white\",\"linecolor\":\"white\",\"ticks\":\"\"}},\"ternary\":{\"bgcolor\":\"#E5ECF6\",\"aaxis\":{\"gridcolor\":\"white\",\"linecolor\":\"white\",\"ticks\":\"\"},\"baxis\":{\"gridcolor\":\"white\",\"linecolor\":\"white\",\"ticks\":\"\"},\"caxis\":{\"gridcolor\":\"white\",\"linecolor\":\"white\",\"ticks\":\"\"}},\"coloraxis\":{\"colorbar\":{\"outlinewidth\":0,\"ticks\":\"\"}},\"colorscale\":{\"sequential\":[[0.0,\"#0d0887\"],[0.1111111111111111,\"#46039f\"],[0.2222222222222222,\"#7201a8\"],[0.3333333333333333,\"#9c179e\"],[0.4444444444444444,\"#bd3786\"],[0.5555555555555556,\"#d8576b\"],[0.6666666666666666,\"#ed7953\"],[0.7777777777777778,\"#fb9f3a\"],[0.8888888888888888,\"#fdca26\"],[1.0,\"#f0f921\"]],\"sequentialminus\":[[0.0,\"#0d0887\"],[0.1111111111111111,\"#46039f\"],[0.2222222222222222,\"#7201a8\"],[0.3333333333333333,\"#9c179e\"],[0.4444444444444444,\"#bd3786\"],[0.5555555555555556,\"#d8576b\"],[0.6666666666666666,\"#ed7953\"],[0.7777777777777778,\"#fb9f3a\"],[0.8888888888888888,\"#fdca26\"],[1.0,\"#f0f921\"]],\"diverging\":[[0,\"#8e0152\"],[0.1,\"#c51b7d\"],[0.2,\"#de77ae\"],[0.3,\"#f1b6da\"],[0.4,\"#fde0ef\"],[0.5,\"#f7f7f7\"],[0.6,\"#e6f5d0\"],[0.7,\"#b8e186\"],[0.8,\"#7fbc41\"],[0.9,\"#4d9221\"],[1,\"#276419\"]]},\"xaxis\":{\"gridcolor\":\"white\",\"linecolor\":\"white\",\"ticks\":\"\",\"title\":{\"standoff\":15},\"zerolinecolor\":\"white\",\"automargin\":true,\"zerolinewidth\":2},\"yaxis\":{\"gridcolor\":\"white\",\"linecolor\":\"white\",\"ticks\":\"\",\"title\":{\"standoff\":15},\"zerolinecolor\":\"white\",\"automargin\":true,\"zerolinewidth\":2},\"scene\":{\"xaxis\":{\"backgroundcolor\":\"#E5ECF6\",\"gridcolor\":\"white\",\"linecolor\":\"white\",\"showbackground\":true,\"ticks\":\"\",\"zerolinecolor\":\"white\",\"gridwidth\":2},\"yaxis\":{\"backgroundcolor\":\"#E5ECF6\",\"gridcolor\":\"white\",\"linecolor\":\"white\",\"showbackground\":true,\"ticks\":\"\",\"zerolinecolor\":\"white\",\"gridwidth\":2},\"zaxis\":{\"backgroundcolor\":\"#E5ECF6\",\"gridcolor\":\"white\",\"linecolor\":\"white\",\"showbackground\":true,\"ticks\":\"\",\"zerolinecolor\":\"white\",\"gridwidth\":2}},\"shapedefaults\":{\"line\":{\"color\":\"#2a3f5f\"}},\"annotationdefaults\":{\"arrowcolor\":\"#2a3f5f\",\"arrowhead\":0,\"arrowwidth\":1},\"geo\":{\"bgcolor\":\"white\",\"landcolor\":\"#E5ECF6\",\"subunitcolor\":\"white\",\"showland\":true,\"showlakes\":true,\"lakecolor\":\"white\"},\"title\":{\"x\":0.05},\"mapbox\":{\"style\":\"light\"}}},\"legend\":{\"title\":{\"text\":\"Cluster\"},\"tracegroupgap\":0},\"margin\":{\"t\":60},\"dragmode\":\"select\",\"font\":{\"family\":\"Courier New, monospace\",\"size\":10,\"color\":\"black\"},\"paper_bgcolor\":\"rgba(0,0,0,0)\",\"plot_bgcolor\":\"rgba(245, 245, 245, 1)\",\"showlegend\":true,\"xaxis\":{\"showgrid\":true,\"gridwidth\":0.5,\"gridcolor\":\"rgba(200, 200, 200, 0.5)\"},\"yaxis\":{\"showgrid\":true,\"gridwidth\":0.5,\"gridcolor\":\"rgba(200, 200, 200, 0.5)\"},\"width\":1000,\"height\":1000},                        {\"responsive\": true}                    ).then(function(){\n",
       "                            \n",
       "var gd = document.getElementById('f1ad1a96-604f-4775-8722-bfd377a85676');\n",
       "var x = new MutationObserver(function (mutations, observer) {{\n",
       "        var display = window.getComputedStyle(gd).display;\n",
       "        if (!display || display === 'none') {{\n",
       "            console.log([gd, 'removed!']);\n",
       "            Plotly.purge(gd);\n",
       "            observer.disconnect();\n",
       "        }}\n",
       "}});\n",
       "\n",
       "// Listen for the removal of the full notebook cells\n",
       "var notebookContainer = gd.closest('#notebook-container');\n",
       "if (notebookContainer) {{\n",
       "    x.observe(notebookContainer, {childList: true});\n",
       "}}\n",
       "\n",
       "// Listen for the clearing of the current output cell\n",
       "var outputEl = gd.closest('.output');\n",
       "if (outputEl) {{\n",
       "    x.observe(outputEl, {childList: true});\n",
       "}}\n",
       "\n",
       "                        })                };                });            </script>        </div>"
      ]
     },
     "metadata": {},
     "output_type": "display_data"
    }
   ],
   "source": [
    "graph_pair_plot_plotly(df=df_4, cluster_rankings=cluster_ranking_4,\n",
    "                       position=position, stats=stats, \n",
    "                       save_suffix=suffix, font_size=font_size, marker_size=marker_size,\n",
    "                       height=dim, width=dim\n",
    "                      )"
   ]
  },
  {
   "cell_type": "code",
   "execution_count": 40,
   "id": "4551730f",
   "metadata": {},
   "outputs": [
    {
     "name": "stdout",
     "output_type": "stream",
     "text": [
      "<div style='display: flex; justify-content: space-evenly;''>\n",
      "\t<div>\n",
      "\t\t<b>Cluster 0 ()</b>\n",
      "\t\t<ul class='bullet-list'>\n",
      "\t\t\t<li>Patrick Mahomes</li>\n",
      "\t\t\t<li>Josh Allen</li>\n",
      "\t\t\t<li>Joe Burrow</li>\n",
      "\t\t\t<li>Geno Smith</li>\n",
      "\t\t\t<li>Trevor Lawrence</li>\n",
      "\t\t\t<li>Kirk Cousins</li>\n",
      "\t\t\t<li>Jared Goff</li>\n",
      "\t\t\t<li>Justin Herbert</li>\n",
      "\t\t\t<li>Tom Brady</li>\n",
      "\t\t\t<li>Aaron Rodgers</li>\n",
      "\t\t</ul>\n",
      "\t</div>\n",
      "\n",
      "\t<div>\n",
      "\t\t<b>Cluster 1 ()</b>\n",
      "\t\t<ul class='bullet-list'>\n",
      "\t\t\t<li>Justin Fields</li>\n",
      "\t\t\t<li>Lamar Jackson</li>\n",
      "\t\t\t<li>Kyler Murray</li>\n",
      "\t\t\t<li>Marcus Mariota</li>\n",
      "\t\t\t<li>Jacoby Brissett</li>\n",
      "\t\t\t<li>Jimmy Garoppolo</li>\n",
      "\t\t\t<li>Ryan Tannehill</li>\n",
      "\t\t\t<li>Kenny Pickett</li>\n",
      "\t\t\t<li>Baker Mayfield</li>\n",
      "\t\t\t<li>Taylor Heinicke</li>\n",
      "\t\t</ul>\n",
      "\t</div>\n",
      "\n",
      "\t<div>\n",
      "\t\t<b>Cluster 2 ()</b>\n",
      "\t\t<ul class='bullet-list'>\n",
      "\t\t\t<li>Jalen Hurts</li>\n",
      "\t\t\t<li>Daniel Jones</li>\n",
      "\t\t\t<li>Tua Tagovailoa</li>\n",
      "\t\t\t<li>Andy Dalton</li>\n",
      "\t\t</ul>\n",
      "\t</div>\n",
      "\n",
      "\t<div>\n",
      "\t\t<b>Cluster 3 ()</b>\n",
      "\t\t<ul class='bullet-list'>\n",
      "\t\t\t<li>Russell Wilson</li>\n",
      "\t\t\t<li>Derek Carr</li>\n",
      "\t\t\t<li>Dak Prescott</li>\n",
      "\t\t\t<li>Davis Mills</li>\n",
      "\t\t\t<li>Mac Jones</li>\n",
      "\t\t\t<li>Matt Ryan</li>\n",
      "\t\t</ul>\n",
      "\t</div>\n",
      "</div>\n",
      "<p class='blog-p-tag'>\n",
      "\tTODO:\n",
      "\t<ul class='bullet-list'>\n",
      "\t\t<li><b>Cluster 0:</b> TODO</li>\n",
      "\t\t<li><b>Cluster 1:</b> TODO</li>\n",
      "\t\t<li><b>Cluster 2:</b> TODO</li>\n",
      "\t\t<li><b>Cluster 3:</b> TODO</li>\n",
      "\t</ul>\n",
      "</p>\n",
      "<p class=\"blog-p-tag\">\n",
      "    TODO\n",
      "</p>\n",
      "    \n"
     ]
    }
   ],
   "source": [
    "create_cluster_html_tiers(df_4)"
   ]
  },
  {
   "cell_type": "markdown",
   "id": "65a64fe1",
   "metadata": {},
   "source": [
    "### 5 Clusters"
   ]
  },
  {
   "cell_type": "code",
   "execution_count": 41,
   "id": "392087ec",
   "metadata": {},
   "outputs": [],
   "source": [
    "df_5 = create_cluster_df(labels=labels_5, X=X, stats=stats)"
   ]
  },
  {
   "cell_type": "code",
   "execution_count": 42,
   "id": "03126df8",
   "metadata": {},
   "outputs": [
    {
     "data": {
      "application/vnd.plotly.v1+json": {
       "config": {
        "plotlyServerURL": "https://plot.ly"
       },
       "data": [
        {
         "diagonal": {
          "visible": false
         },
         "dimensions": [
          {
           "axis": {
            "matches": true
           },
           "label": "Passing Yards",
           "values": [
            5250,
            4283,
            4475,
            4282,
            4547
           ]
          },
          {
           "axis": {
            "matches": true
           },
           "label": "Attempts",
           "values": [
            648,
            567,
            606,
            572,
            643
           ]
          },
          {
           "axis": {
            "matches": true
           },
           "label": "Completions",
           "values": [
            435,
            359,
            414,
            399,
            424
           ]
          },
          {
           "axis": {
            "matches": true
           },
           "label": "Passing TDs",
           "values": [
            41,
            35,
            35,
            30,
            29
           ]
          },
          {
           "axis": {
            "matches": true
           },
           "label": "Interceptions",
           "values": [
            12,
            14,
            12,
            11,
            14
           ]
          }
         ],
         "hovertemplate": "<b>%{hovertext}</b><br><br>Cluster=1<br>%{xaxis.title.text}=%{x}<br>%{yaxis.title.text}=%{y}<extra></extra>",
         "hovertext": [
          "Patrick Mahomes",
          "Josh Allen",
          "Joe Burrow",
          "Geno Smith",
          "Kirk Cousins"
         ],
         "legendgroup": "1",
         "marker": {
          "color": "#636efa",
          "size": 6,
          "symbol": "circle"
         },
         "name": "1",
         "showlegend": true,
         "type": "splom"
        },
        {
         "diagonal": {
          "visible": false
         },
         "dimensions": [
          {
           "axis": {
            "matches": true
           },
           "label": "Passing Yards",
           "values": [
            3701,
            3205,
            3548
           ]
          },
          {
           "axis": {
            "matches": true
           },
           "label": "Attempts",
           "values": [
            460,
            472,
            400
           ]
          },
          {
           "axis": {
            "matches": true
           },
           "label": "Completions",
           "values": [
            306,
            317,
            259
           ]
          },
          {
           "axis": {
            "matches": true
           },
           "label": "Passing TDs",
           "values": [
            22,
            15,
            25
           ]
          },
          {
           "axis": {
            "matches": true
           },
           "label": "Interceptions",
           "values": [
            6,
            5,
            8
           ]
          }
         ],
         "hovertemplate": "<b>%{hovertext}</b><br><br>Cluster=3<br>%{xaxis.title.text}=%{x}<br>%{yaxis.title.text}=%{y}<extra></extra>",
         "hovertext": [
          "Jalen Hurts",
          "Daniel Jones",
          "Tua Tagovailoa"
         ],
         "legendgroup": "3",
         "marker": {
          "color": "#EF553B",
          "size": 6,
          "symbol": "circle"
         },
         "name": "3",
         "showlegend": true,
         "type": "splom"
        },
        {
         "diagonal": {
          "visible": false
         },
         "dimensions": [
          {
           "axis": {
            "matches": true
           },
           "label": "Passing Yards",
           "values": [
            2242,
            2242,
            2368,
            2219,
            2871,
            2608,
            2437,
            2536,
            2404,
            2163,
            1859
           ]
          },
          {
           "axis": {
            "matches": true
           },
           "label": "Attempts",
           "values": [
            318,
            326,
            390,
            300,
            378,
            369,
            308,
            325,
            389,
            335,
            259
           ]
          },
          {
           "axis": {
            "matches": true
           },
           "label": "Completions",
           "values": [
            192,
            203,
            259,
            184,
            252,
            236,
            207,
            212,
            245,
            201,
            161
           ]
          },
          {
           "axis": {
            "matches": true
           },
           "label": "Passing TDs",
           "values": [
            17,
            17,
            14,
            15,
            18,
            12,
            16,
            13,
            7,
            10,
            12
           ]
          },
          {
           "axis": {
            "matches": true
           },
           "label": "Interceptions",
           "values": [
            11,
            7,
            7,
            9,
            9,
            6,
            4,
            6,
            9,
            8,
            6
           ]
          }
         ],
         "hovertemplate": "<b>%{hovertext}</b><br><br>Cluster=0<br>%{xaxis.title.text}=%{x}<br>%{yaxis.title.text}=%{y}<extra></extra>",
         "hovertext": [
          "Justin Fields",
          "Lamar Jackson",
          "Kyler Murray",
          "Marcus Mariota",
          "Andy Dalton",
          "Jacoby Brissett",
          "Jimmy Garoppolo",
          "Ryan Tannehill",
          "Kenny Pickett",
          "Baker Mayfield",
          "Taylor Heinicke"
         ],
         "legendgroup": "0",
         "marker": {
          "color": "#00cc96",
          "size": 6,
          "symbol": "circle"
         },
         "name": "0",
         "showlegend": true,
         "type": "splom"
        },
        {
         "diagonal": {
          "visible": false
         },
         "dimensions": [
          {
           "axis": {
            "matches": true
           },
           "label": "Passing Yards",
           "values": [
            4113,
            4438,
            4739,
            4694
           ]
          },
          {
           "axis": {
            "matches": true
           },
           "label": "Attempts",
           "values": [
            584,
            587,
            699,
            733
           ]
          },
          {
           "axis": {
            "matches": true
           },
           "label": "Completions",
           "values": [
            387,
            382,
            477,
            490
           ]
          },
          {
           "axis": {
            "matches": true
           },
           "label": "Passing TDs",
           "values": [
            25,
            29,
            25,
            25
           ]
          },
          {
           "axis": {
            "matches": true
           },
           "label": "Interceptions",
           "values": [
            8,
            7,
            10,
            9
           ]
          }
         ],
         "hovertemplate": "<b>%{hovertext}</b><br><br>Cluster=4<br>%{xaxis.title.text}=%{x}<br>%{yaxis.title.text}=%{y}<extra></extra>",
         "hovertext": [
          "Trevor Lawrence",
          "Jared Goff",
          "Justin Herbert",
          "Tom Brady"
         ],
         "legendgroup": "4",
         "marker": {
          "color": "#ab63fa",
          "size": 6,
          "symbol": "circle"
         },
         "name": "4",
         "showlegend": true,
         "type": "splom"
        },
        {
         "diagonal": {
          "visible": false
         },
         "dimensions": [
          {
           "axis": {
            "matches": true
           },
           "label": "Passing Yards",
           "values": [
            3695,
            3524,
            3522,
            2860,
            3118,
            2997,
            3057
           ]
          },
          {
           "axis": {
            "matches": true
           },
           "label": "Attempts",
           "values": [
            542,
            483,
            502,
            394,
            479,
            442,
            461
           ]
          },
          {
           "axis": {
            "matches": true
           },
           "label": "Completions",
           "values": [
            350,
            292,
            305,
            261,
            292,
            288,
            309
           ]
          },
          {
           "axis": {
            "matches": true
           },
           "label": "Passing TDs",
           "values": [
            26,
            16,
            24,
            23,
            17,
            14,
            14
           ]
          },
          {
           "axis": {
            "matches": true
           },
           "label": "Interceptions",
           "values": [
            12,
            11,
            14,
            15,
            15,
            11,
            13
           ]
          }
         ],
         "hovertemplate": "<b>%{hovertext}</b><br><br>Cluster=2<br>%{xaxis.title.text}=%{x}<br>%{yaxis.title.text}=%{y}<extra></extra>",
         "hovertext": [
          "Aaron Rodgers",
          "Russell Wilson",
          "Derek Carr",
          "Dak Prescott",
          "Davis Mills",
          "Mac Jones",
          "Matt Ryan"
         ],
         "legendgroup": "2",
         "marker": {
          "color": "#FFA15A",
          "size": 6,
          "symbol": "circle"
         },
         "name": "2",
         "showlegend": true,
         "type": "splom"
        }
       ],
       "layout": {
        "dragmode": "select",
        "font": {
         "color": "black",
         "family": "Courier New, monospace",
         "size": 10
        },
        "height": 1000,
        "legend": {
         "title": {
          "text": "Cluster"
         },
         "tracegroupgap": 0
        },
        "margin": {
         "t": 60
        },
        "paper_bgcolor": "rgba(0,0,0,0)",
        "plot_bgcolor": "rgba(245, 245, 245, 1)",
        "showlegend": true,
        "template": {
         "data": {
          "bar": [
           {
            "error_x": {
             "color": "#2a3f5f"
            },
            "error_y": {
             "color": "#2a3f5f"
            },
            "marker": {
             "line": {
              "color": "#E5ECF6",
              "width": 0.5
             },
             "pattern": {
              "fillmode": "overlay",
              "size": 10,
              "solidity": 0.2
             }
            },
            "type": "bar"
           }
          ],
          "barpolar": [
           {
            "marker": {
             "line": {
              "color": "#E5ECF6",
              "width": 0.5
             },
             "pattern": {
              "fillmode": "overlay",
              "size": 10,
              "solidity": 0.2
             }
            },
            "type": "barpolar"
           }
          ],
          "carpet": [
           {
            "aaxis": {
             "endlinecolor": "#2a3f5f",
             "gridcolor": "white",
             "linecolor": "white",
             "minorgridcolor": "white",
             "startlinecolor": "#2a3f5f"
            },
            "baxis": {
             "endlinecolor": "#2a3f5f",
             "gridcolor": "white",
             "linecolor": "white",
             "minorgridcolor": "white",
             "startlinecolor": "#2a3f5f"
            },
            "type": "carpet"
           }
          ],
          "choropleth": [
           {
            "colorbar": {
             "outlinewidth": 0,
             "ticks": ""
            },
            "type": "choropleth"
           }
          ],
          "contour": [
           {
            "colorbar": {
             "outlinewidth": 0,
             "ticks": ""
            },
            "colorscale": [
             [
              0,
              "#0d0887"
             ],
             [
              0.1111111111111111,
              "#46039f"
             ],
             [
              0.2222222222222222,
              "#7201a8"
             ],
             [
              0.3333333333333333,
              "#9c179e"
             ],
             [
              0.4444444444444444,
              "#bd3786"
             ],
             [
              0.5555555555555556,
              "#d8576b"
             ],
             [
              0.6666666666666666,
              "#ed7953"
             ],
             [
              0.7777777777777778,
              "#fb9f3a"
             ],
             [
              0.8888888888888888,
              "#fdca26"
             ],
             [
              1,
              "#f0f921"
             ]
            ],
            "type": "contour"
           }
          ],
          "contourcarpet": [
           {
            "colorbar": {
             "outlinewidth": 0,
             "ticks": ""
            },
            "type": "contourcarpet"
           }
          ],
          "heatmap": [
           {
            "colorbar": {
             "outlinewidth": 0,
             "ticks": ""
            },
            "colorscale": [
             [
              0,
              "#0d0887"
             ],
             [
              0.1111111111111111,
              "#46039f"
             ],
             [
              0.2222222222222222,
              "#7201a8"
             ],
             [
              0.3333333333333333,
              "#9c179e"
             ],
             [
              0.4444444444444444,
              "#bd3786"
             ],
             [
              0.5555555555555556,
              "#d8576b"
             ],
             [
              0.6666666666666666,
              "#ed7953"
             ],
             [
              0.7777777777777778,
              "#fb9f3a"
             ],
             [
              0.8888888888888888,
              "#fdca26"
             ],
             [
              1,
              "#f0f921"
             ]
            ],
            "type": "heatmap"
           }
          ],
          "heatmapgl": [
           {
            "colorbar": {
             "outlinewidth": 0,
             "ticks": ""
            },
            "colorscale": [
             [
              0,
              "#0d0887"
             ],
             [
              0.1111111111111111,
              "#46039f"
             ],
             [
              0.2222222222222222,
              "#7201a8"
             ],
             [
              0.3333333333333333,
              "#9c179e"
             ],
             [
              0.4444444444444444,
              "#bd3786"
             ],
             [
              0.5555555555555556,
              "#d8576b"
             ],
             [
              0.6666666666666666,
              "#ed7953"
             ],
             [
              0.7777777777777778,
              "#fb9f3a"
             ],
             [
              0.8888888888888888,
              "#fdca26"
             ],
             [
              1,
              "#f0f921"
             ]
            ],
            "type": "heatmapgl"
           }
          ],
          "histogram": [
           {
            "marker": {
             "pattern": {
              "fillmode": "overlay",
              "size": 10,
              "solidity": 0.2
             }
            },
            "type": "histogram"
           }
          ],
          "histogram2d": [
           {
            "colorbar": {
             "outlinewidth": 0,
             "ticks": ""
            },
            "colorscale": [
             [
              0,
              "#0d0887"
             ],
             [
              0.1111111111111111,
              "#46039f"
             ],
             [
              0.2222222222222222,
              "#7201a8"
             ],
             [
              0.3333333333333333,
              "#9c179e"
             ],
             [
              0.4444444444444444,
              "#bd3786"
             ],
             [
              0.5555555555555556,
              "#d8576b"
             ],
             [
              0.6666666666666666,
              "#ed7953"
             ],
             [
              0.7777777777777778,
              "#fb9f3a"
             ],
             [
              0.8888888888888888,
              "#fdca26"
             ],
             [
              1,
              "#f0f921"
             ]
            ],
            "type": "histogram2d"
           }
          ],
          "histogram2dcontour": [
           {
            "colorbar": {
             "outlinewidth": 0,
             "ticks": ""
            },
            "colorscale": [
             [
              0,
              "#0d0887"
             ],
             [
              0.1111111111111111,
              "#46039f"
             ],
             [
              0.2222222222222222,
              "#7201a8"
             ],
             [
              0.3333333333333333,
              "#9c179e"
             ],
             [
              0.4444444444444444,
              "#bd3786"
             ],
             [
              0.5555555555555556,
              "#d8576b"
             ],
             [
              0.6666666666666666,
              "#ed7953"
             ],
             [
              0.7777777777777778,
              "#fb9f3a"
             ],
             [
              0.8888888888888888,
              "#fdca26"
             ],
             [
              1,
              "#f0f921"
             ]
            ],
            "type": "histogram2dcontour"
           }
          ],
          "mesh3d": [
           {
            "colorbar": {
             "outlinewidth": 0,
             "ticks": ""
            },
            "type": "mesh3d"
           }
          ],
          "parcoords": [
           {
            "line": {
             "colorbar": {
              "outlinewidth": 0,
              "ticks": ""
             }
            },
            "type": "parcoords"
           }
          ],
          "pie": [
           {
            "automargin": true,
            "type": "pie"
           }
          ],
          "scatter": [
           {
            "fillpattern": {
             "fillmode": "overlay",
             "size": 10,
             "solidity": 0.2
            },
            "type": "scatter"
           }
          ],
          "scatter3d": [
           {
            "line": {
             "colorbar": {
              "outlinewidth": 0,
              "ticks": ""
             }
            },
            "marker": {
             "colorbar": {
              "outlinewidth": 0,
              "ticks": ""
             }
            },
            "type": "scatter3d"
           }
          ],
          "scattercarpet": [
           {
            "marker": {
             "colorbar": {
              "outlinewidth": 0,
              "ticks": ""
             }
            },
            "type": "scattercarpet"
           }
          ],
          "scattergeo": [
           {
            "marker": {
             "colorbar": {
              "outlinewidth": 0,
              "ticks": ""
             }
            },
            "type": "scattergeo"
           }
          ],
          "scattergl": [
           {
            "marker": {
             "colorbar": {
              "outlinewidth": 0,
              "ticks": ""
             }
            },
            "type": "scattergl"
           }
          ],
          "scattermapbox": [
           {
            "marker": {
             "colorbar": {
              "outlinewidth": 0,
              "ticks": ""
             }
            },
            "type": "scattermapbox"
           }
          ],
          "scatterpolar": [
           {
            "marker": {
             "colorbar": {
              "outlinewidth": 0,
              "ticks": ""
             }
            },
            "type": "scatterpolar"
           }
          ],
          "scatterpolargl": [
           {
            "marker": {
             "colorbar": {
              "outlinewidth": 0,
              "ticks": ""
             }
            },
            "type": "scatterpolargl"
           }
          ],
          "scatterternary": [
           {
            "marker": {
             "colorbar": {
              "outlinewidth": 0,
              "ticks": ""
             }
            },
            "type": "scatterternary"
           }
          ],
          "surface": [
           {
            "colorbar": {
             "outlinewidth": 0,
             "ticks": ""
            },
            "colorscale": [
             [
              0,
              "#0d0887"
             ],
             [
              0.1111111111111111,
              "#46039f"
             ],
             [
              0.2222222222222222,
              "#7201a8"
             ],
             [
              0.3333333333333333,
              "#9c179e"
             ],
             [
              0.4444444444444444,
              "#bd3786"
             ],
             [
              0.5555555555555556,
              "#d8576b"
             ],
             [
              0.6666666666666666,
              "#ed7953"
             ],
             [
              0.7777777777777778,
              "#fb9f3a"
             ],
             [
              0.8888888888888888,
              "#fdca26"
             ],
             [
              1,
              "#f0f921"
             ]
            ],
            "type": "surface"
           }
          ],
          "table": [
           {
            "cells": {
             "fill": {
              "color": "#EBF0F8"
             },
             "line": {
              "color": "white"
             }
            },
            "header": {
             "fill": {
              "color": "#C8D4E3"
             },
             "line": {
              "color": "white"
             }
            },
            "type": "table"
           }
          ]
         },
         "layout": {
          "annotationdefaults": {
           "arrowcolor": "#2a3f5f",
           "arrowhead": 0,
           "arrowwidth": 1
          },
          "autotypenumbers": "strict",
          "coloraxis": {
           "colorbar": {
            "outlinewidth": 0,
            "ticks": ""
           }
          },
          "colorscale": {
           "diverging": [
            [
             0,
             "#8e0152"
            ],
            [
             0.1,
             "#c51b7d"
            ],
            [
             0.2,
             "#de77ae"
            ],
            [
             0.3,
             "#f1b6da"
            ],
            [
             0.4,
             "#fde0ef"
            ],
            [
             0.5,
             "#f7f7f7"
            ],
            [
             0.6,
             "#e6f5d0"
            ],
            [
             0.7,
             "#b8e186"
            ],
            [
             0.8,
             "#7fbc41"
            ],
            [
             0.9,
             "#4d9221"
            ],
            [
             1,
             "#276419"
            ]
           ],
           "sequential": [
            [
             0,
             "#0d0887"
            ],
            [
             0.1111111111111111,
             "#46039f"
            ],
            [
             0.2222222222222222,
             "#7201a8"
            ],
            [
             0.3333333333333333,
             "#9c179e"
            ],
            [
             0.4444444444444444,
             "#bd3786"
            ],
            [
             0.5555555555555556,
             "#d8576b"
            ],
            [
             0.6666666666666666,
             "#ed7953"
            ],
            [
             0.7777777777777778,
             "#fb9f3a"
            ],
            [
             0.8888888888888888,
             "#fdca26"
            ],
            [
             1,
             "#f0f921"
            ]
           ],
           "sequentialminus": [
            [
             0,
             "#0d0887"
            ],
            [
             0.1111111111111111,
             "#46039f"
            ],
            [
             0.2222222222222222,
             "#7201a8"
            ],
            [
             0.3333333333333333,
             "#9c179e"
            ],
            [
             0.4444444444444444,
             "#bd3786"
            ],
            [
             0.5555555555555556,
             "#d8576b"
            ],
            [
             0.6666666666666666,
             "#ed7953"
            ],
            [
             0.7777777777777778,
             "#fb9f3a"
            ],
            [
             0.8888888888888888,
             "#fdca26"
            ],
            [
             1,
             "#f0f921"
            ]
           ]
          },
          "colorway": [
           "#636efa",
           "#EF553B",
           "#00cc96",
           "#ab63fa",
           "#FFA15A",
           "#19d3f3",
           "#FF6692",
           "#B6E880",
           "#FF97FF",
           "#FECB52"
          ],
          "font": {
           "color": "#2a3f5f"
          },
          "geo": {
           "bgcolor": "white",
           "lakecolor": "white",
           "landcolor": "#E5ECF6",
           "showlakes": true,
           "showland": true,
           "subunitcolor": "white"
          },
          "hoverlabel": {
           "align": "left"
          },
          "hovermode": "closest",
          "mapbox": {
           "style": "light"
          },
          "paper_bgcolor": "white",
          "plot_bgcolor": "#E5ECF6",
          "polar": {
           "angularaxis": {
            "gridcolor": "white",
            "linecolor": "white",
            "ticks": ""
           },
           "bgcolor": "#E5ECF6",
           "radialaxis": {
            "gridcolor": "white",
            "linecolor": "white",
            "ticks": ""
           }
          },
          "scene": {
           "xaxis": {
            "backgroundcolor": "#E5ECF6",
            "gridcolor": "white",
            "gridwidth": 2,
            "linecolor": "white",
            "showbackground": true,
            "ticks": "",
            "zerolinecolor": "white"
           },
           "yaxis": {
            "backgroundcolor": "#E5ECF6",
            "gridcolor": "white",
            "gridwidth": 2,
            "linecolor": "white",
            "showbackground": true,
            "ticks": "",
            "zerolinecolor": "white"
           },
           "zaxis": {
            "backgroundcolor": "#E5ECF6",
            "gridcolor": "white",
            "gridwidth": 2,
            "linecolor": "white",
            "showbackground": true,
            "ticks": "",
            "zerolinecolor": "white"
           }
          },
          "shapedefaults": {
           "line": {
            "color": "#2a3f5f"
           }
          },
          "ternary": {
           "aaxis": {
            "gridcolor": "white",
            "linecolor": "white",
            "ticks": ""
           },
           "baxis": {
            "gridcolor": "white",
            "linecolor": "white",
            "ticks": ""
           },
           "bgcolor": "#E5ECF6",
           "caxis": {
            "gridcolor": "white",
            "linecolor": "white",
            "ticks": ""
           }
          },
          "title": {
           "x": 0.05
          },
          "xaxis": {
           "automargin": true,
           "gridcolor": "white",
           "linecolor": "white",
           "ticks": "",
           "title": {
            "standoff": 15
           },
           "zerolinecolor": "white",
           "zerolinewidth": 2
          },
          "yaxis": {
           "automargin": true,
           "gridcolor": "white",
           "linecolor": "white",
           "ticks": "",
           "title": {
            "standoff": 15
           },
           "zerolinecolor": "white",
           "zerolinewidth": 2
          }
         }
        },
        "width": 1000,
        "xaxis": {
         "gridcolor": "rgba(200, 200, 200, 0.5)",
         "gridwidth": 0.5,
         "showgrid": true
        },
        "yaxis": {
         "gridcolor": "rgba(200, 200, 200, 0.5)",
         "gridwidth": 0.5,
         "showgrid": true
        }
       }
      },
      "text/html": [
       "<div>                            <div id=\"d2faf3d6-2c30-4896-8cba-563e4706602f\" class=\"plotly-graph-div\" style=\"height:1000px; width:1000px;\"></div>            <script type=\"text/javascript\">                require([\"plotly\"], function(Plotly) {                    window.PLOTLYENV=window.PLOTLYENV || {};                                    if (document.getElementById(\"d2faf3d6-2c30-4896-8cba-563e4706602f\")) {                    Plotly.newPlot(                        \"d2faf3d6-2c30-4896-8cba-563e4706602f\",                        [{\"dimensions\":[{\"axis\":{\"matches\":true},\"label\":\"Passing Yards\",\"values\":[5250.0,4283.0,4475.0,4282.0,4547.0]},{\"axis\":{\"matches\":true},\"label\":\"Attempts\",\"values\":[648.0,567.0,606.0,572.0,643.0]},{\"axis\":{\"matches\":true},\"label\":\"Completions\",\"values\":[435.0,359.0,414.0,399.0,424.0]},{\"axis\":{\"matches\":true},\"label\":\"Passing TDs\",\"values\":[41.0,35.0,35.0,30.0,29.0]},{\"axis\":{\"matches\":true},\"label\":\"Interceptions\",\"values\":[12.0,14.0,12.0,11.0,14.0]}],\"hovertemplate\":\"\\u003cb\\u003e%{hovertext}\\u003c\\u002fb\\u003e\\u003cbr\\u003e\\u003cbr\\u003eCluster=1\\u003cbr\\u003e%{xaxis.title.text}=%{x}\\u003cbr\\u003e%{yaxis.title.text}=%{y}\\u003cextra\\u003e\\u003c\\u002fextra\\u003e\",\"hovertext\":[\"Patrick Mahomes\",\"Josh Allen\",\"Joe Burrow\",\"Geno Smith\",\"Kirk Cousins\"],\"legendgroup\":\"1\",\"marker\":{\"color\":\"#636efa\",\"symbol\":\"circle\",\"size\":6},\"name\":\"1\",\"showlegend\":true,\"type\":\"splom\",\"diagonal\":{\"visible\":false}},{\"dimensions\":[{\"axis\":{\"matches\":true},\"label\":\"Passing Yards\",\"values\":[3701.0,3205.0,3548.0]},{\"axis\":{\"matches\":true},\"label\":\"Attempts\",\"values\":[460.0,472.0,400.0]},{\"axis\":{\"matches\":true},\"label\":\"Completions\",\"values\":[306.0,317.0,259.0]},{\"axis\":{\"matches\":true},\"label\":\"Passing TDs\",\"values\":[22.0,15.0,25.0]},{\"axis\":{\"matches\":true},\"label\":\"Interceptions\",\"values\":[6.0,5.0,8.0]}],\"hovertemplate\":\"\\u003cb\\u003e%{hovertext}\\u003c\\u002fb\\u003e\\u003cbr\\u003e\\u003cbr\\u003eCluster=3\\u003cbr\\u003e%{xaxis.title.text}=%{x}\\u003cbr\\u003e%{yaxis.title.text}=%{y}\\u003cextra\\u003e\\u003c\\u002fextra\\u003e\",\"hovertext\":[\"Jalen Hurts\",\"Daniel Jones\",\"Tua Tagovailoa\"],\"legendgroup\":\"3\",\"marker\":{\"color\":\"#EF553B\",\"symbol\":\"circle\",\"size\":6},\"name\":\"3\",\"showlegend\":true,\"type\":\"splom\",\"diagonal\":{\"visible\":false}},{\"dimensions\":[{\"axis\":{\"matches\":true},\"label\":\"Passing Yards\",\"values\":[2242.0,2242.0,2368.0,2219.0,2871.0,2608.0,2437.0,2536.0,2404.0,2163.0,1859.0]},{\"axis\":{\"matches\":true},\"label\":\"Attempts\",\"values\":[318.0,326.0,390.0,300.0,378.0,369.0,308.0,325.0,389.0,335.0,259.0]},{\"axis\":{\"matches\":true},\"label\":\"Completions\",\"values\":[192.0,203.0,259.0,184.0,252.0,236.0,207.0,212.0,245.0,201.0,161.0]},{\"axis\":{\"matches\":true},\"label\":\"Passing TDs\",\"values\":[17.0,17.0,14.0,15.0,18.0,12.0,16.0,13.0,7.0,10.0,12.0]},{\"axis\":{\"matches\":true},\"label\":\"Interceptions\",\"values\":[11.0,7.0,7.0,9.0,9.0,6.0,4.0,6.0,9.0,8.0,6.0]}],\"hovertemplate\":\"\\u003cb\\u003e%{hovertext}\\u003c\\u002fb\\u003e\\u003cbr\\u003e\\u003cbr\\u003eCluster=0\\u003cbr\\u003e%{xaxis.title.text}=%{x}\\u003cbr\\u003e%{yaxis.title.text}=%{y}\\u003cextra\\u003e\\u003c\\u002fextra\\u003e\",\"hovertext\":[\"Justin Fields\",\"Lamar Jackson\",\"Kyler Murray\",\"Marcus Mariota\",\"Andy Dalton\",\"Jacoby Brissett\",\"Jimmy Garoppolo\",\"Ryan Tannehill\",\"Kenny Pickett\",\"Baker Mayfield\",\"Taylor Heinicke\"],\"legendgroup\":\"0\",\"marker\":{\"color\":\"#00cc96\",\"symbol\":\"circle\",\"size\":6},\"name\":\"0\",\"showlegend\":true,\"type\":\"splom\",\"diagonal\":{\"visible\":false}},{\"dimensions\":[{\"axis\":{\"matches\":true},\"label\":\"Passing Yards\",\"values\":[4113.0,4438.0,4739.0,4694.0]},{\"axis\":{\"matches\":true},\"label\":\"Attempts\",\"values\":[584.0,587.0,699.0,733.0]},{\"axis\":{\"matches\":true},\"label\":\"Completions\",\"values\":[387.0,382.0,477.0,490.0]},{\"axis\":{\"matches\":true},\"label\":\"Passing TDs\",\"values\":[25.0,29.0,25.0,25.0]},{\"axis\":{\"matches\":true},\"label\":\"Interceptions\",\"values\":[8.0,7.0,10.0,9.0]}],\"hovertemplate\":\"\\u003cb\\u003e%{hovertext}\\u003c\\u002fb\\u003e\\u003cbr\\u003e\\u003cbr\\u003eCluster=4\\u003cbr\\u003e%{xaxis.title.text}=%{x}\\u003cbr\\u003e%{yaxis.title.text}=%{y}\\u003cextra\\u003e\\u003c\\u002fextra\\u003e\",\"hovertext\":[\"Trevor Lawrence\",\"Jared Goff\",\"Justin Herbert\",\"Tom Brady\"],\"legendgroup\":\"4\",\"marker\":{\"color\":\"#ab63fa\",\"symbol\":\"circle\",\"size\":6},\"name\":\"4\",\"showlegend\":true,\"type\":\"splom\",\"diagonal\":{\"visible\":false}},{\"dimensions\":[{\"axis\":{\"matches\":true},\"label\":\"Passing Yards\",\"values\":[3695.0,3524.0,3522.0,2860.0,3118.0,2997.0,3057.0]},{\"axis\":{\"matches\":true},\"label\":\"Attempts\",\"values\":[542.0,483.0,502.0,394.0,479.0,442.0,461.0]},{\"axis\":{\"matches\":true},\"label\":\"Completions\",\"values\":[350.0,292.0,305.0,261.0,292.0,288.0,309.0]},{\"axis\":{\"matches\":true},\"label\":\"Passing TDs\",\"values\":[26.0,16.0,24.0,23.0,17.0,14.0,14.0]},{\"axis\":{\"matches\":true},\"label\":\"Interceptions\",\"values\":[12.0,11.0,14.0,15.0,15.0,11.0,13.0]}],\"hovertemplate\":\"\\u003cb\\u003e%{hovertext}\\u003c\\u002fb\\u003e\\u003cbr\\u003e\\u003cbr\\u003eCluster=2\\u003cbr\\u003e%{xaxis.title.text}=%{x}\\u003cbr\\u003e%{yaxis.title.text}=%{y}\\u003cextra\\u003e\\u003c\\u002fextra\\u003e\",\"hovertext\":[\"Aaron Rodgers\",\"Russell Wilson\",\"Derek Carr\",\"Dak Prescott\",\"Davis Mills\",\"Mac Jones\",\"Matt Ryan\"],\"legendgroup\":\"2\",\"marker\":{\"color\":\"#FFA15A\",\"symbol\":\"circle\",\"size\":6},\"name\":\"2\",\"showlegend\":true,\"type\":\"splom\",\"diagonal\":{\"visible\":false}}],                        {\"template\":{\"data\":{\"histogram2dcontour\":[{\"type\":\"histogram2dcontour\",\"colorbar\":{\"outlinewidth\":0,\"ticks\":\"\"},\"colorscale\":[[0.0,\"#0d0887\"],[0.1111111111111111,\"#46039f\"],[0.2222222222222222,\"#7201a8\"],[0.3333333333333333,\"#9c179e\"],[0.4444444444444444,\"#bd3786\"],[0.5555555555555556,\"#d8576b\"],[0.6666666666666666,\"#ed7953\"],[0.7777777777777778,\"#fb9f3a\"],[0.8888888888888888,\"#fdca26\"],[1.0,\"#f0f921\"]]}],\"choropleth\":[{\"type\":\"choropleth\",\"colorbar\":{\"outlinewidth\":0,\"ticks\":\"\"}}],\"histogram2d\":[{\"type\":\"histogram2d\",\"colorbar\":{\"outlinewidth\":0,\"ticks\":\"\"},\"colorscale\":[[0.0,\"#0d0887\"],[0.1111111111111111,\"#46039f\"],[0.2222222222222222,\"#7201a8\"],[0.3333333333333333,\"#9c179e\"],[0.4444444444444444,\"#bd3786\"],[0.5555555555555556,\"#d8576b\"],[0.6666666666666666,\"#ed7953\"],[0.7777777777777778,\"#fb9f3a\"],[0.8888888888888888,\"#fdca26\"],[1.0,\"#f0f921\"]]}],\"heatmap\":[{\"type\":\"heatmap\",\"colorbar\":{\"outlinewidth\":0,\"ticks\":\"\"},\"colorscale\":[[0.0,\"#0d0887\"],[0.1111111111111111,\"#46039f\"],[0.2222222222222222,\"#7201a8\"],[0.3333333333333333,\"#9c179e\"],[0.4444444444444444,\"#bd3786\"],[0.5555555555555556,\"#d8576b\"],[0.6666666666666666,\"#ed7953\"],[0.7777777777777778,\"#fb9f3a\"],[0.8888888888888888,\"#fdca26\"],[1.0,\"#f0f921\"]]}],\"heatmapgl\":[{\"type\":\"heatmapgl\",\"colorbar\":{\"outlinewidth\":0,\"ticks\":\"\"},\"colorscale\":[[0.0,\"#0d0887\"],[0.1111111111111111,\"#46039f\"],[0.2222222222222222,\"#7201a8\"],[0.3333333333333333,\"#9c179e\"],[0.4444444444444444,\"#bd3786\"],[0.5555555555555556,\"#d8576b\"],[0.6666666666666666,\"#ed7953\"],[0.7777777777777778,\"#fb9f3a\"],[0.8888888888888888,\"#fdca26\"],[1.0,\"#f0f921\"]]}],\"contourcarpet\":[{\"type\":\"contourcarpet\",\"colorbar\":{\"outlinewidth\":0,\"ticks\":\"\"}}],\"contour\":[{\"type\":\"contour\",\"colorbar\":{\"outlinewidth\":0,\"ticks\":\"\"},\"colorscale\":[[0.0,\"#0d0887\"],[0.1111111111111111,\"#46039f\"],[0.2222222222222222,\"#7201a8\"],[0.3333333333333333,\"#9c179e\"],[0.4444444444444444,\"#bd3786\"],[0.5555555555555556,\"#d8576b\"],[0.6666666666666666,\"#ed7953\"],[0.7777777777777778,\"#fb9f3a\"],[0.8888888888888888,\"#fdca26\"],[1.0,\"#f0f921\"]]}],\"surface\":[{\"type\":\"surface\",\"colorbar\":{\"outlinewidth\":0,\"ticks\":\"\"},\"colorscale\":[[0.0,\"#0d0887\"],[0.1111111111111111,\"#46039f\"],[0.2222222222222222,\"#7201a8\"],[0.3333333333333333,\"#9c179e\"],[0.4444444444444444,\"#bd3786\"],[0.5555555555555556,\"#d8576b\"],[0.6666666666666666,\"#ed7953\"],[0.7777777777777778,\"#fb9f3a\"],[0.8888888888888888,\"#fdca26\"],[1.0,\"#f0f921\"]]}],\"mesh3d\":[{\"type\":\"mesh3d\",\"colorbar\":{\"outlinewidth\":0,\"ticks\":\"\"}}],\"scatter\":[{\"fillpattern\":{\"fillmode\":\"overlay\",\"size\":10,\"solidity\":0.2},\"type\":\"scatter\"}],\"parcoords\":[{\"type\":\"parcoords\",\"line\":{\"colorbar\":{\"outlinewidth\":0,\"ticks\":\"\"}}}],\"scatterpolargl\":[{\"type\":\"scatterpolargl\",\"marker\":{\"colorbar\":{\"outlinewidth\":0,\"ticks\":\"\"}}}],\"bar\":[{\"error_x\":{\"color\":\"#2a3f5f\"},\"error_y\":{\"color\":\"#2a3f5f\"},\"marker\":{\"line\":{\"color\":\"#E5ECF6\",\"width\":0.5},\"pattern\":{\"fillmode\":\"overlay\",\"size\":10,\"solidity\":0.2}},\"type\":\"bar\"}],\"scattergeo\":[{\"type\":\"scattergeo\",\"marker\":{\"colorbar\":{\"outlinewidth\":0,\"ticks\":\"\"}}}],\"scatterpolar\":[{\"type\":\"scatterpolar\",\"marker\":{\"colorbar\":{\"outlinewidth\":0,\"ticks\":\"\"}}}],\"histogram\":[{\"marker\":{\"pattern\":{\"fillmode\":\"overlay\",\"size\":10,\"solidity\":0.2}},\"type\":\"histogram\"}],\"scattergl\":[{\"type\":\"scattergl\",\"marker\":{\"colorbar\":{\"outlinewidth\":0,\"ticks\":\"\"}}}],\"scatter3d\":[{\"type\":\"scatter3d\",\"line\":{\"colorbar\":{\"outlinewidth\":0,\"ticks\":\"\"}},\"marker\":{\"colorbar\":{\"outlinewidth\":0,\"ticks\":\"\"}}}],\"scattermapbox\":[{\"type\":\"scattermapbox\",\"marker\":{\"colorbar\":{\"outlinewidth\":0,\"ticks\":\"\"}}}],\"scatterternary\":[{\"type\":\"scatterternary\",\"marker\":{\"colorbar\":{\"outlinewidth\":0,\"ticks\":\"\"}}}],\"scattercarpet\":[{\"type\":\"scattercarpet\",\"marker\":{\"colorbar\":{\"outlinewidth\":0,\"ticks\":\"\"}}}],\"carpet\":[{\"aaxis\":{\"endlinecolor\":\"#2a3f5f\",\"gridcolor\":\"white\",\"linecolor\":\"white\",\"minorgridcolor\":\"white\",\"startlinecolor\":\"#2a3f5f\"},\"baxis\":{\"endlinecolor\":\"#2a3f5f\",\"gridcolor\":\"white\",\"linecolor\":\"white\",\"minorgridcolor\":\"white\",\"startlinecolor\":\"#2a3f5f\"},\"type\":\"carpet\"}],\"table\":[{\"cells\":{\"fill\":{\"color\":\"#EBF0F8\"},\"line\":{\"color\":\"white\"}},\"header\":{\"fill\":{\"color\":\"#C8D4E3\"},\"line\":{\"color\":\"white\"}},\"type\":\"table\"}],\"barpolar\":[{\"marker\":{\"line\":{\"color\":\"#E5ECF6\",\"width\":0.5},\"pattern\":{\"fillmode\":\"overlay\",\"size\":10,\"solidity\":0.2}},\"type\":\"barpolar\"}],\"pie\":[{\"automargin\":true,\"type\":\"pie\"}]},\"layout\":{\"autotypenumbers\":\"strict\",\"colorway\":[\"#636efa\",\"#EF553B\",\"#00cc96\",\"#ab63fa\",\"#FFA15A\",\"#19d3f3\",\"#FF6692\",\"#B6E880\",\"#FF97FF\",\"#FECB52\"],\"font\":{\"color\":\"#2a3f5f\"},\"hovermode\":\"closest\",\"hoverlabel\":{\"align\":\"left\"},\"paper_bgcolor\":\"white\",\"plot_bgcolor\":\"#E5ECF6\",\"polar\":{\"bgcolor\":\"#E5ECF6\",\"angularaxis\":{\"gridcolor\":\"white\",\"linecolor\":\"white\",\"ticks\":\"\"},\"radialaxis\":{\"gridcolor\":\"white\",\"linecolor\":\"white\",\"ticks\":\"\"}},\"ternary\":{\"bgcolor\":\"#E5ECF6\",\"aaxis\":{\"gridcolor\":\"white\",\"linecolor\":\"white\",\"ticks\":\"\"},\"baxis\":{\"gridcolor\":\"white\",\"linecolor\":\"white\",\"ticks\":\"\"},\"caxis\":{\"gridcolor\":\"white\",\"linecolor\":\"white\",\"ticks\":\"\"}},\"coloraxis\":{\"colorbar\":{\"outlinewidth\":0,\"ticks\":\"\"}},\"colorscale\":{\"sequential\":[[0.0,\"#0d0887\"],[0.1111111111111111,\"#46039f\"],[0.2222222222222222,\"#7201a8\"],[0.3333333333333333,\"#9c179e\"],[0.4444444444444444,\"#bd3786\"],[0.5555555555555556,\"#d8576b\"],[0.6666666666666666,\"#ed7953\"],[0.7777777777777778,\"#fb9f3a\"],[0.8888888888888888,\"#fdca26\"],[1.0,\"#f0f921\"]],\"sequentialminus\":[[0.0,\"#0d0887\"],[0.1111111111111111,\"#46039f\"],[0.2222222222222222,\"#7201a8\"],[0.3333333333333333,\"#9c179e\"],[0.4444444444444444,\"#bd3786\"],[0.5555555555555556,\"#d8576b\"],[0.6666666666666666,\"#ed7953\"],[0.7777777777777778,\"#fb9f3a\"],[0.8888888888888888,\"#fdca26\"],[1.0,\"#f0f921\"]],\"diverging\":[[0,\"#8e0152\"],[0.1,\"#c51b7d\"],[0.2,\"#de77ae\"],[0.3,\"#f1b6da\"],[0.4,\"#fde0ef\"],[0.5,\"#f7f7f7\"],[0.6,\"#e6f5d0\"],[0.7,\"#b8e186\"],[0.8,\"#7fbc41\"],[0.9,\"#4d9221\"],[1,\"#276419\"]]},\"xaxis\":{\"gridcolor\":\"white\",\"linecolor\":\"white\",\"ticks\":\"\",\"title\":{\"standoff\":15},\"zerolinecolor\":\"white\",\"automargin\":true,\"zerolinewidth\":2},\"yaxis\":{\"gridcolor\":\"white\",\"linecolor\":\"white\",\"ticks\":\"\",\"title\":{\"standoff\":15},\"zerolinecolor\":\"white\",\"automargin\":true,\"zerolinewidth\":2},\"scene\":{\"xaxis\":{\"backgroundcolor\":\"#E5ECF6\",\"gridcolor\":\"white\",\"linecolor\":\"white\",\"showbackground\":true,\"ticks\":\"\",\"zerolinecolor\":\"white\",\"gridwidth\":2},\"yaxis\":{\"backgroundcolor\":\"#E5ECF6\",\"gridcolor\":\"white\",\"linecolor\":\"white\",\"showbackground\":true,\"ticks\":\"\",\"zerolinecolor\":\"white\",\"gridwidth\":2},\"zaxis\":{\"backgroundcolor\":\"#E5ECF6\",\"gridcolor\":\"white\",\"linecolor\":\"white\",\"showbackground\":true,\"ticks\":\"\",\"zerolinecolor\":\"white\",\"gridwidth\":2}},\"shapedefaults\":{\"line\":{\"color\":\"#2a3f5f\"}},\"annotationdefaults\":{\"arrowcolor\":\"#2a3f5f\",\"arrowhead\":0,\"arrowwidth\":1},\"geo\":{\"bgcolor\":\"white\",\"landcolor\":\"#E5ECF6\",\"subunitcolor\":\"white\",\"showland\":true,\"showlakes\":true,\"lakecolor\":\"white\"},\"title\":{\"x\":0.05},\"mapbox\":{\"style\":\"light\"}}},\"legend\":{\"title\":{\"text\":\"Cluster\"},\"tracegroupgap\":0},\"margin\":{\"t\":60},\"dragmode\":\"select\",\"font\":{\"family\":\"Courier New, monospace\",\"size\":10,\"color\":\"black\"},\"paper_bgcolor\":\"rgba(0,0,0,0)\",\"plot_bgcolor\":\"rgba(245, 245, 245, 1)\",\"showlegend\":true,\"xaxis\":{\"showgrid\":true,\"gridwidth\":0.5,\"gridcolor\":\"rgba(200, 200, 200, 0.5)\"},\"yaxis\":{\"showgrid\":true,\"gridwidth\":0.5,\"gridcolor\":\"rgba(200, 200, 200, 0.5)\"},\"width\":1000,\"height\":1000},                        {\"responsive\": true}                    ).then(function(){\n",
       "                            \n",
       "var gd = document.getElementById('d2faf3d6-2c30-4896-8cba-563e4706602f');\n",
       "var x = new MutationObserver(function (mutations, observer) {{\n",
       "        var display = window.getComputedStyle(gd).display;\n",
       "        if (!display || display === 'none') {{\n",
       "            console.log([gd, 'removed!']);\n",
       "            Plotly.purge(gd);\n",
       "            observer.disconnect();\n",
       "        }}\n",
       "}});\n",
       "\n",
       "// Listen for the removal of the full notebook cells\n",
       "var notebookContainer = gd.closest('#notebook-container');\n",
       "if (notebookContainer) {{\n",
       "    x.observe(notebookContainer, {childList: true});\n",
       "}}\n",
       "\n",
       "// Listen for the clearing of the current output cell\n",
       "var outputEl = gd.closest('.output');\n",
       "if (outputEl) {{\n",
       "    x.observe(outputEl, {childList: true});\n",
       "}}\n",
       "\n",
       "                        })                };                });            </script>        </div>"
      ]
     },
     "metadata": {},
     "output_type": "display_data"
    }
   ],
   "source": [
    "graph_pair_plot_plotly(df=df_5, cluster_rankings=cluster_ranking_5,\n",
    "                       position=position, stats=stats, \n",
    "                       save_suffix=suffix, font_size=font_size, marker_size=marker_size,\n",
    "                       height=dim, width=dim\n",
    "                      )"
   ]
  },
  {
   "cell_type": "code",
   "execution_count": 43,
   "id": "4962bac7",
   "metadata": {},
   "outputs": [
    {
     "name": "stdout",
     "output_type": "stream",
     "text": [
      "<div style='display: flex; justify-content: space-evenly;''>\n",
      "\t<div>\n",
      "\t\t<b>Cluster 0 ()</b>\n",
      "\t\t<ul class='bullet-list'>\n",
      "\t\t\t<li>Justin Fields</li>\n",
      "\t\t\t<li>Lamar Jackson</li>\n",
      "\t\t\t<li>Kyler Murray</li>\n",
      "\t\t\t<li>Marcus Mariota</li>\n",
      "\t\t\t<li>Andy Dalton</li>\n",
      "\t\t\t<li>Jacoby Brissett</li>\n",
      "\t\t\t<li>Jimmy Garoppolo</li>\n",
      "\t\t\t<li>Ryan Tannehill</li>\n",
      "\t\t\t<li>Kenny Pickett</li>\n",
      "\t\t\t<li>Baker Mayfield</li>\n",
      "\t\t\t<li>Taylor Heinicke</li>\n",
      "\t\t</ul>\n",
      "\t</div>\n",
      "\n",
      "\t<div>\n",
      "\t\t<b>Cluster 1 ()</b>\n",
      "\t\t<ul class='bullet-list'>\n",
      "\t\t\t<li>Patrick Mahomes</li>\n",
      "\t\t\t<li>Josh Allen</li>\n",
      "\t\t\t<li>Joe Burrow</li>\n",
      "\t\t\t<li>Geno Smith</li>\n",
      "\t\t\t<li>Kirk Cousins</li>\n",
      "\t\t</ul>\n",
      "\t</div>\n",
      "\n",
      "\t<div>\n",
      "\t\t<b>Cluster 2 ()</b>\n",
      "\t\t<ul class='bullet-list'>\n",
      "\t\t\t<li>Aaron Rodgers</li>\n",
      "\t\t\t<li>Russell Wilson</li>\n",
      "\t\t\t<li>Derek Carr</li>\n",
      "\t\t\t<li>Dak Prescott</li>\n",
      "\t\t\t<li>Davis Mills</li>\n",
      "\t\t\t<li>Mac Jones</li>\n",
      "\t\t\t<li>Matt Ryan</li>\n",
      "\t\t</ul>\n",
      "\t</div>\n",
      "\n",
      "\t<div>\n",
      "\t\t<b>Cluster 3 ()</b>\n",
      "\t\t<ul class='bullet-list'>\n",
      "\t\t\t<li>Jalen Hurts</li>\n",
      "\t\t\t<li>Daniel Jones</li>\n",
      "\t\t\t<li>Tua Tagovailoa</li>\n",
      "\t\t</ul>\n",
      "\t</div>\n",
      "\n",
      "\t<div>\n",
      "\t\t<b>Cluster 4 ()</b>\n",
      "\t\t<ul class='bullet-list'>\n",
      "\t\t\t<li>Trevor Lawrence</li>\n",
      "\t\t\t<li>Jared Goff</li>\n",
      "\t\t\t<li>Justin Herbert</li>\n",
      "\t\t\t<li>Tom Brady</li>\n",
      "\t\t</ul>\n",
      "\t</div>\n",
      "</div>\n",
      "<p class='blog-p-tag'>\n",
      "\tTODO:\n",
      "\t<ul class='bullet-list'>\n",
      "\t\t<li><b>Cluster 0:</b> TODO</li>\n",
      "\t\t<li><b>Cluster 1:</b> TODO</li>\n",
      "\t\t<li><b>Cluster 2:</b> TODO</li>\n",
      "\t\t<li><b>Cluster 3:</b> TODO</li>\n",
      "\t\t<li><b>Cluster 4:</b> TODO</li>\n",
      "\t</ul>\n",
      "</p>\n",
      "<p class=\"blog-p-tag\">\n",
      "    TODO\n",
      "</p>\n",
      "    \n"
     ]
    }
   ],
   "source": [
    "create_cluster_html_tiers(df_5)"
   ]
  },
  {
   "cell_type": "markdown",
   "id": "d934accf",
   "metadata": {},
   "source": [
    "### 6 Clusters"
   ]
  },
  {
   "cell_type": "code",
   "execution_count": 44,
   "id": "49b1f6d4",
   "metadata": {},
   "outputs": [],
   "source": [
    "df_6 = create_cluster_df(labels=labels_6, X=X, stats=stats)"
   ]
  },
  {
   "cell_type": "code",
   "execution_count": 45,
   "id": "8d98b9be",
   "metadata": {},
   "outputs": [
    {
     "data": {
      "application/vnd.plotly.v1+json": {
       "config": {
        "plotlyServerURL": "https://plot.ly"
       },
       "data": [
        {
         "diagonal": {
          "visible": false
         },
         "dimensions": [
          {
           "axis": {
            "matches": true
           },
           "label": "Passing Yards",
           "values": [
            5250,
            4283,
            4475,
            4282,
            4547,
            3695
           ]
          },
          {
           "axis": {
            "matches": true
           },
           "label": "Attempts",
           "values": [
            648,
            567,
            606,
            572,
            643,
            542
           ]
          },
          {
           "axis": {
            "matches": true
           },
           "label": "Completions",
           "values": [
            435,
            359,
            414,
            399,
            424,
            350
           ]
          },
          {
           "axis": {
            "matches": true
           },
           "label": "Passing TDs",
           "values": [
            41,
            35,
            35,
            30,
            29,
            26
           ]
          },
          {
           "axis": {
            "matches": true
           },
           "label": "Interceptions",
           "values": [
            12,
            14,
            12,
            11,
            14,
            12
           ]
          }
         ],
         "hovertemplate": "<b>%{hovertext}</b><br><br>Cluster=2<br>%{xaxis.title.text}=%{x}<br>%{yaxis.title.text}=%{y}<extra></extra>",
         "hovertext": [
          "Patrick Mahomes",
          "Josh Allen",
          "Joe Burrow",
          "Geno Smith",
          "Kirk Cousins",
          "Aaron Rodgers"
         ],
         "legendgroup": "2",
         "marker": {
          "color": "#636efa",
          "size": 6,
          "symbol": "circle"
         },
         "name": "2",
         "showlegend": true,
         "type": "splom"
        },
        {
         "diagonal": {
          "visible": false
         },
         "dimensions": [
          {
           "axis": {
            "matches": true
           },
           "label": "Passing Yards",
           "values": [
            3701,
            3205,
            3548
           ]
          },
          {
           "axis": {
            "matches": true
           },
           "label": "Attempts",
           "values": [
            460,
            472,
            400
           ]
          },
          {
           "axis": {
            "matches": true
           },
           "label": "Completions",
           "values": [
            306,
            317,
            259
           ]
          },
          {
           "axis": {
            "matches": true
           },
           "label": "Passing TDs",
           "values": [
            22,
            15,
            25
           ]
          },
          {
           "axis": {
            "matches": true
           },
           "label": "Interceptions",
           "values": [
            6,
            5,
            8
           ]
          }
         ],
         "hovertemplate": "<b>%{hovertext}</b><br><br>Cluster=5<br>%{xaxis.title.text}=%{x}<br>%{yaxis.title.text}=%{y}<extra></extra>",
         "hovertext": [
          "Jalen Hurts",
          "Daniel Jones",
          "Tua Tagovailoa"
         ],
         "legendgroup": "5",
         "marker": {
          "color": "#EF553B",
          "size": 6,
          "symbol": "circle"
         },
         "name": "5",
         "showlegend": true,
         "type": "splom"
        },
        {
         "diagonal": {
          "visible": false
         },
         "dimensions": [
          {
           "axis": {
            "matches": true
           },
           "label": "Passing Yards",
           "values": [
            2242,
            2219,
            2871,
            2404,
            2163
           ]
          },
          {
           "axis": {
            "matches": true
           },
           "label": "Attempts",
           "values": [
            318,
            300,
            378,
            389,
            335
           ]
          },
          {
           "axis": {
            "matches": true
           },
           "label": "Completions",
           "values": [
            192,
            184,
            252,
            245,
            201
           ]
          },
          {
           "axis": {
            "matches": true
           },
           "label": "Passing TDs",
           "values": [
            17,
            15,
            18,
            7,
            10
           ]
          },
          {
           "axis": {
            "matches": true
           },
           "label": "Interceptions",
           "values": [
            11,
            9,
            9,
            9,
            8
           ]
          }
         ],
         "hovertemplate": "<b>%{hovertext}</b><br><br>Cluster=0<br>%{xaxis.title.text}=%{x}<br>%{yaxis.title.text}=%{y}<extra></extra>",
         "hovertext": [
          "Justin Fields",
          "Marcus Mariota",
          "Andy Dalton",
          "Kenny Pickett",
          "Baker Mayfield"
         ],
         "legendgroup": "0",
         "marker": {
          "color": "#00cc96",
          "size": 6,
          "symbol": "circle"
         },
         "name": "0",
         "showlegend": true,
         "type": "splom"
        },
        {
         "diagonal": {
          "visible": false
         },
         "dimensions": [
          {
           "axis": {
            "matches": true
           },
           "label": "Passing Yards",
           "values": [
            4113,
            4438,
            4739,
            4694
           ]
          },
          {
           "axis": {
            "matches": true
           },
           "label": "Attempts",
           "values": [
            584,
            587,
            699,
            733
           ]
          },
          {
           "axis": {
            "matches": true
           },
           "label": "Completions",
           "values": [
            387,
            382,
            477,
            490
           ]
          },
          {
           "axis": {
            "matches": true
           },
           "label": "Passing TDs",
           "values": [
            25,
            29,
            25,
            25
           ]
          },
          {
           "axis": {
            "matches": true
           },
           "label": "Interceptions",
           "values": [
            8,
            7,
            10,
            9
           ]
          }
         ],
         "hovertemplate": "<b>%{hovertext}</b><br><br>Cluster=1<br>%{xaxis.title.text}=%{x}<br>%{yaxis.title.text}=%{y}<extra></extra>",
         "hovertext": [
          "Trevor Lawrence",
          "Jared Goff",
          "Justin Herbert",
          "Tom Brady"
         ],
         "legendgroup": "1",
         "marker": {
          "color": "#ab63fa",
          "size": 6,
          "symbol": "circle"
         },
         "name": "1",
         "showlegend": true,
         "type": "splom"
        },
        {
         "diagonal": {
          "visible": false
         },
         "dimensions": [
          {
           "axis": {
            "matches": true
           },
           "label": "Passing Yards",
           "values": [
            2242,
            2368,
            2608,
            2437,
            2536,
            1859
           ]
          },
          {
           "axis": {
            "matches": true
           },
           "label": "Attempts",
           "values": [
            326,
            390,
            369,
            308,
            325,
            259
           ]
          },
          {
           "axis": {
            "matches": true
           },
           "label": "Completions",
           "values": [
            203,
            259,
            236,
            207,
            212,
            161
           ]
          },
          {
           "axis": {
            "matches": true
           },
           "label": "Passing TDs",
           "values": [
            17,
            14,
            12,
            16,
            13,
            12
           ]
          },
          {
           "axis": {
            "matches": true
           },
           "label": "Interceptions",
           "values": [
            7,
            7,
            6,
            4,
            6,
            6
           ]
          }
         ],
         "hovertemplate": "<b>%{hovertext}</b><br><br>Cluster=4<br>%{xaxis.title.text}=%{x}<br>%{yaxis.title.text}=%{y}<extra></extra>",
         "hovertext": [
          "Lamar Jackson",
          "Kyler Murray",
          "Jacoby Brissett",
          "Jimmy Garoppolo",
          "Ryan Tannehill",
          "Taylor Heinicke"
         ],
         "legendgroup": "4",
         "marker": {
          "color": "#FFA15A",
          "size": 6,
          "symbol": "circle"
         },
         "name": "4",
         "showlegend": true,
         "type": "splom"
        },
        {
         "diagonal": {
          "visible": false
         },
         "dimensions": [
          {
           "axis": {
            "matches": true
           },
           "label": "Passing Yards",
           "values": [
            3524,
            3522,
            2860,
            3118,
            2997,
            3057
           ]
          },
          {
           "axis": {
            "matches": true
           },
           "label": "Attempts",
           "values": [
            483,
            502,
            394,
            479,
            442,
            461
           ]
          },
          {
           "axis": {
            "matches": true
           },
           "label": "Completions",
           "values": [
            292,
            305,
            261,
            292,
            288,
            309
           ]
          },
          {
           "axis": {
            "matches": true
           },
           "label": "Passing TDs",
           "values": [
            16,
            24,
            23,
            17,
            14,
            14
           ]
          },
          {
           "axis": {
            "matches": true
           },
           "label": "Interceptions",
           "values": [
            11,
            14,
            15,
            15,
            11,
            13
           ]
          }
         ],
         "hovertemplate": "<b>%{hovertext}</b><br><br>Cluster=3<br>%{xaxis.title.text}=%{x}<br>%{yaxis.title.text}=%{y}<extra></extra>",
         "hovertext": [
          "Russell Wilson",
          "Derek Carr",
          "Dak Prescott",
          "Davis Mills",
          "Mac Jones",
          "Matt Ryan"
         ],
         "legendgroup": "3",
         "marker": {
          "color": "#19d3f3",
          "size": 6,
          "symbol": "circle"
         },
         "name": "3",
         "showlegend": true,
         "type": "splom"
        }
       ],
       "layout": {
        "dragmode": "select",
        "font": {
         "color": "black",
         "family": "Courier New, monospace",
         "size": 10
        },
        "height": 1000,
        "legend": {
         "title": {
          "text": "Cluster"
         },
         "tracegroupgap": 0
        },
        "margin": {
         "t": 60
        },
        "paper_bgcolor": "rgba(0,0,0,0)",
        "plot_bgcolor": "rgba(245, 245, 245, 1)",
        "showlegend": true,
        "template": {
         "data": {
          "bar": [
           {
            "error_x": {
             "color": "#2a3f5f"
            },
            "error_y": {
             "color": "#2a3f5f"
            },
            "marker": {
             "line": {
              "color": "#E5ECF6",
              "width": 0.5
             },
             "pattern": {
              "fillmode": "overlay",
              "size": 10,
              "solidity": 0.2
             }
            },
            "type": "bar"
           }
          ],
          "barpolar": [
           {
            "marker": {
             "line": {
              "color": "#E5ECF6",
              "width": 0.5
             },
             "pattern": {
              "fillmode": "overlay",
              "size": 10,
              "solidity": 0.2
             }
            },
            "type": "barpolar"
           }
          ],
          "carpet": [
           {
            "aaxis": {
             "endlinecolor": "#2a3f5f",
             "gridcolor": "white",
             "linecolor": "white",
             "minorgridcolor": "white",
             "startlinecolor": "#2a3f5f"
            },
            "baxis": {
             "endlinecolor": "#2a3f5f",
             "gridcolor": "white",
             "linecolor": "white",
             "minorgridcolor": "white",
             "startlinecolor": "#2a3f5f"
            },
            "type": "carpet"
           }
          ],
          "choropleth": [
           {
            "colorbar": {
             "outlinewidth": 0,
             "ticks": ""
            },
            "type": "choropleth"
           }
          ],
          "contour": [
           {
            "colorbar": {
             "outlinewidth": 0,
             "ticks": ""
            },
            "colorscale": [
             [
              0,
              "#0d0887"
             ],
             [
              0.1111111111111111,
              "#46039f"
             ],
             [
              0.2222222222222222,
              "#7201a8"
             ],
             [
              0.3333333333333333,
              "#9c179e"
             ],
             [
              0.4444444444444444,
              "#bd3786"
             ],
             [
              0.5555555555555556,
              "#d8576b"
             ],
             [
              0.6666666666666666,
              "#ed7953"
             ],
             [
              0.7777777777777778,
              "#fb9f3a"
             ],
             [
              0.8888888888888888,
              "#fdca26"
             ],
             [
              1,
              "#f0f921"
             ]
            ],
            "type": "contour"
           }
          ],
          "contourcarpet": [
           {
            "colorbar": {
             "outlinewidth": 0,
             "ticks": ""
            },
            "type": "contourcarpet"
           }
          ],
          "heatmap": [
           {
            "colorbar": {
             "outlinewidth": 0,
             "ticks": ""
            },
            "colorscale": [
             [
              0,
              "#0d0887"
             ],
             [
              0.1111111111111111,
              "#46039f"
             ],
             [
              0.2222222222222222,
              "#7201a8"
             ],
             [
              0.3333333333333333,
              "#9c179e"
             ],
             [
              0.4444444444444444,
              "#bd3786"
             ],
             [
              0.5555555555555556,
              "#d8576b"
             ],
             [
              0.6666666666666666,
              "#ed7953"
             ],
             [
              0.7777777777777778,
              "#fb9f3a"
             ],
             [
              0.8888888888888888,
              "#fdca26"
             ],
             [
              1,
              "#f0f921"
             ]
            ],
            "type": "heatmap"
           }
          ],
          "heatmapgl": [
           {
            "colorbar": {
             "outlinewidth": 0,
             "ticks": ""
            },
            "colorscale": [
             [
              0,
              "#0d0887"
             ],
             [
              0.1111111111111111,
              "#46039f"
             ],
             [
              0.2222222222222222,
              "#7201a8"
             ],
             [
              0.3333333333333333,
              "#9c179e"
             ],
             [
              0.4444444444444444,
              "#bd3786"
             ],
             [
              0.5555555555555556,
              "#d8576b"
             ],
             [
              0.6666666666666666,
              "#ed7953"
             ],
             [
              0.7777777777777778,
              "#fb9f3a"
             ],
             [
              0.8888888888888888,
              "#fdca26"
             ],
             [
              1,
              "#f0f921"
             ]
            ],
            "type": "heatmapgl"
           }
          ],
          "histogram": [
           {
            "marker": {
             "pattern": {
              "fillmode": "overlay",
              "size": 10,
              "solidity": 0.2
             }
            },
            "type": "histogram"
           }
          ],
          "histogram2d": [
           {
            "colorbar": {
             "outlinewidth": 0,
             "ticks": ""
            },
            "colorscale": [
             [
              0,
              "#0d0887"
             ],
             [
              0.1111111111111111,
              "#46039f"
             ],
             [
              0.2222222222222222,
              "#7201a8"
             ],
             [
              0.3333333333333333,
              "#9c179e"
             ],
             [
              0.4444444444444444,
              "#bd3786"
             ],
             [
              0.5555555555555556,
              "#d8576b"
             ],
             [
              0.6666666666666666,
              "#ed7953"
             ],
             [
              0.7777777777777778,
              "#fb9f3a"
             ],
             [
              0.8888888888888888,
              "#fdca26"
             ],
             [
              1,
              "#f0f921"
             ]
            ],
            "type": "histogram2d"
           }
          ],
          "histogram2dcontour": [
           {
            "colorbar": {
             "outlinewidth": 0,
             "ticks": ""
            },
            "colorscale": [
             [
              0,
              "#0d0887"
             ],
             [
              0.1111111111111111,
              "#46039f"
             ],
             [
              0.2222222222222222,
              "#7201a8"
             ],
             [
              0.3333333333333333,
              "#9c179e"
             ],
             [
              0.4444444444444444,
              "#bd3786"
             ],
             [
              0.5555555555555556,
              "#d8576b"
             ],
             [
              0.6666666666666666,
              "#ed7953"
             ],
             [
              0.7777777777777778,
              "#fb9f3a"
             ],
             [
              0.8888888888888888,
              "#fdca26"
             ],
             [
              1,
              "#f0f921"
             ]
            ],
            "type": "histogram2dcontour"
           }
          ],
          "mesh3d": [
           {
            "colorbar": {
             "outlinewidth": 0,
             "ticks": ""
            },
            "type": "mesh3d"
           }
          ],
          "parcoords": [
           {
            "line": {
             "colorbar": {
              "outlinewidth": 0,
              "ticks": ""
             }
            },
            "type": "parcoords"
           }
          ],
          "pie": [
           {
            "automargin": true,
            "type": "pie"
           }
          ],
          "scatter": [
           {
            "fillpattern": {
             "fillmode": "overlay",
             "size": 10,
             "solidity": 0.2
            },
            "type": "scatter"
           }
          ],
          "scatter3d": [
           {
            "line": {
             "colorbar": {
              "outlinewidth": 0,
              "ticks": ""
             }
            },
            "marker": {
             "colorbar": {
              "outlinewidth": 0,
              "ticks": ""
             }
            },
            "type": "scatter3d"
           }
          ],
          "scattercarpet": [
           {
            "marker": {
             "colorbar": {
              "outlinewidth": 0,
              "ticks": ""
             }
            },
            "type": "scattercarpet"
           }
          ],
          "scattergeo": [
           {
            "marker": {
             "colorbar": {
              "outlinewidth": 0,
              "ticks": ""
             }
            },
            "type": "scattergeo"
           }
          ],
          "scattergl": [
           {
            "marker": {
             "colorbar": {
              "outlinewidth": 0,
              "ticks": ""
             }
            },
            "type": "scattergl"
           }
          ],
          "scattermapbox": [
           {
            "marker": {
             "colorbar": {
              "outlinewidth": 0,
              "ticks": ""
             }
            },
            "type": "scattermapbox"
           }
          ],
          "scatterpolar": [
           {
            "marker": {
             "colorbar": {
              "outlinewidth": 0,
              "ticks": ""
             }
            },
            "type": "scatterpolar"
           }
          ],
          "scatterpolargl": [
           {
            "marker": {
             "colorbar": {
              "outlinewidth": 0,
              "ticks": ""
             }
            },
            "type": "scatterpolargl"
           }
          ],
          "scatterternary": [
           {
            "marker": {
             "colorbar": {
              "outlinewidth": 0,
              "ticks": ""
             }
            },
            "type": "scatterternary"
           }
          ],
          "surface": [
           {
            "colorbar": {
             "outlinewidth": 0,
             "ticks": ""
            },
            "colorscale": [
             [
              0,
              "#0d0887"
             ],
             [
              0.1111111111111111,
              "#46039f"
             ],
             [
              0.2222222222222222,
              "#7201a8"
             ],
             [
              0.3333333333333333,
              "#9c179e"
             ],
             [
              0.4444444444444444,
              "#bd3786"
             ],
             [
              0.5555555555555556,
              "#d8576b"
             ],
             [
              0.6666666666666666,
              "#ed7953"
             ],
             [
              0.7777777777777778,
              "#fb9f3a"
             ],
             [
              0.8888888888888888,
              "#fdca26"
             ],
             [
              1,
              "#f0f921"
             ]
            ],
            "type": "surface"
           }
          ],
          "table": [
           {
            "cells": {
             "fill": {
              "color": "#EBF0F8"
             },
             "line": {
              "color": "white"
             }
            },
            "header": {
             "fill": {
              "color": "#C8D4E3"
             },
             "line": {
              "color": "white"
             }
            },
            "type": "table"
           }
          ]
         },
         "layout": {
          "annotationdefaults": {
           "arrowcolor": "#2a3f5f",
           "arrowhead": 0,
           "arrowwidth": 1
          },
          "autotypenumbers": "strict",
          "coloraxis": {
           "colorbar": {
            "outlinewidth": 0,
            "ticks": ""
           }
          },
          "colorscale": {
           "diverging": [
            [
             0,
             "#8e0152"
            ],
            [
             0.1,
             "#c51b7d"
            ],
            [
             0.2,
             "#de77ae"
            ],
            [
             0.3,
             "#f1b6da"
            ],
            [
             0.4,
             "#fde0ef"
            ],
            [
             0.5,
             "#f7f7f7"
            ],
            [
             0.6,
             "#e6f5d0"
            ],
            [
             0.7,
             "#b8e186"
            ],
            [
             0.8,
             "#7fbc41"
            ],
            [
             0.9,
             "#4d9221"
            ],
            [
             1,
             "#276419"
            ]
           ],
           "sequential": [
            [
             0,
             "#0d0887"
            ],
            [
             0.1111111111111111,
             "#46039f"
            ],
            [
             0.2222222222222222,
             "#7201a8"
            ],
            [
             0.3333333333333333,
             "#9c179e"
            ],
            [
             0.4444444444444444,
             "#bd3786"
            ],
            [
             0.5555555555555556,
             "#d8576b"
            ],
            [
             0.6666666666666666,
             "#ed7953"
            ],
            [
             0.7777777777777778,
             "#fb9f3a"
            ],
            [
             0.8888888888888888,
             "#fdca26"
            ],
            [
             1,
             "#f0f921"
            ]
           ],
           "sequentialminus": [
            [
             0,
             "#0d0887"
            ],
            [
             0.1111111111111111,
             "#46039f"
            ],
            [
             0.2222222222222222,
             "#7201a8"
            ],
            [
             0.3333333333333333,
             "#9c179e"
            ],
            [
             0.4444444444444444,
             "#bd3786"
            ],
            [
             0.5555555555555556,
             "#d8576b"
            ],
            [
             0.6666666666666666,
             "#ed7953"
            ],
            [
             0.7777777777777778,
             "#fb9f3a"
            ],
            [
             0.8888888888888888,
             "#fdca26"
            ],
            [
             1,
             "#f0f921"
            ]
           ]
          },
          "colorway": [
           "#636efa",
           "#EF553B",
           "#00cc96",
           "#ab63fa",
           "#FFA15A",
           "#19d3f3",
           "#FF6692",
           "#B6E880",
           "#FF97FF",
           "#FECB52"
          ],
          "font": {
           "color": "#2a3f5f"
          },
          "geo": {
           "bgcolor": "white",
           "lakecolor": "white",
           "landcolor": "#E5ECF6",
           "showlakes": true,
           "showland": true,
           "subunitcolor": "white"
          },
          "hoverlabel": {
           "align": "left"
          },
          "hovermode": "closest",
          "mapbox": {
           "style": "light"
          },
          "paper_bgcolor": "white",
          "plot_bgcolor": "#E5ECF6",
          "polar": {
           "angularaxis": {
            "gridcolor": "white",
            "linecolor": "white",
            "ticks": ""
           },
           "bgcolor": "#E5ECF6",
           "radialaxis": {
            "gridcolor": "white",
            "linecolor": "white",
            "ticks": ""
           }
          },
          "scene": {
           "xaxis": {
            "backgroundcolor": "#E5ECF6",
            "gridcolor": "white",
            "gridwidth": 2,
            "linecolor": "white",
            "showbackground": true,
            "ticks": "",
            "zerolinecolor": "white"
           },
           "yaxis": {
            "backgroundcolor": "#E5ECF6",
            "gridcolor": "white",
            "gridwidth": 2,
            "linecolor": "white",
            "showbackground": true,
            "ticks": "",
            "zerolinecolor": "white"
           },
           "zaxis": {
            "backgroundcolor": "#E5ECF6",
            "gridcolor": "white",
            "gridwidth": 2,
            "linecolor": "white",
            "showbackground": true,
            "ticks": "",
            "zerolinecolor": "white"
           }
          },
          "shapedefaults": {
           "line": {
            "color": "#2a3f5f"
           }
          },
          "ternary": {
           "aaxis": {
            "gridcolor": "white",
            "linecolor": "white",
            "ticks": ""
           },
           "baxis": {
            "gridcolor": "white",
            "linecolor": "white",
            "ticks": ""
           },
           "bgcolor": "#E5ECF6",
           "caxis": {
            "gridcolor": "white",
            "linecolor": "white",
            "ticks": ""
           }
          },
          "title": {
           "x": 0.05
          },
          "xaxis": {
           "automargin": true,
           "gridcolor": "white",
           "linecolor": "white",
           "ticks": "",
           "title": {
            "standoff": 15
           },
           "zerolinecolor": "white",
           "zerolinewidth": 2
          },
          "yaxis": {
           "automargin": true,
           "gridcolor": "white",
           "linecolor": "white",
           "ticks": "",
           "title": {
            "standoff": 15
           },
           "zerolinecolor": "white",
           "zerolinewidth": 2
          }
         }
        },
        "width": 1000,
        "xaxis": {
         "gridcolor": "rgba(200, 200, 200, 0.5)",
         "gridwidth": 0.5,
         "showgrid": true
        },
        "yaxis": {
         "gridcolor": "rgba(200, 200, 200, 0.5)",
         "gridwidth": 0.5,
         "showgrid": true
        }
       }
      },
      "text/html": [
       "<div>                            <div id=\"06326ea8-1bb2-4162-9da7-dd9d1ab2bdd7\" class=\"plotly-graph-div\" style=\"height:1000px; width:1000px;\"></div>            <script type=\"text/javascript\">                require([\"plotly\"], function(Plotly) {                    window.PLOTLYENV=window.PLOTLYENV || {};                                    if (document.getElementById(\"06326ea8-1bb2-4162-9da7-dd9d1ab2bdd7\")) {                    Plotly.newPlot(                        \"06326ea8-1bb2-4162-9da7-dd9d1ab2bdd7\",                        [{\"dimensions\":[{\"axis\":{\"matches\":true},\"label\":\"Passing Yards\",\"values\":[5250.0,4283.0,4475.0,4282.0,4547.0,3695.0]},{\"axis\":{\"matches\":true},\"label\":\"Attempts\",\"values\":[648.0,567.0,606.0,572.0,643.0,542.0]},{\"axis\":{\"matches\":true},\"label\":\"Completions\",\"values\":[435.0,359.0,414.0,399.0,424.0,350.0]},{\"axis\":{\"matches\":true},\"label\":\"Passing TDs\",\"values\":[41.0,35.0,35.0,30.0,29.0,26.0]},{\"axis\":{\"matches\":true},\"label\":\"Interceptions\",\"values\":[12.0,14.0,12.0,11.0,14.0,12.0]}],\"hovertemplate\":\"\\u003cb\\u003e%{hovertext}\\u003c\\u002fb\\u003e\\u003cbr\\u003e\\u003cbr\\u003eCluster=2\\u003cbr\\u003e%{xaxis.title.text}=%{x}\\u003cbr\\u003e%{yaxis.title.text}=%{y}\\u003cextra\\u003e\\u003c\\u002fextra\\u003e\",\"hovertext\":[\"Patrick Mahomes\",\"Josh Allen\",\"Joe Burrow\",\"Geno Smith\",\"Kirk Cousins\",\"Aaron Rodgers\"],\"legendgroup\":\"2\",\"marker\":{\"color\":\"#636efa\",\"symbol\":\"circle\",\"size\":6},\"name\":\"2\",\"showlegend\":true,\"type\":\"splom\",\"diagonal\":{\"visible\":false}},{\"dimensions\":[{\"axis\":{\"matches\":true},\"label\":\"Passing Yards\",\"values\":[3701.0,3205.0,3548.0]},{\"axis\":{\"matches\":true},\"label\":\"Attempts\",\"values\":[460.0,472.0,400.0]},{\"axis\":{\"matches\":true},\"label\":\"Completions\",\"values\":[306.0,317.0,259.0]},{\"axis\":{\"matches\":true},\"label\":\"Passing TDs\",\"values\":[22.0,15.0,25.0]},{\"axis\":{\"matches\":true},\"label\":\"Interceptions\",\"values\":[6.0,5.0,8.0]}],\"hovertemplate\":\"\\u003cb\\u003e%{hovertext}\\u003c\\u002fb\\u003e\\u003cbr\\u003e\\u003cbr\\u003eCluster=5\\u003cbr\\u003e%{xaxis.title.text}=%{x}\\u003cbr\\u003e%{yaxis.title.text}=%{y}\\u003cextra\\u003e\\u003c\\u002fextra\\u003e\",\"hovertext\":[\"Jalen Hurts\",\"Daniel Jones\",\"Tua Tagovailoa\"],\"legendgroup\":\"5\",\"marker\":{\"color\":\"#EF553B\",\"symbol\":\"circle\",\"size\":6},\"name\":\"5\",\"showlegend\":true,\"type\":\"splom\",\"diagonal\":{\"visible\":false}},{\"dimensions\":[{\"axis\":{\"matches\":true},\"label\":\"Passing Yards\",\"values\":[2242.0,2219.0,2871.0,2404.0,2163.0]},{\"axis\":{\"matches\":true},\"label\":\"Attempts\",\"values\":[318.0,300.0,378.0,389.0,335.0]},{\"axis\":{\"matches\":true},\"label\":\"Completions\",\"values\":[192.0,184.0,252.0,245.0,201.0]},{\"axis\":{\"matches\":true},\"label\":\"Passing TDs\",\"values\":[17.0,15.0,18.0,7.0,10.0]},{\"axis\":{\"matches\":true},\"label\":\"Interceptions\",\"values\":[11.0,9.0,9.0,9.0,8.0]}],\"hovertemplate\":\"\\u003cb\\u003e%{hovertext}\\u003c\\u002fb\\u003e\\u003cbr\\u003e\\u003cbr\\u003eCluster=0\\u003cbr\\u003e%{xaxis.title.text}=%{x}\\u003cbr\\u003e%{yaxis.title.text}=%{y}\\u003cextra\\u003e\\u003c\\u002fextra\\u003e\",\"hovertext\":[\"Justin Fields\",\"Marcus Mariota\",\"Andy Dalton\",\"Kenny Pickett\",\"Baker Mayfield\"],\"legendgroup\":\"0\",\"marker\":{\"color\":\"#00cc96\",\"symbol\":\"circle\",\"size\":6},\"name\":\"0\",\"showlegend\":true,\"type\":\"splom\",\"diagonal\":{\"visible\":false}},{\"dimensions\":[{\"axis\":{\"matches\":true},\"label\":\"Passing Yards\",\"values\":[4113.0,4438.0,4739.0,4694.0]},{\"axis\":{\"matches\":true},\"label\":\"Attempts\",\"values\":[584.0,587.0,699.0,733.0]},{\"axis\":{\"matches\":true},\"label\":\"Completions\",\"values\":[387.0,382.0,477.0,490.0]},{\"axis\":{\"matches\":true},\"label\":\"Passing TDs\",\"values\":[25.0,29.0,25.0,25.0]},{\"axis\":{\"matches\":true},\"label\":\"Interceptions\",\"values\":[8.0,7.0,10.0,9.0]}],\"hovertemplate\":\"\\u003cb\\u003e%{hovertext}\\u003c\\u002fb\\u003e\\u003cbr\\u003e\\u003cbr\\u003eCluster=1\\u003cbr\\u003e%{xaxis.title.text}=%{x}\\u003cbr\\u003e%{yaxis.title.text}=%{y}\\u003cextra\\u003e\\u003c\\u002fextra\\u003e\",\"hovertext\":[\"Trevor Lawrence\",\"Jared Goff\",\"Justin Herbert\",\"Tom Brady\"],\"legendgroup\":\"1\",\"marker\":{\"color\":\"#ab63fa\",\"symbol\":\"circle\",\"size\":6},\"name\":\"1\",\"showlegend\":true,\"type\":\"splom\",\"diagonal\":{\"visible\":false}},{\"dimensions\":[{\"axis\":{\"matches\":true},\"label\":\"Passing Yards\",\"values\":[2242.0,2368.0,2608.0,2437.0,2536.0,1859.0]},{\"axis\":{\"matches\":true},\"label\":\"Attempts\",\"values\":[326.0,390.0,369.0,308.0,325.0,259.0]},{\"axis\":{\"matches\":true},\"label\":\"Completions\",\"values\":[203.0,259.0,236.0,207.0,212.0,161.0]},{\"axis\":{\"matches\":true},\"label\":\"Passing TDs\",\"values\":[17.0,14.0,12.0,16.0,13.0,12.0]},{\"axis\":{\"matches\":true},\"label\":\"Interceptions\",\"values\":[7.0,7.0,6.0,4.0,6.0,6.0]}],\"hovertemplate\":\"\\u003cb\\u003e%{hovertext}\\u003c\\u002fb\\u003e\\u003cbr\\u003e\\u003cbr\\u003eCluster=4\\u003cbr\\u003e%{xaxis.title.text}=%{x}\\u003cbr\\u003e%{yaxis.title.text}=%{y}\\u003cextra\\u003e\\u003c\\u002fextra\\u003e\",\"hovertext\":[\"Lamar Jackson\",\"Kyler Murray\",\"Jacoby Brissett\",\"Jimmy Garoppolo\",\"Ryan Tannehill\",\"Taylor Heinicke\"],\"legendgroup\":\"4\",\"marker\":{\"color\":\"#FFA15A\",\"symbol\":\"circle\",\"size\":6},\"name\":\"4\",\"showlegend\":true,\"type\":\"splom\",\"diagonal\":{\"visible\":false}},{\"dimensions\":[{\"axis\":{\"matches\":true},\"label\":\"Passing Yards\",\"values\":[3524.0,3522.0,2860.0,3118.0,2997.0,3057.0]},{\"axis\":{\"matches\":true},\"label\":\"Attempts\",\"values\":[483.0,502.0,394.0,479.0,442.0,461.0]},{\"axis\":{\"matches\":true},\"label\":\"Completions\",\"values\":[292.0,305.0,261.0,292.0,288.0,309.0]},{\"axis\":{\"matches\":true},\"label\":\"Passing TDs\",\"values\":[16.0,24.0,23.0,17.0,14.0,14.0]},{\"axis\":{\"matches\":true},\"label\":\"Interceptions\",\"values\":[11.0,14.0,15.0,15.0,11.0,13.0]}],\"hovertemplate\":\"\\u003cb\\u003e%{hovertext}\\u003c\\u002fb\\u003e\\u003cbr\\u003e\\u003cbr\\u003eCluster=3\\u003cbr\\u003e%{xaxis.title.text}=%{x}\\u003cbr\\u003e%{yaxis.title.text}=%{y}\\u003cextra\\u003e\\u003c\\u002fextra\\u003e\",\"hovertext\":[\"Russell Wilson\",\"Derek Carr\",\"Dak Prescott\",\"Davis Mills\",\"Mac Jones\",\"Matt Ryan\"],\"legendgroup\":\"3\",\"marker\":{\"color\":\"#19d3f3\",\"symbol\":\"circle\",\"size\":6},\"name\":\"3\",\"showlegend\":true,\"type\":\"splom\",\"diagonal\":{\"visible\":false}}],                        {\"template\":{\"data\":{\"histogram2dcontour\":[{\"type\":\"histogram2dcontour\",\"colorbar\":{\"outlinewidth\":0,\"ticks\":\"\"},\"colorscale\":[[0.0,\"#0d0887\"],[0.1111111111111111,\"#46039f\"],[0.2222222222222222,\"#7201a8\"],[0.3333333333333333,\"#9c179e\"],[0.4444444444444444,\"#bd3786\"],[0.5555555555555556,\"#d8576b\"],[0.6666666666666666,\"#ed7953\"],[0.7777777777777778,\"#fb9f3a\"],[0.8888888888888888,\"#fdca26\"],[1.0,\"#f0f921\"]]}],\"choropleth\":[{\"type\":\"choropleth\",\"colorbar\":{\"outlinewidth\":0,\"ticks\":\"\"}}],\"histogram2d\":[{\"type\":\"histogram2d\",\"colorbar\":{\"outlinewidth\":0,\"ticks\":\"\"},\"colorscale\":[[0.0,\"#0d0887\"],[0.1111111111111111,\"#46039f\"],[0.2222222222222222,\"#7201a8\"],[0.3333333333333333,\"#9c179e\"],[0.4444444444444444,\"#bd3786\"],[0.5555555555555556,\"#d8576b\"],[0.6666666666666666,\"#ed7953\"],[0.7777777777777778,\"#fb9f3a\"],[0.8888888888888888,\"#fdca26\"],[1.0,\"#f0f921\"]]}],\"heatmap\":[{\"type\":\"heatmap\",\"colorbar\":{\"outlinewidth\":0,\"ticks\":\"\"},\"colorscale\":[[0.0,\"#0d0887\"],[0.1111111111111111,\"#46039f\"],[0.2222222222222222,\"#7201a8\"],[0.3333333333333333,\"#9c179e\"],[0.4444444444444444,\"#bd3786\"],[0.5555555555555556,\"#d8576b\"],[0.6666666666666666,\"#ed7953\"],[0.7777777777777778,\"#fb9f3a\"],[0.8888888888888888,\"#fdca26\"],[1.0,\"#f0f921\"]]}],\"heatmapgl\":[{\"type\":\"heatmapgl\",\"colorbar\":{\"outlinewidth\":0,\"ticks\":\"\"},\"colorscale\":[[0.0,\"#0d0887\"],[0.1111111111111111,\"#46039f\"],[0.2222222222222222,\"#7201a8\"],[0.3333333333333333,\"#9c179e\"],[0.4444444444444444,\"#bd3786\"],[0.5555555555555556,\"#d8576b\"],[0.6666666666666666,\"#ed7953\"],[0.7777777777777778,\"#fb9f3a\"],[0.8888888888888888,\"#fdca26\"],[1.0,\"#f0f921\"]]}],\"contourcarpet\":[{\"type\":\"contourcarpet\",\"colorbar\":{\"outlinewidth\":0,\"ticks\":\"\"}}],\"contour\":[{\"type\":\"contour\",\"colorbar\":{\"outlinewidth\":0,\"ticks\":\"\"},\"colorscale\":[[0.0,\"#0d0887\"],[0.1111111111111111,\"#46039f\"],[0.2222222222222222,\"#7201a8\"],[0.3333333333333333,\"#9c179e\"],[0.4444444444444444,\"#bd3786\"],[0.5555555555555556,\"#d8576b\"],[0.6666666666666666,\"#ed7953\"],[0.7777777777777778,\"#fb9f3a\"],[0.8888888888888888,\"#fdca26\"],[1.0,\"#f0f921\"]]}],\"surface\":[{\"type\":\"surface\",\"colorbar\":{\"outlinewidth\":0,\"ticks\":\"\"},\"colorscale\":[[0.0,\"#0d0887\"],[0.1111111111111111,\"#46039f\"],[0.2222222222222222,\"#7201a8\"],[0.3333333333333333,\"#9c179e\"],[0.4444444444444444,\"#bd3786\"],[0.5555555555555556,\"#d8576b\"],[0.6666666666666666,\"#ed7953\"],[0.7777777777777778,\"#fb9f3a\"],[0.8888888888888888,\"#fdca26\"],[1.0,\"#f0f921\"]]}],\"mesh3d\":[{\"type\":\"mesh3d\",\"colorbar\":{\"outlinewidth\":0,\"ticks\":\"\"}}],\"scatter\":[{\"fillpattern\":{\"fillmode\":\"overlay\",\"size\":10,\"solidity\":0.2},\"type\":\"scatter\"}],\"parcoords\":[{\"type\":\"parcoords\",\"line\":{\"colorbar\":{\"outlinewidth\":0,\"ticks\":\"\"}}}],\"scatterpolargl\":[{\"type\":\"scatterpolargl\",\"marker\":{\"colorbar\":{\"outlinewidth\":0,\"ticks\":\"\"}}}],\"bar\":[{\"error_x\":{\"color\":\"#2a3f5f\"},\"error_y\":{\"color\":\"#2a3f5f\"},\"marker\":{\"line\":{\"color\":\"#E5ECF6\",\"width\":0.5},\"pattern\":{\"fillmode\":\"overlay\",\"size\":10,\"solidity\":0.2}},\"type\":\"bar\"}],\"scattergeo\":[{\"type\":\"scattergeo\",\"marker\":{\"colorbar\":{\"outlinewidth\":0,\"ticks\":\"\"}}}],\"scatterpolar\":[{\"type\":\"scatterpolar\",\"marker\":{\"colorbar\":{\"outlinewidth\":0,\"ticks\":\"\"}}}],\"histogram\":[{\"marker\":{\"pattern\":{\"fillmode\":\"overlay\",\"size\":10,\"solidity\":0.2}},\"type\":\"histogram\"}],\"scattergl\":[{\"type\":\"scattergl\",\"marker\":{\"colorbar\":{\"outlinewidth\":0,\"ticks\":\"\"}}}],\"scatter3d\":[{\"type\":\"scatter3d\",\"line\":{\"colorbar\":{\"outlinewidth\":0,\"ticks\":\"\"}},\"marker\":{\"colorbar\":{\"outlinewidth\":0,\"ticks\":\"\"}}}],\"scattermapbox\":[{\"type\":\"scattermapbox\",\"marker\":{\"colorbar\":{\"outlinewidth\":0,\"ticks\":\"\"}}}],\"scatterternary\":[{\"type\":\"scatterternary\",\"marker\":{\"colorbar\":{\"outlinewidth\":0,\"ticks\":\"\"}}}],\"scattercarpet\":[{\"type\":\"scattercarpet\",\"marker\":{\"colorbar\":{\"outlinewidth\":0,\"ticks\":\"\"}}}],\"carpet\":[{\"aaxis\":{\"endlinecolor\":\"#2a3f5f\",\"gridcolor\":\"white\",\"linecolor\":\"white\",\"minorgridcolor\":\"white\",\"startlinecolor\":\"#2a3f5f\"},\"baxis\":{\"endlinecolor\":\"#2a3f5f\",\"gridcolor\":\"white\",\"linecolor\":\"white\",\"minorgridcolor\":\"white\",\"startlinecolor\":\"#2a3f5f\"},\"type\":\"carpet\"}],\"table\":[{\"cells\":{\"fill\":{\"color\":\"#EBF0F8\"},\"line\":{\"color\":\"white\"}},\"header\":{\"fill\":{\"color\":\"#C8D4E3\"},\"line\":{\"color\":\"white\"}},\"type\":\"table\"}],\"barpolar\":[{\"marker\":{\"line\":{\"color\":\"#E5ECF6\",\"width\":0.5},\"pattern\":{\"fillmode\":\"overlay\",\"size\":10,\"solidity\":0.2}},\"type\":\"barpolar\"}],\"pie\":[{\"automargin\":true,\"type\":\"pie\"}]},\"layout\":{\"autotypenumbers\":\"strict\",\"colorway\":[\"#636efa\",\"#EF553B\",\"#00cc96\",\"#ab63fa\",\"#FFA15A\",\"#19d3f3\",\"#FF6692\",\"#B6E880\",\"#FF97FF\",\"#FECB52\"],\"font\":{\"color\":\"#2a3f5f\"},\"hovermode\":\"closest\",\"hoverlabel\":{\"align\":\"left\"},\"paper_bgcolor\":\"white\",\"plot_bgcolor\":\"#E5ECF6\",\"polar\":{\"bgcolor\":\"#E5ECF6\",\"angularaxis\":{\"gridcolor\":\"white\",\"linecolor\":\"white\",\"ticks\":\"\"},\"radialaxis\":{\"gridcolor\":\"white\",\"linecolor\":\"white\",\"ticks\":\"\"}},\"ternary\":{\"bgcolor\":\"#E5ECF6\",\"aaxis\":{\"gridcolor\":\"white\",\"linecolor\":\"white\",\"ticks\":\"\"},\"baxis\":{\"gridcolor\":\"white\",\"linecolor\":\"white\",\"ticks\":\"\"},\"caxis\":{\"gridcolor\":\"white\",\"linecolor\":\"white\",\"ticks\":\"\"}},\"coloraxis\":{\"colorbar\":{\"outlinewidth\":0,\"ticks\":\"\"}},\"colorscale\":{\"sequential\":[[0.0,\"#0d0887\"],[0.1111111111111111,\"#46039f\"],[0.2222222222222222,\"#7201a8\"],[0.3333333333333333,\"#9c179e\"],[0.4444444444444444,\"#bd3786\"],[0.5555555555555556,\"#d8576b\"],[0.6666666666666666,\"#ed7953\"],[0.7777777777777778,\"#fb9f3a\"],[0.8888888888888888,\"#fdca26\"],[1.0,\"#f0f921\"]],\"sequentialminus\":[[0.0,\"#0d0887\"],[0.1111111111111111,\"#46039f\"],[0.2222222222222222,\"#7201a8\"],[0.3333333333333333,\"#9c179e\"],[0.4444444444444444,\"#bd3786\"],[0.5555555555555556,\"#d8576b\"],[0.6666666666666666,\"#ed7953\"],[0.7777777777777778,\"#fb9f3a\"],[0.8888888888888888,\"#fdca26\"],[1.0,\"#f0f921\"]],\"diverging\":[[0,\"#8e0152\"],[0.1,\"#c51b7d\"],[0.2,\"#de77ae\"],[0.3,\"#f1b6da\"],[0.4,\"#fde0ef\"],[0.5,\"#f7f7f7\"],[0.6,\"#e6f5d0\"],[0.7,\"#b8e186\"],[0.8,\"#7fbc41\"],[0.9,\"#4d9221\"],[1,\"#276419\"]]},\"xaxis\":{\"gridcolor\":\"white\",\"linecolor\":\"white\",\"ticks\":\"\",\"title\":{\"standoff\":15},\"zerolinecolor\":\"white\",\"automargin\":true,\"zerolinewidth\":2},\"yaxis\":{\"gridcolor\":\"white\",\"linecolor\":\"white\",\"ticks\":\"\",\"title\":{\"standoff\":15},\"zerolinecolor\":\"white\",\"automargin\":true,\"zerolinewidth\":2},\"scene\":{\"xaxis\":{\"backgroundcolor\":\"#E5ECF6\",\"gridcolor\":\"white\",\"linecolor\":\"white\",\"showbackground\":true,\"ticks\":\"\",\"zerolinecolor\":\"white\",\"gridwidth\":2},\"yaxis\":{\"backgroundcolor\":\"#E5ECF6\",\"gridcolor\":\"white\",\"linecolor\":\"white\",\"showbackground\":true,\"ticks\":\"\",\"zerolinecolor\":\"white\",\"gridwidth\":2},\"zaxis\":{\"backgroundcolor\":\"#E5ECF6\",\"gridcolor\":\"white\",\"linecolor\":\"white\",\"showbackground\":true,\"ticks\":\"\",\"zerolinecolor\":\"white\",\"gridwidth\":2}},\"shapedefaults\":{\"line\":{\"color\":\"#2a3f5f\"}},\"annotationdefaults\":{\"arrowcolor\":\"#2a3f5f\",\"arrowhead\":0,\"arrowwidth\":1},\"geo\":{\"bgcolor\":\"white\",\"landcolor\":\"#E5ECF6\",\"subunitcolor\":\"white\",\"showland\":true,\"showlakes\":true,\"lakecolor\":\"white\"},\"title\":{\"x\":0.05},\"mapbox\":{\"style\":\"light\"}}},\"legend\":{\"title\":{\"text\":\"Cluster\"},\"tracegroupgap\":0},\"margin\":{\"t\":60},\"dragmode\":\"select\",\"font\":{\"family\":\"Courier New, monospace\",\"size\":10,\"color\":\"black\"},\"paper_bgcolor\":\"rgba(0,0,0,0)\",\"plot_bgcolor\":\"rgba(245, 245, 245, 1)\",\"showlegend\":true,\"xaxis\":{\"showgrid\":true,\"gridwidth\":0.5,\"gridcolor\":\"rgba(200, 200, 200, 0.5)\"},\"yaxis\":{\"showgrid\":true,\"gridwidth\":0.5,\"gridcolor\":\"rgba(200, 200, 200, 0.5)\"},\"width\":1000,\"height\":1000},                        {\"responsive\": true}                    ).then(function(){\n",
       "                            \n",
       "var gd = document.getElementById('06326ea8-1bb2-4162-9da7-dd9d1ab2bdd7');\n",
       "var x = new MutationObserver(function (mutations, observer) {{\n",
       "        var display = window.getComputedStyle(gd).display;\n",
       "        if (!display || display === 'none') {{\n",
       "            console.log([gd, 'removed!']);\n",
       "            Plotly.purge(gd);\n",
       "            observer.disconnect();\n",
       "        }}\n",
       "}});\n",
       "\n",
       "// Listen for the removal of the full notebook cells\n",
       "var notebookContainer = gd.closest('#notebook-container');\n",
       "if (notebookContainer) {{\n",
       "    x.observe(notebookContainer, {childList: true});\n",
       "}}\n",
       "\n",
       "// Listen for the clearing of the current output cell\n",
       "var outputEl = gd.closest('.output');\n",
       "if (outputEl) {{\n",
       "    x.observe(outputEl, {childList: true});\n",
       "}}\n",
       "\n",
       "                        })                };                });            </script>        </div>"
      ]
     },
     "metadata": {},
     "output_type": "display_data"
    }
   ],
   "source": [
    "graph_pair_plot_plotly(df=df_6, cluster_rankings=cluster_ranking_6,\n",
    "                       position=position, stats=stats, \n",
    "                       save_suffix=suffix, font_size=font_size, marker_size=marker_size,\n",
    "                       height=dim, width=dim\n",
    "                      )"
   ]
  },
  {
   "cell_type": "code",
   "execution_count": 46,
   "id": "339ab606",
   "metadata": {},
   "outputs": [
    {
     "name": "stdout",
     "output_type": "stream",
     "text": [
      "<div style='display: flex; justify-content: space-evenly;''>\n",
      "\t<div>\n",
      "\t\t<b>Cluster 0 ()</b>\n",
      "\t\t<ul class='bullet-list'>\n",
      "\t\t\t<li>Justin Fields</li>\n",
      "\t\t\t<li>Marcus Mariota</li>\n",
      "\t\t\t<li>Andy Dalton</li>\n",
      "\t\t\t<li>Kenny Pickett</li>\n",
      "\t\t\t<li>Baker Mayfield</li>\n",
      "\t\t</ul>\n",
      "\t</div>\n",
      "\n",
      "\t<div>\n",
      "\t\t<b>Cluster 1 ()</b>\n",
      "\t\t<ul class='bullet-list'>\n",
      "\t\t\t<li>Trevor Lawrence</li>\n",
      "\t\t\t<li>Jared Goff</li>\n",
      "\t\t\t<li>Justin Herbert</li>\n",
      "\t\t\t<li>Tom Brady</li>\n",
      "\t\t</ul>\n",
      "\t</div>\n",
      "\n",
      "\t<div>\n",
      "\t\t<b>Cluster 2 ()</b>\n",
      "\t\t<ul class='bullet-list'>\n",
      "\t\t\t<li>Patrick Mahomes</li>\n",
      "\t\t\t<li>Josh Allen</li>\n",
      "\t\t\t<li>Joe Burrow</li>\n",
      "\t\t\t<li>Geno Smith</li>\n",
      "\t\t\t<li>Kirk Cousins</li>\n",
      "\t\t\t<li>Aaron Rodgers</li>\n",
      "\t\t</ul>\n",
      "\t</div>\n",
      "\n",
      "\t<div>\n",
      "\t\t<b>Cluster 3 ()</b>\n",
      "\t\t<ul class='bullet-list'>\n",
      "\t\t\t<li>Russell Wilson</li>\n",
      "\t\t\t<li>Derek Carr</li>\n",
      "\t\t\t<li>Dak Prescott</li>\n",
      "\t\t\t<li>Davis Mills</li>\n",
      "\t\t\t<li>Mac Jones</li>\n",
      "\t\t\t<li>Matt Ryan</li>\n",
      "\t\t</ul>\n",
      "\t</div>\n",
      "\n",
      "\t<div>\n",
      "\t\t<b>Cluster 4 ()</b>\n",
      "\t\t<ul class='bullet-list'>\n",
      "\t\t\t<li>Lamar Jackson</li>\n",
      "\t\t\t<li>Kyler Murray</li>\n",
      "\t\t\t<li>Jacoby Brissett</li>\n",
      "\t\t\t<li>Jimmy Garoppolo</li>\n",
      "\t\t\t<li>Ryan Tannehill</li>\n",
      "\t\t\t<li>Taylor Heinicke</li>\n",
      "\t\t</ul>\n",
      "\t</div>\n",
      "\n",
      "\t<div>\n",
      "\t\t<b>Cluster 5 ()</b>\n",
      "\t\t<ul class='bullet-list'>\n",
      "\t\t\t<li>Jalen Hurts</li>\n",
      "\t\t\t<li>Daniel Jones</li>\n",
      "\t\t\t<li>Tua Tagovailoa</li>\n",
      "\t\t</ul>\n",
      "\t</div>\n",
      "</div>\n",
      "<p class='blog-p-tag'>\n",
      "\tTODO:\n",
      "\t<ul class='bullet-list'>\n",
      "\t\t<li><b>Cluster 0:</b> TODO</li>\n",
      "\t\t<li><b>Cluster 1:</b> TODO</li>\n",
      "\t\t<li><b>Cluster 2:</b> TODO</li>\n",
      "\t\t<li><b>Cluster 3:</b> TODO</li>\n",
      "\t\t<li><b>Cluster 4:</b> TODO</li>\n",
      "\t\t<li><b>Cluster 5:</b> TODO</li>\n",
      "\t</ul>\n",
      "</p>\n",
      "<p class=\"blog-p-tag\">\n",
      "    TODO\n",
      "</p>\n",
      "    \n"
     ]
    }
   ],
   "source": [
    "create_cluster_html_tiers(df_6)"
   ]
  },
  {
   "cell_type": "markdown",
   "id": "27b79859",
   "metadata": {},
   "source": [
    "### 7 Clusters"
   ]
  },
  {
   "cell_type": "code",
   "execution_count": 47,
   "id": "2ff5689a",
   "metadata": {},
   "outputs": [],
   "source": [
    "df_7 = create_cluster_df(labels=labels_7, X=X, stats=stats)"
   ]
  },
  {
   "cell_type": "code",
   "execution_count": 48,
   "id": "b8460f24",
   "metadata": {},
   "outputs": [
    {
     "data": {
      "application/vnd.plotly.v1+json": {
       "config": {
        "plotlyServerURL": "https://plot.ly"
       },
       "data": [
        {
         "diagonal": {
          "visible": false
         },
         "dimensions": [
          {
           "axis": {
            "matches": true
           },
           "label": "Passing Yards",
           "values": [
            5250,
            4283,
            4475,
            4282,
            4547
           ]
          },
          {
           "axis": {
            "matches": true
           },
           "label": "Attempts",
           "values": [
            648,
            567,
            606,
            572,
            643
           ]
          },
          {
           "axis": {
            "matches": true
           },
           "label": "Completions",
           "values": [
            435,
            359,
            414,
            399,
            424
           ]
          },
          {
           "axis": {
            "matches": true
           },
           "label": "Passing TDs",
           "values": [
            41,
            35,
            35,
            30,
            29
           ]
          },
          {
           "axis": {
            "matches": true
           },
           "label": "Interceptions",
           "values": [
            12,
            14,
            12,
            11,
            14
           ]
          }
         ],
         "hovertemplate": "<b>%{hovertext}</b><br><br>Cluster=0<br>%{xaxis.title.text}=%{x}<br>%{yaxis.title.text}=%{y}<extra></extra>",
         "hovertext": [
          "Patrick Mahomes",
          "Josh Allen",
          "Joe Burrow",
          "Geno Smith",
          "Kirk Cousins"
         ],
         "legendgroup": "0",
         "marker": {
          "color": "#636efa",
          "size": 6,
          "symbol": "circle"
         },
         "name": "0",
         "showlegend": true,
         "type": "splom"
        },
        {
         "diagonal": {
          "visible": false
         },
         "dimensions": [
          {
           "axis": {
            "matches": true
           },
           "label": "Passing Yards",
           "values": [
            3701,
            3205,
            3548,
            2871
           ]
          },
          {
           "axis": {
            "matches": true
           },
           "label": "Attempts",
           "values": [
            460,
            472,
            400,
            378
           ]
          },
          {
           "axis": {
            "matches": true
           },
           "label": "Completions",
           "values": [
            306,
            317,
            259,
            252
           ]
          },
          {
           "axis": {
            "matches": true
           },
           "label": "Passing TDs",
           "values": [
            22,
            15,
            25,
            18
           ]
          },
          {
           "axis": {
            "matches": true
           },
           "label": "Interceptions",
           "values": [
            6,
            5,
            8,
            9
           ]
          }
         ],
         "hovertemplate": "<b>%{hovertext}</b><br><br>Cluster=3<br>%{xaxis.title.text}=%{x}<br>%{yaxis.title.text}=%{y}<extra></extra>",
         "hovertext": [
          "Jalen Hurts",
          "Daniel Jones",
          "Tua Tagovailoa",
          "Andy Dalton"
         ],
         "legendgroup": "3",
         "marker": {
          "color": "#EF553B",
          "size": 6,
          "symbol": "circle"
         },
         "name": "3",
         "showlegend": true,
         "type": "splom"
        },
        {
         "diagonal": {
          "visible": false
         },
         "dimensions": [
          {
           "axis": {
            "matches": true
           },
           "label": "Passing Yards",
           "values": [
            2242,
            2368,
            2219,
            2404,
            2163
           ]
          },
          {
           "axis": {
            "matches": true
           },
           "label": "Attempts",
           "values": [
            318,
            390,
            300,
            389,
            335
           ]
          },
          {
           "axis": {
            "matches": true
           },
           "label": "Completions",
           "values": [
            192,
            259,
            184,
            245,
            201
           ]
          },
          {
           "axis": {
            "matches": true
           },
           "label": "Passing TDs",
           "values": [
            17,
            14,
            15,
            7,
            10
           ]
          },
          {
           "axis": {
            "matches": true
           },
           "label": "Interceptions",
           "values": [
            11,
            7,
            9,
            9,
            8
           ]
          }
         ],
         "hovertemplate": "<b>%{hovertext}</b><br><br>Cluster=1<br>%{xaxis.title.text}=%{x}<br>%{yaxis.title.text}=%{y}<extra></extra>",
         "hovertext": [
          "Justin Fields",
          "Kyler Murray",
          "Marcus Mariota",
          "Kenny Pickett",
          "Baker Mayfield"
         ],
         "legendgroup": "1",
         "marker": {
          "color": "#00cc96",
          "size": 6,
          "symbol": "circle"
         },
         "name": "1",
         "showlegend": true,
         "type": "splom"
        },
        {
         "diagonal": {
          "visible": false
         },
         "dimensions": [
          {
           "axis": {
            "matches": true
           },
           "label": "Passing Yards",
           "values": [
            4113,
            4438,
            3695
           ]
          },
          {
           "axis": {
            "matches": true
           },
           "label": "Attempts",
           "values": [
            584,
            587,
            542
           ]
          },
          {
           "axis": {
            "matches": true
           },
           "label": "Completions",
           "values": [
            387,
            382,
            350
           ]
          },
          {
           "axis": {
            "matches": true
           },
           "label": "Passing TDs",
           "values": [
            25,
            29,
            26
           ]
          },
          {
           "axis": {
            "matches": true
           },
           "label": "Interceptions",
           "values": [
            8,
            7,
            12
           ]
          }
         ],
         "hovertemplate": "<b>%{hovertext}</b><br><br>Cluster=6<br>%{xaxis.title.text}=%{x}<br>%{yaxis.title.text}=%{y}<extra></extra>",
         "hovertext": [
          "Trevor Lawrence",
          "Jared Goff",
          "Aaron Rodgers"
         ],
         "legendgroup": "6",
         "marker": {
          "color": "#ab63fa",
          "size": 6,
          "symbol": "circle"
         },
         "name": "6",
         "showlegend": true,
         "type": "splom"
        },
        {
         "diagonal": {
          "visible": false
         },
         "dimensions": [
          {
           "axis": {
            "matches": true
           },
           "label": "Passing Yards",
           "values": [
            4739,
            4694
           ]
          },
          {
           "axis": {
            "matches": true
           },
           "label": "Attempts",
           "values": [
            699,
            733
           ]
          },
          {
           "axis": {
            "matches": true
           },
           "label": "Completions",
           "values": [
            477,
            490
           ]
          },
          {
           "axis": {
            "matches": true
           },
           "label": "Passing TDs",
           "values": [
            25,
            25
           ]
          },
          {
           "axis": {
            "matches": true
           },
           "label": "Interceptions",
           "values": [
            10,
            9
           ]
          }
         ],
         "hovertemplate": "<b>%{hovertext}</b><br><br>Cluster=4<br>%{xaxis.title.text}=%{x}<br>%{yaxis.title.text}=%{y}<extra></extra>",
         "hovertext": [
          "Justin Herbert",
          "Tom Brady"
         ],
         "legendgroup": "4",
         "marker": {
          "color": "#FFA15A",
          "size": 6,
          "symbol": "circle"
         },
         "name": "4",
         "showlegend": true,
         "type": "splom"
        },
        {
         "diagonal": {
          "visible": false
         },
         "dimensions": [
          {
           "axis": {
            "matches": true
           },
           "label": "Passing Yards",
           "values": [
            2242,
            2608,
            2437,
            2536,
            1859
           ]
          },
          {
           "axis": {
            "matches": true
           },
           "label": "Attempts",
           "values": [
            326,
            369,
            308,
            325,
            259
           ]
          },
          {
           "axis": {
            "matches": true
           },
           "label": "Completions",
           "values": [
            203,
            236,
            207,
            212,
            161
           ]
          },
          {
           "axis": {
            "matches": true
           },
           "label": "Passing TDs",
           "values": [
            17,
            12,
            16,
            13,
            12
           ]
          },
          {
           "axis": {
            "matches": true
           },
           "label": "Interceptions",
           "values": [
            7,
            6,
            4,
            6,
            6
           ]
          }
         ],
         "hovertemplate": "<b>%{hovertext}</b><br><br>Cluster=5<br>%{xaxis.title.text}=%{x}<br>%{yaxis.title.text}=%{y}<extra></extra>",
         "hovertext": [
          "Lamar Jackson",
          "Jacoby Brissett",
          "Jimmy Garoppolo",
          "Ryan Tannehill",
          "Taylor Heinicke"
         ],
         "legendgroup": "5",
         "marker": {
          "color": "#19d3f3",
          "size": 6,
          "symbol": "circle"
         },
         "name": "5",
         "showlegend": true,
         "type": "splom"
        },
        {
         "diagonal": {
          "visible": false
         },
         "dimensions": [
          {
           "axis": {
            "matches": true
           },
           "label": "Passing Yards",
           "values": [
            3524,
            3522,
            2860,
            3118,
            2997,
            3057
           ]
          },
          {
           "axis": {
            "matches": true
           },
           "label": "Attempts",
           "values": [
            483,
            502,
            394,
            479,
            442,
            461
           ]
          },
          {
           "axis": {
            "matches": true
           },
           "label": "Completions",
           "values": [
            292,
            305,
            261,
            292,
            288,
            309
           ]
          },
          {
           "axis": {
            "matches": true
           },
           "label": "Passing TDs",
           "values": [
            16,
            24,
            23,
            17,
            14,
            14
           ]
          },
          {
           "axis": {
            "matches": true
           },
           "label": "Interceptions",
           "values": [
            11,
            14,
            15,
            15,
            11,
            13
           ]
          }
         ],
         "hovertemplate": "<b>%{hovertext}</b><br><br>Cluster=2<br>%{xaxis.title.text}=%{x}<br>%{yaxis.title.text}=%{y}<extra></extra>",
         "hovertext": [
          "Russell Wilson",
          "Derek Carr",
          "Dak Prescott",
          "Davis Mills",
          "Mac Jones",
          "Matt Ryan"
         ],
         "legendgroup": "2",
         "marker": {
          "color": "#FF6692",
          "size": 6,
          "symbol": "circle"
         },
         "name": "2",
         "showlegend": true,
         "type": "splom"
        }
       ],
       "layout": {
        "dragmode": "select",
        "font": {
         "color": "black",
         "family": "Courier New, monospace",
         "size": 10
        },
        "height": 1000,
        "legend": {
         "title": {
          "text": "Cluster"
         },
         "tracegroupgap": 0
        },
        "margin": {
         "t": 60
        },
        "paper_bgcolor": "rgba(0,0,0,0)",
        "plot_bgcolor": "rgba(245, 245, 245, 1)",
        "showlegend": true,
        "template": {
         "data": {
          "bar": [
           {
            "error_x": {
             "color": "#2a3f5f"
            },
            "error_y": {
             "color": "#2a3f5f"
            },
            "marker": {
             "line": {
              "color": "#E5ECF6",
              "width": 0.5
             },
             "pattern": {
              "fillmode": "overlay",
              "size": 10,
              "solidity": 0.2
             }
            },
            "type": "bar"
           }
          ],
          "barpolar": [
           {
            "marker": {
             "line": {
              "color": "#E5ECF6",
              "width": 0.5
             },
             "pattern": {
              "fillmode": "overlay",
              "size": 10,
              "solidity": 0.2
             }
            },
            "type": "barpolar"
           }
          ],
          "carpet": [
           {
            "aaxis": {
             "endlinecolor": "#2a3f5f",
             "gridcolor": "white",
             "linecolor": "white",
             "minorgridcolor": "white",
             "startlinecolor": "#2a3f5f"
            },
            "baxis": {
             "endlinecolor": "#2a3f5f",
             "gridcolor": "white",
             "linecolor": "white",
             "minorgridcolor": "white",
             "startlinecolor": "#2a3f5f"
            },
            "type": "carpet"
           }
          ],
          "choropleth": [
           {
            "colorbar": {
             "outlinewidth": 0,
             "ticks": ""
            },
            "type": "choropleth"
           }
          ],
          "contour": [
           {
            "colorbar": {
             "outlinewidth": 0,
             "ticks": ""
            },
            "colorscale": [
             [
              0,
              "#0d0887"
             ],
             [
              0.1111111111111111,
              "#46039f"
             ],
             [
              0.2222222222222222,
              "#7201a8"
             ],
             [
              0.3333333333333333,
              "#9c179e"
             ],
             [
              0.4444444444444444,
              "#bd3786"
             ],
             [
              0.5555555555555556,
              "#d8576b"
             ],
             [
              0.6666666666666666,
              "#ed7953"
             ],
             [
              0.7777777777777778,
              "#fb9f3a"
             ],
             [
              0.8888888888888888,
              "#fdca26"
             ],
             [
              1,
              "#f0f921"
             ]
            ],
            "type": "contour"
           }
          ],
          "contourcarpet": [
           {
            "colorbar": {
             "outlinewidth": 0,
             "ticks": ""
            },
            "type": "contourcarpet"
           }
          ],
          "heatmap": [
           {
            "colorbar": {
             "outlinewidth": 0,
             "ticks": ""
            },
            "colorscale": [
             [
              0,
              "#0d0887"
             ],
             [
              0.1111111111111111,
              "#46039f"
             ],
             [
              0.2222222222222222,
              "#7201a8"
             ],
             [
              0.3333333333333333,
              "#9c179e"
             ],
             [
              0.4444444444444444,
              "#bd3786"
             ],
             [
              0.5555555555555556,
              "#d8576b"
             ],
             [
              0.6666666666666666,
              "#ed7953"
             ],
             [
              0.7777777777777778,
              "#fb9f3a"
             ],
             [
              0.8888888888888888,
              "#fdca26"
             ],
             [
              1,
              "#f0f921"
             ]
            ],
            "type": "heatmap"
           }
          ],
          "heatmapgl": [
           {
            "colorbar": {
             "outlinewidth": 0,
             "ticks": ""
            },
            "colorscale": [
             [
              0,
              "#0d0887"
             ],
             [
              0.1111111111111111,
              "#46039f"
             ],
             [
              0.2222222222222222,
              "#7201a8"
             ],
             [
              0.3333333333333333,
              "#9c179e"
             ],
             [
              0.4444444444444444,
              "#bd3786"
             ],
             [
              0.5555555555555556,
              "#d8576b"
             ],
             [
              0.6666666666666666,
              "#ed7953"
             ],
             [
              0.7777777777777778,
              "#fb9f3a"
             ],
             [
              0.8888888888888888,
              "#fdca26"
             ],
             [
              1,
              "#f0f921"
             ]
            ],
            "type": "heatmapgl"
           }
          ],
          "histogram": [
           {
            "marker": {
             "pattern": {
              "fillmode": "overlay",
              "size": 10,
              "solidity": 0.2
             }
            },
            "type": "histogram"
           }
          ],
          "histogram2d": [
           {
            "colorbar": {
             "outlinewidth": 0,
             "ticks": ""
            },
            "colorscale": [
             [
              0,
              "#0d0887"
             ],
             [
              0.1111111111111111,
              "#46039f"
             ],
             [
              0.2222222222222222,
              "#7201a8"
             ],
             [
              0.3333333333333333,
              "#9c179e"
             ],
             [
              0.4444444444444444,
              "#bd3786"
             ],
             [
              0.5555555555555556,
              "#d8576b"
             ],
             [
              0.6666666666666666,
              "#ed7953"
             ],
             [
              0.7777777777777778,
              "#fb9f3a"
             ],
             [
              0.8888888888888888,
              "#fdca26"
             ],
             [
              1,
              "#f0f921"
             ]
            ],
            "type": "histogram2d"
           }
          ],
          "histogram2dcontour": [
           {
            "colorbar": {
             "outlinewidth": 0,
             "ticks": ""
            },
            "colorscale": [
             [
              0,
              "#0d0887"
             ],
             [
              0.1111111111111111,
              "#46039f"
             ],
             [
              0.2222222222222222,
              "#7201a8"
             ],
             [
              0.3333333333333333,
              "#9c179e"
             ],
             [
              0.4444444444444444,
              "#bd3786"
             ],
             [
              0.5555555555555556,
              "#d8576b"
             ],
             [
              0.6666666666666666,
              "#ed7953"
             ],
             [
              0.7777777777777778,
              "#fb9f3a"
             ],
             [
              0.8888888888888888,
              "#fdca26"
             ],
             [
              1,
              "#f0f921"
             ]
            ],
            "type": "histogram2dcontour"
           }
          ],
          "mesh3d": [
           {
            "colorbar": {
             "outlinewidth": 0,
             "ticks": ""
            },
            "type": "mesh3d"
           }
          ],
          "parcoords": [
           {
            "line": {
             "colorbar": {
              "outlinewidth": 0,
              "ticks": ""
             }
            },
            "type": "parcoords"
           }
          ],
          "pie": [
           {
            "automargin": true,
            "type": "pie"
           }
          ],
          "scatter": [
           {
            "fillpattern": {
             "fillmode": "overlay",
             "size": 10,
             "solidity": 0.2
            },
            "type": "scatter"
           }
          ],
          "scatter3d": [
           {
            "line": {
             "colorbar": {
              "outlinewidth": 0,
              "ticks": ""
             }
            },
            "marker": {
             "colorbar": {
              "outlinewidth": 0,
              "ticks": ""
             }
            },
            "type": "scatter3d"
           }
          ],
          "scattercarpet": [
           {
            "marker": {
             "colorbar": {
              "outlinewidth": 0,
              "ticks": ""
             }
            },
            "type": "scattercarpet"
           }
          ],
          "scattergeo": [
           {
            "marker": {
             "colorbar": {
              "outlinewidth": 0,
              "ticks": ""
             }
            },
            "type": "scattergeo"
           }
          ],
          "scattergl": [
           {
            "marker": {
             "colorbar": {
              "outlinewidth": 0,
              "ticks": ""
             }
            },
            "type": "scattergl"
           }
          ],
          "scattermapbox": [
           {
            "marker": {
             "colorbar": {
              "outlinewidth": 0,
              "ticks": ""
             }
            },
            "type": "scattermapbox"
           }
          ],
          "scatterpolar": [
           {
            "marker": {
             "colorbar": {
              "outlinewidth": 0,
              "ticks": ""
             }
            },
            "type": "scatterpolar"
           }
          ],
          "scatterpolargl": [
           {
            "marker": {
             "colorbar": {
              "outlinewidth": 0,
              "ticks": ""
             }
            },
            "type": "scatterpolargl"
           }
          ],
          "scatterternary": [
           {
            "marker": {
             "colorbar": {
              "outlinewidth": 0,
              "ticks": ""
             }
            },
            "type": "scatterternary"
           }
          ],
          "surface": [
           {
            "colorbar": {
             "outlinewidth": 0,
             "ticks": ""
            },
            "colorscale": [
             [
              0,
              "#0d0887"
             ],
             [
              0.1111111111111111,
              "#46039f"
             ],
             [
              0.2222222222222222,
              "#7201a8"
             ],
             [
              0.3333333333333333,
              "#9c179e"
             ],
             [
              0.4444444444444444,
              "#bd3786"
             ],
             [
              0.5555555555555556,
              "#d8576b"
             ],
             [
              0.6666666666666666,
              "#ed7953"
             ],
             [
              0.7777777777777778,
              "#fb9f3a"
             ],
             [
              0.8888888888888888,
              "#fdca26"
             ],
             [
              1,
              "#f0f921"
             ]
            ],
            "type": "surface"
           }
          ],
          "table": [
           {
            "cells": {
             "fill": {
              "color": "#EBF0F8"
             },
             "line": {
              "color": "white"
             }
            },
            "header": {
             "fill": {
              "color": "#C8D4E3"
             },
             "line": {
              "color": "white"
             }
            },
            "type": "table"
           }
          ]
         },
         "layout": {
          "annotationdefaults": {
           "arrowcolor": "#2a3f5f",
           "arrowhead": 0,
           "arrowwidth": 1
          },
          "autotypenumbers": "strict",
          "coloraxis": {
           "colorbar": {
            "outlinewidth": 0,
            "ticks": ""
           }
          },
          "colorscale": {
           "diverging": [
            [
             0,
             "#8e0152"
            ],
            [
             0.1,
             "#c51b7d"
            ],
            [
             0.2,
             "#de77ae"
            ],
            [
             0.3,
             "#f1b6da"
            ],
            [
             0.4,
             "#fde0ef"
            ],
            [
             0.5,
             "#f7f7f7"
            ],
            [
             0.6,
             "#e6f5d0"
            ],
            [
             0.7,
             "#b8e186"
            ],
            [
             0.8,
             "#7fbc41"
            ],
            [
             0.9,
             "#4d9221"
            ],
            [
             1,
             "#276419"
            ]
           ],
           "sequential": [
            [
             0,
             "#0d0887"
            ],
            [
             0.1111111111111111,
             "#46039f"
            ],
            [
             0.2222222222222222,
             "#7201a8"
            ],
            [
             0.3333333333333333,
             "#9c179e"
            ],
            [
             0.4444444444444444,
             "#bd3786"
            ],
            [
             0.5555555555555556,
             "#d8576b"
            ],
            [
             0.6666666666666666,
             "#ed7953"
            ],
            [
             0.7777777777777778,
             "#fb9f3a"
            ],
            [
             0.8888888888888888,
             "#fdca26"
            ],
            [
             1,
             "#f0f921"
            ]
           ],
           "sequentialminus": [
            [
             0,
             "#0d0887"
            ],
            [
             0.1111111111111111,
             "#46039f"
            ],
            [
             0.2222222222222222,
             "#7201a8"
            ],
            [
             0.3333333333333333,
             "#9c179e"
            ],
            [
             0.4444444444444444,
             "#bd3786"
            ],
            [
             0.5555555555555556,
             "#d8576b"
            ],
            [
             0.6666666666666666,
             "#ed7953"
            ],
            [
             0.7777777777777778,
             "#fb9f3a"
            ],
            [
             0.8888888888888888,
             "#fdca26"
            ],
            [
             1,
             "#f0f921"
            ]
           ]
          },
          "colorway": [
           "#636efa",
           "#EF553B",
           "#00cc96",
           "#ab63fa",
           "#FFA15A",
           "#19d3f3",
           "#FF6692",
           "#B6E880",
           "#FF97FF",
           "#FECB52"
          ],
          "font": {
           "color": "#2a3f5f"
          },
          "geo": {
           "bgcolor": "white",
           "lakecolor": "white",
           "landcolor": "#E5ECF6",
           "showlakes": true,
           "showland": true,
           "subunitcolor": "white"
          },
          "hoverlabel": {
           "align": "left"
          },
          "hovermode": "closest",
          "mapbox": {
           "style": "light"
          },
          "paper_bgcolor": "white",
          "plot_bgcolor": "#E5ECF6",
          "polar": {
           "angularaxis": {
            "gridcolor": "white",
            "linecolor": "white",
            "ticks": ""
           },
           "bgcolor": "#E5ECF6",
           "radialaxis": {
            "gridcolor": "white",
            "linecolor": "white",
            "ticks": ""
           }
          },
          "scene": {
           "xaxis": {
            "backgroundcolor": "#E5ECF6",
            "gridcolor": "white",
            "gridwidth": 2,
            "linecolor": "white",
            "showbackground": true,
            "ticks": "",
            "zerolinecolor": "white"
           },
           "yaxis": {
            "backgroundcolor": "#E5ECF6",
            "gridcolor": "white",
            "gridwidth": 2,
            "linecolor": "white",
            "showbackground": true,
            "ticks": "",
            "zerolinecolor": "white"
           },
           "zaxis": {
            "backgroundcolor": "#E5ECF6",
            "gridcolor": "white",
            "gridwidth": 2,
            "linecolor": "white",
            "showbackground": true,
            "ticks": "",
            "zerolinecolor": "white"
           }
          },
          "shapedefaults": {
           "line": {
            "color": "#2a3f5f"
           }
          },
          "ternary": {
           "aaxis": {
            "gridcolor": "white",
            "linecolor": "white",
            "ticks": ""
           },
           "baxis": {
            "gridcolor": "white",
            "linecolor": "white",
            "ticks": ""
           },
           "bgcolor": "#E5ECF6",
           "caxis": {
            "gridcolor": "white",
            "linecolor": "white",
            "ticks": ""
           }
          },
          "title": {
           "x": 0.05
          },
          "xaxis": {
           "automargin": true,
           "gridcolor": "white",
           "linecolor": "white",
           "ticks": "",
           "title": {
            "standoff": 15
           },
           "zerolinecolor": "white",
           "zerolinewidth": 2
          },
          "yaxis": {
           "automargin": true,
           "gridcolor": "white",
           "linecolor": "white",
           "ticks": "",
           "title": {
            "standoff": 15
           },
           "zerolinecolor": "white",
           "zerolinewidth": 2
          }
         }
        },
        "width": 1000,
        "xaxis": {
         "gridcolor": "rgba(200, 200, 200, 0.5)",
         "gridwidth": 0.5,
         "showgrid": true
        },
        "yaxis": {
         "gridcolor": "rgba(200, 200, 200, 0.5)",
         "gridwidth": 0.5,
         "showgrid": true
        }
       }
      },
      "text/html": [
       "<div>                            <div id=\"f1096e71-119a-4dbd-852e-a75eb70cb259\" class=\"plotly-graph-div\" style=\"height:1000px; width:1000px;\"></div>            <script type=\"text/javascript\">                require([\"plotly\"], function(Plotly) {                    window.PLOTLYENV=window.PLOTLYENV || {};                                    if (document.getElementById(\"f1096e71-119a-4dbd-852e-a75eb70cb259\")) {                    Plotly.newPlot(                        \"f1096e71-119a-4dbd-852e-a75eb70cb259\",                        [{\"dimensions\":[{\"axis\":{\"matches\":true},\"label\":\"Passing Yards\",\"values\":[5250.0,4283.0,4475.0,4282.0,4547.0]},{\"axis\":{\"matches\":true},\"label\":\"Attempts\",\"values\":[648.0,567.0,606.0,572.0,643.0]},{\"axis\":{\"matches\":true},\"label\":\"Completions\",\"values\":[435.0,359.0,414.0,399.0,424.0]},{\"axis\":{\"matches\":true},\"label\":\"Passing TDs\",\"values\":[41.0,35.0,35.0,30.0,29.0]},{\"axis\":{\"matches\":true},\"label\":\"Interceptions\",\"values\":[12.0,14.0,12.0,11.0,14.0]}],\"hovertemplate\":\"\\u003cb\\u003e%{hovertext}\\u003c\\u002fb\\u003e\\u003cbr\\u003e\\u003cbr\\u003eCluster=0\\u003cbr\\u003e%{xaxis.title.text}=%{x}\\u003cbr\\u003e%{yaxis.title.text}=%{y}\\u003cextra\\u003e\\u003c\\u002fextra\\u003e\",\"hovertext\":[\"Patrick Mahomes\",\"Josh Allen\",\"Joe Burrow\",\"Geno Smith\",\"Kirk Cousins\"],\"legendgroup\":\"0\",\"marker\":{\"color\":\"#636efa\",\"symbol\":\"circle\",\"size\":6},\"name\":\"0\",\"showlegend\":true,\"type\":\"splom\",\"diagonal\":{\"visible\":false}},{\"dimensions\":[{\"axis\":{\"matches\":true},\"label\":\"Passing Yards\",\"values\":[3701.0,3205.0,3548.0,2871.0]},{\"axis\":{\"matches\":true},\"label\":\"Attempts\",\"values\":[460.0,472.0,400.0,378.0]},{\"axis\":{\"matches\":true},\"label\":\"Completions\",\"values\":[306.0,317.0,259.0,252.0]},{\"axis\":{\"matches\":true},\"label\":\"Passing TDs\",\"values\":[22.0,15.0,25.0,18.0]},{\"axis\":{\"matches\":true},\"label\":\"Interceptions\",\"values\":[6.0,5.0,8.0,9.0]}],\"hovertemplate\":\"\\u003cb\\u003e%{hovertext}\\u003c\\u002fb\\u003e\\u003cbr\\u003e\\u003cbr\\u003eCluster=3\\u003cbr\\u003e%{xaxis.title.text}=%{x}\\u003cbr\\u003e%{yaxis.title.text}=%{y}\\u003cextra\\u003e\\u003c\\u002fextra\\u003e\",\"hovertext\":[\"Jalen Hurts\",\"Daniel Jones\",\"Tua Tagovailoa\",\"Andy Dalton\"],\"legendgroup\":\"3\",\"marker\":{\"color\":\"#EF553B\",\"symbol\":\"circle\",\"size\":6},\"name\":\"3\",\"showlegend\":true,\"type\":\"splom\",\"diagonal\":{\"visible\":false}},{\"dimensions\":[{\"axis\":{\"matches\":true},\"label\":\"Passing Yards\",\"values\":[2242.0,2368.0,2219.0,2404.0,2163.0]},{\"axis\":{\"matches\":true},\"label\":\"Attempts\",\"values\":[318.0,390.0,300.0,389.0,335.0]},{\"axis\":{\"matches\":true},\"label\":\"Completions\",\"values\":[192.0,259.0,184.0,245.0,201.0]},{\"axis\":{\"matches\":true},\"label\":\"Passing TDs\",\"values\":[17.0,14.0,15.0,7.0,10.0]},{\"axis\":{\"matches\":true},\"label\":\"Interceptions\",\"values\":[11.0,7.0,9.0,9.0,8.0]}],\"hovertemplate\":\"\\u003cb\\u003e%{hovertext}\\u003c\\u002fb\\u003e\\u003cbr\\u003e\\u003cbr\\u003eCluster=1\\u003cbr\\u003e%{xaxis.title.text}=%{x}\\u003cbr\\u003e%{yaxis.title.text}=%{y}\\u003cextra\\u003e\\u003c\\u002fextra\\u003e\",\"hovertext\":[\"Justin Fields\",\"Kyler Murray\",\"Marcus Mariota\",\"Kenny Pickett\",\"Baker Mayfield\"],\"legendgroup\":\"1\",\"marker\":{\"color\":\"#00cc96\",\"symbol\":\"circle\",\"size\":6},\"name\":\"1\",\"showlegend\":true,\"type\":\"splom\",\"diagonal\":{\"visible\":false}},{\"dimensions\":[{\"axis\":{\"matches\":true},\"label\":\"Passing Yards\",\"values\":[4113.0,4438.0,3695.0]},{\"axis\":{\"matches\":true},\"label\":\"Attempts\",\"values\":[584.0,587.0,542.0]},{\"axis\":{\"matches\":true},\"label\":\"Completions\",\"values\":[387.0,382.0,350.0]},{\"axis\":{\"matches\":true},\"label\":\"Passing TDs\",\"values\":[25.0,29.0,26.0]},{\"axis\":{\"matches\":true},\"label\":\"Interceptions\",\"values\":[8.0,7.0,12.0]}],\"hovertemplate\":\"\\u003cb\\u003e%{hovertext}\\u003c\\u002fb\\u003e\\u003cbr\\u003e\\u003cbr\\u003eCluster=6\\u003cbr\\u003e%{xaxis.title.text}=%{x}\\u003cbr\\u003e%{yaxis.title.text}=%{y}\\u003cextra\\u003e\\u003c\\u002fextra\\u003e\",\"hovertext\":[\"Trevor Lawrence\",\"Jared Goff\",\"Aaron Rodgers\"],\"legendgroup\":\"6\",\"marker\":{\"color\":\"#ab63fa\",\"symbol\":\"circle\",\"size\":6},\"name\":\"6\",\"showlegend\":true,\"type\":\"splom\",\"diagonal\":{\"visible\":false}},{\"dimensions\":[{\"axis\":{\"matches\":true},\"label\":\"Passing Yards\",\"values\":[4739.0,4694.0]},{\"axis\":{\"matches\":true},\"label\":\"Attempts\",\"values\":[699.0,733.0]},{\"axis\":{\"matches\":true},\"label\":\"Completions\",\"values\":[477.0,490.0]},{\"axis\":{\"matches\":true},\"label\":\"Passing TDs\",\"values\":[25.0,25.0]},{\"axis\":{\"matches\":true},\"label\":\"Interceptions\",\"values\":[10.0,9.0]}],\"hovertemplate\":\"\\u003cb\\u003e%{hovertext}\\u003c\\u002fb\\u003e\\u003cbr\\u003e\\u003cbr\\u003eCluster=4\\u003cbr\\u003e%{xaxis.title.text}=%{x}\\u003cbr\\u003e%{yaxis.title.text}=%{y}\\u003cextra\\u003e\\u003c\\u002fextra\\u003e\",\"hovertext\":[\"Justin Herbert\",\"Tom Brady\"],\"legendgroup\":\"4\",\"marker\":{\"color\":\"#FFA15A\",\"symbol\":\"circle\",\"size\":6},\"name\":\"4\",\"showlegend\":true,\"type\":\"splom\",\"diagonal\":{\"visible\":false}},{\"dimensions\":[{\"axis\":{\"matches\":true},\"label\":\"Passing Yards\",\"values\":[2242.0,2608.0,2437.0,2536.0,1859.0]},{\"axis\":{\"matches\":true},\"label\":\"Attempts\",\"values\":[326.0,369.0,308.0,325.0,259.0]},{\"axis\":{\"matches\":true},\"label\":\"Completions\",\"values\":[203.0,236.0,207.0,212.0,161.0]},{\"axis\":{\"matches\":true},\"label\":\"Passing TDs\",\"values\":[17.0,12.0,16.0,13.0,12.0]},{\"axis\":{\"matches\":true},\"label\":\"Interceptions\",\"values\":[7.0,6.0,4.0,6.0,6.0]}],\"hovertemplate\":\"\\u003cb\\u003e%{hovertext}\\u003c\\u002fb\\u003e\\u003cbr\\u003e\\u003cbr\\u003eCluster=5\\u003cbr\\u003e%{xaxis.title.text}=%{x}\\u003cbr\\u003e%{yaxis.title.text}=%{y}\\u003cextra\\u003e\\u003c\\u002fextra\\u003e\",\"hovertext\":[\"Lamar Jackson\",\"Jacoby Brissett\",\"Jimmy Garoppolo\",\"Ryan Tannehill\",\"Taylor Heinicke\"],\"legendgroup\":\"5\",\"marker\":{\"color\":\"#19d3f3\",\"symbol\":\"circle\",\"size\":6},\"name\":\"5\",\"showlegend\":true,\"type\":\"splom\",\"diagonal\":{\"visible\":false}},{\"dimensions\":[{\"axis\":{\"matches\":true},\"label\":\"Passing Yards\",\"values\":[3524.0,3522.0,2860.0,3118.0,2997.0,3057.0]},{\"axis\":{\"matches\":true},\"label\":\"Attempts\",\"values\":[483.0,502.0,394.0,479.0,442.0,461.0]},{\"axis\":{\"matches\":true},\"label\":\"Completions\",\"values\":[292.0,305.0,261.0,292.0,288.0,309.0]},{\"axis\":{\"matches\":true},\"label\":\"Passing TDs\",\"values\":[16.0,24.0,23.0,17.0,14.0,14.0]},{\"axis\":{\"matches\":true},\"label\":\"Interceptions\",\"values\":[11.0,14.0,15.0,15.0,11.0,13.0]}],\"hovertemplate\":\"\\u003cb\\u003e%{hovertext}\\u003c\\u002fb\\u003e\\u003cbr\\u003e\\u003cbr\\u003eCluster=2\\u003cbr\\u003e%{xaxis.title.text}=%{x}\\u003cbr\\u003e%{yaxis.title.text}=%{y}\\u003cextra\\u003e\\u003c\\u002fextra\\u003e\",\"hovertext\":[\"Russell Wilson\",\"Derek Carr\",\"Dak Prescott\",\"Davis Mills\",\"Mac Jones\",\"Matt Ryan\"],\"legendgroup\":\"2\",\"marker\":{\"color\":\"#FF6692\",\"symbol\":\"circle\",\"size\":6},\"name\":\"2\",\"showlegend\":true,\"type\":\"splom\",\"diagonal\":{\"visible\":false}}],                        {\"template\":{\"data\":{\"histogram2dcontour\":[{\"type\":\"histogram2dcontour\",\"colorbar\":{\"outlinewidth\":0,\"ticks\":\"\"},\"colorscale\":[[0.0,\"#0d0887\"],[0.1111111111111111,\"#46039f\"],[0.2222222222222222,\"#7201a8\"],[0.3333333333333333,\"#9c179e\"],[0.4444444444444444,\"#bd3786\"],[0.5555555555555556,\"#d8576b\"],[0.6666666666666666,\"#ed7953\"],[0.7777777777777778,\"#fb9f3a\"],[0.8888888888888888,\"#fdca26\"],[1.0,\"#f0f921\"]]}],\"choropleth\":[{\"type\":\"choropleth\",\"colorbar\":{\"outlinewidth\":0,\"ticks\":\"\"}}],\"histogram2d\":[{\"type\":\"histogram2d\",\"colorbar\":{\"outlinewidth\":0,\"ticks\":\"\"},\"colorscale\":[[0.0,\"#0d0887\"],[0.1111111111111111,\"#46039f\"],[0.2222222222222222,\"#7201a8\"],[0.3333333333333333,\"#9c179e\"],[0.4444444444444444,\"#bd3786\"],[0.5555555555555556,\"#d8576b\"],[0.6666666666666666,\"#ed7953\"],[0.7777777777777778,\"#fb9f3a\"],[0.8888888888888888,\"#fdca26\"],[1.0,\"#f0f921\"]]}],\"heatmap\":[{\"type\":\"heatmap\",\"colorbar\":{\"outlinewidth\":0,\"ticks\":\"\"},\"colorscale\":[[0.0,\"#0d0887\"],[0.1111111111111111,\"#46039f\"],[0.2222222222222222,\"#7201a8\"],[0.3333333333333333,\"#9c179e\"],[0.4444444444444444,\"#bd3786\"],[0.5555555555555556,\"#d8576b\"],[0.6666666666666666,\"#ed7953\"],[0.7777777777777778,\"#fb9f3a\"],[0.8888888888888888,\"#fdca26\"],[1.0,\"#f0f921\"]]}],\"heatmapgl\":[{\"type\":\"heatmapgl\",\"colorbar\":{\"outlinewidth\":0,\"ticks\":\"\"},\"colorscale\":[[0.0,\"#0d0887\"],[0.1111111111111111,\"#46039f\"],[0.2222222222222222,\"#7201a8\"],[0.3333333333333333,\"#9c179e\"],[0.4444444444444444,\"#bd3786\"],[0.5555555555555556,\"#d8576b\"],[0.6666666666666666,\"#ed7953\"],[0.7777777777777778,\"#fb9f3a\"],[0.8888888888888888,\"#fdca26\"],[1.0,\"#f0f921\"]]}],\"contourcarpet\":[{\"type\":\"contourcarpet\",\"colorbar\":{\"outlinewidth\":0,\"ticks\":\"\"}}],\"contour\":[{\"type\":\"contour\",\"colorbar\":{\"outlinewidth\":0,\"ticks\":\"\"},\"colorscale\":[[0.0,\"#0d0887\"],[0.1111111111111111,\"#46039f\"],[0.2222222222222222,\"#7201a8\"],[0.3333333333333333,\"#9c179e\"],[0.4444444444444444,\"#bd3786\"],[0.5555555555555556,\"#d8576b\"],[0.6666666666666666,\"#ed7953\"],[0.7777777777777778,\"#fb9f3a\"],[0.8888888888888888,\"#fdca26\"],[1.0,\"#f0f921\"]]}],\"surface\":[{\"type\":\"surface\",\"colorbar\":{\"outlinewidth\":0,\"ticks\":\"\"},\"colorscale\":[[0.0,\"#0d0887\"],[0.1111111111111111,\"#46039f\"],[0.2222222222222222,\"#7201a8\"],[0.3333333333333333,\"#9c179e\"],[0.4444444444444444,\"#bd3786\"],[0.5555555555555556,\"#d8576b\"],[0.6666666666666666,\"#ed7953\"],[0.7777777777777778,\"#fb9f3a\"],[0.8888888888888888,\"#fdca26\"],[1.0,\"#f0f921\"]]}],\"mesh3d\":[{\"type\":\"mesh3d\",\"colorbar\":{\"outlinewidth\":0,\"ticks\":\"\"}}],\"scatter\":[{\"fillpattern\":{\"fillmode\":\"overlay\",\"size\":10,\"solidity\":0.2},\"type\":\"scatter\"}],\"parcoords\":[{\"type\":\"parcoords\",\"line\":{\"colorbar\":{\"outlinewidth\":0,\"ticks\":\"\"}}}],\"scatterpolargl\":[{\"type\":\"scatterpolargl\",\"marker\":{\"colorbar\":{\"outlinewidth\":0,\"ticks\":\"\"}}}],\"bar\":[{\"error_x\":{\"color\":\"#2a3f5f\"},\"error_y\":{\"color\":\"#2a3f5f\"},\"marker\":{\"line\":{\"color\":\"#E5ECF6\",\"width\":0.5},\"pattern\":{\"fillmode\":\"overlay\",\"size\":10,\"solidity\":0.2}},\"type\":\"bar\"}],\"scattergeo\":[{\"type\":\"scattergeo\",\"marker\":{\"colorbar\":{\"outlinewidth\":0,\"ticks\":\"\"}}}],\"scatterpolar\":[{\"type\":\"scatterpolar\",\"marker\":{\"colorbar\":{\"outlinewidth\":0,\"ticks\":\"\"}}}],\"histogram\":[{\"marker\":{\"pattern\":{\"fillmode\":\"overlay\",\"size\":10,\"solidity\":0.2}},\"type\":\"histogram\"}],\"scattergl\":[{\"type\":\"scattergl\",\"marker\":{\"colorbar\":{\"outlinewidth\":0,\"ticks\":\"\"}}}],\"scatter3d\":[{\"type\":\"scatter3d\",\"line\":{\"colorbar\":{\"outlinewidth\":0,\"ticks\":\"\"}},\"marker\":{\"colorbar\":{\"outlinewidth\":0,\"ticks\":\"\"}}}],\"scattermapbox\":[{\"type\":\"scattermapbox\",\"marker\":{\"colorbar\":{\"outlinewidth\":0,\"ticks\":\"\"}}}],\"scatterternary\":[{\"type\":\"scatterternary\",\"marker\":{\"colorbar\":{\"outlinewidth\":0,\"ticks\":\"\"}}}],\"scattercarpet\":[{\"type\":\"scattercarpet\",\"marker\":{\"colorbar\":{\"outlinewidth\":0,\"ticks\":\"\"}}}],\"carpet\":[{\"aaxis\":{\"endlinecolor\":\"#2a3f5f\",\"gridcolor\":\"white\",\"linecolor\":\"white\",\"minorgridcolor\":\"white\",\"startlinecolor\":\"#2a3f5f\"},\"baxis\":{\"endlinecolor\":\"#2a3f5f\",\"gridcolor\":\"white\",\"linecolor\":\"white\",\"minorgridcolor\":\"white\",\"startlinecolor\":\"#2a3f5f\"},\"type\":\"carpet\"}],\"table\":[{\"cells\":{\"fill\":{\"color\":\"#EBF0F8\"},\"line\":{\"color\":\"white\"}},\"header\":{\"fill\":{\"color\":\"#C8D4E3\"},\"line\":{\"color\":\"white\"}},\"type\":\"table\"}],\"barpolar\":[{\"marker\":{\"line\":{\"color\":\"#E5ECF6\",\"width\":0.5},\"pattern\":{\"fillmode\":\"overlay\",\"size\":10,\"solidity\":0.2}},\"type\":\"barpolar\"}],\"pie\":[{\"automargin\":true,\"type\":\"pie\"}]},\"layout\":{\"autotypenumbers\":\"strict\",\"colorway\":[\"#636efa\",\"#EF553B\",\"#00cc96\",\"#ab63fa\",\"#FFA15A\",\"#19d3f3\",\"#FF6692\",\"#B6E880\",\"#FF97FF\",\"#FECB52\"],\"font\":{\"color\":\"#2a3f5f\"},\"hovermode\":\"closest\",\"hoverlabel\":{\"align\":\"left\"},\"paper_bgcolor\":\"white\",\"plot_bgcolor\":\"#E5ECF6\",\"polar\":{\"bgcolor\":\"#E5ECF6\",\"angularaxis\":{\"gridcolor\":\"white\",\"linecolor\":\"white\",\"ticks\":\"\"},\"radialaxis\":{\"gridcolor\":\"white\",\"linecolor\":\"white\",\"ticks\":\"\"}},\"ternary\":{\"bgcolor\":\"#E5ECF6\",\"aaxis\":{\"gridcolor\":\"white\",\"linecolor\":\"white\",\"ticks\":\"\"},\"baxis\":{\"gridcolor\":\"white\",\"linecolor\":\"white\",\"ticks\":\"\"},\"caxis\":{\"gridcolor\":\"white\",\"linecolor\":\"white\",\"ticks\":\"\"}},\"coloraxis\":{\"colorbar\":{\"outlinewidth\":0,\"ticks\":\"\"}},\"colorscale\":{\"sequential\":[[0.0,\"#0d0887\"],[0.1111111111111111,\"#46039f\"],[0.2222222222222222,\"#7201a8\"],[0.3333333333333333,\"#9c179e\"],[0.4444444444444444,\"#bd3786\"],[0.5555555555555556,\"#d8576b\"],[0.6666666666666666,\"#ed7953\"],[0.7777777777777778,\"#fb9f3a\"],[0.8888888888888888,\"#fdca26\"],[1.0,\"#f0f921\"]],\"sequentialminus\":[[0.0,\"#0d0887\"],[0.1111111111111111,\"#46039f\"],[0.2222222222222222,\"#7201a8\"],[0.3333333333333333,\"#9c179e\"],[0.4444444444444444,\"#bd3786\"],[0.5555555555555556,\"#d8576b\"],[0.6666666666666666,\"#ed7953\"],[0.7777777777777778,\"#fb9f3a\"],[0.8888888888888888,\"#fdca26\"],[1.0,\"#f0f921\"]],\"diverging\":[[0,\"#8e0152\"],[0.1,\"#c51b7d\"],[0.2,\"#de77ae\"],[0.3,\"#f1b6da\"],[0.4,\"#fde0ef\"],[0.5,\"#f7f7f7\"],[0.6,\"#e6f5d0\"],[0.7,\"#b8e186\"],[0.8,\"#7fbc41\"],[0.9,\"#4d9221\"],[1,\"#276419\"]]},\"xaxis\":{\"gridcolor\":\"white\",\"linecolor\":\"white\",\"ticks\":\"\",\"title\":{\"standoff\":15},\"zerolinecolor\":\"white\",\"automargin\":true,\"zerolinewidth\":2},\"yaxis\":{\"gridcolor\":\"white\",\"linecolor\":\"white\",\"ticks\":\"\",\"title\":{\"standoff\":15},\"zerolinecolor\":\"white\",\"automargin\":true,\"zerolinewidth\":2},\"scene\":{\"xaxis\":{\"backgroundcolor\":\"#E5ECF6\",\"gridcolor\":\"white\",\"linecolor\":\"white\",\"showbackground\":true,\"ticks\":\"\",\"zerolinecolor\":\"white\",\"gridwidth\":2},\"yaxis\":{\"backgroundcolor\":\"#E5ECF6\",\"gridcolor\":\"white\",\"linecolor\":\"white\",\"showbackground\":true,\"ticks\":\"\",\"zerolinecolor\":\"white\",\"gridwidth\":2},\"zaxis\":{\"backgroundcolor\":\"#E5ECF6\",\"gridcolor\":\"white\",\"linecolor\":\"white\",\"showbackground\":true,\"ticks\":\"\",\"zerolinecolor\":\"white\",\"gridwidth\":2}},\"shapedefaults\":{\"line\":{\"color\":\"#2a3f5f\"}},\"annotationdefaults\":{\"arrowcolor\":\"#2a3f5f\",\"arrowhead\":0,\"arrowwidth\":1},\"geo\":{\"bgcolor\":\"white\",\"landcolor\":\"#E5ECF6\",\"subunitcolor\":\"white\",\"showland\":true,\"showlakes\":true,\"lakecolor\":\"white\"},\"title\":{\"x\":0.05},\"mapbox\":{\"style\":\"light\"}}},\"legend\":{\"title\":{\"text\":\"Cluster\"},\"tracegroupgap\":0},\"margin\":{\"t\":60},\"dragmode\":\"select\",\"font\":{\"family\":\"Courier New, monospace\",\"size\":10,\"color\":\"black\"},\"paper_bgcolor\":\"rgba(0,0,0,0)\",\"plot_bgcolor\":\"rgba(245, 245, 245, 1)\",\"showlegend\":true,\"xaxis\":{\"showgrid\":true,\"gridwidth\":0.5,\"gridcolor\":\"rgba(200, 200, 200, 0.5)\"},\"yaxis\":{\"showgrid\":true,\"gridwidth\":0.5,\"gridcolor\":\"rgba(200, 200, 200, 0.5)\"},\"width\":1000,\"height\":1000},                        {\"responsive\": true}                    ).then(function(){\n",
       "                            \n",
       "var gd = document.getElementById('f1096e71-119a-4dbd-852e-a75eb70cb259');\n",
       "var x = new MutationObserver(function (mutations, observer) {{\n",
       "        var display = window.getComputedStyle(gd).display;\n",
       "        if (!display || display === 'none') {{\n",
       "            console.log([gd, 'removed!']);\n",
       "            Plotly.purge(gd);\n",
       "            observer.disconnect();\n",
       "        }}\n",
       "}});\n",
       "\n",
       "// Listen for the removal of the full notebook cells\n",
       "var notebookContainer = gd.closest('#notebook-container');\n",
       "if (notebookContainer) {{\n",
       "    x.observe(notebookContainer, {childList: true});\n",
       "}}\n",
       "\n",
       "// Listen for the clearing of the current output cell\n",
       "var outputEl = gd.closest('.output');\n",
       "if (outputEl) {{\n",
       "    x.observe(outputEl, {childList: true});\n",
       "}}\n",
       "\n",
       "                        })                };                });            </script>        </div>"
      ]
     },
     "metadata": {},
     "output_type": "display_data"
    }
   ],
   "source": [
    "graph_pair_plot_plotly(df=df_7, cluster_rankings=cluster_ranking_7,\n",
    "                       position=position, stats=stats, \n",
    "                       save_suffix=suffix, font_size=font_size, marker_size=marker_size,\n",
    "                       height=dim, width=dim\n",
    "                      )"
   ]
  },
  {
   "cell_type": "code",
   "execution_count": 49,
   "id": "9429dca3",
   "metadata": {},
   "outputs": [
    {
     "name": "stdout",
     "output_type": "stream",
     "text": [
      "<div style='display: flex; justify-content: space-evenly;''>\n",
      "\t<div>\n",
      "\t\t<b>Cluster 0 ()</b>\n",
      "\t\t<ul class='bullet-list'>\n",
      "\t\t\t<li>Patrick Mahomes</li>\n",
      "\t\t\t<li>Josh Allen</li>\n",
      "\t\t\t<li>Joe Burrow</li>\n",
      "\t\t\t<li>Geno Smith</li>\n",
      "\t\t\t<li>Kirk Cousins</li>\n",
      "\t\t</ul>\n",
      "\t</div>\n",
      "\n",
      "\t<div>\n",
      "\t\t<b>Cluster 1 ()</b>\n",
      "\t\t<ul class='bullet-list'>\n",
      "\t\t\t<li>Justin Fields</li>\n",
      "\t\t\t<li>Kyler Murray</li>\n",
      "\t\t\t<li>Marcus Mariota</li>\n",
      "\t\t\t<li>Kenny Pickett</li>\n",
      "\t\t\t<li>Baker Mayfield</li>\n",
      "\t\t</ul>\n",
      "\t</div>\n",
      "\n",
      "\t<div>\n",
      "\t\t<b>Cluster 2 ()</b>\n",
      "\t\t<ul class='bullet-list'>\n",
      "\t\t\t<li>Russell Wilson</li>\n",
      "\t\t\t<li>Derek Carr</li>\n",
      "\t\t\t<li>Dak Prescott</li>\n",
      "\t\t\t<li>Davis Mills</li>\n",
      "\t\t\t<li>Mac Jones</li>\n",
      "\t\t\t<li>Matt Ryan</li>\n",
      "\t\t</ul>\n",
      "\t</div>\n",
      "\n",
      "\t<div>\n",
      "\t\t<b>Cluster 3 ()</b>\n",
      "\t\t<ul class='bullet-list'>\n",
      "\t\t\t<li>Jalen Hurts</li>\n",
      "\t\t\t<li>Daniel Jones</li>\n",
      "\t\t\t<li>Tua Tagovailoa</li>\n",
      "\t\t\t<li>Andy Dalton</li>\n",
      "\t\t</ul>\n",
      "\t</div>\n",
      "\n",
      "\t<div>\n",
      "\t\t<b>Cluster 4 ()</b>\n",
      "\t\t<ul class='bullet-list'>\n",
      "\t\t\t<li>Justin Herbert</li>\n",
      "\t\t\t<li>Tom Brady</li>\n",
      "\t\t</ul>\n",
      "\t</div>\n",
      "\n",
      "\t<div>\n",
      "\t\t<b>Cluster 5 ()</b>\n",
      "\t\t<ul class='bullet-list'>\n",
      "\t\t\t<li>Lamar Jackson</li>\n",
      "\t\t\t<li>Jacoby Brissett</li>\n",
      "\t\t\t<li>Jimmy Garoppolo</li>\n",
      "\t\t\t<li>Ryan Tannehill</li>\n",
      "\t\t\t<li>Taylor Heinicke</li>\n",
      "\t\t</ul>\n",
      "\t</div>\n",
      "\n",
      "\t<div>\n",
      "\t\t<b>Cluster 6 ()</b>\n",
      "\t\t<ul class='bullet-list'>\n",
      "\t\t\t<li>Trevor Lawrence</li>\n",
      "\t\t\t<li>Jared Goff</li>\n",
      "\t\t\t<li>Aaron Rodgers</li>\n",
      "\t\t</ul>\n",
      "\t</div>\n",
      "</div>\n",
      "<p class='blog-p-tag'>\n",
      "\tTODO:\n",
      "\t<ul class='bullet-list'>\n",
      "\t\t<li><b>Cluster 0:</b> TODO</li>\n",
      "\t\t<li><b>Cluster 1:</b> TODO</li>\n",
      "\t\t<li><b>Cluster 2:</b> TODO</li>\n",
      "\t\t<li><b>Cluster 3:</b> TODO</li>\n",
      "\t\t<li><b>Cluster 4:</b> TODO</li>\n",
      "\t\t<li><b>Cluster 5:</b> TODO</li>\n",
      "\t\t<li><b>Cluster 6:</b> TODO</li>\n",
      "\t</ul>\n",
      "</p>\n",
      "<p class=\"blog-p-tag\">\n",
      "    TODO\n",
      "</p>\n",
      "    \n"
     ]
    }
   ],
   "source": [
    "create_cluster_html_tiers(df_7)"
   ]
  },
  {
   "cell_type": "code",
   "execution_count": null,
   "id": "5bbf6310",
   "metadata": {},
   "outputs": [],
   "source": []
  }
 ],
 "metadata": {
  "kernelspec": {
   "display_name": "plotly",
   "language": "python",
   "name": "plotly"
  },
  "language_info": {
   "codemirror_mode": {
    "name": "ipython",
    "version": 3
   },
   "file_extension": ".py",
   "mimetype": "text/x-python",
   "name": "python",
   "nbconvert_exporter": "python",
   "pygments_lexer": "ipython3",
   "version": "3.9.7"
  }
 },
 "nbformat": 4,
 "nbformat_minor": 5
}
