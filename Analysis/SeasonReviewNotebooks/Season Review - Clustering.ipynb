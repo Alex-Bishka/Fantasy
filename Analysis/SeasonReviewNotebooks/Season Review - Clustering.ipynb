{
 "cells": [
  {
   "cell_type": "markdown",
   "id": "e6197c23",
   "metadata": {},
   "source": [
    "# Imports"
   ]
  },
  {
   "cell_type": "code",
   "execution_count": 26,
   "id": "67d4bd9b",
   "metadata": {},
   "outputs": [],
   "source": [
    "from sklearn.cluster import KMeans\n",
    "from sklearn.preprocessing import StandardScaler\n",
    "import numpy as np\n",
    "import pandas as pd\n",
    "import matplotlib.pyplot as plt\n",
    "import plotly.express as px"
   ]
  },
  {
   "cell_type": "markdown",
   "id": "288db199",
   "metadata": {},
   "source": [
    "# Grabbing Data"
   ]
  },
  {
   "cell_type": "code",
   "execution_count": 27,
   "id": "bb18c690",
   "metadata": {},
   "outputs": [],
   "source": [
    "df_all = pd.read_pickle(\"../interactive/df_all_2005_2023.pkl\")"
   ]
  },
  {
   "cell_type": "code",
   "execution_count": 28,
   "id": "9c19aec4",
   "metadata": {},
   "outputs": [],
   "source": [
    "season = 2023\n",
    "position = 'QB'"
   ]
  },
  {
   "cell_type": "code",
   "execution_count": 29,
   "id": "aa134399",
   "metadata": {},
   "outputs": [],
   "source": [
    "df_review = df_all.query(f\"season == {season} and position == '{position}' and games >= 5\").copy()"
   ]
  },
  {
   "cell_type": "markdown",
   "id": "2a69c28c",
   "metadata": {},
   "source": [
    "### Verifying Data"
   ]
  },
  {
   "cell_type": "code",
   "execution_count": 30,
   "id": "35ed7bb7",
   "metadata": {},
   "outputs": [],
   "source": [
    "assert(df_review[\"position\"].unique()[0] == position)\n",
    "assert(df_review[\"season\"].unique()[0] == season)\n",
    "assert(df_review[\"games\"].max() == 17)"
   ]
  },
  {
   "cell_type": "markdown",
   "id": "3bb45008",
   "metadata": {},
   "source": [
    "# Clustering"
   ]
  },
  {
   "cell_type": "markdown",
   "id": "12577275",
   "metadata": {},
   "source": [
    "## Selecting Stats for Clusters"
   ]
  },
  {
   "cell_type": "code",
   "execution_count": 31,
   "id": "82eda3d8",
   "metadata": {},
   "outputs": [],
   "source": [
    "qb_cols = ['completions', 'attempts',\n",
    "       'passing_yards', 'passing_tds', 'interceptions', 'sacks', 'sack_yards',\n",
    "       'sack_fumbles', 'sack_fumbles_lost', 'passing_air_yards',\n",
    "       'passing_yards_after_catch', 'passing_first_downs', 'passing_epa',\n",
    "       'passing_2pt_conversions', 'pacr', 'dakota']"
   ]
  },
  {
   "cell_type": "code",
   "execution_count": 32,
   "id": "9ab11bbd",
   "metadata": {},
   "outputs": [],
   "source": [
    "# subset_cols = ['completions', 'attempts',\n",
    "#        'passing_yards', 'passing_tds', 'interceptions']"
   ]
  },
  {
   "cell_type": "code",
   "execution_count": 33,
   "id": "f2914eb7",
   "metadata": {},
   "outputs": [],
   "source": [
    "subset_cols = ['passing_yards', 'passing_tds', 'rushing_tds', 'rushing_yards', 'fantasy_points']"
   ]
  },
  {
   "cell_type": "markdown",
   "id": "f082925c",
   "metadata": {},
   "source": [
    "### Per Game Option"
   ]
  },
  {
   "cell_type": "code",
   "execution_count": 34,
   "id": "e201db25",
   "metadata": {},
   "outputs": [],
   "source": [
    "per_game = True"
   ]
  },
  {
   "cell_type": "code",
   "execution_count": 35,
   "id": "8686e7fe",
   "metadata": {},
   "outputs": [],
   "source": [
    "if per_game:\n",
    "    for col in subset_cols:\n",
    "        df_review[f\"{col}_per_game\"] = df_review[col]/ df_review[\"games\"]\n",
    "    \n",
    "    subset_cols = [f\"{col}_per_game\" for col in subset_cols]"
   ]
  },
  {
   "cell_type": "code",
   "execution_count": 36,
   "id": "f7db12ec",
   "metadata": {},
   "outputs": [],
   "source": [
    "subset_df = df_review[subset_cols].copy()"
   ]
  },
  {
   "cell_type": "code",
   "execution_count": 37,
   "id": "80d7b06b",
   "metadata": {},
   "outputs": [],
   "source": [
    "subset_df = subset_df.sort_values(by=\"fantasy_points_per_game\")[-30:]"
   ]
  },
  {
   "cell_type": "code",
   "execution_count": 38,
   "id": "dc045aa8",
   "metadata": {},
   "outputs": [
    {
     "data": {
      "text/html": [
       "<div>\n",
       "<style scoped>\n",
       "    .dataframe tbody tr th:only-of-type {\n",
       "        vertical-align: middle;\n",
       "    }\n",
       "\n",
       "    .dataframe tbody tr th {\n",
       "        vertical-align: top;\n",
       "    }\n",
       "\n",
       "    .dataframe thead th {\n",
       "        text-align: right;\n",
       "    }\n",
       "</style>\n",
       "<table border=\"1\" class=\"dataframe\">\n",
       "  <thead>\n",
       "    <tr style=\"text-align: right;\">\n",
       "      <th></th>\n",
       "      <th>passing_yards_per_game</th>\n",
       "      <th>passing_tds_per_game</th>\n",
       "      <th>rushing_tds_per_game</th>\n",
       "      <th>rushing_yards_per_game</th>\n",
       "      <th>fantasy_points_per_game</th>\n",
       "    </tr>\n",
       "  </thead>\n",
       "  <tbody>\n",
       "    <tr>\n",
       "      <th>11199</th>\n",
       "      <td>206.562500</td>\n",
       "      <td>0.937500</td>\n",
       "      <td>0.187500</td>\n",
       "      <td>6.250000</td>\n",
       "      <td>12.262500</td>\n",
       "    </tr>\n",
       "    <tr>\n",
       "      <th>8867</th>\n",
       "      <td>178.000000</td>\n",
       "      <td>1.000000</td>\n",
       "      <td>0.200000</td>\n",
       "      <td>24.800000</td>\n",
       "      <td>13.200000</td>\n",
       "    </tr>\n",
       "    <tr>\n",
       "      <th>9901</th>\n",
       "      <td>261.200000</td>\n",
       "      <td>1.400000</td>\n",
       "      <td>0.000000</td>\n",
       "      <td>5.000000</td>\n",
       "      <td>13.348000</td>\n",
       "    </tr>\n",
       "    <tr>\n",
       "      <th>11192</th>\n",
       "      <td>225.800000</td>\n",
       "      <td>0.600000</td>\n",
       "      <td>0.200000</td>\n",
       "      <td>28.800000</td>\n",
       "      <td>13.512000</td>\n",
       "    </tr>\n",
       "    <tr>\n",
       "      <th>8403</th>\n",
       "      <td>228.117647</td>\n",
       "      <td>1.470588</td>\n",
       "      <td>0.000000</td>\n",
       "      <td>2.352941</td>\n",
       "      <td>14.183529</td>\n",
       "    </tr>\n",
       "    <tr>\n",
       "      <th>10034</th>\n",
       "      <td>185.833333</td>\n",
       "      <td>1.166667</td>\n",
       "      <td>0.166667</td>\n",
       "      <td>23.666667</td>\n",
       "      <td>14.466667</td>\n",
       "    </tr>\n",
       "    <tr>\n",
       "      <th>11851</th>\n",
       "      <td>230.900000</td>\n",
       "      <td>1.500000</td>\n",
       "      <td>0.000000</td>\n",
       "      <td>8.800000</td>\n",
       "      <td>14.716000</td>\n",
       "    </tr>\n",
       "    <tr>\n",
       "      <th>7988</th>\n",
       "      <td>241.600000</td>\n",
       "      <td>1.333333</td>\n",
       "      <td>0.066667</td>\n",
       "      <td>10.333333</td>\n",
       "      <td>15.084000</td>\n",
       "    </tr>\n",
       "    <tr>\n",
       "      <th>12084</th>\n",
       "      <td>232.117647</td>\n",
       "      <td>1.235294</td>\n",
       "      <td>0.294118</td>\n",
       "      <td>15.470588</td>\n",
       "      <td>15.090588</td>\n",
       "    </tr>\n",
       "    <tr>\n",
       "      <th>10372</th>\n",
       "      <td>189.538462</td>\n",
       "      <td>1.000000</td>\n",
       "      <td>0.461538</td>\n",
       "      <td>32.384615</td>\n",
       "      <td>15.589231</td>\n",
       "    </tr>\n",
       "    <tr>\n",
       "      <th>11066</th>\n",
       "      <td>215.111111</td>\n",
       "      <td>1.333333</td>\n",
       "      <td>0.333333</td>\n",
       "      <td>14.111111</td>\n",
       "      <td>15.937778</td>\n",
       "    </tr>\n",
       "    <tr>\n",
       "      <th>11620</th>\n",
       "      <td>272.000000</td>\n",
       "      <td>1.705882</td>\n",
       "      <td>0.000000</td>\n",
       "      <td>4.352941</td>\n",
       "      <td>16.021176</td>\n",
       "    </tr>\n",
       "    <tr>\n",
       "      <th>10962</th>\n",
       "      <td>237.882353</td>\n",
       "      <td>1.647059</td>\n",
       "      <td>0.058824</td>\n",
       "      <td>9.588235</td>\n",
       "      <td>16.121176</td>\n",
       "    </tr>\n",
       "    <tr>\n",
       "      <th>4736</th>\n",
       "      <td>264.333333</td>\n",
       "      <td>1.600000</td>\n",
       "      <td>0.000000</td>\n",
       "      <td>4.333333</td>\n",
       "      <td>16.206667</td>\n",
       "    </tr>\n",
       "    <tr>\n",
       "      <th>12045</th>\n",
       "      <td>251.000000</td>\n",
       "      <td>1.312500</td>\n",
       "      <td>0.250000</td>\n",
       "      <td>21.187500</td>\n",
       "      <td>16.408750</td>\n",
       "    </tr>\n",
       "    <tr>\n",
       "      <th>9749</th>\n",
       "      <td>269.117647</td>\n",
       "      <td>1.764706</td>\n",
       "      <td>0.117647</td>\n",
       "      <td>1.235294</td>\n",
       "      <td>17.005882</td>\n",
       "    </tr>\n",
       "    <tr>\n",
       "      <th>6926</th>\n",
       "      <td>204.666667</td>\n",
       "      <td>1.733333</td>\n",
       "      <td>0.200000</td>\n",
       "      <td>22.733333</td>\n",
       "      <td>17.126667</td>\n",
       "    </tr>\n",
       "    <tr>\n",
       "      <th>10239</th>\n",
       "      <td>261.437500</td>\n",
       "      <td>1.687500</td>\n",
       "      <td>0.000000</td>\n",
       "      <td>24.312500</td>\n",
       "      <td>17.513750</td>\n",
       "    </tr>\n",
       "    <tr>\n",
       "      <th>12027</th>\n",
       "      <td>197.076923</td>\n",
       "      <td>1.230769</td>\n",
       "      <td>0.307692</td>\n",
       "      <td>50.538462</td>\n",
       "      <td>17.706154</td>\n",
       "    </tr>\n",
       "    <tr>\n",
       "      <th>11761</th>\n",
       "      <td>241.076923</td>\n",
       "      <td>1.538462</td>\n",
       "      <td>0.230769</td>\n",
       "      <td>17.538462</td>\n",
       "      <td>17.935385</td>\n",
       "    </tr>\n",
       "    <tr>\n",
       "      <th>12360</th>\n",
       "      <td>273.866667</td>\n",
       "      <td>1.533333</td>\n",
       "      <td>0.200000</td>\n",
       "      <td>10.466667</td>\n",
       "      <td>18.268000</td>\n",
       "    </tr>\n",
       "    <tr>\n",
       "      <th>11136</th>\n",
       "      <td>224.875000</td>\n",
       "      <td>1.250000</td>\n",
       "      <td>0.375000</td>\n",
       "      <td>30.500000</td>\n",
       "      <td>18.295000</td>\n",
       "    </tr>\n",
       "    <tr>\n",
       "      <th>12229</th>\n",
       "      <td>267.500000</td>\n",
       "      <td>1.937500</td>\n",
       "      <td>0.125000</td>\n",
       "      <td>9.000000</td>\n",
       "      <td>18.475000</td>\n",
       "    </tr>\n",
       "    <tr>\n",
       "      <th>7164</th>\n",
       "      <td>291.375000</td>\n",
       "      <td>2.250000</td>\n",
       "      <td>0.000000</td>\n",
       "      <td>3.125000</td>\n",
       "      <td>18.717500</td>\n",
       "    </tr>\n",
       "    <tr>\n",
       "      <th>11677</th>\n",
       "      <td>244.647059</td>\n",
       "      <td>1.882353</td>\n",
       "      <td>0.235294</td>\n",
       "      <td>14.529412</td>\n",
       "      <td>18.768235</td>\n",
       "    </tr>\n",
       "    <tr>\n",
       "      <th>9713</th>\n",
       "      <td>265.647059</td>\n",
       "      <td>2.117647</td>\n",
       "      <td>0.117647</td>\n",
       "      <td>14.235294</td>\n",
       "      <td>20.167059</td>\n",
       "    </tr>\n",
       "    <tr>\n",
       "      <th>4239</th>\n",
       "      <td>323.200000</td>\n",
       "      <td>2.600000</td>\n",
       "      <td>0.000000</td>\n",
       "      <td>0.400000</td>\n",
       "      <td>20.168000</td>\n",
       "    </tr>\n",
       "    <tr>\n",
       "      <th>10885</th>\n",
       "      <td>229.875000</td>\n",
       "      <td>1.500000</td>\n",
       "      <td>0.312500</td>\n",
       "      <td>51.312500</td>\n",
       "      <td>20.701250</td>\n",
       "    </tr>\n",
       "    <tr>\n",
       "      <th>11798</th>\n",
       "      <td>226.941176</td>\n",
       "      <td>1.352941</td>\n",
       "      <td>0.882353</td>\n",
       "      <td>35.588235</td>\n",
       "      <td>20.989412</td>\n",
       "    </tr>\n",
       "    <tr>\n",
       "      <th>10968</th>\n",
       "      <td>253.294118</td>\n",
       "      <td>1.705882</td>\n",
       "      <td>0.882353</td>\n",
       "      <td>30.823529</td>\n",
       "      <td>23.214118</td>\n",
       "    </tr>\n",
       "  </tbody>\n",
       "</table>\n",
       "</div>"
      ],
      "text/plain": [
       "       passing_yards_per_game  passing_tds_per_game  rushing_tds_per_game  \\\n",
       "11199              206.562500              0.937500              0.187500   \n",
       "8867               178.000000              1.000000              0.200000   \n",
       "9901               261.200000              1.400000              0.000000   \n",
       "11192              225.800000              0.600000              0.200000   \n",
       "8403               228.117647              1.470588              0.000000   \n",
       "10034              185.833333              1.166667              0.166667   \n",
       "11851              230.900000              1.500000              0.000000   \n",
       "7988               241.600000              1.333333              0.066667   \n",
       "12084              232.117647              1.235294              0.294118   \n",
       "10372              189.538462              1.000000              0.461538   \n",
       "11066              215.111111              1.333333              0.333333   \n",
       "11620              272.000000              1.705882              0.000000   \n",
       "10962              237.882353              1.647059              0.058824   \n",
       "4736               264.333333              1.600000              0.000000   \n",
       "12045              251.000000              1.312500              0.250000   \n",
       "9749               269.117647              1.764706              0.117647   \n",
       "6926               204.666667              1.733333              0.200000   \n",
       "10239              261.437500              1.687500              0.000000   \n",
       "12027              197.076923              1.230769              0.307692   \n",
       "11761              241.076923              1.538462              0.230769   \n",
       "12360              273.866667              1.533333              0.200000   \n",
       "11136              224.875000              1.250000              0.375000   \n",
       "12229              267.500000              1.937500              0.125000   \n",
       "7164               291.375000              2.250000              0.000000   \n",
       "11677              244.647059              1.882353              0.235294   \n",
       "9713               265.647059              2.117647              0.117647   \n",
       "4239               323.200000              2.600000              0.000000   \n",
       "10885              229.875000              1.500000              0.312500   \n",
       "11798              226.941176              1.352941              0.882353   \n",
       "10968              253.294118              1.705882              0.882353   \n",
       "\n",
       "       rushing_yards_per_game  fantasy_points_per_game  \n",
       "11199                6.250000                12.262500  \n",
       "8867                24.800000                13.200000  \n",
       "9901                 5.000000                13.348000  \n",
       "11192               28.800000                13.512000  \n",
       "8403                 2.352941                14.183529  \n",
       "10034               23.666667                14.466667  \n",
       "11851                8.800000                14.716000  \n",
       "7988                10.333333                15.084000  \n",
       "12084               15.470588                15.090588  \n",
       "10372               32.384615                15.589231  \n",
       "11066               14.111111                15.937778  \n",
       "11620                4.352941                16.021176  \n",
       "10962                9.588235                16.121176  \n",
       "4736                 4.333333                16.206667  \n",
       "12045               21.187500                16.408750  \n",
       "9749                 1.235294                17.005882  \n",
       "6926                22.733333                17.126667  \n",
       "10239               24.312500                17.513750  \n",
       "12027               50.538462                17.706154  \n",
       "11761               17.538462                17.935385  \n",
       "12360               10.466667                18.268000  \n",
       "11136               30.500000                18.295000  \n",
       "12229                9.000000                18.475000  \n",
       "7164                 3.125000                18.717500  \n",
       "11677               14.529412                18.768235  \n",
       "9713                14.235294                20.167059  \n",
       "4239                 0.400000                20.168000  \n",
       "10885               51.312500                20.701250  \n",
       "11798               35.588235                20.989412  \n",
       "10968               30.823529                23.214118  "
      ]
     },
     "execution_count": 38,
     "metadata": {},
     "output_type": "execute_result"
    }
   ],
   "source": [
    "subset_df"
   ]
  },
  {
   "cell_type": "markdown",
   "id": "560b0eac",
   "metadata": {},
   "source": [
    "## Creating Vectors for Clustering"
   ]
  },
  {
   "cell_type": "code",
   "execution_count": 39,
   "id": "fb1252fe",
   "metadata": {},
   "outputs": [],
   "source": [
    "X = subset_df.to_numpy()\n",
    "scaler = StandardScaler()\n",
    "X_scaled = scaler.fit_transform(X)"
   ]
  },
  {
   "cell_type": "markdown",
   "id": "c7527d8a",
   "metadata": {},
   "source": [
    "## Get Candidate Cluster Size"
   ]
  },
  {
   "cell_type": "code",
   "execution_count": 40,
   "id": "e053dcee",
   "metadata": {},
   "outputs": [
    {
     "data": {
      "image/png": "[encoded data removed]",
      "text/plain": [
       "<Figure size 432x288 with 1 Axes>"
      ]
     },
     "metadata": {
      "needs_background": "light"
     },
     "output_type": "display_data"
    }
   ],
   "source": [
    "inertia = []\n",
    "for i in range(2, 11):  # consider clusters from 1 to 10\n",
    "    kmeans = KMeans(n_clusters=i, algorithm='elkan', n_init=10).fit(X_scaled)\n",
    "    inertia.append(kmeans.inertia_)\n",
    "\n",
    "plt.plot(range(2, 11), inertia)\n",
    "plt.title('Elbow Method')\n",
    "plt.xlabel('Number of clusters')\n",
    "plt.ylabel('Inertia')\n",
    "plt.show()"
   ]
  },
  {
   "cell_type": "markdown",
   "id": "e2b5a261",
   "metadata": {},
   "source": [
    "# Create Clusters"
   ]
  },
  {
   "cell_type": "code",
   "execution_count": 41,
   "id": "8aa73359",
   "metadata": {},
   "outputs": [],
   "source": [
    "n = 6"
   ]
  },
  {
   "cell_type": "code",
   "execution_count": 42,
   "id": "d0ad683a",
   "metadata": {},
   "outputs": [],
   "source": [
    "kmeans = KMeans(n_clusters=n, random_state=0, n_init=10).fit(X_scaled)\n",
    "\n",
    "cluster_ranking = dict()\n",
    "for i, cluster_num in enumerate(kmeans.labels_):\n",
    "    cluster_ranking[df_review.loc[subset_df.index[i], 'player_name']] = cluster_num\n",
    "\n",
    "labels = [str(label) for label in kmeans.labels_]"
   ]
  },
  {
   "cell_type": "code",
   "execution_count": 43,
   "id": "efea64d4",
   "metadata": {},
   "outputs": [],
   "source": [
    "df_cluster = pd.DataFrame(X, columns=subset_cols)\n",
    "df_cluster[\"Cluster\"] = labels"
   ]
  },
  {
   "cell_type": "markdown",
   "id": "9b93531e",
   "metadata": {},
   "source": [
    "# Graph Clusters"
   ]
  },
  {
   "cell_type": "markdown",
   "id": "c7a65301",
   "metadata": {},
   "source": [
    "## Parameters for Graph"
   ]
  },
  {
   "cell_type": "code",
   "execution_count": 54,
   "id": "3686c622",
   "metadata": {},
   "outputs": [],
   "source": [
    "save_fig = False\n",
    "save_suffix = \"\""
   ]
  },
  {
   "cell_type": "code",
   "execution_count": 50,
   "id": "4a90d1b6",
   "metadata": {},
   "outputs": [],
   "source": [
    "font_size = 12\n",
    "marker_size = 4\n",
    "diagonal_is_visible = False\n",
    "width = 1000\n",
    "height = 1000\n",
    "showupperhalf = False\n",
    "legend_size = 14"
   ]
  },
  {
   "cell_type": "markdown",
   "id": "5326e73b",
   "metadata": {},
   "source": [
    "## Plot Generation"
   ]
  },
  {
   "cell_type": "code",
   "execution_count": 51,
   "id": "1102b96e",
   "metadata": {},
   "outputs": [
    {
     "data": {
      "application/vnd.plotly.v1+json": {
       "config": {
        "plotlyServerURL": "https://plot.ly"
       },
       "data": [
        {
         "diagonal": {
          "visible": false
         },
         "dimensions": [
          {
           "axis": {
            "matches": true
           },
           "label": "passing_yards_per_game",
           "values": [
            206.5625,
            178,
            225.8,
            185.83333333333334,
            189.53846153846155
           ]
          },
          {
           "axis": {
            "matches": true
           },
           "label": "passing_tds_per_game",
           "values": [
            0.9375,
            1,
            0.6,
            1.1666666666666667,
            1
           ]
          },
          {
           "axis": {
            "matches": true
           },
           "label": "rushing_tds_per_game",
           "values": [
            0.1875,
            0.2,
            0.2,
            0.16666666666666666,
            0.46153846153846156
           ]
          },
          {
           "axis": {
            "matches": true
           },
           "label": "rushing_yards_per_game",
           "values": [
            6.25,
            24.8,
            28.8,
            23.666666666666668,
            32.38461538461539
           ]
          },
          {
           "axis": {
            "matches": true
           },
           "label": "fantasy_points_per_game",
           "values": [
            12.262500000000001,
            13.2,
            13.512,
            14.466666666666667,
            15.589230769230769
           ]
          }
         ],
         "hovertemplate": "<b>%{hovertext}</b><br><br>Cluster=2<br>%{xaxis.title.text}=%{x}<br>%{yaxis.title.text}=%{y}<extra></extra>",
         "hovertext": [
          "Gardner Minshew",
          "Taylor Heinicke",
          "Easton Stick",
          "Deshaun Watson",
          "Joshua Dobbs"
         ],
         "legendgroup": "2",
         "marker": {
          "color": "#636efa",
          "size": 4,
          "symbol": "circle"
         },
         "name": "2",
         "showlegend": true,
         "showupperhalf": false,
         "type": "splom"
        },
        {
         "diagonal": {
          "visible": false
         },
         "dimensions": [
          {
           "axis": {
            "matches": true
           },
           "label": "passing_yards_per_game",
           "values": [
            261.2,
            228.11764705882354,
            230.9,
            241.6,
            272,
            237.88235294117646,
            264.3333333333333,
            269.11764705882354
           ]
          },
          {
           "axis": {
            "matches": true
           },
           "label": "passing_tds_per_game",
           "values": [
            1.4,
            1.4705882352941178,
            1.5,
            1.3333333333333333,
            1.7058823529411764,
            1.6470588235294117,
            1.6,
            1.7647058823529411
           ]
          },
          {
           "axis": {
            "matches": true
           },
           "label": "rushing_tds_per_game",
           "values": [
            0,
            0,
            0,
            0.06666666666666667,
            0,
            0.058823529411764705,
            0,
            0.11764705882352941
           ]
          },
          {
           "axis": {
            "matches": true
           },
           "label": "rushing_yards_per_game",
           "values": [
            5,
            2.3529411764705883,
            8.8,
            10.333333333333334,
            4.352941176470588,
            9.588235294117647,
            4.333333333333333,
            1.2352941176470589
           ]
          },
          {
           "axis": {
            "matches": true
           },
           "label": "fantasy_points_per_game",
           "values": [
            13.348000000000003,
            14.183529411764706,
            14.716,
            15.084,
            16.021176470588237,
            16.121176470588235,
            16.206666666666667,
            17.00588235294118
           ]
          }
         ],
         "hovertemplate": "<b>%{hovertext}</b><br><br>Cluster=1<br>%{xaxis.title.text}=%{x}<br>%{yaxis.title.text}=%{y}<extra></extra>",
         "hovertext": [
          "Nick Mullens",
          "Derek Carr",
          "Joe Burrow",
          "Geno Smith",
          "Tua Tagovailoa",
          "Baker Mayfield",
          "Matthew Stafford",
          "Jared Goff"
         ],
         "legendgroup": "1",
         "marker": {
          "color": "#EF553B",
          "size": 4,
          "symbol": "circle"
         },
         "name": "1",
         "showlegend": true,
         "showupperhalf": false,
         "type": "splom"
        },
        {
         "diagonal": {
          "visible": false
         },
         "dimensions": [
          {
           "axis": {
            "matches": true
           },
           "label": "passing_yards_per_game",
           "values": [
            232.11764705882354,
            215.11111111111111,
            251,
            204.66666666666666,
            261.4375,
            241.07692307692307,
            273.8666666666667,
            224.875,
            244.64705882352942
           ]
          },
          {
           "axis": {
            "matches": true
           },
           "label": "passing_tds_per_game",
           "values": [
            1.2352941176470589,
            1.3333333333333333,
            1.3125,
            1.7333333333333334,
            1.6875,
            1.5384615384615385,
            1.5333333333333334,
            1.25,
            1.8823529411764706
           ]
          },
          {
           "axis": {
            "matches": true
           },
           "label": "rushing_tds_per_game",
           "values": [
            0.29411764705882354,
            0.3333333333333333,
            0.25,
            0.2,
            0,
            0.23076923076923078,
            0.2,
            0.375,
            0.23529411764705882
           ]
          },
          {
           "axis": {
            "matches": true
           },
           "label": "rushing_yards_per_game",
           "values": [
            15.470588235294118,
            14.11111111111111,
            21.1875,
            22.733333333333334,
            24.3125,
            17.53846153846154,
            10.466666666666667,
            30.5,
            14.529411764705882
           ]
          },
          {
           "axis": {
            "matches": true
           },
           "label": "fantasy_points_per_game",
           "values": [
            15.090588235294119,
            15.937777777777777,
            16.40875,
            17.12666666666667,
            17.51375,
            17.935384615384613,
            18.267999999999997,
            18.295,
            18.76823529411765
           ]
          }
         ],
         "hovertemplate": "<b>%{hovertext}</b><br><br>Cluster=0<br>%{xaxis.title.text}=%{x}<br>%{yaxis.title.text}=%{y}<extra></extra>",
         "hovertext": [
          "Sam Howell",
          "Jake Browning",
          "Trevor Lawrence",
          "Russell Wilson",
          "Patrick Mahomes",
          "Justin Herbert",
          "C.J. Stroud",
          "Kyler Murray",
          "Jordan Love"
         ],
         "legendgroup": "0",
         "marker": {
          "color": "#00cc96",
          "size": 4,
          "symbol": "circle"
         },
         "name": "0",
         "showlegend": true,
         "showupperhalf": false,
         "type": "splom"
        },
        {
         "diagonal": {
          "visible": false
         },
         "dimensions": [
          {
           "axis": {
            "matches": true
           },
           "label": "passing_yards_per_game",
           "values": [
            197.07692307692307,
            229.875
           ]
          },
          {
           "axis": {
            "matches": true
           },
           "label": "passing_tds_per_game",
           "values": [
            1.2307692307692308,
            1.5
           ]
          },
          {
           "axis": {
            "matches": true
           },
           "label": "rushing_tds_per_game",
           "values": [
            0.3076923076923077,
            0.3125
           ]
          },
          {
           "axis": {
            "matches": true
           },
           "label": "rushing_yards_per_game",
           "values": [
            50.53846153846154,
            51.3125
           ]
          },
          {
           "axis": {
            "matches": true
           },
           "label": "fantasy_points_per_game",
           "values": [
            17.706153846153846,
            20.70125
           ]
          }
         ],
         "hovertemplate": "<b>%{hovertext}</b><br><br>Cluster=3<br>%{xaxis.title.text}=%{x}<br>%{yaxis.title.text}=%{y}<extra></extra>",
         "hovertext": [
          "Justin Fields",
          "Lamar Jackson"
         ],
         "legendgroup": "3",
         "marker": {
          "color": "#ab63fa",
          "size": 4,
          "symbol": "circle"
         },
         "name": "3",
         "showlegend": true,
         "showupperhalf": false,
         "type": "splom"
        },
        {
         "diagonal": {
          "visible": false
         },
         "dimensions": [
          {
           "axis": {
            "matches": true
           },
           "label": "passing_yards_per_game",
           "values": [
            267.5,
            291.375,
            265.6470588235294,
            323.2
           ]
          },
          {
           "axis": {
            "matches": true
           },
           "label": "passing_tds_per_game",
           "values": [
            1.9375,
            2.25,
            2.1176470588235294,
            2.6
           ]
          },
          {
           "axis": {
            "matches": true
           },
           "label": "rushing_tds_per_game",
           "values": [
            0.125,
            0,
            0.11764705882352941,
            0
           ]
          },
          {
           "axis": {
            "matches": true
           },
           "label": "rushing_yards_per_game",
           "values": [
            9,
            3.125,
            14.235294117647058,
            0.4
           ]
          },
          {
           "axis": {
            "matches": true
           },
           "label": "fantasy_points_per_game",
           "values": [
            18.475,
            18.7175,
            20.167058823529413,
            20.168
           ]
          }
         ],
         "hovertemplate": "<b>%{hovertext}</b><br><br>Cluster=5<br>%{xaxis.title.text}=%{x}<br>%{yaxis.title.text}=%{y}<extra></extra>",
         "hovertext": [
          "Brock Purdy",
          "Kirk Cousins",
          "Dak Prescott",
          "Joe Flacco"
         ],
         "legendgroup": "5",
         "marker": {
          "color": "#FFA15A",
          "size": 4,
          "symbol": "circle"
         },
         "name": "5",
         "showlegend": true,
         "showupperhalf": false,
         "type": "splom"
        },
        {
         "diagonal": {
          "visible": false
         },
         "dimensions": [
          {
           "axis": {
            "matches": true
           },
           "label": "passing_yards_per_game",
           "values": [
            226.94117647058823,
            253.2941176470588
           ]
          },
          {
           "axis": {
            "matches": true
           },
           "label": "passing_tds_per_game",
           "values": [
            1.3529411764705883,
            1.7058823529411764
           ]
          },
          {
           "axis": {
            "matches": true
           },
           "label": "rushing_tds_per_game",
           "values": [
            0.8823529411764706,
            0.8823529411764706
           ]
          },
          {
           "axis": {
            "matches": true
           },
           "label": "rushing_yards_per_game",
           "values": [
            35.588235294117645,
            30.823529411764707
           ]
          },
          {
           "axis": {
            "matches": true
           },
           "label": "fantasy_points_per_game",
           "values": [
            20.98941176470588,
            23.214117647058824
           ]
          }
         ],
         "hovertemplate": "<b>%{hovertext}</b><br><br>Cluster=4<br>%{xaxis.title.text}=%{x}<br>%{yaxis.title.text}=%{y}<extra></extra>",
         "hovertext": [
          "Jalen Hurts",
          "Josh Allen"
         ],
         "legendgroup": "4",
         "marker": {
          "color": "#19d3f3",
          "size": 4,
          "symbol": "circle"
         },
         "name": "4",
         "showlegend": true,
         "showupperhalf": false,
         "type": "splom"
        }
       ],
       "layout": {
        "dragmode": "select",
        "font": {
         "color": "black",
         "family": "Courier New, monospace",
         "size": 12
        },
        "height": 1000,
        "legend": {
         "font": {
          "size": 14
         },
         "title": {
          "text": "Cluster"
         },
         "tracegroupgap": 0
        },
        "margin": {
         "t": 60
        },
        "paper_bgcolor": "rgba(0,0,0,0)",
        "plot_bgcolor": "rgba(245, 245, 245, 1)",
        "showlegend": true,
        "template": {
         "data": {
          "bar": [
           {
            "error_x": {
             "color": "#2a3f5f"
            },
            "error_y": {
             "color": "#2a3f5f"
            },
            "marker": {
             "line": {
              "color": "#E5ECF6",
              "width": 0.5
             },
             "pattern": {
              "fillmode": "overlay",
              "size": 10,
              "solidity": 0.2
             }
            },
            "type": "bar"
           }
          ],
          "barpolar": [
           {
            "marker": {
             "line": {
              "color": "#E5ECF6",
              "width": 0.5
             },
             "pattern": {
              "fillmode": "overlay",
              "size": 10,
              "solidity": 0.2
             }
            },
            "type": "barpolar"
           }
          ],
          "carpet": [
           {
            "aaxis": {
             "endlinecolor": "#2a3f5f",
             "gridcolor": "white",
             "linecolor": "white",
             "minorgridcolor": "white",
             "startlinecolor": "#2a3f5f"
            },
            "baxis": {
             "endlinecolor": "#2a3f5f",
             "gridcolor": "white",
             "linecolor": "white",
             "minorgridcolor": "white",
             "startlinecolor": "#2a3f5f"
            },
            "type": "carpet"
           }
          ],
          "choropleth": [
           {
            "colorbar": {
             "outlinewidth": 0,
             "ticks": ""
            },
            "type": "choropleth"
           }
          ],
          "contour": [
           {
            "colorbar": {
             "outlinewidth": 0,
             "ticks": ""
            },
            "colorscale": [
             [
              0,
              "#0d0887"
             ],
             [
              0.1111111111111111,
              "#46039f"
             ],
             [
              0.2222222222222222,
              "#7201a8"
             ],
             [
              0.3333333333333333,
              "#9c179e"
             ],
             [
              0.4444444444444444,
              "#bd3786"
             ],
             [
              0.5555555555555556,
              "#d8576b"
             ],
             [
              0.6666666666666666,
              "#ed7953"
             ],
             [
              0.7777777777777778,
              "#fb9f3a"
             ],
             [
              0.8888888888888888,
              "#fdca26"
             ],
             [
              1,
              "#f0f921"
             ]
            ],
            "type": "contour"
           }
          ],
          "contourcarpet": [
           {
            "colorbar": {
             "outlinewidth": 0,
             "ticks": ""
            },
            "type": "contourcarpet"
           }
          ],
          "heatmap": [
           {
            "colorbar": {
             "outlinewidth": 0,
             "ticks": ""
            },
            "colorscale": [
             [
              0,
              "#0d0887"
             ],
             [
              0.1111111111111111,
              "#46039f"
             ],
             [
              0.2222222222222222,
              "#7201a8"
             ],
             [
              0.3333333333333333,
              "#9c179e"
             ],
             [
              0.4444444444444444,
              "#bd3786"
             ],
             [
              0.5555555555555556,
              "#d8576b"
             ],
             [
              0.6666666666666666,
              "#ed7953"
             ],
             [
              0.7777777777777778,
              "#fb9f3a"
             ],
             [
              0.8888888888888888,
              "#fdca26"
             ],
             [
              1,
              "#f0f921"
             ]
            ],
            "type": "heatmap"
           }
          ],
          "heatmapgl": [
           {
            "colorbar": {
             "outlinewidth": 0,
             "ticks": ""
            },
            "colorscale": [
             [
              0,
              "#0d0887"
             ],
             [
              0.1111111111111111,
              "#46039f"
             ],
             [
              0.2222222222222222,
              "#7201a8"
             ],
             [
              0.3333333333333333,
              "#9c179e"
             ],
             [
              0.4444444444444444,
              "#bd3786"
             ],
             [
              0.5555555555555556,
              "#d8576b"
             ],
             [
              0.6666666666666666,
              "#ed7953"
             ],
             [
              0.7777777777777778,
              "#fb9f3a"
             ],
             [
              0.8888888888888888,
              "#fdca26"
             ],
             [
              1,
              "#f0f921"
             ]
            ],
            "type": "heatmapgl"
           }
          ],
          "histogram": [
           {
            "marker": {
             "pattern": {
              "fillmode": "overlay",
              "size": 10,
              "solidity": 0.2
             }
            },
            "type": "histogram"
           }
          ],
          "histogram2d": [
           {
            "colorbar": {
             "outlinewidth": 0,
             "ticks": ""
            },
            "colorscale": [
             [
              0,
              "#0d0887"
             ],
             [
              0.1111111111111111,
              "#46039f"
             ],
             [
              0.2222222222222222,
              "#7201a8"
             ],
             [
              0.3333333333333333,
              "#9c179e"
             ],
             [
              0.4444444444444444,
              "#bd3786"
             ],
             [
              0.5555555555555556,
              "#d8576b"
             ],
             [
              0.6666666666666666,
              "#ed7953"
             ],
             [
              0.7777777777777778,
              "#fb9f3a"
             ],
             [
              0.8888888888888888,
              "#fdca26"
             ],
             [
              1,
              "#f0f921"
             ]
            ],
            "type": "histogram2d"
           }
          ],
          "histogram2dcontour": [
           {
            "colorbar": {
             "outlinewidth": 0,
             "ticks": ""
            },
            "colorscale": [
             [
              0,
              "#0d0887"
             ],
             [
              0.1111111111111111,
              "#46039f"
             ],
             [
              0.2222222222222222,
              "#7201a8"
             ],
             [
              0.3333333333333333,
              "#9c179e"
             ],
             [
              0.4444444444444444,
              "#bd3786"
             ],
             [
              0.5555555555555556,
              "#d8576b"
             ],
             [
              0.6666666666666666,
              "#ed7953"
             ],
             [
              0.7777777777777778,
              "#fb9f3a"
             ],
             [
              0.8888888888888888,
              "#fdca26"
             ],
             [
              1,
              "#f0f921"
             ]
            ],
            "type": "histogram2dcontour"
           }
          ],
          "mesh3d": [
           {
            "colorbar": {
             "outlinewidth": 0,
             "ticks": ""
            },
            "type": "mesh3d"
           }
          ],
          "parcoords": [
           {
            "line": {
             "colorbar": {
              "outlinewidth": 0,
              "ticks": ""
             }
            },
            "type": "parcoords"
           }
          ],
          "pie": [
           {
            "automargin": true,
            "type": "pie"
           }
          ],
          "scatter": [
           {
            "fillpattern": {
             "fillmode": "overlay",
             "size": 10,
             "solidity": 0.2
            },
            "type": "scatter"
           }
          ],
          "scatter3d": [
           {
            "line": {
             "colorbar": {
              "outlinewidth": 0,
              "ticks": ""
             }
            },
            "marker": {
             "colorbar": {
              "outlinewidth": 0,
              "ticks": ""
             }
            },
            "type": "scatter3d"
           }
          ],
          "scattercarpet": [
           {
            "marker": {
             "colorbar": {
              "outlinewidth": 0,
              "ticks": ""
             }
            },
            "type": "scattercarpet"
           }
          ],
          "scattergeo": [
           {
            "marker": {
             "colorbar": {
              "outlinewidth": 0,
              "ticks": ""
             }
            },
            "type": "scattergeo"
           }
          ],
          "scattergl": [
           {
            "marker": {
             "colorbar": {
              "outlinewidth": 0,
              "ticks": ""
             }
            },
            "type": "scattergl"
           }
          ],
          "scattermapbox": [
           {
            "marker": {
             "colorbar": {
              "outlinewidth": 0,
              "ticks": ""
             }
            },
            "type": "scattermapbox"
           }
          ],
          "scatterpolar": [
           {
            "marker": {
             "colorbar": {
              "outlinewidth": 0,
              "ticks": ""
             }
            },
            "type": "scatterpolar"
           }
          ],
          "scatterpolargl": [
           {
            "marker": {
             "colorbar": {
              "outlinewidth": 0,
              "ticks": ""
             }
            },
            "type": "scatterpolargl"
           }
          ],
          "scatterternary": [
           {
            "marker": {
             "colorbar": {
              "outlinewidth": 0,
              "ticks": ""
             }
            },
            "type": "scatterternary"
           }
          ],
          "surface": [
           {
            "colorbar": {
             "outlinewidth": 0,
             "ticks": ""
            },
            "colorscale": [
             [
              0,
              "#0d0887"
             ],
             [
              0.1111111111111111,
              "#46039f"
             ],
             [
              0.2222222222222222,
              "#7201a8"
             ],
             [
              0.3333333333333333,
              "#9c179e"
             ],
             [
              0.4444444444444444,
              "#bd3786"
             ],
             [
              0.5555555555555556,
              "#d8576b"
             ],
             [
              0.6666666666666666,
              "#ed7953"
             ],
             [
              0.7777777777777778,
              "#fb9f3a"
             ],
             [
              0.8888888888888888,
              "#fdca26"
             ],
             [
              1,
              "#f0f921"
             ]
            ],
            "type": "surface"
           }
          ],
          "table": [
           {
            "cells": {
             "fill": {
              "color": "#EBF0F8"
             },
             "line": {
              "color": "white"
             }
            },
            "header": {
             "fill": {
              "color": "#C8D4E3"
             },
             "line": {
              "color": "white"
             }
            },
            "type": "table"
           }
          ]
         },
         "layout": {
          "annotationdefaults": {
           "arrowcolor": "#2a3f5f",
           "arrowhead": 0,
           "arrowwidth": 1
          },
          "autotypenumbers": "strict",
          "coloraxis": {
           "colorbar": {
            "outlinewidth": 0,
            "ticks": ""
           }
          },
          "colorscale": {
           "diverging": [
            [
             0,
             "#8e0152"
            ],
            [
             0.1,
             "#c51b7d"
            ],
            [
             0.2,
             "#de77ae"
            ],
            [
             0.3,
             "#f1b6da"
            ],
            [
             0.4,
             "#fde0ef"
            ],
            [
             0.5,
             "#f7f7f7"
            ],
            [
             0.6,
             "#e6f5d0"
            ],
            [
             0.7,
             "#b8e186"
            ],
            [
             0.8,
             "#7fbc41"
            ],
            [
             0.9,
             "#4d9221"
            ],
            [
             1,
             "#276419"
            ]
           ],
           "sequential": [
            [
             0,
             "#0d0887"
            ],
            [
             0.1111111111111111,
             "#46039f"
            ],
            [
             0.2222222222222222,
             "#7201a8"
            ],
            [
             0.3333333333333333,
             "#9c179e"
            ],
            [
             0.4444444444444444,
             "#bd3786"
            ],
            [
             0.5555555555555556,
             "#d8576b"
            ],
            [
             0.6666666666666666,
             "#ed7953"
            ],
            [
             0.7777777777777778,
             "#fb9f3a"
            ],
            [
             0.8888888888888888,
             "#fdca26"
            ],
            [
             1,
             "#f0f921"
            ]
           ],
           "sequentialminus": [
            [
             0,
             "#0d0887"
            ],
            [
             0.1111111111111111,
             "#46039f"
            ],
            [
             0.2222222222222222,
             "#7201a8"
            ],
            [
             0.3333333333333333,
             "#9c179e"
            ],
            [
             0.4444444444444444,
             "#bd3786"
            ],
            [
             0.5555555555555556,
             "#d8576b"
            ],
            [
             0.6666666666666666,
             "#ed7953"
            ],
            [
             0.7777777777777778,
             "#fb9f3a"
            ],
            [
             0.8888888888888888,
             "#fdca26"
            ],
            [
             1,
             "#f0f921"
            ]
           ]
          },
          "colorway": [
           "#636efa",
           "#EF553B",
           "#00cc96",
           "#ab63fa",
           "#FFA15A",
           "#19d3f3",
           "#FF6692",
           "#B6E880",
           "#FF97FF",
           "#FECB52"
          ],
          "font": {
           "color": "#2a3f5f"
          },
          "geo": {
           "bgcolor": "white",
           "lakecolor": "white",
           "landcolor": "#E5ECF6",
           "showlakes": true,
           "showland": true,
           "subunitcolor": "white"
          },
          "hoverlabel": {
           "align": "left"
          },
          "hovermode": "closest",
          "mapbox": {
           "style": "light"
          },
          "paper_bgcolor": "white",
          "plot_bgcolor": "#E5ECF6",
          "polar": {
           "angularaxis": {
            "gridcolor": "white",
            "linecolor": "white",
            "ticks": ""
           },
           "bgcolor": "#E5ECF6",
           "radialaxis": {
            "gridcolor": "white",
            "linecolor": "white",
            "ticks": ""
           }
          },
          "scene": {
           "xaxis": {
            "backgroundcolor": "#E5ECF6",
            "gridcolor": "white",
            "gridwidth": 2,
            "linecolor": "white",
            "showbackground": true,
            "ticks": "",
            "zerolinecolor": "white"
           },
           "yaxis": {
            "backgroundcolor": "#E5ECF6",
            "gridcolor": "white",
            "gridwidth": 2,
            "linecolor": "white",
            "showbackground": true,
            "ticks": "",
            "zerolinecolor": "white"
           },
           "zaxis": {
            "backgroundcolor": "#E5ECF6",
            "gridcolor": "white",
            "gridwidth": 2,
            "linecolor": "white",
            "showbackground": true,
            "ticks": "",
            "zerolinecolor": "white"
           }
          },
          "shapedefaults": {
           "line": {
            "color": "#2a3f5f"
           }
          },
          "ternary": {
           "aaxis": {
            "gridcolor": "white",
            "linecolor": "white",
            "ticks": ""
           },
           "baxis": {
            "gridcolor": "white",
            "linecolor": "white",
            "ticks": ""
           },
           "bgcolor": "#E5ECF6",
           "caxis": {
            "gridcolor": "white",
            "linecolor": "white",
            "ticks": ""
           }
          },
          "title": {
           "x": 0.05
          },
          "xaxis": {
           "automargin": true,
           "gridcolor": "white",
           "linecolor": "white",
           "ticks": "",
           "title": {
            "standoff": 15
           },
           "zerolinecolor": "white",
           "zerolinewidth": 2
          },
          "yaxis": {
           "automargin": true,
           "gridcolor": "white",
           "linecolor": "white",
           "ticks": "",
           "title": {
            "standoff": 15
           },
           "zerolinecolor": "white",
           "zerolinewidth": 2
          }
         }
        },
        "width": 1000,
        "xaxis": {
         "gridcolor": "rgba(200, 200, 200, 0.5)",
         "gridwidth": 0.5,
         "showgrid": true
        },
        "yaxis": {
         "gridcolor": "rgba(200, 200, 200, 0.5)",
         "gridwidth": 0.5,
         "showgrid": true
        }
       }
      },
      "text/html": [
       "<div>                            <div id=\"94215c51-8c8f-42b3-a855-761f78aa4b6e\" class=\"plotly-graph-div\" style=\"height:1000px; width:1000px;\"></div>            <script type=\"text/javascript\">                require([\"plotly\"], function(Plotly) {                    window.PLOTLYENV=window.PLOTLYENV || {};                                    if (document.getElementById(\"94215c51-8c8f-42b3-a855-761f78aa4b6e\")) {                    Plotly.newPlot(                        \"94215c51-8c8f-42b3-a855-761f78aa4b6e\",                        [{\"dimensions\":[{\"axis\":{\"matches\":true},\"label\":\"passing_yards_per_game\",\"values\":[206.5625,178.0,225.8,185.83333333333334,189.53846153846155]},{\"axis\":{\"matches\":true},\"label\":\"passing_tds_per_game\",\"values\":[0.9375,1.0,0.6,1.1666666666666667,1.0]},{\"axis\":{\"matches\":true},\"label\":\"rushing_tds_per_game\",\"values\":[0.1875,0.2,0.2,0.16666666666666666,0.46153846153846156]},{\"axis\":{\"matches\":true},\"label\":\"rushing_yards_per_game\",\"values\":[6.25,24.8,28.8,23.666666666666668,32.38461538461539]},{\"axis\":{\"matches\":true},\"label\":\"fantasy_points_per_game\",\"values\":[12.262500000000001,13.2,13.512,14.466666666666667,15.589230769230769]}],\"hovertemplate\":\"\\u003cb\\u003e%{hovertext}\\u003c\\u002fb\\u003e\\u003cbr\\u003e\\u003cbr\\u003eCluster=2\\u003cbr\\u003e%{xaxis.title.text}=%{x}\\u003cbr\\u003e%{yaxis.title.text}=%{y}\\u003cextra\\u003e\\u003c\\u002fextra\\u003e\",\"hovertext\":[\"Gardner Minshew\",\"Taylor Heinicke\",\"Easton Stick\",\"Deshaun Watson\",\"Joshua Dobbs\"],\"legendgroup\":\"2\",\"marker\":{\"color\":\"#636efa\",\"symbol\":\"circle\",\"size\":4},\"name\":\"2\",\"showlegend\":true,\"type\":\"splom\",\"diagonal\":{\"visible\":false},\"showupperhalf\":false},{\"dimensions\":[{\"axis\":{\"matches\":true},\"label\":\"passing_yards_per_game\",\"values\":[261.2,228.11764705882354,230.9,241.6,272.0,237.88235294117646,264.3333333333333,269.11764705882354]},{\"axis\":{\"matches\":true},\"label\":\"passing_tds_per_game\",\"values\":[1.4,1.4705882352941178,1.5,1.3333333333333333,1.7058823529411764,1.6470588235294117,1.6,1.7647058823529411]},{\"axis\":{\"matches\":true},\"label\":\"rushing_tds_per_game\",\"values\":[0.0,0.0,0.0,0.06666666666666667,0.0,0.058823529411764705,0.0,0.11764705882352941]},{\"axis\":{\"matches\":true},\"label\":\"rushing_yards_per_game\",\"values\":[5.0,2.3529411764705883,8.8,10.333333333333334,4.352941176470588,9.588235294117647,4.333333333333333,1.2352941176470589]},{\"axis\":{\"matches\":true},\"label\":\"fantasy_points_per_game\",\"values\":[13.348000000000003,14.183529411764706,14.716,15.084,16.021176470588237,16.121176470588235,16.206666666666667,17.00588235294118]}],\"hovertemplate\":\"\\u003cb\\u003e%{hovertext}\\u003c\\u002fb\\u003e\\u003cbr\\u003e\\u003cbr\\u003eCluster=1\\u003cbr\\u003e%{xaxis.title.text}=%{x}\\u003cbr\\u003e%{yaxis.title.text}=%{y}\\u003cextra\\u003e\\u003c\\u002fextra\\u003e\",\"hovertext\":[\"Nick Mullens\",\"Derek Carr\",\"Joe Burrow\",\"Geno Smith\",\"Tua Tagovailoa\",\"Baker Mayfield\",\"Matthew Stafford\",\"Jared Goff\"],\"legendgroup\":\"1\",\"marker\":{\"color\":\"#EF553B\",\"symbol\":\"circle\",\"size\":4},\"name\":\"1\",\"showlegend\":true,\"type\":\"splom\",\"diagonal\":{\"visible\":false},\"showupperhalf\":false},{\"dimensions\":[{\"axis\":{\"matches\":true},\"label\":\"passing_yards_per_game\",\"values\":[232.11764705882354,215.11111111111111,251.0,204.66666666666666,261.4375,241.07692307692307,273.8666666666667,224.875,244.64705882352942]},{\"axis\":{\"matches\":true},\"label\":\"passing_tds_per_game\",\"values\":[1.2352941176470589,1.3333333333333333,1.3125,1.7333333333333334,1.6875,1.5384615384615385,1.5333333333333334,1.25,1.8823529411764706]},{\"axis\":{\"matches\":true},\"label\":\"rushing_tds_per_game\",\"values\":[0.29411764705882354,0.3333333333333333,0.25,0.2,0.0,0.23076923076923078,0.2,0.375,0.23529411764705882]},{\"axis\":{\"matches\":true},\"label\":\"rushing_yards_per_game\",\"values\":[15.470588235294118,14.11111111111111,21.1875,22.733333333333334,24.3125,17.53846153846154,10.466666666666667,30.5,14.529411764705882]},{\"axis\":{\"matches\":true},\"label\":\"fantasy_points_per_game\",\"values\":[15.090588235294119,15.937777777777777,16.40875,17.12666666666667,17.51375,17.935384615384613,18.267999999999997,18.295,18.76823529411765]}],\"hovertemplate\":\"\\u003cb\\u003e%{hovertext}\\u003c\\u002fb\\u003e\\u003cbr\\u003e\\u003cbr\\u003eCluster=0\\u003cbr\\u003e%{xaxis.title.text}=%{x}\\u003cbr\\u003e%{yaxis.title.text}=%{y}\\u003cextra\\u003e\\u003c\\u002fextra\\u003e\",\"hovertext\":[\"Sam Howell\",\"Jake Browning\",\"Trevor Lawrence\",\"Russell Wilson\",\"Patrick Mahomes\",\"Justin Herbert\",\"C.J. Stroud\",\"Kyler Murray\",\"Jordan Love\"],\"legendgroup\":\"0\",\"marker\":{\"color\":\"#00cc96\",\"symbol\":\"circle\",\"size\":4},\"name\":\"0\",\"showlegend\":true,\"type\":\"splom\",\"diagonal\":{\"visible\":false},\"showupperhalf\":false},{\"dimensions\":[{\"axis\":{\"matches\":true},\"label\":\"passing_yards_per_game\",\"values\":[197.07692307692307,229.875]},{\"axis\":{\"matches\":true},\"label\":\"passing_tds_per_game\",\"values\":[1.2307692307692308,1.5]},{\"axis\":{\"matches\":true},\"label\":\"rushing_tds_per_game\",\"values\":[0.3076923076923077,0.3125]},{\"axis\":{\"matches\":true},\"label\":\"rushing_yards_per_game\",\"values\":[50.53846153846154,51.3125]},{\"axis\":{\"matches\":true},\"label\":\"fantasy_points_per_game\",\"values\":[17.706153846153846,20.70125]}],\"hovertemplate\":\"\\u003cb\\u003e%{hovertext}\\u003c\\u002fb\\u003e\\u003cbr\\u003e\\u003cbr\\u003eCluster=3\\u003cbr\\u003e%{xaxis.title.text}=%{x}\\u003cbr\\u003e%{yaxis.title.text}=%{y}\\u003cextra\\u003e\\u003c\\u002fextra\\u003e\",\"hovertext\":[\"Justin Fields\",\"Lamar Jackson\"],\"legendgroup\":\"3\",\"marker\":{\"color\":\"#ab63fa\",\"symbol\":\"circle\",\"size\":4},\"name\":\"3\",\"showlegend\":true,\"type\":\"splom\",\"diagonal\":{\"visible\":false},\"showupperhalf\":false},{\"dimensions\":[{\"axis\":{\"matches\":true},\"label\":\"passing_yards_per_game\",\"values\":[267.5,291.375,265.6470588235294,323.2]},{\"axis\":{\"matches\":true},\"label\":\"passing_tds_per_game\",\"values\":[1.9375,2.25,2.1176470588235294,2.6]},{\"axis\":{\"matches\":true},\"label\":\"rushing_tds_per_game\",\"values\":[0.125,0.0,0.11764705882352941,0.0]},{\"axis\":{\"matches\":true},\"label\":\"rushing_yards_per_game\",\"values\":[9.0,3.125,14.235294117647058,0.4]},{\"axis\":{\"matches\":true},\"label\":\"fantasy_points_per_game\",\"values\":[18.475,18.7175,20.167058823529413,20.168]}],\"hovertemplate\":\"\\u003cb\\u003e%{hovertext}\\u003c\\u002fb\\u003e\\u003cbr\\u003e\\u003cbr\\u003eCluster=5\\u003cbr\\u003e%{xaxis.title.text}=%{x}\\u003cbr\\u003e%{yaxis.title.text}=%{y}\\u003cextra\\u003e\\u003c\\u002fextra\\u003e\",\"hovertext\":[\"Brock Purdy\",\"Kirk Cousins\",\"Dak Prescott\",\"Joe Flacco\"],\"legendgroup\":\"5\",\"marker\":{\"color\":\"#FFA15A\",\"symbol\":\"circle\",\"size\":4},\"name\":\"5\",\"showlegend\":true,\"type\":\"splom\",\"diagonal\":{\"visible\":false},\"showupperhalf\":false},{\"dimensions\":[{\"axis\":{\"matches\":true},\"label\":\"passing_yards_per_game\",\"values\":[226.94117647058823,253.2941176470588]},{\"axis\":{\"matches\":true},\"label\":\"passing_tds_per_game\",\"values\":[1.3529411764705883,1.7058823529411764]},{\"axis\":{\"matches\":true},\"label\":\"rushing_tds_per_game\",\"values\":[0.8823529411764706,0.8823529411764706]},{\"axis\":{\"matches\":true},\"label\":\"rushing_yards_per_game\",\"values\":[35.588235294117645,30.823529411764707]},{\"axis\":{\"matches\":true},\"label\":\"fantasy_points_per_game\",\"values\":[20.98941176470588,23.214117647058824]}],\"hovertemplate\":\"\\u003cb\\u003e%{hovertext}\\u003c\\u002fb\\u003e\\u003cbr\\u003e\\u003cbr\\u003eCluster=4\\u003cbr\\u003e%{xaxis.title.text}=%{x}\\u003cbr\\u003e%{yaxis.title.text}=%{y}\\u003cextra\\u003e\\u003c\\u002fextra\\u003e\",\"hovertext\":[\"Jalen Hurts\",\"Josh Allen\"],\"legendgroup\":\"4\",\"marker\":{\"color\":\"#19d3f3\",\"symbol\":\"circle\",\"size\":4},\"name\":\"4\",\"showlegend\":true,\"type\":\"splom\",\"diagonal\":{\"visible\":false},\"showupperhalf\":false}],                        {\"template\":{\"data\":{\"histogram2dcontour\":[{\"type\":\"histogram2dcontour\",\"colorbar\":{\"outlinewidth\":0,\"ticks\":\"\"},\"colorscale\":[[0.0,\"#0d0887\"],[0.1111111111111111,\"#46039f\"],[0.2222222222222222,\"#7201a8\"],[0.3333333333333333,\"#9c179e\"],[0.4444444444444444,\"#bd3786\"],[0.5555555555555556,\"#d8576b\"],[0.6666666666666666,\"#ed7953\"],[0.7777777777777778,\"#fb9f3a\"],[0.8888888888888888,\"#fdca26\"],[1.0,\"#f0f921\"]]}],\"choropleth\":[{\"type\":\"choropleth\",\"colorbar\":{\"outlinewidth\":0,\"ticks\":\"\"}}],\"histogram2d\":[{\"type\":\"histogram2d\",\"colorbar\":{\"outlinewidth\":0,\"ticks\":\"\"},\"colorscale\":[[0.0,\"#0d0887\"],[0.1111111111111111,\"#46039f\"],[0.2222222222222222,\"#7201a8\"],[0.3333333333333333,\"#9c179e\"],[0.4444444444444444,\"#bd3786\"],[0.5555555555555556,\"#d8576b\"],[0.6666666666666666,\"#ed7953\"],[0.7777777777777778,\"#fb9f3a\"],[0.8888888888888888,\"#fdca26\"],[1.0,\"#f0f921\"]]}],\"heatmap\":[{\"type\":\"heatmap\",\"colorbar\":{\"outlinewidth\":0,\"ticks\":\"\"},\"colorscale\":[[0.0,\"#0d0887\"],[0.1111111111111111,\"#46039f\"],[0.2222222222222222,\"#7201a8\"],[0.3333333333333333,\"#9c179e\"],[0.4444444444444444,\"#bd3786\"],[0.5555555555555556,\"#d8576b\"],[0.6666666666666666,\"#ed7953\"],[0.7777777777777778,\"#fb9f3a\"],[0.8888888888888888,\"#fdca26\"],[1.0,\"#f0f921\"]]}],\"heatmapgl\":[{\"type\":\"heatmapgl\",\"colorbar\":{\"outlinewidth\":0,\"ticks\":\"\"},\"colorscale\":[[0.0,\"#0d0887\"],[0.1111111111111111,\"#46039f\"],[0.2222222222222222,\"#7201a8\"],[0.3333333333333333,\"#9c179e\"],[0.4444444444444444,\"#bd3786\"],[0.5555555555555556,\"#d8576b\"],[0.6666666666666666,\"#ed7953\"],[0.7777777777777778,\"#fb9f3a\"],[0.8888888888888888,\"#fdca26\"],[1.0,\"#f0f921\"]]}],\"contourcarpet\":[{\"type\":\"contourcarpet\",\"colorbar\":{\"outlinewidth\":0,\"ticks\":\"\"}}],\"contour\":[{\"type\":\"contour\",\"colorbar\":{\"outlinewidth\":0,\"ticks\":\"\"},\"colorscale\":[[0.0,\"#0d0887\"],[0.1111111111111111,\"#46039f\"],[0.2222222222222222,\"#7201a8\"],[0.3333333333333333,\"#9c179e\"],[0.4444444444444444,\"#bd3786\"],[0.5555555555555556,\"#d8576b\"],[0.6666666666666666,\"#ed7953\"],[0.7777777777777778,\"#fb9f3a\"],[0.8888888888888888,\"#fdca26\"],[1.0,\"#f0f921\"]]}],\"surface\":[{\"type\":\"surface\",\"colorbar\":{\"outlinewidth\":0,\"ticks\":\"\"},\"colorscale\":[[0.0,\"#0d0887\"],[0.1111111111111111,\"#46039f\"],[0.2222222222222222,\"#7201a8\"],[0.3333333333333333,\"#9c179e\"],[0.4444444444444444,\"#bd3786\"],[0.5555555555555556,\"#d8576b\"],[0.6666666666666666,\"#ed7953\"],[0.7777777777777778,\"#fb9f3a\"],[0.8888888888888888,\"#fdca26\"],[1.0,\"#f0f921\"]]}],\"mesh3d\":[{\"type\":\"mesh3d\",\"colorbar\":{\"outlinewidth\":0,\"ticks\":\"\"}}],\"scatter\":[{\"fillpattern\":{\"fillmode\":\"overlay\",\"size\":10,\"solidity\":0.2},\"type\":\"scatter\"}],\"parcoords\":[{\"type\":\"parcoords\",\"line\":{\"colorbar\":{\"outlinewidth\":0,\"ticks\":\"\"}}}],\"scatterpolargl\":[{\"type\":\"scatterpolargl\",\"marker\":{\"colorbar\":{\"outlinewidth\":0,\"ticks\":\"\"}}}],\"bar\":[{\"error_x\":{\"color\":\"#2a3f5f\"},\"error_y\":{\"color\":\"#2a3f5f\"},\"marker\":{\"line\":{\"color\":\"#E5ECF6\",\"width\":0.5},\"pattern\":{\"fillmode\":\"overlay\",\"size\":10,\"solidity\":0.2}},\"type\":\"bar\"}],\"scattergeo\":[{\"type\":\"scattergeo\",\"marker\":{\"colorbar\":{\"outlinewidth\":0,\"ticks\":\"\"}}}],\"scatterpolar\":[{\"type\":\"scatterpolar\",\"marker\":{\"colorbar\":{\"outlinewidth\":0,\"ticks\":\"\"}}}],\"histogram\":[{\"marker\":{\"pattern\":{\"fillmode\":\"overlay\",\"size\":10,\"solidity\":0.2}},\"type\":\"histogram\"}],\"scattergl\":[{\"type\":\"scattergl\",\"marker\":{\"colorbar\":{\"outlinewidth\":0,\"ticks\":\"\"}}}],\"scatter3d\":[{\"type\":\"scatter3d\",\"line\":{\"colorbar\":{\"outlinewidth\":0,\"ticks\":\"\"}},\"marker\":{\"colorbar\":{\"outlinewidth\":0,\"ticks\":\"\"}}}],\"scattermapbox\":[{\"type\":\"scattermapbox\",\"marker\":{\"colorbar\":{\"outlinewidth\":0,\"ticks\":\"\"}}}],\"scatterternary\":[{\"type\":\"scatterternary\",\"marker\":{\"colorbar\":{\"outlinewidth\":0,\"ticks\":\"\"}}}],\"scattercarpet\":[{\"type\":\"scattercarpet\",\"marker\":{\"colorbar\":{\"outlinewidth\":0,\"ticks\":\"\"}}}],\"carpet\":[{\"aaxis\":{\"endlinecolor\":\"#2a3f5f\",\"gridcolor\":\"white\",\"linecolor\":\"white\",\"minorgridcolor\":\"white\",\"startlinecolor\":\"#2a3f5f\"},\"baxis\":{\"endlinecolor\":\"#2a3f5f\",\"gridcolor\":\"white\",\"linecolor\":\"white\",\"minorgridcolor\":\"white\",\"startlinecolor\":\"#2a3f5f\"},\"type\":\"carpet\"}],\"table\":[{\"cells\":{\"fill\":{\"color\":\"#EBF0F8\"},\"line\":{\"color\":\"white\"}},\"header\":{\"fill\":{\"color\":\"#C8D4E3\"},\"line\":{\"color\":\"white\"}},\"type\":\"table\"}],\"barpolar\":[{\"marker\":{\"line\":{\"color\":\"#E5ECF6\",\"width\":0.5},\"pattern\":{\"fillmode\":\"overlay\",\"size\":10,\"solidity\":0.2}},\"type\":\"barpolar\"}],\"pie\":[{\"automargin\":true,\"type\":\"pie\"}]},\"layout\":{\"autotypenumbers\":\"strict\",\"colorway\":[\"#636efa\",\"#EF553B\",\"#00cc96\",\"#ab63fa\",\"#FFA15A\",\"#19d3f3\",\"#FF6692\",\"#B6E880\",\"#FF97FF\",\"#FECB52\"],\"font\":{\"color\":\"#2a3f5f\"},\"hovermode\":\"closest\",\"hoverlabel\":{\"align\":\"left\"},\"paper_bgcolor\":\"white\",\"plot_bgcolor\":\"#E5ECF6\",\"polar\":{\"bgcolor\":\"#E5ECF6\",\"angularaxis\":{\"gridcolor\":\"white\",\"linecolor\":\"white\",\"ticks\":\"\"},\"radialaxis\":{\"gridcolor\":\"white\",\"linecolor\":\"white\",\"ticks\":\"\"}},\"ternary\":{\"bgcolor\":\"#E5ECF6\",\"aaxis\":{\"gridcolor\":\"white\",\"linecolor\":\"white\",\"ticks\":\"\"},\"baxis\":{\"gridcolor\":\"white\",\"linecolor\":\"white\",\"ticks\":\"\"},\"caxis\":{\"gridcolor\":\"white\",\"linecolor\":\"white\",\"ticks\":\"\"}},\"coloraxis\":{\"colorbar\":{\"outlinewidth\":0,\"ticks\":\"\"}},\"colorscale\":{\"sequential\":[[0.0,\"#0d0887\"],[0.1111111111111111,\"#46039f\"],[0.2222222222222222,\"#7201a8\"],[0.3333333333333333,\"#9c179e\"],[0.4444444444444444,\"#bd3786\"],[0.5555555555555556,\"#d8576b\"],[0.6666666666666666,\"#ed7953\"],[0.7777777777777778,\"#fb9f3a\"],[0.8888888888888888,\"#fdca26\"],[1.0,\"#f0f921\"]],\"sequentialminus\":[[0.0,\"#0d0887\"],[0.1111111111111111,\"#46039f\"],[0.2222222222222222,\"#7201a8\"],[0.3333333333333333,\"#9c179e\"],[0.4444444444444444,\"#bd3786\"],[0.5555555555555556,\"#d8576b\"],[0.6666666666666666,\"#ed7953\"],[0.7777777777777778,\"#fb9f3a\"],[0.8888888888888888,\"#fdca26\"],[1.0,\"#f0f921\"]],\"diverging\":[[0,\"#8e0152\"],[0.1,\"#c51b7d\"],[0.2,\"#de77ae\"],[0.3,\"#f1b6da\"],[0.4,\"#fde0ef\"],[0.5,\"#f7f7f7\"],[0.6,\"#e6f5d0\"],[0.7,\"#b8e186\"],[0.8,\"#7fbc41\"],[0.9,\"#4d9221\"],[1,\"#276419\"]]},\"xaxis\":{\"gridcolor\":\"white\",\"linecolor\":\"white\",\"ticks\":\"\",\"title\":{\"standoff\":15},\"zerolinecolor\":\"white\",\"automargin\":true,\"zerolinewidth\":2},\"yaxis\":{\"gridcolor\":\"white\",\"linecolor\":\"white\",\"ticks\":\"\",\"title\":{\"standoff\":15},\"zerolinecolor\":\"white\",\"automargin\":true,\"zerolinewidth\":2},\"scene\":{\"xaxis\":{\"backgroundcolor\":\"#E5ECF6\",\"gridcolor\":\"white\",\"linecolor\":\"white\",\"showbackground\":true,\"ticks\":\"\",\"zerolinecolor\":\"white\",\"gridwidth\":2},\"yaxis\":{\"backgroundcolor\":\"#E5ECF6\",\"gridcolor\":\"white\",\"linecolor\":\"white\",\"showbackground\":true,\"ticks\":\"\",\"zerolinecolor\":\"white\",\"gridwidth\":2},\"zaxis\":{\"backgroundcolor\":\"#E5ECF6\",\"gridcolor\":\"white\",\"linecolor\":\"white\",\"showbackground\":true,\"ticks\":\"\",\"zerolinecolor\":\"white\",\"gridwidth\":2}},\"shapedefaults\":{\"line\":{\"color\":\"#2a3f5f\"}},\"annotationdefaults\":{\"arrowcolor\":\"#2a3f5f\",\"arrowhead\":0,\"arrowwidth\":1},\"geo\":{\"bgcolor\":\"white\",\"landcolor\":\"#E5ECF6\",\"subunitcolor\":\"white\",\"showland\":true,\"showlakes\":true,\"lakecolor\":\"white\"},\"title\":{\"x\":0.05},\"mapbox\":{\"style\":\"light\"}}},\"legend\":{\"title\":{\"text\":\"Cluster\"},\"tracegroupgap\":0,\"font\":{\"size\":14}},\"margin\":{\"t\":60},\"dragmode\":\"select\",\"font\":{\"family\":\"Courier New, monospace\",\"size\":12,\"color\":\"black\"},\"paper_bgcolor\":\"rgba(0,0,0,0)\",\"plot_bgcolor\":\"rgba(245, 245, 245, 1)\",\"showlegend\":true,\"xaxis\":{\"showgrid\":true,\"gridwidth\":0.5,\"gridcolor\":\"rgba(200, 200, 200, 0.5)\"},\"yaxis\":{\"showgrid\":true,\"gridwidth\":0.5,\"gridcolor\":\"rgba(200, 200, 200, 0.5)\"},\"width\":1000,\"height\":1000},                        {\"responsive\": true}                    ).then(function(){\n",
       "                            \n",
       "var gd = document.getElementById('94215c51-8c8f-42b3-a855-761f78aa4b6e');\n",
       "var x = new MutationObserver(function (mutations, observer) {{\n",
       "        var display = window.getComputedStyle(gd).display;\n",
       "        if (!display || display === 'none') {{\n",
       "            console.log([gd, 'removed!']);\n",
       "            Plotly.purge(gd);\n",
       "            observer.disconnect();\n",
       "        }}\n",
       "}});\n",
       "\n",
       "// Listen for the removal of the full notebook cells\n",
       "var notebookContainer = gd.closest('#notebook-container');\n",
       "if (notebookContainer) {{\n",
       "    x.observe(notebookContainer, {childList: true});\n",
       "}}\n",
       "\n",
       "// Listen for the clearing of the current output cell\n",
       "var outputEl = gd.closest('.output');\n",
       "if (outputEl) {{\n",
       "    x.observe(outputEl, {childList: true});\n",
       "}}\n",
       "\n",
       "                        })                };                });            </script>        </div>"
      ]
     },
     "metadata": {},
     "output_type": "display_data"
    }
   ],
   "source": [
    "# Convert dictionary keys to a list\n",
    "name_list = list(cluster_ranking.keys())\n",
    "\n",
    "# Add the list as a new column to the dataframe\n",
    "df_cluster['Names'] = name_list\n",
    "\n",
    "df_cluster.set_index('Names', inplace=True)\n",
    "\n",
    "fig = px.scatter_matrix(\n",
    "    data_frame=df_cluster,\n",
    "    dimensions=subset_cols,\n",
    "    color=\"Cluster\",\n",
    "    hover_name=df_cluster.index,  # Assuming the player's name is the index\n",
    "    labels={col: col for col in subset_cols}  # Optional if you want to customize axis labels\n",
    ")\n",
    "\n",
    "# Customize the appearance (optional)\n",
    "fig.update_traces(diagonal_visible=diagonal_is_visible, showupperhalf=showupperhalf)\n",
    "\n",
    "# improving UI\n",
    "fig.update_layout(\n",
    "    paper_bgcolor='rgba(0,0,0,0)',   # Transparent background outside the plot\n",
    "    plot_bgcolor='rgba(245, 245, 245, 1)',  # Light gray plot background\n",
    "    showlegend=True,\n",
    "    font=dict(\n",
    "        family=\"Courier New, monospace\",  # Choose a font family\n",
    "        size=font_size,  # Adjust the font size\n",
    "        color=\"black\"  # Font color\n",
    "    )\n",
    ")\n",
    "fig.update_xaxes(showgrid=True, gridwidth=0.5, gridcolor='rgba(200, 200, 200, 0.5)')\n",
    "fig.update_yaxes(showgrid=True, gridwidth=0.5, gridcolor='rgba(200, 200, 200, 0.5)')\n",
    "\n",
    "fig.update_layout(width=width, height=height)  # Adjust as necessary\n",
    "fig.update_traces(marker=dict(size=marker_size))  # Adjust marker size as needed\n",
    "\n",
    "fig.update_layout(legend=dict(font=dict(size=legend_size)))\n",
    "\n",
    "# Save the plot as HTML\n",
    "if save_fig:\n",
    "    fig.write_html(\"../interactive-2.0/QB/2023-review/fantasy-points-per-game-cluster.html\")\n",
    "\n",
    "fig.show()"
   ]
  },
  {
   "cell_type": "code",
   "execution_count": 52,
   "id": "dfcb0764",
   "metadata": {},
   "outputs": [],
   "source": [
    "import pandas as pd\n",
    "\n",
    "# <h3 class=\"h3-blog\">WRs as Three Tiers</h3>\n",
    "#             <p class=\"blog-p-tag\">\n",
    "#                 Starting off with three tiers:\n",
    "#             </p>\n",
    "#             <div class=\"iframe-container\">\n",
    "#                 <iframe class=\"large-iframe\" data-src=\"/Fantasy/Analysis/interactive/QB/clustering-3.html\"></iframe>\n",
    "#             </div>\n",
    "\n",
    "num_2_word = {\n",
    "    3: \"Three\",\n",
    "    4: \"Four\",\n",
    "    5: \"Five\",\n",
    "    6: \"Six\",\n",
    "    7: \"Seven\"\n",
    "}\n",
    "STARTING_INDENT = 3\n",
    "\n",
    "def indent(num_indents):\n",
    "    return \"\\t\" * num_indents\n",
    "\n",
    "def html_breaking_down_clusters(keys, suffix):\n",
    "    \"\"\"\"\"\"\n",
    "    print(f\"{indent(STARTING_INDENT)}<div>\")\n",
    "    \n",
    "    print(f\"{indent(STARTING_INDENT + 1)}<h3 class='h3-blog'>{position}s as {num_2_word[len(keys)]} Tiers</h3>\")\n",
    "    print(f\"{indent(STARTING_INDENT + 1)}<p class='blog-p-tag'>\")\n",
    "    print(f\"{indent(STARTING_INDENT + 2)}TODO\")\n",
    "    print(f\"{indent(STARTING_INDENT + 1)}</p>\")\n",
    "    print(f\"{indent(STARTING_INDENT + 1)}<div class='iframe-container'>\")\n",
    "    if suffix:\n",
    "        append = f\"-{suffix}\"\n",
    "    else:\n",
    "        append = \"\"\n",
    "    print(f\"{indent(STARTING_INDENT + 2)}<iframe class='large-iframe' data-src='/Fantasy/Analysis/interactive/{position}/clustering-{len(keys)}{append}.html'></iframe>\")\n",
    "    print(f\"{indent(STARTING_INDENT + 1)}</div>\")\n",
    "    \n",
    "    print(f\"{indent(STARTING_INDENT + 1)}<p class='blog-p-tag'>\")\n",
    "    print(f\"{indent(STARTING_INDENT + 2)}TODO:\")\n",
    "    print(f\"{indent(STARTING_INDENT + 2)}<ul class='bullet-list'>\")\n",
    "    for key in keys:\n",
    "        print(f\"{indent(STARTING_INDENT + 3)}<li><b>Cluster {key}:</b> TODO</li>\")\n",
    "        \n",
    "    print(f\"{indent(STARTING_INDENT + 2)}</ul>\")\n",
    "\n",
    "def create_cluster_html_tiers(df: pd.DataFrame, suffix: str) -> None:\n",
    "    cluster_dict = dict()\n",
    "    for index, row in df.iterrows():\n",
    "        if row.Cluster not in cluster_dict:\n",
    "            cluster_dict[row.Cluster] = [index]\n",
    "        else:\n",
    "            cluster_dict[row.Cluster].append(index)\n",
    "            \n",
    "    sorted_cluster_dict = dict(sorted(cluster_dict.items()))\n",
    "    keys = list(sorted_cluster_dict.keys())\n",
    "    \n",
    "    \n",
    "    html_breaking_down_clusters(keys, suffix)\n",
    "    print(f\"{indent(STARTING_INDENT + 1)}<div style='display: flex; justify-content: space-evenly;''>\")\n",
    "    for key in keys:\n",
    "        names = cluster_dict[key]\n",
    "        \n",
    "        print(f\"{indent(STARTING_INDENT + 2)}<div>\")\n",
    "        print(f\"{indent(STARTING_INDENT + 3)}<b>Cluster {key} ()</b>\")\n",
    "        print(f\"{indent(STARTING_INDENT + 3)}<ul class='bullet-list'>\")\n",
    "        for name in names:\n",
    "            print(f\"{indent(STARTING_INDENT + 4)}<li>{name}</li>\")\n",
    "        print(f\"{indent(STARTING_INDENT + 3)}</ul>\")\n",
    "        print(f\"{indent(STARTING_INDENT + 2)}</div>\")\n",
    "        if key != keys[-1]:\n",
    "            print()\n",
    "    print(f\"{indent(STARTING_INDENT + 1)}</div>\")\n",
    "    print(f\"\"\"{indent(STARTING_INDENT + 1)}</p>\n",
    "{indent(STARTING_INDENT + 1)}<p class=\"blog-p-tag\">\n",
    "{indent(STARTING_INDENT + 2)}TODO\n",
    "{indent(STARTING_INDENT + 1)}</p>\"\"\")\n",
    "    print(f\"{indent(STARTING_INDENT)}</div>\")"
   ]
  },
  {
   "cell_type": "code",
   "execution_count": 53,
   "id": "63e48229",
   "metadata": {},
   "outputs": [
    {
     "name": "stdout",
     "output_type": "stream",
     "text": [
      "\t\t<div>\n",
      "\t\t\t<div>\n",
      "\t\t\t\t<h3 class='h3-blog'>QBs as Six Tiers</h3>\n",
      "\t\t\t\t<p class='blog-p-tag'>\n",
      "\t\t\t\t\tTODO\n",
      "\t\t\t\t</p>\n",
      "\t\t\t\t<div class='iframe-container'>\n",
      "\t\t\t\t\t<iframe class='large-iframe' data-src='/Fantasy/Analysis/interactive/QB/clustering-6.html'></iframe>\n",
      "\t\t\t\t</div>\n",
      "\t\t\t\t<p class='blog-p-tag'>\n",
      "\t\t\t\t\tTODO:\n",
      "\t\t\t\t\t<ul class='bullet-list'>\n",
      "\t\t\t\t\t\t<li><b>Cluster 0:</b> TODO</li>\n",
      "\t\t\t\t\t\t<li><b>Cluster 1:</b> TODO</li>\n",
      "\t\t\t\t\t\t<li><b>Cluster 2:</b> TODO</li>\n",
      "\t\t\t\t\t\t<li><b>Cluster 3:</b> TODO</li>\n",
      "\t\t\t\t\t\t<li><b>Cluster 4:</b> TODO</li>\n",
      "\t\t\t\t\t\t<li><b>Cluster 5:</b> TODO</li>\n",
      "\t\t\t\t\t</ul>\n",
      "\t\t\t\t<div style='display: flex; justify-content: space-evenly;''>\n",
      "\t\t\t\t\t<div>\n",
      "\t\t\t\t\t\t<b>Cluster 0 ()</b>\n",
      "\t\t\t\t\t\t<ul class='bullet-list'>\n",
      "\t\t\t\t\t\t\t<li>Sam Howell</li>\n",
      "\t\t\t\t\t\t\t<li>Jake Browning</li>\n",
      "\t\t\t\t\t\t\t<li>Trevor Lawrence</li>\n",
      "\t\t\t\t\t\t\t<li>Russell Wilson</li>\n",
      "\t\t\t\t\t\t\t<li>Patrick Mahomes</li>\n",
      "\t\t\t\t\t\t\t<li>Justin Herbert</li>\n",
      "\t\t\t\t\t\t\t<li>C.J. Stroud</li>\n",
      "\t\t\t\t\t\t\t<li>Kyler Murray</li>\n",
      "\t\t\t\t\t\t\t<li>Jordan Love</li>\n",
      "\t\t\t\t\t\t</ul>\n",
      "\t\t\t\t\t</div>\n",
      "\n",
      "\t\t\t\t\t<div>\n",
      "\t\t\t\t\t\t<b>Cluster 1 ()</b>\n",
      "\t\t\t\t\t\t<ul class='bullet-list'>\n",
      "\t\t\t\t\t\t\t<li>Nick Mullens</li>\n",
      "\t\t\t\t\t\t\t<li>Derek Carr</li>\n",
      "\t\t\t\t\t\t\t<li>Joe Burrow</li>\n",
      "\t\t\t\t\t\t\t<li>Geno Smith</li>\n",
      "\t\t\t\t\t\t\t<li>Tua Tagovailoa</li>\n",
      "\t\t\t\t\t\t\t<li>Baker Mayfield</li>\n",
      "\t\t\t\t\t\t\t<li>Matthew Stafford</li>\n",
      "\t\t\t\t\t\t\t<li>Jared Goff</li>\n",
      "\t\t\t\t\t\t</ul>\n",
      "\t\t\t\t\t</div>\n",
      "\n",
      "\t\t\t\t\t<div>\n",
      "\t\t\t\t\t\t<b>Cluster 2 ()</b>\n",
      "\t\t\t\t\t\t<ul class='bullet-list'>\n",
      "\t\t\t\t\t\t\t<li>Gardner Minshew</li>\n",
      "\t\t\t\t\t\t\t<li>Taylor Heinicke</li>\n",
      "\t\t\t\t\t\t\t<li>Easton Stick</li>\n",
      "\t\t\t\t\t\t\t<li>Deshaun Watson</li>\n",
      "\t\t\t\t\t\t\t<li>Joshua Dobbs</li>\n",
      "\t\t\t\t\t\t</ul>\n",
      "\t\t\t\t\t</div>\n",
      "\n",
      "\t\t\t\t\t<div>\n",
      "\t\t\t\t\t\t<b>Cluster 3 ()</b>\n",
      "\t\t\t\t\t\t<ul class='bullet-list'>\n",
      "\t\t\t\t\t\t\t<li>Justin Fields</li>\n",
      "\t\t\t\t\t\t\t<li>Lamar Jackson</li>\n",
      "\t\t\t\t\t\t</ul>\n",
      "\t\t\t\t\t</div>\n",
      "\n",
      "\t\t\t\t\t<div>\n",
      "\t\t\t\t\t\t<b>Cluster 4 ()</b>\n",
      "\t\t\t\t\t\t<ul class='bullet-list'>\n",
      "\t\t\t\t\t\t\t<li>Jalen Hurts</li>\n",
      "\t\t\t\t\t\t\t<li>Josh Allen</li>\n",
      "\t\t\t\t\t\t</ul>\n",
      "\t\t\t\t\t</div>\n",
      "\n",
      "\t\t\t\t\t<div>\n",
      "\t\t\t\t\t\t<b>Cluster 5 ()</b>\n",
      "\t\t\t\t\t\t<ul class='bullet-list'>\n",
      "\t\t\t\t\t\t\t<li>Brock Purdy</li>\n",
      "\t\t\t\t\t\t\t<li>Kirk Cousins</li>\n",
      "\t\t\t\t\t\t\t<li>Dak Prescott</li>\n",
      "\t\t\t\t\t\t\t<li>Joe Flacco</li>\n",
      "\t\t\t\t\t\t</ul>\n",
      "\t\t\t\t\t</div>\n",
      "\t\t\t\t</div>\n",
      "\t\t\t\t</p>\n",
      "\t\t\t\t<p class=\"blog-p-tag\">\n",
      "\t\t\t\t\tTODO\n",
      "\t\t\t\t</p>\n",
      "\t\t\t</div>\n",
      "\n",
      "\t\t</div>\n"
     ]
    }
   ],
   "source": [
    "print(f\"{indent(STARTING_INDENT - 1)}<div>\")\n",
    "create_cluster_html_tiers(df_cluster, \"\")\n",
    "print()\n",
    "print(f\"{indent(STARTING_INDENT - 1)}</div>\")"
   ]
  },
  {
   "cell_type": "code",
   "execution_count": null,
   "id": "2ed2dcaf",
   "metadata": {},
   "outputs": [],
   "source": []
  },
  {
   "cell_type": "code",
   "execution_count": null,
   "id": "f6ddcdd6",
   "metadata": {},
   "outputs": [],
   "source": []
  }
 ],
 "metadata": {
  "kernelspec": {
   "display_name": "plotly",
   "language": "python",
   "name": "plotly"
  },
  "language_info": {
   "codemirror_mode": {
    "name": "ipython",
    "version": 3
   },
   "file_extension": ".py",
   "mimetype": "text/x-python",
   "name": "python",
   "nbconvert_exporter": "python",
   "pygments_lexer": "ipython3",
   "version": "3.9.7"
  }
 },
 "nbformat": 4,
 "nbformat_minor": 5
}
