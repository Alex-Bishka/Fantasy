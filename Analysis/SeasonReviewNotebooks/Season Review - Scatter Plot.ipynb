{
 "cells": [
  {
   "cell_type": "markdown",
   "id": "b86826fa",
   "metadata": {},
   "source": [
    "# Imports"
   ]
  },
  {
   "cell_type": "code",
   "execution_count": null,
   "id": "fefb1ff0",
   "metadata": {},
   "outputs": [],
   "source": [
    "from sklearn.cluster import KMeans\n",
    "from sklearn.preprocessing import StandardScaler\n",
    "import numpy as np\n",
    "import pandas as pd\n",
    "import matplotlib.pyplot as plt\n",
    "import plotly.express as px"
   ]
  },
  {
   "cell_type": "markdown",
   "id": "cf802385",
   "metadata": {},
   "source": [
    "# Grabbing Data"
   ]
  },
  {
   "cell_type": "code",
   "execution_count": null,
   "id": "17de234c",
   "metadata": {},
   "outputs": [],
   "source": [
    "df_all = pd.read_pickle(\"../interactive/df_all_2005_2023.pkl\")"
   ]
  },
  {
   "cell_type": "code",
   "execution_count": null,
   "id": "0ec93fc0",
   "metadata": {},
   "outputs": [],
   "source": [
    "season = 2023\n",
    "position = 'QB'"
   ]
  },
  {
   "cell_type": "code",
   "execution_count": null,
   "id": "c37a5f78",
   "metadata": {},
   "outputs": [],
   "source": [
    "df_review = df_all.query(f\"season == {season} and position == '{position}' and games >= 5\")"
   ]
  },
  {
   "cell_type": "markdown",
   "id": "5935e849",
   "metadata": {},
   "source": [
    "### Verifying Data"
   ]
  },
  {
   "cell_type": "code",
   "execution_count": null,
   "id": "bfd4a5b4",
   "metadata": {},
   "outputs": [],
   "source": [
    "assert(df_review[\"position\"].unique()[0] == position)\n",
    "assert(df_review[\"season\"].unique()[0] == season)\n",
    "assert(df_review[\"games\"].max() == 17)"
   ]
  },
  {
   "cell_type": "markdown",
   "id": "50d54441",
   "metadata": {},
   "source": [
    "# Line Graph"
   ]
  },
  {
   "cell_type": "code",
   "execution_count": null,
   "id": "be871fb3",
   "metadata": {},
   "outputs": [],
   "source": [
    "df_review.columns"
   ]
  },
  {
   "cell_type": "code",
   "execution_count": null,
   "id": "94425497",
   "metadata": {},
   "outputs": [],
   "source": [
    "col_to_graph = \"dakota\""
   ]
  },
  {
   "cell_type": "code",
   "execution_count": null,
   "id": "0c76afa9",
   "metadata": {},
   "outputs": [],
   "source": [
    "df_sorted = df_review.sort_values(by=col_to_graph, ascending=True).copy()"
   ]
  },
  {
   "cell_type": "code",
   "execution_count": null,
   "id": "22994d3a",
   "metadata": {},
   "outputs": [],
   "source": [
    "per_game = True"
   ]
  },
  {
   "cell_type": "code",
   "execution_count": null,
   "id": "f65e2385",
   "metadata": {},
   "outputs": [],
   "source": [
    "if per_game:\n",
    "    df_sorted[f\"{col_to_graph}_per_game\"] = df_sorted[col_to_graph] / df_sorted[\"games\"]\n",
    "    col_to_graph += \"_per_game\"\n",
    "    df_sorted.sort_values(by=col_to_graph, ascending=True, inplace=True)"
   ]
  },
  {
   "cell_type": "code",
   "execution_count": null,
   "id": "c72b1f8d",
   "metadata": {},
   "outputs": [],
   "source": [
    "df_sorted.reset_index(inplace=True)"
   ]
  },
  {
   "cell_type": "code",
   "execution_count": null,
   "id": "1a669866",
   "metadata": {},
   "outputs": [],
   "source": [
    "# Calculate the reverse index for each row (starting from the bottom)\n",
    "reverse_index = (len(df_sorted) - 1) - df_sorted.index\n",
    "\n",
    "# Calculate the group for each row based on the reverse index\n",
    "group = reverse_index // 12"
   ]
  },
  {
   "cell_type": "code",
   "execution_count": null,
   "id": "4aa06fbb",
   "metadata": {},
   "outputs": [],
   "source": [
    "# Map each group to a color\n",
    "colors = {0: 'Tier 1', 1: 'Tier 2', 2: 'Tier 3', 3: 'Tier 4', 4: 'Tier 5', 5: 'Tier 6'}\n",
    "df_sorted['Color'] = group.map(colors)"
   ]
  },
  {
   "cell_type": "code",
   "execution_count": null,
   "id": "07ea279c",
   "metadata": {},
   "outputs": [],
   "source": [
    "# scatter plot\n",
    "start_index = -30\n",
    "fig = px.scatter(df_sorted[start_index:], x=\"player_name\", y=col_to_graph, color='Color')\n",
    "\n",
    "# Add a horizontal line at qb1 line\n",
    "qb1_line_h = df_sorted[col_to_graph].iloc[-12]\n",
    "fig.add_shape(type=\"line\",\n",
    "              x0=0, x1=1, y0=qb1_line_h, y1=qb1_line_h,\n",
    "              line=dict(color=\"black\", width=2),\n",
    "              xref=\"paper\", yref=\"y\")\n",
    "\n",
    "# add a vertical line at qb1\n",
    "qb1_line_v = df_sorted[\"player_name\"].iloc[-12]\n",
    "fig.add_shape(type=\"line\",\n",
    "              x0=qb1_line_v, x1=qb1_line_v, y0=df_sorted[col_to_graph].iloc[start_index - 10], \n",
    "              y1=df_sorted[col_to_graph].max()* 1.1,\n",
    "              line=dict(color=\"black\", width=2),\n",
    "              xref=\"x\", yref=\"y\")\n",
    "\n",
    "# Add a horizontal line at qb2 line\n",
    "qb2_line_h = df_sorted[col_to_graph].iloc[-24]\n",
    "fig.add_shape(type=\"line\",\n",
    "              x0=0, x1=1, y0=qb2_line_h, y1=qb2_line_h,\n",
    "              line=dict(color=\"black\", width=2),\n",
    "              xref=\"paper\", yref=\"y\")\n",
    "\n",
    "# add a vertical line at qb2\n",
    "qb2_line_v = df_sorted[\"player_name\"].iloc[-24]\n",
    "fig.add_shape(type=\"line\",\n",
    "              x0=qb2_line_v, x1=qb2_line_v, y0=df_sorted[col_to_graph].iloc[start_index - 10], \n",
    "              y1=df_sorted[col_to_graph].max()* 1.1,\n",
    "              line=dict(color=\"black\", width=2),\n",
    "              xref=\"x\", yref=\"y\")\n",
    "\n",
    "fig.update_traces(marker=dict(size=12))\n",
    "\n",
    "fig.update_layout(\n",
    "    title='2023 QB Dakoa',\n",
    "    xaxis_title=\"Player Names\",\n",
    "    yaxis_title='Dakota (Per Game)',\n",
    "    legend_title='QB Tiers',\n",
    ")\n",
    "        \n",
    "fig.write_html(\"../interactive-2.0/QB/2023-review-pt2/dakota-per-game.html\")\n",
    "fig.show()"
   ]
  },
  {
   "cell_type": "code",
   "execution_count": null,
   "id": "55ea4e17",
   "metadata": {},
   "outputs": [],
   "source": []
  }
 ],
 "metadata": {
  "kernelspec": {
   "display_name": "plotly",
   "language": "python",
   "name": "plotly"
  },
  "language_info": {
   "codemirror_mode": {
    "name": "ipython",
    "version": 3
   },
   "file_extension": ".py",
   "mimetype": "text/x-python",
   "name": "python",
   "nbconvert_exporter": "python",
   "pygments_lexer": "ipython3",
   "version": "3.9.7"
  }
 },
 "nbformat": 4,
 "nbformat_minor": 5
}
