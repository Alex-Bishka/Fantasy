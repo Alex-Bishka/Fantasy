{
 "cells": [
  {
   "cell_type": "markdown",
   "id": "fbfa5cf2",
   "metadata": {},
   "source": [
    "# Imports"
   ]
  },
  {
   "cell_type": "code",
   "execution_count": 6,
   "id": "aeee210d",
   "metadata": {},
   "outputs": [],
   "source": [
    "# !pip install --upgrade scipy\n",
    "# !pip install --upgrade scikit-learn threadpoolctl"
   ]
  },
  {
   "cell_type": "code",
   "execution_count": null,
   "id": "3984a115",
   "metadata": {},
   "outputs": [],
   "source": [
    "from utils.utils import grab_data\n",
    "from utils.clustering import create_cluster_data, get_candidate_cluster_n_values, create_clusters, create_cluster_df, graph_pair_plot"
   ]
  },
  {
   "cell_type": "markdown",
   "id": "109b58a1",
   "metadata": {},
   "source": [
    "# Grabbing Data"
   ]
  },
  {
   "cell_type": "code",
   "execution_count": null,
   "id": "e962fff6",
   "metadata": {},
   "outputs": [],
   "source": [
    "seasons = grab_data(by_position=True, by_player=False)"
   ]
  },
  {
   "cell_type": "code",
   "execution_count": null,
   "id": "736c6a8e",
   "metadata": {},
   "outputs": [],
   "source": [
    "seasons_dict = dict()\n",
    "for year, season in seasons:\n",
    "    seasons_dict[year] = season\n",
    "\n",
    "seasons_dict[\"2010\"].keys()"
   ]
  },
  {
   "cell_type": "markdown",
   "id": "6044aeea",
   "metadata": {},
   "source": [
    "## QB Data"
   ]
  },
  {
   "cell_type": "code",
   "execution_count": null,
   "id": "e4bb6508",
   "metadata": {},
   "outputs": [],
   "source": [
    "qbs = seasons_dict[\"2022\"][\"QB\"]\n",
    "qbs.sort()\n",
    "qbs.reverse()"
   ]
  },
  {
   "cell_type": "markdown",
   "id": "a1a7e5aa",
   "metadata": {},
   "source": [
    "## RB Data"
   ]
  },
  {
   "cell_type": "code",
   "execution_count": null,
   "id": "397918a4",
   "metadata": {},
   "outputs": [],
   "source": [
    "rbs = seasons_dict[\"2022\"][\"RB\"]\n",
    "rbs.sort()\n",
    "rbs.reverse()"
   ]
  },
  {
   "cell_type": "markdown",
   "id": "64fad3f5",
   "metadata": {},
   "source": [
    "## WR Data"
   ]
  },
  {
   "cell_type": "code",
   "execution_count": null,
   "id": "f2f7e998",
   "metadata": {},
   "outputs": [],
   "source": [
    "wrs = seasons_dict[\"2022\"][\"WR\"]\n",
    "wrs.sort()\n",
    "wrs.reverse()"
   ]
  },
  {
   "cell_type": "markdown",
   "id": "07077a99",
   "metadata": {},
   "source": [
    "## TE Data"
   ]
  },
  {
   "cell_type": "code",
   "execution_count": null,
   "id": "32461c40",
   "metadata": {},
   "outputs": [],
   "source": [
    "tes = seasons_dict[\"2022\"][\"TE\"]\n",
    "tes.sort()\n",
    "tes.reverse()"
   ]
  },
  {
   "cell_type": "markdown",
   "id": "32542bd5",
   "metadata": {},
   "source": [
    "# Position"
   ]
  },
  {
   "cell_type": "code",
   "execution_count": null,
   "id": "51404f59",
   "metadata": {},
   "outputs": [],
   "source": [
    "players = rbs[:40]\n",
    "position = players[0].position"
   ]
  },
  {
   "cell_type": "markdown",
   "id": "0c3a639d",
   "metadata": {},
   "source": [
    "# Testing Function"
   ]
  },
  {
   "cell_type": "markdown",
   "id": "d904da63",
   "metadata": {},
   "source": [
    "## Generating X"
   ]
  },
  {
   "cell_type": "code",
   "execution_count": null,
   "id": "f6ac5ef5",
   "metadata": {},
   "outputs": [],
   "source": [
    "# for receiving stats\n",
    "# stats = [\"Receiving Yards\", \"Receptions\", \"Receiving TDs\", \"Targets\"]\n",
    "# stats = [\"Receiving Yards Per Game\", \"Receptions Per Game\", \"Receiving TDs Per Game\", \"Targets Per Game\"]\n",
    "\n",
    "# for passing stats\n",
    "# stats = [\"Passing Yards\", \"Attempts\", \"Completions\", \"Passing Touchdowns\", \"Passing Interceptions\"]\n",
    "# stats = []\n",
    "\n",
    "# for rushing stats\n",
    "# stats = [\"Rushing Yards\", \"Carries\", \"Yards Per Carry\", \"Rushing Touchdowns\", \"Fumbles\"]\n",
    "# stats = [\"Rushing Yards Per Game\", \"Carries Per Game\", \"Yards Per Carry\", \"Rushing Touchdowns Per Game\", \"Fumbles Per Game\"]\n",
    "\n",
    "# rushing and receiving\n",
    "# stats = [\"Receiving Yards\", \"Receptions\", \"Receiving TDs\", \"Targets\", \"Rushing Yards\", \"Carries\", \"Yards Per Carry\", \"Rushing Touchdowns\", \"Fumbles\"]\n",
    "stats = [\"Receiving Yards Per Game\", \"Receptions Per Game\", \"Receiving TDs Per Game\", \"Targets Per Game\", \n",
    "         \"Rushing Yards Per Game\", \"Carries Per Game\", \"Yards Per Carry\", \"Rushing Touchdowns Per Game\", \n",
    "         \"Fumbles Per Game\"]\n",
    "\n"
   ]
  },
  {
   "cell_type": "code",
   "execution_count": null,
   "id": "631104ed",
   "metadata": {},
   "outputs": [],
   "source": [
    "X, X_scaled = create_cluster_data(players=players, stats=stats)"
   ]
  },
  {
   "cell_type": "code",
   "execution_count": null,
   "id": "84dd121f",
   "metadata": {},
   "outputs": [],
   "source": [
    "X_scaled"
   ]
  },
  {
   "cell_type": "markdown",
   "id": "91daa342",
   "metadata": {},
   "source": [
    "## Finding Optimal N Value"
   ]
  },
  {
   "cell_type": "code",
   "execution_count": null,
   "id": "96b28d48",
   "metadata": {},
   "outputs": [],
   "source": [
    "get_candidate_cluster_n_values(X_scaled=X_scaled)"
   ]
  },
  {
   "cell_type": "markdown",
   "id": "46a8e557",
   "metadata": {},
   "source": [
    "## Graph Clusters"
   ]
  },
  {
   "cell_type": "markdown",
   "id": "f98c580b",
   "metadata": {},
   "source": [
    "### Cluster Size 3"
   ]
  },
  {
   "cell_type": "code",
   "execution_count": null,
   "id": "005b8db6",
   "metadata": {},
   "outputs": [],
   "source": [
    "chosen_cluster_number = 3"
   ]
  },
  {
   "cell_type": "code",
   "execution_count": null,
   "id": "2046b08a",
   "metadata": {},
   "outputs": [],
   "source": [
    "labels_3, cluster_ranking_3 = create_clusters(cluster_num=chosen_cluster_number, X_scaled=X_scaled, players=players)"
   ]
  },
  {
   "cell_type": "code",
   "execution_count": null,
   "id": "35ea582b",
   "metadata": {},
   "outputs": [],
   "source": [
    "labels_3"
   ]
  },
  {
   "cell_type": "code",
   "execution_count": null,
   "id": "05089f9d",
   "metadata": {},
   "outputs": [],
   "source": [
    "cluster_ranking_3"
   ]
  },
  {
   "cell_type": "markdown",
   "id": "6df90bbb",
   "metadata": {},
   "source": [
    "### Cluster Size 4"
   ]
  },
  {
   "cell_type": "code",
   "execution_count": null,
   "id": "d10ab4ff",
   "metadata": {},
   "outputs": [],
   "source": [
    "chosen_cluster_number = 4"
   ]
  },
  {
   "cell_type": "code",
   "execution_count": null,
   "id": "14bf30a2",
   "metadata": {},
   "outputs": [],
   "source": [
    "labels_4, cluster_ranking_4 = create_clusters(cluster_num=chosen_cluster_number, X_scaled=X_scaled, players=players)"
   ]
  },
  {
   "cell_type": "code",
   "execution_count": null,
   "id": "bd48078a",
   "metadata": {},
   "outputs": [],
   "source": [
    "labels_4"
   ]
  },
  {
   "cell_type": "code",
   "execution_count": null,
   "id": "989dc501",
   "metadata": {},
   "outputs": [],
   "source": [
    "cluster_ranking_4"
   ]
  },
  {
   "cell_type": "markdown",
   "id": "10bc601e",
   "metadata": {},
   "source": [
    "### Cluster Size 5"
   ]
  },
  {
   "cell_type": "code",
   "execution_count": null,
   "id": "4eb9adab",
   "metadata": {},
   "outputs": [],
   "source": [
    "chosen_cluster_number = 5"
   ]
  },
  {
   "cell_type": "code",
   "execution_count": null,
   "id": "acc5297d",
   "metadata": {},
   "outputs": [],
   "source": [
    "labels_5, cluster_ranking_5 = create_clusters(cluster_num=chosen_cluster_number, X_scaled=X_scaled, players=players)"
   ]
  },
  {
   "cell_type": "code",
   "execution_count": null,
   "id": "1334f4d9",
   "metadata": {},
   "outputs": [],
   "source": [
    "labels_5"
   ]
  },
  {
   "cell_type": "code",
   "execution_count": null,
   "id": "37d9b353",
   "metadata": {},
   "outputs": [],
   "source": [
    "cluster_ranking_5"
   ]
  },
  {
   "cell_type": "markdown",
   "id": "d3b85e19",
   "metadata": {},
   "source": [
    "### Cluster 6 Size"
   ]
  },
  {
   "cell_type": "code",
   "execution_count": null,
   "id": "d757f9e4",
   "metadata": {},
   "outputs": [],
   "source": [
    "chosen_cluster_number = 6"
   ]
  },
  {
   "cell_type": "code",
   "execution_count": null,
   "id": "449a30ea",
   "metadata": {},
   "outputs": [],
   "source": [
    "labels_6, cluster_ranking_6 = create_clusters(cluster_num=chosen_cluster_number, X_scaled=X_scaled, players=players)"
   ]
  },
  {
   "cell_type": "code",
   "execution_count": null,
   "id": "4484e298",
   "metadata": {},
   "outputs": [],
   "source": [
    "labels_6"
   ]
  },
  {
   "cell_type": "code",
   "execution_count": null,
   "id": "78dd9074",
   "metadata": {},
   "outputs": [],
   "source": [
    "cluster_ranking_6"
   ]
  },
  {
   "cell_type": "markdown",
   "id": "a93dd033",
   "metadata": {},
   "source": [
    "### Cluster 7 Size"
   ]
  },
  {
   "cell_type": "code",
   "execution_count": null,
   "id": "e2d74ae5",
   "metadata": {},
   "outputs": [],
   "source": [
    "chosen_cluster_number = 7"
   ]
  },
  {
   "cell_type": "code",
   "execution_count": null,
   "id": "6ef34377",
   "metadata": {},
   "outputs": [],
   "source": [
    "labels_7, cluster_ranking_7 = create_clusters(cluster_num=chosen_cluster_number, X_scaled=X_scaled, players=players)"
   ]
  },
  {
   "cell_type": "code",
   "execution_count": null,
   "id": "bd248f1a",
   "metadata": {},
   "outputs": [],
   "source": [
    "labels_7"
   ]
  },
  {
   "cell_type": "code",
   "execution_count": null,
   "id": "8ca7b086",
   "metadata": {},
   "outputs": [],
   "source": [
    "cluster_ranking_7"
   ]
  },
  {
   "cell_type": "markdown",
   "id": "743700e3",
   "metadata": {},
   "source": [
    "# Graphing Clusters"
   ]
  },
  {
   "cell_type": "code",
   "execution_count": null,
   "id": "3a269001",
   "metadata": {},
   "outputs": [],
   "source": [
    "suffix = \"v2-per-game\""
   ]
  },
  {
   "cell_type": "markdown",
   "id": "eca95e7a",
   "metadata": {},
   "source": [
    "### 3 Clusters"
   ]
  },
  {
   "cell_type": "code",
   "execution_count": null,
   "id": "5df718cf",
   "metadata": {},
   "outputs": [],
   "source": [
    "df_3 = create_cluster_df(labels=labels_3, X=X, stats=stats)"
   ]
  },
  {
   "cell_type": "code",
   "execution_count": null,
   "id": "6b2a0d77",
   "metadata": {},
   "outputs": [],
   "source": [
    "df_3.head()"
   ]
  },
  {
   "cell_type": "code",
   "execution_count": null,
   "id": "2ddd1000",
   "metadata": {},
   "outputs": [],
   "source": [
    "graph_pair_plot(df=df_3, position=position, stats=stats, save_suffix=suffix)"
   ]
  },
  {
   "cell_type": "markdown",
   "id": "6eb39ab6",
   "metadata": {},
   "source": [
    "### 4 Clusters"
   ]
  },
  {
   "cell_type": "code",
   "execution_count": null,
   "id": "7358fea0",
   "metadata": {},
   "outputs": [],
   "source": [
    "df_4 = create_cluster_df(labels=labels_4, X=X, stats=stats)"
   ]
  },
  {
   "cell_type": "code",
   "execution_count": null,
   "id": "c8e9a91c",
   "metadata": {},
   "outputs": [],
   "source": [
    "graph_pair_plot(df=df_4, position=position, stats=stats, save_suffix=suffix)"
   ]
  },
  {
   "cell_type": "markdown",
   "id": "65a64fe1",
   "metadata": {},
   "source": [
    "### 5 Clusters"
   ]
  },
  {
   "cell_type": "code",
   "execution_count": null,
   "id": "392087ec",
   "metadata": {},
   "outputs": [],
   "source": [
    "df_5 = create_cluster_df(labels=labels_5, X=X, stats=stats)"
   ]
  },
  {
   "cell_type": "code",
   "execution_count": null,
   "id": "03126df8",
   "metadata": {},
   "outputs": [],
   "source": [
    "graph_pair_plot(df=df_5, position=position, stats=stats, save_suffix=suffix)"
   ]
  },
  {
   "cell_type": "markdown",
   "id": "d934accf",
   "metadata": {},
   "source": [
    "### 6 Clusters"
   ]
  },
  {
   "cell_type": "code",
   "execution_count": null,
   "id": "49b1f6d4",
   "metadata": {},
   "outputs": [],
   "source": [
    "df_6 = create_cluster_df(labels=labels_6, X=X, stats=stats)"
   ]
  },
  {
   "cell_type": "code",
   "execution_count": null,
   "id": "8d98b9be",
   "metadata": {},
   "outputs": [],
   "source": [
    "graph_pair_plot(df=df_6, position=position, stats=stats, save_suffix=suffix)"
   ]
  },
  {
   "cell_type": "markdown",
   "id": "27b79859",
   "metadata": {},
   "source": [
    "### 7 Clusters"
   ]
  },
  {
   "cell_type": "code",
   "execution_count": null,
   "id": "2ff5689a",
   "metadata": {},
   "outputs": [],
   "source": [
    "df_7 = create_cluster_df(labels=labels_7, X=X, stats=stats)"
   ]
  },
  {
   "cell_type": "code",
   "execution_count": null,
   "id": "b8460f24",
   "metadata": {},
   "outputs": [],
   "source": [
    "graph_pair_plot(df=df_7, position=position, stats=stats, save_suffix=suffix)"
   ]
  },
  {
   "cell_type": "code",
   "execution_count": null,
   "id": "77167f3f",
   "metadata": {},
   "outputs": [],
   "source": [
    "cluster_ranking_7"
   ]
  },
  {
   "cell_type": "code",
   "execution_count": null,
   "id": "9429dca3",
   "metadata": {},
   "outputs": [],
   "source": []
  }
 ],
 "metadata": {
  "kernelspec": {
   "display_name": "Python 3 (ipykernel)",
   "language": "python",
   "name": "python3"
  },
  "language_info": {
   "codemirror_mode": {
    "name": "ipython",
    "version": 3
   },
   "file_extension": ".py",
   "mimetype": "text/x-python",
   "name": "python",
   "nbconvert_exporter": "python",
   "pygments_lexer": "ipython3",
   "version": "3.9.7"
  }
 },
 "nbformat": 4,
 "nbformat_minor": 5
}
