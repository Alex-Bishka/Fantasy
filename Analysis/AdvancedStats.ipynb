{
 "cells": [
  {
   "cell_type": "markdown",
   "id": "7741ab23",
   "metadata": {},
   "source": [
    "# Imports"
   ]
  },
  {
   "cell_type": "code",
   "execution_count": null,
   "id": "d9a922a7",
   "metadata": {},
   "outputs": [],
   "source": [
    "from utils.nfl_data import (get_weekly_df, get_seasonal_df, get_roster_df,\n",
    "                            create_mappings, create_position_groups, create_positional_df)"
   ]
  },
  {
   "cell_type": "markdown",
   "id": "8c8b9fc3",
   "metadata": {},
   "source": [
    "# Setting Years List\n",
    "\n",
    "The years past into this list provides us with the data in each of those seasons."
   ]
  },
  {
   "cell_type": "code",
   "execution_count": null,
   "id": "e14f9b2a",
   "metadata": {},
   "outputs": [],
   "source": [
    "year = 2023\n",
    "years = [year]"
   ]
  },
  {
   "cell_type": "markdown",
   "id": "14d97e4e",
   "metadata": {},
   "source": [
    "# Seasonal and Weekly Data"
   ]
  },
  {
   "cell_type": "code",
   "execution_count": null,
   "id": "294e97d1",
   "metadata": {},
   "outputs": [],
   "source": [
    "df_weekly = get_weekly_df(years=years, columns=[])"
   ]
  },
  {
   "cell_type": "code",
   "execution_count": null,
   "id": "7b918ff6",
   "metadata": {},
   "outputs": [],
   "source": [
    "df_seasonal = get_seasonal_df(years=years)"
   ]
  },
  {
   "cell_type": "markdown",
   "id": "1f8e9f7e",
   "metadata": {},
   "source": [
    "# Roster ID\n",
    "\n",
    "For player mapping creations"
   ]
  },
  {
   "cell_type": "code",
   "execution_count": null,
   "id": "6e4f7eb5",
   "metadata": {},
   "outputs": [],
   "source": [
    "columns = [\"player_name\", \"player_id\", \"position\"]\n",
    "df_roster = get_roster_df(years=years, columns=columns)"
   ]
  },
  {
   "cell_type": "markdown",
   "id": "ceaa15e9",
   "metadata": {},
   "source": [
    "# Create Player Mappings"
   ]
  },
  {
   "cell_type": "code",
   "execution_count": null,
   "id": "18522141",
   "metadata": {},
   "outputs": [],
   "source": [
    "player_map, id_map = create_mappings(df_roster=df_roster, df_seasonal=df_seasonal, df_weekly=df_weekly)"
   ]
  },
  {
   "cell_type": "markdown",
   "id": "7cc03b2b",
   "metadata": {},
   "source": [
    "## Mapping Checks"
   ]
  },
  {
   "cell_type": "code",
   "execution_count": null,
   "id": "0f843680",
   "metadata": {},
   "outputs": [],
   "source": [
    "# kelce_id = id_map[\"Travis Kelce\"]"
   ]
  },
  {
   "cell_type": "code",
   "execution_count": null,
   "id": "c1ed2cf8",
   "metadata": {},
   "outputs": [],
   "source": [
    "# player_map[kelce_id][\"seasonal_df\"]"
   ]
  },
  {
   "cell_type": "code",
   "execution_count": null,
   "id": "9fe982a0",
   "metadata": {},
   "outputs": [],
   "source": [
    "# player_map[kelce_id][\"week_dfs\"][-1]"
   ]
  },
  {
   "cell_type": "markdown",
   "id": "97997ee5",
   "metadata": {},
   "source": [
    "# Creating Position Groups"
   ]
  },
  {
   "cell_type": "code",
   "execution_count": null,
   "id": "23982964",
   "metadata": {},
   "outputs": [],
   "source": [
    "qbs, rbs, wrs, tes = create_position_groups(player_map=player_map)"
   ]
  },
  {
   "cell_type": "code",
   "execution_count": null,
   "id": "db27f3f5",
   "metadata": {},
   "outputs": [],
   "source": [
    "df_qb = create_positional_df(qbs)\n",
    "df_rb = create_positional_df(rbs)\n",
    "df_wr = create_positional_df(wrs)\n",
    "df_te = create_positional_df(tes)"
   ]
  },
  {
   "cell_type": "code",
   "execution_count": null,
   "id": "bf1ec5f2",
   "metadata": {},
   "outputs": [],
   "source": [
    "df_qb.head(1)"
   ]
  },
  {
   "cell_type": "code",
   "execution_count": null,
   "id": "0f72ca17",
   "metadata": {},
   "outputs": [],
   "source": [
    "df_rb.head(1)"
   ]
  },
  {
   "cell_type": "code",
   "execution_count": null,
   "id": "c3e0faca",
   "metadata": {},
   "outputs": [],
   "source": [
    "df_wr.head(1)"
   ]
  },
  {
   "cell_type": "code",
   "execution_count": null,
   "id": "ff17b80b",
   "metadata": {},
   "outputs": [],
   "source": [
    "df_te.head(1)"
   ]
  },
  {
   "cell_type": "markdown",
   "id": "8919b17f",
   "metadata": {},
   "source": [
    "# Saving Data to CSV for Graphing Tools"
   ]
  },
  {
   "cell_type": "code",
   "execution_count": null,
   "id": "7c365506",
   "metadata": {},
   "outputs": [],
   "source": [
    "def clean_df_for_csv(df):\n",
    "    \"\"\"\"\"\"\n",
    "    df[\"name\"] = df[\"player_id\"].map(lambda x: player_map[x]['name'])\n",
    "    df.drop(columns=[\"player_id\", \"Index\"], inplace=True)\n",
    "    \n",
    "    df[\"total_epa\"] = df[\"passing_epa\"] + df[\"rushing_epa\"]\n",
    "    \n",
    "    ignore_cols = [\"name\", \"season\", \"season_type\", \"games\", \"target_share\", \"air_yards_share\"\n",
    "                  \"tgt_sh\", \"ay_sh\", \"yac_sh\", \"ry_sh\", \"rtd_sh\", \"rfd_sh\", \"rtdfd_sh\", \"ppr_sh\"]\n",
    "    for col in df_qb.columns.to_list():\n",
    "        if col not in ignore_cols:\n",
    "            df[f\"{col} per game\"] = df[col] / df[\"games\"]\n",
    "            \n",
    "    df = df[['name'] + [col for col in df.columns if col != \"name\"]]\n",
    "    return df"
   ]
  },
  {
   "cell_type": "markdown",
   "id": "25ea9149",
   "metadata": {},
   "source": [
    "## Quarterback Save"
   ]
  },
  {
   "cell_type": "code",
   "execution_count": null,
   "id": "4d78024f",
   "metadata": {},
   "outputs": [],
   "source": [
    "df_to_save_qb = clean_df_for_csv(df_qb)\n",
    "df_to_save_qb.head(1)"
   ]
  },
  {
   "cell_type": "code",
   "execution_count": null,
   "id": "96aa4cb2",
   "metadata": {},
   "outputs": [],
   "source": [
    "df_to_save_qb.to_csv(f\"FantasyData/advanced-stats/QB/{year}.csv\")"
   ]
  },
  {
   "cell_type": "markdown",
   "id": "fe68462a",
   "metadata": {},
   "source": [
    "## Running Back Save"
   ]
  },
  {
   "cell_type": "code",
   "execution_count": null,
   "id": "f0dd0d17",
   "metadata": {},
   "outputs": [],
   "source": [
    "df_to_save_rb = clean_df_for_csv(df_rb)\n",
    "df_to_save_rb.head(1)"
   ]
  },
  {
   "cell_type": "code",
   "execution_count": null,
   "id": "497c6068",
   "metadata": {},
   "outputs": [],
   "source": [
    "df_to_save_rb.to_csv(f\"FantasyData/advanced-stats/RB/{year}.csv\")"
   ]
  },
  {
   "cell_type": "markdown",
   "id": "329d172b",
   "metadata": {},
   "source": [
    "# Wide Receiver Save"
   ]
  },
  {
   "cell_type": "code",
   "execution_count": null,
   "id": "04f6e54b",
   "metadata": {},
   "outputs": [],
   "source": [
    "df_to_save_wr = clean_df_for_csv(df_wr)\n",
    "df_to_save_wr.head(1)"
   ]
  },
  {
   "cell_type": "code",
   "execution_count": null,
   "id": "94129a14",
   "metadata": {},
   "outputs": [],
   "source": [
    "df_to_save_wr.to_csv(f\"FantasyData/advanced-stats/WR/{year}.csv\")"
   ]
  },
  {
   "cell_type": "markdown",
   "id": "28d5004b",
   "metadata": {},
   "source": [
    "# Tight End Save"
   ]
  },
  {
   "cell_type": "code",
   "execution_count": null,
   "id": "83601dfc",
   "metadata": {},
   "outputs": [],
   "source": [
    "df_to_save_te = clean_df_for_csv(df_te)\n",
    "df_to_save_te.head(1)"
   ]
  },
  {
   "cell_type": "code",
   "execution_count": null,
   "id": "3c28380f",
   "metadata": {},
   "outputs": [],
   "source": [
    "df_to_save_te.to_csv(f\"FantasyData/advanced-stats/TE/{year}.csv\")"
   ]
  },
  {
   "cell_type": "code",
   "execution_count": null,
   "id": "6b4f32e9",
   "metadata": {},
   "outputs": [],
   "source": []
  }
 ],
 "metadata": {
  "kernelspec": {
   "display_name": "env",
   "language": "python",
   "name": "env"
  },
  "language_info": {
   "codemirror_mode": {
    "name": "ipython",
    "version": 3
   },
   "file_extension": ".py",
   "mimetype": "text/x-python",
   "name": "python",
   "nbconvert_exporter": "python",
   "pygments_lexer": "ipython3",
   "version": "3.9.7"
  }
 },
 "nbformat": 4,
 "nbformat_minor": 5
}
