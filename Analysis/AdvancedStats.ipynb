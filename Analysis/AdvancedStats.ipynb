{
 "cells": [
  {
   "cell_type": "markdown",
   "id": "7741ab23",
   "metadata": {},
   "source": [
    "# Imports"
   ]
  },
  {
   "cell_type": "code",
   "execution_count": 1,
   "id": "d9a922a7",
   "metadata": {},
   "outputs": [],
   "source": [
    "from utils.nfl_data import (get_weekly_df, get_seasonal_df, get_roster_df,\n",
    "                            create_mappings, create_position_groups, create_positional_df)"
   ]
  },
  {
   "cell_type": "markdown",
   "id": "8c8b9fc3",
   "metadata": {},
   "source": [
    "# Setting Years List\n",
    "\n",
    "The years past into this list provides us with the data in each of those seasons."
   ]
  },
  {
   "cell_type": "code",
   "execution_count": 2,
   "id": "e14f9b2a",
   "metadata": {},
   "outputs": [],
   "source": [
    "year = 2023\n",
    "years = [year]"
   ]
  },
  {
   "cell_type": "markdown",
   "id": "14d97e4e",
   "metadata": {},
   "source": [
    "# Seasonal and Weekly Data"
   ]
  },
  {
   "cell_type": "code",
   "execution_count": 3,
   "id": "294e97d1",
   "metadata": {},
   "outputs": [
    {
     "name": "stdout",
     "output_type": "stream",
     "text": [
      "Downcasting floats.\n"
     ]
    }
   ],
   "source": [
    "df_weekly = get_weekly_df(years=years, columns=[])"
   ]
  },
  {
   "cell_type": "code",
   "execution_count": 4,
   "id": "7b918ff6",
   "metadata": {},
   "outputs": [],
   "source": [
    "df_seasonal = get_seasonal_df(years=years)"
   ]
  },
  {
   "cell_type": "markdown",
   "id": "1f8e9f7e",
   "metadata": {},
   "source": [
    "# Roster ID\n",
    "\n",
    "For player mapping creations"
   ]
  },
  {
   "cell_type": "code",
   "execution_count": 5,
   "id": "6e4f7eb5",
   "metadata": {},
   "outputs": [],
   "source": [
    "columns = [\"player_name\", \"player_id\", \"position\"]\n",
    "df_roster = get_roster_df(years=years, columns=columns)"
   ]
  },
  {
   "cell_type": "markdown",
   "id": "ceaa15e9",
   "metadata": {},
   "source": [
    "# Create Player Mappings"
   ]
  },
  {
   "cell_type": "code",
   "execution_count": 6,
   "id": "18522141",
   "metadata": {},
   "outputs": [],
   "source": [
    "player_map, id_map = create_mappings(df_roster=df_roster, df_seasonal=df_seasonal, df_weekly=df_weekly)"
   ]
  },
  {
   "cell_type": "markdown",
   "id": "7cc03b2b",
   "metadata": {},
   "source": [
    "## Mapping Checks"
   ]
  },
  {
   "cell_type": "code",
   "execution_count": 7,
   "id": "0f843680",
   "metadata": {},
   "outputs": [],
   "source": [
    "# kelce_id = id_map[\"Travis Kelce\"]"
   ]
  },
  {
   "cell_type": "code",
   "execution_count": 8,
   "id": "c1ed2cf8",
   "metadata": {},
   "outputs": [],
   "source": [
    "# player_map[kelce_id][\"seasonal_df\"]"
   ]
  },
  {
   "cell_type": "code",
   "execution_count": 9,
   "id": "9fe982a0",
   "metadata": {},
   "outputs": [],
   "source": [
    "# player_map[kelce_id][\"week_dfs\"][-1]"
   ]
  },
  {
   "cell_type": "markdown",
   "id": "97997ee5",
   "metadata": {},
   "source": [
    "# Creating Position Groups"
   ]
  },
  {
   "cell_type": "code",
   "execution_count": 10,
   "id": "23982964",
   "metadata": {},
   "outputs": [],
   "source": [
    "qbs, rbs, wrs, tes = create_position_groups(player_map=player_map)"
   ]
  },
  {
   "cell_type": "code",
   "execution_count": 11,
   "id": "db27f3f5",
   "metadata": {},
   "outputs": [],
   "source": [
    "df_qb = create_positional_df(qbs)\n",
    "df_rb = create_positional_df(rbs)\n",
    "df_wr = create_positional_df(wrs)\n",
    "df_te = create_positional_df(tes)"
   ]
  },
  {
   "cell_type": "code",
   "execution_count": 12,
   "id": "bf1ec5f2",
   "metadata": {},
   "outputs": [
    {
     "data": {
      "text/html": [
       "<div>\n",
       "<style scoped>\n",
       "    .dataframe tbody tr th:only-of-type {\n",
       "        vertical-align: middle;\n",
       "    }\n",
       "\n",
       "    .dataframe tbody tr th {\n",
       "        vertical-align: top;\n",
       "    }\n",
       "\n",
       "    .dataframe thead th {\n",
       "        text-align: right;\n",
       "    }\n",
       "</style>\n",
       "<table border=\"1\" class=\"dataframe\">\n",
       "  <thead>\n",
       "    <tr style=\"text-align: right;\">\n",
       "      <th></th>\n",
       "      <th>Index</th>\n",
       "      <th>player_id</th>\n",
       "      <th>season</th>\n",
       "      <th>season_type</th>\n",
       "      <th>completions</th>\n",
       "      <th>attempts</th>\n",
       "      <th>passing_yards</th>\n",
       "      <th>passing_tds</th>\n",
       "      <th>interceptions</th>\n",
       "      <th>sacks</th>\n",
       "      <th>...</th>\n",
       "      <th>yac_sh</th>\n",
       "      <th>wopr_y</th>\n",
       "      <th>ry_sh</th>\n",
       "      <th>rtd_sh</th>\n",
       "      <th>rfd_sh</th>\n",
       "      <th>rtdfd_sh</th>\n",
       "      <th>dom</th>\n",
       "      <th>w8dom</th>\n",
       "      <th>yptmpa</th>\n",
       "      <th>ppr_sh</th>\n",
       "    </tr>\n",
       "  </thead>\n",
       "  <tbody>\n",
       "    <tr>\n",
       "      <th>0</th>\n",
       "      <td>0</td>\n",
       "      <td>00-0019596</td>\n",
       "      <td>2021</td>\n",
       "      <td>REG</td>\n",
       "      <td>485</td>\n",
       "      <td>719</td>\n",
       "      <td>5316.0</td>\n",
       "      <td>43</td>\n",
       "      <td>12.0</td>\n",
       "      <td>22.0</td>\n",
       "      <td>...</td>\n",
       "      <td>0.0</td>\n",
       "      <td>0.0</td>\n",
       "      <td>0.0</td>\n",
       "      <td>0.0</td>\n",
       "      <td>0.0</td>\n",
       "      <td>0.0</td>\n",
       "      <td>0.0</td>\n",
       "      <td>0.0</td>\n",
       "      <td>0.0</td>\n",
       "      <td>0.195705</td>\n",
       "    </tr>\n",
       "  </tbody>\n",
       "</table>\n",
       "<p>1 rows × 59 columns</p>\n",
       "</div>"
      ],
      "text/plain": [
       "   Index   player_id  season season_type  completions  attempts  \\\n",
       "0      0  00-0019596    2021         REG          485       719   \n",
       "\n",
       "   passing_yards  passing_tds  interceptions  sacks  ...  yac_sh  wopr_y  \\\n",
       "0         5316.0           43           12.0   22.0  ...     0.0     0.0   \n",
       "\n",
       "   ry_sh  rtd_sh  rfd_sh  rtdfd_sh  dom  w8dom  yptmpa    ppr_sh  \n",
       "0    0.0     0.0     0.0       0.0  0.0    0.0     0.0  0.195705  \n",
       "\n",
       "[1 rows x 59 columns]"
      ]
     },
     "execution_count": 12,
     "metadata": {},
     "output_type": "execute_result"
    }
   ],
   "source": [
    "df_qb.head(1)"
   ]
  },
  {
   "cell_type": "code",
   "execution_count": 13,
   "id": "0f72ca17",
   "metadata": {},
   "outputs": [
    {
     "data": {
      "text/html": [
       "<div>\n",
       "<style scoped>\n",
       "    .dataframe tbody tr th:only-of-type {\n",
       "        vertical-align: middle;\n",
       "    }\n",
       "\n",
       "    .dataframe tbody tr th {\n",
       "        vertical-align: top;\n",
       "    }\n",
       "\n",
       "    .dataframe thead th {\n",
       "        text-align: right;\n",
       "    }\n",
       "</style>\n",
       "<table border=\"1\" class=\"dataframe\">\n",
       "  <thead>\n",
       "    <tr style=\"text-align: right;\">\n",
       "      <th></th>\n",
       "      <th>Index</th>\n",
       "      <th>player_id</th>\n",
       "      <th>season</th>\n",
       "      <th>season_type</th>\n",
       "      <th>completions</th>\n",
       "      <th>attempts</th>\n",
       "      <th>passing_yards</th>\n",
       "      <th>passing_tds</th>\n",
       "      <th>interceptions</th>\n",
       "      <th>sacks</th>\n",
       "      <th>...</th>\n",
       "      <th>yac_sh</th>\n",
       "      <th>wopr_y</th>\n",
       "      <th>ry_sh</th>\n",
       "      <th>rtd_sh</th>\n",
       "      <th>rfd_sh</th>\n",
       "      <th>rtdfd_sh</th>\n",
       "      <th>dom</th>\n",
       "      <th>w8dom</th>\n",
       "      <th>yptmpa</th>\n",
       "      <th>ppr_sh</th>\n",
       "    </tr>\n",
       "  </thead>\n",
       "  <tbody>\n",
       "    <tr>\n",
       "      <th>0</th>\n",
       "      <td>7</td>\n",
       "      <td>00-0025394</td>\n",
       "      <td>2021</td>\n",
       "      <td>REG</td>\n",
       "      <td>0</td>\n",
       "      <td>0</td>\n",
       "      <td>0.0</td>\n",
       "      <td>0</td>\n",
       "      <td>0.0</td>\n",
       "      <td>0.0</td>\n",
       "      <td>...</td>\n",
       "      <td>0.031746</td>\n",
       "      <td>0.036857</td>\n",
       "      <td>0.008791</td>\n",
       "      <td>0.0</td>\n",
       "      <td>0.0</td>\n",
       "      <td>0.0</td>\n",
       "      <td>0.004396</td>\n",
       "      <td>0.007033</td>\n",
       "      <td>0.055944</td>\n",
       "      <td>0.078979</td>\n",
       "    </tr>\n",
       "  </tbody>\n",
       "</table>\n",
       "<p>1 rows × 59 columns</p>\n",
       "</div>"
      ],
      "text/plain": [
       "   Index   player_id  season season_type  completions  attempts  \\\n",
       "0      7  00-0025394    2021         REG            0         0   \n",
       "\n",
       "   passing_yards  passing_tds  interceptions  sacks  ...    yac_sh    wopr_y  \\\n",
       "0            0.0            0            0.0    0.0  ...  0.031746  0.036857   \n",
       "\n",
       "      ry_sh  rtd_sh  rfd_sh  rtdfd_sh       dom     w8dom    yptmpa    ppr_sh  \n",
       "0  0.008791     0.0     0.0       0.0  0.004396  0.007033  0.055944  0.078979  \n",
       "\n",
       "[1 rows x 59 columns]"
      ]
     },
     "execution_count": 13,
     "metadata": {},
     "output_type": "execute_result"
    }
   ],
   "source": [
    "df_rb.head(1)"
   ]
  },
  {
   "cell_type": "code",
   "execution_count": 14,
   "id": "c3e0faca",
   "metadata": {},
   "outputs": [
    {
     "data": {
      "text/html": [
       "<div>\n",
       "<style scoped>\n",
       "    .dataframe tbody tr th:only-of-type {\n",
       "        vertical-align: middle;\n",
       "    }\n",
       "\n",
       "    .dataframe tbody tr th {\n",
       "        vertical-align: top;\n",
       "    }\n",
       "\n",
       "    .dataframe thead th {\n",
       "        text-align: right;\n",
       "    }\n",
       "</style>\n",
       "<table border=\"1\" class=\"dataframe\">\n",
       "  <thead>\n",
       "    <tr style=\"text-align: right;\">\n",
       "      <th></th>\n",
       "      <th>Index</th>\n",
       "      <th>player_id</th>\n",
       "      <th>season</th>\n",
       "      <th>season_type</th>\n",
       "      <th>completions</th>\n",
       "      <th>attempts</th>\n",
       "      <th>passing_yards</th>\n",
       "      <th>passing_tds</th>\n",
       "      <th>interceptions</th>\n",
       "      <th>sacks</th>\n",
       "      <th>...</th>\n",
       "      <th>yac_sh</th>\n",
       "      <th>wopr_y</th>\n",
       "      <th>ry_sh</th>\n",
       "      <th>rtd_sh</th>\n",
       "      <th>rfd_sh</th>\n",
       "      <th>rtdfd_sh</th>\n",
       "      <th>dom</th>\n",
       "      <th>w8dom</th>\n",
       "      <th>yptmpa</th>\n",
       "      <th>ppr_sh</th>\n",
       "    </tr>\n",
       "  </thead>\n",
       "  <tbody>\n",
       "    <tr>\n",
       "      <th>0</th>\n",
       "      <td>8</td>\n",
       "      <td>00-0026035</td>\n",
       "      <td>2021</td>\n",
       "      <td>REG</td>\n",
       "      <td>0</td>\n",
       "      <td>1</td>\n",
       "      <td>0.0</td>\n",
       "      <td>0</td>\n",
       "      <td>0.0</td>\n",
       "      <td>0.0</td>\n",
       "      <td>...</td>\n",
       "      <td>0.134443</td>\n",
       "      <td>0.343891</td>\n",
       "      <td>0.140192</td>\n",
       "      <td>0.272727</td>\n",
       "      <td>0.131579</td>\n",
       "      <td>0.149425</td>\n",
       "      <td>0.20646</td>\n",
       "      <td>0.166699</td>\n",
       "      <td>0.953846</td>\n",
       "      <td>0.111496</td>\n",
       "    </tr>\n",
       "  </tbody>\n",
       "</table>\n",
       "<p>1 rows × 59 columns</p>\n",
       "</div>"
      ],
      "text/plain": [
       "   Index   player_id  season season_type  completions  attempts  \\\n",
       "0      8  00-0026035    2021         REG            0         1   \n",
       "\n",
       "   passing_yards  passing_tds  interceptions  sacks  ...    yac_sh    wopr_y  \\\n",
       "0            0.0            0            0.0    0.0  ...  0.134443  0.343891   \n",
       "\n",
       "      ry_sh    rtd_sh    rfd_sh  rtdfd_sh      dom     w8dom    yptmpa  \\\n",
       "0  0.140192  0.272727  0.131579  0.149425  0.20646  0.166699  0.953846   \n",
       "\n",
       "     ppr_sh  \n",
       "0  0.111496  \n",
       "\n",
       "[1 rows x 59 columns]"
      ]
     },
     "execution_count": 14,
     "metadata": {},
     "output_type": "execute_result"
    }
   ],
   "source": [
    "df_wr.head(1)"
   ]
  },
  {
   "cell_type": "code",
   "execution_count": 15,
   "id": "ff17b80b",
   "metadata": {},
   "outputs": [
    {
     "data": {
      "text/html": [
       "<div>\n",
       "<style scoped>\n",
       "    .dataframe tbody tr th:only-of-type {\n",
       "        vertical-align: middle;\n",
       "    }\n",
       "\n",
       "    .dataframe tbody tr th {\n",
       "        vertical-align: top;\n",
       "    }\n",
       "\n",
       "    .dataframe thead th {\n",
       "        text-align: right;\n",
       "    }\n",
       "</style>\n",
       "<table border=\"1\" class=\"dataframe\">\n",
       "  <thead>\n",
       "    <tr style=\"text-align: right;\">\n",
       "      <th></th>\n",
       "      <th>Index</th>\n",
       "      <th>player_id</th>\n",
       "      <th>season</th>\n",
       "      <th>season_type</th>\n",
       "      <th>completions</th>\n",
       "      <th>attempts</th>\n",
       "      <th>passing_yards</th>\n",
       "      <th>passing_tds</th>\n",
       "      <th>interceptions</th>\n",
       "      <th>sacks</th>\n",
       "      <th>...</th>\n",
       "      <th>yac_sh</th>\n",
       "      <th>wopr_y</th>\n",
       "      <th>ry_sh</th>\n",
       "      <th>rtd_sh</th>\n",
       "      <th>rfd_sh</th>\n",
       "      <th>rtdfd_sh</th>\n",
       "      <th>dom</th>\n",
       "      <th>w8dom</th>\n",
       "      <th>yptmpa</th>\n",
       "      <th>ppr_sh</th>\n",
       "    </tr>\n",
       "  </thead>\n",
       "  <tbody>\n",
       "    <tr>\n",
       "      <th>0</th>\n",
       "      <td>5</td>\n",
       "      <td>00-0024243</td>\n",
       "      <td>2021</td>\n",
       "      <td>REG</td>\n",
       "      <td>0</td>\n",
       "      <td>0</td>\n",
       "      <td>0.0</td>\n",
       "      <td>0</td>\n",
       "      <td>0.0</td>\n",
       "      <td>0.0</td>\n",
       "      <td>...</td>\n",
       "      <td>0.07856</td>\n",
       "      <td>0.11565</td>\n",
       "      <td>0.064497</td>\n",
       "      <td>0.0</td>\n",
       "      <td>0.057803</td>\n",
       "      <td>0.05</td>\n",
       "      <td>0.032248</td>\n",
       "      <td>0.051597</td>\n",
       "      <td>0.467249</td>\n",
       "      <td>0.036543</td>\n",
       "    </tr>\n",
       "  </tbody>\n",
       "</table>\n",
       "<p>1 rows × 59 columns</p>\n",
       "</div>"
      ],
      "text/plain": [
       "   Index   player_id  season season_type  completions  attempts  \\\n",
       "0      5  00-0024243    2021         REG            0         0   \n",
       "\n",
       "   passing_yards  passing_tds  interceptions  sacks  ...   yac_sh   wopr_y  \\\n",
       "0            0.0            0            0.0    0.0  ...  0.07856  0.11565   \n",
       "\n",
       "      ry_sh  rtd_sh    rfd_sh  rtdfd_sh       dom     w8dom    yptmpa  \\\n",
       "0  0.064497     0.0  0.057803      0.05  0.032248  0.051597  0.467249   \n",
       "\n",
       "     ppr_sh  \n",
       "0  0.036543  \n",
       "\n",
       "[1 rows x 59 columns]"
      ]
     },
     "execution_count": 15,
     "metadata": {},
     "output_type": "execute_result"
    }
   ],
   "source": [
    "df_te.head(1)"
   ]
  },
  {
   "cell_type": "markdown",
   "id": "8919b17f",
   "metadata": {},
   "source": [
    "# Saving Data to CSV for Graphing Tools"
   ]
  },
  {
   "cell_type": "code",
   "execution_count": 16,
   "id": "7c365506",
   "metadata": {},
   "outputs": [],
   "source": [
    "def clean_df_for_csv(df):\n",
    "    \"\"\"\"\"\"\n",
    "    df[\"name\"] = df[\"player_id\"].map(lambda x: player_map[x]['name'])\n",
    "    df.drop(columns=[\"player_id\", \"Index\"], inplace=True)\n",
    "    \n",
    "    df[\"total_epa\"] = df[\"passing_epa\"] + df[\"rushing_epa\"]\n",
    "    \n",
    "    ignore_cols = [\"name\", \"season\", \"season_type\", \"games\", \"target_share\", \"air_yards_share\"\n",
    "                  \"tgt_sh\", \"ay_sh\", \"yac_sh\", \"ry_sh\", \"rtd_sh\", \"rfd_sh\", \"rtdfd_sh\", \"ppr_sh\"]\n",
    "    for col in df_qb.columns.to_list():\n",
    "        if col not in ignore_cols:\n",
    "            df[f\"{col} per game\"] = df[col] / df[\"games\"]\n",
    "            \n",
    "    df = df[['name'] + [col for col in df.columns if col != \"name\"]]\n",
    "    return df"
   ]
  },
  {
   "cell_type": "markdown",
   "id": "25ea9149",
   "metadata": {},
   "source": [
    "## Quarterback Save"
   ]
  },
  {
   "cell_type": "code",
   "execution_count": 17,
   "id": "4d78024f",
   "metadata": {},
   "outputs": [
    {
     "data": {
      "text/html": [
       "<div>\n",
       "<style scoped>\n",
       "    .dataframe tbody tr th:only-of-type {\n",
       "        vertical-align: middle;\n",
       "    }\n",
       "\n",
       "    .dataframe tbody tr th {\n",
       "        vertical-align: top;\n",
       "    }\n",
       "\n",
       "    .dataframe thead th {\n",
       "        text-align: right;\n",
       "    }\n",
       "</style>\n",
       "<table border=\"1\" class=\"dataframe\">\n",
       "  <thead>\n",
       "    <tr style=\"text-align: right;\">\n",
       "      <th></th>\n",
       "      <th>name</th>\n",
       "      <th>season</th>\n",
       "      <th>season_type</th>\n",
       "      <th>completions</th>\n",
       "      <th>attempts</th>\n",
       "      <th>passing_yards</th>\n",
       "      <th>passing_tds</th>\n",
       "      <th>interceptions</th>\n",
       "      <th>sacks</th>\n",
       "      <th>sack_yards</th>\n",
       "      <th>...</th>\n",
       "      <th>wopr_x per game</th>\n",
       "      <th>special_teams_tds per game</th>\n",
       "      <th>fantasy_points per game</th>\n",
       "      <th>fantasy_points_ppr per game</th>\n",
       "      <th>tgt_sh per game</th>\n",
       "      <th>wopr_y per game</th>\n",
       "      <th>dom per game</th>\n",
       "      <th>w8dom per game</th>\n",
       "      <th>yptmpa per game</th>\n",
       "      <th>total_epa per game</th>\n",
       "    </tr>\n",
       "  </thead>\n",
       "  <tbody>\n",
       "    <tr>\n",
       "      <th>0</th>\n",
       "      <td>Tom Brady</td>\n",
       "      <td>2021</td>\n",
       "      <td>REG</td>\n",
       "      <td>485</td>\n",
       "      <td>719</td>\n",
       "      <td>5316.0</td>\n",
       "      <td>43</td>\n",
       "      <td>12.0</td>\n",
       "      <td>22.0</td>\n",
       "      <td>144.0</td>\n",
       "      <td>...</td>\n",
       "      <td>0.0</td>\n",
       "      <td>0.0</td>\n",
       "      <td>22.043529</td>\n",
       "      <td>22.043529</td>\n",
       "      <td>0.0</td>\n",
       "      <td>0.0</td>\n",
       "      <td>0.0</td>\n",
       "      <td>0.0</td>\n",
       "      <td>0.0</td>\n",
       "      <td>8.797962</td>\n",
       "    </tr>\n",
       "  </tbody>\n",
       "</table>\n",
       "<p>1 rows × 106 columns</p>\n",
       "</div>"
      ],
      "text/plain": [
       "        name  season season_type  completions  attempts  passing_yards  \\\n",
       "0  Tom Brady    2021         REG          485       719         5316.0   \n",
       "\n",
       "   passing_tds  interceptions  sacks  sack_yards  ...  wopr_x per game  \\\n",
       "0           43           12.0   22.0       144.0  ...              0.0   \n",
       "\n",
       "   special_teams_tds per game  fantasy_points per game  \\\n",
       "0                         0.0                22.043529   \n",
       "\n",
       "   fantasy_points_ppr per game  tgt_sh per game  wopr_y per game  \\\n",
       "0                    22.043529              0.0              0.0   \n",
       "\n",
       "   dom per game  w8dom per game  yptmpa per game  total_epa per game  \n",
       "0           0.0             0.0              0.0            8.797962  \n",
       "\n",
       "[1 rows x 106 columns]"
      ]
     },
     "execution_count": 17,
     "metadata": {},
     "output_type": "execute_result"
    }
   ],
   "source": [
    "df_to_save_qb = clean_df_for_csv(df_qb)\n",
    "df_to_save_qb.head(1)"
   ]
  },
  {
   "cell_type": "code",
   "execution_count": 18,
   "id": "96aa4cb2",
   "metadata": {},
   "outputs": [],
   "source": [
    "df_to_save_qb.to_csv(f\"FantasyData/advanced-stats/QB/{year}.csv\")"
   ]
  },
  {
   "cell_type": "markdown",
   "id": "fe68462a",
   "metadata": {},
   "source": [
    "## Running Back Save"
   ]
  },
  {
   "cell_type": "code",
   "execution_count": 19,
   "id": "f0dd0d17",
   "metadata": {},
   "outputs": [
    {
     "data": {
      "text/html": [
       "<div>\n",
       "<style scoped>\n",
       "    .dataframe tbody tr th:only-of-type {\n",
       "        vertical-align: middle;\n",
       "    }\n",
       "\n",
       "    .dataframe tbody tr th {\n",
       "        vertical-align: top;\n",
       "    }\n",
       "\n",
       "    .dataframe thead th {\n",
       "        text-align: right;\n",
       "    }\n",
       "</style>\n",
       "<table border=\"1\" class=\"dataframe\">\n",
       "  <thead>\n",
       "    <tr style=\"text-align: right;\">\n",
       "      <th></th>\n",
       "      <th>name</th>\n",
       "      <th>season</th>\n",
       "      <th>season_type</th>\n",
       "      <th>completions</th>\n",
       "      <th>attempts</th>\n",
       "      <th>passing_yards</th>\n",
       "      <th>passing_tds</th>\n",
       "      <th>interceptions</th>\n",
       "      <th>sacks</th>\n",
       "      <th>sack_yards</th>\n",
       "      <th>...</th>\n",
       "      <th>wopr_x per game per game</th>\n",
       "      <th>special_teams_tds per game per game</th>\n",
       "      <th>fantasy_points per game per game</th>\n",
       "      <th>fantasy_points_ppr per game per game</th>\n",
       "      <th>tgt_sh per game per game</th>\n",
       "      <th>wopr_y per game per game</th>\n",
       "      <th>dom per game per game</th>\n",
       "      <th>w8dom per game per game</th>\n",
       "      <th>yptmpa per game per game</th>\n",
       "      <th>total_epa per game per game</th>\n",
       "    </tr>\n",
       "  </thead>\n",
       "  <tbody>\n",
       "    <tr>\n",
       "      <th>0</th>\n",
       "      <td>Adrian Peterson</td>\n",
       "      <td>2021</td>\n",
       "      <td>REG</td>\n",
       "      <td>0</td>\n",
       "      <td>0</td>\n",
       "      <td>0.0</td>\n",
       "      <td>0</td>\n",
       "      <td>0.0</td>\n",
       "      <td>0.0</td>\n",
       "      <td>0.0</td>\n",
       "      <td>...</td>\n",
       "      <td>0.008538</td>\n",
       "      <td>0.0</td>\n",
       "      <td>1.4125</td>\n",
       "      <td>1.6625</td>\n",
       "      <td>0.001748</td>\n",
       "      <td>0.002304</td>\n",
       "      <td>0.000275</td>\n",
       "      <td>0.00044</td>\n",
       "      <td>0.003497</td>\n",
       "      <td>-0.616539</td>\n",
       "    </tr>\n",
       "  </tbody>\n",
       "</table>\n",
       "<p>1 rows × 153 columns</p>\n",
       "</div>"
      ],
      "text/plain": [
       "              name  season season_type  completions  attempts  passing_yards  \\\n",
       "0  Adrian Peterson    2021         REG            0         0            0.0   \n",
       "\n",
       "   passing_tds  interceptions  sacks  sack_yards  ...  \\\n",
       "0            0            0.0    0.0         0.0  ...   \n",
       "\n",
       "   wopr_x per game per game  special_teams_tds per game per game  \\\n",
       "0                  0.008538                                  0.0   \n",
       "\n",
       "   fantasy_points per game per game  fantasy_points_ppr per game per game  \\\n",
       "0                            1.4125                                1.6625   \n",
       "\n",
       "   tgt_sh per game per game  wopr_y per game per game  dom per game per game  \\\n",
       "0                  0.001748                  0.002304               0.000275   \n",
       "\n",
       "   w8dom per game per game  yptmpa per game per game  \\\n",
       "0                  0.00044                  0.003497   \n",
       "\n",
       "   total_epa per game per game  \n",
       "0                    -0.616539  \n",
       "\n",
       "[1 rows x 153 columns]"
      ]
     },
     "execution_count": 19,
     "metadata": {},
     "output_type": "execute_result"
    }
   ],
   "source": [
    "df_to_save_rb = clean_df_for_csv(df_rb)\n",
    "df_to_save_rb.head(1)"
   ]
  },
  {
   "cell_type": "code",
   "execution_count": 20,
   "id": "497c6068",
   "metadata": {},
   "outputs": [],
   "source": [
    "df_to_save_rb.to_csv(f\"FantasyData/advanced-stats/RB/{year}.csv\")"
   ]
  },
  {
   "cell_type": "markdown",
   "id": "329d172b",
   "metadata": {},
   "source": [
    "# Wide Receiver Save"
   ]
  },
  {
   "cell_type": "code",
   "execution_count": 21,
   "id": "04f6e54b",
   "metadata": {},
   "outputs": [
    {
     "data": {
      "text/html": [
       "<div>\n",
       "<style scoped>\n",
       "    .dataframe tbody tr th:only-of-type {\n",
       "        vertical-align: middle;\n",
       "    }\n",
       "\n",
       "    .dataframe tbody tr th {\n",
       "        vertical-align: top;\n",
       "    }\n",
       "\n",
       "    .dataframe thead th {\n",
       "        text-align: right;\n",
       "    }\n",
       "</style>\n",
       "<table border=\"1\" class=\"dataframe\">\n",
       "  <thead>\n",
       "    <tr style=\"text-align: right;\">\n",
       "      <th></th>\n",
       "      <th>name</th>\n",
       "      <th>season</th>\n",
       "      <th>season_type</th>\n",
       "      <th>completions</th>\n",
       "      <th>attempts</th>\n",
       "      <th>passing_yards</th>\n",
       "      <th>passing_tds</th>\n",
       "      <th>interceptions</th>\n",
       "      <th>sacks</th>\n",
       "      <th>sack_yards</th>\n",
       "      <th>...</th>\n",
       "      <th>wopr_x per game per game</th>\n",
       "      <th>special_teams_tds per game per game</th>\n",
       "      <th>fantasy_points per game per game</th>\n",
       "      <th>fantasy_points_ppr per game per game</th>\n",
       "      <th>tgt_sh per game per game</th>\n",
       "      <th>wopr_y per game per game</th>\n",
       "      <th>dom per game per game</th>\n",
       "      <th>w8dom per game per game</th>\n",
       "      <th>yptmpa per game per game</th>\n",
       "      <th>total_epa per game per game</th>\n",
       "    </tr>\n",
       "  </thead>\n",
       "  <tbody>\n",
       "    <tr>\n",
       "      <th>0</th>\n",
       "      <td>Danny Amendola</td>\n",
       "      <td>2021</td>\n",
       "      <td>REG</td>\n",
       "      <td>0</td>\n",
       "      <td>1</td>\n",
       "      <td>0.0</td>\n",
       "      <td>0</td>\n",
       "      <td>0.0</td>\n",
       "      <td>0.0</td>\n",
       "      <td>0.0</td>\n",
       "      <td>...</td>\n",
       "      <td>0.040545</td>\n",
       "      <td>0.0</td>\n",
       "      <td>0.7</td>\n",
       "      <td>1.075</td>\n",
       "      <td>0.002284</td>\n",
       "      <td>0.005373</td>\n",
       "      <td>0.003226</td>\n",
       "      <td>0.002605</td>\n",
       "      <td>0.014904</td>\n",
       "      <td>-0.005652</td>\n",
       "    </tr>\n",
       "  </tbody>\n",
       "</table>\n",
       "<p>1 rows × 153 columns</p>\n",
       "</div>"
      ],
      "text/plain": [
       "             name  season season_type  completions  attempts  passing_yards  \\\n",
       "0  Danny Amendola    2021         REG            0         1            0.0   \n",
       "\n",
       "   passing_tds  interceptions  sacks  sack_yards  ...  \\\n",
       "0            0            0.0    0.0         0.0  ...   \n",
       "\n",
       "   wopr_x per game per game  special_teams_tds per game per game  \\\n",
       "0                  0.040545                                  0.0   \n",
       "\n",
       "   fantasy_points per game per game  fantasy_points_ppr per game per game  \\\n",
       "0                               0.7                                 1.075   \n",
       "\n",
       "   tgt_sh per game per game  wopr_y per game per game  dom per game per game  \\\n",
       "0                  0.002284                  0.005373               0.003226   \n",
       "\n",
       "   w8dom per game per game  yptmpa per game per game  \\\n",
       "0                 0.002605                  0.014904   \n",
       "\n",
       "   total_epa per game per game  \n",
       "0                    -0.005652  \n",
       "\n",
       "[1 rows x 153 columns]"
      ]
     },
     "execution_count": 21,
     "metadata": {},
     "output_type": "execute_result"
    }
   ],
   "source": [
    "df_to_save_wr = clean_df_for_csv(df_wr)\n",
    "df_to_save_wr.head(1)"
   ]
  },
  {
   "cell_type": "code",
   "execution_count": 22,
   "id": "94129a14",
   "metadata": {},
   "outputs": [],
   "source": [
    "df_to_save_wr.to_csv(f\"FantasyData/advanced-stats/WR/{year}.csv\")"
   ]
  },
  {
   "cell_type": "markdown",
   "id": "28d5004b",
   "metadata": {},
   "source": [
    "# Tight End Save"
   ]
  },
  {
   "cell_type": "code",
   "execution_count": 23,
   "id": "83601dfc",
   "metadata": {},
   "outputs": [
    {
     "data": {
      "text/html": [
       "<div>\n",
       "<style scoped>\n",
       "    .dataframe tbody tr th:only-of-type {\n",
       "        vertical-align: middle;\n",
       "    }\n",
       "\n",
       "    .dataframe tbody tr th {\n",
       "        vertical-align: top;\n",
       "    }\n",
       "\n",
       "    .dataframe thead th {\n",
       "        text-align: right;\n",
       "    }\n",
       "</style>\n",
       "<table border=\"1\" class=\"dataframe\">\n",
       "  <thead>\n",
       "    <tr style=\"text-align: right;\">\n",
       "      <th></th>\n",
       "      <th>name</th>\n",
       "      <th>season</th>\n",
       "      <th>season_type</th>\n",
       "      <th>completions</th>\n",
       "      <th>attempts</th>\n",
       "      <th>passing_yards</th>\n",
       "      <th>passing_tds</th>\n",
       "      <th>interceptions</th>\n",
       "      <th>sacks</th>\n",
       "      <th>sack_yards</th>\n",
       "      <th>...</th>\n",
       "      <th>wopr_x per game per game</th>\n",
       "      <th>special_teams_tds per game per game</th>\n",
       "      <th>fantasy_points per game per game</th>\n",
       "      <th>fantasy_points_ppr per game per game</th>\n",
       "      <th>tgt_sh per game per game</th>\n",
       "      <th>wopr_y per game per game</th>\n",
       "      <th>dom per game per game</th>\n",
       "      <th>w8dom per game per game</th>\n",
       "      <th>yptmpa per game per game</th>\n",
       "      <th>total_epa per game per game</th>\n",
       "    </tr>\n",
       "  </thead>\n",
       "  <tbody>\n",
       "    <tr>\n",
       "      <th>0</th>\n",
       "      <td>Marcedes Lewis</td>\n",
       "      <td>2021</td>\n",
       "      <td>REG</td>\n",
       "      <td>0</td>\n",
       "      <td>0</td>\n",
       "      <td>0.0</td>\n",
       "      <td>0</td>\n",
       "      <td>0.0</td>\n",
       "      <td>0.0</td>\n",
       "      <td>0.0</td>\n",
       "      <td>...</td>\n",
       "      <td>0.009174</td>\n",
       "      <td>0.0</td>\n",
       "      <td>0.126627</td>\n",
       "      <td>0.262722</td>\n",
       "      <td>0.000362</td>\n",
       "      <td>0.000684</td>\n",
       "      <td>0.000191</td>\n",
       "      <td>0.000305</td>\n",
       "      <td>0.002765</td>\n",
       "      <td>0.0</td>\n",
       "    </tr>\n",
       "  </tbody>\n",
       "</table>\n",
       "<p>1 rows × 153 columns</p>\n",
       "</div>"
      ],
      "text/plain": [
       "             name  season season_type  completions  attempts  passing_yards  \\\n",
       "0  Marcedes Lewis    2021         REG            0         0            0.0   \n",
       "\n",
       "   passing_tds  interceptions  sacks  sack_yards  ...  \\\n",
       "0            0            0.0    0.0         0.0  ...   \n",
       "\n",
       "   wopr_x per game per game  special_teams_tds per game per game  \\\n",
       "0                  0.009174                                  0.0   \n",
       "\n",
       "   fantasy_points per game per game  fantasy_points_ppr per game per game  \\\n",
       "0                          0.126627                              0.262722   \n",
       "\n",
       "   tgt_sh per game per game  wopr_y per game per game  dom per game per game  \\\n",
       "0                  0.000362                  0.000684               0.000191   \n",
       "\n",
       "   w8dom per game per game  yptmpa per game per game  \\\n",
       "0                 0.000305                  0.002765   \n",
       "\n",
       "   total_epa per game per game  \n",
       "0                          0.0  \n",
       "\n",
       "[1 rows x 153 columns]"
      ]
     },
     "execution_count": 23,
     "metadata": {},
     "output_type": "execute_result"
    }
   ],
   "source": [
    "df_to_save_te = clean_df_for_csv(df_te)\n",
    "df_to_save_te.head(1)"
   ]
  },
  {
   "cell_type": "code",
   "execution_count": 24,
   "id": "3c28380f",
   "metadata": {},
   "outputs": [],
   "source": [
    "df_to_save_te.to_csv(f\"FantasyData/advanced-stats/TE/{year}.csv\")"
   ]
  },
  {
   "cell_type": "code",
   "execution_count": null,
   "id": "6b4f32e9",
   "metadata": {},
   "outputs": [],
   "source": []
  }
 ],
 "metadata": {
  "kernelspec": {
   "display_name": "env",
   "language": "python",
   "name": "env"
  },
  "language_info": {
   "codemirror_mode": {
    "name": "ipython",
    "version": 3
   },
   "file_extension": ".py",
   "mimetype": "text/x-python",
   "name": "python",
   "nbconvert_exporter": "python",
   "pygments_lexer": "ipython3",
   "version": "3.9.7"
  }
 },
 "nbformat": 4,
 "nbformat_minor": 5
}
