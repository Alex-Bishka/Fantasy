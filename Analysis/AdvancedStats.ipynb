{
 "cells": [
  {
   "cell_type": "markdown",
   "id": "fd5eb3a0",
   "metadata": {},
   "source": [
    "# Imports"
   ]
  },
  {
   "cell_type": "code",
   "execution_count": 1,
   "id": "6d750108",
   "metadata": {},
   "outputs": [],
   "source": [
    "from utils.nfl_data import (get_weekly_df, get_seasonal_df, get_roster_df,\n",
    "                            create_mappings, create_position_groups, create_positional_df)"
   ]
  },
  {
   "cell_type": "markdown",
   "id": "2338c137",
   "metadata": {},
   "source": [
    "# Setting Years List\n",
    "\n",
    "The years past into this list provides us with the data in each of those seasons."
   ]
  },
  {
   "cell_type": "code",
   "execution_count": 2,
   "id": "2a896f5f",
   "metadata": {},
   "outputs": [],
   "source": [
    "year = 2022\n",
    "years = [year]"
   ]
  },
  {
   "cell_type": "markdown",
   "id": "b9526210",
   "metadata": {},
   "source": [
    "# Seasonal and Weekly Data"
   ]
  },
  {
   "cell_type": "code",
   "execution_count": 3,
   "id": "c404c0c3",
   "metadata": {},
   "outputs": [
    {
     "name": "stdout",
     "output_type": "stream",
     "text": [
      "Downcasting floats.\n"
     ]
    }
   ],
   "source": [
    "df_weekly = get_weekly_df(years=years, columns=[])"
   ]
  },
  {
   "cell_type": "code",
   "execution_count": 4,
   "id": "ad61faad",
   "metadata": {},
   "outputs": [],
   "source": [
    "df_seasonal = get_seasonal_df(years=years)"
   ]
  },
  {
   "cell_type": "markdown",
   "id": "0beb9b90",
   "metadata": {},
   "source": [
    "# Roster ID\n",
    "\n",
    "For player mapping creations"
   ]
  },
  {
   "cell_type": "code",
   "execution_count": 5,
   "id": "d0ba8ab3",
   "metadata": {},
   "outputs": [],
   "source": [
    "columns = [\"player_name\", \"player_id\", \"position\"]\n",
    "df_roster = get_roster_df(years=years, columns=columns)"
   ]
  },
  {
   "cell_type": "markdown",
   "id": "60daad09",
   "metadata": {},
   "source": [
    "# Create Player Mappings"
   ]
  },
  {
   "cell_type": "code",
   "execution_count": 6,
   "id": "7925eaf9",
   "metadata": {},
   "outputs": [],
   "source": [
    "player_map, id_map = create_mappings(df_roster=df_roster, df_seasonal=df_seasonal, df_weekly=df_weekly)"
   ]
  },
  {
   "cell_type": "markdown",
   "id": "91a9b07a",
   "metadata": {},
   "source": [
    "## Mapping Checks"
   ]
  },
  {
   "cell_type": "code",
   "execution_count": 7,
   "id": "98f5acd9",
   "metadata": {},
   "outputs": [],
   "source": [
    "# kelce_id = id_map[\"Travis Kelce\"]"
   ]
  },
  {
   "cell_type": "code",
   "execution_count": 8,
   "id": "48fcf565",
   "metadata": {},
   "outputs": [],
   "source": [
    "# player_map[kelce_id][\"seasonal_df\"]"
   ]
  },
  {
   "cell_type": "code",
   "execution_count": 9,
   "id": "d16eaf1f",
   "metadata": {},
   "outputs": [],
   "source": [
    "# player_map[kelce_id][\"week_dfs\"][-1]"
   ]
  },
  {
   "cell_type": "markdown",
   "id": "9c044ba2",
   "metadata": {},
   "source": [
    "# Creating Position Groups"
   ]
  },
  {
   "cell_type": "code",
   "execution_count": 10,
   "id": "c4ee0232",
   "metadata": {},
   "outputs": [],
   "source": [
    "qbs, rbs, wrs, tes = create_position_groups(player_map=player_map)"
   ]
  },
  {
   "cell_type": "code",
   "execution_count": 11,
   "id": "9d641bed",
   "metadata": {},
   "outputs": [],
   "source": [
    "df_qb = create_positional_df(qbs)\n",
    "df_rb = create_positional_df(rbs)\n",
    "df_wr = create_positional_df(wrs)\n",
    "df_te = create_positional_df(tes)"
   ]
  },
  {
   "cell_type": "code",
   "execution_count": 12,
   "id": "bce148c0",
   "metadata": {},
   "outputs": [
    {
     "data": {
      "text/html": [
       "<div>\n",
       "<style scoped>\n",
       "    .dataframe tbody tr th:only-of-type {\n",
       "        vertical-align: middle;\n",
       "    }\n",
       "\n",
       "    .dataframe tbody tr th {\n",
       "        vertical-align: top;\n",
       "    }\n",
       "\n",
       "    .dataframe thead th {\n",
       "        text-align: right;\n",
       "    }\n",
       "</style>\n",
       "<table border=\"1\" class=\"dataframe\">\n",
       "  <thead>\n",
       "    <tr style=\"text-align: right;\">\n",
       "      <th></th>\n",
       "      <th>Index</th>\n",
       "      <th>player_id</th>\n",
       "      <th>season</th>\n",
       "      <th>season_type</th>\n",
       "      <th>completions</th>\n",
       "      <th>attempts</th>\n",
       "      <th>passing_yards</th>\n",
       "      <th>passing_tds</th>\n",
       "      <th>interceptions</th>\n",
       "      <th>sacks</th>\n",
       "      <th>...</th>\n",
       "      <th>yac_sh</th>\n",
       "      <th>wopr_y</th>\n",
       "      <th>ry_sh</th>\n",
       "      <th>rtd_sh</th>\n",
       "      <th>rfd_sh</th>\n",
       "      <th>rtdfd_sh</th>\n",
       "      <th>dom</th>\n",
       "      <th>w8dom</th>\n",
       "      <th>yptmpa</th>\n",
       "      <th>ppr_sh</th>\n",
       "    </tr>\n",
       "  </thead>\n",
       "  <tbody>\n",
       "    <tr>\n",
       "      <th>0</th>\n",
       "      <td>2</td>\n",
       "      <td>00-0026498</td>\n",
       "      <td>2023</td>\n",
       "      <td>REG</td>\n",
       "      <td>166</td>\n",
       "      <td>278</td>\n",
       "      <td>2070.0</td>\n",
       "      <td>8</td>\n",
       "      <td>7.0</td>\n",
       "      <td>19.0</td>\n",
       "      <td>...</td>\n",
       "      <td>0.0</td>\n",
       "      <td>0.0</td>\n",
       "      <td>0.0</td>\n",
       "      <td>0.0</td>\n",
       "      <td>0.0</td>\n",
       "      <td>0.0</td>\n",
       "      <td>0.0</td>\n",
       "      <td>0.0</td>\n",
       "      <td>0.0</td>\n",
       "      <td>0.163569</td>\n",
       "    </tr>\n",
       "  </tbody>\n",
       "</table>\n",
       "<p>1 rows × 59 columns</p>\n",
       "</div>"
      ],
      "text/plain": [
       "   Index   player_id  season season_type  completions  attempts  \\\n",
       "0      2  00-0026498    2023         REG          166       278   \n",
       "\n",
       "   passing_yards  passing_tds  interceptions  sacks  ...  yac_sh  wopr_y  \\\n",
       "0         2070.0            8            7.0   19.0  ...     0.0     0.0   \n",
       "\n",
       "   ry_sh  rtd_sh  rfd_sh  rtdfd_sh  dom  w8dom  yptmpa    ppr_sh  \n",
       "0    0.0     0.0     0.0       0.0  0.0    0.0     0.0  0.163569  \n",
       "\n",
       "[1 rows x 59 columns]"
      ]
     },
     "execution_count": 12,
     "metadata": {},
     "output_type": "execute_result"
    }
   ],
   "source": [
    "df_qb.head(1)"
   ]
  },
  {
   "cell_type": "code",
   "execution_count": 13,
   "id": "e3c8f0e2",
   "metadata": {},
   "outputs": [
    {
     "data": {
      "text/html": [
       "<div>\n",
       "<style scoped>\n",
       "    .dataframe tbody tr th:only-of-type {\n",
       "        vertical-align: middle;\n",
       "    }\n",
       "\n",
       "    .dataframe tbody tr th {\n",
       "        vertical-align: top;\n",
       "    }\n",
       "\n",
       "    .dataframe thead th {\n",
       "        text-align: right;\n",
       "    }\n",
       "</style>\n",
       "<table border=\"1\" class=\"dataframe\">\n",
       "  <thead>\n",
       "    <tr style=\"text-align: right;\">\n",
       "      <th></th>\n",
       "      <th>Index</th>\n",
       "      <th>player_id</th>\n",
       "      <th>season</th>\n",
       "      <th>season_type</th>\n",
       "      <th>completions</th>\n",
       "      <th>attempts</th>\n",
       "      <th>passing_yards</th>\n",
       "      <th>passing_tds</th>\n",
       "      <th>interceptions</th>\n",
       "      <th>sacks</th>\n",
       "      <th>...</th>\n",
       "      <th>yac_sh</th>\n",
       "      <th>wopr_y</th>\n",
       "      <th>ry_sh</th>\n",
       "      <th>rtd_sh</th>\n",
       "      <th>rfd_sh</th>\n",
       "      <th>rtdfd_sh</th>\n",
       "      <th>dom</th>\n",
       "      <th>w8dom</th>\n",
       "      <th>yptmpa</th>\n",
       "      <th>ppr_sh</th>\n",
       "    </tr>\n",
       "  </thead>\n",
       "  <tbody>\n",
       "    <tr>\n",
       "      <th>0</th>\n",
       "      <td>16</td>\n",
       "      <td>00-0029892</td>\n",
       "      <td>2023</td>\n",
       "      <td>REG</td>\n",
       "      <td>0</td>\n",
       "      <td>0</td>\n",
       "      <td>0.0</td>\n",
       "      <td>0</td>\n",
       "      <td>0.0</td>\n",
       "      <td>0.0</td>\n",
       "      <td>...</td>\n",
       "      <td>0.037879</td>\n",
       "      <td>0.074067</td>\n",
       "      <td>0.029192</td>\n",
       "      <td>0.111111</td>\n",
       "      <td>0.048387</td>\n",
       "      <td>0.056338</td>\n",
       "      <td>0.070151</td>\n",
       "      <td>0.045576</td>\n",
       "      <td>0.276596</td>\n",
       "      <td>0.034116</td>\n",
       "    </tr>\n",
       "  </tbody>\n",
       "</table>\n",
       "<p>1 rows × 59 columns</p>\n",
       "</div>"
      ],
      "text/plain": [
       "   Index   player_id  season season_type  completions  attempts  \\\n",
       "0     16  00-0029892    2023         REG            0         0   \n",
       "\n",
       "   passing_yards  passing_tds  interceptions  sacks  ...    yac_sh    wopr_y  \\\n",
       "0            0.0            0            0.0    0.0  ...  0.037879  0.074067   \n",
       "\n",
       "      ry_sh    rtd_sh    rfd_sh  rtdfd_sh       dom     w8dom    yptmpa  \\\n",
       "0  0.029192  0.111111  0.048387  0.056338  0.070151  0.045576  0.276596   \n",
       "\n",
       "     ppr_sh  \n",
       "0  0.034116  \n",
       "\n",
       "[1 rows x 59 columns]"
      ]
     },
     "execution_count": 13,
     "metadata": {},
     "output_type": "execute_result"
    }
   ],
   "source": [
    "df_rb.head(1)"
   ]
  },
  {
   "cell_type": "code",
   "execution_count": 14,
   "id": "bd859e5a",
   "metadata": {},
   "outputs": [
    {
     "data": {
      "text/html": [
       "<div>\n",
       "<style scoped>\n",
       "    .dataframe tbody tr th:only-of-type {\n",
       "        vertical-align: middle;\n",
       "    }\n",
       "\n",
       "    .dataframe tbody tr th {\n",
       "        vertical-align: top;\n",
       "    }\n",
       "\n",
       "    .dataframe thead th {\n",
       "        text-align: right;\n",
       "    }\n",
       "</style>\n",
       "<table border=\"1\" class=\"dataframe\">\n",
       "  <thead>\n",
       "    <tr style=\"text-align: right;\">\n",
       "      <th></th>\n",
       "      <th>Index</th>\n",
       "      <th>player_id</th>\n",
       "      <th>season</th>\n",
       "      <th>season_type</th>\n",
       "      <th>completions</th>\n",
       "      <th>attempts</th>\n",
       "      <th>passing_yards</th>\n",
       "      <th>passing_tds</th>\n",
       "      <th>interceptions</th>\n",
       "      <th>sacks</th>\n",
       "      <th>...</th>\n",
       "      <th>yac_sh</th>\n",
       "      <th>wopr_y</th>\n",
       "      <th>ry_sh</th>\n",
       "      <th>rtd_sh</th>\n",
       "      <th>rfd_sh</th>\n",
       "      <th>rtdfd_sh</th>\n",
       "      <th>dom</th>\n",
       "      <th>w8dom</th>\n",
       "      <th>yptmpa</th>\n",
       "      <th>ppr_sh</th>\n",
       "    </tr>\n",
       "  </thead>\n",
       "  <tbody>\n",
       "    <tr>\n",
       "      <th>0</th>\n",
       "      <td>5</td>\n",
       "      <td>00-0027944</td>\n",
       "      <td>2023</td>\n",
       "      <td>REG</td>\n",
       "      <td>0</td>\n",
       "      <td>0</td>\n",
       "      <td>0.0</td>\n",
       "      <td>0</td>\n",
       "      <td>0.0</td>\n",
       "      <td>0.0</td>\n",
       "      <td>...</td>\n",
       "      <td>0.003846</td>\n",
       "      <td>0.096796</td>\n",
       "      <td>0.018395</td>\n",
       "      <td>0.166667</td>\n",
       "      <td>0.035714</td>\n",
       "      <td>0.058824</td>\n",
       "      <td>0.092531</td>\n",
       "      <td>0.048049</td>\n",
       "      <td>0.15942</td>\n",
       "      <td>0.04108</td>\n",
       "    </tr>\n",
       "  </tbody>\n",
       "</table>\n",
       "<p>1 rows × 59 columns</p>\n",
       "</div>"
      ],
      "text/plain": [
       "   Index   player_id  season season_type  completions  attempts  \\\n",
       "0      5  00-0027944    2023         REG            0         0   \n",
       "\n",
       "   passing_yards  passing_tds  interceptions  sacks  ...    yac_sh    wopr_y  \\\n",
       "0            0.0            0            0.0    0.0  ...  0.003846  0.096796   \n",
       "\n",
       "      ry_sh    rtd_sh    rfd_sh  rtdfd_sh       dom     w8dom   yptmpa  \\\n",
       "0  0.018395  0.166667  0.035714  0.058824  0.092531  0.048049  0.15942   \n",
       "\n",
       "    ppr_sh  \n",
       "0  0.04108  \n",
       "\n",
       "[1 rows x 59 columns]"
      ]
     },
     "execution_count": 14,
     "metadata": {},
     "output_type": "execute_result"
    }
   ],
   "source": [
    "df_wr.head(1)"
   ]
  },
  {
   "cell_type": "code",
   "execution_count": 15,
   "id": "0c9872bc",
   "metadata": {},
   "outputs": [
    {
     "data": {
      "text/html": [
       "<div>\n",
       "<style scoped>\n",
       "    .dataframe tbody tr th:only-of-type {\n",
       "        vertical-align: middle;\n",
       "    }\n",
       "\n",
       "    .dataframe tbody tr th {\n",
       "        vertical-align: top;\n",
       "    }\n",
       "\n",
       "    .dataframe thead th {\n",
       "        text-align: right;\n",
       "    }\n",
       "</style>\n",
       "<table border=\"1\" class=\"dataframe\">\n",
       "  <thead>\n",
       "    <tr style=\"text-align: right;\">\n",
       "      <th></th>\n",
       "      <th>Index</th>\n",
       "      <th>player_id</th>\n",
       "      <th>season</th>\n",
       "      <th>season_type</th>\n",
       "      <th>completions</th>\n",
       "      <th>attempts</th>\n",
       "      <th>passing_yards</th>\n",
       "      <th>passing_tds</th>\n",
       "      <th>interceptions</th>\n",
       "      <th>sacks</th>\n",
       "      <th>...</th>\n",
       "      <th>yac_sh</th>\n",
       "      <th>wopr_y</th>\n",
       "      <th>ry_sh</th>\n",
       "      <th>rtd_sh</th>\n",
       "      <th>rfd_sh</th>\n",
       "      <th>rtdfd_sh</th>\n",
       "      <th>dom</th>\n",
       "      <th>w8dom</th>\n",
       "      <th>yptmpa</th>\n",
       "      <th>ppr_sh</th>\n",
       "    </tr>\n",
       "  </thead>\n",
       "  <tbody>\n",
       "    <tr>\n",
       "      <th>0</th>\n",
       "      <td>1</td>\n",
       "      <td>00-0024243</td>\n",
       "      <td>2023</td>\n",
       "      <td>REG</td>\n",
       "      <td>0</td>\n",
       "      <td>0</td>\n",
       "      <td>0.0</td>\n",
       "      <td>0</td>\n",
       "      <td>0.0</td>\n",
       "      <td>0.0</td>\n",
       "      <td>...</td>\n",
       "      <td>0.091286</td>\n",
       "      <td>0.051283</td>\n",
       "      <td>0.04829</td>\n",
       "      <td>0.0</td>\n",
       "      <td>0.037037</td>\n",
       "      <td>0.03125</td>\n",
       "      <td>0.024145</td>\n",
       "      <td>0.038632</td>\n",
       "      <td>0.375</td>\n",
       "      <td>0.020855</td>\n",
       "    </tr>\n",
       "  </tbody>\n",
       "</table>\n",
       "<p>1 rows × 59 columns</p>\n",
       "</div>"
      ],
      "text/plain": [
       "   Index   player_id  season season_type  completions  attempts  \\\n",
       "0      1  00-0024243    2023         REG            0         0   \n",
       "\n",
       "   passing_yards  passing_tds  interceptions  sacks  ...    yac_sh    wopr_y  \\\n",
       "0            0.0            0            0.0    0.0  ...  0.091286  0.051283   \n",
       "\n",
       "     ry_sh  rtd_sh    rfd_sh  rtdfd_sh       dom     w8dom  yptmpa    ppr_sh  \n",
       "0  0.04829     0.0  0.037037   0.03125  0.024145  0.038632   0.375  0.020855  \n",
       "\n",
       "[1 rows x 59 columns]"
      ]
     },
     "execution_count": 15,
     "metadata": {},
     "output_type": "execute_result"
    }
   ],
   "source": [
    "df_te.head(1)"
   ]
  },
  {
   "cell_type": "markdown",
   "id": "51993879",
   "metadata": {},
   "source": [
    "# Saving Data to CSV for Graphing Tools"
   ]
  },
  {
   "cell_type": "code",
   "execution_count": 16,
   "id": "3cff7758",
   "metadata": {},
   "outputs": [],
   "source": [
    "def clean_df_for_csv(df):\n",
    "    \"\"\"\"\"\"\n",
    "    df[\"name\"] = df[\"player_id\"].map(lambda x: player_map[x]['name'])\n",
    "    df.drop(columns=[\"player_id\", \"Index\"], inplace=True)\n",
    "    \n",
    "    df[\"total_epa\"] = df[\"passing_epa\"] + df[\"rushing_epa\"]\n",
    "    \n",
    "    ignore_cols = [\"name\", \"season\", \"season_type\", \"games\", \"target_share\", \"air_yards_share\"\n",
    "                  \"tgt_sh\", \"ay_sh\", \"yac_sh\", \"ry_sh\", \"rtd_sh\", \"rfd_sh\", \"rtdfd_sh\", \"ppr_sh\"]\n",
    "    for col in df_qb.columns.to_list():\n",
    "        if col not in ignore_cols:\n",
    "            df[f\"{col} per game\"] = df[col] / df[\"games\"]\n",
    "            \n",
    "    df = df[['name'] + [col for col in df.columns if col != \"name\"]]\n",
    "    return df"
   ]
  },
  {
   "cell_type": "markdown",
   "id": "930541fd",
   "metadata": {},
   "source": [
    "## Quarterback Save"
   ]
  },
  {
   "cell_type": "code",
   "execution_count": 17,
   "id": "f921bce0",
   "metadata": {},
   "outputs": [
    {
     "data": {
      "text/html": [
       "<div>\n",
       "<style scoped>\n",
       "    .dataframe tbody tr th:only-of-type {\n",
       "        vertical-align: middle;\n",
       "    }\n",
       "\n",
       "    .dataframe tbody tr th {\n",
       "        vertical-align: top;\n",
       "    }\n",
       "\n",
       "    .dataframe thead th {\n",
       "        text-align: right;\n",
       "    }\n",
       "</style>\n",
       "<table border=\"1\" class=\"dataframe\">\n",
       "  <thead>\n",
       "    <tr style=\"text-align: right;\">\n",
       "      <th></th>\n",
       "      <th>name</th>\n",
       "      <th>season</th>\n",
       "      <th>season_type</th>\n",
       "      <th>completions</th>\n",
       "      <th>attempts</th>\n",
       "      <th>passing_yards</th>\n",
       "      <th>passing_tds</th>\n",
       "      <th>interceptions</th>\n",
       "      <th>sacks</th>\n",
       "      <th>sack_yards</th>\n",
       "      <th>...</th>\n",
       "      <th>wopr_x per game</th>\n",
       "      <th>special_teams_tds per game</th>\n",
       "      <th>fantasy_points per game</th>\n",
       "      <th>fantasy_points_ppr per game</th>\n",
       "      <th>tgt_sh per game</th>\n",
       "      <th>wopr_y per game</th>\n",
       "      <th>dom per game</th>\n",
       "      <th>w8dom per game</th>\n",
       "      <th>yptmpa per game</th>\n",
       "      <th>total_epa per game</th>\n",
       "    </tr>\n",
       "  </thead>\n",
       "  <tbody>\n",
       "    <tr>\n",
       "      <th>0</th>\n",
       "      <td>Matthew Stafford</td>\n",
       "      <td>2023</td>\n",
       "      <td>REG</td>\n",
       "      <td>166</td>\n",
       "      <td>278</td>\n",
       "      <td>2070.0</td>\n",
       "      <td>8</td>\n",
       "      <td>7.0</td>\n",
       "      <td>19.0</td>\n",
       "      <td>145.0</td>\n",
       "      <td>...</td>\n",
       "      <td>0.0</td>\n",
       "      <td>0.0</td>\n",
       "      <td>13.95</td>\n",
       "      <td>13.95</td>\n",
       "      <td>0.0</td>\n",
       "      <td>0.0</td>\n",
       "      <td>0.0</td>\n",
       "      <td>0.0</td>\n",
       "      <td>0.0</td>\n",
       "      <td>2.377215</td>\n",
       "    </tr>\n",
       "  </tbody>\n",
       "</table>\n",
       "<p>1 rows × 106 columns</p>\n",
       "</div>"
      ],
      "text/plain": [
       "               name  season season_type  completions  attempts  passing_yards  \\\n",
       "0  Matthew Stafford    2023         REG          166       278         2070.0   \n",
       "\n",
       "   passing_tds  interceptions  sacks  sack_yards  ...  wopr_x per game  \\\n",
       "0            8            7.0   19.0       145.0  ...              0.0   \n",
       "\n",
       "   special_teams_tds per game  fantasy_points per game  \\\n",
       "0                         0.0                    13.95   \n",
       "\n",
       "   fantasy_points_ppr per game  tgt_sh per game  wopr_y per game  \\\n",
       "0                        13.95              0.0              0.0   \n",
       "\n",
       "   dom per game  w8dom per game  yptmpa per game  total_epa per game  \n",
       "0           0.0             0.0              0.0            2.377215  \n",
       "\n",
       "[1 rows x 106 columns]"
      ]
     },
     "execution_count": 17,
     "metadata": {},
     "output_type": "execute_result"
    }
   ],
   "source": [
    "df_to_save_qb = clean_df_for_csv(df_qb)\n",
    "df_to_save_qb.head(1)"
   ]
  },
  {
   "cell_type": "code",
   "execution_count": 18,
   "id": "aea75a3e",
   "metadata": {},
   "outputs": [],
   "source": [
    "df_to_save_qb.to_csv(f\"FantasyData/advanced-stats/QB/{year}.csv\")"
   ]
  },
  {
   "cell_type": "markdown",
   "id": "7cc5aef6",
   "metadata": {},
   "source": [
    "## Running Back Save"
   ]
  },
  {
   "cell_type": "code",
   "execution_count": 19,
   "id": "cf4b2938",
   "metadata": {},
   "outputs": [
    {
     "data": {
      "text/html": [
       "<div>\n",
       "<style scoped>\n",
       "    .dataframe tbody tr th:only-of-type {\n",
       "        vertical-align: middle;\n",
       "    }\n",
       "\n",
       "    .dataframe tbody tr th {\n",
       "        vertical-align: top;\n",
       "    }\n",
       "\n",
       "    .dataframe thead th {\n",
       "        text-align: right;\n",
       "    }\n",
       "</style>\n",
       "<table border=\"1\" class=\"dataframe\">\n",
       "  <thead>\n",
       "    <tr style=\"text-align: right;\">\n",
       "      <th></th>\n",
       "      <th>name</th>\n",
       "      <th>season</th>\n",
       "      <th>season_type</th>\n",
       "      <th>completions</th>\n",
       "      <th>attempts</th>\n",
       "      <th>passing_yards</th>\n",
       "      <th>passing_tds</th>\n",
       "      <th>interceptions</th>\n",
       "      <th>sacks</th>\n",
       "      <th>sack_yards</th>\n",
       "      <th>...</th>\n",
       "      <th>wopr_x per game per game</th>\n",
       "      <th>special_teams_tds per game per game</th>\n",
       "      <th>fantasy_points per game per game</th>\n",
       "      <th>fantasy_points_ppr per game per game</th>\n",
       "      <th>tgt_sh per game per game</th>\n",
       "      <th>wopr_y per game per game</th>\n",
       "      <th>dom per game per game</th>\n",
       "      <th>w8dom per game per game</th>\n",
       "      <th>yptmpa per game per game</th>\n",
       "      <th>total_epa per game per game</th>\n",
       "    </tr>\n",
       "  </thead>\n",
       "  <tbody>\n",
       "    <tr>\n",
       "      <th>0</th>\n",
       "      <td>Kyle Juszczyk</td>\n",
       "      <td>2023</td>\n",
       "      <td>REG</td>\n",
       "      <td>0</td>\n",
       "      <td>0</td>\n",
       "      <td>0.0</td>\n",
       "      <td>0</td>\n",
       "      <td>0.0</td>\n",
       "      <td>0.0</td>\n",
       "      <td>0.0</td>\n",
       "      <td>...</td>\n",
       "      <td>0.016775</td>\n",
       "      <td>0.0</td>\n",
       "      <td>0.42</td>\n",
       "      <td>0.66</td>\n",
       "      <td>0.001702</td>\n",
       "      <td>0.002963</td>\n",
       "      <td>0.002806</td>\n",
       "      <td>0.001823</td>\n",
       "      <td>0.011064</td>\n",
       "      <td>-0.076295</td>\n",
       "    </tr>\n",
       "  </tbody>\n",
       "</table>\n",
       "<p>1 rows × 153 columns</p>\n",
       "</div>"
      ],
      "text/plain": [
       "            name  season season_type  completions  attempts  passing_yards  \\\n",
       "0  Kyle Juszczyk    2023         REG            0         0            0.0   \n",
       "\n",
       "   passing_tds  interceptions  sacks  sack_yards  ...  \\\n",
       "0            0            0.0    0.0         0.0  ...   \n",
       "\n",
       "   wopr_x per game per game  special_teams_tds per game per game  \\\n",
       "0                  0.016775                                  0.0   \n",
       "\n",
       "   fantasy_points per game per game  fantasy_points_ppr per game per game  \\\n",
       "0                              0.42                                  0.66   \n",
       "\n",
       "   tgt_sh per game per game  wopr_y per game per game  dom per game per game  \\\n",
       "0                  0.001702                  0.002963               0.002806   \n",
       "\n",
       "   w8dom per game per game  yptmpa per game per game  \\\n",
       "0                 0.001823                  0.011064   \n",
       "\n",
       "   total_epa per game per game  \n",
       "0                    -0.076295  \n",
       "\n",
       "[1 rows x 153 columns]"
      ]
     },
     "execution_count": 19,
     "metadata": {},
     "output_type": "execute_result"
    }
   ],
   "source": [
    "df_to_save_rb = clean_df_for_csv(df_rb)\n",
    "df_to_save_rb.head(1)"
   ]
  },
  {
   "cell_type": "code",
   "execution_count": 20,
   "id": "424251ed",
   "metadata": {},
   "outputs": [],
   "source": [
    "df_to_save_rb.to_csv(f\"FantasyData/advanced-stats/RB/{year}.csv\")"
   ]
  },
  {
   "cell_type": "markdown",
   "id": "fe6df078",
   "metadata": {},
   "source": [
    "# Wide Receiver Save"
   ]
  },
  {
   "cell_type": "code",
   "execution_count": 21,
   "id": "18b4dc88",
   "metadata": {},
   "outputs": [
    {
     "data": {
      "text/html": [
       "<div>\n",
       "<style scoped>\n",
       "    .dataframe tbody tr th:only-of-type {\n",
       "        vertical-align: middle;\n",
       "    }\n",
       "\n",
       "    .dataframe tbody tr th {\n",
       "        vertical-align: top;\n",
       "    }\n",
       "\n",
       "    .dataframe thead th {\n",
       "        text-align: right;\n",
       "    }\n",
       "</style>\n",
       "<table border=\"1\" class=\"dataframe\">\n",
       "  <thead>\n",
       "    <tr style=\"text-align: right;\">\n",
       "      <th></th>\n",
       "      <th>name</th>\n",
       "      <th>season</th>\n",
       "      <th>season_type</th>\n",
       "      <th>completions</th>\n",
       "      <th>attempts</th>\n",
       "      <th>passing_yards</th>\n",
       "      <th>passing_tds</th>\n",
       "      <th>interceptions</th>\n",
       "      <th>sacks</th>\n",
       "      <th>sack_yards</th>\n",
       "      <th>...</th>\n",
       "      <th>wopr_x per game per game</th>\n",
       "      <th>special_teams_tds per game per game</th>\n",
       "      <th>fantasy_points per game per game</th>\n",
       "      <th>fantasy_points_ppr per game per game</th>\n",
       "      <th>tgt_sh per game per game</th>\n",
       "      <th>wopr_y per game per game</th>\n",
       "      <th>dom per game per game</th>\n",
       "      <th>w8dom per game per game</th>\n",
       "      <th>yptmpa per game per game</th>\n",
       "      <th>total_epa per game per game</th>\n",
       "    </tr>\n",
       "  </thead>\n",
       "  <tbody>\n",
       "    <tr>\n",
       "      <th>0</th>\n",
       "      <td>Julio Jones</td>\n",
       "      <td>2023</td>\n",
       "      <td>REG</td>\n",
       "      <td>0</td>\n",
       "      <td>0</td>\n",
       "      <td>0.0</td>\n",
       "      <td>0</td>\n",
       "      <td>0.0</td>\n",
       "      <td>0.0</td>\n",
       "      <td>0.0</td>\n",
       "      <td>...</td>\n",
       "      <td>0.047834</td>\n",
       "      <td>0.0</td>\n",
       "      <td>1.775</td>\n",
       "      <td>2.275</td>\n",
       "      <td>0.01087</td>\n",
       "      <td>0.024199</td>\n",
       "      <td>0.023133</td>\n",
       "      <td>0.012012</td>\n",
       "      <td>0.039855</td>\n",
       "      <td>0.0</td>\n",
       "    </tr>\n",
       "  </tbody>\n",
       "</table>\n",
       "<p>1 rows × 153 columns</p>\n",
       "</div>"
      ],
      "text/plain": [
       "          name  season season_type  completions  attempts  passing_yards  \\\n",
       "0  Julio Jones    2023         REG            0         0            0.0   \n",
       "\n",
       "   passing_tds  interceptions  sacks  sack_yards  ...  \\\n",
       "0            0            0.0    0.0         0.0  ...   \n",
       "\n",
       "   wopr_x per game per game  special_teams_tds per game per game  \\\n",
       "0                  0.047834                                  0.0   \n",
       "\n",
       "   fantasy_points per game per game  fantasy_points_ppr per game per game  \\\n",
       "0                             1.775                                 2.275   \n",
       "\n",
       "   tgt_sh per game per game  wopr_y per game per game  dom per game per game  \\\n",
       "0                   0.01087                  0.024199               0.023133   \n",
       "\n",
       "   w8dom per game per game  yptmpa per game per game  \\\n",
       "0                 0.012012                  0.039855   \n",
       "\n",
       "   total_epa per game per game  \n",
       "0                          0.0  \n",
       "\n",
       "[1 rows x 153 columns]"
      ]
     },
     "execution_count": 21,
     "metadata": {},
     "output_type": "execute_result"
    }
   ],
   "source": [
    "df_to_save_wr = clean_df_for_csv(df_wr)\n",
    "df_to_save_wr.head(1)"
   ]
  },
  {
   "cell_type": "code",
   "execution_count": 22,
   "id": "8d4cf7e9",
   "metadata": {},
   "outputs": [],
   "source": [
    "df_to_save_wr.to_csv(f\"FantasyData/advanced-stats/WR/{year}.csv\")"
   ]
  },
  {
   "cell_type": "markdown",
   "id": "ca145226",
   "metadata": {},
   "source": [
    "# Tight End Save"
   ]
  },
  {
   "cell_type": "code",
   "execution_count": 23,
   "id": "a4695ca6",
   "metadata": {},
   "outputs": [
    {
     "data": {
      "text/html": [
       "<div>\n",
       "<style scoped>\n",
       "    .dataframe tbody tr th:only-of-type {\n",
       "        vertical-align: middle;\n",
       "    }\n",
       "\n",
       "    .dataframe tbody tr th {\n",
       "        vertical-align: top;\n",
       "    }\n",
       "\n",
       "    .dataframe thead th {\n",
       "        text-align: right;\n",
       "    }\n",
       "</style>\n",
       "<table border=\"1\" class=\"dataframe\">\n",
       "  <thead>\n",
       "    <tr style=\"text-align: right;\">\n",
       "      <th></th>\n",
       "      <th>name</th>\n",
       "      <th>season</th>\n",
       "      <th>season_type</th>\n",
       "      <th>completions</th>\n",
       "      <th>attempts</th>\n",
       "      <th>passing_yards</th>\n",
       "      <th>passing_tds</th>\n",
       "      <th>interceptions</th>\n",
       "      <th>sacks</th>\n",
       "      <th>sack_yards</th>\n",
       "      <th>...</th>\n",
       "      <th>wopr_x per game per game</th>\n",
       "      <th>special_teams_tds per game per game</th>\n",
       "      <th>fantasy_points per game per game</th>\n",
       "      <th>fantasy_points_ppr per game per game</th>\n",
       "      <th>tgt_sh per game per game</th>\n",
       "      <th>wopr_y per game per game</th>\n",
       "      <th>dom per game per game</th>\n",
       "      <th>w8dom per game per game</th>\n",
       "      <th>yptmpa per game per game</th>\n",
       "      <th>total_epa per game per game</th>\n",
       "    </tr>\n",
       "  </thead>\n",
       "  <tbody>\n",
       "    <tr>\n",
       "      <th>0</th>\n",
       "      <td>Marcedes Lewis</td>\n",
       "      <td>2023</td>\n",
       "      <td>REG</td>\n",
       "      <td>0</td>\n",
       "      <td>0</td>\n",
       "      <td>0.0</td>\n",
       "      <td>0</td>\n",
       "      <td>0.0</td>\n",
       "      <td>0.0</td>\n",
       "      <td>0.0</td>\n",
       "      <td>...</td>\n",
       "      <td>0.03899</td>\n",
       "      <td>0.0</td>\n",
       "      <td>0.6</td>\n",
       "      <td>1.1</td>\n",
       "      <td>0.007812</td>\n",
       "      <td>0.012821</td>\n",
       "      <td>0.006036</td>\n",
       "      <td>0.009658</td>\n",
       "      <td>0.09375</td>\n",
       "      <td>0.0</td>\n",
       "    </tr>\n",
       "  </tbody>\n",
       "</table>\n",
       "<p>1 rows × 153 columns</p>\n",
       "</div>"
      ],
      "text/plain": [
       "             name  season season_type  completions  attempts  passing_yards  \\\n",
       "0  Marcedes Lewis    2023         REG            0         0            0.0   \n",
       "\n",
       "   passing_tds  interceptions  sacks  sack_yards  ...  \\\n",
       "0            0            0.0    0.0         0.0  ...   \n",
       "\n",
       "   wopr_x per game per game  special_teams_tds per game per game  \\\n",
       "0                   0.03899                                  0.0   \n",
       "\n",
       "   fantasy_points per game per game  fantasy_points_ppr per game per game  \\\n",
       "0                               0.6                                   1.1   \n",
       "\n",
       "   tgt_sh per game per game  wopr_y per game per game  dom per game per game  \\\n",
       "0                  0.007812                  0.012821               0.006036   \n",
       "\n",
       "   w8dom per game per game  yptmpa per game per game  \\\n",
       "0                 0.009658                   0.09375   \n",
       "\n",
       "   total_epa per game per game  \n",
       "0                          0.0  \n",
       "\n",
       "[1 rows x 153 columns]"
      ]
     },
     "execution_count": 23,
     "metadata": {},
     "output_type": "execute_result"
    }
   ],
   "source": [
    "df_to_save_te = clean_df_for_csv(df_te)\n",
    "df_to_save_te.head(1)"
   ]
  },
  {
   "cell_type": "code",
   "execution_count": 24,
   "id": "a1e78a07",
   "metadata": {},
   "outputs": [],
   "source": [
    "df_to_save_te.to_csv(f\"FantasyData/advanced-stats/TE/{year}.csv\")"
   ]
  },
  {
   "cell_type": "code",
   "execution_count": null,
   "id": "8ef62c35",
   "metadata": {},
   "outputs": [],
   "source": []
  }
 ],
 "metadata": {
  "kernelspec": {
   "display_name": "env",
   "language": "python",
   "name": "env"
  },
  "language_info": {
   "codemirror_mode": {
    "name": "ipython",
    "version": 3
   },
   "file_extension": ".py",
   "mimetype": "text/x-python",
   "name": "python",
   "nbconvert_exporter": "python",
   "pygments_lexer": "ipython3",
   "version": "3.9.7"
  }
 },
 "nbformat": 4,
 "nbformat_minor": 5
}
