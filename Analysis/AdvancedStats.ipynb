{
 "cells": [
  {
   "cell_type": "markdown",
   "id": "7741ab23",
   "metadata": {},
   "source": [
    "# Imports"
   ]
  },
  {
   "cell_type": "code",
   "execution_count": 1,
   "id": "d9a922a7",
   "metadata": {},
   "outputs": [],
   "source": [
    "from utils.nfl_data import (get_weekly_df, get_seasonal_df, get_roster_df, clean_df_for_csv,\n",
    "                            create_mappings, create_position_groups, create_positional_df)"
   ]
  },
  {
   "cell_type": "markdown",
   "id": "8c8b9fc3",
   "metadata": {},
   "source": [
    "# Setting Years List\n",
    "\n",
    "The years past into this list provides us with the data in each of those seasons.\n",
    "\n",
    "**TODO:** need a function that can generate a year or years data for each position. This should then be used for github actions to update weekly stats. Additionally, can be used to retroactively update previous years if data changes."
   ]
  },
  {
   "cell_type": "code",
   "execution_count": 2,
   "id": "ab6b4493",
   "metadata": {},
   "outputs": [],
   "source": [
    "year = 2023\n",
    "years = [year]"
   ]
  },
  {
   "cell_type": "markdown",
   "id": "14d97e4e",
   "metadata": {},
   "source": [
    "# Seasonal and Weekly Data"
   ]
  },
  {
   "cell_type": "code",
   "execution_count": 3,
   "id": "294e97d1",
   "metadata": {},
   "outputs": [
    {
     "name": "stdout",
     "output_type": "stream",
     "text": [
      "Downcasting floats.\n"
     ]
    }
   ],
   "source": [
    "df_weekly = get_weekly_df(years=years, columns=[])"
   ]
  },
  {
   "cell_type": "code",
   "execution_count": 4,
   "id": "7b918ff6",
   "metadata": {},
   "outputs": [],
   "source": [
    "df_seasonal = get_seasonal_df(years=years)"
   ]
  },
  {
   "cell_type": "markdown",
   "id": "1f8e9f7e",
   "metadata": {},
   "source": [
    "# Roster ID\n",
    "\n",
    "For player mapping creations"
   ]
  },
  {
   "cell_type": "code",
   "execution_count": 5,
   "id": "6e4f7eb5",
   "metadata": {},
   "outputs": [],
   "source": [
    "columns = [\"player_name\", \"player_id\", \"position\"]\n",
    "df_roster = get_roster_df(years=years, columns=columns)"
   ]
  },
  {
   "cell_type": "markdown",
   "id": "ceaa15e9",
   "metadata": {},
   "source": [
    "# Create Player Mappings"
   ]
  },
  {
   "cell_type": "code",
   "execution_count": 6,
   "id": "18522141",
   "metadata": {},
   "outputs": [],
   "source": [
    "player_map, id_map = create_mappings(df_roster=df_roster, df_seasonal=df_seasonal, df_weekly=df_weekly)"
   ]
  },
  {
   "cell_type": "markdown",
   "id": "7cc03b2b",
   "metadata": {},
   "source": [
    "## Mapping Checks"
   ]
  },
  {
   "cell_type": "code",
   "execution_count": 7,
   "id": "fdd54821",
   "metadata": {},
   "outputs": [],
   "source": [
    "# player_name = \"Christian Watson\""
   ]
  },
  {
   "cell_type": "code",
   "execution_count": 8,
   "id": "0f843680",
   "metadata": {},
   "outputs": [],
   "source": [
    "# player_id = id_map[player_name]"
   ]
  },
  {
   "cell_type": "code",
   "execution_count": 9,
   "id": "8bf30ddc",
   "metadata": {},
   "outputs": [],
   "source": [
    "# player = player_map[player_id]"
   ]
  },
  {
   "cell_type": "code",
   "execution_count": 10,
   "id": "c1ed2cf8",
   "metadata": {},
   "outputs": [],
   "source": [
    "# player[\"seasonal_df\"]"
   ]
  },
  {
   "cell_type": "code",
   "execution_count": 11,
   "id": "9fe982a0",
   "metadata": {},
   "outputs": [],
   "source": [
    "# player[\"week_dfs\"][-1]"
   ]
  },
  {
   "cell_type": "markdown",
   "id": "97997ee5",
   "metadata": {},
   "source": [
    "# Creating Position Groups"
   ]
  },
  {
   "cell_type": "code",
   "execution_count": 12,
   "id": "23982964",
   "metadata": {},
   "outputs": [],
   "source": [
    "qbs, rbs, wrs, tes = create_position_groups(player_map=player_map)"
   ]
  },
  {
   "cell_type": "code",
   "execution_count": 13,
   "id": "db27f3f5",
   "metadata": {},
   "outputs": [],
   "source": [
    "df_qb = create_positional_df(qbs)\n",
    "df_rb = create_positional_df(rbs)\n",
    "df_wr = create_positional_df(wrs)\n",
    "df_te = create_positional_df(tes)"
   ]
  },
  {
   "cell_type": "code",
   "execution_count": 14,
   "id": "bf1ec5f2",
   "metadata": {},
   "outputs": [
    {
     "data": {
      "text/html": [
       "<div>\n",
       "<style scoped>\n",
       "    .dataframe tbody tr th:only-of-type {\n",
       "        vertical-align: middle;\n",
       "    }\n",
       "\n",
       "    .dataframe tbody tr th {\n",
       "        vertical-align: top;\n",
       "    }\n",
       "\n",
       "    .dataframe thead th {\n",
       "        text-align: right;\n",
       "    }\n",
       "</style>\n",
       "<table border=\"1\" class=\"dataframe\">\n",
       "  <thead>\n",
       "    <tr style=\"text-align: right;\">\n",
       "      <th></th>\n",
       "      <th>Index</th>\n",
       "      <th>player_id</th>\n",
       "      <th>season</th>\n",
       "      <th>season_type</th>\n",
       "      <th>completions</th>\n",
       "      <th>attempts</th>\n",
       "      <th>passing_yards</th>\n",
       "      <th>passing_tds</th>\n",
       "      <th>interceptions</th>\n",
       "      <th>sacks</th>\n",
       "      <th>...</th>\n",
       "      <th>yac_sh</th>\n",
       "      <th>wopr_y</th>\n",
       "      <th>ry_sh</th>\n",
       "      <th>rtd_sh</th>\n",
       "      <th>rfd_sh</th>\n",
       "      <th>rtdfd_sh</th>\n",
       "      <th>dom</th>\n",
       "      <th>w8dom</th>\n",
       "      <th>yptmpa</th>\n",
       "      <th>ppr_sh</th>\n",
       "    </tr>\n",
       "  </thead>\n",
       "  <tbody>\n",
       "    <tr>\n",
       "      <th>0</th>\n",
       "      <td>2</td>\n",
       "      <td>00-0026498</td>\n",
       "      <td>2023</td>\n",
       "      <td>REG</td>\n",
       "      <td>183</td>\n",
       "      <td>309</td>\n",
       "      <td>2260.0</td>\n",
       "      <td>9</td>\n",
       "      <td>8.0</td>\n",
       "      <td>20.0</td>\n",
       "      <td>...</td>\n",
       "      <td>0.0</td>\n",
       "      <td>0.0</td>\n",
       "      <td>0.0</td>\n",
       "      <td>0.0</td>\n",
       "      <td>0.0</td>\n",
       "      <td>0.0</td>\n",
       "      <td>0.0</td>\n",
       "      <td>0.0</td>\n",
       "      <td>0.0</td>\n",
       "      <td>0.162</td>\n",
       "    </tr>\n",
       "  </tbody>\n",
       "</table>\n",
       "<p>1 rows × 59 columns</p>\n",
       "</div>"
      ],
      "text/plain": [
       "   Index   player_id  season season_type  completions  attempts  \\\n",
       "0      2  00-0026498    2023         REG          183       309   \n",
       "\n",
       "   passing_yards  passing_tds  interceptions  sacks  ...  yac_sh  wopr_y  \\\n",
       "0         2260.0            9            8.0   20.0  ...     0.0     0.0   \n",
       "\n",
       "   ry_sh  rtd_sh  rfd_sh  rtdfd_sh  dom  w8dom  yptmpa  ppr_sh  \n",
       "0    0.0     0.0     0.0       0.0  0.0    0.0     0.0   0.162  \n",
       "\n",
       "[1 rows x 59 columns]"
      ]
     },
     "execution_count": 14,
     "metadata": {},
     "output_type": "execute_result"
    }
   ],
   "source": [
    "df_qb.head(1)"
   ]
  },
  {
   "cell_type": "code",
   "execution_count": 15,
   "id": "0f72ca17",
   "metadata": {},
   "outputs": [
    {
     "data": {
      "text/html": [
       "<div>\n",
       "<style scoped>\n",
       "    .dataframe tbody tr th:only-of-type {\n",
       "        vertical-align: middle;\n",
       "    }\n",
       "\n",
       "    .dataframe tbody tr th {\n",
       "        vertical-align: top;\n",
       "    }\n",
       "\n",
       "    .dataframe thead th {\n",
       "        text-align: right;\n",
       "    }\n",
       "</style>\n",
       "<table border=\"1\" class=\"dataframe\">\n",
       "  <thead>\n",
       "    <tr style=\"text-align: right;\">\n",
       "      <th></th>\n",
       "      <th>Index</th>\n",
       "      <th>player_id</th>\n",
       "      <th>season</th>\n",
       "      <th>season_type</th>\n",
       "      <th>completions</th>\n",
       "      <th>attempts</th>\n",
       "      <th>passing_yards</th>\n",
       "      <th>passing_tds</th>\n",
       "      <th>interceptions</th>\n",
       "      <th>sacks</th>\n",
       "      <th>...</th>\n",
       "      <th>yac_sh</th>\n",
       "      <th>wopr_y</th>\n",
       "      <th>ry_sh</th>\n",
       "      <th>rtd_sh</th>\n",
       "      <th>rfd_sh</th>\n",
       "      <th>rtdfd_sh</th>\n",
       "      <th>dom</th>\n",
       "      <th>w8dom</th>\n",
       "      <th>yptmpa</th>\n",
       "      <th>ppr_sh</th>\n",
       "    </tr>\n",
       "  </thead>\n",
       "  <tbody>\n",
       "    <tr>\n",
       "      <th>0</th>\n",
       "      <td>17</td>\n",
       "      <td>00-0029892</td>\n",
       "      <td>2023</td>\n",
       "      <td>REG</td>\n",
       "      <td>0</td>\n",
       "      <td>0</td>\n",
       "      <td>0.0</td>\n",
       "      <td>0</td>\n",
       "      <td>0.0</td>\n",
       "      <td>0.0</td>\n",
       "      <td>...</td>\n",
       "      <td>0.031</td>\n",
       "      <td>0.098</td>\n",
       "      <td>0.035</td>\n",
       "      <td>0.154</td>\n",
       "      <td>0.048</td>\n",
       "      <td>0.062</td>\n",
       "      <td>0.095</td>\n",
       "      <td>0.059</td>\n",
       "      <td>0.325</td>\n",
       "      <td>0.039</td>\n",
       "    </tr>\n",
       "  </tbody>\n",
       "</table>\n",
       "<p>1 rows × 59 columns</p>\n",
       "</div>"
      ],
      "text/plain": [
       "   Index   player_id  season season_type  completions  attempts  \\\n",
       "0     17  00-0029892    2023         REG            0         0   \n",
       "\n",
       "   passing_yards  passing_tds  interceptions  sacks  ...  yac_sh  wopr_y  \\\n",
       "0            0.0            0            0.0    0.0  ...   0.031   0.098   \n",
       "\n",
       "   ry_sh  rtd_sh  rfd_sh  rtdfd_sh    dom  w8dom  yptmpa  ppr_sh  \n",
       "0  0.035   0.154   0.048     0.062  0.095  0.059   0.325   0.039  \n",
       "\n",
       "[1 rows x 59 columns]"
      ]
     },
     "execution_count": 15,
     "metadata": {},
     "output_type": "execute_result"
    }
   ],
   "source": [
    "df_rb.head(1)"
   ]
  },
  {
   "cell_type": "code",
   "execution_count": 16,
   "id": "c3e0faca",
   "metadata": {},
   "outputs": [
    {
     "data": {
      "text/html": [
       "<div>\n",
       "<style scoped>\n",
       "    .dataframe tbody tr th:only-of-type {\n",
       "        vertical-align: middle;\n",
       "    }\n",
       "\n",
       "    .dataframe tbody tr th {\n",
       "        vertical-align: top;\n",
       "    }\n",
       "\n",
       "    .dataframe thead th {\n",
       "        text-align: right;\n",
       "    }\n",
       "</style>\n",
       "<table border=\"1\" class=\"dataframe\">\n",
       "  <thead>\n",
       "    <tr style=\"text-align: right;\">\n",
       "      <th></th>\n",
       "      <th>Index</th>\n",
       "      <th>player_id</th>\n",
       "      <th>season</th>\n",
       "      <th>season_type</th>\n",
       "      <th>completions</th>\n",
       "      <th>attempts</th>\n",
       "      <th>passing_yards</th>\n",
       "      <th>passing_tds</th>\n",
       "      <th>interceptions</th>\n",
       "      <th>sacks</th>\n",
       "      <th>...</th>\n",
       "      <th>yac_sh</th>\n",
       "      <th>wopr_y</th>\n",
       "      <th>ry_sh</th>\n",
       "      <th>rtd_sh</th>\n",
       "      <th>rfd_sh</th>\n",
       "      <th>rtdfd_sh</th>\n",
       "      <th>dom</th>\n",
       "      <th>w8dom</th>\n",
       "      <th>yptmpa</th>\n",
       "      <th>ppr_sh</th>\n",
       "    </tr>\n",
       "  </thead>\n",
       "  <tbody>\n",
       "    <tr>\n",
       "      <th>0</th>\n",
       "      <td>6</td>\n",
       "      <td>00-0027944</td>\n",
       "      <td>2023</td>\n",
       "      <td>REG</td>\n",
       "      <td>0</td>\n",
       "      <td>0</td>\n",
       "      <td>0.0</td>\n",
       "      <td>0</td>\n",
       "      <td>0.0</td>\n",
       "      <td>0.0</td>\n",
       "      <td>...</td>\n",
       "      <td>0.031</td>\n",
       "      <td>0.102</td>\n",
       "      <td>0.021</td>\n",
       "      <td>0.167</td>\n",
       "      <td>0.03</td>\n",
       "      <td>0.051</td>\n",
       "      <td>0.094</td>\n",
       "      <td>0.05</td>\n",
       "      <td>0.176</td>\n",
       "      <td>0.041</td>\n",
       "    </tr>\n",
       "  </tbody>\n",
       "</table>\n",
       "<p>1 rows × 59 columns</p>\n",
       "</div>"
      ],
      "text/plain": [
       "   Index   player_id  season season_type  completions  attempts  \\\n",
       "0      6  00-0027944    2023         REG            0         0   \n",
       "\n",
       "   passing_yards  passing_tds  interceptions  sacks  ...  yac_sh  wopr_y  \\\n",
       "0            0.0            0            0.0    0.0  ...   0.031   0.102   \n",
       "\n",
       "   ry_sh  rtd_sh  rfd_sh  rtdfd_sh    dom  w8dom  yptmpa  ppr_sh  \n",
       "0  0.021   0.167    0.03     0.051  0.094   0.05   0.176   0.041  \n",
       "\n",
       "[1 rows x 59 columns]"
      ]
     },
     "execution_count": 16,
     "metadata": {},
     "output_type": "execute_result"
    }
   ],
   "source": [
    "df_wr.head(1)"
   ]
  },
  {
   "cell_type": "code",
   "execution_count": 17,
   "id": "ff17b80b",
   "metadata": {},
   "outputs": [
    {
     "data": {
      "text/html": [
       "<div>\n",
       "<style scoped>\n",
       "    .dataframe tbody tr th:only-of-type {\n",
       "        vertical-align: middle;\n",
       "    }\n",
       "\n",
       "    .dataframe tbody tr th {\n",
       "        vertical-align: top;\n",
       "    }\n",
       "\n",
       "    .dataframe thead th {\n",
       "        text-align: right;\n",
       "    }\n",
       "</style>\n",
       "<table border=\"1\" class=\"dataframe\">\n",
       "  <thead>\n",
       "    <tr style=\"text-align: right;\">\n",
       "      <th></th>\n",
       "      <th>Index</th>\n",
       "      <th>player_id</th>\n",
       "      <th>season</th>\n",
       "      <th>season_type</th>\n",
       "      <th>completions</th>\n",
       "      <th>attempts</th>\n",
       "      <th>passing_yards</th>\n",
       "      <th>passing_tds</th>\n",
       "      <th>interceptions</th>\n",
       "      <th>sacks</th>\n",
       "      <th>...</th>\n",
       "      <th>yac_sh</th>\n",
       "      <th>wopr_y</th>\n",
       "      <th>ry_sh</th>\n",
       "      <th>rtd_sh</th>\n",
       "      <th>rfd_sh</th>\n",
       "      <th>rtdfd_sh</th>\n",
       "      <th>dom</th>\n",
       "      <th>w8dom</th>\n",
       "      <th>yptmpa</th>\n",
       "      <th>ppr_sh</th>\n",
       "    </tr>\n",
       "  </thead>\n",
       "  <tbody>\n",
       "    <tr>\n",
       "      <th>0</th>\n",
       "      <td>1</td>\n",
       "      <td>00-0024243</td>\n",
       "      <td>2023</td>\n",
       "      <td>REG</td>\n",
       "      <td>0</td>\n",
       "      <td>0</td>\n",
       "      <td>0.0</td>\n",
       "      <td>0</td>\n",
       "      <td>0.0</td>\n",
       "      <td>0.0</td>\n",
       "      <td>...</td>\n",
       "      <td>0.076</td>\n",
       "      <td>0.066</td>\n",
       "      <td>0.036</td>\n",
       "      <td>0.0</td>\n",
       "      <td>0.027</td>\n",
       "      <td>0.023</td>\n",
       "      <td>0.018</td>\n",
       "      <td>0.029</td>\n",
       "      <td>0.276</td>\n",
       "      <td>0.016</td>\n",
       "    </tr>\n",
       "  </tbody>\n",
       "</table>\n",
       "<p>1 rows × 59 columns</p>\n",
       "</div>"
      ],
      "text/plain": [
       "   Index   player_id  season season_type  completions  attempts  \\\n",
       "0      1  00-0024243    2023         REG            0         0   \n",
       "\n",
       "   passing_yards  passing_tds  interceptions  sacks  ...  yac_sh  wopr_y  \\\n",
       "0            0.0            0            0.0    0.0  ...   0.076   0.066   \n",
       "\n",
       "   ry_sh  rtd_sh  rfd_sh  rtdfd_sh    dom  w8dom  yptmpa  ppr_sh  \n",
       "0  0.036     0.0   0.027     0.023  0.018  0.029   0.276   0.016  \n",
       "\n",
       "[1 rows x 59 columns]"
      ]
     },
     "execution_count": 17,
     "metadata": {},
     "output_type": "execute_result"
    }
   ],
   "source": [
    "df_te.head(1)"
   ]
  },
  {
   "cell_type": "markdown",
   "id": "8919b17f",
   "metadata": {},
   "source": [
    "# Saving Data to CSV for Graphing Tools"
   ]
  },
  {
   "cell_type": "markdown",
   "id": "25ea9149",
   "metadata": {},
   "source": [
    "## Quarterback Save"
   ]
  },
  {
   "cell_type": "code",
   "execution_count": 18,
   "id": "4d78024f",
   "metadata": {},
   "outputs": [
    {
     "data": {
      "text/html": [
       "<div>\n",
       "<style scoped>\n",
       "    .dataframe tbody tr th:only-of-type {\n",
       "        vertical-align: middle;\n",
       "    }\n",
       "\n",
       "    .dataframe tbody tr th {\n",
       "        vertical-align: top;\n",
       "    }\n",
       "\n",
       "    .dataframe thead th {\n",
       "        text-align: right;\n",
       "    }\n",
       "</style>\n",
       "<table border=\"1\" class=\"dataframe\">\n",
       "  <thead>\n",
       "    <tr style=\"text-align: right;\">\n",
       "      <th></th>\n",
       "      <th>name</th>\n",
       "      <th>completions</th>\n",
       "      <th>attempts</th>\n",
       "      <th>passing_yards</th>\n",
       "      <th>passing_tds</th>\n",
       "      <th>interceptions</th>\n",
       "      <th>sacks</th>\n",
       "      <th>sack_yards</th>\n",
       "      <th>sack_fumbles</th>\n",
       "      <th>sack_fumbles_lost</th>\n",
       "      <th>...</th>\n",
       "      <th>wopr_x per game</th>\n",
       "      <th>special_teams_tds per game</th>\n",
       "      <th>fantasy_points per game</th>\n",
       "      <th>fantasy_points_ppr per game</th>\n",
       "      <th>tgt_sh per game</th>\n",
       "      <th>wopr_y per game</th>\n",
       "      <th>dom per game</th>\n",
       "      <th>w8dom per game</th>\n",
       "      <th>yptmpa per game</th>\n",
       "      <th>total_epa per game</th>\n",
       "    </tr>\n",
       "  </thead>\n",
       "  <tbody>\n",
       "    <tr>\n",
       "      <th>0</th>\n",
       "      <td>Matthew Stafford</td>\n",
       "      <td>183</td>\n",
       "      <td>309</td>\n",
       "      <td>2260.0</td>\n",
       "      <td>9</td>\n",
       "      <td>8.0</td>\n",
       "      <td>20.0</td>\n",
       "      <td>150.0</td>\n",
       "      <td>0</td>\n",
       "      <td>0</td>\n",
       "      <td>...</td>\n",
       "      <td>0.0</td>\n",
       "      <td>0.0</td>\n",
       "      <td>13.477778</td>\n",
       "      <td>13.477778</td>\n",
       "      <td>0.0</td>\n",
       "      <td>0.0</td>\n",
       "      <td>0.0</td>\n",
       "      <td>0.0</td>\n",
       "      <td>0.0</td>\n",
       "      <td>1.538667</td>\n",
       "    </tr>\n",
       "  </tbody>\n",
       "</table>\n",
       "<p>1 rows × 104 columns</p>\n",
       "</div>"
      ],
      "text/plain": [
       "               name  completions  attempts  passing_yards  passing_tds  \\\n",
       "0  Matthew Stafford          183       309         2260.0            9   \n",
       "\n",
       "   interceptions  sacks  sack_yards  sack_fumbles  sack_fumbles_lost  ...  \\\n",
       "0            8.0   20.0       150.0             0                  0  ...   \n",
       "\n",
       "   wopr_x per game  special_teams_tds per game  fantasy_points per game  \\\n",
       "0              0.0                         0.0                13.477778   \n",
       "\n",
       "   fantasy_points_ppr per game  tgt_sh per game  wopr_y per game  \\\n",
       "0                    13.477778              0.0              0.0   \n",
       "\n",
       "   dom per game  w8dom per game  yptmpa per game  total_epa per game  \n",
       "0           0.0             0.0              0.0            1.538667  \n",
       "\n",
       "[1 rows x 104 columns]"
      ]
     },
     "execution_count": 18,
     "metadata": {},
     "output_type": "execute_result"
    }
   ],
   "source": [
    "df_to_save_qb = clean_df_for_csv(df=df_qb, player_map=player_map)\n",
    "df_to_save_qb.head(1)"
   ]
  },
  {
   "cell_type": "code",
   "execution_count": 19,
   "id": "96aa4cb2",
   "metadata": {},
   "outputs": [],
   "source": [
    "df_to_save_qb.to_csv(f\"FantasyData/advanced-stats/QB/{year}.csv\")"
   ]
  },
  {
   "cell_type": "markdown",
   "id": "fe68462a",
   "metadata": {},
   "source": [
    "## Running Back Save"
   ]
  },
  {
   "cell_type": "code",
   "execution_count": 20,
   "id": "f0dd0d17",
   "metadata": {},
   "outputs": [
    {
     "data": {
      "text/html": [
       "<div>\n",
       "<style scoped>\n",
       "    .dataframe tbody tr th:only-of-type {\n",
       "        vertical-align: middle;\n",
       "    }\n",
       "\n",
       "    .dataframe tbody tr th {\n",
       "        vertical-align: top;\n",
       "    }\n",
       "\n",
       "    .dataframe thead th {\n",
       "        text-align: right;\n",
       "    }\n",
       "</style>\n",
       "<table border=\"1\" class=\"dataframe\">\n",
       "  <thead>\n",
       "    <tr style=\"text-align: right;\">\n",
       "      <th></th>\n",
       "      <th>name</th>\n",
       "      <th>completions</th>\n",
       "      <th>attempts</th>\n",
       "      <th>passing_yards</th>\n",
       "      <th>passing_tds</th>\n",
       "      <th>interceptions</th>\n",
       "      <th>sacks</th>\n",
       "      <th>sack_yards</th>\n",
       "      <th>sack_fumbles</th>\n",
       "      <th>sack_fumbles_lost</th>\n",
       "      <th>...</th>\n",
       "      <th>wopr_x per game</th>\n",
       "      <th>special_teams_tds per game</th>\n",
       "      <th>fantasy_points per game</th>\n",
       "      <th>fantasy_points_ppr per game</th>\n",
       "      <th>tgt_sh per game</th>\n",
       "      <th>wopr_y per game</th>\n",
       "      <th>dom per game</th>\n",
       "      <th>w8dom per game</th>\n",
       "      <th>yptmpa per game</th>\n",
       "      <th>total_epa per game</th>\n",
       "    </tr>\n",
       "  </thead>\n",
       "  <tbody>\n",
       "    <tr>\n",
       "      <th>0</th>\n",
       "      <td>Kyle Juszczyk</td>\n",
       "      <td>0</td>\n",
       "      <td>0</td>\n",
       "      <td>0.0</td>\n",
       "      <td>0</td>\n",
       "      <td>0.0</td>\n",
       "      <td>0.0</td>\n",
       "      <td>0.0</td>\n",
       "      <td>0</td>\n",
       "      <td>0</td>\n",
       "      <td>...</td>\n",
       "      <td>0.107</td>\n",
       "      <td>0.0</td>\n",
       "      <td>2.728571</td>\n",
       "      <td>3.871429</td>\n",
       "      <td>0.007143</td>\n",
       "      <td>0.014</td>\n",
       "      <td>0.013571</td>\n",
       "      <td>0.008429</td>\n",
       "      <td>0.046429</td>\n",
       "      <td>-0.272429</td>\n",
       "    </tr>\n",
       "  </tbody>\n",
       "</table>\n",
       "<p>1 rows × 104 columns</p>\n",
       "</div>"
      ],
      "text/plain": [
       "            name  completions  attempts  passing_yards  passing_tds  \\\n",
       "0  Kyle Juszczyk            0         0            0.0            0   \n",
       "\n",
       "   interceptions  sacks  sack_yards  sack_fumbles  sack_fumbles_lost  ...  \\\n",
       "0            0.0    0.0         0.0             0                  0  ...   \n",
       "\n",
       "   wopr_x per game  special_teams_tds per game  fantasy_points per game  \\\n",
       "0            0.107                         0.0                 2.728571   \n",
       "\n",
       "   fantasy_points_ppr per game  tgt_sh per game  wopr_y per game  \\\n",
       "0                     3.871429         0.007143            0.014   \n",
       "\n",
       "   dom per game  w8dom per game  yptmpa per game  total_epa per game  \n",
       "0      0.013571        0.008429         0.046429           -0.272429  \n",
       "\n",
       "[1 rows x 104 columns]"
      ]
     },
     "execution_count": 20,
     "metadata": {},
     "output_type": "execute_result"
    }
   ],
   "source": [
    "df_to_save_rb = clean_df_for_csv(df=df_rb, player_map=player_map)\n",
    "df_to_save_rb.head(1)"
   ]
  },
  {
   "cell_type": "code",
   "execution_count": 21,
   "id": "497c6068",
   "metadata": {},
   "outputs": [],
   "source": [
    "df_to_save_rb.to_csv(f\"FantasyData/advanced-stats/RB/{year}.csv\")"
   ]
  },
  {
   "cell_type": "markdown",
   "id": "329d172b",
   "metadata": {},
   "source": [
    "# Wide Receiver Save"
   ]
  },
  {
   "cell_type": "code",
   "execution_count": 22,
   "id": "04f6e54b",
   "metadata": {},
   "outputs": [
    {
     "data": {
      "text/html": [
       "<div>\n",
       "<style scoped>\n",
       "    .dataframe tbody tr th:only-of-type {\n",
       "        vertical-align: middle;\n",
       "    }\n",
       "\n",
       "    .dataframe tbody tr th {\n",
       "        vertical-align: top;\n",
       "    }\n",
       "\n",
       "    .dataframe thead th {\n",
       "        text-align: right;\n",
       "    }\n",
       "</style>\n",
       "<table border=\"1\" class=\"dataframe\">\n",
       "  <thead>\n",
       "    <tr style=\"text-align: right;\">\n",
       "      <th></th>\n",
       "      <th>name</th>\n",
       "      <th>completions</th>\n",
       "      <th>attempts</th>\n",
       "      <th>passing_yards</th>\n",
       "      <th>passing_tds</th>\n",
       "      <th>interceptions</th>\n",
       "      <th>sacks</th>\n",
       "      <th>sack_yards</th>\n",
       "      <th>sack_fumbles</th>\n",
       "      <th>sack_fumbles_lost</th>\n",
       "      <th>...</th>\n",
       "      <th>wopr_x per game</th>\n",
       "      <th>special_teams_tds per game</th>\n",
       "      <th>fantasy_points per game</th>\n",
       "      <th>fantasy_points_ppr per game</th>\n",
       "      <th>tgt_sh per game</th>\n",
       "      <th>wopr_y per game</th>\n",
       "      <th>dom per game</th>\n",
       "      <th>w8dom per game</th>\n",
       "      <th>yptmpa per game</th>\n",
       "      <th>total_epa per game</th>\n",
       "    </tr>\n",
       "  </thead>\n",
       "  <tbody>\n",
       "    <tr>\n",
       "      <th>0</th>\n",
       "      <td>Julio Jones</td>\n",
       "      <td>0</td>\n",
       "      <td>0</td>\n",
       "      <td>0.0</td>\n",
       "      <td>0</td>\n",
       "      <td>0.0</td>\n",
       "      <td>0.0</td>\n",
       "      <td>0.0</td>\n",
       "      <td>0</td>\n",
       "      <td>0</td>\n",
       "      <td>...</td>\n",
       "      <td>0.105</td>\n",
       "      <td>0.0</td>\n",
       "      <td>2.533333</td>\n",
       "      <td>3.866667</td>\n",
       "      <td>0.018333</td>\n",
       "      <td>0.034</td>\n",
       "      <td>0.031333</td>\n",
       "      <td>0.016667</td>\n",
       "      <td>0.058667</td>\n",
       "      <td>0.0</td>\n",
       "    </tr>\n",
       "  </tbody>\n",
       "</table>\n",
       "<p>1 rows × 104 columns</p>\n",
       "</div>"
      ],
      "text/plain": [
       "          name  completions  attempts  passing_yards  passing_tds  \\\n",
       "0  Julio Jones            0         0            0.0            0   \n",
       "\n",
       "   interceptions  sacks  sack_yards  sack_fumbles  sack_fumbles_lost  ...  \\\n",
       "0            0.0    0.0         0.0             0                  0  ...   \n",
       "\n",
       "   wopr_x per game  special_teams_tds per game  fantasy_points per game  \\\n",
       "0            0.105                         0.0                 2.533333   \n",
       "\n",
       "   fantasy_points_ppr per game  tgt_sh per game  wopr_y per game  \\\n",
       "0                     3.866667         0.018333            0.034   \n",
       "\n",
       "   dom per game  w8dom per game  yptmpa per game  total_epa per game  \n",
       "0      0.031333        0.016667         0.058667                 0.0  \n",
       "\n",
       "[1 rows x 104 columns]"
      ]
     },
     "execution_count": 22,
     "metadata": {},
     "output_type": "execute_result"
    }
   ],
   "source": [
    "df_to_save_wr = clean_df_for_csv(df=df_wr, player_map=player_map)\n",
    "df_to_save_wr.head(1)"
   ]
  },
  {
   "cell_type": "code",
   "execution_count": 23,
   "id": "94129a14",
   "metadata": {},
   "outputs": [],
   "source": [
    "df_to_save_wr.to_csv(f\"FantasyData/advanced-stats/WR/{year}.csv\")"
   ]
  },
  {
   "cell_type": "markdown",
   "id": "28d5004b",
   "metadata": {},
   "source": [
    "# Tight End Save"
   ]
  },
  {
   "cell_type": "code",
   "execution_count": 24,
   "id": "83601dfc",
   "metadata": {},
   "outputs": [
    {
     "data": {
      "text/html": [
       "<div>\n",
       "<style scoped>\n",
       "    .dataframe tbody tr th:only-of-type {\n",
       "        vertical-align: middle;\n",
       "    }\n",
       "\n",
       "    .dataframe tbody tr th {\n",
       "        vertical-align: top;\n",
       "    }\n",
       "\n",
       "    .dataframe thead th {\n",
       "        text-align: right;\n",
       "    }\n",
       "</style>\n",
       "<table border=\"1\" class=\"dataframe\">\n",
       "  <thead>\n",
       "    <tr style=\"text-align: right;\">\n",
       "      <th></th>\n",
       "      <th>name</th>\n",
       "      <th>completions</th>\n",
       "      <th>attempts</th>\n",
       "      <th>passing_yards</th>\n",
       "      <th>passing_tds</th>\n",
       "      <th>interceptions</th>\n",
       "      <th>sacks</th>\n",
       "      <th>sack_yards</th>\n",
       "      <th>sack_fumbles</th>\n",
       "      <th>sack_fumbles_lost</th>\n",
       "      <th>...</th>\n",
       "      <th>wopr_x per game</th>\n",
       "      <th>special_teams_tds per game</th>\n",
       "      <th>fantasy_points per game</th>\n",
       "      <th>fantasy_points_ppr per game</th>\n",
       "      <th>tgt_sh per game</th>\n",
       "      <th>wopr_y per game</th>\n",
       "      <th>dom per game</th>\n",
       "      <th>w8dom per game</th>\n",
       "      <th>yptmpa per game</th>\n",
       "      <th>total_epa per game</th>\n",
       "    </tr>\n",
       "  </thead>\n",
       "  <tbody>\n",
       "    <tr>\n",
       "      <th>0</th>\n",
       "      <td>Marcedes Lewis</td>\n",
       "      <td>0</td>\n",
       "      <td>0</td>\n",
       "      <td>0.0</td>\n",
       "      <td>0</td>\n",
       "      <td>0.0</td>\n",
       "      <td>0.0</td>\n",
       "      <td>0.0</td>\n",
       "      <td>0</td>\n",
       "      <td>0</td>\n",
       "      <td>...</td>\n",
       "      <td>0.083333</td>\n",
       "      <td>0.0</td>\n",
       "      <td>0.8</td>\n",
       "      <td>1.466667</td>\n",
       "      <td>0.011333</td>\n",
       "      <td>0.022</td>\n",
       "      <td>0.006</td>\n",
       "      <td>0.009667</td>\n",
       "      <td>0.092</td>\n",
       "      <td>0.0</td>\n",
       "    </tr>\n",
       "  </tbody>\n",
       "</table>\n",
       "<p>1 rows × 104 columns</p>\n",
       "</div>"
      ],
      "text/plain": [
       "             name  completions  attempts  passing_yards  passing_tds  \\\n",
       "0  Marcedes Lewis            0         0            0.0            0   \n",
       "\n",
       "   interceptions  sacks  sack_yards  sack_fumbles  sack_fumbles_lost  ...  \\\n",
       "0            0.0    0.0         0.0             0                  0  ...   \n",
       "\n",
       "   wopr_x per game  special_teams_tds per game  fantasy_points per game  \\\n",
       "0         0.083333                         0.0                      0.8   \n",
       "\n",
       "   fantasy_points_ppr per game  tgt_sh per game  wopr_y per game  \\\n",
       "0                     1.466667         0.011333            0.022   \n",
       "\n",
       "   dom per game  w8dom per game  yptmpa per game  total_epa per game  \n",
       "0         0.006        0.009667            0.092                 0.0  \n",
       "\n",
       "[1 rows x 104 columns]"
      ]
     },
     "execution_count": 24,
     "metadata": {},
     "output_type": "execute_result"
    }
   ],
   "source": [
    "df_to_save_te = clean_df_for_csv(df=df_te, player_map=player_map)\n",
    "df_to_save_te.head(1)"
   ]
  },
  {
   "cell_type": "code",
   "execution_count": 25,
   "id": "3c28380f",
   "metadata": {},
   "outputs": [],
   "source": [
    "df_to_save_te.to_csv(f\"FantasyData/advanced-stats/TE/{year}.csv\")"
   ]
  },
  {
   "cell_type": "code",
   "execution_count": null,
   "id": "6b4f32e9",
   "metadata": {},
   "outputs": [],
   "source": []
  }
 ],
 "metadata": {
  "kernelspec": {
   "display_name": "env",
   "language": "python",
   "name": "env"
  },
  "language_info": {
   "codemirror_mode": {
    "name": "ipython",
    "version": 3
   },
   "file_extension": ".py",
   "mimetype": "text/x-python",
   "name": "python",
   "nbconvert_exporter": "python",
   "pygments_lexer": "ipython3",
   "version": "3.9.7"
  }
 },
 "nbformat": 4,
 "nbformat_minor": 5
}
